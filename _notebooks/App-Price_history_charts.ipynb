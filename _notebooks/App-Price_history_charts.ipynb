{
 "cells": [
  {
   "cell_type": "markdown",
   "metadata": {
    "tags": [
     "papermill-error-cell-tag"
    ]
   },
   "source": [
    "<span style=\"color:red; font-family:Helvetica Neue, Helvetica, Arial, sans-serif; font-size:2em;\">An Exception was encountered at '<a href=\"#papermill-error-cell\">In [2]</a>'.</span>"
   ]
  },
  {
   "cell_type": "markdown",
   "metadata": {
    "papermill": {
     "duration": 0.018872,
     "end_time": "2021-01-07T13:25:54.924620",
     "exception": false,
     "start_time": "2021-01-07T13:25:54.905748",
     "status": "completed"
    },
    "tags": []
   },
   "source": [
    "# Kainų istorija\n",
    "> Kainų istorija BTC, ETH, XRP ir ICO\n",
    "\n",
    "- toc: true \n",
    "- badges: true\n",
    "- comments: false\n",
    "- categories: [jupyter]\n",
    "- image: images/screenshot3.png"
   ]
  },
  {
   "cell_type": "code",
   "execution_count": 1,
   "metadata": {
    "execution": {
     "iopub.execute_input": "2021-01-07T13:25:54.967996Z",
     "iopub.status.busy": "2021-01-07T13:25:54.967301Z",
     "iopub.status.idle": "2021-01-07T13:25:56.735111Z",
     "shell.execute_reply": "2021-01-07T13:25:56.734484Z"
    },
    "papermill": {
     "duration": 1.795444,
     "end_time": "2021-01-07T13:25:56.735324",
     "exception": false,
     "start_time": "2021-01-07T13:25:54.939880",
     "status": "completed"
    },
    "tags": []
   },
   "outputs": [],
   "source": [
    "#hide\n",
    "%load_ext autoreload\n",
    "%autoreload 2\n",
    "import plotly.graph_objects as go\n",
    "import pandas as pd\n",
    "from scripts.read_data import read_api\n",
    "from IPython.display import HTML\n",
    "import altair as alt\n",
    "alt.data_transformers.disable_max_rows()\n",
    "import json\n",
    "import matplotlib.pyplot as plt \n",
    "import numpy as np\n",
    "import seaborn as sns \n",
    "import plotly.express as px"
   ]
  },
  {
   "cell_type": "markdown",
   "metadata": {
    "tags": [
     "papermill-error-cell-tag"
    ]
   },
   "source": [
    "<span id=\"papermill-error-cell\" style=\"color:red; font-family:Helvetica Neue, Helvetica, Arial, sans-serif; font-size:2em;\">Execution using papermill encountered an exception here and stopped:</span>"
   ]
  },
  {
   "cell_type": "code",
   "execution_count": 2,
   "metadata": {
    "execution": {
     "iopub.execute_input": "2021-01-07T13:25:56.772545Z",
     "iopub.status.busy": "2021-01-07T13:25:56.771939Z",
     "iopub.status.idle": "2021-01-07T13:26:11.351939Z",
     "shell.execute_reply": "2021-01-07T13:26:11.349643Z"
    },
    "papermill": {
     "duration": 14.599998,
     "end_time": "2021-01-07T13:26:11.352132",
     "exception": true,
     "start_time": "2021-01-07T13:25:56.752134",
     "status": "failed"
    },
    "tags": []
   },
   "outputs": [
    {
     "name": "stderr",
     "output_type": "stream",
     "text": [
      "/home/runner/work/corr-app/corr-app/_notebooks/scripts/read_data.py:187: SettingWithCopyWarning:\n",
      "\n",
      "\n",
      "A value is trying to be set on a copy of a slice from a DataFrame.\n",
      "Try using .loc[row_indexer,col_indexer] = value instead\n",
      "\n",
      "See the caveats in the documentation: https://pandas.pydata.org/pandas-docs/stable/user_guide/indexing.html#returning-a-view-versus-a-copy\n",
      "\n"
     ]
    },
    {
     "ename": "KeyError",
     "evalue": "'prices'",
     "output_type": "error",
     "traceback": [
      "\u001b[0;31m---------------------------------------------------------------------------\u001b[0m",
      "\u001b[0;31mKeyError\u001b[0m                                  Traceback (most recent call last)",
      "\u001b[0;32m<ipython-input-2-ab8d13742de1>\u001b[0m in \u001b[0;36m<module>\u001b[0;34m\u001b[0m\n\u001b[1;32m      1\u001b[0m \u001b[0;31m#hide\u001b[0m\u001b[0;34m\u001b[0m\u001b[0;34m\u001b[0m\u001b[0;34m\u001b[0m\u001b[0m\n\u001b[0;32m----> 2\u001b[0;31m \u001b[0mdf_all\u001b[0m \u001b[0;34m=\u001b[0m \u001b[0mread_api\u001b[0m\u001b[0;34m(\u001b[0m\u001b[0;34m)\u001b[0m\u001b[0;34m\u001b[0m\u001b[0;34m\u001b[0m\u001b[0m\n\u001b[0m\u001b[1;32m      3\u001b[0m \u001b[0;31m#df_all\u001b[0m\u001b[0;34m\u001b[0m\u001b[0;34m\u001b[0m\u001b[0;34m\u001b[0m\u001b[0m\n\u001b[1;32m      4\u001b[0m \u001b[0;31m#del df_all['XAU']\u001b[0m\u001b[0;34m\u001b[0m\u001b[0;34m\u001b[0m\u001b[0;34m\u001b[0m\u001b[0m\n\u001b[1;32m      5\u001b[0m \u001b[0;31m#del df_all['SP500']\u001b[0m\u001b[0;34m\u001b[0m\u001b[0;34m\u001b[0m\u001b[0;34m\u001b[0m\u001b[0m\n",
      "\u001b[0;32m~/work/corr-app/corr-app/_notebooks/scripts/read_data.py\u001b[0m in \u001b[0;36mread_api\u001b[0;34m(short_frm)\u001b[0m\n\u001b[1;32m    142\u001b[0m     \u001b[0;31m#XAU = XAU[XAU.close != 79987.0]\u001b[0m\u001b[0;34m\u001b[0m\u001b[0;34m\u001b[0m\u001b[0;34m\u001b[0m\u001b[0m\n\u001b[1;32m    143\u001b[0m     \u001b[0;31m#XAU = XAU[XAU.close > 1080]\u001b[0m\u001b[0;34m\u001b[0m\u001b[0;34m\u001b[0m\u001b[0;34m\u001b[0m\u001b[0m\n\u001b[0;32m--> 144\u001b[0;31m     \u001b[0mmarkets\u001b[0m \u001b[0;34m=\u001b[0m \u001b[0mread_markets_api\u001b[0m\u001b[0;34m(\u001b[0m\u001b[0;34m)\u001b[0m\u001b[0;34m\u001b[0m\u001b[0;34m\u001b[0m\u001b[0m\n\u001b[0m\u001b[1;32m    145\u001b[0m     \u001b[0mdf\u001b[0m \u001b[0;34m=\u001b[0m \u001b[0mBTC\u001b[0m\u001b[0;34m.\u001b[0m\u001b[0mappend\u001b[0m\u001b[0;34m(\u001b[0m\u001b[0mEOS\u001b[0m\u001b[0;34m)\u001b[0m\u001b[0;34m.\u001b[0m\u001b[0mappend\u001b[0m\u001b[0;34m(\u001b[0m\u001b[0mLSK\u001b[0m\u001b[0;34m)\u001b[0m\u001b[0;34m.\u001b[0m\u001b[0mappend\u001b[0m\u001b[0;34m(\u001b[0m\u001b[0mETH\u001b[0m\u001b[0;34m)\u001b[0m\u001b[0;34m.\u001b[0m\u001b[0mappend\u001b[0m\u001b[0;34m(\u001b[0m\u001b[0mADA\u001b[0m\u001b[0;34m)\u001b[0m\u001b[0;34m.\u001b[0m\u001b[0mappend\u001b[0m\u001b[0;34m(\u001b[0m\u001b[0mNEO\u001b[0m\u001b[0;34m)\u001b[0m\u001b[0;34m.\u001b[0m\u001b[0mappend\u001b[0m\u001b[0;34m(\u001b[0m\u001b[0mTRX\u001b[0m\u001b[0;34m)\u001b[0m\u001b[0;34m.\u001b[0m\u001b[0mappend\u001b[0m\u001b[0;34m(\u001b[0m\u001b[0mXRP\u001b[0m\u001b[0;34m)\u001b[0m\u001b[0;34m.\u001b[0m\u001b[0mappend\u001b[0m\u001b[0;34m(\u001b[0m\u001b[0mmarkets\u001b[0m\u001b[0;34m)\u001b[0m\u001b[0;34m\u001b[0m\u001b[0;34m\u001b[0m\u001b[0m\n\u001b[1;32m    146\u001b[0m     \u001b[0mdf\u001b[0m\u001b[0;34m[\u001b[0m\u001b[0;34m'date'\u001b[0m\u001b[0;34m]\u001b[0m \u001b[0;34m=\u001b[0m \u001b[0mdf\u001b[0m\u001b[0;34m[\u001b[0m\u001b[0;34m'date'\u001b[0m\u001b[0;34m]\u001b[0m\u001b[0;34m.\u001b[0m\u001b[0mdt\u001b[0m\u001b[0;34m.\u001b[0m\u001b[0mdate\u001b[0m\u001b[0;34m\u001b[0m\u001b[0;34m\u001b[0m\u001b[0m\n",
      "\u001b[0;32m~/work/corr-app/corr-app/_notebooks/scripts/read_data.py\u001b[0m in \u001b[0;36mread_markets_api\u001b[0;34m()\u001b[0m\n\u001b[1;32m    173\u001b[0m \u001b[0;32mdef\u001b[0m \u001b[0mread_markets_api\u001b[0m\u001b[0;34m(\u001b[0m\u001b[0;34m)\u001b[0m\u001b[0;34m:\u001b[0m\u001b[0;34m\u001b[0m\u001b[0;34m\u001b[0m\u001b[0m\n\u001b[1;32m    174\u001b[0m     \u001b[0;31m# ^GSPC-->sp500 ; GC=F-->XAU\u001b[0m\u001b[0;34m\u001b[0m\u001b[0;34m\u001b[0m\u001b[0;34m\u001b[0m\u001b[0m\n\u001b[0;32m--> 175\u001b[0;31m     \u001b[0mSP500\u001b[0m \u001b[0;34m=\u001b[0m \u001b[0mformat_markets\u001b[0m\u001b[0;34m(\u001b[0m\u001b[0;34m'^GSPC'\u001b[0m\u001b[0;34m,\u001b[0m \u001b[0;34m'SP500'\u001b[0m\u001b[0;34m)\u001b[0m\u001b[0;34m\u001b[0m\u001b[0;34m\u001b[0m\u001b[0m\n\u001b[0m\u001b[1;32m    176\u001b[0m     \u001b[0mXAU\u001b[0m \u001b[0;34m=\u001b[0m \u001b[0mformat_markets\u001b[0m\u001b[0;34m(\u001b[0m\u001b[0;34m'GC=F'\u001b[0m\u001b[0;34m,\u001b[0m \u001b[0;34m'XAU'\u001b[0m\u001b[0;34m)\u001b[0m\u001b[0;34m\u001b[0m\u001b[0;34m\u001b[0m\u001b[0m\n\u001b[1;32m    177\u001b[0m     \u001b[0mmarkets\u001b[0m \u001b[0;34m=\u001b[0m \u001b[0mSP500\u001b[0m\u001b[0;34m.\u001b[0m\u001b[0mappend\u001b[0m\u001b[0;34m(\u001b[0m\u001b[0mXAU\u001b[0m\u001b[0;34m)\u001b[0m\u001b[0;34m\u001b[0m\u001b[0;34m\u001b[0m\u001b[0m\n",
      "\u001b[0;32m~/work/corr-app/corr-app/_notebooks/scripts/read_data.py\u001b[0m in \u001b[0;36mformat_markets\u001b[0;34m(symbol, crypto)\u001b[0m\n\u001b[1;32m    208\u001b[0m     \u001b[0mresponse\u001b[0m \u001b[0;34m=\u001b[0m \u001b[0mrequests\u001b[0m\u001b[0;34m.\u001b[0m\u001b[0mrequest\u001b[0m\u001b[0;34m(\u001b[0m\u001b[0;34m\"GET\"\u001b[0m\u001b[0;34m,\u001b[0m \u001b[0murl\u001b[0m\u001b[0;34m,\u001b[0m \u001b[0mheaders\u001b[0m\u001b[0;34m=\u001b[0m\u001b[0mheaders\u001b[0m\u001b[0;34m,\u001b[0m \u001b[0mparams\u001b[0m\u001b[0;34m=\u001b[0m\u001b[0mquerystring\u001b[0m\u001b[0;34m)\u001b[0m\u001b[0;34m\u001b[0m\u001b[0;34m\u001b[0m\u001b[0m\n\u001b[1;32m    209\u001b[0m \u001b[0;34m\u001b[0m\u001b[0m\n\u001b[0;32m--> 210\u001b[0;31m     \u001b[0mjson_data\u001b[0m \u001b[0;34m=\u001b[0m \u001b[0mjson\u001b[0m\u001b[0;34m.\u001b[0m\u001b[0mloads\u001b[0m\u001b[0;34m(\u001b[0m\u001b[0mresponse\u001b[0m\u001b[0;34m.\u001b[0m\u001b[0mcontent\u001b[0m\u001b[0;34m)\u001b[0m\u001b[0;34m[\u001b[0m\u001b[0;34m'prices'\u001b[0m\u001b[0;34m]\u001b[0m\u001b[0;34m\u001b[0m\u001b[0;34m\u001b[0m\u001b[0m\n\u001b[0m\u001b[1;32m    211\u001b[0m     \u001b[0mdf_resp\u001b[0m \u001b[0;34m=\u001b[0m \u001b[0mpd\u001b[0m\u001b[0;34m.\u001b[0m\u001b[0mDataFrame\u001b[0m\u001b[0;34m(\u001b[0m\u001b[0mjson_data\u001b[0m\u001b[0;34m)\u001b[0m\u001b[0;34m\u001b[0m\u001b[0;34m\u001b[0m\u001b[0m\n\u001b[1;32m    212\u001b[0m     \u001b[0mdf_resp\u001b[0m\u001b[0;34m[\u001b[0m\u001b[0;34m'date'\u001b[0m\u001b[0;34m]\u001b[0m \u001b[0;34m=\u001b[0m \u001b[0mpd\u001b[0m\u001b[0;34m.\u001b[0m\u001b[0mto_datetime\u001b[0m\u001b[0;34m(\u001b[0m\u001b[0mdf_resp\u001b[0m\u001b[0;34m.\u001b[0m\u001b[0mdate\u001b[0m\u001b[0;34m,\u001b[0m \u001b[0munit\u001b[0m\u001b[0;34m=\u001b[0m\u001b[0;34m's'\u001b[0m\u001b[0;34m)\u001b[0m\u001b[0;34m\u001b[0m\u001b[0;34m\u001b[0m\u001b[0m\n",
      "\u001b[0;31mKeyError\u001b[0m: 'prices'"
     ]
    }
   ],
   "source": [
    "\n",
    "#hide\n",
    "df_all = read_api()\n",
    "#df_all\n",
    "#del df_all['XAU']\n",
    "#del df_all['SP500']\n",
    "df_norm = (df_all - df_all.mean()) / (df_all.max() - df_all.min())"
   ]
  },
  {
   "cell_type": "code",
   "execution_count": null,
   "metadata": {
    "papermill": {
     "duration": null,
     "end_time": null,
     "exception": null,
     "start_time": null,
     "status": "pending"
    },
    "tags": []
   },
   "outputs": [],
   "source": []
  },
  {
   "cell_type": "code",
   "execution_count": null,
   "metadata": {
    "papermill": {
     "duration": null,
     "end_time": null,
     "exception": null,
     "start_time": null,
     "status": "pending"
    },
    "tags": []
   },
   "outputs": [],
   "source": [
    "#hide\n",
    "long_form = df_all.reset_index().melt('date', var_name='currency', value_name='price') \n",
    "df_partial = long_form[long_form.currency.isin(['ADA', 'EOD', 'XRP', 'LSK', 'NEO', 'TRX', 'ETH', 'BTC', 'SP500', 'XAU'])]\n",
    "df_partial[\"date\"] = pd.to_datetime(df_partial[\"date\"])"
   ]
  },
  {
   "cell_type": "markdown",
   "metadata": {
    "papermill": {
     "duration": null,
     "end_time": null,
     "exception": null,
     "start_time": null,
     "status": "pending"
    },
    "tags": []
   },
   "source": [
    "> Kainų istorija. "
   ]
  },
  {
   "cell_type": "markdown",
   "metadata": {
    "papermill": {
     "duration": null,
     "end_time": null,
     "exception": null,
     "start_time": null,
     "status": "pending"
    },
    "tags": []
   },
   "source": [
    "> Mąstelio keitimas su pelės ratuku, kriptovaliutų pasirinkimas dešinėje (\"shift\" norint pasirinkti kelias)."
   ]
  },
  {
   "cell_type": "code",
   "execution_count": null,
   "metadata": {
    "papermill": {
     "duration": null,
     "end_time": null,
     "exception": null,
     "start_time": null,
     "status": "pending"
    },
    "tags": []
   },
   "outputs": [],
   "source": [
    "#hide_input\n",
    "selection = alt.selection_multi(fields=['currency'], bind='legend')\n",
    "alt.Chart(df_partial).configure_legend(\n",
    "    gradientLength=0,\n",
    "    gradientThickness=0\n",
    ").mark_line(strokeWidth=1.5).encode(\n",
    "    x='date:T',\n",
    "    y='price:Q',\n",
    "    color='currency:N',\n",
    "    opacity=alt.condition(selection, alt.value(1), alt.value(0.1) )\n",
    ").interactive().properties(\n",
    "    width=700,\n",
    "    height=680\n",
    ").configure_legend(titleFontSize=12).add_selection(\n",
    "    selection\n",
    ")"
   ]
  },
  {
   "cell_type": "code",
   "execution_count": null,
   "metadata": {
    "papermill": {
     "duration": null,
     "end_time": null,
     "exception": null,
     "start_time": null,
     "status": "pending"
    },
    "tags": []
   },
   "outputs": [],
   "source": []
  },
  {
   "cell_type": "markdown",
   "metadata": {
    "papermill": {
     "duration": null,
     "end_time": null,
     "exception": null,
     "start_time": null,
     "status": "pending"
    },
    "tags": []
   },
   "source": [
    "> Kainos per paskutines 7 dienas"
   ]
  },
  {
   "cell_type": "code",
   "execution_count": null,
   "metadata": {
    "papermill": {
     "duration": null,
     "end_time": null,
     "exception": null,
     "start_time": null,
     "status": "pending"
    },
    "tags": []
   },
   "outputs": [],
   "source": [
    "#hide_input\n",
    "df_all.tail(7)"
   ]
  },
  {
   "cell_type": "markdown",
   "metadata": {
    "papermill": {
     "duration": null,
     "end_time": null,
     "exception": null,
     "start_time": null,
     "status": "pending"
    },
    "tags": []
   },
   "source": [
    "## Normalizuota kainų istorija"
   ]
  },
  {
   "cell_type": "markdown",
   "metadata": {
    "papermill": {
     "duration": null,
     "end_time": null,
     "exception": null,
     "start_time": null,
     "status": "pending"
    },
    "tags": []
   },
   "source": [
    "> (Dešinėje galimas kelių kriptovaliutų pasirinkimas) "
   ]
  },
  {
   "cell_type": "code",
   "execution_count": null,
   "metadata": {
    "papermill": {
     "duration": null,
     "end_time": null,
     "exception": null,
     "start_time": null,
     "status": "pending"
    },
    "tags": []
   },
   "outputs": [],
   "source": [
    "#hide_input\n",
    "fig = go.Figure()\n",
    "\n",
    "fig.add_trace(\n",
    "    go.Scatter(x=list(df_norm.index),\n",
    "               y=list(df_norm.ADA),\n",
    "               name=\"ADA\",\n",
    "               line=dict(color=\"DarkOrange\")))\n",
    "\n",
    "fig.add_trace(\n",
    "    go.Scatter(x=list(df_norm.index),\n",
    "               y=list(df_norm.EOS),\n",
    "               name=\"EOS\",\n",
    "               line=dict(color=\"Crimson\")))\n",
    "\n",
    "\n",
    "fig.add_trace(\n",
    "    go.Scatter(x=list(df_norm.index),\n",
    "               y=list(df_norm.XRP),\n",
    "               name=\"XRP\",\n",
    "               line=dict(color=\"RebeccaPurple\")))\n",
    "\n",
    "fig.add_trace(\n",
    "    go.Scatter(x=list(df_norm.index),\n",
    "               y=list(df_norm.LSK),\n",
    "               name=\"LSK\",\n",
    "               line=dict(color=\"Purple\")))\n",
    "\n",
    "fig.add_trace(\n",
    "    go.Scatter(x=list(df_norm.index),\n",
    "               y=list(df_norm.NEO),\n",
    "               name=\"NEO\",\n",
    "               line=dict(color=\"Red\")))\n",
    "\n",
    "fig.add_trace(\n",
    "    go.Scatter(x=list(df_norm.index),\n",
    "               y=list(df_norm.TRX),\n",
    "               name=\"TRX\",\n",
    "               line=dict(color=\"Green\")))\n",
    "\n",
    "fig.add_trace(\n",
    "    go.Scatter(x=list(df_norm.index),\n",
    "               y=list(df_norm.ETH),\n",
    "               name=\"ETH\",\n",
    "               line=dict(color=\"Yellow\")))\n",
    "\n",
    "fig.add_trace(\n",
    "    go.Scatter(x=list(df_norm.index),\n",
    "               y=list(df_norm.BTC),\n",
    "               name=\"BTC\",\n",
    "               line=dict(color=\"Black\")))\n",
    "\n",
    "fig.update_layout(\n",
    "       width=1100,\n",
    "        height=900,\n",
    "    updatemenus=[\n",
    "        dict(\n",
    "            type=\"buttons\",\n",
    "            direction=\"down\",\n",
    "            active=7,\n",
    "#             x=1.57,\n",
    "#             y=1.2,\n",
    "            buttons=list([\n",
    "                dict(label=\"ADA\",\n",
    "                     method=\"update\",\n",
    "                     args=[{\"visible\": [True, False, False, False, False, False, False, False]},\n",
    "                           {\"title\": \"ADA\",\n",
    "                            \"annotations\": []}]),\n",
    "                dict(label=\"EOD\",\n",
    "                     method=\"update\",\n",
    "                     args=[{\"visible\": [False, True, False, False, False, False, False, False]},\n",
    "                           {\"title\": \"EOD\",\n",
    "                            \"annotations\": []}]),\n",
    "                dict(label=\"XRP\",\n",
    "                     method=\"update\",\n",
    "                     args=[{\"visible\": [False, False, True, False, False, False, False, False]},\n",
    "                           {\"title\": \"XRP\",\n",
    "                            \"annotations\": [] }]),\n",
    "                 dict(label=\"LSK\",\n",
    "                     method=\"update\",\n",
    "                     args=[{\"visible\": [False, False, False, True, False, False, False, False]},\n",
    "                           {\"title\": \"LSK\",\n",
    "                            \"annotations\": [] }]),\n",
    "                 dict(label=\"NEO\",\n",
    "                     method=\"update\",\n",
    "                     args=[{\"visible\": [False, False, False, False, True, False, False, False]},\n",
    "                           {\"title\": \"NEO\",\n",
    "                            \"annotations\": [] }]),\n",
    "                 dict(label=\"TRX\",\n",
    "                     method=\"update\",\n",
    "                     args=[{\"visible\": [False, False, False, False, False, True, False, False]},\n",
    "                           {\"title\": \"TRX\",\n",
    "                            \"annotations\": [] }]),\n",
    "                dict(label=\"ETH\",\n",
    "                     method=\"update\",\n",
    "                     args=[{\"visible\": [False, False, False, False, False, False, True, False]},\n",
    "                           {\"title\": \"ETH\",\n",
    "                            \"annotations\": [] }]),\n",
    "                dict(label=\"BTC\",\n",
    "                     method=\"update\",\n",
    "                     args=[{\"visible\": [False, False, False, False, False, False, False, True]},\n",
    "                           {\"title\": \"BTC\",\n",
    "                            \"annotations\": [] }]),\n",
    "                dict(label=\"All\",\n",
    "                     method=\"update\",\n",
    "                     args=[{\"visible\": [True, True, True, True, True, True, True, True]},\n",
    "                           {\"title\": \"All\",\n",
    "                            \"annotations\": []}]),\n",
    "            ]),\n",
    "        )\n",
    "    ])\n",
    "\n",
    "# Set title\n",
    "fig.update_layout(\n",
    "    #title_text=\"Normalizuota ICO kainų istorija\",\n",
    "#     xaxis_domain=[0.20, 1.0]\n",
    "    xaxis_domain=[1.0, 1.0]\n",
    ")\n",
    "\n",
    "HTML(fig.to_html())"
   ]
  },
  {
   "cell_type": "markdown",
   "metadata": {
    "papermill": {
     "duration": null,
     "end_time": null,
     "exception": null,
     "start_time": null,
     "status": "pending"
    },
    "tags": []
   },
   "source": [
    "## Normalizuota kriptovaliutų kainų istorija pagal laikotarpį"
   ]
  },
  {
   "cell_type": "code",
   "execution_count": null,
   "metadata": {
    "papermill": {
     "duration": null,
     "end_time": null,
     "exception": null,
     "start_time": null,
     "status": "pending"
    },
    "tags": []
   },
   "outputs": [],
   "source": [
    "#hide_input\n",
    "fig = go.Figure()\n",
    "\n",
    "fig.add_trace(\n",
    "    go.Scatter(x=list(df_norm.index),\n",
    "               y=list(df_norm.ADA),\n",
    "               name=\"ADA\",\n",
    "               line=dict(color=\"DarkOrange\")))\n",
    "\n",
    "fig.add_trace(\n",
    "    go.Scatter(x=list(df_norm.index),\n",
    "               y=list(df_norm.EOS),\n",
    "               name=\"EOS\",\n",
    "               line=dict(color=\"Crimson\")))\n",
    "\n",
    "\n",
    "fig.add_trace(\n",
    "    go.Scatter(x=list(df_norm.index),\n",
    "               y=list(df_norm.XRP),\n",
    "               name=\"XRP\",\n",
    "               line=dict(color=\"RebeccaPurple\")))\n",
    "\n",
    "fig.add_trace(\n",
    "    go.Scatter(x=list(df_norm.index),\n",
    "               y=list(df_norm.LSK),\n",
    "               name=\"LSK\",\n",
    "               line=dict(color=\"Purple\")))\n",
    "\n",
    "fig.add_trace(\n",
    "    go.Scatter(x=list(df_norm.index),\n",
    "               y=list(df_norm.NEO),\n",
    "               name=\"NEO\",\n",
    "               line=dict(color=\"Red\")))\n",
    "\n",
    "fig.add_trace(\n",
    "    go.Scatter(x=list(df_norm.index),\n",
    "               y=list(df_norm.TRX),\n",
    "               name=\"TRX\",\n",
    "               line=dict(color=\"Green\")))\n",
    "\n",
    "fig.add_trace(\n",
    "    go.Scatter(x=list(df_norm.index),\n",
    "               y=list(df_norm.ETH),\n",
    "               name=\"ETH\",\n",
    "               line=dict(color=\"Yellow\")))\n",
    "\n",
    "fig.add_trace(\n",
    "    go.Scatter(x=list(df_norm.index),\n",
    "               y=list(df_norm.BTC),\n",
    "               name=\"BTC\",\n",
    "               line=dict(color=\"Black\")))\n",
    "\n",
    "fig.update_layout(\n",
    "       width=1100,\n",
    "        height=900,\n",
    "),\n",
    "\n",
    "\n",
    "# Set title\n",
    "fig.update_layout(\n",
    "    \n",
    "    updatemenus=[\n",
    "        dict(\n",
    "        type = 'buttons',\n",
    "        direction = 'right',\n",
    "        x=0.7, \n",
    "        y=1.2,\n",
    "        showactive = True, \n",
    "        buttons = list([\n",
    "    \n",
    "    dict(label=\"All\",\n",
    "    method=\"update\",\n",
    "    args=[{\"y\": [df_norm[\"ADA\"], df_norm[\"EOS\"], df_norm[\"XRP\"], df_norm[\"LSK\"], \n",
    "                 df_norm[\"NEO\"], df_norm[\"TRX\"], df_norm[\"ETH\"], df_norm[\"BTC\"]],\n",
    "          \"x\": [df_norm.index]}],\n",
    "    ),\n",
    "    \n",
    "    dict(label=\"Last 7 days\",\n",
    "    method=\"update\",\n",
    "    args=[{\"y\": [df_norm[\"ADA\"].tail(7), df_norm[\"EOS\"].tail(7), df_norm[\"XRP\"].tail(7), df_norm[\"LSK\"].tail(7), \n",
    "                 df_norm[\"NEO\"].tail(7), df_norm[\"TRX\"].tail(7), df_norm[\"ETH\"].tail(7), df_norm[\"BTC\"].tail(7)],\n",
    "          \"x\": [df_norm.index[-7]]}],\n",
    "    ),\n",
    "    \n",
    "    dict(label=\"Last 14 days\",\n",
    "    method=\"update\",\n",
    "    args=[{\"y\": [df_norm[\"ADA\"].tail(14), df_norm[\"EOS\"].tail(14), df_norm[\"XRP\"].tail(14), df_norm[\"LSK\"].tail(14), \n",
    "                 df_norm[\"NEO\"].tail(14), df_norm[\"TRX\"].tail(14), df_norm[\"ETH\"].tail(14), df_norm[\"BTC\"].tail(14)],\n",
    "          \"x\": [df_norm.index[-14]]}],\n",
    "    ),\n",
    "            \n",
    "    dict(label=\"Last 30 days\",\n",
    "    method=\"update\",\n",
    "    args=[{\"y\": [df_norm[\"ADA\"].tail(30), df_norm[\"EOS\"].tail(30), df_norm[\"XRP\"].tail(30), df_norm[\"LSK\"].tail(30), \n",
    "                 df_norm[\"NEO\"].tail(30), df_norm[\"TRX\"].tail(30), df_norm[\"ETH\"].tail(30), df_norm[\"BTC\"].tail(30)],\n",
    "          \"x\": [df_norm.index[-30]]}],\n",
    "    ),\n",
    "    \n",
    "    dict(label=\"Last 90 days\",\n",
    "    method=\"update\",\n",
    "    args=[{\"y\": [df_norm[\"ADA\"].tail(90), df_norm[\"EOS\"].tail(90), df_norm[\"XRP\"].tail(90), df_norm[\"LSK\"].tail(90), \n",
    "                 df_norm[\"NEO\"].tail(90), df_norm[\"TRX\"].tail(90), df_norm[\"ETH\"].tail(90), df_norm[\"BTC\"].tail(90)],\n",
    "          \"x\": [df_norm.index[-90]]}],\n",
    "    ),\n",
    "    \n",
    "    dict(label=\"Last 6 months\",\n",
    "    method=\"update\",\n",
    "    args=[{\"y\": [df_norm[\"ADA\"].tail(182), df_norm[\"EOS\"].tail(182), df_norm[\"XRP\"].tail(182), df_norm[\"LSK\"].tail(182), \n",
    "                 df_norm[\"NEO\"].tail(182), df_norm[\"TRX\"].tail(182), df_norm[\"ETH\"].tail(182), df_norm[\"BTC\"].tail(182)],\n",
    "          \"x\": [df_norm.index[-182]]}],\n",
    "    ),\n",
    "            \n",
    "    dict(label=\"1 year\",\n",
    "    method=\"update\",\n",
    "    args=[{\"y\": [df_norm[\"ADA\"].tail(365), df_norm[\"EOS\"].tail(365), df_norm[\"XRP\"].tail(365), df_norm[\"LSK\"].tail(365), \n",
    "                 df_norm[\"NEO\"].tail(365), df_norm[\"TRX\"].tail(365), df_norm[\"ETH\"].tail(365), df_norm[\"BTC\"].tail(365)],\n",
    "          \"x\": [df_norm.index[-365]]}],\n",
    "    ),\n",
    "            \n",
    "        ]\n",
    "            \n",
    "        ),\n",
    "        )])#title_text=\"Normalizuota ICO kainų istorija\",\n",
    "#     xaxis_domain=[0.20, 1.0]\n",
    "HTML(fig.to_html())"
   ]
  },
  {
   "cell_type": "code",
   "execution_count": null,
   "metadata": {
    "papermill": {
     "duration": null,
     "end_time": null,
     "exception": null,
     "start_time": null,
     "status": "pending"
    },
    "tags": []
   },
   "outputs": [],
   "source": [
    "#hide\n",
    "#df_partial = long_form[long_form.currency.isin(['ETH', 'BTC', 'SP500', 'XAU'])]\n",
    "#df_partial[\"date\"] = pd.to_datetime(df_partial[\"date\"]) ;"
   ]
  },
  {
   "cell_type": "code",
   "execution_count": null,
   "metadata": {
    "papermill": {
     "duration": null,
     "end_time": null,
     "exception": null,
     "start_time": null,
     "status": "pending"
    },
    "tags": []
   },
   "outputs": [],
   "source": [
    "#hide\n",
    "brush = alt.selection(type='interval', encodings=['x'])\n",
    "selection = alt.selection_multi(fields=['currency'], bind=\"legend\")\n",
    "\n",
    "base = alt.Chart(df_partial).mark_line().encode(\n",
    "    x = 'date:T',\n",
    "    y = 'price:Q',\n",
    "    color = 'currency'\n",
    ").properties(\n",
    "    width = 700, \n",
    "    height = 650\n",
    ")\n",
    "\n",
    "fig.update\n",
    "\n",
    "upper = base.encode(\n",
    "    alt.X('date:T', scale = alt.Scale(domain=brush)) \n",
    "    \n",
    ")\n",
    "\n",
    "lower=base.properties(\n",
    "    height=70\n",
    ").add_selection(brush) \n",
    "\n",
    "upper & lower ;"
   ]
  },
  {
   "cell_type": "code",
   "execution_count": null,
   "metadata": {
    "papermill": {
     "duration": null,
     "end_time": null,
     "exception": null,
     "start_time": null,
     "status": "pending"
    },
    "tags": []
   },
   "outputs": [],
   "source": []
  },
  {
   "cell_type": "code",
   "execution_count": null,
   "metadata": {
    "papermill": {
     "duration": null,
     "end_time": null,
     "exception": null,
     "start_time": null,
     "status": "pending"
    },
    "tags": []
   },
   "outputs": [],
   "source": []
  },
  {
   "cell_type": "code",
   "execution_count": null,
   "metadata": {
    "papermill": {
     "duration": null,
     "end_time": null,
     "exception": null,
     "start_time": null,
     "status": "pending"
    },
    "tags": []
   },
   "outputs": [],
   "source": []
  },
  {
   "cell_type": "code",
   "execution_count": null,
   "metadata": {
    "papermill": {
     "duration": null,
     "end_time": null,
     "exception": null,
     "start_time": null,
     "status": "pending"
    },
    "tags": []
   },
   "outputs": [],
   "source": []
  },
  {
   "cell_type": "code",
   "execution_count": null,
   "metadata": {
    "papermill": {
     "duration": null,
     "end_time": null,
     "exception": null,
     "start_time": null,
     "status": "pending"
    },
    "tags": []
   },
   "outputs": [],
   "source": []
  },
  {
   "cell_type": "code",
   "execution_count": null,
   "metadata": {
    "papermill": {
     "duration": null,
     "end_time": null,
     "exception": null,
     "start_time": null,
     "status": "pending"
    },
    "tags": []
   },
   "outputs": [],
   "source": []
  },
  {
   "cell_type": "code",
   "execution_count": null,
   "metadata": {
    "papermill": {
     "duration": null,
     "end_time": null,
     "exception": null,
     "start_time": null,
     "status": "pending"
    },
    "tags": []
   },
   "outputs": [],
   "source": []
  },
  {
   "cell_type": "code",
   "execution_count": null,
   "metadata": {
    "papermill": {
     "duration": null,
     "end_time": null,
     "exception": null,
     "start_time": null,
     "status": "pending"
    },
    "tags": []
   },
   "outputs": [],
   "source": []
  },
  {
   "cell_type": "code",
   "execution_count": null,
   "metadata": {
    "papermill": {
     "duration": null,
     "end_time": null,
     "exception": null,
     "start_time": null,
     "status": "pending"
    },
    "tags": []
   },
   "outputs": [],
   "source": []
  }
 ],
 "metadata": {
  "kernelspec": {
   "display_name": "Python 3",
   "language": "python",
   "name": "python3"
  },
  "language_info": {
   "codemirror_mode": {
    "name": "ipython",
    "version": 3
   },
   "file_extension": ".py",
   "mimetype": "text/x-python",
   "name": "python",
   "nbconvert_exporter": "python",
   "pygments_lexer": "ipython3",
   "version": "3.6.12"
  },
  "papermill": {
   "default_parameters": {},
   "duration": 18.143281,
   "end_time": "2021-01-07T13:26:11.960089",
   "environment_variables": {},
   "exception": true,
   "input_path": "App-Price_history_charts.ipynb",
   "output_path": "App-Price_history_charts.ipynb",
   "parameters": {},
   "start_time": "2021-01-07T13:25:53.816808",
   "version": "2.2.2"
  }
 },
 "nbformat": 4,
 "nbformat_minor": 4
}