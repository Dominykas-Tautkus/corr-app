{
 "cells": [
  {
   "cell_type": "markdown",
   "metadata": {
    "tags": [
     "papermill-error-cell-tag"
    ]
   },
   "source": [
    "<span style=\"color:red; font-family:Helvetica Neue, Helvetica, Arial, sans-serif; font-size:2em;\">An Exception was encountered at '<a href=\"#papermill-error-cell\">In [2]</a>'.</span>"
   ]
  },
  {
   "cell_type": "markdown",
   "metadata": {
    "papermill": {
     "duration": 0.015669,
     "end_time": "2021-01-07T12:10:49.611924",
     "exception": false,
     "start_time": "2021-01-07T12:10:49.596255",
     "status": "completed"
    },
    "tags": []
   },
   "source": [
    "# Kriptovaliutos ir rinkos\n",
    "> Kriptovaliutų koreliacija su rinkomis - BTC, ETH, XRP su SP500, XAU. \n",
    "\n",
    "- toc: true \n",
    "- badges: true\n",
    "- comments: false\n",
    "- categories: [Dominykas Tautkus]\n",
    "- image: images/chart-preview.png"
   ]
  },
  {
   "cell_type": "code",
   "execution_count": 1,
   "metadata": {
    "execution": {
     "iopub.execute_input": "2021-01-07T12:10:49.644077Z",
     "iopub.status.busy": "2021-01-07T12:10:49.643510Z",
     "iopub.status.idle": "2021-01-07T12:10:51.319766Z",
     "shell.execute_reply": "2021-01-07T12:10:51.318857Z"
    },
    "papermill": {
     "duration": 1.699126,
     "end_time": "2021-01-07T12:10:51.320013",
     "exception": false,
     "start_time": "2021-01-07T12:10:49.620887",
     "status": "completed"
    },
    "tags": []
   },
   "outputs": [],
   "source": [
    "#hide\n",
    "%load_ext autoreload\n",
    "%autoreload 2\n",
    "import plotly.graph_objects as go\n",
    "import pandas as pd\n",
    "import plotly.express as px\n",
    "from scripts.read_data import read_api\n",
    "import matplotlib.pyplot as plt \n",
    "import numpy as np\n",
    "import pandas as pd\n",
    "import seaborn as sns\n",
    "from IPython.display import HTML\n",
    "import altair as alt"
   ]
  },
  {
   "cell_type": "markdown",
   "metadata": {
    "tags": [
     "papermill-error-cell-tag"
    ]
   },
   "source": [
    "<span id=\"papermill-error-cell\" style=\"color:red; font-family:Helvetica Neue, Helvetica, Arial, sans-serif; font-size:2em;\">Execution using papermill encountered an exception here and stopped:</span>"
   ]
  },
  {
   "cell_type": "code",
   "execution_count": 2,
   "metadata": {
    "execution": {
     "iopub.execute_input": "2021-01-07T12:10:51.341733Z",
     "iopub.status.busy": "2021-01-07T12:10:51.341207Z",
     "iopub.status.idle": "2021-01-07T12:10:59.583095Z",
     "shell.execute_reply": "2021-01-07T12:10:59.581194Z"
    },
    "papermill": {
     "duration": 8.254064,
     "end_time": "2021-01-07T12:10:59.583280",
     "exception": true,
     "start_time": "2021-01-07T12:10:51.329216",
     "status": "failed"
    },
    "tags": []
   },
   "outputs": [
    {
     "name": "stderr",
     "output_type": "stream",
     "text": [
      "/home/runner/work/corr-app/corr-app/_notebooks/scripts/read_data.py:187: SettingWithCopyWarning:\n",
      "\n",
      "\n",
      "A value is trying to be set on a copy of a slice from a DataFrame.\n",
      "Try using .loc[row_indexer,col_indexer] = value instead\n",
      "\n",
      "See the caveats in the documentation: https://pandas.pydata.org/pandas-docs/stable/user_guide/indexing.html#returning-a-view-versus-a-copy\n",
      "\n"
     ]
    },
    {
     "ename": "KeyError",
     "evalue": "'prices'",
     "output_type": "error",
     "traceback": [
      "\u001b[0;31m---------------------------------------------------------------------------\u001b[0m",
      "\u001b[0;31mKeyError\u001b[0m                                  Traceback (most recent call last)",
      "\u001b[0;32m<ipython-input-2-10303f58eb6f>\u001b[0m in \u001b[0;36m<module>\u001b[0;34m\u001b[0m\n\u001b[1;32m      1\u001b[0m \u001b[0;31m#hide\u001b[0m\u001b[0;34m\u001b[0m\u001b[0;34m\u001b[0m\u001b[0;34m\u001b[0m\u001b[0m\n\u001b[0;32m----> 2\u001b[0;31m \u001b[0mdf_all\u001b[0m \u001b[0;34m=\u001b[0m \u001b[0mread_api\u001b[0m\u001b[0;34m(\u001b[0m\u001b[0;34m)\u001b[0m\u001b[0;34m\u001b[0m\u001b[0;34m\u001b[0m\u001b[0m\n\u001b[0m\u001b[1;32m      3\u001b[0m \u001b[0;32mdel\u001b[0m \u001b[0mdf_all\u001b[0m\u001b[0;34m[\u001b[0m\u001b[0;34m'LSK'\u001b[0m\u001b[0;34m]\u001b[0m\u001b[0;34m\u001b[0m\u001b[0;34m\u001b[0m\u001b[0m\n\u001b[1;32m      4\u001b[0m \u001b[0;32mdel\u001b[0m \u001b[0mdf_all\u001b[0m\u001b[0;34m[\u001b[0m\u001b[0;34m'EOS'\u001b[0m\u001b[0;34m]\u001b[0m\u001b[0;34m\u001b[0m\u001b[0;34m\u001b[0m\u001b[0m\n\u001b[1;32m      5\u001b[0m \u001b[0;32mdel\u001b[0m \u001b[0mdf_all\u001b[0m\u001b[0;34m[\u001b[0m\u001b[0;34m'NEO'\u001b[0m\u001b[0;34m]\u001b[0m\u001b[0;34m\u001b[0m\u001b[0;34m\u001b[0m\u001b[0m\n",
      "\u001b[0;32m~/work/corr-app/corr-app/_notebooks/scripts/read_data.py\u001b[0m in \u001b[0;36mread_api\u001b[0;34m(short_frm)\u001b[0m\n\u001b[1;32m    142\u001b[0m     \u001b[0;31m#XAU = XAU[XAU.close != 79987.0]\u001b[0m\u001b[0;34m\u001b[0m\u001b[0;34m\u001b[0m\u001b[0;34m\u001b[0m\u001b[0m\n\u001b[1;32m    143\u001b[0m     \u001b[0;31m#XAU = XAU[XAU.close > 1080]\u001b[0m\u001b[0;34m\u001b[0m\u001b[0;34m\u001b[0m\u001b[0;34m\u001b[0m\u001b[0m\n\u001b[0;32m--> 144\u001b[0;31m     \u001b[0mmarkets\u001b[0m \u001b[0;34m=\u001b[0m \u001b[0mread_markets_api\u001b[0m\u001b[0;34m(\u001b[0m\u001b[0;34m)\u001b[0m\u001b[0;34m\u001b[0m\u001b[0;34m\u001b[0m\u001b[0m\n\u001b[0m\u001b[1;32m    145\u001b[0m     \u001b[0mdf\u001b[0m \u001b[0;34m=\u001b[0m \u001b[0mBTC\u001b[0m\u001b[0;34m.\u001b[0m\u001b[0mappend\u001b[0m\u001b[0;34m(\u001b[0m\u001b[0mEOS\u001b[0m\u001b[0;34m)\u001b[0m\u001b[0;34m.\u001b[0m\u001b[0mappend\u001b[0m\u001b[0;34m(\u001b[0m\u001b[0mLSK\u001b[0m\u001b[0;34m)\u001b[0m\u001b[0;34m.\u001b[0m\u001b[0mappend\u001b[0m\u001b[0;34m(\u001b[0m\u001b[0mETH\u001b[0m\u001b[0;34m)\u001b[0m\u001b[0;34m.\u001b[0m\u001b[0mappend\u001b[0m\u001b[0;34m(\u001b[0m\u001b[0mADA\u001b[0m\u001b[0;34m)\u001b[0m\u001b[0;34m.\u001b[0m\u001b[0mappend\u001b[0m\u001b[0;34m(\u001b[0m\u001b[0mNEO\u001b[0m\u001b[0;34m)\u001b[0m\u001b[0;34m.\u001b[0m\u001b[0mappend\u001b[0m\u001b[0;34m(\u001b[0m\u001b[0mTRX\u001b[0m\u001b[0;34m)\u001b[0m\u001b[0;34m.\u001b[0m\u001b[0mappend\u001b[0m\u001b[0;34m(\u001b[0m\u001b[0mXRP\u001b[0m\u001b[0;34m)\u001b[0m\u001b[0;34m.\u001b[0m\u001b[0mappend\u001b[0m\u001b[0;34m(\u001b[0m\u001b[0mmarkets\u001b[0m\u001b[0;34m)\u001b[0m\u001b[0;34m\u001b[0m\u001b[0;34m\u001b[0m\u001b[0m\n\u001b[1;32m    146\u001b[0m     \u001b[0mdf\u001b[0m\u001b[0;34m[\u001b[0m\u001b[0;34m'date'\u001b[0m\u001b[0;34m]\u001b[0m \u001b[0;34m=\u001b[0m \u001b[0mdf\u001b[0m\u001b[0;34m[\u001b[0m\u001b[0;34m'date'\u001b[0m\u001b[0;34m]\u001b[0m\u001b[0;34m.\u001b[0m\u001b[0mdt\u001b[0m\u001b[0;34m.\u001b[0m\u001b[0mdate\u001b[0m\u001b[0;34m\u001b[0m\u001b[0;34m\u001b[0m\u001b[0m\n",
      "\u001b[0;32m~/work/corr-app/corr-app/_notebooks/scripts/read_data.py\u001b[0m in \u001b[0;36mread_markets_api\u001b[0;34m()\u001b[0m\n\u001b[1;32m    173\u001b[0m \u001b[0;32mdef\u001b[0m \u001b[0mread_markets_api\u001b[0m\u001b[0;34m(\u001b[0m\u001b[0;34m)\u001b[0m\u001b[0;34m:\u001b[0m\u001b[0;34m\u001b[0m\u001b[0;34m\u001b[0m\u001b[0m\n\u001b[1;32m    174\u001b[0m     \u001b[0;31m# ^GSPC-->sp500 ; GC=F-->XAU\u001b[0m\u001b[0;34m\u001b[0m\u001b[0;34m\u001b[0m\u001b[0;34m\u001b[0m\u001b[0m\n\u001b[0;32m--> 175\u001b[0;31m     \u001b[0mSP500\u001b[0m \u001b[0;34m=\u001b[0m \u001b[0mformat_markets\u001b[0m\u001b[0;34m(\u001b[0m\u001b[0;34m'^GSPC'\u001b[0m\u001b[0;34m,\u001b[0m \u001b[0;34m'SP500'\u001b[0m\u001b[0;34m)\u001b[0m\u001b[0;34m\u001b[0m\u001b[0;34m\u001b[0m\u001b[0m\n\u001b[0m\u001b[1;32m    176\u001b[0m     \u001b[0mXAU\u001b[0m \u001b[0;34m=\u001b[0m \u001b[0mformat_markets\u001b[0m\u001b[0;34m(\u001b[0m\u001b[0;34m'GC=F'\u001b[0m\u001b[0;34m,\u001b[0m \u001b[0;34m'XAU'\u001b[0m\u001b[0;34m)\u001b[0m\u001b[0;34m\u001b[0m\u001b[0;34m\u001b[0m\u001b[0m\n\u001b[1;32m    177\u001b[0m     \u001b[0mmarkets\u001b[0m \u001b[0;34m=\u001b[0m \u001b[0mSP500\u001b[0m\u001b[0;34m.\u001b[0m\u001b[0mappend\u001b[0m\u001b[0;34m(\u001b[0m\u001b[0mXAU\u001b[0m\u001b[0;34m)\u001b[0m\u001b[0;34m\u001b[0m\u001b[0;34m\u001b[0m\u001b[0m\n",
      "\u001b[0;32m~/work/corr-app/corr-app/_notebooks/scripts/read_data.py\u001b[0m in \u001b[0;36mformat_markets\u001b[0;34m(symbol, crypto)\u001b[0m\n\u001b[1;32m    208\u001b[0m     \u001b[0mresponse\u001b[0m \u001b[0;34m=\u001b[0m \u001b[0mrequests\u001b[0m\u001b[0;34m.\u001b[0m\u001b[0mrequest\u001b[0m\u001b[0;34m(\u001b[0m\u001b[0;34m\"GET\"\u001b[0m\u001b[0;34m,\u001b[0m \u001b[0murl\u001b[0m\u001b[0;34m,\u001b[0m \u001b[0mheaders\u001b[0m\u001b[0;34m=\u001b[0m\u001b[0mheaders\u001b[0m\u001b[0;34m,\u001b[0m \u001b[0mparams\u001b[0m\u001b[0;34m=\u001b[0m\u001b[0mquerystring\u001b[0m\u001b[0;34m)\u001b[0m\u001b[0;34m\u001b[0m\u001b[0;34m\u001b[0m\u001b[0m\n\u001b[1;32m    209\u001b[0m \u001b[0;34m\u001b[0m\u001b[0m\n\u001b[0;32m--> 210\u001b[0;31m     \u001b[0mjson_data\u001b[0m \u001b[0;34m=\u001b[0m \u001b[0mjson\u001b[0m\u001b[0;34m.\u001b[0m\u001b[0mloads\u001b[0m\u001b[0;34m(\u001b[0m\u001b[0mresponse\u001b[0m\u001b[0;34m.\u001b[0m\u001b[0mcontent\u001b[0m\u001b[0;34m)\u001b[0m\u001b[0;34m[\u001b[0m\u001b[0;34m'prices'\u001b[0m\u001b[0;34m]\u001b[0m\u001b[0;34m\u001b[0m\u001b[0;34m\u001b[0m\u001b[0m\n\u001b[0m\u001b[1;32m    211\u001b[0m     \u001b[0mdf_resp\u001b[0m \u001b[0;34m=\u001b[0m \u001b[0mpd\u001b[0m\u001b[0;34m.\u001b[0m\u001b[0mDataFrame\u001b[0m\u001b[0;34m(\u001b[0m\u001b[0mjson_data\u001b[0m\u001b[0;34m)\u001b[0m\u001b[0;34m\u001b[0m\u001b[0;34m\u001b[0m\u001b[0m\n\u001b[1;32m    212\u001b[0m     \u001b[0mdf_resp\u001b[0m\u001b[0;34m[\u001b[0m\u001b[0;34m'date'\u001b[0m\u001b[0;34m]\u001b[0m \u001b[0;34m=\u001b[0m \u001b[0mpd\u001b[0m\u001b[0;34m.\u001b[0m\u001b[0mto_datetime\u001b[0m\u001b[0;34m(\u001b[0m\u001b[0mdf_resp\u001b[0m\u001b[0;34m.\u001b[0m\u001b[0mdate\u001b[0m\u001b[0;34m,\u001b[0m \u001b[0munit\u001b[0m\u001b[0;34m=\u001b[0m\u001b[0;34m's'\u001b[0m\u001b[0;34m)\u001b[0m\u001b[0;34m\u001b[0m\u001b[0;34m\u001b[0m\u001b[0m\n",
      "\u001b[0;31mKeyError\u001b[0m: 'prices'"
     ]
    }
   ],
   "source": [
    "#hide\n",
    "df_all = read_api()\n",
    "del df_all['LSK']\n",
    "del df_all['EOS']\n",
    "del df_all['NEO']\n",
    "del df_all['TRX']\n",
    "del df_all['ADA']\n",
    "df_norm = (df_all - df_all.mean()) / (df_all.max() - df_all.min())"
   ]
  },
  {
   "cell_type": "code",
   "execution_count": null,
   "metadata": {
    "execution": {
     "iopub.execute_input": "2020-12-31T15:21:43.165797Z",
     "iopub.status.busy": "2020-12-31T15:21:43.164543Z",
     "iopub.status.idle": "2020-12-31T15:21:43.192617Z",
     "shell.execute_reply": "2020-12-31T15:21:43.192131Z"
    },
    "papermill": {
     "duration": null,
     "end_time": null,
     "exception": null,
     "start_time": null,
     "status": "pending"
    },
    "tags": []
   },
   "outputs": [],
   "source": [
    "#hide\n",
    "from IPython.display import HTML"
   ]
  },
  {
   "cell_type": "markdown",
   "metadata": {
    "papermill": {
     "duration": null,
     "end_time": null,
     "exception": null,
     "start_time": null,
     "status": "pending"
    },
    "tags": []
   },
   "source": [
    "## Kriptovaliutų su rinkomis koreliacijos matrica"
   ]
  },
  {
   "cell_type": "code",
   "execution_count": null,
   "metadata": {
    "execution": {
     "iopub.execute_input": "2020-12-31T15:21:43.234816Z",
     "iopub.status.busy": "2020-12-31T15:21:43.234235Z",
     "iopub.status.idle": "2020-12-31T15:21:43.606997Z",
     "shell.execute_reply": "2020-12-31T15:21:43.606397Z"
    },
    "papermill": {
     "duration": null,
     "end_time": null,
     "exception": null,
     "start_time": null,
     "status": "pending"
    },
    "tags": []
   },
   "outputs": [],
   "source": [
    "#hide_input\n",
    "sum_corr = df_all.corr().sum().sort_values(ascending=True).index.values\n",
    "df_all[sum_corr].corr()\n",
    "plt.figure(figsize=(15, 10))\n",
    "sns.heatmap(df_all[sum_corr].corr(), annot=True, cmap=\"BrBG\");\n"
   ]
  },
  {
   "cell_type": "markdown",
   "metadata": {
    "papermill": {
     "duration": null,
     "end_time": null,
     "exception": null,
     "start_time": null,
     "status": "pending"
    },
    "tags": []
   },
   "source": [
    "## Normalizuotos kriptovaliutų su rinkomis kainos \n",
    "> (Pasikrovimas gali užtrukti kelias sek.)"
   ]
  },
  {
   "cell_type": "markdown",
   "metadata": {
    "papermill": {
     "duration": null,
     "end_time": null,
     "exception": null,
     "start_time": null,
     "status": "pending"
    },
    "tags": []
   },
   "source": [
    "> Dešinėje galimas kelių kriptovaliutų pasirinkimas"
   ]
  },
  {
   "cell_type": "code",
   "execution_count": null,
   "metadata": {
    "execution": {
     "iopub.execute_input": "2020-12-31T15:21:43.681467Z",
     "iopub.status.busy": "2020-12-31T15:21:43.676258Z",
     "iopub.status.idle": "2020-12-31T15:21:44.180964Z",
     "shell.execute_reply": "2020-12-31T15:21:44.181429Z"
    },
    "papermill": {
     "duration": null,
     "end_time": null,
     "exception": null,
     "start_time": null,
     "status": "pending"
    },
    "tags": []
   },
   "outputs": [],
   "source": [
    "#hide_input \n",
    "\n",
    "fig = go.Figure()\n",
    "\n",
    "fig.add_trace(\n",
    "    go.Scatter(x=list(df_norm.index),\n",
    "               y=list(df_norm.XAU),\n",
    "               name=\"XAU\",\n",
    "               line=dict(color=\"Crimson\")))\n",
    "\n",
    "\n",
    "fig.add_trace(\n",
    "    go.Scatter(x=list(df_norm.index),\n",
    "               y=list(df_norm.XRP),\n",
    "               name=\"XRP\",\n",
    "               line=dict(color=\"RebeccaPurple\")))\n",
    "\n",
    "fig.add_trace(\n",
    "    go.Scatter(x=list(df_norm.index),\n",
    "               y=list(df_norm.BTC),\n",
    "               name=\"BTC\",\n",
    "               line=dict(color=\"Black\")))\n",
    "\n",
    "fig.add_trace(\n",
    "    go.Scatter(x=list(df_norm.index),\n",
    "               y=list(df_norm.ETH),\n",
    "               name=\"ETH\",\n",
    "               line=dict(color=\"Orange\")))\n",
    "\n",
    "fig.add_trace(\n",
    "    go.Scatter(x=list(df_norm.index),\n",
    "               y=list(df_norm.SP500),\n",
    "               name=\"SP500\",\n",
    "               line=dict(color=\"Green\")))\n",
    "\n",
    "fig.update_layout(\n",
    "       width=900,\n",
    "        height=900,\n",
    "    updatemenus=[\n",
    "        dict(\n",
    "            type=\"buttons\",\n",
    "            direction=\"down\",\n",
    "            active=5,\n",
    "#             x=1.57,\n",
    "#             y=1.2,\n",
    "            buttons=list([\n",
    "                dict(label=\"XAU\",\n",
    "                     method=\"update\",\n",
    "                     args=[{\"visible\": [True, False, False, False, False]},\n",
    "                           {\"title\": \"XAU\",\n",
    "                            \"annotations\": []}]),\n",
    "                dict(label=\"XRP\",\n",
    "                     method=\"update\",\n",
    "                     args=[{\"visible\": [False, True, False, False, False]},\n",
    "                           {\"title\": \"XRP\",\n",
    "                            \"annotations\": [] }]),\n",
    "                 dict(label=\"BTC\",\n",
    "                     method=\"update\",\n",
    "                     args=[{\"visible\": [False, False, True, False, False]},\n",
    "                           {\"title\": \"BTC\",\n",
    "                            \"annotations\": [] }]),\n",
    "                 dict(label=\"ETH\",\n",
    "                     method=\"update\",\n",
    "                     args=[{\"visible\": [False, False, False, True, False]},\n",
    "                           {\"title\": \"ETH\",\n",
    "                            \"annotations\": [] }]),\n",
    "                dict(label=\"SP500\",\n",
    "                     method=\"update\",\n",
    "                     args=[{\"visible\": [False, False, False, False, True]},\n",
    "                           {\"title\": \"SP500\",\n",
    "                            \"annotations\": [] }]),\n",
    "                dict(label=\"ALL\",\n",
    "                     method=\"update\",\n",
    "                     args=[{\"visible\": [True, True, True, True, True]},\n",
    "                           {\"title\": \"all\",\n",
    "                            \"annotations\": [] }]),\n",
    "            ]),\n",
    "        )\n",
    "    ])\n",
    "\n",
    "# Set title\n",
    "fig.update_layout(\n",
    "    #title_text=\"Normalizuotos kriptovaliutų su rinkomis kainos\",\n",
    "#     xaxis_domain=[0.20, 1.0]\n",
    "    xaxis_domain=[1.0, 1.0])\n",
    "\n",
    "HTML(fig.to_html()) "
   ]
  },
  {
   "cell_type": "code",
   "execution_count": null,
   "metadata": {
    "execution": {
     "iopub.execute_input": "2020-12-31T15:21:44.351667Z",
     "iopub.status.busy": "2020-12-31T15:21:44.350980Z",
     "iopub.status.idle": "2020-12-31T15:21:44.387375Z",
     "shell.execute_reply": "2020-12-31T15:21:44.387823Z"
    },
    "papermill": {
     "duration": null,
     "end_time": null,
     "exception": null,
     "start_time": null,
     "status": "pending"
    },
    "tags": []
   },
   "outputs": [],
   "source": [
    "#hide\n",
    "long_form = df_all.reset_index().melt('date', var_name='currency', value_name='price') \n",
    "df_partial = long_form[long_form.currency.isin(['ETH', 'BTC', 'SP500', 'XAU'])]\n",
    "df_partial[\"date\"] = pd.to_datetime(df_partial[\"date\"])"
   ]
  },
  {
   "cell_type": "markdown",
   "metadata": {
    "papermill": {
     "duration": null,
     "end_time": null,
     "exception": null,
     "start_time": null,
     "status": "pending"
    },
    "tags": []
   },
   "source": [
    "## Kainos pagal laiko diapazonus"
   ]
  },
  {
   "cell_type": "markdown",
   "metadata": {
    "papermill": {
     "duration": null,
     "end_time": null,
     "exception": null,
     "start_time": null,
     "status": "pending"
    },
    "tags": []
   },
   "source": [
    "> (Laiko diapazono pasirinkimas apačioje pažymėjus norimą laikotarpį)"
   ]
  },
  {
   "cell_type": "code",
   "execution_count": null,
   "metadata": {
    "execution": {
     "iopub.execute_input": "2020-12-31T15:21:44.871909Z",
     "iopub.status.busy": "2020-12-31T15:21:44.871258Z",
     "iopub.status.idle": "2020-12-31T15:21:45.050583Z",
     "shell.execute_reply": "2020-12-31T15:21:45.051085Z"
    },
    "papermill": {
     "duration": null,
     "end_time": null,
     "exception": null,
     "start_time": null,
     "status": "pending"
    },
    "tags": []
   },
   "outputs": [],
   "source": [
    "#hide_input\n",
    "brush = alt.selection(type='interval', encodings=['x'])\n",
    "selection = alt.selection_multi(fields=['currency'], bind=\"legend\")\n",
    "\n",
    "base = alt.Chart(df_partial).mark_line().encode(\n",
    "    x = 'date:T',\n",
    "    y = 'price:Q',\n",
    "    color = 'currency'\n",
    ").properties(\n",
    "    width = 700, \n",
    "    height = 625\n",
    ")\n",
    "\n",
    "upper = base.encode(\n",
    "    alt.X('date:T', scale = alt.Scale(domain=brush)) \n",
    "    \n",
    ")\n",
    "\n",
    "lower=base.properties(\n",
    "    height=70\n",
    ").add_selection(brush) \n",
    "\n",
    "upper & lower "
   ]
  },
  {
   "cell_type": "code",
   "execution_count": null,
   "metadata": {
    "papermill": {
     "duration": null,
     "end_time": null,
     "exception": null,
     "start_time": null,
     "status": "pending"
    },
    "tags": []
   },
   "outputs": [],
   "source": []
  }
 ],
 "metadata": {
  "kernelspec": {
   "display_name": "Python 3",
   "language": "python",
   "name": "python3"
  },
  "language_info": {
   "codemirror_mode": {
    "name": "ipython",
    "version": 3
   },
   "file_extension": ".py",
   "mimetype": "text/x-python",
   "name": "python",
   "nbconvert_exporter": "python",
   "pygments_lexer": "ipython3",
   "version": "3.6.12"
  },
  "papermill": {
   "default_parameters": {},
   "duration": 11.658426,
   "end_time": "2021-01-07T12:11:00.191356",
   "environment_variables": {},
   "exception": true,
   "input_path": "App-markets.ipynb",
   "output_path": "App-markets.ipynb",
   "parameters": {},
   "start_time": "2021-01-07T12:10:48.532930",
   "version": "2.2.2"
  }
 },
 "nbformat": 4,
 "nbformat_minor": 4
}