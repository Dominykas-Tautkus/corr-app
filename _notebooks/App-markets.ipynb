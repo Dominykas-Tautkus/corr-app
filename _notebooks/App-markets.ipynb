{
 "cells": [
  {
   "cell_type": "markdown",
   "metadata": {},
   "source": [
    "# Kriptovaliutos ir rinkos\n",
    "> Kriptovaliutų koreliacija su rinkomis.\n",
    "\n",
    "- toc: true \n",
    "- badges: true\n",
    "- comments: false\n",
    "- categories: [jupyter]\n",
    "- image: images/ICO_corr_matrix.png"
   ]
  },
  {
   "cell_type": "code",
   "execution_count": 1,
   "metadata": {},
   "outputs": [],
   "source": [
    "#hide\n",
    "import plotly.graph_objects as go\n",
    "import pandas as pd\n",
    "import plotly.express as px\n",
    "from scripts.read_data import read\n",
    "import matplotlib.pyplot as plt \n",
    "import numpy as np\n",
    "import pandas as pd\n",
    "import seaborn as sns"
   ]
  },
  {
   "cell_type": "code",
   "execution_count": 2,
   "metadata": {},
   "outputs": [
    {
     "name": "stderr",
     "output_type": "stream",
     "text": [
      "D:\\Users\\SmOgER\\AppData\\Local\\Packages\\PythonSoftwareFoundation.Python.3.8_qbz5n2kfra8p0\\LocalCache\\local-packages\\Python38\\site-packages\\pandas\\core\\frame.py:7134: FutureWarning: Sorting because non-concatenation axis is not aligned. A future version\n",
      "of pandas will change to not sort by default.\n",
      "\n",
      "To accept the future behavior, pass 'sort=False'.\n",
      "\n",
      "To retain the current behavior and silence the warning, pass 'sort=True'.\n",
      "\n",
      "  return concat(\n"
     ]
    }
   ],
   "source": [
    "#hide\n",
    "df_all = read()"
   ]
  },
  {
   "cell_type": "code",
   "execution_count": 3,
   "metadata": {},
   "outputs": [],
   "source": [
    "#hide\n",
    "from IPython.display import HTML"
   ]
  },
  {
   "cell_type": "markdown",
   "metadata": {},
   "source": [
    "## Koreliacijų matrica"
   ]
  },
  {
   "cell_type": "code",
   "execution_count": 4,
   "metadata": {},
   "outputs": [
    {
     "data": {
      "text/html": [
       "<div>\n",
       "<style scoped>\n",
       "    .dataframe tbody tr th:only-of-type {\n",
       "        vertical-align: middle;\n",
       "    }\n",
       "\n",
       "    .dataframe tbody tr th {\n",
       "        vertical-align: top;\n",
       "    }\n",
       "\n",
       "    .dataframe thead th {\n",
       "        text-align: right;\n",
       "    }\n",
       "</style>\n",
       "<table border=\"1\" class=\"dataframe\">\n",
       "  <thead>\n",
       "    <tr style=\"text-align: right;\">\n",
       "      <th></th>\n",
       "      <th>XAU</th>\n",
       "      <th>SP500</th>\n",
       "      <th>BTC</th>\n",
       "      <th>TRX</th>\n",
       "      <th>LSK</th>\n",
       "      <th>IOTA</th>\n",
       "      <th>ADA</th>\n",
       "      <th>EOS</th>\n",
       "      <th>NEO</th>\n",
       "      <th>ETH</th>\n",
       "    </tr>\n",
       "  </thead>\n",
       "  <tbody>\n",
       "    <tr>\n",
       "      <th>XAU</th>\n",
       "      <td>1.000000</td>\n",
       "      <td>0.529776</td>\n",
       "      <td>0.582518</td>\n",
       "      <td>-0.466846</td>\n",
       "      <td>-0.601330</td>\n",
       "      <td>-0.544546</td>\n",
       "      <td>-0.514135</td>\n",
       "      <td>-0.439641</td>\n",
       "      <td>-0.398423</td>\n",
       "      <td>-0.249634</td>\n",
       "    </tr>\n",
       "    <tr>\n",
       "      <th>SP500</th>\n",
       "      <td>0.529776</td>\n",
       "      <td>1.000000</td>\n",
       "      <td>0.588205</td>\n",
       "      <td>-0.171230</td>\n",
       "      <td>-0.251159</td>\n",
       "      <td>-0.207202</td>\n",
       "      <td>-0.121310</td>\n",
       "      <td>-0.043952</td>\n",
       "      <td>-0.051675</td>\n",
       "      <td>0.008763</td>\n",
       "    </tr>\n",
       "    <tr>\n",
       "      <th>BTC</th>\n",
       "      <td>0.582518</td>\n",
       "      <td>0.588205</td>\n",
       "      <td>1.000000</td>\n",
       "      <td>0.028709</td>\n",
       "      <td>-0.086410</td>\n",
       "      <td>-0.030761</td>\n",
       "      <td>0.076658</td>\n",
       "      <td>0.195232</td>\n",
       "      <td>0.120588</td>\n",
       "      <td>0.321217</td>\n",
       "    </tr>\n",
       "    <tr>\n",
       "      <th>TRX</th>\n",
       "      <td>-0.466846</td>\n",
       "      <td>-0.171230</td>\n",
       "      <td>0.028709</td>\n",
       "      <td>1.000000</td>\n",
       "      <td>0.738839</td>\n",
       "      <td>0.794501</td>\n",
       "      <td>0.845954</td>\n",
       "      <td>0.873244</td>\n",
       "      <td>0.764693</td>\n",
       "      <td>0.780106</td>\n",
       "    </tr>\n",
       "    <tr>\n",
       "      <th>LSK</th>\n",
       "      <td>-0.601330</td>\n",
       "      <td>-0.251159</td>\n",
       "      <td>-0.086410</td>\n",
       "      <td>0.738839</td>\n",
       "      <td>1.000000</td>\n",
       "      <td>0.964098</td>\n",
       "      <td>0.926974</td>\n",
       "      <td>0.863440</td>\n",
       "      <td>0.935049</td>\n",
       "      <td>0.848912</td>\n",
       "    </tr>\n",
       "    <tr>\n",
       "      <th>IOTA</th>\n",
       "      <td>-0.544546</td>\n",
       "      <td>-0.207202</td>\n",
       "      <td>-0.030761</td>\n",
       "      <td>0.794501</td>\n",
       "      <td>0.964098</td>\n",
       "      <td>1.000000</td>\n",
       "      <td>0.943625</td>\n",
       "      <td>0.882928</td>\n",
       "      <td>0.966746</td>\n",
       "      <td>0.898672</td>\n",
       "    </tr>\n",
       "    <tr>\n",
       "      <th>ADA</th>\n",
       "      <td>-0.514135</td>\n",
       "      <td>-0.121310</td>\n",
       "      <td>0.076658</td>\n",
       "      <td>0.845954</td>\n",
       "      <td>0.926974</td>\n",
       "      <td>0.943625</td>\n",
       "      <td>1.000000</td>\n",
       "      <td>0.942131</td>\n",
       "      <td>0.939325</td>\n",
       "      <td>0.925328</td>\n",
       "    </tr>\n",
       "    <tr>\n",
       "      <th>EOS</th>\n",
       "      <td>-0.439641</td>\n",
       "      <td>-0.043952</td>\n",
       "      <td>0.195232</td>\n",
       "      <td>0.873244</td>\n",
       "      <td>0.863440</td>\n",
       "      <td>0.882928</td>\n",
       "      <td>0.942131</td>\n",
       "      <td>1.000000</td>\n",
       "      <td>0.883094</td>\n",
       "      <td>0.892645</td>\n",
       "    </tr>\n",
       "    <tr>\n",
       "      <th>NEO</th>\n",
       "      <td>-0.398423</td>\n",
       "      <td>-0.051675</td>\n",
       "      <td>0.120588</td>\n",
       "      <td>0.764693</td>\n",
       "      <td>0.935049</td>\n",
       "      <td>0.966746</td>\n",
       "      <td>0.939325</td>\n",
       "      <td>0.883094</td>\n",
       "      <td>1.000000</td>\n",
       "      <td>0.940452</td>\n",
       "    </tr>\n",
       "    <tr>\n",
       "      <th>ETH</th>\n",
       "      <td>-0.249634</td>\n",
       "      <td>0.008763</td>\n",
       "      <td>0.321217</td>\n",
       "      <td>0.780106</td>\n",
       "      <td>0.848912</td>\n",
       "      <td>0.898672</td>\n",
       "      <td>0.925328</td>\n",
       "      <td>0.892645</td>\n",
       "      <td>0.940452</td>\n",
       "      <td>1.000000</td>\n",
       "    </tr>\n",
       "  </tbody>\n",
       "</table>\n",
       "</div>"
      ],
      "text/plain": [
       "            XAU     SP500       BTC       TRX       LSK      IOTA       ADA  \\\n",
       "XAU    1.000000  0.529776  0.582518 -0.466846 -0.601330 -0.544546 -0.514135   \n",
       "SP500  0.529776  1.000000  0.588205 -0.171230 -0.251159 -0.207202 -0.121310   \n",
       "BTC    0.582518  0.588205  1.000000  0.028709 -0.086410 -0.030761  0.076658   \n",
       "TRX   -0.466846 -0.171230  0.028709  1.000000  0.738839  0.794501  0.845954   \n",
       "LSK   -0.601330 -0.251159 -0.086410  0.738839  1.000000  0.964098  0.926974   \n",
       "IOTA  -0.544546 -0.207202 -0.030761  0.794501  0.964098  1.000000  0.943625   \n",
       "ADA   -0.514135 -0.121310  0.076658  0.845954  0.926974  0.943625  1.000000   \n",
       "EOS   -0.439641 -0.043952  0.195232  0.873244  0.863440  0.882928  0.942131   \n",
       "NEO   -0.398423 -0.051675  0.120588  0.764693  0.935049  0.966746  0.939325   \n",
       "ETH   -0.249634  0.008763  0.321217  0.780106  0.848912  0.898672  0.925328   \n",
       "\n",
       "            EOS       NEO       ETH  \n",
       "XAU   -0.439641 -0.398423 -0.249634  \n",
       "SP500 -0.043952 -0.051675  0.008763  \n",
       "BTC    0.195232  0.120588  0.321217  \n",
       "TRX    0.873244  0.764693  0.780106  \n",
       "LSK    0.863440  0.935049  0.848912  \n",
       "IOTA   0.882928  0.966746  0.898672  \n",
       "ADA    0.942131  0.939325  0.925328  \n",
       "EOS    1.000000  0.883094  0.892645  \n",
       "NEO    0.883094  1.000000  0.940452  \n",
       "ETH    0.892645  0.940452  1.000000  "
      ]
     },
     "execution_count": 4,
     "metadata": {},
     "output_type": "execute_result"
    }
   ],
   "source": [
    "#hide_input\n",
    "sum_corr = df_all.corr().sum().sort_values(ascending=True).index.values\n",
    "df_all[sum_corr].corr()"
   ]
  },
  {
   "cell_type": "code",
   "execution_count": 5,
   "metadata": {},
   "outputs": [
    {
     "data": {
      "image/png": "[encoded data removed]",
      "text/plain": [
       "<Figure size 936x576 with 2 Axes>"
      ]
     },
     "metadata": {
      "needs_background": "light"
     },
     "output_type": "display_data"
    }
   ],
   "source": [
    "#hide_input\n",
    "plt.figure(figsize=(13, 8))\n",
    "sns.heatmap(df_all[sum_corr].corr(), annot=True, cmap=\"BrBG\");\n"
   ]
  },
  {
   "cell_type": "code",
   "execution_count": null,
   "metadata": {},
   "outputs": [],
   "source": []
  },
  {
   "cell_type": "code",
   "execution_count": null,
   "metadata": {},
   "outputs": [],
   "source": []
  },
  {
   "cell_type": "code",
   "execution_count": null,
   "metadata": {},
   "outputs": [],
   "source": []
  },
  {
   "cell_type": "code",
   "execution_count": null,
   "metadata": {},
   "outputs": [],
   "source": []
  },
  {
   "cell_type": "code",
   "execution_count": null,
   "metadata": {},
   "outputs": [],
   "source": []
  },
  {
   "cell_type": "code",
   "execution_count": null,
   "metadata": {},
   "outputs": [],
   "source": []
  },
  {
   "cell_type": "code",
   "execution_count": null,
   "metadata": {},
   "outputs": [],
   "source": []
  },
  {
   "cell_type": "code",
   "execution_count": null,
   "metadata": {},
   "outputs": [],
   "source": []
  },
  {
   "cell_type": "code",
   "execution_count": null,
   "metadata": {},
   "outputs": [],
   "source": []
  },
  {
   "cell_type": "code",
   "execution_count": null,
   "metadata": {},
   "outputs": [],
   "source": []
  },
  {
   "cell_type": "code",
   "execution_count": null,
   "metadata": {},
   "outputs": [],
   "source": []
  },
  {
   "cell_type": "code",
   "execution_count": null,
   "metadata": {},
   "outputs": [],
   "source": []
  },
  {
   "cell_type": "code",
   "execution_count": null,
   "metadata": {},
   "outputs": [],
   "source": []
  },
  {
   "cell_type": "code",
   "execution_count": null,
   "metadata": {},
   "outputs": [],
   "source": []
  }
 ],
 "metadata": {
  "kernelspec": {
   "display_name": "Python 3",
   "language": "python",
   "name": "python3"
  },
  "language_info": {
   "codemirror_mode": {
    "name": "ipython",
    "version": 3
   },
   "file_extension": ".py",
   "mimetype": "text/x-python",
   "name": "python",
   "nbconvert_exporter": "python",
   "pygments_lexer": "ipython3",
   "version": "3.8.3"
  }
 },
 "nbformat": 4,
 "nbformat_minor": 2
}
