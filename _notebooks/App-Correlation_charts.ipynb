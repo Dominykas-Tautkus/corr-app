{
 "cells": [
  {
   "cell_type": "markdown",
   "id": "touched-facility",
   "metadata": {
    "papermill": {
     "duration": 0.018743,
     "end_time": "2021-03-15T01:46:14.482601",
     "exception": false,
     "start_time": "2021-03-15T01:46:14.463858",
     "status": "completed"
    },
    "tags": []
   },
   "source": [
    "# Koreliacijų matrica\n",
    "> Išplėstinė koreliacijų matrica. \n",
    "\n",
    "- toc: true \n",
    "- badges: true\n",
    "- comments: false\n",
    "- categories: [Dominykas Tautkus]\n",
    "- image: images/matrix.png"
   ]
  },
  {
   "cell_type": "code",
   "execution_count": null,
   "id": "premium-weekend",
   "metadata": {
    "papermill": {
     "duration": 0.011987,
     "end_time": "2021-03-15T01:46:14.507740",
     "exception": false,
     "start_time": "2021-03-15T01:46:14.495753",
     "status": "completed"
    },
    "tags": []
   },
   "outputs": [],
   "source": []
  },
  {
   "cell_type": "code",
   "execution_count": 1,
   "id": "vertical-rebate",
   "metadata": {
    "execution": {
     "iopub.execute_input": "2021-03-15T01:46:14.543645Z",
     "iopub.status.busy": "2021-03-15T01:46:14.543057Z",
     "iopub.status.idle": "2021-03-15T01:46:14.555384Z",
     "shell.execute_reply": "2021-03-15T01:46:14.556341Z"
    },
    "papermill": {
     "duration": 0.036671,
     "end_time": "2021-03-15T01:46:14.556538",
     "exception": false,
     "start_time": "2021-03-15T01:46:14.519867",
     "status": "completed"
    },
    "tags": []
   },
   "outputs": [],
   "source": [
    "#hide\n",
    "%load_ext autoreload\n",
    "%autoreload 2"
   ]
  },
  {
   "cell_type": "code",
   "execution_count": 2,
   "id": "overall-advancement",
   "metadata": {
    "execution": {
     "iopub.execute_input": "2021-03-15T01:46:14.590442Z",
     "iopub.status.busy": "2021-03-15T01:46:14.589860Z",
     "iopub.status.idle": "2021-03-15T01:46:15.791914Z",
     "shell.execute_reply": "2021-03-15T01:46:15.790867Z"
    },
    "papermill": {
     "duration": 1.223062,
     "end_time": "2021-03-15T01:46:15.792056",
     "exception": false,
     "start_time": "2021-03-15T01:46:14.568994",
     "status": "completed"
    },
    "tags": []
   },
   "outputs": [],
   "source": [
    "#hide\n",
    "from scripts.read_data import read_api\n",
    "from IPython.display import HTML\n",
    "import plotly.graph_objects as go\n"
   ]
  },
  {
   "cell_type": "code",
   "execution_count": 3,
   "id": "light-crazy",
   "metadata": {
    "execution": {
     "iopub.execute_input": "2021-03-15T01:46:15.822744Z",
     "iopub.status.busy": "2021-03-15T01:46:15.820628Z",
     "iopub.status.idle": "2021-03-15T01:46:15.844288Z",
     "shell.execute_reply": "2021-03-15T01:46:15.843688Z"
    },
    "papermill": {
     "duration": 0.039927,
     "end_time": "2021-03-15T01:46:15.844423",
     "exception": false,
     "start_time": "2021-03-15T01:46:15.804496",
     "status": "completed"
    },
    "tags": []
   },
   "outputs": [],
   "source": [
    "#hide\n",
    "### ICO koreliacija"
   ]
  },
  {
   "cell_type": "code",
   "execution_count": 4,
   "id": "likely-bahrain",
   "metadata": {
    "execution": {
     "iopub.execute_input": "2021-03-15T01:46:15.874185Z",
     "iopub.status.busy": "2021-03-15T01:46:15.873593Z",
     "iopub.status.idle": "2021-03-15T01:46:16.917366Z",
     "shell.execute_reply": "2021-03-15T01:46:16.915849Z"
    },
    "papermill": {
     "duration": 1.060974,
     "end_time": "2021-03-15T01:46:16.917590",
     "exception": false,
     "start_time": "2021-03-15T01:46:15.856616",
     "status": "completed"
    },
    "tags": []
   },
   "outputs": [],
   "source": [
    "#hide\n",
    "import matplotlib.pyplot as plt\n",
    "import numpy as np\n",
    "import pandas as pd\n",
    "import seaborn as sns\n",
    "import matplotlib.pyplot as plt \n",
    "import matplotlib.dates as mdates\n",
    "import matplotlib.pyplot as plt"
   ]
  },
  {
   "cell_type": "code",
   "execution_count": 5,
   "id": "superior-blanket",
   "metadata": {
    "execution": {
     "iopub.execute_input": "2021-03-15T01:46:16.953380Z",
     "iopub.status.busy": "2021-03-15T01:46:16.952142Z",
     "iopub.status.idle": "2021-03-15T01:46:27.933489Z",
     "shell.execute_reply": "2021-03-15T01:46:27.933985Z"
    },
    "papermill": {
     "duration": 10.999167,
     "end_time": "2021-03-15T01:46:27.934142",
     "exception": false,
     "start_time": "2021-03-15T01:46:16.934975",
     "status": "completed"
    },
    "tags": []
   },
   "outputs": [
    {
     "name": "stderr",
     "output_type": "stream",
     "text": [
      "/home/runner/work/corr-app/corr-app/_notebooks/scripts/read_data.py:187: SettingWithCopyWarning:\n",
      "\n",
      "\n",
      "A value is trying to be set on a copy of a slice from a DataFrame.\n",
      "Try using .loc[row_indexer,col_indexer] = value instead\n",
      "\n",
      "See the caveats in the documentation: https://pandas.pydata.org/pandas-docs/stable/user_guide/indexing.html#returning-a-view-versus-a-copy\n",
      "\n"
     ]
    },
    {
     "name": "stderr",
     "output_type": "stream",
     "text": [
      "/home/runner/work/corr-app/corr-app/_notebooks/scripts/read_data.py:215: SettingWithCopyWarning:\n",
      "\n",
      "\n",
      "A value is trying to be set on a copy of a slice from a DataFrame.\n",
      "Try using .loc[row_indexer,col_indexer] = value instead\n",
      "\n",
      "See the caveats in the documentation: https://pandas.pydata.org/pandas-docs/stable/user_guide/indexing.html#returning-a-view-versus-a-copy\n",
      "\n"
     ]
    }
   ],
   "source": [
    "#hide\n",
    "df_all = read_api()\n",
    "#df_all = df_all.drop(['SP500', 'XAU', 'ETH', 'BTC'], axis=1)\n",
    "\n"
   ]
  },
  {
   "cell_type": "code",
   "execution_count": 6,
   "id": "mature-alert",
   "metadata": {
    "execution": {
     "iopub.execute_input": "2021-03-15T01:46:27.993842Z",
     "iopub.status.busy": "2021-03-15T01:46:27.993262Z",
     "iopub.status.idle": "2021-03-15T01:46:28.065423Z",
     "shell.execute_reply": "2021-03-15T01:46:28.065885Z"
    },
    "papermill": {
     "duration": 0.106093,
     "end_time": "2021-03-15T01:46:28.066048",
     "exception": false,
     "start_time": "2021-03-15T01:46:27.959955",
     "status": "completed"
    },
    "tags": []
   },
   "outputs": [],
   "source": [
    "#hide_input\n",
    "sum_corr = df_all.corr().sum().sort_values(ascending=True).index.values\n",
    "#df_all[sum_corr].corr()"
   ]
  },
  {
   "cell_type": "markdown",
   "id": "complex-syndicate",
   "metadata": {
    "papermill": {
     "duration": 0.013447,
     "end_time": "2021-03-15T01:46:28.111925",
     "exception": false,
     "start_time": "2021-03-15T01:46:28.098478",
     "status": "completed"
    },
    "tags": []
   },
   "source": [
    "## Išplėstinė koreliacijų matrica. "
   ]
  },
  {
   "cell_type": "code",
   "execution_count": 7,
   "id": "atomic-omaha",
   "metadata": {
    "execution": {
     "iopub.execute_input": "2021-03-15T01:46:28.154021Z",
     "iopub.status.busy": "2021-03-15T01:46:28.153443Z",
     "iopub.status.idle": "2021-03-15T01:46:31.182940Z",
     "shell.execute_reply": "2021-03-15T01:46:31.181828Z"
    },
    "papermill": {
     "duration": 3.057926,
     "end_time": "2021-03-15T01:46:31.183086",
     "exception": false,
     "start_time": "2021-03-15T01:46:28.125160",
     "status": "completed"
    },
    "tags": []
   },
   "outputs": [
    {
     "data": {
      "image/png": "[encoded data removed]",
      "text/plain": [
       "<Figure size 1080x792 with 2 Axes>"
      ]
     },
     "metadata": {
      "needs_background": "light"
     },
     "output_type": "display_data"
    }
   ],
   "source": [
    "#hide_input\n",
    "plt.figure(figsize=(15, 11))\n",
    "sns.heatmap(df_all[sum_corr].corr(), annot=True, cmap=\"cubehelix\") \n",
    "sns.set(font_scale=1.25)\n",
    "plt.savefig('corr_matrix.png', format='eps')"
   ]
  },
  {
   "cell_type": "code",
   "execution_count": 8,
   "id": "arbitrary-sullivan",
   "metadata": {
    "execution": {
     "iopub.execute_input": "2021-03-15T01:46:31.297475Z",
     "iopub.status.busy": "2021-03-15T01:46:31.296866Z",
     "iopub.status.idle": "2021-03-15T01:46:31.330181Z",
     "shell.execute_reply": "2021-03-15T01:46:31.331317Z"
    },
    "papermill": {
     "duration": 0.094063,
     "end_time": "2021-03-15T01:46:31.331481",
     "exception": false,
     "start_time": "2021-03-15T01:46:31.237418",
     "status": "completed"
    },
    "tags": []
   },
   "outputs": [],
   "source": [
    "#hide\n",
    "#df_all_mrk = read_api()"
   ]
  },
  {
   "cell_type": "code",
   "execution_count": 9,
   "id": "delayed-adapter",
   "metadata": {
    "execution": {
     "iopub.execute_input": "2021-03-15T01:46:31.374358Z",
     "iopub.status.busy": "2021-03-15T01:46:31.373775Z",
     "iopub.status.idle": "2021-03-15T01:46:31.406404Z",
     "shell.execute_reply": "2021-03-15T01:46:31.407225Z"
    },
    "papermill": {
     "duration": 0.059411,
     "end_time": "2021-03-15T01:46:31.407383",
     "exception": false,
     "start_time": "2021-03-15T01:46:31.347972",
     "status": "completed"
    },
    "tags": []
   },
   "outputs": [],
   "source": [
    "#hide\n",
    "#Koreliacijų koeficientai"
   ]
  },
  {
   "cell_type": "code",
   "execution_count": 10,
   "id": "seeing-celebration",
   "metadata": {
    "execution": {
     "iopub.execute_input": "2021-03-15T01:46:31.470093Z",
     "iopub.status.busy": "2021-03-15T01:46:31.469512Z",
     "iopub.status.idle": "2021-03-15T01:46:31.494418Z",
     "shell.execute_reply": "2021-03-15T01:46:31.495353Z"
    },
    "papermill": {
     "duration": 0.068596,
     "end_time": "2021-03-15T01:46:31.495518",
     "exception": false,
     "start_time": "2021-03-15T01:46:31.426922",
     "status": "completed"
    },
    "tags": []
   },
   "outputs": [],
   "source": [
    "#hide_input\n",
    "#sum_corr = df_all_mrk.corr().sum().sort_values(ascending=True).index.values\n",
    "#df_all_mrk[sum_corr].corr()"
   ]
  },
  {
   "cell_type": "code",
   "execution_count": 11,
   "id": "other-painting",
   "metadata": {
    "execution": {
     "iopub.execute_input": "2021-03-15T01:46:31.558269Z",
     "iopub.status.busy": "2021-03-15T01:46:31.557684Z",
     "iopub.status.idle": "2021-03-15T01:46:31.602451Z",
     "shell.execute_reply": "2021-03-15T01:46:31.603226Z"
    },
    "papermill": {
     "duration": 0.0744,
     "end_time": "2021-03-15T01:46:31.603384",
     "exception": false,
     "start_time": "2021-03-15T01:46:31.528984",
     "status": "completed"
    },
    "tags": []
   },
   "outputs": [],
   "source": [
    "#hide\n",
    "#Koreliacijos matrica. "
   ]
  },
  {
   "cell_type": "code",
   "execution_count": 12,
   "id": "modular-magnitude",
   "metadata": {
    "execution": {
     "iopub.execute_input": "2021-03-15T01:46:31.662244Z",
     "iopub.status.busy": "2021-03-15T01:46:31.661651Z",
     "iopub.status.idle": "2021-03-15T01:46:31.702506Z",
     "shell.execute_reply": "2021-03-15T01:46:31.702997Z"
    },
    "papermill": {
     "duration": 0.074711,
     "end_time": "2021-03-15T01:46:31.703151",
     "exception": false,
     "start_time": "2021-03-15T01:46:31.628440",
     "status": "completed"
    },
    "tags": []
   },
   "outputs": [],
   "source": [
    "#hide_input\n",
    "#plt.figure(figsize=(15, 8))\n",
    "#sns.heatmap(df_all_mrk[sum_corr].corr(), annot=True, cmap=\"BrBG\");\n",
    "#plt.savefig('corr_matrix_all.eps', format='eps')"
   ]
  },
  {
   "cell_type": "code",
   "execution_count": null,
   "id": "original-senator",
   "metadata": {
    "papermill": {
     "duration": 0.024499,
     "end_time": "2021-03-15T01:46:31.758861",
     "exception": false,
     "start_time": "2021-03-15T01:46:31.734362",
     "status": "completed"
    },
    "tags": []
   },
   "outputs": [],
   "source": []
  },
  {
   "cell_type": "code",
   "execution_count": null,
   "id": "saving-secretariat",
   "metadata": {
    "papermill": {
     "duration": 0.023156,
     "end_time": "2021-03-15T01:46:31.809601",
     "exception": false,
     "start_time": "2021-03-15T01:46:31.786445",
     "status": "completed"
    },
    "tags": []
   },
   "outputs": [],
   "source": []
  }
 ],
 "metadata": {
  "kernelspec": {
   "display_name": "Python 3",
   "language": "python",
   "name": "python3"
  },
  "language_info": {
   "codemirror_mode": {
    "name": "ipython",
    "version": 3
   },
   "file_extension": ".py",
   "mimetype": "text/x-python",
   "name": "python",
   "nbconvert_exporter": "python",
   "pygments_lexer": "ipython3",
   "version": "3.6.13"
  },
  "papermill": {
   "default_parameters": {},
   "duration": 19.434662,
   "end_time": "2021-03-15T01:46:32.444210",
   "environment_variables": {},
   "exception": null,
   "input_path": "App-Correlation_charts.ipynb",
   "output_path": "App-Correlation_charts.ipynb",
   "parameters": {},
   "start_time": "2021-03-15T01:46:13.009548",
   "version": "2.2.2"
  }
 },
 "nbformat": 4,
 "nbformat_minor": 5
}