{
 "cells": [
  {
   "cell_type": "markdown",
   "id": "touched-facility",
   "metadata": {
    "papermill": {
     "duration": 0.026845,
     "end_time": "2021-02-25T01:40:32.080214",
     "exception": false,
     "start_time": "2021-02-25T01:40:32.053369",
     "status": "completed"
    },
    "tags": []
   },
   "source": [
    "# Koreliacijų matrica\n",
    "> Išplėstinė koreliacijų matrica. \n",
    "\n",
    "- toc: true \n",
    "- badges: true\n",
    "- comments: false\n",
    "- categories: [Dominykas Tautkus]\n",
    "- image: images/matrix.png"
   ]
  },
  {
   "cell_type": "code",
   "execution_count": null,
   "id": "premium-weekend",
   "metadata": {
    "papermill": {
     "duration": 0.014682,
     "end_time": "2021-02-25T01:40:32.111174",
     "exception": false,
     "start_time": "2021-02-25T01:40:32.096492",
     "status": "completed"
    },
    "tags": []
   },
   "outputs": [],
   "source": []
  },
  {
   "cell_type": "code",
   "execution_count": 1,
   "id": "vertical-rebate",
   "metadata": {
    "execution": {
     "iopub.execute_input": "2021-02-25T01:40:32.148483Z",
     "iopub.status.busy": "2021-02-25T01:40:32.147547Z",
     "iopub.status.idle": "2021-02-25T01:40:32.164740Z",
     "shell.execute_reply": "2021-02-25T01:40:32.163903Z"
    },
    "papermill": {
     "duration": 0.039201,
     "end_time": "2021-02-25T01:40:32.164915",
     "exception": false,
     "start_time": "2021-02-25T01:40:32.125714",
     "status": "completed"
    },
    "tags": []
   },
   "outputs": [],
   "source": [
    "#hide\n",
    "%load_ext autoreload\n",
    "%autoreload 2"
   ]
  },
  {
   "cell_type": "code",
   "execution_count": 2,
   "id": "overall-advancement",
   "metadata": {
    "execution": {
     "iopub.execute_input": "2021-02-25T01:40:32.199040Z",
     "iopub.status.busy": "2021-02-25T01:40:32.198388Z",
     "iopub.status.idle": "2021-02-25T01:40:33.637333Z",
     "shell.execute_reply": "2021-02-25T01:40:33.636666Z"
    },
    "papermill": {
     "duration": 1.457005,
     "end_time": "2021-02-25T01:40:33.637487",
     "exception": false,
     "start_time": "2021-02-25T01:40:32.180482",
     "status": "completed"
    },
    "tags": []
   },
   "outputs": [],
   "source": [
    "#hide\n",
    "from scripts.read_data import read_api\n",
    "from IPython.display import HTML\n",
    "import plotly.graph_objects as go\n"
   ]
  },
  {
   "cell_type": "code",
   "execution_count": 3,
   "id": "light-crazy",
   "metadata": {
    "execution": {
     "iopub.execute_input": "2021-02-25T01:40:33.672649Z",
     "iopub.status.busy": "2021-02-25T01:40:33.671874Z",
     "iopub.status.idle": "2021-02-25T01:40:33.696609Z",
     "shell.execute_reply": "2021-02-25T01:40:33.697168Z"
    },
    "papermill": {
     "duration": 0.043558,
     "end_time": "2021-02-25T01:40:33.697326",
     "exception": false,
     "start_time": "2021-02-25T01:40:33.653768",
     "status": "completed"
    },
    "tags": []
   },
   "outputs": [],
   "source": [
    "#hide\n",
    "### ICO koreliacija"
   ]
  },
  {
   "cell_type": "code",
   "execution_count": 4,
   "id": "likely-bahrain",
   "metadata": {
    "execution": {
     "iopub.execute_input": "2021-02-25T01:40:33.730561Z",
     "iopub.status.busy": "2021-02-25T01:40:33.729784Z",
     "iopub.status.idle": "2021-02-25T01:40:34.821334Z",
     "shell.execute_reply": "2021-02-25T01:40:34.820214Z"
    },
    "papermill": {
     "duration": 1.110191,
     "end_time": "2021-02-25T01:40:34.821515",
     "exception": false,
     "start_time": "2021-02-25T01:40:33.711324",
     "status": "completed"
    },
    "tags": []
   },
   "outputs": [],
   "source": [
    "#hide\n",
    "import matplotlib.pyplot as plt\n",
    "import numpy as np\n",
    "import pandas as pd\n",
    "import seaborn as sns\n",
    "import matplotlib.pyplot as plt \n",
    "import matplotlib.dates as mdates\n",
    "import matplotlib.pyplot as plt"
   ]
  },
  {
   "cell_type": "code",
   "execution_count": 5,
   "id": "superior-blanket",
   "metadata": {
    "execution": {
     "iopub.execute_input": "2021-02-25T01:40:34.853911Z",
     "iopub.status.busy": "2021-02-25T01:40:34.853290Z",
     "iopub.status.idle": "2021-02-25T01:40:46.668245Z",
     "shell.execute_reply": "2021-02-25T01:40:46.667409Z"
    },
    "papermill": {
     "duration": 11.832861,
     "end_time": "2021-02-25T01:40:46.668416",
     "exception": false,
     "start_time": "2021-02-25T01:40:34.835555",
     "status": "completed"
    },
    "tags": []
   },
   "outputs": [
    {
     "name": "stderr",
     "output_type": "stream",
     "text": [
      "/home/runner/work/corr-app/corr-app/_notebooks/scripts/read_data.py:187: SettingWithCopyWarning:\n",
      "\n",
      "\n",
      "A value is trying to be set on a copy of a slice from a DataFrame.\n",
      "Try using .loc[row_indexer,col_indexer] = value instead\n",
      "\n",
      "See the caveats in the documentation: https://pandas.pydata.org/pandas-docs/stable/user_guide/indexing.html#returning-a-view-versus-a-copy\n",
      "\n"
     ]
    },
    {
     "name": "stderr",
     "output_type": "stream",
     "text": [
      "/home/runner/work/corr-app/corr-app/_notebooks/scripts/read_data.py:215: SettingWithCopyWarning:\n",
      "\n",
      "\n",
      "A value is trying to be set on a copy of a slice from a DataFrame.\n",
      "Try using .loc[row_indexer,col_indexer] = value instead\n",
      "\n",
      "See the caveats in the documentation: https://pandas.pydata.org/pandas-docs/stable/user_guide/indexing.html#returning-a-view-versus-a-copy\n",
      "\n"
     ]
    }
   ],
   "source": [
    "#hide\n",
    "df_all = read_api()\n",
    "#df_all = df_all.drop(['SP500', 'XAU', 'ETH', 'BTC'], axis=1)\n",
    "\n"
   ]
  },
  {
   "cell_type": "code",
   "execution_count": 6,
   "id": "mature-alert",
   "metadata": {
    "execution": {
     "iopub.execute_input": "2021-02-25T01:40:46.709605Z",
     "iopub.status.busy": "2021-02-25T01:40:46.702469Z",
     "iopub.status.idle": "2021-02-25T01:40:46.732058Z",
     "shell.execute_reply": "2021-02-25T01:40:46.732789Z"
    },
    "papermill": {
     "duration": 0.050287,
     "end_time": "2021-02-25T01:40:46.732943",
     "exception": false,
     "start_time": "2021-02-25T01:40:46.682656",
     "status": "completed"
    },
    "tags": []
   },
   "outputs": [],
   "source": [
    "#hide_input\n",
    "sum_corr = df_all.corr().sum().sort_values(ascending=True).index.values\n",
    "#df_all[sum_corr].corr()"
   ]
  },
  {
   "cell_type": "markdown",
   "id": "complex-syndicate",
   "metadata": {
    "papermill": {
     "duration": 0.013316,
     "end_time": "2021-02-25T01:40:46.758611",
     "exception": false,
     "start_time": "2021-02-25T01:40:46.745295",
     "status": "completed"
    },
    "tags": []
   },
   "source": [
    "## Išplėstinė koreliacijų matrica. "
   ]
  },
  {
   "cell_type": "code",
   "execution_count": 7,
   "id": "atomic-omaha",
   "metadata": {
    "execution": {
     "iopub.execute_input": "2021-02-25T01:40:46.796706Z",
     "iopub.status.busy": "2021-02-25T01:40:46.795899Z",
     "iopub.status.idle": "2021-02-25T01:40:48.295392Z",
     "shell.execute_reply": "2021-02-25T01:40:48.294631Z"
    },
    "papermill": {
     "duration": 1.522722,
     "end_time": "2021-02-25T01:40:48.295553",
     "exception": false,
     "start_time": "2021-02-25T01:40:46.772831",
     "status": "completed"
    },
    "tags": []
   },
   "outputs": [
    {
     "data": {
      "image/png": "[encoded data removed]",
      "text/plain": [
       "<Figure size 1080x792 with 2 Axes>"
      ]
     },
     "metadata": {
      "needs_background": "light"
     },
     "output_type": "display_data"
    }
   ],
   "source": [
    "#hide_input\n",
    "plt.figure(figsize=(15, 11))\n",
    "sns.heatmap(df_all[sum_corr].corr(), annot=True, cmap=\"cubehelix\") \n",
    "sns.set(font_scale=1.25)\n",
    "plt.savefig('corr_matrix.png', format='eps')"
   ]
  },
  {
   "cell_type": "code",
   "execution_count": 8,
   "id": "arbitrary-sullivan",
   "metadata": {
    "execution": {
     "iopub.execute_input": "2021-02-25T01:40:48.362677Z",
     "iopub.status.busy": "2021-02-25T01:40:48.361974Z",
     "iopub.status.idle": "2021-02-25T01:40:48.390395Z",
     "shell.execute_reply": "2021-02-25T01:40:48.389831Z"
    },
    "papermill": {
     "duration": 0.073635,
     "end_time": "2021-02-25T01:40:48.390528",
     "exception": false,
     "start_time": "2021-02-25T01:40:48.316893",
     "status": "completed"
    },
    "tags": []
   },
   "outputs": [],
   "source": [
    "#hide\n",
    "#df_all_mrk = read_api()"
   ]
  },
  {
   "cell_type": "code",
   "execution_count": 9,
   "id": "delayed-adapter",
   "metadata": {
    "execution": {
     "iopub.execute_input": "2021-02-25T01:40:48.477535Z",
     "iopub.status.busy": "2021-02-25T01:40:48.471204Z",
     "iopub.status.idle": "2021-02-25T01:40:48.500293Z",
     "shell.execute_reply": "2021-02-25T01:40:48.499846Z"
    },
    "papermill": {
     "duration": 0.087539,
     "end_time": "2021-02-25T01:40:48.500409",
     "exception": false,
     "start_time": "2021-02-25T01:40:48.412870",
     "status": "completed"
    },
    "tags": []
   },
   "outputs": [],
   "source": [
    "#hide\n",
    "#Koreliacijų koeficientai"
   ]
  },
  {
   "cell_type": "code",
   "execution_count": 10,
   "id": "seeing-celebration",
   "metadata": {
    "execution": {
     "iopub.execute_input": "2021-02-25T01:40:48.722871Z",
     "iopub.status.busy": "2021-02-25T01:40:48.722284Z",
     "iopub.status.idle": "2021-02-25T01:40:48.750784Z",
     "shell.execute_reply": "2021-02-25T01:40:48.750232Z"
    },
    "papermill": {
     "duration": 0.236153,
     "end_time": "2021-02-25T01:40:48.750924",
     "exception": false,
     "start_time": "2021-02-25T01:40:48.514771",
     "status": "completed"
    },
    "tags": []
   },
   "outputs": [],
   "source": [
    "#hide_input\n",
    "#sum_corr = df_all_mrk.corr().sum().sort_values(ascending=True).index.values\n",
    "#df_all_mrk[sum_corr].corr()"
   ]
  },
  {
   "cell_type": "code",
   "execution_count": 11,
   "id": "other-painting",
   "metadata": {
    "execution": {
     "iopub.execute_input": "2021-02-25T01:40:49.081205Z",
     "iopub.status.busy": "2021-02-25T01:40:49.080615Z",
     "iopub.status.idle": "2021-02-25T01:40:49.105184Z",
     "shell.execute_reply": "2021-02-25T01:40:49.105676Z"
    },
    "papermill": {
     "duration": 0.043906,
     "end_time": "2021-02-25T01:40:49.105804",
     "exception": false,
     "start_time": "2021-02-25T01:40:49.061898",
     "status": "completed"
    },
    "tags": []
   },
   "outputs": [],
   "source": [
    "#hide\n",
    "#Koreliacijos matrica. "
   ]
  },
  {
   "cell_type": "code",
   "execution_count": 12,
   "id": "modular-magnitude",
   "metadata": {
    "execution": {
     "iopub.execute_input": "2021-02-25T01:40:49.137568Z",
     "iopub.status.busy": "2021-02-25T01:40:49.136889Z",
     "iopub.status.idle": "2021-02-25T01:40:49.165373Z",
     "shell.execute_reply": "2021-02-25T01:40:49.164904Z"
    },
    "papermill": {
     "duration": 0.045872,
     "end_time": "2021-02-25T01:40:49.165497",
     "exception": false,
     "start_time": "2021-02-25T01:40:49.119625",
     "status": "completed"
    },
    "tags": []
   },
   "outputs": [],
   "source": [
    "#hide_input\n",
    "#plt.figure(figsize=(15, 8))\n",
    "#sns.heatmap(df_all_mrk[sum_corr].corr(), annot=True, cmap=\"BrBG\");\n",
    "#plt.savefig('corr_matrix_all.eps', format='eps')"
   ]
  },
  {
   "cell_type": "code",
   "execution_count": null,
   "id": "original-senator",
   "metadata": {
    "papermill": {
     "duration": 0.014657,
     "end_time": "2021-02-25T01:40:49.195098",
     "exception": false,
     "start_time": "2021-02-25T01:40:49.180441",
     "status": "completed"
    },
    "tags": []
   },
   "outputs": [],
   "source": []
  },
  {
   "cell_type": "code",
   "execution_count": null,
   "id": "saving-secretariat",
   "metadata": {
    "papermill": {
     "duration": 0.016887,
     "end_time": "2021-02-25T01:40:49.226091",
     "exception": false,
     "start_time": "2021-02-25T01:40:49.209204",
     "status": "completed"
    },
    "tags": []
   },
   "outputs": [],
   "source": []
  }
 ],
 "metadata": {
  "kernelspec": {
   "display_name": "Python 3",
   "language": "python",
   "name": "python3"
  },
  "language_info": {
   "codemirror_mode": {
    "name": "ipython",
    "version": 3
   },
   "file_extension": ".py",
   "mimetype": "text/x-python",
   "name": "python",
   "nbconvert_exporter": "python",
   "pygments_lexer": "ipython3",
   "version": "3.6.13"
  },
  "papermill": {
   "default_parameters": {},
   "duration": 18.710697,
   "end_time": "2021-02-25T01:40:49.649230",
   "environment_variables": {},
   "exception": null,
   "input_path": "App-Correlation_charts.ipynb",
   "output_path": "App-Correlation_charts.ipynb",
   "parameters": {},
   "start_time": "2021-02-25T01:40:30.938533",
   "version": "2.2.2"
  }
 },
 "nbformat": 4,
 "nbformat_minor": 5
}