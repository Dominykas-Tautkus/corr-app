{
 "cells": [
  {
   "cell_type": "markdown",
   "id": "touched-facility",
   "metadata": {
    "papermill": {
     "duration": 0.015608,
     "end_time": "2021-07-06T01:59:25.153622",
     "exception": false,
     "start_time": "2021-07-06T01:59:25.138014",
     "status": "completed"
    },
    "tags": []
   },
   "source": [
    "# Koreliacijų matrica\n",
    "> Išplėstinė koreliacijų matrica. \n",
    "\n",
    "- toc: true \n",
    "- badges: true\n",
    "- comments: false\n",
    "- categories: [Dominykas Tautkus]\n",
    "- image: images/matrix.png"
   ]
  },
  {
   "cell_type": "code",
   "execution_count": null,
   "id": "premium-weekend",
   "metadata": {
    "papermill": {
     "duration": 0.011469,
     "end_time": "2021-07-06T01:59:25.177318",
     "exception": false,
     "start_time": "2021-07-06T01:59:25.165849",
     "status": "completed"
    },
    "tags": []
   },
   "outputs": [],
   "source": []
  },
  {
   "cell_type": "code",
   "execution_count": 1,
   "id": "vertical-rebate",
   "metadata": {
    "execution": {
     "iopub.execute_input": "2021-07-06T01:59:25.212571Z",
     "iopub.status.busy": "2021-07-06T01:59:25.211917Z",
     "iopub.status.idle": "2021-07-06T01:59:25.223332Z",
     "shell.execute_reply": "2021-07-06T01:59:25.222786Z"
    },
    "papermill": {
     "duration": 0.034884,
     "end_time": "2021-07-06T01:59:25.223470",
     "exception": false,
     "start_time": "2021-07-06T01:59:25.188586",
     "status": "completed"
    },
    "tags": []
   },
   "outputs": [],
   "source": [
    "#hide\n",
    "%load_ext autoreload\n",
    "%autoreload 2"
   ]
  },
  {
   "cell_type": "code",
   "execution_count": 2,
   "id": "overall-advancement",
   "metadata": {
    "execution": {
     "iopub.execute_input": "2021-07-06T01:59:25.253225Z",
     "iopub.status.busy": "2021-07-06T01:59:25.252667Z",
     "iopub.status.idle": "2021-07-06T01:59:26.725603Z",
     "shell.execute_reply": "2021-07-06T01:59:26.724720Z"
    },
    "papermill": {
     "duration": 1.489277,
     "end_time": "2021-07-06T01:59:26.725724",
     "exception": false,
     "start_time": "2021-07-06T01:59:25.236447",
     "status": "completed"
    },
    "tags": []
   },
   "outputs": [],
   "source": [
    "#hide\n",
    "from scripts.read_data import read_api\n",
    "from IPython.display import HTML\n",
    "import plotly.graph_objects as go\n"
   ]
  },
  {
   "cell_type": "code",
   "execution_count": 3,
   "id": "light-crazy",
   "metadata": {
    "execution": {
     "iopub.execute_input": "2021-07-06T01:59:26.754752Z",
     "iopub.status.busy": "2021-07-06T01:59:26.753701Z",
     "iopub.status.idle": "2021-07-06T01:59:26.776566Z",
     "shell.execute_reply": "2021-07-06T01:59:26.776133Z"
    },
    "papermill": {
     "duration": 0.03901,
     "end_time": "2021-07-06T01:59:26.776679",
     "exception": false,
     "start_time": "2021-07-06T01:59:26.737669",
     "status": "completed"
    },
    "tags": []
   },
   "outputs": [],
   "source": [
    "#hide\n",
    "### ICO koreliacija"
   ]
  },
  {
   "cell_type": "code",
   "execution_count": 4,
   "id": "likely-bahrain",
   "metadata": {
    "execution": {
     "iopub.execute_input": "2021-07-06T01:59:26.806251Z",
     "iopub.status.busy": "2021-07-06T01:59:26.805681Z",
     "iopub.status.idle": "2021-07-06T01:59:27.764211Z",
     "shell.execute_reply": "2021-07-06T01:59:27.762927Z"
    },
    "papermill": {
     "duration": 0.974066,
     "end_time": "2021-07-06T01:59:27.764393",
     "exception": false,
     "start_time": "2021-07-06T01:59:26.790327",
     "status": "completed"
    },
    "tags": []
   },
   "outputs": [],
   "source": [
    "#hide\n",
    "import matplotlib.pyplot as plt\n",
    "import numpy as np\n",
    "import pandas as pd\n",
    "import seaborn as sns\n",
    "import matplotlib.pyplot as plt \n",
    "import matplotlib.dates as mdates\n",
    "import matplotlib.pyplot as plt"
   ]
  },
  {
   "cell_type": "code",
   "execution_count": 5,
   "id": "superior-blanket",
   "metadata": {
    "execution": {
     "iopub.execute_input": "2021-07-06T01:59:27.796569Z",
     "iopub.status.busy": "2021-07-06T01:59:27.795999Z",
     "iopub.status.idle": "2021-07-06T01:59:41.891161Z",
     "shell.execute_reply": "2021-07-06T01:59:41.890685Z"
    },
    "papermill": {
     "duration": 14.113876,
     "end_time": "2021-07-06T01:59:41.891316",
     "exception": false,
     "start_time": "2021-07-06T01:59:27.777440",
     "status": "completed"
    },
    "tags": []
   },
   "outputs": [
    {
     "name": "stderr",
     "output_type": "stream",
     "text": [
      "/home/runner/work/corr-app/corr-app/_notebooks/scripts/read_data.py:187: SettingWithCopyWarning:\n",
      "\n",
      "\n",
      "A value is trying to be set on a copy of a slice from a DataFrame.\n",
      "Try using .loc[row_indexer,col_indexer] = value instead\n",
      "\n",
      "See the caveats in the documentation: https://pandas.pydata.org/pandas-docs/stable/user_guide/indexing.html#returning-a-view-versus-a-copy\n",
      "\n"
     ]
    },
    {
     "name": "stderr",
     "output_type": "stream",
     "text": [
      "/home/runner/work/corr-app/corr-app/_notebooks/scripts/read_data.py:215: SettingWithCopyWarning:\n",
      "\n",
      "\n",
      "A value is trying to be set on a copy of a slice from a DataFrame.\n",
      "Try using .loc[row_indexer,col_indexer] = value instead\n",
      "\n",
      "See the caveats in the documentation: https://pandas.pydata.org/pandas-docs/stable/user_guide/indexing.html#returning-a-view-versus-a-copy\n",
      "\n"
     ]
    }
   ],
   "source": [
    "#hide\n",
    "df_all = read_api()\n",
    "#df_all = df_all.drop(['SP500', 'XAU', 'ETH', 'BTC'], axis=1)\n",
    "\n"
   ]
  },
  {
   "cell_type": "code",
   "execution_count": 6,
   "id": "mature-alert",
   "metadata": {
    "execution": {
     "iopub.execute_input": "2021-07-06T01:59:41.922679Z",
     "iopub.status.busy": "2021-07-06T01:59:41.922046Z",
     "iopub.status.idle": "2021-07-06T01:59:41.951920Z",
     "shell.execute_reply": "2021-07-06T01:59:41.952421Z"
    },
    "papermill": {
     "duration": 0.048004,
     "end_time": "2021-07-06T01:59:41.952574",
     "exception": false,
     "start_time": "2021-07-06T01:59:41.904570",
     "status": "completed"
    },
    "tags": []
   },
   "outputs": [],
   "source": [
    "#hide_input\n",
    "sum_corr = df_all.corr().sum().sort_values(ascending=True).index.values\n",
    "#df_all[sum_corr].corr()"
   ]
  },
  {
   "cell_type": "markdown",
   "id": "complex-syndicate",
   "metadata": {
    "papermill": {
     "duration": 0.013004,
     "end_time": "2021-07-06T01:59:41.978581",
     "exception": false,
     "start_time": "2021-07-06T01:59:41.965577",
     "status": "completed"
    },
    "tags": []
   },
   "source": [
    "## Išplėstinė koreliacijų matrica. "
   ]
  },
  {
   "cell_type": "code",
   "execution_count": 7,
   "id": "atomic-omaha",
   "metadata": {
    "execution": {
     "iopub.execute_input": "2021-07-06T01:59:42.011152Z",
     "iopub.status.busy": "2021-07-06T01:59:42.010613Z",
     "iopub.status.idle": "2021-07-06T01:59:43.578645Z",
     "shell.execute_reply": "2021-07-06T01:59:43.578129Z"
    },
    "papermill": {
     "duration": 1.587526,
     "end_time": "2021-07-06T01:59:43.578775",
     "exception": false,
     "start_time": "2021-07-06T01:59:41.991249",
     "status": "completed"
    },
    "tags": []
   },
   "outputs": [
    {
     "data": {
      "image/png": "[encoded data removed]",
      "text/plain": [
       "<Figure size 1080x792 with 2 Axes>"
      ]
     },
     "metadata": {
      "needs_background": "light"
     },
     "output_type": "display_data"
    }
   ],
   "source": [
    "#hide_input\n",
    "plt.figure(figsize=(15, 11))\n",
    "sns.heatmap(df_all[sum_corr].corr(), annot=True, cmap=\"cubehelix\") \n",
    "sns.set(font_scale=1.25)\n",
    "plt.savefig('corr_matrix.png', format='eps')"
   ]
  },
  {
   "cell_type": "code",
   "execution_count": 8,
   "id": "arbitrary-sullivan",
   "metadata": {
    "execution": {
     "iopub.execute_input": "2021-07-06T01:59:43.614847Z",
     "iopub.status.busy": "2021-07-06T01:59:43.610879Z",
     "iopub.status.idle": "2021-07-06T01:59:43.637183Z",
     "shell.execute_reply": "2021-07-06T01:59:43.637654Z"
    },
    "papermill": {
     "duration": 0.044318,
     "end_time": "2021-07-06T01:59:43.637772",
     "exception": false,
     "start_time": "2021-07-06T01:59:43.593454",
     "status": "completed"
    },
    "tags": []
   },
   "outputs": [],
   "source": [
    "#hide\n",
    "#df_all_mrk = read_api()"
   ]
  },
  {
   "cell_type": "code",
   "execution_count": 9,
   "id": "delayed-adapter",
   "metadata": {
    "execution": {
     "iopub.execute_input": "2021-07-06T01:59:43.672285Z",
     "iopub.status.busy": "2021-07-06T01:59:43.671732Z",
     "iopub.status.idle": "2021-07-06T01:59:43.696016Z",
     "shell.execute_reply": "2021-07-06T01:59:43.696594Z"
    },
    "papermill": {
     "duration": 0.043113,
     "end_time": "2021-07-06T01:59:43.696716",
     "exception": false,
     "start_time": "2021-07-06T01:59:43.653603",
     "status": "completed"
    },
    "tags": []
   },
   "outputs": [],
   "source": [
    "#hide\n",
    "#Koreliacijų koeficientai"
   ]
  },
  {
   "cell_type": "code",
   "execution_count": 10,
   "id": "seeing-celebration",
   "metadata": {
    "execution": {
     "iopub.execute_input": "2021-07-06T01:59:43.727551Z",
     "iopub.status.busy": "2021-07-06T01:59:43.727027Z",
     "iopub.status.idle": "2021-07-06T01:59:43.751289Z",
     "shell.execute_reply": "2021-07-06T01:59:43.750700Z"
    },
    "papermill": {
     "duration": 0.041137,
     "end_time": "2021-07-06T01:59:43.751438",
     "exception": false,
     "start_time": "2021-07-06T01:59:43.710301",
     "status": "completed"
    },
    "tags": []
   },
   "outputs": [],
   "source": [
    "#hide_input\n",
    "#sum_corr = df_all_mrk.corr().sum().sort_values(ascending=True).index.values\n",
    "#df_all_mrk[sum_corr].corr()"
   ]
  },
  {
   "cell_type": "code",
   "execution_count": 11,
   "id": "other-painting",
   "metadata": {
    "execution": {
     "iopub.execute_input": "2021-07-06T01:59:43.781640Z",
     "iopub.status.busy": "2021-07-06T01:59:43.780868Z",
     "iopub.status.idle": "2021-07-06T01:59:43.803289Z",
     "shell.execute_reply": "2021-07-06T01:59:43.803705Z"
    },
    "papermill": {
     "duration": 0.039002,
     "end_time": "2021-07-06T01:59:43.803839",
     "exception": false,
     "start_time": "2021-07-06T01:59:43.764837",
     "status": "completed"
    },
    "tags": []
   },
   "outputs": [],
   "source": [
    "#hide\n",
    "#Koreliacijos matrica. "
   ]
  },
  {
   "cell_type": "code",
   "execution_count": 12,
   "id": "modular-magnitude",
   "metadata": {
    "execution": {
     "iopub.execute_input": "2021-07-06T01:59:43.840730Z",
     "iopub.status.busy": "2021-07-06T01:59:43.840109Z",
     "iopub.status.idle": "2021-07-06T01:59:43.867205Z",
     "shell.execute_reply": "2021-07-06T01:59:43.866782Z"
    },
    "papermill": {
     "duration": 0.04935,
     "end_time": "2021-07-06T01:59:43.867319",
     "exception": false,
     "start_time": "2021-07-06T01:59:43.817969",
     "status": "completed"
    },
    "tags": []
   },
   "outputs": [],
   "source": [
    "#hide_input\n",
    "#plt.figure(figsize=(15, 8))\n",
    "#sns.heatmap(df_all_mrk[sum_corr].corr(), annot=True, cmap=\"BrBG\");\n",
    "#plt.savefig('corr_matrix_all.eps', format='eps')"
   ]
  },
  {
   "cell_type": "code",
   "execution_count": null,
   "id": "original-senator",
   "metadata": {
    "papermill": {
     "duration": 0.020112,
     "end_time": "2021-07-06T01:59:43.903940",
     "exception": false,
     "start_time": "2021-07-06T01:59:43.883828",
     "status": "completed"
    },
    "tags": []
   },
   "outputs": [],
   "source": []
  },
  {
   "cell_type": "code",
   "execution_count": null,
   "id": "saving-secretariat",
   "metadata": {
    "papermill": {
     "duration": 0.015707,
     "end_time": "2021-07-06T01:59:43.934451",
     "exception": false,
     "start_time": "2021-07-06T01:59:43.918744",
     "status": "completed"
    },
    "tags": []
   },
   "outputs": [],
   "source": []
  }
 ],
 "metadata": {
  "kernelspec": {
   "display_name": "Python 3",
   "language": "python",
   "name": "python3"
  },
  "language_info": {
   "codemirror_mode": {
    "name": "ipython",
    "version": 3
   },
   "file_extension": ".py",
   "mimetype": "text/x-python",
   "name": "python",
   "nbconvert_exporter": "python",
   "pygments_lexer": "ipython3",
   "version": "3.6.13"
  },
  "papermill": {
   "default_parameters": {},
   "duration": 21.309969,
   "end_time": "2021-07-06T01:59:45.382812",
   "environment_variables": {},
   "exception": null,
   "input_path": "App-Correlation_charts.ipynb",
   "output_path": "App-Correlation_charts.ipynb",
   "parameters": {},
   "start_time": "2021-07-06T01:59:24.072843",
   "version": "2.2.2"
  }
 },
 "nbformat": 4,
 "nbformat_minor": 5
}