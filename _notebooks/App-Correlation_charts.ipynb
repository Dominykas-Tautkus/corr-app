{
 "cells": [
  {
   "cell_type": "markdown",
   "id": "touched-facility",
   "metadata": {
    "papermill": {
     "duration": 0.015401,
     "end_time": "2021-06-29T01:55:43.530948",
     "exception": false,
     "start_time": "2021-06-29T01:55:43.515547",
     "status": "completed"
    },
    "tags": []
   },
   "source": [
    "# Koreliacijų matrica\n",
    "> Išplėstinė koreliacijų matrica. \n",
    "\n",
    "- toc: true \n",
    "- badges: true\n",
    "- comments: false\n",
    "- categories: [Dominykas Tautkus]\n",
    "- image: images/matrix.png"
   ]
  },
  {
   "cell_type": "code",
   "execution_count": null,
   "id": "premium-weekend",
   "metadata": {
    "papermill": {
     "duration": 0.010987,
     "end_time": "2021-06-29T01:55:43.553475",
     "exception": false,
     "start_time": "2021-06-29T01:55:43.542488",
     "status": "completed"
    },
    "tags": []
   },
   "outputs": [],
   "source": []
  },
  {
   "cell_type": "code",
   "execution_count": 1,
   "id": "vertical-rebate",
   "metadata": {
    "execution": {
     "iopub.execute_input": "2021-06-29T01:55:43.585381Z",
     "iopub.status.busy": "2021-06-29T01:55:43.584853Z",
     "iopub.status.idle": "2021-06-29T01:55:43.595072Z",
     "shell.execute_reply": "2021-06-29T01:55:43.594650Z"
    },
    "papermill": {
     "duration": 0.030982,
     "end_time": "2021-06-29T01:55:43.595193",
     "exception": false,
     "start_time": "2021-06-29T01:55:43.564211",
     "status": "completed"
    },
    "tags": []
   },
   "outputs": [],
   "source": [
    "#hide\n",
    "%load_ext autoreload\n",
    "%autoreload 2"
   ]
  },
  {
   "cell_type": "code",
   "execution_count": 2,
   "id": "overall-advancement",
   "metadata": {
    "execution": {
     "iopub.execute_input": "2021-06-29T01:55:43.623194Z",
     "iopub.status.busy": "2021-06-29T01:55:43.622695Z",
     "iopub.status.idle": "2021-06-29T01:55:44.765848Z",
     "shell.execute_reply": "2021-06-29T01:55:44.765395Z"
    },
    "papermill": {
     "duration": 1.159593,
     "end_time": "2021-06-29T01:55:44.765970",
     "exception": false,
     "start_time": "2021-06-29T01:55:43.606377",
     "status": "completed"
    },
    "tags": []
   },
   "outputs": [],
   "source": [
    "#hide\n",
    "from scripts.read_data import read_api\n",
    "from IPython.display import HTML\n",
    "import plotly.graph_objects as go\n"
   ]
  },
  {
   "cell_type": "code",
   "execution_count": 3,
   "id": "light-crazy",
   "metadata": {
    "execution": {
     "iopub.execute_input": "2021-06-29T01:55:44.795427Z",
     "iopub.status.busy": "2021-06-29T01:55:44.793435Z",
     "iopub.status.idle": "2021-06-29T01:55:44.816665Z",
     "shell.execute_reply": "2021-06-29T01:55:44.816144Z"
    },
    "papermill": {
     "duration": 0.039152,
     "end_time": "2021-06-29T01:55:44.816783",
     "exception": false,
     "start_time": "2021-06-29T01:55:44.777631",
     "status": "completed"
    },
    "tags": []
   },
   "outputs": [],
   "source": [
    "#hide\n",
    "### ICO koreliacija"
   ]
  },
  {
   "cell_type": "code",
   "execution_count": 4,
   "id": "likely-bahrain",
   "metadata": {
    "execution": {
     "iopub.execute_input": "2021-06-29T01:55:44.842482Z",
     "iopub.status.busy": "2021-06-29T01:55:44.841933Z",
     "iopub.status.idle": "2021-06-29T01:55:45.634128Z",
     "shell.execute_reply": "2021-06-29T01:55:45.633575Z"
    },
    "papermill": {
     "duration": 0.806298,
     "end_time": "2021-06-29T01:55:45.634263",
     "exception": false,
     "start_time": "2021-06-29T01:55:44.827965",
     "status": "completed"
    },
    "tags": []
   },
   "outputs": [],
   "source": [
    "#hide\n",
    "import matplotlib.pyplot as plt\n",
    "import numpy as np\n",
    "import pandas as pd\n",
    "import seaborn as sns\n",
    "import matplotlib.pyplot as plt \n",
    "import matplotlib.dates as mdates\n",
    "import matplotlib.pyplot as plt"
   ]
  },
  {
   "cell_type": "code",
   "execution_count": 5,
   "id": "superior-blanket",
   "metadata": {
    "execution": {
     "iopub.execute_input": "2021-06-29T01:55:45.665160Z",
     "iopub.status.busy": "2021-06-29T01:55:45.664637Z",
     "iopub.status.idle": "2021-06-29T01:55:59.020703Z",
     "shell.execute_reply": "2021-06-29T01:55:59.019924Z"
    },
    "papermill": {
     "duration": 13.374882,
     "end_time": "2021-06-29T01:55:59.020835",
     "exception": false,
     "start_time": "2021-06-29T01:55:45.645953",
     "status": "completed"
    },
    "tags": []
   },
   "outputs": [
    {
     "name": "stderr",
     "output_type": "stream",
     "text": [
      "/home/runner/work/corr-app/corr-app/_notebooks/scripts/read_data.py:187: SettingWithCopyWarning:\n",
      "\n",
      "\n",
      "A value is trying to be set on a copy of a slice from a DataFrame.\n",
      "Try using .loc[row_indexer,col_indexer] = value instead\n",
      "\n",
      "See the caveats in the documentation: https://pandas.pydata.org/pandas-docs/stable/user_guide/indexing.html#returning-a-view-versus-a-copy\n",
      "\n"
     ]
    },
    {
     "name": "stderr",
     "output_type": "stream",
     "text": [
      "/home/runner/work/corr-app/corr-app/_notebooks/scripts/read_data.py:215: SettingWithCopyWarning:\n",
      "\n",
      "\n",
      "A value is trying to be set on a copy of a slice from a DataFrame.\n",
      "Try using .loc[row_indexer,col_indexer] = value instead\n",
      "\n",
      "See the caveats in the documentation: https://pandas.pydata.org/pandas-docs/stable/user_guide/indexing.html#returning-a-view-versus-a-copy\n",
      "\n"
     ]
    }
   ],
   "source": [
    "#hide\n",
    "df_all = read_api()\n",
    "#df_all = df_all.drop(['SP500', 'XAU', 'ETH', 'BTC'], axis=1)\n",
    "\n"
   ]
  },
  {
   "cell_type": "code",
   "execution_count": 6,
   "id": "mature-alert",
   "metadata": {
    "execution": {
     "iopub.execute_input": "2021-06-29T01:55:59.049801Z",
     "iopub.status.busy": "2021-06-29T01:55:59.049201Z",
     "iopub.status.idle": "2021-06-29T01:55:59.079289Z",
     "shell.execute_reply": "2021-06-29T01:55:59.078776Z"
    },
    "papermill": {
     "duration": 0.046747,
     "end_time": "2021-06-29T01:55:59.079426",
     "exception": false,
     "start_time": "2021-06-29T01:55:59.032679",
     "status": "completed"
    },
    "tags": []
   },
   "outputs": [],
   "source": [
    "#hide_input\n",
    "sum_corr = df_all.corr().sum().sort_values(ascending=True).index.values\n",
    "#df_all[sum_corr].corr()"
   ]
  },
  {
   "cell_type": "markdown",
   "id": "complex-syndicate",
   "metadata": {
    "papermill": {
     "duration": 0.011399,
     "end_time": "2021-06-29T01:55:59.103129",
     "exception": false,
     "start_time": "2021-06-29T01:55:59.091730",
     "status": "completed"
    },
    "tags": []
   },
   "source": [
    "## Išplėstinė koreliacijų matrica. "
   ]
  },
  {
   "cell_type": "code",
   "execution_count": 7,
   "id": "atomic-omaha",
   "metadata": {
    "execution": {
     "iopub.execute_input": "2021-06-29T01:55:59.132455Z",
     "iopub.status.busy": "2021-06-29T01:55:59.131920Z",
     "iopub.status.idle": "2021-06-29T01:56:00.238895Z",
     "shell.execute_reply": "2021-06-29T01:56:00.238466Z"
    },
    "papermill": {
     "duration": 1.124526,
     "end_time": "2021-06-29T01:56:00.239016",
     "exception": false,
     "start_time": "2021-06-29T01:55:59.114490",
     "status": "completed"
    },
    "tags": []
   },
   "outputs": [
    {
     "data": {
      "image/png": "[encoded data removed]",
      "text/plain": [
       "<Figure size 1080x792 with 2 Axes>"
      ]
     },
     "metadata": {
      "needs_background": "light"
     },
     "output_type": "display_data"
    }
   ],
   "source": [
    "#hide_input\n",
    "plt.figure(figsize=(15, 11))\n",
    "sns.heatmap(df_all[sum_corr].corr(), annot=True, cmap=\"cubehelix\") \n",
    "sns.set(font_scale=1.25)\n",
    "plt.savefig('corr_matrix.png', format='eps')"
   ]
  },
  {
   "cell_type": "code",
   "execution_count": 8,
   "id": "arbitrary-sullivan",
   "metadata": {
    "execution": {
     "iopub.execute_input": "2021-06-29T01:56:00.270308Z",
     "iopub.status.busy": "2021-06-29T01:56:00.269708Z",
     "iopub.status.idle": "2021-06-29T01:56:00.295682Z",
     "shell.execute_reply": "2021-06-29T01:56:00.295216Z"
    },
    "papermill": {
     "duration": 0.042994,
     "end_time": "2021-06-29T01:56:00.295795",
     "exception": false,
     "start_time": "2021-06-29T01:56:00.252801",
     "status": "completed"
    },
    "tags": []
   },
   "outputs": [],
   "source": [
    "#hide\n",
    "#df_all_mrk = read_api()"
   ]
  },
  {
   "cell_type": "code",
   "execution_count": 9,
   "id": "delayed-adapter",
   "metadata": {
    "execution": {
     "iopub.execute_input": "2021-06-29T01:56:00.326563Z",
     "iopub.status.busy": "2021-06-29T01:56:00.326058Z",
     "iopub.status.idle": "2021-06-29T01:56:00.352226Z",
     "shell.execute_reply": "2021-06-29T01:56:00.351717Z"
    },
    "papermill": {
     "duration": 0.043157,
     "end_time": "2021-06-29T01:56:00.352383",
     "exception": false,
     "start_time": "2021-06-29T01:56:00.309226",
     "status": "completed"
    },
    "tags": []
   },
   "outputs": [],
   "source": [
    "#hide\n",
    "#Koreliacijų koeficientai"
   ]
  },
  {
   "cell_type": "code",
   "execution_count": 10,
   "id": "seeing-celebration",
   "metadata": {
    "execution": {
     "iopub.execute_input": "2021-06-29T01:56:00.385623Z",
     "iopub.status.busy": "2021-06-29T01:56:00.385107Z",
     "iopub.status.idle": "2021-06-29T01:56:00.411515Z",
     "shell.execute_reply": "2021-06-29T01:56:00.410989Z"
    },
    "papermill": {
     "duration": 0.045147,
     "end_time": "2021-06-29T01:56:00.411644",
     "exception": false,
     "start_time": "2021-06-29T01:56:00.366497",
     "status": "completed"
    },
    "tags": []
   },
   "outputs": [],
   "source": [
    "#hide_input\n",
    "#sum_corr = df_all_mrk.corr().sum().sort_values(ascending=True).index.values\n",
    "#df_all_mrk[sum_corr].corr()"
   ]
  },
  {
   "cell_type": "code",
   "execution_count": 11,
   "id": "other-painting",
   "metadata": {
    "execution": {
     "iopub.execute_input": "2021-06-29T01:56:00.442987Z",
     "iopub.status.busy": "2021-06-29T01:56:00.442486Z",
     "iopub.status.idle": "2021-06-29T01:56:00.469284Z",
     "shell.execute_reply": "2021-06-29T01:56:00.468789Z"
    },
    "papermill": {
     "duration": 0.043576,
     "end_time": "2021-06-29T01:56:00.469421",
     "exception": false,
     "start_time": "2021-06-29T01:56:00.425845",
     "status": "completed"
    },
    "tags": []
   },
   "outputs": [],
   "source": [
    "#hide\n",
    "#Koreliacijos matrica. "
   ]
  },
  {
   "cell_type": "code",
   "execution_count": 12,
   "id": "modular-magnitude",
   "metadata": {
    "execution": {
     "iopub.execute_input": "2021-06-29T01:56:00.501576Z",
     "iopub.status.busy": "2021-06-29T01:56:00.501077Z",
     "iopub.status.idle": "2021-06-29T01:56:00.527914Z",
     "shell.execute_reply": "2021-06-29T01:56:00.527410Z"
    },
    "papermill": {
     "duration": 0.044101,
     "end_time": "2021-06-29T01:56:00.528048",
     "exception": false,
     "start_time": "2021-06-29T01:56:00.483947",
     "status": "completed"
    },
    "tags": []
   },
   "outputs": [],
   "source": [
    "#hide_input\n",
    "#plt.figure(figsize=(15, 8))\n",
    "#sns.heatmap(df_all_mrk[sum_corr].corr(), annot=True, cmap=\"BrBG\");\n",
    "#plt.savefig('corr_matrix_all.eps', format='eps')"
   ]
  },
  {
   "cell_type": "code",
   "execution_count": null,
   "id": "original-senator",
   "metadata": {
    "papermill": {
     "duration": 0.013381,
     "end_time": "2021-06-29T01:56:00.554962",
     "exception": false,
     "start_time": "2021-06-29T01:56:00.541581",
     "status": "completed"
    },
    "tags": []
   },
   "outputs": [],
   "source": []
  },
  {
   "cell_type": "code",
   "execution_count": null,
   "id": "saving-secretariat",
   "metadata": {
    "papermill": {
     "duration": 0.013288,
     "end_time": "2021-06-29T01:56:00.581550",
     "exception": false,
     "start_time": "2021-06-29T01:56:00.568262",
     "status": "completed"
    },
    "tags": []
   },
   "outputs": [],
   "source": []
  }
 ],
 "metadata": {
  "kernelspec": {
   "display_name": "Python 3",
   "language": "python",
   "name": "python3"
  },
  "language_info": {
   "codemirror_mode": {
    "name": "ipython",
    "version": 3
   },
   "file_extension": ".py",
   "mimetype": "text/x-python",
   "name": "python",
   "nbconvert_exporter": "python",
   "pygments_lexer": "ipython3",
   "version": "3.6.13"
  },
  "papermill": {
   "default_parameters": {},
   "duration": 18.628304,
   "end_time": "2021-06-29T01:56:01.103238",
   "environment_variables": {},
   "exception": null,
   "input_path": "App-Correlation_charts.ipynb",
   "output_path": "App-Correlation_charts.ipynb",
   "parameters": {},
   "start_time": "2021-06-29T01:55:42.474934",
   "version": "2.2.2"
  }
 },
 "nbformat": 4,
 "nbformat_minor": 5
}