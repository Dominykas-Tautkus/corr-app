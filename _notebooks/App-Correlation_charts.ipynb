{
 "cells": [
  {
   "cell_type": "markdown",
   "id": "touched-facility",
   "metadata": {
    "papermill": {
     "duration": 0.019641,
     "end_time": "2021-03-03T01:42:11.054549",
     "exception": false,
     "start_time": "2021-03-03T01:42:11.034908",
     "status": "completed"
    },
    "tags": []
   },
   "source": [
    "# Koreliacijų matrica\n",
    "> Išplėstinė koreliacijų matrica. \n",
    "\n",
    "- toc: true \n",
    "- badges: true\n",
    "- comments: false\n",
    "- categories: [Dominykas Tautkus]\n",
    "- image: images/matrix.png"
   ]
  },
  {
   "cell_type": "code",
   "execution_count": null,
   "id": "premium-weekend",
   "metadata": {
    "papermill": {
     "duration": 0.01239,
     "end_time": "2021-03-03T01:42:11.081280",
     "exception": false,
     "start_time": "2021-03-03T01:42:11.068890",
     "status": "completed"
    },
    "tags": []
   },
   "outputs": [],
   "source": []
  },
  {
   "cell_type": "code",
   "execution_count": 1,
   "id": "vertical-rebate",
   "metadata": {
    "execution": {
     "iopub.execute_input": "2021-03-03T01:42:11.122399Z",
     "iopub.status.busy": "2021-03-03T01:42:11.120515Z",
     "iopub.status.idle": "2021-03-03T01:42:11.131585Z",
     "shell.execute_reply": "2021-03-03T01:42:11.132131Z"
    },
    "papermill": {
     "duration": 0.038893,
     "end_time": "2021-03-03T01:42:11.132295",
     "exception": false,
     "start_time": "2021-03-03T01:42:11.093402",
     "status": "completed"
    },
    "tags": []
   },
   "outputs": [],
   "source": [
    "#hide\n",
    "%load_ext autoreload\n",
    "%autoreload 2"
   ]
  },
  {
   "cell_type": "code",
   "execution_count": 2,
   "id": "overall-advancement",
   "metadata": {
    "execution": {
     "iopub.execute_input": "2021-03-03T01:42:11.278566Z",
     "iopub.status.busy": "2021-03-03T01:42:11.277981Z",
     "iopub.status.idle": "2021-03-03T01:42:15.852569Z",
     "shell.execute_reply": "2021-03-03T01:42:15.851336Z"
    },
    "papermill": {
     "duration": 4.708439,
     "end_time": "2021-03-03T01:42:15.852713",
     "exception": false,
     "start_time": "2021-03-03T01:42:11.144274",
     "status": "completed"
    },
    "tags": []
   },
   "outputs": [],
   "source": [
    "#hide\n",
    "from scripts.read_data import read_api\n",
    "from IPython.display import HTML\n",
    "import plotly.graph_objects as go\n"
   ]
  },
  {
   "cell_type": "code",
   "execution_count": 3,
   "id": "light-crazy",
   "metadata": {
    "execution": {
     "iopub.execute_input": "2021-03-03T01:42:16.602747Z",
     "iopub.status.busy": "2021-03-03T01:42:16.602131Z",
     "iopub.status.idle": "2021-03-03T01:42:16.619913Z",
     "shell.execute_reply": "2021-03-03T01:42:16.620764Z"
    },
    "papermill": {
     "duration": 0.707218,
     "end_time": "2021-03-03T01:42:16.620930",
     "exception": false,
     "start_time": "2021-03-03T01:42:15.913712",
     "status": "completed"
    },
    "tags": []
   },
   "outputs": [],
   "source": [
    "#hide\n",
    "### ICO koreliacija"
   ]
  },
  {
   "cell_type": "code",
   "execution_count": 4,
   "id": "likely-bahrain",
   "metadata": {
    "execution": {
     "iopub.execute_input": "2021-03-03T01:42:17.530672Z",
     "iopub.status.busy": "2021-03-03T01:42:17.530049Z",
     "iopub.status.idle": "2021-03-03T01:42:20.299878Z",
     "shell.execute_reply": "2021-03-03T01:42:20.299215Z"
    },
    "papermill": {
     "duration": 3.415577,
     "end_time": "2021-03-03T01:42:20.300049",
     "exception": false,
     "start_time": "2021-03-03T01:42:16.884472",
     "status": "completed"
    },
    "tags": []
   },
   "outputs": [],
   "source": [
    "#hide\n",
    "import matplotlib.pyplot as plt\n",
    "import numpy as np\n",
    "import pandas as pd\n",
    "import seaborn as sns\n",
    "import matplotlib.pyplot as plt \n",
    "import matplotlib.dates as mdates\n",
    "import matplotlib.pyplot as plt"
   ]
  },
  {
   "cell_type": "code",
   "execution_count": 5,
   "id": "superior-blanket",
   "metadata": {
    "execution": {
     "iopub.execute_input": "2021-03-03T01:42:20.334910Z",
     "iopub.status.busy": "2021-03-03T01:42:20.334332Z",
     "iopub.status.idle": "2021-03-03T01:42:32.648697Z",
     "shell.execute_reply": "2021-03-03T01:42:32.648020Z"
    },
    "papermill": {
     "duration": 12.334769,
     "end_time": "2021-03-03T01:42:32.648838",
     "exception": false,
     "start_time": "2021-03-03T01:42:20.314069",
     "status": "completed"
    },
    "tags": []
   },
   "outputs": [
    {
     "name": "stderr",
     "output_type": "stream",
     "text": [
      "/home/runner/work/corr-app/corr-app/_notebooks/scripts/read_data.py:187: SettingWithCopyWarning:\n",
      "\n",
      "\n",
      "A value is trying to be set on a copy of a slice from a DataFrame.\n",
      "Try using .loc[row_indexer,col_indexer] = value instead\n",
      "\n",
      "See the caveats in the documentation: https://pandas.pydata.org/pandas-docs/stable/user_guide/indexing.html#returning-a-view-versus-a-copy\n",
      "\n"
     ]
    },
    {
     "name": "stderr",
     "output_type": "stream",
     "text": [
      "/home/runner/work/corr-app/corr-app/_notebooks/scripts/read_data.py:215: SettingWithCopyWarning:\n",
      "\n",
      "\n",
      "A value is trying to be set on a copy of a slice from a DataFrame.\n",
      "Try using .loc[row_indexer,col_indexer] = value instead\n",
      "\n",
      "See the caveats in the documentation: https://pandas.pydata.org/pandas-docs/stable/user_guide/indexing.html#returning-a-view-versus-a-copy\n",
      "\n"
     ]
    }
   ],
   "source": [
    "#hide\n",
    "df_all = read_api()\n",
    "#df_all = df_all.drop(['SP500', 'XAU', 'ETH', 'BTC'], axis=1)\n",
    "\n"
   ]
  },
  {
   "cell_type": "code",
   "execution_count": 6,
   "id": "mature-alert",
   "metadata": {
    "execution": {
     "iopub.execute_input": "2021-03-03T01:42:32.681390Z",
     "iopub.status.busy": "2021-03-03T01:42:32.680749Z",
     "iopub.status.idle": "2021-03-03T01:42:32.715231Z",
     "shell.execute_reply": "2021-03-03T01:42:32.714339Z"
    },
    "papermill": {
     "duration": 0.052887,
     "end_time": "2021-03-03T01:42:32.715456",
     "exception": false,
     "start_time": "2021-03-03T01:42:32.662569",
     "status": "completed"
    },
    "tags": []
   },
   "outputs": [],
   "source": [
    "#hide_input\n",
    "sum_corr = df_all.corr().sum().sort_values(ascending=True).index.values\n",
    "#df_all[sum_corr].corr()"
   ]
  },
  {
   "cell_type": "markdown",
   "id": "complex-syndicate",
   "metadata": {
    "papermill": {
     "duration": 0.014531,
     "end_time": "2021-03-03T01:42:32.746768",
     "exception": false,
     "start_time": "2021-03-03T01:42:32.732237",
     "status": "completed"
    },
    "tags": []
   },
   "source": [
    "## Išplėstinė koreliacijų matrica. "
   ]
  },
  {
   "cell_type": "code",
   "execution_count": 7,
   "id": "atomic-omaha",
   "metadata": {
    "execution": {
     "iopub.execute_input": "2021-03-03T01:42:32.779421Z",
     "iopub.status.busy": "2021-03-03T01:42:32.778807Z",
     "iopub.status.idle": "2021-03-03T01:42:34.079035Z",
     "shell.execute_reply": "2021-03-03T01:42:34.078541Z"
    },
    "papermill": {
     "duration": 1.318985,
     "end_time": "2021-03-03T01:42:34.079170",
     "exception": false,
     "start_time": "2021-03-03T01:42:32.760185",
     "status": "completed"
    },
    "tags": []
   },
   "outputs": [
    {
     "data": {
      "image/png": "[encoded data removed]",
      "text/plain": [
       "<Figure size 1080x792 with 2 Axes>"
      ]
     },
     "metadata": {
      "needs_background": "light"
     },
     "output_type": "display_data"
    }
   ],
   "source": [
    "#hide_input\n",
    "plt.figure(figsize=(15, 11))\n",
    "sns.heatmap(df_all[sum_corr].corr(), annot=True, cmap=\"cubehelix\") \n",
    "sns.set(font_scale=1.25)\n",
    "plt.savefig('corr_matrix.png', format='eps')"
   ]
  },
  {
   "cell_type": "code",
   "execution_count": 8,
   "id": "arbitrary-sullivan",
   "metadata": {
    "execution": {
     "iopub.execute_input": "2021-03-03T01:42:34.115483Z",
     "iopub.status.busy": "2021-03-03T01:42:34.114863Z",
     "iopub.status.idle": "2021-03-03T01:42:34.145817Z",
     "shell.execute_reply": "2021-03-03T01:42:34.146371Z"
    },
    "papermill": {
     "duration": 0.051675,
     "end_time": "2021-03-03T01:42:34.146531",
     "exception": false,
     "start_time": "2021-03-03T01:42:34.094856",
     "status": "completed"
    },
    "tags": []
   },
   "outputs": [],
   "source": [
    "#hide\n",
    "#df_all_mrk = read_api()"
   ]
  },
  {
   "cell_type": "code",
   "execution_count": 9,
   "id": "delayed-adapter",
   "metadata": {
    "execution": {
     "iopub.execute_input": "2021-03-03T01:42:34.186998Z",
     "iopub.status.busy": "2021-03-03T01:42:34.186373Z",
     "iopub.status.idle": "2021-03-03T01:42:34.215226Z",
     "shell.execute_reply": "2021-03-03T01:42:34.214500Z"
    },
    "papermill": {
     "duration": 0.053072,
     "end_time": "2021-03-03T01:42:34.215397",
     "exception": false,
     "start_time": "2021-03-03T01:42:34.162325",
     "status": "completed"
    },
    "tags": []
   },
   "outputs": [],
   "source": [
    "#hide\n",
    "#Koreliacijų koeficientai"
   ]
  },
  {
   "cell_type": "code",
   "execution_count": 10,
   "id": "seeing-celebration",
   "metadata": {
    "execution": {
     "iopub.execute_input": "2021-03-03T01:42:34.254391Z",
     "iopub.status.busy": "2021-03-03T01:42:34.253786Z",
     "iopub.status.idle": "2021-03-03T01:42:34.283905Z",
     "shell.execute_reply": "2021-03-03T01:42:34.284872Z"
    },
    "papermill": {
     "duration": 0.052722,
     "end_time": "2021-03-03T01:42:34.285119",
     "exception": false,
     "start_time": "2021-03-03T01:42:34.232397",
     "status": "completed"
    },
    "tags": []
   },
   "outputs": [],
   "source": [
    "#hide_input\n",
    "#sum_corr = df_all_mrk.corr().sum().sort_values(ascending=True).index.values\n",
    "#df_all_mrk[sum_corr].corr()"
   ]
  },
  {
   "cell_type": "code",
   "execution_count": 11,
   "id": "other-painting",
   "metadata": {
    "execution": {
     "iopub.execute_input": "2021-03-03T01:42:34.322588Z",
     "iopub.status.busy": "2021-03-03T01:42:34.321984Z",
     "iopub.status.idle": "2021-03-03T01:42:34.354568Z",
     "shell.execute_reply": "2021-03-03T01:42:34.353659Z"
    },
    "papermill": {
     "duration": 0.0524,
     "end_time": "2021-03-03T01:42:34.354777",
     "exception": false,
     "start_time": "2021-03-03T01:42:34.302377",
     "status": "completed"
    },
    "tags": []
   },
   "outputs": [],
   "source": [
    "#hide\n",
    "#Koreliacijos matrica. "
   ]
  },
  {
   "cell_type": "code",
   "execution_count": 12,
   "id": "modular-magnitude",
   "metadata": {
    "execution": {
     "iopub.execute_input": "2021-03-03T01:42:34.393567Z",
     "iopub.status.busy": "2021-03-03T01:42:34.392944Z",
     "iopub.status.idle": "2021-03-03T01:42:34.424680Z",
     "shell.execute_reply": "2021-03-03T01:42:34.425497Z"
    },
    "papermill": {
     "duration": 0.052558,
     "end_time": "2021-03-03T01:42:34.425742",
     "exception": false,
     "start_time": "2021-03-03T01:42:34.373184",
     "status": "completed"
    },
    "tags": []
   },
   "outputs": [],
   "source": [
    "#hide_input\n",
    "#plt.figure(figsize=(15, 8))\n",
    "#sns.heatmap(df_all_mrk[sum_corr].corr(), annot=True, cmap=\"BrBG\");\n",
    "#plt.savefig('corr_matrix_all.eps', format='eps')"
   ]
  },
  {
   "cell_type": "code",
   "execution_count": null,
   "id": "original-senator",
   "metadata": {
    "papermill": {
     "duration": 0.015406,
     "end_time": "2021-03-03T01:42:34.458566",
     "exception": false,
     "start_time": "2021-03-03T01:42:34.443160",
     "status": "completed"
    },
    "tags": []
   },
   "outputs": [],
   "source": []
  },
  {
   "cell_type": "code",
   "execution_count": null,
   "id": "saving-secretariat",
   "metadata": {
    "papermill": {
     "duration": 0.015279,
     "end_time": "2021-03-03T01:42:34.490526",
     "exception": false,
     "start_time": "2021-03-03T01:42:34.475247",
     "status": "completed"
    },
    "tags": []
   },
   "outputs": [],
   "source": []
  }
 ],
 "metadata": {
  "kernelspec": {
   "display_name": "Python 3",
   "language": "python",
   "name": "python3"
  },
  "language_info": {
   "codemirror_mode": {
    "name": "ipython",
    "version": 3
   },
   "file_extension": ".py",
   "mimetype": "text/x-python",
   "name": "python",
   "nbconvert_exporter": "python",
   "pygments_lexer": "ipython3",
   "version": "3.6.13"
  },
  "papermill": {
   "default_parameters": {},
   "duration": 25.061806,
   "end_time": "2021-03-03T01:42:35.015335",
   "environment_variables": {},
   "exception": null,
   "input_path": "App-Correlation_charts.ipynb",
   "output_path": "App-Correlation_charts.ipynb",
   "parameters": {},
   "start_time": "2021-03-03T01:42:09.953529",
   "version": "2.2.2"
  }
 },
 "nbformat": 4,
 "nbformat_minor": 5
}