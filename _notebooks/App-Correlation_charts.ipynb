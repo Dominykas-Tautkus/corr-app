{
 "cells": [
  {
   "cell_type": "markdown",
   "metadata": {
    "papermill": {
     "duration": 0.01281,
     "end_time": "2020-12-31T14:42:00.559930",
     "exception": false,
     "start_time": "2020-12-31T14:42:00.547120",
     "status": "completed"
    },
    "tags": []
   },
   "source": [
    "# Koreliacijų matrica\n",
    "> Išplėstinė koreliacijų matrica. \n",
    "\n",
    "- toc: true \n",
    "- badges: true\n",
    "- comments: false\n",
    "- categories: [Dominykas Tautkus]\n",
    "- image: images/matrix.png"
   ]
  },
  {
   "cell_type": "code",
   "execution_count": 1,
   "metadata": {
    "execution": {
     "iopub.execute_input": "2020-12-31T14:42:00.586244Z",
     "iopub.status.busy": "2020-12-31T14:42:00.585658Z",
     "iopub.status.idle": "2020-12-31T14:42:00.596271Z",
     "shell.execute_reply": "2020-12-31T14:42:00.595843Z"
    },
    "papermill": {
     "duration": 0.027632,
     "end_time": "2020-12-31T14:42:00.596381",
     "exception": false,
     "start_time": "2020-12-31T14:42:00.568749",
     "status": "completed"
    },
    "tags": []
   },
   "outputs": [],
   "source": [
    "#hide\n",
    "%load_ext autoreload\n",
    "%autoreload 2"
   ]
  },
  {
   "cell_type": "code",
   "execution_count": 2,
   "metadata": {
    "execution": {
     "iopub.execute_input": "2020-12-31T14:42:00.616674Z",
     "iopub.status.busy": "2020-12-31T14:42:00.616216Z",
     "iopub.status.idle": "2020-12-31T14:42:01.582986Z",
     "shell.execute_reply": "2020-12-31T14:42:01.581993Z"
    },
    "papermill": {
     "duration": 0.978427,
     "end_time": "2020-12-31T14:42:01.583117",
     "exception": false,
     "start_time": "2020-12-31T14:42:00.604690",
     "status": "completed"
    },
    "tags": []
   },
   "outputs": [],
   "source": [
    "#hide\n",
    "from scripts.read_data import read_api\n",
    "from IPython.display import HTML\n",
    "import plotly.graph_objects as go\n"
   ]
  },
  {
   "cell_type": "code",
   "execution_count": 3,
   "metadata": {
    "execution": {
     "iopub.execute_input": "2020-12-31T14:42:01.606410Z",
     "iopub.status.busy": "2020-12-31T14:42:01.604256Z",
     "iopub.status.idle": "2020-12-31T14:42:01.624608Z",
     "shell.execute_reply": "2020-12-31T14:42:01.624116Z"
    },
    "papermill": {
     "duration": 0.032932,
     "end_time": "2020-12-31T14:42:01.624740",
     "exception": false,
     "start_time": "2020-12-31T14:42:01.591808",
     "status": "completed"
    },
    "tags": []
   },
   "outputs": [],
   "source": [
    "#hide\n",
    "### ICO koreliacija"
   ]
  },
  {
   "cell_type": "code",
   "execution_count": 4,
   "metadata": {
    "execution": {
     "iopub.execute_input": "2020-12-31T14:42:01.646529Z",
     "iopub.status.busy": "2020-12-31T14:42:01.645750Z",
     "iopub.status.idle": "2020-12-31T14:42:02.785072Z",
     "shell.execute_reply": "2020-12-31T14:42:02.784029Z"
    },
    "papermill": {
     "duration": 1.151387,
     "end_time": "2020-12-31T14:42:02.785218",
     "exception": false,
     "start_time": "2020-12-31T14:42:01.633831",
     "status": "completed"
    },
    "tags": []
   },
   "outputs": [],
   "source": [
    "#hide\n",
    "import matplotlib.pyplot as plt\n",
    "import numpy as np\n",
    "import pandas as pd\n",
    "import seaborn as sns\n",
    "import matplotlib.pyplot as plt \n",
    "import matplotlib.dates as mdates\n",
    "import matplotlib.pyplot as plt"
   ]
  },
  {
   "cell_type": "code",
   "execution_count": 5,
   "metadata": {
    "execution": {
     "iopub.execute_input": "2020-12-31T14:42:02.807288Z",
     "iopub.status.busy": "2020-12-31T14:42:02.806666Z",
     "iopub.status.idle": "2020-12-31T14:42:13.257212Z",
     "shell.execute_reply": "2020-12-31T14:42:13.256183Z"
    },
    "papermill": {
     "duration": 10.463067,
     "end_time": "2020-12-31T14:42:13.257369",
     "exception": false,
     "start_time": "2020-12-31T14:42:02.794302",
     "status": "completed"
    },
    "tags": []
   },
   "outputs": [
    {
     "name": "stderr",
     "output_type": "stream",
     "text": [
      "/home/runner/work/corr-app/corr-app/_notebooks/scripts/read_data.py:187: SettingWithCopyWarning:\n",
      "\n",
      "\n",
      "A value is trying to be set on a copy of a slice from a DataFrame.\n",
      "Try using .loc[row_indexer,col_indexer] = value instead\n",
      "\n",
      "See the caveats in the documentation: https://pandas.pydata.org/pandas-docs/stable/user_guide/indexing.html#returning-a-view-versus-a-copy\n",
      "\n"
     ]
    },
    {
     "name": "stderr",
     "output_type": "stream",
     "text": [
      "/home/runner/work/corr-app/corr-app/_notebooks/scripts/read_data.py:215: SettingWithCopyWarning:\n",
      "\n",
      "\n",
      "A value is trying to be set on a copy of a slice from a DataFrame.\n",
      "Try using .loc[row_indexer,col_indexer] = value instead\n",
      "\n",
      "See the caveats in the documentation: https://pandas.pydata.org/pandas-docs/stable/user_guide/indexing.html#returning-a-view-versus-a-copy\n",
      "\n"
     ]
    }
   ],
   "source": [
    "#hide\n",
    "df_all = read_api()\n",
    "#del df_all['XAU']\n",
    "#del df_all['SP500']\n"
   ]
  },
  {
   "cell_type": "code",
   "execution_count": 6,
   "metadata": {
    "execution": {
     "iopub.execute_input": "2020-12-31T14:42:13.278157Z",
     "iopub.status.busy": "2020-12-31T14:42:13.277570Z",
     "iopub.status.idle": "2020-12-31T14:42:13.303276Z",
     "shell.execute_reply": "2020-12-31T14:42:13.303846Z"
    },
    "papermill": {
     "duration": 0.037516,
     "end_time": "2020-12-31T14:42:13.304016",
     "exception": false,
     "start_time": "2020-12-31T14:42:13.266500",
     "status": "completed"
    },
    "tags": []
   },
   "outputs": [],
   "source": [
    "#hide_input\n",
    "sum_corr = df_all.corr().sum().sort_values(ascending=True).index.values\n",
    "#df_all[sum_corr].corr()"
   ]
  },
  {
   "cell_type": "markdown",
   "metadata": {
    "papermill": {
     "duration": 0.008938,
     "end_time": "2020-12-31T14:42:13.323118",
     "exception": false,
     "start_time": "2020-12-31T14:42:13.314180",
     "status": "completed"
    },
    "tags": []
   },
   "source": [
    "## Išplėstinė koreliacijų matrica. "
   ]
  },
  {
   "cell_type": "code",
   "execution_count": 7,
   "metadata": {
    "execution": {
     "iopub.execute_input": "2020-12-31T14:42:13.345732Z",
     "iopub.status.busy": "2020-12-31T14:42:13.345286Z",
     "iopub.status.idle": "2020-12-31T14:42:14.404477Z",
     "shell.execute_reply": "2020-12-31T14:42:14.403922Z"
    },
    "papermill": {
     "duration": 1.072767,
     "end_time": "2020-12-31T14:42:14.404600",
     "exception": false,
     "start_time": "2020-12-31T14:42:13.331833",
     "status": "completed"
    },
    "tags": []
   },
   "outputs": [
    {
     "data": {
      "image/png": "[encoded data removed]",
      "text/plain": [
       "<Figure size 1080x792 with 2 Axes>"
      ]
     },
     "metadata": {
      "needs_background": "light"
     },
     "output_type": "display_data"
    }
   ],
   "source": [
    "#hide_input\n",
    "plt.figure(figsize=(15, 11))\n",
    "sns.heatmap(df_all[sum_corr].corr(), annot=True, cmap=\"cubehelix\") \n",
    "sns.set(font_scale=1.25)\n",
    "plt.savefig('corr_matrix_all.eps', format='eps')"
   ]
  },
  {
   "cell_type": "code",
   "execution_count": 8,
   "metadata": {
    "execution": {
     "iopub.execute_input": "2020-12-31T14:42:14.434146Z",
     "iopub.status.busy": "2020-12-31T14:42:14.433512Z",
     "iopub.status.idle": "2020-12-31T14:42:14.457012Z",
     "shell.execute_reply": "2020-12-31T14:42:14.456623Z"
    },
    "papermill": {
     "duration": 0.04262,
     "end_time": "2020-12-31T14:42:14.457114",
     "exception": false,
     "start_time": "2020-12-31T14:42:14.414494",
     "status": "completed"
    },
    "tags": []
   },
   "outputs": [],
   "source": [
    "#hide\n",
    "#df_all_mrk = read_api()"
   ]
  },
  {
   "cell_type": "code",
   "execution_count": 9,
   "metadata": {
    "execution": {
     "iopub.execute_input": "2020-12-31T14:42:14.485419Z",
     "iopub.status.busy": "2020-12-31T14:42:14.484934Z",
     "iopub.status.idle": "2020-12-31T14:42:14.508729Z",
     "shell.execute_reply": "2020-12-31T14:42:14.508189Z"
    },
    "papermill": {
     "duration": 0.04066,
     "end_time": "2020-12-31T14:42:14.508852",
     "exception": false,
     "start_time": "2020-12-31T14:42:14.468192",
     "status": "completed"
    },
    "tags": []
   },
   "outputs": [],
   "source": [
    "#hide\n",
    "#Koreliacijų koeficientai"
   ]
  },
  {
   "cell_type": "code",
   "execution_count": 10,
   "metadata": {
    "execution": {
     "iopub.execute_input": "2020-12-31T14:42:14.535658Z",
     "iopub.status.busy": "2020-12-31T14:42:14.534692Z",
     "iopub.status.idle": "2020-12-31T14:42:14.558016Z",
     "shell.execute_reply": "2020-12-31T14:42:14.557099Z"
    },
    "papermill": {
     "duration": 0.038733,
     "end_time": "2020-12-31T14:42:14.558217",
     "exception": false,
     "start_time": "2020-12-31T14:42:14.519484",
     "status": "completed"
    },
    "tags": []
   },
   "outputs": [],
   "source": [
    "#hide_input\n",
    "#sum_corr = df_all_mrk.corr().sum().sort_values(ascending=True).index.values\n",
    "#df_all_mrk[sum_corr].corr()"
   ]
  },
  {
   "cell_type": "code",
   "execution_count": 11,
   "metadata": {
    "execution": {
     "iopub.execute_input": "2020-12-31T14:42:14.586643Z",
     "iopub.status.busy": "2020-12-31T14:42:14.586154Z",
     "iopub.status.idle": "2020-12-31T14:42:14.608580Z",
     "shell.execute_reply": "2020-12-31T14:42:14.607974Z"
    },
    "papermill": {
     "duration": 0.03672,
     "end_time": "2020-12-31T14:42:14.608718",
     "exception": false,
     "start_time": "2020-12-31T14:42:14.571998",
     "status": "completed"
    },
    "tags": []
   },
   "outputs": [],
   "source": [
    "#hide\n",
    "#Koreliacijos matrica. "
   ]
  },
  {
   "cell_type": "code",
   "execution_count": 12,
   "metadata": {
    "execution": {
     "iopub.execute_input": "2020-12-31T14:42:14.636780Z",
     "iopub.status.busy": "2020-12-31T14:42:14.636216Z",
     "iopub.status.idle": "2020-12-31T14:42:14.658865Z",
     "shell.execute_reply": "2020-12-31T14:42:14.658368Z"
    },
    "papermill": {
     "duration": 0.036339,
     "end_time": "2020-12-31T14:42:14.658978",
     "exception": false,
     "start_time": "2020-12-31T14:42:14.622639",
     "status": "completed"
    },
    "tags": []
   },
   "outputs": [],
   "source": [
    "#hide_input\n",
    "#plt.figure(figsize=(15, 8))\n",
    "#sns.heatmap(df_all_mrk[sum_corr].corr(), annot=True, cmap=\"BrBG\");\n",
    "#plt.savefig('corr_matrix_all.eps', format='eps')"
   ]
  }
 ],
 "metadata": {
  "kernelspec": {
   "display_name": "Python 3",
   "language": "python",
   "name": "python3"
  },
  "language_info": {
   "codemirror_mode": {
    "name": "ipython",
    "version": 3
   },
   "file_extension": ".py",
   "mimetype": "text/x-python",
   "name": "python",
   "nbconvert_exporter": "python",
   "pygments_lexer": "ipython3",
   "version": "3.6.12"
  },
  "papermill": {
   "default_parameters": {},
   "duration": 16.258392,
   "end_time": "2020-12-31T14:42:15.895950",
   "environment_variables": {},
   "exception": null,
   "input_path": "App-Correlation_charts.ipynb",
   "output_path": "App-Correlation_charts.ipynb",
   "parameters": {},
   "start_time": "2020-12-31T14:41:59.637558",
   "version": "2.2.2"
  }
 },
 "nbformat": 4,
 "nbformat_minor": 4
}