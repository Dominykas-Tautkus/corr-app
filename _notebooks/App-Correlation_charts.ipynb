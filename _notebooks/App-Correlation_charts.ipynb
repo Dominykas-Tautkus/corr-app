{
 "cells": [
  {
   "cell_type": "markdown",
   "id": "touched-facility",
   "metadata": {
    "papermill": {
     "duration": 0.017282,
     "end_time": "2021-06-30T02:01:50.215462",
     "exception": false,
     "start_time": "2021-06-30T02:01:50.198180",
     "status": "completed"
    },
    "tags": []
   },
   "source": [
    "# Koreliacijų matrica\n",
    "> Išplėstinė koreliacijų matrica. \n",
    "\n",
    "- toc: true \n",
    "- badges: true\n",
    "- comments: false\n",
    "- categories: [Dominykas Tautkus]\n",
    "- image: images/matrix.png"
   ]
  },
  {
   "cell_type": "code",
   "execution_count": null,
   "id": "premium-weekend",
   "metadata": {
    "papermill": {
     "duration": 0.012382,
     "end_time": "2021-06-30T02:01:50.241232",
     "exception": false,
     "start_time": "2021-06-30T02:01:50.228850",
     "status": "completed"
    },
    "tags": []
   },
   "outputs": [],
   "source": []
  },
  {
   "cell_type": "code",
   "execution_count": 1,
   "id": "vertical-rebate",
   "metadata": {
    "execution": {
     "iopub.execute_input": "2021-06-30T02:01:50.278915Z",
     "iopub.status.busy": "2021-06-30T02:01:50.278261Z",
     "iopub.status.idle": "2021-06-30T02:01:50.290239Z",
     "shell.execute_reply": "2021-06-30T02:01:50.289739Z"
    },
    "papermill": {
     "duration": 0.036418,
     "end_time": "2021-06-30T02:01:50.290380",
     "exception": false,
     "start_time": "2021-06-30T02:01:50.253962",
     "status": "completed"
    },
    "tags": []
   },
   "outputs": [],
   "source": [
    "#hide\n",
    "%load_ext autoreload\n",
    "%autoreload 2"
   ]
  },
  {
   "cell_type": "code",
   "execution_count": 2,
   "id": "overall-advancement",
   "metadata": {
    "execution": {
     "iopub.execute_input": "2021-06-30T02:01:50.321786Z",
     "iopub.status.busy": "2021-06-30T02:01:50.321186Z",
     "iopub.status.idle": "2021-06-30T02:01:51.595805Z",
     "shell.execute_reply": "2021-06-30T02:01:51.594574Z"
    },
    "papermill": {
     "duration": 1.293049,
     "end_time": "2021-06-30T02:01:51.595956",
     "exception": false,
     "start_time": "2021-06-30T02:01:50.302907",
     "status": "completed"
    },
    "tags": []
   },
   "outputs": [],
   "source": [
    "#hide\n",
    "from scripts.read_data import read_api\n",
    "from IPython.display import HTML\n",
    "import plotly.graph_objects as go\n"
   ]
  },
  {
   "cell_type": "code",
   "execution_count": 3,
   "id": "light-crazy",
   "metadata": {
    "execution": {
     "iopub.execute_input": "2021-06-30T02:01:51.632089Z",
     "iopub.status.busy": "2021-06-30T02:01:51.629087Z",
     "iopub.status.idle": "2021-06-30T02:01:51.655560Z",
     "shell.execute_reply": "2021-06-30T02:01:51.654914Z"
    },
    "papermill": {
     "duration": 0.046311,
     "end_time": "2021-06-30T02:01:51.655726",
     "exception": false,
     "start_time": "2021-06-30T02:01:51.609415",
     "status": "completed"
    },
    "tags": []
   },
   "outputs": [],
   "source": [
    "#hide\n",
    "### ICO koreliacija"
   ]
  },
  {
   "cell_type": "code",
   "execution_count": 4,
   "id": "likely-bahrain",
   "metadata": {
    "execution": {
     "iopub.execute_input": "2021-06-30T02:01:51.687237Z",
     "iopub.status.busy": "2021-06-30T02:01:51.686583Z",
     "iopub.status.idle": "2021-06-30T02:01:52.638786Z",
     "shell.execute_reply": "2021-06-30T02:01:52.637857Z"
    },
    "papermill": {
     "duration": 0.969584,
     "end_time": "2021-06-30T02:01:52.639013",
     "exception": false,
     "start_time": "2021-06-30T02:01:51.669429",
     "status": "completed"
    },
    "tags": []
   },
   "outputs": [],
   "source": [
    "#hide\n",
    "import matplotlib.pyplot as plt\n",
    "import numpy as np\n",
    "import pandas as pd\n",
    "import seaborn as sns\n",
    "import matplotlib.pyplot as plt \n",
    "import matplotlib.dates as mdates\n",
    "import matplotlib.pyplot as plt"
   ]
  },
  {
   "cell_type": "code",
   "execution_count": 5,
   "id": "superior-blanket",
   "metadata": {
    "execution": {
     "iopub.execute_input": "2021-06-30T02:01:52.671847Z",
     "iopub.status.busy": "2021-06-30T02:01:52.671199Z",
     "iopub.status.idle": "2021-06-30T02:02:04.544334Z",
     "shell.execute_reply": "2021-06-30T02:02:04.543644Z"
    },
    "papermill": {
     "duration": 11.891149,
     "end_time": "2021-06-30T02:02:04.544505",
     "exception": false,
     "start_time": "2021-06-30T02:01:52.653356",
     "status": "completed"
    },
    "tags": []
   },
   "outputs": [
    {
     "name": "stderr",
     "output_type": "stream",
     "text": [
      "/home/runner/work/corr-app/corr-app/_notebooks/scripts/read_data.py:187: SettingWithCopyWarning:\n",
      "\n",
      "\n",
      "A value is trying to be set on a copy of a slice from a DataFrame.\n",
      "Try using .loc[row_indexer,col_indexer] = value instead\n",
      "\n",
      "See the caveats in the documentation: https://pandas.pydata.org/pandas-docs/stable/user_guide/indexing.html#returning-a-view-versus-a-copy\n",
      "\n"
     ]
    },
    {
     "name": "stderr",
     "output_type": "stream",
     "text": [
      "/home/runner/work/corr-app/corr-app/_notebooks/scripts/read_data.py:215: SettingWithCopyWarning:\n",
      "\n",
      "\n",
      "A value is trying to be set on a copy of a slice from a DataFrame.\n",
      "Try using .loc[row_indexer,col_indexer] = value instead\n",
      "\n",
      "See the caveats in the documentation: https://pandas.pydata.org/pandas-docs/stable/user_guide/indexing.html#returning-a-view-versus-a-copy\n",
      "\n"
     ]
    }
   ],
   "source": [
    "#hide\n",
    "df_all = read_api()\n",
    "#df_all = df_all.drop(['SP500', 'XAU', 'ETH', 'BTC'], axis=1)\n",
    "\n"
   ]
  },
  {
   "cell_type": "code",
   "execution_count": 6,
   "id": "mature-alert",
   "metadata": {
    "execution": {
     "iopub.execute_input": "2021-06-30T02:02:04.579758Z",
     "iopub.status.busy": "2021-06-30T02:02:04.579151Z",
     "iopub.status.idle": "2021-06-30T02:02:04.615384Z",
     "shell.execute_reply": "2021-06-30T02:02:04.615856Z"
    },
    "papermill": {
     "duration": 0.055673,
     "end_time": "2021-06-30T02:02:04.616015",
     "exception": false,
     "start_time": "2021-06-30T02:02:04.560342",
     "status": "completed"
    },
    "tags": []
   },
   "outputs": [],
   "source": [
    "#hide_input\n",
    "sum_corr = df_all.corr().sum().sort_values(ascending=True).index.values\n",
    "#df_all[sum_corr].corr()"
   ]
  },
  {
   "cell_type": "markdown",
   "id": "complex-syndicate",
   "metadata": {
    "papermill": {
     "duration": 0.014344,
     "end_time": "2021-06-30T02:02:04.644043",
     "exception": false,
     "start_time": "2021-06-30T02:02:04.629699",
     "status": "completed"
    },
    "tags": []
   },
   "source": [
    "## Išplėstinė koreliacijų matrica. "
   ]
  },
  {
   "cell_type": "code",
   "execution_count": 7,
   "id": "atomic-omaha",
   "metadata": {
    "execution": {
     "iopub.execute_input": "2021-06-30T02:02:04.677321Z",
     "iopub.status.busy": "2021-06-30T02:02:04.676707Z",
     "iopub.status.idle": "2021-06-30T02:02:06.064274Z",
     "shell.execute_reply": "2021-06-30T02:02:06.063757Z"
    },
    "papermill": {
     "duration": 1.406204,
     "end_time": "2021-06-30T02:02:06.064415",
     "exception": false,
     "start_time": "2021-06-30T02:02:04.658211",
     "status": "completed"
    },
    "tags": []
   },
   "outputs": [
    {
     "data": {
      "image/png": "[encoded data removed]",
      "text/plain": [
       "<Figure size 1080x792 with 2 Axes>"
      ]
     },
     "metadata": {
      "needs_background": "light"
     },
     "output_type": "display_data"
    }
   ],
   "source": [
    "#hide_input\n",
    "plt.figure(figsize=(15, 11))\n",
    "sns.heatmap(df_all[sum_corr].corr(), annot=True, cmap=\"cubehelix\") \n",
    "sns.set(font_scale=1.25)\n",
    "plt.savefig('corr_matrix.png', format='eps')"
   ]
  },
  {
   "cell_type": "code",
   "execution_count": 8,
   "id": "arbitrary-sullivan",
   "metadata": {
    "execution": {
     "iopub.execute_input": "2021-06-30T02:02:06.100196Z",
     "iopub.status.busy": "2021-06-30T02:02:06.099567Z",
     "iopub.status.idle": "2021-06-30T02:02:06.130026Z",
     "shell.execute_reply": "2021-06-30T02:02:06.129486Z"
    },
    "papermill": {
     "duration": 0.049808,
     "end_time": "2021-06-30T02:02:06.130167",
     "exception": false,
     "start_time": "2021-06-30T02:02:06.080359",
     "status": "completed"
    },
    "tags": []
   },
   "outputs": [],
   "source": [
    "#hide\n",
    "#df_all_mrk = read_api()"
   ]
  },
  {
   "cell_type": "code",
   "execution_count": 9,
   "id": "delayed-adapter",
   "metadata": {
    "execution": {
     "iopub.execute_input": "2021-06-30T02:02:06.173223Z",
     "iopub.status.busy": "2021-06-30T02:02:06.172582Z",
     "iopub.status.idle": "2021-06-30T02:02:06.201089Z",
     "shell.execute_reply": "2021-06-30T02:02:06.199899Z"
    },
    "papermill": {
     "duration": 0.054793,
     "end_time": "2021-06-30T02:02:06.201233",
     "exception": false,
     "start_time": "2021-06-30T02:02:06.146440",
     "status": "completed"
    },
    "tags": []
   },
   "outputs": [],
   "source": [
    "#hide\n",
    "#Koreliacijų koeficientai"
   ]
  },
  {
   "cell_type": "code",
   "execution_count": 10,
   "id": "seeing-celebration",
   "metadata": {
    "execution": {
     "iopub.execute_input": "2021-06-30T02:02:06.247673Z",
     "iopub.status.busy": "2021-06-30T02:02:06.239037Z",
     "iopub.status.idle": "2021-06-30T02:02:06.268753Z",
     "shell.execute_reply": "2021-06-30T02:02:06.268126Z"
    },
    "papermill": {
     "duration": 0.051805,
     "end_time": "2021-06-30T02:02:06.268892",
     "exception": false,
     "start_time": "2021-06-30T02:02:06.217087",
     "status": "completed"
    },
    "tags": []
   },
   "outputs": [],
   "source": [
    "#hide_input\n",
    "#sum_corr = df_all_mrk.corr().sum().sort_values(ascending=True).index.values\n",
    "#df_all_mrk[sum_corr].corr()"
   ]
  },
  {
   "cell_type": "code",
   "execution_count": 11,
   "id": "other-painting",
   "metadata": {
    "execution": {
     "iopub.execute_input": "2021-06-30T02:02:06.305028Z",
     "iopub.status.busy": "2021-06-30T02:02:06.304427Z",
     "iopub.status.idle": "2021-06-30T02:02:06.335407Z",
     "shell.execute_reply": "2021-06-30T02:02:06.334840Z"
    },
    "papermill": {
     "duration": 0.050608,
     "end_time": "2021-06-30T02:02:06.335539",
     "exception": false,
     "start_time": "2021-06-30T02:02:06.284931",
     "status": "completed"
    },
    "tags": []
   },
   "outputs": [],
   "source": [
    "#hide\n",
    "#Koreliacijos matrica. "
   ]
  },
  {
   "cell_type": "code",
   "execution_count": 12,
   "id": "modular-magnitude",
   "metadata": {
    "execution": {
     "iopub.execute_input": "2021-06-30T02:02:06.372724Z",
     "iopub.status.busy": "2021-06-30T02:02:06.372112Z",
     "iopub.status.idle": "2021-06-30T02:02:06.402289Z",
     "shell.execute_reply": "2021-06-30T02:02:06.401729Z"
    },
    "papermill": {
     "duration": 0.049519,
     "end_time": "2021-06-30T02:02:06.402421",
     "exception": false,
     "start_time": "2021-06-30T02:02:06.352902",
     "status": "completed"
    },
    "tags": []
   },
   "outputs": [],
   "source": [
    "#hide_input\n",
    "#plt.figure(figsize=(15, 8))\n",
    "#sns.heatmap(df_all_mrk[sum_corr].corr(), annot=True, cmap=\"BrBG\");\n",
    "#plt.savefig('corr_matrix_all.eps', format='eps')"
   ]
  },
  {
   "cell_type": "code",
   "execution_count": null,
   "id": "original-senator",
   "metadata": {
    "papermill": {
     "duration": 0.015442,
     "end_time": "2021-06-30T02:02:06.433726",
     "exception": false,
     "start_time": "2021-06-30T02:02:06.418284",
     "status": "completed"
    },
    "tags": []
   },
   "outputs": [],
   "source": []
  },
  {
   "cell_type": "code",
   "execution_count": null,
   "id": "saving-secretariat",
   "metadata": {
    "papermill": {
     "duration": 0.018932,
     "end_time": "2021-06-30T02:02:06.468187",
     "exception": false,
     "start_time": "2021-06-30T02:02:06.449255",
     "status": "completed"
    },
    "tags": []
   },
   "outputs": [],
   "source": []
  }
 ],
 "metadata": {
  "kernelspec": {
   "display_name": "Python 3",
   "language": "python",
   "name": "python3"
  },
  "language_info": {
   "codemirror_mode": {
    "name": "ipython",
    "version": 3
   },
   "file_extension": ".py",
   "mimetype": "text/x-python",
   "name": "python",
   "nbconvert_exporter": "python",
   "pygments_lexer": "ipython3",
   "version": "3.6.13"
  },
  "papermill": {
   "default_parameters": {},
   "duration": 18.052614,
   "end_time": "2021-06-30T02:02:07.093582",
   "environment_variables": {},
   "exception": null,
   "input_path": "App-Correlation_charts.ipynb",
   "output_path": "App-Correlation_charts.ipynb",
   "parameters": {},
   "start_time": "2021-06-30T02:01:49.040968",
   "version": "2.2.2"
  }
 },
 "nbformat": 4,
 "nbformat_minor": 5
}