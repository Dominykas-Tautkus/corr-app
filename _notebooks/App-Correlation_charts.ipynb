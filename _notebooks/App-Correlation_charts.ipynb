{
 "cells": [
  {
   "cell_type": "markdown",
   "id": "touched-facility",
   "metadata": {
    "papermill": {
     "duration": 0.017065,
     "end_time": "2021-06-17T01:59:45.595523",
     "exception": false,
     "start_time": "2021-06-17T01:59:45.578458",
     "status": "completed"
    },
    "tags": []
   },
   "source": [
    "# Koreliacijų matrica\n",
    "> Išplėstinė koreliacijų matrica. \n",
    "\n",
    "- toc: true \n",
    "- badges: true\n",
    "- comments: false\n",
    "- categories: [Dominykas Tautkus]\n",
    "- image: images/matrix.png"
   ]
  },
  {
   "cell_type": "code",
   "execution_count": null,
   "id": "premium-weekend",
   "metadata": {
    "papermill": {
     "duration": 0.013529,
     "end_time": "2021-06-17T01:59:45.624674",
     "exception": false,
     "start_time": "2021-06-17T01:59:45.611145",
     "status": "completed"
    },
    "tags": []
   },
   "outputs": [],
   "source": []
  },
  {
   "cell_type": "code",
   "execution_count": 1,
   "id": "vertical-rebate",
   "metadata": {
    "execution": {
     "iopub.execute_input": "2021-06-17T01:59:45.663522Z",
     "iopub.status.busy": "2021-06-17T01:59:45.662834Z",
     "iopub.status.idle": "2021-06-17T01:59:45.675121Z",
     "shell.execute_reply": "2021-06-17T01:59:45.675653Z"
    },
    "papermill": {
     "duration": 0.03786,
     "end_time": "2021-06-17T01:59:45.675846",
     "exception": false,
     "start_time": "2021-06-17T01:59:45.637986",
     "status": "completed"
    },
    "tags": []
   },
   "outputs": [],
   "source": [
    "#hide\n",
    "%load_ext autoreload\n",
    "%autoreload 2"
   ]
  },
  {
   "cell_type": "code",
   "execution_count": 2,
   "id": "overall-advancement",
   "metadata": {
    "execution": {
     "iopub.execute_input": "2021-06-17T01:59:45.711771Z",
     "iopub.status.busy": "2021-06-17T01:59:45.711090Z",
     "iopub.status.idle": "2021-06-17T01:59:47.218483Z",
     "shell.execute_reply": "2021-06-17T01:59:47.219034Z"
    },
    "papermill": {
     "duration": 1.527603,
     "end_time": "2021-06-17T01:59:47.219214",
     "exception": false,
     "start_time": "2021-06-17T01:59:45.691611",
     "status": "completed"
    },
    "tags": []
   },
   "outputs": [],
   "source": [
    "#hide\n",
    "from scripts.read_data import read_api\n",
    "from IPython.display import HTML\n",
    "import plotly.graph_objects as go\n"
   ]
  },
  {
   "cell_type": "code",
   "execution_count": 3,
   "id": "light-crazy",
   "metadata": {
    "execution": {
     "iopub.execute_input": "2021-06-17T01:59:47.260488Z",
     "iopub.status.busy": "2021-06-17T01:59:47.259524Z",
     "iopub.status.idle": "2021-06-17T01:59:47.280012Z",
     "shell.execute_reply": "2021-06-17T01:59:47.280533Z"
    },
    "papermill": {
     "duration": 0.047036,
     "end_time": "2021-06-17T01:59:47.280703",
     "exception": false,
     "start_time": "2021-06-17T01:59:47.233667",
     "status": "completed"
    },
    "tags": []
   },
   "outputs": [],
   "source": [
    "#hide\n",
    "### ICO koreliacija"
   ]
  },
  {
   "cell_type": "code",
   "execution_count": 4,
   "id": "likely-bahrain",
   "metadata": {
    "execution": {
     "iopub.execute_input": "2021-06-17T01:59:47.325640Z",
     "iopub.status.busy": "2021-06-17T01:59:47.313888Z",
     "iopub.status.idle": "2021-06-17T01:59:48.293255Z",
     "shell.execute_reply": "2021-06-17T01:59:48.292599Z"
    },
    "papermill": {
     "duration": 0.998832,
     "end_time": "2021-06-17T01:59:48.293413",
     "exception": false,
     "start_time": "2021-06-17T01:59:47.294581",
     "status": "completed"
    },
    "tags": []
   },
   "outputs": [],
   "source": [
    "#hide\n",
    "import matplotlib.pyplot as plt\n",
    "import numpy as np\n",
    "import pandas as pd\n",
    "import seaborn as sns\n",
    "import matplotlib.pyplot as plt \n",
    "import matplotlib.dates as mdates\n",
    "import matplotlib.pyplot as plt"
   ]
  },
  {
   "cell_type": "code",
   "execution_count": 5,
   "id": "superior-blanket",
   "metadata": {
    "execution": {
     "iopub.execute_input": "2021-06-17T01:59:48.326695Z",
     "iopub.status.busy": "2021-06-17T01:59:48.326017Z",
     "iopub.status.idle": "2021-06-17T02:00:01.692870Z",
     "shell.execute_reply": "2021-06-17T02:00:01.693454Z"
    },
    "papermill": {
     "duration": 13.387053,
     "end_time": "2021-06-17T02:00:01.693615",
     "exception": false,
     "start_time": "2021-06-17T01:59:48.306562",
     "status": "completed"
    },
    "tags": []
   },
   "outputs": [
    {
     "name": "stderr",
     "output_type": "stream",
     "text": [
      "/home/runner/work/corr-app/corr-app/_notebooks/scripts/read_data.py:187: SettingWithCopyWarning:\n",
      "\n",
      "\n",
      "A value is trying to be set on a copy of a slice from a DataFrame.\n",
      "Try using .loc[row_indexer,col_indexer] = value instead\n",
      "\n",
      "See the caveats in the documentation: https://pandas.pydata.org/pandas-docs/stable/user_guide/indexing.html#returning-a-view-versus-a-copy\n",
      "\n"
     ]
    },
    {
     "name": "stderr",
     "output_type": "stream",
     "text": [
      "/home/runner/work/corr-app/corr-app/_notebooks/scripts/read_data.py:215: SettingWithCopyWarning:\n",
      "\n",
      "\n",
      "A value is trying to be set on a copy of a slice from a DataFrame.\n",
      "Try using .loc[row_indexer,col_indexer] = value instead\n",
      "\n",
      "See the caveats in the documentation: https://pandas.pydata.org/pandas-docs/stable/user_guide/indexing.html#returning-a-view-versus-a-copy\n",
      "\n"
     ]
    }
   ],
   "source": [
    "#hide\n",
    "df_all = read_api()\n",
    "#df_all = df_all.drop(['SP500', 'XAU', 'ETH', 'BTC'], axis=1)\n",
    "\n"
   ]
  },
  {
   "cell_type": "code",
   "execution_count": 6,
   "id": "mature-alert",
   "metadata": {
    "execution": {
     "iopub.execute_input": "2021-06-17T02:00:01.742815Z",
     "iopub.status.busy": "2021-06-17T02:00:01.728964Z",
     "iopub.status.idle": "2021-06-17T02:00:01.760990Z",
     "shell.execute_reply": "2021-06-17T02:00:01.761847Z"
    },
    "papermill": {
     "duration": 0.055146,
     "end_time": "2021-06-17T02:00:01.761997",
     "exception": false,
     "start_time": "2021-06-17T02:00:01.706851",
     "status": "completed"
    },
    "tags": []
   },
   "outputs": [],
   "source": [
    "#hide_input\n",
    "sum_corr = df_all.corr().sum().sort_values(ascending=True).index.values\n",
    "#df_all[sum_corr].corr()"
   ]
  },
  {
   "cell_type": "markdown",
   "id": "complex-syndicate",
   "metadata": {
    "papermill": {
     "duration": 0.01427,
     "end_time": "2021-06-17T02:00:01.789509",
     "exception": false,
     "start_time": "2021-06-17T02:00:01.775239",
     "status": "completed"
    },
    "tags": []
   },
   "source": [
    "## Išplėstinė koreliacijų matrica. "
   ]
  },
  {
   "cell_type": "code",
   "execution_count": 7,
   "id": "atomic-omaha",
   "metadata": {
    "execution": {
     "iopub.execute_input": "2021-06-17T02:00:01.832579Z",
     "iopub.status.busy": "2021-06-17T02:00:01.831908Z",
     "iopub.status.idle": "2021-06-17T02:00:03.339383Z",
     "shell.execute_reply": "2021-06-17T02:00:03.340043Z"
    },
    "papermill": {
     "duration": 1.535422,
     "end_time": "2021-06-17T02:00:03.340215",
     "exception": false,
     "start_time": "2021-06-17T02:00:01.804793",
     "status": "completed"
    },
    "tags": []
   },
   "outputs": [
    {
     "data": {
      "image/png": "[encoded data removed]",
      "text/plain": [
       "<Figure size 1080x792 with 2 Axes>"
      ]
     },
     "metadata": {
      "needs_background": "light"
     },
     "output_type": "display_data"
    }
   ],
   "source": [
    "#hide_input\n",
    "plt.figure(figsize=(15, 11))\n",
    "sns.heatmap(df_all[sum_corr].corr(), annot=True, cmap=\"cubehelix\") \n",
    "sns.set(font_scale=1.25)\n",
    "plt.savefig('corr_matrix.png', format='eps')"
   ]
  },
  {
   "cell_type": "code",
   "execution_count": 8,
   "id": "arbitrary-sullivan",
   "metadata": {
    "execution": {
     "iopub.execute_input": "2021-06-17T02:00:03.383336Z",
     "iopub.status.busy": "2021-06-17T02:00:03.382669Z",
     "iopub.status.idle": "2021-06-17T02:00:03.408792Z",
     "shell.execute_reply": "2021-06-17T02:00:03.408210Z"
    },
    "papermill": {
     "duration": 0.051567,
     "end_time": "2021-06-17T02:00:03.408944",
     "exception": false,
     "start_time": "2021-06-17T02:00:03.357377",
     "status": "completed"
    },
    "tags": []
   },
   "outputs": [],
   "source": [
    "#hide\n",
    "#df_all_mrk = read_api()"
   ]
  },
  {
   "cell_type": "code",
   "execution_count": 9,
   "id": "delayed-adapter",
   "metadata": {
    "execution": {
     "iopub.execute_input": "2021-06-17T02:00:03.447740Z",
     "iopub.status.busy": "2021-06-17T02:00:03.447076Z",
     "iopub.status.idle": "2021-06-17T02:00:03.476897Z",
     "shell.execute_reply": "2021-06-17T02:00:03.476292Z"
    },
    "papermill": {
     "duration": 0.050544,
     "end_time": "2021-06-17T02:00:03.477075",
     "exception": false,
     "start_time": "2021-06-17T02:00:03.426531",
     "status": "completed"
    },
    "tags": []
   },
   "outputs": [],
   "source": [
    "#hide\n",
    "#Koreliacijų koeficientai"
   ]
  },
  {
   "cell_type": "code",
   "execution_count": 10,
   "id": "seeing-celebration",
   "metadata": {
    "execution": {
     "iopub.execute_input": "2021-06-17T02:00:03.514520Z",
     "iopub.status.busy": "2021-06-17T02:00:03.513810Z",
     "iopub.status.idle": "2021-06-17T02:00:03.542397Z",
     "shell.execute_reply": "2021-06-17T02:00:03.541906Z"
    },
    "papermill": {
     "duration": 0.048873,
     "end_time": "2021-06-17T02:00:03.542527",
     "exception": false,
     "start_time": "2021-06-17T02:00:03.493654",
     "status": "completed"
    },
    "tags": []
   },
   "outputs": [],
   "source": [
    "#hide_input\n",
    "#sum_corr = df_all_mrk.corr().sum().sort_values(ascending=True).index.values\n",
    "#df_all_mrk[sum_corr].corr()"
   ]
  },
  {
   "cell_type": "code",
   "execution_count": 11,
   "id": "other-painting",
   "metadata": {
    "execution": {
     "iopub.execute_input": "2021-06-17T02:00:03.590200Z",
     "iopub.status.busy": "2021-06-17T02:00:03.589500Z",
     "iopub.status.idle": "2021-06-17T02:00:03.614380Z",
     "shell.execute_reply": "2021-06-17T02:00:03.613819Z"
    },
    "papermill": {
     "duration": 0.055858,
     "end_time": "2021-06-17T02:00:03.614530",
     "exception": false,
     "start_time": "2021-06-17T02:00:03.558672",
     "status": "completed"
    },
    "tags": []
   },
   "outputs": [],
   "source": [
    "#hide\n",
    "#Koreliacijos matrica. "
   ]
  },
  {
   "cell_type": "code",
   "execution_count": 12,
   "id": "modular-magnitude",
   "metadata": {
    "execution": {
     "iopub.execute_input": "2021-06-17T02:00:03.654111Z",
     "iopub.status.busy": "2021-06-17T02:00:03.652314Z",
     "iopub.status.idle": "2021-06-17T02:00:03.680754Z",
     "shell.execute_reply": "2021-06-17T02:00:03.680201Z"
    },
    "papermill": {
     "duration": 0.04949,
     "end_time": "2021-06-17T02:00:03.680914",
     "exception": false,
     "start_time": "2021-06-17T02:00:03.631424",
     "status": "completed"
    },
    "tags": []
   },
   "outputs": [],
   "source": [
    "#hide_input\n",
    "#plt.figure(figsize=(15, 8))\n",
    "#sns.heatmap(df_all_mrk[sum_corr].corr(), annot=True, cmap=\"BrBG\");\n",
    "#plt.savefig('corr_matrix_all.eps', format='eps')"
   ]
  },
  {
   "cell_type": "code",
   "execution_count": null,
   "id": "original-senator",
   "metadata": {
    "papermill": {
     "duration": 0.015658,
     "end_time": "2021-06-17T02:00:03.713702",
     "exception": false,
     "start_time": "2021-06-17T02:00:03.698044",
     "status": "completed"
    },
    "tags": []
   },
   "outputs": [],
   "source": []
  },
  {
   "cell_type": "code",
   "execution_count": null,
   "id": "saving-secretariat",
   "metadata": {
    "papermill": {
     "duration": 0.019731,
     "end_time": "2021-06-17T02:00:03.749396",
     "exception": false,
     "start_time": "2021-06-17T02:00:03.729665",
     "status": "completed"
    },
    "tags": []
   },
   "outputs": [],
   "source": []
  }
 ],
 "metadata": {
  "kernelspec": {
   "display_name": "Python 3",
   "language": "python",
   "name": "python3"
  },
  "language_info": {
   "codemirror_mode": {
    "name": "ipython",
    "version": 3
   },
   "file_extension": ".py",
   "mimetype": "text/x-python",
   "name": "python",
   "nbconvert_exporter": "python",
   "pygments_lexer": "ipython3",
   "version": "3.6.13"
  },
  "papermill": {
   "default_parameters": {},
   "duration": 19.84877,
   "end_time": "2021-06-17T02:00:04.277149",
   "environment_variables": {},
   "exception": null,
   "input_path": "App-Correlation_charts.ipynb",
   "output_path": "App-Correlation_charts.ipynb",
   "parameters": {},
   "start_time": "2021-06-17T01:59:44.428379",
   "version": "2.2.2"
  }
 },
 "nbformat": 4,
 "nbformat_minor": 5
}