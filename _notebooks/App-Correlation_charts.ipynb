{
 "cells": [
  {
   "cell_type": "markdown",
   "id": "touched-facility",
   "metadata": {
    "papermill": {
     "duration": 0.017762,
     "end_time": "2021-06-04T03:17:45.666510",
     "exception": false,
     "start_time": "2021-06-04T03:17:45.648748",
     "status": "completed"
    },
    "tags": []
   },
   "source": [
    "# Koreliacijų matrica\n",
    "> Išplėstinė koreliacijų matrica. \n",
    "\n",
    "- toc: true \n",
    "- badges: true\n",
    "- comments: false\n",
    "- categories: [Dominykas Tautkus]\n",
    "- image: images/matrix.png"
   ]
  },
  {
   "cell_type": "code",
   "execution_count": null,
   "id": "premium-weekend",
   "metadata": {
    "papermill": {
     "duration": 0.012532,
     "end_time": "2021-06-04T03:17:45.691951",
     "exception": false,
     "start_time": "2021-06-04T03:17:45.679419",
     "status": "completed"
    },
    "tags": []
   },
   "outputs": [],
   "source": []
  },
  {
   "cell_type": "code",
   "execution_count": 1,
   "id": "vertical-rebate",
   "metadata": {
    "execution": {
     "iopub.execute_input": "2021-06-04T03:17:45.730730Z",
     "iopub.status.busy": "2021-06-04T03:17:45.730105Z",
     "iopub.status.idle": "2021-06-04T03:17:45.741017Z",
     "shell.execute_reply": "2021-06-04T03:17:45.741506Z"
    },
    "papermill": {
     "duration": 0.037673,
     "end_time": "2021-06-04T03:17:45.741676",
     "exception": false,
     "start_time": "2021-06-04T03:17:45.704003",
     "status": "completed"
    },
    "tags": []
   },
   "outputs": [],
   "source": [
    "#hide\n",
    "%load_ext autoreload\n",
    "%autoreload 2"
   ]
  },
  {
   "cell_type": "code",
   "execution_count": 2,
   "id": "overall-advancement",
   "metadata": {
    "execution": {
     "iopub.execute_input": "2021-06-04T03:17:45.771729Z",
     "iopub.status.busy": "2021-06-04T03:17:45.771105Z",
     "iopub.status.idle": "2021-06-04T03:17:47.033016Z",
     "shell.execute_reply": "2021-06-04T03:17:47.033833Z"
    },
    "papermill": {
     "duration": 1.28021,
     "end_time": "2021-06-04T03:17:47.034081",
     "exception": false,
     "start_time": "2021-06-04T03:17:45.753871",
     "status": "completed"
    },
    "tags": []
   },
   "outputs": [],
   "source": [
    "#hide\n",
    "from scripts.read_data import read_api\n",
    "from IPython.display import HTML\n",
    "import plotly.graph_objects as go\n"
   ]
  },
  {
   "cell_type": "code",
   "execution_count": 3,
   "id": "light-crazy",
   "metadata": {
    "execution": {
     "iopub.execute_input": "2021-06-04T03:17:47.064445Z",
     "iopub.status.busy": "2021-06-04T03:17:47.063850Z",
     "iopub.status.idle": "2021-06-04T03:17:47.088612Z",
     "shell.execute_reply": "2021-06-04T03:17:47.087989Z"
    },
    "papermill": {
     "duration": 0.041556,
     "end_time": "2021-06-04T03:17:47.088756",
     "exception": false,
     "start_time": "2021-06-04T03:17:47.047200",
     "status": "completed"
    },
    "tags": []
   },
   "outputs": [],
   "source": [
    "#hide\n",
    "### ICO koreliacija"
   ]
  },
  {
   "cell_type": "code",
   "execution_count": 4,
   "id": "likely-bahrain",
   "metadata": {
    "execution": {
     "iopub.execute_input": "2021-06-04T03:17:47.118875Z",
     "iopub.status.busy": "2021-06-04T03:17:47.118287Z",
     "iopub.status.idle": "2021-06-04T03:17:48.029598Z",
     "shell.execute_reply": "2021-06-04T03:17:48.029053Z"
    },
    "papermill": {
     "duration": 0.92755,
     "end_time": "2021-06-04T03:17:48.029729",
     "exception": false,
     "start_time": "2021-06-04T03:17:47.102179",
     "status": "completed"
    },
    "tags": []
   },
   "outputs": [],
   "source": [
    "#hide\n",
    "import matplotlib.pyplot as plt\n",
    "import numpy as np\n",
    "import pandas as pd\n",
    "import seaborn as sns\n",
    "import matplotlib.pyplot as plt \n",
    "import matplotlib.dates as mdates\n",
    "import matplotlib.pyplot as plt"
   ]
  },
  {
   "cell_type": "code",
   "execution_count": 5,
   "id": "superior-blanket",
   "metadata": {
    "execution": {
     "iopub.execute_input": "2021-06-04T03:17:48.060139Z",
     "iopub.status.busy": "2021-06-04T03:17:48.058892Z",
     "iopub.status.idle": "2021-06-04T03:18:00.697505Z",
     "shell.execute_reply": "2021-06-04T03:18:00.696856Z"
    },
    "papermill": {
     "duration": 12.655656,
     "end_time": "2021-06-04T03:18:00.697637",
     "exception": false,
     "start_time": "2021-06-04T03:17:48.041981",
     "status": "completed"
    },
    "tags": []
   },
   "outputs": [
    {
     "name": "stderr",
     "output_type": "stream",
     "text": [
      "/home/runner/work/corr-app/corr-app/_notebooks/scripts/read_data.py:187: SettingWithCopyWarning:\n",
      "\n",
      "\n",
      "A value is trying to be set on a copy of a slice from a DataFrame.\n",
      "Try using .loc[row_indexer,col_indexer] = value instead\n",
      "\n",
      "See the caveats in the documentation: https://pandas.pydata.org/pandas-docs/stable/user_guide/indexing.html#returning-a-view-versus-a-copy\n",
      "\n"
     ]
    },
    {
     "name": "stderr",
     "output_type": "stream",
     "text": [
      "/home/runner/work/corr-app/corr-app/_notebooks/scripts/read_data.py:215: SettingWithCopyWarning:\n",
      "\n",
      "\n",
      "A value is trying to be set on a copy of a slice from a DataFrame.\n",
      "Try using .loc[row_indexer,col_indexer] = value instead\n",
      "\n",
      "See the caveats in the documentation: https://pandas.pydata.org/pandas-docs/stable/user_guide/indexing.html#returning-a-view-versus-a-copy\n",
      "\n"
     ]
    }
   ],
   "source": [
    "#hide\n",
    "df_all = read_api()\n",
    "#df_all = df_all.drop(['SP500', 'XAU', 'ETH', 'BTC'], axis=1)\n",
    "\n"
   ]
  },
  {
   "cell_type": "code",
   "execution_count": 6,
   "id": "mature-alert",
   "metadata": {
    "execution": {
     "iopub.execute_input": "2021-06-04T03:18:00.728090Z",
     "iopub.status.busy": "2021-06-04T03:18:00.727497Z",
     "iopub.status.idle": "2021-06-04T03:18:00.761374Z",
     "shell.execute_reply": "2021-06-04T03:18:00.760832Z"
    },
    "papermill": {
     "duration": 0.050751,
     "end_time": "2021-06-04T03:18:00.761517",
     "exception": false,
     "start_time": "2021-06-04T03:18:00.710766",
     "status": "completed"
    },
    "tags": []
   },
   "outputs": [],
   "source": [
    "#hide_input\n",
    "sum_corr = df_all.corr().sum().sort_values(ascending=True).index.values\n",
    "#df_all[sum_corr].corr()"
   ]
  },
  {
   "cell_type": "markdown",
   "id": "complex-syndicate",
   "metadata": {
    "papermill": {
     "duration": 0.012567,
     "end_time": "2021-06-04T03:18:00.786679",
     "exception": false,
     "start_time": "2021-06-04T03:18:00.774112",
     "status": "completed"
    },
    "tags": []
   },
   "source": [
    "## Išplėstinė koreliacijų matrica. "
   ]
  },
  {
   "cell_type": "code",
   "execution_count": 7,
   "id": "atomic-omaha",
   "metadata": {
    "execution": {
     "iopub.execute_input": "2021-06-04T03:18:00.816112Z",
     "iopub.status.busy": "2021-06-04T03:18:00.815523Z",
     "iopub.status.idle": "2021-06-04T03:18:02.098261Z",
     "shell.execute_reply": "2021-06-04T03:18:02.097748Z"
    },
    "papermill": {
     "duration": 1.29906,
     "end_time": "2021-06-04T03:18:02.098389",
     "exception": false,
     "start_time": "2021-06-04T03:18:00.799329",
     "status": "completed"
    },
    "tags": []
   },
   "outputs": [
    {
     "data": {
      "image/png": "[encoded data removed]",
      "text/plain": [
       "<Figure size 1080x792 with 2 Axes>"
      ]
     },
     "metadata": {
      "needs_background": "light"
     },
     "output_type": "display_data"
    }
   ],
   "source": [
    "#hide_input\n",
    "plt.figure(figsize=(15, 11))\n",
    "sns.heatmap(df_all[sum_corr].corr(), annot=True, cmap=\"cubehelix\") \n",
    "sns.set(font_scale=1.25)\n",
    "plt.savefig('corr_matrix.png', format='eps')"
   ]
  },
  {
   "cell_type": "code",
   "execution_count": 8,
   "id": "arbitrary-sullivan",
   "metadata": {
    "execution": {
     "iopub.execute_input": "2021-06-04T03:18:02.136121Z",
     "iopub.status.busy": "2021-06-04T03:18:02.134828Z",
     "iopub.status.idle": "2021-06-04T03:18:02.162926Z",
     "shell.execute_reply": "2021-06-04T03:18:02.162091Z"
    },
    "papermill": {
     "duration": 0.049242,
     "end_time": "2021-06-04T03:18:02.163091",
     "exception": false,
     "start_time": "2021-06-04T03:18:02.113849",
     "status": "completed"
    },
    "tags": []
   },
   "outputs": [],
   "source": [
    "#hide\n",
    "#df_all_mrk = read_api()"
   ]
  },
  {
   "cell_type": "code",
   "execution_count": 9,
   "id": "delayed-adapter",
   "metadata": {
    "execution": {
     "iopub.execute_input": "2021-06-04T03:18:02.198359Z",
     "iopub.status.busy": "2021-06-04T03:18:02.197776Z",
     "iopub.status.idle": "2021-06-04T03:18:02.226147Z",
     "shell.execute_reply": "2021-06-04T03:18:02.225483Z"
    },
    "papermill": {
     "duration": 0.047479,
     "end_time": "2021-06-04T03:18:02.226317",
     "exception": false,
     "start_time": "2021-06-04T03:18:02.178838",
     "status": "completed"
    },
    "tags": []
   },
   "outputs": [],
   "source": [
    "#hide\n",
    "#Koreliacijų koeficientai"
   ]
  },
  {
   "cell_type": "code",
   "execution_count": 10,
   "id": "seeing-celebration",
   "metadata": {
    "execution": {
     "iopub.execute_input": "2021-06-04T03:18:02.261203Z",
     "iopub.status.busy": "2021-06-04T03:18:02.260623Z",
     "iopub.status.idle": "2021-06-04T03:18:02.288508Z",
     "shell.execute_reply": "2021-06-04T03:18:02.288022Z"
    },
    "papermill": {
     "duration": 0.046776,
     "end_time": "2021-06-04T03:18:02.288637",
     "exception": false,
     "start_time": "2021-06-04T03:18:02.241861",
     "status": "completed"
    },
    "tags": []
   },
   "outputs": [],
   "source": [
    "#hide_input\n",
    "#sum_corr = df_all_mrk.corr().sum().sort_values(ascending=True).index.values\n",
    "#df_all_mrk[sum_corr].corr()"
   ]
  },
  {
   "cell_type": "code",
   "execution_count": 11,
   "id": "other-painting",
   "metadata": {
    "execution": {
     "iopub.execute_input": "2021-06-04T03:18:02.332244Z",
     "iopub.status.busy": "2021-06-04T03:18:02.327074Z",
     "iopub.status.idle": "2021-06-04T03:18:02.353085Z",
     "shell.execute_reply": "2021-06-04T03:18:02.352432Z"
    },
    "papermill": {
     "duration": 0.049495,
     "end_time": "2021-06-04T03:18:02.353253",
     "exception": false,
     "start_time": "2021-06-04T03:18:02.303758",
     "status": "completed"
    },
    "tags": []
   },
   "outputs": [],
   "source": [
    "#hide\n",
    "#Koreliacijos matrica. "
   ]
  },
  {
   "cell_type": "code",
   "execution_count": 12,
   "id": "modular-magnitude",
   "metadata": {
    "execution": {
     "iopub.execute_input": "2021-06-04T03:18:02.388373Z",
     "iopub.status.busy": "2021-06-04T03:18:02.387770Z",
     "iopub.status.idle": "2021-06-04T03:18:02.415508Z",
     "shell.execute_reply": "2021-06-04T03:18:02.414941Z"
    },
    "papermill": {
     "duration": 0.045865,
     "end_time": "2021-06-04T03:18:02.415639",
     "exception": false,
     "start_time": "2021-06-04T03:18:02.369774",
     "status": "completed"
    },
    "tags": []
   },
   "outputs": [],
   "source": [
    "#hide_input\n",
    "#plt.figure(figsize=(15, 8))\n",
    "#sns.heatmap(df_all_mrk[sum_corr].corr(), annot=True, cmap=\"BrBG\");\n",
    "#plt.savefig('corr_matrix_all.eps', format='eps')"
   ]
  },
  {
   "cell_type": "code",
   "execution_count": null,
   "id": "original-senator",
   "metadata": {
    "papermill": {
     "duration": 0.015057,
     "end_time": "2021-06-04T03:18:02.447200",
     "exception": false,
     "start_time": "2021-06-04T03:18:02.432143",
     "status": "completed"
    },
    "tags": []
   },
   "outputs": [],
   "source": []
  },
  {
   "cell_type": "code",
   "execution_count": null,
   "id": "saving-secretariat",
   "metadata": {
    "papermill": {
     "duration": 0.014846,
     "end_time": "2021-06-04T03:18:02.477214",
     "exception": false,
     "start_time": "2021-06-04T03:18:02.462368",
     "status": "completed"
    },
    "tags": []
   },
   "outputs": [],
   "source": []
  }
 ],
 "metadata": {
  "kernelspec": {
   "display_name": "Python 3",
   "language": "python",
   "name": "python3"
  },
  "language_info": {
   "codemirror_mode": {
    "name": "ipython",
    "version": 3
   },
   "file_extension": ".py",
   "mimetype": "text/x-python",
   "name": "python",
   "nbconvert_exporter": "python",
   "pygments_lexer": "ipython3",
   "version": "3.6.13"
  },
  "papermill": {
   "default_parameters": {},
   "duration": 19.339777,
   "end_time": "2021-06-04T03:18:03.697712",
   "environment_variables": {},
   "exception": null,
   "input_path": "App-Correlation_charts.ipynb",
   "output_path": "App-Correlation_charts.ipynb",
   "parameters": {},
   "start_time": "2021-06-04T03:17:44.357935",
   "version": "2.2.2"
  }
 },
 "nbformat": 4,
 "nbformat_minor": 5
}