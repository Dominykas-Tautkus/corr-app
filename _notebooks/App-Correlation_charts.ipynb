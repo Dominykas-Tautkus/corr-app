{
 "cells": [
  {
   "cell_type": "markdown",
   "id": "touched-facility",
   "metadata": {
    "papermill": {
     "duration": 0.076979,
     "end_time": "2021-03-30T02:02:54.139139",
     "exception": false,
     "start_time": "2021-03-30T02:02:54.062160",
     "status": "completed"
    },
    "tags": []
   },
   "source": [
    "# Koreliacijų matrica\n",
    "> Išplėstinė koreliacijų matrica. \n",
    "\n",
    "- toc: true \n",
    "- badges: true\n",
    "- comments: false\n",
    "- categories: [Dominykas Tautkus]\n",
    "- image: images/matrix.png"
   ]
  },
  {
   "cell_type": "code",
   "execution_count": null,
   "id": "premium-weekend",
   "metadata": {
    "papermill": {
     "duration": 0.051851,
     "end_time": "2021-03-30T02:02:54.206038",
     "exception": false,
     "start_time": "2021-03-30T02:02:54.154187",
     "status": "completed"
    },
    "tags": []
   },
   "outputs": [],
   "source": []
  },
  {
   "cell_type": "code",
   "execution_count": 1,
   "id": "vertical-rebate",
   "metadata": {
    "execution": {
     "iopub.execute_input": "2021-03-30T02:02:54.403414Z",
     "iopub.status.busy": "2021-03-30T02:02:54.402324Z",
     "iopub.status.idle": "2021-03-30T02:02:54.415526Z",
     "shell.execute_reply": "2021-03-30T02:02:54.416368Z"
    },
    "papermill": {
     "duration": 0.109534,
     "end_time": "2021-03-30T02:02:54.416530",
     "exception": false,
     "start_time": "2021-03-30T02:02:54.306996",
     "status": "completed"
    },
    "tags": []
   },
   "outputs": [],
   "source": [
    "#hide\n",
    "%load_ext autoreload\n",
    "%autoreload 2"
   ]
  },
  {
   "cell_type": "code",
   "execution_count": 2,
   "id": "overall-advancement",
   "metadata": {
    "execution": {
     "iopub.execute_input": "2021-03-30T02:02:54.813881Z",
     "iopub.status.busy": "2021-03-30T02:02:54.813274Z",
     "iopub.status.idle": "2021-03-30T02:02:56.214444Z",
     "shell.execute_reply": "2021-03-30T02:02:56.213921Z"
    },
    "papermill": {
     "duration": 1.417357,
     "end_time": "2021-03-30T02:02:56.214578",
     "exception": false,
     "start_time": "2021-03-30T02:02:54.797221",
     "status": "completed"
    },
    "tags": []
   },
   "outputs": [],
   "source": [
    "#hide\n",
    "from scripts.read_data import read_api\n",
    "from IPython.display import HTML\n",
    "import plotly.graph_objects as go\n"
   ]
  },
  {
   "cell_type": "code",
   "execution_count": 3,
   "id": "light-crazy",
   "metadata": {
    "execution": {
     "iopub.execute_input": "2021-03-30T02:02:56.244706Z",
     "iopub.status.busy": "2021-03-30T02:02:56.244065Z",
     "iopub.status.idle": "2021-03-30T02:02:56.268597Z",
     "shell.execute_reply": "2021-03-30T02:02:56.268020Z"
    },
    "papermill": {
     "duration": 0.040738,
     "end_time": "2021-03-30T02:02:56.268712",
     "exception": false,
     "start_time": "2021-03-30T02:02:56.227974",
     "status": "completed"
    },
    "tags": []
   },
   "outputs": [],
   "source": [
    "#hide\n",
    "### ICO koreliacija"
   ]
  },
  {
   "cell_type": "code",
   "execution_count": 4,
   "id": "likely-bahrain",
   "metadata": {
    "execution": {
     "iopub.execute_input": "2021-03-30T02:02:56.302743Z",
     "iopub.status.busy": "2021-03-30T02:02:56.299010Z",
     "iopub.status.idle": "2021-03-30T02:02:57.300526Z",
     "shell.execute_reply": "2021-03-30T02:02:57.299910Z"
    },
    "papermill": {
     "duration": 1.017976,
     "end_time": "2021-03-30T02:02:57.300667",
     "exception": false,
     "start_time": "2021-03-30T02:02:56.282691",
     "status": "completed"
    },
    "tags": []
   },
   "outputs": [],
   "source": [
    "#hide\n",
    "import matplotlib.pyplot as plt\n",
    "import numpy as np\n",
    "import pandas as pd\n",
    "import seaborn as sns\n",
    "import matplotlib.pyplot as plt \n",
    "import matplotlib.dates as mdates\n",
    "import matplotlib.pyplot as plt"
   ]
  },
  {
   "cell_type": "code",
   "execution_count": 5,
   "id": "superior-blanket",
   "metadata": {
    "execution": {
     "iopub.execute_input": "2021-03-30T02:02:57.330941Z",
     "iopub.status.busy": "2021-03-30T02:02:57.330263Z",
     "iopub.status.idle": "2021-03-30T02:03:07.480218Z",
     "shell.execute_reply": "2021-03-30T02:03:07.479637Z"
    },
    "papermill": {
     "duration": 10.166198,
     "end_time": "2021-03-30T02:03:07.480355",
     "exception": false,
     "start_time": "2021-03-30T02:02:57.314157",
     "status": "completed"
    },
    "tags": []
   },
   "outputs": [
    {
     "name": "stderr",
     "output_type": "stream",
     "text": [
      "/home/runner/work/corr-app/corr-app/_notebooks/scripts/read_data.py:187: SettingWithCopyWarning:\n",
      "\n",
      "\n",
      "A value is trying to be set on a copy of a slice from a DataFrame.\n",
      "Try using .loc[row_indexer,col_indexer] = value instead\n",
      "\n",
      "See the caveats in the documentation: https://pandas.pydata.org/pandas-docs/stable/user_guide/indexing.html#returning-a-view-versus-a-copy\n",
      "\n"
     ]
    },
    {
     "name": "stderr",
     "output_type": "stream",
     "text": [
      "/home/runner/work/corr-app/corr-app/_notebooks/scripts/read_data.py:215: SettingWithCopyWarning:\n",
      "\n",
      "\n",
      "A value is trying to be set on a copy of a slice from a DataFrame.\n",
      "Try using .loc[row_indexer,col_indexer] = value instead\n",
      "\n",
      "See the caveats in the documentation: https://pandas.pydata.org/pandas-docs/stable/user_guide/indexing.html#returning-a-view-versus-a-copy\n",
      "\n"
     ]
    }
   ],
   "source": [
    "#hide\n",
    "df_all = read_api()\n",
    "#df_all = df_all.drop(['SP500', 'XAU', 'ETH', 'BTC'], axis=1)\n",
    "\n"
   ]
  },
  {
   "cell_type": "code",
   "execution_count": 6,
   "id": "mature-alert",
   "metadata": {
    "execution": {
     "iopub.execute_input": "2021-03-30T02:03:07.520043Z",
     "iopub.status.busy": "2021-03-30T02:03:07.519404Z",
     "iopub.status.idle": "2021-03-30T02:03:07.550698Z",
     "shell.execute_reply": "2021-03-30T02:03:07.550186Z"
    },
    "papermill": {
     "duration": 0.055073,
     "end_time": "2021-03-30T02:03:07.550848",
     "exception": false,
     "start_time": "2021-03-30T02:03:07.495775",
     "status": "completed"
    },
    "tags": []
   },
   "outputs": [],
   "source": [
    "#hide_input\n",
    "sum_corr = df_all.corr().sum().sort_values(ascending=True).index.values\n",
    "#df_all[sum_corr].corr()"
   ]
  },
  {
   "cell_type": "markdown",
   "id": "complex-syndicate",
   "metadata": {
    "papermill": {
     "duration": 0.015581,
     "end_time": "2021-03-30T02:03:07.581316",
     "exception": false,
     "start_time": "2021-03-30T02:03:07.565735",
     "status": "completed"
    },
    "tags": []
   },
   "source": [
    "## Išplėstinė koreliacijų matrica. "
   ]
  },
  {
   "cell_type": "code",
   "execution_count": 7,
   "id": "atomic-omaha",
   "metadata": {
    "execution": {
     "iopub.execute_input": "2021-03-30T02:03:07.617041Z",
     "iopub.status.busy": "2021-03-30T02:03:07.616367Z",
     "iopub.status.idle": "2021-03-30T02:03:08.996486Z",
     "shell.execute_reply": "2021-03-30T02:03:08.995736Z"
    },
    "papermill": {
     "duration": 1.399996,
     "end_time": "2021-03-30T02:03:08.996640",
     "exception": false,
     "start_time": "2021-03-30T02:03:07.596644",
     "status": "completed"
    },
    "tags": []
   },
   "outputs": [
    {
     "data": {
      "image/png": "[encoded data removed]",
      "text/plain": [
       "<Figure size 1080x792 with 2 Axes>"
      ]
     },
     "metadata": {
      "needs_background": "light"
     },
     "output_type": "display_data"
    }
   ],
   "source": [
    "#hide_input\n",
    "plt.figure(figsize=(15, 11))\n",
    "sns.heatmap(df_all[sum_corr].corr(), annot=True, cmap=\"cubehelix\") \n",
    "sns.set(font_scale=1.25)\n",
    "plt.savefig('corr_matrix.png', format='eps')"
   ]
  },
  {
   "cell_type": "code",
   "execution_count": 8,
   "id": "arbitrary-sullivan",
   "metadata": {
    "execution": {
     "iopub.execute_input": "2021-03-30T02:03:09.035160Z",
     "iopub.status.busy": "2021-03-30T02:03:09.033724Z",
     "iopub.status.idle": "2021-03-30T02:03:09.058699Z",
     "shell.execute_reply": "2021-03-30T02:03:09.059205Z"
    },
    "papermill": {
     "duration": 0.046161,
     "end_time": "2021-03-30T02:03:09.059522",
     "exception": false,
     "start_time": "2021-03-30T02:03:09.013361",
     "status": "completed"
    },
    "tags": []
   },
   "outputs": [],
   "source": [
    "#hide\n",
    "#df_all_mrk = read_api()"
   ]
  },
  {
   "cell_type": "code",
   "execution_count": 9,
   "id": "delayed-adapter",
   "metadata": {
    "execution": {
     "iopub.execute_input": "2021-03-30T02:03:09.092096Z",
     "iopub.status.busy": "2021-03-30T02:03:09.091387Z",
     "iopub.status.idle": "2021-03-30T02:03:09.114583Z",
     "shell.execute_reply": "2021-03-30T02:03:09.114068Z"
    },
    "papermill": {
     "duration": 0.040632,
     "end_time": "2021-03-30T02:03:09.114718",
     "exception": false,
     "start_time": "2021-03-30T02:03:09.074086",
     "status": "completed"
    },
    "tags": []
   },
   "outputs": [],
   "source": [
    "#hide\n",
    "#Koreliacijų koeficientai"
   ]
  },
  {
   "cell_type": "code",
   "execution_count": 10,
   "id": "seeing-celebration",
   "metadata": {
    "execution": {
     "iopub.execute_input": "2021-03-30T02:03:09.151593Z",
     "iopub.status.busy": "2021-03-30T02:03:09.150989Z",
     "iopub.status.idle": "2021-03-30T02:03:09.171243Z",
     "shell.execute_reply": "2021-03-30T02:03:09.170682Z"
    },
    "papermill": {
     "duration": 0.041292,
     "end_time": "2021-03-30T02:03:09.171363",
     "exception": false,
     "start_time": "2021-03-30T02:03:09.130071",
     "status": "completed"
    },
    "tags": []
   },
   "outputs": [],
   "source": [
    "#hide_input\n",
    "#sum_corr = df_all_mrk.corr().sum().sort_values(ascending=True).index.values\n",
    "#df_all_mrk[sum_corr].corr()"
   ]
  },
  {
   "cell_type": "code",
   "execution_count": 11,
   "id": "other-painting",
   "metadata": {
    "execution": {
     "iopub.execute_input": "2021-03-30T02:03:09.203294Z",
     "iopub.status.busy": "2021-03-30T02:03:09.202713Z",
     "iopub.status.idle": "2021-03-30T02:03:09.224882Z",
     "shell.execute_reply": "2021-03-30T02:03:09.225321Z"
    },
    "papermill": {
     "duration": 0.039648,
     "end_time": "2021-03-30T02:03:09.225440",
     "exception": false,
     "start_time": "2021-03-30T02:03:09.185792",
     "status": "completed"
    },
    "tags": []
   },
   "outputs": [],
   "source": [
    "#hide\n",
    "#Koreliacijos matrica. "
   ]
  },
  {
   "cell_type": "code",
   "execution_count": 12,
   "id": "modular-magnitude",
   "metadata": {
    "execution": {
     "iopub.execute_input": "2021-03-30T02:03:09.259800Z",
     "iopub.status.busy": "2021-03-30T02:03:09.259216Z",
     "iopub.status.idle": "2021-03-30T02:03:09.282336Z",
     "shell.execute_reply": "2021-03-30T02:03:09.281737Z"
    },
    "papermill": {
     "duration": 0.040935,
     "end_time": "2021-03-30T02:03:09.282449",
     "exception": false,
     "start_time": "2021-03-30T02:03:09.241514",
     "status": "completed"
    },
    "tags": []
   },
   "outputs": [],
   "source": [
    "#hide_input\n",
    "#plt.figure(figsize=(15, 8))\n",
    "#sns.heatmap(df_all_mrk[sum_corr].corr(), annot=True, cmap=\"BrBG\");\n",
    "#plt.savefig('corr_matrix_all.eps', format='eps')"
   ]
  },
  {
   "cell_type": "code",
   "execution_count": null,
   "id": "original-senator",
   "metadata": {
    "papermill": {
     "duration": 0.015659,
     "end_time": "2021-03-30T02:03:09.313325",
     "exception": false,
     "start_time": "2021-03-30T02:03:09.297666",
     "status": "completed"
    },
    "tags": []
   },
   "outputs": [],
   "source": []
  },
  {
   "cell_type": "code",
   "execution_count": null,
   "id": "saving-secretariat",
   "metadata": {
    "papermill": {
     "duration": 0.015435,
     "end_time": "2021-03-30T02:03:09.344725",
     "exception": false,
     "start_time": "2021-03-30T02:03:09.329290",
     "status": "completed"
    },
    "tags": []
   },
   "outputs": [],
   "source": []
  }
 ],
 "metadata": {
  "kernelspec": {
   "display_name": "Python 3",
   "language": "python",
   "name": "python3"
  },
  "language_info": {
   "codemirror_mode": {
    "name": "ipython",
    "version": 3
   },
   "file_extension": ".py",
   "mimetype": "text/x-python",
   "name": "python",
   "nbconvert_exporter": "python",
   "pygments_lexer": "ipython3",
   "version": "3.6.13"
  },
  "papermill": {
   "default_parameters": {},
   "duration": 18.346879,
   "end_time": "2021-03-30T02:03:10.739891",
   "environment_variables": {},
   "exception": null,
   "input_path": "App-Correlation_charts.ipynb",
   "output_path": "App-Correlation_charts.ipynb",
   "parameters": {},
   "start_time": "2021-03-30T02:02:52.393012",
   "version": "2.2.2"
  }
 },
 "nbformat": 4,
 "nbformat_minor": 5
}