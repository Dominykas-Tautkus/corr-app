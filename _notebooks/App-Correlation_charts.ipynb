{
 "cells": [
  {
   "cell_type": "markdown",
   "id": "touched-facility",
   "metadata": {
    "papermill": {
     "duration": 0.017244,
     "end_time": "2021-02-11T01:41:21.784268",
     "exception": false,
     "start_time": "2021-02-11T01:41:21.767024",
     "status": "completed"
    },
    "tags": []
   },
   "source": [
    "# Koreliacijų matrica\n",
    "> Išplėstinė koreliacijų matrica. \n",
    "\n",
    "- toc: true \n",
    "- badges: true\n",
    "- comments: false\n",
    "- categories: [Dominykas Tautkus]\n",
    "- image: images/matrix.png"
   ]
  },
  {
   "cell_type": "code",
   "execution_count": null,
   "id": "premium-weekend",
   "metadata": {
    "papermill": {
     "duration": 0.010113,
     "end_time": "2021-02-11T01:41:21.805945",
     "exception": false,
     "start_time": "2021-02-11T01:41:21.795832",
     "status": "completed"
    },
    "tags": []
   },
   "outputs": [],
   "source": []
  },
  {
   "cell_type": "code",
   "execution_count": 1,
   "id": "vertical-rebate",
   "metadata": {
    "execution": {
     "iopub.execute_input": "2021-02-11T01:41:21.839953Z",
     "iopub.status.busy": "2021-02-11T01:41:21.839353Z",
     "iopub.status.idle": "2021-02-11T01:41:21.849992Z",
     "shell.execute_reply": "2021-02-11T01:41:21.850435Z"
    },
    "papermill": {
     "duration": 0.034431,
     "end_time": "2021-02-11T01:41:21.850569",
     "exception": false,
     "start_time": "2021-02-11T01:41:21.816138",
     "status": "completed"
    },
    "tags": []
   },
   "outputs": [],
   "source": [
    "#hide\n",
    "%load_ext autoreload\n",
    "%autoreload 2"
   ]
  },
  {
   "cell_type": "code",
   "execution_count": 2,
   "id": "overall-advancement",
   "metadata": {
    "execution": {
     "iopub.execute_input": "2021-02-11T01:41:21.876382Z",
     "iopub.status.busy": "2021-02-11T01:41:21.875803Z",
     "iopub.status.idle": "2021-02-11T01:41:23.296216Z",
     "shell.execute_reply": "2021-02-11T01:41:23.295276Z"
    },
    "papermill": {
     "duration": 1.434894,
     "end_time": "2021-02-11T01:41:23.296435",
     "exception": false,
     "start_time": "2021-02-11T01:41:21.861541",
     "status": "completed"
    },
    "tags": []
   },
   "outputs": [],
   "source": [
    "#hide\n",
    "from scripts.read_data import read_api\n",
    "from IPython.display import HTML\n",
    "import plotly.graph_objects as go\n"
   ]
  },
  {
   "cell_type": "code",
   "execution_count": 3,
   "id": "light-crazy",
   "metadata": {
    "execution": {
     "iopub.execute_input": "2021-02-11T01:41:23.322308Z",
     "iopub.status.busy": "2021-02-11T01:41:23.321744Z",
     "iopub.status.idle": "2021-02-11T01:41:23.343970Z",
     "shell.execute_reply": "2021-02-11T01:41:23.343491Z"
    },
    "papermill": {
     "duration": 0.036916,
     "end_time": "2021-02-11T01:41:23.344083",
     "exception": false,
     "start_time": "2021-02-11T01:41:23.307167",
     "status": "completed"
    },
    "tags": []
   },
   "outputs": [],
   "source": [
    "#hide\n",
    "### ICO koreliacija"
   ]
  },
  {
   "cell_type": "code",
   "execution_count": 4,
   "id": "likely-bahrain",
   "metadata": {
    "execution": {
     "iopub.execute_input": "2021-02-11T01:41:23.369322Z",
     "iopub.status.busy": "2021-02-11T01:41:23.368776Z",
     "iopub.status.idle": "2021-02-11T01:41:24.361746Z",
     "shell.execute_reply": "2021-02-11T01:41:24.360881Z"
    },
    "papermill": {
     "duration": 1.006799,
     "end_time": "2021-02-11T01:41:24.361955",
     "exception": false,
     "start_time": "2021-02-11T01:41:23.355156",
     "status": "completed"
    },
    "tags": []
   },
   "outputs": [],
   "source": [
    "#hide\n",
    "import matplotlib.pyplot as plt\n",
    "import numpy as np\n",
    "import pandas as pd\n",
    "import seaborn as sns\n",
    "import matplotlib.pyplot as plt \n",
    "import matplotlib.dates as mdates\n",
    "import matplotlib.pyplot as plt"
   ]
  },
  {
   "cell_type": "code",
   "execution_count": 5,
   "id": "superior-blanket",
   "metadata": {
    "execution": {
     "iopub.execute_input": "2021-02-11T01:41:24.388084Z",
     "iopub.status.busy": "2021-02-11T01:41:24.387425Z",
     "iopub.status.idle": "2021-02-11T01:41:35.012306Z",
     "shell.execute_reply": "2021-02-11T01:41:35.011666Z"
    },
    "papermill": {
     "duration": 10.638608,
     "end_time": "2021-02-11T01:41:35.012439",
     "exception": false,
     "start_time": "2021-02-11T01:41:24.373831",
     "status": "completed"
    },
    "tags": []
   },
   "outputs": [
    {
     "name": "stderr",
     "output_type": "stream",
     "text": [
      "/home/runner/work/corr-app/corr-app/_notebooks/scripts/read_data.py:187: SettingWithCopyWarning:\n",
      "\n",
      "\n",
      "A value is trying to be set on a copy of a slice from a DataFrame.\n",
      "Try using .loc[row_indexer,col_indexer] = value instead\n",
      "\n",
      "See the caveats in the documentation: https://pandas.pydata.org/pandas-docs/stable/user_guide/indexing.html#returning-a-view-versus-a-copy\n",
      "\n"
     ]
    },
    {
     "name": "stderr",
     "output_type": "stream",
     "text": [
      "/home/runner/work/corr-app/corr-app/_notebooks/scripts/read_data.py:215: SettingWithCopyWarning:\n",
      "\n",
      "\n",
      "A value is trying to be set on a copy of a slice from a DataFrame.\n",
      "Try using .loc[row_indexer,col_indexer] = value instead\n",
      "\n",
      "See the caveats in the documentation: https://pandas.pydata.org/pandas-docs/stable/user_guide/indexing.html#returning-a-view-versus-a-copy\n",
      "\n"
     ]
    }
   ],
   "source": [
    "#hide\n",
    "df_all = read_api()\n",
    "#df_all = df_all.drop(['SP500', 'XAU', 'ETH', 'BTC'], axis=1)\n",
    "\n"
   ]
  },
  {
   "cell_type": "code",
   "execution_count": 6,
   "id": "mature-alert",
   "metadata": {
    "execution": {
     "iopub.execute_input": "2021-02-11T01:41:35.040204Z",
     "iopub.status.busy": "2021-02-11T01:41:35.039492Z",
     "iopub.status.idle": "2021-02-11T01:41:35.068730Z",
     "shell.execute_reply": "2021-02-11T01:41:35.068095Z"
    },
    "papermill": {
     "duration": 0.045269,
     "end_time": "2021-02-11T01:41:35.068891",
     "exception": false,
     "start_time": "2021-02-11T01:41:35.023622",
     "status": "completed"
    },
    "tags": []
   },
   "outputs": [],
   "source": [
    "#hide_input\n",
    "sum_corr = df_all.corr().sum().sort_values(ascending=True).index.values\n",
    "#df_all[sum_corr].corr()"
   ]
  },
  {
   "cell_type": "markdown",
   "id": "complex-syndicate",
   "metadata": {
    "papermill": {
     "duration": 0.012,
     "end_time": "2021-02-11T01:41:35.095311",
     "exception": false,
     "start_time": "2021-02-11T01:41:35.083311",
     "status": "completed"
    },
    "tags": []
   },
   "source": [
    "## Išplėstinė koreliacijų matrica. "
   ]
  },
  {
   "cell_type": "code",
   "execution_count": 7,
   "id": "atomic-omaha",
   "metadata": {
    "execution": {
     "iopub.execute_input": "2021-02-11T01:41:35.124853Z",
     "iopub.status.busy": "2021-02-11T01:41:35.124320Z",
     "iopub.status.idle": "2021-02-11T01:41:36.252639Z",
     "shell.execute_reply": "2021-02-11T01:41:36.252119Z"
    },
    "papermill": {
     "duration": 1.146011,
     "end_time": "2021-02-11T01:41:36.252746",
     "exception": false,
     "start_time": "2021-02-11T01:41:35.106735",
     "status": "completed"
    },
    "tags": []
   },
   "outputs": [
    {
     "data": {
      "image/png": "[encoded data removed]",
      "text/plain": [
       "<Figure size 1080x792 with 2 Axes>"
      ]
     },
     "metadata": {
      "needs_background": "light"
     },
     "output_type": "display_data"
    }
   ],
   "source": [
    "#hide_input\n",
    "plt.figure(figsize=(15, 11))\n",
    "sns.heatmap(df_all[sum_corr].corr(), annot=True, cmap=\"cubehelix\") \n",
    "sns.set(font_scale=1.25)\n",
    "plt.savefig('corr_matrix.png', format='eps')"
   ]
  },
  {
   "cell_type": "code",
   "execution_count": 8,
   "id": "arbitrary-sullivan",
   "metadata": {
    "execution": {
     "iopub.execute_input": "2021-02-11T01:41:36.284226Z",
     "iopub.status.busy": "2021-02-11T01:41:36.280161Z",
     "iopub.status.idle": "2021-02-11T01:41:36.306096Z",
     "shell.execute_reply": "2021-02-11T01:41:36.305434Z"
    },
    "papermill": {
     "duration": 0.040133,
     "end_time": "2021-02-11T01:41:36.306251",
     "exception": false,
     "start_time": "2021-02-11T01:41:36.266118",
     "status": "completed"
    },
    "tags": []
   },
   "outputs": [],
   "source": [
    "#hide\n",
    "#df_all_mrk = read_api()"
   ]
  },
  {
   "cell_type": "code",
   "execution_count": 9,
   "id": "delayed-adapter",
   "metadata": {
    "execution": {
     "iopub.execute_input": "2021-02-11T01:41:36.339529Z",
     "iopub.status.busy": "2021-02-11T01:41:36.338948Z",
     "iopub.status.idle": "2021-02-11T01:41:36.364300Z",
     "shell.execute_reply": "2021-02-11T01:41:36.363802Z"
    },
    "papermill": {
     "duration": 0.042531,
     "end_time": "2021-02-11T01:41:36.364413",
     "exception": false,
     "start_time": "2021-02-11T01:41:36.321882",
     "status": "completed"
    },
    "tags": []
   },
   "outputs": [],
   "source": [
    "#hide\n",
    "#Koreliacijų koeficientai"
   ]
  },
  {
   "cell_type": "code",
   "execution_count": 10,
   "id": "seeing-celebration",
   "metadata": {
    "execution": {
     "iopub.execute_input": "2021-02-11T01:41:36.400963Z",
     "iopub.status.busy": "2021-02-11T01:41:36.400385Z",
     "iopub.status.idle": "2021-02-11T01:41:36.424938Z",
     "shell.execute_reply": "2021-02-11T01:41:36.424505Z"
    },
    "papermill": {
     "duration": 0.046611,
     "end_time": "2021-02-11T01:41:36.425035",
     "exception": false,
     "start_time": "2021-02-11T01:41:36.378424",
     "status": "completed"
    },
    "tags": []
   },
   "outputs": [],
   "source": [
    "#hide_input\n",
    "#sum_corr = df_all_mrk.corr().sum().sort_values(ascending=True).index.values\n",
    "#df_all_mrk[sum_corr].corr()"
   ]
  },
  {
   "cell_type": "code",
   "execution_count": 11,
   "id": "other-painting",
   "metadata": {
    "execution": {
     "iopub.execute_input": "2021-02-11T01:41:36.454710Z",
     "iopub.status.busy": "2021-02-11T01:41:36.454141Z",
     "iopub.status.idle": "2021-02-11T01:41:36.479284Z",
     "shell.execute_reply": "2021-02-11T01:41:36.478659Z"
    },
    "papermill": {
     "duration": 0.041337,
     "end_time": "2021-02-11T01:41:36.479421",
     "exception": false,
     "start_time": "2021-02-11T01:41:36.438084",
     "status": "completed"
    },
    "tags": []
   },
   "outputs": [],
   "source": [
    "#hide\n",
    "#Koreliacijos matrica. "
   ]
  },
  {
   "cell_type": "code",
   "execution_count": 12,
   "id": "modular-magnitude",
   "metadata": {
    "execution": {
     "iopub.execute_input": "2021-02-11T01:41:36.512252Z",
     "iopub.status.busy": "2021-02-11T01:41:36.511645Z",
     "iopub.status.idle": "2021-02-11T01:41:36.534470Z",
     "shell.execute_reply": "2021-02-11T01:41:36.534118Z"
    },
    "papermill": {
     "duration": 0.040114,
     "end_time": "2021-02-11T01:41:36.534552",
     "exception": false,
     "start_time": "2021-02-11T01:41:36.494438",
     "status": "completed"
    },
    "tags": []
   },
   "outputs": [],
   "source": [
    "#hide_input\n",
    "#plt.figure(figsize=(15, 8))\n",
    "#sns.heatmap(df_all_mrk[sum_corr].corr(), annot=True, cmap=\"BrBG\");\n",
    "#plt.savefig('corr_matrix_all.eps', format='eps')"
   ]
  },
  {
   "cell_type": "code",
   "execution_count": null,
   "id": "original-senator",
   "metadata": {
    "papermill": {
     "duration": 0.013249,
     "end_time": "2021-02-11T01:41:36.560313",
     "exception": false,
     "start_time": "2021-02-11T01:41:36.547064",
     "status": "completed"
    },
    "tags": []
   },
   "outputs": [],
   "source": []
  },
  {
   "cell_type": "code",
   "execution_count": null,
   "id": "saving-secretariat",
   "metadata": {
    "papermill": {
     "duration": 0.012483,
     "end_time": "2021-02-11T01:41:36.585461",
     "exception": false,
     "start_time": "2021-02-11T01:41:36.572978",
     "status": "completed"
    },
    "tags": []
   },
   "outputs": [],
   "source": []
  }
 ],
 "metadata": {
  "kernelspec": {
   "display_name": "Python 3",
   "language": "python",
   "name": "python3"
  },
  "language_info": {
   "codemirror_mode": {
    "name": "ipython",
    "version": 3
   },
   "file_extension": ".py",
   "mimetype": "text/x-python",
   "name": "python",
   "nbconvert_exporter": "python",
   "pygments_lexer": "ipython3",
   "version": "3.6.12"
  },
  "papermill": {
   "default_parameters": {},
   "duration": 17.292163,
   "end_time": "2021-02-11T01:41:38.010937",
   "environment_variables": {},
   "exception": null,
   "input_path": "App-Correlation_charts.ipynb",
   "output_path": "App-Correlation_charts.ipynb",
   "parameters": {},
   "start_time": "2021-02-11T01:41:20.718774",
   "version": "2.2.2"
  }
 },
 "nbformat": 4,
 "nbformat_minor": 5
}