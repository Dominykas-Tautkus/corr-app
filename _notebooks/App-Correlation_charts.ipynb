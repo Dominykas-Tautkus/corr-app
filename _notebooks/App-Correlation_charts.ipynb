{
 "cells": [
  {
   "cell_type": "markdown",
   "id": "touched-facility",
   "metadata": {
    "papermill": {
     "duration": 0.014378,
     "end_time": "2021-03-31T02:01:37.024395",
     "exception": false,
     "start_time": "2021-03-31T02:01:37.010017",
     "status": "completed"
    },
    "tags": []
   },
   "source": [
    "# Koreliacijų matrica\n",
    "> Išplėstinė koreliacijų matrica. \n",
    "\n",
    "- toc: true \n",
    "- badges: true\n",
    "- comments: false\n",
    "- categories: [Dominykas Tautkus]\n",
    "- image: images/matrix.png"
   ]
  },
  {
   "cell_type": "code",
   "execution_count": null,
   "id": "premium-weekend",
   "metadata": {
    "papermill": {
     "duration": 0.011616,
     "end_time": "2021-03-31T02:01:37.047608",
     "exception": false,
     "start_time": "2021-03-31T02:01:37.035992",
     "status": "completed"
    },
    "tags": []
   },
   "outputs": [],
   "source": []
  },
  {
   "cell_type": "code",
   "execution_count": 1,
   "id": "vertical-rebate",
   "metadata": {
    "execution": {
     "iopub.execute_input": "2021-03-31T02:01:37.081813Z",
     "iopub.status.busy": "2021-03-31T02:01:37.081262Z",
     "iopub.status.idle": "2021-03-31T02:01:37.091261Z",
     "shell.execute_reply": "2021-03-31T02:01:37.091901Z"
    },
    "papermill": {
     "duration": 0.032702,
     "end_time": "2021-03-31T02:01:37.092091",
     "exception": false,
     "start_time": "2021-03-31T02:01:37.059389",
     "status": "completed"
    },
    "tags": []
   },
   "outputs": [],
   "source": [
    "#hide\n",
    "%load_ext autoreload\n",
    "%autoreload 2"
   ]
  },
  {
   "cell_type": "code",
   "execution_count": 2,
   "id": "overall-advancement",
   "metadata": {
    "execution": {
     "iopub.execute_input": "2021-03-31T02:01:37.137057Z",
     "iopub.status.busy": "2021-03-31T02:01:37.127665Z",
     "iopub.status.idle": "2021-03-31T02:01:38.256031Z",
     "shell.execute_reply": "2021-03-31T02:01:38.255226Z"
    },
    "papermill": {
     "duration": 1.152182,
     "end_time": "2021-03-31T02:01:38.256152",
     "exception": false,
     "start_time": "2021-03-31T02:01:37.103970",
     "status": "completed"
    },
    "tags": []
   },
   "outputs": [],
   "source": [
    "#hide\n",
    "from scripts.read_data import read_api\n",
    "from IPython.display import HTML\n",
    "import plotly.graph_objects as go\n"
   ]
  },
  {
   "cell_type": "code",
   "execution_count": 3,
   "id": "light-crazy",
   "metadata": {
    "execution": {
     "iopub.execute_input": "2021-03-31T02:01:38.283700Z",
     "iopub.status.busy": "2021-03-31T02:01:38.283081Z",
     "iopub.status.idle": "2021-03-31T02:01:38.303454Z",
     "shell.execute_reply": "2021-03-31T02:01:38.304081Z"
    },
    "papermill": {
     "duration": 0.036022,
     "end_time": "2021-03-31T02:01:38.304302",
     "exception": false,
     "start_time": "2021-03-31T02:01:38.268280",
     "status": "completed"
    },
    "tags": []
   },
   "outputs": [],
   "source": [
    "#hide\n",
    "### ICO koreliacija"
   ]
  },
  {
   "cell_type": "code",
   "execution_count": 4,
   "id": "likely-bahrain",
   "metadata": {
    "execution": {
     "iopub.execute_input": "2021-03-31T02:01:38.333453Z",
     "iopub.status.busy": "2021-03-31T02:01:38.332843Z",
     "iopub.status.idle": "2021-03-31T02:01:40.155708Z",
     "shell.execute_reply": "2021-03-31T02:01:40.155095Z"
    },
    "papermill": {
     "duration": 1.839596,
     "end_time": "2021-03-31T02:01:40.155834",
     "exception": false,
     "start_time": "2021-03-31T02:01:38.316238",
     "status": "completed"
    },
    "tags": []
   },
   "outputs": [],
   "source": [
    "#hide\n",
    "import matplotlib.pyplot as plt\n",
    "import numpy as np\n",
    "import pandas as pd\n",
    "import seaborn as sns\n",
    "import matplotlib.pyplot as plt \n",
    "import matplotlib.dates as mdates\n",
    "import matplotlib.pyplot as plt"
   ]
  },
  {
   "cell_type": "code",
   "execution_count": 5,
   "id": "superior-blanket",
   "metadata": {
    "execution": {
     "iopub.execute_input": "2021-03-31T02:01:40.185950Z",
     "iopub.status.busy": "2021-03-31T02:01:40.185359Z",
     "iopub.status.idle": "2021-03-31T02:01:52.657507Z",
     "shell.execute_reply": "2021-03-31T02:01:52.656968Z"
    },
    "papermill": {
     "duration": 12.488634,
     "end_time": "2021-03-31T02:01:52.657625",
     "exception": false,
     "start_time": "2021-03-31T02:01:40.168991",
     "status": "completed"
    },
    "tags": []
   },
   "outputs": [
    {
     "name": "stderr",
     "output_type": "stream",
     "text": [
      "/home/runner/work/corr-app/corr-app/_notebooks/scripts/read_data.py:187: SettingWithCopyWarning:\n",
      "\n",
      "\n",
      "A value is trying to be set on a copy of a slice from a DataFrame.\n",
      "Try using .loc[row_indexer,col_indexer] = value instead\n",
      "\n",
      "See the caveats in the documentation: https://pandas.pydata.org/pandas-docs/stable/user_guide/indexing.html#returning-a-view-versus-a-copy\n",
      "\n"
     ]
    },
    {
     "name": "stderr",
     "output_type": "stream",
     "text": [
      "/home/runner/work/corr-app/corr-app/_notebooks/scripts/read_data.py:215: SettingWithCopyWarning:\n",
      "\n",
      "\n",
      "A value is trying to be set on a copy of a slice from a DataFrame.\n",
      "Try using .loc[row_indexer,col_indexer] = value instead\n",
      "\n",
      "See the caveats in the documentation: https://pandas.pydata.org/pandas-docs/stable/user_guide/indexing.html#returning-a-view-versus-a-copy\n",
      "\n"
     ]
    }
   ],
   "source": [
    "#hide\n",
    "df_all = read_api()\n",
    "#df_all = df_all.drop(['SP500', 'XAU', 'ETH', 'BTC'], axis=1)\n",
    "\n"
   ]
  },
  {
   "cell_type": "code",
   "execution_count": 6,
   "id": "mature-alert",
   "metadata": {
    "execution": {
     "iopub.execute_input": "2021-03-31T02:01:52.691364Z",
     "iopub.status.busy": "2021-03-31T02:01:52.690786Z",
     "iopub.status.idle": "2021-03-31T02:01:52.719296Z",
     "shell.execute_reply": "2021-03-31T02:01:52.719783Z"
    },
    "papermill": {
     "duration": 0.048854,
     "end_time": "2021-03-31T02:01:52.719920",
     "exception": false,
     "start_time": "2021-03-31T02:01:52.671066",
     "status": "completed"
    },
    "tags": []
   },
   "outputs": [],
   "source": [
    "#hide_input\n",
    "sum_corr = df_all.corr().sum().sort_values(ascending=True).index.values\n",
    "#df_all[sum_corr].corr()"
   ]
  },
  {
   "cell_type": "markdown",
   "id": "complex-syndicate",
   "metadata": {
    "papermill": {
     "duration": 0.013864,
     "end_time": "2021-03-31T02:01:52.746640",
     "exception": false,
     "start_time": "2021-03-31T02:01:52.732776",
     "status": "completed"
    },
    "tags": []
   },
   "source": [
    "## Išplėstinė koreliacijų matrica. "
   ]
  },
  {
   "cell_type": "code",
   "execution_count": 7,
   "id": "atomic-omaha",
   "metadata": {
    "execution": {
     "iopub.execute_input": "2021-03-31T02:01:52.779445Z",
     "iopub.status.busy": "2021-03-31T02:01:52.778901Z",
     "iopub.status.idle": "2021-03-31T02:01:54.284054Z",
     "shell.execute_reply": "2021-03-31T02:01:54.283582Z"
    },
    "papermill": {
     "duration": 1.525465,
     "end_time": "2021-03-31T02:01:54.284174",
     "exception": false,
     "start_time": "2021-03-31T02:01:52.758709",
     "status": "completed"
    },
    "tags": []
   },
   "outputs": [
    {
     "data": {
      "image/png": "[encoded data removed]",
      "text/plain": [
       "<Figure size 1080x792 with 2 Axes>"
      ]
     },
     "metadata": {
      "needs_background": "light"
     },
     "output_type": "display_data"
    }
   ],
   "source": [
    "#hide_input\n",
    "plt.figure(figsize=(15, 11))\n",
    "sns.heatmap(df_all[sum_corr].corr(), annot=True, cmap=\"cubehelix\") \n",
    "sns.set(font_scale=1.25)\n",
    "plt.savefig('corr_matrix.png', format='eps')"
   ]
  },
  {
   "cell_type": "code",
   "execution_count": 8,
   "id": "arbitrary-sullivan",
   "metadata": {
    "execution": {
     "iopub.execute_input": "2021-03-31T02:01:54.321632Z",
     "iopub.status.busy": "2021-03-31T02:01:54.321019Z",
     "iopub.status.idle": "2021-03-31T02:01:54.344283Z",
     "shell.execute_reply": "2021-03-31T02:01:54.344744Z"
    },
    "papermill": {
     "duration": 0.045617,
     "end_time": "2021-03-31T02:01:54.344892",
     "exception": false,
     "start_time": "2021-03-31T02:01:54.299275",
     "status": "completed"
    },
    "tags": []
   },
   "outputs": [],
   "source": [
    "#hide\n",
    "#df_all_mrk = read_api()"
   ]
  },
  {
   "cell_type": "code",
   "execution_count": 9,
   "id": "delayed-adapter",
   "metadata": {
    "execution": {
     "iopub.execute_input": "2021-03-31T02:01:54.382704Z",
     "iopub.status.busy": "2021-03-31T02:01:54.377112Z",
     "iopub.status.idle": "2021-03-31T02:01:54.403704Z",
     "shell.execute_reply": "2021-03-31T02:01:54.403208Z"
    },
    "papermill": {
     "duration": 0.045156,
     "end_time": "2021-03-31T02:01:54.403829",
     "exception": false,
     "start_time": "2021-03-31T02:01:54.358673",
     "status": "completed"
    },
    "tags": []
   },
   "outputs": [],
   "source": [
    "#hide\n",
    "#Koreliacijų koeficientai"
   ]
  },
  {
   "cell_type": "code",
   "execution_count": 10,
   "id": "seeing-celebration",
   "metadata": {
    "execution": {
     "iopub.execute_input": "2021-03-31T02:01:54.442141Z",
     "iopub.status.busy": "2021-03-31T02:01:54.441576Z",
     "iopub.status.idle": "2021-03-31T02:01:54.464892Z",
     "shell.execute_reply": "2021-03-31T02:01:54.464334Z"
    },
    "papermill": {
     "duration": 0.046531,
     "end_time": "2021-03-31T02:01:54.465010",
     "exception": false,
     "start_time": "2021-03-31T02:01:54.418479",
     "status": "completed"
    },
    "tags": []
   },
   "outputs": [],
   "source": [
    "#hide_input\n",
    "#sum_corr = df_all_mrk.corr().sum().sort_values(ascending=True).index.values\n",
    "#df_all_mrk[sum_corr].corr()"
   ]
  },
  {
   "cell_type": "code",
   "execution_count": 11,
   "id": "other-painting",
   "metadata": {
    "execution": {
     "iopub.execute_input": "2021-03-31T02:01:54.516176Z",
     "iopub.status.busy": "2021-03-31T02:01:54.505521Z",
     "iopub.status.idle": "2021-03-31T02:01:54.529232Z",
     "shell.execute_reply": "2021-03-31T02:01:54.528755Z"
    },
    "papermill": {
     "duration": 0.049009,
     "end_time": "2021-03-31T02:01:54.529367",
     "exception": false,
     "start_time": "2021-03-31T02:01:54.480358",
     "status": "completed"
    },
    "tags": []
   },
   "outputs": [],
   "source": [
    "#hide\n",
    "#Koreliacijos matrica. "
   ]
  },
  {
   "cell_type": "code",
   "execution_count": 12,
   "id": "modular-magnitude",
   "metadata": {
    "execution": {
     "iopub.execute_input": "2021-03-31T02:01:54.561461Z",
     "iopub.status.busy": "2021-03-31T02:01:54.560881Z",
     "iopub.status.idle": "2021-03-31T02:01:54.584897Z",
     "shell.execute_reply": "2021-03-31T02:01:54.585554Z"
    },
    "papermill": {
     "duration": 0.041869,
     "end_time": "2021-03-31T02:01:54.585673",
     "exception": false,
     "start_time": "2021-03-31T02:01:54.543804",
     "status": "completed"
    },
    "tags": []
   },
   "outputs": [],
   "source": [
    "#hide_input\n",
    "#plt.figure(figsize=(15, 8))\n",
    "#sns.heatmap(df_all_mrk[sum_corr].corr(), annot=True, cmap=\"BrBG\");\n",
    "#plt.savefig('corr_matrix_all.eps', format='eps')"
   ]
  },
  {
   "cell_type": "code",
   "execution_count": null,
   "id": "original-senator",
   "metadata": {
    "papermill": {
     "duration": 0.015019,
     "end_time": "2021-03-31T02:01:54.613469",
     "exception": false,
     "start_time": "2021-03-31T02:01:54.598450",
     "status": "completed"
    },
    "tags": []
   },
   "outputs": [],
   "source": []
  },
  {
   "cell_type": "code",
   "execution_count": null,
   "id": "saving-secretariat",
   "metadata": {
    "papermill": {
     "duration": 0.015391,
     "end_time": "2021-03-31T02:01:54.643437",
     "exception": false,
     "start_time": "2021-03-31T02:01:54.628046",
     "status": "completed"
    },
    "tags": []
   },
   "outputs": [],
   "source": []
  }
 ],
 "metadata": {
  "kernelspec": {
   "display_name": "Python 3",
   "language": "python",
   "name": "python3"
  },
  "language_info": {
   "codemirror_mode": {
    "name": "ipython",
    "version": 3
   },
   "file_extension": ".py",
   "mimetype": "text/x-python",
   "name": "python",
   "nbconvert_exporter": "python",
   "pygments_lexer": "ipython3",
   "version": "3.6.13"
  },
  "papermill": {
   "default_parameters": {},
   "duration": 19.239939,
   "end_time": "2021-03-31T02:01:55.167487",
   "environment_variables": {},
   "exception": null,
   "input_path": "App-Correlation_charts.ipynb",
   "output_path": "App-Correlation_charts.ipynb",
   "parameters": {},
   "start_time": "2021-03-31T02:01:35.927548",
   "version": "2.2.2"
  }
 },
 "nbformat": 4,
 "nbformat_minor": 5
}