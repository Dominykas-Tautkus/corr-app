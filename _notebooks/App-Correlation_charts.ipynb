{
 "cells": [
  {
   "cell_type": "markdown",
   "id": "touched-facility",
   "metadata": {
    "papermill": {
     "duration": 0.014896,
     "end_time": "2021-02-09T01:36:56.649900",
     "exception": false,
     "start_time": "2021-02-09T01:36:56.635004",
     "status": "completed"
    },
    "tags": []
   },
   "source": [
    "# Koreliacijų matrica\n",
    "> Išplėstinė koreliacijų matrica. \n",
    "\n",
    "- toc: true \n",
    "- badges: true\n",
    "- comments: false\n",
    "- categories: [Dominykas Tautkus]\n",
    "- image: images/matrix.png"
   ]
  },
  {
   "cell_type": "code",
   "execution_count": null,
   "id": "premium-weekend",
   "metadata": {
    "papermill": {
     "duration": 0.592685,
     "end_time": "2021-02-09T01:36:57.656554",
     "exception": false,
     "start_time": "2021-02-09T01:36:57.063869",
     "status": "completed"
    },
    "tags": []
   },
   "outputs": [],
   "source": []
  },
  {
   "cell_type": "code",
   "execution_count": 1,
   "id": "vertical-rebate",
   "metadata": {
    "execution": {
     "iopub.execute_input": "2021-02-09T01:36:59.078187Z",
     "iopub.status.busy": "2021-02-09T01:36:59.077598Z",
     "iopub.status.idle": "2021-02-09T01:36:59.088010Z",
     "shell.execute_reply": "2021-02-09T01:36:59.087403Z"
    },
    "papermill": {
     "duration": 1.132064,
     "end_time": "2021-02-09T01:36:59.088144",
     "exception": false,
     "start_time": "2021-02-09T01:36:57.956080",
     "status": "completed"
    },
    "tags": []
   },
   "outputs": [],
   "source": [
    "#hide\n",
    "%load_ext autoreload\n",
    "%autoreload 2"
   ]
  },
  {
   "cell_type": "code",
   "execution_count": 2,
   "id": "overall-advancement",
   "metadata": {
    "execution": {
     "iopub.execute_input": "2021-02-09T01:37:00.120464Z",
     "iopub.status.busy": "2021-02-09T01:37:00.119729Z",
     "iopub.status.idle": "2021-02-09T01:37:02.434534Z",
     "shell.execute_reply": "2021-02-09T01:37:02.433581Z"
    },
    "papermill": {
     "duration": 3.321237,
     "end_time": "2021-02-09T01:37:02.434897",
     "exception": false,
     "start_time": "2021-02-09T01:36:59.113660",
     "status": "completed"
    },
    "tags": []
   },
   "outputs": [],
   "source": [
    "#hide\n",
    "from scripts.read_data import read_api\n",
    "from IPython.display import HTML\n",
    "import plotly.graph_objects as go\n"
   ]
  },
  {
   "cell_type": "code",
   "execution_count": 3,
   "id": "light-crazy",
   "metadata": {
    "execution": {
     "iopub.execute_input": "2021-02-09T01:37:02.772450Z",
     "iopub.status.busy": "2021-02-09T01:37:02.771873Z",
     "iopub.status.idle": "2021-02-09T01:37:02.791960Z",
     "shell.execute_reply": "2021-02-09T01:37:02.792524Z"
    },
    "papermill": {
     "duration": 0.346171,
     "end_time": "2021-02-09T01:37:02.792689",
     "exception": false,
     "start_time": "2021-02-09T01:37:02.446518",
     "status": "completed"
    },
    "tags": []
   },
   "outputs": [],
   "source": [
    "#hide\n",
    "### ICO koreliacija"
   ]
  },
  {
   "cell_type": "code",
   "execution_count": 4,
   "id": "likely-bahrain",
   "metadata": {
    "execution": {
     "iopub.execute_input": "2021-02-09T01:37:02.827911Z",
     "iopub.status.busy": "2021-02-09T01:37:02.825926Z",
     "iopub.status.idle": "2021-02-09T01:37:04.983826Z",
     "shell.execute_reply": "2021-02-09T01:37:04.983295Z"
    },
    "papermill": {
     "duration": 2.177912,
     "end_time": "2021-02-09T01:37:04.983957",
     "exception": false,
     "start_time": "2021-02-09T01:37:02.806045",
     "status": "completed"
    },
    "tags": []
   },
   "outputs": [],
   "source": [
    "#hide\n",
    "import matplotlib.pyplot as plt\n",
    "import numpy as np\n",
    "import pandas as pd\n",
    "import seaborn as sns\n",
    "import matplotlib.pyplot as plt \n",
    "import matplotlib.dates as mdates\n",
    "import matplotlib.pyplot as plt"
   ]
  },
  {
   "cell_type": "code",
   "execution_count": 5,
   "id": "superior-blanket",
   "metadata": {
    "execution": {
     "iopub.execute_input": "2021-02-09T01:37:05.014766Z",
     "iopub.status.busy": "2021-02-09T01:37:05.014194Z",
     "iopub.status.idle": "2021-02-09T01:37:15.373368Z",
     "shell.execute_reply": "2021-02-09T01:37:15.372873Z"
    },
    "papermill": {
     "duration": 10.377851,
     "end_time": "2021-02-09T01:37:15.373495",
     "exception": false,
     "start_time": "2021-02-09T01:37:04.995644",
     "status": "completed"
    },
    "tags": []
   },
   "outputs": [
    {
     "name": "stderr",
     "output_type": "stream",
     "text": [
      "/home/runner/work/corr-app/corr-app/_notebooks/scripts/read_data.py:187: SettingWithCopyWarning:\n",
      "\n",
      "\n",
      "A value is trying to be set on a copy of a slice from a DataFrame.\n",
      "Try using .loc[row_indexer,col_indexer] = value instead\n",
      "\n",
      "See the caveats in the documentation: https://pandas.pydata.org/pandas-docs/stable/user_guide/indexing.html#returning-a-view-versus-a-copy\n",
      "\n"
     ]
    },
    {
     "name": "stderr",
     "output_type": "stream",
     "text": [
      "/home/runner/work/corr-app/corr-app/_notebooks/scripts/read_data.py:215: SettingWithCopyWarning:\n",
      "\n",
      "\n",
      "A value is trying to be set on a copy of a slice from a DataFrame.\n",
      "Try using .loc[row_indexer,col_indexer] = value instead\n",
      "\n",
      "See the caveats in the documentation: https://pandas.pydata.org/pandas-docs/stable/user_guide/indexing.html#returning-a-view-versus-a-copy\n",
      "\n"
     ]
    }
   ],
   "source": [
    "#hide\n",
    "df_all = read_api()\n",
    "#df_all = df_all.drop(['SP500', 'XAU', 'ETH', 'BTC'], axis=1)\n",
    "\n"
   ]
  },
  {
   "cell_type": "code",
   "execution_count": 6,
   "id": "mature-alert",
   "metadata": {
    "execution": {
     "iopub.execute_input": "2021-02-09T01:37:15.407059Z",
     "iopub.status.busy": "2021-02-09T01:37:15.406471Z",
     "iopub.status.idle": "2021-02-09T01:37:15.431608Z",
     "shell.execute_reply": "2021-02-09T01:37:15.432046Z"
    },
    "papermill": {
     "duration": 0.046241,
     "end_time": "2021-02-09T01:37:15.432187",
     "exception": false,
     "start_time": "2021-02-09T01:37:15.385946",
     "status": "completed"
    },
    "tags": []
   },
   "outputs": [],
   "source": [
    "#hide_input\n",
    "sum_corr = df_all.corr().sum().sort_values(ascending=True).index.values\n",
    "#df_all[sum_corr].corr()"
   ]
  },
  {
   "cell_type": "markdown",
   "id": "complex-syndicate",
   "metadata": {
    "papermill": {
     "duration": 0.011641,
     "end_time": "2021-02-09T01:37:15.455243",
     "exception": false,
     "start_time": "2021-02-09T01:37:15.443602",
     "status": "completed"
    },
    "tags": []
   },
   "source": [
    "## Išplėstinė koreliacijų matrica. "
   ]
  },
  {
   "cell_type": "code",
   "execution_count": 7,
   "id": "atomic-omaha",
   "metadata": {
    "execution": {
     "iopub.execute_input": "2021-02-09T01:37:15.484755Z",
     "iopub.status.busy": "2021-02-09T01:37:15.484161Z",
     "iopub.status.idle": "2021-02-09T01:37:16.974067Z",
     "shell.execute_reply": "2021-02-09T01:37:16.973481Z"
    },
    "papermill": {
     "duration": 1.507107,
     "end_time": "2021-02-09T01:37:16.974253",
     "exception": false,
     "start_time": "2021-02-09T01:37:15.467146",
     "status": "completed"
    },
    "tags": []
   },
   "outputs": [
    {
     "data": {
      "image/png": "[encoded data removed]",
      "text/plain": [
       "<Figure size 1080x792 with 2 Axes>"
      ]
     },
     "metadata": {
      "needs_background": "light"
     },
     "output_type": "display_data"
    }
   ],
   "source": [
    "#hide_input\n",
    "plt.figure(figsize=(15, 11))\n",
    "sns.heatmap(df_all[sum_corr].corr(), annot=True, cmap=\"cubehelix\") \n",
    "sns.set(font_scale=1.25)\n",
    "plt.savefig('corr_matrix.png', format='eps')"
   ]
  },
  {
   "cell_type": "code",
   "execution_count": 8,
   "id": "arbitrary-sullivan",
   "metadata": {
    "execution": {
     "iopub.execute_input": "2021-02-09T01:37:17.011554Z",
     "iopub.status.busy": "2021-02-09T01:37:17.010908Z",
     "iopub.status.idle": "2021-02-09T01:37:17.033768Z",
     "shell.execute_reply": "2021-02-09T01:37:17.033234Z"
    },
    "papermill": {
     "duration": 0.044892,
     "end_time": "2021-02-09T01:37:17.033891",
     "exception": false,
     "start_time": "2021-02-09T01:37:16.988999",
     "status": "completed"
    },
    "tags": []
   },
   "outputs": [],
   "source": [
    "#hide\n",
    "#df_all_mrk = read_api()"
   ]
  },
  {
   "cell_type": "code",
   "execution_count": 9,
   "id": "delayed-adapter",
   "metadata": {
    "execution": {
     "iopub.execute_input": "2021-02-09T01:37:17.070355Z",
     "iopub.status.busy": "2021-02-09T01:37:17.069709Z",
     "iopub.status.idle": "2021-02-09T01:37:17.094953Z",
     "shell.execute_reply": "2021-02-09T01:37:17.095569Z"
    },
    "papermill": {
     "duration": 0.04716,
     "end_time": "2021-02-09T01:37:17.095748",
     "exception": false,
     "start_time": "2021-02-09T01:37:17.048588",
     "status": "completed"
    },
    "tags": []
   },
   "outputs": [],
   "source": [
    "#hide\n",
    "#Koreliacijų koeficientai"
   ]
  },
  {
   "cell_type": "code",
   "execution_count": 10,
   "id": "seeing-celebration",
   "metadata": {
    "execution": {
     "iopub.execute_input": "2021-02-09T01:37:17.129811Z",
     "iopub.status.busy": "2021-02-09T01:37:17.129218Z",
     "iopub.status.idle": "2021-02-09T01:37:17.154734Z",
     "shell.execute_reply": "2021-02-09T01:37:17.154144Z"
    },
    "papermill": {
     "duration": 0.043938,
     "end_time": "2021-02-09T01:37:17.154858",
     "exception": false,
     "start_time": "2021-02-09T01:37:17.110920",
     "status": "completed"
    },
    "tags": []
   },
   "outputs": [],
   "source": [
    "#hide_input\n",
    "#sum_corr = df_all_mrk.corr().sum().sort_values(ascending=True).index.values\n",
    "#df_all_mrk[sum_corr].corr()"
   ]
  },
  {
   "cell_type": "code",
   "execution_count": 11,
   "id": "other-painting",
   "metadata": {
    "execution": {
     "iopub.execute_input": "2021-02-09T01:37:17.188648Z",
     "iopub.status.busy": "2021-02-09T01:37:17.188000Z",
     "iopub.status.idle": "2021-02-09T01:37:17.219181Z",
     "shell.execute_reply": "2021-02-09T01:37:17.218673Z"
    },
    "papermill": {
     "duration": 0.050459,
     "end_time": "2021-02-09T01:37:17.219302",
     "exception": false,
     "start_time": "2021-02-09T01:37:17.168843",
     "status": "completed"
    },
    "tags": []
   },
   "outputs": [],
   "source": [
    "#hide\n",
    "#Koreliacijos matrica. "
   ]
  },
  {
   "cell_type": "code",
   "execution_count": 12,
   "id": "modular-magnitude",
   "metadata": {
    "execution": {
     "iopub.execute_input": "2021-02-09T01:37:17.266700Z",
     "iopub.status.busy": "2021-02-09T01:37:17.255865Z",
     "iopub.status.idle": "2021-02-09T01:37:17.278006Z",
     "shell.execute_reply": "2021-02-09T01:37:17.279238Z"
    },
    "papermill": {
     "duration": 0.046388,
     "end_time": "2021-02-09T01:37:17.279466",
     "exception": false,
     "start_time": "2021-02-09T01:37:17.233078",
     "status": "completed"
    },
    "tags": []
   },
   "outputs": [],
   "source": [
    "#hide_input\n",
    "#plt.figure(figsize=(15, 8))\n",
    "#sns.heatmap(df_all_mrk[sum_corr].corr(), annot=True, cmap=\"BrBG\");\n",
    "#plt.savefig('corr_matrix_all.eps', format='eps')"
   ]
  },
  {
   "cell_type": "code",
   "execution_count": null,
   "id": "original-senator",
   "metadata": {
    "papermill": {
     "duration": 0.014081,
     "end_time": "2021-02-09T01:37:17.308618",
     "exception": false,
     "start_time": "2021-02-09T01:37:17.294537",
     "status": "completed"
    },
    "tags": []
   },
   "outputs": [],
   "source": []
  },
  {
   "cell_type": "code",
   "execution_count": null,
   "id": "saving-secretariat",
   "metadata": {
    "papermill": {
     "duration": 0.016857,
     "end_time": "2021-02-09T01:37:17.340742",
     "exception": false,
     "start_time": "2021-02-09T01:37:17.323885",
     "status": "completed"
    },
    "tags": []
   },
   "outputs": [],
   "source": []
  }
 ],
 "metadata": {
  "kernelspec": {
   "display_name": "Python 3",
   "language": "python",
   "name": "python3"
  },
  "language_info": {
   "codemirror_mode": {
    "name": "ipython",
    "version": 3
   },
   "file_extension": ".py",
   "mimetype": "text/x-python",
   "name": "python",
   "nbconvert_exporter": "python",
   "pygments_lexer": "ipython3",
   "version": "3.6.12"
  },
  "papermill": {
   "default_parameters": {},
   "duration": 23.306996,
   "end_time": "2021-02-09T01:37:18.811707",
   "environment_variables": {},
   "exception": null,
   "input_path": "App-Correlation_charts.ipynb",
   "output_path": "App-Correlation_charts.ipynb",
   "parameters": {},
   "start_time": "2021-02-09T01:36:55.504711",
   "version": "2.2.2"
  }
 },
 "nbformat": 4,
 "nbformat_minor": 5
}