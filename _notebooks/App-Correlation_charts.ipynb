{
 "cells": [
  {
   "cell_type": "markdown",
   "id": "touched-facility",
   "metadata": {
    "papermill": {
     "duration": 0.035156,
     "end_time": "2021-03-08T01:45:14.128108",
     "exception": false,
     "start_time": "2021-03-08T01:45:14.092952",
     "status": "completed"
    },
    "tags": []
   },
   "source": [
    "# Koreliacijų matrica\n",
    "> Išplėstinė koreliacijų matrica. \n",
    "\n",
    "- toc: true \n",
    "- badges: true\n",
    "- comments: false\n",
    "- categories: [Dominykas Tautkus]\n",
    "- image: images/matrix.png"
   ]
  },
  {
   "cell_type": "code",
   "execution_count": null,
   "id": "premium-weekend",
   "metadata": {
    "papermill": {
     "duration": 0.050021,
     "end_time": "2021-03-08T01:45:14.292528",
     "exception": false,
     "start_time": "2021-03-08T01:45:14.242507",
     "status": "completed"
    },
    "tags": []
   },
   "outputs": [],
   "source": []
  },
  {
   "cell_type": "code",
   "execution_count": 1,
   "id": "vertical-rebate",
   "metadata": {
    "execution": {
     "iopub.execute_input": "2021-03-08T01:45:14.899493Z",
     "iopub.status.busy": "2021-03-08T01:45:14.898929Z",
     "iopub.status.idle": "2021-03-08T01:45:14.907431Z",
     "shell.execute_reply": "2021-03-08T01:45:14.907919Z"
    },
    "papermill": {
     "duration": 0.303432,
     "end_time": "2021-03-08T01:45:14.908495",
     "exception": false,
     "start_time": "2021-03-08T01:45:14.605063",
     "status": "completed"
    },
    "tags": []
   },
   "outputs": [],
   "source": [
    "#hide\n",
    "%load_ext autoreload\n",
    "%autoreload 2"
   ]
  },
  {
   "cell_type": "code",
   "execution_count": 2,
   "id": "overall-advancement",
   "metadata": {
    "execution": {
     "iopub.execute_input": "2021-03-08T01:45:15.385943Z",
     "iopub.status.busy": "2021-03-08T01:45:15.385287Z",
     "iopub.status.idle": "2021-03-08T01:45:16.898238Z",
     "shell.execute_reply": "2021-03-08T01:45:16.897704Z"
    },
    "papermill": {
     "duration": 1.613834,
     "end_time": "2021-03-08T01:45:16.898375",
     "exception": false,
     "start_time": "2021-03-08T01:45:15.284541",
     "status": "completed"
    },
    "tags": []
   },
   "outputs": [],
   "source": [
    "#hide\n",
    "from scripts.read_data import read_api\n",
    "from IPython.display import HTML\n",
    "import plotly.graph_objects as go\n"
   ]
  },
  {
   "cell_type": "code",
   "execution_count": 3,
   "id": "light-crazy",
   "metadata": {
    "execution": {
     "iopub.execute_input": "2021-03-08T01:45:16.929063Z",
     "iopub.status.busy": "2021-03-08T01:45:16.927828Z",
     "iopub.status.idle": "2021-03-08T01:45:16.954061Z",
     "shell.execute_reply": "2021-03-08T01:45:16.953492Z"
    },
    "papermill": {
     "duration": 0.042874,
     "end_time": "2021-03-08T01:45:16.954180",
     "exception": false,
     "start_time": "2021-03-08T01:45:16.911306",
     "status": "completed"
    },
    "tags": []
   },
   "outputs": [],
   "source": [
    "#hide\n",
    "### ICO koreliacija"
   ]
  },
  {
   "cell_type": "code",
   "execution_count": 4,
   "id": "likely-bahrain",
   "metadata": {
    "execution": {
     "iopub.execute_input": "2021-03-08T01:45:16.986346Z",
     "iopub.status.busy": "2021-03-08T01:45:16.985568Z",
     "iopub.status.idle": "2021-03-08T01:45:19.759005Z",
     "shell.execute_reply": "2021-03-08T01:45:19.758496Z"
    },
    "papermill": {
     "duration": 2.791436,
     "end_time": "2021-03-08T01:45:19.759134",
     "exception": false,
     "start_time": "2021-03-08T01:45:16.967698",
     "status": "completed"
    },
    "tags": []
   },
   "outputs": [],
   "source": [
    "#hide\n",
    "import matplotlib.pyplot as plt\n",
    "import numpy as np\n",
    "import pandas as pd\n",
    "import seaborn as sns\n",
    "import matplotlib.pyplot as plt \n",
    "import matplotlib.dates as mdates\n",
    "import matplotlib.pyplot as plt"
   ]
  },
  {
   "cell_type": "code",
   "execution_count": 5,
   "id": "superior-blanket",
   "metadata": {
    "execution": {
     "iopub.execute_input": "2021-03-08T01:45:19.790535Z",
     "iopub.status.busy": "2021-03-08T01:45:19.789432Z",
     "iopub.status.idle": "2021-03-08T01:45:30.068336Z",
     "shell.execute_reply": "2021-03-08T01:45:30.067445Z"
    },
    "papermill": {
     "duration": 10.297207,
     "end_time": "2021-03-08T01:45:30.068475",
     "exception": false,
     "start_time": "2021-03-08T01:45:19.771268",
     "status": "completed"
    },
    "tags": []
   },
   "outputs": [
    {
     "name": "stderr",
     "output_type": "stream",
     "text": [
      "/home/runner/work/corr-app/corr-app/_notebooks/scripts/read_data.py:187: SettingWithCopyWarning:\n",
      "\n",
      "\n",
      "A value is trying to be set on a copy of a slice from a DataFrame.\n",
      "Try using .loc[row_indexer,col_indexer] = value instead\n",
      "\n",
      "See the caveats in the documentation: https://pandas.pydata.org/pandas-docs/stable/user_guide/indexing.html#returning-a-view-versus-a-copy\n",
      "\n"
     ]
    },
    {
     "name": "stderr",
     "output_type": "stream",
     "text": [
      "/home/runner/work/corr-app/corr-app/_notebooks/scripts/read_data.py:215: SettingWithCopyWarning:\n",
      "\n",
      "\n",
      "A value is trying to be set on a copy of a slice from a DataFrame.\n",
      "Try using .loc[row_indexer,col_indexer] = value instead\n",
      "\n",
      "See the caveats in the documentation: https://pandas.pydata.org/pandas-docs/stable/user_guide/indexing.html#returning-a-view-versus-a-copy\n",
      "\n"
     ]
    }
   ],
   "source": [
    "#hide\n",
    "df_all = read_api()\n",
    "#df_all = df_all.drop(['SP500', 'XAU', 'ETH', 'BTC'], axis=1)\n",
    "\n"
   ]
  },
  {
   "cell_type": "code",
   "execution_count": 6,
   "id": "mature-alert",
   "metadata": {
    "execution": {
     "iopub.execute_input": "2021-03-08T01:45:30.105458Z",
     "iopub.status.busy": "2021-03-08T01:45:30.098928Z",
     "iopub.status.idle": "2021-03-08T01:45:30.131199Z",
     "shell.execute_reply": "2021-03-08T01:45:30.130705Z"
    },
    "papermill": {
     "duration": 0.049075,
     "end_time": "2021-03-08T01:45:30.131330",
     "exception": false,
     "start_time": "2021-03-08T01:45:30.082255",
     "status": "completed"
    },
    "tags": []
   },
   "outputs": [],
   "source": [
    "#hide_input\n",
    "sum_corr = df_all.corr().sum().sort_values(ascending=True).index.values\n",
    "#df_all[sum_corr].corr()"
   ]
  },
  {
   "cell_type": "markdown",
   "id": "complex-syndicate",
   "metadata": {
    "papermill": {
     "duration": 0.012628,
     "end_time": "2021-03-08T01:45:30.156485",
     "exception": false,
     "start_time": "2021-03-08T01:45:30.143857",
     "status": "completed"
    },
    "tags": []
   },
   "source": [
    "## Išplėstinė koreliacijų matrica. "
   ]
  },
  {
   "cell_type": "code",
   "execution_count": 7,
   "id": "atomic-omaha",
   "metadata": {
    "execution": {
     "iopub.execute_input": "2021-03-08T01:45:30.187125Z",
     "iopub.status.busy": "2021-03-08T01:45:30.186509Z",
     "iopub.status.idle": "2021-03-08T01:45:31.723444Z",
     "shell.execute_reply": "2021-03-08T01:45:31.723946Z"
    },
    "papermill": {
     "duration": 1.555144,
     "end_time": "2021-03-08T01:45:31.724126",
     "exception": false,
     "start_time": "2021-03-08T01:45:30.168982",
     "status": "completed"
    },
    "tags": []
   },
   "outputs": [
    {
     "data": {
      "image/png": "[encoded data removed]",
      "text/plain": [
       "<Figure size 1080x792 with 2 Axes>"
      ]
     },
     "metadata": {
      "needs_background": "light"
     },
     "output_type": "display_data"
    }
   ],
   "source": [
    "#hide_input\n",
    "plt.figure(figsize=(15, 11))\n",
    "sns.heatmap(df_all[sum_corr].corr(), annot=True, cmap=\"cubehelix\") \n",
    "sns.set(font_scale=1.25)\n",
    "plt.savefig('corr_matrix.png', format='eps')"
   ]
  },
  {
   "cell_type": "code",
   "execution_count": 8,
   "id": "arbitrary-sullivan",
   "metadata": {
    "execution": {
     "iopub.execute_input": "2021-03-08T01:45:31.765314Z",
     "iopub.status.busy": "2021-03-08T01:45:31.764283Z",
     "iopub.status.idle": "2021-03-08T01:45:31.800370Z",
     "shell.execute_reply": "2021-03-08T01:45:31.799735Z"
    },
    "papermill": {
     "duration": 0.059776,
     "end_time": "2021-03-08T01:45:31.800499",
     "exception": false,
     "start_time": "2021-03-08T01:45:31.740723",
     "status": "completed"
    },
    "tags": []
   },
   "outputs": [],
   "source": [
    "#hide\n",
    "#df_all_mrk = read_api()"
   ]
  },
  {
   "cell_type": "code",
   "execution_count": 9,
   "id": "delayed-adapter",
   "metadata": {
    "execution": {
     "iopub.execute_input": "2021-03-08T01:45:31.838772Z",
     "iopub.status.busy": "2021-03-08T01:45:31.836582Z",
     "iopub.status.idle": "2021-03-08T01:45:31.863433Z",
     "shell.execute_reply": "2021-03-08T01:45:31.862894Z"
    },
    "papermill": {
     "duration": 0.047703,
     "end_time": "2021-03-08T01:45:31.863610",
     "exception": false,
     "start_time": "2021-03-08T01:45:31.815907",
     "status": "completed"
    },
    "tags": []
   },
   "outputs": [],
   "source": [
    "#hide\n",
    "#Koreliacijų koeficientai"
   ]
  },
  {
   "cell_type": "code",
   "execution_count": 10,
   "id": "seeing-celebration",
   "metadata": {
    "execution": {
     "iopub.execute_input": "2021-03-08T01:45:31.903287Z",
     "iopub.status.busy": "2021-03-08T01:45:31.902007Z",
     "iopub.status.idle": "2021-03-08T01:45:31.926045Z",
     "shell.execute_reply": "2021-03-08T01:45:31.926544Z"
    },
    "papermill": {
     "duration": 0.047087,
     "end_time": "2021-03-08T01:45:31.926676",
     "exception": false,
     "start_time": "2021-03-08T01:45:31.879589",
     "status": "completed"
    },
    "tags": []
   },
   "outputs": [],
   "source": [
    "#hide_input\n",
    "#sum_corr = df_all_mrk.corr().sum().sort_values(ascending=True).index.values\n",
    "#df_all_mrk[sum_corr].corr()"
   ]
  },
  {
   "cell_type": "code",
   "execution_count": 11,
   "id": "other-painting",
   "metadata": {
    "execution": {
     "iopub.execute_input": "2021-03-08T01:45:31.959182Z",
     "iopub.status.busy": "2021-03-08T01:45:31.958640Z",
     "iopub.status.idle": "2021-03-08T01:45:31.981604Z",
     "shell.execute_reply": "2021-03-08T01:45:31.981133Z"
    },
    "papermill": {
     "duration": 0.040127,
     "end_time": "2021-03-08T01:45:31.981714",
     "exception": false,
     "start_time": "2021-03-08T01:45:31.941587",
     "status": "completed"
    },
    "tags": []
   },
   "outputs": [],
   "source": [
    "#hide\n",
    "#Koreliacijos matrica. "
   ]
  },
  {
   "cell_type": "code",
   "execution_count": 12,
   "id": "modular-magnitude",
   "metadata": {
    "execution": {
     "iopub.execute_input": "2021-03-08T01:45:32.014559Z",
     "iopub.status.busy": "2021-03-08T01:45:32.013969Z",
     "iopub.status.idle": "2021-03-08T01:45:32.038228Z",
     "shell.execute_reply": "2021-03-08T01:45:32.037763Z"
    },
    "papermill": {
     "duration": 0.041931,
     "end_time": "2021-03-08T01:45:32.038334",
     "exception": false,
     "start_time": "2021-03-08T01:45:31.996403",
     "status": "completed"
    },
    "tags": []
   },
   "outputs": [],
   "source": [
    "#hide_input\n",
    "#plt.figure(figsize=(15, 8))\n",
    "#sns.heatmap(df_all_mrk[sum_corr].corr(), annot=True, cmap=\"BrBG\");\n",
    "#plt.savefig('corr_matrix_all.eps', format='eps')"
   ]
  },
  {
   "cell_type": "code",
   "execution_count": null,
   "id": "original-senator",
   "metadata": {
    "papermill": {
     "duration": 0.014598,
     "end_time": "2021-03-08T01:45:32.067308",
     "exception": false,
     "start_time": "2021-03-08T01:45:32.052710",
     "status": "completed"
    },
    "tags": []
   },
   "outputs": [],
   "source": []
  },
  {
   "cell_type": "code",
   "execution_count": null,
   "id": "saving-secretariat",
   "metadata": {
    "papermill": {
     "duration": 0.018034,
     "end_time": "2021-03-08T01:45:32.100804",
     "exception": false,
     "start_time": "2021-03-08T01:45:32.082770",
     "status": "completed"
    },
    "tags": []
   },
   "outputs": [],
   "source": []
  }
 ],
 "metadata": {
  "kernelspec": {
   "display_name": "Python 3",
   "language": "python",
   "name": "python3"
  },
  "language_info": {
   "codemirror_mode": {
    "name": "ipython",
    "version": 3
   },
   "file_extension": ".py",
   "mimetype": "text/x-python",
   "name": "python",
   "nbconvert_exporter": "python",
   "pygments_lexer": "ipython3",
   "version": "3.6.13"
  },
  "papermill": {
   "default_parameters": {},
   "duration": 20.159023,
   "end_time": "2021-03-08T01:45:32.625077",
   "environment_variables": {},
   "exception": null,
   "input_path": "App-Correlation_charts.ipynb",
   "output_path": "App-Correlation_charts.ipynb",
   "parameters": {},
   "start_time": "2021-03-08T01:45:12.466054",
   "version": "2.2.2"
  }
 },
 "nbformat": 4,
 "nbformat_minor": 5
}