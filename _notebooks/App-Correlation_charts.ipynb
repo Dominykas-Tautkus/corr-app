{
 "cells": [
  {
   "cell_type": "markdown",
   "id": "touched-facility",
   "metadata": {
    "papermill": {
     "duration": 0.018822,
     "end_time": "2021-04-25T02:15:01.638186",
     "exception": false,
     "start_time": "2021-04-25T02:15:01.619364",
     "status": "completed"
    },
    "tags": []
   },
   "source": [
    "# Koreliacijų matrica\n",
    "> Išplėstinė koreliacijų matrica. \n",
    "\n",
    "- toc: true \n",
    "- badges: true\n",
    "- comments: false\n",
    "- categories: [Dominykas Tautkus]\n",
    "- image: images/matrix.png"
   ]
  },
  {
   "cell_type": "code",
   "execution_count": null,
   "id": "premium-weekend",
   "metadata": {
    "papermill": {
     "duration": 0.014094,
     "end_time": "2021-04-25T02:15:01.666268",
     "exception": false,
     "start_time": "2021-04-25T02:15:01.652174",
     "status": "completed"
    },
    "tags": []
   },
   "outputs": [],
   "source": []
  },
  {
   "cell_type": "code",
   "execution_count": 1,
   "id": "vertical-rebate",
   "metadata": {
    "execution": {
     "iopub.execute_input": "2021-04-25T02:15:01.705432Z",
     "iopub.status.busy": "2021-04-25T02:15:01.703344Z",
     "iopub.status.idle": "2021-04-25T02:15:01.715711Z",
     "shell.execute_reply": "2021-04-25T02:15:01.715121Z"
    },
    "papermill": {
     "duration": 0.03648,
     "end_time": "2021-04-25T02:15:01.715862",
     "exception": false,
     "start_time": "2021-04-25T02:15:01.679382",
     "status": "completed"
    },
    "tags": []
   },
   "outputs": [],
   "source": [
    "#hide\n",
    "%load_ext autoreload\n",
    "%autoreload 2"
   ]
  },
  {
   "cell_type": "code",
   "execution_count": 2,
   "id": "overall-advancement",
   "metadata": {
    "execution": {
     "iopub.execute_input": "2021-04-25T02:15:01.747681Z",
     "iopub.status.busy": "2021-04-25T02:15:01.747004Z",
     "iopub.status.idle": "2021-04-25T02:15:03.107646Z",
     "shell.execute_reply": "2021-04-25T02:15:03.107012Z"
    },
    "papermill": {
     "duration": 1.377505,
     "end_time": "2021-04-25T02:15:03.107797",
     "exception": false,
     "start_time": "2021-04-25T02:15:01.730292",
     "status": "completed"
    },
    "tags": []
   },
   "outputs": [],
   "source": [
    "#hide\n",
    "from scripts.read_data import read_api\n",
    "from IPython.display import HTML\n",
    "import plotly.graph_objects as go\n"
   ]
  },
  {
   "cell_type": "code",
   "execution_count": 3,
   "id": "light-crazy",
   "metadata": {
    "execution": {
     "iopub.execute_input": "2021-04-25T02:15:03.155704Z",
     "iopub.status.busy": "2021-04-25T02:15:03.148690Z",
     "iopub.status.idle": "2021-04-25T02:15:03.172708Z",
     "shell.execute_reply": "2021-04-25T02:15:03.173243Z"
    },
    "papermill": {
     "duration": 0.051411,
     "end_time": "2021-04-25T02:15:03.173403",
     "exception": false,
     "start_time": "2021-04-25T02:15:03.121992",
     "status": "completed"
    },
    "tags": []
   },
   "outputs": [],
   "source": [
    "#hide\n",
    "### ICO koreliacija"
   ]
  },
  {
   "cell_type": "code",
   "execution_count": 4,
   "id": "likely-bahrain",
   "metadata": {
    "execution": {
     "iopub.execute_input": "2021-04-25T02:15:03.204368Z",
     "iopub.status.busy": "2021-04-25T02:15:03.203694Z",
     "iopub.status.idle": "2021-04-25T02:15:04.123411Z",
     "shell.execute_reply": "2021-04-25T02:15:04.122751Z"
    },
    "papermill": {
     "duration": 0.936522,
     "end_time": "2021-04-25T02:15:04.123562",
     "exception": false,
     "start_time": "2021-04-25T02:15:03.187040",
     "status": "completed"
    },
    "tags": []
   },
   "outputs": [],
   "source": [
    "#hide\n",
    "import matplotlib.pyplot as plt\n",
    "import numpy as np\n",
    "import pandas as pd\n",
    "import seaborn as sns\n",
    "import matplotlib.pyplot as plt \n",
    "import matplotlib.dates as mdates\n",
    "import matplotlib.pyplot as plt"
   ]
  },
  {
   "cell_type": "code",
   "execution_count": 5,
   "id": "superior-blanket",
   "metadata": {
    "execution": {
     "iopub.execute_input": "2021-04-25T02:15:04.169198Z",
     "iopub.status.busy": "2021-04-25T02:15:04.168375Z",
     "iopub.status.idle": "2021-04-25T02:15:19.392194Z",
     "shell.execute_reply": "2021-04-25T02:15:19.391604Z"
    },
    "papermill": {
     "duration": 15.247142,
     "end_time": "2021-04-25T02:15:19.392335",
     "exception": false,
     "start_time": "2021-04-25T02:15:04.145193",
     "status": "completed"
    },
    "tags": []
   },
   "outputs": [
    {
     "name": "stderr",
     "output_type": "stream",
     "text": [
      "/home/runner/work/corr-app/corr-app/_notebooks/scripts/read_data.py:187: SettingWithCopyWarning:\n",
      "\n",
      "\n",
      "A value is trying to be set on a copy of a slice from a DataFrame.\n",
      "Try using .loc[row_indexer,col_indexer] = value instead\n",
      "\n",
      "See the caveats in the documentation: https://pandas.pydata.org/pandas-docs/stable/user_guide/indexing.html#returning-a-view-versus-a-copy\n",
      "\n"
     ]
    },
    {
     "name": "stderr",
     "output_type": "stream",
     "text": [
      "/home/runner/work/corr-app/corr-app/_notebooks/scripts/read_data.py:215: SettingWithCopyWarning:\n",
      "\n",
      "\n",
      "A value is trying to be set on a copy of a slice from a DataFrame.\n",
      "Try using .loc[row_indexer,col_indexer] = value instead\n",
      "\n",
      "See the caveats in the documentation: https://pandas.pydata.org/pandas-docs/stable/user_guide/indexing.html#returning-a-view-versus-a-copy\n",
      "\n"
     ]
    }
   ],
   "source": [
    "#hide\n",
    "df_all = read_api()\n",
    "#df_all = df_all.drop(['SP500', 'XAU', 'ETH', 'BTC'], axis=1)\n",
    "\n"
   ]
  },
  {
   "cell_type": "code",
   "execution_count": 6,
   "id": "mature-alert",
   "metadata": {
    "execution": {
     "iopub.execute_input": "2021-04-25T02:15:19.425468Z",
     "iopub.status.busy": "2021-04-25T02:15:19.424783Z",
     "iopub.status.idle": "2021-04-25T02:15:19.456374Z",
     "shell.execute_reply": "2021-04-25T02:15:19.456864Z"
    },
    "papermill": {
     "duration": 0.050334,
     "end_time": "2021-04-25T02:15:19.456997",
     "exception": false,
     "start_time": "2021-04-25T02:15:19.406663",
     "status": "completed"
    },
    "tags": []
   },
   "outputs": [],
   "source": [
    "#hide_input\n",
    "sum_corr = df_all.corr().sum().sort_values(ascending=True).index.values\n",
    "#df_all[sum_corr].corr()"
   ]
  },
  {
   "cell_type": "markdown",
   "id": "complex-syndicate",
   "metadata": {
    "papermill": {
     "duration": 0.014061,
     "end_time": "2021-04-25T02:15:19.485692",
     "exception": false,
     "start_time": "2021-04-25T02:15:19.471631",
     "status": "completed"
    },
    "tags": []
   },
   "source": [
    "## Išplėstinė koreliacijų matrica. "
   ]
  },
  {
   "cell_type": "code",
   "execution_count": 7,
   "id": "atomic-omaha",
   "metadata": {
    "execution": {
     "iopub.execute_input": "2021-04-25T02:15:19.528469Z",
     "iopub.status.busy": "2021-04-25T02:15:19.524029Z",
     "iopub.status.idle": "2021-04-25T02:15:21.001175Z",
     "shell.execute_reply": "2021-04-25T02:15:21.000604Z"
    },
    "papermill": {
     "duration": 1.501246,
     "end_time": "2021-04-25T02:15:21.001334",
     "exception": false,
     "start_time": "2021-04-25T02:15:19.500088",
     "status": "completed"
    },
    "tags": []
   },
   "outputs": [
    {
     "data": {
      "image/png": "[encoded data removed]",
      "text/plain": [
       "<Figure size 1080x792 with 2 Axes>"
      ]
     },
     "metadata": {
      "needs_background": "light"
     },
     "output_type": "display_data"
    }
   ],
   "source": [
    "#hide_input\n",
    "plt.figure(figsize=(15, 11))\n",
    "sns.heatmap(df_all[sum_corr].corr(), annot=True, cmap=\"cubehelix\") \n",
    "sns.set(font_scale=1.25)\n",
    "plt.savefig('corr_matrix.png', format='eps')"
   ]
  },
  {
   "cell_type": "code",
   "execution_count": 8,
   "id": "arbitrary-sullivan",
   "metadata": {
    "execution": {
     "iopub.execute_input": "2021-04-25T02:15:21.050381Z",
     "iopub.status.busy": "2021-04-25T02:15:21.043647Z",
     "iopub.status.idle": "2021-04-25T02:15:21.073993Z",
     "shell.execute_reply": "2021-04-25T02:15:21.074534Z"
    },
    "papermill": {
     "duration": 0.056644,
     "end_time": "2021-04-25T02:15:21.074707",
     "exception": false,
     "start_time": "2021-04-25T02:15:21.018063",
     "status": "completed"
    },
    "tags": []
   },
   "outputs": [],
   "source": [
    "#hide\n",
    "#df_all_mrk = read_api()"
   ]
  },
  {
   "cell_type": "code",
   "execution_count": 9,
   "id": "delayed-adapter",
   "metadata": {
    "execution": {
     "iopub.execute_input": "2021-04-25T02:15:21.115800Z",
     "iopub.status.busy": "2021-04-25T02:15:21.114673Z",
     "iopub.status.idle": "2021-04-25T02:15:21.143642Z",
     "shell.execute_reply": "2021-04-25T02:15:21.143067Z"
    },
    "papermill": {
     "duration": 0.052171,
     "end_time": "2021-04-25T02:15:21.143782",
     "exception": false,
     "start_time": "2021-04-25T02:15:21.091611",
     "status": "completed"
    },
    "tags": []
   },
   "outputs": [],
   "source": [
    "#hide\n",
    "#Koreliacijų koeficientai"
   ]
  },
  {
   "cell_type": "code",
   "execution_count": 10,
   "id": "seeing-celebration",
   "metadata": {
    "execution": {
     "iopub.execute_input": "2021-04-25T02:15:21.188337Z",
     "iopub.status.busy": "2021-04-25T02:15:21.187664Z",
     "iopub.status.idle": "2021-04-25T02:15:21.211209Z",
     "shell.execute_reply": "2021-04-25T02:15:21.210605Z"
    },
    "papermill": {
     "duration": 0.050607,
     "end_time": "2021-04-25T02:15:21.211338",
     "exception": false,
     "start_time": "2021-04-25T02:15:21.160731",
     "status": "completed"
    },
    "tags": []
   },
   "outputs": [],
   "source": [
    "#hide_input\n",
    "#sum_corr = df_all_mrk.corr().sum().sort_values(ascending=True).index.values\n",
    "#df_all_mrk[sum_corr].corr()"
   ]
  },
  {
   "cell_type": "code",
   "execution_count": 11,
   "id": "other-painting",
   "metadata": {
    "execution": {
     "iopub.execute_input": "2021-04-25T02:15:21.250560Z",
     "iopub.status.busy": "2021-04-25T02:15:21.249913Z",
     "iopub.status.idle": "2021-04-25T02:15:21.276926Z",
     "shell.execute_reply": "2021-04-25T02:15:21.276097Z"
    },
    "papermill": {
     "duration": 0.049461,
     "end_time": "2021-04-25T02:15:21.277064",
     "exception": false,
     "start_time": "2021-04-25T02:15:21.227603",
     "status": "completed"
    },
    "tags": []
   },
   "outputs": [],
   "source": [
    "#hide\n",
    "#Koreliacijos matrica. "
   ]
  },
  {
   "cell_type": "code",
   "execution_count": 12,
   "id": "modular-magnitude",
   "metadata": {
    "execution": {
     "iopub.execute_input": "2021-04-25T02:15:21.320290Z",
     "iopub.status.busy": "2021-04-25T02:15:21.318130Z",
     "iopub.status.idle": "2021-04-25T02:15:21.343722Z",
     "shell.execute_reply": "2021-04-25T02:15:21.344280Z"
    },
    "papermill": {
     "duration": 0.050969,
     "end_time": "2021-04-25T02:15:21.344438",
     "exception": false,
     "start_time": "2021-04-25T02:15:21.293469",
     "status": "completed"
    },
    "tags": []
   },
   "outputs": [],
   "source": [
    "#hide_input\n",
    "#plt.figure(figsize=(15, 8))\n",
    "#sns.heatmap(df_all_mrk[sum_corr].corr(), annot=True, cmap=\"BrBG\");\n",
    "#plt.savefig('corr_matrix_all.eps', format='eps')"
   ]
  },
  {
   "cell_type": "code",
   "execution_count": null,
   "id": "original-senator",
   "metadata": {
    "papermill": {
     "duration": 0.016819,
     "end_time": "2021-04-25T02:15:21.378818",
     "exception": false,
     "start_time": "2021-04-25T02:15:21.361999",
     "status": "completed"
    },
    "tags": []
   },
   "outputs": [],
   "source": []
  },
  {
   "cell_type": "code",
   "execution_count": null,
   "id": "saving-secretariat",
   "metadata": {
    "papermill": {
     "duration": 0.016694,
     "end_time": "2021-04-25T02:15:21.412272",
     "exception": false,
     "start_time": "2021-04-25T02:15:21.395578",
     "status": "completed"
    },
    "tags": []
   },
   "outputs": [],
   "source": []
  }
 ],
 "metadata": {
  "kernelspec": {
   "display_name": "Python 3",
   "language": "python",
   "name": "python3"
  },
  "language_info": {
   "codemirror_mode": {
    "name": "ipython",
    "version": 3
   },
   "file_extension": ".py",
   "mimetype": "text/x-python",
   "name": "python",
   "nbconvert_exporter": "python",
   "pygments_lexer": "ipython3",
   "version": "3.6.13"
  },
  "papermill": {
   "default_parameters": {},
   "duration": 22.329668,
   "end_time": "2021-04-25T02:15:22.667373",
   "environment_variables": {},
   "exception": null,
   "input_path": "App-Correlation_charts.ipynb",
   "output_path": "App-Correlation_charts.ipynb",
   "parameters": {},
   "start_time": "2021-04-25T02:15:00.337705",
   "version": "2.2.2"
  }
 },
 "nbformat": 4,
 "nbformat_minor": 5
}