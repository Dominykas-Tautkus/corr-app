{
 "cells": [
  {
   "cell_type": "markdown",
   "id": "touched-facility",
   "metadata": {
    "papermill": {
     "duration": 0.015892,
     "end_time": "2021-02-17T01:37:08.891319",
     "exception": false,
     "start_time": "2021-02-17T01:37:08.875427",
     "status": "completed"
    },
    "tags": []
   },
   "source": [
    "# Koreliacijų matrica\n",
    "> Išplėstinė koreliacijų matrica. \n",
    "\n",
    "- toc: true \n",
    "- badges: true\n",
    "- comments: false\n",
    "- categories: [Dominykas Tautkus]\n",
    "- image: images/matrix.png"
   ]
  },
  {
   "cell_type": "code",
   "execution_count": null,
   "id": "premium-weekend",
   "metadata": {
    "papermill": {
     "duration": 0.013016,
     "end_time": "2021-02-17T01:37:08.918068",
     "exception": false,
     "start_time": "2021-02-17T01:37:08.905052",
     "status": "completed"
    },
    "tags": []
   },
   "outputs": [],
   "source": []
  },
  {
   "cell_type": "code",
   "execution_count": 1,
   "id": "vertical-rebate",
   "metadata": {
    "execution": {
     "iopub.execute_input": "2021-02-17T01:37:08.953164Z",
     "iopub.status.busy": "2021-02-17T01:37:08.952583Z",
     "iopub.status.idle": "2021-02-17T01:37:08.962870Z",
     "shell.execute_reply": "2021-02-17T01:37:08.962367Z"
    },
    "papermill": {
     "duration": 0.032817,
     "end_time": "2021-02-17T01:37:08.963017",
     "exception": false,
     "start_time": "2021-02-17T01:37:08.930200",
     "status": "completed"
    },
    "tags": []
   },
   "outputs": [],
   "source": [
    "#hide\n",
    "%load_ext autoreload\n",
    "%autoreload 2"
   ]
  },
  {
   "cell_type": "code",
   "execution_count": 2,
   "id": "overall-advancement",
   "metadata": {
    "execution": {
     "iopub.execute_input": "2021-02-17T01:37:08.987991Z",
     "iopub.status.busy": "2021-02-17T01:37:08.987443Z",
     "iopub.status.idle": "2021-02-17T01:37:10.169803Z",
     "shell.execute_reply": "2021-02-17T01:37:10.169137Z"
    },
    "papermill": {
     "duration": 1.195935,
     "end_time": "2021-02-17T01:37:10.169960",
     "exception": false,
     "start_time": "2021-02-17T01:37:08.974025",
     "status": "completed"
    },
    "tags": []
   },
   "outputs": [],
   "source": [
    "#hide\n",
    "from scripts.read_data import read_api\n",
    "from IPython.display import HTML\n",
    "import plotly.graph_objects as go\n"
   ]
  },
  {
   "cell_type": "code",
   "execution_count": 3,
   "id": "light-crazy",
   "metadata": {
    "execution": {
     "iopub.execute_input": "2021-02-17T01:37:10.204307Z",
     "iopub.status.busy": "2021-02-17T01:37:10.203583Z",
     "iopub.status.idle": "2021-02-17T01:37:10.232624Z",
     "shell.execute_reply": "2021-02-17T01:37:10.231935Z"
    },
    "papermill": {
     "duration": 0.048918,
     "end_time": "2021-02-17T01:37:10.232801",
     "exception": false,
     "start_time": "2021-02-17T01:37:10.183883",
     "status": "completed"
    },
    "tags": []
   },
   "outputs": [],
   "source": [
    "#hide\n",
    "### ICO koreliacija"
   ]
  },
  {
   "cell_type": "code",
   "execution_count": 4,
   "id": "likely-bahrain",
   "metadata": {
    "execution": {
     "iopub.execute_input": "2021-02-17T01:37:10.268134Z",
     "iopub.status.busy": "2021-02-17T01:37:10.267486Z",
     "iopub.status.idle": "2021-02-17T01:37:11.323186Z",
     "shell.execute_reply": "2021-02-17T01:37:11.322103Z"
    },
    "papermill": {
     "duration": 1.07527,
     "end_time": "2021-02-17T01:37:11.323389",
     "exception": false,
     "start_time": "2021-02-17T01:37:10.248119",
     "status": "completed"
    },
    "tags": []
   },
   "outputs": [],
   "source": [
    "#hide\n",
    "import matplotlib.pyplot as plt\n",
    "import numpy as np\n",
    "import pandas as pd\n",
    "import seaborn as sns\n",
    "import matplotlib.pyplot as plt \n",
    "import matplotlib.dates as mdates\n",
    "import matplotlib.pyplot as plt"
   ]
  },
  {
   "cell_type": "code",
   "execution_count": 5,
   "id": "superior-blanket",
   "metadata": {
    "execution": {
     "iopub.execute_input": "2021-02-17T01:37:11.354466Z",
     "iopub.status.busy": "2021-02-17T01:37:11.353852Z",
     "iopub.status.idle": "2021-02-17T01:37:24.139056Z",
     "shell.execute_reply": "2021-02-17T01:37:24.138459Z"
    },
    "papermill": {
     "duration": 12.801901,
     "end_time": "2021-02-17T01:37:24.139248",
     "exception": false,
     "start_time": "2021-02-17T01:37:11.337347",
     "status": "completed"
    },
    "tags": []
   },
   "outputs": [
    {
     "name": "stderr",
     "output_type": "stream",
     "text": [
      "/home/runner/work/corr-app/corr-app/_notebooks/scripts/read_data.py:187: SettingWithCopyWarning:\n",
      "\n",
      "\n",
      "A value is trying to be set on a copy of a slice from a DataFrame.\n",
      "Try using .loc[row_indexer,col_indexer] = value instead\n",
      "\n",
      "See the caveats in the documentation: https://pandas.pydata.org/pandas-docs/stable/user_guide/indexing.html#returning-a-view-versus-a-copy\n",
      "\n"
     ]
    },
    {
     "name": "stderr",
     "output_type": "stream",
     "text": [
      "/home/runner/work/corr-app/corr-app/_notebooks/scripts/read_data.py:215: SettingWithCopyWarning:\n",
      "\n",
      "\n",
      "A value is trying to be set on a copy of a slice from a DataFrame.\n",
      "Try using .loc[row_indexer,col_indexer] = value instead\n",
      "\n",
      "See the caveats in the documentation: https://pandas.pydata.org/pandas-docs/stable/user_guide/indexing.html#returning-a-view-versus-a-copy\n",
      "\n"
     ]
    }
   ],
   "source": [
    "#hide\n",
    "df_all = read_api()\n",
    "#df_all = df_all.drop(['SP500', 'XAU', 'ETH', 'BTC'], axis=1)\n",
    "\n"
   ]
  },
  {
   "cell_type": "code",
   "execution_count": 6,
   "id": "mature-alert",
   "metadata": {
    "execution": {
     "iopub.execute_input": "2021-02-17T01:37:24.177326Z",
     "iopub.status.busy": "2021-02-17T01:37:24.176656Z",
     "iopub.status.idle": "2021-02-17T01:37:24.213781Z",
     "shell.execute_reply": "2021-02-17T01:37:24.213146Z"
    },
    "papermill": {
     "duration": 0.058394,
     "end_time": "2021-02-17T01:37:24.213947",
     "exception": false,
     "start_time": "2021-02-17T01:37:24.155553",
     "status": "completed"
    },
    "tags": []
   },
   "outputs": [],
   "source": [
    "#hide_input\n",
    "sum_corr = df_all.corr().sum().sort_values(ascending=True).index.values\n",
    "#df_all[sum_corr].corr()"
   ]
  },
  {
   "cell_type": "markdown",
   "id": "complex-syndicate",
   "metadata": {
    "papermill": {
     "duration": 0.015314,
     "end_time": "2021-02-17T01:37:24.244199",
     "exception": false,
     "start_time": "2021-02-17T01:37:24.228885",
     "status": "completed"
    },
    "tags": []
   },
   "source": [
    "## Išplėstinė koreliacijų matrica. "
   ]
  },
  {
   "cell_type": "code",
   "execution_count": 7,
   "id": "atomic-omaha",
   "metadata": {
    "execution": {
     "iopub.execute_input": "2021-02-17T01:37:24.284495Z",
     "iopub.status.busy": "2021-02-17T01:37:24.283843Z",
     "iopub.status.idle": "2021-02-17T01:37:25.789939Z",
     "shell.execute_reply": "2021-02-17T01:37:25.789452Z"
    },
    "papermill": {
     "duration": 1.526603,
     "end_time": "2021-02-17T01:37:25.790064",
     "exception": false,
     "start_time": "2021-02-17T01:37:24.263461",
     "status": "completed"
    },
    "tags": []
   },
   "outputs": [
    {
     "data": {
      "image/png": "[encoded data removed]",
      "text/plain": [
       "<Figure size 1080x792 with 2 Axes>"
      ]
     },
     "metadata": {
      "needs_background": "light"
     },
     "output_type": "display_data"
    }
   ],
   "source": [
    "#hide_input\n",
    "plt.figure(figsize=(15, 11))\n",
    "sns.heatmap(df_all[sum_corr].corr(), annot=True, cmap=\"cubehelix\") \n",
    "sns.set(font_scale=1.25)\n",
    "plt.savefig('corr_matrix.png', format='eps')"
   ]
  },
  {
   "cell_type": "code",
   "execution_count": 8,
   "id": "arbitrary-sullivan",
   "metadata": {
    "execution": {
     "iopub.execute_input": "2021-02-17T01:37:25.822440Z",
     "iopub.status.busy": "2021-02-17T01:37:25.821822Z",
     "iopub.status.idle": "2021-02-17T01:37:25.848225Z",
     "shell.execute_reply": "2021-02-17T01:37:25.847505Z"
    },
    "papermill": {
     "duration": 0.044531,
     "end_time": "2021-02-17T01:37:25.848369",
     "exception": false,
     "start_time": "2021-02-17T01:37:25.803838",
     "status": "completed"
    },
    "tags": []
   },
   "outputs": [],
   "source": [
    "#hide\n",
    "#df_all_mrk = read_api()"
   ]
  },
  {
   "cell_type": "code",
   "execution_count": 9,
   "id": "delayed-adapter",
   "metadata": {
    "execution": {
     "iopub.execute_input": "2021-02-17T01:37:25.881007Z",
     "iopub.status.busy": "2021-02-17T01:37:25.880306Z",
     "iopub.status.idle": "2021-02-17T01:37:25.906012Z",
     "shell.execute_reply": "2021-02-17T01:37:25.906447Z"
    },
    "papermill": {
     "duration": 0.044494,
     "end_time": "2021-02-17T01:37:25.906590",
     "exception": false,
     "start_time": "2021-02-17T01:37:25.862096",
     "status": "completed"
    },
    "tags": []
   },
   "outputs": [],
   "source": [
    "#hide\n",
    "#Koreliacijų koeficientai"
   ]
  },
  {
   "cell_type": "code",
   "execution_count": 10,
   "id": "seeing-celebration",
   "metadata": {
    "execution": {
     "iopub.execute_input": "2021-02-17T01:37:25.944400Z",
     "iopub.status.busy": "2021-02-17T01:37:25.943674Z",
     "iopub.status.idle": "2021-02-17T01:37:25.965657Z",
     "shell.execute_reply": "2021-02-17T01:37:25.966107Z"
    },
    "papermill": {
     "duration": 0.046152,
     "end_time": "2021-02-17T01:37:25.966244",
     "exception": false,
     "start_time": "2021-02-17T01:37:25.920092",
     "status": "completed"
    },
    "tags": []
   },
   "outputs": [],
   "source": [
    "#hide_input\n",
    "#sum_corr = df_all_mrk.corr().sum().sort_values(ascending=True).index.values\n",
    "#df_all_mrk[sum_corr].corr()"
   ]
  },
  {
   "cell_type": "code",
   "execution_count": 11,
   "id": "other-painting",
   "metadata": {
    "execution": {
     "iopub.execute_input": "2021-02-17T01:37:25.996372Z",
     "iopub.status.busy": "2021-02-17T01:37:25.995782Z",
     "iopub.status.idle": "2021-02-17T01:37:26.020850Z",
     "shell.execute_reply": "2021-02-17T01:37:26.021294Z"
    },
    "papermill": {
     "duration": 0.041675,
     "end_time": "2021-02-17T01:37:26.021435",
     "exception": false,
     "start_time": "2021-02-17T01:37:25.979760",
     "status": "completed"
    },
    "tags": []
   },
   "outputs": [],
   "source": [
    "#hide\n",
    "#Koreliacijos matrica. "
   ]
  },
  {
   "cell_type": "code",
   "execution_count": 12,
   "id": "modular-magnitude",
   "metadata": {
    "execution": {
     "iopub.execute_input": "2021-02-17T01:37:26.055805Z",
     "iopub.status.busy": "2021-02-17T01:37:26.052729Z",
     "iopub.status.idle": "2021-02-17T01:37:26.086498Z",
     "shell.execute_reply": "2021-02-17T01:37:26.085980Z"
    },
    "papermill": {
     "duration": 0.052177,
     "end_time": "2021-02-17T01:37:26.086622",
     "exception": false,
     "start_time": "2021-02-17T01:37:26.034445",
     "status": "completed"
    },
    "tags": []
   },
   "outputs": [],
   "source": [
    "#hide_input\n",
    "#plt.figure(figsize=(15, 8))\n",
    "#sns.heatmap(df_all_mrk[sum_corr].corr(), annot=True, cmap=\"BrBG\");\n",
    "#plt.savefig('corr_matrix_all.eps', format='eps')"
   ]
  },
  {
   "cell_type": "code",
   "execution_count": null,
   "id": "original-senator",
   "metadata": {
    "papermill": {
     "duration": 0.013341,
     "end_time": "2021-02-17T01:37:26.113846",
     "exception": false,
     "start_time": "2021-02-17T01:37:26.100505",
     "status": "completed"
    },
    "tags": []
   },
   "outputs": [],
   "source": []
  },
  {
   "cell_type": "code",
   "execution_count": null,
   "id": "saving-secretariat",
   "metadata": {
    "papermill": {
     "duration": 0.016719,
     "end_time": "2021-02-17T01:37:26.144273",
     "exception": false,
     "start_time": "2021-02-17T01:37:26.127554",
     "status": "completed"
    },
    "tags": []
   },
   "outputs": [],
   "source": []
  }
 ],
 "metadata": {
  "kernelspec": {
   "display_name": "Python 3",
   "language": "python",
   "name": "python3"
  },
  "language_info": {
   "codemirror_mode": {
    "name": "ipython",
    "version": 3
   },
   "file_extension": ".py",
   "mimetype": "text/x-python",
   "name": "python",
   "nbconvert_exporter": "python",
   "pygments_lexer": "ipython3",
   "version": "3.6.12"
  },
  "papermill": {
   "default_parameters": {},
   "duration": 19.142347,
   "end_time": "2021-02-17T01:37:26.958562",
   "environment_variables": {},
   "exception": null,
   "input_path": "App-Correlation_charts.ipynb",
   "output_path": "App-Correlation_charts.ipynb",
   "parameters": {},
   "start_time": "2021-02-17T01:37:07.816215",
   "version": "2.2.2"
  }
 },
 "nbformat": 4,
 "nbformat_minor": 5
}