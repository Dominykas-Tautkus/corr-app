{
 "cells": [
  {
   "cell_type": "markdown",
   "id": "touched-facility",
   "metadata": {
    "papermill": {
     "duration": 0.141618,
     "end_time": "2021-03-23T01:49:16.903196",
     "exception": false,
     "start_time": "2021-03-23T01:49:16.761578",
     "status": "completed"
    },
    "tags": []
   },
   "source": [
    "# Koreliacijų matrica\n",
    "> Išplėstinė koreliacijų matrica. \n",
    "\n",
    "- toc: true \n",
    "- badges: true\n",
    "- comments: false\n",
    "- categories: [Dominykas Tautkus]\n",
    "- image: images/matrix.png"
   ]
  },
  {
   "cell_type": "code",
   "execution_count": null,
   "id": "premium-weekend",
   "metadata": {
    "papermill": {
     "duration": 0.016272,
     "end_time": "2021-03-23T01:49:17.012986",
     "exception": false,
     "start_time": "2021-03-23T01:49:16.996714",
     "status": "completed"
    },
    "tags": []
   },
   "outputs": [],
   "source": []
  },
  {
   "cell_type": "code",
   "execution_count": 1,
   "id": "vertical-rebate",
   "metadata": {
    "execution": {
     "iopub.execute_input": "2021-03-23T01:49:17.414323Z",
     "iopub.status.busy": "2021-03-23T01:49:17.413643Z",
     "iopub.status.idle": "2021-03-23T01:49:17.425904Z",
     "shell.execute_reply": "2021-03-23T01:49:17.426503Z"
    },
    "papermill": {
     "duration": 0.220464,
     "end_time": "2021-03-23T01:49:17.426709",
     "exception": false,
     "start_time": "2021-03-23T01:49:17.206245",
     "status": "completed"
    },
    "tags": []
   },
   "outputs": [],
   "source": [
    "#hide\n",
    "%load_ext autoreload\n",
    "%autoreload 2"
   ]
  },
  {
   "cell_type": "code",
   "execution_count": 2,
   "id": "overall-advancement",
   "metadata": {
    "execution": {
     "iopub.execute_input": "2021-03-23T01:49:18.558308Z",
     "iopub.status.busy": "2021-03-23T01:49:18.557602Z",
     "iopub.status.idle": "2021-03-23T01:49:20.976995Z",
     "shell.execute_reply": "2021-03-23T01:49:20.976366Z"
    },
    "papermill": {
     "duration": 3.075242,
     "end_time": "2021-03-23T01:49:20.977148",
     "exception": false,
     "start_time": "2021-03-23T01:49:17.901906",
     "status": "completed"
    },
    "tags": []
   },
   "outputs": [],
   "source": [
    "#hide\n",
    "from scripts.read_data import read_api\n",
    "from IPython.display import HTML\n",
    "import plotly.graph_objects as go\n"
   ]
  },
  {
   "cell_type": "code",
   "execution_count": 3,
   "id": "light-crazy",
   "metadata": {
    "execution": {
     "iopub.execute_input": "2021-03-23T01:49:21.014212Z",
     "iopub.status.busy": "2021-03-23T01:49:21.013427Z",
     "iopub.status.idle": "2021-03-23T01:49:21.037243Z",
     "shell.execute_reply": "2021-03-23T01:49:21.036615Z"
    },
    "papermill": {
     "duration": 0.045543,
     "end_time": "2021-03-23T01:49:21.037394",
     "exception": false,
     "start_time": "2021-03-23T01:49:20.991851",
     "status": "completed"
    },
    "tags": []
   },
   "outputs": [],
   "source": [
    "#hide\n",
    "### ICO koreliacija"
   ]
  },
  {
   "cell_type": "code",
   "execution_count": 4,
   "id": "likely-bahrain",
   "metadata": {
    "execution": {
     "iopub.execute_input": "2021-03-23T01:49:21.073478Z",
     "iopub.status.busy": "2021-03-23T01:49:21.072233Z",
     "iopub.status.idle": "2021-03-23T01:49:22.188314Z",
     "shell.execute_reply": "2021-03-23T01:49:22.187683Z"
    },
    "papermill": {
     "duration": 1.136771,
     "end_time": "2021-03-23T01:49:22.188464",
     "exception": false,
     "start_time": "2021-03-23T01:49:21.051693",
     "status": "completed"
    },
    "tags": []
   },
   "outputs": [],
   "source": [
    "#hide\n",
    "import matplotlib.pyplot as plt\n",
    "import numpy as np\n",
    "import pandas as pd\n",
    "import seaborn as sns\n",
    "import matplotlib.pyplot as plt \n",
    "import matplotlib.dates as mdates\n",
    "import matplotlib.pyplot as plt"
   ]
  },
  {
   "cell_type": "code",
   "execution_count": 5,
   "id": "superior-blanket",
   "metadata": {
    "execution": {
     "iopub.execute_input": "2021-03-23T01:49:22.225748Z",
     "iopub.status.busy": "2021-03-23T01:49:22.224996Z",
     "iopub.status.idle": "2021-03-23T01:49:34.310746Z",
     "shell.execute_reply": "2021-03-23T01:49:34.309811Z"
    },
    "papermill": {
     "duration": 12.105239,
     "end_time": "2021-03-23T01:49:34.310877",
     "exception": false,
     "start_time": "2021-03-23T01:49:22.205638",
     "status": "completed"
    },
    "tags": []
   },
   "outputs": [
    {
     "name": "stderr",
     "output_type": "stream",
     "text": [
      "/home/runner/work/corr-app/corr-app/_notebooks/scripts/read_data.py:187: SettingWithCopyWarning:\n",
      "\n",
      "\n",
      "A value is trying to be set on a copy of a slice from a DataFrame.\n",
      "Try using .loc[row_indexer,col_indexer] = value instead\n",
      "\n",
      "See the caveats in the documentation: https://pandas.pydata.org/pandas-docs/stable/user_guide/indexing.html#returning-a-view-versus-a-copy\n",
      "\n"
     ]
    },
    {
     "name": "stderr",
     "output_type": "stream",
     "text": [
      "/home/runner/work/corr-app/corr-app/_notebooks/scripts/read_data.py:215: SettingWithCopyWarning:\n",
      "\n",
      "\n",
      "A value is trying to be set on a copy of a slice from a DataFrame.\n",
      "Try using .loc[row_indexer,col_indexer] = value instead\n",
      "\n",
      "See the caveats in the documentation: https://pandas.pydata.org/pandas-docs/stable/user_guide/indexing.html#returning-a-view-versus-a-copy\n",
      "\n"
     ]
    }
   ],
   "source": [
    "#hide\n",
    "df_all = read_api()\n",
    "#df_all = df_all.drop(['SP500', 'XAU', 'ETH', 'BTC'], axis=1)\n",
    "\n"
   ]
  },
  {
   "cell_type": "code",
   "execution_count": 6,
   "id": "mature-alert",
   "metadata": {
    "execution": {
     "iopub.execute_input": "2021-03-23T01:49:34.353384Z",
     "iopub.status.busy": "2021-03-23T01:49:34.345586Z",
     "iopub.status.idle": "2021-03-23T01:49:34.375154Z",
     "shell.execute_reply": "2021-03-23T01:49:34.374642Z"
    },
    "papermill": {
     "duration": 0.049914,
     "end_time": "2021-03-23T01:49:34.375290",
     "exception": false,
     "start_time": "2021-03-23T01:49:34.325376",
     "status": "completed"
    },
    "tags": []
   },
   "outputs": [],
   "source": [
    "#hide_input\n",
    "sum_corr = df_all.corr().sum().sort_values(ascending=True).index.values\n",
    "#df_all[sum_corr].corr()"
   ]
  },
  {
   "cell_type": "markdown",
   "id": "complex-syndicate",
   "metadata": {
    "papermill": {
     "duration": 0.014161,
     "end_time": "2021-03-23T01:49:34.403648",
     "exception": false,
     "start_time": "2021-03-23T01:49:34.389487",
     "status": "completed"
    },
    "tags": []
   },
   "source": [
    "## Išplėstinė koreliacijų matrica. "
   ]
  },
  {
   "cell_type": "code",
   "execution_count": 7,
   "id": "atomic-omaha",
   "metadata": {
    "execution": {
     "iopub.execute_input": "2021-03-23T01:49:34.445804Z",
     "iopub.status.busy": "2021-03-23T01:49:34.445104Z",
     "iopub.status.idle": "2021-03-23T01:49:36.017916Z",
     "shell.execute_reply": "2021-03-23T01:49:36.018562Z"
    },
    "papermill": {
     "duration": 1.602218,
     "end_time": "2021-03-23T01:49:36.018736",
     "exception": false,
     "start_time": "2021-03-23T01:49:34.416518",
     "status": "completed"
    },
    "tags": []
   },
   "outputs": [
    {
     "data": {
      "image/png": "[encoded data removed]",
      "text/plain": [
       "<Figure size 1080x792 with 2 Axes>"
      ]
     },
     "metadata": {
      "needs_background": "light"
     },
     "output_type": "display_data"
    }
   ],
   "source": [
    "#hide_input\n",
    "plt.figure(figsize=(15, 11))\n",
    "sns.heatmap(df_all[sum_corr].corr(), annot=True, cmap=\"cubehelix\") \n",
    "sns.set(font_scale=1.25)\n",
    "plt.savefig('corr_matrix.png', format='eps')"
   ]
  },
  {
   "cell_type": "code",
   "execution_count": 8,
   "id": "arbitrary-sullivan",
   "metadata": {
    "execution": {
     "iopub.execute_input": "2021-03-23T01:49:36.057782Z",
     "iopub.status.busy": "2021-03-23T01:49:36.056813Z",
     "iopub.status.idle": "2021-03-23T01:49:36.085989Z",
     "shell.execute_reply": "2021-03-23T01:49:36.085421Z"
    },
    "papermill": {
     "duration": 0.050496,
     "end_time": "2021-03-23T01:49:36.086175",
     "exception": false,
     "start_time": "2021-03-23T01:49:36.035679",
     "status": "completed"
    },
    "tags": []
   },
   "outputs": [],
   "source": [
    "#hide\n",
    "#df_all_mrk = read_api()"
   ]
  },
  {
   "cell_type": "code",
   "execution_count": 9,
   "id": "delayed-adapter",
   "metadata": {
    "execution": {
     "iopub.execute_input": "2021-03-23T01:49:36.129245Z",
     "iopub.status.busy": "2021-03-23T01:49:36.128517Z",
     "iopub.status.idle": "2021-03-23T01:49:36.153377Z",
     "shell.execute_reply": "2021-03-23T01:49:36.153845Z"
    },
    "papermill": {
     "duration": 0.050916,
     "end_time": "2021-03-23T01:49:36.153988",
     "exception": false,
     "start_time": "2021-03-23T01:49:36.103072",
     "status": "completed"
    },
    "tags": []
   },
   "outputs": [],
   "source": [
    "#hide\n",
    "#Koreliacijų koeficientai"
   ]
  },
  {
   "cell_type": "code",
   "execution_count": 10,
   "id": "seeing-celebration",
   "metadata": {
    "execution": {
     "iopub.execute_input": "2021-03-23T01:49:36.194306Z",
     "iopub.status.busy": "2021-03-23T01:49:36.191575Z",
     "iopub.status.idle": "2021-03-23T01:49:36.218665Z",
     "shell.execute_reply": "2021-03-23T01:49:36.218164Z"
    },
    "papermill": {
     "duration": 0.048341,
     "end_time": "2021-03-23T01:49:36.218786",
     "exception": false,
     "start_time": "2021-03-23T01:49:36.170445",
     "status": "completed"
    },
    "tags": []
   },
   "outputs": [],
   "source": [
    "#hide_input\n",
    "#sum_corr = df_all_mrk.corr().sum().sort_values(ascending=True).index.values\n",
    "#df_all_mrk[sum_corr].corr()"
   ]
  },
  {
   "cell_type": "code",
   "execution_count": 11,
   "id": "other-painting",
   "metadata": {
    "execution": {
     "iopub.execute_input": "2021-03-23T01:49:36.262414Z",
     "iopub.status.busy": "2021-03-23T01:49:36.261682Z",
     "iopub.status.idle": "2021-03-23T01:49:36.296823Z",
     "shell.execute_reply": "2021-03-23T01:49:36.297346Z"
    },
    "papermill": {
     "duration": 0.059841,
     "end_time": "2021-03-23T01:49:36.297499",
     "exception": false,
     "start_time": "2021-03-23T01:49:36.237658",
     "status": "completed"
    },
    "tags": []
   },
   "outputs": [],
   "source": [
    "#hide\n",
    "#Koreliacijos matrica. "
   ]
  },
  {
   "cell_type": "code",
   "execution_count": 12,
   "id": "modular-magnitude",
   "metadata": {
    "execution": {
     "iopub.execute_input": "2021-03-23T01:49:36.336396Z",
     "iopub.status.busy": "2021-03-23T01:49:36.331768Z",
     "iopub.status.idle": "2021-03-23T01:49:36.360608Z",
     "shell.execute_reply": "2021-03-23T01:49:36.361230Z"
    },
    "papermill": {
     "duration": 0.048206,
     "end_time": "2021-03-23T01:49:36.361377",
     "exception": false,
     "start_time": "2021-03-23T01:49:36.313171",
     "status": "completed"
    },
    "tags": []
   },
   "outputs": [],
   "source": [
    "#hide_input\n",
    "#plt.figure(figsize=(15, 8))\n",
    "#sns.heatmap(df_all_mrk[sum_corr].corr(), annot=True, cmap=\"BrBG\");\n",
    "#plt.savefig('corr_matrix_all.eps', format='eps')"
   ]
  },
  {
   "cell_type": "code",
   "execution_count": null,
   "id": "original-senator",
   "metadata": {
    "papermill": {
     "duration": 0.016113,
     "end_time": "2021-03-23T01:49:36.393349",
     "exception": false,
     "start_time": "2021-03-23T01:49:36.377236",
     "status": "completed"
    },
    "tags": []
   },
   "outputs": [],
   "source": []
  },
  {
   "cell_type": "code",
   "execution_count": null,
   "id": "saving-secretariat",
   "metadata": {
    "papermill": {
     "duration": 0.015657,
     "end_time": "2021-03-23T01:49:36.423948",
     "exception": false,
     "start_time": "2021-03-23T01:49:36.408291",
     "status": "completed"
    },
    "tags": []
   },
   "outputs": [],
   "source": []
  }
 ],
 "metadata": {
  "kernelspec": {
   "display_name": "Python 3",
   "language": "python",
   "name": "python3"
  },
  "language_info": {
   "codemirror_mode": {
    "name": "ipython",
    "version": 3
   },
   "file_extension": ".py",
   "mimetype": "text/x-python",
   "name": "python",
   "nbconvert_exporter": "python",
   "pygments_lexer": "ipython3",
   "version": "3.6.13"
  },
  "papermill": {
   "default_parameters": {},
   "duration": 21.90125,
   "end_time": "2021-03-23T01:49:36.948553",
   "environment_variables": {},
   "exception": null,
   "input_path": "App-Correlation_charts.ipynb",
   "output_path": "App-Correlation_charts.ipynb",
   "parameters": {},
   "start_time": "2021-03-23T01:49:15.047303",
   "version": "2.2.2"
  }
 },
 "nbformat": 4,
 "nbformat_minor": 5
}