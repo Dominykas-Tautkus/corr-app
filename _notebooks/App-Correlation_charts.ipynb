{
 "cells": [
  {
   "cell_type": "markdown",
   "id": "touched-facility",
   "metadata": {
    "papermill": {
     "duration": 0.017674,
     "end_time": "2021-05-26T02:54:50.325456",
     "exception": false,
     "start_time": "2021-05-26T02:54:50.307782",
     "status": "completed"
    },
    "tags": []
   },
   "source": [
    "# Koreliacijų matrica\n",
    "> Išplėstinė koreliacijų matrica. \n",
    "\n",
    "- toc: true \n",
    "- badges: true\n",
    "- comments: false\n",
    "- categories: [Dominykas Tautkus]\n",
    "- image: images/matrix.png"
   ]
  },
  {
   "cell_type": "code",
   "execution_count": null,
   "id": "premium-weekend",
   "metadata": {
    "papermill": {
     "duration": 0.012013,
     "end_time": "2021-05-26T02:54:50.349651",
     "exception": false,
     "start_time": "2021-05-26T02:54:50.337638",
     "status": "completed"
    },
    "tags": []
   },
   "outputs": [],
   "source": []
  },
  {
   "cell_type": "code",
   "execution_count": 1,
   "id": "vertical-rebate",
   "metadata": {
    "execution": {
     "iopub.execute_input": "2021-05-26T02:54:50.385095Z",
     "iopub.status.busy": "2021-05-26T02:54:50.384495Z",
     "iopub.status.idle": "2021-05-26T02:54:50.394950Z",
     "shell.execute_reply": "2021-05-26T02:54:50.395414Z"
    },
    "papermill": {
     "duration": 0.034569,
     "end_time": "2021-05-26T02:54:50.395559",
     "exception": false,
     "start_time": "2021-05-26T02:54:50.360990",
     "status": "completed"
    },
    "tags": []
   },
   "outputs": [],
   "source": [
    "#hide\n",
    "%load_ext autoreload\n",
    "%autoreload 2"
   ]
  },
  {
   "cell_type": "code",
   "execution_count": 2,
   "id": "overall-advancement",
   "metadata": {
    "execution": {
     "iopub.execute_input": "2021-05-26T02:54:50.433697Z",
     "iopub.status.busy": "2021-05-26T02:54:50.427255Z",
     "iopub.status.idle": "2021-05-26T02:54:51.534750Z",
     "shell.execute_reply": "2021-05-26T02:54:51.534143Z"
    },
    "papermill": {
     "duration": 1.127993,
     "end_time": "2021-05-26T02:54:51.534905",
     "exception": false,
     "start_time": "2021-05-26T02:54:50.406912",
     "status": "completed"
    },
    "tags": []
   },
   "outputs": [],
   "source": [
    "#hide\n",
    "from scripts.read_data import read_api\n",
    "from IPython.display import HTML\n",
    "import plotly.graph_objects as go\n"
   ]
  },
  {
   "cell_type": "code",
   "execution_count": 3,
   "id": "light-crazy",
   "metadata": {
    "execution": {
     "iopub.execute_input": "2021-05-26T02:54:51.564507Z",
     "iopub.status.busy": "2021-05-26T02:54:51.563885Z",
     "iopub.status.idle": "2021-05-26T02:54:51.587815Z",
     "shell.execute_reply": "2021-05-26T02:54:51.588296Z"
    },
    "papermill": {
     "duration": 0.040867,
     "end_time": "2021-05-26T02:54:51.588444",
     "exception": false,
     "start_time": "2021-05-26T02:54:51.547577",
     "status": "completed"
    },
    "tags": []
   },
   "outputs": [],
   "source": [
    "#hide\n",
    "### ICO koreliacija"
   ]
  },
  {
   "cell_type": "code",
   "execution_count": 4,
   "id": "likely-bahrain",
   "metadata": {
    "execution": {
     "iopub.execute_input": "2021-05-26T02:54:51.616185Z",
     "iopub.status.busy": "2021-05-26T02:54:51.615596Z",
     "iopub.status.idle": "2021-05-26T02:54:52.490945Z",
     "shell.execute_reply": "2021-05-26T02:54:52.490373Z"
    },
    "papermill": {
     "duration": 0.890763,
     "end_time": "2021-05-26T02:54:52.491089",
     "exception": false,
     "start_time": "2021-05-26T02:54:51.600326",
     "status": "completed"
    },
    "tags": []
   },
   "outputs": [],
   "source": [
    "#hide\n",
    "import matplotlib.pyplot as plt\n",
    "import numpy as np\n",
    "import pandas as pd\n",
    "import seaborn as sns\n",
    "import matplotlib.pyplot as plt \n",
    "import matplotlib.dates as mdates\n",
    "import matplotlib.pyplot as plt"
   ]
  },
  {
   "cell_type": "code",
   "execution_count": 5,
   "id": "superior-blanket",
   "metadata": {
    "execution": {
     "iopub.execute_input": "2021-05-26T02:54:52.521093Z",
     "iopub.status.busy": "2021-05-26T02:54:52.520490Z",
     "iopub.status.idle": "2021-05-26T02:55:03.618631Z",
     "shell.execute_reply": "2021-05-26T02:55:03.618091Z"
    },
    "papermill": {
     "duration": 11.113773,
     "end_time": "2021-05-26T02:55:03.618761",
     "exception": false,
     "start_time": "2021-05-26T02:54:52.504988",
     "status": "completed"
    },
    "tags": []
   },
   "outputs": [
    {
     "name": "stderr",
     "output_type": "stream",
     "text": [
      "/home/runner/work/corr-app/corr-app/_notebooks/scripts/read_data.py:187: SettingWithCopyWarning:\n",
      "\n",
      "\n",
      "A value is trying to be set on a copy of a slice from a DataFrame.\n",
      "Try using .loc[row_indexer,col_indexer] = value instead\n",
      "\n",
      "See the caveats in the documentation: https://pandas.pydata.org/pandas-docs/stable/user_guide/indexing.html#returning-a-view-versus-a-copy\n",
      "\n"
     ]
    },
    {
     "name": "stderr",
     "output_type": "stream",
     "text": [
      "/home/runner/work/corr-app/corr-app/_notebooks/scripts/read_data.py:215: SettingWithCopyWarning:\n",
      "\n",
      "\n",
      "A value is trying to be set on a copy of a slice from a DataFrame.\n",
      "Try using .loc[row_indexer,col_indexer] = value instead\n",
      "\n",
      "See the caveats in the documentation: https://pandas.pydata.org/pandas-docs/stable/user_guide/indexing.html#returning-a-view-versus-a-copy\n",
      "\n"
     ]
    }
   ],
   "source": [
    "#hide\n",
    "df_all = read_api()\n",
    "#df_all = df_all.drop(['SP500', 'XAU', 'ETH', 'BTC'], axis=1)\n",
    "\n"
   ]
  },
  {
   "cell_type": "code",
   "execution_count": 6,
   "id": "mature-alert",
   "metadata": {
    "execution": {
     "iopub.execute_input": "2021-05-26T02:55:03.649681Z",
     "iopub.status.busy": "2021-05-26T02:55:03.648978Z",
     "iopub.status.idle": "2021-05-26T02:55:03.680624Z",
     "shell.execute_reply": "2021-05-26T02:55:03.680000Z"
    },
    "papermill": {
     "duration": 0.049305,
     "end_time": "2021-05-26T02:55:03.680776",
     "exception": false,
     "start_time": "2021-05-26T02:55:03.631471",
     "status": "completed"
    },
    "tags": []
   },
   "outputs": [],
   "source": [
    "#hide_input\n",
    "sum_corr = df_all.corr().sum().sort_values(ascending=True).index.values\n",
    "#df_all[sum_corr].corr()"
   ]
  },
  {
   "cell_type": "markdown",
   "id": "complex-syndicate",
   "metadata": {
    "papermill": {
     "duration": 0.012768,
     "end_time": "2021-05-26T02:55:03.706678",
     "exception": false,
     "start_time": "2021-05-26T02:55:03.693910",
     "status": "completed"
    },
    "tags": []
   },
   "source": [
    "## Išplėstinė koreliacijų matrica. "
   ]
  },
  {
   "cell_type": "code",
   "execution_count": 7,
   "id": "atomic-omaha",
   "metadata": {
    "execution": {
     "iopub.execute_input": "2021-05-26T02:55:03.737511Z",
     "iopub.status.busy": "2021-05-26T02:55:03.736925Z",
     "iopub.status.idle": "2021-05-26T02:55:04.963686Z",
     "shell.execute_reply": "2021-05-26T02:55:04.964165Z"
    },
    "papermill": {
     "duration": 1.244869,
     "end_time": "2021-05-26T02:55:04.964312",
     "exception": false,
     "start_time": "2021-05-26T02:55:03.719443",
     "status": "completed"
    },
    "tags": []
   },
   "outputs": [
    {
     "data": {
      "image/png": "[encoded data removed]",
      "text/plain": [
       "<Figure size 1080x792 with 2 Axes>"
      ]
     },
     "metadata": {
      "needs_background": "light"
     },
     "output_type": "display_data"
    }
   ],
   "source": [
    "#hide_input\n",
    "plt.figure(figsize=(15, 11))\n",
    "sns.heatmap(df_all[sum_corr].corr(), annot=True, cmap=\"cubehelix\") \n",
    "sns.set(font_scale=1.25)\n",
    "plt.savefig('corr_matrix.png', format='eps')"
   ]
  },
  {
   "cell_type": "code",
   "execution_count": 8,
   "id": "arbitrary-sullivan",
   "metadata": {
    "execution": {
     "iopub.execute_input": "2021-05-26T02:55:05.005218Z",
     "iopub.status.busy": "2021-05-26T02:55:05.004635Z",
     "iopub.status.idle": "2021-05-26T02:55:05.027368Z",
     "shell.execute_reply": "2021-05-26T02:55:05.026353Z"
    },
    "papermill": {
     "duration": 0.047803,
     "end_time": "2021-05-26T02:55:05.027491",
     "exception": false,
     "start_time": "2021-05-26T02:55:04.979688",
     "status": "completed"
    },
    "tags": []
   },
   "outputs": [],
   "source": [
    "#hide\n",
    "#df_all_mrk = read_api()"
   ]
  },
  {
   "cell_type": "code",
   "execution_count": 9,
   "id": "delayed-adapter",
   "metadata": {
    "execution": {
     "iopub.execute_input": "2021-05-26T02:55:05.059718Z",
     "iopub.status.busy": "2021-05-26T02:55:05.059029Z",
     "iopub.status.idle": "2021-05-26T02:55:05.083858Z",
     "shell.execute_reply": "2021-05-26T02:55:05.084425Z"
    },
    "papermill": {
     "duration": 0.042917,
     "end_time": "2021-05-26T02:55:05.084589",
     "exception": false,
     "start_time": "2021-05-26T02:55:05.041672",
     "status": "completed"
    },
    "tags": []
   },
   "outputs": [],
   "source": [
    "#hide\n",
    "#Koreliacijų koeficientai"
   ]
  },
  {
   "cell_type": "code",
   "execution_count": 10,
   "id": "seeing-celebration",
   "metadata": {
    "execution": {
     "iopub.execute_input": "2021-05-26T02:55:05.119875Z",
     "iopub.status.busy": "2021-05-26T02:55:05.119303Z",
     "iopub.status.idle": "2021-05-26T02:55:05.145532Z",
     "shell.execute_reply": "2021-05-26T02:55:05.146051Z"
    },
    "papermill": {
     "duration": 0.045525,
     "end_time": "2021-05-26T02:55:05.146212",
     "exception": false,
     "start_time": "2021-05-26T02:55:05.100687",
     "status": "completed"
    },
    "tags": []
   },
   "outputs": [],
   "source": [
    "#hide_input\n",
    "#sum_corr = df_all_mrk.corr().sum().sort_values(ascending=True).index.values\n",
    "#df_all_mrk[sum_corr].corr()"
   ]
  },
  {
   "cell_type": "code",
   "execution_count": 11,
   "id": "other-painting",
   "metadata": {
    "execution": {
     "iopub.execute_input": "2021-05-26T02:55:05.184584Z",
     "iopub.status.busy": "2021-05-26T02:55:05.183979Z",
     "iopub.status.idle": "2021-05-26T02:55:05.207737Z",
     "shell.execute_reply": "2021-05-26T02:55:05.208287Z"
    },
    "papermill": {
     "duration": 0.0463,
     "end_time": "2021-05-26T02:55:05.208451",
     "exception": false,
     "start_time": "2021-05-26T02:55:05.162151",
     "status": "completed"
    },
    "tags": []
   },
   "outputs": [],
   "source": [
    "#hide\n",
    "#Koreliacijos matrica. "
   ]
  },
  {
   "cell_type": "code",
   "execution_count": 12,
   "id": "modular-magnitude",
   "metadata": {
    "execution": {
     "iopub.execute_input": "2021-05-26T02:55:05.245356Z",
     "iopub.status.busy": "2021-05-26T02:55:05.244784Z",
     "iopub.status.idle": "2021-05-26T02:55:05.269533Z",
     "shell.execute_reply": "2021-05-26T02:55:05.270080Z"
    },
    "papermill": {
     "duration": 0.045669,
     "end_time": "2021-05-26T02:55:05.270248",
     "exception": false,
     "start_time": "2021-05-26T02:55:05.224579",
     "status": "completed"
    },
    "tags": []
   },
   "outputs": [],
   "source": [
    "#hide_input\n",
    "#plt.figure(figsize=(15, 8))\n",
    "#sns.heatmap(df_all_mrk[sum_corr].corr(), annot=True, cmap=\"BrBG\");\n",
    "#plt.savefig('corr_matrix_all.eps', format='eps')"
   ]
  },
  {
   "cell_type": "code",
   "execution_count": null,
   "id": "original-senator",
   "metadata": {
    "papermill": {
     "duration": 0.014274,
     "end_time": "2021-05-26T02:55:05.299700",
     "exception": false,
     "start_time": "2021-05-26T02:55:05.285426",
     "status": "completed"
    },
    "tags": []
   },
   "outputs": [],
   "source": []
  },
  {
   "cell_type": "code",
   "execution_count": null,
   "id": "saving-secretariat",
   "metadata": {
    "papermill": {
     "duration": 0.014259,
     "end_time": "2021-05-26T02:55:05.328373",
     "exception": false,
     "start_time": "2021-05-26T02:55:05.314114",
     "status": "completed"
    },
    "tags": []
   },
   "outputs": [],
   "source": []
  }
 ],
 "metadata": {
  "kernelspec": {
   "display_name": "Python 3",
   "language": "python",
   "name": "python3"
  },
  "language_info": {
   "codemirror_mode": {
    "name": "ipython",
    "version": 3
   },
   "file_extension": ".py",
   "mimetype": "text/x-python",
   "name": "python",
   "nbconvert_exporter": "python",
   "pygments_lexer": "ipython3",
   "version": "3.6.13"
  },
  "papermill": {
   "default_parameters": {},
   "duration": 16.801554,
   "end_time": "2021-05-26T02:55:05.850690",
   "environment_variables": {},
   "exception": null,
   "input_path": "App-Correlation_charts.ipynb",
   "output_path": "App-Correlation_charts.ipynb",
   "parameters": {},
   "start_time": "2021-05-26T02:54:49.049136",
   "version": "2.2.2"
  }
 },
 "nbformat": 4,
 "nbformat_minor": 5
}