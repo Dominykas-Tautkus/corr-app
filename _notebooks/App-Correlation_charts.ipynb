{
 "cells": [
  {
   "cell_type": "markdown",
   "id": "touched-facility",
   "metadata": {
    "papermill": {
     "duration": 0.017286,
     "end_time": "2021-03-25T02:27:15.506940",
     "exception": false,
     "start_time": "2021-03-25T02:27:15.489654",
     "status": "completed"
    },
    "tags": []
   },
   "source": [
    "# Koreliacijų matrica\n",
    "> Išplėstinė koreliacijų matrica. \n",
    "\n",
    "- toc: true \n",
    "- badges: true\n",
    "- comments: false\n",
    "- categories: [Dominykas Tautkus]\n",
    "- image: images/matrix.png"
   ]
  },
  {
   "cell_type": "code",
   "execution_count": null,
   "id": "premium-weekend",
   "metadata": {
    "papermill": {
     "duration": 0.011125,
     "end_time": "2021-03-25T02:27:15.529667",
     "exception": false,
     "start_time": "2021-03-25T02:27:15.518542",
     "status": "completed"
    },
    "tags": []
   },
   "outputs": [],
   "source": []
  },
  {
   "cell_type": "code",
   "execution_count": 1,
   "id": "vertical-rebate",
   "metadata": {
    "execution": {
     "iopub.execute_input": "2021-03-25T02:27:15.563523Z",
     "iopub.status.busy": "2021-03-25T02:27:15.562937Z",
     "iopub.status.idle": "2021-03-25T02:27:15.574533Z",
     "shell.execute_reply": "2021-03-25T02:27:15.574022Z"
    },
    "papermill": {
     "duration": 0.033776,
     "end_time": "2021-03-25T02:27:15.574660",
     "exception": false,
     "start_time": "2021-03-25T02:27:15.540884",
     "status": "completed"
    },
    "tags": []
   },
   "outputs": [],
   "source": [
    "#hide\n",
    "%load_ext autoreload\n",
    "%autoreload 2"
   ]
  },
  {
   "cell_type": "code",
   "execution_count": 2,
   "id": "overall-advancement",
   "metadata": {
    "execution": {
     "iopub.execute_input": "2021-03-25T02:27:15.601908Z",
     "iopub.status.busy": "2021-03-25T02:27:15.601332Z",
     "iopub.status.idle": "2021-03-25T02:27:16.798082Z",
     "shell.execute_reply": "2021-03-25T02:27:16.797132Z"
    },
    "papermill": {
     "duration": 1.2114,
     "end_time": "2021-03-25T02:27:16.798217",
     "exception": false,
     "start_time": "2021-03-25T02:27:15.586817",
     "status": "completed"
    },
    "tags": []
   },
   "outputs": [],
   "source": [
    "#hide\n",
    "from scripts.read_data import read_api\n",
    "from IPython.display import HTML\n",
    "import plotly.graph_objects as go\n"
   ]
  },
  {
   "cell_type": "code",
   "execution_count": 3,
   "id": "light-crazy",
   "metadata": {
    "execution": {
     "iopub.execute_input": "2021-03-25T02:27:16.826216Z",
     "iopub.status.busy": "2021-03-25T02:27:16.825667Z",
     "iopub.status.idle": "2021-03-25T02:27:16.848920Z",
     "shell.execute_reply": "2021-03-25T02:27:16.848427Z"
    },
    "papermill": {
     "duration": 0.038377,
     "end_time": "2021-03-25T02:27:16.849035",
     "exception": false,
     "start_time": "2021-03-25T02:27:16.810658",
     "status": "completed"
    },
    "tags": []
   },
   "outputs": [],
   "source": [
    "#hide\n",
    "### ICO koreliacija"
   ]
  },
  {
   "cell_type": "code",
   "execution_count": 4,
   "id": "likely-bahrain",
   "metadata": {
    "execution": {
     "iopub.execute_input": "2021-03-25T02:27:16.879443Z",
     "iopub.status.busy": "2021-03-25T02:27:16.878733Z",
     "iopub.status.idle": "2021-03-25T02:27:18.474671Z",
     "shell.execute_reply": "2021-03-25T02:27:18.474039Z"
    },
    "papermill": {
     "duration": 1.612829,
     "end_time": "2021-03-25T02:27:18.474830",
     "exception": false,
     "start_time": "2021-03-25T02:27:16.862001",
     "status": "completed"
    },
    "tags": []
   },
   "outputs": [],
   "source": [
    "#hide\n",
    "import matplotlib.pyplot as plt\n",
    "import numpy as np\n",
    "import pandas as pd\n",
    "import seaborn as sns\n",
    "import matplotlib.pyplot as plt \n",
    "import matplotlib.dates as mdates\n",
    "import matplotlib.pyplot as plt"
   ]
  },
  {
   "cell_type": "code",
   "execution_count": 5,
   "id": "superior-blanket",
   "metadata": {
    "execution": {
     "iopub.execute_input": "2021-03-25T02:27:18.506708Z",
     "iopub.status.busy": "2021-03-25T02:27:18.506082Z",
     "iopub.status.idle": "2021-03-25T02:27:34.145155Z",
     "shell.execute_reply": "2021-03-25T02:27:34.149587Z"
    },
    "papermill": {
     "duration": 15.660537,
     "end_time": "2021-03-25T02:27:34.149748",
     "exception": false,
     "start_time": "2021-03-25T02:27:18.489211",
     "status": "completed"
    },
    "tags": []
   },
   "outputs": [
    {
     "name": "stderr",
     "output_type": "stream",
     "text": [
      "/home/runner/work/corr-app/corr-app/_notebooks/scripts/read_data.py:187: SettingWithCopyWarning:\n",
      "\n",
      "\n",
      "A value is trying to be set on a copy of a slice from a DataFrame.\n",
      "Try using .loc[row_indexer,col_indexer] = value instead\n",
      "\n",
      "See the caveats in the documentation: https://pandas.pydata.org/pandas-docs/stable/user_guide/indexing.html#returning-a-view-versus-a-copy\n",
      "\n"
     ]
    },
    {
     "name": "stderr",
     "output_type": "stream",
     "text": [
      "/home/runner/work/corr-app/corr-app/_notebooks/scripts/read_data.py:215: SettingWithCopyWarning:\n",
      "\n",
      "\n",
      "A value is trying to be set on a copy of a slice from a DataFrame.\n",
      "Try using .loc[row_indexer,col_indexer] = value instead\n",
      "\n",
      "See the caveats in the documentation: https://pandas.pydata.org/pandas-docs/stable/user_guide/indexing.html#returning-a-view-versus-a-copy\n",
      "\n"
     ]
    }
   ],
   "source": [
    "#hide\n",
    "df_all = read_api()\n",
    "#df_all = df_all.drop(['SP500', 'XAU', 'ETH', 'BTC'], axis=1)\n",
    "\n"
   ]
  },
  {
   "cell_type": "code",
   "execution_count": 6,
   "id": "mature-alert",
   "metadata": {
    "execution": {
     "iopub.execute_input": "2021-03-25T02:27:34.192443Z",
     "iopub.status.busy": "2021-03-25T02:27:34.191774Z",
     "iopub.status.idle": "2021-03-25T02:27:34.213105Z",
     "shell.execute_reply": "2021-03-25T02:27:34.212606Z"
    },
    "papermill": {
     "duration": 0.050165,
     "end_time": "2021-03-25T02:27:34.213235",
     "exception": false,
     "start_time": "2021-03-25T02:27:34.163070",
     "status": "completed"
    },
    "tags": []
   },
   "outputs": [],
   "source": [
    "#hide_input\n",
    "sum_corr = df_all.corr().sum().sort_values(ascending=True).index.values\n",
    "#df_all[sum_corr].corr()"
   ]
  },
  {
   "cell_type": "markdown",
   "id": "complex-syndicate",
   "metadata": {
    "papermill": {
     "duration": 0.012264,
     "end_time": "2021-03-25T02:27:34.238166",
     "exception": false,
     "start_time": "2021-03-25T02:27:34.225902",
     "status": "completed"
    },
    "tags": []
   },
   "source": [
    "## Išplėstinė koreliacijų matrica. "
   ]
  },
  {
   "cell_type": "code",
   "execution_count": 7,
   "id": "atomic-omaha",
   "metadata": {
    "execution": {
     "iopub.execute_input": "2021-03-25T02:27:34.267349Z",
     "iopub.status.busy": "2021-03-25T02:27:34.266754Z",
     "iopub.status.idle": "2021-03-25T02:27:35.520183Z",
     "shell.execute_reply": "2021-03-25T02:27:35.520643Z"
    },
    "papermill": {
     "duration": 1.270593,
     "end_time": "2021-03-25T02:27:35.520791",
     "exception": false,
     "start_time": "2021-03-25T02:27:34.250198",
     "status": "completed"
    },
    "tags": []
   },
   "outputs": [
    {
     "data": {
      "image/png": "[encoded data removed]",
      "text/plain": [
       "<Figure size 1080x792 with 2 Axes>"
      ]
     },
     "metadata": {
      "needs_background": "light"
     },
     "output_type": "display_data"
    }
   ],
   "source": [
    "#hide_input\n",
    "plt.figure(figsize=(15, 11))\n",
    "sns.heatmap(df_all[sum_corr].corr(), annot=True, cmap=\"cubehelix\") \n",
    "sns.set(font_scale=1.25)\n",
    "plt.savefig('corr_matrix.png', format='eps')"
   ]
  },
  {
   "cell_type": "code",
   "execution_count": 8,
   "id": "arbitrary-sullivan",
   "metadata": {
    "execution": {
     "iopub.execute_input": "2021-03-25T02:27:35.553638Z",
     "iopub.status.busy": "2021-03-25T02:27:35.552585Z",
     "iopub.status.idle": "2021-03-25T02:27:35.579304Z",
     "shell.execute_reply": "2021-03-25T02:27:35.578795Z"
    },
    "papermill": {
     "duration": 0.044886,
     "end_time": "2021-03-25T02:27:35.579436",
     "exception": false,
     "start_time": "2021-03-25T02:27:35.534550",
     "status": "completed"
    },
    "tags": []
   },
   "outputs": [],
   "source": [
    "#hide\n",
    "#df_all_mrk = read_api()"
   ]
  },
  {
   "cell_type": "code",
   "execution_count": 9,
   "id": "delayed-adapter",
   "metadata": {
    "execution": {
     "iopub.execute_input": "2021-03-25T02:27:35.616899Z",
     "iopub.status.busy": "2021-03-25T02:27:35.616158Z",
     "iopub.status.idle": "2021-03-25T02:27:35.641803Z",
     "shell.execute_reply": "2021-03-25T02:27:35.641221Z"
    },
    "papermill": {
     "duration": 0.046588,
     "end_time": "2021-03-25T02:27:35.641939",
     "exception": false,
     "start_time": "2021-03-25T02:27:35.595351",
     "status": "completed"
    },
    "tags": []
   },
   "outputs": [],
   "source": [
    "#hide\n",
    "#Koreliacijų koeficientai"
   ]
  },
  {
   "cell_type": "code",
   "execution_count": 10,
   "id": "seeing-celebration",
   "metadata": {
    "execution": {
     "iopub.execute_input": "2021-03-25T02:27:35.674250Z",
     "iopub.status.busy": "2021-03-25T02:27:35.673695Z",
     "iopub.status.idle": "2021-03-25T02:27:35.700724Z",
     "shell.execute_reply": "2021-03-25T02:27:35.700156Z"
    },
    "papermill": {
     "duration": 0.044677,
     "end_time": "2021-03-25T02:27:35.700865",
     "exception": false,
     "start_time": "2021-03-25T02:27:35.656188",
     "status": "completed"
    },
    "tags": []
   },
   "outputs": [],
   "source": [
    "#hide_input\n",
    "#sum_corr = df_all_mrk.corr().sum().sort_values(ascending=True).index.values\n",
    "#df_all_mrk[sum_corr].corr()"
   ]
  },
  {
   "cell_type": "code",
   "execution_count": 11,
   "id": "other-painting",
   "metadata": {
    "execution": {
     "iopub.execute_input": "2021-03-25T02:27:35.736280Z",
     "iopub.status.busy": "2021-03-25T02:27:35.735711Z",
     "iopub.status.idle": "2021-03-25T02:27:35.764319Z",
     "shell.execute_reply": "2021-03-25T02:27:35.764797Z"
    },
    "papermill": {
     "duration": 0.04681,
     "end_time": "2021-03-25T02:27:35.764936",
     "exception": false,
     "start_time": "2021-03-25T02:27:35.718126",
     "status": "completed"
    },
    "tags": []
   },
   "outputs": [],
   "source": [
    "#hide\n",
    "#Koreliacijos matrica. "
   ]
  },
  {
   "cell_type": "code",
   "execution_count": 12,
   "id": "modular-magnitude",
   "metadata": {
    "execution": {
     "iopub.execute_input": "2021-03-25T02:27:35.796569Z",
     "iopub.status.busy": "2021-03-25T02:27:35.796106Z",
     "iopub.status.idle": "2021-03-25T02:27:35.823467Z",
     "shell.execute_reply": "2021-03-25T02:27:35.823993Z"
    },
    "papermill": {
     "duration": 0.044245,
     "end_time": "2021-03-25T02:27:35.824154",
     "exception": false,
     "start_time": "2021-03-25T02:27:35.779909",
     "status": "completed"
    },
    "tags": []
   },
   "outputs": [],
   "source": [
    "#hide_input\n",
    "#plt.figure(figsize=(15, 8))\n",
    "#sns.heatmap(df_all_mrk[sum_corr].corr(), annot=True, cmap=\"BrBG\");\n",
    "#plt.savefig('corr_matrix_all.eps', format='eps')"
   ]
  },
  {
   "cell_type": "code",
   "execution_count": null,
   "id": "original-senator",
   "metadata": {
    "papermill": {
     "duration": 0.013772,
     "end_time": "2021-03-25T02:27:35.853033",
     "exception": false,
     "start_time": "2021-03-25T02:27:35.839261",
     "status": "completed"
    },
    "tags": []
   },
   "outputs": [],
   "source": []
  },
  {
   "cell_type": "code",
   "execution_count": null,
   "id": "saving-secretariat",
   "metadata": {
    "papermill": {
     "duration": 0.013736,
     "end_time": "2021-03-25T02:27:35.881330",
     "exception": false,
     "start_time": "2021-03-25T02:27:35.867594",
     "status": "completed"
    },
    "tags": []
   },
   "outputs": [],
   "source": []
  }
 ],
 "metadata": {
  "kernelspec": {
   "display_name": "Python 3",
   "language": "python",
   "name": "python3"
  },
  "language_info": {
   "codemirror_mode": {
    "name": "ipython",
    "version": 3
   },
   "file_extension": ".py",
   "mimetype": "text/x-python",
   "name": "python",
   "nbconvert_exporter": "python",
   "pygments_lexer": "ipython3",
   "version": "3.6.13"
  },
  "papermill": {
   "default_parameters": {},
   "duration": 22.230509,
   "end_time": "2021-03-25T02:27:36.404209",
   "environment_variables": {},
   "exception": null,
   "input_path": "App-Correlation_charts.ipynb",
   "output_path": "App-Correlation_charts.ipynb",
   "parameters": {},
   "start_time": "2021-03-25T02:27:14.173700",
   "version": "2.2.2"
  }
 },
 "nbformat": 4,
 "nbformat_minor": 5
}