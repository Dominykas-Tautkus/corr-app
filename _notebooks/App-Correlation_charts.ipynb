{
 "cells": [
  {
   "cell_type": "markdown",
   "id": "touched-facility",
   "metadata": {
    "papermill": {
     "duration": 0.015678,
     "end_time": "2021-05-05T02:02:02.682885",
     "exception": false,
     "start_time": "2021-05-05T02:02:02.667207",
     "status": "completed"
    },
    "tags": []
   },
   "source": [
    "# Koreliacijų matrica\n",
    "> Išplėstinė koreliacijų matrica. \n",
    "\n",
    "- toc: true \n",
    "- badges: true\n",
    "- comments: false\n",
    "- categories: [Dominykas Tautkus]\n",
    "- image: images/matrix.png"
   ]
  },
  {
   "cell_type": "code",
   "execution_count": null,
   "id": "premium-weekend",
   "metadata": {
    "papermill": {
     "duration": 0.010936,
     "end_time": "2021-05-05T02:02:02.705540",
     "exception": false,
     "start_time": "2021-05-05T02:02:02.694604",
     "status": "completed"
    },
    "tags": []
   },
   "outputs": [],
   "source": []
  },
  {
   "cell_type": "code",
   "execution_count": 1,
   "id": "vertical-rebate",
   "metadata": {
    "execution": {
     "iopub.execute_input": "2021-05-05T02:02:02.738572Z",
     "iopub.status.busy": "2021-05-05T02:02:02.738014Z",
     "iopub.status.idle": "2021-05-05T02:02:02.749014Z",
     "shell.execute_reply": "2021-05-05T02:02:02.748597Z"
    },
    "papermill": {
     "duration": 0.032825,
     "end_time": "2021-05-05T02:02:02.749122",
     "exception": false,
     "start_time": "2021-05-05T02:02:02.716297",
     "status": "completed"
    },
    "tags": []
   },
   "outputs": [],
   "source": [
    "#hide\n",
    "%load_ext autoreload\n",
    "%autoreload 2"
   ]
  },
  {
   "cell_type": "code",
   "execution_count": 2,
   "id": "overall-advancement",
   "metadata": {
    "execution": {
     "iopub.execute_input": "2021-05-05T02:02:02.776134Z",
     "iopub.status.busy": "2021-05-05T02:02:02.775489Z",
     "iopub.status.idle": "2021-05-05T02:02:03.956375Z",
     "shell.execute_reply": "2021-05-05T02:02:03.956951Z"
    },
    "papermill": {
     "duration": 1.196462,
     "end_time": "2021-05-05T02:02:03.957137",
     "exception": false,
     "start_time": "2021-05-05T02:02:02.760675",
     "status": "completed"
    },
    "tags": []
   },
   "outputs": [],
   "source": [
    "#hide\n",
    "from scripts.read_data import read_api\n",
    "from IPython.display import HTML\n",
    "import plotly.graph_objects as go\n"
   ]
  },
  {
   "cell_type": "code",
   "execution_count": 3,
   "id": "light-crazy",
   "metadata": {
    "execution": {
     "iopub.execute_input": "2021-05-05T02:02:03.985253Z",
     "iopub.status.busy": "2021-05-05T02:02:03.984615Z",
     "iopub.status.idle": "2021-05-05T02:02:04.005675Z",
     "shell.execute_reply": "2021-05-05T02:02:04.005221Z"
    },
    "papermill": {
     "duration": 0.035534,
     "end_time": "2021-05-05T02:02:04.005791",
     "exception": false,
     "start_time": "2021-05-05T02:02:03.970257",
     "status": "completed"
    },
    "tags": []
   },
   "outputs": [],
   "source": [
    "#hide\n",
    "### ICO koreliacija"
   ]
  },
  {
   "cell_type": "code",
   "execution_count": 4,
   "id": "likely-bahrain",
   "metadata": {
    "execution": {
     "iopub.execute_input": "2021-05-05T02:02:04.030047Z",
     "iopub.status.busy": "2021-05-05T02:02:04.029463Z",
     "iopub.status.idle": "2021-05-05T02:02:05.002492Z",
     "shell.execute_reply": "2021-05-05T02:02:05.001954Z"
    },
    "papermill": {
     "duration": 0.986249,
     "end_time": "2021-05-05T02:02:05.002633",
     "exception": false,
     "start_time": "2021-05-05T02:02:04.016384",
     "status": "completed"
    },
    "tags": []
   },
   "outputs": [],
   "source": [
    "#hide\n",
    "import matplotlib.pyplot as plt\n",
    "import numpy as np\n",
    "import pandas as pd\n",
    "import seaborn as sns\n",
    "import matplotlib.pyplot as plt \n",
    "import matplotlib.dates as mdates\n",
    "import matplotlib.pyplot as plt"
   ]
  },
  {
   "cell_type": "code",
   "execution_count": 5,
   "id": "superior-blanket",
   "metadata": {
    "execution": {
     "iopub.execute_input": "2021-05-05T02:02:05.031554Z",
     "iopub.status.busy": "2021-05-05T02:02:05.031012Z",
     "iopub.status.idle": "2021-05-05T02:02:19.338585Z",
     "shell.execute_reply": "2021-05-05T02:02:19.339296Z"
    },
    "papermill": {
     "duration": 14.324485,
     "end_time": "2021-05-05T02:02:19.339520",
     "exception": false,
     "start_time": "2021-05-05T02:02:05.015035",
     "status": "completed"
    },
    "tags": []
   },
   "outputs": [
    {
     "name": "stderr",
     "output_type": "stream",
     "text": [
      "/home/runner/work/corr-app/corr-app/_notebooks/scripts/read_data.py:187: SettingWithCopyWarning:\n",
      "\n",
      "\n",
      "A value is trying to be set on a copy of a slice from a DataFrame.\n",
      "Try using .loc[row_indexer,col_indexer] = value instead\n",
      "\n",
      "See the caveats in the documentation: https://pandas.pydata.org/pandas-docs/stable/user_guide/indexing.html#returning-a-view-versus-a-copy\n",
      "\n"
     ]
    },
    {
     "name": "stderr",
     "output_type": "stream",
     "text": [
      "/home/runner/work/corr-app/corr-app/_notebooks/scripts/read_data.py:215: SettingWithCopyWarning:\n",
      "\n",
      "\n",
      "A value is trying to be set on a copy of a slice from a DataFrame.\n",
      "Try using .loc[row_indexer,col_indexer] = value instead\n",
      "\n",
      "See the caveats in the documentation: https://pandas.pydata.org/pandas-docs/stable/user_guide/indexing.html#returning-a-view-versus-a-copy\n",
      "\n"
     ]
    }
   ],
   "source": [
    "#hide\n",
    "df_all = read_api()\n",
    "#df_all = df_all.drop(['SP500', 'XAU', 'ETH', 'BTC'], axis=1)\n",
    "\n"
   ]
  },
  {
   "cell_type": "code",
   "execution_count": 6,
   "id": "mature-alert",
   "metadata": {
    "execution": {
     "iopub.execute_input": "2021-05-05T02:02:19.371346Z",
     "iopub.status.busy": "2021-05-05T02:02:19.370852Z",
     "iopub.status.idle": "2021-05-05T02:02:19.403231Z",
     "shell.execute_reply": "2021-05-05T02:02:19.402472Z"
    },
    "papermill": {
     "duration": 0.048581,
     "end_time": "2021-05-05T02:02:19.403421",
     "exception": false,
     "start_time": "2021-05-05T02:02:19.354840",
     "status": "completed"
    },
    "tags": []
   },
   "outputs": [],
   "source": [
    "#hide_input\n",
    "sum_corr = df_all.corr().sum().sort_values(ascending=True).index.values\n",
    "#df_all[sum_corr].corr()"
   ]
  },
  {
   "cell_type": "markdown",
   "id": "complex-syndicate",
   "metadata": {
    "papermill": {
     "duration": 0.01243,
     "end_time": "2021-05-05T02:02:19.430237",
     "exception": false,
     "start_time": "2021-05-05T02:02:19.417807",
     "status": "completed"
    },
    "tags": []
   },
   "source": [
    "## Išplėstinė koreliacijų matrica. "
   ]
  },
  {
   "cell_type": "code",
   "execution_count": 7,
   "id": "atomic-omaha",
   "metadata": {
    "execution": {
     "iopub.execute_input": "2021-05-05T02:02:19.459351Z",
     "iopub.status.busy": "2021-05-05T02:02:19.458818Z",
     "iopub.status.idle": "2021-05-05T02:02:20.629368Z",
     "shell.execute_reply": "2021-05-05T02:02:20.628844Z"
    },
    "papermill": {
     "duration": 1.187471,
     "end_time": "2021-05-05T02:02:20.629501",
     "exception": false,
     "start_time": "2021-05-05T02:02:19.442030",
     "status": "completed"
    },
    "tags": []
   },
   "outputs": [
    {
     "data": {
      "image/png": "[encoded data removed]",
      "text/plain": [
       "<Figure size 1080x792 with 2 Axes>"
      ]
     },
     "metadata": {
      "needs_background": "light"
     },
     "output_type": "display_data"
    }
   ],
   "source": [
    "#hide_input\n",
    "plt.figure(figsize=(15, 11))\n",
    "sns.heatmap(df_all[sum_corr].corr(), annot=True, cmap=\"cubehelix\") \n",
    "sns.set(font_scale=1.25)\n",
    "plt.savefig('corr_matrix.png', format='eps')"
   ]
  },
  {
   "cell_type": "code",
   "execution_count": 8,
   "id": "arbitrary-sullivan",
   "metadata": {
    "execution": {
     "iopub.execute_input": "2021-05-05T02:02:20.664119Z",
     "iopub.status.busy": "2021-05-05T02:02:20.663624Z",
     "iopub.status.idle": "2021-05-05T02:02:20.689468Z",
     "shell.execute_reply": "2021-05-05T02:02:20.690012Z"
    },
    "papermill": {
     "duration": 0.045553,
     "end_time": "2021-05-05T02:02:20.690175",
     "exception": false,
     "start_time": "2021-05-05T02:02:20.644622",
     "status": "completed"
    },
    "tags": []
   },
   "outputs": [],
   "source": [
    "#hide\n",
    "#df_all_mrk = read_api()"
   ]
  },
  {
   "cell_type": "code",
   "execution_count": 9,
   "id": "delayed-adapter",
   "metadata": {
    "execution": {
     "iopub.execute_input": "2021-05-05T02:02:20.722048Z",
     "iopub.status.busy": "2021-05-05T02:02:20.721519Z",
     "iopub.status.idle": "2021-05-05T02:02:20.746745Z",
     "shell.execute_reply": "2021-05-05T02:02:20.746192Z"
    },
    "papermill": {
     "duration": 0.041812,
     "end_time": "2021-05-05T02:02:20.746872",
     "exception": false,
     "start_time": "2021-05-05T02:02:20.705060",
     "status": "completed"
    },
    "tags": []
   },
   "outputs": [],
   "source": [
    "#hide\n",
    "#Koreliacijų koeficientai"
   ]
  },
  {
   "cell_type": "code",
   "execution_count": 10,
   "id": "seeing-celebration",
   "metadata": {
    "execution": {
     "iopub.execute_input": "2021-05-05T02:02:20.790458Z",
     "iopub.status.busy": "2021-05-05T02:02:20.788223Z",
     "iopub.status.idle": "2021-05-05T02:02:20.809302Z",
     "shell.execute_reply": "2021-05-05T02:02:20.809770Z"
    },
    "papermill": {
     "duration": 0.047135,
     "end_time": "2021-05-05T02:02:20.809913",
     "exception": false,
     "start_time": "2021-05-05T02:02:20.762778",
     "status": "completed"
    },
    "tags": []
   },
   "outputs": [],
   "source": [
    "#hide_input\n",
    "#sum_corr = df_all_mrk.corr().sum().sort_values(ascending=True).index.values\n",
    "#df_all_mrk[sum_corr].corr()"
   ]
  },
  {
   "cell_type": "code",
   "execution_count": 11,
   "id": "other-painting",
   "metadata": {
    "execution": {
     "iopub.execute_input": "2021-05-05T02:02:20.845054Z",
     "iopub.status.busy": "2021-05-05T02:02:20.844529Z",
     "iopub.status.idle": "2021-05-05T02:02:20.868225Z",
     "shell.execute_reply": "2021-05-05T02:02:20.867740Z"
    },
    "papermill": {
     "duration": 0.044231,
     "end_time": "2021-05-05T02:02:20.868341",
     "exception": false,
     "start_time": "2021-05-05T02:02:20.824110",
     "status": "completed"
    },
    "tags": []
   },
   "outputs": [],
   "source": [
    "#hide\n",
    "#Koreliacijos matrica. "
   ]
  },
  {
   "cell_type": "code",
   "execution_count": 12,
   "id": "modular-magnitude",
   "metadata": {
    "execution": {
     "iopub.execute_input": "2021-05-05T02:02:20.901579Z",
     "iopub.status.busy": "2021-05-05T02:02:20.901005Z",
     "iopub.status.idle": "2021-05-05T02:02:20.928550Z",
     "shell.execute_reply": "2021-05-05T02:02:20.928992Z"
    },
    "papermill": {
     "duration": 0.046495,
     "end_time": "2021-05-05T02:02:20.929129",
     "exception": false,
     "start_time": "2021-05-05T02:02:20.882634",
     "status": "completed"
    },
    "tags": []
   },
   "outputs": [],
   "source": [
    "#hide_input\n",
    "#plt.figure(figsize=(15, 8))\n",
    "#sns.heatmap(df_all_mrk[sum_corr].corr(), annot=True, cmap=\"BrBG\");\n",
    "#plt.savefig('corr_matrix_all.eps', format='eps')"
   ]
  },
  {
   "cell_type": "code",
   "execution_count": null,
   "id": "original-senator",
   "metadata": {
    "papermill": {
     "duration": 0.014291,
     "end_time": "2021-05-05T02:02:20.957460",
     "exception": false,
     "start_time": "2021-05-05T02:02:20.943169",
     "status": "completed"
    },
    "tags": []
   },
   "outputs": [],
   "source": []
  },
  {
   "cell_type": "code",
   "execution_count": null,
   "id": "saving-secretariat",
   "metadata": {
    "papermill": {
     "duration": 0.017096,
     "end_time": "2021-05-05T02:02:20.988099",
     "exception": false,
     "start_time": "2021-05-05T02:02:20.971003",
     "status": "completed"
    },
    "tags": []
   },
   "outputs": [],
   "source": []
  }
 ],
 "metadata": {
  "kernelspec": {
   "display_name": "Python 3",
   "language": "python",
   "name": "python3"
  },
  "language_info": {
   "codemirror_mode": {
    "name": "ipython",
    "version": 3
   },
   "file_extension": ".py",
   "mimetype": "text/x-python",
   "name": "python",
   "nbconvert_exporter": "python",
   "pygments_lexer": "ipython3",
   "version": "3.6.13"
  },
  "papermill": {
   "default_parameters": {},
   "duration": 19.890074,
   "end_time": "2021-05-05T02:02:21.511455",
   "environment_variables": {},
   "exception": null,
   "input_path": "App-Correlation_charts.ipynb",
   "output_path": "App-Correlation_charts.ipynb",
   "parameters": {},
   "start_time": "2021-05-05T02:02:01.621381",
   "version": "2.2.2"
  }
 },
 "nbformat": 4,
 "nbformat_minor": 5
}