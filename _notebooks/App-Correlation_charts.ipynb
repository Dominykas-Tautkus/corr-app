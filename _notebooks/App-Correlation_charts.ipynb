{
 "cells": [
  {
   "cell_type": "markdown",
   "id": "touched-facility",
   "metadata": {
    "papermill": {
     "duration": 0.01535,
     "end_time": "2021-05-04T02:06:06.127351",
     "exception": false,
     "start_time": "2021-05-04T02:06:06.112001",
     "status": "completed"
    },
    "tags": []
   },
   "source": [
    "# Koreliacijų matrica\n",
    "> Išplėstinė koreliacijų matrica. \n",
    "\n",
    "- toc: true \n",
    "- badges: true\n",
    "- comments: false\n",
    "- categories: [Dominykas Tautkus]\n",
    "- image: images/matrix.png"
   ]
  },
  {
   "cell_type": "code",
   "execution_count": null,
   "id": "premium-weekend",
   "metadata": {
    "papermill": {
     "duration": 0.010619,
     "end_time": "2021-05-04T02:06:06.149257",
     "exception": false,
     "start_time": "2021-05-04T02:06:06.138638",
     "status": "completed"
    },
    "tags": []
   },
   "outputs": [],
   "source": []
  },
  {
   "cell_type": "code",
   "execution_count": 1,
   "id": "vertical-rebate",
   "metadata": {
    "execution": {
     "iopub.execute_input": "2021-05-04T02:06:06.179554Z",
     "iopub.status.busy": "2021-05-04T02:06:06.179057Z",
     "iopub.status.idle": "2021-05-04T02:06:06.188319Z",
     "shell.execute_reply": "2021-05-04T02:06:06.188784Z"
    },
    "papermill": {
     "duration": 0.028921,
     "end_time": "2021-05-04T02:06:06.188910",
     "exception": false,
     "start_time": "2021-05-04T02:06:06.159989",
     "status": "completed"
    },
    "tags": []
   },
   "outputs": [],
   "source": [
    "#hide\n",
    "%load_ext autoreload\n",
    "%autoreload 2"
   ]
  },
  {
   "cell_type": "code",
   "execution_count": 2,
   "id": "overall-advancement",
   "metadata": {
    "execution": {
     "iopub.execute_input": "2021-05-04T02:06:06.230085Z",
     "iopub.status.busy": "2021-05-04T02:06:06.221988Z",
     "iopub.status.idle": "2021-05-04T02:06:07.324961Z",
     "shell.execute_reply": "2021-05-04T02:06:07.324454Z"
    },
    "papermill": {
     "duration": 1.124134,
     "end_time": "2021-05-04T02:06:07.325091",
     "exception": false,
     "start_time": "2021-05-04T02:06:06.200957",
     "status": "completed"
    },
    "tags": []
   },
   "outputs": [],
   "source": [
    "#hide\n",
    "from scripts.read_data import read_api\n",
    "from IPython.display import HTML\n",
    "import plotly.graph_objects as go\n"
   ]
  },
  {
   "cell_type": "code",
   "execution_count": 3,
   "id": "light-crazy",
   "metadata": {
    "execution": {
     "iopub.execute_input": "2021-05-04T02:06:07.361955Z",
     "iopub.status.busy": "2021-05-04T02:06:07.359665Z",
     "iopub.status.idle": "2021-05-04T02:06:07.375565Z",
     "shell.execute_reply": "2021-05-04T02:06:07.374908Z"
    },
    "papermill": {
     "duration": 0.039202,
     "end_time": "2021-05-04T02:06:07.375667",
     "exception": false,
     "start_time": "2021-05-04T02:06:07.336465",
     "status": "completed"
    },
    "tags": []
   },
   "outputs": [],
   "source": [
    "#hide\n",
    "### ICO koreliacija"
   ]
  },
  {
   "cell_type": "code",
   "execution_count": 4,
   "id": "likely-bahrain",
   "metadata": {
    "execution": {
     "iopub.execute_input": "2021-05-04T02:06:07.402716Z",
     "iopub.status.busy": "2021-05-04T02:06:07.402217Z",
     "iopub.status.idle": "2021-05-04T02:06:08.162143Z",
     "shell.execute_reply": "2021-05-04T02:06:08.161666Z"
    },
    "papermill": {
     "duration": 0.775935,
     "end_time": "2021-05-04T02:06:08.162266",
     "exception": false,
     "start_time": "2021-05-04T02:06:07.386331",
     "status": "completed"
    },
    "tags": []
   },
   "outputs": [],
   "source": [
    "#hide\n",
    "import matplotlib.pyplot as plt\n",
    "import numpy as np\n",
    "import pandas as pd\n",
    "import seaborn as sns\n",
    "import matplotlib.pyplot as plt \n",
    "import matplotlib.dates as mdates\n",
    "import matplotlib.pyplot as plt"
   ]
  },
  {
   "cell_type": "code",
   "execution_count": 5,
   "id": "superior-blanket",
   "metadata": {
    "execution": {
     "iopub.execute_input": "2021-05-04T02:06:08.194049Z",
     "iopub.status.busy": "2021-05-04T02:06:08.193528Z",
     "iopub.status.idle": "2021-05-04T02:06:26.034019Z",
     "shell.execute_reply": "2021-05-04T02:06:26.033494Z"
    },
    "papermill": {
     "duration": 17.860334,
     "end_time": "2021-05-04T02:06:26.034150",
     "exception": false,
     "start_time": "2021-05-04T02:06:08.173816",
     "status": "completed"
    },
    "tags": []
   },
   "outputs": [
    {
     "name": "stderr",
     "output_type": "stream",
     "text": [
      "/home/runner/work/corr-app/corr-app/_notebooks/scripts/read_data.py:187: SettingWithCopyWarning:\n",
      "\n",
      "\n",
      "A value is trying to be set on a copy of a slice from a DataFrame.\n",
      "Try using .loc[row_indexer,col_indexer] = value instead\n",
      "\n",
      "See the caveats in the documentation: https://pandas.pydata.org/pandas-docs/stable/user_guide/indexing.html#returning-a-view-versus-a-copy\n",
      "\n"
     ]
    },
    {
     "name": "stderr",
     "output_type": "stream",
     "text": [
      "/home/runner/work/corr-app/corr-app/_notebooks/scripts/read_data.py:215: SettingWithCopyWarning:\n",
      "\n",
      "\n",
      "A value is trying to be set on a copy of a slice from a DataFrame.\n",
      "Try using .loc[row_indexer,col_indexer] = value instead\n",
      "\n",
      "See the caveats in the documentation: https://pandas.pydata.org/pandas-docs/stable/user_guide/indexing.html#returning-a-view-versus-a-copy\n",
      "\n"
     ]
    }
   ],
   "source": [
    "#hide\n",
    "df_all = read_api()\n",
    "#df_all = df_all.drop(['SP500', 'XAU', 'ETH', 'BTC'], axis=1)\n",
    "\n"
   ]
  },
  {
   "cell_type": "code",
   "execution_count": 6,
   "id": "mature-alert",
   "metadata": {
    "execution": {
     "iopub.execute_input": "2021-05-04T02:06:26.069948Z",
     "iopub.status.busy": "2021-05-04T02:06:26.068813Z",
     "iopub.status.idle": "2021-05-04T02:06:26.091811Z",
     "shell.execute_reply": "2021-05-04T02:06:26.091351Z"
    },
    "papermill": {
     "duration": 0.045522,
     "end_time": "2021-05-04T02:06:26.091926",
     "exception": false,
     "start_time": "2021-05-04T02:06:26.046404",
     "status": "completed"
    },
    "tags": []
   },
   "outputs": [],
   "source": [
    "#hide_input\n",
    "sum_corr = df_all.corr().sum().sort_values(ascending=True).index.values\n",
    "#df_all[sum_corr].corr()"
   ]
  },
  {
   "cell_type": "markdown",
   "id": "complex-syndicate",
   "metadata": {
    "papermill": {
     "duration": 0.011259,
     "end_time": "2021-05-04T02:06:26.115628",
     "exception": false,
     "start_time": "2021-05-04T02:06:26.104369",
     "status": "completed"
    },
    "tags": []
   },
   "source": [
    "## Išplėstinė koreliacijų matrica. "
   ]
  },
  {
   "cell_type": "code",
   "execution_count": 7,
   "id": "atomic-omaha",
   "metadata": {
    "execution": {
     "iopub.execute_input": "2021-05-04T02:06:26.143365Z",
     "iopub.status.busy": "2021-05-04T02:06:26.142872Z",
     "iopub.status.idle": "2021-05-04T02:06:27.279711Z",
     "shell.execute_reply": "2021-05-04T02:06:27.279273Z"
    },
    "papermill": {
     "duration": 1.152957,
     "end_time": "2021-05-04T02:06:27.279822",
     "exception": false,
     "start_time": "2021-05-04T02:06:26.126865",
     "status": "completed"
    },
    "tags": []
   },
   "outputs": [
    {
     "data": {
      "image/png": "[encoded data removed]",
      "text/plain": [
       "<Figure size 1080x792 with 2 Axes>"
      ]
     },
     "metadata": {
      "needs_background": "light"
     },
     "output_type": "display_data"
    }
   ],
   "source": [
    "#hide_input\n",
    "plt.figure(figsize=(15, 11))\n",
    "sns.heatmap(df_all[sum_corr].corr(), annot=True, cmap=\"cubehelix\") \n",
    "sns.set(font_scale=1.25)\n",
    "plt.savefig('corr_matrix.png', format='eps')"
   ]
  },
  {
   "cell_type": "code",
   "execution_count": 8,
   "id": "arbitrary-sullivan",
   "metadata": {
    "execution": {
     "iopub.execute_input": "2021-05-04T02:06:27.315463Z",
     "iopub.status.busy": "2021-05-04T02:06:27.310738Z",
     "iopub.status.idle": "2021-05-04T02:06:27.336810Z",
     "shell.execute_reply": "2021-05-04T02:06:27.336351Z"
    },
    "papermill": {
     "duration": 0.043369,
     "end_time": "2021-05-04T02:06:27.336921",
     "exception": false,
     "start_time": "2021-05-04T02:06:27.293552",
     "status": "completed"
    },
    "tags": []
   },
   "outputs": [],
   "source": [
    "#hide\n",
    "#df_all_mrk = read_api()"
   ]
  },
  {
   "cell_type": "code",
   "execution_count": 9,
   "id": "delayed-adapter",
   "metadata": {
    "execution": {
     "iopub.execute_input": "2021-05-04T02:06:27.387361Z",
     "iopub.status.busy": "2021-05-04T02:06:27.386610Z",
     "iopub.status.idle": "2021-05-04T02:06:27.398359Z",
     "shell.execute_reply": "2021-05-04T02:06:27.399002Z"
    },
    "papermill": {
     "duration": 0.047865,
     "end_time": "2021-05-04T02:06:27.399115",
     "exception": false,
     "start_time": "2021-05-04T02:06:27.351250",
     "status": "completed"
    },
    "tags": []
   },
   "outputs": [],
   "source": [
    "#hide\n",
    "#Koreliacijų koeficientai"
   ]
  },
  {
   "cell_type": "code",
   "execution_count": 10,
   "id": "seeing-celebration",
   "metadata": {
    "execution": {
     "iopub.execute_input": "2021-05-04T02:06:27.428649Z",
     "iopub.status.busy": "2021-05-04T02:06:27.427804Z",
     "iopub.status.idle": "2021-05-04T02:06:27.449379Z",
     "shell.execute_reply": "2021-05-04T02:06:27.448902Z"
    },
    "papermill": {
     "duration": 0.037042,
     "end_time": "2021-05-04T02:06:27.449491",
     "exception": false,
     "start_time": "2021-05-04T02:06:27.412449",
     "status": "completed"
    },
    "tags": []
   },
   "outputs": [],
   "source": [
    "#hide_input\n",
    "#sum_corr = df_all_mrk.corr().sum().sort_values(ascending=True).index.values\n",
    "#df_all_mrk[sum_corr].corr()"
   ]
  },
  {
   "cell_type": "code",
   "execution_count": 11,
   "id": "other-painting",
   "metadata": {
    "execution": {
     "iopub.execute_input": "2021-05-04T02:06:27.494491Z",
     "iopub.status.busy": "2021-05-04T02:06:27.494003Z",
     "iopub.status.idle": "2021-05-04T02:06:27.508064Z",
     "shell.execute_reply": "2021-05-04T02:06:27.507647Z"
    },
    "papermill": {
     "duration": 0.04459,
     "end_time": "2021-05-04T02:06:27.508158",
     "exception": false,
     "start_time": "2021-05-04T02:06:27.463568",
     "status": "completed"
    },
    "tags": []
   },
   "outputs": [],
   "source": [
    "#hide\n",
    "#Koreliacijos matrica. "
   ]
  },
  {
   "cell_type": "code",
   "execution_count": 12,
   "id": "modular-magnitude",
   "metadata": {
    "execution": {
     "iopub.execute_input": "2021-05-04T02:06:27.551563Z",
     "iopub.status.busy": "2021-05-04T02:06:27.550016Z",
     "iopub.status.idle": "2021-05-04T02:06:27.564873Z",
     "shell.execute_reply": "2021-05-04T02:06:27.564456Z"
    },
    "papermill": {
     "duration": 0.043526,
     "end_time": "2021-05-04T02:06:27.564966",
     "exception": false,
     "start_time": "2021-05-04T02:06:27.521440",
     "status": "completed"
    },
    "tags": []
   },
   "outputs": [],
   "source": [
    "#hide_input\n",
    "#plt.figure(figsize=(15, 8))\n",
    "#sns.heatmap(df_all_mrk[sum_corr].corr(), annot=True, cmap=\"BrBG\");\n",
    "#plt.savefig('corr_matrix_all.eps', format='eps')"
   ]
  },
  {
   "cell_type": "code",
   "execution_count": null,
   "id": "original-senator",
   "metadata": {
    "papermill": {
     "duration": 0.013128,
     "end_time": "2021-05-04T02:06:27.591290",
     "exception": false,
     "start_time": "2021-05-04T02:06:27.578162",
     "status": "completed"
    },
    "tags": []
   },
   "outputs": [],
   "source": []
  },
  {
   "cell_type": "code",
   "execution_count": null,
   "id": "saving-secretariat",
   "metadata": {
    "papermill": {
     "duration": 0.013147,
     "end_time": "2021-05-04T02:06:27.617638",
     "exception": false,
     "start_time": "2021-05-04T02:06:27.604491",
     "status": "completed"
    },
    "tags": []
   },
   "outputs": [],
   "source": []
  }
 ],
 "metadata": {
  "kernelspec": {
   "display_name": "Python 3",
   "language": "python",
   "name": "python3"
  },
  "language_info": {
   "codemirror_mode": {
    "name": "ipython",
    "version": 3
   },
   "file_extension": ".py",
   "mimetype": "text/x-python",
   "name": "python",
   "nbconvert_exporter": "python",
   "pygments_lexer": "ipython3",
   "version": "3.6.13"
  },
  "papermill": {
   "default_parameters": {},
   "duration": 22.945118,
   "end_time": "2021-05-04T02:06:28.036938",
   "environment_variables": {},
   "exception": null,
   "input_path": "App-Correlation_charts.ipynb",
   "output_path": "App-Correlation_charts.ipynb",
   "parameters": {},
   "start_time": "2021-05-04T02:06:05.091820",
   "version": "2.2.2"
  }
 },
 "nbformat": 4,
 "nbformat_minor": 5
}