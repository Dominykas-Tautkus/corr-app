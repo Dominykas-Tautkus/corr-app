{
 "cells": [
  {
   "cell_type": "markdown",
   "id": "touched-facility",
   "metadata": {
    "papermill": {
     "duration": 0.058769,
     "end_time": "2021-01-29T01:54:34.228444",
     "exception": false,
     "start_time": "2021-01-29T01:54:34.169675",
     "status": "completed"
    },
    "tags": []
   },
   "source": [
    "# Koreliacijų matrica\n",
    "> Išplėstinė koreliacijų matrica. \n",
    "\n",
    "- toc: true \n",
    "- badges: true\n",
    "- comments: false\n",
    "- categories: [Dominykas Tautkus]\n",
    "- image: images/matrix.png"
   ]
  },
  {
   "cell_type": "code",
   "execution_count": null,
   "id": "premium-weekend",
   "metadata": {
    "papermill": {
     "duration": 0.103767,
     "end_time": "2021-01-29T01:54:34.372513",
     "exception": false,
     "start_time": "2021-01-29T01:54:34.268746",
     "status": "completed"
    },
    "tags": []
   },
   "outputs": [],
   "source": []
  },
  {
   "cell_type": "code",
   "execution_count": 1,
   "id": "vertical-rebate",
   "metadata": {
    "execution": {
     "iopub.execute_input": "2021-01-29T01:54:34.490760Z",
     "iopub.status.busy": "2021-01-29T01:54:34.490104Z",
     "iopub.status.idle": "2021-01-29T01:54:34.501115Z",
     "shell.execute_reply": "2021-01-29T01:54:34.501577Z"
    },
    "papermill": {
     "duration": 0.068795,
     "end_time": "2021-01-29T01:54:34.501753",
     "exception": false,
     "start_time": "2021-01-29T01:54:34.432958",
     "status": "completed"
    },
    "tags": []
   },
   "outputs": [],
   "source": [
    "#hide\n",
    "%load_ext autoreload\n",
    "%autoreload 2"
   ]
  },
  {
   "cell_type": "code",
   "execution_count": 2,
   "id": "overall-advancement",
   "metadata": {
    "execution": {
     "iopub.execute_input": "2021-01-29T01:54:34.647668Z",
     "iopub.status.busy": "2021-01-29T01:54:34.646946Z",
     "iopub.status.idle": "2021-01-29T01:54:37.448108Z",
     "shell.execute_reply": "2021-01-29T01:54:37.446985Z"
    },
    "papermill": {
     "duration": 2.868916,
     "end_time": "2021-01-29T01:54:37.448289",
     "exception": false,
     "start_time": "2021-01-29T01:54:34.579373",
     "status": "completed"
    },
    "tags": []
   },
   "outputs": [],
   "source": [
    "#hide\n",
    "from scripts.read_data import read_api\n",
    "from IPython.display import HTML\n",
    "import plotly.graph_objects as go\n"
   ]
  },
  {
   "cell_type": "code",
   "execution_count": 3,
   "id": "light-crazy",
   "metadata": {
    "execution": {
     "iopub.execute_input": "2021-01-29T01:54:37.537534Z",
     "iopub.status.busy": "2021-01-29T01:54:37.536920Z",
     "iopub.status.idle": "2021-01-29T01:54:37.557214Z",
     "shell.execute_reply": "2021-01-29T01:54:37.556693Z"
    },
    "papermill": {
     "duration": 0.084806,
     "end_time": "2021-01-29T01:54:37.557347",
     "exception": false,
     "start_time": "2021-01-29T01:54:37.472541",
     "status": "completed"
    },
    "tags": []
   },
   "outputs": [],
   "source": [
    "#hide\n",
    "### ICO koreliacija"
   ]
  },
  {
   "cell_type": "code",
   "execution_count": 4,
   "id": "likely-bahrain",
   "metadata": {
    "execution": {
     "iopub.execute_input": "2021-01-29T01:54:37.693514Z",
     "iopub.status.busy": "2021-01-29T01:54:37.692886Z",
     "iopub.status.idle": "2021-01-29T01:54:41.657606Z",
     "shell.execute_reply": "2021-01-29T01:54:41.657052Z"
    },
    "papermill": {
     "duration": 4.020812,
     "end_time": "2021-01-29T01:54:41.657743",
     "exception": false,
     "start_time": "2021-01-29T01:54:37.636931",
     "status": "completed"
    },
    "tags": []
   },
   "outputs": [],
   "source": [
    "#hide\n",
    "import matplotlib.pyplot as plt\n",
    "import numpy as np\n",
    "import pandas as pd\n",
    "import seaborn as sns\n",
    "import matplotlib.pyplot as plt \n",
    "import matplotlib.dates as mdates\n",
    "import matplotlib.pyplot as plt"
   ]
  },
  {
   "cell_type": "code",
   "execution_count": 5,
   "id": "superior-blanket",
   "metadata": {
    "execution": {
     "iopub.execute_input": "2021-01-29T01:54:41.688085Z",
     "iopub.status.busy": "2021-01-29T01:54:41.686840Z",
     "iopub.status.idle": "2021-01-29T01:54:54.638294Z",
     "shell.execute_reply": "2021-01-29T01:54:54.639118Z"
    },
    "papermill": {
     "duration": 12.969097,
     "end_time": "2021-01-29T01:54:54.639380",
     "exception": false,
     "start_time": "2021-01-29T01:54:41.670283",
     "status": "completed"
    },
    "tags": []
   },
   "outputs": [
    {
     "name": "stderr",
     "output_type": "stream",
     "text": [
      "/home/runner/work/corr-app/corr-app/_notebooks/scripts/read_data.py:187: SettingWithCopyWarning:\n",
      "\n",
      "\n",
      "A value is trying to be set on a copy of a slice from a DataFrame.\n",
      "Try using .loc[row_indexer,col_indexer] = value instead\n",
      "\n",
      "See the caveats in the documentation: https://pandas.pydata.org/pandas-docs/stable/user_guide/indexing.html#returning-a-view-versus-a-copy\n",
      "\n"
     ]
    },
    {
     "name": "stderr",
     "output_type": "stream",
     "text": [
      "/home/runner/work/corr-app/corr-app/_notebooks/scripts/read_data.py:215: SettingWithCopyWarning:\n",
      "\n",
      "\n",
      "A value is trying to be set on a copy of a slice from a DataFrame.\n",
      "Try using .loc[row_indexer,col_indexer] = value instead\n",
      "\n",
      "See the caveats in the documentation: https://pandas.pydata.org/pandas-docs/stable/user_guide/indexing.html#returning-a-view-versus-a-copy\n",
      "\n"
     ]
    }
   ],
   "source": [
    "#hide\n",
    "df_all = read_api()\n",
    "#df_all = df_all.drop(['SP500', 'XAU', 'ETH', 'BTC'], axis=1)\n",
    "\n"
   ]
  },
  {
   "cell_type": "code",
   "execution_count": 6,
   "id": "mature-alert",
   "metadata": {
    "execution": {
     "iopub.execute_input": "2021-01-29T01:54:54.670416Z",
     "iopub.status.busy": "2021-01-29T01:54:54.669815Z",
     "iopub.status.idle": "2021-01-29T01:54:54.699844Z",
     "shell.execute_reply": "2021-01-29T01:54:54.699224Z"
    },
    "papermill": {
     "duration": 0.046724,
     "end_time": "2021-01-29T01:54:54.700004",
     "exception": false,
     "start_time": "2021-01-29T01:54:54.653280",
     "status": "completed"
    },
    "tags": []
   },
   "outputs": [],
   "source": [
    "#hide_input\n",
    "sum_corr = df_all.corr().sum().sort_values(ascending=True).index.values\n",
    "#df_all[sum_corr].corr()"
   ]
  },
  {
   "cell_type": "markdown",
   "id": "complex-syndicate",
   "metadata": {
    "papermill": {
     "duration": 0.013463,
     "end_time": "2021-01-29T01:54:54.725915",
     "exception": false,
     "start_time": "2021-01-29T01:54:54.712452",
     "status": "completed"
    },
    "tags": []
   },
   "source": [
    "## Išplėstinė koreliacijų matrica. "
   ]
  },
  {
   "cell_type": "code",
   "execution_count": 7,
   "id": "atomic-omaha",
   "metadata": {
    "execution": {
     "iopub.execute_input": "2021-01-29T01:54:54.755101Z",
     "iopub.status.busy": "2021-01-29T01:54:54.754557Z",
     "iopub.status.idle": "2021-01-29T01:54:56.039249Z",
     "shell.execute_reply": "2021-01-29T01:54:56.038729Z"
    },
    "papermill": {
     "duration": 1.301317,
     "end_time": "2021-01-29T01:54:56.039383",
     "exception": false,
     "start_time": "2021-01-29T01:54:54.738066",
     "status": "completed"
    },
    "tags": []
   },
   "outputs": [
    {
     "data": {
      "image/png": "[encoded data removed]",
      "text/plain": [
       "<Figure size 1080x792 with 2 Axes>"
      ]
     },
     "metadata": {
      "needs_background": "light"
     },
     "output_type": "display_data"
    }
   ],
   "source": [
    "#hide_input\n",
    "plt.figure(figsize=(15, 11))\n",
    "sns.heatmap(df_all[sum_corr].corr(), annot=True, cmap=\"cubehelix\") \n",
    "sns.set(font_scale=1.25)\n",
    "plt.savefig('corr_matrix.png', format='eps')"
   ]
  },
  {
   "cell_type": "code",
   "execution_count": 8,
   "id": "arbitrary-sullivan",
   "metadata": {
    "execution": {
     "iopub.execute_input": "2021-01-29T01:54:56.081006Z",
     "iopub.status.busy": "2021-01-29T01:54:56.079026Z",
     "iopub.status.idle": "2021-01-29T01:54:56.106376Z",
     "shell.execute_reply": "2021-01-29T01:54:56.105709Z"
    },
    "papermill": {
     "duration": 0.052127,
     "end_time": "2021-01-29T01:54:56.106550",
     "exception": false,
     "start_time": "2021-01-29T01:54:56.054423",
     "status": "completed"
    },
    "tags": []
   },
   "outputs": [],
   "source": [
    "#hide\n",
    "#df_all_mrk = read_api()"
   ]
  },
  {
   "cell_type": "code",
   "execution_count": 9,
   "id": "delayed-adapter",
   "metadata": {
    "execution": {
     "iopub.execute_input": "2021-01-29T01:54:56.144225Z",
     "iopub.status.busy": "2021-01-29T01:54:56.142895Z",
     "iopub.status.idle": "2021-01-29T01:54:56.169450Z",
     "shell.execute_reply": "2021-01-29T01:54:56.168877Z"
    },
    "papermill": {
     "duration": 0.046403,
     "end_time": "2021-01-29T01:54:56.169601",
     "exception": false,
     "start_time": "2021-01-29T01:54:56.123198",
     "status": "completed"
    },
    "tags": []
   },
   "outputs": [],
   "source": [
    "#hide\n",
    "#Koreliacijų koeficientai"
   ]
  },
  {
   "cell_type": "code",
   "execution_count": 10,
   "id": "seeing-celebration",
   "metadata": {
    "execution": {
     "iopub.execute_input": "2021-01-29T01:54:56.205222Z",
     "iopub.status.busy": "2021-01-29T01:54:56.204574Z",
     "iopub.status.idle": "2021-01-29T01:54:56.230039Z",
     "shell.execute_reply": "2021-01-29T01:54:56.229458Z"
    },
    "papermill": {
     "duration": 0.045514,
     "end_time": "2021-01-29T01:54:56.230177",
     "exception": false,
     "start_time": "2021-01-29T01:54:56.184663",
     "status": "completed"
    },
    "tags": []
   },
   "outputs": [],
   "source": [
    "#hide_input\n",
    "#sum_corr = df_all_mrk.corr().sum().sort_values(ascending=True).index.values\n",
    "#df_all_mrk[sum_corr].corr()"
   ]
  },
  {
   "cell_type": "code",
   "execution_count": 11,
   "id": "other-painting",
   "metadata": {
    "execution": {
     "iopub.execute_input": "2021-01-29T01:54:56.263663Z",
     "iopub.status.busy": "2021-01-29T01:54:56.263075Z",
     "iopub.status.idle": "2021-01-29T01:54:56.289633Z",
     "shell.execute_reply": "2021-01-29T01:54:56.289033Z"
    },
    "papermill": {
     "duration": 0.044697,
     "end_time": "2021-01-29T01:54:56.289776",
     "exception": false,
     "start_time": "2021-01-29T01:54:56.245079",
     "status": "completed"
    },
    "tags": []
   },
   "outputs": [],
   "source": [
    "#hide\n",
    "#Koreliacijos matrica. "
   ]
  },
  {
   "cell_type": "code",
   "execution_count": 12,
   "id": "modular-magnitude",
   "metadata": {
    "execution": {
     "iopub.execute_input": "2021-01-29T01:54:56.325745Z",
     "iopub.status.busy": "2021-01-29T01:54:56.325150Z",
     "iopub.status.idle": "2021-01-29T01:54:56.351195Z",
     "shell.execute_reply": "2021-01-29T01:54:56.351726Z"
    },
    "papermill": {
     "duration": 0.047384,
     "end_time": "2021-01-29T01:54:56.351897",
     "exception": false,
     "start_time": "2021-01-29T01:54:56.304513",
     "status": "completed"
    },
    "tags": []
   },
   "outputs": [],
   "source": [
    "#hide_input\n",
    "#plt.figure(figsize=(15, 8))\n",
    "#sns.heatmap(df_all_mrk[sum_corr].corr(), annot=True, cmap=\"BrBG\");\n",
    "#plt.savefig('corr_matrix_all.eps', format='eps')"
   ]
  },
  {
   "cell_type": "code",
   "execution_count": null,
   "id": "original-senator",
   "metadata": {
    "papermill": {
     "duration": 0.015411,
     "end_time": "2021-01-29T01:54:56.383073",
     "exception": false,
     "start_time": "2021-01-29T01:54:56.367662",
     "status": "completed"
    },
    "tags": []
   },
   "outputs": [],
   "source": []
  },
  {
   "cell_type": "code",
   "execution_count": null,
   "id": "saving-secretariat",
   "metadata": {
    "papermill": {
     "duration": 0.014549,
     "end_time": "2021-01-29T01:54:56.412325",
     "exception": false,
     "start_time": "2021-01-29T01:54:56.397776",
     "status": "completed"
    },
    "tags": []
   },
   "outputs": [],
   "source": []
  }
 ],
 "metadata": {
  "kernelspec": {
   "display_name": "Python 3",
   "language": "python",
   "name": "python3"
  },
  "language_info": {
   "codemirror_mode": {
    "name": "ipython",
    "version": 3
   },
   "file_extension": ".py",
   "mimetype": "text/x-python",
   "name": "python",
   "nbconvert_exporter": "python",
   "pygments_lexer": "ipython3",
   "version": "3.6.12"
  },
  "papermill": {
   "default_parameters": {},
   "duration": 24.279358,
   "end_time": "2021-01-29T01:54:56.936911",
   "environment_variables": {},
   "exception": null,
   "input_path": "App-Correlation_charts.ipynb",
   "output_path": "App-Correlation_charts.ipynb",
   "parameters": {},
   "start_time": "2021-01-29T01:54:32.657553",
   "version": "2.2.2"
  }
 },
 "nbformat": 4,
 "nbformat_minor": 5
}