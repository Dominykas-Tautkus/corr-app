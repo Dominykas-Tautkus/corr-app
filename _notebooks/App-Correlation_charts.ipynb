{
 "cells": [
  {
   "cell_type": "markdown",
   "id": "touched-facility",
   "metadata": {
    "papermill": {
     "duration": 0.018974,
     "end_time": "2021-02-14T01:38:55.712009",
     "exception": false,
     "start_time": "2021-02-14T01:38:55.693035",
     "status": "completed"
    },
    "tags": []
   },
   "source": [
    "# Koreliacijų matrica\n",
    "> Išplėstinė koreliacijų matrica. \n",
    "\n",
    "- toc: true \n",
    "- badges: true\n",
    "- comments: false\n",
    "- categories: [Dominykas Tautkus]\n",
    "- image: images/matrix.png"
   ]
  },
  {
   "cell_type": "code",
   "execution_count": null,
   "id": "premium-weekend",
   "metadata": {
    "papermill": {
     "duration": 0.013124,
     "end_time": "2021-02-14T01:38:55.738384",
     "exception": false,
     "start_time": "2021-02-14T01:38:55.725260",
     "status": "completed"
    },
    "tags": []
   },
   "outputs": [],
   "source": []
  },
  {
   "cell_type": "code",
   "execution_count": 1,
   "id": "vertical-rebate",
   "metadata": {
    "execution": {
     "iopub.execute_input": "2021-02-14T01:38:55.773475Z",
     "iopub.status.busy": "2021-02-14T01:38:55.772896Z",
     "iopub.status.idle": "2021-02-14T01:38:55.787979Z",
     "shell.execute_reply": "2021-02-14T01:38:55.787236Z"
    },
    "papermill": {
     "duration": 0.035872,
     "end_time": "2021-02-14T01:38:55.788228",
     "exception": false,
     "start_time": "2021-02-14T01:38:55.752356",
     "status": "completed"
    },
    "tags": []
   },
   "outputs": [],
   "source": [
    "#hide\n",
    "%load_ext autoreload\n",
    "%autoreload 2"
   ]
  },
  {
   "cell_type": "code",
   "execution_count": 2,
   "id": "overall-advancement",
   "metadata": {
    "execution": {
     "iopub.execute_input": "2021-02-14T01:38:55.819456Z",
     "iopub.status.busy": "2021-02-14T01:38:55.818786Z",
     "iopub.status.idle": "2021-02-14T01:38:57.434402Z",
     "shell.execute_reply": "2021-02-14T01:38:57.433775Z"
    },
    "papermill": {
     "duration": 1.632593,
     "end_time": "2021-02-14T01:38:57.434556",
     "exception": false,
     "start_time": "2021-02-14T01:38:55.801963",
     "status": "completed"
    },
    "tags": []
   },
   "outputs": [],
   "source": [
    "#hide\n",
    "from scripts.read_data import read_api\n",
    "from IPython.display import HTML\n",
    "import plotly.graph_objects as go\n"
   ]
  },
  {
   "cell_type": "code",
   "execution_count": 3,
   "id": "light-crazy",
   "metadata": {
    "execution": {
     "iopub.execute_input": "2021-02-14T01:38:57.468591Z",
     "iopub.status.busy": "2021-02-14T01:38:57.467854Z",
     "iopub.status.idle": "2021-02-14T01:38:57.493783Z",
     "shell.execute_reply": "2021-02-14T01:38:57.492781Z"
    },
    "papermill": {
     "duration": 0.045175,
     "end_time": "2021-02-14T01:38:57.493939",
     "exception": false,
     "start_time": "2021-02-14T01:38:57.448764",
     "status": "completed"
    },
    "tags": []
   },
   "outputs": [],
   "source": [
    "#hide\n",
    "### ICO koreliacija"
   ]
  },
  {
   "cell_type": "code",
   "execution_count": 4,
   "id": "likely-bahrain",
   "metadata": {
    "execution": {
     "iopub.execute_input": "2021-02-14T01:38:57.527971Z",
     "iopub.status.busy": "2021-02-14T01:38:57.527239Z",
     "iopub.status.idle": "2021-02-14T01:39:01.197813Z",
     "shell.execute_reply": "2021-02-14T01:39:01.196527Z"
    },
    "papermill": {
     "duration": 3.690424,
     "end_time": "2021-02-14T01:39:01.197967",
     "exception": false,
     "start_time": "2021-02-14T01:38:57.507543",
     "status": "completed"
    },
    "tags": []
   },
   "outputs": [],
   "source": [
    "#hide\n",
    "import matplotlib.pyplot as plt\n",
    "import numpy as np\n",
    "import pandas as pd\n",
    "import seaborn as sns\n",
    "import matplotlib.pyplot as plt \n",
    "import matplotlib.dates as mdates\n",
    "import matplotlib.pyplot as plt"
   ]
  },
  {
   "cell_type": "code",
   "execution_count": 5,
   "id": "superior-blanket",
   "metadata": {
    "execution": {
     "iopub.execute_input": "2021-02-14T01:39:01.231677Z",
     "iopub.status.busy": "2021-02-14T01:39:01.230909Z",
     "iopub.status.idle": "2021-02-14T01:39:14.181380Z",
     "shell.execute_reply": "2021-02-14T01:39:14.181938Z"
    },
    "papermill": {
     "duration": 12.970036,
     "end_time": "2021-02-14T01:39:14.182123",
     "exception": false,
     "start_time": "2021-02-14T01:39:01.212087",
     "status": "completed"
    },
    "tags": []
   },
   "outputs": [
    {
     "name": "stderr",
     "output_type": "stream",
     "text": [
      "/home/runner/work/corr-app/corr-app/_notebooks/scripts/read_data.py:187: SettingWithCopyWarning:\n",
      "\n",
      "\n",
      "A value is trying to be set on a copy of a slice from a DataFrame.\n",
      "Try using .loc[row_indexer,col_indexer] = value instead\n",
      "\n",
      "See the caveats in the documentation: https://pandas.pydata.org/pandas-docs/stable/user_guide/indexing.html#returning-a-view-versus-a-copy\n",
      "\n"
     ]
    },
    {
     "name": "stderr",
     "output_type": "stream",
     "text": [
      "/home/runner/work/corr-app/corr-app/_notebooks/scripts/read_data.py:215: SettingWithCopyWarning:\n",
      "\n",
      "\n",
      "A value is trying to be set on a copy of a slice from a DataFrame.\n",
      "Try using .loc[row_indexer,col_indexer] = value instead\n",
      "\n",
      "See the caveats in the documentation: https://pandas.pydata.org/pandas-docs/stable/user_guide/indexing.html#returning-a-view-versus-a-copy\n",
      "\n"
     ]
    }
   ],
   "source": [
    "#hide\n",
    "df_all = read_api()\n",
    "#df_all = df_all.drop(['SP500', 'XAU', 'ETH', 'BTC'], axis=1)\n",
    "\n"
   ]
  },
  {
   "cell_type": "code",
   "execution_count": 6,
   "id": "mature-alert",
   "metadata": {
    "execution": {
     "iopub.execute_input": "2021-02-14T01:39:14.217453Z",
     "iopub.status.busy": "2021-02-14T01:39:14.216590Z",
     "iopub.status.idle": "2021-02-14T01:39:14.250050Z",
     "shell.execute_reply": "2021-02-14T01:39:14.249367Z"
    },
    "papermill": {
     "duration": 0.053163,
     "end_time": "2021-02-14T01:39:14.250195",
     "exception": false,
     "start_time": "2021-02-14T01:39:14.197032",
     "status": "completed"
    },
    "tags": []
   },
   "outputs": [],
   "source": [
    "#hide_input\n",
    "sum_corr = df_all.corr().sum().sort_values(ascending=True).index.values\n",
    "#df_all[sum_corr].corr()"
   ]
  },
  {
   "cell_type": "markdown",
   "id": "complex-syndicate",
   "metadata": {
    "papermill": {
     "duration": 0.013924,
     "end_time": "2021-02-14T01:39:14.279290",
     "exception": false,
     "start_time": "2021-02-14T01:39:14.265366",
     "status": "completed"
    },
    "tags": []
   },
   "source": [
    "## Išplėstinė koreliacijų matrica. "
   ]
  },
  {
   "cell_type": "code",
   "execution_count": 7,
   "id": "atomic-omaha",
   "metadata": {
    "execution": {
     "iopub.execute_input": "2021-02-14T01:39:14.317873Z",
     "iopub.status.busy": "2021-02-14T01:39:14.317181Z",
     "iopub.status.idle": "2021-02-14T01:39:15.858996Z",
     "shell.execute_reply": "2021-02-14T01:39:15.858375Z"
    },
    "papermill": {
     "duration": 1.56501,
     "end_time": "2021-02-14T01:39:15.859137",
     "exception": false,
     "start_time": "2021-02-14T01:39:14.294127",
     "status": "completed"
    },
    "tags": []
   },
   "outputs": [
    {
     "data": {
      "image/png": "[encoded data removed]",
      "text/plain": [
       "<Figure size 1080x792 with 2 Axes>"
      ]
     },
     "metadata": {
      "needs_background": "light"
     },
     "output_type": "display_data"
    }
   ],
   "source": [
    "#hide_input\n",
    "plt.figure(figsize=(15, 11))\n",
    "sns.heatmap(df_all[sum_corr].corr(), annot=True, cmap=\"cubehelix\") \n",
    "sns.set(font_scale=1.25)\n",
    "plt.savefig('corr_matrix.png', format='eps')"
   ]
  },
  {
   "cell_type": "code",
   "execution_count": 8,
   "id": "arbitrary-sullivan",
   "metadata": {
    "execution": {
     "iopub.execute_input": "2021-02-14T01:39:15.898378Z",
     "iopub.status.busy": "2021-02-14T01:39:15.897692Z",
     "iopub.status.idle": "2021-02-14T01:39:15.925749Z",
     "shell.execute_reply": "2021-02-14T01:39:15.925158Z"
    },
    "papermill": {
     "duration": 0.04931,
     "end_time": "2021-02-14T01:39:15.925892",
     "exception": false,
     "start_time": "2021-02-14T01:39:15.876582",
     "status": "completed"
    },
    "tags": []
   },
   "outputs": [],
   "source": [
    "#hide\n",
    "#df_all_mrk = read_api()"
   ]
  },
  {
   "cell_type": "code",
   "execution_count": 9,
   "id": "delayed-adapter",
   "metadata": {
    "execution": {
     "iopub.execute_input": "2021-02-14T01:39:15.970348Z",
     "iopub.status.busy": "2021-02-14T01:39:15.969328Z",
     "iopub.status.idle": "2021-02-14T01:39:15.995312Z",
     "shell.execute_reply": "2021-02-14T01:39:15.994780Z"
    },
    "papermill": {
     "duration": 0.053141,
     "end_time": "2021-02-14T01:39:15.995449",
     "exception": false,
     "start_time": "2021-02-14T01:39:15.942308",
     "status": "completed"
    },
    "tags": []
   },
   "outputs": [],
   "source": [
    "#hide\n",
    "#Koreliacijų koeficientai"
   ]
  },
  {
   "cell_type": "code",
   "execution_count": 10,
   "id": "seeing-celebration",
   "metadata": {
    "execution": {
     "iopub.execute_input": "2021-02-14T01:39:16.043535Z",
     "iopub.status.busy": "2021-02-14T01:39:16.042893Z",
     "iopub.status.idle": "2021-02-14T01:39:16.067149Z",
     "shell.execute_reply": "2021-02-14T01:39:16.067698Z"
    },
    "papermill": {
     "duration": 0.055948,
     "end_time": "2021-02-14T01:39:16.067899",
     "exception": false,
     "start_time": "2021-02-14T01:39:16.011951",
     "status": "completed"
    },
    "tags": []
   },
   "outputs": [],
   "source": [
    "#hide_input\n",
    "#sum_corr = df_all_mrk.corr().sum().sort_values(ascending=True).index.values\n",
    "#df_all_mrk[sum_corr].corr()"
   ]
  },
  {
   "cell_type": "code",
   "execution_count": 11,
   "id": "other-painting",
   "metadata": {
    "execution": {
     "iopub.execute_input": "2021-02-14T01:39:16.116827Z",
     "iopub.status.busy": "2021-02-14T01:39:16.111852Z",
     "iopub.status.idle": "2021-02-14T01:39:16.139034Z",
     "shell.execute_reply": "2021-02-14T01:39:16.139896Z"
    },
    "papermill": {
     "duration": 0.05378,
     "end_time": "2021-02-14T01:39:16.140080",
     "exception": false,
     "start_time": "2021-02-14T01:39:16.086300",
     "status": "completed"
    },
    "tags": []
   },
   "outputs": [],
   "source": [
    "#hide\n",
    "#Koreliacijos matrica. "
   ]
  },
  {
   "cell_type": "code",
   "execution_count": 12,
   "id": "modular-magnitude",
   "metadata": {
    "execution": {
     "iopub.execute_input": "2021-02-14T01:39:16.177972Z",
     "iopub.status.busy": "2021-02-14T01:39:16.177303Z",
     "iopub.status.idle": "2021-02-14T01:39:16.207260Z",
     "shell.execute_reply": "2021-02-14T01:39:16.207843Z"
    },
    "papermill": {
     "duration": 0.051105,
     "end_time": "2021-02-14T01:39:16.208071",
     "exception": false,
     "start_time": "2021-02-14T01:39:16.156966",
     "status": "completed"
    },
    "tags": []
   },
   "outputs": [],
   "source": [
    "#hide_input\n",
    "#plt.figure(figsize=(15, 8))\n",
    "#sns.heatmap(df_all_mrk[sum_corr].corr(), annot=True, cmap=\"BrBG\");\n",
    "#plt.savefig('corr_matrix_all.eps', format='eps')"
   ]
  },
  {
   "cell_type": "code",
   "execution_count": null,
   "id": "original-senator",
   "metadata": {
    "papermill": {
     "duration": 0.015201,
     "end_time": "2021-02-14T01:39:16.240605",
     "exception": false,
     "start_time": "2021-02-14T01:39:16.225404",
     "status": "completed"
    },
    "tags": []
   },
   "outputs": [],
   "source": []
  },
  {
   "cell_type": "code",
   "execution_count": null,
   "id": "saving-secretariat",
   "metadata": {
    "papermill": {
     "duration": 0.015795,
     "end_time": "2021-02-14T01:39:16.272350",
     "exception": false,
     "start_time": "2021-02-14T01:39:16.256555",
     "status": "completed"
    },
    "tags": []
   },
   "outputs": [],
   "source": []
  }
 ],
 "metadata": {
  "kernelspec": {
   "display_name": "Python 3",
   "language": "python",
   "name": "python3"
  },
  "language_info": {
   "codemirror_mode": {
    "name": "ipython",
    "version": 3
   },
   "file_extension": ".py",
   "mimetype": "text/x-python",
   "name": "python",
   "nbconvert_exporter": "python",
   "pygments_lexer": "ipython3",
   "version": "3.6.12"
  },
  "papermill": {
   "default_parameters": {},
   "duration": 22.274068,
   "end_time": "2021-02-14T01:39:16.802516",
   "environment_variables": {},
   "exception": null,
   "input_path": "App-Correlation_charts.ipynb",
   "output_path": "App-Correlation_charts.ipynb",
   "parameters": {},
   "start_time": "2021-02-14T01:38:54.528448",
   "version": "2.2.2"
  }
 },
 "nbformat": 4,
 "nbformat_minor": 5
}