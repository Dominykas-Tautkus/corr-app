{
 "cells": [
  {
   "cell_type": "markdown",
   "id": "touched-facility",
   "metadata": {
    "papermill": {
     "duration": 0.014808,
     "end_time": "2021-07-15T01:58:37.328066",
     "exception": false,
     "start_time": "2021-07-15T01:58:37.313258",
     "status": "completed"
    },
    "tags": []
   },
   "source": [
    "# Koreliacijų matrica\n",
    "> Išplėstinė koreliacijų matrica. \n",
    "\n",
    "- toc: true \n",
    "- badges: true\n",
    "- comments: false\n",
    "- categories: [Dominykas Tautkus]\n",
    "- image: images/matrix.png"
   ]
  },
  {
   "cell_type": "code",
   "execution_count": null,
   "id": "premium-weekend",
   "metadata": {
    "papermill": {
     "duration": 0.01111,
     "end_time": "2021-07-15T01:58:37.350649",
     "exception": false,
     "start_time": "2021-07-15T01:58:37.339539",
     "status": "completed"
    },
    "tags": []
   },
   "outputs": [],
   "source": []
  },
  {
   "cell_type": "code",
   "execution_count": 1,
   "id": "vertical-rebate",
   "metadata": {
    "execution": {
     "iopub.execute_input": "2021-07-15T01:58:37.382567Z",
     "iopub.status.busy": "2021-07-15T01:58:37.382036Z",
     "iopub.status.idle": "2021-07-15T01:58:37.391835Z",
     "shell.execute_reply": "2021-07-15T01:58:37.392340Z"
    },
    "papermill": {
     "duration": 0.031147,
     "end_time": "2021-07-15T01:58:37.392489",
     "exception": false,
     "start_time": "2021-07-15T01:58:37.361342",
     "status": "completed"
    },
    "tags": []
   },
   "outputs": [],
   "source": [
    "#hide\n",
    "%load_ext autoreload\n",
    "%autoreload 2"
   ]
  },
  {
   "cell_type": "code",
   "execution_count": 2,
   "id": "overall-advancement",
   "metadata": {
    "execution": {
     "iopub.execute_input": "2021-07-15T01:58:37.428818Z",
     "iopub.status.busy": "2021-07-15T01:58:37.425901Z",
     "iopub.status.idle": "2021-07-15T01:58:38.452287Z",
     "shell.execute_reply": "2021-07-15T01:58:38.451701Z"
    },
    "papermill": {
     "duration": 1.049008,
     "end_time": "2021-07-15T01:58:38.452436",
     "exception": false,
     "start_time": "2021-07-15T01:58:37.403428",
     "status": "completed"
    },
    "tags": []
   },
   "outputs": [],
   "source": [
    "#hide\n",
    "from scripts.read_data import read_api\n",
    "from IPython.display import HTML\n",
    "import plotly.graph_objects as go\n"
   ]
  },
  {
   "cell_type": "code",
   "execution_count": 3,
   "id": "light-crazy",
   "metadata": {
    "execution": {
     "iopub.execute_input": "2021-07-15T01:58:38.492604Z",
     "iopub.status.busy": "2021-07-15T01:58:38.489771Z",
     "iopub.status.idle": "2021-07-15T01:58:38.505898Z",
     "shell.execute_reply": "2021-07-15T01:58:38.506285Z"
    },
    "papermill": {
     "duration": 0.042902,
     "end_time": "2021-07-15T01:58:38.506420",
     "exception": false,
     "start_time": "2021-07-15T01:58:38.463518",
     "status": "completed"
    },
    "tags": []
   },
   "outputs": [],
   "source": [
    "#hide\n",
    "### ICO koreliacija"
   ]
  },
  {
   "cell_type": "code",
   "execution_count": 4,
   "id": "likely-bahrain",
   "metadata": {
    "execution": {
     "iopub.execute_input": "2021-07-15T01:58:38.594977Z",
     "iopub.status.busy": "2021-07-15T01:58:38.593956Z",
     "iopub.status.idle": "2021-07-15T01:58:39.397701Z",
     "shell.execute_reply": "2021-07-15T01:58:39.396810Z"
    },
    "papermill": {
     "duration": 0.88055,
     "end_time": "2021-07-15T01:58:39.397843",
     "exception": false,
     "start_time": "2021-07-15T01:58:38.517293",
     "status": "completed"
    },
    "tags": []
   },
   "outputs": [],
   "source": [
    "#hide\n",
    "import matplotlib.pyplot as plt\n",
    "import numpy as np\n",
    "import pandas as pd\n",
    "import seaborn as sns\n",
    "import matplotlib.pyplot as plt \n",
    "import matplotlib.dates as mdates\n",
    "import matplotlib.pyplot as plt"
   ]
  },
  {
   "cell_type": "code",
   "execution_count": 5,
   "id": "superior-blanket",
   "metadata": {
    "execution": {
     "iopub.execute_input": "2021-07-15T01:58:39.424899Z",
     "iopub.status.busy": "2021-07-15T01:58:39.424364Z",
     "iopub.status.idle": "2021-07-15T01:58:49.385939Z",
     "shell.execute_reply": "2021-07-15T01:58:49.385058Z"
    },
    "papermill": {
     "duration": 9.976676,
     "end_time": "2021-07-15T01:58:49.386087",
     "exception": false,
     "start_time": "2021-07-15T01:58:39.409411",
     "status": "completed"
    },
    "tags": []
   },
   "outputs": [
    {
     "name": "stderr",
     "output_type": "stream",
     "text": [
      "/home/runner/work/corr-app/corr-app/_notebooks/scripts/read_data.py:187: SettingWithCopyWarning:\n",
      "\n",
      "\n",
      "A value is trying to be set on a copy of a slice from a DataFrame.\n",
      "Try using .loc[row_indexer,col_indexer] = value instead\n",
      "\n",
      "See the caveats in the documentation: https://pandas.pydata.org/pandas-docs/stable/user_guide/indexing.html#returning-a-view-versus-a-copy\n",
      "\n"
     ]
    },
    {
     "name": "stderr",
     "output_type": "stream",
     "text": [
      "/home/runner/work/corr-app/corr-app/_notebooks/scripts/read_data.py:215: SettingWithCopyWarning:\n",
      "\n",
      "\n",
      "A value is trying to be set on a copy of a slice from a DataFrame.\n",
      "Try using .loc[row_indexer,col_indexer] = value instead\n",
      "\n",
      "See the caveats in the documentation: https://pandas.pydata.org/pandas-docs/stable/user_guide/indexing.html#returning-a-view-versus-a-copy\n",
      "\n"
     ]
    }
   ],
   "source": [
    "#hide\n",
    "df_all = read_api()\n",
    "#df_all = df_all.drop(['SP500', 'XAU', 'ETH', 'BTC'], axis=1)\n",
    "\n"
   ]
  },
  {
   "cell_type": "code",
   "execution_count": 6,
   "id": "mature-alert",
   "metadata": {
    "execution": {
     "iopub.execute_input": "2021-07-15T01:58:49.414812Z",
     "iopub.status.busy": "2021-07-15T01:58:49.414294Z",
     "iopub.status.idle": "2021-07-15T01:58:49.443206Z",
     "shell.execute_reply": "2021-07-15T01:58:49.443654Z"
    },
    "papermill": {
     "duration": 0.045025,
     "end_time": "2021-07-15T01:58:49.443808",
     "exception": false,
     "start_time": "2021-07-15T01:58:49.398783",
     "status": "completed"
    },
    "tags": []
   },
   "outputs": [],
   "source": [
    "#hide_input\n",
    "sum_corr = df_all.corr().sum().sort_values(ascending=True).index.values\n",
    "#df_all[sum_corr].corr()"
   ]
  },
  {
   "cell_type": "markdown",
   "id": "complex-syndicate",
   "metadata": {
    "papermill": {
     "duration": 0.011486,
     "end_time": "2021-07-15T01:58:49.466729",
     "exception": false,
     "start_time": "2021-07-15T01:58:49.455243",
     "status": "completed"
    },
    "tags": []
   },
   "source": [
    "## Išplėstinė koreliacijų matrica. "
   ]
  },
  {
   "cell_type": "code",
   "execution_count": 7,
   "id": "atomic-omaha",
   "metadata": {
    "execution": {
     "iopub.execute_input": "2021-07-15T01:58:49.500648Z",
     "iopub.status.busy": "2021-07-15T01:58:49.493321Z",
     "iopub.status.idle": "2021-07-15T01:58:50.635129Z",
     "shell.execute_reply": "2021-07-15T01:58:50.635535Z"
    },
    "papermill": {
     "duration": 1.157599,
     "end_time": "2021-07-15T01:58:50.635672",
     "exception": false,
     "start_time": "2021-07-15T01:58:49.478073",
     "status": "completed"
    },
    "tags": []
   },
   "outputs": [
    {
     "data": {
      "image/png": "[encoded data removed]",
      "text/plain": [
       "<Figure size 1080x792 with 2 Axes>"
      ]
     },
     "metadata": {
      "needs_background": "light"
     },
     "output_type": "display_data"
    }
   ],
   "source": [
    "#hide_input\n",
    "plt.figure(figsize=(15, 11))\n",
    "sns.heatmap(df_all[sum_corr].corr(), annot=True, cmap=\"cubehelix\") \n",
    "sns.set(font_scale=1.25)\n",
    "plt.savefig('corr_matrix.png', format='eps')"
   ]
  },
  {
   "cell_type": "code",
   "execution_count": 8,
   "id": "arbitrary-sullivan",
   "metadata": {
    "execution": {
     "iopub.execute_input": "2021-07-15T01:58:50.676812Z",
     "iopub.status.busy": "2021-07-15T01:58:50.673865Z",
     "iopub.status.idle": "2021-07-15T01:58:50.695206Z",
     "shell.execute_reply": "2021-07-15T01:58:50.695632Z"
    },
    "papermill": {
     "duration": 0.046408,
     "end_time": "2021-07-15T01:58:50.695766",
     "exception": false,
     "start_time": "2021-07-15T01:58:50.649358",
     "status": "completed"
    },
    "tags": []
   },
   "outputs": [],
   "source": [
    "#hide\n",
    "#df_all_mrk = read_api()"
   ]
  },
  {
   "cell_type": "code",
   "execution_count": 9,
   "id": "delayed-adapter",
   "metadata": {
    "execution": {
     "iopub.execute_input": "2021-07-15T01:58:50.726218Z",
     "iopub.status.busy": "2021-07-15T01:58:50.725716Z",
     "iopub.status.idle": "2021-07-15T01:58:50.751596Z",
     "shell.execute_reply": "2021-07-15T01:58:50.751079Z"
    },
    "papermill": {
     "duration": 0.042576,
     "end_time": "2021-07-15T01:58:50.751725",
     "exception": false,
     "start_time": "2021-07-15T01:58:50.709149",
     "status": "completed"
    },
    "tags": []
   },
   "outputs": [],
   "source": [
    "#hide\n",
    "#Koreliacijų koeficientai"
   ]
  },
  {
   "cell_type": "code",
   "execution_count": 10,
   "id": "seeing-celebration",
   "metadata": {
    "execution": {
     "iopub.execute_input": "2021-07-15T01:58:50.789170Z",
     "iopub.status.busy": "2021-07-15T01:58:50.788665Z",
     "iopub.status.idle": "2021-07-15T01:58:50.809459Z",
     "shell.execute_reply": "2021-07-15T01:58:50.808994Z"
    },
    "papermill": {
     "duration": 0.044153,
     "end_time": "2021-07-15T01:58:50.809586",
     "exception": false,
     "start_time": "2021-07-15T01:58:50.765433",
     "status": "completed"
    },
    "tags": []
   },
   "outputs": [],
   "source": [
    "#hide_input\n",
    "#sum_corr = df_all_mrk.corr().sum().sort_values(ascending=True).index.values\n",
    "#df_all_mrk[sum_corr].corr()"
   ]
  },
  {
   "cell_type": "code",
   "execution_count": 11,
   "id": "other-painting",
   "metadata": {
    "execution": {
     "iopub.execute_input": "2021-07-15T01:58:50.840834Z",
     "iopub.status.busy": "2021-07-15T01:58:50.840336Z",
     "iopub.status.idle": "2021-07-15T01:58:50.865538Z",
     "shell.execute_reply": "2021-07-15T01:58:50.865076Z"
    },
    "papermill": {
     "duration": 0.042047,
     "end_time": "2021-07-15T01:58:50.865663",
     "exception": false,
     "start_time": "2021-07-15T01:58:50.823616",
     "status": "completed"
    },
    "tags": []
   },
   "outputs": [],
   "source": [
    "#hide\n",
    "#Koreliacijos matrica. "
   ]
  },
  {
   "cell_type": "code",
   "execution_count": 12,
   "id": "modular-magnitude",
   "metadata": {
    "execution": {
     "iopub.execute_input": "2021-07-15T01:58:50.900158Z",
     "iopub.status.busy": "2021-07-15T01:58:50.899635Z",
     "iopub.status.idle": "2021-07-15T01:58:50.922732Z",
     "shell.execute_reply": "2021-07-15T01:58:50.922248Z"
    },
    "papermill": {
     "duration": 0.043636,
     "end_time": "2021-07-15T01:58:50.922850",
     "exception": false,
     "start_time": "2021-07-15T01:58:50.879214",
     "status": "completed"
    },
    "tags": []
   },
   "outputs": [],
   "source": [
    "#hide_input\n",
    "#plt.figure(figsize=(15, 8))\n",
    "#sns.heatmap(df_all_mrk[sum_corr].corr(), annot=True, cmap=\"BrBG\");\n",
    "#plt.savefig('corr_matrix_all.eps', format='eps')"
   ]
  },
  {
   "cell_type": "code",
   "execution_count": null,
   "id": "original-senator",
   "metadata": {
    "papermill": {
     "duration": 0.013154,
     "end_time": "2021-07-15T01:58:50.949672",
     "exception": false,
     "start_time": "2021-07-15T01:58:50.936518",
     "status": "completed"
    },
    "tags": []
   },
   "outputs": [],
   "source": []
  },
  {
   "cell_type": "code",
   "execution_count": null,
   "id": "saving-secretariat",
   "metadata": {
    "papermill": {
     "duration": 0.01313,
     "end_time": "2021-07-15T01:58:50.975986",
     "exception": false,
     "start_time": "2021-07-15T01:58:50.962856",
     "status": "completed"
    },
    "tags": []
   },
   "outputs": [],
   "source": []
  }
 ],
 "metadata": {
  "kernelspec": {
   "display_name": "Python 3",
   "language": "python",
   "name": "python3"
  },
  "language_info": {
   "codemirror_mode": {
    "name": "ipython",
    "version": 3
   },
   "file_extension": ".py",
   "mimetype": "text/x-python",
   "name": "python",
   "nbconvert_exporter": "python",
   "pygments_lexer": "ipython3",
   "version": "3.6.13"
  },
  "papermill": {
   "default_parameters": {},
   "duration": 15.221509,
   "end_time": "2021-07-15T01:58:51.498346",
   "environment_variables": {},
   "exception": null,
   "input_path": "App-Correlation_charts.ipynb",
   "output_path": "App-Correlation_charts.ipynb",
   "parameters": {},
   "start_time": "2021-07-15T01:58:36.276837",
   "version": "2.2.2"
  }
 },
 "nbformat": 4,
 "nbformat_minor": 5
}