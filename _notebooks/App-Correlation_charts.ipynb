{
 "cells": [
  {
   "cell_type": "markdown",
   "id": "touched-facility",
   "metadata": {
    "papermill": {
     "duration": 0.01773,
     "end_time": "2021-01-22T02:48:01.717776",
     "exception": false,
     "start_time": "2021-01-22T02:48:01.700046",
     "status": "completed"
    },
    "tags": []
   },
   "source": [
    "# Koreliacijų matrica\n",
    "> Išplėstinė koreliacijų matrica. \n",
    "\n",
    "- toc: true \n",
    "- badges: true\n",
    "- comments: false\n",
    "- categories: [Dominykas Tautkus]\n",
    "- image: images/matrix.png"
   ]
  },
  {
   "cell_type": "code",
   "execution_count": null,
   "id": "premium-weekend",
   "metadata": {
    "papermill": {
     "duration": 0.012481,
     "end_time": "2021-01-22T02:48:01.743609",
     "exception": false,
     "start_time": "2021-01-22T02:48:01.731128",
     "status": "completed"
    },
    "tags": []
   },
   "outputs": [],
   "source": []
  },
  {
   "cell_type": "code",
   "execution_count": 1,
   "id": "vertical-rebate",
   "metadata": {
    "execution": {
     "iopub.execute_input": "2021-01-22T02:48:01.780900Z",
     "iopub.status.busy": "2021-01-22T02:48:01.780160Z",
     "iopub.status.idle": "2021-01-22T02:48:01.792023Z",
     "shell.execute_reply": "2021-01-22T02:48:01.791354Z"
    },
    "papermill": {
     "duration": 0.035511,
     "end_time": "2021-01-22T02:48:01.792169",
     "exception": false,
     "start_time": "2021-01-22T02:48:01.756658",
     "status": "completed"
    },
    "tags": []
   },
   "outputs": [],
   "source": [
    "#hide\n",
    "%load_ext autoreload\n",
    "%autoreload 2"
   ]
  },
  {
   "cell_type": "code",
   "execution_count": 2,
   "id": "overall-advancement",
   "metadata": {
    "execution": {
     "iopub.execute_input": "2021-01-22T02:48:01.821900Z",
     "iopub.status.busy": "2021-01-22T02:48:01.821319Z",
     "iopub.status.idle": "2021-01-22T02:48:03.091298Z",
     "shell.execute_reply": "2021-01-22T02:48:03.091879Z"
    },
    "papermill": {
     "duration": 1.286538,
     "end_time": "2021-01-22T02:48:03.092081",
     "exception": false,
     "start_time": "2021-01-22T02:48:01.805543",
     "status": "completed"
    },
    "tags": []
   },
   "outputs": [],
   "source": [
    "#hide\n",
    "from scripts.read_data import read_api\n",
    "from IPython.display import HTML\n",
    "import plotly.graph_objects as go\n"
   ]
  },
  {
   "cell_type": "code",
   "execution_count": 3,
   "id": "light-crazy",
   "metadata": {
    "execution": {
     "iopub.execute_input": "2021-01-22T02:48:03.125035Z",
     "iopub.status.busy": "2021-01-22T02:48:03.123746Z",
     "iopub.status.idle": "2021-01-22T02:48:03.145855Z",
     "shell.execute_reply": "2021-01-22T02:48:03.145261Z"
    },
    "papermill": {
     "duration": 0.04054,
     "end_time": "2021-01-22T02:48:03.145975",
     "exception": false,
     "start_time": "2021-01-22T02:48:03.105435",
     "status": "completed"
    },
    "tags": []
   },
   "outputs": [],
   "source": [
    "#hide\n",
    "### ICO koreliacija"
   ]
  },
  {
   "cell_type": "code",
   "execution_count": 4,
   "id": "likely-bahrain",
   "metadata": {
    "execution": {
     "iopub.execute_input": "2021-01-22T02:48:03.174693Z",
     "iopub.status.busy": "2021-01-22T02:48:03.174057Z",
     "iopub.status.idle": "2021-01-22T02:48:04.488102Z",
     "shell.execute_reply": "2021-01-22T02:48:04.487615Z"
    },
    "papermill": {
     "duration": 1.329692,
     "end_time": "2021-01-22T02:48:04.488238",
     "exception": false,
     "start_time": "2021-01-22T02:48:03.158546",
     "status": "completed"
    },
    "tags": []
   },
   "outputs": [],
   "source": [
    "#hide\n",
    "import matplotlib.pyplot as plt\n",
    "import numpy as np\n",
    "import pandas as pd\n",
    "import seaborn as sns\n",
    "import matplotlib.pyplot as plt \n",
    "import matplotlib.dates as mdates\n",
    "import matplotlib.pyplot as plt"
   ]
  },
  {
   "cell_type": "code",
   "execution_count": 5,
   "id": "superior-blanket",
   "metadata": {
    "execution": {
     "iopub.execute_input": "2021-01-22T02:48:04.520641Z",
     "iopub.status.busy": "2021-01-22T02:48:04.519003Z",
     "iopub.status.idle": "2021-01-22T02:48:17.399071Z",
     "shell.execute_reply": "2021-01-22T02:48:17.398430Z"
    },
    "papermill": {
     "duration": 12.897237,
     "end_time": "2021-01-22T02:48:17.399271",
     "exception": false,
     "start_time": "2021-01-22T02:48:04.502034",
     "status": "completed"
    },
    "tags": []
   },
   "outputs": [
    {
     "name": "stderr",
     "output_type": "stream",
     "text": [
      "/home/runner/work/corr-app/corr-app/_notebooks/scripts/read_data.py:187: SettingWithCopyWarning:\n",
      "\n",
      "\n",
      "A value is trying to be set on a copy of a slice from a DataFrame.\n",
      "Try using .loc[row_indexer,col_indexer] = value instead\n",
      "\n",
      "See the caveats in the documentation: https://pandas.pydata.org/pandas-docs/stable/user_guide/indexing.html#returning-a-view-versus-a-copy\n",
      "\n"
     ]
    },
    {
     "name": "stderr",
     "output_type": "stream",
     "text": [
      "/home/runner/work/corr-app/corr-app/_notebooks/scripts/read_data.py:215: SettingWithCopyWarning:\n",
      "\n",
      "\n",
      "A value is trying to be set on a copy of a slice from a DataFrame.\n",
      "Try using .loc[row_indexer,col_indexer] = value instead\n",
      "\n",
      "See the caveats in the documentation: https://pandas.pydata.org/pandas-docs/stable/user_guide/indexing.html#returning-a-view-versus-a-copy\n",
      "\n"
     ]
    }
   ],
   "source": [
    "#hide\n",
    "df_all = read_api()\n",
    "#df_all = df_all.drop(['SP500', 'XAU', 'ETH', 'BTC'], axis=1)\n",
    "\n"
   ]
  },
  {
   "cell_type": "code",
   "execution_count": 6,
   "id": "mature-alert",
   "metadata": {
    "execution": {
     "iopub.execute_input": "2021-01-22T02:48:17.434677Z",
     "iopub.status.busy": "2021-01-22T02:48:17.430572Z",
     "iopub.status.idle": "2021-01-22T02:48:17.462716Z",
     "shell.execute_reply": "2021-01-22T02:48:17.462258Z"
    },
    "papermill": {
     "duration": 0.050091,
     "end_time": "2021-01-22T02:48:17.462825",
     "exception": false,
     "start_time": "2021-01-22T02:48:17.412734",
     "status": "completed"
    },
    "tags": []
   },
   "outputs": [],
   "source": [
    "#hide_input\n",
    "sum_corr = df_all.corr().sum().sort_values(ascending=True).index.values\n",
    "#df_all[sum_corr].corr()"
   ]
  },
  {
   "cell_type": "markdown",
   "id": "complex-syndicate",
   "metadata": {
    "papermill": {
     "duration": 0.013929,
     "end_time": "2021-01-22T02:48:17.489675",
     "exception": false,
     "start_time": "2021-01-22T02:48:17.475746",
     "status": "completed"
    },
    "tags": []
   },
   "source": [
    "## Išplėstinė koreliacijų matrica. "
   ]
  },
  {
   "cell_type": "code",
   "execution_count": 7,
   "id": "atomic-omaha",
   "metadata": {
    "execution": {
     "iopub.execute_input": "2021-01-22T02:48:17.521158Z",
     "iopub.status.busy": "2021-01-22T02:48:17.520533Z",
     "iopub.status.idle": "2021-01-22T02:48:19.084054Z",
     "shell.execute_reply": "2021-01-22T02:48:19.083471Z"
    },
    "papermill": {
     "duration": 1.581807,
     "end_time": "2021-01-22T02:48:19.084187",
     "exception": false,
     "start_time": "2021-01-22T02:48:17.502380",
     "status": "completed"
    },
    "tags": []
   },
   "outputs": [
    {
     "data": {
      "image/png": "[encoded data removed]",
      "text/plain": [
       "<Figure size 1080x792 with 2 Axes>"
      ]
     },
     "metadata": {
      "needs_background": "light"
     },
     "output_type": "display_data"
    }
   ],
   "source": [
    "#hide_input\n",
    "plt.figure(figsize=(15, 11))\n",
    "sns.heatmap(df_all[sum_corr].corr(), annot=True, cmap=\"cubehelix\") \n",
    "sns.set(font_scale=1.25)\n",
    "plt.savefig('corr_matrix.png', format='eps')"
   ]
  },
  {
   "cell_type": "code",
   "execution_count": 8,
   "id": "arbitrary-sullivan",
   "metadata": {
    "execution": {
     "iopub.execute_input": "2021-01-22T02:48:19.158367Z",
     "iopub.status.busy": "2021-01-22T02:48:19.157546Z",
     "iopub.status.idle": "2021-01-22T02:48:19.184759Z",
     "shell.execute_reply": "2021-01-22T02:48:19.184258Z"
    },
    "papermill": {
     "duration": 0.085475,
     "end_time": "2021-01-22T02:48:19.184901",
     "exception": false,
     "start_time": "2021-01-22T02:48:19.099426",
     "status": "completed"
    },
    "tags": []
   },
   "outputs": [],
   "source": [
    "#hide\n",
    "#df_all_mrk = read_api()"
   ]
  },
  {
   "cell_type": "code",
   "execution_count": 9,
   "id": "delayed-adapter",
   "metadata": {
    "execution": {
     "iopub.execute_input": "2021-01-22T02:48:19.277651Z",
     "iopub.status.busy": "2021-01-22T02:48:19.277044Z",
     "iopub.status.idle": "2021-01-22T02:48:19.301362Z",
     "shell.execute_reply": "2021-01-22T02:48:19.300758Z"
    },
    "papermill": {
     "duration": 0.059496,
     "end_time": "2021-01-22T02:48:19.301479",
     "exception": false,
     "start_time": "2021-01-22T02:48:19.241983",
     "status": "completed"
    },
    "tags": []
   },
   "outputs": [],
   "source": [
    "#hide\n",
    "#Koreliacijų koeficientai"
   ]
  },
  {
   "cell_type": "code",
   "execution_count": 10,
   "id": "seeing-celebration",
   "metadata": {
    "execution": {
     "iopub.execute_input": "2021-01-22T02:48:19.495764Z",
     "iopub.status.busy": "2021-01-22T02:48:19.495176Z",
     "iopub.status.idle": "2021-01-22T02:48:19.523940Z",
     "shell.execute_reply": "2021-01-22T02:48:19.524533Z"
    },
    "papermill": {
     "duration": 0.207496,
     "end_time": "2021-01-22T02:48:19.524671",
     "exception": false,
     "start_time": "2021-01-22T02:48:19.317175",
     "status": "completed"
    },
    "tags": []
   },
   "outputs": [],
   "source": [
    "#hide_input\n",
    "#sum_corr = df_all_mrk.corr().sum().sort_values(ascending=True).index.values\n",
    "#df_all_mrk[sum_corr].corr()"
   ]
  },
  {
   "cell_type": "code",
   "execution_count": 11,
   "id": "other-painting",
   "metadata": {
    "execution": {
     "iopub.execute_input": "2021-01-22T02:48:19.859852Z",
     "iopub.status.busy": "2021-01-22T02:48:19.859054Z",
     "iopub.status.idle": "2021-01-22T02:48:19.886368Z",
     "shell.execute_reply": "2021-01-22T02:48:19.885477Z"
    },
    "papermill": {
     "duration": 0.238515,
     "end_time": "2021-01-22T02:48:19.886493",
     "exception": false,
     "start_time": "2021-01-22T02:48:19.647978",
     "status": "completed"
    },
    "tags": []
   },
   "outputs": [],
   "source": [
    "#hide\n",
    "#Koreliacijos matrica. "
   ]
  },
  {
   "cell_type": "code",
   "execution_count": 12,
   "id": "modular-magnitude",
   "metadata": {
    "execution": {
     "iopub.execute_input": "2021-01-22T02:48:19.929106Z",
     "iopub.status.busy": "2021-01-22T02:48:19.928359Z",
     "iopub.status.idle": "2021-01-22T02:48:19.953917Z",
     "shell.execute_reply": "2021-01-22T02:48:19.953433Z"
    },
    "papermill": {
     "duration": 0.050182,
     "end_time": "2021-01-22T02:48:19.954029",
     "exception": false,
     "start_time": "2021-01-22T02:48:19.903847",
     "status": "completed"
    },
    "tags": []
   },
   "outputs": [],
   "source": [
    "#hide_input\n",
    "#plt.figure(figsize=(15, 8))\n",
    "#sns.heatmap(df_all_mrk[sum_corr].corr(), annot=True, cmap=\"BrBG\");\n",
    "#plt.savefig('corr_matrix_all.eps', format='eps')"
   ]
  },
  {
   "cell_type": "code",
   "execution_count": null,
   "id": "original-senator",
   "metadata": {
    "papermill": {
     "duration": 0.015404,
     "end_time": "2021-01-22T02:48:19.983744",
     "exception": false,
     "start_time": "2021-01-22T02:48:19.968340",
     "status": "completed"
    },
    "tags": []
   },
   "outputs": [],
   "source": []
  },
  {
   "cell_type": "code",
   "execution_count": null,
   "id": "saving-secretariat",
   "metadata": {
    "papermill": {
     "duration": 0.014786,
     "end_time": "2021-01-22T02:48:20.013444",
     "exception": false,
     "start_time": "2021-01-22T02:48:19.998658",
     "status": "completed"
    },
    "tags": []
   },
   "outputs": [],
   "source": []
  }
 ],
 "metadata": {
  "kernelspec": {
   "display_name": "Python 3",
   "language": "python",
   "name": "python3"
  },
  "language_info": {
   "codemirror_mode": {
    "name": "ipython",
    "version": 3
   },
   "file_extension": ".py",
   "mimetype": "text/x-python",
   "name": "python",
   "nbconvert_exporter": "python",
   "pygments_lexer": "ipython3",
   "version": "3.6.12"
  },
  "papermill": {
   "default_parameters": {},
   "duration": 19.931646,
   "end_time": "2021-01-22T02:48:20.537074",
   "environment_variables": {},
   "exception": null,
   "input_path": "App-Correlation_charts.ipynb",
   "output_path": "App-Correlation_charts.ipynb",
   "parameters": {},
   "start_time": "2021-01-22T02:48:00.605428",
   "version": "2.2.2"
  }
 },
 "nbformat": 4,
 "nbformat_minor": 5
}