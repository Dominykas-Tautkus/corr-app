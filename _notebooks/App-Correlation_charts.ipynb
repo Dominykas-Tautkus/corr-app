{
 "cells": [
  {
   "cell_type": "markdown",
   "id": "touched-facility",
   "metadata": {
    "papermill": {
     "duration": 0.019758,
     "end_time": "2021-04-20T02:07:03.265923",
     "exception": false,
     "start_time": "2021-04-20T02:07:03.246165",
     "status": "completed"
    },
    "tags": []
   },
   "source": [
    "# Koreliacijų matrica\n",
    "> Išplėstinė koreliacijų matrica. \n",
    "\n",
    "- toc: true \n",
    "- badges: true\n",
    "- comments: false\n",
    "- categories: [Dominykas Tautkus]\n",
    "- image: images/matrix.png"
   ]
  },
  {
   "cell_type": "code",
   "execution_count": null,
   "id": "premium-weekend",
   "metadata": {
    "papermill": {
     "duration": 0.011991,
     "end_time": "2021-04-20T02:07:03.290674",
     "exception": false,
     "start_time": "2021-04-20T02:07:03.278683",
     "status": "completed"
    },
    "tags": []
   },
   "outputs": [],
   "source": []
  },
  {
   "cell_type": "code",
   "execution_count": 1,
   "id": "vertical-rebate",
   "metadata": {
    "execution": {
     "iopub.execute_input": "2021-04-20T02:07:03.327042Z",
     "iopub.status.busy": "2021-04-20T02:07:03.326430Z",
     "iopub.status.idle": "2021-04-20T02:07:03.338076Z",
     "shell.execute_reply": "2021-04-20T02:07:03.337550Z"
    },
    "papermill": {
     "duration": 0.03549,
     "end_time": "2021-04-20T02:07:03.338218",
     "exception": false,
     "start_time": "2021-04-20T02:07:03.302728",
     "status": "completed"
    },
    "tags": []
   },
   "outputs": [],
   "source": [
    "#hide\n",
    "%load_ext autoreload\n",
    "%autoreload 2"
   ]
  },
  {
   "cell_type": "code",
   "execution_count": 2,
   "id": "overall-advancement",
   "metadata": {
    "execution": {
     "iopub.execute_input": "2021-04-20T02:07:03.367094Z",
     "iopub.status.busy": "2021-04-20T02:07:03.366517Z",
     "iopub.status.idle": "2021-04-20T02:07:04.776239Z",
     "shell.execute_reply": "2021-04-20T02:07:04.775352Z"
    },
    "papermill": {
     "duration": 1.425954,
     "end_time": "2021-04-20T02:07:04.776451",
     "exception": false,
     "start_time": "2021-04-20T02:07:03.350497",
     "status": "completed"
    },
    "tags": []
   },
   "outputs": [],
   "source": [
    "#hide\n",
    "from scripts.read_data import read_api\n",
    "from IPython.display import HTML\n",
    "import plotly.graph_objects as go\n"
   ]
  },
  {
   "cell_type": "code",
   "execution_count": 3,
   "id": "light-crazy",
   "metadata": {
    "execution": {
     "iopub.execute_input": "2021-04-20T02:07:04.812127Z",
     "iopub.status.busy": "2021-04-20T02:07:04.810033Z",
     "iopub.status.idle": "2021-04-20T02:07:04.833967Z",
     "shell.execute_reply": "2021-04-20T02:07:04.834453Z"
    },
    "papermill": {
     "duration": 0.043376,
     "end_time": "2021-04-20T02:07:04.834604",
     "exception": false,
     "start_time": "2021-04-20T02:07:04.791228",
     "status": "completed"
    },
    "tags": []
   },
   "outputs": [],
   "source": [
    "#hide\n",
    "### ICO koreliacija"
   ]
  },
  {
   "cell_type": "code",
   "execution_count": 4,
   "id": "likely-bahrain",
   "metadata": {
    "execution": {
     "iopub.execute_input": "2021-04-20T02:07:04.866802Z",
     "iopub.status.busy": "2021-04-20T02:07:04.866219Z",
     "iopub.status.idle": "2021-04-20T02:07:05.875691Z",
     "shell.execute_reply": "2021-04-20T02:07:05.874730Z"
    },
    "papermill": {
     "duration": 1.028836,
     "end_time": "2021-04-20T02:07:05.875830",
     "exception": false,
     "start_time": "2021-04-20T02:07:04.846994",
     "status": "completed"
    },
    "tags": []
   },
   "outputs": [],
   "source": [
    "#hide\n",
    "import matplotlib.pyplot as plt\n",
    "import numpy as np\n",
    "import pandas as pd\n",
    "import seaborn as sns\n",
    "import matplotlib.pyplot as plt \n",
    "import matplotlib.dates as mdates\n",
    "import matplotlib.pyplot as plt"
   ]
  },
  {
   "cell_type": "code",
   "execution_count": 5,
   "id": "superior-blanket",
   "metadata": {
    "execution": {
     "iopub.execute_input": "2021-04-20T02:07:05.906391Z",
     "iopub.status.busy": "2021-04-20T02:07:05.905598Z",
     "iopub.status.idle": "2021-04-20T02:07:16.129140Z",
     "shell.execute_reply": "2021-04-20T02:07:16.127748Z"
    },
    "papermill": {
     "duration": 10.239976,
     "end_time": "2021-04-20T02:07:16.129399",
     "exception": false,
     "start_time": "2021-04-20T02:07:05.889423",
     "status": "completed"
    },
    "tags": []
   },
   "outputs": [
    {
     "name": "stderr",
     "output_type": "stream",
     "text": [
      "/home/runner/work/corr-app/corr-app/_notebooks/scripts/read_data.py:187: SettingWithCopyWarning:\n",
      "\n",
      "\n",
      "A value is trying to be set on a copy of a slice from a DataFrame.\n",
      "Try using .loc[row_indexer,col_indexer] = value instead\n",
      "\n",
      "See the caveats in the documentation: https://pandas.pydata.org/pandas-docs/stable/user_guide/indexing.html#returning-a-view-versus-a-copy\n",
      "\n"
     ]
    },
    {
     "name": "stderr",
     "output_type": "stream",
     "text": [
      "/home/runner/work/corr-app/corr-app/_notebooks/scripts/read_data.py:215: SettingWithCopyWarning:\n",
      "\n",
      "\n",
      "A value is trying to be set on a copy of a slice from a DataFrame.\n",
      "Try using .loc[row_indexer,col_indexer] = value instead\n",
      "\n",
      "See the caveats in the documentation: https://pandas.pydata.org/pandas-docs/stable/user_guide/indexing.html#returning-a-view-versus-a-copy\n",
      "\n"
     ]
    }
   ],
   "source": [
    "#hide\n",
    "df_all = read_api()\n",
    "#df_all = df_all.drop(['SP500', 'XAU', 'ETH', 'BTC'], axis=1)\n",
    "\n"
   ]
  },
  {
   "cell_type": "code",
   "execution_count": 6,
   "id": "mature-alert",
   "metadata": {
    "execution": {
     "iopub.execute_input": "2021-04-20T02:07:16.165955Z",
     "iopub.status.busy": "2021-04-20T02:07:16.165357Z",
     "iopub.status.idle": "2021-04-20T02:07:16.196499Z",
     "shell.execute_reply": "2021-04-20T02:07:16.195997Z"
    },
    "papermill": {
     "duration": 0.052034,
     "end_time": "2021-04-20T02:07:16.196633",
     "exception": false,
     "start_time": "2021-04-20T02:07:16.144599",
     "status": "completed"
    },
    "tags": []
   },
   "outputs": [],
   "source": [
    "#hide_input\n",
    "sum_corr = df_all.corr().sum().sort_values(ascending=True).index.values\n",
    "#df_all[sum_corr].corr()"
   ]
  },
  {
   "cell_type": "markdown",
   "id": "complex-syndicate",
   "metadata": {
    "papermill": {
     "duration": 0.012697,
     "end_time": "2021-04-20T02:07:16.223240",
     "exception": false,
     "start_time": "2021-04-20T02:07:16.210543",
     "status": "completed"
    },
    "tags": []
   },
   "source": [
    "## Išplėstinė koreliacijų matrica. "
   ]
  },
  {
   "cell_type": "code",
   "execution_count": 7,
   "id": "atomic-omaha",
   "metadata": {
    "execution": {
     "iopub.execute_input": "2021-04-20T02:07:16.254321Z",
     "iopub.status.busy": "2021-04-20T02:07:16.253747Z",
     "iopub.status.idle": "2021-04-20T02:07:17.559081Z",
     "shell.execute_reply": "2021-04-20T02:07:17.559535Z"
    },
    "papermill": {
     "duration": 1.323853,
     "end_time": "2021-04-20T02:07:17.559692",
     "exception": false,
     "start_time": "2021-04-20T02:07:16.235839",
     "status": "completed"
    },
    "tags": []
   },
   "outputs": [
    {
     "data": {
      "image/png": "[encoded data removed]",
      "text/plain": [
       "<Figure size 1080x792 with 2 Axes>"
      ]
     },
     "metadata": {
      "needs_background": "light"
     },
     "output_type": "display_data"
    }
   ],
   "source": [
    "#hide_input\n",
    "plt.figure(figsize=(15, 11))\n",
    "sns.heatmap(df_all[sum_corr].corr(), annot=True, cmap=\"cubehelix\") \n",
    "sns.set(font_scale=1.25)\n",
    "plt.savefig('corr_matrix.png', format='eps')"
   ]
  },
  {
   "cell_type": "code",
   "execution_count": 8,
   "id": "arbitrary-sullivan",
   "metadata": {
    "execution": {
     "iopub.execute_input": "2021-04-20T02:07:17.595179Z",
     "iopub.status.busy": "2021-04-20T02:07:17.594141Z",
     "iopub.status.idle": "2021-04-20T02:07:17.622913Z",
     "shell.execute_reply": "2021-04-20T02:07:17.622092Z"
    },
    "papermill": {
     "duration": 0.047911,
     "end_time": "2021-04-20T02:07:17.623080",
     "exception": false,
     "start_time": "2021-04-20T02:07:17.575169",
     "status": "completed"
    },
    "tags": []
   },
   "outputs": [],
   "source": [
    "#hide\n",
    "#df_all_mrk = read_api()"
   ]
  },
  {
   "cell_type": "code",
   "execution_count": 9,
   "id": "delayed-adapter",
   "metadata": {
    "execution": {
     "iopub.execute_input": "2021-04-20T02:07:17.659182Z",
     "iopub.status.busy": "2021-04-20T02:07:17.658575Z",
     "iopub.status.idle": "2021-04-20T02:07:17.687331Z",
     "shell.execute_reply": "2021-04-20T02:07:17.686616Z"
    },
    "papermill": {
     "duration": 0.048431,
     "end_time": "2021-04-20T02:07:17.687493",
     "exception": false,
     "start_time": "2021-04-20T02:07:17.639062",
     "status": "completed"
    },
    "tags": []
   },
   "outputs": [],
   "source": [
    "#hide\n",
    "#Koreliacijų koeficientai"
   ]
  },
  {
   "cell_type": "code",
   "execution_count": 10,
   "id": "seeing-celebration",
   "metadata": {
    "execution": {
     "iopub.execute_input": "2021-04-20T02:07:17.725004Z",
     "iopub.status.busy": "2021-04-20T02:07:17.724392Z",
     "iopub.status.idle": "2021-04-20T02:07:17.753462Z",
     "shell.execute_reply": "2021-04-20T02:07:17.754098Z"
    },
    "papermill": {
     "duration": 0.051335,
     "end_time": "2021-04-20T02:07:17.754301",
     "exception": false,
     "start_time": "2021-04-20T02:07:17.702966",
     "status": "completed"
    },
    "tags": []
   },
   "outputs": [],
   "source": [
    "#hide_input\n",
    "#sum_corr = df_all_mrk.corr().sum().sort_values(ascending=True).index.values\n",
    "#df_all_mrk[sum_corr].corr()"
   ]
  },
  {
   "cell_type": "code",
   "execution_count": 11,
   "id": "other-painting",
   "metadata": {
    "execution": {
     "iopub.execute_input": "2021-04-20T02:07:17.790994Z",
     "iopub.status.busy": "2021-04-20T02:07:17.790417Z",
     "iopub.status.idle": "2021-04-20T02:07:17.818834Z",
     "shell.execute_reply": "2021-04-20T02:07:17.818129Z"
    },
    "papermill": {
     "duration": 0.048403,
     "end_time": "2021-04-20T02:07:17.818994",
     "exception": false,
     "start_time": "2021-04-20T02:07:17.770591",
     "status": "completed"
    },
    "tags": []
   },
   "outputs": [],
   "source": [
    "#hide\n",
    "#Koreliacijos matrica. "
   ]
  },
  {
   "cell_type": "code",
   "execution_count": 12,
   "id": "modular-magnitude",
   "metadata": {
    "execution": {
     "iopub.execute_input": "2021-04-20T02:07:17.854608Z",
     "iopub.status.busy": "2021-04-20T02:07:17.854052Z",
     "iopub.status.idle": "2021-04-20T02:07:17.884897Z",
     "shell.execute_reply": "2021-04-20T02:07:17.884140Z"
    },
    "papermill": {
     "duration": 0.050669,
     "end_time": "2021-04-20T02:07:17.885086",
     "exception": false,
     "start_time": "2021-04-20T02:07:17.834417",
     "status": "completed"
    },
    "tags": []
   },
   "outputs": [],
   "source": [
    "#hide_input\n",
    "#plt.figure(figsize=(15, 8))\n",
    "#sns.heatmap(df_all_mrk[sum_corr].corr(), annot=True, cmap=\"BrBG\");\n",
    "#plt.savefig('corr_matrix_all.eps', format='eps')"
   ]
  },
  {
   "cell_type": "code",
   "execution_count": null,
   "id": "original-senator",
   "metadata": {
    "papermill": {
     "duration": 0.015099,
     "end_time": "2021-04-20T02:07:17.917340",
     "exception": false,
     "start_time": "2021-04-20T02:07:17.902241",
     "status": "completed"
    },
    "tags": []
   },
   "outputs": [],
   "source": []
  },
  {
   "cell_type": "code",
   "execution_count": null,
   "id": "saving-secretariat",
   "metadata": {
    "papermill": {
     "duration": 0.014917,
     "end_time": "2021-04-20T02:07:17.947378",
     "exception": false,
     "start_time": "2021-04-20T02:07:17.932461",
     "status": "completed"
    },
    "tags": []
   },
   "outputs": [],
   "source": []
  }
 ],
 "metadata": {
  "kernelspec": {
   "display_name": "Python 3",
   "language": "python",
   "name": "python3"
  },
  "language_info": {
   "codemirror_mode": {
    "name": "ipython",
    "version": 3
   },
   "file_extension": ".py",
   "mimetype": "text/x-python",
   "name": "python",
   "nbconvert_exporter": "python",
   "pygments_lexer": "ipython3",
   "version": "3.6.13"
  },
  "papermill": {
   "default_parameters": {},
   "duration": 16.302402,
   "end_time": "2021-04-20T02:07:18.473061",
   "environment_variables": {},
   "exception": null,
   "input_path": "App-Correlation_charts.ipynb",
   "output_path": "App-Correlation_charts.ipynb",
   "parameters": {},
   "start_time": "2021-04-20T02:07:02.170659",
   "version": "2.2.2"
  }
 },
 "nbformat": 4,
 "nbformat_minor": 5
}