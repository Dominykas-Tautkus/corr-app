{
 "cells": [
  {
   "cell_type": "markdown",
   "id": "touched-facility",
   "metadata": {
    "papermill": {
     "duration": 0.015263,
     "end_time": "2021-05-21T02:16:56.823358",
     "exception": false,
     "start_time": "2021-05-21T02:16:56.808095",
     "status": "completed"
    },
    "tags": []
   },
   "source": [
    "# Koreliacijų matrica\n",
    "> Išplėstinė koreliacijų matrica. \n",
    "\n",
    "- toc: true \n",
    "- badges: true\n",
    "- comments: false\n",
    "- categories: [Dominykas Tautkus]\n",
    "- image: images/matrix.png"
   ]
  },
  {
   "cell_type": "code",
   "execution_count": null,
   "id": "premium-weekend",
   "metadata": {
    "papermill": {
     "duration": 0.010667,
     "end_time": "2021-05-21T02:16:56.845453",
     "exception": false,
     "start_time": "2021-05-21T02:16:56.834786",
     "status": "completed"
    },
    "tags": []
   },
   "outputs": [],
   "source": []
  },
  {
   "cell_type": "code",
   "execution_count": 1,
   "id": "vertical-rebate",
   "metadata": {
    "execution": {
     "iopub.execute_input": "2021-05-21T02:16:56.878103Z",
     "iopub.status.busy": "2021-05-21T02:16:56.877602Z",
     "iopub.status.idle": "2021-05-21T02:16:56.887358Z",
     "shell.execute_reply": "2021-05-21T02:16:56.886913Z"
    },
    "papermill": {
     "duration": 0.03133,
     "end_time": "2021-05-21T02:16:56.887474",
     "exception": false,
     "start_time": "2021-05-21T02:16:56.856144",
     "status": "completed"
    },
    "tags": []
   },
   "outputs": [],
   "source": [
    "#hide\n",
    "%load_ext autoreload\n",
    "%autoreload 2"
   ]
  },
  {
   "cell_type": "code",
   "execution_count": 2,
   "id": "overall-advancement",
   "metadata": {
    "execution": {
     "iopub.execute_input": "2021-05-21T02:16:56.912299Z",
     "iopub.status.busy": "2021-05-21T02:16:56.911809Z",
     "iopub.status.idle": "2021-05-21T02:16:58.092760Z",
     "shell.execute_reply": "2021-05-21T02:16:58.092246Z"
    },
    "papermill": {
     "duration": 1.194715,
     "end_time": "2021-05-21T02:16:58.092897",
     "exception": false,
     "start_time": "2021-05-21T02:16:56.898182",
     "status": "completed"
    },
    "tags": []
   },
   "outputs": [],
   "source": [
    "#hide\n",
    "from scripts.read_data import read_api\n",
    "from IPython.display import HTML\n",
    "import plotly.graph_objects as go\n"
   ]
  },
  {
   "cell_type": "code",
   "execution_count": 3,
   "id": "light-crazy",
   "metadata": {
    "execution": {
     "iopub.execute_input": "2021-05-21T02:16:58.119213Z",
     "iopub.status.busy": "2021-05-21T02:16:58.118715Z",
     "iopub.status.idle": "2021-05-21T02:16:58.140161Z",
     "shell.execute_reply": "2021-05-21T02:16:58.139687Z"
    },
    "papermill": {
     "duration": 0.035766,
     "end_time": "2021-05-21T02:16:58.140283",
     "exception": false,
     "start_time": "2021-05-21T02:16:58.104517",
     "status": "completed"
    },
    "tags": []
   },
   "outputs": [],
   "source": [
    "#hide\n",
    "### ICO koreliacija"
   ]
  },
  {
   "cell_type": "code",
   "execution_count": 4,
   "id": "likely-bahrain",
   "metadata": {
    "execution": {
     "iopub.execute_input": "2021-05-21T02:16:58.174024Z",
     "iopub.status.busy": "2021-05-21T02:16:58.173519Z",
     "iopub.status.idle": "2021-05-21T02:16:58.949765Z",
     "shell.execute_reply": "2021-05-21T02:16:58.949290Z"
    },
    "papermill": {
     "duration": 0.792288,
     "end_time": "2021-05-21T02:16:58.949895",
     "exception": false,
     "start_time": "2021-05-21T02:16:58.157607",
     "status": "completed"
    },
    "tags": []
   },
   "outputs": [],
   "source": [
    "#hide\n",
    "import matplotlib.pyplot as plt\n",
    "import numpy as np\n",
    "import pandas as pd\n",
    "import seaborn as sns\n",
    "import matplotlib.pyplot as plt \n",
    "import matplotlib.dates as mdates\n",
    "import matplotlib.pyplot as plt"
   ]
  },
  {
   "cell_type": "code",
   "execution_count": 5,
   "id": "superior-blanket",
   "metadata": {
    "execution": {
     "iopub.execute_input": "2021-05-21T02:16:58.978425Z",
     "iopub.status.busy": "2021-05-21T02:16:58.977932Z",
     "iopub.status.idle": "2021-05-21T02:17:09.804255Z",
     "shell.execute_reply": "2021-05-21T02:17:09.803777Z"
    },
    "papermill": {
     "duration": 10.84327,
     "end_time": "2021-05-21T02:17:09.804377",
     "exception": false,
     "start_time": "2021-05-21T02:16:58.961107",
     "status": "completed"
    },
    "tags": []
   },
   "outputs": [
    {
     "name": "stderr",
     "output_type": "stream",
     "text": [
      "/home/runner/work/corr-app/corr-app/_notebooks/scripts/read_data.py:187: SettingWithCopyWarning:\n",
      "\n",
      "\n",
      "A value is trying to be set on a copy of a slice from a DataFrame.\n",
      "Try using .loc[row_indexer,col_indexer] = value instead\n",
      "\n",
      "See the caveats in the documentation: https://pandas.pydata.org/pandas-docs/stable/user_guide/indexing.html#returning-a-view-versus-a-copy\n",
      "\n"
     ]
    },
    {
     "name": "stderr",
     "output_type": "stream",
     "text": [
      "/home/runner/work/corr-app/corr-app/_notebooks/scripts/read_data.py:215: SettingWithCopyWarning:\n",
      "\n",
      "\n",
      "A value is trying to be set on a copy of a slice from a DataFrame.\n",
      "Try using .loc[row_indexer,col_indexer] = value instead\n",
      "\n",
      "See the caveats in the documentation: https://pandas.pydata.org/pandas-docs/stable/user_guide/indexing.html#returning-a-view-versus-a-copy\n",
      "\n"
     ]
    }
   ],
   "source": [
    "#hide\n",
    "df_all = read_api()\n",
    "#df_all = df_all.drop(['SP500', 'XAU', 'ETH', 'BTC'], axis=1)\n",
    "\n"
   ]
  },
  {
   "cell_type": "code",
   "execution_count": 6,
   "id": "mature-alert",
   "metadata": {
    "execution": {
     "iopub.execute_input": "2021-05-21T02:17:09.832521Z",
     "iopub.status.busy": "2021-05-21T02:17:09.831935Z",
     "iopub.status.idle": "2021-05-21T02:17:09.858995Z",
     "shell.execute_reply": "2021-05-21T02:17:09.858503Z"
    },
    "papermill": {
     "duration": 0.042577,
     "end_time": "2021-05-21T02:17:09.859125",
     "exception": false,
     "start_time": "2021-05-21T02:17:09.816548",
     "status": "completed"
    },
    "tags": []
   },
   "outputs": [],
   "source": [
    "#hide_input\n",
    "sum_corr = df_all.corr().sum().sort_values(ascending=True).index.values\n",
    "#df_all[sum_corr].corr()"
   ]
  },
  {
   "cell_type": "markdown",
   "id": "complex-syndicate",
   "metadata": {
    "papermill": {
     "duration": 0.011293,
     "end_time": "2021-05-21T02:17:09.882638",
     "exception": false,
     "start_time": "2021-05-21T02:17:09.871345",
     "status": "completed"
    },
    "tags": []
   },
   "source": [
    "## Išplėstinė koreliacijų matrica. "
   ]
  },
  {
   "cell_type": "code",
   "execution_count": 7,
   "id": "atomic-omaha",
   "metadata": {
    "execution": {
     "iopub.execute_input": "2021-05-21T02:17:09.913192Z",
     "iopub.status.busy": "2021-05-21T02:17:09.912646Z",
     "iopub.status.idle": "2021-05-21T02:17:11.031732Z",
     "shell.execute_reply": "2021-05-21T02:17:11.031235Z"
    },
    "papermill": {
     "duration": 1.137916,
     "end_time": "2021-05-21T02:17:11.031856",
     "exception": false,
     "start_time": "2021-05-21T02:17:09.893940",
     "status": "completed"
    },
    "tags": []
   },
   "outputs": [
    {
     "data": {
      "image/png": "[encoded data removed]",
      "text/plain": [
       "<Figure size 1080x792 with 2 Axes>"
      ]
     },
     "metadata": {
      "needs_background": "light"
     },
     "output_type": "display_data"
    }
   ],
   "source": [
    "#hide_input\n",
    "plt.figure(figsize=(15, 11))\n",
    "sns.heatmap(df_all[sum_corr].corr(), annot=True, cmap=\"cubehelix\") \n",
    "sns.set(font_scale=1.25)\n",
    "plt.savefig('corr_matrix.png', format='eps')"
   ]
  },
  {
   "cell_type": "code",
   "execution_count": 8,
   "id": "arbitrary-sullivan",
   "metadata": {
    "execution": {
     "iopub.execute_input": "2021-05-21T02:17:11.069924Z",
     "iopub.status.busy": "2021-05-21T02:17:11.069421Z",
     "iopub.status.idle": "2021-05-21T02:17:11.090495Z",
     "shell.execute_reply": "2021-05-21T02:17:11.089996Z"
    },
    "papermill": {
     "duration": 0.044775,
     "end_time": "2021-05-21T02:17:11.090626",
     "exception": false,
     "start_time": "2021-05-21T02:17:11.045851",
     "status": "completed"
    },
    "tags": []
   },
   "outputs": [],
   "source": [
    "#hide\n",
    "#df_all_mrk = read_api()"
   ]
  },
  {
   "cell_type": "code",
   "execution_count": 9,
   "id": "delayed-adapter",
   "metadata": {
    "execution": {
     "iopub.execute_input": "2021-05-21T02:17:11.138884Z",
     "iopub.status.busy": "2021-05-21T02:17:11.137967Z",
     "iopub.status.idle": "2021-05-21T02:17:11.152521Z",
     "shell.execute_reply": "2021-05-21T02:17:11.152903Z"
    },
    "papermill": {
     "duration": 0.048319,
     "end_time": "2021-05-21T02:17:11.153066",
     "exception": false,
     "start_time": "2021-05-21T02:17:11.104747",
     "status": "completed"
    },
    "tags": []
   },
   "outputs": [],
   "source": [
    "#hide\n",
    "#Koreliacijų koeficientai"
   ]
  },
  {
   "cell_type": "code",
   "execution_count": 10,
   "id": "seeing-celebration",
   "metadata": {
    "execution": {
     "iopub.execute_input": "2021-05-21T02:17:11.186367Z",
     "iopub.status.busy": "2021-05-21T02:17:11.185663Z",
     "iopub.status.idle": "2021-05-21T02:17:11.208930Z",
     "shell.execute_reply": "2021-05-21T02:17:11.208505Z"
    },
    "papermill": {
     "duration": 0.04228,
     "end_time": "2021-05-21T02:17:11.209059",
     "exception": false,
     "start_time": "2021-05-21T02:17:11.166779",
     "status": "completed"
    },
    "tags": []
   },
   "outputs": [],
   "source": [
    "#hide_input\n",
    "#sum_corr = df_all_mrk.corr().sum().sort_values(ascending=True).index.values\n",
    "#df_all_mrk[sum_corr].corr()"
   ]
  },
  {
   "cell_type": "code",
   "execution_count": 11,
   "id": "other-painting",
   "metadata": {
    "execution": {
     "iopub.execute_input": "2021-05-21T02:17:11.250014Z",
     "iopub.status.busy": "2021-05-21T02:17:11.245827Z",
     "iopub.status.idle": "2021-05-21T02:17:11.268052Z",
     "shell.execute_reply": "2021-05-21T02:17:11.268439Z"
    },
    "papermill": {
     "duration": 0.046047,
     "end_time": "2021-05-21T02:17:11.268573",
     "exception": false,
     "start_time": "2021-05-21T02:17:11.222526",
     "status": "completed"
    },
    "tags": []
   },
   "outputs": [],
   "source": [
    "#hide\n",
    "#Koreliacijos matrica. "
   ]
  },
  {
   "cell_type": "code",
   "execution_count": 12,
   "id": "modular-magnitude",
   "metadata": {
    "execution": {
     "iopub.execute_input": "2021-05-21T02:17:11.570203Z",
     "iopub.status.busy": "2021-05-21T02:17:11.569690Z",
     "iopub.status.idle": "2021-05-21T02:17:11.589048Z",
     "shell.execute_reply": "2021-05-21T02:17:11.588603Z"
    },
    "papermill": {
     "duration": 0.13368,
     "end_time": "2021-05-21T02:17:11.589170",
     "exception": false,
     "start_time": "2021-05-21T02:17:11.455490",
     "status": "completed"
    },
    "tags": []
   },
   "outputs": [],
   "source": [
    "#hide_input\n",
    "#plt.figure(figsize=(15, 8))\n",
    "#sns.heatmap(df_all_mrk[sum_corr].corr(), annot=True, cmap=\"BrBG\");\n",
    "#plt.savefig('corr_matrix_all.eps', format='eps')"
   ]
  },
  {
   "cell_type": "code",
   "execution_count": null,
   "id": "original-senator",
   "metadata": {
    "papermill": {
     "duration": 0.203185,
     "end_time": "2021-05-21T02:17:11.806017",
     "exception": false,
     "start_time": "2021-05-21T02:17:11.602832",
     "status": "completed"
    },
    "tags": []
   },
   "outputs": [],
   "source": []
  },
  {
   "cell_type": "code",
   "execution_count": null,
   "id": "saving-secretariat",
   "metadata": {
    "papermill": {
     "duration": 0.014352,
     "end_time": "2021-05-21T02:17:11.905073",
     "exception": false,
     "start_time": "2021-05-21T02:17:11.890721",
     "status": "completed"
    },
    "tags": []
   },
   "outputs": [],
   "source": []
  }
 ],
 "metadata": {
  "kernelspec": {
   "display_name": "Python 3",
   "language": "python",
   "name": "python3"
  },
  "language_info": {
   "codemirror_mode": {
    "name": "ipython",
    "version": 3
   },
   "file_extension": ".py",
   "mimetype": "text/x-python",
   "name": "python",
   "nbconvert_exporter": "python",
   "pygments_lexer": "ipython3",
   "version": "3.6.13"
  },
  "papermill": {
   "default_parameters": {},
   "duration": 16.646622,
   "end_time": "2021-05-21T02:17:12.426246",
   "environment_variables": {},
   "exception": null,
   "input_path": "App-Correlation_charts.ipynb",
   "output_path": "App-Correlation_charts.ipynb",
   "parameters": {},
   "start_time": "2021-05-21T02:16:55.779624",
   "version": "2.2.2"
  }
 },
 "nbformat": 4,
 "nbformat_minor": 5
}