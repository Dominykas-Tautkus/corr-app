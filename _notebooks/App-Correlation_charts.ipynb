{
 "cells": [
  {
   "cell_type": "markdown",
   "id": "touched-facility",
   "metadata": {
    "papermill": {
     "duration": 0.018611,
     "end_time": "2021-05-19T02:13:36.231675",
     "exception": false,
     "start_time": "2021-05-19T02:13:36.213064",
     "status": "completed"
    },
    "tags": []
   },
   "source": [
    "# Koreliacijų matrica\n",
    "> Išplėstinė koreliacijų matrica. \n",
    "\n",
    "- toc: true \n",
    "- badges: true\n",
    "- comments: false\n",
    "- categories: [Dominykas Tautkus]\n",
    "- image: images/matrix.png"
   ]
  },
  {
   "cell_type": "code",
   "execution_count": null,
   "id": "premium-weekend",
   "metadata": {
    "papermill": {
     "duration": 0.033251,
     "end_time": "2021-05-19T02:13:36.278254",
     "exception": false,
     "start_time": "2021-05-19T02:13:36.245003",
     "status": "completed"
    },
    "tags": []
   },
   "outputs": [],
   "source": []
  },
  {
   "cell_type": "code",
   "execution_count": 1,
   "id": "vertical-rebate",
   "metadata": {
    "execution": {
     "iopub.execute_input": "2021-05-19T02:13:36.321308Z",
     "iopub.status.busy": "2021-05-19T02:13:36.320643Z",
     "iopub.status.idle": "2021-05-19T02:13:36.338046Z",
     "shell.execute_reply": "2021-05-19T02:13:36.337517Z"
    },
    "papermill": {
     "duration": 0.044905,
     "end_time": "2021-05-19T02:13:36.338186",
     "exception": false,
     "start_time": "2021-05-19T02:13:36.293281",
     "status": "completed"
    },
    "tags": []
   },
   "outputs": [],
   "source": [
    "#hide\n",
    "%load_ext autoreload\n",
    "%autoreload 2"
   ]
  },
  {
   "cell_type": "code",
   "execution_count": 2,
   "id": "overall-advancement",
   "metadata": {
    "execution": {
     "iopub.execute_input": "2021-05-19T02:13:36.375424Z",
     "iopub.status.busy": "2021-05-19T02:13:36.374845Z",
     "iopub.status.idle": "2021-05-19T02:13:37.500756Z",
     "shell.execute_reply": "2021-05-19T02:13:37.499639Z"
    },
    "papermill": {
     "duration": 1.150403,
     "end_time": "2021-05-19T02:13:37.500907",
     "exception": false,
     "start_time": "2021-05-19T02:13:36.350504",
     "status": "completed"
    },
    "tags": []
   },
   "outputs": [],
   "source": [
    "#hide\n",
    "from scripts.read_data import read_api\n",
    "from IPython.display import HTML\n",
    "import plotly.graph_objects as go\n"
   ]
  },
  {
   "cell_type": "code",
   "execution_count": 3,
   "id": "light-crazy",
   "metadata": {
    "execution": {
     "iopub.execute_input": "2021-05-19T02:13:37.530956Z",
     "iopub.status.busy": "2021-05-19T02:13:37.529676Z",
     "iopub.status.idle": "2021-05-19T02:13:37.553182Z",
     "shell.execute_reply": "2021-05-19T02:13:37.553819Z"
    },
    "papermill": {
     "duration": 0.040862,
     "end_time": "2021-05-19T02:13:37.554012",
     "exception": false,
     "start_time": "2021-05-19T02:13:37.513150",
     "status": "completed"
    },
    "tags": []
   },
   "outputs": [],
   "source": [
    "#hide\n",
    "### ICO koreliacija"
   ]
  },
  {
   "cell_type": "code",
   "execution_count": 4,
   "id": "likely-bahrain",
   "metadata": {
    "execution": {
     "iopub.execute_input": "2021-05-19T02:13:37.584222Z",
     "iopub.status.busy": "2021-05-19T02:13:37.583634Z",
     "iopub.status.idle": "2021-05-19T02:13:38.475411Z",
     "shell.execute_reply": "2021-05-19T02:13:38.474524Z"
    },
    "papermill": {
     "duration": 0.908992,
     "end_time": "2021-05-19T02:13:38.475625",
     "exception": false,
     "start_time": "2021-05-19T02:13:37.566633",
     "status": "completed"
    },
    "tags": []
   },
   "outputs": [],
   "source": [
    "#hide\n",
    "import matplotlib.pyplot as plt\n",
    "import numpy as np\n",
    "import pandas as pd\n",
    "import seaborn as sns\n",
    "import matplotlib.pyplot as plt \n",
    "import matplotlib.dates as mdates\n",
    "import matplotlib.pyplot as plt"
   ]
  },
  {
   "cell_type": "code",
   "execution_count": 5,
   "id": "superior-blanket",
   "metadata": {
    "execution": {
     "iopub.execute_input": "2021-05-19T02:13:38.506130Z",
     "iopub.status.busy": "2021-05-19T02:13:38.505559Z",
     "iopub.status.idle": "2021-05-19T02:13:50.889705Z",
     "shell.execute_reply": "2021-05-19T02:13:50.888045Z"
    },
    "papermill": {
     "duration": 12.400829,
     "end_time": "2021-05-19T02:13:50.889853",
     "exception": false,
     "start_time": "2021-05-19T02:13:38.489024",
     "status": "completed"
    },
    "tags": []
   },
   "outputs": [
    {
     "name": "stderr",
     "output_type": "stream",
     "text": [
      "/home/runner/work/corr-app/corr-app/_notebooks/scripts/read_data.py:187: SettingWithCopyWarning:\n",
      "\n",
      "\n",
      "A value is trying to be set on a copy of a slice from a DataFrame.\n",
      "Try using .loc[row_indexer,col_indexer] = value instead\n",
      "\n",
      "See the caveats in the documentation: https://pandas.pydata.org/pandas-docs/stable/user_guide/indexing.html#returning-a-view-versus-a-copy\n",
      "\n"
     ]
    },
    {
     "name": "stderr",
     "output_type": "stream",
     "text": [
      "/home/runner/work/corr-app/corr-app/_notebooks/scripts/read_data.py:215: SettingWithCopyWarning:\n",
      "\n",
      "\n",
      "A value is trying to be set on a copy of a slice from a DataFrame.\n",
      "Try using .loc[row_indexer,col_indexer] = value instead\n",
      "\n",
      "See the caveats in the documentation: https://pandas.pydata.org/pandas-docs/stable/user_guide/indexing.html#returning-a-view-versus-a-copy\n",
      "\n"
     ]
    }
   ],
   "source": [
    "#hide\n",
    "df_all = read_api()\n",
    "#df_all = df_all.drop(['SP500', 'XAU', 'ETH', 'BTC'], axis=1)\n",
    "\n"
   ]
  },
  {
   "cell_type": "code",
   "execution_count": 6,
   "id": "mature-alert",
   "metadata": {
    "execution": {
     "iopub.execute_input": "2021-05-19T02:13:50.920494Z",
     "iopub.status.busy": "2021-05-19T02:13:50.919899Z",
     "iopub.status.idle": "2021-05-19T02:13:50.952181Z",
     "shell.execute_reply": "2021-05-19T02:13:50.951628Z"
    },
    "papermill": {
     "duration": 0.049354,
     "end_time": "2021-05-19T02:13:50.952311",
     "exception": false,
     "start_time": "2021-05-19T02:13:50.902957",
     "status": "completed"
    },
    "tags": []
   },
   "outputs": [],
   "source": [
    "#hide_input\n",
    "sum_corr = df_all.corr().sum().sort_values(ascending=True).index.values\n",
    "#df_all[sum_corr].corr()"
   ]
  },
  {
   "cell_type": "markdown",
   "id": "complex-syndicate",
   "metadata": {
    "papermill": {
     "duration": 0.013068,
     "end_time": "2021-05-19T02:13:50.978406",
     "exception": false,
     "start_time": "2021-05-19T02:13:50.965338",
     "status": "completed"
    },
    "tags": []
   },
   "source": [
    "## Išplėstinė koreliacijų matrica. "
   ]
  },
  {
   "cell_type": "code",
   "execution_count": 7,
   "id": "atomic-omaha",
   "metadata": {
    "execution": {
     "iopub.execute_input": "2021-05-19T02:13:51.012377Z",
     "iopub.status.busy": "2021-05-19T02:13:51.011762Z",
     "iopub.status.idle": "2021-05-19T02:13:52.315929Z",
     "shell.execute_reply": "2021-05-19T02:13:52.316710Z"
    },
    "papermill": {
     "duration": 1.325569,
     "end_time": "2021-05-19T02:13:52.317190",
     "exception": false,
     "start_time": "2021-05-19T02:13:50.991621",
     "status": "completed"
    },
    "tags": []
   },
   "outputs": [
    {
     "data": {
      "image/png": "[encoded data removed]",
      "text/plain": [
       "<Figure size 1080x792 with 2 Axes>"
      ]
     },
     "metadata": {
      "needs_background": "light"
     },
     "output_type": "display_data"
    }
   ],
   "source": [
    "#hide_input\n",
    "plt.figure(figsize=(15, 11))\n",
    "sns.heatmap(df_all[sum_corr].corr(), annot=True, cmap=\"cubehelix\") \n",
    "sns.set(font_scale=1.25)\n",
    "plt.savefig('corr_matrix.png', format='eps')"
   ]
  },
  {
   "cell_type": "code",
   "execution_count": 8,
   "id": "arbitrary-sullivan",
   "metadata": {
    "execution": {
     "iopub.execute_input": "2021-05-19T02:13:52.354235Z",
     "iopub.status.busy": "2021-05-19T02:13:52.353643Z",
     "iopub.status.idle": "2021-05-19T02:13:52.383696Z",
     "shell.execute_reply": "2021-05-19T02:13:52.382905Z"
    },
    "papermill": {
     "duration": 0.050556,
     "end_time": "2021-05-19T02:13:52.383887",
     "exception": false,
     "start_time": "2021-05-19T02:13:52.333331",
     "status": "completed"
    },
    "tags": []
   },
   "outputs": [],
   "source": [
    "#hide\n",
    "#df_all_mrk = read_api()"
   ]
  },
  {
   "cell_type": "code",
   "execution_count": 9,
   "id": "delayed-adapter",
   "metadata": {
    "execution": {
     "iopub.execute_input": "2021-05-19T02:13:52.423377Z",
     "iopub.status.busy": "2021-05-19T02:13:52.422691Z",
     "iopub.status.idle": "2021-05-19T02:13:52.450698Z",
     "shell.execute_reply": "2021-05-19T02:13:52.451158Z"
    },
    "papermill": {
     "duration": 0.050034,
     "end_time": "2021-05-19T02:13:52.451314",
     "exception": false,
     "start_time": "2021-05-19T02:13:52.401280",
     "status": "completed"
    },
    "tags": []
   },
   "outputs": [],
   "source": [
    "#hide\n",
    "#Koreliacijų koeficientai"
   ]
  },
  {
   "cell_type": "code",
   "execution_count": 10,
   "id": "seeing-celebration",
   "metadata": {
    "execution": {
     "iopub.execute_input": "2021-05-19T02:13:52.490619Z",
     "iopub.status.busy": "2021-05-19T02:13:52.489578Z",
     "iopub.status.idle": "2021-05-19T02:13:52.519379Z",
     "shell.execute_reply": "2021-05-19T02:13:52.518672Z"
    },
    "papermill": {
     "duration": 0.052387,
     "end_time": "2021-05-19T02:13:52.519547",
     "exception": false,
     "start_time": "2021-05-19T02:13:52.467160",
     "status": "completed"
    },
    "tags": []
   },
   "outputs": [],
   "source": [
    "#hide_input\n",
    "#sum_corr = df_all_mrk.corr().sum().sort_values(ascending=True).index.values\n",
    "#df_all_mrk[sum_corr].corr()"
   ]
  },
  {
   "cell_type": "code",
   "execution_count": 11,
   "id": "other-painting",
   "metadata": {
    "execution": {
     "iopub.execute_input": "2021-05-19T02:13:52.554083Z",
     "iopub.status.busy": "2021-05-19T02:13:52.553493Z",
     "iopub.status.idle": "2021-05-19T02:13:52.581930Z",
     "shell.execute_reply": "2021-05-19T02:13:52.581424Z"
    },
    "papermill": {
     "duration": 0.047025,
     "end_time": "2021-05-19T02:13:52.582064",
     "exception": false,
     "start_time": "2021-05-19T02:13:52.535039",
     "status": "completed"
    },
    "tags": []
   },
   "outputs": [],
   "source": [
    "#hide\n",
    "#Koreliacijos matrica. "
   ]
  },
  {
   "cell_type": "code",
   "execution_count": 12,
   "id": "modular-magnitude",
   "metadata": {
    "execution": {
     "iopub.execute_input": "2021-05-19T02:13:52.621124Z",
     "iopub.status.busy": "2021-05-19T02:13:52.620488Z",
     "iopub.status.idle": "2021-05-19T02:13:52.648342Z",
     "shell.execute_reply": "2021-05-19T02:13:52.647656Z"
    },
    "papermill": {
     "duration": 0.051081,
     "end_time": "2021-05-19T02:13:52.648521",
     "exception": false,
     "start_time": "2021-05-19T02:13:52.597440",
     "status": "completed"
    },
    "tags": []
   },
   "outputs": [],
   "source": [
    "#hide_input\n",
    "#plt.figure(figsize=(15, 8))\n",
    "#sns.heatmap(df_all_mrk[sum_corr].corr(), annot=True, cmap=\"BrBG\");\n",
    "#plt.savefig('corr_matrix_all.eps', format='eps')"
   ]
  },
  {
   "cell_type": "code",
   "execution_count": null,
   "id": "original-senator",
   "metadata": {
    "papermill": {
     "duration": 0.014999,
     "end_time": "2021-05-19T02:13:52.679967",
     "exception": false,
     "start_time": "2021-05-19T02:13:52.664968",
     "status": "completed"
    },
    "tags": []
   },
   "outputs": [],
   "source": []
  },
  {
   "cell_type": "code",
   "execution_count": null,
   "id": "saving-secretariat",
   "metadata": {
    "papermill": {
     "duration": 0.014954,
     "end_time": "2021-05-19T02:13:52.709977",
     "exception": false,
     "start_time": "2021-05-19T02:13:52.695023",
     "status": "completed"
    },
    "tags": []
   },
   "outputs": [],
   "source": []
  }
 ],
 "metadata": {
  "kernelspec": {
   "display_name": "Python 3",
   "language": "python",
   "name": "python3"
  },
  "language_info": {
   "codemirror_mode": {
    "name": "ipython",
    "version": 3
   },
   "file_extension": ".py",
   "mimetype": "text/x-python",
   "name": "python",
   "nbconvert_exporter": "python",
   "pygments_lexer": "ipython3",
   "version": "3.6.13"
  },
  "papermill": {
   "default_parameters": {},
   "duration": 19.335454,
   "end_time": "2021-05-19T02:13:54.009907",
   "environment_variables": {},
   "exception": null,
   "input_path": "App-Correlation_charts.ipynb",
   "output_path": "App-Correlation_charts.ipynb",
   "parameters": {},
   "start_time": "2021-05-19T02:13:34.674453",
   "version": "2.2.2"
  }
 },
 "nbformat": 4,
 "nbformat_minor": 5
}