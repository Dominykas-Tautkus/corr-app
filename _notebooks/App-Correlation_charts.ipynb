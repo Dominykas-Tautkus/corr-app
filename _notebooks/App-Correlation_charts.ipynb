{
 "cells": [
  {
   "cell_type": "markdown",
   "id": "touched-facility",
   "metadata": {
    "papermill": {
     "duration": 0.100029,
     "end_time": "2021-03-11T01:45:17.118780",
     "exception": false,
     "start_time": "2021-03-11T01:45:17.018751",
     "status": "completed"
    },
    "tags": []
   },
   "source": [
    "# Koreliacijų matrica\n",
    "> Išplėstinė koreliacijų matrica. \n",
    "\n",
    "- toc: true \n",
    "- badges: true\n",
    "- comments: false\n",
    "- categories: [Dominykas Tautkus]\n",
    "- image: images/matrix.png"
   ]
  },
  {
   "cell_type": "code",
   "execution_count": null,
   "id": "premium-weekend",
   "metadata": {
    "papermill": {
     "duration": 0.103725,
     "end_time": "2021-03-11T01:45:17.244329",
     "exception": false,
     "start_time": "2021-03-11T01:45:17.140604",
     "status": "completed"
    },
    "tags": []
   },
   "outputs": [],
   "source": []
  },
  {
   "cell_type": "code",
   "execution_count": 1,
   "id": "vertical-rebate",
   "metadata": {
    "execution": {
     "iopub.execute_input": "2021-03-11T01:45:17.581445Z",
     "iopub.status.busy": "2021-03-11T01:45:17.580808Z",
     "iopub.status.idle": "2021-03-11T01:45:17.591306Z",
     "shell.execute_reply": "2021-03-11T01:45:17.591768Z"
    },
    "papermill": {
     "duration": 0.316742,
     "end_time": "2021-03-11T01:45:17.591970",
     "exception": false,
     "start_time": "2021-03-11T01:45:17.275228",
     "status": "completed"
    },
    "tags": []
   },
   "outputs": [],
   "source": [
    "#hide\n",
    "%load_ext autoreload\n",
    "%autoreload 2"
   ]
  },
  {
   "cell_type": "code",
   "execution_count": 2,
   "id": "overall-advancement",
   "metadata": {
    "execution": {
     "iopub.execute_input": "2021-03-11T01:45:18.376830Z",
     "iopub.status.busy": "2021-03-11T01:45:18.376188Z",
     "iopub.status.idle": "2021-03-11T01:45:21.328121Z",
     "shell.execute_reply": "2021-03-11T01:45:21.327558Z"
    },
    "papermill": {
     "duration": 3.416155,
     "end_time": "2021-03-11T01:45:21.328279",
     "exception": false,
     "start_time": "2021-03-11T01:45:17.912124",
     "status": "completed"
    },
    "tags": []
   },
   "outputs": [],
   "source": [
    "#hide\n",
    "from scripts.read_data import read_api\n",
    "from IPython.display import HTML\n",
    "import plotly.graph_objects as go\n"
   ]
  },
  {
   "cell_type": "code",
   "execution_count": 3,
   "id": "light-crazy",
   "metadata": {
    "execution": {
     "iopub.execute_input": "2021-03-11T01:45:21.563560Z",
     "iopub.status.busy": "2021-03-11T01:45:21.562960Z",
     "iopub.status.idle": "2021-03-11T01:45:21.586013Z",
     "shell.execute_reply": "2021-03-11T01:45:21.585428Z"
    },
    "papermill": {
     "duration": 0.23804,
     "end_time": "2021-03-11T01:45:21.586166",
     "exception": false,
     "start_time": "2021-03-11T01:45:21.348126",
     "status": "completed"
    },
    "tags": []
   },
   "outputs": [],
   "source": [
    "#hide\n",
    "### ICO koreliacija"
   ]
  },
  {
   "cell_type": "code",
   "execution_count": 4,
   "id": "likely-bahrain",
   "metadata": {
    "execution": {
     "iopub.execute_input": "2021-03-11T01:45:22.075203Z",
     "iopub.status.busy": "2021-03-11T01:45:22.074152Z",
     "iopub.status.idle": "2021-03-11T01:45:23.486310Z",
     "shell.execute_reply": "2021-03-11T01:45:23.485447Z"
    },
    "papermill": {
     "duration": 1.620897,
     "end_time": "2021-03-11T01:45:23.486523",
     "exception": false,
     "start_time": "2021-03-11T01:45:21.865626",
     "status": "completed"
    },
    "tags": []
   },
   "outputs": [],
   "source": [
    "#hide\n",
    "import matplotlib.pyplot as plt\n",
    "import numpy as np\n",
    "import pandas as pd\n",
    "import seaborn as sns\n",
    "import matplotlib.pyplot as plt \n",
    "import matplotlib.dates as mdates\n",
    "import matplotlib.pyplot as plt"
   ]
  },
  {
   "cell_type": "code",
   "execution_count": 5,
   "id": "superior-blanket",
   "metadata": {
    "execution": {
     "iopub.execute_input": "2021-03-11T01:45:23.517445Z",
     "iopub.status.busy": "2021-03-11T01:45:23.516479Z",
     "iopub.status.idle": "2021-03-11T01:45:33.996653Z",
     "shell.execute_reply": "2021-03-11T01:45:33.996098Z"
    },
    "papermill": {
     "duration": 10.49708,
     "end_time": "2021-03-11T01:45:33.996787",
     "exception": false,
     "start_time": "2021-03-11T01:45:23.499707",
     "status": "completed"
    },
    "tags": []
   },
   "outputs": [
    {
     "name": "stderr",
     "output_type": "stream",
     "text": [
      "/home/runner/work/corr-app/corr-app/_notebooks/scripts/read_data.py:187: SettingWithCopyWarning:\n",
      "\n",
      "\n",
      "A value is trying to be set on a copy of a slice from a DataFrame.\n",
      "Try using .loc[row_indexer,col_indexer] = value instead\n",
      "\n",
      "See the caveats in the documentation: https://pandas.pydata.org/pandas-docs/stable/user_guide/indexing.html#returning-a-view-versus-a-copy\n",
      "\n"
     ]
    },
    {
     "name": "stderr",
     "output_type": "stream",
     "text": [
      "/home/runner/work/corr-app/corr-app/_notebooks/scripts/read_data.py:215: SettingWithCopyWarning:\n",
      "\n",
      "\n",
      "A value is trying to be set on a copy of a slice from a DataFrame.\n",
      "Try using .loc[row_indexer,col_indexer] = value instead\n",
      "\n",
      "See the caveats in the documentation: https://pandas.pydata.org/pandas-docs/stable/user_guide/indexing.html#returning-a-view-versus-a-copy\n",
      "\n"
     ]
    }
   ],
   "source": [
    "#hide\n",
    "df_all = read_api()\n",
    "#df_all = df_all.drop(['SP500', 'XAU', 'ETH', 'BTC'], axis=1)\n",
    "\n"
   ]
  },
  {
   "cell_type": "code",
   "execution_count": 6,
   "id": "mature-alert",
   "metadata": {
    "execution": {
     "iopub.execute_input": "2021-03-11T01:45:34.030583Z",
     "iopub.status.busy": "2021-03-11T01:45:34.028241Z",
     "iopub.status.idle": "2021-03-11T01:45:34.059772Z",
     "shell.execute_reply": "2021-03-11T01:45:34.059268Z"
    },
    "papermill": {
     "duration": 0.049857,
     "end_time": "2021-03-11T01:45:34.059944",
     "exception": false,
     "start_time": "2021-03-11T01:45:34.010087",
     "status": "completed"
    },
    "tags": []
   },
   "outputs": [],
   "source": [
    "#hide_input\n",
    "sum_corr = df_all.corr().sum().sort_values(ascending=True).index.values\n",
    "#df_all[sum_corr].corr()"
   ]
  },
  {
   "cell_type": "markdown",
   "id": "complex-syndicate",
   "metadata": {
    "papermill": {
     "duration": 0.012373,
     "end_time": "2021-03-11T01:45:34.085744",
     "exception": false,
     "start_time": "2021-03-11T01:45:34.073371",
     "status": "completed"
    },
    "tags": []
   },
   "source": [
    "## Išplėstinė koreliacijų matrica. "
   ]
  },
  {
   "cell_type": "code",
   "execution_count": 7,
   "id": "atomic-omaha",
   "metadata": {
    "execution": {
     "iopub.execute_input": "2021-03-11T01:45:34.120895Z",
     "iopub.status.busy": "2021-03-11T01:45:34.120325Z",
     "iopub.status.idle": "2021-03-11T01:45:35.367802Z",
     "shell.execute_reply": "2021-03-11T01:45:35.367206Z"
    },
    "papermill": {
     "duration": 1.269782,
     "end_time": "2021-03-11T01:45:35.367951",
     "exception": false,
     "start_time": "2021-03-11T01:45:34.098169",
     "status": "completed"
    },
    "tags": []
   },
   "outputs": [
    {
     "data": {
      "image/png": "[encoded data removed]",
      "text/plain": [
       "<Figure size 1080x792 with 2 Axes>"
      ]
     },
     "metadata": {
      "needs_background": "light"
     },
     "output_type": "display_data"
    }
   ],
   "source": [
    "#hide_input\n",
    "plt.figure(figsize=(15, 11))\n",
    "sns.heatmap(df_all[sum_corr].corr(), annot=True, cmap=\"cubehelix\") \n",
    "sns.set(font_scale=1.25)\n",
    "plt.savefig('corr_matrix.png', format='eps')"
   ]
  },
  {
   "cell_type": "code",
   "execution_count": 8,
   "id": "arbitrary-sullivan",
   "metadata": {
    "execution": {
     "iopub.execute_input": "2021-03-11T01:45:35.401747Z",
     "iopub.status.busy": "2021-03-11T01:45:35.401168Z",
     "iopub.status.idle": "2021-03-11T01:45:35.431626Z",
     "shell.execute_reply": "2021-03-11T01:45:35.430685Z"
    },
    "papermill": {
     "duration": 0.048963,
     "end_time": "2021-03-11T01:45:35.431832",
     "exception": false,
     "start_time": "2021-03-11T01:45:35.382869",
     "status": "completed"
    },
    "tags": []
   },
   "outputs": [],
   "source": [
    "#hide\n",
    "#df_all_mrk = read_api()"
   ]
  },
  {
   "cell_type": "code",
   "execution_count": 9,
   "id": "delayed-adapter",
   "metadata": {
    "execution": {
     "iopub.execute_input": "2021-03-11T01:45:35.469849Z",
     "iopub.status.busy": "2021-03-11T01:45:35.469266Z",
     "iopub.status.idle": "2021-03-11T01:45:35.496973Z",
     "shell.execute_reply": "2021-03-11T01:45:35.496166Z"
    },
    "papermill": {
     "duration": 0.047796,
     "end_time": "2021-03-11T01:45:35.497134",
     "exception": false,
     "start_time": "2021-03-11T01:45:35.449338",
     "status": "completed"
    },
    "tags": []
   },
   "outputs": [],
   "source": [
    "#hide\n",
    "#Koreliacijų koeficientai"
   ]
  },
  {
   "cell_type": "code",
   "execution_count": 10,
   "id": "seeing-celebration",
   "metadata": {
    "execution": {
     "iopub.execute_input": "2021-03-11T01:45:35.533277Z",
     "iopub.status.busy": "2021-03-11T01:45:35.532697Z",
     "iopub.status.idle": "2021-03-11T01:45:35.561628Z",
     "shell.execute_reply": "2021-03-11T01:45:35.560853Z"
    },
    "papermill": {
     "duration": 0.049514,
     "end_time": "2021-03-11T01:45:35.561811",
     "exception": false,
     "start_time": "2021-03-11T01:45:35.512297",
     "status": "completed"
    },
    "tags": []
   },
   "outputs": [],
   "source": [
    "#hide_input\n",
    "#sum_corr = df_all_mrk.corr().sum().sort_values(ascending=True).index.values\n",
    "#df_all_mrk[sum_corr].corr()"
   ]
  },
  {
   "cell_type": "code",
   "execution_count": 11,
   "id": "other-painting",
   "metadata": {
    "execution": {
     "iopub.execute_input": "2021-03-11T01:45:35.602049Z",
     "iopub.status.busy": "2021-03-11T01:45:35.601470Z",
     "iopub.status.idle": "2021-03-11T01:45:35.627362Z",
     "shell.execute_reply": "2021-03-11T01:45:35.626661Z"
    },
    "papermill": {
     "duration": 0.04789,
     "end_time": "2021-03-11T01:45:35.627525",
     "exception": false,
     "start_time": "2021-03-11T01:45:35.579635",
     "status": "completed"
    },
    "tags": []
   },
   "outputs": [],
   "source": [
    "#hide\n",
    "#Koreliacijos matrica. "
   ]
  },
  {
   "cell_type": "code",
   "execution_count": 12,
   "id": "modular-magnitude",
   "metadata": {
    "execution": {
     "iopub.execute_input": "2021-03-11T01:45:35.663002Z",
     "iopub.status.busy": "2021-03-11T01:45:35.662415Z",
     "iopub.status.idle": "2021-03-11T01:45:35.689914Z",
     "shell.execute_reply": "2021-03-11T01:45:35.689242Z"
    },
    "papermill": {
     "duration": 0.046415,
     "end_time": "2021-03-11T01:45:35.690083",
     "exception": false,
     "start_time": "2021-03-11T01:45:35.643668",
     "status": "completed"
    },
    "tags": []
   },
   "outputs": [],
   "source": [
    "#hide_input\n",
    "#plt.figure(figsize=(15, 8))\n",
    "#sns.heatmap(df_all_mrk[sum_corr].corr(), annot=True, cmap=\"BrBG\");\n",
    "#plt.savefig('corr_matrix_all.eps', format='eps')"
   ]
  },
  {
   "cell_type": "code",
   "execution_count": null,
   "id": "original-senator",
   "metadata": {
    "papermill": {
     "duration": 0.01487,
     "end_time": "2021-03-11T01:45:35.720563",
     "exception": false,
     "start_time": "2021-03-11T01:45:35.705693",
     "status": "completed"
    },
    "tags": []
   },
   "outputs": [],
   "source": []
  },
  {
   "cell_type": "code",
   "execution_count": null,
   "id": "saving-secretariat",
   "metadata": {
    "papermill": {
     "duration": 0.014991,
     "end_time": "2021-03-11T01:45:35.750272",
     "exception": false,
     "start_time": "2021-03-11T01:45:35.735281",
     "status": "completed"
    },
    "tags": []
   },
   "outputs": [],
   "source": []
  }
 ],
 "metadata": {
  "kernelspec": {
   "display_name": "Python 3",
   "language": "python",
   "name": "python3"
  },
  "language_info": {
   "codemirror_mode": {
    "name": "ipython",
    "version": 3
   },
   "file_extension": ".py",
   "mimetype": "text/x-python",
   "name": "python",
   "nbconvert_exporter": "python",
   "pygments_lexer": "ipython3",
   "version": "3.6.13"
  },
  "papermill": {
   "default_parameters": {},
   "duration": 21.32496,
   "end_time": "2021-03-11T01:45:37.025603",
   "environment_variables": {},
   "exception": null,
   "input_path": "App-Correlation_charts.ipynb",
   "output_path": "App-Correlation_charts.ipynb",
   "parameters": {},
   "start_time": "2021-03-11T01:45:15.700643",
   "version": "2.2.2"
  }
 },
 "nbformat": 4,
 "nbformat_minor": 5
}