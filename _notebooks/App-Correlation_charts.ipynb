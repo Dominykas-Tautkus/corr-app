{
 "cells": [
  {
   "cell_type": "markdown",
   "id": "touched-facility",
   "metadata": {
    "papermill": {
     "duration": 0.015809,
     "end_time": "2021-01-25T02:48:31.993404",
     "exception": false,
     "start_time": "2021-01-25T02:48:31.977595",
     "status": "completed"
    },
    "tags": []
   },
   "source": [
    "# Koreliacijų matrica\n",
    "> Išplėstinė koreliacijų matrica. \n",
    "\n",
    "- toc: true \n",
    "- badges: true\n",
    "- comments: false\n",
    "- categories: [Dominykas Tautkus]\n",
    "- image: images/matrix.png"
   ]
  },
  {
   "cell_type": "code",
   "execution_count": null,
   "id": "premium-weekend",
   "metadata": {
    "papermill": {
     "duration": 0.010929,
     "end_time": "2021-01-25T02:48:32.014863",
     "exception": false,
     "start_time": "2021-01-25T02:48:32.003934",
     "status": "completed"
    },
    "tags": []
   },
   "outputs": [],
   "source": []
  },
  {
   "cell_type": "code",
   "execution_count": 1,
   "id": "vertical-rebate",
   "metadata": {
    "execution": {
     "iopub.execute_input": "2021-01-25T02:48:32.049014Z",
     "iopub.status.busy": "2021-01-25T02:48:32.043432Z",
     "iopub.status.idle": "2021-01-25T02:48:32.058558Z",
     "shell.execute_reply": "2021-01-25T02:48:32.058046Z"
    },
    "papermill": {
     "duration": 0.033544,
     "end_time": "2021-01-25T02:48:32.058696",
     "exception": false,
     "start_time": "2021-01-25T02:48:32.025152",
     "status": "completed"
    },
    "tags": []
   },
   "outputs": [],
   "source": [
    "#hide\n",
    "%load_ext autoreload\n",
    "%autoreload 2"
   ]
  },
  {
   "cell_type": "code",
   "execution_count": 2,
   "id": "overall-advancement",
   "metadata": {
    "execution": {
     "iopub.execute_input": "2021-01-25T02:48:32.084230Z",
     "iopub.status.busy": "2021-01-25T02:48:32.083656Z",
     "iopub.status.idle": "2021-01-25T02:48:33.044006Z",
     "shell.execute_reply": "2021-01-25T02:48:33.043036Z"
    },
    "papermill": {
     "duration": 0.974771,
     "end_time": "2021-01-25T02:48:33.044126",
     "exception": false,
     "start_time": "2021-01-25T02:48:32.069355",
     "status": "completed"
    },
    "tags": []
   },
   "outputs": [],
   "source": [
    "#hide\n",
    "from scripts.read_data import read_api\n",
    "from IPython.display import HTML\n",
    "import plotly.graph_objects as go\n"
   ]
  },
  {
   "cell_type": "code",
   "execution_count": 3,
   "id": "light-crazy",
   "metadata": {
    "execution": {
     "iopub.execute_input": "2021-01-25T02:48:33.069548Z",
     "iopub.status.busy": "2021-01-25T02:48:33.068751Z",
     "iopub.status.idle": "2021-01-25T02:48:33.090121Z",
     "shell.execute_reply": "2021-01-25T02:48:33.089505Z"
    },
    "papermill": {
     "duration": 0.036326,
     "end_time": "2021-01-25T02:48:33.090279",
     "exception": false,
     "start_time": "2021-01-25T02:48:33.053953",
     "status": "completed"
    },
    "tags": []
   },
   "outputs": [],
   "source": [
    "#hide\n",
    "### ICO koreliacija"
   ]
  },
  {
   "cell_type": "code",
   "execution_count": 4,
   "id": "likely-bahrain",
   "metadata": {
    "execution": {
     "iopub.execute_input": "2021-01-25T02:48:33.118061Z",
     "iopub.status.busy": "2021-01-25T02:48:33.117500Z",
     "iopub.status.idle": "2021-01-25T02:48:34.211785Z",
     "shell.execute_reply": "2021-01-25T02:48:34.211280Z"
    },
    "papermill": {
     "duration": 1.109084,
     "end_time": "2021-01-25T02:48:34.211918",
     "exception": false,
     "start_time": "2021-01-25T02:48:33.102834",
     "status": "completed"
    },
    "tags": []
   },
   "outputs": [],
   "source": [
    "#hide\n",
    "import matplotlib.pyplot as plt\n",
    "import numpy as np\n",
    "import pandas as pd\n",
    "import seaborn as sns\n",
    "import matplotlib.pyplot as plt \n",
    "import matplotlib.dates as mdates\n",
    "import matplotlib.pyplot as plt"
   ]
  },
  {
   "cell_type": "code",
   "execution_count": 5,
   "id": "superior-blanket",
   "metadata": {
    "execution": {
     "iopub.execute_input": "2021-01-25T02:48:34.237281Z",
     "iopub.status.busy": "2021-01-25T02:48:34.236557Z",
     "iopub.status.idle": "2021-01-25T02:48:45.507285Z",
     "shell.execute_reply": "2021-01-25T02:48:45.506757Z"
    },
    "papermill": {
     "duration": 11.284343,
     "end_time": "2021-01-25T02:48:45.507388",
     "exception": false,
     "start_time": "2021-01-25T02:48:34.223045",
     "status": "completed"
    },
    "tags": []
   },
   "outputs": [
    {
     "name": "stderr",
     "output_type": "stream",
     "text": [
      "/home/runner/work/corr-app/corr-app/_notebooks/scripts/read_data.py:187: SettingWithCopyWarning:\n",
      "\n",
      "\n",
      "A value is trying to be set on a copy of a slice from a DataFrame.\n",
      "Try using .loc[row_indexer,col_indexer] = value instead\n",
      "\n",
      "See the caveats in the documentation: https://pandas.pydata.org/pandas-docs/stable/user_guide/indexing.html#returning-a-view-versus-a-copy\n",
      "\n"
     ]
    },
    {
     "name": "stderr",
     "output_type": "stream",
     "text": [
      "/home/runner/work/corr-app/corr-app/_notebooks/scripts/read_data.py:215: SettingWithCopyWarning:\n",
      "\n",
      "\n",
      "A value is trying to be set on a copy of a slice from a DataFrame.\n",
      "Try using .loc[row_indexer,col_indexer] = value instead\n",
      "\n",
      "See the caveats in the documentation: https://pandas.pydata.org/pandas-docs/stable/user_guide/indexing.html#returning-a-view-versus-a-copy\n",
      "\n"
     ]
    }
   ],
   "source": [
    "#hide\n",
    "df_all = read_api()\n",
    "#df_all = df_all.drop(['SP500', 'XAU', 'ETH', 'BTC'], axis=1)\n",
    "\n"
   ]
  },
  {
   "cell_type": "code",
   "execution_count": 6,
   "id": "mature-alert",
   "metadata": {
    "execution": {
     "iopub.execute_input": "2021-01-25T02:48:45.530734Z",
     "iopub.status.busy": "2021-01-25T02:48:45.530239Z",
     "iopub.status.idle": "2021-01-25T02:48:45.556904Z",
     "shell.execute_reply": "2021-01-25T02:48:45.556213Z"
    },
    "papermill": {
     "duration": 0.03986,
     "end_time": "2021-01-25T02:48:45.557082",
     "exception": false,
     "start_time": "2021-01-25T02:48:45.517222",
     "status": "completed"
    },
    "tags": []
   },
   "outputs": [],
   "source": [
    "#hide_input\n",
    "sum_corr = df_all.corr().sum().sort_values(ascending=True).index.values\n",
    "#df_all[sum_corr].corr()"
   ]
  },
  {
   "cell_type": "markdown",
   "id": "complex-syndicate",
   "metadata": {
    "papermill": {
     "duration": 0.011667,
     "end_time": "2021-01-25T02:48:45.580926",
     "exception": false,
     "start_time": "2021-01-25T02:48:45.569259",
     "status": "completed"
    },
    "tags": []
   },
   "source": [
    "## Išplėstinė koreliacijų matrica. "
   ]
  },
  {
   "cell_type": "code",
   "execution_count": 7,
   "id": "atomic-omaha",
   "metadata": {
    "execution": {
     "iopub.execute_input": "2021-01-25T02:48:45.607546Z",
     "iopub.status.busy": "2021-01-25T02:48:45.607014Z",
     "iopub.status.idle": "2021-01-25T02:48:46.658835Z",
     "shell.execute_reply": "2021-01-25T02:48:46.658434Z"
    },
    "papermill": {
     "duration": 1.067297,
     "end_time": "2021-01-25T02:48:46.658993",
     "exception": false,
     "start_time": "2021-01-25T02:48:45.591696",
     "status": "completed"
    },
    "tags": []
   },
   "outputs": [
    {
     "data": {
      "image/png": "[encoded data removed]",
      "text/plain": [
       "<Figure size 1080x792 with 2 Axes>"
      ]
     },
     "metadata": {
      "needs_background": "light"
     },
     "output_type": "display_data"
    }
   ],
   "source": [
    "#hide_input\n",
    "plt.figure(figsize=(15, 11))\n",
    "sns.heatmap(df_all[sum_corr].corr(), annot=True, cmap=\"cubehelix\") \n",
    "sns.set(font_scale=1.25)\n",
    "plt.savefig('corr_matrix.png', format='eps')"
   ]
  },
  {
   "cell_type": "code",
   "execution_count": 8,
   "id": "arbitrary-sullivan",
   "metadata": {
    "execution": {
     "iopub.execute_input": "2021-01-25T02:48:46.689290Z",
     "iopub.status.busy": "2021-01-25T02:48:46.688778Z",
     "iopub.status.idle": "2021-01-25T02:48:46.715571Z",
     "shell.execute_reply": "2021-01-25T02:48:46.715952Z"
    },
    "papermill": {
     "duration": 0.043942,
     "end_time": "2021-01-25T02:48:46.716075",
     "exception": false,
     "start_time": "2021-01-25T02:48:46.672133",
     "status": "completed"
    },
    "tags": []
   },
   "outputs": [],
   "source": [
    "#hide\n",
    "#df_all_mrk = read_api()"
   ]
  },
  {
   "cell_type": "code",
   "execution_count": 9,
   "id": "delayed-adapter",
   "metadata": {
    "execution": {
     "iopub.execute_input": "2021-01-25T02:48:46.745402Z",
     "iopub.status.busy": "2021-01-25T02:48:46.744840Z",
     "iopub.status.idle": "2021-01-25T02:48:46.768290Z",
     "shell.execute_reply": "2021-01-25T02:48:46.767857Z"
    },
    "papermill": {
     "duration": 0.038483,
     "end_time": "2021-01-25T02:48:46.768402",
     "exception": false,
     "start_time": "2021-01-25T02:48:46.729919",
     "status": "completed"
    },
    "tags": []
   },
   "outputs": [],
   "source": [
    "#hide\n",
    "#Koreliacijų koeficientai"
   ]
  },
  {
   "cell_type": "code",
   "execution_count": 10,
   "id": "seeing-celebration",
   "metadata": {
    "execution": {
     "iopub.execute_input": "2021-01-25T02:48:46.796009Z",
     "iopub.status.busy": "2021-01-25T02:48:46.795535Z",
     "iopub.status.idle": "2021-01-25T02:48:46.817791Z",
     "shell.execute_reply": "2021-01-25T02:48:46.817326Z"
    },
    "papermill": {
     "duration": 0.037001,
     "end_time": "2021-01-25T02:48:46.817908",
     "exception": false,
     "start_time": "2021-01-25T02:48:46.780907",
     "status": "completed"
    },
    "tags": []
   },
   "outputs": [],
   "source": [
    "#hide_input\n",
    "#sum_corr = df_all_mrk.corr().sum().sort_values(ascending=True).index.values\n",
    "#df_all_mrk[sum_corr].corr()"
   ]
  },
  {
   "cell_type": "code",
   "execution_count": 11,
   "id": "other-painting",
   "metadata": {
    "execution": {
     "iopub.execute_input": "2021-01-25T02:48:46.846402Z",
     "iopub.status.busy": "2021-01-25T02:48:46.845874Z",
     "iopub.status.idle": "2021-01-25T02:48:46.871040Z",
     "shell.execute_reply": "2021-01-25T02:48:46.870488Z"
    },
    "papermill": {
     "duration": 0.040788,
     "end_time": "2021-01-25T02:48:46.871163",
     "exception": false,
     "start_time": "2021-01-25T02:48:46.830375",
     "status": "completed"
    },
    "tags": []
   },
   "outputs": [],
   "source": [
    "#hide\n",
    "#Koreliacijos matrica. "
   ]
  },
  {
   "cell_type": "code",
   "execution_count": 12,
   "id": "modular-magnitude",
   "metadata": {
    "execution": {
     "iopub.execute_input": "2021-01-25T02:48:46.899762Z",
     "iopub.status.busy": "2021-01-25T02:48:46.899356Z",
     "iopub.status.idle": "2021-01-25T02:48:46.924039Z",
     "shell.execute_reply": "2021-01-25T02:48:46.923508Z"
    },
    "papermill": {
     "duration": 0.039253,
     "end_time": "2021-01-25T02:48:46.924160",
     "exception": false,
     "start_time": "2021-01-25T02:48:46.884907",
     "status": "completed"
    },
    "tags": []
   },
   "outputs": [],
   "source": [
    "#hide_input\n",
    "#plt.figure(figsize=(15, 8))\n",
    "#sns.heatmap(df_all_mrk[sum_corr].corr(), annot=True, cmap=\"BrBG\");\n",
    "#plt.savefig('corr_matrix_all.eps', format='eps')"
   ]
  },
  {
   "cell_type": "code",
   "execution_count": null,
   "id": "original-senator",
   "metadata": {
    "papermill": {
     "duration": 0.012824,
     "end_time": "2021-01-25T02:48:46.949897",
     "exception": false,
     "start_time": "2021-01-25T02:48:46.937073",
     "status": "completed"
    },
    "tags": []
   },
   "outputs": [],
   "source": []
  },
  {
   "cell_type": "code",
   "execution_count": null,
   "id": "saving-secretariat",
   "metadata": {
    "papermill": {
     "duration": 0.01185,
     "end_time": "2021-01-25T02:48:46.974999",
     "exception": false,
     "start_time": "2021-01-25T02:48:46.963149",
     "status": "completed"
    },
    "tags": []
   },
   "outputs": [],
   "source": []
  }
 ],
 "metadata": {
  "kernelspec": {
   "display_name": "Python 3",
   "language": "python",
   "name": "python3"
  },
  "language_info": {
   "codemirror_mode": {
    "name": "ipython",
    "version": 3
   },
   "file_extension": ".py",
   "mimetype": "text/x-python",
   "name": "python",
   "nbconvert_exporter": "python",
   "pygments_lexer": "ipython3",
   "version": "3.6.12"
  },
  "papermill": {
   "default_parameters": {},
   "duration": 17.269998,
   "end_time": "2021-01-25T02:48:48.342765",
   "environment_variables": {},
   "exception": null,
   "input_path": "App-Correlation_charts.ipynb",
   "output_path": "App-Correlation_charts.ipynb",
   "parameters": {},
   "start_time": "2021-01-25T02:48:31.072767",
   "version": "2.2.2"
  }
 },
 "nbformat": 4,
 "nbformat_minor": 5
}