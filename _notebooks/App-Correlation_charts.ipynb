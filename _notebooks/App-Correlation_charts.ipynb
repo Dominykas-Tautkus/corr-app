{
 "cells": [
  {
   "cell_type": "markdown",
   "id": "touched-facility",
   "metadata": {
    "papermill": {
     "duration": 0.01672,
     "end_time": "2021-04-10T02:05:34.358570",
     "exception": false,
     "start_time": "2021-04-10T02:05:34.341850",
     "status": "completed"
    },
    "tags": []
   },
   "source": [
    "# Koreliacijų matrica\n",
    "> Išplėstinė koreliacijų matrica. \n",
    "\n",
    "- toc: true \n",
    "- badges: true\n",
    "- comments: false\n",
    "- categories: [Dominykas Tautkus]\n",
    "- image: images/matrix.png"
   ]
  },
  {
   "cell_type": "code",
   "execution_count": null,
   "id": "premium-weekend",
   "metadata": {
    "papermill": {
     "duration": 0.012622,
     "end_time": "2021-04-10T02:05:34.384944",
     "exception": false,
     "start_time": "2021-04-10T02:05:34.372322",
     "status": "completed"
    },
    "tags": []
   },
   "outputs": [],
   "source": []
  },
  {
   "cell_type": "code",
   "execution_count": 1,
   "id": "vertical-rebate",
   "metadata": {
    "execution": {
     "iopub.execute_input": "2021-04-10T02:05:34.422041Z",
     "iopub.status.busy": "2021-04-10T02:05:34.421432Z",
     "iopub.status.idle": "2021-04-10T02:05:34.433620Z",
     "shell.execute_reply": "2021-04-10T02:05:34.433099Z"
    },
    "papermill": {
     "duration": 0.036656,
     "end_time": "2021-04-10T02:05:34.433758",
     "exception": false,
     "start_time": "2021-04-10T02:05:34.397102",
     "status": "completed"
    },
    "tags": []
   },
   "outputs": [],
   "source": [
    "#hide\n",
    "%load_ext autoreload\n",
    "%autoreload 2"
   ]
  },
  {
   "cell_type": "code",
   "execution_count": 2,
   "id": "overall-advancement",
   "metadata": {
    "execution": {
     "iopub.execute_input": "2021-04-10T02:05:34.462071Z",
     "iopub.status.busy": "2021-04-10T02:05:34.461490Z",
     "iopub.status.idle": "2021-04-10T02:05:35.621639Z",
     "shell.execute_reply": "2021-04-10T02:05:35.620627Z"
    },
    "papermill": {
     "duration": 1.17581,
     "end_time": "2021-04-10T02:05:35.621789",
     "exception": false,
     "start_time": "2021-04-10T02:05:34.445979",
     "status": "completed"
    },
    "tags": []
   },
   "outputs": [],
   "source": [
    "#hide\n",
    "from scripts.read_data import read_api\n",
    "from IPython.display import HTML\n",
    "import plotly.graph_objects as go\n"
   ]
  },
  {
   "cell_type": "code",
   "execution_count": 3,
   "id": "light-crazy",
   "metadata": {
    "execution": {
     "iopub.execute_input": "2021-04-10T02:05:35.651728Z",
     "iopub.status.busy": "2021-04-10T02:05:35.650775Z",
     "iopub.status.idle": "2021-04-10T02:05:35.674083Z",
     "shell.execute_reply": "2021-04-10T02:05:35.673443Z"
    },
    "papermill": {
     "duration": 0.039886,
     "end_time": "2021-04-10T02:05:35.674243",
     "exception": false,
     "start_time": "2021-04-10T02:05:35.634357",
     "status": "completed"
    },
    "tags": []
   },
   "outputs": [],
   "source": [
    "#hide\n",
    "### ICO koreliacija"
   ]
  },
  {
   "cell_type": "code",
   "execution_count": 4,
   "id": "likely-bahrain",
   "metadata": {
    "execution": {
     "iopub.execute_input": "2021-04-10T02:05:35.704873Z",
     "iopub.status.busy": "2021-04-10T02:05:35.704286Z",
     "iopub.status.idle": "2021-04-10T02:05:36.588179Z",
     "shell.execute_reply": "2021-04-10T02:05:36.587574Z"
    },
    "papermill": {
     "duration": 0.899349,
     "end_time": "2021-04-10T02:05:36.588335",
     "exception": false,
     "start_time": "2021-04-10T02:05:35.688986",
     "status": "completed"
    },
    "tags": []
   },
   "outputs": [],
   "source": [
    "#hide\n",
    "import matplotlib.pyplot as plt\n",
    "import numpy as np\n",
    "import pandas as pd\n",
    "import seaborn as sns\n",
    "import matplotlib.pyplot as plt \n",
    "import matplotlib.dates as mdates\n",
    "import matplotlib.pyplot as plt"
   ]
  },
  {
   "cell_type": "code",
   "execution_count": 5,
   "id": "superior-blanket",
   "metadata": {
    "execution": {
     "iopub.execute_input": "2021-04-10T02:05:36.627579Z",
     "iopub.status.busy": "2021-04-10T02:05:36.626468Z",
     "iopub.status.idle": "2021-04-10T02:05:48.981651Z",
     "shell.execute_reply": "2021-04-10T02:05:48.980791Z"
    },
    "papermill": {
     "duration": 12.378968,
     "end_time": "2021-04-10T02:05:48.981788",
     "exception": false,
     "start_time": "2021-04-10T02:05:36.602820",
     "status": "completed"
    },
    "tags": []
   },
   "outputs": [
    {
     "name": "stderr",
     "output_type": "stream",
     "text": [
      "/home/runner/work/corr-app/corr-app/_notebooks/scripts/read_data.py:187: SettingWithCopyWarning:\n",
      "\n",
      "\n",
      "A value is trying to be set on a copy of a slice from a DataFrame.\n",
      "Try using .loc[row_indexer,col_indexer] = value instead\n",
      "\n",
      "See the caveats in the documentation: https://pandas.pydata.org/pandas-docs/stable/user_guide/indexing.html#returning-a-view-versus-a-copy\n",
      "\n"
     ]
    },
    {
     "name": "stderr",
     "output_type": "stream",
     "text": [
      "/home/runner/work/corr-app/corr-app/_notebooks/scripts/read_data.py:215: SettingWithCopyWarning:\n",
      "\n",
      "\n",
      "A value is trying to be set on a copy of a slice from a DataFrame.\n",
      "Try using .loc[row_indexer,col_indexer] = value instead\n",
      "\n",
      "See the caveats in the documentation: https://pandas.pydata.org/pandas-docs/stable/user_guide/indexing.html#returning-a-view-versus-a-copy\n",
      "\n"
     ]
    }
   ],
   "source": [
    "#hide\n",
    "df_all = read_api()\n",
    "#df_all = df_all.drop(['SP500', 'XAU', 'ETH', 'BTC'], axis=1)\n",
    "\n"
   ]
  },
  {
   "cell_type": "code",
   "execution_count": 6,
   "id": "mature-alert",
   "metadata": {
    "execution": {
     "iopub.execute_input": "2021-04-10T02:05:49.014564Z",
     "iopub.status.busy": "2021-04-10T02:05:49.012759Z",
     "iopub.status.idle": "2021-04-10T02:05:49.045569Z",
     "shell.execute_reply": "2021-04-10T02:05:49.045063Z"
    },
    "papermill": {
     "duration": 0.050395,
     "end_time": "2021-04-10T02:05:49.045690",
     "exception": false,
     "start_time": "2021-04-10T02:05:48.995295",
     "status": "completed"
    },
    "tags": []
   },
   "outputs": [],
   "source": [
    "#hide_input\n",
    "sum_corr = df_all.corr().sum().sort_values(ascending=True).index.values\n",
    "#df_all[sum_corr].corr()"
   ]
  },
  {
   "cell_type": "markdown",
   "id": "complex-syndicate",
   "metadata": {
    "papermill": {
     "duration": 0.012881,
     "end_time": "2021-04-10T02:05:49.071538",
     "exception": false,
     "start_time": "2021-04-10T02:05:49.058657",
     "status": "completed"
    },
    "tags": []
   },
   "source": [
    "## Išplėstinė koreliacijų matrica. "
   ]
  },
  {
   "cell_type": "code",
   "execution_count": 7,
   "id": "atomic-omaha",
   "metadata": {
    "execution": {
     "iopub.execute_input": "2021-04-10T02:05:49.102997Z",
     "iopub.status.busy": "2021-04-10T02:05:49.102389Z",
     "iopub.status.idle": "2021-04-10T02:05:50.373243Z",
     "shell.execute_reply": "2021-04-10T02:05:50.372463Z"
    },
    "papermill": {
     "duration": 1.289015,
     "end_time": "2021-04-10T02:05:50.373380",
     "exception": false,
     "start_time": "2021-04-10T02:05:49.084365",
     "status": "completed"
    },
    "tags": []
   },
   "outputs": [
    {
     "data": {
      "image/png": "[encoded data removed]",
      "text/plain": [
       "<Figure size 1080x792 with 2 Axes>"
      ]
     },
     "metadata": {
      "needs_background": "light"
     },
     "output_type": "display_data"
    }
   ],
   "source": [
    "#hide_input\n",
    "plt.figure(figsize=(15, 11))\n",
    "sns.heatmap(df_all[sum_corr].corr(), annot=True, cmap=\"cubehelix\") \n",
    "sns.set(font_scale=1.25)\n",
    "plt.savefig('corr_matrix.png', format='eps')"
   ]
  },
  {
   "cell_type": "code",
   "execution_count": 8,
   "id": "arbitrary-sullivan",
   "metadata": {
    "execution": {
     "iopub.execute_input": "2021-04-10T02:05:50.412246Z",
     "iopub.status.busy": "2021-04-10T02:05:50.411671Z",
     "iopub.status.idle": "2021-04-10T02:05:50.438940Z",
     "shell.execute_reply": "2021-04-10T02:05:50.438360Z"
    },
    "papermill": {
     "duration": 0.049423,
     "end_time": "2021-04-10T02:05:50.439084",
     "exception": false,
     "start_time": "2021-04-10T02:05:50.389661",
     "status": "completed"
    },
    "tags": []
   },
   "outputs": [],
   "source": [
    "#hide\n",
    "#df_all_mrk = read_api()"
   ]
  },
  {
   "cell_type": "code",
   "execution_count": 9,
   "id": "delayed-adapter",
   "metadata": {
    "execution": {
     "iopub.execute_input": "2021-04-10T02:05:50.475163Z",
     "iopub.status.busy": "2021-04-10T02:05:50.474486Z",
     "iopub.status.idle": "2021-04-10T02:05:50.500663Z",
     "shell.execute_reply": "2021-04-10T02:05:50.501185Z"
    },
    "papermill": {
     "duration": 0.046132,
     "end_time": "2021-04-10T02:05:50.501346",
     "exception": false,
     "start_time": "2021-04-10T02:05:50.455214",
     "status": "completed"
    },
    "tags": []
   },
   "outputs": [],
   "source": [
    "#hide\n",
    "#Koreliacijų koeficientai"
   ]
  },
  {
   "cell_type": "code",
   "execution_count": 10,
   "id": "seeing-celebration",
   "metadata": {
    "execution": {
     "iopub.execute_input": "2021-04-10T02:05:50.544955Z",
     "iopub.status.busy": "2021-04-10T02:05:50.544382Z",
     "iopub.status.idle": "2021-04-10T02:05:50.569006Z",
     "shell.execute_reply": "2021-04-10T02:05:50.568305Z"
    },
    "papermill": {
     "duration": 0.050076,
     "end_time": "2021-04-10T02:05:50.569157",
     "exception": false,
     "start_time": "2021-04-10T02:05:50.519081",
     "status": "completed"
    },
    "tags": []
   },
   "outputs": [],
   "source": [
    "#hide_input\n",
    "#sum_corr = df_all_mrk.corr().sum().sort_values(ascending=True).index.values\n",
    "#df_all_mrk[sum_corr].corr()"
   ]
  },
  {
   "cell_type": "code",
   "execution_count": 11,
   "id": "other-painting",
   "metadata": {
    "execution": {
     "iopub.execute_input": "2021-04-10T02:05:50.608413Z",
     "iopub.status.busy": "2021-04-10T02:05:50.607833Z",
     "iopub.status.idle": "2021-04-10T02:05:50.633220Z",
     "shell.execute_reply": "2021-04-10T02:05:50.633676Z"
    },
    "papermill": {
     "duration": 0.048758,
     "end_time": "2021-04-10T02:05:50.633827",
     "exception": false,
     "start_time": "2021-04-10T02:05:50.585069",
     "status": "completed"
    },
    "tags": []
   },
   "outputs": [],
   "source": [
    "#hide\n",
    "#Koreliacijos matrica. "
   ]
  },
  {
   "cell_type": "code",
   "execution_count": 12,
   "id": "modular-magnitude",
   "metadata": {
    "execution": {
     "iopub.execute_input": "2021-04-10T02:05:50.667732Z",
     "iopub.status.busy": "2021-04-10T02:05:50.667157Z",
     "iopub.status.idle": "2021-04-10T02:05:50.696485Z",
     "shell.execute_reply": "2021-04-10T02:05:50.696014Z"
    },
    "papermill": {
     "duration": 0.04737,
     "end_time": "2021-04-10T02:05:50.696607",
     "exception": false,
     "start_time": "2021-04-10T02:05:50.649237",
     "status": "completed"
    },
    "tags": []
   },
   "outputs": [],
   "source": [
    "#hide_input\n",
    "#plt.figure(figsize=(15, 8))\n",
    "#sns.heatmap(df_all_mrk[sum_corr].corr(), annot=True, cmap=\"BrBG\");\n",
    "#plt.savefig('corr_matrix_all.eps', format='eps')"
   ]
  },
  {
   "cell_type": "code",
   "execution_count": null,
   "id": "original-senator",
   "metadata": {
    "papermill": {
     "duration": 0.01486,
     "end_time": "2021-04-10T02:05:50.726454",
     "exception": false,
     "start_time": "2021-04-10T02:05:50.711594",
     "status": "completed"
    },
    "tags": []
   },
   "outputs": [],
   "source": []
  },
  {
   "cell_type": "code",
   "execution_count": null,
   "id": "saving-secretariat",
   "metadata": {
    "papermill": {
     "duration": 0.014954,
     "end_time": "2021-04-10T02:05:50.756366",
     "exception": false,
     "start_time": "2021-04-10T02:05:50.741412",
     "status": "completed"
    },
    "tags": []
   },
   "outputs": [],
   "source": []
  }
 ],
 "metadata": {
  "kernelspec": {
   "display_name": "Python 3",
   "language": "python",
   "name": "python3"
  },
  "language_info": {
   "codemirror_mode": {
    "name": "ipython",
    "version": 3
   },
   "file_extension": ".py",
   "mimetype": "text/x-python",
   "name": "python",
   "nbconvert_exporter": "python",
   "pygments_lexer": "ipython3",
   "version": "3.6.13"
  },
  "papermill": {
   "default_parameters": {},
   "duration": 18.212683,
   "end_time": "2021-04-10T02:05:51.279851",
   "environment_variables": {},
   "exception": null,
   "input_path": "App-Correlation_charts.ipynb",
   "output_path": "App-Correlation_charts.ipynb",
   "parameters": {},
   "start_time": "2021-04-10T02:05:33.067168",
   "version": "2.2.2"
  }
 },
 "nbformat": 4,
 "nbformat_minor": 5
}