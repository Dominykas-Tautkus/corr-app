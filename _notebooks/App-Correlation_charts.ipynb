{
 "cells": [
  {
   "cell_type": "markdown",
   "id": "touched-facility",
   "metadata": {
    "papermill": {
     "duration": 0.064134,
     "end_time": "2021-06-15T02:08:58.402226",
     "exception": false,
     "start_time": "2021-06-15T02:08:58.338092",
     "status": "completed"
    },
    "tags": []
   },
   "source": [
    "# Koreliacijų matrica\n",
    "> Išplėstinė koreliacijų matrica. \n",
    "\n",
    "- toc: true \n",
    "- badges: true\n",
    "- comments: false\n",
    "- categories: [Dominykas Tautkus]\n",
    "- image: images/matrix.png"
   ]
  },
  {
   "cell_type": "code",
   "execution_count": null,
   "id": "premium-weekend",
   "metadata": {
    "papermill": {
     "duration": 0.040371,
     "end_time": "2021-06-15T02:08:58.479070",
     "exception": false,
     "start_time": "2021-06-15T02:08:58.438699",
     "status": "completed"
    },
    "tags": []
   },
   "outputs": [],
   "source": []
  },
  {
   "cell_type": "code",
   "execution_count": 1,
   "id": "vertical-rebate",
   "metadata": {
    "execution": {
     "iopub.execute_input": "2021-06-15T02:08:58.660759Z",
     "iopub.status.busy": "2021-06-15T02:08:58.660128Z",
     "iopub.status.idle": "2021-06-15T02:08:58.673228Z",
     "shell.execute_reply": "2021-06-15T02:08:58.672711Z"
    },
    "papermill": {
     "duration": 0.133058,
     "end_time": "2021-06-15T02:08:58.673372",
     "exception": false,
     "start_time": "2021-06-15T02:08:58.540314",
     "status": "completed"
    },
    "tags": []
   },
   "outputs": [],
   "source": [
    "#hide\n",
    "%load_ext autoreload\n",
    "%autoreload 2"
   ]
  },
  {
   "cell_type": "code",
   "execution_count": 2,
   "id": "overall-advancement",
   "metadata": {
    "execution": {
     "iopub.execute_input": "2021-06-15T02:08:58.851699Z",
     "iopub.status.busy": "2021-06-15T02:08:58.850667Z",
     "iopub.status.idle": "2021-06-15T02:09:00.596643Z",
     "shell.execute_reply": "2021-06-15T02:09:00.595925Z"
    },
    "papermill": {
     "duration": 1.80906,
     "end_time": "2021-06-15T02:09:00.596833",
     "exception": false,
     "start_time": "2021-06-15T02:08:58.787773",
     "status": "completed"
    },
    "tags": []
   },
   "outputs": [],
   "source": [
    "#hide\n",
    "from scripts.read_data import read_api\n",
    "from IPython.display import HTML\n",
    "import plotly.graph_objects as go\n"
   ]
  },
  {
   "cell_type": "code",
   "execution_count": 3,
   "id": "light-crazy",
   "metadata": {
    "execution": {
     "iopub.execute_input": "2021-06-15T02:09:00.633135Z",
     "iopub.status.busy": "2021-06-15T02:09:00.630347Z",
     "iopub.status.idle": "2021-06-15T02:09:00.654600Z",
     "shell.execute_reply": "2021-06-15T02:09:00.655072Z"
    },
    "papermill": {
     "duration": 0.044452,
     "end_time": "2021-06-15T02:09:00.655228",
     "exception": false,
     "start_time": "2021-06-15T02:09:00.610776",
     "status": "completed"
    },
    "tags": []
   },
   "outputs": [],
   "source": [
    "#hide\n",
    "### ICO koreliacija"
   ]
  },
  {
   "cell_type": "code",
   "execution_count": 4,
   "id": "likely-bahrain",
   "metadata": {
    "execution": {
     "iopub.execute_input": "2021-06-15T02:09:00.691183Z",
     "iopub.status.busy": "2021-06-15T02:09:00.690555Z",
     "iopub.status.idle": "2021-06-15T02:09:01.609713Z",
     "shell.execute_reply": "2021-06-15T02:09:01.609089Z"
    },
    "papermill": {
     "duration": 0.940836,
     "end_time": "2021-06-15T02:09:01.609873",
     "exception": false,
     "start_time": "2021-06-15T02:09:00.669037",
     "status": "completed"
    },
    "tags": []
   },
   "outputs": [],
   "source": [
    "#hide\n",
    "import matplotlib.pyplot as plt\n",
    "import numpy as np\n",
    "import pandas as pd\n",
    "import seaborn as sns\n",
    "import matplotlib.pyplot as plt \n",
    "import matplotlib.dates as mdates\n",
    "import matplotlib.pyplot as plt"
   ]
  },
  {
   "cell_type": "code",
   "execution_count": 5,
   "id": "superior-blanket",
   "metadata": {
    "execution": {
     "iopub.execute_input": "2021-06-15T02:09:01.645316Z",
     "iopub.status.busy": "2021-06-15T02:09:01.644704Z",
     "iopub.status.idle": "2021-06-15T02:09:16.571564Z",
     "shell.execute_reply": "2021-06-15T02:09:16.570994Z"
    },
    "papermill": {
     "duration": 14.945372,
     "end_time": "2021-06-15T02:09:16.571702",
     "exception": false,
     "start_time": "2021-06-15T02:09:01.626330",
     "status": "completed"
    },
    "tags": []
   },
   "outputs": [
    {
     "name": "stderr",
     "output_type": "stream",
     "text": [
      "/home/runner/work/corr-app/corr-app/_notebooks/scripts/read_data.py:187: SettingWithCopyWarning:\n",
      "\n",
      "\n",
      "A value is trying to be set on a copy of a slice from a DataFrame.\n",
      "Try using .loc[row_indexer,col_indexer] = value instead\n",
      "\n",
      "See the caveats in the documentation: https://pandas.pydata.org/pandas-docs/stable/user_guide/indexing.html#returning-a-view-versus-a-copy\n",
      "\n"
     ]
    },
    {
     "name": "stderr",
     "output_type": "stream",
     "text": [
      "/home/runner/work/corr-app/corr-app/_notebooks/scripts/read_data.py:215: SettingWithCopyWarning:\n",
      "\n",
      "\n",
      "A value is trying to be set on a copy of a slice from a DataFrame.\n",
      "Try using .loc[row_indexer,col_indexer] = value instead\n",
      "\n",
      "See the caveats in the documentation: https://pandas.pydata.org/pandas-docs/stable/user_guide/indexing.html#returning-a-view-versus-a-copy\n",
      "\n"
     ]
    }
   ],
   "source": [
    "#hide\n",
    "df_all = read_api()\n",
    "#df_all = df_all.drop(['SP500', 'XAU', 'ETH', 'BTC'], axis=1)\n",
    "\n"
   ]
  },
  {
   "cell_type": "code",
   "execution_count": 6,
   "id": "mature-alert",
   "metadata": {
    "execution": {
     "iopub.execute_input": "2021-06-15T02:09:16.603980Z",
     "iopub.status.busy": "2021-06-15T02:09:16.603308Z",
     "iopub.status.idle": "2021-06-15T02:09:16.637244Z",
     "shell.execute_reply": "2021-06-15T02:09:16.636291Z"
    },
    "papermill": {
     "duration": 0.052005,
     "end_time": "2021-06-15T02:09:16.637447",
     "exception": false,
     "start_time": "2021-06-15T02:09:16.585442",
     "status": "completed"
    },
    "tags": []
   },
   "outputs": [],
   "source": [
    "#hide_input\n",
    "sum_corr = df_all.corr().sum().sort_values(ascending=True).index.values\n",
    "#df_all[sum_corr].corr()"
   ]
  },
  {
   "cell_type": "markdown",
   "id": "complex-syndicate",
   "metadata": {
    "papermill": {
     "duration": 0.013599,
     "end_time": "2021-06-15T02:09:16.670785",
     "exception": false,
     "start_time": "2021-06-15T02:09:16.657186",
     "status": "completed"
    },
    "tags": []
   },
   "source": [
    "## Išplėstinė koreliacijų matrica. "
   ]
  },
  {
   "cell_type": "code",
   "execution_count": 7,
   "id": "atomic-omaha",
   "metadata": {
    "execution": {
     "iopub.execute_input": "2021-06-15T02:09:16.704634Z",
     "iopub.status.busy": "2021-06-15T02:09:16.704007Z",
     "iopub.status.idle": "2021-06-15T02:09:18.080876Z",
     "shell.execute_reply": "2021-06-15T02:09:18.081378Z"
    },
    "papermill": {
     "duration": 1.397067,
     "end_time": "2021-06-15T02:09:18.081532",
     "exception": false,
     "start_time": "2021-06-15T02:09:16.684465",
     "status": "completed"
    },
    "tags": []
   },
   "outputs": [
    {
     "data": {
      "image/png": "[encoded data removed]",
      "text/plain": [
       "<Figure size 1080x792 with 2 Axes>"
      ]
     },
     "metadata": {
      "needs_background": "light"
     },
     "output_type": "display_data"
    }
   ],
   "source": [
    "#hide_input\n",
    "plt.figure(figsize=(15, 11))\n",
    "sns.heatmap(df_all[sum_corr].corr(), annot=True, cmap=\"cubehelix\") \n",
    "sns.set(font_scale=1.25)\n",
    "plt.savefig('corr_matrix.png', format='eps')"
   ]
  },
  {
   "cell_type": "code",
   "execution_count": 8,
   "id": "arbitrary-sullivan",
   "metadata": {
    "execution": {
     "iopub.execute_input": "2021-06-15T02:09:18.118948Z",
     "iopub.status.busy": "2021-06-15T02:09:18.118340Z",
     "iopub.status.idle": "2021-06-15T02:09:18.148261Z",
     "shell.execute_reply": "2021-06-15T02:09:18.148872Z"
    },
    "papermill": {
     "duration": 0.051227,
     "end_time": "2021-06-15T02:09:18.149065",
     "exception": false,
     "start_time": "2021-06-15T02:09:18.097838",
     "status": "completed"
    },
    "tags": []
   },
   "outputs": [],
   "source": [
    "#hide\n",
    "#df_all_mrk = read_api()"
   ]
  },
  {
   "cell_type": "code",
   "execution_count": 9,
   "id": "delayed-adapter",
   "metadata": {
    "execution": {
     "iopub.execute_input": "2021-06-15T02:09:18.185663Z",
     "iopub.status.busy": "2021-06-15T02:09:18.185058Z",
     "iopub.status.idle": "2021-06-15T02:09:18.216731Z",
     "shell.execute_reply": "2021-06-15T02:09:18.215848Z"
    },
    "papermill": {
     "duration": 0.051129,
     "end_time": "2021-06-15T02:09:18.216935",
     "exception": false,
     "start_time": "2021-06-15T02:09:18.165806",
     "status": "completed"
    },
    "tags": []
   },
   "outputs": [],
   "source": [
    "#hide\n",
    "#Koreliacijų koeficientai"
   ]
  },
  {
   "cell_type": "code",
   "execution_count": 10,
   "id": "seeing-celebration",
   "metadata": {
    "execution": {
     "iopub.execute_input": "2021-06-15T02:09:18.255178Z",
     "iopub.status.busy": "2021-06-15T02:09:18.254574Z",
     "iopub.status.idle": "2021-06-15T02:09:18.284096Z",
     "shell.execute_reply": "2021-06-15T02:09:18.284628Z"
    },
    "papermill": {
     "duration": 0.049221,
     "end_time": "2021-06-15T02:09:18.284795",
     "exception": false,
     "start_time": "2021-06-15T02:09:18.235574",
     "status": "completed"
    },
    "tags": []
   },
   "outputs": [],
   "source": [
    "#hide_input\n",
    "#sum_corr = df_all_mrk.corr().sum().sort_values(ascending=True).index.values\n",
    "#df_all_mrk[sum_corr].corr()"
   ]
  },
  {
   "cell_type": "code",
   "execution_count": 11,
   "id": "other-painting",
   "metadata": {
    "execution": {
     "iopub.execute_input": "2021-06-15T02:09:18.326795Z",
     "iopub.status.busy": "2021-06-15T02:09:18.326183Z",
     "iopub.status.idle": "2021-06-15T02:09:18.361439Z",
     "shell.execute_reply": "2021-06-15T02:09:18.360563Z"
    },
    "papermill": {
     "duration": 0.059871,
     "end_time": "2021-06-15T02:09:18.361642",
     "exception": false,
     "start_time": "2021-06-15T02:09:18.301771",
     "status": "completed"
    },
    "tags": []
   },
   "outputs": [],
   "source": [
    "#hide\n",
    "#Koreliacijos matrica. "
   ]
  },
  {
   "cell_type": "code",
   "execution_count": 12,
   "id": "modular-magnitude",
   "metadata": {
    "execution": {
     "iopub.execute_input": "2021-06-15T02:09:18.402786Z",
     "iopub.status.busy": "2021-06-15T02:09:18.402192Z",
     "iopub.status.idle": "2021-06-15T02:09:18.432072Z",
     "shell.execute_reply": "2021-06-15T02:09:18.431235Z"
    },
    "papermill": {
     "duration": 0.05364,
     "end_time": "2021-06-15T02:09:18.432265",
     "exception": false,
     "start_time": "2021-06-15T02:09:18.378625",
     "status": "completed"
    },
    "tags": []
   },
   "outputs": [],
   "source": [
    "#hide_input\n",
    "#plt.figure(figsize=(15, 8))\n",
    "#sns.heatmap(df_all_mrk[sum_corr].corr(), annot=True, cmap=\"BrBG\");\n",
    "#plt.savefig('corr_matrix_all.eps', format='eps')"
   ]
  },
  {
   "cell_type": "code",
   "execution_count": null,
   "id": "original-senator",
   "metadata": {
    "papermill": {
     "duration": 0.015937,
     "end_time": "2021-06-15T02:09:18.465136",
     "exception": false,
     "start_time": "2021-06-15T02:09:18.449199",
     "status": "completed"
    },
    "tags": []
   },
   "outputs": [],
   "source": []
  },
  {
   "cell_type": "code",
   "execution_count": null,
   "id": "saving-secretariat",
   "metadata": {
    "papermill": {
     "duration": 0.015702,
     "end_time": "2021-06-15T02:09:18.497340",
     "exception": false,
     "start_time": "2021-06-15T02:09:18.481638",
     "status": "completed"
    },
    "tags": []
   },
   "outputs": [],
   "source": []
  }
 ],
 "metadata": {
  "kernelspec": {
   "display_name": "Python 3",
   "language": "python",
   "name": "python3"
  },
  "language_info": {
   "codemirror_mode": {
    "name": "ipython",
    "version": 3
   },
   "file_extension": ".py",
   "mimetype": "text/x-python",
   "name": "python",
   "nbconvert_exporter": "python",
   "pygments_lexer": "ipython3",
   "version": "3.6.13"
  },
  "papermill": {
   "default_parameters": {},
   "duration": 21.877628,
   "end_time": "2021-06-15T02:09:19.021856",
   "environment_variables": {},
   "exception": null,
   "input_path": "App-Correlation_charts.ipynb",
   "output_path": "App-Correlation_charts.ipynb",
   "parameters": {},
   "start_time": "2021-06-15T02:08:57.144228",
   "version": "2.2.2"
  }
 },
 "nbformat": 4,
 "nbformat_minor": 5
}