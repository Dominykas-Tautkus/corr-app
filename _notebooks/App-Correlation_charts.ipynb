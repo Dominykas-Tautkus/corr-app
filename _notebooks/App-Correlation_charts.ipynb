{
 "cells": [
  {
   "cell_type": "markdown",
   "id": "touched-facility",
   "metadata": {
    "papermill": {
     "duration": 0.016884,
     "end_time": "2021-06-09T02:21:37.819003",
     "exception": false,
     "start_time": "2021-06-09T02:21:37.802119",
     "status": "completed"
    },
    "tags": []
   },
   "source": [
    "# Koreliacijų matrica\n",
    "> Išplėstinė koreliacijų matrica. \n",
    "\n",
    "- toc: true \n",
    "- badges: true\n",
    "- comments: false\n",
    "- categories: [Dominykas Tautkus]\n",
    "- image: images/matrix.png"
   ]
  },
  {
   "cell_type": "code",
   "execution_count": null,
   "id": "premium-weekend",
   "metadata": {
    "papermill": {
     "duration": 0.011164,
     "end_time": "2021-06-09T02:21:37.843041",
     "exception": false,
     "start_time": "2021-06-09T02:21:37.831877",
     "status": "completed"
    },
    "tags": []
   },
   "outputs": [],
   "source": []
  },
  {
   "cell_type": "code",
   "execution_count": 1,
   "id": "vertical-rebate",
   "metadata": {
    "execution": {
     "iopub.execute_input": "2021-06-09T02:21:37.876160Z",
     "iopub.status.busy": "2021-06-09T02:21:37.875547Z",
     "iopub.status.idle": "2021-06-09T02:21:37.885778Z",
     "shell.execute_reply": "2021-06-09T02:21:37.886362Z"
    },
    "papermill": {
     "duration": 0.032165,
     "end_time": "2021-06-09T02:21:37.886511",
     "exception": false,
     "start_time": "2021-06-09T02:21:37.854346",
     "status": "completed"
    },
    "tags": []
   },
   "outputs": [],
   "source": [
    "#hide\n",
    "%load_ext autoreload\n",
    "%autoreload 2"
   ]
  },
  {
   "cell_type": "code",
   "execution_count": 2,
   "id": "overall-advancement",
   "metadata": {
    "execution": {
     "iopub.execute_input": "2021-06-09T02:21:37.912389Z",
     "iopub.status.busy": "2021-06-09T02:21:37.911809Z",
     "iopub.status.idle": "2021-06-09T02:21:39.107025Z",
     "shell.execute_reply": "2021-06-09T02:21:39.105952Z"
    },
    "papermill": {
     "duration": 1.209415,
     "end_time": "2021-06-09T02:21:39.107193",
     "exception": false,
     "start_time": "2021-06-09T02:21:37.897778",
     "status": "completed"
    },
    "tags": []
   },
   "outputs": [],
   "source": [
    "#hide\n",
    "from scripts.read_data import read_api\n",
    "from IPython.display import HTML\n",
    "import plotly.graph_objects as go\n"
   ]
  },
  {
   "cell_type": "code",
   "execution_count": 3,
   "id": "light-crazy",
   "metadata": {
    "execution": {
     "iopub.execute_input": "2021-06-09T02:21:39.139013Z",
     "iopub.status.busy": "2021-06-09T02:21:39.138489Z",
     "iopub.status.idle": "2021-06-09T02:21:39.158947Z",
     "shell.execute_reply": "2021-06-09T02:21:39.159661Z"
    },
    "papermill": {
     "duration": 0.040026,
     "end_time": "2021-06-09T02:21:39.159800",
     "exception": false,
     "start_time": "2021-06-09T02:21:39.119774",
     "status": "completed"
    },
    "tags": []
   },
   "outputs": [],
   "source": [
    "#hide\n",
    "### ICO koreliacija"
   ]
  },
  {
   "cell_type": "code",
   "execution_count": 4,
   "id": "likely-bahrain",
   "metadata": {
    "execution": {
     "iopub.execute_input": "2021-06-09T02:21:39.187839Z",
     "iopub.status.busy": "2021-06-09T02:21:39.187245Z",
     "iopub.status.idle": "2021-06-09T02:21:40.184199Z",
     "shell.execute_reply": "2021-06-09T02:21:40.184820Z"
    },
    "papermill": {
     "duration": 1.013076,
     "end_time": "2021-06-09T02:21:40.184998",
     "exception": false,
     "start_time": "2021-06-09T02:21:39.171922",
     "status": "completed"
    },
    "tags": []
   },
   "outputs": [],
   "source": [
    "#hide\n",
    "import matplotlib.pyplot as plt\n",
    "import numpy as np\n",
    "import pandas as pd\n",
    "import seaborn as sns\n",
    "import matplotlib.pyplot as plt \n",
    "import matplotlib.dates as mdates\n",
    "import matplotlib.pyplot as plt"
   ]
  },
  {
   "cell_type": "code",
   "execution_count": 5,
   "id": "superior-blanket",
   "metadata": {
    "execution": {
     "iopub.execute_input": "2021-06-09T02:21:40.219611Z",
     "iopub.status.busy": "2021-06-09T02:21:40.218912Z",
     "iopub.status.idle": "2021-06-09T02:21:51.528531Z",
     "shell.execute_reply": "2021-06-09T02:21:51.527512Z"
    },
    "papermill": {
     "duration": 11.329373,
     "end_time": "2021-06-09T02:21:51.528686",
     "exception": false,
     "start_time": "2021-06-09T02:21:40.199313",
     "status": "completed"
    },
    "tags": []
   },
   "outputs": [
    {
     "name": "stderr",
     "output_type": "stream",
     "text": [
      "/home/runner/work/corr-app/corr-app/_notebooks/scripts/read_data.py:187: SettingWithCopyWarning:\n",
      "\n",
      "\n",
      "A value is trying to be set on a copy of a slice from a DataFrame.\n",
      "Try using .loc[row_indexer,col_indexer] = value instead\n",
      "\n",
      "See the caveats in the documentation: https://pandas.pydata.org/pandas-docs/stable/user_guide/indexing.html#returning-a-view-versus-a-copy\n",
      "\n"
     ]
    },
    {
     "name": "stderr",
     "output_type": "stream",
     "text": [
      "/home/runner/work/corr-app/corr-app/_notebooks/scripts/read_data.py:215: SettingWithCopyWarning:\n",
      "\n",
      "\n",
      "A value is trying to be set on a copy of a slice from a DataFrame.\n",
      "Try using .loc[row_indexer,col_indexer] = value instead\n",
      "\n",
      "See the caveats in the documentation: https://pandas.pydata.org/pandas-docs/stable/user_guide/indexing.html#returning-a-view-versus-a-copy\n",
      "\n"
     ]
    }
   ],
   "source": [
    "#hide\n",
    "df_all = read_api()\n",
    "#df_all = df_all.drop(['SP500', 'XAU', 'ETH', 'BTC'], axis=1)\n",
    "\n"
   ]
  },
  {
   "cell_type": "code",
   "execution_count": 6,
   "id": "mature-alert",
   "metadata": {
    "execution": {
     "iopub.execute_input": "2021-06-09T02:21:51.573078Z",
     "iopub.status.busy": "2021-06-09T02:21:51.565769Z",
     "iopub.status.idle": "2021-06-09T02:21:51.602748Z",
     "shell.execute_reply": "2021-06-09T02:21:51.602158Z"
    },
    "papermill": {
     "duration": 0.057237,
     "end_time": "2021-06-09T02:21:51.602891",
     "exception": false,
     "start_time": "2021-06-09T02:21:51.545654",
     "status": "completed"
    },
    "tags": []
   },
   "outputs": [],
   "source": [
    "#hide_input\n",
    "sum_corr = df_all.corr().sum().sort_values(ascending=True).index.values\n",
    "#df_all[sum_corr].corr()"
   ]
  },
  {
   "cell_type": "markdown",
   "id": "complex-syndicate",
   "metadata": {
    "papermill": {
     "duration": 0.015229,
     "end_time": "2021-06-09T02:21:51.633329",
     "exception": false,
     "start_time": "2021-06-09T02:21:51.618100",
     "status": "completed"
    },
    "tags": []
   },
   "source": [
    "## Išplėstinė koreliacijų matrica. "
   ]
  },
  {
   "cell_type": "code",
   "execution_count": 7,
   "id": "atomic-omaha",
   "metadata": {
    "execution": {
     "iopub.execute_input": "2021-06-09T02:21:51.672695Z",
     "iopub.status.busy": "2021-06-09T02:21:51.672028Z",
     "iopub.status.idle": "2021-06-09T02:21:53.252704Z",
     "shell.execute_reply": "2021-06-09T02:21:53.252202Z"
    },
    "papermill": {
     "duration": 1.60442,
     "end_time": "2021-06-09T02:21:53.252828",
     "exception": false,
     "start_time": "2021-06-09T02:21:51.648408",
     "status": "completed"
    },
    "tags": []
   },
   "outputs": [
    {
     "data": {
      "image/png": "[encoded data removed]",
      "text/plain": [
       "<Figure size 1080x792 with 2 Axes>"
      ]
     },
     "metadata": {
      "needs_background": "light"
     },
     "output_type": "display_data"
    }
   ],
   "source": [
    "#hide_input\n",
    "plt.figure(figsize=(15, 11))\n",
    "sns.heatmap(df_all[sum_corr].corr(), annot=True, cmap=\"cubehelix\") \n",
    "sns.set(font_scale=1.25)\n",
    "plt.savefig('corr_matrix.png', format='eps')"
   ]
  },
  {
   "cell_type": "code",
   "execution_count": 8,
   "id": "arbitrary-sullivan",
   "metadata": {
    "execution": {
     "iopub.execute_input": "2021-06-09T02:21:53.291368Z",
     "iopub.status.busy": "2021-06-09T02:21:53.290776Z",
     "iopub.status.idle": "2021-06-09T02:21:53.315208Z",
     "shell.execute_reply": "2021-06-09T02:21:53.314718Z"
    },
    "papermill": {
     "duration": 0.047572,
     "end_time": "2021-06-09T02:21:53.315337",
     "exception": false,
     "start_time": "2021-06-09T02:21:53.267765",
     "status": "completed"
    },
    "tags": []
   },
   "outputs": [],
   "source": [
    "#hide\n",
    "#df_all_mrk = read_api()"
   ]
  },
  {
   "cell_type": "code",
   "execution_count": 9,
   "id": "delayed-adapter",
   "metadata": {
    "execution": {
     "iopub.execute_input": "2021-06-09T02:21:53.350471Z",
     "iopub.status.busy": "2021-06-09T02:21:53.349874Z",
     "iopub.status.idle": "2021-06-09T02:21:53.375395Z",
     "shell.execute_reply": "2021-06-09T02:21:53.374906Z"
    },
    "papermill": {
     "duration": 0.044789,
     "end_time": "2021-06-09T02:21:53.375523",
     "exception": false,
     "start_time": "2021-06-09T02:21:53.330734",
     "status": "completed"
    },
    "tags": []
   },
   "outputs": [],
   "source": [
    "#hide\n",
    "#Koreliacijų koeficientai"
   ]
  },
  {
   "cell_type": "code",
   "execution_count": 10,
   "id": "seeing-celebration",
   "metadata": {
    "execution": {
     "iopub.execute_input": "2021-06-09T02:21:53.410500Z",
     "iopub.status.busy": "2021-06-09T02:21:53.409885Z",
     "iopub.status.idle": "2021-06-09T02:21:53.437105Z",
     "shell.execute_reply": "2021-06-09T02:21:53.437564Z"
    },
    "papermill": {
     "duration": 0.047061,
     "end_time": "2021-06-09T02:21:53.437714",
     "exception": false,
     "start_time": "2021-06-09T02:21:53.390653",
     "status": "completed"
    },
    "tags": []
   },
   "outputs": [],
   "source": [
    "#hide_input\n",
    "#sum_corr = df_all_mrk.corr().sum().sort_values(ascending=True).index.values\n",
    "#df_all_mrk[sum_corr].corr()"
   ]
  },
  {
   "cell_type": "code",
   "execution_count": 11,
   "id": "other-painting",
   "metadata": {
    "execution": {
     "iopub.execute_input": "2021-06-09T02:21:53.477750Z",
     "iopub.status.busy": "2021-06-09T02:21:53.477095Z",
     "iopub.status.idle": "2021-06-09T02:21:53.503298Z",
     "shell.execute_reply": "2021-06-09T02:21:53.502773Z"
    },
    "papermill": {
     "duration": 0.049741,
     "end_time": "2021-06-09T02:21:53.503446",
     "exception": false,
     "start_time": "2021-06-09T02:21:53.453705",
     "status": "completed"
    },
    "tags": []
   },
   "outputs": [],
   "source": [
    "#hide\n",
    "#Koreliacijos matrica. "
   ]
  },
  {
   "cell_type": "code",
   "execution_count": 12,
   "id": "modular-magnitude",
   "metadata": {
    "execution": {
     "iopub.execute_input": "2021-06-09T02:21:53.540949Z",
     "iopub.status.busy": "2021-06-09T02:21:53.540333Z",
     "iopub.status.idle": "2021-06-09T02:21:53.568275Z",
     "shell.execute_reply": "2021-06-09T02:21:53.567717Z"
    },
    "papermill": {
     "duration": 0.049064,
     "end_time": "2021-06-09T02:21:53.568416",
     "exception": false,
     "start_time": "2021-06-09T02:21:53.519352",
     "status": "completed"
    },
    "tags": []
   },
   "outputs": [],
   "source": [
    "#hide_input\n",
    "#plt.figure(figsize=(15, 8))\n",
    "#sns.heatmap(df_all_mrk[sum_corr].corr(), annot=True, cmap=\"BrBG\");\n",
    "#plt.savefig('corr_matrix_all.eps', format='eps')"
   ]
  },
  {
   "cell_type": "code",
   "execution_count": null,
   "id": "original-senator",
   "metadata": {
    "papermill": {
     "duration": 0.01569,
     "end_time": "2021-06-09T02:21:53.600139",
     "exception": false,
     "start_time": "2021-06-09T02:21:53.584449",
     "status": "completed"
    },
    "tags": []
   },
   "outputs": [],
   "source": []
  },
  {
   "cell_type": "code",
   "execution_count": null,
   "id": "saving-secretariat",
   "metadata": {
    "papermill": {
     "duration": 0.015926,
     "end_time": "2021-06-09T02:21:53.631210",
     "exception": false,
     "start_time": "2021-06-09T02:21:53.615284",
     "status": "completed"
    },
    "tags": []
   },
   "outputs": [],
   "source": []
  }
 ],
 "metadata": {
  "kernelspec": {
   "display_name": "Python 3",
   "language": "python",
   "name": "python3"
  },
  "language_info": {
   "codemirror_mode": {
    "name": "ipython",
    "version": 3
   },
   "file_extension": ".py",
   "mimetype": "text/x-python",
   "name": "python",
   "nbconvert_exporter": "python",
   "pygments_lexer": "ipython3",
   "version": "3.6.13"
  },
  "papermill": {
   "default_parameters": {},
   "duration": 18.32746,
   "end_time": "2021-06-09T02:21:55.045759",
   "environment_variables": {},
   "exception": null,
   "input_path": "App-Correlation_charts.ipynb",
   "output_path": "App-Correlation_charts.ipynb",
   "parameters": {},
   "start_time": "2021-06-09T02:21:36.718299",
   "version": "2.2.2"
  }
 },
 "nbformat": 4,
 "nbformat_minor": 5
}