{
 "cells": [
  {
   "cell_type": "markdown",
   "id": "touched-facility",
   "metadata": {
    "papermill": {
     "duration": 0.017235,
     "end_time": "2021-05-27T03:14:11.173230",
     "exception": false,
     "start_time": "2021-05-27T03:14:11.155995",
     "status": "completed"
    },
    "tags": []
   },
   "source": [
    "# Koreliacijų matrica\n",
    "> Išplėstinė koreliacijų matrica. \n",
    "\n",
    "- toc: true \n",
    "- badges: true\n",
    "- comments: false\n",
    "- categories: [Dominykas Tautkus]\n",
    "- image: images/matrix.png"
   ]
  },
  {
   "cell_type": "code",
   "execution_count": null,
   "id": "premium-weekend",
   "metadata": {
    "papermill": {
     "duration": 0.012075,
     "end_time": "2021-05-27T03:14:11.198303",
     "exception": false,
     "start_time": "2021-05-27T03:14:11.186228",
     "status": "completed"
    },
    "tags": []
   },
   "outputs": [],
   "source": []
  },
  {
   "cell_type": "code",
   "execution_count": 1,
   "id": "vertical-rebate",
   "metadata": {
    "execution": {
     "iopub.execute_input": "2021-05-27T03:14:11.233780Z",
     "iopub.status.busy": "2021-05-27T03:14:11.233128Z",
     "iopub.status.idle": "2021-05-27T03:14:11.244840Z",
     "shell.execute_reply": "2021-05-27T03:14:11.244354Z"
    },
    "papermill": {
     "duration": 0.034503,
     "end_time": "2021-05-27T03:14:11.244972",
     "exception": false,
     "start_time": "2021-05-27T03:14:11.210469",
     "status": "completed"
    },
    "tags": []
   },
   "outputs": [],
   "source": [
    "#hide\n",
    "%load_ext autoreload\n",
    "%autoreload 2"
   ]
  },
  {
   "cell_type": "code",
   "execution_count": 2,
   "id": "overall-advancement",
   "metadata": {
    "execution": {
     "iopub.execute_input": "2021-05-27T03:14:11.272558Z",
     "iopub.status.busy": "2021-05-27T03:14:11.271916Z",
     "iopub.status.idle": "2021-05-27T03:14:12.402333Z",
     "shell.execute_reply": "2021-05-27T03:14:12.402803Z"
    },
    "papermill": {
     "duration": 1.145957,
     "end_time": "2021-05-27T03:14:12.402962",
     "exception": false,
     "start_time": "2021-05-27T03:14:11.257005",
     "status": "completed"
    },
    "tags": []
   },
   "outputs": [],
   "source": [
    "#hide\n",
    "from scripts.read_data import read_api\n",
    "from IPython.display import HTML\n",
    "import plotly.graph_objects as go\n"
   ]
  },
  {
   "cell_type": "code",
   "execution_count": 3,
   "id": "light-crazy",
   "metadata": {
    "execution": {
     "iopub.execute_input": "2021-05-27T03:14:12.432114Z",
     "iopub.status.busy": "2021-05-27T03:14:12.431513Z",
     "iopub.status.idle": "2021-05-27T03:14:12.454466Z",
     "shell.execute_reply": "2021-05-27T03:14:12.454908Z"
    },
    "papermill": {
     "duration": 0.039241,
     "end_time": "2021-05-27T03:14:12.455047",
     "exception": false,
     "start_time": "2021-05-27T03:14:12.415806",
     "status": "completed"
    },
    "tags": []
   },
   "outputs": [],
   "source": [
    "#hide\n",
    "### ICO koreliacija"
   ]
  },
  {
   "cell_type": "code",
   "execution_count": 4,
   "id": "likely-bahrain",
   "metadata": {
    "execution": {
     "iopub.execute_input": "2021-05-27T03:14:12.483010Z",
     "iopub.status.busy": "2021-05-27T03:14:12.482422Z",
     "iopub.status.idle": "2021-05-27T03:14:13.405724Z",
     "shell.execute_reply": "2021-05-27T03:14:13.405189Z"
    },
    "papermill": {
     "duration": 0.938658,
     "end_time": "2021-05-27T03:14:13.405868",
     "exception": false,
     "start_time": "2021-05-27T03:14:12.467210",
     "status": "completed"
    },
    "tags": []
   },
   "outputs": [],
   "source": [
    "#hide\n",
    "import matplotlib.pyplot as plt\n",
    "import numpy as np\n",
    "import pandas as pd\n",
    "import seaborn as sns\n",
    "import matplotlib.pyplot as plt \n",
    "import matplotlib.dates as mdates\n",
    "import matplotlib.pyplot as plt"
   ]
  },
  {
   "cell_type": "code",
   "execution_count": 5,
   "id": "superior-blanket",
   "metadata": {
    "execution": {
     "iopub.execute_input": "2021-05-27T03:14:13.437481Z",
     "iopub.status.busy": "2021-05-27T03:14:13.435766Z",
     "iopub.status.idle": "2021-05-27T03:14:24.272836Z",
     "shell.execute_reply": "2021-05-27T03:14:24.272280Z"
    },
    "papermill": {
     "duration": 10.854258,
     "end_time": "2021-05-27T03:14:24.272968",
     "exception": false,
     "start_time": "2021-05-27T03:14:13.418710",
     "status": "completed"
    },
    "tags": []
   },
   "outputs": [
    {
     "name": "stderr",
     "output_type": "stream",
     "text": [
      "/home/runner/work/corr-app/corr-app/_notebooks/scripts/read_data.py:187: SettingWithCopyWarning:\n",
      "\n",
      "\n",
      "A value is trying to be set on a copy of a slice from a DataFrame.\n",
      "Try using .loc[row_indexer,col_indexer] = value instead\n",
      "\n",
      "See the caveats in the documentation: https://pandas.pydata.org/pandas-docs/stable/user_guide/indexing.html#returning-a-view-versus-a-copy\n",
      "\n"
     ]
    },
    {
     "name": "stderr",
     "output_type": "stream",
     "text": [
      "/home/runner/work/corr-app/corr-app/_notebooks/scripts/read_data.py:215: SettingWithCopyWarning:\n",
      "\n",
      "\n",
      "A value is trying to be set on a copy of a slice from a DataFrame.\n",
      "Try using .loc[row_indexer,col_indexer] = value instead\n",
      "\n",
      "See the caveats in the documentation: https://pandas.pydata.org/pandas-docs/stable/user_guide/indexing.html#returning-a-view-versus-a-copy\n",
      "\n"
     ]
    }
   ],
   "source": [
    "#hide\n",
    "df_all = read_api()\n",
    "#df_all = df_all.drop(['SP500', 'XAU', 'ETH', 'BTC'], axis=1)\n",
    "\n"
   ]
  },
  {
   "cell_type": "code",
   "execution_count": 6,
   "id": "mature-alert",
   "metadata": {
    "execution": {
     "iopub.execute_input": "2021-05-27T03:14:24.304060Z",
     "iopub.status.busy": "2021-05-27T03:14:24.303438Z",
     "iopub.status.idle": "2021-05-27T03:14:24.335537Z",
     "shell.execute_reply": "2021-05-27T03:14:24.335994Z"
    },
    "papermill": {
     "duration": 0.04975,
     "end_time": "2021-05-27T03:14:24.336142",
     "exception": false,
     "start_time": "2021-05-27T03:14:24.286392",
     "status": "completed"
    },
    "tags": []
   },
   "outputs": [],
   "source": [
    "#hide_input\n",
    "sum_corr = df_all.corr().sum().sort_values(ascending=True).index.values\n",
    "#df_all[sum_corr].corr()"
   ]
  },
  {
   "cell_type": "markdown",
   "id": "complex-syndicate",
   "metadata": {
    "papermill": {
     "duration": 0.012733,
     "end_time": "2021-05-27T03:14:24.361668",
     "exception": false,
     "start_time": "2021-05-27T03:14:24.348935",
     "status": "completed"
    },
    "tags": []
   },
   "source": [
    "## Išplėstinė koreliacijų matrica. "
   ]
  },
  {
   "cell_type": "code",
   "execution_count": 7,
   "id": "atomic-omaha",
   "metadata": {
    "execution": {
     "iopub.execute_input": "2021-05-27T03:14:24.391559Z",
     "iopub.status.busy": "2021-05-27T03:14:24.390980Z",
     "iopub.status.idle": "2021-05-27T03:14:25.670235Z",
     "shell.execute_reply": "2021-05-27T03:14:25.669708Z"
    },
    "papermill": {
     "duration": 1.295986,
     "end_time": "2021-05-27T03:14:25.670363",
     "exception": false,
     "start_time": "2021-05-27T03:14:24.374377",
     "status": "completed"
    },
    "tags": []
   },
   "outputs": [
    {
     "data": {
      "image/png": "[encoded data removed]",
      "text/plain": [
       "<Figure size 1080x792 with 2 Axes>"
      ]
     },
     "metadata": {
      "needs_background": "light"
     },
     "output_type": "display_data"
    }
   ],
   "source": [
    "#hide_input\n",
    "plt.figure(figsize=(15, 11))\n",
    "sns.heatmap(df_all[sum_corr].corr(), annot=True, cmap=\"cubehelix\") \n",
    "sns.set(font_scale=1.25)\n",
    "plt.savefig('corr_matrix.png', format='eps')"
   ]
  },
  {
   "cell_type": "code",
   "execution_count": 8,
   "id": "arbitrary-sullivan",
   "metadata": {
    "execution": {
     "iopub.execute_input": "2021-05-27T03:14:25.708861Z",
     "iopub.status.busy": "2021-05-27T03:14:25.708025Z",
     "iopub.status.idle": "2021-05-27T03:14:25.744106Z",
     "shell.execute_reply": "2021-05-27T03:14:25.743588Z"
    },
    "papermill": {
     "duration": 0.057749,
     "end_time": "2021-05-27T03:14:25.744244",
     "exception": false,
     "start_time": "2021-05-27T03:14:25.686495",
     "status": "completed"
    },
    "tags": []
   },
   "outputs": [],
   "source": [
    "#hide\n",
    "#df_all_mrk = read_api()"
   ]
  },
  {
   "cell_type": "code",
   "execution_count": 9,
   "id": "delayed-adapter",
   "metadata": {
    "execution": {
     "iopub.execute_input": "2021-05-27T03:14:25.791243Z",
     "iopub.status.busy": "2021-05-27T03:14:25.790612Z",
     "iopub.status.idle": "2021-05-27T03:14:25.821218Z",
     "shell.execute_reply": "2021-05-27T03:14:25.820358Z"
    },
    "papermill": {
     "duration": 0.057192,
     "end_time": "2021-05-27T03:14:25.821434",
     "exception": false,
     "start_time": "2021-05-27T03:14:25.764242",
     "status": "completed"
    },
    "tags": []
   },
   "outputs": [],
   "source": [
    "#hide\n",
    "#Koreliacijų koeficientai"
   ]
  },
  {
   "cell_type": "code",
   "execution_count": 10,
   "id": "seeing-celebration",
   "metadata": {
    "execution": {
     "iopub.execute_input": "2021-05-27T03:14:25.861381Z",
     "iopub.status.busy": "2021-05-27T03:14:25.860795Z",
     "iopub.status.idle": "2021-05-27T03:14:25.892030Z",
     "shell.execute_reply": "2021-05-27T03:14:25.892520Z"
    },
    "papermill": {
     "duration": 0.051607,
     "end_time": "2021-05-27T03:14:25.892671",
     "exception": false,
     "start_time": "2021-05-27T03:14:25.841064",
     "status": "completed"
    },
    "tags": []
   },
   "outputs": [],
   "source": [
    "#hide_input\n",
    "#sum_corr = df_all_mrk.corr().sum().sort_values(ascending=True).index.values\n",
    "#df_all_mrk[sum_corr].corr()"
   ]
  },
  {
   "cell_type": "code",
   "execution_count": 11,
   "id": "other-painting",
   "metadata": {
    "execution": {
     "iopub.execute_input": "2021-05-27T03:14:25.931636Z",
     "iopub.status.busy": "2021-05-27T03:14:25.930968Z",
     "iopub.status.idle": "2021-05-27T03:14:25.960122Z",
     "shell.execute_reply": "2021-05-27T03:14:25.960581Z"
    },
    "papermill": {
     "duration": 0.051733,
     "end_time": "2021-05-27T03:14:25.960737",
     "exception": false,
     "start_time": "2021-05-27T03:14:25.909004",
     "status": "completed"
    },
    "tags": []
   },
   "outputs": [],
   "source": [
    "#hide\n",
    "#Koreliacijos matrica. "
   ]
  },
  {
   "cell_type": "code",
   "execution_count": 12,
   "id": "modular-magnitude",
   "metadata": {
    "execution": {
     "iopub.execute_input": "2021-05-27T03:14:26.000276Z",
     "iopub.status.busy": "2021-05-27T03:14:25.999329Z",
     "iopub.status.idle": "2021-05-27T03:14:26.031642Z",
     "shell.execute_reply": "2021-05-27T03:14:26.031051Z"
    },
    "papermill": {
     "duration": 0.052698,
     "end_time": "2021-05-27T03:14:26.031795",
     "exception": false,
     "start_time": "2021-05-27T03:14:25.979097",
     "status": "completed"
    },
    "tags": []
   },
   "outputs": [],
   "source": [
    "#hide_input\n",
    "#plt.figure(figsize=(15, 8))\n",
    "#sns.heatmap(df_all_mrk[sum_corr].corr(), annot=True, cmap=\"BrBG\");\n",
    "#plt.savefig('corr_matrix_all.eps', format='eps')"
   ]
  },
  {
   "cell_type": "code",
   "execution_count": null,
   "id": "original-senator",
   "metadata": {
    "papermill": {
     "duration": 0.016409,
     "end_time": "2021-05-27T03:14:26.068781",
     "exception": false,
     "start_time": "2021-05-27T03:14:26.052372",
     "status": "completed"
    },
    "tags": []
   },
   "outputs": [],
   "source": []
  },
  {
   "cell_type": "code",
   "execution_count": null,
   "id": "saving-secretariat",
   "metadata": {
    "papermill": {
     "duration": 0.015783,
     "end_time": "2021-05-27T03:14:26.107162",
     "exception": false,
     "start_time": "2021-05-27T03:14:26.091379",
     "status": "completed"
    },
    "tags": []
   },
   "outputs": [],
   "source": []
  }
 ],
 "metadata": {
  "kernelspec": {
   "display_name": "Python 3",
   "language": "python",
   "name": "python3"
  },
  "language_info": {
   "codemirror_mode": {
    "name": "ipython",
    "version": 3
   },
   "file_extension": ".py",
   "mimetype": "text/x-python",
   "name": "python",
   "nbconvert_exporter": "python",
   "pygments_lexer": "ipython3",
   "version": "3.6.13"
  },
  "papermill": {
   "default_parameters": {},
   "duration": 17.314582,
   "end_time": "2021-05-27T03:14:27.401087",
   "environment_variables": {},
   "exception": null,
   "input_path": "App-Correlation_charts.ipynb",
   "output_path": "App-Correlation_charts.ipynb",
   "parameters": {},
   "start_time": "2021-05-27T03:14:10.086505",
   "version": "2.2.2"
  }
 },
 "nbformat": 4,
 "nbformat_minor": 5
}