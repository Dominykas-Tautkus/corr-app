{
 "cells": [
  {
   "cell_type": "markdown",
   "id": "touched-facility",
   "metadata": {
    "papermill": {
     "duration": 0.01703,
     "end_time": "2021-03-05T01:43:57.769726",
     "exception": false,
     "start_time": "2021-03-05T01:43:57.752696",
     "status": "completed"
    },
    "tags": []
   },
   "source": [
    "# Koreliacijų matrica\n",
    "> Išplėstinė koreliacijų matrica. \n",
    "\n",
    "- toc: true \n",
    "- badges: true\n",
    "- comments: false\n",
    "- categories: [Dominykas Tautkus]\n",
    "- image: images/matrix.png"
   ]
  },
  {
   "cell_type": "code",
   "execution_count": null,
   "id": "premium-weekend",
   "metadata": {
    "papermill": {
     "duration": 0.016206,
     "end_time": "2021-03-05T01:43:57.799648",
     "exception": false,
     "start_time": "2021-03-05T01:43:57.783442",
     "status": "completed"
    },
    "tags": []
   },
   "outputs": [],
   "source": []
  },
  {
   "cell_type": "code",
   "execution_count": 1,
   "id": "vertical-rebate",
   "metadata": {
    "execution": {
     "iopub.execute_input": "2021-03-05T01:43:57.836534Z",
     "iopub.status.busy": "2021-03-05T01:43:57.835893Z",
     "iopub.status.idle": "2021-03-05T01:43:57.846380Z",
     "shell.execute_reply": "2021-03-05T01:43:57.847020Z"
    },
    "papermill": {
     "duration": 0.035295,
     "end_time": "2021-03-05T01:43:57.847171",
     "exception": false,
     "start_time": "2021-03-05T01:43:57.811876",
     "status": "completed"
    },
    "tags": []
   },
   "outputs": [],
   "source": [
    "#hide\n",
    "%load_ext autoreload\n",
    "%autoreload 2"
   ]
  },
  {
   "cell_type": "code",
   "execution_count": 2,
   "id": "overall-advancement",
   "metadata": {
    "execution": {
     "iopub.execute_input": "2021-03-05T01:43:57.876254Z",
     "iopub.status.busy": "2021-03-05T01:43:57.875491Z",
     "iopub.status.idle": "2021-03-05T01:43:59.095565Z",
     "shell.execute_reply": "2021-03-05T01:43:59.094894Z"
    },
    "papermill": {
     "duration": 1.235721,
     "end_time": "2021-03-05T01:43:59.095711",
     "exception": false,
     "start_time": "2021-03-05T01:43:57.859990",
     "status": "completed"
    },
    "tags": []
   },
   "outputs": [],
   "source": [
    "#hide\n",
    "from scripts.read_data import read_api\n",
    "from IPython.display import HTML\n",
    "import plotly.graph_objects as go\n"
   ]
  },
  {
   "cell_type": "code",
   "execution_count": 3,
   "id": "light-crazy",
   "metadata": {
    "execution": {
     "iopub.execute_input": "2021-03-05T01:43:59.128831Z",
     "iopub.status.busy": "2021-03-05T01:43:59.128077Z",
     "iopub.status.idle": "2021-03-05T01:43:59.151567Z",
     "shell.execute_reply": "2021-03-05T01:43:59.151084Z"
    },
    "papermill": {
     "duration": 0.04135,
     "end_time": "2021-03-05T01:43:59.151692",
     "exception": false,
     "start_time": "2021-03-05T01:43:59.110342",
     "status": "completed"
    },
    "tags": []
   },
   "outputs": [],
   "source": [
    "#hide\n",
    "### ICO koreliacija"
   ]
  },
  {
   "cell_type": "code",
   "execution_count": 4,
   "id": "likely-bahrain",
   "metadata": {
    "execution": {
     "iopub.execute_input": "2021-03-05T01:43:59.180382Z",
     "iopub.status.busy": "2021-03-05T01:43:59.179722Z",
     "iopub.status.idle": "2021-03-05T01:44:01.263372Z",
     "shell.execute_reply": "2021-03-05T01:44:01.263879Z"
    },
    "papermill": {
     "duration": 2.100475,
     "end_time": "2021-03-05T01:44:01.264047",
     "exception": false,
     "start_time": "2021-03-05T01:43:59.163572",
     "status": "completed"
    },
    "tags": []
   },
   "outputs": [],
   "source": [
    "#hide\n",
    "import matplotlib.pyplot as plt\n",
    "import numpy as np\n",
    "import pandas as pd\n",
    "import seaborn as sns\n",
    "import matplotlib.pyplot as plt \n",
    "import matplotlib.dates as mdates\n",
    "import matplotlib.pyplot as plt"
   ]
  },
  {
   "cell_type": "code",
   "execution_count": 5,
   "id": "superior-blanket",
   "metadata": {
    "execution": {
     "iopub.execute_input": "2021-03-05T01:44:01.293181Z",
     "iopub.status.busy": "2021-03-05T01:44:01.292591Z",
     "iopub.status.idle": "2021-03-05T01:44:16.386736Z",
     "shell.execute_reply": "2021-03-05T01:44:16.386142Z"
    },
    "papermill": {
     "duration": 15.109838,
     "end_time": "2021-03-05T01:44:16.386916",
     "exception": false,
     "start_time": "2021-03-05T01:44:01.277078",
     "status": "completed"
    },
    "tags": []
   },
   "outputs": [
    {
     "name": "stderr",
     "output_type": "stream",
     "text": [
      "/home/runner/work/corr-app/corr-app/_notebooks/scripts/read_data.py:187: SettingWithCopyWarning:\n",
      "\n",
      "\n",
      "A value is trying to be set on a copy of a slice from a DataFrame.\n",
      "Try using .loc[row_indexer,col_indexer] = value instead\n",
      "\n",
      "See the caveats in the documentation: https://pandas.pydata.org/pandas-docs/stable/user_guide/indexing.html#returning-a-view-versus-a-copy\n",
      "\n"
     ]
    },
    {
     "name": "stderr",
     "output_type": "stream",
     "text": [
      "/home/runner/work/corr-app/corr-app/_notebooks/scripts/read_data.py:215: SettingWithCopyWarning:\n",
      "\n",
      "\n",
      "A value is trying to be set on a copy of a slice from a DataFrame.\n",
      "Try using .loc[row_indexer,col_indexer] = value instead\n",
      "\n",
      "See the caveats in the documentation: https://pandas.pydata.org/pandas-docs/stable/user_guide/indexing.html#returning-a-view-versus-a-copy\n",
      "\n"
     ]
    }
   ],
   "source": [
    "#hide\n",
    "df_all = read_api()\n",
    "#df_all = df_all.drop(['SP500', 'XAU', 'ETH', 'BTC'], axis=1)\n",
    "\n"
   ]
  },
  {
   "cell_type": "code",
   "execution_count": 6,
   "id": "mature-alert",
   "metadata": {
    "execution": {
     "iopub.execute_input": "2021-03-05T01:44:16.580076Z",
     "iopub.status.busy": "2021-03-05T01:44:16.579294Z",
     "iopub.status.idle": "2021-03-05T01:44:16.609503Z",
     "shell.execute_reply": "2021-03-05T01:44:16.609998Z"
    },
    "papermill": {
     "duration": 0.209935,
     "end_time": "2021-03-05T01:44:16.610147",
     "exception": false,
     "start_time": "2021-03-05T01:44:16.400212",
     "status": "completed"
    },
    "tags": []
   },
   "outputs": [],
   "source": [
    "#hide_input\n",
    "sum_corr = df_all.corr().sum().sort_values(ascending=True).index.values\n",
    "#df_all[sum_corr].corr()"
   ]
  },
  {
   "cell_type": "markdown",
   "id": "complex-syndicate",
   "metadata": {
    "papermill": {
     "duration": 0.013315,
     "end_time": "2021-03-05T01:44:16.637279",
     "exception": false,
     "start_time": "2021-03-05T01:44:16.623964",
     "status": "completed"
    },
    "tags": []
   },
   "source": [
    "## Išplėstinė koreliacijų matrica. "
   ]
  },
  {
   "cell_type": "code",
   "execution_count": 7,
   "id": "atomic-omaha",
   "metadata": {
    "execution": {
     "iopub.execute_input": "2021-03-05T01:44:16.685638Z",
     "iopub.status.busy": "2021-03-05T01:44:16.674243Z",
     "iopub.status.idle": "2021-03-05T01:44:18.243343Z",
     "shell.execute_reply": "2021-03-05T01:44:18.243921Z"
    },
    "papermill": {
     "duration": 1.593759,
     "end_time": "2021-03-05T01:44:18.244083",
     "exception": false,
     "start_time": "2021-03-05T01:44:16.650324",
     "status": "completed"
    },
    "tags": []
   },
   "outputs": [
    {
     "data": {
      "image/png": "[encoded data removed]",
      "text/plain": [
       "<Figure size 1080x792 with 2 Axes>"
      ]
     },
     "metadata": {
      "needs_background": "light"
     },
     "output_type": "display_data"
    }
   ],
   "source": [
    "#hide_input\n",
    "plt.figure(figsize=(15, 11))\n",
    "sns.heatmap(df_all[sum_corr].corr(), annot=True, cmap=\"cubehelix\") \n",
    "sns.set(font_scale=1.25)\n",
    "plt.savefig('corr_matrix.png', format='eps')"
   ]
  },
  {
   "cell_type": "code",
   "execution_count": 8,
   "id": "arbitrary-sullivan",
   "metadata": {
    "execution": {
     "iopub.execute_input": "2021-03-05T01:44:18.282117Z",
     "iopub.status.busy": "2021-03-05T01:44:18.280746Z",
     "iopub.status.idle": "2021-03-05T01:44:18.307716Z",
     "shell.execute_reply": "2021-03-05T01:44:18.307219Z"
    },
    "papermill": {
     "duration": 0.047283,
     "end_time": "2021-03-05T01:44:18.307849",
     "exception": false,
     "start_time": "2021-03-05T01:44:18.260566",
     "status": "completed"
    },
    "tags": []
   },
   "outputs": [],
   "source": [
    "#hide\n",
    "#df_all_mrk = read_api()"
   ]
  },
  {
   "cell_type": "code",
   "execution_count": 9,
   "id": "delayed-adapter",
   "metadata": {
    "execution": {
     "iopub.execute_input": "2021-03-05T01:44:18.343268Z",
     "iopub.status.busy": "2021-03-05T01:44:18.342622Z",
     "iopub.status.idle": "2021-03-05T01:44:18.375234Z",
     "shell.execute_reply": "2021-03-05T01:44:18.375754Z"
    },
    "papermill": {
     "duration": 0.052994,
     "end_time": "2021-03-05T01:44:18.375908",
     "exception": false,
     "start_time": "2021-03-05T01:44:18.322914",
     "status": "completed"
    },
    "tags": []
   },
   "outputs": [],
   "source": [
    "#hide\n",
    "#Koreliacijų koeficientai"
   ]
  },
  {
   "cell_type": "code",
   "execution_count": 10,
   "id": "seeing-celebration",
   "metadata": {
    "execution": {
     "iopub.execute_input": "2021-03-05T01:44:18.416746Z",
     "iopub.status.busy": "2021-03-05T01:44:18.416184Z",
     "iopub.status.idle": "2021-03-05T01:44:18.438044Z",
     "shell.execute_reply": "2021-03-05T01:44:18.438546Z"
    },
    "papermill": {
     "duration": 0.044811,
     "end_time": "2021-03-05T01:44:18.438671",
     "exception": false,
     "start_time": "2021-03-05T01:44:18.393860",
     "status": "completed"
    },
    "tags": []
   },
   "outputs": [],
   "source": [
    "#hide_input\n",
    "#sum_corr = df_all_mrk.corr().sum().sort_values(ascending=True).index.values\n",
    "#df_all_mrk[sum_corr].corr()"
   ]
  },
  {
   "cell_type": "code",
   "execution_count": 11,
   "id": "other-painting",
   "metadata": {
    "execution": {
     "iopub.execute_input": "2021-03-05T01:44:18.487405Z",
     "iopub.status.busy": "2021-03-05T01:44:18.479889Z",
     "iopub.status.idle": "2021-03-05T01:44:18.500867Z",
     "shell.execute_reply": "2021-03-05T01:44:18.500346Z"
    },
    "papermill": {
     "duration": 0.047421,
     "end_time": "2021-03-05T01:44:18.500977",
     "exception": false,
     "start_time": "2021-03-05T01:44:18.453556",
     "status": "completed"
    },
    "tags": []
   },
   "outputs": [],
   "source": [
    "#hide\n",
    "#Koreliacijos matrica. "
   ]
  },
  {
   "cell_type": "code",
   "execution_count": 12,
   "id": "modular-magnitude",
   "metadata": {
    "execution": {
     "iopub.execute_input": "2021-03-05T01:44:18.535727Z",
     "iopub.status.busy": "2021-03-05T01:44:18.535029Z",
     "iopub.status.idle": "2021-03-05T01:44:18.557156Z",
     "shell.execute_reply": "2021-03-05T01:44:18.557627Z"
    },
    "papermill": {
     "duration": 0.041131,
     "end_time": "2021-03-05T01:44:18.557740",
     "exception": false,
     "start_time": "2021-03-05T01:44:18.516609",
     "status": "completed"
    },
    "tags": []
   },
   "outputs": [],
   "source": [
    "#hide_input\n",
    "#plt.figure(figsize=(15, 8))\n",
    "#sns.heatmap(df_all_mrk[sum_corr].corr(), annot=True, cmap=\"BrBG\");\n",
    "#plt.savefig('corr_matrix_all.eps', format='eps')"
   ]
  },
  {
   "cell_type": "code",
   "execution_count": null,
   "id": "original-senator",
   "metadata": {
    "papermill": {
     "duration": 0.014951,
     "end_time": "2021-03-05T01:44:18.588076",
     "exception": false,
     "start_time": "2021-03-05T01:44:18.573125",
     "status": "completed"
    },
    "tags": []
   },
   "outputs": [],
   "source": []
  },
  {
   "cell_type": "code",
   "execution_count": null,
   "id": "saving-secretariat",
   "metadata": {
    "papermill": {
     "duration": 0.014213,
     "end_time": "2021-03-05T01:44:18.617127",
     "exception": false,
     "start_time": "2021-03-05T01:44:18.602914",
     "status": "completed"
    },
    "tags": []
   },
   "outputs": [],
   "source": []
  }
 ],
 "metadata": {
  "kernelspec": {
   "display_name": "Python 3",
   "language": "python",
   "name": "python3"
  },
  "language_info": {
   "codemirror_mode": {
    "name": "ipython",
    "version": 3
   },
   "file_extension": ".py",
   "mimetype": "text/x-python",
   "name": "python",
   "nbconvert_exporter": "python",
   "pygments_lexer": "ipython3",
   "version": "3.6.13"
  },
  "papermill": {
   "default_parameters": {},
   "duration": 22.718425,
   "end_time": "2021-03-05T01:44:19.139032",
   "environment_variables": {},
   "exception": null,
   "input_path": "App-Correlation_charts.ipynb",
   "output_path": "App-Correlation_charts.ipynb",
   "parameters": {},
   "start_time": "2021-03-05T01:43:56.420607",
   "version": "2.2.2"
  }
 },
 "nbformat": 4,
 "nbformat_minor": 5
}