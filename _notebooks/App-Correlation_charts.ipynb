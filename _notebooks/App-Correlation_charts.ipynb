{
 "cells": [
  {
   "cell_type": "markdown",
   "id": "touched-facility",
   "metadata": {
    "papermill": {
     "duration": 0.026977,
     "end_time": "2021-06-12T01:55:13.940180",
     "exception": false,
     "start_time": "2021-06-12T01:55:13.913203",
     "status": "completed"
    },
    "tags": []
   },
   "source": [
    "# Koreliacijų matrica\n",
    "> Išplėstinė koreliacijų matrica. \n",
    "\n",
    "- toc: true \n",
    "- badges: true\n",
    "- comments: false\n",
    "- categories: [Dominykas Tautkus]\n",
    "- image: images/matrix.png"
   ]
  },
  {
   "cell_type": "code",
   "execution_count": null,
   "id": "premium-weekend",
   "metadata": {
    "papermill": {
     "duration": 0.041841,
     "end_time": "2021-06-12T01:55:14.021480",
     "exception": false,
     "start_time": "2021-06-12T01:55:13.979639",
     "status": "completed"
    },
    "tags": []
   },
   "outputs": [],
   "source": []
  },
  {
   "cell_type": "code",
   "execution_count": 1,
   "id": "vertical-rebate",
   "metadata": {
    "execution": {
     "iopub.execute_input": "2021-06-12T01:55:14.132745Z",
     "iopub.status.busy": "2021-06-12T01:55:14.132139Z",
     "iopub.status.idle": "2021-06-12T01:55:14.142732Z",
     "shell.execute_reply": "2021-06-12T01:55:14.143186Z"
    },
    "papermill": {
     "duration": 0.063078,
     "end_time": "2021-06-12T01:55:14.143359",
     "exception": false,
     "start_time": "2021-06-12T01:55:14.080281",
     "status": "completed"
    },
    "tags": []
   },
   "outputs": [],
   "source": [
    "#hide\n",
    "%load_ext autoreload\n",
    "%autoreload 2"
   ]
  },
  {
   "cell_type": "code",
   "execution_count": 2,
   "id": "overall-advancement",
   "metadata": {
    "execution": {
     "iopub.execute_input": "2021-06-12T01:55:14.289037Z",
     "iopub.status.busy": "2021-06-12T01:55:14.288448Z",
     "iopub.status.idle": "2021-06-12T01:55:15.984064Z",
     "shell.execute_reply": "2021-06-12T01:55:15.983005Z"
    },
    "papermill": {
     "duration": 1.799621,
     "end_time": "2021-06-12T01:55:15.984217",
     "exception": false,
     "start_time": "2021-06-12T01:55:14.184596",
     "status": "completed"
    },
    "tags": []
   },
   "outputs": [],
   "source": [
    "#hide\n",
    "from scripts.read_data import read_api\n",
    "from IPython.display import HTML\n",
    "import plotly.graph_objects as go\n"
   ]
  },
  {
   "cell_type": "code",
   "execution_count": 3,
   "id": "light-crazy",
   "metadata": {
    "execution": {
     "iopub.execute_input": "2021-06-12T01:55:16.011771Z",
     "iopub.status.busy": "2021-06-12T01:55:16.011048Z",
     "iopub.status.idle": "2021-06-12T01:55:16.034050Z",
     "shell.execute_reply": "2021-06-12T01:55:16.033375Z"
    },
    "papermill": {
     "duration": 0.03785,
     "end_time": "2021-06-12T01:55:16.034219",
     "exception": false,
     "start_time": "2021-06-12T01:55:15.996369",
     "status": "completed"
    },
    "tags": []
   },
   "outputs": [],
   "source": [
    "#hide\n",
    "### ICO koreliacija"
   ]
  },
  {
   "cell_type": "code",
   "execution_count": 4,
   "id": "likely-bahrain",
   "metadata": {
    "execution": {
     "iopub.execute_input": "2021-06-12T01:55:16.066568Z",
     "iopub.status.busy": "2021-06-12T01:55:16.065963Z",
     "iopub.status.idle": "2021-06-12T01:55:16.961927Z",
     "shell.execute_reply": "2021-06-12T01:55:16.959879Z"
    },
    "papermill": {
     "duration": 0.913585,
     "end_time": "2021-06-12T01:55:16.962178",
     "exception": false,
     "start_time": "2021-06-12T01:55:16.048593",
     "status": "completed"
    },
    "tags": []
   },
   "outputs": [],
   "source": [
    "#hide\n",
    "import matplotlib.pyplot as plt\n",
    "import numpy as np\n",
    "import pandas as pd\n",
    "import seaborn as sns\n",
    "import matplotlib.pyplot as plt \n",
    "import matplotlib.dates as mdates\n",
    "import matplotlib.pyplot as plt"
   ]
  },
  {
   "cell_type": "code",
   "execution_count": 5,
   "id": "superior-blanket",
   "metadata": {
    "execution": {
     "iopub.execute_input": "2021-06-12T01:55:16.998287Z",
     "iopub.status.busy": "2021-06-12T01:55:16.997699Z",
     "iopub.status.idle": "2021-06-12T01:55:27.603772Z",
     "shell.execute_reply": "2021-06-12T01:55:27.603242Z"
    },
    "papermill": {
     "duration": 10.62554,
     "end_time": "2021-06-12T01:55:27.603896",
     "exception": false,
     "start_time": "2021-06-12T01:55:16.978356",
     "status": "completed"
    },
    "tags": []
   },
   "outputs": [
    {
     "name": "stderr",
     "output_type": "stream",
     "text": [
      "/home/runner/work/corr-app/corr-app/_notebooks/scripts/read_data.py:187: SettingWithCopyWarning:\n",
      "\n",
      "\n",
      "A value is trying to be set on a copy of a slice from a DataFrame.\n",
      "Try using .loc[row_indexer,col_indexer] = value instead\n",
      "\n",
      "See the caveats in the documentation: https://pandas.pydata.org/pandas-docs/stable/user_guide/indexing.html#returning-a-view-versus-a-copy\n",
      "\n"
     ]
    },
    {
     "name": "stderr",
     "output_type": "stream",
     "text": [
      "/home/runner/work/corr-app/corr-app/_notebooks/scripts/read_data.py:215: SettingWithCopyWarning:\n",
      "\n",
      "\n",
      "A value is trying to be set on a copy of a slice from a DataFrame.\n",
      "Try using .loc[row_indexer,col_indexer] = value instead\n",
      "\n",
      "See the caveats in the documentation: https://pandas.pydata.org/pandas-docs/stable/user_guide/indexing.html#returning-a-view-versus-a-copy\n",
      "\n"
     ]
    }
   ],
   "source": [
    "#hide\n",
    "df_all = read_api()\n",
    "#df_all = df_all.drop(['SP500', 'XAU', 'ETH', 'BTC'], axis=1)\n",
    "\n"
   ]
  },
  {
   "cell_type": "code",
   "execution_count": 6,
   "id": "mature-alert",
   "metadata": {
    "execution": {
     "iopub.execute_input": "2021-06-12T01:55:27.638894Z",
     "iopub.status.busy": "2021-06-12T01:55:27.637433Z",
     "iopub.status.idle": "2021-06-12T01:55:27.667349Z",
     "shell.execute_reply": "2021-06-12T01:55:27.667963Z"
    },
    "papermill": {
     "duration": 0.051031,
     "end_time": "2021-06-12T01:55:27.668154",
     "exception": false,
     "start_time": "2021-06-12T01:55:27.617123",
     "status": "completed"
    },
    "tags": []
   },
   "outputs": [],
   "source": [
    "#hide_input\n",
    "sum_corr = df_all.corr().sum().sort_values(ascending=True).index.values\n",
    "#df_all[sum_corr].corr()"
   ]
  },
  {
   "cell_type": "markdown",
   "id": "complex-syndicate",
   "metadata": {
    "papermill": {
     "duration": 0.013042,
     "end_time": "2021-06-12T01:55:27.695548",
     "exception": false,
     "start_time": "2021-06-12T01:55:27.682506",
     "status": "completed"
    },
    "tags": []
   },
   "source": [
    "## Išplėstinė koreliacijų matrica. "
   ]
  },
  {
   "cell_type": "code",
   "execution_count": 7,
   "id": "atomic-omaha",
   "metadata": {
    "execution": {
     "iopub.execute_input": "2021-06-12T01:55:27.727757Z",
     "iopub.status.busy": "2021-06-12T01:55:27.727159Z",
     "iopub.status.idle": "2021-06-12T01:55:28.971399Z",
     "shell.execute_reply": "2021-06-12T01:55:28.970912Z"
    },
    "papermill": {
     "duration": 1.263189,
     "end_time": "2021-06-12T01:55:28.971528",
     "exception": false,
     "start_time": "2021-06-12T01:55:27.708339",
     "status": "completed"
    },
    "tags": []
   },
   "outputs": [
    {
     "data": {
      "image/png": "[encoded data removed]",
      "text/plain": [
       "<Figure size 1080x792 with 2 Axes>"
      ]
     },
     "metadata": {
      "needs_background": "light"
     },
     "output_type": "display_data"
    }
   ],
   "source": [
    "#hide_input\n",
    "plt.figure(figsize=(15, 11))\n",
    "sns.heatmap(df_all[sum_corr].corr(), annot=True, cmap=\"cubehelix\") \n",
    "sns.set(font_scale=1.25)\n",
    "plt.savefig('corr_matrix.png', format='eps')"
   ]
  },
  {
   "cell_type": "code",
   "execution_count": 8,
   "id": "arbitrary-sullivan",
   "metadata": {
    "execution": {
     "iopub.execute_input": "2021-06-12T01:55:29.006008Z",
     "iopub.status.busy": "2021-06-12T01:55:29.005175Z",
     "iopub.status.idle": "2021-06-12T01:55:29.032692Z",
     "shell.execute_reply": "2021-06-12T01:55:29.032106Z"
    },
    "papermill": {
     "duration": 0.045965,
     "end_time": "2021-06-12T01:55:29.032817",
     "exception": false,
     "start_time": "2021-06-12T01:55:28.986852",
     "status": "completed"
    },
    "tags": []
   },
   "outputs": [],
   "source": [
    "#hide\n",
    "#df_all_mrk = read_api()"
   ]
  },
  {
   "cell_type": "code",
   "execution_count": 9,
   "id": "delayed-adapter",
   "metadata": {
    "execution": {
     "iopub.execute_input": "2021-06-12T01:55:29.070585Z",
     "iopub.status.busy": "2021-06-12T01:55:29.069988Z",
     "iopub.status.idle": "2021-06-12T01:55:29.098012Z",
     "shell.execute_reply": "2021-06-12T01:55:29.098550Z"
    },
    "papermill": {
     "duration": 0.050419,
     "end_time": "2021-06-12T01:55:29.098716",
     "exception": false,
     "start_time": "2021-06-12T01:55:29.048297",
     "status": "completed"
    },
    "tags": []
   },
   "outputs": [],
   "source": [
    "#hide\n",
    "#Koreliacijų koeficientai"
   ]
  },
  {
   "cell_type": "code",
   "execution_count": 10,
   "id": "seeing-celebration",
   "metadata": {
    "execution": {
     "iopub.execute_input": "2021-06-12T01:55:29.132482Z",
     "iopub.status.busy": "2021-06-12T01:55:29.131903Z",
     "iopub.status.idle": "2021-06-12T01:55:29.160487Z",
     "shell.execute_reply": "2021-06-12T01:55:29.159256Z"
    },
    "papermill": {
     "duration": 0.046286,
     "end_time": "2021-06-12T01:55:29.160740",
     "exception": false,
     "start_time": "2021-06-12T01:55:29.114454",
     "status": "completed"
    },
    "tags": []
   },
   "outputs": [],
   "source": [
    "#hide_input\n",
    "#sum_corr = df_all_mrk.corr().sum().sort_values(ascending=True).index.values\n",
    "#df_all_mrk[sum_corr].corr()"
   ]
  },
  {
   "cell_type": "code",
   "execution_count": 11,
   "id": "other-painting",
   "metadata": {
    "execution": {
     "iopub.execute_input": "2021-06-12T01:55:29.196605Z",
     "iopub.status.busy": "2021-06-12T01:55:29.196029Z",
     "iopub.status.idle": "2021-06-12T01:55:29.223338Z",
     "shell.execute_reply": "2021-06-12T01:55:29.222843Z"
    },
    "papermill": {
     "duration": 0.045626,
     "end_time": "2021-06-12T01:55:29.223454",
     "exception": false,
     "start_time": "2021-06-12T01:55:29.177828",
     "status": "completed"
    },
    "tags": []
   },
   "outputs": [],
   "source": [
    "#hide\n",
    "#Koreliacijos matrica. "
   ]
  },
  {
   "cell_type": "code",
   "execution_count": 12,
   "id": "modular-magnitude",
   "metadata": {
    "execution": {
     "iopub.execute_input": "2021-06-12T01:55:29.260726Z",
     "iopub.status.busy": "2021-06-12T01:55:29.260140Z",
     "iopub.status.idle": "2021-06-12T01:55:29.287305Z",
     "shell.execute_reply": "2021-06-12T01:55:29.287756Z"
    },
    "papermill": {
     "duration": 0.04777,
     "end_time": "2021-06-12T01:55:29.287896",
     "exception": false,
     "start_time": "2021-06-12T01:55:29.240126",
     "status": "completed"
    },
    "tags": []
   },
   "outputs": [],
   "source": [
    "#hide_input\n",
    "#plt.figure(figsize=(15, 8))\n",
    "#sns.heatmap(df_all_mrk[sum_corr].corr(), annot=True, cmap=\"BrBG\");\n",
    "#plt.savefig('corr_matrix_all.eps', format='eps')"
   ]
  },
  {
   "cell_type": "code",
   "execution_count": null,
   "id": "original-senator",
   "metadata": {
    "papermill": {
     "duration": 0.014826,
     "end_time": "2021-06-12T01:55:29.317662",
     "exception": false,
     "start_time": "2021-06-12T01:55:29.302836",
     "status": "completed"
    },
    "tags": []
   },
   "outputs": [],
   "source": []
  },
  {
   "cell_type": "code",
   "execution_count": null,
   "id": "saving-secretariat",
   "metadata": {
    "papermill": {
     "duration": 0.015029,
     "end_time": "2021-06-12T01:55:29.348138",
     "exception": false,
     "start_time": "2021-06-12T01:55:29.333109",
     "status": "completed"
    },
    "tags": []
   },
   "outputs": [],
   "source": []
  }
 ],
 "metadata": {
  "kernelspec": {
   "display_name": "Python 3",
   "language": "python",
   "name": "python3"
  },
  "language_info": {
   "codemirror_mode": {
    "name": "ipython",
    "version": 3
   },
   "file_extension": ".py",
   "mimetype": "text/x-python",
   "name": "python",
   "nbconvert_exporter": "python",
   "pygments_lexer": "ipython3",
   "version": "3.6.13"
  },
  "papermill": {
   "default_parameters": {},
   "duration": 17.026111,
   "end_time": "2021-06-12T01:55:29.873558",
   "environment_variables": {},
   "exception": null,
   "input_path": "App-Correlation_charts.ipynb",
   "output_path": "App-Correlation_charts.ipynb",
   "parameters": {},
   "start_time": "2021-06-12T01:55:12.847447",
   "version": "2.2.2"
  }
 },
 "nbformat": 4,
 "nbformat_minor": 5
}