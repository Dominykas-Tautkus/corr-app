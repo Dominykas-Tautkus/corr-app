{
 "cells": [
  {
   "cell_type": "markdown",
   "id": "touched-facility",
   "metadata": {
    "papermill": {
     "duration": 0.017406,
     "end_time": "2021-04-04T02:09:02.877374",
     "exception": false,
     "start_time": "2021-04-04T02:09:02.859968",
     "status": "completed"
    },
    "tags": []
   },
   "source": [
    "# Koreliacijų matrica\n",
    "> Išplėstinė koreliacijų matrica. \n",
    "\n",
    "- toc: true \n",
    "- badges: true\n",
    "- comments: false\n",
    "- categories: [Dominykas Tautkus]\n",
    "- image: images/matrix.png"
   ]
  },
  {
   "cell_type": "code",
   "execution_count": null,
   "id": "premium-weekend",
   "metadata": {
    "papermill": {
     "duration": 0.009584,
     "end_time": "2021-04-04T02:09:02.897100",
     "exception": false,
     "start_time": "2021-04-04T02:09:02.887516",
     "status": "completed"
    },
    "tags": []
   },
   "outputs": [],
   "source": []
  },
  {
   "cell_type": "code",
   "execution_count": 1,
   "id": "vertical-rebate",
   "metadata": {
    "execution": {
     "iopub.execute_input": "2021-04-04T02:09:02.927736Z",
     "iopub.status.busy": "2021-04-04T02:09:02.926703Z",
     "iopub.status.idle": "2021-04-04T02:09:02.935868Z",
     "shell.execute_reply": "2021-04-04T02:09:02.935372Z"
    },
    "papermill": {
     "duration": 0.028295,
     "end_time": "2021-04-04T02:09:02.935982",
     "exception": false,
     "start_time": "2021-04-04T02:09:02.907687",
     "status": "completed"
    },
    "tags": []
   },
   "outputs": [],
   "source": [
    "#hide\n",
    "%load_ext autoreload\n",
    "%autoreload 2"
   ]
  },
  {
   "cell_type": "code",
   "execution_count": 2,
   "id": "overall-advancement",
   "metadata": {
    "execution": {
     "iopub.execute_input": "2021-04-04T02:09:02.960025Z",
     "iopub.status.busy": "2021-04-04T02:09:02.959459Z",
     "iopub.status.idle": "2021-04-04T02:09:04.064005Z",
     "shell.execute_reply": "2021-04-04T02:09:04.068614Z"
    },
    "papermill": {
     "duration": 1.123293,
     "end_time": "2021-04-04T02:09:04.068754",
     "exception": false,
     "start_time": "2021-04-04T02:09:02.945461",
     "status": "completed"
    },
    "tags": []
   },
   "outputs": [],
   "source": [
    "#hide\n",
    "from scripts.read_data import read_api\n",
    "from IPython.display import HTML\n",
    "import plotly.graph_objects as go\n"
   ]
  },
  {
   "cell_type": "code",
   "execution_count": 3,
   "id": "light-crazy",
   "metadata": {
    "execution": {
     "iopub.execute_input": "2021-04-04T02:09:04.097855Z",
     "iopub.status.busy": "2021-04-04T02:09:04.097227Z",
     "iopub.status.idle": "2021-04-04T02:09:04.117378Z",
     "shell.execute_reply": "2021-04-04T02:09:04.116973Z"
    },
    "papermill": {
     "duration": 0.034813,
     "end_time": "2021-04-04T02:09:04.117503",
     "exception": false,
     "start_time": "2021-04-04T02:09:04.082690",
     "status": "completed"
    },
    "tags": []
   },
   "outputs": [],
   "source": [
    "#hide\n",
    "### ICO koreliacija"
   ]
  },
  {
   "cell_type": "code",
   "execution_count": 4,
   "id": "likely-bahrain",
   "metadata": {
    "execution": {
     "iopub.execute_input": "2021-04-04T02:09:04.143604Z",
     "iopub.status.busy": "2021-04-04T02:09:04.143023Z",
     "iopub.status.idle": "2021-04-04T02:09:05.030789Z",
     "shell.execute_reply": "2021-04-04T02:09:05.029574Z"
    },
    "papermill": {
     "duration": 0.90271,
     "end_time": "2021-04-04T02:09:05.030930",
     "exception": false,
     "start_time": "2021-04-04T02:09:04.128220",
     "status": "completed"
    },
    "tags": []
   },
   "outputs": [],
   "source": [
    "#hide\n",
    "import matplotlib.pyplot as plt\n",
    "import numpy as np\n",
    "import pandas as pd\n",
    "import seaborn as sns\n",
    "import matplotlib.pyplot as plt \n",
    "import matplotlib.dates as mdates\n",
    "import matplotlib.pyplot as plt"
   ]
  },
  {
   "cell_type": "code",
   "execution_count": 5,
   "id": "superior-blanket",
   "metadata": {
    "execution": {
     "iopub.execute_input": "2021-04-04T02:09:05.056378Z",
     "iopub.status.busy": "2021-04-04T02:09:05.054608Z",
     "iopub.status.idle": "2021-04-04T02:09:19.234830Z",
     "shell.execute_reply": "2021-04-04T02:09:19.233679Z"
    },
    "papermill": {
     "duration": 14.195125,
     "end_time": "2021-04-04T02:09:19.234972",
     "exception": false,
     "start_time": "2021-04-04T02:09:05.039847",
     "status": "completed"
    },
    "tags": []
   },
   "outputs": [
    {
     "name": "stderr",
     "output_type": "stream",
     "text": [
      "/home/runner/work/corr-app/corr-app/_notebooks/scripts/read_data.py:187: SettingWithCopyWarning:\n",
      "\n",
      "\n",
      "A value is trying to be set on a copy of a slice from a DataFrame.\n",
      "Try using .loc[row_indexer,col_indexer] = value instead\n",
      "\n",
      "See the caveats in the documentation: https://pandas.pydata.org/pandas-docs/stable/user_guide/indexing.html#returning-a-view-versus-a-copy\n",
      "\n"
     ]
    },
    {
     "name": "stderr",
     "output_type": "stream",
     "text": [
      "/home/runner/work/corr-app/corr-app/_notebooks/scripts/read_data.py:215: SettingWithCopyWarning:\n",
      "\n",
      "\n",
      "A value is trying to be set on a copy of a slice from a DataFrame.\n",
      "Try using .loc[row_indexer,col_indexer] = value instead\n",
      "\n",
      "See the caveats in the documentation: https://pandas.pydata.org/pandas-docs/stable/user_guide/indexing.html#returning-a-view-versus-a-copy\n",
      "\n"
     ]
    }
   ],
   "source": [
    "#hide\n",
    "df_all = read_api()\n",
    "#df_all = df_all.drop(['SP500', 'XAU', 'ETH', 'BTC'], axis=1)\n",
    "\n"
   ]
  },
  {
   "cell_type": "code",
   "execution_count": 6,
   "id": "mature-alert",
   "metadata": {
    "execution": {
     "iopub.execute_input": "2021-04-04T02:09:19.259576Z",
     "iopub.status.busy": "2021-04-04T02:09:19.259154Z",
     "iopub.status.idle": "2021-04-04T02:09:19.288410Z",
     "shell.execute_reply": "2021-04-04T02:09:19.287589Z"
    },
    "papermill": {
     "duration": 0.04286,
     "end_time": "2021-04-04T02:09:19.288642",
     "exception": false,
     "start_time": "2021-04-04T02:09:19.245782",
     "status": "completed"
    },
    "tags": []
   },
   "outputs": [],
   "source": [
    "#hide_input\n",
    "sum_corr = df_all.corr().sum().sort_values(ascending=True).index.values\n",
    "#df_all[sum_corr].corr()"
   ]
  },
  {
   "cell_type": "markdown",
   "id": "complex-syndicate",
   "metadata": {
    "papermill": {
     "duration": 0.009376,
     "end_time": "2021-04-04T02:09:19.309747",
     "exception": false,
     "start_time": "2021-04-04T02:09:19.300371",
     "status": "completed"
    },
    "tags": []
   },
   "source": [
    "## Išplėstinė koreliacijų matrica. "
   ]
  },
  {
   "cell_type": "code",
   "execution_count": 7,
   "id": "atomic-omaha",
   "metadata": {
    "execution": {
     "iopub.execute_input": "2021-04-04T02:09:19.343306Z",
     "iopub.status.busy": "2021-04-04T02:09:19.342081Z",
     "iopub.status.idle": "2021-04-04T02:09:20.396261Z",
     "shell.execute_reply": "2021-04-04T02:09:20.395388Z"
    },
    "papermill": {
     "duration": 1.073976,
     "end_time": "2021-04-04T02:09:20.396496",
     "exception": false,
     "start_time": "2021-04-04T02:09:19.322520",
     "status": "completed"
    },
    "tags": []
   },
   "outputs": [
    {
     "data": {
      "image/png": "[encoded data removed]",
      "text/plain": [
       "<Figure size 1080x792 with 2 Axes>"
      ]
     },
     "metadata": {
      "needs_background": "light"
     },
     "output_type": "display_data"
    }
   ],
   "source": [
    "#hide_input\n",
    "plt.figure(figsize=(15, 11))\n",
    "sns.heatmap(df_all[sum_corr].corr(), annot=True, cmap=\"cubehelix\") \n",
    "sns.set(font_scale=1.25)\n",
    "plt.savefig('corr_matrix.png', format='eps')"
   ]
  },
  {
   "cell_type": "code",
   "execution_count": 8,
   "id": "arbitrary-sullivan",
   "metadata": {
    "execution": {
     "iopub.execute_input": "2021-04-04T02:09:20.431554Z",
     "iopub.status.busy": "2021-04-04T02:09:20.431068Z",
     "iopub.status.idle": "2021-04-04T02:09:20.458310Z",
     "shell.execute_reply": "2021-04-04T02:09:20.458917Z"
    },
    "papermill": {
     "duration": 0.046779,
     "end_time": "2021-04-04T02:09:20.459100",
     "exception": false,
     "start_time": "2021-04-04T02:09:20.412321",
     "status": "completed"
    },
    "tags": []
   },
   "outputs": [],
   "source": [
    "#hide\n",
    "#df_all_mrk = read_api()"
   ]
  },
  {
   "cell_type": "code",
   "execution_count": 9,
   "id": "delayed-adapter",
   "metadata": {
    "execution": {
     "iopub.execute_input": "2021-04-04T02:09:20.499475Z",
     "iopub.status.busy": "2021-04-04T02:09:20.498893Z",
     "iopub.status.idle": "2021-04-04T02:09:20.527336Z",
     "shell.execute_reply": "2021-04-04T02:09:20.526622Z"
    },
    "papermill": {
     "duration": 0.052069,
     "end_time": "2021-04-04T02:09:20.527511",
     "exception": false,
     "start_time": "2021-04-04T02:09:20.475442",
     "status": "completed"
    },
    "tags": []
   },
   "outputs": [],
   "source": [
    "#hide\n",
    "#Koreliacijų koeficientai"
   ]
  },
  {
   "cell_type": "code",
   "execution_count": 10,
   "id": "seeing-celebration",
   "metadata": {
    "execution": {
     "iopub.execute_input": "2021-04-04T02:09:20.559714Z",
     "iopub.status.busy": "2021-04-04T02:09:20.559251Z",
     "iopub.status.idle": "2021-04-04T02:09:20.586556Z",
     "shell.execute_reply": "2021-04-04T02:09:20.586107Z"
    },
    "papermill": {
     "duration": 0.043913,
     "end_time": "2021-04-04T02:09:20.586666",
     "exception": false,
     "start_time": "2021-04-04T02:09:20.542753",
     "status": "completed"
    },
    "tags": []
   },
   "outputs": [],
   "source": [
    "#hide_input\n",
    "#sum_corr = df_all_mrk.corr().sum().sort_values(ascending=True).index.values\n",
    "#df_all_mrk[sum_corr].corr()"
   ]
  },
  {
   "cell_type": "code",
   "execution_count": 11,
   "id": "other-painting",
   "metadata": {
    "execution": {
     "iopub.execute_input": "2021-04-04T02:09:20.616027Z",
     "iopub.status.busy": "2021-04-04T02:09:20.615564Z",
     "iopub.status.idle": "2021-04-04T02:09:20.640150Z",
     "shell.execute_reply": "2021-04-04T02:09:20.639647Z"
    },
    "papermill": {
     "duration": 0.040453,
     "end_time": "2021-04-04T02:09:20.640273",
     "exception": false,
     "start_time": "2021-04-04T02:09:20.599820",
     "status": "completed"
    },
    "tags": []
   },
   "outputs": [],
   "source": [
    "#hide\n",
    "#Koreliacijos matrica. "
   ]
  },
  {
   "cell_type": "code",
   "execution_count": 12,
   "id": "modular-magnitude",
   "metadata": {
    "execution": {
     "iopub.execute_input": "2021-04-04T02:09:20.669842Z",
     "iopub.status.busy": "2021-04-04T02:09:20.669379Z",
     "iopub.status.idle": "2021-04-04T02:09:20.699044Z",
     "shell.execute_reply": "2021-04-04T02:09:20.698643Z"
    },
    "papermill": {
     "duration": 0.044921,
     "end_time": "2021-04-04T02:09:20.699135",
     "exception": false,
     "start_time": "2021-04-04T02:09:20.654214",
     "status": "completed"
    },
    "tags": []
   },
   "outputs": [],
   "source": [
    "#hide_input\n",
    "#plt.figure(figsize=(15, 8))\n",
    "#sns.heatmap(df_all_mrk[sum_corr].corr(), annot=True, cmap=\"BrBG\");\n",
    "#plt.savefig('corr_matrix_all.eps', format='eps')"
   ]
  },
  {
   "cell_type": "code",
   "execution_count": null,
   "id": "original-senator",
   "metadata": {
    "papermill": {
     "duration": 0.012289,
     "end_time": "2021-04-04T02:09:20.723290",
     "exception": false,
     "start_time": "2021-04-04T02:09:20.711001",
     "status": "completed"
    },
    "tags": []
   },
   "outputs": [],
   "source": []
  },
  {
   "cell_type": "code",
   "execution_count": null,
   "id": "saving-secretariat",
   "metadata": {
    "papermill": {
     "duration": 0.013417,
     "end_time": "2021-04-04T02:09:20.749218",
     "exception": false,
     "start_time": "2021-04-04T02:09:20.735801",
     "status": "completed"
    },
    "tags": []
   },
   "outputs": [],
   "source": []
  }
 ],
 "metadata": {
  "kernelspec": {
   "display_name": "Python 3",
   "language": "python",
   "name": "python3"
  },
  "language_info": {
   "codemirror_mode": {
    "name": "ipython",
    "version": 3
   },
   "file_extension": ".py",
   "mimetype": "text/x-python",
   "name": "python",
   "nbconvert_exporter": "python",
   "pygments_lexer": "ipython3",
   "version": "3.6.13"
  },
  "papermill": {
   "default_parameters": {},
   "duration": 20.280257,
   "end_time": "2021-04-04T02:09:22.168585",
   "environment_variables": {},
   "exception": null,
   "input_path": "App-Correlation_charts.ipynb",
   "output_path": "App-Correlation_charts.ipynb",
   "parameters": {},
   "start_time": "2021-04-04T02:09:01.888328",
   "version": "2.2.2"
  }
 },
 "nbformat": 4,
 "nbformat_minor": 5
}