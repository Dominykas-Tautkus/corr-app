{
 "cells": [
  {
   "cell_type": "markdown",
   "id": "touched-facility",
   "metadata": {
    "papermill": {
     "duration": 0.013975,
     "end_time": "2021-02-02T01:54:09.191839",
     "exception": false,
     "start_time": "2021-02-02T01:54:09.177864",
     "status": "completed"
    },
    "tags": []
   },
   "source": [
    "# Koreliacijų matrica\n",
    "> Išplėstinė koreliacijų matrica. \n",
    "\n",
    "- toc: true \n",
    "- badges: true\n",
    "- comments: false\n",
    "- categories: [Dominykas Tautkus]\n",
    "- image: images/matrix.png"
   ]
  },
  {
   "cell_type": "code",
   "execution_count": null,
   "id": "premium-weekend",
   "metadata": {
    "papermill": {
     "duration": 0.010305,
     "end_time": "2021-02-02T01:54:09.213325",
     "exception": false,
     "start_time": "2021-02-02T01:54:09.203020",
     "status": "completed"
    },
    "tags": []
   },
   "outputs": [],
   "source": []
  },
  {
   "cell_type": "code",
   "execution_count": 1,
   "id": "vertical-rebate",
   "metadata": {
    "execution": {
     "iopub.execute_input": "2021-02-02T01:54:09.244239Z",
     "iopub.status.busy": "2021-02-02T01:54:09.243729Z",
     "iopub.status.idle": "2021-02-02T01:54:09.253860Z",
     "shell.execute_reply": "2021-02-02T01:54:09.253426Z"
    },
    "papermill": {
     "duration": 0.030246,
     "end_time": "2021-02-02T01:54:09.253975",
     "exception": false,
     "start_time": "2021-02-02T01:54:09.223729",
     "status": "completed"
    },
    "tags": []
   },
   "outputs": [],
   "source": [
    "#hide\n",
    "%load_ext autoreload\n",
    "%autoreload 2"
   ]
  },
  {
   "cell_type": "code",
   "execution_count": 2,
   "id": "overall-advancement",
   "metadata": {
    "execution": {
     "iopub.execute_input": "2021-02-02T01:54:09.293269Z",
     "iopub.status.busy": "2021-02-02T01:54:09.286326Z",
     "iopub.status.idle": "2021-02-02T01:54:10.478890Z",
     "shell.execute_reply": "2021-02-02T01:54:10.478373Z"
    },
    "papermill": {
     "duration": 1.214551,
     "end_time": "2021-02-02T01:54:10.479038",
     "exception": false,
     "start_time": "2021-02-02T01:54:09.264487",
     "status": "completed"
    },
    "tags": []
   },
   "outputs": [],
   "source": [
    "#hide\n",
    "from scripts.read_data import read_api\n",
    "from IPython.display import HTML\n",
    "import plotly.graph_objects as go\n"
   ]
  },
  {
   "cell_type": "code",
   "execution_count": 3,
   "id": "light-crazy",
   "metadata": {
    "execution": {
     "iopub.execute_input": "2021-02-02T01:54:10.517356Z",
     "iopub.status.busy": "2021-02-02T01:54:10.515798Z",
     "iopub.status.idle": "2021-02-02T01:54:10.530034Z",
     "shell.execute_reply": "2021-02-02T01:54:10.529298Z"
    },
    "papermill": {
     "duration": 0.040118,
     "end_time": "2021-02-02T01:54:10.530155",
     "exception": false,
     "start_time": "2021-02-02T01:54:10.490037",
     "status": "completed"
    },
    "tags": []
   },
   "outputs": [],
   "source": [
    "#hide\n",
    "### ICO koreliacija"
   ]
  },
  {
   "cell_type": "code",
   "execution_count": 4,
   "id": "likely-bahrain",
   "metadata": {
    "execution": {
     "iopub.execute_input": "2021-02-02T01:54:10.554991Z",
     "iopub.status.busy": "2021-02-02T01:54:10.554121Z",
     "iopub.status.idle": "2021-02-02T01:54:12.366733Z",
     "shell.execute_reply": "2021-02-02T01:54:12.365863Z"
    },
    "papermill": {
     "duration": 1.826106,
     "end_time": "2021-02-02T01:54:12.366876",
     "exception": false,
     "start_time": "2021-02-02T01:54:10.540770",
     "status": "completed"
    },
    "tags": []
   },
   "outputs": [],
   "source": [
    "#hide\n",
    "import matplotlib.pyplot as plt\n",
    "import numpy as np\n",
    "import pandas as pd\n",
    "import seaborn as sns\n",
    "import matplotlib.pyplot as plt \n",
    "import matplotlib.dates as mdates\n",
    "import matplotlib.pyplot as plt"
   ]
  },
  {
   "cell_type": "code",
   "execution_count": 5,
   "id": "superior-blanket",
   "metadata": {
    "execution": {
     "iopub.execute_input": "2021-02-02T01:54:12.392797Z",
     "iopub.status.busy": "2021-02-02T01:54:12.392265Z",
     "iopub.status.idle": "2021-02-02T01:54:24.328524Z",
     "shell.execute_reply": "2021-02-02T01:54:24.328042Z"
    },
    "papermill": {
     "duration": 11.950554,
     "end_time": "2021-02-02T01:54:24.328669",
     "exception": false,
     "start_time": "2021-02-02T01:54:12.378115",
     "status": "completed"
    },
    "tags": []
   },
   "outputs": [
    {
     "name": "stderr",
     "output_type": "stream",
     "text": [
      "/home/runner/work/corr-app/corr-app/_notebooks/scripts/read_data.py:187: SettingWithCopyWarning:\n",
      "\n",
      "\n",
      "A value is trying to be set on a copy of a slice from a DataFrame.\n",
      "Try using .loc[row_indexer,col_indexer] = value instead\n",
      "\n",
      "See the caveats in the documentation: https://pandas.pydata.org/pandas-docs/stable/user_guide/indexing.html#returning-a-view-versus-a-copy\n",
      "\n"
     ]
    },
    {
     "name": "stderr",
     "output_type": "stream",
     "text": [
      "/home/runner/work/corr-app/corr-app/_notebooks/scripts/read_data.py:215: SettingWithCopyWarning:\n",
      "\n",
      "\n",
      "A value is trying to be set on a copy of a slice from a DataFrame.\n",
      "Try using .loc[row_indexer,col_indexer] = value instead\n",
      "\n",
      "See the caveats in the documentation: https://pandas.pydata.org/pandas-docs/stable/user_guide/indexing.html#returning-a-view-versus-a-copy\n",
      "\n"
     ]
    }
   ],
   "source": [
    "#hide\n",
    "df_all = read_api()\n",
    "#df_all = df_all.drop(['SP500', 'XAU', 'ETH', 'BTC'], axis=1)\n",
    "\n"
   ]
  },
  {
   "cell_type": "code",
   "execution_count": 6,
   "id": "mature-alert",
   "metadata": {
    "execution": {
     "iopub.execute_input": "2021-02-02T01:54:24.377339Z",
     "iopub.status.busy": "2021-02-02T01:54:24.362583Z",
     "iopub.status.idle": "2021-02-02T01:54:24.390587Z",
     "shell.execute_reply": "2021-02-02T01:54:24.390172Z"
    },
    "papermill": {
     "duration": 0.050273,
     "end_time": "2021-02-02T01:54:24.390708",
     "exception": false,
     "start_time": "2021-02-02T01:54:24.340435",
     "status": "completed"
    },
    "tags": []
   },
   "outputs": [],
   "source": [
    "#hide_input\n",
    "sum_corr = df_all.corr().sum().sort_values(ascending=True).index.values\n",
    "#df_all[sum_corr].corr()"
   ]
  },
  {
   "cell_type": "markdown",
   "id": "complex-syndicate",
   "metadata": {
    "papermill": {
     "duration": 0.011011,
     "end_time": "2021-02-02T01:54:24.412889",
     "exception": false,
     "start_time": "2021-02-02T01:54:24.401878",
     "status": "completed"
    },
    "tags": []
   },
   "source": [
    "## Išplėstinė koreliacijų matrica. "
   ]
  },
  {
   "cell_type": "code",
   "execution_count": 7,
   "id": "atomic-omaha",
   "metadata": {
    "execution": {
     "iopub.execute_input": "2021-02-02T01:54:24.439443Z",
     "iopub.status.busy": "2021-02-02T01:54:24.438934Z",
     "iopub.status.idle": "2021-02-02T01:54:25.543981Z",
     "shell.execute_reply": "2021-02-02T01:54:25.543480Z"
    },
    "papermill": {
     "duration": 1.120057,
     "end_time": "2021-02-02T01:54:25.544111",
     "exception": false,
     "start_time": "2021-02-02T01:54:24.424054",
     "status": "completed"
    },
    "tags": []
   },
   "outputs": [
    {
     "data": {
      "image/png": "[encoded data removed]",
      "text/plain": [
       "<Figure size 1080x792 with 2 Axes>"
      ]
     },
     "metadata": {
      "needs_background": "light"
     },
     "output_type": "display_data"
    }
   ],
   "source": [
    "#hide_input\n",
    "plt.figure(figsize=(15, 11))\n",
    "sns.heatmap(df_all[sum_corr].corr(), annot=True, cmap=\"cubehelix\") \n",
    "sns.set(font_scale=1.25)\n",
    "plt.savefig('corr_matrix.png', format='eps')"
   ]
  },
  {
   "cell_type": "code",
   "execution_count": 8,
   "id": "arbitrary-sullivan",
   "metadata": {
    "execution": {
     "iopub.execute_input": "2021-02-02T01:54:25.581336Z",
     "iopub.status.busy": "2021-02-02T01:54:25.580459Z",
     "iopub.status.idle": "2021-02-02T01:54:25.601201Z",
     "shell.execute_reply": "2021-02-02T01:54:25.600380Z"
    },
    "papermill": {
     "duration": 0.04369,
     "end_time": "2021-02-02T01:54:25.601330",
     "exception": false,
     "start_time": "2021-02-02T01:54:25.557640",
     "status": "completed"
    },
    "tags": []
   },
   "outputs": [],
   "source": [
    "#hide\n",
    "#df_all_mrk = read_api()"
   ]
  },
  {
   "cell_type": "code",
   "execution_count": 9,
   "id": "delayed-adapter",
   "metadata": {
    "execution": {
     "iopub.execute_input": "2021-02-02T01:54:25.641147Z",
     "iopub.status.busy": "2021-02-02T01:54:25.640341Z",
     "iopub.status.idle": "2021-02-02T01:54:25.658553Z",
     "shell.execute_reply": "2021-02-02T01:54:25.658138Z"
    },
    "papermill": {
     "duration": 0.043407,
     "end_time": "2021-02-02T01:54:25.658672",
     "exception": false,
     "start_time": "2021-02-02T01:54:25.615265",
     "status": "completed"
    },
    "tags": []
   },
   "outputs": [],
   "source": [
    "#hide\n",
    "#Koreliacijų koeficientai"
   ]
  },
  {
   "cell_type": "code",
   "execution_count": 10,
   "id": "seeing-celebration",
   "metadata": {
    "execution": {
     "iopub.execute_input": "2021-02-02T01:54:25.691674Z",
     "iopub.status.busy": "2021-02-02T01:54:25.691174Z",
     "iopub.status.idle": "2021-02-02T01:54:25.712060Z",
     "shell.execute_reply": "2021-02-02T01:54:25.712493Z"
    },
    "papermill": {
     "duration": 0.040855,
     "end_time": "2021-02-02T01:54:25.712660",
     "exception": false,
     "start_time": "2021-02-02T01:54:25.671805",
     "status": "completed"
    },
    "tags": []
   },
   "outputs": [],
   "source": [
    "#hide_input\n",
    "#sum_corr = df_all_mrk.corr().sum().sort_values(ascending=True).index.values\n",
    "#df_all_mrk[sum_corr].corr()"
   ]
  },
  {
   "cell_type": "code",
   "execution_count": 11,
   "id": "other-painting",
   "metadata": {
    "execution": {
     "iopub.execute_input": "2021-02-02T01:54:25.757293Z",
     "iopub.status.busy": "2021-02-02T01:54:25.750595Z",
     "iopub.status.idle": "2021-02-02T01:54:25.769410Z",
     "shell.execute_reply": "2021-02-02T01:54:25.769790Z"
    },
    "papermill": {
     "duration": 0.043479,
     "end_time": "2021-02-02T01:54:25.769927",
     "exception": false,
     "start_time": "2021-02-02T01:54:25.726448",
     "status": "completed"
    },
    "tags": []
   },
   "outputs": [],
   "source": [
    "#hide\n",
    "#Koreliacijos matrica. "
   ]
  },
  {
   "cell_type": "code",
   "execution_count": 12,
   "id": "modular-magnitude",
   "metadata": {
    "execution": {
     "iopub.execute_input": "2021-02-02T01:54:25.823164Z",
     "iopub.status.busy": "2021-02-02T01:54:25.821609Z",
     "iopub.status.idle": "2021-02-02T01:54:25.831712Z",
     "shell.execute_reply": "2021-02-02T01:54:25.832117Z"
    },
    "papermill": {
     "duration": 0.04929,
     "end_time": "2021-02-02T01:54:25.832248",
     "exception": false,
     "start_time": "2021-02-02T01:54:25.782958",
     "status": "completed"
    },
    "tags": []
   },
   "outputs": [],
   "source": [
    "#hide_input\n",
    "#plt.figure(figsize=(15, 8))\n",
    "#sns.heatmap(df_all_mrk[sum_corr].corr(), annot=True, cmap=\"BrBG\");\n",
    "#plt.savefig('corr_matrix_all.eps', format='eps')"
   ]
  },
  {
   "cell_type": "code",
   "execution_count": null,
   "id": "original-senator",
   "metadata": {
    "papermill": {
     "duration": 0.01281,
     "end_time": "2021-02-02T01:54:25.858082",
     "exception": false,
     "start_time": "2021-02-02T01:54:25.845272",
     "status": "completed"
    },
    "tags": []
   },
   "outputs": [],
   "source": []
  },
  {
   "cell_type": "code",
   "execution_count": null,
   "id": "saving-secretariat",
   "metadata": {
    "papermill": {
     "duration": 0.01269,
     "end_time": "2021-02-02T01:54:25.883519",
     "exception": false,
     "start_time": "2021-02-02T01:54:25.870829",
     "status": "completed"
    },
    "tags": []
   },
   "outputs": [],
   "source": []
  }
 ],
 "metadata": {
  "kernelspec": {
   "display_name": "Python 3",
   "language": "python",
   "name": "python3"
  },
  "language_info": {
   "codemirror_mode": {
    "name": "ipython",
    "version": 3
   },
   "file_extension": ".py",
   "mimetype": "text/x-python",
   "name": "python",
   "nbconvert_exporter": "python",
   "pygments_lexer": "ipython3",
   "version": "3.6.12"
  },
  "papermill": {
   "default_parameters": {},
   "duration": 18.256933,
   "end_time": "2021-02-02T01:54:26.403437",
   "environment_variables": {},
   "exception": null,
   "input_path": "App-Correlation_charts.ipynb",
   "output_path": "App-Correlation_charts.ipynb",
   "parameters": {},
   "start_time": "2021-02-02T01:54:08.146504",
   "version": "2.2.2"
  }
 },
 "nbformat": 4,
 "nbformat_minor": 5
}