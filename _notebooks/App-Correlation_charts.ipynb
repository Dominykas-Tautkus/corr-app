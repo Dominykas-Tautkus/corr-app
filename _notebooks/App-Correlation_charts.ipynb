{
 "cells": [
  {
   "cell_type": "markdown",
   "id": "touched-facility",
   "metadata": {
    "papermill": {
     "duration": 0.01937,
     "end_time": "2021-04-30T02:07:43.461265",
     "exception": false,
     "start_time": "2021-04-30T02:07:43.441895",
     "status": "completed"
    },
    "tags": []
   },
   "source": [
    "# Koreliacijų matrica\n",
    "> Išplėstinė koreliacijų matrica. \n",
    "\n",
    "- toc: true \n",
    "- badges: true\n",
    "- comments: false\n",
    "- categories: [Dominykas Tautkus]\n",
    "- image: images/matrix.png"
   ]
  },
  {
   "cell_type": "code",
   "execution_count": null,
   "id": "premium-weekend",
   "metadata": {
    "papermill": {
     "duration": 0.012784,
     "end_time": "2021-04-30T02:07:43.486612",
     "exception": false,
     "start_time": "2021-04-30T02:07:43.473828",
     "status": "completed"
    },
    "tags": []
   },
   "outputs": [],
   "source": []
  },
  {
   "cell_type": "code",
   "execution_count": 1,
   "id": "vertical-rebate",
   "metadata": {
    "execution": {
     "iopub.execute_input": "2021-04-30T02:07:43.521691Z",
     "iopub.status.busy": "2021-04-30T02:07:43.521080Z",
     "iopub.status.idle": "2021-04-30T02:07:43.532286Z",
     "shell.execute_reply": "2021-04-30T02:07:43.532766Z"
    },
    "papermill": {
     "duration": 0.033826,
     "end_time": "2021-04-30T02:07:43.532936",
     "exception": false,
     "start_time": "2021-04-30T02:07:43.499110",
     "status": "completed"
    },
    "tags": []
   },
   "outputs": [],
   "source": [
    "#hide\n",
    "%load_ext autoreload\n",
    "%autoreload 2"
   ]
  },
  {
   "cell_type": "code",
   "execution_count": 2,
   "id": "overall-advancement",
   "metadata": {
    "execution": {
     "iopub.execute_input": "2021-04-30T02:07:43.567041Z",
     "iopub.status.busy": "2021-04-30T02:07:43.566460Z",
     "iopub.status.idle": "2021-04-30T02:07:44.776355Z",
     "shell.execute_reply": "2021-04-30T02:07:44.775514Z"
    },
    "papermill": {
     "duration": 1.228115,
     "end_time": "2021-04-30T02:07:44.776488",
     "exception": false,
     "start_time": "2021-04-30T02:07:43.548373",
     "status": "completed"
    },
    "tags": []
   },
   "outputs": [],
   "source": [
    "#hide\n",
    "from scripts.read_data import read_api\n",
    "from IPython.display import HTML\n",
    "import plotly.graph_objects as go\n"
   ]
  },
  {
   "cell_type": "code",
   "execution_count": 3,
   "id": "light-crazy",
   "metadata": {
    "execution": {
     "iopub.execute_input": "2021-04-30T02:07:44.810453Z",
     "iopub.status.busy": "2021-04-30T02:07:44.807932Z",
     "iopub.status.idle": "2021-04-30T02:07:44.831547Z",
     "shell.execute_reply": "2021-04-30T02:07:44.830839Z"
    },
    "papermill": {
     "duration": 0.042437,
     "end_time": "2021-04-30T02:07:44.831691",
     "exception": false,
     "start_time": "2021-04-30T02:07:44.789254",
     "status": "completed"
    },
    "tags": []
   },
   "outputs": [],
   "source": [
    "#hide\n",
    "### ICO koreliacija"
   ]
  },
  {
   "cell_type": "code",
   "execution_count": 4,
   "id": "likely-bahrain",
   "metadata": {
    "execution": {
     "iopub.execute_input": "2021-04-30T02:07:44.860627Z",
     "iopub.status.busy": "2021-04-30T02:07:44.860044Z",
     "iopub.status.idle": "2021-04-30T02:07:45.801182Z",
     "shell.execute_reply": "2021-04-30T02:07:45.800595Z"
    },
    "papermill": {
     "duration": 0.957505,
     "end_time": "2021-04-30T02:07:45.801350",
     "exception": false,
     "start_time": "2021-04-30T02:07:44.843845",
     "status": "completed"
    },
    "tags": []
   },
   "outputs": [],
   "source": [
    "#hide\n",
    "import matplotlib.pyplot as plt\n",
    "import numpy as np\n",
    "import pandas as pd\n",
    "import seaborn as sns\n",
    "import matplotlib.pyplot as plt \n",
    "import matplotlib.dates as mdates\n",
    "import matplotlib.pyplot as plt"
   ]
  },
  {
   "cell_type": "code",
   "execution_count": 5,
   "id": "superior-blanket",
   "metadata": {
    "execution": {
     "iopub.execute_input": "2021-04-30T02:07:45.833693Z",
     "iopub.status.busy": "2021-04-30T02:07:45.833062Z",
     "iopub.status.idle": "2021-04-30T02:07:56.131442Z",
     "shell.execute_reply": "2021-04-30T02:07:56.130891Z"
    },
    "papermill": {
     "duration": 10.315253,
     "end_time": "2021-04-30T02:07:56.131573",
     "exception": false,
     "start_time": "2021-04-30T02:07:45.816320",
     "status": "completed"
    },
    "tags": []
   },
   "outputs": [
    {
     "name": "stderr",
     "output_type": "stream",
     "text": [
      "/home/runner/work/corr-app/corr-app/_notebooks/scripts/read_data.py:187: SettingWithCopyWarning:\n",
      "\n",
      "\n",
      "A value is trying to be set on a copy of a slice from a DataFrame.\n",
      "Try using .loc[row_indexer,col_indexer] = value instead\n",
      "\n",
      "See the caveats in the documentation: https://pandas.pydata.org/pandas-docs/stable/user_guide/indexing.html#returning-a-view-versus-a-copy\n",
      "\n"
     ]
    },
    {
     "name": "stderr",
     "output_type": "stream",
     "text": [
      "/home/runner/work/corr-app/corr-app/_notebooks/scripts/read_data.py:215: SettingWithCopyWarning:\n",
      "\n",
      "\n",
      "A value is trying to be set on a copy of a slice from a DataFrame.\n",
      "Try using .loc[row_indexer,col_indexer] = value instead\n",
      "\n",
      "See the caveats in the documentation: https://pandas.pydata.org/pandas-docs/stable/user_guide/indexing.html#returning-a-view-versus-a-copy\n",
      "\n"
     ]
    }
   ],
   "source": [
    "#hide\n",
    "df_all = read_api()\n",
    "#df_all = df_all.drop(['SP500', 'XAU', 'ETH', 'BTC'], axis=1)\n",
    "\n"
   ]
  },
  {
   "cell_type": "code",
   "execution_count": 6,
   "id": "mature-alert",
   "metadata": {
    "execution": {
     "iopub.execute_input": "2021-04-30T02:07:56.163828Z",
     "iopub.status.busy": "2021-04-30T02:07:56.163257Z",
     "iopub.status.idle": "2021-04-30T02:07:56.196771Z",
     "shell.execute_reply": "2021-04-30T02:07:56.196204Z"
    },
    "papermill": {
     "duration": 0.051665,
     "end_time": "2021-04-30T02:07:56.196904",
     "exception": false,
     "start_time": "2021-04-30T02:07:56.145239",
     "status": "completed"
    },
    "tags": []
   },
   "outputs": [],
   "source": [
    "#hide_input\n",
    "sum_corr = df_all.corr().sum().sort_values(ascending=True).index.values\n",
    "#df_all[sum_corr].corr()"
   ]
  },
  {
   "cell_type": "markdown",
   "id": "complex-syndicate",
   "metadata": {
    "papermill": {
     "duration": 0.013862,
     "end_time": "2021-04-30T02:07:56.224563",
     "exception": false,
     "start_time": "2021-04-30T02:07:56.210701",
     "status": "completed"
    },
    "tags": []
   },
   "source": [
    "## Išplėstinė koreliacijų matrica. "
   ]
  },
  {
   "cell_type": "code",
   "execution_count": 7,
   "id": "atomic-omaha",
   "metadata": {
    "execution": {
     "iopub.execute_input": "2021-04-30T02:07:56.256935Z",
     "iopub.status.busy": "2021-04-30T02:07:56.256208Z",
     "iopub.status.idle": "2021-04-30T02:07:57.832928Z",
     "shell.execute_reply": "2021-04-30T02:07:57.833403Z"
    },
    "papermill": {
     "duration": 1.595874,
     "end_time": "2021-04-30T02:07:57.833573",
     "exception": false,
     "start_time": "2021-04-30T02:07:56.237699",
     "status": "completed"
    },
    "tags": []
   },
   "outputs": [
    {
     "data": {
      "image/png": "[encoded data removed]",
      "text/plain": [
       "<Figure size 1080x792 with 2 Axes>"
      ]
     },
     "metadata": {
      "needs_background": "light"
     },
     "output_type": "display_data"
    }
   ],
   "source": [
    "#hide_input\n",
    "plt.figure(figsize=(15, 11))\n",
    "sns.heatmap(df_all[sum_corr].corr(), annot=True, cmap=\"cubehelix\") \n",
    "sns.set(font_scale=1.25)\n",
    "plt.savefig('corr_matrix.png', format='eps')"
   ]
  },
  {
   "cell_type": "code",
   "execution_count": 8,
   "id": "arbitrary-sullivan",
   "metadata": {
    "execution": {
     "iopub.execute_input": "2021-04-30T02:07:57.884713Z",
     "iopub.status.busy": "2021-04-30T02:07:57.878998Z",
     "iopub.status.idle": "2021-04-30T02:07:57.902408Z",
     "shell.execute_reply": "2021-04-30T02:07:57.901903Z"
    },
    "papermill": {
     "duration": 0.053189,
     "end_time": "2021-04-30T02:07:57.902538",
     "exception": false,
     "start_time": "2021-04-30T02:07:57.849349",
     "status": "completed"
    },
    "tags": []
   },
   "outputs": [],
   "source": [
    "#hide\n",
    "#df_all_mrk = read_api()"
   ]
  },
  {
   "cell_type": "code",
   "execution_count": 9,
   "id": "delayed-adapter",
   "metadata": {
    "execution": {
     "iopub.execute_input": "2021-04-30T02:07:57.949892Z",
     "iopub.status.busy": "2021-04-30T02:07:57.949300Z",
     "iopub.status.idle": "2021-04-30T02:07:57.967191Z",
     "shell.execute_reply": "2021-04-30T02:07:57.966703Z"
    },
    "papermill": {
     "duration": 0.050138,
     "end_time": "2021-04-30T02:07:57.967359",
     "exception": false,
     "start_time": "2021-04-30T02:07:57.917221",
     "status": "completed"
    },
    "tags": []
   },
   "outputs": [],
   "source": [
    "#hide\n",
    "#Koreliacijų koeficientai"
   ]
  },
  {
   "cell_type": "code",
   "execution_count": 10,
   "id": "seeing-celebration",
   "metadata": {
    "execution": {
     "iopub.execute_input": "2021-04-30T02:07:58.002821Z",
     "iopub.status.busy": "2021-04-30T02:07:58.002226Z",
     "iopub.status.idle": "2021-04-30T02:07:58.028024Z",
     "shell.execute_reply": "2021-04-30T02:07:58.028488Z"
    },
    "papermill": {
     "duration": 0.045969,
     "end_time": "2021-04-30T02:07:58.028642",
     "exception": false,
     "start_time": "2021-04-30T02:07:57.982673",
     "status": "completed"
    },
    "tags": []
   },
   "outputs": [],
   "source": [
    "#hide_input\n",
    "#sum_corr = df_all_mrk.corr().sum().sort_values(ascending=True).index.values\n",
    "#df_all_mrk[sum_corr].corr()"
   ]
  },
  {
   "cell_type": "code",
   "execution_count": 11,
   "id": "other-painting",
   "metadata": {
    "execution": {
     "iopub.execute_input": "2021-04-30T02:07:58.065406Z",
     "iopub.status.busy": "2021-04-30T02:07:58.064672Z",
     "iopub.status.idle": "2021-04-30T02:07:58.091613Z",
     "shell.execute_reply": "2021-04-30T02:07:58.091058Z"
    },
    "papermill": {
     "duration": 0.047205,
     "end_time": "2021-04-30T02:07:58.091757",
     "exception": false,
     "start_time": "2021-04-30T02:07:58.044552",
     "status": "completed"
    },
    "tags": []
   },
   "outputs": [],
   "source": [
    "#hide\n",
    "#Koreliacijos matrica. "
   ]
  },
  {
   "cell_type": "code",
   "execution_count": 12,
   "id": "modular-magnitude",
   "metadata": {
    "execution": {
     "iopub.execute_input": "2021-04-30T02:07:58.127881Z",
     "iopub.status.busy": "2021-04-30T02:07:58.127147Z",
     "iopub.status.idle": "2021-04-30T02:07:58.155336Z",
     "shell.execute_reply": "2021-04-30T02:07:58.154823Z"
    },
    "papermill": {
     "duration": 0.047735,
     "end_time": "2021-04-30T02:07:58.155488",
     "exception": false,
     "start_time": "2021-04-30T02:07:58.107753",
     "status": "completed"
    },
    "tags": []
   },
   "outputs": [],
   "source": [
    "#hide_input\n",
    "#plt.figure(figsize=(15, 8))\n",
    "#sns.heatmap(df_all_mrk[sum_corr].corr(), annot=True, cmap=\"BrBG\");\n",
    "#plt.savefig('corr_matrix_all.eps', format='eps')"
   ]
  },
  {
   "cell_type": "code",
   "execution_count": null,
   "id": "original-senator",
   "metadata": {
    "papermill": {
     "duration": 0.017321,
     "end_time": "2021-04-30T02:07:58.189608",
     "exception": false,
     "start_time": "2021-04-30T02:07:58.172287",
     "status": "completed"
    },
    "tags": []
   },
   "outputs": [],
   "source": []
  },
  {
   "cell_type": "code",
   "execution_count": null,
   "id": "saving-secretariat",
   "metadata": {
    "papermill": {
     "duration": 0.015046,
     "end_time": "2021-04-30T02:07:58.220473",
     "exception": false,
     "start_time": "2021-04-30T02:07:58.205427",
     "status": "completed"
    },
    "tags": []
   },
   "outputs": [],
   "source": []
  }
 ],
 "metadata": {
  "kernelspec": {
   "display_name": "Python 3",
   "language": "python",
   "name": "python3"
  },
  "language_info": {
   "codemirror_mode": {
    "name": "ipython",
    "version": 3
   },
   "file_extension": ".py",
   "mimetype": "text/x-python",
   "name": "python",
   "nbconvert_exporter": "python",
   "pygments_lexer": "ipython3",
   "version": "3.6.13"
  },
  "papermill": {
   "default_parameters": {},
   "duration": 17.323781,
   "end_time": "2021-04-30T02:07:59.491608",
   "environment_variables": {},
   "exception": null,
   "input_path": "App-Correlation_charts.ipynb",
   "output_path": "App-Correlation_charts.ipynb",
   "parameters": {},
   "start_time": "2021-04-30T02:07:42.167827",
   "version": "2.2.2"
  }
 },
 "nbformat": 4,
 "nbformat_minor": 5
}