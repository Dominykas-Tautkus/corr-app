{
 "cells": [
  {
   "cell_type": "markdown",
   "id": "touched-facility",
   "metadata": {
    "papermill": {
     "duration": 0.018936,
     "end_time": "2021-04-27T02:08:28.414761",
     "exception": false,
     "start_time": "2021-04-27T02:08:28.395825",
     "status": "completed"
    },
    "tags": []
   },
   "source": [
    "# Koreliacijų matrica\n",
    "> Išplėstinė koreliacijų matrica. \n",
    "\n",
    "- toc: true \n",
    "- badges: true\n",
    "- comments: false\n",
    "- categories: [Dominykas Tautkus]\n",
    "- image: images/matrix.png"
   ]
  },
  {
   "cell_type": "code",
   "execution_count": null,
   "id": "premium-weekend",
   "metadata": {
    "papermill": {
     "duration": 0.012599,
     "end_time": "2021-04-27T02:08:28.441167",
     "exception": false,
     "start_time": "2021-04-27T02:08:28.428568",
     "status": "completed"
    },
    "tags": []
   },
   "outputs": [],
   "source": []
  },
  {
   "cell_type": "code",
   "execution_count": 1,
   "id": "vertical-rebate",
   "metadata": {
    "execution": {
     "iopub.execute_input": "2021-04-27T02:08:28.477731Z",
     "iopub.status.busy": "2021-04-27T02:08:28.477158Z",
     "iopub.status.idle": "2021-04-27T02:08:28.488195Z",
     "shell.execute_reply": "2021-04-27T02:08:28.487656Z"
    },
    "papermill": {
     "duration": 0.034812,
     "end_time": "2021-04-27T02:08:28.488352",
     "exception": false,
     "start_time": "2021-04-27T02:08:28.453540",
     "status": "completed"
    },
    "tags": []
   },
   "outputs": [],
   "source": [
    "#hide\n",
    "%load_ext autoreload\n",
    "%autoreload 2"
   ]
  },
  {
   "cell_type": "code",
   "execution_count": 2,
   "id": "overall-advancement",
   "metadata": {
    "execution": {
     "iopub.execute_input": "2021-04-27T02:08:28.519528Z",
     "iopub.status.busy": "2021-04-27T02:08:28.518926Z",
     "iopub.status.idle": "2021-04-27T02:08:29.899339Z",
     "shell.execute_reply": "2021-04-27T02:08:29.898806Z"
    },
    "papermill": {
     "duration": 1.396706,
     "end_time": "2021-04-27T02:08:29.899469",
     "exception": false,
     "start_time": "2021-04-27T02:08:28.502763",
     "status": "completed"
    },
    "tags": []
   },
   "outputs": [],
   "source": [
    "#hide\n",
    "from scripts.read_data import read_api\n",
    "from IPython.display import HTML\n",
    "import plotly.graph_objects as go\n"
   ]
  },
  {
   "cell_type": "code",
   "execution_count": 3,
   "id": "light-crazy",
   "metadata": {
    "execution": {
     "iopub.execute_input": "2021-04-27T02:08:29.933137Z",
     "iopub.status.busy": "2021-04-27T02:08:29.932547Z",
     "iopub.status.idle": "2021-04-27T02:08:29.956593Z",
     "shell.execute_reply": "2021-04-27T02:08:29.954911Z"
    },
    "papermill": {
     "duration": 0.040881,
     "end_time": "2021-04-27T02:08:29.956714",
     "exception": false,
     "start_time": "2021-04-27T02:08:29.915833",
     "status": "completed"
    },
    "tags": []
   },
   "outputs": [],
   "source": [
    "#hide\n",
    "### ICO koreliacija"
   ]
  },
  {
   "cell_type": "code",
   "execution_count": 4,
   "id": "likely-bahrain",
   "metadata": {
    "execution": {
     "iopub.execute_input": "2021-04-27T02:08:29.989028Z",
     "iopub.status.busy": "2021-04-27T02:08:29.988439Z",
     "iopub.status.idle": "2021-04-27T02:08:30.960393Z",
     "shell.execute_reply": "2021-04-27T02:08:30.959733Z"
    },
    "papermill": {
     "duration": 0.990109,
     "end_time": "2021-04-27T02:08:30.960536",
     "exception": false,
     "start_time": "2021-04-27T02:08:29.970427",
     "status": "completed"
    },
    "tags": []
   },
   "outputs": [],
   "source": [
    "#hide\n",
    "import matplotlib.pyplot as plt\n",
    "import numpy as np\n",
    "import pandas as pd\n",
    "import seaborn as sns\n",
    "import matplotlib.pyplot as plt \n",
    "import matplotlib.dates as mdates\n",
    "import matplotlib.pyplot as plt"
   ]
  },
  {
   "cell_type": "code",
   "execution_count": 5,
   "id": "superior-blanket",
   "metadata": {
    "execution": {
     "iopub.execute_input": "2021-04-27T02:08:30.996356Z",
     "iopub.status.busy": "2021-04-27T02:08:30.995562Z",
     "iopub.status.idle": "2021-04-27T02:08:40.840181Z",
     "shell.execute_reply": "2021-04-27T02:08:40.839549Z"
    },
    "papermill": {
     "duration": 9.864466,
     "end_time": "2021-04-27T02:08:40.840371",
     "exception": false,
     "start_time": "2021-04-27T02:08:30.975905",
     "status": "completed"
    },
    "tags": []
   },
   "outputs": [
    {
     "name": "stderr",
     "output_type": "stream",
     "text": [
      "/home/runner/work/corr-app/corr-app/_notebooks/scripts/read_data.py:187: SettingWithCopyWarning:\n",
      "\n",
      "\n",
      "A value is trying to be set on a copy of a slice from a DataFrame.\n",
      "Try using .loc[row_indexer,col_indexer] = value instead\n",
      "\n",
      "See the caveats in the documentation: https://pandas.pydata.org/pandas-docs/stable/user_guide/indexing.html#returning-a-view-versus-a-copy\n",
      "\n"
     ]
    },
    {
     "name": "stderr",
     "output_type": "stream",
     "text": [
      "/home/runner/work/corr-app/corr-app/_notebooks/scripts/read_data.py:215: SettingWithCopyWarning:\n",
      "\n",
      "\n",
      "A value is trying to be set on a copy of a slice from a DataFrame.\n",
      "Try using .loc[row_indexer,col_indexer] = value instead\n",
      "\n",
      "See the caveats in the documentation: https://pandas.pydata.org/pandas-docs/stable/user_guide/indexing.html#returning-a-view-versus-a-copy\n",
      "\n"
     ]
    }
   ],
   "source": [
    "#hide\n",
    "df_all = read_api()\n",
    "#df_all = df_all.drop(['SP500', 'XAU', 'ETH', 'BTC'], axis=1)\n",
    "\n"
   ]
  },
  {
   "cell_type": "code",
   "execution_count": 6,
   "id": "mature-alert",
   "metadata": {
    "execution": {
     "iopub.execute_input": "2021-04-27T02:08:40.876782Z",
     "iopub.status.busy": "2021-04-27T02:08:40.876119Z",
     "iopub.status.idle": "2021-04-27T02:08:40.908229Z",
     "shell.execute_reply": "2021-04-27T02:08:40.907667Z"
    },
    "papermill": {
     "duration": 0.052127,
     "end_time": "2021-04-27T02:08:40.908373",
     "exception": false,
     "start_time": "2021-04-27T02:08:40.856246",
     "status": "completed"
    },
    "tags": []
   },
   "outputs": [],
   "source": [
    "#hide_input\n",
    "sum_corr = df_all.corr().sum().sort_values(ascending=True).index.values\n",
    "#df_all[sum_corr].corr()"
   ]
  },
  {
   "cell_type": "markdown",
   "id": "complex-syndicate",
   "metadata": {
    "papermill": {
     "duration": 0.015335,
     "end_time": "2021-04-27T02:08:40.939520",
     "exception": false,
     "start_time": "2021-04-27T02:08:40.924185",
     "status": "completed"
    },
    "tags": []
   },
   "source": [
    "## Išplėstinė koreliacijų matrica. "
   ]
  },
  {
   "cell_type": "code",
   "execution_count": 7,
   "id": "atomic-omaha",
   "metadata": {
    "execution": {
     "iopub.execute_input": "2021-04-27T02:08:40.973958Z",
     "iopub.status.busy": "2021-04-27T02:08:40.973266Z",
     "iopub.status.idle": "2021-04-27T02:08:42.558415Z",
     "shell.execute_reply": "2021-04-27T02:08:42.557738Z"
    },
    "papermill": {
     "duration": 1.604716,
     "end_time": "2021-04-27T02:08:42.558581",
     "exception": false,
     "start_time": "2021-04-27T02:08:40.953865",
     "status": "completed"
    },
    "tags": []
   },
   "outputs": [
    {
     "data": {
      "image/png": "[encoded data removed]",
      "text/plain": [
       "<Figure size 1080x792 with 2 Axes>"
      ]
     },
     "metadata": {
      "needs_background": "light"
     },
     "output_type": "display_data"
    }
   ],
   "source": [
    "#hide_input\n",
    "plt.figure(figsize=(15, 11))\n",
    "sns.heatmap(df_all[sum_corr].corr(), annot=True, cmap=\"cubehelix\") \n",
    "sns.set(font_scale=1.25)\n",
    "plt.savefig('corr_matrix.png', format='eps')"
   ]
  },
  {
   "cell_type": "code",
   "execution_count": 8,
   "id": "arbitrary-sullivan",
   "metadata": {
    "execution": {
     "iopub.execute_input": "2021-04-27T02:08:42.603864Z",
     "iopub.status.busy": "2021-04-27T02:08:42.602544Z",
     "iopub.status.idle": "2021-04-27T02:08:42.634102Z",
     "shell.execute_reply": "2021-04-27T02:08:42.634647Z"
    },
    "papermill": {
     "duration": 0.056223,
     "end_time": "2021-04-27T02:08:42.634803",
     "exception": false,
     "start_time": "2021-04-27T02:08:42.578580",
     "status": "completed"
    },
    "tags": []
   },
   "outputs": [],
   "source": [
    "#hide\n",
    "#df_all_mrk = read_api()"
   ]
  },
  {
   "cell_type": "code",
   "execution_count": 9,
   "id": "delayed-adapter",
   "metadata": {
    "execution": {
     "iopub.execute_input": "2021-04-27T02:08:42.673764Z",
     "iopub.status.busy": "2021-04-27T02:08:42.672752Z",
     "iopub.status.idle": "2021-04-27T02:08:42.703276Z",
     "shell.execute_reply": "2021-04-27T02:08:42.703796Z"
    },
    "papermill": {
     "duration": 0.052293,
     "end_time": "2021-04-27T02:08:42.703964",
     "exception": false,
     "start_time": "2021-04-27T02:08:42.651671",
     "status": "completed"
    },
    "tags": []
   },
   "outputs": [],
   "source": [
    "#hide\n",
    "#Koreliacijų koeficientai"
   ]
  },
  {
   "cell_type": "code",
   "execution_count": 10,
   "id": "seeing-celebration",
   "metadata": {
    "execution": {
     "iopub.execute_input": "2021-04-27T02:08:42.742810Z",
     "iopub.status.busy": "2021-04-27T02:08:42.742084Z",
     "iopub.status.idle": "2021-04-27T02:08:42.772193Z",
     "shell.execute_reply": "2021-04-27T02:08:42.771510Z"
    },
    "papermill": {
     "duration": 0.051411,
     "end_time": "2021-04-27T02:08:42.772368",
     "exception": false,
     "start_time": "2021-04-27T02:08:42.720957",
     "status": "completed"
    },
    "tags": []
   },
   "outputs": [],
   "source": [
    "#hide_input\n",
    "#sum_corr = df_all_mrk.corr().sum().sort_values(ascending=True).index.values\n",
    "#df_all_mrk[sum_corr].corr()"
   ]
  },
  {
   "cell_type": "code",
   "execution_count": 11,
   "id": "other-painting",
   "metadata": {
    "execution": {
     "iopub.execute_input": "2021-04-27T02:08:42.811206Z",
     "iopub.status.busy": "2021-04-27T02:08:42.810496Z",
     "iopub.status.idle": "2021-04-27T02:08:42.841017Z",
     "shell.execute_reply": "2021-04-27T02:08:42.841528Z"
    },
    "papermill": {
     "duration": 0.052296,
     "end_time": "2021-04-27T02:08:42.841680",
     "exception": false,
     "start_time": "2021-04-27T02:08:42.789384",
     "status": "completed"
    },
    "tags": []
   },
   "outputs": [],
   "source": [
    "#hide\n",
    "#Koreliacijos matrica. "
   ]
  },
  {
   "cell_type": "code",
   "execution_count": 12,
   "id": "modular-magnitude",
   "metadata": {
    "execution": {
     "iopub.execute_input": "2021-04-27T02:08:42.881861Z",
     "iopub.status.busy": "2021-04-27T02:08:42.881209Z",
     "iopub.status.idle": "2021-04-27T02:08:42.909104Z",
     "shell.execute_reply": "2021-04-27T02:08:42.908555Z"
    },
    "papermill": {
     "duration": 0.050409,
     "end_time": "2021-04-27T02:08:42.909241",
     "exception": false,
     "start_time": "2021-04-27T02:08:42.858832",
     "status": "completed"
    },
    "tags": []
   },
   "outputs": [],
   "source": [
    "#hide_input\n",
    "#plt.figure(figsize=(15, 8))\n",
    "#sns.heatmap(df_all_mrk[sum_corr].corr(), annot=True, cmap=\"BrBG\");\n",
    "#plt.savefig('corr_matrix_all.eps', format='eps')"
   ]
  },
  {
   "cell_type": "code",
   "execution_count": null,
   "id": "original-senator",
   "metadata": {
    "papermill": {
     "duration": 0.016355,
     "end_time": "2021-04-27T02:08:42.942755",
     "exception": false,
     "start_time": "2021-04-27T02:08:42.926400",
     "status": "completed"
    },
    "tags": []
   },
   "outputs": [],
   "source": []
  },
  {
   "cell_type": "code",
   "execution_count": null,
   "id": "saving-secretariat",
   "metadata": {
    "papermill": {
     "duration": 0.016833,
     "end_time": "2021-04-27T02:08:42.976936",
     "exception": false,
     "start_time": "2021-04-27T02:08:42.960103",
     "status": "completed"
    },
    "tags": []
   },
   "outputs": [],
   "source": []
  }
 ],
 "metadata": {
  "kernelspec": {
   "display_name": "Python 3",
   "language": "python",
   "name": "python3"
  },
  "language_info": {
   "codemirror_mode": {
    "name": "ipython",
    "version": 3
   },
   "file_extension": ".py",
   "mimetype": "text/x-python",
   "name": "python",
   "nbconvert_exporter": "python",
   "pygments_lexer": "ipython3",
   "version": "3.6.13"
  },
  "papermill": {
   "default_parameters": {},
   "duration": 17.339798,
   "end_time": "2021-04-27T02:08:44.445856",
   "environment_variables": {},
   "exception": null,
   "input_path": "App-Correlation_charts.ipynb",
   "output_path": "App-Correlation_charts.ipynb",
   "parameters": {},
   "start_time": "2021-04-27T02:08:27.106058",
   "version": "2.2.2"
  }
 },
 "nbformat": 4,
 "nbformat_minor": 5
}