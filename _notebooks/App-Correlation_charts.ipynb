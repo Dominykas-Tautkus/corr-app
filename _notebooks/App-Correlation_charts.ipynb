{
 "cells": [
  {
   "cell_type": "markdown",
   "id": "touched-facility",
   "metadata": {
    "papermill": {
     "duration": 0.017335,
     "end_time": "2021-05-16T02:23:20.340876",
     "exception": false,
     "start_time": "2021-05-16T02:23:20.323541",
     "status": "completed"
    },
    "tags": []
   },
   "source": [
    "# Koreliacijų matrica\n",
    "> Išplėstinė koreliacijų matrica. \n",
    "\n",
    "- toc: true \n",
    "- badges: true\n",
    "- comments: false\n",
    "- categories: [Dominykas Tautkus]\n",
    "- image: images/matrix.png"
   ]
  },
  {
   "cell_type": "code",
   "execution_count": null,
   "id": "premium-weekend",
   "metadata": {
    "papermill": {
     "duration": 0.010461,
     "end_time": "2021-05-16T02:23:20.363431",
     "exception": false,
     "start_time": "2021-05-16T02:23:20.352970",
     "status": "completed"
    },
    "tags": []
   },
   "outputs": [],
   "source": []
  },
  {
   "cell_type": "code",
   "execution_count": 1,
   "id": "vertical-rebate",
   "metadata": {
    "execution": {
     "iopub.execute_input": "2021-05-16T02:23:20.397123Z",
     "iopub.status.busy": "2021-05-16T02:23:20.396561Z",
     "iopub.status.idle": "2021-05-16T02:23:20.407274Z",
     "shell.execute_reply": "2021-05-16T02:23:20.407784Z"
    },
    "papermill": {
     "duration": 0.032827,
     "end_time": "2021-05-16T02:23:20.407949",
     "exception": false,
     "start_time": "2021-05-16T02:23:20.375122",
     "status": "completed"
    },
    "tags": []
   },
   "outputs": [],
   "source": [
    "#hide\n",
    "%load_ext autoreload\n",
    "%autoreload 2"
   ]
  },
  {
   "cell_type": "code",
   "execution_count": 2,
   "id": "overall-advancement",
   "metadata": {
    "execution": {
     "iopub.execute_input": "2021-05-16T02:23:20.434059Z",
     "iopub.status.busy": "2021-05-16T02:23:20.433535Z",
     "iopub.status.idle": "2021-05-16T02:23:21.530226Z",
     "shell.execute_reply": "2021-05-16T02:23:21.529335Z"
    },
    "papermill": {
     "duration": 1.111855,
     "end_time": "2021-05-16T02:23:21.530447",
     "exception": false,
     "start_time": "2021-05-16T02:23:20.418592",
     "status": "completed"
    },
    "tags": []
   },
   "outputs": [],
   "source": [
    "#hide\n",
    "from scripts.read_data import read_api\n",
    "from IPython.display import HTML\n",
    "import plotly.graph_objects as go\n"
   ]
  },
  {
   "cell_type": "code",
   "execution_count": 3,
   "id": "light-crazy",
   "metadata": {
    "execution": {
     "iopub.execute_input": "2021-05-16T02:23:21.561965Z",
     "iopub.status.busy": "2021-05-16T02:23:21.561411Z",
     "iopub.status.idle": "2021-05-16T02:23:21.585320Z",
     "shell.execute_reply": "2021-05-16T02:23:21.584863Z"
    },
    "papermill": {
     "duration": 0.040686,
     "end_time": "2021-05-16T02:23:21.585443",
     "exception": false,
     "start_time": "2021-05-16T02:23:21.544757",
     "status": "completed"
    },
    "tags": []
   },
   "outputs": [],
   "source": [
    "#hide\n",
    "### ICO koreliacija"
   ]
  },
  {
   "cell_type": "code",
   "execution_count": 4,
   "id": "likely-bahrain",
   "metadata": {
    "execution": {
     "iopub.execute_input": "2021-05-16T02:23:21.611869Z",
     "iopub.status.busy": "2021-05-16T02:23:21.611335Z",
     "iopub.status.idle": "2021-05-16T02:23:22.420976Z",
     "shell.execute_reply": "2021-05-16T02:23:22.420512Z"
    },
    "papermill": {
     "duration": 0.824154,
     "end_time": "2021-05-16T02:23:22.421092",
     "exception": false,
     "start_time": "2021-05-16T02:23:21.596938",
     "status": "completed"
    },
    "tags": []
   },
   "outputs": [],
   "source": [
    "#hide\n",
    "import matplotlib.pyplot as plt\n",
    "import numpy as np\n",
    "import pandas as pd\n",
    "import seaborn as sns\n",
    "import matplotlib.pyplot as plt \n",
    "import matplotlib.dates as mdates\n",
    "import matplotlib.pyplot as plt"
   ]
  },
  {
   "cell_type": "code",
   "execution_count": 5,
   "id": "superior-blanket",
   "metadata": {
    "execution": {
     "iopub.execute_input": "2021-05-16T02:23:22.450977Z",
     "iopub.status.busy": "2021-05-16T02:23:22.448361Z",
     "iopub.status.idle": "2021-05-16T02:23:36.134639Z",
     "shell.execute_reply": "2021-05-16T02:23:36.133701Z"
    },
    "papermill": {
     "duration": 13.702538,
     "end_time": "2021-05-16T02:23:36.134821",
     "exception": false,
     "start_time": "2021-05-16T02:23:22.432283",
     "status": "completed"
    },
    "tags": []
   },
   "outputs": [
    {
     "name": "stderr",
     "output_type": "stream",
     "text": [
      "/home/runner/work/corr-app/corr-app/_notebooks/scripts/read_data.py:187: SettingWithCopyWarning:\n",
      "\n",
      "\n",
      "A value is trying to be set on a copy of a slice from a DataFrame.\n",
      "Try using .loc[row_indexer,col_indexer] = value instead\n",
      "\n",
      "See the caveats in the documentation: https://pandas.pydata.org/pandas-docs/stable/user_guide/indexing.html#returning-a-view-versus-a-copy\n",
      "\n"
     ]
    },
    {
     "name": "stderr",
     "output_type": "stream",
     "text": [
      "/home/runner/work/corr-app/corr-app/_notebooks/scripts/read_data.py:215: SettingWithCopyWarning:\n",
      "\n",
      "\n",
      "A value is trying to be set on a copy of a slice from a DataFrame.\n",
      "Try using .loc[row_indexer,col_indexer] = value instead\n",
      "\n",
      "See the caveats in the documentation: https://pandas.pydata.org/pandas-docs/stable/user_guide/indexing.html#returning-a-view-versus-a-copy\n",
      "\n"
     ]
    }
   ],
   "source": [
    "#hide\n",
    "df_all = read_api()\n",
    "#df_all = df_all.drop(['SP500', 'XAU', 'ETH', 'BTC'], axis=1)\n",
    "\n"
   ]
  },
  {
   "cell_type": "code",
   "execution_count": 6,
   "id": "mature-alert",
   "metadata": {
    "execution": {
     "iopub.execute_input": "2021-05-16T02:23:36.164066Z",
     "iopub.status.busy": "2021-05-16T02:23:36.163477Z",
     "iopub.status.idle": "2021-05-16T02:23:36.194971Z",
     "shell.execute_reply": "2021-05-16T02:23:36.194401Z"
    },
    "papermill": {
     "duration": 0.048185,
     "end_time": "2021-05-16T02:23:36.195112",
     "exception": false,
     "start_time": "2021-05-16T02:23:36.146927",
     "status": "completed"
    },
    "tags": []
   },
   "outputs": [],
   "source": [
    "#hide_input\n",
    "sum_corr = df_all.corr().sum().sort_values(ascending=True).index.values\n",
    "#df_all[sum_corr].corr()"
   ]
  },
  {
   "cell_type": "markdown",
   "id": "complex-syndicate",
   "metadata": {
    "papermill": {
     "duration": 0.010507,
     "end_time": "2021-05-16T02:23:36.216725",
     "exception": false,
     "start_time": "2021-05-16T02:23:36.206218",
     "status": "completed"
    },
    "tags": []
   },
   "source": [
    "## Išplėstinė koreliacijų matrica. "
   ]
  },
  {
   "cell_type": "code",
   "execution_count": 7,
   "id": "atomic-omaha",
   "metadata": {
    "execution": {
     "iopub.execute_input": "2021-05-16T02:23:36.246502Z",
     "iopub.status.busy": "2021-05-16T02:23:36.246017Z",
     "iopub.status.idle": "2021-05-16T02:23:37.402379Z",
     "shell.execute_reply": "2021-05-16T02:23:37.401771Z"
    },
    "papermill": {
     "duration": 1.174376,
     "end_time": "2021-05-16T02:23:37.402528",
     "exception": false,
     "start_time": "2021-05-16T02:23:36.228152",
     "status": "completed"
    },
    "tags": []
   },
   "outputs": [
    {
     "data": {
      "image/png": "[encoded data removed]",
      "text/plain": [
       "<Figure size 1080x792 with 2 Axes>"
      ]
     },
     "metadata": {
      "needs_background": "light"
     },
     "output_type": "display_data"
    }
   ],
   "source": [
    "#hide_input\n",
    "plt.figure(figsize=(15, 11))\n",
    "sns.heatmap(df_all[sum_corr].corr(), annot=True, cmap=\"cubehelix\") \n",
    "sns.set(font_scale=1.25)\n",
    "plt.savefig('corr_matrix.png', format='eps')"
   ]
  },
  {
   "cell_type": "code",
   "execution_count": 8,
   "id": "arbitrary-sullivan",
   "metadata": {
    "execution": {
     "iopub.execute_input": "2021-05-16T02:23:37.433435Z",
     "iopub.status.busy": "2021-05-16T02:23:37.433007Z",
     "iopub.status.idle": "2021-05-16T02:23:37.457508Z",
     "shell.execute_reply": "2021-05-16T02:23:37.457016Z"
    },
    "papermill": {
     "duration": 0.040819,
     "end_time": "2021-05-16T02:23:37.457633",
     "exception": false,
     "start_time": "2021-05-16T02:23:37.416814",
     "status": "completed"
    },
    "tags": []
   },
   "outputs": [],
   "source": [
    "#hide\n",
    "#df_all_mrk = read_api()"
   ]
  },
  {
   "cell_type": "code",
   "execution_count": 9,
   "id": "delayed-adapter",
   "metadata": {
    "execution": {
     "iopub.execute_input": "2021-05-16T02:23:37.487521Z",
     "iopub.status.busy": "2021-05-16T02:23:37.486927Z",
     "iopub.status.idle": "2021-05-16T02:23:37.511892Z",
     "shell.execute_reply": "2021-05-16T02:23:37.511205Z"
    },
    "papermill": {
     "duration": 0.041009,
     "end_time": "2021-05-16T02:23:37.512048",
     "exception": false,
     "start_time": "2021-05-16T02:23:37.471039",
     "status": "completed"
    },
    "tags": []
   },
   "outputs": [],
   "source": [
    "#hide\n",
    "#Koreliacijų koeficientai"
   ]
  },
  {
   "cell_type": "code",
   "execution_count": 10,
   "id": "seeing-celebration",
   "metadata": {
    "execution": {
     "iopub.execute_input": "2021-05-16T02:23:37.543499Z",
     "iopub.status.busy": "2021-05-16T02:23:37.543021Z",
     "iopub.status.idle": "2021-05-16T02:23:37.571548Z",
     "shell.execute_reply": "2021-05-16T02:23:37.570582Z"
    },
    "papermill": {
     "duration": 0.044562,
     "end_time": "2021-05-16T02:23:37.571733",
     "exception": false,
     "start_time": "2021-05-16T02:23:37.527171",
     "status": "completed"
    },
    "tags": []
   },
   "outputs": [],
   "source": [
    "#hide_input\n",
    "#sum_corr = df_all_mrk.corr().sum().sort_values(ascending=True).index.values\n",
    "#df_all_mrk[sum_corr].corr()"
   ]
  },
  {
   "cell_type": "code",
   "execution_count": 11,
   "id": "other-painting",
   "metadata": {
    "execution": {
     "iopub.execute_input": "2021-05-16T02:23:37.605237Z",
     "iopub.status.busy": "2021-05-16T02:23:37.604705Z",
     "iopub.status.idle": "2021-05-16T02:23:37.632702Z",
     "shell.execute_reply": "2021-05-16T02:23:37.631897Z"
    },
    "papermill": {
     "duration": 0.044591,
     "end_time": "2021-05-16T02:23:37.632883",
     "exception": false,
     "start_time": "2021-05-16T02:23:37.588292",
     "status": "completed"
    },
    "tags": []
   },
   "outputs": [],
   "source": [
    "#hide\n",
    "#Koreliacijos matrica. "
   ]
  },
  {
   "cell_type": "code",
   "execution_count": 12,
   "id": "modular-magnitude",
   "metadata": {
    "execution": {
     "iopub.execute_input": "2021-05-16T02:23:37.665745Z",
     "iopub.status.busy": "2021-05-16T02:23:37.665206Z",
     "iopub.status.idle": "2021-05-16T02:23:37.692330Z",
     "shell.execute_reply": "2021-05-16T02:23:37.691654Z"
    },
    "papermill": {
     "duration": 0.043956,
     "end_time": "2021-05-16T02:23:37.692483",
     "exception": false,
     "start_time": "2021-05-16T02:23:37.648527",
     "status": "completed"
    },
    "tags": []
   },
   "outputs": [],
   "source": [
    "#hide_input\n",
    "#plt.figure(figsize=(15, 8))\n",
    "#sns.heatmap(df_all_mrk[sum_corr].corr(), annot=True, cmap=\"BrBG\");\n",
    "#plt.savefig('corr_matrix_all.eps', format='eps')"
   ]
  },
  {
   "cell_type": "code",
   "execution_count": null,
   "id": "original-senator",
   "metadata": {
    "papermill": {
     "duration": 0.013188,
     "end_time": "2021-05-16T02:23:37.721822",
     "exception": false,
     "start_time": "2021-05-16T02:23:37.708634",
     "status": "completed"
    },
    "tags": []
   },
   "outputs": [],
   "source": []
  },
  {
   "cell_type": "code",
   "execution_count": null,
   "id": "saving-secretariat",
   "metadata": {
    "papermill": {
     "duration": 0.012612,
     "end_time": "2021-05-16T02:23:37.746746",
     "exception": false,
     "start_time": "2021-05-16T02:23:37.734134",
     "status": "completed"
    },
    "tags": []
   },
   "outputs": [],
   "source": []
  }
 ],
 "metadata": {
  "kernelspec": {
   "display_name": "Python 3",
   "language": "python",
   "name": "python3"
  },
  "language_info": {
   "codemirror_mode": {
    "name": "ipython",
    "version": 3
   },
   "file_extension": ".py",
   "mimetype": "text/x-python",
   "name": "python",
   "nbconvert_exporter": "python",
   "pygments_lexer": "ipython3",
   "version": "3.6.13"
  },
  "papermill": {
   "default_parameters": {},
   "duration": 19.108707,
   "end_time": "2021-05-16T02:23:38.268202",
   "environment_variables": {},
   "exception": null,
   "input_path": "App-Correlation_charts.ipynb",
   "output_path": "App-Correlation_charts.ipynb",
   "parameters": {},
   "start_time": "2021-05-16T02:23:19.159495",
   "version": "2.2.2"
  }
 },
 "nbformat": 4,
 "nbformat_minor": 5
}