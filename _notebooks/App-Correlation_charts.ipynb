{
 "cells": [
  {
   "cell_type": "markdown",
   "id": "touched-facility",
   "metadata": {
    "papermill": {
     "duration": 0.018588,
     "end_time": "2021-04-13T02:09:18.118903",
     "exception": false,
     "start_time": "2021-04-13T02:09:18.100315",
     "status": "completed"
    },
    "tags": []
   },
   "source": [
    "# Koreliacijų matrica\n",
    "> Išplėstinė koreliacijų matrica. \n",
    "\n",
    "- toc: true \n",
    "- badges: true\n",
    "- comments: false\n",
    "- categories: [Dominykas Tautkus]\n",
    "- image: images/matrix.png"
   ]
  },
  {
   "cell_type": "code",
   "execution_count": null,
   "id": "premium-weekend",
   "metadata": {
    "papermill": {
     "duration": 0.010448,
     "end_time": "2021-04-13T02:09:18.141586",
     "exception": false,
     "start_time": "2021-04-13T02:09:18.131138",
     "status": "completed"
    },
    "tags": []
   },
   "outputs": [],
   "source": []
  },
  {
   "cell_type": "code",
   "execution_count": 1,
   "id": "vertical-rebate",
   "metadata": {
    "execution": {
     "iopub.execute_input": "2021-04-13T02:09:18.177432Z",
     "iopub.status.busy": "2021-04-13T02:09:18.176880Z",
     "iopub.status.idle": "2021-04-13T02:09:18.187770Z",
     "shell.execute_reply": "2021-04-13T02:09:18.188245Z"
    },
    "papermill": {
     "duration": 0.035794,
     "end_time": "2021-04-13T02:09:18.188396",
     "exception": false,
     "start_time": "2021-04-13T02:09:18.152602",
     "status": "completed"
    },
    "tags": []
   },
   "outputs": [],
   "source": [
    "#hide\n",
    "%load_ext autoreload\n",
    "%autoreload 2"
   ]
  },
  {
   "cell_type": "code",
   "execution_count": 2,
   "id": "overall-advancement",
   "metadata": {
    "execution": {
     "iopub.execute_input": "2021-04-13T02:09:18.216956Z",
     "iopub.status.busy": "2021-04-13T02:09:18.216388Z",
     "iopub.status.idle": "2021-04-13T02:09:19.322985Z",
     "shell.execute_reply": "2021-04-13T02:09:19.322269Z"
    },
    "papermill": {
     "duration": 1.122452,
     "end_time": "2021-04-13T02:09:19.323109",
     "exception": false,
     "start_time": "2021-04-13T02:09:18.200657",
     "status": "completed"
    },
    "tags": []
   },
   "outputs": [],
   "source": [
    "#hide\n",
    "from scripts.read_data import read_api\n",
    "from IPython.display import HTML\n",
    "import plotly.graph_objects as go\n"
   ]
  },
  {
   "cell_type": "code",
   "execution_count": 3,
   "id": "light-crazy",
   "metadata": {
    "execution": {
     "iopub.execute_input": "2021-04-13T02:09:19.348632Z",
     "iopub.status.busy": "2021-04-13T02:09:19.348169Z",
     "iopub.status.idle": "2021-04-13T02:09:19.367780Z",
     "shell.execute_reply": "2021-04-13T02:09:19.367383Z"
    },
    "papermill": {
     "duration": 0.03382,
     "end_time": "2021-04-13T02:09:19.367869",
     "exception": false,
     "start_time": "2021-04-13T02:09:19.334049",
     "status": "completed"
    },
    "tags": []
   },
   "outputs": [],
   "source": [
    "#hide\n",
    "### ICO koreliacija"
   ]
  },
  {
   "cell_type": "code",
   "execution_count": 4,
   "id": "likely-bahrain",
   "metadata": {
    "execution": {
     "iopub.execute_input": "2021-04-13T02:09:19.394032Z",
     "iopub.status.busy": "2021-04-13T02:09:19.393499Z",
     "iopub.status.idle": "2021-04-13T02:09:20.301810Z",
     "shell.execute_reply": "2021-04-13T02:09:20.300936Z"
    },
    "papermill": {
     "duration": 0.923666,
     "end_time": "2021-04-13T02:09:20.302020",
     "exception": false,
     "start_time": "2021-04-13T02:09:19.378354",
     "status": "completed"
    },
    "tags": []
   },
   "outputs": [],
   "source": [
    "#hide\n",
    "import matplotlib.pyplot as plt\n",
    "import numpy as np\n",
    "import pandas as pd\n",
    "import seaborn as sns\n",
    "import matplotlib.pyplot as plt \n",
    "import matplotlib.dates as mdates\n",
    "import matplotlib.pyplot as plt"
   ]
  },
  {
   "cell_type": "code",
   "execution_count": 5,
   "id": "superior-blanket",
   "metadata": {
    "execution": {
     "iopub.execute_input": "2021-04-13T02:09:20.333038Z",
     "iopub.status.busy": "2021-04-13T02:09:20.332482Z",
     "iopub.status.idle": "2021-04-13T02:09:33.006667Z",
     "shell.execute_reply": "2021-04-13T02:09:33.006117Z"
    },
    "papermill": {
     "duration": 12.690587,
     "end_time": "2021-04-13T02:09:33.006795",
     "exception": false,
     "start_time": "2021-04-13T02:09:20.316208",
     "status": "completed"
    },
    "tags": []
   },
   "outputs": [
    {
     "name": "stderr",
     "output_type": "stream",
     "text": [
      "/home/runner/work/corr-app/corr-app/_notebooks/scripts/read_data.py:187: SettingWithCopyWarning:\n",
      "\n",
      "\n",
      "A value is trying to be set on a copy of a slice from a DataFrame.\n",
      "Try using .loc[row_indexer,col_indexer] = value instead\n",
      "\n",
      "See the caveats in the documentation: https://pandas.pydata.org/pandas-docs/stable/user_guide/indexing.html#returning-a-view-versus-a-copy\n",
      "\n"
     ]
    },
    {
     "name": "stderr",
     "output_type": "stream",
     "text": [
      "/home/runner/work/corr-app/corr-app/_notebooks/scripts/read_data.py:215: SettingWithCopyWarning:\n",
      "\n",
      "\n",
      "A value is trying to be set on a copy of a slice from a DataFrame.\n",
      "Try using .loc[row_indexer,col_indexer] = value instead\n",
      "\n",
      "See the caveats in the documentation: https://pandas.pydata.org/pandas-docs/stable/user_guide/indexing.html#returning-a-view-versus-a-copy\n",
      "\n"
     ]
    }
   ],
   "source": [
    "#hide\n",
    "df_all = read_api()\n",
    "#df_all = df_all.drop(['SP500', 'XAU', 'ETH', 'BTC'], axis=1)\n",
    "\n"
   ]
  },
  {
   "cell_type": "code",
   "execution_count": 6,
   "id": "mature-alert",
   "metadata": {
    "execution": {
     "iopub.execute_input": "2021-04-13T02:09:33.038013Z",
     "iopub.status.busy": "2021-04-13T02:09:33.037476Z",
     "iopub.status.idle": "2021-04-13T02:09:33.067612Z",
     "shell.execute_reply": "2021-04-13T02:09:33.067029Z"
    },
    "papermill": {
     "duration": 0.048376,
     "end_time": "2021-04-13T02:09:33.067761",
     "exception": false,
     "start_time": "2021-04-13T02:09:33.019385",
     "status": "completed"
    },
    "tags": []
   },
   "outputs": [],
   "source": [
    "#hide_input\n",
    "sum_corr = df_all.corr().sum().sort_values(ascending=True).index.values\n",
    "#df_all[sum_corr].corr()"
   ]
  },
  {
   "cell_type": "markdown",
   "id": "complex-syndicate",
   "metadata": {
    "papermill": {
     "duration": 0.012565,
     "end_time": "2021-04-13T02:09:33.092797",
     "exception": false,
     "start_time": "2021-04-13T02:09:33.080232",
     "status": "completed"
    },
    "tags": []
   },
   "source": [
    "## Išplėstinė koreliacijų matrica. "
   ]
  },
  {
   "cell_type": "code",
   "execution_count": 7,
   "id": "atomic-omaha",
   "metadata": {
    "execution": {
     "iopub.execute_input": "2021-04-13T02:09:33.119030Z",
     "iopub.status.busy": "2021-04-13T02:09:33.118549Z",
     "iopub.status.idle": "2021-04-13T02:09:34.302441Z",
     "shell.execute_reply": "2021-04-13T02:09:34.301850Z"
    },
    "papermill": {
     "duration": 1.197833,
     "end_time": "2021-04-13T02:09:34.302570",
     "exception": false,
     "start_time": "2021-04-13T02:09:33.104737",
     "status": "completed"
    },
    "tags": []
   },
   "outputs": [
    {
     "data": {
      "image/png": "[encoded data removed]",
      "text/plain": [
       "<Figure size 1080x792 with 2 Axes>"
      ]
     },
     "metadata": {
      "needs_background": "light"
     },
     "output_type": "display_data"
    }
   ],
   "source": [
    "#hide_input\n",
    "plt.figure(figsize=(15, 11))\n",
    "sns.heatmap(df_all[sum_corr].corr(), annot=True, cmap=\"cubehelix\") \n",
    "sns.set(font_scale=1.25)\n",
    "plt.savefig('corr_matrix.png', format='eps')"
   ]
  },
  {
   "cell_type": "code",
   "execution_count": 8,
   "id": "arbitrary-sullivan",
   "metadata": {
    "execution": {
     "iopub.execute_input": "2021-04-13T02:09:34.339157Z",
     "iopub.status.busy": "2021-04-13T02:09:34.338609Z",
     "iopub.status.idle": "2021-04-13T02:09:34.363632Z",
     "shell.execute_reply": "2021-04-13T02:09:34.363196Z"
    },
    "papermill": {
     "duration": 0.046953,
     "end_time": "2021-04-13T02:09:34.363742",
     "exception": false,
     "start_time": "2021-04-13T02:09:34.316789",
     "status": "completed"
    },
    "tags": []
   },
   "outputs": [],
   "source": [
    "#hide\n",
    "#df_all_mrk = read_api()"
   ]
  },
  {
   "cell_type": "code",
   "execution_count": 9,
   "id": "delayed-adapter",
   "metadata": {
    "execution": {
     "iopub.execute_input": "2021-04-13T02:09:34.394724Z",
     "iopub.status.busy": "2021-04-13T02:09:34.394255Z",
     "iopub.status.idle": "2021-04-13T02:09:34.419121Z",
     "shell.execute_reply": "2021-04-13T02:09:34.418301Z"
    },
    "papermill": {
     "duration": 0.041533,
     "end_time": "2021-04-13T02:09:34.419247",
     "exception": false,
     "start_time": "2021-04-13T02:09:34.377714",
     "status": "completed"
    },
    "tags": []
   },
   "outputs": [],
   "source": [
    "#hide\n",
    "#Koreliacijų koeficientai"
   ]
  },
  {
   "cell_type": "code",
   "execution_count": 10,
   "id": "seeing-celebration",
   "metadata": {
    "execution": {
     "iopub.execute_input": "2021-04-13T02:09:34.453664Z",
     "iopub.status.busy": "2021-04-13T02:09:34.453107Z",
     "iopub.status.idle": "2021-04-13T02:09:34.472515Z",
     "shell.execute_reply": "2021-04-13T02:09:34.472034Z"
    },
    "papermill": {
     "duration": 0.040845,
     "end_time": "2021-04-13T02:09:34.472619",
     "exception": false,
     "start_time": "2021-04-13T02:09:34.431774",
     "status": "completed"
    },
    "tags": []
   },
   "outputs": [],
   "source": [
    "#hide_input\n",
    "#sum_corr = df_all_mrk.corr().sum().sort_values(ascending=True).index.values\n",
    "#df_all_mrk[sum_corr].corr()"
   ]
  },
  {
   "cell_type": "code",
   "execution_count": 11,
   "id": "other-painting",
   "metadata": {
    "execution": {
     "iopub.execute_input": "2021-04-13T02:09:34.504619Z",
     "iopub.status.busy": "2021-04-13T02:09:34.504093Z",
     "iopub.status.idle": "2021-04-13T02:09:34.528818Z",
     "shell.execute_reply": "2021-04-13T02:09:34.529366Z"
    },
    "papermill": {
     "duration": 0.043425,
     "end_time": "2021-04-13T02:09:34.529520",
     "exception": false,
     "start_time": "2021-04-13T02:09:34.486095",
     "status": "completed"
    },
    "tags": []
   },
   "outputs": [],
   "source": [
    "#hide\n",
    "#Koreliacijos matrica. "
   ]
  },
  {
   "cell_type": "code",
   "execution_count": 12,
   "id": "modular-magnitude",
   "metadata": {
    "execution": {
     "iopub.execute_input": "2021-04-13T02:09:34.563484Z",
     "iopub.status.busy": "2021-04-13T02:09:34.562733Z",
     "iopub.status.idle": "2021-04-13T02:09:34.585212Z",
     "shell.execute_reply": "2021-04-13T02:09:34.584629Z"
    },
    "papermill": {
     "duration": 0.040294,
     "end_time": "2021-04-13T02:09:34.585347",
     "exception": false,
     "start_time": "2021-04-13T02:09:34.545053",
     "status": "completed"
    },
    "tags": []
   },
   "outputs": [],
   "source": [
    "#hide_input\n",
    "#plt.figure(figsize=(15, 8))\n",
    "#sns.heatmap(df_all_mrk[sum_corr].corr(), annot=True, cmap=\"BrBG\");\n",
    "#plt.savefig('corr_matrix_all.eps', format='eps')"
   ]
  },
  {
   "cell_type": "code",
   "execution_count": null,
   "id": "original-senator",
   "metadata": {
    "papermill": {
     "duration": 0.014067,
     "end_time": "2021-04-13T02:09:34.612765",
     "exception": false,
     "start_time": "2021-04-13T02:09:34.598698",
     "status": "completed"
    },
    "tags": []
   },
   "outputs": [],
   "source": []
  },
  {
   "cell_type": "code",
   "execution_count": null,
   "id": "saving-secretariat",
   "metadata": {
    "papermill": {
     "duration": 0.012082,
     "end_time": "2021-04-13T02:09:34.638084",
     "exception": false,
     "start_time": "2021-04-13T02:09:34.626002",
     "status": "completed"
    },
    "tags": []
   },
   "outputs": [],
   "source": []
  }
 ],
 "metadata": {
  "kernelspec": {
   "display_name": "Python 3",
   "language": "python",
   "name": "python3"
  },
  "language_info": {
   "codemirror_mode": {
    "name": "ipython",
    "version": 3
   },
   "file_extension": ".py",
   "mimetype": "text/x-python",
   "name": "python",
   "nbconvert_exporter": "python",
   "pygments_lexer": "ipython3",
   "version": "3.6.13"
  },
  "papermill": {
   "default_parameters": {},
   "duration": 18.092031,
   "end_time": "2021-04-13T02:09:35.160196",
   "environment_variables": {},
   "exception": null,
   "input_path": "App-Correlation_charts.ipynb",
   "output_path": "App-Correlation_charts.ipynb",
   "parameters": {},
   "start_time": "2021-04-13T02:09:17.068165",
   "version": "2.2.2"
  }
 },
 "nbformat": 4,
 "nbformat_minor": 5
}