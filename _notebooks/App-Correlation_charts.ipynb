{
 "cells": [
  {
   "cell_type": "markdown",
   "id": "touched-facility",
   "metadata": {
    "papermill": {
     "duration": 0.017303,
     "end_time": "2021-02-21T01:39:54.141855",
     "exception": false,
     "start_time": "2021-02-21T01:39:54.124552",
     "status": "completed"
    },
    "tags": []
   },
   "source": [
    "# Koreliacijų matrica\n",
    "> Išplėstinė koreliacijų matrica. \n",
    "\n",
    "- toc: true \n",
    "- badges: true\n",
    "- comments: false\n",
    "- categories: [Dominykas Tautkus]\n",
    "- image: images/matrix.png"
   ]
  },
  {
   "cell_type": "code",
   "execution_count": null,
   "id": "premium-weekend",
   "metadata": {
    "papermill": {
     "duration": 0.043904,
     "end_time": "2021-02-21T01:39:54.274216",
     "exception": false,
     "start_time": "2021-02-21T01:39:54.230312",
     "status": "completed"
    },
    "tags": []
   },
   "outputs": [],
   "source": []
  },
  {
   "cell_type": "code",
   "execution_count": 1,
   "id": "vertical-rebate",
   "metadata": {
    "execution": {
     "iopub.execute_input": "2021-02-21T01:39:54.393526Z",
     "iopub.status.busy": "2021-02-21T01:39:54.392875Z",
     "iopub.status.idle": "2021-02-21T01:39:54.403010Z",
     "shell.execute_reply": "2021-02-21T01:39:54.403476Z"
    },
    "papermill": {
     "duration": 0.070109,
     "end_time": "2021-02-21T01:39:54.403633",
     "exception": false,
     "start_time": "2021-02-21T01:39:54.333524",
     "status": "completed"
    },
    "tags": []
   },
   "outputs": [],
   "source": [
    "#hide\n",
    "%load_ext autoreload\n",
    "%autoreload 2"
   ]
  },
  {
   "cell_type": "code",
   "execution_count": 2,
   "id": "overall-advancement",
   "metadata": {
    "execution": {
     "iopub.execute_input": "2021-02-21T01:39:54.482686Z",
     "iopub.status.busy": "2021-02-21T01:39:54.482075Z",
     "iopub.status.idle": "2021-02-21T01:39:56.795323Z",
     "shell.execute_reply": "2021-02-21T01:39:56.794798Z"
    },
    "papermill": {
     "duration": 2.365985,
     "end_time": "2021-02-21T01:39:56.795460",
     "exception": false,
     "start_time": "2021-02-21T01:39:54.429475",
     "status": "completed"
    },
    "tags": []
   },
   "outputs": [],
   "source": [
    "#hide\n",
    "from scripts.read_data import read_api\n",
    "from IPython.display import HTML\n",
    "import plotly.graph_objects as go\n"
   ]
  },
  {
   "cell_type": "code",
   "execution_count": 3,
   "id": "light-crazy",
   "metadata": {
    "execution": {
     "iopub.execute_input": "2021-02-21T01:39:56.894640Z",
     "iopub.status.busy": "2021-02-21T01:39:56.893963Z",
     "iopub.status.idle": "2021-02-21T01:39:56.909202Z",
     "shell.execute_reply": "2021-02-21T01:39:56.908712Z"
    },
    "papermill": {
     "duration": 0.073228,
     "end_time": "2021-02-21T01:39:56.909319",
     "exception": false,
     "start_time": "2021-02-21T01:39:56.836091",
     "status": "completed"
    },
    "tags": []
   },
   "outputs": [],
   "source": [
    "#hide\n",
    "### ICO koreliacija"
   ]
  },
  {
   "cell_type": "code",
   "execution_count": 4,
   "id": "likely-bahrain",
   "metadata": {
    "execution": {
     "iopub.execute_input": "2021-02-21T01:39:57.044140Z",
     "iopub.status.busy": "2021-02-21T01:39:57.043557Z",
     "iopub.status.idle": "2021-02-21T01:40:01.235051Z",
     "shell.execute_reply": "2021-02-21T01:40:01.235542Z"
    },
    "papermill": {
     "duration": 4.294196,
     "end_time": "2021-02-21T01:40:01.235693",
     "exception": false,
     "start_time": "2021-02-21T01:39:56.941497",
     "status": "completed"
    },
    "tags": []
   },
   "outputs": [],
   "source": [
    "#hide\n",
    "import matplotlib.pyplot as plt\n",
    "import numpy as np\n",
    "import pandas as pd\n",
    "import seaborn as sns\n",
    "import matplotlib.pyplot as plt \n",
    "import matplotlib.dates as mdates\n",
    "import matplotlib.pyplot as plt"
   ]
  },
  {
   "cell_type": "code",
   "execution_count": 5,
   "id": "superior-blanket",
   "metadata": {
    "execution": {
     "iopub.execute_input": "2021-02-21T01:40:01.264771Z",
     "iopub.status.busy": "2021-02-21T01:40:01.263629Z",
     "iopub.status.idle": "2021-02-21T01:40:13.837988Z",
     "shell.execute_reply": "2021-02-21T01:40:13.838478Z"
    },
    "papermill": {
     "duration": 12.590712,
     "end_time": "2021-02-21T01:40:13.838638",
     "exception": false,
     "start_time": "2021-02-21T01:40:01.247926",
     "status": "completed"
    },
    "tags": []
   },
   "outputs": [
    {
     "name": "stderr",
     "output_type": "stream",
     "text": [
      "/home/runner/work/corr-app/corr-app/_notebooks/scripts/read_data.py:187: SettingWithCopyWarning:\n",
      "\n",
      "\n",
      "A value is trying to be set on a copy of a slice from a DataFrame.\n",
      "Try using .loc[row_indexer,col_indexer] = value instead\n",
      "\n",
      "See the caveats in the documentation: https://pandas.pydata.org/pandas-docs/stable/user_guide/indexing.html#returning-a-view-versus-a-copy\n",
      "\n"
     ]
    },
    {
     "name": "stderr",
     "output_type": "stream",
     "text": [
      "/home/runner/work/corr-app/corr-app/_notebooks/scripts/read_data.py:215: SettingWithCopyWarning:\n",
      "\n",
      "\n",
      "A value is trying to be set on a copy of a slice from a DataFrame.\n",
      "Try using .loc[row_indexer,col_indexer] = value instead\n",
      "\n",
      "See the caveats in the documentation: https://pandas.pydata.org/pandas-docs/stable/user_guide/indexing.html#returning-a-view-versus-a-copy\n",
      "\n"
     ]
    }
   ],
   "source": [
    "#hide\n",
    "df_all = read_api()\n",
    "#df_all = df_all.drop(['SP500', 'XAU', 'ETH', 'BTC'], axis=1)\n",
    "\n"
   ]
  },
  {
   "cell_type": "code",
   "execution_count": 6,
   "id": "mature-alert",
   "metadata": {
    "execution": {
     "iopub.execute_input": "2021-02-21T01:40:13.870505Z",
     "iopub.status.busy": "2021-02-21T01:40:13.869883Z",
     "iopub.status.idle": "2021-02-21T01:40:13.896981Z",
     "shell.execute_reply": "2021-02-21T01:40:13.897466Z"
    },
    "papermill": {
     "duration": 0.045555,
     "end_time": "2021-02-21T01:40:13.897596",
     "exception": false,
     "start_time": "2021-02-21T01:40:13.852041",
     "status": "completed"
    },
    "tags": []
   },
   "outputs": [],
   "source": [
    "#hide_input\n",
    "sum_corr = df_all.corr().sum().sort_values(ascending=True).index.values\n",
    "#df_all[sum_corr].corr()"
   ]
  },
  {
   "cell_type": "markdown",
   "id": "complex-syndicate",
   "metadata": {
    "papermill": {
     "duration": 0.015127,
     "end_time": "2021-02-21T01:40:13.924961",
     "exception": false,
     "start_time": "2021-02-21T01:40:13.909834",
     "status": "completed"
    },
    "tags": []
   },
   "source": [
    "## Išplėstinė koreliacijų matrica. "
   ]
  },
  {
   "cell_type": "code",
   "execution_count": 7,
   "id": "atomic-omaha",
   "metadata": {
    "execution": {
     "iopub.execute_input": "2021-02-21T01:40:13.962552Z",
     "iopub.status.busy": "2021-02-21T01:40:13.961949Z",
     "iopub.status.idle": "2021-02-21T01:40:15.269941Z",
     "shell.execute_reply": "2021-02-21T01:40:15.269427Z"
    },
    "papermill": {
     "duration": 1.33299,
     "end_time": "2021-02-21T01:40:15.270072",
     "exception": false,
     "start_time": "2021-02-21T01:40:13.937082",
     "status": "completed"
    },
    "tags": []
   },
   "outputs": [
    {
     "data": {
      "image/png": "[encoded data removed]",
      "text/plain": [
       "<Figure size 1080x792 with 2 Axes>"
      ]
     },
     "metadata": {
      "needs_background": "light"
     },
     "output_type": "display_data"
    }
   ],
   "source": [
    "#hide_input\n",
    "plt.figure(figsize=(15, 11))\n",
    "sns.heatmap(df_all[sum_corr].corr(), annot=True, cmap=\"cubehelix\") \n",
    "sns.set(font_scale=1.25)\n",
    "plt.savefig('corr_matrix.png', format='eps')"
   ]
  },
  {
   "cell_type": "code",
   "execution_count": 8,
   "id": "arbitrary-sullivan",
   "metadata": {
    "execution": {
     "iopub.execute_input": "2021-02-21T01:40:15.307960Z",
     "iopub.status.busy": "2021-02-21T01:40:15.307313Z",
     "iopub.status.idle": "2021-02-21T01:40:15.329869Z",
     "shell.execute_reply": "2021-02-21T01:40:15.330315Z"
    },
    "papermill": {
     "duration": 0.046026,
     "end_time": "2021-02-21T01:40:15.330440",
     "exception": false,
     "start_time": "2021-02-21T01:40:15.284414",
     "status": "completed"
    },
    "tags": []
   },
   "outputs": [],
   "source": [
    "#hide\n",
    "#df_all_mrk = read_api()"
   ]
  },
  {
   "cell_type": "code",
   "execution_count": 9,
   "id": "delayed-adapter",
   "metadata": {
    "execution": {
     "iopub.execute_input": "2021-02-21T01:40:15.364002Z",
     "iopub.status.busy": "2021-02-21T01:40:15.362976Z",
     "iopub.status.idle": "2021-02-21T01:40:15.385461Z",
     "shell.execute_reply": "2021-02-21T01:40:15.385948Z"
    },
    "papermill": {
     "duration": 0.041702,
     "end_time": "2021-02-21T01:40:15.386077",
     "exception": false,
     "start_time": "2021-02-21T01:40:15.344375",
     "status": "completed"
    },
    "tags": []
   },
   "outputs": [],
   "source": [
    "#hide\n",
    "#Koreliacijų koeficientai"
   ]
  },
  {
   "cell_type": "code",
   "execution_count": 10,
   "id": "seeing-celebration",
   "metadata": {
    "execution": {
     "iopub.execute_input": "2021-02-21T01:40:15.431089Z",
     "iopub.status.busy": "2021-02-21T01:40:15.430186Z",
     "iopub.status.idle": "2021-02-21T01:40:15.445112Z",
     "shell.execute_reply": "2021-02-21T01:40:15.444455Z"
    },
    "papermill": {
     "duration": 0.045091,
     "end_time": "2021-02-21T01:40:15.445236",
     "exception": false,
     "start_time": "2021-02-21T01:40:15.400145",
     "status": "completed"
    },
    "tags": []
   },
   "outputs": [],
   "source": [
    "#hide_input\n",
    "#sum_corr = df_all_mrk.corr().sum().sort_values(ascending=True).index.values\n",
    "#df_all_mrk[sum_corr].corr()"
   ]
  },
  {
   "cell_type": "code",
   "execution_count": 11,
   "id": "other-painting",
   "metadata": {
    "execution": {
     "iopub.execute_input": "2021-02-21T01:40:15.491003Z",
     "iopub.status.busy": "2021-02-21T01:40:15.478730Z",
     "iopub.status.idle": "2021-02-21T01:40:15.505649Z",
     "shell.execute_reply": "2021-02-21T01:40:15.506120Z"
    },
    "papermill": {
     "duration": 0.04684,
     "end_time": "2021-02-21T01:40:15.506240",
     "exception": false,
     "start_time": "2021-02-21T01:40:15.459400",
     "status": "completed"
    },
    "tags": []
   },
   "outputs": [],
   "source": [
    "#hide\n",
    "#Koreliacijos matrica. "
   ]
  },
  {
   "cell_type": "code",
   "execution_count": 12,
   "id": "modular-magnitude",
   "metadata": {
    "execution": {
     "iopub.execute_input": "2021-02-21T01:40:15.545722Z",
     "iopub.status.busy": "2021-02-21T01:40:15.540995Z",
     "iopub.status.idle": "2021-02-21T01:40:15.562097Z",
     "shell.execute_reply": "2021-02-21T01:40:15.561607Z"
    },
    "papermill": {
     "duration": 0.041258,
     "end_time": "2021-02-21T01:40:15.562203",
     "exception": false,
     "start_time": "2021-02-21T01:40:15.520945",
     "status": "completed"
    },
    "tags": []
   },
   "outputs": [],
   "source": [
    "#hide_input\n",
    "#plt.figure(figsize=(15, 8))\n",
    "#sns.heatmap(df_all_mrk[sum_corr].corr(), annot=True, cmap=\"BrBG\");\n",
    "#plt.savefig('corr_matrix_all.eps', format='eps')"
   ]
  },
  {
   "cell_type": "code",
   "execution_count": null,
   "id": "original-senator",
   "metadata": {
    "papermill": {
     "duration": 0.013606,
     "end_time": "2021-02-21T01:40:15.589842",
     "exception": false,
     "start_time": "2021-02-21T01:40:15.576236",
     "status": "completed"
    },
    "tags": []
   },
   "outputs": [],
   "source": []
  },
  {
   "cell_type": "code",
   "execution_count": null,
   "id": "saving-secretariat",
   "metadata": {
    "papermill": {
     "duration": 0.014426,
     "end_time": "2021-02-21T01:40:15.618411",
     "exception": false,
     "start_time": "2021-02-21T01:40:15.603985",
     "status": "completed"
    },
    "tags": []
   },
   "outputs": [],
   "source": []
  }
 ],
 "metadata": {
  "kernelspec": {
   "display_name": "Python 3",
   "language": "python",
   "name": "python3"
  },
  "language_info": {
   "codemirror_mode": {
    "name": "ipython",
    "version": 3
   },
   "file_extension": ".py",
   "mimetype": "text/x-python",
   "name": "python",
   "nbconvert_exporter": "python",
   "pygments_lexer": "ipython3",
   "version": "3.6.12"
  },
  "papermill": {
   "default_parameters": {},
   "duration": 23.283368,
   "end_time": "2021-02-21T01:40:16.140475",
   "environment_variables": {},
   "exception": null,
   "input_path": "App-Correlation_charts.ipynb",
   "output_path": "App-Correlation_charts.ipynb",
   "parameters": {},
   "start_time": "2021-02-21T01:39:52.857107",
   "version": "2.2.2"
  }
 },
 "nbformat": 4,
 "nbformat_minor": 5
}