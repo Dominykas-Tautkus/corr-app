{
 "cells": [
  {
   "cell_type": "markdown",
   "id": "touched-facility",
   "metadata": {
    "papermill": {
     "duration": 0.017284,
     "end_time": "2021-03-26T03:06:45.708042",
     "exception": false,
     "start_time": "2021-03-26T03:06:45.690758",
     "status": "completed"
    },
    "tags": []
   },
   "source": [
    "# Koreliacijų matrica\n",
    "> Išplėstinė koreliacijų matrica. \n",
    "\n",
    "- toc: true \n",
    "- badges: true\n",
    "- comments: false\n",
    "- categories: [Dominykas Tautkus]\n",
    "- image: images/matrix.png"
   ]
  },
  {
   "cell_type": "code",
   "execution_count": null,
   "id": "premium-weekend",
   "metadata": {
    "papermill": {
     "duration": 0.012683,
     "end_time": "2021-03-26T03:06:45.733305",
     "exception": false,
     "start_time": "2021-03-26T03:06:45.720622",
     "status": "completed"
    },
    "tags": []
   },
   "outputs": [],
   "source": []
  },
  {
   "cell_type": "code",
   "execution_count": 1,
   "id": "vertical-rebate",
   "metadata": {
    "execution": {
     "iopub.execute_input": "2021-03-26T03:06:45.769043Z",
     "iopub.status.busy": "2021-03-26T03:06:45.768461Z",
     "iopub.status.idle": "2021-03-26T03:06:45.779707Z",
     "shell.execute_reply": "2021-03-26T03:06:45.779203Z"
    },
    "papermill": {
     "duration": 0.034557,
     "end_time": "2021-03-26T03:06:45.779839",
     "exception": false,
     "start_time": "2021-03-26T03:06:45.745282",
     "status": "completed"
    },
    "tags": []
   },
   "outputs": [],
   "source": [
    "#hide\n",
    "%load_ext autoreload\n",
    "%autoreload 2"
   ]
  },
  {
   "cell_type": "code",
   "execution_count": 2,
   "id": "overall-advancement",
   "metadata": {
    "execution": {
     "iopub.execute_input": "2021-03-26T03:06:45.807229Z",
     "iopub.status.busy": "2021-03-26T03:06:45.806654Z",
     "iopub.status.idle": "2021-03-26T03:06:47.003331Z",
     "shell.execute_reply": "2021-03-26T03:06:47.002634Z"
    },
    "papermill": {
     "duration": 1.211749,
     "end_time": "2021-03-26T03:06:47.003501",
     "exception": false,
     "start_time": "2021-03-26T03:06:45.791752",
     "status": "completed"
    },
    "tags": []
   },
   "outputs": [],
   "source": [
    "#hide\n",
    "from scripts.read_data import read_api\n",
    "from IPython.display import HTML\n",
    "import plotly.graph_objects as go\n"
   ]
  },
  {
   "cell_type": "code",
   "execution_count": 3,
   "id": "light-crazy",
   "metadata": {
    "execution": {
     "iopub.execute_input": "2021-03-26T03:06:47.036113Z",
     "iopub.status.busy": "2021-03-26T03:06:47.035443Z",
     "iopub.status.idle": "2021-03-26T03:06:47.060252Z",
     "shell.execute_reply": "2021-03-26T03:06:47.059736Z"
    },
    "papermill": {
     "duration": 0.043276,
     "end_time": "2021-03-26T03:06:47.060376",
     "exception": false,
     "start_time": "2021-03-26T03:06:47.017100",
     "status": "completed"
    },
    "tags": []
   },
   "outputs": [],
   "source": [
    "#hide\n",
    "### ICO koreliacija"
   ]
  },
  {
   "cell_type": "code",
   "execution_count": 4,
   "id": "likely-bahrain",
   "metadata": {
    "execution": {
     "iopub.execute_input": "2021-03-26T03:06:47.090739Z",
     "iopub.status.busy": "2021-03-26T03:06:47.090141Z",
     "iopub.status.idle": "2021-03-26T03:06:48.163839Z",
     "shell.execute_reply": "2021-03-26T03:06:48.162746Z"
    },
    "papermill": {
     "duration": 1.090497,
     "end_time": "2021-03-26T03:06:48.163992",
     "exception": false,
     "start_time": "2021-03-26T03:06:47.073495",
     "status": "completed"
    },
    "tags": []
   },
   "outputs": [],
   "source": [
    "#hide\n",
    "import matplotlib.pyplot as plt\n",
    "import numpy as np\n",
    "import pandas as pd\n",
    "import seaborn as sns\n",
    "import matplotlib.pyplot as plt \n",
    "import matplotlib.dates as mdates\n",
    "import matplotlib.pyplot as plt"
   ]
  },
  {
   "cell_type": "code",
   "execution_count": 5,
   "id": "superior-blanket",
   "metadata": {
    "execution": {
     "iopub.execute_input": "2021-03-26T03:06:48.193023Z",
     "iopub.status.busy": "2021-03-26T03:06:48.192212Z",
     "iopub.status.idle": "2021-03-26T03:06:59.133202Z",
     "shell.execute_reply": "2021-03-26T03:06:59.132652Z"
    },
    "papermill": {
     "duration": 10.956943,
     "end_time": "2021-03-26T03:06:59.133330",
     "exception": false,
     "start_time": "2021-03-26T03:06:48.176387",
     "status": "completed"
    },
    "tags": []
   },
   "outputs": [
    {
     "name": "stderr",
     "output_type": "stream",
     "text": [
      "/home/runner/work/corr-app/corr-app/_notebooks/scripts/read_data.py:187: SettingWithCopyWarning:\n",
      "\n",
      "\n",
      "A value is trying to be set on a copy of a slice from a DataFrame.\n",
      "Try using .loc[row_indexer,col_indexer] = value instead\n",
      "\n",
      "See the caveats in the documentation: https://pandas.pydata.org/pandas-docs/stable/user_guide/indexing.html#returning-a-view-versus-a-copy\n",
      "\n"
     ]
    },
    {
     "name": "stderr",
     "output_type": "stream",
     "text": [
      "/home/runner/work/corr-app/corr-app/_notebooks/scripts/read_data.py:215: SettingWithCopyWarning:\n",
      "\n",
      "\n",
      "A value is trying to be set on a copy of a slice from a DataFrame.\n",
      "Try using .loc[row_indexer,col_indexer] = value instead\n",
      "\n",
      "See the caveats in the documentation: https://pandas.pydata.org/pandas-docs/stable/user_guide/indexing.html#returning-a-view-versus-a-copy\n",
      "\n"
     ]
    }
   ],
   "source": [
    "#hide\n",
    "df_all = read_api()\n",
    "#df_all = df_all.drop(['SP500', 'XAU', 'ETH', 'BTC'], axis=1)\n",
    "\n"
   ]
  },
  {
   "cell_type": "code",
   "execution_count": 6,
   "id": "mature-alert",
   "metadata": {
    "execution": {
     "iopub.execute_input": "2021-03-26T03:06:59.172155Z",
     "iopub.status.busy": "2021-03-26T03:06:59.169485Z",
     "iopub.status.idle": "2021-03-26T03:06:59.199860Z",
     "shell.execute_reply": "2021-03-26T03:06:59.198846Z"
    },
    "papermill": {
     "duration": 0.053227,
     "end_time": "2021-03-26T03:06:59.200004",
     "exception": false,
     "start_time": "2021-03-26T03:06:59.146777",
     "status": "completed"
    },
    "tags": []
   },
   "outputs": [],
   "source": [
    "#hide_input\n",
    "sum_corr = df_all.corr().sum().sort_values(ascending=True).index.values\n",
    "#df_all[sum_corr].corr()"
   ]
  },
  {
   "cell_type": "markdown",
   "id": "complex-syndicate",
   "metadata": {
    "papermill": {
     "duration": 0.012816,
     "end_time": "2021-03-26T03:06:59.225585",
     "exception": false,
     "start_time": "2021-03-26T03:06:59.212769",
     "status": "completed"
    },
    "tags": []
   },
   "source": [
    "## Išplėstinė koreliacijų matrica. "
   ]
  },
  {
   "cell_type": "code",
   "execution_count": 7,
   "id": "atomic-omaha",
   "metadata": {
    "execution": {
     "iopub.execute_input": "2021-03-26T03:06:59.255368Z",
     "iopub.status.busy": "2021-03-26T03:06:59.254356Z",
     "iopub.status.idle": "2021-03-26T03:07:00.525038Z",
     "shell.execute_reply": "2021-03-26T03:07:00.524526Z"
    },
    "papermill": {
     "duration": 1.286905,
     "end_time": "2021-03-26T03:07:00.525166",
     "exception": false,
     "start_time": "2021-03-26T03:06:59.238261",
     "status": "completed"
    },
    "tags": []
   },
   "outputs": [
    {
     "data": {
      "image/png": "[encoded data removed]",
      "text/plain": [
       "<Figure size 1080x792 with 2 Axes>"
      ]
     },
     "metadata": {
      "needs_background": "light"
     },
     "output_type": "display_data"
    }
   ],
   "source": [
    "#hide_input\n",
    "plt.figure(figsize=(15, 11))\n",
    "sns.heatmap(df_all[sum_corr].corr(), annot=True, cmap=\"cubehelix\") \n",
    "sns.set(font_scale=1.25)\n",
    "plt.savefig('corr_matrix.png', format='eps')"
   ]
  },
  {
   "cell_type": "code",
   "execution_count": 8,
   "id": "arbitrary-sullivan",
   "metadata": {
    "execution": {
     "iopub.execute_input": "2021-03-26T03:07:00.561268Z",
     "iopub.status.busy": "2021-03-26T03:07:00.560691Z",
     "iopub.status.idle": "2021-03-26T03:07:00.590064Z",
     "shell.execute_reply": "2021-03-26T03:07:00.590590Z"
    },
    "papermill": {
     "duration": 0.049879,
     "end_time": "2021-03-26T03:07:00.590755",
     "exception": false,
     "start_time": "2021-03-26T03:07:00.540876",
     "status": "completed"
    },
    "tags": []
   },
   "outputs": [],
   "source": [
    "#hide\n",
    "#df_all_mrk = read_api()"
   ]
  },
  {
   "cell_type": "code",
   "execution_count": 9,
   "id": "delayed-adapter",
   "metadata": {
    "execution": {
     "iopub.execute_input": "2021-03-26T03:07:00.631205Z",
     "iopub.status.busy": "2021-03-26T03:07:00.630595Z",
     "iopub.status.idle": "2021-03-26T03:07:00.660256Z",
     "shell.execute_reply": "2021-03-26T03:07:00.660706Z"
    },
    "papermill": {
     "duration": 0.050004,
     "end_time": "2021-03-26T03:07:00.660853",
     "exception": false,
     "start_time": "2021-03-26T03:07:00.610849",
     "status": "completed"
    },
    "tags": []
   },
   "outputs": [],
   "source": [
    "#hide\n",
    "#Koreliacijų koeficientai"
   ]
  },
  {
   "cell_type": "code",
   "execution_count": 10,
   "id": "seeing-celebration",
   "metadata": {
    "execution": {
     "iopub.execute_input": "2021-03-26T03:07:00.694221Z",
     "iopub.status.busy": "2021-03-26T03:07:00.693693Z",
     "iopub.status.idle": "2021-03-26T03:07:00.720727Z",
     "shell.execute_reply": "2021-03-26T03:07:00.721173Z"
    },
    "papermill": {
     "duration": 0.045479,
     "end_time": "2021-03-26T03:07:00.721322",
     "exception": false,
     "start_time": "2021-03-26T03:07:00.675843",
     "status": "completed"
    },
    "tags": []
   },
   "outputs": [],
   "source": [
    "#hide_input\n",
    "#sum_corr = df_all_mrk.corr().sum().sort_values(ascending=True).index.values\n",
    "#df_all_mrk[sum_corr].corr()"
   ]
  },
  {
   "cell_type": "code",
   "execution_count": 11,
   "id": "other-painting",
   "metadata": {
    "execution": {
     "iopub.execute_input": "2021-03-26T03:07:00.754093Z",
     "iopub.status.busy": "2021-03-26T03:07:00.753527Z",
     "iopub.status.idle": "2021-03-26T03:07:00.780572Z",
     "shell.execute_reply": "2021-03-26T03:07:00.780095Z"
    },
    "papermill": {
     "duration": 0.044795,
     "end_time": "2021-03-26T03:07:00.780693",
     "exception": false,
     "start_time": "2021-03-26T03:07:00.735898",
     "status": "completed"
    },
    "tags": []
   },
   "outputs": [],
   "source": [
    "#hide\n",
    "#Koreliacijos matrica. "
   ]
  },
  {
   "cell_type": "code",
   "execution_count": 12,
   "id": "modular-magnitude",
   "metadata": {
    "execution": {
     "iopub.execute_input": "2021-03-26T03:07:00.814235Z",
     "iopub.status.busy": "2021-03-26T03:07:00.813569Z",
     "iopub.status.idle": "2021-03-26T03:07:00.844045Z",
     "shell.execute_reply": "2021-03-26T03:07:00.843150Z"
    },
    "papermill": {
     "duration": 0.048521,
     "end_time": "2021-03-26T03:07:00.844249",
     "exception": false,
     "start_time": "2021-03-26T03:07:00.795728",
     "status": "completed"
    },
    "tags": []
   },
   "outputs": [],
   "source": [
    "#hide_input\n",
    "#plt.figure(figsize=(15, 8))\n",
    "#sns.heatmap(df_all_mrk[sum_corr].corr(), annot=True, cmap=\"BrBG\");\n",
    "#plt.savefig('corr_matrix_all.eps', format='eps')"
   ]
  },
  {
   "cell_type": "code",
   "execution_count": null,
   "id": "original-senator",
   "metadata": {
    "papermill": {
     "duration": 0.014946,
     "end_time": "2021-03-26T03:07:00.877232",
     "exception": false,
     "start_time": "2021-03-26T03:07:00.862286",
     "status": "completed"
    },
    "tags": []
   },
   "outputs": [],
   "source": []
  },
  {
   "cell_type": "code",
   "execution_count": null,
   "id": "saving-secretariat",
   "metadata": {
    "papermill": {
     "duration": 0.014799,
     "end_time": "2021-03-26T03:07:00.907044",
     "exception": false,
     "start_time": "2021-03-26T03:07:00.892245",
     "status": "completed"
    },
    "tags": []
   },
   "outputs": [],
   "source": []
  }
 ],
 "metadata": {
  "kernelspec": {
   "display_name": "Python 3",
   "language": "python",
   "name": "python3"
  },
  "language_info": {
   "codemirror_mode": {
    "name": "ipython",
    "version": 3
   },
   "file_extension": ".py",
   "mimetype": "text/x-python",
   "name": "python",
   "nbconvert_exporter": "python",
   "pygments_lexer": "ipython3",
   "version": "3.6.13"
  },
  "papermill": {
   "default_parameters": {},
   "duration": 16.821865,
   "end_time": "2021-03-26T03:07:01.431206",
   "environment_variables": {},
   "exception": null,
   "input_path": "App-Correlation_charts.ipynb",
   "output_path": "App-Correlation_charts.ipynb",
   "parameters": {},
   "start_time": "2021-03-26T03:06:44.609341",
   "version": "2.2.2"
  }
 },
 "nbformat": 4,
 "nbformat_minor": 5
}