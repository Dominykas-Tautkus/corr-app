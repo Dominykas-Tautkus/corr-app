{
 "cells": [
  {
   "cell_type": "markdown",
   "id": "touched-facility",
   "metadata": {
    "papermill": {
     "duration": 0.018836,
     "end_time": "2021-01-28T01:56:20.572671",
     "exception": false,
     "start_time": "2021-01-28T01:56:20.553835",
     "status": "completed"
    },
    "tags": []
   },
   "source": [
    "# Koreliacijų matrica\n",
    "> Išplėstinė koreliacijų matrica. \n",
    "\n",
    "- toc: true \n",
    "- badges: true\n",
    "- comments: false\n",
    "- categories: [Dominykas Tautkus]\n",
    "- image: images/matrix.png"
   ]
  },
  {
   "cell_type": "code",
   "execution_count": null,
   "id": "premium-weekend",
   "metadata": {
    "papermill": {
     "duration": 0.011426,
     "end_time": "2021-01-28T01:56:20.596801",
     "exception": false,
     "start_time": "2021-01-28T01:56:20.585375",
     "status": "completed"
    },
    "tags": []
   },
   "outputs": [],
   "source": []
  },
  {
   "cell_type": "code",
   "execution_count": 1,
   "id": "vertical-rebate",
   "metadata": {
    "execution": {
     "iopub.execute_input": "2021-01-28T01:56:20.632276Z",
     "iopub.status.busy": "2021-01-28T01:56:20.631622Z",
     "iopub.status.idle": "2021-01-28T01:56:20.643019Z",
     "shell.execute_reply": "2021-01-28T01:56:20.642522Z"
    },
    "papermill": {
     "duration": 0.034603,
     "end_time": "2021-01-28T01:56:20.643167",
     "exception": false,
     "start_time": "2021-01-28T01:56:20.608564",
     "status": "completed"
    },
    "tags": []
   },
   "outputs": [],
   "source": [
    "#hide\n",
    "%load_ext autoreload\n",
    "%autoreload 2"
   ]
  },
  {
   "cell_type": "code",
   "execution_count": 2,
   "id": "overall-advancement",
   "metadata": {
    "execution": {
     "iopub.execute_input": "2021-01-28T01:56:20.675045Z",
     "iopub.status.busy": "2021-01-28T01:56:20.674420Z",
     "iopub.status.idle": "2021-01-28T01:56:21.769505Z",
     "shell.execute_reply": "2021-01-28T01:56:21.768910Z"
    },
    "papermill": {
     "duration": 1.111208,
     "end_time": "2021-01-28T01:56:21.769667",
     "exception": false,
     "start_time": "2021-01-28T01:56:20.658459",
     "status": "completed"
    },
    "tags": []
   },
   "outputs": [],
   "source": [
    "#hide\n",
    "from scripts.read_data import read_api\n",
    "from IPython.display import HTML\n",
    "import plotly.graph_objects as go\n"
   ]
  },
  {
   "cell_type": "code",
   "execution_count": 3,
   "id": "light-crazy",
   "metadata": {
    "execution": {
     "iopub.execute_input": "2021-01-28T01:56:21.804114Z",
     "iopub.status.busy": "2021-01-28T01:56:21.800731Z",
     "iopub.status.idle": "2021-01-28T01:56:21.826180Z",
     "shell.execute_reply": "2021-01-28T01:56:21.825261Z"
    },
    "papermill": {
     "duration": 0.044389,
     "end_time": "2021-01-28T01:56:21.826410",
     "exception": false,
     "start_time": "2021-01-28T01:56:21.782021",
     "status": "completed"
    },
    "tags": []
   },
   "outputs": [],
   "source": [
    "#hide\n",
    "### ICO koreliacija"
   ]
  },
  {
   "cell_type": "code",
   "execution_count": 4,
   "id": "likely-bahrain",
   "metadata": {
    "execution": {
     "iopub.execute_input": "2021-01-28T01:56:21.860208Z",
     "iopub.status.busy": "2021-01-28T01:56:21.859584Z",
     "iopub.status.idle": "2021-01-28T01:56:23.181897Z",
     "shell.execute_reply": "2021-01-28T01:56:23.181259Z"
    },
    "papermill": {
     "duration": 1.341495,
     "end_time": "2021-01-28T01:56:23.182059",
     "exception": false,
     "start_time": "2021-01-28T01:56:21.840564",
     "status": "completed"
    },
    "tags": []
   },
   "outputs": [],
   "source": [
    "#hide\n",
    "import matplotlib.pyplot as plt\n",
    "import numpy as np\n",
    "import pandas as pd\n",
    "import seaborn as sns\n",
    "import matplotlib.pyplot as plt \n",
    "import matplotlib.dates as mdates\n",
    "import matplotlib.pyplot as plt"
   ]
  },
  {
   "cell_type": "code",
   "execution_count": 5,
   "id": "superior-blanket",
   "metadata": {
    "execution": {
     "iopub.execute_input": "2021-01-28T01:56:23.213070Z",
     "iopub.status.busy": "2021-01-28T01:56:23.212505Z",
     "iopub.status.idle": "2021-01-28T01:56:42.029573Z",
     "shell.execute_reply": "2021-01-28T01:56:42.029048Z"
    },
    "papermill": {
     "duration": 18.835,
     "end_time": "2021-01-28T01:56:42.029717",
     "exception": false,
     "start_time": "2021-01-28T01:56:23.194717",
     "status": "completed"
    },
    "tags": []
   },
   "outputs": [
    {
     "name": "stderr",
     "output_type": "stream",
     "text": [
      "/home/runner/work/corr-app/corr-app/_notebooks/scripts/read_data.py:187: SettingWithCopyWarning:\n",
      "\n",
      "\n",
      "A value is trying to be set on a copy of a slice from a DataFrame.\n",
      "Try using .loc[row_indexer,col_indexer] = value instead\n",
      "\n",
      "See the caveats in the documentation: https://pandas.pydata.org/pandas-docs/stable/user_guide/indexing.html#returning-a-view-versus-a-copy\n",
      "\n"
     ]
    },
    {
     "name": "stderr",
     "output_type": "stream",
     "text": [
      "/home/runner/work/corr-app/corr-app/_notebooks/scripts/read_data.py:215: SettingWithCopyWarning:\n",
      "\n",
      "\n",
      "A value is trying to be set on a copy of a slice from a DataFrame.\n",
      "Try using .loc[row_indexer,col_indexer] = value instead\n",
      "\n",
      "See the caveats in the documentation: https://pandas.pydata.org/pandas-docs/stable/user_guide/indexing.html#returning-a-view-versus-a-copy\n",
      "\n"
     ]
    }
   ],
   "source": [
    "#hide\n",
    "df_all = read_api()\n",
    "#df_all = df_all.drop(['SP500', 'XAU', 'ETH', 'BTC'], axis=1)\n",
    "\n"
   ]
  },
  {
   "cell_type": "code",
   "execution_count": 6,
   "id": "mature-alert",
   "metadata": {
    "execution": {
     "iopub.execute_input": "2021-01-28T01:56:42.060539Z",
     "iopub.status.busy": "2021-01-28T01:56:42.059359Z",
     "iopub.status.idle": "2021-01-28T01:56:42.090891Z",
     "shell.execute_reply": "2021-01-28T01:56:42.090398Z"
    },
    "papermill": {
     "duration": 0.048041,
     "end_time": "2021-01-28T01:56:42.091285",
     "exception": false,
     "start_time": "2021-01-28T01:56:42.043244",
     "status": "completed"
    },
    "tags": []
   },
   "outputs": [],
   "source": [
    "#hide_input\n",
    "sum_corr = df_all.corr().sum().sort_values(ascending=True).index.values\n",
    "#df_all[sum_corr].corr()"
   ]
  },
  {
   "cell_type": "markdown",
   "id": "complex-syndicate",
   "metadata": {
    "papermill": {
     "duration": 0.012419,
     "end_time": "2021-01-28T01:56:42.116080",
     "exception": false,
     "start_time": "2021-01-28T01:56:42.103661",
     "status": "completed"
    },
    "tags": []
   },
   "source": [
    "## Išplėstinė koreliacijų matrica. "
   ]
  },
  {
   "cell_type": "code",
   "execution_count": 7,
   "id": "atomic-omaha",
   "metadata": {
    "execution": {
     "iopub.execute_input": "2021-01-28T01:56:42.149216Z",
     "iopub.status.busy": "2021-01-28T01:56:42.148587Z",
     "iopub.status.idle": "2021-01-28T01:56:43.395010Z",
     "shell.execute_reply": "2021-01-28T01:56:43.394503Z"
    },
    "papermill": {
     "duration": 1.266378,
     "end_time": "2021-01-28T01:56:43.395141",
     "exception": false,
     "start_time": "2021-01-28T01:56:42.128763",
     "status": "completed"
    },
    "tags": []
   },
   "outputs": [
    {
     "data": {
      "image/png": "[encoded data removed]",
      "text/plain": [
       "<Figure size 1080x792 with 2 Axes>"
      ]
     },
     "metadata": {
      "needs_background": "light"
     },
     "output_type": "display_data"
    }
   ],
   "source": [
    "#hide_input\n",
    "plt.figure(figsize=(15, 11))\n",
    "sns.heatmap(df_all[sum_corr].corr(), annot=True, cmap=\"cubehelix\") \n",
    "sns.set(font_scale=1.25)\n",
    "plt.savefig('corr_matrix.png', format='eps')"
   ]
  },
  {
   "cell_type": "code",
   "execution_count": 8,
   "id": "arbitrary-sullivan",
   "metadata": {
    "execution": {
     "iopub.execute_input": "2021-01-28T01:56:43.430333Z",
     "iopub.status.busy": "2021-01-28T01:56:43.428919Z",
     "iopub.status.idle": "2021-01-28T01:56:43.457534Z",
     "shell.execute_reply": "2021-01-28T01:56:43.456851Z"
    },
    "papermill": {
     "duration": 0.048284,
     "end_time": "2021-01-28T01:56:43.457717",
     "exception": false,
     "start_time": "2021-01-28T01:56:43.409433",
     "status": "completed"
    },
    "tags": []
   },
   "outputs": [],
   "source": [
    "#hide\n",
    "#df_all_mrk = read_api()"
   ]
  },
  {
   "cell_type": "code",
   "execution_count": 9,
   "id": "delayed-adapter",
   "metadata": {
    "execution": {
     "iopub.execute_input": "2021-01-28T01:56:43.493828Z",
     "iopub.status.busy": "2021-01-28T01:56:43.493238Z",
     "iopub.status.idle": "2021-01-28T01:56:43.520654Z",
     "shell.execute_reply": "2021-01-28T01:56:43.519675Z"
    },
    "papermill": {
     "duration": 0.045991,
     "end_time": "2021-01-28T01:56:43.520779",
     "exception": false,
     "start_time": "2021-01-28T01:56:43.474788",
     "status": "completed"
    },
    "tags": []
   },
   "outputs": [],
   "source": [
    "#hide\n",
    "#Koreliacijų koeficientai"
   ]
  },
  {
   "cell_type": "code",
   "execution_count": 10,
   "id": "seeing-celebration",
   "metadata": {
    "execution": {
     "iopub.execute_input": "2021-01-28T01:56:43.560983Z",
     "iopub.status.busy": "2021-01-28T01:56:43.559420Z",
     "iopub.status.idle": "2021-01-28T01:56:43.581362Z",
     "shell.execute_reply": "2021-01-28T01:56:43.580808Z"
    },
    "papermill": {
     "duration": 0.046573,
     "end_time": "2021-01-28T01:56:43.581485",
     "exception": false,
     "start_time": "2021-01-28T01:56:43.534912",
     "status": "completed"
    },
    "tags": []
   },
   "outputs": [],
   "source": [
    "#hide_input\n",
    "#sum_corr = df_all_mrk.corr().sum().sort_values(ascending=True).index.values\n",
    "#df_all_mrk[sum_corr].corr()"
   ]
  },
  {
   "cell_type": "code",
   "execution_count": 11,
   "id": "other-painting",
   "metadata": {
    "execution": {
     "iopub.execute_input": "2021-01-28T01:56:43.617373Z",
     "iopub.status.busy": "2021-01-28T01:56:43.616253Z",
     "iopub.status.idle": "2021-01-28T01:56:43.641685Z",
     "shell.execute_reply": "2021-01-28T01:56:43.641095Z"
    },
    "papermill": {
     "duration": 0.045462,
     "end_time": "2021-01-28T01:56:43.641812",
     "exception": false,
     "start_time": "2021-01-28T01:56:43.596350",
     "status": "completed"
    },
    "tags": []
   },
   "outputs": [],
   "source": [
    "#hide\n",
    "#Koreliacijos matrica. "
   ]
  },
  {
   "cell_type": "code",
   "execution_count": 12,
   "id": "modular-magnitude",
   "metadata": {
    "execution": {
     "iopub.execute_input": "2021-01-28T01:56:43.673433Z",
     "iopub.status.busy": "2021-01-28T01:56:43.672877Z",
     "iopub.status.idle": "2021-01-28T01:56:43.698838Z",
     "shell.execute_reply": "2021-01-28T01:56:43.698193Z"
    },
    "papermill": {
     "duration": 0.042492,
     "end_time": "2021-01-28T01:56:43.698989",
     "exception": false,
     "start_time": "2021-01-28T01:56:43.656497",
     "status": "completed"
    },
    "tags": []
   },
   "outputs": [],
   "source": [
    "#hide_input\n",
    "#plt.figure(figsize=(15, 8))\n",
    "#sns.heatmap(df_all_mrk[sum_corr].corr(), annot=True, cmap=\"BrBG\");\n",
    "#plt.savefig('corr_matrix_all.eps', format='eps')"
   ]
  },
  {
   "cell_type": "code",
   "execution_count": null,
   "id": "original-senator",
   "metadata": {
    "papermill": {
     "duration": 0.013641,
     "end_time": "2021-01-28T01:56:43.727782",
     "exception": false,
     "start_time": "2021-01-28T01:56:43.714141",
     "status": "completed"
    },
    "tags": []
   },
   "outputs": [],
   "source": []
  },
  {
   "cell_type": "code",
   "execution_count": null,
   "id": "saving-secretariat",
   "metadata": {
    "papermill": {
     "duration": 0.013646,
     "end_time": "2021-01-28T01:56:43.755086",
     "exception": false,
     "start_time": "2021-01-28T01:56:43.741440",
     "status": "completed"
    },
    "tags": []
   },
   "outputs": [],
   "source": []
  }
 ],
 "metadata": {
  "kernelspec": {
   "display_name": "Python 3",
   "language": "python",
   "name": "python3"
  },
  "language_info": {
   "codemirror_mode": {
    "name": "ipython",
    "version": 3
   },
   "file_extension": ".py",
   "mimetype": "text/x-python",
   "name": "python",
   "nbconvert_exporter": "python",
   "pygments_lexer": "ipython3",
   "version": "3.6.12"
  },
  "papermill": {
   "default_parameters": {},
   "duration": 24.793975,
   "end_time": "2021-01-28T01:56:44.277701",
   "environment_variables": {},
   "exception": null,
   "input_path": "App-Correlation_charts.ipynb",
   "output_path": "App-Correlation_charts.ipynb",
   "parameters": {},
   "start_time": "2021-01-28T01:56:19.483726",
   "version": "2.2.2"
  }
 },
 "nbformat": 4,
 "nbformat_minor": 5
}