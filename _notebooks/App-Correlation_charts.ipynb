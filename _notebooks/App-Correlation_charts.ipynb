{
 "cells": [
  {
   "cell_type": "markdown",
   "id": "touched-facility",
   "metadata": {
    "papermill": {
     "duration": 0.018218,
     "end_time": "2021-03-18T01:47:09.312852",
     "exception": false,
     "start_time": "2021-03-18T01:47:09.294634",
     "status": "completed"
    },
    "tags": []
   },
   "source": [
    "# Koreliacijų matrica\n",
    "> Išplėstinė koreliacijų matrica. \n",
    "\n",
    "- toc: true \n",
    "- badges: true\n",
    "- comments: false\n",
    "- categories: [Dominykas Tautkus]\n",
    "- image: images/matrix.png"
   ]
  },
  {
   "cell_type": "code",
   "execution_count": null,
   "id": "premium-weekend",
   "metadata": {
    "papermill": {
     "duration": 0.013887,
     "end_time": "2021-03-18T01:47:09.341247",
     "exception": false,
     "start_time": "2021-03-18T01:47:09.327360",
     "status": "completed"
    },
    "tags": []
   },
   "outputs": [],
   "source": []
  },
  {
   "cell_type": "code",
   "execution_count": 1,
   "id": "vertical-rebate",
   "metadata": {
    "execution": {
     "iopub.execute_input": "2021-03-18T01:47:09.381765Z",
     "iopub.status.busy": "2021-03-18T01:47:09.381078Z",
     "iopub.status.idle": "2021-03-18T01:47:09.392928Z",
     "shell.execute_reply": "2021-03-18T01:47:09.393572Z"
    },
    "papermill": {
     "duration": 0.038501,
     "end_time": "2021-03-18T01:47:09.393744",
     "exception": false,
     "start_time": "2021-03-18T01:47:09.355243",
     "status": "completed"
    },
    "tags": []
   },
   "outputs": [],
   "source": [
    "#hide\n",
    "%load_ext autoreload\n",
    "%autoreload 2"
   ]
  },
  {
   "cell_type": "code",
   "execution_count": 2,
   "id": "overall-advancement",
   "metadata": {
    "execution": {
     "iopub.execute_input": "2021-03-18T01:47:09.426096Z",
     "iopub.status.busy": "2021-03-18T01:47:09.425470Z",
     "iopub.status.idle": "2021-03-18T01:47:10.744036Z",
     "shell.execute_reply": "2021-03-18T01:47:10.743502Z"
    },
    "papermill": {
     "duration": 1.336293,
     "end_time": "2021-03-18T01:47:10.744177",
     "exception": false,
     "start_time": "2021-03-18T01:47:09.407884",
     "status": "completed"
    },
    "tags": []
   },
   "outputs": [],
   "source": [
    "#hide\n",
    "from scripts.read_data import read_api\n",
    "from IPython.display import HTML\n",
    "import plotly.graph_objects as go\n"
   ]
  },
  {
   "cell_type": "code",
   "execution_count": 3,
   "id": "light-crazy",
   "metadata": {
    "execution": {
     "iopub.execute_input": "2021-03-18T01:47:10.793184Z",
     "iopub.status.busy": "2021-03-18T01:47:10.789014Z",
     "iopub.status.idle": "2021-03-18T01:47:10.806329Z",
     "shell.execute_reply": "2021-03-18T01:47:10.806801Z"
    },
    "papermill": {
     "duration": 0.048982,
     "end_time": "2021-03-18T01:47:10.806975",
     "exception": false,
     "start_time": "2021-03-18T01:47:10.757993",
     "status": "completed"
    },
    "tags": []
   },
   "outputs": [],
   "source": [
    "#hide\n",
    "### ICO koreliacija"
   ]
  },
  {
   "cell_type": "code",
   "execution_count": 4,
   "id": "likely-bahrain",
   "metadata": {
    "execution": {
     "iopub.execute_input": "2021-03-18T01:47:10.848271Z",
     "iopub.status.busy": "2021-03-18T01:47:10.839087Z",
     "iopub.status.idle": "2021-03-18T01:47:12.107084Z",
     "shell.execute_reply": "2021-03-18T01:47:12.106182Z"
    },
    "papermill": {
     "duration": 1.286907,
     "end_time": "2021-03-18T01:47:12.107261",
     "exception": false,
     "start_time": "2021-03-18T01:47:10.820354",
     "status": "completed"
    },
    "tags": []
   },
   "outputs": [],
   "source": [
    "#hide\n",
    "import matplotlib.pyplot as plt\n",
    "import numpy as np\n",
    "import pandas as pd\n",
    "import seaborn as sns\n",
    "import matplotlib.pyplot as plt \n",
    "import matplotlib.dates as mdates\n",
    "import matplotlib.pyplot as plt"
   ]
  },
  {
   "cell_type": "code",
   "execution_count": 5,
   "id": "superior-blanket",
   "metadata": {
    "execution": {
     "iopub.execute_input": "2021-03-18T01:47:12.140353Z",
     "iopub.status.busy": "2021-03-18T01:47:12.139739Z",
     "iopub.status.idle": "2021-03-18T01:47:21.633820Z",
     "shell.execute_reply": "2021-03-18T01:47:21.632545Z"
    },
    "papermill": {
     "duration": 9.512378,
     "end_time": "2021-03-18T01:47:21.633981",
     "exception": false,
     "start_time": "2021-03-18T01:47:12.121603",
     "status": "completed"
    },
    "tags": []
   },
   "outputs": [
    {
     "name": "stderr",
     "output_type": "stream",
     "text": [
      "/home/runner/work/corr-app/corr-app/_notebooks/scripts/read_data.py:187: SettingWithCopyWarning:\n",
      "\n",
      "\n",
      "A value is trying to be set on a copy of a slice from a DataFrame.\n",
      "Try using .loc[row_indexer,col_indexer] = value instead\n",
      "\n",
      "See the caveats in the documentation: https://pandas.pydata.org/pandas-docs/stable/user_guide/indexing.html#returning-a-view-versus-a-copy\n",
      "\n"
     ]
    },
    {
     "name": "stderr",
     "output_type": "stream",
     "text": [
      "/home/runner/work/corr-app/corr-app/_notebooks/scripts/read_data.py:215: SettingWithCopyWarning:\n",
      "\n",
      "\n",
      "A value is trying to be set on a copy of a slice from a DataFrame.\n",
      "Try using .loc[row_indexer,col_indexer] = value instead\n",
      "\n",
      "See the caveats in the documentation: https://pandas.pydata.org/pandas-docs/stable/user_guide/indexing.html#returning-a-view-versus-a-copy\n",
      "\n"
     ]
    }
   ],
   "source": [
    "#hide\n",
    "df_all = read_api()\n",
    "#df_all = df_all.drop(['SP500', 'XAU', 'ETH', 'BTC'], axis=1)\n",
    "\n"
   ]
  },
  {
   "cell_type": "code",
   "execution_count": 6,
   "id": "mature-alert",
   "metadata": {
    "execution": {
     "iopub.execute_input": "2021-03-18T01:47:21.669642Z",
     "iopub.status.busy": "2021-03-18T01:47:21.669003Z",
     "iopub.status.idle": "2021-03-18T01:47:21.702753Z",
     "shell.execute_reply": "2021-03-18T01:47:21.702122Z"
    },
    "papermill": {
     "duration": 0.053159,
     "end_time": "2021-03-18T01:47:21.702897",
     "exception": false,
     "start_time": "2021-03-18T01:47:21.649738",
     "status": "completed"
    },
    "tags": []
   },
   "outputs": [],
   "source": [
    "#hide_input\n",
    "sum_corr = df_all.corr().sum().sort_values(ascending=True).index.values\n",
    "#df_all[sum_corr].corr()"
   ]
  },
  {
   "cell_type": "markdown",
   "id": "complex-syndicate",
   "metadata": {
    "papermill": {
     "duration": 0.014256,
     "end_time": "2021-03-18T01:47:21.732009",
     "exception": false,
     "start_time": "2021-03-18T01:47:21.717753",
     "status": "completed"
    },
    "tags": []
   },
   "source": [
    "## Išplėstinė koreliacijų matrica. "
   ]
  },
  {
   "cell_type": "code",
   "execution_count": 7,
   "id": "atomic-omaha",
   "metadata": {
    "execution": {
     "iopub.execute_input": "2021-03-18T01:47:21.766823Z",
     "iopub.status.busy": "2021-03-18T01:47:21.766190Z",
     "iopub.status.idle": "2021-03-18T01:47:23.395772Z",
     "shell.execute_reply": "2021-03-18T01:47:23.395146Z"
    },
    "papermill": {
     "duration": 1.649566,
     "end_time": "2021-03-18T01:47:23.395917",
     "exception": false,
     "start_time": "2021-03-18T01:47:21.746351",
     "status": "completed"
    },
    "tags": []
   },
   "outputs": [
    {
     "data": {
      "image/png": "[encoded data removed]",
      "text/plain": [
       "<Figure size 1080x792 with 2 Axes>"
      ]
     },
     "metadata": {
      "needs_background": "light"
     },
     "output_type": "display_data"
    }
   ],
   "source": [
    "#hide_input\n",
    "plt.figure(figsize=(15, 11))\n",
    "sns.heatmap(df_all[sum_corr].corr(), annot=True, cmap=\"cubehelix\") \n",
    "sns.set(font_scale=1.25)\n",
    "plt.savefig('corr_matrix.png', format='eps')"
   ]
  },
  {
   "cell_type": "code",
   "execution_count": 8,
   "id": "arbitrary-sullivan",
   "metadata": {
    "execution": {
     "iopub.execute_input": "2021-03-18T01:47:23.436730Z",
     "iopub.status.busy": "2021-03-18T01:47:23.436004Z",
     "iopub.status.idle": "2021-03-18T01:47:23.466152Z",
     "shell.execute_reply": "2021-03-18T01:47:23.466655Z"
    },
    "papermill": {
     "duration": 0.05279,
     "end_time": "2021-03-18T01:47:23.466873",
     "exception": false,
     "start_time": "2021-03-18T01:47:23.414083",
     "status": "completed"
    },
    "tags": []
   },
   "outputs": [],
   "source": [
    "#hide\n",
    "#df_all_mrk = read_api()"
   ]
  },
  {
   "cell_type": "code",
   "execution_count": 9,
   "id": "delayed-adapter",
   "metadata": {
    "execution": {
     "iopub.execute_input": "2021-03-18T01:47:23.508188Z",
     "iopub.status.busy": "2021-03-18T01:47:23.507419Z",
     "iopub.status.idle": "2021-03-18T01:47:23.536258Z",
     "shell.execute_reply": "2021-03-18T01:47:23.535702Z"
    },
    "papermill": {
     "duration": 0.050655,
     "end_time": "2021-03-18T01:47:23.536405",
     "exception": false,
     "start_time": "2021-03-18T01:47:23.485750",
     "status": "completed"
    },
    "tags": []
   },
   "outputs": [],
   "source": [
    "#hide\n",
    "#Koreliacijų koeficientai"
   ]
  },
  {
   "cell_type": "code",
   "execution_count": 10,
   "id": "seeing-celebration",
   "metadata": {
    "execution": {
     "iopub.execute_input": "2021-03-18T01:47:23.583581Z",
     "iopub.status.busy": "2021-03-18T01:47:23.582839Z",
     "iopub.status.idle": "2021-03-18T01:47:23.611110Z",
     "shell.execute_reply": "2021-03-18T01:47:23.610524Z"
    },
    "papermill": {
     "duration": 0.057416,
     "end_time": "2021-03-18T01:47:23.611313",
     "exception": false,
     "start_time": "2021-03-18T01:47:23.553897",
     "status": "completed"
    },
    "tags": []
   },
   "outputs": [],
   "source": [
    "#hide_input\n",
    "#sum_corr = df_all_mrk.corr().sum().sort_values(ascending=True).index.values\n",
    "#df_all_mrk[sum_corr].corr()"
   ]
  },
  {
   "cell_type": "code",
   "execution_count": 11,
   "id": "other-painting",
   "metadata": {
    "execution": {
     "iopub.execute_input": "2021-03-18T01:47:23.649813Z",
     "iopub.status.busy": "2021-03-18T01:47:23.649016Z",
     "iopub.status.idle": "2021-03-18T01:47:23.676510Z",
     "shell.execute_reply": "2021-03-18T01:47:23.675928Z"
    },
    "papermill": {
     "duration": 0.04831,
     "end_time": "2021-03-18T01:47:23.676641",
     "exception": false,
     "start_time": "2021-03-18T01:47:23.628331",
     "status": "completed"
    },
    "tags": []
   },
   "outputs": [],
   "source": [
    "#hide\n",
    "#Koreliacijos matrica. "
   ]
  },
  {
   "cell_type": "code",
   "execution_count": 12,
   "id": "modular-magnitude",
   "metadata": {
    "execution": {
     "iopub.execute_input": "2021-03-18T01:47:23.714636Z",
     "iopub.status.busy": "2021-03-18T01:47:23.714043Z",
     "iopub.status.idle": "2021-03-18T01:47:23.741771Z",
     "shell.execute_reply": "2021-03-18T01:47:23.742291Z"
    },
    "papermill": {
     "duration": 0.047687,
     "end_time": "2021-03-18T01:47:23.742440",
     "exception": false,
     "start_time": "2021-03-18T01:47:23.694753",
     "status": "completed"
    },
    "tags": []
   },
   "outputs": [],
   "source": [
    "#hide_input\n",
    "#plt.figure(figsize=(15, 8))\n",
    "#sns.heatmap(df_all_mrk[sum_corr].corr(), annot=True, cmap=\"BrBG\");\n",
    "#plt.savefig('corr_matrix_all.eps', format='eps')"
   ]
  },
  {
   "cell_type": "code",
   "execution_count": null,
   "id": "original-senator",
   "metadata": {
    "papermill": {
     "duration": 0.016372,
     "end_time": "2021-03-18T01:47:23.775887",
     "exception": false,
     "start_time": "2021-03-18T01:47:23.759515",
     "status": "completed"
    },
    "tags": []
   },
   "outputs": [],
   "source": []
  },
  {
   "cell_type": "code",
   "execution_count": null,
   "id": "saving-secretariat",
   "metadata": {
    "papermill": {
     "duration": 0.015973,
     "end_time": "2021-03-18T01:47:23.808239",
     "exception": false,
     "start_time": "2021-03-18T01:47:23.792266",
     "status": "completed"
    },
    "tags": []
   },
   "outputs": [],
   "source": []
  }
 ],
 "metadata": {
  "kernelspec": {
   "display_name": "Python 3",
   "language": "python",
   "name": "python3"
  },
  "language_info": {
   "codemirror_mode": {
    "name": "ipython",
    "version": 3
   },
   "file_extension": ".py",
   "mimetype": "text/x-python",
   "name": "python",
   "nbconvert_exporter": "python",
   "pygments_lexer": "ipython3",
   "version": "3.6.13"
  },
  "papermill": {
   "default_parameters": {},
   "duration": 17.391014,
   "end_time": "2021-03-18T01:47:25.285622",
   "environment_variables": {},
   "exception": null,
   "input_path": "App-Correlation_charts.ipynb",
   "output_path": "App-Correlation_charts.ipynb",
   "parameters": {},
   "start_time": "2021-03-18T01:47:07.894608",
   "version": "2.2.2"
  }
 },
 "nbformat": 4,
 "nbformat_minor": 5
}