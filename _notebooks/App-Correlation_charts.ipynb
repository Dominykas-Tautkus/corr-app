{
 "cells": [
  {
   "cell_type": "markdown",
   "id": "touched-facility",
   "metadata": {
    "papermill": {
     "duration": 0.013405,
     "end_time": "2021-01-21T02:48:20.695976",
     "exception": false,
     "start_time": "2021-01-21T02:48:20.682571",
     "status": "completed"
    },
    "tags": []
   },
   "source": [
    "# Koreliacijų matrica\n",
    "> Išplėstinė koreliacijų matrica. \n",
    "\n",
    "- toc: true \n",
    "- badges: true\n",
    "- comments: false\n",
    "- categories: [Dominykas Tautkus]\n",
    "- image: images/matrix.png"
   ]
  },
  {
   "cell_type": "code",
   "execution_count": null,
   "id": "premium-weekend",
   "metadata": {
    "papermill": {
     "duration": 0.009061,
     "end_time": "2021-01-21T02:48:20.714974",
     "exception": false,
     "start_time": "2021-01-21T02:48:20.705913",
     "status": "completed"
    },
    "tags": []
   },
   "outputs": [],
   "source": []
  },
  {
   "cell_type": "code",
   "execution_count": 1,
   "id": "vertical-rebate",
   "metadata": {
    "execution": {
     "iopub.execute_input": "2021-01-21T02:48:20.743601Z",
     "iopub.status.busy": "2021-01-21T02:48:20.743090Z",
     "iopub.status.idle": "2021-01-21T02:48:20.753421Z",
     "shell.execute_reply": "2021-01-21T02:48:20.752998Z"
    },
    "papermill": {
     "duration": 0.029109,
     "end_time": "2021-01-21T02:48:20.753543",
     "exception": false,
     "start_time": "2021-01-21T02:48:20.724434",
     "status": "completed"
    },
    "tags": []
   },
   "outputs": [],
   "source": [
    "#hide\n",
    "%load_ext autoreload\n",
    "%autoreload 2"
   ]
  },
  {
   "cell_type": "code",
   "execution_count": 2,
   "id": "overall-advancement",
   "metadata": {
    "execution": {
     "iopub.execute_input": "2021-01-21T02:48:20.775091Z",
     "iopub.status.busy": "2021-01-21T02:48:20.774591Z",
     "iopub.status.idle": "2021-01-21T02:48:21.843480Z",
     "shell.execute_reply": "2021-01-21T02:48:21.842949Z"
    },
    "papermill": {
     "duration": 1.080673,
     "end_time": "2021-01-21T02:48:21.843626",
     "exception": false,
     "start_time": "2021-01-21T02:48:20.762953",
     "status": "completed"
    },
    "tags": []
   },
   "outputs": [],
   "source": [
    "#hide\n",
    "from scripts.read_data import read_api\n",
    "from IPython.display import HTML\n",
    "import plotly.graph_objects as go\n"
   ]
  },
  {
   "cell_type": "code",
   "execution_count": 3,
   "id": "light-crazy",
   "metadata": {
    "execution": {
     "iopub.execute_input": "2021-01-21T02:48:21.866748Z",
     "iopub.status.busy": "2021-01-21T02:48:21.866228Z",
     "iopub.status.idle": "2021-01-21T02:48:21.888448Z",
     "shell.execute_reply": "2021-01-21T02:48:21.887928Z"
    },
    "papermill": {
     "duration": 0.035209,
     "end_time": "2021-01-21T02:48:21.888578",
     "exception": false,
     "start_time": "2021-01-21T02:48:21.853369",
     "status": "completed"
    },
    "tags": []
   },
   "outputs": [],
   "source": [
    "#hide\n",
    "### ICO koreliacija"
   ]
  },
  {
   "cell_type": "code",
   "execution_count": 4,
   "id": "likely-bahrain",
   "metadata": {
    "execution": {
     "iopub.execute_input": "2021-01-21T02:48:21.912072Z",
     "iopub.status.busy": "2021-01-21T02:48:21.911563Z",
     "iopub.status.idle": "2021-01-21T02:48:24.380372Z",
     "shell.execute_reply": "2021-01-21T02:48:24.380839Z"
    },
    "papermill": {
     "duration": 2.482046,
     "end_time": "2021-01-21T02:48:24.381000",
     "exception": false,
     "start_time": "2021-01-21T02:48:21.898954",
     "status": "completed"
    },
    "tags": []
   },
   "outputs": [],
   "source": [
    "#hide\n",
    "import matplotlib.pyplot as plt\n",
    "import numpy as np\n",
    "import pandas as pd\n",
    "import seaborn as sns\n",
    "import matplotlib.pyplot as plt \n",
    "import matplotlib.dates as mdates\n",
    "import matplotlib.pyplot as plt"
   ]
  },
  {
   "cell_type": "code",
   "execution_count": 5,
   "id": "superior-blanket",
   "metadata": {
    "execution": {
     "iopub.execute_input": "2021-01-21T02:48:24.406518Z",
     "iopub.status.busy": "2021-01-21T02:48:24.406006Z",
     "iopub.status.idle": "2021-01-21T02:48:36.520133Z",
     "shell.execute_reply": "2021-01-21T02:48:36.519259Z"
    },
    "papermill": {
     "duration": 12.129265,
     "end_time": "2021-01-21T02:48:36.520281",
     "exception": false,
     "start_time": "2021-01-21T02:48:24.391016",
     "status": "completed"
    },
    "tags": []
   },
   "outputs": [
    {
     "name": "stderr",
     "output_type": "stream",
     "text": [
      "/home/runner/work/corr-app/corr-app/_notebooks/scripts/read_data.py:187: SettingWithCopyWarning:\n",
      "\n",
      "\n",
      "A value is trying to be set on a copy of a slice from a DataFrame.\n",
      "Try using .loc[row_indexer,col_indexer] = value instead\n",
      "\n",
      "See the caveats in the documentation: https://pandas.pydata.org/pandas-docs/stable/user_guide/indexing.html#returning-a-view-versus-a-copy\n",
      "\n"
     ]
    },
    {
     "name": "stderr",
     "output_type": "stream",
     "text": [
      "/home/runner/work/corr-app/corr-app/_notebooks/scripts/read_data.py:215: SettingWithCopyWarning:\n",
      "\n",
      "\n",
      "A value is trying to be set on a copy of a slice from a DataFrame.\n",
      "Try using .loc[row_indexer,col_indexer] = value instead\n",
      "\n",
      "See the caveats in the documentation: https://pandas.pydata.org/pandas-docs/stable/user_guide/indexing.html#returning-a-view-versus-a-copy\n",
      "\n"
     ]
    }
   ],
   "source": [
    "#hide\n",
    "df_all = read_api()\n",
    "#df_all = df_all.drop(['SP500', 'XAU', 'ETH', 'BTC'], axis=1)\n",
    "\n"
   ]
  },
  {
   "cell_type": "code",
   "execution_count": 6,
   "id": "mature-alert",
   "metadata": {
    "execution": {
     "iopub.execute_input": "2021-01-21T02:48:36.546258Z",
     "iopub.status.busy": "2021-01-21T02:48:36.545725Z",
     "iopub.status.idle": "2021-01-21T02:48:36.573721Z",
     "shell.execute_reply": "2021-01-21T02:48:36.573240Z"
    },
    "papermill": {
     "duration": 0.042173,
     "end_time": "2021-01-21T02:48:36.573851",
     "exception": false,
     "start_time": "2021-01-21T02:48:36.531678",
     "status": "completed"
    },
    "tags": []
   },
   "outputs": [],
   "source": [
    "#hide_input\n",
    "sum_corr = df_all.corr().sum().sort_values(ascending=True).index.values\n",
    "#df_all[sum_corr].corr()"
   ]
  },
  {
   "cell_type": "markdown",
   "id": "complex-syndicate",
   "metadata": {
    "papermill": {
     "duration": 0.010384,
     "end_time": "2021-01-21T02:48:36.594971",
     "exception": false,
     "start_time": "2021-01-21T02:48:36.584587",
     "status": "completed"
    },
    "tags": []
   },
   "source": [
    "## Išplėstinė koreliacijų matrica. "
   ]
  },
  {
   "cell_type": "code",
   "execution_count": 7,
   "id": "atomic-omaha",
   "metadata": {
    "execution": {
     "iopub.execute_input": "2021-01-21T02:48:36.621577Z",
     "iopub.status.busy": "2021-01-21T02:48:36.621071Z",
     "iopub.status.idle": "2021-01-21T02:48:37.720594Z",
     "shell.execute_reply": "2021-01-21T02:48:37.720093Z"
    },
    "papermill": {
     "duration": 1.115534,
     "end_time": "2021-01-21T02:48:37.720749",
     "exception": false,
     "start_time": "2021-01-21T02:48:36.605215",
     "status": "completed"
    },
    "tags": []
   },
   "outputs": [
    {
     "data": {
      "image/png": "[encoded data removed]",
      "text/plain": [
       "<Figure size 1080x792 with 2 Axes>"
      ]
     },
     "metadata": {
      "needs_background": "light"
     },
     "output_type": "display_data"
    }
   ],
   "source": [
    "#hide_input\n",
    "plt.figure(figsize=(15, 11))\n",
    "sns.heatmap(df_all[sum_corr].corr(), annot=True, cmap=\"cubehelix\") \n",
    "sns.set(font_scale=1.25)\n",
    "plt.savefig('corr_matrix.png', format='eps')"
   ]
  },
  {
   "cell_type": "code",
   "execution_count": 8,
   "id": "arbitrary-sullivan",
   "metadata": {
    "execution": {
     "iopub.execute_input": "2021-01-21T02:48:37.750559Z",
     "iopub.status.busy": "2021-01-21T02:48:37.750046Z",
     "iopub.status.idle": "2021-01-21T02:48:37.773720Z",
     "shell.execute_reply": "2021-01-21T02:48:37.774117Z"
    },
    "papermill": {
     "duration": 0.039794,
     "end_time": "2021-01-21T02:48:37.774250",
     "exception": false,
     "start_time": "2021-01-21T02:48:37.734456",
     "status": "completed"
    },
    "tags": []
   },
   "outputs": [],
   "source": [
    "#hide\n",
    "#df_all_mrk = read_api()"
   ]
  },
  {
   "cell_type": "code",
   "execution_count": 9,
   "id": "delayed-adapter",
   "metadata": {
    "execution": {
     "iopub.execute_input": "2021-01-21T02:48:37.806991Z",
     "iopub.status.busy": "2021-01-21T02:48:37.806490Z",
     "iopub.status.idle": "2021-01-21T02:48:37.828099Z",
     "shell.execute_reply": "2021-01-21T02:48:37.827615Z"
    },
    "papermill": {
     "duration": 0.040622,
     "end_time": "2021-01-21T02:48:37.828217",
     "exception": false,
     "start_time": "2021-01-21T02:48:37.787595",
     "status": "completed"
    },
    "tags": []
   },
   "outputs": [],
   "source": [
    "#hide\n",
    "#Koreliacijų koeficientai"
   ]
  },
  {
   "cell_type": "code",
   "execution_count": 10,
   "id": "seeing-celebration",
   "metadata": {
    "execution": {
     "iopub.execute_input": "2021-01-21T02:48:37.865810Z",
     "iopub.status.busy": "2021-01-21T02:48:37.865307Z",
     "iopub.status.idle": "2021-01-21T02:48:37.883988Z",
     "shell.execute_reply": "2021-01-21T02:48:37.883574Z"
    },
    "papermill": {
     "duration": 0.042677,
     "end_time": "2021-01-21T02:48:37.884102",
     "exception": false,
     "start_time": "2021-01-21T02:48:37.841425",
     "status": "completed"
    },
    "tags": []
   },
   "outputs": [],
   "source": [
    "#hide_input\n",
    "#sum_corr = df_all_mrk.corr().sum().sort_values(ascending=True).index.values\n",
    "#df_all_mrk[sum_corr].corr()"
   ]
  },
  {
   "cell_type": "code",
   "execution_count": 11,
   "id": "other-painting",
   "metadata": {
    "execution": {
     "iopub.execute_input": "2021-01-21T02:48:37.913743Z",
     "iopub.status.busy": "2021-01-21T02:48:37.913254Z",
     "iopub.status.idle": "2021-01-21T02:48:37.936470Z",
     "shell.execute_reply": "2021-01-21T02:48:37.936951Z"
    },
    "papermill": {
     "duration": 0.040144,
     "end_time": "2021-01-21T02:48:37.937088",
     "exception": false,
     "start_time": "2021-01-21T02:48:37.896944",
     "status": "completed"
    },
    "tags": []
   },
   "outputs": [],
   "source": [
    "#hide\n",
    "#Koreliacijos matrica. "
   ]
  },
  {
   "cell_type": "code",
   "execution_count": 12,
   "id": "modular-magnitude",
   "metadata": {
    "execution": {
     "iopub.execute_input": "2021-01-21T02:48:37.970177Z",
     "iopub.status.busy": "2021-01-21T02:48:37.969672Z",
     "iopub.status.idle": "2021-01-21T02:48:37.990449Z",
     "shell.execute_reply": "2021-01-21T02:48:37.990888Z"
    },
    "papermill": {
     "duration": 0.040106,
     "end_time": "2021-01-21T02:48:37.991027",
     "exception": false,
     "start_time": "2021-01-21T02:48:37.950921",
     "status": "completed"
    },
    "tags": []
   },
   "outputs": [],
   "source": [
    "#hide_input\n",
    "#plt.figure(figsize=(15, 8))\n",
    "#sns.heatmap(df_all_mrk[sum_corr].corr(), annot=True, cmap=\"BrBG\");\n",
    "#plt.savefig('corr_matrix_all.eps', format='eps')"
   ]
  },
  {
   "cell_type": "code",
   "execution_count": null,
   "id": "original-senator",
   "metadata": {
    "papermill": {
     "duration": 0.012621,
     "end_time": "2021-01-21T02:48:38.017139",
     "exception": false,
     "start_time": "2021-01-21T02:48:38.004518",
     "status": "completed"
    },
    "tags": []
   },
   "outputs": [],
   "source": []
  },
  {
   "cell_type": "code",
   "execution_count": null,
   "id": "saving-secretariat",
   "metadata": {
    "papermill": {
     "duration": 0.012559,
     "end_time": "2021-01-21T02:48:38.042422",
     "exception": false,
     "start_time": "2021-01-21T02:48:38.029863",
     "status": "completed"
    },
    "tags": []
   },
   "outputs": [],
   "source": []
  }
 ],
 "metadata": {
  "kernelspec": {
   "display_name": "Python 3",
   "language": "python",
   "name": "python3"
  },
  "language_info": {
   "codemirror_mode": {
    "name": "ipython",
    "version": 3
   },
   "file_extension": ".py",
   "mimetype": "text/x-python",
   "name": "python",
   "nbconvert_exporter": "python",
   "pygments_lexer": "ipython3",
   "version": "3.6.12"
  },
  "papermill": {
   "default_parameters": {},
   "duration": 19.119381,
   "end_time": "2021-01-21T02:48:38.562789",
   "environment_variables": {},
   "exception": null,
   "input_path": "App-Correlation_charts.ipynb",
   "output_path": "App-Correlation_charts.ipynb",
   "parameters": {},
   "start_time": "2021-01-21T02:48:19.443408",
   "version": "2.2.2"
  }
 },
 "nbformat": 4,
 "nbformat_minor": 5
}