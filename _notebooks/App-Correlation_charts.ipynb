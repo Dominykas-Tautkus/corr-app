{
 "cells": [
  {
   "cell_type": "markdown",
   "id": "touched-facility",
   "metadata": {
    "papermill": {
     "duration": 0.019439,
     "end_time": "2021-04-08T02:13:05.191357",
     "exception": false,
     "start_time": "2021-04-08T02:13:05.171918",
     "status": "completed"
    },
    "tags": []
   },
   "source": [
    "# Koreliacijų matrica\n",
    "> Išplėstinė koreliacijų matrica. \n",
    "\n",
    "- toc: true \n",
    "- badges: true\n",
    "- comments: false\n",
    "- categories: [Dominykas Tautkus]\n",
    "- image: images/matrix.png"
   ]
  },
  {
   "cell_type": "code",
   "execution_count": null,
   "id": "premium-weekend",
   "metadata": {
    "papermill": {
     "duration": 0.014575,
     "end_time": "2021-04-08T02:13:05.221514",
     "exception": false,
     "start_time": "2021-04-08T02:13:05.206939",
     "status": "completed"
    },
    "tags": []
   },
   "outputs": [],
   "source": []
  },
  {
   "cell_type": "code",
   "execution_count": 1,
   "id": "vertical-rebate",
   "metadata": {
    "execution": {
     "iopub.execute_input": "2021-04-08T02:13:05.262136Z",
     "iopub.status.busy": "2021-04-08T02:13:05.261458Z",
     "iopub.status.idle": "2021-04-08T02:13:05.275366Z",
     "shell.execute_reply": "2021-04-08T02:13:05.274767Z"
    },
    "papermill": {
     "duration": 0.039905,
     "end_time": "2021-04-08T02:13:05.275606",
     "exception": false,
     "start_time": "2021-04-08T02:13:05.235701",
     "status": "completed"
    },
    "tags": []
   },
   "outputs": [],
   "source": [
    "#hide\n",
    "%load_ext autoreload\n",
    "%autoreload 2"
   ]
  },
  {
   "cell_type": "code",
   "execution_count": 2,
   "id": "overall-advancement",
   "metadata": {
    "execution": {
     "iopub.execute_input": "2021-04-08T02:13:05.309840Z",
     "iopub.status.busy": "2021-04-08T02:13:05.309076Z",
     "iopub.status.idle": "2021-04-08T02:13:06.617019Z",
     "shell.execute_reply": "2021-04-08T02:13:06.616388Z"
    },
    "papermill": {
     "duration": 1.325305,
     "end_time": "2021-04-08T02:13:06.617159",
     "exception": false,
     "start_time": "2021-04-08T02:13:05.291854",
     "status": "completed"
    },
    "tags": []
   },
   "outputs": [],
   "source": [
    "#hide\n",
    "from scripts.read_data import read_api\n",
    "from IPython.display import HTML\n",
    "import plotly.graph_objects as go\n"
   ]
  },
  {
   "cell_type": "code",
   "execution_count": 3,
   "id": "light-crazy",
   "metadata": {
    "execution": {
     "iopub.execute_input": "2021-04-08T02:13:06.649104Z",
     "iopub.status.busy": "2021-04-08T02:13:06.648314Z",
     "iopub.status.idle": "2021-04-08T02:13:06.671226Z",
     "shell.execute_reply": "2021-04-08T02:13:06.671790Z"
    },
    "papermill": {
     "duration": 0.041002,
     "end_time": "2021-04-08T02:13:06.671928",
     "exception": false,
     "start_time": "2021-04-08T02:13:06.630926",
     "status": "completed"
    },
    "tags": []
   },
   "outputs": [],
   "source": [
    "#hide\n",
    "### ICO koreliacija"
   ]
  },
  {
   "cell_type": "code",
   "execution_count": 4,
   "id": "likely-bahrain",
   "metadata": {
    "execution": {
     "iopub.execute_input": "2021-04-08T02:13:06.704648Z",
     "iopub.status.busy": "2021-04-08T02:13:06.703914Z",
     "iopub.status.idle": "2021-04-08T02:13:07.776289Z",
     "shell.execute_reply": "2021-04-08T02:13:07.775261Z"
    },
    "papermill": {
     "duration": 1.089723,
     "end_time": "2021-04-08T02:13:07.776427",
     "exception": false,
     "start_time": "2021-04-08T02:13:06.686704",
     "status": "completed"
    },
    "tags": []
   },
   "outputs": [],
   "source": [
    "#hide\n",
    "import matplotlib.pyplot as plt\n",
    "import numpy as np\n",
    "import pandas as pd\n",
    "import seaborn as sns\n",
    "import matplotlib.pyplot as plt \n",
    "import matplotlib.dates as mdates\n",
    "import matplotlib.pyplot as plt"
   ]
  },
  {
   "cell_type": "code",
   "execution_count": 5,
   "id": "superior-blanket",
   "metadata": {
    "execution": {
     "iopub.execute_input": "2021-04-08T02:13:07.812574Z",
     "iopub.status.busy": "2021-04-08T02:13:07.811865Z",
     "iopub.status.idle": "2021-04-08T02:13:19.109050Z",
     "shell.execute_reply": "2021-04-08T02:13:19.108353Z"
    },
    "papermill": {
     "duration": 11.31657,
     "end_time": "2021-04-08T02:13:19.109189",
     "exception": false,
     "start_time": "2021-04-08T02:13:07.792619",
     "status": "completed"
    },
    "tags": []
   },
   "outputs": [
    {
     "name": "stderr",
     "output_type": "stream",
     "text": [
      "/home/runner/work/corr-app/corr-app/_notebooks/scripts/read_data.py:187: SettingWithCopyWarning:\n",
      "\n",
      "\n",
      "A value is trying to be set on a copy of a slice from a DataFrame.\n",
      "Try using .loc[row_indexer,col_indexer] = value instead\n",
      "\n",
      "See the caveats in the documentation: https://pandas.pydata.org/pandas-docs/stable/user_guide/indexing.html#returning-a-view-versus-a-copy\n",
      "\n"
     ]
    },
    {
     "name": "stderr",
     "output_type": "stream",
     "text": [
      "/home/runner/work/corr-app/corr-app/_notebooks/scripts/read_data.py:215: SettingWithCopyWarning:\n",
      "\n",
      "\n",
      "A value is trying to be set on a copy of a slice from a DataFrame.\n",
      "Try using .loc[row_indexer,col_indexer] = value instead\n",
      "\n",
      "See the caveats in the documentation: https://pandas.pydata.org/pandas-docs/stable/user_guide/indexing.html#returning-a-view-versus-a-copy\n",
      "\n"
     ]
    }
   ],
   "source": [
    "#hide\n",
    "df_all = read_api()\n",
    "#df_all = df_all.drop(['SP500', 'XAU', 'ETH', 'BTC'], axis=1)\n",
    "\n"
   ]
  },
  {
   "cell_type": "code",
   "execution_count": 6,
   "id": "mature-alert",
   "metadata": {
    "execution": {
     "iopub.execute_input": "2021-04-08T02:13:19.150318Z",
     "iopub.status.busy": "2021-04-08T02:13:19.149536Z",
     "iopub.status.idle": "2021-04-08T02:13:19.184860Z",
     "shell.execute_reply": "2021-04-08T02:13:19.184051Z"
    },
    "papermill": {
     "duration": 0.059137,
     "end_time": "2021-04-08T02:13:19.185005",
     "exception": false,
     "start_time": "2021-04-08T02:13:19.125868",
     "status": "completed"
    },
    "tags": []
   },
   "outputs": [],
   "source": [
    "#hide_input\n",
    "sum_corr = df_all.corr().sum().sort_values(ascending=True).index.values\n",
    "#df_all[sum_corr].corr()"
   ]
  },
  {
   "cell_type": "markdown",
   "id": "complex-syndicate",
   "metadata": {
    "papermill": {
     "duration": 0.015531,
     "end_time": "2021-04-08T02:13:19.217039",
     "exception": false,
     "start_time": "2021-04-08T02:13:19.201508",
     "status": "completed"
    },
    "tags": []
   },
   "source": [
    "## Išplėstinė koreliacijų matrica. "
   ]
  },
  {
   "cell_type": "code",
   "execution_count": 7,
   "id": "atomic-omaha",
   "metadata": {
    "execution": {
     "iopub.execute_input": "2021-04-08T02:13:19.252804Z",
     "iopub.status.busy": "2021-04-08T02:13:19.251795Z",
     "iopub.status.idle": "2021-04-08T02:13:20.897443Z",
     "shell.execute_reply": "2021-04-08T02:13:20.896872Z"
    },
    "papermill": {
     "duration": 1.664658,
     "end_time": "2021-04-08T02:13:20.897572",
     "exception": false,
     "start_time": "2021-04-08T02:13:19.232914",
     "status": "completed"
    },
    "tags": []
   },
   "outputs": [
    {
     "data": {
      "image/png": "[encoded data removed]",
      "text/plain": [
       "<Figure size 1080x792 with 2 Axes>"
      ]
     },
     "metadata": {
      "needs_background": "light"
     },
     "output_type": "display_data"
    }
   ],
   "source": [
    "#hide_input\n",
    "plt.figure(figsize=(15, 11))\n",
    "sns.heatmap(df_all[sum_corr].corr(), annot=True, cmap=\"cubehelix\") \n",
    "sns.set(font_scale=1.25)\n",
    "plt.savefig('corr_matrix.png', format='eps')"
   ]
  },
  {
   "cell_type": "code",
   "execution_count": 8,
   "id": "arbitrary-sullivan",
   "metadata": {
    "execution": {
     "iopub.execute_input": "2021-04-08T02:13:20.937490Z",
     "iopub.status.busy": "2021-04-08T02:13:20.936836Z",
     "iopub.status.idle": "2021-04-08T02:13:20.965507Z",
     "shell.execute_reply": "2021-04-08T02:13:20.964857Z"
    },
    "papermill": {
     "duration": 0.05002,
     "end_time": "2021-04-08T02:13:20.965649",
     "exception": false,
     "start_time": "2021-04-08T02:13:20.915629",
     "status": "completed"
    },
    "tags": []
   },
   "outputs": [],
   "source": [
    "#hide\n",
    "#df_all_mrk = read_api()"
   ]
  },
  {
   "cell_type": "code",
   "execution_count": 9,
   "id": "delayed-adapter",
   "metadata": {
    "execution": {
     "iopub.execute_input": "2021-04-08T02:13:21.006241Z",
     "iopub.status.busy": "2021-04-08T02:13:21.002397Z",
     "iopub.status.idle": "2021-04-08T02:13:21.032733Z",
     "shell.execute_reply": "2021-04-08T02:13:21.033275Z"
    },
    "papermill": {
     "duration": 0.0512,
     "end_time": "2021-04-08T02:13:21.033420",
     "exception": false,
     "start_time": "2021-04-08T02:13:20.982220",
     "status": "completed"
    },
    "tags": []
   },
   "outputs": [],
   "source": [
    "#hide\n",
    "#Koreliacijų koeficientai"
   ]
  },
  {
   "cell_type": "code",
   "execution_count": 10,
   "id": "seeing-celebration",
   "metadata": {
    "execution": {
     "iopub.execute_input": "2021-04-08T02:13:21.071791Z",
     "iopub.status.busy": "2021-04-08T02:13:21.070794Z",
     "iopub.status.idle": "2021-04-08T02:13:21.100770Z",
     "shell.execute_reply": "2021-04-08T02:13:21.100190Z"
    },
    "papermill": {
     "duration": 0.050744,
     "end_time": "2021-04-08T02:13:21.100898",
     "exception": false,
     "start_time": "2021-04-08T02:13:21.050154",
     "status": "completed"
    },
    "tags": []
   },
   "outputs": [],
   "source": [
    "#hide_input\n",
    "#sum_corr = df_all_mrk.corr().sum().sort_values(ascending=True).index.values\n",
    "#df_all_mrk[sum_corr].corr()"
   ]
  },
  {
   "cell_type": "code",
   "execution_count": 11,
   "id": "other-painting",
   "metadata": {
    "execution": {
     "iopub.execute_input": "2021-04-08T02:13:21.141631Z",
     "iopub.status.busy": "2021-04-08T02:13:21.140818Z",
     "iopub.status.idle": "2021-04-08T02:13:21.172221Z",
     "shell.execute_reply": "2021-04-08T02:13:21.171605Z"
    },
    "papermill": {
     "duration": 0.053325,
     "end_time": "2021-04-08T02:13:21.172370",
     "exception": false,
     "start_time": "2021-04-08T02:13:21.119045",
     "status": "completed"
    },
    "tags": []
   },
   "outputs": [],
   "source": [
    "#hide\n",
    "#Koreliacijos matrica. "
   ]
  },
  {
   "cell_type": "code",
   "execution_count": 12,
   "id": "modular-magnitude",
   "metadata": {
    "execution": {
     "iopub.execute_input": "2021-04-08T02:13:21.209279Z",
     "iopub.status.busy": "2021-04-08T02:13:21.208609Z",
     "iopub.status.idle": "2021-04-08T02:13:21.236102Z",
     "shell.execute_reply": "2021-04-08T02:13:21.235519Z"
    },
    "papermill": {
     "duration": 0.046963,
     "end_time": "2021-04-08T02:13:21.236228",
     "exception": false,
     "start_time": "2021-04-08T02:13:21.189265",
     "status": "completed"
    },
    "tags": []
   },
   "outputs": [],
   "source": [
    "#hide_input\n",
    "#plt.figure(figsize=(15, 8))\n",
    "#sns.heatmap(df_all_mrk[sum_corr].corr(), annot=True, cmap=\"BrBG\");\n",
    "#plt.savefig('corr_matrix_all.eps', format='eps')"
   ]
  },
  {
   "cell_type": "code",
   "execution_count": null,
   "id": "original-senator",
   "metadata": {
    "papermill": {
     "duration": 0.016593,
     "end_time": "2021-04-08T02:13:21.269871",
     "exception": false,
     "start_time": "2021-04-08T02:13:21.253278",
     "status": "completed"
    },
    "tags": []
   },
   "outputs": [],
   "source": []
  },
  {
   "cell_type": "code",
   "execution_count": null,
   "id": "saving-secretariat",
   "metadata": {
    "papermill": {
     "duration": 0.016268,
     "end_time": "2021-04-08T02:13:21.302501",
     "exception": false,
     "start_time": "2021-04-08T02:13:21.286233",
     "status": "completed"
    },
    "tags": []
   },
   "outputs": [],
   "source": []
  }
 ],
 "metadata": {
  "kernelspec": {
   "display_name": "Python 3",
   "language": "python",
   "name": "python3"
  },
  "language_info": {
   "codemirror_mode": {
    "name": "ipython",
    "version": 3
   },
   "file_extension": ".py",
   "mimetype": "text/x-python",
   "name": "python",
   "nbconvert_exporter": "python",
   "pygments_lexer": "ipython3",
   "version": "3.6.13"
  },
  "papermill": {
   "default_parameters": {},
   "duration": 17.79113,
   "end_time": "2021-04-08T02:13:21.827320",
   "environment_variables": {},
   "exception": null,
   "input_path": "App-Correlation_charts.ipynb",
   "output_path": "App-Correlation_charts.ipynb",
   "parameters": {},
   "start_time": "2021-04-08T02:13:04.036190",
   "version": "2.2.2"
  }
 },
 "nbformat": 4,
 "nbformat_minor": 5
}