{
 "cells": [
  {
   "cell_type": "markdown",
   "id": "touched-facility",
   "metadata": {
    "papermill": {
     "duration": 0.015442,
     "end_time": "2021-06-25T02:01:23.723850",
     "exception": false,
     "start_time": "2021-06-25T02:01:23.708408",
     "status": "completed"
    },
    "tags": []
   },
   "source": [
    "# Koreliacijų matrica\n",
    "> Išplėstinė koreliacijų matrica. \n",
    "\n",
    "- toc: true \n",
    "- badges: true\n",
    "- comments: false\n",
    "- categories: [Dominykas Tautkus]\n",
    "- image: images/matrix.png"
   ]
  },
  {
   "cell_type": "code",
   "execution_count": null,
   "id": "premium-weekend",
   "metadata": {
    "papermill": {
     "duration": 0.010568,
     "end_time": "2021-06-25T02:01:23.745830",
     "exception": false,
     "start_time": "2021-06-25T02:01:23.735262",
     "status": "completed"
    },
    "tags": []
   },
   "outputs": [],
   "source": []
  },
  {
   "cell_type": "code",
   "execution_count": 1,
   "id": "vertical-rebate",
   "metadata": {
    "execution": {
     "iopub.execute_input": "2021-06-25T02:01:23.778108Z",
     "iopub.status.busy": "2021-06-25T02:01:23.777566Z",
     "iopub.status.idle": "2021-06-25T02:01:23.787527Z",
     "shell.execute_reply": "2021-06-25T02:01:23.787911Z"
    },
    "papermill": {
     "duration": 0.031649,
     "end_time": "2021-06-25T02:01:23.788058",
     "exception": false,
     "start_time": "2021-06-25T02:01:23.756409",
     "status": "completed"
    },
    "tags": []
   },
   "outputs": [],
   "source": [
    "#hide\n",
    "%load_ext autoreload\n",
    "%autoreload 2"
   ]
  },
  {
   "cell_type": "code",
   "execution_count": 2,
   "id": "overall-advancement",
   "metadata": {
    "execution": {
     "iopub.execute_input": "2021-06-25T02:01:23.821689Z",
     "iopub.status.busy": "2021-06-25T02:01:23.817115Z",
     "iopub.status.idle": "2021-06-25T02:01:24.949752Z",
     "shell.execute_reply": "2021-06-25T02:01:24.948972Z"
    },
    "papermill": {
     "duration": 1.151133,
     "end_time": "2021-06-25T02:01:24.949887",
     "exception": false,
     "start_time": "2021-06-25T02:01:23.798754",
     "status": "completed"
    },
    "tags": []
   },
   "outputs": [],
   "source": [
    "#hide\n",
    "from scripts.read_data import read_api\n",
    "from IPython.display import HTML\n",
    "import plotly.graph_objects as go\n"
   ]
  },
  {
   "cell_type": "code",
   "execution_count": 3,
   "id": "light-crazy",
   "metadata": {
    "execution": {
     "iopub.execute_input": "2021-06-25T02:01:24.975847Z",
     "iopub.status.busy": "2021-06-25T02:01:24.975323Z",
     "iopub.status.idle": "2021-06-25T02:01:24.996223Z",
     "shell.execute_reply": "2021-06-25T02:01:24.995734Z"
    },
    "papermill": {
     "duration": 0.035518,
     "end_time": "2021-06-25T02:01:24.996351",
     "exception": false,
     "start_time": "2021-06-25T02:01:24.960833",
     "status": "completed"
    },
    "tags": []
   },
   "outputs": [],
   "source": [
    "#hide\n",
    "### ICO koreliacija"
   ]
  },
  {
   "cell_type": "code",
   "execution_count": 4,
   "id": "likely-bahrain",
   "metadata": {
    "execution": {
     "iopub.execute_input": "2021-06-25T02:01:25.022325Z",
     "iopub.status.busy": "2021-06-25T02:01:25.021752Z",
     "iopub.status.idle": "2021-06-25T02:01:25.801700Z",
     "shell.execute_reply": "2021-06-25T02:01:25.801195Z"
    },
    "papermill": {
     "duration": 0.794558,
     "end_time": "2021-06-25T02:01:25.801819",
     "exception": false,
     "start_time": "2021-06-25T02:01:25.007261",
     "status": "completed"
    },
    "tags": []
   },
   "outputs": [],
   "source": [
    "#hide\n",
    "import matplotlib.pyplot as plt\n",
    "import numpy as np\n",
    "import pandas as pd\n",
    "import seaborn as sns\n",
    "import matplotlib.pyplot as plt \n",
    "import matplotlib.dates as mdates\n",
    "import matplotlib.pyplot as plt"
   ]
  },
  {
   "cell_type": "code",
   "execution_count": 5,
   "id": "superior-blanket",
   "metadata": {
    "execution": {
     "iopub.execute_input": "2021-06-25T02:01:25.829096Z",
     "iopub.status.busy": "2021-06-25T02:01:25.828529Z",
     "iopub.status.idle": "2021-06-25T02:01:37.641463Z",
     "shell.execute_reply": "2021-06-25T02:01:37.640902Z"
    },
    "papermill": {
     "duration": 11.82854,
     "end_time": "2021-06-25T02:01:37.641605",
     "exception": false,
     "start_time": "2021-06-25T02:01:25.813065",
     "status": "completed"
    },
    "tags": []
   },
   "outputs": [
    {
     "name": "stderr",
     "output_type": "stream",
     "text": [
      "/home/runner/work/corr-app/corr-app/_notebooks/scripts/read_data.py:187: SettingWithCopyWarning:\n",
      "\n",
      "\n",
      "A value is trying to be set on a copy of a slice from a DataFrame.\n",
      "Try using .loc[row_indexer,col_indexer] = value instead\n",
      "\n",
      "See the caveats in the documentation: https://pandas.pydata.org/pandas-docs/stable/user_guide/indexing.html#returning-a-view-versus-a-copy\n",
      "\n"
     ]
    },
    {
     "name": "stderr",
     "output_type": "stream",
     "text": [
      "/home/runner/work/corr-app/corr-app/_notebooks/scripts/read_data.py:215: SettingWithCopyWarning:\n",
      "\n",
      "\n",
      "A value is trying to be set on a copy of a slice from a DataFrame.\n",
      "Try using .loc[row_indexer,col_indexer] = value instead\n",
      "\n",
      "See the caveats in the documentation: https://pandas.pydata.org/pandas-docs/stable/user_guide/indexing.html#returning-a-view-versus-a-copy\n",
      "\n"
     ]
    }
   ],
   "source": [
    "#hide\n",
    "df_all = read_api()\n",
    "#df_all = df_all.drop(['SP500', 'XAU', 'ETH', 'BTC'], axis=1)\n",
    "\n"
   ]
  },
  {
   "cell_type": "code",
   "execution_count": 6,
   "id": "mature-alert",
   "metadata": {
    "execution": {
     "iopub.execute_input": "2021-06-25T02:01:37.670450Z",
     "iopub.status.busy": "2021-06-25T02:01:37.669866Z",
     "iopub.status.idle": "2021-06-25T02:01:37.697696Z",
     "shell.execute_reply": "2021-06-25T02:01:37.697238Z"
    },
    "papermill": {
     "duration": 0.04379,
     "end_time": "2021-06-25T02:01:37.697815",
     "exception": false,
     "start_time": "2021-06-25T02:01:37.654025",
     "status": "completed"
    },
    "tags": []
   },
   "outputs": [],
   "source": [
    "#hide_input\n",
    "sum_corr = df_all.corr().sum().sort_values(ascending=True).index.values\n",
    "#df_all[sum_corr].corr()"
   ]
  },
  {
   "cell_type": "markdown",
   "id": "complex-syndicate",
   "metadata": {
    "papermill": {
     "duration": 0.011133,
     "end_time": "2021-06-25T02:01:37.721019",
     "exception": false,
     "start_time": "2021-06-25T02:01:37.709886",
     "status": "completed"
    },
    "tags": []
   },
   "source": [
    "## Išplėstinė koreliacijų matrica. "
   ]
  },
  {
   "cell_type": "code",
   "execution_count": 7,
   "id": "atomic-omaha",
   "metadata": {
    "execution": {
     "iopub.execute_input": "2021-06-25T02:01:37.747732Z",
     "iopub.status.busy": "2021-06-25T02:01:37.747227Z",
     "iopub.status.idle": "2021-06-25T02:01:38.856699Z",
     "shell.execute_reply": "2021-06-25T02:01:38.856196Z"
    },
    "papermill": {
     "duration": 1.124682,
     "end_time": "2021-06-25T02:01:38.856835",
     "exception": false,
     "start_time": "2021-06-25T02:01:37.732153",
     "status": "completed"
    },
    "tags": []
   },
   "outputs": [
    {
     "data": {
      "image/png": "[encoded data removed]",
      "text/plain": [
       "<Figure size 1080x792 with 2 Axes>"
      ]
     },
     "metadata": {
      "needs_background": "light"
     },
     "output_type": "display_data"
    }
   ],
   "source": [
    "#hide_input\n",
    "plt.figure(figsize=(15, 11))\n",
    "sns.heatmap(df_all[sum_corr].corr(), annot=True, cmap=\"cubehelix\") \n",
    "sns.set(font_scale=1.25)\n",
    "plt.savefig('corr_matrix.png', format='eps')"
   ]
  },
  {
   "cell_type": "code",
   "execution_count": 8,
   "id": "arbitrary-sullivan",
   "metadata": {
    "execution": {
     "iopub.execute_input": "2021-06-25T02:01:38.889600Z",
     "iopub.status.busy": "2021-06-25T02:01:38.889058Z",
     "iopub.status.idle": "2021-06-25T02:01:38.913195Z",
     "shell.execute_reply": "2021-06-25T02:01:38.913645Z"
    },
    "papermill": {
     "duration": 0.043253,
     "end_time": "2021-06-25T02:01:38.913789",
     "exception": false,
     "start_time": "2021-06-25T02:01:38.870536",
     "status": "completed"
    },
    "tags": []
   },
   "outputs": [],
   "source": [
    "#hide\n",
    "#df_all_mrk = read_api()"
   ]
  },
  {
   "cell_type": "code",
   "execution_count": 9,
   "id": "delayed-adapter",
   "metadata": {
    "execution": {
     "iopub.execute_input": "2021-06-25T02:01:38.950983Z",
     "iopub.status.busy": "2021-06-25T02:01:38.948622Z",
     "iopub.status.idle": "2021-06-25T02:01:38.970296Z",
     "shell.execute_reply": "2021-06-25T02:01:38.969859Z"
    },
    "papermill": {
     "duration": 0.042847,
     "end_time": "2021-06-25T02:01:38.970418",
     "exception": false,
     "start_time": "2021-06-25T02:01:38.927571",
     "status": "completed"
    },
    "tags": []
   },
   "outputs": [],
   "source": [
    "#hide\n",
    "#Koreliacijų koeficientai"
   ]
  },
  {
   "cell_type": "code",
   "execution_count": 10,
   "id": "seeing-celebration",
   "metadata": {
    "execution": {
     "iopub.execute_input": "2021-06-25T02:01:39.016322Z",
     "iopub.status.busy": "2021-06-25T02:01:39.007035Z",
     "iopub.status.idle": "2021-06-25T02:01:39.028358Z",
     "shell.execute_reply": "2021-06-25T02:01:39.028764Z"
    },
    "papermill": {
     "duration": 0.043985,
     "end_time": "2021-06-25T02:01:39.028891",
     "exception": false,
     "start_time": "2021-06-25T02:01:38.984906",
     "status": "completed"
    },
    "tags": []
   },
   "outputs": [],
   "source": [
    "#hide_input\n",
    "#sum_corr = df_all_mrk.corr().sum().sort_values(ascending=True).index.values\n",
    "#df_all_mrk[sum_corr].corr()"
   ]
  },
  {
   "cell_type": "code",
   "execution_count": 11,
   "id": "other-painting",
   "metadata": {
    "execution": {
     "iopub.execute_input": "2021-06-25T02:01:39.062223Z",
     "iopub.status.busy": "2021-06-25T02:01:39.061727Z",
     "iopub.status.idle": "2021-06-25T02:01:39.083613Z",
     "shell.execute_reply": "2021-06-25T02:01:39.084072Z"
    },
    "papermill": {
     "duration": 0.042025,
     "end_time": "2021-06-25T02:01:39.084211",
     "exception": false,
     "start_time": "2021-06-25T02:01:39.042186",
     "status": "completed"
    },
    "tags": []
   },
   "outputs": [],
   "source": [
    "#hide\n",
    "#Koreliacijos matrica. "
   ]
  },
  {
   "cell_type": "code",
   "execution_count": 12,
   "id": "modular-magnitude",
   "metadata": {
    "execution": {
     "iopub.execute_input": "2021-06-25T02:01:39.114769Z",
     "iopub.status.busy": "2021-06-25T02:01:39.114273Z",
     "iopub.status.idle": "2021-06-25T02:01:39.139592Z",
     "shell.execute_reply": "2021-06-25T02:01:39.139129Z"
    },
    "papermill": {
     "duration": 0.041078,
     "end_time": "2021-06-25T02:01:39.139712",
     "exception": false,
     "start_time": "2021-06-25T02:01:39.098634",
     "status": "completed"
    },
    "tags": []
   },
   "outputs": [],
   "source": [
    "#hide_input\n",
    "#plt.figure(figsize=(15, 8))\n",
    "#sns.heatmap(df_all_mrk[sum_corr].corr(), annot=True, cmap=\"BrBG\");\n",
    "#plt.savefig('corr_matrix_all.eps', format='eps')"
   ]
  },
  {
   "cell_type": "code",
   "execution_count": null,
   "id": "original-senator",
   "metadata": {
    "papermill": {
     "duration": 0.013376,
     "end_time": "2021-06-25T02:01:39.166463",
     "exception": false,
     "start_time": "2021-06-25T02:01:39.153087",
     "status": "completed"
    },
    "tags": []
   },
   "outputs": [],
   "source": []
  },
  {
   "cell_type": "code",
   "execution_count": null,
   "id": "saving-secretariat",
   "metadata": {
    "papermill": {
     "duration": 0.01297,
     "end_time": "2021-06-25T02:01:39.192541",
     "exception": false,
     "start_time": "2021-06-25T02:01:39.179571",
     "status": "completed"
    },
    "tags": []
   },
   "outputs": [],
   "source": []
  }
 ],
 "metadata": {
  "kernelspec": {
   "display_name": "Python 3",
   "language": "python",
   "name": "python3"
  },
  "language_info": {
   "codemirror_mode": {
    "name": "ipython",
    "version": 3
   },
   "file_extension": ".py",
   "mimetype": "text/x-python",
   "name": "python",
   "nbconvert_exporter": "python",
   "pygments_lexer": "ipython3",
   "version": "3.6.13"
  },
  "papermill": {
   "default_parameters": {},
   "duration": 17.044945,
   "end_time": "2021-06-25T02:01:39.714358",
   "environment_variables": {},
   "exception": null,
   "input_path": "App-Correlation_charts.ipynb",
   "output_path": "App-Correlation_charts.ipynb",
   "parameters": {},
   "start_time": "2021-06-25T02:01:22.669413",
   "version": "2.2.2"
  }
 },
 "nbformat": 4,
 "nbformat_minor": 5
}