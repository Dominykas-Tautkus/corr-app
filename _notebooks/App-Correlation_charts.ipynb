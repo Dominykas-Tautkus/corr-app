{
 "cells": [
  {
   "cell_type": "markdown",
   "id": "touched-facility",
   "metadata": {
    "papermill": {
     "duration": 0.032304,
     "end_time": "2021-03-19T01:48:10.871156",
     "exception": false,
     "start_time": "2021-03-19T01:48:10.838852",
     "status": "completed"
    },
    "tags": []
   },
   "source": [
    "# Koreliacijų matrica\n",
    "> Išplėstinė koreliacijų matrica. \n",
    "\n",
    "- toc: true \n",
    "- badges: true\n",
    "- comments: false\n",
    "- categories: [Dominykas Tautkus]\n",
    "- image: images/matrix.png"
   ]
  },
  {
   "cell_type": "code",
   "execution_count": null,
   "id": "premium-weekend",
   "metadata": {
    "papermill": {
     "duration": 0.029894,
     "end_time": "2021-03-19T01:48:10.916695",
     "exception": false,
     "start_time": "2021-03-19T01:48:10.886801",
     "status": "completed"
    },
    "tags": []
   },
   "outputs": [],
   "source": []
  },
  {
   "cell_type": "code",
   "execution_count": 1,
   "id": "vertical-rebate",
   "metadata": {
    "execution": {
     "iopub.execute_input": "2021-03-19T01:48:11.070789Z",
     "iopub.status.busy": "2021-03-19T01:48:11.068463Z",
     "iopub.status.idle": "2021-03-19T01:48:11.079571Z",
     "shell.execute_reply": "2021-03-19T01:48:11.080045Z"
    },
    "papermill": {
     "duration": 0.068613,
     "end_time": "2021-03-19T01:48:11.080203",
     "exception": false,
     "start_time": "2021-03-19T01:48:11.011590",
     "status": "completed"
    },
    "tags": []
   },
   "outputs": [],
   "source": [
    "#hide\n",
    "%load_ext autoreload\n",
    "%autoreload 2"
   ]
  },
  {
   "cell_type": "code",
   "execution_count": 2,
   "id": "overall-advancement",
   "metadata": {
    "execution": {
     "iopub.execute_input": "2021-03-19T01:48:11.875724Z",
     "iopub.status.busy": "2021-03-19T01:48:11.875146Z",
     "iopub.status.idle": "2021-03-19T01:48:14.683896Z",
     "shell.execute_reply": "2021-03-19T01:48:14.683435Z"
    },
    "papermill": {
     "duration": 3.589394,
     "end_time": "2021-03-19T01:48:14.684019",
     "exception": false,
     "start_time": "2021-03-19T01:48:11.094625",
     "status": "completed"
    },
    "tags": []
   },
   "outputs": [],
   "source": [
    "#hide\n",
    "from scripts.read_data import read_api\n",
    "from IPython.display import HTML\n",
    "import plotly.graph_objects as go\n"
   ]
  },
  {
   "cell_type": "code",
   "execution_count": 3,
   "id": "light-crazy",
   "metadata": {
    "execution": {
     "iopub.execute_input": "2021-03-19T01:48:14.719420Z",
     "iopub.status.busy": "2021-03-19T01:48:14.718890Z",
     "iopub.status.idle": "2021-03-19T01:48:14.739651Z",
     "shell.execute_reply": "2021-03-19T01:48:14.740070Z"
    },
    "papermill": {
     "duration": 0.044427,
     "end_time": "2021-03-19T01:48:14.740197",
     "exception": false,
     "start_time": "2021-03-19T01:48:14.695770",
     "status": "completed"
    },
    "tags": []
   },
   "outputs": [],
   "source": [
    "#hide\n",
    "### ICO koreliacija"
   ]
  },
  {
   "cell_type": "code",
   "execution_count": 4,
   "id": "likely-bahrain",
   "metadata": {
    "execution": {
     "iopub.execute_input": "2021-03-19T01:48:14.814221Z",
     "iopub.status.busy": "2021-03-19T01:48:14.812841Z",
     "iopub.status.idle": "2021-03-19T01:48:17.687291Z",
     "shell.execute_reply": "2021-03-19T01:48:17.686756Z"
    },
    "papermill": {
     "duration": 2.92706,
     "end_time": "2021-03-19T01:48:17.687463",
     "exception": false,
     "start_time": "2021-03-19T01:48:14.760403",
     "status": "completed"
    },
    "tags": []
   },
   "outputs": [],
   "source": [
    "#hide\n",
    "import matplotlib.pyplot as plt\n",
    "import numpy as np\n",
    "import pandas as pd\n",
    "import seaborn as sns\n",
    "import matplotlib.pyplot as plt \n",
    "import matplotlib.dates as mdates\n",
    "import matplotlib.pyplot as plt"
   ]
  },
  {
   "cell_type": "code",
   "execution_count": 5,
   "id": "superior-blanket",
   "metadata": {
    "execution": {
     "iopub.execute_input": "2021-03-19T01:48:17.729592Z",
     "iopub.status.busy": "2021-03-19T01:48:17.720198Z",
     "iopub.status.idle": "2021-03-19T01:48:31.053059Z",
     "shell.execute_reply": "2021-03-19T01:48:31.052103Z"
    },
    "papermill": {
     "duration": 13.352378,
     "end_time": "2021-03-19T01:48:31.053185",
     "exception": false,
     "start_time": "2021-03-19T01:48:17.700807",
     "status": "completed"
    },
    "tags": []
   },
   "outputs": [
    {
     "name": "stderr",
     "output_type": "stream",
     "text": [
      "/home/runner/work/corr-app/corr-app/_notebooks/scripts/read_data.py:187: SettingWithCopyWarning:\n",
      "\n",
      "\n",
      "A value is trying to be set on a copy of a slice from a DataFrame.\n",
      "Try using .loc[row_indexer,col_indexer] = value instead\n",
      "\n",
      "See the caveats in the documentation: https://pandas.pydata.org/pandas-docs/stable/user_guide/indexing.html#returning-a-view-versus-a-copy\n",
      "\n"
     ]
    },
    {
     "name": "stderr",
     "output_type": "stream",
     "text": [
      "/home/runner/work/corr-app/corr-app/_notebooks/scripts/read_data.py:215: SettingWithCopyWarning:\n",
      "\n",
      "\n",
      "A value is trying to be set on a copy of a slice from a DataFrame.\n",
      "Try using .loc[row_indexer,col_indexer] = value instead\n",
      "\n",
      "See the caveats in the documentation: https://pandas.pydata.org/pandas-docs/stable/user_guide/indexing.html#returning-a-view-versus-a-copy\n",
      "\n"
     ]
    }
   ],
   "source": [
    "#hide\n",
    "df_all = read_api()\n",
    "#df_all = df_all.drop(['SP500', 'XAU', 'ETH', 'BTC'], axis=1)\n",
    "\n"
   ]
  },
  {
   "cell_type": "code",
   "execution_count": 6,
   "id": "mature-alert",
   "metadata": {
    "execution": {
     "iopub.execute_input": "2021-03-19T01:48:31.096118Z",
     "iopub.status.busy": "2021-03-19T01:48:31.087086Z",
     "iopub.status.idle": "2021-03-19T01:48:31.120612Z",
     "shell.execute_reply": "2021-03-19T01:48:31.119890Z"
    },
    "papermill": {
     "duration": 0.051916,
     "end_time": "2021-03-19T01:48:31.120823",
     "exception": false,
     "start_time": "2021-03-19T01:48:31.068907",
     "status": "completed"
    },
    "tags": []
   },
   "outputs": [],
   "source": [
    "#hide_input\n",
    "sum_corr = df_all.corr().sum().sort_values(ascending=True).index.values\n",
    "#df_all[sum_corr].corr()"
   ]
  },
  {
   "cell_type": "markdown",
   "id": "complex-syndicate",
   "metadata": {
    "papermill": {
     "duration": 0.01351,
     "end_time": "2021-03-19T01:48:31.149089",
     "exception": false,
     "start_time": "2021-03-19T01:48:31.135579",
     "status": "completed"
    },
    "tags": []
   },
   "source": [
    "## Išplėstinė koreliacijų matrica. "
   ]
  },
  {
   "cell_type": "code",
   "execution_count": 7,
   "id": "atomic-omaha",
   "metadata": {
    "execution": {
     "iopub.execute_input": "2021-03-19T01:48:31.180898Z",
     "iopub.status.busy": "2021-03-19T01:48:31.180227Z",
     "iopub.status.idle": "2021-03-19T01:48:32.798393Z",
     "shell.execute_reply": "2021-03-19T01:48:32.797901Z"
    },
    "papermill": {
     "duration": 1.63581,
     "end_time": "2021-03-19T01:48:32.798611",
     "exception": false,
     "start_time": "2021-03-19T01:48:31.162801",
     "status": "completed"
    },
    "tags": []
   },
   "outputs": [
    {
     "data": {
      "image/png": "[encoded data removed]",
      "text/plain": [
       "<Figure size 1080x792 with 2 Axes>"
      ]
     },
     "metadata": {
      "needs_background": "light"
     },
     "output_type": "display_data"
    }
   ],
   "source": [
    "#hide_input\n",
    "plt.figure(figsize=(15, 11))\n",
    "sns.heatmap(df_all[sum_corr].corr(), annot=True, cmap=\"cubehelix\") \n",
    "sns.set(font_scale=1.25)\n",
    "plt.savefig('corr_matrix.png', format='eps')"
   ]
  },
  {
   "cell_type": "code",
   "execution_count": 8,
   "id": "arbitrary-sullivan",
   "metadata": {
    "execution": {
     "iopub.execute_input": "2021-03-19T01:48:32.838255Z",
     "iopub.status.busy": "2021-03-19T01:48:32.836446Z",
     "iopub.status.idle": "2021-03-19T01:48:32.867208Z",
     "shell.execute_reply": "2021-03-19T01:48:32.867713Z"
    },
    "papermill": {
     "duration": 0.052309,
     "end_time": "2021-03-19T01:48:32.867886",
     "exception": false,
     "start_time": "2021-03-19T01:48:32.815577",
     "status": "completed"
    },
    "tags": []
   },
   "outputs": [],
   "source": [
    "#hide\n",
    "#df_all_mrk = read_api()"
   ]
  },
  {
   "cell_type": "code",
   "execution_count": 9,
   "id": "delayed-adapter",
   "metadata": {
    "execution": {
     "iopub.execute_input": "2021-03-19T01:48:32.908131Z",
     "iopub.status.busy": "2021-03-19T01:48:32.907503Z",
     "iopub.status.idle": "2021-03-19T01:48:32.935529Z",
     "shell.execute_reply": "2021-03-19T01:48:32.934908Z"
    },
    "papermill": {
     "duration": 0.050497,
     "end_time": "2021-03-19T01:48:32.935677",
     "exception": false,
     "start_time": "2021-03-19T01:48:32.885180",
     "status": "completed"
    },
    "tags": []
   },
   "outputs": [],
   "source": [
    "#hide\n",
    "#Koreliacijų koeficientai"
   ]
  },
  {
   "cell_type": "code",
   "execution_count": 10,
   "id": "seeing-celebration",
   "metadata": {
    "execution": {
     "iopub.execute_input": "2021-03-19T01:48:32.981929Z",
     "iopub.status.busy": "2021-03-19T01:48:32.981025Z",
     "iopub.status.idle": "2021-03-19T01:48:33.006582Z",
     "shell.execute_reply": "2021-03-19T01:48:33.007536Z"
    },
    "papermill": {
     "duration": 0.05221,
     "end_time": "2021-03-19T01:48:33.007691",
     "exception": false,
     "start_time": "2021-03-19T01:48:32.955481",
     "status": "completed"
    },
    "tags": []
   },
   "outputs": [],
   "source": [
    "#hide_input\n",
    "#sum_corr = df_all_mrk.corr().sum().sort_values(ascending=True).index.values\n",
    "#df_all_mrk[sum_corr].corr()"
   ]
  },
  {
   "cell_type": "code",
   "execution_count": 11,
   "id": "other-painting",
   "metadata": {
    "execution": {
     "iopub.execute_input": "2021-03-19T01:48:33.051282Z",
     "iopub.status.busy": "2021-03-19T01:48:33.046074Z",
     "iopub.status.idle": "2021-03-19T01:48:33.072174Z",
     "shell.execute_reply": "2021-03-19T01:48:33.072686Z"
    },
    "papermill": {
     "duration": 0.048102,
     "end_time": "2021-03-19T01:48:33.072835",
     "exception": false,
     "start_time": "2021-03-19T01:48:33.024733",
     "status": "completed"
    },
    "tags": []
   },
   "outputs": [],
   "source": [
    "#hide\n",
    "#Koreliacijos matrica. "
   ]
  },
  {
   "cell_type": "code",
   "execution_count": 12,
   "id": "modular-magnitude",
   "metadata": {
    "execution": {
     "iopub.execute_input": "2021-03-19T01:48:33.108414Z",
     "iopub.status.busy": "2021-03-19T01:48:33.107832Z",
     "iopub.status.idle": "2021-03-19T01:48:33.134566Z",
     "shell.execute_reply": "2021-03-19T01:48:33.135227Z"
    },
    "papermill": {
     "duration": 0.045359,
     "end_time": "2021-03-19T01:48:33.135421",
     "exception": false,
     "start_time": "2021-03-19T01:48:33.090062",
     "status": "completed"
    },
    "tags": []
   },
   "outputs": [],
   "source": [
    "#hide_input\n",
    "#plt.figure(figsize=(15, 8))\n",
    "#sns.heatmap(df_all_mrk[sum_corr].corr(), annot=True, cmap=\"BrBG\");\n",
    "#plt.savefig('corr_matrix_all.eps', format='eps')"
   ]
  },
  {
   "cell_type": "code",
   "execution_count": null,
   "id": "original-senator",
   "metadata": {
    "papermill": {
     "duration": 0.015838,
     "end_time": "2021-03-19T01:48:33.168125",
     "exception": false,
     "start_time": "2021-03-19T01:48:33.152287",
     "status": "completed"
    },
    "tags": []
   },
   "outputs": [],
   "source": []
  },
  {
   "cell_type": "code",
   "execution_count": null,
   "id": "saving-secretariat",
   "metadata": {
    "papermill": {
     "duration": 0.015867,
     "end_time": "2021-03-19T01:48:33.200284",
     "exception": false,
     "start_time": "2021-03-19T01:48:33.184417",
     "status": "completed"
    },
    "tags": []
   },
   "outputs": [],
   "source": []
  }
 ],
 "metadata": {
  "kernelspec": {
   "display_name": "Python 3",
   "language": "python",
   "name": "python3"
  },
  "language_info": {
   "codemirror_mode": {
    "name": "ipython",
    "version": 3
   },
   "file_extension": ".py",
   "mimetype": "text/x-python",
   "name": "python",
   "nbconvert_exporter": "python",
   "pygments_lexer": "ipython3",
   "version": "3.6.13"
  },
  "papermill": {
   "default_parameters": {},
   "duration": 24.864135,
   "end_time": "2021-03-19T01:48:33.622534",
   "environment_variables": {},
   "exception": null,
   "input_path": "App-Correlation_charts.ipynb",
   "output_path": "App-Correlation_charts.ipynb",
   "parameters": {},
   "start_time": "2021-03-19T01:48:08.758399",
   "version": "2.2.2"
  }
 },
 "nbformat": 4,
 "nbformat_minor": 5
}