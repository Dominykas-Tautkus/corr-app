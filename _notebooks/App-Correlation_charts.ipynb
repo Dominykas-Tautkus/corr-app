{
 "cells": [
  {
   "cell_type": "markdown",
   "id": "touched-facility",
   "metadata": {
    "papermill": {
     "duration": 0.017531,
     "end_time": "2021-05-29T03:56:00.972500",
     "exception": false,
     "start_time": "2021-05-29T03:56:00.954969",
     "status": "completed"
    },
    "tags": []
   },
   "source": [
    "# Koreliacijų matrica\n",
    "> Išplėstinė koreliacijų matrica. \n",
    "\n",
    "- toc: true \n",
    "- badges: true\n",
    "- comments: false\n",
    "- categories: [Dominykas Tautkus]\n",
    "- image: images/matrix.png"
   ]
  },
  {
   "cell_type": "code",
   "execution_count": null,
   "id": "premium-weekend",
   "metadata": {
    "papermill": {
     "duration": 0.012116,
     "end_time": "2021-05-29T03:56:00.998100",
     "exception": false,
     "start_time": "2021-05-29T03:56:00.985984",
     "status": "completed"
    },
    "tags": []
   },
   "outputs": [],
   "source": []
  },
  {
   "cell_type": "code",
   "execution_count": 1,
   "id": "vertical-rebate",
   "metadata": {
    "execution": {
     "iopub.execute_input": "2021-05-29T03:56:01.033631Z",
     "iopub.status.busy": "2021-05-29T03:56:01.032939Z",
     "iopub.status.idle": "2021-05-29T03:56:01.044056Z",
     "shell.execute_reply": "2021-05-29T03:56:01.043283Z"
    },
    "papermill": {
     "duration": 0.034341,
     "end_time": "2021-05-29T03:56:01.044209",
     "exception": false,
     "start_time": "2021-05-29T03:56:01.009868",
     "status": "completed"
    },
    "tags": []
   },
   "outputs": [],
   "source": [
    "#hide\n",
    "%load_ext autoreload\n",
    "%autoreload 2"
   ]
  },
  {
   "cell_type": "code",
   "execution_count": 2,
   "id": "overall-advancement",
   "metadata": {
    "execution": {
     "iopub.execute_input": "2021-05-29T03:56:01.076435Z",
     "iopub.status.busy": "2021-05-29T03:56:01.075745Z",
     "iopub.status.idle": "2021-05-29T03:56:02.516005Z",
     "shell.execute_reply": "2021-05-29T03:56:02.515456Z"
    },
    "papermill": {
     "duration": 1.460329,
     "end_time": "2021-05-29T03:56:02.516145",
     "exception": false,
     "start_time": "2021-05-29T03:56:01.055816",
     "status": "completed"
    },
    "tags": []
   },
   "outputs": [],
   "source": [
    "#hide\n",
    "from scripts.read_data import read_api\n",
    "from IPython.display import HTML\n",
    "import plotly.graph_objects as go\n"
   ]
  },
  {
   "cell_type": "code",
   "execution_count": 3,
   "id": "light-crazy",
   "metadata": {
    "execution": {
     "iopub.execute_input": "2021-05-29T03:56:02.547990Z",
     "iopub.status.busy": "2021-05-29T03:56:02.546559Z",
     "iopub.status.idle": "2021-05-29T03:56:02.568460Z",
     "shell.execute_reply": "2021-05-29T03:56:02.568911Z"
    },
    "papermill": {
     "duration": 0.039255,
     "end_time": "2021-05-29T03:56:02.569055",
     "exception": false,
     "start_time": "2021-05-29T03:56:02.529800",
     "status": "completed"
    },
    "tags": []
   },
   "outputs": [],
   "source": [
    "#hide\n",
    "### ICO koreliacija"
   ]
  },
  {
   "cell_type": "code",
   "execution_count": 4,
   "id": "likely-bahrain",
   "metadata": {
    "execution": {
     "iopub.execute_input": "2021-05-29T03:56:02.599802Z",
     "iopub.status.busy": "2021-05-29T03:56:02.599204Z",
     "iopub.status.idle": "2021-05-29T03:56:03.471773Z",
     "shell.execute_reply": "2021-05-29T03:56:03.471249Z"
    },
    "papermill": {
     "duration": 0.889637,
     "end_time": "2021-05-29T03:56:03.471927",
     "exception": false,
     "start_time": "2021-05-29T03:56:02.582290",
     "status": "completed"
    },
    "tags": []
   },
   "outputs": [],
   "source": [
    "#hide\n",
    "import matplotlib.pyplot as plt\n",
    "import numpy as np\n",
    "import pandas as pd\n",
    "import seaborn as sns\n",
    "import matplotlib.pyplot as plt \n",
    "import matplotlib.dates as mdates\n",
    "import matplotlib.pyplot as plt"
   ]
  },
  {
   "cell_type": "code",
   "execution_count": 5,
   "id": "superior-blanket",
   "metadata": {
    "execution": {
     "iopub.execute_input": "2021-05-29T03:56:03.508722Z",
     "iopub.status.busy": "2021-05-29T03:56:03.506567Z",
     "iopub.status.idle": "2021-05-29T03:56:16.681218Z",
     "shell.execute_reply": "2021-05-29T03:56:16.680580Z"
    },
    "papermill": {
     "duration": 13.196241,
     "end_time": "2021-05-29T03:56:16.681349",
     "exception": false,
     "start_time": "2021-05-29T03:56:03.485108",
     "status": "completed"
    },
    "tags": []
   },
   "outputs": [
    {
     "name": "stderr",
     "output_type": "stream",
     "text": [
      "/home/runner/work/corr-app/corr-app/_notebooks/scripts/read_data.py:187: SettingWithCopyWarning:\n",
      "\n",
      "\n",
      "A value is trying to be set on a copy of a slice from a DataFrame.\n",
      "Try using .loc[row_indexer,col_indexer] = value instead\n",
      "\n",
      "See the caveats in the documentation: https://pandas.pydata.org/pandas-docs/stable/user_guide/indexing.html#returning-a-view-versus-a-copy\n",
      "\n"
     ]
    },
    {
     "name": "stderr",
     "output_type": "stream",
     "text": [
      "/home/runner/work/corr-app/corr-app/_notebooks/scripts/read_data.py:215: SettingWithCopyWarning:\n",
      "\n",
      "\n",
      "A value is trying to be set on a copy of a slice from a DataFrame.\n",
      "Try using .loc[row_indexer,col_indexer] = value instead\n",
      "\n",
      "See the caveats in the documentation: https://pandas.pydata.org/pandas-docs/stable/user_guide/indexing.html#returning-a-view-versus-a-copy\n",
      "\n"
     ]
    }
   ],
   "source": [
    "#hide\n",
    "df_all = read_api()\n",
    "#df_all = df_all.drop(['SP500', 'XAU', 'ETH', 'BTC'], axis=1)\n",
    "\n"
   ]
  },
  {
   "cell_type": "code",
   "execution_count": 6,
   "id": "mature-alert",
   "metadata": {
    "execution": {
     "iopub.execute_input": "2021-05-29T03:56:16.714303Z",
     "iopub.status.busy": "2021-05-29T03:56:16.713553Z",
     "iopub.status.idle": "2021-05-29T03:56:16.744373Z",
     "shell.execute_reply": "2021-05-29T03:56:16.743831Z"
    },
    "papermill": {
     "duration": 0.04827,
     "end_time": "2021-05-29T03:56:16.744573",
     "exception": false,
     "start_time": "2021-05-29T03:56:16.696303",
     "status": "completed"
    },
    "tags": []
   },
   "outputs": [],
   "source": [
    "#hide_input\n",
    "sum_corr = df_all.corr().sum().sort_values(ascending=True).index.values\n",
    "#df_all[sum_corr].corr()"
   ]
  },
  {
   "cell_type": "markdown",
   "id": "complex-syndicate",
   "metadata": {
    "papermill": {
     "duration": 0.015167,
     "end_time": "2021-05-29T03:56:16.773284",
     "exception": false,
     "start_time": "2021-05-29T03:56:16.758117",
     "status": "completed"
    },
    "tags": []
   },
   "source": [
    "## Išplėstinė koreliacijų matrica. "
   ]
  },
  {
   "cell_type": "code",
   "execution_count": 7,
   "id": "atomic-omaha",
   "metadata": {
    "execution": {
     "iopub.execute_input": "2021-05-29T03:56:16.806822Z",
     "iopub.status.busy": "2021-05-29T03:56:16.806243Z",
     "iopub.status.idle": "2021-05-29T03:56:18.417098Z",
     "shell.execute_reply": "2021-05-29T03:56:18.416577Z"
    },
    "papermill": {
     "duration": 1.629281,
     "end_time": "2021-05-29T03:56:18.417217",
     "exception": false,
     "start_time": "2021-05-29T03:56:16.787936",
     "status": "completed"
    },
    "tags": []
   },
   "outputs": [
    {
     "data": {
      "image/png": "[encoded data removed]",
      "text/plain": [
       "<Figure size 1080x792 with 2 Axes>"
      ]
     },
     "metadata": {
      "needs_background": "light"
     },
     "output_type": "display_data"
    }
   ],
   "source": [
    "#hide_input\n",
    "plt.figure(figsize=(15, 11))\n",
    "sns.heatmap(df_all[sum_corr].corr(), annot=True, cmap=\"cubehelix\") \n",
    "sns.set(font_scale=1.25)\n",
    "plt.savefig('corr_matrix.png', format='eps')"
   ]
  },
  {
   "cell_type": "code",
   "execution_count": 8,
   "id": "arbitrary-sullivan",
   "metadata": {
    "execution": {
     "iopub.execute_input": "2021-05-29T03:56:18.455233Z",
     "iopub.status.busy": "2021-05-29T03:56:18.453880Z",
     "iopub.status.idle": "2021-05-29T03:56:18.482719Z",
     "shell.execute_reply": "2021-05-29T03:56:18.482270Z"
    },
    "papermill": {
     "duration": 0.050062,
     "end_time": "2021-05-29T03:56:18.482870",
     "exception": false,
     "start_time": "2021-05-29T03:56:18.432808",
     "status": "completed"
    },
    "tags": []
   },
   "outputs": [],
   "source": [
    "#hide\n",
    "#df_all_mrk = read_api()"
   ]
  },
  {
   "cell_type": "code",
   "execution_count": 9,
   "id": "delayed-adapter",
   "metadata": {
    "execution": {
     "iopub.execute_input": "2021-05-29T03:56:18.518634Z",
     "iopub.status.busy": "2021-05-29T03:56:18.518096Z",
     "iopub.status.idle": "2021-05-29T03:56:18.543986Z",
     "shell.execute_reply": "2021-05-29T03:56:18.544609Z"
    },
    "papermill": {
     "duration": 0.047045,
     "end_time": "2021-05-29T03:56:18.544737",
     "exception": false,
     "start_time": "2021-05-29T03:56:18.497692",
     "status": "completed"
    },
    "tags": []
   },
   "outputs": [],
   "source": [
    "#hide\n",
    "#Koreliacijų koeficientai"
   ]
  },
  {
   "cell_type": "code",
   "execution_count": 10,
   "id": "seeing-celebration",
   "metadata": {
    "execution": {
     "iopub.execute_input": "2021-05-29T03:56:18.581094Z",
     "iopub.status.busy": "2021-05-29T03:56:18.580371Z",
     "iopub.status.idle": "2021-05-29T03:56:18.610831Z",
     "shell.execute_reply": "2021-05-29T03:56:18.610299Z"
    },
    "papermill": {
     "duration": 0.050145,
     "end_time": "2021-05-29T03:56:18.610962",
     "exception": false,
     "start_time": "2021-05-29T03:56:18.560817",
     "status": "completed"
    },
    "tags": []
   },
   "outputs": [],
   "source": [
    "#hide_input\n",
    "#sum_corr = df_all_mrk.corr().sum().sort_values(ascending=True).index.values\n",
    "#df_all_mrk[sum_corr].corr()"
   ]
  },
  {
   "cell_type": "code",
   "execution_count": 11,
   "id": "other-painting",
   "metadata": {
    "execution": {
     "iopub.execute_input": "2021-05-29T03:56:18.649781Z",
     "iopub.status.busy": "2021-05-29T03:56:18.649187Z",
     "iopub.status.idle": "2021-05-29T03:56:18.675886Z",
     "shell.execute_reply": "2021-05-29T03:56:18.675302Z"
    },
    "papermill": {
     "duration": 0.049055,
     "end_time": "2021-05-29T03:56:18.676018",
     "exception": false,
     "start_time": "2021-05-29T03:56:18.626963",
     "status": "completed"
    },
    "tags": []
   },
   "outputs": [],
   "source": [
    "#hide\n",
    "#Koreliacijos matrica. "
   ]
  },
  {
   "cell_type": "code",
   "execution_count": 12,
   "id": "modular-magnitude",
   "metadata": {
    "execution": {
     "iopub.execute_input": "2021-05-29T03:56:18.712191Z",
     "iopub.status.busy": "2021-05-29T03:56:18.711619Z",
     "iopub.status.idle": "2021-05-29T03:56:18.738159Z",
     "shell.execute_reply": "2021-05-29T03:56:18.737735Z"
    },
    "papermill": {
     "duration": 0.046246,
     "end_time": "2021-05-29T03:56:18.738262",
     "exception": false,
     "start_time": "2021-05-29T03:56:18.692016",
     "status": "completed"
    },
    "tags": []
   },
   "outputs": [],
   "source": [
    "#hide_input\n",
    "#plt.figure(figsize=(15, 8))\n",
    "#sns.heatmap(df_all_mrk[sum_corr].corr(), annot=True, cmap=\"BrBG\");\n",
    "#plt.savefig('corr_matrix_all.eps', format='eps')"
   ]
  },
  {
   "cell_type": "code",
   "execution_count": null,
   "id": "original-senator",
   "metadata": {
    "papermill": {
     "duration": 0.016402,
     "end_time": "2021-05-29T03:56:18.769070",
     "exception": false,
     "start_time": "2021-05-29T03:56:18.752668",
     "status": "completed"
    },
    "tags": []
   },
   "outputs": [],
   "source": []
  },
  {
   "cell_type": "code",
   "execution_count": null,
   "id": "saving-secretariat",
   "metadata": {
    "papermill": {
     "duration": 0.016519,
     "end_time": "2021-05-29T03:56:18.800487",
     "exception": false,
     "start_time": "2021-05-29T03:56:18.783968",
     "status": "completed"
    },
    "tags": []
   },
   "outputs": [],
   "source": []
  }
 ],
 "metadata": {
  "kernelspec": {
   "display_name": "Python 3",
   "language": "python",
   "name": "python3"
  },
  "language_info": {
   "codemirror_mode": {
    "name": "ipython",
    "version": 3
   },
   "file_extension": ".py",
   "mimetype": "text/x-python",
   "name": "python",
   "nbconvert_exporter": "python",
   "pygments_lexer": "ipython3",
   "version": "3.6.13"
  },
  "papermill": {
   "default_parameters": {},
   "duration": 20.301855,
   "end_time": "2021-05-29T03:56:20.029248",
   "environment_variables": {},
   "exception": null,
   "input_path": "App-Correlation_charts.ipynb",
   "output_path": "App-Correlation_charts.ipynb",
   "parameters": {},
   "start_time": "2021-05-29T03:55:59.727393",
   "version": "2.2.2"
  }
 },
 "nbformat": 4,
 "nbformat_minor": 5
}