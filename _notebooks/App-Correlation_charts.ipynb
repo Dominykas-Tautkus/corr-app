{
 "cells": [
  {
   "cell_type": "markdown",
   "metadata": {},
   "source": [
    "# ICO koreliacija \n",
    "> Koreliacijų matrica NEO, EOS, ADA, LSK, TRX, IOTA\n",
    "\n",
    "- toc: true \n",
    "- badges: true\n",
    "- comments: false\n",
    "- categories: [jupyter]\n",
    "- image: images/screen55.png"
   ]
  },
  {
   "cell_type": "code",
   "execution_count": 1,
   "metadata": {},
   "outputs": [],
   "source": [
    "#hide\n",
    "%load_ext autoreload\n",
    "%autoreload 2"
   ]
  },
  {
   "cell_type": "code",
   "execution_count": 2,
   "metadata": {},
   "outputs": [],
   "source": [
    "#hide\n",
    "from scripts.read_data import read_api\n",
    "from IPython.display import HTML\n",
    "import plotly.graph_objects as go\n"
   ]
  },
  {
   "cell_type": "markdown",
   "metadata": {},
   "source": [
    "### ICO koreliacija"
   ]
  },
  {
   "cell_type": "code",
   "execution_count": 3,
   "metadata": {},
   "outputs": [],
   "source": [
    "#hide\n",
    "import matplotlib.pyplot as plt\n",
    "import numpy as np\n",
    "import pandas as pd\n",
    "import seaborn as sns\n",
    "import matplotlib.pyplot as plt \n",
    "import matplotlib.dates as mdates\n",
    "import matplotlib.pyplot as plt"
   ]
  },
  {
   "cell_type": "code",
   "execution_count": 4,
   "metadata": {},
   "outputs": [
    {
     "name": "stderr",
     "output_type": "stream",
     "text": [
      "/Users/Dom/Documents/Bachelor/corr-app/_notebooks/scripts/read_data.py:153: SettingWithCopyWarning: \n",
      "A value is trying to be set on a copy of a slice from a DataFrame.\n",
      "Try using .loc[row_indexer,col_indexer] = value instead\n",
      "\n",
      "See the caveats in the documentation: https://pandas.pydata.org/pandas-docs/stable/user_guide/indexing.html#returning-a-view-versus-a-copy\n",
      "  df_final['currency'] = df_final.apply(lambda row: fsym, axis=1)\n"
     ]
    }
   ],
   "source": [
    "#hide\n",
    "df_all = read_api()"
   ]
  },
  {
   "cell_type": "markdown",
   "metadata": {},
   "source": [
    "Koreliacijų koeficientai"
   ]
  },
  {
   "cell_type": "code",
   "execution_count": 5,
   "metadata": {},
   "outputs": [
    {
     "data": {
      "text/html": [
       "<div>\n",
       "<style scoped>\n",
       "    .dataframe tbody tr th:only-of-type {\n",
       "        vertical-align: middle;\n",
       "    }\n",
       "\n",
       "    .dataframe tbody tr th {\n",
       "        vertical-align: top;\n",
       "    }\n",
       "\n",
       "    .dataframe thead th {\n",
       "        text-align: right;\n",
       "    }\n",
       "</style>\n",
       "<table border=\"1\" class=\"dataframe\">\n",
       "  <thead>\n",
       "    <tr style=\"text-align: right;\">\n",
       "      <th>currency</th>\n",
       "      <th>XAU</th>\n",
       "      <th>SP500</th>\n",
       "      <th>BTC</th>\n",
       "      <th>LSK</th>\n",
       "      <th>EOS</th>\n",
       "      <th>TRX</th>\n",
       "      <th>NEO</th>\n",
       "      <th>XRP</th>\n",
       "      <th>ADA</th>\n",
       "      <th>ETH</th>\n",
       "    </tr>\n",
       "    <tr>\n",
       "      <th>currency</th>\n",
       "      <th></th>\n",
       "      <th></th>\n",
       "      <th></th>\n",
       "      <th></th>\n",
       "      <th></th>\n",
       "      <th></th>\n",
       "      <th></th>\n",
       "      <th></th>\n",
       "      <th></th>\n",
       "      <th></th>\n",
       "    </tr>\n",
       "  </thead>\n",
       "  <tbody>\n",
       "    <tr>\n",
       "      <th>XAU</th>\n",
       "      <td>1.000000</td>\n",
       "      <td>0.085614</td>\n",
       "      <td>0.111681</td>\n",
       "      <td>0.012608</td>\n",
       "      <td>0.050921</td>\n",
       "      <td>0.049798</td>\n",
       "      <td>0.025487</td>\n",
       "      <td>0.037709</td>\n",
       "      <td>0.029265</td>\n",
       "      <td>0.057681</td>\n",
       "    </tr>\n",
       "    <tr>\n",
       "      <th>SP500</th>\n",
       "      <td>0.085614</td>\n",
       "      <td>1.000000</td>\n",
       "      <td>0.468715</td>\n",
       "      <td>-0.097657</td>\n",
       "      <td>-0.010813</td>\n",
       "      <td>0.114065</td>\n",
       "      <td>-0.014533</td>\n",
       "      <td>-0.005860</td>\n",
       "      <td>0.102102</td>\n",
       "      <td>0.192660</td>\n",
       "    </tr>\n",
       "    <tr>\n",
       "      <th>BTC</th>\n",
       "      <td>0.111681</td>\n",
       "      <td>0.468715</td>\n",
       "      <td>1.000000</td>\n",
       "      <td>0.471513</td>\n",
       "      <td>0.647653</td>\n",
       "      <td>0.645366</td>\n",
       "      <td>0.540697</td>\n",
       "      <td>0.638617</td>\n",
       "      <td>0.607133</td>\n",
       "      <td>0.745087</td>\n",
       "    </tr>\n",
       "    <tr>\n",
       "      <th>LSK</th>\n",
       "      <td>0.012608</td>\n",
       "      <td>-0.097657</td>\n",
       "      <td>0.471513</td>\n",
       "      <td>1.000000</td>\n",
       "      <td>0.696937</td>\n",
       "      <td>0.692013</td>\n",
       "      <td>0.951332</td>\n",
       "      <td>0.860143</td>\n",
       "      <td>0.872429</td>\n",
       "      <td>0.882769</td>\n",
       "    </tr>\n",
       "    <tr>\n",
       "      <th>EOS</th>\n",
       "      <td>0.050921</td>\n",
       "      <td>-0.010813</td>\n",
       "      <td>0.647653</td>\n",
       "      <td>0.696937</td>\n",
       "      <td>1.000000</td>\n",
       "      <td>0.848379</td>\n",
       "      <td>0.764599</td>\n",
       "      <td>0.802940</td>\n",
       "      <td>0.764442</td>\n",
       "      <td>0.813968</td>\n",
       "    </tr>\n",
       "    <tr>\n",
       "      <th>TRX</th>\n",
       "      <td>0.049798</td>\n",
       "      <td>0.114065</td>\n",
       "      <td>0.645366</td>\n",
       "      <td>0.692013</td>\n",
       "      <td>0.848379</td>\n",
       "      <td>1.000000</td>\n",
       "      <td>0.723102</td>\n",
       "      <td>0.885977</td>\n",
       "      <td>0.871522</td>\n",
       "      <td>0.785247</td>\n",
       "    </tr>\n",
       "    <tr>\n",
       "      <th>NEO</th>\n",
       "      <td>0.025487</td>\n",
       "      <td>-0.014533</td>\n",
       "      <td>0.540697</td>\n",
       "      <td>0.951332</td>\n",
       "      <td>0.764599</td>\n",
       "      <td>0.723102</td>\n",
       "      <td>1.000000</td>\n",
       "      <td>0.843825</td>\n",
       "      <td>0.864567</td>\n",
       "      <td>0.923682</td>\n",
       "    </tr>\n",
       "    <tr>\n",
       "      <th>XRP</th>\n",
       "      <td>0.037709</td>\n",
       "      <td>-0.005860</td>\n",
       "      <td>0.638617</td>\n",
       "      <td>0.860143</td>\n",
       "      <td>0.802940</td>\n",
       "      <td>0.885977</td>\n",
       "      <td>0.843825</td>\n",
       "      <td>1.000000</td>\n",
       "      <td>0.935349</td>\n",
       "      <td>0.873469</td>\n",
       "    </tr>\n",
       "    <tr>\n",
       "      <th>ADA</th>\n",
       "      <td>0.029265</td>\n",
       "      <td>0.102102</td>\n",
       "      <td>0.607133</td>\n",
       "      <td>0.872429</td>\n",
       "      <td>0.764442</td>\n",
       "      <td>0.871522</td>\n",
       "      <td>0.864567</td>\n",
       "      <td>0.935349</td>\n",
       "      <td>1.000000</td>\n",
       "      <td>0.869101</td>\n",
       "    </tr>\n",
       "    <tr>\n",
       "      <th>ETH</th>\n",
       "      <td>0.057681</td>\n",
       "      <td>0.192660</td>\n",
       "      <td>0.745087</td>\n",
       "      <td>0.882769</td>\n",
       "      <td>0.813968</td>\n",
       "      <td>0.785247</td>\n",
       "      <td>0.923682</td>\n",
       "      <td>0.873469</td>\n",
       "      <td>0.869101</td>\n",
       "      <td>1.000000</td>\n",
       "    </tr>\n",
       "  </tbody>\n",
       "</table>\n",
       "</div>"
      ],
      "text/plain": [
       "currency       XAU     SP500       BTC       LSK       EOS       TRX  \\\n",
       "currency                                                               \n",
       "XAU       1.000000  0.085614  0.111681  0.012608  0.050921  0.049798   \n",
       "SP500     0.085614  1.000000  0.468715 -0.097657 -0.010813  0.114065   \n",
       "BTC       0.111681  0.468715  1.000000  0.471513  0.647653  0.645366   \n",
       "LSK       0.012608 -0.097657  0.471513  1.000000  0.696937  0.692013   \n",
       "EOS       0.050921 -0.010813  0.647653  0.696937  1.000000  0.848379   \n",
       "TRX       0.049798  0.114065  0.645366  0.692013  0.848379  1.000000   \n",
       "NEO       0.025487 -0.014533  0.540697  0.951332  0.764599  0.723102   \n",
       "XRP       0.037709 -0.005860  0.638617  0.860143  0.802940  0.885977   \n",
       "ADA       0.029265  0.102102  0.607133  0.872429  0.764442  0.871522   \n",
       "ETH       0.057681  0.192660  0.745087  0.882769  0.813968  0.785247   \n",
       "\n",
       "currency       NEO       XRP       ADA       ETH  \n",
       "currency                                          \n",
       "XAU       0.025487  0.037709  0.029265  0.057681  \n",
       "SP500    -0.014533 -0.005860  0.102102  0.192660  \n",
       "BTC       0.540697  0.638617  0.607133  0.745087  \n",
       "LSK       0.951332  0.860143  0.872429  0.882769  \n",
       "EOS       0.764599  0.802940  0.764442  0.813968  \n",
       "TRX       0.723102  0.885977  0.871522  0.785247  \n",
       "NEO       1.000000  0.843825  0.864567  0.923682  \n",
       "XRP       0.843825  1.000000  0.935349  0.873469  \n",
       "ADA       0.864567  0.935349  1.000000  0.869101  \n",
       "ETH       0.923682  0.873469  0.869101  1.000000  "
      ]
     },
     "execution_count": 5,
     "metadata": {},
     "output_type": "execute_result"
    }
   ],
   "source": [
    "#hide_input\n",
    "sum_corr = df_all.corr().sum().sort_values(ascending=True).index.values\n",
    "df_all[sum_corr].corr()"
   ]
  },
  {
   "cell_type": "markdown",
   "metadata": {},
   "source": [
    "Koreliacijos matrica. "
   ]
  },
  {
   "cell_type": "code",
   "execution_count": 6,
   "metadata": {},
   "outputs": [
    {
     "data": {
      "image/png": "[encoded data removed]",
      "text/plain": [
       "<Figure size 936x576 with 2 Axes>"
      ]
     },
     "metadata": {
      "needs_background": "light"
     },
     "output_type": "display_data"
    }
   ],
   "source": [
    "#hide_input\n",
    "plt.figure(figsize=(13, 8))\n",
    "sns.heatmap(df_all[sum_corr].corr(), annot=True, cmap=\"BrBG\");\n",
    "plt.savefig('corr_matrix_all.eps', format='eps')"
   ]
  },
  {
   "cell_type": "markdown",
   "metadata": {},
   "source": [
    "### ICO koreliacija su rinkomis (SP500 & XAU)"
   ]
  },
  {
   "cell_type": "code",
   "execution_count": 22,
   "metadata": {},
   "outputs": [
    {
     "name": "stderr",
     "output_type": "stream",
     "text": [
      "/Users/Dom/Documents/Bachelor/corr-app/_notebooks/scripts/read_data.py:139: SettingWithCopyWarning: \n",
      "A value is trying to be set on a copy of a slice from a DataFrame.\n",
      "Try using .loc[row_indexer,col_indexer] = value instead\n",
      "\n",
      "See the caveats in the documentation: https://pandas.pydata.org/pandas-docs/stable/user_guide/indexing.html#returning-a-view-versus-a-copy\n",
      "  \n"
     ]
    }
   ],
   "source": [
    "#hide\n",
    "df_all_mrk = read_api()"
   ]
  },
  {
   "cell_type": "markdown",
   "metadata": {},
   "source": [
    "Koreliacijų koeficientai"
   ]
  },
  {
   "cell_type": "code",
   "execution_count": 23,
   "metadata": {},
   "outputs": [
    {
     "data": {
      "text/html": [
       "<div>\n",
       "<style scoped>\n",
       "    .dataframe tbody tr th:only-of-type {\n",
       "        vertical-align: middle;\n",
       "    }\n",
       "\n",
       "    .dataframe tbody tr th {\n",
       "        vertical-align: top;\n",
       "    }\n",
       "\n",
       "    .dataframe thead th {\n",
       "        text-align: right;\n",
       "    }\n",
       "</style>\n",
       "<table border=\"1\" class=\"dataframe\">\n",
       "  <thead>\n",
       "    <tr style=\"text-align: right;\">\n",
       "      <th>currency</th>\n",
       "      <th>XAU</th>\n",
       "      <th>BTC</th>\n",
       "      <th>LSK</th>\n",
       "      <th>EOS</th>\n",
       "      <th>ETH</th>\n",
       "    </tr>\n",
       "    <tr>\n",
       "      <th>currency</th>\n",
       "      <th></th>\n",
       "      <th></th>\n",
       "      <th></th>\n",
       "      <th></th>\n",
       "      <th></th>\n",
       "    </tr>\n",
       "  </thead>\n",
       "  <tbody>\n",
       "    <tr>\n",
       "      <th>XAU</th>\n",
       "      <td>1.000000</td>\n",
       "      <td>0.112660</td>\n",
       "      <td>0.016142</td>\n",
       "      <td>0.054734</td>\n",
       "      <td>0.058412</td>\n",
       "    </tr>\n",
       "    <tr>\n",
       "      <th>BTC</th>\n",
       "      <td>0.112660</td>\n",
       "      <td>1.000000</td>\n",
       "      <td>0.505359</td>\n",
       "      <td>0.680432</td>\n",
       "      <td>0.747524</td>\n",
       "    </tr>\n",
       "    <tr>\n",
       "      <th>LSK</th>\n",
       "      <td>0.016142</td>\n",
       "      <td>0.505359</td>\n",
       "      <td>1.000000</td>\n",
       "      <td>0.698489</td>\n",
       "      <td>0.895730</td>\n",
       "    </tr>\n",
       "    <tr>\n",
       "      <th>EOS</th>\n",
       "      <td>0.054734</td>\n",
       "      <td>0.680432</td>\n",
       "      <td>0.698489</td>\n",
       "      <td>1.000000</td>\n",
       "      <td>0.823223</td>\n",
       "    </tr>\n",
       "    <tr>\n",
       "      <th>ETH</th>\n",
       "      <td>0.058412</td>\n",
       "      <td>0.747524</td>\n",
       "      <td>0.895730</td>\n",
       "      <td>0.823223</td>\n",
       "      <td>1.000000</td>\n",
       "    </tr>\n",
       "  </tbody>\n",
       "</table>\n",
       "</div>"
      ],
      "text/plain": [
       "currency       XAU       BTC       LSK       EOS       ETH\n",
       "currency                                                  \n",
       "XAU       1.000000  0.112660  0.016142  0.054734  0.058412\n",
       "BTC       0.112660  1.000000  0.505359  0.680432  0.747524\n",
       "LSK       0.016142  0.505359  1.000000  0.698489  0.895730\n",
       "EOS       0.054734  0.680432  0.698489  1.000000  0.823223\n",
       "ETH       0.058412  0.747524  0.895730  0.823223  1.000000"
      ]
     },
     "execution_count": 23,
     "metadata": {},
     "output_type": "execute_result"
    }
   ],
   "source": [
    "#hide_input\n",
    "sum_corr = df_all_mrk.corr().sum().sort_values(ascending=True).index.values\n",
    "df_all_mrk[sum_corr].corr()"
   ]
  },
  {
   "cell_type": "markdown",
   "metadata": {},
   "source": [
    "Koreliacijos matrica. "
   ]
  },
  {
   "cell_type": "code",
   "execution_count": 24,
   "metadata": {},
   "outputs": [
    {
     "data": {
      "image/png": "[encoded data removed]",
      "text/plain": [
       "<Figure size 1080x576 with 2 Axes>"
      ]
     },
     "metadata": {
      "needs_background": "light"
     },
     "output_type": "display_data"
    }
   ],
   "source": [
    "#hide_input\n",
    "plt.figure(figsize=(15, 8))\n",
    "sns.heatmap(df_all_mrk[sum_corr].corr(), annot=True, cmap=\"BrBG\");\n",
    "plt.savefig('corr_matrix_all.eps', format='eps')"
   ]
  },
  {
   "cell_type": "code",
   "execution_count": null,
   "metadata": {},
   "outputs": [],
   "source": []
  },
  {
   "cell_type": "code",
   "execution_count": null,
   "metadata": {},
   "outputs": [],
   "source": []
  },
  {
   "cell_type": "code",
   "execution_count": null,
   "metadata": {},
   "outputs": [],
   "source": []
  },
  {
   "cell_type": "code",
   "execution_count": null,
   "metadata": {},
   "outputs": [],
   "source": []
  },
  {
   "cell_type": "code",
   "execution_count": null,
   "metadata": {},
   "outputs": [],
   "source": []
  },
  {
   "cell_type": "code",
   "execution_count": null,
   "metadata": {},
   "outputs": [],
   "source": []
  },
  {
   "cell_type": "code",
   "execution_count": null,
   "metadata": {},
   "outputs": [],
   "source": []
  },
  {
   "cell_type": "code",
   "execution_count": null,
   "metadata": {},
   "outputs": [],
   "source": []
  }
 ],
 "metadata": {
  "kernelspec": {
   "display_name": "Python 3",
   "language": "python",
   "name": "python3"
  },
  "language_info": {
   "codemirror_mode": {
    "name": "ipython",
    "version": 3
   },
   "file_extension": ".py",
   "mimetype": "text/x-python",
   "name": "python",
   "nbconvert_exporter": "python",
   "pygments_lexer": "ipython3",
   "version": "3.8.5"
  }
 },
 "nbformat": 4,
 "nbformat_minor": 4
}
