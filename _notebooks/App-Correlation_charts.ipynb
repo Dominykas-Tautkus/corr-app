{
 "cells": [
  {
   "cell_type": "markdown",
   "id": "touched-facility",
   "metadata": {
    "papermill": {
     "duration": 0.018575,
     "end_time": "2021-03-28T02:03:00.976768",
     "exception": false,
     "start_time": "2021-03-28T02:03:00.958193",
     "status": "completed"
    },
    "tags": []
   },
   "source": [
    "# Koreliacijų matrica\n",
    "> Išplėstinė koreliacijų matrica. \n",
    "\n",
    "- toc: true \n",
    "- badges: true\n",
    "- comments: false\n",
    "- categories: [Dominykas Tautkus]\n",
    "- image: images/matrix.png"
   ]
  },
  {
   "cell_type": "code",
   "execution_count": null,
   "id": "premium-weekend",
   "metadata": {
    "papermill": {
     "duration": 0.011874,
     "end_time": "2021-03-28T02:03:01.000730",
     "exception": false,
     "start_time": "2021-03-28T02:03:00.988856",
     "status": "completed"
    },
    "tags": []
   },
   "outputs": [],
   "source": []
  },
  {
   "cell_type": "code",
   "execution_count": 1,
   "id": "vertical-rebate",
   "metadata": {
    "execution": {
     "iopub.execute_input": "2021-03-28T02:03:01.035646Z",
     "iopub.status.busy": "2021-03-28T02:03:01.035069Z",
     "iopub.status.idle": "2021-03-28T02:03:01.045441Z",
     "shell.execute_reply": "2021-03-28T02:03:01.045903Z"
    },
    "papermill": {
     "duration": 0.033313,
     "end_time": "2021-03-28T02:03:01.046063",
     "exception": false,
     "start_time": "2021-03-28T02:03:01.012750",
     "status": "completed"
    },
    "tags": []
   },
   "outputs": [],
   "source": [
    "#hide\n",
    "%load_ext autoreload\n",
    "%autoreload 2"
   ]
  },
  {
   "cell_type": "code",
   "execution_count": 2,
   "id": "overall-advancement",
   "metadata": {
    "execution": {
     "iopub.execute_input": "2021-03-28T02:03:01.072747Z",
     "iopub.status.busy": "2021-03-28T02:03:01.072185Z",
     "iopub.status.idle": "2021-03-28T02:03:02.614414Z",
     "shell.execute_reply": "2021-03-28T02:03:02.614840Z"
    },
    "papermill": {
     "duration": 1.557551,
     "end_time": "2021-03-28T02:03:02.614988",
     "exception": false,
     "start_time": "2021-03-28T02:03:01.057437",
     "status": "completed"
    },
    "tags": []
   },
   "outputs": [],
   "source": [
    "#hide\n",
    "from scripts.read_data import read_api\n",
    "from IPython.display import HTML\n",
    "import plotly.graph_objects as go\n"
   ]
  },
  {
   "cell_type": "code",
   "execution_count": 3,
   "id": "light-crazy",
   "metadata": {
    "execution": {
     "iopub.execute_input": "2021-03-28T02:03:03.030859Z",
     "iopub.status.busy": "2021-03-28T02:03:03.030282Z",
     "iopub.status.idle": "2021-03-28T02:03:03.053078Z",
     "shell.execute_reply": "2021-03-28T02:03:03.052463Z"
    },
    "papermill": {
     "duration": 0.073719,
     "end_time": "2021-03-28T02:03:03.053225",
     "exception": false,
     "start_time": "2021-03-28T02:03:02.979506",
     "status": "completed"
    },
    "tags": []
   },
   "outputs": [],
   "source": [
    "#hide\n",
    "### ICO koreliacija"
   ]
  },
  {
   "cell_type": "code",
   "execution_count": 4,
   "id": "likely-bahrain",
   "metadata": {
    "execution": {
     "iopub.execute_input": "2021-03-28T02:03:03.127336Z",
     "iopub.status.busy": "2021-03-28T02:03:03.124040Z",
     "iopub.status.idle": "2021-03-28T02:03:09.182958Z",
     "shell.execute_reply": "2021-03-28T02:03:09.182347Z"
    },
    "papermill": {
     "duration": 6.110591,
     "end_time": "2021-03-28T02:03:09.183092",
     "exception": false,
     "start_time": "2021-03-28T02:03:03.072501",
     "status": "completed"
    },
    "tags": []
   },
   "outputs": [
    {
     "name": "stderr",
     "output_type": "stream",
     "text": [
      "Matplotlib is building the font cache; this may take a moment.\n"
     ]
    }
   ],
   "source": [
    "#hide\n",
    "import matplotlib.pyplot as plt\n",
    "import numpy as np\n",
    "import pandas as pd\n",
    "import seaborn as sns\n",
    "import matplotlib.pyplot as plt \n",
    "import matplotlib.dates as mdates\n",
    "import matplotlib.pyplot as plt"
   ]
  },
  {
   "cell_type": "code",
   "execution_count": 5,
   "id": "superior-blanket",
   "metadata": {
    "execution": {
     "iopub.execute_input": "2021-03-28T02:03:09.213127Z",
     "iopub.status.busy": "2021-03-28T02:03:09.212559Z",
     "iopub.status.idle": "2021-03-28T02:03:20.198459Z",
     "shell.execute_reply": "2021-03-28T02:03:20.197602Z"
    },
    "papermill": {
     "duration": 11.003058,
     "end_time": "2021-03-28T02:03:20.198678",
     "exception": false,
     "start_time": "2021-03-28T02:03:09.195620",
     "status": "completed"
    },
    "tags": []
   },
   "outputs": [
    {
     "name": "stderr",
     "output_type": "stream",
     "text": [
      "/home/runner/work/corr-app/corr-app/_notebooks/scripts/read_data.py:187: SettingWithCopyWarning:\n",
      "\n",
      "\n",
      "A value is trying to be set on a copy of a slice from a DataFrame.\n",
      "Try using .loc[row_indexer,col_indexer] = value instead\n",
      "\n",
      "See the caveats in the documentation: https://pandas.pydata.org/pandas-docs/stable/user_guide/indexing.html#returning-a-view-versus-a-copy\n",
      "\n"
     ]
    },
    {
     "name": "stderr",
     "output_type": "stream",
     "text": [
      "/home/runner/work/corr-app/corr-app/_notebooks/scripts/read_data.py:215: SettingWithCopyWarning:\n",
      "\n",
      "\n",
      "A value is trying to be set on a copy of a slice from a DataFrame.\n",
      "Try using .loc[row_indexer,col_indexer] = value instead\n",
      "\n",
      "See the caveats in the documentation: https://pandas.pydata.org/pandas-docs/stable/user_guide/indexing.html#returning-a-view-versus-a-copy\n",
      "\n"
     ]
    }
   ],
   "source": [
    "#hide\n",
    "df_all = read_api()\n",
    "#df_all = df_all.drop(['SP500', 'XAU', 'ETH', 'BTC'], axis=1)\n",
    "\n"
   ]
  },
  {
   "cell_type": "code",
   "execution_count": 6,
   "id": "mature-alert",
   "metadata": {
    "execution": {
     "iopub.execute_input": "2021-03-28T02:03:20.230920Z",
     "iopub.status.busy": "2021-03-28T02:03:20.230367Z",
     "iopub.status.idle": "2021-03-28T02:03:20.261560Z",
     "shell.execute_reply": "2021-03-28T02:03:20.262127Z"
    },
    "papermill": {
     "duration": 0.048321,
     "end_time": "2021-03-28T02:03:20.262305",
     "exception": false,
     "start_time": "2021-03-28T02:03:20.213984",
     "status": "completed"
    },
    "tags": []
   },
   "outputs": [],
   "source": [
    "#hide_input\n",
    "sum_corr = df_all.corr().sum().sort_values(ascending=True).index.values\n",
    "#df_all[sum_corr].corr()"
   ]
  },
  {
   "cell_type": "markdown",
   "id": "complex-syndicate",
   "metadata": {
    "papermill": {
     "duration": 0.012428,
     "end_time": "2021-03-28T02:03:20.288554",
     "exception": false,
     "start_time": "2021-03-28T02:03:20.276126",
     "status": "completed"
    },
    "tags": []
   },
   "source": [
    "## Išplėstinė koreliacijų matrica. "
   ]
  },
  {
   "cell_type": "code",
   "execution_count": 7,
   "id": "atomic-omaha",
   "metadata": {
    "execution": {
     "iopub.execute_input": "2021-03-28T02:03:20.317894Z",
     "iopub.status.busy": "2021-03-28T02:03:20.316969Z",
     "iopub.status.idle": "2021-03-28T02:03:21.493364Z",
     "shell.execute_reply": "2021-03-28T02:03:21.492878Z"
    },
    "papermill": {
     "duration": 1.192651,
     "end_time": "2021-03-28T02:03:21.493482",
     "exception": false,
     "start_time": "2021-03-28T02:03:20.300831",
     "status": "completed"
    },
    "tags": []
   },
   "outputs": [
    {
     "data": {
      "image/png": "[encoded data removed]",
      "text/plain": [
       "<Figure size 1080x792 with 2 Axes>"
      ]
     },
     "metadata": {
      "needs_background": "light"
     },
     "output_type": "display_data"
    }
   ],
   "source": [
    "#hide_input\n",
    "plt.figure(figsize=(15, 11))\n",
    "sns.heatmap(df_all[sum_corr].corr(), annot=True, cmap=\"cubehelix\") \n",
    "sns.set(font_scale=1.25)\n",
    "plt.savefig('corr_matrix.png', format='eps')"
   ]
  },
  {
   "cell_type": "code",
   "execution_count": 8,
   "id": "arbitrary-sullivan",
   "metadata": {
    "execution": {
     "iopub.execute_input": "2021-03-28T02:03:21.533133Z",
     "iopub.status.busy": "2021-03-28T02:03:21.531210Z",
     "iopub.status.idle": "2021-03-28T02:03:21.557176Z",
     "shell.execute_reply": "2021-03-28T02:03:21.557717Z"
    },
    "papermill": {
     "duration": 0.049551,
     "end_time": "2021-03-28T02:03:21.557887",
     "exception": false,
     "start_time": "2021-03-28T02:03:21.508336",
     "status": "completed"
    },
    "tags": []
   },
   "outputs": [],
   "source": [
    "#hide\n",
    "#df_all_mrk = read_api()"
   ]
  },
  {
   "cell_type": "code",
   "execution_count": 9,
   "id": "delayed-adapter",
   "metadata": {
    "execution": {
     "iopub.execute_input": "2021-03-28T02:03:21.594836Z",
     "iopub.status.busy": "2021-03-28T02:03:21.594339Z",
     "iopub.status.idle": "2021-03-28T02:03:21.619340Z",
     "shell.execute_reply": "2021-03-28T02:03:21.618773Z"
    },
    "papermill": {
     "duration": 0.045529,
     "end_time": "2021-03-28T02:03:21.619483",
     "exception": false,
     "start_time": "2021-03-28T02:03:21.573954",
     "status": "completed"
    },
    "tags": []
   },
   "outputs": [],
   "source": [
    "#hide\n",
    "#Koreliacijų koeficientai"
   ]
  },
  {
   "cell_type": "code",
   "execution_count": 10,
   "id": "seeing-celebration",
   "metadata": {
    "execution": {
     "iopub.execute_input": "2021-03-28T02:03:21.652965Z",
     "iopub.status.busy": "2021-03-28T02:03:21.652440Z",
     "iopub.status.idle": "2021-03-28T02:03:21.677972Z",
     "shell.execute_reply": "2021-03-28T02:03:21.677231Z"
    },
    "papermill": {
     "duration": 0.042753,
     "end_time": "2021-03-28T02:03:21.678141",
     "exception": false,
     "start_time": "2021-03-28T02:03:21.635388",
     "status": "completed"
    },
    "tags": []
   },
   "outputs": [],
   "source": [
    "#hide_input\n",
    "#sum_corr = df_all_mrk.corr().sum().sort_values(ascending=True).index.values\n",
    "#df_all_mrk[sum_corr].corr()"
   ]
  },
  {
   "cell_type": "code",
   "execution_count": 11,
   "id": "other-painting",
   "metadata": {
    "execution": {
     "iopub.execute_input": "2021-03-28T02:03:21.716709Z",
     "iopub.status.busy": "2021-03-28T02:03:21.716187Z",
     "iopub.status.idle": "2021-03-28T02:03:21.739557Z",
     "shell.execute_reply": "2021-03-28T02:03:21.740127Z"
    },
    "papermill": {
     "duration": 0.045447,
     "end_time": "2021-03-28T02:03:21.740292",
     "exception": false,
     "start_time": "2021-03-28T02:03:21.694845",
     "status": "completed"
    },
    "tags": []
   },
   "outputs": [],
   "source": [
    "#hide\n",
    "#Koreliacijos matrica. "
   ]
  },
  {
   "cell_type": "code",
   "execution_count": 12,
   "id": "modular-magnitude",
   "metadata": {
    "execution": {
     "iopub.execute_input": "2021-03-28T02:03:21.773855Z",
     "iopub.status.busy": "2021-03-28T02:03:21.773337Z",
     "iopub.status.idle": "2021-03-28T02:03:21.799557Z",
     "shell.execute_reply": "2021-03-28T02:03:21.798965Z"
    },
    "papermill": {
     "duration": 0.043597,
     "end_time": "2021-03-28T02:03:21.799731",
     "exception": false,
     "start_time": "2021-03-28T02:03:21.756134",
     "status": "completed"
    },
    "tags": []
   },
   "outputs": [],
   "source": [
    "#hide_input\n",
    "#plt.figure(figsize=(15, 8))\n",
    "#sns.heatmap(df_all_mrk[sum_corr].corr(), annot=True, cmap=\"BrBG\");\n",
    "#plt.savefig('corr_matrix_all.eps', format='eps')"
   ]
  },
  {
   "cell_type": "code",
   "execution_count": null,
   "id": "original-senator",
   "metadata": {
    "papermill": {
     "duration": 0.014699,
     "end_time": "2021-03-28T02:03:21.830670",
     "exception": false,
     "start_time": "2021-03-28T02:03:21.815971",
     "status": "completed"
    },
    "tags": []
   },
   "outputs": [],
   "source": []
  },
  {
   "cell_type": "code",
   "execution_count": null,
   "id": "saving-secretariat",
   "metadata": {
    "papermill": {
     "duration": 0.014268,
     "end_time": "2021-03-28T02:03:21.859505",
     "exception": false,
     "start_time": "2021-03-28T02:03:21.845237",
     "status": "completed"
    },
    "tags": []
   },
   "outputs": [],
   "source": []
  }
 ],
 "metadata": {
  "kernelspec": {
   "display_name": "Python 3",
   "language": "python",
   "name": "python3"
  },
  "language_info": {
   "codemirror_mode": {
    "name": "ipython",
    "version": 3
   },
   "file_extension": ".py",
   "mimetype": "text/x-python",
   "name": "python",
   "nbconvert_exporter": "python",
   "pygments_lexer": "ipython3",
   "version": "3.6.13"
  },
  "papermill": {
   "default_parameters": {},
   "duration": 23.313129,
   "end_time": "2021-03-28T02:03:23.073400",
   "environment_variables": {},
   "exception": null,
   "input_path": "App-Correlation_charts.ipynb",
   "output_path": "App-Correlation_charts.ipynb",
   "parameters": {},
   "start_time": "2021-03-28T02:02:59.760271",
   "version": "2.2.2"
  }
 },
 "nbformat": 4,
 "nbformat_minor": 5
}