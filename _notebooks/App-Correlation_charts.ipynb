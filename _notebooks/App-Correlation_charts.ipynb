{
 "cells": [
  {
   "cell_type": "markdown",
   "id": "touched-facility",
   "metadata": {
    "papermill": {
     "duration": 0.045618,
     "end_time": "2021-06-08T02:50:03.141337",
     "exception": false,
     "start_time": "2021-06-08T02:50:03.095719",
     "status": "completed"
    },
    "tags": []
   },
   "source": [
    "# Koreliacijų matrica\n",
    "> Išplėstinė koreliacijų matrica. \n",
    "\n",
    "- toc: true \n",
    "- badges: true\n",
    "- comments: false\n",
    "- categories: [Dominykas Tautkus]\n",
    "- image: images/matrix.png"
   ]
  },
  {
   "cell_type": "code",
   "execution_count": null,
   "id": "premium-weekend",
   "metadata": {
    "papermill": {
     "duration": 0.044793,
     "end_time": "2021-06-08T02:50:03.274820",
     "exception": false,
     "start_time": "2021-06-08T02:50:03.230027",
     "status": "completed"
    },
    "tags": []
   },
   "outputs": [],
   "source": []
  },
  {
   "cell_type": "code",
   "execution_count": 1,
   "id": "vertical-rebate",
   "metadata": {
    "execution": {
     "iopub.execute_input": "2021-06-08T02:50:03.307965Z",
     "iopub.status.busy": "2021-06-08T02:50:03.307445Z",
     "iopub.status.idle": "2021-06-08T02:50:03.317488Z",
     "shell.execute_reply": "2021-06-08T02:50:03.316969Z"
    },
    "papermill": {
     "duration": 0.030616,
     "end_time": "2021-06-08T02:50:03.317603",
     "exception": false,
     "start_time": "2021-06-08T02:50:03.286987",
     "status": "completed"
    },
    "tags": []
   },
   "outputs": [],
   "source": [
    "#hide\n",
    "%load_ext autoreload\n",
    "%autoreload 2"
   ]
  },
  {
   "cell_type": "code",
   "execution_count": 2,
   "id": "overall-advancement",
   "metadata": {
    "execution": {
     "iopub.execute_input": "2021-06-08T02:50:03.345767Z",
     "iopub.status.busy": "2021-06-08T02:50:03.345239Z",
     "iopub.status.idle": "2021-06-08T02:50:04.338675Z",
     "shell.execute_reply": "2021-06-08T02:50:04.338210Z"
    },
    "papermill": {
     "duration": 1.010723,
     "end_time": "2021-06-08T02:50:04.338802",
     "exception": false,
     "start_time": "2021-06-08T02:50:03.328079",
     "status": "completed"
    },
    "tags": []
   },
   "outputs": [],
   "source": [
    "#hide\n",
    "from scripts.read_data import read_api\n",
    "from IPython.display import HTML\n",
    "import plotly.graph_objects as go\n"
   ]
  },
  {
   "cell_type": "code",
   "execution_count": 3,
   "id": "light-crazy",
   "metadata": {
    "execution": {
     "iopub.execute_input": "2021-06-08T02:50:04.365854Z",
     "iopub.status.busy": "2021-06-08T02:50:04.365330Z",
     "iopub.status.idle": "2021-06-08T02:50:04.385690Z",
     "shell.execute_reply": "2021-06-08T02:50:04.385245Z"
    },
    "papermill": {
     "duration": 0.03564,
     "end_time": "2021-06-08T02:50:04.385796",
     "exception": false,
     "start_time": "2021-06-08T02:50:04.350156",
     "status": "completed"
    },
    "tags": []
   },
   "outputs": [],
   "source": [
    "#hide\n",
    "### ICO koreliacija"
   ]
  },
  {
   "cell_type": "code",
   "execution_count": 4,
   "id": "likely-bahrain",
   "metadata": {
    "execution": {
     "iopub.execute_input": "2021-06-08T02:50:04.410159Z",
     "iopub.status.busy": "2021-06-08T02:50:04.409661Z",
     "iopub.status.idle": "2021-06-08T02:50:05.177275Z",
     "shell.execute_reply": "2021-06-08T02:50:05.176758Z"
    },
    "papermill": {
     "duration": 0.781103,
     "end_time": "2021-06-08T02:50:05.177408",
     "exception": false,
     "start_time": "2021-06-08T02:50:04.396305",
     "status": "completed"
    },
    "tags": []
   },
   "outputs": [],
   "source": [
    "#hide\n",
    "import matplotlib.pyplot as plt\n",
    "import numpy as np\n",
    "import pandas as pd\n",
    "import seaborn as sns\n",
    "import matplotlib.pyplot as plt \n",
    "import matplotlib.dates as mdates\n",
    "import matplotlib.pyplot as plt"
   ]
  },
  {
   "cell_type": "code",
   "execution_count": 5,
   "id": "superior-blanket",
   "metadata": {
    "execution": {
     "iopub.execute_input": "2021-06-08T02:50:05.209261Z",
     "iopub.status.busy": "2021-06-08T02:50:05.208747Z",
     "iopub.status.idle": "2021-06-08T02:50:18.313332Z",
     "shell.execute_reply": "2021-06-08T02:50:18.312842Z"
    },
    "papermill": {
     "duration": 13.124745,
     "end_time": "2021-06-08T02:50:18.313449",
     "exception": false,
     "start_time": "2021-06-08T02:50:05.188704",
     "status": "completed"
    },
    "tags": []
   },
   "outputs": [
    {
     "name": "stderr",
     "output_type": "stream",
     "text": [
      "/home/runner/work/corr-app/corr-app/_notebooks/scripts/read_data.py:187: SettingWithCopyWarning:\n",
      "\n",
      "\n",
      "A value is trying to be set on a copy of a slice from a DataFrame.\n",
      "Try using .loc[row_indexer,col_indexer] = value instead\n",
      "\n",
      "See the caveats in the documentation: https://pandas.pydata.org/pandas-docs/stable/user_guide/indexing.html#returning-a-view-versus-a-copy\n",
      "\n"
     ]
    },
    {
     "name": "stderr",
     "output_type": "stream",
     "text": [
      "/home/runner/work/corr-app/corr-app/_notebooks/scripts/read_data.py:215: SettingWithCopyWarning:\n",
      "\n",
      "\n",
      "A value is trying to be set on a copy of a slice from a DataFrame.\n",
      "Try using .loc[row_indexer,col_indexer] = value instead\n",
      "\n",
      "See the caveats in the documentation: https://pandas.pydata.org/pandas-docs/stable/user_guide/indexing.html#returning-a-view-versus-a-copy\n",
      "\n"
     ]
    }
   ],
   "source": [
    "#hide\n",
    "df_all = read_api()\n",
    "#df_all = df_all.drop(['SP500', 'XAU', 'ETH', 'BTC'], axis=1)\n",
    "\n"
   ]
  },
  {
   "cell_type": "code",
   "execution_count": 6,
   "id": "mature-alert",
   "metadata": {
    "execution": {
     "iopub.execute_input": "2021-06-08T02:50:18.342946Z",
     "iopub.status.busy": "2021-06-08T02:50:18.342442Z",
     "iopub.status.idle": "2021-06-08T02:50:18.368899Z",
     "shell.execute_reply": "2021-06-08T02:50:18.369328Z"
    },
    "papermill": {
     "duration": 0.044495,
     "end_time": "2021-06-08T02:50:18.369467",
     "exception": false,
     "start_time": "2021-06-08T02:50:18.324972",
     "status": "completed"
    },
    "tags": []
   },
   "outputs": [],
   "source": [
    "#hide_input\n",
    "sum_corr = df_all.corr().sum().sort_values(ascending=True).index.values\n",
    "#df_all[sum_corr].corr()"
   ]
  },
  {
   "cell_type": "markdown",
   "id": "complex-syndicate",
   "metadata": {
    "papermill": {
     "duration": 0.011768,
     "end_time": "2021-06-08T02:50:18.393427",
     "exception": false,
     "start_time": "2021-06-08T02:50:18.381659",
     "status": "completed"
    },
    "tags": []
   },
   "source": [
    "## Išplėstinė koreliacijų matrica. "
   ]
  },
  {
   "cell_type": "code",
   "execution_count": 7,
   "id": "atomic-omaha",
   "metadata": {
    "execution": {
     "iopub.execute_input": "2021-06-08T02:50:18.420251Z",
     "iopub.status.busy": "2021-06-08T02:50:18.419757Z",
     "iopub.status.idle": "2021-06-08T02:50:19.514532Z",
     "shell.execute_reply": "2021-06-08T02:50:19.514093Z"
    },
    "papermill": {
     "duration": 1.110184,
     "end_time": "2021-06-08T02:50:19.514647",
     "exception": false,
     "start_time": "2021-06-08T02:50:18.404463",
     "status": "completed"
    },
    "tags": []
   },
   "outputs": [
    {
     "data": {
      "image/png": "[encoded data removed]",
      "text/plain": [
       "<Figure size 1080x792 with 2 Axes>"
      ]
     },
     "metadata": {
      "needs_background": "light"
     },
     "output_type": "display_data"
    }
   ],
   "source": [
    "#hide_input\n",
    "plt.figure(figsize=(15, 11))\n",
    "sns.heatmap(df_all[sum_corr].corr(), annot=True, cmap=\"cubehelix\") \n",
    "sns.set(font_scale=1.25)\n",
    "plt.savefig('corr_matrix.png', format='eps')"
   ]
  },
  {
   "cell_type": "code",
   "execution_count": 8,
   "id": "arbitrary-sullivan",
   "metadata": {
    "execution": {
     "iopub.execute_input": "2021-06-08T02:50:19.550792Z",
     "iopub.status.busy": "2021-06-08T02:50:19.550291Z",
     "iopub.status.idle": "2021-06-08T02:50:19.573093Z",
     "shell.execute_reply": "2021-06-08T02:50:19.572673Z"
    },
    "papermill": {
     "duration": 0.044989,
     "end_time": "2021-06-08T02:50:19.573192",
     "exception": false,
     "start_time": "2021-06-08T02:50:19.528203",
     "status": "completed"
    },
    "tags": []
   },
   "outputs": [],
   "source": [
    "#hide\n",
    "#df_all_mrk = read_api()"
   ]
  },
  {
   "cell_type": "code",
   "execution_count": 9,
   "id": "delayed-adapter",
   "metadata": {
    "execution": {
     "iopub.execute_input": "2021-06-08T02:50:19.607406Z",
     "iopub.status.busy": "2021-06-08T02:50:19.603329Z",
     "iopub.status.idle": "2021-06-08T02:50:19.627470Z",
     "shell.execute_reply": "2021-06-08T02:50:19.627974Z"
    },
    "papermill": {
     "duration": 0.042,
     "end_time": "2021-06-08T02:50:19.628129",
     "exception": false,
     "start_time": "2021-06-08T02:50:19.586129",
     "status": "completed"
    },
    "tags": []
   },
   "outputs": [],
   "source": [
    "#hide\n",
    "#Koreliacijų koeficientai"
   ]
  },
  {
   "cell_type": "code",
   "execution_count": 10,
   "id": "seeing-celebration",
   "metadata": {
    "execution": {
     "iopub.execute_input": "2021-06-08T02:50:19.658797Z",
     "iopub.status.busy": "2021-06-08T02:50:19.658308Z",
     "iopub.status.idle": "2021-06-08T02:50:19.682545Z",
     "shell.execute_reply": "2021-06-08T02:50:19.682067Z"
    },
    "papermill": {
     "duration": 0.039632,
     "end_time": "2021-06-08T02:50:19.682652",
     "exception": false,
     "start_time": "2021-06-08T02:50:19.643020",
     "status": "completed"
    },
    "tags": []
   },
   "outputs": [],
   "source": [
    "#hide_input\n",
    "#sum_corr = df_all_mrk.corr().sum().sort_values(ascending=True).index.values\n",
    "#df_all_mrk[sum_corr].corr()"
   ]
  },
  {
   "cell_type": "code",
   "execution_count": 11,
   "id": "other-painting",
   "metadata": {
    "execution": {
     "iopub.execute_input": "2021-06-08T02:50:19.716219Z",
     "iopub.status.busy": "2021-06-08T02:50:19.715735Z",
     "iopub.status.idle": "2021-06-08T02:50:19.736607Z",
     "shell.execute_reply": "2021-06-08T02:50:19.736195Z"
    },
    "papermill": {
     "duration": 0.040638,
     "end_time": "2021-06-08T02:50:19.736703",
     "exception": false,
     "start_time": "2021-06-08T02:50:19.696065",
     "status": "completed"
    },
    "tags": []
   },
   "outputs": [],
   "source": [
    "#hide\n",
    "#Koreliacijos matrica. "
   ]
  },
  {
   "cell_type": "code",
   "execution_count": 12,
   "id": "modular-magnitude",
   "metadata": {
    "execution": {
     "iopub.execute_input": "2021-06-08T02:50:19.766350Z",
     "iopub.status.busy": "2021-06-08T02:50:19.765860Z",
     "iopub.status.idle": "2021-06-08T02:50:19.787435Z",
     "shell.execute_reply": "2021-06-08T02:50:19.787042Z"
    },
    "papermill": {
     "duration": 0.037788,
     "end_time": "2021-06-08T02:50:19.787534",
     "exception": false,
     "start_time": "2021-06-08T02:50:19.749746",
     "status": "completed"
    },
    "tags": []
   },
   "outputs": [],
   "source": [
    "#hide_input\n",
    "#plt.figure(figsize=(15, 8))\n",
    "#sns.heatmap(df_all_mrk[sum_corr].corr(), annot=True, cmap=\"BrBG\");\n",
    "#plt.savefig('corr_matrix_all.eps', format='eps')"
   ]
  },
  {
   "cell_type": "code",
   "execution_count": null,
   "id": "original-senator",
   "metadata": {
    "papermill": {
     "duration": 0.012886,
     "end_time": "2021-06-08T02:50:19.813315",
     "exception": false,
     "start_time": "2021-06-08T02:50:19.800429",
     "status": "completed"
    },
    "tags": []
   },
   "outputs": [],
   "source": []
  },
  {
   "cell_type": "code",
   "execution_count": null,
   "id": "saving-secretariat",
   "metadata": {
    "papermill": {
     "duration": 0.012841,
     "end_time": "2021-06-08T02:50:19.839038",
     "exception": false,
     "start_time": "2021-06-08T02:50:19.826197",
     "status": "completed"
    },
    "tags": []
   },
   "outputs": [],
   "source": []
  }
 ],
 "metadata": {
  "kernelspec": {
   "display_name": "Python 3",
   "language": "python",
   "name": "python3"
  },
  "language_info": {
   "codemirror_mode": {
    "name": "ipython",
    "version": 3
   },
   "file_extension": ".py",
   "mimetype": "text/x-python",
   "name": "python",
   "nbconvert_exporter": "python",
   "pygments_lexer": "ipython3",
   "version": "3.6.13"
  },
  "papermill": {
   "default_parameters": {},
   "duration": 19.329561,
   "end_time": "2021-06-08T02:50:21.355982",
   "environment_variables": {},
   "exception": null,
   "input_path": "App-Correlation_charts.ipynb",
   "output_path": "App-Correlation_charts.ipynb",
   "parameters": {},
   "start_time": "2021-06-08T02:50:02.026421",
   "version": "2.2.2"
  }
 },
 "nbformat": 4,
 "nbformat_minor": 5
}