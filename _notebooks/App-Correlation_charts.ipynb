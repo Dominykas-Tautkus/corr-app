{
 "cells": [
  {
   "cell_type": "markdown",
   "id": "touched-facility",
   "metadata": {
    "papermill": {
     "duration": 0.018087,
     "end_time": "2021-07-01T01:59:57.221932",
     "exception": false,
     "start_time": "2021-07-01T01:59:57.203845",
     "status": "completed"
    },
    "tags": []
   },
   "source": [
    "# Koreliacijų matrica\n",
    "> Išplėstinė koreliacijų matrica. \n",
    "\n",
    "- toc: true \n",
    "- badges: true\n",
    "- comments: false\n",
    "- categories: [Dominykas Tautkus]\n",
    "- image: images/matrix.png"
   ]
  },
  {
   "cell_type": "code",
   "execution_count": null,
   "id": "premium-weekend",
   "metadata": {
    "papermill": {
     "duration": 0.01245,
     "end_time": "2021-07-01T01:59:57.248487",
     "exception": false,
     "start_time": "2021-07-01T01:59:57.236037",
     "status": "completed"
    },
    "tags": []
   },
   "outputs": [],
   "source": []
  },
  {
   "cell_type": "code",
   "execution_count": 1,
   "id": "vertical-rebate",
   "metadata": {
    "execution": {
     "iopub.execute_input": "2021-07-01T01:59:57.286026Z",
     "iopub.status.busy": "2021-07-01T01:59:57.285420Z",
     "iopub.status.idle": "2021-07-01T01:59:57.296368Z",
     "shell.execute_reply": "2021-07-01T01:59:57.296966Z"
    },
    "papermill": {
     "duration": 0.036598,
     "end_time": "2021-07-01T01:59:57.297147",
     "exception": false,
     "start_time": "2021-07-01T01:59:57.260549",
     "status": "completed"
    },
    "tags": []
   },
   "outputs": [],
   "source": [
    "#hide\n",
    "%load_ext autoreload\n",
    "%autoreload 2"
   ]
  },
  {
   "cell_type": "code",
   "execution_count": 2,
   "id": "overall-advancement",
   "metadata": {
    "execution": {
     "iopub.execute_input": "2021-07-01T01:59:57.342688Z",
     "iopub.status.busy": "2021-07-01T01:59:57.342089Z",
     "iopub.status.idle": "2021-07-01T01:59:58.535502Z",
     "shell.execute_reply": "2021-07-01T01:59:58.534377Z"
    },
    "papermill": {
     "duration": 1.226232,
     "end_time": "2021-07-01T01:59:58.535646",
     "exception": false,
     "start_time": "2021-07-01T01:59:57.309414",
     "status": "completed"
    },
    "tags": []
   },
   "outputs": [],
   "source": [
    "#hide\n",
    "from scripts.read_data import read_api\n",
    "from IPython.display import HTML\n",
    "import plotly.graph_objects as go\n"
   ]
  },
  {
   "cell_type": "code",
   "execution_count": 3,
   "id": "light-crazy",
   "metadata": {
    "execution": {
     "iopub.execute_input": "2021-07-01T01:59:58.569796Z",
     "iopub.status.busy": "2021-07-01T01:59:58.566035Z",
     "iopub.status.idle": "2021-07-01T01:59:58.591227Z",
     "shell.execute_reply": "2021-07-01T01:59:58.590533Z"
    },
    "papermill": {
     "duration": 0.042962,
     "end_time": "2021-07-01T01:59:58.591385",
     "exception": false,
     "start_time": "2021-07-01T01:59:58.548423",
     "status": "completed"
    },
    "tags": []
   },
   "outputs": [],
   "source": [
    "#hide\n",
    "### ICO koreliacija"
   ]
  },
  {
   "cell_type": "code",
   "execution_count": 4,
   "id": "likely-bahrain",
   "metadata": {
    "execution": {
     "iopub.execute_input": "2021-07-01T01:59:58.621739Z",
     "iopub.status.busy": "2021-07-01T01:59:58.620682Z",
     "iopub.status.idle": "2021-07-01T01:59:59.571692Z",
     "shell.execute_reply": "2021-07-01T01:59:59.571172Z"
    },
    "papermill": {
     "duration": 0.96699,
     "end_time": "2021-07-01T01:59:59.571830",
     "exception": false,
     "start_time": "2021-07-01T01:59:58.604840",
     "status": "completed"
    },
    "tags": []
   },
   "outputs": [],
   "source": [
    "#hide\n",
    "import matplotlib.pyplot as plt\n",
    "import numpy as np\n",
    "import pandas as pd\n",
    "import seaborn as sns\n",
    "import matplotlib.pyplot as plt \n",
    "import matplotlib.dates as mdates\n",
    "import matplotlib.pyplot as plt"
   ]
  },
  {
   "cell_type": "code",
   "execution_count": 5,
   "id": "superior-blanket",
   "metadata": {
    "execution": {
     "iopub.execute_input": "2021-07-01T01:59:59.612921Z",
     "iopub.status.busy": "2021-07-01T01:59:59.611467Z",
     "iopub.status.idle": "2021-07-01T02:00:10.414845Z",
     "shell.execute_reply": "2021-07-01T02:00:10.413743Z"
    },
    "papermill": {
     "duration": 10.821567,
     "end_time": "2021-07-01T02:00:10.415059",
     "exception": false,
     "start_time": "2021-07-01T01:59:59.593492",
     "status": "completed"
    },
    "tags": []
   },
   "outputs": [
    {
     "name": "stderr",
     "output_type": "stream",
     "text": [
      "/home/runner/work/corr-app/corr-app/_notebooks/scripts/read_data.py:187: SettingWithCopyWarning:\n",
      "\n",
      "\n",
      "A value is trying to be set on a copy of a slice from a DataFrame.\n",
      "Try using .loc[row_indexer,col_indexer] = value instead\n",
      "\n",
      "See the caveats in the documentation: https://pandas.pydata.org/pandas-docs/stable/user_guide/indexing.html#returning-a-view-versus-a-copy\n",
      "\n"
     ]
    },
    {
     "name": "stderr",
     "output_type": "stream",
     "text": [
      "/home/runner/work/corr-app/corr-app/_notebooks/scripts/read_data.py:215: SettingWithCopyWarning:\n",
      "\n",
      "\n",
      "A value is trying to be set on a copy of a slice from a DataFrame.\n",
      "Try using .loc[row_indexer,col_indexer] = value instead\n",
      "\n",
      "See the caveats in the documentation: https://pandas.pydata.org/pandas-docs/stable/user_guide/indexing.html#returning-a-view-versus-a-copy\n",
      "\n"
     ]
    }
   ],
   "source": [
    "#hide\n",
    "df_all = read_api()\n",
    "#df_all = df_all.drop(['SP500', 'XAU', 'ETH', 'BTC'], axis=1)\n",
    "\n"
   ]
  },
  {
   "cell_type": "code",
   "execution_count": 6,
   "id": "mature-alert",
   "metadata": {
    "execution": {
     "iopub.execute_input": "2021-07-01T02:00:10.446631Z",
     "iopub.status.busy": "2021-07-01T02:00:10.446044Z",
     "iopub.status.idle": "2021-07-01T02:00:10.480263Z",
     "shell.execute_reply": "2021-07-01T02:00:10.479745Z"
    },
    "papermill": {
     "duration": 0.050807,
     "end_time": "2021-07-01T02:00:10.480389",
     "exception": false,
     "start_time": "2021-07-01T02:00:10.429582",
     "status": "completed"
    },
    "tags": []
   },
   "outputs": [],
   "source": [
    "#hide_input\n",
    "sum_corr = df_all.corr().sum().sort_values(ascending=True).index.values\n",
    "#df_all[sum_corr].corr()"
   ]
  },
  {
   "cell_type": "markdown",
   "id": "complex-syndicate",
   "metadata": {
    "papermill": {
     "duration": 0.012726,
     "end_time": "2021-07-01T02:00:10.506151",
     "exception": false,
     "start_time": "2021-07-01T02:00:10.493425",
     "status": "completed"
    },
    "tags": []
   },
   "source": [
    "## Išplėstinė koreliacijų matrica. "
   ]
  },
  {
   "cell_type": "code",
   "execution_count": 7,
   "id": "atomic-omaha",
   "metadata": {
    "execution": {
     "iopub.execute_input": "2021-07-01T02:00:10.538785Z",
     "iopub.status.busy": "2021-07-01T02:00:10.538097Z",
     "iopub.status.idle": "2021-07-01T02:00:11.812374Z",
     "shell.execute_reply": "2021-07-01T02:00:11.811880Z"
    },
    "papermill": {
     "duration": 1.293471,
     "end_time": "2021-07-01T02:00:11.812506",
     "exception": false,
     "start_time": "2021-07-01T02:00:10.519035",
     "status": "completed"
    },
    "tags": []
   },
   "outputs": [
    {
     "data": {
      "image/png": "[encoded data removed]",
      "text/plain": [
       "<Figure size 1080x792 with 2 Axes>"
      ]
     },
     "metadata": {
      "needs_background": "light"
     },
     "output_type": "display_data"
    }
   ],
   "source": [
    "#hide_input\n",
    "plt.figure(figsize=(15, 11))\n",
    "sns.heatmap(df_all[sum_corr].corr(), annot=True, cmap=\"cubehelix\") \n",
    "sns.set(font_scale=1.25)\n",
    "plt.savefig('corr_matrix.png', format='eps')"
   ]
  },
  {
   "cell_type": "code",
   "execution_count": 8,
   "id": "arbitrary-sullivan",
   "metadata": {
    "execution": {
     "iopub.execute_input": "2021-07-01T02:00:11.846423Z",
     "iopub.status.busy": "2021-07-01T02:00:11.845355Z",
     "iopub.status.idle": "2021-07-01T02:00:11.874269Z",
     "shell.execute_reply": "2021-07-01T02:00:11.874889Z"
    },
    "papermill": {
     "duration": 0.047239,
     "end_time": "2021-07-01T02:00:11.875081",
     "exception": false,
     "start_time": "2021-07-01T02:00:11.827842",
     "status": "completed"
    },
    "tags": []
   },
   "outputs": [],
   "source": [
    "#hide\n",
    "#df_all_mrk = read_api()"
   ]
  },
  {
   "cell_type": "code",
   "execution_count": 9,
   "id": "delayed-adapter",
   "metadata": {
    "execution": {
     "iopub.execute_input": "2021-07-01T02:00:11.909418Z",
     "iopub.status.busy": "2021-07-01T02:00:11.908790Z",
     "iopub.status.idle": "2021-07-01T02:00:11.937521Z",
     "shell.execute_reply": "2021-07-01T02:00:11.938059Z"
    },
    "papermill": {
     "duration": 0.047677,
     "end_time": "2021-07-01T02:00:11.938205",
     "exception": false,
     "start_time": "2021-07-01T02:00:11.890528",
     "status": "completed"
    },
    "tags": []
   },
   "outputs": [],
   "source": [
    "#hide\n",
    "#Koreliacijų koeficientai"
   ]
  },
  {
   "cell_type": "code",
   "execution_count": 10,
   "id": "seeing-celebration",
   "metadata": {
    "execution": {
     "iopub.execute_input": "2021-07-01T02:00:11.973313Z",
     "iopub.status.busy": "2021-07-01T02:00:11.972712Z",
     "iopub.status.idle": "2021-07-01T02:00:12.002819Z",
     "shell.execute_reply": "2021-07-01T02:00:12.002179Z"
    },
    "papermill": {
     "duration": 0.049607,
     "end_time": "2021-07-01T02:00:12.002980",
     "exception": false,
     "start_time": "2021-07-01T02:00:11.953373",
     "status": "completed"
    },
    "tags": []
   },
   "outputs": [],
   "source": [
    "#hide_input\n",
    "#sum_corr = df_all_mrk.corr().sum().sort_values(ascending=True).index.values\n",
    "#df_all_mrk[sum_corr].corr()"
   ]
  },
  {
   "cell_type": "code",
   "execution_count": 11,
   "id": "other-painting",
   "metadata": {
    "execution": {
     "iopub.execute_input": "2021-07-01T02:00:12.039478Z",
     "iopub.status.busy": "2021-07-01T02:00:12.038809Z",
     "iopub.status.idle": "2021-07-01T02:00:12.067577Z",
     "shell.execute_reply": "2021-07-01T02:00:12.066777Z"
    },
    "papermill": {
     "duration": 0.047909,
     "end_time": "2021-07-01T02:00:12.067736",
     "exception": false,
     "start_time": "2021-07-01T02:00:12.019827",
     "status": "completed"
    },
    "tags": []
   },
   "outputs": [],
   "source": [
    "#hide\n",
    "#Koreliacijos matrica. "
   ]
  },
  {
   "cell_type": "code",
   "execution_count": 12,
   "id": "modular-magnitude",
   "metadata": {
    "execution": {
     "iopub.execute_input": "2021-07-01T02:00:12.105624Z",
     "iopub.status.busy": "2021-07-01T02:00:12.104968Z",
     "iopub.status.idle": "2021-07-01T02:00:12.134199Z",
     "shell.execute_reply": "2021-07-01T02:00:12.133500Z"
    },
    "papermill": {
     "duration": 0.050195,
     "end_time": "2021-07-01T02:00:12.134360",
     "exception": false,
     "start_time": "2021-07-01T02:00:12.084165",
     "status": "completed"
    },
    "tags": []
   },
   "outputs": [],
   "source": [
    "#hide_input\n",
    "#plt.figure(figsize=(15, 8))\n",
    "#sns.heatmap(df_all_mrk[sum_corr].corr(), annot=True, cmap=\"BrBG\");\n",
    "#plt.savefig('corr_matrix_all.eps', format='eps')"
   ]
  },
  {
   "cell_type": "code",
   "execution_count": null,
   "id": "original-senator",
   "metadata": {
    "papermill": {
     "duration": 0.014808,
     "end_time": "2021-07-01T02:00:12.165576",
     "exception": false,
     "start_time": "2021-07-01T02:00:12.150768",
     "status": "completed"
    },
    "tags": []
   },
   "outputs": [],
   "source": []
  },
  {
   "cell_type": "code",
   "execution_count": null,
   "id": "saving-secretariat",
   "metadata": {
    "papermill": {
     "duration": 0.014548,
     "end_time": "2021-07-01T02:00:12.195024",
     "exception": false,
     "start_time": "2021-07-01T02:00:12.180476",
     "status": "completed"
    },
    "tags": []
   },
   "outputs": [],
   "source": []
  }
 ],
 "metadata": {
  "kernelspec": {
   "display_name": "Python 3",
   "language": "python",
   "name": "python3"
  },
  "language_info": {
   "codemirror_mode": {
    "name": "ipython",
    "version": 3
   },
   "file_extension": ".py",
   "mimetype": "text/x-python",
   "name": "python",
   "nbconvert_exporter": "python",
   "pygments_lexer": "ipython3",
   "version": "3.6.13"
  },
  "papermill": {
   "default_parameters": {},
   "duration": 17.326202,
   "end_time": "2021-07-01T02:00:13.445713",
   "environment_variables": {},
   "exception": null,
   "input_path": "App-Correlation_charts.ipynb",
   "output_path": "App-Correlation_charts.ipynb",
   "parameters": {},
   "start_time": "2021-07-01T01:59:56.119511",
   "version": "2.2.2"
  }
 },
 "nbformat": 4,
 "nbformat_minor": 5
}