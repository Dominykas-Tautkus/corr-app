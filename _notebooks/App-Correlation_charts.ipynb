{
 "cells": [
  {
   "cell_type": "markdown",
   "id": "touched-facility",
   "metadata": {
    "papermill": {
     "duration": 0.017974,
     "end_time": "2021-03-12T01:46:06.541504",
     "exception": false,
     "start_time": "2021-03-12T01:46:06.523530",
     "status": "completed"
    },
    "tags": []
   },
   "source": [
    "# Koreliacijų matrica\n",
    "> Išplėstinė koreliacijų matrica. \n",
    "\n",
    "- toc: true \n",
    "- badges: true\n",
    "- comments: false\n",
    "- categories: [Dominykas Tautkus]\n",
    "- image: images/matrix.png"
   ]
  },
  {
   "cell_type": "code",
   "execution_count": null,
   "id": "premium-weekend",
   "metadata": {
    "papermill": {
     "duration": 0.013929,
     "end_time": "2021-03-12T01:46:06.570411",
     "exception": false,
     "start_time": "2021-03-12T01:46:06.556482",
     "status": "completed"
    },
    "tags": []
   },
   "outputs": [],
   "source": []
  },
  {
   "cell_type": "code",
   "execution_count": 1,
   "id": "vertical-rebate",
   "metadata": {
    "execution": {
     "iopub.execute_input": "2021-03-12T01:46:06.609020Z",
     "iopub.status.busy": "2021-03-12T01:46:06.608280Z",
     "iopub.status.idle": "2021-03-12T01:46:06.619876Z",
     "shell.execute_reply": "2021-03-12T01:46:06.619161Z"
    },
    "papermill": {
     "duration": 0.036518,
     "end_time": "2021-03-12T01:46:06.620013",
     "exception": false,
     "start_time": "2021-03-12T01:46:06.583495",
     "status": "completed"
    },
    "tags": []
   },
   "outputs": [],
   "source": [
    "#hide\n",
    "%load_ext autoreload\n",
    "%autoreload 2"
   ]
  },
  {
   "cell_type": "code",
   "execution_count": 2,
   "id": "overall-advancement",
   "metadata": {
    "execution": {
     "iopub.execute_input": "2021-03-12T01:46:06.651339Z",
     "iopub.status.busy": "2021-03-12T01:46:06.650621Z",
     "iopub.status.idle": "2021-03-12T01:46:08.744844Z",
     "shell.execute_reply": "2021-03-12T01:46:08.743947Z"
    },
    "papermill": {
     "duration": 2.111552,
     "end_time": "2021-03-12T01:46:08.744985",
     "exception": false,
     "start_time": "2021-03-12T01:46:06.633433",
     "status": "completed"
    },
    "tags": []
   },
   "outputs": [],
   "source": [
    "#hide\n",
    "from scripts.read_data import read_api\n",
    "from IPython.display import HTML\n",
    "import plotly.graph_objects as go\n"
   ]
  },
  {
   "cell_type": "code",
   "execution_count": 3,
   "id": "light-crazy",
   "metadata": {
    "execution": {
     "iopub.execute_input": "2021-03-12T01:46:09.216014Z",
     "iopub.status.busy": "2021-03-12T01:46:09.215358Z",
     "iopub.status.idle": "2021-03-12T01:46:09.252565Z",
     "shell.execute_reply": "2021-03-12T01:46:09.253183Z"
    },
    "papermill": {
     "duration": 0.479108,
     "end_time": "2021-03-12T01:46:09.253331",
     "exception": false,
     "start_time": "2021-03-12T01:46:08.774223",
     "status": "completed"
    },
    "tags": []
   },
   "outputs": [],
   "source": [
    "#hide\n",
    "### ICO koreliacija"
   ]
  },
  {
   "cell_type": "code",
   "execution_count": 4,
   "id": "likely-bahrain",
   "metadata": {
    "execution": {
     "iopub.execute_input": "2021-03-12T01:46:09.633677Z",
     "iopub.status.busy": "2021-03-12T01:46:09.632979Z",
     "iopub.status.idle": "2021-03-12T01:46:11.414051Z",
     "shell.execute_reply": "2021-03-12T01:46:11.413265Z"
    },
    "papermill": {
     "duration": 1.842484,
     "end_time": "2021-03-12T01:46:11.414201",
     "exception": false,
     "start_time": "2021-03-12T01:46:09.571717",
     "status": "completed"
    },
    "tags": []
   },
   "outputs": [],
   "source": [
    "#hide\n",
    "import matplotlib.pyplot as plt\n",
    "import numpy as np\n",
    "import pandas as pd\n",
    "import seaborn as sns\n",
    "import matplotlib.pyplot as plt \n",
    "import matplotlib.dates as mdates\n",
    "import matplotlib.pyplot as plt"
   ]
  },
  {
   "cell_type": "code",
   "execution_count": 5,
   "id": "superior-blanket",
   "metadata": {
    "execution": {
     "iopub.execute_input": "2021-03-12T01:46:11.831375Z",
     "iopub.status.busy": "2021-03-12T01:46:11.830506Z",
     "iopub.status.idle": "2021-03-12T01:46:21.364559Z",
     "shell.execute_reply": "2021-03-12T01:46:21.363480Z"
    },
    "papermill": {
     "duration": 9.928358,
     "end_time": "2021-03-12T01:46:21.364742",
     "exception": false,
     "start_time": "2021-03-12T01:46:11.436384",
     "status": "completed"
    },
    "tags": []
   },
   "outputs": [
    {
     "name": "stderr",
     "output_type": "stream",
     "text": [
      "/home/runner/work/corr-app/corr-app/_notebooks/scripts/read_data.py:187: SettingWithCopyWarning:\n",
      "\n",
      "\n",
      "A value is trying to be set on a copy of a slice from a DataFrame.\n",
      "Try using .loc[row_indexer,col_indexer] = value instead\n",
      "\n",
      "See the caveats in the documentation: https://pandas.pydata.org/pandas-docs/stable/user_guide/indexing.html#returning-a-view-versus-a-copy\n",
      "\n"
     ]
    },
    {
     "name": "stderr",
     "output_type": "stream",
     "text": [
      "/home/runner/work/corr-app/corr-app/_notebooks/scripts/read_data.py:215: SettingWithCopyWarning:\n",
      "\n",
      "\n",
      "A value is trying to be set on a copy of a slice from a DataFrame.\n",
      "Try using .loc[row_indexer,col_indexer] = value instead\n",
      "\n",
      "See the caveats in the documentation: https://pandas.pydata.org/pandas-docs/stable/user_guide/indexing.html#returning-a-view-versus-a-copy\n",
      "\n"
     ]
    }
   ],
   "source": [
    "#hide\n",
    "df_all = read_api()\n",
    "#df_all = df_all.drop(['SP500', 'XAU', 'ETH', 'BTC'], axis=1)\n",
    "\n"
   ]
  },
  {
   "cell_type": "code",
   "execution_count": 6,
   "id": "mature-alert",
   "metadata": {
    "execution": {
     "iopub.execute_input": "2021-03-12T01:46:21.397917Z",
     "iopub.status.busy": "2021-03-12T01:46:21.397323Z",
     "iopub.status.idle": "2021-03-12T01:46:21.428348Z",
     "shell.execute_reply": "2021-03-12T01:46:21.427609Z"
    },
    "papermill": {
     "duration": 0.049998,
     "end_time": "2021-03-12T01:46:21.428479",
     "exception": false,
     "start_time": "2021-03-12T01:46:21.378481",
     "status": "completed"
    },
    "tags": []
   },
   "outputs": [],
   "source": [
    "#hide_input\n",
    "sum_corr = df_all.corr().sum().sort_values(ascending=True).index.values\n",
    "#df_all[sum_corr].corr()"
   ]
  },
  {
   "cell_type": "markdown",
   "id": "complex-syndicate",
   "metadata": {
    "papermill": {
     "duration": 0.01392,
     "end_time": "2021-03-12T01:46:21.456936",
     "exception": false,
     "start_time": "2021-03-12T01:46:21.443016",
     "status": "completed"
    },
    "tags": []
   },
   "source": [
    "## Išplėstinė koreliacijų matrica. "
   ]
  },
  {
   "cell_type": "code",
   "execution_count": 7,
   "id": "atomic-omaha",
   "metadata": {
    "execution": {
     "iopub.execute_input": "2021-03-12T01:46:21.494167Z",
     "iopub.status.busy": "2021-03-12T01:46:21.493367Z",
     "iopub.status.idle": "2021-03-12T01:46:23.088232Z",
     "shell.execute_reply": "2021-03-12T01:46:23.087588Z"
    },
    "papermill": {
     "duration": 1.617774,
     "end_time": "2021-03-12T01:46:23.088367",
     "exception": false,
     "start_time": "2021-03-12T01:46:21.470593",
     "status": "completed"
    },
    "tags": []
   },
   "outputs": [
    {
     "data": {
      "image/png": "[encoded data removed]",
      "text/plain": [
       "<Figure size 1080x792 with 2 Axes>"
      ]
     },
     "metadata": {
      "needs_background": "light"
     },
     "output_type": "display_data"
    }
   ],
   "source": [
    "#hide_input\n",
    "plt.figure(figsize=(15, 11))\n",
    "sns.heatmap(df_all[sum_corr].corr(), annot=True, cmap=\"cubehelix\") \n",
    "sns.set(font_scale=1.25)\n",
    "plt.savefig('corr_matrix.png', format='eps')"
   ]
  },
  {
   "cell_type": "code",
   "execution_count": 8,
   "id": "arbitrary-sullivan",
   "metadata": {
    "execution": {
     "iopub.execute_input": "2021-03-12T01:46:23.129544Z",
     "iopub.status.busy": "2021-03-12T01:46:23.128898Z",
     "iopub.status.idle": "2021-03-12T01:46:23.154104Z",
     "shell.execute_reply": "2021-03-12T01:46:23.153588Z"
    },
    "papermill": {
     "duration": 0.049157,
     "end_time": "2021-03-12T01:46:23.154249",
     "exception": false,
     "start_time": "2021-03-12T01:46:23.105092",
     "status": "completed"
    },
    "tags": []
   },
   "outputs": [],
   "source": [
    "#hide\n",
    "#df_all_mrk = read_api()"
   ]
  },
  {
   "cell_type": "code",
   "execution_count": 9,
   "id": "delayed-adapter",
   "metadata": {
    "execution": {
     "iopub.execute_input": "2021-03-12T01:46:23.190982Z",
     "iopub.status.busy": "2021-03-12T01:46:23.190300Z",
     "iopub.status.idle": "2021-03-12T01:46:23.217106Z",
     "shell.execute_reply": "2021-03-12T01:46:23.217720Z"
    },
    "papermill": {
     "duration": 0.047927,
     "end_time": "2021-03-12T01:46:23.217905",
     "exception": false,
     "start_time": "2021-03-12T01:46:23.169978",
     "status": "completed"
    },
    "tags": []
   },
   "outputs": [],
   "source": [
    "#hide\n",
    "#Koreliacijų koeficientai"
   ]
  },
  {
   "cell_type": "code",
   "execution_count": 10,
   "id": "seeing-celebration",
   "metadata": {
    "execution": {
     "iopub.execute_input": "2021-03-12T01:46:23.255384Z",
     "iopub.status.busy": "2021-03-12T01:46:23.254696Z",
     "iopub.status.idle": "2021-03-12T01:46:23.290136Z",
     "shell.execute_reply": "2021-03-12T01:46:23.290668Z"
    },
    "papermill": {
     "duration": 0.057069,
     "end_time": "2021-03-12T01:46:23.290836",
     "exception": false,
     "start_time": "2021-03-12T01:46:23.233767",
     "status": "completed"
    },
    "tags": []
   },
   "outputs": [],
   "source": [
    "#hide_input\n",
    "#sum_corr = df_all_mrk.corr().sum().sort_values(ascending=True).index.values\n",
    "#df_all_mrk[sum_corr].corr()"
   ]
  },
  {
   "cell_type": "code",
   "execution_count": 11,
   "id": "other-painting",
   "metadata": {
    "execution": {
     "iopub.execute_input": "2021-03-12T01:46:23.332011Z",
     "iopub.status.busy": "2021-03-12T01:46:23.331338Z",
     "iopub.status.idle": "2021-03-12T01:46:23.360681Z",
     "shell.execute_reply": "2021-03-12T01:46:23.361456Z"
    },
    "papermill": {
     "duration": 0.053286,
     "end_time": "2021-03-12T01:46:23.361666",
     "exception": false,
     "start_time": "2021-03-12T01:46:23.308380",
     "status": "completed"
    },
    "tags": []
   },
   "outputs": [],
   "source": [
    "#hide\n",
    "#Koreliacijos matrica. "
   ]
  },
  {
   "cell_type": "code",
   "execution_count": 12,
   "id": "modular-magnitude",
   "metadata": {
    "execution": {
     "iopub.execute_input": "2021-03-12T01:46:23.413931Z",
     "iopub.status.busy": "2021-03-12T01:46:23.412995Z",
     "iopub.status.idle": "2021-03-12T01:46:23.445659Z",
     "shell.execute_reply": "2021-03-12T01:46:23.445096Z"
    },
    "papermill": {
     "duration": 0.059248,
     "end_time": "2021-03-12T01:46:23.445802",
     "exception": false,
     "start_time": "2021-03-12T01:46:23.386554",
     "status": "completed"
    },
    "tags": []
   },
   "outputs": [],
   "source": [
    "#hide_input\n",
    "#plt.figure(figsize=(15, 8))\n",
    "#sns.heatmap(df_all_mrk[sum_corr].corr(), annot=True, cmap=\"BrBG\");\n",
    "#plt.savefig('corr_matrix_all.eps', format='eps')"
   ]
  },
  {
   "cell_type": "code",
   "execution_count": null,
   "id": "original-senator",
   "metadata": {
    "papermill": {
     "duration": 0.019643,
     "end_time": "2021-03-12T01:46:23.482386",
     "exception": false,
     "start_time": "2021-03-12T01:46:23.462743",
     "status": "completed"
    },
    "tags": []
   },
   "outputs": [],
   "source": []
  },
  {
   "cell_type": "code",
   "execution_count": null,
   "id": "saving-secretariat",
   "metadata": {
    "papermill": {
     "duration": 0.016106,
     "end_time": "2021-03-12T01:46:23.515232",
     "exception": false,
     "start_time": "2021-03-12T01:46:23.499126",
     "status": "completed"
    },
    "tags": []
   },
   "outputs": [],
   "source": []
  }
 ],
 "metadata": {
  "kernelspec": {
   "display_name": "Python 3",
   "language": "python",
   "name": "python3"
  },
  "language_info": {
   "codemirror_mode": {
    "name": "ipython",
    "version": 3
   },
   "file_extension": ".py",
   "mimetype": "text/x-python",
   "name": "python",
   "nbconvert_exporter": "python",
   "pygments_lexer": "ipython3",
   "version": "3.6.13"
  },
  "papermill": {
   "default_parameters": {},
   "duration": 19.363359,
   "end_time": "2021-03-12T01:46:24.762566",
   "environment_variables": {},
   "exception": null,
   "input_path": "App-Correlation_charts.ipynb",
   "output_path": "App-Correlation_charts.ipynb",
   "parameters": {},
   "start_time": "2021-03-12T01:46:05.399207",
   "version": "2.2.2"
  }
 },
 "nbformat": 4,
 "nbformat_minor": 5
}