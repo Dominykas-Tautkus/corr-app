{
 "cells": [
  {
   "cell_type": "markdown",
   "id": "touched-facility",
   "metadata": {
    "papermill": {
     "duration": 0.01877,
     "end_time": "2021-05-13T02:18:10.607019",
     "exception": false,
     "start_time": "2021-05-13T02:18:10.588249",
     "status": "completed"
    },
    "tags": []
   },
   "source": [
    "# Koreliacijų matrica\n",
    "> Išplėstinė koreliacijų matrica. \n",
    "\n",
    "- toc: true \n",
    "- badges: true\n",
    "- comments: false\n",
    "- categories: [Dominykas Tautkus]\n",
    "- image: images/matrix.png"
   ]
  },
  {
   "cell_type": "code",
   "execution_count": null,
   "id": "premium-weekend",
   "metadata": {
    "papermill": {
     "duration": 0.013943,
     "end_time": "2021-05-13T02:18:10.634811",
     "exception": false,
     "start_time": "2021-05-13T02:18:10.620868",
     "status": "completed"
    },
    "tags": []
   },
   "outputs": [],
   "source": []
  },
  {
   "cell_type": "code",
   "execution_count": 1,
   "id": "vertical-rebate",
   "metadata": {
    "execution": {
     "iopub.execute_input": "2021-05-13T02:18:10.681670Z",
     "iopub.status.busy": "2021-05-13T02:18:10.680843Z",
     "iopub.status.idle": "2021-05-13T02:18:10.696531Z",
     "shell.execute_reply": "2021-05-13T02:18:10.696010Z"
    },
    "papermill": {
     "duration": 0.041473,
     "end_time": "2021-05-13T02:18:10.696674",
     "exception": false,
     "start_time": "2021-05-13T02:18:10.655201",
     "status": "completed"
    },
    "tags": []
   },
   "outputs": [],
   "source": [
    "#hide\n",
    "%load_ext autoreload\n",
    "%autoreload 2"
   ]
  },
  {
   "cell_type": "code",
   "execution_count": 2,
   "id": "overall-advancement",
   "metadata": {
    "execution": {
     "iopub.execute_input": "2021-05-13T02:18:10.727298Z",
     "iopub.status.busy": "2021-05-13T02:18:10.726711Z",
     "iopub.status.idle": "2021-05-13T02:18:12.002539Z",
     "shell.execute_reply": "2021-05-13T02:18:12.001439Z"
    },
    "papermill": {
     "duration": 1.293379,
     "end_time": "2021-05-13T02:18:12.002717",
     "exception": false,
     "start_time": "2021-05-13T02:18:10.709338",
     "status": "completed"
    },
    "tags": []
   },
   "outputs": [],
   "source": [
    "#hide\n",
    "from scripts.read_data import read_api\n",
    "from IPython.display import HTML\n",
    "import plotly.graph_objects as go\n"
   ]
  },
  {
   "cell_type": "code",
   "execution_count": 3,
   "id": "light-crazy",
   "metadata": {
    "execution": {
     "iopub.execute_input": "2021-05-13T02:18:12.032487Z",
     "iopub.status.busy": "2021-05-13T02:18:12.031794Z",
     "iopub.status.idle": "2021-05-13T02:18:12.055719Z",
     "shell.execute_reply": "2021-05-13T02:18:12.055175Z"
    },
    "papermill": {
     "duration": 0.0407,
     "end_time": "2021-05-13T02:18:12.055846",
     "exception": false,
     "start_time": "2021-05-13T02:18:12.015146",
     "status": "completed"
    },
    "tags": []
   },
   "outputs": [],
   "source": [
    "#hide\n",
    "### ICO koreliacija"
   ]
  },
  {
   "cell_type": "code",
   "execution_count": 4,
   "id": "likely-bahrain",
   "metadata": {
    "execution": {
     "iopub.execute_input": "2021-05-13T02:18:12.085591Z",
     "iopub.status.busy": "2021-05-13T02:18:12.085000Z",
     "iopub.status.idle": "2021-05-13T02:18:12.981147Z",
     "shell.execute_reply": "2021-05-13T02:18:12.980628Z"
    },
    "papermill": {
     "duration": 0.912877,
     "end_time": "2021-05-13T02:18:12.981286",
     "exception": false,
     "start_time": "2021-05-13T02:18:12.068409",
     "status": "completed"
    },
    "tags": []
   },
   "outputs": [],
   "source": [
    "#hide\n",
    "import matplotlib.pyplot as plt\n",
    "import numpy as np\n",
    "import pandas as pd\n",
    "import seaborn as sns\n",
    "import matplotlib.pyplot as plt \n",
    "import matplotlib.dates as mdates\n",
    "import matplotlib.pyplot as plt"
   ]
  },
  {
   "cell_type": "code",
   "execution_count": 5,
   "id": "superior-blanket",
   "metadata": {
    "execution": {
     "iopub.execute_input": "2021-05-13T02:18:13.011084Z",
     "iopub.status.busy": "2021-05-13T02:18:13.010467Z",
     "iopub.status.idle": "2021-05-13T02:18:30.078096Z",
     "shell.execute_reply": "2021-05-13T02:18:30.077540Z"
    },
    "papermill": {
     "duration": 17.084456,
     "end_time": "2021-05-13T02:18:30.078226",
     "exception": false,
     "start_time": "2021-05-13T02:18:12.993770",
     "status": "completed"
    },
    "tags": []
   },
   "outputs": [
    {
     "name": "stderr",
     "output_type": "stream",
     "text": [
      "/home/runner/work/corr-app/corr-app/_notebooks/scripts/read_data.py:187: SettingWithCopyWarning:\n",
      "\n",
      "\n",
      "A value is trying to be set on a copy of a slice from a DataFrame.\n",
      "Try using .loc[row_indexer,col_indexer] = value instead\n",
      "\n",
      "See the caveats in the documentation: https://pandas.pydata.org/pandas-docs/stable/user_guide/indexing.html#returning-a-view-versus-a-copy\n",
      "\n"
     ]
    },
    {
     "name": "stderr",
     "output_type": "stream",
     "text": [
      "/home/runner/work/corr-app/corr-app/_notebooks/scripts/read_data.py:215: SettingWithCopyWarning:\n",
      "\n",
      "\n",
      "A value is trying to be set on a copy of a slice from a DataFrame.\n",
      "Try using .loc[row_indexer,col_indexer] = value instead\n",
      "\n",
      "See the caveats in the documentation: https://pandas.pydata.org/pandas-docs/stable/user_guide/indexing.html#returning-a-view-versus-a-copy\n",
      "\n"
     ]
    }
   ],
   "source": [
    "#hide\n",
    "df_all = read_api()\n",
    "#df_all = df_all.drop(['SP500', 'XAU', 'ETH', 'BTC'], axis=1)\n",
    "\n"
   ]
  },
  {
   "cell_type": "code",
   "execution_count": 6,
   "id": "mature-alert",
   "metadata": {
    "execution": {
     "iopub.execute_input": "2021-05-13T02:18:30.111546Z",
     "iopub.status.busy": "2021-05-13T02:18:30.110957Z",
     "iopub.status.idle": "2021-05-13T02:18:30.144794Z",
     "shell.execute_reply": "2021-05-13T02:18:30.144285Z"
    },
    "papermill": {
     "duration": 0.052957,
     "end_time": "2021-05-13T02:18:30.144925",
     "exception": false,
     "start_time": "2021-05-13T02:18:30.091968",
     "status": "completed"
    },
    "tags": []
   },
   "outputs": [],
   "source": [
    "#hide_input\n",
    "sum_corr = df_all.corr().sum().sort_values(ascending=True).index.values\n",
    "#df_all[sum_corr].corr()"
   ]
  },
  {
   "cell_type": "markdown",
   "id": "complex-syndicate",
   "metadata": {
    "papermill": {
     "duration": 0.01363,
     "end_time": "2021-05-13T02:18:30.172485",
     "exception": false,
     "start_time": "2021-05-13T02:18:30.158855",
     "status": "completed"
    },
    "tags": []
   },
   "source": [
    "## Išplėstinė koreliacijų matrica. "
   ]
  },
  {
   "cell_type": "code",
   "execution_count": 7,
   "id": "atomic-omaha",
   "metadata": {
    "execution": {
     "iopub.execute_input": "2021-05-13T02:18:30.205649Z",
     "iopub.status.busy": "2021-05-13T02:18:30.205063Z",
     "iopub.status.idle": "2021-05-13T02:18:31.524815Z",
     "shell.execute_reply": "2021-05-13T02:18:31.524217Z"
    },
    "papermill": {
     "duration": 1.33942,
     "end_time": "2021-05-13T02:18:31.524942",
     "exception": false,
     "start_time": "2021-05-13T02:18:30.185522",
     "status": "completed"
    },
    "tags": []
   },
   "outputs": [
    {
     "data": {
      "image/png": "[encoded data removed]",
      "text/plain": [
       "<Figure size 1080x792 with 2 Axes>"
      ]
     },
     "metadata": {
      "needs_background": "light"
     },
     "output_type": "display_data"
    }
   ],
   "source": [
    "#hide_input\n",
    "plt.figure(figsize=(15, 11))\n",
    "sns.heatmap(df_all[sum_corr].corr(), annot=True, cmap=\"cubehelix\") \n",
    "sns.set(font_scale=1.25)\n",
    "plt.savefig('corr_matrix.png', format='eps')"
   ]
  },
  {
   "cell_type": "code",
   "execution_count": 8,
   "id": "arbitrary-sullivan",
   "metadata": {
    "execution": {
     "iopub.execute_input": "2021-05-13T02:18:31.564313Z",
     "iopub.status.busy": "2021-05-13T02:18:31.563505Z",
     "iopub.status.idle": "2021-05-13T02:18:31.586797Z",
     "shell.execute_reply": "2021-05-13T02:18:31.586258Z"
    },
    "papermill": {
     "duration": 0.046499,
     "end_time": "2021-05-13T02:18:31.586926",
     "exception": false,
     "start_time": "2021-05-13T02:18:31.540427",
     "status": "completed"
    },
    "tags": []
   },
   "outputs": [],
   "source": [
    "#hide\n",
    "#df_all_mrk = read_api()"
   ]
  },
  {
   "cell_type": "code",
   "execution_count": 9,
   "id": "delayed-adapter",
   "metadata": {
    "execution": {
     "iopub.execute_input": "2021-05-13T02:18:31.624692Z",
     "iopub.status.busy": "2021-05-13T02:18:31.624081Z",
     "iopub.status.idle": "2021-05-13T02:18:31.651574Z",
     "shell.execute_reply": "2021-05-13T02:18:31.650692Z"
    },
    "papermill": {
     "duration": 0.049762,
     "end_time": "2021-05-13T02:18:31.651771",
     "exception": false,
     "start_time": "2021-05-13T02:18:31.602009",
     "status": "completed"
    },
    "tags": []
   },
   "outputs": [],
   "source": [
    "#hide\n",
    "#Koreliacijų koeficientai"
   ]
  },
  {
   "cell_type": "code",
   "execution_count": 10,
   "id": "seeing-celebration",
   "metadata": {
    "execution": {
     "iopub.execute_input": "2021-05-13T02:18:31.691951Z",
     "iopub.status.busy": "2021-05-13T02:18:31.691378Z",
     "iopub.status.idle": "2021-05-13T02:18:31.715442Z",
     "shell.execute_reply": "2021-05-13T02:18:31.714758Z"
    },
    "papermill": {
     "duration": 0.046404,
     "end_time": "2021-05-13T02:18:31.715616",
     "exception": false,
     "start_time": "2021-05-13T02:18:31.669212",
     "status": "completed"
    },
    "tags": []
   },
   "outputs": [],
   "source": [
    "#hide_input\n",
    "#sum_corr = df_all_mrk.corr().sum().sort_values(ascending=True).index.values\n",
    "#df_all_mrk[sum_corr].corr()"
   ]
  },
  {
   "cell_type": "code",
   "execution_count": 11,
   "id": "other-painting",
   "metadata": {
    "execution": {
     "iopub.execute_input": "2021-05-13T02:18:31.751133Z",
     "iopub.status.busy": "2021-05-13T02:18:31.750470Z",
     "iopub.status.idle": "2021-05-13T02:18:31.778618Z",
     "shell.execute_reply": "2021-05-13T02:18:31.778078Z"
    },
    "papermill": {
     "duration": 0.047303,
     "end_time": "2021-05-13T02:18:31.778757",
     "exception": false,
     "start_time": "2021-05-13T02:18:31.731454",
     "status": "completed"
    },
    "tags": []
   },
   "outputs": [],
   "source": [
    "#hide\n",
    "#Koreliacijos matrica. "
   ]
  },
  {
   "cell_type": "code",
   "execution_count": 12,
   "id": "modular-magnitude",
   "metadata": {
    "execution": {
     "iopub.execute_input": "2021-05-13T02:18:31.817626Z",
     "iopub.status.busy": "2021-05-13T02:18:31.815593Z",
     "iopub.status.idle": "2021-05-13T02:18:31.843651Z",
     "shell.execute_reply": "2021-05-13T02:18:31.843149Z"
    },
    "papermill": {
     "duration": 0.049726,
     "end_time": "2021-05-13T02:18:31.843781",
     "exception": false,
     "start_time": "2021-05-13T02:18:31.794055",
     "status": "completed"
    },
    "tags": []
   },
   "outputs": [],
   "source": [
    "#hide_input\n",
    "#plt.figure(figsize=(15, 8))\n",
    "#sns.heatmap(df_all_mrk[sum_corr].corr(), annot=True, cmap=\"BrBG\");\n",
    "#plt.savefig('corr_matrix_all.eps', format='eps')"
   ]
  },
  {
   "cell_type": "code",
   "execution_count": null,
   "id": "original-senator",
   "metadata": {
    "papermill": {
     "duration": 0.015537,
     "end_time": "2021-05-13T02:18:31.875207",
     "exception": false,
     "start_time": "2021-05-13T02:18:31.859670",
     "status": "completed"
    },
    "tags": []
   },
   "outputs": [],
   "source": []
  },
  {
   "cell_type": "code",
   "execution_count": null,
   "id": "saving-secretariat",
   "metadata": {
    "papermill": {
     "duration": 0.015327,
     "end_time": "2021-05-13T02:18:31.906091",
     "exception": false,
     "start_time": "2021-05-13T02:18:31.890764",
     "status": "completed"
    },
    "tags": []
   },
   "outputs": [],
   "source": []
  }
 ],
 "metadata": {
  "kernelspec": {
   "display_name": "Python 3",
   "language": "python",
   "name": "python3"
  },
  "language_info": {
   "codemirror_mode": {
    "name": "ipython",
    "version": 3
   },
   "file_extension": ".py",
   "mimetype": "text/x-python",
   "name": "python",
   "nbconvert_exporter": "python",
   "pygments_lexer": "ipython3",
   "version": "3.6.13"
  },
  "papermill": {
   "default_parameters": {},
   "duration": 23.130238,
   "end_time": "2021-05-13T02:18:32.432521",
   "environment_variables": {},
   "exception": null,
   "input_path": "App-Correlation_charts.ipynb",
   "output_path": "App-Correlation_charts.ipynb",
   "parameters": {},
   "start_time": "2021-05-13T02:18:09.302283",
   "version": "2.2.2"
  }
 },
 "nbformat": 4,
 "nbformat_minor": 5
}