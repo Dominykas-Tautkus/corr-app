{
 "cells": [
  {
   "cell_type": "markdown",
   "id": "touched-facility",
   "metadata": {
    "papermill": {
     "duration": 0.015547,
     "end_time": "2021-06-18T02:07:09.144501",
     "exception": false,
     "start_time": "2021-06-18T02:07:09.128954",
     "status": "completed"
    },
    "tags": []
   },
   "source": [
    "# Koreliacijų matrica\n",
    "> Išplėstinė koreliacijų matrica. \n",
    "\n",
    "- toc: true \n",
    "- badges: true\n",
    "- comments: false\n",
    "- categories: [Dominykas Tautkus]\n",
    "- image: images/matrix.png"
   ]
  },
  {
   "cell_type": "code",
   "execution_count": null,
   "id": "premium-weekend",
   "metadata": {
    "papermill": {
     "duration": 0.011014,
     "end_time": "2021-06-18T02:07:09.167997",
     "exception": false,
     "start_time": "2021-06-18T02:07:09.156983",
     "status": "completed"
    },
    "tags": []
   },
   "outputs": [],
   "source": []
  },
  {
   "cell_type": "code",
   "execution_count": 1,
   "id": "vertical-rebate",
   "metadata": {
    "execution": {
     "iopub.execute_input": "2021-06-18T02:07:09.203146Z",
     "iopub.status.busy": "2021-06-18T02:07:09.202654Z",
     "iopub.status.idle": "2021-06-18T02:07:09.213996Z",
     "shell.execute_reply": "2021-06-18T02:07:09.213490Z"
    },
    "papermill": {
     "duration": 0.034953,
     "end_time": "2021-06-18T02:07:09.214131",
     "exception": false,
     "start_time": "2021-06-18T02:07:09.179178",
     "status": "completed"
    },
    "tags": []
   },
   "outputs": [],
   "source": [
    "#hide\n",
    "%load_ext autoreload\n",
    "%autoreload 2"
   ]
  },
  {
   "cell_type": "code",
   "execution_count": 2,
   "id": "overall-advancement",
   "metadata": {
    "execution": {
     "iopub.execute_input": "2021-06-18T02:07:09.240683Z",
     "iopub.status.busy": "2021-06-18T02:07:09.240150Z",
     "iopub.status.idle": "2021-06-18T02:07:10.270638Z",
     "shell.execute_reply": "2021-06-18T02:07:10.270032Z"
    },
    "papermill": {
     "duration": 1.044987,
     "end_time": "2021-06-18T02:07:10.270791",
     "exception": false,
     "start_time": "2021-06-18T02:07:09.225804",
     "status": "completed"
    },
    "tags": []
   },
   "outputs": [],
   "source": [
    "#hide\n",
    "from scripts.read_data import read_api\n",
    "from IPython.display import HTML\n",
    "import plotly.graph_objects as go\n"
   ]
  },
  {
   "cell_type": "code",
   "execution_count": 3,
   "id": "light-crazy",
   "metadata": {
    "execution": {
     "iopub.execute_input": "2021-06-18T02:07:10.298604Z",
     "iopub.status.busy": "2021-06-18T02:07:10.298014Z",
     "iopub.status.idle": "2021-06-18T02:07:10.321802Z",
     "shell.execute_reply": "2021-06-18T02:07:10.321269Z"
    },
    "papermill": {
     "duration": 0.038539,
     "end_time": "2021-06-18T02:07:10.321969",
     "exception": false,
     "start_time": "2021-06-18T02:07:10.283430",
     "status": "completed"
    },
    "tags": []
   },
   "outputs": [],
   "source": [
    "#hide\n",
    "### ICO koreliacija"
   ]
  },
  {
   "cell_type": "code",
   "execution_count": 4,
   "id": "likely-bahrain",
   "metadata": {
    "execution": {
     "iopub.execute_input": "2021-06-18T02:07:10.351592Z",
     "iopub.status.busy": "2021-06-18T02:07:10.350037Z",
     "iopub.status.idle": "2021-06-18T02:07:11.315166Z",
     "shell.execute_reply": "2021-06-18T02:07:11.314516Z"
    },
    "papermill": {
     "duration": 0.981283,
     "end_time": "2021-06-18T02:07:11.315328",
     "exception": false,
     "start_time": "2021-06-18T02:07:10.334045",
     "status": "completed"
    },
    "tags": []
   },
   "outputs": [],
   "source": [
    "#hide\n",
    "import matplotlib.pyplot as plt\n",
    "import numpy as np\n",
    "import pandas as pd\n",
    "import seaborn as sns\n",
    "import matplotlib.pyplot as plt \n",
    "import matplotlib.dates as mdates\n",
    "import matplotlib.pyplot as plt"
   ]
  },
  {
   "cell_type": "code",
   "execution_count": 5,
   "id": "superior-blanket",
   "metadata": {
    "execution": {
     "iopub.execute_input": "2021-06-18T02:07:11.345310Z",
     "iopub.status.busy": "2021-06-18T02:07:11.343267Z",
     "iopub.status.idle": "2021-06-18T02:07:21.689768Z",
     "shell.execute_reply": "2021-06-18T02:07:21.689299Z"
    },
    "papermill": {
     "duration": 10.362705,
     "end_time": "2021-06-18T02:07:21.689882",
     "exception": false,
     "start_time": "2021-06-18T02:07:11.327177",
     "status": "completed"
    },
    "tags": []
   },
   "outputs": [
    {
     "name": "stderr",
     "output_type": "stream",
     "text": [
      "/home/runner/work/corr-app/corr-app/_notebooks/scripts/read_data.py:187: SettingWithCopyWarning:\n",
      "\n",
      "\n",
      "A value is trying to be set on a copy of a slice from a DataFrame.\n",
      "Try using .loc[row_indexer,col_indexer] = value instead\n",
      "\n",
      "See the caveats in the documentation: https://pandas.pydata.org/pandas-docs/stable/user_guide/indexing.html#returning-a-view-versus-a-copy\n",
      "\n"
     ]
    },
    {
     "name": "stderr",
     "output_type": "stream",
     "text": [
      "/home/runner/work/corr-app/corr-app/_notebooks/scripts/read_data.py:215: SettingWithCopyWarning:\n",
      "\n",
      "\n",
      "A value is trying to be set on a copy of a slice from a DataFrame.\n",
      "Try using .loc[row_indexer,col_indexer] = value instead\n",
      "\n",
      "See the caveats in the documentation: https://pandas.pydata.org/pandas-docs/stable/user_guide/indexing.html#returning-a-view-versus-a-copy\n",
      "\n"
     ]
    }
   ],
   "source": [
    "#hide\n",
    "df_all = read_api()\n",
    "#df_all = df_all.drop(['SP500', 'XAU', 'ETH', 'BTC'], axis=1)\n",
    "\n"
   ]
  },
  {
   "cell_type": "code",
   "execution_count": 6,
   "id": "mature-alert",
   "metadata": {
    "execution": {
     "iopub.execute_input": "2021-06-18T02:07:21.719933Z",
     "iopub.status.busy": "2021-06-18T02:07:21.717481Z",
     "iopub.status.idle": "2021-06-18T02:07:21.745832Z",
     "shell.execute_reply": "2021-06-18T02:07:21.745149Z"
    },
    "papermill": {
     "duration": 0.044408,
     "end_time": "2021-06-18T02:07:21.745998",
     "exception": false,
     "start_time": "2021-06-18T02:07:21.701590",
     "status": "completed"
    },
    "tags": []
   },
   "outputs": [],
   "source": [
    "#hide_input\n",
    "sum_corr = df_all.corr().sum().sort_values(ascending=True).index.values\n",
    "#df_all[sum_corr].corr()"
   ]
  },
  {
   "cell_type": "markdown",
   "id": "complex-syndicate",
   "metadata": {
    "papermill": {
     "duration": 0.011064,
     "end_time": "2021-06-18T02:07:21.769512",
     "exception": false,
     "start_time": "2021-06-18T02:07:21.758448",
     "status": "completed"
    },
    "tags": []
   },
   "source": [
    "## Išplėstinė koreliacijų matrica. "
   ]
  },
  {
   "cell_type": "code",
   "execution_count": 7,
   "id": "atomic-omaha",
   "metadata": {
    "execution": {
     "iopub.execute_input": "2021-06-18T02:07:21.796197Z",
     "iopub.status.busy": "2021-06-18T02:07:21.795665Z",
     "iopub.status.idle": "2021-06-18T02:07:22.966394Z",
     "shell.execute_reply": "2021-06-18T02:07:22.966778Z"
    },
    "papermill": {
     "duration": 1.185909,
     "end_time": "2021-06-18T02:07:22.966906",
     "exception": false,
     "start_time": "2021-06-18T02:07:21.780997",
     "status": "completed"
    },
    "tags": []
   },
   "outputs": [
    {
     "data": {
      "image/png": "[encoded data removed]",
      "text/plain": [
       "<Figure size 1080x792 with 2 Axes>"
      ]
     },
     "metadata": {
      "needs_background": "light"
     },
     "output_type": "display_data"
    }
   ],
   "source": [
    "#hide_input\n",
    "plt.figure(figsize=(15, 11))\n",
    "sns.heatmap(df_all[sum_corr].corr(), annot=True, cmap=\"cubehelix\") \n",
    "sns.set(font_scale=1.25)\n",
    "plt.savefig('corr_matrix.png', format='eps')"
   ]
  },
  {
   "cell_type": "code",
   "execution_count": 8,
   "id": "arbitrary-sullivan",
   "metadata": {
    "execution": {
     "iopub.execute_input": "2021-06-18T02:07:23.122808Z",
     "iopub.status.busy": "2021-06-18T02:07:23.122235Z",
     "iopub.status.idle": "2021-06-18T02:07:23.149317Z",
     "shell.execute_reply": "2021-06-18T02:07:23.148708Z"
    },
    "papermill": {
     "duration": 0.166154,
     "end_time": "2021-06-18T02:07:23.149462",
     "exception": false,
     "start_time": "2021-06-18T02:07:22.983308",
     "status": "completed"
    },
    "tags": []
   },
   "outputs": [],
   "source": [
    "#hide\n",
    "#df_all_mrk = read_api()"
   ]
  },
  {
   "cell_type": "code",
   "execution_count": 9,
   "id": "delayed-adapter",
   "metadata": {
    "execution": {
     "iopub.execute_input": "2021-06-18T02:07:23.221672Z",
     "iopub.status.busy": "2021-06-18T02:07:23.221176Z",
     "iopub.status.idle": "2021-06-18T02:07:23.246481Z",
     "shell.execute_reply": "2021-06-18T02:07:23.245901Z"
    },
    "papermill": {
     "duration": 0.069688,
     "end_time": "2021-06-18T02:07:23.246625",
     "exception": false,
     "start_time": "2021-06-18T02:07:23.176937",
     "status": "completed"
    },
    "tags": []
   },
   "outputs": [],
   "source": [
    "#hide\n",
    "#Koreliacijų koeficientai"
   ]
  },
  {
   "cell_type": "code",
   "execution_count": 10,
   "id": "seeing-celebration",
   "metadata": {
    "execution": {
     "iopub.execute_input": "2021-06-18T02:07:23.277493Z",
     "iopub.status.busy": "2021-06-18T02:07:23.276961Z",
     "iopub.status.idle": "2021-06-18T02:07:23.302760Z",
     "shell.execute_reply": "2021-06-18T02:07:23.302168Z"
    },
    "papermill": {
     "duration": 0.041923,
     "end_time": "2021-06-18T02:07:23.302896",
     "exception": false,
     "start_time": "2021-06-18T02:07:23.260973",
     "status": "completed"
    },
    "tags": []
   },
   "outputs": [],
   "source": [
    "#hide_input\n",
    "#sum_corr = df_all_mrk.corr().sum().sort_values(ascending=True).index.values\n",
    "#df_all_mrk[sum_corr].corr()"
   ]
  },
  {
   "cell_type": "code",
   "execution_count": 11,
   "id": "other-painting",
   "metadata": {
    "execution": {
     "iopub.execute_input": "2021-06-18T02:07:23.337659Z",
     "iopub.status.busy": "2021-06-18T02:07:23.337089Z",
     "iopub.status.idle": "2021-06-18T02:07:23.360062Z",
     "shell.execute_reply": "2021-06-18T02:07:23.360474Z"
    },
    "papermill": {
     "duration": 0.041122,
     "end_time": "2021-06-18T02:07:23.360602",
     "exception": false,
     "start_time": "2021-06-18T02:07:23.319480",
     "status": "completed"
    },
    "tags": []
   },
   "outputs": [],
   "source": [
    "#hide\n",
    "#Koreliacijos matrica. "
   ]
  },
  {
   "cell_type": "code",
   "execution_count": 12,
   "id": "modular-magnitude",
   "metadata": {
    "execution": {
     "iopub.execute_input": "2021-06-18T02:07:23.389388Z",
     "iopub.status.busy": "2021-06-18T02:07:23.388889Z",
     "iopub.status.idle": "2021-06-18T02:07:23.413435Z",
     "shell.execute_reply": "2021-06-18T02:07:23.412894Z"
    },
    "papermill": {
     "duration": 0.040337,
     "end_time": "2021-06-18T02:07:23.413573",
     "exception": false,
     "start_time": "2021-06-18T02:07:23.373236",
     "status": "completed"
    },
    "tags": []
   },
   "outputs": [],
   "source": [
    "#hide_input\n",
    "#plt.figure(figsize=(15, 8))\n",
    "#sns.heatmap(df_all_mrk[sum_corr].corr(), annot=True, cmap=\"BrBG\");\n",
    "#plt.savefig('corr_matrix_all.eps', format='eps')"
   ]
  },
  {
   "cell_type": "code",
   "execution_count": null,
   "id": "original-senator",
   "metadata": {
    "papermill": {
     "duration": 0.013643,
     "end_time": "2021-06-18T02:07:23.442192",
     "exception": false,
     "start_time": "2021-06-18T02:07:23.428549",
     "status": "completed"
    },
    "tags": []
   },
   "outputs": [],
   "source": []
  },
  {
   "cell_type": "code",
   "execution_count": null,
   "id": "saving-secretariat",
   "metadata": {
    "papermill": {
     "duration": 0.014016,
     "end_time": "2021-06-18T02:07:23.469765",
     "exception": false,
     "start_time": "2021-06-18T02:07:23.455749",
     "status": "completed"
    },
    "tags": []
   },
   "outputs": [],
   "source": []
  }
 ],
 "metadata": {
  "kernelspec": {
   "display_name": "Python 3",
   "language": "python",
   "name": "python3"
  },
  "language_info": {
   "codemirror_mode": {
    "name": "ipython",
    "version": 3
   },
   "file_extension": ".py",
   "mimetype": "text/x-python",
   "name": "python",
   "nbconvert_exporter": "python",
   "pygments_lexer": "ipython3",
   "version": "3.6.13"
  },
  "papermill": {
   "default_parameters": {},
   "duration": 15.908969,
   "end_time": "2021-06-18T02:07:23.991244",
   "environment_variables": {},
   "exception": null,
   "input_path": "App-Correlation_charts.ipynb",
   "output_path": "App-Correlation_charts.ipynb",
   "parameters": {},
   "start_time": "2021-06-18T02:07:08.082275",
   "version": "2.2.2"
  }
 },
 "nbformat": 4,
 "nbformat_minor": 5
}