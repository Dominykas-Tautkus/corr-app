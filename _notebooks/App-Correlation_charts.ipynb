{
 "cells": [
  {
   "cell_type": "markdown",
   "id": "touched-facility",
   "metadata": {
    "papermill": {
     "duration": 0.017594,
     "end_time": "2021-05-20T02:13:52.960093",
     "exception": false,
     "start_time": "2021-05-20T02:13:52.942499",
     "status": "completed"
    },
    "tags": []
   },
   "source": [
    "# Koreliacijų matrica\n",
    "> Išplėstinė koreliacijų matrica. \n",
    "\n",
    "- toc: true \n",
    "- badges: true\n",
    "- comments: false\n",
    "- categories: [Dominykas Tautkus]\n",
    "- image: images/matrix.png"
   ]
  },
  {
   "cell_type": "code",
   "execution_count": null,
   "id": "premium-weekend",
   "metadata": {
    "papermill": {
     "duration": 0.013229,
     "end_time": "2021-05-20T02:13:52.987230",
     "exception": false,
     "start_time": "2021-05-20T02:13:52.974001",
     "status": "completed"
    },
    "tags": []
   },
   "outputs": [],
   "source": []
  },
  {
   "cell_type": "code",
   "execution_count": 1,
   "id": "vertical-rebate",
   "metadata": {
    "execution": {
     "iopub.execute_input": "2021-05-20T02:13:53.026711Z",
     "iopub.status.busy": "2021-05-20T02:13:53.026000Z",
     "iopub.status.idle": "2021-05-20T02:13:53.037975Z",
     "shell.execute_reply": "2021-05-20T02:13:53.037378Z"
    },
    "papermill": {
     "duration": 0.036964,
     "end_time": "2021-05-20T02:13:53.038114",
     "exception": false,
     "start_time": "2021-05-20T02:13:53.001150",
     "status": "completed"
    },
    "tags": []
   },
   "outputs": [],
   "source": [
    "#hide\n",
    "%load_ext autoreload\n",
    "%autoreload 2"
   ]
  },
  {
   "cell_type": "code",
   "execution_count": 2,
   "id": "overall-advancement",
   "metadata": {
    "execution": {
     "iopub.execute_input": "2021-05-20T02:13:53.071232Z",
     "iopub.status.busy": "2021-05-20T02:13:53.070531Z",
     "iopub.status.idle": "2021-05-20T02:13:54.363439Z",
     "shell.execute_reply": "2021-05-20T02:13:54.362847Z"
    },
    "papermill": {
     "duration": 1.31132,
     "end_time": "2021-05-20T02:13:54.363587",
     "exception": false,
     "start_time": "2021-05-20T02:13:53.052267",
     "status": "completed"
    },
    "tags": []
   },
   "outputs": [],
   "source": [
    "#hide\n",
    "from scripts.read_data import read_api\n",
    "from IPython.display import HTML\n",
    "import plotly.graph_objects as go\n"
   ]
  },
  {
   "cell_type": "code",
   "execution_count": 3,
   "id": "light-crazy",
   "metadata": {
    "execution": {
     "iopub.execute_input": "2021-05-20T02:13:54.400872Z",
     "iopub.status.busy": "2021-05-20T02:13:54.400201Z",
     "iopub.status.idle": "2021-05-20T02:13:54.424805Z",
     "shell.execute_reply": "2021-05-20T02:13:54.424204Z"
    },
    "papermill": {
     "duration": 0.046561,
     "end_time": "2021-05-20T02:13:54.424939",
     "exception": false,
     "start_time": "2021-05-20T02:13:54.378378",
     "status": "completed"
    },
    "tags": []
   },
   "outputs": [],
   "source": [
    "#hide\n",
    "### ICO koreliacija"
   ]
  },
  {
   "cell_type": "code",
   "execution_count": 4,
   "id": "likely-bahrain",
   "metadata": {
    "execution": {
     "iopub.execute_input": "2021-05-20T02:13:54.469939Z",
     "iopub.status.busy": "2021-05-20T02:13:54.464657Z",
     "iopub.status.idle": "2021-05-20T02:13:55.418977Z",
     "shell.execute_reply": "2021-05-20T02:13:55.418051Z"
    },
    "papermill": {
     "duration": 0.980586,
     "end_time": "2021-05-20T02:13:55.419153",
     "exception": false,
     "start_time": "2021-05-20T02:13:54.438567",
     "status": "completed"
    },
    "tags": []
   },
   "outputs": [],
   "source": [
    "#hide\n",
    "import matplotlib.pyplot as plt\n",
    "import numpy as np\n",
    "import pandas as pd\n",
    "import seaborn as sns\n",
    "import matplotlib.pyplot as plt \n",
    "import matplotlib.dates as mdates\n",
    "import matplotlib.pyplot as plt"
   ]
  },
  {
   "cell_type": "code",
   "execution_count": 5,
   "id": "superior-blanket",
   "metadata": {
    "execution": {
     "iopub.execute_input": "2021-05-20T02:13:55.461335Z",
     "iopub.status.busy": "2021-05-20T02:13:55.455934Z",
     "iopub.status.idle": "2021-05-20T02:14:06.453267Z",
     "shell.execute_reply": "2021-05-20T02:14:06.452191Z"
    },
    "papermill": {
     "duration": 11.020311,
     "end_time": "2021-05-20T02:14:06.453490",
     "exception": false,
     "start_time": "2021-05-20T02:13:55.433179",
     "status": "completed"
    },
    "tags": []
   },
   "outputs": [
    {
     "name": "stderr",
     "output_type": "stream",
     "text": [
      "/home/runner/work/corr-app/corr-app/_notebooks/scripts/read_data.py:187: SettingWithCopyWarning:\n",
      "\n",
      "\n",
      "A value is trying to be set on a copy of a slice from a DataFrame.\n",
      "Try using .loc[row_indexer,col_indexer] = value instead\n",
      "\n",
      "See the caveats in the documentation: https://pandas.pydata.org/pandas-docs/stable/user_guide/indexing.html#returning-a-view-versus-a-copy\n",
      "\n"
     ]
    },
    {
     "name": "stderr",
     "output_type": "stream",
     "text": [
      "/home/runner/work/corr-app/corr-app/_notebooks/scripts/read_data.py:215: SettingWithCopyWarning:\n",
      "\n",
      "\n",
      "A value is trying to be set on a copy of a slice from a DataFrame.\n",
      "Try using .loc[row_indexer,col_indexer] = value instead\n",
      "\n",
      "See the caveats in the documentation: https://pandas.pydata.org/pandas-docs/stable/user_guide/indexing.html#returning-a-view-versus-a-copy\n",
      "\n"
     ]
    }
   ],
   "source": [
    "#hide\n",
    "df_all = read_api()\n",
    "#df_all = df_all.drop(['SP500', 'XAU', 'ETH', 'BTC'], axis=1)\n",
    "\n"
   ]
  },
  {
   "cell_type": "code",
   "execution_count": 6,
   "id": "mature-alert",
   "metadata": {
    "execution": {
     "iopub.execute_input": "2021-05-20T02:14:06.494516Z",
     "iopub.status.busy": "2021-05-20T02:14:06.493234Z",
     "iopub.status.idle": "2021-05-20T02:14:06.536503Z",
     "shell.execute_reply": "2021-05-20T02:14:06.535837Z"
    },
    "papermill": {
     "duration": 0.066144,
     "end_time": "2021-05-20T02:14:06.536633",
     "exception": false,
     "start_time": "2021-05-20T02:14:06.470489",
     "status": "completed"
    },
    "tags": []
   },
   "outputs": [],
   "source": [
    "#hide_input\n",
    "sum_corr = df_all.corr().sum().sort_values(ascending=True).index.values\n",
    "#df_all[sum_corr].corr()"
   ]
  },
  {
   "cell_type": "markdown",
   "id": "complex-syndicate",
   "metadata": {
    "papermill": {
     "duration": 0.014037,
     "end_time": "2021-05-20T02:14:06.565415",
     "exception": false,
     "start_time": "2021-05-20T02:14:06.551378",
     "status": "completed"
    },
    "tags": []
   },
   "source": [
    "## Išplėstinė koreliacijų matrica. "
   ]
  },
  {
   "cell_type": "code",
   "execution_count": 7,
   "id": "atomic-omaha",
   "metadata": {
    "execution": {
     "iopub.execute_input": "2021-05-20T02:14:06.627588Z",
     "iopub.status.busy": "2021-05-20T02:14:06.604346Z",
     "iopub.status.idle": "2021-05-20T02:14:08.117538Z",
     "shell.execute_reply": "2021-05-20T02:14:08.116967Z"
    },
    "papermill": {
     "duration": 1.537846,
     "end_time": "2021-05-20T02:14:08.117684",
     "exception": false,
     "start_time": "2021-05-20T02:14:06.579838",
     "status": "completed"
    },
    "tags": []
   },
   "outputs": [
    {
     "data": {
      "image/png": "[encoded data removed]",
      "text/plain": [
       "<Figure size 1080x792 with 2 Axes>"
      ]
     },
     "metadata": {
      "needs_background": "light"
     },
     "output_type": "display_data"
    }
   ],
   "source": [
    "#hide_input\n",
    "plt.figure(figsize=(15, 11))\n",
    "sns.heatmap(df_all[sum_corr].corr(), annot=True, cmap=\"cubehelix\") \n",
    "sns.set(font_scale=1.25)\n",
    "plt.savefig('corr_matrix.png', format='eps')"
   ]
  },
  {
   "cell_type": "code",
   "execution_count": 8,
   "id": "arbitrary-sullivan",
   "metadata": {
    "execution": {
     "iopub.execute_input": "2021-05-20T02:14:08.160840Z",
     "iopub.status.busy": "2021-05-20T02:14:08.160182Z",
     "iopub.status.idle": "2021-05-20T02:14:08.192240Z",
     "shell.execute_reply": "2021-05-20T02:14:08.192771Z"
    },
    "papermill": {
     "duration": 0.058109,
     "end_time": "2021-05-20T02:14:08.192935",
     "exception": false,
     "start_time": "2021-05-20T02:14:08.134826",
     "status": "completed"
    },
    "tags": []
   },
   "outputs": [],
   "source": [
    "#hide\n",
    "#df_all_mrk = read_api()"
   ]
  },
  {
   "cell_type": "code",
   "execution_count": 9,
   "id": "delayed-adapter",
   "metadata": {
    "execution": {
     "iopub.execute_input": "2021-05-20T02:14:08.229520Z",
     "iopub.status.busy": "2021-05-20T02:14:08.228896Z",
     "iopub.status.idle": "2021-05-20T02:14:08.260930Z",
     "shell.execute_reply": "2021-05-20T02:14:08.260278Z"
    },
    "papermill": {
     "duration": 0.052143,
     "end_time": "2021-05-20T02:14:08.261071",
     "exception": false,
     "start_time": "2021-05-20T02:14:08.208928",
     "status": "completed"
    },
    "tags": []
   },
   "outputs": [],
   "source": [
    "#hide\n",
    "#Koreliacijų koeficientai"
   ]
  },
  {
   "cell_type": "code",
   "execution_count": 10,
   "id": "seeing-celebration",
   "metadata": {
    "execution": {
     "iopub.execute_input": "2021-05-20T02:14:08.299914Z",
     "iopub.status.busy": "2021-05-20T02:14:08.299281Z",
     "iopub.status.idle": "2021-05-20T02:14:08.331718Z",
     "shell.execute_reply": "2021-05-20T02:14:08.330804Z"
    },
    "papermill": {
     "duration": 0.054203,
     "end_time": "2021-05-20T02:14:08.331859",
     "exception": false,
     "start_time": "2021-05-20T02:14:08.277656",
     "status": "completed"
    },
    "tags": []
   },
   "outputs": [],
   "source": [
    "#hide_input\n",
    "#sum_corr = df_all_mrk.corr().sum().sort_values(ascending=True).index.values\n",
    "#df_all_mrk[sum_corr].corr()"
   ]
  },
  {
   "cell_type": "code",
   "execution_count": 11,
   "id": "other-painting",
   "metadata": {
    "execution": {
     "iopub.execute_input": "2021-05-20T02:14:08.370534Z",
     "iopub.status.busy": "2021-05-20T02:14:08.369596Z",
     "iopub.status.idle": "2021-05-20T02:14:08.398455Z",
     "shell.execute_reply": "2021-05-20T02:14:08.397465Z"
    },
    "papermill": {
     "duration": 0.050328,
     "end_time": "2021-05-20T02:14:08.398598",
     "exception": false,
     "start_time": "2021-05-20T02:14:08.348270",
     "status": "completed"
    },
    "tags": []
   },
   "outputs": [],
   "source": [
    "#hide\n",
    "#Koreliacijos matrica. "
   ]
  },
  {
   "cell_type": "code",
   "execution_count": 12,
   "id": "modular-magnitude",
   "metadata": {
    "execution": {
     "iopub.execute_input": "2021-05-20T02:14:08.445351Z",
     "iopub.status.busy": "2021-05-20T02:14:08.438523Z",
     "iopub.status.idle": "2021-05-20T02:14:08.467871Z",
     "shell.execute_reply": "2021-05-20T02:14:08.467360Z"
    },
    "papermill": {
     "duration": 0.048856,
     "end_time": "2021-05-20T02:14:08.468010",
     "exception": false,
     "start_time": "2021-05-20T02:14:08.419154",
     "status": "completed"
    },
    "tags": []
   },
   "outputs": [],
   "source": [
    "#hide_input\n",
    "#plt.figure(figsize=(15, 8))\n",
    "#sns.heatmap(df_all_mrk[sum_corr].corr(), annot=True, cmap=\"BrBG\");\n",
    "#plt.savefig('corr_matrix_all.eps', format='eps')"
   ]
  },
  {
   "cell_type": "code",
   "execution_count": null,
   "id": "original-senator",
   "metadata": {
    "papermill": {
     "duration": 0.015837,
     "end_time": "2021-05-20T02:14:08.499746",
     "exception": false,
     "start_time": "2021-05-20T02:14:08.483909",
     "status": "completed"
    },
    "tags": []
   },
   "outputs": [],
   "source": []
  },
  {
   "cell_type": "code",
   "execution_count": null,
   "id": "saving-secretariat",
   "metadata": {
    "papermill": {
     "duration": 0.015475,
     "end_time": "2021-05-20T02:14:08.531254",
     "exception": false,
     "start_time": "2021-05-20T02:14:08.515779",
     "status": "completed"
    },
    "tags": []
   },
   "outputs": [],
   "source": []
  }
 ],
 "metadata": {
  "kernelspec": {
   "display_name": "Python 3",
   "language": "python",
   "name": "python3"
  },
  "language_info": {
   "codemirror_mode": {
    "name": "ipython",
    "version": 3
   },
   "file_extension": ".py",
   "mimetype": "text/x-python",
   "name": "python",
   "nbconvert_exporter": "python",
   "pygments_lexer": "ipython3",
   "version": "3.6.13"
  },
  "papermill": {
   "default_parameters": {},
   "duration": 18.388671,
   "end_time": "2021-05-20T02:14:10.004092",
   "environment_variables": {},
   "exception": null,
   "input_path": "App-Correlation_charts.ipynb",
   "output_path": "App-Correlation_charts.ipynb",
   "parameters": {},
   "start_time": "2021-05-20T02:13:51.615421",
   "version": "2.2.2"
  }
 },
 "nbformat": 4,
 "nbformat_minor": 5
}