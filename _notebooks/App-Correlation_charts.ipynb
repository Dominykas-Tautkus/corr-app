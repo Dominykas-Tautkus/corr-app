{
 "cells": [
  {
   "cell_type": "markdown",
   "metadata": {
    "papermill": {
     "duration": 0.015196,
     "end_time": "2021-01-16T13:51:24.094035",
     "exception": false,
     "start_time": "2021-01-16T13:51:24.078839",
     "status": "completed"
    },
    "tags": []
   },
   "source": [
    "# Koreliacijų matrica\n",
    "> Išplėstinė koreliacijų matrica. \n",
    "\n",
    "- toc: true \n",
    "- badges: true\n",
    "- comments: false\n",
    "- categories: [Dominykas Tautkus]\n",
    "- image: images/matrix.png"
   ]
  },
  {
   "cell_type": "code",
   "execution_count": null,
   "metadata": {
    "papermill": {
     "duration": 0.303385,
     "end_time": "2021-01-16T13:51:24.827938",
     "exception": false,
     "start_time": "2021-01-16T13:51:24.524553",
     "status": "completed"
    },
    "tags": []
   },
   "outputs": [],
   "source": []
  },
  {
   "cell_type": "code",
   "execution_count": 1,
   "metadata": {
    "execution": {
     "iopub.execute_input": "2021-01-16T13:51:25.286055Z",
     "iopub.status.busy": "2021-01-16T13:51:25.285382Z",
     "iopub.status.idle": "2021-01-16T13:51:25.295724Z",
     "shell.execute_reply": "2021-01-16T13:51:25.296181Z"
    },
    "papermill": {
     "duration": 0.113684,
     "end_time": "2021-01-16T13:51:25.296360",
     "exception": false,
     "start_time": "2021-01-16T13:51:25.182676",
     "status": "completed"
    },
    "tags": []
   },
   "outputs": [],
   "source": [
    "#hide\n",
    "%load_ext autoreload\n",
    "%autoreload 2"
   ]
  },
  {
   "cell_type": "code",
   "execution_count": 2,
   "metadata": {
    "execution": {
     "iopub.execute_input": "2021-01-16T13:51:26.530177Z",
     "iopub.status.busy": "2021-01-16T13:51:26.529522Z",
     "iopub.status.idle": "2021-01-16T13:51:29.231043Z",
     "shell.execute_reply": "2021-01-16T13:51:29.230391Z"
    },
    "papermill": {
     "duration": 3.208102,
     "end_time": "2021-01-16T13:51:29.231183",
     "exception": false,
     "start_time": "2021-01-16T13:51:26.023081",
     "status": "completed"
    },
    "tags": []
   },
   "outputs": [],
   "source": [
    "#hide\n",
    "from scripts.read_data import read_api\n",
    "from IPython.display import HTML\n",
    "import plotly.graph_objects as go\n"
   ]
  },
  {
   "cell_type": "code",
   "execution_count": 3,
   "metadata": {
    "execution": {
     "iopub.execute_input": "2021-01-16T13:51:29.487226Z",
     "iopub.status.busy": "2021-01-16T13:51:29.486155Z",
     "iopub.status.idle": "2021-01-16T13:51:29.507183Z",
     "shell.execute_reply": "2021-01-16T13:51:29.507642Z"
    },
    "papermill": {
     "duration": 0.060915,
     "end_time": "2021-01-16T13:51:29.507807",
     "exception": false,
     "start_time": "2021-01-16T13:51:29.446892",
     "status": "completed"
    },
    "tags": []
   },
   "outputs": [],
   "source": [
    "#hide\n",
    "### ICO koreliacija"
   ]
  },
  {
   "cell_type": "code",
   "execution_count": 4,
   "metadata": {
    "execution": {
     "iopub.execute_input": "2021-01-16T13:51:30.283464Z",
     "iopub.status.busy": "2021-01-16T13:51:30.282845Z",
     "iopub.status.idle": "2021-01-16T13:51:33.618560Z",
     "shell.execute_reply": "2021-01-16T13:51:33.617488Z"
    },
    "papermill": {
     "duration": 3.799332,
     "end_time": "2021-01-16T13:51:33.618702",
     "exception": false,
     "start_time": "2021-01-16T13:51:29.819370",
     "status": "completed"
    },
    "tags": []
   },
   "outputs": [],
   "source": [
    "#hide\n",
    "import matplotlib.pyplot as plt\n",
    "import numpy as np\n",
    "import pandas as pd\n",
    "import seaborn as sns\n",
    "import matplotlib.pyplot as plt \n",
    "import matplotlib.dates as mdates\n",
    "import matplotlib.pyplot as plt"
   ]
  },
  {
   "cell_type": "code",
   "execution_count": 5,
   "metadata": {
    "execution": {
     "iopub.execute_input": "2021-01-16T13:51:33.642141Z",
     "iopub.status.busy": "2021-01-16T13:51:33.641553Z",
     "iopub.status.idle": "2021-01-16T13:51:44.077177Z",
     "shell.execute_reply": "2021-01-16T13:51:44.076640Z"
    },
    "papermill": {
     "duration": 10.449035,
     "end_time": "2021-01-16T13:51:44.077305",
     "exception": false,
     "start_time": "2021-01-16T13:51:33.628270",
     "status": "completed"
    },
    "tags": []
   },
   "outputs": [
    {
     "name": "stderr",
     "output_type": "stream",
     "text": [
      "/home/runner/work/corr-app/corr-app/_notebooks/scripts/read_data.py:187: SettingWithCopyWarning:\n",
      "\n",
      "\n",
      "A value is trying to be set on a copy of a slice from a DataFrame.\n",
      "Try using .loc[row_indexer,col_indexer] = value instead\n",
      "\n",
      "See the caveats in the documentation: https://pandas.pydata.org/pandas-docs/stable/user_guide/indexing.html#returning-a-view-versus-a-copy\n",
      "\n"
     ]
    },
    {
     "name": "stderr",
     "output_type": "stream",
     "text": [
      "/home/runner/work/corr-app/corr-app/_notebooks/scripts/read_data.py:215: SettingWithCopyWarning:\n",
      "\n",
      "\n",
      "A value is trying to be set on a copy of a slice from a DataFrame.\n",
      "Try using .loc[row_indexer,col_indexer] = value instead\n",
      "\n",
      "See the caveats in the documentation: https://pandas.pydata.org/pandas-docs/stable/user_guide/indexing.html#returning-a-view-versus-a-copy\n",
      "\n"
     ]
    }
   ],
   "source": [
    "#hide\n",
    "df_all = read_api()\n",
    "#df_all = df_all.drop(['SP500', 'XAU', 'ETH', 'BTC'], axis=1)\n",
    "\n"
   ]
  },
  {
   "cell_type": "code",
   "execution_count": 6,
   "metadata": {
    "execution": {
     "iopub.execute_input": "2021-01-16T13:51:44.106141Z",
     "iopub.status.busy": "2021-01-16T13:51:44.103892Z",
     "iopub.status.idle": "2021-01-16T13:51:44.135193Z",
     "shell.execute_reply": "2021-01-16T13:51:44.135869Z"
    },
    "papermill": {
     "duration": 0.047689,
     "end_time": "2021-01-16T13:51:44.136073",
     "exception": false,
     "start_time": "2021-01-16T13:51:44.088384",
     "status": "completed"
    },
    "tags": []
   },
   "outputs": [],
   "source": [
    "#hide_input\n",
    "sum_corr = df_all.corr().sum().sort_values(ascending=True).index.values\n",
    "#df_all[sum_corr].corr()"
   ]
  },
  {
   "cell_type": "markdown",
   "metadata": {
    "papermill": {
     "duration": 0.010653,
     "end_time": "2021-01-16T13:51:44.158406",
     "exception": false,
     "start_time": "2021-01-16T13:51:44.147753",
     "status": "completed"
    },
    "tags": []
   },
   "source": [
    "## Išplėstinė koreliacijų matrica. "
   ]
  },
  {
   "cell_type": "code",
   "execution_count": 7,
   "metadata": {
    "execution": {
     "iopub.execute_input": "2021-01-16T13:51:44.186962Z",
     "iopub.status.busy": "2021-01-16T13:51:44.186363Z",
     "iopub.status.idle": "2021-01-16T13:51:45.424955Z",
     "shell.execute_reply": "2021-01-16T13:51:45.424447Z"
    },
    "papermill": {
     "duration": 1.255969,
     "end_time": "2021-01-16T13:51:45.425081",
     "exception": false,
     "start_time": "2021-01-16T13:51:44.169112",
     "status": "completed"
    },
    "tags": []
   },
   "outputs": [
    {
     "data": {
      "image/png": "[encoded data removed]",
      "text/plain": [
       "<Figure size 1080x792 with 2 Axes>"
      ]
     },
     "metadata": {
      "needs_background": "light"
     },
     "output_type": "display_data"
    }
   ],
   "source": [
    "#hide_input\n",
    "plt.figure(figsize=(15, 11))\n",
    "sns.heatmap(df_all[sum_corr].corr(), annot=True, cmap=\"cubehelix\") \n",
    "sns.set(font_scale=1.25)\n",
    "plt.savefig('corr_matrix.png', format='eps')"
   ]
  },
  {
   "cell_type": "code",
   "execution_count": 8,
   "metadata": {
    "execution": {
     "iopub.execute_input": "2021-01-16T13:51:45.455991Z",
     "iopub.status.busy": "2021-01-16T13:51:45.455417Z",
     "iopub.status.idle": "2021-01-16T13:51:45.483358Z",
     "shell.execute_reply": "2021-01-16T13:51:45.482685Z"
    },
    "papermill": {
     "duration": 0.045572,
     "end_time": "2021-01-16T13:51:45.483535",
     "exception": false,
     "start_time": "2021-01-16T13:51:45.437963",
     "status": "completed"
    },
    "tags": []
   },
   "outputs": [],
   "source": [
    "#hide\n",
    "#df_all_mrk = read_api()"
   ]
  },
  {
   "cell_type": "code",
   "execution_count": 9,
   "metadata": {
    "execution": {
     "iopub.execute_input": "2021-01-16T13:51:45.516891Z",
     "iopub.status.busy": "2021-01-16T13:51:45.516284Z",
     "iopub.status.idle": "2021-01-16T13:51:45.543383Z",
     "shell.execute_reply": "2021-01-16T13:51:45.544009Z"
    },
    "papermill": {
     "duration": 0.046927,
     "end_time": "2021-01-16T13:51:45.544219",
     "exception": false,
     "start_time": "2021-01-16T13:51:45.497292",
     "status": "completed"
    },
    "tags": []
   },
   "outputs": [],
   "source": [
    "#hide\n",
    "#Koreliacijų koeficientai"
   ]
  },
  {
   "cell_type": "code",
   "execution_count": 10,
   "metadata": {
    "execution": {
     "iopub.execute_input": "2021-01-16T13:51:45.577974Z",
     "iopub.status.busy": "2021-01-16T13:51:45.575990Z",
     "iopub.status.idle": "2021-01-16T13:51:45.605898Z",
     "shell.execute_reply": "2021-01-16T13:51:45.605309Z"
    },
    "papermill": {
     "duration": 0.047546,
     "end_time": "2021-01-16T13:51:45.606035",
     "exception": false,
     "start_time": "2021-01-16T13:51:45.558489",
     "status": "completed"
    },
    "tags": []
   },
   "outputs": [],
   "source": [
    "#hide_input\n",
    "#sum_corr = df_all_mrk.corr().sum().sort_values(ascending=True).index.values\n",
    "#df_all_mrk[sum_corr].corr()"
   ]
  },
  {
   "cell_type": "code",
   "execution_count": 11,
   "metadata": {
    "execution": {
     "iopub.execute_input": "2021-01-16T13:51:45.637387Z",
     "iopub.status.busy": "2021-01-16T13:51:45.636804Z",
     "iopub.status.idle": "2021-01-16T13:51:45.664774Z",
     "shell.execute_reply": "2021-01-16T13:51:45.665399Z"
    },
    "papermill": {
     "duration": 0.046363,
     "end_time": "2021-01-16T13:51:45.665630",
     "exception": false,
     "start_time": "2021-01-16T13:51:45.619267",
     "status": "completed"
    },
    "tags": []
   },
   "outputs": [],
   "source": [
    "#hide\n",
    "#Koreliacijos matrica. "
   ]
  },
  {
   "cell_type": "code",
   "execution_count": 12,
   "metadata": {
    "execution": {
     "iopub.execute_input": "2021-01-16T13:51:45.700806Z",
     "iopub.status.busy": "2021-01-16T13:51:45.700211Z",
     "iopub.status.idle": "2021-01-16T13:51:45.726076Z",
     "shell.execute_reply": "2021-01-16T13:51:45.725384Z"
    },
    "papermill": {
     "duration": 0.046532,
     "end_time": "2021-01-16T13:51:45.726251",
     "exception": false,
     "start_time": "2021-01-16T13:51:45.679719",
     "status": "completed"
    },
    "tags": []
   },
   "outputs": [],
   "source": [
    "#hide_input\n",
    "#plt.figure(figsize=(15, 8))\n",
    "#sns.heatmap(df_all_mrk[sum_corr].corr(), annot=True, cmap=\"BrBG\");\n",
    "#plt.savefig('corr_matrix_all.eps', format='eps')"
   ]
  },
  {
   "cell_type": "code",
   "execution_count": null,
   "metadata": {
    "papermill": {
     "duration": 0.013706,
     "end_time": "2021-01-16T13:51:45.754143",
     "exception": false,
     "start_time": "2021-01-16T13:51:45.740437",
     "status": "completed"
    },
    "tags": []
   },
   "outputs": [],
   "source": []
  },
  {
   "cell_type": "code",
   "execution_count": null,
   "metadata": {
    "papermill": {
     "duration": 0.411347,
     "end_time": "2021-01-16T13:51:46.179596",
     "exception": false,
     "start_time": "2021-01-16T13:51:45.768249",
     "status": "completed"
    },
    "tags": []
   },
   "outputs": [],
   "source": []
  }
 ],
 "metadata": {
  "kernelspec": {
   "display_name": "Python 3",
   "language": "python",
   "name": "python3"
  },
  "language_info": {
   "codemirror_mode": {
    "name": "ipython",
    "version": 3
   },
   "file_extension": ".py",
   "mimetype": "text/x-python",
   "name": "python",
   "nbconvert_exporter": "python",
   "pygments_lexer": "ipython3",
   "version": "3.6.12"
  },
  "papermill": {
   "default_parameters": {},
   "duration": 23.705062,
   "end_time": "2021-01-16T13:51:46.702565",
   "environment_variables": {},
   "exception": null,
   "input_path": "App-Correlation_charts.ipynb",
   "output_path": "App-Correlation_charts.ipynb",
   "parameters": {},
   "start_time": "2021-01-16T13:51:22.997503",
   "version": "2.2.2"
  }
 },
 "nbformat": 4,
 "nbformat_minor": 4
}