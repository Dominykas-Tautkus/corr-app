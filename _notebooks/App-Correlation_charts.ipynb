{
 "cells": [
  {
   "cell_type": "markdown",
   "id": "touched-facility",
   "metadata": {
    "papermill": {
     "duration": 0.014708,
     "end_time": "2021-02-04T01:36:24.044872",
     "exception": false,
     "start_time": "2021-02-04T01:36:24.030164",
     "status": "completed"
    },
    "tags": []
   },
   "source": [
    "# Koreliacijų matrica\n",
    "> Išplėstinė koreliacijų matrica. \n",
    "\n",
    "- toc: true \n",
    "- badges: true\n",
    "- comments: false\n",
    "- categories: [Dominykas Tautkus]\n",
    "- image: images/matrix.png"
   ]
  },
  {
   "cell_type": "code",
   "execution_count": null,
   "id": "premium-weekend",
   "metadata": {
    "papermill": {
     "duration": 0.012249,
     "end_time": "2021-02-04T01:36:24.069095",
     "exception": false,
     "start_time": "2021-02-04T01:36:24.056846",
     "status": "completed"
    },
    "tags": []
   },
   "outputs": [],
   "source": []
  },
  {
   "cell_type": "code",
   "execution_count": 1,
   "id": "vertical-rebate",
   "metadata": {
    "execution": {
     "iopub.execute_input": "2021-02-04T01:36:24.107168Z",
     "iopub.status.busy": "2021-02-04T01:36:24.105979Z",
     "iopub.status.idle": "2021-02-04T01:36:24.118351Z",
     "shell.execute_reply": "2021-02-04T01:36:24.117907Z"
    },
    "papermill": {
     "duration": 0.037607,
     "end_time": "2021-02-04T01:36:24.118476",
     "exception": false,
     "start_time": "2021-02-04T01:36:24.080869",
     "status": "completed"
    },
    "tags": []
   },
   "outputs": [],
   "source": [
    "#hide\n",
    "%load_ext autoreload\n",
    "%autoreload 2"
   ]
  },
  {
   "cell_type": "code",
   "execution_count": 2,
   "id": "overall-advancement",
   "metadata": {
    "execution": {
     "iopub.execute_input": "2021-02-04T01:36:24.144657Z",
     "iopub.status.busy": "2021-02-04T01:36:24.144113Z",
     "iopub.status.idle": "2021-02-04T01:36:25.210696Z",
     "shell.execute_reply": "2021-02-04T01:36:25.209833Z"
    },
    "papermill": {
     "duration": 1.08191,
     "end_time": "2021-02-04T01:36:25.210924",
     "exception": false,
     "start_time": "2021-02-04T01:36:24.129014",
     "status": "completed"
    },
    "tags": []
   },
   "outputs": [],
   "source": [
    "#hide\n",
    "from scripts.read_data import read_api\n",
    "from IPython.display import HTML\n",
    "import plotly.graph_objects as go\n"
   ]
  },
  {
   "cell_type": "code",
   "execution_count": 3,
   "id": "light-crazy",
   "metadata": {
    "execution": {
     "iopub.execute_input": "2021-02-04T01:36:25.240063Z",
     "iopub.status.busy": "2021-02-04T01:36:25.239502Z",
     "iopub.status.idle": "2021-02-04T01:36:25.261360Z",
     "shell.execute_reply": "2021-02-04T01:36:25.261894Z"
    },
    "papermill": {
     "duration": 0.037471,
     "end_time": "2021-02-04T01:36:25.262060",
     "exception": false,
     "start_time": "2021-02-04T01:36:25.224589",
     "status": "completed"
    },
    "tags": []
   },
   "outputs": [],
   "source": [
    "#hide\n",
    "### ICO koreliacija"
   ]
  },
  {
   "cell_type": "code",
   "execution_count": 4,
   "id": "likely-bahrain",
   "metadata": {
    "execution": {
     "iopub.execute_input": "2021-02-04T01:36:25.287217Z",
     "iopub.status.busy": "2021-02-04T01:36:25.286666Z",
     "iopub.status.idle": "2021-02-04T01:36:26.224666Z",
     "shell.execute_reply": "2021-02-04T01:36:26.224119Z"
    },
    "papermill": {
     "duration": 0.951377,
     "end_time": "2021-02-04T01:36:26.224795",
     "exception": false,
     "start_time": "2021-02-04T01:36:25.273418",
     "status": "completed"
    },
    "tags": []
   },
   "outputs": [],
   "source": [
    "#hide\n",
    "import matplotlib.pyplot as plt\n",
    "import numpy as np\n",
    "import pandas as pd\n",
    "import seaborn as sns\n",
    "import matplotlib.pyplot as plt \n",
    "import matplotlib.dates as mdates\n",
    "import matplotlib.pyplot as plt"
   ]
  },
  {
   "cell_type": "code",
   "execution_count": 5,
   "id": "superior-blanket",
   "metadata": {
    "execution": {
     "iopub.execute_input": "2021-02-04T01:36:26.256627Z",
     "iopub.status.busy": "2021-02-04T01:36:26.255421Z",
     "iopub.status.idle": "2021-02-04T01:36:38.574140Z",
     "shell.execute_reply": "2021-02-04T01:36:38.573274Z"
    },
    "papermill": {
     "duration": 12.338276,
     "end_time": "2021-02-04T01:36:38.574364",
     "exception": false,
     "start_time": "2021-02-04T01:36:26.236088",
     "status": "completed"
    },
    "tags": []
   },
   "outputs": [
    {
     "name": "stderr",
     "output_type": "stream",
     "text": [
      "/home/runner/work/corr-app/corr-app/_notebooks/scripts/read_data.py:187: SettingWithCopyWarning:\n",
      "\n",
      "\n",
      "A value is trying to be set on a copy of a slice from a DataFrame.\n",
      "Try using .loc[row_indexer,col_indexer] = value instead\n",
      "\n",
      "See the caveats in the documentation: https://pandas.pydata.org/pandas-docs/stable/user_guide/indexing.html#returning-a-view-versus-a-copy\n",
      "\n"
     ]
    },
    {
     "name": "stderr",
     "output_type": "stream",
     "text": [
      "/home/runner/work/corr-app/corr-app/_notebooks/scripts/read_data.py:215: SettingWithCopyWarning:\n",
      "\n",
      "\n",
      "A value is trying to be set on a copy of a slice from a DataFrame.\n",
      "Try using .loc[row_indexer,col_indexer] = value instead\n",
      "\n",
      "See the caveats in the documentation: https://pandas.pydata.org/pandas-docs/stable/user_guide/indexing.html#returning-a-view-versus-a-copy\n",
      "\n"
     ]
    }
   ],
   "source": [
    "#hide\n",
    "df_all = read_api()\n",
    "#df_all = df_all.drop(['SP500', 'XAU', 'ETH', 'BTC'], axis=1)\n",
    "\n"
   ]
  },
  {
   "cell_type": "code",
   "execution_count": 6,
   "id": "mature-alert",
   "metadata": {
    "execution": {
     "iopub.execute_input": "2021-02-04T01:36:38.602477Z",
     "iopub.status.busy": "2021-02-04T01:36:38.601791Z",
     "iopub.status.idle": "2021-02-04T01:36:38.629679Z",
     "shell.execute_reply": "2021-02-04T01:36:38.628859Z"
    },
    "papermill": {
     "duration": 0.043786,
     "end_time": "2021-02-04T01:36:38.629875",
     "exception": false,
     "start_time": "2021-02-04T01:36:38.586089",
     "status": "completed"
    },
    "tags": []
   },
   "outputs": [],
   "source": [
    "#hide_input\n",
    "sum_corr = df_all.corr().sum().sort_values(ascending=True).index.values\n",
    "#df_all[sum_corr].corr()"
   ]
  },
  {
   "cell_type": "markdown",
   "id": "complex-syndicate",
   "metadata": {
    "papermill": {
     "duration": 0.011059,
     "end_time": "2021-02-04T01:36:38.654696",
     "exception": false,
     "start_time": "2021-02-04T01:36:38.643637",
     "status": "completed"
    },
    "tags": []
   },
   "source": [
    "## Išplėstinė koreliacijų matrica. "
   ]
  },
  {
   "cell_type": "code",
   "execution_count": 7,
   "id": "atomic-omaha",
   "metadata": {
    "execution": {
     "iopub.execute_input": "2021-02-04T01:36:38.687939Z",
     "iopub.status.busy": "2021-02-04T01:36:38.680098Z",
     "iopub.status.idle": "2021-02-04T01:36:39.781538Z",
     "shell.execute_reply": "2021-02-04T01:36:39.781114Z"
    },
    "papermill": {
     "duration": 1.115856,
     "end_time": "2021-02-04T01:36:39.781654",
     "exception": false,
     "start_time": "2021-02-04T01:36:38.665798",
     "status": "completed"
    },
    "tags": []
   },
   "outputs": [
    {
     "data": {
      "image/png": "[encoded data removed]",
      "text/plain": [
       "<Figure size 1080x792 with 2 Axes>"
      ]
     },
     "metadata": {
      "needs_background": "light"
     },
     "output_type": "display_data"
    }
   ],
   "source": [
    "#hide_input\n",
    "plt.figure(figsize=(15, 11))\n",
    "sns.heatmap(df_all[sum_corr].corr(), annot=True, cmap=\"cubehelix\") \n",
    "sns.set(font_scale=1.25)\n",
    "plt.savefig('corr_matrix.png', format='eps')"
   ]
  },
  {
   "cell_type": "code",
   "execution_count": 8,
   "id": "arbitrary-sullivan",
   "metadata": {
    "execution": {
     "iopub.execute_input": "2021-02-04T01:36:39.810966Z",
     "iopub.status.busy": "2021-02-04T01:36:39.810481Z",
     "iopub.status.idle": "2021-02-04T01:36:39.834526Z",
     "shell.execute_reply": "2021-02-04T01:36:39.835074Z"
    },
    "papermill": {
     "duration": 0.040383,
     "end_time": "2021-02-04T01:36:39.835246",
     "exception": false,
     "start_time": "2021-02-04T01:36:39.794863",
     "status": "completed"
    },
    "tags": []
   },
   "outputs": [],
   "source": [
    "#hide\n",
    "#df_all_mrk = read_api()"
   ]
  },
  {
   "cell_type": "code",
   "execution_count": 9,
   "id": "delayed-adapter",
   "metadata": {
    "execution": {
     "iopub.execute_input": "2021-02-04T01:36:39.866775Z",
     "iopub.status.busy": "2021-02-04T01:36:39.866242Z",
     "iopub.status.idle": "2021-02-04T01:36:39.890426Z",
     "shell.execute_reply": "2021-02-04T01:36:39.890812Z"
    },
    "papermill": {
     "duration": 0.0412,
     "end_time": "2021-02-04T01:36:39.890930",
     "exception": false,
     "start_time": "2021-02-04T01:36:39.849730",
     "status": "completed"
    },
    "tags": []
   },
   "outputs": [],
   "source": [
    "#hide\n",
    "#Koreliacijų koeficientai"
   ]
  },
  {
   "cell_type": "code",
   "execution_count": 10,
   "id": "seeing-celebration",
   "metadata": {
    "execution": {
     "iopub.execute_input": "2021-02-04T01:36:39.919618Z",
     "iopub.status.busy": "2021-02-04T01:36:39.919118Z",
     "iopub.status.idle": "2021-02-04T01:36:39.941400Z",
     "shell.execute_reply": "2021-02-04T01:36:39.940970Z"
    },
    "papermill": {
     "duration": 0.037913,
     "end_time": "2021-02-04T01:36:39.941515",
     "exception": false,
     "start_time": "2021-02-04T01:36:39.903602",
     "status": "completed"
    },
    "tags": []
   },
   "outputs": [],
   "source": [
    "#hide_input\n",
    "#sum_corr = df_all_mrk.corr().sum().sort_values(ascending=True).index.values\n",
    "#df_all_mrk[sum_corr].corr()"
   ]
  },
  {
   "cell_type": "code",
   "execution_count": 11,
   "id": "other-painting",
   "metadata": {
    "execution": {
     "iopub.execute_input": "2021-02-04T01:36:39.972734Z",
     "iopub.status.busy": "2021-02-04T01:36:39.972219Z",
     "iopub.status.idle": "2021-02-04T01:36:39.991994Z",
     "shell.execute_reply": "2021-02-04T01:36:39.991613Z"
    },
    "papermill": {
     "duration": 0.03818,
     "end_time": "2021-02-04T01:36:39.992092",
     "exception": false,
     "start_time": "2021-02-04T01:36:39.953912",
     "status": "completed"
    },
    "tags": []
   },
   "outputs": [],
   "source": [
    "#hide\n",
    "#Koreliacijos matrica. "
   ]
  },
  {
   "cell_type": "code",
   "execution_count": 12,
   "id": "modular-magnitude",
   "metadata": {
    "execution": {
     "iopub.execute_input": "2021-02-04T01:36:40.020034Z",
     "iopub.status.busy": "2021-02-04T01:36:40.019467Z",
     "iopub.status.idle": "2021-02-04T01:36:40.042345Z",
     "shell.execute_reply": "2021-02-04T01:36:40.041791Z"
    },
    "papermill": {
     "duration": 0.038313,
     "end_time": "2021-02-04T01:36:40.042467",
     "exception": false,
     "start_time": "2021-02-04T01:36:40.004154",
     "status": "completed"
    },
    "tags": []
   },
   "outputs": [],
   "source": [
    "#hide_input\n",
    "#plt.figure(figsize=(15, 8))\n",
    "#sns.heatmap(df_all_mrk[sum_corr].corr(), annot=True, cmap=\"BrBG\");\n",
    "#plt.savefig('corr_matrix_all.eps', format='eps')"
   ]
  },
  {
   "cell_type": "code",
   "execution_count": null,
   "id": "original-senator",
   "metadata": {
    "papermill": {
     "duration": 0.013705,
     "end_time": "2021-02-04T01:36:40.069204",
     "exception": false,
     "start_time": "2021-02-04T01:36:40.055499",
     "status": "completed"
    },
    "tags": []
   },
   "outputs": [],
   "source": []
  },
  {
   "cell_type": "code",
   "execution_count": null,
   "id": "saving-secretariat",
   "metadata": {
    "papermill": {
     "duration": 0.012798,
     "end_time": "2021-02-04T01:36:40.095751",
     "exception": false,
     "start_time": "2021-02-04T01:36:40.082953",
     "status": "completed"
    },
    "tags": []
   },
   "outputs": [],
   "source": []
  }
 ],
 "metadata": {
  "kernelspec": {
   "display_name": "Python 3",
   "language": "python",
   "name": "python3"
  },
  "language_info": {
   "codemirror_mode": {
    "name": "ipython",
    "version": 3
   },
   "file_extension": ".py",
   "mimetype": "text/x-python",
   "name": "python",
   "nbconvert_exporter": "python",
   "pygments_lexer": "ipython3",
   "version": "3.6.12"
  },
  "papermill": {
   "default_parameters": {},
   "duration": 17.730597,
   "end_time": "2021-02-04T01:36:40.515888",
   "environment_variables": {},
   "exception": null,
   "input_path": "App-Correlation_charts.ipynb",
   "output_path": "App-Correlation_charts.ipynb",
   "parameters": {},
   "start_time": "2021-02-04T01:36:22.785291",
   "version": "2.2.2"
  }
 },
 "nbformat": 4,
 "nbformat_minor": 5
}