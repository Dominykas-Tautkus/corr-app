{
 "cells": [
  {
   "cell_type": "markdown",
   "id": "touched-facility",
   "metadata": {
    "papermill": {
     "duration": 0.016795,
     "end_time": "2021-04-07T02:09:40.170598",
     "exception": false,
     "start_time": "2021-04-07T02:09:40.153803",
     "status": "completed"
    },
    "tags": []
   },
   "source": [
    "# Koreliacijų matrica\n",
    "> Išplėstinė koreliacijų matrica. \n",
    "\n",
    "- toc: true \n",
    "- badges: true\n",
    "- comments: false\n",
    "- categories: [Dominykas Tautkus]\n",
    "- image: images/matrix.png"
   ]
  },
  {
   "cell_type": "code",
   "execution_count": null,
   "id": "premium-weekend",
   "metadata": {
    "papermill": {
     "duration": 0.012512,
     "end_time": "2021-04-07T02:09:40.195644",
     "exception": false,
     "start_time": "2021-04-07T02:09:40.183132",
     "status": "completed"
    },
    "tags": []
   },
   "outputs": [],
   "source": []
  },
  {
   "cell_type": "code",
   "execution_count": 1,
   "id": "vertical-rebate",
   "metadata": {
    "execution": {
     "iopub.execute_input": "2021-04-07T02:09:40.233123Z",
     "iopub.status.busy": "2021-04-07T02:09:40.232564Z",
     "iopub.status.idle": "2021-04-07T02:09:40.244073Z",
     "shell.execute_reply": "2021-04-07T02:09:40.244545Z"
    },
    "papermill": {
     "duration": 0.037417,
     "end_time": "2021-04-07T02:09:40.244695",
     "exception": false,
     "start_time": "2021-04-07T02:09:40.207278",
     "status": "completed"
    },
    "tags": []
   },
   "outputs": [],
   "source": [
    "#hide\n",
    "%load_ext autoreload\n",
    "%autoreload 2"
   ]
  },
  {
   "cell_type": "code",
   "execution_count": 2,
   "id": "overall-advancement",
   "metadata": {
    "execution": {
     "iopub.execute_input": "2021-04-07T02:09:40.274083Z",
     "iopub.status.busy": "2021-04-07T02:09:40.273081Z",
     "iopub.status.idle": "2021-04-07T02:09:41.451814Z",
     "shell.execute_reply": "2021-04-07T02:09:41.450728Z"
    },
    "papermill": {
     "duration": 1.194972,
     "end_time": "2021-04-07T02:09:41.451957",
     "exception": false,
     "start_time": "2021-04-07T02:09:40.256985",
     "status": "completed"
    },
    "tags": []
   },
   "outputs": [],
   "source": [
    "#hide\n",
    "from scripts.read_data import read_api\n",
    "from IPython.display import HTML\n",
    "import plotly.graph_objects as go\n"
   ]
  },
  {
   "cell_type": "code",
   "execution_count": 3,
   "id": "light-crazy",
   "metadata": {
    "execution": {
     "iopub.execute_input": "2021-04-07T02:09:41.482174Z",
     "iopub.status.busy": "2021-04-07T02:09:41.480008Z",
     "iopub.status.idle": "2021-04-07T02:09:41.503878Z",
     "shell.execute_reply": "2021-04-07T02:09:41.502505Z"
    },
    "papermill": {
     "duration": 0.040174,
     "end_time": "2021-04-07T02:09:41.504031",
     "exception": false,
     "start_time": "2021-04-07T02:09:41.463857",
     "status": "completed"
    },
    "tags": []
   },
   "outputs": [],
   "source": [
    "#hide\n",
    "### ICO koreliacija"
   ]
  },
  {
   "cell_type": "code",
   "execution_count": 4,
   "id": "likely-bahrain",
   "metadata": {
    "execution": {
     "iopub.execute_input": "2021-04-07T02:09:41.534910Z",
     "iopub.status.busy": "2021-04-07T02:09:41.534328Z",
     "iopub.status.idle": "2021-04-07T02:09:42.493144Z",
     "shell.execute_reply": "2021-04-07T02:09:42.492634Z"
    },
    "papermill": {
     "duration": 0.976218,
     "end_time": "2021-04-07T02:09:42.493269",
     "exception": false,
     "start_time": "2021-04-07T02:09:41.517051",
     "status": "completed"
    },
    "tags": []
   },
   "outputs": [],
   "source": [
    "#hide\n",
    "import matplotlib.pyplot as plt\n",
    "import numpy as np\n",
    "import pandas as pd\n",
    "import seaborn as sns\n",
    "import matplotlib.pyplot as plt \n",
    "import matplotlib.dates as mdates\n",
    "import matplotlib.pyplot as plt"
   ]
  },
  {
   "cell_type": "code",
   "execution_count": 5,
   "id": "superior-blanket",
   "metadata": {
    "execution": {
     "iopub.execute_input": "2021-04-07T02:09:42.531195Z",
     "iopub.status.busy": "2021-04-07T02:09:42.524566Z",
     "iopub.status.idle": "2021-04-07T02:09:54.462809Z",
     "shell.execute_reply": "2021-04-07T02:09:54.462261Z"
    },
    "papermill": {
     "duration": 11.956325,
     "end_time": "2021-04-07T02:09:54.462942",
     "exception": false,
     "start_time": "2021-04-07T02:09:42.506617",
     "status": "completed"
    },
    "tags": []
   },
   "outputs": [
    {
     "name": "stderr",
     "output_type": "stream",
     "text": [
      "/home/runner/work/corr-app/corr-app/_notebooks/scripts/read_data.py:187: SettingWithCopyWarning:\n",
      "\n",
      "\n",
      "A value is trying to be set on a copy of a slice from a DataFrame.\n",
      "Try using .loc[row_indexer,col_indexer] = value instead\n",
      "\n",
      "See the caveats in the documentation: https://pandas.pydata.org/pandas-docs/stable/user_guide/indexing.html#returning-a-view-versus-a-copy\n",
      "\n"
     ]
    },
    {
     "name": "stderr",
     "output_type": "stream",
     "text": [
      "/home/runner/work/corr-app/corr-app/_notebooks/scripts/read_data.py:215: SettingWithCopyWarning:\n",
      "\n",
      "\n",
      "A value is trying to be set on a copy of a slice from a DataFrame.\n",
      "Try using .loc[row_indexer,col_indexer] = value instead\n",
      "\n",
      "See the caveats in the documentation: https://pandas.pydata.org/pandas-docs/stable/user_guide/indexing.html#returning-a-view-versus-a-copy\n",
      "\n"
     ]
    }
   ],
   "source": [
    "#hide\n",
    "df_all = read_api()\n",
    "#df_all = df_all.drop(['SP500', 'XAU', 'ETH', 'BTC'], axis=1)\n",
    "\n"
   ]
  },
  {
   "cell_type": "code",
   "execution_count": 6,
   "id": "mature-alert",
   "metadata": {
    "execution": {
     "iopub.execute_input": "2021-04-07T02:09:54.492073Z",
     "iopub.status.busy": "2021-04-07T02:09:54.491455Z",
     "iopub.status.idle": "2021-04-07T02:09:54.526355Z",
     "shell.execute_reply": "2021-04-07T02:09:54.524540Z"
    },
    "papermill": {
     "duration": 0.05079,
     "end_time": "2021-04-07T02:09:54.526595",
     "exception": false,
     "start_time": "2021-04-07T02:09:54.475805",
     "status": "completed"
    },
    "tags": []
   },
   "outputs": [],
   "source": [
    "#hide_input\n",
    "sum_corr = df_all.corr().sum().sort_values(ascending=True).index.values\n",
    "#df_all[sum_corr].corr()"
   ]
  },
  {
   "cell_type": "markdown",
   "id": "complex-syndicate",
   "metadata": {
    "papermill": {
     "duration": 0.0134,
     "end_time": "2021-04-07T02:09:54.555527",
     "exception": false,
     "start_time": "2021-04-07T02:09:54.542127",
     "status": "completed"
    },
    "tags": []
   },
   "source": [
    "## Išplėstinė koreliacijų matrica. "
   ]
  },
  {
   "cell_type": "code",
   "execution_count": 7,
   "id": "atomic-omaha",
   "metadata": {
    "execution": {
     "iopub.execute_input": "2021-04-07T02:09:54.587736Z",
     "iopub.status.busy": "2021-04-07T02:09:54.587151Z",
     "iopub.status.idle": "2021-04-07T02:09:55.892160Z",
     "shell.execute_reply": "2021-04-07T02:09:55.891653Z"
    },
    "papermill": {
     "duration": 1.323961,
     "end_time": "2021-04-07T02:09:55.892295",
     "exception": false,
     "start_time": "2021-04-07T02:09:54.568334",
     "status": "completed"
    },
    "tags": []
   },
   "outputs": [
    {
     "data": {
      "image/png": "[encoded data removed]",
      "text/plain": [
       "<Figure size 1080x792 with 2 Axes>"
      ]
     },
     "metadata": {
      "needs_background": "light"
     },
     "output_type": "display_data"
    }
   ],
   "source": [
    "#hide_input\n",
    "plt.figure(figsize=(15, 11))\n",
    "sns.heatmap(df_all[sum_corr].corr(), annot=True, cmap=\"cubehelix\") \n",
    "sns.set(font_scale=1.25)\n",
    "plt.savefig('corr_matrix.png', format='eps')"
   ]
  },
  {
   "cell_type": "code",
   "execution_count": 8,
   "id": "arbitrary-sullivan",
   "metadata": {
    "execution": {
     "iopub.execute_input": "2021-04-07T02:09:55.927703Z",
     "iopub.status.busy": "2021-04-07T02:09:55.927098Z",
     "iopub.status.idle": "2021-04-07T02:09:55.958409Z",
     "shell.execute_reply": "2021-04-07T02:09:55.957358Z"
    },
    "papermill": {
     "duration": 0.050608,
     "end_time": "2021-04-07T02:09:55.958537",
     "exception": false,
     "start_time": "2021-04-07T02:09:55.907929",
     "status": "completed"
    },
    "tags": []
   },
   "outputs": [],
   "source": [
    "#hide\n",
    "#df_all_mrk = read_api()"
   ]
  },
  {
   "cell_type": "code",
   "execution_count": 9,
   "id": "delayed-adapter",
   "metadata": {
    "execution": {
     "iopub.execute_input": "2021-04-07T02:09:55.992606Z",
     "iopub.status.busy": "2021-04-07T02:09:55.992026Z",
     "iopub.status.idle": "2021-04-07T02:09:56.023843Z",
     "shell.execute_reply": "2021-04-07T02:09:56.023044Z"
    },
    "papermill": {
     "duration": 0.05027,
     "end_time": "2021-04-07T02:09:56.024033",
     "exception": false,
     "start_time": "2021-04-07T02:09:55.973763",
     "status": "completed"
    },
    "tags": []
   },
   "outputs": [],
   "source": [
    "#hide\n",
    "#Koreliacijų koeficientai"
   ]
  },
  {
   "cell_type": "code",
   "execution_count": 10,
   "id": "seeing-celebration",
   "metadata": {
    "execution": {
     "iopub.execute_input": "2021-04-07T02:09:56.061065Z",
     "iopub.status.busy": "2021-04-07T02:09:56.060491Z",
     "iopub.status.idle": "2021-04-07T02:09:56.091555Z",
     "shell.execute_reply": "2021-04-07T02:09:56.090701Z"
    },
    "papermill": {
     "duration": 0.049237,
     "end_time": "2021-04-07T02:09:56.091779",
     "exception": false,
     "start_time": "2021-04-07T02:09:56.042542",
     "status": "completed"
    },
    "tags": []
   },
   "outputs": [],
   "source": [
    "#hide_input\n",
    "#sum_corr = df_all_mrk.corr().sum().sort_values(ascending=True).index.values\n",
    "#df_all_mrk[sum_corr].corr()"
   ]
  },
  {
   "cell_type": "code",
   "execution_count": 11,
   "id": "other-painting",
   "metadata": {
    "execution": {
     "iopub.execute_input": "2021-04-07T02:09:56.127186Z",
     "iopub.status.busy": "2021-04-07T02:09:56.126610Z",
     "iopub.status.idle": "2021-04-07T02:09:56.158904Z",
     "shell.execute_reply": "2021-04-07T02:09:56.158025Z"
    },
    "papermill": {
     "duration": 0.052049,
     "end_time": "2021-04-07T02:09:56.159101",
     "exception": false,
     "start_time": "2021-04-07T02:09:56.107052",
     "status": "completed"
    },
    "tags": []
   },
   "outputs": [],
   "source": [
    "#hide\n",
    "#Koreliacijos matrica. "
   ]
  },
  {
   "cell_type": "code",
   "execution_count": 12,
   "id": "modular-magnitude",
   "metadata": {
    "execution": {
     "iopub.execute_input": "2021-04-07T02:09:56.194686Z",
     "iopub.status.busy": "2021-04-07T02:09:56.194119Z",
     "iopub.status.idle": "2021-04-07T02:09:56.222557Z",
     "shell.execute_reply": "2021-04-07T02:09:56.222025Z"
    },
    "papermill": {
     "duration": 0.046461,
     "end_time": "2021-04-07T02:09:56.222691",
     "exception": false,
     "start_time": "2021-04-07T02:09:56.176230",
     "status": "completed"
    },
    "tags": []
   },
   "outputs": [],
   "source": [
    "#hide_input\n",
    "#plt.figure(figsize=(15, 8))\n",
    "#sns.heatmap(df_all_mrk[sum_corr].corr(), annot=True, cmap=\"BrBG\");\n",
    "#plt.savefig('corr_matrix_all.eps', format='eps')"
   ]
  },
  {
   "cell_type": "code",
   "execution_count": null,
   "id": "original-senator",
   "metadata": {
    "papermill": {
     "duration": 0.015031,
     "end_time": "2021-04-07T02:09:56.253022",
     "exception": false,
     "start_time": "2021-04-07T02:09:56.237991",
     "status": "completed"
    },
    "tags": []
   },
   "outputs": [],
   "source": []
  },
  {
   "cell_type": "code",
   "execution_count": null,
   "id": "saving-secretariat",
   "metadata": {
    "papermill": {
     "duration": 0.015018,
     "end_time": "2021-04-07T02:09:56.283068",
     "exception": false,
     "start_time": "2021-04-07T02:09:56.268050",
     "status": "completed"
    },
    "tags": []
   },
   "outputs": [],
   "source": []
  }
 ],
 "metadata": {
  "kernelspec": {
   "display_name": "Python 3",
   "language": "python",
   "name": "python3"
  },
  "language_info": {
   "codemirror_mode": {
    "name": "ipython",
    "version": 3
   },
   "file_extension": ".py",
   "mimetype": "text/x-python",
   "name": "python",
   "nbconvert_exporter": "python",
   "pygments_lexer": "ipython3",
   "version": "3.6.13"
  },
  "papermill": {
   "default_parameters": {},
   "duration": 17.921258,
   "end_time": "2021-04-07T02:09:56.807210",
   "environment_variables": {},
   "exception": null,
   "input_path": "App-Correlation_charts.ipynb",
   "output_path": "App-Correlation_charts.ipynb",
   "parameters": {},
   "start_time": "2021-04-07T02:09:38.885952",
   "version": "2.2.2"
  }
 },
 "nbformat": 4,
 "nbformat_minor": 5
}