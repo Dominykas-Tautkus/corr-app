{
 "cells": [
  {
   "cell_type": "markdown",
   "id": "touched-facility",
   "metadata": {
    "papermill": {
     "duration": 0.019335,
     "end_time": "2021-02-28T01:43:21.789957",
     "exception": false,
     "start_time": "2021-02-28T01:43:21.770622",
     "status": "completed"
    },
    "tags": []
   },
   "source": [
    "# Koreliacijų matrica\n",
    "> Išplėstinė koreliacijų matrica. \n",
    "\n",
    "- toc: true \n",
    "- badges: true\n",
    "- comments: false\n",
    "- categories: [Dominykas Tautkus]\n",
    "- image: images/matrix.png"
   ]
  },
  {
   "cell_type": "code",
   "execution_count": null,
   "id": "premium-weekend",
   "metadata": {
    "papermill": {
     "duration": 0.014742,
     "end_time": "2021-02-28T01:43:21.817743",
     "exception": false,
     "start_time": "2021-02-28T01:43:21.803001",
     "status": "completed"
    },
    "tags": []
   },
   "outputs": [],
   "source": []
  },
  {
   "cell_type": "code",
   "execution_count": 1,
   "id": "vertical-rebate",
   "metadata": {
    "execution": {
     "iopub.execute_input": "2021-02-28T01:43:21.857364Z",
     "iopub.status.busy": "2021-02-28T01:43:21.856779Z",
     "iopub.status.idle": "2021-02-28T01:43:21.867457Z",
     "shell.execute_reply": "2021-02-28T01:43:21.866966Z"
    },
    "papermill": {
     "duration": 0.0366,
     "end_time": "2021-02-28T01:43:21.867580",
     "exception": false,
     "start_time": "2021-02-28T01:43:21.830980",
     "status": "completed"
    },
    "tags": []
   },
   "outputs": [],
   "source": [
    "#hide\n",
    "%load_ext autoreload\n",
    "%autoreload 2"
   ]
  },
  {
   "cell_type": "code",
   "execution_count": 2,
   "id": "overall-advancement",
   "metadata": {
    "execution": {
     "iopub.execute_input": "2021-02-28T01:43:21.899522Z",
     "iopub.status.busy": "2021-02-28T01:43:21.898987Z",
     "iopub.status.idle": "2021-02-28T01:43:23.179923Z",
     "shell.execute_reply": "2021-02-28T01:43:23.179395Z"
    },
    "papermill": {
     "duration": 1.299149,
     "end_time": "2021-02-28T01:43:23.180055",
     "exception": false,
     "start_time": "2021-02-28T01:43:21.880906",
     "status": "completed"
    },
    "tags": []
   },
   "outputs": [],
   "source": [
    "#hide\n",
    "from scripts.read_data import read_api\n",
    "from IPython.display import HTML\n",
    "import plotly.graph_objects as go\n"
   ]
  },
  {
   "cell_type": "code",
   "execution_count": 3,
   "id": "light-crazy",
   "metadata": {
    "execution": {
     "iopub.execute_input": "2021-02-28T01:43:23.210276Z",
     "iopub.status.busy": "2021-02-28T01:43:23.209623Z",
     "iopub.status.idle": "2021-02-28T01:43:23.237897Z",
     "shell.execute_reply": "2021-02-28T01:43:23.237171Z"
    },
    "papermill": {
     "duration": 0.044985,
     "end_time": "2021-02-28T01:43:23.238026",
     "exception": false,
     "start_time": "2021-02-28T01:43:23.193041",
     "status": "completed"
    },
    "tags": []
   },
   "outputs": [],
   "source": [
    "#hide\n",
    "### ICO koreliacija"
   ]
  },
  {
   "cell_type": "code",
   "execution_count": 4,
   "id": "likely-bahrain",
   "metadata": {
    "execution": {
     "iopub.execute_input": "2021-02-28T01:43:23.267058Z",
     "iopub.status.busy": "2021-02-28T01:43:23.266391Z",
     "iopub.status.idle": "2021-02-28T01:43:24.392998Z",
     "shell.execute_reply": "2021-02-28T01:43:24.393514Z"
    },
    "papermill": {
     "duration": 1.143284,
     "end_time": "2021-02-28T01:43:24.393661",
     "exception": false,
     "start_time": "2021-02-28T01:43:23.250377",
     "status": "completed"
    },
    "tags": []
   },
   "outputs": [],
   "source": [
    "#hide\n",
    "import matplotlib.pyplot as plt\n",
    "import numpy as np\n",
    "import pandas as pd\n",
    "import seaborn as sns\n",
    "import matplotlib.pyplot as plt \n",
    "import matplotlib.dates as mdates\n",
    "import matplotlib.pyplot as plt"
   ]
  },
  {
   "cell_type": "code",
   "execution_count": 5,
   "id": "superior-blanket",
   "metadata": {
    "execution": {
     "iopub.execute_input": "2021-02-28T01:43:24.427683Z",
     "iopub.status.busy": "2021-02-28T01:43:24.427096Z",
     "iopub.status.idle": "2021-02-28T01:43:35.310738Z",
     "shell.execute_reply": "2021-02-28T01:43:35.310166Z"
    },
    "papermill": {
     "duration": 10.904933,
     "end_time": "2021-02-28T01:43:35.310880",
     "exception": false,
     "start_time": "2021-02-28T01:43:24.405947",
     "status": "completed"
    },
    "tags": []
   },
   "outputs": [
    {
     "name": "stderr",
     "output_type": "stream",
     "text": [
      "/home/runner/work/corr-app/corr-app/_notebooks/scripts/read_data.py:187: SettingWithCopyWarning:\n",
      "\n",
      "\n",
      "A value is trying to be set on a copy of a slice from a DataFrame.\n",
      "Try using .loc[row_indexer,col_indexer] = value instead\n",
      "\n",
      "See the caveats in the documentation: https://pandas.pydata.org/pandas-docs/stable/user_guide/indexing.html#returning-a-view-versus-a-copy\n",
      "\n"
     ]
    },
    {
     "name": "stderr",
     "output_type": "stream",
     "text": [
      "/home/runner/work/corr-app/corr-app/_notebooks/scripts/read_data.py:215: SettingWithCopyWarning:\n",
      "\n",
      "\n",
      "A value is trying to be set on a copy of a slice from a DataFrame.\n",
      "Try using .loc[row_indexer,col_indexer] = value instead\n",
      "\n",
      "See the caveats in the documentation: https://pandas.pydata.org/pandas-docs/stable/user_guide/indexing.html#returning-a-view-versus-a-copy\n",
      "\n"
     ]
    }
   ],
   "source": [
    "#hide\n",
    "df_all = read_api()\n",
    "#df_all = df_all.drop(['SP500', 'XAU', 'ETH', 'BTC'], axis=1)\n",
    "\n"
   ]
  },
  {
   "cell_type": "code",
   "execution_count": 6,
   "id": "mature-alert",
   "metadata": {
    "execution": {
     "iopub.execute_input": "2021-02-28T01:43:35.339656Z",
     "iopub.status.busy": "2021-02-28T01:43:35.339081Z",
     "iopub.status.idle": "2021-02-28T01:43:35.367428Z",
     "shell.execute_reply": "2021-02-28T01:43:35.366752Z"
    },
    "papermill": {
     "duration": 0.043909,
     "end_time": "2021-02-28T01:43:35.367532",
     "exception": false,
     "start_time": "2021-02-28T01:43:35.323623",
     "status": "completed"
    },
    "tags": []
   },
   "outputs": [],
   "source": [
    "#hide_input\n",
    "sum_corr = df_all.corr().sum().sort_values(ascending=True).index.values\n",
    "#df_all[sum_corr].corr()"
   ]
  },
  {
   "cell_type": "markdown",
   "id": "complex-syndicate",
   "metadata": {
    "papermill": {
     "duration": 0.012706,
     "end_time": "2021-02-28T01:43:35.394098",
     "exception": false,
     "start_time": "2021-02-28T01:43:35.381392",
     "status": "completed"
    },
    "tags": []
   },
   "source": [
    "## Išplėstinė koreliacijų matrica. "
   ]
  },
  {
   "cell_type": "code",
   "execution_count": 7,
   "id": "atomic-omaha",
   "metadata": {
    "execution": {
     "iopub.execute_input": "2021-02-28T01:43:35.428259Z",
     "iopub.status.busy": "2021-02-28T01:43:35.427500Z",
     "iopub.status.idle": "2021-02-28T01:43:36.967061Z",
     "shell.execute_reply": "2021-02-28T01:43:36.966476Z"
    },
    "papermill": {
     "duration": 1.556334,
     "end_time": "2021-02-28T01:43:36.967201",
     "exception": false,
     "start_time": "2021-02-28T01:43:35.410867",
     "status": "completed"
    },
    "tags": []
   },
   "outputs": [
    {
     "data": {
      "image/png": "[encoded data removed]",
      "text/plain": [
       "<Figure size 1080x792 with 2 Axes>"
      ]
     },
     "metadata": {
      "needs_background": "light"
     },
     "output_type": "display_data"
    }
   ],
   "source": [
    "#hide_input\n",
    "plt.figure(figsize=(15, 11))\n",
    "sns.heatmap(df_all[sum_corr].corr(), annot=True, cmap=\"cubehelix\") \n",
    "sns.set(font_scale=1.25)\n",
    "plt.savefig('corr_matrix.png', format='eps')"
   ]
  },
  {
   "cell_type": "code",
   "execution_count": 8,
   "id": "arbitrary-sullivan",
   "metadata": {
    "execution": {
     "iopub.execute_input": "2021-02-28T01:43:37.003747Z",
     "iopub.status.busy": "2021-02-28T01:43:37.003169Z",
     "iopub.status.idle": "2021-02-28T01:43:37.027347Z",
     "shell.execute_reply": "2021-02-28T01:43:37.026746Z"
    },
    "papermill": {
     "duration": 0.045599,
     "end_time": "2021-02-28T01:43:37.027476",
     "exception": false,
     "start_time": "2021-02-28T01:43:36.981877",
     "status": "completed"
    },
    "tags": []
   },
   "outputs": [],
   "source": [
    "#hide\n",
    "#df_all_mrk = read_api()"
   ]
  },
  {
   "cell_type": "code",
   "execution_count": 9,
   "id": "delayed-adapter",
   "metadata": {
    "execution": {
     "iopub.execute_input": "2021-02-28T01:43:37.059458Z",
     "iopub.status.busy": "2021-02-28T01:43:37.058728Z",
     "iopub.status.idle": "2021-02-28T01:43:37.085342Z",
     "shell.execute_reply": "2021-02-28T01:43:37.084816Z"
    },
    "papermill": {
     "duration": 0.044596,
     "end_time": "2021-02-28T01:43:37.085462",
     "exception": false,
     "start_time": "2021-02-28T01:43:37.040866",
     "status": "completed"
    },
    "tags": []
   },
   "outputs": [],
   "source": [
    "#hide\n",
    "#Koreliacijų koeficientai"
   ]
  },
  {
   "cell_type": "code",
   "execution_count": 10,
   "id": "seeing-celebration",
   "metadata": {
    "execution": {
     "iopub.execute_input": "2021-02-28T01:43:37.125741Z",
     "iopub.status.busy": "2021-02-28T01:43:37.125133Z",
     "iopub.status.idle": "2021-02-28T01:43:37.149376Z",
     "shell.execute_reply": "2021-02-28T01:43:37.148882Z"
    },
    "papermill": {
     "duration": 0.045211,
     "end_time": "2021-02-28T01:43:37.149553",
     "exception": false,
     "start_time": "2021-02-28T01:43:37.104342",
     "status": "completed"
    },
    "tags": []
   },
   "outputs": [],
   "source": [
    "#hide_input\n",
    "#sum_corr = df_all_mrk.corr().sum().sort_values(ascending=True).index.values\n",
    "#df_all_mrk[sum_corr].corr()"
   ]
  },
  {
   "cell_type": "code",
   "execution_count": 11,
   "id": "other-painting",
   "metadata": {
    "execution": {
     "iopub.execute_input": "2021-02-28T01:43:37.184621Z",
     "iopub.status.busy": "2021-02-28T01:43:37.184077Z",
     "iopub.status.idle": "2021-02-28T01:43:37.209542Z",
     "shell.execute_reply": "2021-02-28T01:43:37.210063Z"
    },
    "papermill": {
     "duration": 0.046116,
     "end_time": "2021-02-28T01:43:37.210191",
     "exception": false,
     "start_time": "2021-02-28T01:43:37.164075",
     "status": "completed"
    },
    "tags": []
   },
   "outputs": [],
   "source": [
    "#hide\n",
    "#Koreliacijos matrica. "
   ]
  },
  {
   "cell_type": "code",
   "execution_count": 12,
   "id": "modular-magnitude",
   "metadata": {
    "execution": {
     "iopub.execute_input": "2021-02-28T01:43:37.245228Z",
     "iopub.status.busy": "2021-02-28T01:43:37.243893Z",
     "iopub.status.idle": "2021-02-28T01:43:37.270183Z",
     "shell.execute_reply": "2021-02-28T01:43:37.269565Z"
    },
    "papermill": {
     "duration": 0.046025,
     "end_time": "2021-02-28T01:43:37.270306",
     "exception": false,
     "start_time": "2021-02-28T01:43:37.224281",
     "status": "completed"
    },
    "tags": []
   },
   "outputs": [],
   "source": [
    "#hide_input\n",
    "#plt.figure(figsize=(15, 8))\n",
    "#sns.heatmap(df_all_mrk[sum_corr].corr(), annot=True, cmap=\"BrBG\");\n",
    "#plt.savefig('corr_matrix_all.eps', format='eps')"
   ]
  },
  {
   "cell_type": "code",
   "execution_count": null,
   "id": "original-senator",
   "metadata": {
    "papermill": {
     "duration": 0.013789,
     "end_time": "2021-02-28T01:43:37.298928",
     "exception": false,
     "start_time": "2021-02-28T01:43:37.285139",
     "status": "completed"
    },
    "tags": []
   },
   "outputs": [],
   "source": []
  },
  {
   "cell_type": "code",
   "execution_count": null,
   "id": "saving-secretariat",
   "metadata": {
    "papermill": {
     "duration": 0.013809,
     "end_time": "2021-02-28T01:43:37.326813",
     "exception": false,
     "start_time": "2021-02-28T01:43:37.313004",
     "status": "completed"
    },
    "tags": []
   },
   "outputs": [],
   "source": []
  }
 ],
 "metadata": {
  "kernelspec": {
   "display_name": "Python 3",
   "language": "python",
   "name": "python3"
  },
  "language_info": {
   "codemirror_mode": {
    "name": "ipython",
    "version": 3
   },
   "file_extension": ".py",
   "mimetype": "text/x-python",
   "name": "python",
   "nbconvert_exporter": "python",
   "pygments_lexer": "ipython3",
   "version": "3.6.13"
  },
  "papermill": {
   "default_parameters": {},
   "duration": 18.343675,
   "end_time": "2021-02-28T01:43:38.821439",
   "environment_variables": {},
   "exception": null,
   "input_path": "App-Correlation_charts.ipynb",
   "output_path": "App-Correlation_charts.ipynb",
   "parameters": {},
   "start_time": "2021-02-28T01:43:20.477764",
   "version": "2.2.2"
  }
 },
 "nbformat": 4,
 "nbformat_minor": 5
}