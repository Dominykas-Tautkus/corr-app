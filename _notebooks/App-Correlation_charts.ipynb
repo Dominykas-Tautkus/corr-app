{
 "cells": [
  {
   "cell_type": "markdown",
   "id": "touched-facility",
   "metadata": {
    "papermill": {
     "duration": 0.013844,
     "end_time": "2021-06-10T02:18:19.751201",
     "exception": false,
     "start_time": "2021-06-10T02:18:19.737357",
     "status": "completed"
    },
    "tags": []
   },
   "source": [
    "# Koreliacijų matrica\n",
    "> Išplėstinė koreliacijų matrica. \n",
    "\n",
    "- toc: true \n",
    "- badges: true\n",
    "- comments: false\n",
    "- categories: [Dominykas Tautkus]\n",
    "- image: images/matrix.png"
   ]
  },
  {
   "cell_type": "code",
   "execution_count": null,
   "id": "premium-weekend",
   "metadata": {
    "papermill": {
     "duration": 0.010424,
     "end_time": "2021-06-10T02:18:19.773723",
     "exception": false,
     "start_time": "2021-06-10T02:18:19.763299",
     "status": "completed"
    },
    "tags": []
   },
   "outputs": [],
   "source": []
  },
  {
   "cell_type": "code",
   "execution_count": 1,
   "id": "vertical-rebate",
   "metadata": {
    "execution": {
     "iopub.execute_input": "2021-06-10T02:18:19.805374Z",
     "iopub.status.busy": "2021-06-10T02:18:19.804705Z",
     "iopub.status.idle": "2021-06-10T02:18:19.813987Z",
     "shell.execute_reply": "2021-06-10T02:18:19.814471Z"
    },
    "papermill": {
     "duration": 0.029965,
     "end_time": "2021-06-10T02:18:19.814595",
     "exception": false,
     "start_time": "2021-06-10T02:18:19.784630",
     "status": "completed"
    },
    "tags": []
   },
   "outputs": [],
   "source": [
    "#hide\n",
    "%load_ext autoreload\n",
    "%autoreload 2"
   ]
  },
  {
   "cell_type": "code",
   "execution_count": 2,
   "id": "overall-advancement",
   "metadata": {
    "execution": {
     "iopub.execute_input": "2021-06-10T02:18:19.838358Z",
     "iopub.status.busy": "2021-06-10T02:18:19.837867Z",
     "iopub.status.idle": "2021-06-10T02:18:20.983260Z",
     "shell.execute_reply": "2021-06-10T02:18:20.982407Z"
    },
    "papermill": {
     "duration": 1.158171,
     "end_time": "2021-06-10T02:18:20.983386",
     "exception": false,
     "start_time": "2021-06-10T02:18:19.825215",
     "status": "completed"
    },
    "tags": []
   },
   "outputs": [],
   "source": [
    "#hide\n",
    "from scripts.read_data import read_api\n",
    "from IPython.display import HTML\n",
    "import plotly.graph_objects as go\n"
   ]
  },
  {
   "cell_type": "code",
   "execution_count": 3,
   "id": "light-crazy",
   "metadata": {
    "execution": {
     "iopub.execute_input": "2021-06-10T02:18:21.011136Z",
     "iopub.status.busy": "2021-06-10T02:18:21.010567Z",
     "iopub.status.idle": "2021-06-10T02:18:21.031445Z",
     "shell.execute_reply": "2021-06-10T02:18:21.030993Z"
    },
    "papermill": {
     "duration": 0.0361,
     "end_time": "2021-06-10T02:18:21.031621",
     "exception": false,
     "start_time": "2021-06-10T02:18:20.995521",
     "status": "completed"
    },
    "tags": []
   },
   "outputs": [],
   "source": [
    "#hide\n",
    "### ICO koreliacija"
   ]
  },
  {
   "cell_type": "code",
   "execution_count": 4,
   "id": "likely-bahrain",
   "metadata": {
    "execution": {
     "iopub.execute_input": "2021-06-10T02:18:21.059645Z",
     "iopub.status.busy": "2021-06-10T02:18:21.059049Z",
     "iopub.status.idle": "2021-06-10T02:18:21.913884Z",
     "shell.execute_reply": "2021-06-10T02:18:21.913414Z"
    },
    "papermill": {
     "duration": 0.870694,
     "end_time": "2021-06-10T02:18:21.913999",
     "exception": false,
     "start_time": "2021-06-10T02:18:21.043305",
     "status": "completed"
    },
    "tags": []
   },
   "outputs": [],
   "source": [
    "#hide\n",
    "import matplotlib.pyplot as plt\n",
    "import numpy as np\n",
    "import pandas as pd\n",
    "import seaborn as sns\n",
    "import matplotlib.pyplot as plt \n",
    "import matplotlib.dates as mdates\n",
    "import matplotlib.pyplot as plt"
   ]
  },
  {
   "cell_type": "code",
   "execution_count": 5,
   "id": "superior-blanket",
   "metadata": {
    "execution": {
     "iopub.execute_input": "2021-06-10T02:18:21.941179Z",
     "iopub.status.busy": "2021-06-10T02:18:21.940616Z",
     "iopub.status.idle": "2021-06-10T02:18:33.209762Z",
     "shell.execute_reply": "2021-06-10T02:18:33.209273Z"
    },
    "papermill": {
     "duration": 11.283996,
     "end_time": "2021-06-10T02:18:33.209874",
     "exception": false,
     "start_time": "2021-06-10T02:18:21.925878",
     "status": "completed"
    },
    "tags": []
   },
   "outputs": [
    {
     "name": "stderr",
     "output_type": "stream",
     "text": [
      "/home/runner/work/corr-app/corr-app/_notebooks/scripts/read_data.py:187: SettingWithCopyWarning:\n",
      "\n",
      "\n",
      "A value is trying to be set on a copy of a slice from a DataFrame.\n",
      "Try using .loc[row_indexer,col_indexer] = value instead\n",
      "\n",
      "See the caveats in the documentation: https://pandas.pydata.org/pandas-docs/stable/user_guide/indexing.html#returning-a-view-versus-a-copy\n",
      "\n"
     ]
    },
    {
     "name": "stderr",
     "output_type": "stream",
     "text": [
      "/home/runner/work/corr-app/corr-app/_notebooks/scripts/read_data.py:215: SettingWithCopyWarning:\n",
      "\n",
      "\n",
      "A value is trying to be set on a copy of a slice from a DataFrame.\n",
      "Try using .loc[row_indexer,col_indexer] = value instead\n",
      "\n",
      "See the caveats in the documentation: https://pandas.pydata.org/pandas-docs/stable/user_guide/indexing.html#returning-a-view-versus-a-copy\n",
      "\n"
     ]
    }
   ],
   "source": [
    "#hide\n",
    "df_all = read_api()\n",
    "#df_all = df_all.drop(['SP500', 'XAU', 'ETH', 'BTC'], axis=1)\n",
    "\n"
   ]
  },
  {
   "cell_type": "code",
   "execution_count": 6,
   "id": "mature-alert",
   "metadata": {
    "execution": {
     "iopub.execute_input": "2021-06-10T02:18:33.236854Z",
     "iopub.status.busy": "2021-06-10T02:18:33.236331Z",
     "iopub.status.idle": "2021-06-10T02:18:33.261958Z",
     "shell.execute_reply": "2021-06-10T02:18:33.262345Z"
    },
    "papermill": {
     "duration": 0.040363,
     "end_time": "2021-06-10T02:18:33.262457",
     "exception": false,
     "start_time": "2021-06-10T02:18:33.222094",
     "status": "completed"
    },
    "tags": []
   },
   "outputs": [],
   "source": [
    "#hide_input\n",
    "sum_corr = df_all.corr().sum().sort_values(ascending=True).index.values\n",
    "#df_all[sum_corr].corr()"
   ]
  },
  {
   "cell_type": "markdown",
   "id": "complex-syndicate",
   "metadata": {
    "papermill": {
     "duration": 0.011284,
     "end_time": "2021-06-10T02:18:33.284620",
     "exception": false,
     "start_time": "2021-06-10T02:18:33.273336",
     "status": "completed"
    },
    "tags": []
   },
   "source": [
    "## Išplėstinė koreliacijų matrica. "
   ]
  },
  {
   "cell_type": "code",
   "execution_count": 7,
   "id": "atomic-omaha",
   "metadata": {
    "execution": {
     "iopub.execute_input": "2021-06-10T02:18:33.310472Z",
     "iopub.status.busy": "2021-06-10T02:18:33.309936Z",
     "iopub.status.idle": "2021-06-10T02:18:34.747055Z",
     "shell.execute_reply": "2021-06-10T02:18:34.746527Z"
    },
    "papermill": {
     "duration": 1.451555,
     "end_time": "2021-06-10T02:18:34.747174",
     "exception": false,
     "start_time": "2021-06-10T02:18:33.295619",
     "status": "completed"
    },
    "tags": []
   },
   "outputs": [
    {
     "data": {
      "image/png": "[encoded data removed]",
      "text/plain": [
       "<Figure size 1080x792 with 2 Axes>"
      ]
     },
     "metadata": {
      "needs_background": "light"
     },
     "output_type": "display_data"
    }
   ],
   "source": [
    "#hide_input\n",
    "plt.figure(figsize=(15, 11))\n",
    "sns.heatmap(df_all[sum_corr].corr(), annot=True, cmap=\"cubehelix\") \n",
    "sns.set(font_scale=1.25)\n",
    "plt.savefig('corr_matrix.png', format='eps')"
   ]
  },
  {
   "cell_type": "code",
   "execution_count": 8,
   "id": "arbitrary-sullivan",
   "metadata": {
    "execution": {
     "iopub.execute_input": "2021-06-10T02:18:34.782400Z",
     "iopub.status.busy": "2021-06-10T02:18:34.781221Z",
     "iopub.status.idle": "2021-06-10T02:18:34.805210Z",
     "shell.execute_reply": "2021-06-10T02:18:34.804754Z"
    },
    "papermill": {
     "duration": 0.043139,
     "end_time": "2021-06-10T02:18:34.805304",
     "exception": false,
     "start_time": "2021-06-10T02:18:34.762165",
     "status": "completed"
    },
    "tags": []
   },
   "outputs": [],
   "source": [
    "#hide\n",
    "#df_all_mrk = read_api()"
   ]
  },
  {
   "cell_type": "code",
   "execution_count": 9,
   "id": "delayed-adapter",
   "metadata": {
    "execution": {
     "iopub.execute_input": "2021-06-10T02:18:34.839555Z",
     "iopub.status.busy": "2021-06-10T02:18:34.838021Z",
     "iopub.status.idle": "2021-06-10T02:18:34.860972Z",
     "shell.execute_reply": "2021-06-10T02:18:34.861523Z"
    },
    "papermill": {
     "duration": 0.042575,
     "end_time": "2021-06-10T02:18:34.861639",
     "exception": false,
     "start_time": "2021-06-10T02:18:34.819064",
     "status": "completed"
    },
    "tags": []
   },
   "outputs": [],
   "source": [
    "#hide\n",
    "#Koreliacijų koeficientai"
   ]
  },
  {
   "cell_type": "code",
   "execution_count": 10,
   "id": "seeing-celebration",
   "metadata": {
    "execution": {
     "iopub.execute_input": "2021-06-10T02:18:34.897930Z",
     "iopub.status.busy": "2021-06-10T02:18:34.897433Z",
     "iopub.status.idle": "2021-06-10T02:18:34.914753Z",
     "shell.execute_reply": "2021-06-10T02:18:34.915142Z"
    },
    "papermill": {
     "duration": 0.038879,
     "end_time": "2021-06-10T02:18:34.915268",
     "exception": false,
     "start_time": "2021-06-10T02:18:34.876389",
     "status": "completed"
    },
    "tags": []
   },
   "outputs": [],
   "source": [
    "#hide_input\n",
    "#sum_corr = df_all_mrk.corr().sum().sort_values(ascending=True).index.values\n",
    "#df_all_mrk[sum_corr].corr()"
   ]
  },
  {
   "cell_type": "code",
   "execution_count": 11,
   "id": "other-painting",
   "metadata": {
    "execution": {
     "iopub.execute_input": "2021-06-10T02:18:34.948583Z",
     "iopub.status.busy": "2021-06-10T02:18:34.947433Z",
     "iopub.status.idle": "2021-06-10T02:18:34.976121Z",
     "shell.execute_reply": "2021-06-10T02:18:34.976621Z"
    },
    "papermill": {
     "duration": 0.048225,
     "end_time": "2021-06-10T02:18:34.976746",
     "exception": false,
     "start_time": "2021-06-10T02:18:34.928521",
     "status": "completed"
    },
    "tags": []
   },
   "outputs": [],
   "source": [
    "#hide\n",
    "#Koreliacijos matrica. "
   ]
  },
  {
   "cell_type": "code",
   "execution_count": 12,
   "id": "modular-magnitude",
   "metadata": {
    "execution": {
     "iopub.execute_input": "2021-06-10T02:18:35.008562Z",
     "iopub.status.busy": "2021-06-10T02:18:35.008029Z",
     "iopub.status.idle": "2021-06-10T02:18:35.029570Z",
     "shell.execute_reply": "2021-06-10T02:18:35.029989Z"
    },
    "papermill": {
     "duration": 0.038527,
     "end_time": "2021-06-10T02:18:35.030099",
     "exception": false,
     "start_time": "2021-06-10T02:18:34.991572",
     "status": "completed"
    },
    "tags": []
   },
   "outputs": [],
   "source": [
    "#hide_input\n",
    "#plt.figure(figsize=(15, 8))\n",
    "#sns.heatmap(df_all_mrk[sum_corr].corr(), annot=True, cmap=\"BrBG\");\n",
    "#plt.savefig('corr_matrix_all.eps', format='eps')"
   ]
  },
  {
   "cell_type": "code",
   "execution_count": null,
   "id": "original-senator",
   "metadata": {
    "papermill": {
     "duration": 0.015587,
     "end_time": "2021-06-10T02:18:35.059766",
     "exception": false,
     "start_time": "2021-06-10T02:18:35.044179",
     "status": "completed"
    },
    "tags": []
   },
   "outputs": [],
   "source": []
  },
  {
   "cell_type": "code",
   "execution_count": null,
   "id": "saving-secretariat",
   "metadata": {
    "papermill": {
     "duration": 0.013572,
     "end_time": "2021-06-10T02:18:35.088787",
     "exception": false,
     "start_time": "2021-06-10T02:18:35.075215",
     "status": "completed"
    },
    "tags": []
   },
   "outputs": [],
   "source": []
  }
 ],
 "metadata": {
  "kernelspec": {
   "display_name": "Python 3",
   "language": "python",
   "name": "python3"
  },
  "language_info": {
   "codemirror_mode": {
    "name": "ipython",
    "version": 3
   },
   "file_extension": ".py",
   "mimetype": "text/x-python",
   "name": "python",
   "nbconvert_exporter": "python",
   "pygments_lexer": "ipython3",
   "version": "3.6.13"
  },
  "papermill": {
   "default_parameters": {},
   "duration": 17.009664,
   "end_time": "2021-06-10T02:18:35.511658",
   "environment_variables": {},
   "exception": null,
   "input_path": "App-Correlation_charts.ipynb",
   "output_path": "App-Correlation_charts.ipynb",
   "parameters": {},
   "start_time": "2021-06-10T02:18:18.501994",
   "version": "2.2.2"
  }
 },
 "nbformat": 4,
 "nbformat_minor": 5
}