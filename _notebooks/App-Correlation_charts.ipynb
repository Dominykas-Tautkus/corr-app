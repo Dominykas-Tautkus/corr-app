{
 "cells": [
  {
   "cell_type": "markdown",
   "id": "touched-facility",
   "metadata": {
    "papermill": {
     "duration": 0.022471,
     "end_time": "2021-04-21T02:07:10.021505",
     "exception": false,
     "start_time": "2021-04-21T02:07:09.999034",
     "status": "completed"
    },
    "tags": []
   },
   "source": [
    "# Koreliacijų matrica\n",
    "> Išplėstinė koreliacijų matrica. \n",
    "\n",
    "- toc: true \n",
    "- badges: true\n",
    "- comments: false\n",
    "- categories: [Dominykas Tautkus]\n",
    "- image: images/matrix.png"
   ]
  },
  {
   "cell_type": "code",
   "execution_count": null,
   "id": "premium-weekend",
   "metadata": {
    "papermill": {
     "duration": 0.015925,
     "end_time": "2021-04-21T02:07:10.054354",
     "exception": false,
     "start_time": "2021-04-21T02:07:10.038429",
     "status": "completed"
    },
    "tags": []
   },
   "outputs": [],
   "source": []
  },
  {
   "cell_type": "code",
   "execution_count": 1,
   "id": "vertical-rebate",
   "metadata": {
    "execution": {
     "iopub.execute_input": "2021-04-21T02:07:10.098660Z",
     "iopub.status.busy": "2021-04-21T02:07:10.097890Z",
     "iopub.status.idle": "2021-04-21T02:07:10.111457Z",
     "shell.execute_reply": "2021-04-21T02:07:10.110842Z"
    },
    "papermill": {
     "duration": 0.042282,
     "end_time": "2021-04-21T02:07:10.111648",
     "exception": false,
     "start_time": "2021-04-21T02:07:10.069366",
     "status": "completed"
    },
    "tags": []
   },
   "outputs": [],
   "source": [
    "#hide\n",
    "%load_ext autoreload\n",
    "%autoreload 2"
   ]
  },
  {
   "cell_type": "code",
   "execution_count": 2,
   "id": "overall-advancement",
   "metadata": {
    "execution": {
     "iopub.execute_input": "2021-04-21T02:07:10.145605Z",
     "iopub.status.busy": "2021-04-21T02:07:10.144821Z",
     "iopub.status.idle": "2021-04-21T02:07:11.516868Z",
     "shell.execute_reply": "2021-04-21T02:07:11.516258Z"
    },
    "papermill": {
     "duration": 1.390574,
     "end_time": "2021-04-21T02:07:11.517010",
     "exception": false,
     "start_time": "2021-04-21T02:07:10.126436",
     "status": "completed"
    },
    "tags": []
   },
   "outputs": [],
   "source": [
    "#hide\n",
    "from scripts.read_data import read_api\n",
    "from IPython.display import HTML\n",
    "import plotly.graph_objects as go\n"
   ]
  },
  {
   "cell_type": "code",
   "execution_count": 3,
   "id": "light-crazy",
   "metadata": {
    "execution": {
     "iopub.execute_input": "2021-04-21T02:07:11.557098Z",
     "iopub.status.busy": "2021-04-21T02:07:11.556415Z",
     "iopub.status.idle": "2021-04-21T02:07:11.583165Z",
     "shell.execute_reply": "2021-04-21T02:07:11.582557Z"
    },
    "papermill": {
     "duration": 0.050913,
     "end_time": "2021-04-21T02:07:11.583367",
     "exception": false,
     "start_time": "2021-04-21T02:07:11.532454",
     "status": "completed"
    },
    "tags": []
   },
   "outputs": [],
   "source": [
    "#hide\n",
    "### ICO koreliacija"
   ]
  },
  {
   "cell_type": "code",
   "execution_count": 4,
   "id": "likely-bahrain",
   "metadata": {
    "execution": {
     "iopub.execute_input": "2021-04-21T02:07:11.618327Z",
     "iopub.status.busy": "2021-04-21T02:07:11.617549Z",
     "iopub.status.idle": "2021-04-21T02:07:12.649592Z",
     "shell.execute_reply": "2021-04-21T02:07:12.650164Z"
    },
    "papermill": {
     "duration": 1.051986,
     "end_time": "2021-04-21T02:07:12.650355",
     "exception": false,
     "start_time": "2021-04-21T02:07:11.598369",
     "status": "completed"
    },
    "tags": []
   },
   "outputs": [],
   "source": [
    "#hide\n",
    "import matplotlib.pyplot as plt\n",
    "import numpy as np\n",
    "import pandas as pd\n",
    "import seaborn as sns\n",
    "import matplotlib.pyplot as plt \n",
    "import matplotlib.dates as mdates\n",
    "import matplotlib.pyplot as plt"
   ]
  },
  {
   "cell_type": "code",
   "execution_count": 5,
   "id": "superior-blanket",
   "metadata": {
    "execution": {
     "iopub.execute_input": "2021-04-21T02:07:12.686715Z",
     "iopub.status.busy": "2021-04-21T02:07:12.686003Z",
     "iopub.status.idle": "2021-04-21T02:07:24.393456Z",
     "shell.execute_reply": "2021-04-21T02:07:24.392009Z"
    },
    "papermill": {
     "duration": 11.726994,
     "end_time": "2021-04-21T02:07:24.393600",
     "exception": false,
     "start_time": "2021-04-21T02:07:12.666606",
     "status": "completed"
    },
    "tags": []
   },
   "outputs": [
    {
     "name": "stderr",
     "output_type": "stream",
     "text": [
      "/home/runner/work/corr-app/corr-app/_notebooks/scripts/read_data.py:187: SettingWithCopyWarning:\n",
      "\n",
      "\n",
      "A value is trying to be set on a copy of a slice from a DataFrame.\n",
      "Try using .loc[row_indexer,col_indexer] = value instead\n",
      "\n",
      "See the caveats in the documentation: https://pandas.pydata.org/pandas-docs/stable/user_guide/indexing.html#returning-a-view-versus-a-copy\n",
      "\n"
     ]
    },
    {
     "name": "stderr",
     "output_type": "stream",
     "text": [
      "/home/runner/work/corr-app/corr-app/_notebooks/scripts/read_data.py:215: SettingWithCopyWarning:\n",
      "\n",
      "\n",
      "A value is trying to be set on a copy of a slice from a DataFrame.\n",
      "Try using .loc[row_indexer,col_indexer] = value instead\n",
      "\n",
      "See the caveats in the documentation: https://pandas.pydata.org/pandas-docs/stable/user_guide/indexing.html#returning-a-view-versus-a-copy\n",
      "\n"
     ]
    }
   ],
   "source": [
    "#hide\n",
    "df_all = read_api()\n",
    "#df_all = df_all.drop(['SP500', 'XAU', 'ETH', 'BTC'], axis=1)\n",
    "\n"
   ]
  },
  {
   "cell_type": "code",
   "execution_count": 6,
   "id": "mature-alert",
   "metadata": {
    "execution": {
     "iopub.execute_input": "2021-04-21T02:07:24.429435Z",
     "iopub.status.busy": "2021-04-21T02:07:24.428659Z",
     "iopub.status.idle": "2021-04-21T02:07:24.463767Z",
     "shell.execute_reply": "2021-04-21T02:07:24.464374Z"
    },
    "papermill": {
     "duration": 0.055092,
     "end_time": "2021-04-21T02:07:24.464550",
     "exception": false,
     "start_time": "2021-04-21T02:07:24.409458",
     "status": "completed"
    },
    "tags": []
   },
   "outputs": [],
   "source": [
    "#hide_input\n",
    "sum_corr = df_all.corr().sum().sort_values(ascending=True).index.values\n",
    "#df_all[sum_corr].corr()"
   ]
  },
  {
   "cell_type": "markdown",
   "id": "complex-syndicate",
   "metadata": {
    "papermill": {
     "duration": 0.015474,
     "end_time": "2021-04-21T02:07:24.495561",
     "exception": false,
     "start_time": "2021-04-21T02:07:24.480087",
     "status": "completed"
    },
    "tags": []
   },
   "source": [
    "## Išplėstinė koreliacijų matrica. "
   ]
  },
  {
   "cell_type": "code",
   "execution_count": 7,
   "id": "atomic-omaha",
   "metadata": {
    "execution": {
     "iopub.execute_input": "2021-04-21T02:07:24.532370Z",
     "iopub.status.busy": "2021-04-21T02:07:24.531474Z",
     "iopub.status.idle": "2021-04-21T02:07:26.141761Z",
     "shell.execute_reply": "2021-04-21T02:07:26.141133Z"
    },
    "papermill": {
     "duration": 1.630299,
     "end_time": "2021-04-21T02:07:26.141935",
     "exception": false,
     "start_time": "2021-04-21T02:07:24.511636",
     "status": "completed"
    },
    "tags": []
   },
   "outputs": [
    {
     "data": {
      "image/png": "[encoded data removed]",
      "text/plain": [
       "<Figure size 1080x792 with 2 Axes>"
      ]
     },
     "metadata": {
      "needs_background": "light"
     },
     "output_type": "display_data"
    }
   ],
   "source": [
    "#hide_input\n",
    "plt.figure(figsize=(15, 11))\n",
    "sns.heatmap(df_all[sum_corr].corr(), annot=True, cmap=\"cubehelix\") \n",
    "sns.set(font_scale=1.25)\n",
    "plt.savefig('corr_matrix.png', format='eps')"
   ]
  },
  {
   "cell_type": "code",
   "execution_count": 8,
   "id": "arbitrary-sullivan",
   "metadata": {
    "execution": {
     "iopub.execute_input": "2021-04-21T02:07:26.183650Z",
     "iopub.status.busy": "2021-04-21T02:07:26.182769Z",
     "iopub.status.idle": "2021-04-21T02:07:26.213347Z",
     "shell.execute_reply": "2021-04-21T02:07:26.212702Z"
    },
    "papermill": {
     "duration": 0.053217,
     "end_time": "2021-04-21T02:07:26.213539",
     "exception": false,
     "start_time": "2021-04-21T02:07:26.160322",
     "status": "completed"
    },
    "tags": []
   },
   "outputs": [],
   "source": [
    "#hide\n",
    "#df_all_mrk = read_api()"
   ]
  },
  {
   "cell_type": "code",
   "execution_count": 9,
   "id": "delayed-adapter",
   "metadata": {
    "execution": {
     "iopub.execute_input": "2021-04-21T02:07:26.255798Z",
     "iopub.status.busy": "2021-04-21T02:07:26.255060Z",
     "iopub.status.idle": "2021-04-21T02:07:26.287191Z",
     "shell.execute_reply": "2021-04-21T02:07:26.286264Z"
    },
    "papermill": {
     "duration": 0.054196,
     "end_time": "2021-04-21T02:07:26.287334",
     "exception": false,
     "start_time": "2021-04-21T02:07:26.233138",
     "status": "completed"
    },
    "tags": []
   },
   "outputs": [],
   "source": [
    "#hide\n",
    "#Koreliacijų koeficientai"
   ]
  },
  {
   "cell_type": "code",
   "execution_count": 10,
   "id": "seeing-celebration",
   "metadata": {
    "execution": {
     "iopub.execute_input": "2021-04-21T02:07:26.328571Z",
     "iopub.status.busy": "2021-04-21T02:07:26.327781Z",
     "iopub.status.idle": "2021-04-21T02:07:26.358595Z",
     "shell.execute_reply": "2021-04-21T02:07:26.357962Z"
    },
    "papermill": {
     "duration": 0.052869,
     "end_time": "2021-04-21T02:07:26.358742",
     "exception": false,
     "start_time": "2021-04-21T02:07:26.305873",
     "status": "completed"
    },
    "tags": []
   },
   "outputs": [],
   "source": [
    "#hide_input\n",
    "#sum_corr = df_all_mrk.corr().sum().sort_values(ascending=True).index.values\n",
    "#df_all_mrk[sum_corr].corr()"
   ]
  },
  {
   "cell_type": "code",
   "execution_count": 11,
   "id": "other-painting",
   "metadata": {
    "execution": {
     "iopub.execute_input": "2021-04-21T02:07:26.398995Z",
     "iopub.status.busy": "2021-04-21T02:07:26.398249Z",
     "iopub.status.idle": "2021-04-21T02:07:26.429540Z",
     "shell.execute_reply": "2021-04-21T02:07:26.428856Z"
    },
    "papermill": {
     "duration": 0.052809,
     "end_time": "2021-04-21T02:07:26.429685",
     "exception": false,
     "start_time": "2021-04-21T02:07:26.376876",
     "status": "completed"
    },
    "tags": []
   },
   "outputs": [],
   "source": [
    "#hide\n",
    "#Koreliacijos matrica. "
   ]
  },
  {
   "cell_type": "code",
   "execution_count": 12,
   "id": "modular-magnitude",
   "metadata": {
    "execution": {
     "iopub.execute_input": "2021-04-21T02:07:26.469923Z",
     "iopub.status.busy": "2021-04-21T02:07:26.469181Z",
     "iopub.status.idle": "2021-04-21T02:07:26.500262Z",
     "shell.execute_reply": "2021-04-21T02:07:26.499622Z"
    },
    "papermill": {
     "duration": 0.052137,
     "end_time": "2021-04-21T02:07:26.500408",
     "exception": false,
     "start_time": "2021-04-21T02:07:26.448271",
     "status": "completed"
    },
    "tags": []
   },
   "outputs": [],
   "source": [
    "#hide_input\n",
    "#plt.figure(figsize=(15, 8))\n",
    "#sns.heatmap(df_all_mrk[sum_corr].corr(), annot=True, cmap=\"BrBG\");\n",
    "#plt.savefig('corr_matrix_all.eps', format='eps')"
   ]
  },
  {
   "cell_type": "code",
   "execution_count": null,
   "id": "original-senator",
   "metadata": {
    "papermill": {
     "duration": 0.018093,
     "end_time": "2021-04-21T02:07:26.536620",
     "exception": false,
     "start_time": "2021-04-21T02:07:26.518527",
     "status": "completed"
    },
    "tags": []
   },
   "outputs": [],
   "source": []
  },
  {
   "cell_type": "code",
   "execution_count": null,
   "id": "saving-secretariat",
   "metadata": {
    "papermill": {
     "duration": 0.018071,
     "end_time": "2021-04-21T02:07:26.573007",
     "exception": false,
     "start_time": "2021-04-21T02:07:26.554936",
     "status": "completed"
    },
    "tags": []
   },
   "outputs": [],
   "source": []
  }
 ],
 "metadata": {
  "kernelspec": {
   "display_name": "Python 3",
   "language": "python",
   "name": "python3"
  },
  "language_info": {
   "codemirror_mode": {
    "name": "ipython",
    "version": 3
   },
   "file_extension": ".py",
   "mimetype": "text/x-python",
   "name": "python",
   "nbconvert_exporter": "python",
   "pygments_lexer": "ipython3",
   "version": "3.6.13"
  },
  "papermill": {
   "default_parameters": {},
   "duration": 19.365384,
   "end_time": "2021-04-21T02:07:28.058487",
   "environment_variables": {},
   "exception": null,
   "input_path": "App-Correlation_charts.ipynb",
   "output_path": "App-Correlation_charts.ipynb",
   "parameters": {},
   "start_time": "2021-04-21T02:07:08.693103",
   "version": "2.2.2"
  }
 },
 "nbformat": 4,
 "nbformat_minor": 5
}