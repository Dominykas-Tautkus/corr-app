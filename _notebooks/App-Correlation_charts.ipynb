{
 "cells": [
  {
   "cell_type": "markdown",
   "id": "touched-facility",
   "metadata": {
    "papermill": {
     "duration": 0.019285,
     "end_time": "2021-04-06T02:09:16.820205",
     "exception": false,
     "start_time": "2021-04-06T02:09:16.800920",
     "status": "completed"
    },
    "tags": []
   },
   "source": [
    "# Koreliacijų matrica\n",
    "> Išplėstinė koreliacijų matrica. \n",
    "\n",
    "- toc: true \n",
    "- badges: true\n",
    "- comments: false\n",
    "- categories: [Dominykas Tautkus]\n",
    "- image: images/matrix.png"
   ]
  },
  {
   "cell_type": "code",
   "execution_count": null,
   "id": "premium-weekend",
   "metadata": {
    "papermill": {
     "duration": 0.01397,
     "end_time": "2021-04-06T02:09:16.849794",
     "exception": false,
     "start_time": "2021-04-06T02:09:16.835824",
     "status": "completed"
    },
    "tags": []
   },
   "outputs": [],
   "source": []
  },
  {
   "cell_type": "code",
   "execution_count": 1,
   "id": "vertical-rebate",
   "metadata": {
    "execution": {
     "iopub.execute_input": "2021-04-06T02:09:16.890155Z",
     "iopub.status.busy": "2021-04-06T02:09:16.885479Z",
     "iopub.status.idle": "2021-04-06T02:09:16.902361Z",
     "shell.execute_reply": "2021-04-06T02:09:16.901837Z"
    },
    "papermill": {
     "duration": 0.038726,
     "end_time": "2021-04-06T02:09:16.902505",
     "exception": false,
     "start_time": "2021-04-06T02:09:16.863779",
     "status": "completed"
    },
    "tags": []
   },
   "outputs": [],
   "source": [
    "#hide\n",
    "%load_ext autoreload\n",
    "%autoreload 2"
   ]
  },
  {
   "cell_type": "code",
   "execution_count": 2,
   "id": "overall-advancement",
   "metadata": {
    "execution": {
     "iopub.execute_input": "2021-04-06T02:09:16.933497Z",
     "iopub.status.busy": "2021-04-06T02:09:16.932908Z",
     "iopub.status.idle": "2021-04-06T02:09:18.097151Z",
     "shell.execute_reply": "2021-04-06T02:09:18.095809Z"
    },
    "papermill": {
     "duration": 1.181887,
     "end_time": "2021-04-06T02:09:18.097313",
     "exception": false,
     "start_time": "2021-04-06T02:09:16.915426",
     "status": "completed"
    },
    "tags": []
   },
   "outputs": [],
   "source": [
    "#hide\n",
    "from scripts.read_data import read_api\n",
    "from IPython.display import HTML\n",
    "import plotly.graph_objects as go\n"
   ]
  },
  {
   "cell_type": "code",
   "execution_count": 3,
   "id": "light-crazy",
   "metadata": {
    "execution": {
     "iopub.execute_input": "2021-04-06T02:09:18.135075Z",
     "iopub.status.busy": "2021-04-06T02:09:18.131854Z",
     "iopub.status.idle": "2021-04-06T02:09:18.159644Z",
     "shell.execute_reply": "2021-04-06T02:09:18.159068Z"
    },
    "papermill": {
     "duration": 0.047618,
     "end_time": "2021-04-06T02:09:18.159777",
     "exception": false,
     "start_time": "2021-04-06T02:09:18.112159",
     "status": "completed"
    },
    "tags": []
   },
   "outputs": [],
   "source": [
    "#hide\n",
    "### ICO koreliacija"
   ]
  },
  {
   "cell_type": "code",
   "execution_count": 4,
   "id": "likely-bahrain",
   "metadata": {
    "execution": {
     "iopub.execute_input": "2021-04-06T02:09:18.192391Z",
     "iopub.status.busy": "2021-04-06T02:09:18.191783Z",
     "iopub.status.idle": "2021-04-06T02:09:19.351131Z",
     "shell.execute_reply": "2021-04-06T02:09:19.350617Z"
    },
    "papermill": {
     "duration": 1.176784,
     "end_time": "2021-04-06T02:09:19.351266",
     "exception": false,
     "start_time": "2021-04-06T02:09:18.174482",
     "status": "completed"
    },
    "tags": []
   },
   "outputs": [],
   "source": [
    "#hide\n",
    "import matplotlib.pyplot as plt\n",
    "import numpy as np\n",
    "import pandas as pd\n",
    "import seaborn as sns\n",
    "import matplotlib.pyplot as plt \n",
    "import matplotlib.dates as mdates\n",
    "import matplotlib.pyplot as plt"
   ]
  },
  {
   "cell_type": "code",
   "execution_count": 5,
   "id": "superior-blanket",
   "metadata": {
    "execution": {
     "iopub.execute_input": "2021-04-06T02:09:19.389957Z",
     "iopub.status.busy": "2021-04-06T02:09:19.389372Z",
     "iopub.status.idle": "2021-04-06T02:09:30.512581Z",
     "shell.execute_reply": "2021-04-06T02:09:30.512040Z"
    },
    "papermill": {
     "duration": 11.14371,
     "end_time": "2021-04-06T02:09:30.512710",
     "exception": false,
     "start_time": "2021-04-06T02:09:19.369000",
     "status": "completed"
    },
    "tags": []
   },
   "outputs": [
    {
     "name": "stderr",
     "output_type": "stream",
     "text": [
      "/home/runner/work/corr-app/corr-app/_notebooks/scripts/read_data.py:187: SettingWithCopyWarning:\n",
      "\n",
      "\n",
      "A value is trying to be set on a copy of a slice from a DataFrame.\n",
      "Try using .loc[row_indexer,col_indexer] = value instead\n",
      "\n",
      "See the caveats in the documentation: https://pandas.pydata.org/pandas-docs/stable/user_guide/indexing.html#returning-a-view-versus-a-copy\n",
      "\n"
     ]
    },
    {
     "name": "stderr",
     "output_type": "stream",
     "text": [
      "/home/runner/work/corr-app/corr-app/_notebooks/scripts/read_data.py:215: SettingWithCopyWarning:\n",
      "\n",
      "\n",
      "A value is trying to be set on a copy of a slice from a DataFrame.\n",
      "Try using .loc[row_indexer,col_indexer] = value instead\n",
      "\n",
      "See the caveats in the documentation: https://pandas.pydata.org/pandas-docs/stable/user_guide/indexing.html#returning-a-view-versus-a-copy\n",
      "\n"
     ]
    }
   ],
   "source": [
    "#hide\n",
    "df_all = read_api()\n",
    "#df_all = df_all.drop(['SP500', 'XAU', 'ETH', 'BTC'], axis=1)\n",
    "\n"
   ]
  },
  {
   "cell_type": "code",
   "execution_count": 6,
   "id": "mature-alert",
   "metadata": {
    "execution": {
     "iopub.execute_input": "2021-04-06T02:09:30.547139Z",
     "iopub.status.busy": "2021-04-06T02:09:30.546535Z",
     "iopub.status.idle": "2021-04-06T02:09:30.578316Z",
     "shell.execute_reply": "2021-04-06T02:09:30.577774Z"
    },
    "papermill": {
     "duration": 0.050448,
     "end_time": "2021-04-06T02:09:30.578453",
     "exception": false,
     "start_time": "2021-04-06T02:09:30.528005",
     "status": "completed"
    },
    "tags": []
   },
   "outputs": [],
   "source": [
    "#hide_input\n",
    "sum_corr = df_all.corr().sum().sort_values(ascending=True).index.values\n",
    "#df_all[sum_corr].corr()"
   ]
  },
  {
   "cell_type": "markdown",
   "id": "complex-syndicate",
   "metadata": {
    "papermill": {
     "duration": 0.013504,
     "end_time": "2021-04-06T02:09:30.605636",
     "exception": false,
     "start_time": "2021-04-06T02:09:30.592132",
     "status": "completed"
    },
    "tags": []
   },
   "source": [
    "## Išplėstinė koreliacijų matrica. "
   ]
  },
  {
   "cell_type": "code",
   "execution_count": 7,
   "id": "atomic-omaha",
   "metadata": {
    "execution": {
     "iopub.execute_input": "2021-04-06T02:09:30.638346Z",
     "iopub.status.busy": "2021-04-06T02:09:30.637382Z",
     "iopub.status.idle": "2021-04-06T02:09:31.907182Z",
     "shell.execute_reply": "2021-04-06T02:09:31.906575Z"
    },
    "papermill": {
     "duration": 1.287988,
     "end_time": "2021-04-06T02:09:31.907314",
     "exception": false,
     "start_time": "2021-04-06T02:09:30.619326",
     "status": "completed"
    },
    "tags": []
   },
   "outputs": [
    {
     "data": {
      "image/png": "[encoded data removed]",
      "text/plain": [
       "<Figure size 1080x792 with 2 Axes>"
      ]
     },
     "metadata": {
      "needs_background": "light"
     },
     "output_type": "display_data"
    }
   ],
   "source": [
    "#hide_input\n",
    "plt.figure(figsize=(15, 11))\n",
    "sns.heatmap(df_all[sum_corr].corr(), annot=True, cmap=\"cubehelix\") \n",
    "sns.set(font_scale=1.25)\n",
    "plt.savefig('corr_matrix.png', format='eps')"
   ]
  },
  {
   "cell_type": "code",
   "execution_count": 8,
   "id": "arbitrary-sullivan",
   "metadata": {
    "execution": {
     "iopub.execute_input": "2021-04-06T02:09:31.947437Z",
     "iopub.status.busy": "2021-04-06T02:09:31.946851Z",
     "iopub.status.idle": "2021-04-06T02:09:31.973126Z",
     "shell.execute_reply": "2021-04-06T02:09:31.973734Z"
    },
    "papermill": {
     "duration": 0.051098,
     "end_time": "2021-04-06T02:09:31.973926",
     "exception": false,
     "start_time": "2021-04-06T02:09:31.922828",
     "status": "completed"
    },
    "tags": []
   },
   "outputs": [],
   "source": [
    "#hide\n",
    "#df_all_mrk = read_api()"
   ]
  },
  {
   "cell_type": "code",
   "execution_count": 9,
   "id": "delayed-adapter",
   "metadata": {
    "execution": {
     "iopub.execute_input": "2021-04-06T02:09:32.009022Z",
     "iopub.status.busy": "2021-04-06T02:09:32.008444Z",
     "iopub.status.idle": "2021-04-06T02:09:32.039276Z",
     "shell.execute_reply": "2021-04-06T02:09:32.039972Z"
    },
    "papermill": {
     "duration": 0.050104,
     "end_time": "2021-04-06T02:09:32.040180",
     "exception": false,
     "start_time": "2021-04-06T02:09:31.990076",
     "status": "completed"
    },
    "tags": []
   },
   "outputs": [],
   "source": [
    "#hide\n",
    "#Koreliacijų koeficientai"
   ]
  },
  {
   "cell_type": "code",
   "execution_count": 10,
   "id": "seeing-celebration",
   "metadata": {
    "execution": {
     "iopub.execute_input": "2021-04-06T02:09:32.085763Z",
     "iopub.status.busy": "2021-04-06T02:09:32.085158Z",
     "iopub.status.idle": "2021-04-06T02:09:32.113961Z",
     "shell.execute_reply": "2021-04-06T02:09:32.114537Z"
    },
    "papermill": {
     "duration": 0.056603,
     "end_time": "2021-04-06T02:09:32.114702",
     "exception": false,
     "start_time": "2021-04-06T02:09:32.058099",
     "status": "completed"
    },
    "tags": []
   },
   "outputs": [],
   "source": [
    "#hide_input\n",
    "#sum_corr = df_all_mrk.corr().sum().sort_values(ascending=True).index.values\n",
    "#df_all_mrk[sum_corr].corr()"
   ]
  },
  {
   "cell_type": "code",
   "execution_count": 11,
   "id": "other-painting",
   "metadata": {
    "execution": {
     "iopub.execute_input": "2021-04-06T02:09:32.150459Z",
     "iopub.status.busy": "2021-04-06T02:09:32.149860Z",
     "iopub.status.idle": "2021-04-06T02:09:32.176671Z",
     "shell.execute_reply": "2021-04-06T02:09:32.176168Z"
    },
    "papermill": {
     "duration": 0.045368,
     "end_time": "2021-04-06T02:09:32.176785",
     "exception": false,
     "start_time": "2021-04-06T02:09:32.131417",
     "status": "completed"
    },
    "tags": []
   },
   "outputs": [],
   "source": [
    "#hide\n",
    "#Koreliacijos matrica. "
   ]
  },
  {
   "cell_type": "code",
   "execution_count": 12,
   "id": "modular-magnitude",
   "metadata": {
    "execution": {
     "iopub.execute_input": "2021-04-06T02:09:32.214074Z",
     "iopub.status.busy": "2021-04-06T02:09:32.212314Z",
     "iopub.status.idle": "2021-04-06T02:09:32.239789Z",
     "shell.execute_reply": "2021-04-06T02:09:32.239294Z"
    },
    "papermill": {
     "duration": 0.047938,
     "end_time": "2021-04-06T02:09:32.239917",
     "exception": false,
     "start_time": "2021-04-06T02:09:32.191979",
     "status": "completed"
    },
    "tags": []
   },
   "outputs": [],
   "source": [
    "#hide_input\n",
    "#plt.figure(figsize=(15, 8))\n",
    "#sns.heatmap(df_all_mrk[sum_corr].corr(), annot=True, cmap=\"BrBG\");\n",
    "#plt.savefig('corr_matrix_all.eps', format='eps')"
   ]
  },
  {
   "cell_type": "code",
   "execution_count": null,
   "id": "original-senator",
   "metadata": {
    "papermill": {
     "duration": 0.014885,
     "end_time": "2021-04-06T02:09:32.269915",
     "exception": false,
     "start_time": "2021-04-06T02:09:32.255030",
     "status": "completed"
    },
    "tags": []
   },
   "outputs": [],
   "source": []
  },
  {
   "cell_type": "code",
   "execution_count": null,
   "id": "saving-secretariat",
   "metadata": {
    "papermill": {
     "duration": 0.014886,
     "end_time": "2021-04-06T02:09:32.299829",
     "exception": false,
     "start_time": "2021-04-06T02:09:32.284943",
     "status": "completed"
    },
    "tags": []
   },
   "outputs": [],
   "source": []
  }
 ],
 "metadata": {
  "kernelspec": {
   "display_name": "Python 3",
   "language": "python",
   "name": "python3"
  },
  "language_info": {
   "codemirror_mode": {
    "name": "ipython",
    "version": 3
   },
   "file_extension": ".py",
   "mimetype": "text/x-python",
   "name": "python",
   "nbconvert_exporter": "python",
   "pygments_lexer": "ipython3",
   "version": "3.6.13"
  },
  "papermill": {
   "default_parameters": {},
   "duration": 17.327672,
   "end_time": "2021-04-06T02:09:32.824119",
   "environment_variables": {},
   "exception": null,
   "input_path": "App-Correlation_charts.ipynb",
   "output_path": "App-Correlation_charts.ipynb",
   "parameters": {},
   "start_time": "2021-04-06T02:09:15.496447",
   "version": "2.2.2"
  }
 },
 "nbformat": 4,
 "nbformat_minor": 5
}