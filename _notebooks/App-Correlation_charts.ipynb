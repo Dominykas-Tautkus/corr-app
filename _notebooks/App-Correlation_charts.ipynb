{
 "cells": [
  {
   "cell_type": "markdown",
   "id": "touched-facility",
   "metadata": {
    "papermill": {
     "duration": 0.013853,
     "end_time": "2021-02-26T01:40:44.579866",
     "exception": false,
     "start_time": "2021-02-26T01:40:44.566013",
     "status": "completed"
    },
    "tags": []
   },
   "source": [
    "# Koreliacijų matrica\n",
    "> Išplėstinė koreliacijų matrica. \n",
    "\n",
    "- toc: true \n",
    "- badges: true\n",
    "- comments: false\n",
    "- categories: [Dominykas Tautkus]\n",
    "- image: images/matrix.png"
   ]
  },
  {
   "cell_type": "code",
   "execution_count": null,
   "id": "premium-weekend",
   "metadata": {
    "papermill": {
     "duration": 0.010403,
     "end_time": "2021-02-26T01:40:44.601591",
     "exception": false,
     "start_time": "2021-02-26T01:40:44.591188",
     "status": "completed"
    },
    "tags": []
   },
   "outputs": [],
   "source": []
  },
  {
   "cell_type": "code",
   "execution_count": 1,
   "id": "vertical-rebate",
   "metadata": {
    "execution": {
     "iopub.execute_input": "2021-02-26T01:40:44.632950Z",
     "iopub.status.busy": "2021-02-26T01:40:44.632425Z",
     "iopub.status.idle": "2021-02-26T01:40:44.642481Z",
     "shell.execute_reply": "2021-02-26T01:40:44.642054Z"
    },
    "papermill": {
     "duration": 0.030537,
     "end_time": "2021-02-26T01:40:44.642599",
     "exception": false,
     "start_time": "2021-02-26T01:40:44.612062",
     "status": "completed"
    },
    "tags": []
   },
   "outputs": [],
   "source": [
    "#hide\n",
    "%load_ext autoreload\n",
    "%autoreload 2"
   ]
  },
  {
   "cell_type": "code",
   "execution_count": 2,
   "id": "overall-advancement",
   "metadata": {
    "execution": {
     "iopub.execute_input": "2021-02-26T01:40:44.683907Z",
     "iopub.status.busy": "2021-02-26T01:40:44.675858Z",
     "iopub.status.idle": "2021-02-26T01:40:45.755876Z",
     "shell.execute_reply": "2021-02-26T01:40:45.756356Z"
    },
    "papermill": {
     "duration": 1.103239,
     "end_time": "2021-02-26T01:40:45.756512",
     "exception": false,
     "start_time": "2021-02-26T01:40:44.653273",
     "status": "completed"
    },
    "tags": []
   },
   "outputs": [],
   "source": [
    "#hide\n",
    "from scripts.read_data import read_api\n",
    "from IPython.display import HTML\n",
    "import plotly.graph_objects as go\n"
   ]
  },
  {
   "cell_type": "code",
   "execution_count": 3,
   "id": "light-crazy",
   "metadata": {
    "execution": {
     "iopub.execute_input": "2021-02-26T01:40:45.787535Z",
     "iopub.status.busy": "2021-02-26T01:40:45.782812Z",
     "iopub.status.idle": "2021-02-26T01:40:45.804897Z",
     "shell.execute_reply": "2021-02-26T01:40:45.804456Z"
    },
    "papermill": {
     "duration": 0.036907,
     "end_time": "2021-02-26T01:40:45.805012",
     "exception": false,
     "start_time": "2021-02-26T01:40:45.768105",
     "status": "completed"
    },
    "tags": []
   },
   "outputs": [],
   "source": [
    "#hide\n",
    "### ICO koreliacija"
   ]
  },
  {
   "cell_type": "code",
   "execution_count": 4,
   "id": "likely-bahrain",
   "metadata": {
    "execution": {
     "iopub.execute_input": "2021-02-26T01:40:45.835782Z",
     "iopub.status.busy": "2021-02-26T01:40:45.835249Z",
     "iopub.status.idle": "2021-02-26T01:40:47.841381Z",
     "shell.execute_reply": "2021-02-26T01:40:47.840870Z"
    },
    "papermill": {
     "duration": 2.025359,
     "end_time": "2021-02-26T01:40:47.841507",
     "exception": false,
     "start_time": "2021-02-26T01:40:45.816148",
     "status": "completed"
    },
    "tags": []
   },
   "outputs": [],
   "source": [
    "#hide\n",
    "import matplotlib.pyplot as plt\n",
    "import numpy as np\n",
    "import pandas as pd\n",
    "import seaborn as sns\n",
    "import matplotlib.pyplot as plt \n",
    "import matplotlib.dates as mdates\n",
    "import matplotlib.pyplot as plt"
   ]
  },
  {
   "cell_type": "code",
   "execution_count": 5,
   "id": "superior-blanket",
   "metadata": {
    "execution": {
     "iopub.execute_input": "2021-02-26T01:40:47.869546Z",
     "iopub.status.busy": "2021-02-26T01:40:47.869038Z",
     "iopub.status.idle": "2021-02-26T01:40:59.105697Z",
     "shell.execute_reply": "2021-02-26T01:40:59.105183Z"
    },
    "papermill": {
     "duration": 11.253274,
     "end_time": "2021-02-26T01:40:59.105827",
     "exception": false,
     "start_time": "2021-02-26T01:40:47.852553",
     "status": "completed"
    },
    "tags": []
   },
   "outputs": [
    {
     "name": "stderr",
     "output_type": "stream",
     "text": [
      "/home/runner/work/corr-app/corr-app/_notebooks/scripts/read_data.py:187: SettingWithCopyWarning:\n",
      "\n",
      "\n",
      "A value is trying to be set on a copy of a slice from a DataFrame.\n",
      "Try using .loc[row_indexer,col_indexer] = value instead\n",
      "\n",
      "See the caveats in the documentation: https://pandas.pydata.org/pandas-docs/stable/user_guide/indexing.html#returning-a-view-versus-a-copy\n",
      "\n"
     ]
    },
    {
     "name": "stderr",
     "output_type": "stream",
     "text": [
      "/home/runner/work/corr-app/corr-app/_notebooks/scripts/read_data.py:215: SettingWithCopyWarning:\n",
      "\n",
      "\n",
      "A value is trying to be set on a copy of a slice from a DataFrame.\n",
      "Try using .loc[row_indexer,col_indexer] = value instead\n",
      "\n",
      "See the caveats in the documentation: https://pandas.pydata.org/pandas-docs/stable/user_guide/indexing.html#returning-a-view-versus-a-copy\n",
      "\n"
     ]
    }
   ],
   "source": [
    "#hide\n",
    "df_all = read_api()\n",
    "#df_all = df_all.drop(['SP500', 'XAU', 'ETH', 'BTC'], axis=1)\n",
    "\n"
   ]
  },
  {
   "cell_type": "code",
   "execution_count": 6,
   "id": "mature-alert",
   "metadata": {
    "execution": {
     "iopub.execute_input": "2021-02-26T01:40:59.139117Z",
     "iopub.status.busy": "2021-02-26T01:40:59.138564Z",
     "iopub.status.idle": "2021-02-26T01:40:59.163013Z",
     "shell.execute_reply": "2021-02-26T01:40:59.162455Z"
    },
    "papermill": {
     "duration": 0.045572,
     "end_time": "2021-02-26T01:40:59.163147",
     "exception": false,
     "start_time": "2021-02-26T01:40:59.117575",
     "status": "completed"
    },
    "tags": []
   },
   "outputs": [],
   "source": [
    "#hide_input\n",
    "sum_corr = df_all.corr().sum().sort_values(ascending=True).index.values\n",
    "#df_all[sum_corr].corr()"
   ]
  },
  {
   "cell_type": "markdown",
   "id": "complex-syndicate",
   "metadata": {
    "papermill": {
     "duration": 0.011294,
     "end_time": "2021-02-26T01:40:59.186531",
     "exception": false,
     "start_time": "2021-02-26T01:40:59.175237",
     "status": "completed"
    },
    "tags": []
   },
   "source": [
    "## Išplėstinė koreliacijų matrica. "
   ]
  },
  {
   "cell_type": "code",
   "execution_count": 7,
   "id": "atomic-omaha",
   "metadata": {
    "execution": {
     "iopub.execute_input": "2021-02-26T01:40:59.229018Z",
     "iopub.status.busy": "2021-02-26T01:40:59.227564Z",
     "iopub.status.idle": "2021-02-26T01:41:00.317960Z",
     "shell.execute_reply": "2021-02-26T01:41:00.317460Z"
    },
    "papermill": {
     "duration": 1.11935,
     "end_time": "2021-02-26T01:41:00.318079",
     "exception": false,
     "start_time": "2021-02-26T01:40:59.198729",
     "status": "completed"
    },
    "tags": []
   },
   "outputs": [
    {
     "data": {
      "image/png": "[encoded data removed]",
      "text/plain": [
       "<Figure size 1080x792 with 2 Axes>"
      ]
     },
     "metadata": {
      "needs_background": "light"
     },
     "output_type": "display_data"
    }
   ],
   "source": [
    "#hide_input\n",
    "plt.figure(figsize=(15, 11))\n",
    "sns.heatmap(df_all[sum_corr].corr(), annot=True, cmap=\"cubehelix\") \n",
    "sns.set(font_scale=1.25)\n",
    "plt.savefig('corr_matrix.png', format='eps')"
   ]
  },
  {
   "cell_type": "code",
   "execution_count": 8,
   "id": "arbitrary-sullivan",
   "metadata": {
    "execution": {
     "iopub.execute_input": "2021-02-26T01:41:00.374000Z",
     "iopub.status.busy": "2021-02-26T01:41:00.358979Z",
     "iopub.status.idle": "2021-02-26T01:41:00.382680Z",
     "shell.execute_reply": "2021-02-26T01:41:00.383111Z"
    },
    "papermill": {
     "duration": 0.051352,
     "end_time": "2021-02-26T01:41:00.383250",
     "exception": false,
     "start_time": "2021-02-26T01:41:00.331898",
     "status": "completed"
    },
    "tags": []
   },
   "outputs": [],
   "source": [
    "#hide\n",
    "#df_all_mrk = read_api()"
   ]
  },
  {
   "cell_type": "code",
   "execution_count": 9,
   "id": "delayed-adapter",
   "metadata": {
    "execution": {
     "iopub.execute_input": "2021-02-26T01:41:00.419390Z",
     "iopub.status.busy": "2021-02-26T01:41:00.415336Z",
     "iopub.status.idle": "2021-02-26T01:41:00.439325Z",
     "shell.execute_reply": "2021-02-26T01:41:00.439733Z"
    },
    "papermill": {
     "duration": 0.043441,
     "end_time": "2021-02-26T01:41:00.439871",
     "exception": false,
     "start_time": "2021-02-26T01:41:00.396430",
     "status": "completed"
    },
    "tags": []
   },
   "outputs": [],
   "source": [
    "#hide\n",
    "#Koreliacijų koeficientai"
   ]
  },
  {
   "cell_type": "code",
   "execution_count": 10,
   "id": "seeing-celebration",
   "metadata": {
    "execution": {
     "iopub.execute_input": "2021-02-26T01:41:00.484627Z",
     "iopub.status.busy": "2021-02-26T01:41:00.483806Z",
     "iopub.status.idle": "2021-02-26T01:41:00.499737Z",
     "shell.execute_reply": "2021-02-26T01:41:00.500414Z"
    },
    "papermill": {
     "duration": 0.047063,
     "end_time": "2021-02-26T01:41:00.500563",
     "exception": false,
     "start_time": "2021-02-26T01:41:00.453500",
     "status": "completed"
    },
    "tags": []
   },
   "outputs": [],
   "source": [
    "#hide_input\n",
    "#sum_corr = df_all_mrk.corr().sum().sort_values(ascending=True).index.values\n",
    "#df_all_mrk[sum_corr].corr()"
   ]
  },
  {
   "cell_type": "code",
   "execution_count": 11,
   "id": "other-painting",
   "metadata": {
    "execution": {
     "iopub.execute_input": "2021-02-26T01:41:00.547766Z",
     "iopub.status.busy": "2021-02-26T01:41:00.529743Z",
     "iopub.status.idle": "2021-02-26T01:41:00.557721Z",
     "shell.execute_reply": "2021-02-26T01:41:00.558113Z"
    },
    "papermill": {
     "duration": 0.044535,
     "end_time": "2021-02-26T01:41:00.558248",
     "exception": false,
     "start_time": "2021-02-26T01:41:00.513713",
     "status": "completed"
    },
    "tags": []
   },
   "outputs": [],
   "source": [
    "#hide\n",
    "#Koreliacijos matrica. "
   ]
  },
  {
   "cell_type": "code",
   "execution_count": 12,
   "id": "modular-magnitude",
   "metadata": {
    "execution": {
     "iopub.execute_input": "2021-02-26T01:41:00.588629Z",
     "iopub.status.busy": "2021-02-26T01:41:00.588112Z",
     "iopub.status.idle": "2021-02-26T01:41:00.612799Z",
     "shell.execute_reply": "2021-02-26T01:41:00.612376Z"
    },
    "papermill": {
     "duration": 0.041238,
     "end_time": "2021-02-26T01:41:00.612911",
     "exception": false,
     "start_time": "2021-02-26T01:41:00.571673",
     "status": "completed"
    },
    "tags": []
   },
   "outputs": [],
   "source": [
    "#hide_input\n",
    "#plt.figure(figsize=(15, 8))\n",
    "#sns.heatmap(df_all_mrk[sum_corr].corr(), annot=True, cmap=\"BrBG\");\n",
    "#plt.savefig('corr_matrix_all.eps', format='eps')"
   ]
  },
  {
   "cell_type": "code",
   "execution_count": null,
   "id": "original-senator",
   "metadata": {
    "papermill": {
     "duration": 0.012893,
     "end_time": "2021-02-26T01:41:00.638895",
     "exception": false,
     "start_time": "2021-02-26T01:41:00.626002",
     "status": "completed"
    },
    "tags": []
   },
   "outputs": [],
   "source": []
  },
  {
   "cell_type": "code",
   "execution_count": null,
   "id": "saving-secretariat",
   "metadata": {
    "papermill": {
     "duration": 0.012985,
     "end_time": "2021-02-26T01:41:00.664820",
     "exception": false,
     "start_time": "2021-02-26T01:41:00.651835",
     "status": "completed"
    },
    "tags": []
   },
   "outputs": [],
   "source": []
  }
 ],
 "metadata": {
  "kernelspec": {
   "display_name": "Python 3",
   "language": "python",
   "name": "python3"
  },
  "language_info": {
   "codemirror_mode": {
    "name": "ipython",
    "version": 3
   },
   "file_extension": ".py",
   "mimetype": "text/x-python",
   "name": "python",
   "nbconvert_exporter": "python",
   "pygments_lexer": "ipython3",
   "version": "3.6.13"
  },
  "papermill": {
   "default_parameters": {},
   "duration": 17.655322,
   "end_time": "2021-02-26T01:41:01.185185",
   "environment_variables": {},
   "exception": null,
   "input_path": "App-Correlation_charts.ipynb",
   "output_path": "App-Correlation_charts.ipynb",
   "parameters": {},
   "start_time": "2021-02-26T01:40:43.529863",
   "version": "2.2.2"
  }
 },
 "nbformat": 4,
 "nbformat_minor": 5
}