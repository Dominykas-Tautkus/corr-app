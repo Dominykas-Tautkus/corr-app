{
 "cells": [
  {
   "cell_type": "markdown",
   "id": "touched-facility",
   "metadata": {
    "papermill": {
     "duration": 0.013896,
     "end_time": "2021-04-28T02:07:37.446649",
     "exception": false,
     "start_time": "2021-04-28T02:07:37.432753",
     "status": "completed"
    },
    "tags": []
   },
   "source": [
    "# Koreliacijų matrica\n",
    "> Išplėstinė koreliacijų matrica. \n",
    "\n",
    "- toc: true \n",
    "- badges: true\n",
    "- comments: false\n",
    "- categories: [Dominykas Tautkus]\n",
    "- image: images/matrix.png"
   ]
  },
  {
   "cell_type": "code",
   "execution_count": null,
   "id": "premium-weekend",
   "metadata": {
    "papermill": {
     "duration": 0.010636,
     "end_time": "2021-04-28T02:07:37.469977",
     "exception": false,
     "start_time": "2021-04-28T02:07:37.459341",
     "status": "completed"
    },
    "tags": []
   },
   "outputs": [],
   "source": []
  },
  {
   "cell_type": "code",
   "execution_count": 1,
   "id": "vertical-rebate",
   "metadata": {
    "execution": {
     "iopub.execute_input": "2021-04-28T02:07:37.504193Z",
     "iopub.status.busy": "2021-04-28T02:07:37.503528Z",
     "iopub.status.idle": "2021-04-28T02:07:37.514210Z",
     "shell.execute_reply": "2021-04-28T02:07:37.514667Z"
    },
    "papermill": {
     "duration": 0.034118,
     "end_time": "2021-04-28T02:07:37.514792",
     "exception": false,
     "start_time": "2021-04-28T02:07:37.480674",
     "status": "completed"
    },
    "tags": []
   },
   "outputs": [],
   "source": [
    "#hide\n",
    "%load_ext autoreload\n",
    "%autoreload 2"
   ]
  },
  {
   "cell_type": "code",
   "execution_count": 2,
   "id": "overall-advancement",
   "metadata": {
    "execution": {
     "iopub.execute_input": "2021-04-28T02:07:37.538782Z",
     "iopub.status.busy": "2021-04-28T02:07:37.538352Z",
     "iopub.status.idle": "2021-04-28T02:07:38.558878Z",
     "shell.execute_reply": "2021-04-28T02:07:38.558349Z"
    },
    "papermill": {
     "duration": 1.034338,
     "end_time": "2021-04-28T02:07:38.559001",
     "exception": false,
     "start_time": "2021-04-28T02:07:37.524663",
     "status": "completed"
    },
    "tags": []
   },
   "outputs": [],
   "source": [
    "#hide\n",
    "from scripts.read_data import read_api\n",
    "from IPython.display import HTML\n",
    "import plotly.graph_objects as go\n"
   ]
  },
  {
   "cell_type": "code",
   "execution_count": 3,
   "id": "light-crazy",
   "metadata": {
    "execution": {
     "iopub.execute_input": "2021-04-28T02:07:38.590544Z",
     "iopub.status.busy": "2021-04-28T02:07:38.589934Z",
     "iopub.status.idle": "2021-04-28T02:07:38.612053Z",
     "shell.execute_reply": "2021-04-28T02:07:38.612601Z"
    },
    "papermill": {
     "duration": 0.042447,
     "end_time": "2021-04-28T02:07:38.612772",
     "exception": false,
     "start_time": "2021-04-28T02:07:38.570325",
     "status": "completed"
    },
    "tags": []
   },
   "outputs": [],
   "source": [
    "#hide\n",
    "### ICO koreliacija"
   ]
  },
  {
   "cell_type": "code",
   "execution_count": 4,
   "id": "likely-bahrain",
   "metadata": {
    "execution": {
     "iopub.execute_input": "2021-04-28T02:07:38.641690Z",
     "iopub.status.busy": "2021-04-28T02:07:38.641209Z",
     "iopub.status.idle": "2021-04-28T02:07:39.451016Z",
     "shell.execute_reply": "2021-04-28T02:07:39.450095Z"
    },
    "papermill": {
     "duration": 0.825557,
     "end_time": "2021-04-28T02:07:39.451233",
     "exception": false,
     "start_time": "2021-04-28T02:07:38.625676",
     "status": "completed"
    },
    "tags": []
   },
   "outputs": [],
   "source": [
    "#hide\n",
    "import matplotlib.pyplot as plt\n",
    "import numpy as np\n",
    "import pandas as pd\n",
    "import seaborn as sns\n",
    "import matplotlib.pyplot as plt \n",
    "import matplotlib.dates as mdates\n",
    "import matplotlib.pyplot as plt"
   ]
  },
  {
   "cell_type": "code",
   "execution_count": 5,
   "id": "superior-blanket",
   "metadata": {
    "execution": {
     "iopub.execute_input": "2021-04-28T02:07:39.485245Z",
     "iopub.status.busy": "2021-04-28T02:07:39.484770Z",
     "iopub.status.idle": "2021-04-28T02:07:53.649168Z",
     "shell.execute_reply": "2021-04-28T02:07:53.647992Z"
    },
    "papermill": {
     "duration": 14.184483,
     "end_time": "2021-04-28T02:07:53.649297",
     "exception": false,
     "start_time": "2021-04-28T02:07:39.464814",
     "status": "completed"
    },
    "tags": []
   },
   "outputs": [
    {
     "name": "stderr",
     "output_type": "stream",
     "text": [
      "/home/runner/work/corr-app/corr-app/_notebooks/scripts/read_data.py:187: SettingWithCopyWarning:\n",
      "\n",
      "\n",
      "A value is trying to be set on a copy of a slice from a DataFrame.\n",
      "Try using .loc[row_indexer,col_indexer] = value instead\n",
      "\n",
      "See the caveats in the documentation: https://pandas.pydata.org/pandas-docs/stable/user_guide/indexing.html#returning-a-view-versus-a-copy\n",
      "\n"
     ]
    },
    {
     "name": "stderr",
     "output_type": "stream",
     "text": [
      "/home/runner/work/corr-app/corr-app/_notebooks/scripts/read_data.py:215: SettingWithCopyWarning:\n",
      "\n",
      "\n",
      "A value is trying to be set on a copy of a slice from a DataFrame.\n",
      "Try using .loc[row_indexer,col_indexer] = value instead\n",
      "\n",
      "See the caveats in the documentation: https://pandas.pydata.org/pandas-docs/stable/user_guide/indexing.html#returning-a-view-versus-a-copy\n",
      "\n"
     ]
    }
   ],
   "source": [
    "#hide\n",
    "df_all = read_api()\n",
    "#df_all = df_all.drop(['SP500', 'XAU', 'ETH', 'BTC'], axis=1)\n",
    "\n"
   ]
  },
  {
   "cell_type": "code",
   "execution_count": 6,
   "id": "mature-alert",
   "metadata": {
    "execution": {
     "iopub.execute_input": "2021-04-28T02:07:53.676398Z",
     "iopub.status.busy": "2021-04-28T02:07:53.675404Z",
     "iopub.status.idle": "2021-04-28T02:07:53.702321Z",
     "shell.execute_reply": "2021-04-28T02:07:53.701850Z"
    },
    "papermill": {
     "duration": 0.041661,
     "end_time": "2021-04-28T02:07:53.702438",
     "exception": false,
     "start_time": "2021-04-28T02:07:53.660777",
     "status": "completed"
    },
    "tags": []
   },
   "outputs": [],
   "source": [
    "#hide_input\n",
    "sum_corr = df_all.corr().sum().sort_values(ascending=True).index.values\n",
    "#df_all[sum_corr].corr()"
   ]
  },
  {
   "cell_type": "markdown",
   "id": "complex-syndicate",
   "metadata": {
    "papermill": {
     "duration": 0.010758,
     "end_time": "2021-04-28T02:07:53.723481",
     "exception": false,
     "start_time": "2021-04-28T02:07:53.712723",
     "status": "completed"
    },
    "tags": []
   },
   "source": [
    "## Išplėstinė koreliacijų matrica. "
   ]
  },
  {
   "cell_type": "code",
   "execution_count": 7,
   "id": "atomic-omaha",
   "metadata": {
    "execution": {
     "iopub.execute_input": "2021-04-28T02:07:53.748859Z",
     "iopub.status.busy": "2021-04-28T02:07:53.748330Z",
     "iopub.status.idle": "2021-04-28T02:07:54.858929Z",
     "shell.execute_reply": "2021-04-28T02:07:54.858409Z"
    },
    "papermill": {
     "duration": 1.124983,
     "end_time": "2021-04-28T02:07:54.859057",
     "exception": false,
     "start_time": "2021-04-28T02:07:53.734074",
     "status": "completed"
    },
    "tags": []
   },
   "outputs": [
    {
     "data": {
      "image/png": "[encoded data removed]",
      "text/plain": [
       "<Figure size 1080x792 with 2 Axes>"
      ]
     },
     "metadata": {
      "needs_background": "light"
     },
     "output_type": "display_data"
    }
   ],
   "source": [
    "#hide_input\n",
    "plt.figure(figsize=(15, 11))\n",
    "sns.heatmap(df_all[sum_corr].corr(), annot=True, cmap=\"cubehelix\") \n",
    "sns.set(font_scale=1.25)\n",
    "plt.savefig('corr_matrix.png', format='eps')"
   ]
  },
  {
   "cell_type": "code",
   "execution_count": 8,
   "id": "arbitrary-sullivan",
   "metadata": {
    "execution": {
     "iopub.execute_input": "2021-04-28T02:07:54.893084Z",
     "iopub.status.busy": "2021-04-28T02:07:54.892487Z",
     "iopub.status.idle": "2021-04-28T02:07:54.917594Z",
     "shell.execute_reply": "2021-04-28T02:07:54.917154Z"
    },
    "papermill": {
     "duration": 0.044087,
     "end_time": "2021-04-28T02:07:54.917710",
     "exception": false,
     "start_time": "2021-04-28T02:07:54.873623",
     "status": "completed"
    },
    "tags": []
   },
   "outputs": [],
   "source": [
    "#hide\n",
    "#df_all_mrk = read_api()"
   ]
  },
  {
   "cell_type": "code",
   "execution_count": 9,
   "id": "delayed-adapter",
   "metadata": {
    "execution": {
     "iopub.execute_input": "2021-04-28T02:07:54.950430Z",
     "iopub.status.busy": "2021-04-28T02:07:54.949859Z",
     "iopub.status.idle": "2021-04-28T02:07:54.973558Z",
     "shell.execute_reply": "2021-04-28T02:07:54.972970Z"
    },
    "papermill": {
     "duration": 0.042644,
     "end_time": "2021-04-28T02:07:54.973703",
     "exception": false,
     "start_time": "2021-04-28T02:07:54.931059",
     "status": "completed"
    },
    "tags": []
   },
   "outputs": [],
   "source": [
    "#hide\n",
    "#Koreliacijų koeficientai"
   ]
  },
  {
   "cell_type": "code",
   "execution_count": 10,
   "id": "seeing-celebration",
   "metadata": {
    "execution": {
     "iopub.execute_input": "2021-04-28T02:07:55.004782Z",
     "iopub.status.busy": "2021-04-28T02:07:55.004184Z",
     "iopub.status.idle": "2021-04-28T02:07:55.027713Z",
     "shell.execute_reply": "2021-04-28T02:07:55.027285Z"
    },
    "papermill": {
     "duration": 0.040049,
     "end_time": "2021-04-28T02:07:55.027814",
     "exception": false,
     "start_time": "2021-04-28T02:07:54.987765",
     "status": "completed"
    },
    "tags": []
   },
   "outputs": [],
   "source": [
    "#hide_input\n",
    "#sum_corr = df_all_mrk.corr().sum().sort_values(ascending=True).index.values\n",
    "#df_all_mrk[sum_corr].corr()"
   ]
  },
  {
   "cell_type": "code",
   "execution_count": 11,
   "id": "other-painting",
   "metadata": {
    "execution": {
     "iopub.execute_input": "2021-04-28T02:07:55.058010Z",
     "iopub.status.busy": "2021-04-28T02:07:55.057468Z",
     "iopub.status.idle": "2021-04-28T02:07:55.084483Z",
     "shell.execute_reply": "2021-04-28T02:07:55.083872Z"
    },
    "papermill": {
     "duration": 0.044648,
     "end_time": "2021-04-28T02:07:55.084625",
     "exception": false,
     "start_time": "2021-04-28T02:07:55.039977",
     "status": "completed"
    },
    "tags": []
   },
   "outputs": [],
   "source": [
    "#hide\n",
    "#Koreliacijos matrica. "
   ]
  },
  {
   "cell_type": "code",
   "execution_count": 12,
   "id": "modular-magnitude",
   "metadata": {
    "execution": {
     "iopub.execute_input": "2021-04-28T02:07:55.116846Z",
     "iopub.status.busy": "2021-04-28T02:07:55.116273Z",
     "iopub.status.idle": "2021-04-28T02:07:55.140114Z",
     "shell.execute_reply": "2021-04-28T02:07:55.139661Z"
    },
    "papermill": {
     "duration": 0.040337,
     "end_time": "2021-04-28T02:07:55.140227",
     "exception": false,
     "start_time": "2021-04-28T02:07:55.099890",
     "status": "completed"
    },
    "tags": []
   },
   "outputs": [],
   "source": [
    "#hide_input\n",
    "#plt.figure(figsize=(15, 8))\n",
    "#sns.heatmap(df_all_mrk[sum_corr].corr(), annot=True, cmap=\"BrBG\");\n",
    "#plt.savefig('corr_matrix_all.eps', format='eps')"
   ]
  },
  {
   "cell_type": "code",
   "execution_count": null,
   "id": "original-senator",
   "metadata": {
    "papermill": {
     "duration": 0.012146,
     "end_time": "2021-04-28T02:07:55.163935",
     "exception": false,
     "start_time": "2021-04-28T02:07:55.151789",
     "status": "completed"
    },
    "tags": []
   },
   "outputs": [],
   "source": []
  },
  {
   "cell_type": "code",
   "execution_count": null,
   "id": "saving-secretariat",
   "metadata": {
    "papermill": {
     "duration": 0.012976,
     "end_time": "2021-04-28T02:07:55.190407",
     "exception": false,
     "start_time": "2021-04-28T02:07:55.177431",
     "status": "completed"
    },
    "tags": []
   },
   "outputs": [],
   "source": []
  }
 ],
 "metadata": {
  "kernelspec": {
   "display_name": "Python 3",
   "language": "python",
   "name": "python3"
  },
  "language_info": {
   "codemirror_mode": {
    "name": "ipython",
    "version": 3
   },
   "file_extension": ".py",
   "mimetype": "text/x-python",
   "name": "python",
   "nbconvert_exporter": "python",
   "pygments_lexer": "ipython3",
   "version": "3.6.13"
  },
  "papermill": {
   "default_parameters": {},
   "duration": 20.301607,
   "end_time": "2021-04-28T02:07:56.677297",
   "environment_variables": {},
   "exception": null,
   "input_path": "App-Correlation_charts.ipynb",
   "output_path": "App-Correlation_charts.ipynb",
   "parameters": {},
   "start_time": "2021-04-28T02:07:36.375690",
   "version": "2.2.2"
  }
 },
 "nbformat": 4,
 "nbformat_minor": 5
}