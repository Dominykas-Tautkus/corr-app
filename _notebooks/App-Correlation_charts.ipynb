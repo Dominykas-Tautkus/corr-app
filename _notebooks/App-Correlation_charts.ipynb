{
 "cells": [
  {
   "cell_type": "markdown",
   "id": "touched-facility",
   "metadata": {
    "papermill": {
     "duration": 0.016502,
     "end_time": "2021-04-16T02:07:57.517957",
     "exception": false,
     "start_time": "2021-04-16T02:07:57.501455",
     "status": "completed"
    },
    "tags": []
   },
   "source": [
    "# Koreliacijų matrica\n",
    "> Išplėstinė koreliacijų matrica. \n",
    "\n",
    "- toc: true \n",
    "- badges: true\n",
    "- comments: false\n",
    "- categories: [Dominykas Tautkus]\n",
    "- image: images/matrix.png"
   ]
  },
  {
   "cell_type": "code",
   "execution_count": null,
   "id": "premium-weekend",
   "metadata": {
    "papermill": {
     "duration": 0.013635,
     "end_time": "2021-04-16T02:07:57.545325",
     "exception": false,
     "start_time": "2021-04-16T02:07:57.531690",
     "status": "completed"
    },
    "tags": []
   },
   "outputs": [],
   "source": []
  },
  {
   "cell_type": "code",
   "execution_count": 1,
   "id": "vertical-rebate",
   "metadata": {
    "execution": {
     "iopub.execute_input": "2021-04-16T02:07:57.582813Z",
     "iopub.status.busy": "2021-04-16T02:07:57.582159Z",
     "iopub.status.idle": "2021-04-16T02:07:57.592892Z",
     "shell.execute_reply": "2021-04-16T02:07:57.593456Z"
    },
    "papermill": {
     "duration": 0.03544,
     "end_time": "2021-04-16T02:07:57.593598",
     "exception": false,
     "start_time": "2021-04-16T02:07:57.558158",
     "status": "completed"
    },
    "tags": []
   },
   "outputs": [],
   "source": [
    "#hide\n",
    "%load_ext autoreload\n",
    "%autoreload 2"
   ]
  },
  {
   "cell_type": "code",
   "execution_count": 2,
   "id": "overall-advancement",
   "metadata": {
    "execution": {
     "iopub.execute_input": "2021-04-16T02:07:57.623800Z",
     "iopub.status.busy": "2021-04-16T02:07:57.623202Z",
     "iopub.status.idle": "2021-04-16T02:07:58.878944Z",
     "shell.execute_reply": "2021-04-16T02:07:58.878235Z"
    },
    "papermill": {
     "duration": 1.271485,
     "end_time": "2021-04-16T02:07:58.879088",
     "exception": false,
     "start_time": "2021-04-16T02:07:57.607603",
     "status": "completed"
    },
    "tags": []
   },
   "outputs": [],
   "source": [
    "#hide\n",
    "from scripts.read_data import read_api\n",
    "from IPython.display import HTML\n",
    "import plotly.graph_objects as go\n"
   ]
  },
  {
   "cell_type": "code",
   "execution_count": 3,
   "id": "light-crazy",
   "metadata": {
    "execution": {
     "iopub.execute_input": "2021-04-16T02:07:58.909230Z",
     "iopub.status.busy": "2021-04-16T02:07:58.908505Z",
     "iopub.status.idle": "2021-04-16T02:07:58.931510Z",
     "shell.execute_reply": "2021-04-16T02:07:58.930990Z"
    },
    "papermill": {
     "duration": 0.040153,
     "end_time": "2021-04-16T02:07:58.931656",
     "exception": false,
     "start_time": "2021-04-16T02:07:58.891503",
     "status": "completed"
    },
    "tags": []
   },
   "outputs": [],
   "source": [
    "#hide\n",
    "### ICO koreliacija"
   ]
  },
  {
   "cell_type": "code",
   "execution_count": 4,
   "id": "likely-bahrain",
   "metadata": {
    "execution": {
     "iopub.execute_input": "2021-04-16T02:07:58.961060Z",
     "iopub.status.busy": "2021-04-16T02:07:58.960366Z",
     "iopub.status.idle": "2021-04-16T02:07:59.877791Z",
     "shell.execute_reply": "2021-04-16T02:07:59.876734Z"
    },
    "papermill": {
     "duration": 0.93395,
     "end_time": "2021-04-16T02:07:59.877916",
     "exception": false,
     "start_time": "2021-04-16T02:07:58.943966",
     "status": "completed"
    },
    "tags": []
   },
   "outputs": [],
   "source": [
    "#hide\n",
    "import matplotlib.pyplot as plt\n",
    "import numpy as np\n",
    "import pandas as pd\n",
    "import seaborn as sns\n",
    "import matplotlib.pyplot as plt \n",
    "import matplotlib.dates as mdates\n",
    "import matplotlib.pyplot as plt"
   ]
  },
  {
   "cell_type": "code",
   "execution_count": 5,
   "id": "superior-blanket",
   "metadata": {
    "execution": {
     "iopub.execute_input": "2021-04-16T02:07:59.910526Z",
     "iopub.status.busy": "2021-04-16T02:07:59.909966Z",
     "iopub.status.idle": "2021-04-16T02:08:12.272756Z",
     "shell.execute_reply": "2021-04-16T02:08:12.273350Z"
    },
    "papermill": {
     "duration": 12.380812,
     "end_time": "2021-04-16T02:08:12.273539",
     "exception": false,
     "start_time": "2021-04-16T02:07:59.892727",
     "status": "completed"
    },
    "tags": []
   },
   "outputs": [
    {
     "name": "stderr",
     "output_type": "stream",
     "text": [
      "/home/runner/work/corr-app/corr-app/_notebooks/scripts/read_data.py:187: SettingWithCopyWarning:\n",
      "\n",
      "\n",
      "A value is trying to be set on a copy of a slice from a DataFrame.\n",
      "Try using .loc[row_indexer,col_indexer] = value instead\n",
      "\n",
      "See the caveats in the documentation: https://pandas.pydata.org/pandas-docs/stable/user_guide/indexing.html#returning-a-view-versus-a-copy\n",
      "\n"
     ]
    },
    {
     "name": "stderr",
     "output_type": "stream",
     "text": [
      "/home/runner/work/corr-app/corr-app/_notebooks/scripts/read_data.py:215: SettingWithCopyWarning:\n",
      "\n",
      "\n",
      "A value is trying to be set on a copy of a slice from a DataFrame.\n",
      "Try using .loc[row_indexer,col_indexer] = value instead\n",
      "\n",
      "See the caveats in the documentation: https://pandas.pydata.org/pandas-docs/stable/user_guide/indexing.html#returning-a-view-versus-a-copy\n",
      "\n"
     ]
    }
   ],
   "source": [
    "#hide\n",
    "df_all = read_api()\n",
    "#df_all = df_all.drop(['SP500', 'XAU', 'ETH', 'BTC'], axis=1)\n",
    "\n"
   ]
  },
  {
   "cell_type": "code",
   "execution_count": 6,
   "id": "mature-alert",
   "metadata": {
    "execution": {
     "iopub.execute_input": "2021-04-16T02:08:12.312767Z",
     "iopub.status.busy": "2021-04-16T02:08:12.312154Z",
     "iopub.status.idle": "2021-04-16T02:08:12.341359Z",
     "shell.execute_reply": "2021-04-16T02:08:12.340824Z"
    },
    "papermill": {
     "duration": 0.051743,
     "end_time": "2021-04-16T02:08:12.341466",
     "exception": false,
     "start_time": "2021-04-16T02:08:12.289723",
     "status": "completed"
    },
    "tags": []
   },
   "outputs": [],
   "source": [
    "#hide_input\n",
    "sum_corr = df_all.corr().sum().sort_values(ascending=True).index.values\n",
    "#df_all[sum_corr].corr()"
   ]
  },
  {
   "cell_type": "markdown",
   "id": "complex-syndicate",
   "metadata": {
    "papermill": {
     "duration": 0.01432,
     "end_time": "2021-04-16T02:08:12.369074",
     "exception": false,
     "start_time": "2021-04-16T02:08:12.354754",
     "status": "completed"
    },
    "tags": []
   },
   "source": [
    "## Išplėstinė koreliacijų matrica. "
   ]
  },
  {
   "cell_type": "code",
   "execution_count": 7,
   "id": "atomic-omaha",
   "metadata": {
    "execution": {
     "iopub.execute_input": "2021-04-16T02:08:12.401826Z",
     "iopub.status.busy": "2021-04-16T02:08:12.401226Z",
     "iopub.status.idle": "2021-04-16T02:08:13.972394Z",
     "shell.execute_reply": "2021-04-16T02:08:13.971911Z"
    },
    "papermill": {
     "duration": 1.590286,
     "end_time": "2021-04-16T02:08:13.972523",
     "exception": false,
     "start_time": "2021-04-16T02:08:12.382237",
     "status": "completed"
    },
    "tags": []
   },
   "outputs": [
    {
     "data": {
      "image/png": "[encoded data removed]",
      "text/plain": [
       "<Figure size 1080x792 with 2 Axes>"
      ]
     },
     "metadata": {
      "needs_background": "light"
     },
     "output_type": "display_data"
    }
   ],
   "source": [
    "#hide_input\n",
    "plt.figure(figsize=(15, 11))\n",
    "sns.heatmap(df_all[sum_corr].corr(), annot=True, cmap=\"cubehelix\") \n",
    "sns.set(font_scale=1.25)\n",
    "plt.savefig('corr_matrix.png', format='eps')"
   ]
  },
  {
   "cell_type": "code",
   "execution_count": 8,
   "id": "arbitrary-sullivan",
   "metadata": {
    "execution": {
     "iopub.execute_input": "2021-04-16T02:08:14.007878Z",
     "iopub.status.busy": "2021-04-16T02:08:14.007271Z",
     "iopub.status.idle": "2021-04-16T02:08:14.031476Z",
     "shell.execute_reply": "2021-04-16T02:08:14.032022Z"
    },
    "papermill": {
     "duration": 0.045111,
     "end_time": "2021-04-16T02:08:14.032148",
     "exception": false,
     "start_time": "2021-04-16T02:08:13.987037",
     "status": "completed"
    },
    "tags": []
   },
   "outputs": [],
   "source": [
    "#hide\n",
    "#df_all_mrk = read_api()"
   ]
  },
  {
   "cell_type": "code",
   "execution_count": 9,
   "id": "delayed-adapter",
   "metadata": {
    "execution": {
     "iopub.execute_input": "2021-04-16T02:08:14.070569Z",
     "iopub.status.busy": "2021-04-16T02:08:14.069981Z",
     "iopub.status.idle": "2021-04-16T02:08:14.097301Z",
     "shell.execute_reply": "2021-04-16T02:08:14.096787Z"
    },
    "papermill": {
     "duration": 0.048186,
     "end_time": "2021-04-16T02:08:14.097445",
     "exception": false,
     "start_time": "2021-04-16T02:08:14.049259",
     "status": "completed"
    },
    "tags": []
   },
   "outputs": [],
   "source": [
    "#hide\n",
    "#Koreliacijų koeficientai"
   ]
  },
  {
   "cell_type": "code",
   "execution_count": 10,
   "id": "seeing-celebration",
   "metadata": {
    "execution": {
     "iopub.execute_input": "2021-04-16T02:08:14.135984Z",
     "iopub.status.busy": "2021-04-16T02:08:14.134763Z",
     "iopub.status.idle": "2021-04-16T02:08:14.161207Z",
     "shell.execute_reply": "2021-04-16T02:08:14.160726Z"
    },
    "papermill": {
     "duration": 0.048195,
     "end_time": "2021-04-16T02:08:14.161334",
     "exception": false,
     "start_time": "2021-04-16T02:08:14.113139",
     "status": "completed"
    },
    "tags": []
   },
   "outputs": [],
   "source": [
    "#hide_input\n",
    "#sum_corr = df_all_mrk.corr().sum().sort_values(ascending=True).index.values\n",
    "#df_all_mrk[sum_corr].corr()"
   ]
  },
  {
   "cell_type": "code",
   "execution_count": 11,
   "id": "other-painting",
   "metadata": {
    "execution": {
     "iopub.execute_input": "2021-04-16T02:08:14.196324Z",
     "iopub.status.busy": "2021-04-16T02:08:14.194935Z",
     "iopub.status.idle": "2021-04-16T02:08:14.216965Z",
     "shell.execute_reply": "2021-04-16T02:08:14.217447Z"
    },
    "papermill": {
     "duration": 0.04167,
     "end_time": "2021-04-16T02:08:14.217565",
     "exception": false,
     "start_time": "2021-04-16T02:08:14.175895",
     "status": "completed"
    },
    "tags": []
   },
   "outputs": [],
   "source": [
    "#hide\n",
    "#Koreliacijos matrica. "
   ]
  },
  {
   "cell_type": "code",
   "execution_count": 12,
   "id": "modular-magnitude",
   "metadata": {
    "execution": {
     "iopub.execute_input": "2021-04-16T02:08:14.260458Z",
     "iopub.status.busy": "2021-04-16T02:08:14.259440Z",
     "iopub.status.idle": "2021-04-16T02:08:14.285905Z",
     "shell.execute_reply": "2021-04-16T02:08:14.285442Z"
    },
    "papermill": {
     "duration": 0.052831,
     "end_time": "2021-04-16T02:08:14.286015",
     "exception": false,
     "start_time": "2021-04-16T02:08:14.233184",
     "status": "completed"
    },
    "tags": []
   },
   "outputs": [],
   "source": [
    "#hide_input\n",
    "#plt.figure(figsize=(15, 8))\n",
    "#sns.heatmap(df_all_mrk[sum_corr].corr(), annot=True, cmap=\"BrBG\");\n",
    "#plt.savefig('corr_matrix_all.eps', format='eps')"
   ]
  },
  {
   "cell_type": "code",
   "execution_count": null,
   "id": "original-senator",
   "metadata": {
    "papermill": {
     "duration": 0.014942,
     "end_time": "2021-04-16T02:08:14.315966",
     "exception": false,
     "start_time": "2021-04-16T02:08:14.301024",
     "status": "completed"
    },
    "tags": []
   },
   "outputs": [],
   "source": []
  },
  {
   "cell_type": "code",
   "execution_count": null,
   "id": "saving-secretariat",
   "metadata": {
    "papermill": {
     "duration": 0.015253,
     "end_time": "2021-04-16T02:08:14.346319",
     "exception": false,
     "start_time": "2021-04-16T02:08:14.331066",
     "status": "completed"
    },
    "tags": []
   },
   "outputs": [],
   "source": []
  }
 ],
 "metadata": {
  "kernelspec": {
   "display_name": "Python 3",
   "language": "python",
   "name": "python3"
  },
  "language_info": {
   "codemirror_mode": {
    "name": "ipython",
    "version": 3
   },
   "file_extension": ".py",
   "mimetype": "text/x-python",
   "name": "python",
   "nbconvert_exporter": "python",
   "pygments_lexer": "ipython3",
   "version": "3.6.13"
  },
  "papermill": {
   "default_parameters": {},
   "duration": 18.638585,
   "end_time": "2021-04-16T02:08:14.871113",
   "environment_variables": {},
   "exception": null,
   "input_path": "App-Correlation_charts.ipynb",
   "output_path": "App-Correlation_charts.ipynb",
   "parameters": {},
   "start_time": "2021-04-16T02:07:56.232528",
   "version": "2.2.2"
  }
 },
 "nbformat": 4,
 "nbformat_minor": 5
}