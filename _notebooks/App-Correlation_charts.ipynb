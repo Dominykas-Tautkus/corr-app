{
 "cells": [
  {
   "cell_type": "markdown",
   "id": "touched-facility",
   "metadata": {
    "papermill": {
     "duration": 0.035207,
     "end_time": "2021-03-24T01:50:59.408583",
     "exception": false,
     "start_time": "2021-03-24T01:50:59.373376",
     "status": "completed"
    },
    "tags": []
   },
   "source": [
    "# Koreliacijų matrica\n",
    "> Išplėstinė koreliacijų matrica. \n",
    "\n",
    "- toc: true \n",
    "- badges: true\n",
    "- comments: false\n",
    "- categories: [Dominykas Tautkus]\n",
    "- image: images/matrix.png"
   ]
  },
  {
   "cell_type": "code",
   "execution_count": null,
   "id": "premium-weekend",
   "metadata": {
    "papermill": {
     "duration": 0.030389,
     "end_time": "2021-03-24T01:50:59.512600",
     "exception": false,
     "start_time": "2021-03-24T01:50:59.482211",
     "status": "completed"
    },
    "tags": []
   },
   "outputs": [],
   "source": []
  },
  {
   "cell_type": "code",
   "execution_count": 1,
   "id": "vertical-rebate",
   "metadata": {
    "execution": {
     "iopub.execute_input": "2021-03-24T01:50:59.791262Z",
     "iopub.status.busy": "2021-03-24T01:50:59.790553Z",
     "iopub.status.idle": "2021-03-24T01:50:59.802939Z",
     "shell.execute_reply": "2021-03-24T01:50:59.802245Z"
    },
    "papermill": {
     "duration": 0.227626,
     "end_time": "2021-03-24T01:50:59.803087",
     "exception": false,
     "start_time": "2021-03-24T01:50:59.575461",
     "status": "completed"
    },
    "tags": []
   },
   "outputs": [],
   "source": [
    "#hide\n",
    "%load_ext autoreload\n",
    "%autoreload 2"
   ]
  },
  {
   "cell_type": "code",
   "execution_count": 2,
   "id": "overall-advancement",
   "metadata": {
    "execution": {
     "iopub.execute_input": "2021-03-24T01:51:00.429934Z",
     "iopub.status.busy": "2021-03-24T01:51:00.429168Z",
     "iopub.status.idle": "2021-03-24T01:51:03.020201Z",
     "shell.execute_reply": "2021-03-24T01:51:03.019635Z"
    },
    "papermill": {
     "duration": 3.091475,
     "end_time": "2021-03-24T01:51:03.020373",
     "exception": false,
     "start_time": "2021-03-24T01:50:59.928898",
     "status": "completed"
    },
    "tags": []
   },
   "outputs": [],
   "source": [
    "#hide\n",
    "from scripts.read_data import read_api\n",
    "from IPython.display import HTML\n",
    "import plotly.graph_objects as go\n"
   ]
  },
  {
   "cell_type": "code",
   "execution_count": 3,
   "id": "light-crazy",
   "metadata": {
    "execution": {
     "iopub.execute_input": "2021-03-24T01:51:03.053237Z",
     "iopub.status.busy": "2021-03-24T01:51:03.052585Z",
     "iopub.status.idle": "2021-03-24T01:51:03.078684Z",
     "shell.execute_reply": "2021-03-24T01:51:03.078167Z"
    },
    "papermill": {
     "duration": 0.04391,
     "end_time": "2021-03-24T01:51:03.078856",
     "exception": false,
     "start_time": "2021-03-24T01:51:03.034946",
     "status": "completed"
    },
    "tags": []
   },
   "outputs": [],
   "source": [
    "#hide\n",
    "### ICO koreliacija"
   ]
  },
  {
   "cell_type": "code",
   "execution_count": 4,
   "id": "likely-bahrain",
   "metadata": {
    "execution": {
     "iopub.execute_input": "2021-03-24T01:51:03.111518Z",
     "iopub.status.busy": "2021-03-24T01:51:03.110884Z",
     "iopub.status.idle": "2021-03-24T01:51:04.198856Z",
     "shell.execute_reply": "2021-03-24T01:51:04.198218Z"
    },
    "papermill": {
     "duration": 1.107115,
     "end_time": "2021-03-24T01:51:04.199038",
     "exception": false,
     "start_time": "2021-03-24T01:51:03.091923",
     "status": "completed"
    },
    "tags": []
   },
   "outputs": [],
   "source": [
    "#hide\n",
    "import matplotlib.pyplot as plt\n",
    "import numpy as np\n",
    "import pandas as pd\n",
    "import seaborn as sns\n",
    "import matplotlib.pyplot as plt \n",
    "import matplotlib.dates as mdates\n",
    "import matplotlib.pyplot as plt"
   ]
  },
  {
   "cell_type": "code",
   "execution_count": 5,
   "id": "superior-blanket",
   "metadata": {
    "execution": {
     "iopub.execute_input": "2021-03-24T01:51:04.234295Z",
     "iopub.status.busy": "2021-03-24T01:51:04.233624Z",
     "iopub.status.idle": "2021-03-24T01:51:18.663833Z",
     "shell.execute_reply": "2021-03-24T01:51:18.663222Z"
    },
    "papermill": {
     "duration": 14.451931,
     "end_time": "2021-03-24T01:51:18.664004",
     "exception": false,
     "start_time": "2021-03-24T01:51:04.212073",
     "status": "completed"
    },
    "tags": []
   },
   "outputs": [
    {
     "name": "stderr",
     "output_type": "stream",
     "text": [
      "/home/runner/work/corr-app/corr-app/_notebooks/scripts/read_data.py:187: SettingWithCopyWarning:\n",
      "\n",
      "\n",
      "A value is trying to be set on a copy of a slice from a DataFrame.\n",
      "Try using .loc[row_indexer,col_indexer] = value instead\n",
      "\n",
      "See the caveats in the documentation: https://pandas.pydata.org/pandas-docs/stable/user_guide/indexing.html#returning-a-view-versus-a-copy\n",
      "\n"
     ]
    },
    {
     "name": "stderr",
     "output_type": "stream",
     "text": [
      "/home/runner/work/corr-app/corr-app/_notebooks/scripts/read_data.py:215: SettingWithCopyWarning:\n",
      "\n",
      "\n",
      "A value is trying to be set on a copy of a slice from a DataFrame.\n",
      "Try using .loc[row_indexer,col_indexer] = value instead\n",
      "\n",
      "See the caveats in the documentation: https://pandas.pydata.org/pandas-docs/stable/user_guide/indexing.html#returning-a-view-versus-a-copy\n",
      "\n"
     ]
    }
   ],
   "source": [
    "#hide\n",
    "df_all = read_api()\n",
    "#df_all = df_all.drop(['SP500', 'XAU', 'ETH', 'BTC'], axis=1)\n",
    "\n"
   ]
  },
  {
   "cell_type": "code",
   "execution_count": 6,
   "id": "mature-alert",
   "metadata": {
    "execution": {
     "iopub.execute_input": "2021-03-24T01:51:18.702390Z",
     "iopub.status.busy": "2021-03-24T01:51:18.701752Z",
     "iopub.status.idle": "2021-03-24T01:51:18.736680Z",
     "shell.execute_reply": "2021-03-24T01:51:18.736141Z"
    },
    "papermill": {
     "duration": 0.058021,
     "end_time": "2021-03-24T01:51:18.736821",
     "exception": false,
     "start_time": "2021-03-24T01:51:18.678800",
     "status": "completed"
    },
    "tags": []
   },
   "outputs": [],
   "source": [
    "#hide_input\n",
    "sum_corr = df_all.corr().sum().sort_values(ascending=True).index.values\n",
    "#df_all[sum_corr].corr()"
   ]
  },
  {
   "cell_type": "markdown",
   "id": "complex-syndicate",
   "metadata": {
    "papermill": {
     "duration": 0.013609,
     "end_time": "2021-03-24T01:51:18.767079",
     "exception": false,
     "start_time": "2021-03-24T01:51:18.753470",
     "status": "completed"
    },
    "tags": []
   },
   "source": [
    "## Išplėstinė koreliacijų matrica. "
   ]
  },
  {
   "cell_type": "code",
   "execution_count": 7,
   "id": "atomic-omaha",
   "metadata": {
    "execution": {
     "iopub.execute_input": "2021-03-24T01:51:18.805747Z",
     "iopub.status.busy": "2021-03-24T01:51:18.805162Z",
     "iopub.status.idle": "2021-03-24T01:51:20.426778Z",
     "shell.execute_reply": "2021-03-24T01:51:20.425645Z"
    },
    "papermill": {
     "duration": 1.645425,
     "end_time": "2021-03-24T01:51:20.426936",
     "exception": false,
     "start_time": "2021-03-24T01:51:18.781511",
     "status": "completed"
    },
    "tags": []
   },
   "outputs": [
    {
     "data": {
      "image/png": "[encoded data removed]",
      "text/plain": [
       "<Figure size 1080x792 with 2 Axes>"
      ]
     },
     "metadata": {
      "needs_background": "light"
     },
     "output_type": "display_data"
    }
   ],
   "source": [
    "#hide_input\n",
    "plt.figure(figsize=(15, 11))\n",
    "sns.heatmap(df_all[sum_corr].corr(), annot=True, cmap=\"cubehelix\") \n",
    "sns.set(font_scale=1.25)\n",
    "plt.savefig('corr_matrix.png', format='eps')"
   ]
  },
  {
   "cell_type": "code",
   "execution_count": 8,
   "id": "arbitrary-sullivan",
   "metadata": {
    "execution": {
     "iopub.execute_input": "2021-03-24T01:51:20.467473Z",
     "iopub.status.busy": "2021-03-24T01:51:20.466779Z",
     "iopub.status.idle": "2021-03-24T01:51:20.492818Z",
     "shell.execute_reply": "2021-03-24T01:51:20.493494Z"
    },
    "papermill": {
     "duration": 0.048534,
     "end_time": "2021-03-24T01:51:20.493638",
     "exception": false,
     "start_time": "2021-03-24T01:51:20.445104",
     "status": "completed"
    },
    "tags": []
   },
   "outputs": [],
   "source": [
    "#hide\n",
    "#df_all_mrk = read_api()"
   ]
  },
  {
   "cell_type": "code",
   "execution_count": 9,
   "id": "delayed-adapter",
   "metadata": {
    "execution": {
     "iopub.execute_input": "2021-03-24T01:51:20.534846Z",
     "iopub.status.busy": "2021-03-24T01:51:20.534229Z",
     "iopub.status.idle": "2021-03-24T01:51:20.560104Z",
     "shell.execute_reply": "2021-03-24T01:51:20.559532Z"
    },
    "papermill": {
     "duration": 0.048925,
     "end_time": "2021-03-24T01:51:20.560221",
     "exception": false,
     "start_time": "2021-03-24T01:51:20.511296",
     "status": "completed"
    },
    "tags": []
   },
   "outputs": [],
   "source": [
    "#hide\n",
    "#Koreliacijų koeficientai"
   ]
  },
  {
   "cell_type": "code",
   "execution_count": 10,
   "id": "seeing-celebration",
   "metadata": {
    "execution": {
     "iopub.execute_input": "2021-03-24T01:51:20.597726Z",
     "iopub.status.busy": "2021-03-24T01:51:20.597101Z",
     "iopub.status.idle": "2021-03-24T01:51:20.627829Z",
     "shell.execute_reply": "2021-03-24T01:51:20.627261Z"
    },
    "papermill": {
     "duration": 0.051324,
     "end_time": "2021-03-24T01:51:20.627979",
     "exception": false,
     "start_time": "2021-03-24T01:51:20.576655",
     "status": "completed"
    },
    "tags": []
   },
   "outputs": [],
   "source": [
    "#hide_input\n",
    "#sum_corr = df_all_mrk.corr().sum().sort_values(ascending=True).index.values\n",
    "#df_all_mrk[sum_corr].corr()"
   ]
  },
  {
   "cell_type": "code",
   "execution_count": 11,
   "id": "other-painting",
   "metadata": {
    "execution": {
     "iopub.execute_input": "2021-03-24T01:51:20.665232Z",
     "iopub.status.busy": "2021-03-24T01:51:20.664622Z",
     "iopub.status.idle": "2021-03-24T01:51:20.690565Z",
     "shell.execute_reply": "2021-03-24T01:51:20.691089Z"
    },
    "papermill": {
     "duration": 0.046984,
     "end_time": "2021-03-24T01:51:20.691217",
     "exception": false,
     "start_time": "2021-03-24T01:51:20.644233",
     "status": "completed"
    },
    "tags": []
   },
   "outputs": [],
   "source": [
    "#hide\n",
    "#Koreliacijos matrica. "
   ]
  },
  {
   "cell_type": "code",
   "execution_count": 12,
   "id": "modular-magnitude",
   "metadata": {
    "execution": {
     "iopub.execute_input": "2021-03-24T01:51:20.727165Z",
     "iopub.status.busy": "2021-03-24T01:51:20.726464Z",
     "iopub.status.idle": "2021-03-24T01:51:20.755153Z",
     "shell.execute_reply": "2021-03-24T01:51:20.754588Z"
    },
    "papermill": {
     "duration": 0.047608,
     "end_time": "2021-03-24T01:51:20.755265",
     "exception": false,
     "start_time": "2021-03-24T01:51:20.707657",
     "status": "completed"
    },
    "tags": []
   },
   "outputs": [],
   "source": [
    "#hide_input\n",
    "#plt.figure(figsize=(15, 8))\n",
    "#sns.heatmap(df_all_mrk[sum_corr].corr(), annot=True, cmap=\"BrBG\");\n",
    "#plt.savefig('corr_matrix_all.eps', format='eps')"
   ]
  },
  {
   "cell_type": "code",
   "execution_count": null,
   "id": "original-senator",
   "metadata": {
    "papermill": {
     "duration": 0.016772,
     "end_time": "2021-03-24T01:51:20.787072",
     "exception": false,
     "start_time": "2021-03-24T01:51:20.770300",
     "status": "completed"
    },
    "tags": []
   },
   "outputs": [],
   "source": []
  },
  {
   "cell_type": "code",
   "execution_count": null,
   "id": "saving-secretariat",
   "metadata": {
    "papermill": {
     "duration": 0.015361,
     "end_time": "2021-03-24T01:51:20.818700",
     "exception": false,
     "start_time": "2021-03-24T01:51:20.803339",
     "status": "completed"
    },
    "tags": []
   },
   "outputs": [],
   "source": []
  }
 ],
 "metadata": {
  "kernelspec": {
   "display_name": "Python 3",
   "language": "python",
   "name": "python3"
  },
  "language_info": {
   "codemirror_mode": {
    "name": "ipython",
    "version": 3
   },
   "file_extension": ".py",
   "mimetype": "text/x-python",
   "name": "python",
   "nbconvert_exporter": "python",
   "pygments_lexer": "ipython3",
   "version": "3.6.13"
  },
  "papermill": {
   "default_parameters": {},
   "duration": 23.852083,
   "end_time": "2021-03-24T01:51:21.342789",
   "environment_variables": {},
   "exception": null,
   "input_path": "App-Correlation_charts.ipynb",
   "output_path": "App-Correlation_charts.ipynb",
   "parameters": {},
   "start_time": "2021-03-24T01:50:57.490706",
   "version": "2.2.2"
  }
 },
 "nbformat": 4,
 "nbformat_minor": 5
}