{
 "cells": [
  {
   "cell_type": "markdown",
   "id": "touched-facility",
   "metadata": {
    "papermill": {
     "duration": 0.019259,
     "end_time": "2021-03-04T01:42:41.285935",
     "exception": false,
     "start_time": "2021-03-04T01:42:41.266676",
     "status": "completed"
    },
    "tags": []
   },
   "source": [
    "# Koreliacijų matrica\n",
    "> Išplėstinė koreliacijų matrica. \n",
    "\n",
    "- toc: true \n",
    "- badges: true\n",
    "- comments: false\n",
    "- categories: [Dominykas Tautkus]\n",
    "- image: images/matrix.png"
   ]
  },
  {
   "cell_type": "code",
   "execution_count": null,
   "id": "premium-weekend",
   "metadata": {
    "papermill": {
     "duration": 0.012044,
     "end_time": "2021-03-04T01:42:41.310738",
     "exception": false,
     "start_time": "2021-03-04T01:42:41.298694",
     "status": "completed"
    },
    "tags": []
   },
   "outputs": [],
   "source": []
  },
  {
   "cell_type": "code",
   "execution_count": 1,
   "id": "vertical-rebate",
   "metadata": {
    "execution": {
     "iopub.execute_input": "2021-03-04T01:42:41.346194Z",
     "iopub.status.busy": "2021-03-04T01:42:41.345607Z",
     "iopub.status.idle": "2021-03-04T01:42:41.356685Z",
     "shell.execute_reply": "2021-03-04T01:42:41.356201Z"
    },
    "papermill": {
     "duration": 0.034002,
     "end_time": "2021-03-04T01:42:41.356805",
     "exception": false,
     "start_time": "2021-03-04T01:42:41.322803",
     "status": "completed"
    },
    "tags": []
   },
   "outputs": [],
   "source": [
    "#hide\n",
    "%load_ext autoreload\n",
    "%autoreload 2"
   ]
  },
  {
   "cell_type": "code",
   "execution_count": 2,
   "id": "overall-advancement",
   "metadata": {
    "execution": {
     "iopub.execute_input": "2021-03-04T01:42:41.384552Z",
     "iopub.status.busy": "2021-03-04T01:42:41.383966Z",
     "iopub.status.idle": "2021-03-04T01:42:42.520361Z",
     "shell.execute_reply": "2021-03-04T01:42:42.519267Z"
    },
    "papermill": {
     "duration": 1.151785,
     "end_time": "2021-03-04T01:42:42.520508",
     "exception": false,
     "start_time": "2021-03-04T01:42:41.368723",
     "status": "completed"
    },
    "tags": []
   },
   "outputs": [],
   "source": [
    "#hide\n",
    "from scripts.read_data import read_api\n",
    "from IPython.display import HTML\n",
    "import plotly.graph_objects as go\n"
   ]
  },
  {
   "cell_type": "code",
   "execution_count": 3,
   "id": "light-crazy",
   "metadata": {
    "execution": {
     "iopub.execute_input": "2021-03-04T01:42:42.549635Z",
     "iopub.status.busy": "2021-03-04T01:42:42.548835Z",
     "iopub.status.idle": "2021-03-04T01:42:42.571578Z",
     "shell.execute_reply": "2021-03-04T01:42:42.571012Z"
    },
    "papermill": {
     "duration": 0.03873,
     "end_time": "2021-03-04T01:42:42.571749",
     "exception": false,
     "start_time": "2021-03-04T01:42:42.533019",
     "status": "completed"
    },
    "tags": []
   },
   "outputs": [],
   "source": [
    "#hide\n",
    "### ICO koreliacija"
   ]
  },
  {
   "cell_type": "code",
   "execution_count": 4,
   "id": "likely-bahrain",
   "metadata": {
    "execution": {
     "iopub.execute_input": "2021-03-04T01:42:42.603308Z",
     "iopub.status.busy": "2021-03-04T01:42:42.602773Z",
     "iopub.status.idle": "2021-03-04T01:42:44.514714Z",
     "shell.execute_reply": "2021-03-04T01:42:44.514203Z"
    },
    "papermill": {
     "duration": 1.930303,
     "end_time": "2021-03-04T01:42:44.514855",
     "exception": false,
     "start_time": "2021-03-04T01:42:42.584552",
     "status": "completed"
    },
    "tags": []
   },
   "outputs": [],
   "source": [
    "#hide\n",
    "import matplotlib.pyplot as plt\n",
    "import numpy as np\n",
    "import pandas as pd\n",
    "import seaborn as sns\n",
    "import matplotlib.pyplot as plt \n",
    "import matplotlib.dates as mdates\n",
    "import matplotlib.pyplot as plt"
   ]
  },
  {
   "cell_type": "code",
   "execution_count": 5,
   "id": "superior-blanket",
   "metadata": {
    "execution": {
     "iopub.execute_input": "2021-03-04T01:42:44.545081Z",
     "iopub.status.busy": "2021-03-04T01:42:44.544377Z",
     "iopub.status.idle": "2021-03-04T01:42:58.724619Z",
     "shell.execute_reply": "2021-03-04T01:42:58.723712Z"
    },
    "papermill": {
     "duration": 14.197472,
     "end_time": "2021-03-04T01:42:58.724832",
     "exception": false,
     "start_time": "2021-03-04T01:42:44.527360",
     "status": "completed"
    },
    "tags": []
   },
   "outputs": [
    {
     "name": "stderr",
     "output_type": "stream",
     "text": [
      "/home/runner/work/corr-app/corr-app/_notebooks/scripts/read_data.py:187: SettingWithCopyWarning:\n",
      "\n",
      "\n",
      "A value is trying to be set on a copy of a slice from a DataFrame.\n",
      "Try using .loc[row_indexer,col_indexer] = value instead\n",
      "\n",
      "See the caveats in the documentation: https://pandas.pydata.org/pandas-docs/stable/user_guide/indexing.html#returning-a-view-versus-a-copy\n",
      "\n"
     ]
    },
    {
     "name": "stderr",
     "output_type": "stream",
     "text": [
      "/home/runner/work/corr-app/corr-app/_notebooks/scripts/read_data.py:215: SettingWithCopyWarning:\n",
      "\n",
      "\n",
      "A value is trying to be set on a copy of a slice from a DataFrame.\n",
      "Try using .loc[row_indexer,col_indexer] = value instead\n",
      "\n",
      "See the caveats in the documentation: https://pandas.pydata.org/pandas-docs/stable/user_guide/indexing.html#returning-a-view-versus-a-copy\n",
      "\n"
     ]
    }
   ],
   "source": [
    "#hide\n",
    "df_all = read_api()\n",
    "#df_all = df_all.drop(['SP500', 'XAU', 'ETH', 'BTC'], axis=1)\n",
    "\n"
   ]
  },
  {
   "cell_type": "code",
   "execution_count": 6,
   "id": "mature-alert",
   "metadata": {
    "execution": {
     "iopub.execute_input": "2021-03-04T01:42:58.753638Z",
     "iopub.status.busy": "2021-03-04T01:42:58.753029Z",
     "iopub.status.idle": "2021-03-04T01:42:58.783023Z",
     "shell.execute_reply": "2021-03-04T01:42:58.782550Z"
    },
    "papermill": {
     "duration": 0.045946,
     "end_time": "2021-03-04T01:42:58.783139",
     "exception": false,
     "start_time": "2021-03-04T01:42:58.737193",
     "status": "completed"
    },
    "tags": []
   },
   "outputs": [],
   "source": [
    "#hide_input\n",
    "sum_corr = df_all.corr().sum().sort_values(ascending=True).index.values\n",
    "#df_all[sum_corr].corr()"
   ]
  },
  {
   "cell_type": "markdown",
   "id": "complex-syndicate",
   "metadata": {
    "papermill": {
     "duration": 0.011744,
     "end_time": "2021-03-04T01:42:58.806937",
     "exception": false,
     "start_time": "2021-03-04T01:42:58.795193",
     "status": "completed"
    },
    "tags": []
   },
   "source": [
    "## Išplėstinė koreliacijų matrica. "
   ]
  },
  {
   "cell_type": "code",
   "execution_count": 7,
   "id": "atomic-omaha",
   "metadata": {
    "execution": {
     "iopub.execute_input": "2021-03-04T01:42:58.836941Z",
     "iopub.status.busy": "2021-03-04T01:42:58.836369Z",
     "iopub.status.idle": "2021-03-04T01:43:00.047953Z",
     "shell.execute_reply": "2021-03-04T01:43:00.047406Z"
    },
    "papermill": {
     "duration": 1.229541,
     "end_time": "2021-03-04T01:43:00.048080",
     "exception": false,
     "start_time": "2021-03-04T01:42:58.818539",
     "status": "completed"
    },
    "tags": []
   },
   "outputs": [
    {
     "data": {
      "image/png": "[encoded data removed]",
      "text/plain": [
       "<Figure size 1080x792 with 2 Axes>"
      ]
     },
     "metadata": {
      "needs_background": "light"
     },
     "output_type": "display_data"
    }
   ],
   "source": [
    "#hide_input\n",
    "plt.figure(figsize=(15, 11))\n",
    "sns.heatmap(df_all[sum_corr].corr(), annot=True, cmap=\"cubehelix\") \n",
    "sns.set(font_scale=1.25)\n",
    "plt.savefig('corr_matrix.png', format='eps')"
   ]
  },
  {
   "cell_type": "code",
   "execution_count": 8,
   "id": "arbitrary-sullivan",
   "metadata": {
    "execution": {
     "iopub.execute_input": "2021-03-04T01:43:00.084860Z",
     "iopub.status.busy": "2021-03-04T01:43:00.084276Z",
     "iopub.status.idle": "2021-03-04T01:43:00.111260Z",
     "shell.execute_reply": "2021-03-04T01:43:00.110539Z"
    },
    "papermill": {
     "duration": 0.048413,
     "end_time": "2021-03-04T01:43:00.111424",
     "exception": false,
     "start_time": "2021-03-04T01:43:00.063011",
     "status": "completed"
    },
    "tags": []
   },
   "outputs": [],
   "source": [
    "#hide\n",
    "#df_all_mrk = read_api()"
   ]
  },
  {
   "cell_type": "code",
   "execution_count": 9,
   "id": "delayed-adapter",
   "metadata": {
    "execution": {
     "iopub.execute_input": "2021-03-04T01:43:00.156380Z",
     "iopub.status.busy": "2021-03-04T01:43:00.155471Z",
     "iopub.status.idle": "2021-03-04T01:43:00.178206Z",
     "shell.execute_reply": "2021-03-04T01:43:00.177537Z"
    },
    "papermill": {
     "duration": 0.050753,
     "end_time": "2021-03-04T01:43:00.178364",
     "exception": false,
     "start_time": "2021-03-04T01:43:00.127611",
     "status": "completed"
    },
    "tags": []
   },
   "outputs": [],
   "source": [
    "#hide\n",
    "#Koreliacijų koeficientai"
   ]
  },
  {
   "cell_type": "code",
   "execution_count": 10,
   "id": "seeing-celebration",
   "metadata": {
    "execution": {
     "iopub.execute_input": "2021-03-04T01:43:00.218553Z",
     "iopub.status.busy": "2021-03-04T01:43:00.217129Z",
     "iopub.status.idle": "2021-03-04T01:43:00.240309Z",
     "shell.execute_reply": "2021-03-04T01:43:00.239730Z"
    },
    "papermill": {
     "duration": 0.045104,
     "end_time": "2021-03-04T01:43:00.240453",
     "exception": false,
     "start_time": "2021-03-04T01:43:00.195349",
     "status": "completed"
    },
    "tags": []
   },
   "outputs": [],
   "source": [
    "#hide_input\n",
    "#sum_corr = df_all_mrk.corr().sum().sort_values(ascending=True).index.values\n",
    "#df_all_mrk[sum_corr].corr()"
   ]
  },
  {
   "cell_type": "code",
   "execution_count": 11,
   "id": "other-painting",
   "metadata": {
    "execution": {
     "iopub.execute_input": "2021-03-04T01:43:00.277149Z",
     "iopub.status.busy": "2021-03-04T01:43:00.276580Z",
     "iopub.status.idle": "2021-03-04T01:43:00.302258Z",
     "shell.execute_reply": "2021-03-04T01:43:00.301795Z"
    },
    "papermill": {
     "duration": 0.046297,
     "end_time": "2021-03-04T01:43:00.302375",
     "exception": false,
     "start_time": "2021-03-04T01:43:00.256078",
     "status": "completed"
    },
    "tags": []
   },
   "outputs": [],
   "source": [
    "#hide\n",
    "#Koreliacijos matrica. "
   ]
  },
  {
   "cell_type": "code",
   "execution_count": 12,
   "id": "modular-magnitude",
   "metadata": {
    "execution": {
     "iopub.execute_input": "2021-03-04T01:43:00.336262Z",
     "iopub.status.busy": "2021-03-04T01:43:00.335665Z",
     "iopub.status.idle": "2021-03-04T01:43:00.362585Z",
     "shell.execute_reply": "2021-03-04T01:43:00.361916Z"
    },
    "papermill": {
     "duration": 0.045504,
     "end_time": "2021-03-04T01:43:00.362739",
     "exception": false,
     "start_time": "2021-03-04T01:43:00.317235",
     "status": "completed"
    },
    "tags": []
   },
   "outputs": [],
   "source": [
    "#hide_input\n",
    "#plt.figure(figsize=(15, 8))\n",
    "#sns.heatmap(df_all_mrk[sum_corr].corr(), annot=True, cmap=\"BrBG\");\n",
    "#plt.savefig('corr_matrix_all.eps', format='eps')"
   ]
  },
  {
   "cell_type": "code",
   "execution_count": null,
   "id": "original-senator",
   "metadata": {
    "papermill": {
     "duration": 0.015061,
     "end_time": "2021-03-04T01:43:00.394514",
     "exception": false,
     "start_time": "2021-03-04T01:43:00.379453",
     "status": "completed"
    },
    "tags": []
   },
   "outputs": [],
   "source": []
  },
  {
   "cell_type": "code",
   "execution_count": null,
   "id": "saving-secretariat",
   "metadata": {
    "papermill": {
     "duration": 0.015054,
     "end_time": "2021-03-04T01:43:00.424645",
     "exception": false,
     "start_time": "2021-03-04T01:43:00.409591",
     "status": "completed"
    },
    "tags": []
   },
   "outputs": [],
   "source": []
  }
 ],
 "metadata": {
  "kernelspec": {
   "display_name": "Python 3",
   "language": "python",
   "name": "python3"
  },
  "language_info": {
   "codemirror_mode": {
    "name": "ipython",
    "version": 3
   },
   "file_extension": ".py",
   "mimetype": "text/x-python",
   "name": "python",
   "nbconvert_exporter": "python",
   "pygments_lexer": "ipython3",
   "version": "3.6.13"
  },
  "papermill": {
   "default_parameters": {},
   "duration": 20.760648,
   "end_time": "2021-03-04T01:43:00.951280",
   "environment_variables": {},
   "exception": null,
   "input_path": "App-Correlation_charts.ipynb",
   "output_path": "App-Correlation_charts.ipynb",
   "parameters": {},
   "start_time": "2021-03-04T01:42:40.190632",
   "version": "2.2.2"
  }
 },
 "nbformat": 4,
 "nbformat_minor": 5
}