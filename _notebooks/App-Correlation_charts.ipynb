{
 "cells": [
  {
   "cell_type": "markdown",
   "id": "touched-facility",
   "metadata": {
    "papermill": {
     "duration": 0.016892,
     "end_time": "2021-04-18T02:09:24.336735",
     "exception": false,
     "start_time": "2021-04-18T02:09:24.319843",
     "status": "completed"
    },
    "tags": []
   },
   "source": [
    "# Koreliacijų matrica\n",
    "> Išplėstinė koreliacijų matrica. \n",
    "\n",
    "- toc: true \n",
    "- badges: true\n",
    "- comments: false\n",
    "- categories: [Dominykas Tautkus]\n",
    "- image: images/matrix.png"
   ]
  },
  {
   "cell_type": "code",
   "execution_count": null,
   "id": "premium-weekend",
   "metadata": {
    "papermill": {
     "duration": 0.015148,
     "end_time": "2021-04-18T02:09:24.366308",
     "exception": false,
     "start_time": "2021-04-18T02:09:24.351160",
     "status": "completed"
    },
    "tags": []
   },
   "outputs": [],
   "source": []
  },
  {
   "cell_type": "code",
   "execution_count": 1,
   "id": "vertical-rebate",
   "metadata": {
    "execution": {
     "iopub.execute_input": "2021-04-18T02:09:24.408079Z",
     "iopub.status.busy": "2021-04-18T02:09:24.407401Z",
     "iopub.status.idle": "2021-04-18T02:09:24.417848Z",
     "shell.execute_reply": "2021-04-18T02:09:24.418364Z"
    },
    "papermill": {
     "duration": 0.0375,
     "end_time": "2021-04-18T02:09:24.418556",
     "exception": false,
     "start_time": "2021-04-18T02:09:24.381056",
     "status": "completed"
    },
    "tags": []
   },
   "outputs": [],
   "source": [
    "#hide\n",
    "%load_ext autoreload\n",
    "%autoreload 2"
   ]
  },
  {
   "cell_type": "code",
   "execution_count": 2,
   "id": "overall-advancement",
   "metadata": {
    "execution": {
     "iopub.execute_input": "2021-04-18T02:09:24.561778Z",
     "iopub.status.busy": "2021-04-18T02:09:24.560436Z",
     "iopub.status.idle": "2021-04-18T02:09:26.339098Z",
     "shell.execute_reply": "2021-04-18T02:09:26.338181Z"
    },
    "papermill": {
     "duration": 1.893939,
     "end_time": "2021-04-18T02:09:26.339239",
     "exception": false,
     "start_time": "2021-04-18T02:09:24.445300",
     "status": "completed"
    },
    "tags": []
   },
   "outputs": [],
   "source": [
    "#hide\n",
    "from scripts.read_data import read_api\n",
    "from IPython.display import HTML\n",
    "import plotly.graph_objects as go\n"
   ]
  },
  {
   "cell_type": "code",
   "execution_count": 3,
   "id": "light-crazy",
   "metadata": {
    "execution": {
     "iopub.execute_input": "2021-04-18T02:09:26.388763Z",
     "iopub.status.busy": "2021-04-18T02:09:26.387527Z",
     "iopub.status.idle": "2021-04-18T02:09:26.411337Z",
     "shell.execute_reply": "2021-04-18T02:09:26.410740Z"
    },
    "papermill": {
     "duration": 0.044976,
     "end_time": "2021-04-18T02:09:26.411479",
     "exception": false,
     "start_time": "2021-04-18T02:09:26.366503",
     "status": "completed"
    },
    "tags": []
   },
   "outputs": [],
   "source": [
    "#hide\n",
    "### ICO koreliacija"
   ]
  },
  {
   "cell_type": "code",
   "execution_count": 4,
   "id": "likely-bahrain",
   "metadata": {
    "execution": {
     "iopub.execute_input": "2021-04-18T02:09:26.462423Z",
     "iopub.status.busy": "2021-04-18T02:09:26.461141Z",
     "iopub.status.idle": "2021-04-18T02:09:27.585034Z",
     "shell.execute_reply": "2021-04-18T02:09:27.585538Z"
    },
    "papermill": {
     "duration": 1.158145,
     "end_time": "2021-04-18T02:09:27.585703",
     "exception": false,
     "start_time": "2021-04-18T02:09:26.427558",
     "status": "completed"
    },
    "tags": []
   },
   "outputs": [],
   "source": [
    "#hide\n",
    "import matplotlib.pyplot as plt\n",
    "import numpy as np\n",
    "import pandas as pd\n",
    "import seaborn as sns\n",
    "import matplotlib.pyplot as plt \n",
    "import matplotlib.dates as mdates\n",
    "import matplotlib.pyplot as plt"
   ]
  },
  {
   "cell_type": "code",
   "execution_count": 5,
   "id": "superior-blanket",
   "metadata": {
    "execution": {
     "iopub.execute_input": "2021-04-18T02:09:27.631181Z",
     "iopub.status.busy": "2021-04-18T02:09:27.630560Z",
     "iopub.status.idle": "2021-04-18T02:09:39.122178Z",
     "shell.execute_reply": "2021-04-18T02:09:39.122719Z"
    },
    "papermill": {
     "duration": 11.512862,
     "end_time": "2021-04-18T02:09:39.122883",
     "exception": false,
     "start_time": "2021-04-18T02:09:27.610021",
     "status": "completed"
    },
    "tags": []
   },
   "outputs": [
    {
     "name": "stderr",
     "output_type": "stream",
     "text": [
      "/home/runner/work/corr-app/corr-app/_notebooks/scripts/read_data.py:187: SettingWithCopyWarning:\n",
      "\n",
      "\n",
      "A value is trying to be set on a copy of a slice from a DataFrame.\n",
      "Try using .loc[row_indexer,col_indexer] = value instead\n",
      "\n",
      "See the caveats in the documentation: https://pandas.pydata.org/pandas-docs/stable/user_guide/indexing.html#returning-a-view-versus-a-copy\n",
      "\n"
     ]
    },
    {
     "name": "stderr",
     "output_type": "stream",
     "text": [
      "/home/runner/work/corr-app/corr-app/_notebooks/scripts/read_data.py:215: SettingWithCopyWarning:\n",
      "\n",
      "\n",
      "A value is trying to be set on a copy of a slice from a DataFrame.\n",
      "Try using .loc[row_indexer,col_indexer] = value instead\n",
      "\n",
      "See the caveats in the documentation: https://pandas.pydata.org/pandas-docs/stable/user_guide/indexing.html#returning-a-view-versus-a-copy\n",
      "\n"
     ]
    }
   ],
   "source": [
    "#hide\n",
    "df_all = read_api()\n",
    "#df_all = df_all.drop(['SP500', 'XAU', 'ETH', 'BTC'], axis=1)\n",
    "\n"
   ]
  },
  {
   "cell_type": "code",
   "execution_count": 6,
   "id": "mature-alert",
   "metadata": {
    "execution": {
     "iopub.execute_input": "2021-04-18T02:09:39.160766Z",
     "iopub.status.busy": "2021-04-18T02:09:39.160073Z",
     "iopub.status.idle": "2021-04-18T02:09:39.188391Z",
     "shell.execute_reply": "2021-04-18T02:09:39.187843Z"
    },
    "papermill": {
     "duration": 0.050835,
     "end_time": "2021-04-18T02:09:39.188533",
     "exception": false,
     "start_time": "2021-04-18T02:09:39.137698",
     "status": "completed"
    },
    "tags": []
   },
   "outputs": [],
   "source": [
    "#hide_input\n",
    "sum_corr = df_all.corr().sum().sort_values(ascending=True).index.values\n",
    "#df_all[sum_corr].corr()"
   ]
  },
  {
   "cell_type": "markdown",
   "id": "complex-syndicate",
   "metadata": {
    "papermill": {
     "duration": 0.014999,
     "end_time": "2021-04-18T02:09:39.217908",
     "exception": false,
     "start_time": "2021-04-18T02:09:39.202909",
     "status": "completed"
    },
    "tags": []
   },
   "source": [
    "## Išplėstinė koreliacijų matrica. "
   ]
  },
  {
   "cell_type": "code",
   "execution_count": 7,
   "id": "atomic-omaha",
   "metadata": {
    "execution": {
     "iopub.execute_input": "2021-04-18T02:09:39.264590Z",
     "iopub.status.busy": "2021-04-18T02:09:39.260756Z",
     "iopub.status.idle": "2021-04-18T02:09:40.738049Z",
     "shell.execute_reply": "2021-04-18T02:09:40.737501Z"
    },
    "papermill": {
     "duration": 1.506219,
     "end_time": "2021-04-18T02:09:40.738182",
     "exception": false,
     "start_time": "2021-04-18T02:09:39.231963",
     "status": "completed"
    },
    "tags": []
   },
   "outputs": [
    {
     "data": {
      "image/png": "[encoded data removed]",
      "text/plain": [
       "<Figure size 1080x792 with 2 Axes>"
      ]
     },
     "metadata": {
      "needs_background": "light"
     },
     "output_type": "display_data"
    }
   ],
   "source": [
    "#hide_input\n",
    "plt.figure(figsize=(15, 11))\n",
    "sns.heatmap(df_all[sum_corr].corr(), annot=True, cmap=\"cubehelix\") \n",
    "sns.set(font_scale=1.25)\n",
    "plt.savefig('corr_matrix.png', format='eps')"
   ]
  },
  {
   "cell_type": "code",
   "execution_count": 8,
   "id": "arbitrary-sullivan",
   "metadata": {
    "execution": {
     "iopub.execute_input": "2021-04-18T02:09:40.784116Z",
     "iopub.status.busy": "2021-04-18T02:09:40.783426Z",
     "iopub.status.idle": "2021-04-18T02:09:40.807931Z",
     "shell.execute_reply": "2021-04-18T02:09:40.807353Z"
    },
    "papermill": {
     "duration": 0.053374,
     "end_time": "2021-04-18T02:09:40.808073",
     "exception": false,
     "start_time": "2021-04-18T02:09:40.754699",
     "status": "completed"
    },
    "tags": []
   },
   "outputs": [],
   "source": [
    "#hide\n",
    "#df_all_mrk = read_api()"
   ]
  },
  {
   "cell_type": "code",
   "execution_count": 9,
   "id": "delayed-adapter",
   "metadata": {
    "execution": {
     "iopub.execute_input": "2021-04-18T02:09:40.851750Z",
     "iopub.status.busy": "2021-04-18T02:09:40.847886Z",
     "iopub.status.idle": "2021-04-18T02:09:40.874953Z",
     "shell.execute_reply": "2021-04-18T02:09:40.874049Z"
    },
    "papermill": {
     "duration": 0.050758,
     "end_time": "2021-04-18T02:09:40.875093",
     "exception": false,
     "start_time": "2021-04-18T02:09:40.824335",
     "status": "completed"
    },
    "tags": []
   },
   "outputs": [],
   "source": [
    "#hide\n",
    "#Koreliacijų koeficientai"
   ]
  },
  {
   "cell_type": "code",
   "execution_count": 10,
   "id": "seeing-celebration",
   "metadata": {
    "execution": {
     "iopub.execute_input": "2021-04-18T02:09:40.918225Z",
     "iopub.status.busy": "2021-04-18T02:09:40.916837Z",
     "iopub.status.idle": "2021-04-18T02:09:40.942965Z",
     "shell.execute_reply": "2021-04-18T02:09:40.943580Z"
    },
    "papermill": {
     "duration": 0.047839,
     "end_time": "2021-04-18T02:09:40.943785",
     "exception": false,
     "start_time": "2021-04-18T02:09:40.895946",
     "status": "completed"
    },
    "tags": []
   },
   "outputs": [],
   "source": [
    "#hide_input\n",
    "#sum_corr = df_all_mrk.corr().sum().sort_values(ascending=True).index.values\n",
    "#df_all_mrk[sum_corr].corr()"
   ]
  },
  {
   "cell_type": "code",
   "execution_count": 11,
   "id": "other-painting",
   "metadata": {
    "execution": {
     "iopub.execute_input": "2021-04-18T02:09:40.982892Z",
     "iopub.status.busy": "2021-04-18T02:09:40.982261Z",
     "iopub.status.idle": "2021-04-18T02:09:41.011710Z",
     "shell.execute_reply": "2021-04-18T02:09:41.011128Z"
    },
    "papermill": {
     "duration": 0.050427,
     "end_time": "2021-04-18T02:09:41.011858",
     "exception": false,
     "start_time": "2021-04-18T02:09:40.961431",
     "status": "completed"
    },
    "tags": []
   },
   "outputs": [],
   "source": [
    "#hide\n",
    "#Koreliacijos matrica. "
   ]
  },
  {
   "cell_type": "code",
   "execution_count": 12,
   "id": "modular-magnitude",
   "metadata": {
    "execution": {
     "iopub.execute_input": "2021-04-18T02:09:41.053244Z",
     "iopub.status.busy": "2021-04-18T02:09:41.052603Z",
     "iopub.status.idle": "2021-04-18T02:09:41.077920Z",
     "shell.execute_reply": "2021-04-18T02:09:41.077385Z"
    },
    "papermill": {
     "duration": 0.049282,
     "end_time": "2021-04-18T02:09:41.078059",
     "exception": false,
     "start_time": "2021-04-18T02:09:41.028777",
     "status": "completed"
    },
    "tags": []
   },
   "outputs": [],
   "source": [
    "#hide_input\n",
    "#plt.figure(figsize=(15, 8))\n",
    "#sns.heatmap(df_all_mrk[sum_corr].corr(), annot=True, cmap=\"BrBG\");\n",
    "#plt.savefig('corr_matrix_all.eps', format='eps')"
   ]
  },
  {
   "cell_type": "code",
   "execution_count": null,
   "id": "original-senator",
   "metadata": {
    "papermill": {
     "duration": 0.024782,
     "end_time": "2021-04-18T02:09:41.119275",
     "exception": false,
     "start_time": "2021-04-18T02:09:41.094493",
     "status": "completed"
    },
    "tags": []
   },
   "outputs": [],
   "source": []
  },
  {
   "cell_type": "code",
   "execution_count": null,
   "id": "saving-secretariat",
   "metadata": {
    "papermill": {
     "duration": 0.015985,
     "end_time": "2021-04-18T02:09:41.151319",
     "exception": false,
     "start_time": "2021-04-18T02:09:41.135334",
     "status": "completed"
    },
    "tags": []
   },
   "outputs": [],
   "source": []
  }
 ],
 "metadata": {
  "kernelspec": {
   "display_name": "Python 3",
   "language": "python",
   "name": "python3"
  },
  "language_info": {
   "codemirror_mode": {
    "name": "ipython",
    "version": 3
   },
   "file_extension": ".py",
   "mimetype": "text/x-python",
   "name": "python",
   "nbconvert_exporter": "python",
   "pygments_lexer": "ipython3",
   "version": "3.6.13"
  },
  "papermill": {
   "default_parameters": {},
   "duration": 19.338575,
   "end_time": "2021-04-18T02:09:42.370847",
   "environment_variables": {},
   "exception": null,
   "input_path": "App-Correlation_charts.ipynb",
   "output_path": "App-Correlation_charts.ipynb",
   "parameters": {},
   "start_time": "2021-04-18T02:09:23.032272",
   "version": "2.2.2"
  }
 },
 "nbformat": 4,
 "nbformat_minor": 5
}