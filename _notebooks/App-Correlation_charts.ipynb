{
 "cells": [
  {
   "cell_type": "markdown",
   "id": "touched-facility",
   "metadata": {
    "papermill": {
     "duration": 0.016703,
     "end_time": "2021-07-08T01:59:17.898769",
     "exception": false,
     "start_time": "2021-07-08T01:59:17.882066",
     "status": "completed"
    },
    "tags": []
   },
   "source": [
    "# Koreliacijų matrica\n",
    "> Išplėstinė koreliacijų matrica. \n",
    "\n",
    "- toc: true \n",
    "- badges: true\n",
    "- comments: false\n",
    "- categories: [Dominykas Tautkus]\n",
    "- image: images/matrix.png"
   ]
  },
  {
   "cell_type": "code",
   "execution_count": null,
   "id": "premium-weekend",
   "metadata": {
    "papermill": {
     "duration": 0.012718,
     "end_time": "2021-07-08T01:59:17.926281",
     "exception": false,
     "start_time": "2021-07-08T01:59:17.913563",
     "status": "completed"
    },
    "tags": []
   },
   "outputs": [],
   "source": []
  },
  {
   "cell_type": "code",
   "execution_count": 1,
   "id": "vertical-rebate",
   "metadata": {
    "execution": {
     "iopub.execute_input": "2021-07-08T01:59:17.965431Z",
     "iopub.status.busy": "2021-07-08T01:59:17.964799Z",
     "iopub.status.idle": "2021-07-08T01:59:17.976677Z",
     "shell.execute_reply": "2021-07-08T01:59:17.977175Z"
    },
    "papermill": {
     "duration": 0.03724,
     "end_time": "2021-07-08T01:59:17.977335",
     "exception": false,
     "start_time": "2021-07-08T01:59:17.940095",
     "status": "completed"
    },
    "tags": []
   },
   "outputs": [],
   "source": [
    "#hide\n",
    "%load_ext autoreload\n",
    "%autoreload 2"
   ]
  },
  {
   "cell_type": "code",
   "execution_count": 2,
   "id": "overall-advancement",
   "metadata": {
    "execution": {
     "iopub.execute_input": "2021-07-08T01:59:18.008115Z",
     "iopub.status.busy": "2021-07-08T01:59:18.007506Z",
     "iopub.status.idle": "2021-07-08T01:59:19.315836Z",
     "shell.execute_reply": "2021-07-08T01:59:19.315130Z"
    },
    "papermill": {
     "duration": 1.325529,
     "end_time": "2021-07-08T01:59:19.315970",
     "exception": false,
     "start_time": "2021-07-08T01:59:17.990441",
     "status": "completed"
    },
    "tags": []
   },
   "outputs": [],
   "source": [
    "#hide\n",
    "from scripts.read_data import read_api\n",
    "from IPython.display import HTML\n",
    "import plotly.graph_objects as go\n"
   ]
  },
  {
   "cell_type": "code",
   "execution_count": 3,
   "id": "light-crazy",
   "metadata": {
    "execution": {
     "iopub.execute_input": "2021-07-08T01:59:19.349787Z",
     "iopub.status.busy": "2021-07-08T01:59:19.349007Z",
     "iopub.status.idle": "2021-07-08T01:59:19.372931Z",
     "shell.execute_reply": "2021-07-08T01:59:19.372289Z"
    },
    "papermill": {
     "duration": 0.04214,
     "end_time": "2021-07-08T01:59:19.373064",
     "exception": false,
     "start_time": "2021-07-08T01:59:19.330924",
     "status": "completed"
    },
    "tags": []
   },
   "outputs": [],
   "source": [
    "#hide\n",
    "### ICO koreliacija"
   ]
  },
  {
   "cell_type": "code",
   "execution_count": 4,
   "id": "likely-bahrain",
   "metadata": {
    "execution": {
     "iopub.execute_input": "2021-07-08T01:59:19.405035Z",
     "iopub.status.busy": "2021-07-08T01:59:19.404258Z",
     "iopub.status.idle": "2021-07-08T01:59:20.418709Z",
     "shell.execute_reply": "2021-07-08T01:59:20.418076Z"
    },
    "papermill": {
     "duration": 1.031392,
     "end_time": "2021-07-08T01:59:20.418881",
     "exception": false,
     "start_time": "2021-07-08T01:59:19.387489",
     "status": "completed"
    },
    "tags": []
   },
   "outputs": [],
   "source": [
    "#hide\n",
    "import matplotlib.pyplot as plt\n",
    "import numpy as np\n",
    "import pandas as pd\n",
    "import seaborn as sns\n",
    "import matplotlib.pyplot as plt \n",
    "import matplotlib.dates as mdates\n",
    "import matplotlib.pyplot as plt"
   ]
  },
  {
   "cell_type": "code",
   "execution_count": 5,
   "id": "superior-blanket",
   "metadata": {
    "execution": {
     "iopub.execute_input": "2021-07-08T01:59:20.451017Z",
     "iopub.status.busy": "2021-07-08T01:59:20.450386Z",
     "iopub.status.idle": "2021-07-08T01:59:34.418871Z",
     "shell.execute_reply": "2021-07-08T01:59:34.418271Z"
    },
    "papermill": {
     "duration": 13.985389,
     "end_time": "2021-07-08T01:59:34.419005",
     "exception": false,
     "start_time": "2021-07-08T01:59:20.433616",
     "status": "completed"
    },
    "tags": []
   },
   "outputs": [
    {
     "name": "stderr",
     "output_type": "stream",
     "text": [
      "/home/runner/work/corr-app/corr-app/_notebooks/scripts/read_data.py:187: SettingWithCopyWarning:\n",
      "\n",
      "\n",
      "A value is trying to be set on a copy of a slice from a DataFrame.\n",
      "Try using .loc[row_indexer,col_indexer] = value instead\n",
      "\n",
      "See the caveats in the documentation: https://pandas.pydata.org/pandas-docs/stable/user_guide/indexing.html#returning-a-view-versus-a-copy\n",
      "\n"
     ]
    },
    {
     "name": "stderr",
     "output_type": "stream",
     "text": [
      "/home/runner/work/corr-app/corr-app/_notebooks/scripts/read_data.py:215: SettingWithCopyWarning:\n",
      "\n",
      "\n",
      "A value is trying to be set on a copy of a slice from a DataFrame.\n",
      "Try using .loc[row_indexer,col_indexer] = value instead\n",
      "\n",
      "See the caveats in the documentation: https://pandas.pydata.org/pandas-docs/stable/user_guide/indexing.html#returning-a-view-versus-a-copy\n",
      "\n"
     ]
    }
   ],
   "source": [
    "#hide\n",
    "df_all = read_api()\n",
    "#df_all = df_all.drop(['SP500', 'XAU', 'ETH', 'BTC'], axis=1)\n",
    "\n"
   ]
  },
  {
   "cell_type": "code",
   "execution_count": 6,
   "id": "mature-alert",
   "metadata": {
    "execution": {
     "iopub.execute_input": "2021-07-08T01:59:34.450604Z",
     "iopub.status.busy": "2021-07-08T01:59:34.450024Z",
     "iopub.status.idle": "2021-07-08T01:59:34.484191Z",
     "shell.execute_reply": "2021-07-08T01:59:34.483464Z"
    },
    "papermill": {
     "duration": 0.051395,
     "end_time": "2021-07-08T01:59:34.484367",
     "exception": false,
     "start_time": "2021-07-08T01:59:34.432972",
     "status": "completed"
    },
    "tags": []
   },
   "outputs": [],
   "source": [
    "#hide_input\n",
    "sum_corr = df_all.corr().sum().sort_values(ascending=True).index.values\n",
    "#df_all[sum_corr].corr()"
   ]
  },
  {
   "cell_type": "markdown",
   "id": "complex-syndicate",
   "metadata": {
    "papermill": {
     "duration": 0.013477,
     "end_time": "2021-07-08T01:59:34.512498",
     "exception": false,
     "start_time": "2021-07-08T01:59:34.499021",
     "status": "completed"
    },
    "tags": []
   },
   "source": [
    "## Išplėstinė koreliacijų matrica. "
   ]
  },
  {
   "cell_type": "code",
   "execution_count": 7,
   "id": "atomic-omaha",
   "metadata": {
    "execution": {
     "iopub.execute_input": "2021-07-08T01:59:34.544430Z",
     "iopub.status.busy": "2021-07-08T01:59:34.543721Z",
     "iopub.status.idle": "2021-07-08T01:59:36.128088Z",
     "shell.execute_reply": "2021-07-08T01:59:36.127529Z"
    },
    "papermill": {
     "duration": 1.602262,
     "end_time": "2021-07-08T01:59:36.128210",
     "exception": false,
     "start_time": "2021-07-08T01:59:34.525948",
     "status": "completed"
    },
    "tags": []
   },
   "outputs": [
    {
     "data": {
      "image/png": "[encoded data removed]",
      "text/plain": [
       "<Figure size 1080x792 with 2 Axes>"
      ]
     },
     "metadata": {
      "needs_background": "light"
     },
     "output_type": "display_data"
    }
   ],
   "source": [
    "#hide_input\n",
    "plt.figure(figsize=(15, 11))\n",
    "sns.heatmap(df_all[sum_corr].corr(), annot=True, cmap=\"cubehelix\") \n",
    "sns.set(font_scale=1.25)\n",
    "plt.savefig('corr_matrix.png', format='eps')"
   ]
  },
  {
   "cell_type": "code",
   "execution_count": 8,
   "id": "arbitrary-sullivan",
   "metadata": {
    "execution": {
     "iopub.execute_input": "2021-07-08T01:59:36.166070Z",
     "iopub.status.busy": "2021-07-08T01:59:36.165329Z",
     "iopub.status.idle": "2021-07-08T01:59:36.192672Z",
     "shell.execute_reply": "2021-07-08T01:59:36.191992Z"
    },
    "papermill": {
     "duration": 0.048048,
     "end_time": "2021-07-08T01:59:36.192804",
     "exception": false,
     "start_time": "2021-07-08T01:59:36.144756",
     "status": "completed"
    },
    "tags": []
   },
   "outputs": [],
   "source": [
    "#hide\n",
    "#df_all_mrk = read_api()"
   ]
  },
  {
   "cell_type": "code",
   "execution_count": 9,
   "id": "delayed-adapter",
   "metadata": {
    "execution": {
     "iopub.execute_input": "2021-07-08T01:59:36.229341Z",
     "iopub.status.busy": "2021-07-08T01:59:36.228721Z",
     "iopub.status.idle": "2021-07-08T01:59:36.256878Z",
     "shell.execute_reply": "2021-07-08T01:59:36.256296Z"
    },
    "papermill": {
     "duration": 0.048245,
     "end_time": "2021-07-08T01:59:36.257079",
     "exception": false,
     "start_time": "2021-07-08T01:59:36.208834",
     "status": "completed"
    },
    "tags": []
   },
   "outputs": [],
   "source": [
    "#hide\n",
    "#Koreliacijų koeficientai"
   ]
  },
  {
   "cell_type": "code",
   "execution_count": 10,
   "id": "seeing-celebration",
   "metadata": {
    "execution": {
     "iopub.execute_input": "2021-07-08T01:59:36.290861Z",
     "iopub.status.busy": "2021-07-08T01:59:36.290320Z",
     "iopub.status.idle": "2021-07-08T01:59:36.316948Z",
     "shell.execute_reply": "2021-07-08T01:59:36.317395Z"
    },
    "papermill": {
     "duration": 0.045393,
     "end_time": "2021-07-08T01:59:36.317524",
     "exception": false,
     "start_time": "2021-07-08T01:59:36.272131",
     "status": "completed"
    },
    "tags": []
   },
   "outputs": [],
   "source": [
    "#hide_input\n",
    "#sum_corr = df_all_mrk.corr().sum().sort_values(ascending=True).index.values\n",
    "#df_all_mrk[sum_corr].corr()"
   ]
  },
  {
   "cell_type": "code",
   "execution_count": 11,
   "id": "other-painting",
   "metadata": {
    "execution": {
     "iopub.execute_input": "2021-07-08T01:59:36.352949Z",
     "iopub.status.busy": "2021-07-08T01:59:36.352313Z",
     "iopub.status.idle": "2021-07-08T01:59:36.377844Z",
     "shell.execute_reply": "2021-07-08T01:59:36.377184Z"
    },
    "papermill": {
     "duration": 0.045298,
     "end_time": "2021-07-08T01:59:36.377970",
     "exception": false,
     "start_time": "2021-07-08T01:59:36.332672",
     "status": "completed"
    },
    "tags": []
   },
   "outputs": [],
   "source": [
    "#hide\n",
    "#Koreliacijos matrica. "
   ]
  },
  {
   "cell_type": "code",
   "execution_count": 12,
   "id": "modular-magnitude",
   "metadata": {
    "execution": {
     "iopub.execute_input": "2021-07-08T01:59:36.413775Z",
     "iopub.status.busy": "2021-07-08T01:59:36.413096Z",
     "iopub.status.idle": "2021-07-08T01:59:36.438702Z",
     "shell.execute_reply": "2021-07-08T01:59:36.439131Z"
    },
    "papermill": {
     "duration": 0.044808,
     "end_time": "2021-07-08T01:59:36.439255",
     "exception": false,
     "start_time": "2021-07-08T01:59:36.394447",
     "status": "completed"
    },
    "tags": []
   },
   "outputs": [],
   "source": [
    "#hide_input\n",
    "#plt.figure(figsize=(15, 8))\n",
    "#sns.heatmap(df_all_mrk[sum_corr].corr(), annot=True, cmap=\"BrBG\");\n",
    "#plt.savefig('corr_matrix_all.eps', format='eps')"
   ]
  },
  {
   "cell_type": "code",
   "execution_count": null,
   "id": "original-senator",
   "metadata": {
    "papermill": {
     "duration": 0.015515,
     "end_time": "2021-07-08T01:59:36.470153",
     "exception": false,
     "start_time": "2021-07-08T01:59:36.454638",
     "status": "completed"
    },
    "tags": []
   },
   "outputs": [],
   "source": []
  },
  {
   "cell_type": "code",
   "execution_count": null,
   "id": "saving-secretariat",
   "metadata": {
    "papermill": {
     "duration": 0.016816,
     "end_time": "2021-07-08T01:59:36.503242",
     "exception": false,
     "start_time": "2021-07-08T01:59:36.486426",
     "status": "completed"
    },
    "tags": []
   },
   "outputs": [],
   "source": []
  }
 ],
 "metadata": {
  "kernelspec": {
   "display_name": "Python 3",
   "language": "python",
   "name": "python3"
  },
  "language_info": {
   "codemirror_mode": {
    "name": "ipython",
    "version": 3
   },
   "file_extension": ".py",
   "mimetype": "text/x-python",
   "name": "python",
   "nbconvert_exporter": "python",
   "pygments_lexer": "ipython3",
   "version": "3.6.13"
  },
  "papermill": {
   "default_parameters": {},
   "duration": 20.246312,
   "end_time": "2021-07-08T01:59:37.027757",
   "environment_variables": {},
   "exception": null,
   "input_path": "App-Correlation_charts.ipynb",
   "output_path": "App-Correlation_charts.ipynb",
   "parameters": {},
   "start_time": "2021-07-08T01:59:16.781445",
   "version": "2.2.2"
  }
 },
 "nbformat": 4,
 "nbformat_minor": 5
}