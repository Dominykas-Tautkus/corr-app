{
 "cells": [
  {
   "cell_type": "markdown",
   "id": "touched-facility",
   "metadata": {
    "papermill": {
     "duration": 0.014584,
     "end_time": "2021-07-11T02:00:20.802700",
     "exception": false,
     "start_time": "2021-07-11T02:00:20.788116",
     "status": "completed"
    },
    "tags": []
   },
   "source": [
    "# Koreliacijų matrica\n",
    "> Išplėstinė koreliacijų matrica. \n",
    "\n",
    "- toc: true \n",
    "- badges: true\n",
    "- comments: false\n",
    "- categories: [Dominykas Tautkus]\n",
    "- image: images/matrix.png"
   ]
  },
  {
   "cell_type": "code",
   "execution_count": null,
   "id": "premium-weekend",
   "metadata": {
    "papermill": {
     "duration": 0.010576,
     "end_time": "2021-07-11T02:00:20.824748",
     "exception": false,
     "start_time": "2021-07-11T02:00:20.814172",
     "status": "completed"
    },
    "tags": []
   },
   "outputs": [],
   "source": []
  },
  {
   "cell_type": "code",
   "execution_count": 1,
   "id": "vertical-rebate",
   "metadata": {
    "execution": {
     "iopub.execute_input": "2021-07-11T02:00:20.856807Z",
     "iopub.status.busy": "2021-07-11T02:00:20.856284Z",
     "iopub.status.idle": "2021-07-11T02:00:20.866307Z",
     "shell.execute_reply": "2021-07-11T02:00:20.865892Z"
    },
    "papermill": {
     "duration": 0.03101,
     "end_time": "2021-07-11T02:00:20.866419",
     "exception": false,
     "start_time": "2021-07-11T02:00:20.835409",
     "status": "completed"
    },
    "tags": []
   },
   "outputs": [],
   "source": [
    "#hide\n",
    "%load_ext autoreload\n",
    "%autoreload 2"
   ]
  },
  {
   "cell_type": "code",
   "execution_count": 2,
   "id": "overall-advancement",
   "metadata": {
    "execution": {
     "iopub.execute_input": "2021-07-11T02:00:20.892807Z",
     "iopub.status.busy": "2021-07-11T02:00:20.892306Z",
     "iopub.status.idle": "2021-07-11T02:00:22.031565Z",
     "shell.execute_reply": "2021-07-11T02:00:22.031109Z"
    },
    "papermill": {
     "duration": 1.15464,
     "end_time": "2021-07-11T02:00:22.031692",
     "exception": false,
     "start_time": "2021-07-11T02:00:20.877052",
     "status": "completed"
    },
    "tags": []
   },
   "outputs": [],
   "source": [
    "#hide\n",
    "from scripts.read_data import read_api\n",
    "from IPython.display import HTML\n",
    "import plotly.graph_objects as go\n"
   ]
  },
  {
   "cell_type": "code",
   "execution_count": 3,
   "id": "light-crazy",
   "metadata": {
    "execution": {
     "iopub.execute_input": "2021-07-11T02:00:22.057031Z",
     "iopub.status.busy": "2021-07-11T02:00:22.056525Z",
     "iopub.status.idle": "2021-07-11T02:00:22.078158Z",
     "shell.execute_reply": "2021-07-11T02:00:22.077728Z"
    },
    "papermill": {
     "duration": 0.035466,
     "end_time": "2021-07-11T02:00:22.078272",
     "exception": false,
     "start_time": "2021-07-11T02:00:22.042806",
     "status": "completed"
    },
    "tags": []
   },
   "outputs": [],
   "source": [
    "#hide\n",
    "### ICO koreliacija"
   ]
  },
  {
   "cell_type": "code",
   "execution_count": 4,
   "id": "likely-bahrain",
   "metadata": {
    "execution": {
     "iopub.execute_input": "2021-07-11T02:00:22.103869Z",
     "iopub.status.busy": "2021-07-11T02:00:22.103333Z",
     "iopub.status.idle": "2021-07-11T02:00:22.963656Z",
     "shell.execute_reply": "2021-07-11T02:00:22.962733Z"
    },
    "papermill": {
     "duration": 0.874655,
     "end_time": "2021-07-11T02:00:22.963821",
     "exception": false,
     "start_time": "2021-07-11T02:00:22.089166",
     "status": "completed"
    },
    "tags": []
   },
   "outputs": [],
   "source": [
    "#hide\n",
    "import matplotlib.pyplot as plt\n",
    "import numpy as np\n",
    "import pandas as pd\n",
    "import seaborn as sns\n",
    "import matplotlib.pyplot as plt \n",
    "import matplotlib.dates as mdates\n",
    "import matplotlib.pyplot as plt"
   ]
  },
  {
   "cell_type": "code",
   "execution_count": 5,
   "id": "superior-blanket",
   "metadata": {
    "execution": {
     "iopub.execute_input": "2021-07-11T02:00:22.991059Z",
     "iopub.status.busy": "2021-07-11T02:00:22.990522Z",
     "iopub.status.idle": "2021-07-11T02:00:35.173317Z",
     "shell.execute_reply": "2021-07-11T02:00:35.172831Z"
    },
    "papermill": {
     "duration": 12.198263,
     "end_time": "2021-07-11T02:00:35.173433",
     "exception": false,
     "start_time": "2021-07-11T02:00:22.975170",
     "status": "completed"
    },
    "tags": []
   },
   "outputs": [
    {
     "name": "stderr",
     "output_type": "stream",
     "text": [
      "/home/runner/work/corr-app/corr-app/_notebooks/scripts/read_data.py:187: SettingWithCopyWarning:\n",
      "\n",
      "\n",
      "A value is trying to be set on a copy of a slice from a DataFrame.\n",
      "Try using .loc[row_indexer,col_indexer] = value instead\n",
      "\n",
      "See the caveats in the documentation: https://pandas.pydata.org/pandas-docs/stable/user_guide/indexing.html#returning-a-view-versus-a-copy\n",
      "\n"
     ]
    },
    {
     "name": "stderr",
     "output_type": "stream",
     "text": [
      "/home/runner/work/corr-app/corr-app/_notebooks/scripts/read_data.py:215: SettingWithCopyWarning:\n",
      "\n",
      "\n",
      "A value is trying to be set on a copy of a slice from a DataFrame.\n",
      "Try using .loc[row_indexer,col_indexer] = value instead\n",
      "\n",
      "See the caveats in the documentation: https://pandas.pydata.org/pandas-docs/stable/user_guide/indexing.html#returning-a-view-versus-a-copy\n",
      "\n"
     ]
    }
   ],
   "source": [
    "#hide\n",
    "df_all = read_api()\n",
    "#df_all = df_all.drop(['SP500', 'XAU', 'ETH', 'BTC'], axis=1)\n",
    "\n"
   ]
  },
  {
   "cell_type": "code",
   "execution_count": 6,
   "id": "mature-alert",
   "metadata": {
    "execution": {
     "iopub.execute_input": "2021-07-11T02:00:35.216494Z",
     "iopub.status.busy": "2021-07-11T02:00:35.204391Z",
     "iopub.status.idle": "2021-07-11T02:00:35.236375Z",
     "shell.execute_reply": "2021-07-11T02:00:35.235663Z"
    },
    "papermill": {
     "duration": 0.051333,
     "end_time": "2021-07-11T02:00:35.236491",
     "exception": false,
     "start_time": "2021-07-11T02:00:35.185158",
     "status": "completed"
    },
    "tags": []
   },
   "outputs": [],
   "source": [
    "#hide_input\n",
    "sum_corr = df_all.corr().sum().sort_values(ascending=True).index.values\n",
    "#df_all[sum_corr].corr()"
   ]
  },
  {
   "cell_type": "markdown",
   "id": "complex-syndicate",
   "metadata": {
    "papermill": {
     "duration": 0.011247,
     "end_time": "2021-07-11T02:00:35.260148",
     "exception": false,
     "start_time": "2021-07-11T02:00:35.248901",
     "status": "completed"
    },
    "tags": []
   },
   "source": [
    "## Išplėstinė koreliacijų matrica. "
   ]
  },
  {
   "cell_type": "code",
   "execution_count": 7,
   "id": "atomic-omaha",
   "metadata": {
    "execution": {
     "iopub.execute_input": "2021-07-11T02:00:35.300496Z",
     "iopub.status.busy": "2021-07-11T02:00:35.285821Z",
     "iopub.status.idle": "2021-07-11T02:00:36.565369Z",
     "shell.execute_reply": "2021-07-11T02:00:36.565758Z"
    },
    "papermill": {
     "duration": 1.294515,
     "end_time": "2021-07-11T02:00:36.565902",
     "exception": false,
     "start_time": "2021-07-11T02:00:35.271387",
     "status": "completed"
    },
    "tags": []
   },
   "outputs": [
    {
     "data": {
      "image/png": "[encoded data removed]",
      "text/plain": [
       "<Figure size 1080x792 with 2 Axes>"
      ]
     },
     "metadata": {
      "needs_background": "light"
     },
     "output_type": "display_data"
    }
   ],
   "source": [
    "#hide_input\n",
    "plt.figure(figsize=(15, 11))\n",
    "sns.heatmap(df_all[sum_corr].corr(), annot=True, cmap=\"cubehelix\") \n",
    "sns.set(font_scale=1.25)\n",
    "plt.savefig('corr_matrix.png', format='eps')"
   ]
  },
  {
   "cell_type": "code",
   "execution_count": 8,
   "id": "arbitrary-sullivan",
   "metadata": {
    "execution": {
     "iopub.execute_input": "2021-07-11T02:00:36.642991Z",
     "iopub.status.busy": "2021-07-11T02:00:36.641442Z",
     "iopub.status.idle": "2021-07-11T02:00:36.666951Z",
     "shell.execute_reply": "2021-07-11T02:00:36.667383Z"
    },
    "papermill": {
     "duration": 0.079422,
     "end_time": "2021-07-11T02:00:36.667519",
     "exception": false,
     "start_time": "2021-07-11T02:00:36.588097",
     "status": "completed"
    },
    "tags": []
   },
   "outputs": [],
   "source": [
    "#hide\n",
    "#df_all_mrk = read_api()"
   ]
  },
  {
   "cell_type": "code",
   "execution_count": 9,
   "id": "delayed-adapter",
   "metadata": {
    "execution": {
     "iopub.execute_input": "2021-07-11T02:00:36.701441Z",
     "iopub.status.busy": "2021-07-11T02:00:36.700924Z",
     "iopub.status.idle": "2021-07-11T02:00:36.725709Z",
     "shell.execute_reply": "2021-07-11T02:00:36.725259Z"
    },
    "papermill": {
     "duration": 0.043381,
     "end_time": "2021-07-11T02:00:36.725813",
     "exception": false,
     "start_time": "2021-07-11T02:00:36.682432",
     "status": "completed"
    },
    "tags": []
   },
   "outputs": [],
   "source": [
    "#hide\n",
    "#Koreliacijų koeficientai"
   ]
  },
  {
   "cell_type": "code",
   "execution_count": 10,
   "id": "seeing-celebration",
   "metadata": {
    "execution": {
     "iopub.execute_input": "2021-07-11T02:00:36.756050Z",
     "iopub.status.busy": "2021-07-11T02:00:36.755517Z",
     "iopub.status.idle": "2021-07-11T02:00:36.779644Z",
     "shell.execute_reply": "2021-07-11T02:00:36.779161Z"
    },
    "papermill": {
     "duration": 0.04061,
     "end_time": "2021-07-11T02:00:36.779795",
     "exception": false,
     "start_time": "2021-07-11T02:00:36.739185",
     "status": "completed"
    },
    "tags": []
   },
   "outputs": [],
   "source": [
    "#hide_input\n",
    "#sum_corr = df_all_mrk.corr().sum().sort_values(ascending=True).index.values\n",
    "#df_all_mrk[sum_corr].corr()"
   ]
  },
  {
   "cell_type": "code",
   "execution_count": 11,
   "id": "other-painting",
   "metadata": {
    "execution": {
     "iopub.execute_input": "2021-07-11T02:00:36.816757Z",
     "iopub.status.busy": "2021-07-11T02:00:36.814392Z",
     "iopub.status.idle": "2021-07-11T02:00:36.836704Z",
     "shell.execute_reply": "2021-07-11T02:00:36.836314Z"
    },
    "papermill": {
     "duration": 0.043003,
     "end_time": "2021-07-11T02:00:36.836803",
     "exception": false,
     "start_time": "2021-07-11T02:00:36.793800",
     "status": "completed"
    },
    "tags": []
   },
   "outputs": [],
   "source": [
    "#hide\n",
    "#Koreliacijos matrica. "
   ]
  },
  {
   "cell_type": "code",
   "execution_count": 12,
   "id": "modular-magnitude",
   "metadata": {
    "execution": {
     "iopub.execute_input": "2021-07-11T02:00:36.868605Z",
     "iopub.status.busy": "2021-07-11T02:00:36.868099Z",
     "iopub.status.idle": "2021-07-11T02:00:36.890501Z",
     "shell.execute_reply": "2021-07-11T02:00:36.890045Z"
    },
    "papermill": {
     "duration": 0.040513,
     "end_time": "2021-07-11T02:00:36.890615",
     "exception": false,
     "start_time": "2021-07-11T02:00:36.850102",
     "status": "completed"
    },
    "tags": []
   },
   "outputs": [],
   "source": [
    "#hide_input\n",
    "#plt.figure(figsize=(15, 8))\n",
    "#sns.heatmap(df_all_mrk[sum_corr].corr(), annot=True, cmap=\"BrBG\");\n",
    "#plt.savefig('corr_matrix_all.eps', format='eps')"
   ]
  },
  {
   "cell_type": "code",
   "execution_count": null,
   "id": "original-senator",
   "metadata": {
    "papermill": {
     "duration": 0.013044,
     "end_time": "2021-07-11T02:00:36.917657",
     "exception": false,
     "start_time": "2021-07-11T02:00:36.904613",
     "status": "completed"
    },
    "tags": []
   },
   "outputs": [],
   "source": []
  },
  {
   "cell_type": "code",
   "execution_count": null,
   "id": "saving-secretariat",
   "metadata": {
    "papermill": {
     "duration": 0.013115,
     "end_time": "2021-07-11T02:00:36.943845",
     "exception": false,
     "start_time": "2021-07-11T02:00:36.930730",
     "status": "completed"
    },
    "tags": []
   },
   "outputs": [],
   "source": []
  }
 ],
 "metadata": {
  "kernelspec": {
   "display_name": "Python 3",
   "language": "python",
   "name": "python3"
  },
  "language_info": {
   "codemirror_mode": {
    "name": "ipython",
    "version": 3
   },
   "file_extension": ".py",
   "mimetype": "text/x-python",
   "name": "python",
   "nbconvert_exporter": "python",
   "pygments_lexer": "ipython3",
   "version": "3.6.13"
  },
  "papermill": {
   "default_parameters": {},
   "duration": 17.706167,
   "end_time": "2021-07-11T02:00:37.465017",
   "environment_variables": {},
   "exception": null,
   "input_path": "App-Correlation_charts.ipynb",
   "output_path": "App-Correlation_charts.ipynb",
   "parameters": {},
   "start_time": "2021-07-11T02:00:19.758850",
   "version": "2.2.2"
  }
 },
 "nbformat": 4,
 "nbformat_minor": 5
}