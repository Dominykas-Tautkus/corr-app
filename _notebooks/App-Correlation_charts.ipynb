{
 "cells": [
  {
   "cell_type": "markdown",
   "id": "touched-facility",
   "metadata": {
    "papermill": {
     "duration": 0.014381,
     "end_time": "2021-07-13T01:59:02.410688",
     "exception": false,
     "start_time": "2021-07-13T01:59:02.396307",
     "status": "completed"
    },
    "tags": []
   },
   "source": [
    "# Koreliacijų matrica\n",
    "> Išplėstinė koreliacijų matrica. \n",
    "\n",
    "- toc: true \n",
    "- badges: true\n",
    "- comments: false\n",
    "- categories: [Dominykas Tautkus]\n",
    "- image: images/matrix.png"
   ]
  },
  {
   "cell_type": "code",
   "execution_count": null,
   "id": "premium-weekend",
   "metadata": {
    "papermill": {
     "duration": 0.010607,
     "end_time": "2021-07-13T01:59:02.432632",
     "exception": false,
     "start_time": "2021-07-13T01:59:02.422025",
     "status": "completed"
    },
    "tags": []
   },
   "outputs": [],
   "source": []
  },
  {
   "cell_type": "code",
   "execution_count": 1,
   "id": "vertical-rebate",
   "metadata": {
    "execution": {
     "iopub.execute_input": "2021-07-13T01:59:02.463950Z",
     "iopub.status.busy": "2021-07-13T01:59:02.463431Z",
     "iopub.status.idle": "2021-07-13T01:59:02.473950Z",
     "shell.execute_reply": "2021-07-13T01:59:02.473540Z"
    },
    "papermill": {
     "duration": 0.030783,
     "end_time": "2021-07-13T01:59:02.474064",
     "exception": false,
     "start_time": "2021-07-13T01:59:02.443281",
     "status": "completed"
    },
    "tags": []
   },
   "outputs": [],
   "source": [
    "#hide\n",
    "%load_ext autoreload\n",
    "%autoreload 2"
   ]
  },
  {
   "cell_type": "code",
   "execution_count": 2,
   "id": "overall-advancement",
   "metadata": {
    "execution": {
     "iopub.execute_input": "2021-07-13T01:59:02.498231Z",
     "iopub.status.busy": "2021-07-13T01:59:02.497732Z",
     "iopub.status.idle": "2021-07-13T01:59:03.578216Z",
     "shell.execute_reply": "2021-07-13T01:59:03.577706Z"
    },
    "papermill": {
     "duration": 1.093655,
     "end_time": "2021-07-13T01:59:03.578350",
     "exception": false,
     "start_time": "2021-07-13T01:59:02.484695",
     "status": "completed"
    },
    "tags": []
   },
   "outputs": [],
   "source": [
    "#hide\n",
    "from scripts.read_data import read_api\n",
    "from IPython.display import HTML\n",
    "import plotly.graph_objects as go\n"
   ]
  },
  {
   "cell_type": "code",
   "execution_count": 3,
   "id": "light-crazy",
   "metadata": {
    "execution": {
     "iopub.execute_input": "2021-07-13T01:59:03.604755Z",
     "iopub.status.busy": "2021-07-13T01:59:03.604233Z",
     "iopub.status.idle": "2021-07-13T01:59:03.624279Z",
     "shell.execute_reply": "2021-07-13T01:59:03.623881Z"
    },
    "papermill": {
     "duration": 0.034522,
     "end_time": "2021-07-13T01:59:03.624386",
     "exception": false,
     "start_time": "2021-07-13T01:59:03.589864",
     "status": "completed"
    },
    "tags": []
   },
   "outputs": [],
   "source": [
    "#hide\n",
    "### ICO koreliacija"
   ]
  },
  {
   "cell_type": "code",
   "execution_count": 4,
   "id": "likely-bahrain",
   "metadata": {
    "execution": {
     "iopub.execute_input": "2021-07-13T01:59:03.654345Z",
     "iopub.status.busy": "2021-07-13T01:59:03.653841Z",
     "iopub.status.idle": "2021-07-13T01:59:04.439608Z",
     "shell.execute_reply": "2021-07-13T01:59:04.439088Z"
    },
    "papermill": {
     "duration": 0.804507,
     "end_time": "2021-07-13T01:59:04.439744",
     "exception": false,
     "start_time": "2021-07-13T01:59:03.635237",
     "status": "completed"
    },
    "tags": []
   },
   "outputs": [],
   "source": [
    "#hide\n",
    "import matplotlib.pyplot as plt\n",
    "import numpy as np\n",
    "import pandas as pd\n",
    "import seaborn as sns\n",
    "import matplotlib.pyplot as plt \n",
    "import matplotlib.dates as mdates\n",
    "import matplotlib.pyplot as plt"
   ]
  },
  {
   "cell_type": "code",
   "execution_count": 5,
   "id": "superior-blanket",
   "metadata": {
    "execution": {
     "iopub.execute_input": "2021-07-13T01:59:04.473893Z",
     "iopub.status.busy": "2021-07-13T01:59:04.473380Z",
     "iopub.status.idle": "2021-07-13T01:59:14.691583Z",
     "shell.execute_reply": "2021-07-13T01:59:14.691103Z"
    },
    "papermill": {
     "duration": 10.240508,
     "end_time": "2021-07-13T01:59:14.691700",
     "exception": false,
     "start_time": "2021-07-13T01:59:04.451192",
     "status": "completed"
    },
    "tags": []
   },
   "outputs": [
    {
     "name": "stderr",
     "output_type": "stream",
     "text": [
      "/home/runner/work/corr-app/corr-app/_notebooks/scripts/read_data.py:187: SettingWithCopyWarning:\n",
      "\n",
      "\n",
      "A value is trying to be set on a copy of a slice from a DataFrame.\n",
      "Try using .loc[row_indexer,col_indexer] = value instead\n",
      "\n",
      "See the caveats in the documentation: https://pandas.pydata.org/pandas-docs/stable/user_guide/indexing.html#returning-a-view-versus-a-copy\n",
      "\n"
     ]
    },
    {
     "name": "stderr",
     "output_type": "stream",
     "text": [
      "/home/runner/work/corr-app/corr-app/_notebooks/scripts/read_data.py:215: SettingWithCopyWarning:\n",
      "\n",
      "\n",
      "A value is trying to be set on a copy of a slice from a DataFrame.\n",
      "Try using .loc[row_indexer,col_indexer] = value instead\n",
      "\n",
      "See the caveats in the documentation: https://pandas.pydata.org/pandas-docs/stable/user_guide/indexing.html#returning-a-view-versus-a-copy\n",
      "\n"
     ]
    }
   ],
   "source": [
    "#hide\n",
    "df_all = read_api()\n",
    "#df_all = df_all.drop(['SP500', 'XAU', 'ETH', 'BTC'], axis=1)\n",
    "\n"
   ]
  },
  {
   "cell_type": "code",
   "execution_count": 6,
   "id": "mature-alert",
   "metadata": {
    "execution": {
     "iopub.execute_input": "2021-07-13T01:59:14.733570Z",
     "iopub.status.busy": "2021-07-13T01:59:14.731173Z",
     "iopub.status.idle": "2021-07-13T01:59:14.753371Z",
     "shell.execute_reply": "2021-07-13T01:59:14.752395Z"
    },
    "papermill": {
     "duration": 0.050017,
     "end_time": "2021-07-13T01:59:14.753476",
     "exception": false,
     "start_time": "2021-07-13T01:59:14.703459",
     "status": "completed"
    },
    "tags": []
   },
   "outputs": [],
   "source": [
    "#hide_input\n",
    "sum_corr = df_all.corr().sum().sort_values(ascending=True).index.values\n",
    "#df_all[sum_corr].corr()"
   ]
  },
  {
   "cell_type": "markdown",
   "id": "complex-syndicate",
   "metadata": {
    "papermill": {
     "duration": 0.011305,
     "end_time": "2021-07-13T01:59:14.776086",
     "exception": false,
     "start_time": "2021-07-13T01:59:14.764781",
     "status": "completed"
    },
    "tags": []
   },
   "source": [
    "## Išplėstinė koreliacijų matrica. "
   ]
  },
  {
   "cell_type": "code",
   "execution_count": 7,
   "id": "atomic-omaha",
   "metadata": {
    "execution": {
     "iopub.execute_input": "2021-07-13T01:59:14.802434Z",
     "iopub.status.busy": "2021-07-13T01:59:14.801542Z",
     "iopub.status.idle": "2021-07-13T01:59:15.937828Z",
     "shell.execute_reply": "2021-07-13T01:59:15.938310Z"
    },
    "papermill": {
     "duration": 1.15104,
     "end_time": "2021-07-13T01:59:15.938441",
     "exception": false,
     "start_time": "2021-07-13T01:59:14.787401",
     "status": "completed"
    },
    "tags": []
   },
   "outputs": [
    {
     "data": {
      "image/png": "[encoded data removed]",
      "text/plain": [
       "<Figure size 1080x792 with 2 Axes>"
      ]
     },
     "metadata": {
      "needs_background": "light"
     },
     "output_type": "display_data"
    }
   ],
   "source": [
    "#hide_input\n",
    "plt.figure(figsize=(15, 11))\n",
    "sns.heatmap(df_all[sum_corr].corr(), annot=True, cmap=\"cubehelix\") \n",
    "sns.set(font_scale=1.25)\n",
    "plt.savefig('corr_matrix.png', format='eps')"
   ]
  },
  {
   "cell_type": "code",
   "execution_count": 8,
   "id": "arbitrary-sullivan",
   "metadata": {
    "execution": {
     "iopub.execute_input": "2021-07-13T01:59:15.973564Z",
     "iopub.status.busy": "2021-07-13T01:59:15.973057Z",
     "iopub.status.idle": "2021-07-13T01:59:15.996541Z",
     "shell.execute_reply": "2021-07-13T01:59:15.996107Z"
    },
    "papermill": {
     "duration": 0.044627,
     "end_time": "2021-07-13T01:59:15.996644",
     "exception": false,
     "start_time": "2021-07-13T01:59:15.952017",
     "status": "completed"
    },
    "tags": []
   },
   "outputs": [],
   "source": [
    "#hide\n",
    "#df_all_mrk = read_api()"
   ]
  },
  {
   "cell_type": "code",
   "execution_count": 9,
   "id": "delayed-adapter",
   "metadata": {
    "execution": {
     "iopub.execute_input": "2021-07-13T01:59:16.031292Z",
     "iopub.status.busy": "2021-07-13T01:59:16.025558Z",
     "iopub.status.idle": "2021-07-13T01:59:16.050215Z",
     "shell.execute_reply": "2021-07-13T01:59:16.049815Z"
    },
    "papermill": {
     "duration": 0.04023,
     "end_time": "2021-07-13T01:59:16.050315",
     "exception": false,
     "start_time": "2021-07-13T01:59:16.010085",
     "status": "completed"
    },
    "tags": []
   },
   "outputs": [],
   "source": [
    "#hide\n",
    "#Koreliacijų koeficientai"
   ]
  },
  {
   "cell_type": "code",
   "execution_count": 10,
   "id": "seeing-celebration",
   "metadata": {
    "execution": {
     "iopub.execute_input": "2021-07-13T01:59:16.082819Z",
     "iopub.status.busy": "2021-07-13T01:59:16.082295Z",
     "iopub.status.idle": "2021-07-13T01:59:16.105188Z",
     "shell.execute_reply": "2021-07-13T01:59:16.104733Z"
    },
    "papermill": {
     "duration": 0.041709,
     "end_time": "2021-07-13T01:59:16.105299",
     "exception": false,
     "start_time": "2021-07-13T01:59:16.063590",
     "status": "completed"
    },
    "tags": []
   },
   "outputs": [],
   "source": [
    "#hide_input\n",
    "#sum_corr = df_all_mrk.corr().sum().sort_values(ascending=True).index.values\n",
    "#df_all_mrk[sum_corr].corr()"
   ]
  },
  {
   "cell_type": "code",
   "execution_count": 11,
   "id": "other-painting",
   "metadata": {
    "execution": {
     "iopub.execute_input": "2021-07-13T01:59:16.136850Z",
     "iopub.status.busy": "2021-07-13T01:59:16.136362Z",
     "iopub.status.idle": "2021-07-13T01:59:16.159388Z",
     "shell.execute_reply": "2021-07-13T01:59:16.158991Z"
    },
    "papermill": {
     "duration": 0.040276,
     "end_time": "2021-07-13T01:59:16.159486",
     "exception": false,
     "start_time": "2021-07-13T01:59:16.119210",
     "status": "completed"
    },
    "tags": []
   },
   "outputs": [],
   "source": [
    "#hide\n",
    "#Koreliacijos matrica. "
   ]
  },
  {
   "cell_type": "code",
   "execution_count": 12,
   "id": "modular-magnitude",
   "metadata": {
    "execution": {
     "iopub.execute_input": "2021-07-13T01:59:16.195191Z",
     "iopub.status.busy": "2021-07-13T01:59:16.193566Z",
     "iopub.status.idle": "2021-07-13T01:59:16.213094Z",
     "shell.execute_reply": "2021-07-13T01:59:16.212699Z"
    },
    "papermill": {
     "duration": 0.040447,
     "end_time": "2021-07-13T01:59:16.213190",
     "exception": false,
     "start_time": "2021-07-13T01:59:16.172743",
     "status": "completed"
    },
    "tags": []
   },
   "outputs": [],
   "source": [
    "#hide_input\n",
    "#plt.figure(figsize=(15, 8))\n",
    "#sns.heatmap(df_all_mrk[sum_corr].corr(), annot=True, cmap=\"BrBG\");\n",
    "#plt.savefig('corr_matrix_all.eps', format='eps')"
   ]
  },
  {
   "cell_type": "code",
   "execution_count": null,
   "id": "original-senator",
   "metadata": {
    "papermill": {
     "duration": 0.013101,
     "end_time": "2021-07-13T01:59:16.239346",
     "exception": false,
     "start_time": "2021-07-13T01:59:16.226245",
     "status": "completed"
    },
    "tags": []
   },
   "outputs": [],
   "source": []
  },
  {
   "cell_type": "code",
   "execution_count": null,
   "id": "saving-secretariat",
   "metadata": {
    "papermill": {
     "duration": 0.013064,
     "end_time": "2021-07-13T01:59:16.265512",
     "exception": false,
     "start_time": "2021-07-13T01:59:16.252448",
     "status": "completed"
    },
    "tags": []
   },
   "outputs": [],
   "source": []
  }
 ],
 "metadata": {
  "kernelspec": {
   "display_name": "Python 3",
   "language": "python",
   "name": "python3"
  },
  "language_info": {
   "codemirror_mode": {
    "name": "ipython",
    "version": 3
   },
   "file_extension": ".py",
   "mimetype": "text/x-python",
   "name": "python",
   "nbconvert_exporter": "python",
   "pygments_lexer": "ipython3",
   "version": "3.6.13"
  },
  "papermill": {
   "default_parameters": {},
   "duration": 16.275657,
   "end_time": "2021-07-13T01:59:17.716249",
   "environment_variables": {},
   "exception": null,
   "input_path": "App-Correlation_charts.ipynb",
   "output_path": "App-Correlation_charts.ipynb",
   "parameters": {},
   "start_time": "2021-07-13T01:59:01.440592",
   "version": "2.2.2"
  }
 },
 "nbformat": 4,
 "nbformat_minor": 5
}