{
 "cells": [
  {
   "cell_type": "markdown",
   "id": "touched-facility",
   "metadata": {
    "papermill": {
     "duration": 0.016198,
     "end_time": "2021-07-02T01:58:53.107475",
     "exception": false,
     "start_time": "2021-07-02T01:58:53.091277",
     "status": "completed"
    },
    "tags": []
   },
   "source": [
    "# Koreliacijų matrica\n",
    "> Išplėstinė koreliacijų matrica. \n",
    "\n",
    "- toc: true \n",
    "- badges: true\n",
    "- comments: false\n",
    "- categories: [Dominykas Tautkus]\n",
    "- image: images/matrix.png"
   ]
  },
  {
   "cell_type": "code",
   "execution_count": null,
   "id": "premium-weekend",
   "metadata": {
    "papermill": {
     "duration": 0.010198,
     "end_time": "2021-07-02T01:58:53.130024",
     "exception": false,
     "start_time": "2021-07-02T01:58:53.119826",
     "status": "completed"
    },
    "tags": []
   },
   "outputs": [],
   "source": []
  },
  {
   "cell_type": "code",
   "execution_count": 1,
   "id": "vertical-rebate",
   "metadata": {
    "execution": {
     "iopub.execute_input": "2021-07-02T01:58:53.170773Z",
     "iopub.status.busy": "2021-07-02T01:58:53.170248Z",
     "iopub.status.idle": "2021-07-02T01:58:53.179501Z",
     "shell.execute_reply": "2021-07-02T01:58:53.179021Z"
    },
    "papermill": {
     "duration": 0.038979,
     "end_time": "2021-07-02T01:58:53.179622",
     "exception": false,
     "start_time": "2021-07-02T01:58:53.140643",
     "status": "completed"
    },
    "tags": []
   },
   "outputs": [],
   "source": [
    "#hide\n",
    "%load_ext autoreload\n",
    "%autoreload 2"
   ]
  },
  {
   "cell_type": "code",
   "execution_count": 2,
   "id": "overall-advancement",
   "metadata": {
    "execution": {
     "iopub.execute_input": "2021-07-02T01:58:53.206531Z",
     "iopub.status.busy": "2021-07-02T01:58:53.205987Z",
     "iopub.status.idle": "2021-07-02T01:58:54.453629Z",
     "shell.execute_reply": "2021-07-02T01:58:54.452681Z"
    },
    "papermill": {
     "duration": 1.26253,
     "end_time": "2021-07-02T01:58:54.453791",
     "exception": false,
     "start_time": "2021-07-02T01:58:53.191261",
     "status": "completed"
    },
    "tags": []
   },
   "outputs": [],
   "source": [
    "#hide\n",
    "from scripts.read_data import read_api\n",
    "from IPython.display import HTML\n",
    "import plotly.graph_objects as go\n"
   ]
  },
  {
   "cell_type": "code",
   "execution_count": 3,
   "id": "light-crazy",
   "metadata": {
    "execution": {
     "iopub.execute_input": "2021-07-02T01:58:54.482647Z",
     "iopub.status.busy": "2021-07-02T01:58:54.482016Z",
     "iopub.status.idle": "2021-07-02T01:58:54.506660Z",
     "shell.execute_reply": "2021-07-02T01:58:54.505931Z"
    },
    "papermill": {
     "duration": 0.040976,
     "end_time": "2021-07-02T01:58:54.506803",
     "exception": false,
     "start_time": "2021-07-02T01:58:54.465827",
     "status": "completed"
    },
    "tags": []
   },
   "outputs": [],
   "source": [
    "#hide\n",
    "### ICO koreliacija"
   ]
  },
  {
   "cell_type": "code",
   "execution_count": 4,
   "id": "likely-bahrain",
   "metadata": {
    "execution": {
     "iopub.execute_input": "2021-07-02T01:58:54.538947Z",
     "iopub.status.busy": "2021-07-02T01:58:54.538371Z",
     "iopub.status.idle": "2021-07-02T01:58:55.497663Z",
     "shell.execute_reply": "2021-07-02T01:58:55.497052Z"
    },
    "papermill": {
     "duration": 0.977103,
     "end_time": "2021-07-02T01:58:55.497843",
     "exception": false,
     "start_time": "2021-07-02T01:58:54.520740",
     "status": "completed"
    },
    "tags": []
   },
   "outputs": [],
   "source": [
    "#hide\n",
    "import matplotlib.pyplot as plt\n",
    "import numpy as np\n",
    "import pandas as pd\n",
    "import seaborn as sns\n",
    "import matplotlib.pyplot as plt \n",
    "import matplotlib.dates as mdates\n",
    "import matplotlib.pyplot as plt"
   ]
  },
  {
   "cell_type": "code",
   "execution_count": 5,
   "id": "superior-blanket",
   "metadata": {
    "execution": {
     "iopub.execute_input": "2021-07-02T01:58:55.527375Z",
     "iopub.status.busy": "2021-07-02T01:58:55.526574Z",
     "iopub.status.idle": "2021-07-02T01:59:18.112066Z",
     "shell.execute_reply": "2021-07-02T01:59:18.112956Z"
    },
    "papermill": {
     "duration": 22.60314,
     "end_time": "2021-07-02T01:59:18.113117",
     "exception": false,
     "start_time": "2021-07-02T01:58:55.509977",
     "status": "completed"
    },
    "tags": []
   },
   "outputs": [
    {
     "name": "stderr",
     "output_type": "stream",
     "text": [
      "/home/runner/work/corr-app/corr-app/_notebooks/scripts/read_data.py:187: SettingWithCopyWarning:\n",
      "\n",
      "\n",
      "A value is trying to be set on a copy of a slice from a DataFrame.\n",
      "Try using .loc[row_indexer,col_indexer] = value instead\n",
      "\n",
      "See the caveats in the documentation: https://pandas.pydata.org/pandas-docs/stable/user_guide/indexing.html#returning-a-view-versus-a-copy\n",
      "\n"
     ]
    },
    {
     "name": "stderr",
     "output_type": "stream",
     "text": [
      "/home/runner/work/corr-app/corr-app/_notebooks/scripts/read_data.py:215: SettingWithCopyWarning:\n",
      "\n",
      "\n",
      "A value is trying to be set on a copy of a slice from a DataFrame.\n",
      "Try using .loc[row_indexer,col_indexer] = value instead\n",
      "\n",
      "See the caveats in the documentation: https://pandas.pydata.org/pandas-docs/stable/user_guide/indexing.html#returning-a-view-versus-a-copy\n",
      "\n"
     ]
    }
   ],
   "source": [
    "#hide\n",
    "df_all = read_api()\n",
    "#df_all = df_all.drop(['SP500', 'XAU', 'ETH', 'BTC'], axis=1)\n",
    "\n"
   ]
  },
  {
   "cell_type": "code",
   "execution_count": 6,
   "id": "mature-alert",
   "metadata": {
    "execution": {
     "iopub.execute_input": "2021-07-02T01:59:18.170361Z",
     "iopub.status.busy": "2021-07-02T01:59:18.168297Z",
     "iopub.status.idle": "2021-07-02T01:59:18.202204Z",
     "shell.execute_reply": "2021-07-02T01:59:18.202720Z"
    },
    "papermill": {
     "duration": 0.05917,
     "end_time": "2021-07-02T01:59:18.202884",
     "exception": false,
     "start_time": "2021-07-02T01:59:18.143714",
     "status": "completed"
    },
    "tags": []
   },
   "outputs": [],
   "source": [
    "#hide_input\n",
    "sum_corr = df_all.corr().sum().sort_values(ascending=True).index.values\n",
    "#df_all[sum_corr].corr()"
   ]
  },
  {
   "cell_type": "markdown",
   "id": "complex-syndicate",
   "metadata": {
    "papermill": {
     "duration": 0.024767,
     "end_time": "2021-07-02T01:59:18.244749",
     "exception": false,
     "start_time": "2021-07-02T01:59:18.219982",
     "status": "completed"
    },
    "tags": []
   },
   "source": [
    "## Išplėstinė koreliacijų matrica. "
   ]
  },
  {
   "cell_type": "code",
   "execution_count": 7,
   "id": "atomic-omaha",
   "metadata": {
    "execution": {
     "iopub.execute_input": "2021-07-02T01:59:18.291987Z",
     "iopub.status.busy": "2021-07-02T01:59:18.291373Z",
     "iopub.status.idle": "2021-07-02T01:59:19.623088Z",
     "shell.execute_reply": "2021-07-02T01:59:19.622636Z"
    },
    "papermill": {
     "duration": 1.364995,
     "end_time": "2021-07-02T01:59:19.623197",
     "exception": false,
     "start_time": "2021-07-02T01:59:18.258202",
     "status": "completed"
    },
    "tags": []
   },
   "outputs": [
    {
     "data": {
      "image/png": "[encoded data removed]",
      "text/plain": [
       "<Figure size 1080x792 with 2 Axes>"
      ]
     },
     "metadata": {
      "needs_background": "light"
     },
     "output_type": "display_data"
    }
   ],
   "source": [
    "#hide_input\n",
    "plt.figure(figsize=(15, 11))\n",
    "sns.heatmap(df_all[sum_corr].corr(), annot=True, cmap=\"cubehelix\") \n",
    "sns.set(font_scale=1.25)\n",
    "plt.savefig('corr_matrix.png', format='eps')"
   ]
  },
  {
   "cell_type": "code",
   "execution_count": 8,
   "id": "arbitrary-sullivan",
   "metadata": {
    "execution": {
     "iopub.execute_input": "2021-07-02T01:59:19.659757Z",
     "iopub.status.busy": "2021-07-02T01:59:19.657170Z",
     "iopub.status.idle": "2021-07-02T01:59:19.685955Z",
     "shell.execute_reply": "2021-07-02T01:59:19.685080Z"
    },
    "papermill": {
     "duration": 0.048497,
     "end_time": "2021-07-02T01:59:19.686113",
     "exception": false,
     "start_time": "2021-07-02T01:59:19.637616",
     "status": "completed"
    },
    "tags": []
   },
   "outputs": [],
   "source": [
    "#hide\n",
    "#df_all_mrk = read_api()"
   ]
  },
  {
   "cell_type": "code",
   "execution_count": 9,
   "id": "delayed-adapter",
   "metadata": {
    "execution": {
     "iopub.execute_input": "2021-07-02T01:59:19.724789Z",
     "iopub.status.busy": "2021-07-02T01:59:19.724244Z",
     "iopub.status.idle": "2021-07-02T01:59:19.753366Z",
     "shell.execute_reply": "2021-07-02T01:59:19.752883Z"
    },
    "papermill": {
     "duration": 0.049635,
     "end_time": "2021-07-02T01:59:19.753494",
     "exception": false,
     "start_time": "2021-07-02T01:59:19.703859",
     "status": "completed"
    },
    "tags": []
   },
   "outputs": [],
   "source": [
    "#hide\n",
    "#Koreliacijų koeficientai"
   ]
  },
  {
   "cell_type": "code",
   "execution_count": 10,
   "id": "seeing-celebration",
   "metadata": {
    "execution": {
     "iopub.execute_input": "2021-07-02T01:59:19.789218Z",
     "iopub.status.busy": "2021-07-02T01:59:19.788622Z",
     "iopub.status.idle": "2021-07-02T01:59:19.819955Z",
     "shell.execute_reply": "2021-07-02T01:59:19.819437Z"
    },
    "papermill": {
     "duration": 0.050611,
     "end_time": "2021-07-02T01:59:19.820081",
     "exception": false,
     "start_time": "2021-07-02T01:59:19.769470",
     "status": "completed"
    },
    "tags": []
   },
   "outputs": [],
   "source": [
    "#hide_input\n",
    "#sum_corr = df_all_mrk.corr().sum().sort_values(ascending=True).index.values\n",
    "#df_all_mrk[sum_corr].corr()"
   ]
  },
  {
   "cell_type": "code",
   "execution_count": 11,
   "id": "other-painting",
   "metadata": {
    "execution": {
     "iopub.execute_input": "2021-07-02T01:59:19.855071Z",
     "iopub.status.busy": "2021-07-02T01:59:19.854039Z",
     "iopub.status.idle": "2021-07-02T01:59:19.881690Z",
     "shell.execute_reply": "2021-07-02T01:59:19.881231Z"
    },
    "papermill": {
     "duration": 0.046426,
     "end_time": "2021-07-02T01:59:19.881838",
     "exception": false,
     "start_time": "2021-07-02T01:59:19.835412",
     "status": "completed"
    },
    "tags": []
   },
   "outputs": [],
   "source": [
    "#hide\n",
    "#Koreliacijos matrica. "
   ]
  },
  {
   "cell_type": "code",
   "execution_count": 12,
   "id": "modular-magnitude",
   "metadata": {
    "execution": {
     "iopub.execute_input": "2021-07-02T01:59:19.919833Z",
     "iopub.status.busy": "2021-07-02T01:59:19.918470Z",
     "iopub.status.idle": "2021-07-02T01:59:19.946350Z",
     "shell.execute_reply": "2021-07-02T01:59:19.945655Z"
    },
    "papermill": {
     "duration": 0.048131,
     "end_time": "2021-07-02T01:59:19.946517",
     "exception": false,
     "start_time": "2021-07-02T01:59:19.898386",
     "status": "completed"
    },
    "tags": []
   },
   "outputs": [],
   "source": [
    "#hide_input\n",
    "#plt.figure(figsize=(15, 8))\n",
    "#sns.heatmap(df_all_mrk[sum_corr].corr(), annot=True, cmap=\"BrBG\");\n",
    "#plt.savefig('corr_matrix_all.eps', format='eps')"
   ]
  },
  {
   "cell_type": "code",
   "execution_count": null,
   "id": "original-senator",
   "metadata": {
    "papermill": {
     "duration": 0.015061,
     "end_time": "2021-07-02T01:59:19.978661",
     "exception": false,
     "start_time": "2021-07-02T01:59:19.963600",
     "status": "completed"
    },
    "tags": []
   },
   "outputs": [],
   "source": []
  },
  {
   "cell_type": "code",
   "execution_count": null,
   "id": "saving-secretariat",
   "metadata": {
    "papermill": {
     "duration": 0.015116,
     "end_time": "2021-07-02T01:59:20.008969",
     "exception": false,
     "start_time": "2021-07-02T01:59:19.993853",
     "status": "completed"
    },
    "tags": []
   },
   "outputs": [],
   "source": []
  }
 ],
 "metadata": {
  "kernelspec": {
   "display_name": "Python 3",
   "language": "python",
   "name": "python3"
  },
  "language_info": {
   "codemirror_mode": {
    "name": "ipython",
    "version": 3
   },
   "file_extension": ".py",
   "mimetype": "text/x-python",
   "name": "python",
   "nbconvert_exporter": "python",
   "pygments_lexer": "ipython3",
   "version": "3.6.13"
  },
  "papermill": {
   "default_parameters": {},
   "duration": 29.300339,
   "end_time": "2021-07-02T01:59:21.335111",
   "environment_variables": {},
   "exception": null,
   "input_path": "App-Correlation_charts.ipynb",
   "output_path": "App-Correlation_charts.ipynb",
   "parameters": {},
   "start_time": "2021-07-02T01:58:52.034772",
   "version": "2.2.2"
  }
 },
 "nbformat": 4,
 "nbformat_minor": 5
}