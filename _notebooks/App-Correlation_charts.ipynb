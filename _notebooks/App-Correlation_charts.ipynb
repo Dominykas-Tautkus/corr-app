{
 "cells": [
  {
   "cell_type": "markdown",
   "metadata": {
    "papermill": {
     "duration": 0.013993,
     "end_time": "2020-12-31T13:06:04.157190",
     "exception": false,
     "start_time": "2020-12-31T13:06:04.143197",
     "status": "completed"
    },
    "tags": []
   },
   "source": [
    "# Koreliacijų matrica\n",
    "> Išplėstinė koreliacijų matrica. \n",
    "\n",
    "- toc: true \n",
    "- badges: true\n",
    "- comments: false\n",
    "- categories: [Dominykas Tautkus]\n",
    "- image: images/matrix.png"
   ]
  },
  {
   "cell_type": "code",
   "execution_count": 1,
   "metadata": {
    "execution": {
     "iopub.execute_input": "2020-12-31T13:06:04.181110Z",
     "iopub.status.busy": "2020-12-31T13:06:04.180567Z",
     "iopub.status.idle": "2020-12-31T13:06:04.193309Z",
     "shell.execute_reply": "2020-12-31T13:06:04.192841Z"
    },
    "papermill": {
     "duration": 0.02867,
     "end_time": "2020-12-31T13:06:04.193442",
     "exception": false,
     "start_time": "2020-12-31T13:06:04.164772",
     "status": "completed"
    },
    "tags": []
   },
   "outputs": [],
   "source": [
    "#hide\n",
    "%load_ext autoreload\n",
    "%autoreload 2"
   ]
  },
  {
   "cell_type": "code",
   "execution_count": 2,
   "metadata": {
    "execution": {
     "iopub.execute_input": "2020-12-31T13:06:04.212429Z",
     "iopub.status.busy": "2020-12-31T13:06:04.211882Z",
     "iopub.status.idle": "2020-12-31T13:06:05.281469Z",
     "shell.execute_reply": "2020-12-31T13:06:05.281978Z"
    },
    "papermill": {
     "duration": 1.08115,
     "end_time": "2020-12-31T13:06:05.282152",
     "exception": false,
     "start_time": "2020-12-31T13:06:04.201002",
     "status": "completed"
    },
    "tags": []
   },
   "outputs": [],
   "source": [
    "#hide\n",
    "from scripts.read_data import read_api\n",
    "from IPython.display import HTML\n",
    "import plotly.graph_objects as go\n"
   ]
  },
  {
   "cell_type": "code",
   "execution_count": 3,
   "metadata": {
    "execution": {
     "iopub.execute_input": "2020-12-31T13:06:05.305734Z",
     "iopub.status.busy": "2020-12-31T13:06:05.303950Z",
     "iopub.status.idle": "2020-12-31T13:06:05.324700Z",
     "shell.execute_reply": "2020-12-31T13:06:05.325150Z"
    },
    "papermill": {
     "duration": 0.034656,
     "end_time": "2020-12-31T13:06:05.325306",
     "exception": false,
     "start_time": "2020-12-31T13:06:05.290650",
     "status": "completed"
    },
    "tags": []
   },
   "outputs": [],
   "source": [
    "#hide\n",
    "### ICO koreliacija"
   ]
  },
  {
   "cell_type": "code",
   "execution_count": 4,
   "metadata": {
    "execution": {
     "iopub.execute_input": "2020-12-31T13:06:05.347494Z",
     "iopub.status.busy": "2020-12-31T13:06:05.346940Z",
     "iopub.status.idle": "2020-12-31T13:06:06.565766Z",
     "shell.execute_reply": "2020-12-31T13:06:06.566156Z"
    },
    "papermill": {
     "duration": 1.232103,
     "end_time": "2020-12-31T13:06:06.566291",
     "exception": false,
     "start_time": "2020-12-31T13:06:05.334188",
     "status": "completed"
    },
    "tags": []
   },
   "outputs": [],
   "source": [
    "#hide\n",
    "import matplotlib.pyplot as plt\n",
    "import numpy as np\n",
    "import pandas as pd\n",
    "import seaborn as sns\n",
    "import matplotlib.pyplot as plt \n",
    "import matplotlib.dates as mdates\n",
    "import matplotlib.pyplot as plt"
   ]
  },
  {
   "cell_type": "code",
   "execution_count": 5,
   "metadata": {
    "execution": {
     "iopub.execute_input": "2020-12-31T13:06:06.587163Z",
     "iopub.status.busy": "2020-12-31T13:06:06.585199Z",
     "iopub.status.idle": "2020-12-31T13:06:25.982458Z",
     "shell.execute_reply": "2020-12-31T13:06:25.981955Z"
    },
    "papermill": {
     "duration": 19.409068,
     "end_time": "2020-12-31T13:06:25.982574",
     "exception": false,
     "start_time": "2020-12-31T13:06:06.573506",
     "status": "completed"
    },
    "tags": []
   },
   "outputs": [
    {
     "name": "stderr",
     "output_type": "stream",
     "text": [
      "/home/runner/work/corr-app/corr-app/_notebooks/scripts/read_data.py:187: SettingWithCopyWarning:\n",
      "\n",
      "\n",
      "A value is trying to be set on a copy of a slice from a DataFrame.\n",
      "Try using .loc[row_indexer,col_indexer] = value instead\n",
      "\n",
      "See the caveats in the documentation: https://pandas.pydata.org/pandas-docs/stable/user_guide/indexing.html#returning-a-view-versus-a-copy\n",
      "\n"
     ]
    },
    {
     "name": "stderr",
     "output_type": "stream",
     "text": [
      "/home/runner/work/corr-app/corr-app/_notebooks/scripts/read_data.py:215: SettingWithCopyWarning:\n",
      "\n",
      "\n",
      "A value is trying to be set on a copy of a slice from a DataFrame.\n",
      "Try using .loc[row_indexer,col_indexer] = value instead\n",
      "\n",
      "See the caveats in the documentation: https://pandas.pydata.org/pandas-docs/stable/user_guide/indexing.html#returning-a-view-versus-a-copy\n",
      "\n"
     ]
    }
   ],
   "source": [
    "#hide\n",
    "df_all = read_api()\n",
    "#del df_all['XAU']\n",
    "#del df_all['SP500']\n"
   ]
  },
  {
   "cell_type": "code",
   "execution_count": 6,
   "metadata": {
    "execution": {
     "iopub.execute_input": "2020-12-31T13:06:26.002548Z",
     "iopub.status.busy": "2020-12-31T13:06:26.001995Z",
     "iopub.status.idle": "2020-12-31T13:06:26.032636Z",
     "shell.execute_reply": "2020-12-31T13:06:26.031910Z"
    },
    "papermill": {
     "duration": 0.04243,
     "end_time": "2020-12-31T13:06:26.032787",
     "exception": false,
     "start_time": "2020-12-31T13:06:25.990357",
     "status": "completed"
    },
    "tags": []
   },
   "outputs": [],
   "source": [
    "#hide_input\n",
    "sum_corr = df_all.corr().sum().sort_values(ascending=True).index.values\n",
    "#df_all[sum_corr].corr()"
   ]
  },
  {
   "cell_type": "markdown",
   "metadata": {
    "papermill": {
     "duration": 0.008296,
     "end_time": "2020-12-31T13:06:26.049180",
     "exception": false,
     "start_time": "2020-12-31T13:06:26.040884",
     "status": "completed"
    },
    "tags": []
   },
   "source": [
    "## Išplėstinė koreliacijų matrica. "
   ]
  },
  {
   "cell_type": "code",
   "execution_count": 7,
   "metadata": {
    "execution": {
     "iopub.execute_input": "2020-12-31T13:06:26.070954Z",
     "iopub.status.busy": "2020-12-31T13:06:26.070510Z",
     "iopub.status.idle": "2020-12-31T13:06:27.301410Z",
     "shell.execute_reply": "2020-12-31T13:06:27.301891Z"
    },
    "papermill": {
     "duration": 1.245013,
     "end_time": "2020-12-31T13:06:27.302056",
     "exception": false,
     "start_time": "2020-12-31T13:06:26.057043",
     "status": "completed"
    },
    "tags": []
   },
   "outputs": [
    {
     "data": {
      "image/png": "[encoded data removed]",
      "text/plain": [
       "<Figure size 1080x792 with 2 Axes>"
      ]
     },
     "metadata": {
      "needs_background": "light"
     },
     "output_type": "display_data"
    }
   ],
   "source": [
    "#hide_input\n",
    "plt.figure(figsize=(15, 11))\n",
    "sns.heatmap(df_all[sum_corr].corr(), annot=True, cmap=\"cubehelix\") \n",
    "sns.set(font_scale=1.25)\n",
    "plt.savefig('corr_matrix_all.eps', format='eps')"
   ]
  },
  {
   "cell_type": "code",
   "execution_count": 8,
   "metadata": {
    "execution": {
     "iopub.execute_input": "2020-12-31T13:06:27.629080Z",
     "iopub.status.busy": "2020-12-31T13:06:27.628347Z",
     "iopub.status.idle": "2020-12-31T13:06:27.652516Z",
     "shell.execute_reply": "2020-12-31T13:06:27.652971Z"
    },
    "papermill": {
     "duration": 0.339818,
     "end_time": "2020-12-31T13:06:27.653125",
     "exception": false,
     "start_time": "2020-12-31T13:06:27.313307",
     "status": "completed"
    },
    "tags": []
   },
   "outputs": [],
   "source": [
    "#hide\n",
    "#df_all_mrk = read_api()"
   ]
  },
  {
   "cell_type": "code",
   "execution_count": 9,
   "metadata": {
    "execution": {
     "iopub.execute_input": "2020-12-31T13:06:27.700056Z",
     "iopub.status.busy": "2020-12-31T13:06:27.699538Z",
     "iopub.status.idle": "2020-12-31T13:06:27.726554Z",
     "shell.execute_reply": "2020-12-31T13:06:27.725943Z"
    },
    "papermill": {
     "duration": 0.041943,
     "end_time": "2020-12-31T13:06:27.726702",
     "exception": false,
     "start_time": "2020-12-31T13:06:27.684759",
     "status": "completed"
    },
    "tags": []
   },
   "outputs": [],
   "source": [
    "#hide\n",
    "#Koreliacijų koeficientai"
   ]
  },
  {
   "cell_type": "code",
   "execution_count": 10,
   "metadata": {
    "execution": {
     "iopub.execute_input": "2020-12-31T13:06:27.752207Z",
     "iopub.status.busy": "2020-12-31T13:06:27.751729Z",
     "iopub.status.idle": "2020-12-31T13:06:27.778681Z",
     "shell.execute_reply": "2020-12-31T13:06:27.778185Z"
    },
    "papermill": {
     "duration": 0.04114,
     "end_time": "2020-12-31T13:06:27.778787",
     "exception": false,
     "start_time": "2020-12-31T13:06:27.737647",
     "status": "completed"
    },
    "tags": []
   },
   "outputs": [],
   "source": [
    "#hide_input\n",
    "#sum_corr = df_all_mrk.corr().sum().sort_values(ascending=True).index.values\n",
    "#df_all_mrk[sum_corr].corr()"
   ]
  },
  {
   "cell_type": "code",
   "execution_count": 11,
   "metadata": {
    "execution": {
     "iopub.execute_input": "2020-12-31T13:06:27.801900Z",
     "iopub.status.busy": "2020-12-31T13:06:27.801400Z",
     "iopub.status.idle": "2020-12-31T13:06:27.825725Z",
     "shell.execute_reply": "2020-12-31T13:06:27.826316Z"
    },
    "papermill": {
     "duration": 0.038257,
     "end_time": "2020-12-31T13:06:27.826489",
     "exception": false,
     "start_time": "2020-12-31T13:06:27.788232",
     "status": "completed"
    },
    "tags": []
   },
   "outputs": [],
   "source": [
    "#hide\n",
    "#Koreliacijos matrica. "
   ]
  },
  {
   "cell_type": "code",
   "execution_count": 12,
   "metadata": {
    "execution": {
     "iopub.execute_input": "2020-12-31T13:06:27.850477Z",
     "iopub.status.busy": "2020-12-31T13:06:27.849931Z",
     "iopub.status.idle": "2020-12-31T13:06:27.875249Z",
     "shell.execute_reply": "2020-12-31T13:06:27.874624Z"
    },
    "papermill": {
     "duration": 0.038607,
     "end_time": "2020-12-31T13:06:27.875398",
     "exception": false,
     "start_time": "2020-12-31T13:06:27.836791",
     "status": "completed"
    },
    "tags": []
   },
   "outputs": [],
   "source": [
    "#hide_input\n",
    "#plt.figure(figsize=(15, 8))\n",
    "#sns.heatmap(df_all_mrk[sum_corr].corr(), annot=True, cmap=\"BrBG\");\n",
    "#plt.savefig('corr_matrix_all.eps', format='eps')"
   ]
  }
 ],
 "metadata": {
  "kernelspec": {
   "display_name": "Python 3",
   "language": "python",
   "name": "python3"
  },
  "language_info": {
   "codemirror_mode": {
    "name": "ipython",
    "version": 3
   },
   "file_extension": ".py",
   "mimetype": "text/x-python",
   "name": "python",
   "nbconvert_exporter": "python",
   "pygments_lexer": "ipython3",
   "version": "3.6.12"
  },
  "papermill": {
   "default_parameters": {},
   "duration": 26.287396,
   "end_time": "2020-12-31T13:06:29.386796",
   "environment_variables": {},
   "exception": null,
   "input_path": "App-Correlation_charts.ipynb",
   "output_path": "App-Correlation_charts.ipynb",
   "parameters": {},
   "start_time": "2020-12-31T13:06:03.099400",
   "version": "2.2.2"
  }
 },
 "nbformat": 4,
 "nbformat_minor": 4
}