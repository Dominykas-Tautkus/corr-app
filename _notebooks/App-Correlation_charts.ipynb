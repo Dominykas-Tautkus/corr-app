{
 "cells": [
  {
   "cell_type": "markdown",
   "id": "touched-facility",
   "metadata": {
    "papermill": {
     "duration": 0.026092,
     "end_time": "2021-04-14T02:04:27.093916",
     "exception": false,
     "start_time": "2021-04-14T02:04:27.067824",
     "status": "completed"
    },
    "tags": []
   },
   "source": [
    "# Koreliacijų matrica\n",
    "> Išplėstinė koreliacijų matrica. \n",
    "\n",
    "- toc: true \n",
    "- badges: true\n",
    "- comments: false\n",
    "- categories: [Dominykas Tautkus]\n",
    "- image: images/matrix.png"
   ]
  },
  {
   "cell_type": "code",
   "execution_count": null,
   "id": "premium-weekend",
   "metadata": {
    "papermill": {
     "duration": 0.012798,
     "end_time": "2021-04-14T02:04:27.120266",
     "exception": false,
     "start_time": "2021-04-14T02:04:27.107468",
     "status": "completed"
    },
    "tags": []
   },
   "outputs": [],
   "source": []
  },
  {
   "cell_type": "code",
   "execution_count": 1,
   "id": "vertical-rebate",
   "metadata": {
    "execution": {
     "iopub.execute_input": "2021-04-14T02:04:27.157274Z",
     "iopub.status.busy": "2021-04-14T02:04:27.156571Z",
     "iopub.status.idle": "2021-04-14T02:04:27.166857Z",
     "shell.execute_reply": "2021-04-14T02:04:27.167344Z"
    },
    "papermill": {
     "duration": 0.034275,
     "end_time": "2021-04-14T02:04:27.167504",
     "exception": false,
     "start_time": "2021-04-14T02:04:27.133229",
     "status": "completed"
    },
    "tags": []
   },
   "outputs": [],
   "source": [
    "#hide\n",
    "%load_ext autoreload\n",
    "%autoreload 2"
   ]
  },
  {
   "cell_type": "code",
   "execution_count": 2,
   "id": "overall-advancement",
   "metadata": {
    "execution": {
     "iopub.execute_input": "2021-04-14T02:04:27.197074Z",
     "iopub.status.busy": "2021-04-14T02:04:27.196463Z",
     "iopub.status.idle": "2021-04-14T02:04:28.407885Z",
     "shell.execute_reply": "2021-04-14T02:04:28.407223Z"
    },
    "papermill": {
     "duration": 1.227743,
     "end_time": "2021-04-14T02:04:28.408094",
     "exception": false,
     "start_time": "2021-04-14T02:04:27.180351",
     "status": "completed"
    },
    "tags": []
   },
   "outputs": [],
   "source": [
    "#hide\n",
    "from scripts.read_data import read_api\n",
    "from IPython.display import HTML\n",
    "import plotly.graph_objects as go\n"
   ]
  },
  {
   "cell_type": "code",
   "execution_count": 3,
   "id": "light-crazy",
   "metadata": {
    "execution": {
     "iopub.execute_input": "2021-04-14T02:04:28.438185Z",
     "iopub.status.busy": "2021-04-14T02:04:28.437555Z",
     "iopub.status.idle": "2021-04-14T02:04:28.460020Z",
     "shell.execute_reply": "2021-04-14T02:04:28.459307Z"
    },
    "papermill": {
     "duration": 0.038719,
     "end_time": "2021-04-14T02:04:28.460127",
     "exception": false,
     "start_time": "2021-04-14T02:04:28.421408",
     "status": "completed"
    },
    "tags": []
   },
   "outputs": [],
   "source": [
    "#hide\n",
    "### ICO koreliacija"
   ]
  },
  {
   "cell_type": "code",
   "execution_count": 4,
   "id": "likely-bahrain",
   "metadata": {
    "execution": {
     "iopub.execute_input": "2021-04-14T02:04:28.489994Z",
     "iopub.status.busy": "2021-04-14T02:04:28.489373Z",
     "iopub.status.idle": "2021-04-14T02:04:29.459826Z",
     "shell.execute_reply": "2021-04-14T02:04:29.459244Z"
    },
    "papermill": {
     "duration": 0.986556,
     "end_time": "2021-04-14T02:04:29.459977",
     "exception": false,
     "start_time": "2021-04-14T02:04:28.473421",
     "status": "completed"
    },
    "tags": []
   },
   "outputs": [],
   "source": [
    "#hide\n",
    "import matplotlib.pyplot as plt\n",
    "import numpy as np\n",
    "import pandas as pd\n",
    "import seaborn as sns\n",
    "import matplotlib.pyplot as plt \n",
    "import matplotlib.dates as mdates\n",
    "import matplotlib.pyplot as plt"
   ]
  },
  {
   "cell_type": "code",
   "execution_count": 5,
   "id": "superior-blanket",
   "metadata": {
    "execution": {
     "iopub.execute_input": "2021-04-14T02:04:29.493709Z",
     "iopub.status.busy": "2021-04-14T02:04:29.492532Z",
     "iopub.status.idle": "2021-04-14T02:04:42.268505Z",
     "shell.execute_reply": "2021-04-14T02:04:42.267941Z"
    },
    "papermill": {
     "duration": 12.793873,
     "end_time": "2021-04-14T02:04:42.268629",
     "exception": false,
     "start_time": "2021-04-14T02:04:29.474756",
     "status": "completed"
    },
    "tags": []
   },
   "outputs": [
    {
     "name": "stderr",
     "output_type": "stream",
     "text": [
      "/home/runner/work/corr-app/corr-app/_notebooks/scripts/read_data.py:187: SettingWithCopyWarning:\n",
      "\n",
      "\n",
      "A value is trying to be set on a copy of a slice from a DataFrame.\n",
      "Try using .loc[row_indexer,col_indexer] = value instead\n",
      "\n",
      "See the caveats in the documentation: https://pandas.pydata.org/pandas-docs/stable/user_guide/indexing.html#returning-a-view-versus-a-copy\n",
      "\n"
     ]
    },
    {
     "name": "stderr",
     "output_type": "stream",
     "text": [
      "/home/runner/work/corr-app/corr-app/_notebooks/scripts/read_data.py:215: SettingWithCopyWarning:\n",
      "\n",
      "\n",
      "A value is trying to be set on a copy of a slice from a DataFrame.\n",
      "Try using .loc[row_indexer,col_indexer] = value instead\n",
      "\n",
      "See the caveats in the documentation: https://pandas.pydata.org/pandas-docs/stable/user_guide/indexing.html#returning-a-view-versus-a-copy\n",
      "\n"
     ]
    }
   ],
   "source": [
    "#hide\n",
    "df_all = read_api()\n",
    "#df_all = df_all.drop(['SP500', 'XAU', 'ETH', 'BTC'], axis=1)\n",
    "\n"
   ]
  },
  {
   "cell_type": "code",
   "execution_count": 6,
   "id": "mature-alert",
   "metadata": {
    "execution": {
     "iopub.execute_input": "2021-04-14T02:04:42.301203Z",
     "iopub.status.busy": "2021-04-14T02:04:42.299649Z",
     "iopub.status.idle": "2021-04-14T02:04:42.329648Z",
     "shell.execute_reply": "2021-04-14T02:04:42.329034Z"
    },
    "papermill": {
     "duration": 0.048693,
     "end_time": "2021-04-14T02:04:42.329837",
     "exception": false,
     "start_time": "2021-04-14T02:04:42.281144",
     "status": "completed"
    },
    "tags": []
   },
   "outputs": [],
   "source": [
    "#hide_input\n",
    "sum_corr = df_all.corr().sum().sort_values(ascending=True).index.values\n",
    "#df_all[sum_corr].corr()"
   ]
  },
  {
   "cell_type": "markdown",
   "id": "complex-syndicate",
   "metadata": {
    "papermill": {
     "duration": 0.012615,
     "end_time": "2021-04-14T02:04:42.356946",
     "exception": false,
     "start_time": "2021-04-14T02:04:42.344331",
     "status": "completed"
    },
    "tags": []
   },
   "source": [
    "## Išplėstinė koreliacijų matrica. "
   ]
  },
  {
   "cell_type": "code",
   "execution_count": 7,
   "id": "atomic-omaha",
   "metadata": {
    "execution": {
     "iopub.execute_input": "2021-04-14T02:04:42.386824Z",
     "iopub.status.busy": "2021-04-14T02:04:42.386208Z",
     "iopub.status.idle": "2021-04-14T02:04:43.993388Z",
     "shell.execute_reply": "2021-04-14T02:04:43.992824Z"
    },
    "papermill": {
     "duration": 1.624054,
     "end_time": "2021-04-14T02:04:43.993569",
     "exception": false,
     "start_time": "2021-04-14T02:04:42.369515",
     "status": "completed"
    },
    "tags": []
   },
   "outputs": [
    {
     "data": {
      "image/png": "[encoded data removed]",
      "text/plain": [
       "<Figure size 1080x792 with 2 Axes>"
      ]
     },
     "metadata": {
      "needs_background": "light"
     },
     "output_type": "display_data"
    }
   ],
   "source": [
    "#hide_input\n",
    "plt.figure(figsize=(15, 11))\n",
    "sns.heatmap(df_all[sum_corr].corr(), annot=True, cmap=\"cubehelix\") \n",
    "sns.set(font_scale=1.25)\n",
    "plt.savefig('corr_matrix.png', format='eps')"
   ]
  },
  {
   "cell_type": "code",
   "execution_count": 8,
   "id": "arbitrary-sullivan",
   "metadata": {
    "execution": {
     "iopub.execute_input": "2021-04-14T02:04:44.031268Z",
     "iopub.status.busy": "2021-04-14T02:04:44.029561Z",
     "iopub.status.idle": "2021-04-14T02:04:44.055717Z",
     "shell.execute_reply": "2021-04-14T02:04:44.055124Z"
    },
    "papermill": {
     "duration": 0.045989,
     "end_time": "2021-04-14T02:04:44.055905",
     "exception": false,
     "start_time": "2021-04-14T02:04:44.009916",
     "status": "completed"
    },
    "tags": []
   },
   "outputs": [],
   "source": [
    "#hide\n",
    "#df_all_mrk = read_api()"
   ]
  },
  {
   "cell_type": "code",
   "execution_count": 9,
   "id": "delayed-adapter",
   "metadata": {
    "execution": {
     "iopub.execute_input": "2021-04-14T02:04:44.095634Z",
     "iopub.status.busy": "2021-04-14T02:04:44.094975Z",
     "iopub.status.idle": "2021-04-14T02:04:44.120263Z",
     "shell.execute_reply": "2021-04-14T02:04:44.119707Z"
    },
    "papermill": {
     "duration": 0.045581,
     "end_time": "2021-04-14T02:04:44.120376",
     "exception": false,
     "start_time": "2021-04-14T02:04:44.074795",
     "status": "completed"
    },
    "tags": []
   },
   "outputs": [],
   "source": [
    "#hide\n",
    "#Koreliacijų koeficientai"
   ]
  },
  {
   "cell_type": "code",
   "execution_count": 10,
   "id": "seeing-celebration",
   "metadata": {
    "execution": {
     "iopub.execute_input": "2021-04-14T02:04:44.160826Z",
     "iopub.status.busy": "2021-04-14T02:04:44.160256Z",
     "iopub.status.idle": "2021-04-14T02:04:44.187333Z",
     "shell.execute_reply": "2021-04-14T02:04:44.185935Z"
    },
    "papermill": {
     "duration": 0.048921,
     "end_time": "2021-04-14T02:04:44.187453",
     "exception": false,
     "start_time": "2021-04-14T02:04:44.138532",
     "status": "completed"
    },
    "tags": []
   },
   "outputs": [],
   "source": [
    "#hide_input\n",
    "#sum_corr = df_all_mrk.corr().sum().sort_values(ascending=True).index.values\n",
    "#df_all_mrk[sum_corr].corr()"
   ]
  },
  {
   "cell_type": "code",
   "execution_count": 11,
   "id": "other-painting",
   "metadata": {
    "execution": {
     "iopub.execute_input": "2021-04-14T02:04:44.221535Z",
     "iopub.status.busy": "2021-04-14T02:04:44.220809Z",
     "iopub.status.idle": "2021-04-14T02:04:44.243887Z",
     "shell.execute_reply": "2021-04-14T02:04:44.244414Z"
    },
    "papermill": {
     "duration": 0.042148,
     "end_time": "2021-04-14T02:04:44.244548",
     "exception": false,
     "start_time": "2021-04-14T02:04:44.202400",
     "status": "completed"
    },
    "tags": []
   },
   "outputs": [],
   "source": [
    "#hide\n",
    "#Koreliacijos matrica. "
   ]
  },
  {
   "cell_type": "code",
   "execution_count": 12,
   "id": "modular-magnitude",
   "metadata": {
    "execution": {
     "iopub.execute_input": "2021-04-14T02:04:44.288794Z",
     "iopub.status.busy": "2021-04-14T02:04:44.284223Z",
     "iopub.status.idle": "2021-04-14T02:04:44.307664Z",
     "shell.execute_reply": "2021-04-14T02:04:44.308218Z"
    },
    "papermill": {
     "duration": 0.047719,
     "end_time": "2021-04-14T02:04:44.308460",
     "exception": false,
     "start_time": "2021-04-14T02:04:44.260741",
     "status": "completed"
    },
    "tags": []
   },
   "outputs": [],
   "source": [
    "#hide_input\n",
    "#plt.figure(figsize=(15, 8))\n",
    "#sns.heatmap(df_all_mrk[sum_corr].corr(), annot=True, cmap=\"BrBG\");\n",
    "#plt.savefig('corr_matrix_all.eps', format='eps')"
   ]
  },
  {
   "cell_type": "code",
   "execution_count": null,
   "id": "original-senator",
   "metadata": {
    "papermill": {
     "duration": 0.015271,
     "end_time": "2021-04-14T02:04:44.339373",
     "exception": false,
     "start_time": "2021-04-14T02:04:44.324102",
     "status": "completed"
    },
    "tags": []
   },
   "outputs": [],
   "source": []
  },
  {
   "cell_type": "code",
   "execution_count": null,
   "id": "saving-secretariat",
   "metadata": {
    "papermill": {
     "duration": 0.015643,
     "end_time": "2021-04-14T02:04:44.370797",
     "exception": false,
     "start_time": "2021-04-14T02:04:44.355154",
     "status": "completed"
    },
    "tags": []
   },
   "outputs": [],
   "source": []
  }
 ],
 "metadata": {
  "kernelspec": {
   "display_name": "Python 3",
   "language": "python",
   "name": "python3"
  },
  "language_info": {
   "codemirror_mode": {
    "name": "ipython",
    "version": 3
   },
   "file_extension": ".py",
   "mimetype": "text/x-python",
   "name": "python",
   "nbconvert_exporter": "python",
   "pygments_lexer": "ipython3",
   "version": "3.6.13"
  },
  "papermill": {
   "default_parameters": {},
   "duration": 18.894416,
   "end_time": "2021-04-14T02:04:44.894211",
   "environment_variables": {},
   "exception": null,
   "input_path": "App-Correlation_charts.ipynb",
   "output_path": "App-Correlation_charts.ipynb",
   "parameters": {},
   "start_time": "2021-04-14T02:04:25.999795",
   "version": "2.2.2"
  }
 },
 "nbformat": 4,
 "nbformat_minor": 5
}