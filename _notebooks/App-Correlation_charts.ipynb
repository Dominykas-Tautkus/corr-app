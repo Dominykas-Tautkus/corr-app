{
 "cells": [
  {
   "cell_type": "markdown",
   "id": "touched-facility",
   "metadata": {
    "papermill": {
     "duration": 0.019086,
     "end_time": "2021-03-17T01:46:42.936095",
     "exception": false,
     "start_time": "2021-03-17T01:46:42.917009",
     "status": "completed"
    },
    "tags": []
   },
   "source": [
    "# Koreliacijų matrica\n",
    "> Išplėstinė koreliacijų matrica. \n",
    "\n",
    "- toc: true \n",
    "- badges: true\n",
    "- comments: false\n",
    "- categories: [Dominykas Tautkus]\n",
    "- image: images/matrix.png"
   ]
  },
  {
   "cell_type": "code",
   "execution_count": null,
   "id": "premium-weekend",
   "metadata": {
    "papermill": {
     "duration": 0.045226,
     "end_time": "2021-03-17T01:46:43.067484",
     "exception": false,
     "start_time": "2021-03-17T01:46:43.022258",
     "status": "completed"
    },
    "tags": []
   },
   "outputs": [],
   "source": []
  },
  {
   "cell_type": "code",
   "execution_count": 1,
   "id": "vertical-rebate",
   "metadata": {
    "execution": {
     "iopub.execute_input": "2021-03-17T01:46:43.124241Z",
     "iopub.status.busy": "2021-03-17T01:46:43.123807Z",
     "iopub.status.idle": "2021-03-17T01:46:43.133332Z",
     "shell.execute_reply": "2021-03-17T01:46:43.132888Z"
    },
    "papermill": {
     "duration": 0.036339,
     "end_time": "2021-03-17T01:46:43.133429",
     "exception": false,
     "start_time": "2021-03-17T01:46:43.097090",
     "status": "completed"
    },
    "tags": []
   },
   "outputs": [],
   "source": [
    "#hide\n",
    "%load_ext autoreload\n",
    "%autoreload 2"
   ]
  },
  {
   "cell_type": "code",
   "execution_count": 2,
   "id": "overall-advancement",
   "metadata": {
    "execution": {
     "iopub.execute_input": "2021-03-17T01:46:43.205879Z",
     "iopub.status.busy": "2021-03-17T01:46:43.204827Z",
     "iopub.status.idle": "2021-03-17T01:46:46.634345Z",
     "shell.execute_reply": "2021-03-17T01:46:46.633616Z"
    },
    "papermill": {
     "duration": 3.458111,
     "end_time": "2021-03-17T01:46:46.634461",
     "exception": false,
     "start_time": "2021-03-17T01:46:43.176350",
     "status": "completed"
    },
    "tags": []
   },
   "outputs": [],
   "source": [
    "#hide\n",
    "from scripts.read_data import read_api\n",
    "from IPython.display import HTML\n",
    "import plotly.graph_objects as go\n"
   ]
  },
  {
   "cell_type": "code",
   "execution_count": 3,
   "id": "light-crazy",
   "metadata": {
    "execution": {
     "iopub.execute_input": "2021-03-17T01:46:46.725655Z",
     "iopub.status.busy": "2021-03-17T01:46:46.724400Z",
     "iopub.status.idle": "2021-03-17T01:46:46.746216Z",
     "shell.execute_reply": "2021-03-17T01:46:46.745592Z"
    },
    "papermill": {
     "duration": 0.069609,
     "end_time": "2021-03-17T01:46:46.746343",
     "exception": false,
     "start_time": "2021-03-17T01:46:46.676734",
     "status": "completed"
    },
    "tags": []
   },
   "outputs": [],
   "source": [
    "#hide\n",
    "### ICO koreliacija"
   ]
  },
  {
   "cell_type": "code",
   "execution_count": 4,
   "id": "likely-bahrain",
   "metadata": {
    "execution": {
     "iopub.execute_input": "2021-03-17T01:46:46.871584Z",
     "iopub.status.busy": "2021-03-17T01:46:46.870848Z",
     "iopub.status.idle": "2021-03-17T01:46:48.088753Z",
     "shell.execute_reply": "2021-03-17T01:46:48.088249Z"
    },
    "papermill": {
     "duration": 1.269923,
     "end_time": "2021-03-17T01:46:48.088863",
     "exception": false,
     "start_time": "2021-03-17T01:46:46.818940",
     "status": "completed"
    },
    "tags": []
   },
   "outputs": [],
   "source": [
    "#hide\n",
    "import matplotlib.pyplot as plt\n",
    "import numpy as np\n",
    "import pandas as pd\n",
    "import seaborn as sns\n",
    "import matplotlib.pyplot as plt \n",
    "import matplotlib.dates as mdates\n",
    "import matplotlib.pyplot as plt"
   ]
  },
  {
   "cell_type": "code",
   "execution_count": 5,
   "id": "superior-blanket",
   "metadata": {
    "execution": {
     "iopub.execute_input": "2021-03-17T01:46:48.200412Z",
     "iopub.status.busy": "2021-03-17T01:46:48.198687Z",
     "iopub.status.idle": "2021-03-17T01:47:02.077856Z",
     "shell.execute_reply": "2021-03-17T01:47:02.077330Z"
    },
    "papermill": {
     "duration": 13.947136,
     "end_time": "2021-03-17T01:47:02.078003",
     "exception": false,
     "start_time": "2021-03-17T01:46:48.130867",
     "status": "completed"
    },
    "tags": []
   },
   "outputs": [
    {
     "name": "stderr",
     "output_type": "stream",
     "text": [
      "/home/runner/work/corr-app/corr-app/_notebooks/scripts/read_data.py:187: SettingWithCopyWarning:\n",
      "\n",
      "\n",
      "A value is trying to be set on a copy of a slice from a DataFrame.\n",
      "Try using .loc[row_indexer,col_indexer] = value instead\n",
      "\n",
      "See the caveats in the documentation: https://pandas.pydata.org/pandas-docs/stable/user_guide/indexing.html#returning-a-view-versus-a-copy\n",
      "\n"
     ]
    },
    {
     "name": "stderr",
     "output_type": "stream",
     "text": [
      "/home/runner/work/corr-app/corr-app/_notebooks/scripts/read_data.py:215: SettingWithCopyWarning:\n",
      "\n",
      "\n",
      "A value is trying to be set on a copy of a slice from a DataFrame.\n",
      "Try using .loc[row_indexer,col_indexer] = value instead\n",
      "\n",
      "See the caveats in the documentation: https://pandas.pydata.org/pandas-docs/stable/user_guide/indexing.html#returning-a-view-versus-a-copy\n",
      "\n"
     ]
    }
   ],
   "source": [
    "#hide\n",
    "df_all = read_api()\n",
    "#df_all = df_all.drop(['SP500', 'XAU', 'ETH', 'BTC'], axis=1)\n",
    "\n"
   ]
  },
  {
   "cell_type": "code",
   "execution_count": 6,
   "id": "mature-alert",
   "metadata": {
    "execution": {
     "iopub.execute_input": "2021-03-17T01:47:02.107178Z",
     "iopub.status.busy": "2021-03-17T01:47:02.106604Z",
     "iopub.status.idle": "2021-03-17T01:47:02.135508Z",
     "shell.execute_reply": "2021-03-17T01:47:02.134944Z"
    },
    "papermill": {
     "duration": 0.04498,
     "end_time": "2021-03-17T01:47:02.135641",
     "exception": false,
     "start_time": "2021-03-17T01:47:02.090661",
     "status": "completed"
    },
    "tags": []
   },
   "outputs": [],
   "source": [
    "#hide_input\n",
    "sum_corr = df_all.corr().sum().sort_values(ascending=True).index.values\n",
    "#df_all[sum_corr].corr()"
   ]
  },
  {
   "cell_type": "markdown",
   "id": "complex-syndicate",
   "metadata": {
    "papermill": {
     "duration": 0.012199,
     "end_time": "2021-03-17T01:47:02.160054",
     "exception": false,
     "start_time": "2021-03-17T01:47:02.147855",
     "status": "completed"
    },
    "tags": []
   },
   "source": [
    "## Išplėstinė koreliacijų matrica. "
   ]
  },
  {
   "cell_type": "code",
   "execution_count": 7,
   "id": "atomic-omaha",
   "metadata": {
    "execution": {
     "iopub.execute_input": "2021-03-17T01:47:02.190716Z",
     "iopub.status.busy": "2021-03-17T01:47:02.190140Z",
     "iopub.status.idle": "2021-03-17T01:47:03.303659Z",
     "shell.execute_reply": "2021-03-17T01:47:03.303134Z"
    },
    "papermill": {
     "duration": 1.130846,
     "end_time": "2021-03-17T01:47:03.303767",
     "exception": false,
     "start_time": "2021-03-17T01:47:02.172921",
     "status": "completed"
    },
    "tags": []
   },
   "outputs": [
    {
     "data": {
      "image/png": "[encoded data removed]",
      "text/plain": [
       "<Figure size 1080x792 with 2 Axes>"
      ]
     },
     "metadata": {
      "needs_background": "light"
     },
     "output_type": "display_data"
    }
   ],
   "source": [
    "#hide_input\n",
    "plt.figure(figsize=(15, 11))\n",
    "sns.heatmap(df_all[sum_corr].corr(), annot=True, cmap=\"cubehelix\") \n",
    "sns.set(font_scale=1.25)\n",
    "plt.savefig('corr_matrix.png', format='eps')"
   ]
  },
  {
   "cell_type": "code",
   "execution_count": 8,
   "id": "arbitrary-sullivan",
   "metadata": {
    "execution": {
     "iopub.execute_input": "2021-03-17T01:47:03.334163Z",
     "iopub.status.busy": "2021-03-17T01:47:03.333589Z",
     "iopub.status.idle": "2021-03-17T01:47:03.352162Z",
     "shell.execute_reply": "2021-03-17T01:47:03.351759Z"
    },
    "papermill": {
     "duration": 0.037023,
     "end_time": "2021-03-17T01:47:03.352244",
     "exception": false,
     "start_time": "2021-03-17T01:47:03.315221",
     "status": "completed"
    },
    "tags": []
   },
   "outputs": [],
   "source": [
    "#hide\n",
    "#df_all_mrk = read_api()"
   ]
  },
  {
   "cell_type": "code",
   "execution_count": 9,
   "id": "delayed-adapter",
   "metadata": {
    "execution": {
     "iopub.execute_input": "2021-03-17T01:47:03.378642Z",
     "iopub.status.busy": "2021-03-17T01:47:03.378112Z",
     "iopub.status.idle": "2021-03-17T01:47:03.401129Z",
     "shell.execute_reply": "2021-03-17T01:47:03.400760Z"
    },
    "papermill": {
     "duration": 0.03726,
     "end_time": "2021-03-17T01:47:03.401210",
     "exception": false,
     "start_time": "2021-03-17T01:47:03.363950",
     "status": "completed"
    },
    "tags": []
   },
   "outputs": [],
   "source": [
    "#hide\n",
    "#Koreliacijų koeficientai"
   ]
  },
  {
   "cell_type": "code",
   "execution_count": 10,
   "id": "seeing-celebration",
   "metadata": {
    "execution": {
     "iopub.execute_input": "2021-03-17T01:47:03.431671Z",
     "iopub.status.busy": "2021-03-17T01:47:03.430670Z",
     "iopub.status.idle": "2021-03-17T01:47:03.455307Z",
     "shell.execute_reply": "2021-03-17T01:47:03.455645Z"
    },
    "papermill": {
     "duration": 0.04287,
     "end_time": "2021-03-17T01:47:03.455735",
     "exception": false,
     "start_time": "2021-03-17T01:47:03.412865",
     "status": "completed"
    },
    "tags": []
   },
   "outputs": [],
   "source": [
    "#hide_input\n",
    "#sum_corr = df_all_mrk.corr().sum().sort_values(ascending=True).index.values\n",
    "#df_all_mrk[sum_corr].corr()"
   ]
  },
  {
   "cell_type": "code",
   "execution_count": 11,
   "id": "other-painting",
   "metadata": {
    "execution": {
     "iopub.execute_input": "2021-03-17T01:47:03.487090Z",
     "iopub.status.busy": "2021-03-17T01:47:03.486629Z",
     "iopub.status.idle": "2021-03-17T01:47:03.505623Z",
     "shell.execute_reply": "2021-03-17T01:47:03.506072Z"
    },
    "papermill": {
     "duration": 0.037687,
     "end_time": "2021-03-17T01:47:03.506176",
     "exception": false,
     "start_time": "2021-03-17T01:47:03.468489",
     "status": "completed"
    },
    "tags": []
   },
   "outputs": [],
   "source": [
    "#hide\n",
    "#Koreliacijos matrica. "
   ]
  },
  {
   "cell_type": "code",
   "execution_count": 12,
   "id": "modular-magnitude",
   "metadata": {
    "execution": {
     "iopub.execute_input": "2021-03-17T01:47:03.537383Z",
     "iopub.status.busy": "2021-03-17T01:47:03.536799Z",
     "iopub.status.idle": "2021-03-17T01:47:03.559191Z",
     "shell.execute_reply": "2021-03-17T01:47:03.558333Z"
    },
    "papermill": {
     "duration": 0.039603,
     "end_time": "2021-03-17T01:47:03.559376",
     "exception": false,
     "start_time": "2021-03-17T01:47:03.519773",
     "status": "completed"
    },
    "tags": []
   },
   "outputs": [],
   "source": [
    "#hide_input\n",
    "#plt.figure(figsize=(15, 8))\n",
    "#sns.heatmap(df_all_mrk[sum_corr].corr(), annot=True, cmap=\"BrBG\");\n",
    "#plt.savefig('corr_matrix_all.eps', format='eps')"
   ]
  },
  {
   "cell_type": "code",
   "execution_count": null,
   "id": "original-senator",
   "metadata": {
    "papermill": {
     "duration": 0.013413,
     "end_time": "2021-03-17T01:47:03.589812",
     "exception": false,
     "start_time": "2021-03-17T01:47:03.576399",
     "status": "completed"
    },
    "tags": []
   },
   "outputs": [],
   "source": []
  },
  {
   "cell_type": "code",
   "execution_count": null,
   "id": "saving-secretariat",
   "metadata": {
    "papermill": {
     "duration": 0.013226,
     "end_time": "2021-03-17T01:47:03.616124",
     "exception": false,
     "start_time": "2021-03-17T01:47:03.602898",
     "status": "completed"
    },
    "tags": []
   },
   "outputs": [],
   "source": []
  }
 ],
 "metadata": {
  "kernelspec": {
   "display_name": "Python 3",
   "language": "python",
   "name": "python3"
  },
  "language_info": {
   "codemirror_mode": {
    "name": "ipython",
    "version": 3
   },
   "file_extension": ".py",
   "mimetype": "text/x-python",
   "name": "python",
   "nbconvert_exporter": "python",
   "pygments_lexer": "ipython3",
   "version": "3.6.13"
  },
  "papermill": {
   "default_parameters": {},
   "duration": 22.154514,
   "end_time": "2021-03-17T01:47:04.037314",
   "environment_variables": {},
   "exception": null,
   "input_path": "App-Correlation_charts.ipynb",
   "output_path": "App-Correlation_charts.ipynb",
   "parameters": {},
   "start_time": "2021-03-17T01:46:41.882800",
   "version": "2.2.2"
  }
 },
 "nbformat": 4,
 "nbformat_minor": 5
}