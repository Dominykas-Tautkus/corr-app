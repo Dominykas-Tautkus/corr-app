{
 "cells": [
  {
   "cell_type": "markdown",
   "id": "touched-facility",
   "metadata": {
    "papermill": {
     "duration": 0.018458,
     "end_time": "2021-06-27T02:03:19.274498",
     "exception": false,
     "start_time": "2021-06-27T02:03:19.256040",
     "status": "completed"
    },
    "tags": []
   },
   "source": [
    "# Koreliacijų matrica\n",
    "> Išplėstinė koreliacijų matrica. \n",
    "\n",
    "- toc: true \n",
    "- badges: true\n",
    "- comments: false\n",
    "- categories: [Dominykas Tautkus]\n",
    "- image: images/matrix.png"
   ]
  },
  {
   "cell_type": "code",
   "execution_count": null,
   "id": "premium-weekend",
   "metadata": {
    "papermill": {
     "duration": 0.013507,
     "end_time": "2021-06-27T02:03:19.302333",
     "exception": false,
     "start_time": "2021-06-27T02:03:19.288826",
     "status": "completed"
    },
    "tags": []
   },
   "outputs": [],
   "source": []
  },
  {
   "cell_type": "code",
   "execution_count": 1,
   "id": "vertical-rebate",
   "metadata": {
    "execution": {
     "iopub.execute_input": "2021-06-27T02:03:19.342720Z",
     "iopub.status.busy": "2021-06-27T02:03:19.342047Z",
     "iopub.status.idle": "2021-06-27T02:03:19.353430Z",
     "shell.execute_reply": "2021-06-27T02:03:19.354066Z"
    },
    "papermill": {
     "duration": 0.038667,
     "end_time": "2021-06-27T02:03:19.354227",
     "exception": false,
     "start_time": "2021-06-27T02:03:19.315560",
     "status": "completed"
    },
    "tags": []
   },
   "outputs": [],
   "source": [
    "#hide\n",
    "%load_ext autoreload\n",
    "%autoreload 2"
   ]
  },
  {
   "cell_type": "code",
   "execution_count": 2,
   "id": "overall-advancement",
   "metadata": {
    "execution": {
     "iopub.execute_input": "2021-06-27T02:03:19.384624Z",
     "iopub.status.busy": "2021-06-27T02:03:19.384011Z",
     "iopub.status.idle": "2021-06-27T02:03:20.780042Z",
     "shell.execute_reply": "2021-06-27T02:03:20.779475Z"
    },
    "papermill": {
     "duration": 1.412765,
     "end_time": "2021-06-27T02:03:20.780189",
     "exception": false,
     "start_time": "2021-06-27T02:03:19.367424",
     "status": "completed"
    },
    "tags": []
   },
   "outputs": [],
   "source": [
    "#hide\n",
    "from scripts.read_data import read_api\n",
    "from IPython.display import HTML\n",
    "import plotly.graph_objects as go\n"
   ]
  },
  {
   "cell_type": "code",
   "execution_count": 3,
   "id": "light-crazy",
   "metadata": {
    "execution": {
     "iopub.execute_input": "2021-06-27T02:03:20.822758Z",
     "iopub.status.busy": "2021-06-27T02:03:20.817727Z",
     "iopub.status.idle": "2021-06-27T02:03:20.841757Z",
     "shell.execute_reply": "2021-06-27T02:03:20.842327Z"
    },
    "papermill": {
     "duration": 0.04824,
     "end_time": "2021-06-27T02:03:20.842504",
     "exception": false,
     "start_time": "2021-06-27T02:03:20.794264",
     "status": "completed"
    },
    "tags": []
   },
   "outputs": [],
   "source": [
    "#hide\n",
    "### ICO koreliacija"
   ]
  },
  {
   "cell_type": "code",
   "execution_count": 4,
   "id": "likely-bahrain",
   "metadata": {
    "execution": {
     "iopub.execute_input": "2021-06-27T02:03:20.887936Z",
     "iopub.status.busy": "2021-06-27T02:03:20.877134Z",
     "iopub.status.idle": "2021-06-27T02:03:21.861248Z",
     "shell.execute_reply": "2021-06-27T02:03:21.861789Z"
    },
    "papermill": {
     "duration": 1.003982,
     "end_time": "2021-06-27T02:03:21.861995",
     "exception": false,
     "start_time": "2021-06-27T02:03:20.858013",
     "status": "completed"
    },
    "tags": []
   },
   "outputs": [],
   "source": [
    "#hide\n",
    "import matplotlib.pyplot as plt\n",
    "import numpy as np\n",
    "import pandas as pd\n",
    "import seaborn as sns\n",
    "import matplotlib.pyplot as plt \n",
    "import matplotlib.dates as mdates\n",
    "import matplotlib.pyplot as plt"
   ]
  },
  {
   "cell_type": "code",
   "execution_count": 5,
   "id": "superior-blanket",
   "metadata": {
    "execution": {
     "iopub.execute_input": "2021-06-27T02:03:21.896305Z",
     "iopub.status.busy": "2021-06-27T02:03:21.895568Z",
     "iopub.status.idle": "2021-06-27T02:03:32.106295Z",
     "shell.execute_reply": "2021-06-27T02:03:32.105077Z"
    },
    "papermill": {
     "duration": 10.229795,
     "end_time": "2021-06-27T02:03:32.106434",
     "exception": false,
     "start_time": "2021-06-27T02:03:21.876639",
     "status": "completed"
    },
    "tags": []
   },
   "outputs": [
    {
     "name": "stderr",
     "output_type": "stream",
     "text": [
      "/home/runner/work/corr-app/corr-app/_notebooks/scripts/read_data.py:187: SettingWithCopyWarning:\n",
      "\n",
      "\n",
      "A value is trying to be set on a copy of a slice from a DataFrame.\n",
      "Try using .loc[row_indexer,col_indexer] = value instead\n",
      "\n",
      "See the caveats in the documentation: https://pandas.pydata.org/pandas-docs/stable/user_guide/indexing.html#returning-a-view-versus-a-copy\n",
      "\n"
     ]
    },
    {
     "name": "stderr",
     "output_type": "stream",
     "text": [
      "/home/runner/work/corr-app/corr-app/_notebooks/scripts/read_data.py:215: SettingWithCopyWarning:\n",
      "\n",
      "\n",
      "A value is trying to be set on a copy of a slice from a DataFrame.\n",
      "Try using .loc[row_indexer,col_indexer] = value instead\n",
      "\n",
      "See the caveats in the documentation: https://pandas.pydata.org/pandas-docs/stable/user_guide/indexing.html#returning-a-view-versus-a-copy\n",
      "\n"
     ]
    }
   ],
   "source": [
    "#hide\n",
    "df_all = read_api()\n",
    "#df_all = df_all.drop(['SP500', 'XAU', 'ETH', 'BTC'], axis=1)\n",
    "\n"
   ]
  },
  {
   "cell_type": "code",
   "execution_count": 6,
   "id": "mature-alert",
   "metadata": {
    "execution": {
     "iopub.execute_input": "2021-06-27T02:03:32.139684Z",
     "iopub.status.busy": "2021-06-27T02:03:32.138525Z",
     "iopub.status.idle": "2021-06-27T02:03:32.169683Z",
     "shell.execute_reply": "2021-06-27T02:03:32.170264Z"
    },
    "papermill": {
     "duration": 0.049764,
     "end_time": "2021-06-27T02:03:32.170404",
     "exception": false,
     "start_time": "2021-06-27T02:03:32.120640",
     "status": "completed"
    },
    "tags": []
   },
   "outputs": [],
   "source": [
    "#hide_input\n",
    "sum_corr = df_all.corr().sum().sort_values(ascending=True).index.values\n",
    "#df_all[sum_corr].corr()"
   ]
  },
  {
   "cell_type": "markdown",
   "id": "complex-syndicate",
   "metadata": {
    "papermill": {
     "duration": 0.015217,
     "end_time": "2021-06-27T02:03:32.199441",
     "exception": false,
     "start_time": "2021-06-27T02:03:32.184224",
     "status": "completed"
    },
    "tags": []
   },
   "source": [
    "## Išplėstinė koreliacijų matrica. "
   ]
  },
  {
   "cell_type": "code",
   "execution_count": 7,
   "id": "atomic-omaha",
   "metadata": {
    "execution": {
     "iopub.execute_input": "2021-06-27T02:03:32.235112Z",
     "iopub.status.busy": "2021-06-27T02:03:32.234427Z",
     "iopub.status.idle": "2021-06-27T02:03:33.839695Z",
     "shell.execute_reply": "2021-06-27T02:03:33.838847Z"
    },
    "papermill": {
     "duration": 1.625828,
     "end_time": "2021-06-27T02:03:33.839837",
     "exception": false,
     "start_time": "2021-06-27T02:03:32.214009",
     "status": "completed"
    },
    "tags": []
   },
   "outputs": [
    {
     "data": {
      "image/png": "[encoded data removed]",
      "text/plain": [
       "<Figure size 1080x792 with 2 Axes>"
      ]
     },
     "metadata": {
      "needs_background": "light"
     },
     "output_type": "display_data"
    }
   ],
   "source": [
    "#hide_input\n",
    "plt.figure(figsize=(15, 11))\n",
    "sns.heatmap(df_all[sum_corr].corr(), annot=True, cmap=\"cubehelix\") \n",
    "sns.set(font_scale=1.25)\n",
    "plt.savefig('corr_matrix.png', format='eps')"
   ]
  },
  {
   "cell_type": "code",
   "execution_count": 8,
   "id": "arbitrary-sullivan",
   "metadata": {
    "execution": {
     "iopub.execute_input": "2021-06-27T02:03:33.878949Z",
     "iopub.status.busy": "2021-06-27T02:03:33.876253Z",
     "iopub.status.idle": "2021-06-27T02:03:33.903375Z",
     "shell.execute_reply": "2021-06-27T02:03:33.907567Z"
    },
    "papermill": {
     "duration": 0.050914,
     "end_time": "2021-06-27T02:03:33.907725",
     "exception": false,
     "start_time": "2021-06-27T02:03:33.856811",
     "status": "completed"
    },
    "tags": []
   },
   "outputs": [],
   "source": [
    "#hide\n",
    "#df_all_mrk = read_api()"
   ]
  },
  {
   "cell_type": "code",
   "execution_count": 9,
   "id": "delayed-adapter",
   "metadata": {
    "execution": {
     "iopub.execute_input": "2021-06-27T02:03:33.942913Z",
     "iopub.status.busy": "2021-06-27T02:03:33.942237Z",
     "iopub.status.idle": "2021-06-27T02:03:33.969549Z",
     "shell.execute_reply": "2021-06-27T02:03:33.969042Z"
    },
    "papermill": {
     "duration": 0.046244,
     "end_time": "2021-06-27T02:03:33.969662",
     "exception": false,
     "start_time": "2021-06-27T02:03:33.923418",
     "status": "completed"
    },
    "tags": []
   },
   "outputs": [],
   "source": [
    "#hide\n",
    "#Koreliacijų koeficientai"
   ]
  },
  {
   "cell_type": "code",
   "execution_count": 10,
   "id": "seeing-celebration",
   "metadata": {
    "execution": {
     "iopub.execute_input": "2021-06-27T02:03:34.005349Z",
     "iopub.status.busy": "2021-06-27T02:03:34.004590Z",
     "iopub.status.idle": "2021-06-27T02:03:34.033703Z",
     "shell.execute_reply": "2021-06-27T02:03:34.033189Z"
    },
    "papermill": {
     "duration": 0.04809,
     "end_time": "2021-06-27T02:03:34.033827",
     "exception": false,
     "start_time": "2021-06-27T02:03:33.985737",
     "status": "completed"
    },
    "tags": []
   },
   "outputs": [],
   "source": [
    "#hide_input\n",
    "#sum_corr = df_all_mrk.corr().sum().sort_values(ascending=True).index.values\n",
    "#df_all_mrk[sum_corr].corr()"
   ]
  },
  {
   "cell_type": "code",
   "execution_count": 11,
   "id": "other-painting",
   "metadata": {
    "execution": {
     "iopub.execute_input": "2021-06-27T02:03:34.071631Z",
     "iopub.status.busy": "2021-06-27T02:03:34.070977Z",
     "iopub.status.idle": "2021-06-27T02:03:34.098010Z",
     "shell.execute_reply": "2021-06-27T02:03:34.097452Z"
    },
    "papermill": {
     "duration": 0.047072,
     "end_time": "2021-06-27T02:03:34.098134",
     "exception": false,
     "start_time": "2021-06-27T02:03:34.051062",
     "status": "completed"
    },
    "tags": []
   },
   "outputs": [],
   "source": [
    "#hide\n",
    "#Koreliacijos matrica. "
   ]
  },
  {
   "cell_type": "code",
   "execution_count": 12,
   "id": "modular-magnitude",
   "metadata": {
    "execution": {
     "iopub.execute_input": "2021-06-27T02:03:34.134840Z",
     "iopub.status.busy": "2021-06-27T02:03:34.134144Z",
     "iopub.status.idle": "2021-06-27T02:03:34.161797Z",
     "shell.execute_reply": "2021-06-27T02:03:34.161201Z"
    },
    "papermill": {
     "duration": 0.047456,
     "end_time": "2021-06-27T02:03:34.161928",
     "exception": false,
     "start_time": "2021-06-27T02:03:34.114472",
     "status": "completed"
    },
    "tags": []
   },
   "outputs": [],
   "source": [
    "#hide_input\n",
    "#plt.figure(figsize=(15, 8))\n",
    "#sns.heatmap(df_all_mrk[sum_corr].corr(), annot=True, cmap=\"BrBG\");\n",
    "#plt.savefig('corr_matrix_all.eps', format='eps')"
   ]
  },
  {
   "cell_type": "code",
   "execution_count": null,
   "id": "original-senator",
   "metadata": {
    "papermill": {
     "duration": 0.015962,
     "end_time": "2021-06-27T02:03:34.194140",
     "exception": false,
     "start_time": "2021-06-27T02:03:34.178178",
     "status": "completed"
    },
    "tags": []
   },
   "outputs": [],
   "source": []
  },
  {
   "cell_type": "code",
   "execution_count": null,
   "id": "saving-secretariat",
   "metadata": {
    "papermill": {
     "duration": 0.016084,
     "end_time": "2021-06-27T02:03:34.226805",
     "exception": false,
     "start_time": "2021-06-27T02:03:34.210721",
     "status": "completed"
    },
    "tags": []
   },
   "outputs": [],
   "source": []
  }
 ],
 "metadata": {
  "kernelspec": {
   "display_name": "Python 3",
   "language": "python",
   "name": "python3"
  },
  "language_info": {
   "codemirror_mode": {
    "name": "ipython",
    "version": 3
   },
   "file_extension": ".py",
   "mimetype": "text/x-python",
   "name": "python",
   "nbconvert_exporter": "python",
   "pygments_lexer": "ipython3",
   "version": "3.6.13"
  },
  "papermill": {
   "default_parameters": {},
   "duration": 17.356812,
   "end_time": "2021-06-27T02:03:35.448602",
   "environment_variables": {},
   "exception": null,
   "input_path": "App-Correlation_charts.ipynb",
   "output_path": "App-Correlation_charts.ipynb",
   "parameters": {},
   "start_time": "2021-06-27T02:03:18.091790",
   "version": "2.2.2"
  }
 },
 "nbformat": 4,
 "nbformat_minor": 5
}