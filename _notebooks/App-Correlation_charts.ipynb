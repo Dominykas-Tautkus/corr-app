{
 "cells": [
  {
   "cell_type": "markdown",
   "id": "touched-facility",
   "metadata": {
    "papermill": {
     "duration": 0.014194,
     "end_time": "2021-02-05T01:36:42.978911",
     "exception": false,
     "start_time": "2021-02-05T01:36:42.964717",
     "status": "completed"
    },
    "tags": []
   },
   "source": [
    "# Koreliacijų matrica\n",
    "> Išplėstinė koreliacijų matrica. \n",
    "\n",
    "- toc: true \n",
    "- badges: true\n",
    "- comments: false\n",
    "- categories: [Dominykas Tautkus]\n",
    "- image: images/matrix.png"
   ]
  },
  {
   "cell_type": "code",
   "execution_count": null,
   "id": "premium-weekend",
   "metadata": {
    "papermill": {
     "duration": 0.010374,
     "end_time": "2021-02-05T01:36:43.000457",
     "exception": false,
     "start_time": "2021-02-05T01:36:42.990083",
     "status": "completed"
    },
    "tags": []
   },
   "outputs": [],
   "source": []
  },
  {
   "cell_type": "code",
   "execution_count": 1,
   "id": "vertical-rebate",
   "metadata": {
    "execution": {
     "iopub.execute_input": "2021-02-05T01:36:43.030000Z",
     "iopub.status.busy": "2021-02-05T01:36:43.029480Z",
     "iopub.status.idle": "2021-02-05T01:36:43.038768Z",
     "shell.execute_reply": "2021-02-05T01:36:43.038313Z"
    },
    "papermill": {
     "duration": 0.027977,
     "end_time": "2021-02-05T01:36:43.038885",
     "exception": false,
     "start_time": "2021-02-05T01:36:43.010908",
     "status": "completed"
    },
    "tags": []
   },
   "outputs": [],
   "source": [
    "#hide\n",
    "%load_ext autoreload\n",
    "%autoreload 2"
   ]
  },
  {
   "cell_type": "code",
   "execution_count": 2,
   "id": "overall-advancement",
   "metadata": {
    "execution": {
     "iopub.execute_input": "2021-02-05T01:36:43.065674Z",
     "iopub.status.busy": "2021-02-05T01:36:43.065163Z",
     "iopub.status.idle": "2021-02-05T01:36:44.078405Z",
     "shell.execute_reply": "2021-02-05T01:36:44.077917Z"
    },
    "papermill": {
     "duration": 1.028192,
     "end_time": "2021-02-05T01:36:44.078533",
     "exception": false,
     "start_time": "2021-02-05T01:36:43.050341",
     "status": "completed"
    },
    "tags": []
   },
   "outputs": [],
   "source": [
    "#hide\n",
    "from scripts.read_data import read_api\n",
    "from IPython.display import HTML\n",
    "import plotly.graph_objects as go\n"
   ]
  },
  {
   "cell_type": "code",
   "execution_count": 3,
   "id": "light-crazy",
   "metadata": {
    "execution": {
     "iopub.execute_input": "2021-02-05T01:36:44.104272Z",
     "iopub.status.busy": "2021-02-05T01:36:44.103768Z",
     "iopub.status.idle": "2021-02-05T01:36:44.122942Z",
     "shell.execute_reply": "2021-02-05T01:36:44.122477Z"
    },
    "papermill": {
     "duration": 0.033552,
     "end_time": "2021-02-05T01:36:44.123057",
     "exception": false,
     "start_time": "2021-02-05T01:36:44.089505",
     "status": "completed"
    },
    "tags": []
   },
   "outputs": [],
   "source": [
    "#hide\n",
    "### ICO koreliacija"
   ]
  },
  {
   "cell_type": "code",
   "execution_count": 4,
   "id": "likely-bahrain",
   "metadata": {
    "execution": {
     "iopub.execute_input": "2021-02-05T01:36:44.149940Z",
     "iopub.status.busy": "2021-02-05T01:36:44.149479Z",
     "iopub.status.idle": "2021-02-05T01:36:46.318021Z",
     "shell.execute_reply": "2021-02-05T01:36:46.317520Z"
    },
    "papermill": {
     "duration": 2.184386,
     "end_time": "2021-02-05T01:36:46.318144",
     "exception": false,
     "start_time": "2021-02-05T01:36:44.133758",
     "status": "completed"
    },
    "tags": []
   },
   "outputs": [],
   "source": [
    "#hide\n",
    "import matplotlib.pyplot as plt\n",
    "import numpy as np\n",
    "import pandas as pd\n",
    "import seaborn as sns\n",
    "import matplotlib.pyplot as plt \n",
    "import matplotlib.dates as mdates\n",
    "import matplotlib.pyplot as plt"
   ]
  },
  {
   "cell_type": "code",
   "execution_count": 5,
   "id": "superior-blanket",
   "metadata": {
    "execution": {
     "iopub.execute_input": "2021-02-05T01:36:46.344858Z",
     "iopub.status.busy": "2021-02-05T01:36:46.344304Z",
     "iopub.status.idle": "2021-02-05T01:36:58.649368Z",
     "shell.execute_reply": "2021-02-05T01:36:58.649794Z"
    },
    "papermill": {
     "duration": 12.32086,
     "end_time": "2021-02-05T01:36:58.649948",
     "exception": false,
     "start_time": "2021-02-05T01:36:46.329088",
     "status": "completed"
    },
    "tags": []
   },
   "outputs": [
    {
     "name": "stderr",
     "output_type": "stream",
     "text": [
      "/home/runner/work/corr-app/corr-app/_notebooks/scripts/read_data.py:187: SettingWithCopyWarning:\n",
      "\n",
      "\n",
      "A value is trying to be set on a copy of a slice from a DataFrame.\n",
      "Try using .loc[row_indexer,col_indexer] = value instead\n",
      "\n",
      "See the caveats in the documentation: https://pandas.pydata.org/pandas-docs/stable/user_guide/indexing.html#returning-a-view-versus-a-copy\n",
      "\n"
     ]
    },
    {
     "name": "stderr",
     "output_type": "stream",
     "text": [
      "/home/runner/work/corr-app/corr-app/_notebooks/scripts/read_data.py:215: SettingWithCopyWarning:\n",
      "\n",
      "\n",
      "A value is trying to be set on a copy of a slice from a DataFrame.\n",
      "Try using .loc[row_indexer,col_indexer] = value instead\n",
      "\n",
      "See the caveats in the documentation: https://pandas.pydata.org/pandas-docs/stable/user_guide/indexing.html#returning-a-view-versus-a-copy\n",
      "\n"
     ]
    }
   ],
   "source": [
    "#hide\n",
    "df_all = read_api()\n",
    "#df_all = df_all.drop(['SP500', 'XAU', 'ETH', 'BTC'], axis=1)\n",
    "\n"
   ]
  },
  {
   "cell_type": "code",
   "execution_count": 6,
   "id": "mature-alert",
   "metadata": {
    "execution": {
     "iopub.execute_input": "2021-02-05T01:36:58.683268Z",
     "iopub.status.busy": "2021-02-05T01:36:58.682507Z",
     "iopub.status.idle": "2021-02-05T01:36:58.705658Z",
     "shell.execute_reply": "2021-02-05T01:36:58.705229Z"
    },
    "papermill": {
     "duration": 0.044471,
     "end_time": "2021-02-05T01:36:58.705779",
     "exception": false,
     "start_time": "2021-02-05T01:36:58.661308",
     "status": "completed"
    },
    "tags": []
   },
   "outputs": [],
   "source": [
    "#hide_input\n",
    "sum_corr = df_all.corr().sum().sort_values(ascending=True).index.values\n",
    "#df_all[sum_corr].corr()"
   ]
  },
  {
   "cell_type": "markdown",
   "id": "complex-syndicate",
   "metadata": {
    "papermill": {
     "duration": 0.010971,
     "end_time": "2021-02-05T01:36:58.727910",
     "exception": false,
     "start_time": "2021-02-05T01:36:58.716939",
     "status": "completed"
    },
    "tags": []
   },
   "source": [
    "## Išplėstinė koreliacijų matrica. "
   ]
  },
  {
   "cell_type": "code",
   "execution_count": 7,
   "id": "atomic-omaha",
   "metadata": {
    "execution": {
     "iopub.execute_input": "2021-02-05T01:36:58.763441Z",
     "iopub.status.busy": "2021-02-05T01:36:58.754929Z",
     "iopub.status.idle": "2021-02-05T01:36:59.796499Z",
     "shell.execute_reply": "2021-02-05T01:36:59.796049Z"
    },
    "papermill": {
     "duration": 1.057775,
     "end_time": "2021-02-05T01:36:59.796618",
     "exception": false,
     "start_time": "2021-02-05T01:36:58.738843",
     "status": "completed"
    },
    "tags": []
   },
   "outputs": [
    {
     "data": {
      "image/png": "[encoded data removed]",
      "text/plain": [
       "<Figure size 1080x792 with 2 Axes>"
      ]
     },
     "metadata": {
      "needs_background": "light"
     },
     "output_type": "display_data"
    }
   ],
   "source": [
    "#hide_input\n",
    "plt.figure(figsize=(15, 11))\n",
    "sns.heatmap(df_all[sum_corr].corr(), annot=True, cmap=\"cubehelix\") \n",
    "sns.set(font_scale=1.25)\n",
    "plt.savefig('corr_matrix.png', format='eps')"
   ]
  },
  {
   "cell_type": "code",
   "execution_count": 8,
   "id": "arbitrary-sullivan",
   "metadata": {
    "execution": {
     "iopub.execute_input": "2021-02-05T01:36:59.830222Z",
     "iopub.status.busy": "2021-02-05T01:36:59.829754Z",
     "iopub.status.idle": "2021-02-05T01:36:59.851492Z",
     "shell.execute_reply": "2021-02-05T01:36:59.851125Z"
    },
    "papermill": {
     "duration": 0.041699,
     "end_time": "2021-02-05T01:36:59.851595",
     "exception": false,
     "start_time": "2021-02-05T01:36:59.809896",
     "status": "completed"
    },
    "tags": []
   },
   "outputs": [],
   "source": [
    "#hide\n",
    "#df_all_mrk = read_api()"
   ]
  },
  {
   "cell_type": "code",
   "execution_count": 9,
   "id": "delayed-adapter",
   "metadata": {
    "execution": {
     "iopub.execute_input": "2021-02-05T01:36:59.888164Z",
     "iopub.status.busy": "2021-02-05T01:36:59.886850Z",
     "iopub.status.idle": "2021-02-05T01:36:59.908179Z",
     "shell.execute_reply": "2021-02-05T01:36:59.907546Z"
    },
    "papermill": {
     "duration": 0.044508,
     "end_time": "2021-02-05T01:36:59.908286",
     "exception": false,
     "start_time": "2021-02-05T01:36:59.863778",
     "status": "completed"
    },
    "tags": []
   },
   "outputs": [],
   "source": [
    "#hide\n",
    "#Koreliacijų koeficientai"
   ]
  },
  {
   "cell_type": "code",
   "execution_count": 10,
   "id": "seeing-celebration",
   "metadata": {
    "execution": {
     "iopub.execute_input": "2021-02-05T01:36:59.934688Z",
     "iopub.status.busy": "2021-02-05T01:36:59.934222Z",
     "iopub.status.idle": "2021-02-05T01:36:59.957081Z",
     "shell.execute_reply": "2021-02-05T01:36:59.956617Z"
    },
    "papermill": {
     "duration": 0.037387,
     "end_time": "2021-02-05T01:36:59.957207",
     "exception": false,
     "start_time": "2021-02-05T01:36:59.919820",
     "status": "completed"
    },
    "tags": []
   },
   "outputs": [],
   "source": [
    "#hide_input\n",
    "#sum_corr = df_all_mrk.corr().sum().sort_values(ascending=True).index.values\n",
    "#df_all_mrk[sum_corr].corr()"
   ]
  },
  {
   "cell_type": "code",
   "execution_count": 11,
   "id": "other-painting",
   "metadata": {
    "execution": {
     "iopub.execute_input": "2021-02-05T01:36:59.987594Z",
     "iopub.status.busy": "2021-02-05T01:36:59.987153Z",
     "iopub.status.idle": "2021-02-05T01:37:00.009201Z",
     "shell.execute_reply": "2021-02-05T01:37:00.008672Z"
    },
    "papermill": {
     "duration": 0.038782,
     "end_time": "2021-02-05T01:37:00.009336",
     "exception": false,
     "start_time": "2021-02-05T01:36:59.970554",
     "status": "completed"
    },
    "tags": []
   },
   "outputs": [],
   "source": [
    "#hide\n",
    "#Koreliacijos matrica. "
   ]
  },
  {
   "cell_type": "code",
   "execution_count": 12,
   "id": "modular-magnitude",
   "metadata": {
    "execution": {
     "iopub.execute_input": "2021-02-05T01:37:00.041720Z",
     "iopub.status.busy": "2021-02-05T01:37:00.041117Z",
     "iopub.status.idle": "2021-02-05T01:37:00.065730Z",
     "shell.execute_reply": "2021-02-05T01:37:00.065277Z"
    },
    "papermill": {
     "duration": 0.041489,
     "end_time": "2021-02-05T01:37:00.065857",
     "exception": false,
     "start_time": "2021-02-05T01:37:00.024368",
     "status": "completed"
    },
    "tags": []
   },
   "outputs": [],
   "source": [
    "#hide_input\n",
    "#plt.figure(figsize=(15, 8))\n",
    "#sns.heatmap(df_all_mrk[sum_corr].corr(), annot=True, cmap=\"BrBG\");\n",
    "#plt.savefig('corr_matrix_all.eps', format='eps')"
   ]
  },
  {
   "cell_type": "code",
   "execution_count": null,
   "id": "original-senator",
   "metadata": {
    "papermill": {
     "duration": 0.014233,
     "end_time": "2021-02-05T01:37:00.093977",
     "exception": false,
     "start_time": "2021-02-05T01:37:00.079744",
     "status": "completed"
    },
    "tags": []
   },
   "outputs": [],
   "source": []
  },
  {
   "cell_type": "code",
   "execution_count": null,
   "id": "saving-secretariat",
   "metadata": {
    "papermill": {
     "duration": 0.013334,
     "end_time": "2021-02-05T01:37:00.121046",
     "exception": false,
     "start_time": "2021-02-05T01:37:00.107712",
     "status": "completed"
    },
    "tags": []
   },
   "outputs": [],
   "source": []
  }
 ],
 "metadata": {
  "kernelspec": {
   "display_name": "Python 3",
   "language": "python",
   "name": "python3"
  },
  "language_info": {
   "codemirror_mode": {
    "name": "ipython",
    "version": 3
   },
   "file_extension": ".py",
   "mimetype": "text/x-python",
   "name": "python",
   "nbconvert_exporter": "python",
   "pygments_lexer": "ipython3",
   "version": "3.6.12"
  },
  "papermill": {
   "default_parameters": {},
   "duration": 18.712449,
   "end_time": "2021-02-05T01:37:00.643015",
   "environment_variables": {},
   "exception": null,
   "input_path": "App-Correlation_charts.ipynb",
   "output_path": "App-Correlation_charts.ipynb",
   "parameters": {},
   "start_time": "2021-02-05T01:36:41.930566",
   "version": "2.2.2"
  }
 },
 "nbformat": 4,
 "nbformat_minor": 5
}