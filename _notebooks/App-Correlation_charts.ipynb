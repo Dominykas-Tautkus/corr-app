{
 "cells": [
  {
   "cell_type": "markdown",
   "id": "touched-facility",
   "metadata": {
    "papermill": {
     "duration": 0.017194,
     "end_time": "2021-04-09T02:05:01.016484",
     "exception": false,
     "start_time": "2021-04-09T02:05:00.999290",
     "status": "completed"
    },
    "tags": []
   },
   "source": [
    "# Koreliacijų matrica\n",
    "> Išplėstinė koreliacijų matrica. \n",
    "\n",
    "- toc: true \n",
    "- badges: true\n",
    "- comments: false\n",
    "- categories: [Dominykas Tautkus]\n",
    "- image: images/matrix.png"
   ]
  },
  {
   "cell_type": "code",
   "execution_count": null,
   "id": "premium-weekend",
   "metadata": {
    "papermill": {
     "duration": 0.010954,
     "end_time": "2021-04-09T02:05:01.039640",
     "exception": false,
     "start_time": "2021-04-09T02:05:01.028686",
     "status": "completed"
    },
    "tags": []
   },
   "outputs": [],
   "source": []
  },
  {
   "cell_type": "code",
   "execution_count": 1,
   "id": "vertical-rebate",
   "metadata": {
    "execution": {
     "iopub.execute_input": "2021-04-09T02:05:01.081626Z",
     "iopub.status.busy": "2021-04-09T02:05:01.080950Z",
     "iopub.status.idle": "2021-04-09T02:05:01.091768Z",
     "shell.execute_reply": "2021-04-09T02:05:01.092215Z"
    },
    "papermill": {
     "duration": 0.033807,
     "end_time": "2021-04-09T02:05:01.092387",
     "exception": false,
     "start_time": "2021-04-09T02:05:01.058580",
     "status": "completed"
    },
    "tags": []
   },
   "outputs": [],
   "source": [
    "#hide\n",
    "%load_ext autoreload\n",
    "%autoreload 2"
   ]
  },
  {
   "cell_type": "code",
   "execution_count": 2,
   "id": "overall-advancement",
   "metadata": {
    "execution": {
     "iopub.execute_input": "2021-04-09T02:05:01.121271Z",
     "iopub.status.busy": "2021-04-09T02:05:01.120657Z",
     "iopub.status.idle": "2021-04-09T02:05:02.178688Z",
     "shell.execute_reply": "2021-04-09T02:05:02.178073Z"
    },
    "papermill": {
     "duration": 1.074153,
     "end_time": "2021-04-09T02:05:02.178853",
     "exception": false,
     "start_time": "2021-04-09T02:05:01.104700",
     "status": "completed"
    },
    "tags": []
   },
   "outputs": [],
   "source": [
    "#hide\n",
    "from scripts.read_data import read_api\n",
    "from IPython.display import HTML\n",
    "import plotly.graph_objects as go\n"
   ]
  },
  {
   "cell_type": "code",
   "execution_count": 3,
   "id": "light-crazy",
   "metadata": {
    "execution": {
     "iopub.execute_input": "2021-04-09T02:05:02.209042Z",
     "iopub.status.busy": "2021-04-09T02:05:02.208382Z",
     "iopub.status.idle": "2021-04-09T02:05:02.232367Z",
     "shell.execute_reply": "2021-04-09T02:05:02.231821Z"
    },
    "papermill": {
     "duration": 0.0401,
     "end_time": "2021-04-09T02:05:02.232528",
     "exception": false,
     "start_time": "2021-04-09T02:05:02.192428",
     "status": "completed"
    },
    "tags": []
   },
   "outputs": [],
   "source": [
    "#hide\n",
    "### ICO koreliacija"
   ]
  },
  {
   "cell_type": "code",
   "execution_count": 4,
   "id": "likely-bahrain",
   "metadata": {
    "execution": {
     "iopub.execute_input": "2021-04-09T02:05:02.260156Z",
     "iopub.status.busy": "2021-04-09T02:05:02.259538Z",
     "iopub.status.idle": "2021-04-09T02:05:03.085912Z",
     "shell.execute_reply": "2021-04-09T02:05:03.085364Z"
    },
    "papermill": {
     "duration": 0.841784,
     "end_time": "2021-04-09T02:05:03.086049",
     "exception": false,
     "start_time": "2021-04-09T02:05:02.244265",
     "status": "completed"
    },
    "tags": []
   },
   "outputs": [],
   "source": [
    "#hide\n",
    "import matplotlib.pyplot as plt\n",
    "import numpy as np\n",
    "import pandas as pd\n",
    "import seaborn as sns\n",
    "import matplotlib.pyplot as plt \n",
    "import matplotlib.dates as mdates\n",
    "import matplotlib.pyplot as plt"
   ]
  },
  {
   "cell_type": "code",
   "execution_count": 5,
   "id": "superior-blanket",
   "metadata": {
    "execution": {
     "iopub.execute_input": "2021-04-09T02:05:03.116613Z",
     "iopub.status.busy": "2021-04-09T02:05:03.115961Z",
     "iopub.status.idle": "2021-04-09T02:05:14.760821Z",
     "shell.execute_reply": "2021-04-09T02:05:14.760204Z"
    },
    "papermill": {
     "duration": 11.661438,
     "end_time": "2021-04-09T02:05:14.760974",
     "exception": false,
     "start_time": "2021-04-09T02:05:03.099536",
     "status": "completed"
    },
    "tags": []
   },
   "outputs": [
    {
     "name": "stderr",
     "output_type": "stream",
     "text": [
      "/home/runner/work/corr-app/corr-app/_notebooks/scripts/read_data.py:187: SettingWithCopyWarning:\n",
      "\n",
      "\n",
      "A value is trying to be set on a copy of a slice from a DataFrame.\n",
      "Try using .loc[row_indexer,col_indexer] = value instead\n",
      "\n",
      "See the caveats in the documentation: https://pandas.pydata.org/pandas-docs/stable/user_guide/indexing.html#returning-a-view-versus-a-copy\n",
      "\n"
     ]
    },
    {
     "name": "stderr",
     "output_type": "stream",
     "text": [
      "/home/runner/work/corr-app/corr-app/_notebooks/scripts/read_data.py:215: SettingWithCopyWarning:\n",
      "\n",
      "\n",
      "A value is trying to be set on a copy of a slice from a DataFrame.\n",
      "Try using .loc[row_indexer,col_indexer] = value instead\n",
      "\n",
      "See the caveats in the documentation: https://pandas.pydata.org/pandas-docs/stable/user_guide/indexing.html#returning-a-view-versus-a-copy\n",
      "\n"
     ]
    }
   ],
   "source": [
    "#hide\n",
    "df_all = read_api()\n",
    "#df_all = df_all.drop(['SP500', 'XAU', 'ETH', 'BTC'], axis=1)\n",
    "\n"
   ]
  },
  {
   "cell_type": "code",
   "execution_count": 6,
   "id": "mature-alert",
   "metadata": {
    "execution": {
     "iopub.execute_input": "2021-04-09T02:05:14.790929Z",
     "iopub.status.busy": "2021-04-09T02:05:14.789941Z",
     "iopub.status.idle": "2021-04-09T02:05:14.819983Z",
     "shell.execute_reply": "2021-04-09T02:05:14.820395Z"
    },
    "papermill": {
     "duration": 0.04689,
     "end_time": "2021-04-09T02:05:14.820560",
     "exception": false,
     "start_time": "2021-04-09T02:05:14.773670",
     "status": "completed"
    },
    "tags": []
   },
   "outputs": [],
   "source": [
    "#hide_input\n",
    "sum_corr = df_all.corr().sum().sort_values(ascending=True).index.values\n",
    "#df_all[sum_corr].corr()"
   ]
  },
  {
   "cell_type": "markdown",
   "id": "complex-syndicate",
   "metadata": {
    "papermill": {
     "duration": 0.011882,
     "end_time": "2021-04-09T02:05:14.843144",
     "exception": false,
     "start_time": "2021-04-09T02:05:14.831262",
     "status": "completed"
    },
    "tags": []
   },
   "source": [
    "## Išplėstinė koreliacijų matrica. "
   ]
  },
  {
   "cell_type": "code",
   "execution_count": 7,
   "id": "atomic-omaha",
   "metadata": {
    "execution": {
     "iopub.execute_input": "2021-04-09T02:05:14.871215Z",
     "iopub.status.busy": "2021-04-09T02:05:14.870624Z",
     "iopub.status.idle": "2021-04-09T02:05:16.099911Z",
     "shell.execute_reply": "2021-04-09T02:05:16.099385Z"
    },
    "papermill": {
     "duration": 1.24583,
     "end_time": "2021-04-09T02:05:16.100062",
     "exception": false,
     "start_time": "2021-04-09T02:05:14.854232",
     "status": "completed"
    },
    "tags": []
   },
   "outputs": [
    {
     "data": {
      "image/png": "[encoded data removed]",
      "text/plain": [
       "<Figure size 1080x792 with 2 Axes>"
      ]
     },
     "metadata": {
      "needs_background": "light"
     },
     "output_type": "display_data"
    }
   ],
   "source": [
    "#hide_input\n",
    "plt.figure(figsize=(15, 11))\n",
    "sns.heatmap(df_all[sum_corr].corr(), annot=True, cmap=\"cubehelix\") \n",
    "sns.set(font_scale=1.25)\n",
    "plt.savefig('corr_matrix.png', format='eps')"
   ]
  },
  {
   "cell_type": "code",
   "execution_count": 8,
   "id": "arbitrary-sullivan",
   "metadata": {
    "execution": {
     "iopub.execute_input": "2021-04-09T02:05:16.135279Z",
     "iopub.status.busy": "2021-04-09T02:05:16.134570Z",
     "iopub.status.idle": "2021-04-09T02:05:16.162596Z",
     "shell.execute_reply": "2021-04-09T02:05:16.163135Z"
    },
    "papermill": {
     "duration": 0.047473,
     "end_time": "2021-04-09T02:05:16.163308",
     "exception": false,
     "start_time": "2021-04-09T02:05:16.115835",
     "status": "completed"
    },
    "tags": []
   },
   "outputs": [],
   "source": [
    "#hide\n",
    "#df_all_mrk = read_api()"
   ]
  },
  {
   "cell_type": "code",
   "execution_count": 9,
   "id": "delayed-adapter",
   "metadata": {
    "execution": {
     "iopub.execute_input": "2021-04-09T02:05:16.196946Z",
     "iopub.status.busy": "2021-04-09T02:05:16.196342Z",
     "iopub.status.idle": "2021-04-09T02:05:16.224782Z",
     "shell.execute_reply": "2021-04-09T02:05:16.224127Z"
    },
    "papermill": {
     "duration": 0.046817,
     "end_time": "2021-04-09T02:05:16.224931",
     "exception": false,
     "start_time": "2021-04-09T02:05:16.178114",
     "status": "completed"
    },
    "tags": []
   },
   "outputs": [],
   "source": [
    "#hide\n",
    "#Koreliacijų koeficientai"
   ]
  },
  {
   "cell_type": "code",
   "execution_count": 10,
   "id": "seeing-celebration",
   "metadata": {
    "execution": {
     "iopub.execute_input": "2021-04-09T02:05:16.258260Z",
     "iopub.status.busy": "2021-04-09T02:05:16.257682Z",
     "iopub.status.idle": "2021-04-09T02:05:16.284286Z",
     "shell.execute_reply": "2021-04-09T02:05:16.283692Z"
    },
    "papermill": {
     "duration": 0.044092,
     "end_time": "2021-04-09T02:05:16.284424",
     "exception": false,
     "start_time": "2021-04-09T02:05:16.240332",
     "status": "completed"
    },
    "tags": []
   },
   "outputs": [],
   "source": [
    "#hide_input\n",
    "#sum_corr = df_all_mrk.corr().sum().sort_values(ascending=True).index.values\n",
    "#df_all_mrk[sum_corr].corr()"
   ]
  },
  {
   "cell_type": "code",
   "execution_count": 11,
   "id": "other-painting",
   "metadata": {
    "execution": {
     "iopub.execute_input": "2021-04-09T02:05:16.322562Z",
     "iopub.status.busy": "2021-04-09T02:05:16.321235Z",
     "iopub.status.idle": "2021-04-09T02:05:16.346375Z",
     "shell.execute_reply": "2021-04-09T02:05:16.345947Z"
    },
    "papermill": {
     "duration": 0.046692,
     "end_time": "2021-04-09T02:05:16.346484",
     "exception": false,
     "start_time": "2021-04-09T02:05:16.299792",
     "status": "completed"
    },
    "tags": []
   },
   "outputs": [],
   "source": [
    "#hide\n",
    "#Koreliacijos matrica. "
   ]
  },
  {
   "cell_type": "code",
   "execution_count": 12,
   "id": "modular-magnitude",
   "metadata": {
    "execution": {
     "iopub.execute_input": "2021-04-09T02:05:16.377874Z",
     "iopub.status.busy": "2021-04-09T02:05:16.377292Z",
     "iopub.status.idle": "2021-04-09T02:05:16.402805Z",
     "shell.execute_reply": "2021-04-09T02:05:16.402325Z"
    },
    "papermill": {
     "duration": 0.042571,
     "end_time": "2021-04-09T02:05:16.402926",
     "exception": false,
     "start_time": "2021-04-09T02:05:16.360355",
     "status": "completed"
    },
    "tags": []
   },
   "outputs": [],
   "source": [
    "#hide_input\n",
    "#plt.figure(figsize=(15, 8))\n",
    "#sns.heatmap(df_all_mrk[sum_corr].corr(), annot=True, cmap=\"BrBG\");\n",
    "#plt.savefig('corr_matrix_all.eps', format='eps')"
   ]
  },
  {
   "cell_type": "code",
   "execution_count": null,
   "id": "original-senator",
   "metadata": {
    "papermill": {
     "duration": 0.01465,
     "end_time": "2021-04-09T02:05:16.431930",
     "exception": false,
     "start_time": "2021-04-09T02:05:16.417280",
     "status": "completed"
    },
    "tags": []
   },
   "outputs": [],
   "source": []
  },
  {
   "cell_type": "code",
   "execution_count": null,
   "id": "saving-secretariat",
   "metadata": {
    "papermill": {
     "duration": 0.013878,
     "end_time": "2021-04-09T02:05:16.460484",
     "exception": false,
     "start_time": "2021-04-09T02:05:16.446606",
     "status": "completed"
    },
    "tags": []
   },
   "outputs": [],
   "source": []
  }
 ],
 "metadata": {
  "kernelspec": {
   "display_name": "Python 3",
   "language": "python",
   "name": "python3"
  },
  "language_info": {
   "codemirror_mode": {
    "name": "ipython",
    "version": 3
   },
   "file_extension": ".py",
   "mimetype": "text/x-python",
   "name": "python",
   "nbconvert_exporter": "python",
   "pygments_lexer": "ipython3",
   "version": "3.6.13"
  },
  "papermill": {
   "default_parameters": {},
   "duration": 17.23112,
   "end_time": "2021-04-09T02:05:16.983541",
   "environment_variables": {},
   "exception": null,
   "input_path": "App-Correlation_charts.ipynb",
   "output_path": "App-Correlation_charts.ipynb",
   "parameters": {},
   "start_time": "2021-04-09T02:04:59.752421",
   "version": "2.2.2"
  }
 },
 "nbformat": 4,
 "nbformat_minor": 5
}