{
 "cells": [
  {
   "cell_type": "markdown",
   "id": "touched-facility",
   "metadata": {
    "papermill": {
     "duration": 0.016571,
     "end_time": "2021-05-11T02:09:14.437777",
     "exception": false,
     "start_time": "2021-05-11T02:09:14.421206",
     "status": "completed"
    },
    "tags": []
   },
   "source": [
    "# Koreliacijų matrica\n",
    "> Išplėstinė koreliacijų matrica. \n",
    "\n",
    "- toc: true \n",
    "- badges: true\n",
    "- comments: false\n",
    "- categories: [Dominykas Tautkus]\n",
    "- image: images/matrix.png"
   ]
  },
  {
   "cell_type": "code",
   "execution_count": null,
   "id": "premium-weekend",
   "metadata": {
    "papermill": {
     "duration": 0.013145,
     "end_time": "2021-05-11T02:09:14.464950",
     "exception": false,
     "start_time": "2021-05-11T02:09:14.451805",
     "status": "completed"
    },
    "tags": []
   },
   "outputs": [],
   "source": []
  },
  {
   "cell_type": "code",
   "execution_count": 1,
   "id": "vertical-rebate",
   "metadata": {
    "execution": {
     "iopub.execute_input": "2021-05-11T02:09:14.502452Z",
     "iopub.status.busy": "2021-05-11T02:09:14.501175Z",
     "iopub.status.idle": "2021-05-11T02:09:14.512312Z",
     "shell.execute_reply": "2021-05-11T02:09:14.512873Z"
    },
    "papermill": {
     "duration": 0.035953,
     "end_time": "2021-05-11T02:09:14.513091",
     "exception": false,
     "start_time": "2021-05-11T02:09:14.477138",
     "status": "completed"
    },
    "tags": []
   },
   "outputs": [],
   "source": [
    "#hide\n",
    "%load_ext autoreload\n",
    "%autoreload 2"
   ]
  },
  {
   "cell_type": "code",
   "execution_count": 2,
   "id": "overall-advancement",
   "metadata": {
    "execution": {
     "iopub.execute_input": "2021-05-11T02:09:14.548309Z",
     "iopub.status.busy": "2021-05-11T02:09:14.547692Z",
     "iopub.status.idle": "2021-05-11T02:09:15.915829Z",
     "shell.execute_reply": "2021-05-11T02:09:15.915258Z"
    },
    "papermill": {
     "duration": 1.387176,
     "end_time": "2021-05-11T02:09:15.915979",
     "exception": false,
     "start_time": "2021-05-11T02:09:14.528803",
     "status": "completed"
    },
    "tags": []
   },
   "outputs": [],
   "source": [
    "#hide\n",
    "from scripts.read_data import read_api\n",
    "from IPython.display import HTML\n",
    "import plotly.graph_objects as go\n"
   ]
  },
  {
   "cell_type": "code",
   "execution_count": 3,
   "id": "light-crazy",
   "metadata": {
    "execution": {
     "iopub.execute_input": "2021-05-11T02:09:15.946814Z",
     "iopub.status.busy": "2021-05-11T02:09:15.946162Z",
     "iopub.status.idle": "2021-05-11T02:09:16.002216Z",
     "shell.execute_reply": "2021-05-11T02:09:16.002679Z"
    },
    "papermill": {
     "duration": 0.073136,
     "end_time": "2021-05-11T02:09:16.002836",
     "exception": false,
     "start_time": "2021-05-11T02:09:15.929700",
     "status": "completed"
    },
    "tags": []
   },
   "outputs": [],
   "source": [
    "#hide\n",
    "### ICO koreliacija"
   ]
  },
  {
   "cell_type": "code",
   "execution_count": 4,
   "id": "likely-bahrain",
   "metadata": {
    "execution": {
     "iopub.execute_input": "2021-05-11T02:09:16.050774Z",
     "iopub.status.busy": "2021-05-11T02:09:16.042155Z",
     "iopub.status.idle": "2021-05-11T02:09:16.947758Z",
     "shell.execute_reply": "2021-05-11T02:09:16.947157Z"
    },
    "papermill": {
     "duration": 0.932321,
     "end_time": "2021-05-11T02:09:16.947900",
     "exception": false,
     "start_time": "2021-05-11T02:09:16.015579",
     "status": "completed"
    },
    "tags": []
   },
   "outputs": [],
   "source": [
    "#hide\n",
    "import matplotlib.pyplot as plt\n",
    "import numpy as np\n",
    "import pandas as pd\n",
    "import seaborn as sns\n",
    "import matplotlib.pyplot as plt \n",
    "import matplotlib.dates as mdates\n",
    "import matplotlib.pyplot as plt"
   ]
  },
  {
   "cell_type": "code",
   "execution_count": 5,
   "id": "superior-blanket",
   "metadata": {
    "execution": {
     "iopub.execute_input": "2021-05-11T02:09:16.978365Z",
     "iopub.status.busy": "2021-05-11T02:09:16.977664Z",
     "iopub.status.idle": "2021-05-11T02:09:36.182800Z",
     "shell.execute_reply": "2021-05-11T02:09:36.183316Z"
    },
    "papermill": {
     "duration": 19.222153,
     "end_time": "2021-05-11T02:09:36.183497",
     "exception": false,
     "start_time": "2021-05-11T02:09:16.961344",
     "status": "completed"
    },
    "tags": []
   },
   "outputs": [
    {
     "name": "stderr",
     "output_type": "stream",
     "text": [
      "/home/runner/work/corr-app/corr-app/_notebooks/scripts/read_data.py:187: SettingWithCopyWarning:\n",
      "\n",
      "\n",
      "A value is trying to be set on a copy of a slice from a DataFrame.\n",
      "Try using .loc[row_indexer,col_indexer] = value instead\n",
      "\n",
      "See the caveats in the documentation: https://pandas.pydata.org/pandas-docs/stable/user_guide/indexing.html#returning-a-view-versus-a-copy\n",
      "\n"
     ]
    },
    {
     "name": "stderr",
     "output_type": "stream",
     "text": [
      "/home/runner/work/corr-app/corr-app/_notebooks/scripts/read_data.py:215: SettingWithCopyWarning:\n",
      "\n",
      "\n",
      "A value is trying to be set on a copy of a slice from a DataFrame.\n",
      "Try using .loc[row_indexer,col_indexer] = value instead\n",
      "\n",
      "See the caveats in the documentation: https://pandas.pydata.org/pandas-docs/stable/user_guide/indexing.html#returning-a-view-versus-a-copy\n",
      "\n"
     ]
    }
   ],
   "source": [
    "#hide\n",
    "df_all = read_api()\n",
    "#df_all = df_all.drop(['SP500', 'XAU', 'ETH', 'BTC'], axis=1)\n",
    "\n"
   ]
  },
  {
   "cell_type": "code",
   "execution_count": 6,
   "id": "mature-alert",
   "metadata": {
    "execution": {
     "iopub.execute_input": "2021-05-11T02:09:36.225964Z",
     "iopub.status.busy": "2021-05-11T02:09:36.220601Z",
     "iopub.status.idle": "2021-05-11T02:09:36.256265Z",
     "shell.execute_reply": "2021-05-11T02:09:36.255391Z"
    },
    "papermill": {
     "duration": 0.058303,
     "end_time": "2021-05-11T02:09:36.256411",
     "exception": false,
     "start_time": "2021-05-11T02:09:36.198108",
     "status": "completed"
    },
    "tags": []
   },
   "outputs": [],
   "source": [
    "#hide_input\n",
    "sum_corr = df_all.corr().sum().sort_values(ascending=True).index.values\n",
    "#df_all[sum_corr].corr()"
   ]
  },
  {
   "cell_type": "markdown",
   "id": "complex-syndicate",
   "metadata": {
    "papermill": {
     "duration": 0.014199,
     "end_time": "2021-05-11T02:09:36.284658",
     "exception": false,
     "start_time": "2021-05-11T02:09:36.270459",
     "status": "completed"
    },
    "tags": []
   },
   "source": [
    "## Išplėstinė koreliacijų matrica. "
   ]
  },
  {
   "cell_type": "code",
   "execution_count": 7,
   "id": "atomic-omaha",
   "metadata": {
    "execution": {
     "iopub.execute_input": "2021-05-11T02:09:36.323891Z",
     "iopub.status.busy": "2021-05-11T02:09:36.322802Z",
     "iopub.status.idle": "2021-05-11T02:09:37.778169Z",
     "shell.execute_reply": "2021-05-11T02:09:37.777561Z"
    },
    "papermill": {
     "duration": 1.479452,
     "end_time": "2021-05-11T02:09:37.778308",
     "exception": false,
     "start_time": "2021-05-11T02:09:36.298856",
     "status": "completed"
    },
    "tags": []
   },
   "outputs": [
    {
     "data": {
      "image/png": "[encoded data removed]",
      "text/plain": [
       "<Figure size 1080x792 with 2 Axes>"
      ]
     },
     "metadata": {
      "needs_background": "light"
     },
     "output_type": "display_data"
    }
   ],
   "source": [
    "#hide_input\n",
    "plt.figure(figsize=(15, 11))\n",
    "sns.heatmap(df_all[sum_corr].corr(), annot=True, cmap=\"cubehelix\") \n",
    "sns.set(font_scale=1.25)\n",
    "plt.savefig('corr_matrix.png', format='eps')"
   ]
  },
  {
   "cell_type": "code",
   "execution_count": 8,
   "id": "arbitrary-sullivan",
   "metadata": {
    "execution": {
     "iopub.execute_input": "2021-05-11T02:09:37.820051Z",
     "iopub.status.busy": "2021-05-11T02:09:37.818573Z",
     "iopub.status.idle": "2021-05-11T02:09:37.844765Z",
     "shell.execute_reply": "2021-05-11T02:09:37.844236Z"
    },
    "papermill": {
     "duration": 0.049637,
     "end_time": "2021-05-11T02:09:37.844902",
     "exception": false,
     "start_time": "2021-05-11T02:09:37.795265",
     "status": "completed"
    },
    "tags": []
   },
   "outputs": [],
   "source": [
    "#hide\n",
    "#df_all_mrk = read_api()"
   ]
  },
  {
   "cell_type": "code",
   "execution_count": 9,
   "id": "delayed-adapter",
   "metadata": {
    "execution": {
     "iopub.execute_input": "2021-05-11T02:09:37.890512Z",
     "iopub.status.busy": "2021-05-11T02:09:37.884893Z",
     "iopub.status.idle": "2021-05-11T02:09:37.911295Z",
     "shell.execute_reply": "2021-05-11T02:09:37.910676Z"
    },
    "papermill": {
     "duration": 0.051333,
     "end_time": "2021-05-11T02:09:37.911440",
     "exception": false,
     "start_time": "2021-05-11T02:09:37.860107",
     "status": "completed"
    },
    "tags": []
   },
   "outputs": [],
   "source": [
    "#hide\n",
    "#Koreliacijų koeficientai"
   ]
  },
  {
   "cell_type": "code",
   "execution_count": 10,
   "id": "seeing-celebration",
   "metadata": {
    "execution": {
     "iopub.execute_input": "2021-05-11T02:09:37.955371Z",
     "iopub.status.busy": "2021-05-11T02:09:37.954764Z",
     "iopub.status.idle": "2021-05-11T02:09:37.978625Z",
     "shell.execute_reply": "2021-05-11T02:09:37.978006Z"
    },
    "papermill": {
     "duration": 0.051088,
     "end_time": "2021-05-11T02:09:37.978788",
     "exception": false,
     "start_time": "2021-05-11T02:09:37.927700",
     "status": "completed"
    },
    "tags": []
   },
   "outputs": [],
   "source": [
    "#hide_input\n",
    "#sum_corr = df_all_mrk.corr().sum().sort_values(ascending=True).index.values\n",
    "#df_all_mrk[sum_corr].corr()"
   ]
  },
  {
   "cell_type": "code",
   "execution_count": 11,
   "id": "other-painting",
   "metadata": {
    "execution": {
     "iopub.execute_input": "2021-05-11T02:09:38.018827Z",
     "iopub.status.busy": "2021-05-11T02:09:38.014563Z",
     "iopub.status.idle": "2021-05-11T02:09:38.046024Z",
     "shell.execute_reply": "2021-05-11T02:09:38.045074Z"
    },
    "papermill": {
     "duration": 0.051106,
     "end_time": "2021-05-11T02:09:38.046157",
     "exception": false,
     "start_time": "2021-05-11T02:09:37.995051",
     "status": "completed"
    },
    "tags": []
   },
   "outputs": [],
   "source": [
    "#hide\n",
    "#Koreliacijos matrica. "
   ]
  },
  {
   "cell_type": "code",
   "execution_count": 12,
   "id": "modular-magnitude",
   "metadata": {
    "execution": {
     "iopub.execute_input": "2021-05-11T02:09:38.090513Z",
     "iopub.status.busy": "2021-05-11T02:09:38.086194Z",
     "iopub.status.idle": "2021-05-11T02:09:38.112433Z",
     "shell.execute_reply": "2021-05-11T02:09:38.111277Z"
    },
    "papermill": {
     "duration": 0.050153,
     "end_time": "2021-05-11T02:09:38.112559",
     "exception": false,
     "start_time": "2021-05-11T02:09:38.062406",
     "status": "completed"
    },
    "tags": []
   },
   "outputs": [],
   "source": [
    "#hide_input\n",
    "#plt.figure(figsize=(15, 8))\n",
    "#sns.heatmap(df_all_mrk[sum_corr].corr(), annot=True, cmap=\"BrBG\");\n",
    "#plt.savefig('corr_matrix_all.eps', format='eps')"
   ]
  },
  {
   "cell_type": "code",
   "execution_count": null,
   "id": "original-senator",
   "metadata": {
    "papermill": {
     "duration": 0.017085,
     "end_time": "2021-05-11T02:09:38.144915",
     "exception": false,
     "start_time": "2021-05-11T02:09:38.127830",
     "status": "completed"
    },
    "tags": []
   },
   "outputs": [],
   "source": []
  },
  {
   "cell_type": "code",
   "execution_count": null,
   "id": "saving-secretariat",
   "metadata": {
    "papermill": {
     "duration": 0.016078,
     "end_time": "2021-05-11T02:09:38.178530",
     "exception": false,
     "start_time": "2021-05-11T02:09:38.162452",
     "status": "completed"
    },
    "tags": []
   },
   "outputs": [],
   "source": []
  }
 ],
 "metadata": {
  "kernelspec": {
   "display_name": "Python 3",
   "language": "python",
   "name": "python3"
  },
  "language_info": {
   "codemirror_mode": {
    "name": "ipython",
    "version": 3
   },
   "file_extension": ".py",
   "mimetype": "text/x-python",
   "name": "python",
   "nbconvert_exporter": "python",
   "pygments_lexer": "ipython3",
   "version": "3.6.13"
  },
  "papermill": {
   "default_parameters": {},
   "duration": 26.323293,
   "end_time": "2021-05-11T02:09:39.470584",
   "environment_variables": {},
   "exception": null,
   "input_path": "App-Correlation_charts.ipynb",
   "output_path": "App-Correlation_charts.ipynb",
   "parameters": {},
   "start_time": "2021-05-11T02:09:13.147291",
   "version": "2.2.2"
  }
 },
 "nbformat": 4,
 "nbformat_minor": 5
}