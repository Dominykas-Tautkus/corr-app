{
 "cells": [
  {
   "cell_type": "markdown",
   "id": "touched-facility",
   "metadata": {
    "papermill": {
     "duration": 0.059487,
     "end_time": "2021-05-18T02:20:50.101598",
     "exception": false,
     "start_time": "2021-05-18T02:20:50.042111",
     "status": "completed"
    },
    "tags": []
   },
   "source": [
    "# Koreliacijų matrica\n",
    "> Išplėstinė koreliacijų matrica. \n",
    "\n",
    "- toc: true \n",
    "- badges: true\n",
    "- comments: false\n",
    "- categories: [Dominykas Tautkus]\n",
    "- image: images/matrix.png"
   ]
  },
  {
   "cell_type": "code",
   "execution_count": null,
   "id": "premium-weekend",
   "metadata": {
    "papermill": {
     "duration": 0.04824,
     "end_time": "2021-05-18T02:20:50.185141",
     "exception": false,
     "start_time": "2021-05-18T02:20:50.136901",
     "status": "completed"
    },
    "tags": []
   },
   "outputs": [],
   "source": []
  },
  {
   "cell_type": "code",
   "execution_count": 1,
   "id": "vertical-rebate",
   "metadata": {
    "execution": {
     "iopub.execute_input": "2021-05-18T02:20:50.302735Z",
     "iopub.status.busy": "2021-05-18T02:20:50.302110Z",
     "iopub.status.idle": "2021-05-18T02:20:50.315748Z",
     "shell.execute_reply": "2021-05-18T02:20:50.314900Z"
    },
    "papermill": {
     "duration": 0.072281,
     "end_time": "2021-05-18T02:20:50.315969",
     "exception": false,
     "start_time": "2021-05-18T02:20:50.243688",
     "status": "completed"
    },
    "tags": []
   },
   "outputs": [],
   "source": [
    "#hide\n",
    "%load_ext autoreload\n",
    "%autoreload 2"
   ]
  },
  {
   "cell_type": "code",
   "execution_count": 2,
   "id": "overall-advancement",
   "metadata": {
    "execution": {
     "iopub.execute_input": "2021-05-18T02:20:50.361728Z",
     "iopub.status.busy": "2021-05-18T02:20:50.361135Z",
     "iopub.status.idle": "2021-05-18T02:20:51.615046Z",
     "shell.execute_reply": "2021-05-18T02:20:51.614527Z"
    },
    "papermill": {
     "duration": 1.279301,
     "end_time": "2021-05-18T02:20:51.615179",
     "exception": false,
     "start_time": "2021-05-18T02:20:50.335878",
     "status": "completed"
    },
    "tags": []
   },
   "outputs": [],
   "source": [
    "#hide\n",
    "from scripts.read_data import read_api\n",
    "from IPython.display import HTML\n",
    "import plotly.graph_objects as go\n"
   ]
  },
  {
   "cell_type": "code",
   "execution_count": 3,
   "id": "light-crazy",
   "metadata": {
    "execution": {
     "iopub.execute_input": "2021-05-18T02:20:51.647249Z",
     "iopub.status.busy": "2021-05-18T02:20:51.646624Z",
     "iopub.status.idle": "2021-05-18T02:20:51.669930Z",
     "shell.execute_reply": "2021-05-18T02:20:51.670384Z"
    },
    "papermill": {
     "duration": 0.041874,
     "end_time": "2021-05-18T02:20:51.670518",
     "exception": false,
     "start_time": "2021-05-18T02:20:51.628644",
     "status": "completed"
    },
    "tags": []
   },
   "outputs": [],
   "source": [
    "#hide\n",
    "### ICO koreliacija"
   ]
  },
  {
   "cell_type": "code",
   "execution_count": 4,
   "id": "likely-bahrain",
   "metadata": {
    "execution": {
     "iopub.execute_input": "2021-05-18T02:20:51.700629Z",
     "iopub.status.busy": "2021-05-18T02:20:51.699968Z",
     "iopub.status.idle": "2021-05-18T02:20:52.628138Z",
     "shell.execute_reply": "2021-05-18T02:20:52.627398Z"
    },
    "papermill": {
     "duration": 0.945106,
     "end_time": "2021-05-18T02:20:52.628275",
     "exception": false,
     "start_time": "2021-05-18T02:20:51.683169",
     "status": "completed"
    },
    "tags": []
   },
   "outputs": [],
   "source": [
    "#hide\n",
    "import matplotlib.pyplot as plt\n",
    "import numpy as np\n",
    "import pandas as pd\n",
    "import seaborn as sns\n",
    "import matplotlib.pyplot as plt \n",
    "import matplotlib.dates as mdates\n",
    "import matplotlib.pyplot as plt"
   ]
  },
  {
   "cell_type": "code",
   "execution_count": 5,
   "id": "superior-blanket",
   "metadata": {
    "execution": {
     "iopub.execute_input": "2021-05-18T02:20:52.661157Z",
     "iopub.status.busy": "2021-05-18T02:20:52.660564Z",
     "iopub.status.idle": "2021-05-18T02:21:04.221075Z",
     "shell.execute_reply": "2021-05-18T02:21:04.221563Z"
    },
    "papermill": {
     "duration": 11.579701,
     "end_time": "2021-05-18T02:21:04.221724",
     "exception": false,
     "start_time": "2021-05-18T02:20:52.642023",
     "status": "completed"
    },
    "tags": []
   },
   "outputs": [
    {
     "name": "stderr",
     "output_type": "stream",
     "text": [
      "/home/runner/work/corr-app/corr-app/_notebooks/scripts/read_data.py:187: SettingWithCopyWarning:\n",
      "\n",
      "\n",
      "A value is trying to be set on a copy of a slice from a DataFrame.\n",
      "Try using .loc[row_indexer,col_indexer] = value instead\n",
      "\n",
      "See the caveats in the documentation: https://pandas.pydata.org/pandas-docs/stable/user_guide/indexing.html#returning-a-view-versus-a-copy\n",
      "\n"
     ]
    },
    {
     "name": "stderr",
     "output_type": "stream",
     "text": [
      "/home/runner/work/corr-app/corr-app/_notebooks/scripts/read_data.py:215: SettingWithCopyWarning:\n",
      "\n",
      "\n",
      "A value is trying to be set on a copy of a slice from a DataFrame.\n",
      "Try using .loc[row_indexer,col_indexer] = value instead\n",
      "\n",
      "See the caveats in the documentation: https://pandas.pydata.org/pandas-docs/stable/user_guide/indexing.html#returning-a-view-versus-a-copy\n",
      "\n"
     ]
    }
   ],
   "source": [
    "#hide\n",
    "df_all = read_api()\n",
    "#df_all = df_all.drop(['SP500', 'XAU', 'ETH', 'BTC'], axis=1)\n",
    "\n"
   ]
  },
  {
   "cell_type": "code",
   "execution_count": 6,
   "id": "mature-alert",
   "metadata": {
    "execution": {
     "iopub.execute_input": "2021-05-18T02:21:04.252211Z",
     "iopub.status.busy": "2021-05-18T02:21:04.251612Z",
     "iopub.status.idle": "2021-05-18T02:21:04.283291Z",
     "shell.execute_reply": "2021-05-18T02:21:04.282563Z"
    },
    "papermill": {
     "duration": 0.048446,
     "end_time": "2021-05-18T02:21:04.283467",
     "exception": false,
     "start_time": "2021-05-18T02:21:04.235021",
     "status": "completed"
    },
    "tags": []
   },
   "outputs": [],
   "source": [
    "#hide_input\n",
    "sum_corr = df_all.corr().sum().sort_values(ascending=True).index.values\n",
    "#df_all[sum_corr].corr()"
   ]
  },
  {
   "cell_type": "markdown",
   "id": "complex-syndicate",
   "metadata": {
    "papermill": {
     "duration": 0.013204,
     "end_time": "2021-05-18T02:21:04.311826",
     "exception": false,
     "start_time": "2021-05-18T02:21:04.298622",
     "status": "completed"
    },
    "tags": []
   },
   "source": [
    "## Išplėstinė koreliacijų matrica. "
   ]
  },
  {
   "cell_type": "code",
   "execution_count": 7,
   "id": "atomic-omaha",
   "metadata": {
    "execution": {
     "iopub.execute_input": "2021-05-18T02:21:04.344356Z",
     "iopub.status.busy": "2021-05-18T02:21:04.343777Z",
     "iopub.status.idle": "2021-05-18T02:21:05.718708Z",
     "shell.execute_reply": "2021-05-18T02:21:05.718252Z"
    },
    "papermill": {
     "duration": 1.392846,
     "end_time": "2021-05-18T02:21:05.718838",
     "exception": false,
     "start_time": "2021-05-18T02:21:04.325992",
     "status": "completed"
    },
    "tags": []
   },
   "outputs": [
    {
     "data": {
      "image/png": "[encoded data removed]",
      "text/plain": [
       "<Figure size 1080x792 with 2 Axes>"
      ]
     },
     "metadata": {
      "needs_background": "light"
     },
     "output_type": "display_data"
    }
   ],
   "source": [
    "#hide_input\n",
    "plt.figure(figsize=(15, 11))\n",
    "sns.heatmap(df_all[sum_corr].corr(), annot=True, cmap=\"cubehelix\") \n",
    "sns.set(font_scale=1.25)\n",
    "plt.savefig('corr_matrix.png', format='eps')"
   ]
  },
  {
   "cell_type": "code",
   "execution_count": 8,
   "id": "arbitrary-sullivan",
   "metadata": {
    "execution": {
     "iopub.execute_input": "2021-05-18T02:21:05.753202Z",
     "iopub.status.busy": "2021-05-18T02:21:05.752611Z",
     "iopub.status.idle": "2021-05-18T02:21:05.783552Z",
     "shell.execute_reply": "2021-05-18T02:21:05.782693Z"
    },
    "papermill": {
     "duration": 0.049794,
     "end_time": "2021-05-18T02:21:05.783716",
     "exception": false,
     "start_time": "2021-05-18T02:21:05.733922",
     "status": "completed"
    },
    "tags": []
   },
   "outputs": [],
   "source": [
    "#hide\n",
    "#df_all_mrk = read_api()"
   ]
  },
  {
   "cell_type": "code",
   "execution_count": 9,
   "id": "delayed-adapter",
   "metadata": {
    "execution": {
     "iopub.execute_input": "2021-05-18T02:21:05.819437Z",
     "iopub.status.busy": "2021-05-18T02:21:05.818851Z",
     "iopub.status.idle": "2021-05-18T02:21:05.847379Z",
     "shell.execute_reply": "2021-05-18T02:21:05.847996Z"
    },
    "papermill": {
     "duration": 0.047171,
     "end_time": "2021-05-18T02:21:05.848180",
     "exception": false,
     "start_time": "2021-05-18T02:21:05.801009",
     "status": "completed"
    },
    "tags": []
   },
   "outputs": [],
   "source": [
    "#hide\n",
    "#Koreliacijų koeficientai"
   ]
  },
  {
   "cell_type": "code",
   "execution_count": 10,
   "id": "seeing-celebration",
   "metadata": {
    "execution": {
     "iopub.execute_input": "2021-05-18T02:21:05.882179Z",
     "iopub.status.busy": "2021-05-18T02:21:05.881596Z",
     "iopub.status.idle": "2021-05-18T02:21:05.908647Z",
     "shell.execute_reply": "2021-05-18T02:21:05.907934Z"
    },
    "papermill": {
     "duration": 0.04467,
     "end_time": "2021-05-18T02:21:05.908794",
     "exception": false,
     "start_time": "2021-05-18T02:21:05.864124",
     "status": "completed"
    },
    "tags": []
   },
   "outputs": [],
   "source": [
    "#hide_input\n",
    "#sum_corr = df_all_mrk.corr().sum().sort_values(ascending=True).index.values\n",
    "#df_all_mrk[sum_corr].corr()"
   ]
  },
  {
   "cell_type": "code",
   "execution_count": 11,
   "id": "other-painting",
   "metadata": {
    "execution": {
     "iopub.execute_input": "2021-05-18T02:21:05.943992Z",
     "iopub.status.busy": "2021-05-18T02:21:05.943382Z",
     "iopub.status.idle": "2021-05-18T02:21:05.972391Z",
     "shell.execute_reply": "2021-05-18T02:21:05.971633Z"
    },
    "papermill": {
     "duration": 0.04784,
     "end_time": "2021-05-18T02:21:05.972539",
     "exception": false,
     "start_time": "2021-05-18T02:21:05.924699",
     "status": "completed"
    },
    "tags": []
   },
   "outputs": [],
   "source": [
    "#hide\n",
    "#Koreliacijos matrica. "
   ]
  },
  {
   "cell_type": "code",
   "execution_count": 12,
   "id": "modular-magnitude",
   "metadata": {
    "execution": {
     "iopub.execute_input": "2021-05-18T02:21:06.006474Z",
     "iopub.status.busy": "2021-05-18T02:21:06.005895Z",
     "iopub.status.idle": "2021-05-18T02:21:06.034048Z",
     "shell.execute_reply": "2021-05-18T02:21:06.033566Z"
    },
    "papermill": {
     "duration": 0.046392,
     "end_time": "2021-05-18T02:21:06.034179",
     "exception": false,
     "start_time": "2021-05-18T02:21:05.987787",
     "status": "completed"
    },
    "tags": []
   },
   "outputs": [],
   "source": [
    "#hide_input\n",
    "#plt.figure(figsize=(15, 8))\n",
    "#sns.heatmap(df_all_mrk[sum_corr].corr(), annot=True, cmap=\"BrBG\");\n",
    "#plt.savefig('corr_matrix_all.eps', format='eps')"
   ]
  },
  {
   "cell_type": "code",
   "execution_count": null,
   "id": "original-senator",
   "metadata": {
    "papermill": {
     "duration": 0.015007,
     "end_time": "2021-05-18T02:21:06.064744",
     "exception": false,
     "start_time": "2021-05-18T02:21:06.049737",
     "status": "completed"
    },
    "tags": []
   },
   "outputs": [],
   "source": []
  },
  {
   "cell_type": "code",
   "execution_count": null,
   "id": "saving-secretariat",
   "metadata": {
    "papermill": {
     "duration": 0.015433,
     "end_time": "2021-05-18T02:21:06.094970",
     "exception": false,
     "start_time": "2021-05-18T02:21:06.079537",
     "status": "completed"
    },
    "tags": []
   },
   "outputs": [],
   "source": []
  }
 ],
 "metadata": {
  "kernelspec": {
   "display_name": "Python 3",
   "language": "python",
   "name": "python3"
  },
  "language_info": {
   "codemirror_mode": {
    "name": "ipython",
    "version": 3
   },
   "file_extension": ".py",
   "mimetype": "text/x-python",
   "name": "python",
   "nbconvert_exporter": "python",
   "pygments_lexer": "ipython3",
   "version": "3.6.13"
  },
  "papermill": {
   "default_parameters": {},
   "duration": 18.219653,
   "end_time": "2021-05-18T02:21:06.618838",
   "environment_variables": {},
   "exception": null,
   "input_path": "App-Correlation_charts.ipynb",
   "output_path": "App-Correlation_charts.ipynb",
   "parameters": {},
   "start_time": "2021-05-18T02:20:48.399185",
   "version": "2.2.2"
  }
 },
 "nbformat": 4,
 "nbformat_minor": 5
}