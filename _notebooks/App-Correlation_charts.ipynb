{
 "cells": [
  {
   "cell_type": "markdown",
   "id": "touched-facility",
   "metadata": {
    "papermill": {
     "duration": 0.01616,
     "end_time": "2021-03-10T01:44:34.872745",
     "exception": false,
     "start_time": "2021-03-10T01:44:34.856585",
     "status": "completed"
    },
    "tags": []
   },
   "source": [
    "# Koreliacijų matrica\n",
    "> Išplėstinė koreliacijų matrica. \n",
    "\n",
    "- toc: true \n",
    "- badges: true\n",
    "- comments: false\n",
    "- categories: [Dominykas Tautkus]\n",
    "- image: images/matrix.png"
   ]
  },
  {
   "cell_type": "code",
   "execution_count": null,
   "id": "premium-weekend",
   "metadata": {
    "papermill": {
     "duration": 0.012267,
     "end_time": "2021-03-10T01:44:34.899033",
     "exception": false,
     "start_time": "2021-03-10T01:44:34.886766",
     "status": "completed"
    },
    "tags": []
   },
   "outputs": [],
   "source": []
  },
  {
   "cell_type": "code",
   "execution_count": 1,
   "id": "vertical-rebate",
   "metadata": {
    "execution": {
     "iopub.execute_input": "2021-03-10T01:44:34.937541Z",
     "iopub.status.busy": "2021-03-10T01:44:34.936918Z",
     "iopub.status.idle": "2021-03-10T01:44:34.948464Z",
     "shell.execute_reply": "2021-03-10T01:44:34.947662Z"
    },
    "papermill": {
     "duration": 0.03597,
     "end_time": "2021-03-10T01:44:34.948603",
     "exception": false,
     "start_time": "2021-03-10T01:44:34.912633",
     "status": "completed"
    },
    "tags": []
   },
   "outputs": [],
   "source": [
    "#hide\n",
    "%load_ext autoreload\n",
    "%autoreload 2"
   ]
  },
  {
   "cell_type": "code",
   "execution_count": 2,
   "id": "overall-advancement",
   "metadata": {
    "execution": {
     "iopub.execute_input": "2021-03-10T01:44:34.978771Z",
     "iopub.status.busy": "2021-03-10T01:44:34.977974Z",
     "iopub.status.idle": "2021-03-10T01:44:36.337133Z",
     "shell.execute_reply": "2021-03-10T01:44:36.336566Z"
    },
    "papermill": {
     "duration": 1.376019,
     "end_time": "2021-03-10T01:44:36.337260",
     "exception": false,
     "start_time": "2021-03-10T01:44:34.961241",
     "status": "completed"
    },
    "tags": []
   },
   "outputs": [],
   "source": [
    "#hide\n",
    "from scripts.read_data import read_api\n",
    "from IPython.display import HTML\n",
    "import plotly.graph_objects as go\n"
   ]
  },
  {
   "cell_type": "code",
   "execution_count": 3,
   "id": "light-crazy",
   "metadata": {
    "execution": {
     "iopub.execute_input": "2021-03-10T01:44:36.367998Z",
     "iopub.status.busy": "2021-03-10T01:44:36.367336Z",
     "iopub.status.idle": "2021-03-10T01:44:36.389879Z",
     "shell.execute_reply": "2021-03-10T01:44:36.389325Z"
    },
    "papermill": {
     "duration": 0.039308,
     "end_time": "2021-03-10T01:44:36.390037",
     "exception": false,
     "start_time": "2021-03-10T01:44:36.350729",
     "status": "completed"
    },
    "tags": []
   },
   "outputs": [],
   "source": [
    "#hide\n",
    "### ICO koreliacija"
   ]
  },
  {
   "cell_type": "code",
   "execution_count": 4,
   "id": "likely-bahrain",
   "metadata": {
    "execution": {
     "iopub.execute_input": "2021-03-10T01:44:36.420707Z",
     "iopub.status.busy": "2021-03-10T01:44:36.420070Z",
     "iopub.status.idle": "2021-03-10T01:44:37.354846Z",
     "shell.execute_reply": "2021-03-10T01:44:37.354144Z"
    },
    "papermill": {
     "duration": 0.951689,
     "end_time": "2021-03-10T01:44:37.355010",
     "exception": false,
     "start_time": "2021-03-10T01:44:36.403321",
     "status": "completed"
    },
    "tags": []
   },
   "outputs": [],
   "source": [
    "#hide\n",
    "import matplotlib.pyplot as plt\n",
    "import numpy as np\n",
    "import pandas as pd\n",
    "import seaborn as sns\n",
    "import matplotlib.pyplot as plt \n",
    "import matplotlib.dates as mdates\n",
    "import matplotlib.pyplot as plt"
   ]
  },
  {
   "cell_type": "code",
   "execution_count": 5,
   "id": "superior-blanket",
   "metadata": {
    "execution": {
     "iopub.execute_input": "2021-03-10T01:44:37.388846Z",
     "iopub.status.busy": "2021-03-10T01:44:37.386884Z",
     "iopub.status.idle": "2021-03-10T01:44:48.075169Z",
     "shell.execute_reply": "2021-03-10T01:44:48.074016Z"
    },
    "papermill": {
     "duration": 10.706608,
     "end_time": "2021-03-10T01:44:48.075315",
     "exception": false,
     "start_time": "2021-03-10T01:44:37.368707",
     "status": "completed"
    },
    "tags": []
   },
   "outputs": [
    {
     "name": "stderr",
     "output_type": "stream",
     "text": [
      "/home/runner/work/corr-app/corr-app/_notebooks/scripts/read_data.py:187: SettingWithCopyWarning:\n",
      "\n",
      "\n",
      "A value is trying to be set on a copy of a slice from a DataFrame.\n",
      "Try using .loc[row_indexer,col_indexer] = value instead\n",
      "\n",
      "See the caveats in the documentation: https://pandas.pydata.org/pandas-docs/stable/user_guide/indexing.html#returning-a-view-versus-a-copy\n",
      "\n"
     ]
    },
    {
     "name": "stderr",
     "output_type": "stream",
     "text": [
      "/home/runner/work/corr-app/corr-app/_notebooks/scripts/read_data.py:215: SettingWithCopyWarning:\n",
      "\n",
      "\n",
      "A value is trying to be set on a copy of a slice from a DataFrame.\n",
      "Try using .loc[row_indexer,col_indexer] = value instead\n",
      "\n",
      "See the caveats in the documentation: https://pandas.pydata.org/pandas-docs/stable/user_guide/indexing.html#returning-a-view-versus-a-copy\n",
      "\n"
     ]
    }
   ],
   "source": [
    "#hide\n",
    "df_all = read_api()\n",
    "#df_all = df_all.drop(['SP500', 'XAU', 'ETH', 'BTC'], axis=1)\n",
    "\n"
   ]
  },
  {
   "cell_type": "code",
   "execution_count": 6,
   "id": "mature-alert",
   "metadata": {
    "execution": {
     "iopub.execute_input": "2021-03-10T01:44:48.106850Z",
     "iopub.status.busy": "2021-03-10T01:44:48.106207Z",
     "iopub.status.idle": "2021-03-10T01:44:48.135190Z",
     "shell.execute_reply": "2021-03-10T01:44:48.134687Z"
    },
    "papermill": {
     "duration": 0.045594,
     "end_time": "2021-03-10T01:44:48.135298",
     "exception": false,
     "start_time": "2021-03-10T01:44:48.089704",
     "status": "completed"
    },
    "tags": []
   },
   "outputs": [],
   "source": [
    "#hide_input\n",
    "sum_corr = df_all.corr().sum().sort_values(ascending=True).index.values\n",
    "#df_all[sum_corr].corr()"
   ]
  },
  {
   "cell_type": "markdown",
   "id": "complex-syndicate",
   "metadata": {
    "papermill": {
     "duration": 0.018166,
     "end_time": "2021-03-10T01:44:48.165884",
     "exception": false,
     "start_time": "2021-03-10T01:44:48.147718",
     "status": "completed"
    },
    "tags": []
   },
   "source": [
    "## Išplėstinė koreliacijų matrica. "
   ]
  },
  {
   "cell_type": "code",
   "execution_count": 7,
   "id": "atomic-omaha",
   "metadata": {
    "execution": {
     "iopub.execute_input": "2021-03-10T01:44:48.198906Z",
     "iopub.status.busy": "2021-03-10T01:44:48.198256Z",
     "iopub.status.idle": "2021-03-10T01:44:49.642652Z",
     "shell.execute_reply": "2021-03-10T01:44:49.642093Z"
    },
    "papermill": {
     "duration": 1.462994,
     "end_time": "2021-03-10T01:44:49.642773",
     "exception": false,
     "start_time": "2021-03-10T01:44:48.179779",
     "status": "completed"
    },
    "tags": []
   },
   "outputs": [
    {
     "data": {
      "image/png": "[encoded data removed]",
      "text/plain": [
       "<Figure size 1080x792 with 2 Axes>"
      ]
     },
     "metadata": {
      "needs_background": "light"
     },
     "output_type": "display_data"
    }
   ],
   "source": [
    "#hide_input\n",
    "plt.figure(figsize=(15, 11))\n",
    "sns.heatmap(df_all[sum_corr].corr(), annot=True, cmap=\"cubehelix\") \n",
    "sns.set(font_scale=1.25)\n",
    "plt.savefig('corr_matrix.png', format='eps')"
   ]
  },
  {
   "cell_type": "code",
   "execution_count": 8,
   "id": "arbitrary-sullivan",
   "metadata": {
    "execution": {
     "iopub.execute_input": "2021-03-10T01:44:49.679297Z",
     "iopub.status.busy": "2021-03-10T01:44:49.678744Z",
     "iopub.status.idle": "2021-03-10T01:44:49.700196Z",
     "shell.execute_reply": "2021-03-10T01:44:49.700634Z"
    },
    "papermill": {
     "duration": 0.043108,
     "end_time": "2021-03-10T01:44:49.700764",
     "exception": false,
     "start_time": "2021-03-10T01:44:49.657656",
     "status": "completed"
    },
    "tags": []
   },
   "outputs": [],
   "source": [
    "#hide\n",
    "#df_all_mrk = read_api()"
   ]
  },
  {
   "cell_type": "code",
   "execution_count": 9,
   "id": "delayed-adapter",
   "metadata": {
    "execution": {
     "iopub.execute_input": "2021-03-10T01:44:49.738658Z",
     "iopub.status.busy": "2021-03-10T01:44:49.737995Z",
     "iopub.status.idle": "2021-03-10T01:44:49.763847Z",
     "shell.execute_reply": "2021-03-10T01:44:49.764448Z"
    },
    "papermill": {
     "duration": 0.049259,
     "end_time": "2021-03-10T01:44:49.764597",
     "exception": false,
     "start_time": "2021-03-10T01:44:49.715338",
     "status": "completed"
    },
    "tags": []
   },
   "outputs": [],
   "source": [
    "#hide\n",
    "#Koreliacijų koeficientai"
   ]
  },
  {
   "cell_type": "code",
   "execution_count": 10,
   "id": "seeing-celebration",
   "metadata": {
    "execution": {
     "iopub.execute_input": "2021-03-10T01:44:49.800739Z",
     "iopub.status.busy": "2021-03-10T01:44:49.799228Z",
     "iopub.status.idle": "2021-03-10T01:44:49.825136Z",
     "shell.execute_reply": "2021-03-10T01:44:49.824622Z"
    },
    "papermill": {
     "duration": 0.044603,
     "end_time": "2021-03-10T01:44:49.825256",
     "exception": false,
     "start_time": "2021-03-10T01:44:49.780653",
     "status": "completed"
    },
    "tags": []
   },
   "outputs": [],
   "source": [
    "#hide_input\n",
    "#sum_corr = df_all_mrk.corr().sum().sort_values(ascending=True).index.values\n",
    "#df_all_mrk[sum_corr].corr()"
   ]
  },
  {
   "cell_type": "code",
   "execution_count": 11,
   "id": "other-painting",
   "metadata": {
    "execution": {
     "iopub.execute_input": "2021-03-10T01:44:49.862941Z",
     "iopub.status.busy": "2021-03-10T01:44:49.860620Z",
     "iopub.status.idle": "2021-03-10T01:44:49.884501Z",
     "shell.execute_reply": "2021-03-10T01:44:49.884941Z"
    },
    "papermill": {
     "duration": 0.044921,
     "end_time": "2021-03-10T01:44:49.885112",
     "exception": false,
     "start_time": "2021-03-10T01:44:49.840191",
     "status": "completed"
    },
    "tags": []
   },
   "outputs": [],
   "source": [
    "#hide\n",
    "#Koreliacijos matrica. "
   ]
  },
  {
   "cell_type": "code",
   "execution_count": 12,
   "id": "modular-magnitude",
   "metadata": {
    "execution": {
     "iopub.execute_input": "2021-03-10T01:44:49.919514Z",
     "iopub.status.busy": "2021-03-10T01:44:49.918920Z",
     "iopub.status.idle": "2021-03-10T01:44:49.942165Z",
     "shell.execute_reply": "2021-03-10T01:44:49.941596Z"
    },
    "papermill": {
     "duration": 0.041188,
     "end_time": "2021-03-10T01:44:49.942300",
     "exception": false,
     "start_time": "2021-03-10T01:44:49.901112",
     "status": "completed"
    },
    "tags": []
   },
   "outputs": [],
   "source": [
    "#hide_input\n",
    "#plt.figure(figsize=(15, 8))\n",
    "#sns.heatmap(df_all_mrk[sum_corr].corr(), annot=True, cmap=\"BrBG\");\n",
    "#plt.savefig('corr_matrix_all.eps', format='eps')"
   ]
  },
  {
   "cell_type": "code",
   "execution_count": null,
   "id": "original-senator",
   "metadata": {
    "papermill": {
     "duration": 0.015457,
     "end_time": "2021-03-10T01:44:49.972556",
     "exception": false,
     "start_time": "2021-03-10T01:44:49.957099",
     "status": "completed"
    },
    "tags": []
   },
   "outputs": [],
   "source": []
  },
  {
   "cell_type": "code",
   "execution_count": null,
   "id": "saving-secretariat",
   "metadata": {
    "papermill": {
     "duration": 0.015586,
     "end_time": "2021-03-10T01:44:50.003723",
     "exception": false,
     "start_time": "2021-03-10T01:44:49.988137",
     "status": "completed"
    },
    "tags": []
   },
   "outputs": [],
   "source": []
  }
 ],
 "metadata": {
  "kernelspec": {
   "display_name": "Python 3",
   "language": "python",
   "name": "python3"
  },
  "language_info": {
   "codemirror_mode": {
    "name": "ipython",
    "version": 3
   },
   "file_extension": ".py",
   "mimetype": "text/x-python",
   "name": "python",
   "nbconvert_exporter": "python",
   "pygments_lexer": "ipython3",
   "version": "3.6.13"
  },
  "papermill": {
   "default_parameters": {},
   "duration": 16.828081,
   "end_time": "2021-03-10T01:44:50.533752",
   "environment_variables": {},
   "exception": null,
   "input_path": "App-Correlation_charts.ipynb",
   "output_path": "App-Correlation_charts.ipynb",
   "parameters": {},
   "start_time": "2021-03-10T01:44:33.705671",
   "version": "2.2.2"
  }
 },
 "nbformat": 4,
 "nbformat_minor": 5
}