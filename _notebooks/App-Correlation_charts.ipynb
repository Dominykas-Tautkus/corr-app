{
 "cells": [
  {
   "cell_type": "markdown",
   "id": "touched-facility",
   "metadata": {
    "papermill": {
     "duration": 0.017763,
     "end_time": "2021-06-23T01:49:30.033838",
     "exception": false,
     "start_time": "2021-06-23T01:49:30.016075",
     "status": "completed"
    },
    "tags": []
   },
   "source": [
    "# Koreliacijų matrica\n",
    "> Išplėstinė koreliacijų matrica. \n",
    "\n",
    "- toc: true \n",
    "- badges: true\n",
    "- comments: false\n",
    "- categories: [Dominykas Tautkus]\n",
    "- image: images/matrix.png"
   ]
  },
  {
   "cell_type": "code",
   "execution_count": null,
   "id": "premium-weekend",
   "metadata": {
    "papermill": {
     "duration": 0.01459,
     "end_time": "2021-06-23T01:49:30.062720",
     "exception": false,
     "start_time": "2021-06-23T01:49:30.048130",
     "status": "completed"
    },
    "tags": []
   },
   "outputs": [],
   "source": []
  },
  {
   "cell_type": "code",
   "execution_count": 1,
   "id": "vertical-rebate",
   "metadata": {
    "execution": {
     "iopub.execute_input": "2021-06-23T01:49:30.108846Z",
     "iopub.status.busy": "2021-06-23T01:49:30.108048Z",
     "iopub.status.idle": "2021-06-23T01:49:30.117042Z",
     "shell.execute_reply": "2021-06-23T01:49:30.117692Z"
    },
    "papermill": {
     "duration": 0.040545,
     "end_time": "2021-06-23T01:49:30.117868",
     "exception": false,
     "start_time": "2021-06-23T01:49:30.077323",
     "status": "completed"
    },
    "tags": []
   },
   "outputs": [],
   "source": [
    "#hide\n",
    "%load_ext autoreload\n",
    "%autoreload 2"
   ]
  },
  {
   "cell_type": "code",
   "execution_count": 2,
   "id": "overall-advancement",
   "metadata": {
    "execution": {
     "iopub.execute_input": "2021-06-23T01:49:30.149993Z",
     "iopub.status.busy": "2021-06-23T01:49:30.149333Z",
     "iopub.status.idle": "2021-06-23T01:49:31.530129Z",
     "shell.execute_reply": "2021-06-23T01:49:31.530670Z"
    },
    "papermill": {
     "duration": 1.399249,
     "end_time": "2021-06-23T01:49:31.530866",
     "exception": false,
     "start_time": "2021-06-23T01:49:30.131617",
     "status": "completed"
    },
    "tags": []
   },
   "outputs": [],
   "source": [
    "#hide\n",
    "from scripts.read_data import read_api\n",
    "from IPython.display import HTML\n",
    "import plotly.graph_objects as go\n"
   ]
  },
  {
   "cell_type": "code",
   "execution_count": 3,
   "id": "light-crazy",
   "metadata": {
    "execution": {
     "iopub.execute_input": "2021-06-23T01:49:31.565571Z",
     "iopub.status.busy": "2021-06-23T01:49:31.564007Z",
     "iopub.status.idle": "2021-06-23T01:49:31.587269Z",
     "shell.execute_reply": "2021-06-23T01:49:31.586561Z"
    },
    "papermill": {
     "duration": 0.042845,
     "end_time": "2021-06-23T01:49:31.587413",
     "exception": false,
     "start_time": "2021-06-23T01:49:31.544568",
     "status": "completed"
    },
    "tags": []
   },
   "outputs": [],
   "source": [
    "#hide\n",
    "### ICO koreliacija"
   ]
  },
  {
   "cell_type": "code",
   "execution_count": 4,
   "id": "likely-bahrain",
   "metadata": {
    "execution": {
     "iopub.execute_input": "2021-06-23T01:49:31.622486Z",
     "iopub.status.busy": "2021-06-23T01:49:31.621905Z",
     "iopub.status.idle": "2021-06-23T01:49:32.580938Z",
     "shell.execute_reply": "2021-06-23T01:49:32.581609Z"
    },
    "papermill": {
     "duration": 0.981916,
     "end_time": "2021-06-23T01:49:32.581785",
     "exception": false,
     "start_time": "2021-06-23T01:49:31.599869",
     "status": "completed"
    },
    "tags": []
   },
   "outputs": [],
   "source": [
    "#hide\n",
    "import matplotlib.pyplot as plt\n",
    "import numpy as np\n",
    "import pandas as pd\n",
    "import seaborn as sns\n",
    "import matplotlib.pyplot as plt \n",
    "import matplotlib.dates as mdates\n",
    "import matplotlib.pyplot as plt"
   ]
  },
  {
   "cell_type": "code",
   "execution_count": 5,
   "id": "superior-blanket",
   "metadata": {
    "execution": {
     "iopub.execute_input": "2021-06-23T01:49:32.614629Z",
     "iopub.status.busy": "2021-06-23T01:49:32.613950Z",
     "iopub.status.idle": "2021-06-23T01:49:45.533509Z",
     "shell.execute_reply": "2021-06-23T01:49:45.532889Z"
    },
    "papermill": {
     "duration": 12.938126,
     "end_time": "2021-06-23T01:49:45.533659",
     "exception": false,
     "start_time": "2021-06-23T01:49:32.595533",
     "status": "completed"
    },
    "tags": []
   },
   "outputs": [
    {
     "name": "stderr",
     "output_type": "stream",
     "text": [
      "/home/runner/work/corr-app/corr-app/_notebooks/scripts/read_data.py:187: SettingWithCopyWarning:\n",
      "\n",
      "\n",
      "A value is trying to be set on a copy of a slice from a DataFrame.\n",
      "Try using .loc[row_indexer,col_indexer] = value instead\n",
      "\n",
      "See the caveats in the documentation: https://pandas.pydata.org/pandas-docs/stable/user_guide/indexing.html#returning-a-view-versus-a-copy\n",
      "\n"
     ]
    },
    {
     "name": "stderr",
     "output_type": "stream",
     "text": [
      "/home/runner/work/corr-app/corr-app/_notebooks/scripts/read_data.py:215: SettingWithCopyWarning:\n",
      "\n",
      "\n",
      "A value is trying to be set on a copy of a slice from a DataFrame.\n",
      "Try using .loc[row_indexer,col_indexer] = value instead\n",
      "\n",
      "See the caveats in the documentation: https://pandas.pydata.org/pandas-docs/stable/user_guide/indexing.html#returning-a-view-versus-a-copy\n",
      "\n"
     ]
    }
   ],
   "source": [
    "#hide\n",
    "df_all = read_api()\n",
    "#df_all = df_all.drop(['SP500', 'XAU', 'ETH', 'BTC'], axis=1)\n",
    "\n"
   ]
  },
  {
   "cell_type": "code",
   "execution_count": 6,
   "id": "mature-alert",
   "metadata": {
    "execution": {
     "iopub.execute_input": "2021-06-23T01:49:45.569384Z",
     "iopub.status.busy": "2021-06-23T01:49:45.568683Z",
     "iopub.status.idle": "2021-06-23T01:49:45.598083Z",
     "shell.execute_reply": "2021-06-23T01:49:45.597380Z"
    },
    "papermill": {
     "duration": 0.050183,
     "end_time": "2021-06-23T01:49:45.598201",
     "exception": false,
     "start_time": "2021-06-23T01:49:45.548018",
     "status": "completed"
    },
    "tags": []
   },
   "outputs": [],
   "source": [
    "#hide_input\n",
    "sum_corr = df_all.corr().sum().sort_values(ascending=True).index.values\n",
    "#df_all[sum_corr].corr()"
   ]
  },
  {
   "cell_type": "markdown",
   "id": "complex-syndicate",
   "metadata": {
    "papermill": {
     "duration": 0.018354,
     "end_time": "2021-06-23T01:49:45.632528",
     "exception": false,
     "start_time": "2021-06-23T01:49:45.614174",
     "status": "completed"
    },
    "tags": []
   },
   "source": [
    "## Išplėstinė koreliacijų matrica. "
   ]
  },
  {
   "cell_type": "code",
   "execution_count": 7,
   "id": "atomic-omaha",
   "metadata": {
    "execution": {
     "iopub.execute_input": "2021-06-23T01:49:45.668272Z",
     "iopub.status.busy": "2021-06-23T01:49:45.667610Z",
     "iopub.status.idle": "2021-06-23T01:49:47.156327Z",
     "shell.execute_reply": "2021-06-23T01:49:47.155658Z"
    },
    "papermill": {
     "duration": 1.509349,
     "end_time": "2021-06-23T01:49:47.156471",
     "exception": false,
     "start_time": "2021-06-23T01:49:45.647122",
     "status": "completed"
    },
    "tags": []
   },
   "outputs": [
    {
     "data": {
      "image/png": "[encoded data removed]",
      "text/plain": [
       "<Figure size 1080x792 with 2 Axes>"
      ]
     },
     "metadata": {
      "needs_background": "light"
     },
     "output_type": "display_data"
    }
   ],
   "source": [
    "#hide_input\n",
    "plt.figure(figsize=(15, 11))\n",
    "sns.heatmap(df_all[sum_corr].corr(), annot=True, cmap=\"cubehelix\") \n",
    "sns.set(font_scale=1.25)\n",
    "plt.savefig('corr_matrix.png', format='eps')"
   ]
  },
  {
   "cell_type": "code",
   "execution_count": 8,
   "id": "arbitrary-sullivan",
   "metadata": {
    "execution": {
     "iopub.execute_input": "2021-06-23T01:49:47.193146Z",
     "iopub.status.busy": "2021-06-23T01:49:47.192409Z",
     "iopub.status.idle": "2021-06-23T01:49:47.221579Z",
     "shell.execute_reply": "2021-06-23T01:49:47.221095Z"
    },
    "papermill": {
     "duration": 0.048421,
     "end_time": "2021-06-23T01:49:47.221705",
     "exception": false,
     "start_time": "2021-06-23T01:49:47.173284",
     "status": "completed"
    },
    "tags": []
   },
   "outputs": [],
   "source": [
    "#hide\n",
    "#df_all_mrk = read_api()"
   ]
  },
  {
   "cell_type": "code",
   "execution_count": 9,
   "id": "delayed-adapter",
   "metadata": {
    "execution": {
     "iopub.execute_input": "2021-06-23T01:49:47.258489Z",
     "iopub.status.busy": "2021-06-23T01:49:47.257923Z",
     "iopub.status.idle": "2021-06-23T01:49:47.285568Z",
     "shell.execute_reply": "2021-06-23T01:49:47.286097Z"
    },
    "papermill": {
     "duration": 0.048756,
     "end_time": "2021-06-23T01:49:47.286311",
     "exception": false,
     "start_time": "2021-06-23T01:49:47.237555",
     "status": "completed"
    },
    "tags": []
   },
   "outputs": [],
   "source": [
    "#hide\n",
    "#Koreliacijų koeficientai"
   ]
  },
  {
   "cell_type": "code",
   "execution_count": 10,
   "id": "seeing-celebration",
   "metadata": {
    "execution": {
     "iopub.execute_input": "2021-06-23T01:49:47.326630Z",
     "iopub.status.busy": "2021-06-23T01:49:47.325981Z",
     "iopub.status.idle": "2021-06-23T01:49:47.352590Z",
     "shell.execute_reply": "2021-06-23T01:49:47.352067Z"
    },
    "papermill": {
     "duration": 0.049124,
     "end_time": "2021-06-23T01:49:47.352731",
     "exception": false,
     "start_time": "2021-06-23T01:49:47.303607",
     "status": "completed"
    },
    "tags": []
   },
   "outputs": [],
   "source": [
    "#hide_input\n",
    "#sum_corr = df_all_mrk.corr().sum().sort_values(ascending=True).index.values\n",
    "#df_all_mrk[sum_corr].corr()"
   ]
  },
  {
   "cell_type": "code",
   "execution_count": 11,
   "id": "other-painting",
   "metadata": {
    "execution": {
     "iopub.execute_input": "2021-06-23T01:49:47.392523Z",
     "iopub.status.busy": "2021-06-23T01:49:47.391037Z",
     "iopub.status.idle": "2021-06-23T01:49:47.416405Z",
     "shell.execute_reply": "2021-06-23T01:49:47.415931Z"
    },
    "papermill": {
     "duration": 0.045556,
     "end_time": "2021-06-23T01:49:47.416528",
     "exception": false,
     "start_time": "2021-06-23T01:49:47.370972",
     "status": "completed"
    },
    "tags": []
   },
   "outputs": [],
   "source": [
    "#hide\n",
    "#Koreliacijos matrica. "
   ]
  },
  {
   "cell_type": "code",
   "execution_count": 12,
   "id": "modular-magnitude",
   "metadata": {
    "execution": {
     "iopub.execute_input": "2021-06-23T01:49:47.452330Z",
     "iopub.status.busy": "2021-06-23T01:49:47.451651Z",
     "iopub.status.idle": "2021-06-23T01:49:47.479379Z",
     "shell.execute_reply": "2021-06-23T01:49:47.478876Z"
    },
    "papermill": {
     "duration": 0.046897,
     "end_time": "2021-06-23T01:49:47.479495",
     "exception": false,
     "start_time": "2021-06-23T01:49:47.432598",
     "status": "completed"
    },
    "tags": []
   },
   "outputs": [],
   "source": [
    "#hide_input\n",
    "#plt.figure(figsize=(15, 8))\n",
    "#sns.heatmap(df_all_mrk[sum_corr].corr(), annot=True, cmap=\"BrBG\");\n",
    "#plt.savefig('corr_matrix_all.eps', format='eps')"
   ]
  },
  {
   "cell_type": "code",
   "execution_count": null,
   "id": "original-senator",
   "metadata": {
    "papermill": {
     "duration": 0.015775,
     "end_time": "2021-06-23T01:49:47.512621",
     "exception": false,
     "start_time": "2021-06-23T01:49:47.496846",
     "status": "completed"
    },
    "tags": []
   },
   "outputs": [],
   "source": []
  },
  {
   "cell_type": "code",
   "execution_count": null,
   "id": "saving-secretariat",
   "metadata": {
    "papermill": {
     "duration": 0.015228,
     "end_time": "2021-06-23T01:49:47.543707",
     "exception": false,
     "start_time": "2021-06-23T01:49:47.528479",
     "status": "completed"
    },
    "tags": []
   },
   "outputs": [],
   "source": []
  }
 ],
 "metadata": {
  "kernelspec": {
   "display_name": "Python 3",
   "language": "python",
   "name": "python3"
  },
  "language_info": {
   "codemirror_mode": {
    "name": "ipython",
    "version": 3
   },
   "file_extension": ".py",
   "mimetype": "text/x-python",
   "name": "python",
   "nbconvert_exporter": "python",
   "pygments_lexer": "ipython3",
   "version": "3.6.13"
  },
  "papermill": {
   "default_parameters": {},
   "duration": 19.198044,
   "end_time": "2021-06-23T01:49:48.069581",
   "environment_variables": {},
   "exception": null,
   "input_path": "App-Correlation_charts.ipynb",
   "output_path": "App-Correlation_charts.ipynb",
   "parameters": {},
   "start_time": "2021-06-23T01:49:28.871537",
   "version": "2.2.2"
  }
 },
 "nbformat": 4,
 "nbformat_minor": 5
}