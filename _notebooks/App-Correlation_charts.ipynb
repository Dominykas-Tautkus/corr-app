{
 "cells": [
  {
   "cell_type": "markdown",
   "id": "touched-facility",
   "metadata": {
    "papermill": {
     "duration": 0.034944,
     "end_time": "2021-06-21T02:08:46.190322",
     "exception": false,
     "start_time": "2021-06-21T02:08:46.155378",
     "status": "completed"
    },
    "tags": []
   },
   "source": [
    "# Koreliacijų matrica\n",
    "> Išplėstinė koreliacijų matrica. \n",
    "\n",
    "- toc: true \n",
    "- badges: true\n",
    "- comments: false\n",
    "- categories: [Dominykas Tautkus]\n",
    "- image: images/matrix.png"
   ]
  },
  {
   "cell_type": "code",
   "execution_count": null,
   "id": "premium-weekend",
   "metadata": {
    "papermill": {
     "duration": 0.016774,
     "end_time": "2021-06-21T02:08:46.297020",
     "exception": false,
     "start_time": "2021-06-21T02:08:46.280246",
     "status": "completed"
    },
    "tags": []
   },
   "outputs": [],
   "source": []
  },
  {
   "cell_type": "code",
   "execution_count": 1,
   "id": "vertical-rebate",
   "metadata": {
    "execution": {
     "iopub.execute_input": "2021-06-21T02:08:46.358261Z",
     "iopub.status.busy": "2021-06-21T02:08:46.357541Z",
     "iopub.status.idle": "2021-06-21T02:08:46.371713Z",
     "shell.execute_reply": "2021-06-21T02:08:46.371125Z"
    },
    "papermill": {
     "duration": 0.041922,
     "end_time": "2021-06-21T02:08:46.371859",
     "exception": false,
     "start_time": "2021-06-21T02:08:46.329937",
     "status": "completed"
    },
    "tags": []
   },
   "outputs": [],
   "source": [
    "#hide\n",
    "%load_ext autoreload\n",
    "%autoreload 2"
   ]
  },
  {
   "cell_type": "code",
   "execution_count": 2,
   "id": "overall-advancement",
   "metadata": {
    "execution": {
     "iopub.execute_input": "2021-06-21T02:08:46.532825Z",
     "iopub.status.busy": "2021-06-21T02:08:46.532058Z",
     "iopub.status.idle": "2021-06-21T02:08:48.284938Z",
     "shell.execute_reply": "2021-06-21T02:08:48.285476Z"
    },
    "papermill": {
     "duration": 1.896864,
     "end_time": "2021-06-21T02:08:48.285637",
     "exception": false,
     "start_time": "2021-06-21T02:08:46.388773",
     "status": "completed"
    },
    "tags": []
   },
   "outputs": [],
   "source": [
    "#hide\n",
    "from scripts.read_data import read_api\n",
    "from IPython.display import HTML\n",
    "import plotly.graph_objects as go\n"
   ]
  },
  {
   "cell_type": "code",
   "execution_count": 3,
   "id": "light-crazy",
   "metadata": {
    "execution": {
     "iopub.execute_input": "2021-06-21T02:08:48.317748Z",
     "iopub.status.busy": "2021-06-21T02:08:48.317109Z",
     "iopub.status.idle": "2021-06-21T02:08:48.342499Z",
     "shell.execute_reply": "2021-06-21T02:08:48.341775Z"
    },
    "papermill": {
     "duration": 0.042657,
     "end_time": "2021-06-21T02:08:48.342633",
     "exception": false,
     "start_time": "2021-06-21T02:08:48.299976",
     "status": "completed"
    },
    "tags": []
   },
   "outputs": [],
   "source": [
    "#hide\n",
    "### ICO koreliacija"
   ]
  },
  {
   "cell_type": "code",
   "execution_count": 4,
   "id": "likely-bahrain",
   "metadata": {
    "execution": {
     "iopub.execute_input": "2021-06-21T02:08:48.377854Z",
     "iopub.status.busy": "2021-06-21T02:08:48.377212Z",
     "iopub.status.idle": "2021-06-21T02:08:49.352234Z",
     "shell.execute_reply": "2021-06-21T02:08:49.351658Z"
    },
    "papermill": {
     "duration": 0.995374,
     "end_time": "2021-06-21T02:08:49.352371",
     "exception": false,
     "start_time": "2021-06-21T02:08:48.356997",
     "status": "completed"
    },
    "tags": []
   },
   "outputs": [],
   "source": [
    "#hide\n",
    "import matplotlib.pyplot as plt\n",
    "import numpy as np\n",
    "import pandas as pd\n",
    "import seaborn as sns\n",
    "import matplotlib.pyplot as plt \n",
    "import matplotlib.dates as mdates\n",
    "import matplotlib.pyplot as plt"
   ]
  },
  {
   "cell_type": "code",
   "execution_count": 5,
   "id": "superior-blanket",
   "metadata": {
    "execution": {
     "iopub.execute_input": "2021-06-21T02:08:49.386003Z",
     "iopub.status.busy": "2021-06-21T02:08:49.385367Z",
     "iopub.status.idle": "2021-06-21T02:09:02.570254Z",
     "shell.execute_reply": "2021-06-21T02:09:02.571067Z"
    },
    "papermill": {
     "duration": 13.204953,
     "end_time": "2021-06-21T02:09:02.571233",
     "exception": false,
     "start_time": "2021-06-21T02:08:49.366280",
     "status": "completed"
    },
    "tags": []
   },
   "outputs": [
    {
     "name": "stderr",
     "output_type": "stream",
     "text": [
      "/home/runner/work/corr-app/corr-app/_notebooks/scripts/read_data.py:187: SettingWithCopyWarning:\n",
      "\n",
      "\n",
      "A value is trying to be set on a copy of a slice from a DataFrame.\n",
      "Try using .loc[row_indexer,col_indexer] = value instead\n",
      "\n",
      "See the caveats in the documentation: https://pandas.pydata.org/pandas-docs/stable/user_guide/indexing.html#returning-a-view-versus-a-copy\n",
      "\n"
     ]
    },
    {
     "name": "stderr",
     "output_type": "stream",
     "text": [
      "/home/runner/work/corr-app/corr-app/_notebooks/scripts/read_data.py:215: SettingWithCopyWarning:\n",
      "\n",
      "\n",
      "A value is trying to be set on a copy of a slice from a DataFrame.\n",
      "Try using .loc[row_indexer,col_indexer] = value instead\n",
      "\n",
      "See the caveats in the documentation: https://pandas.pydata.org/pandas-docs/stable/user_guide/indexing.html#returning-a-view-versus-a-copy\n",
      "\n"
     ]
    }
   ],
   "source": [
    "#hide\n",
    "df_all = read_api()\n",
    "#df_all = df_all.drop(['SP500', 'XAU', 'ETH', 'BTC'], axis=1)\n",
    "\n"
   ]
  },
  {
   "cell_type": "code",
   "execution_count": 6,
   "id": "mature-alert",
   "metadata": {
    "execution": {
     "iopub.execute_input": "2021-06-21T02:09:02.606367Z",
     "iopub.status.busy": "2021-06-21T02:09:02.605740Z",
     "iopub.status.idle": "2021-06-21T02:09:02.638058Z",
     "shell.execute_reply": "2021-06-21T02:09:02.637509Z"
    },
    "papermill": {
     "duration": 0.051899,
     "end_time": "2021-06-21T02:09:02.638190",
     "exception": false,
     "start_time": "2021-06-21T02:09:02.586291",
     "status": "completed"
    },
    "tags": []
   },
   "outputs": [],
   "source": [
    "#hide_input\n",
    "sum_corr = df_all.corr().sum().sort_values(ascending=True).index.values\n",
    "#df_all[sum_corr].corr()"
   ]
  },
  {
   "cell_type": "markdown",
   "id": "complex-syndicate",
   "metadata": {
    "papermill": {
     "duration": 0.01391,
     "end_time": "2021-06-21T02:09:02.666887",
     "exception": false,
     "start_time": "2021-06-21T02:09:02.652977",
     "status": "completed"
    },
    "tags": []
   },
   "source": [
    "## Išplėstinė koreliacijų matrica. "
   ]
  },
  {
   "cell_type": "code",
   "execution_count": 7,
   "id": "atomic-omaha",
   "metadata": {
    "execution": {
     "iopub.execute_input": "2021-06-21T02:09:02.704188Z",
     "iopub.status.busy": "2021-06-21T02:09:02.701112Z",
     "iopub.status.idle": "2021-06-21T02:09:04.187275Z",
     "shell.execute_reply": "2021-06-21T02:09:04.187814Z"
    },
    "papermill": {
     "duration": 1.507288,
     "end_time": "2021-06-21T02:09:04.187978",
     "exception": false,
     "start_time": "2021-06-21T02:09:02.680690",
     "status": "completed"
    },
    "tags": []
   },
   "outputs": [
    {
     "data": {
      "image/png": "[encoded data removed]",
      "text/plain": [
       "<Figure size 1080x792 with 2 Axes>"
      ]
     },
     "metadata": {
      "needs_background": "light"
     },
     "output_type": "display_data"
    }
   ],
   "source": [
    "#hide_input\n",
    "plt.figure(figsize=(15, 11))\n",
    "sns.heatmap(df_all[sum_corr].corr(), annot=True, cmap=\"cubehelix\") \n",
    "sns.set(font_scale=1.25)\n",
    "plt.savefig('corr_matrix.png', format='eps')"
   ]
  },
  {
   "cell_type": "code",
   "execution_count": 8,
   "id": "arbitrary-sullivan",
   "metadata": {
    "execution": {
     "iopub.execute_input": "2021-06-21T02:09:04.234857Z",
     "iopub.status.busy": "2021-06-21T02:09:04.232641Z",
     "iopub.status.idle": "2021-06-21T02:09:04.255583Z",
     "shell.execute_reply": "2021-06-21T02:09:04.254641Z"
    },
    "papermill": {
     "duration": 0.051255,
     "end_time": "2021-06-21T02:09:04.255816",
     "exception": false,
     "start_time": "2021-06-21T02:09:04.204561",
     "status": "completed"
    },
    "tags": []
   },
   "outputs": [],
   "source": [
    "#hide\n",
    "#df_all_mrk = read_api()"
   ]
  },
  {
   "cell_type": "code",
   "execution_count": 9,
   "id": "delayed-adapter",
   "metadata": {
    "execution": {
     "iopub.execute_input": "2021-06-21T02:09:04.293880Z",
     "iopub.status.busy": "2021-06-21T02:09:04.293234Z",
     "iopub.status.idle": "2021-06-21T02:09:04.319794Z",
     "shell.execute_reply": "2021-06-21T02:09:04.320326Z"
    },
    "papermill": {
     "duration": 0.048647,
     "end_time": "2021-06-21T02:09:04.320474",
     "exception": false,
     "start_time": "2021-06-21T02:09:04.271827",
     "status": "completed"
    },
    "tags": []
   },
   "outputs": [],
   "source": [
    "#hide\n",
    "#Koreliacijų koeficientai"
   ]
  },
  {
   "cell_type": "code",
   "execution_count": 10,
   "id": "seeing-celebration",
   "metadata": {
    "execution": {
     "iopub.execute_input": "2021-06-21T02:09:04.383212Z",
     "iopub.status.busy": "2021-06-21T02:09:04.381942Z",
     "iopub.status.idle": "2021-06-21T02:09:04.395858Z",
     "shell.execute_reply": "2021-06-21T02:09:04.396761Z"
    },
    "papermill": {
     "duration": 0.059661,
     "end_time": "2021-06-21T02:09:04.396920",
     "exception": false,
     "start_time": "2021-06-21T02:09:04.337259",
     "status": "completed"
    },
    "tags": []
   },
   "outputs": [],
   "source": [
    "#hide_input\n",
    "#sum_corr = df_all_mrk.corr().sum().sort_values(ascending=True).index.values\n",
    "#df_all_mrk[sum_corr].corr()"
   ]
  },
  {
   "cell_type": "code",
   "execution_count": 11,
   "id": "other-painting",
   "metadata": {
    "execution": {
     "iopub.execute_input": "2021-06-21T02:09:04.434487Z",
     "iopub.status.busy": "2021-06-21T02:09:04.433407Z",
     "iopub.status.idle": "2021-06-21T02:09:04.462752Z",
     "shell.execute_reply": "2021-06-21T02:09:04.463659Z"
    },
    "papermill": {
     "duration": 0.050863,
     "end_time": "2021-06-21T02:09:04.463821",
     "exception": false,
     "start_time": "2021-06-21T02:09:04.412958",
     "status": "completed"
    },
    "tags": []
   },
   "outputs": [],
   "source": [
    "#hide\n",
    "#Koreliacijos matrica. "
   ]
  },
  {
   "cell_type": "code",
   "execution_count": 12,
   "id": "modular-magnitude",
   "metadata": {
    "execution": {
     "iopub.execute_input": "2021-06-21T02:09:04.516326Z",
     "iopub.status.busy": "2021-06-21T02:09:04.503719Z",
     "iopub.status.idle": "2021-06-21T02:09:04.535480Z",
     "shell.execute_reply": "2021-06-21T02:09:04.534570Z"
    },
    "papermill": {
     "duration": 0.054206,
     "end_time": "2021-06-21T02:09:04.535616",
     "exception": false,
     "start_time": "2021-06-21T02:09:04.481410",
     "status": "completed"
    },
    "tags": []
   },
   "outputs": [],
   "source": [
    "#hide_input\n",
    "#plt.figure(figsize=(15, 8))\n",
    "#sns.heatmap(df_all_mrk[sum_corr].corr(), annot=True, cmap=\"BrBG\");\n",
    "#plt.savefig('corr_matrix_all.eps', format='eps')"
   ]
  },
  {
   "cell_type": "code",
   "execution_count": null,
   "id": "original-senator",
   "metadata": {
    "papermill": {
     "duration": 0.016377,
     "end_time": "2021-06-21T02:09:04.568765",
     "exception": false,
     "start_time": "2021-06-21T02:09:04.552388",
     "status": "completed"
    },
    "tags": []
   },
   "outputs": [],
   "source": []
  },
  {
   "cell_type": "code",
   "execution_count": null,
   "id": "saving-secretariat",
   "metadata": {
    "papermill": {
     "duration": 0.01778,
     "end_time": "2021-06-21T02:09:04.602977",
     "exception": false,
     "start_time": "2021-06-21T02:09:04.585197",
     "status": "completed"
    },
    "tags": []
   },
   "outputs": [],
   "source": []
  }
 ],
 "metadata": {
  "kernelspec": {
   "display_name": "Python 3",
   "language": "python",
   "name": "python3"
  },
  "language_info": {
   "codemirror_mode": {
    "name": "ipython",
    "version": 3
   },
   "file_extension": ".py",
   "mimetype": "text/x-python",
   "name": "python",
   "nbconvert_exporter": "python",
   "pygments_lexer": "ipython3",
   "version": "3.6.13"
  },
  "papermill": {
   "default_parameters": {},
   "duration": 21.351575,
   "end_time": "2021-06-21T02:09:06.088759",
   "environment_variables": {},
   "exception": null,
   "input_path": "App-Correlation_charts.ipynb",
   "output_path": "App-Correlation_charts.ipynb",
   "parameters": {},
   "start_time": "2021-06-21T02:08:44.737184",
   "version": "2.2.2"
  }
 },
 "nbformat": 4,
 "nbformat_minor": 5
}