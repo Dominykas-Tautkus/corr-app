{
 "cells": [
  {
   "cell_type": "markdown",
   "id": "touched-facility",
   "metadata": {
    "papermill": {
     "duration": 0.019481,
     "end_time": "2021-01-30T01:55:20.229412",
     "exception": false,
     "start_time": "2021-01-30T01:55:20.209931",
     "status": "completed"
    },
    "tags": []
   },
   "source": [
    "# Koreliacijų matrica\n",
    "> Išplėstinė koreliacijų matrica. \n",
    "\n",
    "- toc: true \n",
    "- badges: true\n",
    "- comments: false\n",
    "- categories: [Dominykas Tautkus]\n",
    "- image: images/matrix.png"
   ]
  },
  {
   "cell_type": "code",
   "execution_count": null,
   "id": "premium-weekend",
   "metadata": {
    "papermill": {
     "duration": 0.011422,
     "end_time": "2021-01-30T01:55:20.253225",
     "exception": false,
     "start_time": "2021-01-30T01:55:20.241803",
     "status": "completed"
    },
    "tags": []
   },
   "outputs": [],
   "source": []
  },
  {
   "cell_type": "code",
   "execution_count": 1,
   "id": "vertical-rebate",
   "metadata": {
    "execution": {
     "iopub.execute_input": "2021-01-30T01:55:20.290634Z",
     "iopub.status.busy": "2021-01-30T01:55:20.290035Z",
     "iopub.status.idle": "2021-01-30T01:55:20.303367Z",
     "shell.execute_reply": "2021-01-30T01:55:20.302797Z"
    },
    "papermill": {
     "duration": 0.038622,
     "end_time": "2021-01-30T01:55:20.303509",
     "exception": false,
     "start_time": "2021-01-30T01:55:20.264887",
     "status": "completed"
    },
    "tags": []
   },
   "outputs": [],
   "source": [
    "#hide\n",
    "%load_ext autoreload\n",
    "%autoreload 2"
   ]
  },
  {
   "cell_type": "code",
   "execution_count": 2,
   "id": "overall-advancement",
   "metadata": {
    "execution": {
     "iopub.execute_input": "2021-01-30T01:55:20.329544Z",
     "iopub.status.busy": "2021-01-30T01:55:20.328965Z",
     "iopub.status.idle": "2021-01-30T01:55:21.613292Z",
     "shell.execute_reply": "2021-01-30T01:55:21.613915Z"
    },
    "papermill": {
     "duration": 1.299203,
     "end_time": "2021-01-30T01:55:21.614126",
     "exception": false,
     "start_time": "2021-01-30T01:55:20.314923",
     "status": "completed"
    },
    "tags": []
   },
   "outputs": [],
   "source": [
    "#hide\n",
    "from scripts.read_data import read_api\n",
    "from IPython.display import HTML\n",
    "import plotly.graph_objects as go\n"
   ]
  },
  {
   "cell_type": "code",
   "execution_count": 3,
   "id": "light-crazy",
   "metadata": {
    "execution": {
     "iopub.execute_input": "2021-01-30T01:55:21.643997Z",
     "iopub.status.busy": "2021-01-30T01:55:21.643389Z",
     "iopub.status.idle": "2021-01-30T01:55:21.666077Z",
     "shell.execute_reply": "2021-01-30T01:55:21.665407Z"
    },
    "papermill": {
     "duration": 0.038133,
     "end_time": "2021-01-30T01:55:21.666251",
     "exception": false,
     "start_time": "2021-01-30T01:55:21.628118",
     "status": "completed"
    },
    "tags": []
   },
   "outputs": [],
   "source": [
    "#hide\n",
    "### ICO koreliacija"
   ]
  },
  {
   "cell_type": "code",
   "execution_count": 4,
   "id": "likely-bahrain",
   "metadata": {
    "execution": {
     "iopub.execute_input": "2021-01-30T01:55:21.697362Z",
     "iopub.status.busy": "2021-01-30T01:55:21.696768Z",
     "iopub.status.idle": "2021-01-30T01:55:24.292132Z",
     "shell.execute_reply": "2021-01-30T01:55:24.291235Z"
    },
    "papermill": {
     "duration": 2.612557,
     "end_time": "2021-01-30T01:55:24.292364",
     "exception": false,
     "start_time": "2021-01-30T01:55:21.679807",
     "status": "completed"
    },
    "tags": []
   },
   "outputs": [],
   "source": [
    "#hide\n",
    "import matplotlib.pyplot as plt\n",
    "import numpy as np\n",
    "import pandas as pd\n",
    "import seaborn as sns\n",
    "import matplotlib.pyplot as plt \n",
    "import matplotlib.dates as mdates\n",
    "import matplotlib.pyplot as plt"
   ]
  },
  {
   "cell_type": "code",
   "execution_count": 5,
   "id": "superior-blanket",
   "metadata": {
    "execution": {
     "iopub.execute_input": "2021-01-30T01:55:24.323969Z",
     "iopub.status.busy": "2021-01-30T01:55:24.323281Z",
     "iopub.status.idle": "2021-01-30T01:55:39.791477Z",
     "shell.execute_reply": "2021-01-30T01:55:39.790862Z"
    },
    "papermill": {
     "duration": 15.48712,
     "end_time": "2021-01-30T01:55:39.791612",
     "exception": false,
     "start_time": "2021-01-30T01:55:24.304492",
     "status": "completed"
    },
    "tags": []
   },
   "outputs": [
    {
     "name": "stderr",
     "output_type": "stream",
     "text": [
      "/home/runner/work/corr-app/corr-app/_notebooks/scripts/read_data.py:187: SettingWithCopyWarning:\n",
      "\n",
      "\n",
      "A value is trying to be set on a copy of a slice from a DataFrame.\n",
      "Try using .loc[row_indexer,col_indexer] = value instead\n",
      "\n",
      "See the caveats in the documentation: https://pandas.pydata.org/pandas-docs/stable/user_guide/indexing.html#returning-a-view-versus-a-copy\n",
      "\n"
     ]
    },
    {
     "name": "stderr",
     "output_type": "stream",
     "text": [
      "/home/runner/work/corr-app/corr-app/_notebooks/scripts/read_data.py:215: SettingWithCopyWarning:\n",
      "\n",
      "\n",
      "A value is trying to be set on a copy of a slice from a DataFrame.\n",
      "Try using .loc[row_indexer,col_indexer] = value instead\n",
      "\n",
      "See the caveats in the documentation: https://pandas.pydata.org/pandas-docs/stable/user_guide/indexing.html#returning-a-view-versus-a-copy\n",
      "\n"
     ]
    }
   ],
   "source": [
    "#hide\n",
    "df_all = read_api()\n",
    "#df_all = df_all.drop(['SP500', 'XAU', 'ETH', 'BTC'], axis=1)\n",
    "\n"
   ]
  },
  {
   "cell_type": "code",
   "execution_count": 6,
   "id": "mature-alert",
   "metadata": {
    "execution": {
     "iopub.execute_input": "2021-01-30T01:55:39.821518Z",
     "iopub.status.busy": "2021-01-30T01:55:39.820919Z",
     "iopub.status.idle": "2021-01-30T01:55:39.852902Z",
     "shell.execute_reply": "2021-01-30T01:55:39.852345Z"
    },
    "papermill": {
     "duration": 0.048709,
     "end_time": "2021-01-30T01:55:39.853052",
     "exception": false,
     "start_time": "2021-01-30T01:55:39.804343",
     "status": "completed"
    },
    "tags": []
   },
   "outputs": [],
   "source": [
    "#hide_input\n",
    "sum_corr = df_all.corr().sum().sort_values(ascending=True).index.values\n",
    "#df_all[sum_corr].corr()"
   ]
  },
  {
   "cell_type": "markdown",
   "id": "complex-syndicate",
   "metadata": {
    "papermill": {
     "duration": 0.012464,
     "end_time": "2021-01-30T01:55:39.879603",
     "exception": false,
     "start_time": "2021-01-30T01:55:39.867139",
     "status": "completed"
    },
    "tags": []
   },
   "source": [
    "## Išplėstinė koreliacijų matrica. "
   ]
  },
  {
   "cell_type": "code",
   "execution_count": 7,
   "id": "atomic-omaha",
   "metadata": {
    "execution": {
     "iopub.execute_input": "2021-01-30T01:55:39.912533Z",
     "iopub.status.busy": "2021-01-30T01:55:39.911936Z",
     "iopub.status.idle": "2021-01-30T01:55:41.164111Z",
     "shell.execute_reply": "2021-01-30T01:55:41.164679Z"
    },
    "papermill": {
     "duration": 1.272703,
     "end_time": "2021-01-30T01:55:41.164842",
     "exception": false,
     "start_time": "2021-01-30T01:55:39.892139",
     "status": "completed"
    },
    "tags": []
   },
   "outputs": [
    {
     "data": {
      "image/png": "[encoded data removed]",
      "text/plain": [
       "<Figure size 1080x792 with 2 Axes>"
      ]
     },
     "metadata": {
      "needs_background": "light"
     },
     "output_type": "display_data"
    }
   ],
   "source": [
    "#hide_input\n",
    "plt.figure(figsize=(15, 11))\n",
    "sns.heatmap(df_all[sum_corr].corr(), annot=True, cmap=\"cubehelix\") \n",
    "sns.set(font_scale=1.25)\n",
    "plt.savefig('corr_matrix.png', format='eps')"
   ]
  },
  {
   "cell_type": "code",
   "execution_count": 8,
   "id": "arbitrary-sullivan",
   "metadata": {
    "execution": {
     "iopub.execute_input": "2021-01-30T01:55:41.202236Z",
     "iopub.status.busy": "2021-01-30T01:55:41.201500Z",
     "iopub.status.idle": "2021-01-30T01:55:41.228324Z",
     "shell.execute_reply": "2021-01-30T01:55:41.227802Z"
    },
    "papermill": {
     "duration": 0.048972,
     "end_time": "2021-01-30T01:55:41.228456",
     "exception": false,
     "start_time": "2021-01-30T01:55:41.179484",
     "status": "completed"
    },
    "tags": []
   },
   "outputs": [],
   "source": [
    "#hide\n",
    "#df_all_mrk = read_api()"
   ]
  },
  {
   "cell_type": "code",
   "execution_count": 9,
   "id": "delayed-adapter",
   "metadata": {
    "execution": {
     "iopub.execute_input": "2021-01-30T01:55:41.262497Z",
     "iopub.status.busy": "2021-01-30T01:55:41.261553Z",
     "iopub.status.idle": "2021-01-30T01:55:41.289652Z",
     "shell.execute_reply": "2021-01-30T01:55:41.288833Z"
    },
    "papermill": {
     "duration": 0.045584,
     "end_time": "2021-01-30T01:55:41.289821",
     "exception": false,
     "start_time": "2021-01-30T01:55:41.244237",
     "status": "completed"
    },
    "tags": []
   },
   "outputs": [],
   "source": [
    "#hide\n",
    "#Koreliacijų koeficientai"
   ]
  },
  {
   "cell_type": "code",
   "execution_count": 10,
   "id": "seeing-celebration",
   "metadata": {
    "execution": {
     "iopub.execute_input": "2021-01-30T01:55:41.325200Z",
     "iopub.status.busy": "2021-01-30T01:55:41.324638Z",
     "iopub.status.idle": "2021-01-30T01:55:41.349365Z",
     "shell.execute_reply": "2021-01-30T01:55:41.349826Z"
    },
    "papermill": {
     "duration": 0.044025,
     "end_time": "2021-01-30T01:55:41.349986",
     "exception": false,
     "start_time": "2021-01-30T01:55:41.305961",
     "status": "completed"
    },
    "tags": []
   },
   "outputs": [],
   "source": [
    "#hide_input\n",
    "#sum_corr = df_all_mrk.corr().sum().sort_values(ascending=True).index.values\n",
    "#df_all_mrk[sum_corr].corr()"
   ]
  },
  {
   "cell_type": "code",
   "execution_count": 11,
   "id": "other-painting",
   "metadata": {
    "execution": {
     "iopub.execute_input": "2021-01-30T01:55:41.382893Z",
     "iopub.status.busy": "2021-01-30T01:55:41.382344Z",
     "iopub.status.idle": "2021-01-30T01:55:41.410271Z",
     "shell.execute_reply": "2021-01-30T01:55:41.409646Z"
    },
    "papermill": {
     "duration": 0.046364,
     "end_time": "2021-01-30T01:55:41.410423",
     "exception": false,
     "start_time": "2021-01-30T01:55:41.364059",
     "status": "completed"
    },
    "tags": []
   },
   "outputs": [],
   "source": [
    "#hide\n",
    "#Koreliacijos matrica. "
   ]
  },
  {
   "cell_type": "code",
   "execution_count": 12,
   "id": "modular-magnitude",
   "metadata": {
    "execution": {
     "iopub.execute_input": "2021-01-30T01:55:41.447018Z",
     "iopub.status.busy": "2021-01-30T01:55:41.446390Z",
     "iopub.status.idle": "2021-01-30T01:55:41.473092Z",
     "shell.execute_reply": "2021-01-30T01:55:41.472373Z"
    },
    "papermill": {
     "duration": 0.04718,
     "end_time": "2021-01-30T01:55:41.473263",
     "exception": false,
     "start_time": "2021-01-30T01:55:41.426083",
     "status": "completed"
    },
    "tags": []
   },
   "outputs": [],
   "source": [
    "#hide_input\n",
    "#plt.figure(figsize=(15, 8))\n",
    "#sns.heatmap(df_all_mrk[sum_corr].corr(), annot=True, cmap=\"BrBG\");\n",
    "#plt.savefig('corr_matrix_all.eps', format='eps')"
   ]
  },
  {
   "cell_type": "code",
   "execution_count": null,
   "id": "original-senator",
   "metadata": {
    "papermill": {
     "duration": 0.014287,
     "end_time": "2021-01-30T01:55:41.502901",
     "exception": false,
     "start_time": "2021-01-30T01:55:41.488614",
     "status": "completed"
    },
    "tags": []
   },
   "outputs": [],
   "source": []
  },
  {
   "cell_type": "code",
   "execution_count": null,
   "id": "saving-secretariat",
   "metadata": {
    "papermill": {
     "duration": 0.01415,
     "end_time": "2021-01-30T01:55:41.531233",
     "exception": false,
     "start_time": "2021-01-30T01:55:41.517083",
     "status": "completed"
    },
    "tags": []
   },
   "outputs": [],
   "source": []
  }
 ],
 "metadata": {
  "kernelspec": {
   "display_name": "Python 3",
   "language": "python",
   "name": "python3"
  },
  "language_info": {
   "codemirror_mode": {
    "name": "ipython",
    "version": 3
   },
   "file_extension": ".py",
   "mimetype": "text/x-python",
   "name": "python",
   "nbconvert_exporter": "python",
   "pygments_lexer": "ipython3",
   "version": "3.6.12"
  },
  "papermill": {
   "default_parameters": {},
   "duration": 22.943018,
   "end_time": "2021-01-30T01:55:42.054450",
   "environment_variables": {},
   "exception": null,
   "input_path": "App-Correlation_charts.ipynb",
   "output_path": "App-Correlation_charts.ipynb",
   "parameters": {},
   "start_time": "2021-01-30T01:55:19.111432",
   "version": "2.2.2"
  }
 },
 "nbformat": 4,
 "nbformat_minor": 5
}