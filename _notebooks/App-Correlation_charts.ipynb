{
 "cells": [
  {
   "cell_type": "markdown",
   "id": "touched-facility",
   "metadata": {
    "papermill": {
     "duration": 0.105059,
     "end_time": "2021-03-20T01:46:29.806953",
     "exception": false,
     "start_time": "2021-03-20T01:46:29.701894",
     "status": "completed"
    },
    "tags": []
   },
   "source": [
    "# Koreliacijų matrica\n",
    "> Išplėstinė koreliacijų matrica. \n",
    "\n",
    "- toc: true \n",
    "- badges: true\n",
    "- comments: false\n",
    "- categories: [Dominykas Tautkus]\n",
    "- image: images/matrix.png"
   ]
  },
  {
   "cell_type": "code",
   "execution_count": null,
   "id": "premium-weekend",
   "metadata": {
    "papermill": {
     "duration": 0.04377,
     "end_time": "2021-03-20T01:46:29.895700",
     "exception": false,
     "start_time": "2021-03-20T01:46:29.851930",
     "status": "completed"
    },
    "tags": []
   },
   "outputs": [],
   "source": []
  },
  {
   "cell_type": "code",
   "execution_count": 1,
   "id": "vertical-rebate",
   "metadata": {
    "execution": {
     "iopub.execute_input": "2021-03-20T01:46:30.002050Z",
     "iopub.status.busy": "2021-03-20T01:46:30.001503Z",
     "iopub.status.idle": "2021-03-20T01:46:30.016520Z",
     "shell.execute_reply": "2021-03-20T01:46:30.016063Z"
    },
    "papermill": {
     "duration": 0.070901,
     "end_time": "2021-03-20T01:46:30.016646",
     "exception": false,
     "start_time": "2021-03-20T01:46:29.945745",
     "status": "completed"
    },
    "tags": []
   },
   "outputs": [],
   "source": [
    "#hide\n",
    "%load_ext autoreload\n",
    "%autoreload 2"
   ]
  },
  {
   "cell_type": "code",
   "execution_count": 2,
   "id": "overall-advancement",
   "metadata": {
    "execution": {
     "iopub.execute_input": "2021-03-20T01:46:30.201934Z",
     "iopub.status.busy": "2021-03-20T01:46:30.200934Z",
     "iopub.status.idle": "2021-03-20T01:46:32.298670Z",
     "shell.execute_reply": "2021-03-20T01:46:32.297792Z"
    },
    "papermill": {
     "duration": 2.243692,
     "end_time": "2021-03-20T01:46:32.298887",
     "exception": false,
     "start_time": "2021-03-20T01:46:30.055195",
     "status": "completed"
    },
    "tags": []
   },
   "outputs": [],
   "source": [
    "#hide\n",
    "from scripts.read_data import read_api\n",
    "from IPython.display import HTML\n",
    "import plotly.graph_objects as go\n"
   ]
  },
  {
   "cell_type": "code",
   "execution_count": 3,
   "id": "light-crazy",
   "metadata": {
    "execution": {
     "iopub.execute_input": "2021-03-20T01:46:33.001982Z",
     "iopub.status.busy": "2021-03-20T01:46:33.001021Z",
     "iopub.status.idle": "2021-03-20T01:46:33.024637Z",
     "shell.execute_reply": "2021-03-20T01:46:33.024065Z"
    },
    "papermill": {
     "duration": 0.670285,
     "end_time": "2021-03-20T01:46:33.024763",
     "exception": false,
     "start_time": "2021-03-20T01:46:32.354478",
     "status": "completed"
    },
    "tags": []
   },
   "outputs": [],
   "source": [
    "#hide\n",
    "### ICO koreliacija"
   ]
  },
  {
   "cell_type": "code",
   "execution_count": 4,
   "id": "likely-bahrain",
   "metadata": {
    "execution": {
     "iopub.execute_input": "2021-03-20T01:46:33.071869Z",
     "iopub.status.busy": "2021-03-20T01:46:33.071301Z",
     "iopub.status.idle": "2021-03-20T01:46:36.615448Z",
     "shell.execute_reply": "2021-03-20T01:46:36.614544Z"
    },
    "papermill": {
     "duration": 3.560681,
     "end_time": "2021-03-20T01:46:36.615678",
     "exception": false,
     "start_time": "2021-03-20T01:46:33.054997",
     "status": "completed"
    },
    "tags": []
   },
   "outputs": [],
   "source": [
    "#hide\n",
    "import matplotlib.pyplot as plt\n",
    "import numpy as np\n",
    "import pandas as pd\n",
    "import seaborn as sns\n",
    "import matplotlib.pyplot as plt \n",
    "import matplotlib.dates as mdates\n",
    "import matplotlib.pyplot as plt"
   ]
  },
  {
   "cell_type": "code",
   "execution_count": 5,
   "id": "superior-blanket",
   "metadata": {
    "execution": {
     "iopub.execute_input": "2021-03-20T01:46:36.643937Z",
     "iopub.status.busy": "2021-03-20T01:46:36.643385Z",
     "iopub.status.idle": "2021-03-20T01:46:47.095494Z",
     "shell.execute_reply": "2021-03-20T01:46:47.094961Z"
    },
    "papermill": {
     "duration": 10.468079,
     "end_time": "2021-03-20T01:46:47.095620",
     "exception": false,
     "start_time": "2021-03-20T01:46:36.627541",
     "status": "completed"
    },
    "tags": []
   },
   "outputs": [
    {
     "name": "stderr",
     "output_type": "stream",
     "text": [
      "/home/runner/work/corr-app/corr-app/_notebooks/scripts/read_data.py:187: SettingWithCopyWarning:\n",
      "\n",
      "\n",
      "A value is trying to be set on a copy of a slice from a DataFrame.\n",
      "Try using .loc[row_indexer,col_indexer] = value instead\n",
      "\n",
      "See the caveats in the documentation: https://pandas.pydata.org/pandas-docs/stable/user_guide/indexing.html#returning-a-view-versus-a-copy\n",
      "\n"
     ]
    },
    {
     "name": "stderr",
     "output_type": "stream",
     "text": [
      "/home/runner/work/corr-app/corr-app/_notebooks/scripts/read_data.py:215: SettingWithCopyWarning:\n",
      "\n",
      "\n",
      "A value is trying to be set on a copy of a slice from a DataFrame.\n",
      "Try using .loc[row_indexer,col_indexer] = value instead\n",
      "\n",
      "See the caveats in the documentation: https://pandas.pydata.org/pandas-docs/stable/user_guide/indexing.html#returning-a-view-versus-a-copy\n",
      "\n"
     ]
    }
   ],
   "source": [
    "#hide\n",
    "df_all = read_api()\n",
    "#df_all = df_all.drop(['SP500', 'XAU', 'ETH', 'BTC'], axis=1)\n",
    "\n"
   ]
  },
  {
   "cell_type": "code",
   "execution_count": 6,
   "id": "mature-alert",
   "metadata": {
    "execution": {
     "iopub.execute_input": "2021-03-20T01:46:47.125379Z",
     "iopub.status.busy": "2021-03-20T01:46:47.124643Z",
     "iopub.status.idle": "2021-03-20T01:46:47.152775Z",
     "shell.execute_reply": "2021-03-20T01:46:47.152058Z"
    },
    "papermill": {
     "duration": 0.0447,
     "end_time": "2021-03-20T01:46:47.152915",
     "exception": false,
     "start_time": "2021-03-20T01:46:47.108215",
     "status": "completed"
    },
    "tags": []
   },
   "outputs": [],
   "source": [
    "#hide_input\n",
    "sum_corr = df_all.corr().sum().sort_values(ascending=True).index.values\n",
    "#df_all[sum_corr].corr()"
   ]
  },
  {
   "cell_type": "markdown",
   "id": "complex-syndicate",
   "metadata": {
    "papermill": {
     "duration": 0.01212,
     "end_time": "2021-03-20T01:46:47.177190",
     "exception": false,
     "start_time": "2021-03-20T01:46:47.165070",
     "status": "completed"
    },
    "tags": []
   },
   "source": [
    "## Išplėstinė koreliacijų matrica. "
   ]
  },
  {
   "cell_type": "code",
   "execution_count": 7,
   "id": "atomic-omaha",
   "metadata": {
    "execution": {
     "iopub.execute_input": "2021-03-20T01:46:47.205148Z",
     "iopub.status.busy": "2021-03-20T01:46:47.204579Z",
     "iopub.status.idle": "2021-03-20T01:46:48.460474Z",
     "shell.execute_reply": "2021-03-20T01:46:48.459925Z"
    },
    "papermill": {
     "duration": 1.272017,
     "end_time": "2021-03-20T01:46:48.460596",
     "exception": false,
     "start_time": "2021-03-20T01:46:47.188579",
     "status": "completed"
    },
    "tags": []
   },
   "outputs": [
    {
     "data": {
      "image/png": "[encoded data removed]",
      "text/plain": [
       "<Figure size 1080x792 with 2 Axes>"
      ]
     },
     "metadata": {
      "needs_background": "light"
     },
     "output_type": "display_data"
    }
   ],
   "source": [
    "#hide_input\n",
    "plt.figure(figsize=(15, 11))\n",
    "sns.heatmap(df_all[sum_corr].corr(), annot=True, cmap=\"cubehelix\") \n",
    "sns.set(font_scale=1.25)\n",
    "plt.savefig('corr_matrix.png', format='eps')"
   ]
  },
  {
   "cell_type": "code",
   "execution_count": 8,
   "id": "arbitrary-sullivan",
   "metadata": {
    "execution": {
     "iopub.execute_input": "2021-03-20T01:46:48.495635Z",
     "iopub.status.busy": "2021-03-20T01:46:48.493095Z",
     "iopub.status.idle": "2021-03-20T01:46:48.520851Z",
     "shell.execute_reply": "2021-03-20T01:46:48.520381Z"
    },
    "papermill": {
     "duration": 0.046375,
     "end_time": "2021-03-20T01:46:48.520973",
     "exception": false,
     "start_time": "2021-03-20T01:46:48.474598",
     "status": "completed"
    },
    "tags": []
   },
   "outputs": [],
   "source": [
    "#hide\n",
    "#df_all_mrk = read_api()"
   ]
  },
  {
   "cell_type": "code",
   "execution_count": 9,
   "id": "delayed-adapter",
   "metadata": {
    "execution": {
     "iopub.execute_input": "2021-03-20T01:46:48.553033Z",
     "iopub.status.busy": "2021-03-20T01:46:48.552438Z",
     "iopub.status.idle": "2021-03-20T01:46:48.580407Z",
     "shell.execute_reply": "2021-03-20T01:46:48.579730Z"
    },
    "papermill": {
     "duration": 0.045001,
     "end_time": "2021-03-20T01:46:48.580564",
     "exception": false,
     "start_time": "2021-03-20T01:46:48.535563",
     "status": "completed"
    },
    "tags": []
   },
   "outputs": [],
   "source": [
    "#hide\n",
    "#Koreliacijų koeficientai"
   ]
  },
  {
   "cell_type": "code",
   "execution_count": 10,
   "id": "seeing-celebration",
   "metadata": {
    "execution": {
     "iopub.execute_input": "2021-03-20T01:46:48.614644Z",
     "iopub.status.busy": "2021-03-20T01:46:48.614114Z",
     "iopub.status.idle": "2021-03-20T01:46:48.639339Z",
     "shell.execute_reply": "2021-03-20T01:46:48.638862Z"
    },
    "papermill": {
     "duration": 0.043871,
     "end_time": "2021-03-20T01:46:48.639450",
     "exception": false,
     "start_time": "2021-03-20T01:46:48.595579",
     "status": "completed"
    },
    "tags": []
   },
   "outputs": [],
   "source": [
    "#hide_input\n",
    "#sum_corr = df_all_mrk.corr().sum().sort_values(ascending=True).index.values\n",
    "#df_all_mrk[sum_corr].corr()"
   ]
  },
  {
   "cell_type": "code",
   "execution_count": 11,
   "id": "other-painting",
   "metadata": {
    "execution": {
     "iopub.execute_input": "2021-03-20T01:46:48.672435Z",
     "iopub.status.busy": "2021-03-20T01:46:48.671908Z",
     "iopub.status.idle": "2021-03-20T01:46:48.699903Z",
     "shell.execute_reply": "2021-03-20T01:46:48.699193Z"
    },
    "papermill": {
     "duration": 0.046813,
     "end_time": "2021-03-20T01:46:48.700059",
     "exception": false,
     "start_time": "2021-03-20T01:46:48.653246",
     "status": "completed"
    },
    "tags": []
   },
   "outputs": [],
   "source": [
    "#hide\n",
    "#Koreliacijos matrica. "
   ]
  },
  {
   "cell_type": "code",
   "execution_count": 12,
   "id": "modular-magnitude",
   "metadata": {
    "execution": {
     "iopub.execute_input": "2021-03-20T01:46:48.733931Z",
     "iopub.status.busy": "2021-03-20T01:46:48.733400Z",
     "iopub.status.idle": "2021-03-20T01:46:48.760415Z",
     "shell.execute_reply": "2021-03-20T01:46:48.760961Z"
    },
    "papermill": {
     "duration": 0.044793,
     "end_time": "2021-03-20T01:46:48.761116",
     "exception": false,
     "start_time": "2021-03-20T01:46:48.716323",
     "status": "completed"
    },
    "tags": []
   },
   "outputs": [],
   "source": [
    "#hide_input\n",
    "#plt.figure(figsize=(15, 8))\n",
    "#sns.heatmap(df_all_mrk[sum_corr].corr(), annot=True, cmap=\"BrBG\");\n",
    "#plt.savefig('corr_matrix_all.eps', format='eps')"
   ]
  },
  {
   "cell_type": "code",
   "execution_count": null,
   "id": "original-senator",
   "metadata": {
    "papermill": {
     "duration": 0.01324,
     "end_time": "2021-03-20T01:46:48.789341",
     "exception": false,
     "start_time": "2021-03-20T01:46:48.776101",
     "status": "completed"
    },
    "tags": []
   },
   "outputs": [],
   "source": []
  },
  {
   "cell_type": "code",
   "execution_count": null,
   "id": "saving-secretariat",
   "metadata": {
    "papermill": {
     "duration": 0.013898,
     "end_time": "2021-03-20T01:46:48.816370",
     "exception": false,
     "start_time": "2021-03-20T01:46:48.802472",
     "status": "completed"
    },
    "tags": []
   },
   "outputs": [],
   "source": []
  }
 ],
 "metadata": {
  "kernelspec": {
   "display_name": "Python 3",
   "language": "python",
   "name": "python3"
  },
  "language_info": {
   "codemirror_mode": {
    "name": "ipython",
    "version": 3
   },
   "file_extension": ".py",
   "mimetype": "text/x-python",
   "name": "python",
   "nbconvert_exporter": "python",
   "pygments_lexer": "ipython3",
   "version": "3.6.13"
  },
  "papermill": {
   "default_parameters": {},
   "duration": 20.727972,
   "end_time": "2021-03-20T01:46:49.339337",
   "environment_variables": {},
   "exception": null,
   "input_path": "App-Correlation_charts.ipynb",
   "output_path": "App-Correlation_charts.ipynb",
   "parameters": {},
   "start_time": "2021-03-20T01:46:28.611365",
   "version": "2.2.2"
  }
 },
 "nbformat": 4,
 "nbformat_minor": 5
}