{
 "cells": [
  {
   "cell_type": "markdown",
   "id": "touched-facility",
   "metadata": {
    "papermill": {
     "duration": 0.014122,
     "end_time": "2021-05-28T03:33:43.640230",
     "exception": false,
     "start_time": "2021-05-28T03:33:43.626108",
     "status": "completed"
    },
    "tags": []
   },
   "source": [
    "# Koreliacijų matrica\n",
    "> Išplėstinė koreliacijų matrica. \n",
    "\n",
    "- toc: true \n",
    "- badges: true\n",
    "- comments: false\n",
    "- categories: [Dominykas Tautkus]\n",
    "- image: images/matrix.png"
   ]
  },
  {
   "cell_type": "code",
   "execution_count": null,
   "id": "premium-weekend",
   "metadata": {
    "papermill": {
     "duration": 0.00964,
     "end_time": "2021-05-28T03:33:43.660010",
     "exception": false,
     "start_time": "2021-05-28T03:33:43.650370",
     "status": "completed"
    },
    "tags": []
   },
   "outputs": [],
   "source": []
  },
  {
   "cell_type": "code",
   "execution_count": 1,
   "id": "vertical-rebate",
   "metadata": {
    "execution": {
     "iopub.execute_input": "2021-05-28T03:33:43.688743Z",
     "iopub.status.busy": "2021-05-28T03:33:43.688059Z",
     "iopub.status.idle": "2021-05-28T03:33:43.696525Z",
     "shell.execute_reply": "2021-05-28T03:33:43.696954Z"
    },
    "papermill": {
     "duration": 0.027653,
     "end_time": "2021-05-28T03:33:43.697085",
     "exception": false,
     "start_time": "2021-05-28T03:33:43.669432",
     "status": "completed"
    },
    "tags": []
   },
   "outputs": [],
   "source": [
    "#hide\n",
    "%load_ext autoreload\n",
    "%autoreload 2"
   ]
  },
  {
   "cell_type": "code",
   "execution_count": 2,
   "id": "overall-advancement",
   "metadata": {
    "execution": {
     "iopub.execute_input": "2021-05-28T03:33:43.724133Z",
     "iopub.status.busy": "2021-05-28T03:33:43.723641Z",
     "iopub.status.idle": "2021-05-28T03:33:44.600023Z",
     "shell.execute_reply": "2021-05-28T03:33:44.599248Z"
    },
    "papermill": {
     "duration": 0.892344,
     "end_time": "2021-05-28T03:33:44.600139",
     "exception": false,
     "start_time": "2021-05-28T03:33:43.707795",
     "status": "completed"
    },
    "tags": []
   },
   "outputs": [],
   "source": [
    "#hide\n",
    "from scripts.read_data import read_api\n",
    "from IPython.display import HTML\n",
    "import plotly.graph_objects as go\n"
   ]
  },
  {
   "cell_type": "code",
   "execution_count": 3,
   "id": "light-crazy",
   "metadata": {
    "execution": {
     "iopub.execute_input": "2021-05-28T03:33:44.625320Z",
     "iopub.status.busy": "2021-05-28T03:33:44.623420Z",
     "iopub.status.idle": "2021-05-28T03:33:44.643355Z",
     "shell.execute_reply": "2021-05-28T03:33:44.642792Z"
    },
    "papermill": {
     "duration": 0.033515,
     "end_time": "2021-05-28T03:33:44.643488",
     "exception": false,
     "start_time": "2021-05-28T03:33:44.609973",
     "status": "completed"
    },
    "tags": []
   },
   "outputs": [],
   "source": [
    "#hide\n",
    "### ICO koreliacija"
   ]
  },
  {
   "cell_type": "code",
   "execution_count": 4,
   "id": "likely-bahrain",
   "metadata": {
    "execution": {
     "iopub.execute_input": "2021-05-28T03:33:44.669699Z",
     "iopub.status.busy": "2021-05-28T03:33:44.669228Z",
     "iopub.status.idle": "2021-05-28T03:33:45.439352Z",
     "shell.execute_reply": "2021-05-28T03:33:45.439822Z"
    },
    "papermill": {
     "duration": 0.784997,
     "end_time": "2021-05-28T03:33:45.439977",
     "exception": false,
     "start_time": "2021-05-28T03:33:44.654980",
     "status": "completed"
    },
    "tags": []
   },
   "outputs": [],
   "source": [
    "#hide\n",
    "import matplotlib.pyplot as plt\n",
    "import numpy as np\n",
    "import pandas as pd\n",
    "import seaborn as sns\n",
    "import matplotlib.pyplot as plt \n",
    "import matplotlib.dates as mdates\n",
    "import matplotlib.pyplot as plt"
   ]
  },
  {
   "cell_type": "code",
   "execution_count": 5,
   "id": "superior-blanket",
   "metadata": {
    "execution": {
     "iopub.execute_input": "2021-05-28T03:33:45.475573Z",
     "iopub.status.busy": "2021-05-28T03:33:45.472038Z",
     "iopub.status.idle": "2021-05-28T03:33:57.551370Z",
     "shell.execute_reply": "2021-05-28T03:33:57.550861Z"
    },
    "papermill": {
     "duration": 12.101411,
     "end_time": "2021-05-28T03:33:57.551487",
     "exception": false,
     "start_time": "2021-05-28T03:33:45.450076",
     "status": "completed"
    },
    "tags": []
   },
   "outputs": [
    {
     "name": "stderr",
     "output_type": "stream",
     "text": [
      "/home/runner/work/corr-app/corr-app/_notebooks/scripts/read_data.py:187: SettingWithCopyWarning:\n",
      "\n",
      "\n",
      "A value is trying to be set on a copy of a slice from a DataFrame.\n",
      "Try using .loc[row_indexer,col_indexer] = value instead\n",
      "\n",
      "See the caveats in the documentation: https://pandas.pydata.org/pandas-docs/stable/user_guide/indexing.html#returning-a-view-versus-a-copy\n",
      "\n"
     ]
    },
    {
     "name": "stderr",
     "output_type": "stream",
     "text": [
      "/home/runner/work/corr-app/corr-app/_notebooks/scripts/read_data.py:215: SettingWithCopyWarning:\n",
      "\n",
      "\n",
      "A value is trying to be set on a copy of a slice from a DataFrame.\n",
      "Try using .loc[row_indexer,col_indexer] = value instead\n",
      "\n",
      "See the caveats in the documentation: https://pandas.pydata.org/pandas-docs/stable/user_guide/indexing.html#returning-a-view-versus-a-copy\n",
      "\n"
     ]
    }
   ],
   "source": [
    "#hide\n",
    "df_all = read_api()\n",
    "#df_all = df_all.drop(['SP500', 'XAU', 'ETH', 'BTC'], axis=1)\n",
    "\n"
   ]
  },
  {
   "cell_type": "code",
   "execution_count": 6,
   "id": "mature-alert",
   "metadata": {
    "execution": {
     "iopub.execute_input": "2021-05-28T03:33:57.596439Z",
     "iopub.status.busy": "2021-05-28T03:33:57.595706Z",
     "iopub.status.idle": "2021-05-28T03:33:57.612748Z",
     "shell.execute_reply": "2021-05-28T03:33:57.612141Z"
    },
    "papermill": {
     "duration": 0.049614,
     "end_time": "2021-05-28T03:33:57.612855",
     "exception": false,
     "start_time": "2021-05-28T03:33:57.563241",
     "status": "completed"
    },
    "tags": []
   },
   "outputs": [],
   "source": [
    "#hide_input\n",
    "sum_corr = df_all.corr().sum().sort_values(ascending=True).index.values\n",
    "#df_all[sum_corr].corr()"
   ]
  },
  {
   "cell_type": "markdown",
   "id": "complex-syndicate",
   "metadata": {
    "papermill": {
     "duration": 0.011218,
     "end_time": "2021-05-28T03:33:57.635523",
     "exception": false,
     "start_time": "2021-05-28T03:33:57.624305",
     "status": "completed"
    },
    "tags": []
   },
   "source": [
    "## Išplėstinė koreliacijų matrica. "
   ]
  },
  {
   "cell_type": "code",
   "execution_count": 7,
   "id": "atomic-omaha",
   "metadata": {
    "execution": {
     "iopub.execute_input": "2021-05-28T03:33:57.663512Z",
     "iopub.status.busy": "2021-05-28T03:33:57.663016Z",
     "iopub.status.idle": "2021-05-28T03:33:58.761732Z",
     "shell.execute_reply": "2021-05-28T03:33:58.761243Z"
    },
    "papermill": {
     "duration": 1.115138,
     "end_time": "2021-05-28T03:33:58.761842",
     "exception": false,
     "start_time": "2021-05-28T03:33:57.646704",
     "status": "completed"
    },
    "tags": []
   },
   "outputs": [
    {
     "data": {
      "image/png": "[encoded data removed]",
      "text/plain": [
       "<Figure size 1080x792 with 2 Axes>"
      ]
     },
     "metadata": {
      "needs_background": "light"
     },
     "output_type": "display_data"
    }
   ],
   "source": [
    "#hide_input\n",
    "plt.figure(figsize=(15, 11))\n",
    "sns.heatmap(df_all[sum_corr].corr(), annot=True, cmap=\"cubehelix\") \n",
    "sns.set(font_scale=1.25)\n",
    "plt.savefig('corr_matrix.png', format='eps')"
   ]
  },
  {
   "cell_type": "code",
   "execution_count": 8,
   "id": "arbitrary-sullivan",
   "metadata": {
    "execution": {
     "iopub.execute_input": "2021-05-28T03:33:58.795911Z",
     "iopub.status.busy": "2021-05-28T03:33:58.795421Z",
     "iopub.status.idle": "2021-05-28T03:33:58.817145Z",
     "shell.execute_reply": "2021-05-28T03:33:58.816748Z"
    },
    "papermill": {
     "duration": 0.04186,
     "end_time": "2021-05-28T03:33:58.817250",
     "exception": false,
     "start_time": "2021-05-28T03:33:58.775390",
     "status": "completed"
    },
    "tags": []
   },
   "outputs": [],
   "source": [
    "#hide\n",
    "#df_all_mrk = read_api()"
   ]
  },
  {
   "cell_type": "code",
   "execution_count": 9,
   "id": "delayed-adapter",
   "metadata": {
    "execution": {
     "iopub.execute_input": "2021-05-28T03:33:58.864605Z",
     "iopub.status.busy": "2021-05-28T03:33:58.863844Z",
     "iopub.status.idle": "2021-05-28T03:33:58.876505Z",
     "shell.execute_reply": "2021-05-28T03:33:58.877134Z"
    },
    "papermill": {
     "duration": 0.046818,
     "end_time": "2021-05-28T03:33:58.877261",
     "exception": false,
     "start_time": "2021-05-28T03:33:58.830443",
     "status": "completed"
    },
    "tags": []
   },
   "outputs": [],
   "source": [
    "#hide\n",
    "#Koreliacijų koeficientai"
   ]
  },
  {
   "cell_type": "code",
   "execution_count": 10,
   "id": "seeing-celebration",
   "metadata": {
    "execution": {
     "iopub.execute_input": "2021-05-28T03:33:58.923922Z",
     "iopub.status.busy": "2021-05-28T03:33:58.913664Z",
     "iopub.status.idle": "2021-05-28T03:33:58.935696Z",
     "shell.execute_reply": "2021-05-28T03:33:58.936076Z"
    },
    "papermill": {
     "duration": 0.045655,
     "end_time": "2021-05-28T03:33:58.936205",
     "exception": false,
     "start_time": "2021-05-28T03:33:58.890550",
     "status": "completed"
    },
    "tags": []
   },
   "outputs": [],
   "source": [
    "#hide_input\n",
    "#sum_corr = df_all_mrk.corr().sum().sort_values(ascending=True).index.values\n",
    "#df_all_mrk[sum_corr].corr()"
   ]
  },
  {
   "cell_type": "code",
   "execution_count": 11,
   "id": "other-painting",
   "metadata": {
    "execution": {
     "iopub.execute_input": "2021-05-28T03:33:58.972470Z",
     "iopub.status.busy": "2021-05-28T03:33:58.971881Z",
     "iopub.status.idle": "2021-05-28T03:33:58.992719Z",
     "shell.execute_reply": "2021-05-28T03:33:58.992296Z"
    },
    "papermill": {
     "duration": 0.043309,
     "end_time": "2021-05-28T03:33:58.992823",
     "exception": false,
     "start_time": "2021-05-28T03:33:58.949514",
     "status": "completed"
    },
    "tags": []
   },
   "outputs": [],
   "source": [
    "#hide\n",
    "#Koreliacijos matrica. "
   ]
  },
  {
   "cell_type": "code",
   "execution_count": 12,
   "id": "modular-magnitude",
   "metadata": {
    "execution": {
     "iopub.execute_input": "2021-05-28T03:33:59.020112Z",
     "iopub.status.busy": "2021-05-28T03:33:59.019604Z",
     "iopub.status.idle": "2021-05-28T03:33:59.041186Z",
     "shell.execute_reply": "2021-05-28T03:33:59.040670Z"
    },
    "papermill": {
     "duration": 0.036318,
     "end_time": "2021-05-28T03:33:59.041303",
     "exception": false,
     "start_time": "2021-05-28T03:33:59.004985",
     "status": "completed"
    },
    "tags": []
   },
   "outputs": [],
   "source": [
    "#hide_input\n",
    "#plt.figure(figsize=(15, 8))\n",
    "#sns.heatmap(df_all_mrk[sum_corr].corr(), annot=True, cmap=\"BrBG\");\n",
    "#plt.savefig('corr_matrix_all.eps', format='eps')"
   ]
  },
  {
   "cell_type": "code",
   "execution_count": null,
   "id": "original-senator",
   "metadata": {
    "papermill": {
     "duration": 0.011652,
     "end_time": "2021-05-28T03:33:59.065391",
     "exception": false,
     "start_time": "2021-05-28T03:33:59.053739",
     "status": "completed"
    },
    "tags": []
   },
   "outputs": [],
   "source": []
  },
  {
   "cell_type": "code",
   "execution_count": null,
   "id": "saving-secretariat",
   "metadata": {
    "papermill": {
     "duration": 0.011677,
     "end_time": "2021-05-28T03:33:59.088749",
     "exception": false,
     "start_time": "2021-05-28T03:33:59.077072",
     "status": "completed"
    },
    "tags": []
   },
   "outputs": [],
   "source": []
  }
 ],
 "metadata": {
  "kernelspec": {
   "display_name": "Python 3",
   "language": "python",
   "name": "python3"
  },
  "language_info": {
   "codemirror_mode": {
    "name": "ipython",
    "version": 3
   },
   "file_extension": ".py",
   "mimetype": "text/x-python",
   "name": "python",
   "nbconvert_exporter": "python",
   "pygments_lexer": "ipython3",
   "version": "3.6.13"
  },
  "papermill": {
   "default_parameters": {},
   "duration": 17.020711,
   "end_time": "2021-05-28T03:33:59.608441",
   "environment_variables": {},
   "exception": null,
   "input_path": "App-Correlation_charts.ipynb",
   "output_path": "App-Correlation_charts.ipynb",
   "parameters": {},
   "start_time": "2021-05-28T03:33:42.587730",
   "version": "2.2.2"
  }
 },
 "nbformat": 4,
 "nbformat_minor": 5
}