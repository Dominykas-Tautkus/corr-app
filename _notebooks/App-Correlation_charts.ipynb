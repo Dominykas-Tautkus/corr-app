{
 "cells": [
  {
   "cell_type": "markdown",
   "id": "touched-facility",
   "metadata": {
    "papermill": {
     "duration": 0.018355,
     "end_time": "2021-04-29T02:06:57.410245",
     "exception": false,
     "start_time": "2021-04-29T02:06:57.391890",
     "status": "completed"
    },
    "tags": []
   },
   "source": [
    "# Koreliacijų matrica\n",
    "> Išplėstinė koreliacijų matrica. \n",
    "\n",
    "- toc: true \n",
    "- badges: true\n",
    "- comments: false\n",
    "- categories: [Dominykas Tautkus]\n",
    "- image: images/matrix.png"
   ]
  },
  {
   "cell_type": "code",
   "execution_count": null,
   "id": "premium-weekend",
   "metadata": {
    "papermill": {
     "duration": 0.018005,
     "end_time": "2021-04-29T02:06:57.445007",
     "exception": false,
     "start_time": "2021-04-29T02:06:57.427002",
     "status": "completed"
    },
    "tags": []
   },
   "outputs": [],
   "source": []
  },
  {
   "cell_type": "code",
   "execution_count": 1,
   "id": "vertical-rebate",
   "metadata": {
    "execution": {
     "iopub.execute_input": "2021-04-29T02:06:57.487106Z",
     "iopub.status.busy": "2021-04-29T02:06:57.486395Z",
     "iopub.status.idle": "2021-04-29T02:06:57.497459Z",
     "shell.execute_reply": "2021-04-29T02:06:57.497992Z"
    },
    "papermill": {
     "duration": 0.037393,
     "end_time": "2021-04-29T02:06:57.498154",
     "exception": false,
     "start_time": "2021-04-29T02:06:57.460761",
     "status": "completed"
    },
    "tags": []
   },
   "outputs": [],
   "source": [
    "#hide\n",
    "%load_ext autoreload\n",
    "%autoreload 2"
   ]
  },
  {
   "cell_type": "code",
   "execution_count": 2,
   "id": "overall-advancement",
   "metadata": {
    "execution": {
     "iopub.execute_input": "2021-04-29T02:06:57.531094Z",
     "iopub.status.busy": "2021-04-29T02:06:57.530534Z",
     "iopub.status.idle": "2021-04-29T02:06:58.910502Z",
     "shell.execute_reply": "2021-04-29T02:06:58.909500Z"
    },
    "papermill": {
     "duration": 1.399801,
     "end_time": "2021-04-29T02:06:58.910638",
     "exception": false,
     "start_time": "2021-04-29T02:06:57.510837",
     "status": "completed"
    },
    "tags": []
   },
   "outputs": [],
   "source": [
    "#hide\n",
    "from scripts.read_data import read_api\n",
    "from IPython.display import HTML\n",
    "import plotly.graph_objects as go\n"
   ]
  },
  {
   "cell_type": "code",
   "execution_count": 3,
   "id": "light-crazy",
   "metadata": {
    "execution": {
     "iopub.execute_input": "2021-04-29T02:06:58.951186Z",
     "iopub.status.busy": "2021-04-29T02:06:58.950471Z",
     "iopub.status.idle": "2021-04-29T02:06:58.977378Z",
     "shell.execute_reply": "2021-04-29T02:06:58.977859Z"
    },
    "papermill": {
     "duration": 0.053034,
     "end_time": "2021-04-29T02:06:58.977994",
     "exception": false,
     "start_time": "2021-04-29T02:06:58.924960",
     "status": "completed"
    },
    "tags": []
   },
   "outputs": [],
   "source": [
    "#hide\n",
    "### ICO koreliacija"
   ]
  },
  {
   "cell_type": "code",
   "execution_count": 4,
   "id": "likely-bahrain",
   "metadata": {
    "execution": {
     "iopub.execute_input": "2021-04-29T02:06:59.016280Z",
     "iopub.status.busy": "2021-04-29T02:06:59.015619Z",
     "iopub.status.idle": "2021-04-29T02:07:00.029415Z",
     "shell.execute_reply": "2021-04-29T02:07:00.029926Z"
    },
    "papermill": {
     "duration": 1.036363,
     "end_time": "2021-04-29T02:07:00.030087",
     "exception": false,
     "start_time": "2021-04-29T02:06:58.993724",
     "status": "completed"
    },
    "tags": []
   },
   "outputs": [],
   "source": [
    "#hide\n",
    "import matplotlib.pyplot as plt\n",
    "import numpy as np\n",
    "import pandas as pd\n",
    "import seaborn as sns\n",
    "import matplotlib.pyplot as plt \n",
    "import matplotlib.dates as mdates\n",
    "import matplotlib.pyplot as plt"
   ]
  },
  {
   "cell_type": "code",
   "execution_count": 5,
   "id": "superior-blanket",
   "metadata": {
    "execution": {
     "iopub.execute_input": "2021-04-29T02:07:00.063617Z",
     "iopub.status.busy": "2021-04-29T02:07:00.062940Z",
     "iopub.status.idle": "2021-04-29T02:07:13.607692Z",
     "shell.execute_reply": "2021-04-29T02:07:13.608225Z"
    },
    "papermill": {
     "duration": 13.56327,
     "end_time": "2021-04-29T02:07:13.608489",
     "exception": false,
     "start_time": "2021-04-29T02:07:00.045219",
     "status": "completed"
    },
    "tags": []
   },
   "outputs": [
    {
     "name": "stderr",
     "output_type": "stream",
     "text": [
      "/home/runner/work/corr-app/corr-app/_notebooks/scripts/read_data.py:187: SettingWithCopyWarning:\n",
      "\n",
      "\n",
      "A value is trying to be set on a copy of a slice from a DataFrame.\n",
      "Try using .loc[row_indexer,col_indexer] = value instead\n",
      "\n",
      "See the caveats in the documentation: https://pandas.pydata.org/pandas-docs/stable/user_guide/indexing.html#returning-a-view-versus-a-copy\n",
      "\n"
     ]
    },
    {
     "name": "stderr",
     "output_type": "stream",
     "text": [
      "/home/runner/work/corr-app/corr-app/_notebooks/scripts/read_data.py:215: SettingWithCopyWarning:\n",
      "\n",
      "\n",
      "A value is trying to be set on a copy of a slice from a DataFrame.\n",
      "Try using .loc[row_indexer,col_indexer] = value instead\n",
      "\n",
      "See the caveats in the documentation: https://pandas.pydata.org/pandas-docs/stable/user_guide/indexing.html#returning-a-view-versus-a-copy\n",
      "\n"
     ]
    }
   ],
   "source": [
    "#hide\n",
    "df_all = read_api()\n",
    "#df_all = df_all.drop(['SP500', 'XAU', 'ETH', 'BTC'], axis=1)\n",
    "\n"
   ]
  },
  {
   "cell_type": "code",
   "execution_count": 6,
   "id": "mature-alert",
   "metadata": {
    "execution": {
     "iopub.execute_input": "2021-04-29T02:07:13.656334Z",
     "iopub.status.busy": "2021-04-29T02:07:13.655694Z",
     "iopub.status.idle": "2021-04-29T02:07:13.693040Z",
     "shell.execute_reply": "2021-04-29T02:07:13.692455Z"
    },
    "papermill": {
     "duration": 0.05805,
     "end_time": "2021-04-29T02:07:13.693200",
     "exception": false,
     "start_time": "2021-04-29T02:07:13.635150",
     "status": "completed"
    },
    "tags": []
   },
   "outputs": [],
   "source": [
    "#hide_input\n",
    "sum_corr = df_all.corr().sum().sort_values(ascending=True).index.values\n",
    "#df_all[sum_corr].corr()"
   ]
  },
  {
   "cell_type": "markdown",
   "id": "complex-syndicate",
   "metadata": {
    "papermill": {
     "duration": 0.019,
     "end_time": "2021-04-29T02:07:13.730192",
     "exception": false,
     "start_time": "2021-04-29T02:07:13.711192",
     "status": "completed"
    },
    "tags": []
   },
   "source": [
    "## Išplėstinė koreliacijų matrica. "
   ]
  },
  {
   "cell_type": "code",
   "execution_count": 7,
   "id": "atomic-omaha",
   "metadata": {
    "execution": {
     "iopub.execute_input": "2021-04-29T02:07:13.770332Z",
     "iopub.status.busy": "2021-04-29T02:07:13.769597Z",
     "iopub.status.idle": "2021-04-29T02:07:15.322222Z",
     "shell.execute_reply": "2021-04-29T02:07:15.321639Z"
    },
    "papermill": {
     "duration": 1.575676,
     "end_time": "2021-04-29T02:07:15.322357",
     "exception": false,
     "start_time": "2021-04-29T02:07:13.746681",
     "status": "completed"
    },
    "tags": []
   },
   "outputs": [
    {
     "data": {
      "image/png": "[encoded data removed]",
      "text/plain": [
       "<Figure size 1080x792 with 2 Axes>"
      ]
     },
     "metadata": {
      "needs_background": "light"
     },
     "output_type": "display_data"
    }
   ],
   "source": [
    "#hide_input\n",
    "plt.figure(figsize=(15, 11))\n",
    "sns.heatmap(df_all[sum_corr].corr(), annot=True, cmap=\"cubehelix\") \n",
    "sns.set(font_scale=1.25)\n",
    "plt.savefig('corr_matrix.png', format='eps')"
   ]
  },
  {
   "cell_type": "code",
   "execution_count": 8,
   "id": "arbitrary-sullivan",
   "metadata": {
    "execution": {
     "iopub.execute_input": "2021-04-29T02:07:15.362655Z",
     "iopub.status.busy": "2021-04-29T02:07:15.361928Z",
     "iopub.status.idle": "2021-04-29T02:07:15.390581Z",
     "shell.execute_reply": "2021-04-29T02:07:15.391233Z"
    },
    "papermill": {
     "duration": 0.05119,
     "end_time": "2021-04-29T02:07:15.391405",
     "exception": false,
     "start_time": "2021-04-29T02:07:15.340215",
     "status": "completed"
    },
    "tags": []
   },
   "outputs": [],
   "source": [
    "#hide\n",
    "#df_all_mrk = read_api()"
   ]
  },
  {
   "cell_type": "code",
   "execution_count": 9,
   "id": "delayed-adapter",
   "metadata": {
    "execution": {
     "iopub.execute_input": "2021-04-29T02:07:15.433248Z",
     "iopub.status.busy": "2021-04-29T02:07:15.431444Z",
     "iopub.status.idle": "2021-04-29T02:07:15.460228Z",
     "shell.execute_reply": "2021-04-29T02:07:15.459543Z"
    },
    "papermill": {
     "duration": 0.052137,
     "end_time": "2021-04-29T02:07:15.460367",
     "exception": false,
     "start_time": "2021-04-29T02:07:15.408230",
     "status": "completed"
    },
    "tags": []
   },
   "outputs": [],
   "source": [
    "#hide\n",
    "#Koreliacijų koeficientai"
   ]
  },
  {
   "cell_type": "code",
   "execution_count": 10,
   "id": "seeing-celebration",
   "metadata": {
    "execution": {
     "iopub.execute_input": "2021-04-29T02:07:15.501518Z",
     "iopub.status.busy": "2021-04-29T02:07:15.500874Z",
     "iopub.status.idle": "2021-04-29T02:07:15.528476Z",
     "shell.execute_reply": "2021-04-29T02:07:15.527824Z"
    },
    "papermill": {
     "duration": 0.050925,
     "end_time": "2021-04-29T02:07:15.528621",
     "exception": false,
     "start_time": "2021-04-29T02:07:15.477696",
     "status": "completed"
    },
    "tags": []
   },
   "outputs": [],
   "source": [
    "#hide_input\n",
    "#sum_corr = df_all_mrk.corr().sum().sort_values(ascending=True).index.values\n",
    "#df_all_mrk[sum_corr].corr()"
   ]
  },
  {
   "cell_type": "code",
   "execution_count": 11,
   "id": "other-painting",
   "metadata": {
    "execution": {
     "iopub.execute_input": "2021-04-29T02:07:15.571674Z",
     "iopub.status.busy": "2021-04-29T02:07:15.571020Z",
     "iopub.status.idle": "2021-04-29T02:07:15.597094Z",
     "shell.execute_reply": "2021-04-29T02:07:15.596476Z"
    },
    "papermill": {
     "duration": 0.051572,
     "end_time": "2021-04-29T02:07:15.597288",
     "exception": false,
     "start_time": "2021-04-29T02:07:15.545716",
     "status": "completed"
    },
    "tags": []
   },
   "outputs": [],
   "source": [
    "#hide\n",
    "#Koreliacijos matrica. "
   ]
  },
  {
   "cell_type": "code",
   "execution_count": 12,
   "id": "modular-magnitude",
   "metadata": {
    "execution": {
     "iopub.execute_input": "2021-04-29T02:07:15.638991Z",
     "iopub.status.busy": "2021-04-29T02:07:15.638350Z",
     "iopub.status.idle": "2021-04-29T02:07:15.665400Z",
     "shell.execute_reply": "2021-04-29T02:07:15.664821Z"
    },
    "papermill": {
     "duration": 0.049928,
     "end_time": "2021-04-29T02:07:15.665539",
     "exception": false,
     "start_time": "2021-04-29T02:07:15.615611",
     "status": "completed"
    },
    "tags": []
   },
   "outputs": [],
   "source": [
    "#hide_input\n",
    "#plt.figure(figsize=(15, 8))\n",
    "#sns.heatmap(df_all_mrk[sum_corr].corr(), annot=True, cmap=\"BrBG\");\n",
    "#plt.savefig('corr_matrix_all.eps', format='eps')"
   ]
  },
  {
   "cell_type": "code",
   "execution_count": null,
   "id": "original-senator",
   "metadata": {
    "papermill": {
     "duration": 0.016759,
     "end_time": "2021-04-29T02:07:15.699352",
     "exception": false,
     "start_time": "2021-04-29T02:07:15.682593",
     "status": "completed"
    },
    "tags": []
   },
   "outputs": [],
   "source": []
  },
  {
   "cell_type": "code",
   "execution_count": null,
   "id": "saving-secretariat",
   "metadata": {
    "papermill": {
     "duration": 0.022171,
     "end_time": "2021-04-29T02:07:15.738969",
     "exception": false,
     "start_time": "2021-04-29T02:07:15.716798",
     "status": "completed"
    },
    "tags": []
   },
   "outputs": [],
   "source": []
  }
 ],
 "metadata": {
  "kernelspec": {
   "display_name": "Python 3",
   "language": "python",
   "name": "python3"
  },
  "language_info": {
   "codemirror_mode": {
    "name": "ipython",
    "version": 3
   },
   "file_extension": ".py",
   "mimetype": "text/x-python",
   "name": "python",
   "nbconvert_exporter": "python",
   "pygments_lexer": "ipython3",
   "version": "3.6.13"
  },
  "papermill": {
   "default_parameters": {},
   "duration": 20.266568,
   "end_time": "2021-04-29T02:07:16.366747",
   "environment_variables": {},
   "exception": null,
   "input_path": "App-Correlation_charts.ipynb",
   "output_path": "App-Correlation_charts.ipynb",
   "parameters": {},
   "start_time": "2021-04-29T02:06:56.100179",
   "version": "2.2.2"
  }
 },
 "nbformat": 4,
 "nbformat_minor": 5
}