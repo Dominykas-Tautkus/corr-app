{
 "cells": [
  {
   "cell_type": "markdown",
   "id": "touched-facility",
   "metadata": {
    "papermill": {
     "duration": 0.015686,
     "end_time": "2021-06-11T02:06:03.600476",
     "exception": false,
     "start_time": "2021-06-11T02:06:03.584790",
     "status": "completed"
    },
    "tags": []
   },
   "source": [
    "# Koreliacijų matrica\n",
    "> Išplėstinė koreliacijų matrica. \n",
    "\n",
    "- toc: true \n",
    "- badges: true\n",
    "- comments: false\n",
    "- categories: [Dominykas Tautkus]\n",
    "- image: images/matrix.png"
   ]
  },
  {
   "cell_type": "code",
   "execution_count": null,
   "id": "premium-weekend",
   "metadata": {
    "papermill": {
     "duration": 0.011126,
     "end_time": "2021-06-11T02:06:03.623444",
     "exception": false,
     "start_time": "2021-06-11T02:06:03.612318",
     "status": "completed"
    },
    "tags": []
   },
   "outputs": [],
   "source": []
  },
  {
   "cell_type": "code",
   "execution_count": 1,
   "id": "vertical-rebate",
   "metadata": {
    "execution": {
     "iopub.execute_input": "2021-06-11T02:06:03.661438Z",
     "iopub.status.busy": "2021-06-11T02:06:03.660858Z",
     "iopub.status.idle": "2021-06-11T02:06:03.672198Z",
     "shell.execute_reply": "2021-06-11T02:06:03.671684Z"
    },
    "papermill": {
     "duration": 0.037999,
     "end_time": "2021-06-11T02:06:03.672323",
     "exception": false,
     "start_time": "2021-06-11T02:06:03.634324",
     "status": "completed"
    },
    "tags": []
   },
   "outputs": [],
   "source": [
    "#hide\n",
    "%load_ext autoreload\n",
    "%autoreload 2"
   ]
  },
  {
   "cell_type": "code",
   "execution_count": 2,
   "id": "overall-advancement",
   "metadata": {
    "execution": {
     "iopub.execute_input": "2021-06-11T02:06:03.698806Z",
     "iopub.status.busy": "2021-06-11T02:06:03.698273Z",
     "iopub.status.idle": "2021-06-11T02:06:05.120031Z",
     "shell.execute_reply": "2021-06-11T02:06:05.119333Z"
    },
    "papermill": {
     "duration": 1.43575,
     "end_time": "2021-06-11T02:06:05.120202",
     "exception": false,
     "start_time": "2021-06-11T02:06:03.684452",
     "status": "completed"
    },
    "tags": []
   },
   "outputs": [],
   "source": [
    "#hide\n",
    "from scripts.read_data import read_api\n",
    "from IPython.display import HTML\n",
    "import plotly.graph_objects as go\n"
   ]
  },
  {
   "cell_type": "code",
   "execution_count": 3,
   "id": "light-crazy",
   "metadata": {
    "execution": {
     "iopub.execute_input": "2021-06-11T02:06:05.148896Z",
     "iopub.status.busy": "2021-06-11T02:06:05.148319Z",
     "iopub.status.idle": "2021-06-11T02:06:05.171125Z",
     "shell.execute_reply": "2021-06-11T02:06:05.171633Z"
    },
    "papermill": {
     "duration": 0.038937,
     "end_time": "2021-06-11T02:06:05.171788",
     "exception": false,
     "start_time": "2021-06-11T02:06:05.132851",
     "status": "completed"
    },
    "tags": []
   },
   "outputs": [],
   "source": [
    "#hide\n",
    "### ICO koreliacija"
   ]
  },
  {
   "cell_type": "code",
   "execution_count": 4,
   "id": "likely-bahrain",
   "metadata": {
    "execution": {
     "iopub.execute_input": "2021-06-11T02:06:05.199646Z",
     "iopub.status.busy": "2021-06-11T02:06:05.199031Z",
     "iopub.status.idle": "2021-06-11T02:06:06.046915Z",
     "shell.execute_reply": "2021-06-11T02:06:06.046309Z"
    },
    "papermill": {
     "duration": 0.863483,
     "end_time": "2021-06-11T02:06:06.047066",
     "exception": false,
     "start_time": "2021-06-11T02:06:05.183583",
     "status": "completed"
    },
    "tags": []
   },
   "outputs": [],
   "source": [
    "#hide\n",
    "import matplotlib.pyplot as plt\n",
    "import numpy as np\n",
    "import pandas as pd\n",
    "import seaborn as sns\n",
    "import matplotlib.pyplot as plt \n",
    "import matplotlib.dates as mdates\n",
    "import matplotlib.pyplot as plt"
   ]
  },
  {
   "cell_type": "code",
   "execution_count": 5,
   "id": "superior-blanket",
   "metadata": {
    "execution": {
     "iopub.execute_input": "2021-06-11T02:06:06.076838Z",
     "iopub.status.busy": "2021-06-11T02:06:06.076274Z",
     "iopub.status.idle": "2021-06-11T02:06:18.520448Z",
     "shell.execute_reply": "2021-06-11T02:06:18.520904Z"
    },
    "papermill": {
     "duration": 12.460354,
     "end_time": "2021-06-11T02:06:18.521057",
     "exception": false,
     "start_time": "2021-06-11T02:06:06.060703",
     "status": "completed"
    },
    "tags": []
   },
   "outputs": [
    {
     "name": "stderr",
     "output_type": "stream",
     "text": [
      "/home/runner/work/corr-app/corr-app/_notebooks/scripts/read_data.py:187: SettingWithCopyWarning:\n",
      "\n",
      "\n",
      "A value is trying to be set on a copy of a slice from a DataFrame.\n",
      "Try using .loc[row_indexer,col_indexer] = value instead\n",
      "\n",
      "See the caveats in the documentation: https://pandas.pydata.org/pandas-docs/stable/user_guide/indexing.html#returning-a-view-versus-a-copy\n",
      "\n"
     ]
    },
    {
     "name": "stderr",
     "output_type": "stream",
     "text": [
      "/home/runner/work/corr-app/corr-app/_notebooks/scripts/read_data.py:215: SettingWithCopyWarning:\n",
      "\n",
      "\n",
      "A value is trying to be set on a copy of a slice from a DataFrame.\n",
      "Try using .loc[row_indexer,col_indexer] = value instead\n",
      "\n",
      "See the caveats in the documentation: https://pandas.pydata.org/pandas-docs/stable/user_guide/indexing.html#returning-a-view-versus-a-copy\n",
      "\n"
     ]
    }
   ],
   "source": [
    "#hide\n",
    "df_all = read_api()\n",
    "#df_all = df_all.drop(['SP500', 'XAU', 'ETH', 'BTC'], axis=1)\n",
    "\n"
   ]
  },
  {
   "cell_type": "code",
   "execution_count": 6,
   "id": "mature-alert",
   "metadata": {
    "execution": {
     "iopub.execute_input": "2021-06-11T02:06:18.550051Z",
     "iopub.status.busy": "2021-06-11T02:06:18.549479Z",
     "iopub.status.idle": "2021-06-11T02:06:18.581171Z",
     "shell.execute_reply": "2021-06-11T02:06:18.580595Z"
    },
    "papermill": {
     "duration": 0.047825,
     "end_time": "2021-06-11T02:06:18.581319",
     "exception": false,
     "start_time": "2021-06-11T02:06:18.533494",
     "status": "completed"
    },
    "tags": []
   },
   "outputs": [],
   "source": [
    "#hide_input\n",
    "sum_corr = df_all.corr().sum().sort_values(ascending=True).index.values\n",
    "#df_all[sum_corr].corr()"
   ]
  },
  {
   "cell_type": "markdown",
   "id": "complex-syndicate",
   "metadata": {
    "papermill": {
     "duration": 0.01228,
     "end_time": "2021-06-11T02:06:18.605726",
     "exception": false,
     "start_time": "2021-06-11T02:06:18.593446",
     "status": "completed"
    },
    "tags": []
   },
   "source": [
    "## Išplėstinė koreliacijų matrica. "
   ]
  },
  {
   "cell_type": "code",
   "execution_count": 7,
   "id": "atomic-omaha",
   "metadata": {
    "execution": {
     "iopub.execute_input": "2021-06-11T02:06:18.634849Z",
     "iopub.status.busy": "2021-06-11T02:06:18.634267Z",
     "iopub.status.idle": "2021-06-11T02:06:19.892301Z",
     "shell.execute_reply": "2021-06-11T02:06:19.892736Z"
    },
    "papermill": {
     "duration": 1.275174,
     "end_time": "2021-06-11T02:06:19.892874",
     "exception": false,
     "start_time": "2021-06-11T02:06:18.617700",
     "status": "completed"
    },
    "tags": []
   },
   "outputs": [
    {
     "data": {
      "image/png": "[encoded data removed]",
      "text/plain": [
       "<Figure size 1080x792 with 2 Axes>"
      ]
     },
     "metadata": {
      "needs_background": "light"
     },
     "output_type": "display_data"
    }
   ],
   "source": [
    "#hide_input\n",
    "plt.figure(figsize=(15, 11))\n",
    "sns.heatmap(df_all[sum_corr].corr(), annot=True, cmap=\"cubehelix\") \n",
    "sns.set(font_scale=1.25)\n",
    "plt.savefig('corr_matrix.png', format='eps')"
   ]
  },
  {
   "cell_type": "code",
   "execution_count": 8,
   "id": "arbitrary-sullivan",
   "metadata": {
    "execution": {
     "iopub.execute_input": "2021-06-11T02:06:19.928292Z",
     "iopub.status.busy": "2021-06-11T02:06:19.927760Z",
     "iopub.status.idle": "2021-06-11T02:06:19.956282Z",
     "shell.execute_reply": "2021-06-11T02:06:19.955611Z"
    },
    "papermill": {
     "duration": 0.04884,
     "end_time": "2021-06-11T02:06:19.956449",
     "exception": false,
     "start_time": "2021-06-11T02:06:19.907609",
     "status": "completed"
    },
    "tags": []
   },
   "outputs": [],
   "source": [
    "#hide\n",
    "#df_all_mrk = read_api()"
   ]
  },
  {
   "cell_type": "code",
   "execution_count": 9,
   "id": "delayed-adapter",
   "metadata": {
    "execution": {
     "iopub.execute_input": "2021-06-11T02:06:19.990388Z",
     "iopub.status.busy": "2021-06-11T02:06:19.989836Z",
     "iopub.status.idle": "2021-06-11T02:06:20.016496Z",
     "shell.execute_reply": "2021-06-11T02:06:20.016041Z"
    },
    "papermill": {
     "duration": 0.044268,
     "end_time": "2021-06-11T02:06:20.016602",
     "exception": false,
     "start_time": "2021-06-11T02:06:19.972334",
     "status": "completed"
    },
    "tags": []
   },
   "outputs": [],
   "source": [
    "#hide\n",
    "#Koreliacijų koeficientai"
   ]
  },
  {
   "cell_type": "code",
   "execution_count": 10,
   "id": "seeing-celebration",
   "metadata": {
    "execution": {
     "iopub.execute_input": "2021-06-11T02:06:20.050137Z",
     "iopub.status.busy": "2021-06-11T02:06:20.049550Z",
     "iopub.status.idle": "2021-06-11T02:06:20.077304Z",
     "shell.execute_reply": "2021-06-11T02:06:20.076632Z"
    },
    "papermill": {
     "duration": 0.046052,
     "end_time": "2021-06-11T02:06:20.077471",
     "exception": false,
     "start_time": "2021-06-11T02:06:20.031419",
     "status": "completed"
    },
    "tags": []
   },
   "outputs": [],
   "source": [
    "#hide_input\n",
    "#sum_corr = df_all_mrk.corr().sum().sort_values(ascending=True).index.values\n",
    "#df_all_mrk[sum_corr].corr()"
   ]
  },
  {
   "cell_type": "code",
   "execution_count": 11,
   "id": "other-painting",
   "metadata": {
    "execution": {
     "iopub.execute_input": "2021-06-11T02:06:20.113416Z",
     "iopub.status.busy": "2021-06-11T02:06:20.112844Z",
     "iopub.status.idle": "2021-06-11T02:06:20.148141Z",
     "shell.execute_reply": "2021-06-11T02:06:20.147135Z"
    },
    "papermill": {
     "duration": 0.054068,
     "end_time": "2021-06-11T02:06:20.148345",
     "exception": false,
     "start_time": "2021-06-11T02:06:20.094277",
     "status": "completed"
    },
    "tags": []
   },
   "outputs": [],
   "source": [
    "#hide\n",
    "#Koreliacijos matrica. "
   ]
  },
  {
   "cell_type": "code",
   "execution_count": 12,
   "id": "modular-magnitude",
   "metadata": {
    "execution": {
     "iopub.execute_input": "2021-06-11T02:06:20.185148Z",
     "iopub.status.busy": "2021-06-11T02:06:20.184612Z",
     "iopub.status.idle": "2021-06-11T02:06:20.211770Z",
     "shell.execute_reply": "2021-06-11T02:06:20.210935Z"
    },
    "papermill": {
     "duration": 0.045447,
     "end_time": "2021-06-11T02:06:20.211927",
     "exception": false,
     "start_time": "2021-06-11T02:06:20.166480",
     "status": "completed"
    },
    "tags": []
   },
   "outputs": [],
   "source": [
    "#hide_input\n",
    "#plt.figure(figsize=(15, 8))\n",
    "#sns.heatmap(df_all_mrk[sum_corr].corr(), annot=True, cmap=\"BrBG\");\n",
    "#plt.savefig('corr_matrix_all.eps', format='eps')"
   ]
  },
  {
   "cell_type": "code",
   "execution_count": null,
   "id": "original-senator",
   "metadata": {
    "papermill": {
     "duration": 0.014346,
     "end_time": "2021-06-11T02:06:20.242114",
     "exception": false,
     "start_time": "2021-06-11T02:06:20.227768",
     "status": "completed"
    },
    "tags": []
   },
   "outputs": [],
   "source": []
  },
  {
   "cell_type": "code",
   "execution_count": null,
   "id": "saving-secretariat",
   "metadata": {
    "papermill": {
     "duration": 0.014346,
     "end_time": "2021-06-11T02:06:20.270148",
     "exception": false,
     "start_time": "2021-06-11T02:06:20.255802",
     "status": "completed"
    },
    "tags": []
   },
   "outputs": [],
   "source": []
  }
 ],
 "metadata": {
  "kernelspec": {
   "display_name": "Python 3",
   "language": "python",
   "name": "python3"
  },
  "language_info": {
   "codemirror_mode": {
    "name": "ipython",
    "version": 3
   },
   "file_extension": ".py",
   "mimetype": "text/x-python",
   "name": "python",
   "nbconvert_exporter": "python",
   "pygments_lexer": "ipython3",
   "version": "3.6.13"
  },
  "papermill": {
   "default_parameters": {},
   "duration": 19.31175,
   "end_time": "2021-06-11T02:06:21.691249",
   "environment_variables": {},
   "exception": null,
   "input_path": "App-Correlation_charts.ipynb",
   "output_path": "App-Correlation_charts.ipynb",
   "parameters": {},
   "start_time": "2021-06-11T02:06:02.379499",
   "version": "2.2.2"
  }
 },
 "nbformat": 4,
 "nbformat_minor": 5
}