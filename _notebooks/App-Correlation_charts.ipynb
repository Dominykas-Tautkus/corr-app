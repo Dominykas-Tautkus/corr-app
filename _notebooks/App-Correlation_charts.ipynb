{
 "cells": [
  {
   "cell_type": "markdown",
   "id": "touched-facility",
   "metadata": {
    "papermill": {
     "duration": 0.018615,
     "end_time": "2021-02-19T01:39:51.505495",
     "exception": false,
     "start_time": "2021-02-19T01:39:51.486880",
     "status": "completed"
    },
    "tags": []
   },
   "source": [
    "# Koreliacijų matrica\n",
    "> Išplėstinė koreliacijų matrica. \n",
    "\n",
    "- toc: true \n",
    "- badges: true\n",
    "- comments: false\n",
    "- categories: [Dominykas Tautkus]\n",
    "- image: images/matrix.png"
   ]
  },
  {
   "cell_type": "code",
   "execution_count": null,
   "id": "premium-weekend",
   "metadata": {
    "papermill": {
     "duration": 0.014391,
     "end_time": "2021-02-19T01:39:51.535579",
     "exception": false,
     "start_time": "2021-02-19T01:39:51.521188",
     "status": "completed"
    },
    "tags": []
   },
   "outputs": [],
   "source": []
  },
  {
   "cell_type": "code",
   "execution_count": 1,
   "id": "vertical-rebate",
   "metadata": {
    "execution": {
     "iopub.execute_input": "2021-02-19T01:39:51.577031Z",
     "iopub.status.busy": "2021-02-19T01:39:51.576320Z",
     "iopub.status.idle": "2021-02-19T01:39:51.589449Z",
     "shell.execute_reply": "2021-02-19T01:39:51.588845Z"
    },
    "papermill": {
     "duration": 0.039588,
     "end_time": "2021-02-19T01:39:51.589617",
     "exception": false,
     "start_time": "2021-02-19T01:39:51.550029",
     "status": "completed"
    },
    "tags": []
   },
   "outputs": [],
   "source": [
    "#hide\n",
    "%load_ext autoreload\n",
    "%autoreload 2"
   ]
  },
  {
   "cell_type": "code",
   "execution_count": 2,
   "id": "overall-advancement",
   "metadata": {
    "execution": {
     "iopub.execute_input": "2021-02-19T01:39:51.623303Z",
     "iopub.status.busy": "2021-02-19T01:39:51.622591Z",
     "iopub.status.idle": "2021-02-19T01:39:53.478815Z",
     "shell.execute_reply": "2021-02-19T01:39:53.478147Z"
    },
    "papermill": {
     "duration": 1.874284,
     "end_time": "2021-02-19T01:39:53.478964",
     "exception": false,
     "start_time": "2021-02-19T01:39:51.604680",
     "status": "completed"
    },
    "tags": []
   },
   "outputs": [],
   "source": [
    "#hide\n",
    "from scripts.read_data import read_api\n",
    "from IPython.display import HTML\n",
    "import plotly.graph_objects as go\n"
   ]
  },
  {
   "cell_type": "code",
   "execution_count": 3,
   "id": "light-crazy",
   "metadata": {
    "execution": {
     "iopub.execute_input": "2021-02-19T01:39:53.513087Z",
     "iopub.status.busy": "2021-02-19T01:39:53.512035Z",
     "iopub.status.idle": "2021-02-19T01:39:53.537287Z",
     "shell.execute_reply": "2021-02-19T01:39:53.537809Z"
    },
    "papermill": {
     "duration": 0.044718,
     "end_time": "2021-02-19T01:39:53.537977",
     "exception": false,
     "start_time": "2021-02-19T01:39:53.493259",
     "status": "completed"
    },
    "tags": []
   },
   "outputs": [],
   "source": [
    "#hide\n",
    "### ICO koreliacija"
   ]
  },
  {
   "cell_type": "code",
   "execution_count": 4,
   "id": "likely-bahrain",
   "metadata": {
    "execution": {
     "iopub.execute_input": "2021-02-19T01:39:53.572016Z",
     "iopub.status.busy": "2021-02-19T01:39:53.571180Z",
     "iopub.status.idle": "2021-02-19T01:39:58.484845Z",
     "shell.execute_reply": "2021-02-19T01:39:58.484221Z"
    },
    "papermill": {
     "duration": 4.933142,
     "end_time": "2021-02-19T01:39:58.484991",
     "exception": false,
     "start_time": "2021-02-19T01:39:53.551849",
     "status": "completed"
    },
    "tags": []
   },
   "outputs": [],
   "source": [
    "#hide\n",
    "import matplotlib.pyplot as plt\n",
    "import numpy as np\n",
    "import pandas as pd\n",
    "import seaborn as sns\n",
    "import matplotlib.pyplot as plt \n",
    "import matplotlib.dates as mdates\n",
    "import matplotlib.pyplot as plt"
   ]
  },
  {
   "cell_type": "code",
   "execution_count": 5,
   "id": "superior-blanket",
   "metadata": {
    "execution": {
     "iopub.execute_input": "2021-02-19T01:39:58.520396Z",
     "iopub.status.busy": "2021-02-19T01:39:58.519683Z",
     "iopub.status.idle": "2021-02-19T01:40:12.349461Z",
     "shell.execute_reply": "2021-02-19T01:40:12.348750Z"
    },
    "papermill": {
     "duration": 13.849907,
     "end_time": "2021-02-19T01:40:12.349609",
     "exception": false,
     "start_time": "2021-02-19T01:39:58.499702",
     "status": "completed"
    },
    "tags": []
   },
   "outputs": [
    {
     "name": "stderr",
     "output_type": "stream",
     "text": [
      "/home/runner/work/corr-app/corr-app/_notebooks/scripts/read_data.py:187: SettingWithCopyWarning:\n",
      "\n",
      "\n",
      "A value is trying to be set on a copy of a slice from a DataFrame.\n",
      "Try using .loc[row_indexer,col_indexer] = value instead\n",
      "\n",
      "See the caveats in the documentation: https://pandas.pydata.org/pandas-docs/stable/user_guide/indexing.html#returning-a-view-versus-a-copy\n",
      "\n"
     ]
    },
    {
     "name": "stderr",
     "output_type": "stream",
     "text": [
      "/home/runner/work/corr-app/corr-app/_notebooks/scripts/read_data.py:215: SettingWithCopyWarning:\n",
      "\n",
      "\n",
      "A value is trying to be set on a copy of a slice from a DataFrame.\n",
      "Try using .loc[row_indexer,col_indexer] = value instead\n",
      "\n",
      "See the caveats in the documentation: https://pandas.pydata.org/pandas-docs/stable/user_guide/indexing.html#returning-a-view-versus-a-copy\n",
      "\n"
     ]
    }
   ],
   "source": [
    "#hide\n",
    "df_all = read_api()\n",
    "#df_all = df_all.drop(['SP500', 'XAU', 'ETH', 'BTC'], axis=1)\n",
    "\n"
   ]
  },
  {
   "cell_type": "code",
   "execution_count": 6,
   "id": "mature-alert",
   "metadata": {
    "execution": {
     "iopub.execute_input": "2021-02-19T01:40:12.386222Z",
     "iopub.status.busy": "2021-02-19T01:40:12.385522Z",
     "iopub.status.idle": "2021-02-19T01:40:12.421701Z",
     "shell.execute_reply": "2021-02-19T01:40:12.421124Z"
    },
    "papermill": {
     "duration": 0.054867,
     "end_time": "2021-02-19T01:40:12.421854",
     "exception": false,
     "start_time": "2021-02-19T01:40:12.366987",
     "status": "completed"
    },
    "tags": []
   },
   "outputs": [],
   "source": [
    "#hide_input\n",
    "sum_corr = df_all.corr().sum().sort_values(ascending=True).index.values\n",
    "#df_all[sum_corr].corr()"
   ]
  },
  {
   "cell_type": "markdown",
   "id": "complex-syndicate",
   "metadata": {
    "papermill": {
     "duration": 0.014485,
     "end_time": "2021-02-19T01:40:12.451509",
     "exception": false,
     "start_time": "2021-02-19T01:40:12.437024",
     "status": "completed"
    },
    "tags": []
   },
   "source": [
    "## Išplėstinė koreliacijų matrica. "
   ]
  },
  {
   "cell_type": "code",
   "execution_count": 7,
   "id": "atomic-omaha",
   "metadata": {
    "execution": {
     "iopub.execute_input": "2021-02-19T01:40:12.496989Z",
     "iopub.status.busy": "2021-02-19T01:40:12.495904Z",
     "iopub.status.idle": "2021-02-19T01:40:14.096364Z",
     "shell.execute_reply": "2021-02-19T01:40:14.095763Z"
    },
    "papermill": {
     "duration": 1.629925,
     "end_time": "2021-02-19T01:40:14.096512",
     "exception": false,
     "start_time": "2021-02-19T01:40:12.466587",
     "status": "completed"
    },
    "tags": []
   },
   "outputs": [
    {
     "data": {
      "image/png": "[encoded data removed]",
      "text/plain": [
       "<Figure size 1080x792 with 2 Axes>"
      ]
     },
     "metadata": {
      "needs_background": "light"
     },
     "output_type": "display_data"
    }
   ],
   "source": [
    "#hide_input\n",
    "plt.figure(figsize=(15, 11))\n",
    "sns.heatmap(df_all[sum_corr].corr(), annot=True, cmap=\"cubehelix\") \n",
    "sns.set(font_scale=1.25)\n",
    "plt.savefig('corr_matrix.png', format='eps')"
   ]
  },
  {
   "cell_type": "code",
   "execution_count": 8,
   "id": "arbitrary-sullivan",
   "metadata": {
    "execution": {
     "iopub.execute_input": "2021-02-19T01:40:14.134276Z",
     "iopub.status.busy": "2021-02-19T01:40:14.133600Z",
     "iopub.status.idle": "2021-02-19T01:40:14.167504Z",
     "shell.execute_reply": "2021-02-19T01:40:14.166950Z"
    },
    "papermill": {
     "duration": 0.054721,
     "end_time": "2021-02-19T01:40:14.167650",
     "exception": false,
     "start_time": "2021-02-19T01:40:14.112929",
     "status": "completed"
    },
    "tags": []
   },
   "outputs": [],
   "source": [
    "#hide\n",
    "#df_all_mrk = read_api()"
   ]
  },
  {
   "cell_type": "code",
   "execution_count": 9,
   "id": "delayed-adapter",
   "metadata": {
    "execution": {
     "iopub.execute_input": "2021-02-19T01:40:14.205535Z",
     "iopub.status.busy": "2021-02-19T01:40:14.204861Z",
     "iopub.status.idle": "2021-02-19T01:40:14.234641Z",
     "shell.execute_reply": "2021-02-19T01:40:14.234045Z"
    },
    "papermill": {
     "duration": 0.050029,
     "end_time": "2021-02-19T01:40:14.234791",
     "exception": false,
     "start_time": "2021-02-19T01:40:14.184762",
     "status": "completed"
    },
    "tags": []
   },
   "outputs": [],
   "source": [
    "#hide\n",
    "#Koreliacijų koeficientai"
   ]
  },
  {
   "cell_type": "code",
   "execution_count": 10,
   "id": "seeing-celebration",
   "metadata": {
    "execution": {
     "iopub.execute_input": "2021-02-19T01:40:14.273192Z",
     "iopub.status.busy": "2021-02-19T01:40:14.271363Z",
     "iopub.status.idle": "2021-02-19T01:40:14.298020Z",
     "shell.execute_reply": "2021-02-19T01:40:14.297502Z"
    },
    "papermill": {
     "duration": 0.047157,
     "end_time": "2021-02-19T01:40:14.298156",
     "exception": false,
     "start_time": "2021-02-19T01:40:14.250999",
     "status": "completed"
    },
    "tags": []
   },
   "outputs": [],
   "source": [
    "#hide_input\n",
    "#sum_corr = df_all_mrk.corr().sum().sort_values(ascending=True).index.values\n",
    "#df_all_mrk[sum_corr].corr()"
   ]
  },
  {
   "cell_type": "code",
   "execution_count": 11,
   "id": "other-painting",
   "metadata": {
    "execution": {
     "iopub.execute_input": "2021-02-19T01:40:14.335041Z",
     "iopub.status.busy": "2021-02-19T01:40:14.334420Z",
     "iopub.status.idle": "2021-02-19T01:40:14.357997Z",
     "shell.execute_reply": "2021-02-19T01:40:14.358532Z"
    },
    "papermill": {
     "duration": 0.046447,
     "end_time": "2021-02-19T01:40:14.358704",
     "exception": false,
     "start_time": "2021-02-19T01:40:14.312257",
     "status": "completed"
    },
    "tags": []
   },
   "outputs": [],
   "source": [
    "#hide\n",
    "#Koreliacijos matrica. "
   ]
  },
  {
   "cell_type": "code",
   "execution_count": 12,
   "id": "modular-magnitude",
   "metadata": {
    "execution": {
     "iopub.execute_input": "2021-02-19T01:40:14.395988Z",
     "iopub.status.busy": "2021-02-19T01:40:14.395364Z",
     "iopub.status.idle": "2021-02-19T01:40:14.419332Z",
     "shell.execute_reply": "2021-02-19T01:40:14.418869Z"
    },
    "papermill": {
     "duration": 0.044437,
     "end_time": "2021-02-19T01:40:14.419451",
     "exception": false,
     "start_time": "2021-02-19T01:40:14.375014",
     "status": "completed"
    },
    "tags": []
   },
   "outputs": [],
   "source": [
    "#hide_input\n",
    "#plt.figure(figsize=(15, 8))\n",
    "#sns.heatmap(df_all_mrk[sum_corr].corr(), annot=True, cmap=\"BrBG\");\n",
    "#plt.savefig('corr_matrix_all.eps', format='eps')"
   ]
  },
  {
   "cell_type": "code",
   "execution_count": null,
   "id": "original-senator",
   "metadata": {
    "papermill": {
     "duration": 0.017118,
     "end_time": "2021-02-19T01:40:14.451769",
     "exception": false,
     "start_time": "2021-02-19T01:40:14.434651",
     "status": "completed"
    },
    "tags": []
   },
   "outputs": [],
   "source": []
  },
  {
   "cell_type": "code",
   "execution_count": null,
   "id": "saving-secretariat",
   "metadata": {
    "papermill": {
     "duration": 0.013834,
     "end_time": "2021-02-19T01:40:14.479588",
     "exception": false,
     "start_time": "2021-02-19T01:40:14.465754",
     "status": "completed"
    },
    "tags": []
   },
   "outputs": [],
   "source": []
  }
 ],
 "metadata": {
  "kernelspec": {
   "display_name": "Python 3",
   "language": "python",
   "name": "python3"
  },
  "language_info": {
   "codemirror_mode": {
    "name": "ipython",
    "version": 3
   },
   "file_extension": ".py",
   "mimetype": "text/x-python",
   "name": "python",
   "nbconvert_exporter": "python",
   "pygments_lexer": "ipython3",
   "version": "3.6.12"
  },
  "papermill": {
   "default_parameters": {},
   "duration": 24.904033,
   "end_time": "2021-02-19T01:40:15.102807",
   "environment_variables": {},
   "exception": null,
   "input_path": "App-Correlation_charts.ipynb",
   "output_path": "App-Correlation_charts.ipynb",
   "parameters": {},
   "start_time": "2021-02-19T01:39:50.198774",
   "version": "2.2.2"
  }
 },
 "nbformat": 4,
 "nbformat_minor": 5
}