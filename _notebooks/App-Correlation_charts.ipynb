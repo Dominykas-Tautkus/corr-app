{
 "cells": [
  {
   "cell_type": "markdown",
   "id": "touched-facility",
   "metadata": {
    "papermill": {
     "duration": 0.017931,
     "end_time": "2021-02-06T01:35:45.077117",
     "exception": false,
     "start_time": "2021-02-06T01:35:45.059186",
     "status": "completed"
    },
    "tags": []
   },
   "source": [
    "# Koreliacijų matrica\n",
    "> Išplėstinė koreliacijų matrica. \n",
    "\n",
    "- toc: true \n",
    "- badges: true\n",
    "- comments: false\n",
    "- categories: [Dominykas Tautkus]\n",
    "- image: images/matrix.png"
   ]
  },
  {
   "cell_type": "code",
   "execution_count": null,
   "id": "premium-weekend",
   "metadata": {
    "papermill": {
     "duration": 0.01194,
     "end_time": "2021-02-06T01:35:45.101898",
     "exception": false,
     "start_time": "2021-02-06T01:35:45.089958",
     "status": "completed"
    },
    "tags": []
   },
   "outputs": [],
   "source": []
  },
  {
   "cell_type": "code",
   "execution_count": 1,
   "id": "vertical-rebate",
   "metadata": {
    "execution": {
     "iopub.execute_input": "2021-02-06T01:35:45.141260Z",
     "iopub.status.busy": "2021-02-06T01:35:45.139274Z",
     "iopub.status.idle": "2021-02-06T01:35:45.152100Z",
     "shell.execute_reply": "2021-02-06T01:35:45.152623Z"
    },
    "papermill": {
     "duration": 0.038987,
     "end_time": "2021-02-06T01:35:45.152791",
     "exception": false,
     "start_time": "2021-02-06T01:35:45.113804",
     "status": "completed"
    },
    "tags": []
   },
   "outputs": [],
   "source": [
    "#hide\n",
    "%load_ext autoreload\n",
    "%autoreload 2"
   ]
  },
  {
   "cell_type": "code",
   "execution_count": 2,
   "id": "overall-advancement",
   "metadata": {
    "execution": {
     "iopub.execute_input": "2021-02-06T01:35:45.180371Z",
     "iopub.status.busy": "2021-02-06T01:35:45.179817Z",
     "iopub.status.idle": "2021-02-06T01:35:46.466730Z",
     "shell.execute_reply": "2021-02-06T01:35:46.467208Z"
    },
    "papermill": {
     "duration": 1.302705,
     "end_time": "2021-02-06T01:35:46.467375",
     "exception": false,
     "start_time": "2021-02-06T01:35:45.164670",
     "status": "completed"
    },
    "tags": []
   },
   "outputs": [],
   "source": [
    "#hide\n",
    "from scripts.read_data import read_api\n",
    "from IPython.display import HTML\n",
    "import plotly.graph_objects as go\n"
   ]
  },
  {
   "cell_type": "code",
   "execution_count": 3,
   "id": "light-crazy",
   "metadata": {
    "execution": {
     "iopub.execute_input": "2021-02-06T01:35:46.500207Z",
     "iopub.status.busy": "2021-02-06T01:35:46.498488Z",
     "iopub.status.idle": "2021-02-06T01:35:46.522931Z",
     "shell.execute_reply": "2021-02-06T01:35:46.523494Z"
    },
    "papermill": {
     "duration": 0.043776,
     "end_time": "2021-02-06T01:35:46.523704",
     "exception": false,
     "start_time": "2021-02-06T01:35:46.479928",
     "status": "completed"
    },
    "tags": []
   },
   "outputs": [],
   "source": [
    "#hide\n",
    "### ICO koreliacija"
   ]
  },
  {
   "cell_type": "code",
   "execution_count": 4,
   "id": "likely-bahrain",
   "metadata": {
    "execution": {
     "iopub.execute_input": "2021-02-06T01:35:46.553387Z",
     "iopub.status.busy": "2021-02-06T01:35:46.552765Z",
     "iopub.status.idle": "2021-02-06T01:35:49.174899Z",
     "shell.execute_reply": "2021-02-06T01:35:49.175377Z"
    },
    "papermill": {
     "duration": 2.639017,
     "end_time": "2021-02-06T01:35:49.175569",
     "exception": false,
     "start_time": "2021-02-06T01:35:46.536552",
     "status": "completed"
    },
    "tags": []
   },
   "outputs": [],
   "source": [
    "#hide\n",
    "import matplotlib.pyplot as plt\n",
    "import numpy as np\n",
    "import pandas as pd\n",
    "import seaborn as sns\n",
    "import matplotlib.pyplot as plt \n",
    "import matplotlib.dates as mdates\n",
    "import matplotlib.pyplot as plt"
   ]
  },
  {
   "cell_type": "code",
   "execution_count": 5,
   "id": "superior-blanket",
   "metadata": {
    "execution": {
     "iopub.execute_input": "2021-02-06T01:35:49.205065Z",
     "iopub.status.busy": "2021-02-06T01:35:49.204449Z",
     "iopub.status.idle": "2021-02-06T01:36:06.078473Z",
     "shell.execute_reply": "2021-02-06T01:36:06.077882Z"
    },
    "papermill": {
     "duration": 16.890598,
     "end_time": "2021-02-06T01:36:06.078609",
     "exception": false,
     "start_time": "2021-02-06T01:35:49.188011",
     "status": "completed"
    },
    "tags": []
   },
   "outputs": [
    {
     "name": "stderr",
     "output_type": "stream",
     "text": [
      "/home/runner/work/corr-app/corr-app/_notebooks/scripts/read_data.py:187: SettingWithCopyWarning:\n",
      "\n",
      "\n",
      "A value is trying to be set on a copy of a slice from a DataFrame.\n",
      "Try using .loc[row_indexer,col_indexer] = value instead\n",
      "\n",
      "See the caveats in the documentation: https://pandas.pydata.org/pandas-docs/stable/user_guide/indexing.html#returning-a-view-versus-a-copy\n",
      "\n"
     ]
    },
    {
     "name": "stderr",
     "output_type": "stream",
     "text": [
      "/home/runner/work/corr-app/corr-app/_notebooks/scripts/read_data.py:215: SettingWithCopyWarning:\n",
      "\n",
      "\n",
      "A value is trying to be set on a copy of a slice from a DataFrame.\n",
      "Try using .loc[row_indexer,col_indexer] = value instead\n",
      "\n",
      "See the caveats in the documentation: https://pandas.pydata.org/pandas-docs/stable/user_guide/indexing.html#returning-a-view-versus-a-copy\n",
      "\n"
     ]
    }
   ],
   "source": [
    "#hide\n",
    "df_all = read_api()\n",
    "#df_all = df_all.drop(['SP500', 'XAU', 'ETH', 'BTC'], axis=1)\n",
    "\n"
   ]
  },
  {
   "cell_type": "code",
   "execution_count": 6,
   "id": "mature-alert",
   "metadata": {
    "execution": {
     "iopub.execute_input": "2021-02-06T01:36:06.107250Z",
     "iopub.status.busy": "2021-02-06T01:36:06.106654Z",
     "iopub.status.idle": "2021-02-06T01:36:06.137547Z",
     "shell.execute_reply": "2021-02-06T01:36:06.136901Z"
    },
    "papermill": {
     "duration": 0.047212,
     "end_time": "2021-02-06T01:36:06.137713",
     "exception": false,
     "start_time": "2021-02-06T01:36:06.090501",
     "status": "completed"
    },
    "tags": []
   },
   "outputs": [],
   "source": [
    "#hide_input\n",
    "sum_corr = df_all.corr().sum().sort_values(ascending=True).index.values\n",
    "#df_all[sum_corr].corr()"
   ]
  },
  {
   "cell_type": "markdown",
   "id": "complex-syndicate",
   "metadata": {
    "papermill": {
     "duration": 0.011924,
     "end_time": "2021-02-06T01:36:06.161637",
     "exception": false,
     "start_time": "2021-02-06T01:36:06.149713",
     "status": "completed"
    },
    "tags": []
   },
   "source": [
    "## Išplėstinė koreliacijų matrica. "
   ]
  },
  {
   "cell_type": "code",
   "execution_count": 7,
   "id": "atomic-omaha",
   "metadata": {
    "execution": {
     "iopub.execute_input": "2021-02-06T01:36:06.193503Z",
     "iopub.status.busy": "2021-02-06T01:36:06.192920Z",
     "iopub.status.idle": "2021-02-06T01:36:07.457012Z",
     "shell.execute_reply": "2021-02-06T01:36:07.457866Z"
    },
    "papermill": {
     "duration": 1.284001,
     "end_time": "2021-02-06T01:36:07.458030",
     "exception": false,
     "start_time": "2021-02-06T01:36:06.174029",
     "status": "completed"
    },
    "tags": []
   },
   "outputs": [
    {
     "data": {
      "image/png": "[encoded data removed]",
      "text/plain": [
       "<Figure size 1080x792 with 2 Axes>"
      ]
     },
     "metadata": {
      "needs_background": "light"
     },
     "output_type": "display_data"
    }
   ],
   "source": [
    "#hide_input\n",
    "plt.figure(figsize=(15, 11))\n",
    "sns.heatmap(df_all[sum_corr].corr(), annot=True, cmap=\"cubehelix\") \n",
    "sns.set(font_scale=1.25)\n",
    "plt.savefig('corr_matrix.png', format='eps')"
   ]
  },
  {
   "cell_type": "code",
   "execution_count": 8,
   "id": "arbitrary-sullivan",
   "metadata": {
    "execution": {
     "iopub.execute_input": "2021-02-06T01:36:07.648422Z",
     "iopub.status.busy": "2021-02-06T01:36:07.646909Z",
     "iopub.status.idle": "2021-02-06T01:36:07.674955Z",
     "shell.execute_reply": "2021-02-06T01:36:07.674214Z"
    },
    "papermill": {
     "duration": 0.201764,
     "end_time": "2021-02-06T01:36:07.675107",
     "exception": false,
     "start_time": "2021-02-06T01:36:07.473343",
     "status": "completed"
    },
    "tags": []
   },
   "outputs": [],
   "source": [
    "#hide\n",
    "#df_all_mrk = read_api()"
   ]
  },
  {
   "cell_type": "code",
   "execution_count": 9,
   "id": "delayed-adapter",
   "metadata": {
    "execution": {
     "iopub.execute_input": "2021-02-06T01:36:07.710690Z",
     "iopub.status.busy": "2021-02-06T01:36:07.710124Z",
     "iopub.status.idle": "2021-02-06T01:36:07.737016Z",
     "shell.execute_reply": "2021-02-06T01:36:07.736547Z"
    },
    "papermill": {
     "duration": 0.045889,
     "end_time": "2021-02-06T01:36:07.737133",
     "exception": false,
     "start_time": "2021-02-06T01:36:07.691244",
     "status": "completed"
    },
    "tags": []
   },
   "outputs": [],
   "source": [
    "#hide\n",
    "#Koreliacijų koeficientai"
   ]
  },
  {
   "cell_type": "code",
   "execution_count": 10,
   "id": "seeing-celebration",
   "metadata": {
    "execution": {
     "iopub.execute_input": "2021-02-06T01:36:07.770513Z",
     "iopub.status.busy": "2021-02-06T01:36:07.769544Z",
     "iopub.status.idle": "2021-02-06T01:36:07.798917Z",
     "shell.execute_reply": "2021-02-06T01:36:07.797989Z"
    },
    "papermill": {
     "duration": 0.047909,
     "end_time": "2021-02-06T01:36:07.799196",
     "exception": false,
     "start_time": "2021-02-06T01:36:07.751287",
     "status": "completed"
    },
    "tags": []
   },
   "outputs": [],
   "source": [
    "#hide_input\n",
    "#sum_corr = df_all_mrk.corr().sum().sort_values(ascending=True).index.values\n",
    "#df_all_mrk[sum_corr].corr()"
   ]
  },
  {
   "cell_type": "code",
   "execution_count": 11,
   "id": "other-painting",
   "metadata": {
    "execution": {
     "iopub.execute_input": "2021-02-06T01:36:07.839222Z",
     "iopub.status.busy": "2021-02-06T01:36:07.838626Z",
     "iopub.status.idle": "2021-02-06T01:36:07.864792Z",
     "shell.execute_reply": "2021-02-06T01:36:07.864321Z"
    },
    "papermill": {
     "duration": 0.044793,
     "end_time": "2021-02-06T01:36:07.864918",
     "exception": false,
     "start_time": "2021-02-06T01:36:07.820125",
     "status": "completed"
    },
    "tags": []
   },
   "outputs": [],
   "source": [
    "#hide\n",
    "#Koreliacijos matrica. "
   ]
  },
  {
   "cell_type": "code",
   "execution_count": 12,
   "id": "modular-magnitude",
   "metadata": {
    "execution": {
     "iopub.execute_input": "2021-02-06T01:36:07.897621Z",
     "iopub.status.busy": "2021-02-06T01:36:07.897035Z",
     "iopub.status.idle": "2021-02-06T01:36:07.924348Z",
     "shell.execute_reply": "2021-02-06T01:36:07.923680Z"
    },
    "papermill": {
     "duration": 0.045085,
     "end_time": "2021-02-06T01:36:07.924502",
     "exception": false,
     "start_time": "2021-02-06T01:36:07.879417",
     "status": "completed"
    },
    "tags": []
   },
   "outputs": [],
   "source": [
    "#hide_input\n",
    "#plt.figure(figsize=(15, 8))\n",
    "#sns.heatmap(df_all_mrk[sum_corr].corr(), annot=True, cmap=\"BrBG\");\n",
    "#plt.savefig('corr_matrix_all.eps', format='eps')"
   ]
  },
  {
   "cell_type": "code",
   "execution_count": null,
   "id": "original-senator",
   "metadata": {
    "papermill": {
     "duration": 0.014177,
     "end_time": "2021-02-06T01:36:07.957261",
     "exception": false,
     "start_time": "2021-02-06T01:36:07.943084",
     "status": "completed"
    },
    "tags": []
   },
   "outputs": [],
   "source": []
  },
  {
   "cell_type": "code",
   "execution_count": null,
   "id": "saving-secretariat",
   "metadata": {
    "papermill": {
     "duration": 0.014403,
     "end_time": "2021-02-06T01:36:07.985702",
     "exception": false,
     "start_time": "2021-02-06T01:36:07.971299",
     "status": "completed"
    },
    "tags": []
   },
   "outputs": [],
   "source": []
  }
 ],
 "metadata": {
  "kernelspec": {
   "display_name": "Python 3",
   "language": "python",
   "name": "python3"
  },
  "language_info": {
   "codemirror_mode": {
    "name": "ipython",
    "version": 3
   },
   "file_extension": ".py",
   "mimetype": "text/x-python",
   "name": "python",
   "nbconvert_exporter": "python",
   "pygments_lexer": "ipython3",
   "version": "3.6.12"
  },
  "papermill": {
   "default_parameters": {},
   "duration": 25.325429,
   "end_time": "2021-02-06T01:36:09.304778",
   "environment_variables": {},
   "exception": null,
   "input_path": "App-Correlation_charts.ipynb",
   "output_path": "App-Correlation_charts.ipynb",
   "parameters": {},
   "start_time": "2021-02-06T01:35:43.979349",
   "version": "2.2.2"
  }
 },
 "nbformat": 4,
 "nbformat_minor": 5
}