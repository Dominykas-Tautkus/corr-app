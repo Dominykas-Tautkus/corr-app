{
 "cells": [
  {
   "cell_type": "markdown",
   "id": "touched-facility",
   "metadata": {
    "papermill": {
     "duration": 0.018348,
     "end_time": "2021-04-22T02:07:50.229433",
     "exception": false,
     "start_time": "2021-04-22T02:07:50.211085",
     "status": "completed"
    },
    "tags": []
   },
   "source": [
    "# Koreliacijų matrica\n",
    "> Išplėstinė koreliacijų matrica. \n",
    "\n",
    "- toc: true \n",
    "- badges: true\n",
    "- comments: false\n",
    "- categories: [Dominykas Tautkus]\n",
    "- image: images/matrix.png"
   ]
  },
  {
   "cell_type": "code",
   "execution_count": null,
   "id": "premium-weekend",
   "metadata": {
    "papermill": {
     "duration": 0.012905,
     "end_time": "2021-04-22T02:07:50.255499",
     "exception": false,
     "start_time": "2021-04-22T02:07:50.242594",
     "status": "completed"
    },
    "tags": []
   },
   "outputs": [],
   "source": []
  },
  {
   "cell_type": "code",
   "execution_count": 1,
   "id": "vertical-rebate",
   "metadata": {
    "execution": {
     "iopub.execute_input": "2021-04-22T02:07:50.291868Z",
     "iopub.status.busy": "2021-04-22T02:07:50.291088Z",
     "iopub.status.idle": "2021-04-22T02:07:50.302479Z",
     "shell.execute_reply": "2021-04-22T02:07:50.301965Z"
    },
    "papermill": {
     "duration": 0.034064,
     "end_time": "2021-04-22T02:07:50.302613",
     "exception": false,
     "start_time": "2021-04-22T02:07:50.268549",
     "status": "completed"
    },
    "tags": []
   },
   "outputs": [],
   "source": [
    "#hide\n",
    "%load_ext autoreload\n",
    "%autoreload 2"
   ]
  },
  {
   "cell_type": "code",
   "execution_count": 2,
   "id": "overall-advancement",
   "metadata": {
    "execution": {
     "iopub.execute_input": "2021-04-22T02:07:50.330441Z",
     "iopub.status.busy": "2021-04-22T02:07:50.329769Z",
     "iopub.status.idle": "2021-04-22T02:07:52.021344Z",
     "shell.execute_reply": "2021-04-22T02:07:52.020774Z"
    },
    "papermill": {
     "duration": 1.706455,
     "end_time": "2021-04-22T02:07:52.021489",
     "exception": false,
     "start_time": "2021-04-22T02:07:50.315034",
     "status": "completed"
    },
    "tags": []
   },
   "outputs": [],
   "source": [
    "#hide\n",
    "from scripts.read_data import read_api\n",
    "from IPython.display import HTML\n",
    "import plotly.graph_objects as go\n"
   ]
  },
  {
   "cell_type": "code",
   "execution_count": 3,
   "id": "light-crazy",
   "metadata": {
    "execution": {
     "iopub.execute_input": "2021-04-22T02:07:52.064695Z",
     "iopub.status.busy": "2021-04-22T02:07:52.064063Z",
     "iopub.status.idle": "2021-04-22T02:07:52.085975Z",
     "shell.execute_reply": "2021-04-22T02:07:52.086462Z"
    },
    "papermill": {
     "duration": 0.05199,
     "end_time": "2021-04-22T02:07:52.086623",
     "exception": false,
     "start_time": "2021-04-22T02:07:52.034633",
     "status": "completed"
    },
    "tags": []
   },
   "outputs": [],
   "source": [
    "#hide\n",
    "### ICO koreliacija"
   ]
  },
  {
   "cell_type": "code",
   "execution_count": 4,
   "id": "likely-bahrain",
   "metadata": {
    "execution": {
     "iopub.execute_input": "2021-04-22T02:07:52.119007Z",
     "iopub.status.busy": "2021-04-22T02:07:52.118328Z",
     "iopub.status.idle": "2021-04-22T02:07:53.121981Z",
     "shell.execute_reply": "2021-04-22T02:07:53.121477Z"
    },
    "papermill": {
     "duration": 1.022306,
     "end_time": "2021-04-22T02:07:53.122119",
     "exception": false,
     "start_time": "2021-04-22T02:07:52.099813",
     "status": "completed"
    },
    "tags": []
   },
   "outputs": [],
   "source": [
    "#hide\n",
    "import matplotlib.pyplot as plt\n",
    "import numpy as np\n",
    "import pandas as pd\n",
    "import seaborn as sns\n",
    "import matplotlib.pyplot as plt \n",
    "import matplotlib.dates as mdates\n",
    "import matplotlib.pyplot as plt"
   ]
  },
  {
   "cell_type": "code",
   "execution_count": 5,
   "id": "superior-blanket",
   "metadata": {
    "execution": {
     "iopub.execute_input": "2021-04-22T02:07:53.164104Z",
     "iopub.status.busy": "2021-04-22T02:07:53.155703Z",
     "iopub.status.idle": "2021-04-22T02:08:03.421758Z",
     "shell.execute_reply": "2021-04-22T02:08:03.421208Z"
    },
    "papermill": {
     "duration": 10.286354,
     "end_time": "2021-04-22T02:08:03.421902",
     "exception": false,
     "start_time": "2021-04-22T02:07:53.135548",
     "status": "completed"
    },
    "tags": []
   },
   "outputs": [
    {
     "name": "stderr",
     "output_type": "stream",
     "text": [
      "/home/runner/work/corr-app/corr-app/_notebooks/scripts/read_data.py:187: SettingWithCopyWarning:\n",
      "\n",
      "\n",
      "A value is trying to be set on a copy of a slice from a DataFrame.\n",
      "Try using .loc[row_indexer,col_indexer] = value instead\n",
      "\n",
      "See the caveats in the documentation: https://pandas.pydata.org/pandas-docs/stable/user_guide/indexing.html#returning-a-view-versus-a-copy\n",
      "\n"
     ]
    },
    {
     "name": "stderr",
     "output_type": "stream",
     "text": [
      "/home/runner/work/corr-app/corr-app/_notebooks/scripts/read_data.py:215: SettingWithCopyWarning:\n",
      "\n",
      "\n",
      "A value is trying to be set on a copy of a slice from a DataFrame.\n",
      "Try using .loc[row_indexer,col_indexer] = value instead\n",
      "\n",
      "See the caveats in the documentation: https://pandas.pydata.org/pandas-docs/stable/user_guide/indexing.html#returning-a-view-versus-a-copy\n",
      "\n"
     ]
    }
   ],
   "source": [
    "#hide\n",
    "df_all = read_api()\n",
    "#df_all = df_all.drop(['SP500', 'XAU', 'ETH', 'BTC'], axis=1)\n",
    "\n"
   ]
  },
  {
   "cell_type": "code",
   "execution_count": 6,
   "id": "mature-alert",
   "metadata": {
    "execution": {
     "iopub.execute_input": "2021-04-22T02:08:03.457121Z",
     "iopub.status.busy": "2021-04-22T02:08:03.456526Z",
     "iopub.status.idle": "2021-04-22T02:08:03.484791Z",
     "shell.execute_reply": "2021-04-22T02:08:03.483825Z"
    },
    "papermill": {
     "duration": 0.049667,
     "end_time": "2021-04-22T02:08:03.484939",
     "exception": false,
     "start_time": "2021-04-22T02:08:03.435272",
     "status": "completed"
    },
    "tags": []
   },
   "outputs": [],
   "source": [
    "#hide_input\n",
    "sum_corr = df_all.corr().sum().sort_values(ascending=True).index.values\n",
    "#df_all[sum_corr].corr()"
   ]
  },
  {
   "cell_type": "markdown",
   "id": "complex-syndicate",
   "metadata": {
    "papermill": {
     "duration": 0.015213,
     "end_time": "2021-04-22T02:08:03.514950",
     "exception": false,
     "start_time": "2021-04-22T02:08:03.499737",
     "status": "completed"
    },
    "tags": []
   },
   "source": [
    "## Išplėstinė koreliacijų matrica. "
   ]
  },
  {
   "cell_type": "code",
   "execution_count": 7,
   "id": "atomic-omaha",
   "metadata": {
    "execution": {
     "iopub.execute_input": "2021-04-22T02:08:03.556738Z",
     "iopub.status.busy": "2021-04-22T02:08:03.550347Z",
     "iopub.status.idle": "2021-04-22T02:08:05.008518Z",
     "shell.execute_reply": "2021-04-22T02:08:05.007968Z"
    },
    "papermill": {
     "duration": 1.47944,
     "end_time": "2021-04-22T02:08:05.008656",
     "exception": false,
     "start_time": "2021-04-22T02:08:03.529216",
     "status": "completed"
    },
    "tags": []
   },
   "outputs": [
    {
     "data": {
      "image/png": "[encoded data removed]",
      "text/plain": [
       "<Figure size 1080x792 with 2 Axes>"
      ]
     },
     "metadata": {
      "needs_background": "light"
     },
     "output_type": "display_data"
    }
   ],
   "source": [
    "#hide_input\n",
    "plt.figure(figsize=(15, 11))\n",
    "sns.heatmap(df_all[sum_corr].corr(), annot=True, cmap=\"cubehelix\") \n",
    "sns.set(font_scale=1.25)\n",
    "plt.savefig('corr_matrix.png', format='eps')"
   ]
  },
  {
   "cell_type": "code",
   "execution_count": 8,
   "id": "arbitrary-sullivan",
   "metadata": {
    "execution": {
     "iopub.execute_input": "2021-04-22T02:08:05.062067Z",
     "iopub.status.busy": "2021-04-22T02:08:05.054591Z",
     "iopub.status.idle": "2021-04-22T02:08:05.077714Z",
     "shell.execute_reply": "2021-04-22T02:08:05.077207Z"
    },
    "papermill": {
     "duration": 0.05361,
     "end_time": "2021-04-22T02:08:05.077837",
     "exception": false,
     "start_time": "2021-04-22T02:08:05.024227",
     "status": "completed"
    },
    "tags": []
   },
   "outputs": [],
   "source": [
    "#hide\n",
    "#df_all_mrk = read_api()"
   ]
  },
  {
   "cell_type": "code",
   "execution_count": 9,
   "id": "delayed-adapter",
   "metadata": {
    "execution": {
     "iopub.execute_input": "2021-04-22T02:08:05.126253Z",
     "iopub.status.busy": "2021-04-22T02:08:05.125312Z",
     "iopub.status.idle": "2021-04-22T02:08:05.147074Z",
     "shell.execute_reply": "2021-04-22T02:08:05.145903Z"
    },
    "papermill": {
     "duration": 0.054263,
     "end_time": "2021-04-22T02:08:05.147206",
     "exception": false,
     "start_time": "2021-04-22T02:08:05.092943",
     "status": "completed"
    },
    "tags": []
   },
   "outputs": [],
   "source": [
    "#hide\n",
    "#Koreliacijų koeficientai"
   ]
  },
  {
   "cell_type": "code",
   "execution_count": 10,
   "id": "seeing-celebration",
   "metadata": {
    "execution": {
     "iopub.execute_input": "2021-04-22T02:08:05.181653Z",
     "iopub.status.busy": "2021-04-22T02:08:05.180796Z",
     "iopub.status.idle": "2021-04-22T02:08:05.204797Z",
     "shell.execute_reply": "2021-04-22T02:08:05.205281Z"
    },
    "papermill": {
     "duration": 0.04379,
     "end_time": "2021-04-22T02:08:05.205433",
     "exception": false,
     "start_time": "2021-04-22T02:08:05.161643",
     "status": "completed"
    },
    "tags": []
   },
   "outputs": [],
   "source": [
    "#hide_input\n",
    "#sum_corr = df_all_mrk.corr().sum().sort_values(ascending=True).index.values\n",
    "#df_all_mrk[sum_corr].corr()"
   ]
  },
  {
   "cell_type": "code",
   "execution_count": 11,
   "id": "other-painting",
   "metadata": {
    "execution": {
     "iopub.execute_input": "2021-04-22T02:08:05.239424Z",
     "iopub.status.busy": "2021-04-22T02:08:05.238778Z",
     "iopub.status.idle": "2021-04-22T02:08:05.263651Z",
     "shell.execute_reply": "2021-04-22T02:08:05.263185Z"
    },
    "papermill": {
     "duration": 0.043679,
     "end_time": "2021-04-22T02:08:05.263768",
     "exception": false,
     "start_time": "2021-04-22T02:08:05.220089",
     "status": "completed"
    },
    "tags": []
   },
   "outputs": [],
   "source": [
    "#hide\n",
    "#Koreliacijos matrica. "
   ]
  },
  {
   "cell_type": "code",
   "execution_count": 12,
   "id": "modular-magnitude",
   "metadata": {
    "execution": {
     "iopub.execute_input": "2021-04-22T02:08:05.296428Z",
     "iopub.status.busy": "2021-04-22T02:08:05.295826Z",
     "iopub.status.idle": "2021-04-22T02:08:05.320760Z",
     "shell.execute_reply": "2021-04-22T02:08:05.321205Z"
    },
    "papermill": {
     "duration": 0.042505,
     "end_time": "2021-04-22T02:08:05.321335",
     "exception": false,
     "start_time": "2021-04-22T02:08:05.278830",
     "status": "completed"
    },
    "tags": []
   },
   "outputs": [],
   "source": [
    "#hide_input\n",
    "#plt.figure(figsize=(15, 8))\n",
    "#sns.heatmap(df_all_mrk[sum_corr].corr(), annot=True, cmap=\"BrBG\");\n",
    "#plt.savefig('corr_matrix_all.eps', format='eps')"
   ]
  },
  {
   "cell_type": "code",
   "execution_count": null,
   "id": "original-senator",
   "metadata": {
    "papermill": {
     "duration": 0.014571,
     "end_time": "2021-04-22T02:08:05.350298",
     "exception": false,
     "start_time": "2021-04-22T02:08:05.335727",
     "status": "completed"
    },
    "tags": []
   },
   "outputs": [],
   "source": []
  },
  {
   "cell_type": "code",
   "execution_count": null,
   "id": "saving-secretariat",
   "metadata": {
    "papermill": {
     "duration": 0.014793,
     "end_time": "2021-04-22T02:08:05.379346",
     "exception": false,
     "start_time": "2021-04-22T02:08:05.364553",
     "status": "completed"
    },
    "tags": []
   },
   "outputs": [],
   "source": []
  }
 ],
 "metadata": {
  "kernelspec": {
   "display_name": "Python 3",
   "language": "python",
   "name": "python3"
  },
  "language_info": {
   "codemirror_mode": {
    "name": "ipython",
    "version": 3
   },
   "file_extension": ".py",
   "mimetype": "text/x-python",
   "name": "python",
   "nbconvert_exporter": "python",
   "pygments_lexer": "ipython3",
   "version": "3.6.13"
  },
  "papermill": {
   "default_parameters": {},
   "duration": 16.771508,
   "end_time": "2021-04-22T02:08:05.902218",
   "environment_variables": {},
   "exception": null,
   "input_path": "App-Correlation_charts.ipynb",
   "output_path": "App-Correlation_charts.ipynb",
   "parameters": {},
   "start_time": "2021-04-22T02:07:49.130710",
   "version": "2.2.2"
  }
 },
 "nbformat": 4,
 "nbformat_minor": 5
}