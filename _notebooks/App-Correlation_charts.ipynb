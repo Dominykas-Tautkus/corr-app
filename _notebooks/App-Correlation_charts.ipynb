{
 "cells": [
  {
   "cell_type": "markdown",
   "id": "touched-facility",
   "metadata": {
    "papermill": {
     "duration": 0.020464,
     "end_time": "2021-07-07T01:58:17.069285",
     "exception": false,
     "start_time": "2021-07-07T01:58:17.048821",
     "status": "completed"
    },
    "tags": []
   },
   "source": [
    "# Koreliacijų matrica\n",
    "> Išplėstinė koreliacijų matrica. \n",
    "\n",
    "- toc: true \n",
    "- badges: true\n",
    "- comments: false\n",
    "- categories: [Dominykas Tautkus]\n",
    "- image: images/matrix.png"
   ]
  },
  {
   "cell_type": "code",
   "execution_count": null,
   "id": "premium-weekend",
   "metadata": {
    "papermill": {
     "duration": 0.012302,
     "end_time": "2021-07-07T01:58:17.099809",
     "exception": false,
     "start_time": "2021-07-07T01:58:17.087507",
     "status": "completed"
    },
    "tags": []
   },
   "outputs": [],
   "source": []
  },
  {
   "cell_type": "code",
   "execution_count": 1,
   "id": "vertical-rebate",
   "metadata": {
    "execution": {
     "iopub.execute_input": "2021-07-07T01:58:17.137905Z",
     "iopub.status.busy": "2021-07-07T01:58:17.137303Z",
     "iopub.status.idle": "2021-07-07T01:58:17.149926Z",
     "shell.execute_reply": "2021-07-07T01:58:17.149434Z"
    },
    "papermill": {
     "duration": 0.036935,
     "end_time": "2021-07-07T01:58:17.150061",
     "exception": false,
     "start_time": "2021-07-07T01:58:17.113126",
     "status": "completed"
    },
    "tags": []
   },
   "outputs": [],
   "source": [
    "#hide\n",
    "%load_ext autoreload\n",
    "%autoreload 2"
   ]
  },
  {
   "cell_type": "code",
   "execution_count": 2,
   "id": "overall-advancement",
   "metadata": {
    "execution": {
     "iopub.execute_input": "2021-07-07T01:58:17.178825Z",
     "iopub.status.busy": "2021-07-07T01:58:17.178236Z",
     "iopub.status.idle": "2021-07-07T01:58:18.598196Z",
     "shell.execute_reply": "2021-07-07T01:58:18.597677Z"
    },
    "papermill": {
     "duration": 1.436009,
     "end_time": "2021-07-07T01:58:18.598332",
     "exception": false,
     "start_time": "2021-07-07T01:58:17.162323",
     "status": "completed"
    },
    "tags": []
   },
   "outputs": [],
   "source": [
    "#hide\n",
    "from scripts.read_data import read_api\n",
    "from IPython.display import HTML\n",
    "import plotly.graph_objects as go\n"
   ]
  },
  {
   "cell_type": "code",
   "execution_count": 3,
   "id": "light-crazy",
   "metadata": {
    "execution": {
     "iopub.execute_input": "2021-07-07T01:58:18.630989Z",
     "iopub.status.busy": "2021-07-07T01:58:18.630374Z",
     "iopub.status.idle": "2021-07-07T01:58:18.658957Z",
     "shell.execute_reply": "2021-07-07T01:58:18.658389Z"
    },
    "papermill": {
     "duration": 0.046939,
     "end_time": "2021-07-07T01:58:18.659086",
     "exception": false,
     "start_time": "2021-07-07T01:58:18.612147",
     "status": "completed"
    },
    "tags": []
   },
   "outputs": [],
   "source": [
    "#hide\n",
    "### ICO koreliacija"
   ]
  },
  {
   "cell_type": "code",
   "execution_count": 4,
   "id": "likely-bahrain",
   "metadata": {
    "execution": {
     "iopub.execute_input": "2021-07-07T01:58:18.692853Z",
     "iopub.status.busy": "2021-07-07T01:58:18.692216Z",
     "iopub.status.idle": "2021-07-07T01:58:19.848589Z",
     "shell.execute_reply": "2021-07-07T01:58:19.849600Z"
    },
    "papermill": {
     "duration": 1.174683,
     "end_time": "2021-07-07T01:58:19.849767",
     "exception": false,
     "start_time": "2021-07-07T01:58:18.675084",
     "status": "completed"
    },
    "tags": []
   },
   "outputs": [],
   "source": [
    "#hide\n",
    "import matplotlib.pyplot as plt\n",
    "import numpy as np\n",
    "import pandas as pd\n",
    "import seaborn as sns\n",
    "import matplotlib.pyplot as plt \n",
    "import matplotlib.dates as mdates\n",
    "import matplotlib.pyplot as plt"
   ]
  },
  {
   "cell_type": "code",
   "execution_count": 5,
   "id": "superior-blanket",
   "metadata": {
    "execution": {
     "iopub.execute_input": "2021-07-07T01:58:19.885915Z",
     "iopub.status.busy": "2021-07-07T01:58:19.883505Z",
     "iopub.status.idle": "2021-07-07T01:58:30.360558Z",
     "shell.execute_reply": "2021-07-07T01:58:30.360007Z"
    },
    "papermill": {
     "duration": 10.496429,
     "end_time": "2021-07-07T01:58:30.360718",
     "exception": false,
     "start_time": "2021-07-07T01:58:19.864289",
     "status": "completed"
    },
    "tags": []
   },
   "outputs": [
    {
     "name": "stderr",
     "output_type": "stream",
     "text": [
      "/home/runner/work/corr-app/corr-app/_notebooks/scripts/read_data.py:187: SettingWithCopyWarning:\n",
      "\n",
      "\n",
      "A value is trying to be set on a copy of a slice from a DataFrame.\n",
      "Try using .loc[row_indexer,col_indexer] = value instead\n",
      "\n",
      "See the caveats in the documentation: https://pandas.pydata.org/pandas-docs/stable/user_guide/indexing.html#returning-a-view-versus-a-copy\n",
      "\n"
     ]
    },
    {
     "name": "stderr",
     "output_type": "stream",
     "text": [
      "/home/runner/work/corr-app/corr-app/_notebooks/scripts/read_data.py:215: SettingWithCopyWarning:\n",
      "\n",
      "\n",
      "A value is trying to be set on a copy of a slice from a DataFrame.\n",
      "Try using .loc[row_indexer,col_indexer] = value instead\n",
      "\n",
      "See the caveats in the documentation: https://pandas.pydata.org/pandas-docs/stable/user_guide/indexing.html#returning-a-view-versus-a-copy\n",
      "\n"
     ]
    }
   ],
   "source": [
    "#hide\n",
    "df_all = read_api()\n",
    "#df_all = df_all.drop(['SP500', 'XAU', 'ETH', 'BTC'], axis=1)\n",
    "\n"
   ]
  },
  {
   "cell_type": "code",
   "execution_count": 6,
   "id": "mature-alert",
   "metadata": {
    "execution": {
     "iopub.execute_input": "2021-07-07T01:58:30.391149Z",
     "iopub.status.busy": "2021-07-07T01:58:30.390560Z",
     "iopub.status.idle": "2021-07-07T01:58:30.429874Z",
     "shell.execute_reply": "2021-07-07T01:58:30.430528Z"
    },
    "papermill": {
     "duration": 0.056309,
     "end_time": "2021-07-07T01:58:30.430686",
     "exception": false,
     "start_time": "2021-07-07T01:58:30.374377",
     "status": "completed"
    },
    "tags": []
   },
   "outputs": [],
   "source": [
    "#hide_input\n",
    "sum_corr = df_all.corr().sum().sort_values(ascending=True).index.values\n",
    "#df_all[sum_corr].corr()"
   ]
  },
  {
   "cell_type": "markdown",
   "id": "complex-syndicate",
   "metadata": {
    "papermill": {
     "duration": 0.014052,
     "end_time": "2021-07-07T01:58:30.458084",
     "exception": false,
     "start_time": "2021-07-07T01:58:30.444032",
     "status": "completed"
    },
    "tags": []
   },
   "source": [
    "## Išplėstinė koreliacijų matrica. "
   ]
  },
  {
   "cell_type": "code",
   "execution_count": 7,
   "id": "atomic-omaha",
   "metadata": {
    "execution": {
     "iopub.execute_input": "2021-07-07T01:58:30.490129Z",
     "iopub.status.busy": "2021-07-07T01:58:30.489512Z",
     "iopub.status.idle": "2021-07-07T01:58:32.047459Z",
     "shell.execute_reply": "2021-07-07T01:58:32.046922Z"
    },
    "papermill": {
     "duration": 1.575962,
     "end_time": "2021-07-07T01:58:32.047590",
     "exception": false,
     "start_time": "2021-07-07T01:58:30.471628",
     "status": "completed"
    },
    "tags": []
   },
   "outputs": [
    {
     "data": {
      "image/png": "[encoded data removed]",
      "text/plain": [
       "<Figure size 1080x792 with 2 Axes>"
      ]
     },
     "metadata": {
      "needs_background": "light"
     },
     "output_type": "display_data"
    }
   ],
   "source": [
    "#hide_input\n",
    "plt.figure(figsize=(15, 11))\n",
    "sns.heatmap(df_all[sum_corr].corr(), annot=True, cmap=\"cubehelix\") \n",
    "sns.set(font_scale=1.25)\n",
    "plt.savefig('corr_matrix.png', format='eps')"
   ]
  },
  {
   "cell_type": "code",
   "execution_count": 8,
   "id": "arbitrary-sullivan",
   "metadata": {
    "execution": {
     "iopub.execute_input": "2021-07-07T01:58:32.084584Z",
     "iopub.status.busy": "2021-07-07T01:58:32.083982Z",
     "iopub.status.idle": "2021-07-07T01:58:32.117495Z",
     "shell.execute_reply": "2021-07-07T01:58:32.116582Z"
    },
    "papermill": {
     "duration": 0.054007,
     "end_time": "2021-07-07T01:58:32.117768",
     "exception": false,
     "start_time": "2021-07-07T01:58:32.063761",
     "status": "completed"
    },
    "tags": []
   },
   "outputs": [],
   "source": [
    "#hide\n",
    "#df_all_mrk = read_api()"
   ]
  },
  {
   "cell_type": "code",
   "execution_count": 9,
   "id": "delayed-adapter",
   "metadata": {
    "execution": {
     "iopub.execute_input": "2021-07-07T01:58:32.157704Z",
     "iopub.status.busy": "2021-07-07T01:58:32.156984Z",
     "iopub.status.idle": "2021-07-07T01:58:32.187649Z",
     "shell.execute_reply": "2021-07-07T01:58:32.187062Z"
    },
    "papermill": {
     "duration": 0.053908,
     "end_time": "2021-07-07T01:58:32.187779",
     "exception": false,
     "start_time": "2021-07-07T01:58:32.133871",
     "status": "completed"
    },
    "tags": []
   },
   "outputs": [],
   "source": [
    "#hide\n",
    "#Koreliacijų koeficientai"
   ]
  },
  {
   "cell_type": "code",
   "execution_count": 10,
   "id": "seeing-celebration",
   "metadata": {
    "execution": {
     "iopub.execute_input": "2021-07-07T01:58:32.225476Z",
     "iopub.status.busy": "2021-07-07T01:58:32.224876Z",
     "iopub.status.idle": "2021-07-07T01:58:32.256379Z",
     "shell.execute_reply": "2021-07-07T01:58:32.255693Z"
    },
    "papermill": {
     "duration": 0.052875,
     "end_time": "2021-07-07T01:58:32.256566",
     "exception": false,
     "start_time": "2021-07-07T01:58:32.203691",
     "status": "completed"
    },
    "tags": []
   },
   "outputs": [],
   "source": [
    "#hide_input\n",
    "#sum_corr = df_all_mrk.corr().sum().sort_values(ascending=True).index.values\n",
    "#df_all_mrk[sum_corr].corr()"
   ]
  },
  {
   "cell_type": "code",
   "execution_count": 11,
   "id": "other-painting",
   "metadata": {
    "execution": {
     "iopub.execute_input": "2021-07-07T01:58:32.293887Z",
     "iopub.status.busy": "2021-07-07T01:58:32.293055Z",
     "iopub.status.idle": "2021-07-07T01:58:32.324026Z",
     "shell.execute_reply": "2021-07-07T01:58:32.324489Z"
    },
    "papermill": {
     "duration": 0.052169,
     "end_time": "2021-07-07T01:58:32.324678",
     "exception": false,
     "start_time": "2021-07-07T01:58:32.272509",
     "status": "completed"
    },
    "tags": []
   },
   "outputs": [],
   "source": [
    "#hide\n",
    "#Koreliacijos matrica. "
   ]
  },
  {
   "cell_type": "code",
   "execution_count": 12,
   "id": "modular-magnitude",
   "metadata": {
    "execution": {
     "iopub.execute_input": "2021-07-07T01:58:32.361512Z",
     "iopub.status.busy": "2021-07-07T01:58:32.360310Z",
     "iopub.status.idle": "2021-07-07T01:58:32.392308Z",
     "shell.execute_reply": "2021-07-07T01:58:32.391086Z"
    },
    "papermill": {
     "duration": 0.051612,
     "end_time": "2021-07-07T01:58:32.392457",
     "exception": false,
     "start_time": "2021-07-07T01:58:32.340845",
     "status": "completed"
    },
    "tags": []
   },
   "outputs": [],
   "source": [
    "#hide_input\n",
    "#plt.figure(figsize=(15, 8))\n",
    "#sns.heatmap(df_all_mrk[sum_corr].corr(), annot=True, cmap=\"BrBG\");\n",
    "#plt.savefig('corr_matrix_all.eps', format='eps')"
   ]
  },
  {
   "cell_type": "code",
   "execution_count": null,
   "id": "original-senator",
   "metadata": {
    "papermill": {
     "duration": 0.017315,
     "end_time": "2021-07-07T01:58:32.426069",
     "exception": false,
     "start_time": "2021-07-07T01:58:32.408754",
     "status": "completed"
    },
    "tags": []
   },
   "outputs": [],
   "source": []
  },
  {
   "cell_type": "code",
   "execution_count": null,
   "id": "saving-secretariat",
   "metadata": {
    "papermill": {
     "duration": 0.018468,
     "end_time": "2021-07-07T01:58:32.460970",
     "exception": false,
     "start_time": "2021-07-07T01:58:32.442502",
     "status": "completed"
    },
    "tags": []
   },
   "outputs": [],
   "source": []
  }
 ],
 "metadata": {
  "kernelspec": {
   "display_name": "Python 3",
   "language": "python",
   "name": "python3"
  },
  "language_info": {
   "codemirror_mode": {
    "name": "ipython",
    "version": 3
   },
   "file_extension": ".py",
   "mimetype": "text/x-python",
   "name": "python",
   "nbconvert_exporter": "python",
   "pygments_lexer": "ipython3",
   "version": "3.6.13"
  },
  "papermill": {
   "default_parameters": {},
   "duration": 17.140476,
   "end_time": "2021-07-07T01:58:33.087814",
   "environment_variables": {},
   "exception": null,
   "input_path": "App-Correlation_charts.ipynb",
   "output_path": "App-Correlation_charts.ipynb",
   "parameters": {},
   "start_time": "2021-07-07T01:58:15.947338",
   "version": "2.2.2"
  }
 },
 "nbformat": 4,
 "nbformat_minor": 5
}