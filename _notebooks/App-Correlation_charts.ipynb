{
 "cells": [
  {
   "cell_type": "markdown",
   "id": "touched-facility",
   "metadata": {
    "papermill": {
     "duration": 0.018028,
     "end_time": "2021-05-06T02:01:57.576697",
     "exception": false,
     "start_time": "2021-05-06T02:01:57.558669",
     "status": "completed"
    },
    "tags": []
   },
   "source": [
    "# Koreliacijų matrica\n",
    "> Išplėstinė koreliacijų matrica. \n",
    "\n",
    "- toc: true \n",
    "- badges: true\n",
    "- comments: false\n",
    "- categories: [Dominykas Tautkus]\n",
    "- image: images/matrix.png"
   ]
  },
  {
   "cell_type": "code",
   "execution_count": null,
   "id": "premium-weekend",
   "metadata": {
    "papermill": {
     "duration": 0.013278,
     "end_time": "2021-05-06T02:01:57.604177",
     "exception": false,
     "start_time": "2021-05-06T02:01:57.590899",
     "status": "completed"
    },
    "tags": []
   },
   "outputs": [],
   "source": []
  },
  {
   "cell_type": "code",
   "execution_count": 1,
   "id": "vertical-rebate",
   "metadata": {
    "execution": {
     "iopub.execute_input": "2021-05-06T02:01:57.641729Z",
     "iopub.status.busy": "2021-05-06T02:01:57.641046Z",
     "iopub.status.idle": "2021-05-06T02:01:57.652913Z",
     "shell.execute_reply": "2021-05-06T02:01:57.652366Z"
    },
    "papermill": {
     "duration": 0.035365,
     "end_time": "2021-05-06T02:01:57.653052",
     "exception": false,
     "start_time": "2021-05-06T02:01:57.617687",
     "status": "completed"
    },
    "tags": []
   },
   "outputs": [],
   "source": [
    "#hide\n",
    "%load_ext autoreload\n",
    "%autoreload 2"
   ]
  },
  {
   "cell_type": "code",
   "execution_count": 2,
   "id": "overall-advancement",
   "metadata": {
    "execution": {
     "iopub.execute_input": "2021-05-06T02:01:57.696993Z",
     "iopub.status.busy": "2021-05-06T02:01:57.690909Z",
     "iopub.status.idle": "2021-05-06T02:01:58.909216Z",
     "shell.execute_reply": "2021-05-06T02:01:58.908632Z"
    },
    "papermill": {
     "duration": 1.242495,
     "end_time": "2021-05-06T02:01:58.909384",
     "exception": false,
     "start_time": "2021-05-06T02:01:57.666889",
     "status": "completed"
    },
    "tags": []
   },
   "outputs": [],
   "source": [
    "#hide\n",
    "from scripts.read_data import read_api\n",
    "from IPython.display import HTML\n",
    "import plotly.graph_objects as go\n"
   ]
  },
  {
   "cell_type": "code",
   "execution_count": 3,
   "id": "light-crazy",
   "metadata": {
    "execution": {
     "iopub.execute_input": "2021-05-06T02:01:58.955040Z",
     "iopub.status.busy": "2021-05-06T02:01:58.954183Z",
     "iopub.status.idle": "2021-05-06T02:01:58.967830Z",
     "shell.execute_reply": "2021-05-06T02:01:58.968305Z"
    },
    "papermill": {
     "duration": 0.045184,
     "end_time": "2021-05-06T02:01:58.968443",
     "exception": false,
     "start_time": "2021-05-06T02:01:58.923259",
     "status": "completed"
    },
    "tags": []
   },
   "outputs": [],
   "source": [
    "#hide\n",
    "### ICO koreliacija"
   ]
  },
  {
   "cell_type": "code",
   "execution_count": 4,
   "id": "likely-bahrain",
   "metadata": {
    "execution": {
     "iopub.execute_input": "2021-05-06T02:01:59.008893Z",
     "iopub.status.busy": "2021-05-06T02:01:59.007849Z",
     "iopub.status.idle": "2021-05-06T02:01:59.864249Z",
     "shell.execute_reply": "2021-05-06T02:01:59.863746Z"
    },
    "papermill": {
     "duration": 0.881352,
     "end_time": "2021-05-06T02:01:59.864382",
     "exception": false,
     "start_time": "2021-05-06T02:01:58.983030",
     "status": "completed"
    },
    "tags": []
   },
   "outputs": [],
   "source": [
    "#hide\n",
    "import matplotlib.pyplot as plt\n",
    "import numpy as np\n",
    "import pandas as pd\n",
    "import seaborn as sns\n",
    "import matplotlib.pyplot as plt \n",
    "import matplotlib.dates as mdates\n",
    "import matplotlib.pyplot as plt"
   ]
  },
  {
   "cell_type": "code",
   "execution_count": 5,
   "id": "superior-blanket",
   "metadata": {
    "execution": {
     "iopub.execute_input": "2021-05-06T02:01:59.902729Z",
     "iopub.status.busy": "2021-05-06T02:01:59.902126Z",
     "iopub.status.idle": "2021-05-06T02:02:13.444238Z",
     "shell.execute_reply": "2021-05-06T02:02:13.445080Z"
    },
    "papermill": {
     "duration": 13.568199,
     "end_time": "2021-05-06T02:02:13.445255",
     "exception": false,
     "start_time": "2021-05-06T02:01:59.877056",
     "status": "completed"
    },
    "tags": []
   },
   "outputs": [
    {
     "name": "stderr",
     "output_type": "stream",
     "text": [
      "/home/runner/work/corr-app/corr-app/_notebooks/scripts/read_data.py:187: SettingWithCopyWarning:\n",
      "\n",
      "\n",
      "A value is trying to be set on a copy of a slice from a DataFrame.\n",
      "Try using .loc[row_indexer,col_indexer] = value instead\n",
      "\n",
      "See the caveats in the documentation: https://pandas.pydata.org/pandas-docs/stable/user_guide/indexing.html#returning-a-view-versus-a-copy\n",
      "\n"
     ]
    },
    {
     "name": "stderr",
     "output_type": "stream",
     "text": [
      "/home/runner/work/corr-app/corr-app/_notebooks/scripts/read_data.py:215: SettingWithCopyWarning:\n",
      "\n",
      "\n",
      "A value is trying to be set on a copy of a slice from a DataFrame.\n",
      "Try using .loc[row_indexer,col_indexer] = value instead\n",
      "\n",
      "See the caveats in the documentation: https://pandas.pydata.org/pandas-docs/stable/user_guide/indexing.html#returning-a-view-versus-a-copy\n",
      "\n"
     ]
    }
   ],
   "source": [
    "#hide\n",
    "df_all = read_api()\n",
    "#df_all = df_all.drop(['SP500', 'XAU', 'ETH', 'BTC'], axis=1)\n",
    "\n"
   ]
  },
  {
   "cell_type": "code",
   "execution_count": 6,
   "id": "mature-alert",
   "metadata": {
    "execution": {
     "iopub.execute_input": "2021-05-06T02:02:13.486147Z",
     "iopub.status.busy": "2021-05-06T02:02:13.484850Z",
     "iopub.status.idle": "2021-05-06T02:02:13.511532Z",
     "shell.execute_reply": "2021-05-06T02:02:13.510586Z"
    },
    "papermill": {
     "duration": 0.052295,
     "end_time": "2021-05-06T02:02:13.511653",
     "exception": false,
     "start_time": "2021-05-06T02:02:13.459358",
     "status": "completed"
    },
    "tags": []
   },
   "outputs": [],
   "source": [
    "#hide_input\n",
    "sum_corr = df_all.corr().sum().sort_values(ascending=True).index.values\n",
    "#df_all[sum_corr].corr()"
   ]
  },
  {
   "cell_type": "markdown",
   "id": "complex-syndicate",
   "metadata": {
    "papermill": {
     "duration": 0.013495,
     "end_time": "2021-05-06T02:02:13.538045",
     "exception": false,
     "start_time": "2021-05-06T02:02:13.524550",
     "status": "completed"
    },
    "tags": []
   },
   "source": [
    "## Išplėstinė koreliacijų matrica. "
   ]
  },
  {
   "cell_type": "code",
   "execution_count": 7,
   "id": "atomic-omaha",
   "metadata": {
    "execution": {
     "iopub.execute_input": "2021-05-06T02:02:13.578561Z",
     "iopub.status.busy": "2021-05-06T02:02:13.577628Z",
     "iopub.status.idle": "2021-05-06T02:02:14.936346Z",
     "shell.execute_reply": "2021-05-06T02:02:14.935678Z"
    },
    "papermill": {
     "duration": 1.385302,
     "end_time": "2021-05-06T02:02:14.936477",
     "exception": false,
     "start_time": "2021-05-06T02:02:13.551175",
     "status": "completed"
    },
    "tags": []
   },
   "outputs": [
    {
     "data": {
      "image/png": "[encoded data removed]",
      "text/plain": [
       "<Figure size 1080x792 with 2 Axes>"
      ]
     },
     "metadata": {
      "needs_background": "light"
     },
     "output_type": "display_data"
    }
   ],
   "source": [
    "#hide_input\n",
    "plt.figure(figsize=(15, 11))\n",
    "sns.heatmap(df_all[sum_corr].corr(), annot=True, cmap=\"cubehelix\") \n",
    "sns.set(font_scale=1.25)\n",
    "plt.savefig('corr_matrix.png', format='eps')"
   ]
  },
  {
   "cell_type": "code",
   "execution_count": 8,
   "id": "arbitrary-sullivan",
   "metadata": {
    "execution": {
     "iopub.execute_input": "2021-05-06T02:02:14.974620Z",
     "iopub.status.busy": "2021-05-06T02:02:14.974012Z",
     "iopub.status.idle": "2021-05-06T02:02:14.996187Z",
     "shell.execute_reply": "2021-05-06T02:02:14.995726Z"
    },
    "papermill": {
     "duration": 0.044451,
     "end_time": "2021-05-06T02:02:14.996296",
     "exception": false,
     "start_time": "2021-05-06T02:02:14.951845",
     "status": "completed"
    },
    "tags": []
   },
   "outputs": [],
   "source": [
    "#hide\n",
    "#df_all_mrk = read_api()"
   ]
  },
  {
   "cell_type": "code",
   "execution_count": 9,
   "id": "delayed-adapter",
   "metadata": {
    "execution": {
     "iopub.execute_input": "2021-05-06T02:02:15.030700Z",
     "iopub.status.busy": "2021-05-06T02:02:15.030138Z",
     "iopub.status.idle": "2021-05-06T02:02:15.053223Z",
     "shell.execute_reply": "2021-05-06T02:02:15.052667Z"
    },
    "papermill": {
     "duration": 0.04146,
     "end_time": "2021-05-06T02:02:15.053350",
     "exception": false,
     "start_time": "2021-05-06T02:02:15.011890",
     "status": "completed"
    },
    "tags": []
   },
   "outputs": [],
   "source": [
    "#hide\n",
    "#Koreliacijų koeficientai"
   ]
  },
  {
   "cell_type": "code",
   "execution_count": 10,
   "id": "seeing-celebration",
   "metadata": {
    "execution": {
     "iopub.execute_input": "2021-05-06T02:02:15.094162Z",
     "iopub.status.busy": "2021-05-06T02:02:15.093519Z",
     "iopub.status.idle": "2021-05-06T02:02:15.118490Z",
     "shell.execute_reply": "2021-05-06T02:02:15.117895Z"
    },
    "papermill": {
     "duration": 0.049753,
     "end_time": "2021-05-06T02:02:15.118668",
     "exception": false,
     "start_time": "2021-05-06T02:02:15.068915",
     "status": "completed"
    },
    "tags": []
   },
   "outputs": [],
   "source": [
    "#hide_input\n",
    "#sum_corr = df_all_mrk.corr().sum().sort_values(ascending=True).index.values\n",
    "#df_all_mrk[sum_corr].corr()"
   ]
  },
  {
   "cell_type": "code",
   "execution_count": 11,
   "id": "other-painting",
   "metadata": {
    "execution": {
     "iopub.execute_input": "2021-05-06T02:02:15.173988Z",
     "iopub.status.busy": "2021-05-06T02:02:15.166901Z",
     "iopub.status.idle": "2021-05-06T02:02:15.188249Z",
     "shell.execute_reply": "2021-05-06T02:02:15.187644Z"
    },
    "papermill": {
     "duration": 0.052895,
     "end_time": "2021-05-06T02:02:15.188377",
     "exception": false,
     "start_time": "2021-05-06T02:02:15.135482",
     "status": "completed"
    },
    "tags": []
   },
   "outputs": [],
   "source": [
    "#hide\n",
    "#Koreliacijos matrica. "
   ]
  },
  {
   "cell_type": "code",
   "execution_count": 12,
   "id": "modular-magnitude",
   "metadata": {
    "execution": {
     "iopub.execute_input": "2021-05-06T02:02:15.226842Z",
     "iopub.status.busy": "2021-05-06T02:02:15.226093Z",
     "iopub.status.idle": "2021-05-06T02:02:15.251998Z",
     "shell.execute_reply": "2021-05-06T02:02:15.251505Z"
    },
    "papermill": {
     "duration": 0.047545,
     "end_time": "2021-05-06T02:02:15.252124",
     "exception": false,
     "start_time": "2021-05-06T02:02:15.204579",
     "status": "completed"
    },
    "tags": []
   },
   "outputs": [],
   "source": [
    "#hide_input\n",
    "#plt.figure(figsize=(15, 8))\n",
    "#sns.heatmap(df_all_mrk[sum_corr].corr(), annot=True, cmap=\"BrBG\");\n",
    "#plt.savefig('corr_matrix_all.eps', format='eps')"
   ]
  },
  {
   "cell_type": "code",
   "execution_count": null,
   "id": "original-senator",
   "metadata": {
    "papermill": {
     "duration": 0.015582,
     "end_time": "2021-05-06T02:02:15.283618",
     "exception": false,
     "start_time": "2021-05-06T02:02:15.268036",
     "status": "completed"
    },
    "tags": []
   },
   "outputs": [],
   "source": []
  },
  {
   "cell_type": "code",
   "execution_count": null,
   "id": "saving-secretariat",
   "metadata": {
    "papermill": {
     "duration": 0.015011,
     "end_time": "2021-05-06T02:02:15.313778",
     "exception": false,
     "start_time": "2021-05-06T02:02:15.298767",
     "status": "completed"
    },
    "tags": []
   },
   "outputs": [],
   "source": []
  }
 ],
 "metadata": {
  "kernelspec": {
   "display_name": "Python 3",
   "language": "python",
   "name": "python3"
  },
  "language_info": {
   "codemirror_mode": {
    "name": "ipython",
    "version": 3
   },
   "file_extension": ".py",
   "mimetype": "text/x-python",
   "name": "python",
   "nbconvert_exporter": "python",
   "pygments_lexer": "ipython3",
   "version": "3.6.13"
  },
  "papermill": {
   "default_parameters": {},
   "duration": 20.29269,
   "end_time": "2021-05-06T02:02:16.804076",
   "environment_variables": {},
   "exception": null,
   "input_path": "App-Correlation_charts.ipynb",
   "output_path": "App-Correlation_charts.ipynb",
   "parameters": {},
   "start_time": "2021-05-06T02:01:56.511386",
   "version": "2.2.2"
  }
 },
 "nbformat": 4,
 "nbformat_minor": 5
}