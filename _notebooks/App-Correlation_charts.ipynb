{
 "cells": [
  {
   "cell_type": "markdown",
   "id": "touched-facility",
   "metadata": {
    "papermill": {
     "duration": 0.01855,
     "end_time": "2021-02-12T01:37:30.729976",
     "exception": false,
     "start_time": "2021-02-12T01:37:30.711426",
     "status": "completed"
    },
    "tags": []
   },
   "source": [
    "# Koreliacijų matrica\n",
    "> Išplėstinė koreliacijų matrica. \n",
    "\n",
    "- toc: true \n",
    "- badges: true\n",
    "- comments: false\n",
    "- categories: [Dominykas Tautkus]\n",
    "- image: images/matrix.png"
   ]
  },
  {
   "cell_type": "code",
   "execution_count": null,
   "id": "premium-weekend",
   "metadata": {
    "papermill": {
     "duration": 0.009602,
     "end_time": "2021-02-12T01:37:30.750823",
     "exception": false,
     "start_time": "2021-02-12T01:37:30.741221",
     "status": "completed"
    },
    "tags": []
   },
   "outputs": [],
   "source": []
  },
  {
   "cell_type": "code",
   "execution_count": 1,
   "id": "vertical-rebate",
   "metadata": {
    "execution": {
     "iopub.execute_input": "2021-02-12T01:37:30.786335Z",
     "iopub.status.busy": "2021-02-12T01:37:30.785599Z",
     "iopub.status.idle": "2021-02-12T01:37:30.796611Z",
     "shell.execute_reply": "2021-02-12T01:37:30.797125Z"
    },
    "papermill": {
     "duration": 0.036287,
     "end_time": "2021-02-12T01:37:30.797289",
     "exception": false,
     "start_time": "2021-02-12T01:37:30.761002",
     "status": "completed"
    },
    "tags": []
   },
   "outputs": [],
   "source": [
    "#hide\n",
    "%load_ext autoreload\n",
    "%autoreload 2"
   ]
  },
  {
   "cell_type": "code",
   "execution_count": 2,
   "id": "overall-advancement",
   "metadata": {
    "execution": {
     "iopub.execute_input": "2021-02-12T01:37:30.821764Z",
     "iopub.status.busy": "2021-02-12T01:37:30.821205Z",
     "iopub.status.idle": "2021-02-12T01:37:31.939831Z",
     "shell.execute_reply": "2021-02-12T01:37:31.939241Z"
    },
    "papermill": {
     "duration": 1.132324,
     "end_time": "2021-02-12T01:37:31.939958",
     "exception": false,
     "start_time": "2021-02-12T01:37:30.807634",
     "status": "completed"
    },
    "tags": []
   },
   "outputs": [],
   "source": [
    "#hide\n",
    "from scripts.read_data import read_api\n",
    "from IPython.display import HTML\n",
    "import plotly.graph_objects as go\n"
   ]
  },
  {
   "cell_type": "code",
   "execution_count": 3,
   "id": "light-crazy",
   "metadata": {
    "execution": {
     "iopub.execute_input": "2021-02-12T01:37:31.966285Z",
     "iopub.status.busy": "2021-02-12T01:37:31.965728Z",
     "iopub.status.idle": "2021-02-12T01:37:31.988030Z",
     "shell.execute_reply": "2021-02-12T01:37:31.987219Z"
    },
    "papermill": {
     "duration": 0.036291,
     "end_time": "2021-02-12T01:37:31.988186",
     "exception": false,
     "start_time": "2021-02-12T01:37:31.951895",
     "status": "completed"
    },
    "tags": []
   },
   "outputs": [],
   "source": [
    "#hide\n",
    "### ICO koreliacija"
   ]
  },
  {
   "cell_type": "code",
   "execution_count": 4,
   "id": "likely-bahrain",
   "metadata": {
    "execution": {
     "iopub.execute_input": "2021-02-12T01:37:32.015251Z",
     "iopub.status.busy": "2021-02-12T01:37:32.014671Z",
     "iopub.status.idle": "2021-02-12T01:37:34.803642Z",
     "shell.execute_reply": "2021-02-12T01:37:34.803085Z"
    },
    "papermill": {
     "duration": 2.803884,
     "end_time": "2021-02-12T01:37:34.803774",
     "exception": false,
     "start_time": "2021-02-12T01:37:31.999890",
     "status": "completed"
    },
    "tags": []
   },
   "outputs": [],
   "source": [
    "#hide\n",
    "import matplotlib.pyplot as plt\n",
    "import numpy as np\n",
    "import pandas as pd\n",
    "import seaborn as sns\n",
    "import matplotlib.pyplot as plt \n",
    "import matplotlib.dates as mdates\n",
    "import matplotlib.pyplot as plt"
   ]
  },
  {
   "cell_type": "code",
   "execution_count": 5,
   "id": "superior-blanket",
   "metadata": {
    "execution": {
     "iopub.execute_input": "2021-02-12T01:37:34.832727Z",
     "iopub.status.busy": "2021-02-12T01:37:34.832170Z",
     "iopub.status.idle": "2021-02-12T01:37:51.033367Z",
     "shell.execute_reply": "2021-02-12T01:37:51.032817Z"
    },
    "papermill": {
     "duration": 16.217148,
     "end_time": "2021-02-12T01:37:51.033495",
     "exception": false,
     "start_time": "2021-02-12T01:37:34.816347",
     "status": "completed"
    },
    "tags": []
   },
   "outputs": [
    {
     "name": "stderr",
     "output_type": "stream",
     "text": [
      "/home/runner/work/corr-app/corr-app/_notebooks/scripts/read_data.py:187: SettingWithCopyWarning:\n",
      "\n",
      "\n",
      "A value is trying to be set on a copy of a slice from a DataFrame.\n",
      "Try using .loc[row_indexer,col_indexer] = value instead\n",
      "\n",
      "See the caveats in the documentation: https://pandas.pydata.org/pandas-docs/stable/user_guide/indexing.html#returning-a-view-versus-a-copy\n",
      "\n"
     ]
    },
    {
     "name": "stderr",
     "output_type": "stream",
     "text": [
      "/home/runner/work/corr-app/corr-app/_notebooks/scripts/read_data.py:215: SettingWithCopyWarning:\n",
      "\n",
      "\n",
      "A value is trying to be set on a copy of a slice from a DataFrame.\n",
      "Try using .loc[row_indexer,col_indexer] = value instead\n",
      "\n",
      "See the caveats in the documentation: https://pandas.pydata.org/pandas-docs/stable/user_guide/indexing.html#returning-a-view-versus-a-copy\n",
      "\n"
     ]
    }
   ],
   "source": [
    "#hide\n",
    "df_all = read_api()\n",
    "#df_all = df_all.drop(['SP500', 'XAU', 'ETH', 'BTC'], axis=1)\n",
    "\n"
   ]
  },
  {
   "cell_type": "code",
   "execution_count": 6,
   "id": "mature-alert",
   "metadata": {
    "execution": {
     "iopub.execute_input": "2021-02-12T01:37:51.060090Z",
     "iopub.status.busy": "2021-02-12T01:37:51.058854Z",
     "iopub.status.idle": "2021-02-12T01:37:51.088347Z",
     "shell.execute_reply": "2021-02-12T01:37:51.088907Z"
    },
    "papermill": {
     "duration": 0.045514,
     "end_time": "2021-02-12T01:37:51.089103",
     "exception": false,
     "start_time": "2021-02-12T01:37:51.043589",
     "status": "completed"
    },
    "tags": []
   },
   "outputs": [],
   "source": [
    "#hide_input\n",
    "sum_corr = df_all.corr().sum().sort_values(ascending=True).index.values\n",
    "#df_all[sum_corr].corr()"
   ]
  },
  {
   "cell_type": "markdown",
   "id": "complex-syndicate",
   "metadata": {
    "papermill": {
     "duration": 0.010338,
     "end_time": "2021-02-12T01:37:51.111454",
     "exception": false,
     "start_time": "2021-02-12T01:37:51.101116",
     "status": "completed"
    },
    "tags": []
   },
   "source": [
    "## Išplėstinė koreliacijų matrica. "
   ]
  },
  {
   "cell_type": "code",
   "execution_count": 7,
   "id": "atomic-omaha",
   "metadata": {
    "execution": {
     "iopub.execute_input": "2021-02-12T01:37:51.138971Z",
     "iopub.status.busy": "2021-02-12T01:37:51.138437Z",
     "iopub.status.idle": "2021-02-12T01:37:52.348211Z",
     "shell.execute_reply": "2021-02-12T01:37:52.348693Z"
    },
    "papermill": {
     "duration": 1.226924,
     "end_time": "2021-02-12T01:37:52.348842",
     "exception": false,
     "start_time": "2021-02-12T01:37:51.121918",
     "status": "completed"
    },
    "tags": []
   },
   "outputs": [
    {
     "data": {
      "image/png": "[encoded data removed]",
      "text/plain": [
       "<Figure size 1080x792 with 2 Axes>"
      ]
     },
     "metadata": {
      "needs_background": "light"
     },
     "output_type": "display_data"
    }
   ],
   "source": [
    "#hide_input\n",
    "plt.figure(figsize=(15, 11))\n",
    "sns.heatmap(df_all[sum_corr].corr(), annot=True, cmap=\"cubehelix\") \n",
    "sns.set(font_scale=1.25)\n",
    "plt.savefig('corr_matrix.png', format='eps')"
   ]
  },
  {
   "cell_type": "code",
   "execution_count": 8,
   "id": "arbitrary-sullivan",
   "metadata": {
    "execution": {
     "iopub.execute_input": "2021-02-12T01:37:52.416013Z",
     "iopub.status.busy": "2021-02-12T01:37:52.415500Z",
     "iopub.status.idle": "2021-02-12T01:37:52.449203Z",
     "shell.execute_reply": "2021-02-12T01:37:52.448331Z"
    },
    "papermill": {
     "duration": 0.080013,
     "end_time": "2021-02-12T01:37:52.449340",
     "exception": false,
     "start_time": "2021-02-12T01:37:52.369327",
     "status": "completed"
    },
    "tags": []
   },
   "outputs": [],
   "source": [
    "#hide\n",
    "#df_all_mrk = read_api()"
   ]
  },
  {
   "cell_type": "code",
   "execution_count": 9,
   "id": "delayed-adapter",
   "metadata": {
    "execution": {
     "iopub.execute_input": "2021-02-12T01:37:52.522430Z",
     "iopub.status.busy": "2021-02-12T01:37:52.520827Z",
     "iopub.status.idle": "2021-02-12T01:37:52.539867Z",
     "shell.execute_reply": "2021-02-12T01:37:52.540290Z"
    },
    "papermill": {
     "duration": 0.067079,
     "end_time": "2021-02-12T01:37:52.540431",
     "exception": false,
     "start_time": "2021-02-12T01:37:52.473352",
     "status": "completed"
    },
    "tags": []
   },
   "outputs": [],
   "source": [
    "#hide\n",
    "#Koreliacijų koeficientai"
   ]
  },
  {
   "cell_type": "code",
   "execution_count": 10,
   "id": "seeing-celebration",
   "metadata": {
    "execution": {
     "iopub.execute_input": "2021-02-12T01:37:52.603964Z",
     "iopub.status.busy": "2021-02-12T01:37:52.603027Z",
     "iopub.status.idle": "2021-02-12T01:37:52.630509Z",
     "shell.execute_reply": "2021-02-12T01:37:52.629583Z"
    },
    "papermill": {
     "duration": 0.074493,
     "end_time": "2021-02-12T01:37:52.630617",
     "exception": false,
     "start_time": "2021-02-12T01:37:52.556124",
     "status": "completed"
    },
    "tags": []
   },
   "outputs": [],
   "source": [
    "#hide_input\n",
    "#sum_corr = df_all_mrk.corr().sum().sort_values(ascending=True).index.values\n",
    "#df_all_mrk[sum_corr].corr()"
   ]
  },
  {
   "cell_type": "code",
   "execution_count": 11,
   "id": "other-painting",
   "metadata": {
    "execution": {
     "iopub.execute_input": "2021-02-12T01:37:52.662520Z",
     "iopub.status.busy": "2021-02-12T01:37:52.661296Z",
     "iopub.status.idle": "2021-02-12T01:37:52.702707Z",
     "shell.execute_reply": "2021-02-12T01:37:52.701812Z"
    },
    "papermill": {
     "duration": 0.058158,
     "end_time": "2021-02-12T01:37:52.702837",
     "exception": false,
     "start_time": "2021-02-12T01:37:52.644679",
     "status": "completed"
    },
    "tags": []
   },
   "outputs": [],
   "source": [
    "#hide\n",
    "#Koreliacijos matrica. "
   ]
  },
  {
   "cell_type": "code",
   "execution_count": 12,
   "id": "modular-magnitude",
   "metadata": {
    "execution": {
     "iopub.execute_input": "2021-02-12T01:37:52.738017Z",
     "iopub.status.busy": "2021-02-12T01:37:52.737243Z",
     "iopub.status.idle": "2021-02-12T01:37:52.760886Z",
     "shell.execute_reply": "2021-02-12T01:37:52.761486Z"
    },
    "papermill": {
     "duration": 0.044447,
     "end_time": "2021-02-12T01:37:52.761656",
     "exception": false,
     "start_time": "2021-02-12T01:37:52.717209",
     "status": "completed"
    },
    "tags": []
   },
   "outputs": [],
   "source": [
    "#hide_input\n",
    "#plt.figure(figsize=(15, 8))\n",
    "#sns.heatmap(df_all_mrk[sum_corr].corr(), annot=True, cmap=\"BrBG\");\n",
    "#plt.savefig('corr_matrix_all.eps', format='eps')"
   ]
  },
  {
   "cell_type": "code",
   "execution_count": null,
   "id": "original-senator",
   "metadata": {
    "papermill": {
     "duration": 0.013976,
     "end_time": "2021-02-12T01:37:52.792167",
     "exception": false,
     "start_time": "2021-02-12T01:37:52.778191",
     "status": "completed"
    },
    "tags": []
   },
   "outputs": [],
   "source": []
  },
  {
   "cell_type": "code",
   "execution_count": null,
   "id": "saving-secretariat",
   "metadata": {
    "papermill": {
     "duration": 0.013455,
     "end_time": "2021-02-12T01:37:52.819506",
     "exception": false,
     "start_time": "2021-02-12T01:37:52.806051",
     "status": "completed"
    },
    "tags": []
   },
   "outputs": [],
   "source": []
  }
 ],
 "metadata": {
  "kernelspec": {
   "display_name": "Python 3",
   "language": "python",
   "name": "python3"
  },
  "language_info": {
   "codemirror_mode": {
    "name": "ipython",
    "version": 3
   },
   "file_extension": ".py",
   "mimetype": "text/x-python",
   "name": "python",
   "nbconvert_exporter": "python",
   "pygments_lexer": "ipython3",
   "version": "3.6.12"
  },
  "papermill": {
   "default_parameters": {},
   "duration": 23.689873,
   "end_time": "2021-02-12T01:37:53.341249",
   "environment_variables": {},
   "exception": null,
   "input_path": "App-Correlation_charts.ipynb",
   "output_path": "App-Correlation_charts.ipynb",
   "parameters": {},
   "start_time": "2021-02-12T01:37:29.651376",
   "version": "2.2.2"
  }
 },
 "nbformat": 4,
 "nbformat_minor": 5
}