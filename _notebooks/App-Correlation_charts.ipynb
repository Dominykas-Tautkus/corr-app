{
 "cells": [
  {
   "cell_type": "markdown",
   "id": "touched-facility",
   "metadata": {
    "papermill": {
     "duration": 0.018323,
     "end_time": "2021-05-25T02:28:07.355964",
     "exception": false,
     "start_time": "2021-05-25T02:28:07.337641",
     "status": "completed"
    },
    "tags": []
   },
   "source": [
    "# Koreliacijų matrica\n",
    "> Išplėstinė koreliacijų matrica. \n",
    "\n",
    "- toc: true \n",
    "- badges: true\n",
    "- comments: false\n",
    "- categories: [Dominykas Tautkus]\n",
    "- image: images/matrix.png"
   ]
  },
  {
   "cell_type": "code",
   "execution_count": null,
   "id": "premium-weekend",
   "metadata": {
    "papermill": {
     "duration": 0.012788,
     "end_time": "2021-05-25T02:28:07.381111",
     "exception": false,
     "start_time": "2021-05-25T02:28:07.368323",
     "status": "completed"
    },
    "tags": []
   },
   "outputs": [],
   "source": []
  },
  {
   "cell_type": "code",
   "execution_count": 1,
   "id": "vertical-rebate",
   "metadata": {
    "execution": {
     "iopub.execute_input": "2021-05-25T02:28:07.418964Z",
     "iopub.status.busy": "2021-05-25T02:28:07.418376Z",
     "iopub.status.idle": "2021-05-25T02:28:07.429043Z",
     "shell.execute_reply": "2021-05-25T02:28:07.429539Z"
    },
    "papermill": {
     "duration": 0.036882,
     "end_time": "2021-05-25T02:28:07.429698",
     "exception": false,
     "start_time": "2021-05-25T02:28:07.392816",
     "status": "completed"
    },
    "tags": []
   },
   "outputs": [],
   "source": [
    "#hide\n",
    "%load_ext autoreload\n",
    "%autoreload 2"
   ]
  },
  {
   "cell_type": "code",
   "execution_count": 2,
   "id": "overall-advancement",
   "metadata": {
    "execution": {
     "iopub.execute_input": "2021-05-25T02:28:07.458131Z",
     "iopub.status.busy": "2021-05-25T02:28:07.457563Z",
     "iopub.status.idle": "2021-05-25T02:28:08.581270Z",
     "shell.execute_reply": "2021-05-25T02:28:08.580214Z"
    },
    "papermill": {
     "duration": 1.139913,
     "end_time": "2021-05-25T02:28:08.581409",
     "exception": false,
     "start_time": "2021-05-25T02:28:07.441496",
     "status": "completed"
    },
    "tags": []
   },
   "outputs": [],
   "source": [
    "#hide\n",
    "from scripts.read_data import read_api\n",
    "from IPython.display import HTML\n",
    "import plotly.graph_objects as go\n"
   ]
  },
  {
   "cell_type": "code",
   "execution_count": 3,
   "id": "light-crazy",
   "metadata": {
    "execution": {
     "iopub.execute_input": "2021-05-25T02:28:08.610758Z",
     "iopub.status.busy": "2021-05-25T02:28:08.610146Z",
     "iopub.status.idle": "2021-05-25T02:28:08.633732Z",
     "shell.execute_reply": "2021-05-25T02:28:08.633141Z"
    },
    "papermill": {
     "duration": 0.040115,
     "end_time": "2021-05-25T02:28:08.633879",
     "exception": false,
     "start_time": "2021-05-25T02:28:08.593764",
     "status": "completed"
    },
    "tags": []
   },
   "outputs": [],
   "source": [
    "#hide\n",
    "### ICO koreliacija"
   ]
  },
  {
   "cell_type": "code",
   "execution_count": 4,
   "id": "likely-bahrain",
   "metadata": {
    "execution": {
     "iopub.execute_input": "2021-05-25T02:28:08.664259Z",
     "iopub.status.busy": "2021-05-25T02:28:08.663651Z",
     "iopub.status.idle": "2021-05-25T02:28:09.555824Z",
     "shell.execute_reply": "2021-05-25T02:28:09.555303Z"
    },
    "papermill": {
     "duration": 0.908739,
     "end_time": "2021-05-25T02:28:09.555962",
     "exception": false,
     "start_time": "2021-05-25T02:28:08.647223",
     "status": "completed"
    },
    "tags": []
   },
   "outputs": [],
   "source": [
    "#hide\n",
    "import matplotlib.pyplot as plt\n",
    "import numpy as np\n",
    "import pandas as pd\n",
    "import seaborn as sns\n",
    "import matplotlib.pyplot as plt \n",
    "import matplotlib.dates as mdates\n",
    "import matplotlib.pyplot as plt"
   ]
  },
  {
   "cell_type": "code",
   "execution_count": 5,
   "id": "superior-blanket",
   "metadata": {
    "execution": {
     "iopub.execute_input": "2021-05-25T02:28:09.586293Z",
     "iopub.status.busy": "2021-05-25T02:28:09.585699Z",
     "iopub.status.idle": "2021-05-25T02:28:19.888392Z",
     "shell.execute_reply": "2021-05-25T02:28:19.887789Z"
    },
    "papermill": {
     "duration": 10.320002,
     "end_time": "2021-05-25T02:28:19.888530",
     "exception": false,
     "start_time": "2021-05-25T02:28:09.568528",
     "status": "completed"
    },
    "tags": []
   },
   "outputs": [
    {
     "name": "stderr",
     "output_type": "stream",
     "text": [
      "/home/runner/work/corr-app/corr-app/_notebooks/scripts/read_data.py:187: SettingWithCopyWarning:\n",
      "\n",
      "\n",
      "A value is trying to be set on a copy of a slice from a DataFrame.\n",
      "Try using .loc[row_indexer,col_indexer] = value instead\n",
      "\n",
      "See the caveats in the documentation: https://pandas.pydata.org/pandas-docs/stable/user_guide/indexing.html#returning-a-view-versus-a-copy\n",
      "\n"
     ]
    },
    {
     "name": "stderr",
     "output_type": "stream",
     "text": [
      "/home/runner/work/corr-app/corr-app/_notebooks/scripts/read_data.py:215: SettingWithCopyWarning:\n",
      "\n",
      "\n",
      "A value is trying to be set on a copy of a slice from a DataFrame.\n",
      "Try using .loc[row_indexer,col_indexer] = value instead\n",
      "\n",
      "See the caveats in the documentation: https://pandas.pydata.org/pandas-docs/stable/user_guide/indexing.html#returning-a-view-versus-a-copy\n",
      "\n"
     ]
    }
   ],
   "source": [
    "#hide\n",
    "df_all = read_api()\n",
    "#df_all = df_all.drop(['SP500', 'XAU', 'ETH', 'BTC'], axis=1)\n",
    "\n"
   ]
  },
  {
   "cell_type": "code",
   "execution_count": 6,
   "id": "mature-alert",
   "metadata": {
    "execution": {
     "iopub.execute_input": "2021-05-25T02:28:19.921765Z",
     "iopub.status.busy": "2021-05-25T02:28:19.919640Z",
     "iopub.status.idle": "2021-05-25T02:28:19.950556Z",
     "shell.execute_reply": "2021-05-25T02:28:19.950042Z"
    },
    "papermill": {
     "duration": 0.048668,
     "end_time": "2021-05-25T02:28:19.950675",
     "exception": false,
     "start_time": "2021-05-25T02:28:19.902007",
     "status": "completed"
    },
    "tags": []
   },
   "outputs": [],
   "source": [
    "#hide_input\n",
    "sum_corr = df_all.corr().sum().sort_values(ascending=True).index.values\n",
    "#df_all[sum_corr].corr()"
   ]
  },
  {
   "cell_type": "markdown",
   "id": "complex-syndicate",
   "metadata": {
    "papermill": {
     "duration": 0.011955,
     "end_time": "2021-05-25T02:28:19.975283",
     "exception": false,
     "start_time": "2021-05-25T02:28:19.963328",
     "status": "completed"
    },
    "tags": []
   },
   "source": [
    "## Išplėstinė koreliacijų matrica. "
   ]
  },
  {
   "cell_type": "code",
   "execution_count": 7,
   "id": "atomic-omaha",
   "metadata": {
    "execution": {
     "iopub.execute_input": "2021-05-25T02:28:20.009921Z",
     "iopub.status.busy": "2021-05-25T02:28:20.009340Z",
     "iopub.status.idle": "2021-05-25T02:28:21.291114Z",
     "shell.execute_reply": "2021-05-25T02:28:21.290587Z"
    },
    "papermill": {
     "duration": 1.303245,
     "end_time": "2021-05-25T02:28:21.291241",
     "exception": false,
     "start_time": "2021-05-25T02:28:19.987996",
     "status": "completed"
    },
    "tags": []
   },
   "outputs": [
    {
     "data": {
      "image/png": "[encoded data removed]",
      "text/plain": [
       "<Figure size 1080x792 with 2 Axes>"
      ]
     },
     "metadata": {
      "needs_background": "light"
     },
     "output_type": "display_data"
    }
   ],
   "source": [
    "#hide_input\n",
    "plt.figure(figsize=(15, 11))\n",
    "sns.heatmap(df_all[sum_corr].corr(), annot=True, cmap=\"cubehelix\") \n",
    "sns.set(font_scale=1.25)\n",
    "plt.savefig('corr_matrix.png', format='eps')"
   ]
  },
  {
   "cell_type": "code",
   "execution_count": 8,
   "id": "arbitrary-sullivan",
   "metadata": {
    "execution": {
     "iopub.execute_input": "2021-05-25T02:28:21.329004Z",
     "iopub.status.busy": "2021-05-25T02:28:21.328390Z",
     "iopub.status.idle": "2021-05-25T02:28:21.354890Z",
     "shell.execute_reply": "2021-05-25T02:28:21.354338Z"
    },
    "papermill": {
     "duration": 0.047855,
     "end_time": "2021-05-25T02:28:21.355013",
     "exception": false,
     "start_time": "2021-05-25T02:28:21.307158",
     "status": "completed"
    },
    "tags": []
   },
   "outputs": [],
   "source": [
    "#hide\n",
    "#df_all_mrk = read_api()"
   ]
  },
  {
   "cell_type": "code",
   "execution_count": 9,
   "id": "delayed-adapter",
   "metadata": {
    "execution": {
     "iopub.execute_input": "2021-05-25T02:28:21.388976Z",
     "iopub.status.busy": "2021-05-25T02:28:21.388398Z",
     "iopub.status.idle": "2021-05-25T02:28:21.415070Z",
     "shell.execute_reply": "2021-05-25T02:28:21.415526Z"
    },
    "papermill": {
     "duration": 0.045329,
     "end_time": "2021-05-25T02:28:21.415674",
     "exception": false,
     "start_time": "2021-05-25T02:28:21.370345",
     "status": "completed"
    },
    "tags": []
   },
   "outputs": [],
   "source": [
    "#hide\n",
    "#Koreliacijų koeficientai"
   ]
  },
  {
   "cell_type": "code",
   "execution_count": 10,
   "id": "seeing-celebration",
   "metadata": {
    "execution": {
     "iopub.execute_input": "2021-05-25T02:28:21.450471Z",
     "iopub.status.busy": "2021-05-25T02:28:21.449812Z",
     "iopub.status.idle": "2021-05-25T02:28:21.476951Z",
     "shell.execute_reply": "2021-05-25T02:28:21.476506Z"
    },
    "papermill": {
     "duration": 0.045562,
     "end_time": "2021-05-25T02:28:21.477070",
     "exception": false,
     "start_time": "2021-05-25T02:28:21.431508",
     "status": "completed"
    },
    "tags": []
   },
   "outputs": [],
   "source": [
    "#hide_input\n",
    "#sum_corr = df_all_mrk.corr().sum().sort_values(ascending=True).index.values\n",
    "#df_all_mrk[sum_corr].corr()"
   ]
  },
  {
   "cell_type": "code",
   "execution_count": 11,
   "id": "other-painting",
   "metadata": {
    "execution": {
     "iopub.execute_input": "2021-05-25T02:28:21.512415Z",
     "iopub.status.busy": "2021-05-25T02:28:21.511502Z",
     "iopub.status.idle": "2021-05-25T02:28:21.539694Z",
     "shell.execute_reply": "2021-05-25T02:28:21.539142Z"
    },
    "papermill": {
     "duration": 0.04749,
     "end_time": "2021-05-25T02:28:21.539816",
     "exception": false,
     "start_time": "2021-05-25T02:28:21.492326",
     "status": "completed"
    },
    "tags": []
   },
   "outputs": [],
   "source": [
    "#hide\n",
    "#Koreliacijos matrica. "
   ]
  },
  {
   "cell_type": "code",
   "execution_count": 12,
   "id": "modular-magnitude",
   "metadata": {
    "execution": {
     "iopub.execute_input": "2021-05-25T02:28:21.575050Z",
     "iopub.status.busy": "2021-05-25T02:28:21.574480Z",
     "iopub.status.idle": "2021-05-25T02:28:21.605172Z",
     "shell.execute_reply": "2021-05-25T02:28:21.604294Z"
    },
    "papermill": {
     "duration": 0.050094,
     "end_time": "2021-05-25T02:28:21.605372",
     "exception": false,
     "start_time": "2021-05-25T02:28:21.555278",
     "status": "completed"
    },
    "tags": []
   },
   "outputs": [],
   "source": [
    "#hide_input\n",
    "#plt.figure(figsize=(15, 8))\n",
    "#sns.heatmap(df_all_mrk[sum_corr].corr(), annot=True, cmap=\"BrBG\");\n",
    "#plt.savefig('corr_matrix_all.eps', format='eps')"
   ]
  },
  {
   "cell_type": "code",
   "execution_count": null,
   "id": "original-senator",
   "metadata": {
    "papermill": {
     "duration": 0.015019,
     "end_time": "2021-05-25T02:28:21.637683",
     "exception": false,
     "start_time": "2021-05-25T02:28:21.622664",
     "status": "completed"
    },
    "tags": []
   },
   "outputs": [],
   "source": []
  },
  {
   "cell_type": "code",
   "execution_count": null,
   "id": "saving-secretariat",
   "metadata": {
    "papermill": {
     "duration": 0.014498,
     "end_time": "2021-05-25T02:28:21.666575",
     "exception": false,
     "start_time": "2021-05-25T02:28:21.652077",
     "status": "completed"
    },
    "tags": []
   },
   "outputs": [],
   "source": []
  }
 ],
 "metadata": {
  "kernelspec": {
   "display_name": "Python 3",
   "language": "python",
   "name": "python3"
  },
  "language_info": {
   "codemirror_mode": {
    "name": "ipython",
    "version": 3
   },
   "file_extension": ".py",
   "mimetype": "text/x-python",
   "name": "python",
   "nbconvert_exporter": "python",
   "pygments_lexer": "ipython3",
   "version": "3.6.13"
  },
  "papermill": {
   "default_parameters": {},
   "duration": 16.125091,
   "end_time": "2021-05-25T02:28:22.191217",
   "environment_variables": {},
   "exception": null,
   "input_path": "App-Correlation_charts.ipynb",
   "output_path": "App-Correlation_charts.ipynb",
   "parameters": {},
   "start_time": "2021-05-25T02:28:06.066126",
   "version": "2.2.2"
  }
 },
 "nbformat": 4,
 "nbformat_minor": 5
}