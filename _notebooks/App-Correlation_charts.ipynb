{
 "cells": [
  {
   "cell_type": "markdown",
   "id": "touched-facility",
   "metadata": {
    "papermill": {
     "duration": 0.019184,
     "end_time": "2021-06-03T04:14:36.233170",
     "exception": false,
     "start_time": "2021-06-03T04:14:36.213986",
     "status": "completed"
    },
    "tags": []
   },
   "source": [
    "# Koreliacijų matrica\n",
    "> Išplėstinė koreliacijų matrica. \n",
    "\n",
    "- toc: true \n",
    "- badges: true\n",
    "- comments: false\n",
    "- categories: [Dominykas Tautkus]\n",
    "- image: images/matrix.png"
   ]
  },
  {
   "cell_type": "code",
   "execution_count": null,
   "id": "premium-weekend",
   "metadata": {
    "papermill": {
     "duration": 0.012435,
     "end_time": "2021-06-03T04:14:36.258631",
     "exception": false,
     "start_time": "2021-06-03T04:14:36.246196",
     "status": "completed"
    },
    "tags": []
   },
   "outputs": [],
   "source": []
  },
  {
   "cell_type": "code",
   "execution_count": 1,
   "id": "vertical-rebate",
   "metadata": {
    "execution": {
     "iopub.execute_input": "2021-06-03T04:14:36.298661Z",
     "iopub.status.busy": "2021-06-03T04:14:36.297949Z",
     "iopub.status.idle": "2021-06-03T04:14:36.309316Z",
     "shell.execute_reply": "2021-06-03T04:14:36.309833Z"
    },
    "papermill": {
     "duration": 0.03853,
     "end_time": "2021-06-03T04:14:36.310001",
     "exception": false,
     "start_time": "2021-06-03T04:14:36.271471",
     "status": "completed"
    },
    "tags": []
   },
   "outputs": [],
   "source": [
    "#hide\n",
    "%load_ext autoreload\n",
    "%autoreload 2"
   ]
  },
  {
   "cell_type": "code",
   "execution_count": 2,
   "id": "overall-advancement",
   "metadata": {
    "execution": {
     "iopub.execute_input": "2021-06-03T04:14:36.349556Z",
     "iopub.status.busy": "2021-06-03T04:14:36.348927Z",
     "iopub.status.idle": "2021-06-03T04:14:37.617828Z",
     "shell.execute_reply": "2021-06-03T04:14:37.617052Z"
    },
    "papermill": {
     "duration": 1.295694,
     "end_time": "2021-06-03T04:14:37.618039",
     "exception": false,
     "start_time": "2021-06-03T04:14:36.322345",
     "status": "completed"
    },
    "tags": []
   },
   "outputs": [],
   "source": [
    "#hide\n",
    "from scripts.read_data import read_api\n",
    "from IPython.display import HTML\n",
    "import plotly.graph_objects as go\n"
   ]
  },
  {
   "cell_type": "code",
   "execution_count": 3,
   "id": "light-crazy",
   "metadata": {
    "execution": {
     "iopub.execute_input": "2021-06-03T04:14:37.649414Z",
     "iopub.status.busy": "2021-06-03T04:14:37.648853Z",
     "iopub.status.idle": "2021-06-03T04:14:37.673530Z",
     "shell.execute_reply": "2021-06-03T04:14:37.674001Z"
    },
    "papermill": {
     "duration": 0.042855,
     "end_time": "2021-06-03T04:14:37.674189",
     "exception": false,
     "start_time": "2021-06-03T04:14:37.631334",
     "status": "completed"
    },
    "tags": []
   },
   "outputs": [],
   "source": [
    "#hide\n",
    "### ICO koreliacija"
   ]
  },
  {
   "cell_type": "code",
   "execution_count": 4,
   "id": "likely-bahrain",
   "metadata": {
    "execution": {
     "iopub.execute_input": "2021-06-03T04:14:37.706514Z",
     "iopub.status.busy": "2021-06-03T04:14:37.705877Z",
     "iopub.status.idle": "2021-06-03T04:14:38.673145Z",
     "shell.execute_reply": "2021-06-03T04:14:38.671507Z"
    },
    "papermill": {
     "duration": 0.98576,
     "end_time": "2021-06-03T04:14:38.673374",
     "exception": false,
     "start_time": "2021-06-03T04:14:37.687614",
     "status": "completed"
    },
    "tags": []
   },
   "outputs": [],
   "source": [
    "#hide\n",
    "import matplotlib.pyplot as plt\n",
    "import numpy as np\n",
    "import pandas as pd\n",
    "import seaborn as sns\n",
    "import matplotlib.pyplot as plt \n",
    "import matplotlib.dates as mdates\n",
    "import matplotlib.pyplot as plt"
   ]
  },
  {
   "cell_type": "code",
   "execution_count": 5,
   "id": "superior-blanket",
   "metadata": {
    "execution": {
     "iopub.execute_input": "2021-06-03T04:14:38.705013Z",
     "iopub.status.busy": "2021-06-03T04:14:38.704200Z",
     "iopub.status.idle": "2021-06-03T04:14:49.930519Z",
     "shell.execute_reply": "2021-06-03T04:14:49.929875Z"
    },
    "papermill": {
     "duration": 11.243482,
     "end_time": "2021-06-03T04:14:49.930669",
     "exception": false,
     "start_time": "2021-06-03T04:14:38.687187",
     "status": "completed"
    },
    "tags": []
   },
   "outputs": [
    {
     "name": "stderr",
     "output_type": "stream",
     "text": [
      "/home/runner/work/corr-app/corr-app/_notebooks/scripts/read_data.py:187: SettingWithCopyWarning:\n",
      "\n",
      "\n",
      "A value is trying to be set on a copy of a slice from a DataFrame.\n",
      "Try using .loc[row_indexer,col_indexer] = value instead\n",
      "\n",
      "See the caveats in the documentation: https://pandas.pydata.org/pandas-docs/stable/user_guide/indexing.html#returning-a-view-versus-a-copy\n",
      "\n"
     ]
    },
    {
     "name": "stderr",
     "output_type": "stream",
     "text": [
      "/home/runner/work/corr-app/corr-app/_notebooks/scripts/read_data.py:215: SettingWithCopyWarning:\n",
      "\n",
      "\n",
      "A value is trying to be set on a copy of a slice from a DataFrame.\n",
      "Try using .loc[row_indexer,col_indexer] = value instead\n",
      "\n",
      "See the caveats in the documentation: https://pandas.pydata.org/pandas-docs/stable/user_guide/indexing.html#returning-a-view-versus-a-copy\n",
      "\n"
     ]
    }
   ],
   "source": [
    "#hide\n",
    "df_all = read_api()\n",
    "#df_all = df_all.drop(['SP500', 'XAU', 'ETH', 'BTC'], axis=1)\n",
    "\n"
   ]
  },
  {
   "cell_type": "code",
   "execution_count": 6,
   "id": "mature-alert",
   "metadata": {
    "execution": {
     "iopub.execute_input": "2021-06-03T04:14:49.962613Z",
     "iopub.status.busy": "2021-06-03T04:14:49.961803Z",
     "iopub.status.idle": "2021-06-03T04:14:49.993426Z",
     "shell.execute_reply": "2021-06-03T04:14:49.992631Z"
    },
    "papermill": {
     "duration": 0.049614,
     "end_time": "2021-06-03T04:14:49.993629",
     "exception": false,
     "start_time": "2021-06-03T04:14:49.944015",
     "status": "completed"
    },
    "tags": []
   },
   "outputs": [],
   "source": [
    "#hide_input\n",
    "sum_corr = df_all.corr().sum().sort_values(ascending=True).index.values\n",
    "#df_all[sum_corr].corr()"
   ]
  },
  {
   "cell_type": "markdown",
   "id": "complex-syndicate",
   "metadata": {
    "papermill": {
     "duration": 0.012639,
     "end_time": "2021-06-03T04:14:50.022405",
     "exception": false,
     "start_time": "2021-06-03T04:14:50.009766",
     "status": "completed"
    },
    "tags": []
   },
   "source": [
    "## Išplėstinė koreliacijų matrica. "
   ]
  },
  {
   "cell_type": "code",
   "execution_count": 7,
   "id": "atomic-omaha",
   "metadata": {
    "execution": {
     "iopub.execute_input": "2021-06-03T04:14:50.055425Z",
     "iopub.status.busy": "2021-06-03T04:14:50.054874Z",
     "iopub.status.idle": "2021-06-03T04:14:51.311928Z",
     "shell.execute_reply": "2021-06-03T04:14:51.311341Z"
    },
    "papermill": {
     "duration": 1.276433,
     "end_time": "2021-06-03T04:14:51.312075",
     "exception": false,
     "start_time": "2021-06-03T04:14:50.035642",
     "status": "completed"
    },
    "tags": []
   },
   "outputs": [
    {
     "data": {
      "image/png": "[encoded data removed]",
      "text/plain": [
       "<Figure size 1080x792 with 2 Axes>"
      ]
     },
     "metadata": {
      "needs_background": "light"
     },
     "output_type": "display_data"
    }
   ],
   "source": [
    "#hide_input\n",
    "plt.figure(figsize=(15, 11))\n",
    "sns.heatmap(df_all[sum_corr].corr(), annot=True, cmap=\"cubehelix\") \n",
    "sns.set(font_scale=1.25)\n",
    "plt.savefig('corr_matrix.png', format='eps')"
   ]
  },
  {
   "cell_type": "code",
   "execution_count": 8,
   "id": "arbitrary-sullivan",
   "metadata": {
    "execution": {
     "iopub.execute_input": "2021-06-03T04:14:51.351388Z",
     "iopub.status.busy": "2021-06-03T04:14:51.350839Z",
     "iopub.status.idle": "2021-06-03T04:14:51.381662Z",
     "shell.execute_reply": "2021-06-03T04:14:51.380830Z"
    },
    "papermill": {
     "duration": 0.049994,
     "end_time": "2021-06-03T04:14:51.381856",
     "exception": false,
     "start_time": "2021-06-03T04:14:51.331862",
     "status": "completed"
    },
    "tags": []
   },
   "outputs": [],
   "source": [
    "#hide\n",
    "#df_all_mrk = read_api()"
   ]
  },
  {
   "cell_type": "code",
   "execution_count": 9,
   "id": "delayed-adapter",
   "metadata": {
    "execution": {
     "iopub.execute_input": "2021-06-03T04:14:51.419496Z",
     "iopub.status.busy": "2021-06-03T04:14:51.418910Z",
     "iopub.status.idle": "2021-06-03T04:14:51.444833Z",
     "shell.execute_reply": "2021-06-03T04:14:51.444106Z"
    },
    "papermill": {
     "duration": 0.046315,
     "end_time": "2021-06-03T04:14:51.445002",
     "exception": false,
     "start_time": "2021-06-03T04:14:51.398687",
     "status": "completed"
    },
    "tags": []
   },
   "outputs": [],
   "source": [
    "#hide\n",
    "#Koreliacijų koeficientai"
   ]
  },
  {
   "cell_type": "code",
   "execution_count": 10,
   "id": "seeing-celebration",
   "metadata": {
    "execution": {
     "iopub.execute_input": "2021-06-03T04:14:51.480831Z",
     "iopub.status.busy": "2021-06-03T04:14:51.479722Z",
     "iopub.status.idle": "2021-06-03T04:14:51.507294Z",
     "shell.execute_reply": "2021-06-03T04:14:51.507868Z"
    },
    "papermill": {
     "duration": 0.046063,
     "end_time": "2021-06-03T04:14:51.508119",
     "exception": false,
     "start_time": "2021-06-03T04:14:51.462056",
     "status": "completed"
    },
    "tags": []
   },
   "outputs": [],
   "source": [
    "#hide_input\n",
    "#sum_corr = df_all_mrk.corr().sum().sort_values(ascending=True).index.values\n",
    "#df_all_mrk[sum_corr].corr()"
   ]
  },
  {
   "cell_type": "code",
   "execution_count": 11,
   "id": "other-painting",
   "metadata": {
    "execution": {
     "iopub.execute_input": "2021-06-03T04:14:51.546885Z",
     "iopub.status.busy": "2021-06-03T04:14:51.546338Z",
     "iopub.status.idle": "2021-06-03T04:14:51.570248Z",
     "shell.execute_reply": "2021-06-03T04:14:51.569678Z"
    },
    "papermill": {
     "duration": 0.047086,
     "end_time": "2021-06-03T04:14:51.570377",
     "exception": false,
     "start_time": "2021-06-03T04:14:51.523291",
     "status": "completed"
    },
    "tags": []
   },
   "outputs": [],
   "source": [
    "#hide\n",
    "#Koreliacijos matrica. "
   ]
  },
  {
   "cell_type": "code",
   "execution_count": 12,
   "id": "modular-magnitude",
   "metadata": {
    "execution": {
     "iopub.execute_input": "2021-06-03T04:14:51.602893Z",
     "iopub.status.busy": "2021-06-03T04:14:51.602341Z",
     "iopub.status.idle": "2021-06-03T04:14:51.629961Z",
     "shell.execute_reply": "2021-06-03T04:14:51.631784Z"
    },
    "papermill": {
     "duration": 0.047013,
     "end_time": "2021-06-03T04:14:51.631997",
     "exception": false,
     "start_time": "2021-06-03T04:14:51.584984",
     "status": "completed"
    },
    "tags": []
   },
   "outputs": [],
   "source": [
    "#hide_input\n",
    "#plt.figure(figsize=(15, 8))\n",
    "#sns.heatmap(df_all_mrk[sum_corr].corr(), annot=True, cmap=\"BrBG\");\n",
    "#plt.savefig('corr_matrix_all.eps', format='eps')"
   ]
  },
  {
   "cell_type": "code",
   "execution_count": null,
   "id": "original-senator",
   "metadata": {
    "papermill": {
     "duration": 0.015504,
     "end_time": "2021-06-03T04:14:51.662932",
     "exception": false,
     "start_time": "2021-06-03T04:14:51.647428",
     "status": "completed"
    },
    "tags": []
   },
   "outputs": [],
   "source": []
  },
  {
   "cell_type": "code",
   "execution_count": null,
   "id": "saving-secretariat",
   "metadata": {
    "papermill": {
     "duration": 0.019734,
     "end_time": "2021-06-03T04:14:51.698528",
     "exception": false,
     "start_time": "2021-06-03T04:14:51.678794",
     "status": "completed"
    },
    "tags": []
   },
   "outputs": [],
   "source": []
  }
 ],
 "metadata": {
  "kernelspec": {
   "display_name": "Python 3",
   "language": "python",
   "name": "python3"
  },
  "language_info": {
   "codemirror_mode": {
    "name": "ipython",
    "version": 3
   },
   "file_extension": ".py",
   "mimetype": "text/x-python",
   "name": "python",
   "nbconvert_exporter": "python",
   "pygments_lexer": "ipython3",
   "version": "3.6.13"
  },
  "papermill": {
   "default_parameters": {},
   "duration": 17.083043,
   "end_time": "2021-06-03T04:14:52.224005",
   "environment_variables": {},
   "exception": null,
   "input_path": "App-Correlation_charts.ipynb",
   "output_path": "App-Correlation_charts.ipynb",
   "parameters": {},
   "start_time": "2021-06-03T04:14:35.140962",
   "version": "2.2.2"
  }
 },
 "nbformat": 4,
 "nbformat_minor": 5
}