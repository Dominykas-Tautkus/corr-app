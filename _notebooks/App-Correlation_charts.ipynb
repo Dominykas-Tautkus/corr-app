{
 "cells": [
  {
   "cell_type": "markdown",
   "id": "touched-facility",
   "metadata": {
    "papermill": {
     "duration": 0.015525,
     "end_time": "2021-06-07T03:13:19.176844",
     "exception": false,
     "start_time": "2021-06-07T03:13:19.161319",
     "status": "completed"
    },
    "tags": []
   },
   "source": [
    "# Koreliacijų matrica\n",
    "> Išplėstinė koreliacijų matrica. \n",
    "\n",
    "- toc: true \n",
    "- badges: true\n",
    "- comments: false\n",
    "- categories: [Dominykas Tautkus]\n",
    "- image: images/matrix.png"
   ]
  },
  {
   "cell_type": "code",
   "execution_count": null,
   "id": "premium-weekend",
   "metadata": {
    "papermill": {
     "duration": 0.011893,
     "end_time": "2021-06-07T03:13:19.201463",
     "exception": false,
     "start_time": "2021-06-07T03:13:19.189570",
     "status": "completed"
    },
    "tags": []
   },
   "outputs": [],
   "source": []
  },
  {
   "cell_type": "code",
   "execution_count": 1,
   "id": "vertical-rebate",
   "metadata": {
    "execution": {
     "iopub.execute_input": "2021-06-07T03:13:19.239714Z",
     "iopub.status.busy": "2021-06-07T03:13:19.239113Z",
     "iopub.status.idle": "2021-06-07T03:13:19.250040Z",
     "shell.execute_reply": "2021-06-07T03:13:19.250495Z"
    },
    "papermill": {
     "duration": 0.037272,
     "end_time": "2021-06-07T03:13:19.250656",
     "exception": false,
     "start_time": "2021-06-07T03:13:19.213384",
     "status": "completed"
    },
    "tags": []
   },
   "outputs": [],
   "source": [
    "#hide\n",
    "%load_ext autoreload\n",
    "%autoreload 2"
   ]
  },
  {
   "cell_type": "code",
   "execution_count": 2,
   "id": "overall-advancement",
   "metadata": {
    "execution": {
     "iopub.execute_input": "2021-06-07T03:13:19.277593Z",
     "iopub.status.busy": "2021-06-07T03:13:19.277020Z",
     "iopub.status.idle": "2021-06-07T03:13:20.448787Z",
     "shell.execute_reply": "2021-06-07T03:13:20.448243Z"
    },
    "papermill": {
     "duration": 1.186652,
     "end_time": "2021-06-07T03:13:20.449018",
     "exception": false,
     "start_time": "2021-06-07T03:13:19.262366",
     "status": "completed"
    },
    "tags": []
   },
   "outputs": [],
   "source": [
    "#hide\n",
    "from scripts.read_data import read_api\n",
    "from IPython.display import HTML\n",
    "import plotly.graph_objects as go\n"
   ]
  },
  {
   "cell_type": "code",
   "execution_count": 3,
   "id": "light-crazy",
   "metadata": {
    "execution": {
     "iopub.execute_input": "2021-06-07T03:13:20.478591Z",
     "iopub.status.busy": "2021-06-07T03:13:20.478044Z",
     "iopub.status.idle": "2021-06-07T03:13:20.504416Z",
     "shell.execute_reply": "2021-06-07T03:13:20.503894Z"
    },
    "papermill": {
     "duration": 0.043353,
     "end_time": "2021-06-07T03:13:20.504522",
     "exception": false,
     "start_time": "2021-06-07T03:13:20.461169",
     "status": "completed"
    },
    "tags": []
   },
   "outputs": [],
   "source": [
    "#hide\n",
    "### ICO koreliacija"
   ]
  },
  {
   "cell_type": "code",
   "execution_count": 4,
   "id": "likely-bahrain",
   "metadata": {
    "execution": {
     "iopub.execute_input": "2021-06-07T03:13:20.535644Z",
     "iopub.status.busy": "2021-06-07T03:13:20.534958Z",
     "iopub.status.idle": "2021-06-07T03:13:21.424363Z",
     "shell.execute_reply": "2021-06-07T03:13:21.423639Z"
    },
    "papermill": {
     "duration": 0.909109,
     "end_time": "2021-06-07T03:13:21.424546",
     "exception": false,
     "start_time": "2021-06-07T03:13:20.515437",
     "status": "completed"
    },
    "tags": []
   },
   "outputs": [],
   "source": [
    "#hide\n",
    "import matplotlib.pyplot as plt\n",
    "import numpy as np\n",
    "import pandas as pd\n",
    "import seaborn as sns\n",
    "import matplotlib.pyplot as plt \n",
    "import matplotlib.dates as mdates\n",
    "import matplotlib.pyplot as plt"
   ]
  },
  {
   "cell_type": "code",
   "execution_count": 5,
   "id": "superior-blanket",
   "metadata": {
    "execution": {
     "iopub.execute_input": "2021-06-07T03:13:21.455964Z",
     "iopub.status.busy": "2021-06-07T03:13:21.455385Z",
     "iopub.status.idle": "2021-06-07T03:13:34.169682Z",
     "shell.execute_reply": "2021-06-07T03:13:34.169191Z"
    },
    "papermill": {
     "duration": 12.731493,
     "end_time": "2021-06-07T03:13:34.169793",
     "exception": false,
     "start_time": "2021-06-07T03:13:21.438300",
     "status": "completed"
    },
    "tags": []
   },
   "outputs": [
    {
     "name": "stderr",
     "output_type": "stream",
     "text": [
      "/home/runner/work/corr-app/corr-app/_notebooks/scripts/read_data.py:187: SettingWithCopyWarning:\n",
      "\n",
      "\n",
      "A value is trying to be set on a copy of a slice from a DataFrame.\n",
      "Try using .loc[row_indexer,col_indexer] = value instead\n",
      "\n",
      "See the caveats in the documentation: https://pandas.pydata.org/pandas-docs/stable/user_guide/indexing.html#returning-a-view-versus-a-copy\n",
      "\n"
     ]
    },
    {
     "name": "stderr",
     "output_type": "stream",
     "text": [
      "/home/runner/work/corr-app/corr-app/_notebooks/scripts/read_data.py:215: SettingWithCopyWarning:\n",
      "\n",
      "\n",
      "A value is trying to be set on a copy of a slice from a DataFrame.\n",
      "Try using .loc[row_indexer,col_indexer] = value instead\n",
      "\n",
      "See the caveats in the documentation: https://pandas.pydata.org/pandas-docs/stable/user_guide/indexing.html#returning-a-view-versus-a-copy\n",
      "\n"
     ]
    }
   ],
   "source": [
    "#hide\n",
    "df_all = read_api()\n",
    "#df_all = df_all.drop(['SP500', 'XAU', 'ETH', 'BTC'], axis=1)\n",
    "\n"
   ]
  },
  {
   "cell_type": "code",
   "execution_count": 6,
   "id": "mature-alert",
   "metadata": {
    "execution": {
     "iopub.execute_input": "2021-06-07T03:13:34.203081Z",
     "iopub.status.busy": "2021-06-07T03:13:34.202468Z",
     "iopub.status.idle": "2021-06-07T03:13:34.229127Z",
     "shell.execute_reply": "2021-06-07T03:13:34.228427Z"
    },
    "papermill": {
     "duration": 0.046868,
     "end_time": "2021-06-07T03:13:34.229258",
     "exception": false,
     "start_time": "2021-06-07T03:13:34.182390",
     "status": "completed"
    },
    "tags": []
   },
   "outputs": [],
   "source": [
    "#hide_input\n",
    "sum_corr = df_all.corr().sum().sort_values(ascending=True).index.values\n",
    "#df_all[sum_corr].corr()"
   ]
  },
  {
   "cell_type": "markdown",
   "id": "complex-syndicate",
   "metadata": {
    "papermill": {
     "duration": 0.012413,
     "end_time": "2021-06-07T03:13:34.254059",
     "exception": false,
     "start_time": "2021-06-07T03:13:34.241646",
     "status": "completed"
    },
    "tags": []
   },
   "source": [
    "## Išplėstinė koreliacijų matrica. "
   ]
  },
  {
   "cell_type": "code",
   "execution_count": 7,
   "id": "atomic-omaha",
   "metadata": {
    "execution": {
     "iopub.execute_input": "2021-06-07T03:13:34.284574Z",
     "iopub.status.busy": "2021-06-07T03:13:34.284001Z",
     "iopub.status.idle": "2021-06-07T03:13:35.517433Z",
     "shell.execute_reply": "2021-06-07T03:13:35.517923Z"
    },
    "papermill": {
     "duration": 1.251751,
     "end_time": "2021-06-07T03:13:35.518083",
     "exception": false,
     "start_time": "2021-06-07T03:13:34.266332",
     "status": "completed"
    },
    "tags": []
   },
   "outputs": [
    {
     "data": {
      "image/png": "[encoded data removed]",
      "text/plain": [
       "<Figure size 1080x792 with 2 Axes>"
      ]
     },
     "metadata": {
      "needs_background": "light"
     },
     "output_type": "display_data"
    }
   ],
   "source": [
    "#hide_input\n",
    "plt.figure(figsize=(15, 11))\n",
    "sns.heatmap(df_all[sum_corr].corr(), annot=True, cmap=\"cubehelix\") \n",
    "sns.set(font_scale=1.25)\n",
    "plt.savefig('corr_matrix.png', format='eps')"
   ]
  },
  {
   "cell_type": "code",
   "execution_count": 8,
   "id": "arbitrary-sullivan",
   "metadata": {
    "execution": {
     "iopub.execute_input": "2021-06-07T03:13:35.553417Z",
     "iopub.status.busy": "2021-06-07T03:13:35.552880Z",
     "iopub.status.idle": "2021-06-07T03:13:35.581710Z",
     "shell.execute_reply": "2021-06-07T03:13:35.580806Z"
    },
    "papermill": {
     "duration": 0.047814,
     "end_time": "2021-06-07T03:13:35.581868",
     "exception": false,
     "start_time": "2021-06-07T03:13:35.534054",
     "status": "completed"
    },
    "tags": []
   },
   "outputs": [],
   "source": [
    "#hide\n",
    "#df_all_mrk = read_api()"
   ]
  },
  {
   "cell_type": "code",
   "execution_count": 9,
   "id": "delayed-adapter",
   "metadata": {
    "execution": {
     "iopub.execute_input": "2021-06-07T03:13:35.622110Z",
     "iopub.status.busy": "2021-06-07T03:13:35.621473Z",
     "iopub.status.idle": "2021-06-07T03:13:35.646662Z",
     "shell.execute_reply": "2021-06-07T03:13:35.646126Z"
    },
    "papermill": {
     "duration": 0.049552,
     "end_time": "2021-06-07T03:13:35.646808",
     "exception": false,
     "start_time": "2021-06-07T03:13:35.597256",
     "status": "completed"
    },
    "tags": []
   },
   "outputs": [],
   "source": [
    "#hide\n",
    "#Koreliacijų koeficientai"
   ]
  },
  {
   "cell_type": "code",
   "execution_count": 10,
   "id": "seeing-celebration",
   "metadata": {
    "execution": {
     "iopub.execute_input": "2021-06-07T03:13:35.682010Z",
     "iopub.status.busy": "2021-06-07T03:13:35.681391Z",
     "iopub.status.idle": "2021-06-07T03:13:35.708807Z",
     "shell.execute_reply": "2021-06-07T03:13:35.708211Z"
    },
    "papermill": {
     "duration": 0.046388,
     "end_time": "2021-06-07T03:13:35.708959",
     "exception": false,
     "start_time": "2021-06-07T03:13:35.662571",
     "status": "completed"
    },
    "tags": []
   },
   "outputs": [],
   "source": [
    "#hide_input\n",
    "#sum_corr = df_all_mrk.corr().sum().sort_values(ascending=True).index.values\n",
    "#df_all_mrk[sum_corr].corr()"
   ]
  },
  {
   "cell_type": "code",
   "execution_count": 11,
   "id": "other-painting",
   "metadata": {
    "execution": {
     "iopub.execute_input": "2021-06-07T03:13:35.743102Z",
     "iopub.status.busy": "2021-06-07T03:13:35.742585Z",
     "iopub.status.idle": "2021-06-07T03:13:35.770861Z",
     "shell.execute_reply": "2021-06-07T03:13:35.769936Z"
    },
    "papermill": {
     "duration": 0.046831,
     "end_time": "2021-06-07T03:13:35.771060",
     "exception": false,
     "start_time": "2021-06-07T03:13:35.724229",
     "status": "completed"
    },
    "tags": []
   },
   "outputs": [],
   "source": [
    "#hide\n",
    "#Koreliacijos matrica. "
   ]
  },
  {
   "cell_type": "code",
   "execution_count": 12,
   "id": "modular-magnitude",
   "metadata": {
    "execution": {
     "iopub.execute_input": "2021-06-07T03:13:35.808212Z",
     "iopub.status.busy": "2021-06-07T03:13:35.807626Z",
     "iopub.status.idle": "2021-06-07T03:13:35.838474Z",
     "shell.execute_reply": "2021-06-07T03:13:35.837544Z"
    },
    "papermill": {
     "duration": 0.050576,
     "end_time": "2021-06-07T03:13:35.838672",
     "exception": false,
     "start_time": "2021-06-07T03:13:35.788096",
     "status": "completed"
    },
    "tags": []
   },
   "outputs": [],
   "source": [
    "#hide_input\n",
    "#plt.figure(figsize=(15, 8))\n",
    "#sns.heatmap(df_all_mrk[sum_corr].corr(), annot=True, cmap=\"BrBG\");\n",
    "#plt.savefig('corr_matrix_all.eps', format='eps')"
   ]
  },
  {
   "cell_type": "code",
   "execution_count": null,
   "id": "original-senator",
   "metadata": {
    "papermill": {
     "duration": 0.015198,
     "end_time": "2021-06-07T03:13:35.871726",
     "exception": false,
     "start_time": "2021-06-07T03:13:35.856528",
     "status": "completed"
    },
    "tags": []
   },
   "outputs": [],
   "source": []
  },
  {
   "cell_type": "code",
   "execution_count": null,
   "id": "saving-secretariat",
   "metadata": {
    "papermill": {
     "duration": 0.015022,
     "end_time": "2021-06-07T03:13:35.901927",
     "exception": false,
     "start_time": "2021-06-07T03:13:35.886905",
     "status": "completed"
    },
    "tags": []
   },
   "outputs": [],
   "source": []
  }
 ],
 "metadata": {
  "kernelspec": {
   "display_name": "Python 3",
   "language": "python",
   "name": "python3"
  },
  "language_info": {
   "codemirror_mode": {
    "name": "ipython",
    "version": 3
   },
   "file_extension": ".py",
   "mimetype": "text/x-python",
   "name": "python",
   "nbconvert_exporter": "python",
   "pygments_lexer": "ipython3",
   "version": "3.6.13"
  },
  "papermill": {
   "default_parameters": {},
   "duration": 19.31801,
   "end_time": "2021-06-07T03:13:37.404688",
   "environment_variables": {},
   "exception": null,
   "input_path": "App-Correlation_charts.ipynb",
   "output_path": "App-Correlation_charts.ipynb",
   "parameters": {},
   "start_time": "2021-06-07T03:13:18.086678",
   "version": "2.2.2"
  }
 },
 "nbformat": 4,
 "nbformat_minor": 5
}