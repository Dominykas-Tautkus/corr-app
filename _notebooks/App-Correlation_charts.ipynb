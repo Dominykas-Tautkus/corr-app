{
 "cells": [
  {
   "cell_type": "markdown",
   "id": "touched-facility",
   "metadata": {
    "papermill": {
     "duration": 0.01726,
     "end_time": "2021-05-14T02:19:21.012842",
     "exception": false,
     "start_time": "2021-05-14T02:19:20.995582",
     "status": "completed"
    },
    "tags": []
   },
   "source": [
    "# Koreliacijų matrica\n",
    "> Išplėstinė koreliacijų matrica. \n",
    "\n",
    "- toc: true \n",
    "- badges: true\n",
    "- comments: false\n",
    "- categories: [Dominykas Tautkus]\n",
    "- image: images/matrix.png"
   ]
  },
  {
   "cell_type": "code",
   "execution_count": null,
   "id": "premium-weekend",
   "metadata": {
    "papermill": {
     "duration": 0.012281,
     "end_time": "2021-05-14T02:19:21.037913",
     "exception": false,
     "start_time": "2021-05-14T02:19:21.025632",
     "status": "completed"
    },
    "tags": []
   },
   "outputs": [],
   "source": []
  },
  {
   "cell_type": "code",
   "execution_count": 1,
   "id": "vertical-rebate",
   "metadata": {
    "execution": {
     "iopub.execute_input": "2021-05-14T02:19:21.073577Z",
     "iopub.status.busy": "2021-05-14T02:19:21.072940Z",
     "iopub.status.idle": "2021-05-14T02:19:21.083654Z",
     "shell.execute_reply": "2021-05-14T02:19:21.084126Z"
    },
    "papermill": {
     "duration": 0.034372,
     "end_time": "2021-05-14T02:19:21.084347",
     "exception": false,
     "start_time": "2021-05-14T02:19:21.049975",
     "status": "completed"
    },
    "tags": []
   },
   "outputs": [],
   "source": [
    "#hide\n",
    "%load_ext autoreload\n",
    "%autoreload 2"
   ]
  },
  {
   "cell_type": "code",
   "execution_count": 2,
   "id": "overall-advancement",
   "metadata": {
    "execution": {
     "iopub.execute_input": "2021-05-14T02:19:21.113711Z",
     "iopub.status.busy": "2021-05-14T02:19:21.113048Z",
     "iopub.status.idle": "2021-05-14T02:19:22.584485Z",
     "shell.execute_reply": "2021-05-14T02:19:22.583454Z"
    },
    "papermill": {
     "duration": 1.487382,
     "end_time": "2021-05-14T02:19:22.584633",
     "exception": false,
     "start_time": "2021-05-14T02:19:21.097251",
     "status": "completed"
    },
    "tags": []
   },
   "outputs": [],
   "source": [
    "#hide\n",
    "from scripts.read_data import read_api\n",
    "from IPython.display import HTML\n",
    "import plotly.graph_objects as go\n"
   ]
  },
  {
   "cell_type": "code",
   "execution_count": 3,
   "id": "light-crazy",
   "metadata": {
    "execution": {
     "iopub.execute_input": "2021-05-14T02:19:22.613402Z",
     "iopub.status.busy": "2021-05-14T02:19:22.612804Z",
     "iopub.status.idle": "2021-05-14T02:19:22.635793Z",
     "shell.execute_reply": "2021-05-14T02:19:22.636328Z"
    },
    "papermill": {
     "duration": 0.039445,
     "end_time": "2021-05-14T02:19:22.636483",
     "exception": false,
     "start_time": "2021-05-14T02:19:22.597038",
     "status": "completed"
    },
    "tags": []
   },
   "outputs": [],
   "source": [
    "#hide\n",
    "### ICO koreliacija"
   ]
  },
  {
   "cell_type": "code",
   "execution_count": 4,
   "id": "likely-bahrain",
   "metadata": {
    "execution": {
     "iopub.execute_input": "2021-05-14T02:19:22.665112Z",
     "iopub.status.busy": "2021-05-14T02:19:22.664532Z",
     "iopub.status.idle": "2021-05-14T02:19:23.634090Z",
     "shell.execute_reply": "2021-05-14T02:19:23.633483Z"
    },
    "papermill": {
     "duration": 0.985528,
     "end_time": "2021-05-14T02:19:23.634247",
     "exception": false,
     "start_time": "2021-05-14T02:19:22.648719",
     "status": "completed"
    },
    "tags": []
   },
   "outputs": [],
   "source": [
    "#hide\n",
    "import matplotlib.pyplot as plt\n",
    "import numpy as np\n",
    "import pandas as pd\n",
    "import seaborn as sns\n",
    "import matplotlib.pyplot as plt \n",
    "import matplotlib.dates as mdates\n",
    "import matplotlib.pyplot as plt"
   ]
  },
  {
   "cell_type": "code",
   "execution_count": 5,
   "id": "superior-blanket",
   "metadata": {
    "execution": {
     "iopub.execute_input": "2021-05-14T02:19:23.667211Z",
     "iopub.status.busy": "2021-05-14T02:19:23.665375Z",
     "iopub.status.idle": "2021-05-14T02:19:36.910983Z",
     "shell.execute_reply": "2021-05-14T02:19:36.910436Z"
    },
    "papermill": {
     "duration": 13.263784,
     "end_time": "2021-05-14T02:19:36.911109",
     "exception": false,
     "start_time": "2021-05-14T02:19:23.647325",
     "status": "completed"
    },
    "tags": []
   },
   "outputs": [
    {
     "name": "stderr",
     "output_type": "stream",
     "text": [
      "/home/runner/work/corr-app/corr-app/_notebooks/scripts/read_data.py:187: SettingWithCopyWarning:\n",
      "\n",
      "\n",
      "A value is trying to be set on a copy of a slice from a DataFrame.\n",
      "Try using .loc[row_indexer,col_indexer] = value instead\n",
      "\n",
      "See the caveats in the documentation: https://pandas.pydata.org/pandas-docs/stable/user_guide/indexing.html#returning-a-view-versus-a-copy\n",
      "\n"
     ]
    },
    {
     "name": "stderr",
     "output_type": "stream",
     "text": [
      "/home/runner/work/corr-app/corr-app/_notebooks/scripts/read_data.py:215: SettingWithCopyWarning:\n",
      "\n",
      "\n",
      "A value is trying to be set on a copy of a slice from a DataFrame.\n",
      "Try using .loc[row_indexer,col_indexer] = value instead\n",
      "\n",
      "See the caveats in the documentation: https://pandas.pydata.org/pandas-docs/stable/user_guide/indexing.html#returning-a-view-versus-a-copy\n",
      "\n"
     ]
    }
   ],
   "source": [
    "#hide\n",
    "df_all = read_api()\n",
    "#df_all = df_all.drop(['SP500', 'XAU', 'ETH', 'BTC'], axis=1)\n",
    "\n"
   ]
  },
  {
   "cell_type": "code",
   "execution_count": 6,
   "id": "mature-alert",
   "metadata": {
    "execution": {
     "iopub.execute_input": "2021-05-14T02:19:36.950177Z",
     "iopub.status.busy": "2021-05-14T02:19:36.948654Z",
     "iopub.status.idle": "2021-05-14T02:19:36.979223Z",
     "shell.execute_reply": "2021-05-14T02:19:36.978671Z"
    },
    "papermill": {
     "duration": 0.055044,
     "end_time": "2021-05-14T02:19:36.979364",
     "exception": false,
     "start_time": "2021-05-14T02:19:36.924320",
     "status": "completed"
    },
    "tags": []
   },
   "outputs": [],
   "source": [
    "#hide_input\n",
    "sum_corr = df_all.corr().sum().sort_values(ascending=True).index.values\n",
    "#df_all[sum_corr].corr()"
   ]
  },
  {
   "cell_type": "markdown",
   "id": "complex-syndicate",
   "metadata": {
    "papermill": {
     "duration": 0.012772,
     "end_time": "2021-05-14T02:19:37.005932",
     "exception": false,
     "start_time": "2021-05-14T02:19:36.993160",
     "status": "completed"
    },
    "tags": []
   },
   "source": [
    "## Išplėstinė koreliacijų matrica. "
   ]
  },
  {
   "cell_type": "code",
   "execution_count": 7,
   "id": "atomic-omaha",
   "metadata": {
    "execution": {
     "iopub.execute_input": "2021-05-14T02:19:37.036297Z",
     "iopub.status.busy": "2021-05-14T02:19:37.035688Z",
     "iopub.status.idle": "2021-05-14T02:19:38.332553Z",
     "shell.execute_reply": "2021-05-14T02:19:38.331920Z"
    },
    "papermill": {
     "duration": 1.313976,
     "end_time": "2021-05-14T02:19:38.332702",
     "exception": false,
     "start_time": "2021-05-14T02:19:37.018726",
     "status": "completed"
    },
    "tags": []
   },
   "outputs": [
    {
     "data": {
      "image/png": "[encoded data removed]",
      "text/plain": [
       "<Figure size 1080x792 with 2 Axes>"
      ]
     },
     "metadata": {
      "needs_background": "light"
     },
     "output_type": "display_data"
    }
   ],
   "source": [
    "#hide_input\n",
    "plt.figure(figsize=(15, 11))\n",
    "sns.heatmap(df_all[sum_corr].corr(), annot=True, cmap=\"cubehelix\") \n",
    "sns.set(font_scale=1.25)\n",
    "plt.savefig('corr_matrix.png', format='eps')"
   ]
  },
  {
   "cell_type": "code",
   "execution_count": 8,
   "id": "arbitrary-sullivan",
   "metadata": {
    "execution": {
     "iopub.execute_input": "2021-05-14T02:19:38.369538Z",
     "iopub.status.busy": "2021-05-14T02:19:38.368935Z",
     "iopub.status.idle": "2021-05-14T02:19:38.399593Z",
     "shell.execute_reply": "2021-05-14T02:19:38.400240Z"
    },
    "papermill": {
     "duration": 0.051655,
     "end_time": "2021-05-14T02:19:38.400401",
     "exception": false,
     "start_time": "2021-05-14T02:19:38.348746",
     "status": "completed"
    },
    "tags": []
   },
   "outputs": [],
   "source": [
    "#hide\n",
    "#df_all_mrk = read_api()"
   ]
  },
  {
   "cell_type": "code",
   "execution_count": 9,
   "id": "delayed-adapter",
   "metadata": {
    "execution": {
     "iopub.execute_input": "2021-05-14T02:19:38.441346Z",
     "iopub.status.busy": "2021-05-14T02:19:38.440715Z",
     "iopub.status.idle": "2021-05-14T02:19:38.465704Z",
     "shell.execute_reply": "2021-05-14T02:19:38.465106Z"
    },
    "papermill": {
     "duration": 0.049086,
     "end_time": "2021-05-14T02:19:38.466003",
     "exception": false,
     "start_time": "2021-05-14T02:19:38.416917",
     "status": "completed"
    },
    "tags": []
   },
   "outputs": [],
   "source": [
    "#hide\n",
    "#Koreliacijų koeficientai"
   ]
  },
  {
   "cell_type": "code",
   "execution_count": 10,
   "id": "seeing-celebration",
   "metadata": {
    "execution": {
     "iopub.execute_input": "2021-05-14T02:19:38.504233Z",
     "iopub.status.busy": "2021-05-14T02:19:38.503482Z",
     "iopub.status.idle": "2021-05-14T02:19:38.533294Z",
     "shell.execute_reply": "2021-05-14T02:19:38.532706Z"
    },
    "papermill": {
     "duration": 0.049207,
     "end_time": "2021-05-14T02:19:38.533443",
     "exception": false,
     "start_time": "2021-05-14T02:19:38.484236",
     "status": "completed"
    },
    "tags": []
   },
   "outputs": [],
   "source": [
    "#hide_input\n",
    "#sum_corr = df_all_mrk.corr().sum().sort_values(ascending=True).index.values\n",
    "#df_all_mrk[sum_corr].corr()"
   ]
  },
  {
   "cell_type": "code",
   "execution_count": 11,
   "id": "other-painting",
   "metadata": {
    "execution": {
     "iopub.execute_input": "2021-05-14T02:19:38.572119Z",
     "iopub.status.busy": "2021-05-14T02:19:38.570321Z",
     "iopub.status.idle": "2021-05-14T02:19:38.597605Z",
     "shell.execute_reply": "2021-05-14T02:19:38.597117Z"
    },
    "papermill": {
     "duration": 0.048499,
     "end_time": "2021-05-14T02:19:38.597765",
     "exception": false,
     "start_time": "2021-05-14T02:19:38.549266",
     "status": "completed"
    },
    "tags": []
   },
   "outputs": [],
   "source": [
    "#hide\n",
    "#Koreliacijos matrica. "
   ]
  },
  {
   "cell_type": "code",
   "execution_count": 12,
   "id": "modular-magnitude",
   "metadata": {
    "execution": {
     "iopub.execute_input": "2021-05-14T02:19:38.633692Z",
     "iopub.status.busy": "2021-05-14T02:19:38.633068Z",
     "iopub.status.idle": "2021-05-14T02:19:38.662649Z",
     "shell.execute_reply": "2021-05-14T02:19:38.662132Z"
    },
    "papermill": {
     "duration": 0.049446,
     "end_time": "2021-05-14T02:19:38.662775",
     "exception": false,
     "start_time": "2021-05-14T02:19:38.613329",
     "status": "completed"
    },
    "tags": []
   },
   "outputs": [],
   "source": [
    "#hide_input\n",
    "#plt.figure(figsize=(15, 8))\n",
    "#sns.heatmap(df_all_mrk[sum_corr].corr(), annot=True, cmap=\"BrBG\");\n",
    "#plt.savefig('corr_matrix_all.eps', format='eps')"
   ]
  },
  {
   "cell_type": "code",
   "execution_count": null,
   "id": "original-senator",
   "metadata": {
    "papermill": {
     "duration": 0.015252,
     "end_time": "2021-05-14T02:19:38.693533",
     "exception": false,
     "start_time": "2021-05-14T02:19:38.678281",
     "status": "completed"
    },
    "tags": []
   },
   "outputs": [],
   "source": []
  },
  {
   "cell_type": "code",
   "execution_count": null,
   "id": "saving-secretariat",
   "metadata": {
    "papermill": {
     "duration": 0.015854,
     "end_time": "2021-05-14T02:19:38.724691",
     "exception": false,
     "start_time": "2021-05-14T02:19:38.708837",
     "status": "completed"
    },
    "tags": []
   },
   "outputs": [],
   "source": []
  }
 ],
 "metadata": {
  "kernelspec": {
   "display_name": "Python 3",
   "language": "python",
   "name": "python3"
  },
  "language_info": {
   "codemirror_mode": {
    "name": "ipython",
    "version": 3
   },
   "file_extension": ".py",
   "mimetype": "text/x-python",
   "name": "python",
   "nbconvert_exporter": "python",
   "pygments_lexer": "ipython3",
   "version": "3.6.13"
  },
  "papermill": {
   "default_parameters": {},
   "duration": 20.320335,
   "end_time": "2021-05-14T02:19:40.043814",
   "environment_variables": {},
   "exception": null,
   "input_path": "App-Correlation_charts.ipynb",
   "output_path": "App-Correlation_charts.ipynb",
   "parameters": {},
   "start_time": "2021-05-14T02:19:19.723479",
   "version": "2.2.2"
  }
 },
 "nbformat": 4,
 "nbformat_minor": 5
}