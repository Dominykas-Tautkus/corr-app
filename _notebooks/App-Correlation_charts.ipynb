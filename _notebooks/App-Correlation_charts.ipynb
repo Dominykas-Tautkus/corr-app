{
 "cells": [
  {
   "cell_type": "markdown",
   "id": "touched-facility",
   "metadata": {
    "papermill": {
     "duration": 0.017265,
     "end_time": "2021-04-15T02:05:35.458918",
     "exception": false,
     "start_time": "2021-04-15T02:05:35.441653",
     "status": "completed"
    },
    "tags": []
   },
   "source": [
    "# Koreliacijų matrica\n",
    "> Išplėstinė koreliacijų matrica. \n",
    "\n",
    "- toc: true \n",
    "- badges: true\n",
    "- comments: false\n",
    "- categories: [Dominykas Tautkus]\n",
    "- image: images/matrix.png"
   ]
  },
  {
   "cell_type": "code",
   "execution_count": null,
   "id": "premium-weekend",
   "metadata": {
    "papermill": {
     "duration": 0.013465,
     "end_time": "2021-04-15T02:05:35.486888",
     "exception": false,
     "start_time": "2021-04-15T02:05:35.473423",
     "status": "completed"
    },
    "tags": []
   },
   "outputs": [],
   "source": []
  },
  {
   "cell_type": "code",
   "execution_count": 1,
   "id": "vertical-rebate",
   "metadata": {
    "execution": {
     "iopub.execute_input": "2021-04-15T02:05:35.526529Z",
     "iopub.status.busy": "2021-04-15T02:05:35.525863Z",
     "iopub.status.idle": "2021-04-15T02:05:35.539204Z",
     "shell.execute_reply": "2021-04-15T02:05:35.538660Z"
    },
    "papermill": {
     "duration": 0.03914,
     "end_time": "2021-04-15T02:05:35.539331",
     "exception": false,
     "start_time": "2021-04-15T02:05:35.500191",
     "status": "completed"
    },
    "tags": []
   },
   "outputs": [],
   "source": [
    "#hide\n",
    "%load_ext autoreload\n",
    "%autoreload 2"
   ]
  },
  {
   "cell_type": "code",
   "execution_count": 2,
   "id": "overall-advancement",
   "metadata": {
    "execution": {
     "iopub.execute_input": "2021-04-15T02:05:35.569038Z",
     "iopub.status.busy": "2021-04-15T02:05:35.568412Z",
     "iopub.status.idle": "2021-04-15T02:05:36.945057Z",
     "shell.execute_reply": "2021-04-15T02:05:36.944133Z"
    },
    "papermill": {
     "duration": 1.392331,
     "end_time": "2021-04-15T02:05:36.945203",
     "exception": false,
     "start_time": "2021-04-15T02:05:35.552872",
     "status": "completed"
    },
    "tags": []
   },
   "outputs": [],
   "source": [
    "#hide\n",
    "from scripts.read_data import read_api\n",
    "from IPython.display import HTML\n",
    "import plotly.graph_objects as go\n"
   ]
  },
  {
   "cell_type": "code",
   "execution_count": 3,
   "id": "light-crazy",
   "metadata": {
    "execution": {
     "iopub.execute_input": "2021-04-15T02:05:36.980522Z",
     "iopub.status.busy": "2021-04-15T02:05:36.979866Z",
     "iopub.status.idle": "2021-04-15T02:05:37.002057Z",
     "shell.execute_reply": "2021-04-15T02:05:37.001503Z"
    },
    "papermill": {
     "duration": 0.042899,
     "end_time": "2021-04-15T02:05:37.002200",
     "exception": false,
     "start_time": "2021-04-15T02:05:36.959301",
     "status": "completed"
    },
    "tags": []
   },
   "outputs": [],
   "source": [
    "#hide\n",
    "### ICO koreliacija"
   ]
  },
  {
   "cell_type": "code",
   "execution_count": 4,
   "id": "likely-bahrain",
   "metadata": {
    "execution": {
     "iopub.execute_input": "2021-04-15T02:05:37.048872Z",
     "iopub.status.busy": "2021-04-15T02:05:37.043871Z",
     "iopub.status.idle": "2021-04-15T02:05:38.066307Z",
     "shell.execute_reply": "2021-04-15T02:05:38.065749Z"
    },
    "papermill": {
     "duration": 1.05059,
     "end_time": "2021-04-15T02:05:38.066452",
     "exception": false,
     "start_time": "2021-04-15T02:05:37.015862",
     "status": "completed"
    },
    "tags": []
   },
   "outputs": [],
   "source": [
    "#hide\n",
    "import matplotlib.pyplot as plt\n",
    "import numpy as np\n",
    "import pandas as pd\n",
    "import seaborn as sns\n",
    "import matplotlib.pyplot as plt \n",
    "import matplotlib.dates as mdates\n",
    "import matplotlib.pyplot as plt"
   ]
  },
  {
   "cell_type": "code",
   "execution_count": 5,
   "id": "superior-blanket",
   "metadata": {
    "execution": {
     "iopub.execute_input": "2021-04-15T02:05:38.112485Z",
     "iopub.status.busy": "2021-04-15T02:05:38.110615Z",
     "iopub.status.idle": "2021-04-15T02:05:51.044981Z",
     "shell.execute_reply": "2021-04-15T02:05:51.044388Z"
    },
    "papermill": {
     "duration": 12.96292,
     "end_time": "2021-04-15T02:05:51.045137",
     "exception": false,
     "start_time": "2021-04-15T02:05:38.082217",
     "status": "completed"
    },
    "tags": []
   },
   "outputs": [
    {
     "name": "stderr",
     "output_type": "stream",
     "text": [
      "/home/runner/work/corr-app/corr-app/_notebooks/scripts/read_data.py:187: SettingWithCopyWarning:\n",
      "\n",
      "\n",
      "A value is trying to be set on a copy of a slice from a DataFrame.\n",
      "Try using .loc[row_indexer,col_indexer] = value instead\n",
      "\n",
      "See the caveats in the documentation: https://pandas.pydata.org/pandas-docs/stable/user_guide/indexing.html#returning-a-view-versus-a-copy\n",
      "\n"
     ]
    },
    {
     "name": "stderr",
     "output_type": "stream",
     "text": [
      "/home/runner/work/corr-app/corr-app/_notebooks/scripts/read_data.py:215: SettingWithCopyWarning:\n",
      "\n",
      "\n",
      "A value is trying to be set on a copy of a slice from a DataFrame.\n",
      "Try using .loc[row_indexer,col_indexer] = value instead\n",
      "\n",
      "See the caveats in the documentation: https://pandas.pydata.org/pandas-docs/stable/user_guide/indexing.html#returning-a-view-versus-a-copy\n",
      "\n"
     ]
    }
   ],
   "source": [
    "#hide\n",
    "df_all = read_api()\n",
    "#df_all = df_all.drop(['SP500', 'XAU', 'ETH', 'BTC'], axis=1)\n",
    "\n"
   ]
  },
  {
   "cell_type": "code",
   "execution_count": 6,
   "id": "mature-alert",
   "metadata": {
    "execution": {
     "iopub.execute_input": "2021-04-15T02:05:51.080746Z",
     "iopub.status.busy": "2021-04-15T02:05:51.080032Z",
     "iopub.status.idle": "2021-04-15T02:05:51.112172Z",
     "shell.execute_reply": "2021-04-15T02:05:51.112731Z"
    },
    "papermill": {
     "duration": 0.051714,
     "end_time": "2021-04-15T02:05:51.112891",
     "exception": false,
     "start_time": "2021-04-15T02:05:51.061177",
     "status": "completed"
    },
    "tags": []
   },
   "outputs": [],
   "source": [
    "#hide_input\n",
    "sum_corr = df_all.corr().sum().sort_values(ascending=True).index.values\n",
    "#df_all[sum_corr].corr()"
   ]
  },
  {
   "cell_type": "markdown",
   "id": "complex-syndicate",
   "metadata": {
    "papermill": {
     "duration": 0.014943,
     "end_time": "2021-04-15T02:05:51.142419",
     "exception": false,
     "start_time": "2021-04-15T02:05:51.127476",
     "status": "completed"
    },
    "tags": []
   },
   "source": [
    "## Išplėstinė koreliacijų matrica. "
   ]
  },
  {
   "cell_type": "code",
   "execution_count": 7,
   "id": "atomic-omaha",
   "metadata": {
    "execution": {
     "iopub.execute_input": "2021-04-15T02:05:51.193641Z",
     "iopub.status.busy": "2021-04-15T02:05:51.193000Z",
     "iopub.status.idle": "2021-04-15T02:05:52.630956Z",
     "shell.execute_reply": "2021-04-15T02:05:52.630382Z"
    },
    "papermill": {
     "duration": 1.473873,
     "end_time": "2021-04-15T02:05:52.631109",
     "exception": false,
     "start_time": "2021-04-15T02:05:51.157236",
     "status": "completed"
    },
    "tags": []
   },
   "outputs": [
    {
     "data": {
      "image/png": "[encoded data removed]",
      "text/plain": [
       "<Figure size 1080x792 with 2 Axes>"
      ]
     },
     "metadata": {
      "needs_background": "light"
     },
     "output_type": "display_data"
    }
   ],
   "source": [
    "#hide_input\n",
    "plt.figure(figsize=(15, 11))\n",
    "sns.heatmap(df_all[sum_corr].corr(), annot=True, cmap=\"cubehelix\") \n",
    "sns.set(font_scale=1.25)\n",
    "plt.savefig('corr_matrix.png', format='eps')"
   ]
  },
  {
   "cell_type": "code",
   "execution_count": 8,
   "id": "arbitrary-sullivan",
   "metadata": {
    "execution": {
     "iopub.execute_input": "2021-04-15T02:05:52.669388Z",
     "iopub.status.busy": "2021-04-15T02:05:52.668727Z",
     "iopub.status.idle": "2021-04-15T02:05:52.700336Z",
     "shell.execute_reply": "2021-04-15T02:05:52.699783Z"
    },
    "papermill": {
     "duration": 0.052138,
     "end_time": "2021-04-15T02:05:52.700480",
     "exception": false,
     "start_time": "2021-04-15T02:05:52.648342",
     "status": "completed"
    },
    "tags": []
   },
   "outputs": [],
   "source": [
    "#hide\n",
    "#df_all_mrk = read_api()"
   ]
  },
  {
   "cell_type": "code",
   "execution_count": 9,
   "id": "delayed-adapter",
   "metadata": {
    "execution": {
     "iopub.execute_input": "2021-04-15T02:05:52.739043Z",
     "iopub.status.busy": "2021-04-15T02:05:52.738331Z",
     "iopub.status.idle": "2021-04-15T02:05:52.766988Z",
     "shell.execute_reply": "2021-04-15T02:05:52.766393Z"
    },
    "papermill": {
     "duration": 0.049871,
     "end_time": "2021-04-15T02:05:52.767130",
     "exception": false,
     "start_time": "2021-04-15T02:05:52.717259",
     "status": "completed"
    },
    "tags": []
   },
   "outputs": [],
   "source": [
    "#hide\n",
    "#Koreliacijų koeficientai"
   ]
  },
  {
   "cell_type": "code",
   "execution_count": 10,
   "id": "seeing-celebration",
   "metadata": {
    "execution": {
     "iopub.execute_input": "2021-04-15T02:05:52.816352Z",
     "iopub.status.busy": "2021-04-15T02:05:52.815693Z",
     "iopub.status.idle": "2021-04-15T02:05:52.841753Z",
     "shell.execute_reply": "2021-04-15T02:05:52.841139Z"
    },
    "papermill": {
     "duration": 0.053102,
     "end_time": "2021-04-15T02:05:52.841942",
     "exception": false,
     "start_time": "2021-04-15T02:05:52.788840",
     "status": "completed"
    },
    "tags": []
   },
   "outputs": [],
   "source": [
    "#hide_input\n",
    "#sum_corr = df_all_mrk.corr().sum().sort_values(ascending=True).index.values\n",
    "#df_all_mrk[sum_corr].corr()"
   ]
  },
  {
   "cell_type": "code",
   "execution_count": 11,
   "id": "other-painting",
   "metadata": {
    "execution": {
     "iopub.execute_input": "2021-04-15T02:05:52.881992Z",
     "iopub.status.busy": "2021-04-15T02:05:52.881343Z",
     "iopub.status.idle": "2021-04-15T02:05:52.908411Z",
     "shell.execute_reply": "2021-04-15T02:05:52.907742Z"
    },
    "papermill": {
     "duration": 0.049151,
     "end_time": "2021-04-15T02:05:52.908555",
     "exception": false,
     "start_time": "2021-04-15T02:05:52.859404",
     "status": "completed"
    },
    "tags": []
   },
   "outputs": [],
   "source": [
    "#hide\n",
    "#Koreliacijos matrica. "
   ]
  },
  {
   "cell_type": "code",
   "execution_count": 12,
   "id": "modular-magnitude",
   "metadata": {
    "execution": {
     "iopub.execute_input": "2021-04-15T02:05:52.952818Z",
     "iopub.status.busy": "2021-04-15T02:05:52.952149Z",
     "iopub.status.idle": "2021-04-15T02:05:52.978010Z",
     "shell.execute_reply": "2021-04-15T02:05:52.977435Z"
    },
    "papermill": {
     "duration": 0.051664,
     "end_time": "2021-04-15T02:05:52.978150",
     "exception": false,
     "start_time": "2021-04-15T02:05:52.926486",
     "status": "completed"
    },
    "tags": []
   },
   "outputs": [],
   "source": [
    "#hide_input\n",
    "#plt.figure(figsize=(15, 8))\n",
    "#sns.heatmap(df_all_mrk[sum_corr].corr(), annot=True, cmap=\"BrBG\");\n",
    "#plt.savefig('corr_matrix_all.eps', format='eps')"
   ]
  },
  {
   "cell_type": "code",
   "execution_count": null,
   "id": "original-senator",
   "metadata": {
    "papermill": {
     "duration": 0.017208,
     "end_time": "2021-04-15T02:05:53.012216",
     "exception": false,
     "start_time": "2021-04-15T02:05:52.995008",
     "status": "completed"
    },
    "tags": []
   },
   "outputs": [],
   "source": []
  },
  {
   "cell_type": "code",
   "execution_count": null,
   "id": "saving-secretariat",
   "metadata": {
    "papermill": {
     "duration": 0.015942,
     "end_time": "2021-04-15T02:05:53.044500",
     "exception": false,
     "start_time": "2021-04-15T02:05:53.028558",
     "status": "completed"
    },
    "tags": []
   },
   "outputs": [],
   "source": []
  }
 ],
 "metadata": {
  "kernelspec": {
   "display_name": "Python 3",
   "language": "python",
   "name": "python3"
  },
  "language_info": {
   "codemirror_mode": {
    "name": "ipython",
    "version": 3
   },
   "file_extension": ".py",
   "mimetype": "text/x-python",
   "name": "python",
   "nbconvert_exporter": "python",
   "pygments_lexer": "ipython3",
   "version": "3.6.13"
  },
  "papermill": {
   "default_parameters": {},
   "duration": 19.220201,
   "end_time": "2021-04-15T02:05:53.570368",
   "environment_variables": {},
   "exception": null,
   "input_path": "App-Correlation_charts.ipynb",
   "output_path": "App-Correlation_charts.ipynb",
   "parameters": {},
   "start_time": "2021-04-15T02:05:34.350167",
   "version": "2.2.2"
  }
 },
 "nbformat": 4,
 "nbformat_minor": 5
}