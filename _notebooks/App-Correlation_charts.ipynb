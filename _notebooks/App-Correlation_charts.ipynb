{
 "cells": [
  {
   "cell_type": "markdown",
   "id": "touched-facility",
   "metadata": {
    "papermill": {
     "duration": 0.01831,
     "end_time": "2021-02-23T01:40:09.572400",
     "exception": false,
     "start_time": "2021-02-23T01:40:09.554090",
     "status": "completed"
    },
    "tags": []
   },
   "source": [
    "# Koreliacijų matrica\n",
    "> Išplėstinė koreliacijų matrica. \n",
    "\n",
    "- toc: true \n",
    "- badges: true\n",
    "- comments: false\n",
    "- categories: [Dominykas Tautkus]\n",
    "- image: images/matrix.png"
   ]
  },
  {
   "cell_type": "code",
   "execution_count": null,
   "id": "premium-weekend",
   "metadata": {
    "papermill": {
     "duration": 0.01382,
     "end_time": "2021-02-23T01:40:09.599980",
     "exception": false,
     "start_time": "2021-02-23T01:40:09.586160",
     "status": "completed"
    },
    "tags": []
   },
   "outputs": [],
   "source": []
  },
  {
   "cell_type": "code",
   "execution_count": 1,
   "id": "vertical-rebate",
   "metadata": {
    "execution": {
     "iopub.execute_input": "2021-02-23T01:40:09.639594Z",
     "iopub.status.busy": "2021-02-23T01:40:09.638915Z",
     "iopub.status.idle": "2021-02-23T01:40:09.650179Z",
     "shell.execute_reply": "2021-02-23T01:40:09.649584Z"
    },
    "papermill": {
     "duration": 0.037001,
     "end_time": "2021-02-23T01:40:09.650331",
     "exception": false,
     "start_time": "2021-02-23T01:40:09.613330",
     "status": "completed"
    },
    "tags": []
   },
   "outputs": [],
   "source": [
    "#hide\n",
    "%load_ext autoreload\n",
    "%autoreload 2"
   ]
  },
  {
   "cell_type": "code",
   "execution_count": 2,
   "id": "overall-advancement",
   "metadata": {
    "execution": {
     "iopub.execute_input": "2021-02-23T01:40:09.680704Z",
     "iopub.status.busy": "2021-02-23T01:40:09.680034Z",
     "iopub.status.idle": "2021-02-23T01:40:10.927917Z",
     "shell.execute_reply": "2021-02-23T01:40:10.928447Z"
    },
    "papermill": {
     "duration": 1.264959,
     "end_time": "2021-02-23T01:40:10.928622",
     "exception": false,
     "start_time": "2021-02-23T01:40:09.663663",
     "status": "completed"
    },
    "tags": []
   },
   "outputs": [],
   "source": [
    "#hide\n",
    "from scripts.read_data import read_api\n",
    "from IPython.display import HTML\n",
    "import plotly.graph_objects as go\n"
   ]
  },
  {
   "cell_type": "code",
   "execution_count": 3,
   "id": "light-crazy",
   "metadata": {
    "execution": {
     "iopub.execute_input": "2021-02-23T01:40:10.963423Z",
     "iopub.status.busy": "2021-02-23T01:40:10.962390Z",
     "iopub.status.idle": "2021-02-23T01:40:10.984011Z",
     "shell.execute_reply": "2021-02-23T01:40:10.983314Z"
    },
    "papermill": {
     "duration": 0.041704,
     "end_time": "2021-02-23T01:40:10.984153",
     "exception": false,
     "start_time": "2021-02-23T01:40:10.942449",
     "status": "completed"
    },
    "tags": []
   },
   "outputs": [],
   "source": [
    "#hide\n",
    "### ICO koreliacija"
   ]
  },
  {
   "cell_type": "code",
   "execution_count": 4,
   "id": "likely-bahrain",
   "metadata": {
    "execution": {
     "iopub.execute_input": "2021-02-23T01:40:11.018315Z",
     "iopub.status.busy": "2021-02-23T01:40:11.017563Z",
     "iopub.status.idle": "2021-02-23T01:40:12.838561Z",
     "shell.execute_reply": "2021-02-23T01:40:12.837961Z"
    },
    "papermill": {
     "duration": 1.84005,
     "end_time": "2021-02-23T01:40:12.838709",
     "exception": false,
     "start_time": "2021-02-23T01:40:10.998659",
     "status": "completed"
    },
    "tags": []
   },
   "outputs": [],
   "source": [
    "#hide\n",
    "import matplotlib.pyplot as plt\n",
    "import numpy as np\n",
    "import pandas as pd\n",
    "import seaborn as sns\n",
    "import matplotlib.pyplot as plt \n",
    "import matplotlib.dates as mdates\n",
    "import matplotlib.pyplot as plt"
   ]
  },
  {
   "cell_type": "code",
   "execution_count": 5,
   "id": "superior-blanket",
   "metadata": {
    "execution": {
     "iopub.execute_input": "2021-02-23T01:40:12.883537Z",
     "iopub.status.busy": "2021-02-23T01:40:12.878194Z",
     "iopub.status.idle": "2021-02-23T01:40:25.959522Z",
     "shell.execute_reply": "2021-02-23T01:40:25.958898Z"
    },
    "papermill": {
     "duration": 13.107907,
     "end_time": "2021-02-23T01:40:25.959670",
     "exception": false,
     "start_time": "2021-02-23T01:40:12.851763",
     "status": "completed"
    },
    "tags": []
   },
   "outputs": [
    {
     "name": "stderr",
     "output_type": "stream",
     "text": [
      "/home/runner/work/corr-app/corr-app/_notebooks/scripts/read_data.py:187: SettingWithCopyWarning:\n",
      "\n",
      "\n",
      "A value is trying to be set on a copy of a slice from a DataFrame.\n",
      "Try using .loc[row_indexer,col_indexer] = value instead\n",
      "\n",
      "See the caveats in the documentation: https://pandas.pydata.org/pandas-docs/stable/user_guide/indexing.html#returning-a-view-versus-a-copy\n",
      "\n"
     ]
    },
    {
     "name": "stderr",
     "output_type": "stream",
     "text": [
      "/home/runner/work/corr-app/corr-app/_notebooks/scripts/read_data.py:215: SettingWithCopyWarning:\n",
      "\n",
      "\n",
      "A value is trying to be set on a copy of a slice from a DataFrame.\n",
      "Try using .loc[row_indexer,col_indexer] = value instead\n",
      "\n",
      "See the caveats in the documentation: https://pandas.pydata.org/pandas-docs/stable/user_guide/indexing.html#returning-a-view-versus-a-copy\n",
      "\n"
     ]
    }
   ],
   "source": [
    "#hide\n",
    "df_all = read_api()\n",
    "#df_all = df_all.drop(['SP500', 'XAU', 'ETH', 'BTC'], axis=1)\n",
    "\n"
   ]
  },
  {
   "cell_type": "code",
   "execution_count": 6,
   "id": "mature-alert",
   "metadata": {
    "execution": {
     "iopub.execute_input": "2021-02-23T01:40:26.005883Z",
     "iopub.status.busy": "2021-02-23T01:40:25.998209Z",
     "iopub.status.idle": "2021-02-23T01:40:26.029829Z",
     "shell.execute_reply": "2021-02-23T01:40:26.029238Z"
    },
    "papermill": {
     "duration": 0.055427,
     "end_time": "2021-02-23T01:40:26.029968",
     "exception": false,
     "start_time": "2021-02-23T01:40:25.974541",
     "status": "completed"
    },
    "tags": []
   },
   "outputs": [],
   "source": [
    "#hide_input\n",
    "sum_corr = df_all.corr().sum().sort_values(ascending=True).index.values\n",
    "#df_all[sum_corr].corr()"
   ]
  },
  {
   "cell_type": "markdown",
   "id": "complex-syndicate",
   "metadata": {
    "papermill": {
     "duration": 0.013597,
     "end_time": "2021-02-23T01:40:26.057809",
     "exception": false,
     "start_time": "2021-02-23T01:40:26.044212",
     "status": "completed"
    },
    "tags": []
   },
   "source": [
    "## Išplėstinė koreliacijų matrica. "
   ]
  },
  {
   "cell_type": "code",
   "execution_count": 7,
   "id": "atomic-omaha",
   "metadata": {
    "execution": {
     "iopub.execute_input": "2021-02-23T01:40:26.102543Z",
     "iopub.status.busy": "2021-02-23T01:40:26.091252Z",
     "iopub.status.idle": "2021-02-23T01:40:27.563803Z",
     "shell.execute_reply": "2021-02-23T01:40:27.563212Z"
    },
    "papermill": {
     "duration": 1.49058,
     "end_time": "2021-02-23T01:40:27.563945",
     "exception": false,
     "start_time": "2021-02-23T01:40:26.073365",
     "status": "completed"
    },
    "tags": []
   },
   "outputs": [
    {
     "data": {
      "image/png": "[encoded data removed]",
      "text/plain": [
       "<Figure size 1080x792 with 2 Axes>"
      ]
     },
     "metadata": {
      "needs_background": "light"
     },
     "output_type": "display_data"
    }
   ],
   "source": [
    "#hide_input\n",
    "plt.figure(figsize=(15, 11))\n",
    "sns.heatmap(df_all[sum_corr].corr(), annot=True, cmap=\"cubehelix\") \n",
    "sns.set(font_scale=1.25)\n",
    "plt.savefig('corr_matrix.png', format='eps')"
   ]
  },
  {
   "cell_type": "code",
   "execution_count": 8,
   "id": "arbitrary-sullivan",
   "metadata": {
    "execution": {
     "iopub.execute_input": "2021-02-23T01:40:27.604048Z",
     "iopub.status.busy": "2021-02-23T01:40:27.603386Z",
     "iopub.status.idle": "2021-02-23T01:40:27.629788Z",
     "shell.execute_reply": "2021-02-23T01:40:27.629210Z"
    },
    "papermill": {
     "duration": 0.049075,
     "end_time": "2021-02-23T01:40:27.629928",
     "exception": false,
     "start_time": "2021-02-23T01:40:27.580853",
     "status": "completed"
    },
    "tags": []
   },
   "outputs": [],
   "source": [
    "#hide\n",
    "#df_all_mrk = read_api()"
   ]
  },
  {
   "cell_type": "code",
   "execution_count": 9,
   "id": "delayed-adapter",
   "metadata": {
    "execution": {
     "iopub.execute_input": "2021-02-23T01:40:27.668775Z",
     "iopub.status.busy": "2021-02-23T01:40:27.668100Z",
     "iopub.status.idle": "2021-02-23T01:40:27.695384Z",
     "shell.execute_reply": "2021-02-23T01:40:27.696092Z"
    },
    "papermill": {
     "duration": 0.050545,
     "end_time": "2021-02-23T01:40:27.696259",
     "exception": false,
     "start_time": "2021-02-23T01:40:27.645714",
     "status": "completed"
    },
    "tags": []
   },
   "outputs": [],
   "source": [
    "#hide\n",
    "#Koreliacijų koeficientai"
   ]
  },
  {
   "cell_type": "code",
   "execution_count": 10,
   "id": "seeing-celebration",
   "metadata": {
    "execution": {
     "iopub.execute_input": "2021-02-23T01:40:27.751246Z",
     "iopub.status.busy": "2021-02-23T01:40:27.744237Z",
     "iopub.status.idle": "2021-02-23T01:40:27.764746Z",
     "shell.execute_reply": "2021-02-23T01:40:27.763913Z"
    },
    "papermill": {
     "duration": 0.052374,
     "end_time": "2021-02-23T01:40:27.764901",
     "exception": false,
     "start_time": "2021-02-23T01:40:27.712527",
     "status": "completed"
    },
    "tags": []
   },
   "outputs": [],
   "source": [
    "#hide_input\n",
    "#sum_corr = df_all_mrk.corr().sum().sort_values(ascending=True).index.values\n",
    "#df_all_mrk[sum_corr].corr()"
   ]
  },
  {
   "cell_type": "code",
   "execution_count": 11,
   "id": "other-painting",
   "metadata": {
    "execution": {
     "iopub.execute_input": "2021-02-23T01:40:27.806394Z",
     "iopub.status.busy": "2021-02-23T01:40:27.805729Z",
     "iopub.status.idle": "2021-02-23T01:40:27.829894Z",
     "shell.execute_reply": "2021-02-23T01:40:27.829257Z"
    },
    "papermill": {
     "duration": 0.049105,
     "end_time": "2021-02-23T01:40:27.830041",
     "exception": false,
     "start_time": "2021-02-23T01:40:27.780936",
     "status": "completed"
    },
    "tags": []
   },
   "outputs": [],
   "source": [
    "#hide\n",
    "#Koreliacijos matrica. "
   ]
  },
  {
   "cell_type": "code",
   "execution_count": 12,
   "id": "modular-magnitude",
   "metadata": {
    "execution": {
     "iopub.execute_input": "2021-02-23T01:40:27.869596Z",
     "iopub.status.busy": "2021-02-23T01:40:27.868936Z",
     "iopub.status.idle": "2021-02-23T01:40:27.894221Z",
     "shell.execute_reply": "2021-02-23T01:40:27.893660Z"
    },
    "papermill": {
     "duration": 0.048275,
     "end_time": "2021-02-23T01:40:27.894366",
     "exception": false,
     "start_time": "2021-02-23T01:40:27.846091",
     "status": "completed"
    },
    "tags": []
   },
   "outputs": [],
   "source": [
    "#hide_input\n",
    "#plt.figure(figsize=(15, 8))\n",
    "#sns.heatmap(df_all_mrk[sum_corr].corr(), annot=True, cmap=\"BrBG\");\n",
    "#plt.savefig('corr_matrix_all.eps', format='eps')"
   ]
  },
  {
   "cell_type": "code",
   "execution_count": null,
   "id": "original-senator",
   "metadata": {
    "papermill": {
     "duration": 0.015611,
     "end_time": "2021-02-23T01:40:27.934433",
     "exception": false,
     "start_time": "2021-02-23T01:40:27.918822",
     "status": "completed"
    },
    "tags": []
   },
   "outputs": [],
   "source": []
  },
  {
   "cell_type": "code",
   "execution_count": null,
   "id": "saving-secretariat",
   "metadata": {
    "papermill": {
     "duration": 0.015706,
     "end_time": "2021-02-23T01:40:27.966246",
     "exception": false,
     "start_time": "2021-02-23T01:40:27.950540",
     "status": "completed"
    },
    "tags": []
   },
   "outputs": [],
   "source": []
  }
 ],
 "metadata": {
  "kernelspec": {
   "display_name": "Python 3",
   "language": "python",
   "name": "python3"
  },
  "language_info": {
   "codemirror_mode": {
    "name": "ipython",
    "version": 3
   },
   "file_extension": ".py",
   "mimetype": "text/x-python",
   "name": "python",
   "nbconvert_exporter": "python",
   "pygments_lexer": "ipython3",
   "version": "3.6.12"
  },
  "papermill": {
   "default_parameters": {},
   "duration": 20.068352,
   "end_time": "2021-02-23T01:40:28.490196",
   "environment_variables": {},
   "exception": null,
   "input_path": "App-Correlation_charts.ipynb",
   "output_path": "App-Correlation_charts.ipynb",
   "parameters": {},
   "start_time": "2021-02-23T01:40:08.421844",
   "version": "2.2.2"
  }
 },
 "nbformat": 4,
 "nbformat_minor": 5
}