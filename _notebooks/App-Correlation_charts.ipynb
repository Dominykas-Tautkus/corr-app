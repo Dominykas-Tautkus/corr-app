{
 "cells": [
  {
   "cell_type": "markdown",
   "id": "touched-facility",
   "metadata": {
    "papermill": {
     "duration": 0.019301,
     "end_time": "2021-06-02T04:34:31.026195",
     "exception": false,
     "start_time": "2021-06-02T04:34:31.006894",
     "status": "completed"
    },
    "tags": []
   },
   "source": [
    "# Koreliacijų matrica\n",
    "> Išplėstinė koreliacijų matrica. \n",
    "\n",
    "- toc: true \n",
    "- badges: true\n",
    "- comments: false\n",
    "- categories: [Dominykas Tautkus]\n",
    "- image: images/matrix.png"
   ]
  },
  {
   "cell_type": "code",
   "execution_count": null,
   "id": "premium-weekend",
   "metadata": {
    "papermill": {
     "duration": 0.014076,
     "end_time": "2021-06-02T04:34:31.058104",
     "exception": false,
     "start_time": "2021-06-02T04:34:31.044028",
     "status": "completed"
    },
    "tags": []
   },
   "outputs": [],
   "source": []
  },
  {
   "cell_type": "code",
   "execution_count": 1,
   "id": "vertical-rebate",
   "metadata": {
    "execution": {
     "iopub.execute_input": "2021-06-02T04:34:31.105461Z",
     "iopub.status.busy": "2021-06-02T04:34:31.104743Z",
     "iopub.status.idle": "2021-06-02T04:34:31.118330Z",
     "shell.execute_reply": "2021-06-02T04:34:31.117761Z"
    },
    "papermill": {
     "duration": 0.038757,
     "end_time": "2021-06-02T04:34:31.118490",
     "exception": false,
     "start_time": "2021-06-02T04:34:31.079733",
     "status": "completed"
    },
    "tags": []
   },
   "outputs": [],
   "source": [
    "#hide\n",
    "%load_ext autoreload\n",
    "%autoreload 2"
   ]
  },
  {
   "cell_type": "code",
   "execution_count": 2,
   "id": "overall-advancement",
   "metadata": {
    "execution": {
     "iopub.execute_input": "2021-06-02T04:34:31.153835Z",
     "iopub.status.busy": "2021-06-02T04:34:31.153113Z",
     "iopub.status.idle": "2021-06-02T04:34:32.386407Z",
     "shell.execute_reply": "2021-06-02T04:34:32.385834Z"
    },
    "papermill": {
     "duration": 1.254153,
     "end_time": "2021-06-02T04:34:32.386567",
     "exception": false,
     "start_time": "2021-06-02T04:34:31.132414",
     "status": "completed"
    },
    "tags": []
   },
   "outputs": [],
   "source": [
    "#hide\n",
    "from scripts.read_data import read_api\n",
    "from IPython.display import HTML\n",
    "import plotly.graph_objects as go\n"
   ]
  },
  {
   "cell_type": "code",
   "execution_count": 3,
   "id": "light-crazy",
   "metadata": {
    "execution": {
     "iopub.execute_input": "2021-06-02T04:34:32.418720Z",
     "iopub.status.busy": "2021-06-02T04:34:32.418045Z",
     "iopub.status.idle": "2021-06-02T04:34:32.441342Z",
     "shell.execute_reply": "2021-06-02T04:34:32.441859Z"
    },
    "papermill": {
     "duration": 0.042144,
     "end_time": "2021-06-02T04:34:32.442039",
     "exception": false,
     "start_time": "2021-06-02T04:34:32.399895",
     "status": "completed"
    },
    "tags": []
   },
   "outputs": [],
   "source": [
    "#hide\n",
    "### ICO koreliacija"
   ]
  },
  {
   "cell_type": "code",
   "execution_count": 4,
   "id": "likely-bahrain",
   "metadata": {
    "execution": {
     "iopub.execute_input": "2021-06-02T04:34:32.493706Z",
     "iopub.status.busy": "2021-06-02T04:34:32.487085Z",
     "iopub.status.idle": "2021-06-02T04:34:33.471999Z",
     "shell.execute_reply": "2021-06-02T04:34:33.471413Z"
    },
    "papermill": {
     "duration": 1.016047,
     "end_time": "2021-06-02T04:34:33.472144",
     "exception": false,
     "start_time": "2021-06-02T04:34:32.456097",
     "status": "completed"
    },
    "tags": []
   },
   "outputs": [],
   "source": [
    "#hide\n",
    "import matplotlib.pyplot as plt\n",
    "import numpy as np\n",
    "import pandas as pd\n",
    "import seaborn as sns\n",
    "import matplotlib.pyplot as plt \n",
    "import matplotlib.dates as mdates\n",
    "import matplotlib.pyplot as plt"
   ]
  },
  {
   "cell_type": "code",
   "execution_count": 5,
   "id": "superior-blanket",
   "metadata": {
    "execution": {
     "iopub.execute_input": "2021-06-02T04:34:33.522108Z",
     "iopub.status.busy": "2021-06-02T04:34:33.509072Z",
     "iopub.status.idle": "2021-06-02T04:34:47.232502Z",
     "shell.execute_reply": "2021-06-02T04:34:47.233061Z"
    },
    "papermill": {
     "duration": 13.74754,
     "end_time": "2021-06-02T04:34:47.233227",
     "exception": false,
     "start_time": "2021-06-02T04:34:33.485687",
     "status": "completed"
    },
    "tags": []
   },
   "outputs": [
    {
     "name": "stderr",
     "output_type": "stream",
     "text": [
      "/home/runner/work/corr-app/corr-app/_notebooks/scripts/read_data.py:187: SettingWithCopyWarning:\n",
      "\n",
      "\n",
      "A value is trying to be set on a copy of a slice from a DataFrame.\n",
      "Try using .loc[row_indexer,col_indexer] = value instead\n",
      "\n",
      "See the caveats in the documentation: https://pandas.pydata.org/pandas-docs/stable/user_guide/indexing.html#returning-a-view-versus-a-copy\n",
      "\n"
     ]
    },
    {
     "name": "stderr",
     "output_type": "stream",
     "text": [
      "/home/runner/work/corr-app/corr-app/_notebooks/scripts/read_data.py:215: SettingWithCopyWarning:\n",
      "\n",
      "\n",
      "A value is trying to be set on a copy of a slice from a DataFrame.\n",
      "Try using .loc[row_indexer,col_indexer] = value instead\n",
      "\n",
      "See the caveats in the documentation: https://pandas.pydata.org/pandas-docs/stable/user_guide/indexing.html#returning-a-view-versus-a-copy\n",
      "\n"
     ]
    }
   ],
   "source": [
    "#hide\n",
    "df_all = read_api()\n",
    "#df_all = df_all.drop(['SP500', 'XAU', 'ETH', 'BTC'], axis=1)\n",
    "\n"
   ]
  },
  {
   "cell_type": "code",
   "execution_count": 6,
   "id": "mature-alert",
   "metadata": {
    "execution": {
     "iopub.execute_input": "2021-06-02T04:34:47.275869Z",
     "iopub.status.busy": "2021-06-02T04:34:47.275213Z",
     "iopub.status.idle": "2021-06-02T04:34:47.302521Z",
     "shell.execute_reply": "2021-06-02T04:34:47.303298Z"
    },
    "papermill": {
     "duration": 0.054903,
     "end_time": "2021-06-02T04:34:47.303450",
     "exception": false,
     "start_time": "2021-06-02T04:34:47.248547",
     "status": "completed"
    },
    "tags": []
   },
   "outputs": [],
   "source": [
    "#hide_input\n",
    "sum_corr = df_all.corr().sum().sort_values(ascending=True).index.values\n",
    "#df_all[sum_corr].corr()"
   ]
  },
  {
   "cell_type": "markdown",
   "id": "complex-syndicate",
   "metadata": {
    "papermill": {
     "duration": 0.014394,
     "end_time": "2021-06-02T04:34:47.332686",
     "exception": false,
     "start_time": "2021-06-02T04:34:47.318292",
     "status": "completed"
    },
    "tags": []
   },
   "source": [
    "## Išplėstinė koreliacijų matrica. "
   ]
  },
  {
   "cell_type": "code",
   "execution_count": 7,
   "id": "atomic-omaha",
   "metadata": {
    "execution": {
     "iopub.execute_input": "2021-06-02T04:34:47.372416Z",
     "iopub.status.busy": "2021-06-02T04:34:47.371534Z",
     "iopub.status.idle": "2021-06-02T04:34:48.796337Z",
     "shell.execute_reply": "2021-06-02T04:34:48.795814Z"
    },
    "papermill": {
     "duration": 1.449777,
     "end_time": "2021-06-02T04:34:48.796477",
     "exception": false,
     "start_time": "2021-06-02T04:34:47.346700",
     "status": "completed"
    },
    "tags": []
   },
   "outputs": [
    {
     "data": {
      "image/png": "[encoded data removed]",
      "text/plain": [
       "<Figure size 1080x792 with 2 Axes>"
      ]
     },
     "metadata": {
      "needs_background": "light"
     },
     "output_type": "display_data"
    }
   ],
   "source": [
    "#hide_input\n",
    "plt.figure(figsize=(15, 11))\n",
    "sns.heatmap(df_all[sum_corr].corr(), annot=True, cmap=\"cubehelix\") \n",
    "sns.set(font_scale=1.25)\n",
    "plt.savefig('corr_matrix.png', format='eps')"
   ]
  },
  {
   "cell_type": "code",
   "execution_count": 8,
   "id": "arbitrary-sullivan",
   "metadata": {
    "execution": {
     "iopub.execute_input": "2021-06-02T04:34:48.846829Z",
     "iopub.status.busy": "2021-06-02T04:34:48.845935Z",
     "iopub.status.idle": "2021-06-02T04:34:48.867367Z",
     "shell.execute_reply": "2021-06-02T04:34:48.866593Z"
    },
    "papermill": {
     "duration": 0.053555,
     "end_time": "2021-06-02T04:34:48.867497",
     "exception": false,
     "start_time": "2021-06-02T04:34:48.813942",
     "status": "completed"
    },
    "tags": []
   },
   "outputs": [],
   "source": [
    "#hide\n",
    "#df_all_mrk = read_api()"
   ]
  },
  {
   "cell_type": "code",
   "execution_count": 9,
   "id": "delayed-adapter",
   "metadata": {
    "execution": {
     "iopub.execute_input": "2021-06-02T04:34:48.907895Z",
     "iopub.status.busy": "2021-06-02T04:34:48.902070Z",
     "iopub.status.idle": "2021-06-02T04:34:48.930396Z",
     "shell.execute_reply": "2021-06-02T04:34:48.929933Z"
    },
    "papermill": {
     "duration": 0.04774,
     "end_time": "2021-06-02T04:34:48.930509",
     "exception": false,
     "start_time": "2021-06-02T04:34:48.882769",
     "status": "completed"
    },
    "tags": []
   },
   "outputs": [],
   "source": [
    "#hide\n",
    "#Koreliacijų koeficientai"
   ]
  },
  {
   "cell_type": "code",
   "execution_count": 10,
   "id": "seeing-celebration",
   "metadata": {
    "execution": {
     "iopub.execute_input": "2021-06-02T04:34:48.973000Z",
     "iopub.status.busy": "2021-06-02T04:34:48.972333Z",
     "iopub.status.idle": "2021-06-02T04:34:48.999336Z",
     "shell.execute_reply": "2021-06-02T04:34:48.999859Z"
    },
    "papermill": {
     "duration": 0.051787,
     "end_time": "2021-06-02T04:34:49.000003",
     "exception": false,
     "start_time": "2021-06-02T04:34:48.948216",
     "status": "completed"
    },
    "tags": []
   },
   "outputs": [],
   "source": [
    "#hide_input\n",
    "#sum_corr = df_all_mrk.corr().sum().sort_values(ascending=True).index.values\n",
    "#df_all_mrk[sum_corr].corr()"
   ]
  },
  {
   "cell_type": "code",
   "execution_count": 11,
   "id": "other-painting",
   "metadata": {
    "execution": {
     "iopub.execute_input": "2021-06-02T04:34:49.039504Z",
     "iopub.status.busy": "2021-06-02T04:34:49.037162Z",
     "iopub.status.idle": "2021-06-02T04:34:49.070295Z",
     "shell.execute_reply": "2021-06-02T04:34:49.069772Z"
    },
    "papermill": {
     "duration": 0.053246,
     "end_time": "2021-06-02T04:34:49.070424",
     "exception": false,
     "start_time": "2021-06-02T04:34:49.017178",
     "status": "completed"
    },
    "tags": []
   },
   "outputs": [],
   "source": [
    "#hide\n",
    "#Koreliacijos matrica. "
   ]
  },
  {
   "cell_type": "code",
   "execution_count": 12,
   "id": "modular-magnitude",
   "metadata": {
    "execution": {
     "iopub.execute_input": "2021-06-02T04:34:49.108415Z",
     "iopub.status.busy": "2021-06-02T04:34:49.107789Z",
     "iopub.status.idle": "2021-06-02T04:34:49.133668Z",
     "shell.execute_reply": "2021-06-02T04:34:49.133131Z"
    },
    "papermill": {
     "duration": 0.046006,
     "end_time": "2021-06-02T04:34:49.133777",
     "exception": false,
     "start_time": "2021-06-02T04:34:49.087771",
     "status": "completed"
    },
    "tags": []
   },
   "outputs": [],
   "source": [
    "#hide_input\n",
    "#plt.figure(figsize=(15, 8))\n",
    "#sns.heatmap(df_all_mrk[sum_corr].corr(), annot=True, cmap=\"BrBG\");\n",
    "#plt.savefig('corr_matrix_all.eps', format='eps')"
   ]
  },
  {
   "cell_type": "code",
   "execution_count": null,
   "id": "original-senator",
   "metadata": {
    "papermill": {
     "duration": 0.016162,
     "end_time": "2021-06-02T04:34:49.165345",
     "exception": false,
     "start_time": "2021-06-02T04:34:49.149183",
     "status": "completed"
    },
    "tags": []
   },
   "outputs": [],
   "source": []
  },
  {
   "cell_type": "code",
   "execution_count": null,
   "id": "saving-secretariat",
   "metadata": {
    "papermill": {
     "duration": 0.01588,
     "end_time": "2021-06-02T04:34:49.197485",
     "exception": false,
     "start_time": "2021-06-02T04:34:49.181605",
     "status": "completed"
    },
    "tags": []
   },
   "outputs": [],
   "source": []
  }
 ],
 "metadata": {
  "kernelspec": {
   "display_name": "Python 3",
   "language": "python",
   "name": "python3"
  },
  "language_info": {
   "codemirror_mode": {
    "name": "ipython",
    "version": 3
   },
   "file_extension": ".py",
   "mimetype": "text/x-python",
   "name": "python",
   "nbconvert_exporter": "python",
   "pygments_lexer": "ipython3",
   "version": "3.6.13"
  },
  "papermill": {
   "default_parameters": {},
   "duration": 20.000981,
   "end_time": "2021-06-02T04:34:49.722269",
   "environment_variables": {},
   "exception": null,
   "input_path": "App-Correlation_charts.ipynb",
   "output_path": "App-Correlation_charts.ipynb",
   "parameters": {},
   "start_time": "2021-06-02T04:34:29.721288",
   "version": "2.2.2"
  }
 },
 "nbformat": 4,
 "nbformat_minor": 5
}