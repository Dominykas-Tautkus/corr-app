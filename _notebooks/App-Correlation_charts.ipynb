{
 "cells": [
  {
   "cell_type": "markdown",
   "id": "touched-facility",
   "metadata": {
    "papermill": {
     "duration": 0.017504,
     "end_time": "2021-04-01T02:10:47.578312",
     "exception": false,
     "start_time": "2021-04-01T02:10:47.560808",
     "status": "completed"
    },
    "tags": []
   },
   "source": [
    "# Koreliacijų matrica\n",
    "> Išplėstinė koreliacijų matrica. \n",
    "\n",
    "- toc: true \n",
    "- badges: true\n",
    "- comments: false\n",
    "- categories: [Dominykas Tautkus]\n",
    "- image: images/matrix.png"
   ]
  },
  {
   "cell_type": "code",
   "execution_count": null,
   "id": "premium-weekend",
   "metadata": {
    "papermill": {
     "duration": 0.013126,
     "end_time": "2021-04-01T02:10:47.605312",
     "exception": false,
     "start_time": "2021-04-01T02:10:47.592186",
     "status": "completed"
    },
    "tags": []
   },
   "outputs": [],
   "source": []
  },
  {
   "cell_type": "code",
   "execution_count": 1,
   "id": "vertical-rebate",
   "metadata": {
    "execution": {
     "iopub.execute_input": "2021-04-01T02:10:47.644024Z",
     "iopub.status.busy": "2021-04-01T02:10:47.643376Z",
     "iopub.status.idle": "2021-04-01T02:10:47.654270Z",
     "shell.execute_reply": "2021-04-01T02:10:47.654809Z"
    },
    "papermill": {
     "duration": 0.035808,
     "end_time": "2021-04-01T02:10:47.654956",
     "exception": false,
     "start_time": "2021-04-01T02:10:47.619148",
     "status": "completed"
    },
    "tags": []
   },
   "outputs": [],
   "source": [
    "#hide\n",
    "%load_ext autoreload\n",
    "%autoreload 2"
   ]
  },
  {
   "cell_type": "code",
   "execution_count": 2,
   "id": "overall-advancement",
   "metadata": {
    "execution": {
     "iopub.execute_input": "2021-04-01T02:10:47.683979Z",
     "iopub.status.busy": "2021-04-01T02:10:47.683327Z",
     "iopub.status.idle": "2021-04-01T02:10:49.111255Z",
     "shell.execute_reply": "2021-04-01T02:10:49.110797Z"
    },
    "papermill": {
     "duration": 1.443571,
     "end_time": "2021-04-01T02:10:49.111377",
     "exception": false,
     "start_time": "2021-04-01T02:10:47.667806",
     "status": "completed"
    },
    "tags": []
   },
   "outputs": [],
   "source": [
    "#hide\n",
    "from scripts.read_data import read_api\n",
    "from IPython.display import HTML\n",
    "import plotly.graph_objects as go\n"
   ]
  },
  {
   "cell_type": "code",
   "execution_count": 3,
   "id": "light-crazy",
   "metadata": {
    "execution": {
     "iopub.execute_input": "2021-04-01T02:10:49.143847Z",
     "iopub.status.busy": "2021-04-01T02:10:49.142031Z",
     "iopub.status.idle": "2021-04-01T02:10:49.164831Z",
     "shell.execute_reply": "2021-04-01T02:10:49.164168Z"
    },
    "papermill": {
     "duration": 0.039598,
     "end_time": "2021-04-01T02:10:49.164950",
     "exception": false,
     "start_time": "2021-04-01T02:10:49.125352",
     "status": "completed"
    },
    "tags": []
   },
   "outputs": [],
   "source": [
    "#hide\n",
    "### ICO koreliacija"
   ]
  },
  {
   "cell_type": "code",
   "execution_count": 4,
   "id": "likely-bahrain",
   "metadata": {
    "execution": {
     "iopub.execute_input": "2021-04-01T02:10:49.195346Z",
     "iopub.status.busy": "2021-04-01T02:10:49.194391Z",
     "iopub.status.idle": "2021-04-01T02:10:50.070153Z",
     "shell.execute_reply": "2021-04-01T02:10:50.069658Z"
    },
    "papermill": {
     "duration": 0.893053,
     "end_time": "2021-04-01T02:10:50.070283",
     "exception": false,
     "start_time": "2021-04-01T02:10:49.177230",
     "status": "completed"
    },
    "tags": []
   },
   "outputs": [],
   "source": [
    "#hide\n",
    "import matplotlib.pyplot as plt\n",
    "import numpy as np\n",
    "import pandas as pd\n",
    "import seaborn as sns\n",
    "import matplotlib.pyplot as plt \n",
    "import matplotlib.dates as mdates\n",
    "import matplotlib.pyplot as plt"
   ]
  },
  {
   "cell_type": "code",
   "execution_count": 5,
   "id": "superior-blanket",
   "metadata": {
    "execution": {
     "iopub.execute_input": "2021-04-01T02:10:50.100800Z",
     "iopub.status.busy": "2021-04-01T02:10:50.100039Z",
     "iopub.status.idle": "2021-04-01T02:11:02.196610Z",
     "shell.execute_reply": "2021-04-01T02:11:02.196037Z"
    },
    "papermill": {
     "duration": 12.113888,
     "end_time": "2021-04-01T02:11:02.196752",
     "exception": false,
     "start_time": "2021-04-01T02:10:50.082864",
     "status": "completed"
    },
    "tags": []
   },
   "outputs": [
    {
     "name": "stderr",
     "output_type": "stream",
     "text": [
      "/home/runner/work/corr-app/corr-app/_notebooks/scripts/read_data.py:187: SettingWithCopyWarning:\n",
      "\n",
      "\n",
      "A value is trying to be set on a copy of a slice from a DataFrame.\n",
      "Try using .loc[row_indexer,col_indexer] = value instead\n",
      "\n",
      "See the caveats in the documentation: https://pandas.pydata.org/pandas-docs/stable/user_guide/indexing.html#returning-a-view-versus-a-copy\n",
      "\n"
     ]
    },
    {
     "name": "stderr",
     "output_type": "stream",
     "text": [
      "/home/runner/work/corr-app/corr-app/_notebooks/scripts/read_data.py:215: SettingWithCopyWarning:\n",
      "\n",
      "\n",
      "A value is trying to be set on a copy of a slice from a DataFrame.\n",
      "Try using .loc[row_indexer,col_indexer] = value instead\n",
      "\n",
      "See the caveats in the documentation: https://pandas.pydata.org/pandas-docs/stable/user_guide/indexing.html#returning-a-view-versus-a-copy\n",
      "\n"
     ]
    }
   ],
   "source": [
    "#hide\n",
    "df_all = read_api()\n",
    "#df_all = df_all.drop(['SP500', 'XAU', 'ETH', 'BTC'], axis=1)\n",
    "\n"
   ]
  },
  {
   "cell_type": "code",
   "execution_count": 6,
   "id": "mature-alert",
   "metadata": {
    "execution": {
     "iopub.execute_input": "2021-04-01T02:11:02.229467Z",
     "iopub.status.busy": "2021-04-01T02:11:02.228880Z",
     "iopub.status.idle": "2021-04-01T02:11:02.259076Z",
     "shell.execute_reply": "2021-04-01T02:11:02.259534Z"
    },
    "papermill": {
     "duration": 0.049189,
     "end_time": "2021-04-01T02:11:02.259664",
     "exception": false,
     "start_time": "2021-04-01T02:11:02.210475",
     "status": "completed"
    },
    "tags": []
   },
   "outputs": [],
   "source": [
    "#hide_input\n",
    "sum_corr = df_all.corr().sum().sort_values(ascending=True).index.values\n",
    "#df_all[sum_corr].corr()"
   ]
  },
  {
   "cell_type": "markdown",
   "id": "complex-syndicate",
   "metadata": {
    "papermill": {
     "duration": 0.015346,
     "end_time": "2021-04-01T02:11:02.289107",
     "exception": false,
     "start_time": "2021-04-01T02:11:02.273761",
     "status": "completed"
    },
    "tags": []
   },
   "source": [
    "## Išplėstinė koreliacijų matrica. "
   ]
  },
  {
   "cell_type": "code",
   "execution_count": 7,
   "id": "atomic-omaha",
   "metadata": {
    "execution": {
     "iopub.execute_input": "2021-04-01T02:11:02.323517Z",
     "iopub.status.busy": "2021-04-01T02:11:02.322944Z",
     "iopub.status.idle": "2021-04-01T02:11:03.859466Z",
     "shell.execute_reply": "2021-04-01T02:11:03.858959Z"
    },
    "papermill": {
     "duration": 1.557058,
     "end_time": "2021-04-01T02:11:03.859601",
     "exception": false,
     "start_time": "2021-04-01T02:11:02.302543",
     "status": "completed"
    },
    "tags": []
   },
   "outputs": [
    {
     "data": {
      "image/png": "[encoded data removed]",
      "text/plain": [
       "<Figure size 1080x792 with 2 Axes>"
      ]
     },
     "metadata": {
      "needs_background": "light"
     },
     "output_type": "display_data"
    }
   ],
   "source": [
    "#hide_input\n",
    "plt.figure(figsize=(15, 11))\n",
    "sns.heatmap(df_all[sum_corr].corr(), annot=True, cmap=\"cubehelix\") \n",
    "sns.set(font_scale=1.25)\n",
    "plt.savefig('corr_matrix.png', format='eps')"
   ]
  },
  {
   "cell_type": "code",
   "execution_count": 8,
   "id": "arbitrary-sullivan",
   "metadata": {
    "execution": {
     "iopub.execute_input": "2021-04-01T02:11:03.896433Z",
     "iopub.status.busy": "2021-04-01T02:11:03.895801Z",
     "iopub.status.idle": "2021-04-01T02:11:03.922842Z",
     "shell.execute_reply": "2021-04-01T02:11:03.923370Z"
    },
    "papermill": {
     "duration": 0.04825,
     "end_time": "2021-04-01T02:11:03.923562",
     "exception": false,
     "start_time": "2021-04-01T02:11:03.875312",
     "status": "completed"
    },
    "tags": []
   },
   "outputs": [],
   "source": [
    "#hide\n",
    "#df_all_mrk = read_api()"
   ]
  },
  {
   "cell_type": "code",
   "execution_count": 9,
   "id": "delayed-adapter",
   "metadata": {
    "execution": {
     "iopub.execute_input": "2021-04-01T02:11:03.969412Z",
     "iopub.status.busy": "2021-04-01T02:11:03.964393Z",
     "iopub.status.idle": "2021-04-01T02:11:03.992223Z",
     "shell.execute_reply": "2021-04-01T02:11:03.992794Z"
    },
    "papermill": {
     "duration": 0.053838,
     "end_time": "2021-04-01T02:11:03.992940",
     "exception": false,
     "start_time": "2021-04-01T02:11:03.939102",
     "status": "completed"
    },
    "tags": []
   },
   "outputs": [],
   "source": [
    "#hide\n",
    "#Koreliacijų koeficientai"
   ]
  },
  {
   "cell_type": "code",
   "execution_count": 10,
   "id": "seeing-celebration",
   "metadata": {
    "execution": {
     "iopub.execute_input": "2021-04-01T02:11:04.030556Z",
     "iopub.status.busy": "2021-04-01T02:11:04.030000Z",
     "iopub.status.idle": "2021-04-01T02:11:04.053102Z",
     "shell.execute_reply": "2021-04-01T02:11:04.053552Z"
    },
    "papermill": {
     "duration": 0.045549,
     "end_time": "2021-04-01T02:11:04.053665",
     "exception": false,
     "start_time": "2021-04-01T02:11:04.008116",
     "status": "completed"
    },
    "tags": []
   },
   "outputs": [],
   "source": [
    "#hide_input\n",
    "#sum_corr = df_all_mrk.corr().sum().sort_values(ascending=True).index.values\n",
    "#df_all_mrk[sum_corr].corr()"
   ]
  },
  {
   "cell_type": "code",
   "execution_count": 11,
   "id": "other-painting",
   "metadata": {
    "execution": {
     "iopub.execute_input": "2021-04-01T02:11:04.087055Z",
     "iopub.status.busy": "2021-04-01T02:11:04.086525Z",
     "iopub.status.idle": "2021-04-01T02:11:04.109374Z",
     "shell.execute_reply": "2021-04-01T02:11:04.109878Z"
    },
    "papermill": {
     "duration": 0.041057,
     "end_time": "2021-04-01T02:11:04.110028",
     "exception": false,
     "start_time": "2021-04-01T02:11:04.068971",
     "status": "completed"
    },
    "tags": []
   },
   "outputs": [],
   "source": [
    "#hide\n",
    "#Koreliacijos matrica. "
   ]
  },
  {
   "cell_type": "code",
   "execution_count": 12,
   "id": "modular-magnitude",
   "metadata": {
    "execution": {
     "iopub.execute_input": "2021-04-01T02:11:04.165379Z",
     "iopub.status.busy": "2021-04-01T02:11:04.164445Z",
     "iopub.status.idle": "2021-04-01T02:11:04.178013Z",
     "shell.execute_reply": "2021-04-01T02:11:04.178735Z"
    },
    "papermill": {
     "duration": 0.052631,
     "end_time": "2021-04-01T02:11:04.178900",
     "exception": false,
     "start_time": "2021-04-01T02:11:04.126269",
     "status": "completed"
    },
    "tags": []
   },
   "outputs": [],
   "source": [
    "#hide_input\n",
    "#plt.figure(figsize=(15, 8))\n",
    "#sns.heatmap(df_all_mrk[sum_corr].corr(), annot=True, cmap=\"BrBG\");\n",
    "#plt.savefig('corr_matrix_all.eps', format='eps')"
   ]
  },
  {
   "cell_type": "code",
   "execution_count": null,
   "id": "original-senator",
   "metadata": {
    "papermill": {
     "duration": 0.014735,
     "end_time": "2021-04-01T02:11:04.209326",
     "exception": false,
     "start_time": "2021-04-01T02:11:04.194591",
     "status": "completed"
    },
    "tags": []
   },
   "outputs": [],
   "source": []
  },
  {
   "cell_type": "code",
   "execution_count": null,
   "id": "saving-secretariat",
   "metadata": {
    "papermill": {
     "duration": 0.016143,
     "end_time": "2021-04-01T02:11:04.241097",
     "exception": false,
     "start_time": "2021-04-01T02:11:04.224954",
     "status": "completed"
    },
    "tags": []
   },
   "outputs": [],
   "source": []
  }
 ],
 "metadata": {
  "kernelspec": {
   "display_name": "Python 3",
   "language": "python",
   "name": "python3"
  },
  "language_info": {
   "codemirror_mode": {
    "name": "ipython",
    "version": 3
   },
   "file_extension": ".py",
   "mimetype": "text/x-python",
   "name": "python",
   "nbconvert_exporter": "python",
   "pygments_lexer": "ipython3",
   "version": "3.6.13"
  },
  "papermill": {
   "default_parameters": {},
   "duration": 18.189579,
   "end_time": "2021-04-01T02:11:04.663105",
   "environment_variables": {},
   "exception": null,
   "input_path": "App-Correlation_charts.ipynb",
   "output_path": "App-Correlation_charts.ipynb",
   "parameters": {},
   "start_time": "2021-04-01T02:10:46.473526",
   "version": "2.2.2"
  }
 },
 "nbformat": 4,
 "nbformat_minor": 5
}