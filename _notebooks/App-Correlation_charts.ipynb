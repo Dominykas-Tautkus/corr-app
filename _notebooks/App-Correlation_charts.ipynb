{
 "cells": [
  {
   "cell_type": "markdown",
   "id": "touched-facility",
   "metadata": {
    "papermill": {
     "duration": 0.017492,
     "end_time": "2021-05-10T02:10:32.921361",
     "exception": false,
     "start_time": "2021-05-10T02:10:32.903869",
     "status": "completed"
    },
    "tags": []
   },
   "source": [
    "# Koreliacijų matrica\n",
    "> Išplėstinė koreliacijų matrica. \n",
    "\n",
    "- toc: true \n",
    "- badges: true\n",
    "- comments: false\n",
    "- categories: [Dominykas Tautkus]\n",
    "- image: images/matrix.png"
   ]
  },
  {
   "cell_type": "code",
   "execution_count": null,
   "id": "premium-weekend",
   "metadata": {
    "papermill": {
     "duration": 0.012359,
     "end_time": "2021-05-10T02:10:32.946835",
     "exception": false,
     "start_time": "2021-05-10T02:10:32.934476",
     "status": "completed"
    },
    "tags": []
   },
   "outputs": [],
   "source": []
  },
  {
   "cell_type": "code",
   "execution_count": 1,
   "id": "vertical-rebate",
   "metadata": {
    "execution": {
     "iopub.execute_input": "2021-05-10T02:10:32.981548Z",
     "iopub.status.busy": "2021-05-10T02:10:32.980979Z",
     "iopub.status.idle": "2021-05-10T02:10:32.992717Z",
     "shell.execute_reply": "2021-05-10T02:10:32.992130Z"
    },
    "papermill": {
     "duration": 0.034567,
     "end_time": "2021-05-10T02:10:32.992877",
     "exception": false,
     "start_time": "2021-05-10T02:10:32.958310",
     "status": "completed"
    },
    "tags": []
   },
   "outputs": [],
   "source": [
    "#hide\n",
    "%load_ext autoreload\n",
    "%autoreload 2"
   ]
  },
  {
   "cell_type": "code",
   "execution_count": 2,
   "id": "overall-advancement",
   "metadata": {
    "execution": {
     "iopub.execute_input": "2021-05-10T02:10:33.024654Z",
     "iopub.status.busy": "2021-05-10T02:10:33.024120Z",
     "iopub.status.idle": "2021-05-10T02:10:34.564177Z",
     "shell.execute_reply": "2021-05-10T02:10:34.563172Z"
    },
    "papermill": {
     "duration": 1.556598,
     "end_time": "2021-05-10T02:10:34.564325",
     "exception": false,
     "start_time": "2021-05-10T02:10:33.007727",
     "status": "completed"
    },
    "tags": []
   },
   "outputs": [],
   "source": [
    "#hide\n",
    "from scripts.read_data import read_api\n",
    "from IPython.display import HTML\n",
    "import plotly.graph_objects as go\n"
   ]
  },
  {
   "cell_type": "code",
   "execution_count": 3,
   "id": "light-crazy",
   "metadata": {
    "execution": {
     "iopub.execute_input": "2021-05-10T02:10:34.596464Z",
     "iopub.status.busy": "2021-05-10T02:10:34.592736Z",
     "iopub.status.idle": "2021-05-10T02:10:34.619245Z",
     "shell.execute_reply": "2021-05-10T02:10:34.619809Z"
    },
    "papermill": {
     "duration": 0.042585,
     "end_time": "2021-05-10T02:10:34.619980",
     "exception": false,
     "start_time": "2021-05-10T02:10:34.577395",
     "status": "completed"
    },
    "tags": []
   },
   "outputs": [],
   "source": [
    "#hide\n",
    "### ICO koreliacija"
   ]
  },
  {
   "cell_type": "code",
   "execution_count": 4,
   "id": "likely-bahrain",
   "metadata": {
    "execution": {
     "iopub.execute_input": "2021-05-10T02:10:34.647557Z",
     "iopub.status.busy": "2021-05-10T02:10:34.646977Z",
     "iopub.status.idle": "2021-05-10T02:10:35.559435Z",
     "shell.execute_reply": "2021-05-10T02:10:35.558869Z"
    },
    "papermill": {
     "duration": 0.927609,
     "end_time": "2021-05-10T02:10:35.559575",
     "exception": false,
     "start_time": "2021-05-10T02:10:34.631966",
     "status": "completed"
    },
    "tags": []
   },
   "outputs": [],
   "source": [
    "#hide\n",
    "import matplotlib.pyplot as plt\n",
    "import numpy as np\n",
    "import pandas as pd\n",
    "import seaborn as sns\n",
    "import matplotlib.pyplot as plt \n",
    "import matplotlib.dates as mdates\n",
    "import matplotlib.pyplot as plt"
   ]
  },
  {
   "cell_type": "code",
   "execution_count": 5,
   "id": "superior-blanket",
   "metadata": {
    "execution": {
     "iopub.execute_input": "2021-05-10T02:10:35.590383Z",
     "iopub.status.busy": "2021-05-10T02:10:35.589788Z",
     "iopub.status.idle": "2021-05-10T02:10:49.055766Z",
     "shell.execute_reply": "2021-05-10T02:10:49.054626Z"
    },
    "papermill": {
     "duration": 13.483575,
     "end_time": "2021-05-10T02:10:49.055922",
     "exception": false,
     "start_time": "2021-05-10T02:10:35.572347",
     "status": "completed"
    },
    "tags": []
   },
   "outputs": [
    {
     "name": "stderr",
     "output_type": "stream",
     "text": [
      "/home/runner/work/corr-app/corr-app/_notebooks/scripts/read_data.py:187: SettingWithCopyWarning:\n",
      "\n",
      "\n",
      "A value is trying to be set on a copy of a slice from a DataFrame.\n",
      "Try using .loc[row_indexer,col_indexer] = value instead\n",
      "\n",
      "See the caveats in the documentation: https://pandas.pydata.org/pandas-docs/stable/user_guide/indexing.html#returning-a-view-versus-a-copy\n",
      "\n"
     ]
    },
    {
     "name": "stderr",
     "output_type": "stream",
     "text": [
      "/home/runner/work/corr-app/corr-app/_notebooks/scripts/read_data.py:215: SettingWithCopyWarning:\n",
      "\n",
      "\n",
      "A value is trying to be set on a copy of a slice from a DataFrame.\n",
      "Try using .loc[row_indexer,col_indexer] = value instead\n",
      "\n",
      "See the caveats in the documentation: https://pandas.pydata.org/pandas-docs/stable/user_guide/indexing.html#returning-a-view-versus-a-copy\n",
      "\n"
     ]
    }
   ],
   "source": [
    "#hide\n",
    "df_all = read_api()\n",
    "#df_all = df_all.drop(['SP500', 'XAU', 'ETH', 'BTC'], axis=1)\n",
    "\n"
   ]
  },
  {
   "cell_type": "code",
   "execution_count": 6,
   "id": "mature-alert",
   "metadata": {
    "execution": {
     "iopub.execute_input": "2021-05-10T02:10:49.096865Z",
     "iopub.status.busy": "2021-05-10T02:10:49.087714Z",
     "iopub.status.idle": "2021-05-10T02:10:49.122411Z",
     "shell.execute_reply": "2021-05-10T02:10:49.121898Z"
    },
    "papermill": {
     "duration": 0.052643,
     "end_time": "2021-05-10T02:10:49.122545",
     "exception": false,
     "start_time": "2021-05-10T02:10:49.069902",
     "status": "completed"
    },
    "tags": []
   },
   "outputs": [],
   "source": [
    "#hide_input\n",
    "sum_corr = df_all.corr().sum().sort_values(ascending=True).index.values\n",
    "#df_all[sum_corr].corr()"
   ]
  },
  {
   "cell_type": "markdown",
   "id": "complex-syndicate",
   "metadata": {
    "papermill": {
     "duration": 0.013549,
     "end_time": "2021-05-10T02:10:49.149357",
     "exception": false,
     "start_time": "2021-05-10T02:10:49.135808",
     "status": "completed"
    },
    "tags": []
   },
   "source": [
    "## Išplėstinė koreliacijų matrica. "
   ]
  },
  {
   "cell_type": "code",
   "execution_count": 7,
   "id": "atomic-omaha",
   "metadata": {
    "execution": {
     "iopub.execute_input": "2021-05-10T02:10:49.187455Z",
     "iopub.status.busy": "2021-05-10T02:10:49.186850Z",
     "iopub.status.idle": "2021-05-10T02:10:50.532967Z",
     "shell.execute_reply": "2021-05-10T02:10:50.533440Z"
    },
    "papermill": {
     "duration": 1.364335,
     "end_time": "2021-05-10T02:10:50.533597",
     "exception": false,
     "start_time": "2021-05-10T02:10:49.169262",
     "status": "completed"
    },
    "tags": []
   },
   "outputs": [
    {
     "data": {
      "image/png": "[encoded data removed]",
      "text/plain": [
       "<Figure size 1080x792 with 2 Axes>"
      ]
     },
     "metadata": {
      "needs_background": "light"
     },
     "output_type": "display_data"
    }
   ],
   "source": [
    "#hide_input\n",
    "plt.figure(figsize=(15, 11))\n",
    "sns.heatmap(df_all[sum_corr].corr(), annot=True, cmap=\"cubehelix\") \n",
    "sns.set(font_scale=1.25)\n",
    "plt.savefig('corr_matrix.png', format='eps')"
   ]
  },
  {
   "cell_type": "code",
   "execution_count": 8,
   "id": "arbitrary-sullivan",
   "metadata": {
    "execution": {
     "iopub.execute_input": "2021-05-10T02:10:50.569195Z",
     "iopub.status.busy": "2021-05-10T02:10:50.568634Z",
     "iopub.status.idle": "2021-05-10T02:10:50.598502Z",
     "shell.execute_reply": "2021-05-10T02:10:50.597973Z"
    },
    "papermill": {
     "duration": 0.049267,
     "end_time": "2021-05-10T02:10:50.598636",
     "exception": false,
     "start_time": "2021-05-10T02:10:50.549369",
     "status": "completed"
    },
    "tags": []
   },
   "outputs": [],
   "source": [
    "#hide\n",
    "#df_all_mrk = read_api()"
   ]
  },
  {
   "cell_type": "code",
   "execution_count": 9,
   "id": "delayed-adapter",
   "metadata": {
    "execution": {
     "iopub.execute_input": "2021-05-10T02:10:50.633375Z",
     "iopub.status.busy": "2021-05-10T02:10:50.632275Z",
     "iopub.status.idle": "2021-05-10T02:10:50.661978Z",
     "shell.execute_reply": "2021-05-10T02:10:50.661503Z"
    },
    "papermill": {
     "duration": 0.048215,
     "end_time": "2021-05-10T02:10:50.662099",
     "exception": false,
     "start_time": "2021-05-10T02:10:50.613884",
     "status": "completed"
    },
    "tags": []
   },
   "outputs": [],
   "source": [
    "#hide\n",
    "#Koreliacijų koeficientai"
   ]
  },
  {
   "cell_type": "code",
   "execution_count": 10,
   "id": "seeing-celebration",
   "metadata": {
    "execution": {
     "iopub.execute_input": "2021-05-10T02:10:50.696124Z",
     "iopub.status.busy": "2021-05-10T02:10:50.695510Z",
     "iopub.status.idle": "2021-05-10T02:10:50.726245Z",
     "shell.execute_reply": "2021-05-10T02:10:50.725624Z"
    },
    "papermill": {
     "duration": 0.050469,
     "end_time": "2021-05-10T02:10:50.726388",
     "exception": false,
     "start_time": "2021-05-10T02:10:50.675919",
     "status": "completed"
    },
    "tags": []
   },
   "outputs": [],
   "source": [
    "#hide_input\n",
    "#sum_corr = df_all_mrk.corr().sum().sort_values(ascending=True).index.values\n",
    "#df_all_mrk[sum_corr].corr()"
   ]
  },
  {
   "cell_type": "code",
   "execution_count": 11,
   "id": "other-painting",
   "metadata": {
    "execution": {
     "iopub.execute_input": "2021-05-10T02:10:50.763143Z",
     "iopub.status.busy": "2021-05-10T02:10:50.762427Z",
     "iopub.status.idle": "2021-05-10T02:10:50.792878Z",
     "shell.execute_reply": "2021-05-10T02:10:50.792392Z"
    },
    "papermill": {
     "duration": 0.049647,
     "end_time": "2021-05-10T02:10:50.792995",
     "exception": false,
     "start_time": "2021-05-10T02:10:50.743348",
     "status": "completed"
    },
    "tags": []
   },
   "outputs": [],
   "source": [
    "#hide\n",
    "#Koreliacijos matrica. "
   ]
  },
  {
   "cell_type": "code",
   "execution_count": 12,
   "id": "modular-magnitude",
   "metadata": {
    "execution": {
     "iopub.execute_input": "2021-05-10T02:10:50.832019Z",
     "iopub.status.busy": "2021-05-10T02:10:50.831366Z",
     "iopub.status.idle": "2021-05-10T02:10:50.859359Z",
     "shell.execute_reply": "2021-05-10T02:10:50.858830Z"
    },
    "papermill": {
     "duration": 0.050302,
     "end_time": "2021-05-10T02:10:50.859522",
     "exception": false,
     "start_time": "2021-05-10T02:10:50.809220",
     "status": "completed"
    },
    "tags": []
   },
   "outputs": [],
   "source": [
    "#hide_input\n",
    "#plt.figure(figsize=(15, 8))\n",
    "#sns.heatmap(df_all_mrk[sum_corr].corr(), annot=True, cmap=\"BrBG\");\n",
    "#plt.savefig('corr_matrix_all.eps', format='eps')"
   ]
  },
  {
   "cell_type": "code",
   "execution_count": null,
   "id": "original-senator",
   "metadata": {
    "papermill": {
     "duration": 0.016239,
     "end_time": "2021-05-10T02:10:50.894267",
     "exception": false,
     "start_time": "2021-05-10T02:10:50.878028",
     "status": "completed"
    },
    "tags": []
   },
   "outputs": [],
   "source": []
  },
  {
   "cell_type": "code",
   "execution_count": null,
   "id": "saving-secretariat",
   "metadata": {
    "papermill": {
     "duration": 0.015917,
     "end_time": "2021-05-10T02:10:50.925848",
     "exception": false,
     "start_time": "2021-05-10T02:10:50.909931",
     "status": "completed"
    },
    "tags": []
   },
   "outputs": [],
   "source": []
  }
 ],
 "metadata": {
  "kernelspec": {
   "display_name": "Python 3",
   "language": "python",
   "name": "python3"
  },
  "language_info": {
   "codemirror_mode": {
    "name": "ipython",
    "version": 3
   },
   "file_extension": ".py",
   "mimetype": "text/x-python",
   "name": "python",
   "nbconvert_exporter": "python",
   "pygments_lexer": "ipython3",
   "version": "3.6.13"
  },
  "papermill": {
   "default_parameters": {},
   "duration": 20.334422,
   "end_time": "2021-05-10T02:10:52.150908",
   "environment_variables": {},
   "exception": null,
   "input_path": "App-Correlation_charts.ipynb",
   "output_path": "App-Correlation_charts.ipynb",
   "parameters": {},
   "start_time": "2021-05-10T02:10:31.816486",
   "version": "2.2.2"
  }
 },
 "nbformat": 4,
 "nbformat_minor": 5
}