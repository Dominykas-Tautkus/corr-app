{
 "cells": [
  {
   "cell_type": "markdown",
   "id": "touched-facility",
   "metadata": {
    "papermill": {
     "duration": 0.018121,
     "end_time": "2021-06-24T01:46:53.411086",
     "exception": false,
     "start_time": "2021-06-24T01:46:53.392965",
     "status": "completed"
    },
    "tags": []
   },
   "source": [
    "# Koreliacijų matrica\n",
    "> Išplėstinė koreliacijų matrica. \n",
    "\n",
    "- toc: true \n",
    "- badges: true\n",
    "- comments: false\n",
    "- categories: [Dominykas Tautkus]\n",
    "- image: images/matrix.png"
   ]
  },
  {
   "cell_type": "code",
   "execution_count": null,
   "id": "premium-weekend",
   "metadata": {
    "papermill": {
     "duration": 0.01216,
     "end_time": "2021-06-24T01:46:53.436253",
     "exception": false,
     "start_time": "2021-06-24T01:46:53.424093",
     "status": "completed"
    },
    "tags": []
   },
   "outputs": [],
   "source": []
  },
  {
   "cell_type": "code",
   "execution_count": 1,
   "id": "vertical-rebate",
   "metadata": {
    "execution": {
     "iopub.execute_input": "2021-06-24T01:46:53.473715Z",
     "iopub.status.busy": "2021-06-24T01:46:53.473100Z",
     "iopub.status.idle": "2021-06-24T01:46:53.485312Z",
     "shell.execute_reply": "2021-06-24T01:46:53.484803Z"
    },
    "papermill": {
     "duration": 0.036994,
     "end_time": "2021-06-24T01:46:53.485456",
     "exception": false,
     "start_time": "2021-06-24T01:46:53.448462",
     "status": "completed"
    },
    "tags": []
   },
   "outputs": [],
   "source": [
    "#hide\n",
    "%load_ext autoreload\n",
    "%autoreload 2"
   ]
  },
  {
   "cell_type": "code",
   "execution_count": 2,
   "id": "overall-advancement",
   "metadata": {
    "execution": {
     "iopub.execute_input": "2021-06-24T01:46:53.514822Z",
     "iopub.status.busy": "2021-06-24T01:46:53.514230Z",
     "iopub.status.idle": "2021-06-24T01:46:54.860746Z",
     "shell.execute_reply": "2021-06-24T01:46:54.861219Z"
    },
    "papermill": {
     "duration": 1.363578,
     "end_time": "2021-06-24T01:46:54.861378",
     "exception": false,
     "start_time": "2021-06-24T01:46:53.497800",
     "status": "completed"
    },
    "tags": []
   },
   "outputs": [],
   "source": [
    "#hide\n",
    "from scripts.read_data import read_api\n",
    "from IPython.display import HTML\n",
    "import plotly.graph_objects as go\n"
   ]
  },
  {
   "cell_type": "code",
   "execution_count": 3,
   "id": "light-crazy",
   "metadata": {
    "execution": {
     "iopub.execute_input": "2021-06-24T01:46:54.891894Z",
     "iopub.status.busy": "2021-06-24T01:46:54.891234Z",
     "iopub.status.idle": "2021-06-24T01:46:54.916094Z",
     "shell.execute_reply": "2021-06-24T01:46:54.916669Z"
    },
    "papermill": {
     "duration": 0.042971,
     "end_time": "2021-06-24T01:46:54.916860",
     "exception": false,
     "start_time": "2021-06-24T01:46:54.873889",
     "status": "completed"
    },
    "tags": []
   },
   "outputs": [],
   "source": [
    "#hide\n",
    "### ICO koreliacija"
   ]
  },
  {
   "cell_type": "code",
   "execution_count": 4,
   "id": "likely-bahrain",
   "metadata": {
    "execution": {
     "iopub.execute_input": "2021-06-24T01:46:54.948792Z",
     "iopub.status.busy": "2021-06-24T01:46:54.948175Z",
     "iopub.status.idle": "2021-06-24T01:46:55.939224Z",
     "shell.execute_reply": "2021-06-24T01:46:55.937996Z"
    },
    "papermill": {
     "duration": 1.008186,
     "end_time": "2021-06-24T01:46:55.939389",
     "exception": false,
     "start_time": "2021-06-24T01:46:54.931203",
     "status": "completed"
    },
    "tags": []
   },
   "outputs": [],
   "source": [
    "#hide\n",
    "import matplotlib.pyplot as plt\n",
    "import numpy as np\n",
    "import pandas as pd\n",
    "import seaborn as sns\n",
    "import matplotlib.pyplot as plt \n",
    "import matplotlib.dates as mdates\n",
    "import matplotlib.pyplot as plt"
   ]
  },
  {
   "cell_type": "code",
   "execution_count": 5,
   "id": "superior-blanket",
   "metadata": {
    "execution": {
     "iopub.execute_input": "2021-06-24T01:46:55.970980Z",
     "iopub.status.busy": "2021-06-24T01:46:55.968623Z",
     "iopub.status.idle": "2021-06-24T01:47:08.097855Z",
     "shell.execute_reply": "2021-06-24T01:47:08.097371Z"
    },
    "papermill": {
     "duration": 12.146174,
     "end_time": "2021-06-24T01:47:08.098009",
     "exception": false,
     "start_time": "2021-06-24T01:46:55.951835",
     "status": "completed"
    },
    "tags": []
   },
   "outputs": [
    {
     "name": "stderr",
     "output_type": "stream",
     "text": [
      "/home/runner/work/corr-app/corr-app/_notebooks/scripts/read_data.py:187: SettingWithCopyWarning:\n",
      "\n",
      "\n",
      "A value is trying to be set on a copy of a slice from a DataFrame.\n",
      "Try using .loc[row_indexer,col_indexer] = value instead\n",
      "\n",
      "See the caveats in the documentation: https://pandas.pydata.org/pandas-docs/stable/user_guide/indexing.html#returning-a-view-versus-a-copy\n",
      "\n"
     ]
    },
    {
     "name": "stderr",
     "output_type": "stream",
     "text": [
      "/home/runner/work/corr-app/corr-app/_notebooks/scripts/read_data.py:215: SettingWithCopyWarning:\n",
      "\n",
      "\n",
      "A value is trying to be set on a copy of a slice from a DataFrame.\n",
      "Try using .loc[row_indexer,col_indexer] = value instead\n",
      "\n",
      "See the caveats in the documentation: https://pandas.pydata.org/pandas-docs/stable/user_guide/indexing.html#returning-a-view-versus-a-copy\n",
      "\n"
     ]
    }
   ],
   "source": [
    "#hide\n",
    "df_all = read_api()\n",
    "#df_all = df_all.drop(['SP500', 'XAU', 'ETH', 'BTC'], axis=1)\n",
    "\n"
   ]
  },
  {
   "cell_type": "code",
   "execution_count": 6,
   "id": "mature-alert",
   "metadata": {
    "execution": {
     "iopub.execute_input": "2021-06-24T01:47:08.128536Z",
     "iopub.status.busy": "2021-06-24T01:47:08.127929Z",
     "iopub.status.idle": "2021-06-24T01:47:08.161045Z",
     "shell.execute_reply": "2021-06-24T01:47:08.160439Z"
    },
    "papermill": {
     "duration": 0.050154,
     "end_time": "2021-06-24T01:47:08.161203",
     "exception": false,
     "start_time": "2021-06-24T01:47:08.111049",
     "status": "completed"
    },
    "tags": []
   },
   "outputs": [],
   "source": [
    "#hide_input\n",
    "sum_corr = df_all.corr().sum().sort_values(ascending=True).index.values\n",
    "#df_all[sum_corr].corr()"
   ]
  },
  {
   "cell_type": "markdown",
   "id": "complex-syndicate",
   "metadata": {
    "papermill": {
     "duration": 0.012788,
     "end_time": "2021-06-24T01:47:08.188258",
     "exception": false,
     "start_time": "2021-06-24T01:47:08.175470",
     "status": "completed"
    },
    "tags": []
   },
   "source": [
    "## Išplėstinė koreliacijų matrica. "
   ]
  },
  {
   "cell_type": "code",
   "execution_count": 7,
   "id": "atomic-omaha",
   "metadata": {
    "execution": {
     "iopub.execute_input": "2021-06-24T01:47:08.219925Z",
     "iopub.status.busy": "2021-06-24T01:47:08.219304Z",
     "iopub.status.idle": "2021-06-24T01:47:09.528187Z",
     "shell.execute_reply": "2021-06-24T01:47:09.527345Z"
    },
    "papermill": {
     "duration": 1.327323,
     "end_time": "2021-06-24T01:47:09.528354",
     "exception": false,
     "start_time": "2021-06-24T01:47:08.201031",
     "status": "completed"
    },
    "tags": []
   },
   "outputs": [
    {
     "data": {
      "image/png": "[encoded data removed]",
      "text/plain": [
       "<Figure size 1080x792 with 2 Axes>"
      ]
     },
     "metadata": {
      "needs_background": "light"
     },
     "output_type": "display_data"
    }
   ],
   "source": [
    "#hide_input\n",
    "plt.figure(figsize=(15, 11))\n",
    "sns.heatmap(df_all[sum_corr].corr(), annot=True, cmap=\"cubehelix\") \n",
    "sns.set(font_scale=1.25)\n",
    "plt.savefig('corr_matrix.png', format='eps')"
   ]
  },
  {
   "cell_type": "code",
   "execution_count": 8,
   "id": "arbitrary-sullivan",
   "metadata": {
    "execution": {
     "iopub.execute_input": "2021-06-24T01:47:09.576085Z",
     "iopub.status.busy": "2021-06-24T01:47:09.572010Z",
     "iopub.status.idle": "2021-06-24T01:47:09.602651Z",
     "shell.execute_reply": "2021-06-24T01:47:09.601992Z"
    },
    "papermill": {
     "duration": 0.05723,
     "end_time": "2021-06-24T01:47:09.602821",
     "exception": false,
     "start_time": "2021-06-24T01:47:09.545591",
     "status": "completed"
    },
    "tags": []
   },
   "outputs": [],
   "source": [
    "#hide\n",
    "#df_all_mrk = read_api()"
   ]
  },
  {
   "cell_type": "code",
   "execution_count": 9,
   "id": "delayed-adapter",
   "metadata": {
    "execution": {
     "iopub.execute_input": "2021-06-24T01:47:09.641788Z",
     "iopub.status.busy": "2021-06-24T01:47:09.641187Z",
     "iopub.status.idle": "2021-06-24T01:47:09.668715Z",
     "shell.execute_reply": "2021-06-24T01:47:09.669189Z"
    },
    "papermill": {
     "duration": 0.049439,
     "end_time": "2021-06-24T01:47:09.669354",
     "exception": false,
     "start_time": "2021-06-24T01:47:09.619915",
     "status": "completed"
    },
    "tags": []
   },
   "outputs": [],
   "source": [
    "#hide\n",
    "#Koreliacijų koeficientai"
   ]
  },
  {
   "cell_type": "code",
   "execution_count": 10,
   "id": "seeing-celebration",
   "metadata": {
    "execution": {
     "iopub.execute_input": "2021-06-24T01:47:09.708413Z",
     "iopub.status.busy": "2021-06-24T01:47:09.704218Z",
     "iopub.status.idle": "2021-06-24T01:47:09.733638Z",
     "shell.execute_reply": "2021-06-24T01:47:09.732924Z"
    },
    "papermill": {
     "duration": 0.048898,
     "end_time": "2021-06-24T01:47:09.733800",
     "exception": false,
     "start_time": "2021-06-24T01:47:09.684902",
     "status": "completed"
    },
    "tags": []
   },
   "outputs": [],
   "source": [
    "#hide_input\n",
    "#sum_corr = df_all_mrk.corr().sum().sort_values(ascending=True).index.values\n",
    "#df_all_mrk[sum_corr].corr()"
   ]
  },
  {
   "cell_type": "code",
   "execution_count": 11,
   "id": "other-painting",
   "metadata": {
    "execution": {
     "iopub.execute_input": "2021-06-24T01:47:09.771119Z",
     "iopub.status.busy": "2021-06-24T01:47:09.770528Z",
     "iopub.status.idle": "2021-06-24T01:47:09.801420Z",
     "shell.execute_reply": "2021-06-24T01:47:09.800745Z"
    },
    "papermill": {
     "duration": 0.049816,
     "end_time": "2021-06-24T01:47:09.801606",
     "exception": false,
     "start_time": "2021-06-24T01:47:09.751790",
     "status": "completed"
    },
    "tags": []
   },
   "outputs": [],
   "source": [
    "#hide\n",
    "#Koreliacijos matrica. "
   ]
  },
  {
   "cell_type": "code",
   "execution_count": 12,
   "id": "modular-magnitude",
   "metadata": {
    "execution": {
     "iopub.execute_input": "2021-06-24T01:47:09.836333Z",
     "iopub.status.busy": "2021-06-24T01:47:09.835750Z",
     "iopub.status.idle": "2021-06-24T01:47:09.870758Z",
     "shell.execute_reply": "2021-06-24T01:47:09.870093Z"
    },
    "papermill": {
     "duration": 0.054026,
     "end_time": "2021-06-24T01:47:09.870934",
     "exception": false,
     "start_time": "2021-06-24T01:47:09.816908",
     "status": "completed"
    },
    "tags": []
   },
   "outputs": [],
   "source": [
    "#hide_input\n",
    "#plt.figure(figsize=(15, 8))\n",
    "#sns.heatmap(df_all_mrk[sum_corr].corr(), annot=True, cmap=\"BrBG\");\n",
    "#plt.savefig('corr_matrix_all.eps', format='eps')"
   ]
  },
  {
   "cell_type": "code",
   "execution_count": null,
   "id": "original-senator",
   "metadata": {
    "papermill": {
     "duration": 0.015246,
     "end_time": "2021-06-24T01:47:09.902132",
     "exception": false,
     "start_time": "2021-06-24T01:47:09.886886",
     "status": "completed"
    },
    "tags": []
   },
   "outputs": [],
   "source": []
  },
  {
   "cell_type": "code",
   "execution_count": null,
   "id": "saving-secretariat",
   "metadata": {
    "papermill": {
     "duration": 0.015106,
     "end_time": "2021-06-24T01:47:09.932600",
     "exception": false,
     "start_time": "2021-06-24T01:47:09.917494",
     "status": "completed"
    },
    "tags": []
   },
   "outputs": [],
   "source": []
  }
 ],
 "metadata": {
  "kernelspec": {
   "display_name": "Python 3",
   "language": "python",
   "name": "python3"
  },
  "language_info": {
   "codemirror_mode": {
    "name": "ipython",
    "version": 3
   },
   "file_extension": ".py",
   "mimetype": "text/x-python",
   "name": "python",
   "nbconvert_exporter": "python",
   "pygments_lexer": "ipython3",
   "version": "3.6.13"
  },
  "papermill": {
   "default_parameters": {},
   "duration": 18.246838,
   "end_time": "2021-06-24T01:47:10.556780",
   "environment_variables": {},
   "exception": null,
   "input_path": "App-Correlation_charts.ipynb",
   "output_path": "App-Correlation_charts.ipynb",
   "parameters": {},
   "start_time": "2021-06-24T01:46:52.309942",
   "version": "2.2.2"
  }
 },
 "nbformat": 4,
 "nbformat_minor": 5
}