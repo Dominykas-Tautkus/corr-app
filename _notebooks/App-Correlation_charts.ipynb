{
 "cells": [
  {
   "cell_type": "markdown",
   "id": "touched-facility",
   "metadata": {
    "papermill": {
     "duration": 0.018723,
     "end_time": "2021-04-23T02:12:34.126723",
     "exception": false,
     "start_time": "2021-04-23T02:12:34.108000",
     "status": "completed"
    },
    "tags": []
   },
   "source": [
    "# Koreliacijų matrica\n",
    "> Išplėstinė koreliacijų matrica. \n",
    "\n",
    "- toc: true \n",
    "- badges: true\n",
    "- comments: false\n",
    "- categories: [Dominykas Tautkus]\n",
    "- image: images/matrix.png"
   ]
  },
  {
   "cell_type": "code",
   "execution_count": null,
   "id": "premium-weekend",
   "metadata": {
    "papermill": {
     "duration": 0.013645,
     "end_time": "2021-04-23T02:12:34.155383",
     "exception": false,
     "start_time": "2021-04-23T02:12:34.141738",
     "status": "completed"
    },
    "tags": []
   },
   "outputs": [],
   "source": []
  },
  {
   "cell_type": "code",
   "execution_count": 1,
   "id": "vertical-rebate",
   "metadata": {
    "execution": {
     "iopub.execute_input": "2021-04-23T02:12:34.195145Z",
     "iopub.status.busy": "2021-04-23T02:12:34.194459Z",
     "iopub.status.idle": "2021-04-23T02:12:34.205644Z",
     "shell.execute_reply": "2021-04-23T02:12:34.206245Z"
    },
    "papermill": {
     "duration": 0.037085,
     "end_time": "2021-04-23T02:12:34.206437",
     "exception": false,
     "start_time": "2021-04-23T02:12:34.169352",
     "status": "completed"
    },
    "tags": []
   },
   "outputs": [],
   "source": [
    "#hide\n",
    "%load_ext autoreload\n",
    "%autoreload 2"
   ]
  },
  {
   "cell_type": "code",
   "execution_count": 2,
   "id": "overall-advancement",
   "metadata": {
    "execution": {
     "iopub.execute_input": "2021-04-23T02:12:34.239731Z",
     "iopub.status.busy": "2021-04-23T02:12:34.239089Z",
     "iopub.status.idle": "2021-04-23T02:12:35.562476Z",
     "shell.execute_reply": "2021-04-23T02:12:35.561880Z"
    },
    "papermill": {
     "duration": 1.341594,
     "end_time": "2021-04-23T02:12:35.562625",
     "exception": false,
     "start_time": "2021-04-23T02:12:34.221031",
     "status": "completed"
    },
    "tags": []
   },
   "outputs": [],
   "source": [
    "#hide\n",
    "from scripts.read_data import read_api\n",
    "from IPython.display import HTML\n",
    "import plotly.graph_objects as go\n"
   ]
  },
  {
   "cell_type": "code",
   "execution_count": 3,
   "id": "light-crazy",
   "metadata": {
    "execution": {
     "iopub.execute_input": "2021-04-23T02:12:35.600396Z",
     "iopub.status.busy": "2021-04-23T02:12:35.599673Z",
     "iopub.status.idle": "2021-04-23T02:12:35.624410Z",
     "shell.execute_reply": "2021-04-23T02:12:35.624906Z"
    },
    "papermill": {
     "duration": 0.047383,
     "end_time": "2021-04-23T02:12:35.625068",
     "exception": false,
     "start_time": "2021-04-23T02:12:35.577685",
     "status": "completed"
    },
    "tags": []
   },
   "outputs": [],
   "source": [
    "#hide\n",
    "### ICO koreliacija"
   ]
  },
  {
   "cell_type": "code",
   "execution_count": 4,
   "id": "likely-bahrain",
   "metadata": {
    "execution": {
     "iopub.execute_input": "2021-04-23T02:12:35.658227Z",
     "iopub.status.busy": "2021-04-23T02:12:35.657446Z",
     "iopub.status.idle": "2021-04-23T02:12:36.648704Z",
     "shell.execute_reply": "2021-04-23T02:12:36.649249Z"
    },
    "papermill": {
     "duration": 1.01011,
     "end_time": "2021-04-23T02:12:36.649417",
     "exception": false,
     "start_time": "2021-04-23T02:12:35.639307",
     "status": "completed"
    },
    "tags": []
   },
   "outputs": [],
   "source": [
    "#hide\n",
    "import matplotlib.pyplot as plt\n",
    "import numpy as np\n",
    "import pandas as pd\n",
    "import seaborn as sns\n",
    "import matplotlib.pyplot as plt \n",
    "import matplotlib.dates as mdates\n",
    "import matplotlib.pyplot as plt"
   ]
  },
  {
   "cell_type": "code",
   "execution_count": 5,
   "id": "superior-blanket",
   "metadata": {
    "execution": {
     "iopub.execute_input": "2021-04-23T02:12:36.683569Z",
     "iopub.status.busy": "2021-04-23T02:12:36.682904Z",
     "iopub.status.idle": "2021-04-23T02:12:48.386725Z",
     "shell.execute_reply": "2021-04-23T02:12:48.385769Z"
    },
    "papermill": {
     "duration": 11.722534,
     "end_time": "2021-04-23T02:12:48.386870",
     "exception": false,
     "start_time": "2021-04-23T02:12:36.664336",
     "status": "completed"
    },
    "tags": []
   },
   "outputs": [
    {
     "name": "stderr",
     "output_type": "stream",
     "text": [
      "/home/runner/work/corr-app/corr-app/_notebooks/scripts/read_data.py:187: SettingWithCopyWarning:\n",
      "\n",
      "\n",
      "A value is trying to be set on a copy of a slice from a DataFrame.\n",
      "Try using .loc[row_indexer,col_indexer] = value instead\n",
      "\n",
      "See the caveats in the documentation: https://pandas.pydata.org/pandas-docs/stable/user_guide/indexing.html#returning-a-view-versus-a-copy\n",
      "\n"
     ]
    },
    {
     "name": "stderr",
     "output_type": "stream",
     "text": [
      "/home/runner/work/corr-app/corr-app/_notebooks/scripts/read_data.py:215: SettingWithCopyWarning:\n",
      "\n",
      "\n",
      "A value is trying to be set on a copy of a slice from a DataFrame.\n",
      "Try using .loc[row_indexer,col_indexer] = value instead\n",
      "\n",
      "See the caveats in the documentation: https://pandas.pydata.org/pandas-docs/stable/user_guide/indexing.html#returning-a-view-versus-a-copy\n",
      "\n"
     ]
    }
   ],
   "source": [
    "#hide\n",
    "df_all = read_api()\n",
    "#df_all = df_all.drop(['SP500', 'XAU', 'ETH', 'BTC'], axis=1)\n",
    "\n"
   ]
  },
  {
   "cell_type": "code",
   "execution_count": 6,
   "id": "mature-alert",
   "metadata": {
    "execution": {
     "iopub.execute_input": "2021-04-23T02:12:48.425384Z",
     "iopub.status.busy": "2021-04-23T02:12:48.424734Z",
     "iopub.status.idle": "2021-04-23T02:12:48.459692Z",
     "shell.execute_reply": "2021-04-23T02:12:48.459075Z"
    },
    "papermill": {
     "duration": 0.053998,
     "end_time": "2021-04-23T02:12:48.459832",
     "exception": false,
     "start_time": "2021-04-23T02:12:48.405834",
     "status": "completed"
    },
    "tags": []
   },
   "outputs": [],
   "source": [
    "#hide_input\n",
    "sum_corr = df_all.corr().sum().sort_values(ascending=True).index.values\n",
    "#df_all[sum_corr].corr()"
   ]
  },
  {
   "cell_type": "markdown",
   "id": "complex-syndicate",
   "metadata": {
    "papermill": {
     "duration": 0.015086,
     "end_time": "2021-04-23T02:12:48.489544",
     "exception": false,
     "start_time": "2021-04-23T02:12:48.474458",
     "status": "completed"
    },
    "tags": []
   },
   "source": [
    "## Išplėstinė koreliacijų matrica. "
   ]
  },
  {
   "cell_type": "code",
   "execution_count": 7,
   "id": "atomic-omaha",
   "metadata": {
    "execution": {
     "iopub.execute_input": "2021-04-23T02:12:48.522621Z",
     "iopub.status.busy": "2021-04-23T02:12:48.521956Z",
     "iopub.status.idle": "2021-04-23T02:12:49.982047Z",
     "shell.execute_reply": "2021-04-23T02:12:49.981450Z"
    },
    "papermill": {
     "duration": 1.478345,
     "end_time": "2021-04-23T02:12:49.982185",
     "exception": false,
     "start_time": "2021-04-23T02:12:48.503840",
     "status": "completed"
    },
    "tags": []
   },
   "outputs": [
    {
     "data": {
      "image/png": "[encoded data removed]",
      "text/plain": [
       "<Figure size 1080x792 with 2 Axes>"
      ]
     },
     "metadata": {
      "needs_background": "light"
     },
     "output_type": "display_data"
    }
   ],
   "source": [
    "#hide_input\n",
    "plt.figure(figsize=(15, 11))\n",
    "sns.heatmap(df_all[sum_corr].corr(), annot=True, cmap=\"cubehelix\") \n",
    "sns.set(font_scale=1.25)\n",
    "plt.savefig('corr_matrix.png', format='eps')"
   ]
  },
  {
   "cell_type": "code",
   "execution_count": 8,
   "id": "arbitrary-sullivan",
   "metadata": {
    "execution": {
     "iopub.execute_input": "2021-04-23T02:12:50.031783Z",
     "iopub.status.busy": "2021-04-23T02:12:50.030127Z",
     "iopub.status.idle": "2021-04-23T02:12:50.053437Z",
     "shell.execute_reply": "2021-04-23T02:12:50.052467Z"
    },
    "papermill": {
     "duration": 0.054844,
     "end_time": "2021-04-23T02:12:50.053583",
     "exception": false,
     "start_time": "2021-04-23T02:12:49.998739",
     "status": "completed"
    },
    "tags": []
   },
   "outputs": [],
   "source": [
    "#hide\n",
    "#df_all_mrk = read_api()"
   ]
  },
  {
   "cell_type": "code",
   "execution_count": 9,
   "id": "delayed-adapter",
   "metadata": {
    "execution": {
     "iopub.execute_input": "2021-04-23T02:12:50.091493Z",
     "iopub.status.busy": "2021-04-23T02:12:50.090238Z",
     "iopub.status.idle": "2021-04-23T02:12:50.119336Z",
     "shell.execute_reply": "2021-04-23T02:12:50.118447Z"
    },
    "papermill": {
     "duration": 0.049333,
     "end_time": "2021-04-23T02:12:50.119475",
     "exception": false,
     "start_time": "2021-04-23T02:12:50.070142",
     "status": "completed"
    },
    "tags": []
   },
   "outputs": [],
   "source": [
    "#hide\n",
    "#Koreliacijų koeficientai"
   ]
  },
  {
   "cell_type": "code",
   "execution_count": 10,
   "id": "seeing-celebration",
   "metadata": {
    "execution": {
     "iopub.execute_input": "2021-04-23T02:12:50.157128Z",
     "iopub.status.busy": "2021-04-23T02:12:50.156479Z",
     "iopub.status.idle": "2021-04-23T02:12:50.185692Z",
     "shell.execute_reply": "2021-04-23T02:12:50.185022Z"
    },
    "papermill": {
     "duration": 0.049681,
     "end_time": "2021-04-23T02:12:50.185860",
     "exception": false,
     "start_time": "2021-04-23T02:12:50.136179",
     "status": "completed"
    },
    "tags": []
   },
   "outputs": [],
   "source": [
    "#hide_input\n",
    "#sum_corr = df_all_mrk.corr().sum().sort_values(ascending=True).index.values\n",
    "#df_all_mrk[sum_corr].corr()"
   ]
  },
  {
   "cell_type": "code",
   "execution_count": 11,
   "id": "other-painting",
   "metadata": {
    "execution": {
     "iopub.execute_input": "2021-04-23T02:12:50.223151Z",
     "iopub.status.busy": "2021-04-23T02:12:50.222501Z",
     "iopub.status.idle": "2021-04-23T02:12:50.251365Z",
     "shell.execute_reply": "2021-04-23T02:12:50.251954Z"
    },
    "papermill": {
     "duration": 0.049697,
     "end_time": "2021-04-23T02:12:50.252127",
     "exception": false,
     "start_time": "2021-04-23T02:12:50.202430",
     "status": "completed"
    },
    "tags": []
   },
   "outputs": [],
   "source": [
    "#hide\n",
    "#Koreliacijos matrica. "
   ]
  },
  {
   "cell_type": "code",
   "execution_count": 12,
   "id": "modular-magnitude",
   "metadata": {
    "execution": {
     "iopub.execute_input": "2021-04-23T02:12:50.291491Z",
     "iopub.status.busy": "2021-04-23T02:12:50.290837Z",
     "iopub.status.idle": "2021-04-23T02:12:50.318737Z",
     "shell.execute_reply": "2021-04-23T02:12:50.318143Z"
    },
    "papermill": {
     "duration": 0.048615,
     "end_time": "2021-04-23T02:12:50.318882",
     "exception": false,
     "start_time": "2021-04-23T02:12:50.270267",
     "status": "completed"
    },
    "tags": []
   },
   "outputs": [],
   "source": [
    "#hide_input\n",
    "#plt.figure(figsize=(15, 8))\n",
    "#sns.heatmap(df_all_mrk[sum_corr].corr(), annot=True, cmap=\"BrBG\");\n",
    "#plt.savefig('corr_matrix_all.eps', format='eps')"
   ]
  },
  {
   "cell_type": "code",
   "execution_count": null,
   "id": "original-senator",
   "metadata": {
    "papermill": {
     "duration": 0.016646,
     "end_time": "2021-04-23T02:12:50.352238",
     "exception": false,
     "start_time": "2021-04-23T02:12:50.335592",
     "status": "completed"
    },
    "tags": []
   },
   "outputs": [],
   "source": []
  },
  {
   "cell_type": "code",
   "execution_count": null,
   "id": "saving-secretariat",
   "metadata": {
    "papermill": {
     "duration": 0.016479,
     "end_time": "2021-04-23T02:12:50.384835",
     "exception": false,
     "start_time": "2021-04-23T02:12:50.368356",
     "status": "completed"
    },
    "tags": []
   },
   "outputs": [],
   "source": []
  }
 ],
 "metadata": {
  "kernelspec": {
   "display_name": "Python 3",
   "language": "python",
   "name": "python3"
  },
  "language_info": {
   "codemirror_mode": {
    "name": "ipython",
    "version": 3
   },
   "file_extension": ".py",
   "mimetype": "text/x-python",
   "name": "python",
   "nbconvert_exporter": "python",
   "pygments_lexer": "ipython3",
   "version": "3.6.13"
  },
  "papermill": {
   "default_parameters": {},
   "duration": 17.982953,
   "end_time": "2021-04-23T02:12:50.910395",
   "environment_variables": {},
   "exception": null,
   "input_path": "App-Correlation_charts.ipynb",
   "output_path": "App-Correlation_charts.ipynb",
   "parameters": {},
   "start_time": "2021-04-23T02:12:32.927442",
   "version": "2.2.2"
  }
 },
 "nbformat": 4,
 "nbformat_minor": 5
}