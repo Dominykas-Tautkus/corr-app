{
 "cells": [
  {
   "cell_type": "markdown",
   "id": "touched-facility",
   "metadata": {
    "papermill": {
     "duration": 0.015705,
     "end_time": "2021-07-09T01:59:34.340248",
     "exception": false,
     "start_time": "2021-07-09T01:59:34.324543",
     "status": "completed"
    },
    "tags": []
   },
   "source": [
    "# Koreliacijų matrica\n",
    "> Išplėstinė koreliacijų matrica. \n",
    "\n",
    "- toc: true \n",
    "- badges: true\n",
    "- comments: false\n",
    "- categories: [Dominykas Tautkus]\n",
    "- image: images/matrix.png"
   ]
  },
  {
   "cell_type": "code",
   "execution_count": null,
   "id": "premium-weekend",
   "metadata": {
    "papermill": {
     "duration": 0.010784,
     "end_time": "2021-07-09T01:59:34.362558",
     "exception": false,
     "start_time": "2021-07-09T01:59:34.351774",
     "status": "completed"
    },
    "tags": []
   },
   "outputs": [],
   "source": []
  },
  {
   "cell_type": "code",
   "execution_count": 1,
   "id": "vertical-rebate",
   "metadata": {
    "execution": {
     "iopub.execute_input": "2021-07-09T01:59:34.392393Z",
     "iopub.status.busy": "2021-07-09T01:59:34.391792Z",
     "iopub.status.idle": "2021-07-09T01:59:34.404948Z",
     "shell.execute_reply": "2021-07-09T01:59:34.404520Z"
    },
    "papermill": {
     "duration": 0.031718,
     "end_time": "2021-07-09T01:59:34.405070",
     "exception": false,
     "start_time": "2021-07-09T01:59:34.373352",
     "status": "completed"
    },
    "tags": []
   },
   "outputs": [],
   "source": [
    "#hide\n",
    "%load_ext autoreload\n",
    "%autoreload 2"
   ]
  },
  {
   "cell_type": "code",
   "execution_count": 2,
   "id": "overall-advancement",
   "metadata": {
    "execution": {
     "iopub.execute_input": "2021-07-09T01:59:34.440223Z",
     "iopub.status.busy": "2021-07-09T01:59:34.436882Z",
     "iopub.status.idle": "2021-07-09T01:59:35.519971Z",
     "shell.execute_reply": "2021-07-09T01:59:35.519418Z"
    },
    "papermill": {
     "duration": 1.104212,
     "end_time": "2021-07-09T01:59:35.520115",
     "exception": false,
     "start_time": "2021-07-09T01:59:34.415903",
     "status": "completed"
    },
    "tags": []
   },
   "outputs": [],
   "source": [
    "#hide\n",
    "from scripts.read_data import read_api\n",
    "from IPython.display import HTML\n",
    "import plotly.graph_objects as go\n"
   ]
  },
  {
   "cell_type": "code",
   "execution_count": 3,
   "id": "light-crazy",
   "metadata": {
    "execution": {
     "iopub.execute_input": "2021-07-09T01:59:35.556270Z",
     "iopub.status.busy": "2021-07-09T01:59:35.550485Z",
     "iopub.status.idle": "2021-07-09T01:59:35.571343Z",
     "shell.execute_reply": "2021-07-09T01:59:35.571723Z"
    },
    "papermill": {
     "duration": 0.040261,
     "end_time": "2021-07-09T01:59:35.571845",
     "exception": false,
     "start_time": "2021-07-09T01:59:35.531584",
     "status": "completed"
    },
    "tags": []
   },
   "outputs": [],
   "source": [
    "#hide\n",
    "### ICO koreliacija"
   ]
  },
  {
   "cell_type": "code",
   "execution_count": 4,
   "id": "likely-bahrain",
   "metadata": {
    "execution": {
     "iopub.execute_input": "2021-07-09T01:59:35.607322Z",
     "iopub.status.busy": "2021-07-09T01:59:35.606467Z",
     "iopub.status.idle": "2021-07-09T01:59:36.406426Z",
     "shell.execute_reply": "2021-07-09T01:59:36.405888Z"
    },
    "papermill": {
     "duration": 0.823907,
     "end_time": "2021-07-09T01:59:36.406562",
     "exception": false,
     "start_time": "2021-07-09T01:59:35.582655",
     "status": "completed"
    },
    "tags": []
   },
   "outputs": [],
   "source": [
    "#hide\n",
    "import matplotlib.pyplot as plt\n",
    "import numpy as np\n",
    "import pandas as pd\n",
    "import seaborn as sns\n",
    "import matplotlib.pyplot as plt \n",
    "import matplotlib.dates as mdates\n",
    "import matplotlib.pyplot as plt"
   ]
  },
  {
   "cell_type": "code",
   "execution_count": 5,
   "id": "superior-blanket",
   "metadata": {
    "execution": {
     "iopub.execute_input": "2021-07-09T01:59:36.438686Z",
     "iopub.status.busy": "2021-07-09T01:59:36.438149Z",
     "iopub.status.idle": "2021-07-09T01:59:50.174389Z",
     "shell.execute_reply": "2021-07-09T01:59:50.174838Z"
    },
    "papermill": {
     "duration": 13.75608,
     "end_time": "2021-07-09T01:59:50.174979",
     "exception": false,
     "start_time": "2021-07-09T01:59:36.418899",
     "status": "completed"
    },
    "tags": []
   },
   "outputs": [
    {
     "name": "stderr",
     "output_type": "stream",
     "text": [
      "/home/runner/work/corr-app/corr-app/_notebooks/scripts/read_data.py:187: SettingWithCopyWarning:\n",
      "\n",
      "\n",
      "A value is trying to be set on a copy of a slice from a DataFrame.\n",
      "Try using .loc[row_indexer,col_indexer] = value instead\n",
      "\n",
      "See the caveats in the documentation: https://pandas.pydata.org/pandas-docs/stable/user_guide/indexing.html#returning-a-view-versus-a-copy\n",
      "\n"
     ]
    },
    {
     "name": "stderr",
     "output_type": "stream",
     "text": [
      "/home/runner/work/corr-app/corr-app/_notebooks/scripts/read_data.py:215: SettingWithCopyWarning:\n",
      "\n",
      "\n",
      "A value is trying to be set on a copy of a slice from a DataFrame.\n",
      "Try using .loc[row_indexer,col_indexer] = value instead\n",
      "\n",
      "See the caveats in the documentation: https://pandas.pydata.org/pandas-docs/stable/user_guide/indexing.html#returning-a-view-versus-a-copy\n",
      "\n"
     ]
    }
   ],
   "source": [
    "#hide\n",
    "df_all = read_api()\n",
    "#df_all = df_all.drop(['SP500', 'XAU', 'ETH', 'BTC'], axis=1)\n",
    "\n"
   ]
  },
  {
   "cell_type": "code",
   "execution_count": 6,
   "id": "mature-alert",
   "metadata": {
    "execution": {
     "iopub.execute_input": "2021-07-09T01:59:50.207856Z",
     "iopub.status.busy": "2021-07-09T01:59:50.206495Z",
     "iopub.status.idle": "2021-07-09T01:59:50.233401Z",
     "shell.execute_reply": "2021-07-09T01:59:50.233872Z"
    },
    "papermill": {
     "duration": 0.047224,
     "end_time": "2021-07-09T01:59:50.234028",
     "exception": false,
     "start_time": "2021-07-09T01:59:50.186804",
     "status": "completed"
    },
    "tags": []
   },
   "outputs": [],
   "source": [
    "#hide_input\n",
    "sum_corr = df_all.corr().sum().sort_values(ascending=True).index.values\n",
    "#df_all[sum_corr].corr()"
   ]
  },
  {
   "cell_type": "markdown",
   "id": "complex-syndicate",
   "metadata": {
    "papermill": {
     "duration": 0.011804,
     "end_time": "2021-07-09T01:59:50.257562",
     "exception": false,
     "start_time": "2021-07-09T01:59:50.245758",
     "status": "completed"
    },
    "tags": []
   },
   "source": [
    "## Išplėstinė koreliacijų matrica. "
   ]
  },
  {
   "cell_type": "code",
   "execution_count": 7,
   "id": "atomic-omaha",
   "metadata": {
    "execution": {
     "iopub.execute_input": "2021-07-09T01:59:50.287051Z",
     "iopub.status.busy": "2021-07-09T01:59:50.286543Z",
     "iopub.status.idle": "2021-07-09T01:59:51.424192Z",
     "shell.execute_reply": "2021-07-09T01:59:51.423763Z"
    },
    "papermill": {
     "duration": 1.15511,
     "end_time": "2021-07-09T01:59:51.424309",
     "exception": false,
     "start_time": "2021-07-09T01:59:50.269199",
     "status": "completed"
    },
    "tags": []
   },
   "outputs": [
    {
     "data": {
      "image/png": "[encoded data removed]",
      "text/plain": [
       "<Figure size 1080x792 with 2 Axes>"
      ]
     },
     "metadata": {
      "needs_background": "light"
     },
     "output_type": "display_data"
    }
   ],
   "source": [
    "#hide_input\n",
    "plt.figure(figsize=(15, 11))\n",
    "sns.heatmap(df_all[sum_corr].corr(), annot=True, cmap=\"cubehelix\") \n",
    "sns.set(font_scale=1.25)\n",
    "plt.savefig('corr_matrix.png', format='eps')"
   ]
  },
  {
   "cell_type": "code",
   "execution_count": 8,
   "id": "arbitrary-sullivan",
   "metadata": {
    "execution": {
     "iopub.execute_input": "2021-07-09T01:59:51.462425Z",
     "iopub.status.busy": "2021-07-09T01:59:51.454290Z",
     "iopub.status.idle": "2021-07-09T01:59:51.482001Z",
     "shell.execute_reply": "2021-07-09T01:59:51.481472Z"
    },
    "papermill": {
     "duration": 0.043972,
     "end_time": "2021-07-09T01:59:51.482135",
     "exception": false,
     "start_time": "2021-07-09T01:59:51.438163",
     "status": "completed"
    },
    "tags": []
   },
   "outputs": [],
   "source": [
    "#hide\n",
    "#df_all_mrk = read_api()"
   ]
  },
  {
   "cell_type": "code",
   "execution_count": 9,
   "id": "delayed-adapter",
   "metadata": {
    "execution": {
     "iopub.execute_input": "2021-07-09T01:59:51.512151Z",
     "iopub.status.busy": "2021-07-09T01:59:51.511588Z",
     "iopub.status.idle": "2021-07-09T01:59:51.538013Z",
     "shell.execute_reply": "2021-07-09T01:59:51.537397Z"
    },
    "papermill": {
     "duration": 0.042061,
     "end_time": "2021-07-09T01:59:51.538144",
     "exception": false,
     "start_time": "2021-07-09T01:59:51.496083",
     "status": "completed"
    },
    "tags": []
   },
   "outputs": [],
   "source": [
    "#hide\n",
    "#Koreliacijų koeficientai"
   ]
  },
  {
   "cell_type": "code",
   "execution_count": 10,
   "id": "seeing-celebration",
   "metadata": {
    "execution": {
     "iopub.execute_input": "2021-07-09T01:59:51.572882Z",
     "iopub.status.busy": "2021-07-09T01:59:51.572382Z",
     "iopub.status.idle": "2021-07-09T01:59:51.598040Z",
     "shell.execute_reply": "2021-07-09T01:59:51.598478Z"
    },
    "papermill": {
     "duration": 0.044514,
     "end_time": "2021-07-09T01:59:51.598612",
     "exception": false,
     "start_time": "2021-07-09T01:59:51.554098",
     "status": "completed"
    },
    "tags": []
   },
   "outputs": [],
   "source": [
    "#hide_input\n",
    "#sum_corr = df_all_mrk.corr().sum().sort_values(ascending=True).index.values\n",
    "#df_all_mrk[sum_corr].corr()"
   ]
  },
  {
   "cell_type": "code",
   "execution_count": 11,
   "id": "other-painting",
   "metadata": {
    "execution": {
     "iopub.execute_input": "2021-07-09T01:59:51.629157Z",
     "iopub.status.busy": "2021-07-09T01:59:51.628649Z",
     "iopub.status.idle": "2021-07-09T01:59:51.653901Z",
     "shell.execute_reply": "2021-07-09T01:59:51.653413Z"
    },
    "papermill": {
     "duration": 0.041827,
     "end_time": "2021-07-09T01:59:51.654027",
     "exception": false,
     "start_time": "2021-07-09T01:59:51.612200",
     "status": "completed"
    },
    "tags": []
   },
   "outputs": [],
   "source": [
    "#hide\n",
    "#Koreliacijos matrica. "
   ]
  },
  {
   "cell_type": "code",
   "execution_count": 12,
   "id": "modular-magnitude",
   "metadata": {
    "execution": {
     "iopub.execute_input": "2021-07-09T01:59:51.684627Z",
     "iopub.status.busy": "2021-07-09T01:59:51.684129Z",
     "iopub.status.idle": "2021-07-09T01:59:51.709949Z",
     "shell.execute_reply": "2021-07-09T01:59:51.709461Z"
    },
    "papermill": {
     "duration": 0.042013,
     "end_time": "2021-07-09T01:59:51.710074",
     "exception": false,
     "start_time": "2021-07-09T01:59:51.668061",
     "status": "completed"
    },
    "tags": []
   },
   "outputs": [],
   "source": [
    "#hide_input\n",
    "#plt.figure(figsize=(15, 8))\n",
    "#sns.heatmap(df_all_mrk[sum_corr].corr(), annot=True, cmap=\"BrBG\");\n",
    "#plt.savefig('corr_matrix_all.eps', format='eps')"
   ]
  },
  {
   "cell_type": "code",
   "execution_count": null,
   "id": "original-senator",
   "metadata": {
    "papermill": {
     "duration": 0.013191,
     "end_time": "2021-07-09T01:59:51.737737",
     "exception": false,
     "start_time": "2021-07-09T01:59:51.724546",
     "status": "completed"
    },
    "tags": []
   },
   "outputs": [],
   "source": []
  },
  {
   "cell_type": "code",
   "execution_count": null,
   "id": "saving-secretariat",
   "metadata": {
    "papermill": {
     "duration": 0.013182,
     "end_time": "2021-07-09T01:59:51.764193",
     "exception": false,
     "start_time": "2021-07-09T01:59:51.751011",
     "status": "completed"
    },
    "tags": []
   },
   "outputs": [],
   "source": []
  }
 ],
 "metadata": {
  "kernelspec": {
   "display_name": "Python 3",
   "language": "python",
   "name": "python3"
  },
  "language_info": {
   "codemirror_mode": {
    "name": "ipython",
    "version": 3
   },
   "file_extension": ".py",
   "mimetype": "text/x-python",
   "name": "python",
   "nbconvert_exporter": "python",
   "pygments_lexer": "ipython3",
   "version": "3.6.13"
  },
  "papermill": {
   "default_parameters": {},
   "duration": 18.999257,
   "end_time": "2021-07-09T01:59:52.284532",
   "environment_variables": {},
   "exception": null,
   "input_path": "App-Correlation_charts.ipynb",
   "output_path": "App-Correlation_charts.ipynb",
   "parameters": {},
   "start_time": "2021-07-09T01:59:33.285275",
   "version": "2.2.2"
  }
 },
 "nbformat": 4,
 "nbformat_minor": 5
}