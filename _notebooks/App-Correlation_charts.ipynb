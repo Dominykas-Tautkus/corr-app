{
 "cells": [
  {
   "cell_type": "markdown",
   "id": "touched-facility",
   "metadata": {
    "papermill": {
     "duration": 0.017671,
     "end_time": "2021-05-01T02:11:19.081265",
     "exception": false,
     "start_time": "2021-05-01T02:11:19.063594",
     "status": "completed"
    },
    "tags": []
   },
   "source": [
    "# Koreliacijų matrica\n",
    "> Išplėstinė koreliacijų matrica. \n",
    "\n",
    "- toc: true \n",
    "- badges: true\n",
    "- comments: false\n",
    "- categories: [Dominykas Tautkus]\n",
    "- image: images/matrix.png"
   ]
  },
  {
   "cell_type": "code",
   "execution_count": null,
   "id": "premium-weekend",
   "metadata": {
    "papermill": {
     "duration": 0.013317,
     "end_time": "2021-05-01T02:11:19.109950",
     "exception": false,
     "start_time": "2021-05-01T02:11:19.096633",
     "status": "completed"
    },
    "tags": []
   },
   "outputs": [],
   "source": []
  },
  {
   "cell_type": "code",
   "execution_count": 1,
   "id": "vertical-rebate",
   "metadata": {
    "execution": {
     "iopub.execute_input": "2021-05-01T02:11:19.147644Z",
     "iopub.status.busy": "2021-05-01T02:11:19.146967Z",
     "iopub.status.idle": "2021-05-01T02:11:19.157838Z",
     "shell.execute_reply": "2021-05-01T02:11:19.158408Z"
    },
    "papermill": {
     "duration": 0.035631,
     "end_time": "2021-05-01T02:11:19.158555",
     "exception": false,
     "start_time": "2021-05-01T02:11:19.122924",
     "status": "completed"
    },
    "tags": []
   },
   "outputs": [],
   "source": [
    "#hide\n",
    "%load_ext autoreload\n",
    "%autoreload 2"
   ]
  },
  {
   "cell_type": "code",
   "execution_count": 2,
   "id": "overall-advancement",
   "metadata": {
    "execution": {
     "iopub.execute_input": "2021-05-01T02:11:19.193965Z",
     "iopub.status.busy": "2021-05-01T02:11:19.188353Z",
     "iopub.status.idle": "2021-05-01T02:11:20.408399Z",
     "shell.execute_reply": "2021-05-01T02:11:20.407731Z"
    },
    "papermill": {
     "duration": 1.23633,
     "end_time": "2021-05-01T02:11:20.408572",
     "exception": false,
     "start_time": "2021-05-01T02:11:19.172242",
     "status": "completed"
    },
    "tags": []
   },
   "outputs": [],
   "source": [
    "#hide\n",
    "from scripts.read_data import read_api\n",
    "from IPython.display import HTML\n",
    "import plotly.graph_objects as go\n"
   ]
  },
  {
   "cell_type": "code",
   "execution_count": 3,
   "id": "light-crazy",
   "metadata": {
    "execution": {
     "iopub.execute_input": "2021-05-01T02:11:20.440992Z",
     "iopub.status.busy": "2021-05-01T02:11:20.440290Z",
     "iopub.status.idle": "2021-05-01T02:11:20.464454Z",
     "shell.execute_reply": "2021-05-01T02:11:20.463890Z"
    },
    "papermill": {
     "duration": 0.041668,
     "end_time": "2021-05-01T02:11:20.464600",
     "exception": false,
     "start_time": "2021-05-01T02:11:20.422932",
     "status": "completed"
    },
    "tags": []
   },
   "outputs": [],
   "source": [
    "#hide\n",
    "### ICO koreliacija"
   ]
  },
  {
   "cell_type": "code",
   "execution_count": 4,
   "id": "likely-bahrain",
   "metadata": {
    "execution": {
     "iopub.execute_input": "2021-05-01T02:11:20.497295Z",
     "iopub.status.busy": "2021-05-01T02:11:20.496583Z",
     "iopub.status.idle": "2021-05-01T02:11:21.427838Z",
     "shell.execute_reply": "2021-05-01T02:11:21.427237Z"
    },
    "papermill": {
     "duration": 0.948713,
     "end_time": "2021-05-01T02:11:21.427968",
     "exception": false,
     "start_time": "2021-05-01T02:11:20.479255",
     "status": "completed"
    },
    "tags": []
   },
   "outputs": [],
   "source": [
    "#hide\n",
    "import matplotlib.pyplot as plt\n",
    "import numpy as np\n",
    "import pandas as pd\n",
    "import seaborn as sns\n",
    "import matplotlib.pyplot as plt \n",
    "import matplotlib.dates as mdates\n",
    "import matplotlib.pyplot as plt"
   ]
  },
  {
   "cell_type": "code",
   "execution_count": 5,
   "id": "superior-blanket",
   "metadata": {
    "execution": {
     "iopub.execute_input": "2021-05-01T02:11:21.460189Z",
     "iopub.status.busy": "2021-05-01T02:11:21.459591Z",
     "iopub.status.idle": "2021-05-01T02:11:32.577660Z",
     "shell.execute_reply": "2021-05-01T02:11:32.577071Z"
    },
    "papermill": {
     "duration": 11.135248,
     "end_time": "2021-05-01T02:11:32.577801",
     "exception": false,
     "start_time": "2021-05-01T02:11:21.442553",
     "status": "completed"
    },
    "tags": []
   },
   "outputs": [
    {
     "name": "stderr",
     "output_type": "stream",
     "text": [
      "/home/runner/work/corr-app/corr-app/_notebooks/scripts/read_data.py:187: SettingWithCopyWarning:\n",
      "\n",
      "\n",
      "A value is trying to be set on a copy of a slice from a DataFrame.\n",
      "Try using .loc[row_indexer,col_indexer] = value instead\n",
      "\n",
      "See the caveats in the documentation: https://pandas.pydata.org/pandas-docs/stable/user_guide/indexing.html#returning-a-view-versus-a-copy\n",
      "\n"
     ]
    },
    {
     "name": "stderr",
     "output_type": "stream",
     "text": [
      "/home/runner/work/corr-app/corr-app/_notebooks/scripts/read_data.py:215: SettingWithCopyWarning:\n",
      "\n",
      "\n",
      "A value is trying to be set on a copy of a slice from a DataFrame.\n",
      "Try using .loc[row_indexer,col_indexer] = value instead\n",
      "\n",
      "See the caveats in the documentation: https://pandas.pydata.org/pandas-docs/stable/user_guide/indexing.html#returning-a-view-versus-a-copy\n",
      "\n"
     ]
    }
   ],
   "source": [
    "#hide\n",
    "df_all = read_api()\n",
    "#df_all = df_all.drop(['SP500', 'XAU', 'ETH', 'BTC'], axis=1)\n",
    "\n"
   ]
  },
  {
   "cell_type": "code",
   "execution_count": 6,
   "id": "mature-alert",
   "metadata": {
    "execution": {
     "iopub.execute_input": "2021-05-01T02:11:32.615782Z",
     "iopub.status.busy": "2021-05-01T02:11:32.613314Z",
     "iopub.status.idle": "2021-05-01T02:11:32.644510Z",
     "shell.execute_reply": "2021-05-01T02:11:32.645049Z"
    },
    "papermill": {
     "duration": 0.051906,
     "end_time": "2021-05-01T02:11:32.645198",
     "exception": false,
     "start_time": "2021-05-01T02:11:32.593292",
     "status": "completed"
    },
    "tags": []
   },
   "outputs": [],
   "source": [
    "#hide_input\n",
    "sum_corr = df_all.corr().sum().sort_values(ascending=True).index.values\n",
    "#df_all[sum_corr].corr()"
   ]
  },
  {
   "cell_type": "markdown",
   "id": "complex-syndicate",
   "metadata": {
    "papermill": {
     "duration": 0.016397,
     "end_time": "2021-05-01T02:11:32.675798",
     "exception": false,
     "start_time": "2021-05-01T02:11:32.659401",
     "status": "completed"
    },
    "tags": []
   },
   "source": [
    "## Išplėstinė koreliacijų matrica. "
   ]
  },
  {
   "cell_type": "code",
   "execution_count": 7,
   "id": "atomic-omaha",
   "metadata": {
    "execution": {
     "iopub.execute_input": "2021-05-01T02:11:32.712767Z",
     "iopub.status.busy": "2021-05-01T02:11:32.712075Z",
     "iopub.status.idle": "2021-05-01T02:11:34.309915Z",
     "shell.execute_reply": "2021-05-01T02:11:34.310410Z"
    },
    "papermill": {
     "duration": 1.620082,
     "end_time": "2021-05-01T02:11:34.310617",
     "exception": false,
     "start_time": "2021-05-01T02:11:32.690535",
     "status": "completed"
    },
    "tags": []
   },
   "outputs": [
    {
     "data": {
      "image/png": "[encoded data removed]",
      "text/plain": [
       "<Figure size 1080x792 with 2 Axes>"
      ]
     },
     "metadata": {
      "needs_background": "light"
     },
     "output_type": "display_data"
    }
   ],
   "source": [
    "#hide_input\n",
    "plt.figure(figsize=(15, 11))\n",
    "sns.heatmap(df_all[sum_corr].corr(), annot=True, cmap=\"cubehelix\") \n",
    "sns.set(font_scale=1.25)\n",
    "plt.savefig('corr_matrix.png', format='eps')"
   ]
  },
  {
   "cell_type": "code",
   "execution_count": 8,
   "id": "arbitrary-sullivan",
   "metadata": {
    "execution": {
     "iopub.execute_input": "2021-05-01T02:11:34.347702Z",
     "iopub.status.busy": "2021-05-01T02:11:34.347025Z",
     "iopub.status.idle": "2021-05-01T02:11:34.375107Z",
     "shell.execute_reply": "2021-05-01T02:11:34.375619Z"
    },
    "papermill": {
     "duration": 0.048291,
     "end_time": "2021-05-01T02:11:34.375758",
     "exception": false,
     "start_time": "2021-05-01T02:11:34.327467",
     "status": "completed"
    },
    "tags": []
   },
   "outputs": [],
   "source": [
    "#hide\n",
    "#df_all_mrk = read_api()"
   ]
  },
  {
   "cell_type": "code",
   "execution_count": 9,
   "id": "delayed-adapter",
   "metadata": {
    "execution": {
     "iopub.execute_input": "2021-05-01T02:11:34.427187Z",
     "iopub.status.busy": "2021-05-01T02:11:34.426426Z",
     "iopub.status.idle": "2021-05-01T02:11:34.448082Z",
     "shell.execute_reply": "2021-05-01T02:11:34.447478Z"
    },
    "papermill": {
     "duration": 0.056189,
     "end_time": "2021-05-01T02:11:34.448213",
     "exception": false,
     "start_time": "2021-05-01T02:11:34.392024",
     "status": "completed"
    },
    "tags": []
   },
   "outputs": [],
   "source": [
    "#hide\n",
    "#Koreliacijų koeficientai"
   ]
  },
  {
   "cell_type": "code",
   "execution_count": 10,
   "id": "seeing-celebration",
   "metadata": {
    "execution": {
     "iopub.execute_input": "2021-05-01T02:11:34.486145Z",
     "iopub.status.busy": "2021-05-01T02:11:34.485507Z",
     "iopub.status.idle": "2021-05-01T02:11:34.509856Z",
     "shell.execute_reply": "2021-05-01T02:11:34.510359Z"
    },
    "papermill": {
     "duration": 0.045463,
     "end_time": "2021-05-01T02:11:34.510497",
     "exception": false,
     "start_time": "2021-05-01T02:11:34.465034",
     "status": "completed"
    },
    "tags": []
   },
   "outputs": [],
   "source": [
    "#hide_input\n",
    "#sum_corr = df_all_mrk.corr().sum().sort_values(ascending=True).index.values\n",
    "#df_all_mrk[sum_corr].corr()"
   ]
  },
  {
   "cell_type": "code",
   "execution_count": 11,
   "id": "other-painting",
   "metadata": {
    "execution": {
     "iopub.execute_input": "2021-05-01T02:11:34.558231Z",
     "iopub.status.busy": "2021-05-01T02:11:34.557349Z",
     "iopub.status.idle": "2021-05-01T02:11:34.584014Z",
     "shell.execute_reply": "2021-05-01T02:11:34.584486Z"
    },
    "papermill": {
     "duration": 0.058706,
     "end_time": "2021-05-01T02:11:34.584628",
     "exception": false,
     "start_time": "2021-05-01T02:11:34.525922",
     "status": "completed"
    },
    "tags": []
   },
   "outputs": [],
   "source": [
    "#hide\n",
    "#Koreliacijos matrica. "
   ]
  },
  {
   "cell_type": "code",
   "execution_count": 12,
   "id": "modular-magnitude",
   "metadata": {
    "execution": {
     "iopub.execute_input": "2021-05-01T02:11:34.620375Z",
     "iopub.status.busy": "2021-05-01T02:11:34.619740Z",
     "iopub.status.idle": "2021-05-01T02:11:34.643819Z",
     "shell.execute_reply": "2021-05-01T02:11:34.644265Z"
    },
    "papermill": {
     "duration": 0.043848,
     "end_time": "2021-05-01T02:11:34.644394",
     "exception": false,
     "start_time": "2021-05-01T02:11:34.600546",
     "status": "completed"
    },
    "tags": []
   },
   "outputs": [],
   "source": [
    "#hide_input\n",
    "#plt.figure(figsize=(15, 8))\n",
    "#sns.heatmap(df_all_mrk[sum_corr].corr(), annot=True, cmap=\"BrBG\");\n",
    "#plt.savefig('corr_matrix_all.eps', format='eps')"
   ]
  },
  {
   "cell_type": "code",
   "execution_count": null,
   "id": "original-senator",
   "metadata": {
    "papermill": {
     "duration": 0.015775,
     "end_time": "2021-05-01T02:11:34.676489",
     "exception": false,
     "start_time": "2021-05-01T02:11:34.660714",
     "status": "completed"
    },
    "tags": []
   },
   "outputs": [],
   "source": []
  },
  {
   "cell_type": "code",
   "execution_count": null,
   "id": "saving-secretariat",
   "metadata": {
    "papermill": {
     "duration": 0.016298,
     "end_time": "2021-05-01T02:11:34.708781",
     "exception": false,
     "start_time": "2021-05-01T02:11:34.692483",
     "status": "completed"
    },
    "tags": []
   },
   "outputs": [],
   "source": []
  }
 ],
 "metadata": {
  "kernelspec": {
   "display_name": "Python 3",
   "language": "python",
   "name": "python3"
  },
  "language_info": {
   "codemirror_mode": {
    "name": "ipython",
    "version": 3
   },
   "file_extension": ".py",
   "mimetype": "text/x-python",
   "name": "python",
   "nbconvert_exporter": "python",
   "pygments_lexer": "ipython3",
   "version": "3.6.13"
  },
  "papermill": {
   "default_parameters": {},
   "duration": 17.15972,
   "end_time": "2021-05-01T02:11:35.134451",
   "environment_variables": {},
   "exception": null,
   "input_path": "App-Correlation_charts.ipynb",
   "output_path": "App-Correlation_charts.ipynb",
   "parameters": {},
   "start_time": "2021-05-01T02:11:17.974731",
   "version": "2.2.2"
  }
 },
 "nbformat": 4,
 "nbformat_minor": 5
}