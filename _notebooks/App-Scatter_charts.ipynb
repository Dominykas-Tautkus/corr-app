{
 "cells": [
  {
   "cell_type": "markdown",
   "metadata": {
    "tags": [
     "papermill-error-cell-tag"
    ]
   },
   "source": [
    "<span style=\"color:red; font-family:Helvetica Neue, Helvetica, Arial, sans-serif; font-size:2em;\">An Exception was encountered at '<a href=\"#papermill-error-cell\">In [2]</a>'.</span>"
   ]
  },
  {
   "cell_type": "markdown",
   "metadata": {
    "papermill": {
     "duration": 0.012635,
     "end_time": "2021-01-07T10:43:29.880268",
     "exception": false,
     "start_time": "2021-01-07T10:43:29.867633",
     "status": "completed"
    },
    "tags": []
   },
   "source": [
    "# Sklaidos diagramos\n",
    "> Sklaidos diagramos BTC ir kitoms kriptovaliutoms.\n",
    "\n",
    "- toc: true \n",
    "- badges: true\n",
    "- comments: false\n",
    "- categories: [Dominykas Tautkus]\n",
    "- image: images/screenshot4.png"
   ]
  },
  {
   "cell_type": "code",
   "execution_count": 1,
   "metadata": {
    "execution": {
     "iopub.execute_input": "2021-01-07T10:43:29.910083Z",
     "iopub.status.busy": "2021-01-07T10:43:29.909427Z",
     "iopub.status.idle": "2021-01-07T10:43:31.548968Z",
     "shell.execute_reply": "2021-01-07T10:43:31.548042Z"
    },
    "papermill": {
     "duration": 1.660594,
     "end_time": "2021-01-07T10:43:31.549223",
     "exception": false,
     "start_time": "2021-01-07T10:43:29.888629",
     "status": "completed"
    },
    "tags": []
   },
   "outputs": [],
   "source": [
    "#hide\n",
    "%load_ext autoreload\n",
    "%autoreload 2\n",
    "import plotly.graph_objects as go\n",
    "import pandas as pd\n",
    "import matplotlib.pyplot as plt\n",
    "import plotly.express as px\n",
    "from scripts.read_data import read_api\n",
    "import seaborn as sns\n",
    "sns.set()"
   ]
  },
  {
   "cell_type": "markdown",
   "metadata": {
    "tags": [
     "papermill-error-cell-tag"
    ]
   },
   "source": [
    "<span id=\"papermill-error-cell\" style=\"color:red; font-family:Helvetica Neue, Helvetica, Arial, sans-serif; font-size:2em;\">Execution using papermill encountered an exception here and stopped:</span>"
   ]
  },
  {
   "cell_type": "code",
   "execution_count": 2,
   "metadata": {
    "execution": {
     "iopub.execute_input": "2021-01-07T10:43:31.573355Z",
     "iopub.status.busy": "2021-01-07T10:43:31.572736Z",
     "iopub.status.idle": "2021-01-07T10:43:44.342233Z",
     "shell.execute_reply": "2021-01-07T10:43:44.340144Z"
    },
    "papermill": {
     "duration": 12.782824,
     "end_time": "2021-01-07T10:43:44.342431",
     "exception": true,
     "start_time": "2021-01-07T10:43:31.559607",
     "status": "failed"
    },
    "tags": []
   },
   "outputs": [
    {
     "name": "stderr",
     "output_type": "stream",
     "text": [
      "/home/runner/work/corr-app/corr-app/_notebooks/scripts/read_data.py:187: SettingWithCopyWarning:\n",
      "\n",
      "\n",
      "A value is trying to be set on a copy of a slice from a DataFrame.\n",
      "Try using .loc[row_indexer,col_indexer] = value instead\n",
      "\n",
      "See the caveats in the documentation: https://pandas.pydata.org/pandas-docs/stable/user_guide/indexing.html#returning-a-view-versus-a-copy\n",
      "\n"
     ]
    },
    {
     "ename": "KeyError",
     "evalue": "'prices'",
     "output_type": "error",
     "traceback": [
      "\u001b[0;31m---------------------------------------------------------------------------\u001b[0m",
      "\u001b[0;31mKeyError\u001b[0m                                  Traceback (most recent call last)",
      "\u001b[0;32m<ipython-input-2-c4ff9149db4f>\u001b[0m in \u001b[0;36m<module>\u001b[0;34m\u001b[0m\n\u001b[1;32m      1\u001b[0m \u001b[0;31m#hide\u001b[0m\u001b[0;34m\u001b[0m\u001b[0;34m\u001b[0m\u001b[0;34m\u001b[0m\u001b[0m\n\u001b[0;32m----> 2\u001b[0;31m \u001b[0mdf_all\u001b[0m \u001b[0;34m=\u001b[0m \u001b[0mread_api\u001b[0m\u001b[0;34m(\u001b[0m\u001b[0;34m)\u001b[0m\u001b[0;34m\u001b[0m\u001b[0;34m\u001b[0m\u001b[0m\n\u001b[0m",
      "\u001b[0;32m~/work/corr-app/corr-app/_notebooks/scripts/read_data.py\u001b[0m in \u001b[0;36mread_api\u001b[0;34m(short_frm)\u001b[0m\n\u001b[1;32m    142\u001b[0m     \u001b[0;31m#XAU = XAU[XAU.close != 79987.0]\u001b[0m\u001b[0;34m\u001b[0m\u001b[0;34m\u001b[0m\u001b[0;34m\u001b[0m\u001b[0m\n\u001b[1;32m    143\u001b[0m     \u001b[0;31m#XAU = XAU[XAU.close > 1080]\u001b[0m\u001b[0;34m\u001b[0m\u001b[0;34m\u001b[0m\u001b[0;34m\u001b[0m\u001b[0m\n\u001b[0;32m--> 144\u001b[0;31m     \u001b[0mmarkets\u001b[0m \u001b[0;34m=\u001b[0m \u001b[0mread_markets_api\u001b[0m\u001b[0;34m(\u001b[0m\u001b[0;34m)\u001b[0m\u001b[0;34m\u001b[0m\u001b[0;34m\u001b[0m\u001b[0m\n\u001b[0m\u001b[1;32m    145\u001b[0m     \u001b[0mdf\u001b[0m \u001b[0;34m=\u001b[0m \u001b[0mBTC\u001b[0m\u001b[0;34m.\u001b[0m\u001b[0mappend\u001b[0m\u001b[0;34m(\u001b[0m\u001b[0mEOS\u001b[0m\u001b[0;34m)\u001b[0m\u001b[0;34m.\u001b[0m\u001b[0mappend\u001b[0m\u001b[0;34m(\u001b[0m\u001b[0mLSK\u001b[0m\u001b[0;34m)\u001b[0m\u001b[0;34m.\u001b[0m\u001b[0mappend\u001b[0m\u001b[0;34m(\u001b[0m\u001b[0mETH\u001b[0m\u001b[0;34m)\u001b[0m\u001b[0;34m.\u001b[0m\u001b[0mappend\u001b[0m\u001b[0;34m(\u001b[0m\u001b[0mADA\u001b[0m\u001b[0;34m)\u001b[0m\u001b[0;34m.\u001b[0m\u001b[0mappend\u001b[0m\u001b[0;34m(\u001b[0m\u001b[0mNEO\u001b[0m\u001b[0;34m)\u001b[0m\u001b[0;34m.\u001b[0m\u001b[0mappend\u001b[0m\u001b[0;34m(\u001b[0m\u001b[0mTRX\u001b[0m\u001b[0;34m)\u001b[0m\u001b[0;34m.\u001b[0m\u001b[0mappend\u001b[0m\u001b[0;34m(\u001b[0m\u001b[0mXRP\u001b[0m\u001b[0;34m)\u001b[0m\u001b[0;34m.\u001b[0m\u001b[0mappend\u001b[0m\u001b[0;34m(\u001b[0m\u001b[0mmarkets\u001b[0m\u001b[0;34m)\u001b[0m\u001b[0;34m\u001b[0m\u001b[0;34m\u001b[0m\u001b[0m\n\u001b[1;32m    146\u001b[0m     \u001b[0mdf\u001b[0m\u001b[0;34m[\u001b[0m\u001b[0;34m'date'\u001b[0m\u001b[0;34m]\u001b[0m \u001b[0;34m=\u001b[0m \u001b[0mdf\u001b[0m\u001b[0;34m[\u001b[0m\u001b[0;34m'date'\u001b[0m\u001b[0;34m]\u001b[0m\u001b[0;34m.\u001b[0m\u001b[0mdt\u001b[0m\u001b[0;34m.\u001b[0m\u001b[0mdate\u001b[0m\u001b[0;34m\u001b[0m\u001b[0;34m\u001b[0m\u001b[0m\n",
      "\u001b[0;32m~/work/corr-app/corr-app/_notebooks/scripts/read_data.py\u001b[0m in \u001b[0;36mread_markets_api\u001b[0;34m()\u001b[0m\n\u001b[1;32m    173\u001b[0m \u001b[0;32mdef\u001b[0m \u001b[0mread_markets_api\u001b[0m\u001b[0;34m(\u001b[0m\u001b[0;34m)\u001b[0m\u001b[0;34m:\u001b[0m\u001b[0;34m\u001b[0m\u001b[0;34m\u001b[0m\u001b[0m\n\u001b[1;32m    174\u001b[0m     \u001b[0;31m# ^GSPC-->sp500 ; GC=F-->XAU\u001b[0m\u001b[0;34m\u001b[0m\u001b[0;34m\u001b[0m\u001b[0;34m\u001b[0m\u001b[0m\n\u001b[0;32m--> 175\u001b[0;31m     \u001b[0mSP500\u001b[0m \u001b[0;34m=\u001b[0m \u001b[0mformat_markets\u001b[0m\u001b[0;34m(\u001b[0m\u001b[0;34m'^GSPC'\u001b[0m\u001b[0;34m,\u001b[0m \u001b[0;34m'SP500'\u001b[0m\u001b[0;34m)\u001b[0m\u001b[0;34m\u001b[0m\u001b[0;34m\u001b[0m\u001b[0m\n\u001b[0m\u001b[1;32m    176\u001b[0m     \u001b[0mXAU\u001b[0m \u001b[0;34m=\u001b[0m \u001b[0mformat_markets\u001b[0m\u001b[0;34m(\u001b[0m\u001b[0;34m'GC=F'\u001b[0m\u001b[0;34m,\u001b[0m \u001b[0;34m'XAU'\u001b[0m\u001b[0;34m)\u001b[0m\u001b[0;34m\u001b[0m\u001b[0;34m\u001b[0m\u001b[0m\n\u001b[1;32m    177\u001b[0m     \u001b[0mmarkets\u001b[0m \u001b[0;34m=\u001b[0m \u001b[0mSP500\u001b[0m\u001b[0;34m.\u001b[0m\u001b[0mappend\u001b[0m\u001b[0;34m(\u001b[0m\u001b[0mXAU\u001b[0m\u001b[0;34m)\u001b[0m\u001b[0;34m\u001b[0m\u001b[0;34m\u001b[0m\u001b[0m\n",
      "\u001b[0;32m~/work/corr-app/corr-app/_notebooks/scripts/read_data.py\u001b[0m in \u001b[0;36mformat_markets\u001b[0;34m(symbol, crypto)\u001b[0m\n\u001b[1;32m    208\u001b[0m     \u001b[0mresponse\u001b[0m \u001b[0;34m=\u001b[0m \u001b[0mrequests\u001b[0m\u001b[0;34m.\u001b[0m\u001b[0mrequest\u001b[0m\u001b[0;34m(\u001b[0m\u001b[0;34m\"GET\"\u001b[0m\u001b[0;34m,\u001b[0m \u001b[0murl\u001b[0m\u001b[0;34m,\u001b[0m \u001b[0mheaders\u001b[0m\u001b[0;34m=\u001b[0m\u001b[0mheaders\u001b[0m\u001b[0;34m,\u001b[0m \u001b[0mparams\u001b[0m\u001b[0;34m=\u001b[0m\u001b[0mquerystring\u001b[0m\u001b[0;34m)\u001b[0m\u001b[0;34m\u001b[0m\u001b[0;34m\u001b[0m\u001b[0m\n\u001b[1;32m    209\u001b[0m \u001b[0;34m\u001b[0m\u001b[0m\n\u001b[0;32m--> 210\u001b[0;31m     \u001b[0mjson_data\u001b[0m \u001b[0;34m=\u001b[0m \u001b[0mjson\u001b[0m\u001b[0;34m.\u001b[0m\u001b[0mloads\u001b[0m\u001b[0;34m(\u001b[0m\u001b[0mresponse\u001b[0m\u001b[0;34m.\u001b[0m\u001b[0mcontent\u001b[0m\u001b[0;34m)\u001b[0m\u001b[0;34m[\u001b[0m\u001b[0;34m'prices'\u001b[0m\u001b[0;34m]\u001b[0m\u001b[0;34m\u001b[0m\u001b[0;34m\u001b[0m\u001b[0m\n\u001b[0m\u001b[1;32m    211\u001b[0m     \u001b[0mdf_resp\u001b[0m \u001b[0;34m=\u001b[0m \u001b[0mpd\u001b[0m\u001b[0;34m.\u001b[0m\u001b[0mDataFrame\u001b[0m\u001b[0;34m(\u001b[0m\u001b[0mjson_data\u001b[0m\u001b[0;34m)\u001b[0m\u001b[0;34m\u001b[0m\u001b[0;34m\u001b[0m\u001b[0m\n\u001b[1;32m    212\u001b[0m     \u001b[0mdf_resp\u001b[0m\u001b[0;34m[\u001b[0m\u001b[0;34m'date'\u001b[0m\u001b[0;34m]\u001b[0m \u001b[0;34m=\u001b[0m \u001b[0mpd\u001b[0m\u001b[0;34m.\u001b[0m\u001b[0mto_datetime\u001b[0m\u001b[0;34m(\u001b[0m\u001b[0mdf_resp\u001b[0m\u001b[0;34m.\u001b[0m\u001b[0mdate\u001b[0m\u001b[0;34m,\u001b[0m \u001b[0munit\u001b[0m\u001b[0;34m=\u001b[0m\u001b[0;34m's'\u001b[0m\u001b[0;34m)\u001b[0m\u001b[0;34m\u001b[0m\u001b[0;34m\u001b[0m\u001b[0m\n",
      "\u001b[0;31mKeyError\u001b[0m: 'prices'"
     ]
    }
   ],
   "source": [
    "#hide\n",
    "df_all = read_api()"
   ]
  },
  {
   "cell_type": "code",
   "execution_count": null,
   "metadata": {
    "execution": {
     "iopub.execute_input": "2020-12-31T15:20:43.484792Z",
     "iopub.status.busy": "2020-12-31T15:20:43.484177Z",
     "iopub.status.idle": "2020-12-31T15:20:43.514825Z",
     "shell.execute_reply": "2020-12-31T15:20:43.515369Z"
    },
    "papermill": {
     "duration": null,
     "end_time": null,
     "exception": null,
     "start_time": null,
     "status": "pending"
    },
    "tags": []
   },
   "outputs": [],
   "source": [
    "#hide\n",
    "from IPython.display import HTML"
   ]
  },
  {
   "cell_type": "markdown",
   "metadata": {
    "papermill": {
     "duration": null,
     "end_time": null,
     "exception": null,
     "start_time": null,
     "status": "pending"
    },
    "tags": []
   },
   "source": [
    "### Sklaidos diagrama su BTC"
   ]
  },
  {
   "cell_type": "code",
   "execution_count": null,
   "metadata": {
    "execution": {
     "iopub.execute_input": "2020-12-31T15:20:43.563757Z",
     "iopub.status.busy": "2020-12-31T15:20:43.557402Z",
     "iopub.status.idle": "2020-12-31T15:20:43.930940Z",
     "shell.execute_reply": "2020-12-31T15:20:43.931493Z"
    },
    "papermill": {
     "duration": null,
     "end_time": null,
     "exception": null,
     "start_time": null,
     "status": "pending"
    },
    "tags": []
   },
   "outputs": [],
   "source": [
    "#hide_input\n",
    "fig = go.Figure()\n",
    "\n",
    "fig.add_trace(\n",
    "    go.Scatter(x=list(df_all.BTC),\n",
    "               y=list(df_all.ETH),\n",
    "               name=\"ETH\",\n",
    "               marker_size =5,\n",
    "               mode='markers',\n",
    "               line=dict(color=\"DarkOrange\")))\n",
    "\n",
    "fig.add_trace(\n",
    "    go.Scatter(x=list(df_all.BTC),\n",
    "               y=list(df_all.ADA),\n",
    "               name=\"ADA\",\n",
    "               marker_size =5,\n",
    "               mode='markers',\n",
    "               line=dict(color=\"Yellow\")))\n",
    "\n",
    "\n",
    "fig.add_trace(\n",
    "    go.Scatter(x=list(df_all.BTC),\n",
    "               y=list(df_all.EOS),\n",
    "               name=\"EOS\",\n",
    "               marker_size =5,\n",
    "               mode='markers',\n",
    "               line=dict(color=\"Blue\")))\n",
    "\n",
    "fig.add_trace(\n",
    "    go.Scatter(x=list(df_all.BTC),\n",
    "               y=list(df_all.NEO),\n",
    "               name=\"NEO\",\n",
    "               marker_size =5,\n",
    "               mode='markers',\n",
    "               line=dict(color=\"Red\")))\n",
    "\n",
    "\n",
    "fig.add_trace(\n",
    "    go.Scatter(x=list(df_all.BTC),\n",
    "               y=list(df_all.TRX),\n",
    "               name=\"TRX\",\n",
    "               marker_size =5,\n",
    "               mode='markers',\n",
    "               line=dict(color=\"Green\")))\n",
    "\n",
    "fig.add_trace(\n",
    "    go.Scatter(x=list(df_all.BTC),\n",
    "               y=list(df_all.XRP),\n",
    "               name=\"XRP\",\n",
    "               marker_size =5,\n",
    "               mode='markers',\n",
    "               line=dict(color=\"DarkGreen\")))\n",
    "\n",
    "\n",
    "\n",
    "fig.update_layout(\n",
    "                width=900,\n",
    "            height=900,\n",
    "    updatemenus=[\n",
    "        dict(\n",
    "            type=\"buttons\",\n",
    "            direction=\"down\",\n",
    "            active=6,\n",
    "#             x=1.57,\n",
    "#             y=1.2,\n",
    "            buttons=list([\n",
    "                dict(label=\"ETH\",\n",
    "                     method=\"update\",\n",
    "                     args=[{\"visible\": [True, False, False,False, False, False]},\n",
    "                           {\"title\": \"Sklaidos diagrama BTC ir ETH\",\n",
    "                            \"annotations\": []}]),\n",
    "                dict(label=\"ADA\",\n",
    "                     method=\"update\",\n",
    "                     args=[{\"visible\": [False, True, False, False, False, False]},\n",
    "                           {\"title\": \"Sklaidos diagrama BTC ir ADA\",\n",
    "                            \"annotations\": []}]),\n",
    "                dict(label=\"EOS\",\n",
    "                     method=\"update\",\n",
    "                     args=[{\"visible\": [False, False, True, False, False, False]},\n",
    "                           {\"title\": \"Sklaidos diagrama BTC ir EOS\",\n",
    "                            \"annotations\": []}]),\n",
    "                dict(label=\"NEO\",\n",
    "                     method=\"update\",\n",
    "                     args=[{\"visible\": [False, False, False, True, False, False]},\n",
    "                           {\"title\": \"Sklaidos diagrama BTC ir NEO\",\n",
    "                            \"annotations\": []}]),\n",
    "                dict(label=\"TRX\",\n",
    "                     method=\"update\",\n",
    "                     args=[{\"visible\": [False, False, False, False, True, False]},\n",
    "                           {\"title\": \"Sklaidos diagrama BTC ir TRX\",\n",
    "                            \"annotations\": []}]),\n",
    "                dict(label=\"XRP\",\n",
    "                     method=\"update\",\n",
    "                     args=[{\"visible\": [False, False, False, False, False, True]},\n",
    "                           {\"title\": \"Sklaidos diagrama BTC ir XRP\",\n",
    "                            \"annotations\": []}]),\n",
    "                dict(label=\"All\",\n",
    "                     method=\"update\",\n",
    "                     args=[{\"visible\": [True, True, True, True, True]},\n",
    "                           {\"title\": \"Sklaidos diagrama visoms valiutoms\",\n",
    "                            \"annotations\": []}]),\n",
    "            ]),\n",
    "        )\n",
    "    ])\n",
    "\n",
    "# Set title\n",
    "fig.update_layout(\n",
    "    title_text=\"Sklaidos diagrama BTC ir kitoms valiutoms\",\n",
    "#     xaxis_domain=[0.20, 1.0]\n",
    "#     xaxis_domain=[1.0, 1.0]\n",
    ")\n",
    "\n",
    "HTML(fig.to_html())\n"
   ]
  },
  {
   "cell_type": "code",
   "execution_count": null,
   "metadata": {
    "papermill": {
     "duration": null,
     "end_time": null,
     "exception": null,
     "start_time": null,
     "status": "pending"
    },
    "tags": []
   },
   "outputs": [],
   "source": []
  },
  {
   "cell_type": "code",
   "execution_count": null,
   "metadata": {
    "papermill": {
     "duration": null,
     "end_time": null,
     "exception": null,
     "start_time": null,
     "status": "pending"
    },
    "tags": []
   },
   "outputs": [],
   "source": []
  },
  {
   "cell_type": "code",
   "execution_count": null,
   "metadata": {
    "papermill": {
     "duration": null,
     "end_time": null,
     "exception": null,
     "start_time": null,
     "status": "pending"
    },
    "tags": []
   },
   "outputs": [],
   "source": []
  },
  {
   "cell_type": "code",
   "execution_count": null,
   "metadata": {
    "papermill": {
     "duration": null,
     "end_time": null,
     "exception": null,
     "start_time": null,
     "status": "pending"
    },
    "tags": []
   },
   "outputs": [],
   "source": []
  },
  {
   "cell_type": "code",
   "execution_count": null,
   "metadata": {
    "papermill": {
     "duration": null,
     "end_time": null,
     "exception": null,
     "start_time": null,
     "status": "pending"
    },
    "tags": []
   },
   "outputs": [],
   "source": []
  },
  {
   "cell_type": "code",
   "execution_count": null,
   "metadata": {
    "papermill": {
     "duration": null,
     "end_time": null,
     "exception": null,
     "start_time": null,
     "status": "pending"
    },
    "tags": []
   },
   "outputs": [],
   "source": []
  }
 ],
 "metadata": {
  "kernelspec": {
   "display_name": "Python 3",
   "language": "python",
   "name": "python3"
  },
  "language_info": {
   "codemirror_mode": {
    "name": "ipython",
    "version": 3
   },
   "file_extension": ".py",
   "mimetype": "text/x-python",
   "name": "python",
   "nbconvert_exporter": "python",
   "pygments_lexer": "ipython3",
   "version": "3.6.12"
  },
  "papermill": {
   "default_parameters": {},
   "duration": 16.301265,
   "end_time": "2021-01-07T10:43:45.052515",
   "environment_variables": {},
   "exception": true,
   "input_path": "App-Scatter_charts.ipynb",
   "output_path": "App-Scatter_charts.ipynb",
   "parameters": {},
   "start_time": "2021-01-07T10:43:28.751250",
   "version": "2.2.2"
  }
 },
 "nbformat": 4,
 "nbformat_minor": 4
}