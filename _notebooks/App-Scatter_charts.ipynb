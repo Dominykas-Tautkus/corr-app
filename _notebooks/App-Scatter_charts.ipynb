{
 "cells": [
  {
   "cell_type": "markdown",
   "metadata": {
    "papermill": {
     "duration": 0.014604,
     "end_time": "2021-01-16T13:52:09.726200",
     "exception": false,
     "start_time": "2021-01-16T13:52:09.711596",
     "status": "completed"
    },
    "tags": []
   },
   "source": [
    "# Sklaidos diagramos\n",
    "> Sklaidos diagramos BTC ir kitoms kriptovaliutoms.\n",
    "\n",
    "- toc: true \n",
    "- badges: true\n",
    "- comments: false\n",
    "- categories: [Dominykas Tautkus]\n",
    "- image: images/screenshot4.png"
   ]
  },
  {
   "cell_type": "code",
   "execution_count": null,
   "metadata": {
    "papermill": {
     "duration": 0.007305,
     "end_time": "2021-01-16T13:52:09.741676",
     "exception": false,
     "start_time": "2021-01-16T13:52:09.734371",
     "status": "completed"
    },
    "tags": []
   },
   "outputs": [],
   "source": []
  },
  {
   "cell_type": "code",
   "execution_count": 1,
   "metadata": {
    "papermill": {
     "duration": 1.542607,
     "end_time": "2021-01-16T13:52:11.291961",
     "exception": false,
     "start_time": "2021-01-16T13:52:09.749354",
     "status": "completed"
    },
    "tags": []
   },
   "outputs": [],
   "source": [
    "#hide\n",
    "%load_ext autoreload\n",
    "%autoreload 2\n",
    "import plotly.graph_objects as go\n",
    "import pandas as pd\n",
    "import matplotlib.pyplot as plt\n",
    "import plotly.express as px\n",
    "from scripts.read_data import read_api\n",
    "import seaborn as sns\n",
    "sns.set()"
   ]
  },
  {
   "cell_type": "code",
   "execution_count": 2,
   "metadata": {
    "papermill": {
     "duration": 11.065458,
     "end_time": "2021-01-16T13:52:22.366360",
     "exception": false,
     "start_time": "2021-01-16T13:52:11.300902",
     "status": "completed"
    },
    "tags": []
   },
   "outputs": [
    {
     "name": "stderr",
     "output_type": "stream",
     "text": [
      "/Users/Dom/Documents/Bachelor/corr-app/_notebooks/scripts/read_data.py:187: SettingWithCopyWarning: \n",
      "A value is trying to be set on a copy of a slice from a DataFrame.\n",
      "Try using .loc[row_indexer,col_indexer] = value instead\n",
      "\n",
      "See the caveats in the documentation: https://pandas.pydata.org/pandas-docs/stable/user_guide/indexing.html#returning-a-view-versus-a-copy\n",
      "  df_final['currency'] = df_final.apply(lambda row: fsym, axis=1)\n",
      "/Users/Dom/Documents/Bachelor/corr-app/_notebooks/scripts/read_data.py:215: SettingWithCopyWarning: \n",
      "A value is trying to be set on a copy of a slice from a DataFrame.\n",
      "Try using .loc[row_indexer,col_indexer] = value instead\n",
      "\n",
      "See the caveats in the documentation: https://pandas.pydata.org/pandas-docs/stable/user_guide/indexing.html#returning-a-view-versus-a-copy\n",
      "  df_final['currency'] = df_final.apply(lambda row: crypto, axis=1)\n"
     ]
    }
   ],
   "source": [
    "#hide\n",
    "df_all = read_api()"
   ]
  },
  {
   "cell_type": "code",
   "execution_count": 3,
   "metadata": {
    "papermill": {
     "duration": 0.041426,
     "end_time": "2021-01-16T13:52:22.417206",
     "exception": false,
     "start_time": "2021-01-16T13:52:22.375780",
     "status": "completed"
    },
    "tags": []
   },
   "outputs": [],
   "source": [
    "#hide\n",
    "from IPython.display import HTML"
   ]
  },
  {
   "cell_type": "markdown",
   "metadata": {
    "papermill": {
     "duration": 0.008909,
     "end_time": "2021-01-16T13:52:22.435241",
     "exception": false,
     "start_time": "2021-01-16T13:52:22.426332",
     "status": "completed"
    },
    "tags": []
   },
   "source": [
    "### Sklaidos diagrama su BTC"
   ]
  },
  {
   "cell_type": "code",
   "execution_count": null,
   "metadata": {
    "papermill": {
     "duration": 0.386595,
     "end_time": "2021-01-16T13:52:22.830783",
     "exception": false,
     "start_time": "2021-01-16T13:52:22.444188",
     "status": "completed"
    },
    "tags": []
   },
   "outputs": [],
   "source": [
    "#hide_input\n",
    "fig = go.Figure()\n",
    "\n",
    "fig.add_trace(\n",
    "    go.Scatter(x=list(df_all.BTC),\n",
    "               y=list(df_all.ETH),\n",
    "               name=\"ETH\",\n",
    "               marker_size =5,\n",
    "               mode='markers',\n",
    "               line=dict(color=\"DarkOrange\")))\n",
    "\n",
    "fig.add_trace(\n",
    "    go.Scatter(x=list(df_all.BTC),\n",
    "               y=list(df_all.ADA),\n",
    "               name=\"ADA\",\n",
    "               marker_size =5,\n",
    "               mode='markers',\n",
    "               line=dict(color=\"Yellow\")))\n",
    "\n",
    "\n",
    "fig.add_trace(\n",
    "    go.Scatter(x=list(df_all.BTC),\n",
    "               y=list(df_all.EOS),\n",
    "               name=\"EOS\",\n",
    "               marker_size =5,\n",
    "               mode='markers',\n",
    "               line=dict(color=\"Blue\")))\n",
    "\n",
    "fig.add_trace(\n",
    "    go.Scatter(x=list(df_all.BTC),\n",
    "               y=list(df_all.NEO),\n",
    "               name=\"NEO\",\n",
    "               marker_size =5,\n",
    "               mode='markers',\n",
    "               line=dict(color=\"Red\")))\n",
    "\n",
    "\n",
    "fig.add_trace(\n",
    "    go.Scatter(x=list(df_all.BTC),\n",
    "               y=list(df_all.TRX),\n",
    "               name=\"TRX\",\n",
    "               marker_size =5,\n",
    "               mode='markers',\n",
    "               line=dict(color=\"Green\")))\n",
    "\n",
    "fig.add_trace(\n",
    "    go.Scatter(x=list(df_all.BTC),\n",
    "               y=list(df_all.XRP),\n",
    "               name=\"XRP\",\n",
    "               marker_size =5,\n",
    "               mode='markers',\n",
    "               line=dict(color=\"DarkGreen\")))\n",
    "\n",
    "\n",
    "\n",
    "fig.update_layout(\n",
    "                width=900,\n",
    "            height=900,\n",
    "    updatemenus=[\n",
    "        dict(\n",
    "            type=\"buttons\",\n",
    "            direction=\"down\",\n",
    "            active=6,\n",
    "#             x=1.57,\n",
    "#             y=1.2,\n",
    "            buttons=list([\n",
    "                dict(label=\"ETH\",\n",
    "                     method=\"update\",\n",
    "                     args=[{\"visible\": [True, False, False,False, False, False]},\n",
    "                           {\"title\": \"Sklaidos diagrama BTC ir ETH\",\n",
    "                            \"annotations\": []}]),\n",
    "                dict(label=\"ADA\",\n",
    "                     method=\"update\",\n",
    "                     args=[{\"visible\": [False, True, False, False, False, False]},\n",
    "                           {\"title\": \"Sklaidos diagrama BTC ir ADA\",\n",
    "                            \"annotations\": []}]),\n",
    "                dict(label=\"EOS\",\n",
    "                     method=\"update\",\n",
    "                     args=[{\"visible\": [False, False, True, False, False, False]},\n",
    "                           {\"title\": \"Sklaidos diagrama BTC ir EOS\",\n",
    "                            \"annotations\": []}]),\n",
    "                dict(label=\"NEO\",\n",
    "                     method=\"update\",\n",
    "                     args=[{\"visible\": [False, False, False, True, False, False]},\n",
    "                           {\"title\": \"Sklaidos diagrama BTC ir NEO\",\n",
    "                            \"annotations\": []}]),\n",
    "                dict(label=\"TRX\",\n",
    "                     method=\"update\",\n",
    "                     args=[{\"visible\": [False, False, False, False, True, False]},\n",
    "                           {\"title\": \"Sklaidos diagrama BTC ir TRX\",\n",
    "                            \"annotations\": []}]),\n",
    "                dict(label=\"XRP\",\n",
    "                     method=\"update\",\n",
    "                     args=[{\"visible\": [False, False, False, False, False, True]},\n",
    "                           {\"title\": \"Sklaidos diagrama BTC ir XRP\",\n",
    "                            \"annotations\": []}]),\n",
    "                dict(label=\"All\",\n",
    "                     method=\"update\",\n",
    "                     args=[{\"visible\": [True, True, True, True, True]},\n",
    "                           {\"title\": \"Sklaidos diagrama visoms valiutoms\",\n",
    "                            \"annotations\": []}]),\n",
    "            ]),\n",
    "        )\n",
    "    ])\n",
    "\n",
    "# Set title\n",
    "fig.update_layout(\n",
    "    title_text=\"Sklaidos diagrama BTC ir kitoms valiutoms\",\n",
    "#     xaxis_domain=[0.20, 1.0]\n",
    "#     xaxis_domain=[1.0, 1.0]\n",
    ")\n",
    "\n",
    "HTML(fig.to_html())\n"
   ]
  },
  {
   "cell_type": "code",
   "execution_count": null,
   "metadata": {
    "papermill": {
     "duration": 0.071838,
     "end_time": "2021-01-16T13:52:22.978063",
     "exception": false,
     "start_time": "2021-01-16T13:52:22.906225",
     "status": "completed"
    },
    "tags": []
   },
   "outputs": [],
   "source": []
  },
  {
   "cell_type": "code",
   "execution_count": null,
   "metadata": {
    "papermill": {
     "duration": 0.074272,
     "end_time": "2021-01-16T13:52:23.127743",
     "exception": false,
     "start_time": "2021-01-16T13:52:23.053471",
     "status": "completed"
    },
    "tags": []
   },
   "outputs": [],
   "source": []
  },
  {
   "cell_type": "code",
   "execution_count": null,
   "metadata": {
    "papermill": {
     "duration": 0.07361,
     "end_time": "2021-01-16T13:52:23.276383",
     "exception": false,
     "start_time": "2021-01-16T13:52:23.202773",
     "status": "completed"
    },
    "tags": []
   },
   "outputs": [],
   "source": []
  },
  {
   "cell_type": "code",
   "execution_count": null,
   "metadata": {
    "papermill": {
     "duration": 0.072694,
     "end_time": "2021-01-16T13:52:23.422808",
     "exception": false,
     "start_time": "2021-01-16T13:52:23.350114",
     "status": "completed"
    },
    "tags": []
   },
   "outputs": [],
   "source": []
  },
  {
   "cell_type": "code",
   "execution_count": null,
   "metadata": {
    "papermill": {
     "duration": 0.074533,
     "end_time": "2021-01-16T13:52:23.570322",
     "exception": false,
     "start_time": "2021-01-16T13:52:23.495789",
     "status": "completed"
    },
    "tags": []
   },
   "outputs": [],
   "source": []
  },
  {
   "cell_type": "code",
   "execution_count": null,
   "metadata": {
    "papermill": {
     "duration": 0.137209,
     "end_time": "2021-01-16T13:52:23.782859",
     "exception": false,
     "start_time": "2021-01-16T13:52:23.645650",
     "status": "completed"
    },
    "tags": []
   },
   "outputs": [],
   "source": []
  },
  {
   "cell_type": "code",
   "execution_count": null,
   "metadata": {
    "papermill": {
     "duration": 0.079392,
     "end_time": "2021-01-16T13:52:23.939653",
     "exception": false,
     "start_time": "2021-01-16T13:52:23.860261",
     "status": "completed"
    },
    "tags": []
   },
   "outputs": [],
   "source": []
  }
 ],
 "metadata": {
  "kernelspec": {
   "display_name": "Python 3",
   "language": "python",
   "name": "python3"
  },
  "language_info": {
   "codemirror_mode": {
    "name": "ipython",
    "version": 3
   },
   "file_extension": ".py",
   "mimetype": "text/x-python",
   "name": "python",
   "nbconvert_exporter": "python",
   "pygments_lexer": "ipython3",
   "version": "3.8.5"
  },
  "papermill": {
   "default_parameters": {},
   "duration": 15.875415,
   "end_time": "2021-01-16T13:52:24.524475",
   "environment_variables": {},
   "exception": null,
   "input_path": "App-Scatter_charts.ipynb",
   "output_path": "App-Scatter_charts.ipynb",
   "parameters": {},
   "start_time": "2021-01-16T13:52:08.649060",
   "version": "2.2.2"
  }
 },
 "nbformat": 4,
 "nbformat_minor": 4
}
