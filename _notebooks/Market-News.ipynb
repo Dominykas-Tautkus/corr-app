{
 "cells": [
  {
   "cell_type": "markdown",
   "id": "short-greensboro",
   "metadata": {
    "papermill": {
     "duration": 0.014784,
     "end_time": "2021-06-22T02:00:08.803210",
     "exception": false,
     "start_time": "2021-06-22T02:00:08.788426",
     "status": "completed"
    },
    "tags": []
   },
   "source": [
    "# Kriptovaliutų naujienos"
   ]
  },
  {
   "cell_type": "code",
   "execution_count": 1,
   "id": "functioning-knowing",
   "metadata": {
    "execution": {
     "iopub.execute_input": "2021-06-22T02:00:08.838723Z",
     "iopub.status.busy": "2021-06-22T02:00:08.838065Z",
     "iopub.status.idle": "2021-06-22T02:00:10.349124Z",
     "shell.execute_reply": "2021-06-22T02:00:10.348525Z"
    },
    "papermill": {
     "duration": 1.534859,
     "end_time": "2021-06-22T02:00:10.349289",
     "exception": false,
     "start_time": "2021-06-22T02:00:08.814430",
     "status": "completed"
    },
    "tags": []
   },
   "outputs": [],
   "source": [
    "#hide_input\n",
    "import warnings\n",
    "warnings.filterwarnings('ignore')\n",
    "from scripts.read_data import read_api\n",
    "from scripts.read_data import read_news\n",
    "from scripts.read_data import read_covid\n",
    "import matplotlib.pyplot as plt \n",
    "from IPython.display import Markdown as md"
   ]
  },
  {
   "cell_type": "code",
   "execution_count": 2,
   "id": "shared-acceptance",
   "metadata": {
    "execution": {
     "iopub.execute_input": "2021-06-22T02:00:10.379181Z",
     "iopub.status.busy": "2021-06-22T02:00:10.378586Z",
     "iopub.status.idle": "2021-06-22T02:00:18.380913Z",
     "shell.execute_reply": "2021-06-22T02:00:18.380166Z"
    },
    "papermill": {
     "duration": 8.019972,
     "end_time": "2021-06-22T02:00:18.381061",
     "exception": false,
     "start_time": "2021-06-22T02:00:10.361089",
     "status": "completed"
    },
    "tags": []
   },
   "outputs": [],
   "source": [
    "#hide_input\n",
    "blockchain = read_news('blockchain') \n",
    "btc = read_news('btc') \n",
    "xrp = read_news('xrp') \n",
    "trx = read_news('trx') \n",
    "eth = read_news('eth')  \n",
    "ada = read_news('ada')\n",
    "exchange = read_news('exchange') "
   ]
  },
  {
   "cell_type": "code",
   "execution_count": 3,
   "id": "synthetic-notion",
   "metadata": {
    "execution": {
     "iopub.execute_input": "2021-06-22T02:00:18.414582Z",
     "iopub.status.busy": "2021-06-22T02:00:18.413861Z",
     "iopub.status.idle": "2021-06-22T02:00:18.416537Z",
     "shell.execute_reply": "2021-06-22T02:00:18.417238Z"
    },
    "papermill": {
     "duration": 0.023117,
     "end_time": "2021-06-22T02:00:18.417392",
     "exception": false,
     "start_time": "2021-06-22T02:00:18.394275",
     "status": "completed"
    },
    "tags": []
   },
   "outputs": [
    {
     "data": {
      "text/markdown": [
       "- Ex-Cricketer Shoaib Akhtar Launches World’s First Cricket NFT Marketplace.  Shoaib Akhtar, a former Pakistani cricketer, and one of the greatest players ever to play the game has announced the plans to launch his own Non-Fungible Token (NFT) platform. The iconic cricketer, who once bowled a delivery at 161.3 km/h, is partnering with the blockchain startup, TenupNation. Through the partnership, the duo is set to The post Ex-Cricketer Shoaib Akhtar Launches World&#8217;s First Cricket NFT Marketplace appeared first on Coingape. ... [| Skaityti daugiau](https://coingape.com/shoaib-akhtar-cricket-nft-marketplace/) "
      ],
      "text/plain": [
       "<IPython.core.display.Markdown object>"
      ]
     },
     "execution_count": 3,
     "metadata": {},
     "output_type": "execute_result"
    }
   ],
   "source": [
    "#hide_input\n",
    "#md('##### {}'.format(titleBTC)) \n",
    "md(\"- {}{} {}{} [| Skaityti daugiau]({}) \".format(blockchain['title'],'. ', blockchain['body'], ' ...', blockchain['url']))"
   ]
  },
  {
   "cell_type": "code",
   "execution_count": 4,
   "id": "aging-caution",
   "metadata": {
    "execution": {
     "iopub.execute_input": "2021-06-22T02:00:18.448003Z",
     "iopub.status.busy": "2021-06-22T02:00:18.447362Z",
     "iopub.status.idle": "2021-06-22T02:00:18.450515Z",
     "shell.execute_reply": "2021-06-22T02:00:18.449880Z"
    },
    "papermill": {
     "duration": 0.020464,
     "end_time": "2021-06-22T02:00:18.450638",
     "exception": false,
     "start_time": "2021-06-22T02:00:18.430174",
     "status": "completed"
    },
    "tags": []
   },
   "outputs": [
    {
     "data": {
      "text/markdown": [
       "- How Bitcoiners are Working With El Salvador's Leaders.  Bitcoiners are visiting El Salvador to speak with its most powerful people. Here's what they're discussing. ... [| Skaityti daugiau](https://decrypt.co/74157/how-bitcoiners-are-working-with-el-salvadors-leaders) "
      ],
      "text/plain": [
       "<IPython.core.display.Markdown object>"
      ]
     },
     "execution_count": 4,
     "metadata": {},
     "output_type": "execute_result"
    }
   ],
   "source": [
    "#hide_input\n",
    "#md('##### {}'.format(titleBTC)) \n",
    "md(\"- {}{} {}{} [| Skaityti daugiau]({}) \".format(btc['title'],'. ', btc['body'], ' ...', btc['url']))"
   ]
  },
  {
   "cell_type": "code",
   "execution_count": 5,
   "id": "organic-actress",
   "metadata": {
    "execution": {
     "iopub.execute_input": "2021-06-22T02:00:18.481451Z",
     "iopub.status.busy": "2021-06-22T02:00:18.480824Z",
     "iopub.status.idle": "2021-06-22T02:00:18.484508Z",
     "shell.execute_reply": "2021-06-22T02:00:18.483659Z"
    },
    "papermill": {
     "duration": 0.021928,
     "end_time": "2021-06-22T02:00:18.484701",
     "exception": false,
     "start_time": "2021-06-22T02:00:18.462773",
     "status": "completed"
    },
    "tags": []
   },
   "outputs": [
    {
     "data": {
      "text/markdown": [
       "- XRP, Dogecoin, MATIC Price Analysis: 21 June.  The last 12 hours have been rather terrible for the market as all the coins including the king coin fell severely. Total market capitalization came down by 7.8% at press time. XRP, Dogecoin, MATIC each lost 9.91%, 8.63% and 7.5% respectively. Regardless, XRP was in the news for SEC&#8217;s Commissioner Hester Peirce’s statement concerning the [&#8230;] ... [| Skaityti daugiau](https://ambcrypto.com/xrp-dogecoin-matic-price-analysis-21-june/) "
      ],
      "text/plain": [
       "<IPython.core.display.Markdown object>"
      ]
     },
     "execution_count": 5,
     "metadata": {},
     "output_type": "execute_result"
    }
   ],
   "source": [
    "#hide_input\n",
    "#md('##### {}'.format(titleBTC)) \n",
    "md(\"- {}{} {}{} [| Skaityti daugiau]({}) \".format(xrp['title'],'. ', xrp['body'], ' ...', xrp['url']))"
   ]
  },
  {
   "cell_type": "code",
   "execution_count": 6,
   "id": "prompt-farmer",
   "metadata": {
    "execution": {
     "iopub.execute_input": "2021-06-22T02:00:18.517307Z",
     "iopub.status.busy": "2021-06-22T02:00:18.516638Z",
     "iopub.status.idle": "2021-06-22T02:00:18.521117Z",
     "shell.execute_reply": "2021-06-22T02:00:18.521737Z"
    },
    "papermill": {
     "duration": 0.023809,
     "end_time": "2021-06-22T02:00:18.521895",
     "exception": false,
     "start_time": "2021-06-22T02:00:18.498086",
     "status": "completed"
    },
    "tags": []
   },
   "outputs": [
    {
     "data": {
      "text/markdown": [
       "- Tron (TRX) Ranks 1st in Transactions Per Second, Eclipsing ADA and XRP.  According to Coinmetrics, Tron is the fastest blockchain in terms of transactions per second Tron&#8217;s throughput exceeds that of Bitcoin, Ethereum, Cardano and XRP Tron&#8217;s users continue to grow with the network exceeding 40 million unique accounts However, TRX is currently trading above the 200-day moving average with a potential death cross, only weeks away The Tron (TRX) network ranks first in terms of handling the highest number of transactions per second. This milestone was observed by Tron community member [&#8230;] ... [| Skaityti daugiau](https://en.ethereumworldnews.com/tron-trx-ranks-1st-in-transactions-per-second-eclipsing-ada-and-xrp/) "
      ],
      "text/plain": [
       "<IPython.core.display.Markdown object>"
      ]
     },
     "execution_count": 6,
     "metadata": {},
     "output_type": "execute_result"
    }
   ],
   "source": [
    "#hide_input\n",
    "#md('##### {}'.format(titleBTC)) \n",
    "md(\"- {}{} {}{} [| Skaityti daugiau]({}) \".format(trx['title'],'. ', trx['body'], ' ...', trx['url']))"
   ]
  },
  {
   "cell_type": "code",
   "execution_count": 7,
   "id": "illegal-greece",
   "metadata": {
    "execution": {
     "iopub.execute_input": "2021-06-22T02:00:18.556975Z",
     "iopub.status.busy": "2021-06-22T02:00:18.556287Z",
     "iopub.status.idle": "2021-06-22T02:00:18.559721Z",
     "shell.execute_reply": "2021-06-22T02:00:18.559062Z"
    },
    "papermill": {
     "duration": 0.023307,
     "end_time": "2021-06-22T02:00:18.559867",
     "exception": false,
     "start_time": "2021-06-22T02:00:18.536560",
     "status": "completed"
    },
    "tags": []
   },
   "outputs": [
    {
     "data": {
      "text/markdown": [
       "- Is DeFi season back? Stablecoin ‘yield’ deposits nearly doubled last month even as Bitcoin crashed.  During May, the wealth management platform YIELD App, saw net deposits of Tether (USDT) increase 15.5%, while net deposits of USD Coin (USDC) more than doubled, increasing 155.5%, compared to April. The post Is DeFi season back? Stablecoin &#8216;yield&#8217; deposits nearly doubled last month even as Bitcoin crashed appeared first on CryptoSlate. ... [| Skaityti daugiau](https://cryptoslate.com/is-defi-season-back-stablecoin-yield-deposits-nearly-doubled-even-as-bitcoin-crashed/) "
      ],
      "text/plain": [
       "<IPython.core.display.Markdown object>"
      ]
     },
     "execution_count": 7,
     "metadata": {},
     "output_type": "execute_result"
    }
   ],
   "source": [
    "#hide_input\n",
    "#md('##### {}'.format(titleBTC)) \n",
    "md(\"- {}{} {}{} [| Skaityti daugiau]({}) \".format(eth['title'],'. ', eth['body'], ' ...', eth['url']))"
   ]
  },
  {
   "cell_type": "code",
   "execution_count": 8,
   "id": "sublime-lounge",
   "metadata": {
    "execution": {
     "iopub.execute_input": "2021-06-22T02:00:18.596597Z",
     "iopub.status.busy": "2021-06-22T02:00:18.595926Z",
     "iopub.status.idle": "2021-06-22T02:00:18.599535Z",
     "shell.execute_reply": "2021-06-22T02:00:18.598842Z"
    },
    "papermill": {
     "duration": 0.025726,
     "end_time": "2021-06-22T02:00:18.599664",
     "exception": false,
     "start_time": "2021-06-22T02:00:18.573938",
     "status": "completed"
    },
    "tags": []
   },
   "outputs": [
    {
     "data": {
      "text/markdown": [
       "- Cardano, Chainlink, Filecoin Price Analysis: 21 June.  Given the dip that the crypto market is experiencing at the moment every coin has been through some amount of price fall. Similarly, Cardano lost $5.8 from its pre-dip price. Filecoin created a new 3-month low at press time. Cardano [ADA]:- Cardano&#8217;s barely flipped the $1.37 resistance into support on June 20 and at press [&#8230;] ... [| Skaityti daugiau](https://ambcrypto.com/cardano-chainlink-filecoin-price-analysis-21-june/) "
      ],
      "text/plain": [
       "<IPython.core.display.Markdown object>"
      ]
     },
     "execution_count": 8,
     "metadata": {},
     "output_type": "execute_result"
    }
   ],
   "source": [
    "#hide_input\n",
    "#md('##### {}'.format(titleBTC)) \n",
    "md(\"- {}{} {}{} [| Skaityti daugiau]({}) \".format(ada['title'],'. ', ada['body'], ' ...', ada['url']))"
   ]
  },
  {
   "cell_type": "code",
   "execution_count": 9,
   "id": "specified-ordering",
   "metadata": {
    "execution": {
     "iopub.execute_input": "2021-06-22T02:00:18.641129Z",
     "iopub.status.busy": "2021-06-22T02:00:18.640443Z",
     "iopub.status.idle": "2021-06-22T02:00:18.643134Z",
     "shell.execute_reply": "2021-06-22T02:00:18.644114Z"
    },
    "papermill": {
     "duration": 0.026865,
     "end_time": "2021-06-22T02:00:18.644695",
     "exception": false,
     "start_time": "2021-06-22T02:00:18.617830",
     "status": "completed"
    },
    "tags": []
   },
   "outputs": [
    {
     "data": {
      "text/markdown": [
       "- Canadian Regulator Adds Bybit to Crypto Exchange Crackdown.  The Ontario Securities Commission says Bybit is \"operating an unregistered crypto asset trading platform.\" ... [| Skaityti daugiau](https://decrypt.co/74156/canadian-regulator-adds-bybit-crypto-exchange-crackdown) "
      ],
      "text/plain": [
       "<IPython.core.display.Markdown object>"
      ]
     },
     "execution_count": 9,
     "metadata": {},
     "output_type": "execute_result"
    }
   ],
   "source": [
    "#hide_input\n",
    "#md('##### {}'.format(titleBTC)) \n",
    "md(\"- {}{} {}{} [| Skaityti daugiau]({}) \".format(exchange['title'],'. ', exchange['body'], ' ...', exchange['url']))"
   ]
  },
  {
   "cell_type": "code",
   "execution_count": null,
   "id": "tender-livestock",
   "metadata": {
    "papermill": {
     "duration": 0.015404,
     "end_time": "2021-06-22T02:00:18.678042",
     "exception": false,
     "start_time": "2021-06-22T02:00:18.662638",
     "status": "completed"
    },
    "tags": []
   },
   "outputs": [],
   "source": []
  },
  {
   "cell_type": "code",
   "execution_count": null,
   "id": "appreciated-diamond",
   "metadata": {
    "papermill": {
     "duration": 0.014853,
     "end_time": "2021-06-22T02:00:18.708643",
     "exception": false,
     "start_time": "2021-06-22T02:00:18.693790",
     "status": "completed"
    },
    "tags": []
   },
   "outputs": [],
   "source": []
  },
  {
   "cell_type": "code",
   "execution_count": null,
   "id": "romance-sweden",
   "metadata": {
    "papermill": {
     "duration": 0.015567,
     "end_time": "2021-06-22T02:00:18.739228",
     "exception": false,
     "start_time": "2021-06-22T02:00:18.723661",
     "status": "completed"
    },
    "tags": []
   },
   "outputs": [],
   "source": []
  },
  {
   "cell_type": "code",
   "execution_count": null,
   "id": "dietary-statistics",
   "metadata": {
    "papermill": {
     "duration": 0.021793,
     "end_time": "2021-06-22T02:00:18.777080",
     "exception": false,
     "start_time": "2021-06-22T02:00:18.755287",
     "status": "completed"
    },
    "tags": []
   },
   "outputs": [],
   "source": []
  }
 ],
 "metadata": {
  "kernelspec": {
   "display_name": "Python 3",
   "language": "python",
   "name": "python3"
  },
  "language_info": {
   "codemirror_mode": {
    "name": "ipython",
    "version": 3
   },
   "file_extension": ".py",
   "mimetype": "text/x-python",
   "name": "python",
   "nbconvert_exporter": "python",
   "pygments_lexer": "ipython3",
   "version": "3.6.13"
  },
  "papermill": {
   "default_parameters": {},
   "duration": 11.923758,
   "end_time": "2021-06-22T02:00:19.407466",
   "environment_variables": {},
   "exception": null,
   "input_path": "Market-News.ipynb",
   "output_path": "Market-News.ipynb",
   "parameters": {},
   "start_time": "2021-06-22T02:00:07.483708",
   "version": "2.2.2"
  }
 },
 "nbformat": 4,
 "nbformat_minor": 5
}