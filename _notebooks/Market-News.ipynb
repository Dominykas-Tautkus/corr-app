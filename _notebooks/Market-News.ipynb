{
 "cells": [
  {
   "cell_type": "markdown",
   "id": "short-greensboro",
   "metadata": {
    "papermill": {
     "duration": 0.015362,
     "end_time": "2021-04-23T02:14:34.886809",
     "exception": false,
     "start_time": "2021-04-23T02:14:34.871447",
     "status": "completed"
    },
    "tags": []
   },
   "source": [
    "# Kriptovaliutų naujienos"
   ]
  },
  {
   "cell_type": "code",
   "execution_count": 1,
   "id": "functioning-knowing",
   "metadata": {
    "execution": {
     "iopub.execute_input": "2021-04-23T02:14:34.922975Z",
     "iopub.status.busy": "2021-04-23T02:14:34.922316Z",
     "iopub.status.idle": "2021-04-23T02:14:36.381060Z",
     "shell.execute_reply": "2021-04-23T02:14:36.382475Z"
    },
    "papermill": {
     "duration": 1.483689,
     "end_time": "2021-04-23T02:14:36.382661",
     "exception": false,
     "start_time": "2021-04-23T02:14:34.898972",
     "status": "completed"
    },
    "tags": []
   },
   "outputs": [],
   "source": [
    "#hide_input\n",
    "import warnings\n",
    "warnings.filterwarnings('ignore')\n",
    "from scripts.read_data import read_api\n",
    "from scripts.read_data import read_news\n",
    "from scripts.read_data import read_covid\n",
    "import matplotlib.pyplot as plt \n",
    "from IPython.display import Markdown as md"
   ]
  },
  {
   "cell_type": "code",
   "execution_count": 2,
   "id": "shared-acceptance",
   "metadata": {
    "execution": {
     "iopub.execute_input": "2021-04-23T02:14:36.413632Z",
     "iopub.status.busy": "2021-04-23T02:14:36.412558Z",
     "iopub.status.idle": "2021-04-23T02:14:44.824417Z",
     "shell.execute_reply": "2021-04-23T02:14:44.823484Z"
    },
    "papermill": {
     "duration": 8.429994,
     "end_time": "2021-04-23T02:14:44.824570",
     "exception": false,
     "start_time": "2021-04-23T02:14:36.394576",
     "status": "completed"
    },
    "tags": []
   },
   "outputs": [],
   "source": [
    "#hide_input\n",
    "blockchain = read_news('blockchain') \n",
    "btc = read_news('btc') \n",
    "xrp = read_news('xrp') \n",
    "trx = read_news('trx') \n",
    "eth = read_news('eth')  \n",
    "ada = read_news('ada')\n",
    "exchange = read_news('exchange') "
   ]
  },
  {
   "cell_type": "code",
   "execution_count": 3,
   "id": "synthetic-notion",
   "metadata": {
    "execution": {
     "iopub.execute_input": "2021-04-23T02:14:44.855106Z",
     "iopub.status.busy": "2021-04-23T02:14:44.854477Z",
     "iopub.status.idle": "2021-04-23T02:14:44.860647Z",
     "shell.execute_reply": "2021-04-23T02:14:44.860098Z"
    },
    "papermill": {
     "duration": 0.024822,
     "end_time": "2021-04-23T02:14:44.860780",
     "exception": false,
     "start_time": "2021-04-23T02:14:44.835958",
     "status": "completed"
    },
    "tags": []
   },
   "outputs": [
    {
     "data": {
      "text/markdown": [
       "- How to make hodling worthwhile, explained.  Hodling can be a nerve-wracking experience — and if crypto is left to languish in a cold wallet for several years, it can also end up being an unrewarding one. ... [| Skaityti daugiau](https://cointelegraph.com/explained/how-to-make-hodling-worthwhile-explained) "
      ],
      "text/plain": [
       "<IPython.core.display.Markdown object>"
      ]
     },
     "execution_count": 3,
     "metadata": {},
     "output_type": "execute_result"
    }
   ],
   "source": [
    "#hide_input\n",
    "#md('##### {}'.format(titleBTC)) \n",
    "md(\"- {}{} {}{} [| Skaityti daugiau]({}) \".format(blockchain['title'],'. ', blockchain['body'], ' ...', blockchain['url']))"
   ]
  },
  {
   "cell_type": "code",
   "execution_count": 4,
   "id": "aging-caution",
   "metadata": {
    "execution": {
     "iopub.execute_input": "2021-04-23T02:14:44.896226Z",
     "iopub.status.busy": "2021-04-23T02:14:44.895586Z",
     "iopub.status.idle": "2021-04-23T02:14:44.899523Z",
     "shell.execute_reply": "2021-04-23T02:14:44.898972Z"
    },
    "papermill": {
     "duration": 0.02179,
     "end_time": "2021-04-23T02:14:44.899655",
     "exception": false,
     "start_time": "2021-04-23T02:14:44.877865",
     "status": "completed"
    },
    "tags": []
   },
   "outputs": [
    {
     "data": {
      "text/markdown": [
       "- Bitcoin Price Breakdown: Bulls In Trouble As $50,000 Is Lost.  Bitcoin price has been in free fall mode, plummeting sharply from $65,000 to now under $50,000 for the first time since March. Bitcoin Price Falls Under $50,000 Briefly Bulls at the moment have pushed Bitcoin price back up more than $1,200 as orders at $50,000 filled for the first time in a month. Related Reading [&#8230;] ... [| Skaityti daugiau](https://www.newsbtc.com/analysis/btc/bitcoin-price-50000-btc-bulls/) "
      ],
      "text/plain": [
       "<IPython.core.display.Markdown object>"
      ]
     },
     "execution_count": 4,
     "metadata": {},
     "output_type": "execute_result"
    }
   ],
   "source": [
    "#hide_input\n",
    "#md('##### {}'.format(titleBTC)) \n",
    "md(\"- {}{} {}{} [| Skaityti daugiau]({}) \".format(btc['title'],'. ', btc['body'], ' ...', btc['url']))"
   ]
  },
  {
   "cell_type": "code",
   "execution_count": 5,
   "id": "organic-actress",
   "metadata": {
    "execution": {
     "iopub.execute_input": "2021-04-23T02:14:44.929698Z",
     "iopub.status.busy": "2021-04-23T02:14:44.929065Z",
     "iopub.status.idle": "2021-04-23T02:14:44.932366Z",
     "shell.execute_reply": "2021-04-23T02:14:44.931749Z"
    },
    "papermill": {
     "duration": 0.020605,
     "end_time": "2021-04-23T02:14:44.932498",
     "exception": false,
     "start_time": "2021-04-23T02:14:44.911893",
     "status": "completed"
    },
    "tags": []
   },
   "outputs": [
    {
     "data": {
      "text/markdown": [
       "- Ethereum, Dogecoin, XRP Price Analysis: 22 April.  The altcoin market is striving for stability but only a few markets have been witnessing low volatility. The premier altcoin, Ethereum [ETH] has recovered from the weekend fall and has moved higher with low volatility, but Dogecoin [DOGE] and XRP markets have been witnessing a rise in volatility that could have a bearish impact. Ethereum [&#8230;] ... [| Skaityti daugiau](https://ambcrypto.com/ethereum-dogecoin-xrp-price-analysis-22-april/) "
      ],
      "text/plain": [
       "<IPython.core.display.Markdown object>"
      ]
     },
     "execution_count": 5,
     "metadata": {},
     "output_type": "execute_result"
    }
   ],
   "source": [
    "#hide_input\n",
    "#md('##### {}'.format(titleBTC)) \n",
    "md(\"- {}{} {}{} [| Skaityti daugiau]({}) \".format(xrp['title'],'. ', xrp['body'], ' ...', xrp['url']))"
   ]
  },
  {
   "cell_type": "code",
   "execution_count": 6,
   "id": "prompt-farmer",
   "metadata": {
    "execution": {
     "iopub.execute_input": "2021-04-23T02:14:44.967894Z",
     "iopub.status.busy": "2021-04-23T02:14:44.967145Z",
     "iopub.status.idle": "2021-04-23T02:14:44.969904Z",
     "shell.execute_reply": "2021-04-23T02:14:44.970423Z"
    },
    "papermill": {
     "duration": 0.022366,
     "end_time": "2021-04-23T02:14:44.970578",
     "exception": false,
     "start_time": "2021-04-23T02:14:44.948212",
     "status": "completed"
    },
    "tags": []
   },
   "outputs": [
    {
     "data": {
      "text/markdown": [
       "- TRX Price Analysis: TRX Uptrend Begins To Collapse After Smashing an Yearly High.  TRX is currently facing strong hindrances inside the $0.30 and $0.38 range. TRX seems to be forming a head and shoulder pattern on the daily chart. The token has recently broken out of a 3-year resistance. Looking upon the daily chart of TRX, it is perceived that this token is in the midst of forming [&#8230;] ... [| Skaityti daugiau](https://www.thecoinrepublic.com/2021/04/21/trx-price-analysis-trx-uptrend-begins-to-collapse-after-smashing-an-yearly-high/) "
      ],
      "text/plain": [
       "<IPython.core.display.Markdown object>"
      ]
     },
     "execution_count": 6,
     "metadata": {},
     "output_type": "execute_result"
    }
   ],
   "source": [
    "#hide_input\n",
    "#md('##### {}'.format(titleBTC)) \n",
    "md(\"- {}{} {}{} [| Skaityti daugiau]({}) \".format(trx['title'],'. ', trx['body'], ' ...', trx['url']))"
   ]
  },
  {
   "cell_type": "code",
   "execution_count": 7,
   "id": "illegal-greece",
   "metadata": {
    "execution": {
     "iopub.execute_input": "2021-04-23T02:14:45.001547Z",
     "iopub.status.busy": "2021-04-23T02:14:45.000911Z",
     "iopub.status.idle": "2021-04-23T02:14:45.004707Z",
     "shell.execute_reply": "2021-04-23T02:14:45.005251Z"
    },
    "papermill": {
     "duration": 0.021908,
     "end_time": "2021-04-23T02:14:45.005403",
     "exception": false,
     "start_time": "2021-04-23T02:14:44.983495",
     "status": "completed"
    },
    "tags": []
   },
   "outputs": [
    {
     "data": {
      "text/markdown": [
       "- Litecoin Prepares For Fresh Bull Momentum As Alt Season Cements.  Litecoin is currently trading at around $283, gaining 5.59% in the last 24 hours. LTC bulls are looking to hold the key support level for the coin at around $257 to prepare it for a fresh momentum. Light It Up: Litecoin Targets $420 Around Toking (Not Token) Holiday LTC price had a rough week falling [&#8230;] ... [| Skaityti daugiau](https://www.newsbtc.com/news/litecoin/litecoin-bull-momentum-alt-season/) "
      ],
      "text/plain": [
       "<IPython.core.display.Markdown object>"
      ]
     },
     "execution_count": 7,
     "metadata": {},
     "output_type": "execute_result"
    }
   ],
   "source": [
    "#hide_input\n",
    "#md('##### {}'.format(titleBTC)) \n",
    "md(\"- {}{} {}{} [| Skaityti daugiau]({}) \".format(eth['title'],'. ', eth['body'], ' ...', eth['url']))"
   ]
  },
  {
   "cell_type": "code",
   "execution_count": 8,
   "id": "sublime-lounge",
   "metadata": {
    "execution": {
     "iopub.execute_input": "2021-04-23T02:14:45.037237Z",
     "iopub.status.busy": "2021-04-23T02:14:45.036598Z",
     "iopub.status.idle": "2021-04-23T02:14:45.039794Z",
     "shell.execute_reply": "2021-04-23T02:14:45.040286Z"
    },
    "papermill": {
     "duration": 0.021783,
     "end_time": "2021-04-23T02:14:45.040435",
     "exception": false,
     "start_time": "2021-04-23T02:14:45.018652",
     "status": "completed"
    },
    "tags": []
   },
   "outputs": [
    {
     "data": {
      "text/markdown": [
       "- Cardano, Chainlink, Filecoin Price Analysis: 22 April.  The altcoin market has made a recovery from the downtrend witnessed over the weekend. Although the largest crypto, Bitcoin was still stumbling in a bearish market, altcoins have been rallying. Cardano [ADA], Chainlink [LINK], and Filecoin [FIL] have been reporting a tremendous recovery, even though the trends were changing in the market. Cardano [ADA] The [&#8230;] ... [| Skaityti daugiau](https://ambcrypto.com/cardano-chainlink-filecoin-price-analysis-22-april/) "
      ],
      "text/plain": [
       "<IPython.core.display.Markdown object>"
      ]
     },
     "execution_count": 8,
     "metadata": {},
     "output_type": "execute_result"
    }
   ],
   "source": [
    "#hide_input\n",
    "#md('##### {}'.format(titleBTC)) \n",
    "md(\"- {}{} {}{} [| Skaityti daugiau]({}) \".format(ada['title'],'. ', ada['body'], ' ...', ada['url']))"
   ]
  },
  {
   "cell_type": "code",
   "execution_count": 9,
   "id": "specified-ordering",
   "metadata": {
    "execution": {
     "iopub.execute_input": "2021-04-23T02:14:45.077294Z",
     "iopub.status.busy": "2021-04-23T02:14:45.076638Z",
     "iopub.status.idle": "2021-04-23T02:14:45.081526Z",
     "shell.execute_reply": "2021-04-23T02:14:45.082071Z"
    },
    "papermill": {
     "duration": 0.027243,
     "end_time": "2021-04-23T02:14:45.082234",
     "exception": false,
     "start_time": "2021-04-23T02:14:45.054991",
     "status": "completed"
    },
    "tags": []
   },
   "outputs": [
    {
     "data": {
      "text/markdown": [
       "- Investor who predicted a $400,000 Bitcoin is now calling for a 50% drop.  Scott Minerd, chief investment officer of famed investment firm Guggenheim Partners’, says Bitcoin (BTC) could see a 50% drop in the near term as it’s run ‘too far, too fast.’ He made the comments in an appearance on CNBC show Worldwide Exchange yesterday. The post Investor who predicted a $400,000 Bitcoin is now calling for a 50% drop appeared first on CryptoSlate. ... [| Skaityti daugiau](https://cryptoslate.com/investor-who-predicted-a-400000-bitcoin-is-now-calling-for-a-50-drop/) "
      ],
      "text/plain": [
       "<IPython.core.display.Markdown object>"
      ]
     },
     "execution_count": 9,
     "metadata": {},
     "output_type": "execute_result"
    }
   ],
   "source": [
    "#hide_input\n",
    "#md('##### {}'.format(titleBTC)) \n",
    "md(\"- {}{} {}{} [| Skaityti daugiau]({}) \".format(exchange['title'],'. ', exchange['body'], ' ...', exchange['url']))"
   ]
  },
  {
   "cell_type": "code",
   "execution_count": null,
   "id": "tender-livestock",
   "metadata": {
    "papermill": {
     "duration": 0.01429,
     "end_time": "2021-04-23T02:14:45.110726",
     "exception": false,
     "start_time": "2021-04-23T02:14:45.096436",
     "status": "completed"
    },
    "tags": []
   },
   "outputs": [],
   "source": []
  },
  {
   "cell_type": "code",
   "execution_count": null,
   "id": "appreciated-diamond",
   "metadata": {
    "papermill": {
     "duration": 0.01432,
     "end_time": "2021-04-23T02:14:45.139625",
     "exception": false,
     "start_time": "2021-04-23T02:14:45.125305",
     "status": "completed"
    },
    "tags": []
   },
   "outputs": [],
   "source": []
  },
  {
   "cell_type": "code",
   "execution_count": null,
   "id": "romance-sweden",
   "metadata": {
    "papermill": {
     "duration": 0.014004,
     "end_time": "2021-04-23T02:14:45.167469",
     "exception": false,
     "start_time": "2021-04-23T02:14:45.153465",
     "status": "completed"
    },
    "tags": []
   },
   "outputs": [],
   "source": []
  },
  {
   "cell_type": "code",
   "execution_count": null,
   "id": "dietary-statistics",
   "metadata": {
    "papermill": {
     "duration": 0.013864,
     "end_time": "2021-04-23T02:14:45.195558",
     "exception": false,
     "start_time": "2021-04-23T02:14:45.181694",
     "status": "completed"
    },
    "tags": []
   },
   "outputs": [],
   "source": []
  }
 ],
 "metadata": {
  "kernelspec": {
   "display_name": "Python 3",
   "language": "python",
   "name": "python3"
  },
  "language_info": {
   "codemirror_mode": {
    "name": "ipython",
    "version": 3
   },
   "file_extension": ".py",
   "mimetype": "text/x-python",
   "name": "python",
   "nbconvert_exporter": "python",
   "pygments_lexer": "ipython3",
   "version": "3.6.13"
  },
  "papermill": {
   "default_parameters": {},
   "duration": 12.153622,
   "end_time": "2021-04-23T02:14:45.717624",
   "environment_variables": {},
   "exception": null,
   "input_path": "Market-News.ipynb",
   "output_path": "Market-News.ipynb",
   "parameters": {},
   "start_time": "2021-04-23T02:14:33.564002",
   "version": "2.2.2"
  }
 },
 "nbformat": 4,
 "nbformat_minor": 5
}