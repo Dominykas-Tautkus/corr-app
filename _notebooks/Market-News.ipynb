{
 "cells": [
  {
   "cell_type": "markdown",
   "metadata": {
    "papermill": {
     "duration": 0.014158,
     "end_time": "2021-01-16T13:53:19.583173",
     "exception": false,
     "start_time": "2021-01-16T13:53:19.569015",
     "status": "completed"
    },
    "tags": []
   },
   "source": [
    "# Kriptovaliutų naujienos"
   ]
  },
  {
   "cell_type": "code",
   "execution_count": 1,
   "metadata": {
    "execution": {
     "iopub.execute_input": "2021-01-16T13:53:19.612689Z",
     "iopub.status.busy": "2021-01-16T13:53:19.612061Z",
     "iopub.status.idle": "2021-01-16T13:53:20.888188Z",
     "shell.execute_reply": "2021-01-16T13:53:20.887385Z"
    },
    "papermill": {
     "duration": 1.29691,
     "end_time": "2021-01-16T13:53:20.888410",
     "exception": false,
     "start_time": "2021-01-16T13:53:19.591500",
     "status": "completed"
    },
    "tags": []
   },
   "outputs": [],
   "source": [
    "#hide_input\n",
    "import warnings\n",
    "warnings.filterwarnings('ignore')\n",
    "from scripts.read_data import read_api\n",
    "from scripts.read_data import read_news\n",
    "from scripts.read_data import read_covid\n",
    "import matplotlib.pyplot as plt \n",
    "from IPython.display import Markdown as md"
   ]
  },
  {
   "cell_type": "code",
   "execution_count": 2,
   "metadata": {
    "execution": {
     "iopub.execute_input": "2021-01-16T13:53:20.914752Z",
     "iopub.status.busy": "2021-01-16T13:53:20.914158Z",
     "iopub.status.idle": "2021-01-16T13:53:28.125296Z",
     "shell.execute_reply": "2021-01-16T13:53:28.126164Z"
    },
    "papermill": {
     "duration": 7.227404,
     "end_time": "2021-01-16T13:53:28.126428",
     "exception": false,
     "start_time": "2021-01-16T13:53:20.899024",
     "status": "completed"
    },
    "tags": []
   },
   "outputs": [],
   "source": [
    "#hide_input\n",
    "blockchain = read_news('blockchain') \n",
    "btc = read_news('btc') \n",
    "xrp = read_news('xrp') \n",
    "trx = read_news('trx') \n",
    "eth = read_news('eth')  \n",
    "ada = read_news('ada')\n",
    "exchange = read_news('exchange') "
   ]
  },
  {
   "cell_type": "code",
   "execution_count": 3,
   "metadata": {
    "execution": {
     "iopub.execute_input": "2021-01-16T13:53:28.150493Z",
     "iopub.status.busy": "2021-01-16T13:53:28.149891Z",
     "iopub.status.idle": "2021-01-16T13:53:28.153805Z",
     "shell.execute_reply": "2021-01-16T13:53:28.154249Z"
    },
    "papermill": {
     "duration": 0.018178,
     "end_time": "2021-01-16T13:53:28.154381",
     "exception": false,
     "start_time": "2021-01-16T13:53:28.136203",
     "status": "completed"
    },
    "tags": []
   },
   "outputs": [
    {
     "data": {
      "text/markdown": [
       "- Emerging DeFi Project Router Protocol Raises Seed Funding, To Launch Cross-Chain Farming Soon.  An upcoming DeFi project positioning itself as the best cross-chain liquidity aggregator, Router Protocol has announced a successful conclusion of its first seed funding round. The project has raised a total of $ 480,000 from a prominent consortium comprising of crypto, fintech and DeFi investors based out of Singapore, India and the US. The Router [&#8230;] ... [| Skaityti daugiau](https://www.newsbtc.com/news/company/emerging-defi-project-router-protocol-raises-seed-funding-to-launch-cross-chain-farming-soon/) "
      ],
      "text/plain": [
       "<IPython.core.display.Markdown object>"
      ]
     },
     "execution_count": 3,
     "metadata": {},
     "output_type": "execute_result"
    }
   ],
   "source": [
    "#hide_input\n",
    "#md('##### {}'.format(titleBTC)) \n",
    "md(\"- {}{} {}{} [| Skaityti daugiau]({}) \".format(blockchain['title'],'. ', blockchain['body'], ' ...', blockchain['url']))"
   ]
  },
  {
   "cell_type": "code",
   "execution_count": 4,
   "metadata": {
    "execution": {
     "iopub.execute_input": "2021-01-16T13:53:28.175369Z",
     "iopub.status.busy": "2021-01-16T13:53:28.174782Z",
     "iopub.status.idle": "2021-01-16T13:53:28.176764Z",
     "shell.execute_reply": "2021-01-16T13:53:28.177325Z"
    },
    "papermill": {
     "duration": 0.015173,
     "end_time": "2021-01-16T13:53:28.177450",
     "exception": false,
     "start_time": "2021-01-16T13:53:28.162277",
     "status": "completed"
    },
    "tags": []
   },
   "outputs": [
    {
     "data": {
      "text/markdown": [
       "- Peak fear? Bitcoin futures leverage gets reset by this week's wild price swings.  Bitcoin futures leverage is dropping steeply, indicating that traders are fearful or uncertain about the BTC price trend. ... [| Skaityti daugiau](https://cointelegraph.com/news/peak-fear-bitcoin-futures-leverage-gets-reset-by-this-week-s-wild-price-swings) "
      ],
      "text/plain": [
       "<IPython.core.display.Markdown object>"
      ]
     },
     "execution_count": 4,
     "metadata": {},
     "output_type": "execute_result"
    }
   ],
   "source": [
    "#hide_input\n",
    "#md('##### {}'.format(titleBTC)) \n",
    "md(\"- {}{} {}{} [| Skaityti daugiau]({}) \".format(btc['title'],'. ', btc['body'], ' ...', btc['url']))"
   ]
  },
  {
   "cell_type": "code",
   "execution_count": 5,
   "metadata": {
    "execution": {
     "iopub.execute_input": "2021-01-16T13:53:28.197014Z",
     "iopub.status.busy": "2021-01-16T13:53:28.196473Z",
     "iopub.status.idle": "2021-01-16T13:53:28.201037Z",
     "shell.execute_reply": "2021-01-16T13:53:28.201485Z"
    },
    "papermill": {
     "duration": 0.015973,
     "end_time": "2021-01-16T13:53:28.201645",
     "exception": false,
     "start_time": "2021-01-16T13:53:28.185672",
     "status": "completed"
    },
    "tags": []
   },
   "outputs": [
    {
     "data": {
      "text/markdown": [
       "- Kraken Halts XRP Trading For US Users Following The SEC Charges.  The list of cryptocurrency exchanges to halt XRP trading from its services for US citizens continues to grow with the addition of Kraken. ... [| Skaityti daugiau](https://cryptopotato.com/kraken-halts-xrp-trading-for-us-users-following-the-sec-charges/) "
      ],
      "text/plain": [
       "<IPython.core.display.Markdown object>"
      ]
     },
     "execution_count": 5,
     "metadata": {},
     "output_type": "execute_result"
    }
   ],
   "source": [
    "#hide_input\n",
    "#md('##### {}'.format(titleBTC)) \n",
    "md(\"- {}{} {}{} [| Skaityti daugiau]({}) \".format(xrp['title'],'. ', xrp['body'], ' ...', xrp['url']))"
   ]
  },
  {
   "cell_type": "code",
   "execution_count": 6,
   "metadata": {
    "execution": {
     "iopub.execute_input": "2021-01-16T13:53:28.225987Z",
     "iopub.status.busy": "2021-01-16T13:53:28.225373Z",
     "iopub.status.idle": "2021-01-16T13:53:28.227946Z",
     "shell.execute_reply": "2021-01-16T13:53:28.227448Z"
    },
    "papermill": {
     "duration": 0.017117,
     "end_time": "2021-01-16T13:53:28.228065",
     "exception": false,
     "start_time": "2021-01-16T13:53:28.210948",
     "status": "completed"
    },
    "tags": []
   },
   "outputs": [
    {
     "data": {
      "text/markdown": [
       "- Tron, Ethereum Classic, IOST Price Analysis: 15 January.  Tron faced resistance from a horizontal level, as well as from a Gann fan line, and was likely to see a rejection at the level of resistance. Ethereum Classic dipped towards $7.5, but can defend it and register a northbound move while IOST was poised to surge past a level of resistance following strong bullish [&#8230;] ... [| Skaityti daugiau](https://ambcrypto.com/tron-ethereum-classic-iost-price-analysis-15-january/) "
      ],
      "text/plain": [
       "<IPython.core.display.Markdown object>"
      ]
     },
     "execution_count": 6,
     "metadata": {},
     "output_type": "execute_result"
    }
   ],
   "source": [
    "#hide_input\n",
    "#md('##### {}'.format(titleBTC)) \n",
    "md(\"- {}{} {}{} [| Skaityti daugiau]({}) \".format(trx['title'],'. ', trx['body'], ' ...', trx['url']))"
   ]
  },
  {
   "cell_type": "code",
   "execution_count": 7,
   "metadata": {
    "execution": {
     "iopub.execute_input": "2021-01-16T13:53:28.252309Z",
     "iopub.status.busy": "2021-01-16T13:53:28.251730Z",
     "iopub.status.idle": "2021-01-16T13:53:28.256861Z",
     "shell.execute_reply": "2021-01-16T13:53:28.256367Z"
    },
    "papermill": {
     "duration": 0.019001,
     "end_time": "2021-01-16T13:53:28.256983",
     "exception": false,
     "start_time": "2021-01-16T13:53:28.237982",
     "status": "completed"
    },
    "tags": []
   },
   "outputs": [
    {
     "data": {
      "text/markdown": [
       "- Bloomberg: Imperative for Bitcoin (BTC) to Surge If Ethereum (ETH) Has to Cross $1300.  Bitcoin (BTC) and Ethereum (ETH) have slowly covered up the lost ground after their tumultuous price fluctuations on Friday, January 15. Off lately, the world&#8217;s two biggest cryptocurrencies have been moving in tandem with each other. Bloomberg analyst Mike McGlone writes that Ethereum (ETH) is currently eyeing levels above $1300 as long as BTC continues The post Bloomberg: Imperative for Bitcoin (BTC) to Surge If Ethereum (ETH) Has to Cross $1300 appeared first on Coingape. ... [| Skaityti daugiau](https://coingape.com/bloomberg-imperative-for-bitcoin-btc-to-surge-if-ethereum-eth-has-to-cross-1300/) "
      ],
      "text/plain": [
       "<IPython.core.display.Markdown object>"
      ]
     },
     "execution_count": 7,
     "metadata": {},
     "output_type": "execute_result"
    }
   ],
   "source": [
    "#hide_input\n",
    "#md('##### {}'.format(titleBTC)) \n",
    "md(\"- {}{} {}{} [| Skaityti daugiau]({}) \".format(eth['title'],'. ', eth['body'], ' ...', eth['url']))"
   ]
  },
  {
   "cell_type": "code",
   "execution_count": 8,
   "metadata": {
    "execution": {
     "iopub.execute_input": "2021-01-16T13:53:28.283018Z",
     "iopub.status.busy": "2021-01-16T13:53:28.282432Z",
     "iopub.status.idle": "2021-01-16T13:53:28.286074Z",
     "shell.execute_reply": "2021-01-16T13:53:28.285591Z"
    },
    "papermill": {
     "duration": 0.019095,
     "end_time": "2021-01-16T13:53:28.286198",
     "exception": false,
     "start_time": "2021-01-16T13:53:28.267103",
     "status": "completed"
    },
    "tags": []
   },
   "outputs": [
    {
     "data": {
      "text/markdown": [
       "- Cardano Wants to Help Twitter Decentralize Social Media.   ... [| Skaityti daugiau](https://cryptobriefing.com/cardano-twitter-decentralized-social-media/) "
      ],
      "text/plain": [
       "<IPython.core.display.Markdown object>"
      ]
     },
     "execution_count": 8,
     "metadata": {},
     "output_type": "execute_result"
    }
   ],
   "source": [
    "#hide_input\n",
    "#md('##### {}'.format(titleBTC)) \n",
    "md(\"- {}{} {}{} [| Skaityti daugiau]({}) \".format(ada['title'],'. ', ada['body'], ' ...', ada['url']))"
   ]
  },
  {
   "cell_type": "code",
   "execution_count": 9,
   "metadata": {
    "execution": {
     "iopub.execute_input": "2021-01-16T13:53:28.312703Z",
     "iopub.status.busy": "2021-01-16T13:53:28.312127Z",
     "iopub.status.idle": "2021-01-16T13:53:28.315596Z",
     "shell.execute_reply": "2021-01-16T13:53:28.315106Z"
    },
    "papermill": {
     "duration": 0.01905,
     "end_time": "2021-01-16T13:53:28.315713",
     "exception": false,
     "start_time": "2021-01-16T13:53:28.296663",
     "status": "completed"
    },
    "tags": []
   },
   "outputs": [
    {
     "data": {
      "text/markdown": [
       "- Binance Coin, STEEM, Compound Price Analysis: 16 January.  Binance Coin appeared to be forming a bullish pattern that wasn&#8217;t yet confirmed, but it could see a breakout in the coming days towards the $45-mark. STEEM bounced off a level of support as it rose towards a level of resistance once more. Finally, Compound was making steady gains as it breached $200 and looked [&#8230;] ... [| Skaityti daugiau](https://ambcrypto.com/binance-coin-steem-compound-price-analysis-16-january/) "
      ],
      "text/plain": [
       "<IPython.core.display.Markdown object>"
      ]
     },
     "execution_count": 9,
     "metadata": {},
     "output_type": "execute_result"
    }
   ],
   "source": [
    "#hide_input\n",
    "#md('##### {}'.format(titleBTC)) \n",
    "md(\"- {}{} {}{} [| Skaityti daugiau]({}) \".format(exchange['title'],'. ', exchange['body'], ' ...', exchange['url']))"
   ]
  },
  {
   "cell_type": "code",
   "execution_count": null,
   "metadata": {
    "papermill": {
     "duration": 0.010748,
     "end_time": "2021-01-16T13:53:28.337271",
     "exception": false,
     "start_time": "2021-01-16T13:53:28.326523",
     "status": "completed"
    },
    "tags": []
   },
   "outputs": [],
   "source": []
  },
  {
   "cell_type": "code",
   "execution_count": null,
   "metadata": {
    "papermill": {
     "duration": 0.011258,
     "end_time": "2021-01-16T13:53:28.359462",
     "exception": false,
     "start_time": "2021-01-16T13:53:28.348204",
     "status": "completed"
    },
    "tags": []
   },
   "outputs": [],
   "source": []
  },
  {
   "cell_type": "code",
   "execution_count": null,
   "metadata": {
    "papermill": {
     "duration": 0.011448,
     "end_time": "2021-01-16T13:53:28.381343",
     "exception": false,
     "start_time": "2021-01-16T13:53:28.369895",
     "status": "completed"
    },
    "tags": []
   },
   "outputs": [],
   "source": []
  }
 ],
 "metadata": {
  "kernelspec": {
   "display_name": "Python 3",
   "language": "python",
   "name": "python3"
  },
  "language_info": {
   "codemirror_mode": {
    "name": "ipython",
    "version": 3
   },
   "file_extension": ".py",
   "mimetype": "text/x-python",
   "name": "python",
   "nbconvert_exporter": "python",
   "pygments_lexer": "ipython3",
   "version": "3.6.12"
  },
  "papermill": {
   "default_parameters": {},
   "duration": 10.299808,
   "end_time": "2021-01-16T13:53:28.799434",
   "environment_variables": {},
   "exception": null,
   "input_path": "Market-News.ipynb",
   "output_path": "Market-News.ipynb",
   "parameters": {},
   "start_time": "2021-01-16T13:53:18.499626",
   "version": "2.2.2"
  }
 },
 "nbformat": 4,
 "nbformat_minor": 4
}