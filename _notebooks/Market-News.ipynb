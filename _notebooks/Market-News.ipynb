{
 "cells": [
  {
   "cell_type": "markdown",
   "id": "short-greensboro",
   "metadata": {
    "papermill": {
     "duration": 0.01241,
     "end_time": "2021-02-05T01:38:24.084820",
     "exception": false,
     "start_time": "2021-02-05T01:38:24.072410",
     "status": "completed"
    },
    "tags": []
   },
   "source": [
    "# Kriptovaliutų naujienos"
   ]
  },
  {
   "cell_type": "code",
   "execution_count": 1,
   "id": "functioning-knowing",
   "metadata": {
    "execution": {
     "iopub.execute_input": "2021-02-05T01:38:24.113898Z",
     "iopub.status.busy": "2021-02-05T01:38:24.113367Z",
     "iopub.status.idle": "2021-02-05T01:38:25.168512Z",
     "shell.execute_reply": "2021-02-05T01:38:25.167691Z"
    },
    "papermill": {
     "duration": 1.074179,
     "end_time": "2021-02-05T01:38:25.168656",
     "exception": false,
     "start_time": "2021-02-05T01:38:24.094477",
     "status": "completed"
    },
    "tags": []
   },
   "outputs": [],
   "source": [
    "#hide_input\n",
    "import warnings\n",
    "warnings.filterwarnings('ignore')\n",
    "from scripts.read_data import read_api\n",
    "from scripts.read_data import read_news\n",
    "from scripts.read_data import read_covid\n",
    "import matplotlib.pyplot as plt \n",
    "from IPython.display import Markdown as md"
   ]
  },
  {
   "cell_type": "code",
   "execution_count": 2,
   "id": "shared-acceptance",
   "metadata": {
    "execution": {
     "iopub.execute_input": "2021-02-05T01:38:25.189927Z",
     "iopub.status.busy": "2021-02-05T01:38:25.189390Z",
     "iopub.status.idle": "2021-02-05T01:38:32.831876Z",
     "shell.execute_reply": "2021-02-05T01:38:32.832307Z"
    },
    "papermill": {
     "duration": 7.655657,
     "end_time": "2021-02-05T01:38:32.832460",
     "exception": false,
     "start_time": "2021-02-05T01:38:25.176803",
     "status": "completed"
    },
    "tags": []
   },
   "outputs": [],
   "source": [
    "#hide_input\n",
    "blockchain = read_news('blockchain') \n",
    "btc = read_news('btc') \n",
    "xrp = read_news('xrp') \n",
    "trx = read_news('trx') \n",
    "eth = read_news('eth')  \n",
    "ada = read_news('ada')\n",
    "exchange = read_news('exchange') "
   ]
  },
  {
   "cell_type": "code",
   "execution_count": 3,
   "id": "synthetic-notion",
   "metadata": {
    "execution": {
     "iopub.execute_input": "2021-02-05T01:38:32.857218Z",
     "iopub.status.busy": "2021-02-05T01:38:32.856752Z",
     "iopub.status.idle": "2021-02-05T01:38:32.860905Z",
     "shell.execute_reply": "2021-02-05T01:38:32.860545Z"
    },
    "papermill": {
     "duration": 0.018714,
     "end_time": "2021-02-05T01:38:32.861013",
     "exception": false,
     "start_time": "2021-02-05T01:38:32.842299",
     "status": "completed"
    },
    "tags": []
   },
   "outputs": [
    {
     "data": {
      "text/markdown": [
       "- LL Cool J and Paul Tudor Jones back $72M crypto fund.  The fund has already invested in a number of blockchain projects including Dapper Labs, Axelar and Nori. ... [| Skaityti daugiau](https://cointelegraph.com/news/ll-cool-j-and-paul-tudor-jones-back-72m-crypto-fund) "
      ],
      "text/plain": [
       "<IPython.core.display.Markdown object>"
      ]
     },
     "execution_count": 3,
     "metadata": {},
     "output_type": "execute_result"
    }
   ],
   "source": [
    "#hide_input\n",
    "#md('##### {}'.format(titleBTC)) \n",
    "md(\"- {}{} {}{} [| Skaityti daugiau]({}) \".format(blockchain['title'],'. ', blockchain['body'], ' ...', blockchain['url']))"
   ]
  },
  {
   "cell_type": "code",
   "execution_count": 4,
   "id": "aging-caution",
   "metadata": {
    "execution": {
     "iopub.execute_input": "2021-02-05T01:38:32.881918Z",
     "iopub.status.busy": "2021-02-05T01:38:32.881467Z",
     "iopub.status.idle": "2021-02-05T01:38:32.884385Z",
     "shell.execute_reply": "2021-02-05T01:38:32.884801Z"
    },
    "papermill": {
     "duration": 0.015802,
     "end_time": "2021-02-05T01:38:32.884921",
     "exception": false,
     "start_time": "2021-02-05T01:38:32.869119",
     "status": "completed"
    },
    "tags": []
   },
   "outputs": [
    {
     "data": {
      "text/markdown": [
       "- Spanish Treasury Releases Guidelines to Minimize the Risk of Tax Evasion With Cryptocurrencies.  The State Agency for Tax Administration of Spain published guidelines to reduce tax evasion for cryptocurrencies, such as bitcoin. The document is part of the general program of the so-called Annual Tax and Customs Control Plan. Spanish Tax Authorities Could Ask Local Exchanges for Customers Data According to the paper, the Spanish Treasury&#8217;s entity seeks [&#8230;] ... [| Skaityti daugiau](https://news.bitcoin.com/spanish-treasury-releases-guidelines-to-minimize-the-risk-of-tax-evasion-with-cryptocurrencies/) "
      ],
      "text/plain": [
       "<IPython.core.display.Markdown object>"
      ]
     },
     "execution_count": 4,
     "metadata": {},
     "output_type": "execute_result"
    }
   ],
   "source": [
    "#hide_input\n",
    "#md('##### {}'.format(titleBTC)) \n",
    "md(\"- {}{} {}{} [| Skaityti daugiau]({}) \".format(btc['title'],'. ', btc['body'], ' ...', btc['url']))"
   ]
  },
  {
   "cell_type": "code",
   "execution_count": 5,
   "id": "organic-actress",
   "metadata": {
    "execution": {
     "iopub.execute_input": "2021-02-05T01:38:32.906059Z",
     "iopub.status.busy": "2021-02-05T01:38:32.905615Z",
     "iopub.status.idle": "2021-02-05T01:38:32.909353Z",
     "shell.execute_reply": "2021-02-05T01:38:32.908994Z"
    },
    "papermill": {
     "duration": 0.01614,
     "end_time": "2021-02-05T01:38:32.909453",
     "exception": false,
     "start_time": "2021-02-05T01:38:32.893313",
     "status": "completed"
    },
    "tags": []
   },
   "outputs": [
    {
     "data": {
      "text/markdown": [
       "- Former SEC Exec: There Is ‘A Good Chance’ SEC Loses Lawsuit Against Ripple Over XRP.  In a recent interview, Joseph A. Hall, a former executive at the U.S. Securities and Exchange Commission (SEC), explained why “there’s a good chance” his former employer loses its lawsuit against Ripple Labs. Hall has been partner in U.S. law firm Davis Polk since September 2005. Before that, between October 2003 and June 2005, he was […] ... [| Skaityti daugiau](https://www.cryptoglobe.com/latest/2021/02/former-sec-exec-there-is-a-good-chance-sec-loses-lawsuit-against-ripple-over-xrp/) "
      ],
      "text/plain": [
       "<IPython.core.display.Markdown object>"
      ]
     },
     "execution_count": 5,
     "metadata": {},
     "output_type": "execute_result"
    }
   ],
   "source": [
    "#hide_input\n",
    "#md('##### {}'.format(titleBTC)) \n",
    "md(\"- {}{} {}{} [| Skaityti daugiau]({}) \".format(xrp['title'],'. ', xrp['body'], ' ...', xrp['url']))"
   ]
  },
  {
   "cell_type": "code",
   "execution_count": 6,
   "id": "prompt-farmer",
   "metadata": {
    "execution": {
     "iopub.execute_input": "2021-02-05T01:38:32.931071Z",
     "iopub.status.busy": "2021-02-05T01:38:32.930620Z",
     "iopub.status.idle": "2021-02-05T01:38:32.933600Z",
     "shell.execute_reply": "2021-02-05T01:38:32.933239Z"
    },
    "papermill": {
     "duration": 0.01557,
     "end_time": "2021-02-05T01:38:32.933702",
     "exception": false,
     "start_time": "2021-02-05T01:38:32.918132",
     "status": "completed"
    },
    "tags": []
   },
   "outputs": [
    {
     "data": {
      "text/markdown": [
       "- Cardano, Tron, FTX Token Price Analysis: 04 February.  Cardano broke out to the upside of $0.366 and was trading at $0.43 at the time of writing. Tron was consolidating underneath a level of resistance, and FTX Token had bullish momentum behind it that could propel the prices to $15.5. Cardano [ADA] Cardano was trading at $0.305 last week, a level of support that [&#8230;] ... [| Skaityti daugiau](https://ambcrypto.com/cardano-tron-ftx-token-price-analysis-04-february/) "
      ],
      "text/plain": [
       "<IPython.core.display.Markdown object>"
      ]
     },
     "execution_count": 6,
     "metadata": {},
     "output_type": "execute_result"
    }
   ],
   "source": [
    "#hide_input\n",
    "#md('##### {}'.format(titleBTC)) \n",
    "md(\"- {}{} {}{} [| Skaityti daugiau]({}) \".format(trx['title'],'. ', trx['body'], ' ...', trx['url']))"
   ]
  },
  {
   "cell_type": "code",
   "execution_count": 7,
   "id": "illegal-greece",
   "metadata": {
    "execution": {
     "iopub.execute_input": "2021-02-05T01:38:32.955533Z",
     "iopub.status.busy": "2021-02-05T01:38:32.954831Z",
     "iopub.status.idle": "2021-02-05T01:38:32.958422Z",
     "shell.execute_reply": "2021-02-05T01:38:32.958045Z"
    },
    "papermill": {
     "duration": 0.015814,
     "end_time": "2021-02-05T01:38:32.958527",
     "exception": false,
     "start_time": "2021-02-05T01:38:32.942713",
     "status": "completed"
    },
    "tags": []
   },
   "outputs": [
    {
     "data": {
      "text/markdown": [
       "- MEW now provides access to 2000 DeFi and NFT DApps on mobile.  Striving to become Ethereum’s DApp hub, MyEtherWallet users can now search for and access the entire suite of Ethereum DApps within their MEW app. ... [| Skaityti daugiau](https://cointelegraph.com/news/mew-now-provides-access-to-2000-defi-and-nft-dapps-on-mobile) "
      ],
      "text/plain": [
       "<IPython.core.display.Markdown object>"
      ]
     },
     "execution_count": 7,
     "metadata": {},
     "output_type": "execute_result"
    }
   ],
   "source": [
    "#hide_input\n",
    "#md('##### {}'.format(titleBTC)) \n",
    "md(\"- {}{} {}{} [| Skaityti daugiau]({}) \".format(eth['title'],'. ', eth['body'], ' ...', eth['url']))"
   ]
  },
  {
   "cell_type": "code",
   "execution_count": 8,
   "id": "sublime-lounge",
   "metadata": {
    "execution": {
     "iopub.execute_input": "2021-02-05T01:38:32.981175Z",
     "iopub.status.busy": "2021-02-05T01:38:32.980275Z",
     "iopub.status.idle": "2021-02-05T01:38:32.983968Z",
     "shell.execute_reply": "2021-02-05T01:38:32.983609Z"
    },
    "papermill": {
     "duration": 0.016332,
     "end_time": "2021-02-05T01:38:32.984074",
     "exception": false,
     "start_time": "2021-02-05T01:38:32.967742",
     "status": "completed"
    },
    "tags": []
   },
   "outputs": [
    {
     "data": {
      "text/markdown": [
       "- Cardano Upgrades On Its Way To Offer Better Tokenization Than Ethereum.  Source: Adobe/SkórzewiakThe Cardano (ADA) testnet is officially in the multi-asset era, announced Cardano development firm IOHK. On February 3, at 20:20 UTC, &quot;we successfully forked &amp; applied the Goguen 'Mary' native token upgrade. Next stop mainnet, by the end of the month,&quot; tweeted IOHK after the event.The time of the hard fork was announced the same day, stating that the ... [| Skaityti daugiau](https://cryptonews.com/news/cardano-upgrades-on-its-way-to-offer-better-tokenization-tha-9127.htm) "
      ],
      "text/plain": [
       "<IPython.core.display.Markdown object>"
      ]
     },
     "execution_count": 8,
     "metadata": {},
     "output_type": "execute_result"
    }
   ],
   "source": [
    "#hide_input\n",
    "#md('##### {}'.format(titleBTC)) \n",
    "md(\"- {}{} {}{} [| Skaityti daugiau]({}) \".format(ada['title'],'. ', ada['body'], ' ...', ada['url']))"
   ]
  },
  {
   "cell_type": "code",
   "execution_count": 9,
   "id": "specified-ordering",
   "metadata": {
    "execution": {
     "iopub.execute_input": "2021-02-05T01:38:33.006890Z",
     "iopub.status.busy": "2021-02-05T01:38:33.006197Z",
     "iopub.status.idle": "2021-02-05T01:38:33.009312Z",
     "shell.execute_reply": "2021-02-05T01:38:33.009669Z"
    },
    "papermill": {
     "duration": 0.016208,
     "end_time": "2021-02-05T01:38:33.009783",
     "exception": false,
     "start_time": "2021-02-05T01:38:32.993575",
     "status": "completed"
    },
    "tags": []
   },
   "outputs": [
    {
     "data": {
      "text/markdown": [
       "- Former SEC Exec: There Is ‘A Good Chance’ SEC Loses Lawsuit Against Ripple Over XRP.  In a recent interview, Joseph A. Hall, a former executive at the U.S. Securities and Exchange Commission (SEC), explained why “there’s a good chance” his former employer loses its lawsuit against Ripple Labs. Hall has been partner in U.S. law firm Davis Polk since September 2005. Before that, between October 2003 and June 2005, he was […] ... [| Skaityti daugiau](https://www.cryptoglobe.com/latest/2021/02/former-sec-exec-there-is-a-good-chance-sec-loses-lawsuit-against-ripple-over-xrp/) "
      ],
      "text/plain": [
       "<IPython.core.display.Markdown object>"
      ]
     },
     "execution_count": 9,
     "metadata": {},
     "output_type": "execute_result"
    }
   ],
   "source": [
    "#hide_input\n",
    "#md('##### {}'.format(titleBTC)) \n",
    "md(\"- {}{} {}{} [| Skaityti daugiau]({}) \".format(exchange['title'],'. ', exchange['body'], ' ...', exchange['url']))"
   ]
  },
  {
   "cell_type": "code",
   "execution_count": null,
   "id": "tender-livestock",
   "metadata": {
    "papermill": {
     "duration": 0.009719,
     "end_time": "2021-02-05T01:38:33.029253",
     "exception": false,
     "start_time": "2021-02-05T01:38:33.019534",
     "status": "completed"
    },
    "tags": []
   },
   "outputs": [],
   "source": []
  },
  {
   "cell_type": "code",
   "execution_count": null,
   "id": "appreciated-diamond",
   "metadata": {
    "papermill": {
     "duration": 0.010666,
     "end_time": "2021-02-05T01:38:33.049681",
     "exception": false,
     "start_time": "2021-02-05T01:38:33.039015",
     "status": "completed"
    },
    "tags": []
   },
   "outputs": [],
   "source": []
  },
  {
   "cell_type": "code",
   "execution_count": null,
   "id": "romance-sweden",
   "metadata": {
    "papermill": {
     "duration": 0.009709,
     "end_time": "2021-02-05T01:38:33.069444",
     "exception": false,
     "start_time": "2021-02-05T01:38:33.059735",
     "status": "completed"
    },
    "tags": []
   },
   "outputs": [],
   "source": []
  },
  {
   "cell_type": "code",
   "execution_count": null,
   "id": "dietary-statistics",
   "metadata": {
    "papermill": {
     "duration": 0.00972,
     "end_time": "2021-02-05T01:38:33.088972",
     "exception": false,
     "start_time": "2021-02-05T01:38:33.079252",
     "status": "completed"
    },
    "tags": []
   },
   "outputs": [],
   "source": []
  }
 ],
 "metadata": {
  "kernelspec": {
   "display_name": "Python 3",
   "language": "python",
   "name": "python3"
  },
  "language_info": {
   "codemirror_mode": {
    "name": "ipython",
    "version": 3
   },
   "file_extension": ".py",
   "mimetype": "text/x-python",
   "name": "python",
   "nbconvert_exporter": "python",
   "pygments_lexer": "ipython3",
   "version": "3.6.12"
  },
  "papermill": {
   "default_parameters": {},
   "duration": 11.267754,
   "end_time": "2021-02-05T01:38:34.312589",
   "environment_variables": {},
   "exception": null,
   "input_path": "Market-News.ipynb",
   "output_path": "Market-News.ipynb",
   "parameters": {},
   "start_time": "2021-02-05T01:38:23.044835",
   "version": "2.2.2"
  }
 },
 "nbformat": 4,
 "nbformat_minor": 5
}