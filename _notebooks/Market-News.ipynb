{
 "cells": [
  {
   "cell_type": "markdown",
   "id": "short-greensboro",
   "metadata": {
    "papermill": {
     "duration": 0.017934,
     "end_time": "2021-05-19T02:15:31.186942",
     "exception": false,
     "start_time": "2021-05-19T02:15:31.169008",
     "status": "completed"
    },
    "tags": []
   },
   "source": [
    "# Kriptovaliutų naujienos"
   ]
  },
  {
   "cell_type": "code",
   "execution_count": 1,
   "id": "functioning-knowing",
   "metadata": {
    "execution": {
     "iopub.execute_input": "2021-05-19T02:15:31.223375Z",
     "iopub.status.busy": "2021-05-19T02:15:31.222722Z",
     "iopub.status.idle": "2021-05-19T02:15:32.573487Z",
     "shell.execute_reply": "2021-05-19T02:15:32.572327Z"
    },
    "papermill": {
     "duration": 1.375677,
     "end_time": "2021-05-19T02:15:32.573654",
     "exception": false,
     "start_time": "2021-05-19T02:15:31.197977",
     "status": "completed"
    },
    "tags": []
   },
   "outputs": [],
   "source": [
    "#hide_input\n",
    "import warnings\n",
    "warnings.filterwarnings('ignore')\n",
    "from scripts.read_data import read_api\n",
    "from scripts.read_data import read_news\n",
    "from scripts.read_data import read_covid\n",
    "import matplotlib.pyplot as plt \n",
    "from IPython.display import Markdown as md"
   ]
  },
  {
   "cell_type": "code",
   "execution_count": 2,
   "id": "shared-acceptance",
   "metadata": {
    "execution": {
     "iopub.execute_input": "2021-05-19T02:15:32.601960Z",
     "iopub.status.busy": "2021-05-19T02:15:32.600800Z",
     "iopub.status.idle": "2021-05-19T02:15:40.601924Z",
     "shell.execute_reply": "2021-05-19T02:15:40.601340Z"
    },
    "papermill": {
     "duration": 8.01778,
     "end_time": "2021-05-19T02:15:40.602059",
     "exception": false,
     "start_time": "2021-05-19T02:15:32.584279",
     "status": "completed"
    },
    "tags": []
   },
   "outputs": [],
   "source": [
    "#hide_input\n",
    "blockchain = read_news('blockchain') \n",
    "btc = read_news('btc') \n",
    "xrp = read_news('xrp') \n",
    "trx = read_news('trx') \n",
    "eth = read_news('eth')  \n",
    "ada = read_news('ada')\n",
    "exchange = read_news('exchange') "
   ]
  },
  {
   "cell_type": "code",
   "execution_count": 3,
   "id": "synthetic-notion",
   "metadata": {
    "execution": {
     "iopub.execute_input": "2021-05-19T02:15:40.631927Z",
     "iopub.status.busy": "2021-05-19T02:15:40.631329Z",
     "iopub.status.idle": "2021-05-19T02:15:40.634422Z",
     "shell.execute_reply": "2021-05-19T02:15:40.633850Z"
    },
    "papermill": {
     "duration": 0.021909,
     "end_time": "2021-05-19T02:15:40.634548",
     "exception": false,
     "start_time": "2021-05-19T02:15:40.612639",
     "status": "completed"
    },
    "tags": []
   },
   "outputs": [
    {
     "data": {
      "text/markdown": [
       "- Cardano’s parent company IOHK announces an Ethereum ERC20 token converter is on its way.  Input Output, the technology firm and code maintainer of Cardano, released a new ‘converter’ today that allows users to bring ERC20 tokens (issued on Ethereum) to the Cardano blockchain. The post Cardano&#8217;s parent company IOHK announces an Ethereum ERC20 token converter is on its way appeared first on CryptoSlate. ... [| Skaityti daugiau](https://cryptoslate.com/cardano-announces-an-ethereum-erc20-token-converter-is-coming-soon/) "
      ],
      "text/plain": [
       "<IPython.core.display.Markdown object>"
      ]
     },
     "execution_count": 3,
     "metadata": {},
     "output_type": "execute_result"
    }
   ],
   "source": [
    "#hide_input\n",
    "#md('##### {}'.format(titleBTC)) \n",
    "md(\"- {}{} {}{} [| Skaityti daugiau]({}) \".format(blockchain['title'],'. ', blockchain['body'], ' ...', blockchain['url']))"
   ]
  },
  {
   "cell_type": "code",
   "execution_count": 4,
   "id": "aging-caution",
   "metadata": {
    "execution": {
     "iopub.execute_input": "2021-05-19T02:15:40.663464Z",
     "iopub.status.busy": "2021-05-19T02:15:40.662850Z",
     "iopub.status.idle": "2021-05-19T02:15:40.664971Z",
     "shell.execute_reply": "2021-05-19T02:15:40.665514Z"
    },
    "papermill": {
     "duration": 0.020417,
     "end_time": "2021-05-19T02:15:40.665653",
     "exception": false,
     "start_time": "2021-05-19T02:15:40.645236",
     "status": "completed"
    },
    "tags": []
   },
   "outputs": [
    {
     "data": {
      "text/markdown": [
       "- Bitcoin’s price target despite reaction to Tesla news: Here’s why ‘not much has changed’.  The ongoing debates over Bitcoin, Dogecoin, a potential altseason, meme coins, and various others can be represented by a rotating swing carousel of an amusement park. Each debate re-emerges at different times during a market rally. While many traders remain bullish about DOGE, ETH, ADA, etc, others expressed their concerns about Bitcoin&#8217;s plummet. This traditional [&#8230;] ... [| Skaityti daugiau](https://ambcrypto.com/bitcoins-price-target-despite-reaction-to-tesla-news-heres-why-not-much-has-changed/) "
      ],
      "text/plain": [
       "<IPython.core.display.Markdown object>"
      ]
     },
     "execution_count": 4,
     "metadata": {},
     "output_type": "execute_result"
    }
   ],
   "source": [
    "#hide_input\n",
    "#md('##### {}'.format(titleBTC)) \n",
    "md(\"- {}{} {}{} [| Skaityti daugiau]({}) \".format(btc['title'],'. ', btc['body'], ' ...', btc['url']))"
   ]
  },
  {
   "cell_type": "code",
   "execution_count": 5,
   "id": "organic-actress",
   "metadata": {
    "execution": {
     "iopub.execute_input": "2021-05-19T02:15:40.691827Z",
     "iopub.status.busy": "2021-05-19T02:15:40.691241Z",
     "iopub.status.idle": "2021-05-19T02:15:40.696169Z",
     "shell.execute_reply": "2021-05-19T02:15:40.695672Z"
    },
    "papermill": {
     "duration": 0.0194,
     "end_time": "2021-05-19T02:15:40.696363",
     "exception": false,
     "start_time": "2021-05-19T02:15:40.676963",
     "status": "completed"
    },
    "tags": []
   },
   "outputs": [
    {
     "data": {
      "text/markdown": [
       "- XRP, Dogecoin, Cardano Price Analysis: 18 May.  XRP approached a key resistance mark of $1.55-$1.58 and a breakout could see a 28% price hike towards $1.96. Dogecoin held on to a buy zone at $0.523-0.373 despite bearish broader market cues. Finally, Cardano presented some defensive areas at $1.58 and $1.31, but a bounce back was also possible at $1.96 XRP XRP traded [&#8230;] ... [| Skaityti daugiau](https://ambcrypto.com/xrp-dogecoin-cardano-price-analysis-18-may/) "
      ],
      "text/plain": [
       "<IPython.core.display.Markdown object>"
      ]
     },
     "execution_count": 5,
     "metadata": {},
     "output_type": "execute_result"
    }
   ],
   "source": [
    "#hide_input\n",
    "#md('##### {}'.format(titleBTC)) \n",
    "md(\"- {}{} {}{} [| Skaityti daugiau]({}) \".format(xrp['title'],'. ', xrp['body'], ' ...', xrp['url']))"
   ]
  },
  {
   "cell_type": "code",
   "execution_count": 6,
   "id": "prompt-farmer",
   "metadata": {
    "execution": {
     "iopub.execute_input": "2021-05-19T02:15:40.725258Z",
     "iopub.status.busy": "2021-05-19T02:15:40.724612Z",
     "iopub.status.idle": "2021-05-19T02:15:40.726966Z",
     "shell.execute_reply": "2021-05-19T02:15:40.727504Z"
    },
    "papermill": {
     "duration": 0.019658,
     "end_time": "2021-05-19T02:15:40.727644",
     "exception": false,
     "start_time": "2021-05-19T02:15:40.707986",
     "status": "completed"
    },
    "tags": []
   },
   "outputs": [
    {
     "data": {
      "text/markdown": [
       "- Polkadot, THETA, Tron Price Analysis: 18 May.  Polkadot trimmed losses at $38.5 support and needed to maintain this to avoid a sharp sell-off. THETA traded within a descending triangle and a breakdown could result in a 20% retracement. Finally, a rise above $0.126-resistance could see a shift of market control over to the bullish side for Tron. Polkadot [DOT] Polkadot traded close [&#8230;] ... [| Skaityti daugiau](https://ambcrypto.com/polkadot-theta-tron-price-analysis-18-may/) "
      ],
      "text/plain": [
       "<IPython.core.display.Markdown object>"
      ]
     },
     "execution_count": 6,
     "metadata": {},
     "output_type": "execute_result"
    }
   ],
   "source": [
    "#hide_input\n",
    "#md('##### {}'.format(titleBTC)) \n",
    "md(\"- {}{} {}{} [| Skaityti daugiau]({}) \".format(trx['title'],'. ', trx['body'], ' ...', trx['url']))"
   ]
  },
  {
   "cell_type": "code",
   "execution_count": 7,
   "id": "illegal-greece",
   "metadata": {
    "execution": {
     "iopub.execute_input": "2021-05-19T02:15:40.757958Z",
     "iopub.status.busy": "2021-05-19T02:15:40.757372Z",
     "iopub.status.idle": "2021-05-19T02:15:40.761505Z",
     "shell.execute_reply": "2021-05-19T02:15:40.761031Z"
    },
    "papermill": {
     "duration": 0.022004,
     "end_time": "2021-05-19T02:15:40.761631",
     "exception": false,
     "start_time": "2021-05-19T02:15:40.739627",
     "status": "completed"
    },
    "tags": []
   },
   "outputs": [
    {
     "data": {
      "text/markdown": [
       "- Ark Investment tips $20M into Grayscale Ethereum Trust.  Ark’s Q1 SEC report revealed holdings of 639,069 shares in Grayscale's Ethereum Trust, worth more than $20 million.  ... [| Skaityti daugiau](https://cointelegraph.com/news/ark-investment-tips-20m-into-grayscale-ethereum-trust) "
      ],
      "text/plain": [
       "<IPython.core.display.Markdown object>"
      ]
     },
     "execution_count": 7,
     "metadata": {},
     "output_type": "execute_result"
    }
   ],
   "source": [
    "#hide_input\n",
    "#md('##### {}'.format(titleBTC)) \n",
    "md(\"- {}{} {}{} [| Skaityti daugiau]({}) \".format(eth['title'],'. ', eth['body'], ' ...', eth['url']))"
   ]
  },
  {
   "cell_type": "code",
   "execution_count": 8,
   "id": "sublime-lounge",
   "metadata": {
    "execution": {
     "iopub.execute_input": "2021-05-19T02:15:40.790993Z",
     "iopub.status.busy": "2021-05-19T02:15:40.790410Z",
     "iopub.status.idle": "2021-05-19T02:15:40.793429Z",
     "shell.execute_reply": "2021-05-19T02:15:40.792899Z"
    },
    "papermill": {
     "duration": 0.01981,
     "end_time": "2021-05-19T02:15:40.793547",
     "exception": false,
     "start_time": "2021-05-19T02:15:40.773737",
     "status": "completed"
    },
    "tags": []
   },
   "outputs": [
    {
     "data": {
      "text/markdown": [
       "- Cardano’s parent company IOHK announces an Ethereum ERC20 token converter is on its way.  Input Output, the technology firm and code maintainer of Cardano, released a new ‘converter’ today that allows users to bring ERC20 tokens (issued on Ethereum) to the Cardano blockchain. The post Cardano&#8217;s parent company IOHK announces an Ethereum ERC20 token converter is on its way appeared first on CryptoSlate. ... [| Skaityti daugiau](https://cryptoslate.com/cardano-announces-an-ethereum-erc20-token-converter-is-coming-soon/) "
      ],
      "text/plain": [
       "<IPython.core.display.Markdown object>"
      ]
     },
     "execution_count": 8,
     "metadata": {},
     "output_type": "execute_result"
    }
   ],
   "source": [
    "#hide_input\n",
    "#md('##### {}'.format(titleBTC)) \n",
    "md(\"- {}{} {}{} [| Skaityti daugiau]({}) \".format(ada['title'],'. ', ada['body'], ' ...', ada['url']))"
   ]
  },
  {
   "cell_type": "code",
   "execution_count": 9,
   "id": "specified-ordering",
   "metadata": {
    "execution": {
     "iopub.execute_input": "2021-05-19T02:15:40.824626Z",
     "iopub.status.busy": "2021-05-19T02:15:40.824045Z",
     "iopub.status.idle": "2021-05-19T02:15:40.826610Z",
     "shell.execute_reply": "2021-05-19T02:15:40.827116Z"
    },
    "papermill": {
     "duration": 0.021046,
     "end_time": "2021-05-19T02:15:40.827248",
     "exception": false,
     "start_time": "2021-05-19T02:15:40.806202",
     "status": "completed"
    },
    "tags": []
   },
   "outputs": [
    {
     "data": {
      "text/markdown": [
       "- Happy News for Canadian Traders: BitBuy Offers a Signup Bonus.  Disclaimer: The following article is part of Cryptonews Deals Series and was written as a promotional article in collaboration with the sponsor of this offer. If your company has an exclusive promotion that you would like to share with our readers, we invite you to reach out to us. Let’s build together. Canadian cryptocurrency exchange Bitbuy is offering all new registrants an extra CAD 20 ... [| Skaityti daugiau](https://cryptonews.com/news/happy-news-for-canadian-traders-bitbuy-offers-a-signup-bonus-10348.htm) "
      ],
      "text/plain": [
       "<IPython.core.display.Markdown object>"
      ]
     },
     "execution_count": 9,
     "metadata": {},
     "output_type": "execute_result"
    }
   ],
   "source": [
    "#hide_input\n",
    "#md('##### {}'.format(titleBTC)) \n",
    "md(\"- {}{} {}{} [| Skaityti daugiau]({}) \".format(exchange['title'],'. ', exchange['body'], ' ...', exchange['url']))"
   ]
  },
  {
   "cell_type": "code",
   "execution_count": null,
   "id": "tender-livestock",
   "metadata": {
    "papermill": {
     "duration": 0.012689,
     "end_time": "2021-05-19T02:15:40.852761",
     "exception": false,
     "start_time": "2021-05-19T02:15:40.840072",
     "status": "completed"
    },
    "tags": []
   },
   "outputs": [],
   "source": []
  },
  {
   "cell_type": "code",
   "execution_count": null,
   "id": "appreciated-diamond",
   "metadata": {
    "papermill": {
     "duration": 0.012482,
     "end_time": "2021-05-19T02:15:40.877713",
     "exception": false,
     "start_time": "2021-05-19T02:15:40.865231",
     "status": "completed"
    },
    "tags": []
   },
   "outputs": [],
   "source": []
  },
  {
   "cell_type": "code",
   "execution_count": null,
   "id": "romance-sweden",
   "metadata": {
    "papermill": {
     "duration": 0.012684,
     "end_time": "2021-05-19T02:15:40.903136",
     "exception": false,
     "start_time": "2021-05-19T02:15:40.890452",
     "status": "completed"
    },
    "tags": []
   },
   "outputs": [],
   "source": []
  },
  {
   "cell_type": "code",
   "execution_count": null,
   "id": "dietary-statistics",
   "metadata": {
    "papermill": {
     "duration": 0.012872,
     "end_time": "2021-05-19T02:15:40.928798",
     "exception": false,
     "start_time": "2021-05-19T02:15:40.915926",
     "status": "completed"
    },
    "tags": []
   },
   "outputs": [],
   "source": []
  }
 ],
 "metadata": {
  "kernelspec": {
   "display_name": "Python 3",
   "language": "python",
   "name": "python3"
  },
  "language_info": {
   "codemirror_mode": {
    "name": "ipython",
    "version": 3
   },
   "file_extension": ".py",
   "mimetype": "text/x-python",
   "name": "python",
   "nbconvert_exporter": "python",
   "pygments_lexer": "ipython3",
   "version": "3.6.13"
  },
  "papermill": {
   "default_parameters": {},
   "duration": 12.32729,
   "end_time": "2021-05-19T02:15:42.412515",
   "environment_variables": {},
   "exception": null,
   "input_path": "Market-News.ipynb",
   "output_path": "Market-News.ipynb",
   "parameters": {},
   "start_time": "2021-05-19T02:15:30.085225",
   "version": "2.2.2"
  }
 },
 "nbformat": 4,
 "nbformat_minor": 5
}