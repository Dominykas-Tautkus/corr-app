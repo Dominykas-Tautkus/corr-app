{
 "cells": [
  {
   "cell_type": "markdown",
   "id": "short-greensboro",
   "metadata": {
    "papermill": {
     "duration": 0.016843,
     "end_time": "2021-05-24T02:27:10.618666",
     "exception": false,
     "start_time": "2021-05-24T02:27:10.601823",
     "status": "completed"
    },
    "tags": []
   },
   "source": [
    "# Kriptovaliutų naujienos"
   ]
  },
  {
   "cell_type": "code",
   "execution_count": 1,
   "id": "functioning-knowing",
   "metadata": {
    "execution": {
     "iopub.execute_input": "2021-05-24T02:27:10.653784Z",
     "iopub.status.busy": "2021-05-24T02:27:10.653101Z",
     "iopub.status.idle": "2021-05-24T02:27:12.083054Z",
     "shell.execute_reply": "2021-05-24T02:27:12.082081Z"
    },
    "papermill": {
     "duration": 1.452471,
     "end_time": "2021-05-24T02:27:12.083343",
     "exception": false,
     "start_time": "2021-05-24T02:27:10.630872",
     "status": "completed"
    },
    "tags": []
   },
   "outputs": [],
   "source": [
    "#hide_input\n",
    "import warnings\n",
    "warnings.filterwarnings('ignore')\n",
    "from scripts.read_data import read_api\n",
    "from scripts.read_data import read_news\n",
    "from scripts.read_data import read_covid\n",
    "import matplotlib.pyplot as plt \n",
    "from IPython.display import Markdown as md"
   ]
  },
  {
   "cell_type": "code",
   "execution_count": 2,
   "id": "shared-acceptance",
   "metadata": {
    "execution": {
     "iopub.execute_input": "2021-05-24T02:27:12.113556Z",
     "iopub.status.busy": "2021-05-24T02:27:12.112423Z",
     "iopub.status.idle": "2021-05-24T02:27:21.608469Z",
     "shell.execute_reply": "2021-05-24T02:27:21.607880Z"
    },
    "papermill": {
     "duration": 9.513406,
     "end_time": "2021-05-24T02:27:21.608613",
     "exception": false,
     "start_time": "2021-05-24T02:27:12.095207",
     "status": "completed"
    },
    "tags": []
   },
   "outputs": [],
   "source": [
    "#hide_input\n",
    "blockchain = read_news('blockchain') \n",
    "btc = read_news('btc') \n",
    "xrp = read_news('xrp') \n",
    "trx = read_news('trx') \n",
    "eth = read_news('eth')  \n",
    "ada = read_news('ada')\n",
    "exchange = read_news('exchange') "
   ]
  },
  {
   "cell_type": "code",
   "execution_count": 3,
   "id": "synthetic-notion",
   "metadata": {
    "execution": {
     "iopub.execute_input": "2021-05-24T02:27:21.637396Z",
     "iopub.status.busy": "2021-05-24T02:27:21.636739Z",
     "iopub.status.idle": "2021-05-24T02:27:21.644745Z",
     "shell.execute_reply": "2021-05-24T02:27:21.645253Z"
    },
    "papermill": {
     "duration": 0.025326,
     "end_time": "2021-05-24T02:27:21.645419",
     "exception": false,
     "start_time": "2021-05-24T02:27:21.620093",
     "status": "completed"
    },
    "tags": []
   },
   "outputs": [
    {
     "data": {
      "text/markdown": [
       "- Bitcoin-related stocks to watch on Monday and how they fared last week.  Bitcoin's gyrations over the past week have taken their toll on a number of publicly traded stocks that are linked to the world's largest cryptocurrency.Over the course of Monday, May 17, through Friday, May 21, bitcoin fell 20% to $32.8K. On Saturday, it jumped touched as high as $38.8K then fell as low as $31.1K on Sunday.With an eye to next week's trading, here's how bitcoin-linked names reacted last week:Bitcoin funds Osprey Bitcoin Trust (OBTC) fell 29% and Grayscale Bitcoin Trust (GBTC) fell 24%, both more than bitcoin itself.Cryptocurrency miners Marathon Digital (MARA) fell 9.5% and and Riot Blockchain (RIOT) sank 12% during last week.Crypto exchange Coinbase Global (COIN) fell 13%.MicroStrategy (MSTR), which holds more than 92,000 bitcoins, fell 14%.Square (SQ), -17%, and Tesla (TSLA) -18% both hold bitcoin on their balance sheets, but their bets aren't as big as MSTR's.The charts below sum up the declines of bitcoin and related stocks over ... [| Skaityti daugiau](https://seekingalpha.com/news/3699277-last-week-in-crypto?utm_source=cryptocompare.com&utm_medium=referral) "
      ],
      "text/plain": [
       "<IPython.core.display.Markdown object>"
      ]
     },
     "execution_count": 3,
     "metadata": {},
     "output_type": "execute_result"
    }
   ],
   "source": [
    "#hide_input\n",
    "#md('##### {}'.format(titleBTC)) \n",
    "md(\"- {}{} {}{} [| Skaityti daugiau]({}) \".format(blockchain['title'],'. ', blockchain['body'], ' ...', blockchain['url']))"
   ]
  },
  {
   "cell_type": "code",
   "execution_count": 4,
   "id": "aging-caution",
   "metadata": {
    "execution": {
     "iopub.execute_input": "2021-05-24T02:27:21.674682Z",
     "iopub.status.busy": "2021-05-24T02:27:21.674035Z",
     "iopub.status.idle": "2021-05-24T02:27:21.676953Z",
     "shell.execute_reply": "2021-05-24T02:27:21.677560Z"
    },
    "papermill": {
     "duration": 0.020508,
     "end_time": "2021-05-24T02:27:21.677704",
     "exception": false,
     "start_time": "2021-05-24T02:27:21.657196",
     "status": "completed"
    },
    "tags": []
   },
   "outputs": [
    {
     "data": {
      "text/markdown": [
       "- Mark Cuban: We’re In “The Great Unwind”.  In a tweet reply over the weekend, billionaire businessman and crypto advocate Mark Cuban described the current price action as part of the &#8220;great unwind&#8221;. The comment was in response to Larry Cermak, Director of Research at The Block, and emphasized the implications of over-leveraged traders leading to &#8216;unwinding&#8217;. In a response to Newsweek about [&#8230;] ... [| Skaityti daugiau](https://www.newsbtc.com/opinion/mark-cuban-were-in-the-great-unwind/) "
      ],
      "text/plain": [
       "<IPython.core.display.Markdown object>"
      ]
     },
     "execution_count": 4,
     "metadata": {},
     "output_type": "execute_result"
    }
   ],
   "source": [
    "#hide_input\n",
    "#md('##### {}'.format(titleBTC)) \n",
    "md(\"- {}{} {}{} [| Skaityti daugiau]({}) \".format(btc['title'],'. ', btc['body'], ' ...', btc['url']))"
   ]
  },
  {
   "cell_type": "code",
   "execution_count": 5,
   "id": "organic-actress",
   "metadata": {
    "execution": {
     "iopub.execute_input": "2021-05-24T02:27:21.707353Z",
     "iopub.status.busy": "2021-05-24T02:27:21.706711Z",
     "iopub.status.idle": "2021-05-24T02:27:21.710122Z",
     "shell.execute_reply": "2021-05-24T02:27:21.709574Z"
    },
    "papermill": {
     "duration": 0.020348,
     "end_time": "2021-05-24T02:27:21.710251",
     "exception": false,
     "start_time": "2021-05-24T02:27:21.689903",
     "status": "completed"
    },
    "tags": []
   },
   "outputs": [
    {
     "data": {
      "text/markdown": [
       "- XRP, Cardano, Dogecoin Price Analysis: 23 May.  After Bitcoin suffered yet another breakdown below $35,000, large cap alts seemed to be in free-fall once again. Similarly, XRP and Cardano moved further south under strenuous conditions. While Dogecoin also dropped below a key support, losses were not that steep when compared to its counterparts. XRP When news of XRP&#8217;s lawsuit broke in late [&#8230;] ... [| Skaityti daugiau](https://ambcrypto.com/xrp-cardano-dogecoin-price-analysis-23-may/) "
      ],
      "text/plain": [
       "<IPython.core.display.Markdown object>"
      ]
     },
     "execution_count": 5,
     "metadata": {},
     "output_type": "execute_result"
    }
   ],
   "source": [
    "#hide_input\n",
    "#md('##### {}'.format(titleBTC)) \n",
    "md(\"- {}{} {}{} [| Skaityti daugiau]({}) \".format(xrp['title'],'. ', xrp['body'], ' ...', xrp['url']))"
   ]
  },
  {
   "cell_type": "code",
   "execution_count": 6,
   "id": "prompt-farmer",
   "metadata": {
    "execution": {
     "iopub.execute_input": "2021-05-24T02:27:21.741199Z",
     "iopub.status.busy": "2021-05-24T02:27:21.740558Z",
     "iopub.status.idle": "2021-05-24T02:27:21.743565Z",
     "shell.execute_reply": "2021-05-24T02:27:21.744119Z"
    },
    "papermill": {
     "duration": 0.021161,
     "end_time": "2021-05-24T02:27:21.744272",
     "exception": false,
     "start_time": "2021-05-24T02:27:21.723111",
     "status": "completed"
    },
    "tags": []
   },
   "outputs": [
    {
     "data": {
      "text/markdown": [
       "- VeChain, THETA, Tron Price Analysis: 23 May.  VeChain&#8217;s technicals presented some additional losses for the crypto-asset moving forward. THETA needed to reclaim the area above $7.34 to enable a quick recovery. Finally, Tron could stabilize at $0.0622 support. VeChain [VET] VeChain was unable to bounce back from $0.096-support and suffered yet another breakdown on its 4-hour chart. There was some defense around [&#8230;] ... [| Skaityti daugiau](https://ambcrypto.com/vechain-theta-tron-price-analysis-23-may/) "
      ],
      "text/plain": [
       "<IPython.core.display.Markdown object>"
      ]
     },
     "execution_count": 6,
     "metadata": {},
     "output_type": "execute_result"
    }
   ],
   "source": [
    "#hide_input\n",
    "#md('##### {}'.format(titleBTC)) \n",
    "md(\"- {}{} {}{} [| Skaityti daugiau]({}) \".format(trx['title'],'. ', trx['body'], ' ...', trx['url']))"
   ]
  },
  {
   "cell_type": "code",
   "execution_count": 7,
   "id": "illegal-greece",
   "metadata": {
    "execution": {
     "iopub.execute_input": "2021-05-24T02:27:21.776208Z",
     "iopub.status.busy": "2021-05-24T02:27:21.775521Z",
     "iopub.status.idle": "2021-05-24T02:27:21.778005Z",
     "shell.execute_reply": "2021-05-24T02:27:21.778563Z"
    },
    "papermill": {
     "duration": 0.021668,
     "end_time": "2021-05-24T02:27:21.778713",
     "exception": false,
     "start_time": "2021-05-24T02:27:21.757045",
     "status": "completed"
    },
    "tags": []
   },
   "outputs": [
    {
     "data": {
      "text/markdown": [
       "- Uniswap, Ethereum, Binance Coin Price Analysis: 23 May.  The global cryptocurrency market was yet to recover from the recent onslaught that saw most coins head towards their March-April lows. Ethereum was in danger of further retracement all the way towards $1,300 in case of a breakdown from $2,000. Uniswap threatened to drop as low as $6.54, while Binance Coin did the same. Uniswap [&#8230;] ... [| Skaityti daugiau](https://ambcrypto.com/uniswap-ethereum-binance-coin-price-analysis-23-may/) "
      ],
      "text/plain": [
       "<IPython.core.display.Markdown object>"
      ]
     },
     "execution_count": 7,
     "metadata": {},
     "output_type": "execute_result"
    }
   ],
   "source": [
    "#hide_input\n",
    "#md('##### {}'.format(titleBTC)) \n",
    "md(\"- {}{} {}{} [| Skaityti daugiau]({}) \".format(eth['title'],'. ', eth['body'], ' ...', eth['url']))"
   ]
  },
  {
   "cell_type": "code",
   "execution_count": 8,
   "id": "sublime-lounge",
   "metadata": {
    "execution": {
     "iopub.execute_input": "2021-05-24T02:27:21.810713Z",
     "iopub.status.busy": "2021-05-24T02:27:21.810077Z",
     "iopub.status.idle": "2021-05-24T02:27:21.813429Z",
     "shell.execute_reply": "2021-05-24T02:27:21.812801Z"
    },
    "papermill": {
     "duration": 0.021524,
     "end_time": "2021-05-24T02:27:21.813559",
     "exception": false,
     "start_time": "2021-05-24T02:27:21.792035",
     "status": "completed"
    },
    "tags": []
   },
   "outputs": [
    {
     "data": {
      "text/markdown": [
       "- XRP, Cardano, Dogecoin Price Analysis: 23 May.  After Bitcoin suffered yet another breakdown below $35,000, large cap alts seemed to be in free-fall once again. Similarly, XRP and Cardano moved further south under strenuous conditions. While Dogecoin also dropped below a key support, losses were not that steep when compared to its counterparts. XRP When news of XRP&#8217;s lawsuit broke in late [&#8230;] ... [| Skaityti daugiau](https://ambcrypto.com/xrp-cardano-dogecoin-price-analysis-23-may/) "
      ],
      "text/plain": [
       "<IPython.core.display.Markdown object>"
      ]
     },
     "execution_count": 8,
     "metadata": {},
     "output_type": "execute_result"
    }
   ],
   "source": [
    "#hide_input\n",
    "#md('##### {}'.format(titleBTC)) \n",
    "md(\"- {}{} {}{} [| Skaityti daugiau]({}) \".format(ada['title'],'. ', ada['body'], ' ...', ada['url']))"
   ]
  },
  {
   "cell_type": "code",
   "execution_count": 9,
   "id": "specified-ordering",
   "metadata": {
    "execution": {
     "iopub.execute_input": "2021-05-24T02:27:21.845868Z",
     "iopub.status.busy": "2021-05-24T02:27:21.845102Z",
     "iopub.status.idle": "2021-05-24T02:27:21.848249Z",
     "shell.execute_reply": "2021-05-24T02:27:21.848772Z"
    },
    "papermill": {
     "duration": 0.02185,
     "end_time": "2021-05-24T02:27:21.848907",
     "exception": false,
     "start_time": "2021-05-24T02:27:21.827057",
     "status": "completed"
    },
    "tags": []
   },
   "outputs": [
    {
     "data": {
      "text/markdown": [
       "- Uniswap, Ethereum, Binance Coin Price Analysis: 23 May.  The global cryptocurrency market was yet to recover from the recent onslaught that saw most coins head towards their March-April lows. Ethereum was in danger of further retracement all the way towards $1,300 in case of a breakdown from $2,000. Uniswap threatened to drop as low as $6.54, while Binance Coin did the same. Uniswap [&#8230;] ... [| Skaityti daugiau](https://ambcrypto.com/uniswap-ethereum-binance-coin-price-analysis-23-may/) "
      ],
      "text/plain": [
       "<IPython.core.display.Markdown object>"
      ]
     },
     "execution_count": 9,
     "metadata": {},
     "output_type": "execute_result"
    }
   ],
   "source": [
    "#hide_input\n",
    "#md('##### {}'.format(titleBTC)) \n",
    "md(\"- {}{} {}{} [| Skaityti daugiau]({}) \".format(exchange['title'],'. ', exchange['body'], ' ...', exchange['url']))"
   ]
  },
  {
   "cell_type": "code",
   "execution_count": null,
   "id": "tender-livestock",
   "metadata": {
    "papermill": {
     "duration": 0.012984,
     "end_time": "2021-05-24T02:27:21.874984",
     "exception": false,
     "start_time": "2021-05-24T02:27:21.862000",
     "status": "completed"
    },
    "tags": []
   },
   "outputs": [],
   "source": []
  },
  {
   "cell_type": "code",
   "execution_count": null,
   "id": "appreciated-diamond",
   "metadata": {
    "papermill": {
     "duration": 0.012342,
     "end_time": "2021-05-24T02:27:21.900691",
     "exception": false,
     "start_time": "2021-05-24T02:27:21.888349",
     "status": "completed"
    },
    "tags": []
   },
   "outputs": [],
   "source": []
  },
  {
   "cell_type": "code",
   "execution_count": null,
   "id": "romance-sweden",
   "metadata": {
    "papermill": {
     "duration": 0.013329,
     "end_time": "2021-05-24T02:27:21.926849",
     "exception": false,
     "start_time": "2021-05-24T02:27:21.913520",
     "status": "completed"
    },
    "tags": []
   },
   "outputs": [],
   "source": []
  },
  {
   "cell_type": "code",
   "execution_count": null,
   "id": "dietary-statistics",
   "metadata": {
    "papermill": {
     "duration": 0.013431,
     "end_time": "2021-05-24T02:27:21.953134",
     "exception": false,
     "start_time": "2021-05-24T02:27:21.939703",
     "status": "completed"
    },
    "tags": []
   },
   "outputs": [],
   "source": []
  }
 ],
 "metadata": {
  "kernelspec": {
   "display_name": "Python 3",
   "language": "python",
   "name": "python3"
  },
  "language_info": {
   "codemirror_mode": {
    "name": "ipython",
    "version": 3
   },
   "file_extension": ".py",
   "mimetype": "text/x-python",
   "name": "python",
   "nbconvert_exporter": "python",
   "pygments_lexer": "ipython3",
   "version": "3.6.13"
  },
  "papermill": {
   "default_parameters": {},
   "duration": 12.856862,
   "end_time": "2021-05-24T02:27:22.374284",
   "environment_variables": {},
   "exception": null,
   "input_path": "Market-News.ipynb",
   "output_path": "Market-News.ipynb",
   "parameters": {},
   "start_time": "2021-05-24T02:27:09.517422",
   "version": "2.2.2"
  }
 },
 "nbformat": 4,
 "nbformat_minor": 5
}