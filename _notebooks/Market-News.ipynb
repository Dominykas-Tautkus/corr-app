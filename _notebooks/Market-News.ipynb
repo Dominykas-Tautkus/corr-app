{
 "cells": [
  {
   "cell_type": "markdown",
   "metadata": {},
   "source": [
    "# Kriptovaliutų naujienos"
   ]
  },
  {
   "cell_type": "code",
   "execution_count": 59,
   "metadata": {},
   "outputs": [
    {
     "name": "stdout",
     "output_type": "stream",
     "text": [
      "The autoreload extension is already loaded. To reload it, use:\n",
      "  %reload_ext autoreload\n"
     ]
    }
   ],
   "source": [
    "#hide\n",
    "\n",
    "%load_ext autoreload\n",
    "%autoreload 2\n",
    "import warnings\n",
    "warnings.filterwarnings('ignore')\n",
    "from scripts.read_data import read_api\n",
    "from scripts.read_data import read_news\n",
    "from scripts.read_data import read_covid\n",
    "import matplotlib.pyplot as plt \n",
    "from IPython.display import Markdown as md\n",
    "sns.set()"
   ]
  },
  {
   "cell_type": "code",
   "execution_count": 60,
   "metadata": {},
   "outputs": [],
   "source": [
    "#hide_input\n",
    "blockchain = read_news('blockchain') \n",
    "btc = read_news('btc') \n",
    "xrp = read_news('xrp') \n",
    "trx = read_news('trx') \n",
    "eth = read_news('eth')  \n",
    "ada = read_news('ada')\n",
    "exchange = read_news('exchange') "
   ]
  },
  {
   "cell_type": "code",
   "execution_count": 61,
   "metadata": {},
   "outputs": [
    {
     "data": {
      "text/markdown": [
       "- Crypto Asset Built on Ethereum Skyrockets 2,278% After Launch.  A decentralized finance (DeFi) newcomer is capturing the interest of crypto insiders after surging by as much as 2,278% in less than a month. SynLev (SYN) is a DeFi asset built on the Ethereum (ETH) blockchain and relies on Chainlink (LINK) oracles to obtain external data. According to the crypto asset&#8217;s litepaper, SynLev aims to [&#8230;]The post Crypto Asset Built on Ethereum Skyrockets 2,278% After Launch appeared first on The Daily Hodl. ... [| Skaityti daugiau](https://dailyhodl.com/2020/11/29/crypto-asset-built-on-ethereum-skyrockets-2278-after-launch/) "
      ],
      "text/plain": [
       "<IPython.core.display.Markdown object>"
      ]
     },
     "execution_count": 61,
     "metadata": {},
     "output_type": "execute_result"
    }
   ],
   "source": [
    "#hide_input\n",
    "#md('##### {}'.format(titleBTC)) \n",
    "md(\"- {}{} {}{} [| Skaityti daugiau]({}) \".format(blockchain['title'],'. ', blockchain['body'], ' ...', blockchain['url']))"
   ]
  },
  {
   "cell_type": "code",
   "execution_count": 62,
   "metadata": {},
   "outputs": [
    {
     "data": {
      "text/markdown": [
       "- Guggenheim Partners may be the next big player to bet on Bitcoin.  Over the past few months, the crypto-market has witnessed an influx of institutional investors, most of whom have set aside significant allocations in favor of Bitcoin. It would now seem that Guggenheim Partners will be the newest name to join that list. According to a recent SEC filing, the global investment management firm with over [&#8230;]The post Guggenheim Partners may be the next big player to bet on Bitcoin appeared first on AMBCrypto. ... [| Skaityti daugiau](https://eng.ambcrypto.com/guggenheim-partners-bitcoin/) "
      ],
      "text/plain": [
       "<IPython.core.display.Markdown object>"
      ]
     },
     "execution_count": 62,
     "metadata": {},
     "output_type": "execute_result"
    }
   ],
   "source": [
    "#hide_input\n",
    "#md('##### {}'.format(titleBTC)) \n",
    "md(\"- {}{} {}{} [| Skaityti daugiau]({}) \".format(btc['title'],'. ', btc['body'], ' ...', btc['url']))"
   ]
  },
  {
   "cell_type": "code",
   "execution_count": 63,
   "metadata": {},
   "outputs": [
    {
     "data": {
      "text/markdown": [
       "- Ripple price prediction: XRP to hit $0.67 next, analyst.  TL:DR Breakdown Ripple price prediction expects the altcoin to hit the $0.67 mark. Ripple is going to through a turmoil. XRP finds strong support at the $0.59 mark. The Ripple price prediction by Kyer shows that the price will ascend to the $0.67 mark next. The price has seen an abrupt move towards the $0.64 […] ... [| Skaityti daugiau](https://www.cryptopolitan.com/ripple-price-prediction-xrp-to-hit-0-67/) "
      ],
      "text/plain": [
       "<IPython.core.display.Markdown object>"
      ]
     },
     "execution_count": 63,
     "metadata": {},
     "output_type": "execute_result"
    }
   ],
   "source": [
    "#hide_input\n",
    "#md('##### {}'.format(titleBTC)) \n",
    "md(\"- {}{} {}{} [| Skaityti daugiau]({}) \".format(xrp['title'],'. ', xrp['body'], ' ...', xrp['url']))"
   ]
  },
  {
   "cell_type": "code",
   "execution_count": 64,
   "metadata": {},
   "outputs": [
    {
     "data": {
      "text/markdown": [
       "- Tron price prediction – TRX at $0.0312 as consolidation turns into a bull run.  Tron price prediction is now in a positive bias as Tron rises to $0.0312 TRX/USD pair follows broader crypto market decline-recover trend Tron price printed a low of $0.0295 before trading near the middle of Bollinger Band Bullish Tron price prediction materializes as Tron reaches $0.0312 The ongoing consolidation in the crypto market is helping […] ... [| Skaityti daugiau](https://www.cryptopolitan.com/tron-price-prediction-trx-at-0-0312/) "
      ],
      "text/plain": [
       "<IPython.core.display.Markdown object>"
      ]
     },
     "execution_count": 64,
     "metadata": {},
     "output_type": "execute_result"
    }
   ],
   "source": [
    "#hide_input\n",
    "#md('##### {}'.format(titleBTC)) \n",
    "md(\"- {}{} {}{} [| Skaityti daugiau]({}) \".format(trx['title'],'. ', trx['body'], ' ...', trx['url']))"
   ]
  },
  {
   "cell_type": "code",
   "execution_count": 65,
   "metadata": {},
   "outputs": [
    {
     "data": {
      "text/markdown": [
       "- Crypto Asset Built on Ethereum Skyrockets 2,278% After Launch.  A decentralized finance (DeFi) newcomer is capturing the interest of crypto insiders after surging by as much as 2,278% in less than a month. SynLev (SYN) is a DeFi asset built on the Ethereum (ETH) blockchain and relies on Chainlink (LINK) oracles to obtain external data. According to the crypto asset&#8217;s litepaper, SynLev aims to [&#8230;]The post Crypto Asset Built on Ethereum Skyrockets 2,278% After Launch appeared first on The Daily Hodl. ... [| Skaityti daugiau](https://dailyhodl.com/2020/11/29/crypto-asset-built-on-ethereum-skyrockets-2278-after-launch/) "
      ],
      "text/plain": [
       "<IPython.core.display.Markdown object>"
      ]
     },
     "execution_count": 65,
     "metadata": {},
     "output_type": "execute_result"
    }
   ],
   "source": [
    "#hide_input\n",
    "#md('##### {}'.format(titleBTC)) \n",
    "md(\"- {}{} {}{} [| Skaityti daugiau]({}) \".format(eth['title'],'. ', eth['body'], ' ...', eth['url']))"
   ]
  },
  {
   "cell_type": "code",
   "execution_count": 66,
   "metadata": {},
   "outputs": [
    {
     "data": {
      "text/markdown": [
       "- Cardano, Cosmos, Compound Price Analysis: 28 November.  Nearly every coin of relevance in the crypto sphere saw a drop in their price that coincided with Bitcoin&#8217;s correction from $19,400. Some altcoins were only correcting recent, strong gains, and can still be considered to be in a healthy uptrend on a longer timeframe. Cardano and Cosmos found strong support at important levels of [&#8230;]The post Cardano, Cosmos, Compound Price Analysis: 28 November appeared first on AMBCrypto. ... [| Skaityti daugiau](https://eng.ambcrypto.com/cardano-cosmos-compound-price-analysis-28-november/) "
      ],
      "text/plain": [
       "<IPython.core.display.Markdown object>"
      ]
     },
     "execution_count": 66,
     "metadata": {},
     "output_type": "execute_result"
    }
   ],
   "source": [
    "#hide_input\n",
    "#md('##### {}'.format(titleBTC)) \n",
    "md(\"- {}{} {}{} [| Skaityti daugiau]({}) \".format(ada['title'],'. ', ada['body'], ' ...', ada['url']))"
   ]
  },
  {
   "cell_type": "code",
   "execution_count": 67,
   "metadata": {},
   "outputs": [
    {
     "data": {
      "text/markdown": [
       "- Binance Coin, Waves, Enjin Price Analysis: 29 November.  Some of the market&#8217;s large-cap altcoins initiated a recovery on the charts after seeing their value slashed in a matter of hours, following Bitcoin&#8217;s own retracement. While Binance Coin&#8217;s recent gains were backed by bullish momentum, Waves did not register significant selling volume, even during the latest drop. Finally, Enjin showed that its market was [&#8230;]The post Binance Coin, Waves, Enjin Price Analysis: 29 November appeared first on AMBCrypto. ... [| Skaityti daugiau](https://eng.ambcrypto.com/binance-coin-waves-enjin-price-analysis-29-november/) "
      ],
      "text/plain": [
       "<IPython.core.display.Markdown object>"
      ]
     },
     "execution_count": 67,
     "metadata": {},
     "output_type": "execute_result"
    }
   ],
   "source": [
    "#hide_input\n",
    "#md('##### {}'.format(titleBTC)) \n",
    "md(\"- {}{} {}{} [| Skaityti daugiau]({}) \".format(exchange['title'],'. ', exchange['body'], ' ...', exchange['url']))"
   ]
  },
  {
   "cell_type": "code",
   "execution_count": null,
   "metadata": {},
   "outputs": [],
   "source": []
  },
  {
   "cell_type": "code",
   "execution_count": null,
   "metadata": {},
   "outputs": [],
   "source": []
  }
 ],
 "metadata": {
  "kernelspec": {
   "display_name": "Python 3",
   "language": "python",
   "name": "python3"
  },
  "language_info": {
   "codemirror_mode": {
    "name": "ipython",
    "version": 3
   },
   "file_extension": ".py",
   "mimetype": "text/x-python",
   "name": "python",
   "nbconvert_exporter": "python",
   "pygments_lexer": "ipython3",
   "version": "3.8.5"
  }
 },
 "nbformat": 4,
 "nbformat_minor": 4
}
