{
 "cells": [
  {
   "cell_type": "markdown",
   "id": "short-greensboro",
   "metadata": {
    "papermill": {
     "duration": 0.015114,
     "end_time": "2021-06-19T02:07:23.584374",
     "exception": false,
     "start_time": "2021-06-19T02:07:23.569260",
     "status": "completed"
    },
    "tags": []
   },
   "source": [
    "# Kriptovaliutų naujienos"
   ]
  },
  {
   "cell_type": "code",
   "execution_count": 1,
   "id": "functioning-knowing",
   "metadata": {
    "execution": {
     "iopub.execute_input": "2021-06-19T02:07:23.618823Z",
     "iopub.status.busy": "2021-06-19T02:07:23.617961Z",
     "iopub.status.idle": "2021-06-19T02:07:24.934896Z",
     "shell.execute_reply": "2021-06-19T02:07:24.934274Z"
    },
    "papermill": {
     "duration": 1.339497,
     "end_time": "2021-06-19T02:07:24.935068",
     "exception": false,
     "start_time": "2021-06-19T02:07:23.595571",
     "status": "completed"
    },
    "tags": []
   },
   "outputs": [],
   "source": [
    "#hide_input\n",
    "import warnings\n",
    "warnings.filterwarnings('ignore')\n",
    "from scripts.read_data import read_api\n",
    "from scripts.read_data import read_news\n",
    "from scripts.read_data import read_covid\n",
    "import matplotlib.pyplot as plt \n",
    "from IPython.display import Markdown as md"
   ]
  },
  {
   "cell_type": "code",
   "execution_count": 2,
   "id": "shared-acceptance",
   "metadata": {
    "execution": {
     "iopub.execute_input": "2021-06-19T02:07:24.965428Z",
     "iopub.status.busy": "2021-06-19T02:07:24.964338Z",
     "iopub.status.idle": "2021-06-19T02:07:34.071318Z",
     "shell.execute_reply": "2021-06-19T02:07:34.070331Z"
    },
    "papermill": {
     "duration": 9.124699,
     "end_time": "2021-06-19T02:07:34.071463",
     "exception": false,
     "start_time": "2021-06-19T02:07:24.946764",
     "status": "completed"
    },
    "tags": []
   },
   "outputs": [],
   "source": [
    "#hide_input\n",
    "blockchain = read_news('blockchain') \n",
    "btc = read_news('btc') \n",
    "xrp = read_news('xrp') \n",
    "trx = read_news('trx') \n",
    "eth = read_news('eth')  \n",
    "ada = read_news('ada')\n",
    "exchange = read_news('exchange') "
   ]
  },
  {
   "cell_type": "code",
   "execution_count": 3,
   "id": "synthetic-notion",
   "metadata": {
    "execution": {
     "iopub.execute_input": "2021-06-19T02:07:34.098969Z",
     "iopub.status.busy": "2021-06-19T02:07:34.098378Z",
     "iopub.status.idle": "2021-06-19T02:07:34.100727Z",
     "shell.execute_reply": "2021-06-19T02:07:34.101261Z"
    },
    "papermill": {
     "duration": 0.019318,
     "end_time": "2021-06-19T02:07:34.101397",
     "exception": false,
     "start_time": "2021-06-19T02:07:34.082079",
     "status": "completed"
    },
    "tags": []
   },
   "outputs": [
    {
     "data": {
      "text/markdown": [
       "- Cardano, Polkadot and Three Altcoins Are Technologically Superior to Ethereum, According to Weiss Ratings.  Five cryptocurrency projects are more technologically advanced than Ethereum, according to veteran financial ratings agency. The latest update from Weiss Crypto Ratings shows Cardano (ADA), Polkadot (DOT), Tezos (XTZ), Cosmos (ATOM) and Fantom (FTM) have “excellent” technology ratings. Ethereum (ETH) lags behind with a &#8220;good&#8221; rating, alongside Holo (HOT), Iota (IOTA), Grin (GRIN), Bitshares (BTS), [&#8230;]The post Cardano, Polkadot and Three Altcoins Are Technologically Superior to Ethereum, According to Weiss Ratings appeared first on The Daily Hodl. ... [| Skaityti daugiau](https://dailyhodl.com/2021/06/18/cardano-polkadot-and-three-altcoins-are-technologically-superior-to-ethereum-according-to-weiss-ratings/) "
      ],
      "text/plain": [
       "<IPython.core.display.Markdown object>"
      ]
     },
     "execution_count": 3,
     "metadata": {},
     "output_type": "execute_result"
    }
   ],
   "source": [
    "#hide_input\n",
    "#md('##### {}'.format(titleBTC)) \n",
    "md(\"- {}{} {}{} [| Skaityti daugiau]({}) \".format(blockchain['title'],'. ', blockchain['body'], ' ...', blockchain['url']))"
   ]
  },
  {
   "cell_type": "code",
   "execution_count": 4,
   "id": "aging-caution",
   "metadata": {
    "execution": {
     "iopub.execute_input": "2021-06-19T02:07:34.128276Z",
     "iopub.status.busy": "2021-06-19T02:07:34.127688Z",
     "iopub.status.idle": "2021-06-19T02:07:34.130641Z",
     "shell.execute_reply": "2021-06-19T02:07:34.130153Z"
    },
    "papermill": {
     "duration": 0.018754,
     "end_time": "2021-06-19T02:07:34.130756",
     "exception": false,
     "start_time": "2021-06-19T02:07:34.112002",
     "status": "completed"
    },
    "tags": []
   },
   "outputs": [
    {
     "data": {
      "text/markdown": [
       "- Bitcoin Whales Accumulated Over $350 Billion Since BTC’s Price Plunged Last Month.  Bitcoin whales have been accumulating more BTC ever since its price plunged last month. Over the last 25 days, whales accumulated a whopping 90,000 BTC, at press time worth over $350 billion. According to cryptocurrency analytics firm Santiment, large bitcoin holders with between 100 and 10,000 BTC in their wallets – between $3.9 million and […] ... [| Skaityti daugiau](https://www.cryptoglobe.com/latest/2021/06/bitcoin-whales-accumulated-over-350-billion-since-btcs-price-plunged-last-month/) "
      ],
      "text/plain": [
       "<IPython.core.display.Markdown object>"
      ]
     },
     "execution_count": 4,
     "metadata": {},
     "output_type": "execute_result"
    }
   ],
   "source": [
    "#hide_input\n",
    "#md('##### {}'.format(titleBTC)) \n",
    "md(\"- {}{} {}{} [| Skaityti daugiau]({}) \".format(btc['title'],'. ', btc['body'], ' ...', btc['url']))"
   ]
  },
  {
   "cell_type": "code",
   "execution_count": 5,
   "id": "organic-actress",
   "metadata": {
    "execution": {
     "iopub.execute_input": "2021-06-19T02:07:34.158448Z",
     "iopub.status.busy": "2021-06-19T02:07:34.157864Z",
     "iopub.status.idle": "2021-06-19T02:07:34.161270Z",
     "shell.execute_reply": "2021-06-19T02:07:34.160776Z"
    },
    "papermill": {
     "duration": 0.01969,
     "end_time": "2021-06-19T02:07:34.161386",
     "exception": false,
     "start_time": "2021-06-19T02:07:34.141696",
     "status": "completed"
    },
    "tags": []
   },
   "outputs": [
    {
     "data": {
      "text/markdown": [
       "- XRP, Dogecoin, NEO Price Analysis: 18 June.  The last seven days have seen some major high points for bitcoin. However, the altcoin market did not take to it. While a few altcoins did make minor gains, a majority of the top ten coins registered dips on the charts. While Dogecoin was down by 8.6 percent, XRP and NEO were down by 4.1 [&#8230;] ... [| Skaityti daugiau](https://ambcrypto.com/xrp-dogecoin-neo-price-analysis-18-june/) "
      ],
      "text/plain": [
       "<IPython.core.display.Markdown object>"
      ]
     },
     "execution_count": 5,
     "metadata": {},
     "output_type": "execute_result"
    }
   ],
   "source": [
    "#hide_input\n",
    "#md('##### {}'.format(titleBTC)) \n",
    "md(\"- {}{} {}{} [| Skaityti daugiau]({}) \".format(xrp['title'],'. ', xrp['body'], ' ...', xrp['url']))"
   ]
  },
  {
   "cell_type": "code",
   "execution_count": 6,
   "id": "prompt-farmer",
   "metadata": {
    "execution": {
     "iopub.execute_input": "2021-06-19T02:07:34.189423Z",
     "iopub.status.busy": "2021-06-19T02:07:34.188844Z",
     "iopub.status.idle": "2021-06-19T02:07:34.191870Z",
     "shell.execute_reply": "2021-06-19T02:07:34.191374Z"
    },
    "papermill": {
     "duration": 0.019297,
     "end_time": "2021-06-19T02:07:34.191985",
     "exception": false,
     "start_time": "2021-06-19T02:07:34.172688",
     "status": "completed"
    },
    "tags": []
   },
   "outputs": [
    {
     "data": {
      "text/markdown": [
       "- Tron (TRX) Ranks 1st in Transactions Per Second, Eclipsing ADA and XRP.  According to Coinmetrics, Tron is the fastest blockchain in terms of transactions per second Tron&#8217;s throughput exceeds that of Bitcoin, Ethereum, Cardano and XRP Tron&#8217;s users continue to grow with the network exceeding 40 million unique accounts However, TRX is currently trading above the 200-day moving average with a potential death cross, only weeks away The Tron (TRX) network ranks first in terms of handling the highest number of transactions per second. This milestone was observed by Tron community member [&#8230;] ... [| Skaityti daugiau](https://en.ethereumworldnews.com/tron-trx-ranks-1st-in-transactions-per-second-eclipsing-ada-and-xrp/) "
      ],
      "text/plain": [
       "<IPython.core.display.Markdown object>"
      ]
     },
     "execution_count": 6,
     "metadata": {},
     "output_type": "execute_result"
    }
   ],
   "source": [
    "#hide_input\n",
    "#md('##### {}'.format(titleBTC)) \n",
    "md(\"- {}{} {}{} [| Skaityti daugiau]({}) \".format(trx['title'],'. ', trx['body'], ' ...', trx['url']))"
   ]
  },
  {
   "cell_type": "code",
   "execution_count": 7,
   "id": "illegal-greece",
   "metadata": {
    "execution": {
     "iopub.execute_input": "2021-06-19T02:07:34.220669Z",
     "iopub.status.busy": "2021-06-19T02:07:34.220089Z",
     "iopub.status.idle": "2021-06-19T02:07:34.222552Z",
     "shell.execute_reply": "2021-06-19T02:07:34.223052Z"
    },
    "papermill": {
     "duration": 0.019298,
     "end_time": "2021-06-19T02:07:34.223205",
     "exception": false,
     "start_time": "2021-06-19T02:07:34.203907",
     "status": "completed"
    },
    "tags": []
   },
   "outputs": [
    {
     "data": {
      "text/markdown": [
       "- Dogecoin Killer or Kin? How Shiba Inu Differs From DOGE.  Shiba Inu calls itself a \"Dogecoin Killer.\" In many ways, it's a different breed. ... [| Skaityti daugiau](https://decrypt.co/74014/dogecoin-killer-kin-how-shiba-inu-differs-doge) "
      ],
      "text/plain": [
       "<IPython.core.display.Markdown object>"
      ]
     },
     "execution_count": 7,
     "metadata": {},
     "output_type": "execute_result"
    }
   ],
   "source": [
    "#hide_input\n",
    "#md('##### {}'.format(titleBTC)) \n",
    "md(\"- {}{} {}{} [| Skaityti daugiau]({}) \".format(eth['title'],'. ', eth['body'], ' ...', eth['url']))"
   ]
  },
  {
   "cell_type": "code",
   "execution_count": 8,
   "id": "sublime-lounge",
   "metadata": {
    "execution": {
     "iopub.execute_input": "2021-06-19T02:07:34.255741Z",
     "iopub.status.busy": "2021-06-19T02:07:34.255119Z",
     "iopub.status.idle": "2021-06-19T02:07:34.259383Z",
     "shell.execute_reply": "2021-06-19T02:07:34.258883Z"
    },
    "papermill": {
     "duration": 0.024243,
     "end_time": "2021-06-19T02:07:34.259510",
     "exception": false,
     "start_time": "2021-06-19T02:07:34.235267",
     "status": "completed"
    },
    "tags": []
   },
   "outputs": [
    {
     "data": {
      "text/markdown": [
       "- Why is Cardano open to ‘fixing’ Dogecoin’s ‘existential, ticking time bomb?’.  Dogecoin and Tesla CEO Elon Musk have both been two of the crypto-market&#8217;s biggest highlights this year. While the former was once seen as merely a &#8220;meme-coin,&#8221; thanks to the latter&#8217;s tongue-in-cheek efforts to market the alt, the dog coin is now the sixth-largest cryptocurrency in the industry with a market cap of over $40 [&#8230;] ... [| Skaityti daugiau](https://ambcrypto.com/why-is-cardano-open-to-fixing-dogecoins-existential-ticking-time-bomb/) "
      ],
      "text/plain": [
       "<IPython.core.display.Markdown object>"
      ]
     },
     "execution_count": 8,
     "metadata": {},
     "output_type": "execute_result"
    }
   ],
   "source": [
    "#hide_input\n",
    "#md('##### {}'.format(titleBTC)) \n",
    "md(\"- {}{} {}{} [| Skaityti daugiau]({}) \".format(ada['title'],'. ', ada['body'], ' ...', ada['url']))"
   ]
  },
  {
   "cell_type": "code",
   "execution_count": 9,
   "id": "specified-ordering",
   "metadata": {
    "execution": {
     "iopub.execute_input": "2021-06-19T02:07:34.290180Z",
     "iopub.status.busy": "2021-06-19T02:07:34.289604Z",
     "iopub.status.idle": "2021-06-19T02:07:34.292432Z",
     "shell.execute_reply": "2021-06-19T02:07:34.292930Z"
    },
    "papermill": {
     "duration": 0.021032,
     "end_time": "2021-06-19T02:07:34.293064",
     "exception": false,
     "start_time": "2021-06-19T02:07:34.272032",
     "status": "completed"
    },
    "tags": []
   },
   "outputs": [
    {
     "data": {
      "text/markdown": [
       "- China Will Knock Out The U.S. In The Race For Crypto Adoption, Coinbase Co-Founder Asserts.  China, which has long dominated other countries in Bitcoin mining power and adoption, but has also recently clamped down hard on bitcoin miners, is now being touted as the country that will likely beat the U.S in the race for Bitcoin adoption. The CEO and co-founder of the leading cryptocurrency exchange platform Coinbase, Fred Ehrsam, [&#8230;] ... [| Skaityti daugiau](https://zycrypto.com/china-will-knock-out-the-u-s-in-the-race-for-crypto-adoption-coinbase-co-founder-asserts/) "
      ],
      "text/plain": [
       "<IPython.core.display.Markdown object>"
      ]
     },
     "execution_count": 9,
     "metadata": {},
     "output_type": "execute_result"
    }
   ],
   "source": [
    "#hide_input\n",
    "#md('##### {}'.format(titleBTC)) \n",
    "md(\"- {}{} {}{} [| Skaityti daugiau]({}) \".format(exchange['title'],'. ', exchange['body'], ' ...', exchange['url']))"
   ]
  },
  {
   "cell_type": "code",
   "execution_count": null,
   "id": "tender-livestock",
   "metadata": {
    "papermill": {
     "duration": 0.012724,
     "end_time": "2021-06-19T02:07:34.319069",
     "exception": false,
     "start_time": "2021-06-19T02:07:34.306345",
     "status": "completed"
    },
    "tags": []
   },
   "outputs": [],
   "source": []
  },
  {
   "cell_type": "code",
   "execution_count": null,
   "id": "appreciated-diamond",
   "metadata": {
    "papermill": {
     "duration": 0.01267,
     "end_time": "2021-06-19T02:07:34.344547",
     "exception": false,
     "start_time": "2021-06-19T02:07:34.331877",
     "status": "completed"
    },
    "tags": []
   },
   "outputs": [],
   "source": []
  },
  {
   "cell_type": "code",
   "execution_count": null,
   "id": "romance-sweden",
   "metadata": {
    "papermill": {
     "duration": 0.012736,
     "end_time": "2021-06-19T02:07:34.370050",
     "exception": false,
     "start_time": "2021-06-19T02:07:34.357314",
     "status": "completed"
    },
    "tags": []
   },
   "outputs": [],
   "source": []
  },
  {
   "cell_type": "code",
   "execution_count": null,
   "id": "dietary-statistics",
   "metadata": {
    "papermill": {
     "duration": 0.012743,
     "end_time": "2021-06-19T02:07:34.396445",
     "exception": false,
     "start_time": "2021-06-19T02:07:34.383702",
     "status": "completed"
    },
    "tags": []
   },
   "outputs": [],
   "source": []
  }
 ],
 "metadata": {
  "kernelspec": {
   "display_name": "Python 3",
   "language": "python",
   "name": "python3"
  },
  "language_info": {
   "codemirror_mode": {
    "name": "ipython",
    "version": 3
   },
   "file_extension": ".py",
   "mimetype": "text/x-python",
   "name": "python",
   "nbconvert_exporter": "python",
   "pygments_lexer": "ipython3",
   "version": "3.6.13"
  },
  "papermill": {
   "default_parameters": {},
   "duration": 13.313096,
   "end_time": "2021-06-19T02:07:35.654678",
   "environment_variables": {},
   "exception": null,
   "input_path": "Market-News.ipynb",
   "output_path": "Market-News.ipynb",
   "parameters": {},
   "start_time": "2021-06-19T02:07:22.341582",
   "version": "2.2.2"
  }
 },
 "nbformat": 4,
 "nbformat_minor": 5
}