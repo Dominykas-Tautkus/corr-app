{
 "cells": [
  {
   "cell_type": "markdown",
   "id": "short-greensboro",
   "metadata": {
    "papermill": {
     "duration": 0.017124,
     "end_time": "2021-04-03T02:07:36.418343",
     "exception": false,
     "start_time": "2021-04-03T02:07:36.401219",
     "status": "completed"
    },
    "tags": []
   },
   "source": [
    "# Kriptovaliutų naujienos"
   ]
  },
  {
   "cell_type": "code",
   "execution_count": 1,
   "id": "functioning-knowing",
   "metadata": {
    "execution": {
     "iopub.execute_input": "2021-04-03T02:07:36.451969Z",
     "iopub.status.busy": "2021-04-03T02:07:36.451414Z",
     "iopub.status.idle": "2021-04-03T02:07:37.749743Z",
     "shell.execute_reply": "2021-04-03T02:07:37.748845Z"
    },
    "papermill": {
     "duration": 1.321073,
     "end_time": "2021-04-03T02:07:37.749975",
     "exception": false,
     "start_time": "2021-04-03T02:07:36.428902",
     "status": "completed"
    },
    "tags": []
   },
   "outputs": [],
   "source": [
    "#hide_input\n",
    "import warnings\n",
    "warnings.filterwarnings('ignore')\n",
    "from scripts.read_data import read_api\n",
    "from scripts.read_data import read_news\n",
    "from scripts.read_data import read_covid\n",
    "import matplotlib.pyplot as plt \n",
    "from IPython.display import Markdown as md"
   ]
  },
  {
   "cell_type": "code",
   "execution_count": 2,
   "id": "shared-acceptance",
   "metadata": {
    "execution": {
     "iopub.execute_input": "2021-04-03T02:07:37.781077Z",
     "iopub.status.busy": "2021-04-03T02:07:37.780001Z",
     "iopub.status.idle": "2021-04-03T02:07:47.098182Z",
     "shell.execute_reply": "2021-04-03T02:07:47.097591Z"
    },
    "papermill": {
     "duration": 9.335064,
     "end_time": "2021-04-03T02:07:47.098311",
     "exception": false,
     "start_time": "2021-04-03T02:07:37.763247",
     "status": "completed"
    },
    "tags": []
   },
   "outputs": [],
   "source": [
    "#hide_input\n",
    "blockchain = read_news('blockchain') \n",
    "btc = read_news('btc') \n",
    "xrp = read_news('xrp') \n",
    "trx = read_news('trx') \n",
    "eth = read_news('eth')  \n",
    "ada = read_news('ada')\n",
    "exchange = read_news('exchange') "
   ]
  },
  {
   "cell_type": "code",
   "execution_count": 3,
   "id": "synthetic-notion",
   "metadata": {
    "execution": {
     "iopub.execute_input": "2021-04-03T02:07:47.124987Z",
     "iopub.status.busy": "2021-04-03T02:07:47.124398Z",
     "iopub.status.idle": "2021-04-03T02:07:47.132630Z",
     "shell.execute_reply": "2021-04-03T02:07:47.132125Z"
    },
    "papermill": {
     "duration": 0.024179,
     "end_time": "2021-04-03T02:07:47.132755",
     "exception": false,
     "start_time": "2021-04-03T02:07:47.108576",
     "status": "completed"
    },
    "tags": []
   },
   "outputs": [
    {
     "data": {
      "text/markdown": [
       "- EQIBank Picks Unido As Institutional Partner for Blockchain Solutions.  Global digital banking service EQIBank has chosen Unido as its institutional partner for secure custody solution. The bank is set to utilize a customized version of Unido Insto, the institutional bank-in-a-box solution built on Unido’s fragmented key signing technology, to deliver crypto custody and crypto trading products to existing EQIBank clients and drive new user [&#8230;]The post EQIBank Picks Unido As Institutional Partner for Blockchain Solutions appeared first on The Daily Hodl. ... [| Skaityti daugiau](https://dailyhodl.com/2021/04/02/eqibank-picks-unido-as-institutional-partner-for-blockchain-solutions/) "
      ],
      "text/plain": [
       "<IPython.core.display.Markdown object>"
      ]
     },
     "execution_count": 3,
     "metadata": {},
     "output_type": "execute_result"
    }
   ],
   "source": [
    "#hide_input\n",
    "#md('##### {}'.format(titleBTC)) \n",
    "md(\"- {}{} {}{} [| Skaityti daugiau]({}) \".format(blockchain['title'],'. ', blockchain['body'], ' ...', blockchain['url']))"
   ]
  },
  {
   "cell_type": "code",
   "execution_count": 4,
   "id": "aging-caution",
   "metadata": {
    "execution": {
     "iopub.execute_input": "2021-04-03T02:07:47.159104Z",
     "iopub.status.busy": "2021-04-03T02:07:47.158522Z",
     "iopub.status.idle": "2021-04-03T02:07:47.160554Z",
     "shell.execute_reply": "2021-04-03T02:07:47.160980Z"
    },
    "papermill": {
     "duration": 0.017954,
     "end_time": "2021-04-03T02:07:47.161102",
     "exception": false,
     "start_time": "2021-04-03T02:07:47.143148",
     "status": "completed"
    },
    "tags": []
   },
   "outputs": [
    {
     "data": {
      "text/markdown": [
       "- Barstool Sports President Dave Portnoy on Bitcoin: ‘I Wish I Was In’.  Recently, David Scott Portnoy, who is an American internet celebrity, blogger, as well as the founder and president of Barstools Sports, expressed his regret at selling his BTC holdings too soon. On 4 August 2020, Portnoy invited the Winklevoss twins to show him how to buy Bitcoin. His journey with cryptocurrencies began on 13 August 2020, […] ... [| Skaityti daugiau](https://www.cryptoglobe.com/latest/2021/04/barstool-sports-president-dave-portnoy-on-bitcoin-i-wish-i-was-in/) "
      ],
      "text/plain": [
       "<IPython.core.display.Markdown object>"
      ]
     },
     "execution_count": 4,
     "metadata": {},
     "output_type": "execute_result"
    }
   ],
   "source": [
    "#hide_input\n",
    "#md('##### {}'.format(titleBTC)) \n",
    "md(\"- {}{} {}{} [| Skaityti daugiau]({}) \".format(btc['title'],'. ', btc['body'], ' ...', btc['url']))"
   ]
  },
  {
   "cell_type": "code",
   "execution_count": 5,
   "id": "organic-actress",
   "metadata": {
    "execution": {
     "iopub.execute_input": "2021-04-03T02:07:47.187746Z",
     "iopub.status.busy": "2021-04-03T02:07:47.187176Z",
     "iopub.status.idle": "2021-04-03T02:07:47.191016Z",
     "shell.execute_reply": "2021-04-03T02:07:47.190543Z"
    },
    "papermill": {
     "duration": 0.019334,
     "end_time": "2021-04-03T02:07:47.191125",
     "exception": false,
     "start_time": "2021-04-03T02:07:47.171791",
     "status": "completed"
    },
    "tags": []
   },
   "outputs": [
    {
     "data": {
      "text/markdown": [
       "- XRP Is Worth More Today Than Before SEC Lawsuit Against Ripple.  As of April 2, XRP's market cap is $27.9 billion, making it the 7th-largest cryptocurrency. ... [| Skaityti daugiau](https://decrypt.co/63855/xrp-worth-more-today-before-sec-lawsuit-ripple) "
      ],
      "text/plain": [
       "<IPython.core.display.Markdown object>"
      ]
     },
     "execution_count": 5,
     "metadata": {},
     "output_type": "execute_result"
    }
   ],
   "source": [
    "#hide_input\n",
    "#md('##### {}'.format(titleBTC)) \n",
    "md(\"- {}{} {}{} [| Skaityti daugiau]({}) \".format(xrp['title'],'. ', xrp['body'], ' ...', xrp['url']))"
   ]
  },
  {
   "cell_type": "code",
   "execution_count": 6,
   "id": "prompt-farmer",
   "metadata": {
    "execution": {
     "iopub.execute_input": "2021-04-03T02:07:47.218725Z",
     "iopub.status.busy": "2021-04-03T02:07:47.218179Z",
     "iopub.status.idle": "2021-04-03T02:07:47.221020Z",
     "shell.execute_reply": "2021-04-03T02:07:47.221481Z"
    },
    "papermill": {
     "duration": 0.01925,
     "end_time": "2021-04-03T02:07:47.221606",
     "exception": false,
     "start_time": "2021-04-03T02:07:47.202356",
     "status": "completed"
    },
    "tags": []
   },
   "outputs": [
    {
     "data": {
      "text/markdown": [
       "- Tron, Algorand, Nano Price Analysis: 02 April.  Tron formed a triangle pattern on the charts and was heading back to the $0.084-support. Algorand projected neutral momentum in the short term, while Nano&#8216;s bulls looked to flip the $5-level from resistance to support. Tron [TRX] TRX formed a descending triangle pattern on the hourly chart. The trading volume was trending downwards. The MACD [&#8230;] ... [| Skaityti daugiau](https://ambcrypto.com/tron-algorand-nano-price-analysis-02-april/) "
      ],
      "text/plain": [
       "<IPython.core.display.Markdown object>"
      ]
     },
     "execution_count": 6,
     "metadata": {},
     "output_type": "execute_result"
    }
   ],
   "source": [
    "#hide_input\n",
    "#md('##### {}'.format(titleBTC)) \n",
    "md(\"- {}{} {}{} [| Skaityti daugiau]({}) \".format(trx['title'],'. ', trx['body'], ' ...', trx['url']))"
   ]
  },
  {
   "cell_type": "code",
   "execution_count": 7,
   "id": "illegal-greece",
   "metadata": {
    "execution": {
     "iopub.execute_input": "2021-04-03T02:07:47.250426Z",
     "iopub.status.busy": "2021-04-03T02:07:47.249739Z",
     "iopub.status.idle": "2021-04-03T02:07:47.253658Z",
     "shell.execute_reply": "2021-04-03T02:07:47.253141Z"
    },
    "papermill": {
     "duration": 0.019234,
     "end_time": "2021-04-03T02:07:47.253785",
     "exception": false,
     "start_time": "2021-04-03T02:07:47.234551",
     "status": "completed"
    },
    "tags": []
   },
   "outputs": [
    {
     "data": {
      "text/markdown": [
       "- Litecoin Signal Shines, Suggests Downtrend Against Bitcoin Is Over.  Litecoin is trading at around $200&#8230; still. The altcoin has failed to set a new all-time high like Bitcoin, Ethereum, and others in the top ten have, yet it has clung onto the ranks for its entire lifetime. A signal has appeared &#8211; across several of the highest timeframes &#8211; that could suggest that the [&#8230;] ... [| Skaityti daugiau](https://www.newsbtc.com/analysis/ltc/litecoin-reversal-signal-bitcoin-btc-ltc/) "
      ],
      "text/plain": [
       "<IPython.core.display.Markdown object>"
      ]
     },
     "execution_count": 7,
     "metadata": {},
     "output_type": "execute_result"
    }
   ],
   "source": [
    "#hide_input\n",
    "#md('##### {}'.format(titleBTC)) \n",
    "md(\"- {}{} {}{} [| Skaityti daugiau]({}) \".format(eth['title'],'. ', eth['body'], ' ...', eth['url']))"
   ]
  },
  {
   "cell_type": "code",
   "execution_count": 8,
   "id": "sublime-lounge",
   "metadata": {
    "execution": {
     "iopub.execute_input": "2021-04-03T02:07:47.287278Z",
     "iopub.status.busy": "2021-04-03T02:07:47.285447Z",
     "iopub.status.idle": "2021-04-03T02:07:47.289185Z",
     "shell.execute_reply": "2021-04-03T02:07:47.289607Z"
    },
    "papermill": {
     "duration": 0.022108,
     "end_time": "2021-04-03T02:07:47.289728",
     "exception": false,
     "start_time": "2021-04-03T02:07:47.267620",
     "status": "completed"
    },
    "tags": []
   },
   "outputs": [
    {
     "data": {
      "text/markdown": [
       "- ‘Wild west’ as developers MacGyver highly popular NFTs on Cardano.  Even without smart contract functionality, Cardano developers have found ways to mint and sell NFT collectibles. ... [| Skaityti daugiau](https://cointelegraph.com/news/wild-west-as-developers-macgyver-highly-popular-nfts-on-cardano) "
      ],
      "text/plain": [
       "<IPython.core.display.Markdown object>"
      ]
     },
     "execution_count": 8,
     "metadata": {},
     "output_type": "execute_result"
    }
   ],
   "source": [
    "#hide_input\n",
    "#md('##### {}'.format(titleBTC)) \n",
    "md(\"- {}{} {}{} [| Skaityti daugiau]({}) \".format(ada['title'],'. ', ada['body'], ' ...', ada['url']))"
   ]
  },
  {
   "cell_type": "code",
   "execution_count": 9,
   "id": "specified-ordering",
   "metadata": {
    "execution": {
     "iopub.execute_input": "2021-04-03T02:07:47.317985Z",
     "iopub.status.busy": "2021-04-03T02:07:47.317410Z",
     "iopub.status.idle": "2021-04-03T02:07:47.320844Z",
     "shell.execute_reply": "2021-04-03T02:07:47.320394Z"
    },
    "papermill": {
     "duration": 0.019498,
     "end_time": "2021-04-03T02:07:47.320947",
     "exception": false,
     "start_time": "2021-04-03T02:07:47.301449",
     "status": "completed"
    },
    "tags": []
   },
   "outputs": [
    {
     "data": {
      "text/markdown": [
       "- Nasdaq-Listed Mortgage Brokerage Mogo Starts Rewarding Customers via Bitcoin Cashback Program.  Mogo finance Technology, a Vancouver-based fintech firm listed on Nasdaq (NASDAQ: MOGO) and on the Toronto Stock Exchange (TSX: MOGO), has extended its bitcoin cashback program to allow customers who get a new mortgage with the firm or that refinance an existing one to receive up to CA$3,100 (US$2,460) in BTC. The firm has already […] ... [| Skaityti daugiau](https://www.cryptoglobe.com/latest/2021/04/nasdaq-listed-mortgage-brokerage-mogo-starts-rewarding-customers-via-bitcoin-cashback-program/) "
      ],
      "text/plain": [
       "<IPython.core.display.Markdown object>"
      ]
     },
     "execution_count": 9,
     "metadata": {},
     "output_type": "execute_result"
    }
   ],
   "source": [
    "#hide_input\n",
    "#md('##### {}'.format(titleBTC)) \n",
    "md(\"- {}{} {}{} [| Skaityti daugiau]({}) \".format(exchange['title'],'. ', exchange['body'], ' ...', exchange['url']))"
   ]
  },
  {
   "cell_type": "code",
   "execution_count": null,
   "id": "tender-livestock",
   "metadata": {
    "papermill": {
     "duration": 0.012499,
     "end_time": "2021-04-03T02:07:47.345274",
     "exception": false,
     "start_time": "2021-04-03T02:07:47.332775",
     "status": "completed"
    },
    "tags": []
   },
   "outputs": [],
   "source": []
  },
  {
   "cell_type": "code",
   "execution_count": null,
   "id": "appreciated-diamond",
   "metadata": {
    "papermill": {
     "duration": 0.012443,
     "end_time": "2021-04-03T02:07:47.369713",
     "exception": false,
     "start_time": "2021-04-03T02:07:47.357270",
     "status": "completed"
    },
    "tags": []
   },
   "outputs": [],
   "source": []
  },
  {
   "cell_type": "code",
   "execution_count": null,
   "id": "romance-sweden",
   "metadata": {
    "papermill": {
     "duration": 0.012255,
     "end_time": "2021-04-03T02:07:47.394358",
     "exception": false,
     "start_time": "2021-04-03T02:07:47.382103",
     "status": "completed"
    },
    "tags": []
   },
   "outputs": [],
   "source": []
  },
  {
   "cell_type": "code",
   "execution_count": null,
   "id": "dietary-statistics",
   "metadata": {
    "papermill": {
     "duration": 0.011826,
     "end_time": "2021-04-03T02:07:47.418272",
     "exception": false,
     "start_time": "2021-04-03T02:07:47.406446",
     "status": "completed"
    },
    "tags": []
   },
   "outputs": [],
   "source": []
  }
 ],
 "metadata": {
  "kernelspec": {
   "display_name": "Python 3",
   "language": "python",
   "name": "python3"
  },
  "language_info": {
   "codemirror_mode": {
    "name": "ipython",
    "version": 3
   },
   "file_extension": ".py",
   "mimetype": "text/x-python",
   "name": "python",
   "nbconvert_exporter": "python",
   "pygments_lexer": "ipython3",
   "version": "3.6.13"
  },
  "papermill": {
   "default_parameters": {},
   "duration": 13.302088,
   "end_time": "2021-04-03T02:07:48.643819",
   "environment_variables": {},
   "exception": null,
   "input_path": "Market-News.ipynb",
   "output_path": "Market-News.ipynb",
   "parameters": {},
   "start_time": "2021-04-03T02:07:35.341731",
   "version": "2.2.2"
  }
 },
 "nbformat": 4,
 "nbformat_minor": 5
}