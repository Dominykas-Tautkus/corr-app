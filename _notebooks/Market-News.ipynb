{
 "cells": [
  {
   "cell_type": "markdown",
   "id": "short-greensboro",
   "metadata": {
    "papermill": {
     "duration": 0.015525,
     "end_time": "2021-05-01T02:13:05.280690",
     "exception": false,
     "start_time": "2021-05-01T02:13:05.265165",
     "status": "completed"
    },
    "tags": []
   },
   "source": [
    "# Kriptovaliutų naujienos"
   ]
  },
  {
   "cell_type": "code",
   "execution_count": 1,
   "id": "functioning-knowing",
   "metadata": {
    "execution": {
     "iopub.execute_input": "2021-05-01T02:13:05.316095Z",
     "iopub.status.busy": "2021-05-01T02:13:05.315412Z",
     "iopub.status.idle": "2021-05-01T02:13:06.738620Z",
     "shell.execute_reply": "2021-05-01T02:13:06.738024Z"
    },
    "papermill": {
     "duration": 1.446371,
     "end_time": "2021-05-01T02:13:06.738797",
     "exception": false,
     "start_time": "2021-05-01T02:13:05.292426",
     "status": "completed"
    },
    "tags": []
   },
   "outputs": [],
   "source": [
    "#hide_input\n",
    "import warnings\n",
    "warnings.filterwarnings('ignore')\n",
    "from scripts.read_data import read_api\n",
    "from scripts.read_data import read_news\n",
    "from scripts.read_data import read_covid\n",
    "import matplotlib.pyplot as plt \n",
    "from IPython.display import Markdown as md"
   ]
  },
  {
   "cell_type": "code",
   "execution_count": 2,
   "id": "shared-acceptance",
   "metadata": {
    "execution": {
     "iopub.execute_input": "2021-05-01T02:13:06.773464Z",
     "iopub.status.busy": "2021-05-01T02:13:06.772176Z",
     "iopub.status.idle": "2021-05-01T02:13:16.720434Z",
     "shell.execute_reply": "2021-05-01T02:13:16.721047Z"
    },
    "papermill": {
     "duration": 9.969988,
     "end_time": "2021-05-01T02:13:16.721257",
     "exception": false,
     "start_time": "2021-05-01T02:13:06.751269",
     "status": "completed"
    },
    "tags": []
   },
   "outputs": [],
   "source": [
    "#hide_input\n",
    "blockchain = read_news('blockchain') \n",
    "btc = read_news('btc') \n",
    "xrp = read_news('xrp') \n",
    "trx = read_news('trx') \n",
    "eth = read_news('eth')  \n",
    "ada = read_news('ada')\n",
    "exchange = read_news('exchange') "
   ]
  },
  {
   "cell_type": "code",
   "execution_count": 3,
   "id": "synthetic-notion",
   "metadata": {
    "execution": {
     "iopub.execute_input": "2021-05-01T02:13:16.751972Z",
     "iopub.status.busy": "2021-05-01T02:13:16.750978Z",
     "iopub.status.idle": "2021-05-01T02:13:16.754962Z",
     "shell.execute_reply": "2021-05-01T02:13:16.755512Z"
    },
    "papermill": {
     "duration": 0.022455,
     "end_time": "2021-05-01T02:13:16.755636",
     "exception": false,
     "start_time": "2021-05-01T02:13:16.733181",
     "status": "completed"
    },
    "tags": []
   },
   "outputs": [
    {
     "data": {
      "text/markdown": [
       "- Ethernity Chain Presents the Muhammad Ali NFT Collection.  April 30, 2021 – New York Muhammad Ali Enterprises (MAE) and philanthropy-focused blockchain platform Ethernity Chain (CCC:ERN-USD) today announced “The Muhammad Ali Collection” in partnership with Raf Grassetti, one of the foremost digital sculptors in the NFT community. The auction will begin on May 1, 2021, at 12 p.m. EDT, exclusively at Ali.com (powered by Ethernity) [&#8230;]The post Ethernity Chain Presents the Muhammad Ali NFT Collection appeared first on The Daily Hodl. ... [| Skaityti daugiau](https://dailyhodl.com/2021/04/30/ethernity-chain-present-the-muhammad-ali-nft-collection/) "
      ],
      "text/plain": [
       "<IPython.core.display.Markdown object>"
      ]
     },
     "execution_count": 3,
     "metadata": {},
     "output_type": "execute_result"
    }
   ],
   "source": [
    "#hide_input\n",
    "#md('##### {}'.format(titleBTC)) \n",
    "md(\"- {}{} {}{} [| Skaityti daugiau]({}) \".format(blockchain['title'],'. ', blockchain['body'], ' ...', blockchain['url']))"
   ]
  },
  {
   "cell_type": "code",
   "execution_count": 4,
   "id": "aging-caution",
   "metadata": {
    "execution": {
     "iopub.execute_input": "2021-05-01T02:13:16.783919Z",
     "iopub.status.busy": "2021-05-01T02:13:16.783248Z",
     "iopub.status.idle": "2021-05-01T02:13:16.787576Z",
     "shell.execute_reply": "2021-05-01T02:13:16.787007Z"
    },
    "papermill": {
     "duration": 0.019884,
     "end_time": "2021-05-01T02:13:16.787725",
     "exception": false,
     "start_time": "2021-05-01T02:13:16.767841",
     "status": "completed"
    },
    "tags": []
   },
   "outputs": [
    {
     "data": {
      "text/markdown": [
       "- Bitcoin Breaks Above $57,000 As April Ends, Altcoins Continue To Rally.  Bitcoin and the whole crypto market turned green at the close of April.&#160;The run-up to this month&#8217;s $4.2 billion options expiry was uneventful, with no signs of dissent. After a brief fall below the $53,000 support level on April 29, Bitcoin rallied 10% by midday to reclaim its previous high of $57,400. Related article &#124; [&#8230;] ... [| Skaityti daugiau](https://www.newsbtc.com/news/bitcoin/bitcoin-breaks-above-57000-as-april-ends-altcoins-continue-to-rally/) "
      ],
      "text/plain": [
       "<IPython.core.display.Markdown object>"
      ]
     },
     "execution_count": 4,
     "metadata": {},
     "output_type": "execute_result"
    }
   ],
   "source": [
    "#hide_input\n",
    "#md('##### {}'.format(titleBTC)) \n",
    "md(\"- {}{} {}{} [| Skaityti daugiau]({}) \".format(btc['title'],'. ', btc['body'], ' ...', btc['url']))"
   ]
  },
  {
   "cell_type": "code",
   "execution_count": 5,
   "id": "organic-actress",
   "metadata": {
    "execution": {
     "iopub.execute_input": "2021-05-01T02:13:16.817158Z",
     "iopub.status.busy": "2021-05-01T02:13:16.816067Z",
     "iopub.status.idle": "2021-05-01T02:13:16.820153Z",
     "shell.execute_reply": "2021-05-01T02:13:16.820669Z"
    },
    "papermill": {
     "duration": 0.020065,
     "end_time": "2021-05-01T02:13:16.820831",
     "exception": false,
     "start_time": "2021-05-01T02:13:16.800766",
     "status": "completed"
    },
    "tags": []
   },
   "outputs": [
    {
     "data": {
      "text/markdown": [
       "- Bitcoin Breaks Above $57,000 As April Ends, Altcoins Continue To Rally.  Bitcoin and the whole crypto market turned green at the close of April.&#160;The run-up to this month&#8217;s $4.2 billion options expiry was uneventful, with no signs of dissent. After a brief fall below the $53,000 support level on April 29, Bitcoin rallied 10% by midday to reclaim its previous high of $57,400. Related article &#124; [&#8230;] ... [| Skaityti daugiau](https://www.newsbtc.com/news/bitcoin/bitcoin-breaks-above-57000-as-april-ends-altcoins-continue-to-rally/) "
      ],
      "text/plain": [
       "<IPython.core.display.Markdown object>"
      ]
     },
     "execution_count": 5,
     "metadata": {},
     "output_type": "execute_result"
    }
   ],
   "source": [
    "#hide_input\n",
    "#md('##### {}'.format(titleBTC)) \n",
    "md(\"- {}{} {}{} [| Skaityti daugiau]({}) \".format(xrp['title'],'. ', xrp['body'], ' ...', xrp['url']))"
   ]
  },
  {
   "cell_type": "code",
   "execution_count": 6,
   "id": "prompt-farmer",
   "metadata": {
    "execution": {
     "iopub.execute_input": "2021-05-01T02:13:16.853233Z",
     "iopub.status.busy": "2021-05-01T02:13:16.852551Z",
     "iopub.status.idle": "2021-05-01T02:13:16.855820Z",
     "shell.execute_reply": "2021-05-01T02:13:16.855305Z"
    },
    "papermill": {
     "duration": 0.021906,
     "end_time": "2021-05-01T02:13:16.855938",
     "exception": false,
     "start_time": "2021-05-01T02:13:16.834032",
     "status": "completed"
    },
    "tags": []
   },
   "outputs": [
    {
     "data": {
      "text/markdown": [
       "- Tron Plans to Launch a Cross-Chain Scaling Solution Known as Apollo.  Justin Sun has announced plans to launch a cross-chain scaling solution known as Apollo Apollo will enable the transfer of data and assets across multiple chains Such a feature on Tron will be beneficial in enhancing DeFi across the crypto-verse Just Sun and the Tron Foundation are yet to release full details on Apollo The founder and CEO of Tron (TRX), Just Sun, has announced plans of launching a new cross-chain scaling solution known as Apollo. According to Justin Sun, [&#8230;] ... [| Skaityti daugiau](https://en.ethereumworldnews.com/tron-plans-to-launch-a-cross-chain-scaling-solution-known-as-apollo/) "
      ],
      "text/plain": [
       "<IPython.core.display.Markdown object>"
      ]
     },
     "execution_count": 6,
     "metadata": {},
     "output_type": "execute_result"
    }
   ],
   "source": [
    "#hide_input\n",
    "#md('##### {}'.format(titleBTC)) \n",
    "md(\"- {}{} {}{} [| Skaityti daugiau]({}) \".format(trx['title'],'. ', trx['body'], ' ...', trx['url']))"
   ]
  },
  {
   "cell_type": "code",
   "execution_count": 7,
   "id": "illegal-greece",
   "metadata": {
    "execution": {
     "iopub.execute_input": "2021-05-01T02:13:16.885880Z",
     "iopub.status.busy": "2021-05-01T02:13:16.885216Z",
     "iopub.status.idle": "2021-05-01T02:13:16.888601Z",
     "shell.execute_reply": "2021-05-01T02:13:16.888042Z"
    },
    "papermill": {
     "duration": 0.020157,
     "end_time": "2021-05-01T02:13:16.888731",
     "exception": false,
     "start_time": "2021-05-01T02:13:16.868574",
     "status": "completed"
    },
    "tags": []
   },
   "outputs": [
    {
     "data": {
      "text/markdown": [
       "- Bitcoin Breaks Above $57,000 As April Ends, Altcoins Continue To Rally.  Bitcoin and the whole crypto market turned green at the close of April.&#160;The run-up to this month&#8217;s $4.2 billion options expiry was uneventful, with no signs of dissent. After a brief fall below the $53,000 support level on April 29, Bitcoin rallied 10% by midday to reclaim its previous high of $57,400. Related article &#124; [&#8230;] ... [| Skaityti daugiau](https://www.newsbtc.com/news/bitcoin/bitcoin-breaks-above-57000-as-april-ends-altcoins-continue-to-rally/) "
      ],
      "text/plain": [
       "<IPython.core.display.Markdown object>"
      ]
     },
     "execution_count": 7,
     "metadata": {},
     "output_type": "execute_result"
    }
   ],
   "source": [
    "#hide_input\n",
    "#md('##### {}'.format(titleBTC)) \n",
    "md(\"- {}{} {}{} [| Skaityti daugiau]({}) \".format(eth['title'],'. ', eth['body'], ' ...', eth['url']))"
   ]
  },
  {
   "cell_type": "code",
   "execution_count": 8,
   "id": "sublime-lounge",
   "metadata": {
    "execution": {
     "iopub.execute_input": "2021-05-01T02:13:16.919596Z",
     "iopub.status.busy": "2021-05-01T02:13:16.918853Z",
     "iopub.status.idle": "2021-05-01T02:13:16.921731Z",
     "shell.execute_reply": "2021-05-01T02:13:16.922286Z"
    },
    "papermill": {
     "duration": 0.020385,
     "end_time": "2021-05-01T02:13:16.922424",
     "exception": false,
     "start_time": "2021-05-01T02:13:16.902039",
     "status": "completed"
    },
    "tags": []
   },
   "outputs": [
    {
     "data": {
      "text/markdown": [
       "- Cardano Africa Special Event Soured by Fact Checking Calls.  The Africa Special event aired on Thursday, showcasing Cardano developments on the continent. At the time of writing, the show has hit over 120k views, with IOG CEO Charles Hoskinson calling it the most popular show they&#8217;ve done to date. Although the response was largely positive, with a wide range of mainstream and crypto publications [&#8230;] ... [| Skaityti daugiau](https://www.newsbtc.com/news/cardano/cardano-africa-special-event-soured-by-fact-checking-calls/) "
      ],
      "text/plain": [
       "<IPython.core.display.Markdown object>"
      ]
     },
     "execution_count": 8,
     "metadata": {},
     "output_type": "execute_result"
    }
   ],
   "source": [
    "#hide_input\n",
    "#md('##### {}'.format(titleBTC)) \n",
    "md(\"- {}{} {}{} [| Skaityti daugiau]({}) \".format(ada['title'],'. ', ada['body'], ' ...', ada['url']))"
   ]
  },
  {
   "cell_type": "code",
   "execution_count": 9,
   "id": "specified-ordering",
   "metadata": {
    "execution": {
     "iopub.execute_input": "2021-05-01T02:13:16.955634Z",
     "iopub.status.busy": "2021-05-01T02:13:16.954974Z",
     "iopub.status.idle": "2021-05-01T02:13:16.958079Z",
     "shell.execute_reply": "2021-05-01T02:13:16.957576Z"
    },
    "papermill": {
     "duration": 0.022448,
     "end_time": "2021-05-01T02:13:16.958189",
     "exception": false,
     "start_time": "2021-05-01T02:13:16.935741",
     "status": "completed"
    },
    "tags": []
   },
   "outputs": [
    {
     "data": {
      "text/markdown": [
       "- Cryptocurrency Exchange Hotbit Hacked: Systems Paralyzed, 2 Million Users Affected.  A cryptocurrency exchange with about 2 million users worldwide announced that it has &#8220;suffered a serious cyber attack.&#8221; A number of basic services are paralyzed and the attacker tried to access the exchange&#8217;s wallets. Consequently, the platform has shut down, stating that it needs to perform a &#8220;comprehensive inspection&#8221; which is expected to last one [&#8230;] ... [| Skaityti daugiau](https://news.bitcoin.com/cryptocurrency-exchange-hotbit-hacked-2-million-users/) "
      ],
      "text/plain": [
       "<IPython.core.display.Markdown object>"
      ]
     },
     "execution_count": 9,
     "metadata": {},
     "output_type": "execute_result"
    }
   ],
   "source": [
    "#hide_input\n",
    "#md('##### {}'.format(titleBTC)) \n",
    "md(\"- {}{} {}{} [| Skaityti daugiau]({}) \".format(exchange['title'],'. ', exchange['body'], ' ...', exchange['url']))"
   ]
  },
  {
   "cell_type": "code",
   "execution_count": null,
   "id": "tender-livestock",
   "metadata": {
    "papermill": {
     "duration": 0.013388,
     "end_time": "2021-05-01T02:13:16.985376",
     "exception": false,
     "start_time": "2021-05-01T02:13:16.971988",
     "status": "completed"
    },
    "tags": []
   },
   "outputs": [],
   "source": []
  },
  {
   "cell_type": "code",
   "execution_count": null,
   "id": "appreciated-diamond",
   "metadata": {
    "papermill": {
     "duration": 0.013375,
     "end_time": "2021-05-01T02:13:17.011866",
     "exception": false,
     "start_time": "2021-05-01T02:13:16.998491",
     "status": "completed"
    },
    "tags": []
   },
   "outputs": [],
   "source": []
  },
  {
   "cell_type": "code",
   "execution_count": null,
   "id": "romance-sweden",
   "metadata": {
    "papermill": {
     "duration": 0.015729,
     "end_time": "2021-05-01T02:13:17.041021",
     "exception": false,
     "start_time": "2021-05-01T02:13:17.025292",
     "status": "completed"
    },
    "tags": []
   },
   "outputs": [],
   "source": []
  },
  {
   "cell_type": "code",
   "execution_count": null,
   "id": "dietary-statistics",
   "metadata": {
    "papermill": {
     "duration": 0.01462,
     "end_time": "2021-05-01T02:13:17.070436",
     "exception": false,
     "start_time": "2021-05-01T02:13:17.055816",
     "status": "completed"
    },
    "tags": []
   },
   "outputs": [],
   "source": []
  }
 ],
 "metadata": {
  "kernelspec": {
   "display_name": "Python 3",
   "language": "python",
   "name": "python3"
  },
  "language_info": {
   "codemirror_mode": {
    "name": "ipython",
    "version": 3
   },
   "file_extension": ".py",
   "mimetype": "text/x-python",
   "name": "python",
   "nbconvert_exporter": "python",
   "pygments_lexer": "ipython3",
   "version": "3.6.13"
  },
  "papermill": {
   "default_parameters": {},
   "duration": 13.306303,
   "end_time": "2021-05-01T02:13:17.492013",
   "environment_variables": {},
   "exception": null,
   "input_path": "Market-News.ipynb",
   "output_path": "Market-News.ipynb",
   "parameters": {},
   "start_time": "2021-05-01T02:13:04.185710",
   "version": "2.2.2"
  }
 },
 "nbformat": 4,
 "nbformat_minor": 5
}