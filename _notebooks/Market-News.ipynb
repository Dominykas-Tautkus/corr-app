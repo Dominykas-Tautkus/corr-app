{
 "cells": [
  {
   "cell_type": "markdown",
   "id": "short-greensboro",
   "metadata": {
    "papermill": {
     "duration": 0.016599,
     "end_time": "2021-04-27T02:10:16.937770",
     "exception": false,
     "start_time": "2021-04-27T02:10:16.921171",
     "status": "completed"
    },
    "tags": []
   },
   "source": [
    "# Kriptovaliutų naujienos"
   ]
  },
  {
   "cell_type": "code",
   "execution_count": 1,
   "id": "functioning-knowing",
   "metadata": {
    "execution": {
     "iopub.execute_input": "2021-04-27T02:10:16.974026Z",
     "iopub.status.busy": "2021-04-27T02:10:16.973122Z",
     "iopub.status.idle": "2021-04-27T02:10:18.457012Z",
     "shell.execute_reply": "2021-04-27T02:10:18.456464Z"
    },
    "papermill": {
     "duration": 1.507134,
     "end_time": "2021-04-27T02:10:18.457216",
     "exception": false,
     "start_time": "2021-04-27T02:10:16.950082",
     "status": "completed"
    },
    "tags": []
   },
   "outputs": [],
   "source": [
    "#hide_input\n",
    "import warnings\n",
    "warnings.filterwarnings('ignore')\n",
    "from scripts.read_data import read_api\n",
    "from scripts.read_data import read_news\n",
    "from scripts.read_data import read_covid\n",
    "import matplotlib.pyplot as plt \n",
    "from IPython.display import Markdown as md"
   ]
  },
  {
   "cell_type": "code",
   "execution_count": 2,
   "id": "shared-acceptance",
   "metadata": {
    "execution": {
     "iopub.execute_input": "2021-04-27T02:10:18.490279Z",
     "iopub.status.busy": "2021-04-27T02:10:18.489188Z",
     "iopub.status.idle": "2021-04-27T02:10:26.614699Z",
     "shell.execute_reply": "2021-04-27T02:10:26.614051Z"
    },
    "papermill": {
     "duration": 8.144509,
     "end_time": "2021-04-27T02:10:26.614839",
     "exception": false,
     "start_time": "2021-04-27T02:10:18.470330",
     "status": "completed"
    },
    "tags": []
   },
   "outputs": [],
   "source": [
    "#hide_input\n",
    "blockchain = read_news('blockchain') \n",
    "btc = read_news('btc') \n",
    "xrp = read_news('xrp') \n",
    "trx = read_news('trx') \n",
    "eth = read_news('eth')  \n",
    "ada = read_news('ada')\n",
    "exchange = read_news('exchange') "
   ]
  },
  {
   "cell_type": "code",
   "execution_count": 3,
   "id": "synthetic-notion",
   "metadata": {
    "execution": {
     "iopub.execute_input": "2021-04-27T02:10:26.649788Z",
     "iopub.status.busy": "2021-04-27T02:10:26.649063Z",
     "iopub.status.idle": "2021-04-27T02:10:26.652138Z",
     "shell.execute_reply": "2021-04-27T02:10:26.652650Z"
    },
    "papermill": {
     "duration": 0.024675,
     "end_time": "2021-04-27T02:10:26.652823",
     "exception": false,
     "start_time": "2021-04-27T02:10:26.628148",
     "status": "completed"
    },
    "tags": []
   },
   "outputs": [
    {
     "data": {
      "text/markdown": [
       "- Why Aave Is Bringing Yield Farming to Its DeFi Platform.  The DeFi protocol has seized upon a way of getting users to migrate to its updated v2 platform: pay them more. ... [| Skaityti daugiau](https://decrypt.co/69173/why-aave-is-bringing-yield-farming-defi-platform) "
      ],
      "text/plain": [
       "<IPython.core.display.Markdown object>"
      ]
     },
     "execution_count": 3,
     "metadata": {},
     "output_type": "execute_result"
    }
   ],
   "source": [
    "#hide_input\n",
    "#md('##### {}'.format(titleBTC)) \n",
    "md(\"- {}{} {}{} [| Skaityti daugiau]({}) \".format(blockchain['title'],'. ', blockchain['body'], ' ...', blockchain['url']))"
   ]
  },
  {
   "cell_type": "code",
   "execution_count": 4,
   "id": "aging-caution",
   "metadata": {
    "execution": {
     "iopub.execute_input": "2021-04-27T02:10:26.685685Z",
     "iopub.status.busy": "2021-04-27T02:10:26.685019Z",
     "iopub.status.idle": "2021-04-27T02:10:26.688496Z",
     "shell.execute_reply": "2021-04-27T02:10:26.687822Z"
    },
    "papermill": {
     "duration": 0.02338,
     "end_time": "2021-04-27T02:10:26.688638",
     "exception": false,
     "start_time": "2021-04-27T02:10:26.665258",
     "status": "completed"
    },
    "tags": []
   },
   "outputs": [
    {
     "data": {
      "text/markdown": [
       "- IOTA, Litecoin, Polkadot Price Analysis: 26 April.  With sudden bullish volatility hitting the market, bitcoin has managed to surpass $50k once again, while the rest of the altcoin market breaks away from the bearish trap. However, how does the long-term future of some altcoins like IOTA, Litecoin [LTC], and Polkadot [DOT] look? IOTA IOTA chart noted that the price of the digital [&#8230;] ... [| Skaityti daugiau](https://ambcrypto.com/iota-litecoin-polkadot-price-analysis-26-april/) "
      ],
      "text/plain": [
       "<IPython.core.display.Markdown object>"
      ]
     },
     "execution_count": 4,
     "metadata": {},
     "output_type": "execute_result"
    }
   ],
   "source": [
    "#hide_input\n",
    "#md('##### {}'.format(titleBTC)) \n",
    "md(\"- {}{} {}{} [| Skaityti daugiau]({}) \".format(btc['title'],'. ', btc['body'], ' ...', btc['url']))"
   ]
  },
  {
   "cell_type": "code",
   "execution_count": 5,
   "id": "organic-actress",
   "metadata": {
    "execution": {
     "iopub.execute_input": "2021-04-27T02:10:26.720146Z",
     "iopub.status.busy": "2021-04-27T02:10:26.719419Z",
     "iopub.status.idle": "2021-04-27T02:10:26.722122Z",
     "shell.execute_reply": "2021-04-27T02:10:26.722839Z"
    },
    "papermill": {
     "duration": 0.021216,
     "end_time": "2021-04-27T02:10:26.722997",
     "exception": false,
     "start_time": "2021-04-27T02:10:26.701781",
     "status": "completed"
    },
    "tags": []
   },
   "outputs": [
    {
     "data": {
      "text/markdown": [
       "- Ripple XRP vs. US SEC: How It Started, Where It’s Going, And Why It Matters.  Here’s how it all started: About four months ago, the securities regulatory arm of the US sued Ripple Labs on the count of three charges: ⮚ &#8216;Raising capital to the tune of $1.3 billion via a secret sale of large undocumented digital currencies to customers. This had gone on for over eight years.&#8217; ⮚ &#8216;Allegedly issuing an [&#8230;] ... [| Skaityti daugiau](https://zycrypto.com/ripple-xrp-vs-us-sec-how-it-started-where-its-going-and-why-it-matters/) "
      ],
      "text/plain": [
       "<IPython.core.display.Markdown object>"
      ]
     },
     "execution_count": 5,
     "metadata": {},
     "output_type": "execute_result"
    }
   ],
   "source": [
    "#hide_input\n",
    "#md('##### {}'.format(titleBTC)) \n",
    "md(\"- {}{} {}{} [| Skaityti daugiau]({}) \".format(xrp['title'],'. ', xrp['body'], ' ...', xrp['url']))"
   ]
  },
  {
   "cell_type": "code",
   "execution_count": 6,
   "id": "prompt-farmer",
   "metadata": {
    "execution": {
     "iopub.execute_input": "2021-04-27T02:10:26.757080Z",
     "iopub.status.busy": "2021-04-27T02:10:26.756402Z",
     "iopub.status.idle": "2021-04-27T02:10:26.759865Z",
     "shell.execute_reply": "2021-04-27T02:10:26.759207Z"
    },
    "papermill": {
     "duration": 0.02372,
     "end_time": "2021-04-27T02:10:26.760095",
     "exception": false,
     "start_time": "2021-04-27T02:10:26.736375",
     "status": "completed"
    },
    "tags": []
   },
   "outputs": [
    {
     "data": {
      "text/markdown": [
       "- Tron, BitTorrent, VeChain Price Analysis: 24 April.  After withstanding a volatile market, Tron [TRX], along with other altcoins like BitTorrent [BTT] and VeChain [VET], was trying to build back its value. However, the ongoing bearishness across the crypto-market was making it difficult for the altcoin to gain back its lost value. Tron [TRX] Tron&#8217;s market noted a visible surge in price as [&#8230;] ... [| Skaityti daugiau](https://ambcrypto.com/tron-bittorrent-vechain-price-analysis-24-april/) "
      ],
      "text/plain": [
       "<IPython.core.display.Markdown object>"
      ]
     },
     "execution_count": 6,
     "metadata": {},
     "output_type": "execute_result"
    }
   ],
   "source": [
    "#hide_input\n",
    "#md('##### {}'.format(titleBTC)) \n",
    "md(\"- {}{} {}{} [| Skaityti daugiau]({}) \".format(trx['title'],'. ', trx['body'], ' ...', trx['url']))"
   ]
  },
  {
   "cell_type": "code",
   "execution_count": 7,
   "id": "illegal-greece",
   "metadata": {
    "execution": {
     "iopub.execute_input": "2021-04-27T02:10:26.797784Z",
     "iopub.status.busy": "2021-04-27T02:10:26.797115Z",
     "iopub.status.idle": "2021-04-27T02:10:26.806676Z",
     "shell.execute_reply": "2021-04-27T02:10:26.807279Z"
    },
    "papermill": {
     "duration": 0.03098,
     "end_time": "2021-04-27T02:10:26.807424",
     "exception": false,
     "start_time": "2021-04-27T02:10:26.776444",
     "status": "completed"
    },
    "tags": []
   },
   "outputs": [
    {
     "data": {
      "text/markdown": [
       "- Vitalik Buterin and Balaji Srinivasan Donate to Indian Covid Relief Fund Despite Country’s Intentions to Ban Cryptos.  The covid-19 crisis is worsening every day in India, as the country keeps hitting record daily numbers of cases and its death toll. The crypto community is starting to show solidarity with the country, as big players such as Ethereum co-founder and a well-known investor announced crypto donations to provide support. Buterin Also Contributed With [&#8230;] ... [| Skaityti daugiau](https://news.bitcoin.com/vitalik-buterin-and-balaji-srinivasan-donate-to-indian-covid-relief-fund-despite-countrys-intentions-to-ban-cryptos/) "
      ],
      "text/plain": [
       "<IPython.core.display.Markdown object>"
      ]
     },
     "execution_count": 7,
     "metadata": {},
     "output_type": "execute_result"
    }
   ],
   "source": [
    "#hide_input\n",
    "#md('##### {}'.format(titleBTC)) \n",
    "md(\"- {}{} {}{} [| Skaityti daugiau]({}) \".format(eth['title'],'. ', eth['body'], ' ...', eth['url']))"
   ]
  },
  {
   "cell_type": "code",
   "execution_count": 8,
   "id": "sublime-lounge",
   "metadata": {
    "execution": {
     "iopub.execute_input": "2021-04-27T02:10:26.842037Z",
     "iopub.status.busy": "2021-04-27T02:10:26.841040Z",
     "iopub.status.idle": "2021-04-27T02:10:26.845782Z",
     "shell.execute_reply": "2021-04-27T02:10:26.845228Z"
    },
    "papermill": {
     "duration": 0.02353,
     "end_time": "2021-04-27T02:10:26.845975",
     "exception": false,
     "start_time": "2021-04-27T02:10:26.822445",
     "status": "completed"
    },
    "tags": []
   },
   "outputs": [
    {
     "data": {
      "text/markdown": [
       "- Cardano Price Analysis: 26 April.  The Cardano market has been rallying higher since the beginning of the year. It has witnessed 504% growth since the beginning of the year. ADA market was noted a surge as it traded at $1.24, at the time of press. Cardano&#8217;s strong fundamentals and the development taking place in its ecosystem has maintained its value [&#8230;] ... [| Skaityti daugiau](https://ambcrypto.com/cardano-price-analysis-26-april/) "
      ],
      "text/plain": [
       "<IPython.core.display.Markdown object>"
      ]
     },
     "execution_count": 8,
     "metadata": {},
     "output_type": "execute_result"
    }
   ],
   "source": [
    "#hide_input\n",
    "#md('##### {}'.format(titleBTC)) \n",
    "md(\"- {}{} {}{} [| Skaityti daugiau]({}) \".format(ada['title'],'. ', ada['body'], ' ...', ada['url']))"
   ]
  },
  {
   "cell_type": "code",
   "execution_count": 9,
   "id": "specified-ordering",
   "metadata": {
    "execution": {
     "iopub.execute_input": "2021-04-27T02:10:26.880627Z",
     "iopub.status.busy": "2021-04-27T02:10:26.879916Z",
     "iopub.status.idle": "2021-04-27T02:10:26.883549Z",
     "shell.execute_reply": "2021-04-27T02:10:26.882859Z"
    },
    "papermill": {
     "duration": 0.022894,
     "end_time": "2021-04-27T02:10:26.883693",
     "exception": false,
     "start_time": "2021-04-27T02:10:26.860799",
     "status": "completed"
    },
    "tags": []
   },
   "outputs": [
    {
     "data": {
      "text/markdown": [
       "- Country in Chaos: Second Turkish Crypto Exchange Collapses Amid Accusations of Fraud.  Vebitcoin crypto exchange based in the southwestern city of Mugla, Turkey, has gone offline. The company&#8217;s website home page refers to recent developments that have forced them to cease trading. &#8220;Due to the recent developments in the crypto money industry, our transactions have become much more intense than expected. We would like to state with [&#8230;] ... [| Skaityti daugiau](https://www.newsbtc.com/news/country-in-chaos-second-turkish-crypto-exchange-collapses-amid-accusations-of-fraud/) "
      ],
      "text/plain": [
       "<IPython.core.display.Markdown object>"
      ]
     },
     "execution_count": 9,
     "metadata": {},
     "output_type": "execute_result"
    }
   ],
   "source": [
    "#hide_input\n",
    "#md('##### {}'.format(titleBTC)) \n",
    "md(\"- {}{} {}{} [| Skaityti daugiau]({}) \".format(exchange['title'],'. ', exchange['body'], ' ...', exchange['url']))"
   ]
  },
  {
   "cell_type": "code",
   "execution_count": null,
   "id": "tender-livestock",
   "metadata": {
    "papermill": {
     "duration": 0.015808,
     "end_time": "2021-04-27T02:10:26.918053",
     "exception": false,
     "start_time": "2021-04-27T02:10:26.902245",
     "status": "completed"
    },
    "tags": []
   },
   "outputs": [],
   "source": []
  },
  {
   "cell_type": "code",
   "execution_count": null,
   "id": "appreciated-diamond",
   "metadata": {
    "papermill": {
     "duration": 0.014794,
     "end_time": "2021-04-27T02:10:26.948258",
     "exception": false,
     "start_time": "2021-04-27T02:10:26.933464",
     "status": "completed"
    },
    "tags": []
   },
   "outputs": [],
   "source": []
  },
  {
   "cell_type": "code",
   "execution_count": null,
   "id": "romance-sweden",
   "metadata": {
    "papermill": {
     "duration": 0.015299,
     "end_time": "2021-04-27T02:10:26.978931",
     "exception": false,
     "start_time": "2021-04-27T02:10:26.963632",
     "status": "completed"
    },
    "tags": []
   },
   "outputs": [],
   "source": []
  },
  {
   "cell_type": "code",
   "execution_count": null,
   "id": "dietary-statistics",
   "metadata": {
    "papermill": {
     "duration": 0.015865,
     "end_time": "2021-04-27T02:10:27.008965",
     "exception": false,
     "start_time": "2021-04-27T02:10:26.993100",
     "status": "completed"
    },
    "tags": []
   },
   "outputs": [],
   "source": []
  }
 ],
 "metadata": {
  "kernelspec": {
   "display_name": "Python 3",
   "language": "python",
   "name": "python3"
  },
  "language_info": {
   "codemirror_mode": {
    "name": "ipython",
    "version": 3
   },
   "file_extension": ".py",
   "mimetype": "text/x-python",
   "name": "python",
   "nbconvert_exporter": "python",
   "pygments_lexer": "ipython3",
   "version": "3.6.13"
  },
  "papermill": {
   "default_parameters": {},
   "duration": 11.632992,
   "end_time": "2021-04-27T02:10:27.432867",
   "environment_variables": {},
   "exception": null,
   "input_path": "Market-News.ipynb",
   "output_path": "Market-News.ipynb",
   "parameters": {},
   "start_time": "2021-04-27T02:10:15.799875",
   "version": "2.2.2"
  }
 },
 "nbformat": 4,
 "nbformat_minor": 5
}