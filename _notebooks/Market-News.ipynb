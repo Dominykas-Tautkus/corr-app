{
 "cells": [
  {
   "cell_type": "markdown",
   "id": "short-greensboro",
   "metadata": {
    "papermill": {
     "duration": 0.015417,
     "end_time": "2021-01-22T02:49:59.764374",
     "exception": false,
     "start_time": "2021-01-22T02:49:59.748957",
     "status": "completed"
    },
    "tags": []
   },
   "source": [
    "# Kriptovaliutų naujienos"
   ]
  },
  {
   "cell_type": "code",
   "execution_count": 1,
   "id": "functioning-knowing",
   "metadata": {
    "execution": {
     "iopub.execute_input": "2021-01-22T02:49:59.798236Z",
     "iopub.status.busy": "2021-01-22T02:49:59.797448Z",
     "iopub.status.idle": "2021-01-22T02:50:01.141614Z",
     "shell.execute_reply": "2021-01-22T02:50:01.140996Z"
    },
    "papermill": {
     "duration": 1.365747,
     "end_time": "2021-01-22T02:50:01.141799",
     "exception": false,
     "start_time": "2021-01-22T02:49:59.776052",
     "status": "completed"
    },
    "tags": []
   },
   "outputs": [],
   "source": [
    "#hide_input\n",
    "import warnings\n",
    "warnings.filterwarnings('ignore')\n",
    "from scripts.read_data import read_api\n",
    "from scripts.read_data import read_news\n",
    "from scripts.read_data import read_covid\n",
    "import matplotlib.pyplot as plt \n",
    "from IPython.display import Markdown as md"
   ]
  },
  {
   "cell_type": "code",
   "execution_count": 2,
   "id": "shared-acceptance",
   "metadata": {
    "execution": {
     "iopub.execute_input": "2021-01-22T02:50:01.170639Z",
     "iopub.status.busy": "2021-01-22T02:50:01.169553Z",
     "iopub.status.idle": "2021-01-22T02:50:11.260665Z",
     "shell.execute_reply": "2021-01-22T02:50:11.259990Z"
    },
    "papermill": {
     "duration": 10.107574,
     "end_time": "2021-01-22T02:50:11.260811",
     "exception": false,
     "start_time": "2021-01-22T02:50:01.153237",
     "status": "completed"
    },
    "tags": []
   },
   "outputs": [],
   "source": [
    "#hide_input\n",
    "blockchain = read_news('blockchain') \n",
    "btc = read_news('btc') \n",
    "xrp = read_news('xrp') \n",
    "trx = read_news('trx') \n",
    "eth = read_news('eth')  \n",
    "ada = read_news('ada')\n",
    "exchange = read_news('exchange') "
   ]
  },
  {
   "cell_type": "code",
   "execution_count": 3,
   "id": "synthetic-notion",
   "metadata": {
    "execution": {
     "iopub.execute_input": "2021-01-22T02:50:11.288073Z",
     "iopub.status.busy": "2021-01-22T02:50:11.287383Z",
     "iopub.status.idle": "2021-01-22T02:50:11.293250Z",
     "shell.execute_reply": "2021-01-22T02:50:11.292642Z"
    },
    "papermill": {
     "duration": 0.021791,
     "end_time": "2021-01-22T02:50:11.293368",
     "exception": false,
     "start_time": "2021-01-22T02:50:11.271577",
     "status": "completed"
    },
    "tags": []
   },
   "outputs": [
    {
     "data": {
      "text/markdown": [
       "- Sberbank seeks central bank approval for blockchain platform: report.  Major Russian state-owned bank Sberbank has sought approval from the country's central bank for a blockchain-based financial platform.The post Sberbank seeks central bank approval for blockchain platform: report appeared first on The Block. ... [| Skaityti daugiau](https://www.theblockcrypto.com/linked/91980/russia-sberbank-blockchain-approval-central-bank?utm_source=cryptocompare&utm_medium=rss) "
      ],
      "text/plain": [
       "<IPython.core.display.Markdown object>"
      ]
     },
     "execution_count": 3,
     "metadata": {},
     "output_type": "execute_result"
    }
   ],
   "source": [
    "#hide_input\n",
    "#md('##### {}'.format(titleBTC)) \n",
    "md(\"- {}{} {}{} [| Skaityti daugiau]({}) \".format(blockchain['title'],'. ', blockchain['body'], ' ...', blockchain['url']))"
   ]
  },
  {
   "cell_type": "code",
   "execution_count": 4,
   "id": "aging-caution",
   "metadata": {
    "execution": {
     "iopub.execute_input": "2021-01-22T02:50:11.321791Z",
     "iopub.status.busy": "2021-01-22T02:50:11.320904Z",
     "iopub.status.idle": "2021-01-22T02:50:11.324475Z",
     "shell.execute_reply": "2021-01-22T02:50:11.324960Z"
    },
    "papermill": {
     "duration": 0.020713,
     "end_time": "2021-01-22T02:50:11.325090",
     "exception": false,
     "start_time": "2021-01-22T02:50:11.304377",
     "status": "completed"
    },
    "tags": []
   },
   "outputs": [
    {
     "data": {
      "text/markdown": [
       "- Crypto Market Cap Could Reach $2 Trillion by ‘Facilitating More Participation’: Report.  A report from advisory firm Aite Group that was commissioned by the eToro exchange, has revealed the total market capitalization of all cryptocurrencies could reach $2 trillion by “facilitating more participation” and taking down barriers hindering institutional adoption. The report, based on interviews with 25 institutional market participants, states that the market capitalization of all […] ... [| Skaityti daugiau](https://www.cryptoglobe.com/latest/2021/01/crypto-market-cap-could-reach-2-trillion-by-facilitating-more-participation-report/) "
      ],
      "text/plain": [
       "<IPython.core.display.Markdown object>"
      ]
     },
     "execution_count": 4,
     "metadata": {},
     "output_type": "execute_result"
    }
   ],
   "source": [
    "#hide_input\n",
    "#md('##### {}'.format(titleBTC)) \n",
    "md(\"- {}{} {}{} [| Skaityti daugiau]({}) \".format(btc['title'],'. ', btc['body'], ' ...', btc['url']))"
   ]
  },
  {
   "cell_type": "code",
   "execution_count": 5,
   "id": "organic-actress",
   "metadata": {
    "execution": {
     "iopub.execute_input": "2021-01-22T02:50:11.352501Z",
     "iopub.status.busy": "2021-01-22T02:50:11.351581Z",
     "iopub.status.idle": "2021-01-22T02:50:11.355412Z",
     "shell.execute_reply": "2021-01-22T02:50:11.354889Z"
    },
    "papermill": {
     "duration": 0.019181,
     "end_time": "2021-01-22T02:50:11.355525",
     "exception": false,
     "start_time": "2021-01-22T02:50:11.336344",
     "status": "completed"
    },
    "tags": []
   },
   "outputs": [
    {
     "data": {
      "text/markdown": [
       "- Biden Administration Reported to Be Lining up a Former Ripple Advisor as the Next Bank Regulator.  Micheal Barr, the former member of Ripple&#8217;s board of advisors, is set to become the United States&#8217; next banking regulator, according to a report. A former assistant treasury secretary, Barr will become the second individual with crypto connections to lead the Office of Currency Comptroller (OCC.) The recently departed Currency Comptroller Brian Brooks is a [&#8230;] ... [| Skaityti daugiau](https://news.bitcoin.com/biden-administration-reported-to-be-lining-up-a-former-ripple-advisor-as-the-next-bank-regulator/) "
      ],
      "text/plain": [
       "<IPython.core.display.Markdown object>"
      ]
     },
     "execution_count": 5,
     "metadata": {},
     "output_type": "execute_result"
    }
   ],
   "source": [
    "#hide_input\n",
    "#md('##### {}'.format(titleBTC)) \n",
    "md(\"- {}{} {}{} [| Skaityti daugiau]({}) \".format(xrp['title'],'. ', xrp['body'], ' ...', xrp['url']))"
   ]
  },
  {
   "cell_type": "code",
   "execution_count": 6,
   "id": "prompt-farmer",
   "metadata": {
    "execution": {
     "iopub.execute_input": "2021-01-22T02:50:11.384643Z",
     "iopub.status.busy": "2021-01-22T02:50:11.384028Z",
     "iopub.status.idle": "2021-01-22T02:50:11.386959Z",
     "shell.execute_reply": "2021-01-22T02:50:11.387469Z"
    },
    "papermill": {
     "duration": 0.019945,
     "end_time": "2021-01-22T02:50:11.387593",
     "exception": false,
     "start_time": "2021-01-22T02:50:11.367648",
     "status": "completed"
    },
    "tags": []
   },
   "outputs": [
    {
     "data": {
      "text/markdown": [
       "- Altcoin Expert: Buy Crypto That Holds Up During Bitcoin Breakdown.  Bitcoin has plummeted by more than $11,000 from its recent FOMO-driven peak. Normally, the bearish momentum in the top cryptocurrency is enough to drag down the rest of the market, but select altcoins are holding up surprisingly well. One altcoin expert who has traded his way through multiple bear and bull cycles, suggests watching for [&#8230;] ... [| Skaityti daugiau](https://www.newsbtc.com/analysis/btc/altcoin-expert-buy-crypto-that-holds-up-during-bitcoin-breakdown/) "
      ],
      "text/plain": [
       "<IPython.core.display.Markdown object>"
      ]
     },
     "execution_count": 6,
     "metadata": {},
     "output_type": "execute_result"
    }
   ],
   "source": [
    "#hide_input\n",
    "#md('##### {}'.format(titleBTC)) \n",
    "md(\"- {}{} {}{} [| Skaityti daugiau]({}) \".format(trx['title'],'. ', trx['body'], ' ...', trx['url']))"
   ]
  },
  {
   "cell_type": "code",
   "execution_count": 7,
   "id": "illegal-greece",
   "metadata": {
    "execution": {
     "iopub.execute_input": "2021-01-22T02:50:11.417101Z",
     "iopub.status.busy": "2021-01-22T02:50:11.416482Z",
     "iopub.status.idle": "2021-01-22T02:50:11.418868Z",
     "shell.execute_reply": "2021-01-22T02:50:11.419530Z"
    },
    "papermill": {
     "duration": 0.019753,
     "end_time": "2021-01-22T02:50:11.419660",
     "exception": false,
     "start_time": "2021-01-22T02:50:11.399907",
     "status": "completed"
    },
    "tags": []
   },
   "outputs": [
    {
     "data": {
      "text/markdown": [
       "- Ethereum price drops like a rock on losing crucial support, why correction is unstoppable to $900.  Ethereum plummets from record highs of $1,446, resting sub $1,000 amid widespread crypto corrections. Ether may break down to $900 if support at $1,000 fails to hold. The cryptocurrency market is in bloodshed with assets posting massive losses over the last 24 hours. Ethereum is down a whopping 21% amid continuing declines while Bitcoin is The post Ethereum price drops like a rock on losing crucial support, why correction is unstoppable to $900 appeared first on Coingape. ... [| Skaityti daugiau](https://coingape.com/80023-2/) "
      ],
      "text/plain": [
       "<IPython.core.display.Markdown object>"
      ]
     },
     "execution_count": 7,
     "metadata": {},
     "output_type": "execute_result"
    }
   ],
   "source": [
    "#hide_input\n",
    "#md('##### {}'.format(titleBTC)) \n",
    "md(\"- {}{} {}{} [| Skaityti daugiau]({}) \".format(eth['title'],'. ', eth['body'], ' ...', eth['url']))"
   ]
  },
  {
   "cell_type": "code",
   "execution_count": 8,
   "id": "sublime-lounge",
   "metadata": {
    "execution": {
     "iopub.execute_input": "2021-01-22T02:50:11.448739Z",
     "iopub.status.busy": "2021-01-22T02:50:11.448005Z",
     "iopub.status.idle": "2021-01-22T02:50:11.452769Z",
     "shell.execute_reply": "2021-01-22T02:50:11.452227Z"
    },
    "papermill": {
     "duration": 0.020614,
     "end_time": "2021-01-22T02:50:11.452888",
     "exception": false,
     "start_time": "2021-01-22T02:50:11.432274",
     "status": "completed"
    },
    "tags": []
   },
   "outputs": [
    {
     "data": {
      "text/markdown": [
       "- How Traders Are Gaining by Holding Crypto: Staking Tron (TRX) and Cardano (ADA).  If like many people you are interested in the cryptocurrency market but the frequent price fluctuations seem too risky, crypto staking is an investing strategy that you may want to consider. Staking actually allows you to grow your crypto investment over time, simply by holding the supported cryptoasset – no matter if the market goes up [&#8230;]The post How Traders Are Gaining by Holding Crypto: Staking Tron (TRX) and Cardano (ADA) appeared first on The Daily Hodl. ... [| Skaityti daugiau](https://dailyhodl.com/2021/01/21/how-crypto-traders-are-gaining-by-holding-crypto/) "
      ],
      "text/plain": [
       "<IPython.core.display.Markdown object>"
      ]
     },
     "execution_count": 8,
     "metadata": {},
     "output_type": "execute_result"
    }
   ],
   "source": [
    "#hide_input\n",
    "#md('##### {}'.format(titleBTC)) \n",
    "md(\"- {}{} {}{} [| Skaityti daugiau]({}) \".format(ada['title'],'. ', ada['body'], ' ...', ada['url']))"
   ]
  },
  {
   "cell_type": "code",
   "execution_count": 9,
   "id": "specified-ordering",
   "metadata": {
    "execution": {
     "iopub.execute_input": "2021-01-22T02:50:11.482843Z",
     "iopub.status.busy": "2021-01-22T02:50:11.482151Z",
     "iopub.status.idle": "2021-01-22T02:50:11.485884Z",
     "shell.execute_reply": "2021-01-22T02:50:11.486389Z"
    },
    "papermill": {
     "duration": 0.021523,
     "end_time": "2021-01-22T02:50:11.486530",
     "exception": false,
     "start_time": "2021-01-22T02:50:11.465007",
     "status": "completed"
    },
    "tags": []
   },
   "outputs": [
    {
     "data": {
      "text/markdown": [
       "- Crypto Market Cap Could Reach $2 Trillion by ‘Facilitating More Participation’: Report.  A report from advisory firm Aite Group that was commissioned by the eToro exchange, has revealed the total market capitalization of all cryptocurrencies could reach $2 trillion by “facilitating more participation” and taking down barriers hindering institutional adoption. The report, based on interviews with 25 institutional market participants, states that the market capitalization of all […] ... [| Skaityti daugiau](https://www.cryptoglobe.com/latest/2021/01/crypto-market-cap-could-reach-2-trillion-by-facilitating-more-participation-report/) "
      ],
      "text/plain": [
       "<IPython.core.display.Markdown object>"
      ]
     },
     "execution_count": 9,
     "metadata": {},
     "output_type": "execute_result"
    }
   ],
   "source": [
    "#hide_input\n",
    "#md('##### {}'.format(titleBTC)) \n",
    "md(\"- {}{} {}{} [| Skaityti daugiau]({}) \".format(exchange['title'],'. ', exchange['body'], ' ...', exchange['url']))"
   ]
  },
  {
   "cell_type": "code",
   "execution_count": null,
   "id": "tender-livestock",
   "metadata": {
    "papermill": {
     "duration": 0.013455,
     "end_time": "2021-01-22T02:50:11.513466",
     "exception": false,
     "start_time": "2021-01-22T02:50:11.500011",
     "status": "completed"
    },
    "tags": []
   },
   "outputs": [],
   "source": []
  },
  {
   "cell_type": "code",
   "execution_count": null,
   "id": "appreciated-diamond",
   "metadata": {
    "papermill": {
     "duration": 0.014369,
     "end_time": "2021-01-22T02:50:11.541321",
     "exception": false,
     "start_time": "2021-01-22T02:50:11.526952",
     "status": "completed"
    },
    "tags": []
   },
   "outputs": [],
   "source": []
  },
  {
   "cell_type": "code",
   "execution_count": null,
   "id": "romance-sweden",
   "metadata": {
    "papermill": {
     "duration": 0.01445,
     "end_time": "2021-01-22T02:50:11.569323",
     "exception": false,
     "start_time": "2021-01-22T02:50:11.554873",
     "status": "completed"
    },
    "tags": []
   },
   "outputs": [],
   "source": []
  },
  {
   "cell_type": "code",
   "execution_count": null,
   "id": "dietary-statistics",
   "metadata": {
    "papermill": {
     "duration": 0.014908,
     "end_time": "2021-01-22T02:50:11.597890",
     "exception": false,
     "start_time": "2021-01-22T02:50:11.582982",
     "status": "completed"
    },
    "tags": []
   },
   "outputs": [],
   "source": []
  }
 ],
 "metadata": {
  "kernelspec": {
   "display_name": "Python 3",
   "language": "python",
   "name": "python3"
  },
  "language_info": {
   "codemirror_mode": {
    "name": "ipython",
    "version": 3
   },
   "file_extension": ".py",
   "mimetype": "text/x-python",
   "name": "python",
   "nbconvert_exporter": "python",
   "pygments_lexer": "ipython3",
   "version": "3.6.12"
  },
  "papermill": {
   "default_parameters": {},
   "duration": 14.331663,
   "end_time": "2021-01-22T02:50:12.992049",
   "environment_variables": {},
   "exception": null,
   "input_path": "Market-News.ipynb",
   "output_path": "Market-News.ipynb",
   "parameters": {},
   "start_time": "2021-01-22T02:49:58.660386",
   "version": "2.2.2"
  }
 },
 "nbformat": 4,
 "nbformat_minor": 5
}