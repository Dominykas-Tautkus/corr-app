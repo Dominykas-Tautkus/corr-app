{
 "cells": [
  {
   "cell_type": "markdown",
   "id": "short-greensboro",
   "metadata": {
    "papermill": {
     "duration": 0.016099,
     "end_time": "2021-04-02T02:18:41.599554",
     "exception": false,
     "start_time": "2021-04-02T02:18:41.583455",
     "status": "completed"
    },
    "tags": []
   },
   "source": [
    "# Kriptovaliutų naujienos"
   ]
  },
  {
   "cell_type": "code",
   "execution_count": 1,
   "id": "functioning-knowing",
   "metadata": {
    "execution": {
     "iopub.execute_input": "2021-04-02T02:18:41.629698Z",
     "iopub.status.busy": "2021-04-02T02:18:41.629146Z",
     "iopub.status.idle": "2021-04-02T02:18:42.792033Z",
     "shell.execute_reply": "2021-04-02T02:18:42.791103Z"
    },
    "papermill": {
     "duration": 1.18311,
     "end_time": "2021-04-02T02:18:42.792276",
     "exception": false,
     "start_time": "2021-04-02T02:18:41.609166",
     "status": "completed"
    },
    "tags": []
   },
   "outputs": [],
   "source": [
    "#hide_input\n",
    "import warnings\n",
    "warnings.filterwarnings('ignore')\n",
    "from scripts.read_data import read_api\n",
    "from scripts.read_data import read_news\n",
    "from scripts.read_data import read_covid\n",
    "import matplotlib.pyplot as plt \n",
    "from IPython.display import Markdown as md"
   ]
  },
  {
   "cell_type": "code",
   "execution_count": 2,
   "id": "shared-acceptance",
   "metadata": {
    "execution": {
     "iopub.execute_input": "2021-04-02T02:18:42.817772Z",
     "iopub.status.busy": "2021-04-02T02:18:42.817231Z",
     "iopub.status.idle": "2021-04-02T02:18:51.580343Z",
     "shell.execute_reply": "2021-04-02T02:18:51.579388Z"
    },
    "papermill": {
     "duration": 8.777658,
     "end_time": "2021-04-02T02:18:51.580547",
     "exception": false,
     "start_time": "2021-04-02T02:18:42.802889",
     "status": "completed"
    },
    "tags": []
   },
   "outputs": [],
   "source": [
    "#hide_input\n",
    "blockchain = read_news('blockchain') \n",
    "btc = read_news('btc') \n",
    "xrp = read_news('xrp') \n",
    "trx = read_news('trx') \n",
    "eth = read_news('eth')  \n",
    "ada = read_news('ada')\n",
    "exchange = read_news('exchange') "
   ]
  },
  {
   "cell_type": "code",
   "execution_count": 3,
   "id": "synthetic-notion",
   "metadata": {
    "execution": {
     "iopub.execute_input": "2021-04-02T02:18:51.604632Z",
     "iopub.status.busy": "2021-04-02T02:18:51.604096Z",
     "iopub.status.idle": "2021-04-02T02:18:51.609430Z",
     "shell.execute_reply": "2021-04-02T02:18:51.608924Z"
    },
    "papermill": {
     "duration": 0.019129,
     "end_time": "2021-04-02T02:18:51.609544",
     "exception": false,
     "start_time": "2021-04-02T02:18:51.590415",
     "status": "completed"
    },
    "tags": []
   },
   "outputs": [
    {
     "data": {
      "text/markdown": [
       "- Decentraland announces layer-two MANA token transfers, plans for full migration.  Polygon claims yet another victory in the scaling wars with Decentraland  ... [| Skaityti daugiau](https://cointelegraph.com/news/decentraland-announces-layer-two-mana-token-transfers-plans-for-full-migration) "
      ],
      "text/plain": [
       "<IPython.core.display.Markdown object>"
      ]
     },
     "execution_count": 3,
     "metadata": {},
     "output_type": "execute_result"
    }
   ],
   "source": [
    "#hide_input\n",
    "#md('##### {}'.format(titleBTC)) \n",
    "md(\"- {}{} {}{} [| Skaityti daugiau]({}) \".format(blockchain['title'],'. ', blockchain['body'], ' ...', blockchain['url']))"
   ]
  },
  {
   "cell_type": "code",
   "execution_count": 4,
   "id": "aging-caution",
   "metadata": {
    "execution": {
     "iopub.execute_input": "2021-04-02T02:18:51.632385Z",
     "iopub.status.busy": "2021-04-02T02:18:51.631834Z",
     "iopub.status.idle": "2021-04-02T02:18:51.633903Z",
     "shell.execute_reply": "2021-04-02T02:18:51.634333Z"
    },
    "papermill": {
     "duration": 0.015883,
     "end_time": "2021-04-02T02:18:51.634447",
     "exception": false,
     "start_time": "2021-04-02T02:18:51.618564",
     "status": "completed"
    },
    "tags": []
   },
   "outputs": [
    {
     "data": {
      "text/markdown": [
       "- Bitcoin’s mining difficulty adjusts to record high as new miners come online.  The newly added 9 EH/s of computing power is equivalent to roughly 90,000 units of the newest generation of bitcoin mining equipment.The post Bitcoin&#8217;s mining difficulty adjusts to record high as new miners come online appeared first on The Block. ... [| Skaityti daugiau](https://www.theblockcrypto.com/linked/100149/bitcoin-mining-difficulty-new-high-miners-plug-in?utm_source=cryptocompare&utm_medium=rss) "
      ],
      "text/plain": [
       "<IPython.core.display.Markdown object>"
      ]
     },
     "execution_count": 4,
     "metadata": {},
     "output_type": "execute_result"
    }
   ],
   "source": [
    "#hide_input\n",
    "#md('##### {}'.format(titleBTC)) \n",
    "md(\"- {}{} {}{} [| Skaityti daugiau]({}) \".format(btc['title'],'. ', btc['body'], ' ...', btc['url']))"
   ]
  },
  {
   "cell_type": "code",
   "execution_count": 5,
   "id": "organic-actress",
   "metadata": {
    "execution": {
     "iopub.execute_input": "2021-04-02T02:18:51.658856Z",
     "iopub.status.busy": "2021-04-02T02:18:51.658322Z",
     "iopub.status.idle": "2021-04-02T02:18:51.663124Z",
     "shell.execute_reply": "2021-04-02T02:18:51.663659Z"
    },
    "papermill": {
     "duration": 0.018718,
     "end_time": "2021-04-02T02:18:51.663778",
     "exception": false,
     "start_time": "2021-04-02T02:18:51.645060",
     "status": "completed"
    },
    "tags": []
   },
   "outputs": [
    {
     "data": {
      "text/markdown": [
       "- XRP lawsuit effect: Ex-SEC Chair talks about Bitcoin’s (non)security status.  Earlier today, investment banking company Morgan Stanley filed multiple institutional funds that may gain exposure to Bitcoin especially through shares of Grayscale&#8217;s Bitcoin Trust or cash-settled futures. Recently, Goldman Sachs said it was planning to launch investment offerings in the crypto asset class in the second quarter. What these new developments prove is that bitcoin [&#8230;] ... [| Skaityti daugiau](https://ambcrypto.com/xrp-lawsuit-effect-ex-sec-chair-talks-about-bitcoins-security-status/) "
      ],
      "text/plain": [
       "<IPython.core.display.Markdown object>"
      ]
     },
     "execution_count": 5,
     "metadata": {},
     "output_type": "execute_result"
    }
   ],
   "source": [
    "#hide_input\n",
    "#md('##### {}'.format(titleBTC)) \n",
    "md(\"- {}{} {}{} [| Skaityti daugiau]({}) \".format(xrp['title'],'. ', xrp['body'], ' ...', xrp['url']))"
   ]
  },
  {
   "cell_type": "code",
   "execution_count": 6,
   "id": "prompt-farmer",
   "metadata": {
    "execution": {
     "iopub.execute_input": "2021-04-02T02:18:51.690142Z",
     "iopub.status.busy": "2021-04-02T02:18:51.689568Z",
     "iopub.status.idle": "2021-04-02T02:18:51.692852Z",
     "shell.execute_reply": "2021-04-02T02:18:51.693310Z"
    },
    "papermill": {
     "duration": 0.019619,
     "end_time": "2021-04-02T02:18:51.693415",
     "exception": false,
     "start_time": "2021-04-02T02:18:51.673796",
     "status": "completed"
    },
    "tags": []
   },
   "outputs": [
    {
     "data": {
      "text/markdown": [
       "- Playza launches a fully decentralized casino on TRON.  Blockchain-based casino Playza has launched on the TRON network. Playza offers a fair and transparent online gaming experience for crypto users in eligible jurisdictions, with a range of traditional casino games available. There will be no sign-ups, withdrawals or deposits and no forms to fill out. At launch, Playza will exclusively support TRON and TRX [&#8230;] ... [| Skaityti daugiau](https://ambcrypto.com/playza-launches-a-fully-decentralized-casino-on-tron/) "
      ],
      "text/plain": [
       "<IPython.core.display.Markdown object>"
      ]
     },
     "execution_count": 6,
     "metadata": {},
     "output_type": "execute_result"
    }
   ],
   "source": [
    "#hide_input\n",
    "#md('##### {}'.format(titleBTC)) \n",
    "md(\"- {}{} {}{} [| Skaityti daugiau]({}) \".format(trx['title'],'. ', trx['body'], ' ...', trx['url']))"
   ]
  },
  {
   "cell_type": "code",
   "execution_count": 7,
   "id": "illegal-greece",
   "metadata": {
    "execution": {
     "iopub.execute_input": "2021-04-02T02:18:51.716998Z",
     "iopub.status.busy": "2021-04-02T02:18:51.716519Z",
     "iopub.status.idle": "2021-04-02T02:18:51.718580Z",
     "shell.execute_reply": "2021-04-02T02:18:51.719036Z"
    },
    "papermill": {
     "duration": 0.015735,
     "end_time": "2021-04-02T02:18:51.719158",
     "exception": false,
     "start_time": "2021-04-02T02:18:51.703423",
     "status": "completed"
    },
    "tags": []
   },
   "outputs": [
    {
     "data": {
      "text/markdown": [
       "- Mark Cuban owns 30% ETH because it’s ‘closest to a true currency’.  Mark Cuban recently stated that Bitcoin is a better alternative to gold, and compared Ethereum's smart contracts to the internet boom of the late 1990s.  ... [| Skaityti daugiau](https://cointelegraph.com/news/mark-cuban-owns-30-eth-because-it-s-closest-to-a-true-currency) "
      ],
      "text/plain": [
       "<IPython.core.display.Markdown object>"
      ]
     },
     "execution_count": 7,
     "metadata": {},
     "output_type": "execute_result"
    }
   ],
   "source": [
    "#hide_input\n",
    "#md('##### {}'.format(titleBTC)) \n",
    "md(\"- {}{} {}{} [| Skaityti daugiau]({}) \".format(eth['title'],'. ', eth['body'], ' ...', eth['url']))"
   ]
  },
  {
   "cell_type": "code",
   "execution_count": 8,
   "id": "sublime-lounge",
   "metadata": {
    "execution": {
     "iopub.execute_input": "2021-04-02T02:18:51.745163Z",
     "iopub.status.busy": "2021-04-02T02:18:51.744372Z",
     "iopub.status.idle": "2021-04-02T02:18:51.746934Z",
     "shell.execute_reply": "2021-04-02T02:18:51.746559Z"
    },
    "papermill": {
     "duration": 0.017926,
     "end_time": "2021-04-02T02:18:51.747024",
     "exception": false,
     "start_time": "2021-04-02T02:18:51.729098",
     "status": "completed"
    },
    "tags": []
   },
   "outputs": [
    {
     "data": {
      "text/markdown": [
       "- CryptoPotato to Issue its Potato Cartoon Logo as NFT on Cardano.  CryptoPotato is happy to share its plans to tokenize its cartoon Potato logo on the Cardano blockchain. ... [| Skaityti daugiau](https://cryptopotato.com/cryptopotato-to-issue-its-potato-cartoon-logo-as-nft-on-cardano/) "
      ],
      "text/plain": [
       "<IPython.core.display.Markdown object>"
      ]
     },
     "execution_count": 8,
     "metadata": {},
     "output_type": "execute_result"
    }
   ],
   "source": [
    "#hide_input\n",
    "#md('##### {}'.format(titleBTC)) \n",
    "md(\"- {}{} {}{} [| Skaityti daugiau]({}) \".format(ada['title'],'. ', ada['body'], ' ...', ada['url']))"
   ]
  },
  {
   "cell_type": "code",
   "execution_count": 9,
   "id": "specified-ordering",
   "metadata": {
    "execution": {
     "iopub.execute_input": "2021-04-02T02:18:51.773553Z",
     "iopub.status.busy": "2021-04-02T02:18:51.773072Z",
     "iopub.status.idle": "2021-04-02T02:18:51.776559Z",
     "shell.execute_reply": "2021-04-02T02:18:51.776185Z"
    },
    "papermill": {
     "duration": 0.018194,
     "end_time": "2021-04-02T02:18:51.776651",
     "exception": false,
     "start_time": "2021-04-02T02:18:51.758457",
     "status": "completed"
    },
    "tags": []
   },
   "outputs": [
    {
     "data": {
      "text/markdown": [
       "- Morgan Stanley approves Bitcoin investments for dozen funds.  American investment bank Morgan Stanley plans to allow a dozen of its funds to invest in Bitcoin via cash-settled futures and the Grayscale Bitcoin Trust (GBTC), according to its filing with the Securities and Exchange Commission published yesterday. The post Morgan Stanley approves Bitcoin investments for dozen funds appeared first on CryptoSlate. ... [| Skaityti daugiau](https://cryptoslate.com/morgan-stanley-approves-bitcoin-investments-for-dozen-funds/) "
      ],
      "text/plain": [
       "<IPython.core.display.Markdown object>"
      ]
     },
     "execution_count": 9,
     "metadata": {},
     "output_type": "execute_result"
    }
   ],
   "source": [
    "#hide_input\n",
    "#md('##### {}'.format(titleBTC)) \n",
    "md(\"- {}{} {}{} [| Skaityti daugiau]({}) \".format(exchange['title'],'. ', exchange['body'], ' ...', exchange['url']))"
   ]
  },
  {
   "cell_type": "code",
   "execution_count": null,
   "id": "tender-livestock",
   "metadata": {
    "papermill": {
     "duration": 0.011811,
     "end_time": "2021-04-02T02:18:51.799271",
     "exception": false,
     "start_time": "2021-04-02T02:18:51.787460",
     "status": "completed"
    },
    "tags": []
   },
   "outputs": [],
   "source": []
  },
  {
   "cell_type": "code",
   "execution_count": null,
   "id": "appreciated-diamond",
   "metadata": {
    "papermill": {
     "duration": 0.010975,
     "end_time": "2021-04-02T02:18:51.822239",
     "exception": false,
     "start_time": "2021-04-02T02:18:51.811264",
     "status": "completed"
    },
    "tags": []
   },
   "outputs": [],
   "source": []
  },
  {
   "cell_type": "code",
   "execution_count": null,
   "id": "romance-sweden",
   "metadata": {
    "papermill": {
     "duration": 0.010734,
     "end_time": "2021-04-02T02:18:51.844677",
     "exception": false,
     "start_time": "2021-04-02T02:18:51.833943",
     "status": "completed"
    },
    "tags": []
   },
   "outputs": [],
   "source": []
  },
  {
   "cell_type": "code",
   "execution_count": null,
   "id": "dietary-statistics",
   "metadata": {
    "papermill": {
     "duration": 0.010977,
     "end_time": "2021-04-02T02:18:51.866026",
     "exception": false,
     "start_time": "2021-04-02T02:18:51.855049",
     "status": "completed"
    },
    "tags": []
   },
   "outputs": [],
   "source": []
  }
 ],
 "metadata": {
  "kernelspec": {
   "display_name": "Python 3",
   "language": "python",
   "name": "python3"
  },
  "language_info": {
   "codemirror_mode": {
    "name": "ipython",
    "version": 3
   },
   "file_extension": ".py",
   "mimetype": "text/x-python",
   "name": "python",
   "nbconvert_exporter": "python",
   "pygments_lexer": "ipython3",
   "version": "3.6.13"
  },
  "papermill": {
   "default_parameters": {},
   "duration": 11.763348,
   "end_time": "2021-04-02T02:18:52.285867",
   "environment_variables": {},
   "exception": null,
   "input_path": "Market-News.ipynb",
   "output_path": "Market-News.ipynb",
   "parameters": {},
   "start_time": "2021-04-02T02:18:40.522519",
   "version": "2.2.2"
  }
 },
 "nbformat": 4,
 "nbformat_minor": 5
}