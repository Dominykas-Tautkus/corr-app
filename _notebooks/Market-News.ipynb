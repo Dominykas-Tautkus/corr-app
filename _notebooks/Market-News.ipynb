{
 "cells": [
  {
   "cell_type": "markdown",
   "id": "short-greensboro",
   "metadata": {
    "papermill": {
     "duration": 0.016219,
     "end_time": "2021-05-29T03:58:01.092846",
     "exception": false,
     "start_time": "2021-05-29T03:58:01.076627",
     "status": "completed"
    },
    "tags": []
   },
   "source": [
    "# Kriptovaliutų naujienos"
   ]
  },
  {
   "cell_type": "code",
   "execution_count": 1,
   "id": "functioning-knowing",
   "metadata": {
    "execution": {
     "iopub.execute_input": "2021-05-29T03:58:01.125869Z",
     "iopub.status.busy": "2021-05-29T03:58:01.125128Z",
     "iopub.status.idle": "2021-05-29T03:58:02.470377Z",
     "shell.execute_reply": "2021-05-29T03:58:02.469697Z"
    },
    "papermill": {
     "duration": 1.366476,
     "end_time": "2021-05-29T03:58:02.470516",
     "exception": false,
     "start_time": "2021-05-29T03:58:01.104040",
     "status": "completed"
    },
    "tags": []
   },
   "outputs": [],
   "source": [
    "#hide_input\n",
    "import warnings\n",
    "warnings.filterwarnings('ignore')\n",
    "from scripts.read_data import read_api\n",
    "from scripts.read_data import read_news\n",
    "from scripts.read_data import read_covid\n",
    "import matplotlib.pyplot as plt \n",
    "from IPython.display import Markdown as md"
   ]
  },
  {
   "cell_type": "code",
   "execution_count": 2,
   "id": "shared-acceptance",
   "metadata": {
    "execution": {
     "iopub.execute_input": "2021-05-29T03:58:02.498738Z",
     "iopub.status.busy": "2021-05-29T03:58:02.498190Z",
     "iopub.status.idle": "2021-05-29T03:58:12.736576Z",
     "shell.execute_reply": "2021-05-29T03:58:12.736074Z"
    },
    "papermill": {
     "duration": 10.255317,
     "end_time": "2021-05-29T03:58:12.736737",
     "exception": false,
     "start_time": "2021-05-29T03:58:02.481420",
     "status": "completed"
    },
    "tags": []
   },
   "outputs": [],
   "source": [
    "#hide_input\n",
    "blockchain = read_news('blockchain') \n",
    "btc = read_news('btc') \n",
    "xrp = read_news('xrp') \n",
    "trx = read_news('trx') \n",
    "eth = read_news('eth')  \n",
    "ada = read_news('ada')\n",
    "exchange = read_news('exchange') "
   ]
  },
  {
   "cell_type": "code",
   "execution_count": 3,
   "id": "synthetic-notion",
   "metadata": {
    "execution": {
     "iopub.execute_input": "2021-05-29T03:58:12.766915Z",
     "iopub.status.busy": "2021-05-29T03:58:12.766389Z",
     "iopub.status.idle": "2021-05-29T03:58:12.769247Z",
     "shell.execute_reply": "2021-05-29T03:58:12.769751Z"
    },
    "papermill": {
     "duration": 0.021618,
     "end_time": "2021-05-29T03:58:12.769868",
     "exception": false,
     "start_time": "2021-05-29T03:58:12.748250",
     "status": "completed"
    },
    "tags": []
   },
   "outputs": [
    {
     "data": {
      "text/markdown": [
       "- Cardano Price Analysis: 28 May.  Disclaimer: The findings of the following analysis are the sole opinions of the writer and should not be taken as investment advice Cardano has been in the news lately thanks to the steps it&#8217;s taking towards the Alonzo update. Alonzo is one in a series of updates to the blockchain, one that will bring features like [&#8230;] ... [| Skaityti daugiau](https://ambcrypto.com/cardano-price-analysis-28-may/) "
      ],
      "text/plain": [
       "<IPython.core.display.Markdown object>"
      ]
     },
     "execution_count": 3,
     "metadata": {},
     "output_type": "execute_result"
    }
   ],
   "source": [
    "#hide_input\n",
    "#md('##### {}'.format(titleBTC)) \n",
    "md(\"- {}{} {}{} [| Skaityti daugiau]({}) \".format(blockchain['title'],'. ', blockchain['body'], ' ...', blockchain['url']))"
   ]
  },
  {
   "cell_type": "code",
   "execution_count": 4,
   "id": "aging-caution",
   "metadata": {
    "execution": {
     "iopub.execute_input": "2021-05-29T03:58:12.796252Z",
     "iopub.status.busy": "2021-05-29T03:58:12.795586Z",
     "iopub.status.idle": "2021-05-29T03:58:12.797934Z",
     "shell.execute_reply": "2021-05-29T03:58:12.798455Z"
    },
    "papermill": {
     "duration": 0.018703,
     "end_time": "2021-05-29T03:58:12.798569",
     "exception": false,
     "start_time": "2021-05-29T03:58:12.779866",
     "status": "completed"
    },
    "tags": []
   },
   "outputs": [
    {
     "data": {
      "text/markdown": [
       "- Q1 SEC Filing Shows Argentinian Tech Giant Globant Invested in Bitcoin.  Globant, one of the big four tech firms in Argentina, has quietly made its first foray into the world of cryptocurrency investing, according to its latest filing to the SEC. The firm bought bitcoin during the first three months of this year, and is now part of a select number of LATAM unicorns that have [&#8230;] ... [| Skaityti daugiau](https://news.bitcoin.com/q1-sec-filing-shows-argentinian-tech-giant-globant-invested-in-bitcoin/) "
      ],
      "text/plain": [
       "<IPython.core.display.Markdown object>"
      ]
     },
     "execution_count": 4,
     "metadata": {},
     "output_type": "execute_result"
    }
   ],
   "source": [
    "#hide_input\n",
    "#md('##### {}'.format(titleBTC)) \n",
    "md(\"- {}{} {}{} [| Skaityti daugiau]({}) \".format(btc['title'],'. ', btc['body'], ' ...', btc['url']))"
   ]
  },
  {
   "cell_type": "code",
   "execution_count": 5,
   "id": "organic-actress",
   "metadata": {
    "execution": {
     "iopub.execute_input": "2021-05-29T03:58:12.826425Z",
     "iopub.status.busy": "2021-05-29T03:58:12.825794Z",
     "iopub.status.idle": "2021-05-29T03:58:12.829155Z",
     "shell.execute_reply": "2021-05-29T03:58:12.828599Z"
    },
    "papermill": {
     "duration": 0.018875,
     "end_time": "2021-05-29T03:58:12.829302",
     "exception": false,
     "start_time": "2021-05-29T03:58:12.810427",
     "status": "completed"
    },
    "tags": []
   },
   "outputs": [
    {
     "data": {
      "text/markdown": [
       "- Ripple Plans to Go Public After SEC Lawsuit Over XRP Is Resolved, CEO Says.  Ripple could go public after the SEC lawsuit is resolved, according to CEO Brad Garlinghouse. He reportedly explained that the likelihood of this happening is &#8220;very high at some point.&#8221; Ripple CEO Brad Garlinghouse was asked at the Consensus 2021 conference on Wednesday whether Ripple will become a public company. He replied that the likelihood [&#8230;] ... [| Skaityti daugiau](https://news.bitcoin.com/ripple-go-public-sec-lawsuit-xrp-resolved/) "
      ],
      "text/plain": [
       "<IPython.core.display.Markdown object>"
      ]
     },
     "execution_count": 5,
     "metadata": {},
     "output_type": "execute_result"
    }
   ],
   "source": [
    "#hide_input\n",
    "#md('##### {}'.format(titleBTC)) \n",
    "md(\"- {}{} {}{} [| Skaityti daugiau]({}) \".format(xrp['title'],'. ', xrp['body'], ' ...', xrp['url']))"
   ]
  },
  {
   "cell_type": "code",
   "execution_count": 6,
   "id": "prompt-farmer",
   "metadata": {
    "execution": {
     "iopub.execute_input": "2021-05-29T03:58:12.856712Z",
     "iopub.status.busy": "2021-05-29T03:58:12.855919Z",
     "iopub.status.idle": "2021-05-29T03:58:12.861510Z",
     "shell.execute_reply": "2021-05-29T03:58:12.862493Z"
    },
    "papermill": {
     "duration": 0.022665,
     "end_time": "2021-05-29T03:58:12.862644",
     "exception": false,
     "start_time": "2021-05-29T03:58:12.839979",
     "status": "completed"
    },
    "tags": []
   },
   "outputs": [
    {
     "data": {
      "text/markdown": [
       "- Tron (TRX) Price Analysis: Bulls Facing Hurdles Near $0.092.  Tron price extended its decline below the $0.1000 and $0.0900 support levels against the US Dollar. TRX price is now trading well below $0.1000 and the 55 simple moving average (4-hours). There is a major bearish trend line forming with resistance near $0.0900 on the 4-hours chart (data feed via Bitfinex). The pair is likely...The post Tron (TRX) Price Analysis: Bulls Facing Hurdles Near $0.092 appeared first on Live Bitcoin News. ... [| Skaityti daugiau](https://www.livebitcoinnews.com/tron-trx-price-analysis-bulls-facing-hurdles-near-0-092/) "
      ],
      "text/plain": [
       "<IPython.core.display.Markdown object>"
      ]
     },
     "execution_count": 6,
     "metadata": {},
     "output_type": "execute_result"
    }
   ],
   "source": [
    "#hide_input\n",
    "#md('##### {}'.format(titleBTC)) \n",
    "md(\"- {}{} {}{} [| Skaityti daugiau]({}) \".format(trx['title'],'. ', trx['body'], ' ...', trx['url']))"
   ]
  },
  {
   "cell_type": "code",
   "execution_count": 7,
   "id": "illegal-greece",
   "metadata": {
    "execution": {
     "iopub.execute_input": "2021-05-29T03:58:12.891798Z",
     "iopub.status.busy": "2021-05-29T03:58:12.891266Z",
     "iopub.status.idle": "2021-05-29T03:58:12.894495Z",
     "shell.execute_reply": "2021-05-29T03:58:12.893910Z"
    },
    "papermill": {
     "duration": 0.019563,
     "end_time": "2021-05-29T03:58:12.894597",
     "exception": false,
     "start_time": "2021-05-29T03:58:12.875034",
     "status": "completed"
    },
    "tags": []
   },
   "outputs": [
    {
     "data": {
      "text/markdown": [
       "- BurgerSwap Flash Loan Exploit Leaves $7.2 Million in Losses of Stolen Ether, BNB, and More.  Another Binance Smart Chain project was exploited by a flash loan attack, with DeFi platform BurgerSwap being the victim this time. According to a twitter post written by the Burgerswap Team, there were approximately $7.2 million in funds lost from the exploit. The current total loss is around $7 million and we will strive to [&#8230;] ... [| Skaityti daugiau](https://bitcoinist.com/burgerswap-flash-loan-exploit-leaves-7-2-million-in-losses-of-stolen-ether-bnb-and-more/?utm_source=rss&utm_medium=rss&utm_campaign=burgerswap-flash-loan-exploit-leaves-7-2-million-in-losses-of-stolen-ether-bnb-and-more) "
      ],
      "text/plain": [
       "<IPython.core.display.Markdown object>"
      ]
     },
     "execution_count": 7,
     "metadata": {},
     "output_type": "execute_result"
    }
   ],
   "source": [
    "#hide_input\n",
    "#md('##### {}'.format(titleBTC)) \n",
    "md(\"- {}{} {}{} [| Skaityti daugiau]({}) \".format(eth['title'],'. ', eth['body'], ' ...', eth['url']))"
   ]
  },
  {
   "cell_type": "code",
   "execution_count": 8,
   "id": "sublime-lounge",
   "metadata": {
    "execution": {
     "iopub.execute_input": "2021-05-29T03:58:12.924936Z",
     "iopub.status.busy": "2021-05-29T03:58:12.924290Z",
     "iopub.status.idle": "2021-05-29T03:58:12.926467Z",
     "shell.execute_reply": "2021-05-29T03:58:12.926930Z"
    },
    "papermill": {
     "duration": 0.019884,
     "end_time": "2021-05-29T03:58:12.927048",
     "exception": false,
     "start_time": "2021-05-29T03:58:12.907164",
     "status": "completed"
    },
    "tags": []
   },
   "outputs": [
    {
     "data": {
      "text/markdown": [
       "- Cardano Price Analysis: 28 May.  Disclaimer: The findings of the following analysis are the sole opinions of the writer and should not be taken as investment advice Cardano has been in the news lately thanks to the steps it&#8217;s taking towards the Alonzo update. Alonzo is one in a series of updates to the blockchain, one that will bring features like [&#8230;] ... [| Skaityti daugiau](https://ambcrypto.com/cardano-price-analysis-28-may/) "
      ],
      "text/plain": [
       "<IPython.core.display.Markdown object>"
      ]
     },
     "execution_count": 8,
     "metadata": {},
     "output_type": "execute_result"
    }
   ],
   "source": [
    "#hide_input\n",
    "#md('##### {}'.format(titleBTC)) \n",
    "md(\"- {}{} {}{} [| Skaityti daugiau]({}) \".format(ada['title'],'. ', ada['body'], ' ...', ada['url']))"
   ]
  },
  {
   "cell_type": "code",
   "execution_count": 9,
   "id": "specified-ordering",
   "metadata": {
    "execution": {
     "iopub.execute_input": "2021-05-29T03:58:12.956196Z",
     "iopub.status.busy": "2021-05-29T03:58:12.955039Z",
     "iopub.status.idle": "2021-05-29T03:58:12.959695Z",
     "shell.execute_reply": "2021-05-29T03:58:12.959120Z"
    },
    "papermill": {
     "duration": 0.020045,
     "end_time": "2021-05-29T03:58:12.959802",
     "exception": false,
     "start_time": "2021-05-29T03:58:12.939757",
     "status": "completed"
    },
    "tags": []
   },
   "outputs": [
    {
     "data": {
      "text/markdown": [
       "- BurgerSwap Flash Loan Exploit Leaves $7.2 Million in Losses of Stolen Ether, BNB, and More.  Another Binance Smart Chain project was exploited by a flash loan attack, with DeFi platform BurgerSwap being the victim this time. According to a twitter post written by the Burgerswap Team, there were approximately $7.2 million in funds lost from the exploit. The current total loss is around $7 million and we will strive to [&#8230;] ... [| Skaityti daugiau](https://bitcoinist.com/burgerswap-flash-loan-exploit-leaves-7-2-million-in-losses-of-stolen-ether-bnb-and-more/?utm_source=rss&utm_medium=rss&utm_campaign=burgerswap-flash-loan-exploit-leaves-7-2-million-in-losses-of-stolen-ether-bnb-and-more) "
      ],
      "text/plain": [
       "<IPython.core.display.Markdown object>"
      ]
     },
     "execution_count": 9,
     "metadata": {},
     "output_type": "execute_result"
    }
   ],
   "source": [
    "#hide_input\n",
    "#md('##### {}'.format(titleBTC)) \n",
    "md(\"- {}{} {}{} [| Skaityti daugiau]({}) \".format(exchange['title'],'. ', exchange['body'], ' ...', exchange['url']))"
   ]
  },
  {
   "cell_type": "code",
   "execution_count": null,
   "id": "tender-livestock",
   "metadata": {
    "papermill": {
     "duration": 0.013256,
     "end_time": "2021-05-29T03:58:12.985882",
     "exception": false,
     "start_time": "2021-05-29T03:58:12.972626",
     "status": "completed"
    },
    "tags": []
   },
   "outputs": [],
   "source": []
  },
  {
   "cell_type": "code",
   "execution_count": null,
   "id": "appreciated-diamond",
   "metadata": {
    "papermill": {
     "duration": 0.014477,
     "end_time": "2021-05-29T03:58:13.015082",
     "exception": false,
     "start_time": "2021-05-29T03:58:13.000605",
     "status": "completed"
    },
    "tags": []
   },
   "outputs": [],
   "source": []
  },
  {
   "cell_type": "code",
   "execution_count": null,
   "id": "romance-sweden",
   "metadata": {
    "papermill": {
     "duration": 0.012657,
     "end_time": "2021-05-29T03:58:13.041108",
     "exception": false,
     "start_time": "2021-05-29T03:58:13.028451",
     "status": "completed"
    },
    "tags": []
   },
   "outputs": [],
   "source": []
  },
  {
   "cell_type": "code",
   "execution_count": null,
   "id": "dietary-statistics",
   "metadata": {
    "papermill": {
     "duration": 0.01472,
     "end_time": "2021-05-29T03:58:13.070268",
     "exception": false,
     "start_time": "2021-05-29T03:58:13.055548",
     "status": "completed"
    },
    "tags": []
   },
   "outputs": [],
   "source": []
  }
 ],
 "metadata": {
  "kernelspec": {
   "display_name": "Python 3",
   "language": "python",
   "name": "python3"
  },
  "language_info": {
   "codemirror_mode": {
    "name": "ipython",
    "version": 3
   },
   "file_extension": ".py",
   "mimetype": "text/x-python",
   "name": "python",
   "nbconvert_exporter": "python",
   "pygments_lexer": "ipython3",
   "version": "3.6.13"
  },
  "papermill": {
   "default_parameters": {},
   "duration": 14.313566,
   "end_time": "2021-05-29T03:58:14.318511",
   "environment_variables": {},
   "exception": null,
   "input_path": "Market-News.ipynb",
   "output_path": "Market-News.ipynb",
   "parameters": {},
   "start_time": "2021-05-29T03:58:00.004945",
   "version": "2.2.2"
  }
 },
 "nbformat": 4,
 "nbformat_minor": 5
}