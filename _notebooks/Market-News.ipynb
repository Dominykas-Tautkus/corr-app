{
 "cells": [
  {
   "cell_type": "markdown",
   "id": "short-greensboro",
   "metadata": {
    "papermill": {
     "duration": 0.015703,
     "end_time": "2021-03-23T01:51:29.626931",
     "exception": false,
     "start_time": "2021-03-23T01:51:29.611228",
     "status": "completed"
    },
    "tags": []
   },
   "source": [
    "# Kriptovaliutų naujienos"
   ]
  },
  {
   "cell_type": "code",
   "execution_count": 1,
   "id": "functioning-knowing",
   "metadata": {
    "execution": {
     "iopub.execute_input": "2021-03-23T01:51:29.662419Z",
     "iopub.status.busy": "2021-03-23T01:51:29.661629Z",
     "iopub.status.idle": "2021-03-23T01:51:31.137674Z",
     "shell.execute_reply": "2021-03-23T01:51:31.135099Z"
    },
    "papermill": {
     "duration": 1.498904,
     "end_time": "2021-03-23T01:51:31.137846",
     "exception": false,
     "start_time": "2021-03-23T01:51:29.638942",
     "status": "completed"
    },
    "tags": []
   },
   "outputs": [],
   "source": [
    "#hide_input\n",
    "import warnings\n",
    "warnings.filterwarnings('ignore')\n",
    "from scripts.read_data import read_api\n",
    "from scripts.read_data import read_news\n",
    "from scripts.read_data import read_covid\n",
    "import matplotlib.pyplot as plt \n",
    "from IPython.display import Markdown as md"
   ]
  },
  {
   "cell_type": "code",
   "execution_count": 2,
   "id": "shared-acceptance",
   "metadata": {
    "execution": {
     "iopub.execute_input": "2021-03-23T01:51:31.169847Z",
     "iopub.status.busy": "2021-03-23T01:51:31.169212Z",
     "iopub.status.idle": "2021-03-23T01:51:39.905580Z",
     "shell.execute_reply": "2021-03-23T01:51:39.904922Z"
    },
    "papermill": {
     "duration": 8.755039,
     "end_time": "2021-03-23T01:51:39.905727",
     "exception": false,
     "start_time": "2021-03-23T01:51:31.150688",
     "status": "completed"
    },
    "tags": []
   },
   "outputs": [],
   "source": [
    "#hide_input\n",
    "blockchain = read_news('blockchain') \n",
    "btc = read_news('btc') \n",
    "xrp = read_news('xrp') \n",
    "trx = read_news('trx') \n",
    "eth = read_news('eth')  \n",
    "ada = read_news('ada')\n",
    "exchange = read_news('exchange') "
   ]
  },
  {
   "cell_type": "code",
   "execution_count": 3,
   "id": "synthetic-notion",
   "metadata": {
    "execution": {
     "iopub.execute_input": "2021-03-23T01:51:39.935510Z",
     "iopub.status.busy": "2021-03-23T01:51:39.934827Z",
     "iopub.status.idle": "2021-03-23T01:51:39.941874Z",
     "shell.execute_reply": "2021-03-23T01:51:39.942392Z"
    },
    "papermill": {
     "duration": 0.024743,
     "end_time": "2021-03-23T01:51:39.942568",
     "exception": false,
     "start_time": "2021-03-23T01:51:39.917825",
     "status": "completed"
    },
    "tags": []
   },
   "outputs": [
    {
     "data": {
      "text/markdown": [
       "- Number of Addresses Holding Bitcoin Hits New All-Time High.  There are now more active addresses than ever holding Bitcoin. After continuing to grow at a parabolic rate, the total number of non-zero Bitcoin addresses hit an all-time high of 36,896,000 earlier this Friday. The figure has then dropped back to approximately 36,770,000 on Sunday afternoon, according to data from on-chain analytics site Glassnode. This is clearly great news for the crypto market, as Bitcoin hits new monumental highs thanks to cryptocurrencies and blockchain technology [&#8230;] ... [| Skaityti daugiau](https://bitcoinist.com/number-of-addresses-holding-bitcoin-hits-new-all-time-high/?utm_source=rss&utm_medium=rss&utm_campaign=number-of-addresses-holding-bitcoin-hits-new-all-time-high) "
      ],
      "text/plain": [
       "<IPython.core.display.Markdown object>"
      ]
     },
     "execution_count": 3,
     "metadata": {},
     "output_type": "execute_result"
    }
   ],
   "source": [
    "#hide_input\n",
    "#md('##### {}'.format(titleBTC)) \n",
    "md(\"- {}{} {}{} [| Skaityti daugiau]({}) \".format(blockchain['title'],'. ', blockchain['body'], ' ...', blockchain['url']))"
   ]
  },
  {
   "cell_type": "code",
   "execution_count": 4,
   "id": "aging-caution",
   "metadata": {
    "execution": {
     "iopub.execute_input": "2021-03-23T01:51:39.973241Z",
     "iopub.status.busy": "2021-03-23T01:51:39.972526Z",
     "iopub.status.idle": "2021-03-23T01:51:39.977650Z",
     "shell.execute_reply": "2021-03-23T01:51:39.976995Z"
    },
    "papermill": {
     "duration": 0.02284,
     "end_time": "2021-03-23T01:51:39.977796",
     "exception": false,
     "start_time": "2021-03-23T01:51:39.954956",
     "status": "completed"
    },
    "tags": []
   },
   "outputs": [
    {
     "data": {
      "text/markdown": [
       "- How Bitcoin Price Could Shed 50 To 70% If Momentum Turns Down.  Bitcoin price is down nearly 10% from recent highs set earlier this month, but the underlying strength of the price action is beginning to fade ever so slightly. The weekly MACD is also turning , potentially ready to cross over for the first time in months. Here&#8217;s how such a bearish crossover could result in [&#8230;] ... [| Skaityti daugiau](https://www.newsbtc.com/analysis/btc/bitcoin-price-momentum-lmacd-btc/) "
      ],
      "text/plain": [
       "<IPython.core.display.Markdown object>"
      ]
     },
     "execution_count": 4,
     "metadata": {},
     "output_type": "execute_result"
    }
   ],
   "source": [
    "#hide_input\n",
    "#md('##### {}'.format(titleBTC)) \n",
    "md(\"- {}{} {}{} [| Skaityti daugiau]({}) \".format(btc['title'],'. ', btc['body'], ' ...', btc['url']))"
   ]
  },
  {
   "cell_type": "code",
   "execution_count": 5,
   "id": "organic-actress",
   "metadata": {
    "execution": {
     "iopub.execute_input": "2021-03-23T01:51:40.009909Z",
     "iopub.status.busy": "2021-03-23T01:51:40.009233Z",
     "iopub.status.idle": "2021-03-23T01:51:40.012467Z",
     "shell.execute_reply": "2021-03-23T01:51:40.013006Z"
    },
    "papermill": {
     "duration": 0.022755,
     "end_time": "2021-03-23T01:51:40.013176",
     "exception": false,
     "start_time": "2021-03-23T01:51:39.990421",
     "status": "completed"
    },
    "tags": []
   },
   "outputs": [
    {
     "data": {
      "text/markdown": [
       "- Ripple price analysis: XRP/USD shifts into high gear as $0.60 beckons.  TL;DR Ripple price analysis turns bullish after weekend pullback Short-term critical support at $0.5570 holds to help chart a higher run XRP/USD bulls needs to close above $0.5690 to maintain bullish momentum The bears have stepped aside briefly as the XRP/USD breaks higher to touch $0.6000 high today. At the time of writing, the pair [&#8230;] ... [| Skaityti daugiau](https://www.cryptopolitan.com/ripple-price-analysis-2021-03-22/) "
      ],
      "text/plain": [
       "<IPython.core.display.Markdown object>"
      ]
     },
     "execution_count": 5,
     "metadata": {},
     "output_type": "execute_result"
    }
   ],
   "source": [
    "#hide_input\n",
    "#md('##### {}'.format(titleBTC)) \n",
    "md(\"- {}{} {}{} [| Skaityti daugiau]({}) \".format(xrp['title'],'. ', xrp['body'], ' ...', xrp['url']))"
   ]
  },
  {
   "cell_type": "code",
   "execution_count": 6,
   "id": "prompt-farmer",
   "metadata": {
    "execution": {
     "iopub.execute_input": "2021-03-23T01:51:40.045900Z",
     "iopub.status.busy": "2021-03-23T01:51:40.045240Z",
     "iopub.status.idle": "2021-03-23T01:51:40.047813Z",
     "shell.execute_reply": "2021-03-23T01:51:40.048441Z"
    },
    "papermill": {
     "duration": 0.02198,
     "end_time": "2021-03-23T01:51:40.048604",
     "exception": false,
     "start_time": "2021-03-23T01:51:40.026624",
     "status": "completed"
    },
    "tags": []
   },
   "outputs": [
    {
     "data": {
      "text/markdown": [
       "- Tron Price Analysis: 22 March.  With a market capitalization of $4.62 billion, Tron has been listed on the 21st spot on the CoinMarketCap list. The digital asset has been returning 151% to the investors year to date. TRX was trading at $0.0261 at the beginning of the year and the rallying market carried it to $0.0656. At the time of [&#8230;] ... [| Skaityti daugiau](https://ambcrypto.com/tron-price-analysis-22-march/) "
      ],
      "text/plain": [
       "<IPython.core.display.Markdown object>"
      ]
     },
     "execution_count": 6,
     "metadata": {},
     "output_type": "execute_result"
    }
   ],
   "source": [
    "#hide_input\n",
    "#md('##### {}'.format(titleBTC)) \n",
    "md(\"- {}{} {}{} [| Skaityti daugiau]({}) \".format(trx['title'],'. ', trx['body'], ' ...', trx['url']))"
   ]
  },
  {
   "cell_type": "code",
   "execution_count": 7,
   "id": "illegal-greece",
   "metadata": {
    "execution": {
     "iopub.execute_input": "2021-03-23T01:51:40.081690Z",
     "iopub.status.busy": "2021-03-23T01:51:40.081011Z",
     "iopub.status.idle": "2021-03-23T01:51:40.083507Z",
     "shell.execute_reply": "2021-03-23T01:51:40.084137Z"
    },
    "papermill": {
     "duration": 0.021886,
     "end_time": "2021-03-23T01:51:40.084301",
     "exception": false,
     "start_time": "2021-03-23T01:51:40.062415",
     "status": "completed"
    },
    "tags": []
   },
   "outputs": [
    {
     "data": {
      "text/markdown": [
       "- Rico Nasty Releases NFT: ‘It's Like the New Stock Market, But for Art’.  It’s the rapper’s first foray into crypto art. ... [| Skaityti daugiau](https://decrypt.co/62488/rico-nasty-nft) "
      ],
      "text/plain": [
       "<IPython.core.display.Markdown object>"
      ]
     },
     "execution_count": 7,
     "metadata": {},
     "output_type": "execute_result"
    }
   ],
   "source": [
    "#hide_input\n",
    "#md('##### {}'.format(titleBTC)) \n",
    "md(\"- {}{} {}{} [| Skaityti daugiau]({}) \".format(eth['title'],'. ', eth['body'], ' ...', eth['url']))"
   ]
  },
  {
   "cell_type": "code",
   "execution_count": 8,
   "id": "sublime-lounge",
   "metadata": {
    "execution": {
     "iopub.execute_input": "2021-03-23T01:51:40.118156Z",
     "iopub.status.busy": "2021-03-23T01:51:40.117486Z",
     "iopub.status.idle": "2021-03-23T01:51:40.120203Z",
     "shell.execute_reply": "2021-03-23T01:51:40.120869Z"
    },
    "papermill": {
     "duration": 0.022917,
     "end_time": "2021-03-23T01:51:40.121035",
     "exception": false,
     "start_time": "2021-03-23T01:51:40.098118",
     "status": "completed"
    },
    "tags": []
   },
   "outputs": [
    {
     "data": {
      "text/markdown": [
       "- Charles Hoskinson calls out Ethereum supporters; addresses criticisms about Cardano.  Speaking at a recent Periscope Livestream, CEO of IOHK, Charles Hoskinson addressed “a huge amount of intellectual dishonesty,” that stems from &#8216;Ethereum maximalists&#8217; on social media apps. Criticizing the network, Hoskinson said that Cardano was much ahead of Ethereum, despite claims from “other actors” in the crypto space “about the nature of DApps on Cardano. [&#8230;] ... [| Skaityti daugiau](https://ambcrypto.com/charles-hoskinson-calls-out-ethereum-supporters-addresses-criticisms-about-cardano/) "
      ],
      "text/plain": [
       "<IPython.core.display.Markdown object>"
      ]
     },
     "execution_count": 8,
     "metadata": {},
     "output_type": "execute_result"
    }
   ],
   "source": [
    "#hide_input\n",
    "#md('##### {}'.format(titleBTC)) \n",
    "md(\"- {}{} {}{} [| Skaityti daugiau]({}) \".format(ada['title'],'. ', ada['body'], ' ...', ada['url']))"
   ]
  },
  {
   "cell_type": "code",
   "execution_count": 9,
   "id": "specified-ordering",
   "metadata": {
    "execution": {
     "iopub.execute_input": "2021-03-23T01:51:40.157737Z",
     "iopub.status.busy": "2021-03-23T01:51:40.157072Z",
     "iopub.status.idle": "2021-03-23T01:51:40.159948Z",
     "shell.execute_reply": "2021-03-23T01:51:40.160512Z"
    },
    "papermill": {
     "duration": 0.024556,
     "end_time": "2021-03-23T01:51:40.160706",
     "exception": false,
     "start_time": "2021-03-23T01:51:40.136150",
     "status": "completed"
    },
    "tags": []
   },
   "outputs": [
    {
     "data": {
      "text/markdown": [
       "- Winklevoss’ Gemini Exchange Goes Big on Gaming, DeFi Tokens.  The New York-based Gemini cryptocurrency exchange has added seven new tokens to its platform. And there's a clear focus on the DeFi and NFT booms. ... [| Skaityti daugiau](https://decrypt.co/62456/winklevoss-gemini-exchange-gaming-defi-tokens) "
      ],
      "text/plain": [
       "<IPython.core.display.Markdown object>"
      ]
     },
     "execution_count": 9,
     "metadata": {},
     "output_type": "execute_result"
    }
   ],
   "source": [
    "#hide_input\n",
    "#md('##### {}'.format(titleBTC)) \n",
    "md(\"- {}{} {}{} [| Skaityti daugiau]({}) \".format(exchange['title'],'. ', exchange['body'], ' ...', exchange['url']))"
   ]
  },
  {
   "cell_type": "code",
   "execution_count": null,
   "id": "tender-livestock",
   "metadata": {
    "papermill": {
     "duration": 0.014618,
     "end_time": "2021-03-23T01:51:40.191555",
     "exception": false,
     "start_time": "2021-03-23T01:51:40.176937",
     "status": "completed"
    },
    "tags": []
   },
   "outputs": [],
   "source": []
  },
  {
   "cell_type": "code",
   "execution_count": null,
   "id": "appreciated-diamond",
   "metadata": {
    "papermill": {
     "duration": 0.016108,
     "end_time": "2021-03-23T01:51:40.222467",
     "exception": false,
     "start_time": "2021-03-23T01:51:40.206359",
     "status": "completed"
    },
    "tags": []
   },
   "outputs": [],
   "source": []
  },
  {
   "cell_type": "code",
   "execution_count": null,
   "id": "romance-sweden",
   "metadata": {
    "papermill": {
     "duration": 0.014701,
     "end_time": "2021-03-23T01:51:40.252214",
     "exception": false,
     "start_time": "2021-03-23T01:51:40.237513",
     "status": "completed"
    },
    "tags": []
   },
   "outputs": [],
   "source": []
  },
  {
   "cell_type": "code",
   "execution_count": null,
   "id": "dietary-statistics",
   "metadata": {
    "papermill": {
     "duration": 0.014533,
     "end_time": "2021-03-23T01:51:40.281489",
     "exception": false,
     "start_time": "2021-03-23T01:51:40.266956",
     "status": "completed"
    },
    "tags": []
   },
   "outputs": [],
   "source": []
  }
 ],
 "metadata": {
  "kernelspec": {
   "display_name": "Python 3",
   "language": "python",
   "name": "python3"
  },
  "language_info": {
   "codemirror_mode": {
    "name": "ipython",
    "version": 3
   },
   "file_extension": ".py",
   "mimetype": "text/x-python",
   "name": "python",
   "nbconvert_exporter": "python",
   "pygments_lexer": "ipython3",
   "version": "3.6.13"
  },
  "papermill": {
   "default_parameters": {},
   "duration": 12.338029,
   "end_time": "2021-03-23T01:51:40.805764",
   "environment_variables": {},
   "exception": null,
   "input_path": "Market-News.ipynb",
   "output_path": "Market-News.ipynb",
   "parameters": {},
   "start_time": "2021-03-23T01:51:28.467735",
   "version": "2.2.2"
  }
 },
 "nbformat": 4,
 "nbformat_minor": 5
}