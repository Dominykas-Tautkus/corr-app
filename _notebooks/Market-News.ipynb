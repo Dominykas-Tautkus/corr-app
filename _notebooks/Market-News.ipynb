{
 "cells": [
  {
   "cell_type": "markdown",
   "id": "short-greensboro",
   "metadata": {
    "papermill": {
     "duration": 0.01343,
     "end_time": "2021-04-09T02:06:49.921174",
     "exception": false,
     "start_time": "2021-04-09T02:06:49.907744",
     "status": "completed"
    },
    "tags": []
   },
   "source": [
    "# Kriptovaliutų naujienos"
   ]
  },
  {
   "cell_type": "code",
   "execution_count": 1,
   "id": "functioning-knowing",
   "metadata": {
    "execution": {
     "iopub.execute_input": "2021-04-09T02:06:49.953893Z",
     "iopub.status.busy": "2021-04-09T02:06:49.953345Z",
     "iopub.status.idle": "2021-04-09T02:06:51.143958Z",
     "shell.execute_reply": "2021-04-09T02:06:51.143319Z"
    },
    "papermill": {
     "duration": 1.212596,
     "end_time": "2021-04-09T02:06:51.144133",
     "exception": false,
     "start_time": "2021-04-09T02:06:49.931537",
     "status": "completed"
    },
    "tags": []
   },
   "outputs": [],
   "source": [
    "#hide_input\n",
    "import warnings\n",
    "warnings.filterwarnings('ignore')\n",
    "from scripts.read_data import read_api\n",
    "from scripts.read_data import read_news\n",
    "from scripts.read_data import read_covid\n",
    "import matplotlib.pyplot as plt \n",
    "from IPython.display import Markdown as md"
   ]
  },
  {
   "cell_type": "code",
   "execution_count": 2,
   "id": "shared-acceptance",
   "metadata": {
    "execution": {
     "iopub.execute_input": "2021-04-09T02:06:51.170511Z",
     "iopub.status.busy": "2021-04-09T02:06:51.169535Z",
     "iopub.status.idle": "2021-04-09T02:06:58.529383Z",
     "shell.execute_reply": "2021-04-09T02:06:58.528854Z"
    },
    "papermill": {
     "duration": 7.37486,
     "end_time": "2021-04-09T02:06:58.529501",
     "exception": false,
     "start_time": "2021-04-09T02:06:51.154641",
     "status": "completed"
    },
    "tags": []
   },
   "outputs": [],
   "source": [
    "#hide_input\n",
    "blockchain = read_news('blockchain') \n",
    "btc = read_news('btc') \n",
    "xrp = read_news('xrp') \n",
    "trx = read_news('trx') \n",
    "eth = read_news('eth')  \n",
    "ada = read_news('ada')\n",
    "exchange = read_news('exchange') "
   ]
  },
  {
   "cell_type": "code",
   "execution_count": 3,
   "id": "synthetic-notion",
   "metadata": {
    "execution": {
     "iopub.execute_input": "2021-04-09T02:06:58.554783Z",
     "iopub.status.busy": "2021-04-09T02:06:58.554079Z",
     "iopub.status.idle": "2021-04-09T02:06:58.556744Z",
     "shell.execute_reply": "2021-04-09T02:06:58.557303Z"
    },
    "papermill": {
     "duration": 0.018294,
     "end_time": "2021-04-09T02:06:58.557457",
     "exception": false,
     "start_time": "2021-04-09T02:06:58.539163",
     "status": "completed"
    },
    "tags": []
   },
   "outputs": [
    {
     "data": {
      "text/markdown": [
       "- How will the SushiSwap (SUSHI) staking rewards be distributed?.  Decentralized exchange (DEX) Sushiswap’s SUSHI rewards will finally be released to stakers, users, and liquidity providers over six months after the protocol made changes to the way it would handle its rewards roll-out. The post How will the SushiSwap (SUSHI) staking rewards be distributed? appeared first on CryptoSlate. ... [| Skaityti daugiau](https://cryptoslate.com/how-will-the-sushiswap-sushi-staking-rewards-be-distributed/) "
      ],
      "text/plain": [
       "<IPython.core.display.Markdown object>"
      ]
     },
     "execution_count": 3,
     "metadata": {},
     "output_type": "execute_result"
    }
   ],
   "source": [
    "#hide_input\n",
    "#md('##### {}'.format(titleBTC)) \n",
    "md(\"- {}{} {}{} [| Skaityti daugiau]({}) \".format(blockchain['title'],'. ', blockchain['body'], ' ...', blockchain['url']))"
   ]
  },
  {
   "cell_type": "code",
   "execution_count": 4,
   "id": "aging-caution",
   "metadata": {
    "execution": {
     "iopub.execute_input": "2021-04-09T02:06:58.582078Z",
     "iopub.status.busy": "2021-04-09T02:06:58.581524Z",
     "iopub.status.idle": "2021-04-09T02:06:58.584530Z",
     "shell.execute_reply": "2021-04-09T02:06:58.584035Z"
    },
    "papermill": {
     "duration": 0.016329,
     "end_time": "2021-04-09T02:06:58.584638",
     "exception": false,
     "start_time": "2021-04-09T02:06:58.568309",
     "status": "completed"
    },
    "tags": []
   },
   "outputs": [
    {
     "data": {
      "text/markdown": [
       "- Bitcoin Facing Bullish Supply Constraints.  Technical analysis suggests that the month-long consolidation period in Bitcoin price will end in 1-2 weeks.Miners are no longer selling Bitcoin because they have successfully covered operating costs.Institutions are pulling Bitcoin into long-term cold storage at a pace never before seen in previous market cycles.This double supply constraint suggests we are in for a price rally. ... [| Skaityti daugiau](https://seekingalpha.com/article/4418257-bitcoin-facing-bullish-supply-constraints?utm_source=cryptocompare.com&utm_medium=referral) "
      ],
      "text/plain": [
       "<IPython.core.display.Markdown object>"
      ]
     },
     "execution_count": 4,
     "metadata": {},
     "output_type": "execute_result"
    }
   ],
   "source": [
    "#hide_input\n",
    "#md('##### {}'.format(titleBTC)) \n",
    "md(\"- {}{} {}{} [| Skaityti daugiau]({}) \".format(btc['title'],'. ', btc['body'], ' ...', btc['url']))"
   ]
  },
  {
   "cell_type": "code",
   "execution_count": 5,
   "id": "organic-actress",
   "metadata": {
    "execution": {
     "iopub.execute_input": "2021-04-09T02:06:58.608939Z",
     "iopub.status.busy": "2021-04-09T02:06:58.608360Z",
     "iopub.status.idle": "2021-04-09T02:06:58.611714Z",
     "shell.execute_reply": "2021-04-09T02:06:58.611307Z"
    },
    "papermill": {
     "duration": 0.01768,
     "end_time": "2021-04-09T02:06:58.611827",
     "exception": false,
     "start_time": "2021-04-09T02:06:58.594147",
     "status": "completed"
    },
    "tags": []
   },
   "outputs": [
    {
     "data": {
      "text/markdown": [
       "- Bitcoin, Ethereum, and XRP Are Primed for Higher Highs.   ... [| Skaityti daugiau](https://cryptobriefing.com/bitcoin-ethereum-xrp-primed-for-higher-highs/) "
      ],
      "text/plain": [
       "<IPython.core.display.Markdown object>"
      ]
     },
     "execution_count": 5,
     "metadata": {},
     "output_type": "execute_result"
    }
   ],
   "source": [
    "#hide_input\n",
    "#md('##### {}'.format(titleBTC)) \n",
    "md(\"- {}{} {}{} [| Skaityti daugiau]({}) \".format(xrp['title'],'. ', xrp['body'], ' ...', xrp['url']))"
   ]
  },
  {
   "cell_type": "code",
   "execution_count": 6,
   "id": "prompt-farmer",
   "metadata": {
    "execution": {
     "iopub.execute_input": "2021-04-09T02:06:58.639864Z",
     "iopub.status.busy": "2021-04-09T02:06:58.639301Z",
     "iopub.status.idle": "2021-04-09T02:06:58.642704Z",
     "shell.execute_reply": "2021-04-09T02:06:58.642271Z"
    },
    "papermill": {
     "duration": 0.019083,
     "end_time": "2021-04-09T02:06:58.642810",
     "exception": false,
     "start_time": "2021-04-09T02:06:58.623727",
     "status": "completed"
    },
    "tags": []
   },
   "outputs": [
    {
     "data": {
      "text/markdown": [
       "- Tron, BAT, VeChain Price Analysis: 08 April.  Bitcoin was trading near the $57k mark, but a drop back towards $55k was not yet out of the question. As such, the short-term bullish momentum for many of the market&#8217;s altcoins could be a bounce before another slide. Tron, Basic Attention Token, and VeChain all saw northbound moves in recent hours and could continue [&#8230;] ... [| Skaityti daugiau](https://ambcrypto.com/tron-bat-vechain-price-analysis-08-april/) "
      ],
      "text/plain": [
       "<IPython.core.display.Markdown object>"
      ]
     },
     "execution_count": 6,
     "metadata": {},
     "output_type": "execute_result"
    }
   ],
   "source": [
    "#hide_input\n",
    "#md('##### {}'.format(titleBTC)) \n",
    "md(\"- {}{} {}{} [| Skaityti daugiau]({}) \".format(trx['title'],'. ', trx['body'], ' ...', trx['url']))"
   ]
  },
  {
   "cell_type": "code",
   "execution_count": 7,
   "id": "illegal-greece",
   "metadata": {
    "execution": {
     "iopub.execute_input": "2021-04-09T02:06:58.668213Z",
     "iopub.status.busy": "2021-04-09T02:06:58.667682Z",
     "iopub.status.idle": "2021-04-09T02:06:58.670635Z",
     "shell.execute_reply": "2021-04-09T02:06:58.671115Z"
    },
    "papermill": {
     "duration": 0.017959,
     "end_time": "2021-04-09T02:06:58.671230",
     "exception": false,
     "start_time": "2021-04-09T02:06:58.653271",
     "status": "completed"
    },
    "tags": []
   },
   "outputs": [
    {
     "data": {
      "text/markdown": [
       "- Bitcoin Reclaims $58K After Fed Underscores Continued Recovery Support.  Bitcoin rallied on Thursday after the Federal Reserve vowed to support the economic recovery in the United States. The benchmark cryptocurrency jumped 3.80 percent to $58,083 after declining two days in a row. Meanwhile, its rivals across the crypto space, including the second-largest token Ethereum and its runner-up Binance Coin, also surged higher. Almost all [&#8230;] ... [| Skaityti daugiau](https://www.newsbtc.com/all/bitcoin-reclaims-58k-after-fed-underscores-continued-recovery-support/) "
      ],
      "text/plain": [
       "<IPython.core.display.Markdown object>"
      ]
     },
     "execution_count": 7,
     "metadata": {},
     "output_type": "execute_result"
    }
   ],
   "source": [
    "#hide_input\n",
    "#md('##### {}'.format(titleBTC)) \n",
    "md(\"- {}{} {}{} [| Skaityti daugiau]({}) \".format(eth['title'],'. ', eth['body'], ' ...', eth['url']))"
   ]
  },
  {
   "cell_type": "code",
   "execution_count": 8,
   "id": "sublime-lounge",
   "metadata": {
    "execution": {
     "iopub.execute_input": "2021-04-09T02:06:58.698065Z",
     "iopub.status.busy": "2021-04-09T02:06:58.697230Z",
     "iopub.status.idle": "2021-04-09T02:06:58.700735Z",
     "shell.execute_reply": "2021-04-09T02:06:58.701175Z"
    },
    "papermill": {
     "duration": 0.018706,
     "end_time": "2021-04-09T02:06:58.701291",
     "exception": false,
     "start_time": "2021-04-09T02:06:58.682585",
     "status": "completed"
    },
    "tags": []
   },
   "outputs": [
    {
     "data": {
      "text/markdown": [
       "- Cardano update: the importance of long-awaited Alonzo hardfork for entrepreneurs.  The Input Output HK team today detailed how the implementation of the latest Cardano hard fork, Alonzo, will make for an advanced network for businesses and developers alongside a new added support for smart contracts. Explaining further about the upgrade, software engineering lead at IOHK, Michael Peyton Jones wrote in a new blog post that [&#8230;] ... [| Skaityti daugiau](https://ambcrypto.com/cardano-update-importance-of-long-awaited-alonzo-hardfork-for-entrepreneurs/) "
      ],
      "text/plain": [
       "<IPython.core.display.Markdown object>"
      ]
     },
     "execution_count": 8,
     "metadata": {},
     "output_type": "execute_result"
    }
   ],
   "source": [
    "#hide_input\n",
    "#md('##### {}'.format(titleBTC)) \n",
    "md(\"- {}{} {}{} [| Skaityti daugiau]({}) \".format(ada['title'],'. ', ada['body'], ' ...', ada['url']))"
   ]
  },
  {
   "cell_type": "code",
   "execution_count": 9,
   "id": "specified-ordering",
   "metadata": {
    "execution": {
     "iopub.execute_input": "2021-04-09T02:06:58.729973Z",
     "iopub.status.busy": "2021-04-09T02:06:58.729394Z",
     "iopub.status.idle": "2021-04-09T02:06:58.732906Z",
     "shell.execute_reply": "2021-04-09T02:06:58.732422Z"
    },
    "papermill": {
     "duration": 0.019916,
     "end_time": "2021-04-09T02:06:58.733013",
     "exception": false,
     "start_time": "2021-04-09T02:06:58.713097",
     "status": "completed"
    },
    "tags": []
   },
   "outputs": [
    {
     "data": {
      "text/markdown": [
       "- How will the SushiSwap (SUSHI) staking rewards be distributed?.  Decentralized exchange (DEX) Sushiswap’s SUSHI rewards will finally be released to stakers, users, and liquidity providers over six months after the protocol made changes to the way it would handle its rewards roll-out. The post How will the SushiSwap (SUSHI) staking rewards be distributed? appeared first on CryptoSlate. ... [| Skaityti daugiau](https://cryptoslate.com/how-will-the-sushiswap-sushi-staking-rewards-be-distributed/) "
      ],
      "text/plain": [
       "<IPython.core.display.Markdown object>"
      ]
     },
     "execution_count": 9,
     "metadata": {},
     "output_type": "execute_result"
    }
   ],
   "source": [
    "#hide_input\n",
    "#md('##### {}'.format(titleBTC)) \n",
    "md(\"- {}{} {}{} [| Skaityti daugiau]({}) \".format(exchange['title'],'. ', exchange['body'], ' ...', exchange['url']))"
   ]
  },
  {
   "cell_type": "code",
   "execution_count": null,
   "id": "tender-livestock",
   "metadata": {
    "papermill": {
     "duration": 0.012419,
     "end_time": "2021-04-09T02:06:58.757203",
     "exception": false,
     "start_time": "2021-04-09T02:06:58.744784",
     "status": "completed"
    },
    "tags": []
   },
   "outputs": [],
   "source": []
  },
  {
   "cell_type": "code",
   "execution_count": null,
   "id": "appreciated-diamond",
   "metadata": {
    "papermill": {
     "duration": 0.011897,
     "end_time": "2021-04-09T02:06:58.781153",
     "exception": false,
     "start_time": "2021-04-09T02:06:58.769256",
     "status": "completed"
    },
    "tags": []
   },
   "outputs": [],
   "source": []
  },
  {
   "cell_type": "code",
   "execution_count": null,
   "id": "romance-sweden",
   "metadata": {
    "papermill": {
     "duration": 0.01191,
     "end_time": "2021-04-09T02:06:58.805463",
     "exception": false,
     "start_time": "2021-04-09T02:06:58.793553",
     "status": "completed"
    },
    "tags": []
   },
   "outputs": [],
   "source": []
  },
  {
   "cell_type": "code",
   "execution_count": null,
   "id": "dietary-statistics",
   "metadata": {
    "papermill": {
     "duration": 0.012659,
     "end_time": "2021-04-09T02:06:58.830159",
     "exception": false,
     "start_time": "2021-04-09T02:06:58.817500",
     "status": "completed"
    },
    "tags": []
   },
   "outputs": [],
   "source": []
  }
 ],
 "metadata": {
  "kernelspec": {
   "display_name": "Python 3",
   "language": "python",
   "name": "python3"
  },
  "language_info": {
   "codemirror_mode": {
    "name": "ipython",
    "version": 3
   },
   "file_extension": ".py",
   "mimetype": "text/x-python",
   "name": "python",
   "nbconvert_exporter": "python",
   "pygments_lexer": "ipython3",
   "version": "3.6.13"
  },
  "papermill": {
   "default_parameters": {},
   "duration": 10.590744,
   "end_time": "2021-04-09T02:06:59.251101",
   "environment_variables": {},
   "exception": null,
   "input_path": "Market-News.ipynb",
   "output_path": "Market-News.ipynb",
   "parameters": {},
   "start_time": "2021-04-09T02:06:48.660357",
   "version": "2.2.2"
  }
 },
 "nbformat": 4,
 "nbformat_minor": 5
}