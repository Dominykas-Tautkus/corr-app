{
 "cells": [
  {
   "cell_type": "markdown",
   "id": "short-greensboro",
   "metadata": {
    "papermill": {
     "duration": 0.012801,
     "end_time": "2021-02-17T01:39:06.752625",
     "exception": false,
     "start_time": "2021-02-17T01:39:06.739824",
     "status": "completed"
    },
    "tags": []
   },
   "source": [
    "# Kriptovaliutų naujienos"
   ]
  },
  {
   "cell_type": "code",
   "execution_count": 1,
   "id": "functioning-knowing",
   "metadata": {
    "execution": {
     "iopub.execute_input": "2021-02-17T01:39:06.783943Z",
     "iopub.status.busy": "2021-02-17T01:39:06.783341Z",
     "iopub.status.idle": "2021-02-17T01:39:08.102143Z",
     "shell.execute_reply": "2021-02-17T01:39:08.102641Z"
    },
    "papermill": {
     "duration": 1.339724,
     "end_time": "2021-02-17T01:39:08.102826",
     "exception": false,
     "start_time": "2021-02-17T01:39:06.763102",
     "status": "completed"
    },
    "tags": []
   },
   "outputs": [],
   "source": [
    "#hide_input\n",
    "import warnings\n",
    "warnings.filterwarnings('ignore')\n",
    "from scripts.read_data import read_api\n",
    "from scripts.read_data import read_news\n",
    "from scripts.read_data import read_covid\n",
    "import matplotlib.pyplot as plt \n",
    "from IPython.display import Markdown as md"
   ]
  },
  {
   "cell_type": "code",
   "execution_count": 2,
   "id": "shared-acceptance",
   "metadata": {
    "execution": {
     "iopub.execute_input": "2021-02-17T01:39:08.138149Z",
     "iopub.status.busy": "2021-02-17T01:39:08.137572Z",
     "iopub.status.idle": "2021-02-17T01:39:16.041597Z",
     "shell.execute_reply": "2021-02-17T01:39:16.041001Z"
    },
    "papermill": {
     "duration": 7.92522,
     "end_time": "2021-02-17T01:39:16.041796",
     "exception": false,
     "start_time": "2021-02-17T01:39:08.116576",
     "status": "completed"
    },
    "tags": []
   },
   "outputs": [],
   "source": [
    "#hide_input\n",
    "blockchain = read_news('blockchain') \n",
    "btc = read_news('btc') \n",
    "xrp = read_news('xrp') \n",
    "trx = read_news('trx') \n",
    "eth = read_news('eth')  \n",
    "ada = read_news('ada')\n",
    "exchange = read_news('exchange') "
   ]
  },
  {
   "cell_type": "code",
   "execution_count": 3,
   "id": "synthetic-notion",
   "metadata": {
    "execution": {
     "iopub.execute_input": "2021-02-17T01:39:16.071242Z",
     "iopub.status.busy": "2021-02-17T01:39:16.070578Z",
     "iopub.status.idle": "2021-02-17T01:39:16.074102Z",
     "shell.execute_reply": "2021-02-17T01:39:16.073544Z"
    },
    "papermill": {
     "duration": 0.021116,
     "end_time": "2021-02-17T01:39:16.074221",
     "exception": false,
     "start_time": "2021-02-17T01:39:16.053105",
     "status": "completed"
    },
    "tags": []
   },
   "outputs": [
    {
     "data": {
      "text/markdown": [
       "- Kakao to Record Private Securities on Its Own Blockchain as NFTs.  The move will aid South Korea's OTC securities market. ... [| Skaityti daugiau](https://www.coindesk.com/kakao-to-record-private-securities-on-its-own-blockchain-as-nfts) "
      ],
      "text/plain": [
       "<IPython.core.display.Markdown object>"
      ]
     },
     "execution_count": 3,
     "metadata": {},
     "output_type": "execute_result"
    }
   ],
   "source": [
    "#hide_input\n",
    "#md('##### {}'.format(titleBTC)) \n",
    "md(\"- {}{} {}{} [| Skaityti daugiau]({}) \".format(blockchain['title'],'. ', blockchain['body'], ' ...', blockchain['url']))"
   ]
  },
  {
   "cell_type": "code",
   "execution_count": 4,
   "id": "aging-caution",
   "metadata": {
    "execution": {
     "iopub.execute_input": "2021-02-17T01:39:16.101819Z",
     "iopub.status.busy": "2021-02-17T01:39:16.101158Z",
     "iopub.status.idle": "2021-02-17T01:39:16.104796Z",
     "shell.execute_reply": "2021-02-17T01:39:16.104083Z"
    },
    "papermill": {
     "duration": 0.019465,
     "end_time": "2021-02-17T01:39:16.104944",
     "exception": false,
     "start_time": "2021-02-17T01:39:16.085479",
     "status": "completed"
    },
    "tags": []
   },
   "outputs": [
    {
     "data": {
      "text/markdown": [
       "- Bitcoin Miners Generate $50M Per Day During Bull Trend.  Bitcoin price is trading at nearly $50,000 per coin and on-chain activity is soaring. The recent bull trend and surging interest surrounding the cryptocurrency has allowed miners to surpass over $50 million in revenue in a single day generated. Here&#8217;s how rising Bitcoin prices combined with spiking transaction fees have made mining BTC a particularly [&#8230;] ... [| Skaityti daugiau](https://www.newsbtc.com/news/bitcoin/bitcoin-miners-generate-50m-per-day-during-bull-trend/) "
      ],
      "text/plain": [
       "<IPython.core.display.Markdown object>"
      ]
     },
     "execution_count": 4,
     "metadata": {},
     "output_type": "execute_result"
    }
   ],
   "source": [
    "#hide_input\n",
    "#md('##### {}'.format(titleBTC)) \n",
    "md(\"- {}{} {}{} [| Skaityti daugiau]({}) \".format(btc['title'],'. ', btc['body'], ' ...', btc['url']))"
   ]
  },
  {
   "cell_type": "code",
   "execution_count": 5,
   "id": "organic-actress",
   "metadata": {
    "execution": {
     "iopub.execute_input": "2021-02-17T01:39:16.130825Z",
     "iopub.status.busy": "2021-02-17T01:39:16.130202Z",
     "iopub.status.idle": "2021-02-17T01:39:16.134999Z",
     "shell.execute_reply": "2021-02-17T01:39:16.135591Z"
    },
    "papermill": {
     "duration": 0.020201,
     "end_time": "2021-02-17T01:39:16.135723",
     "exception": false,
     "start_time": "2021-02-17T01:39:16.115522",
     "status": "completed"
    },
    "tags": []
   },
   "outputs": [
    {
     "data": {
      "text/markdown": [
       "- Ripple Experiences Massive Price Jump Following Tesla Bitcoin Buy.  Despite the huge and ugly lawsuit pending against Ripple, the company’s cryptocurrency XRP has recently incurred a massive gain following news that Tesla has purchased approximately $1.5 billion worth of bitcoin, the world’s leading digital asset by market cap. The news suggests that all smaller altcoins still move in tandem with BTC and have yet...The post Ripple Experiences Massive Price Jump Following Tesla Bitcoin Buy appeared first on Live Bitcoin News. ... [| Skaityti daugiau](https://www.livebitcoinnews.com/ripple-jumps-15-following-tesla-bitcoin-buy/) "
      ],
      "text/plain": [
       "<IPython.core.display.Markdown object>"
      ]
     },
     "execution_count": 5,
     "metadata": {},
     "output_type": "execute_result"
    }
   ],
   "source": [
    "#hide_input\n",
    "#md('##### {}'.format(titleBTC)) \n",
    "md(\"- {}{} {}{} [| Skaityti daugiau]({}) \".format(xrp['title'],'. ', xrp['body'], ' ...', xrp['url']))"
   ]
  },
  {
   "cell_type": "code",
   "execution_count": 6,
   "id": "prompt-farmer",
   "metadata": {
    "execution": {
     "iopub.execute_input": "2021-02-17T01:39:16.162606Z",
     "iopub.status.busy": "2021-02-17T01:39:16.162000Z",
     "iopub.status.idle": "2021-02-17T01:39:16.165477Z",
     "shell.execute_reply": "2021-02-17T01:39:16.164983Z"
    },
    "papermill": {
     "duration": 0.018567,
     "end_time": "2021-02-17T01:39:16.165591",
     "exception": false,
     "start_time": "2021-02-17T01:39:16.147024",
     "status": "completed"
    },
    "tags": []
   },
   "outputs": [
    {
     "data": {
      "text/markdown": [
       "- Youtuber claims representative wanted to pay him for promoting Tron.  Marques Brownlee, a popular Youtube influencer, told his 13.6 million subscribers that representatives allegedly offered him a deal to promote Tron. They required him to publish a tweet about TRX. Brownlee claimed that Tron&#8217;s representatives sent an email that stated how other celebrities had endorsed Tron in the past for their Twitter campaign. In a [&#8230;] ... [| Skaityti daugiau](https://ambcrypto.com/youtuber-claims-representative-wanted-to-pay-him-for-promoting-tron/) "
      ],
      "text/plain": [
       "<IPython.core.display.Markdown object>"
      ]
     },
     "execution_count": 6,
     "metadata": {},
     "output_type": "execute_result"
    }
   ],
   "source": [
    "#hide_input\n",
    "#md('##### {}'.format(titleBTC)) \n",
    "md(\"- {}{} {}{} [| Skaityti daugiau]({}) \".format(trx['title'],'. ', trx['body'], ' ...', trx['url']))"
   ]
  },
  {
   "cell_type": "code",
   "execution_count": 7,
   "id": "illegal-greece",
   "metadata": {
    "execution": {
     "iopub.execute_input": "2021-02-17T01:39:16.196005Z",
     "iopub.status.busy": "2021-02-17T01:39:16.195300Z",
     "iopub.status.idle": "2021-02-17T01:39:16.198098Z",
     "shell.execute_reply": "2021-02-17T01:39:16.198680Z"
    },
    "papermill": {
     "duration": 0.021379,
     "end_time": "2021-02-17T01:39:16.198833",
     "exception": false,
     "start_time": "2021-02-17T01:39:16.177454",
     "status": "completed"
    },
    "tags": []
   },
   "outputs": [
    {
     "data": {
      "text/markdown": [
       "- Institutional Interest in Ethereum at Unprecedented Levels, Says a Leading Crypto Investment Firm.  The chief strategy officer at investment firm CoinShares, Meltem Demirors, has revealed institutional investor interest in the second-largest cryptocurrency Ethereum (ETH) is at levels that have never been seen before. In an interview with Fox Business, Demirors revealed that CoinShares, which tracks the total institutional inflows into a number of cryptoassets through cryptocurrency companies and […] ... [| Skaityti daugiau](https://www.cryptoglobe.com/latest/2021/02/institutional-interest-in-ethereum-is-at-unprecedented-levels-says-a-leading-crypto-investment-firm/) "
      ],
      "text/plain": [
       "<IPython.core.display.Markdown object>"
      ]
     },
     "execution_count": 7,
     "metadata": {},
     "output_type": "execute_result"
    }
   ],
   "source": [
    "#hide_input\n",
    "#md('##### {}'.format(titleBTC)) \n",
    "md(\"- {}{} {}{} [| Skaityti daugiau]({}) \".format(eth['title'],'. ', eth['body'], ' ...', eth['url']))"
   ]
  },
  {
   "cell_type": "code",
   "execution_count": 8,
   "id": "sublime-lounge",
   "metadata": {
    "execution": {
     "iopub.execute_input": "2021-02-17T01:39:16.231647Z",
     "iopub.status.busy": "2021-02-17T01:39:16.230882Z",
     "iopub.status.idle": "2021-02-17T01:39:16.234532Z",
     "shell.execute_reply": "2021-02-17T01:39:16.233827Z"
    },
    "papermill": {
     "duration": 0.021959,
     "end_time": "2021-02-17T01:39:16.234699",
     "exception": false,
     "start_time": "2021-02-17T01:39:16.212740",
     "status": "completed"
    },
    "tags": []
   },
   "outputs": [
    {
     "data": {
      "text/markdown": [
       "- Ethereum’s first-mover advantage ‘means nothing:’ Cardano’s Hoskinson.  According to Cardano Founder Charles Hoskinson, Ethereum’s first-mover advantage will not be a threat to Cardano’s dominance as a blockchain. In a recent video on YouTube, the IOHK CEO revealed that he isn’t fazed by Ethereum’s network effects, claiming that in 2020, only 31% of all new dApps deployed were on Ethereum. &#8220;It&#8217;s not a [&#8230;] ... [| Skaityti daugiau](https://ambcrypto.com/ethereums-first-mover-advantage-means-nothing-cardanos-hoskinson/) "
      ],
      "text/plain": [
       "<IPython.core.display.Markdown object>"
      ]
     },
     "execution_count": 8,
     "metadata": {},
     "output_type": "execute_result"
    }
   ],
   "source": [
    "#hide_input\n",
    "#md('##### {}'.format(titleBTC)) \n",
    "md(\"- {}{} {}{} [| Skaityti daugiau]({}) \".format(ada['title'],'. ', ada['body'], ' ...', ada['url']))"
   ]
  },
  {
   "cell_type": "code",
   "execution_count": 9,
   "id": "specified-ordering",
   "metadata": {
    "execution": {
     "iopub.execute_input": "2021-02-17T01:39:16.279112Z",
     "iopub.status.busy": "2021-02-17T01:39:16.278404Z",
     "iopub.status.idle": "2021-02-17T01:39:16.280986Z",
     "shell.execute_reply": "2021-02-17T01:39:16.281617Z"
    },
    "papermill": {
     "duration": 0.028656,
     "end_time": "2021-02-17T01:39:16.281781",
     "exception": false,
     "start_time": "2021-02-17T01:39:16.253125",
     "status": "completed"
    },
    "tags": []
   },
   "outputs": [
    {
     "data": {
      "text/markdown": [
       "- Coinbase Launches Ethereum 2.0 Staking Waitlist.  Coinbase has announced that the waitlist to earn staking rewards with Ethereum 2.0 is now live. The exchange will allow its users to stake any amount of Ethereum and earn a yield of up to 7.5% in annual percentage return (APR). Coinbase, which is America’s largest crypto exchange, first announced it would support ETH2 staking [&#8230;] ... [| Skaityti daugiau](https://zycrypto.com/coinbase-launches-ethereum-2-0-staking-waitlist/) "
      ],
      "text/plain": [
       "<IPython.core.display.Markdown object>"
      ]
     },
     "execution_count": 9,
     "metadata": {},
     "output_type": "execute_result"
    }
   ],
   "source": [
    "#hide_input\n",
    "#md('##### {}'.format(titleBTC)) \n",
    "md(\"- {}{} {}{} [| Skaityti daugiau]({}) \".format(exchange['title'],'. ', exchange['body'], ' ...', exchange['url']))"
   ]
  },
  {
   "cell_type": "code",
   "execution_count": null,
   "id": "tender-livestock",
   "metadata": {
    "papermill": {
     "duration": 0.014593,
     "end_time": "2021-02-17T01:39:16.311144",
     "exception": false,
     "start_time": "2021-02-17T01:39:16.296551",
     "status": "completed"
    },
    "tags": []
   },
   "outputs": [],
   "source": []
  },
  {
   "cell_type": "code",
   "execution_count": null,
   "id": "appreciated-diamond",
   "metadata": {
    "papermill": {
     "duration": 0.014158,
     "end_time": "2021-02-17T01:39:16.339330",
     "exception": false,
     "start_time": "2021-02-17T01:39:16.325172",
     "status": "completed"
    },
    "tags": []
   },
   "outputs": [],
   "source": []
  },
  {
   "cell_type": "code",
   "execution_count": null,
   "id": "romance-sweden",
   "metadata": {
    "papermill": {
     "duration": 0.014047,
     "end_time": "2021-02-17T01:39:16.367722",
     "exception": false,
     "start_time": "2021-02-17T01:39:16.353675",
     "status": "completed"
    },
    "tags": []
   },
   "outputs": [],
   "source": []
  },
  {
   "cell_type": "code",
   "execution_count": null,
   "id": "dietary-statistics",
   "metadata": {
    "papermill": {
     "duration": 0.013036,
     "end_time": "2021-02-17T01:39:16.394396",
     "exception": false,
     "start_time": "2021-02-17T01:39:16.381360",
     "status": "completed"
    },
    "tags": []
   },
   "outputs": [],
   "source": []
  }
 ],
 "metadata": {
  "kernelspec": {
   "display_name": "Python 3",
   "language": "python",
   "name": "python3"
  },
  "language_info": {
   "codemirror_mode": {
    "name": "ipython",
    "version": 3
   },
   "file_extension": ".py",
   "mimetype": "text/x-python",
   "name": "python",
   "nbconvert_exporter": "python",
   "pygments_lexer": "ipython3",
   "version": "3.6.12"
  },
  "papermill": {
   "default_parameters": {},
   "duration": 11.143065,
   "end_time": "2021-02-17T01:39:16.814932",
   "environment_variables": {},
   "exception": null,
   "input_path": "Market-News.ipynb",
   "output_path": "Market-News.ipynb",
   "parameters": {},
   "start_time": "2021-02-17T01:39:05.671867",
   "version": "2.2.2"
  }
 },
 "nbformat": 4,
 "nbformat_minor": 5
}