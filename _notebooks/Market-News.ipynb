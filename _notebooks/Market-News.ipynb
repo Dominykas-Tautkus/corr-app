{
 "cells": [
  {
   "cell_type": "markdown",
   "id": "short-greensboro",
   "metadata": {
    "papermill": {
     "duration": 0.017212,
     "end_time": "2021-06-24T01:48:43.188348",
     "exception": false,
     "start_time": "2021-06-24T01:48:43.171136",
     "status": "completed"
    },
    "tags": []
   },
   "source": [
    "# Kriptovaliutų naujienos"
   ]
  },
  {
   "cell_type": "code",
   "execution_count": 1,
   "id": "functioning-knowing",
   "metadata": {
    "execution": {
     "iopub.execute_input": "2021-06-24T01:48:43.224491Z",
     "iopub.status.busy": "2021-06-24T01:48:43.223865Z",
     "iopub.status.idle": "2021-06-24T01:48:44.555790Z",
     "shell.execute_reply": "2021-06-24T01:48:44.555255Z"
    },
    "papermill": {
     "duration": 1.356637,
     "end_time": "2021-06-24T01:48:44.555946",
     "exception": false,
     "start_time": "2021-06-24T01:48:43.199309",
     "status": "completed"
    },
    "tags": []
   },
   "outputs": [],
   "source": [
    "#hide_input\n",
    "import warnings\n",
    "warnings.filterwarnings('ignore')\n",
    "from scripts.read_data import read_api\n",
    "from scripts.read_data import read_news\n",
    "from scripts.read_data import read_covid\n",
    "import matplotlib.pyplot as plt \n",
    "from IPython.display import Markdown as md"
   ]
  },
  {
   "cell_type": "code",
   "execution_count": 2,
   "id": "shared-acceptance",
   "metadata": {
    "execution": {
     "iopub.execute_input": "2021-06-24T01:48:44.585750Z",
     "iopub.status.busy": "2021-06-24T01:48:44.584748Z",
     "iopub.status.idle": "2021-06-24T01:48:52.893954Z",
     "shell.execute_reply": "2021-06-24T01:48:52.892557Z"
    },
    "papermill": {
     "duration": 8.327105,
     "end_time": "2021-06-24T01:48:52.894110",
     "exception": false,
     "start_time": "2021-06-24T01:48:44.567005",
     "status": "completed"
    },
    "tags": []
   },
   "outputs": [],
   "source": [
    "#hide_input\n",
    "blockchain = read_news('blockchain') \n",
    "btc = read_news('btc') \n",
    "xrp = read_news('xrp') \n",
    "trx = read_news('trx') \n",
    "eth = read_news('eth')  \n",
    "ada = read_news('ada')\n",
    "exchange = read_news('exchange') "
   ]
  },
  {
   "cell_type": "code",
   "execution_count": 3,
   "id": "synthetic-notion",
   "metadata": {
    "execution": {
     "iopub.execute_input": "2021-06-24T01:48:52.925235Z",
     "iopub.status.busy": "2021-06-24T01:48:52.924636Z",
     "iopub.status.idle": "2021-06-24T01:48:52.930468Z",
     "shell.execute_reply": "2021-06-24T01:48:52.929657Z"
    },
    "papermill": {
     "duration": 0.025202,
     "end_time": "2021-06-24T01:48:52.930670",
     "exception": false,
     "start_time": "2021-06-24T01:48:52.905468",
     "status": "completed"
    },
    "tags": []
   },
   "outputs": [
    {
     "data": {
      "text/markdown": [
       "- I’m Putting My Billion In Bitcoin, Billionaire Ricardo Salinas.  Billionaire Ricardo Salinas talked with the director of Blockchain Land about his investment in Bitcoin. Salinas has said that he has 10 percent of his assets in bitcoin. Salinas is a staunch believer in bitcoin. One of the high-profile advocates of the coin with the bitcoin hashtag on his Twitter profile. He has always been [&#8230;] ... [| Skaityti daugiau](https://bitcoinist.com/im-putting-my-billion-in-bitcoin-billionaire-ricardo-salinas/?utm_source=rss&utm_medium=rss&utm_campaign=im-putting-my-billion-in-bitcoin-billionaire-ricardo-salinas) "
      ],
      "text/plain": [
       "<IPython.core.display.Markdown object>"
      ]
     },
     "execution_count": 3,
     "metadata": {},
     "output_type": "execute_result"
    }
   ],
   "source": [
    "#hide_input\n",
    "#md('##### {}'.format(titleBTC)) \n",
    "md(\"- {}{} {}{} [| Skaityti daugiau]({}) \".format(blockchain['title'],'. ', blockchain['body'], ' ...', blockchain['url']))"
   ]
  },
  {
   "cell_type": "code",
   "execution_count": 4,
   "id": "aging-caution",
   "metadata": {
    "execution": {
     "iopub.execute_input": "2021-06-24T01:48:52.960722Z",
     "iopub.status.busy": "2021-06-24T01:48:52.960134Z",
     "iopub.status.idle": "2021-06-24T01:48:52.963150Z",
     "shell.execute_reply": "2021-06-24T01:48:52.962663Z"
    },
    "papermill": {
     "duration": 0.018912,
     "end_time": "2021-06-24T01:48:52.963265",
     "exception": false,
     "start_time": "2021-06-24T01:48:52.944353",
     "status": "completed"
    },
    "tags": []
   },
   "outputs": [
    {
     "data": {
      "text/markdown": [
       "- $3.6B in Bitcoin vanishes in 'hack' along with owners of South African crypto platform.  Billions worth of Bitcoin has reportedly vanished along with the operators of South African crypto firm AfriCrypt. Is it a scam or a hack? ... [| Skaityti daugiau](https://cointelegraph.com/news/3-6b-in-bitcoin-vanishes-along-with-owners-of-south-african-crypto-platform) "
      ],
      "text/plain": [
       "<IPython.core.display.Markdown object>"
      ]
     },
     "execution_count": 4,
     "metadata": {},
     "output_type": "execute_result"
    }
   ],
   "source": [
    "#hide_input\n",
    "#md('##### {}'.format(titleBTC)) \n",
    "md(\"- {}{} {}{} [| Skaityti daugiau]({}) \".format(btc['title'],'. ', btc['body'], ' ...', btc['url']))"
   ]
  },
  {
   "cell_type": "code",
   "execution_count": 5,
   "id": "organic-actress",
   "metadata": {
    "execution": {
     "iopub.execute_input": "2021-06-24T01:48:52.995431Z",
     "iopub.status.busy": "2021-06-24T01:48:52.994638Z",
     "iopub.status.idle": "2021-06-24T01:48:52.997312Z",
     "shell.execute_reply": "2021-06-24T01:48:52.997815Z"
    },
    "papermill": {
     "duration": 0.022851,
     "end_time": "2021-06-24T01:48:52.997950",
     "exception": false,
     "start_time": "2021-06-24T01:48:52.975099",
     "status": "completed"
    },
    "tags": []
   },
   "outputs": [
    {
     "data": {
      "text/markdown": [
       "- Are Bitcoin whales re-strategizing their investments?.  As Bitcoin&#8217;s price oscillated around the $33,000 level, some market participants are seeking out Ether and other alts to trade during this period of consolidation. A long-time BTC whale and crypto trader, who goes by the name Flood, recently tweeted that he is reorganizing his digital asset portfolio. Flood said that he is moving some [&#8230;] ... [| Skaityti daugiau](https://ambcrypto.com/are-bitcoin-whales-re-strategizing-their-investments/) "
      ],
      "text/plain": [
       "<IPython.core.display.Markdown object>"
      ]
     },
     "execution_count": 5,
     "metadata": {},
     "output_type": "execute_result"
    }
   ],
   "source": [
    "#hide_input\n",
    "#md('##### {}'.format(titleBTC)) \n",
    "md(\"- {}{} {}{} [| Skaityti daugiau]({}) \".format(xrp['title'],'. ', xrp['body'], ' ...', xrp['url']))"
   ]
  },
  {
   "cell_type": "code",
   "execution_count": 6,
   "id": "prompt-farmer",
   "metadata": {
    "execution": {
     "iopub.execute_input": "2021-06-24T01:48:53.028802Z",
     "iopub.status.busy": "2021-06-24T01:48:53.028044Z",
     "iopub.status.idle": "2021-06-24T01:48:53.030359Z",
     "shell.execute_reply": "2021-06-24T01:48:53.030874Z"
    },
    "papermill": {
     "duration": 0.020629,
     "end_time": "2021-06-24T01:48:53.030999",
     "exception": false,
     "start_time": "2021-06-24T01:48:53.010370",
     "status": "completed"
    },
    "tags": []
   },
   "outputs": [
    {
     "data": {
      "text/markdown": [
       "- Tron (TRX) Price Analysis: Bulls Could Face Resistance Near $0.06.  Tron price traded below the $0.0500 zone before it started a decent recovery against the US Dollar. TRX price is now trading well below $0.0600 and the 55 simple moving average (4-hours). There is a connecting bearish trend line forming with resistance near $0.0580 on the 4-hours chart (data feed via Bitfinex). The pair could...The post Tron (TRX) Price Analysis: Bulls Could Face Resistance Near $0.06 appeared first on Live Bitcoin News. ... [| Skaityti daugiau](https://www.livebitcoinnews.com/tron-trx-price-analysis-bulls-could-face-resistance-near-0-06/) "
      ],
      "text/plain": [
       "<IPython.core.display.Markdown object>"
      ]
     },
     "execution_count": 6,
     "metadata": {},
     "output_type": "execute_result"
    }
   ],
   "source": [
    "#hide_input\n",
    "#md('##### {}'.format(titleBTC)) \n",
    "md(\"- {}{} {}{} [| Skaityti daugiau]({}) \".format(trx['title'],'. ', trx['body'], ' ...', trx['url']))"
   ]
  },
  {
   "cell_type": "code",
   "execution_count": 7,
   "id": "illegal-greece",
   "metadata": {
    "execution": {
     "iopub.execute_input": "2021-06-24T01:48:53.062542Z",
     "iopub.status.busy": "2021-06-24T01:48:53.061922Z",
     "iopub.status.idle": "2021-06-24T01:48:53.065934Z",
     "shell.execute_reply": "2021-06-24T01:48:53.065452Z"
    },
    "papermill": {
     "duration": 0.023577,
     "end_time": "2021-06-24T01:48:53.066063",
     "exception": false,
     "start_time": "2021-06-24T01:48:53.042486",
     "status": "completed"
    },
    "tags": []
   },
   "outputs": [
    {
     "data": {
      "text/markdown": [
       "- Polygon proposes implementing EIP-1559 on its network; so what changes?.  Polygon (MATIC) a coin that saw an almost 6962% growth since the beginning of 2021, still continues to be one of the top 20 coins. It is making new implementations that can drastically improve the network. The development team behind Polygon (MATIC) recently laid out a proposal for the implementation of EIP-1559 on its network, [&#8230;] ... [| Skaityti daugiau](https://ambcrypto.com/polygon-proposes-implementing-eip-1559-on-its-network-so-what-changes/) "
      ],
      "text/plain": [
       "<IPython.core.display.Markdown object>"
      ]
     },
     "execution_count": 7,
     "metadata": {},
     "output_type": "execute_result"
    }
   ],
   "source": [
    "#hide_input\n",
    "#md('##### {}'.format(titleBTC)) \n",
    "md(\"- {}{} {}{} [| Skaityti daugiau]({}) \".format(eth['title'],'. ', eth['body'], ' ...', eth['url']))"
   ]
  },
  {
   "cell_type": "code",
   "execution_count": 8,
   "id": "sublime-lounge",
   "metadata": {
    "execution": {
     "iopub.execute_input": "2021-06-24T01:48:53.096841Z",
     "iopub.status.busy": "2021-06-24T01:48:53.096245Z",
     "iopub.status.idle": "2021-06-24T01:48:53.101895Z",
     "shell.execute_reply": "2021-06-24T01:48:53.101421Z"
    },
    "papermill": {
     "duration": 0.023793,
     "end_time": "2021-06-24T01:48:53.102021",
     "exception": false,
     "start_time": "2021-06-24T01:48:53.078228",
     "status": "completed"
    },
    "tags": []
   },
   "outputs": [
    {
     "data": {
      "text/markdown": [
       "- Are Bitcoin whales re-strategizing their investments?.  As Bitcoin&#8217;s price oscillated around the $33,000 level, some market participants are seeking out Ether and other alts to trade during this period of consolidation. A long-time BTC whale and crypto trader, who goes by the name Flood, recently tweeted that he is reorganizing his digital asset portfolio. Flood said that he is moving some [&#8230;] ... [| Skaityti daugiau](https://ambcrypto.com/are-bitcoin-whales-re-strategizing-their-investments/) "
      ],
      "text/plain": [
       "<IPython.core.display.Markdown object>"
      ]
     },
     "execution_count": 8,
     "metadata": {},
     "output_type": "execute_result"
    }
   ],
   "source": [
    "#hide_input\n",
    "#md('##### {}'.format(titleBTC)) \n",
    "md(\"- {}{} {}{} [| Skaityti daugiau]({}) \".format(ada['title'],'. ', ada['body'], ' ...', ada['url']))"
   ]
  },
  {
   "cell_type": "code",
   "execution_count": 9,
   "id": "specified-ordering",
   "metadata": {
    "execution": {
     "iopub.execute_input": "2021-06-24T01:48:53.132575Z",
     "iopub.status.busy": "2021-06-24T01:48:53.131407Z",
     "iopub.status.idle": "2021-06-24T01:48:53.135769Z",
     "shell.execute_reply": "2021-06-24T01:48:53.135226Z"
    },
    "papermill": {
     "duration": 0.021242,
     "end_time": "2021-06-24T01:48:53.135892",
     "exception": false,
     "start_time": "2021-06-24T01:48:53.114650",
     "status": "completed"
    },
    "tags": []
   },
   "outputs": [
    {
     "data": {
      "text/markdown": [
       "- Here’s what Binance Coin will face on its path to recovery.  The depreciating value of Bitcoin pushed altcoins down too. Binance Coin [BNB] tried to maintain its consolidation at $330; however, a strong sell-off pushed the price under support. As BNB lost support, it dropped by another 32% and hit $223. BNB found support at this point and the price took a U-turn. It has recovered [&#8230;] ... [| Skaityti daugiau](https://ambcrypto.com/heres-what-binance-coin-will-face-on-its-path-to-recovery/) "
      ],
      "text/plain": [
       "<IPython.core.display.Markdown object>"
      ]
     },
     "execution_count": 9,
     "metadata": {},
     "output_type": "execute_result"
    }
   ],
   "source": [
    "#hide_input\n",
    "#md('##### {}'.format(titleBTC)) \n",
    "md(\"- {}{} {}{} [| Skaityti daugiau]({}) \".format(exchange['title'],'. ', exchange['body'], ' ...', exchange['url']))"
   ]
  },
  {
   "cell_type": "code",
   "execution_count": null,
   "id": "tender-livestock",
   "metadata": {
    "papermill": {
     "duration": 0.012671,
     "end_time": "2021-06-24T01:48:53.161383",
     "exception": false,
     "start_time": "2021-06-24T01:48:53.148712",
     "status": "completed"
    },
    "tags": []
   },
   "outputs": [],
   "source": []
  },
  {
   "cell_type": "code",
   "execution_count": null,
   "id": "appreciated-diamond",
   "metadata": {
    "papermill": {
     "duration": 0.012638,
     "end_time": "2021-06-24T01:48:53.186598",
     "exception": false,
     "start_time": "2021-06-24T01:48:53.173960",
     "status": "completed"
    },
    "tags": []
   },
   "outputs": [],
   "source": []
  },
  {
   "cell_type": "code",
   "execution_count": null,
   "id": "romance-sweden",
   "metadata": {
    "papermill": {
     "duration": 0.012676,
     "end_time": "2021-06-24T01:48:53.211944",
     "exception": false,
     "start_time": "2021-06-24T01:48:53.199268",
     "status": "completed"
    },
    "tags": []
   },
   "outputs": [],
   "source": []
  },
  {
   "cell_type": "code",
   "execution_count": null,
   "id": "dietary-statistics",
   "metadata": {
    "papermill": {
     "duration": 0.012784,
     "end_time": "2021-06-24T01:48:53.237597",
     "exception": false,
     "start_time": "2021-06-24T01:48:53.224813",
     "status": "completed"
    },
    "tags": []
   },
   "outputs": [],
   "source": []
  }
 ],
 "metadata": {
  "kernelspec": {
   "display_name": "Python 3",
   "language": "python",
   "name": "python3"
  },
  "language_info": {
   "codemirror_mode": {
    "name": "ipython",
    "version": 3
   },
   "file_extension": ".py",
   "mimetype": "text/x-python",
   "name": "python",
   "nbconvert_exporter": "python",
   "pygments_lexer": "ipython3",
   "version": "3.6.13"
  },
  "papermill": {
   "default_parameters": {},
   "duration": 11.676061,
   "end_time": "2021-06-24T01:48:53.759720",
   "environment_variables": {},
   "exception": null,
   "input_path": "Market-News.ipynb",
   "output_path": "Market-News.ipynb",
   "parameters": {},
   "start_time": "2021-06-24T01:48:42.083659",
   "version": "2.2.2"
  }
 },
 "nbformat": 4,
 "nbformat_minor": 5
}