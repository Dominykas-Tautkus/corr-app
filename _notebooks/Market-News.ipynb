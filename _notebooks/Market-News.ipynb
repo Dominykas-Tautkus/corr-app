{
 "cells": [
  {
   "cell_type": "markdown",
   "id": "short-greensboro",
   "metadata": {
    "papermill": {
     "duration": 0.016269,
     "end_time": "2021-06-04T03:19:45.099254",
     "exception": false,
     "start_time": "2021-06-04T03:19:45.082985",
     "status": "completed"
    },
    "tags": []
   },
   "source": [
    "# Kriptovaliutų naujienos"
   ]
  },
  {
   "cell_type": "code",
   "execution_count": 1,
   "id": "functioning-knowing",
   "metadata": {
    "execution": {
     "iopub.execute_input": "2021-06-04T03:19:45.132175Z",
     "iopub.status.busy": "2021-06-04T03:19:45.131526Z",
     "iopub.status.idle": "2021-06-04T03:19:46.435476Z",
     "shell.execute_reply": "2021-06-04T03:19:46.434535Z"
    },
    "papermill": {
     "duration": 1.325254,
     "end_time": "2021-06-04T03:19:46.435716",
     "exception": false,
     "start_time": "2021-06-04T03:19:45.110462",
     "status": "completed"
    },
    "tags": []
   },
   "outputs": [],
   "source": [
    "#hide_input\n",
    "import warnings\n",
    "warnings.filterwarnings('ignore')\n",
    "from scripts.read_data import read_api\n",
    "from scripts.read_data import read_news\n",
    "from scripts.read_data import read_covid\n",
    "import matplotlib.pyplot as plt \n",
    "from IPython.display import Markdown as md"
   ]
  },
  {
   "cell_type": "code",
   "execution_count": 2,
   "id": "shared-acceptance",
   "metadata": {
    "execution": {
     "iopub.execute_input": "2021-06-04T03:19:46.466933Z",
     "iopub.status.busy": "2021-06-04T03:19:46.465852Z",
     "iopub.status.idle": "2021-06-04T03:19:57.926791Z",
     "shell.execute_reply": "2021-06-04T03:19:57.926273Z"
    },
    "papermill": {
     "duration": 11.477975,
     "end_time": "2021-06-04T03:19:57.926923",
     "exception": false,
     "start_time": "2021-06-04T03:19:46.448948",
     "status": "completed"
    },
    "tags": []
   },
   "outputs": [],
   "source": [
    "#hide_input\n",
    "blockchain = read_news('blockchain') \n",
    "btc = read_news('btc') \n",
    "xrp = read_news('xrp') \n",
    "trx = read_news('trx') \n",
    "eth = read_news('eth')  \n",
    "ada = read_news('ada')\n",
    "exchange = read_news('exchange') "
   ]
  },
  {
   "cell_type": "code",
   "execution_count": 3,
   "id": "synthetic-notion",
   "metadata": {
    "execution": {
     "iopub.execute_input": "2021-06-04T03:19:57.954994Z",
     "iopub.status.busy": "2021-06-04T03:19:57.954397Z",
     "iopub.status.idle": "2021-06-04T03:19:57.960552Z",
     "shell.execute_reply": "2021-06-04T03:19:57.960053Z"
    },
    "papermill": {
     "duration": 0.023436,
     "end_time": "2021-06-04T03:19:57.960678",
     "exception": false,
     "start_time": "2021-06-04T03:19:57.937242",
     "status": "completed"
    },
    "tags": []
   },
   "outputs": [
    {
     "data": {
      "text/markdown": [
       "- The New Republic Thinks Banning Crypto Will Stop Ransomware Attacks. It Won’t..  Look, we have to nip this narrative in the bud. The New Republic recently published a hit piece on cryptocurrencies. It relates them to Ransomware Attacks, references the DarkSide saga, and claims, “ It’s never been easier to hack a company, get paid for it, and escape scot-free.” Is it, though? What they conveniently left [&#8230;] ... [| Skaityti daugiau](https://bitcoinist.com/the-new-republic-thinks-banning-crypto-will-stop-ransomware-attacks-it-wont/?utm_source=rss&utm_medium=rss&utm_campaign=the-new-republic-thinks-banning-crypto-will-stop-ransomware-attacks-it-wont) "
      ],
      "text/plain": [
       "<IPython.core.display.Markdown object>"
      ]
     },
     "execution_count": 3,
     "metadata": {},
     "output_type": "execute_result"
    }
   ],
   "source": [
    "#hide_input\n",
    "#md('##### {}'.format(titleBTC)) \n",
    "md(\"- {}{} {}{} [| Skaityti daugiau]({}) \".format(blockchain['title'],'. ', blockchain['body'], ' ...', blockchain['url']))"
   ]
  },
  {
   "cell_type": "code",
   "execution_count": 4,
   "id": "aging-caution",
   "metadata": {
    "execution": {
     "iopub.execute_input": "2021-06-04T03:19:57.987758Z",
     "iopub.status.busy": "2021-06-04T03:19:57.987130Z",
     "iopub.status.idle": "2021-06-04T03:19:57.990246Z",
     "shell.execute_reply": "2021-06-04T03:19:57.989746Z"
    },
    "papermill": {
     "duration": 0.018964,
     "end_time": "2021-06-04T03:19:57.990356",
     "exception": false,
     "start_time": "2021-06-04T03:19:57.971392",
     "status": "completed"
    },
    "tags": []
   },
   "outputs": [
    {
     "data": {
      "text/markdown": [
       "- TA: Bitcoin Faces Another Rejection, Here’s What Could Trigger Nasty Decline.  Bitcoin price climbed above the $38,000 resistance against the US Dollar, but it failed near $39,500. BTC is correcting lower and it might dive if it breaks the $37,000 support. Bitcoin failed to gain momentum for a break above $39,500 and $40,000. The price is currently trading above $37,000 and the 100 hourly simple moving [&#8230;] ... [| Skaityti daugiau](https://www.newsbtc.com/analysis/btc/bitcoin-faces-another-rejection-40k/) "
      ],
      "text/plain": [
       "<IPython.core.display.Markdown object>"
      ]
     },
     "execution_count": 4,
     "metadata": {},
     "output_type": "execute_result"
    }
   ],
   "source": [
    "#hide_input\n",
    "#md('##### {}'.format(titleBTC)) \n",
    "md(\"- {}{} {}{} [| Skaityti daugiau]({}) \".format(btc['title'],'. ', btc['body'], ' ...', btc['url']))"
   ]
  },
  {
   "cell_type": "code",
   "execution_count": 5,
   "id": "organic-actress",
   "metadata": {
    "execution": {
     "iopub.execute_input": "2021-06-04T03:19:58.018475Z",
     "iopub.status.busy": "2021-06-04T03:19:58.017889Z",
     "iopub.status.idle": "2021-06-04T03:19:58.021306Z",
     "shell.execute_reply": "2021-06-04T03:19:58.021805Z"
    },
    "papermill": {
     "duration": 0.020533,
     "end_time": "2021-06-04T03:19:58.021941",
     "exception": false,
     "start_time": "2021-06-04T03:19:58.001408",
     "status": "completed"
    },
    "tags": []
   },
   "outputs": [
    {
     "data": {
      "text/markdown": [
       "- Ripple transfers another $420 million in XRP for co-founder Jed McCaleb to dump.  Blockchain payments company Ripple today sent its co-founder and former chief technology officer Jed McCaleb another payment of over 408 million XRP tokens, worth around $420 million at current prices. The post Ripple transfers another $420 million in XRP for co-founder Jed McCaleb to dump appeared first on CryptoSlate. ... [| Skaityti daugiau](https://cryptoslate.com/ripple-transfers-another-420-million-in-xrp-for-co-founder-jed-mccaleb-to-dump/) "
      ],
      "text/plain": [
       "<IPython.core.display.Markdown object>"
      ]
     },
     "execution_count": 5,
     "metadata": {},
     "output_type": "execute_result"
    }
   ],
   "source": [
    "#hide_input\n",
    "#md('##### {}'.format(titleBTC)) \n",
    "md(\"- {}{} {}{} [| Skaityti daugiau]({}) \".format(xrp['title'],'. ', xrp['body'], ' ...', xrp['url']))"
   ]
  },
  {
   "cell_type": "code",
   "execution_count": 6,
   "id": "prompt-farmer",
   "metadata": {
    "execution": {
     "iopub.execute_input": "2021-06-04T03:19:58.050965Z",
     "iopub.status.busy": "2021-06-04T03:19:58.050385Z",
     "iopub.status.idle": "2021-06-04T03:19:58.054295Z",
     "shell.execute_reply": "2021-06-04T03:19:58.053800Z"
    },
    "papermill": {
     "duration": 0.021072,
     "end_time": "2021-06-04T03:19:58.054415",
     "exception": false,
     "start_time": "2021-06-04T03:19:58.033343",
     "status": "completed"
    },
    "tags": []
   },
   "outputs": [
    {
     "data": {
      "text/markdown": [
       "- Crypto Bull Market Isn’t Over, Says TRON Founder Justin Sun.  TRON (TRX) founder Justin Sun has revealed he believes the cryptocurrency bull market isn’t over and that a new rally is due in the next few months, although in June the market may keep dropping before a potential rally. In an interview with Bloomberg, first spotted by Daily Hodl, Sun revealed he believes we’re going […] ... [| Skaityti daugiau](https://www.cryptoglobe.com/latest/2021/06/crypto-bull-market-isnt-over-says-tron-founder-justin-sun/) "
      ],
      "text/plain": [
       "<IPython.core.display.Markdown object>"
      ]
     },
     "execution_count": 6,
     "metadata": {},
     "output_type": "execute_result"
    }
   ],
   "source": [
    "#hide_input\n",
    "#md('##### {}'.format(titleBTC)) \n",
    "md(\"- {}{} {}{} [| Skaityti daugiau]({}) \".format(trx['title'],'. ', trx['body'], ' ...', trx['url']))"
   ]
  },
  {
   "cell_type": "code",
   "execution_count": 7,
   "id": "illegal-greece",
   "metadata": {
    "execution": {
     "iopub.execute_input": "2021-06-04T03:19:58.084589Z",
     "iopub.status.busy": "2021-06-04T03:19:58.083989Z",
     "iopub.status.idle": "2021-06-04T03:19:58.087796Z",
     "shell.execute_reply": "2021-06-04T03:19:58.087269Z"
    },
    "papermill": {
     "duration": 0.021242,
     "end_time": "2021-06-04T03:19:58.087926",
     "exception": false,
     "start_time": "2021-06-04T03:19:58.066684",
     "status": "completed"
    },
    "tags": []
   },
   "outputs": [
    {
     "data": {
      "text/markdown": [
       "- Digital bank Anchorage offers Ethereum-backed loans to institutions.   Institutional investors can get USD on credit without liquidating their ETH. ... [| Skaityti daugiau](https://cointelegraph.com/news/digital-bank-anchorage-offers-ethereum-backed-loans-to-institutions) "
      ],
      "text/plain": [
       "<IPython.core.display.Markdown object>"
      ]
     },
     "execution_count": 7,
     "metadata": {},
     "output_type": "execute_result"
    }
   ],
   "source": [
    "#hide_input\n",
    "#md('##### {}'.format(titleBTC)) \n",
    "md(\"- {}{} {}{} [| Skaityti daugiau]({}) \".format(eth['title'],'. ', eth['body'], ' ...', eth['url']))"
   ]
  },
  {
   "cell_type": "code",
   "execution_count": 8,
   "id": "sublime-lounge",
   "metadata": {
    "execution": {
     "iopub.execute_input": "2021-06-04T03:19:58.117637Z",
     "iopub.status.busy": "2021-06-04T03:19:58.117031Z",
     "iopub.status.idle": "2021-06-04T03:19:58.120936Z",
     "shell.execute_reply": "2021-06-04T03:19:58.120396Z"
    },
    "papermill": {
     "duration": 0.020891,
     "end_time": "2021-06-04T03:19:58.121072",
     "exception": false,
     "start_time": "2021-06-04T03:19:58.100181",
     "status": "completed"
    },
    "tags": []
   },
   "outputs": [
    {
     "data": {
      "text/markdown": [
       "- Cardano Price Analysis: 03 June.  Disclaimer: The findings of the following article are the sole opinions of the writer and should not be taken as investment advice Cardano and Nervos are going to enable interoperability across their platforms within the next six weeks, as per the Cardano team. The crypto-project has been taking great strides in its development of late as [&#8230;] ... [| Skaityti daugiau](https://ambcrypto.com/cardano-price-analysis-03-june/) "
      ],
      "text/plain": [
       "<IPython.core.display.Markdown object>"
      ]
     },
     "execution_count": 8,
     "metadata": {},
     "output_type": "execute_result"
    }
   ],
   "source": [
    "#hide_input\n",
    "#md('##### {}'.format(titleBTC)) \n",
    "md(\"- {}{} {}{} [| Skaityti daugiau]({}) \".format(ada['title'],'. ', ada['body'], ' ...', ada['url']))"
   ]
  },
  {
   "cell_type": "code",
   "execution_count": 9,
   "id": "specified-ordering",
   "metadata": {
    "execution": {
     "iopub.execute_input": "2021-06-04T03:19:58.155191Z",
     "iopub.status.busy": "2021-06-04T03:19:58.154448Z",
     "iopub.status.idle": "2021-06-04T03:19:58.158476Z",
     "shell.execute_reply": "2021-06-04T03:19:58.158921Z"
    },
    "papermill": {
     "duration": 0.023289,
     "end_time": "2021-06-04T03:19:58.159080",
     "exception": false,
     "start_time": "2021-06-04T03:19:58.135791",
     "status": "completed"
    },
    "tags": []
   },
   "outputs": [
    {
     "data": {
      "text/markdown": [
       "- BSC's Impossible Finance raises $7M for multi-chain DeFi incubator.  DeFi protocol Impossible Finance is building a multi-chain incubator to expand out from BSC.  ... [| Skaityti daugiau](https://cointelegraph.com/news/bsc-s-impossible-finance-raises-7m-for-multi-chain-defi-incubator) "
      ],
      "text/plain": [
       "<IPython.core.display.Markdown object>"
      ]
     },
     "execution_count": 9,
     "metadata": {},
     "output_type": "execute_result"
    }
   ],
   "source": [
    "#hide_input\n",
    "#md('##### {}'.format(titleBTC)) \n",
    "md(\"- {}{} {}{} [| Skaityti daugiau]({}) \".format(exchange['title'],'. ', exchange['body'], ' ...', exchange['url']))"
   ]
  },
  {
   "cell_type": "code",
   "execution_count": null,
   "id": "tender-livestock",
   "metadata": {
    "papermill": {
     "duration": 0.01292,
     "end_time": "2021-06-04T03:19:58.185032",
     "exception": false,
     "start_time": "2021-06-04T03:19:58.172112",
     "status": "completed"
    },
    "tags": []
   },
   "outputs": [],
   "source": []
  },
  {
   "cell_type": "code",
   "execution_count": null,
   "id": "appreciated-diamond",
   "metadata": {
    "papermill": {
     "duration": 0.012747,
     "end_time": "2021-06-04T03:19:58.210590",
     "exception": false,
     "start_time": "2021-06-04T03:19:58.197843",
     "status": "completed"
    },
    "tags": []
   },
   "outputs": [],
   "source": []
  },
  {
   "cell_type": "code",
   "execution_count": null,
   "id": "romance-sweden",
   "metadata": {
    "papermill": {
     "duration": 0.01211,
     "end_time": "2021-06-04T03:19:58.235404",
     "exception": false,
     "start_time": "2021-06-04T03:19:58.223294",
     "status": "completed"
    },
    "tags": []
   },
   "outputs": [],
   "source": []
  },
  {
   "cell_type": "code",
   "execution_count": null,
   "id": "dietary-statistics",
   "metadata": {
    "papermill": {
     "duration": 0.01258,
     "end_time": "2021-06-04T03:19:58.260639",
     "exception": false,
     "start_time": "2021-06-04T03:19:58.248059",
     "status": "completed"
    },
    "tags": []
   },
   "outputs": [],
   "source": []
  }
 ],
 "metadata": {
  "kernelspec": {
   "display_name": "Python 3",
   "language": "python",
   "name": "python3"
  },
  "language_info": {
   "codemirror_mode": {
    "name": "ipython",
    "version": 3
   },
   "file_extension": ".py",
   "mimetype": "text/x-python",
   "name": "python",
   "nbconvert_exporter": "python",
   "pygments_lexer": "ipython3",
   "version": "3.6.13"
  },
  "papermill": {
   "default_parameters": {},
   "duration": 14.871504,
   "end_time": "2021-06-04T03:19:58.681626",
   "environment_variables": {},
   "exception": null,
   "input_path": "Market-News.ipynb",
   "output_path": "Market-News.ipynb",
   "parameters": {},
   "start_time": "2021-06-04T03:19:43.810122",
   "version": "2.2.2"
  }
 },
 "nbformat": 4,
 "nbformat_minor": 5
}