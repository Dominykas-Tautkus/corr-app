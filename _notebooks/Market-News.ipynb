{
 "cells": [
  {
   "cell_type": "markdown",
   "id": "short-greensboro",
   "metadata": {
    "papermill": {
     "duration": 0.014965,
     "end_time": "2021-02-09T01:38:53.053920",
     "exception": false,
     "start_time": "2021-02-09T01:38:53.038955",
     "status": "completed"
    },
    "tags": []
   },
   "source": [
    "# Kriptovaliutų naujienos"
   ]
  },
  {
   "cell_type": "code",
   "execution_count": 1,
   "id": "functioning-knowing",
   "metadata": {
    "execution": {
     "iopub.execute_input": "2021-02-09T01:38:53.086086Z",
     "iopub.status.busy": "2021-02-09T01:38:53.085514Z",
     "iopub.status.idle": "2021-02-09T01:38:54.337892Z",
     "shell.execute_reply": "2021-02-09T01:38:54.337203Z"
    },
    "papermill": {
     "duration": 1.272325,
     "end_time": "2021-02-09T01:38:54.338060",
     "exception": false,
     "start_time": "2021-02-09T01:38:53.065735",
     "status": "completed"
    },
    "tags": []
   },
   "outputs": [],
   "source": [
    "#hide_input\n",
    "import warnings\n",
    "warnings.filterwarnings('ignore')\n",
    "from scripts.read_data import read_api\n",
    "from scripts.read_data import read_news\n",
    "from scripts.read_data import read_covid\n",
    "import matplotlib.pyplot as plt \n",
    "from IPython.display import Markdown as md"
   ]
  },
  {
   "cell_type": "code",
   "execution_count": 2,
   "id": "shared-acceptance",
   "metadata": {
    "execution": {
     "iopub.execute_input": "2021-02-09T01:38:54.363813Z",
     "iopub.status.busy": "2021-02-09T01:38:54.363221Z",
     "iopub.status.idle": "2021-02-09T01:39:05.458091Z",
     "shell.execute_reply": "2021-02-09T01:39:05.457361Z"
    },
    "papermill": {
     "duration": 11.109958,
     "end_time": "2021-02-09T01:39:05.458241",
     "exception": false,
     "start_time": "2021-02-09T01:38:54.348283",
     "status": "completed"
    },
    "tags": []
   },
   "outputs": [],
   "source": [
    "#hide_input\n",
    "blockchain = read_news('blockchain') \n",
    "btc = read_news('btc') \n",
    "xrp = read_news('xrp') \n",
    "trx = read_news('trx') \n",
    "eth = read_news('eth')  \n",
    "ada = read_news('ada')\n",
    "exchange = read_news('exchange') "
   ]
  },
  {
   "cell_type": "code",
   "execution_count": 3,
   "id": "synthetic-notion",
   "metadata": {
    "execution": {
     "iopub.execute_input": "2021-02-09T01:39:05.487489Z",
     "iopub.status.busy": "2021-02-09T01:39:05.486888Z",
     "iopub.status.idle": "2021-02-09T01:39:05.489151Z",
     "shell.execute_reply": "2021-02-09T01:39:05.489745Z"
    },
    "papermill": {
     "duration": 0.019061,
     "end_time": "2021-02-09T01:39:05.489873",
     "exception": false,
     "start_time": "2021-02-09T01:39:05.470812",
     "status": "completed"
    },
    "tags": []
   },
   "outputs": [
    {
     "data": {
      "text/markdown": [
       "- Plasm Network nets $2.4 million in Binance Labs-led Series A.  A hub for decentralized apps (dApps) on Polkadot has netted $2.4 million from investors, with Binance Labs leading the round.The post Plasm Network nets $2.4 million in Binance Labs-led Series A appeared first on The Block. ... [| Skaityti daugiau](https://www.theblockcrypto.com/linked/94256/plasm-network-binance-labs?utm_source=cryptocompare&utm_medium=rss) "
      ],
      "text/plain": [
       "<IPython.core.display.Markdown object>"
      ]
     },
     "execution_count": 3,
     "metadata": {},
     "output_type": "execute_result"
    }
   ],
   "source": [
    "#hide_input\n",
    "#md('##### {}'.format(titleBTC)) \n",
    "md(\"- {}{} {}{} [| Skaityti daugiau]({}) \".format(blockchain['title'],'. ', blockchain['body'], ' ...', blockchain['url']))"
   ]
  },
  {
   "cell_type": "code",
   "execution_count": 4,
   "id": "aging-caution",
   "metadata": {
    "execution": {
     "iopub.execute_input": "2021-02-09T01:39:05.515951Z",
     "iopub.status.busy": "2021-02-09T01:39:05.515340Z",
     "iopub.status.idle": "2021-02-09T01:39:05.518891Z",
     "shell.execute_reply": "2021-02-09T01:39:05.518453Z"
    },
    "papermill": {
     "duration": 0.01857,
     "end_time": "2021-02-09T01:39:05.518996",
     "exception": false,
     "start_time": "2021-02-09T01:39:05.500426",
     "status": "completed"
    },
    "tags": []
   },
   "outputs": [
    {
     "data": {
      "text/markdown": [
       "- Binance Labs announces investment in Polkadot’s project.  Along with the growth witnessed by Bitcoin, altcoins have been leveling up too. One of the major altcoins in the market Polkadot&#8217;s DOT token has been surging since the beginning of the year with mild consolidation. With a market capitalization of $19.22 billion, the digital asset was being traded at $21.20, close to its all-time [&#8230;] ... [| Skaityti daugiau](https://ambcrypto.com/binance-labs-announces-strategic-investment-in-polkadot-project/) "
      ],
      "text/plain": [
       "<IPython.core.display.Markdown object>"
      ]
     },
     "execution_count": 4,
     "metadata": {},
     "output_type": "execute_result"
    }
   ],
   "source": [
    "#hide_input\n",
    "#md('##### {}'.format(titleBTC)) \n",
    "md(\"- {}{} {}{} [| Skaityti daugiau]({}) \".format(btc['title'],'. ', btc['body'], ' ...', btc['url']))"
   ]
  },
  {
   "cell_type": "code",
   "execution_count": 5,
   "id": "organic-actress",
   "metadata": {
    "execution": {
     "iopub.execute_input": "2021-02-09T01:39:05.545632Z",
     "iopub.status.busy": "2021-02-09T01:39:05.545072Z",
     "iopub.status.idle": "2021-02-09T01:39:05.548238Z",
     "shell.execute_reply": "2021-02-09T01:39:05.547628Z"
    },
    "papermill": {
     "duration": 0.018394,
     "end_time": "2021-02-09T01:39:05.548363",
     "exception": false,
     "start_time": "2021-02-09T01:39:05.529969",
     "status": "completed"
    },
    "tags": []
   },
   "outputs": [
    {
     "data": {
      "text/markdown": [
       "- Cardano, Polkadot Market Caps Surpass XRP as Some Bet on Alternatives to Ethereum.  The price of gas continues to rise on Ethereum, squeezing smaller retail traders using DEXs. ... [| Skaityti daugiau](https://www.coindesk.com/cardano-polkadot-xrp-investors-bet-alternatives-ethereum) "
      ],
      "text/plain": [
       "<IPython.core.display.Markdown object>"
      ]
     },
     "execution_count": 5,
     "metadata": {},
     "output_type": "execute_result"
    }
   ],
   "source": [
    "#hide_input\n",
    "#md('##### {}'.format(titleBTC)) \n",
    "md(\"- {}{} {}{} [| Skaityti daugiau]({}) \".format(xrp['title'],'. ', xrp['body'], ' ...', xrp['url']))"
   ]
  },
  {
   "cell_type": "code",
   "execution_count": 6,
   "id": "prompt-farmer",
   "metadata": {
    "execution": {
     "iopub.execute_input": "2021-02-09T01:39:05.576327Z",
     "iopub.status.busy": "2021-02-09T01:39:05.575745Z",
     "iopub.status.idle": "2021-02-09T01:39:05.579114Z",
     "shell.execute_reply": "2021-02-09T01:39:05.578593Z"
    },
    "papermill": {
     "duration": 0.019427,
     "end_time": "2021-02-09T01:39:05.579226",
     "exception": false,
     "start_time": "2021-02-09T01:39:05.559799",
     "status": "completed"
    },
    "tags": []
   },
   "outputs": [
    {
     "data": {
      "text/markdown": [
       "- Cardano, Tron, FTX Token Price Analysis: 04 February.  Cardano broke out to the upside of $0.366 and was trading at $0.43 at the time of writing. Tron was consolidating underneath a level of resistance, and FTX Token had bullish momentum behind it that could propel the prices to $15.5. Cardano [ADA] Cardano was trading at $0.305 last week, a level of support that [&#8230;] ... [| Skaityti daugiau](https://ambcrypto.com/cardano-tron-ftx-token-price-analysis-04-february/) "
      ],
      "text/plain": [
       "<IPython.core.display.Markdown object>"
      ]
     },
     "execution_count": 6,
     "metadata": {},
     "output_type": "execute_result"
    }
   ],
   "source": [
    "#hide_input\n",
    "#md('##### {}'.format(titleBTC)) \n",
    "md(\"- {}{} {}{} [| Skaityti daugiau]({}) \".format(trx['title'],'. ', trx['body'], ' ...', trx['url']))"
   ]
  },
  {
   "cell_type": "code",
   "execution_count": 7,
   "id": "illegal-greece",
   "metadata": {
    "execution": {
     "iopub.execute_input": "2021-02-09T01:39:05.607820Z",
     "iopub.status.busy": "2021-02-09T01:39:05.607179Z",
     "iopub.status.idle": "2021-02-09T01:39:05.610426Z",
     "shell.execute_reply": "2021-02-09T01:39:05.609811Z"
    },
    "papermill": {
     "duration": 0.019825,
     "end_time": "2021-02-09T01:39:05.610577",
     "exception": false,
     "start_time": "2021-02-09T01:39:05.590752",
     "status": "completed"
    },
    "tags": []
   },
   "outputs": [
    {
     "data": {
      "text/markdown": [
       "- CME saw nearly 400 ETH futures contracts traded on first full market day.  CME&#8217;s ether (ETH) futures product saw 388 contracts traded on its opening day, according to Tim McCourt, CME&#8217;s Managing Director and Global Head of Equity Products. That&#8217;s about 19,400 ETH, or $33 million. &#8220;The response to Ether has been overwhelming,&#8221; said McCourt. Monday marked the first full trading day of CME&#8217;s ether (ETH) futures product, [&#8230;]The post CME saw nearly 400 ETH futures contracts traded on first full market day appeared first on The Block. ... [| Skaityti daugiau](https://www.theblockcrypto.com/linked/94262/cme-eth-futures-contracts-launch-first-day?utm_source=cryptocompare&utm_medium=rss) "
      ],
      "text/plain": [
       "<IPython.core.display.Markdown object>"
      ]
     },
     "execution_count": 7,
     "metadata": {},
     "output_type": "execute_result"
    }
   ],
   "source": [
    "#hide_input\n",
    "#md('##### {}'.format(titleBTC)) \n",
    "md(\"- {}{} {}{} [| Skaityti daugiau]({}) \".format(eth['title'],'. ', eth['body'], ' ...', eth['url']))"
   ]
  },
  {
   "cell_type": "code",
   "execution_count": 8,
   "id": "sublime-lounge",
   "metadata": {
    "execution": {
     "iopub.execute_input": "2021-02-09T01:39:05.635099Z",
     "iopub.status.busy": "2021-02-09T01:39:05.634586Z",
     "iopub.status.idle": "2021-02-09T01:39:05.638565Z",
     "shell.execute_reply": "2021-02-09T01:39:05.638097Z"
    },
    "papermill": {
     "duration": 0.018089,
     "end_time": "2021-02-09T01:39:05.638664",
     "exception": false,
     "start_time": "2021-02-09T01:39:05.620575",
     "status": "completed"
    },
    "tags": []
   },
   "outputs": [
    {
     "data": {
      "text/markdown": [
       "- Market Wrap: The ‘Elon Effect’ Blasts Bitcoin to $44.8K While Ether Moons.  Bitcoin and ether had record-breaking days while trending more together. ... [| Skaityti daugiau](https://www.coindesk.com/market-wrap-elon-effect-bitcoin-up-ether-moons) "
      ],
      "text/plain": [
       "<IPython.core.display.Markdown object>"
      ]
     },
     "execution_count": 8,
     "metadata": {},
     "output_type": "execute_result"
    }
   ],
   "source": [
    "#hide_input\n",
    "#md('##### {}'.format(titleBTC)) \n",
    "md(\"- {}{} {}{} [| Skaityti daugiau]({}) \".format(ada['title'],'. ', ada['body'], ' ...', ada['url']))"
   ]
  },
  {
   "cell_type": "code",
   "execution_count": 9,
   "id": "specified-ordering",
   "metadata": {
    "execution": {
     "iopub.execute_input": "2021-02-09T01:39:05.664670Z",
     "iopub.status.busy": "2021-02-09T01:39:05.664089Z",
     "iopub.status.idle": "2021-02-09T01:39:05.667306Z",
     "shell.execute_reply": "2021-02-09T01:39:05.668108Z"
    },
    "papermill": {
     "duration": 0.019111,
     "end_time": "2021-02-09T01:39:05.668309",
     "exception": false,
     "start_time": "2021-02-09T01:39:05.649198",
     "status": "completed"
    },
    "tags": []
   },
   "outputs": [
    {
     "data": {
      "text/markdown": [
       "- Binance Labs announces investment in Polkadot’s project.  Along with the growth witnessed by Bitcoin, altcoins have been leveling up too. One of the major altcoins in the market Polkadot&#8217;s DOT token has been surging since the beginning of the year with mild consolidation. With a market capitalization of $19.22 billion, the digital asset was being traded at $21.20, close to its all-time [&#8230;] ... [| Skaityti daugiau](https://ambcrypto.com/binance-labs-announces-strategic-investment-in-polkadot-project/) "
      ],
      "text/plain": [
       "<IPython.core.display.Markdown object>"
      ]
     },
     "execution_count": 9,
     "metadata": {},
     "output_type": "execute_result"
    }
   ],
   "source": [
    "#hide_input\n",
    "#md('##### {}'.format(titleBTC)) \n",
    "md(\"- {}{} {}{} [| Skaityti daugiau]({}) \".format(exchange['title'],'. ', exchange['body'], ' ...', exchange['url']))"
   ]
  },
  {
   "cell_type": "code",
   "execution_count": null,
   "id": "tender-livestock",
   "metadata": {
    "papermill": {
     "duration": 0.011389,
     "end_time": "2021-02-09T01:39:05.691056",
     "exception": false,
     "start_time": "2021-02-09T01:39:05.679667",
     "status": "completed"
    },
    "tags": []
   },
   "outputs": [],
   "source": []
  },
  {
   "cell_type": "code",
   "execution_count": null,
   "id": "appreciated-diamond",
   "metadata": {
    "papermill": {
     "duration": 0.014934,
     "end_time": "2021-02-09T01:39:05.719599",
     "exception": false,
     "start_time": "2021-02-09T01:39:05.704665",
     "status": "completed"
    },
    "tags": []
   },
   "outputs": [],
   "source": []
  },
  {
   "cell_type": "code",
   "execution_count": null,
   "id": "romance-sweden",
   "metadata": {
    "papermill": {
     "duration": 0.013632,
     "end_time": "2021-02-09T01:39:05.750501",
     "exception": false,
     "start_time": "2021-02-09T01:39:05.736869",
     "status": "completed"
    },
    "tags": []
   },
   "outputs": [],
   "source": []
  },
  {
   "cell_type": "code",
   "execution_count": null,
   "id": "dietary-statistics",
   "metadata": {
    "papermill": {
     "duration": 0.012645,
     "end_time": "2021-02-09T01:39:05.775734",
     "exception": false,
     "start_time": "2021-02-09T01:39:05.763089",
     "status": "completed"
    },
    "tags": []
   },
   "outputs": [],
   "source": []
  }
 ],
 "metadata": {
  "kernelspec": {
   "display_name": "Python 3",
   "language": "python",
   "name": "python3"
  },
  "language_info": {
   "codemirror_mode": {
    "name": "ipython",
    "version": 3
   },
   "file_extension": ".py",
   "mimetype": "text/x-python",
   "name": "python",
   "nbconvert_exporter": "python",
   "pygments_lexer": "ipython3",
   "version": "3.6.12"
  },
  "papermill": {
   "default_parameters": {},
   "duration": 15.310852,
   "end_time": "2021-02-09T01:39:07.143824",
   "environment_variables": {},
   "exception": null,
   "input_path": "Market-News.ipynb",
   "output_path": "Market-News.ipynb",
   "parameters": {},
   "start_time": "2021-02-09T01:38:51.832972",
   "version": "2.2.2"
  }
 },
 "nbformat": 4,
 "nbformat_minor": 5
}