{
 "cells": [
  {
   "cell_type": "markdown",
   "id": "short-greensboro",
   "metadata": {
    "papermill": {
     "duration": 0.01886,
     "end_time": "2021-02-10T01:41:52.874978",
     "exception": false,
     "start_time": "2021-02-10T01:41:52.856118",
     "status": "completed"
    },
    "tags": []
   },
   "source": [
    "# Kriptovaliutų naujienos"
   ]
  },
  {
   "cell_type": "code",
   "execution_count": 1,
   "id": "functioning-knowing",
   "metadata": {
    "execution": {
     "iopub.execute_input": "2021-02-10T01:41:52.907781Z",
     "iopub.status.busy": "2021-02-10T01:41:52.907212Z",
     "iopub.status.idle": "2021-02-10T01:41:54.270040Z",
     "shell.execute_reply": "2021-02-10T01:41:54.270871Z"
    },
    "papermill": {
     "duration": 1.384332,
     "end_time": "2021-02-10T01:41:54.271146",
     "exception": false,
     "start_time": "2021-02-10T01:41:52.886814",
     "status": "completed"
    },
    "tags": []
   },
   "outputs": [],
   "source": [
    "#hide_input\n",
    "import warnings\n",
    "warnings.filterwarnings('ignore')\n",
    "from scripts.read_data import read_api\n",
    "from scripts.read_data import read_news\n",
    "from scripts.read_data import read_covid\n",
    "import matplotlib.pyplot as plt \n",
    "from IPython.display import Markdown as md"
   ]
  },
  {
   "cell_type": "code",
   "execution_count": 2,
   "id": "shared-acceptance",
   "metadata": {
    "execution": {
     "iopub.execute_input": "2021-02-10T01:41:54.302224Z",
     "iopub.status.busy": "2021-02-10T01:41:54.301582Z",
     "iopub.status.idle": "2021-02-10T01:42:03.839221Z",
     "shell.execute_reply": "2021-02-10T01:42:03.839917Z"
    },
    "papermill": {
     "duration": 9.558154,
     "end_time": "2021-02-10T01:42:03.840136",
     "exception": false,
     "start_time": "2021-02-10T01:41:54.281982",
     "status": "completed"
    },
    "tags": []
   },
   "outputs": [],
   "source": [
    "#hide_input\n",
    "blockchain = read_news('blockchain') \n",
    "btc = read_news('btc') \n",
    "xrp = read_news('xrp') \n",
    "trx = read_news('trx') \n",
    "eth = read_news('eth')  \n",
    "ada = read_news('ada')\n",
    "exchange = read_news('exchange') "
   ]
  },
  {
   "cell_type": "code",
   "execution_count": 3,
   "id": "synthetic-notion",
   "metadata": {
    "execution": {
     "iopub.execute_input": "2021-02-10T01:42:03.868902Z",
     "iopub.status.busy": "2021-02-10T01:42:03.868325Z",
     "iopub.status.idle": "2021-02-10T01:42:03.874003Z",
     "shell.execute_reply": "2021-02-10T01:42:03.873490Z"
    },
    "papermill": {
     "duration": 0.020953,
     "end_time": "2021-02-10T01:42:03.874132",
     "exception": false,
     "start_time": "2021-02-10T01:42:03.853179",
     "status": "completed"
    },
    "tags": []
   },
   "outputs": [
    {
     "data": {
      "text/markdown": [
       "- Billionaire Mark Cuban Says Crypto Is Store of Value, With Bitcoin Leading Decade-Plus of Wealth Generation.  Billionaire entrepreneur and Dallas Mavericks owner Mark Cuban appears to be morphing into a strong supporter of cryptocurrencies. In a new blog post, the Shark Tank star says he now firmly believes crypto assets are stores of value, with the new generation fueling the rise of digital currencies like Bitcoin and Ethereum. [Crypto assets] are [&#8230;]The post Billionaire Mark Cuban Says Crypto Is Store of Value, With Bitcoin Leading Decade-Plus of Wealth Generation appeared first on The Daily Hodl. ... [| Skaityti daugiau](https://dailyhodl.com/2021/02/09/billionaire-mark-cuban-says-crypto-is-store-of-value-with-bitcoin-leading-decade-plus-of-wealth-generation/) "
      ],
      "text/plain": [
       "<IPython.core.display.Markdown object>"
      ]
     },
     "execution_count": 3,
     "metadata": {},
     "output_type": "execute_result"
    }
   ],
   "source": [
    "#hide_input\n",
    "#md('##### {}'.format(titleBTC)) \n",
    "md(\"- {}{} {}{} [| Skaityti daugiau]({}) \".format(blockchain['title'],'. ', blockchain['body'], ' ...', blockchain['url']))"
   ]
  },
  {
   "cell_type": "code",
   "execution_count": 4,
   "id": "aging-caution",
   "metadata": {
    "execution": {
     "iopub.execute_input": "2021-02-10T01:42:03.900710Z",
     "iopub.status.busy": "2021-02-10T01:42:03.900112Z",
     "iopub.status.idle": "2021-02-10T01:42:03.906211Z",
     "shell.execute_reply": "2021-02-10T01:42:03.905718Z"
    },
    "papermill": {
     "duration": 0.021908,
     "end_time": "2021-02-10T01:42:03.906341",
     "exception": false,
     "start_time": "2021-02-10T01:42:03.884433",
     "status": "completed"
    },
    "tags": []
   },
   "outputs": [
    {
     "data": {
      "text/markdown": [
       "- Bitcoin Price Will Hit $100,000 This Year as Companies Adopt It, Novogratz Predicts.  Former hedge fund manager and founder of cryptocurrency investment firm Galaxy Digital Michael Novogratz has predicted the price of bitcoin will more than double to $100,000 by the end of this year as “every” company in the U.S. will buy BTC. Speaking during a Bloomberg Television interview, Novogratz reacted to Tesla revealing it had invested […] ... [| Skaityti daugiau](https://www.cryptoglobe.com/latest/2021/02/bitcoin-price-will-hit-100000-this-year-as-companies-adopt-it-novogratz-predicts/) "
      ],
      "text/plain": [
       "<IPython.core.display.Markdown object>"
      ]
     },
     "execution_count": 4,
     "metadata": {},
     "output_type": "execute_result"
    }
   ],
   "source": [
    "#hide_input\n",
    "#md('##### {}'.format(titleBTC)) \n",
    "md(\"- {}{} {}{} [| Skaityti daugiau]({}) \".format(btc['title'],'. ', btc['body'], ' ...', btc['url']))"
   ]
  },
  {
   "cell_type": "code",
   "execution_count": 5,
   "id": "organic-actress",
   "metadata": {
    "execution": {
     "iopub.execute_input": "2021-02-10T01:42:03.938568Z",
     "iopub.status.busy": "2021-02-10T01:42:03.937728Z",
     "iopub.status.idle": "2021-02-10T01:42:03.941084Z",
     "shell.execute_reply": "2021-02-10T01:42:03.941687Z"
    },
    "papermill": {
     "duration": 0.02068,
     "end_time": "2021-02-10T01:42:03.942011",
     "exception": false,
     "start_time": "2021-02-10T01:42:03.921331",
     "status": "completed"
    },
    "tags": []
   },
   "outputs": [
    {
     "data": {
      "text/markdown": [
       "- SEC’s Lawsuit Against Ripple to End Soon.  TL;DR Breakdown Ripple could win its lawsuit with the SEC, says former SEC executive, Joseph Hall. XRP trading is likely to resume in the US as the case winds down. Lawsuit Against Ripples May End Soon The case of the SEC filing a lawsuit against Ripples has been going on for a while now and […] ... [| Skaityti daugiau](https://www.cryptopolitan.com/secs-lawsuit-against-ripple-to-end/) "
      ],
      "text/plain": [
       "<IPython.core.display.Markdown object>"
      ]
     },
     "execution_count": 5,
     "metadata": {},
     "output_type": "execute_result"
    }
   ],
   "source": [
    "#hide_input\n",
    "#md('##### {}'.format(titleBTC)) \n",
    "md(\"- {}{} {}{} [| Skaityti daugiau]({}) \".format(xrp['title'],'. ', xrp['body'], ' ...', xrp['url']))"
   ]
  },
  {
   "cell_type": "code",
   "execution_count": 6,
   "id": "prompt-farmer",
   "metadata": {
    "execution": {
     "iopub.execute_input": "2021-02-10T01:42:03.975492Z",
     "iopub.status.busy": "2021-02-10T01:42:03.974881Z",
     "iopub.status.idle": "2021-02-10T01:42:03.980414Z",
     "shell.execute_reply": "2021-02-10T01:42:03.981041Z"
    },
    "papermill": {
     "duration": 0.025097,
     "end_time": "2021-02-10T01:42:03.981198",
     "exception": false,
     "start_time": "2021-02-10T01:42:03.956101",
     "status": "completed"
    },
    "tags": []
   },
   "outputs": [
    {
     "data": {
      "text/markdown": [
       "- Tron, Augur, Cosmos Price Analysis: 09 February.  Tron [TRX] surged to levels last seen in June 2018, with the crypto projected to maintain its trajectory over the next few trading sessions. REP overturned the $24-resistance level, but it was uncertain whether the bulls could hold on to the price level. Finally, ATOM formed a bearish crossover on the MACD and was predicted [&#8230;] ... [| Skaityti daugiau](https://ambcrypto.com/tron-augur-cosmos-price-analysis-09-february/) "
      ],
      "text/plain": [
       "<IPython.core.display.Markdown object>"
      ]
     },
     "execution_count": 6,
     "metadata": {},
     "output_type": "execute_result"
    }
   ],
   "source": [
    "#hide_input\n",
    "#md('##### {}'.format(titleBTC)) \n",
    "md(\"- {}{} {}{} [| Skaityti daugiau]({}) \".format(trx['title'],'. ', trx['body'], ' ...', trx['url']))"
   ]
  },
  {
   "cell_type": "code",
   "execution_count": 7,
   "id": "illegal-greece",
   "metadata": {
    "execution": {
     "iopub.execute_input": "2021-02-10T01:42:04.013063Z",
     "iopub.status.busy": "2021-02-10T01:42:04.012432Z",
     "iopub.status.idle": "2021-02-10T01:42:04.018495Z",
     "shell.execute_reply": "2021-02-10T01:42:04.017935Z"
    },
    "papermill": {
     "duration": 0.025696,
     "end_time": "2021-02-10T01:42:04.018623",
     "exception": false,
     "start_time": "2021-02-10T01:42:03.992927",
     "status": "completed"
    },
    "tags": []
   },
   "outputs": [
    {
     "data": {
      "text/markdown": [
       "- Crypto Trader Lark Davis Names His Top 5 Cryptoassets to Buy in February.  Crypto influencer and trader Lark Davis updated followers on his top five altcoins for February, noting that ethereum could more than double in the coming month. ... [| Skaityti daugiau](https://www.cryptoglobe.com/latest/2021/02/crypto-trader-lark-davis-names-his-top-5-cryptoassets-to-buy-in-february/) "
      ],
      "text/plain": [
       "<IPython.core.display.Markdown object>"
      ]
     },
     "execution_count": 7,
     "metadata": {},
     "output_type": "execute_result"
    }
   ],
   "source": [
    "#hide_input\n",
    "#md('##### {}'.format(titleBTC)) \n",
    "md(\"- {}{} {}{} [| Skaityti daugiau]({}) \".format(eth['title'],'. ', eth['body'], ' ...', eth['url']))"
   ]
  },
  {
   "cell_type": "code",
   "execution_count": 8,
   "id": "sublime-lounge",
   "metadata": {
    "execution": {
     "iopub.execute_input": "2021-02-10T01:42:04.049070Z",
     "iopub.status.busy": "2021-02-10T01:42:04.048353Z",
     "iopub.status.idle": "2021-02-10T01:42:04.050643Z",
     "shell.execute_reply": "2021-02-10T01:42:04.051349Z"
    },
    "papermill": {
     "duration": 0.020865,
     "end_time": "2021-02-10T01:42:04.051508",
     "exception": false,
     "start_time": "2021-02-10T01:42:04.030643",
     "status": "completed"
    },
    "tags": []
   },
   "outputs": [
    {
     "data": {
      "text/markdown": [
       "- Here are 3 reasons why Cardano (ADA) is up 100% this month.  Cardano’s native cryptocurrency ADA has been on a roll since the beginning of February, seeing a price increase of over 100 percent since the beginning of the month. The post Here are 3 reasons why Cardano (ADA) is up 100% this month appeared first on CryptoSlate. ... [| Skaityti daugiau](https://cryptoslate.com/here-are-3-reasons-why-cardano-ada-is-up-100-this-month/) "
      ],
      "text/plain": [
       "<IPython.core.display.Markdown object>"
      ]
     },
     "execution_count": 8,
     "metadata": {},
     "output_type": "execute_result"
    }
   ],
   "source": [
    "#hide_input\n",
    "#md('##### {}'.format(titleBTC)) \n",
    "md(\"- {}{} {}{} [| Skaityti daugiau]({}) \".format(ada['title'],'. ', ada['body'], ' ...', ada['url']))"
   ]
  },
  {
   "cell_type": "code",
   "execution_count": 9,
   "id": "specified-ordering",
   "metadata": {
    "execution": {
     "iopub.execute_input": "2021-02-10T01:42:04.083130Z",
     "iopub.status.busy": "2021-02-10T01:42:04.082437Z",
     "iopub.status.idle": "2021-02-10T01:42:04.086517Z",
     "shell.execute_reply": "2021-02-10T01:42:04.086004Z"
    },
    "papermill": {
     "duration": 0.022054,
     "end_time": "2021-02-10T01:42:04.086647",
     "exception": false,
     "start_time": "2021-02-10T01:42:04.064593",
     "status": "completed"
    },
    "tags": []
   },
   "outputs": [
    {
     "data": {
      "text/markdown": [
       "- South Korean Crypto Exchange Becomes the First Overseas Platform Legally Recognized in China.  A South Korean cryptocurrency exchange announced it established its first legally recognized branch in China. Although the nation banned all local crypto trading services, DBX said the firm already obtained a license to go ahead with the operations. Final Certificate of Incorporation Granted on February 5 According to Money Today, DBX received the operating license [&#8230;] ... [| Skaityti daugiau](https://news.bitcoin.com/south-korean-crypto-exchange-becomes-the-first-overseas-platform-legally-recognized-in-china/) "
      ],
      "text/plain": [
       "<IPython.core.display.Markdown object>"
      ]
     },
     "execution_count": 9,
     "metadata": {},
     "output_type": "execute_result"
    }
   ],
   "source": [
    "#hide_input\n",
    "#md('##### {}'.format(titleBTC)) \n",
    "md(\"- {}{} {}{} [| Skaityti daugiau]({}) \".format(exchange['title'],'. ', exchange['body'], ' ...', exchange['url']))"
   ]
  },
  {
   "cell_type": "code",
   "execution_count": null,
   "id": "tender-livestock",
   "metadata": {
    "papermill": {
     "duration": 0.012784,
     "end_time": "2021-02-10T01:42:04.112777",
     "exception": false,
     "start_time": "2021-02-10T01:42:04.099993",
     "status": "completed"
    },
    "tags": []
   },
   "outputs": [],
   "source": []
  },
  {
   "cell_type": "code",
   "execution_count": null,
   "id": "appreciated-diamond",
   "metadata": {
    "papermill": {
     "duration": 0.013587,
     "end_time": "2021-02-10T01:42:04.139005",
     "exception": false,
     "start_time": "2021-02-10T01:42:04.125418",
     "status": "completed"
    },
    "tags": []
   },
   "outputs": [],
   "source": []
  },
  {
   "cell_type": "code",
   "execution_count": null,
   "id": "romance-sweden",
   "metadata": {
    "papermill": {
     "duration": 0.01247,
     "end_time": "2021-02-10T01:42:04.163688",
     "exception": false,
     "start_time": "2021-02-10T01:42:04.151218",
     "status": "completed"
    },
    "tags": []
   },
   "outputs": [],
   "source": []
  },
  {
   "cell_type": "code",
   "execution_count": null,
   "id": "dietary-statistics",
   "metadata": {
    "papermill": {
     "duration": 0.013834,
     "end_time": "2021-02-10T01:42:04.190188",
     "exception": false,
     "start_time": "2021-02-10T01:42:04.176354",
     "status": "completed"
    },
    "tags": []
   },
   "outputs": [],
   "source": []
  }
 ],
 "metadata": {
  "kernelspec": {
   "display_name": "Python 3",
   "language": "python",
   "name": "python3"
  },
  "language_info": {
   "codemirror_mode": {
    "name": "ipython",
    "version": 3
   },
   "file_extension": ".py",
   "mimetype": "text/x-python",
   "name": "python",
   "nbconvert_exporter": "python",
   "pygments_lexer": "ipython3",
   "version": "3.6.12"
  },
  "papermill": {
   "default_parameters": {},
   "duration": 12.942509,
   "end_time": "2021-02-10T01:42:04.716301",
   "environment_variables": {},
   "exception": null,
   "input_path": "Market-News.ipynb",
   "output_path": "Market-News.ipynb",
   "parameters": {},
   "start_time": "2021-02-10T01:41:51.773792",
   "version": "2.2.2"
  }
 },
 "nbformat": 4,
 "nbformat_minor": 5
}