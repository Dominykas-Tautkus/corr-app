{
 "cells": [
  {
   "cell_type": "markdown",
   "id": "short-greensboro",
   "metadata": {
    "papermill": {
     "duration": 0.011402,
     "end_time": "2021-05-08T02:05:37.197657",
     "exception": false,
     "start_time": "2021-05-08T02:05:37.186255",
     "status": "completed"
    },
    "tags": []
   },
   "source": [
    "# Kriptovaliutų naujienos"
   ]
  },
  {
   "cell_type": "code",
   "execution_count": 1,
   "id": "functioning-knowing",
   "metadata": {
    "execution": {
     "iopub.execute_input": "2021-05-08T02:05:37.223612Z",
     "iopub.status.busy": "2021-05-08T02:05:37.223014Z",
     "iopub.status.idle": "2021-05-08T02:05:38.304052Z",
     "shell.execute_reply": "2021-05-08T02:05:38.304455Z"
    },
    "papermill": {
     "duration": 1.098299,
     "end_time": "2021-05-08T02:05:38.304615",
     "exception": false,
     "start_time": "2021-05-08T02:05:37.206316",
     "status": "completed"
    },
    "tags": []
   },
   "outputs": [],
   "source": [
    "#hide_input\n",
    "import warnings\n",
    "warnings.filterwarnings('ignore')\n",
    "from scripts.read_data import read_api\n",
    "from scripts.read_data import read_news\n",
    "from scripts.read_data import read_covid\n",
    "import matplotlib.pyplot as plt \n",
    "from IPython.display import Markdown as md"
   ]
  },
  {
   "cell_type": "code",
   "execution_count": 2,
   "id": "shared-acceptance",
   "metadata": {
    "execution": {
     "iopub.execute_input": "2021-05-08T02:05:38.326571Z",
     "iopub.status.busy": "2021-05-08T02:05:38.326124Z",
     "iopub.status.idle": "2021-05-08T02:05:46.306859Z",
     "shell.execute_reply": "2021-05-08T02:05:46.306413Z"
    },
    "papermill": {
     "duration": 7.993898,
     "end_time": "2021-05-08T02:05:46.306969",
     "exception": false,
     "start_time": "2021-05-08T02:05:38.313071",
     "status": "completed"
    },
    "tags": []
   },
   "outputs": [],
   "source": [
    "#hide_input\n",
    "blockchain = read_news('blockchain') \n",
    "btc = read_news('btc') \n",
    "xrp = read_news('xrp') \n",
    "trx = read_news('trx') \n",
    "eth = read_news('eth')  \n",
    "ada = read_news('ada')\n",
    "exchange = read_news('exchange') "
   ]
  },
  {
   "cell_type": "code",
   "execution_count": 3,
   "id": "synthetic-notion",
   "metadata": {
    "execution": {
     "iopub.execute_input": "2021-05-08T02:05:46.330906Z",
     "iopub.status.busy": "2021-05-08T02:05:46.330363Z",
     "iopub.status.idle": "2021-05-08T02:05:46.336479Z",
     "shell.execute_reply": "2021-05-08T02:05:46.337270Z"
    },
    "papermill": {
     "duration": 0.020601,
     "end_time": "2021-05-08T02:05:46.337390",
     "exception": false,
     "start_time": "2021-05-08T02:05:46.316789",
     "status": "completed"
    },
    "tags": []
   },
   "outputs": [
    {
     "data": {
      "text/markdown": [
       "- NFT Weekly Roundup: Earning Through NFTs, Legendary Muhammad Ali Collectibles, NFT Display in Times Square, and More.  The NFT ecosystem is in full bloom, with several renowned names entering the playing field. As more and more artists and creators join the cash-strapped world of NFTs, we&#8217;ve got you covered with the latest announcements and launches of the week that are taking the world by storm. Hashmasks Introduce a Passive Opportunity to Earn [&#8230;] ... [| Skaityti daugiau](https://news.bitcoin.com/nft-weekly-roundup-earning-through-nfts-legendary-muhammad-ali-collectibles-nft-display-in-times-square-and-more/) "
      ],
      "text/plain": [
       "<IPython.core.display.Markdown object>"
      ]
     },
     "execution_count": 3,
     "metadata": {},
     "output_type": "execute_result"
    }
   ],
   "source": [
    "#hide_input\n",
    "#md('##### {}'.format(titleBTC)) \n",
    "md(\"- {}{} {}{} [| Skaityti daugiau]({}) \".format(blockchain['title'],'. ', blockchain['body'], ' ...', blockchain['url']))"
   ]
  },
  {
   "cell_type": "code",
   "execution_count": 4,
   "id": "aging-caution",
   "metadata": {
    "execution": {
     "iopub.execute_input": "2021-05-08T02:05:46.358310Z",
     "iopub.status.busy": "2021-05-08T02:05:46.357858Z",
     "iopub.status.idle": "2021-05-08T02:05:46.360584Z",
     "shell.execute_reply": "2021-05-08T02:05:46.360964Z"
    },
    "papermill": {
     "duration": 0.015249,
     "end_time": "2021-05-08T02:05:46.361082",
     "exception": false,
     "start_time": "2021-05-08T02:05:46.345833",
     "status": "completed"
    },
    "tags": []
   },
   "outputs": [
    {
     "data": {
      "text/markdown": [
       "- Goldman Sachs to Begin Offering Bitcoin Derivatives to Investors.  The red-hot crypto market has shown little to no signs of slowing down, and banks are starting to take notice. As Bitcoin and other major cryptos such as Ethereum rallied to record highs, institutional demand has also been on the rise. Goldman Sachs was one of the “earlier” adopters of the crypto space, exploring potential [&#8230;] ... [| Skaityti daugiau](https://bitcoinist.com/goldman-sachs-to-begin-offering-bitcoin-derivatives-to-its-investors/?utm_source=rss&utm_medium=rss&utm_campaign=goldman-sachs-to-begin-offering-bitcoin-derivatives-to-its-investors) "
      ],
      "text/plain": [
       "<IPython.core.display.Markdown object>"
      ]
     },
     "execution_count": 4,
     "metadata": {},
     "output_type": "execute_result"
    }
   ],
   "source": [
    "#hide_input\n",
    "#md('##### {}'.format(titleBTC)) \n",
    "md(\"- {}{} {}{} [| Skaityti daugiau]({}) \".format(btc['title'],'. ', btc['body'], ' ...', btc['url']))"
   ]
  },
  {
   "cell_type": "code",
   "execution_count": 5,
   "id": "organic-actress",
   "metadata": {
    "execution": {
     "iopub.execute_input": "2021-05-08T02:05:46.383321Z",
     "iopub.status.busy": "2021-05-08T02:05:46.382861Z",
     "iopub.status.idle": "2021-05-08T02:05:46.385578Z",
     "shell.execute_reply": "2021-05-08T02:05:46.386003Z"
    },
    "papermill": {
     "duration": 0.016476,
     "end_time": "2021-05-08T02:05:46.386116",
     "exception": false,
     "start_time": "2021-05-08T02:05:46.369640",
     "status": "completed"
    },
    "tags": []
   },
   "outputs": [
    {
     "data": {
      "text/markdown": [
       "- Dogecoin, XRP, Terra Price Analysis: 07 May.  Dogecoin showed bearish conditions in the market prior to Elon Musk&#8217;s Saturday Night Live appearance. XRP needed to defend $1.53 support from incoming selling pressure. Lastly, Terra traded within a descending triangle and the threat of a breakdown loomed large. Dogecoin [DOGE] Leader of the &#8216;memecoin rally&#8216;, Dogecoin has seen gains of over 100% during [&#8230;] ... [| Skaityti daugiau](https://ambcrypto.com/dogecoin-xrp-terra-price-analysis-07-may/) "
      ],
      "text/plain": [
       "<IPython.core.display.Markdown object>"
      ]
     },
     "execution_count": 5,
     "metadata": {},
     "output_type": "execute_result"
    }
   ],
   "source": [
    "#hide_input\n",
    "#md('##### {}'.format(titleBTC)) \n",
    "md(\"- {}{} {}{} [| Skaityti daugiau]({}) \".format(xrp['title'],'. ', xrp['body'], ' ...', xrp['url']))"
   ]
  },
  {
   "cell_type": "code",
   "execution_count": 6,
   "id": "prompt-farmer",
   "metadata": {
    "execution": {
     "iopub.execute_input": "2021-05-08T02:05:46.408676Z",
     "iopub.status.busy": "2021-05-08T02:05:46.408234Z",
     "iopub.status.idle": "2021-05-08T02:05:46.410597Z",
     "shell.execute_reply": "2021-05-08T02:05:46.410951Z"
    },
    "papermill": {
     "duration": 0.016038,
     "end_time": "2021-05-08T02:05:46.411061",
     "exception": false,
     "start_time": "2021-05-08T02:05:46.395023",
     "status": "completed"
    },
    "tags": []
   },
   "outputs": [
    {
     "data": {
      "text/markdown": [
       "- Tron (TRX) Price Analysis: Signs of A Fresh Decline Below $0.11.  Tron price struggled to clear the $0.1365 resistance and corrected lower against the US Dollar. TRX price is now trading below the $0.1260 support and the 55 simple moving average (4-hours). There was a break below a key bullish trend line with support near $0.1250 on the 4-hours chart (data feed via Bitfinex). The pair...The post Tron (TRX) Price Analysis: Signs of A Fresh Decline Below $0.11 appeared first on Live Bitcoin News. ... [| Skaityti daugiau](https://www.livebitcoinnews.com/tron-trx-price-analysis-signs-of-a-fresh-decline-below-0-11/) "
      ],
      "text/plain": [
       "<IPython.core.display.Markdown object>"
      ]
     },
     "execution_count": 6,
     "metadata": {},
     "output_type": "execute_result"
    }
   ],
   "source": [
    "#hide_input\n",
    "#md('##### {}'.format(titleBTC)) \n",
    "md(\"- {}{} {}{} [| Skaityti daugiau]({}) \".format(trx['title'],'. ', trx['body'], ' ...', trx['url']))"
   ]
  },
  {
   "cell_type": "code",
   "execution_count": 7,
   "id": "illegal-greece",
   "metadata": {
    "execution": {
     "iopub.execute_input": "2021-05-08T02:05:46.433331Z",
     "iopub.status.busy": "2021-05-08T02:05:46.432856Z",
     "iopub.status.idle": "2021-05-08T02:05:46.435156Z",
     "shell.execute_reply": "2021-05-08T02:05:46.434724Z"
    },
    "papermill": {
     "duration": 0.01503,
     "end_time": "2021-05-08T02:05:46.435247",
     "exception": false,
     "start_time": "2021-05-08T02:05:46.420217",
     "status": "completed"
    },
    "tags": []
   },
   "outputs": [
    {
     "data": {
      "text/markdown": [
       "- Goldman Sachs to Begin Offering Bitcoin Derivatives to Investors.  The red-hot crypto market has shown little to no signs of slowing down, and banks are starting to take notice. As Bitcoin and other major cryptos such as Ethereum rallied to record highs, institutional demand has also been on the rise. Goldman Sachs was one of the “earlier” adopters of the crypto space, exploring potential [&#8230;] ... [| Skaityti daugiau](https://bitcoinist.com/goldman-sachs-to-begin-offering-bitcoin-derivatives-to-its-investors/?utm_source=rss&utm_medium=rss&utm_campaign=goldman-sachs-to-begin-offering-bitcoin-derivatives-to-its-investors) "
      ],
      "text/plain": [
       "<IPython.core.display.Markdown object>"
      ]
     },
     "execution_count": 7,
     "metadata": {},
     "output_type": "execute_result"
    }
   ],
   "source": [
    "#hide_input\n",
    "#md('##### {}'.format(titleBTC)) \n",
    "md(\"- {}{} {}{} [| Skaityti daugiau]({}) \".format(eth['title'],'. ', eth['body'], ' ...', eth['url']))"
   ]
  },
  {
   "cell_type": "code",
   "execution_count": 8,
   "id": "sublime-lounge",
   "metadata": {
    "execution": {
     "iopub.execute_input": "2021-05-08T02:05:46.458580Z",
     "iopub.status.busy": "2021-05-08T02:05:46.458025Z",
     "iopub.status.idle": "2021-05-08T02:05:46.459810Z",
     "shell.execute_reply": "2021-05-08T02:05:46.460163Z"
    },
    "papermill": {
     "duration": 0.015755,
     "end_time": "2021-05-08T02:05:46.460267",
     "exception": false,
     "start_time": "2021-05-08T02:05:46.444512",
     "status": "completed"
    },
    "tags": []
   },
   "outputs": [
    {
     "data": {
      "text/markdown": [
       "- New partnership sees DeFi and NFTs come to Cardano (ADA).  Recent announcements culminated in ADA hitting an all-time high yesterday, at $1.69. The post New partnership sees DeFi and NFTs come to Cardano (ADA) appeared first on CryptoSlate. ... [| Skaityti daugiau](https://cryptoslate.com/new-partnership-sees-defi-and-nfts-come-to-cardano-ada/) "
      ],
      "text/plain": [
       "<IPython.core.display.Markdown object>"
      ]
     },
     "execution_count": 8,
     "metadata": {},
     "output_type": "execute_result"
    }
   ],
   "source": [
    "#hide_input\n",
    "#md('##### {}'.format(titleBTC)) \n",
    "md(\"- {}{} {}{} [| Skaityti daugiau]({}) \".format(ada['title'],'. ', ada['body'], ' ...', ada['url']))"
   ]
  },
  {
   "cell_type": "code",
   "execution_count": 9,
   "id": "specified-ordering",
   "metadata": {
    "execution": {
     "iopub.execute_input": "2021-05-08T02:05:46.484106Z",
     "iopub.status.busy": "2021-05-08T02:05:46.483664Z",
     "iopub.status.idle": "2021-05-08T02:05:46.486429Z",
     "shell.execute_reply": "2021-05-08T02:05:46.486761Z"
    },
    "papermill": {
     "duration": 0.016981,
     "end_time": "2021-05-08T02:05:46.486869",
     "exception": false,
     "start_time": "2021-05-08T02:05:46.469888",
     "status": "completed"
    },
    "tags": []
   },
   "outputs": [
    {
     "data": {
      "text/markdown": [
       "- VanEck Files For Ethereum ETF As ETH’s Price Staggers.  According to a Form S-1 filed with the U.S. Securities and Exchange Commission (SEC), asset manager VanEck Digital Assets has filed for an Ethereum Exchange Traded Fund (ETF). Called VanEck Ethereum Trust, it would trade on the exchange Cboe BZX, if approved. The investment product would track the MVSI CryptoCompare Ethereum Benchmark Rate and would [&#8230;] ... [| Skaityti daugiau](https://www.newsbtc.com/news/ethereum/vaneck-ethereum-etf-price-staggers/) "
      ],
      "text/plain": [
       "<IPython.core.display.Markdown object>"
      ]
     },
     "execution_count": 9,
     "metadata": {},
     "output_type": "execute_result"
    }
   ],
   "source": [
    "#hide_input\n",
    "#md('##### {}'.format(titleBTC)) \n",
    "md(\"- {}{} {}{} [| Skaityti daugiau]({}) \".format(exchange['title'],'. ', exchange['body'], ' ...', exchange['url']))"
   ]
  },
  {
   "cell_type": "code",
   "execution_count": null,
   "id": "tender-livestock",
   "metadata": {
    "papermill": {
     "duration": 0.009835,
     "end_time": "2021-05-08T02:05:46.506570",
     "exception": false,
     "start_time": "2021-05-08T02:05:46.496735",
     "status": "completed"
    },
    "tags": []
   },
   "outputs": [],
   "source": []
  },
  {
   "cell_type": "code",
   "execution_count": null,
   "id": "appreciated-diamond",
   "metadata": {
    "papermill": {
     "duration": 0.00989,
     "end_time": "2021-05-08T02:05:46.526348",
     "exception": false,
     "start_time": "2021-05-08T02:05:46.516458",
     "status": "completed"
    },
    "tags": []
   },
   "outputs": [],
   "source": []
  },
  {
   "cell_type": "code",
   "execution_count": null,
   "id": "romance-sweden",
   "metadata": {
    "papermill": {
     "duration": 0.009845,
     "end_time": "2021-05-08T02:05:46.546182",
     "exception": false,
     "start_time": "2021-05-08T02:05:46.536337",
     "status": "completed"
    },
    "tags": []
   },
   "outputs": [],
   "source": []
  },
  {
   "cell_type": "code",
   "execution_count": null,
   "id": "dietary-statistics",
   "metadata": {
    "papermill": {
     "duration": 0.00981,
     "end_time": "2021-05-08T02:05:46.565783",
     "exception": false,
     "start_time": "2021-05-08T02:05:46.555973",
     "status": "completed"
    },
    "tags": []
   },
   "outputs": [],
   "source": []
  }
 ],
 "metadata": {
  "kernelspec": {
   "display_name": "Python 3",
   "language": "python",
   "name": "python3"
  },
  "language_info": {
   "codemirror_mode": {
    "name": "ipython",
    "version": 3
   },
   "file_extension": ".py",
   "mimetype": "text/x-python",
   "name": "python",
   "nbconvert_exporter": "python",
   "pygments_lexer": "ipython3",
   "version": "3.6.13"
  },
  "papermill": {
   "default_parameters": {},
   "duration": 10.639555,
   "end_time": "2021-05-08T02:05:46.983029",
   "environment_variables": {},
   "exception": null,
   "input_path": "Market-News.ipynb",
   "output_path": "Market-News.ipynb",
   "parameters": {},
   "start_time": "2021-05-08T02:05:36.343474",
   "version": "2.2.2"
  }
 },
 "nbformat": 4,
 "nbformat_minor": 5
}