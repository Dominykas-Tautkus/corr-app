{
 "cells": [
  {
   "cell_type": "markdown",
   "id": "short-greensboro",
   "metadata": {
    "papermill": {
     "duration": 0.013411,
     "end_time": "2021-02-02T01:55:55.538711",
     "exception": false,
     "start_time": "2021-02-02T01:55:55.525300",
     "status": "completed"
    },
    "tags": []
   },
   "source": [
    "# Kriptovaliutų naujienos"
   ]
  },
  {
   "cell_type": "code",
   "execution_count": 1,
   "id": "functioning-knowing",
   "metadata": {
    "execution": {
     "iopub.execute_input": "2021-02-02T01:55:55.568069Z",
     "iopub.status.busy": "2021-02-02T01:55:55.567539Z",
     "iopub.status.idle": "2021-02-02T01:55:56.687558Z",
     "shell.execute_reply": "2021-02-02T01:55:56.687039Z"
    },
    "papermill": {
     "duration": 1.139229,
     "end_time": "2021-02-02T01:55:56.687706",
     "exception": false,
     "start_time": "2021-02-02T01:55:55.548477",
     "status": "completed"
    },
    "tags": []
   },
   "outputs": [],
   "source": [
    "#hide_input\n",
    "import warnings\n",
    "warnings.filterwarnings('ignore')\n",
    "from scripts.read_data import read_api\n",
    "from scripts.read_data import read_news\n",
    "from scripts.read_data import read_covid\n",
    "import matplotlib.pyplot as plt \n",
    "from IPython.display import Markdown as md"
   ]
  },
  {
   "cell_type": "code",
   "execution_count": 2,
   "id": "shared-acceptance",
   "metadata": {
    "execution": {
     "iopub.execute_input": "2021-02-02T01:55:56.712168Z",
     "iopub.status.busy": "2021-02-02T01:55:56.711339Z",
     "iopub.status.idle": "2021-02-02T01:56:04.106975Z",
     "shell.execute_reply": "2021-02-02T01:56:04.106477Z"
    },
    "papermill": {
     "duration": 7.409899,
     "end_time": "2021-02-02T01:56:04.107113",
     "exception": false,
     "start_time": "2021-02-02T01:55:56.697214",
     "status": "completed"
    },
    "tags": []
   },
   "outputs": [],
   "source": [
    "#hide_input\n",
    "blockchain = read_news('blockchain') \n",
    "btc = read_news('btc') \n",
    "xrp = read_news('xrp') \n",
    "trx = read_news('trx') \n",
    "eth = read_news('eth')  \n",
    "ada = read_news('ada')\n",
    "exchange = read_news('exchange') "
   ]
  },
  {
   "cell_type": "code",
   "execution_count": 3,
   "id": "synthetic-notion",
   "metadata": {
    "execution": {
     "iopub.execute_input": "2021-02-02T01:56:04.131644Z",
     "iopub.status.busy": "2021-02-02T01:56:04.131126Z",
     "iopub.status.idle": "2021-02-02T01:56:04.133886Z",
     "shell.execute_reply": "2021-02-02T01:56:04.133466Z"
    },
    "papermill": {
     "duration": 0.017089,
     "end_time": "2021-02-02T01:56:04.133999",
     "exception": false,
     "start_time": "2021-02-02T01:56:04.116910",
     "status": "completed"
    },
    "tags": []
   },
   "outputs": [
    {
     "data": {
      "text/markdown": [
       "- How we can use timestamping content on the blockchain to fight fake news and fraud.  Can you trust what you read on the internet? Ideally, we&#8217;d be in a world where the answer to this question is an immediate &#8220;Yes.&#8221; But we know there&#8217;s a lot of distrust in what’s on the internet. The post How we can use timestamping content on the blockchain to fight fake news and fraud appeared first on CryptoSlate. ... [| Skaityti daugiau](https://cryptoslate.com/how-we-can-use-timestamping-content-on-the-blockchain-to-fight-fake-news-and-fraud/) "
      ],
      "text/plain": [
       "<IPython.core.display.Markdown object>"
      ]
     },
     "execution_count": 3,
     "metadata": {},
     "output_type": "execute_result"
    }
   ],
   "source": [
    "#hide_input\n",
    "#md('##### {}'.format(titleBTC)) \n",
    "md(\"- {}{} {}{} [| Skaityti daugiau]({}) \".format(blockchain['title'],'. ', blockchain['body'], ' ...', blockchain['url']))"
   ]
  },
  {
   "cell_type": "code",
   "execution_count": 4,
   "id": "aging-caution",
   "metadata": {
    "execution": {
     "iopub.execute_input": "2021-02-02T01:56:04.157507Z",
     "iopub.status.busy": "2021-02-02T01:56:04.157004Z",
     "iopub.status.idle": "2021-02-02T01:56:04.159029Z",
     "shell.execute_reply": "2021-02-02T01:56:04.159432Z"
    },
    "papermill": {
     "duration": 0.015615,
     "end_time": "2021-02-02T01:56:04.159553",
     "exception": false,
     "start_time": "2021-02-02T01:56:04.143938",
     "status": "completed"
    },
    "tags": []
   },
   "outputs": [
    {
     "data": {
      "text/markdown": [
       "- Senator to launch Financial Innovation Caucus to educate lawmakers on crypto.  Cynthia Lummis, the first U.S. senator to own Bitcoin, will launch a Financial Innovation Caucus to educate her fellow-senators about Bitcoin and crypto assets. ... [| Skaityti daugiau](https://cointelegraph.com/news/senator-to-launch-financial-innovation-caucus-to-educate-lawmakers-on-crypto) "
      ],
      "text/plain": [
       "<IPython.core.display.Markdown object>"
      ]
     },
     "execution_count": 4,
     "metadata": {},
     "output_type": "execute_result"
    }
   ],
   "source": [
    "#hide_input\n",
    "#md('##### {}'.format(titleBTC)) \n",
    "md(\"- {}{} {}{} [| Skaityti daugiau]({}) \".format(btc['title'],'. ', btc['body'], ' ...', btc['url']))"
   ]
  },
  {
   "cell_type": "code",
   "execution_count": 5,
   "id": "organic-actress",
   "metadata": {
    "execution": {
     "iopub.execute_input": "2021-02-02T01:56:04.182578Z",
     "iopub.status.busy": "2021-02-02T01:56:04.182081Z",
     "iopub.status.idle": "2021-02-02T01:56:04.185019Z",
     "shell.execute_reply": "2021-02-02T01:56:04.184572Z"
    },
    "papermill": {
     "duration": 0.016097,
     "end_time": "2021-02-02T01:56:04.185128",
     "exception": false,
     "start_time": "2021-02-02T01:56:04.169031",
     "status": "completed"
    },
    "tags": []
   },
   "outputs": [
    {
     "data": {
      "text/markdown": [
       "- Bitcoin price is sideways, silver hits a 7-year high and XRP’s rally pops.  While Bitcoin trades sideways, the price of silver rushed to a 7-year high and XRP surprised new investors with a sharp 50% sell-off. ... [| Skaityti daugiau](https://cointelegraph.com/news/bitcoin-price-is-sideways-silver-hits-a-7-year-high-and-xrp-s-rally-pops) "
      ],
      "text/plain": [
       "<IPython.core.display.Markdown object>"
      ]
     },
     "execution_count": 5,
     "metadata": {},
     "output_type": "execute_result"
    }
   ],
   "source": [
    "#hide_input\n",
    "#md('##### {}'.format(titleBTC)) \n",
    "md(\"- {}{} {}{} [| Skaityti daugiau]({}) \".format(xrp['title'],'. ', xrp['body'], ' ...', xrp['url']))"
   ]
  },
  {
   "cell_type": "code",
   "execution_count": 6,
   "id": "prompt-farmer",
   "metadata": {
    "execution": {
     "iopub.execute_input": "2021-02-02T01:56:04.208825Z",
     "iopub.status.busy": "2021-02-02T01:56:04.208307Z",
     "iopub.status.idle": "2021-02-02T01:56:04.211492Z",
     "shell.execute_reply": "2021-02-02T01:56:04.211073Z"
    },
    "papermill": {
     "duration": 0.016763,
     "end_time": "2021-02-02T01:56:04.211598",
     "exception": false,
     "start_time": "2021-02-02T01:56:04.194835",
     "status": "completed"
    },
    "tags": []
   },
   "outputs": [
    {
     "data": {
      "text/markdown": [
       "- Bitcoin Cash, Tron, FTX Token Price Analysis: 01 February.  Although the broader altcoin market saw mixed signals on the charts over the past 24 hours, BCH, TRX, and FTT flashed bullish signals at press time. BCH eyed a move above its 20-SMA, while FTT looked to break above the upper ceiling at $11.6. TRX was also projected to rise higher on the charts, but [&#8230;] ... [| Skaityti daugiau](https://ambcrypto.com/bitcoin-cash-tron-ftx-token-price-analysis-01-february/) "
      ],
      "text/plain": [
       "<IPython.core.display.Markdown object>"
      ]
     },
     "execution_count": 6,
     "metadata": {},
     "output_type": "execute_result"
    }
   ],
   "source": [
    "#hide_input\n",
    "#md('##### {}'.format(titleBTC)) \n",
    "md(\"- {}{} {}{} [| Skaityti daugiau]({}) \".format(trx['title'],'. ', trx['body'], ' ...', trx['url']))"
   ]
  },
  {
   "cell_type": "code",
   "execution_count": 7,
   "id": "illegal-greece",
   "metadata": {
    "execution": {
     "iopub.execute_input": "2021-02-02T01:56:04.236712Z",
     "iopub.status.busy": "2021-02-02T01:56:04.236107Z",
     "iopub.status.idle": "2021-02-02T01:56:04.238130Z",
     "shell.execute_reply": "2021-02-02T01:56:04.238672Z"
    },
    "papermill": {
     "duration": 0.017037,
     "end_time": "2021-02-02T01:56:04.238808",
     "exception": false,
     "start_time": "2021-02-02T01:56:04.221771",
     "status": "completed"
    },
    "tags": []
   },
   "outputs": [
    {
     "data": {
      "text/markdown": [
       "- Altcoin Season Is Here: “Buy Crypto” Surpases Bitcoin Searches On Google.  Ever since Bitcoin broke above its peak at $20,000 and roared higher by another $20,000, altcoins have awakened from their long crypto winter slumber. Ethereum set a new all-time high, and now tokens across the market are starting to follow. Further confirmation that an altcoin season is finally upon us, is cemented by searches for [&#8230;] ... [| Skaityti daugiau](https://www.newsbtc.com/crypto/altcoin-season-is-here-buy-crypto-surpases-bitcoin-searches-on-google/) "
      ],
      "text/plain": [
       "<IPython.core.display.Markdown object>"
      ]
     },
     "execution_count": 7,
     "metadata": {},
     "output_type": "execute_result"
    }
   ],
   "source": [
    "#hide_input\n",
    "#md('##### {}'.format(titleBTC)) \n",
    "md(\"- {}{} {}{} [| Skaityti daugiau]({}) \".format(eth['title'],'. ', eth['body'], ' ...', eth['url']))"
   ]
  },
  {
   "cell_type": "code",
   "execution_count": 8,
   "id": "sublime-lounge",
   "metadata": {
    "execution": {
     "iopub.execute_input": "2021-02-02T01:56:04.264553Z",
     "iopub.status.busy": "2021-02-02T01:56:04.264046Z",
     "iopub.status.idle": "2021-02-02T01:56:04.266666Z",
     "shell.execute_reply": "2021-02-02T01:56:04.266246Z"
    },
    "papermill": {
     "duration": 0.017096,
     "end_time": "2021-02-02T01:56:04.266777",
     "exception": false,
     "start_time": "2021-02-02T01:56:04.249681",
     "status": "completed"
    },
    "tags": []
   },
   "outputs": [
    {
     "data": {
      "text/markdown": [
       "- Cardano, SushiSwap, IOTA Price Analysis: 01 February.  Cardano was trading within a range from $0.32 to $0.38 and showed signs of being in a consolidation phase. SushiSwap was bullish on the charts and likely to go past $10, while IOTA found support at the $0.39 mark but lacked interest from buyers to attempt another move past $0.45. Cardano [ADA] Using the 12-hour [&#8230;] ... [| Skaityti daugiau](https://ambcrypto.com/cardano-sushiswap-iota-price-analysis-01-february/) "
      ],
      "text/plain": [
       "<IPython.core.display.Markdown object>"
      ]
     },
     "execution_count": 8,
     "metadata": {},
     "output_type": "execute_result"
    }
   ],
   "source": [
    "#hide_input\n",
    "#md('##### {}'.format(titleBTC)) \n",
    "md(\"- {}{} {}{} [| Skaityti daugiau]({}) \".format(ada['title'],'. ', ada['body'], ' ...', ada['url']))"
   ]
  },
  {
   "cell_type": "code",
   "execution_count": 9,
   "id": "specified-ordering",
   "metadata": {
    "execution": {
     "iopub.execute_input": "2021-02-02T01:56:04.293918Z",
     "iopub.status.busy": "2021-02-02T01:56:04.293414Z",
     "iopub.status.idle": "2021-02-02T01:56:04.296466Z",
     "shell.execute_reply": "2021-02-02T01:56:04.296043Z"
    },
    "papermill": {
     "duration": 0.018966,
     "end_time": "2021-02-02T01:56:04.296578",
     "exception": false,
     "start_time": "2021-02-02T01:56:04.277612",
     "status": "completed"
    },
    "tags": []
   },
   "outputs": [
    {
     "data": {
      "text/markdown": [
       "- SEC Charges Crypto Startups For Offering Unregistered Digital Asset Securities.  Securities and exchange commission (SEC) today charged two cryptocurrency startups for defrauding investors by offering unregistered digital asset securities. The alleged fraudsters used two crypto firms Start Options and Bitcoiin2Gen to offer securities worth around $11 Million. SEC Vs ICO, Still Not Over? SEC charged Start Options and Bitcoiin2Gen founder Kristijan Krstic and John DeMarr, The post SEC Charges Crypto Startups For Offering Unregistered Digital Asset Securities appeared first on Coingape. ... [| Skaityti daugiau](https://coingape.com/sec-charges-crypto-startup-founders-for-selling-unregistered-digital-asset-securities/) "
      ],
      "text/plain": [
       "<IPython.core.display.Markdown object>"
      ]
     },
     "execution_count": 9,
     "metadata": {},
     "output_type": "execute_result"
    }
   ],
   "source": [
    "#hide_input\n",
    "#md('##### {}'.format(titleBTC)) \n",
    "md(\"- {}{} {}{} [| Skaityti daugiau]({}) \".format(exchange['title'],'. ', exchange['body'], ' ...', exchange['url']))"
   ]
  },
  {
   "cell_type": "code",
   "execution_count": null,
   "id": "tender-livestock",
   "metadata": {
    "papermill": {
     "duration": 0.010951,
     "end_time": "2021-02-02T01:56:04.318494",
     "exception": false,
     "start_time": "2021-02-02T01:56:04.307543",
     "status": "completed"
    },
    "tags": []
   },
   "outputs": [],
   "source": []
  },
  {
   "cell_type": "code",
   "execution_count": null,
   "id": "appreciated-diamond",
   "metadata": {
    "papermill": {
     "duration": 0.011919,
     "end_time": "2021-02-02T01:56:04.341527",
     "exception": false,
     "start_time": "2021-02-02T01:56:04.329608",
     "status": "completed"
    },
    "tags": []
   },
   "outputs": [],
   "source": []
  },
  {
   "cell_type": "code",
   "execution_count": null,
   "id": "romance-sweden",
   "metadata": {
    "papermill": {
     "duration": 0.010852,
     "end_time": "2021-02-02T01:56:04.363331",
     "exception": false,
     "start_time": "2021-02-02T01:56:04.352479",
     "status": "completed"
    },
    "tags": []
   },
   "outputs": [],
   "source": []
  },
  {
   "cell_type": "code",
   "execution_count": null,
   "id": "dietary-statistics",
   "metadata": {
    "papermill": {
     "duration": 0.010864,
     "end_time": "2021-02-02T01:56:04.385091",
     "exception": false,
     "start_time": "2021-02-02T01:56:04.374227",
     "status": "completed"
    },
    "tags": []
   },
   "outputs": [],
   "source": []
  }
 ],
 "metadata": {
  "kernelspec": {
   "display_name": "Python 3",
   "language": "python",
   "name": "python3"
  },
  "language_info": {
   "codemirror_mode": {
    "name": "ipython",
    "version": 3
   },
   "file_extension": ".py",
   "mimetype": "text/x-python",
   "name": "python",
   "nbconvert_exporter": "python",
   "pygments_lexer": "ipython3",
   "version": "3.6.12"
  },
  "papermill": {
   "default_parameters": {},
   "duration": 11.276507,
   "end_time": "2021-02-02T01:56:05.769610",
   "environment_variables": {},
   "exception": null,
   "input_path": "Market-News.ipynb",
   "output_path": "Market-News.ipynb",
   "parameters": {},
   "start_time": "2021-02-02T01:55:54.493103",
   "version": "2.2.2"
  }
 },
 "nbformat": 4,
 "nbformat_minor": 5
}