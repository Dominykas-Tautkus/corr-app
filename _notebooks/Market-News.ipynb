{
 "cells": [
  {
   "cell_type": "markdown",
   "metadata": {
    "papermill": {
     "duration": 0.012403,
     "end_time": "2021-01-08T05:33:19.139999",
     "exception": false,
     "start_time": "2021-01-08T05:33:19.127596",
     "status": "completed"
    },
    "tags": []
   },
   "source": [
    "# Kriptovaliutų naujienos"
   ]
  },
  {
   "cell_type": "code",
   "execution_count": 1,
   "metadata": {
    "execution": {
     "iopub.execute_input": "2021-01-08T05:33:19.169431Z",
     "iopub.status.busy": "2021-01-08T05:33:19.168797Z",
     "iopub.status.idle": "2021-01-08T05:33:20.557822Z",
     "shell.execute_reply": "2021-01-08T05:33:20.556897Z"
    },
    "papermill": {
     "duration": 1.408617,
     "end_time": "2021-01-08T05:33:20.558086",
     "exception": false,
     "start_time": "2021-01-08T05:33:19.149469",
     "status": "completed"
    },
    "tags": []
   },
   "outputs": [],
   "source": [
    "#hide_input\n",
    "import warnings\n",
    "warnings.filterwarnings('ignore')\n",
    "from scripts.read_data import read_api\n",
    "from scripts.read_data import read_news\n",
    "from scripts.read_data import read_covid\n",
    "import matplotlib.pyplot as plt \n",
    "from IPython.display import Markdown as md"
   ]
  },
  {
   "cell_type": "code",
   "execution_count": 2,
   "metadata": {
    "execution": {
     "iopub.execute_input": "2021-01-08T05:33:20.584203Z",
     "iopub.status.busy": "2021-01-08T05:33:20.583169Z",
     "iopub.status.idle": "2021-01-08T05:33:30.710525Z",
     "shell.execute_reply": "2021-01-08T05:33:30.709612Z"
    },
    "papermill": {
     "duration": 10.14251,
     "end_time": "2021-01-08T05:33:30.710757",
     "exception": false,
     "start_time": "2021-01-08T05:33:20.568247",
     "status": "completed"
    },
    "tags": []
   },
   "outputs": [],
   "source": [
    "#hide_input\n",
    "blockchain = read_news('blockchain') \n",
    "btc = read_news('btc') \n",
    "xrp = read_news('xrp') \n",
    "trx = read_news('trx') \n",
    "eth = read_news('eth')  \n",
    "ada = read_news('ada')\n",
    "exchange = read_news('exchange') "
   ]
  },
  {
   "cell_type": "code",
   "execution_count": 3,
   "metadata": {
    "execution": {
     "iopub.execute_input": "2021-01-08T05:33:30.736357Z",
     "iopub.status.busy": "2021-01-08T05:33:30.735764Z",
     "iopub.status.idle": "2021-01-08T05:33:30.742133Z",
     "shell.execute_reply": "2021-01-08T05:33:30.742591Z"
    },
    "papermill": {
     "duration": 0.022157,
     "end_time": "2021-01-08T05:33:30.742751",
     "exception": false,
     "start_time": "2021-01-08T05:33:30.720594",
     "status": "completed"
    },
    "tags": []
   },
   "outputs": [
    {
     "data": {
      "text/markdown": [
       "- A Conversation with One of Bitcoin Cash’s Most Prolific Developers.  Calin Culianu is the #1 contributor to the Electron Cash project. Also, he contributes to BCHN, and has created the Fulcrum server. Definitely a Bitcoin Cash hero in my book. I picked his brain a bit about all things Bitcoin Cash, and got some juicy answers. Calin likes to talk, so let&#8217;s check it out. [&#8230;]The post A Conversation with One of Bitcoin Cash’s Most Prolific Developers appeared first on Bitcoin News. ... [| Skaityti daugiau](https://news.bitcoin.com/a-conversation-with-one-of-bitcoin-cashs-most-prolific-developers/) "
      ],
      "text/plain": [
       "<IPython.core.display.Markdown object>"
      ]
     },
     "execution_count": 3,
     "metadata": {},
     "output_type": "execute_result"
    }
   ],
   "source": [
    "#hide_input\n",
    "#md('##### {}'.format(titleBTC)) \n",
    "md(\"- {}{} {}{} [| Skaityti daugiau]({}) \".format(blockchain['title'],'. ', blockchain['body'], ' ...', blockchain['url']))"
   ]
  },
  {
   "cell_type": "code",
   "execution_count": 4,
   "metadata": {
    "execution": {
     "iopub.execute_input": "2021-01-08T05:33:30.765508Z",
     "iopub.status.busy": "2021-01-08T05:33:30.764901Z",
     "iopub.status.idle": "2021-01-08T05:33:30.768320Z",
     "shell.execute_reply": "2021-01-08T05:33:30.767714Z"
    },
    "papermill": {
     "duration": 0.016936,
     "end_time": "2021-01-08T05:33:30.768450",
     "exception": false,
     "start_time": "2021-01-08T05:33:30.751514",
     "status": "completed"
    },
    "tags": []
   },
   "outputs": [
    {
     "data": {
      "text/markdown": [
       "- As Bitcoin (BTC) Hits $40,000, Grayscale Sees Rising Interest From Pension Funds and Endowments.  In a massive crypto market rally, Bitcoin (BTC) price surged all the way to $40,000 hitting a new all-time high. The massive rally came on Thursday, January 7 when BTC added $5000 to its price in a single day moving from under $35K to all the way up to $40K. Also, with the current price The post As Bitcoin (BTC) Hits $40,000, Grayscale Sees Rising Interest From Pension Funds and Endowments appeared first on Coingape. ... [| Skaityti daugiau](https://coingape.com/bitcoin-btc-hits-40000-grayscale-sees-rising-interest-pension-funds-endowments/) "
      ],
      "text/plain": [
       "<IPython.core.display.Markdown object>"
      ]
     },
     "execution_count": 4,
     "metadata": {},
     "output_type": "execute_result"
    }
   ],
   "source": [
    "#hide_input\n",
    "#md('##### {}'.format(titleBTC)) \n",
    "md(\"- {}{} {}{} [| Skaityti daugiau]({}) \".format(btc['title'],'. ', btc['body'], ' ...', btc['url']))"
   ]
  },
  {
   "cell_type": "code",
   "execution_count": 5,
   "metadata": {
    "execution": {
     "iopub.execute_input": "2021-01-08T05:33:30.793267Z",
     "iopub.status.busy": "2021-01-08T05:33:30.792664Z",
     "iopub.status.idle": "2021-01-08T05:33:30.795671Z",
     "shell.execute_reply": "2021-01-08T05:33:30.796237Z"
    },
    "papermill": {
     "duration": 0.018369,
     "end_time": "2021-01-08T05:33:30.796387",
     "exception": false,
     "start_time": "2021-01-08T05:33:30.778018",
     "status": "completed"
    },
    "tags": []
   },
   "outputs": [
    {
     "data": {
      "text/markdown": [
       "- Ripple CEO Talks About the XRP Lawsuit And Other Hot Topics.  Why is Ripple so Silent about the SEC lawsuit? Did it pay exchanges to list XRP? What about the future? Brad Garlinghouse answered these questions... and more. ... [| Skaityti daugiau](https://cryptopotato.com/ripple-ceo-talks-about-xrp-lawsuit/) "
      ],
      "text/plain": [
       "<IPython.core.display.Markdown object>"
      ]
     },
     "execution_count": 5,
     "metadata": {},
     "output_type": "execute_result"
    }
   ],
   "source": [
    "#hide_input\n",
    "#md('##### {}'.format(titleBTC)) \n",
    "md(\"- {}{} {}{} [| Skaityti daugiau]({}) \".format(xrp['title'],'. ', xrp['body'], ' ...', xrp['url']))"
   ]
  },
  {
   "cell_type": "code",
   "execution_count": 6,
   "metadata": {
    "execution": {
     "iopub.execute_input": "2021-01-08T05:33:30.820897Z",
     "iopub.status.busy": "2021-01-08T05:33:30.819764Z",
     "iopub.status.idle": "2021-01-08T05:33:30.824720Z",
     "shell.execute_reply": "2021-01-08T05:33:30.824124Z"
    },
    "papermill": {
     "duration": 0.01894,
     "end_time": "2021-01-08T05:33:30.824861",
     "exception": false,
     "start_time": "2021-01-08T05:33:30.805921",
     "status": "completed"
    },
    "tags": []
   },
   "outputs": [
    {
     "data": {
      "text/markdown": [
       "- XRP, Tron, Zcash Price Analysis: 07 January.  XRP appeared to have reversed its month-long downtrend, but since many exchanges are set on delisting the cryptocurrency over the next few weeks, some selling pressure may be incoming. Tron registered a sharp move to the upside and tested the resistance at $0.03, while Zcash noted consistent selling and was unlikely to rise past $71. [&#8230;] ... [| Skaityti daugiau](https://ambcrypto.com/xrp-tron-zcash-price-analysis-07-january/) "
      ],
      "text/plain": [
       "<IPython.core.display.Markdown object>"
      ]
     },
     "execution_count": 6,
     "metadata": {},
     "output_type": "execute_result"
    }
   ],
   "source": [
    "#hide_input\n",
    "#md('##### {}'.format(titleBTC)) \n",
    "md(\"- {}{} {}{} [| Skaityti daugiau]({}) \".format(trx['title'],'. ', trx['body'], ' ...', trx['url']))"
   ]
  },
  {
   "cell_type": "code",
   "execution_count": 7,
   "metadata": {
    "execution": {
     "iopub.execute_input": "2021-01-08T05:33:30.851032Z",
     "iopub.status.busy": "2021-01-08T05:33:30.850396Z",
     "iopub.status.idle": "2021-01-08T05:33:30.852568Z",
     "shell.execute_reply": "2021-01-08T05:33:30.853039Z"
    },
    "papermill": {
     "duration": 0.017796,
     "end_time": "2021-01-08T05:33:30.853187",
     "exception": false,
     "start_time": "2021-01-08T05:33:30.835391",
     "status": "completed"
    },
    "tags": []
   },
   "outputs": [
    {
     "data": {
      "text/markdown": [
       "- Google searches for 'Ethereum' hit all-time high.  Not many crypto search terms have come close to their peaks in spite of the new bull market, but Ethereum is a notable exception. ... [| Skaityti daugiau](https://cointelegraph.com/news/google-searches-for-ethereum-hit-all-time-high) "
      ],
      "text/plain": [
       "<IPython.core.display.Markdown object>"
      ]
     },
     "execution_count": 7,
     "metadata": {},
     "output_type": "execute_result"
    }
   ],
   "source": [
    "#hide_input\n",
    "#md('##### {}'.format(titleBTC)) \n",
    "md(\"- {}{} {}{} [| Skaityti daugiau]({}) \".format(eth['title'],'. ', eth['body'], ' ...', eth['url']))"
   ]
  },
  {
   "cell_type": "code",
   "execution_count": 8,
   "metadata": {
    "execution": {
     "iopub.execute_input": "2021-01-08T05:33:30.878530Z",
     "iopub.status.busy": "2021-01-08T05:33:30.877927Z",
     "iopub.status.idle": "2021-01-08T05:33:30.880978Z",
     "shell.execute_reply": "2021-01-08T05:33:30.880387Z"
    },
    "papermill": {
     "duration": 0.018018,
     "end_time": "2021-01-08T05:33:30.881108",
     "exception": false,
     "start_time": "2021-01-08T05:33:30.863090",
     "status": "completed"
    },
    "tags": []
   },
   "outputs": [
    {
     "data": {
      "text/markdown": [
       "- Cardano Price Analysis: 07 January.  Disclaimer: The findings of the following analysis are the sole opinions of the writer and should not be taken as investment advice Cardano’s price has benefited greatly from Bitcoin’s bull run. Over the past week, the cryptocurrency’s price saw a whopping 88 percent hike. Even in the short-term, i.e. in the past 24-hours, such strong bullish [&#8230;] ... [| Skaityti daugiau](https://ambcrypto.com/cardano-price-analysis-07-january/) "
      ],
      "text/plain": [
       "<IPython.core.display.Markdown object>"
      ]
     },
     "execution_count": 8,
     "metadata": {},
     "output_type": "execute_result"
    }
   ],
   "source": [
    "#hide_input\n",
    "#md('##### {}'.format(titleBTC)) \n",
    "md(\"- {}{} {}{} [| Skaityti daugiau]({}) \".format(ada['title'],'. ', ada['body'], ' ...', ada['url']))"
   ]
  },
  {
   "cell_type": "code",
   "execution_count": 9,
   "metadata": {
    "execution": {
     "iopub.execute_input": "2021-01-08T05:33:30.907309Z",
     "iopub.status.busy": "2021-01-08T05:33:30.906650Z",
     "iopub.status.idle": "2021-01-08T05:33:30.909016Z",
     "shell.execute_reply": "2021-01-08T05:33:30.909566Z"
    },
    "papermill": {
     "duration": 0.018122,
     "end_time": "2021-01-08T05:33:30.909716",
     "exception": false,
     "start_time": "2021-01-08T05:33:30.891594",
     "status": "completed"
    },
    "tags": []
   },
   "outputs": [
    {
     "data": {
      "text/markdown": [
       "- New Online System at Mt. Gox May Be Used to Facilitate Bitcoin Refunds to Creditors, Says Trustee.  Mt. Gox&#8217;s trustee, Nobuaki Kobayashi, has asked creditors of the defunct crypto exchange to register on a new online system so that they might receive their refunds and be able to vote on the civil rehabilitation plan. &#9679; In a statement released Jan. 7, Kobayashi said the registration targets those creditors who have already filed [&#8230;]The post New Online System at Mt. Gox May Be Used to Facilitate Bitcoin Refunds to Creditors, Says Trustee appeared first on Bitcoin News. ... [| Skaityti daugiau](https://news.bitcoin.com/new-online-system-at-mt-gox-may-be-used-to-facilitate-bitcoin-refunds-to-creditors-says-trustee/) "
      ],
      "text/plain": [
       "<IPython.core.display.Markdown object>"
      ]
     },
     "execution_count": 9,
     "metadata": {},
     "output_type": "execute_result"
    }
   ],
   "source": [
    "#hide_input\n",
    "#md('##### {}'.format(titleBTC)) \n",
    "md(\"- {}{} {}{} [| Skaityti daugiau]({}) \".format(exchange['title'],'. ', exchange['body'], ' ...', exchange['url']))"
   ]
  },
  {
   "cell_type": "code",
   "execution_count": null,
   "metadata": {
    "papermill": {
     "duration": 0.010643,
     "end_time": "2021-01-08T05:33:30.931090",
     "exception": false,
     "start_time": "2021-01-08T05:33:30.920447",
     "status": "completed"
    },
    "tags": []
   },
   "outputs": [],
   "source": []
  },
  {
   "cell_type": "code",
   "execution_count": null,
   "metadata": {
    "papermill": {
     "duration": 0.010737,
     "end_time": "2021-01-08T05:33:30.952720",
     "exception": false,
     "start_time": "2021-01-08T05:33:30.941983",
     "status": "completed"
    },
    "tags": []
   },
   "outputs": [],
   "source": []
  }
 ],
 "metadata": {
  "kernelspec": {
   "display_name": "Python 3",
   "language": "python",
   "name": "python3"
  },
  "language_info": {
   "codemirror_mode": {
    "name": "ipython",
    "version": 3
   },
   "file_extension": ".py",
   "mimetype": "text/x-python",
   "name": "python",
   "nbconvert_exporter": "python",
   "pygments_lexer": "ipython3",
   "version": "3.6.12"
  },
  "papermill": {
   "default_parameters": {},
   "duration": 14.329949,
   "end_time": "2021-01-08T05:33:32.371118",
   "environment_variables": {},
   "exception": null,
   "input_path": "Market-News.ipynb",
   "output_path": "Market-News.ipynb",
   "parameters": {},
   "start_time": "2021-01-08T05:33:18.041169",
   "version": "2.2.2"
  }
 },
 "nbformat": 4,
 "nbformat_minor": 4
}