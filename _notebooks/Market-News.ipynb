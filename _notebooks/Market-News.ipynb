{
 "cells": [
  {
   "cell_type": "markdown",
   "id": "short-greensboro",
   "metadata": {
    "papermill": {
     "duration": 0.013415,
     "end_time": "2021-07-11T02:02:03.742968",
     "exception": false,
     "start_time": "2021-07-11T02:02:03.729553",
     "status": "completed"
    },
    "tags": []
   },
   "source": [
    "# Kriptovaliutų naujienos"
   ]
  },
  {
   "cell_type": "code",
   "execution_count": 1,
   "id": "functioning-knowing",
   "metadata": {
    "execution": {
     "iopub.execute_input": "2021-07-11T02:02:03.771678Z",
     "iopub.status.busy": "2021-07-11T02:02:03.771174Z",
     "iopub.status.idle": "2021-07-11T02:02:04.925919Z",
     "shell.execute_reply": "2021-07-11T02:02:04.925380Z"
    },
    "papermill": {
     "duration": 1.173494,
     "end_time": "2021-07-11T02:02:04.926074",
     "exception": false,
     "start_time": "2021-07-11T02:02:03.752580",
     "status": "completed"
    },
    "tags": []
   },
   "outputs": [],
   "source": [
    "#hide_input\n",
    "import warnings\n",
    "warnings.filterwarnings('ignore')\n",
    "from scripts.read_data import read_api\n",
    "from scripts.read_data import read_news\n",
    "from scripts.read_data import read_covid\n",
    "import matplotlib.pyplot as plt \n",
    "from IPython.display import Markdown as md"
   ]
  },
  {
   "cell_type": "code",
   "execution_count": 2,
   "id": "shared-acceptance",
   "metadata": {
    "execution": {
     "iopub.execute_input": "2021-07-11T02:02:04.950979Z",
     "iopub.status.busy": "2021-07-11T02:02:04.950482Z",
     "iopub.status.idle": "2021-07-11T02:02:13.141221Z",
     "shell.execute_reply": "2021-07-11T02:02:13.140712Z"
    },
    "papermill": {
     "duration": 8.20542,
     "end_time": "2021-07-11T02:02:13.141347",
     "exception": false,
     "start_time": "2021-07-11T02:02:04.935927",
     "status": "completed"
    },
    "tags": []
   },
   "outputs": [],
   "source": [
    "#hide_input\n",
    "blockchain = read_news('blockchain') \n",
    "btc = read_news('btc') \n",
    "xrp = read_news('xrp') \n",
    "trx = read_news('trx') \n",
    "eth = read_news('eth')  \n",
    "ada = read_news('ada')\n",
    "exchange = read_news('exchange') "
   ]
  },
  {
   "cell_type": "code",
   "execution_count": 3,
   "id": "synthetic-notion",
   "metadata": {
    "execution": {
     "iopub.execute_input": "2021-07-11T02:02:13.166338Z",
     "iopub.status.busy": "2021-07-11T02:02:13.165846Z",
     "iopub.status.idle": "2021-07-11T02:02:13.169378Z",
     "shell.execute_reply": "2021-07-11T02:02:13.169752Z"
    },
    "papermill": {
     "duration": 0.019105,
     "end_time": "2021-07-11T02:02:13.169863",
     "exception": false,
     "start_time": "2021-07-11T02:02:13.150758",
     "status": "completed"
    },
    "tags": []
   },
   "outputs": [
    {
     "data": {
      "text/markdown": [
       "- Charles Hoskinson Responds to Cardano Critics Questioning the Platform’s Traction.  Cardano founder and IOHK (Input Output Hong Kong) CEO Charles Hoskinson is responding to critics of the blockchain platform and its native crypto asset, ADA. Ethereum advocate and owner of This Week in Ethereum, Evan Van Ness, recently scrutinized the number of transactions settled on the Cardano network relative to its market cap. &#8220;Do people [&#8230;]The post Charles Hoskinson Responds to Cardano Critics Questioning the Platform&#8217;s Traction appeared first on The Daily Hodl. ... [| Skaityti daugiau](https://dailyhodl.com/2021/07/10/those-who-criticize-cardano-are-misinformed-or-malicious-says-charles-hoskinson/) "
      ],
      "text/plain": [
       "<IPython.core.display.Markdown object>"
      ]
     },
     "execution_count": 3,
     "metadata": {},
     "output_type": "execute_result"
    }
   ],
   "source": [
    "#hide_input\n",
    "#md('##### {}'.format(titleBTC)) \n",
    "md(\"- {}{} {}{} [| Skaityti daugiau]({}) \".format(blockchain['title'],'. ', blockchain['body'], ' ...', blockchain['url']))"
   ]
  },
  {
   "cell_type": "code",
   "execution_count": 4,
   "id": "aging-caution",
   "metadata": {
    "execution": {
     "iopub.execute_input": "2021-07-11T02:02:13.192984Z",
     "iopub.status.busy": "2021-07-11T02:02:13.192412Z",
     "iopub.status.idle": "2021-07-11T02:02:13.194476Z",
     "shell.execute_reply": "2021-07-11T02:02:13.195007Z"
    },
    "papermill": {
     "duration": 0.015999,
     "end_time": "2021-07-11T02:02:13.195132",
     "exception": false,
     "start_time": "2021-07-11T02:02:13.179133",
     "status": "completed"
    },
    "tags": []
   },
   "outputs": [
    {
     "data": {
      "text/markdown": [
       "- US Senator Invests in Bitcoin and Ethereum via Grayscale.  U.S. Senator Patrick Toomey has declared investments in Grayscale&#8217;s bitcoin and ethereum trusts. His declaration shortly followed one by fellow congressman, U.S. Representative Barry Moore, who declared that he had invested in dogecoin, ether, and cardano. Senator Pat Toomey&#8217;s Cryptocurrency Investments A growing number of U.S. lawmakers are investing in cryptocurrencies or crypto-related investments. According [&#8230;] ... [| Skaityti daugiau](https://news.bitcoin.com/us-senator-invests-in-bitcoin-and-ethereum-grayscale/) "
      ],
      "text/plain": [
       "<IPython.core.display.Markdown object>"
      ]
     },
     "execution_count": 4,
     "metadata": {},
     "output_type": "execute_result"
    }
   ],
   "source": [
    "#hide_input\n",
    "#md('##### {}'.format(titleBTC)) \n",
    "md(\"- {}{} {}{} [| Skaityti daugiau]({}) \".format(btc['title'],'. ', btc['body'], ' ...', btc['url']))"
   ]
  },
  {
   "cell_type": "code",
   "execution_count": 5,
   "id": "organic-actress",
   "metadata": {
    "execution": {
     "iopub.execute_input": "2021-07-11T02:02:13.218450Z",
     "iopub.status.busy": "2021-07-11T02:02:13.217958Z",
     "iopub.status.idle": "2021-07-11T02:02:13.220481Z",
     "shell.execute_reply": "2021-07-11T02:02:13.220901Z"
    },
    "papermill": {
     "duration": 0.016227,
     "end_time": "2021-07-11T02:02:13.221007",
     "exception": false,
     "start_time": "2021-07-11T02:02:13.204780",
     "status": "completed"
    },
    "tags": []
   },
   "outputs": [
    {
     "data": {
      "text/markdown": [
       "- When can traders go long on XRP?.  Disclaimer: The findings of the following article are the sole opinions of the writer and should not be taken as investment advice While the XRP market was building up towards a symmetrical breakout and a possible climb towards the $1 level, bulls were unable to contain selling pressure over the past few days. In fact, the [&#8230;] ... [| Skaityti daugiau](https://ambcrypto.com/when-can-traders-go-long-on-xrp/) "
      ],
      "text/plain": [
       "<IPython.core.display.Markdown object>"
      ]
     },
     "execution_count": 5,
     "metadata": {},
     "output_type": "execute_result"
    }
   ],
   "source": [
    "#hide_input\n",
    "#md('##### {}'.format(titleBTC)) \n",
    "md(\"- {}{} {}{} [| Skaityti daugiau]({}) \".format(xrp['title'],'. ', xrp['body'], ' ...', xrp['url']))"
   ]
  },
  {
   "cell_type": "code",
   "execution_count": 6,
   "id": "prompt-farmer",
   "metadata": {
    "execution": {
     "iopub.execute_input": "2021-07-11T02:02:13.245125Z",
     "iopub.status.busy": "2021-07-11T02:02:13.244638Z",
     "iopub.status.idle": "2021-07-11T02:02:13.247703Z",
     "shell.execute_reply": "2021-07-11T02:02:13.247313Z"
    },
    "papermill": {
     "duration": 0.016872,
     "end_time": "2021-07-11T02:02:13.247820",
     "exception": false,
     "start_time": "2021-07-11T02:02:13.230948",
     "status": "completed"
    },
    "tags": []
   },
   "outputs": [
    {
     "data": {
      "text/markdown": [
       "- Tron’s (TRX) Daily Transaction Count Has Grown by 522% in One Year.  The daily transaction count on the Tron network has grown by 522% in the last year Tron recently hit an all-time high in daily transactions at 9.278 million The growth of unique accounts on Tron continues to grow in a parabolic manner with the network hosting 45.160 million total accounts However, TRX/USDT is about to experience a death cross that should usher in a bearish time period for Tron Yesterday, the Tron (TRX) network hit a new all-time high in [&#8230;] ... [| Skaityti daugiau](https://en.ethereumworldnews.com/trons-trx-daily-transaction-count-has-grown-by-522-in-one-year/) "
      ],
      "text/plain": [
       "<IPython.core.display.Markdown object>"
      ]
     },
     "execution_count": 6,
     "metadata": {},
     "output_type": "execute_result"
    }
   ],
   "source": [
    "#hide_input\n",
    "#md('##### {}'.format(titleBTC)) \n",
    "md(\"- {}{} {}{} [| Skaityti daugiau]({}) \".format(trx['title'],'. ', trx['body'], ' ...', trx['url']))"
   ]
  },
  {
   "cell_type": "code",
   "execution_count": 7,
   "id": "illegal-greece",
   "metadata": {
    "execution": {
     "iopub.execute_input": "2021-07-11T02:02:13.272625Z",
     "iopub.status.busy": "2021-07-11T02:02:13.272133Z",
     "iopub.status.idle": "2021-07-11T02:02:13.274472Z",
     "shell.execute_reply": "2021-07-11T02:02:13.274889Z"
    },
    "papermill": {
     "duration": 0.016785,
     "end_time": "2021-07-11T02:02:13.274993",
     "exception": false,
     "start_time": "2021-07-11T02:02:13.258208",
     "status": "completed"
    },
    "tags": []
   },
   "outputs": [
    {
     "data": {
      "text/markdown": [
       "- US Senator Invests in Bitcoin and Ethereum via Grayscale.  U.S. Senator Patrick Toomey has declared investments in Grayscale&#8217;s bitcoin and ethereum trusts. His declaration shortly followed one by fellow congressman, U.S. Representative Barry Moore, who declared that he had invested in dogecoin, ether, and cardano. Senator Pat Toomey&#8217;s Cryptocurrency Investments A growing number of U.S. lawmakers are investing in cryptocurrencies or crypto-related investments. According [&#8230;] ... [| Skaityti daugiau](https://news.bitcoin.com/us-senator-invests-in-bitcoin-and-ethereum-grayscale/) "
      ],
      "text/plain": [
       "<IPython.core.display.Markdown object>"
      ]
     },
     "execution_count": 7,
     "metadata": {},
     "output_type": "execute_result"
    }
   ],
   "source": [
    "#hide_input\n",
    "#md('##### {}'.format(titleBTC)) \n",
    "md(\"- {}{} {}{} [| Skaityti daugiau]({}) \".format(eth['title'],'. ', eth['body'], ' ...', eth['url']))"
   ]
  },
  {
   "cell_type": "code",
   "execution_count": 8,
   "id": "sublime-lounge",
   "metadata": {
    "execution": {
     "iopub.execute_input": "2021-07-11T02:02:13.300368Z",
     "iopub.status.busy": "2021-07-11T02:02:13.299865Z",
     "iopub.status.idle": "2021-07-11T02:02:13.302977Z",
     "shell.execute_reply": "2021-07-11T02:02:13.302584Z"
    },
    "papermill": {
     "duration": 0.017513,
     "end_time": "2021-07-11T02:02:13.303073",
     "exception": false,
     "start_time": "2021-07-11T02:02:13.285560",
     "status": "completed"
    },
    "tags": []
   },
   "outputs": [
    {
     "data": {
      "text/markdown": [
       "- US Senator Invests in Bitcoin and Ethereum via Grayscale.  U.S. Senator Patrick Toomey has declared investments in Grayscale&#8217;s bitcoin and ethereum trusts. His declaration shortly followed one by fellow congressman, U.S. Representative Barry Moore, who declared that he had invested in dogecoin, ether, and cardano. Senator Pat Toomey&#8217;s Cryptocurrency Investments A growing number of U.S. lawmakers are investing in cryptocurrencies or crypto-related investments. According [&#8230;] ... [| Skaityti daugiau](https://news.bitcoin.com/us-senator-invests-in-bitcoin-and-ethereum-grayscale/) "
      ],
      "text/plain": [
       "<IPython.core.display.Markdown object>"
      ]
     },
     "execution_count": 8,
     "metadata": {},
     "output_type": "execute_result"
    }
   ],
   "source": [
    "#hide_input\n",
    "#md('##### {}'.format(titleBTC)) \n",
    "md(\"- {}{} {}{} [| Skaityti daugiau]({}) \".format(ada['title'],'. ', ada['body'], ' ...', ada['url']))"
   ]
  },
  {
   "cell_type": "code",
   "execution_count": 9,
   "id": "specified-ordering",
   "metadata": {
    "execution": {
     "iopub.execute_input": "2021-07-11T02:02:13.328927Z",
     "iopub.status.busy": "2021-07-11T02:02:13.328440Z",
     "iopub.status.idle": "2021-07-11T02:02:13.331291Z",
     "shell.execute_reply": "2021-07-11T02:02:13.330874Z"
    },
    "papermill": {
     "duration": 0.017334,
     "end_time": "2021-07-11T02:02:13.331383",
     "exception": false,
     "start_time": "2021-07-11T02:02:13.314049",
     "status": "completed"
    },
    "tags": []
   },
   "outputs": [
    {
     "data": {
      "text/markdown": [
       "- Bloomberg Takes A Jibe at Binance, Calls Founder CZ Elusive.  Bloomberg business in a shocking post today took a jibe at largest cryptocurrency exchange Binance and its founder Changpeng Zhao aka CZ. The instagram post called Binance as the most craziest thing in cryptocurrency realm and Binance founder Changpeng Zhao elusive. &#8216;For Now, It&#8217;s the largest Crypto Exchange&#8221; Earlier today Bloomberg, a pioneer in online The post Bloomberg Takes A Jibe at Binance, Calls Founder CZ Elusive appeared first on Coingape. ... [| Skaityti daugiau](https://coingape.com/bloomberg-takes-a-jibe-at-binance-calls-founder-cz-elusive/) "
      ],
      "text/plain": [
       "<IPython.core.display.Markdown object>"
      ]
     },
     "execution_count": 9,
     "metadata": {},
     "output_type": "execute_result"
    }
   ],
   "source": [
    "#hide_input\n",
    "#md('##### {}'.format(titleBTC)) \n",
    "md(\"- {}{} {}{} [| Skaityti daugiau]({}) \".format(exchange['title'],'. ', exchange['body'], ' ...', exchange['url']))"
   ]
  },
  {
   "cell_type": "code",
   "execution_count": null,
   "id": "tender-livestock",
   "metadata": {
    "papermill": {
     "duration": 0.011207,
     "end_time": "2021-07-11T02:02:13.353782",
     "exception": false,
     "start_time": "2021-07-11T02:02:13.342575",
     "status": "completed"
    },
    "tags": []
   },
   "outputs": [],
   "source": []
  },
  {
   "cell_type": "code",
   "execution_count": null,
   "id": "appreciated-diamond",
   "metadata": {
    "papermill": {
     "duration": 0.011189,
     "end_time": "2021-07-11T02:02:13.376380",
     "exception": false,
     "start_time": "2021-07-11T02:02:13.365191",
     "status": "completed"
    },
    "tags": []
   },
   "outputs": [],
   "source": []
  },
  {
   "cell_type": "code",
   "execution_count": null,
   "id": "romance-sweden",
   "metadata": {
    "papermill": {
     "duration": 0.011183,
     "end_time": "2021-07-11T02:02:13.398801",
     "exception": false,
     "start_time": "2021-07-11T02:02:13.387618",
     "status": "completed"
    },
    "tags": []
   },
   "outputs": [],
   "source": []
  },
  {
   "cell_type": "code",
   "execution_count": null,
   "id": "dietary-statistics",
   "metadata": {
    "papermill": {
     "duration": 0.011153,
     "end_time": "2021-07-11T02:02:13.421177",
     "exception": false,
     "start_time": "2021-07-11T02:02:13.410024",
     "status": "completed"
    },
    "tags": []
   },
   "outputs": [],
   "source": []
  }
 ],
 "metadata": {
  "kernelspec": {
   "display_name": "Python 3",
   "language": "python",
   "name": "python3"
  },
  "language_info": {
   "codemirror_mode": {
    "name": "ipython",
    "version": 3
   },
   "file_extension": ".py",
   "mimetype": "text/x-python",
   "name": "python",
   "nbconvert_exporter": "python",
   "pygments_lexer": "ipython3",
   "version": "3.6.13"
  },
  "papermill": {
   "default_parameters": {},
   "duration": 11.132468,
   "end_time": "2021-07-11T02:02:13.839294",
   "environment_variables": {},
   "exception": null,
   "input_path": "Market-News.ipynb",
   "output_path": "Market-News.ipynb",
   "parameters": {},
   "start_time": "2021-07-11T02:02:02.706826",
   "version": "2.2.2"
  }
 },
 "nbformat": 4,
 "nbformat_minor": 5
}