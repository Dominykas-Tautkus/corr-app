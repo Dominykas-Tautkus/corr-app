{
 "cells": [
  {
   "cell_type": "markdown",
   "id": "short-greensboro",
   "metadata": {
    "papermill": {
     "duration": 0.014067,
     "end_time": "2021-06-26T01:54:29.813341",
     "exception": false,
     "start_time": "2021-06-26T01:54:29.799274",
     "status": "completed"
    },
    "tags": []
   },
   "source": [
    "# Kriptovaliutų naujienos"
   ]
  },
  {
   "cell_type": "code",
   "execution_count": 1,
   "id": "functioning-knowing",
   "metadata": {
    "execution": {
     "iopub.execute_input": "2021-06-26T01:54:29.843245Z",
     "iopub.status.busy": "2021-06-26T01:54:29.842690Z",
     "iopub.status.idle": "2021-06-26T01:54:31.035321Z",
     "shell.execute_reply": "2021-06-26T01:54:31.034793Z"
    },
    "papermill": {
     "duration": 1.212355,
     "end_time": "2021-06-26T01:54:31.035470",
     "exception": false,
     "start_time": "2021-06-26T01:54:29.823115",
     "status": "completed"
    },
    "tags": []
   },
   "outputs": [],
   "source": [
    "#hide_input\n",
    "import warnings\n",
    "warnings.filterwarnings('ignore')\n",
    "from scripts.read_data import read_api\n",
    "from scripts.read_data import read_news\n",
    "from scripts.read_data import read_covid\n",
    "import matplotlib.pyplot as plt \n",
    "from IPython.display import Markdown as md"
   ]
  },
  {
   "cell_type": "code",
   "execution_count": 2,
   "id": "shared-acceptance",
   "metadata": {
    "execution": {
     "iopub.execute_input": "2021-06-26T01:54:31.061961Z",
     "iopub.status.busy": "2021-06-26T01:54:31.060993Z",
     "iopub.status.idle": "2021-06-26T01:54:40.316831Z",
     "shell.execute_reply": "2021-06-26T01:54:40.316375Z"
    },
    "papermill": {
     "duration": 9.270894,
     "end_time": "2021-06-26T01:54:40.316960",
     "exception": false,
     "start_time": "2021-06-26T01:54:31.046066",
     "status": "completed"
    },
    "tags": []
   },
   "outputs": [],
   "source": [
    "#hide_input\n",
    "blockchain = read_news('blockchain') \n",
    "btc = read_news('btc') \n",
    "xrp = read_news('xrp') \n",
    "trx = read_news('trx') \n",
    "eth = read_news('eth')  \n",
    "ada = read_news('ada')\n",
    "exchange = read_news('exchange') "
   ]
  },
  {
   "cell_type": "code",
   "execution_count": 3,
   "id": "synthetic-notion",
   "metadata": {
    "execution": {
     "iopub.execute_input": "2021-06-26T01:54:40.342347Z",
     "iopub.status.busy": "2021-06-26T01:54:40.341786Z",
     "iopub.status.idle": "2021-06-26T01:54:40.345857Z",
     "shell.execute_reply": "2021-06-26T01:54:40.345449Z"
    },
    "papermill": {
     "duration": 0.019647,
     "end_time": "2021-06-26T01:54:40.345970",
     "exception": false,
     "start_time": "2021-06-26T01:54:40.326323",
     "status": "completed"
    },
    "tags": []
   },
   "outputs": [
    {
     "data": {
      "text/markdown": [
       "- First Bitcoin ETF in Latam Debuts on Brazil Stock Exchange.  The first Bitcoin ETF in Latin America made its debut yesterday on the Brazil Stock Exchange. Presented by QR Capital, a Brazilian blockchain investment firm, the ETF seeks to simplify Bitcoin exposure for institutions and companies. The ETF was approved by Brazilian regulators and is currently trading with the QBTC11 ticker. Bitcoin ETF Makes It [&#8230;] ... [| Skaityti daugiau](https://news.bitcoin.com/first-bitcoin-etf-in-latam-debuts-on-brazil-stock-exchange/) "
      ],
      "text/plain": [
       "<IPython.core.display.Markdown object>"
      ]
     },
     "execution_count": 3,
     "metadata": {},
     "output_type": "execute_result"
    }
   ],
   "source": [
    "#hide_input\n",
    "#md('##### {}'.format(titleBTC)) \n",
    "md(\"- {}{} {}{} [| Skaityti daugiau]({}) \".format(blockchain['title'],'. ', blockchain['body'], ' ...', blockchain['url']))"
   ]
  },
  {
   "cell_type": "code",
   "execution_count": 4,
   "id": "aging-caution",
   "metadata": {
    "execution": {
     "iopub.execute_input": "2021-06-26T01:54:40.369485Z",
     "iopub.status.busy": "2021-06-26T01:54:40.368881Z",
     "iopub.status.idle": "2021-06-26T01:54:40.372947Z",
     "shell.execute_reply": "2021-06-26T01:54:40.372472Z"
    },
    "papermill": {
     "duration": 0.01775,
     "end_time": "2021-06-26T01:54:40.373063",
     "exception": false,
     "start_time": "2021-06-26T01:54:40.355313",
     "status": "completed"
    },
    "tags": []
   },
   "outputs": [
    {
     "data": {
      "text/markdown": [
       "- Volcano Mining And President Bukele ’s Bitcoin Insights.  As El Salvador prepares for the Bitcoin law to come into force, Bitcoinist keeps analyzing President Bukele ’s words. And he keeps using the right ones, “The Bitcoin system is so perfect, that I think it’s going to be the future. It’s the present, but it’s going to get bigger in the future.” That was [&#8230;] ... [| Skaityti daugiau](https://bitcoinist.com/volcano-mining-and-president-bukele-s-bitcoin-insights/?utm_source=rss&utm_medium=rss&utm_campaign=volcano-mining-and-president-bukele-s-bitcoin-insights) "
      ],
      "text/plain": [
       "<IPython.core.display.Markdown object>"
      ]
     },
     "execution_count": 4,
     "metadata": {},
     "output_type": "execute_result"
    }
   ],
   "source": [
    "#hide_input\n",
    "#md('##### {}'.format(titleBTC)) \n",
    "md(\"- {}{} {}{} [| Skaityti daugiau]({}) \".format(btc['title'],'. ', btc['body'], ' ...', btc['url']))"
   ]
  },
  {
   "cell_type": "code",
   "execution_count": 5,
   "id": "organic-actress",
   "metadata": {
    "execution": {
     "iopub.execute_input": "2021-06-26T01:54:40.397083Z",
     "iopub.status.busy": "2021-06-26T01:54:40.396586Z",
     "iopub.status.idle": "2021-06-26T01:54:40.399264Z",
     "shell.execute_reply": "2021-06-26T01:54:40.398851Z"
    },
    "papermill": {
     "duration": 0.016483,
     "end_time": "2021-06-26T01:54:40.399366",
     "exception": false,
     "start_time": "2021-06-26T01:54:40.382883",
     "status": "completed"
    },
    "tags": []
   },
   "outputs": [
    {
     "data": {
      "text/markdown": [
       "- XRP being assessed by the Howey Test: Why is this relevant today?.  To many, regulatory clarity on the subject of digital assets and cryptocurrencies has, for long, been found wanting. In fact, this has been a common complaint, especially from users and entities and businesses based in the United States. Thanks to the same, not only have some crypto-businesses moved abroad and shut down altogether, but others [&#8230;] ... [| Skaityti daugiau](https://ambcrypto.com/xrp-being-assessed-by-the-howey-test-why-is-this-relevant-today/) "
      ],
      "text/plain": [
       "<IPython.core.display.Markdown object>"
      ]
     },
     "execution_count": 5,
     "metadata": {},
     "output_type": "execute_result"
    }
   ],
   "source": [
    "#hide_input\n",
    "#md('##### {}'.format(titleBTC)) \n",
    "md(\"- {}{} {}{} [| Skaityti daugiau]({}) \".format(xrp['title'],'. ', xrp['body'], ' ...', xrp['url']))"
   ]
  },
  {
   "cell_type": "code",
   "execution_count": 6,
   "id": "prompt-farmer",
   "metadata": {
    "execution": {
     "iopub.execute_input": "2021-06-26T01:54:40.423842Z",
     "iopub.status.busy": "2021-06-26T01:54:40.423310Z",
     "iopub.status.idle": "2021-06-26T01:54:40.426037Z",
     "shell.execute_reply": "2021-06-26T01:54:40.426492Z"
    },
    "papermill": {
     "duration": 0.01733,
     "end_time": "2021-06-26T01:54:40.426605",
     "exception": false,
     "start_time": "2021-06-26T01:54:40.409275",
     "status": "completed"
    },
    "tags": []
   },
   "outputs": [
    {
     "data": {
      "text/markdown": [
       "- Binance Coin, Tron, UNI Price Analysis: 25 June.  Major cryptos gained back some ground after facing some major losses on Tuesday. After dropping below $30,000 for the first time since January, Bitcoin was back to $34,213 at the time of writing, hiking by 3.1% over the past 24 hours. Major altcoins like Binance Coin, Tron, and UNI also profited off the back of [&#8230;] ... [| Skaityti daugiau](https://ambcrypto.com/binance-coin-tron-uni-price-analysis-25-june/) "
      ],
      "text/plain": [
       "<IPython.core.display.Markdown object>"
      ]
     },
     "execution_count": 6,
     "metadata": {},
     "output_type": "execute_result"
    }
   ],
   "source": [
    "#hide_input\n",
    "#md('##### {}'.format(titleBTC)) \n",
    "md(\"- {}{} {}{} [| Skaityti daugiau]({}) \".format(trx['title'],'. ', trx['body'], ' ...', trx['url']))"
   ]
  },
  {
   "cell_type": "code",
   "execution_count": 7,
   "id": "illegal-greece",
   "metadata": {
    "execution": {
     "iopub.execute_input": "2021-06-26T01:54:40.452700Z",
     "iopub.status.busy": "2021-06-26T01:54:40.452197Z",
     "iopub.status.idle": "2021-06-26T01:54:40.454425Z",
     "shell.execute_reply": "2021-06-26T01:54:40.454847Z"
    },
    "papermill": {
     "duration": 0.017522,
     "end_time": "2021-06-26T01:54:40.454966",
     "exception": false,
     "start_time": "2021-06-26T01:54:40.437444",
     "status": "completed"
    },
    "tags": []
   },
   "outputs": [
    {
     "data": {
      "text/markdown": [
       "- Bitcoin, Ethereum Tank as $4 Billion in Options Expire. Here's Why.  The top two cryptocurrencies are struggling today as a record number of ETH options contracts expire. ... [| Skaityti daugiau](https://decrypt.co/74553/bitcoin-ethereum-tank-4-billion-options-expire) "
      ],
      "text/plain": [
       "<IPython.core.display.Markdown object>"
      ]
     },
     "execution_count": 7,
     "metadata": {},
     "output_type": "execute_result"
    }
   ],
   "source": [
    "#hide_input\n",
    "#md('##### {}'.format(titleBTC)) \n",
    "md(\"- {}{} {}{} [| Skaityti daugiau]({}) \".format(eth['title'],'. ', eth['body'], ' ...', eth['url']))"
   ]
  },
  {
   "cell_type": "code",
   "execution_count": 8,
   "id": "sublime-lounge",
   "metadata": {
    "execution": {
     "iopub.execute_input": "2021-06-26T01:54:40.481007Z",
     "iopub.status.busy": "2021-06-26T01:54:40.480519Z",
     "iopub.status.idle": "2021-06-26T01:54:40.483311Z",
     "shell.execute_reply": "2021-06-26T01:54:40.483686Z"
    },
    "papermill": {
     "duration": 0.018191,
     "end_time": "2021-06-26T01:54:40.483807",
     "exception": false,
     "start_time": "2021-06-26T01:54:40.465616",
     "status": "completed"
    },
    "tags": []
   },
   "outputs": [
    {
     "data": {
      "text/markdown": [
       "- Cardano is looking to pull a “Bitcoin” in El Salvador.  Input Output Global (IOG) CEO Charles Hoskinson said he&#8217;s been in contact with El Salvadorian officials about Cardano. &#8220;Yes, we have been in talks with some officials and parties in El Salvador, and I may do a state visit. We sent out all the documentation and requests for that, so we&#8217;ll meet the President. But [&#8230;] ... [| Skaityti daugiau](https://bitcoinist.com/cardano-is-looking-to-pull-a-bitcoin-in-el-salvador/?utm_source=rss&utm_medium=rss&utm_campaign=cardano-is-looking-to-pull-a-bitcoin-in-el-salvador) "
      ],
      "text/plain": [
       "<IPython.core.display.Markdown object>"
      ]
     },
     "execution_count": 8,
     "metadata": {},
     "output_type": "execute_result"
    }
   ],
   "source": [
    "#hide_input\n",
    "#md('##### {}'.format(titleBTC)) \n",
    "md(\"- {}{} {}{} [| Skaityti daugiau]({}) \".format(ada['title'],'. ', ada['body'], ' ...', ada['url']))"
   ]
  },
  {
   "cell_type": "code",
   "execution_count": 9,
   "id": "specified-ordering",
   "metadata": {
    "execution": {
     "iopub.execute_input": "2021-06-26T01:54:40.510251Z",
     "iopub.status.busy": "2021-06-26T01:54:40.509753Z",
     "iopub.status.idle": "2021-06-26T01:54:40.512896Z",
     "shell.execute_reply": "2021-06-26T01:54:40.512479Z"
    },
    "papermill": {
     "duration": 0.018265,
     "end_time": "2021-06-26T01:54:40.512999",
     "exception": false,
     "start_time": "2021-06-26T01:54:40.494734",
     "status": "completed"
    },
    "tags": []
   },
   "outputs": [
    {
     "data": {
      "text/markdown": [
       "- First Bitcoin ETF in Latam Debuts on Brazil Stock Exchange.  The first Bitcoin ETF in Latin America made its debut yesterday on the Brazil Stock Exchange. Presented by QR Capital, a Brazilian blockchain investment firm, the ETF seeks to simplify Bitcoin exposure for institutions and companies. The ETF was approved by Brazilian regulators and is currently trading with the QBTC11 ticker. Bitcoin ETF Makes It [&#8230;] ... [| Skaityti daugiau](https://news.bitcoin.com/first-bitcoin-etf-in-latam-debuts-on-brazil-stock-exchange/) "
      ],
      "text/plain": [
       "<IPython.core.display.Markdown object>"
      ]
     },
     "execution_count": 9,
     "metadata": {},
     "output_type": "execute_result"
    }
   ],
   "source": [
    "#hide_input\n",
    "#md('##### {}'.format(titleBTC)) \n",
    "md(\"- {}{} {}{} [| Skaityti daugiau]({}) \".format(exchange['title'],'. ', exchange['body'], ' ...', exchange['url']))"
   ]
  },
  {
   "cell_type": "code",
   "execution_count": null,
   "id": "tender-livestock",
   "metadata": {
    "papermill": {
     "duration": 0.011174,
     "end_time": "2021-06-26T01:54:40.535410",
     "exception": false,
     "start_time": "2021-06-26T01:54:40.524236",
     "status": "completed"
    },
    "tags": []
   },
   "outputs": [],
   "source": []
  },
  {
   "cell_type": "code",
   "execution_count": null,
   "id": "appreciated-diamond",
   "metadata": {
    "papermill": {
     "duration": 0.011101,
     "end_time": "2021-06-26T01:54:40.557898",
     "exception": false,
     "start_time": "2021-06-26T01:54:40.546797",
     "status": "completed"
    },
    "tags": []
   },
   "outputs": [],
   "source": []
  },
  {
   "cell_type": "code",
   "execution_count": null,
   "id": "romance-sweden",
   "metadata": {
    "papermill": {
     "duration": 0.011145,
     "end_time": "2021-06-26T01:54:40.580222",
     "exception": false,
     "start_time": "2021-06-26T01:54:40.569077",
     "status": "completed"
    },
    "tags": []
   },
   "outputs": [],
   "source": []
  },
  {
   "cell_type": "code",
   "execution_count": null,
   "id": "dietary-statistics",
   "metadata": {
    "papermill": {
     "duration": 0.011155,
     "end_time": "2021-06-26T01:54:40.602573",
     "exception": false,
     "start_time": "2021-06-26T01:54:40.591418",
     "status": "completed"
    },
    "tags": []
   },
   "outputs": [],
   "source": []
  }
 ],
 "metadata": {
  "kernelspec": {
   "display_name": "Python 3",
   "language": "python",
   "name": "python3"
  },
  "language_info": {
   "codemirror_mode": {
    "name": "ipython",
    "version": 3
   },
   "file_extension": ".py",
   "mimetype": "text/x-python",
   "name": "python",
   "nbconvert_exporter": "python",
   "pygments_lexer": "ipython3",
   "version": "3.6.13"
  },
  "papermill": {
   "default_parameters": {},
   "duration": 13.291607,
   "end_time": "2021-06-26T01:54:42.050075",
   "environment_variables": {},
   "exception": null,
   "input_path": "Market-News.ipynb",
   "output_path": "Market-News.ipynb",
   "parameters": {},
   "start_time": "2021-06-26T01:54:28.758468",
   "version": "2.2.2"
  }
 },
 "nbformat": 4,
 "nbformat_minor": 5
}