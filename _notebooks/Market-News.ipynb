{
 "cells": [
  {
   "cell_type": "markdown",
   "metadata": {},
   "source": [
    "# Kriptovaliutų naujienos"
   ]
  },
  {
   "cell_type": "code",
   "execution_count": 53,
   "metadata": {},
   "outputs": [
    {
     "name": "stdout",
     "output_type": "stream",
     "text": [
      "The autoreload extension is already loaded. To reload it, use:\n",
      "  %reload_ext autoreload\n"
     ]
    }
   ],
   "source": [
    "- toc: true \n",
    "- badges: true\n",
    "- comments: false\n",
    "- categories: [jupyter]\n",
    "#hide\n",
    "%load_ext autoreload\n",
    "%autoreload 2\n",
    "import warnings\n",
    "warnings.filterwarnings('ignore')\n",
    "from scripts.read_data import read_api\n",
    "from scripts.read_data import read_news\n",
    "from scripts.read_data import read_covid\n",
    "import matplotlib.pyplot as plt \n",
    "from IPython.display import Markdown as md\n",
    "sns.set()"
   ]
  },
  {
   "cell_type": "code",
   "execution_count": 54,
   "metadata": {},
   "outputs": [],
   "source": [
    "#hide_input\n",
    "blockchain = read_news('blockchain') \n",
    "btc = read_news('btc') \n",
    "xrp = read_news('xrp') \n",
    "trx = read_news('trx') \n",
    "eth = read_news('eth')  \n",
    "ada = read_news('ada')\n",
    "exchange = read_news('exchange') "
   ]
  },
  {
   "cell_type": "code",
   "execution_count": 55,
   "metadata": {},
   "outputs": [
    {
     "data": {
      "text/markdown": [
       "- Blockchain payment firm Ripple is selling one-third of its stake in MoneyGram..  According to a U.S. Securities and Exchange Commission filing this week, blockchain payments firm owns 6.22 million shares of MoneyGram, or 8.6% of shares outstanding, plus a warrant to buy up to another 5.95 million shares, for a total equity position of 12.2 million shares, or 17% of MoneyGram’s shares outstanding. The blockchain firm is selling up [&#8230;] ... [| Skaityti daugiau](https://coinnounce.com/ripple-is-selling-one-third-of-its-stake-in-moneygram/) "
      ],
      "text/plain": [
       "<IPython.core.display.Markdown object>"
      ]
     },
     "execution_count": 55,
     "metadata": {},
     "output_type": "execute_result"
    }
   ],
   "source": [
    "#hide_input\n",
    "#md('##### {}'.format(titleBTC)) \n",
    "md(\"- {}{} {}{} [| Skaityti daugiau]({}) \".format(blockchain['title'],'. ', blockchain['body'], ' ...', blockchain['url']))"
   ]
  },
  {
   "cell_type": "code",
   "execution_count": 43,
   "metadata": {},
   "outputs": [
    {
     "data": {
      "text/markdown": [
       "- Bitcoin price prediction – No V-shape recovery as BTC/USD stalls at $17,000.  Bitcoin price prediction of $20,000 seems far fetched amid bearish price action A V-type recovery is unlikely as the price stalls near the $16,500 support level Increased selling and bearish technical indicators are holding back the bull run BTC/USD faces intense selling pressure near the $17,000 level Bitcoin price prediction remains bearish as price stagnates […] ... [| Skaityti daugiau](https://www.cryptopolitan.com/bitcoin-price-prediction-no-v-recovery/) "
      ],
      "text/plain": [
       "<IPython.core.display.Markdown object>"
      ]
     },
     "execution_count": 43,
     "metadata": {},
     "output_type": "execute_result"
    }
   ],
   "source": [
    "#hide_input\n",
    "#md('##### {}'.format(titleBTC)) \n",
    "md(\"- {}{} {}{} [| Skaityti daugiau]({}) \".format(btc['title'],'. ', btc['body'], ' ...', btc['url']))"
   ]
  },
  {
   "cell_type": "code",
   "execution_count": 44,
   "metadata": {},
   "outputs": [
    {
     "data": {
      "text/markdown": [
       "- Ripple price prediction: XRP to retest $0.75 resistance.  TL:DR Breakdown Ripple price prediction expects a rise to $0.75 mark. Ripple finds strong support at the $0.50 mark. Strong resistance persist at the $0.58 mark. The Ripple price prediction by Solldy shows that the cryptocurrency will see a rise towards the $0.75 level again. An important resistance lies above this mark, and the cryptocurrency […] ... [| Skaityti daugiau](https://www.cryptopolitan.com/ripple-price-prediction-xrp-to-retest-0-75-2/) "
      ],
      "text/plain": [
       "<IPython.core.display.Markdown object>"
      ]
     },
     "execution_count": 44,
     "metadata": {},
     "output_type": "execute_result"
    }
   ],
   "source": [
    "#hide_input\n",
    "#md('##### {}'.format(titleBTC)) \n",
    "md(\"- {}{} {}{} [| Skaityti daugiau]({}) \".format(xrp['title'],'. ', xrp['body'], ' ...', xrp['url']))"
   ]
  },
  {
   "cell_type": "code",
   "execution_count": 45,
   "metadata": {},
   "outputs": [
    {
     "data": {
      "text/markdown": [
       "- Ethereum is now a Wrapped Token on the Tron (TRX) Network.  Quick take: Justin Sun announced the launch of wrapped Ethereum on the Tron Network The token goes by the ticker of ETHTRON The Wrapped Ethereum injects ETH&#8217;s value on the Tron network It is available on Poloniex and redeemable on a 1:1 ratio with actual Ethereum The digital asset of Ethereum is now available on the Tron (TRX) Network. The project&#8217;s founder and CEO, Justin Sun, made the announcement on the availability of Wrapped ETH on the Tron Network and [&#8230;] ... [| Skaityti daugiau](https://en.ethereumworldnews.com/ethereum-is-now-a-wrapped-token-on-the-tron-trx-network/) "
      ],
      "text/plain": [
       "<IPython.core.display.Markdown object>"
      ]
     },
     "execution_count": 45,
     "metadata": {},
     "output_type": "execute_result"
    }
   ],
   "source": [
    "#hide_input\n",
    "#md('##### {}'.format(titleBTC)) \n",
    "md(\"- {}{} {}{} [| Skaityti daugiau]({}) \".format(trx['title'],'. ', trx['body'], ' ...', trx['url']))"
   ]
  },
  {
   "cell_type": "code",
   "execution_count": 46,
   "metadata": {},
   "outputs": [
    {
     "data": {
      "text/markdown": [
       "- Bitcoin Latinum Seeks to Enhance Crypto Transaction Speeds.  Bitcoin Latinum, which is described in a press release as a “next generation” bitcoin fork, is now ready and available for trading. The asset is being released to the public through a new pre-sale launch, which will take place on bitcoinlatinum.com, while the currency will become generally available to crypto exchanges and traders everywhere beginning...The post Bitcoin Latinum Seeks to Enhance Crypto Transaction Speeds appeared first on Live Bitcoin News. ... [| Skaityti daugiau](https://www.livebitcoinnews.com/bitcoin-latinum-seeks-to-enhance-crypto-transaction-speeds/) "
      ],
      "text/plain": [
       "<IPython.core.display.Markdown object>"
      ]
     },
     "execution_count": 46,
     "metadata": {},
     "output_type": "execute_result"
    }
   ],
   "source": [
    "#hide_input\n",
    "#md('##### {}'.format(titleBTC)) \n",
    "md(\"- {}{} {}{} [| Skaityti daugiau]({}) \".format(eth['title'],'. ', eth['body'], ' ...', eth['url']))"
   ]
  },
  {
   "cell_type": "code",
   "execution_count": 47,
   "metadata": {},
   "outputs": [
    {
     "data": {
      "text/markdown": [
       "- Price analysis 11/27: BTC, ETH, XRP, BCH, LINK, LTC, ADA, DOT, XLM, BNB.  Bitcoin’s recent correction is healthy, but several altcoins have lost momentum and could remain range-bound for a few days. ... [| Skaityti daugiau](https://cointelegraph.com/news/price-analysis-11-27-btc-eth-xrp-bch-link-ltc-ada-dot-xlm-bnb) "
      ],
      "text/plain": [
       "<IPython.core.display.Markdown object>"
      ]
     },
     "execution_count": 47,
     "metadata": {},
     "output_type": "execute_result"
    }
   ],
   "source": [
    "#hide_input\n",
    "#md('##### {}'.format(titleBTC)) \n",
    "md(\"- {}{} {}{} [| Skaityti daugiau]({}) \".format(ada['title'],'. ', ada['body'], ' ...', ada['url']))"
   ]
  },
  {
   "cell_type": "code",
   "execution_count": 52,
   "metadata": {},
   "outputs": [
    {
     "data": {
      "text/markdown": [
       "- Binance price prediction: BNB price reaching for $30.  TL:DR breakdown At 18:00 PM GMT, Binance rose to $28.14. From 16:00 PM, the bullish action was at 66 degrees. Bullish action suggests Binance will reach $30. At 18:00 GMT, at the time of writing, Binance ( BNB) had risen to $28.14. BNB/USD had a confident start and opened up at $28.23. Binance is showing […] ... [| Skaityti daugiau](https://www.cryptopolitan.com/binance-price-prediction-bnb-reaching-for-30/) "
      ],
      "text/plain": [
       "<IPython.core.display.Markdown object>"
      ]
     },
     "execution_count": 52,
     "metadata": {},
     "output_type": "execute_result"
    }
   ],
   "source": [
    "#hide_input\n",
    "#md('##### {}'.format(titleBTC)) \n",
    "md(\"- {}{} {}{} [| Skaityti daugiau]({}) \".format(exchange['title'],'. ', exchange['body'], ' ...', exchange['url']))"
   ]
  },
  {
   "cell_type": "code",
   "execution_count": null,
   "metadata": {},
   "outputs": [],
   "source": []
  },
  {
   "cell_type": "code",
   "execution_count": null,
   "metadata": {},
   "outputs": [],
   "source": []
  }
 ],
 "metadata": {
  "kernelspec": {
   "display_name": "Python 3",
   "language": "python",
   "name": "python3"
  },
  "language_info": {
   "codemirror_mode": {
    "name": "ipython",
    "version": 3
   },
   "file_extension": ".py",
   "mimetype": "text/x-python",
   "name": "python",
   "nbconvert_exporter": "python",
   "pygments_lexer": "ipython3",
   "version": "3.8.5"
  }
 },
 "nbformat": 4,
 "nbformat_minor": 4
}
