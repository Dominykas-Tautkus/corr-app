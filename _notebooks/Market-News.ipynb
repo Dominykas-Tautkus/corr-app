{
 "cells": [
  {
   "cell_type": "markdown",
   "id": "short-greensboro",
   "metadata": {
    "papermill": {
     "duration": 0.014593,
     "end_time": "2021-03-01T01:46:20.939111",
     "exception": false,
     "start_time": "2021-03-01T01:46:20.924518",
     "status": "completed"
    },
    "tags": []
   },
   "source": [
    "# Kriptovaliutų naujienos"
   ]
  },
  {
   "cell_type": "code",
   "execution_count": 1,
   "id": "functioning-knowing",
   "metadata": {
    "execution": {
     "iopub.execute_input": "2021-03-01T01:46:20.973460Z",
     "iopub.status.busy": "2021-03-01T01:46:20.972844Z",
     "iopub.status.idle": "2021-03-01T01:46:22.205383Z",
     "shell.execute_reply": "2021-03-01T01:46:22.205782Z"
    },
    "papermill": {
     "duration": 1.254876,
     "end_time": "2021-03-01T01:46:22.205933",
     "exception": false,
     "start_time": "2021-03-01T01:46:20.951057",
     "status": "completed"
    },
    "tags": []
   },
   "outputs": [],
   "source": [
    "#hide_input\n",
    "import warnings\n",
    "warnings.filterwarnings('ignore')\n",
    "from scripts.read_data import read_api\n",
    "from scripts.read_data import read_news\n",
    "from scripts.read_data import read_covid\n",
    "import matplotlib.pyplot as plt \n",
    "from IPython.display import Markdown as md"
   ]
  },
  {
   "cell_type": "code",
   "execution_count": 2,
   "id": "shared-acceptance",
   "metadata": {
    "execution": {
     "iopub.execute_input": "2021-03-01T01:46:22.231415Z",
     "iopub.status.busy": "2021-03-01T01:46:22.230462Z",
     "iopub.status.idle": "2021-03-01T01:46:28.746401Z",
     "shell.execute_reply": "2021-03-01T01:46:28.745408Z"
    },
    "papermill": {
     "duration": 6.530406,
     "end_time": "2021-03-01T01:46:28.746550",
     "exception": false,
     "start_time": "2021-03-01T01:46:22.216144",
     "status": "completed"
    },
    "tags": []
   },
   "outputs": [],
   "source": [
    "#hide_input\n",
    "blockchain = read_news('blockchain') \n",
    "btc = read_news('btc') \n",
    "xrp = read_news('xrp') \n",
    "trx = read_news('trx') \n",
    "eth = read_news('eth')  \n",
    "ada = read_news('ada')\n",
    "exchange = read_news('exchange') "
   ]
  },
  {
   "cell_type": "code",
   "execution_count": 3,
   "id": "synthetic-notion",
   "metadata": {
    "execution": {
     "iopub.execute_input": "2021-03-01T01:46:28.772935Z",
     "iopub.status.busy": "2021-03-01T01:46:28.772340Z",
     "iopub.status.idle": "2021-03-01T01:46:28.778299Z",
     "shell.execute_reply": "2021-03-01T01:46:28.777854Z"
    },
    "papermill": {
     "duration": 0.021376,
     "end_time": "2021-03-01T01:46:28.778417",
     "exception": false,
     "start_time": "2021-03-01T01:46:28.757041",
     "status": "completed"
    },
    "tags": []
   },
   "outputs": [
    {
     "data": {
      "text/markdown": [
       "- After XRP and Litecoin, Flare Plans To Bring Smart Contract Functionality to Stellar.  Ripple-backed blockchain startup Flare Networks is announcing its plans to integrate Stellar Lumens (XLM) into its smart contract platform. In a new tweet, Flare makes the announcement that it will be making XLM an F-Asset on its network. Flare will be integrating $XLM as an F-Asset, bringing XLM to scalable smart contracts and a trustless [&#8230;]The post After XRP and Litecoin, Flare Plans To Bring Smart Contract Functionality to Stellar appeared first on The Daily Hodl. ... [| Skaityti daugiau](https://dailyhodl.com/2021/02/28/after-xrp-and-litecoin-flare-plans-to-bring-smart-contract-functionality-to-stellar/) "
      ],
      "text/plain": [
       "<IPython.core.display.Markdown object>"
      ]
     },
     "execution_count": 3,
     "metadata": {},
     "output_type": "execute_result"
    }
   ],
   "source": [
    "#hide_input\n",
    "#md('##### {}'.format(titleBTC)) \n",
    "md(\"- {}{} {}{} [| Skaityti daugiau]({}) \".format(blockchain['title'],'. ', blockchain['body'], ' ...', blockchain['url']))"
   ]
  },
  {
   "cell_type": "code",
   "execution_count": 4,
   "id": "aging-caution",
   "metadata": {
    "execution": {
     "iopub.execute_input": "2021-03-01T01:46:28.806541Z",
     "iopub.status.busy": "2021-03-01T01:46:28.806000Z",
     "iopub.status.idle": "2021-03-01T01:46:28.808884Z",
     "shell.execute_reply": "2021-03-01T01:46:28.808466Z"
    },
    "papermill": {
     "duration": 0.019618,
     "end_time": "2021-03-01T01:46:28.808984",
     "exception": false,
     "start_time": "2021-03-01T01:46:28.789366",
     "status": "completed"
    },
    "tags": []
   },
   "outputs": [
    {
     "data": {
      "text/markdown": [
       "- Top Bitcoin Strategist Calls Market Bottom, Says It’s Time to Buy the Dip.  Top crypto trader Capo told followers the bottom was likely in for bitcoin, noting the RSI and heatmaps for BTC were indicating a bullish return. ... [| Skaityti daugiau](https://www.cryptoglobe.com/latest/2021/03/top-bitcoin-strategist-calls-market-bottom-says-its-time-to-buy-the-dip/) "
      ],
      "text/plain": [
       "<IPython.core.display.Markdown object>"
      ]
     },
     "execution_count": 4,
     "metadata": {},
     "output_type": "execute_result"
    }
   ],
   "source": [
    "#hide_input\n",
    "#md('##### {}'.format(titleBTC)) \n",
    "md(\"- {}{} {}{} [| Skaityti daugiau]({}) \".format(btc['title'],'. ', btc['body'], ' ...', btc['url']))"
   ]
  },
  {
   "cell_type": "code",
   "execution_count": 5,
   "id": "organic-actress",
   "metadata": {
    "execution": {
     "iopub.execute_input": "2021-03-01T01:46:28.832221Z",
     "iopub.status.busy": "2021-03-01T01:46:28.831521Z",
     "iopub.status.idle": "2021-03-01T01:46:28.835012Z",
     "shell.execute_reply": "2021-03-01T01:46:28.835497Z"
    },
    "papermill": {
     "duration": 0.017149,
     "end_time": "2021-03-01T01:46:28.835630",
     "exception": false,
     "start_time": "2021-03-01T01:46:28.818481",
     "status": "completed"
    },
    "tags": []
   },
   "outputs": [
    {
     "data": {
      "text/markdown": [
       "- Ripple-Backed Developer Launches Proposal To Bring Red-Hot NFTs to XRP Ledger.  The Founder of Ripple-backed development studio XRPL Labs Wietse Wind is announcing plans to add non-fungible tokens (NFTs) to the XRP Ledger. In a new tweet, Wind calls the attention of XRPL developers to share their ideas on how to bring the increasingly popular unique digital assets to the XRP Ledger. XRP Ledger Standard Proposal. [&#8230;]The post Ripple-Backed Developer Launches Proposal To Bring Red-Hot NFTs to XRP Ledger appeared first on The Daily Hodl. ... [| Skaityti daugiau](https://dailyhodl.com/2021/02/28/ripple-backed-developer-launches-proposal-to-bring-red-hot-nfts-to-xrp-ledger/) "
      ],
      "text/plain": [
       "<IPython.core.display.Markdown object>"
      ]
     },
     "execution_count": 5,
     "metadata": {},
     "output_type": "execute_result"
    }
   ],
   "source": [
    "#hide_input\n",
    "#md('##### {}'.format(titleBTC)) \n",
    "md(\"- {}{} {}{} [| Skaityti daugiau]({}) \".format(xrp['title'],'. ', xrp['body'], ' ...', xrp['url']))"
   ]
  },
  {
   "cell_type": "code",
   "execution_count": 6,
   "id": "prompt-farmer",
   "metadata": {
    "execution": {
     "iopub.execute_input": "2021-03-01T01:46:28.858927Z",
     "iopub.status.busy": "2021-03-01T01:46:28.858356Z",
     "iopub.status.idle": "2021-03-01T01:46:28.862007Z",
     "shell.execute_reply": "2021-03-01T01:46:28.861514Z"
    },
    "papermill": {
     "duration": 0.017383,
     "end_time": "2021-03-01T01:46:28.862121",
     "exception": false,
     "start_time": "2021-03-01T01:46:28.844738",
     "status": "completed"
    },
    "tags": []
   },
   "outputs": [
    {
     "data": {
      "text/markdown": [
       "- XRP, Tron, Synthetix Price Analysis: 28 February.  After Bitcoin lost out on the $45,000 mark, the broader market witnessed another sell-off and most altcoins registered losses in the last 24 hours. Such was the case with XRP, Tron, and Synthetix, which traded close to their respective support levels at the time of writing. XRP Bulls were unable to recover XRP above the [&#8230;] ... [| Skaityti daugiau](https://ambcrypto.com/xrp-tron-synthetix-price-analysis-28-february/) "
      ],
      "text/plain": [
       "<IPython.core.display.Markdown object>"
      ]
     },
     "execution_count": 6,
     "metadata": {},
     "output_type": "execute_result"
    }
   ],
   "source": [
    "#hide_input\n",
    "#md('##### {}'.format(titleBTC)) \n",
    "md(\"- {}{} {}{} [| Skaityti daugiau]({}) \".format(trx['title'],'. ', trx['body'], ' ...', trx['url']))"
   ]
  },
  {
   "cell_type": "code",
   "execution_count": 7,
   "id": "illegal-greece",
   "metadata": {
    "execution": {
     "iopub.execute_input": "2021-03-01T01:46:28.887297Z",
     "iopub.status.busy": "2021-03-01T01:46:28.886723Z",
     "iopub.status.idle": "2021-03-01T01:46:28.889558Z",
     "shell.execute_reply": "2021-03-01T01:46:28.889150Z"
    },
    "papermill": {
     "duration": 0.016603,
     "end_time": "2021-03-01T01:46:28.889650",
     "exception": false,
     "start_time": "2021-03-01T01:46:28.873047",
     "status": "completed"
    },
    "tags": []
   },
   "outputs": [
    {
     "data": {
      "text/markdown": [
       "- Ethereum’s Success May Also Be its Own Killer – Binance CEO.  Quick take: Binance CEO has pointed out that Ethereum&#8217;s success might be its own killer He compares Ethereum to MySpace which failed after it could not handle the load due to demand ETH2.0 is years away and this could be the ultimate Ethereum killer CZ further defended the Binance Smart Chain by saying it is not the Ethereum killer The CEO of Binance, Changpeng Zhao, has offered his insight as to what might be the real Ethereum killer. According to [&#8230;] ... [| Skaityti daugiau](https://en.ethereumworldnews.com/ethereums-success-may-also-be-its-own-killer-binance-ceo/) "
      ],
      "text/plain": [
       "<IPython.core.display.Markdown object>"
      ]
     },
     "execution_count": 7,
     "metadata": {},
     "output_type": "execute_result"
    }
   ],
   "source": [
    "#hide_input\n",
    "#md('##### {}'.format(titleBTC)) \n",
    "md(\"- {}{} {}{} [| Skaityti daugiau]({}) \".format(eth['title'],'. ', eth['body'], ' ...', eth['url']))"
   ]
  },
  {
   "cell_type": "code",
   "execution_count": 8,
   "id": "sublime-lounge",
   "metadata": {
    "execution": {
     "iopub.execute_input": "2021-03-01T01:46:28.916592Z",
     "iopub.status.busy": "2021-03-01T01:46:28.916081Z",
     "iopub.status.idle": "2021-03-01T01:46:28.919061Z",
     "shell.execute_reply": "2021-03-01T01:46:28.918564Z"
    },
    "papermill": {
     "duration": 0.018103,
     "end_time": "2021-03-01T01:46:28.919167",
     "exception": false,
     "start_time": "2021-03-01T01:46:28.901064",
     "status": "completed"
    },
    "tags": []
   },
   "outputs": [
    {
     "data": {
      "text/markdown": [
       "- Cardano Price Analysis: 28 February.  While a majority of the assets are still trying to recover from the recent price drop, Cardano managed to record a new all-time high over the past week. Clocking in a value of $1.48 yesterday, Cardano is currently one of the top three assets in the world and while the asset has registered a 10% [&#8230;] ... [| Skaityti daugiau](https://ambcrypto.com/cardano-price-analysis-28-february/) "
      ],
      "text/plain": [
       "<IPython.core.display.Markdown object>"
      ]
     },
     "execution_count": 8,
     "metadata": {},
     "output_type": "execute_result"
    }
   ],
   "source": [
    "#hide_input\n",
    "#md('##### {}'.format(titleBTC)) \n",
    "md(\"- {}{} {}{} [| Skaityti daugiau]({}) \".format(ada['title'],'. ', ada['body'], ' ...', ada['url']))"
   ]
  },
  {
   "cell_type": "code",
   "execution_count": 9,
   "id": "specified-ordering",
   "metadata": {
    "execution": {
     "iopub.execute_input": "2021-03-01T01:46:28.948258Z",
     "iopub.status.busy": "2021-03-01T01:46:28.947836Z",
     "iopub.status.idle": "2021-03-01T01:46:28.950333Z",
     "shell.execute_reply": "2021-03-01T01:46:28.949960Z"
    },
    "papermill": {
     "duration": 0.019726,
     "end_time": "2021-03-01T01:46:28.950413",
     "exception": false,
     "start_time": "2021-03-01T01:46:28.930687",
     "status": "completed"
    },
    "tags": []
   },
   "outputs": [
    {
     "data": {
      "text/markdown": [
       "- Crypto Exchange Mistakenly Sold Bitcoin for $6,000: Now Requests Users To Return It.  Philippine-based exchange, PDAX reported that a technical glitch caused bitcoin to trade way lower than the global market price. It is now urging users who managed to scoop cheap BTC to return it. ... [| Skaityti daugiau](https://cryptopotato.com/crypto-exchange-mistakenly-sold-bitcoin-for-6000-now-requests-users-to-return-it/) "
      ],
      "text/plain": [
       "<IPython.core.display.Markdown object>"
      ]
     },
     "execution_count": 9,
     "metadata": {},
     "output_type": "execute_result"
    }
   ],
   "source": [
    "#hide_input\n",
    "#md('##### {}'.format(titleBTC)) \n",
    "md(\"- {}{} {}{} [| Skaityti daugiau]({}) \".format(exchange['title'],'. ', exchange['body'], ' ...', exchange['url']))"
   ]
  },
  {
   "cell_type": "code",
   "execution_count": null,
   "id": "tender-livestock",
   "metadata": {
    "papermill": {
     "duration": 0.011198,
     "end_time": "2021-03-01T01:46:28.972576",
     "exception": false,
     "start_time": "2021-03-01T01:46:28.961378",
     "status": "completed"
    },
    "tags": []
   },
   "outputs": [],
   "source": []
  },
  {
   "cell_type": "code",
   "execution_count": null,
   "id": "appreciated-diamond",
   "metadata": {
    "papermill": {
     "duration": 0.011915,
     "end_time": "2021-03-01T01:46:28.995574",
     "exception": false,
     "start_time": "2021-03-01T01:46:28.983659",
     "status": "completed"
    },
    "tags": []
   },
   "outputs": [],
   "source": []
  },
  {
   "cell_type": "code",
   "execution_count": null,
   "id": "romance-sweden",
   "metadata": {
    "papermill": {
     "duration": 0.011633,
     "end_time": "2021-03-01T01:46:29.018908",
     "exception": false,
     "start_time": "2021-03-01T01:46:29.007275",
     "status": "completed"
    },
    "tags": []
   },
   "outputs": [],
   "source": []
  },
  {
   "cell_type": "code",
   "execution_count": null,
   "id": "dietary-statistics",
   "metadata": {
    "papermill": {
     "duration": 0.01113,
     "end_time": "2021-03-01T01:46:29.041469",
     "exception": false,
     "start_time": "2021-03-01T01:46:29.030339",
     "status": "completed"
    },
    "tags": []
   },
   "outputs": [],
   "source": []
  }
 ],
 "metadata": {
  "kernelspec": {
   "display_name": "Python 3",
   "language": "python",
   "name": "python3"
  },
  "language_info": {
   "codemirror_mode": {
    "name": "ipython",
    "version": 3
   },
   "file_extension": ".py",
   "mimetype": "text/x-python",
   "name": "python",
   "nbconvert_exporter": "python",
   "pygments_lexer": "ipython3",
   "version": "3.6.13"
  },
  "papermill": {
   "default_parameters": {},
   "duration": 9.736178,
   "end_time": "2021-03-01T01:46:29.460717",
   "environment_variables": {},
   "exception": null,
   "input_path": "Market-News.ipynb",
   "output_path": "Market-News.ipynb",
   "parameters": {},
   "start_time": "2021-03-01T01:46:19.724539",
   "version": "2.2.2"
  }
 },
 "nbformat": 4,
 "nbformat_minor": 5
}