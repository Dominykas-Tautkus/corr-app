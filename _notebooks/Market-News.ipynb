{
 "cells": [
  {
   "cell_type": "markdown",
   "id": "short-greensboro",
   "metadata": {
    "papermill": {
     "duration": 0.013682,
     "end_time": "2021-03-28T02:04:50.997579",
     "exception": false,
     "start_time": "2021-03-28T02:04:50.983897",
     "status": "completed"
    },
    "tags": []
   },
   "source": [
    "# Kriptovaliutų naujienos"
   ]
  },
  {
   "cell_type": "code",
   "execution_count": 1,
   "id": "functioning-knowing",
   "metadata": {
    "execution": {
     "iopub.execute_input": "2021-03-28T02:04:51.029036Z",
     "iopub.status.busy": "2021-03-28T02:04:51.028490Z",
     "iopub.status.idle": "2021-03-28T02:04:52.138829Z",
     "shell.execute_reply": "2021-03-28T02:04:52.137763Z"
    },
    "papermill": {
     "duration": 1.131805,
     "end_time": "2021-03-28T02:04:52.138976",
     "exception": false,
     "start_time": "2021-03-28T02:04:51.007171",
     "status": "completed"
    },
    "tags": []
   },
   "outputs": [],
   "source": [
    "#hide_input\n",
    "import warnings\n",
    "warnings.filterwarnings('ignore')\n",
    "from scripts.read_data import read_api\n",
    "from scripts.read_data import read_news\n",
    "from scripts.read_data import read_covid\n",
    "import matplotlib.pyplot as plt \n",
    "from IPython.display import Markdown as md"
   ]
  },
  {
   "cell_type": "code",
   "execution_count": 2,
   "id": "shared-acceptance",
   "metadata": {
    "execution": {
     "iopub.execute_input": "2021-03-28T02:04:52.164393Z",
     "iopub.status.busy": "2021-03-28T02:04:52.163564Z",
     "iopub.status.idle": "2021-03-28T02:05:00.182629Z",
     "shell.execute_reply": "2021-03-28T02:05:00.181555Z"
    },
    "papermill": {
     "duration": 8.034093,
     "end_time": "2021-03-28T02:05:00.182764",
     "exception": false,
     "start_time": "2021-03-28T02:04:52.148671",
     "status": "completed"
    },
    "tags": []
   },
   "outputs": [],
   "source": [
    "#hide_input\n",
    "blockchain = read_news('blockchain') \n",
    "btc = read_news('btc') \n",
    "xrp = read_news('xrp') \n",
    "trx = read_news('trx') \n",
    "eth = read_news('eth')  \n",
    "ada = read_news('ada')\n",
    "exchange = read_news('exchange') "
   ]
  },
  {
   "cell_type": "code",
   "execution_count": 3,
   "id": "synthetic-notion",
   "metadata": {
    "execution": {
     "iopub.execute_input": "2021-03-28T02:05:00.206604Z",
     "iopub.status.busy": "2021-03-28T02:05:00.206005Z",
     "iopub.status.idle": "2021-03-28T02:05:00.208136Z",
     "shell.execute_reply": "2021-03-28T02:05:00.208556Z"
    },
    "papermill": {
     "duration": 0.016553,
     "end_time": "2021-03-28T02:05:00.208672",
     "exception": false,
     "start_time": "2021-03-28T02:05:00.192119",
     "status": "completed"
    },
    "tags": []
   },
   "outputs": [
    {
     "data": {
      "text/markdown": [
       "- Indonesia: Minister reveals plans to launch state-backed crypto-exchange.  Lately, Indonesia has been following in the footsteps of its close neighbor and business partner, Singapore, in exploring the use of blockchain technology and cryptocurrencies. And, there&#8217;s a good reason too. After all, according to the World Bank&#8217;s census report, Indonesia is ranked 14th across the globe for receipts of migrant remittances, with an estimated [&#8230;] ... [| Skaityti daugiau](https://ambcrypto.com/indonesia-minister-reveals-plans-to-launch-state-backed-crypto-exchange/) "
      ],
      "text/plain": [
       "<IPython.core.display.Markdown object>"
      ]
     },
     "execution_count": 3,
     "metadata": {},
     "output_type": "execute_result"
    }
   ],
   "source": [
    "#hide_input\n",
    "#md('##### {}'.format(titleBTC)) \n",
    "md(\"- {}{} {}{} [| Skaityti daugiau]({}) \".format(blockchain['title'],'. ', blockchain['body'], ' ...', blockchain['url']))"
   ]
  },
  {
   "cell_type": "code",
   "execution_count": 4,
   "id": "aging-caution",
   "metadata": {
    "execution": {
     "iopub.execute_input": "2021-03-28T02:05:00.232394Z",
     "iopub.status.busy": "2021-03-28T02:05:00.231894Z",
     "iopub.status.idle": "2021-03-28T02:05:00.234776Z",
     "shell.execute_reply": "2021-03-28T02:05:00.235152Z"
    },
    "papermill": {
     "duration": 0.016924,
     "end_time": "2021-03-28T02:05:00.235245",
     "exception": false,
     "start_time": "2021-03-28T02:05:00.218321",
     "status": "completed"
    },
    "tags": []
   },
   "outputs": [
    {
     "data": {
      "text/markdown": [
       "- Ark Invest CEO: “$1 trillion is nothing” compared to where Bitcoin is going.  Bitcoin’s (BTC) market capitalization of over $1 trillion is just the beginning of the crypto’s price discovery, Cathie Wood, CEO of asset management company Ark Invest, argued during a virtual conference published yesterday. The post Ark Invest CEO: &#8220;$1 trillion is nothing&#8221; compared to where Bitcoin is going appeared first on CryptoSlate. ... [| Skaityti daugiau](https://cryptoslate.com/ark-invest-ceo-1-trillion-is-nothing-compared-to-where-bitcoin-is-going/) "
      ],
      "text/plain": [
       "<IPython.core.display.Markdown object>"
      ]
     },
     "execution_count": 4,
     "metadata": {},
     "output_type": "execute_result"
    }
   ],
   "source": [
    "#hide_input\n",
    "#md('##### {}'.format(titleBTC)) \n",
    "md(\"- {}{} {}{} [| Skaityti daugiau]({}) \".format(btc['title'],'. ', btc['body'], ' ...', btc['url']))"
   ]
  },
  {
   "cell_type": "code",
   "execution_count": 5,
   "id": "organic-actress",
   "metadata": {
    "execution": {
     "iopub.execute_input": "2021-03-28T02:05:00.258153Z",
     "iopub.status.busy": "2021-03-28T02:05:00.257657Z",
     "iopub.status.idle": "2021-03-28T02:05:00.260238Z",
     "shell.execute_reply": "2021-03-28T02:05:00.259797Z"
    },
    "papermill": {
     "duration": 0.015731,
     "end_time": "2021-03-28T02:05:00.260340",
     "exception": false,
     "start_time": "2021-03-28T02:05:00.244609",
     "status": "completed"
    },
    "tags": []
   },
   "outputs": [
    {
     "data": {
      "text/markdown": [
       "- XRP Price Analysis: 27 March.  XRP had retraced most of its drop from $0.6 to $0.45 and was trading at $0.55 at the time of writing. #RelistXRP was the most discussed topic in the XRP community. Over the next few hours, a revisit to the $0.54 mark is possible but it is a strong level of support, and XRP is [&#8230;] ... [| Skaityti daugiau](https://ambcrypto.com/xrp-price-analysis-27-march/) "
      ],
      "text/plain": [
       "<IPython.core.display.Markdown object>"
      ]
     },
     "execution_count": 5,
     "metadata": {},
     "output_type": "execute_result"
    }
   ],
   "source": [
    "#hide_input\n",
    "#md('##### {}'.format(titleBTC)) \n",
    "md(\"- {}{} {}{} [| Skaityti daugiau]({}) \".format(xrp['title'],'. ', xrp['body'], ' ...', xrp['url']))"
   ]
  },
  {
   "cell_type": "code",
   "execution_count": 6,
   "id": "prompt-farmer",
   "metadata": {
    "execution": {
     "iopub.execute_input": "2021-03-28T02:05:00.284381Z",
     "iopub.status.busy": "2021-03-28T02:05:00.283847Z",
     "iopub.status.idle": "2021-03-28T02:05:00.286059Z",
     "shell.execute_reply": "2021-03-28T02:05:00.286507Z"
    },
    "papermill": {
     "duration": 0.01595,
     "end_time": "2021-03-28T02:05:00.286620",
     "exception": false,
     "start_time": "2021-03-28T02:05:00.270670",
     "status": "completed"
    },
    "tags": []
   },
   "outputs": [
    {
     "data": {
      "text/markdown": [
       "- TRX Price Analysis: Price Gains Foothold at $0.05 To End the Week.  The post TRX Price Analysis: Price Gains Foothold at $0.05 To End the Week appeared first on Coinpedia - Fintech & Cryptocurreny News Media| Crypto GuideTRON (TRX) price has flipped bullish after printing bearish candles for 4 days in a row during a persistent downtrend from the start of the week.*TRX/USD is edging higher again after the rebound off the lows at $0.051*TRON is trading in a positive zone above $0.052 and $0.059*Justin Sun thinks NFTs and DeFi are the … ... [| Skaityti daugiau](https://coinpedia.org/price-analysis/trx-price-analysis-price-gains-foothold-at-0-05/) "
      ],
      "text/plain": [
       "<IPython.core.display.Markdown object>"
      ]
     },
     "execution_count": 6,
     "metadata": {},
     "output_type": "execute_result"
    }
   ],
   "source": [
    "#hide_input\n",
    "#md('##### {}'.format(titleBTC)) \n",
    "md(\"- {}{} {}{} [| Skaityti daugiau]({}) \".format(trx['title'],'. ', trx['body'], ' ...', trx['url']))"
   ]
  },
  {
   "cell_type": "code",
   "execution_count": 7,
   "id": "illegal-greece",
   "metadata": {
    "execution": {
     "iopub.execute_input": "2021-03-28T02:05:00.310707Z",
     "iopub.status.busy": "2021-03-28T02:05:00.310222Z",
     "iopub.status.idle": "2021-03-28T02:05:00.312882Z",
     "shell.execute_reply": "2021-03-28T02:05:00.313301Z"
    },
    "papermill": {
     "duration": 0.016252,
     "end_time": "2021-03-28T02:05:00.313403",
     "exception": false,
     "start_time": "2021-03-28T02:05:00.297151",
     "status": "completed"
    },
    "tags": []
   },
   "outputs": [
    {
     "data": {
      "text/markdown": [
       "- Bitcoin’s Price Could Keep Dropping Over Rising Interest Rates, Says Forbes Crypto Director.  Steven Ehrlich, Director of Research at Forbes Crypto, has suggested that the price of bitcoin could keep on dropping over the next few weeks as rising interest rates are making safer investments more attractive, while bitcoin isn’t behaving as a safe investment itself. In an interview with Nasdaq Global Markets reporter Jill Malandrino, Ehrlich said […] ... [| Skaityti daugiau](https://www.cryptoglobe.com/latest/2021/03/bitcoins-price-could-keep-dropping-over-rising-interest-rates-says-forbes-crypto-director/) "
      ],
      "text/plain": [
       "<IPython.core.display.Markdown object>"
      ]
     },
     "execution_count": 7,
     "metadata": {},
     "output_type": "execute_result"
    }
   ],
   "source": [
    "#hide_input\n",
    "#md('##### {}'.format(titleBTC)) \n",
    "md(\"- {}{} {}{} [| Skaityti daugiau]({}) \".format(eth['title'],'. ', eth['body'], ' ...', eth['url']))"
   ]
  },
  {
   "cell_type": "code",
   "execution_count": 8,
   "id": "sublime-lounge",
   "metadata": {
    "execution": {
     "iopub.execute_input": "2021-03-28T02:05:00.339623Z",
     "iopub.status.busy": "2021-03-28T02:05:00.339127Z",
     "iopub.status.idle": "2021-03-28T02:05:00.341691Z",
     "shell.execute_reply": "2021-03-28T02:05:00.342059Z"
    },
    "papermill": {
     "duration": 0.01874,
     "end_time": "2021-03-28T02:05:00.342162",
     "exception": false,
     "start_time": "2021-03-28T02:05:00.323422",
     "status": "completed"
    },
    "tags": []
   },
   "outputs": [
    {
     "data": {
      "text/markdown": [
       "- What’s next for Ethereum, Cardano, Vechain and Holo after their weeklong bullish streak?.  The hottest altcoins based on trade volume and transaction data from the past 24 hours are HOLO, VET, ADA, ETH in that order. The price gain in the past 24 hours is 30.99% for Holo, double-digit gains below 15% for VeChain, Cardano, and Ethereum. With increasing conversations on crypto Twitter regarding the lack of practical [&#8230;] ... [| Skaityti daugiau](https://ambcrypto.com/whats-next-for-ethereum-cardano-vechain-and-holo-after-their-weeklong-bullish-streak/) "
      ],
      "text/plain": [
       "<IPython.core.display.Markdown object>"
      ]
     },
     "execution_count": 8,
     "metadata": {},
     "output_type": "execute_result"
    }
   ],
   "source": [
    "#hide_input\n",
    "#md('##### {}'.format(titleBTC)) \n",
    "md(\"- {}{} {}{} [| Skaityti daugiau]({}) \".format(ada['title'],'. ', ada['body'], ' ...', ada['url']))"
   ]
  },
  {
   "cell_type": "code",
   "execution_count": 9,
   "id": "specified-ordering",
   "metadata": {
    "execution": {
     "iopub.execute_input": "2021-03-28T02:05:00.367732Z",
     "iopub.status.busy": "2021-03-28T02:05:00.367253Z",
     "iopub.status.idle": "2021-03-28T02:05:00.371450Z",
     "shell.execute_reply": "2021-03-28T02:05:00.371004Z"
    },
    "papermill": {
     "duration": 0.01796,
     "end_time": "2021-03-28T02:05:00.371551",
     "exception": false,
     "start_time": "2021-03-28T02:05:00.353591",
     "status": "completed"
    },
    "tags": []
   },
   "outputs": [
    {
     "data": {
      "text/markdown": [
       "- Popular Crypto Trader Reveals Heavy Investment in Little-Known Binance Smart Chain Token.  A very popular cryptocurrency trader going by pseudonym “Altcoin Psycho” on social media has revealed he is heavily invested in a little-known cryptocurrency built on top of the Binance Smart Chain (BSC) he believes could do “very well.” The analyst has told his over 140,000 followers on microblogging platform Twitter that he invested heavily in […] ... [| Skaityti daugiau](https://www.cryptoglobe.com/latest/2021/03/popular-crypto-trader-reveals-heavy-investment-in-little-known-binance-smart-chain-token/) "
      ],
      "text/plain": [
       "<IPython.core.display.Markdown object>"
      ]
     },
     "execution_count": 9,
     "metadata": {},
     "output_type": "execute_result"
    }
   ],
   "source": [
    "#hide_input\n",
    "#md('##### {}'.format(titleBTC)) \n",
    "md(\"- {}{} {}{} [| Skaityti daugiau]({}) \".format(exchange['title'],'. ', exchange['body'], ' ...', exchange['url']))"
   ]
  },
  {
   "cell_type": "code",
   "execution_count": null,
   "id": "tender-livestock",
   "metadata": {
    "papermill": {
     "duration": 0.010669,
     "end_time": "2021-03-28T02:05:00.392762",
     "exception": false,
     "start_time": "2021-03-28T02:05:00.382093",
     "status": "completed"
    },
    "tags": []
   },
   "outputs": [],
   "source": []
  },
  {
   "cell_type": "code",
   "execution_count": null,
   "id": "appreciated-diamond",
   "metadata": {
    "papermill": {
     "duration": 0.010799,
     "end_time": "2021-03-28T02:05:00.414523",
     "exception": false,
     "start_time": "2021-03-28T02:05:00.403724",
     "status": "completed"
    },
    "tags": []
   },
   "outputs": [],
   "source": []
  },
  {
   "cell_type": "code",
   "execution_count": null,
   "id": "romance-sweden",
   "metadata": {
    "papermill": {
     "duration": 0.010877,
     "end_time": "2021-03-28T02:05:00.436575",
     "exception": false,
     "start_time": "2021-03-28T02:05:00.425698",
     "status": "completed"
    },
    "tags": []
   },
   "outputs": [],
   "source": []
  },
  {
   "cell_type": "code",
   "execution_count": null,
   "id": "dietary-statistics",
   "metadata": {
    "papermill": {
     "duration": 0.010481,
     "end_time": "2021-03-28T02:05:00.457989",
     "exception": false,
     "start_time": "2021-03-28T02:05:00.447508",
     "status": "completed"
    },
    "tags": []
   },
   "outputs": [],
   "source": []
  }
 ],
 "metadata": {
  "kernelspec": {
   "display_name": "Python 3",
   "language": "python",
   "name": "python3"
  },
  "language_info": {
   "codemirror_mode": {
    "name": "ipython",
    "version": 3
   },
   "file_extension": ".py",
   "mimetype": "text/x-python",
   "name": "python",
   "nbconvert_exporter": "python",
   "pygments_lexer": "ipython3",
   "version": "3.6.13"
  },
  "papermill": {
   "default_parameters": {},
   "duration": 10.927292,
   "end_time": "2021-03-28T02:05:00.876887",
   "environment_variables": {},
   "exception": null,
   "input_path": "Market-News.ipynb",
   "output_path": "Market-News.ipynb",
   "parameters": {},
   "start_time": "2021-03-28T02:04:49.949595",
   "version": "2.2.2"
  }
 },
 "nbformat": 4,
 "nbformat_minor": 5
}