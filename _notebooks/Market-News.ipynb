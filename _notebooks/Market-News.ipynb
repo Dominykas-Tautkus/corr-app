{
 "cells": [
  {
   "cell_type": "markdown",
   "id": "short-greensboro",
   "metadata": {
    "papermill": {
     "duration": 0.015861,
     "end_time": "2021-07-07T02:00:06.783907",
     "exception": false,
     "start_time": "2021-07-07T02:00:06.768046",
     "status": "completed"
    },
    "tags": []
   },
   "source": [
    "# Kriptovaliutų naujienos"
   ]
  },
  {
   "cell_type": "code",
   "execution_count": 1,
   "id": "functioning-knowing",
   "metadata": {
    "execution": {
     "iopub.execute_input": "2021-07-07T02:00:06.821525Z",
     "iopub.status.busy": "2021-07-07T02:00:06.820894Z",
     "iopub.status.idle": "2021-07-07T02:00:08.340098Z",
     "shell.execute_reply": "2021-07-07T02:00:08.339171Z"
    },
    "papermill": {
     "duration": 1.543426,
     "end_time": "2021-07-07T02:00:08.340335",
     "exception": false,
     "start_time": "2021-07-07T02:00:06.796909",
     "status": "completed"
    },
    "tags": []
   },
   "outputs": [],
   "source": [
    "#hide_input\n",
    "import warnings\n",
    "warnings.filterwarnings('ignore')\n",
    "from scripts.read_data import read_api\n",
    "from scripts.read_data import read_news\n",
    "from scripts.read_data import read_covid\n",
    "import matplotlib.pyplot as plt \n",
    "from IPython.display import Markdown as md"
   ]
  },
  {
   "cell_type": "code",
   "execution_count": 2,
   "id": "shared-acceptance",
   "metadata": {
    "execution": {
     "iopub.execute_input": "2021-07-07T02:00:08.372293Z",
     "iopub.status.busy": "2021-07-07T02:00:08.371692Z",
     "iopub.status.idle": "2021-07-07T02:00:16.388834Z",
     "shell.execute_reply": "2021-07-07T02:00:16.389330Z"
    },
    "papermill": {
     "duration": 8.037148,
     "end_time": "2021-07-07T02:00:16.389489",
     "exception": false,
     "start_time": "2021-07-07T02:00:08.352341",
     "status": "completed"
    },
    "tags": []
   },
   "outputs": [],
   "source": [
    "#hide_input\n",
    "blockchain = read_news('blockchain') \n",
    "btc = read_news('btc') \n",
    "xrp = read_news('xrp') \n",
    "trx = read_news('trx') \n",
    "eth = read_news('eth')  \n",
    "ada = read_news('ada')\n",
    "exchange = read_news('exchange') "
   ]
  },
  {
   "cell_type": "code",
   "execution_count": 3,
   "id": "synthetic-notion",
   "metadata": {
    "execution": {
     "iopub.execute_input": "2021-07-07T02:00:16.422510Z",
     "iopub.status.busy": "2021-07-07T02:00:16.421886Z",
     "iopub.status.idle": "2021-07-07T02:00:16.426465Z",
     "shell.execute_reply": "2021-07-07T02:00:16.425969Z"
    },
    "papermill": {
     "duration": 0.0224,
     "end_time": "2021-07-07T02:00:16.426692",
     "exception": false,
     "start_time": "2021-07-07T02:00:16.404292",
     "status": "completed"
    },
    "tags": []
   },
   "outputs": [
    {
     "data": {
      "text/markdown": [
       "- Alpha Finance Lab (ALPHA) rallies 50% as project fundamentals improve.  ALPHA price turned bullish shortly after the project introduced staking, simplified farming options and a launchpad for new blockchain projects. ... [| Skaityti daugiau](https://cointelegraph.com/news/alpha-finance-lab-alpha-rallies-50-as-project-fundamentals-improve) "
      ],
      "text/plain": [
       "<IPython.core.display.Markdown object>"
      ]
     },
     "execution_count": 3,
     "metadata": {},
     "output_type": "execute_result"
    }
   ],
   "source": [
    "#hide_input\n",
    "#md('##### {}'.format(titleBTC)) \n",
    "md(\"- {}{} {}{} [| Skaityti daugiau]({}) \".format(blockchain['title'],'. ', blockchain['body'], ' ...', blockchain['url']))"
   ]
  },
  {
   "cell_type": "code",
   "execution_count": 4,
   "id": "aging-caution",
   "metadata": {
    "execution": {
     "iopub.execute_input": "2021-07-07T02:00:16.454467Z",
     "iopub.status.busy": "2021-07-07T02:00:16.453174Z",
     "iopub.status.idle": "2021-07-07T02:00:16.457234Z",
     "shell.execute_reply": "2021-07-07T02:00:16.457681Z"
    },
    "papermill": {
     "duration": 0.020154,
     "end_time": "2021-07-07T02:00:16.457824",
     "exception": false,
     "start_time": "2021-07-07T02:00:16.437670",
     "status": "completed"
    },
    "tags": []
   },
   "outputs": [
    {
     "data": {
      "text/markdown": [
       "- Raoul Pal: Crypto Space Is Building ‘The New Digital Architecture of the World’.  In a recent interview, former Goldman Sachs executive Raoul Pal said that a “promised land” is being created through cryptoassets and digital finance. Prior to founding macro economic and investment strategy research service Global Macro Investor (GMI) in 2005, Pal co-managed the GLG Global Macro Fund in London for global asset management firm GLG Partners (which is now called “Man […] ... [| Skaityti daugiau](https://www.cryptoglobe.com/latest/2021/07/raoul-pal-crypto-space-is-building-the-new-digital-architecture-of-the-world/) "
      ],
      "text/plain": [
       "<IPython.core.display.Markdown object>"
      ]
     },
     "execution_count": 4,
     "metadata": {},
     "output_type": "execute_result"
    }
   ],
   "source": [
    "#hide_input\n",
    "#md('##### {}'.format(titleBTC)) \n",
    "md(\"- {}{} {}{} [| Skaityti daugiau]({}) \".format(btc['title'],'. ', btc['body'], ' ...', btc['url']))"
   ]
  },
  {
   "cell_type": "code",
   "execution_count": 5,
   "id": "organic-actress",
   "metadata": {
    "execution": {
     "iopub.execute_input": "2021-07-07T02:00:16.486454Z",
     "iopub.status.busy": "2021-07-07T02:00:16.485839Z",
     "iopub.status.idle": "2021-07-07T02:00:16.489061Z",
     "shell.execute_reply": "2021-07-07T02:00:16.489532Z"
    },
    "papermill": {
     "duration": 0.020382,
     "end_time": "2021-07-07T02:00:16.489674",
     "exception": false,
     "start_time": "2021-07-07T02:00:16.469292",
     "status": "completed"
    },
    "tags": []
   },
   "outputs": [
    {
     "data": {
      "text/markdown": [
       "- Cardano, XRP, MATIC Price Analysis: 06 July.  Despite recent price corrections in the broader crypto-market, many altcoins have still remained mostly sandwiched between their immediate support and resistance levels. ADA’s buyers, for instance, have fallen significantly over the last few days while XRP’s price movement has been mostly stagnant, with the altcoin struggling to break past its immediate resistance level. Finally, MATIC [&#8230;] ... [| Skaityti daugiau](https://ambcrypto.com/cardano-xrp-matic-price-analysis-06-july/) "
      ],
      "text/plain": [
       "<IPython.core.display.Markdown object>"
      ]
     },
     "execution_count": 5,
     "metadata": {},
     "output_type": "execute_result"
    }
   ],
   "source": [
    "#hide_input\n",
    "#md('##### {}'.format(titleBTC)) \n",
    "md(\"- {}{} {}{} [| Skaityti daugiau]({}) \".format(xrp['title'],'. ', xrp['body'], ' ...', xrp['url']))"
   ]
  },
  {
   "cell_type": "code",
   "execution_count": 6,
   "id": "prompt-farmer",
   "metadata": {
    "execution": {
     "iopub.execute_input": "2021-07-07T02:00:16.519882Z",
     "iopub.status.busy": "2021-07-07T02:00:16.519210Z",
     "iopub.status.idle": "2021-07-07T02:00:16.521503Z",
     "shell.execute_reply": "2021-07-07T02:00:16.522067Z"
    },
    "papermill": {
     "duration": 0.019893,
     "end_time": "2021-07-07T02:00:16.522205",
     "exception": false,
     "start_time": "2021-07-07T02:00:16.502312",
     "status": "completed"
    },
    "tags": []
   },
   "outputs": [
    {
     "data": {
      "text/markdown": [
       "- KuCoin Completes the APENFT (NFT) Airdrop Program.  APENFT (NFT) is supported by KuCoin for its airdrop program related to the following token holders: JST (JUST), BTT (BitTorrent), and TRX (TRON). The very first airdrop has already been completed, and the following arrangements have been proposed: JST:NFT = 1:202.01818182 BTT:NFT = 1:3.03027273 TRX:NFT = 1:39.29543537 According to the latest announcement, KuCoin will be &#8230; ... [| Skaityti daugiau](https://www.cryptonewsz.com/kucoin-completes-the-apenft-nft-airdrop-program/) "
      ],
      "text/plain": [
       "<IPython.core.display.Markdown object>"
      ]
     },
     "execution_count": 6,
     "metadata": {},
     "output_type": "execute_result"
    }
   ],
   "source": [
    "#hide_input\n",
    "#md('##### {}'.format(titleBTC)) \n",
    "md(\"- {}{} {}{} [| Skaityti daugiau]({}) \".format(trx['title'],'. ', trx['body'], ' ...', trx['url']))"
   ]
  },
  {
   "cell_type": "code",
   "execution_count": 7,
   "id": "illegal-greece",
   "metadata": {
    "execution": {
     "iopub.execute_input": "2021-07-07T02:00:16.551285Z",
     "iopub.status.busy": "2021-07-07T02:00:16.550109Z",
     "iopub.status.idle": "2021-07-07T02:00:16.556609Z",
     "shell.execute_reply": "2021-07-07T02:00:16.554833Z"
    },
    "papermill": {
     "duration": 0.022247,
     "end_time": "2021-07-07T02:00:16.556769",
     "exception": false,
     "start_time": "2021-07-07T02:00:16.534522",
     "status": "completed"
    },
    "tags": []
   },
   "outputs": [
    {
     "data": {
      "text/markdown": [
       "- Sygnum becomes first bank in the world to offer Eth2 staking.  Sygnum emphasized the robust DeFi ecosystem being built on Ethereum. ... [| Skaityti daugiau](https://cointelegraph.com/news/sygnum-becomes-first-bank-in-the-world-to-offer-eth2-staking) "
      ],
      "text/plain": [
       "<IPython.core.display.Markdown object>"
      ]
     },
     "execution_count": 7,
     "metadata": {},
     "output_type": "execute_result"
    }
   ],
   "source": [
    "#hide_input\n",
    "#md('##### {}'.format(titleBTC)) \n",
    "md(\"- {}{} {}{} [| Skaityti daugiau]({}) \".format(eth['title'],'. ', eth['body'], ' ...', eth['url']))"
   ]
  },
  {
   "cell_type": "code",
   "execution_count": 8,
   "id": "sublime-lounge",
   "metadata": {
    "execution": {
     "iopub.execute_input": "2021-07-07T02:00:16.589248Z",
     "iopub.status.busy": "2021-07-07T02:00:16.588092Z",
     "iopub.status.idle": "2021-07-07T02:00:16.592510Z",
     "shell.execute_reply": "2021-07-07T02:00:16.591826Z"
    },
    "papermill": {
     "duration": 0.022814,
     "end_time": "2021-07-07T02:00:16.592662",
     "exception": false,
     "start_time": "2021-07-07T02:00:16.569848",
     "status": "completed"
    },
    "tags": []
   },
   "outputs": [
    {
     "data": {
      "text/markdown": [
       "- Cardano, XRP, MATIC Price Analysis: 06 July.  Despite recent price corrections in the broader crypto-market, many altcoins have still remained mostly sandwiched between their immediate support and resistance levels. ADA’s buyers, for instance, have fallen significantly over the last few days while XRP’s price movement has been mostly stagnant, with the altcoin struggling to break past its immediate resistance level. Finally, MATIC [&#8230;] ... [| Skaityti daugiau](https://ambcrypto.com/cardano-xrp-matic-price-analysis-06-july/) "
      ],
      "text/plain": [
       "<IPython.core.display.Markdown object>"
      ]
     },
     "execution_count": 8,
     "metadata": {},
     "output_type": "execute_result"
    }
   ],
   "source": [
    "#hide_input\n",
    "#md('##### {}'.format(titleBTC)) \n",
    "md(\"- {}{} {}{} [| Skaityti daugiau]({}) \".format(ada['title'],'. ', ada['body'], ' ...', ada['url']))"
   ]
  },
  {
   "cell_type": "code",
   "execution_count": 9,
   "id": "specified-ordering",
   "metadata": {
    "execution": {
     "iopub.execute_input": "2021-07-07T02:00:16.625778Z",
     "iopub.status.busy": "2021-07-07T02:00:16.624480Z",
     "iopub.status.idle": "2021-07-07T02:00:16.629253Z",
     "shell.execute_reply": "2021-07-07T02:00:16.629752Z"
    },
    "papermill": {
     "duration": 0.022292,
     "end_time": "2021-07-07T02:00:16.629892",
     "exception": false,
     "start_time": "2021-07-07T02:00:16.607600",
     "status": "completed"
    },
    "tags": []
   },
   "outputs": [
    {
     "data": {
      "text/markdown": [
       "- Binance Suspends SEPA Euro Bank Deposits.  Customers must instead rely on credit or debit card payments. ... [| Skaityti daugiau](https://decrypt.co/75356/binance-suspends-sepa-euro-bank-deposits) "
      ],
      "text/plain": [
       "<IPython.core.display.Markdown object>"
      ]
     },
     "execution_count": 9,
     "metadata": {},
     "output_type": "execute_result"
    }
   ],
   "source": [
    "#hide_input\n",
    "#md('##### {}'.format(titleBTC)) \n",
    "md(\"- {}{} {}{} [| Skaityti daugiau]({}) \".format(exchange['title'],'. ', exchange['body'], ' ...', exchange['url']))"
   ]
  },
  {
   "cell_type": "code",
   "execution_count": null,
   "id": "tender-livestock",
   "metadata": {
    "papermill": {
     "duration": 0.013027,
     "end_time": "2021-07-07T02:00:16.656061",
     "exception": false,
     "start_time": "2021-07-07T02:00:16.643034",
     "status": "completed"
    },
    "tags": []
   },
   "outputs": [],
   "source": []
  },
  {
   "cell_type": "code",
   "execution_count": null,
   "id": "appreciated-diamond",
   "metadata": {
    "papermill": {
     "duration": 0.01287,
     "end_time": "2021-07-07T02:00:16.682134",
     "exception": false,
     "start_time": "2021-07-07T02:00:16.669264",
     "status": "completed"
    },
    "tags": []
   },
   "outputs": [],
   "source": []
  },
  {
   "cell_type": "code",
   "execution_count": null,
   "id": "romance-sweden",
   "metadata": {
    "papermill": {
     "duration": 0.014134,
     "end_time": "2021-07-07T02:00:16.709249",
     "exception": false,
     "start_time": "2021-07-07T02:00:16.695115",
     "status": "completed"
    },
    "tags": []
   },
   "outputs": [],
   "source": []
  },
  {
   "cell_type": "code",
   "execution_count": null,
   "id": "dietary-statistics",
   "metadata": {
    "papermill": {
     "duration": 0.01333,
     "end_time": "2021-07-07T02:00:16.735568",
     "exception": false,
     "start_time": "2021-07-07T02:00:16.722238",
     "status": "completed"
    },
    "tags": []
   },
   "outputs": [],
   "source": []
  }
 ],
 "metadata": {
  "kernelspec": {
   "display_name": "Python 3",
   "language": "python",
   "name": "python3"
  },
  "language_info": {
   "codemirror_mode": {
    "name": "ipython",
    "version": 3
   },
   "file_extension": ".py",
   "mimetype": "text/x-python",
   "name": "python",
   "nbconvert_exporter": "python",
   "pygments_lexer": "ipython3",
   "version": "3.6.13"
  },
  "papermill": {
   "default_parameters": {},
   "duration": 12.34292,
   "end_time": "2021-07-07T02:00:17.992652",
   "environment_variables": {},
   "exception": null,
   "input_path": "Market-News.ipynb",
   "output_path": "Market-News.ipynb",
   "parameters": {},
   "start_time": "2021-07-07T02:00:05.649732",
   "version": "2.2.2"
  }
 },
 "nbformat": 4,
 "nbformat_minor": 5
}