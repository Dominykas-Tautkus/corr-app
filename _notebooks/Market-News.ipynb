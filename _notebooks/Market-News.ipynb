{
 "cells": [
  {
   "cell_type": "markdown",
   "id": "short-greensboro",
   "metadata": {
    "papermill": {
     "duration": 0.016695,
     "end_time": "2021-02-13T01:38:57.264595",
     "exception": false,
     "start_time": "2021-02-13T01:38:57.247900",
     "status": "completed"
    },
    "tags": []
   },
   "source": [
    "# Kriptovaliutų naujienos"
   ]
  },
  {
   "cell_type": "code",
   "execution_count": 1,
   "id": "functioning-knowing",
   "metadata": {
    "execution": {
     "iopub.execute_input": "2021-02-13T01:38:57.303808Z",
     "iopub.status.busy": "2021-02-13T01:38:57.303033Z",
     "iopub.status.idle": "2021-02-13T01:38:58.860507Z",
     "shell.execute_reply": "2021-02-13T01:38:58.859855Z"
    },
    "papermill": {
     "duration": 1.58254,
     "end_time": "2021-02-13T01:38:58.860672",
     "exception": false,
     "start_time": "2021-02-13T01:38:57.278132",
     "status": "completed"
    },
    "tags": []
   },
   "outputs": [],
   "source": [
    "#hide_input\n",
    "import warnings\n",
    "warnings.filterwarnings('ignore')\n",
    "from scripts.read_data import read_api\n",
    "from scripts.read_data import read_news\n",
    "from scripts.read_data import read_covid\n",
    "import matplotlib.pyplot as plt \n",
    "from IPython.display import Markdown as md"
   ]
  },
  {
   "cell_type": "code",
   "execution_count": 2,
   "id": "shared-acceptance",
   "metadata": {
    "execution": {
     "iopub.execute_input": "2021-02-13T01:38:58.895582Z",
     "iopub.status.busy": "2021-02-13T01:38:58.894815Z",
     "iopub.status.idle": "2021-02-13T01:39:08.450858Z",
     "shell.execute_reply": "2021-02-13T01:39:08.451728Z"
    },
    "papermill": {
     "duration": 9.577864,
     "end_time": "2021-02-13T01:39:08.451901",
     "exception": false,
     "start_time": "2021-02-13T01:38:58.874037",
     "status": "completed"
    },
    "tags": []
   },
   "outputs": [],
   "source": [
    "#hide_input\n",
    "blockchain = read_news('blockchain') \n",
    "btc = read_news('btc') \n",
    "xrp = read_news('xrp') \n",
    "trx = read_news('trx') \n",
    "eth = read_news('eth')  \n",
    "ada = read_news('ada')\n",
    "exchange = read_news('exchange') "
   ]
  },
  {
   "cell_type": "code",
   "execution_count": 3,
   "id": "synthetic-notion",
   "metadata": {
    "execution": {
     "iopub.execute_input": "2021-02-13T01:39:08.485178Z",
     "iopub.status.busy": "2021-02-13T01:39:08.484504Z",
     "iopub.status.idle": "2021-02-13T01:39:08.490733Z",
     "shell.execute_reply": "2021-02-13T01:39:08.491277Z"
    },
    "papermill": {
     "duration": 0.027544,
     "end_time": "2021-02-13T01:39:08.491495",
     "exception": false,
     "start_time": "2021-02-13T01:39:08.463951",
     "status": "completed"
    },
    "tags": []
   },
   "outputs": [
    {
     "data": {
      "text/markdown": [
       "- USDtz to enable private stablecoin transactions on Tezos (XTZ).  Prelude – zkChannels – a layer 2 scaling solution from Bolt Labs building on Tezos, will enable private transactions for USDtz and the whole StableTez token family. The post USDtz to enable private stablecoin transactions on Tezos (XTZ) appeared first on CryptoSlate. ... [| Skaityti daugiau](https://cryptoslate.com/usdtz-to-enable-private-stablecoin-transactions-on-tezos-xtz/) "
      ],
      "text/plain": [
       "<IPython.core.display.Markdown object>"
      ]
     },
     "execution_count": 3,
     "metadata": {},
     "output_type": "execute_result"
    }
   ],
   "source": [
    "#hide_input\n",
    "#md('##### {}'.format(titleBTC)) \n",
    "md(\"- {}{} {}{} [| Skaityti daugiau]({}) \".format(blockchain['title'],'. ', blockchain['body'], ' ...', blockchain['url']))"
   ]
  },
  {
   "cell_type": "code",
   "execution_count": 4,
   "id": "aging-caution",
   "metadata": {
    "execution": {
     "iopub.execute_input": "2021-02-13T01:39:08.524750Z",
     "iopub.status.busy": "2021-02-13T01:39:08.524052Z",
     "iopub.status.idle": "2021-02-13T01:39:08.527408Z",
     "shell.execute_reply": "2021-02-13T01:39:08.527985Z"
    },
    "papermill": {
     "duration": 0.024086,
     "end_time": "2021-02-13T01:39:08.528167",
     "exception": false,
     "start_time": "2021-02-13T01:39:08.504081",
     "status": "completed"
    },
    "tags": []
   },
   "outputs": [
    {
     "data": {
      "text/markdown": [
       "- Key Bitcoin price metric signals traders are positioned for $50K BTC.  A key Bitcoin price metric is signaling that top traders are comfortably positioned and expect BTC to secure the $50,000 level in the short term. ... [| Skaityti daugiau](https://cointelegraph.com/news/key-bitcoin-price-metric-signals-traders-are-positioned-for-50k-btc) "
      ],
      "text/plain": [
       "<IPython.core.display.Markdown object>"
      ]
     },
     "execution_count": 4,
     "metadata": {},
     "output_type": "execute_result"
    }
   ],
   "source": [
    "#hide_input\n",
    "#md('##### {}'.format(titleBTC)) \n",
    "md(\"- {}{} {}{} [| Skaityti daugiau]({}) \".format(btc['title'],'. ', btc['body'], ' ...', btc['url']))"
   ]
  },
  {
   "cell_type": "code",
   "execution_count": 5,
   "id": "organic-actress",
   "metadata": {
    "execution": {
     "iopub.execute_input": "2021-02-13T01:39:08.567082Z",
     "iopub.status.busy": "2021-02-13T01:39:08.566307Z",
     "iopub.status.idle": "2021-02-13T01:39:08.572593Z",
     "shell.execute_reply": "2021-02-13T01:39:08.573151Z"
    },
    "papermill": {
     "duration": 0.027609,
     "end_time": "2021-02-13T01:39:08.573322",
     "exception": false,
     "start_time": "2021-02-13T01:39:08.545713",
     "status": "completed"
    },
    "tags": []
   },
   "outputs": [
    {
     "data": {
      "text/markdown": [
       "- Price analysis 2/12: BTC, ETH, ADA, XRP, DOT, BNB, LTC, LINK, XLM, BCH.  Altcoins are soaring to new highs while Bitcoin price trades in a sideways range near the $47,000 support. ... [| Skaityti daugiau](https://cointelegraph.com/news/price-analysis-2-12-btc-eth-ada-xrp-dot-bnb-ltc-link-xlm-bch) "
      ],
      "text/plain": [
       "<IPython.core.display.Markdown object>"
      ]
     },
     "execution_count": 5,
     "metadata": {},
     "output_type": "execute_result"
    }
   ],
   "source": [
    "#hide_input\n",
    "#md('##### {}'.format(titleBTC)) \n",
    "md(\"- {}{} {}{} [| Skaityti daugiau]({}) \".format(xrp['title'],'. ', xrp['body'], ' ...', xrp['url']))"
   ]
  },
  {
   "cell_type": "code",
   "execution_count": 6,
   "id": "prompt-farmer",
   "metadata": {
    "execution": {
     "iopub.execute_input": "2021-02-13T01:39:08.608360Z",
     "iopub.status.busy": "2021-02-13T01:39:08.607574Z",
     "iopub.status.idle": "2021-02-13T01:39:08.612139Z",
     "shell.execute_reply": "2021-02-13T01:39:08.611462Z"
    },
    "papermill": {
     "duration": 0.024569,
     "end_time": "2021-02-13T01:39:08.612295",
     "exception": false,
     "start_time": "2021-02-13T01:39:08.587726",
     "status": "completed"
    },
    "tags": []
   },
   "outputs": [
    {
     "data": {
      "text/markdown": [
       "- Justin Sun Incites SEC With Tron Shilling After Suffering USD 8m GameStop Loss.  Justin Sun. Source: Twitter, @justinsuntronTron (TRX) founder Justin Sun has been up to his old tricks again, seemingly paying American celebrities such as Lindsay Lohan and Ne-Yo to shill TRX and related tokens on Twitter. His latest promotional activities come after the crypto entrepreneur admitted to losing USD 8m on GameStop shares. Observers on Twitter have suggested that Sun’s latest ... [| Skaityti daugiau](https://cryptonews.com/news/justin-sun-incites-sec-with-tron-shilling-after-suffering-us-9212.htm) "
      ],
      "text/plain": [
       "<IPython.core.display.Markdown object>"
      ]
     },
     "execution_count": 6,
     "metadata": {},
     "output_type": "execute_result"
    }
   ],
   "source": [
    "#hide_input\n",
    "#md('##### {}'.format(titleBTC)) \n",
    "md(\"- {}{} {}{} [| Skaityti daugiau]({}) \".format(trx['title'],'. ', trx['body'], ' ...', trx['url']))"
   ]
  },
  {
   "cell_type": "code",
   "execution_count": 7,
   "id": "illegal-greece",
   "metadata": {
    "execution": {
     "iopub.execute_input": "2021-02-13T01:39:08.647470Z",
     "iopub.status.busy": "2021-02-13T01:39:08.646800Z",
     "iopub.status.idle": "2021-02-13T01:39:08.650459Z",
     "shell.execute_reply": "2021-02-13T01:39:08.651164Z"
    },
    "papermill": {
     "duration": 0.024486,
     "end_time": "2021-02-13T01:39:08.651331",
     "exception": false,
     "start_time": "2021-02-13T01:39:08.626845",
     "status": "completed"
    },
    "tags": []
   },
   "outputs": [
    {
     "data": {
      "text/markdown": [
       "- As Bitcoin on Ethereum Tops $8 Billion, Another Player Enters the Market.  mStable, a self-described “meta-stablecoin” company, today launched mBTC, a cryptocurrency pegged to \"Bitcoin stablecoins.\" ... [| Skaityti daugiau](https://decrypt.co/57629/bitcoin-ethereum-8-billion-market-mbtc) "
      ],
      "text/plain": [
       "<IPython.core.display.Markdown object>"
      ]
     },
     "execution_count": 7,
     "metadata": {},
     "output_type": "execute_result"
    }
   ],
   "source": [
    "#hide_input\n",
    "#md('##### {}'.format(titleBTC)) \n",
    "md(\"- {}{} {}{} [| Skaityti daugiau]({}) \".format(eth['title'],'. ', eth['body'], ' ...', eth['url']))"
   ]
  },
  {
   "cell_type": "code",
   "execution_count": 8,
   "id": "sublime-lounge",
   "metadata": {
    "execution": {
     "iopub.execute_input": "2021-02-13T01:39:08.686534Z",
     "iopub.status.busy": "2021-02-13T01:39:08.685772Z",
     "iopub.status.idle": "2021-02-13T01:39:08.690459Z",
     "shell.execute_reply": "2021-02-13T01:39:08.689818Z"
    },
    "papermill": {
     "duration": 0.024948,
     "end_time": "2021-02-13T01:39:08.690650",
     "exception": false,
     "start_time": "2021-02-13T01:39:08.665702",
     "status": "completed"
    },
    "tags": []
   },
   "outputs": [
    {
     "data": {
      "text/markdown": [
       "- Price analysis 2/12: BTC, ETH, ADA, XRP, DOT, BNB, LTC, LINK, XLM, BCH.  Altcoins are soaring to new highs while Bitcoin price trades in a sideways range near the $47,000 support. ... [| Skaityti daugiau](https://cointelegraph.com/news/price-analysis-2-12-btc-eth-ada-xrp-dot-bnb-ltc-link-xlm-bch) "
      ],
      "text/plain": [
       "<IPython.core.display.Markdown object>"
      ]
     },
     "execution_count": 8,
     "metadata": {},
     "output_type": "execute_result"
    }
   ],
   "source": [
    "#hide_input\n",
    "#md('##### {}'.format(titleBTC)) \n",
    "md(\"- {}{} {}{} [| Skaityti daugiau]({}) \".format(ada['title'],'. ', ada['body'], ' ...', ada['url']))"
   ]
  },
  {
   "cell_type": "code",
   "execution_count": 9,
   "id": "specified-ordering",
   "metadata": {
    "execution": {
     "iopub.execute_input": "2021-02-13T01:39:08.726501Z",
     "iopub.status.busy": "2021-02-13T01:39:08.725811Z",
     "iopub.status.idle": "2021-02-13T01:39:08.733116Z",
     "shell.execute_reply": "2021-02-13T01:39:08.732461Z"
    },
    "papermill": {
     "duration": 0.027201,
     "end_time": "2021-02-13T01:39:08.733260",
     "exception": false,
     "start_time": "2021-02-13T01:39:08.706059",
     "status": "completed"
    },
    "tags": []
   },
   "outputs": [
    {
     "data": {
      "text/markdown": [
       "- This Hot DeFi Token Is up 1000% so Far This Year.  The token of a relatively new decentralized exchange in the decentralized finance (DeFi) space has rallied over 1,000% so far this year as the DEX has been seeing massive trading volumes over the last few weeks. The native token of PancakeSwap (CAFE) launched late last year and has surged recently as the exchange is now […] ... [| Skaityti daugiau](https://www.cryptoglobe.com/latest/2021/02/this-hot-defi-token-is-up-1000-so-far-this-year/) "
      ],
      "text/plain": [
       "<IPython.core.display.Markdown object>"
      ]
     },
     "execution_count": 9,
     "metadata": {},
     "output_type": "execute_result"
    }
   ],
   "source": [
    "#hide_input\n",
    "#md('##### {}'.format(titleBTC)) \n",
    "md(\"- {}{} {}{} [| Skaityti daugiau]({}) \".format(exchange['title'],'. ', exchange['body'], ' ...', exchange['url']))"
   ]
  },
  {
   "cell_type": "code",
   "execution_count": null,
   "id": "tender-livestock",
   "metadata": {
    "papermill": {
     "duration": 0.015579,
     "end_time": "2021-02-13T01:39:08.764284",
     "exception": false,
     "start_time": "2021-02-13T01:39:08.748705",
     "status": "completed"
    },
    "tags": []
   },
   "outputs": [],
   "source": []
  },
  {
   "cell_type": "code",
   "execution_count": null,
   "id": "appreciated-diamond",
   "metadata": {
    "papermill": {
     "duration": 0.015238,
     "end_time": "2021-02-13T01:39:08.795008",
     "exception": false,
     "start_time": "2021-02-13T01:39:08.779770",
     "status": "completed"
    },
    "tags": []
   },
   "outputs": [],
   "source": []
  },
  {
   "cell_type": "code",
   "execution_count": null,
   "id": "romance-sweden",
   "metadata": {
    "papermill": {
     "duration": 0.015984,
     "end_time": "2021-02-13T01:39:08.826664",
     "exception": false,
     "start_time": "2021-02-13T01:39:08.810680",
     "status": "completed"
    },
    "tags": []
   },
   "outputs": [],
   "source": []
  },
  {
   "cell_type": "code",
   "execution_count": null,
   "id": "dietary-statistics",
   "metadata": {
    "papermill": {
     "duration": 0.015425,
     "end_time": "2021-02-13T01:39:08.857660",
     "exception": false,
     "start_time": "2021-02-13T01:39:08.842235",
     "status": "completed"
    },
    "tags": []
   },
   "outputs": [],
   "source": []
  }
 ],
 "metadata": {
  "kernelspec": {
   "display_name": "Python 3",
   "language": "python",
   "name": "python3"
  },
  "language_info": {
   "codemirror_mode": {
    "name": "ipython",
    "version": 3
   },
   "file_extension": ".py",
   "mimetype": "text/x-python",
   "name": "python",
   "nbconvert_exporter": "python",
   "pygments_lexer": "ipython3",
   "version": "3.6.12"
  },
  "papermill": {
   "default_parameters": {},
   "duration": 13.286795,
   "end_time": "2021-02-13T01:39:09.283593",
   "environment_variables": {},
   "exception": null,
   "input_path": "Market-News.ipynb",
   "output_path": "Market-News.ipynb",
   "parameters": {},
   "start_time": "2021-02-13T01:38:55.996798",
   "version": "2.2.2"
  }
 },
 "nbformat": 4,
 "nbformat_minor": 5
}