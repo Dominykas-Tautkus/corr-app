{
 "cells": [
  {
   "cell_type": "markdown",
   "id": "short-greensboro",
   "metadata": {
    "papermill": {
     "duration": 0.013397,
     "end_time": "2021-04-24T02:11:22.893216",
     "exception": false,
     "start_time": "2021-04-24T02:11:22.879819",
     "status": "completed"
    },
    "tags": []
   },
   "source": [
    "# Kriptovaliutų naujienos"
   ]
  },
  {
   "cell_type": "code",
   "execution_count": 1,
   "id": "functioning-knowing",
   "metadata": {
    "execution": {
     "iopub.execute_input": "2021-04-24T02:11:22.922686Z",
     "iopub.status.busy": "2021-04-24T02:11:22.922167Z",
     "iopub.status.idle": "2021-04-24T02:11:24.042229Z",
     "shell.execute_reply": "2021-04-24T02:11:24.041774Z"
    },
    "papermill": {
     "duration": 1.139408,
     "end_time": "2021-04-24T02:11:24.042365",
     "exception": false,
     "start_time": "2021-04-24T02:11:22.902957",
     "status": "completed"
    },
    "tags": []
   },
   "outputs": [],
   "source": [
    "#hide_input\n",
    "import warnings\n",
    "warnings.filterwarnings('ignore')\n",
    "from scripts.read_data import read_api\n",
    "from scripts.read_data import read_news\n",
    "from scripts.read_data import read_covid\n",
    "import matplotlib.pyplot as plt \n",
    "from IPython.display import Markdown as md"
   ]
  },
  {
   "cell_type": "code",
   "execution_count": 2,
   "id": "shared-acceptance",
   "metadata": {
    "execution": {
     "iopub.execute_input": "2021-04-24T02:11:24.067167Z",
     "iopub.status.busy": "2021-04-24T02:11:24.066632Z",
     "iopub.status.idle": "2021-04-24T02:11:32.186802Z",
     "shell.execute_reply": "2021-04-24T02:11:32.185899Z"
    },
    "papermill": {
     "duration": 8.135063,
     "end_time": "2021-04-24T02:11:32.186936",
     "exception": false,
     "start_time": "2021-04-24T02:11:24.051873",
     "status": "completed"
    },
    "tags": []
   },
   "outputs": [],
   "source": [
    "#hide_input\n",
    "blockchain = read_news('blockchain') \n",
    "btc = read_news('btc') \n",
    "xrp = read_news('xrp') \n",
    "trx = read_news('trx') \n",
    "eth = read_news('eth')  \n",
    "ada = read_news('ada')\n",
    "exchange = read_news('exchange') "
   ]
  },
  {
   "cell_type": "code",
   "execution_count": 3,
   "id": "synthetic-notion",
   "metadata": {
    "execution": {
     "iopub.execute_input": "2021-04-24T02:11:32.211196Z",
     "iopub.status.busy": "2021-04-24T02:11:32.210695Z",
     "iopub.status.idle": "2021-04-24T02:11:32.213519Z",
     "shell.execute_reply": "2021-04-24T02:11:32.213127Z"
    },
    "papermill": {
     "duration": 0.017265,
     "end_time": "2021-04-24T02:11:32.213620",
     "exception": false,
     "start_time": "2021-04-24T02:11:32.196355",
     "status": "completed"
    },
    "tags": []
   },
   "outputs": [
    {
     "data": {
      "text/markdown": [
       "- Metis to Revolutionize NFTs With Launch of Community-Minted NFT, ‘’Rebuilding the Tower of Babel’’.  The craze for Non-Fungible Tokens (NFT) has engulfed the blockchain space as more people move towards this unique sector. The ability to sell works of art and tokenize real-life assets has ensured that the NFT sector has grown immensely, with record sales of NFTs witnessed in recent weeks. However, to this point the NFTs released [&#8230;] ... [| Skaityti daugiau](https://news.bitcoin.com/metis-to-revolutionize-nfts-with-launch-of-community-minted-nft-rebuilding-the-tower-of-babel/) "
      ],
      "text/plain": [
       "<IPython.core.display.Markdown object>"
      ]
     },
     "execution_count": 3,
     "metadata": {},
     "output_type": "execute_result"
    }
   ],
   "source": [
    "#hide_input\n",
    "#md('##### {}'.format(titleBTC)) \n",
    "md(\"- {}{} {}{} [| Skaityti daugiau]({}) \".format(blockchain['title'],'. ', blockchain['body'], ' ...', blockchain['url']))"
   ]
  },
  {
   "cell_type": "code",
   "execution_count": 4,
   "id": "aging-caution",
   "metadata": {
    "execution": {
     "iopub.execute_input": "2021-04-24T02:11:32.236676Z",
     "iopub.status.busy": "2021-04-24T02:11:32.236191Z",
     "iopub.status.idle": "2021-04-24T02:11:32.239339Z",
     "shell.execute_reply": "2021-04-24T02:11:32.238952Z"
    },
    "papermill": {
     "duration": 0.016419,
     "end_time": "2021-04-24T02:11:32.239436",
     "exception": false,
     "start_time": "2021-04-24T02:11:32.223017",
     "status": "completed"
    },
    "tags": []
   },
   "outputs": [
    {
     "data": {
      "text/markdown": [
       "- UK court to consider Craig Wright’s claim of ‘inventing’ Bitcoin.  The UK High Court has allowed Craig Wright&#8217;s lawyers to pursue legal action against the bitcoin.org website for copyright infringement. The post UK court to consider Craig Wright&#8217;s claim of &#8216;inventing&#8217; Bitcoin appeared first on CryptoSlate. ... [| Skaityti daugiau](https://cryptoslate.com/uk-court-to-consider-craig-wrights-claim-of-inventing-bitcoin/) "
      ],
      "text/plain": [
       "<IPython.core.display.Markdown object>"
      ]
     },
     "execution_count": 4,
     "metadata": {},
     "output_type": "execute_result"
    }
   ],
   "source": [
    "#hide_input\n",
    "#md('##### {}'.format(titleBTC)) \n",
    "md(\"- {}{} {}{} [| Skaityti daugiau]({}) \".format(btc['title'],'. ', btc['body'], ' ...', btc['url']))"
   ]
  },
  {
   "cell_type": "code",
   "execution_count": 5,
   "id": "organic-actress",
   "metadata": {
    "execution": {
     "iopub.execute_input": "2021-04-24T02:11:32.263972Z",
     "iopub.status.busy": "2021-04-24T02:11:32.263421Z",
     "iopub.status.idle": "2021-04-24T02:11:32.265481Z",
     "shell.execute_reply": "2021-04-24T02:11:32.265991Z"
    },
    "papermill": {
     "duration": 0.017134,
     "end_time": "2021-04-24T02:11:32.266111",
     "exception": false,
     "start_time": "2021-04-24T02:11:32.248977",
     "status": "completed"
    },
    "tags": []
   },
   "outputs": [
    {
     "data": {
      "text/markdown": [
       "- Bitcoin’s Market Dominance Slides to 50%, While Ethereum’s Valuation Climbs Higher.  Bitcoin dominance, the metric that measures bitcoin&#8217;s overall market capitalization against all the other crypto asset valuations have dropped considerably in recent weeks. At the end of February, bitcoin dominance levels started sliding downward from 61% to today&#8217;s 50%. Meanwhile, from the same point in time ethereum&#8217;s market capitalization has increased from 11.8% to today&#8217;s [&#8230;] ... [| Skaityti daugiau](https://news.bitcoin.com/bitcoins-market-dominance-slides-to-50-while-ethereums-valuation-climbs-higher/) "
      ],
      "text/plain": [
       "<IPython.core.display.Markdown object>"
      ]
     },
     "execution_count": 5,
     "metadata": {},
     "output_type": "execute_result"
    }
   ],
   "source": [
    "#hide_input\n",
    "#md('##### {}'.format(titleBTC)) \n",
    "md(\"- {}{} {}{} [| Skaityti daugiau]({}) \".format(xrp['title'],'. ', xrp['body'], ' ...', xrp['url']))"
   ]
  },
  {
   "cell_type": "code",
   "execution_count": 6,
   "id": "prompt-farmer",
   "metadata": {
    "execution": {
     "iopub.execute_input": "2021-04-24T02:11:32.291673Z",
     "iopub.status.busy": "2021-04-24T02:11:32.291189Z",
     "iopub.status.idle": "2021-04-24T02:11:32.293726Z",
     "shell.execute_reply": "2021-04-24T02:11:32.294094Z"
    },
    "papermill": {
     "duration": 0.017783,
     "end_time": "2021-04-24T02:11:32.294201",
     "exception": false,
     "start_time": "2021-04-24T02:11:32.276418",
     "status": "completed"
    },
    "tags": []
   },
   "outputs": [
    {
     "data": {
      "text/markdown": [
       "- TRX Price Analysis: TRX Uptrend Begins To Collapse After Smashing an Yearly High.  TRX is currently facing strong hindrances inside the $0.30 and $0.38 range. TRX seems to be forming a head and shoulder pattern on the daily chart. The token has recently broken out of a 3-year resistance. Looking upon the daily chart of TRX, it is perceived that this token is in the midst of forming [&#8230;] ... [| Skaityti daugiau](https://www.thecoinrepublic.com/2021/04/21/trx-price-analysis-trx-uptrend-begins-to-collapse-after-smashing-an-yearly-high/) "
      ],
      "text/plain": [
       "<IPython.core.display.Markdown object>"
      ]
     },
     "execution_count": 6,
     "metadata": {},
     "output_type": "execute_result"
    }
   ],
   "source": [
    "#hide_input\n",
    "#md('##### {}'.format(titleBTC)) \n",
    "md(\"- {}{} {}{} [| Skaityti daugiau]({}) \".format(trx['title'],'. ', trx['body'], ' ...', trx['url']))"
   ]
  },
  {
   "cell_type": "code",
   "execution_count": 7,
   "id": "illegal-greece",
   "metadata": {
    "execution": {
     "iopub.execute_input": "2021-04-24T02:11:32.317993Z",
     "iopub.status.busy": "2021-04-24T02:11:32.317515Z",
     "iopub.status.idle": "2021-04-24T02:11:32.320712Z",
     "shell.execute_reply": "2021-04-24T02:11:32.321079Z"
    },
    "papermill": {
     "duration": 0.01664,
     "end_time": "2021-04-24T02:11:32.321185",
     "exception": false,
     "start_time": "2021-04-24T02:11:32.304545",
     "status": "completed"
    },
    "tags": []
   },
   "outputs": [
    {
     "data": {
      "text/markdown": [
       "- Bitcoin’s Market Dominance Slides to 50%, While Ethereum’s Valuation Climbs Higher.  Bitcoin dominance, the metric that measures bitcoin&#8217;s overall market capitalization against all the other crypto asset valuations have dropped considerably in recent weeks. At the end of February, bitcoin dominance levels started sliding downward from 61% to today&#8217;s 50%. Meanwhile, from the same point in time ethereum&#8217;s market capitalization has increased from 11.8% to today&#8217;s [&#8230;] ... [| Skaityti daugiau](https://news.bitcoin.com/bitcoins-market-dominance-slides-to-50-while-ethereums-valuation-climbs-higher/) "
      ],
      "text/plain": [
       "<IPython.core.display.Markdown object>"
      ]
     },
     "execution_count": 7,
     "metadata": {},
     "output_type": "execute_result"
    }
   ],
   "source": [
    "#hide_input\n",
    "#md('##### {}'.format(titleBTC)) \n",
    "md(\"- {}{} {}{} [| Skaityti daugiau]({}) \".format(eth['title'],'. ', eth['body'], ' ...', eth['url']))"
   ]
  },
  {
   "cell_type": "code",
   "execution_count": 8,
   "id": "sublime-lounge",
   "metadata": {
    "execution": {
     "iopub.execute_input": "2021-04-24T02:11:32.346467Z",
     "iopub.status.busy": "2021-04-24T02:11:32.345988Z",
     "iopub.status.idle": "2021-04-24T02:11:32.349090Z",
     "shell.execute_reply": "2021-04-24T02:11:32.348702Z"
    },
    "papermill": {
     "duration": 0.017445,
     "end_time": "2021-04-24T02:11:32.349184",
     "exception": false,
     "start_time": "2021-04-24T02:11:32.331739",
     "status": "completed"
    },
    "tags": []
   },
   "outputs": [
    {
     "data": {
      "text/markdown": [
       "- Cardano Price Analysis: 23 April.  In the past 16 hours, Cardano [ADA] has lost 16% of its value. The digital asset has slumped from $1.28 to $1. Currently, ADA has been treading above a crucial level of support but the market indicators have not been spelling large gains in the short term. With a market capitalization of $33.03 billion, ADA [&#8230;] ... [| Skaityti daugiau](https://ambcrypto.com/cardano-price-analysis-23-april/) "
      ],
      "text/plain": [
       "<IPython.core.display.Markdown object>"
      ]
     },
     "execution_count": 8,
     "metadata": {},
     "output_type": "execute_result"
    }
   ],
   "source": [
    "#hide_input\n",
    "#md('##### {}'.format(titleBTC)) \n",
    "md(\"- {}{} {}{} [| Skaityti daugiau]({}) \".format(ada['title'],'. ', ada['body'], ' ...', ada['url']))"
   ]
  },
  {
   "cell_type": "code",
   "execution_count": 9,
   "id": "specified-ordering",
   "metadata": {
    "execution": {
     "iopub.execute_input": "2021-04-24T02:11:32.379009Z",
     "iopub.status.busy": "2021-04-24T02:11:32.378481Z",
     "iopub.status.idle": "2021-04-24T02:11:32.380254Z",
     "shell.execute_reply": "2021-04-24T02:11:32.380637Z"
    },
    "papermill": {
     "duration": 0.020715,
     "end_time": "2021-04-24T02:11:32.380742",
     "exception": false,
     "start_time": "2021-04-24T02:11:32.360027",
     "status": "completed"
    },
    "tags": []
   },
   "outputs": [
    {
     "data": {
      "text/markdown": [
       "- Second Turkish Bitcoin Exchange Abruptly Shuts Down, Locking Up Funds.  Vebitcoin is the second Turkish cryptocurrency exchange to suddenly cease operations this week, citing financial difficulties. ... [| Skaityti daugiau](https://decrypt.co/68977/second-turkish-bitcoin-exchange-abruptly-shuts-down-locking-up-funds) "
      ],
      "text/plain": [
       "<IPython.core.display.Markdown object>"
      ]
     },
     "execution_count": 9,
     "metadata": {},
     "output_type": "execute_result"
    }
   ],
   "source": [
    "#hide_input\n",
    "#md('##### {}'.format(titleBTC)) \n",
    "md(\"- {}{} {}{} [| Skaityti daugiau]({}) \".format(exchange['title'],'. ', exchange['body'], ' ...', exchange['url']))"
   ]
  },
  {
   "cell_type": "code",
   "execution_count": null,
   "id": "tender-livestock",
   "metadata": {
    "papermill": {
     "duration": 0.011132,
     "end_time": "2021-04-24T02:11:32.403020",
     "exception": false,
     "start_time": "2021-04-24T02:11:32.391888",
     "status": "completed"
    },
    "tags": []
   },
   "outputs": [],
   "source": []
  },
  {
   "cell_type": "code",
   "execution_count": null,
   "id": "appreciated-diamond",
   "metadata": {
    "papermill": {
     "duration": 0.01115,
     "end_time": "2021-04-24T02:11:32.425464",
     "exception": false,
     "start_time": "2021-04-24T02:11:32.414314",
     "status": "completed"
    },
    "tags": []
   },
   "outputs": [],
   "source": []
  },
  {
   "cell_type": "code",
   "execution_count": null,
   "id": "romance-sweden",
   "metadata": {
    "papermill": {
     "duration": 0.011151,
     "end_time": "2021-04-24T02:11:32.447774",
     "exception": false,
     "start_time": "2021-04-24T02:11:32.436623",
     "status": "completed"
    },
    "tags": []
   },
   "outputs": [],
   "source": []
  },
  {
   "cell_type": "code",
   "execution_count": null,
   "id": "dietary-statistics",
   "metadata": {
    "papermill": {
     "duration": 0.011125,
     "end_time": "2021-04-24T02:11:32.470036",
     "exception": false,
     "start_time": "2021-04-24T02:11:32.458911",
     "status": "completed"
    },
    "tags": []
   },
   "outputs": [],
   "source": []
  }
 ],
 "metadata": {
  "kernelspec": {
   "display_name": "Python 3",
   "language": "python",
   "name": "python3"
  },
  "language_info": {
   "codemirror_mode": {
    "name": "ipython",
    "version": 3
   },
   "file_extension": ".py",
   "mimetype": "text/x-python",
   "name": "python",
   "nbconvert_exporter": "python",
   "pygments_lexer": "ipython3",
   "version": "3.6.13"
  },
  "papermill": {
   "default_parameters": {},
   "duration": 11.234176,
   "end_time": "2021-04-24T02:11:32.889024",
   "environment_variables": {},
   "exception": null,
   "input_path": "Market-News.ipynb",
   "output_path": "Market-News.ipynb",
   "parameters": {},
   "start_time": "2021-04-24T02:11:21.654848",
   "version": "2.2.2"
  }
 },
 "nbformat": 4,
 "nbformat_minor": 5
}