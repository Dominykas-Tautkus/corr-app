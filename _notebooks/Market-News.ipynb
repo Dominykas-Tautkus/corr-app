{
 "cells": [
  {
   "cell_type": "markdown",
   "id": "short-greensboro",
   "metadata": {
    "papermill": {
     "duration": 0.015802,
     "end_time": "2021-04-07T02:11:33.831403",
     "exception": false,
     "start_time": "2021-04-07T02:11:33.815601",
     "status": "completed"
    },
    "tags": []
   },
   "source": [
    "# Kriptovaliutų naujienos"
   ]
  },
  {
   "cell_type": "code",
   "execution_count": 1,
   "id": "functioning-knowing",
   "metadata": {
    "execution": {
     "iopub.execute_input": "2021-04-07T02:11:33.863128Z",
     "iopub.status.busy": "2021-04-07T02:11:33.862488Z",
     "iopub.status.idle": "2021-04-07T02:11:35.121898Z",
     "shell.execute_reply": "2021-04-07T02:11:35.122728Z"
    },
    "papermill": {
     "duration": 1.280903,
     "end_time": "2021-04-07T02:11:35.123005",
     "exception": false,
     "start_time": "2021-04-07T02:11:33.842102",
     "status": "completed"
    },
    "tags": []
   },
   "outputs": [],
   "source": [
    "#hide_input\n",
    "import warnings\n",
    "warnings.filterwarnings('ignore')\n",
    "from scripts.read_data import read_api\n",
    "from scripts.read_data import read_news\n",
    "from scripts.read_data import read_covid\n",
    "import matplotlib.pyplot as plt \n",
    "from IPython.display import Markdown as md"
   ]
  },
  {
   "cell_type": "code",
   "execution_count": 2,
   "id": "shared-acceptance",
   "metadata": {
    "execution": {
     "iopub.execute_input": "2021-04-07T02:11:35.153380Z",
     "iopub.status.busy": "2021-04-07T02:11:35.152731Z",
     "iopub.status.idle": "2021-04-07T02:11:42.385821Z",
     "shell.execute_reply": "2021-04-07T02:11:42.385330Z"
    },
    "papermill": {
     "duration": 7.249955,
     "end_time": "2021-04-07T02:11:42.385949",
     "exception": false,
     "start_time": "2021-04-07T02:11:35.135994",
     "status": "completed"
    },
    "tags": []
   },
   "outputs": [],
   "source": [
    "#hide_input\n",
    "blockchain = read_news('blockchain') \n",
    "btc = read_news('btc') \n",
    "xrp = read_news('xrp') \n",
    "trx = read_news('trx') \n",
    "eth = read_news('eth')  \n",
    "ada = read_news('ada')\n",
    "exchange = read_news('exchange') "
   ]
  },
  {
   "cell_type": "code",
   "execution_count": 3,
   "id": "synthetic-notion",
   "metadata": {
    "execution": {
     "iopub.execute_input": "2021-04-07T02:11:42.412185Z",
     "iopub.status.busy": "2021-04-07T02:11:42.411604Z",
     "iopub.status.idle": "2021-04-07T02:11:42.420335Z",
     "shell.execute_reply": "2021-04-07T02:11:42.419811Z"
    },
    "papermill": {
     "duration": 0.023253,
     "end_time": "2021-04-07T02:11:42.420458",
     "exception": false,
     "start_time": "2021-04-07T02:11:42.397205",
     "status": "completed"
    },
    "tags": []
   },
   "outputs": [
    {
     "data": {
      "text/markdown": [
       "- XELS launches Eco-conscious blockchain platform for Carbon Offset Credits.  XELS, one of the leading startups tackling climate change by increasing participation and transparency in carbon markets, is listing its eponymous XELS token on Bittrex Global on 8 April 2021. Tokenized Carbon Credits XELS will provide both businesses and individuals access to a blockchain-based carbon offset platform, initially focused on tokenized voluntary carbon offset credits. [&#8230;] ... [| Skaityti daugiau](https://ambcrypto.com/xels-launches-eco-conscious-blockchain-platform-for-carbon-offset-credits/) "
      ],
      "text/plain": [
       "<IPython.core.display.Markdown object>"
      ]
     },
     "execution_count": 3,
     "metadata": {},
     "output_type": "execute_result"
    }
   ],
   "source": [
    "#hide_input\n",
    "#md('##### {}'.format(titleBTC)) \n",
    "md(\"- {}{} {}{} [| Skaityti daugiau]({}) \".format(blockchain['title'],'. ', blockchain['body'], ' ...', blockchain['url']))"
   ]
  },
  {
   "cell_type": "code",
   "execution_count": 4,
   "id": "aging-caution",
   "metadata": {
    "execution": {
     "iopub.execute_input": "2021-04-07T02:11:42.447398Z",
     "iopub.status.busy": "2021-04-07T02:11:42.446766Z",
     "iopub.status.idle": "2021-04-07T02:11:42.449205Z",
     "shell.execute_reply": "2021-04-07T02:11:42.449683Z"
    },
    "papermill": {
     "duration": 0.018899,
     "end_time": "2021-04-07T02:11:42.449834",
     "exception": false,
     "start_time": "2021-04-07T02:11:42.430935",
     "status": "completed"
    },
    "tags": []
   },
   "outputs": [
    {
     "data": {
      "text/markdown": [
       "- Bitcoin-Pegged Token Crafted by Binance Swells, BTCB Now Commands $2.3 Billion Market Cap.  Over the last twelve months wrapped or synthetic bitcoin projects have swelled a great deal. The digital token called wrapped bitcoin, for example, has 141,503 WBTC in circulation today, but the token called the Bitcoin BEP 2 (BTCB) has gathered some steam. Currently, there are 39,719 BTCB out in the wild today as the bitcoin-pegged [&#8230;] ... [| Skaityti daugiau](https://news.bitcoin.com/bitcoin-pegged-token-binance-swells-btcb-2-3-billion-market-cap/) "
      ],
      "text/plain": [
       "<IPython.core.display.Markdown object>"
      ]
     },
     "execution_count": 4,
     "metadata": {},
     "output_type": "execute_result"
    }
   ],
   "source": [
    "#hide_input\n",
    "#md('##### {}'.format(titleBTC)) \n",
    "md(\"- {}{} {}{} [| Skaityti daugiau]({}) \".format(btc['title'],'. ', btc['body'], ' ...', btc['url']))"
   ]
  },
  {
   "cell_type": "code",
   "execution_count": 5,
   "id": "organic-actress",
   "metadata": {
    "execution": {
     "iopub.execute_input": "2021-04-07T02:11:42.480487Z",
     "iopub.status.busy": "2021-04-07T02:11:42.479537Z",
     "iopub.status.idle": "2021-04-07T02:11:42.483568Z",
     "shell.execute_reply": "2021-04-07T02:11:42.483131Z"
    },
    "papermill": {
     "duration": 0.020415,
     "end_time": "2021-04-07T02:11:42.483717",
     "exception": false,
     "start_time": "2021-04-07T02:11:42.463302",
     "status": "completed"
    },
    "tags": []
   },
   "outputs": [
    {
     "data": {
      "text/markdown": [
       "- XRP Targets New All-Time Highs After Surviving SEC Slaughter.  XRP is now trading at $1 or more, even despite the parent company Ripple still being locked in a legal battle with the United States Securities and Exchange Commission. Not only does the recent pump prove the power of borderless cryptocurrencies, but it takes the token to a key technical level that if broken, should [&#8230;] ... [| Skaityti daugiau](https://www.newsbtc.com/analysis/xrp/xrp-targets-new-all-time-highs-sec/) "
      ],
      "text/plain": [
       "<IPython.core.display.Markdown object>"
      ]
     },
     "execution_count": 5,
     "metadata": {},
     "output_type": "execute_result"
    }
   ],
   "source": [
    "#hide_input\n",
    "#md('##### {}'.format(titleBTC)) \n",
    "md(\"- {}{} {}{} [| Skaityti daugiau]({}) \".format(xrp['title'],'. ', xrp['body'], ' ...', xrp['url']))"
   ]
  },
  {
   "cell_type": "code",
   "execution_count": 6,
   "id": "prompt-farmer",
   "metadata": {
    "execution": {
     "iopub.execute_input": "2021-04-07T02:11:42.513433Z",
     "iopub.status.busy": "2021-04-07T02:11:42.512646Z",
     "iopub.status.idle": "2021-04-07T02:11:42.515430Z",
     "shell.execute_reply": "2021-04-07T02:11:42.515908Z"
    },
    "papermill": {
     "duration": 0.019831,
     "end_time": "2021-04-07T02:11:42.516037",
     "exception": false,
     "start_time": "2021-04-07T02:11:42.496206",
     "status": "completed"
    },
    "tags": []
   },
   "outputs": [
    {
     "data": {
      "text/markdown": [
       "- Tron, Ontology, Aave, Compound Price Analysis: 06 April.  Tron was tipped to scale above its most recent local high after combating some bearish presence. Ontology maintained its uptrend after bouncing back from the $0.79-support, while Aave was projected to remain below its $422.7-resistance. Finally, Compound was observed to need more momentum before breaking above the upper ceiling of $561.2. Tron [TRX] Tron entered [&#8230;] ... [| Skaityti daugiau](https://ambcrypto.com/tron-ontology-aave-compound-price-analysis-06-april/) "
      ],
      "text/plain": [
       "<IPython.core.display.Markdown object>"
      ]
     },
     "execution_count": 6,
     "metadata": {},
     "output_type": "execute_result"
    }
   ],
   "source": [
    "#hide_input\n",
    "#md('##### {}'.format(titleBTC)) \n",
    "md(\"- {}{} {}{} [| Skaityti daugiau]({}) \".format(trx['title'],'. ', trx['body'], ' ...', trx['url']))"
   ]
  },
  {
   "cell_type": "code",
   "execution_count": 7,
   "id": "illegal-greece",
   "metadata": {
    "execution": {
     "iopub.execute_input": "2021-04-07T02:11:42.545529Z",
     "iopub.status.busy": "2021-04-07T02:11:42.544955Z",
     "iopub.status.idle": "2021-04-07T02:11:42.548367Z",
     "shell.execute_reply": "2021-04-07T02:11:42.547908Z"
    },
    "papermill": {
     "duration": 0.02077,
     "end_time": "2021-04-07T02:11:42.548473",
     "exception": false,
     "start_time": "2021-04-07T02:11:42.527703",
     "status": "completed"
    },
    "tags": []
   },
   "outputs": [
    {
     "data": {
      "text/markdown": [
       "- Bitcoin-Pegged Token Crafted by Binance Swells, BTCB Now Commands $2.3 Billion Market Cap.  Over the last twelve months wrapped or synthetic bitcoin projects have swelled a great deal. The digital token called wrapped bitcoin, for example, has 141,503 WBTC in circulation today, but the token called the Bitcoin BEP 2 (BTCB) has gathered some steam. Currently, there are 39,719 BTCB out in the wild today as the bitcoin-pegged [&#8230;] ... [| Skaityti daugiau](https://news.bitcoin.com/bitcoin-pegged-token-binance-swells-btcb-2-3-billion-market-cap/) "
      ],
      "text/plain": [
       "<IPython.core.display.Markdown object>"
      ]
     },
     "execution_count": 7,
     "metadata": {},
     "output_type": "execute_result"
    }
   ],
   "source": [
    "#hide_input\n",
    "#md('##### {}'.format(titleBTC)) \n",
    "md(\"- {}{} {}{} [| Skaityti daugiau]({}) \".format(eth['title'],'. ', eth['body'], ' ...', eth['url']))"
   ]
  },
  {
   "cell_type": "code",
   "execution_count": 8,
   "id": "sublime-lounge",
   "metadata": {
    "execution": {
     "iopub.execute_input": "2021-04-07T02:11:42.573699Z",
     "iopub.status.busy": "2021-04-07T02:11:42.573173Z",
     "iopub.status.idle": "2021-04-07T02:11:42.579027Z",
     "shell.execute_reply": "2021-04-07T02:11:42.579523Z"
    },
    "papermill": {
     "duration": 0.019884,
     "end_time": "2021-04-07T02:11:42.579687",
     "exception": false,
     "start_time": "2021-04-07T02:11:42.559803",
     "status": "completed"
    },
    "tags": []
   },
   "outputs": [
    {
     "data": {
      "text/markdown": [
       "- Cardano Fund Invests in COTI Ahead of Smart Contract Launch.   ... [| Skaityti daugiau](https://cryptobriefing.com/cardano-fund-invests-coti-ahead-shelley-launch/) "
      ],
      "text/plain": [
       "<IPython.core.display.Markdown object>"
      ]
     },
     "execution_count": 8,
     "metadata": {},
     "output_type": "execute_result"
    }
   ],
   "source": [
    "#hide_input\n",
    "#md('##### {}'.format(titleBTC)) \n",
    "md(\"- {}{} {}{} [| Skaityti daugiau]({}) \".format(ada['title'],'. ', ada['body'], ' ...', ada['url']))"
   ]
  },
  {
   "cell_type": "code",
   "execution_count": 9,
   "id": "specified-ordering",
   "metadata": {
    "execution": {
     "iopub.execute_input": "2021-04-07T02:11:42.608901Z",
     "iopub.status.busy": "2021-04-07T02:11:42.608308Z",
     "iopub.status.idle": "2021-04-07T02:11:42.611364Z",
     "shell.execute_reply": "2021-04-07T02:11:42.610870Z"
    },
    "papermill": {
     "duration": 0.019954,
     "end_time": "2021-04-07T02:11:42.611481",
     "exception": false,
     "start_time": "2021-04-07T02:11:42.591527",
     "status": "completed"
    },
    "tags": []
   },
   "outputs": [
    {
     "data": {
      "text/markdown": [
       "- Bitcoin-Pegged Token Crafted by Binance Swells, BTCB Now Commands $2.3 Billion Market Cap.  Over the last twelve months wrapped or synthetic bitcoin projects have swelled a great deal. The digital token called wrapped bitcoin, for example, has 141,503 WBTC in circulation today, but the token called the Bitcoin BEP 2 (BTCB) has gathered some steam. Currently, there are 39,719 BTCB out in the wild today as the bitcoin-pegged [&#8230;] ... [| Skaityti daugiau](https://news.bitcoin.com/bitcoin-pegged-token-binance-swells-btcb-2-3-billion-market-cap/) "
      ],
      "text/plain": [
       "<IPython.core.display.Markdown object>"
      ]
     },
     "execution_count": 9,
     "metadata": {},
     "output_type": "execute_result"
    }
   ],
   "source": [
    "#hide_input\n",
    "#md('##### {}'.format(titleBTC)) \n",
    "md(\"- {}{} {}{} [| Skaityti daugiau]({}) \".format(exchange['title'],'. ', exchange['body'], ' ...', exchange['url']))"
   ]
  },
  {
   "cell_type": "code",
   "execution_count": null,
   "id": "tender-livestock",
   "metadata": {
    "papermill": {
     "duration": 0.01248,
     "end_time": "2021-04-07T02:11:42.636420",
     "exception": false,
     "start_time": "2021-04-07T02:11:42.623940",
     "status": "completed"
    },
    "tags": []
   },
   "outputs": [],
   "source": []
  },
  {
   "cell_type": "code",
   "execution_count": null,
   "id": "appreciated-diamond",
   "metadata": {
    "papermill": {
     "duration": 0.012146,
     "end_time": "2021-04-07T02:11:42.660702",
     "exception": false,
     "start_time": "2021-04-07T02:11:42.648556",
     "status": "completed"
    },
    "tags": []
   },
   "outputs": [],
   "source": []
  },
  {
   "cell_type": "code",
   "execution_count": null,
   "id": "romance-sweden",
   "metadata": {
    "papermill": {
     "duration": 0.012113,
     "end_time": "2021-04-07T02:11:42.684830",
     "exception": false,
     "start_time": "2021-04-07T02:11:42.672717",
     "status": "completed"
    },
    "tags": []
   },
   "outputs": [],
   "source": []
  },
  {
   "cell_type": "code",
   "execution_count": null,
   "id": "dietary-statistics",
   "metadata": {
    "papermill": {
     "duration": 0.011751,
     "end_time": "2021-04-07T02:11:42.708577",
     "exception": false,
     "start_time": "2021-04-07T02:11:42.696826",
     "status": "completed"
    },
    "tags": []
   },
   "outputs": [],
   "source": []
  }
 ],
 "metadata": {
  "kernelspec": {
   "display_name": "Python 3",
   "language": "python",
   "name": "python3"
  },
  "language_info": {
   "codemirror_mode": {
    "name": "ipython",
    "version": 3
   },
   "file_extension": ".py",
   "mimetype": "text/x-python",
   "name": "python",
   "nbconvert_exporter": "python",
   "pygments_lexer": "ipython3",
   "version": "3.6.13"
  },
  "papermill": {
   "default_parameters": {},
   "duration": 11.306575,
   "end_time": "2021-04-07T02:11:44.057865",
   "environment_variables": {},
   "exception": null,
   "input_path": "Market-News.ipynb",
   "output_path": "Market-News.ipynb",
   "parameters": {},
   "start_time": "2021-04-07T02:11:32.751290",
   "version": "2.2.2"
  }
 },
 "nbformat": 4,
 "nbformat_minor": 5
}