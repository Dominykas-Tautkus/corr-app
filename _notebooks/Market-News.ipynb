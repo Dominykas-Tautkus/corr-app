{
 "cells": [
  {
   "cell_type": "markdown",
   "id": "short-greensboro",
   "metadata": {
    "papermill": {
     "duration": 0.02904,
     "end_time": "2021-02-07T01:40:50.079306",
     "exception": false,
     "start_time": "2021-02-07T01:40:50.050266",
     "status": "completed"
    },
    "tags": []
   },
   "source": [
    "# Kriptovaliutų naujienos"
   ]
  },
  {
   "cell_type": "code",
   "execution_count": 1,
   "id": "functioning-knowing",
   "metadata": {
    "execution": {
     "iopub.execute_input": "2021-02-07T01:40:50.117196Z",
     "iopub.status.busy": "2021-02-07T01:40:50.116455Z",
     "iopub.status.idle": "2021-02-07T01:40:51.483426Z",
     "shell.execute_reply": "2021-02-07T01:40:51.482823Z"
    },
    "papermill": {
     "duration": 1.389818,
     "end_time": "2021-02-07T01:40:51.483598",
     "exception": false,
     "start_time": "2021-02-07T01:40:50.093780",
     "status": "completed"
    },
    "tags": []
   },
   "outputs": [],
   "source": [
    "#hide_input\n",
    "import warnings\n",
    "warnings.filterwarnings('ignore')\n",
    "from scripts.read_data import read_api\n",
    "from scripts.read_data import read_news\n",
    "from scripts.read_data import read_covid\n",
    "import matplotlib.pyplot as plt \n",
    "from IPython.display import Markdown as md"
   ]
  },
  {
   "cell_type": "code",
   "execution_count": 2,
   "id": "shared-acceptance",
   "metadata": {
    "execution": {
     "iopub.execute_input": "2021-02-07T01:40:51.512754Z",
     "iopub.status.busy": "2021-02-07T01:40:51.512087Z",
     "iopub.status.idle": "2021-02-07T01:41:01.132548Z",
     "shell.execute_reply": "2021-02-07T01:41:01.131389Z"
    },
    "papermill": {
     "duration": 9.637824,
     "end_time": "2021-02-07T01:41:01.132741",
     "exception": false,
     "start_time": "2021-02-07T01:40:51.494917",
     "status": "completed"
    },
    "tags": []
   },
   "outputs": [],
   "source": [
    "#hide_input\n",
    "blockchain = read_news('blockchain') \n",
    "btc = read_news('btc') \n",
    "xrp = read_news('xrp') \n",
    "trx = read_news('trx') \n",
    "eth = read_news('eth')  \n",
    "ada = read_news('ada')\n",
    "exchange = read_news('exchange') "
   ]
  },
  {
   "cell_type": "code",
   "execution_count": 3,
   "id": "synthetic-notion",
   "metadata": {
    "execution": {
     "iopub.execute_input": "2021-02-07T01:41:01.165839Z",
     "iopub.status.busy": "2021-02-07T01:41:01.165113Z",
     "iopub.status.idle": "2021-02-07T01:41:01.168771Z",
     "shell.execute_reply": "2021-02-07T01:41:01.168124Z"
    },
    "papermill": {
     "duration": 0.023606,
     "end_time": "2021-02-07T01:41:01.168925",
     "exception": false,
     "start_time": "2021-02-07T01:41:01.145319",
     "status": "completed"
    },
    "tags": []
   },
   "outputs": [
    {
     "data": {
      "text/markdown": [
       "- Online Sleuths Believe Satoshi Nakamoto’s Bitcoin Stash Is a Blockchain Treasure Hunt Meant to Be Found.  Over the last twelve years, the cryptocurrency community has always been intrigued by Bitcoin&#8217;s inventor Satoshi Nakamoto. For over a decade, armchair sleuths and journalists have tried to uncover the creator&#8217;s identity and information on the whereabouts of all the bitcoins the enigma mined when the network was still in its infancy. Now a few [&#8230;] ... [| Skaityti daugiau](https://news.bitcoin.com/online-sleuths-believe-satoshi-nakamotos-bitcoin-stash-is-a-blockchain-treasure-hunt-meant-to-be-found/) "
      ],
      "text/plain": [
       "<IPython.core.display.Markdown object>"
      ]
     },
     "execution_count": 3,
     "metadata": {},
     "output_type": "execute_result"
    }
   ],
   "source": [
    "#hide_input\n",
    "#md('##### {}'.format(titleBTC)) \n",
    "md(\"- {}{} {}{} [| Skaityti daugiau]({}) \".format(blockchain['title'],'. ', blockchain['body'], ' ...', blockchain['url']))"
   ]
  },
  {
   "cell_type": "code",
   "execution_count": 4,
   "id": "aging-caution",
   "metadata": {
    "execution": {
     "iopub.execute_input": "2021-02-07T01:41:01.206849Z",
     "iopub.status.busy": "2021-02-07T01:41:01.206168Z",
     "iopub.status.idle": "2021-02-07T01:41:01.211001Z",
     "shell.execute_reply": "2021-02-07T01:41:01.210413Z"
    },
    "papermill": {
     "duration": 0.024327,
     "end_time": "2021-02-07T01:41:01.211136",
     "exception": false,
     "start_time": "2021-02-07T01:41:01.186809",
     "status": "completed"
    },
    "tags": []
   },
   "outputs": [
    {
     "data": {
      "text/markdown": [
       "- Bitcoin Projected to Grow Faster Than the Internet, Says On-Chain Analyst.  According to prominent on-chain crypto analyst Willy Woo, Bitcoin is currently growing faster than the internet, and it will have roughly one billion users by 2025. Woo says that, in terms of adoption, Bitcoin has roughly the same users as the internet had in 1997, and if it stays on its current path, it will have […] ... [| Skaityti daugiau](https://www.cryptoglobe.com/latest/2021/02/bitcoin-projected-to-grow-faster-than-the-internet-says-on-chain-analyst/) "
      ],
      "text/plain": [
       "<IPython.core.display.Markdown object>"
      ]
     },
     "execution_count": 4,
     "metadata": {},
     "output_type": "execute_result"
    }
   ],
   "source": [
    "#hide_input\n",
    "#md('##### {}'.format(titleBTC)) \n",
    "md(\"- {}{} {}{} [| Skaityti daugiau]({}) \".format(btc['title'],'. ', btc['body'], ' ...', btc['url']))"
   ]
  },
  {
   "cell_type": "code",
   "execution_count": 5,
   "id": "organic-actress",
   "metadata": {
    "execution": {
     "iopub.execute_input": "2021-02-07T01:41:01.241010Z",
     "iopub.status.busy": "2021-02-07T01:41:01.240322Z",
     "iopub.status.idle": "2021-02-07T01:41:01.243682Z",
     "shell.execute_reply": "2021-02-07T01:41:01.243030Z"
    },
    "papermill": {
     "duration": 0.019474,
     "end_time": "2021-02-07T01:41:01.243818",
     "exception": false,
     "start_time": "2021-02-07T01:41:01.224344",
     "status": "completed"
    },
    "tags": []
   },
   "outputs": [
    {
     "data": {
      "text/markdown": [
       "- Crypto Whales Moving Millions in XRP As Google Searches for Crypto Asset Explode to All-Time High.  Large investors are transferring XRP worth tens of millions of dollars as online search interest in the crypto asset explodes. In a series of tweets, the blockchain monitoring tool known as Whale Alert reports that high-stakes crypto whales moved a total of 119,723,157 XRP worth over $47.8 million in seven transactions. One of the biggest [&#8230;]The post Crypto Whales Moving Millions in XRP As Google Searches for Crypto Asset Explode to All-Time High appeared first on The Daily Hodl. ... [| Skaityti daugiau](https://dailyhodl.com/2021/02/06/crypto-whales-moving-millions-in-xrp-as-google-searches-for-third-largest-crypto-asset-explode-to-all-time-high/) "
      ],
      "text/plain": [
       "<IPython.core.display.Markdown object>"
      ]
     },
     "execution_count": 5,
     "metadata": {},
     "output_type": "execute_result"
    }
   ],
   "source": [
    "#hide_input\n",
    "#md('##### {}'.format(titleBTC)) \n",
    "md(\"- {}{} {}{} [| Skaityti daugiau]({}) \".format(xrp['title'],'. ', xrp['body'], ' ...', xrp['url']))"
   ]
  },
  {
   "cell_type": "code",
   "execution_count": 6,
   "id": "prompt-farmer",
   "metadata": {
    "execution": {
     "iopub.execute_input": "2021-02-07T01:41:01.273249Z",
     "iopub.status.busy": "2021-02-07T01:41:01.272602Z",
     "iopub.status.idle": "2021-02-07T01:41:01.275800Z",
     "shell.execute_reply": "2021-02-07T01:41:01.275161Z"
    },
    "papermill": {
     "duration": 0.019462,
     "end_time": "2021-02-07T01:41:01.275929",
     "exception": false,
     "start_time": "2021-02-07T01:41:01.256467",
     "status": "completed"
    },
    "tags": []
   },
   "outputs": [
    {
     "data": {
      "text/markdown": [
       "- Cardano, Tron, FTX Token Price Analysis: 04 February.  Cardano broke out to the upside of $0.366 and was trading at $0.43 at the time of writing. Tron was consolidating underneath a level of resistance, and FTX Token had bullish momentum behind it that could propel the prices to $15.5. Cardano [ADA] Cardano was trading at $0.305 last week, a level of support that [&#8230;] ... [| Skaityti daugiau](https://ambcrypto.com/cardano-tron-ftx-token-price-analysis-04-february/) "
      ],
      "text/plain": [
       "<IPython.core.display.Markdown object>"
      ]
     },
     "execution_count": 6,
     "metadata": {},
     "output_type": "execute_result"
    }
   ],
   "source": [
    "#hide_input\n",
    "#md('##### {}'.format(titleBTC)) \n",
    "md(\"- {}{} {}{} [| Skaityti daugiau]({}) \".format(trx['title'],'. ', trx['body'], ' ...', trx['url']))"
   ]
  },
  {
   "cell_type": "code",
   "execution_count": 7,
   "id": "illegal-greece",
   "metadata": {
    "execution": {
     "iopub.execute_input": "2021-02-07T01:41:01.306792Z",
     "iopub.status.busy": "2021-02-07T01:41:01.306147Z",
     "iopub.status.idle": "2021-02-07T01:41:01.309419Z",
     "shell.execute_reply": "2021-02-07T01:41:01.309980Z"
    },
    "papermill": {
     "duration": 0.020926,
     "end_time": "2021-02-07T01:41:01.310120",
     "exception": false,
     "start_time": "2021-02-07T01:41:01.289194",
     "status": "completed"
    },
    "tags": []
   },
   "outputs": [
    {
     "data": {
      "text/markdown": [
       "- Whales profit as high Ethereum gas fees sideline retail DeFi investors.  High gas fees on the Ethereum network are making it nearly impossible for retail investors to interact with DeFi protocols but the same doesn’t apply to whales. ... [| Skaityti daugiau](https://cointelegraph.com/news/whales-profit-as-high-ethereum-gas-fees-sideline-retail-defi-investors) "
      ],
      "text/plain": [
       "<IPython.core.display.Markdown object>"
      ]
     },
     "execution_count": 7,
     "metadata": {},
     "output_type": "execute_result"
    }
   ],
   "source": [
    "#hide_input\n",
    "#md('##### {}'.format(titleBTC)) \n",
    "md(\"- {}{} {}{} [| Skaityti daugiau]({}) \".format(eth['title'],'. ', eth['body'], ' ...', eth['url']))"
   ]
  },
  {
   "cell_type": "code",
   "execution_count": 8,
   "id": "sublime-lounge",
   "metadata": {
    "execution": {
     "iopub.execute_input": "2021-02-07T01:41:01.340848Z",
     "iopub.status.busy": "2021-02-07T01:41:01.340170Z",
     "iopub.status.idle": "2021-02-07T01:41:01.343112Z",
     "shell.execute_reply": "2021-02-07T01:41:01.343638Z"
    },
    "papermill": {
     "duration": 0.020936,
     "end_time": "2021-02-07T01:41:01.343778",
     "exception": false,
     "start_time": "2021-02-07T01:41:01.322842",
     "status": "completed"
    },
    "tags": []
   },
   "outputs": [
    {
     "data": {
      "text/markdown": [
       "- Growing list of billion-dollar crypto ‘unicorns’ suggest the best is yet to come.  More than 53 blockchain projects have emerged as multi-billion dollar market cap crypto unicorns, a signal that the 2021 bull market is just getting started. ... [| Skaityti daugiau](https://cointelegraph.com/news/growing-list-of-billion-dollar-crypto-unicorns-suggest-the-best-is-yet-to-come) "
      ],
      "text/plain": [
       "<IPython.core.display.Markdown object>"
      ]
     },
     "execution_count": 8,
     "metadata": {},
     "output_type": "execute_result"
    }
   ],
   "source": [
    "#hide_input\n",
    "#md('##### {}'.format(titleBTC)) \n",
    "md(\"- {}{} {}{} [| Skaityti daugiau]({}) \".format(ada['title'],'. ', ada['body'], ' ...', ada['url']))"
   ]
  },
  {
   "cell_type": "code",
   "execution_count": 9,
   "id": "specified-ordering",
   "metadata": {
    "execution": {
     "iopub.execute_input": "2021-02-07T01:41:01.376935Z",
     "iopub.status.busy": "2021-02-07T01:41:01.375799Z",
     "iopub.status.idle": "2021-02-07T01:41:01.378879Z",
     "shell.execute_reply": "2021-02-07T01:41:01.379402Z"
    },
    "papermill": {
     "duration": 0.022396,
     "end_time": "2021-02-07T01:41:01.379542",
     "exception": false,
     "start_time": "2021-02-07T01:41:01.357146",
     "status": "completed"
    },
    "tags": []
   },
   "outputs": [
    {
     "data": {
      "text/markdown": [
       "- U.S. Navy Couple Allegedly Sold 9,000 Stolen Identities for $BTC.  A California couple has been charged for the alleged illegal sale of more than 9,000 stolen identities in exchange for Bitcoin. According to a report from NBC Los Angeles published on Tuesday (February 2), Natasha Chalk and her husband Marquis Hooper, both Navy veterans, leveraged their status with the military to access personal information belonging […] ... [| Skaityti daugiau](https://www.cryptoglobe.com/latest/2021/02/u-s-navy-couple-allegedly-sold-9000-stolen-identities-for-btc/) "
      ],
      "text/plain": [
       "<IPython.core.display.Markdown object>"
      ]
     },
     "execution_count": 9,
     "metadata": {},
     "output_type": "execute_result"
    }
   ],
   "source": [
    "#hide_input\n",
    "#md('##### {}'.format(titleBTC)) \n",
    "md(\"- {}{} {}{} [| Skaityti daugiau]({}) \".format(exchange['title'],'. ', exchange['body'], ' ...', exchange['url']))"
   ]
  },
  {
   "cell_type": "code",
   "execution_count": null,
   "id": "tender-livestock",
   "metadata": {
    "papermill": {
     "duration": 0.013626,
     "end_time": "2021-02-07T01:41:01.406687",
     "exception": false,
     "start_time": "2021-02-07T01:41:01.393061",
     "status": "completed"
    },
    "tags": []
   },
   "outputs": [],
   "source": []
  },
  {
   "cell_type": "code",
   "execution_count": null,
   "id": "appreciated-diamond",
   "metadata": {
    "papermill": {
     "duration": 0.015338,
     "end_time": "2021-02-07T01:41:01.436223",
     "exception": false,
     "start_time": "2021-02-07T01:41:01.420885",
     "status": "completed"
    },
    "tags": []
   },
   "outputs": [],
   "source": []
  },
  {
   "cell_type": "code",
   "execution_count": null,
   "id": "romance-sweden",
   "metadata": {
    "papermill": {
     "duration": 0.013689,
     "end_time": "2021-02-07T01:41:01.463378",
     "exception": false,
     "start_time": "2021-02-07T01:41:01.449689",
     "status": "completed"
    },
    "tags": []
   },
   "outputs": [],
   "source": []
  },
  {
   "cell_type": "code",
   "execution_count": null,
   "id": "dietary-statistics",
   "metadata": {
    "papermill": {
     "duration": 0.013749,
     "end_time": "2021-02-07T01:41:01.491508",
     "exception": false,
     "start_time": "2021-02-07T01:41:01.477759",
     "status": "completed"
    },
    "tags": []
   },
   "outputs": [],
   "source": []
  }
 ],
 "metadata": {
  "kernelspec": {
   "display_name": "Python 3",
   "language": "python",
   "name": "python3"
  },
  "language_info": {
   "codemirror_mode": {
    "name": "ipython",
    "version": 3
   },
   "file_extension": ".py",
   "mimetype": "text/x-python",
   "name": "python",
   "nbconvert_exporter": "python",
   "pygments_lexer": "ipython3",
   "version": "3.6.12"
  },
  "papermill": {
   "default_parameters": {},
   "duration": 13.154841,
   "end_time": "2021-02-07T01:41:01.911859",
   "environment_variables": {},
   "exception": null,
   "input_path": "Market-News.ipynb",
   "output_path": "Market-News.ipynb",
   "parameters": {},
   "start_time": "2021-02-07T01:40:48.757018",
   "version": "2.2.2"
  }
 },
 "nbformat": 4,
 "nbformat_minor": 5
}