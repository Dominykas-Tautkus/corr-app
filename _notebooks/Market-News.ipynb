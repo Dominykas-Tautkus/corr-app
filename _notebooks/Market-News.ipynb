{
 "cells": [
  {
   "cell_type": "markdown",
   "metadata": {
    "papermill": {
     "duration": 0.011247,
     "end_time": "2020-12-31T13:08:03.236844",
     "exception": false,
     "start_time": "2020-12-31T13:08:03.225597",
     "status": "completed"
    },
    "tags": []
   },
   "source": [
    "# Kriptovaliutų naujienos"
   ]
  },
  {
   "cell_type": "code",
   "execution_count": 1,
   "metadata": {
    "execution": {
     "iopub.execute_input": "2020-12-31T13:08:03.269484Z",
     "iopub.status.busy": "2020-12-31T13:08:03.268411Z",
     "iopub.status.idle": "2020-12-31T13:08:04.543417Z",
     "shell.execute_reply": "2020-12-31T13:08:04.542510Z"
    },
    "papermill": {
     "duration": 1.298796,
     "end_time": "2020-12-31T13:08:04.543670",
     "exception": false,
     "start_time": "2020-12-31T13:08:03.244874",
     "status": "completed"
    },
    "tags": []
   },
   "outputs": [],
   "source": [
    "#hide_input\n",
    "import warnings\n",
    "warnings.filterwarnings('ignore')\n",
    "from scripts.read_data import read_api\n",
    "from scripts.read_data import read_news\n",
    "from scripts.read_data import read_covid\n",
    "import matplotlib.pyplot as plt \n",
    "from IPython.display import Markdown as md"
   ]
  },
  {
   "cell_type": "code",
   "execution_count": 2,
   "metadata": {
    "execution": {
     "iopub.execute_input": "2020-12-31T13:08:04.567496Z",
     "iopub.status.busy": "2020-12-31T13:08:04.566489Z",
     "iopub.status.idle": "2020-12-31T13:08:11.936937Z",
     "shell.execute_reply": "2020-12-31T13:08:11.936362Z"
    },
    "papermill": {
     "duration": 7.384079,
     "end_time": "2020-12-31T13:08:11.937082",
     "exception": false,
     "start_time": "2020-12-31T13:08:04.553003",
     "status": "completed"
    },
    "tags": []
   },
   "outputs": [],
   "source": [
    "#hide_input\n",
    "blockchain = read_news('blockchain') \n",
    "btc = read_news('btc') \n",
    "xrp = read_news('xrp') \n",
    "trx = read_news('trx') \n",
    "eth = read_news('eth')  \n",
    "ada = read_news('ada')\n",
    "exchange = read_news('exchange') "
   ]
  },
  {
   "cell_type": "code",
   "execution_count": 3,
   "metadata": {
    "execution": {
     "iopub.execute_input": "2020-12-31T13:08:11.958964Z",
     "iopub.status.busy": "2020-12-31T13:08:11.958358Z",
     "iopub.status.idle": "2020-12-31T13:08:11.962619Z",
     "shell.execute_reply": "2020-12-31T13:08:11.963069Z"
    },
    "papermill": {
     "duration": 0.018548,
     "end_time": "2020-12-31T13:08:11.963216",
     "exception": false,
     "start_time": "2020-12-31T13:08:11.944668",
     "status": "completed"
    },
    "tags": []
   },
   "outputs": [
    {
     "data": {
      "text/markdown": [
       "- Economist Names Top DeFi Crypto Projects, Warns Emerging Market Faces Regulatory Hurdles.  Economist Alex Krüger is revealing his top six decentralized finance (DeFI) picks heading into the new year. Krüger tells his 56,600 Twitter followers that the decentralized exchange Uniswap (UNI), governance token Maker (MKR), DeFi lending platform Compound (COMP), lending and borrowing protocol Aave, derivatives liquidity protocol Synthetix (SNX), and DeFi yield aggregator yearn.finance (YFI) are [&#8230;]The post Economist Names Top DeFi Crypto Projects, Warns Emerging Market Faces Regulatory Hurdles appeared first on The Daily Hodl. ... [| Skaityti daugiau](https://dailyhodl.com/2020/12/31/economist-names-top-defi-crypto-projects-warns-emerging-market-faces-regulatory-hurdles/) "
      ],
      "text/plain": [
       "<IPython.core.display.Markdown object>"
      ]
     },
     "execution_count": 3,
     "metadata": {},
     "output_type": "execute_result"
    }
   ],
   "source": [
    "#hide_input\n",
    "#md('##### {}'.format(titleBTC)) \n",
    "md(\"- {}{} {}{} [| Skaityti daugiau]({}) \".format(blockchain['title'],'. ', blockchain['body'], ' ...', blockchain['url']))"
   ]
  },
  {
   "cell_type": "code",
   "execution_count": 4,
   "metadata": {
    "execution": {
     "iopub.execute_input": "2020-12-31T13:08:11.983735Z",
     "iopub.status.busy": "2020-12-31T13:08:11.983156Z",
     "iopub.status.idle": "2020-12-31T13:08:11.985746Z",
     "shell.execute_reply": "2020-12-31T13:08:11.986240Z"
    },
    "papermill": {
     "duration": 0.015595,
     "end_time": "2020-12-31T13:08:11.986383",
     "exception": false,
     "start_time": "2020-12-31T13:08:11.970788",
     "status": "completed"
    },
    "tags": []
   },
   "outputs": [
    {
     "data": {
      "text/markdown": [
       "- Bitcoin Crash Scenario, Sellers Target January 2021.  The world’s largest cryptocurrency must pass the January test before making a significant upside move. ... [| Skaityti daugiau](https://www.financemagnates.com/cryptocurrency/news/bitcoin-crash-scenario-sellers-target-january-2021/) "
      ],
      "text/plain": [
       "<IPython.core.display.Markdown object>"
      ]
     },
     "execution_count": 4,
     "metadata": {},
     "output_type": "execute_result"
    }
   ],
   "source": [
    "#hide_input\n",
    "#md('##### {}'.format(titleBTC)) \n",
    "md(\"- {}{} {}{} [| Skaityti daugiau]({}) \".format(btc['title'],'. ', btc['body'], ' ...', btc['url']))"
   ]
  },
  {
   "cell_type": "code",
   "execution_count": 5,
   "metadata": {
    "execution": {
     "iopub.execute_input": "2020-12-31T13:08:12.006968Z",
     "iopub.status.busy": "2020-12-31T13:08:12.006388Z",
     "iopub.status.idle": "2020-12-31T13:08:12.009636Z",
     "shell.execute_reply": "2020-12-31T13:08:12.009128Z"
    },
    "papermill": {
     "duration": 0.015431,
     "end_time": "2020-12-31T13:08:12.009755",
     "exception": false,
     "start_time": "2020-12-31T13:08:11.994324",
     "status": "completed"
    },
    "tags": []
   },
   "outputs": [
    {
     "data": {
      "text/markdown": [
       "- Coinbase Faces Class Action Lawsuit for Selling XRP Tokens.   ... [| Skaityti daugiau](https://cryptobriefing.com/coinbase-faces-class-action-lawsuit-selling-xrp/) "
      ],
      "text/plain": [
       "<IPython.core.display.Markdown object>"
      ]
     },
     "execution_count": 5,
     "metadata": {},
     "output_type": "execute_result"
    }
   ],
   "source": [
    "#hide_input\n",
    "#md('##### {}'.format(titleBTC)) \n",
    "md(\"- {}{} {}{} [| Skaityti daugiau]({}) \".format(xrp['title'],'. ', xrp['body'], ' ...', xrp['url']))"
   ]
  },
  {
   "cell_type": "code",
   "execution_count": 6,
   "metadata": {
    "execution": {
     "iopub.execute_input": "2020-12-31T13:08:12.032239Z",
     "iopub.status.busy": "2020-12-31T13:08:12.031461Z",
     "iopub.status.idle": "2020-12-31T13:08:12.035073Z",
     "shell.execute_reply": "2020-12-31T13:08:12.035543Z"
    },
    "papermill": {
     "duration": 0.017178,
     "end_time": "2020-12-31T13:08:12.035679",
     "exception": false,
     "start_time": "2020-12-31T13:08:12.018501",
     "status": "completed"
    },
    "tags": []
   },
   "outputs": [
    {
     "data": {
      "text/markdown": [
       "- Chainlink, Algorand, Tron Price Analysis: 30 December.  Chainlink formed a triangle pattern and could see a breakout over the next few days, although the direction of the breakout was unclear. Algorand traded within a range, with a particularly stiff level of resistance at $0.35 that bulls have been unable to overcome over the past month. Tron sank beneath a crucial region of [&#8230;] ... [| Skaityti daugiau](https://ambcrypto.com/chainlink-algorand-tron-price-analysis-30-december/) "
      ],
      "text/plain": [
       "<IPython.core.display.Markdown object>"
      ]
     },
     "execution_count": 6,
     "metadata": {},
     "output_type": "execute_result"
    }
   ],
   "source": [
    "#hide_input\n",
    "#md('##### {}'.format(titleBTC)) \n",
    "md(\"- {}{} {}{} [| Skaityti daugiau]({}) \".format(trx['title'],'. ', trx['body'], ' ...', trx['url']))"
   ]
  },
  {
   "cell_type": "code",
   "execution_count": 7,
   "metadata": {
    "execution": {
     "iopub.execute_input": "2020-12-31T13:08:12.058350Z",
     "iopub.status.busy": "2020-12-31T13:08:12.057744Z",
     "iopub.status.idle": "2020-12-31T13:08:12.064353Z",
     "shell.execute_reply": "2020-12-31T13:08:12.063670Z"
    },
    "papermill": {
     "duration": 0.019618,
     "end_time": "2020-12-31T13:08:12.064515",
     "exception": false,
     "start_time": "2020-12-31T13:08:12.044897",
     "status": "completed"
    },
    "tags": []
   },
   "outputs": [
    {
     "data": {
      "text/markdown": [
       "- Ethereum price prediction: ETH can hit $1000, analyst.  TL;DR Breakdown Ethereum price prediction expects a new all-time high Strong support is found at $732. Strong resistance is found at $756. The queen of cryptocurrencies has been on a gradual upward trajectory for the whole duration of the year. It achieved the all-year high today at $755. As for the day, the queen of […] ... [| Skaityti daugiau](https://www.cryptopolitan.com/ethereum-price-prediction-eth-can-hit-1000/) "
      ],
      "text/plain": [
       "<IPython.core.display.Markdown object>"
      ]
     },
     "execution_count": 7,
     "metadata": {},
     "output_type": "execute_result"
    }
   ],
   "source": [
    "#hide_input\n",
    "#md('##### {}'.format(titleBTC)) \n",
    "md(\"- {}{} {}{} [| Skaityti daugiau]({}) \".format(eth['title'],'. ', eth['body'], ' ...', eth['url']))"
   ]
  },
  {
   "cell_type": "code",
   "execution_count": 8,
   "metadata": {
    "execution": {
     "iopub.execute_input": "2020-12-31T13:08:12.089280Z",
     "iopub.status.busy": "2020-12-31T13:08:12.088682Z",
     "iopub.status.idle": "2020-12-31T13:08:12.091524Z",
     "shell.execute_reply": "2020-12-31T13:08:12.092025Z"
    },
    "papermill": {
     "duration": 0.017385,
     "end_time": "2020-12-31T13:08:12.092151",
     "exception": false,
     "start_time": "2020-12-31T13:08:12.074766",
     "status": "completed"
    },
    "tags": []
   },
   "outputs": [
    {
     "data": {
      "text/markdown": [
       "- ‘I do not consider Ethereum Classic my child,’ says Cardano’s Hoskinson.  &#8220;I do not consider ETC my child and I have no expectations from the project,&#8221; IOHK&#8217;s Charles Hoskinson said during a recent AMA, remarks that were greeted with surprise by some since he was one of the co-founders of Ethereum back in 2013. While conducting a special New Year&#8217;s Eve AMA, the Cardano Founder went [&#8230;] ... [| Skaityti daugiau](https://ambcrypto.com/i-do-not-consider-ethereum-classic-my-child-says-cardanos-hoskinson/) "
      ],
      "text/plain": [
       "<IPython.core.display.Markdown object>"
      ]
     },
     "execution_count": 8,
     "metadata": {},
     "output_type": "execute_result"
    }
   ],
   "source": [
    "#hide_input\n",
    "#md('##### {}'.format(titleBTC)) \n",
    "md(\"- {}{} {}{} [| Skaityti daugiau]({}) \".format(ada['title'],'. ', ada['body'], ' ...', ada['url']))"
   ]
  },
  {
   "cell_type": "code",
   "execution_count": 9,
   "metadata": {
    "execution": {
     "iopub.execute_input": "2020-12-31T13:08:12.117171Z",
     "iopub.status.busy": "2020-12-31T13:08:12.116558Z",
     "iopub.status.idle": "2020-12-31T13:08:12.119439Z",
     "shell.execute_reply": "2020-12-31T13:08:12.119915Z"
    },
    "papermill": {
     "duration": 0.017897,
     "end_time": "2020-12-31T13:08:12.120051",
     "exception": false,
     "start_time": "2020-12-31T13:08:12.102154",
     "status": "completed"
    },
    "tags": []
   },
   "outputs": [
    {
     "data": {
      "text/markdown": [
       "- Coinbase sued for listing XRP.  TL;DR Breakdown Coinbase user files lawsuit against the crypto exchange firm for listing XRP Major crypto exchange firms have made plans to suspend trading Ripple token A disgruntled customer of crypto exchange company, Coinbase, has filed a lawsuit against the firm claiming that the exchange company sold him “securities” in the guise of Ripple’s XRP […] ... [| Skaityti daugiau](https://www.cryptopolitan.com/coinbase-sued-for-listing-xrp/) "
      ],
      "text/plain": [
       "<IPython.core.display.Markdown object>"
      ]
     },
     "execution_count": 9,
     "metadata": {},
     "output_type": "execute_result"
    }
   ],
   "source": [
    "#hide_input\n",
    "#md('##### {}'.format(titleBTC)) \n",
    "md(\"- {}{} {}{} [| Skaityti daugiau]({}) \".format(exchange['title'],'. ', exchange['body'], ' ...', exchange['url']))"
   ]
  },
  {
   "cell_type": "code",
   "execution_count": null,
   "metadata": {
    "papermill": {
     "duration": 0.011607,
     "end_time": "2020-12-31T13:08:12.142245",
     "exception": false,
     "start_time": "2020-12-31T13:08:12.130638",
     "status": "completed"
    },
    "tags": []
   },
   "outputs": [],
   "source": []
  },
  {
   "cell_type": "code",
   "execution_count": null,
   "metadata": {
    "papermill": {
     "duration": 0.010182,
     "end_time": "2020-12-31T13:08:12.163589",
     "exception": false,
     "start_time": "2020-12-31T13:08:12.153407",
     "status": "completed"
    },
    "tags": []
   },
   "outputs": [],
   "source": []
  }
 ],
 "metadata": {
  "kernelspec": {
   "display_name": "Python 3",
   "language": "python",
   "name": "python3"
  },
  "language_info": {
   "codemirror_mode": {
    "name": "ipython",
    "version": 3
   },
   "file_extension": ".py",
   "mimetype": "text/x-python",
   "name": "python",
   "nbconvert_exporter": "python",
   "pygments_lexer": "ipython3",
   "version": "3.6.12"
  },
  "papermill": {
   "default_parameters": {},
   "duration": 11.319087,
   "end_time": "2020-12-31T13:08:13.467599",
   "environment_variables": {},
   "exception": null,
   "input_path": "Market-News.ipynb",
   "output_path": "Market-News.ipynb",
   "parameters": {},
   "start_time": "2020-12-31T13:08:02.148512",
   "version": "2.2.2"
  }
 },
 "nbformat": 4,
 "nbformat_minor": 4
}