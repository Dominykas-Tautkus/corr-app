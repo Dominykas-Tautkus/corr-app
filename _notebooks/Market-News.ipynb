{
 "cells": [
  {
   "cell_type": "markdown",
   "id": "short-greensboro",
   "metadata": {
    "papermill": {
     "duration": 0.015922,
     "end_time": "2021-03-18T01:48:55.696540",
     "exception": false,
     "start_time": "2021-03-18T01:48:55.680618",
     "status": "completed"
    },
    "tags": []
   },
   "source": [
    "# Kriptovaliutų naujienos"
   ]
  },
  {
   "cell_type": "code",
   "execution_count": 1,
   "id": "functioning-knowing",
   "metadata": {
    "execution": {
     "iopub.execute_input": "2021-03-18T01:48:55.733997Z",
     "iopub.status.busy": "2021-03-18T01:48:55.733220Z",
     "iopub.status.idle": "2021-03-18T01:48:57.237369Z",
     "shell.execute_reply": "2021-03-18T01:48:57.236333Z"
    },
    "papermill": {
     "duration": 1.528473,
     "end_time": "2021-03-18T01:48:57.237534",
     "exception": false,
     "start_time": "2021-03-18T01:48:55.709061",
     "status": "completed"
    },
    "tags": []
   },
   "outputs": [],
   "source": [
    "#hide_input\n",
    "import warnings\n",
    "warnings.filterwarnings('ignore')\n",
    "from scripts.read_data import read_api\n",
    "from scripts.read_data import read_news\n",
    "from scripts.read_data import read_covid\n",
    "import matplotlib.pyplot as plt \n",
    "from IPython.display import Markdown as md"
   ]
  },
  {
   "cell_type": "code",
   "execution_count": 2,
   "id": "shared-acceptance",
   "metadata": {
    "execution": {
     "iopub.execute_input": "2021-03-18T01:48:57.268174Z",
     "iopub.status.busy": "2021-03-18T01:48:57.267516Z",
     "iopub.status.idle": "2021-03-18T01:49:05.853754Z",
     "shell.execute_reply": "2021-03-18T01:49:05.853140Z"
    },
    "papermill": {
     "duration": 8.604104,
     "end_time": "2021-03-18T01:49:05.853894",
     "exception": false,
     "start_time": "2021-03-18T01:48:57.249790",
     "status": "completed"
    },
    "tags": []
   },
   "outputs": [],
   "source": [
    "#hide_input\n",
    "blockchain = read_news('blockchain') \n",
    "btc = read_news('btc') \n",
    "xrp = read_news('xrp') \n",
    "trx = read_news('trx') \n",
    "eth = read_news('eth')  \n",
    "ada = read_news('ada')\n",
    "exchange = read_news('exchange') "
   ]
  },
  {
   "cell_type": "code",
   "execution_count": 3,
   "id": "synthetic-notion",
   "metadata": {
    "execution": {
     "iopub.execute_input": "2021-03-18T01:49:05.884406Z",
     "iopub.status.busy": "2021-03-18T01:49:05.883625Z",
     "iopub.status.idle": "2021-03-18T01:49:05.890864Z",
     "shell.execute_reply": "2021-03-18T01:49:05.891420Z"
    },
    "papermill": {
     "duration": 0.025603,
     "end_time": "2021-03-18T01:49:05.891590",
     "exception": false,
     "start_time": "2021-03-18T01:49:05.865987",
     "status": "completed"
    },
    "tags": []
   },
   "outputs": [
    {
     "data": {
      "text/markdown": [
       "- Why Ethereum Is On The Rise.  Ethereum is the second-largest public Blockchain network by both market capitalization and daily trading volume. It has already undergone remarkable development in its young history and continues to grow steadily.Institutional interest has helped fuel an increase in spot market trading as prices reach record levels.CME Group’s launch of Ether futures gives institutional traders a convenient way to get exposure to price movements. ... [| Skaityti daugiau](https://seekingalpha.com/article/4414653-why-ethereum-is-on-the-rise?utm_source=cryptocompare.com&utm_medium=referral) "
      ],
      "text/plain": [
       "<IPython.core.display.Markdown object>"
      ]
     },
     "execution_count": 3,
     "metadata": {},
     "output_type": "execute_result"
    }
   ],
   "source": [
    "#hide_input\n",
    "#md('##### {}'.format(titleBTC)) \n",
    "md(\"- {}{} {}{} [| Skaityti daugiau]({}) \".format(blockchain['title'],'. ', blockchain['body'], ' ...', blockchain['url']))"
   ]
  },
  {
   "cell_type": "code",
   "execution_count": 4,
   "id": "aging-caution",
   "metadata": {
    "execution": {
     "iopub.execute_input": "2021-03-18T01:49:05.922080Z",
     "iopub.status.busy": "2021-03-18T01:49:05.921130Z",
     "iopub.status.idle": "2021-03-18T01:49:05.924388Z",
     "shell.execute_reply": "2021-03-18T01:49:05.924973Z"
    },
    "papermill": {
     "duration": 0.021608,
     "end_time": "2021-03-18T01:49:05.925121",
     "exception": false,
     "start_time": "2021-03-18T01:49:05.903513",
     "status": "completed"
    },
    "tags": []
   },
   "outputs": [
    {
     "data": {
      "text/markdown": [
       "- Bitcoin Bull Max Keiser Maintains $220,000 Price Target for This Year.  Popular cryptocurrency strategist and former Wall Street trader Max Keiser has reaffirmed he believes the price of bitcoin will hit $220,000 this year after pointing to concerns surrounding inflation. Keiser first predicted the price of bitcoin would surpass the $200,000 mark this year back in January, in an interview with Stansberry Research, in which he […] ... [| Skaityti daugiau](https://www.cryptoglobe.com/latest/2021/03/bitcoin-bull-max-keiser-maintains-220000-price-target-for-this-year/) "
      ],
      "text/plain": [
       "<IPython.core.display.Markdown object>"
      ]
     },
     "execution_count": 4,
     "metadata": {},
     "output_type": "execute_result"
    }
   ],
   "source": [
    "#hide_input\n",
    "#md('##### {}'.format(titleBTC)) \n",
    "md(\"- {}{} {}{} [| Skaityti daugiau]({}) \".format(btc['title'],'. ', btc['body'], ' ...', btc['url']))"
   ]
  },
  {
   "cell_type": "code",
   "execution_count": 5,
   "id": "organic-actress",
   "metadata": {
    "execution": {
     "iopub.execute_input": "2021-03-18T01:49:05.955764Z",
     "iopub.status.busy": "2021-03-18T01:49:05.955092Z",
     "iopub.status.idle": "2021-03-18T01:49:05.959389Z",
     "shell.execute_reply": "2021-03-18T01:49:05.958740Z"
    },
    "papermill": {
     "duration": 0.021631,
     "end_time": "2021-03-18T01:49:05.959531",
     "exception": false,
     "start_time": "2021-03-18T01:49:05.937900",
     "status": "completed"
    },
    "tags": []
   },
   "outputs": [
    {
     "data": {
      "text/markdown": [
       "- Price analysis 3/17: BTC, ETH, BNB, ADA, DOT, XRP, UNI, LTC, LINK, BCH.  Select altcoins could move toward new highs if Bitcoin price continues to trade in a tightening range. ... [| Skaityti daugiau](https://cointelegraph.com/news/price-analysis-3-17-btc-eth-bnb-ada-dot-xrp-uni-ltc-link-bch) "
      ],
      "text/plain": [
       "<IPython.core.display.Markdown object>"
      ]
     },
     "execution_count": 5,
     "metadata": {},
     "output_type": "execute_result"
    }
   ],
   "source": [
    "#hide_input\n",
    "#md('##### {}'.format(titleBTC)) \n",
    "md(\"- {}{} {}{} [| Skaityti daugiau]({}) \".format(xrp['title'],'. ', xrp['body'], ' ...', xrp['url']))"
   ]
  },
  {
   "cell_type": "code",
   "execution_count": 6,
   "id": "prompt-farmer",
   "metadata": {
    "execution": {
     "iopub.execute_input": "2021-03-18T01:49:05.992154Z",
     "iopub.status.busy": "2021-03-18T01:49:05.991439Z",
     "iopub.status.idle": "2021-03-18T01:49:05.995324Z",
     "shell.execute_reply": "2021-03-18T01:49:05.995871Z"
    },
    "papermill": {
     "duration": 0.022642,
     "end_time": "2021-03-18T01:49:05.996017",
     "exception": false,
     "start_time": "2021-03-18T01:49:05.973375",
     "status": "completed"
    },
    "tags": []
   },
   "outputs": [
    {
     "data": {
      "text/markdown": [
       "- Tron (TRX) Price Analysis: Bulls Eye Crucial Break Above $0.055.  Tron price is consolidating in a range above the $0.0480 support against the US Dollar. TRX price is now trading above the $0.0500 support and the 55 simple moving average (4-hours). There was a break above a connecting bearish trend line at $0.0510 on the 4-hours chart (data feed via Bitfinex). The pair could start...The post Tron (TRX) Price Analysis: Bulls Eye Crucial Break Above $0.055 appeared first on Live Bitcoin News. ... [| Skaityti daugiau](https://www.livebitcoinnews.com/tron-trx-price-analysis-bulls-eye-crucial-break-above-0-055/) "
      ],
      "text/plain": [
       "<IPython.core.display.Markdown object>"
      ]
     },
     "execution_count": 6,
     "metadata": {},
     "output_type": "execute_result"
    }
   ],
   "source": [
    "#hide_input\n",
    "#md('##### {}'.format(titleBTC)) \n",
    "md(\"- {}{} {}{} [| Skaityti daugiau]({}) \".format(trx['title'],'. ', trx['body'], ' ...', trx['url']))"
   ]
  },
  {
   "cell_type": "code",
   "execution_count": 7,
   "id": "illegal-greece",
   "metadata": {
    "execution": {
     "iopub.execute_input": "2021-03-18T01:49:06.027990Z",
     "iopub.status.busy": "2021-03-18T01:49:06.027348Z",
     "iopub.status.idle": "2021-03-18T01:49:06.031034Z",
     "shell.execute_reply": "2021-03-18T01:49:06.031607Z"
    },
    "papermill": {
     "duration": 0.02217,
     "end_time": "2021-03-18T01:49:06.031752",
     "exception": false,
     "start_time": "2021-03-18T01:49:06.009582",
     "status": "completed"
    },
    "tags": []
   },
   "outputs": [
    {
     "data": {
      "text/markdown": [
       "- Ethereum price prediction: Bullish upside grind of ETH/BTC targets $1,960.  TL;DR Indecisive market turns Ethereum price prediction muddy ETH/USD hovers near $1,820 as significant supports defend against sellers Failure to cross $1,870 will bring back lower support levels and stall recovery Tight Bollinger bands further limit any upside in the near term Ethereum price prediction is fast approaching muddy territory as the pair is stuck [&#8230;] ... [| Skaityti daugiau](https://www.cryptopolitan.com/ethereum-price-prediction-2021-17-03/) "
      ],
      "text/plain": [
       "<IPython.core.display.Markdown object>"
      ]
     },
     "execution_count": 7,
     "metadata": {},
     "output_type": "execute_result"
    }
   ],
   "source": [
    "#hide_input\n",
    "#md('##### {}'.format(titleBTC)) \n",
    "md(\"- {}{} {}{} [| Skaityti daugiau]({}) \".format(eth['title'],'. ', eth['body'], ' ...', eth['url']))"
   ]
  },
  {
   "cell_type": "code",
   "execution_count": 8,
   "id": "sublime-lounge",
   "metadata": {
    "execution": {
     "iopub.execute_input": "2021-03-18T01:49:06.066044Z",
     "iopub.status.busy": "2021-03-18T01:49:06.064990Z",
     "iopub.status.idle": "2021-03-18T01:49:06.072912Z",
     "shell.execute_reply": "2021-03-18T01:49:06.073573Z"
    },
    "papermill": {
     "duration": 0.028289,
     "end_time": "2021-03-18T01:49:06.073768",
     "exception": false,
     "start_time": "2021-03-18T01:49:06.045479",
     "status": "completed"
    },
    "tags": []
   },
   "outputs": [
    {
     "data": {
      "text/markdown": [
       "- Cardano Coinbase Pro Listing Sets Stage for Price Rally.   ... [| Skaityti daugiau](https://cryptobriefing.com/cardano-coinbase-pro-listing-sets-the-stage-for-price-rally/) "
      ],
      "text/plain": [
       "<IPython.core.display.Markdown object>"
      ]
     },
     "execution_count": 8,
     "metadata": {},
     "output_type": "execute_result"
    }
   ],
   "source": [
    "#hide_input\n",
    "#md('##### {}'.format(titleBTC)) \n",
    "md(\"- {}{} {}{} [| Skaityti daugiau]({}) \".format(ada['title'],'. ', ada['body'], ' ...', ada['url']))"
   ]
  },
  {
   "cell_type": "code",
   "execution_count": 9,
   "id": "specified-ordering",
   "metadata": {
    "execution": {
     "iopub.execute_input": "2021-03-18T01:49:06.109287Z",
     "iopub.status.busy": "2021-03-18T01:49:06.108594Z",
     "iopub.status.idle": "2021-03-18T01:49:06.113738Z",
     "shell.execute_reply": "2021-03-18T01:49:06.113139Z"
    },
    "papermill": {
     "duration": 0.025039,
     "end_time": "2021-03-18T01:49:06.113875",
     "exception": false,
     "start_time": "2021-03-18T01:49:06.088836",
     "status": "completed"
    },
    "tags": []
   },
   "outputs": [
    {
     "data": {
      "text/markdown": [
       "- Tech Firm Meitu Buys Another $50 Million Worth of Bitcoin and Ethereum.  Meitu is a software development firm listed on the Hong Kong Stock Exchange, most known for its selfie-editing app. The app was massively popular in China before the addition of built-in filters and editors to major social media platforms. Since then, however, the company has struggled to find new avenues of growth. Now, the company [&#8230;] ... [| Skaityti daugiau](https://cryptopotato.com/tech-firm-meitu-buys-another-50-million-worth-of-bitcoin-and-ethereum/) "
      ],
      "text/plain": [
       "<IPython.core.display.Markdown object>"
      ]
     },
     "execution_count": 9,
     "metadata": {},
     "output_type": "execute_result"
    }
   ],
   "source": [
    "#hide_input\n",
    "#md('##### {}'.format(titleBTC)) \n",
    "md(\"- {}{} {}{} [| Skaityti daugiau]({}) \".format(exchange['title'],'. ', exchange['body'], ' ...', exchange['url']))"
   ]
  },
  {
   "cell_type": "code",
   "execution_count": null,
   "id": "tender-livestock",
   "metadata": {
    "papermill": {
     "duration": 0.014812,
     "end_time": "2021-03-18T01:49:06.143458",
     "exception": false,
     "start_time": "2021-03-18T01:49:06.128646",
     "status": "completed"
    },
    "tags": []
   },
   "outputs": [],
   "source": []
  },
  {
   "cell_type": "code",
   "execution_count": null,
   "id": "appreciated-diamond",
   "metadata": {
    "papermill": {
     "duration": 0.016024,
     "end_time": "2021-03-18T01:49:06.173992",
     "exception": false,
     "start_time": "2021-03-18T01:49:06.157968",
     "status": "completed"
    },
    "tags": []
   },
   "outputs": [],
   "source": []
  },
  {
   "cell_type": "code",
   "execution_count": null,
   "id": "romance-sweden",
   "metadata": {
    "papermill": {
     "duration": 0.014716,
     "end_time": "2021-03-18T01:49:06.203808",
     "exception": false,
     "start_time": "2021-03-18T01:49:06.189092",
     "status": "completed"
    },
    "tags": []
   },
   "outputs": [],
   "source": []
  },
  {
   "cell_type": "code",
   "execution_count": null,
   "id": "dietary-statistics",
   "metadata": {
    "papermill": {
     "duration": 0.014477,
     "end_time": "2021-03-18T01:49:06.232886",
     "exception": false,
     "start_time": "2021-03-18T01:49:06.218409",
     "status": "completed"
    },
    "tags": []
   },
   "outputs": [],
   "source": []
  }
 ],
 "metadata": {
  "kernelspec": {
   "display_name": "Python 3",
   "language": "python",
   "name": "python3"
  },
  "language_info": {
   "codemirror_mode": {
    "name": "ipython",
    "version": 3
   },
   "file_extension": ".py",
   "mimetype": "text/x-python",
   "name": "python",
   "nbconvert_exporter": "python",
   "pygments_lexer": "ipython3",
   "version": "3.6.13"
  },
  "papermill": {
   "default_parameters": {},
   "duration": 12.208276,
   "end_time": "2021-03-18T01:49:06.756965",
   "environment_variables": {},
   "exception": null,
   "input_path": "Market-News.ipynb",
   "output_path": "Market-News.ipynb",
   "parameters": {},
   "start_time": "2021-03-18T01:48:54.548689",
   "version": "2.2.2"
  }
 },
 "nbformat": 4,
 "nbformat_minor": 5
}