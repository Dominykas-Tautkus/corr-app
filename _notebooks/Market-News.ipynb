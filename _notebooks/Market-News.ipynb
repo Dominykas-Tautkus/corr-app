{
 "cells": [
  {
   "cell_type": "markdown",
   "id": "short-greensboro",
   "metadata": {
    "papermill": {
     "duration": 0.012074,
     "end_time": "2021-01-21T02:50:15.708094",
     "exception": false,
     "start_time": "2021-01-21T02:50:15.696020",
     "status": "completed"
    },
    "tags": []
   },
   "source": [
    "# Kriptovaliutų naujienos"
   ]
  },
  {
   "cell_type": "code",
   "execution_count": 1,
   "id": "functioning-knowing",
   "metadata": {
    "execution": {
     "iopub.execute_input": "2021-01-21T02:50:15.735191Z",
     "iopub.status.busy": "2021-01-21T02:50:15.734694Z",
     "iopub.status.idle": "2021-01-21T02:50:16.848597Z",
     "shell.execute_reply": "2021-01-21T02:50:16.848068Z"
    },
    "papermill": {
     "duration": 1.132037,
     "end_time": "2021-01-21T02:50:16.848811",
     "exception": false,
     "start_time": "2021-01-21T02:50:15.716774",
     "status": "completed"
    },
    "tags": []
   },
   "outputs": [],
   "source": [
    "#hide_input\n",
    "import warnings\n",
    "warnings.filterwarnings('ignore')\n",
    "from scripts.read_data import read_api\n",
    "from scripts.read_data import read_news\n",
    "from scripts.read_data import read_covid\n",
    "import matplotlib.pyplot as plt \n",
    "from IPython.display import Markdown as md"
   ]
  },
  {
   "cell_type": "code",
   "execution_count": 2,
   "id": "shared-acceptance",
   "metadata": {
    "execution": {
     "iopub.execute_input": "2021-01-21T02:50:16.872582Z",
     "iopub.status.busy": "2021-01-21T02:50:16.872087Z",
     "iopub.status.idle": "2021-01-21T02:50:23.656094Z",
     "shell.execute_reply": "2021-01-21T02:50:23.655580Z"
    },
    "papermill": {
     "duration": 6.797844,
     "end_time": "2021-01-21T02:50:23.656235",
     "exception": false,
     "start_time": "2021-01-21T02:50:16.858391",
     "status": "completed"
    },
    "tags": []
   },
   "outputs": [],
   "source": [
    "#hide_input\n",
    "blockchain = read_news('blockchain') \n",
    "btc = read_news('btc') \n",
    "xrp = read_news('xrp') \n",
    "trx = read_news('trx') \n",
    "eth = read_news('eth')  \n",
    "ada = read_news('ada')\n",
    "exchange = read_news('exchange') "
   ]
  },
  {
   "cell_type": "code",
   "execution_count": 3,
   "id": "synthetic-notion",
   "metadata": {
    "execution": {
     "iopub.execute_input": "2021-01-21T02:50:23.680447Z",
     "iopub.status.busy": "2021-01-21T02:50:23.679950Z",
     "iopub.status.idle": "2021-01-21T02:50:23.685918Z",
     "shell.execute_reply": "2021-01-21T02:50:23.685521Z"
    },
    "papermill": {
     "duration": 0.019681,
     "end_time": "2021-01-21T02:50:23.686031",
     "exception": false,
     "start_time": "2021-01-21T02:50:23.666350",
     "status": "completed"
    },
    "tags": []
   },
   "outputs": [
    {
     "data": {
      "text/markdown": [
       "- Origin Protocol begins accepting compensation claims following $7M exploit.  Co-founder Josh Fraser said he hopes the compensation plan will help build trust among users as the project moves forward. ... [| Skaityti daugiau](https://cointelegraph.com/news/origin-protocol-begins-accepting-compensation-claims-following-7m-exploit) "
      ],
      "text/plain": [
       "<IPython.core.display.Markdown object>"
      ]
     },
     "execution_count": 3,
     "metadata": {},
     "output_type": "execute_result"
    }
   ],
   "source": [
    "#hide_input\n",
    "#md('##### {}'.format(titleBTC)) \n",
    "md(\"- {}{} {}{} [| Skaityti daugiau]({}) \".format(blockchain['title'],'. ', blockchain['body'], ' ...', blockchain['url']))"
   ]
  },
  {
   "cell_type": "code",
   "execution_count": 4,
   "id": "aging-caution",
   "metadata": {
    "execution": {
     "iopub.execute_input": "2021-01-21T02:50:23.707359Z",
     "iopub.status.busy": "2021-01-21T02:50:23.706874Z",
     "iopub.status.idle": "2021-01-21T02:50:23.709906Z",
     "shell.execute_reply": "2021-01-21T02:50:23.709515Z"
    },
    "papermill": {
     "duration": 0.015314,
     "end_time": "2021-01-21T02:50:23.710007",
     "exception": false,
     "start_time": "2021-01-21T02:50:23.694693",
     "status": "completed"
    },
    "tags": []
   },
   "outputs": [
    {
     "data": {
      "text/markdown": [
       "- Market insiders struggle to explain Asia’s typically bearish crypto trading sessions.  Quick TakeCrypto Twitter likes to meme about bitcoin markets turning bearish when Asia-based traders come online.Data suggests this is actually happening — but prominent crypto traders aren&#8217;t exactly sure what&#8217;s driving it. ... [| Skaityti daugiau](https://www.theblockcrypto.com/daily/91884/asia-crypto-traders-bearish-selling?utm_source=cryptocompare&utm_medium=rss) "
      ],
      "text/plain": [
       "<IPython.core.display.Markdown object>"
      ]
     },
     "execution_count": 4,
     "metadata": {},
     "output_type": "execute_result"
    }
   ],
   "source": [
    "#hide_input\n",
    "#md('##### {}'.format(titleBTC)) \n",
    "md(\"- {}{} {}{} [| Skaityti daugiau]({}) \".format(btc['title'],'. ', btc['body'], ' ...', btc['url']))"
   ]
  },
  {
   "cell_type": "code",
   "execution_count": 5,
   "id": "organic-actress",
   "metadata": {
    "execution": {
     "iopub.execute_input": "2021-01-21T02:50:23.731906Z",
     "iopub.status.busy": "2021-01-21T02:50:23.731425Z",
     "iopub.status.idle": "2021-01-21T02:50:23.734095Z",
     "shell.execute_reply": "2021-01-21T02:50:23.734519Z"
    },
    "papermill": {
     "duration": 0.015695,
     "end_time": "2021-01-21T02:50:23.734630",
     "exception": false,
     "start_time": "2021-01-21T02:50:23.718935",
     "status": "completed"
    },
    "tags": []
   },
   "outputs": [
    {
     "data": {
      "text/markdown": [
       "- Pornhub’s Premium Services Add XRP, BNB, USDC, and DOGE as Payment Options.  One of the largest websites in the world, Pornhub, has added four new cryptoassets as payment options: XRP, Binance coin (BNB), Dogecoin (DOGE) ,and Centre’s USDC stablecoin. The coins can now be used to pay for its premium services. According to TheBlock, Pornhub’s 120 million daily visitors can now use these four cryptoassets to pay […] ... [| Skaityti daugiau](https://www.cryptoglobe.com/latest/2021/01/pornhubs-premium-services-add-xrp-bnb-usdc-and-doge-as-payment-options/) "
      ],
      "text/plain": [
       "<IPython.core.display.Markdown object>"
      ]
     },
     "execution_count": 5,
     "metadata": {},
     "output_type": "execute_result"
    }
   ],
   "source": [
    "#hide_input\n",
    "#md('##### {}'.format(titleBTC)) \n",
    "md(\"- {}{} {}{} [| Skaityti daugiau]({}) \".format(xrp['title'],'. ', xrp['body'], ' ...', xrp['url']))"
   ]
  },
  {
   "cell_type": "code",
   "execution_count": 6,
   "id": "prompt-farmer",
   "metadata": {
    "execution": {
     "iopub.execute_input": "2021-01-21T02:50:23.756930Z",
     "iopub.status.busy": "2021-01-21T02:50:23.756323Z",
     "iopub.status.idle": "2021-01-21T02:50:23.760532Z",
     "shell.execute_reply": "2021-01-21T02:50:23.760979Z"
    },
    "papermill": {
     "duration": 0.017082,
     "end_time": "2021-01-21T02:50:23.761108",
     "exception": false,
     "start_time": "2021-01-21T02:50:23.744026",
     "status": "completed"
    },
    "tags": []
   },
   "outputs": [
    {
     "data": {
      "text/markdown": [
       "- Tron (TRX) Price Analysis: Risk of Downside Break Below $0.030.  Tron price topped near the $0.0325 level and started a fresh decline against the US Dollar. TRX price is now trading well below $0.0312, but it is near the 55 simple moving average (4-hours). There is a major bullish trend line forming with support near $0.0291 on the 4-hours chart (data feed via Bitfinex). The...The post Tron (TRX) Price Analysis: Risk of Downside Break Below $0.030 appeared first on Live Bitcoin News. ... [| Skaityti daugiau](https://www.livebitcoinnews.com/tron-trx-price-analysis-risk-of-downside-break-below-0-030/) "
      ],
      "text/plain": [
       "<IPython.core.display.Markdown object>"
      ]
     },
     "execution_count": 6,
     "metadata": {},
     "output_type": "execute_result"
    }
   ],
   "source": [
    "#hide_input\n",
    "#md('##### {}'.format(titleBTC)) \n",
    "md(\"- {}{} {}{} [| Skaityti daugiau]({}) \".format(trx['title'],'. ', trx['body'], ' ...', trx['url']))"
   ]
  },
  {
   "cell_type": "code",
   "execution_count": 7,
   "id": "illegal-greece",
   "metadata": {
    "execution": {
     "iopub.execute_input": "2021-01-21T02:50:23.785155Z",
     "iopub.status.busy": "2021-01-21T02:50:23.784654Z",
     "iopub.status.idle": "2021-01-21T02:50:23.787276Z",
     "shell.execute_reply": "2021-01-21T02:50:23.786865Z"
    },
    "papermill": {
     "duration": 0.0159,
     "end_time": "2021-01-21T02:50:23.787376",
     "exception": false,
     "start_time": "2021-01-21T02:50:23.771476",
     "status": "completed"
    },
    "tags": []
   },
   "outputs": [
    {
     "data": {
      "text/markdown": [
       "- Ethereum stalls after record high but here is why Fundstrat analyst believes it is $10,500 token.  Ethereum’s short-term outlook is bearish, price could fall to $1,250 while seeking support above $1,200. David Grider, says Ethereum growth to $10,500 will stem from the growing DeFi sector. Ethereum majestically rose to new all-time highs at $1,446. However, the anticipated rally seems to have taken a step back with Ether first dropping to confirm The post Ethereum stalls after record high but here is why Fundstrat analyst believes it is $10,500 token appeared first on Coingape. ... [| Skaityti daugiau](https://coingape.com/ethereum-stalls-after-record-high-but-here-is-why-fundstrat-analyst-believes-it-is-10500-token/) "
      ],
      "text/plain": [
       "<IPython.core.display.Markdown object>"
      ]
     },
     "execution_count": 7,
     "metadata": {},
     "output_type": "execute_result"
    }
   ],
   "source": [
    "#hide_input\n",
    "#md('##### {}'.format(titleBTC)) \n",
    "md(\"- {}{} {}{} [| Skaityti daugiau]({}) \".format(eth['title'],'. ', eth['body'], ' ...', eth['url']))"
   ]
  },
  {
   "cell_type": "code",
   "execution_count": 8,
   "id": "sublime-lounge",
   "metadata": {
    "execution": {
     "iopub.execute_input": "2021-01-21T02:50:23.811773Z",
     "iopub.status.busy": "2021-01-21T02:50:23.811289Z",
     "iopub.status.idle": "2021-01-21T02:50:23.813983Z",
     "shell.execute_reply": "2021-01-21T02:50:23.814399Z"
    },
    "papermill": {
     "duration": 0.016946,
     "end_time": "2021-01-21T02:50:23.814509",
     "exception": false,
     "start_time": "2021-01-21T02:50:23.797563",
     "status": "completed"
    },
    "tags": []
   },
   "outputs": [
    {
     "data": {
      "text/markdown": [
       "- Cardano wants to incentivize running sidechains with inflation, says Hoskinson.  Since the launch of Shelley in July 2020, implementing Goguen, the next era of the Cardano blockchain, has been the focus of the Cardano Foundation. However, the much-anticipated launch is still yet to be scheduled – something that may come down to the technical difficulties associated with executing it. The subject was touched upon by [&#8230;] ... [| Skaityti daugiau](https://ambcrypto.com/cardano-wants-to-incentivize-running-sidechains-with-inflation-says-hoskinson/) "
      ],
      "text/plain": [
       "<IPython.core.display.Markdown object>"
      ]
     },
     "execution_count": 8,
     "metadata": {},
     "output_type": "execute_result"
    }
   ],
   "source": [
    "#hide_input\n",
    "#md('##### {}'.format(titleBTC)) \n",
    "md(\"- {}{} {}{} [| Skaityti daugiau]({}) \".format(ada['title'],'. ', ada['body'], ' ...', ada['url']))"
   ]
  },
  {
   "cell_type": "code",
   "execution_count": 9,
   "id": "specified-ordering",
   "metadata": {
    "execution": {
     "iopub.execute_input": "2021-01-21T02:50:23.839769Z",
     "iopub.status.busy": "2021-01-21T02:50:23.839287Z",
     "iopub.status.idle": "2021-01-21T02:50:23.842296Z",
     "shell.execute_reply": "2021-01-21T02:50:23.841880Z"
    },
    "papermill": {
     "duration": 0.017242,
     "end_time": "2021-01-21T02:50:23.842395",
     "exception": false,
     "start_time": "2021-01-21T02:50:23.825153",
     "status": "completed"
    },
    "tags": []
   },
   "outputs": [
    {
     "data": {
      "text/markdown": [
       "- Pornhub’s Premium Services Add XRP, BNB, USDC, and DOGE as Payment Options.  One of the largest websites in the world, Pornhub, has added four new cryptoassets as payment options: XRP, Binance coin (BNB), Dogecoin (DOGE) ,and Centre’s USDC stablecoin. The coins can now be used to pay for its premium services. According to TheBlock, Pornhub’s 120 million daily visitors can now use these four cryptoassets to pay […] ... [| Skaityti daugiau](https://www.cryptoglobe.com/latest/2021/01/pornhubs-premium-services-add-xrp-bnb-usdc-and-doge-as-payment-options/) "
      ],
      "text/plain": [
       "<IPython.core.display.Markdown object>"
      ]
     },
     "execution_count": 9,
     "metadata": {},
     "output_type": "execute_result"
    }
   ],
   "source": [
    "#hide_input\n",
    "#md('##### {}'.format(titleBTC)) \n",
    "md(\"- {}{} {}{} [| Skaityti daugiau]({}) \".format(exchange['title'],'. ', exchange['body'], ' ...', exchange['url']))"
   ]
  },
  {
   "cell_type": "code",
   "execution_count": null,
   "id": "tender-livestock",
   "metadata": {
    "papermill": {
     "duration": 0.010937,
     "end_time": "2021-01-21T02:50:23.864376",
     "exception": false,
     "start_time": "2021-01-21T02:50:23.853439",
     "status": "completed"
    },
    "tags": []
   },
   "outputs": [],
   "source": []
  },
  {
   "cell_type": "code",
   "execution_count": null,
   "id": "appreciated-diamond",
   "metadata": {
    "papermill": {
     "duration": 0.011981,
     "end_time": "2021-01-21T02:50:23.887968",
     "exception": false,
     "start_time": "2021-01-21T02:50:23.875987",
     "status": "completed"
    },
    "tags": []
   },
   "outputs": [],
   "source": []
  },
  {
   "cell_type": "code",
   "execution_count": null,
   "id": "romance-sweden",
   "metadata": {
    "papermill": {
     "duration": 0.011212,
     "end_time": "2021-01-21T02:50:23.910351",
     "exception": false,
     "start_time": "2021-01-21T02:50:23.899139",
     "status": "completed"
    },
    "tags": []
   },
   "outputs": [],
   "source": []
  },
  {
   "cell_type": "code",
   "execution_count": null,
   "id": "dietary-statistics",
   "metadata": {
    "papermill": {
     "duration": 0.011252,
     "end_time": "2021-01-21T02:50:23.932567",
     "exception": false,
     "start_time": "2021-01-21T02:50:23.921315",
     "status": "completed"
    },
    "tags": []
   },
   "outputs": [],
   "source": []
  }
 ],
 "metadata": {
  "kernelspec": {
   "display_name": "Python 3",
   "language": "python",
   "name": "python3"
  },
  "language_info": {
   "codemirror_mode": {
    "name": "ipython",
    "version": 3
   },
   "file_extension": ".py",
   "mimetype": "text/x-python",
   "name": "python",
   "nbconvert_exporter": "python",
   "pygments_lexer": "ipython3",
   "version": "3.6.12"
  },
  "papermill": {
   "default_parameters": {},
   "duration": 9.89604,
   "end_time": "2021-01-21T02:50:24.350333",
   "environment_variables": {},
   "exception": null,
   "input_path": "Market-News.ipynb",
   "output_path": "Market-News.ipynb",
   "parameters": {},
   "start_time": "2021-01-21T02:50:14.454293",
   "version": "2.2.2"
  }
 },
 "nbformat": 4,
 "nbformat_minor": 5
}