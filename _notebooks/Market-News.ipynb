{
 "cells": [
  {
   "cell_type": "markdown",
   "metadata": {
    "papermill": {
     "duration": 0.014158,
     "end_time": "2021-01-16T13:53:19.583173",
     "exception": false,
     "start_time": "2021-01-16T13:53:19.569015",
     "status": "completed"
    },
    "tags": []
   },
   "source": [
    "# Kriptovaliutų naujienos"
   ]
  },
  {
   "cell_type": "code",
   "execution_count": 1,
   "metadata": {
    "papermill": {
     "duration": 1.29691,
     "end_time": "2021-01-16T13:53:20.888410",
     "exception": false,
     "start_time": "2021-01-16T13:53:19.591500",
     "status": "completed"
    },
    "tags": []
   },
   "outputs": [],
   "source": [
    "#hide_input\n",
    "import warnings\n",
    "warnings.filterwarnings('ignore')\n",
    "from scripts.read_data import read_api\n",
    "from scripts.read_data import read_news\n",
    "from scripts.read_data import read_covid\n",
    "import matplotlib.pyplot as plt \n",
    "from IPython.display import Markdown as md"
   ]
  },
  {
   "cell_type": "code",
   "execution_count": 2,
   "metadata": {
    "papermill": {
     "duration": 7.227404,
     "end_time": "2021-01-16T13:53:28.126428",
     "exception": false,
     "start_time": "2021-01-16T13:53:20.899024",
     "status": "completed"
    },
    "tags": []
   },
   "outputs": [],
   "source": [
    "#hide_input\n",
    "blockchain = read_news('blockchain') \n",
    "btc = read_news('btc') \n",
    "xrp = read_news('xrp') \n",
    "trx = read_news('trx') \n",
    "eth = read_news('eth')  \n",
    "ada = read_news('ada')\n",
    "exchange = read_news('exchange') "
   ]
  },
  {
   "cell_type": "code",
   "execution_count": 3,
   "metadata": {
    "papermill": {
     "duration": 0.018178,
     "end_time": "2021-01-16T13:53:28.154381",
     "exception": false,
     "start_time": "2021-01-16T13:53:28.136203",
     "status": "completed"
    },
    "tags": []
   },
   "outputs": [
    {
     "data": {
      "text/markdown": [
       "- CBDC: Bank of France reveals interbank settlement testing results.  TL;DR Breakdown French Central Bank releases results of CBDC testing. Central banks across the world have begun massively working on their national digital currency. The French Central Bank has released its central bank digital currency (CBDC) testing it carried out last month. The test, which used a blockchain developed by a startup in the United […] ... [| Skaityti daugiau](https://www.cryptopolitan.com/cbdc-bank-of-france-reveals-interbank/) "
      ],
      "text/plain": [
       "<IPython.core.display.Markdown object>"
      ]
     },
     "execution_count": 3,
     "metadata": {},
     "output_type": "execute_result"
    }
   ],
   "source": [
    "#hide_input\n",
    "#md('##### {}'.format(titleBTC)) \n",
    "md(\"- {}{} {}{} [| Skaityti daugiau]({}) \".format(blockchain['title'],'. ', blockchain['body'], ' ...', blockchain['url']))"
   ]
  },
  {
   "cell_type": "code",
   "execution_count": 4,
   "metadata": {
    "papermill": {
     "duration": 0.015173,
     "end_time": "2021-01-16T13:53:28.177450",
     "exception": false,
     "start_time": "2021-01-16T13:53:28.162277",
     "status": "completed"
    },
    "tags": []
   },
   "outputs": [
    {
     "data": {
      "text/markdown": [
       "- Biden Enters the White House: What Does this Mean for Crypto in the US?.  President-Elect Joseph R. Biden has plans to enact a number of policy changes one day one of his tenure. ... [| Skaityti daugiau](https://www.financemagnates.com/cryptocurrency/news/biden-enters-the-white-house-what-does-this-mean-for-crypto-in-the-us/) "
      ],
      "text/plain": [
       "<IPython.core.display.Markdown object>"
      ]
     },
     "execution_count": 4,
     "metadata": {},
     "output_type": "execute_result"
    }
   ],
   "source": [
    "#hide_input\n",
    "#md('##### {}'.format(titleBTC)) \n",
    "md(\"- {}{} {}{} [| Skaityti daugiau]({}) \".format(btc['title'],'. ', btc['body'], ' ...', btc['url']))"
   ]
  },
  {
   "cell_type": "code",
   "execution_count": 5,
   "metadata": {
    "papermill": {
     "duration": 0.015973,
     "end_time": "2021-01-16T13:53:28.201645",
     "exception": false,
     "start_time": "2021-01-16T13:53:28.185672",
     "status": "completed"
    },
    "tags": []
   },
   "outputs": [
    {
     "data": {
      "text/markdown": [
       "- ‘Fairly clear’ XRP is not a security: Ex-head of SEC’s New York office.  Opinions have varied ever since the United States&#8217; SEC filed a lawsuit against Ripple a few weeks ago, a development that for a brief while left the cryptocurrency XRP tanking. However, while quite a few exchanges and trading platforms have already de-listed or suspended XRP trading in the aftermath of the same, a few others [&#8230;] ... [| Skaityti daugiau](https://ambcrypto.com/fairly-clear-xrp-is-not-a-security-ex-head-of-secs-new-york-office/) "
      ],
      "text/plain": [
       "<IPython.core.display.Markdown object>"
      ]
     },
     "execution_count": 5,
     "metadata": {},
     "output_type": "execute_result"
    }
   ],
   "source": [
    "#hide_input\n",
    "#md('##### {}'.format(titleBTC)) \n",
    "md(\"- {}{} {}{} [| Skaityti daugiau]({}) \".format(xrp['title'],'. ', xrp['body'], ' ...', xrp['url']))"
   ]
  },
  {
   "cell_type": "code",
   "execution_count": 6,
   "metadata": {
    "papermill": {
     "duration": 0.017117,
     "end_time": "2021-01-16T13:53:28.228065",
     "exception": false,
     "start_time": "2021-01-16T13:53:28.210948",
     "status": "completed"
    },
    "tags": []
   },
   "outputs": [
    {
     "data": {
      "text/markdown": [
       "- Tron (TRX) Price Analysis: Risk of Downside Break Below $0.030.  Tron price topped near the $0.0325 level and started a fresh decline against the US Dollar. TRX price is now trading well below $0.0312, but it is near the 55 simple moving average (4-hours). There is a major bullish trend line forming with support near $0.0291 on the 4-hours chart (data feed via Bitfinex). The...The post Tron (TRX) Price Analysis: Risk of Downside Break Below $0.030 appeared first on Live Bitcoin News. ... [| Skaityti daugiau](https://www.livebitcoinnews.com/tron-trx-price-analysis-risk-of-downside-break-below-0-030/) "
      ],
      "text/plain": [
       "<IPython.core.display.Markdown object>"
      ]
     },
     "execution_count": 6,
     "metadata": {},
     "output_type": "execute_result"
    }
   ],
   "source": [
    "#hide_input\n",
    "#md('##### {}'.format(titleBTC)) \n",
    "md(\"- {}{} {}{} [| Skaityti daugiau]({}) \".format(trx['title'],'. ', trx['body'], ' ...', trx['url']))"
   ]
  },
  {
   "cell_type": "code",
   "execution_count": 7,
   "metadata": {
    "papermill": {
     "duration": 0.019001,
     "end_time": "2021-01-16T13:53:28.256983",
     "exception": false,
     "start_time": "2021-01-16T13:53:28.237982",
     "status": "completed"
    },
    "tags": []
   },
   "outputs": [
    {
     "data": {
      "text/markdown": [
       "- Fundstrat Analyst: Ethereum Is the Best Risk/Reward & Can Touch $10,500 Backed By DeFi.  The world&#8217;s second-largest cryptocurrency Ethereum (ETH) is current on investors&#8217; radar soon after it hit an all-time high of $1439 on Tuesday, January 19. Speaking to Bloomberg, Fundstrat Global Advisors&#8217; strategist David Grider said that the ETH price can surge 7x from the current levels all the way up to $10,500 levels. Interestingly, Grider&#8217;s prediction The post Fundstrat Analyst: Ethereum Is the Best Risk/Reward &amp; Can Touch $10,500 Backed By DeFi appeared first on Coingape. ... [| Skaityti daugiau](https://coingape.com/fundstrat-analyst-ethereum-best-risk-reward-can-touch-10500-backed-defi/) "
      ],
      "text/plain": [
       "<IPython.core.display.Markdown object>"
      ]
     },
     "execution_count": 7,
     "metadata": {},
     "output_type": "execute_result"
    }
   ],
   "source": [
    "#hide_input\n",
    "#md('##### {}'.format(titleBTC)) \n",
    "md(\"- {}{} {}{} [| Skaityti daugiau]({}) \".format(eth['title'],'. ', eth['body'], ' ...', eth['url']))"
   ]
  },
  {
   "cell_type": "code",
   "execution_count": 8,
   "metadata": {
    "papermill": {
     "duration": 0.019095,
     "end_time": "2021-01-16T13:53:28.286198",
     "exception": false,
     "start_time": "2021-01-16T13:53:28.267103",
     "status": "completed"
    },
    "tags": []
   },
   "outputs": [
    {
     "data": {
      "text/markdown": [
       "- Cardano price prediction: ADA still testing support around $0.35.  TL;DR Breakdown ADA/USD continues slowly retracing Closest support around $0.35 Closest resistance at the previous high of $0.40 Cardano price prediction is still bullish as the market continues retracing some of the upswing seen last week. ADA currently tests the $0.35 support. Cryptocurrency heat map by Coin360 The overall market today is sending mixed signals. […] ... [| Skaityti daugiau](https://www.cryptopolitan.com/cardano-price-prediction-testing-support-35/) "
      ],
      "text/plain": [
       "<IPython.core.display.Markdown object>"
      ]
     },
     "execution_count": 8,
     "metadata": {},
     "output_type": "execute_result"
    }
   ],
   "source": [
    "#hide_input\n",
    "#md('##### {}'.format(titleBTC)) \n",
    "md(\"- {}{} {}{} [| Skaityti daugiau]({}) \".format(ada['title'],'. ', ada['body'], ' ...', ada['url']))"
   ]
  },
  {
   "cell_type": "code",
   "execution_count": 9,
   "metadata": {
    "papermill": {
     "duration": 0.01905,
     "end_time": "2021-01-16T13:53:28.315713",
     "exception": false,
     "start_time": "2021-01-16T13:53:28.296663",
     "status": "completed"
    },
    "tags": []
   },
   "outputs": [
    {
     "data": {
      "text/markdown": [
       "- Tether Produces More Than 2.5 Million Documents to NYAG.  Tether and Bitfinex have produced millions of documents but claim they need more time to produce additional papers. ... [| Skaityti daugiau](https://decrypt.co/54715/tether-produces-more-than-2-5-million-documents-to-nyag) "
      ],
      "text/plain": [
       "<IPython.core.display.Markdown object>"
      ]
     },
     "execution_count": 9,
     "metadata": {},
     "output_type": "execute_result"
    }
   ],
   "source": [
    "#hide_input\n",
    "#md('##### {}'.format(titleBTC)) \n",
    "md(\"- {}{} {}{} [| Skaityti daugiau]({}) \".format(exchange['title'],'. ', exchange['body'], ' ...', exchange['url']))"
   ]
  },
  {
   "cell_type": "code",
   "execution_count": null,
   "metadata": {
    "papermill": {
     "duration": 0.010748,
     "end_time": "2021-01-16T13:53:28.337271",
     "exception": false,
     "start_time": "2021-01-16T13:53:28.326523",
     "status": "completed"
    },
    "tags": []
   },
   "outputs": [],
   "source": []
  },
  {
   "cell_type": "code",
   "execution_count": null,
   "metadata": {
    "papermill": {
     "duration": 0.011258,
     "end_time": "2021-01-16T13:53:28.359462",
     "exception": false,
     "start_time": "2021-01-16T13:53:28.348204",
     "status": "completed"
    },
    "tags": []
   },
   "outputs": [],
   "source": []
  },
  {
   "cell_type": "code",
   "execution_count": null,
   "metadata": {
    "papermill": {
     "duration": 0.011448,
     "end_time": "2021-01-16T13:53:28.381343",
     "exception": false,
     "start_time": "2021-01-16T13:53:28.369895",
     "status": "completed"
    },
    "tags": []
   },
   "outputs": [],
   "source": []
  },
  {
   "cell_type": "code",
   "execution_count": null,
   "metadata": {},
   "outputs": [],
   "source": []
  }
 ],
 "metadata": {
  "kernelspec": {
   "display_name": "Python 3",
   "language": "python",
   "name": "python3"
  },
  "language_info": {
   "codemirror_mode": {
    "name": "ipython",
    "version": 3
   },
   "file_extension": ".py",
   "mimetype": "text/x-python",
   "name": "python",
   "nbconvert_exporter": "python",
   "pygments_lexer": "ipython3",
   "version": "3.8.5"
  },
  "papermill": {
   "default_parameters": {},
   "duration": 10.299808,
   "end_time": "2021-01-16T13:53:28.799434",
   "environment_variables": {},
   "exception": null,
   "input_path": "Market-News.ipynb",
   "output_path": "Market-News.ipynb",
   "parameters": {},
   "start_time": "2021-01-16T13:53:18.499626",
   "version": "2.2.2"
  }
 },
 "nbformat": 4,
 "nbformat_minor": 4
}
