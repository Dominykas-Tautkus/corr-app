{
 "cells": [
  {
   "cell_type": "markdown",
   "id": "short-greensboro",
   "metadata": {
    "papermill": {
     "duration": 0.013961,
     "end_time": "2021-05-17T02:20:33.468656",
     "exception": false,
     "start_time": "2021-05-17T02:20:33.454695",
     "status": "completed"
    },
    "tags": []
   },
   "source": [
    "# Kriptovaliutų naujienos"
   ]
  },
  {
   "cell_type": "code",
   "execution_count": 1,
   "id": "functioning-knowing",
   "metadata": {
    "execution": {
     "iopub.execute_input": "2021-05-17T02:20:33.499150Z",
     "iopub.status.busy": "2021-05-17T02:20:33.495416Z",
     "iopub.status.idle": "2021-05-17T02:20:34.769200Z",
     "shell.execute_reply": "2021-05-17T02:20:34.770023Z"
    },
    "papermill": {
     "duration": 1.291873,
     "end_time": "2021-05-17T02:20:34.770305",
     "exception": false,
     "start_time": "2021-05-17T02:20:33.478432",
     "status": "completed"
    },
    "tags": []
   },
   "outputs": [],
   "source": [
    "#hide_input\n",
    "import warnings\n",
    "warnings.filterwarnings('ignore')\n",
    "from scripts.read_data import read_api\n",
    "from scripts.read_data import read_news\n",
    "from scripts.read_data import read_covid\n",
    "import matplotlib.pyplot as plt \n",
    "from IPython.display import Markdown as md"
   ]
  },
  {
   "cell_type": "code",
   "execution_count": 2,
   "id": "shared-acceptance",
   "metadata": {
    "execution": {
     "iopub.execute_input": "2021-05-17T02:20:34.800855Z",
     "iopub.status.busy": "2021-05-17T02:20:34.800258Z",
     "iopub.status.idle": "2021-05-17T02:20:43.420617Z",
     "shell.execute_reply": "2021-05-17T02:20:43.419577Z"
    },
    "papermill": {
     "duration": 8.637176,
     "end_time": "2021-05-17T02:20:43.420749",
     "exception": false,
     "start_time": "2021-05-17T02:20:34.783573",
     "status": "completed"
    },
    "tags": []
   },
   "outputs": [],
   "source": [
    "#hide_input\n",
    "blockchain = read_news('blockchain') \n",
    "btc = read_news('btc') \n",
    "xrp = read_news('xrp') \n",
    "trx = read_news('trx') \n",
    "eth = read_news('eth')  \n",
    "ada = read_news('ada')\n",
    "exchange = read_news('exchange') "
   ]
  },
  {
   "cell_type": "code",
   "execution_count": 3,
   "id": "synthetic-notion",
   "metadata": {
    "execution": {
     "iopub.execute_input": "2021-05-17T02:20:43.445106Z",
     "iopub.status.busy": "2021-05-17T02:20:43.444612Z",
     "iopub.status.idle": "2021-05-17T02:20:43.447880Z",
     "shell.execute_reply": "2021-05-17T02:20:43.447385Z"
    },
    "papermill": {
     "duration": 0.017888,
     "end_time": "2021-05-17T02:20:43.447998",
     "exception": false,
     "start_time": "2021-05-17T02:20:43.430110",
     "status": "completed"
    },
    "tags": []
   },
   "outputs": [
    {
     "data": {
      "text/markdown": [
       "- Facebook’s Diem Unveils Its Latest Stablecoin Plans and Strategic Move to the United States.  Diem, the cryptocurrency project headed by Facebook originally known as Libra, recently announced its plans to launch a stablecoin with its focus scaled back to the United States. The company stated earlier this year that it would be relocating its primary operations from Switzerland back to the United States, and would withdraw its payment system [&#8230;] ... [| Skaityti daugiau](https://bitcoinist.com/facebooks-diem-unveils-its-latest-stablecoin-plans-and-strategic-move-to-the-united-states/?utm_source=rss&utm_medium=rss&utm_campaign=facebooks-diem-unveils-its-latest-stablecoin-plans-and-strategic-move-to-the-united-states) "
      ],
      "text/plain": [
       "<IPython.core.display.Markdown object>"
      ]
     },
     "execution_count": 3,
     "metadata": {},
     "output_type": "execute_result"
    }
   ],
   "source": [
    "#hide_input\n",
    "#md('##### {}'.format(titleBTC)) \n",
    "md(\"- {}{} {}{} [| Skaityti daugiau]({}) \".format(blockchain['title'],'. ', blockchain['body'], ' ...', blockchain['url']))"
   ]
  },
  {
   "cell_type": "code",
   "execution_count": 4,
   "id": "aging-caution",
   "metadata": {
    "execution": {
     "iopub.execute_input": "2021-05-17T02:20:43.472241Z",
     "iopub.status.busy": "2021-05-17T02:20:43.471713Z",
     "iopub.status.idle": "2021-05-17T02:20:43.474738Z",
     "shell.execute_reply": "2021-05-17T02:20:43.475199Z"
    },
    "papermill": {
     "duration": 0.017302,
     "end_time": "2021-05-17T02:20:43.475305",
     "exception": false,
     "start_time": "2021-05-17T02:20:43.458003",
     "status": "completed"
    },
    "tags": []
   },
   "outputs": [
    {
     "data": {
      "text/markdown": [
       "- Banking System Uses Significantly More Energy Than Bitcoin, Research Shows.  A new report shows that the banking system consumes more than twice the amount of energy that bitcoin does. The authors analyzed bitcoin&#8217;s energy usage and compared it to the banking and gold industries. Banking System Consumes Much More Energy Than Bitcoin Galaxy Digital published a report last week entitled &#8220;On Bitcoin&#8217;s Energy Consumption: A [&#8230;] ... [| Skaityti daugiau](https://news.bitcoin.com/banking-system-uses-significantly-more-energy-than-bitcoin/) "
      ],
      "text/plain": [
       "<IPython.core.display.Markdown object>"
      ]
     },
     "execution_count": 4,
     "metadata": {},
     "output_type": "execute_result"
    }
   ],
   "source": [
    "#hide_input\n",
    "#md('##### {}'.format(titleBTC)) \n",
    "md(\"- {}{} {}{} [| Skaityti daugiau]({}) \".format(btc['title'],'. ', btc['body'], ' ...', btc['url']))"
   ]
  },
  {
   "cell_type": "code",
   "execution_count": 5,
   "id": "organic-actress",
   "metadata": {
    "execution": {
     "iopub.execute_input": "2021-05-17T02:20:43.499234Z",
     "iopub.status.busy": "2021-05-17T02:20:43.497757Z",
     "iopub.status.idle": "2021-05-17T02:20:43.501094Z",
     "shell.execute_reply": "2021-05-17T02:20:43.501665Z"
    },
    "papermill": {
     "duration": 0.016797,
     "end_time": "2021-05-17T02:20:43.501807",
     "exception": false,
     "start_time": "2021-05-17T02:20:43.485010",
     "status": "completed"
    },
    "tags": []
   },
   "outputs": [
    {
     "data": {
      "text/markdown": [
       "- Binance Coin, XRP, Dogecoin Price Analysis: 16 May.  Binance Coin headed south towards $500-$510 support &#8211; a region bolstered by the 50-SMA (yellow). XRP jumped by 16% on strong volumes but its technicals were yet to reflect a strengthening bullish trend. Finally, Dogecoin could see further dips before a rise above $0.569-resistance. Binance Coin [BNB] On the 1-day chart, Binance Coin slipped below [&#8230;] ... [| Skaityti daugiau](https://ambcrypto.com/binance-coin-xrp-dogecoin-price-analysis-16-may/) "
      ],
      "text/plain": [
       "<IPython.core.display.Markdown object>"
      ]
     },
     "execution_count": 5,
     "metadata": {},
     "output_type": "execute_result"
    }
   ],
   "source": [
    "#hide_input\n",
    "#md('##### {}'.format(titleBTC)) \n",
    "md(\"- {}{} {}{} [| Skaityti daugiau]({}) \".format(xrp['title'],'. ', xrp['body'], ' ...', xrp['url']))"
   ]
  },
  {
   "cell_type": "code",
   "execution_count": 6,
   "id": "prompt-farmer",
   "metadata": {
    "execution": {
     "iopub.execute_input": "2021-05-17T02:20:43.528535Z",
     "iopub.status.busy": "2021-05-17T02:20:43.527842Z",
     "iopub.status.idle": "2021-05-17T02:20:43.530203Z",
     "shell.execute_reply": "2021-05-17T02:20:43.530594Z"
    },
    "papermill": {
     "duration": 0.018308,
     "end_time": "2021-05-17T02:20:43.530693",
     "exception": false,
     "start_time": "2021-05-17T02:20:43.512385",
     "status": "completed"
    },
    "tags": []
   },
   "outputs": [
    {
     "data": {
      "text/markdown": [
       "- Tron, Monero, BitTorrent Price Analysis: 15 May.  With Bitcoin trading at around $48,000 and Ethereum trading between $3,900-3950, bearish sentiment was driving most alts at press time. Similarly, selling pressure was evident on the charts for the likes of Tron, BitTorrent. and Monero, with each alt projecting dips at various support levels. Tron [TRX] While some alts were in recovery mode after [&#8230;] ... [| Skaityti daugiau](https://ambcrypto.com/tron-monero-bittorrent-price-analysis-15-may/) "
      ],
      "text/plain": [
       "<IPython.core.display.Markdown object>"
      ]
     },
     "execution_count": 6,
     "metadata": {},
     "output_type": "execute_result"
    }
   ],
   "source": [
    "#hide_input\n",
    "#md('##### {}'.format(titleBTC)) \n",
    "md(\"- {}{} {}{} [| Skaityti daugiau]({}) \".format(trx['title'],'. ', trx['body'], ' ...', trx['url']))"
   ]
  },
  {
   "cell_type": "code",
   "execution_count": 7,
   "id": "illegal-greece",
   "metadata": {
    "execution": {
     "iopub.execute_input": "2021-05-17T02:20:43.556700Z",
     "iopub.status.busy": "2021-05-17T02:20:43.556155Z",
     "iopub.status.idle": "2021-05-17T02:20:43.559189Z",
     "shell.execute_reply": "2021-05-17T02:20:43.558772Z"
    },
    "papermill": {
     "duration": 0.018396,
     "end_time": "2021-05-17T02:20:43.559280",
     "exception": false,
     "start_time": "2021-05-17T02:20:43.540884",
     "status": "completed"
    },
    "tags": []
   },
   "outputs": [
    {
     "data": {
      "text/markdown": [
       "- Billionaire Mike Novogratz Says Ethereum Could Go Higher, Ramps Up Crypto Investments.  Billionaire investor and crypto firebrand Mike Novogratz believes that Ethereum has more upside potential despite its meteoric rise to a fresh all-time high of $4,362 earlier this month. In a new interview with New York Magazine, the founder and CEO of digital asset merchant bank Galaxy Digital unveils the factors that keep him bullish on [&#8230;]The post Billionaire Mike Novogratz Says Ethereum Could Go Higher, Ramps Up Crypto Investments appeared first on The Daily Hodl. ... [| Skaityti daugiau](https://dailyhodl.com/2021/05/16/billionaire-mike-novogratz-says-ethereum-could-go-higher-ramps-up-crypto-investments/) "
      ],
      "text/plain": [
       "<IPython.core.display.Markdown object>"
      ]
     },
     "execution_count": 7,
     "metadata": {},
     "output_type": "execute_result"
    }
   ],
   "source": [
    "#hide_input\n",
    "#md('##### {}'.format(titleBTC)) \n",
    "md(\"- {}{} {}{} [| Skaityti daugiau]({}) \".format(eth['title'],'. ', eth['body'], ' ...', eth['url']))"
   ]
  },
  {
   "cell_type": "code",
   "execution_count": 8,
   "id": "sublime-lounge",
   "metadata": {
    "execution": {
     "iopub.execute_input": "2021-05-17T02:20:43.584087Z",
     "iopub.status.busy": "2021-05-17T02:20:43.583631Z",
     "iopub.status.idle": "2021-05-17T02:20:43.586773Z",
     "shell.execute_reply": "2021-05-17T02:20:43.586315Z"
    },
    "papermill": {
     "duration": 0.01731,
     "end_time": "2021-05-17T02:20:43.586860",
     "exception": false,
     "start_time": "2021-05-17T02:20:43.569550",
     "status": "completed"
    },
    "tags": []
   },
   "outputs": [
    {
     "data": {
      "text/markdown": [
       "- Cardano, Uniswap, Chainlink Price Analysis: 16 May.  Cardano introduced some target levels at $2.53 and $2.69 via the Fibonacci Extension tool. Uniswap needed to garner bullish strength for a break above $43-$45 resistance. Lastly, a descending triangle breakdown on Chainlink could see a 7.5% retracement towards its 50-SMA Cardano [ADA] If buyers were looking to make profits on large-cap alts during the [&#8230;] ... [| Skaityti daugiau](https://ambcrypto.com/cardano-uniswap-chainlink-price-analysis-16-may/) "
      ],
      "text/plain": [
       "<IPython.core.display.Markdown object>"
      ]
     },
     "execution_count": 8,
     "metadata": {},
     "output_type": "execute_result"
    }
   ],
   "source": [
    "#hide_input\n",
    "#md('##### {}'.format(titleBTC)) \n",
    "md(\"- {}{} {}{} [| Skaityti daugiau]({}) \".format(ada['title'],'. ', ada['body'], ' ...', ada['url']))"
   ]
  },
  {
   "cell_type": "code",
   "execution_count": 9,
   "id": "specified-ordering",
   "metadata": {
    "execution": {
     "iopub.execute_input": "2021-05-17T02:20:43.613603Z",
     "iopub.status.busy": "2021-05-17T02:20:43.612936Z",
     "iopub.status.idle": "2021-05-17T02:20:43.615379Z",
     "shell.execute_reply": "2021-05-17T02:20:43.615985Z"
    },
    "papermill": {
     "duration": 0.018012,
     "end_time": "2021-05-17T02:20:43.616128",
     "exception": false,
     "start_time": "2021-05-17T02:20:43.598116",
     "status": "completed"
    },
    "tags": []
   },
   "outputs": [
    {
     "data": {
      "text/markdown": [
       "- Binance Coin, XRP, Dogecoin Price Analysis: 16 May.  Binance Coin headed south towards $500-$510 support &#8211; a region bolstered by the 50-SMA (yellow). XRP jumped by 16% on strong volumes but its technicals were yet to reflect a strengthening bullish trend. Finally, Dogecoin could see further dips before a rise above $0.569-resistance. Binance Coin [BNB] On the 1-day chart, Binance Coin slipped below [&#8230;] ... [| Skaityti daugiau](https://ambcrypto.com/binance-coin-xrp-dogecoin-price-analysis-16-may/) "
      ],
      "text/plain": [
       "<IPython.core.display.Markdown object>"
      ]
     },
     "execution_count": 9,
     "metadata": {},
     "output_type": "execute_result"
    }
   ],
   "source": [
    "#hide_input\n",
    "#md('##### {}'.format(titleBTC)) \n",
    "md(\"- {}{} {}{} [| Skaityti daugiau]({}) \".format(exchange['title'],'. ', exchange['body'], ' ...', exchange['url']))"
   ]
  },
  {
   "cell_type": "code",
   "execution_count": null,
   "id": "tender-livestock",
   "metadata": {
    "papermill": {
     "duration": 0.010752,
     "end_time": "2021-05-17T02:20:43.637321",
     "exception": false,
     "start_time": "2021-05-17T02:20:43.626569",
     "status": "completed"
    },
    "tags": []
   },
   "outputs": [],
   "source": []
  },
  {
   "cell_type": "code",
   "execution_count": null,
   "id": "appreciated-diamond",
   "metadata": {
    "papermill": {
     "duration": 0.010331,
     "end_time": "2021-05-17T02:20:43.658993",
     "exception": false,
     "start_time": "2021-05-17T02:20:43.648662",
     "status": "completed"
    },
    "tags": []
   },
   "outputs": [],
   "source": []
  },
  {
   "cell_type": "code",
   "execution_count": null,
   "id": "romance-sweden",
   "metadata": {
    "papermill": {
     "duration": 0.011067,
     "end_time": "2021-05-17T02:20:43.680259",
     "exception": false,
     "start_time": "2021-05-17T02:20:43.669192",
     "status": "completed"
    },
    "tags": []
   },
   "outputs": [],
   "source": []
  },
  {
   "cell_type": "code",
   "execution_count": null,
   "id": "dietary-statistics",
   "metadata": {
    "papermill": {
     "duration": 0.011913,
     "end_time": "2021-05-17T02:20:43.704057",
     "exception": false,
     "start_time": "2021-05-17T02:20:43.692144",
     "status": "completed"
    },
    "tags": []
   },
   "outputs": [],
   "source": []
  }
 ],
 "metadata": {
  "kernelspec": {
   "display_name": "Python 3",
   "language": "python",
   "name": "python3"
  },
  "language_info": {
   "codemirror_mode": {
    "name": "ipython",
    "version": 3
   },
   "file_extension": ".py",
   "mimetype": "text/x-python",
   "name": "python",
   "nbconvert_exporter": "python",
   "pygments_lexer": "ipython3",
   "version": "3.6.13"
  },
  "papermill": {
   "default_parameters": {},
   "duration": 11.712439,
   "end_time": "2021-05-17T02:20:44.123990",
   "environment_variables": {},
   "exception": null,
   "input_path": "Market-News.ipynb",
   "output_path": "Market-News.ipynb",
   "parameters": {},
   "start_time": "2021-05-17T02:20:32.411551",
   "version": "2.2.2"
  }
 },
 "nbformat": 4,
 "nbformat_minor": 5
}