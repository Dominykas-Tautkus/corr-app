{
 "cells": [
  {
   "cell_type": "markdown",
   "id": "short-greensboro",
   "metadata": {
    "papermill": {
     "duration": 0.0176,
     "end_time": "2021-05-25T02:29:54.474608",
     "exception": false,
     "start_time": "2021-05-25T02:29:54.457008",
     "status": "completed"
    },
    "tags": []
   },
   "source": [
    "# Kriptovaliutų naujienos"
   ]
  },
  {
   "cell_type": "code",
   "execution_count": 1,
   "id": "functioning-knowing",
   "metadata": {
    "execution": {
     "iopub.execute_input": "2021-05-25T02:29:54.510670Z",
     "iopub.status.busy": "2021-05-25T02:29:54.510071Z",
     "iopub.status.idle": "2021-05-25T02:29:55.798141Z",
     "shell.execute_reply": "2021-05-25T02:29:55.797029Z"
    },
    "papermill": {
     "duration": 1.312723,
     "end_time": "2021-05-25T02:29:55.798301",
     "exception": false,
     "start_time": "2021-05-25T02:29:54.485578",
     "status": "completed"
    },
    "tags": []
   },
   "outputs": [],
   "source": [
    "#hide_input\n",
    "import warnings\n",
    "warnings.filterwarnings('ignore')\n",
    "from scripts.read_data import read_api\n",
    "from scripts.read_data import read_news\n",
    "from scripts.read_data import read_covid\n",
    "import matplotlib.pyplot as plt \n",
    "from IPython.display import Markdown as md"
   ]
  },
  {
   "cell_type": "code",
   "execution_count": 2,
   "id": "shared-acceptance",
   "metadata": {
    "execution": {
     "iopub.execute_input": "2021-05-25T02:29:55.826280Z",
     "iopub.status.busy": "2021-05-25T02:29:55.824740Z",
     "iopub.status.idle": "2021-05-25T02:30:05.573808Z",
     "shell.execute_reply": "2021-05-25T02:30:05.573247Z"
    },
    "papermill": {
     "duration": 9.765139,
     "end_time": "2021-05-25T02:30:05.573966",
     "exception": false,
     "start_time": "2021-05-25T02:29:55.808827",
     "status": "completed"
    },
    "tags": []
   },
   "outputs": [],
   "source": [
    "#hide_input\n",
    "blockchain = read_news('blockchain') \n",
    "btc = read_news('btc') \n",
    "xrp = read_news('xrp') \n",
    "trx = read_news('trx') \n",
    "eth = read_news('eth')  \n",
    "ada = read_news('ada')\n",
    "exchange = read_news('exchange') "
   ]
  },
  {
   "cell_type": "code",
   "execution_count": 3,
   "id": "synthetic-notion",
   "metadata": {
    "execution": {
     "iopub.execute_input": "2021-05-25T02:30:05.603101Z",
     "iopub.status.busy": "2021-05-25T02:30:05.602504Z",
     "iopub.status.idle": "2021-05-25T02:30:05.605856Z",
     "shell.execute_reply": "2021-05-25T02:30:05.605290Z"
    },
    "papermill": {
     "duration": 0.019762,
     "end_time": "2021-05-25T02:30:05.605976",
     "exception": false,
     "start_time": "2021-05-25T02:30:05.586214",
     "status": "completed"
    },
    "tags": []
   },
   "outputs": [
    {
     "data": {
      "text/markdown": [
       "- Chia Network Closes $61 Million Funding Round with $500 Million Valuation.  Chia Network, a blockchain and smart currency platform known for its storage-based mining, has raised $61 million from notable investors including Andreesen Horowitz. https://t.co/MQ8U7Y4SVW &#8212; Chia Project (@chia_project) May 24, 2021 The San Francisco-based company is now valued upwards of $500 million based on the funding round. Breyer Capital, Slow Ventures, True Ventures, Cygni Capital, [&#8230;] ... [| Skaityti daugiau](https://bitcoinist.com/chia-network-closes-61-million-funding-round-with-500-million-valuation/?utm_source=rss&utm_medium=rss&utm_campaign=chia-network-closes-61-million-funding-round-with-500-million-valuation) "
      ],
      "text/plain": [
       "<IPython.core.display.Markdown object>"
      ]
     },
     "execution_count": 3,
     "metadata": {},
     "output_type": "execute_result"
    }
   ],
   "source": [
    "#hide_input\n",
    "#md('##### {}'.format(titleBTC)) \n",
    "md(\"- {}{} {}{} [| Skaityti daugiau]({}) \".format(blockchain['title'],'. ', blockchain['body'], ' ...', blockchain['url']))"
   ]
  },
  {
   "cell_type": "code",
   "execution_count": 4,
   "id": "aging-caution",
   "metadata": {
    "execution": {
     "iopub.execute_input": "2021-05-25T02:30:05.632611Z",
     "iopub.status.busy": "2021-05-25T02:30:05.631961Z",
     "iopub.status.idle": "2021-05-25T02:30:05.635010Z",
     "shell.execute_reply": "2021-05-25T02:30:05.635521Z"
    },
    "papermill": {
     "duration": 0.018722,
     "end_time": "2021-05-25T02:30:05.635652",
     "exception": false,
     "start_time": "2021-05-25T02:30:05.616930",
     "status": "completed"
    },
    "tags": []
   },
   "outputs": [
    {
     "data": {
      "text/markdown": [
       "- Market Review: Bitcoin, Ethereum markets bounce after a record plunge last week.  The cryptocurrency market shows a steady rise after the big sell-off last week after many indicators turned bearish, but are we out of the rough patch yet? Last week, after the price closed below the 20MA (a popular indicator used by traders to assess the price momentum), there was a huge sell-off which saw Bitcoin [&#8230;]The post Market Review: Bitcoin, Ethereum markets bounce after a record plunge last week appeared first on CryptoSlate. ... [| Skaityti daugiau](https://cryptoslate.com/bitcoin-ethereum-markets-bounce-after-a-record-plunge-last-week/) "
      ],
      "text/plain": [
       "<IPython.core.display.Markdown object>"
      ]
     },
     "execution_count": 4,
     "metadata": {},
     "output_type": "execute_result"
    }
   ],
   "source": [
    "#hide_input\n",
    "#md('##### {}'.format(titleBTC)) \n",
    "md(\"- {}{} {}{} [| Skaityti daugiau]({}) \".format(btc['title'],'. ', btc['body'], ' ...', btc['url']))"
   ]
  },
  {
   "cell_type": "code",
   "execution_count": 5,
   "id": "organic-actress",
   "metadata": {
    "execution": {
     "iopub.execute_input": "2021-05-25T02:30:05.663786Z",
     "iopub.status.busy": "2021-05-25T02:30:05.663174Z",
     "iopub.status.idle": "2021-05-25T02:30:05.667941Z",
     "shell.execute_reply": "2021-05-25T02:30:05.668496Z"
    },
    "papermill": {
     "duration": 0.021738,
     "end_time": "2021-05-25T02:30:05.668632",
     "exception": false,
     "start_time": "2021-05-25T02:30:05.646894",
     "status": "completed"
    },
    "tags": []
   },
   "outputs": [
    {
     "data": {
      "text/markdown": [
       "- XRP community demands ‘seat at the table!’ What are the Ripple effects?.  The &#8216;Ripple v. SEC&#8217; lawsuit, to a certain extent, has been fueling volatility in the already erratic XRP market. In fact, there have been varied predictions about the positive and the negative impact the outcome of the lawsuit could bring. However, the most impacted by the result will likely be XRP holders. Ripple and the [&#8230;] ... [| Skaityti daugiau](https://ambcrypto.com/xrp-community-demands-seat-at-the-table-what-are-the-ripple-effects/) "
      ],
      "text/plain": [
       "<IPython.core.display.Markdown object>"
      ]
     },
     "execution_count": 5,
     "metadata": {},
     "output_type": "execute_result"
    }
   ],
   "source": [
    "#hide_input\n",
    "#md('##### {}'.format(titleBTC)) \n",
    "md(\"- {}{} {}{} [| Skaityti daugiau]({}) \".format(xrp['title'],'. ', xrp['body'], ' ...', xrp['url']))"
   ]
  },
  {
   "cell_type": "code",
   "execution_count": 6,
   "id": "prompt-farmer",
   "metadata": {
    "execution": {
     "iopub.execute_input": "2021-05-25T02:30:05.701092Z",
     "iopub.status.busy": "2021-05-25T02:30:05.700292Z",
     "iopub.status.idle": "2021-05-25T02:30:05.702978Z",
     "shell.execute_reply": "2021-05-25T02:30:05.703521Z"
    },
    "papermill": {
     "duration": 0.02042,
     "end_time": "2021-05-25T02:30:05.703653",
     "exception": false,
     "start_time": "2021-05-25T02:30:05.683233",
     "status": "completed"
    },
    "tags": []
   },
   "outputs": [
    {
     "data": {
      "text/markdown": [
       "- VeChain, THETA, Tron Price Analysis: 23 May.  VeChain&#8217;s technicals presented some additional losses for the crypto-asset moving forward. THETA needed to reclaim the area above $7.34 to enable a quick recovery. Finally, Tron could stabilize at $0.0622 support. VeChain [VET] VeChain was unable to bounce back from $0.096-support and suffered yet another breakdown on its 4-hour chart. There was some defense around [&#8230;] ... [| Skaityti daugiau](https://ambcrypto.com/vechain-theta-tron-price-analysis-23-may/) "
      ],
      "text/plain": [
       "<IPython.core.display.Markdown object>"
      ]
     },
     "execution_count": 6,
     "metadata": {},
     "output_type": "execute_result"
    }
   ],
   "source": [
    "#hide_input\n",
    "#md('##### {}'.format(titleBTC)) \n",
    "md(\"- {}{} {}{} [| Skaityti daugiau]({}) \".format(trx['title'],'. ', trx['body'], ' ...', trx['url']))"
   ]
  },
  {
   "cell_type": "code",
   "execution_count": 7,
   "id": "illegal-greece",
   "metadata": {
    "execution": {
     "iopub.execute_input": "2021-05-25T02:30:05.734952Z",
     "iopub.status.busy": "2021-05-25T02:30:05.734384Z",
     "iopub.status.idle": "2021-05-25T02:30:05.737953Z",
     "shell.execute_reply": "2021-05-25T02:30:05.737493Z"
    },
    "papermill": {
     "duration": 0.019223,
     "end_time": "2021-05-25T02:30:05.738069",
     "exception": false,
     "start_time": "2021-05-25T02:30:05.718846",
     "status": "completed"
    },
    "tags": []
   },
   "outputs": [
    {
     "data": {
      "text/markdown": [
       "- Market Review: Bitcoin, Ethereum markets bounce after a record plunge last week.  The cryptocurrency market shows a steady rise after the big sell-off last week after many indicators turned bearish, but are we out of the rough patch yet? Last week, after the price closed below the 20MA (a popular indicator used by traders to assess the price momentum), there was a huge sell-off which saw Bitcoin [&#8230;]The post Market Review: Bitcoin, Ethereum markets bounce after a record plunge last week appeared first on CryptoSlate. ... [| Skaityti daugiau](https://cryptoslate.com/bitcoin-ethereum-markets-bounce-after-a-record-plunge-last-week/) "
      ],
      "text/plain": [
       "<IPython.core.display.Markdown object>"
      ]
     },
     "execution_count": 7,
     "metadata": {},
     "output_type": "execute_result"
    }
   ],
   "source": [
    "#hide_input\n",
    "#md('##### {}'.format(titleBTC)) \n",
    "md(\"- {}{} {}{} [| Skaityti daugiau]({}) \".format(eth['title'],'. ', eth['body'], ' ...', eth['url']))"
   ]
  },
  {
   "cell_type": "code",
   "execution_count": 8,
   "id": "sublime-lounge",
   "metadata": {
    "execution": {
     "iopub.execute_input": "2021-05-25T02:30:05.767175Z",
     "iopub.status.busy": "2021-05-25T02:30:05.766408Z",
     "iopub.status.idle": "2021-05-25T02:30:05.769002Z",
     "shell.execute_reply": "2021-05-25T02:30:05.769557Z"
    },
    "papermill": {
     "duration": 0.019924,
     "end_time": "2021-05-25T02:30:05.769688",
     "exception": false,
     "start_time": "2021-05-25T02:30:05.749764",
     "status": "completed"
    },
    "tags": []
   },
   "outputs": [
    {
     "data": {
      "text/markdown": [
       "- What does this new milestone mean for what’s next for Cardano?.  With a market capitalization of $43.91 billion, Cardano, at press time, was ranked the fourth-largest cryptocurrency on CoinMarketCap. What&#8217;s more, ADA&#8217;s investors were recording nearly 600% returns year-to-date. However, one can argue that such an uptick in value has been a result of its efforts to make the ecosystem more independent and sustainable. Cardano approaches [&#8230;] ... [| Skaityti daugiau](https://ambcrypto.com/what-does-this-new-milestone-mean-for-whats-next-for-cardano/) "
      ],
      "text/plain": [
       "<IPython.core.display.Markdown object>"
      ]
     },
     "execution_count": 8,
     "metadata": {},
     "output_type": "execute_result"
    }
   ],
   "source": [
    "#hide_input\n",
    "#md('##### {}'.format(titleBTC)) \n",
    "md(\"- {}{} {}{} [| Skaityti daugiau]({}) \".format(ada['title'],'. ', ada['body'], ' ...', ada['url']))"
   ]
  },
  {
   "cell_type": "code",
   "execution_count": 9,
   "id": "specified-ordering",
   "metadata": {
    "execution": {
     "iopub.execute_input": "2021-05-25T02:30:05.801658Z",
     "iopub.status.busy": "2021-05-25T02:30:05.800864Z",
     "iopub.status.idle": "2021-05-25T02:30:05.803692Z",
     "shell.execute_reply": "2021-05-25T02:30:05.804337Z"
    },
    "papermill": {
     "duration": 0.022312,
     "end_time": "2021-05-25T02:30:05.804471",
     "exception": false,
     "start_time": "2021-05-25T02:30:05.782159",
     "status": "completed"
    },
    "tags": []
   },
   "outputs": [
    {
     "data": {
      "text/markdown": [
       "- Flash Loan Attacks Drain 2 Binance Smart Chain Defi Projects for $6 Million.  There have been two back-to-back flash loan attacks in a short period of time stemming from two unique Binance Smart Chain decentralized finance (defi) projects. Last Wednesday, the yield-farming platform Pancakebunny lost close to $3 million in a flash loan attack according to reports. The following Sunday, Bogged Finance saw $3 million exploited from a [&#8230;] ... [| Skaityti daugiau](https://news.bitcoin.com/flash-loan-attacks-drain-2-binance-smart-chain-defi-projects-for-6-million/) "
      ],
      "text/plain": [
       "<IPython.core.display.Markdown object>"
      ]
     },
     "execution_count": 9,
     "metadata": {},
     "output_type": "execute_result"
    }
   ],
   "source": [
    "#hide_input\n",
    "#md('##### {}'.format(titleBTC)) \n",
    "md(\"- {}{} {}{} [| Skaityti daugiau]({}) \".format(exchange['title'],'. ', exchange['body'], ' ...', exchange['url']))"
   ]
  },
  {
   "cell_type": "code",
   "execution_count": null,
   "id": "tender-livestock",
   "metadata": {
    "papermill": {
     "duration": 0.01349,
     "end_time": "2021-05-25T02:30:05.832452",
     "exception": false,
     "start_time": "2021-05-25T02:30:05.818962",
     "status": "completed"
    },
    "tags": []
   },
   "outputs": [],
   "source": []
  },
  {
   "cell_type": "code",
   "execution_count": null,
   "id": "appreciated-diamond",
   "metadata": {
    "papermill": {
     "duration": 0.012502,
     "end_time": "2021-05-25T02:30:05.857723",
     "exception": false,
     "start_time": "2021-05-25T02:30:05.845221",
     "status": "completed"
    },
    "tags": []
   },
   "outputs": [],
   "source": []
  },
  {
   "cell_type": "code",
   "execution_count": null,
   "id": "romance-sweden",
   "metadata": {
    "papermill": {
     "duration": 0.011897,
     "end_time": "2021-05-25T02:30:05.882310",
     "exception": false,
     "start_time": "2021-05-25T02:30:05.870413",
     "status": "completed"
    },
    "tags": []
   },
   "outputs": [],
   "source": []
  },
  {
   "cell_type": "code",
   "execution_count": null,
   "id": "dietary-statistics",
   "metadata": {
    "papermill": {
     "duration": 0.012926,
     "end_time": "2021-05-25T02:30:05.907868",
     "exception": false,
     "start_time": "2021-05-25T02:30:05.894942",
     "status": "completed"
    },
    "tags": []
   },
   "outputs": [],
   "source": []
  }
 ],
 "metadata": {
  "kernelspec": {
   "display_name": "Python 3",
   "language": "python",
   "name": "python3"
  },
  "language_info": {
   "codemirror_mode": {
    "name": "ipython",
    "version": 3
   },
   "file_extension": ".py",
   "mimetype": "text/x-python",
   "name": "python",
   "nbconvert_exporter": "python",
   "pygments_lexer": "ipython3",
   "version": "3.6.13"
  },
  "papermill": {
   "default_parameters": {},
   "duration": 13.153909,
   "end_time": "2021-05-25T02:30:06.330800",
   "environment_variables": {},
   "exception": null,
   "input_path": "Market-News.ipynb",
   "output_path": "Market-News.ipynb",
   "parameters": {},
   "start_time": "2021-05-25T02:29:53.176891",
   "version": "2.2.2"
  }
 },
 "nbformat": 4,
 "nbformat_minor": 5
}