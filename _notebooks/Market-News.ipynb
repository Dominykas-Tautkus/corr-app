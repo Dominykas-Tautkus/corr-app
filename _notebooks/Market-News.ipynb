{
 "cells": [
  {
   "cell_type": "markdown",
   "id": "short-greensboro",
   "metadata": {
    "papermill": {
     "duration": 0.012584,
     "end_time": "2021-04-04T02:10:56.233105",
     "exception": false,
     "start_time": "2021-04-04T02:10:56.220521",
     "status": "completed"
    },
    "tags": []
   },
   "source": [
    "# Kriptovaliutų naujienos"
   ]
  },
  {
   "cell_type": "code",
   "execution_count": 1,
   "id": "functioning-knowing",
   "metadata": {
    "execution": {
     "iopub.execute_input": "2021-04-04T02:10:56.260590Z",
     "iopub.status.busy": "2021-04-04T02:10:56.260114Z",
     "iopub.status.idle": "2021-04-04T02:10:57.355077Z",
     "shell.execute_reply": "2021-04-04T02:10:57.354096Z"
    },
    "papermill": {
     "duration": 1.113473,
     "end_time": "2021-04-04T02:10:57.355217",
     "exception": false,
     "start_time": "2021-04-04T02:10:56.241744",
     "status": "completed"
    },
    "tags": []
   },
   "outputs": [],
   "source": [
    "#hide_input\n",
    "import warnings\n",
    "warnings.filterwarnings('ignore')\n",
    "from scripts.read_data import read_api\n",
    "from scripts.read_data import read_news\n",
    "from scripts.read_data import read_covid\n",
    "import matplotlib.pyplot as plt \n",
    "from IPython.display import Markdown as md"
   ]
  },
  {
   "cell_type": "code",
   "execution_count": 2,
   "id": "shared-acceptance",
   "metadata": {
    "execution": {
     "iopub.execute_input": "2021-04-04T02:10:57.378588Z",
     "iopub.status.busy": "2021-04-04T02:10:57.377552Z",
     "iopub.status.idle": "2021-04-04T02:11:05.663633Z",
     "shell.execute_reply": "2021-04-04T02:11:05.662558Z"
    },
    "papermill": {
     "duration": 8.300478,
     "end_time": "2021-04-04T02:11:05.663769",
     "exception": false,
     "start_time": "2021-04-04T02:10:57.363291",
     "status": "completed"
    },
    "tags": []
   },
   "outputs": [],
   "source": [
    "#hide_input\n",
    "blockchain = read_news('blockchain') \n",
    "btc = read_news('btc') \n",
    "xrp = read_news('xrp') \n",
    "trx = read_news('trx') \n",
    "eth = read_news('eth')  \n",
    "ada = read_news('ada')\n",
    "exchange = read_news('exchange') "
   ]
  },
  {
   "cell_type": "code",
   "execution_count": 3,
   "id": "synthetic-notion",
   "metadata": {
    "execution": {
     "iopub.execute_input": "2021-04-04T02:11:05.685787Z",
     "iopub.status.busy": "2021-04-04T02:11:05.685329Z",
     "iopub.status.idle": "2021-04-04T02:11:05.687932Z",
     "shell.execute_reply": "2021-04-04T02:11:05.687539Z"
    },
    "papermill": {
     "duration": 0.016398,
     "end_time": "2021-04-04T02:11:05.688027",
     "exception": false,
     "start_time": "2021-04-04T02:11:05.671629",
     "status": "completed"
    },
    "tags": []
   },
   "outputs": [
    {
     "data": {
      "text/markdown": [
       "- Kuailian Responds to False Accusations and Confirms its Importance.  Disclaimer: The text below is a press release that was not written by Cryptonews.com. Economic interests abound in the digital world and that is so true that any group of people can spread false news to slow the growth of projects in order to obtain benefits from it, Kuailian, the versatile blockchain ecosystem has been strongly criticized lately by opponents of the methodologies and operation on ... [| Skaityti daugiau](https://cryptonews.com/news/kuailian-responds-to-false-accusations-and-confirms-its-impo-9791.htm) "
      ],
      "text/plain": [
       "<IPython.core.display.Markdown object>"
      ]
     },
     "execution_count": 3,
     "metadata": {},
     "output_type": "execute_result"
    }
   ],
   "source": [
    "#hide_input\n",
    "#md('##### {}'.format(titleBTC)) \n",
    "md(\"- {}{} {}{} [| Skaityti daugiau]({}) \".format(blockchain['title'],'. ', blockchain['body'], ' ...', blockchain['url']))"
   ]
  },
  {
   "cell_type": "code",
   "execution_count": 4,
   "id": "aging-caution",
   "metadata": {
    "execution": {
     "iopub.execute_input": "2021-04-04T02:11:05.710767Z",
     "iopub.status.busy": "2021-04-04T02:11:05.710277Z",
     "iopub.status.idle": "2021-04-04T02:11:05.712916Z",
     "shell.execute_reply": "2021-04-04T02:11:05.712588Z"
    },
    "papermill": {
     "duration": 0.015093,
     "end_time": "2021-04-04T02:11:05.712999",
     "exception": false,
     "start_time": "2021-04-04T02:11:05.697906",
     "status": "completed"
    },
    "tags": []
   },
   "outputs": [
    {
     "data": {
      "text/markdown": [
       "- Hardware Hacker Modifies Old School Game Boy To Mine Bitcoin.  An enterprising hardware hacker has modified an original Nintendo Game Boy in order to mine bitcoin. In a YouTube video published by Stacksmashing, the modder was able to hack an original Game Boy in order to mine Bitcoin. The modder’s primary challenge was getting the Game Boy, released two full decades before the creation of […] ... [| Skaityti daugiau](https://www.cryptoglobe.com/latest/2021/04/hardware-hacker-modifies-old-school-game-boy-to-mine-bitcoin/) "
      ],
      "text/plain": [
       "<IPython.core.display.Markdown object>"
      ]
     },
     "execution_count": 4,
     "metadata": {},
     "output_type": "execute_result"
    }
   ],
   "source": [
    "#hide_input\n",
    "#md('##### {}'.format(titleBTC)) \n",
    "md(\"- {}{} {}{} [| Skaityti daugiau]({}) \".format(btc['title'],'. ', btc['body'], ' ...', btc['url']))"
   ]
  },
  {
   "cell_type": "code",
   "execution_count": 5,
   "id": "organic-actress",
   "metadata": {
    "execution": {
     "iopub.execute_input": "2021-04-04T02:11:05.734766Z",
     "iopub.status.busy": "2021-04-04T02:11:05.734038Z",
     "iopub.status.idle": "2021-04-04T02:11:05.737556Z",
     "shell.execute_reply": "2021-04-04T02:11:05.737930Z"
    },
    "papermill": {
     "duration": 0.017316,
     "end_time": "2021-04-04T02:11:05.738032",
     "exception": false,
     "start_time": "2021-04-04T02:11:05.720716",
     "status": "completed"
    },
    "tags": []
   },
   "outputs": [
    {
     "data": {
      "text/markdown": [
       "- XRP Price Analysis: 03 April.  The XRP market has been noting a strong uptrend over the past week. The digital asset witnessed a 10% rise in value in the last ten days and has held on to a value above $0.6. At the time of writing, XRP was ranked seventh on the CoinMarketCap list of top cryptos with a market [&#8230;] ... [| Skaityti daugiau](https://ambcrypto.com/xrp-price-analysis-03-april/) "
      ],
      "text/plain": [
       "<IPython.core.display.Markdown object>"
      ]
     },
     "execution_count": 5,
     "metadata": {},
     "output_type": "execute_result"
    }
   ],
   "source": [
    "#hide_input\n",
    "#md('##### {}'.format(titleBTC)) \n",
    "md(\"- {}{} {}{} [| Skaityti daugiau]({}) \".format(xrp['title'],'. ', xrp['body'], ' ...', xrp['url']))"
   ]
  },
  {
   "cell_type": "code",
   "execution_count": 6,
   "id": "prompt-farmer",
   "metadata": {
    "execution": {
     "iopub.execute_input": "2021-04-04T02:11:05.763861Z",
     "iopub.status.busy": "2021-04-04T02:11:05.763368Z",
     "iopub.status.idle": "2021-04-04T02:11:05.767342Z",
     "shell.execute_reply": "2021-04-04T02:11:05.767832Z"
    },
    "papermill": {
     "duration": 0.02045,
     "end_time": "2021-04-04T02:11:05.767955",
     "exception": false,
     "start_time": "2021-04-04T02:11:05.747505",
     "status": "completed"
    },
    "tags": []
   },
   "outputs": [
    {
     "data": {
      "text/markdown": [
       "- Why DOT, ADA, TRX, and UNI will lead this alt rally.  Following Ethereum&#8217;s rally above $2000, and nearly 25% gain in a week, now may be the ideal time to pick altcoins that offer double-digit returns this alt season. It is likely that either the altcoin supply moving out of exchanges would lead to a price rally or a local dip may be incoming. Top alts [&#8230;] ... [| Skaityti daugiau](https://ambcrypto.com/why-dot-ada-trx-and-uni-will-lead-this-alt-rally/) "
      ],
      "text/plain": [
       "<IPython.core.display.Markdown object>"
      ]
     },
     "execution_count": 6,
     "metadata": {},
     "output_type": "execute_result"
    }
   ],
   "source": [
    "#hide_input\n",
    "#md('##### {}'.format(titleBTC)) \n",
    "md(\"- {}{} {}{} [| Skaityti daugiau]({}) \".format(trx['title'],'. ', trx['body'], ' ...', trx['url']))"
   ]
  },
  {
   "cell_type": "code",
   "execution_count": 7,
   "id": "illegal-greece",
   "metadata": {
    "execution": {
     "iopub.execute_input": "2021-04-04T02:11:05.791654Z",
     "iopub.status.busy": "2021-04-04T02:11:05.791255Z",
     "iopub.status.idle": "2021-04-04T02:11:05.793784Z",
     "shell.execute_reply": "2021-04-04T02:11:05.793443Z"
    },
    "papermill": {
     "duration": 0.015291,
     "end_time": "2021-04-04T02:11:05.793862",
     "exception": false,
     "start_time": "2021-04-04T02:11:05.778571",
     "status": "completed"
    },
    "tags": []
   },
   "outputs": [
    {
     "data": {
      "text/markdown": [
       "- Non-Fungible Token Sales Begin to Dive, NFT Interest Declines, Finance Author Highlights NFT Oversupply.  Non-fungible token (NFT) assets and collectibles are starting to see sales decline and interest in NFTs is dropping as well. Additionally, it&#8217;s being said that an &#8220;oversupply of NFTs&#8221; may hurt the market, according to James Surowiecki the author of &#8220;The Wisdom of Crowds.&#8221; In 2021, non-fungible tokens have been all the rage and the [&#8230;] ... [| Skaityti daugiau](https://news.bitcoin.com/non-fungible-token-sales-begin-to-dive-nft-interest-declines-finance-author-highlights-nft-oversupply/) "
      ],
      "text/plain": [
       "<IPython.core.display.Markdown object>"
      ]
     },
     "execution_count": 7,
     "metadata": {},
     "output_type": "execute_result"
    }
   ],
   "source": [
    "#hide_input\n",
    "#md('##### {}'.format(titleBTC)) \n",
    "md(\"- {}{} {}{} [| Skaityti daugiau]({}) \".format(eth['title'],'. ', eth['body'], ' ...', eth['url']))"
   ]
  },
  {
   "cell_type": "code",
   "execution_count": 8,
   "id": "sublime-lounge",
   "metadata": {
    "execution": {
     "iopub.execute_input": "2021-04-04T02:11:05.822042Z",
     "iopub.status.busy": "2021-04-04T02:11:05.821178Z",
     "iopub.status.idle": "2021-04-04T02:11:05.824833Z",
     "shell.execute_reply": "2021-04-04T02:11:05.825335Z"
    },
    "papermill": {
     "duration": 0.022886,
     "end_time": "2021-04-04T02:11:05.825436",
     "exception": false,
     "start_time": "2021-04-04T02:11:05.802550",
     "status": "completed"
    },
    "tags": []
   },
   "outputs": [
    {
     "data": {
      "text/markdown": [
       "- Why DOT, ADA, TRX, and UNI will lead this alt rally.  Following Ethereum&#8217;s rally above $2000, and nearly 25% gain in a week, now may be the ideal time to pick altcoins that offer double-digit returns this alt season. It is likely that either the altcoin supply moving out of exchanges would lead to a price rally or a local dip may be incoming. Top alts [&#8230;] ... [| Skaityti daugiau](https://ambcrypto.com/why-dot-ada-trx-and-uni-will-lead-this-alt-rally/) "
      ],
      "text/plain": [
       "<IPython.core.display.Markdown object>"
      ]
     },
     "execution_count": 8,
     "metadata": {},
     "output_type": "execute_result"
    }
   ],
   "source": [
    "#hide_input\n",
    "#md('##### {}'.format(titleBTC)) \n",
    "md(\"- {}{} {}{} [| Skaityti daugiau]({}) \".format(ada['title'],'. ', ada['body'], ' ...', ada['url']))"
   ]
  },
  {
   "cell_type": "code",
   "execution_count": 9,
   "id": "specified-ordering",
   "metadata": {
    "execution": {
     "iopub.execute_input": "2021-04-04T02:11:05.848135Z",
     "iopub.status.busy": "2021-04-04T02:11:05.847564Z",
     "iopub.status.idle": "2021-04-04T02:11:05.851461Z",
     "shell.execute_reply": "2021-04-04T02:11:05.850945Z"
    },
    "papermill": {
     "duration": 0.016652,
     "end_time": "2021-04-04T02:11:05.851569",
     "exception": false,
     "start_time": "2021-04-04T02:11:05.834917",
     "status": "completed"
    },
    "tags": []
   },
   "outputs": [
    {
     "data": {
      "text/markdown": [
       "- Coinbase to Direct List on the Nasdaq on April 14th.  After months of wait and uncertainty, cryptocurrency exchange Coinbase finally received the greenlight from the U.S. Securities and Exchange Commission (SEC) to list its shares on the Nasdaq Composite. Since filing for an IPO last December, the crypto giant has decided to make its trading debut on the stock exchange through a direct listing on April 14th. Regulatory Scrutiny? Just days ago, Coinbase announced that it hired Brett Redfearn, an ex-SEC director, to run its [&#8230;] ... [| Skaityti daugiau](https://bitcoinist.com/coinbase-to-direct-list-on-the-nasdaq-on-april-14th/?utm_source=rss&utm_medium=rss&utm_campaign=coinbase-to-direct-list-on-the-nasdaq-on-april-14th) "
      ],
      "text/plain": [
       "<IPython.core.display.Markdown object>"
      ]
     },
     "execution_count": 9,
     "metadata": {},
     "output_type": "execute_result"
    }
   ],
   "source": [
    "#hide_input\n",
    "#md('##### {}'.format(titleBTC)) \n",
    "md(\"- {}{} {}{} [| Skaityti daugiau]({}) \".format(exchange['title'],'. ', exchange['body'], ' ...', exchange['url']))"
   ]
  },
  {
   "cell_type": "code",
   "execution_count": null,
   "id": "tender-livestock",
   "metadata": {
    "papermill": {
     "duration": 0.01193,
     "end_time": "2021-04-04T02:11:05.876023",
     "exception": false,
     "start_time": "2021-04-04T02:11:05.864093",
     "status": "completed"
    },
    "tags": []
   },
   "outputs": [],
   "source": []
  },
  {
   "cell_type": "code",
   "execution_count": null,
   "id": "appreciated-diamond",
   "metadata": {
    "papermill": {
     "duration": 0.012232,
     "end_time": "2021-04-04T02:11:05.901242",
     "exception": false,
     "start_time": "2021-04-04T02:11:05.889010",
     "status": "completed"
    },
    "tags": []
   },
   "outputs": [],
   "source": []
  },
  {
   "cell_type": "code",
   "execution_count": null,
   "id": "romance-sweden",
   "metadata": {
    "papermill": {
     "duration": 0.010966,
     "end_time": "2021-04-04T02:11:05.924901",
     "exception": false,
     "start_time": "2021-04-04T02:11:05.913935",
     "status": "completed"
    },
    "tags": []
   },
   "outputs": [],
   "source": []
  },
  {
   "cell_type": "code",
   "execution_count": null,
   "id": "dietary-statistics",
   "metadata": {
    "papermill": {
     "duration": 0.010405,
     "end_time": "2021-04-04T02:11:05.946976",
     "exception": false,
     "start_time": "2021-04-04T02:11:05.936571",
     "status": "completed"
    },
    "tags": []
   },
   "outputs": [],
   "source": []
  }
 ],
 "metadata": {
  "kernelspec": {
   "display_name": "Python 3",
   "language": "python",
   "name": "python3"
  },
  "language_info": {
   "codemirror_mode": {
    "name": "ipython",
    "version": 3
   },
   "file_extension": ".py",
   "mimetype": "text/x-python",
   "name": "python",
   "nbconvert_exporter": "python",
   "pygments_lexer": "ipython3",
   "version": "3.6.13"
  },
  "papermill": {
   "default_parameters": {},
   "duration": 11.261239,
   "end_time": "2021-04-04T02:11:06.367299",
   "environment_variables": {},
   "exception": null,
   "input_path": "Market-News.ipynb",
   "output_path": "Market-News.ipynb",
   "parameters": {},
   "start_time": "2021-04-04T02:10:55.106060",
   "version": "2.2.2"
  }
 },
 "nbformat": 4,
 "nbformat_minor": 5
}