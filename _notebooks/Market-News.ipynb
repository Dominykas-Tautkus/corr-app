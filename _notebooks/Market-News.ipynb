{
 "cells": [
  {
   "cell_type": "markdown",
   "id": "short-greensboro",
   "metadata": {
    "papermill": {
     "duration": 0.013132,
     "end_time": "2021-06-29T01:57:33.955585",
     "exception": false,
     "start_time": "2021-06-29T01:57:33.942453",
     "status": "completed"
    },
    "tags": []
   },
   "source": [
    "# Kriptovaliutų naujienos"
   ]
  },
  {
   "cell_type": "code",
   "execution_count": 1,
   "id": "functioning-knowing",
   "metadata": {
    "execution": {
     "iopub.execute_input": "2021-06-29T01:57:33.985764Z",
     "iopub.status.busy": "2021-06-29T01:57:33.985126Z",
     "iopub.status.idle": "2021-06-29T01:57:35.168044Z",
     "shell.execute_reply": "2021-06-29T01:57:35.167153Z"
    },
    "papermill": {
     "duration": 1.202763,
     "end_time": "2021-06-29T01:57:35.168188",
     "exception": false,
     "start_time": "2021-06-29T01:57:33.965425",
     "status": "completed"
    },
    "tags": []
   },
   "outputs": [],
   "source": [
    "#hide_input\n",
    "import warnings\n",
    "warnings.filterwarnings('ignore')\n",
    "from scripts.read_data import read_api\n",
    "from scripts.read_data import read_news\n",
    "from scripts.read_data import read_covid\n",
    "import matplotlib.pyplot as plt \n",
    "from IPython.display import Markdown as md"
   ]
  },
  {
   "cell_type": "code",
   "execution_count": 2,
   "id": "shared-acceptance",
   "metadata": {
    "execution": {
     "iopub.execute_input": "2021-06-29T01:57:35.192996Z",
     "iopub.status.busy": "2021-06-29T01:57:35.192479Z",
     "iopub.status.idle": "2021-06-29T01:57:44.947122Z",
     "shell.execute_reply": "2021-06-29T01:57:44.946662Z"
    },
    "papermill": {
     "duration": 9.769657,
     "end_time": "2021-06-29T01:57:44.947247",
     "exception": false,
     "start_time": "2021-06-29T01:57:35.177590",
     "status": "completed"
    },
    "tags": []
   },
   "outputs": [],
   "source": [
    "#hide_input\n",
    "blockchain = read_news('blockchain') \n",
    "btc = read_news('btc') \n",
    "xrp = read_news('xrp') \n",
    "trx = read_news('trx') \n",
    "eth = read_news('eth')  \n",
    "ada = read_news('ada')\n",
    "exchange = read_news('exchange') "
   ]
  },
  {
   "cell_type": "code",
   "execution_count": 3,
   "id": "synthetic-notion",
   "metadata": {
    "execution": {
     "iopub.execute_input": "2021-06-29T01:57:44.972145Z",
     "iopub.status.busy": "2021-06-29T01:57:44.971624Z",
     "iopub.status.idle": "2021-06-29T01:57:44.973965Z",
     "shell.execute_reply": "2021-06-29T01:57:44.974339Z"
    },
    "papermill": {
     "duration": 0.017629,
     "end_time": "2021-06-29T01:57:44.974468",
     "exception": false,
     "start_time": "2021-06-29T01:57:44.956839",
     "status": "completed"
    },
    "tags": []
   },
   "outputs": [
    {
     "data": {
      "text/markdown": [
       "- DeFi Yield Protocol (DYP) Continues to Expand Its Ecosystem.  DeFi Yield Protocol has emerged as one of the fastest-growing crypto projects with an expanding ecosystem. DYP allows DeFi users to leverage advanced trading tools to earn yield on their assets while taking advantage of the unique DYP Tools decentralized application. DYP has attracted the attention of many within the crypto space due to its [&#8230;] ... [| Skaityti daugiau](https://news.bitcoin.com/defi-yield-protocol-dyp-continues-to-expand-its-ecosystem/) "
      ],
      "text/plain": [
       "<IPython.core.display.Markdown object>"
      ]
     },
     "execution_count": 3,
     "metadata": {},
     "output_type": "execute_result"
    }
   ],
   "source": [
    "#hide_input\n",
    "#md('##### {}'.format(titleBTC)) \n",
    "md(\"- {}{} {}{} [| Skaityti daugiau]({}) \".format(blockchain['title'],'. ', blockchain['body'], ' ...', blockchain['url']))"
   ]
  },
  {
   "cell_type": "code",
   "execution_count": 4,
   "id": "aging-caution",
   "metadata": {
    "execution": {
     "iopub.execute_input": "2021-06-29T01:57:44.998151Z",
     "iopub.status.busy": "2021-06-29T01:57:44.997652Z",
     "iopub.status.idle": "2021-06-29T01:57:45.000504Z",
     "shell.execute_reply": "2021-06-29T01:57:45.000061Z"
    },
    "papermill": {
     "duration": 0.016731,
     "end_time": "2021-06-29T01:57:45.000610",
     "exception": false,
     "start_time": "2021-06-29T01:57:44.983879",
     "status": "completed"
    },
    "tags": []
   },
   "outputs": [
    {
     "data": {
      "text/markdown": [
       "- Cathie Wood's Ark Invest teams up with 21Shares to file for Bitcoin ETF.  Wood recently asserted the crypto downtrend has improved the chances of a Bitcoin ETF securing regulatory approval.  ... [| Skaityti daugiau](https://cointelegraph.com/news/cathie-wood-s-ark-invest-teams-up-with-21shares-to-file-for-bitcoin-etf) "
      ],
      "text/plain": [
       "<IPython.core.display.Markdown object>"
      ]
     },
     "execution_count": 4,
     "metadata": {},
     "output_type": "execute_result"
    }
   ],
   "source": [
    "#hide_input\n",
    "#md('##### {}'.format(titleBTC)) \n",
    "md(\"- {}{} {}{} [| Skaityti daugiau]({}) \".format(btc['title'],'. ', btc['body'], ' ...', btc['url']))"
   ]
  },
  {
   "cell_type": "code",
   "execution_count": 5,
   "id": "organic-actress",
   "metadata": {
    "execution": {
     "iopub.execute_input": "2021-06-29T01:57:45.026184Z",
     "iopub.status.busy": "2021-06-29T01:57:45.025689Z",
     "iopub.status.idle": "2021-06-29T01:57:45.028892Z",
     "shell.execute_reply": "2021-06-29T01:57:45.028492Z"
    },
    "papermill": {
     "duration": 0.018643,
     "end_time": "2021-06-29T01:57:45.028999",
     "exception": false,
     "start_time": "2021-06-29T01:57:45.010356",
     "status": "completed"
    },
    "tags": []
   },
   "outputs": [
    {
     "data": {
      "text/markdown": [
       "- XRP, Bitcoin Cash and Binance Coin Price Analysis: June 28.  Altcoins&#8217; recovery was noticeable over the last few days, however, despite registering recovery, most altcoins depicted range-bound movements with chances of price consolidation over the next trading sessions. XRP’s market capitalization increased by 5.96% over the last 24 hours, BCH moved sideways and was trading in green at press time, finally, BNB exhibited bullish sentiments [&#8230;] ... [| Skaityti daugiau](https://ambcrypto.com/xrp-bitcoin-cash-and-binance-coin-price-analysis-june-28/) "
      ],
      "text/plain": [
       "<IPython.core.display.Markdown object>"
      ]
     },
     "execution_count": 5,
     "metadata": {},
     "output_type": "execute_result"
    }
   ],
   "source": [
    "#hide_input\n",
    "#md('##### {}'.format(titleBTC)) \n",
    "md(\"- {}{} {}{} [| Skaityti daugiau]({}) \".format(xrp['title'],'. ', xrp['body'], ' ...', xrp['url']))"
   ]
  },
  {
   "cell_type": "code",
   "execution_count": 6,
   "id": "prompt-farmer",
   "metadata": {
    "execution": {
     "iopub.execute_input": "2021-06-29T01:57:45.053922Z",
     "iopub.status.busy": "2021-06-29T01:57:45.052790Z",
     "iopub.status.idle": "2021-06-29T01:57:45.056962Z",
     "shell.execute_reply": "2021-06-29T01:57:45.056564Z"
    },
    "papermill": {
     "duration": 0.017969,
     "end_time": "2021-06-29T01:57:45.057068",
     "exception": false,
     "start_time": "2021-06-29T01:57:45.039099",
     "status": "completed"
    },
    "tags": []
   },
   "outputs": [
    {
     "data": {
      "text/markdown": [
       "- Binance Coin, Tron, UNI Price Analysis: 25 June.  Major cryptos gained back some ground after facing some major losses on Tuesday. After dropping below $30,000 for the first time since January, Bitcoin was back to $34,213 at the time of writing, hiking by 3.1% over the past 24 hours. Major altcoins like Binance Coin, Tron, and UNI also profited off the back of [&#8230;] ... [| Skaityti daugiau](https://ambcrypto.com/binance-coin-tron-uni-price-analysis-25-june/) "
      ],
      "text/plain": [
       "<IPython.core.display.Markdown object>"
      ]
     },
     "execution_count": 6,
     "metadata": {},
     "output_type": "execute_result"
    }
   ],
   "source": [
    "#hide_input\n",
    "#md('##### {}'.format(titleBTC)) \n",
    "md(\"- {}{} {}{} [| Skaityti daugiau]({}) \".format(trx['title'],'. ', trx['body'], ' ...', trx['url']))"
   ]
  },
  {
   "cell_type": "code",
   "execution_count": 7,
   "id": "illegal-greece",
   "metadata": {
    "execution": {
     "iopub.execute_input": "2021-06-29T01:57:45.083414Z",
     "iopub.status.busy": "2021-06-29T01:57:45.082908Z",
     "iopub.status.idle": "2021-06-29T01:57:45.085783Z",
     "shell.execute_reply": "2021-06-29T01:57:45.085354Z"
    },
    "papermill": {
     "duration": 0.018229,
     "end_time": "2021-06-29T01:57:45.085892",
     "exception": false,
     "start_time": "2021-06-29T01:57:45.067663",
     "status": "completed"
    },
    "tags": []
   },
   "outputs": [
    {
     "data": {
      "text/markdown": [
       "- Mad Money’s Jim Cramer Moves From Bitcoin to Ethereum — Says ‘It’s More of a Currency’.  The host of the &#8220;Mad Money&#8221; show, Jim Cramer, has bought ether after dumping almost all of his bitcoin. &#8220;I like ethereum because people actually use it much more to be able to buy things,&#8221; he said, emphasizing that &#8220;It&#8217;s more of a currency.&#8221; Jim Cramer Prefers Ethereum to Bitcoin Jim Cramer was asked about [&#8230;] ... [| Skaityti daugiau](https://news.bitcoin.com/mad-moneys-jim-cramer-bitcoin-ethereum-says-more-of-a-currency/) "
      ],
      "text/plain": [
       "<IPython.core.display.Markdown object>"
      ]
     },
     "execution_count": 7,
     "metadata": {},
     "output_type": "execute_result"
    }
   ],
   "source": [
    "#hide_input\n",
    "#md('##### {}'.format(titleBTC)) \n",
    "md(\"- {}{} {}{} [| Skaityti daugiau]({}) \".format(eth['title'],'. ', eth['body'], ' ...', eth['url']))"
   ]
  },
  {
   "cell_type": "code",
   "execution_count": 8,
   "id": "sublime-lounge",
   "metadata": {
    "execution": {
     "iopub.execute_input": "2021-06-29T01:57:45.112834Z",
     "iopub.status.busy": "2021-06-29T01:57:45.112304Z",
     "iopub.status.idle": "2021-06-29T01:57:45.115560Z",
     "shell.execute_reply": "2021-06-29T01:57:45.115159Z"
    },
    "papermill": {
     "duration": 0.018901,
     "end_time": "2021-06-29T01:57:45.115672",
     "exception": false,
     "start_time": "2021-06-29T01:57:45.096771",
     "status": "completed"
    },
    "tags": []
   },
   "outputs": [
    {
     "data": {
      "text/markdown": [
       "- Crypto Newcomer Backed by Coinbase Soars 50% in One Week, Defying Bitcoin and Altcoin Markets.  One small-cap crypto newcomer is defying the widespread downturn that&#8217;s hammered Bitcoin and the altcoin markets at large. The global payments infrastructure platform Celo (CELO) has soared more than 50% in the past week, as larger assets like Bitcoin (BTC), Ethereum (ETH), Binance Coin (BNB) and Cardano (ADA) remain in the red on their weekly [&#8230;]The post Crypto Newcomer Backed by Coinbase Soars 50% in One Week, Defying Bitcoin and Altcoin Markets appeared first on The Daily Hodl. ... [| Skaityti daugiau](https://dailyhodl.com/2021/06/28/crypto-newcomer-backed-by-coinbase-soars-50-in-one-week-defying-bitcoin-and-altcoin-markets/) "
      ],
      "text/plain": [
       "<IPython.core.display.Markdown object>"
      ]
     },
     "execution_count": 8,
     "metadata": {},
     "output_type": "execute_result"
    }
   ],
   "source": [
    "#hide_input\n",
    "#md('##### {}'.format(titleBTC)) \n",
    "md(\"- {}{} {}{} [| Skaityti daugiau]({}) \".format(ada['title'],'. ', ada['body'], ' ...', ada['url']))"
   ]
  },
  {
   "cell_type": "code",
   "execution_count": 9,
   "id": "specified-ordering",
   "metadata": {
    "execution": {
     "iopub.execute_input": "2021-06-29T01:57:45.142133Z",
     "iopub.status.busy": "2021-06-29T01:57:45.141640Z",
     "iopub.status.idle": "2021-06-29T01:57:45.144712Z",
     "shell.execute_reply": "2021-06-29T01:57:45.144289Z"
    },
    "papermill": {
     "duration": 0.018043,
     "end_time": "2021-06-29T01:57:45.144819",
     "exception": false,
     "start_time": "2021-06-29T01:57:45.126776",
     "status": "completed"
    },
    "tags": []
   },
   "outputs": [
    {
     "data": {
      "text/markdown": [
       "- UK Regulators Prohibit Binance, What’s Ahead For The Crypto Exchange?.  Binance has been the largest crypto exchange in the whole world. However, although not minding its reputation, the UK Financial Conduct Authority (FCA) has banned it from operating in the country. According to the regulatory body, Binance is no longer permitted to carry out regulated activities in the country from June 30, 2021. &#8220;BINANCE MARKETS [&#8230;] ... [| Skaityti daugiau](https://www.newsbtc.com/crypto/binance-whats-ahead-for-the-crypto-exchange/) "
      ],
      "text/plain": [
       "<IPython.core.display.Markdown object>"
      ]
     },
     "execution_count": 9,
     "metadata": {},
     "output_type": "execute_result"
    }
   ],
   "source": [
    "#hide_input\n",
    "#md('##### {}'.format(titleBTC)) \n",
    "md(\"- {}{} {}{} [| Skaityti daugiau]({}) \".format(exchange['title'],'. ', exchange['body'], ' ...', exchange['url']))"
   ]
  },
  {
   "cell_type": "code",
   "execution_count": null,
   "id": "tender-livestock",
   "metadata": {
    "papermill": {
     "duration": 0.011299,
     "end_time": "2021-06-29T01:57:45.167465",
     "exception": false,
     "start_time": "2021-06-29T01:57:45.156166",
     "status": "completed"
    },
    "tags": []
   },
   "outputs": [],
   "source": []
  },
  {
   "cell_type": "code",
   "execution_count": null,
   "id": "appreciated-diamond",
   "metadata": {
    "papermill": {
     "duration": 0.011481,
     "end_time": "2021-06-29T01:57:45.190465",
     "exception": false,
     "start_time": "2021-06-29T01:57:45.178984",
     "status": "completed"
    },
    "tags": []
   },
   "outputs": [],
   "source": []
  },
  {
   "cell_type": "code",
   "execution_count": null,
   "id": "romance-sweden",
   "metadata": {
    "papermill": {
     "duration": 0.011254,
     "end_time": "2021-06-29T01:57:45.213245",
     "exception": false,
     "start_time": "2021-06-29T01:57:45.201991",
     "status": "completed"
    },
    "tags": []
   },
   "outputs": [],
   "source": []
  },
  {
   "cell_type": "code",
   "execution_count": null,
   "id": "dietary-statistics",
   "metadata": {
    "papermill": {
     "duration": 0.011292,
     "end_time": "2021-06-29T01:57:45.235906",
     "exception": false,
     "start_time": "2021-06-29T01:57:45.224614",
     "status": "completed"
    },
    "tags": []
   },
   "outputs": [],
   "source": []
  }
 ],
 "metadata": {
  "kernelspec": {
   "display_name": "Python 3",
   "language": "python",
   "name": "python3"
  },
  "language_info": {
   "codemirror_mode": {
    "name": "ipython",
    "version": 3
   },
   "file_extension": ".py",
   "mimetype": "text/x-python",
   "name": "python",
   "nbconvert_exporter": "python",
   "pygments_lexer": "ipython3",
   "version": "3.6.13"
  },
  "papermill": {
   "default_parameters": {},
   "duration": 12.74554,
   "end_time": "2021-06-29T01:57:45.654474",
   "environment_variables": {},
   "exception": null,
   "input_path": "Market-News.ipynb",
   "output_path": "Market-News.ipynb",
   "parameters": {},
   "start_time": "2021-06-29T01:57:32.908934",
   "version": "2.2.2"
  }
 },
 "nbformat": 4,
 "nbformat_minor": 5
}