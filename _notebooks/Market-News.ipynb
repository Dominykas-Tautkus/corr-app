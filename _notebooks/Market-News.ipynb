{
 "cells": [
  {
   "cell_type": "markdown",
   "id": "short-greensboro",
   "metadata": {
    "papermill": {
     "duration": 0.018328,
     "end_time": "2021-04-05T02:10:11.682005",
     "exception": false,
     "start_time": "2021-04-05T02:10:11.663677",
     "status": "completed"
    },
    "tags": []
   },
   "source": [
    "# Kriptovaliutų naujienos"
   ]
  },
  {
   "cell_type": "code",
   "execution_count": 1,
   "id": "functioning-knowing",
   "metadata": {
    "execution": {
     "iopub.execute_input": "2021-04-05T02:10:11.717933Z",
     "iopub.status.busy": "2021-04-05T02:10:11.717107Z",
     "iopub.status.idle": "2021-04-05T02:10:13.037739Z",
     "shell.execute_reply": "2021-04-05T02:10:13.038321Z"
    },
    "papermill": {
     "duration": 1.345218,
     "end_time": "2021-04-05T02:10:13.038526",
     "exception": false,
     "start_time": "2021-04-05T02:10:11.693308",
     "status": "completed"
    },
    "tags": []
   },
   "outputs": [],
   "source": [
    "#hide_input\n",
    "import warnings\n",
    "warnings.filterwarnings('ignore')\n",
    "from scripts.read_data import read_api\n",
    "from scripts.read_data import read_news\n",
    "from scripts.read_data import read_covid\n",
    "import matplotlib.pyplot as plt \n",
    "from IPython.display import Markdown as md"
   ]
  },
  {
   "cell_type": "code",
   "execution_count": 2,
   "id": "shared-acceptance",
   "metadata": {
    "execution": {
     "iopub.execute_input": "2021-04-05T02:10:13.068202Z",
     "iopub.status.busy": "2021-04-05T02:10:13.067178Z",
     "iopub.status.idle": "2021-04-05T02:10:23.711113Z",
     "shell.execute_reply": "2021-04-05T02:10:23.710548Z"
    },
    "papermill": {
     "duration": 10.66103,
     "end_time": "2021-04-05T02:10:23.711247",
     "exception": false,
     "start_time": "2021-04-05T02:10:13.050217",
     "status": "completed"
    },
    "tags": []
   },
   "outputs": [],
   "source": [
    "#hide_input\n",
    "blockchain = read_news('blockchain') \n",
    "btc = read_news('btc') \n",
    "xrp = read_news('xrp') \n",
    "trx = read_news('trx') \n",
    "eth = read_news('eth')  \n",
    "ada = read_news('ada')\n",
    "exchange = read_news('exchange') "
   ]
  },
  {
   "cell_type": "code",
   "execution_count": 3,
   "id": "synthetic-notion",
   "metadata": {
    "execution": {
     "iopub.execute_input": "2021-04-05T02:10:23.742044Z",
     "iopub.status.busy": "2021-04-05T02:10:23.741032Z",
     "iopub.status.idle": "2021-04-05T02:10:23.743940Z",
     "shell.execute_reply": "2021-04-05T02:10:23.744398Z"
    },
    "papermill": {
     "duration": 0.021742,
     "end_time": "2021-04-05T02:10:23.744541",
     "exception": false,
     "start_time": "2021-04-05T02:10:23.722799",
     "status": "completed"
    },
    "tags": []
   },
   "outputs": [
    {
     "data": {
      "text/markdown": [
       "- Torum: DeFi + NFT + Social Media – the Next Brilliant Utility Innovation in the Blockchain World?.  PRESS RELEASE. Launched on the 1st of July 2020, Torum is a social media platform specially designed for cryptocurrency users. Symbolizing the nature of the platform, the name Torum was born from the combination of &#8220;Tokenized&#8221; and &#8220;Forum&#8221;. The platform strives to connect worldwide cryptocurrency users to form a one-stop crypto ecosystem of the industry. [&#8230;] ... [| Skaityti daugiau](https://news.bitcoin.com/torum-defi-nft-social-media-the-next-brilliant-utility-innovation-in-the-blockchain-world/) "
      ],
      "text/plain": [
       "<IPython.core.display.Markdown object>"
      ]
     },
     "execution_count": 3,
     "metadata": {},
     "output_type": "execute_result"
    }
   ],
   "source": [
    "#hide_input\n",
    "#md('##### {}'.format(titleBTC)) \n",
    "md(\"- {}{} {}{} [| Skaityti daugiau]({}) \".format(blockchain['title'],'. ', blockchain['body'], ' ...', blockchain['url']))"
   ]
  },
  {
   "cell_type": "code",
   "execution_count": 4,
   "id": "aging-caution",
   "metadata": {
    "execution": {
     "iopub.execute_input": "2021-04-05T02:10:23.772129Z",
     "iopub.status.busy": "2021-04-05T02:10:23.771543Z",
     "iopub.status.idle": "2021-04-05T02:10:23.777432Z",
     "shell.execute_reply": "2021-04-05T02:10:23.776963Z"
    },
    "papermill": {
     "duration": 0.022047,
     "end_time": "2021-04-05T02:10:23.777559",
     "exception": false,
     "start_time": "2021-04-05T02:10:23.755512",
     "status": "completed"
    },
    "tags": []
   },
   "outputs": [
    {
     "data": {
      "text/markdown": [
       "- Ron Paul Warns of Government Crackdown on Bitcoin — ‘The Government Is the Threat’.  Former congressman Ron Paul has warned of a government crackdown on bitcoin and safe-haven assets may not be safe from government intervention. &#8220;The government is the threat,&#8221; he said, noting that &#8220;they will crack down because they have the ability to do it.&#8221; Ron Paul Warns of Government Threat to Bitcoin Former presidential candidate Ron [&#8230;] ... [| Skaityti daugiau](https://news.bitcoin.com/ron-paul-warns-government-crackdown-bitcoin/) "
      ],
      "text/plain": [
       "<IPython.core.display.Markdown object>"
      ]
     },
     "execution_count": 4,
     "metadata": {},
     "output_type": "execute_result"
    }
   ],
   "source": [
    "#hide_input\n",
    "#md('##### {}'.format(titleBTC)) \n",
    "md(\"- {}{} {}{} [| Skaityti daugiau]({}) \".format(btc['title'],'. ', btc['body'], ' ...', btc['url']))"
   ]
  },
  {
   "cell_type": "code",
   "execution_count": 5,
   "id": "organic-actress",
   "metadata": {
    "execution": {
     "iopub.execute_input": "2021-04-05T02:10:23.807058Z",
     "iopub.status.busy": "2021-04-05T02:10:23.806352Z",
     "iopub.status.idle": "2021-04-05T02:10:23.813119Z",
     "shell.execute_reply": "2021-04-05T02:10:23.812655Z"
    },
    "papermill": {
     "duration": 0.023988,
     "end_time": "2021-04-05T02:10:23.813243",
     "exception": false,
     "start_time": "2021-04-05T02:10:23.789255",
     "status": "completed"
    },
    "tags": []
   },
   "outputs": [
    {
     "data": {
      "text/markdown": [
       "- XRP, EOS, Synthetix Price Anaylsis: 04 April.  XRP cushioned losses at $0.57-support after getting rejected at the upper ceiling of $0.63. EOS attempted to reclaim the $6.08 resistance, while SNX was unlikely to sustain above $21.6 even if the price broke north over the coming sessions. XRP Having recovered from lows of $0.4, XRP saw a favorable month of March and posted [&#8230;] ... [| Skaityti daugiau](https://ambcrypto.com/xrp-eos-synthetix-price-anaylsis-04-april/) "
      ],
      "text/plain": [
       "<IPython.core.display.Markdown object>"
      ]
     },
     "execution_count": 5,
     "metadata": {},
     "output_type": "execute_result"
    }
   ],
   "source": [
    "#hide_input\n",
    "#md('##### {}'.format(titleBTC)) \n",
    "md(\"- {}{} {}{} [| Skaityti daugiau]({}) \".format(xrp['title'],'. ', xrp['body'], ' ...', xrp['url']))"
   ]
  },
  {
   "cell_type": "code",
   "execution_count": 6,
   "id": "prompt-farmer",
   "metadata": {
    "execution": {
     "iopub.execute_input": "2021-04-05T02:10:23.843168Z",
     "iopub.status.busy": "2021-04-05T02:10:23.842550Z",
     "iopub.status.idle": "2021-04-05T02:10:23.846735Z",
     "shell.execute_reply": "2021-04-05T02:10:23.846286Z"
    },
    "papermill": {
     "duration": 0.020248,
     "end_time": "2021-04-05T02:10:23.846851",
     "exception": false,
     "start_time": "2021-04-05T02:10:23.826603",
     "status": "completed"
    },
    "tags": []
   },
   "outputs": [
    {
     "data": {
      "text/markdown": [
       "- Tron Price Analysis: 04 April.  The cryptocurrency market has been seeing high volatility impact the price of the digital asset in the long term. This volatility was visible in the altcoin market of Tron [TRX] as its price has been witnessing a strong surge in value over the past few days. Data suggested the spike in value from $0.0629 to [&#8230;] ... [| Skaityti daugiau](https://ambcrypto.com/tron-price-analysis-04-april/) "
      ],
      "text/plain": [
       "<IPython.core.display.Markdown object>"
      ]
     },
     "execution_count": 6,
     "metadata": {},
     "output_type": "execute_result"
    }
   ],
   "source": [
    "#hide_input\n",
    "#md('##### {}'.format(titleBTC)) \n",
    "md(\"- {}{} {}{} [| Skaityti daugiau]({}) \".format(trx['title'],'. ', trx['body'], ' ...', trx['url']))"
   ]
  },
  {
   "cell_type": "code",
   "execution_count": 7,
   "id": "illegal-greece",
   "metadata": {
    "execution": {
     "iopub.execute_input": "2021-04-05T02:10:23.874290Z",
     "iopub.status.busy": "2021-04-05T02:10:23.873695Z",
     "iopub.status.idle": "2021-04-05T02:10:23.877668Z",
     "shell.execute_reply": "2021-04-05T02:10:23.878214Z"
    },
    "papermill": {
     "duration": 0.019926,
     "end_time": "2021-04-05T02:10:23.878378",
     "exception": false,
     "start_time": "2021-04-05T02:10:23.858452",
     "status": "completed"
    },
    "tags": []
   },
   "outputs": [
    {
     "data": {
      "text/markdown": [
       "- Popular meme “Overly attached girlfriend” resurfaces with $417,000 NFT auction.  Laina Morris, colloquially known as an “overly attached girlfriend” thanks to her viral YouTube videos, auctioned off her first non-fungible token (NFT) for 200 Ethereum (worth about $417,200 at press time). The post Popular meme &#8220;Overly attached girlfriend&#8221; resurfaces with $417,000 NFT auction appeared first on CryptoSlate. ... [| Skaityti daugiau](https://cryptoslate.com/popular-meme-overly-attached-girlfriend-resurfaces-with-417000-nft-auction/) "
      ],
      "text/plain": [
       "<IPython.core.display.Markdown object>"
      ]
     },
     "execution_count": 7,
     "metadata": {},
     "output_type": "execute_result"
    }
   ],
   "source": [
    "#hide_input\n",
    "#md('##### {}'.format(titleBTC)) \n",
    "md(\"- {}{} {}{} [| Skaityti daugiau]({}) \".format(eth['title'],'. ', eth['body'], ' ...', eth['url']))"
   ]
  },
  {
   "cell_type": "code",
   "execution_count": 8,
   "id": "sublime-lounge",
   "metadata": {
    "execution": {
     "iopub.execute_input": "2021-04-05T02:10:23.909645Z",
     "iopub.status.busy": "2021-04-05T02:10:23.909071Z",
     "iopub.status.idle": "2021-04-05T02:10:23.912724Z",
     "shell.execute_reply": "2021-04-05T02:10:23.912261Z"
    },
    "papermill": {
     "duration": 0.021794,
     "end_time": "2021-04-05T02:10:23.912847",
     "exception": false,
     "start_time": "2021-04-05T02:10:23.891053",
     "status": "completed"
    },
    "tags": []
   },
   "outputs": [
    {
     "data": {
      "text/markdown": [
       "- Cardano, BitTorrent Token, Chiliz Price Analysis: 04 April.  Cardano projected movement within a restricted channel, with a chance of a dip towards $1.109. BitTorrent could be up for additional gains but there were signs of weakness in the market. Lastly, Chiliz noted a fairly balanced market after a pullback from record levels. Cardano [ADA] On the 4-hour timeframe, Cardano resumed its rangebound movement [&#8230;] ... [| Skaityti daugiau](https://ambcrypto.com/cardano-bittorrent-token-chiliz-price-analysis-04-april/) "
      ],
      "text/plain": [
       "<IPython.core.display.Markdown object>"
      ]
     },
     "execution_count": 8,
     "metadata": {},
     "output_type": "execute_result"
    }
   ],
   "source": [
    "#hide_input\n",
    "#md('##### {}'.format(titleBTC)) \n",
    "md(\"- {}{} {}{} [| Skaityti daugiau]({}) \".format(ada['title'],'. ', ada['body'], ' ...', ada['url']))"
   ]
  },
  {
   "cell_type": "code",
   "execution_count": 9,
   "id": "specified-ordering",
   "metadata": {
    "execution": {
     "iopub.execute_input": "2021-04-05T02:10:23.945216Z",
     "iopub.status.busy": "2021-04-05T02:10:23.944639Z",
     "iopub.status.idle": "2021-04-05T02:10:23.947454Z",
     "shell.execute_reply": "2021-04-05T02:10:23.947928Z"
    },
    "papermill": {
     "duration": 0.022244,
     "end_time": "2021-04-05T02:10:23.948073",
     "exception": false,
     "start_time": "2021-04-05T02:10:23.925829",
     "status": "completed"
    },
    "tags": []
   },
   "outputs": [
    {
     "data": {
      "text/markdown": [
       "- Users of top Indian crypto exchange report seeing '0' funds during outage.  \"The load on our systems are way too much,\" said CEO Nischal Shetty. ... [| Skaityti daugiau](https://cointelegraph.com/news/users-of-top-indian-crypto-exchange-report-seeing-0-funds-during-outage) "
      ],
      "text/plain": [
       "<IPython.core.display.Markdown object>"
      ]
     },
     "execution_count": 9,
     "metadata": {},
     "output_type": "execute_result"
    }
   ],
   "source": [
    "#hide_input\n",
    "#md('##### {}'.format(titleBTC)) \n",
    "md(\"- {}{} {}{} [| Skaityti daugiau]({}) \".format(exchange['title'],'. ', exchange['body'], ' ...', exchange['url']))"
   ]
  },
  {
   "cell_type": "code",
   "execution_count": null,
   "id": "tender-livestock",
   "metadata": {
    "papermill": {
     "duration": 0.012917,
     "end_time": "2021-04-05T02:10:23.974828",
     "exception": false,
     "start_time": "2021-04-05T02:10:23.961911",
     "status": "completed"
    },
    "tags": []
   },
   "outputs": [],
   "source": []
  },
  {
   "cell_type": "code",
   "execution_count": null,
   "id": "appreciated-diamond",
   "metadata": {
    "papermill": {
     "duration": 0.012864,
     "end_time": "2021-04-05T02:10:24.000674",
     "exception": false,
     "start_time": "2021-04-05T02:10:23.987810",
     "status": "completed"
    },
    "tags": []
   },
   "outputs": [],
   "source": []
  },
  {
   "cell_type": "code",
   "execution_count": null,
   "id": "romance-sweden",
   "metadata": {
    "papermill": {
     "duration": 0.01221,
     "end_time": "2021-04-05T02:10:24.026457",
     "exception": false,
     "start_time": "2021-04-05T02:10:24.014247",
     "status": "completed"
    },
    "tags": []
   },
   "outputs": [],
   "source": []
  },
  {
   "cell_type": "code",
   "execution_count": null,
   "id": "dietary-statistics",
   "metadata": {
    "papermill": {
     "duration": 0.013179,
     "end_time": "2021-04-05T02:10:24.054629",
     "exception": false,
     "start_time": "2021-04-05T02:10:24.041450",
     "status": "completed"
    },
    "tags": []
   },
   "outputs": [],
   "source": []
  }
 ],
 "metadata": {
  "kernelspec": {
   "display_name": "Python 3",
   "language": "python",
   "name": "python3"
  },
  "language_info": {
   "codemirror_mode": {
    "name": "ipython",
    "version": 3
   },
   "file_extension": ".py",
   "mimetype": "text/x-python",
   "name": "python",
   "nbconvert_exporter": "python",
   "pygments_lexer": "ipython3",
   "version": "3.6.13"
  },
  "papermill": {
   "default_parameters": {},
   "duration": 14.180267,
   "end_time": "2021-04-05T02:10:24.576818",
   "environment_variables": {},
   "exception": null,
   "input_path": "Market-News.ipynb",
   "output_path": "Market-News.ipynb",
   "parameters": {},
   "start_time": "2021-04-05T02:10:10.396551",
   "version": "2.2.2"
  }
 },
 "nbformat": 4,
 "nbformat_minor": 5
}