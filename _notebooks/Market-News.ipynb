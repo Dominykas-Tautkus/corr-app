{
 "cells": [
  {
   "cell_type": "markdown",
   "id": "short-greensboro",
   "metadata": {
    "papermill": {
     "duration": 0.015608,
     "end_time": "2021-02-03T01:51:10.889773",
     "exception": false,
     "start_time": "2021-02-03T01:51:10.874165",
     "status": "completed"
    },
    "tags": []
   },
   "source": [
    "# Kriptovaliutų naujienos"
   ]
  },
  {
   "cell_type": "code",
   "execution_count": 1,
   "id": "functioning-knowing",
   "metadata": {
    "execution": {
     "iopub.execute_input": "2021-02-03T01:51:10.939036Z",
     "iopub.status.busy": "2021-02-03T01:51:10.938288Z",
     "iopub.status.idle": "2021-02-03T01:51:12.334096Z",
     "shell.execute_reply": "2021-02-03T01:51:12.333539Z"
    },
    "papermill": {
     "duration": 1.422981,
     "end_time": "2021-02-03T01:51:12.334258",
     "exception": false,
     "start_time": "2021-02-03T01:51:10.911277",
     "status": "completed"
    },
    "tags": []
   },
   "outputs": [],
   "source": [
    "#hide_input\n",
    "import warnings\n",
    "warnings.filterwarnings('ignore')\n",
    "from scripts.read_data import read_api\n",
    "from scripts.read_data import read_news\n",
    "from scripts.read_data import read_covid\n",
    "import matplotlib.pyplot as plt \n",
    "from IPython.display import Markdown as md"
   ]
  },
  {
   "cell_type": "code",
   "execution_count": 2,
   "id": "shared-acceptance",
   "metadata": {
    "execution": {
     "iopub.execute_input": "2021-02-03T01:51:12.364245Z",
     "iopub.status.busy": "2021-02-03T01:51:12.363374Z",
     "iopub.status.idle": "2021-02-03T01:51:24.085375Z",
     "shell.execute_reply": "2021-02-03T01:51:24.084756Z"
    },
    "papermill": {
     "duration": 11.739251,
     "end_time": "2021-02-03T01:51:24.085519",
     "exception": false,
     "start_time": "2021-02-03T01:51:12.346268",
     "status": "completed"
    },
    "tags": []
   },
   "outputs": [],
   "source": [
    "#hide_input\n",
    "blockchain = read_news('blockchain') \n",
    "btc = read_news('btc') \n",
    "xrp = read_news('xrp') \n",
    "trx = read_news('trx') \n",
    "eth = read_news('eth')  \n",
    "ada = read_news('ada')\n",
    "exchange = read_news('exchange') "
   ]
  },
  {
   "cell_type": "code",
   "execution_count": 3,
   "id": "synthetic-notion",
   "metadata": {
    "execution": {
     "iopub.execute_input": "2021-02-03T01:51:24.116487Z",
     "iopub.status.busy": "2021-02-03T01:51:24.115869Z",
     "iopub.status.idle": "2021-02-03T01:51:24.121599Z",
     "shell.execute_reply": "2021-02-03T01:51:24.122047Z"
    },
    "papermill": {
     "duration": 0.023174,
     "end_time": "2021-02-03T01:51:24.122214",
     "exception": false,
     "start_time": "2021-02-03T01:51:24.099040",
     "status": "completed"
    },
    "tags": []
   },
   "outputs": [
    {
     "data": {
      "text/markdown": [
       "- Will Amazon’s New CEO Embrace Crypto?.  Andy Jassy built a blockchain service on AWS, but was skeptical of the technology's ability to address the company’s biggest issues. ... [| Skaityti daugiau](https://decrypt.co/56396/will-amazons-new-ceo-embrace-crypto) "
      ],
      "text/plain": [
       "<IPython.core.display.Markdown object>"
      ]
     },
     "execution_count": 3,
     "metadata": {},
     "output_type": "execute_result"
    }
   ],
   "source": [
    "#hide_input\n",
    "#md('##### {}'.format(titleBTC)) \n",
    "md(\"- {}{} {}{} [| Skaityti daugiau]({}) \".format(blockchain['title'],'. ', blockchain['body'], ' ...', blockchain['url']))"
   ]
  },
  {
   "cell_type": "code",
   "execution_count": 4,
   "id": "aging-caution",
   "metadata": {
    "execution": {
     "iopub.execute_input": "2021-02-03T01:51:24.150584Z",
     "iopub.status.busy": "2021-02-03T01:51:24.149315Z",
     "iopub.status.idle": "2021-02-03T01:51:24.153225Z",
     "shell.execute_reply": "2021-02-03T01:51:24.153812Z"
    },
    "papermill": {
     "duration": 0.020223,
     "end_time": "2021-02-03T01:51:24.153971",
     "exception": false,
     "start_time": "2021-02-03T01:51:24.133748",
     "status": "completed"
    },
    "tags": []
   },
   "outputs": [
    {
     "data": {
      "text/markdown": [
       "- Crypto Asset Manager Bitwise Files to Publicly Trade Bitcoin Fund.  On February 2, the crypto asset manager, Bitwise Asset Management, announced it had filed a Form 211 with the U.S. Financial Industry Regulatory Authority (FINRA). If the proposal is approved Bitwise will be able to deploy its shares publicly via over-the-counter (OTC) desks and secondary markets. Bitwise Plans to Compete With Grayscale&#8217;s Bitcoin Trust The [&#8230;] ... [| Skaityti daugiau](https://news.bitcoin.com/crypto-asset-manager-bitwise-files-to-publicly-trade-bitcoin-fund/) "
      ],
      "text/plain": [
       "<IPython.core.display.Markdown object>"
      ]
     },
     "execution_count": 4,
     "metadata": {},
     "output_type": "execute_result"
    }
   ],
   "source": [
    "#hide_input\n",
    "#md('##### {}'.format(titleBTC)) \n",
    "md(\"- {}{} {}{} [| Skaityti daugiau]({}) \".format(btc['title'],'. ', btc['body'], ' ...', btc['url']))"
   ]
  },
  {
   "cell_type": "code",
   "execution_count": 5,
   "id": "organic-actress",
   "metadata": {
    "execution": {
     "iopub.execute_input": "2021-02-03T01:51:24.186654Z",
     "iopub.status.busy": "2021-02-03T01:51:24.181226Z",
     "iopub.status.idle": "2021-02-03T01:51:24.190865Z",
     "shell.execute_reply": "2021-02-03T01:51:24.190279Z"
    },
    "papermill": {
     "duration": 0.025858,
     "end_time": "2021-02-03T01:51:24.190995",
     "exception": false,
     "start_time": "2021-02-03T01:51:24.165137",
     "status": "completed"
    },
    "tags": []
   },
   "outputs": [
    {
     "data": {
      "text/markdown": [
       "- Market Wrap: Bitcoin Rises to $35.8K, Ether Hits New High and DeFi Crosses $28B Locked.  The last time bitcoin’s closing price was under $30,000 was Jan. 1, according to CoinDesk 20 data. ... [| Skaityti daugiau](https://www.coindesk.com/market-wrap-bitcoin-up-ether-new-high-defi) "
      ],
      "text/plain": [
       "<IPython.core.display.Markdown object>"
      ]
     },
     "execution_count": 5,
     "metadata": {},
     "output_type": "execute_result"
    }
   ],
   "source": [
    "#hide_input\n",
    "#md('##### {}'.format(titleBTC)) \n",
    "md(\"- {}{} {}{} [| Skaityti daugiau]({}) \".format(xrp['title'],'. ', xrp['body'], ' ...', xrp['url']))"
   ]
  },
  {
   "cell_type": "code",
   "execution_count": 6,
   "id": "prompt-farmer",
   "metadata": {
    "execution": {
     "iopub.execute_input": "2021-02-03T01:51:24.221787Z",
     "iopub.status.busy": "2021-02-03T01:51:24.220803Z",
     "iopub.status.idle": "2021-02-03T01:51:24.223778Z",
     "shell.execute_reply": "2021-02-03T01:51:24.224273Z"
    },
    "papermill": {
     "duration": 0.021015,
     "end_time": "2021-02-03T01:51:24.224401",
     "exception": false,
     "start_time": "2021-02-03T01:51:24.203386",
     "status": "completed"
    },
    "tags": []
   },
   "outputs": [
    {
     "data": {
      "text/markdown": [
       "- Tron price prediction: TRX to ascend towards $0.32, analyst.  TL;DR Breakdown Tron price prediction expects a rise to $0.32 in the longer run. Strong resistance currently lies at the $0.035 mark. Strong support currently lies at the $0.0.025 mark. The Tron price prediction by the Trading View analyst Tolberti shows that the TRX price is going to move into a long position towards the […] ... [| Skaityti daugiau](https://www.cryptopolitan.com/tron-price-prediction-trx-ascend-to-0-32/) "
      ],
      "text/plain": [
       "<IPython.core.display.Markdown object>"
      ]
     },
     "execution_count": 6,
     "metadata": {},
     "output_type": "execute_result"
    }
   ],
   "source": [
    "#hide_input\n",
    "#md('##### {}'.format(titleBTC)) \n",
    "md(\"- {}{} {}{} [| Skaityti daugiau]({}) \".format(trx['title'],'. ', trx['body'], ' ...', trx['url']))"
   ]
  },
  {
   "cell_type": "code",
   "execution_count": 7,
   "id": "illegal-greece",
   "metadata": {
    "execution": {
     "iopub.execute_input": "2021-02-03T01:51:24.253132Z",
     "iopub.status.busy": "2021-02-03T01:51:24.252335Z",
     "iopub.status.idle": "2021-02-03T01:51:24.258129Z",
     "shell.execute_reply": "2021-02-03T01:51:24.259122Z"
    },
    "papermill": {
     "duration": 0.02307,
     "end_time": "2021-02-03T01:51:24.259252",
     "exception": false,
     "start_time": "2021-02-03T01:51:24.236182",
     "status": "completed"
    },
    "tags": []
   },
   "outputs": [
    {
     "data": {
      "text/markdown": [
       "- Popular Ethereum Whale Claims Little-Known DeFi Altcoin Could Soon Surge.  A popular Ethereum whale who decided to join social media seemingly as an experiment has recently named a little-known cryptocurrency in the decentralized finance (DeFi) space they believe could soon surge. The ether whale, gong by 0x_b1 on the microblogging platform Twitter, said in response to other users that yAxis (YAX) could see its value […] ... [| Skaityti daugiau](https://www.cryptoglobe.com/latest/2021/02/popular-ethereum-whale-claims-little-known-defi-altcoin-could-soon-surge/) "
      ],
      "text/plain": [
       "<IPython.core.display.Markdown object>"
      ]
     },
     "execution_count": 7,
     "metadata": {},
     "output_type": "execute_result"
    }
   ],
   "source": [
    "#hide_input\n",
    "#md('##### {}'.format(titleBTC)) \n",
    "md(\"- {}{} {}{} [| Skaityti daugiau]({}) \".format(eth['title'],'. ', eth['body'], ' ...', eth['url']))"
   ]
  },
  {
   "cell_type": "code",
   "execution_count": 8,
   "id": "sublime-lounge",
   "metadata": {
    "execution": {
     "iopub.execute_input": "2021-02-03T01:51:24.290333Z",
     "iopub.status.busy": "2021-02-03T01:51:24.289657Z",
     "iopub.status.idle": "2021-02-03T01:51:24.292275Z",
     "shell.execute_reply": "2021-02-03T01:51:24.292808Z"
    },
    "papermill": {
     "duration": 0.021193,
     "end_time": "2021-02-03T01:51:24.292942",
     "exception": false,
     "start_time": "2021-02-03T01:51:24.271749",
     "status": "completed"
    },
    "tags": []
   },
   "outputs": [
    {
     "data": {
      "text/markdown": [
       "- Market Wrap: Bitcoin Rises to $35.8K, Ether Hits New High and DeFi Crosses $28B Locked.  The last time bitcoin’s closing price was under $30,000 was Jan. 1, according to CoinDesk 20 data. ... [| Skaityti daugiau](https://www.coindesk.com/market-wrap-bitcoin-up-ether-new-high-defi) "
      ],
      "text/plain": [
       "<IPython.core.display.Markdown object>"
      ]
     },
     "execution_count": 8,
     "metadata": {},
     "output_type": "execute_result"
    }
   ],
   "source": [
    "#hide_input\n",
    "#md('##### {}'.format(titleBTC)) \n",
    "md(\"- {}{} {}{} [| Skaityti daugiau]({}) \".format(ada['title'],'. ', ada['body'], ' ...', ada['url']))"
   ]
  },
  {
   "cell_type": "code",
   "execution_count": 9,
   "id": "specified-ordering",
   "metadata": {
    "execution": {
     "iopub.execute_input": "2021-02-03T01:51:24.336321Z",
     "iopub.status.busy": "2021-02-03T01:51:24.335576Z",
     "iopub.status.idle": "2021-02-03T01:51:24.342110Z",
     "shell.execute_reply": "2021-02-03T01:51:24.341388Z"
    },
    "papermill": {
     "duration": 0.024442,
     "end_time": "2021-02-03T01:51:24.342250",
     "exception": false,
     "start_time": "2021-02-03T01:51:24.317808",
     "status": "completed"
    },
    "tags": []
   },
   "outputs": [
    {
     "data": {
      "text/markdown": [
       "- Coinbase Temporarily Halts Its Services Following BTC Rally.  Coinbase – one of the largest cryptocurrency exchanges in the United States – can’t seem to handle it whenever there’s a major crypto rally. The exchange always seems to undergo technical problems and sometimes even experiences temporary shutdowns. As traders witnessed late last week, the recent bitcoin surge was no exception. Coinbase Loses Power&#8230; Again...The post Coinbase Temporarily Halts Its Services Following BTC Rally appeared first on Live Bitcoin News. ... [| Skaityti daugiau](https://www.livebitcoinnews.com/coinbase-temporarily-halts-trading-following-btc-rally/) "
      ],
      "text/plain": [
       "<IPython.core.display.Markdown object>"
      ]
     },
     "execution_count": 9,
     "metadata": {},
     "output_type": "execute_result"
    }
   ],
   "source": [
    "#hide_input\n",
    "#md('##### {}'.format(titleBTC)) \n",
    "md(\"- {}{} {}{} [| Skaityti daugiau]({}) \".format(exchange['title'],'. ', exchange['body'], ' ...', exchange['url']))"
   ]
  },
  {
   "cell_type": "code",
   "execution_count": null,
   "id": "tender-livestock",
   "metadata": {
    "papermill": {
     "duration": 0.013399,
     "end_time": "2021-02-03T01:51:24.369929",
     "exception": false,
     "start_time": "2021-02-03T01:51:24.356530",
     "status": "completed"
    },
    "tags": []
   },
   "outputs": [],
   "source": []
  },
  {
   "cell_type": "code",
   "execution_count": null,
   "id": "appreciated-diamond",
   "metadata": {
    "papermill": {
     "duration": 0.013834,
     "end_time": "2021-02-03T01:51:24.398930",
     "exception": false,
     "start_time": "2021-02-03T01:51:24.385096",
     "status": "completed"
    },
    "tags": []
   },
   "outputs": [],
   "source": []
  },
  {
   "cell_type": "code",
   "execution_count": null,
   "id": "romance-sweden",
   "metadata": {
    "papermill": {
     "duration": 0.013515,
     "end_time": "2021-02-03T01:51:24.426598",
     "exception": false,
     "start_time": "2021-02-03T01:51:24.413083",
     "status": "completed"
    },
    "tags": []
   },
   "outputs": [],
   "source": []
  },
  {
   "cell_type": "code",
   "execution_count": null,
   "id": "dietary-statistics",
   "metadata": {
    "papermill": {
     "duration": 0.013334,
     "end_time": "2021-02-03T01:51:24.454203",
     "exception": false,
     "start_time": "2021-02-03T01:51:24.440869",
     "status": "completed"
    },
    "tags": []
   },
   "outputs": [],
   "source": []
  }
 ],
 "metadata": {
  "kernelspec": {
   "display_name": "Python 3",
   "language": "python",
   "name": "python3"
  },
  "language_info": {
   "codemirror_mode": {
    "name": "ipython",
    "version": 3
   },
   "file_extension": ".py",
   "mimetype": "text/x-python",
   "name": "python",
   "nbconvert_exporter": "python",
   "pygments_lexer": "ipython3",
   "version": "3.6.12"
  },
  "papermill": {
   "default_parameters": {},
   "duration": 15.143758,
   "end_time": "2021-02-03T01:51:24.874705",
   "environment_variables": {},
   "exception": null,
   "input_path": "Market-News.ipynb",
   "output_path": "Market-News.ipynb",
   "parameters": {},
   "start_time": "2021-02-03T01:51:09.730947",
   "version": "2.2.2"
  }
 },
 "nbformat": 4,
 "nbformat_minor": 5
}