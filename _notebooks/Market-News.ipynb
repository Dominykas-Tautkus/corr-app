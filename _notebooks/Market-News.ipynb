{
 "cells": [
  {
   "cell_type": "markdown",
   "id": "short-greensboro",
   "metadata": {
    "papermill": {
     "duration": 0.017059,
     "end_time": "2021-07-01T02:01:44.445719",
     "exception": false,
     "start_time": "2021-07-01T02:01:44.428660",
     "status": "completed"
    },
    "tags": []
   },
   "source": [
    "# Kriptovaliutų naujienos"
   ]
  },
  {
   "cell_type": "code",
   "execution_count": 1,
   "id": "functioning-knowing",
   "metadata": {
    "execution": {
     "iopub.execute_input": "2021-07-01T02:01:44.481254Z",
     "iopub.status.busy": "2021-07-01T02:01:44.480480Z",
     "iopub.status.idle": "2021-07-01T02:01:45.902116Z",
     "shell.execute_reply": "2021-07-01T02:01:45.901123Z"
    },
    "papermill": {
     "duration": 1.445326,
     "end_time": "2021-07-01T02:01:45.902275",
     "exception": false,
     "start_time": "2021-07-01T02:01:44.456949",
     "status": "completed"
    },
    "tags": []
   },
   "outputs": [],
   "source": [
    "#hide_input\n",
    "import warnings\n",
    "warnings.filterwarnings('ignore')\n",
    "from scripts.read_data import read_api\n",
    "from scripts.read_data import read_news\n",
    "from scripts.read_data import read_covid\n",
    "import matplotlib.pyplot as plt \n",
    "from IPython.display import Markdown as md"
   ]
  },
  {
   "cell_type": "code",
   "execution_count": 2,
   "id": "shared-acceptance",
   "metadata": {
    "execution": {
     "iopub.execute_input": "2021-07-01T02:01:45.931348Z",
     "iopub.status.busy": "2021-07-01T02:01:45.930250Z",
     "iopub.status.idle": "2021-07-01T02:01:52.961782Z",
     "shell.execute_reply": "2021-07-01T02:01:52.961223Z"
    },
    "papermill": {
     "duration": 7.04891,
     "end_time": "2021-07-01T02:01:52.961913",
     "exception": false,
     "start_time": "2021-07-01T02:01:45.913003",
     "status": "completed"
    },
    "tags": []
   },
   "outputs": [],
   "source": [
    "#hide_input\n",
    "blockchain = read_news('blockchain') \n",
    "btc = read_news('btc') \n",
    "xrp = read_news('xrp') \n",
    "trx = read_news('trx') \n",
    "eth = read_news('eth')  \n",
    "ada = read_news('ada')\n",
    "exchange = read_news('exchange') "
   ]
  },
  {
   "cell_type": "code",
   "execution_count": 3,
   "id": "synthetic-notion",
   "metadata": {
    "execution": {
     "iopub.execute_input": "2021-07-01T02:01:52.995427Z",
     "iopub.status.busy": "2021-07-01T02:01:52.994608Z",
     "iopub.status.idle": "2021-07-01T02:01:52.997353Z",
     "shell.execute_reply": "2021-07-01T02:01:52.997816Z"
    },
    "papermill": {
     "duration": 0.022924,
     "end_time": "2021-07-01T02:01:52.997950",
     "exception": false,
     "start_time": "2021-07-01T02:01:52.975026",
     "status": "completed"
    },
    "tags": []
   },
   "outputs": [
    {
     "data": {
      "text/markdown": [
       "- NFL Star Tom Brady Determined To Stake Big In The Crypto Field.  The crypto bug is seemingly proving to be having a big bite on the sports industry as Tom Brady joins other sports celebrities pursuing a dream in the blockchain sector. The quarterback of the Super Bowl champs &#8211; Tampa Bay &#8211; had for weeks indicated his enthusiasm, through several tweets about crypto before declaring his [&#8230;] ... [| Skaityti daugiau](https://www.newsbtc.com/crypto/tom-brady-on-crypto/) "
      ],
      "text/plain": [
       "<IPython.core.display.Markdown object>"
      ]
     },
     "execution_count": 3,
     "metadata": {},
     "output_type": "execute_result"
    }
   ],
   "source": [
    "#hide_input\n",
    "#md('##### {}'.format(titleBTC)) \n",
    "md(\"- {}{} {}{} [| Skaityti daugiau]({}) \".format(blockchain['title'],'. ', blockchain['body'], ' ...', blockchain['url']))"
   ]
  },
  {
   "cell_type": "code",
   "execution_count": 4,
   "id": "aging-caution",
   "metadata": {
    "execution": {
     "iopub.execute_input": "2021-07-01T02:01:53.025696Z",
     "iopub.status.busy": "2021-07-01T02:01:53.024836Z",
     "iopub.status.idle": "2021-07-01T02:01:53.029924Z",
     "shell.execute_reply": "2021-07-01T02:01:53.029447Z"
    },
    "papermill": {
     "duration": 0.021617,
     "end_time": "2021-07-01T02:01:53.030046",
     "exception": false,
     "start_time": "2021-07-01T02:01:53.008429",
     "status": "completed"
    },
    "tags": []
   },
   "outputs": [
    {
     "data": {
      "text/markdown": [
       "- Bitcoin’s Game Theory Is Not Cut And Dried.  The often-cited idea is misunderstood in the context of how the world interacts with Bitcoin as a whole. ... [| Skaityti daugiau](https://bitcoinmagazine.com/culture/bitcoin-game-theory-understand) "
      ],
      "text/plain": [
       "<IPython.core.display.Markdown object>"
      ]
     },
     "execution_count": 4,
     "metadata": {},
     "output_type": "execute_result"
    }
   ],
   "source": [
    "#hide_input\n",
    "#md('##### {}'.format(titleBTC)) \n",
    "md(\"- {}{} {}{} [| Skaityti daugiau]({}) \".format(btc['title'],'. ', btc['body'], ' ...', btc['url']))"
   ]
  },
  {
   "cell_type": "code",
   "execution_count": 5,
   "id": "organic-actress",
   "metadata": {
    "execution": {
     "iopub.execute_input": "2021-07-01T02:01:53.058737Z",
     "iopub.status.busy": "2021-07-01T02:01:53.058147Z",
     "iopub.status.idle": "2021-07-01T02:01:53.061538Z",
     "shell.execute_reply": "2021-07-01T02:01:53.062096Z"
    },
    "papermill": {
     "duration": 0.02047,
     "end_time": "2021-07-01T02:01:53.062231",
     "exception": false,
     "start_time": "2021-07-01T02:01:53.041761",
     "status": "completed"
    },
    "tags": []
   },
   "outputs": [
    {
     "data": {
      "text/markdown": [
       "- Ripple Hires Former Mastercard Exec to Expand Its XRP-Powered Solution RippleNet.  Fintech giant Ripple has hired former Mastercard executive Sendi Young as Managing Director of its European operations in a bid to expand Ripple’s global financial network technology RippleNet, which uses the XRP token for its On-Demand Liquidity (ODL) solution. In a blog post, Ripple detailed that Sendi has over fifteen years of experience in fintech, […] ... [| Skaityti daugiau](https://www.cryptoglobe.com/latest/2021/06/ripple-hires-former-mastercard-exec-to-expand-its-xrp-powered-solution-ripplenet/) "
      ],
      "text/plain": [
       "<IPython.core.display.Markdown object>"
      ]
     },
     "execution_count": 5,
     "metadata": {},
     "output_type": "execute_result"
    }
   ],
   "source": [
    "#hide_input\n",
    "#md('##### {}'.format(titleBTC)) \n",
    "md(\"- {}{} {}{} [| Skaityti daugiau]({}) \".format(xrp['title'],'. ', xrp['body'], ' ...', xrp['url']))"
   ]
  },
  {
   "cell_type": "code",
   "execution_count": 6,
   "id": "prompt-farmer",
   "metadata": {
    "execution": {
     "iopub.execute_input": "2021-07-01T02:01:53.090856Z",
     "iopub.status.busy": "2021-07-01T02:01:53.090274Z",
     "iopub.status.idle": "2021-07-01T02:01:53.093414Z",
     "shell.execute_reply": "2021-07-01T02:01:53.092877Z"
    },
    "papermill": {
     "duration": 0.020079,
     "end_time": "2021-07-01T02:01:53.093533",
     "exception": false,
     "start_time": "2021-07-01T02:01:53.073454",
     "status": "completed"
    },
    "tags": []
   },
   "outputs": [
    {
     "data": {
      "text/markdown": [
       "- Tron (TRX) Price Analysis: Bulls Back In Action Above $0.06.  Tron price formed a base above $0.0500 and started a fresh increase against the US Dollar. TRX price is now trading well above $0.0600 and the 55 simple moving average (4-hours). There was a break above a major bearish trend line with resistance near $0.0650 on the 4-hours chart (data feed via Bitfinex). The pair...The post Tron (TRX) Price Analysis: Bulls Back In Action Above $0.06 appeared first on Live Bitcoin News. ... [| Skaityti daugiau](https://www.livebitcoinnews.com/tron-trx-price-analysis-bulls-back-in-action-above-0-06/) "
      ],
      "text/plain": [
       "<IPython.core.display.Markdown object>"
      ]
     },
     "execution_count": 6,
     "metadata": {},
     "output_type": "execute_result"
    }
   ],
   "source": [
    "#hide_input\n",
    "#md('##### {}'.format(titleBTC)) \n",
    "md(\"- {}{} {}{} [| Skaityti daugiau]({}) \".format(trx['title'],'. ', trx['body'], ' ...', trx['url']))"
   ]
  },
  {
   "cell_type": "code",
   "execution_count": 7,
   "id": "illegal-greece",
   "metadata": {
    "execution": {
     "iopub.execute_input": "2021-07-01T02:01:53.122779Z",
     "iopub.status.busy": "2021-07-01T02:01:53.122207Z",
     "iopub.status.idle": "2021-07-01T02:01:53.125556Z",
     "shell.execute_reply": "2021-07-01T02:01:53.124963Z"
    },
    "papermill": {
     "duration": 0.020078,
     "end_time": "2021-07-01T02:01:53.125682",
     "exception": false,
     "start_time": "2021-07-01T02:01:53.105604",
     "status": "completed"
    },
    "tags": []
   },
   "outputs": [
    {
     "data": {
      "text/markdown": [
       "- How Ethereum Can Reach $2 Trillion In Market Cap, Matthew Sigel.  Ethereum has had a lot of growth in the past year. Growing more than bitcoin and producing more gains. But it is no secret that the market cap of Ethereum is still a long way away from $2 trillion. The market cap of the digital asset currently sits at $248 billion. A $2 trillion market [&#8230;] ... [| Skaityti daugiau](https://www.newsbtc.com/analysis/eth/ethereum-2-trillion-cap/) "
      ],
      "text/plain": [
       "<IPython.core.display.Markdown object>"
      ]
     },
     "execution_count": 7,
     "metadata": {},
     "output_type": "execute_result"
    }
   ],
   "source": [
    "#hide_input\n",
    "#md('##### {}'.format(titleBTC)) \n",
    "md(\"- {}{} {}{} [| Skaityti daugiau]({}) \".format(eth['title'],'. ', eth['body'], ' ...', eth['url']))"
   ]
  },
  {
   "cell_type": "code",
   "execution_count": 8,
   "id": "sublime-lounge",
   "metadata": {
    "execution": {
     "iopub.execute_input": "2021-07-01T02:01:53.156700Z",
     "iopub.status.busy": "2021-07-01T02:01:53.156111Z",
     "iopub.status.idle": "2021-07-01T02:01:53.160271Z",
     "shell.execute_reply": "2021-07-01T02:01:53.159806Z"
    },
    "papermill": {
     "duration": 0.021946,
     "end_time": "2021-07-01T02:01:53.160392",
     "exception": false,
     "start_time": "2021-07-01T02:01:53.138446",
     "status": "completed"
    },
    "tags": []
   },
   "outputs": [
    {
     "data": {
      "text/markdown": [
       "- Top Analyst Says He’s Bullish on Ethereum and Cardano – But Another Altcoin Is Looking Stronger.  Cryptocurrency analyst and YouTuber Jason Pizzino is considering several crypto assets as the market bounces off of its recent lows. Pizzino tells his 190,000 YouTube subscribers that he&#8217;s bullish on Ethereum in the long run, although he expects ETH to drop against Bitcoin in the near term. &#8220;ETH, it&#8217;s one of those ones I&#8217;m happy [&#8230;]The post Top Analyst Says He’s Bullish on Ethereum and Cardano – But Another Altcoin Is Looking Stronger appeared first on The Daily Hodl. ... [| Skaityti daugiau](https://dailyhodl.com/2021/06/30/top-analyst-says-hes-bullish-on-ethereum-and-cardano-but-another-altcoin-is-looking-stronger/) "
      ],
      "text/plain": [
       "<IPython.core.display.Markdown object>"
      ]
     },
     "execution_count": 8,
     "metadata": {},
     "output_type": "execute_result"
    }
   ],
   "source": [
    "#hide_input\n",
    "#md('##### {}'.format(titleBTC)) \n",
    "md(\"- {}{} {}{} [| Skaityti daugiau]({}) \".format(ada['title'],'. ', ada['body'], ' ...', ada['url']))"
   ]
  },
  {
   "cell_type": "code",
   "execution_count": 9,
   "id": "specified-ordering",
   "metadata": {
    "execution": {
     "iopub.execute_input": "2021-07-01T02:01:53.191744Z",
     "iopub.status.busy": "2021-07-01T02:01:53.191165Z",
     "iopub.status.idle": "2021-07-01T02:01:53.194197Z",
     "shell.execute_reply": "2021-07-01T02:01:53.193711Z"
    },
    "papermill": {
     "duration": 0.020764,
     "end_time": "2021-07-01T02:01:53.194312",
     "exception": false,
     "start_time": "2021-07-01T02:01:53.173548",
     "status": "completed"
    },
    "tags": []
   },
   "outputs": [
    {
     "data": {
      "text/markdown": [
       "- Coinbase to Launch Apple-Like Crypto App Store.  Cryptocurrency exchange Coinbase has unveiled its plan to build &#8220;the crypto app store,&#8221; inspired by how Apple Inc. built its app store. CEO Brian Armstrong said: &#8220;Apple didn&#8217;t attempt to build every app for the iPhone, it empowered developers and gave mobile users an easy way to access new innovative apps.&#8221; In a blog post [&#8230;] ... [| Skaityti daugiau](https://news.bitcoin.com/coinbase-launch-apple-like-crypto-app-store/) "
      ],
      "text/plain": [
       "<IPython.core.display.Markdown object>"
      ]
     },
     "execution_count": 9,
     "metadata": {},
     "output_type": "execute_result"
    }
   ],
   "source": [
    "#hide_input\n",
    "#md('##### {}'.format(titleBTC)) \n",
    "md(\"- {}{} {}{} [| Skaityti daugiau]({}) \".format(exchange['title'],'. ', exchange['body'], ' ...', exchange['url']))"
   ]
  },
  {
   "cell_type": "code",
   "execution_count": null,
   "id": "tender-livestock",
   "metadata": {
    "papermill": {
     "duration": 0.012957,
     "end_time": "2021-07-01T02:01:53.221337",
     "exception": false,
     "start_time": "2021-07-01T02:01:53.208380",
     "status": "completed"
    },
    "tags": []
   },
   "outputs": [],
   "source": []
  },
  {
   "cell_type": "code",
   "execution_count": null,
   "id": "appreciated-diamond",
   "metadata": {
    "papermill": {
     "duration": 0.013995,
     "end_time": "2021-07-01T02:01:53.248371",
     "exception": false,
     "start_time": "2021-07-01T02:01:53.234376",
     "status": "completed"
    },
    "tags": []
   },
   "outputs": [],
   "source": []
  },
  {
   "cell_type": "code",
   "execution_count": null,
   "id": "romance-sweden",
   "metadata": {
    "papermill": {
     "duration": 0.012592,
     "end_time": "2021-07-01T02:01:53.273512",
     "exception": false,
     "start_time": "2021-07-01T02:01:53.260920",
     "status": "completed"
    },
    "tags": []
   },
   "outputs": [],
   "source": []
  },
  {
   "cell_type": "code",
   "execution_count": null,
   "id": "dietary-statistics",
   "metadata": {
    "papermill": {
     "duration": 0.013817,
     "end_time": "2021-07-01T02:01:53.300010",
     "exception": false,
     "start_time": "2021-07-01T02:01:53.286193",
     "status": "completed"
    },
    "tags": []
   },
   "outputs": [],
   "source": []
  }
 ],
 "metadata": {
  "kernelspec": {
   "display_name": "Python 3",
   "language": "python",
   "name": "python3"
  },
  "language_info": {
   "codemirror_mode": {
    "name": "ipython",
    "version": 3
   },
   "file_extension": ".py",
   "mimetype": "text/x-python",
   "name": "python",
   "nbconvert_exporter": "python",
   "pygments_lexer": "ipython3",
   "version": "3.6.13"
  },
  "papermill": {
   "default_parameters": {},
   "duration": 11.31949,
   "end_time": "2021-07-01T02:01:54.619910",
   "environment_variables": {},
   "exception": null,
   "input_path": "Market-News.ipynb",
   "output_path": "Market-News.ipynb",
   "parameters": {},
   "start_time": "2021-07-01T02:01:43.300420",
   "version": "2.2.2"
  }
 },
 "nbformat": 4,
 "nbformat_minor": 5
}