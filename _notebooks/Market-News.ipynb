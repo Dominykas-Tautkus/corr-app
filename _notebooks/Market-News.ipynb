{
 "cells": [
  {
   "cell_type": "markdown",
   "id": "short-greensboro",
   "metadata": {
    "papermill": {
     "duration": 0.013625,
     "end_time": "2021-05-15T02:16:36.145119",
     "exception": false,
     "start_time": "2021-05-15T02:16:36.131494",
     "status": "completed"
    },
    "tags": []
   },
   "source": [
    "# Kriptovaliutų naujienos"
   ]
  },
  {
   "cell_type": "code",
   "execution_count": 1,
   "id": "functioning-knowing",
   "metadata": {
    "execution": {
     "iopub.execute_input": "2021-05-15T02:16:36.178330Z",
     "iopub.status.busy": "2021-05-15T02:16:36.177738Z",
     "iopub.status.idle": "2021-05-15T02:16:37.356095Z",
     "shell.execute_reply": "2021-05-15T02:16:37.355547Z"
    },
    "papermill": {
     "duration": 1.198983,
     "end_time": "2021-05-15T02:16:37.356278",
     "exception": false,
     "start_time": "2021-05-15T02:16:36.157295",
     "status": "completed"
    },
    "tags": []
   },
   "outputs": [],
   "source": [
    "#hide_input\n",
    "import warnings\n",
    "warnings.filterwarnings('ignore')\n",
    "from scripts.read_data import read_api\n",
    "from scripts.read_data import read_news\n",
    "from scripts.read_data import read_covid\n",
    "import matplotlib.pyplot as plt \n",
    "from IPython.display import Markdown as md"
   ]
  },
  {
   "cell_type": "code",
   "execution_count": 2,
   "id": "shared-acceptance",
   "metadata": {
    "execution": {
     "iopub.execute_input": "2021-05-15T02:16:37.384784Z",
     "iopub.status.busy": "2021-05-15T02:16:37.383700Z",
     "iopub.status.idle": "2021-05-15T02:16:45.626620Z",
     "shell.execute_reply": "2021-05-15T02:16:45.626140Z"
    },
    "papermill": {
     "duration": 8.26015,
     "end_time": "2021-05-15T02:16:45.626749",
     "exception": false,
     "start_time": "2021-05-15T02:16:37.366599",
     "status": "completed"
    },
    "tags": []
   },
   "outputs": [],
   "source": [
    "#hide_input\n",
    "blockchain = read_news('blockchain') \n",
    "btc = read_news('btc') \n",
    "xrp = read_news('xrp') \n",
    "trx = read_news('trx') \n",
    "eth = read_news('eth')  \n",
    "ada = read_news('ada')\n",
    "exchange = read_news('exchange') "
   ]
  },
  {
   "cell_type": "code",
   "execution_count": 3,
   "id": "synthetic-notion",
   "metadata": {
    "execution": {
     "iopub.execute_input": "2021-05-15T02:16:45.652745Z",
     "iopub.status.busy": "2021-05-15T02:16:45.652221Z",
     "iopub.status.idle": "2021-05-15T02:16:45.655035Z",
     "shell.execute_reply": "2021-05-15T02:16:45.654632Z"
    },
    "papermill": {
     "duration": 0.018728,
     "end_time": "2021-05-15T02:16:45.655171",
     "exception": false,
     "start_time": "2021-05-15T02:16:45.636443",
     "status": "completed"
    },
    "tags": []
   },
   "outputs": [
    {
     "data": {
      "text/markdown": [
       "- Bitfinex hacker will need 114 years to launder $7 billion worth of stolen Bitcoin.  Only 4% of nearly 120,000 Bitcoin (around $7 billion today) stolen by a hacker from crypto exchange Bitfinex in 2016 have been laundered so far—and it will take the thieves over a century to cash out their bounty in full, according to blockchain intelligence firm Elliptic. The post Bitfinex hacker will need 114 years to launder $7 billion worth of stolen Bitcoin appeared first on CryptoSlate. ... [| Skaityti daugiau](https://cryptoslate.com/bitfinex-hacker-will-need-114-years-to-launder-7-billion-worth-of-stolen-bitcoin/) "
      ],
      "text/plain": [
       "<IPython.core.display.Markdown object>"
      ]
     },
     "execution_count": 3,
     "metadata": {},
     "output_type": "execute_result"
    }
   ],
   "source": [
    "#hide_input\n",
    "#md('##### {}'.format(titleBTC)) \n",
    "md(\"- {}{} {}{} [| Skaityti daugiau]({}) \".format(blockchain['title'],'. ', blockchain['body'], ' ...', blockchain['url']))"
   ]
  },
  {
   "cell_type": "code",
   "execution_count": 4,
   "id": "aging-caution",
   "metadata": {
    "execution": {
     "iopub.execute_input": "2021-05-15T02:16:45.678786Z",
     "iopub.status.busy": "2021-05-15T02:16:45.678276Z",
     "iopub.status.idle": "2021-05-15T02:16:45.680926Z",
     "shell.execute_reply": "2021-05-15T02:16:45.681336Z"
    },
    "papermill": {
     "duration": 0.016912,
     "end_time": "2021-05-15T02:16:45.681470",
     "exception": false,
     "start_time": "2021-05-15T02:16:45.664558",
     "status": "completed"
    },
    "tags": []
   },
   "outputs": [
    {
     "data": {
      "text/markdown": [
       "- Bitfinex hacker will need 114 years to launder $7 billion worth of stolen Bitcoin.  Only 4% of nearly 120,000 Bitcoin (around $7 billion today) stolen by a hacker from crypto exchange Bitfinex in 2016 have been laundered so far—and it will take the thieves over a century to cash out their bounty in full, according to blockchain intelligence firm Elliptic. The post Bitfinex hacker will need 114 years to launder $7 billion worth of stolen Bitcoin appeared first on CryptoSlate. ... [| Skaityti daugiau](https://cryptoslate.com/bitfinex-hacker-will-need-114-years-to-launder-7-billion-worth-of-stolen-bitcoin/) "
      ],
      "text/plain": [
       "<IPython.core.display.Markdown object>"
      ]
     },
     "execution_count": 4,
     "metadata": {},
     "output_type": "execute_result"
    }
   ],
   "source": [
    "#hide_input\n",
    "#md('##### {}'.format(titleBTC)) \n",
    "md(\"- {}{} {}{} [| Skaityti daugiau]({}) \".format(btc['title'],'. ', btc['body'], ' ...', btc['url']))"
   ]
  },
  {
   "cell_type": "code",
   "execution_count": 5,
   "id": "organic-actress",
   "metadata": {
    "execution": {
     "iopub.execute_input": "2021-05-15T02:16:45.708062Z",
     "iopub.status.busy": "2021-05-15T02:16:45.707552Z",
     "iopub.status.idle": "2021-05-15T02:16:45.711985Z",
     "shell.execute_reply": "2021-05-15T02:16:45.711465Z"
    },
    "papermill": {
     "duration": 0.020718,
     "end_time": "2021-05-15T02:16:45.712096",
     "exception": false,
     "start_time": "2021-05-15T02:16:45.691378",
     "status": "completed"
    },
    "tags": []
   },
   "outputs": [
    {
     "data": {
      "text/markdown": [
       "- XRP Price Analysis: 14 May.  Disclaimer: The findings of the following analysis are the sole opinions of the writer and should not be taken as investment advice This year has seen the market&#8217;s top cryptocurrencies, not just Bitcoin, carve out for themselves new price trajectories. XRP, the seventh-largest cryptocurrency with a market capitalization of $47.26 billion, has been one of the [&#8230;] ... [| Skaityti daugiau](https://ambcrypto.com/xrp-price-analysis-14-may/) "
      ],
      "text/plain": [
       "<IPython.core.display.Markdown object>"
      ]
     },
     "execution_count": 5,
     "metadata": {},
     "output_type": "execute_result"
    }
   ],
   "source": [
    "#hide_input\n",
    "#md('##### {}'.format(titleBTC)) \n",
    "md(\"- {}{} {}{} [| Skaityti daugiau]({}) \".format(xrp['title'],'. ', xrp['body'], ' ...', xrp['url']))"
   ]
  },
  {
   "cell_type": "code",
   "execution_count": 6,
   "id": "prompt-farmer",
   "metadata": {
    "execution": {
     "iopub.execute_input": "2021-05-15T02:16:45.737622Z",
     "iopub.status.busy": "2021-05-15T02:16:45.737097Z",
     "iopub.status.idle": "2021-05-15T02:16:45.739080Z",
     "shell.execute_reply": "2021-05-15T02:16:45.739546Z"
    },
    "papermill": {
     "duration": 0.017514,
     "end_time": "2021-05-15T02:16:45.739672",
     "exception": false,
     "start_time": "2021-05-15T02:16:45.722158",
     "status": "completed"
    },
    "tags": []
   },
   "outputs": [
    {
     "data": {
      "text/markdown": [
       "- Tron (TRX) issues $30.9 billion in USDT as Tether reveals reserves.  Blockchain network Tron (TRX) now boasts the issuance of over $30.9 billion Tether (USDT), a tweet by founder Justin Sun said yesterday. The post Tron (TRX) issues $30.9 billion in USDT as Tether reveals reserves appeared first on CryptoSlate. ... [| Skaityti daugiau](https://cryptoslate.com/tron-trx-issues-30-9-billion-in-usdt-as-tether-reveals-reserves/) "
      ],
      "text/plain": [
       "<IPython.core.display.Markdown object>"
      ]
     },
     "execution_count": 6,
     "metadata": {},
     "output_type": "execute_result"
    }
   ],
   "source": [
    "#hide_input\n",
    "#md('##### {}'.format(titleBTC)) \n",
    "md(\"- {}{} {}{} [| Skaityti daugiau]({}) \".format(trx['title'],'. ', trx['body'], ' ...', trx['url']))"
   ]
  },
  {
   "cell_type": "code",
   "execution_count": 7,
   "id": "illegal-greece",
   "metadata": {
    "execution": {
     "iopub.execute_input": "2021-05-15T02:16:45.766442Z",
     "iopub.status.busy": "2021-05-15T02:16:45.765927Z",
     "iopub.status.idle": "2021-05-15T02:16:45.768463Z",
     "shell.execute_reply": "2021-05-15T02:16:45.768892Z"
    },
    "papermill": {
     "duration": 0.018577,
     "end_time": "2021-05-15T02:16:45.769021",
     "exception": false,
     "start_time": "2021-05-15T02:16:45.750444",
     "status": "completed"
    },
    "tags": []
   },
   "outputs": [
    {
     "data": {
      "text/markdown": [
       "- A 'War on Rugs' Has Been Declared Against Ethereum Creator Over SHIB Transfer.  To get back at Ethereum co-founder Vitalik Buterin, a crypto scam watchdog group has created a token that dumps ETH for rival BNB. ... [| Skaityti daugiau](https://decrypt.co/71008/war-rugs-declared-ethereum-shib-transfer) "
      ],
      "text/plain": [
       "<IPython.core.display.Markdown object>"
      ]
     },
     "execution_count": 7,
     "metadata": {},
     "output_type": "execute_result"
    }
   ],
   "source": [
    "#hide_input\n",
    "#md('##### {}'.format(titleBTC)) \n",
    "md(\"- {}{} {}{} [| Skaityti daugiau]({}) \".format(eth['title'],'. ', eth['body'], ' ...', eth['url']))"
   ]
  },
  {
   "cell_type": "code",
   "execution_count": 8,
   "id": "sublime-lounge",
   "metadata": {
    "execution": {
     "iopub.execute_input": "2021-05-15T02:16:45.795949Z",
     "iopub.status.busy": "2021-05-15T02:16:45.795351Z",
     "iopub.status.idle": "2021-05-15T02:16:45.797424Z",
     "shell.execute_reply": "2021-05-15T02:16:45.797954Z"
    },
    "papermill": {
     "duration": 0.018426,
     "end_time": "2021-05-15T02:16:45.798106",
     "exception": false,
     "start_time": "2021-05-15T02:16:45.779680",
     "status": "completed"
    },
    "tags": []
   },
   "outputs": [
    {
     "data": {
      "text/markdown": [
       "- Cardano, Filecoin, Dogecoin Price Analysis: 14 May.  Cardano could see a minor dip before climbing above the $2-mark. Filecoin broke south from a descending triangle and registered losses of 9% from the bottom trendline. Finally, Dogecoin would present a stronger buy signal above its $0.569-resistance. Cardano [ADA] While the broader market pullback did diminish weekly gains for most alts, Cardano was somewhat [&#8230;] ... [| Skaityti daugiau](https://ambcrypto.com/cardano-filecoin-dogecoin-price-analysis-14-may/) "
      ],
      "text/plain": [
       "<IPython.core.display.Markdown object>"
      ]
     },
     "execution_count": 8,
     "metadata": {},
     "output_type": "execute_result"
    }
   ],
   "source": [
    "#hide_input\n",
    "#md('##### {}'.format(titleBTC)) \n",
    "md(\"- {}{} {}{} [| Skaityti daugiau]({}) \".format(ada['title'],'. ', ada['body'], ' ...', ada['url']))"
   ]
  },
  {
   "cell_type": "code",
   "execution_count": 9,
   "id": "specified-ordering",
   "metadata": {
    "execution": {
     "iopub.execute_input": "2021-05-15T02:16:45.825463Z",
     "iopub.status.busy": "2021-05-15T02:16:45.824878Z",
     "iopub.status.idle": "2021-05-15T02:16:45.826958Z",
     "shell.execute_reply": "2021-05-15T02:16:45.827508Z"
    },
    "papermill": {
     "duration": 0.018549,
     "end_time": "2021-05-15T02:16:45.827653",
     "exception": false,
     "start_time": "2021-05-15T02:16:45.809104",
     "status": "completed"
    },
    "tags": []
   },
   "outputs": [
    {
     "data": {
      "text/markdown": [
       "- Bitfinex hacker will need 114 years to launder $7 billion worth of stolen Bitcoin.  Only 4% of nearly 120,000 Bitcoin (around $7 billion today) stolen by a hacker from crypto exchange Bitfinex in 2016 have been laundered so far—and it will take the thieves over a century to cash out their bounty in full, according to blockchain intelligence firm Elliptic. The post Bitfinex hacker will need 114 years to launder $7 billion worth of stolen Bitcoin appeared first on CryptoSlate. ... [| Skaityti daugiau](https://cryptoslate.com/bitfinex-hacker-will-need-114-years-to-launder-7-billion-worth-of-stolen-bitcoin/) "
      ],
      "text/plain": [
       "<IPython.core.display.Markdown object>"
      ]
     },
     "execution_count": 9,
     "metadata": {},
     "output_type": "execute_result"
    }
   ],
   "source": [
    "#hide_input\n",
    "#md('##### {}'.format(titleBTC)) \n",
    "md(\"- {}{} {}{} [| Skaityti daugiau]({}) \".format(exchange['title'],'. ', exchange['body'], ' ...', exchange['url']))"
   ]
  },
  {
   "cell_type": "code",
   "execution_count": null,
   "id": "tender-livestock",
   "metadata": {
    "papermill": {
     "duration": 0.011238,
     "end_time": "2021-05-15T02:16:45.850423",
     "exception": false,
     "start_time": "2021-05-15T02:16:45.839185",
     "status": "completed"
    },
    "tags": []
   },
   "outputs": [],
   "source": []
  },
  {
   "cell_type": "code",
   "execution_count": null,
   "id": "appreciated-diamond",
   "metadata": {
    "papermill": {
     "duration": 0.011241,
     "end_time": "2021-05-15T02:16:45.873076",
     "exception": false,
     "start_time": "2021-05-15T02:16:45.861835",
     "status": "completed"
    },
    "tags": []
   },
   "outputs": [],
   "source": []
  },
  {
   "cell_type": "code",
   "execution_count": null,
   "id": "romance-sweden",
   "metadata": {
    "papermill": {
     "duration": 0.011252,
     "end_time": "2021-05-15T02:16:45.895592",
     "exception": false,
     "start_time": "2021-05-15T02:16:45.884340",
     "status": "completed"
    },
    "tags": []
   },
   "outputs": [],
   "source": []
  },
  {
   "cell_type": "code",
   "execution_count": null,
   "id": "dietary-statistics",
   "metadata": {
    "papermill": {
     "duration": 0.011212,
     "end_time": "2021-05-15T02:16:45.918083",
     "exception": false,
     "start_time": "2021-05-15T02:16:45.906871",
     "status": "completed"
    },
    "tags": []
   },
   "outputs": [],
   "source": []
  }
 ],
 "metadata": {
  "kernelspec": {
   "display_name": "Python 3",
   "language": "python",
   "name": "python3"
  },
  "language_info": {
   "codemirror_mode": {
    "name": "ipython",
    "version": 3
   },
   "file_extension": ".py",
   "mimetype": "text/x-python",
   "name": "python",
   "nbconvert_exporter": "python",
   "pygments_lexer": "ipython3",
   "version": "3.6.13"
  },
  "papermill": {
   "default_parameters": {},
   "duration": 12.288944,
   "end_time": "2021-05-15T02:16:47.381733",
   "environment_variables": {},
   "exception": null,
   "input_path": "Market-News.ipynb",
   "output_path": "Market-News.ipynb",
   "parameters": {},
   "start_time": "2021-05-15T02:16:35.092789",
   "version": "2.2.2"
  }
 },
 "nbformat": 4,
 "nbformat_minor": 5
}