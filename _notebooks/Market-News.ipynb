{
 "cells": [
  {
   "cell_type": "markdown",
   "id": "short-greensboro",
   "metadata": {
    "papermill": {
     "duration": 0.015242,
     "end_time": "2021-02-08T01:39:31.157626",
     "exception": false,
     "start_time": "2021-02-08T01:39:31.142384",
     "status": "completed"
    },
    "tags": []
   },
   "source": [
    "# Kriptovaliutų naujienos"
   ]
  },
  {
   "cell_type": "code",
   "execution_count": 1,
   "id": "functioning-knowing",
   "metadata": {
    "execution": {
     "iopub.execute_input": "2021-02-08T01:39:31.190587Z",
     "iopub.status.busy": "2021-02-08T01:39:31.189903Z",
     "iopub.status.idle": "2021-02-08T01:39:32.508303Z",
     "shell.execute_reply": "2021-02-08T01:39:32.507257Z"
    },
    "papermill": {
     "duration": 1.340232,
     "end_time": "2021-02-08T01:39:32.508452",
     "exception": false,
     "start_time": "2021-02-08T01:39:31.168220",
     "status": "completed"
    },
    "tags": []
   },
   "outputs": [],
   "source": [
    "#hide_input\n",
    "import warnings\n",
    "warnings.filterwarnings('ignore')\n",
    "from scripts.read_data import read_api\n",
    "from scripts.read_data import read_news\n",
    "from scripts.read_data import read_covid\n",
    "import matplotlib.pyplot as plt \n",
    "from IPython.display import Markdown as md"
   ]
  },
  {
   "cell_type": "code",
   "execution_count": 2,
   "id": "shared-acceptance",
   "metadata": {
    "execution": {
     "iopub.execute_input": "2021-02-08T01:39:32.537168Z",
     "iopub.status.busy": "2021-02-08T01:39:32.536094Z",
     "iopub.status.idle": "2021-02-08T01:39:43.164118Z",
     "shell.execute_reply": "2021-02-08T01:39:43.164562Z"
    },
    "papermill": {
     "duration": 10.645301,
     "end_time": "2021-02-08T01:39:43.164724",
     "exception": false,
     "start_time": "2021-02-08T01:39:32.519423",
     "status": "completed"
    },
    "tags": []
   },
   "outputs": [],
   "source": [
    "#hide_input\n",
    "blockchain = read_news('blockchain') \n",
    "btc = read_news('btc') \n",
    "xrp = read_news('xrp') \n",
    "trx = read_news('trx') \n",
    "eth = read_news('eth')  \n",
    "ada = read_news('ada')\n",
    "exchange = read_news('exchange') "
   ]
  },
  {
   "cell_type": "code",
   "execution_count": 3,
   "id": "synthetic-notion",
   "metadata": {
    "execution": {
     "iopub.execute_input": "2021-02-08T01:39:43.190652Z",
     "iopub.status.busy": "2021-02-08T01:39:43.190125Z",
     "iopub.status.idle": "2021-02-08T01:39:43.196777Z",
     "shell.execute_reply": "2021-02-08T01:39:43.196295Z"
    },
    "papermill": {
     "duration": 0.020531,
     "end_time": "2021-02-08T01:39:43.196883",
     "exception": false,
     "start_time": "2021-02-08T01:39:43.176352",
     "status": "completed"
    },
    "tags": []
   },
   "outputs": [
    {
     "data": {
      "text/markdown": [
       "- BlockTower Capital Co-Founder Predicts Just How Long Bitcoin Bull Run Will Last, Says Top Crypto Could Hit $400,000.  BlockTower Capital CIO and co-founder Ari Paul says he believes Bitcoin could potentially print over 10x gains within the next two years. In a new tweet, blockchain investment firm executive tells his 149,000 followers that the bull market may last until the end of 2022 with Bitcoin poised to grow between 153% and 915% from [&#8230;]The post BlockTower Capital Co-Founder Predicts Just How Long Bitcoin Bull Run Will Last, Says Top Crypto Could Hit $400,000 appeared first on The Daily Hodl. ... [| Skaityti daugiau](https://dailyhodl.com/2021/02/07/blocktower-capital-co-founder-predicts-just-how-long-bitcoin-bull-run-will-last-says-top-crypto-could-hit-400000/) "
      ],
      "text/plain": [
       "<IPython.core.display.Markdown object>"
      ]
     },
     "execution_count": 3,
     "metadata": {},
     "output_type": "execute_result"
    }
   ],
   "source": [
    "#hide_input\n",
    "#md('##### {}'.format(titleBTC)) \n",
    "md(\"- {}{} {}{} [| Skaityti daugiau]({}) \".format(blockchain['title'],'. ', blockchain['body'], ' ...', blockchain['url']))"
   ]
  },
  {
   "cell_type": "code",
   "execution_count": 4,
   "id": "aging-caution",
   "metadata": {
    "execution": {
     "iopub.execute_input": "2021-02-08T01:39:43.223385Z",
     "iopub.status.busy": "2021-02-08T01:39:43.222675Z",
     "iopub.status.idle": "2021-02-08T01:39:43.226914Z",
     "shell.execute_reply": "2021-02-08T01:39:43.227725Z"
    },
    "papermill": {
     "duration": 0.018974,
     "end_time": "2021-02-08T01:39:43.227863",
     "exception": false,
     "start_time": "2021-02-08T01:39:43.208889",
     "status": "completed"
    },
    "tags": []
   },
   "outputs": [
    {
     "data": {
      "text/markdown": [
       "- Pro-Bitcoin US Lawmaker Cynthia Lummis Joins Senate Banking Committee, Plans to Convince Janet Yellen BTC Is Great Store of Value.  Pro-bitcoin U.S. Senator Cynthia Lummis has been appointed to the Senate banking committee. She has been talking to Janet Yellen and has outlined her plans to help the new Treasury Secretary and other U.S. lawmakers understand that bitcoin is a great store of value. Lummis says that Yellen has an open mind on this topic [&#8230;] ... [| Skaityti daugiau](https://news.bitcoin.com/pro-bitcoin-lawmaker-cynthia-lummis-senate-banking-committee-janet-yellen-btc-great-store-of-value/) "
      ],
      "text/plain": [
       "<IPython.core.display.Markdown object>"
      ]
     },
     "execution_count": 4,
     "metadata": {},
     "output_type": "execute_result"
    }
   ],
   "source": [
    "#hide_input\n",
    "#md('##### {}'.format(titleBTC)) \n",
    "md(\"- {}{} {}{} [| Skaityti daugiau]({}) \".format(btc['title'],'. ', btc['body'], ' ...', btc['url']))"
   ]
  },
  {
   "cell_type": "code",
   "execution_count": 5,
   "id": "organic-actress",
   "metadata": {
    "execution": {
     "iopub.execute_input": "2021-02-08T01:39:43.253478Z",
     "iopub.status.busy": "2021-02-08T01:39:43.252896Z",
     "iopub.status.idle": "2021-02-08T01:39:43.255716Z",
     "shell.execute_reply": "2021-02-08T01:39:43.255194Z"
    },
    "papermill": {
     "duration": 0.017782,
     "end_time": "2021-02-08T01:39:43.255822",
     "exception": false,
     "start_time": "2021-02-08T01:39:43.238040",
     "status": "completed"
    },
    "tags": []
   },
   "outputs": [
    {
     "data": {
      "text/markdown": [
       "- Ripple price prediction: XRP/USD bulls relentless to push Ripple past $0.50.  TL;DR Ripple price prediction suggests breakout above the wedge pattern Hourly charts display a renewed bullish wave sweeping the price action Bearish wedge pattern gives way to a fresh new buying spree Ripple price prediction of $0.755 seems a possibility on daily charts Ripple price prediction is touching $0.755 may soon turn real as the […] ... [| Skaityti daugiau](https://www.cryptopolitan.com/ripple-price-prediction-xrp-usd-push-50/) "
      ],
      "text/plain": [
       "<IPython.core.display.Markdown object>"
      ]
     },
     "execution_count": 5,
     "metadata": {},
     "output_type": "execute_result"
    }
   ],
   "source": [
    "#hide_input\n",
    "#md('##### {}'.format(titleBTC)) \n",
    "md(\"- {}{} {}{} [| Skaityti daugiau]({}) \".format(xrp['title'],'. ', xrp['body'], ' ...', xrp['url']))"
   ]
  },
  {
   "cell_type": "code",
   "execution_count": 6,
   "id": "prompt-farmer",
   "metadata": {
    "execution": {
     "iopub.execute_input": "2021-02-08T01:39:43.280403Z",
     "iopub.status.busy": "2021-02-08T01:39:43.279821Z",
     "iopub.status.idle": "2021-02-08T01:39:43.282822Z",
     "shell.execute_reply": "2021-02-08T01:39:43.282243Z"
    },
    "papermill": {
     "duration": 0.016764,
     "end_time": "2021-02-08T01:39:43.282930",
     "exception": false,
     "start_time": "2021-02-08T01:39:43.266166",
     "status": "completed"
    },
    "tags": []
   },
   "outputs": [
    {
     "data": {
      "text/markdown": [
       "- Cardano, Tron, FTX Token Price Analysis: 04 February.  Cardano broke out to the upside of $0.366 and was trading at $0.43 at the time of writing. Tron was consolidating underneath a level of resistance, and FTX Token had bullish momentum behind it that could propel the prices to $15.5. Cardano [ADA] Cardano was trading at $0.305 last week, a level of support that [&#8230;] ... [| Skaityti daugiau](https://ambcrypto.com/cardano-tron-ftx-token-price-analysis-04-february/) "
      ],
      "text/plain": [
       "<IPython.core.display.Markdown object>"
      ]
     },
     "execution_count": 6,
     "metadata": {},
     "output_type": "execute_result"
    }
   ],
   "source": [
    "#hide_input\n",
    "#md('##### {}'.format(titleBTC)) \n",
    "md(\"- {}{} {}{} [| Skaityti daugiau]({}) \".format(trx['title'],'. ', trx['body'], ' ...', trx['url']))"
   ]
  },
  {
   "cell_type": "code",
   "execution_count": 7,
   "id": "illegal-greece",
   "metadata": {
    "execution": {
     "iopub.execute_input": "2021-02-08T01:39:43.309371Z",
     "iopub.status.busy": "2021-02-08T01:39:43.308738Z",
     "iopub.status.idle": "2021-02-08T01:39:43.312449Z",
     "shell.execute_reply": "2021-02-08T01:39:43.311912Z"
    },
    "papermill": {
     "duration": 0.017816,
     "end_time": "2021-02-08T01:39:43.312556",
     "exception": false,
     "start_time": "2021-02-08T01:39:43.294740",
     "status": "completed"
    },
    "tags": []
   },
   "outputs": [
    {
     "data": {
      "text/markdown": [
       "- Crypto Analyst Looks at New ‘Gem’ Built on Polkadot He Is ‘Pretty Excited’ About.  Earlier this week, crypto analyst/influencer Elliot Wainman, the owner/host of YouTube channel “EllioTrades Crypto” told his over 233K subscribers about a relatively new project built on Polkadot that he is excited about. Wainman started by talking about Ether (ETH), which he believes is undervalued. He then re-iterated his strong belief in the huge growth potential […] ... [| Skaityti daugiau](https://www.cryptoglobe.com/latest/2021/02/crypto-analyst-looks-at-new-gem-built-on-polkadot-he-is-pretty-excited-about/) "
      ],
      "text/plain": [
       "<IPython.core.display.Markdown object>"
      ]
     },
     "execution_count": 7,
     "metadata": {},
     "output_type": "execute_result"
    }
   ],
   "source": [
    "#hide_input\n",
    "#md('##### {}'.format(titleBTC)) \n",
    "md(\"- {}{} {}{} [| Skaityti daugiau]({}) \".format(eth['title'],'. ', eth['body'], ' ...', eth['url']))"
   ]
  },
  {
   "cell_type": "code",
   "execution_count": 8,
   "id": "sublime-lounge",
   "metadata": {
    "execution": {
     "iopub.execute_input": "2021-02-08T01:39:43.339776Z",
     "iopub.status.busy": "2021-02-08T01:39:43.339151Z",
     "iopub.status.idle": "2021-02-08T01:39:43.342865Z",
     "shell.execute_reply": "2021-02-08T01:39:43.342130Z"
    },
    "papermill": {
     "duration": 0.019218,
     "end_time": "2021-02-08T01:39:43.343029",
     "exception": false,
     "start_time": "2021-02-08T01:39:43.323811",
     "status": "completed"
    },
    "tags": []
   },
   "outputs": [
    {
     "data": {
      "text/markdown": [
       "- Cardano, Tezos, Dogecoin Price Analysis: 07 February.  ADA countered bearish predictions over the past 24=hours and climbed to the fourth position in the crypto rankings on the back of buying pressure. Tezos might need an external boost to surpass its $3.5 local high while DOGE climbed to another record level. Cardano [ADA] Cardano invalidated any bearish indications to its price and positioned [&#8230;] ... [| Skaityti daugiau](https://ambcrypto.com/cardano-tezos-dogecoin-price-analysis-07-february/) "
      ],
      "text/plain": [
       "<IPython.core.display.Markdown object>"
      ]
     },
     "execution_count": 8,
     "metadata": {},
     "output_type": "execute_result"
    }
   ],
   "source": [
    "#hide_input\n",
    "#md('##### {}'.format(titleBTC)) \n",
    "md(\"- {}{} {}{} [| Skaityti daugiau]({}) \".format(ada['title'],'. ', ada['body'], ' ...', ada['url']))"
   ]
  },
  {
   "cell_type": "code",
   "execution_count": 9,
   "id": "specified-ordering",
   "metadata": {
    "execution": {
     "iopub.execute_input": "2021-02-08T01:39:43.371841Z",
     "iopub.status.busy": "2021-02-08T01:39:43.371243Z",
     "iopub.status.idle": "2021-02-08T01:39:43.374534Z",
     "shell.execute_reply": "2021-02-08T01:39:43.373953Z"
    },
    "papermill": {
     "duration": 0.019669,
     "end_time": "2021-02-08T01:39:43.374663",
     "exception": false,
     "start_time": "2021-02-08T01:39:43.354994",
     "status": "completed"
    },
    "tags": []
   },
   "outputs": [
    {
     "data": {
      "text/markdown": [
       "- Bill Miller’s Multibillion-Dollar Hedge Fund to Add Bitcoin Exposure via GBTC.  Billionaire hedge fund manager Bill Miller&#8217;s flagship fund will soon be able to add bitcoin exposure by investing in Grayscale&#8217;s bitcoin trust (GBTC), according to its filing with the U.S. Securities and Exchange Commission (SEC). The fund currently has about $2.25 billion in assets under management. Bill Miller&#8217;s $2.25M Hedge Fund to Invest in GBTC [&#8230;] ... [| Skaityti daugiau](https://news.bitcoin.com/bill-miller-multibillion-dollar-hedge-fund-bitcoin-exposure-gbtc/) "
      ],
      "text/plain": [
       "<IPython.core.display.Markdown object>"
      ]
     },
     "execution_count": 9,
     "metadata": {},
     "output_type": "execute_result"
    }
   ],
   "source": [
    "#hide_input\n",
    "#md('##### {}'.format(titleBTC)) \n",
    "md(\"- {}{} {}{} [| Skaityti daugiau]({}) \".format(exchange['title'],'. ', exchange['body'], ' ...', exchange['url']))"
   ]
  },
  {
   "cell_type": "code",
   "execution_count": null,
   "id": "tender-livestock",
   "metadata": {
    "papermill": {
     "duration": 0.012264,
     "end_time": "2021-02-08T01:39:43.399255",
     "exception": false,
     "start_time": "2021-02-08T01:39:43.386991",
     "status": "completed"
    },
    "tags": []
   },
   "outputs": [],
   "source": []
  },
  {
   "cell_type": "code",
   "execution_count": null,
   "id": "appreciated-diamond",
   "metadata": {
    "papermill": {
     "duration": 0.014217,
     "end_time": "2021-02-08T01:39:43.426256",
     "exception": false,
     "start_time": "2021-02-08T01:39:43.412039",
     "status": "completed"
    },
    "tags": []
   },
   "outputs": [],
   "source": []
  },
  {
   "cell_type": "code",
   "execution_count": null,
   "id": "romance-sweden",
   "metadata": {
    "papermill": {
     "duration": 0.013755,
     "end_time": "2021-02-08T01:39:43.454050",
     "exception": false,
     "start_time": "2021-02-08T01:39:43.440295",
     "status": "completed"
    },
    "tags": []
   },
   "outputs": [],
   "source": []
  },
  {
   "cell_type": "code",
   "execution_count": null,
   "id": "dietary-statistics",
   "metadata": {
    "papermill": {
     "duration": 0.011276,
     "end_time": "2021-02-08T01:39:43.476575",
     "exception": false,
     "start_time": "2021-02-08T01:39:43.465299",
     "status": "completed"
    },
    "tags": []
   },
   "outputs": [],
   "source": []
  }
 ],
 "metadata": {
  "kernelspec": {
   "display_name": "Python 3",
   "language": "python",
   "name": "python3"
  },
  "language_info": {
   "codemirror_mode": {
    "name": "ipython",
    "version": 3
   },
   "file_extension": ".py",
   "mimetype": "text/x-python",
   "name": "python",
   "nbconvert_exporter": "python",
   "pygments_lexer": "ipython3",
   "version": "3.6.12"
  },
  "papermill": {
   "default_parameters": {},
   "duration": 13.853683,
   "end_time": "2021-02-08T01:39:43.896373",
   "environment_variables": {},
   "exception": null,
   "input_path": "Market-News.ipynb",
   "output_path": "Market-News.ipynb",
   "parameters": {},
   "start_time": "2021-02-08T01:39:30.042690",
   "version": "2.2.2"
  }
 },
 "nbformat": 4,
 "nbformat_minor": 5
}