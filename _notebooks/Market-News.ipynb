{
 "cells": [
  {
   "cell_type": "markdown",
   "id": "short-greensboro",
   "metadata": {
    "papermill": {
     "duration": 0.015123,
     "end_time": "2021-05-10T02:12:36.340041",
     "exception": false,
     "start_time": "2021-05-10T02:12:36.324918",
     "status": "completed"
    },
    "tags": []
   },
   "source": [
    "# Kriptovaliutų naujienos"
   ]
  },
  {
   "cell_type": "code",
   "execution_count": 1,
   "id": "functioning-knowing",
   "metadata": {
    "execution": {
     "iopub.execute_input": "2021-05-10T02:12:36.372423Z",
     "iopub.status.busy": "2021-05-10T02:12:36.371805Z",
     "iopub.status.idle": "2021-05-10T02:12:37.729964Z",
     "shell.execute_reply": "2021-05-10T02:12:37.727064Z"
    },
    "papermill": {
     "duration": 1.379778,
     "end_time": "2021-05-10T02:12:37.730186",
     "exception": false,
     "start_time": "2021-05-10T02:12:36.350408",
     "status": "completed"
    },
    "tags": []
   },
   "outputs": [],
   "source": [
    "#hide_input\n",
    "import warnings\n",
    "warnings.filterwarnings('ignore')\n",
    "from scripts.read_data import read_api\n",
    "from scripts.read_data import read_news\n",
    "from scripts.read_data import read_covid\n",
    "import matplotlib.pyplot as plt \n",
    "from IPython.display import Markdown as md"
   ]
  },
  {
   "cell_type": "code",
   "execution_count": 2,
   "id": "shared-acceptance",
   "metadata": {
    "execution": {
     "iopub.execute_input": "2021-05-10T02:12:37.758925Z",
     "iopub.status.busy": "2021-05-10T02:12:37.758307Z",
     "iopub.status.idle": "2021-05-10T02:12:46.906678Z",
     "shell.execute_reply": "2021-05-10T02:12:46.905708Z"
    },
    "papermill": {
     "duration": 9.166082,
     "end_time": "2021-05-10T02:12:46.906817",
     "exception": false,
     "start_time": "2021-05-10T02:12:37.740735",
     "status": "completed"
    },
    "tags": []
   },
   "outputs": [],
   "source": [
    "#hide_input\n",
    "blockchain = read_news('blockchain') \n",
    "btc = read_news('btc') \n",
    "xrp = read_news('xrp') \n",
    "trx = read_news('trx') \n",
    "eth = read_news('eth')  \n",
    "ada = read_news('ada')\n",
    "exchange = read_news('exchange') "
   ]
  },
  {
   "cell_type": "code",
   "execution_count": 3,
   "id": "synthetic-notion",
   "metadata": {
    "execution": {
     "iopub.execute_input": "2021-05-10T02:12:46.934999Z",
     "iopub.status.busy": "2021-05-10T02:12:46.934410Z",
     "iopub.status.idle": "2021-05-10T02:12:46.940952Z",
     "shell.execute_reply": "2021-05-10T02:12:46.940344Z"
    },
    "papermill": {
     "duration": 0.022835,
     "end_time": "2021-05-10T02:12:46.941091",
     "exception": false,
     "start_time": "2021-05-10T02:12:46.918256",
     "status": "completed"
    },
    "tags": []
   },
   "outputs": [
    {
     "data": {
      "text/markdown": [
       "- One Sleeping Giant Ready for 7x Rally, Says Prominent Crypto Trader.  High-profile crypto trader and crypto strategist Kaleo is preparing for one mid-cap altcoin to surge by over 600%. In a series of tweets, the pseudonymous analyst charts a bullish path ahead for scalable blockchain network Tron (TRX). Kaleo says that Tron is prepared to resume a breakout in its Bitcoin pair (TRX/BTC) after getting rejected [&#8230;]The post One Sleeping Giant Ready for 7x Rally, Says Prominent Crypto Trader appeared first on The Daily Hodl. ... [| Skaityti daugiau](https://dailyhodl.com/2021/05/09/one-sleeping-giant-ready-for-7x-rally-says-prominent-crypto-trader/) "
      ],
      "text/plain": [
       "<IPython.core.display.Markdown object>"
      ]
     },
     "execution_count": 3,
     "metadata": {},
     "output_type": "execute_result"
    }
   ],
   "source": [
    "#hide_input\n",
    "#md('##### {}'.format(titleBTC)) \n",
    "md(\"- {}{} {}{} [| Skaityti daugiau]({}) \".format(blockchain['title'],'. ', blockchain['body'], ' ...', blockchain['url']))"
   ]
  },
  {
   "cell_type": "code",
   "execution_count": 4,
   "id": "aging-caution",
   "metadata": {
    "execution": {
     "iopub.execute_input": "2021-05-10T02:12:46.965989Z",
     "iopub.status.busy": "2021-05-10T02:12:46.965295Z",
     "iopub.status.idle": "2021-05-10T02:12:46.967806Z",
     "shell.execute_reply": "2021-05-10T02:12:46.968356Z"
    },
    "papermill": {
     "duration": 0.01788,
     "end_time": "2021-05-10T02:12:46.968512",
     "exception": false,
     "start_time": "2021-05-10T02:12:46.950632",
     "status": "completed"
    },
    "tags": []
   },
   "outputs": [
    {
     "data": {
      "text/markdown": [
       "- Bitcoin: A 1929-Esque Bubble.  Due to an inability to regulate Bitcoin, the value of the cryptocurrency is incredibly easy to manipulate -- and so it is very commonly manipulated.The rampant market manipulation reminds me of a pre-SEC world where, in the 1920s, stocks ran wild until ultimately busting in a catastrophic manner.Bitcoin is a failed currency and has no intrinsic value beyond being a means to pay for goods. This makes its value as an investment purely emotion-based.The incredible energy consumption of Bitcoin mining is in direct opposition to the cryptocurrency’s largest support base and is what I’ve identified as the catalyst to pop the bubble. ... [| Skaityti daugiau](https://seekingalpha.com/article/4426656-bitcoin-btc-1929-esque-bubble?utm_source=cryptocompare.com&utm_medium=referral) "
      ],
      "text/plain": [
       "<IPython.core.display.Markdown object>"
      ]
     },
     "execution_count": 4,
     "metadata": {},
     "output_type": "execute_result"
    }
   ],
   "source": [
    "#hide_input\n",
    "#md('##### {}'.format(titleBTC)) \n",
    "md(\"- {}{} {}{} [| Skaityti daugiau]({}) \".format(btc['title'],'. ', btc['body'], ' ...', btc['url']))"
   ]
  },
  {
   "cell_type": "code",
   "execution_count": 5,
   "id": "organic-actress",
   "metadata": {
    "execution": {
     "iopub.execute_input": "2021-05-10T02:12:46.997594Z",
     "iopub.status.busy": "2021-05-10T02:12:46.996908Z",
     "iopub.status.idle": "2021-05-10T02:12:46.999341Z",
     "shell.execute_reply": "2021-05-10T02:12:46.999920Z"
    },
    "papermill": {
     "duration": 0.019795,
     "end_time": "2021-05-10T02:12:47.000071",
     "exception": false,
     "start_time": "2021-05-10T02:12:46.980276",
     "status": "completed"
    },
    "tags": []
   },
   "outputs": [
    {
     "data": {
      "text/markdown": [
       "- XRP, Dogecoin, Ethereum Price Analysis: 09 May.  XRP presented the possibility of a descending triangle breakdown, one that could go as low as $1.31. Dogecoin surprised the market amid a continued sell-off even after Elon Musk&#8217;s SNL appearance. Ethereum warded off multiple sell signals and headed towards the $4k-mark. XRP On the hourly timeframe, a few candlewicks on XRP fell below $1.53 [&#8230;] ... [| Skaityti daugiau](https://ambcrypto.com/xrp-dogecoin-ethereum-price-analysis-09-may/) "
      ],
      "text/plain": [
       "<IPython.core.display.Markdown object>"
      ]
     },
     "execution_count": 5,
     "metadata": {},
     "output_type": "execute_result"
    }
   ],
   "source": [
    "#hide_input\n",
    "#md('##### {}'.format(titleBTC)) \n",
    "md(\"- {}{} {}{} [| Skaityti daugiau]({}) \".format(xrp['title'],'. ', xrp['body'], ' ...', xrp['url']))"
   ]
  },
  {
   "cell_type": "code",
   "execution_count": 6,
   "id": "prompt-farmer",
   "metadata": {
    "execution": {
     "iopub.execute_input": "2021-05-10T02:12:47.028838Z",
     "iopub.status.busy": "2021-05-10T02:12:47.028266Z",
     "iopub.status.idle": "2021-05-10T02:12:47.031241Z",
     "shell.execute_reply": "2021-05-10T02:12:47.031760Z"
    },
    "papermill": {
     "duration": 0.020664,
     "end_time": "2021-05-10T02:12:47.031971",
     "exception": false,
     "start_time": "2021-05-10T02:12:47.011307",
     "status": "completed"
    },
    "tags": []
   },
   "outputs": [
    {
     "data": {
      "text/markdown": [
       "- One Sleeping Giant Ready for 7x Rally, Says Prominent Crypto Trader.  High-profile crypto trader and crypto strategist Kaleo is preparing for one mid-cap altcoin to surge by over 600%. In a series of tweets, the pseudonymous analyst charts a bullish path ahead for scalable blockchain network Tron (TRX). Kaleo says that Tron is prepared to resume a breakout in its Bitcoin pair (TRX/BTC) after getting rejected [&#8230;]The post One Sleeping Giant Ready for 7x Rally, Says Prominent Crypto Trader appeared first on The Daily Hodl. ... [| Skaityti daugiau](https://dailyhodl.com/2021/05/09/one-sleeping-giant-ready-for-7x-rally-says-prominent-crypto-trader/) "
      ],
      "text/plain": [
       "<IPython.core.display.Markdown object>"
      ]
     },
     "execution_count": 6,
     "metadata": {},
     "output_type": "execute_result"
    }
   ],
   "source": [
    "#hide_input\n",
    "#md('##### {}'.format(titleBTC)) \n",
    "md(\"- {}{} {}{} [| Skaityti daugiau]({}) \".format(trx['title'],'. ', trx['body'], ' ...', trx['url']))"
   ]
  },
  {
   "cell_type": "code",
   "execution_count": 7,
   "id": "illegal-greece",
   "metadata": {
    "execution": {
     "iopub.execute_input": "2021-05-10T02:12:47.060777Z",
     "iopub.status.busy": "2021-05-10T02:12:47.060201Z",
     "iopub.status.idle": "2021-05-10T02:12:47.064031Z",
     "shell.execute_reply": "2021-05-10T02:12:47.063428Z"
    },
    "papermill": {
     "duration": 0.020409,
     "end_time": "2021-05-10T02:12:47.064153",
     "exception": false,
     "start_time": "2021-05-10T02:12:47.043744",
     "status": "completed"
    },
    "tags": []
   },
   "outputs": [
    {
     "data": {
      "text/markdown": [
       "- XRP, Dogecoin, Ethereum Price Analysis: 09 May.  XRP presented the possibility of a descending triangle breakdown, one that could go as low as $1.31. Dogecoin surprised the market amid a continued sell-off even after Elon Musk&#8217;s SNL appearance. Ethereum warded off multiple sell signals and headed towards the $4k-mark. XRP On the hourly timeframe, a few candlewicks on XRP fell below $1.53 [&#8230;] ... [| Skaityti daugiau](https://ambcrypto.com/xrp-dogecoin-ethereum-price-analysis-09-may/) "
      ],
      "text/plain": [
       "<IPython.core.display.Markdown object>"
      ]
     },
     "execution_count": 7,
     "metadata": {},
     "output_type": "execute_result"
    }
   ],
   "source": [
    "#hide_input\n",
    "#md('##### {}'.format(titleBTC)) \n",
    "md(\"- {}{} {}{} [| Skaityti daugiau]({}) \".format(eth['title'],'. ', eth['body'], ' ...', eth['url']))"
   ]
  },
  {
   "cell_type": "code",
   "execution_count": 8,
   "id": "sublime-lounge",
   "metadata": {
    "execution": {
     "iopub.execute_input": "2021-05-10T02:12:47.094653Z",
     "iopub.status.busy": "2021-05-10T02:12:47.094063Z",
     "iopub.status.idle": "2021-05-10T02:12:47.097145Z",
     "shell.execute_reply": "2021-05-10T02:12:47.096647Z"
    },
    "papermill": {
     "duration": 0.021107,
     "end_time": "2021-05-10T02:12:47.097267",
     "exception": false,
     "start_time": "2021-05-10T02:12:47.076160",
     "status": "completed"
    },
    "tags": []
   },
   "outputs": [
    {
     "data": {
      "text/markdown": [
       "- Top 5 cryptocurrencies to watch this week: BTC, BNB, ADA, LTC, LINK.  Bitcoin is still stuck in a predictable range below Binance Coin, Cardano, Litecoin and Chainlink have formed bullish patterns suggesting further upside in them. ... [| Skaityti daugiau](https://cointelegraph.com/news/top-5-cryptocurrencies-to-watch-this-week-btc-bnb-ada-ltc-link) "
      ],
      "text/plain": [
       "<IPython.core.display.Markdown object>"
      ]
     },
     "execution_count": 8,
     "metadata": {},
     "output_type": "execute_result"
    }
   ],
   "source": [
    "#hide_input\n",
    "#md('##### {}'.format(titleBTC)) \n",
    "md(\"- {}{} {}{} [| Skaityti daugiau]({}) \".format(ada['title'],'. ', ada['body'], ' ...', ada['url']))"
   ]
  },
  {
   "cell_type": "code",
   "execution_count": 9,
   "id": "specified-ordering",
   "metadata": {
    "execution": {
     "iopub.execute_input": "2021-05-10T02:12:47.128803Z",
     "iopub.status.busy": "2021-05-10T02:12:47.128216Z",
     "iopub.status.idle": "2021-05-10T02:12:47.131306Z",
     "shell.execute_reply": "2021-05-10T02:12:47.130809Z"
    },
    "papermill": {
     "duration": 0.021198,
     "end_time": "2021-05-10T02:12:47.131448",
     "exception": false,
     "start_time": "2021-05-10T02:12:47.110250",
     "status": "completed"
    },
    "tags": []
   },
   "outputs": [
    {
     "data": {
      "text/markdown": [
       "- Binance CEO says volatility ‘is not unique to crypto’: Data shows it’s Bitcoin’s jet fuel.  Binance CEO Changpeng Zhao said Bitcoin’s volatility is “probably less volatile” in comparison to some stocks, but data shows Bitcoin is the incontestable winner when adjusting the metric based on returns.  ... [| Skaityti daugiau](https://cointelegraph.com/news/binance-ceo-says-volatility-is-not-unique-to-crypto-data-shows-it-s-bitcoin-s-jet-fuel) "
      ],
      "text/plain": [
       "<IPython.core.display.Markdown object>"
      ]
     },
     "execution_count": 9,
     "metadata": {},
     "output_type": "execute_result"
    }
   ],
   "source": [
    "#hide_input\n",
    "#md('##### {}'.format(titleBTC)) \n",
    "md(\"- {}{} {}{} [| Skaityti daugiau]({}) \".format(exchange['title'],'. ', exchange['body'], ' ...', exchange['url']))"
   ]
  },
  {
   "cell_type": "code",
   "execution_count": null,
   "id": "tender-livestock",
   "metadata": {
    "papermill": {
     "duration": 0.012868,
     "end_time": "2021-05-10T02:12:47.157639",
     "exception": false,
     "start_time": "2021-05-10T02:12:47.144771",
     "status": "completed"
    },
    "tags": []
   },
   "outputs": [],
   "source": []
  },
  {
   "cell_type": "code",
   "execution_count": null,
   "id": "appreciated-diamond",
   "metadata": {
    "papermill": {
     "duration": 0.012696,
     "end_time": "2021-05-10T02:12:47.183281",
     "exception": false,
     "start_time": "2021-05-10T02:12:47.170585",
     "status": "completed"
    },
    "tags": []
   },
   "outputs": [],
   "source": []
  },
  {
   "cell_type": "code",
   "execution_count": null,
   "id": "romance-sweden",
   "metadata": {
    "papermill": {
     "duration": 0.012888,
     "end_time": "2021-05-10T02:12:47.209053",
     "exception": false,
     "start_time": "2021-05-10T02:12:47.196165",
     "status": "completed"
    },
    "tags": []
   },
   "outputs": [],
   "source": []
  },
  {
   "cell_type": "code",
   "execution_count": null,
   "id": "dietary-statistics",
   "metadata": {
    "papermill": {
     "duration": 0.012895,
     "end_time": "2021-05-10T02:12:47.235598",
     "exception": false,
     "start_time": "2021-05-10T02:12:47.222703",
     "status": "completed"
    },
    "tags": []
   },
   "outputs": [],
   "source": []
  }
 ],
 "metadata": {
  "kernelspec": {
   "display_name": "Python 3",
   "language": "python",
   "name": "python3"
  },
  "language_info": {
   "codemirror_mode": {
    "name": "ipython",
    "version": 3
   },
   "file_extension": ".py",
   "mimetype": "text/x-python",
   "name": "python",
   "nbconvert_exporter": "python",
   "pygments_lexer": "ipython3",
   "version": "3.6.13"
  },
  "papermill": {
   "default_parameters": {},
   "duration": 12.726673,
   "end_time": "2021-05-10T02:12:47.757492",
   "environment_variables": {},
   "exception": null,
   "input_path": "Market-News.ipynb",
   "output_path": "Market-News.ipynb",
   "parameters": {},
   "start_time": "2021-05-10T02:12:35.030819",
   "version": "2.2.2"
  }
 },
 "nbformat": 4,
 "nbformat_minor": 5
}