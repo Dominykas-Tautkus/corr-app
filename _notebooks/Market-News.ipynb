{
 "cells": [
  {
   "cell_type": "markdown",
   "id": "short-greensboro",
   "metadata": {
    "papermill": {
     "duration": 0.015604,
     "end_time": "2021-06-23T01:51:31.839806",
     "exception": false,
     "start_time": "2021-06-23T01:51:31.824202",
     "status": "completed"
    },
    "tags": []
   },
   "source": [
    "# Kriptovaliutų naujienos"
   ]
  },
  {
   "cell_type": "code",
   "execution_count": 1,
   "id": "functioning-knowing",
   "metadata": {
    "execution": {
     "iopub.execute_input": "2021-06-23T01:51:31.875748Z",
     "iopub.status.busy": "2021-06-23T01:51:31.874882Z",
     "iopub.status.idle": "2021-06-23T01:51:33.274288Z",
     "shell.execute_reply": "2021-06-23T01:51:33.273764Z"
    },
    "papermill": {
     "duration": 1.422713,
     "end_time": "2021-06-23T01:51:33.274436",
     "exception": false,
     "start_time": "2021-06-23T01:51:31.851723",
     "status": "completed"
    },
    "tags": []
   },
   "outputs": [],
   "source": [
    "#hide_input\n",
    "import warnings\n",
    "warnings.filterwarnings('ignore')\n",
    "from scripts.read_data import read_api\n",
    "from scripts.read_data import read_news\n",
    "from scripts.read_data import read_covid\n",
    "import matplotlib.pyplot as plt \n",
    "from IPython.display import Markdown as md"
   ]
  },
  {
   "cell_type": "code",
   "execution_count": 2,
   "id": "shared-acceptance",
   "metadata": {
    "execution": {
     "iopub.execute_input": "2021-06-23T01:51:33.304031Z",
     "iopub.status.busy": "2021-06-23T01:51:33.303062Z",
     "iopub.status.idle": "2021-06-23T01:51:45.585348Z",
     "shell.execute_reply": "2021-06-23T01:51:45.583961Z"
    },
    "papermill": {
     "duration": 12.299321,
     "end_time": "2021-06-23T01:51:45.585517",
     "exception": false,
     "start_time": "2021-06-23T01:51:33.286196",
     "status": "completed"
    },
    "tags": []
   },
   "outputs": [],
   "source": [
    "#hide_input\n",
    "blockchain = read_news('blockchain') \n",
    "btc = read_news('btc') \n",
    "xrp = read_news('xrp') \n",
    "trx = read_news('trx') \n",
    "eth = read_news('eth')  \n",
    "ada = read_news('ada')\n",
    "exchange = read_news('exchange') "
   ]
  },
  {
   "cell_type": "code",
   "execution_count": 3,
   "id": "synthetic-notion",
   "metadata": {
    "execution": {
     "iopub.execute_input": "2021-06-23T01:51:45.617169Z",
     "iopub.status.busy": "2021-06-23T01:51:45.616443Z",
     "iopub.status.idle": "2021-06-23T01:51:45.619816Z",
     "shell.execute_reply": "2021-06-23T01:51:45.619346Z"
    },
    "papermill": {
     "duration": 0.023002,
     "end_time": "2021-06-23T01:51:45.619920",
     "exception": false,
     "start_time": "2021-06-23T01:51:45.596918",
     "status": "completed"
    },
    "tags": []
   },
   "outputs": [
    {
     "data": {
      "text/markdown": [
       "- DeFi hacks on Binance Smart Chain continue as ‘Impossible Finance’ drained for $500k.  Impossible Finance, a decentralized finance (DeFi) protocol on the Binance Smart Chain has been exploited for $500,000 in a flash loan attack. A flash loan attack is a common type of DeFi exploits in which hackers take an uncollateralized loan from a lending protocol and through a series of technical maneuvers manipulate the market in [&#8230;]The post DeFi hacks on Binance Smart Chain continue as &#8216;Impossible Finance&#8217; drained for $500k appeared first on CryptoSlate. ... [| Skaityti daugiau](https://cryptoslate.com/defi-hacks-on-binance-smart-chain-continue-as-impossible-finance-drained-for-500k/) "
      ],
      "text/plain": [
       "<IPython.core.display.Markdown object>"
      ]
     },
     "execution_count": 3,
     "metadata": {},
     "output_type": "execute_result"
    }
   ],
   "source": [
    "#hide_input\n",
    "#md('##### {}'.format(titleBTC)) \n",
    "md(\"- {}{} {}{} [| Skaityti daugiau]({}) \".format(blockchain['title'],'. ', blockchain['body'], ' ...', blockchain['url']))"
   ]
  },
  {
   "cell_type": "code",
   "execution_count": 4,
   "id": "aging-caution",
   "metadata": {
    "execution": {
     "iopub.execute_input": "2021-06-23T01:51:45.652687Z",
     "iopub.status.busy": "2021-06-23T01:51:45.651981Z",
     "iopub.status.idle": "2021-06-23T01:51:45.654890Z",
     "shell.execute_reply": "2021-06-23T01:51:45.655320Z"
    },
    "papermill": {
     "duration": 0.020246,
     "end_time": "2021-06-23T01:51:45.655442",
     "exception": false,
     "start_time": "2021-06-23T01:51:45.635196",
     "status": "completed"
    },
    "tags": []
   },
   "outputs": [
    {
     "data": {
      "text/markdown": [
       "- ‘I sold almost all of my bitcoin’ vs ‘buy the dip’: which makes sense?.  The value of bitcoin dropped nearly 50% from its peak observed in April at $65,000. The onset of bearishness in the cryptocurrency market was triggered by an impending correction, followed by China&#8217;s move to crackdown on cryptocurrencies. As BTC price descended to $31,000 CNBC&#8217;s Jim Cramer who recently hopped on the Bitcoin train, was now [&#8230;] ... [| Skaityti daugiau](https://ambcrypto.com/i-sold-almost-all-of-my-bitcoin-vs-buy-the-dip-which-makes-sense/) "
      ],
      "text/plain": [
       "<IPython.core.display.Markdown object>"
      ]
     },
     "execution_count": 4,
     "metadata": {},
     "output_type": "execute_result"
    }
   ],
   "source": [
    "#hide_input\n",
    "#md('##### {}'.format(titleBTC)) \n",
    "md(\"- {}{} {}{} [| Skaityti daugiau]({}) \".format(btc['title'],'. ', btc['body'], ' ...', btc['url']))"
   ]
  },
  {
   "cell_type": "code",
   "execution_count": 5,
   "id": "organic-actress",
   "metadata": {
    "execution": {
     "iopub.execute_input": "2021-06-23T01:51:45.684981Z",
     "iopub.status.busy": "2021-06-23T01:51:45.684319Z",
     "iopub.status.idle": "2021-06-23T01:51:45.688630Z",
     "shell.execute_reply": "2021-06-23T01:51:45.689132Z"
    },
    "papermill": {
     "duration": 0.02091,
     "end_time": "2021-06-23T01:51:45.689249",
     "exception": false,
     "start_time": "2021-06-23T01:51:45.668339",
     "status": "completed"
    },
    "tags": []
   },
   "outputs": [
    {
     "data": {
      "text/markdown": [
       "- XRP, Cardano, Dogecoin Price Analysis: 22 June.  Following Bitcoin’s freefall starting 21 June, the market&#8217;s alts fell significantly and made lower lows. The total market capitalization came down by 16% at press time and stood at $685 billion. Dogecoin, Cardano, and XRP, each lost 27%,14.87%, and 14.81% of their values, respectively. XRP was in the news recently for SEC Commissioner Hester Peirce’s [&#8230;] ... [| Skaityti daugiau](https://ambcrypto.com/xrp-cardano-dogecoin-price-analysis-22-june/) "
      ],
      "text/plain": [
       "<IPython.core.display.Markdown object>"
      ]
     },
     "execution_count": 5,
     "metadata": {},
     "output_type": "execute_result"
    }
   ],
   "source": [
    "#hide_input\n",
    "#md('##### {}'.format(titleBTC)) \n",
    "md(\"- {}{} {}{} [| Skaityti daugiau]({}) \".format(xrp['title'],'. ', xrp['body'], ' ...', xrp['url']))"
   ]
  },
  {
   "cell_type": "code",
   "execution_count": 6,
   "id": "prompt-farmer",
   "metadata": {
    "execution": {
     "iopub.execute_input": "2021-06-23T01:51:45.719270Z",
     "iopub.status.busy": "2021-06-23T01:51:45.718715Z",
     "iopub.status.idle": "2021-06-23T01:51:45.721144Z",
     "shell.execute_reply": "2021-06-23T01:51:45.721740Z"
    },
    "papermill": {
     "duration": 0.020745,
     "end_time": "2021-06-23T01:51:45.721882",
     "exception": false,
     "start_time": "2021-06-23T01:51:45.701137",
     "status": "completed"
    },
    "tags": []
   },
   "outputs": [
    {
     "data": {
      "text/markdown": [
       "- THETA, VeChain, Tron Price Analysis: 22 June.  The global crypto-market lost 5.04% of its market cap yesterday after Bitcoin dipped to $32,595 amid rising concerns associated with the latest FUD emerging from China. In fact, over the week, Bitcoin&#8217;s market lost 18.78% of its value and altcoins like THETA, VET, and TRX suffered a similar fate. As market volatility and selling pressure [&#8230;] ... [| Skaityti daugiau](https://ambcrypto.com/theta-vechain-tron-price-analysis-22-june/) "
      ],
      "text/plain": [
       "<IPython.core.display.Markdown object>"
      ]
     },
     "execution_count": 6,
     "metadata": {},
     "output_type": "execute_result"
    }
   ],
   "source": [
    "#hide_input\n",
    "#md('##### {}'.format(titleBTC)) \n",
    "md(\"- {}{} {}{} [| Skaityti daugiau]({}) \".format(trx['title'],'. ', trx['body'], ' ...', trx['url']))"
   ]
  },
  {
   "cell_type": "code",
   "execution_count": 7,
   "id": "illegal-greece",
   "metadata": {
    "execution": {
     "iopub.execute_input": "2021-06-23T01:51:45.752896Z",
     "iopub.status.busy": "2021-06-23T01:51:45.752289Z",
     "iopub.status.idle": "2021-06-23T01:51:45.755397Z",
     "shell.execute_reply": "2021-06-23T01:51:45.755979Z"
    },
    "papermill": {
     "duration": 0.020632,
     "end_time": "2021-06-23T01:51:45.756148",
     "exception": false,
     "start_time": "2021-06-23T01:51:45.735516",
     "status": "completed"
    },
    "tags": []
   },
   "outputs": [
    {
     "data": {
      "text/markdown": [
       "- Cardano Founder: Ethereum Will Overtake Bitcoin.  Cardano founder Charles Hoskinson has predicted a quick victory of Ethereum over Bitcoin. Charles Hoskinson talked about cryptocurrencies and why he believes ethereum is poised to overtake bitcoin in the near future. He started by talking about the speed of bitcoin transactions. Pointing to the sluggishness of the network and how slow it is in [&#8230;] ... [| Skaityti daugiau](https://www.newsbtc.com/news/ethereum/ethereum-will-overtake-bitcoin/) "
      ],
      "text/plain": [
       "<IPython.core.display.Markdown object>"
      ]
     },
     "execution_count": 7,
     "metadata": {},
     "output_type": "execute_result"
    }
   ],
   "source": [
    "#hide_input\n",
    "#md('##### {}'.format(titleBTC)) \n",
    "md(\"- {}{} {}{} [| Skaityti daugiau]({}) \".format(eth['title'],'. ', eth['body'], ' ...', eth['url']))"
   ]
  },
  {
   "cell_type": "code",
   "execution_count": 8,
   "id": "sublime-lounge",
   "metadata": {
    "execution": {
     "iopub.execute_input": "2021-06-23T01:51:45.788867Z",
     "iopub.status.busy": "2021-06-23T01:51:45.788194Z",
     "iopub.status.idle": "2021-06-23T01:51:45.791579Z",
     "shell.execute_reply": "2021-06-23T01:51:45.792331Z"
    },
    "papermill": {
     "duration": 0.022096,
     "end_time": "2021-06-23T01:51:45.792476",
     "exception": false,
     "start_time": "2021-06-23T01:51:45.770380",
     "status": "completed"
    },
    "tags": []
   },
   "outputs": [
    {
     "data": {
      "text/markdown": [
       "- XRP, Cardano, Dogecoin Price Analysis: 22 June.  Following Bitcoin’s freefall starting 21 June, the market&#8217;s alts fell significantly and made lower lows. The total market capitalization came down by 16% at press time and stood at $685 billion. Dogecoin, Cardano, and XRP, each lost 27%,14.87%, and 14.81% of their values, respectively. XRP was in the news recently for SEC Commissioner Hester Peirce’s [&#8230;] ... [| Skaityti daugiau](https://ambcrypto.com/xrp-cardano-dogecoin-price-analysis-22-june/) "
      ],
      "text/plain": [
       "<IPython.core.display.Markdown object>"
      ]
     },
     "execution_count": 8,
     "metadata": {},
     "output_type": "execute_result"
    }
   ],
   "source": [
    "#hide_input\n",
    "#md('##### {}'.format(titleBTC)) \n",
    "md(\"- {}{} {}{} [| Skaityti daugiau]({}) \".format(ada['title'],'. ', ada['body'], ' ...', ada['url']))"
   ]
  },
  {
   "cell_type": "code",
   "execution_count": 9,
   "id": "specified-ordering",
   "metadata": {
    "execution": {
     "iopub.execute_input": "2021-06-23T01:51:45.824383Z",
     "iopub.status.busy": "2021-06-23T01:51:45.822114Z",
     "iopub.status.idle": "2021-06-23T01:51:45.827963Z",
     "shell.execute_reply": "2021-06-23T01:51:45.827429Z"
    },
    "papermill": {
     "duration": 0.022255,
     "end_time": "2021-06-23T01:51:45.828084",
     "exception": false,
     "start_time": "2021-06-23T01:51:45.805829",
     "status": "completed"
    },
    "tags": []
   },
   "outputs": [
    {
     "data": {
      "text/markdown": [
       "- Latest South Korean Tax Evasion Busts: Crypto Worth USD 47m Seized.  The South Korean crackdown on high-band taxpayers who have used crypto purchases to hide the scale of their earnings from the taxman has rolled on to the affluent Gyeonggi Province, catching some big fish – with crypto confiscated from rich doctors and TV stars.Since gaining the powers they needed to access crypto exchange data in March this year, tax bodies across the ... [| Skaityti daugiau](https://cryptonews.com/news/latest-south-korean-tax-evasion-busts-crypto-worth-usd-47m-s-10787.htm) "
      ],
      "text/plain": [
       "<IPython.core.display.Markdown object>"
      ]
     },
     "execution_count": 9,
     "metadata": {},
     "output_type": "execute_result"
    }
   ],
   "source": [
    "#hide_input\n",
    "#md('##### {}'.format(titleBTC)) \n",
    "md(\"- {}{} {}{} [| Skaityti daugiau]({}) \".format(exchange['title'],'. ', exchange['body'], ' ...', exchange['url']))"
   ]
  },
  {
   "cell_type": "code",
   "execution_count": null,
   "id": "tender-livestock",
   "metadata": {
    "papermill": {
     "duration": 0.015296,
     "end_time": "2021-06-23T01:51:45.857149",
     "exception": false,
     "start_time": "2021-06-23T01:51:45.841853",
     "status": "completed"
    },
    "tags": []
   },
   "outputs": [],
   "source": []
  },
  {
   "cell_type": "code",
   "execution_count": null,
   "id": "appreciated-diamond",
   "metadata": {
    "papermill": {
     "duration": 0.014214,
     "end_time": "2021-06-23T01:51:45.884913",
     "exception": false,
     "start_time": "2021-06-23T01:51:45.870699",
     "status": "completed"
    },
    "tags": []
   },
   "outputs": [],
   "source": []
  },
  {
   "cell_type": "code",
   "execution_count": null,
   "id": "romance-sweden",
   "metadata": {
    "papermill": {
     "duration": 0.014055,
     "end_time": "2021-06-23T01:51:45.912988",
     "exception": false,
     "start_time": "2021-06-23T01:51:45.898933",
     "status": "completed"
    },
    "tags": []
   },
   "outputs": [],
   "source": []
  },
  {
   "cell_type": "code",
   "execution_count": null,
   "id": "dietary-statistics",
   "metadata": {
    "papermill": {
     "duration": 0.014246,
     "end_time": "2021-06-23T01:51:45.943626",
     "exception": false,
     "start_time": "2021-06-23T01:51:45.929380",
     "status": "completed"
    },
    "tags": []
   },
   "outputs": [],
   "source": []
  }
 ],
 "metadata": {
  "kernelspec": {
   "display_name": "Python 3",
   "language": "python",
   "name": "python3"
  },
  "language_info": {
   "codemirror_mode": {
    "name": "ipython",
    "version": 3
   },
   "file_extension": ".py",
   "mimetype": "text/x-python",
   "name": "python",
   "nbconvert_exporter": "python",
   "pygments_lexer": "ipython3",
   "version": "3.6.13"
  },
  "papermill": {
   "default_parameters": {},
   "duration": 15.625482,
   "end_time": "2021-06-23T01:51:46.366814",
   "environment_variables": {},
   "exception": null,
   "input_path": "Market-News.ipynb",
   "output_path": "Market-News.ipynb",
   "parameters": {},
   "start_time": "2021-06-23T01:51:30.741332",
   "version": "2.2.2"
  }
 },
 "nbformat": 4,
 "nbformat_minor": 5
}