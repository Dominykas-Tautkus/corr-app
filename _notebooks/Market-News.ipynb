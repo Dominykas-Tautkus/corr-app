{
 "cells": [
  {
   "cell_type": "markdown",
   "id": "short-greensboro",
   "metadata": {
    "papermill": {
     "duration": 0.014192,
     "end_time": "2021-06-08T02:51:57.083324",
     "exception": false,
     "start_time": "2021-06-08T02:51:57.069132",
     "status": "completed"
    },
    "tags": []
   },
   "source": [
    "# Kriptovaliutų naujienos"
   ]
  },
  {
   "cell_type": "code",
   "execution_count": 1,
   "id": "functioning-knowing",
   "metadata": {
    "execution": {
     "iopub.execute_input": "2021-06-08T02:51:57.112571Z",
     "iopub.status.busy": "2021-06-08T02:51:57.112068Z",
     "iopub.status.idle": "2021-06-08T02:51:58.227444Z",
     "shell.execute_reply": "2021-06-08T02:51:58.226902Z"
    },
    "papermill": {
     "duration": 1.134418,
     "end_time": "2021-06-08T02:51:58.227595",
     "exception": false,
     "start_time": "2021-06-08T02:51:57.093177",
     "status": "completed"
    },
    "tags": []
   },
   "outputs": [],
   "source": [
    "#hide_input\n",
    "import warnings\n",
    "warnings.filterwarnings('ignore')\n",
    "from scripts.read_data import read_api\n",
    "from scripts.read_data import read_news\n",
    "from scripts.read_data import read_covid\n",
    "import matplotlib.pyplot as plt \n",
    "from IPython.display import Markdown as md"
   ]
  },
  {
   "cell_type": "code",
   "execution_count": 2,
   "id": "shared-acceptance",
   "metadata": {
    "execution": {
     "iopub.execute_input": "2021-06-08T02:51:58.253705Z",
     "iopub.status.busy": "2021-06-08T02:51:58.253185Z",
     "iopub.status.idle": "2021-06-08T02:52:07.248396Z",
     "shell.execute_reply": "2021-06-08T02:52:07.247915Z"
    },
    "papermill": {
     "duration": 9.010469,
     "end_time": "2021-06-08T02:52:07.248514",
     "exception": false,
     "start_time": "2021-06-08T02:51:58.238045",
     "status": "completed"
    },
    "tags": []
   },
   "outputs": [],
   "source": [
    "#hide_input\n",
    "blockchain = read_news('blockchain') \n",
    "btc = read_news('btc') \n",
    "xrp = read_news('xrp') \n",
    "trx = read_news('trx') \n",
    "eth = read_news('eth')  \n",
    "ada = read_news('ada')\n",
    "exchange = read_news('exchange') "
   ]
  },
  {
   "cell_type": "code",
   "execution_count": 3,
   "id": "synthetic-notion",
   "metadata": {
    "execution": {
     "iopub.execute_input": "2021-06-08T02:52:07.273683Z",
     "iopub.status.busy": "2021-06-08T02:52:07.273171Z",
     "iopub.status.idle": "2021-06-08T02:52:07.275494Z",
     "shell.execute_reply": "2021-06-08T02:52:07.275889Z"
    },
    "papermill": {
     "duration": 0.017755,
     "end_time": "2021-06-08T02:52:07.276003",
     "exception": false,
     "start_time": "2021-06-08T02:52:07.258248",
     "status": "completed"
    },
    "tags": []
   },
   "outputs": [
    {
     "data": {
      "text/markdown": [
       "- What is the carbon footprint of an NFT?.  Quick TakeArtists using non-fungible tokens (NFTs) to sell their work have been the target of backlash from climate activists who argue that blockchain-based art emits too much carbon dioxide.What is the carbon footprint of an NFT? The answer is as philosophical as it is technical. ... [| Skaityti daugiau](https://www.theblockcrypto.com/daily/107461/the-carbon-footprint-of-nfts?utm_source=cryptocompare&utm_medium=rss) "
      ],
      "text/plain": [
       "<IPython.core.display.Markdown object>"
      ]
     },
     "execution_count": 3,
     "metadata": {},
     "output_type": "execute_result"
    }
   ],
   "source": [
    "#hide_input\n",
    "#md('##### {}'.format(titleBTC)) \n",
    "md(\"- {}{} {}{} [| Skaityti daugiau]({}) \".format(blockchain['title'],'. ', blockchain['body'], ' ...', blockchain['url']))"
   ]
  },
  {
   "cell_type": "code",
   "execution_count": 4,
   "id": "aging-caution",
   "metadata": {
    "execution": {
     "iopub.execute_input": "2021-06-08T02:52:07.300800Z",
     "iopub.status.busy": "2021-06-08T02:52:07.300018Z",
     "iopub.status.idle": "2021-06-08T02:52:07.303596Z",
     "shell.execute_reply": "2021-06-08T02:52:07.303099Z"
    },
    "papermill": {
     "duration": 0.018307,
     "end_time": "2021-06-08T02:52:07.303694",
     "exception": false,
     "start_time": "2021-06-08T02:52:07.285387",
     "status": "completed"
    },
    "tags": []
   },
   "outputs": [
    {
     "data": {
      "text/markdown": [
       "- Record $141M outflow from Bitcoin products signals institutions are bearish on BTC: CoinShares.   Institutional investors withdrew a record $141 million from Bitcoin investment products this past week.  ... [| Skaityti daugiau](https://cointelegraph.com/news/record-141m-outflow-from-bitcoin-products-signals-institutions-are-bearish-on-btc-coinshares) "
      ],
      "text/plain": [
       "<IPython.core.display.Markdown object>"
      ]
     },
     "execution_count": 4,
     "metadata": {},
     "output_type": "execute_result"
    }
   ],
   "source": [
    "#hide_input\n",
    "#md('##### {}'.format(titleBTC)) \n",
    "md(\"- {}{} {}{} [| Skaityti daugiau]({}) \".format(btc['title'],'. ', btc['body'], ' ...', btc['url']))"
   ]
  },
  {
   "cell_type": "code",
   "execution_count": 5,
   "id": "organic-actress",
   "metadata": {
    "execution": {
     "iopub.execute_input": "2021-06-08T02:52:07.327521Z",
     "iopub.status.busy": "2021-06-08T02:52:07.327030Z",
     "iopub.status.idle": "2021-06-08T02:52:07.329999Z",
     "shell.execute_reply": "2021-06-08T02:52:07.329545Z"
    },
    "papermill": {
     "duration": 0.016471,
     "end_time": "2021-06-08T02:52:07.330098",
     "exception": false,
     "start_time": "2021-06-08T02:52:07.313627",
     "status": "completed"
    },
    "tags": []
   },
   "outputs": [
    {
     "data": {
      "text/markdown": [
       "- XRP, Dogecoin, Cardano Price Analysis: 07 June.  Volatility remained low in the XRP market for short-term price swings. Dogecoin traded within a descending triangle and lay vulnerable to a 20% retracement. Finally, Cardano could see a surge to $1.85 and a successful breakout would initiate a rally. XRP On the 4-hour timeframe, XRP&#8217;s 20-SMA (red) and 50-SMA (yellow) moved above the candlesticks [&#8230;] ... [| Skaityti daugiau](https://ambcrypto.com/xrp-dogecoin-cardano-price-analysis-07-june/) "
      ],
      "text/plain": [
       "<IPython.core.display.Markdown object>"
      ]
     },
     "execution_count": 5,
     "metadata": {},
     "output_type": "execute_result"
    }
   ],
   "source": [
    "#hide_input\n",
    "#md('##### {}'.format(titleBTC)) \n",
    "md(\"- {}{} {}{} [| Skaityti daugiau]({}) \".format(xrp['title'],'. ', xrp['body'], ' ...', xrp['url']))"
   ]
  },
  {
   "cell_type": "code",
   "execution_count": 6,
   "id": "prompt-farmer",
   "metadata": {
    "execution": {
     "iopub.execute_input": "2021-06-08T02:52:07.354359Z",
     "iopub.status.busy": "2021-06-08T02:52:07.353872Z",
     "iopub.status.idle": "2021-06-08T02:52:07.356821Z",
     "shell.execute_reply": "2021-06-08T02:52:07.356430Z"
    },
    "papermill": {
     "duration": 0.016769,
     "end_time": "2021-06-08T02:52:07.356915",
     "exception": false,
     "start_time": "2021-06-08T02:52:07.340146",
     "status": "completed"
    },
    "tags": []
   },
   "outputs": [
    {
     "data": {
      "text/markdown": [
       "- Bitcoin, Aave, Tron Price Analysis: 07 June.  The king coin closed in on a death cross (crossover between 50-SMA and 200-SMA) and the same could result in a prolonged bear market. While alts such as Aave and Tron moved sideways and awaited stronger cues, bearish sentiment would likely drive them lower towards each of their respective demand zones. Bitcoin [BTC] Bitcoin&#8217;s daily [&#8230;] ... [| Skaityti daugiau](https://ambcrypto.com/bitcoin-aavetron-price-analysis-07-june/) "
      ],
      "text/plain": [
       "<IPython.core.display.Markdown object>"
      ]
     },
     "execution_count": 6,
     "metadata": {},
     "output_type": "execute_result"
    }
   ],
   "source": [
    "#hide_input\n",
    "#md('##### {}'.format(titleBTC)) \n",
    "md(\"- {}{} {}{} [| Skaityti daugiau]({}) \".format(trx['title'],'. ', trx['body'], ' ...', trx['url']))"
   ]
  },
  {
   "cell_type": "code",
   "execution_count": 7,
   "id": "illegal-greece",
   "metadata": {
    "execution": {
     "iopub.execute_input": "2021-06-08T02:52:07.381952Z",
     "iopub.status.busy": "2021-06-08T02:52:07.381445Z",
     "iopub.status.idle": "2021-06-08T02:52:07.384519Z",
     "shell.execute_reply": "2021-06-08T02:52:07.384105Z"
    },
    "papermill": {
     "duration": 0.01719,
     "end_time": "2021-06-08T02:52:07.384611",
     "exception": false,
     "start_time": "2021-06-08T02:52:07.367421",
     "status": "completed"
    },
    "tags": []
   },
   "outputs": [
    {
     "data": {
      "text/markdown": [
       "- Record $141M outflow from Bitcoin products signals institutions are bearish on BTC: CoinShares.   Institutional investors withdrew a record $141 million from Bitcoin investment products this past week.  ... [| Skaityti daugiau](https://cointelegraph.com/news/record-141m-outflow-from-bitcoin-products-signals-institutions-are-bearish-on-btc-coinshares) "
      ],
      "text/plain": [
       "<IPython.core.display.Markdown object>"
      ]
     },
     "execution_count": 7,
     "metadata": {},
     "output_type": "execute_result"
    }
   ],
   "source": [
    "#hide_input\n",
    "#md('##### {}'.format(titleBTC)) \n",
    "md(\"- {}{} {}{} [| Skaityti daugiau]({}) \".format(eth['title'],'. ', eth['body'], ' ...', eth['url']))"
   ]
  },
  {
   "cell_type": "code",
   "execution_count": 8,
   "id": "sublime-lounge",
   "metadata": {
    "execution": {
     "iopub.execute_input": "2021-06-08T02:52:07.410244Z",
     "iopub.status.busy": "2021-06-08T02:52:07.409755Z",
     "iopub.status.idle": "2021-06-08T02:52:07.412459Z",
     "shell.execute_reply": "2021-06-08T02:52:07.412850Z"
    },
    "papermill": {
     "duration": 0.017579,
     "end_time": "2021-06-08T02:52:07.412954",
     "exception": false,
     "start_time": "2021-06-08T02:52:07.395375",
     "status": "completed"
    },
    "tags": []
   },
   "outputs": [
    {
     "data": {
      "text/markdown": [
       "- XRP, Dogecoin, Cardano Price Analysis: 07 June.  Volatility remained low in the XRP market for short-term price swings. Dogecoin traded within a descending triangle and lay vulnerable to a 20% retracement. Finally, Cardano could see a surge to $1.85 and a successful breakout would initiate a rally. XRP On the 4-hour timeframe, XRP&#8217;s 20-SMA (red) and 50-SMA (yellow) moved above the candlesticks [&#8230;] ... [| Skaityti daugiau](https://ambcrypto.com/xrp-dogecoin-cardano-price-analysis-07-june/) "
      ],
      "text/plain": [
       "<IPython.core.display.Markdown object>"
      ]
     },
     "execution_count": 8,
     "metadata": {},
     "output_type": "execute_result"
    }
   ],
   "source": [
    "#hide_input\n",
    "#md('##### {}'.format(titleBTC)) \n",
    "md(\"- {}{} {}{} [| Skaityti daugiau]({}) \".format(ada['title'],'. ', ada['body'], ' ...', ada['url']))"
   ]
  },
  {
   "cell_type": "code",
   "execution_count": 9,
   "id": "specified-ordering",
   "metadata": {
    "execution": {
     "iopub.execute_input": "2021-06-08T02:52:07.439211Z",
     "iopub.status.busy": "2021-06-08T02:52:07.438727Z",
     "iopub.status.idle": "2021-06-08T02:52:07.441861Z",
     "shell.execute_reply": "2021-06-08T02:52:07.441449Z"
    },
    "papermill": {
     "duration": 0.017963,
     "end_time": "2021-06-08T02:52:07.441959",
     "exception": false,
     "start_time": "2021-06-08T02:52:07.423996",
     "status": "completed"
    },
    "tags": []
   },
   "outputs": [
    {
     "data": {
      "text/markdown": [
       "- South Korea To Ban Exchange Insiders from Trading on Own Platforms.  The top South Korean financial regulator is set to launch a fines system for insider trading, and will move to block exchange staff from using their own platforms to perform crypto trades.Per Chosun, the regulatory Financial Services Commission (FSC) is “pushing” the government to accept its plan to impose fines of up to USD 90,000 for violations, as well ... [| Skaityti daugiau](https://cryptonews.com/news/south-korea-to-ban-exchange-insiders-from-trading-on-own-pla-10590.htm) "
      ],
      "text/plain": [
       "<IPython.core.display.Markdown object>"
      ]
     },
     "execution_count": 9,
     "metadata": {},
     "output_type": "execute_result"
    }
   ],
   "source": [
    "#hide_input\n",
    "#md('##### {}'.format(titleBTC)) \n",
    "md(\"- {}{} {}{} [| Skaityti daugiau]({}) \".format(exchange['title'],'. ', exchange['body'], ' ...', exchange['url']))"
   ]
  },
  {
   "cell_type": "code",
   "execution_count": null,
   "id": "tender-livestock",
   "metadata": {
    "papermill": {
     "duration": 0.011283,
     "end_time": "2021-06-08T02:52:07.464557",
     "exception": false,
     "start_time": "2021-06-08T02:52:07.453274",
     "status": "completed"
    },
    "tags": []
   },
   "outputs": [],
   "source": []
  },
  {
   "cell_type": "code",
   "execution_count": null,
   "id": "appreciated-diamond",
   "metadata": {
    "papermill": {
     "duration": 0.011226,
     "end_time": "2021-06-08T02:52:07.487237",
     "exception": false,
     "start_time": "2021-06-08T02:52:07.476011",
     "status": "completed"
    },
    "tags": []
   },
   "outputs": [],
   "source": []
  },
  {
   "cell_type": "code",
   "execution_count": null,
   "id": "romance-sweden",
   "metadata": {
    "papermill": {
     "duration": 0.011295,
     "end_time": "2021-06-08T02:52:07.509825",
     "exception": false,
     "start_time": "2021-06-08T02:52:07.498530",
     "status": "completed"
    },
    "tags": []
   },
   "outputs": [],
   "source": []
  },
  {
   "cell_type": "code",
   "execution_count": null,
   "id": "dietary-statistics",
   "metadata": {
    "papermill": {
     "duration": 0.011296,
     "end_time": "2021-06-08T02:52:07.532477",
     "exception": false,
     "start_time": "2021-06-08T02:52:07.521181",
     "status": "completed"
    },
    "tags": []
   },
   "outputs": [],
   "source": []
  }
 ],
 "metadata": {
  "kernelspec": {
   "display_name": "Python 3",
   "language": "python",
   "name": "python3"
  },
  "language_info": {
   "codemirror_mode": {
    "name": "ipython",
    "version": 3
   },
   "file_extension": ".py",
   "mimetype": "text/x-python",
   "name": "python",
   "nbconvert_exporter": "python",
   "pygments_lexer": "ipython3",
   "version": "3.6.13"
  },
  "papermill": {
   "default_parameters": {},
   "duration": 11.907363,
   "end_time": "2021-06-08T02:52:07.951151",
   "environment_variables": {},
   "exception": null,
   "input_path": "Market-News.ipynb",
   "output_path": "Market-News.ipynb",
   "parameters": {},
   "start_time": "2021-06-08T02:51:56.043788",
   "version": "2.2.2"
  }
 },
 "nbformat": 4,
 "nbformat_minor": 5
}