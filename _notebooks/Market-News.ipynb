{
 "cells": [
  {
   "cell_type": "markdown",
   "metadata": {
    "papermill": {
     "duration": 0.014475,
     "end_time": "2021-01-07T12:11:01.748806",
     "exception": false,
     "start_time": "2021-01-07T12:11:01.734331",
     "status": "completed"
    },
    "tags": []
   },
   "source": [
    "# Kriptovaliutų naujienos"
   ]
  },
  {
   "cell_type": "code",
   "execution_count": 1,
   "metadata": {
    "execution": {
     "iopub.execute_input": "2021-01-07T12:11:01.776666Z",
     "iopub.status.busy": "2021-01-07T12:11:01.776090Z",
     "iopub.status.idle": "2021-01-07T12:11:03.073579Z",
     "shell.execute_reply": "2021-01-07T12:11:03.072695Z"
    },
    "papermill": {
     "duration": 1.316438,
     "end_time": "2021-01-07T12:11:03.073816",
     "exception": false,
     "start_time": "2021-01-07T12:11:01.757378",
     "status": "completed"
    },
    "tags": []
   },
   "outputs": [],
   "source": [
    "#hide_input\n",
    "import warnings\n",
    "warnings.filterwarnings('ignore')\n",
    "from scripts.read_data import read_api\n",
    "from scripts.read_data import read_news\n",
    "from scripts.read_data import read_covid\n",
    "import matplotlib.pyplot as plt \n",
    "from IPython.display import Markdown as md"
   ]
  },
  {
   "cell_type": "code",
   "execution_count": 2,
   "metadata": {
    "execution": {
     "iopub.execute_input": "2021-01-07T12:11:03.097241Z",
     "iopub.status.busy": "2021-01-07T12:11:03.096650Z",
     "iopub.status.idle": "2021-01-07T12:11:11.112658Z",
     "shell.execute_reply": "2021-01-07T12:11:11.111506Z"
    },
    "papermill": {
     "duration": 8.03005,
     "end_time": "2021-01-07T12:11:11.112807",
     "exception": false,
     "start_time": "2021-01-07T12:11:03.082757",
     "status": "completed"
    },
    "tags": []
   },
   "outputs": [],
   "source": [
    "#hide_input\n",
    "blockchain = read_news('blockchain') \n",
    "btc = read_news('btc') \n",
    "xrp = read_news('xrp') \n",
    "trx = read_news('trx') \n",
    "eth = read_news('eth')  \n",
    "ada = read_news('ada')\n",
    "exchange = read_news('exchange') "
   ]
  },
  {
   "cell_type": "code",
   "execution_count": 3,
   "metadata": {
    "execution": {
     "iopub.execute_input": "2021-01-07T12:11:11.135952Z",
     "iopub.status.busy": "2021-01-07T12:11:11.135129Z",
     "iopub.status.idle": "2021-01-07T12:11:11.140336Z",
     "shell.execute_reply": "2021-01-07T12:11:11.139839Z"
    },
    "papermill": {
     "duration": 0.019481,
     "end_time": "2021-01-07T12:11:11.140473",
     "exception": false,
     "start_time": "2021-01-07T12:11:11.120992",
     "status": "completed"
    },
    "tags": []
   },
   "outputs": [
    {
     "data": {
      "text/markdown": [
       "- Here’s What Ripple Can Do To Save XRP, According to Crypto Lawyer Steven Palley.  Ripple&#8217;s best path forward does not involve a lengthy courtroom battle with the U.S. Securities and Exchange Commission (SEC), according to a prominent crypto lawyer. Stephen Palley, a blockchain and digital currency lawyer at Anderson Kill, says the notion that the San Francisco payments firm could succeed in court and create a new legal test [&#8230;]The post Here&#8217;s What Ripple Can Do To Save XRP, According to Crypto Lawyer Steven Palley appeared first on The Daily Hodl. ... [| Skaityti daugiau](https://dailyhodl.com/2021/01/07/heres-what-ripple-can-do-to-save-xrp-according-to-crypto-lawyer-steven-palley/) "
      ],
      "text/plain": [
       "<IPython.core.display.Markdown object>"
      ]
     },
     "execution_count": 3,
     "metadata": {},
     "output_type": "execute_result"
    }
   ],
   "source": [
    "#hide_input\n",
    "#md('##### {}'.format(titleBTC)) \n",
    "md(\"- {}{} {}{} [| Skaityti daugiau]({}) \".format(blockchain['title'],'. ', blockchain['body'], ' ...', blockchain['url']))"
   ]
  },
  {
   "cell_type": "code",
   "execution_count": 4,
   "metadata": {
    "execution": {
     "iopub.execute_input": "2021-01-07T12:11:11.164158Z",
     "iopub.status.busy": "2021-01-07T12:11:11.163539Z",
     "iopub.status.idle": "2021-01-07T12:11:11.166865Z",
     "shell.execute_reply": "2021-01-07T12:11:11.167406Z"
    },
    "papermill": {
     "duration": 0.018424,
     "end_time": "2021-01-07T12:11:11.167544",
     "exception": false,
     "start_time": "2021-01-07T12:11:11.149120",
     "status": "completed"
    },
    "tags": []
   },
   "outputs": [
    {
     "data": {
      "text/markdown": [
       "- Ripple’s XRP Swells 40% Despite Delisting Woes; Dead Cat Bounce?.  Ripple&#8217;s native token XRP was among the best performers in the cryptocurrency space even as its delisting across exchanges picked momentum. The XRP/USD exchange rate surged by more than 40 percent on a 24-hour adjusted timeframe, hitting an intraday high of $0.328. Measured from its bottom of $0.17 from December 30, the pair was trading [&#8230;] ... [| Skaityti daugiau](https://www.newsbtc.com/news/bitcoin/ripples-xrp-swells-40-despite-delisting-woes-dead-cat-bounce/) "
      ],
      "text/plain": [
       "<IPython.core.display.Markdown object>"
      ]
     },
     "execution_count": 4,
     "metadata": {},
     "output_type": "execute_result"
    }
   ],
   "source": [
    "#hide_input\n",
    "#md('##### {}'.format(titleBTC)) \n",
    "md(\"- {}{} {}{} [| Skaityti daugiau]({}) \".format(btc['title'],'. ', btc['body'], ' ...', btc['url']))"
   ]
  },
  {
   "cell_type": "code",
   "execution_count": 5,
   "metadata": {
    "execution": {
     "iopub.execute_input": "2021-01-07T12:11:11.189782Z",
     "iopub.status.busy": "2021-01-07T12:11:11.189178Z",
     "iopub.status.idle": "2021-01-07T12:11:11.192528Z",
     "shell.execute_reply": "2021-01-07T12:11:11.192013Z"
    },
    "papermill": {
     "duration": 0.0163,
     "end_time": "2021-01-07T12:11:11.192653",
     "exception": false,
     "start_time": "2021-01-07T12:11:11.176353",
     "status": "completed"
    },
    "tags": []
   },
   "outputs": [
    {
     "data": {
      "text/markdown": [
       "- Here’s What Ripple Can Do To Save XRP, According to Crypto Lawyer Steven Palley.  Ripple&#8217;s best path forward does not involve a lengthy courtroom battle with the U.S. Securities and Exchange Commission (SEC), according to a prominent crypto lawyer. Stephen Palley, a blockchain and digital currency lawyer at Anderson Kill, says the notion that the San Francisco payments firm could succeed in court and create a new legal test [&#8230;]The post Here&#8217;s What Ripple Can Do To Save XRP, According to Crypto Lawyer Steven Palley appeared first on The Daily Hodl. ... [| Skaityti daugiau](https://dailyhodl.com/2021/01/07/heres-what-ripple-can-do-to-save-xrp-according-to-crypto-lawyer-steven-palley/) "
      ],
      "text/plain": [
       "<IPython.core.display.Markdown object>"
      ]
     },
     "execution_count": 5,
     "metadata": {},
     "output_type": "execute_result"
    }
   ],
   "source": [
    "#hide_input\n",
    "#md('##### {}'.format(titleBTC)) \n",
    "md(\"- {}{} {}{} [| Skaityti daugiau]({}) \".format(xrp['title'],'. ', xrp['body'], ' ...', xrp['url']))"
   ]
  },
  {
   "cell_type": "code",
   "execution_count": 6,
   "metadata": {
    "execution": {
     "iopub.execute_input": "2021-01-07T12:11:11.215692Z",
     "iopub.status.busy": "2021-01-07T12:11:11.215097Z",
     "iopub.status.idle": "2021-01-07T12:11:11.220932Z",
     "shell.execute_reply": "2021-01-07T12:11:11.220364Z"
    },
    "papermill": {
     "duration": 0.020141,
     "end_time": "2021-01-07T12:11:11.221060",
     "exception": false,
     "start_time": "2021-01-07T12:11:11.200919",
     "status": "completed"
    },
    "tags": []
   },
   "outputs": [
    {
     "data": {
      "text/markdown": [
       "- XRP, Tron, Zcash Price Analysis: 07 January.  XRP appeared to have reversed its month-long downtrend, but since many exchanges are set on delisting the cryptocurrency over the next few weeks, some selling pressure may be incoming. Tron registered a sharp move to the upside and tested the resistance at $0.03, while Zcash noted consistent selling and was unlikely to rise past $71. [&#8230;] ... [| Skaityti daugiau](https://ambcrypto.com/xrp-tron-zcash-price-analysis-07-january/) "
      ],
      "text/plain": [
       "<IPython.core.display.Markdown object>"
      ]
     },
     "execution_count": 6,
     "metadata": {},
     "output_type": "execute_result"
    }
   ],
   "source": [
    "#hide_input\n",
    "#md('##### {}'.format(titleBTC)) \n",
    "md(\"- {}{} {}{} [| Skaityti daugiau]({}) \".format(trx['title'],'. ', trx['body'], ' ...', trx['url']))"
   ]
  },
  {
   "cell_type": "code",
   "execution_count": 7,
   "metadata": {
    "execution": {
     "iopub.execute_input": "2021-01-07T12:11:11.244737Z",
     "iopub.status.busy": "2021-01-07T12:11:11.244162Z",
     "iopub.status.idle": "2021-01-07T12:11:11.246919Z",
     "shell.execute_reply": "2021-01-07T12:11:11.247425Z"
    },
    "papermill": {
     "duration": 0.016797,
     "end_time": "2021-01-07T12:11:11.247552",
     "exception": false,
     "start_time": "2021-01-07T12:11:11.230755",
     "status": "completed"
    },
    "tags": []
   },
   "outputs": [
    {
     "data": {
      "text/markdown": [
       "- Ethereum Nears All-Time-High...but Nobody Knows which Watershed to Aim for.  Media coverage of the latest crypto rally has largely focused on bitcoin (BTC)’s performance, with the token smashing all sorts of price records in recent weeks. But this bull market is not all about the BTC – altcoins are also having a field day, particularly bitcoin’s seemingly perpetual bridesmaid ethereum (ETH).And with ether experiencing growth of over 100% ... [| Skaityti daugiau](https://cryptonews.com/news/eth-nears-all-time-high-but-nobody-knows-which-watershed-to-8829.htm) "
      ],
      "text/plain": [
       "<IPython.core.display.Markdown object>"
      ]
     },
     "execution_count": 7,
     "metadata": {},
     "output_type": "execute_result"
    }
   ],
   "source": [
    "#hide_input\n",
    "#md('##### {}'.format(titleBTC)) \n",
    "md(\"- {}{} {}{} [| Skaityti daugiau]({}) \".format(eth['title'],'. ', eth['body'], ' ...', eth['url']))"
   ]
  },
  {
   "cell_type": "code",
   "execution_count": 8,
   "metadata": {
    "execution": {
     "iopub.execute_input": "2021-01-07T12:11:11.273771Z",
     "iopub.status.busy": "2021-01-07T12:11:11.273188Z",
     "iopub.status.idle": "2021-01-07T12:11:11.277188Z",
     "shell.execute_reply": "2021-01-07T12:11:11.277745Z"
    },
    "papermill": {
     "duration": 0.020727,
     "end_time": "2021-01-07T12:11:11.277883",
     "exception": false,
     "start_time": "2021-01-07T12:11:11.257156",
     "status": "completed"
    },
    "tags": []
   },
   "outputs": [
    {
     "data": {
      "text/markdown": [
       "- Cardano (ADA) Price Shoots up Another 30%, Is the New All-Time High Incoming!.  The post Cardano (ADA) Price Shoots up Another 30%, Is the New All-Time High Incoming! appeared first on Coinpedia - Fintech & Cryptocurreny News Media| Crypto GuideWill ADA price Hit $1? As Coinpedia reported earlier the ADA price is strongly heading towards $0.35, the price is expected to hit the target anytime from now. The massive bull rally of nearly 30 percent yet again for the second consecutive day has geared up the anticipation of forming a new all-time high very … ... [| Skaityti daugiau](https://coinpedia.org/news/cardano-ada-price-shoots-up-all-time-high/) "
      ],
      "text/plain": [
       "<IPython.core.display.Markdown object>"
      ]
     },
     "execution_count": 8,
     "metadata": {},
     "output_type": "execute_result"
    }
   ],
   "source": [
    "#hide_input\n",
    "#md('##### {}'.format(titleBTC)) \n",
    "md(\"- {}{} {}{} [| Skaityti daugiau]({}) \".format(ada['title'],'. ', ada['body'], ' ...', ada['url']))"
   ]
  },
  {
   "cell_type": "code",
   "execution_count": 9,
   "metadata": {
    "execution": {
     "iopub.execute_input": "2021-01-07T12:11:11.302884Z",
     "iopub.status.busy": "2021-01-07T12:11:11.302334Z",
     "iopub.status.idle": "2021-01-07T12:11:11.305163Z",
     "shell.execute_reply": "2021-01-07T12:11:11.305647Z"
    },
    "papermill": {
     "duration": 0.01768,
     "end_time": "2021-01-07T12:11:11.305786",
     "exception": false,
     "start_time": "2021-01-07T12:11:11.288106",
     "status": "completed"
    },
    "tags": []
   },
   "outputs": [
    {
     "data": {
      "text/markdown": [
       "- Here’s What Ripple Can Do To Save XRP, According to Crypto Lawyer Steven Palley.  Ripple&#8217;s best path forward does not involve a lengthy courtroom battle with the U.S. Securities and Exchange Commission (SEC), according to a prominent crypto lawyer. Stephen Palley, a blockchain and digital currency lawyer at Anderson Kill, says the notion that the San Francisco payments firm could succeed in court and create a new legal test [&#8230;]The post Here&#8217;s What Ripple Can Do To Save XRP, According to Crypto Lawyer Steven Palley appeared first on The Daily Hodl. ... [| Skaityti daugiau](https://dailyhodl.com/2021/01/07/heres-what-ripple-can-do-to-save-xrp-according-to-crypto-lawyer-steven-palley/) "
      ],
      "text/plain": [
       "<IPython.core.display.Markdown object>"
      ]
     },
     "execution_count": 9,
     "metadata": {},
     "output_type": "execute_result"
    }
   ],
   "source": [
    "#hide_input\n",
    "#md('##### {}'.format(titleBTC)) \n",
    "md(\"- {}{} {}{} [| Skaityti daugiau]({}) \".format(exchange['title'],'. ', exchange['body'], ' ...', exchange['url']))"
   ]
  },
  {
   "cell_type": "code",
   "execution_count": null,
   "metadata": {
    "papermill": {
     "duration": 0.009807,
     "end_time": "2021-01-07T12:11:11.326238",
     "exception": false,
     "start_time": "2021-01-07T12:11:11.316431",
     "status": "completed"
    },
    "tags": []
   },
   "outputs": [],
   "source": []
  },
  {
   "cell_type": "code",
   "execution_count": null,
   "metadata": {
    "papermill": {
     "duration": 0.009866,
     "end_time": "2021-01-07T12:11:11.345849",
     "exception": false,
     "start_time": "2021-01-07T12:11:11.335983",
     "status": "completed"
    },
    "tags": []
   },
   "outputs": [],
   "source": []
  }
 ],
 "metadata": {
  "kernelspec": {
   "display_name": "Python 3",
   "language": "python",
   "name": "python3"
  },
  "language_info": {
   "codemirror_mode": {
    "name": "ipython",
    "version": 3
   },
   "file_extension": ".py",
   "mimetype": "text/x-python",
   "name": "python",
   "nbconvert_exporter": "python",
   "pygments_lexer": "ipython3",
   "version": "3.6.12"
  },
  "papermill": {
   "default_parameters": {},
   "duration": 11.093653,
   "end_time": "2021-01-07T12:11:11.764570",
   "environment_variables": {},
   "exception": null,
   "input_path": "Market-News.ipynb",
   "output_path": "Market-News.ipynb",
   "parameters": {},
   "start_time": "2021-01-07T12:11:00.670917",
   "version": "2.2.2"
  }
 },
 "nbformat": 4,
 "nbformat_minor": 4
}