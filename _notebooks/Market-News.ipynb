{
 "cells": [
  {
   "cell_type": "markdown",
   "id": "short-greensboro",
   "metadata": {
    "papermill": {
     "duration": 0.014261,
     "end_time": "2021-04-30T02:09:30.976021",
     "exception": false,
     "start_time": "2021-04-30T02:09:30.961760",
     "status": "completed"
    },
    "tags": []
   },
   "source": [
    "# Kriptovaliutų naujienos"
   ]
  },
  {
   "cell_type": "code",
   "execution_count": 1,
   "id": "functioning-knowing",
   "metadata": {
    "execution": {
     "iopub.execute_input": "2021-04-30T02:09:31.007384Z",
     "iopub.status.busy": "2021-04-30T02:09:31.006726Z",
     "iopub.status.idle": "2021-04-30T02:09:32.285377Z",
     "shell.execute_reply": "2021-04-30T02:09:32.285928Z"
    },
    "papermill": {
     "duration": 1.299115,
     "end_time": "2021-04-30T02:09:32.286094",
     "exception": false,
     "start_time": "2021-04-30T02:09:30.986979",
     "status": "completed"
    },
    "tags": []
   },
   "outputs": [],
   "source": [
    "#hide_input\n",
    "import warnings\n",
    "warnings.filterwarnings('ignore')\n",
    "from scripts.read_data import read_api\n",
    "from scripts.read_data import read_news\n",
    "from scripts.read_data import read_covid\n",
    "import matplotlib.pyplot as plt \n",
    "from IPython.display import Markdown as md"
   ]
  },
  {
   "cell_type": "code",
   "execution_count": 2,
   "id": "shared-acceptance",
   "metadata": {
    "execution": {
     "iopub.execute_input": "2021-04-30T02:09:32.313987Z",
     "iopub.status.busy": "2021-04-30T02:09:32.312977Z",
     "iopub.status.idle": "2021-04-30T02:09:41.991448Z",
     "shell.execute_reply": "2021-04-30T02:09:41.991948Z"
    },
    "papermill": {
     "duration": 9.695094,
     "end_time": "2021-04-30T02:09:41.992110",
     "exception": false,
     "start_time": "2021-04-30T02:09:32.297016",
     "status": "completed"
    },
    "tags": []
   },
   "outputs": [],
   "source": [
    "#hide_input\n",
    "blockchain = read_news('blockchain') \n",
    "btc = read_news('btc') \n",
    "xrp = read_news('xrp') \n",
    "trx = read_news('trx') \n",
    "eth = read_news('eth')  \n",
    "ada = read_news('ada')\n",
    "exchange = read_news('exchange') "
   ]
  },
  {
   "cell_type": "code",
   "execution_count": 3,
   "id": "synthetic-notion",
   "metadata": {
    "execution": {
     "iopub.execute_input": "2021-04-30T02:09:42.021414Z",
     "iopub.status.busy": "2021-04-30T02:09:42.020732Z",
     "iopub.status.idle": "2021-04-30T02:09:42.026755Z",
     "shell.execute_reply": "2021-04-30T02:09:42.027209Z"
    },
    "papermill": {
     "duration": 0.024162,
     "end_time": "2021-04-30T02:09:42.027335",
     "exception": false,
     "start_time": "2021-04-30T02:09:42.003173",
     "status": "completed"
    },
    "tags": []
   },
   "outputs": [
    {
     "data": {
      "text/markdown": [
       "- Wisebitcoin Deploys Aggregate Trading With KSM/USDT Listing.  Crypto exchange Wisebitcoin has listed KSM on its trading platform as an aggregate trading pair with USDT. The token is native to Kusama, a scalable, multi-chain blockchain network. The fast-growing cryptocurrency exchange noted that KSM/USDT is an aggregated trading pair and that deposits and withdrawals will not be supported. The listing showcases Wisebitcoin’s aggregate trading [&#8230;]The post Wisebitcoin Deploys Aggregate Trading With KSM/USDT Listing appeared first on The Daily Hodl. ... [| Skaityti daugiau](https://dailyhodl.com/2021/04/29/wisebitcoin-deploys-aggregate-trading-with-ksm-usdt-listing/) "
      ],
      "text/plain": [
       "<IPython.core.display.Markdown object>"
      ]
     },
     "execution_count": 3,
     "metadata": {},
     "output_type": "execute_result"
    }
   ],
   "source": [
    "#hide_input\n",
    "#md('##### {}'.format(titleBTC)) \n",
    "md(\"- {}{} {}{} [| Skaityti daugiau]({}) \".format(blockchain['title'],'. ', blockchain['body'], ' ...', blockchain['url']))"
   ]
  },
  {
   "cell_type": "code",
   "execution_count": 4,
   "id": "aging-caution",
   "metadata": {
    "execution": {
     "iopub.execute_input": "2021-04-30T02:09:42.055007Z",
     "iopub.status.busy": "2021-04-30T02:09:42.054280Z",
     "iopub.status.idle": "2021-04-30T02:09:42.057880Z",
     "shell.execute_reply": "2021-04-30T02:09:42.058452Z"
    },
    "papermill": {
     "duration": 0.019718,
     "end_time": "2021-04-30T02:09:42.058577",
     "exception": false,
     "start_time": "2021-04-30T02:09:42.038859",
     "status": "completed"
    },
    "tags": []
   },
   "outputs": [
    {
     "data": {
      "text/markdown": [
       "- Treasure Hunter Finds Long-Lost Box with $46K. Guess What Devaluation Did.  The host of the YouTube show “Rediscover Lost,” Keith Wille, performed a miracle for a family in Massachusetts. He found $46.000 hidden in the attic since the fifties. Back then, it was the equivalent of $421.603 today. That means it lost approximately 90% of its purchasing power. Devaluation is devastating. What does this say about [&#8230;] ... [| Skaityti daugiau](https://bitcoinist.com/treasure-hunter-finds-long-lost-box-with-46k-guess-what-devaluation-did/?utm_source=rss&utm_medium=rss&utm_campaign=treasure-hunter-finds-long-lost-box-with-46k-guess-what-devaluation-did) "
      ],
      "text/plain": [
       "<IPython.core.display.Markdown object>"
      ]
     },
     "execution_count": 4,
     "metadata": {},
     "output_type": "execute_result"
    }
   ],
   "source": [
    "#hide_input\n",
    "#md('##### {}'.format(titleBTC)) \n",
    "md(\"- {}{} {}{} [| Skaityti daugiau]({}) \".format(btc['title'],'. ', btc['body'], ' ...', btc['url']))"
   ]
  },
  {
   "cell_type": "code",
   "execution_count": 5,
   "id": "organic-actress",
   "metadata": {
    "execution": {
     "iopub.execute_input": "2021-04-30T02:09:42.087867Z",
     "iopub.status.busy": "2021-04-30T02:09:42.087260Z",
     "iopub.status.idle": "2021-04-30T02:09:42.090016Z",
     "shell.execute_reply": "2021-04-30T02:09:42.090506Z"
    },
    "papermill": {
     "duration": 0.020047,
     "end_time": "2021-04-30T02:09:42.090653",
     "exception": false,
     "start_time": "2021-04-30T02:09:42.070606",
     "status": "completed"
    },
    "tags": []
   },
   "outputs": [
    {
     "data": {
      "text/markdown": [
       "- XRP, Litecoin, Dogecoin Price Analysis: 29 April.  The altcoin market has been able to hold on to its bullish momentum, taking into consideration the volatility present in the Ethereum market. XRP has been one such alt that witnessed 46% growth in the past three days. Meanwhile, Bitcoin&#8217;s bearish volatility has forced other alts to consolidate. XRP The XRP chart showed the asset&#8217;s [&#8230;] ... [| Skaityti daugiau](https://ambcrypto.com/xrp-litecoin-dogecoin-price-analysis-29-april/) "
      ],
      "text/plain": [
       "<IPython.core.display.Markdown object>"
      ]
     },
     "execution_count": 5,
     "metadata": {},
     "output_type": "execute_result"
    }
   ],
   "source": [
    "#hide_input\n",
    "#md('##### {}'.format(titleBTC)) \n",
    "md(\"- {}{} {}{} [| Skaityti daugiau]({}) \".format(xrp['title'],'. ', xrp['body'], ' ...', xrp['url']))"
   ]
  },
  {
   "cell_type": "code",
   "execution_count": 6,
   "id": "prompt-farmer",
   "metadata": {
    "execution": {
     "iopub.execute_input": "2021-04-30T02:09:42.121509Z",
     "iopub.status.busy": "2021-04-30T02:09:42.120620Z",
     "iopub.status.idle": "2021-04-30T02:09:42.126909Z",
     "shell.execute_reply": "2021-04-30T02:09:42.126285Z"
    },
    "papermill": {
     "duration": 0.023842,
     "end_time": "2021-04-30T02:09:42.127023",
     "exception": false,
     "start_time": "2021-04-30T02:09:42.103181",
     "status": "completed"
    },
    "tags": []
   },
   "outputs": [
    {
     "data": {
      "text/markdown": [
       "- Tron (TRX) Price Analysis: Bulls Aim Fresh Increase Above $0.135.  Tron price started a fresh increase from the $0.092 support zone against the US Dollar. TRX price is now trading above the $0.1100 support and the 55 simple moving average (4-hours). There was a break above a key bearish trend line with resistance near $0.1100 on the 4-hours chart (data feed via Bitfinex). The pair...The post Tron (TRX) Price Analysis: Bulls Aim Fresh Increase Above $0.135 appeared first on Live Bitcoin News. ... [| Skaityti daugiau](https://www.livebitcoinnews.com/tron-trx-price-analysis-bulls-aim-fresh-increase-above-0-135/) "
      ],
      "text/plain": [
       "<IPython.core.display.Markdown object>"
      ]
     },
     "execution_count": 6,
     "metadata": {},
     "output_type": "execute_result"
    }
   ],
   "source": [
    "#hide_input\n",
    "#md('##### {}'.format(titleBTC)) \n",
    "md(\"- {}{} {}{} [| Skaityti daugiau]({}) \".format(trx['title'],'. ', trx['body'], ' ...', trx['url']))"
   ]
  },
  {
   "cell_type": "code",
   "execution_count": 7,
   "id": "illegal-greece",
   "metadata": {
    "execution": {
     "iopub.execute_input": "2021-04-30T02:09:42.157057Z",
     "iopub.status.busy": "2021-04-30T02:09:42.156356Z",
     "iopub.status.idle": "2021-04-30T02:09:42.158930Z",
     "shell.execute_reply": "2021-04-30T02:09:42.159378Z"
    },
    "papermill": {
     "duration": 0.019822,
     "end_time": "2021-04-30T02:09:42.159504",
     "exception": false,
     "start_time": "2021-04-30T02:09:42.139682",
     "status": "completed"
    },
    "tags": []
   },
   "outputs": [
    {
     "data": {
      "text/markdown": [
       "- As Bitcoin Continues To Slump, Ethereum Seems Unstoppable.  Bitcoin is struggling to sustain above the $53,000 support for the past 3 days. As the king cryptocurrency price slumped, Ethereum picked up its pace, surging to a new all-time high of $2,800. Ethereum Appears Unstoppable It appears that the European Investment Bank&#8217;s launch of a &#8220;digital bond&#8221; sale using the Ethereum network, has boosted [&#8230;] ... [| Skaityti daugiau](https://www.newsbtc.com/news/as-bitcoin-continues-to-slump-ethereum-seems-unstoppable/) "
      ],
      "text/plain": [
       "<IPython.core.display.Markdown object>"
      ]
     },
     "execution_count": 7,
     "metadata": {},
     "output_type": "execute_result"
    }
   ],
   "source": [
    "#hide_input\n",
    "#md('##### {}'.format(titleBTC)) \n",
    "md(\"- {}{} {}{} [| Skaityti daugiau]({}) \".format(eth['title'],'. ', eth['body'], ' ...', eth['url']))"
   ]
  },
  {
   "cell_type": "code",
   "execution_count": 8,
   "id": "sublime-lounge",
   "metadata": {
    "execution": {
     "iopub.execute_input": "2021-04-30T02:09:42.188878Z",
     "iopub.status.busy": "2021-04-30T02:09:42.188260Z",
     "iopub.status.idle": "2021-04-30T02:09:42.194013Z",
     "shell.execute_reply": "2021-04-30T02:09:42.193533Z"
    },
    "papermill": {
     "duration": 0.021964,
     "end_time": "2021-04-30T02:09:42.194122",
     "exception": false,
     "start_time": "2021-04-30T02:09:42.172158",
     "status": "completed"
    },
    "tags": []
   },
   "outputs": [
    {
     "data": {
      "text/markdown": [
       "- As Bitcoin Continues To Slump, Ethereum Seems Unstoppable.  Bitcoin is struggling to sustain above the $53,000 support for the past 3 days. As the king cryptocurrency price slumped, Ethereum picked up its pace, surging to a new all-time high of $2,800. Ethereum Appears Unstoppable It appears that the European Investment Bank&#8217;s launch of a &#8220;digital bond&#8221; sale using the Ethereum network, has boosted [&#8230;] ... [| Skaityti daugiau](https://www.newsbtc.com/news/as-bitcoin-continues-to-slump-ethereum-seems-unstoppable/) "
      ],
      "text/plain": [
       "<IPython.core.display.Markdown object>"
      ]
     },
     "execution_count": 8,
     "metadata": {},
     "output_type": "execute_result"
    }
   ],
   "source": [
    "#hide_input\n",
    "#md('##### {}'.format(titleBTC)) \n",
    "md(\"- {}{} {}{} [| Skaityti daugiau]({}) \".format(ada['title'],'. ', ada['body'], ' ...', ada['url']))"
   ]
  },
  {
   "cell_type": "code",
   "execution_count": 9,
   "id": "specified-ordering",
   "metadata": {
    "execution": {
     "iopub.execute_input": "2021-04-30T02:09:42.226034Z",
     "iopub.status.busy": "2021-04-30T02:09:42.224932Z",
     "iopub.status.idle": "2021-04-30T02:09:42.229004Z",
     "shell.execute_reply": "2021-04-30T02:09:42.229497Z"
    },
    "papermill": {
     "duration": 0.021718,
     "end_time": "2021-04-30T02:09:42.229612",
     "exception": false,
     "start_time": "2021-04-30T02:09:42.207894",
     "status": "completed"
    },
    "tags": []
   },
   "outputs": [
    {
     "data": {
      "text/markdown": [
       "- Strong on-chain metrics suggest further upside for Binance Coin (BNB).  Binance Coin (BNB) has strengthened its market capitalization to position itself as one of the world’s largest cryptocurrencies. The post Strong on-chain metrics suggest further upside for Binance Coin (BNB)  appeared first on CryptoSlate. ... [| Skaityti daugiau](https://cryptoslate.com/strong-on-chain-metrics-suggest-further-upside-for-binance-coin-bnb/) "
      ],
      "text/plain": [
       "<IPython.core.display.Markdown object>"
      ]
     },
     "execution_count": 9,
     "metadata": {},
     "output_type": "execute_result"
    }
   ],
   "source": [
    "#hide_input\n",
    "#md('##### {}'.format(titleBTC)) \n",
    "md(\"- {}{} {}{} [| Skaityti daugiau]({}) \".format(exchange['title'],'. ', exchange['body'], ' ...', exchange['url']))"
   ]
  },
  {
   "cell_type": "code",
   "execution_count": null,
   "id": "tender-livestock",
   "metadata": {
    "papermill": {
     "duration": 0.014064,
     "end_time": "2021-04-30T02:09:42.257641",
     "exception": false,
     "start_time": "2021-04-30T02:09:42.243577",
     "status": "completed"
    },
    "tags": []
   },
   "outputs": [],
   "source": []
  },
  {
   "cell_type": "code",
   "execution_count": null,
   "id": "appreciated-diamond",
   "metadata": {
    "papermill": {
     "duration": 0.014207,
     "end_time": "2021-04-30T02:09:42.285928",
     "exception": false,
     "start_time": "2021-04-30T02:09:42.271721",
     "status": "completed"
    },
    "tags": []
   },
   "outputs": [],
   "source": []
  },
  {
   "cell_type": "code",
   "execution_count": null,
   "id": "romance-sweden",
   "metadata": {
    "papermill": {
     "duration": 0.01358,
     "end_time": "2021-04-30T02:09:42.312209",
     "exception": false,
     "start_time": "2021-04-30T02:09:42.298629",
     "status": "completed"
    },
    "tags": []
   },
   "outputs": [],
   "source": []
  },
  {
   "cell_type": "code",
   "execution_count": null,
   "id": "dietary-statistics",
   "metadata": {
    "papermill": {
     "duration": 0.012546,
     "end_time": "2021-04-30T02:09:42.338462",
     "exception": false,
     "start_time": "2021-04-30T02:09:42.325916",
     "status": "completed"
    },
    "tags": []
   },
   "outputs": [],
   "source": []
  }
 ],
 "metadata": {
  "kernelspec": {
   "display_name": "Python 3",
   "language": "python",
   "name": "python3"
  },
  "language_info": {
   "codemirror_mode": {
    "name": "ipython",
    "version": 3
   },
   "file_extension": ".py",
   "mimetype": "text/x-python",
   "name": "python",
   "nbconvert_exporter": "python",
   "pygments_lexer": "ipython3",
   "version": "3.6.13"
  },
  "papermill": {
   "default_parameters": {},
   "duration": 12.863123,
   "end_time": "2021-04-30T02:09:42.760906",
   "environment_variables": {},
   "exception": null,
   "input_path": "Market-News.ipynb",
   "output_path": "Market-News.ipynb",
   "parameters": {},
   "start_time": "2021-04-30T02:09:29.897783",
   "version": "2.2.2"
  }
 },
 "nbformat": 4,
 "nbformat_minor": 5
}