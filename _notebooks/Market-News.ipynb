{
 "cells": [
  {
   "cell_type": "markdown",
   "id": "short-greensboro",
   "metadata": {
    "papermill": {
     "duration": 0.015729,
     "end_time": "2021-04-16T02:09:53.772699",
     "exception": false,
     "start_time": "2021-04-16T02:09:53.756970",
     "status": "completed"
    },
    "tags": []
   },
   "source": [
    "# Kriptovaliutų naujienos"
   ]
  },
  {
   "cell_type": "code",
   "execution_count": 1,
   "id": "functioning-knowing",
   "metadata": {
    "execution": {
     "iopub.execute_input": "2021-04-16T02:09:53.807180Z",
     "iopub.status.busy": "2021-04-16T02:09:53.806566Z",
     "iopub.status.idle": "2021-04-16T02:09:55.188633Z",
     "shell.execute_reply": "2021-04-16T02:09:55.188056Z"
    },
    "papermill": {
     "duration": 1.403582,
     "end_time": "2021-04-16T02:09:55.188786",
     "exception": false,
     "start_time": "2021-04-16T02:09:53.785204",
     "status": "completed"
    },
    "tags": []
   },
   "outputs": [],
   "source": [
    "#hide_input\n",
    "import warnings\n",
    "warnings.filterwarnings('ignore')\n",
    "from scripts.read_data import read_api\n",
    "from scripts.read_data import read_news\n",
    "from scripts.read_data import read_covid\n",
    "import matplotlib.pyplot as plt \n",
    "from IPython.display import Markdown as md"
   ]
  },
  {
   "cell_type": "code",
   "execution_count": 2,
   "id": "shared-acceptance",
   "metadata": {
    "execution": {
     "iopub.execute_input": "2021-04-16T02:09:55.221427Z",
     "iopub.status.busy": "2021-04-16T02:09:55.220626Z",
     "iopub.status.idle": "2021-04-16T02:10:05.653720Z",
     "shell.execute_reply": "2021-04-16T02:10:05.654168Z"
    },
    "papermill": {
     "duration": 10.452234,
     "end_time": "2021-04-16T02:10:05.654318",
     "exception": false,
     "start_time": "2021-04-16T02:09:55.202084",
     "status": "completed"
    },
    "tags": []
   },
   "outputs": [],
   "source": [
    "#hide_input\n",
    "blockchain = read_news('blockchain') \n",
    "btc = read_news('btc') \n",
    "xrp = read_news('xrp') \n",
    "trx = read_news('trx') \n",
    "eth = read_news('eth')  \n",
    "ada = read_news('ada')\n",
    "exchange = read_news('exchange') "
   ]
  },
  {
   "cell_type": "code",
   "execution_count": 3,
   "id": "synthetic-notion",
   "metadata": {
    "execution": {
     "iopub.execute_input": "2021-04-16T02:10:05.682776Z",
     "iopub.status.busy": "2021-04-16T02:10:05.682080Z",
     "iopub.status.idle": "2021-04-16T02:10:05.684917Z",
     "shell.execute_reply": "2021-04-16T02:10:05.685421Z"
    },
    "papermill": {
     "duration": 0.020021,
     "end_time": "2021-04-16T02:10:05.685535",
     "exception": false,
     "start_time": "2021-04-16T02:10:05.665514",
     "status": "completed"
    },
    "tags": []
   },
   "outputs": [
    {
     "data": {
      "text/markdown": [
       "- Our Man in Shanghai: Coinbase listing scorned, graphics cards seized, nostalgia coins rule.  Coinbase and cryptocurrencies viewed cynically on Chinese social media, and news of a large mining GPU smuggling bust in Hong Kong.  ... [| Skaityti daugiau](https://cointelegraph.com/news/our-man-in-shanghai-coinbase-listing-scorned-graphics-cards-seized-nostalgia-coins-rule) "
      ],
      "text/plain": [
       "<IPython.core.display.Markdown object>"
      ]
     },
     "execution_count": 3,
     "metadata": {},
     "output_type": "execute_result"
    }
   ],
   "source": [
    "#hide_input\n",
    "#md('##### {}'.format(titleBTC)) \n",
    "md(\"- {}{} {}{} [| Skaityti daugiau]({}) \".format(blockchain['title'],'. ', blockchain['body'], ' ...', blockchain['url']))"
   ]
  },
  {
   "cell_type": "code",
   "execution_count": 4,
   "id": "aging-caution",
   "metadata": {
    "execution": {
     "iopub.execute_input": "2021-04-16T02:10:05.716232Z",
     "iopub.status.busy": "2021-04-16T02:10:05.715546Z",
     "iopub.status.idle": "2021-04-16T02:10:05.718468Z",
     "shell.execute_reply": "2021-04-16T02:10:05.718990Z"
    },
    "papermill": {
     "duration": 0.020869,
     "end_time": "2021-04-16T02:10:05.719130",
     "exception": false,
     "start_time": "2021-04-16T02:10:05.698261",
     "status": "completed"
    },
    "tags": []
   },
   "outputs": [
    {
     "data": {
      "text/markdown": [
       "- Pakistan Firm Sold Fake KYC Docs to Russian Trolls for Bitcoin: US Treasury.  The US Treasury Department’s Office of Foreign Assets Control (OFAC) sanctioned 16 groups and 16 persons for meddling in the 2020 election. ... [| Skaityti daugiau](https://decrypt.co/66723/pakistan-firm-sold-fake-kyc-docs-russian-trolls-bitcoin-us-treasury) "
      ],
      "text/plain": [
       "<IPython.core.display.Markdown object>"
      ]
     },
     "execution_count": 4,
     "metadata": {},
     "output_type": "execute_result"
    }
   ],
   "source": [
    "#hide_input\n",
    "#md('##### {}'.format(titleBTC)) \n",
    "md(\"- {}{} {}{} [| Skaityti daugiau]({}) \".format(btc['title'],'. ', btc['body'], ' ...', btc['url']))"
   ]
  },
  {
   "cell_type": "code",
   "execution_count": 5,
   "id": "organic-actress",
   "metadata": {
    "execution": {
     "iopub.execute_input": "2021-04-16T02:10:05.748340Z",
     "iopub.status.busy": "2021-04-16T02:10:05.747627Z",
     "iopub.status.idle": "2021-04-16T02:10:05.751404Z",
     "shell.execute_reply": "2021-04-16T02:10:05.750823Z"
    },
    "papermill": {
     "duration": 0.019969,
     "end_time": "2021-04-16T02:10:05.751542",
     "exception": false,
     "start_time": "2021-04-16T02:10:05.731573",
     "status": "completed"
    },
    "tags": []
   },
   "outputs": [
    {
     "data": {
      "text/markdown": [
       "- Ripple Partners With Novatti Group on XRP Adoption.   ... [| Skaityti daugiau](https://cryptobriefing.com/ripple-partners-with-novatti-group-on-xrp-adoption/) "
      ],
      "text/plain": [
       "<IPython.core.display.Markdown object>"
      ]
     },
     "execution_count": 5,
     "metadata": {},
     "output_type": "execute_result"
    }
   ],
   "source": [
    "#hide_input\n",
    "#md('##### {}'.format(titleBTC)) \n",
    "md(\"- {}{} {}{} [| Skaityti daugiau]({}) \".format(xrp['title'],'. ', xrp['body'], ' ...', xrp['url']))"
   ]
  },
  {
   "cell_type": "code",
   "execution_count": 6,
   "id": "prompt-farmer",
   "metadata": {
    "execution": {
     "iopub.execute_input": "2021-04-16T02:10:05.782059Z",
     "iopub.status.busy": "2021-04-16T02:10:05.781414Z",
     "iopub.status.idle": "2021-04-16T02:10:05.785870Z",
     "shell.execute_reply": "2021-04-16T02:10:05.786471Z"
    },
    "papermill": {
     "duration": 0.02233,
     "end_time": "2021-04-16T02:10:05.786590",
     "exception": false,
     "start_time": "2021-04-16T02:10:05.764260",
     "status": "completed"
    },
    "tags": []
   },
   "outputs": [
    {
     "data": {
      "text/markdown": [
       "- USDT on TRON Exceeds USDT on Ethereum 729 Days After Launch.  USDT issued on Tron (TRX) has eclipsed that issued on Ethereum The milestone was achieved 729 days after TRC20-USDT was launched Justin Sun marked the milestone through Twitter by thanking the Tron community TRX has had an impressive run in the markets but a pullback could be on the horizon The amount of Tether (USDT) issued on the Tron blockchain has just exceeded that issued on Ethereum. Tron&#8217;s founder and CEO, Justin Sun, shared the milestone through the following tweet [&#8230;] ... [| Skaityti daugiau](https://en.ethereumworldnews.com/usdt-on-tron-exceeds-usdt-on-ethereum-729-days-after-launch/) "
      ],
      "text/plain": [
       "<IPython.core.display.Markdown object>"
      ]
     },
     "execution_count": 6,
     "metadata": {},
     "output_type": "execute_result"
    }
   ],
   "source": [
    "#hide_input\n",
    "#md('##### {}'.format(titleBTC)) \n",
    "md(\"- {}{} {}{} [| Skaityti daugiau]({}) \".format(trx['title'],'. ', trx['body'], ' ...', trx['url']))"
   ]
  },
  {
   "cell_type": "code",
   "execution_count": 7,
   "id": "illegal-greece",
   "metadata": {
    "execution": {
     "iopub.execute_input": "2021-04-16T02:10:05.817128Z",
     "iopub.status.busy": "2021-04-16T02:10:05.816458Z",
     "iopub.status.idle": "2021-04-16T02:10:05.819600Z",
     "shell.execute_reply": "2021-04-16T02:10:05.819087Z"
    },
    "papermill": {
     "duration": 0.021427,
     "end_time": "2021-04-16T02:10:05.819702",
     "exception": false,
     "start_time": "2021-04-16T02:10:05.798275",
     "status": "completed"
    },
    "tags": []
   },
   "outputs": [
    {
     "data": {
      "text/markdown": [
       "- Rothschild Investment Corp snaps up quarter of a million shares in Grayscale ETH Trust.  Rothschild Investment Corp, has acquired more than 250,000 shares in Grayscale’s ETH trust, and added 8000 shares to its BTC trust holdings — however the firm holds zero ties to the famed Rothschild family dynasty.  ... [| Skaityti daugiau](https://cointelegraph.com/news/rothschild-investment-corp-snaps-up-quarter-of-a-million-shares-in-grayscale-eth-trust) "
      ],
      "text/plain": [
       "<IPython.core.display.Markdown object>"
      ]
     },
     "execution_count": 7,
     "metadata": {},
     "output_type": "execute_result"
    }
   ],
   "source": [
    "#hide_input\n",
    "#md('##### {}'.format(titleBTC)) \n",
    "md(\"- {}{} {}{} [| Skaityti daugiau]({}) \".format(eth['title'],'. ', eth['body'], ' ...', eth['url']))"
   ]
  },
  {
   "cell_type": "code",
   "execution_count": 8,
   "id": "sublime-lounge",
   "metadata": {
    "execution": {
     "iopub.execute_input": "2021-04-16T02:10:05.849219Z",
     "iopub.status.busy": "2021-04-16T02:10:05.848633Z",
     "iopub.status.idle": "2021-04-16T02:10:05.851735Z",
     "shell.execute_reply": "2021-04-16T02:10:05.851180Z"
    },
    "papermill": {
     "duration": 0.020012,
     "end_time": "2021-04-16T02:10:05.851858",
     "exception": false,
     "start_time": "2021-04-16T02:10:05.831846",
     "status": "completed"
    },
    "tags": []
   },
   "outputs": [
    {
     "data": {
      "text/markdown": [
       "- Cardano Founder Spills The Beans on “Fakeness” of Silicon Valley.  Cardano founder Charles Hoskinson said he chose Wyoming to base Input Output Global (IOG), and not Silicon Valley, because of the Valley&#8217;s &#8220;unhealthy&#8221; environment. The comments dispel the notion that tech firms need Silicon Valley to &#8220;make it.&#8221; What&#8217;s more, his candid account of trying to integrate into that culture delivers a humbling that some [&#8230;] ... [| Skaityti daugiau](https://www.newsbtc.com/news/cardano/cardano-founder-spills-the-beans-on-fakeness-of-silicon-valley/) "
      ],
      "text/plain": [
       "<IPython.core.display.Markdown object>"
      ]
     },
     "execution_count": 8,
     "metadata": {},
     "output_type": "execute_result"
    }
   ],
   "source": [
    "#hide_input\n",
    "#md('##### {}'.format(titleBTC)) \n",
    "md(\"- {}{} {}{} [| Skaityti daugiau]({}) \".format(ada['title'],'. ', ada['body'], ' ...', ada['url']))"
   ]
  },
  {
   "cell_type": "code",
   "execution_count": 9,
   "id": "specified-ordering",
   "metadata": {
    "execution": {
     "iopub.execute_input": "2021-04-16T02:10:05.884155Z",
     "iopub.status.busy": "2021-04-16T02:10:05.883030Z",
     "iopub.status.idle": "2021-04-16T02:10:05.887428Z",
     "shell.execute_reply": "2021-04-16T02:10:05.886889Z"
    },
    "papermill": {
     "duration": 0.022434,
     "end_time": "2021-04-16T02:10:05.887527",
     "exception": false,
     "start_time": "2021-04-16T02:10:05.865093",
     "status": "completed"
    },
    "tags": []
   },
   "outputs": [
    {
     "data": {
      "text/markdown": [
       "- More S Korean Exchange Customers in Nervous Hunt for their Crypto.  The South Korean media is carrying more reports of crypto exchanges delaying their clients’ withdrawal requests – and in some cases failing to respond to the customers altogether as investors’ worries about the security of their funds intensify.As previously reported, crypto holders with tokens and fiat on a number of smaller trading platforms have been ... [| Skaityti daugiau](https://cryptonews.com/news/more-s-korean-exchange-customers-in-nervous-hunt-for-their-c-9929.htm) "
      ],
      "text/plain": [
       "<IPython.core.display.Markdown object>"
      ]
     },
     "execution_count": 9,
     "metadata": {},
     "output_type": "execute_result"
    }
   ],
   "source": [
    "#hide_input\n",
    "#md('##### {}'.format(titleBTC)) \n",
    "md(\"- {}{} {}{} [| Skaityti daugiau]({}) \".format(exchange['title'],'. ', exchange['body'], ' ...', exchange['url']))"
   ]
  },
  {
   "cell_type": "code",
   "execution_count": null,
   "id": "tender-livestock",
   "metadata": {
    "papermill": {
     "duration": 0.014323,
     "end_time": "2021-04-16T02:10:05.915724",
     "exception": false,
     "start_time": "2021-04-16T02:10:05.901401",
     "status": "completed"
    },
    "tags": []
   },
   "outputs": [],
   "source": []
  },
  {
   "cell_type": "code",
   "execution_count": null,
   "id": "appreciated-diamond",
   "metadata": {
    "papermill": {
     "duration": 0.01294,
     "end_time": "2021-04-16T02:10:05.942561",
     "exception": false,
     "start_time": "2021-04-16T02:10:05.929621",
     "status": "completed"
    },
    "tags": []
   },
   "outputs": [],
   "source": []
  },
  {
   "cell_type": "code",
   "execution_count": null,
   "id": "romance-sweden",
   "metadata": {
    "papermill": {
     "duration": 0.013243,
     "end_time": "2021-04-16T02:10:05.967992",
     "exception": false,
     "start_time": "2021-04-16T02:10:05.954749",
     "status": "completed"
    },
    "tags": []
   },
   "outputs": [],
   "source": []
  },
  {
   "cell_type": "code",
   "execution_count": null,
   "id": "dietary-statistics",
   "metadata": {
    "papermill": {
     "duration": 0.013685,
     "end_time": "2021-04-16T02:10:05.995118",
     "exception": false,
     "start_time": "2021-04-16T02:10:05.981433",
     "status": "completed"
    },
    "tags": []
   },
   "outputs": [],
   "source": []
  }
 ],
 "metadata": {
  "kernelspec": {
   "display_name": "Python 3",
   "language": "python",
   "name": "python3"
  },
  "language_info": {
   "codemirror_mode": {
    "name": "ipython",
    "version": 3
   },
   "file_extension": ".py",
   "mimetype": "text/x-python",
   "name": "python",
   "nbconvert_exporter": "python",
   "pygments_lexer": "ipython3",
   "version": "3.6.13"
  },
  "papermill": {
   "default_parameters": {},
   "duration": 13.937286,
   "end_time": "2021-04-16T02:10:06.417337",
   "environment_variables": {},
   "exception": null,
   "input_path": "Market-News.ipynb",
   "output_path": "Market-News.ipynb",
   "parameters": {},
   "start_time": "2021-04-16T02:09:52.480051",
   "version": "2.2.2"
  }
 },
 "nbformat": 4,
 "nbformat_minor": 5
}