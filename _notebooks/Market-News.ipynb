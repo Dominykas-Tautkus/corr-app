{
 "cells": [
  {
   "cell_type": "markdown",
   "id": "short-greensboro",
   "metadata": {
    "papermill": {
     "duration": 0.017884,
     "end_time": "2021-05-18T02:22:53.463198",
     "exception": false,
     "start_time": "2021-05-18T02:22:53.445314",
     "status": "completed"
    },
    "tags": []
   },
   "source": [
    "# Kriptovaliutų naujienos"
   ]
  },
  {
   "cell_type": "code",
   "execution_count": 1,
   "id": "functioning-knowing",
   "metadata": {
    "execution": {
     "iopub.execute_input": "2021-05-18T02:22:53.499168Z",
     "iopub.status.busy": "2021-05-18T02:22:53.498550Z",
     "iopub.status.idle": "2021-05-18T02:22:54.858903Z",
     "shell.execute_reply": "2021-05-18T02:22:54.857820Z"
    },
    "papermill": {
     "duration": 1.383734,
     "end_time": "2021-05-18T02:22:54.859206",
     "exception": false,
     "start_time": "2021-05-18T02:22:53.475472",
     "status": "completed"
    },
    "tags": []
   },
   "outputs": [],
   "source": [
    "#hide_input\n",
    "import warnings\n",
    "warnings.filterwarnings('ignore')\n",
    "from scripts.read_data import read_api\n",
    "from scripts.read_data import read_news\n",
    "from scripts.read_data import read_covid\n",
    "import matplotlib.pyplot as plt \n",
    "from IPython.display import Markdown as md"
   ]
  },
  {
   "cell_type": "code",
   "execution_count": 2,
   "id": "shared-acceptance",
   "metadata": {
    "execution": {
     "iopub.execute_input": "2021-05-18T02:22:54.887391Z",
     "iopub.status.busy": "2021-05-18T02:22:54.886597Z",
     "iopub.status.idle": "2021-05-18T02:23:10.120488Z",
     "shell.execute_reply": "2021-05-18T02:23:10.119916Z"
    },
    "papermill": {
     "duration": 15.250352,
     "end_time": "2021-05-18T02:23:10.120622",
     "exception": false,
     "start_time": "2021-05-18T02:22:54.870270",
     "status": "completed"
    },
    "tags": []
   },
   "outputs": [],
   "source": [
    "#hide_input\n",
    "blockchain = read_news('blockchain') \n",
    "btc = read_news('btc') \n",
    "xrp = read_news('xrp') \n",
    "trx = read_news('trx') \n",
    "eth = read_news('eth')  \n",
    "ada = read_news('ada')\n",
    "exchange = read_news('exchange') "
   ]
  },
  {
   "cell_type": "code",
   "execution_count": 3,
   "id": "synthetic-notion",
   "metadata": {
    "execution": {
     "iopub.execute_input": "2021-05-18T02:23:10.148951Z",
     "iopub.status.busy": "2021-05-18T02:23:10.148313Z",
     "iopub.status.idle": "2021-05-18T02:23:10.150853Z",
     "shell.execute_reply": "2021-05-18T02:23:10.151312Z"
    },
    "papermill": {
     "duration": 0.019948,
     "end_time": "2021-05-18T02:23:10.151442",
     "exception": false,
     "start_time": "2021-05-18T02:23:10.131494",
     "status": "completed"
    },
    "tags": []
   },
   "outputs": [
    {
     "data": {
      "text/markdown": [
       "- Fox to Create NFT Studio to Promote 'Rick and Morty' Creator's New Show.  Fox Entertainment is forming Blockchain Creative Labs to create NFTs based on the network's shows. ... [| Skaityti daugiau](https://decrypt.co/71205/fox-creating-nft-studio-promote-rick-and-morty-creator-new-show-krapopolis-dan-harmon) "
      ],
      "text/plain": [
       "<IPython.core.display.Markdown object>"
      ]
     },
     "execution_count": 3,
     "metadata": {},
     "output_type": "execute_result"
    }
   ],
   "source": [
    "#hide_input\n",
    "#md('##### {}'.format(titleBTC)) \n",
    "md(\"- {}{} {}{} [| Skaityti daugiau]({}) \".format(blockchain['title'],'. ', blockchain['body'], ' ...', blockchain['url']))"
   ]
  },
  {
   "cell_type": "code",
   "execution_count": 4,
   "id": "aging-caution",
   "metadata": {
    "execution": {
     "iopub.execute_input": "2021-05-18T02:23:10.181321Z",
     "iopub.status.busy": "2021-05-18T02:23:10.180729Z",
     "iopub.status.idle": "2021-05-18T02:23:10.183296Z",
     "shell.execute_reply": "2021-05-18T02:23:10.183790Z"
    },
    "papermill": {
     "duration": 0.019013,
     "end_time": "2021-05-18T02:23:10.183922",
     "exception": false,
     "start_time": "2021-05-18T02:23:10.164909",
     "status": "completed"
    },
    "tags": []
   },
   "outputs": [
    {
     "data": {
      "text/markdown": [
       "- Cardano Price Analysis: 17 May.  At a time when other altcoins were stumbling, Cardano [ADA] witnessed significant growth. Although the price of the digital asset mirrored the correction in the Bitcoin market, the overall market still seemed to hold on to a high value. At the time of press, ADA had lost 12% of its value since the peak and [&#8230;] ... [| Skaityti daugiau](https://ambcrypto.com/cardano-price-analysis-17-may/) "
      ],
      "text/plain": [
       "<IPython.core.display.Markdown object>"
      ]
     },
     "execution_count": 4,
     "metadata": {},
     "output_type": "execute_result"
    }
   ],
   "source": [
    "#hide_input\n",
    "#md('##### {}'.format(titleBTC)) \n",
    "md(\"- {}{} {}{} [| Skaityti daugiau]({}) \".format(btc['title'],'. ', btc['body'], ' ...', btc['url']))"
   ]
  },
  {
   "cell_type": "code",
   "execution_count": 5,
   "id": "organic-actress",
   "metadata": {
    "execution": {
     "iopub.execute_input": "2021-05-18T02:23:10.211751Z",
     "iopub.status.busy": "2021-05-18T02:23:10.211188Z",
     "iopub.status.idle": "2021-05-18T02:23:10.215380Z",
     "shell.execute_reply": "2021-05-18T02:23:10.215846Z"
    },
    "papermill": {
     "duration": 0.020896,
     "end_time": "2021-05-18T02:23:10.215972",
     "exception": false,
     "start_time": "2021-05-18T02:23:10.195076",
     "status": "completed"
    },
    "tags": []
   },
   "outputs": [
    {
     "data": {
      "text/markdown": [
       "- XRP, Dogecoin, Chainlink Price Analysis: 17 May.  Dogecoin required to counter bearish conditions before a jump above $0.569 resistance. Lastly, Chainlink needed to push above $45.5 to trigger a bullish comeback after a descending triangle breakdown. XRP Gains made over the last three days were impressive especially considering a bearish broader market, but sellers returned at $1.52-resistance. At press time, the cryptocurrency [&#8230;] ... [| Skaityti daugiau](https://ambcrypto.com/xrp-dogecoin-chainlink-price-analysis-17-may/) "
      ],
      "text/plain": [
       "<IPython.core.display.Markdown object>"
      ]
     },
     "execution_count": 5,
     "metadata": {},
     "output_type": "execute_result"
    }
   ],
   "source": [
    "#hide_input\n",
    "#md('##### {}'.format(titleBTC)) \n",
    "md(\"- {}{} {}{} [| Skaityti daugiau]({}) \".format(xrp['title'],'. ', xrp['body'], ' ...', xrp['url']))"
   ]
  },
  {
   "cell_type": "code",
   "execution_count": 6,
   "id": "prompt-farmer",
   "metadata": {
    "execution": {
     "iopub.execute_input": "2021-05-18T02:23:10.243892Z",
     "iopub.status.busy": "2021-05-18T02:23:10.243226Z",
     "iopub.status.idle": "2021-05-18T02:23:10.248303Z",
     "shell.execute_reply": "2021-05-18T02:23:10.247819Z"
    },
    "papermill": {
     "duration": 0.021025,
     "end_time": "2021-05-18T02:23:10.248434",
     "exception": false,
     "start_time": "2021-05-18T02:23:10.227409",
     "status": "completed"
    },
    "tags": []
   },
   "outputs": [
    {
     "data": {
      "text/markdown": [
       "- Uniswap, THETA, Tron Price Analysis: 17 May.  Uniswap projected further losses in case of a break below 36.5-$34.4 support. THETA&#8217;s cut-off point for bullish control lay between $7.88 and $8.44. Finally, Tron traded within a descending triangle and a 30% retracement loomed large. Uniswap [UNI] A doji candlestick spotted on yesterday&#8217;s close signaled an abrupt end to what looked like a recovery [&#8230;] ... [| Skaityti daugiau](https://ambcrypto.com/uniswap-theta-tron-price-analysis-17-may/) "
      ],
      "text/plain": [
       "<IPython.core.display.Markdown object>"
      ]
     },
     "execution_count": 6,
     "metadata": {},
     "output_type": "execute_result"
    }
   ],
   "source": [
    "#hide_input\n",
    "#md('##### {}'.format(titleBTC)) \n",
    "md(\"- {}{} {}{} [| Skaityti daugiau]({}) \".format(trx['title'],'. ', trx['body'], ' ...', trx['url']))"
   ]
  },
  {
   "cell_type": "code",
   "execution_count": 7,
   "id": "illegal-greece",
   "metadata": {
    "execution": {
     "iopub.execute_input": "2021-05-18T02:23:10.277607Z",
     "iopub.status.busy": "2021-05-18T02:23:10.277076Z",
     "iopub.status.idle": "2021-05-18T02:23:10.279802Z",
     "shell.execute_reply": "2021-05-18T02:23:10.280250Z"
    },
    "papermill": {
     "duration": 0.019592,
     "end_time": "2021-05-18T02:23:10.280372",
     "exception": false,
     "start_time": "2021-05-18T02:23:10.260780",
     "status": "completed"
    },
    "tags": []
   },
   "outputs": [
    {
     "data": {
      "text/markdown": [
       "- Cardano, Ethereum, Polkadot Price Analysis: 17 May.  Cardano could witness an extended rally if losses are maintained at $2.17. Ethereum broke south from a descending triangle and lost a key support region at $3,620. Finally, Polkadot was in danger of a sharp sell-off in case of a break below $38.5. Cardano [ADA] Volumes on Cardano took a dip over the last 24 [&#8230;] ... [| Skaityti daugiau](https://ambcrypto.com/cardano-ethereum-polkadot-price-analysis-17-may/) "
      ],
      "text/plain": [
       "<IPython.core.display.Markdown object>"
      ]
     },
     "execution_count": 7,
     "metadata": {},
     "output_type": "execute_result"
    }
   ],
   "source": [
    "#hide_input\n",
    "#md('##### {}'.format(titleBTC)) \n",
    "md(\"- {}{} {}{} [| Skaityti daugiau]({}) \".format(eth['title'],'. ', eth['body'], ' ...', eth['url']))"
   ]
  },
  {
   "cell_type": "code",
   "execution_count": 8,
   "id": "sublime-lounge",
   "metadata": {
    "execution": {
     "iopub.execute_input": "2021-05-18T02:23:10.312879Z",
     "iopub.status.busy": "2021-05-18T02:23:10.312278Z",
     "iopub.status.idle": "2021-05-18T02:23:10.315500Z",
     "shell.execute_reply": "2021-05-18T02:23:10.315011Z"
    },
    "papermill": {
     "duration": 0.021946,
     "end_time": "2021-05-18T02:23:10.315612",
     "exception": false,
     "start_time": "2021-05-18T02:23:10.293666",
     "status": "completed"
    },
    "tags": []
   },
   "outputs": [
    {
     "data": {
      "text/markdown": [
       "- Cardano Price Analysis: 17 May.  At a time when other altcoins were stumbling, Cardano [ADA] witnessed significant growth. Although the price of the digital asset mirrored the correction in the Bitcoin market, the overall market still seemed to hold on to a high value. At the time of press, ADA had lost 12% of its value since the peak and [&#8230;] ... [| Skaityti daugiau](https://ambcrypto.com/cardano-price-analysis-17-may/) "
      ],
      "text/plain": [
       "<IPython.core.display.Markdown object>"
      ]
     },
     "execution_count": 8,
     "metadata": {},
     "output_type": "execute_result"
    }
   ],
   "source": [
    "#hide_input\n",
    "#md('##### {}'.format(titleBTC)) \n",
    "md(\"- {}{} {}{} [| Skaityti daugiau]({}) \".format(ada['title'],'. ', ada['body'], ' ...', ada['url']))"
   ]
  },
  {
   "cell_type": "code",
   "execution_count": 9,
   "id": "specified-ordering",
   "metadata": {
    "execution": {
     "iopub.execute_input": "2021-05-18T02:23:10.348868Z",
     "iopub.status.busy": "2021-05-18T02:23:10.348257Z",
     "iopub.status.idle": "2021-05-18T02:23:10.352619Z",
     "shell.execute_reply": "2021-05-18T02:23:10.352102Z"
    },
    "papermill": {
     "duration": 0.024628,
     "end_time": "2021-05-18T02:23:10.352741",
     "exception": false,
     "start_time": "2021-05-18T02:23:10.328113",
     "status": "completed"
    },
    "tags": []
   },
   "outputs": [
    {
     "data": {
      "text/markdown": [
       "- SushiSwap’s $SUSHI May Be the ‘Most Undervalued Token’ in the Space, Says Arca’s CIO.  The Chief Investment Officer of cryptocurrency investment firm Arca, Jeff Dorman, has revealed the firm believes SushiSwap’s SUSHI token may be the “most undervalued” in the cryptocurrency space based on three main overhands. In a Twitter thread, Dorman revealed that SUSHI has underperformed other decentralized exchange tokens, including that of rival automated market maker Uniswap. […] ... [| Skaityti daugiau](https://www.cryptoglobe.com/latest/2021/05/sushiswaps-sushi-may-be-the-most-undervalued-token-in-the-space-says-arcas-cio/) "
      ],
      "text/plain": [
       "<IPython.core.display.Markdown object>"
      ]
     },
     "execution_count": 9,
     "metadata": {},
     "output_type": "execute_result"
    }
   ],
   "source": [
    "#hide_input\n",
    "#md('##### {}'.format(titleBTC)) \n",
    "md(\"- {}{} {}{} [| Skaityti daugiau]({}) \".format(exchange['title'],'. ', exchange['body'], ' ...', exchange['url']))"
   ]
  },
  {
   "cell_type": "code",
   "execution_count": null,
   "id": "tender-livestock",
   "metadata": {
    "papermill": {
     "duration": 0.015275,
     "end_time": "2021-05-18T02:23:10.382131",
     "exception": false,
     "start_time": "2021-05-18T02:23:10.366856",
     "status": "completed"
    },
    "tags": []
   },
   "outputs": [],
   "source": []
  },
  {
   "cell_type": "code",
   "execution_count": null,
   "id": "appreciated-diamond",
   "metadata": {
    "papermill": {
     "duration": 0.014233,
     "end_time": "2021-05-18T02:23:10.410293",
     "exception": false,
     "start_time": "2021-05-18T02:23:10.396060",
     "status": "completed"
    },
    "tags": []
   },
   "outputs": [],
   "source": []
  },
  {
   "cell_type": "code",
   "execution_count": null,
   "id": "romance-sweden",
   "metadata": {
    "papermill": {
     "duration": 0.013101,
     "end_time": "2021-05-18T02:23:10.436479",
     "exception": false,
     "start_time": "2021-05-18T02:23:10.423378",
     "status": "completed"
    },
    "tags": []
   },
   "outputs": [],
   "source": []
  },
  {
   "cell_type": "code",
   "execution_count": null,
   "id": "dietary-statistics",
   "metadata": {
    "papermill": {
     "duration": 0.016343,
     "end_time": "2021-05-18T02:23:10.465660",
     "exception": false,
     "start_time": "2021-05-18T02:23:10.449317",
     "status": "completed"
    },
    "tags": []
   },
   "outputs": [],
   "source": []
  }
 ],
 "metadata": {
  "kernelspec": {
   "display_name": "Python 3",
   "language": "python",
   "name": "python3"
  },
  "language_info": {
   "codemirror_mode": {
    "name": "ipython",
    "version": 3
   },
   "file_extension": ".py",
   "mimetype": "text/x-python",
   "name": "python",
   "nbconvert_exporter": "python",
   "pygments_lexer": "ipython3",
   "version": "3.6.13"
  },
  "papermill": {
   "default_parameters": {},
   "duration": 19.330206,
   "end_time": "2021-05-18T02:23:11.687643",
   "environment_variables": {},
   "exception": null,
   "input_path": "Market-News.ipynb",
   "output_path": "Market-News.ipynb",
   "parameters": {},
   "start_time": "2021-05-18T02:22:52.357437",
   "version": "2.2.2"
  }
 },
 "nbformat": 4,
 "nbformat_minor": 5
}