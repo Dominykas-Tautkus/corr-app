{
 "cells": [
  {
   "cell_type": "markdown",
   "id": "short-greensboro",
   "metadata": {
    "papermill": {
     "duration": 0.014428,
     "end_time": "2021-02-19T01:41:48.757240",
     "exception": false,
     "start_time": "2021-02-19T01:41:48.742812",
     "status": "completed"
    },
    "tags": []
   },
   "source": [
    "# Kriptovaliutų naujienos"
   ]
  },
  {
   "cell_type": "code",
   "execution_count": 1,
   "id": "functioning-knowing",
   "metadata": {
    "execution": {
     "iopub.execute_input": "2021-02-19T01:41:48.791358Z",
     "iopub.status.busy": "2021-02-19T01:41:48.790639Z",
     "iopub.status.idle": "2021-02-19T01:41:50.312276Z",
     "shell.execute_reply": "2021-02-19T01:41:50.312919Z"
    },
    "papermill": {
     "duration": 1.545404,
     "end_time": "2021-02-19T01:41:50.315762",
     "exception": false,
     "start_time": "2021-02-19T01:41:48.770358",
     "status": "completed"
    },
    "tags": []
   },
   "outputs": [],
   "source": [
    "#hide_input\n",
    "import warnings\n",
    "warnings.filterwarnings('ignore')\n",
    "from scripts.read_data import read_api\n",
    "from scripts.read_data import read_news\n",
    "from scripts.read_data import read_covid\n",
    "import matplotlib.pyplot as plt \n",
    "from IPython.display import Markdown as md"
   ]
  },
  {
   "cell_type": "code",
   "execution_count": 2,
   "id": "shared-acceptance",
   "metadata": {
    "execution": {
     "iopub.execute_input": "2021-02-19T01:41:50.349443Z",
     "iopub.status.busy": "2021-02-19T01:41:50.348709Z",
     "iopub.status.idle": "2021-02-19T01:41:57.502921Z",
     "shell.execute_reply": "2021-02-19T01:41:57.502126Z"
    },
    "papermill": {
     "duration": 7.173972,
     "end_time": "2021-02-19T01:41:57.503092",
     "exception": false,
     "start_time": "2021-02-19T01:41:50.329120",
     "status": "completed"
    },
    "tags": []
   },
   "outputs": [],
   "source": [
    "#hide_input\n",
    "blockchain = read_news('blockchain') \n",
    "btc = read_news('btc') \n",
    "xrp = read_news('xrp') \n",
    "trx = read_news('trx') \n",
    "eth = read_news('eth')  \n",
    "ada = read_news('ada')\n",
    "exchange = read_news('exchange') "
   ]
  },
  {
   "cell_type": "code",
   "execution_count": 3,
   "id": "synthetic-notion",
   "metadata": {
    "execution": {
     "iopub.execute_input": "2021-02-19T01:41:57.536832Z",
     "iopub.status.busy": "2021-02-19T01:41:57.536081Z",
     "iopub.status.idle": "2021-02-19T01:41:57.538882Z",
     "shell.execute_reply": "2021-02-19T01:41:57.539440Z"
    },
    "papermill": {
     "duration": 0.022761,
     "end_time": "2021-02-19T01:41:57.539654",
     "exception": false,
     "start_time": "2021-02-19T01:41:57.516893",
     "status": "completed"
    },
    "tags": []
   },
   "outputs": [
    {
     "data": {
      "text/markdown": [
       "- Venus (XVS) rallies 900%, TVL hits $3.54B after Binance Smart Chain launch.  Venus protocol becomes the top-ranked DeFi platform on the Binance Smart Chain as XVS price and the total value locked in the platform reach new highs. ... [| Skaityti daugiau](https://cointelegraph.com/news/venus-xvs-rallies-900-tvl-hits-3-54b-after-binance-smart-chain-launch) "
      ],
      "text/plain": [
       "<IPython.core.display.Markdown object>"
      ]
     },
     "execution_count": 3,
     "metadata": {},
     "output_type": "execute_result"
    }
   ],
   "source": [
    "#hide_input\n",
    "#md('##### {}'.format(titleBTC)) \n",
    "md(\"- {}{} {}{} [| Skaityti daugiau]({}) \".format(blockchain['title'],'. ', blockchain['body'], ' ...', blockchain['url']))"
   ]
  },
  {
   "cell_type": "code",
   "execution_count": 4,
   "id": "aging-caution",
   "metadata": {
    "execution": {
     "iopub.execute_input": "2021-02-19T01:41:57.570829Z",
     "iopub.status.busy": "2021-02-19T01:41:57.570039Z",
     "iopub.status.idle": "2021-02-19T01:41:57.576036Z",
     "shell.execute_reply": "2021-02-19T01:41:57.576714Z"
    },
    "papermill": {
     "duration": 0.023907,
     "end_time": "2021-02-19T01:41:57.576938",
     "exception": false,
     "start_time": "2021-02-19T01:41:57.553031",
     "status": "completed"
    },
    "tags": []
   },
   "outputs": [
    {
     "data": {
      "text/markdown": [
       "- Bitcoin Is ‘Here to Stay,’ But Still an 'Economic Side Show': J.P. Morgan.  The investment bank and financial services giant still has mixed feelings about Bitcoin and the cryptocurrency market. ... [| Skaityti daugiau](https://decrypt.co/58194/jp-morgan-bitcoin-economic-side-show) "
      ],
      "text/plain": [
       "<IPython.core.display.Markdown object>"
      ]
     },
     "execution_count": 4,
     "metadata": {},
     "output_type": "execute_result"
    }
   ],
   "source": [
    "#hide_input\n",
    "#md('##### {}'.format(titleBTC)) \n",
    "md(\"- {}{} {}{} [| Skaityti daugiau]({}) \".format(btc['title'],'. ', btc['body'], ' ...', btc['url']))"
   ]
  },
  {
   "cell_type": "code",
   "execution_count": 5,
   "id": "organic-actress",
   "metadata": {
    "execution": {
     "iopub.execute_input": "2021-02-19T01:41:57.613689Z",
     "iopub.status.busy": "2021-02-19T01:41:57.612861Z",
     "iopub.status.idle": "2021-02-19T01:41:57.620271Z",
     "shell.execute_reply": "2021-02-19T01:41:57.619587Z"
    },
    "papermill": {
     "duration": 0.028771,
     "end_time": "2021-02-19T01:41:57.620413",
     "exception": false,
     "start_time": "2021-02-19T01:41:57.591642",
     "status": "completed"
    },
    "tags": []
   },
   "outputs": [
    {
     "data": {
      "text/markdown": [
       "- An SEC Ripple Effect Leaves XRP Sliding the the Crypto Top 10.  XRP is unsurprisingly lagging behind the rest of the incredibly bullish crypto market and altcoin space. The SEC&#8217;s charges against Ripple executives asserting that the token itself is an unregistered security have harmed any chance of upward momentum. It has also caused the altcoin to sink further and further down the ranks of the top [&#8230;] ... [| Skaityti daugiau](https://www.newsbtc.com/analysis/xrp/sec-ripple-effect-leaves-xrp-sinking-down-the-crypto-top-ten/) "
      ],
      "text/plain": [
       "<IPython.core.display.Markdown object>"
      ]
     },
     "execution_count": 5,
     "metadata": {},
     "output_type": "execute_result"
    }
   ],
   "source": [
    "#hide_input\n",
    "#md('##### {}'.format(titleBTC)) \n",
    "md(\"- {}{} {}{} [| Skaityti daugiau]({}) \".format(xrp['title'],'. ', xrp['body'], ' ...', xrp['url']))"
   ]
  },
  {
   "cell_type": "code",
   "execution_count": 6,
   "id": "prompt-farmer",
   "metadata": {
    "execution": {
     "iopub.execute_input": "2021-02-19T01:41:57.653968Z",
     "iopub.status.busy": "2021-02-19T01:41:57.653293Z",
     "iopub.status.idle": "2021-02-19T01:41:57.657417Z",
     "shell.execute_reply": "2021-02-19T01:41:57.656760Z"
    },
    "papermill": {
     "duration": 0.023763,
     "end_time": "2021-02-19T01:41:57.657552",
     "exception": false,
     "start_time": "2021-02-19T01:41:57.633789",
     "status": "completed"
    },
    "tags": []
   },
   "outputs": [
    {
     "data": {
      "text/markdown": [
       "- Tron, Aave, Verge Price Analysis: 18 February.  Tron formed a bullish pattern on the charts, with its buyers firmly in control of the market. Aave was undecided on its next move, but its long-term outlook remained strongly bullish with no reversal at hand yet. Finally, Verge recovered quickly from a market dip and targeted a move beyond its local high. Tron [TRX] [&#8230;] ... [| Skaityti daugiau](https://ambcrypto.com/tron-aave-verge-price-analysis-18-february/) "
      ],
      "text/plain": [
       "<IPython.core.display.Markdown object>"
      ]
     },
     "execution_count": 6,
     "metadata": {},
     "output_type": "execute_result"
    }
   ],
   "source": [
    "#hide_input\n",
    "#md('##### {}'.format(titleBTC)) \n",
    "md(\"- {}{} {}{} [| Skaityti daugiau]({}) \".format(trx['title'],'. ', trx['body'], ' ...', trx['url']))"
   ]
  },
  {
   "cell_type": "code",
   "execution_count": 7,
   "id": "illegal-greece",
   "metadata": {
    "execution": {
     "iopub.execute_input": "2021-02-19T01:41:57.691869Z",
     "iopub.status.busy": "2021-02-19T01:41:57.691115Z",
     "iopub.status.idle": "2021-02-19T01:41:57.694897Z",
     "shell.execute_reply": "2021-02-19T01:41:57.694238Z"
    },
    "papermill": {
     "duration": 0.023091,
     "end_time": "2021-02-19T01:41:57.695038",
     "exception": false,
     "start_time": "2021-02-19T01:41:57.671947",
     "status": "completed"
    },
    "tags": []
   },
   "outputs": [
    {
     "data": {
      "text/markdown": [
       "- Ethereum Sees 30% Breakout, Nearing All-Time Highs.   ... [| Skaityti daugiau](https://cryptobriefing.com/ethereum-sees-30-breakout-nearing-all-time-highs/) "
      ],
      "text/plain": [
       "<IPython.core.display.Markdown object>"
      ]
     },
     "execution_count": 7,
     "metadata": {},
     "output_type": "execute_result"
    }
   ],
   "source": [
    "#hide_input\n",
    "#md('##### {}'.format(titleBTC)) \n",
    "md(\"- {}{} {}{} [| Skaityti daugiau]({}) \".format(eth['title'],'. ', eth['body'], ' ...', eth['url']))"
   ]
  },
  {
   "cell_type": "code",
   "execution_count": 8,
   "id": "sublime-lounge",
   "metadata": {
    "execution": {
     "iopub.execute_input": "2021-02-19T01:41:57.731282Z",
     "iopub.status.busy": "2021-02-19T01:41:57.730631Z",
     "iopub.status.idle": "2021-02-19T01:41:57.733679Z",
     "shell.execute_reply": "2021-02-19T01:41:57.734232Z"
    },
    "papermill": {
     "duration": 0.024315,
     "end_time": "2021-02-19T01:41:57.734386",
     "exception": false,
     "start_time": "2021-02-19T01:41:57.710071",
     "status": "completed"
    },
    "tags": []
   },
   "outputs": [
    {
     "data": {
      "text/markdown": [
       "- Altcoins Burst Into Action With Bitcoin – Crypto Market Cap Nears $1.6 Trillion.  The market is witnessing a well-synchronized market rally. With most major coins adding more than 5% in the last 24 hours, the total market cap is nearing $1.6 trillion. It all seems to have been inspired by Bitcoin finding stability above $50K. Since breaching this crucial level, the asset has gone on to reach a [&#8230;] ... [| Skaityti daugiau](https://zycrypto.com/altcoins-burst-into-action-with-bitcoin-crypto-market-cap-nears-1-6-trillion/) "
      ],
      "text/plain": [
       "<IPython.core.display.Markdown object>"
      ]
     },
     "execution_count": 8,
     "metadata": {},
     "output_type": "execute_result"
    }
   ],
   "source": [
    "#hide_input\n",
    "#md('##### {}'.format(titleBTC)) \n",
    "md(\"- {}{} {}{} [| Skaityti daugiau]({}) \".format(ada['title'],'. ', ada['body'], ' ...', ada['url']))"
   ]
  },
  {
   "cell_type": "code",
   "execution_count": 9,
   "id": "specified-ordering",
   "metadata": {
    "execution": {
     "iopub.execute_input": "2021-02-19T01:41:57.773125Z",
     "iopub.status.busy": "2021-02-19T01:41:57.772430Z",
     "iopub.status.idle": "2021-02-19T01:41:57.775172Z",
     "shell.execute_reply": "2021-02-19T01:41:57.775732Z"
    },
    "papermill": {
     "duration": 0.026357,
     "end_time": "2021-02-19T01:41:57.775891",
     "exception": false,
     "start_time": "2021-02-19T01:41:57.749534",
     "status": "completed"
    },
    "tags": []
   },
   "outputs": [
    {
     "data": {
      "text/markdown": [
       "- Venus (XVS) rallies 900%, TVL hits $3.54B after Binance Smart Chain launch.  Venus protocol becomes the top-ranked DeFi platform on the Binance Smart Chain as XVS price and the total value locked in the platform reach new highs. ... [| Skaityti daugiau](https://cointelegraph.com/news/venus-xvs-rallies-900-tvl-hits-3-54b-after-binance-smart-chain-launch) "
      ],
      "text/plain": [
       "<IPython.core.display.Markdown object>"
      ]
     },
     "execution_count": 9,
     "metadata": {},
     "output_type": "execute_result"
    }
   ],
   "source": [
    "#hide_input\n",
    "#md('##### {}'.format(titleBTC)) \n",
    "md(\"- {}{} {}{} [| Skaityti daugiau]({}) \".format(exchange['title'],'. ', exchange['body'], ' ...', exchange['url']))"
   ]
  },
  {
   "cell_type": "code",
   "execution_count": null,
   "id": "tender-livestock",
   "metadata": {
    "papermill": {
     "duration": 0.017163,
     "end_time": "2021-02-19T01:41:57.810447",
     "exception": false,
     "start_time": "2021-02-19T01:41:57.793284",
     "status": "completed"
    },
    "tags": []
   },
   "outputs": [],
   "source": []
  },
  {
   "cell_type": "code",
   "execution_count": null,
   "id": "appreciated-diamond",
   "metadata": {
    "papermill": {
     "duration": 0.015584,
     "end_time": "2021-02-19T01:41:57.847385",
     "exception": false,
     "start_time": "2021-02-19T01:41:57.831801",
     "status": "completed"
    },
    "tags": []
   },
   "outputs": [],
   "source": []
  },
  {
   "cell_type": "code",
   "execution_count": null,
   "id": "romance-sweden",
   "metadata": {
    "papermill": {
     "duration": 0.014394,
     "end_time": "2021-02-19T01:41:57.875073",
     "exception": false,
     "start_time": "2021-02-19T01:41:57.860679",
     "status": "completed"
    },
    "tags": []
   },
   "outputs": [],
   "source": []
  },
  {
   "cell_type": "code",
   "execution_count": null,
   "id": "dietary-statistics",
   "metadata": {
    "papermill": {
     "duration": 0.013257,
     "end_time": "2021-02-19T01:41:57.902826",
     "exception": false,
     "start_time": "2021-02-19T01:41:57.889569",
     "status": "completed"
    },
    "tags": []
   },
   "outputs": [],
   "source": []
  }
 ],
 "metadata": {
  "kernelspec": {
   "display_name": "Python 3",
   "language": "python",
   "name": "python3"
  },
  "language_info": {
   "codemirror_mode": {
    "name": "ipython",
    "version": 3
   },
   "file_extension": ".py",
   "mimetype": "text/x-python",
   "name": "python",
   "nbconvert_exporter": "python",
   "pygments_lexer": "ipython3",
   "version": "3.6.12"
  },
  "papermill": {
   "default_parameters": {},
   "duration": 10.810319,
   "end_time": "2021-02-19T01:41:58.426877",
   "environment_variables": {},
   "exception": null,
   "input_path": "Market-News.ipynb",
   "output_path": "Market-News.ipynb",
   "parameters": {},
   "start_time": "2021-02-19T01:41:47.616558",
   "version": "2.2.2"
  }
 },
 "nbformat": 4,
 "nbformat_minor": 5
}