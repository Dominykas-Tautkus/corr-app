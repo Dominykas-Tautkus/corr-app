{
 "cells": [
  {
   "cell_type": "markdown",
   "id": "short-greensboro",
   "metadata": {
    "papermill": {
     "duration": 0.014982,
     "end_time": "2021-06-17T02:01:40.336013",
     "exception": false,
     "start_time": "2021-06-17T02:01:40.321031",
     "status": "completed"
    },
    "tags": []
   },
   "source": [
    "# Kriptovaliutų naujienos"
   ]
  },
  {
   "cell_type": "code",
   "execution_count": 1,
   "id": "functioning-knowing",
   "metadata": {
    "execution": {
     "iopub.execute_input": "2021-06-17T02:01:40.369396Z",
     "iopub.status.busy": "2021-06-17T02:01:40.368740Z",
     "iopub.status.idle": "2021-06-17T02:01:41.802184Z",
     "shell.execute_reply": "2021-06-17T02:01:41.801611Z"
    },
    "papermill": {
     "duration": 1.454241,
     "end_time": "2021-06-17T02:01:41.802345",
     "exception": false,
     "start_time": "2021-06-17T02:01:40.348104",
     "status": "completed"
    },
    "tags": []
   },
   "outputs": [],
   "source": [
    "#hide_input\n",
    "import warnings\n",
    "warnings.filterwarnings('ignore')\n",
    "from scripts.read_data import read_api\n",
    "from scripts.read_data import read_news\n",
    "from scripts.read_data import read_covid\n",
    "import matplotlib.pyplot as plt \n",
    "from IPython.display import Markdown as md"
   ]
  },
  {
   "cell_type": "code",
   "execution_count": 2,
   "id": "shared-acceptance",
   "metadata": {
    "execution": {
     "iopub.execute_input": "2021-06-17T02:01:41.834653Z",
     "iopub.status.busy": "2021-06-17T02:01:41.833377Z",
     "iopub.status.idle": "2021-06-17T02:01:50.753936Z",
     "shell.execute_reply": "2021-06-17T02:01:50.754411Z"
    },
    "papermill": {
     "duration": 8.940499,
     "end_time": "2021-06-17T02:01:50.754577",
     "exception": false,
     "start_time": "2021-06-17T02:01:41.814078",
     "status": "completed"
    },
    "tags": []
   },
   "outputs": [],
   "source": [
    "#hide_input\n",
    "blockchain = read_news('blockchain') \n",
    "btc = read_news('btc') \n",
    "xrp = read_news('xrp') \n",
    "trx = read_news('trx') \n",
    "eth = read_news('eth')  \n",
    "ada = read_news('ada')\n",
    "exchange = read_news('exchange') "
   ]
  },
  {
   "cell_type": "code",
   "execution_count": 3,
   "id": "synthetic-notion",
   "metadata": {
    "execution": {
     "iopub.execute_input": "2021-06-17T02:01:50.783819Z",
     "iopub.status.busy": "2021-06-17T02:01:50.783227Z",
     "iopub.status.idle": "2021-06-17T02:01:50.789051Z",
     "shell.execute_reply": "2021-06-17T02:01:50.789537Z"
    },
    "papermill": {
     "duration": 0.023606,
     "end_time": "2021-06-17T02:01:50.789673",
     "exception": false,
     "start_time": "2021-06-17T02:01:50.766067",
     "status": "completed"
    },
    "tags": []
   },
   "outputs": [
    {
     "data": {
      "text/markdown": [
       "- Virtue Poker To Become Multi-Chain Compatible, Launch on BSC Imminent.  June 16, 2021 – Ta’ Xbiex, Malta Virtue Poker, the blockchain-based P2P poker app. will launch on Binance Smart Chain, becoming the first licensed, multi-chain compatible blockchain-based poker platform. “Virtue Poker aims to become the go-to-destination for blockchain based wagering,” says CEO Ryan Gittleson. “Our launch on BSC will enable a whole new audience of [&#8230;]The post Virtue Poker To Become Multi-Chain Compatible, Launch on BSC Imminent appeared first on The Daily Hodl. ... [| Skaityti daugiau](https://dailyhodl.com/2021/06/16/virtue-poker-to-become-multi-chain-compatible-launch-on-bsc-imminent/) "
      ],
      "text/plain": [
       "<IPython.core.display.Markdown object>"
      ]
     },
     "execution_count": 3,
     "metadata": {},
     "output_type": "execute_result"
    }
   ],
   "source": [
    "#hide_input\n",
    "#md('##### {}'.format(titleBTC)) \n",
    "md(\"- {}{} {}{} [| Skaityti daugiau]({}) \".format(blockchain['title'],'. ', blockchain['body'], ' ...', blockchain['url']))"
   ]
  },
  {
   "cell_type": "code",
   "execution_count": 4,
   "id": "aging-caution",
   "metadata": {
    "execution": {
     "iopub.execute_input": "2021-06-17T02:01:50.818879Z",
     "iopub.status.busy": "2021-06-17T02:01:50.818188Z",
     "iopub.status.idle": "2021-06-17T02:01:50.823968Z",
     "shell.execute_reply": "2021-06-17T02:01:50.824508Z"
    },
    "papermill": {
     "duration": 0.024072,
     "end_time": "2021-06-17T02:01:50.824678",
     "exception": false,
     "start_time": "2021-06-17T02:01:50.800606",
     "status": "completed"
    },
    "tags": []
   },
   "outputs": [
    {
     "data": {
      "text/markdown": [
       "- Central American Bank for Economic Integration to Help El Salvador Implement Bitcoin as Legal Tender.  The Central American Bank for Economic Integration (CABEI), which has 15 member countries, will help El Salvador implement bitcoin as legal tender. The CABEI president has expressed his support. &#8220;We&#8217;re very optimistic,&#8221; he said. Central American Bank for Economic Integration Supports El Salvador&#8217;s Bitcoin Law The head of the Central American Bank for Economic Integration [&#8230;] ... [| Skaityti daugiau](https://news.bitcoin.com/central-american-bank-for-economic-integration-help-el-salvador-implement-bitcoin-as-legal-tender/) "
      ],
      "text/plain": [
       "<IPython.core.display.Markdown object>"
      ]
     },
     "execution_count": 4,
     "metadata": {},
     "output_type": "execute_result"
    }
   ],
   "source": [
    "#hide_input\n",
    "#md('##### {}'.format(titleBTC)) \n",
    "md(\"- {}{} {}{} [| Skaityti daugiau]({}) \".format(btc['title'],'. ', btc['body'], ' ...', btc['url']))"
   ]
  },
  {
   "cell_type": "code",
   "execution_count": 5,
   "id": "organic-actress",
   "metadata": {
    "execution": {
     "iopub.execute_input": "2021-06-17T02:01:50.855035Z",
     "iopub.status.busy": "2021-06-17T02:01:50.854385Z",
     "iopub.status.idle": "2021-06-17T02:01:50.857238Z",
     "shell.execute_reply": "2021-06-17T02:01:50.856702Z"
    },
    "papermill": {
     "duration": 0.020869,
     "end_time": "2021-06-17T02:01:50.857370",
     "exception": false,
     "start_time": "2021-06-17T02:01:50.836501",
     "status": "completed"
    },
    "tags": []
   },
   "outputs": [
    {
     "data": {
      "text/markdown": [
       "- Ripple Looks to the Future With Groundbreaking IPO Following the Settlement of the SEC Lawsuit.  What a difference six months make in the world of cryptocurrencies. In December 2020, an SEC lawsuit threatened to expel Ripple from the crypto landscape for good. The complaint by the U.S. Securities and Exchange Commission alleged that Ripple was too centralized to be regarded as a cryptocurrency, and thus must be recognized as an [&#8230;]The post Ripple Looks to the Future With Groundbreaking IPO Following the Settlement of the SEC Lawsuit appeared first on The Daily Hodl. ... [| Skaityti daugiau](https://dailyhodl.com/2021/06/16/ripple-looks-to-the-future-with-groundbreaking-ipo-following-the-settlement-of-the-sec-lawsuit/) "
      ],
      "text/plain": [
       "<IPython.core.display.Markdown object>"
      ]
     },
     "execution_count": 5,
     "metadata": {},
     "output_type": "execute_result"
    }
   ],
   "source": [
    "#hide_input\n",
    "#md('##### {}'.format(titleBTC)) \n",
    "md(\"- {}{} {}{} [| Skaityti daugiau]({}) \".format(xrp['title'],'. ', xrp['body'], ' ...', xrp['url']))"
   ]
  },
  {
   "cell_type": "code",
   "execution_count": 6,
   "id": "prompt-farmer",
   "metadata": {
    "execution": {
     "iopub.execute_input": "2021-06-17T02:01:50.885517Z",
     "iopub.status.busy": "2021-06-17T02:01:50.884868Z",
     "iopub.status.idle": "2021-06-17T02:01:50.888633Z",
     "shell.execute_reply": "2021-06-17T02:01:50.889163Z"
    },
    "papermill": {
     "duration": 0.020903,
     "end_time": "2021-06-17T02:01:50.889301",
     "exception": false,
     "start_time": "2021-06-17T02:01:50.868398",
     "status": "completed"
    },
    "tags": []
   },
   "outputs": [
    {
     "data": {
      "text/markdown": [
       "- Tron, Ethereum Classic, Verge Analysis: 16 June.  With Bitcoin&#8216;s rally coming to a halt, most of the market&#8217;s altcoins have started moving sideways. While Verge consistently lost its 24-hour trading volumes to fall to $19.2 million, Tron continued to bask in its achievement of 39 million accounts. The upcoming Magneto hard fork upgrade, on the other hand, was keeping everyone talking about [&#8230;] ... [| Skaityti daugiau](https://ambcrypto.com/tron-ethereum-classic-verge-analysis-16-june/) "
      ],
      "text/plain": [
       "<IPython.core.display.Markdown object>"
      ]
     },
     "execution_count": 6,
     "metadata": {},
     "output_type": "execute_result"
    }
   ],
   "source": [
    "#hide_input\n",
    "#md('##### {}'.format(titleBTC)) \n",
    "md(\"- {}{} {}{} [| Skaityti daugiau]({}) \".format(trx['title'],'. ', trx['body'], ' ...', trx['url']))"
   ]
  },
  {
   "cell_type": "code",
   "execution_count": 7,
   "id": "illegal-greece",
   "metadata": {
    "execution": {
     "iopub.execute_input": "2021-06-17T02:01:50.918414Z",
     "iopub.status.busy": "2021-06-17T02:01:50.916312Z",
     "iopub.status.idle": "2021-06-17T02:01:50.920927Z",
     "shell.execute_reply": "2021-06-17T02:01:50.921512Z"
    },
    "papermill": {
     "duration": 0.020689,
     "end_time": "2021-06-17T02:01:50.921653",
     "exception": false,
     "start_time": "2021-06-17T02:01:50.900964",
     "status": "completed"
    },
    "tags": []
   },
   "outputs": [
    {
     "data": {
      "text/markdown": [
       "- MicroStrategy CEO: Bitcoin Is ‘Outperforming Gold as an Inflation Hedge by a Factor of 50’.  MicroStrategy CEO Michael Saylor has said in an interview that bitcoin is “outperforming gold as an inflation hedge” by a factor of 50 and believes the flagship cryptocurrency is 50x better than the precious metal. Speaking during CNBC’s Fast Money, Saylor claimed bitocin has been outperforming gold as an inflation hedge as the price of […] ... [| Skaityti daugiau](https://www.cryptoglobe.com/latest/2021/06/microstrategy-ceo-bitcoin-is-outperforming-gold-as-an-inflation-hedge-by-a-factor-of-50/) "
      ],
      "text/plain": [
       "<IPython.core.display.Markdown object>"
      ]
     },
     "execution_count": 7,
     "metadata": {},
     "output_type": "execute_result"
    }
   ],
   "source": [
    "#hide_input\n",
    "#md('##### {}'.format(titleBTC)) \n",
    "md(\"- {}{} {}{} [| Skaityti daugiau]({}) \".format(eth['title'],'. ', eth['body'], ' ...', eth['url']))"
   ]
  },
  {
   "cell_type": "code",
   "execution_count": 8,
   "id": "sublime-lounge",
   "metadata": {
    "execution": {
     "iopub.execute_input": "2021-06-17T02:01:50.954517Z",
     "iopub.status.busy": "2021-06-17T02:01:50.953712Z",
     "iopub.status.idle": "2021-06-17T02:01:50.957244Z",
     "shell.execute_reply": "2021-06-17T02:01:50.957811Z"
    },
    "papermill": {
     "duration": 0.022833,
     "end_time": "2021-06-17T02:01:50.957955",
     "exception": false,
     "start_time": "2021-06-17T02:01:50.935122",
     "status": "completed"
    },
    "tags": []
   },
   "outputs": [
    {
     "data": {
      "text/markdown": [
       "- Price analysis 6/16: BTC, ETH, BNB, ADA, DOGE, XRP, DOT, UNI, LTC, BCH.  Bitcoin’s recent rejection at $41,000 could extend the current range-bound action for a few more days and altcoins are expected to follow suit. ... [| Skaityti daugiau](https://cointelegraph.com/news/price-analysis-6-16-btc-eth-bnb-ada-doge-xrp-dot-uni-ltc-bch) "
      ],
      "text/plain": [
       "<IPython.core.display.Markdown object>"
      ]
     },
     "execution_count": 8,
     "metadata": {},
     "output_type": "execute_result"
    }
   ],
   "source": [
    "#hide_input\n",
    "#md('##### {}'.format(titleBTC)) \n",
    "md(\"- {}{} {}{} [| Skaityti daugiau]({}) \".format(ada['title'],'. ', ada['body'], ' ...', ada['url']))"
   ]
  },
  {
   "cell_type": "code",
   "execution_count": 9,
   "id": "specified-ordering",
   "metadata": {
    "execution": {
     "iopub.execute_input": "2021-06-17T02:01:50.990927Z",
     "iopub.status.busy": "2021-06-17T02:01:50.990264Z",
     "iopub.status.idle": "2021-06-17T02:01:50.993181Z",
     "shell.execute_reply": "2021-06-17T02:01:50.993815Z"
    },
    "papermill": {
     "duration": 0.022586,
     "end_time": "2021-06-17T02:01:50.993966",
     "exception": false,
     "start_time": "2021-06-17T02:01:50.971380",
     "status": "completed"
    },
    "tags": []
   },
   "outputs": [
    {
     "data": {
      "text/markdown": [
       "- Decentralized derivatives platform SynFutures raises $14 million in Series A.  Decentralized derivatives exchange SynFutures has netted an additional $14 million in a Series A round led by Polychain Capital.The post Decentralized derivatives platform SynFutures raises $14 million in Series A appeared first on The Block. ... [| Skaityti daugiau](https://www.theblockcrypto.com/linked/108659/decentralized-derivatives-platform-synfutures-14-million-series-a?utm_source=cryptocompare&utm_medium=rss) "
      ],
      "text/plain": [
       "<IPython.core.display.Markdown object>"
      ]
     },
     "execution_count": 9,
     "metadata": {},
     "output_type": "execute_result"
    }
   ],
   "source": [
    "#hide_input\n",
    "#md('##### {}'.format(titleBTC)) \n",
    "md(\"- {}{} {}{} [| Skaityti daugiau]({}) \".format(exchange['title'],'. ', exchange['body'], ' ...', exchange['url']))"
   ]
  },
  {
   "cell_type": "code",
   "execution_count": null,
   "id": "tender-livestock",
   "metadata": {
    "papermill": {
     "duration": 0.014612,
     "end_time": "2021-06-17T02:01:51.022717",
     "exception": false,
     "start_time": "2021-06-17T02:01:51.008105",
     "status": "completed"
    },
    "tags": []
   },
   "outputs": [],
   "source": []
  },
  {
   "cell_type": "code",
   "execution_count": null,
   "id": "appreciated-diamond",
   "metadata": {
    "papermill": {
     "duration": 0.014323,
     "end_time": "2021-06-17T02:01:51.051520",
     "exception": false,
     "start_time": "2021-06-17T02:01:51.037197",
     "status": "completed"
    },
    "tags": []
   },
   "outputs": [],
   "source": []
  },
  {
   "cell_type": "code",
   "execution_count": null,
   "id": "romance-sweden",
   "metadata": {
    "papermill": {
     "duration": 0.015283,
     "end_time": "2021-06-17T02:01:51.081617",
     "exception": false,
     "start_time": "2021-06-17T02:01:51.066334",
     "status": "completed"
    },
    "tags": []
   },
   "outputs": [],
   "source": []
  },
  {
   "cell_type": "code",
   "execution_count": null,
   "id": "dietary-statistics",
   "metadata": {
    "papermill": {
     "duration": 0.013773,
     "end_time": "2021-06-17T02:01:51.109297",
     "exception": false,
     "start_time": "2021-06-17T02:01:51.095524",
     "status": "completed"
    },
    "tags": []
   },
   "outputs": [],
   "source": []
  }
 ],
 "metadata": {
  "kernelspec": {
   "display_name": "Python 3",
   "language": "python",
   "name": "python3"
  },
  "language_info": {
   "codemirror_mode": {
    "name": "ipython",
    "version": 3
   },
   "file_extension": ".py",
   "mimetype": "text/x-python",
   "name": "python",
   "nbconvert_exporter": "python",
   "pygments_lexer": "ipython3",
   "version": "3.6.13"
  },
  "papermill": {
   "default_parameters": {},
   "duration": 13.340917,
   "end_time": "2021-06-17T02:01:52.562024",
   "environment_variables": {},
   "exception": null,
   "input_path": "Market-News.ipynb",
   "output_path": "Market-News.ipynb",
   "parameters": {},
   "start_time": "2021-06-17T02:01:39.221107",
   "version": "2.2.2"
  }
 },
 "nbformat": 4,
 "nbformat_minor": 5
}