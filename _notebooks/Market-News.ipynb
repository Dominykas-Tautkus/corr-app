{
 "cells": [
  {
   "cell_type": "markdown",
   "id": "short-greensboro",
   "metadata": {
    "papermill": {
     "duration": 0.016357,
     "end_time": "2021-03-03T01:44:10.525092",
     "exception": false,
     "start_time": "2021-03-03T01:44:10.508735",
     "status": "completed"
    },
    "tags": []
   },
   "source": [
    "# Kriptovaliutų naujienos"
   ]
  },
  {
   "cell_type": "code",
   "execution_count": 1,
   "id": "functioning-knowing",
   "metadata": {
    "execution": {
     "iopub.execute_input": "2021-03-03T01:44:10.559191Z",
     "iopub.status.busy": "2021-03-03T01:44:10.558562Z",
     "iopub.status.idle": "2021-03-03T01:44:11.872583Z",
     "shell.execute_reply": "2021-03-03T01:44:11.871712Z"
    },
    "papermill": {
     "duration": 1.33594,
     "end_time": "2021-03-03T01:44:11.872727",
     "exception": false,
     "start_time": "2021-03-03T01:44:10.536787",
     "status": "completed"
    },
    "tags": []
   },
   "outputs": [],
   "source": [
    "#hide_input\n",
    "import warnings\n",
    "warnings.filterwarnings('ignore')\n",
    "from scripts.read_data import read_api\n",
    "from scripts.read_data import read_news\n",
    "from scripts.read_data import read_covid\n",
    "import matplotlib.pyplot as plt \n",
    "from IPython.display import Markdown as md"
   ]
  },
  {
   "cell_type": "code",
   "execution_count": 2,
   "id": "shared-acceptance",
   "metadata": {
    "execution": {
     "iopub.execute_input": "2021-03-03T01:44:11.903391Z",
     "iopub.status.busy": "2021-03-03T01:44:11.902788Z",
     "iopub.status.idle": "2021-03-03T01:44:19.659859Z",
     "shell.execute_reply": "2021-03-03T01:44:19.659348Z"
    },
    "papermill": {
     "duration": 7.776518,
     "end_time": "2021-03-03T01:44:19.659992",
     "exception": false,
     "start_time": "2021-03-03T01:44:11.883474",
     "status": "completed"
    },
    "tags": []
   },
   "outputs": [],
   "source": [
    "#hide_input\n",
    "blockchain = read_news('blockchain') \n",
    "btc = read_news('btc') \n",
    "xrp = read_news('xrp') \n",
    "trx = read_news('trx') \n",
    "eth = read_news('eth')  \n",
    "ada = read_news('ada')\n",
    "exchange = read_news('exchange') "
   ]
  },
  {
   "cell_type": "code",
   "execution_count": 3,
   "id": "synthetic-notion",
   "metadata": {
    "execution": {
     "iopub.execute_input": "2021-03-03T01:44:19.689904Z",
     "iopub.status.busy": "2021-03-03T01:44:19.689310Z",
     "iopub.status.idle": "2021-03-03T01:44:19.691913Z",
     "shell.execute_reply": "2021-03-03T01:44:19.692375Z"
    },
    "papermill": {
     "duration": 0.02153,
     "end_time": "2021-03-03T01:44:19.692511",
     "exception": false,
     "start_time": "2021-03-03T01:44:19.670981",
     "status": "completed"
    },
    "tags": []
   },
   "outputs": [
    {
     "data": {
      "text/markdown": [
       "- A deep dive into Eth 2.0, scaling and a project that lets users buy the entire crypto market.  On this episode of The Scoop, Ethereum 2.0 developer and Prysmatic Labs founder Preston Van Loon and Joe Sticco broke down Cryptex.The post A deep dive into Eth 2.0, scaling and a project that lets users buy the entire crypto market appeared first on The Block. ... [| Skaityti daugiau](https://www.theblockcrypto.com/post/96892/cryptex-tcap-ethereum-2-scaling?utm_source=cryptocompare&utm_medium=rss) "
      ],
      "text/plain": [
       "<IPython.core.display.Markdown object>"
      ]
     },
     "execution_count": 3,
     "metadata": {},
     "output_type": "execute_result"
    }
   ],
   "source": [
    "#hide_input\n",
    "#md('##### {}'.format(titleBTC)) \n",
    "md(\"- {}{} {}{} [| Skaityti daugiau]({}) \".format(blockchain['title'],'. ', blockchain['body'], ' ...', blockchain['url']))"
   ]
  },
  {
   "cell_type": "code",
   "execution_count": 4,
   "id": "aging-caution",
   "metadata": {
    "execution": {
     "iopub.execute_input": "2021-03-03T01:44:19.721848Z",
     "iopub.status.busy": "2021-03-03T01:44:19.720939Z",
     "iopub.status.idle": "2021-03-03T01:44:19.725050Z",
     "shell.execute_reply": "2021-03-03T01:44:19.724581Z"
    },
    "papermill": {
     "duration": 0.021627,
     "end_time": "2021-03-03T01:44:19.725173",
     "exception": false,
     "start_time": "2021-03-03T01:44:19.703546",
     "status": "completed"
    },
    "tags": []
   },
   "outputs": [
    {
     "data": {
      "text/markdown": [
       "- Bitcoin’s Recent 25% Drop ‘Positive’ as It Tested Holder Conviction: Report.  Bitcoin’s recent 25% price dip was positive because it flushed out excessive leverage from the market and tested its holders’ conviction while keeping speculators at bay, according to a recent report. The report, published by on-chain analytics firm Glassnode, analysed the recent cryptocurrency market correction, which saw BTC’s price drop from a new all-time high […] ... [| Skaityti daugiau](https://www.cryptoglobe.com/latest/2021/03/bitcoins-recent-25-drop-positive-as-it-tested-holder-conviction-report/) "
      ],
      "text/plain": [
       "<IPython.core.display.Markdown object>"
      ]
     },
     "execution_count": 4,
     "metadata": {},
     "output_type": "execute_result"
    }
   ],
   "source": [
    "#hide_input\n",
    "#md('##### {}'.format(titleBTC)) \n",
    "md(\"- {}{} {}{} [| Skaityti daugiau]({}) \".format(btc['title'],'. ', btc['body'], ' ...', btc['url']))"
   ]
  },
  {
   "cell_type": "code",
   "execution_count": 5,
   "id": "organic-actress",
   "metadata": {
    "execution": {
     "iopub.execute_input": "2021-03-03T01:44:19.754290Z",
     "iopub.status.busy": "2021-03-03T01:44:19.753292Z",
     "iopub.status.idle": "2021-03-03T01:44:19.756085Z",
     "shell.execute_reply": "2021-03-03T01:44:19.756545Z"
    },
    "papermill": {
     "duration": 0.020509,
     "end_time": "2021-03-03T01:44:19.756681",
     "exception": false,
     "start_time": "2021-03-03T01:44:19.736172",
     "status": "completed"
    },
    "tags": []
   },
   "outputs": [
    {
     "data": {
      "text/markdown": [
       "- MoneyGram Slapped With Class-Action Lawsuit For Issuing Misleading Statements Concerning XRP.  The fiasco surrounding the legal status of Ripple’s cryptocurrency XRP continues to unfold as a new lawsuit filed against MoneyGram puts pressure on the case. MoneyGram, presently the world’s second-biggest money transfer service provider, is being sued for allegedly making false statements regarding its relationship with Ripple and also for failing to reveal that XRP [&#8230;] ... [| Skaityti daugiau](https://zycrypto.com/moneygram-slapped-with-class-action-lawsuit-for-issuing-misleading-statements-concerning-xrp/) "
      ],
      "text/plain": [
       "<IPython.core.display.Markdown object>"
      ]
     },
     "execution_count": 5,
     "metadata": {},
     "output_type": "execute_result"
    }
   ],
   "source": [
    "#hide_input\n",
    "#md('##### {}'.format(titleBTC)) \n",
    "md(\"- {}{} {}{} [| Skaityti daugiau]({}) \".format(xrp['title'],'. ', xrp['body'], ' ...', xrp['url']))"
   ]
  },
  {
   "cell_type": "code",
   "execution_count": 6,
   "id": "prompt-farmer",
   "metadata": {
    "execution": {
     "iopub.execute_input": "2021-03-03T01:44:19.786112Z",
     "iopub.status.busy": "2021-03-03T01:44:19.785099Z",
     "iopub.status.idle": "2021-03-03T01:44:19.787908Z",
     "shell.execute_reply": "2021-03-03T01:44:19.788374Z"
    },
    "papermill": {
     "duration": 0.020295,
     "end_time": "2021-03-03T01:44:19.788499",
     "exception": false,
     "start_time": "2021-03-03T01:44:19.768204",
     "status": "completed"
    },
    "tags": []
   },
   "outputs": [
    {
     "data": {
      "text/markdown": [
       "- XRP, Tron, Synthetix Price Analysis: 28 February.  After Bitcoin lost out on the $45,000 mark, the broader market witnessed another sell-off and most altcoins registered losses in the last 24 hours. Such was the case with XRP, Tron, and Synthetix, which traded close to their respective support levels at the time of writing. XRP Bulls were unable to recover XRP above the [&#8230;] ... [| Skaityti daugiau](https://ambcrypto.com/xrp-tron-synthetix-price-analysis-28-february/) "
      ],
      "text/plain": [
       "<IPython.core.display.Markdown object>"
      ]
     },
     "execution_count": 6,
     "metadata": {},
     "output_type": "execute_result"
    }
   ],
   "source": [
    "#hide_input\n",
    "#md('##### {}'.format(titleBTC)) \n",
    "md(\"- {}{} {}{} [| Skaityti daugiau]({}) \".format(trx['title'],'. ', trx['body'], ' ...', trx['url']))"
   ]
  },
  {
   "cell_type": "code",
   "execution_count": 7,
   "id": "illegal-greece",
   "metadata": {
    "execution": {
     "iopub.execute_input": "2021-03-03T01:44:19.818797Z",
     "iopub.status.busy": "2021-03-03T01:44:19.817986Z",
     "iopub.status.idle": "2021-03-03T01:44:19.822764Z",
     "shell.execute_reply": "2021-03-03T01:44:19.823270Z"
    },
    "papermill": {
     "duration": 0.02273,
     "end_time": "2021-03-03T01:44:19.823410",
     "exception": false,
     "start_time": "2021-03-03T01:44:19.800680",
     "status": "completed"
    },
    "tags": []
   },
   "outputs": [
    {
     "data": {
      "text/markdown": [
       "- A deep dive into Eth 2.0, scaling and a project that lets users buy the entire crypto market.  On this episode of The Scoop, Ethereum 2.0 developer and Prysmatic Labs founder Preston Van Loon and Joe Sticco broke down Cryptex.The post A deep dive into Eth 2.0, scaling and a project that lets users buy the entire crypto market appeared first on The Block. ... [| Skaityti daugiau](https://www.theblockcrypto.com/post/96892/cryptex-tcap-ethereum-2-scaling?utm_source=cryptocompare&utm_medium=rss) "
      ],
      "text/plain": [
       "<IPython.core.display.Markdown object>"
      ]
     },
     "execution_count": 7,
     "metadata": {},
     "output_type": "execute_result"
    }
   ],
   "source": [
    "#hide_input\n",
    "#md('##### {}'.format(titleBTC)) \n",
    "md(\"- {}{} {}{} [| Skaityti daugiau]({}) \".format(eth['title'],'. ', eth['body'], ' ...', eth['url']))"
   ]
  },
  {
   "cell_type": "code",
   "execution_count": 8,
   "id": "sublime-lounge",
   "metadata": {
    "execution": {
     "iopub.execute_input": "2021-03-03T01:44:19.855874Z",
     "iopub.status.busy": "2021-03-03T01:44:19.855287Z",
     "iopub.status.idle": "2021-03-03T01:44:19.861278Z",
     "shell.execute_reply": "2021-03-03T01:44:19.861729Z"
    },
    "papermill": {
     "duration": 0.02473,
     "end_time": "2021-03-03T01:44:19.861869",
     "exception": false,
     "start_time": "2021-03-03T01:44:19.837139",
     "status": "completed"
    },
    "tags": []
   },
   "outputs": [
    {
     "data": {
      "text/markdown": [
       "- BIGG Digital Assets: A Hidden Gem In The Crypto Business.  Cryptocurrencies are showing intense volatility in their price actions.Bitcoin (BTC-USD) last week reached a high of $58K and fell to $42K, crazier fluctuations are seen in altcoins such as Ethereum (ETH-USD) and Cardano (ADA-USD).Investors unwilling to deal with this volatility may find it better to invest in a \"Pick and Shovel\" play in this industry.One such hidden gem is BIGG Digital Assets that owns and operates a Crypto brokerage and a Crypto intelligence company. ... [| Skaityti daugiau](https://seekingalpha.com/article/4410879-bigg-digital-assets-hidden-gem-crypto-business?utm_source=cryptocompare.com&utm_medium=referral) "
      ],
      "text/plain": [
       "<IPython.core.display.Markdown object>"
      ]
     },
     "execution_count": 8,
     "metadata": {},
     "output_type": "execute_result"
    }
   ],
   "source": [
    "#hide_input\n",
    "#md('##### {}'.format(titleBTC)) \n",
    "md(\"- {}{} {}{} [| Skaityti daugiau]({}) \".format(ada['title'],'. ', ada['body'], ' ...', ada['url']))"
   ]
  },
  {
   "cell_type": "code",
   "execution_count": 9,
   "id": "specified-ordering",
   "metadata": {
    "execution": {
     "iopub.execute_input": "2021-03-03T01:44:19.894188Z",
     "iopub.status.busy": "2021-03-03T01:44:19.893540Z",
     "iopub.status.idle": "2021-03-03T01:44:19.896245Z",
     "shell.execute_reply": "2021-03-03T01:44:19.895683Z"
    },
    "papermill": {
     "duration": 0.0221,
     "end_time": "2021-03-03T01:44:19.896363",
     "exception": false,
     "start_time": "2021-03-03T01:44:19.874263",
     "status": "completed"
    },
    "tags": []
   },
   "outputs": [
    {
     "data": {
      "text/markdown": [
       "- Bitcoin has brought new thinking to payments and financial inclusion: SEC chair nominee.  When it comes to Bitcoin, market opinions are often divided, with those who support the asset and those who don’t. Similar camps may now appear to take hold of US regulators and policymakers. Recently, President Biden’s nominee for chairman of United States Securities and Exchange Commission (SEC), Gary Gensler appeared to share his perspective on [&#8230;] ... [| Skaityti daugiau](https://ambcrypto.com/bitcoin-has-brought-new-thinking-to-payments-and-financial-inclusion-sec-chair-nominee/) "
      ],
      "text/plain": [
       "<IPython.core.display.Markdown object>"
      ]
     },
     "execution_count": 9,
     "metadata": {},
     "output_type": "execute_result"
    }
   ],
   "source": [
    "#hide_input\n",
    "#md('##### {}'.format(titleBTC)) \n",
    "md(\"- {}{} {}{} [| Skaityti daugiau]({}) \".format(exchange['title'],'. ', exchange['body'], ' ...', exchange['url']))"
   ]
  },
  {
   "cell_type": "code",
   "execution_count": null,
   "id": "tender-livestock",
   "metadata": {
    "papermill": {
     "duration": 0.013053,
     "end_time": "2021-03-03T01:44:19.922392",
     "exception": false,
     "start_time": "2021-03-03T01:44:19.909339",
     "status": "completed"
    },
    "tags": []
   },
   "outputs": [],
   "source": []
  },
  {
   "cell_type": "code",
   "execution_count": null,
   "id": "appreciated-diamond",
   "metadata": {
    "papermill": {
     "duration": 0.012809,
     "end_time": "2021-03-03T01:44:19.948208",
     "exception": false,
     "start_time": "2021-03-03T01:44:19.935399",
     "status": "completed"
    },
    "tags": []
   },
   "outputs": [],
   "source": []
  },
  {
   "cell_type": "code",
   "execution_count": null,
   "id": "romance-sweden",
   "metadata": {
    "papermill": {
     "duration": 0.012858,
     "end_time": "2021-03-03T01:44:19.973735",
     "exception": false,
     "start_time": "2021-03-03T01:44:19.960877",
     "status": "completed"
    },
    "tags": []
   },
   "outputs": [],
   "source": []
  },
  {
   "cell_type": "code",
   "execution_count": null,
   "id": "dietary-statistics",
   "metadata": {
    "papermill": {
     "duration": 0.012724,
     "end_time": "2021-03-03T01:44:19.998801",
     "exception": false,
     "start_time": "2021-03-03T01:44:19.986077",
     "status": "completed"
    },
    "tags": []
   },
   "outputs": [],
   "source": []
  }
 ],
 "metadata": {
  "kernelspec": {
   "display_name": "Python 3",
   "language": "python",
   "name": "python3"
  },
  "language_info": {
   "codemirror_mode": {
    "name": "ipython",
    "version": 3
   },
   "file_extension": ".py",
   "mimetype": "text/x-python",
   "name": "python",
   "nbconvert_exporter": "python",
   "pygments_lexer": "ipython3",
   "version": "3.6.13"
  },
  "papermill": {
   "default_parameters": {},
   "duration": 11.161869,
   "end_time": "2021-03-03T01:44:20.521977",
   "environment_variables": {},
   "exception": null,
   "input_path": "Market-News.ipynb",
   "output_path": "Market-News.ipynb",
   "parameters": {},
   "start_time": "2021-03-03T01:44:09.360108",
   "version": "2.2.2"
  }
 },
 "nbformat": 4,
 "nbformat_minor": 5
}