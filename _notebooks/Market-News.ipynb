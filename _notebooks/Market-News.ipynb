{
 "cells": [
  {
   "cell_type": "markdown",
   "id": "short-greensboro",
   "metadata": {
    "papermill": {
     "duration": 0.014193,
     "end_time": "2021-07-13T02:00:44.340784",
     "exception": false,
     "start_time": "2021-07-13T02:00:44.326591",
     "status": "completed"
    },
    "tags": []
   },
   "source": [
    "# Kriptovaliutų naujienos"
   ]
  },
  {
   "cell_type": "code",
   "execution_count": 1,
   "id": "functioning-knowing",
   "metadata": {
    "execution": {
     "iopub.execute_input": "2021-07-13T02:00:44.369884Z",
     "iopub.status.busy": "2021-07-13T02:00:44.369371Z",
     "iopub.status.idle": "2021-07-13T02:00:45.525304Z",
     "shell.execute_reply": "2021-07-13T02:00:45.524774Z"
    },
    "papermill": {
     "duration": 1.175021,
     "end_time": "2021-07-13T02:00:45.525461",
     "exception": false,
     "start_time": "2021-07-13T02:00:44.350440",
     "status": "completed"
    },
    "tags": []
   },
   "outputs": [],
   "source": [
    "#hide_input\n",
    "import warnings\n",
    "warnings.filterwarnings('ignore')\n",
    "from scripts.read_data import read_api\n",
    "from scripts.read_data import read_news\n",
    "from scripts.read_data import read_covid\n",
    "import matplotlib.pyplot as plt \n",
    "from IPython.display import Markdown as md"
   ]
  },
  {
   "cell_type": "code",
   "execution_count": 2,
   "id": "shared-acceptance",
   "metadata": {
    "execution": {
     "iopub.execute_input": "2021-07-13T02:00:45.550998Z",
     "iopub.status.busy": "2021-07-13T02:00:45.550471Z",
     "iopub.status.idle": "2021-07-13T02:00:52.436991Z",
     "shell.execute_reply": "2021-07-13T02:00:52.436080Z"
    },
    "papermill": {
     "duration": 6.901346,
     "end_time": "2021-07-13T02:00:52.437129",
     "exception": false,
     "start_time": "2021-07-13T02:00:45.535783",
     "status": "completed"
    },
    "tags": []
   },
   "outputs": [],
   "source": [
    "#hide_input\n",
    "blockchain = read_news('blockchain') \n",
    "btc = read_news('btc') \n",
    "xrp = read_news('xrp') \n",
    "trx = read_news('trx') \n",
    "eth = read_news('eth')  \n",
    "ada = read_news('ada')\n",
    "exchange = read_news('exchange') "
   ]
  },
  {
   "cell_type": "code",
   "execution_count": 3,
   "id": "synthetic-notion",
   "metadata": {
    "execution": {
     "iopub.execute_input": "2021-07-13T02:00:52.461685Z",
     "iopub.status.busy": "2021-07-13T02:00:52.461139Z",
     "iopub.status.idle": "2021-07-13T02:00:52.463307Z",
     "shell.execute_reply": "2021-07-13T02:00:52.463797Z"
    },
    "papermill": {
     "duration": 0.017265,
     "end_time": "2021-07-13T02:00:52.463916",
     "exception": false,
     "start_time": "2021-07-13T02:00:52.446651",
     "status": "completed"
    },
    "tags": []
   },
   "outputs": [
    {
     "data": {
      "text/markdown": [
       "- Vietnam Plans To Pilot CBDC Through State Banks.  Although the government has stated that a sovereign digital currency will not replace the country&#8217;s fiat currency, Vietnam has become the latest country to investigate central bank digital currency (CBDC). Vietnam’s Working On Digital Currency According to Nikkei Asia on Monday (July 12, 2021), the Vietnamese government&#8217;s decision to investigate the construction of a CBDC [&#8230;] ... [| Skaityti daugiau](https://bitcoinist.com/vietnam-plans-to-pilot-cbdc-through-state-banks/?utm_source=rss&utm_medium=rss&utm_campaign=vietnam-plans-to-pilot-cbdc-through-state-banks) "
      ],
      "text/plain": [
       "<IPython.core.display.Markdown object>"
      ]
     },
     "execution_count": 3,
     "metadata": {},
     "output_type": "execute_result"
    }
   ],
   "source": [
    "#hide_input\n",
    "#md('##### {}'.format(titleBTC)) \n",
    "md(\"- {}{} {}{} [| Skaityti daugiau]({}) \".format(blockchain['title'],'. ', blockchain['body'], ' ...', blockchain['url']))"
   ]
  },
  {
   "cell_type": "code",
   "execution_count": 4,
   "id": "aging-caution",
   "metadata": {
    "execution": {
     "iopub.execute_input": "2021-07-13T02:00:52.486811Z",
     "iopub.status.busy": "2021-07-13T02:00:52.486295Z",
     "iopub.status.idle": "2021-07-13T02:00:52.489241Z",
     "shell.execute_reply": "2021-07-13T02:00:52.488849Z"
    },
    "papermill": {
     "duration": 0.016079,
     "end_time": "2021-07-13T02:00:52.489341",
     "exception": false,
     "start_time": "2021-07-13T02:00:52.473262",
     "status": "completed"
    },
    "tags": []
   },
   "outputs": [
    {
     "data": {
      "text/markdown": [
       "- Fidelity Digital Is Expanding Workforce By 70% Due To Crypto Demand.  The institutional buy-in through major banks and adjacent firms continues this week. Fidelity Digital is the company&#8217;s enterprise-grade solution for digital assets. In a recent story first broken by Bloomberg this week, crypto demand is leading the Fidelity division to expand staffing by roughly 70%. Fidelity Digital: Doubling Down The report cites an interview with [&#8230;] ... [| Skaityti daugiau](https://www.newsbtc.com/news/fidelity-expanding-due-to-crypto-demand/) "
      ],
      "text/plain": [
       "<IPython.core.display.Markdown object>"
      ]
     },
     "execution_count": 4,
     "metadata": {},
     "output_type": "execute_result"
    }
   ],
   "source": [
    "#hide_input\n",
    "#md('##### {}'.format(titleBTC)) \n",
    "md(\"- {}{} {}{} [| Skaityti daugiau]({}) \".format(btc['title'],'. ', btc['body'], ' ...', btc['url']))"
   ]
  },
  {
   "cell_type": "code",
   "execution_count": 5,
   "id": "organic-actress",
   "metadata": {
    "execution": {
     "iopub.execute_input": "2021-07-13T02:00:52.512998Z",
     "iopub.status.busy": "2021-07-13T02:00:52.512423Z",
     "iopub.status.idle": "2021-07-13T02:00:52.516004Z",
     "shell.execute_reply": "2021-07-13T02:00:52.516379Z"
    },
    "papermill": {
     "duration": 0.017531,
     "end_time": "2021-07-13T02:00:52.516492",
     "exception": false,
     "start_time": "2021-07-13T02:00:52.498961",
     "status": "completed"
    },
    "tags": []
   },
   "outputs": [
    {
     "data": {
      "text/markdown": [
       "- Ripple insists on deposing former high-ranking SEC official as part of XRP lawsuit.  Ripple Labs, the blockchain company behind the XRP token that is currently locked in a $1.3 billion legal battle with the United States Securities and Exchange Commission (SEC), has rescheduled the deposition of William Hinman, the SEC’s former director of Division of Corporation Finance, to July 19, according to court filing published last Friday. The post Ripple insists on deposing former high-ranking SEC official as part of XRP lawsuit appeared first on CryptoSlate. ... [| Skaityti daugiau](https://cryptoslate.com/ripple-insists-on-deposing-former-high-ranking-sec-official-as-part-of-xrp-lawsuit/) "
      ],
      "text/plain": [
       "<IPython.core.display.Markdown object>"
      ]
     },
     "execution_count": 5,
     "metadata": {},
     "output_type": "execute_result"
    }
   ],
   "source": [
    "#hide_input\n",
    "#md('##### {}'.format(titleBTC)) \n",
    "md(\"- {}{} {}{} [| Skaityti daugiau]({}) \".format(xrp['title'],'. ', xrp['body'], ' ...', xrp['url']))"
   ]
  },
  {
   "cell_type": "code",
   "execution_count": 6,
   "id": "prompt-farmer",
   "metadata": {
    "execution": {
     "iopub.execute_input": "2021-07-13T02:00:52.540218Z",
     "iopub.status.busy": "2021-07-13T02:00:52.539208Z",
     "iopub.status.idle": "2021-07-13T02:00:52.543084Z",
     "shell.execute_reply": "2021-07-13T02:00:52.542683Z"
    },
    "papermill": {
     "duration": 0.016731,
     "end_time": "2021-07-13T02:00:52.543183",
     "exception": false,
     "start_time": "2021-07-13T02:00:52.526452",
     "status": "completed"
    },
    "tags": []
   },
   "outputs": [
    {
     "data": {
      "text/markdown": [
       "- Tron’s (TRX) Daily Transaction Count Has Grown by 522% in One Year.  The daily transaction count on the Tron network has grown by 522% in the last year Tron recently hit an all-time high in daily transactions at 9.278 million The growth of unique accounts on Tron continues to grow in a parabolic manner with the network hosting 45.160 million total accounts However, TRX/USDT is about to experience a death cross that should usher in a bearish time period for Tron Yesterday, the Tron (TRX) network hit a new all-time high in [&#8230;] ... [| Skaityti daugiau](https://en.ethereumworldnews.com/trons-trx-daily-transaction-count-has-grown-by-522-in-one-year/) "
      ],
      "text/plain": [
       "<IPython.core.display.Markdown object>"
      ]
     },
     "execution_count": 6,
     "metadata": {},
     "output_type": "execute_result"
    }
   ],
   "source": [
    "#hide_input\n",
    "#md('##### {}'.format(titleBTC)) \n",
    "md(\"- {}{} {}{} [| Skaityti daugiau]({}) \".format(trx['title'],'. ', trx['body'], ' ...', trx['url']))"
   ]
  },
  {
   "cell_type": "code",
   "execution_count": 7,
   "id": "illegal-greece",
   "metadata": {
    "execution": {
     "iopub.execute_input": "2021-07-13T02:00:52.567904Z",
     "iopub.status.busy": "2021-07-13T02:00:52.567411Z",
     "iopub.status.idle": "2021-07-13T02:00:52.569885Z",
     "shell.execute_reply": "2021-07-13T02:00:52.570260Z"
    },
    "papermill": {
     "duration": 0.016834,
     "end_time": "2021-07-13T02:00:52.570371",
     "exception": false,
     "start_time": "2021-07-13T02:00:52.553537",
     "status": "completed"
    },
    "tags": []
   },
   "outputs": [
    {
     "data": {
      "text/markdown": [
       "- Ethereum, Binance Coin, Chainlink Price Analysis: 12 July.  Last week, most major altcoins were trading the in the red. However, this week, even though the broader market showed mixed signals, some altcoins performed relatively better. Ethereum stayed above $2000 and moved much further up from its support level of $1753, Binance Coin was on an uptrend, and Chainlink, despite opening the market in [&#8230;] ... [| Skaityti daugiau](https://ambcrypto.com/ethereum-binance-coin-chainlink-price-analysis-12-july/) "
      ],
      "text/plain": [
       "<IPython.core.display.Markdown object>"
      ]
     },
     "execution_count": 7,
     "metadata": {},
     "output_type": "execute_result"
    }
   ],
   "source": [
    "#hide_input\n",
    "#md('##### {}'.format(titleBTC)) \n",
    "md(\"- {}{} {}{} [| Skaityti daugiau]({}) \".format(eth['title'],'. ', eth['body'], ' ...', eth['url']))"
   ]
  },
  {
   "cell_type": "code",
   "execution_count": 8,
   "id": "sublime-lounge",
   "metadata": {
    "execution": {
     "iopub.execute_input": "2021-07-13T02:00:52.595650Z",
     "iopub.status.busy": "2021-07-13T02:00:52.595159Z",
     "iopub.status.idle": "2021-07-13T02:00:52.597729Z",
     "shell.execute_reply": "2021-07-13T02:00:52.598158Z"
    },
    "papermill": {
     "duration": 0.017314,
     "end_time": "2021-07-13T02:00:52.598268",
     "exception": false,
     "start_time": "2021-07-13T02:00:52.580954",
     "status": "completed"
    },
    "tags": []
   },
   "outputs": [
    {
     "data": {
      "text/markdown": [
       "- Cardano Price is Nearing a Significant Breakout, Will ADA Price cross $1.50 in Coming Days?.  The post Cardano Price is Nearing a Significant Breakout, Will ADA Price cross $1.50 in Coming Days? appeared first on Coinpedia - Fintech &amp; Cryptocurreny News Media| Crypto GuideA bullish trigger is desperately needed for Cardano. (ADA) is up 2.62 percent in the last 24 hours, trading at $1.367, and seeking that little bit of momentum to take it to or beyond $1.40. Cardano&#8217;s price may be building up momentum in preparation for the next big move. Anyhow In its attempt to regain &#8230; ... [| Skaityti daugiau](https://coinpedia.org/price-analysis/cardano-price-is-nearing-a-significant-breakout/) "
      ],
      "text/plain": [
       "<IPython.core.display.Markdown object>"
      ]
     },
     "execution_count": 8,
     "metadata": {},
     "output_type": "execute_result"
    }
   ],
   "source": [
    "#hide_input\n",
    "#md('##### {}'.format(titleBTC)) \n",
    "md(\"- {}{} {}{} [| Skaityti daugiau]({}) \".format(ada['title'],'. ', ada['body'], ' ...', ada['url']))"
   ]
  },
  {
   "cell_type": "code",
   "execution_count": 9,
   "id": "specified-ordering",
   "metadata": {
    "execution": {
     "iopub.execute_input": "2021-07-13T02:00:52.624223Z",
     "iopub.status.busy": "2021-07-13T02:00:52.623733Z",
     "iopub.status.idle": "2021-07-13T02:00:52.626813Z",
     "shell.execute_reply": "2021-07-13T02:00:52.626392Z"
    },
    "papermill": {
     "duration": 0.017718,
     "end_time": "2021-07-13T02:00:52.626915",
     "exception": false,
     "start_time": "2021-07-13T02:00:52.609197",
     "status": "completed"
    },
    "tags": []
   },
   "outputs": [
    {
     "data": {
      "text/markdown": [
       "- Ripple insists on deposing former high-ranking SEC official as part of XRP lawsuit.  Ripple Labs, the blockchain company behind the XRP token that is currently locked in a $1.3 billion legal battle with the United States Securities and Exchange Commission (SEC), has rescheduled the deposition of William Hinman, the SEC’s former director of Division of Corporation Finance, to July 19, according to court filing published last Friday. The post Ripple insists on deposing former high-ranking SEC official as part of XRP lawsuit appeared first on CryptoSlate. ... [| Skaityti daugiau](https://cryptoslate.com/ripple-insists-on-deposing-former-high-ranking-sec-official-as-part-of-xrp-lawsuit/) "
      ],
      "text/plain": [
       "<IPython.core.display.Markdown object>"
      ]
     },
     "execution_count": 9,
     "metadata": {},
     "output_type": "execute_result"
    }
   ],
   "source": [
    "#hide_input\n",
    "#md('##### {}'.format(titleBTC)) \n",
    "md(\"- {}{} {}{} [| Skaityti daugiau]({}) \".format(exchange['title'],'. ', exchange['body'], ' ...', exchange['url']))"
   ]
  },
  {
   "cell_type": "code",
   "execution_count": null,
   "id": "tender-livestock",
   "metadata": {
    "papermill": {
     "duration": 0.011256,
     "end_time": "2021-07-13T02:00:52.649333",
     "exception": false,
     "start_time": "2021-07-13T02:00:52.638077",
     "status": "completed"
    },
    "tags": []
   },
   "outputs": [],
   "source": []
  },
  {
   "cell_type": "code",
   "execution_count": null,
   "id": "appreciated-diamond",
   "metadata": {
    "papermill": {
     "duration": 0.01119,
     "end_time": "2021-07-13T02:00:52.672005",
     "exception": false,
     "start_time": "2021-07-13T02:00:52.660815",
     "status": "completed"
    },
    "tags": []
   },
   "outputs": [],
   "source": []
  },
  {
   "cell_type": "code",
   "execution_count": null,
   "id": "romance-sweden",
   "metadata": {
    "papermill": {
     "duration": 0.011314,
     "end_time": "2021-07-13T02:00:52.694616",
     "exception": false,
     "start_time": "2021-07-13T02:00:52.683302",
     "status": "completed"
    },
    "tags": []
   },
   "outputs": [],
   "source": []
  },
  {
   "cell_type": "code",
   "execution_count": null,
   "id": "dietary-statistics",
   "metadata": {
    "papermill": {
     "duration": 0.012723,
     "end_time": "2021-07-13T02:00:52.718651",
     "exception": false,
     "start_time": "2021-07-13T02:00:52.705928",
     "status": "completed"
    },
    "tags": []
   },
   "outputs": [],
   "source": []
  }
 ],
 "metadata": {
  "kernelspec": {
   "display_name": "Python 3",
   "language": "python",
   "name": "python3"
  },
  "language_info": {
   "codemirror_mode": {
    "name": "ipython",
    "version": 3
   },
   "file_extension": ".py",
   "mimetype": "text/x-python",
   "name": "python",
   "nbconvert_exporter": "python",
   "pygments_lexer": "ipython3",
   "version": "3.6.13"
  },
  "papermill": {
   "default_parameters": {},
   "duration": 9.836675,
   "end_time": "2021-07-13T02:00:53.137453",
   "environment_variables": {},
   "exception": null,
   "input_path": "Market-News.ipynb",
   "output_path": "Market-News.ipynb",
   "parameters": {},
   "start_time": "2021-07-13T02:00:43.300778",
   "version": "2.2.2"
  }
 },
 "nbformat": 4,
 "nbformat_minor": 5
}