{
 "cells": [
  {
   "cell_type": "markdown",
   "id": "short-greensboro",
   "metadata": {
    "papermill": {
     "duration": 0.017812,
     "end_time": "2021-03-21T01:53:28.858162",
     "exception": false,
     "start_time": "2021-03-21T01:53:28.840350",
     "status": "completed"
    },
    "tags": []
   },
   "source": [
    "# Kriptovaliutų naujienos"
   ]
  },
  {
   "cell_type": "code",
   "execution_count": 1,
   "id": "functioning-knowing",
   "metadata": {
    "execution": {
     "iopub.execute_input": "2021-03-21T01:53:28.896047Z",
     "iopub.status.busy": "2021-03-21T01:53:28.895341Z",
     "iopub.status.idle": "2021-03-21T01:53:30.342565Z",
     "shell.execute_reply": "2021-03-21T01:53:30.343093Z"
    },
    "papermill": {
     "duration": 1.472288,
     "end_time": "2021-03-21T01:53:30.343288",
     "exception": false,
     "start_time": "2021-03-21T01:53:28.871000",
     "status": "completed"
    },
    "tags": []
   },
   "outputs": [],
   "source": [
    "#hide_input\n",
    "import warnings\n",
    "warnings.filterwarnings('ignore')\n",
    "from scripts.read_data import read_api\n",
    "from scripts.read_data import read_news\n",
    "from scripts.read_data import read_covid\n",
    "import matplotlib.pyplot as plt \n",
    "from IPython.display import Markdown as md"
   ]
  },
  {
   "cell_type": "code",
   "execution_count": 2,
   "id": "shared-acceptance",
   "metadata": {
    "execution": {
     "iopub.execute_input": "2021-03-21T01:53:30.373965Z",
     "iopub.status.busy": "2021-03-21T01:53:30.373301Z",
     "iopub.status.idle": "2021-03-21T01:53:40.042236Z",
     "shell.execute_reply": "2021-03-21T01:53:40.042797Z"
    },
    "papermill": {
     "duration": 9.68724,
     "end_time": "2021-03-21T01:53:40.043028",
     "exception": false,
     "start_time": "2021-03-21T01:53:30.355788",
     "status": "completed"
    },
    "tags": []
   },
   "outputs": [],
   "source": [
    "#hide_input\n",
    "blockchain = read_news('blockchain') \n",
    "btc = read_news('btc') \n",
    "xrp = read_news('xrp') \n",
    "trx = read_news('trx') \n",
    "eth = read_news('eth')  \n",
    "ada = read_news('ada')\n",
    "exchange = read_news('exchange') "
   ]
  },
  {
   "cell_type": "code",
   "execution_count": 3,
   "id": "synthetic-notion",
   "metadata": {
    "execution": {
     "iopub.execute_input": "2021-03-21T01:53:40.074840Z",
     "iopub.status.busy": "2021-03-21T01:53:40.073852Z",
     "iopub.status.idle": "2021-03-21T01:53:40.080231Z",
     "shell.execute_reply": "2021-03-21T01:53:40.080728Z"
    },
    "papermill": {
     "duration": 0.024989,
     "end_time": "2021-03-21T01:53:40.080868",
     "exception": false,
     "start_time": "2021-03-21T01:53:40.055879",
     "status": "completed"
    },
    "tags": []
   },
   "outputs": [
    {
     "data": {
      "text/markdown": [
       "- This Low Cap Crypto Asset Could Be the Most Undervalued Altcoin on the Market, According to Coin Bureau.  Popular crypto analyst Coin Bureau is revealing which altcoin he believes could be the most undervalued asset in the crypto sector. In a new video, the pseudonymous host who works under the moniker Guy tells his 539,000 subscribers that he’s got his eye on sharding protocol ONE, the native asset of Harmony. Harmony is a [&#8230;]The post This Low Cap Crypto Asset Could Be the Most Undervalued Altcoin on the Market, According to Coin Bureau appeared first on The Daily Hodl. ... [| Skaityti daugiau](https://dailyhodl.com/2021/03/20/this-low-cap-crypto-asset-could-be-the-most-undervalued-altcoin-on-the-market-according-to-coin-bureau/) "
      ],
      "text/plain": [
       "<IPython.core.display.Markdown object>"
      ]
     },
     "execution_count": 3,
     "metadata": {},
     "output_type": "execute_result"
    }
   ],
   "source": [
    "#hide_input\n",
    "#md('##### {}'.format(titleBTC)) \n",
    "md(\"- {}{} {}{} [| Skaityti daugiau]({}) \".format(blockchain['title'],'. ', blockchain['body'], ' ...', blockchain['url']))"
   ]
  },
  {
   "cell_type": "code",
   "execution_count": 4,
   "id": "aging-caution",
   "metadata": {
    "execution": {
     "iopub.execute_input": "2021-03-21T01:53:40.109636Z",
     "iopub.status.busy": "2021-03-21T01:53:40.109008Z",
     "iopub.status.idle": "2021-03-21T01:53:40.112279Z",
     "shell.execute_reply": "2021-03-21T01:53:40.111657Z"
    },
    "papermill": {
     "duration": 0.01992,
     "end_time": "2021-03-21T01:53:40.112399",
     "exception": false,
     "start_time": "2021-03-21T01:53:40.092479",
     "status": "completed"
    },
    "tags": []
   },
   "outputs": [
    {
     "data": {
      "text/markdown": [
       "- Bitcoin Is ‘Volatile’, Not an Inflation Hedge, and Is ‘Impractical’, Says Bank of America Analyst.  Bank of America analyst Francisco Blanch has slammed the flagship cryptocurrency bitcoin using various criteria in a review of the bull argument for BTC. Per Blanch, bitcoin has many flaws including its volatility and practicality. Bitcoin’s supply is capped at 21 million which protects it from quantitative easing and other monetary policies that inflate money […] ... [| Skaityti daugiau](https://www.cryptoglobe.com/latest/2021/03/bitcoin-is-volatile-not-an-inflation-hedge-and-impractical-says-bank-of-america-analyst/) "
      ],
      "text/plain": [
       "<IPython.core.display.Markdown object>"
      ]
     },
     "execution_count": 4,
     "metadata": {},
     "output_type": "execute_result"
    }
   ],
   "source": [
    "#hide_input\n",
    "#md('##### {}'.format(titleBTC)) \n",
    "md(\"- {}{} {}{} [| Skaityti daugiau]({}) \".format(btc['title'],'. ', btc['body'], ' ...', btc['url']))"
   ]
  },
  {
   "cell_type": "code",
   "execution_count": 5,
   "id": "organic-actress",
   "metadata": {
    "execution": {
     "iopub.execute_input": "2021-03-21T01:53:40.139972Z",
     "iopub.status.busy": "2021-03-21T01:53:40.139301Z",
     "iopub.status.idle": "2021-03-21T01:53:40.144061Z",
     "shell.execute_reply": "2021-03-21T01:53:40.144606Z"
    },
    "papermill": {
     "duration": 0.020539,
     "end_time": "2021-03-21T01:53:40.144744",
     "exception": false,
     "start_time": "2021-03-21T01:53:40.124205",
     "status": "completed"
    },
    "tags": []
   },
   "outputs": [
    {
     "data": {
      "text/markdown": [
       "- Ripple Price Analysis: After 11% Daily Surge, XRP Finally Breaches The $0.5 Resistance.  XRP saw an impressive 11% price surge today as the cryptocurrency finally broke back above the critical level of $0.50. Against Bitcoin, XRP rebounded from this week’s support at 800 SAT and is now pushing to break resistance at a descending trendline. ... [| Skaityti daugiau](https://cryptopotato.com/ripple-price-analysis-after-11-daily-surge-xrp-finally-breaches-the-0-5-resistance/) "
      ],
      "text/plain": [
       "<IPython.core.display.Markdown object>"
      ]
     },
     "execution_count": 5,
     "metadata": {},
     "output_type": "execute_result"
    }
   ],
   "source": [
    "#hide_input\n",
    "#md('##### {}'.format(titleBTC)) \n",
    "md(\"- {}{} {}{} [| Skaityti daugiau]({}) \".format(xrp['title'],'. ', xrp['body'], ' ...', xrp['url']))"
   ]
  },
  {
   "cell_type": "code",
   "execution_count": 6,
   "id": "prompt-farmer",
   "metadata": {
    "execution": {
     "iopub.execute_input": "2021-03-21T01:53:40.175408Z",
     "iopub.status.busy": "2021-03-21T01:53:40.174763Z",
     "iopub.status.idle": "2021-03-21T01:53:40.178326Z",
     "shell.execute_reply": "2021-03-21T01:53:40.177758Z"
    },
    "papermill": {
     "duration": 0.021448,
     "end_time": "2021-03-21T01:53:40.178453",
     "exception": false,
     "start_time": "2021-03-21T01:53:40.157005",
     "status": "completed"
    },
    "tags": []
   },
   "outputs": [
    {
     "data": {
      "text/markdown": [
       "- Tron, Monero, Tezos, Synthetix Price Analysis: 20 March.  Gains over the past 24 hours saw Tron rise to a multi-year high above $0.066. Monero was restricted below $238.6-resistance, while Tezos presented an upside at the $5-mark in a bullish outcome. Lastly, SNX showed signs of a recovery since the pullback in late-February. Tron [TRX] An upwards breakout from an ascending channel saw Tron [&#8230;] ... [| Skaityti daugiau](https://ambcrypto.com/tron-monero-tezos-synthetix-price-analysis-20-march/) "
      ],
      "text/plain": [
       "<IPython.core.display.Markdown object>"
      ]
     },
     "execution_count": 6,
     "metadata": {},
     "output_type": "execute_result"
    }
   ],
   "source": [
    "#hide_input\n",
    "#md('##### {}'.format(titleBTC)) \n",
    "md(\"- {}{} {}{} [| Skaityti daugiau]({}) \".format(trx['title'],'. ', trx['body'], ' ...', trx['url']))"
   ]
  },
  {
   "cell_type": "code",
   "execution_count": 7,
   "id": "illegal-greece",
   "metadata": {
    "execution": {
     "iopub.execute_input": "2021-03-21T01:53:40.210158Z",
     "iopub.status.busy": "2021-03-21T01:53:40.209483Z",
     "iopub.status.idle": "2021-03-21T01:53:40.211920Z",
     "shell.execute_reply": "2021-03-21T01:53:40.212529Z"
    },
    "papermill": {
     "duration": 0.0211,
     "end_time": "2021-03-21T01:53:40.212661",
     "exception": false,
     "start_time": "2021-03-21T01:53:40.191561",
     "status": "completed"
    },
    "tags": []
   },
   "outputs": [
    {
     "data": {
      "text/markdown": [
       "- Crypto Analyst Explains Why He Expects Ethereum ($ETH) to go to $10,000 and Beyond.  On Thursday (March 18), popular New Zealand-based crypto analyst and influencer Lark Davis (@TheCryptoLark on Twitter) talked about the reasons for his bullishness on Ethereum (ETH). Davis started by talking about the supply of Ethereum: “First, let’s start off by talking about the supply of Ethereum right now. This week, we had the second biggest Ethereum outflow […] ... [| Skaityti daugiau](https://www.cryptoglobe.com/latest/2021/03/crypto-analyst-explains-why-he-expects-ethereum-eth-to-go-to-10000-and-beyond/) "
      ],
      "text/plain": [
       "<IPython.core.display.Markdown object>"
      ]
     },
     "execution_count": 7,
     "metadata": {},
     "output_type": "execute_result"
    }
   ],
   "source": [
    "#hide_input\n",
    "#md('##### {}'.format(titleBTC)) \n",
    "md(\"- {}{} {}{} [| Skaityti daugiau]({}) \".format(eth['title'],'. ', eth['body'], ' ...', eth['url']))"
   ]
  },
  {
   "cell_type": "code",
   "execution_count": 8,
   "id": "sublime-lounge",
   "metadata": {
    "execution": {
     "iopub.execute_input": "2021-03-21T01:53:40.243512Z",
     "iopub.status.busy": "2021-03-21T01:53:40.242881Z",
     "iopub.status.idle": "2021-03-21T01:53:40.246159Z",
     "shell.execute_reply": "2021-03-21T01:53:40.245589Z"
    },
    "papermill": {
     "duration": 0.020511,
     "end_time": "2021-03-21T01:53:40.246281",
     "exception": false,
     "start_time": "2021-03-21T01:53:40.225770",
     "status": "completed"
    },
    "tags": []
   },
   "outputs": [
    {
     "data": {
      "text/markdown": [
       "- Charles Hoskinson Explains How He Will Know That Cardano Has Achieved ‘Success’.  On Friday (March 19), Charles Hoskinson, Founder of Cardano (ADA), as well as Co-Founder and CEO of IOHK, described a scenario that would tell him that Cardano has “done something unique, magical, and special.” Hoskinson’s comments came in a video (titled “Short Thoughts: When Does Cardano Realize its Potential?”) he published on his YouTube channel […] ... [| Skaityti daugiau](https://www.cryptoglobe.com/latest/2021/03/charles-hoskinson-explains-how-he-will-know-that-cardano-has-achieved-success/) "
      ],
      "text/plain": [
       "<IPython.core.display.Markdown object>"
      ]
     },
     "execution_count": 8,
     "metadata": {},
     "output_type": "execute_result"
    }
   ],
   "source": [
    "#hide_input\n",
    "#md('##### {}'.format(titleBTC)) \n",
    "md(\"- {}{} {}{} [| Skaityti daugiau]({}) \".format(ada['title'],'. ', ada['body'], ' ...', ada['url']))"
   ]
  },
  {
   "cell_type": "code",
   "execution_count": 9,
   "id": "specified-ordering",
   "metadata": {
    "execution": {
     "iopub.execute_input": "2021-03-21T01:53:40.278965Z",
     "iopub.status.busy": "2021-03-21T01:53:40.278338Z",
     "iopub.status.idle": "2021-03-21T01:53:40.281530Z",
     "shell.execute_reply": "2021-03-21T01:53:40.280905Z"
    },
    "papermill": {
     "duration": 0.021,
     "end_time": "2021-03-21T01:53:40.281650",
     "exception": false,
     "start_time": "2021-03-21T01:53:40.260650",
     "status": "completed"
    },
    "tags": []
   },
   "outputs": [
    {
     "data": {
      "text/markdown": [
       "- Brazil approves Bitcoin ETF – SkyBridge files for its own.  Brazil Securities and Exchange Commission (CVM) approved Latin America&#8217;s first Bitcoin Exchange Traded Fund (ETF). Requested by firm QR Asset Management, their Bitcoin ETF will trade under the ticker QBTC11 on exchange B3. This platform is the world second to launch a ETF backed by the cryptocurrency, after Canada greenlighted one in February. The QBTC11 [&#8230;] ... [| Skaityti daugiau](https://www.newsbtc.com/news/brazil-approves-bitcoin-etf-skybridge-files-for-its-own/) "
      ],
      "text/plain": [
       "<IPython.core.display.Markdown object>"
      ]
     },
     "execution_count": 9,
     "metadata": {},
     "output_type": "execute_result"
    }
   ],
   "source": [
    "#hide_input\n",
    "#md('##### {}'.format(titleBTC)) \n",
    "md(\"- {}{} {}{} [| Skaityti daugiau]({}) \".format(exchange['title'],'. ', exchange['body'], ' ...', exchange['url']))"
   ]
  },
  {
   "cell_type": "code",
   "execution_count": null,
   "id": "tender-livestock",
   "metadata": {
    "papermill": {
     "duration": 0.015472,
     "end_time": "2021-03-21T01:53:40.311159",
     "exception": false,
     "start_time": "2021-03-21T01:53:40.295687",
     "status": "completed"
    },
    "tags": []
   },
   "outputs": [],
   "source": []
  },
  {
   "cell_type": "code",
   "execution_count": null,
   "id": "appreciated-diamond",
   "metadata": {
    "papermill": {
     "duration": 0.015189,
     "end_time": "2021-03-21T01:53:40.340281",
     "exception": false,
     "start_time": "2021-03-21T01:53:40.325092",
     "status": "completed"
    },
    "tags": []
   },
   "outputs": [],
   "source": []
  },
  {
   "cell_type": "code",
   "execution_count": null,
   "id": "romance-sweden",
   "metadata": {
    "papermill": {
     "duration": 0.013807,
     "end_time": "2021-03-21T01:53:40.369971",
     "exception": false,
     "start_time": "2021-03-21T01:53:40.356164",
     "status": "completed"
    },
    "tags": []
   },
   "outputs": [],
   "source": []
  },
  {
   "cell_type": "code",
   "execution_count": null,
   "id": "dietary-statistics",
   "metadata": {
    "papermill": {
     "duration": 0.013956,
     "end_time": "2021-03-21T01:53:40.399150",
     "exception": false,
     "start_time": "2021-03-21T01:53:40.385194",
     "status": "completed"
    },
    "tags": []
   },
   "outputs": [],
   "source": []
  }
 ],
 "metadata": {
  "kernelspec": {
   "display_name": "Python 3",
   "language": "python",
   "name": "python3"
  },
  "language_info": {
   "codemirror_mode": {
    "name": "ipython",
    "version": 3
   },
   "file_extension": ".py",
   "mimetype": "text/x-python",
   "name": "python",
   "nbconvert_exporter": "python",
   "pygments_lexer": "ipython3",
   "version": "3.6.13"
  },
  "papermill": {
   "default_parameters": {},
   "duration": 13.277065,
   "end_time": "2021-03-21T01:53:40.821364",
   "environment_variables": {},
   "exception": null,
   "input_path": "Market-News.ipynb",
   "output_path": "Market-News.ipynb",
   "parameters": {},
   "start_time": "2021-03-21T01:53:27.544299",
   "version": "2.2.2"
  }
 },
 "nbformat": 4,
 "nbformat_minor": 5
}