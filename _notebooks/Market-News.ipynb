{
 "cells": [
  {
   "cell_type": "markdown",
   "id": "short-greensboro",
   "metadata": {
    "papermill": {
     "duration": 0.016676,
     "end_time": "2021-06-07T03:15:06.081457",
     "exception": false,
     "start_time": "2021-06-07T03:15:06.064781",
     "status": "completed"
    },
    "tags": []
   },
   "source": [
    "# Kriptovaliutų naujienos"
   ]
  },
  {
   "cell_type": "code",
   "execution_count": 1,
   "id": "functioning-knowing",
   "metadata": {
    "execution": {
     "iopub.execute_input": "2021-06-07T03:15:06.113968Z",
     "iopub.status.busy": "2021-06-07T03:15:06.113415Z",
     "iopub.status.idle": "2021-06-07T03:15:07.410428Z",
     "shell.execute_reply": "2021-06-07T03:15:07.409463Z"
    },
    "papermill": {
     "duration": 1.318362,
     "end_time": "2021-06-07T03:15:07.410581",
     "exception": false,
     "start_time": "2021-06-07T03:15:06.092219",
     "status": "completed"
    },
    "tags": []
   },
   "outputs": [],
   "source": [
    "#hide_input\n",
    "import warnings\n",
    "warnings.filterwarnings('ignore')\n",
    "from scripts.read_data import read_api\n",
    "from scripts.read_data import read_news\n",
    "from scripts.read_data import read_covid\n",
    "import matplotlib.pyplot as plt \n",
    "from IPython.display import Markdown as md"
   ]
  },
  {
   "cell_type": "code",
   "execution_count": 2,
   "id": "shared-acceptance",
   "metadata": {
    "execution": {
     "iopub.execute_input": "2021-06-07T03:15:07.437622Z",
     "iopub.status.busy": "2021-06-07T03:15:07.436625Z",
     "iopub.status.idle": "2021-06-07T03:15:15.398607Z",
     "shell.execute_reply": "2021-06-07T03:15:15.397988Z"
    },
    "papermill": {
     "duration": 7.977775,
     "end_time": "2021-06-07T03:15:15.398770",
     "exception": false,
     "start_time": "2021-06-07T03:15:07.420995",
     "status": "completed"
    },
    "tags": []
   },
   "outputs": [],
   "source": [
    "#hide_input\n",
    "blockchain = read_news('blockchain') \n",
    "btc = read_news('btc') \n",
    "xrp = read_news('xrp') \n",
    "trx = read_news('trx') \n",
    "eth = read_news('eth')  \n",
    "ada = read_news('ada')\n",
    "exchange = read_news('exchange') "
   ]
  },
  {
   "cell_type": "code",
   "execution_count": 3,
   "id": "synthetic-notion",
   "metadata": {
    "execution": {
     "iopub.execute_input": "2021-06-07T03:15:15.434364Z",
     "iopub.status.busy": "2021-06-07T03:15:15.433671Z",
     "iopub.status.idle": "2021-06-07T03:15:15.439252Z",
     "shell.execute_reply": "2021-06-07T03:15:15.439694Z"
    },
    "papermill": {
     "duration": 0.022303,
     "end_time": "2021-06-07T03:15:15.439866",
     "exception": false,
     "start_time": "2021-06-07T03:15:15.417563",
     "status": "completed"
    },
    "tags": []
   },
   "outputs": [
    {
     "data": {
      "text/markdown": [
       "- Here Are Five Low-Cap Altcoins With Potential To Erupt This Month: Altcoin Daily.  Altcoin Daily host and crypto analyst Aaron Arnold is breaking down his top five low-cap crypto picks for the month of June. In a new video, Arnold tells his 829,000 YouTube subscribers that he&#8217;s keeping a close watch on the freshly launched Mina Protocol (MINA), which advertises itself as a &#8220;lightweight&#8221; blockchain platform. Mina’s value [&#8230;]The post Here Are Five Low-Cap Altcoins With Potential To Erupt This Month: Altcoin Daily appeared first on The Daily Hodl. ... [| Skaityti daugiau](https://dailyhodl.com/2021/06/06/here-are-five-low-cap-altcoins-with-potential-to-erupt-this-month-altcoin-daily/) "
      ],
      "text/plain": [
       "<IPython.core.display.Markdown object>"
      ]
     },
     "execution_count": 3,
     "metadata": {},
     "output_type": "execute_result"
    }
   ],
   "source": [
    "#hide_input\n",
    "#md('##### {}'.format(titleBTC)) \n",
    "md(\"- {}{} {}{} [| Skaityti daugiau]({}) \".format(blockchain['title'],'. ', blockchain['body'], ' ...', blockchain['url']))"
   ]
  },
  {
   "cell_type": "code",
   "execution_count": 4,
   "id": "aging-caution",
   "metadata": {
    "execution": {
     "iopub.execute_input": "2021-06-07T03:15:15.465332Z",
     "iopub.status.busy": "2021-06-07T03:15:15.464765Z",
     "iopub.status.idle": "2021-06-07T03:15:15.468177Z",
     "shell.execute_reply": "2021-06-07T03:15:15.467753Z"
    },
    "papermill": {
     "duration": 0.018414,
     "end_time": "2021-06-07T03:15:15.468288",
     "exception": false,
     "start_time": "2021-06-07T03:15:15.449874",
     "status": "completed"
    },
    "tags": []
   },
   "outputs": [
    {
     "data": {
      "text/markdown": [
       "- TA: Bitcoin Signals Fresh Increase, Here’s Why $37K Is The Key.  Bitcoin price retested the $35,000 support level against the US Dollar. BTC is now rising, but it must clear $37,000 and the 100 hourly SMA for a steady increase. Bitcoin is recovering higher from the $35,000 support zone. The price is currently well below $37,000 and the 100 hourly simple moving average. There was a [&#8230;] ... [| Skaityti daugiau](https://www.newsbtc.com/analysis/btc/bitcoin-signals-fresh-increase-37k/) "
      ],
      "text/plain": [
       "<IPython.core.display.Markdown object>"
      ]
     },
     "execution_count": 4,
     "metadata": {},
     "output_type": "execute_result"
    }
   ],
   "source": [
    "#hide_input\n",
    "#md('##### {}'.format(titleBTC)) \n",
    "md(\"- {}{} {}{} [| Skaityti daugiau]({}) \".format(btc['title'],'. ', btc['body'], ' ...', btc['url']))"
   ]
  },
  {
   "cell_type": "code",
   "execution_count": 5,
   "id": "organic-actress",
   "metadata": {
    "execution": {
     "iopub.execute_input": "2021-06-07T03:15:15.495236Z",
     "iopub.status.busy": "2021-06-07T03:15:15.494540Z",
     "iopub.status.idle": "2021-06-07T03:15:15.498077Z",
     "shell.execute_reply": "2021-06-07T03:15:15.498626Z"
    },
    "papermill": {
     "duration": 0.020058,
     "end_time": "2021-06-07T03:15:15.498759",
     "exception": false,
     "start_time": "2021-06-07T03:15:15.478701",
     "status": "completed"
    },
    "tags": []
   },
   "outputs": [
    {
     "data": {
      "text/markdown": [
       "- XRP, Dogecoin, Ethereum Price Analysis: 06 June.  XRP was in danger of losing out to $0.89 support and could be up for some short-term losses. Dogecoin held on to $0.361-support but remained exposed to selling pressure. Up the crypto-ladder, bullish momentum on Ethereum seemed to be fizzling out for a breakout above $3,000. XRP XRP bulls defended $0.89 support but bearish pressure [&#8230;] ... [| Skaityti daugiau](https://ambcrypto.com/xrp-dogecoin-ethereum-price-analysis-06-june/) "
      ],
      "text/plain": [
       "<IPython.core.display.Markdown object>"
      ]
     },
     "execution_count": 5,
     "metadata": {},
     "output_type": "execute_result"
    }
   ],
   "source": [
    "#hide_input\n",
    "#md('##### {}'.format(titleBTC)) \n",
    "md(\"- {}{} {}{} [| Skaityti daugiau]({}) \".format(xrp['title'],'. ', xrp['body'], ' ...', xrp['url']))"
   ]
  },
  {
   "cell_type": "code",
   "execution_count": 6,
   "id": "prompt-farmer",
   "metadata": {
    "execution": {
     "iopub.execute_input": "2021-06-07T03:15:15.524368Z",
     "iopub.status.busy": "2021-06-07T03:15:15.523800Z",
     "iopub.status.idle": "2021-06-07T03:15:15.529541Z",
     "shell.execute_reply": "2021-06-07T03:15:15.529087Z"
    },
    "papermill": {
     "duration": 0.019612,
     "end_time": "2021-06-07T03:15:15.529652",
     "exception": false,
     "start_time": "2021-06-07T03:15:15.510040",
     "status": "completed"
    },
    "tags": []
   },
   "outputs": [
    {
     "data": {
      "text/markdown": [
       "- Tron, Ethereum Classic, VeChain Price Analysis: 05 June.  Even though the king coin rose by 2.8% and targeted the $38k price level, alts such as Tron and Ethereum Classic registered only minor bullish movements and lay in anticipation of a larger price swing. Slightly up the crypto-ladder, VeChain&#8217;s chances of an ascending triangle breakout seemed to be dwindling. Tron [TRX] Since the 19 [&#8230;] ... [| Skaityti daugiau](https://ambcrypto.com/tron-ethereum-classic-vechain-price-analysis-05-june/) "
      ],
      "text/plain": [
       "<IPython.core.display.Markdown object>"
      ]
     },
     "execution_count": 6,
     "metadata": {},
     "output_type": "execute_result"
    }
   ],
   "source": [
    "#hide_input\n",
    "#md('##### {}'.format(titleBTC)) \n",
    "md(\"- {}{} {}{} [| Skaityti daugiau]({}) \".format(trx['title'],'. ', trx['body'], ' ...', trx['url']))"
   ]
  },
  {
   "cell_type": "code",
   "execution_count": 7,
   "id": "illegal-greece",
   "metadata": {
    "execution": {
     "iopub.execute_input": "2021-06-07T03:15:15.558907Z",
     "iopub.status.busy": "2021-06-07T03:15:15.558094Z",
     "iopub.status.idle": "2021-06-07T03:15:15.561203Z",
     "shell.execute_reply": "2021-06-07T03:15:15.561687Z"
    },
    "papermill": {
     "duration": 0.020766,
     "end_time": "2021-06-07T03:15:15.561845",
     "exception": false,
     "start_time": "2021-06-07T03:15:15.541079",
     "status": "completed"
    },
    "tags": []
   },
   "outputs": [
    {
     "data": {
      "text/markdown": [
       "- XRP, Dogecoin, Ethereum Price Analysis: 06 June.  XRP was in danger of losing out to $0.89 support and could be up for some short-term losses. Dogecoin held on to $0.361-support but remained exposed to selling pressure. Up the crypto-ladder, bullish momentum on Ethereum seemed to be fizzling out for a breakout above $3,000. XRP XRP bulls defended $0.89 support but bearish pressure [&#8230;] ... [| Skaityti daugiau](https://ambcrypto.com/xrp-dogecoin-ethereum-price-analysis-06-june/) "
      ],
      "text/plain": [
       "<IPython.core.display.Markdown object>"
      ]
     },
     "execution_count": 7,
     "metadata": {},
     "output_type": "execute_result"
    }
   ],
   "source": [
    "#hide_input\n",
    "#md('##### {}'.format(titleBTC)) \n",
    "md(\"- {}{} {}{} [| Skaityti daugiau]({}) \".format(eth['title'],'. ', eth['body'], ' ...', eth['url']))"
   ]
  },
  {
   "cell_type": "code",
   "execution_count": 8,
   "id": "sublime-lounge",
   "metadata": {
    "execution": {
     "iopub.execute_input": "2021-06-07T03:15:15.593094Z",
     "iopub.status.busy": "2021-06-07T03:15:15.592526Z",
     "iopub.status.idle": "2021-06-07T03:15:15.595535Z",
     "shell.execute_reply": "2021-06-07T03:15:15.595034Z"
    },
    "papermill": {
     "duration": 0.021839,
     "end_time": "2021-06-07T03:15:15.595656",
     "exception": false,
     "start_time": "2021-06-07T03:15:15.573817",
     "status": "completed"
    },
    "tags": []
   },
   "outputs": [
    {
     "data": {
      "text/markdown": [
       "- Professor Kiayias: ‘Cardano Is Unique Because It Was Built With Interoperability in Mind’.  Recently, Professor Aggelos Kiayias, Chief Scientist at blockchain technology company IOHK, talked about blockchain interoperability, energy consumption, and security, in particular discussing Bitcoin, Dogecoin, Cardano, and quantum cryptography. Professor Kiayias’ comments were made during an interview with “Cyber Protection Magazine” (a publication that discusses cyber security “in terms the C-suite and business leaders can understand”), which […] ... [| Skaityti daugiau](https://www.cryptoglobe.com/latest/2021/06/professor-kiayias-cardano-is-unique-because-it-was-built-with-interoperability-in-mind/) "
      ],
      "text/plain": [
       "<IPython.core.display.Markdown object>"
      ]
     },
     "execution_count": 8,
     "metadata": {},
     "output_type": "execute_result"
    }
   ],
   "source": [
    "#hide_input\n",
    "#md('##### {}'.format(titleBTC)) \n",
    "md(\"- {}{} {}{} [| Skaityti daugiau]({}) \".format(ada['title'],'. ', ada['body'], ' ...', ada['url']))"
   ]
  },
  {
   "cell_type": "code",
   "execution_count": 9,
   "id": "specified-ordering",
   "metadata": {
    "execution": {
     "iopub.execute_input": "2021-06-07T03:15:15.628697Z",
     "iopub.status.busy": "2021-06-07T03:15:15.627767Z",
     "iopub.status.idle": "2021-06-07T03:15:15.631123Z",
     "shell.execute_reply": "2021-06-07T03:15:15.631597Z"
    },
    "papermill": {
     "duration": 0.023656,
     "end_time": "2021-06-07T03:15:15.631731",
     "exception": false,
     "start_time": "2021-06-07T03:15:15.608075",
     "status": "completed"
    },
    "tags": []
   },
   "outputs": [
    {
     "data": {
      "text/markdown": [
       "- eToro Is The Latest Crypto Exchange Moving To Miami.  The &#8216;Miami Migration&#8217;? &#8216;Florida Flocking&#8217;? While there is no term coined yet, eToro is looking to get their name in the mix as there is undoubtedly more attraction routinely being driven towards the south Florida area when it comes to cryptocurrency and tech. During last week&#8217;s Bitcoin 2021 Conference in Miami, eToro announced that the [&#8230;] ... [| Skaityti daugiau](https://www.newsbtc.com/news/etoro-is-moving-to-miami/) "
      ],
      "text/plain": [
       "<IPython.core.display.Markdown object>"
      ]
     },
     "execution_count": 9,
     "metadata": {},
     "output_type": "execute_result"
    }
   ],
   "source": [
    "#hide_input\n",
    "#md('##### {}'.format(titleBTC)) \n",
    "md(\"- {}{} {}{} [| Skaityti daugiau]({}) \".format(exchange['title'],'. ', exchange['body'], ' ...', exchange['url']))"
   ]
  },
  {
   "cell_type": "code",
   "execution_count": null,
   "id": "tender-livestock",
   "metadata": {
    "papermill": {
     "duration": 0.012599,
     "end_time": "2021-06-07T03:15:15.657122",
     "exception": false,
     "start_time": "2021-06-07T03:15:15.644523",
     "status": "completed"
    },
    "tags": []
   },
   "outputs": [],
   "source": []
  },
  {
   "cell_type": "code",
   "execution_count": null,
   "id": "appreciated-diamond",
   "metadata": {
    "papermill": {
     "duration": 0.012276,
     "end_time": "2021-06-07T03:15:15.681949",
     "exception": false,
     "start_time": "2021-06-07T03:15:15.669673",
     "status": "completed"
    },
    "tags": []
   },
   "outputs": [],
   "source": []
  },
  {
   "cell_type": "code",
   "execution_count": null,
   "id": "romance-sweden",
   "metadata": {
    "papermill": {
     "duration": 0.01246,
     "end_time": "2021-06-07T03:15:15.707033",
     "exception": false,
     "start_time": "2021-06-07T03:15:15.694573",
     "status": "completed"
    },
    "tags": []
   },
   "outputs": [],
   "source": []
  },
  {
   "cell_type": "code",
   "execution_count": null,
   "id": "dietary-statistics",
   "metadata": {
    "papermill": {
     "duration": 0.012277,
     "end_time": "2021-06-07T03:15:15.731925",
     "exception": false,
     "start_time": "2021-06-07T03:15:15.719648",
     "status": "completed"
    },
    "tags": []
   },
   "outputs": [],
   "source": []
  }
 ],
 "metadata": {
  "kernelspec": {
   "display_name": "Python 3",
   "language": "python",
   "name": "python3"
  },
  "language_info": {
   "codemirror_mode": {
    "name": "ipython",
    "version": 3
   },
   "file_extension": ".py",
   "mimetype": "text/x-python",
   "name": "python",
   "nbconvert_exporter": "python",
   "pygments_lexer": "ipython3",
   "version": "3.6.13"
  },
  "papermill": {
   "default_parameters": {},
   "duration": 11.246978,
   "end_time": "2021-06-07T03:15:16.252406",
   "environment_variables": {},
   "exception": null,
   "input_path": "Market-News.ipynb",
   "output_path": "Market-News.ipynb",
   "parameters": {},
   "start_time": "2021-06-07T03:15:05.005428",
   "version": "2.2.2"
  }
 },
 "nbformat": 4,
 "nbformat_minor": 5
}