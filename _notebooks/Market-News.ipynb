{
 "cells": [
  {
   "cell_type": "markdown",
   "id": "short-greensboro",
   "metadata": {
    "papermill": {
     "duration": 0.01634,
     "end_time": "2021-07-03T01:53:47.976205",
     "exception": false,
     "start_time": "2021-07-03T01:53:47.959865",
     "status": "completed"
    },
    "tags": []
   },
   "source": [
    "# Kriptovaliutų naujienos"
   ]
  },
  {
   "cell_type": "code",
   "execution_count": 1,
   "id": "functioning-knowing",
   "metadata": {
    "execution": {
     "iopub.execute_input": "2021-07-03T01:53:48.007464Z",
     "iopub.status.busy": "2021-07-03T01:53:48.006872Z",
     "iopub.status.idle": "2021-07-03T01:53:49.140375Z",
     "shell.execute_reply": "2021-07-03T01:53:49.139880Z"
    },
    "papermill": {
     "duration": 1.154083,
     "end_time": "2021-07-03T01:53:49.140519",
     "exception": false,
     "start_time": "2021-07-03T01:53:47.986436",
     "status": "completed"
    },
    "tags": []
   },
   "outputs": [],
   "source": [
    "#hide_input\n",
    "import warnings\n",
    "warnings.filterwarnings('ignore')\n",
    "from scripts.read_data import read_api\n",
    "from scripts.read_data import read_news\n",
    "from scripts.read_data import read_covid\n",
    "import matplotlib.pyplot as plt \n",
    "from IPython.display import Markdown as md"
   ]
  },
  {
   "cell_type": "code",
   "execution_count": 2,
   "id": "shared-acceptance",
   "metadata": {
    "execution": {
     "iopub.execute_input": "2021-07-03T01:53:49.167300Z",
     "iopub.status.busy": "2021-07-03T01:53:49.166696Z",
     "iopub.status.idle": "2021-07-03T01:53:56.967153Z",
     "shell.execute_reply": "2021-07-03T01:53:56.966644Z"
    },
    "papermill": {
     "duration": 7.816487,
     "end_time": "2021-07-03T01:53:56.967265",
     "exception": false,
     "start_time": "2021-07-03T01:53:49.150778",
     "status": "completed"
    },
    "tags": []
   },
   "outputs": [],
   "source": [
    "#hide_input\n",
    "blockchain = read_news('blockchain') \n",
    "btc = read_news('btc') \n",
    "xrp = read_news('xrp') \n",
    "trx = read_news('trx') \n",
    "eth = read_news('eth')  \n",
    "ada = read_news('ada')\n",
    "exchange = read_news('exchange') "
   ]
  },
  {
   "cell_type": "code",
   "execution_count": 3,
   "id": "synthetic-notion",
   "metadata": {
    "execution": {
     "iopub.execute_input": "2021-07-03T01:53:56.992094Z",
     "iopub.status.busy": "2021-07-03T01:53:56.991421Z",
     "iopub.status.idle": "2021-07-03T01:53:56.993691Z",
     "shell.execute_reply": "2021-07-03T01:53:56.994255Z"
    },
    "papermill": {
     "duration": 0.017751,
     "end_time": "2021-07-03T01:53:56.994386",
     "exception": false,
     "start_time": "2021-07-03T01:53:56.976635",
     "status": "completed"
    },
    "tags": []
   },
   "outputs": [
    {
     "data": {
      "text/markdown": [
       "- Ethereum Balance on Exchanges Plunges, Lowering ‘Risk of Future Major Sell-Off’.  The amount of Ethereum being held on major cryptocurrency trading platforms has dropped to its lowest level since November 2018, which according to cryptocurrency analytics firm Santiment lowers the “risk of a future major sell-off.” Cryptocurrency users often move funds off of cryptocurrency exchanges when they plan ot use it on the blockchain or store […] ... [| Skaityti daugiau](https://www.cryptoglobe.com/latest/2021/07/ethereum-balance-on-exchanges-plunges-lowering-risk-of-future-major-sell-off/) "
      ],
      "text/plain": [
       "<IPython.core.display.Markdown object>"
      ]
     },
     "execution_count": 3,
     "metadata": {},
     "output_type": "execute_result"
    }
   ],
   "source": [
    "#hide_input\n",
    "#md('##### {}'.format(titleBTC)) \n",
    "md(\"- {}{} {}{} [| Skaityti daugiau]({}) \".format(blockchain['title'],'. ', blockchain['body'], ' ...', blockchain['url']))"
   ]
  },
  {
   "cell_type": "code",
   "execution_count": 4,
   "id": "aging-caution",
   "metadata": {
    "execution": {
     "iopub.execute_input": "2021-07-03T01:53:57.020307Z",
     "iopub.status.busy": "2021-07-03T01:53:57.018701Z",
     "iopub.status.idle": "2021-07-03T01:53:57.023079Z",
     "shell.execute_reply": "2021-07-03T01:53:57.022636Z"
    },
    "papermill": {
     "duration": 0.019023,
     "end_time": "2021-07-03T01:53:57.023188",
     "exception": false,
     "start_time": "2021-07-03T01:53:57.004165",
     "status": "completed"
    },
    "tags": []
   },
   "outputs": [
    {
     "data": {
      "text/markdown": [
       "- US State Department Official Wants El Salvador to ‘Ensure Bitcoin Is Well Regulated’.  The U.S. Department of State&#8217;s undersecretary of state for political affairs, Victoria Nuland, has explained during a press conference that the U.S. has urged El Salvador to be responsible with the country&#8217;s new bitcoin law. Nuland told the press that the U.S. was taking a &#8220;tough look at Bitcoin&#8221; and that Salvadoran president Nayib Bukele [&#8230;] ... [| Skaityti daugiau](https://news.bitcoin.com/us-state-department-official-wants-el-salvador-to-ensure-bitcoin-is-well-regulated/) "
      ],
      "text/plain": [
       "<IPython.core.display.Markdown object>"
      ]
     },
     "execution_count": 4,
     "metadata": {},
     "output_type": "execute_result"
    }
   ],
   "source": [
    "#hide_input\n",
    "#md('##### {}'.format(titleBTC)) \n",
    "md(\"- {}{} {}{} [| Skaityti daugiau]({}) \".format(btc['title'],'. ', btc['body'], ' ...', btc['url']))"
   ]
  },
  {
   "cell_type": "code",
   "execution_count": 5,
   "id": "organic-actress",
   "metadata": {
    "execution": {
     "iopub.execute_input": "2021-07-03T01:53:57.050085Z",
     "iopub.status.busy": "2021-07-03T01:53:57.049516Z",
     "iopub.status.idle": "2021-07-03T01:53:57.053030Z",
     "shell.execute_reply": "2021-07-03T01:53:57.052561Z"
    },
    "papermill": {
     "duration": 0.018921,
     "end_time": "2021-07-03T01:53:57.053144",
     "exception": false,
     "start_time": "2021-07-03T01:53:57.034223",
     "status": "completed"
    },
    "tags": []
   },
   "outputs": [
    {
     "data": {
      "text/markdown": [
       "- XRP, Tron, MATIC Price Analysis: 02 July.  With the crypto-market&#8217;s cumulative capitalization falling, the market caps of altcoins such as XRP, TRX, and MATIC also fell to about $30 billion, $4.6 billion, and $6.7 billion, respectively. Over the past week, these altcoins noted significant losses, entering the bearish territory at the time of writing. However, they also continued to move within restricted [&#8230;] ... [| Skaityti daugiau](https://ambcrypto.com/xrp-tron-matic-price-analysis-02-july/) "
      ],
      "text/plain": [
       "<IPython.core.display.Markdown object>"
      ]
     },
     "execution_count": 5,
     "metadata": {},
     "output_type": "execute_result"
    }
   ],
   "source": [
    "#hide_input\n",
    "#md('##### {}'.format(titleBTC)) \n",
    "md(\"- {}{} {}{} [| Skaityti daugiau]({}) \".format(xrp['title'],'. ', xrp['body'], ' ...', xrp['url']))"
   ]
  },
  {
   "cell_type": "code",
   "execution_count": 6,
   "id": "prompt-farmer",
   "metadata": {
    "execution": {
     "iopub.execute_input": "2021-07-03T01:53:57.079670Z",
     "iopub.status.busy": "2021-07-03T01:53:57.078315Z",
     "iopub.status.idle": "2021-07-03T01:53:57.082759Z",
     "shell.execute_reply": "2021-07-03T01:53:57.082320Z"
    },
    "papermill": {
     "duration": 0.018727,
     "end_time": "2021-07-03T01:53:57.082867",
     "exception": false,
     "start_time": "2021-07-03T01:53:57.064140",
     "status": "completed"
    },
    "tags": []
   },
   "outputs": [
    {
     "data": {
      "text/markdown": [
       "- XRP, Tron, MATIC Price Analysis: 02 July.  With the crypto-market&#8217;s cumulative capitalization falling, the market caps of altcoins such as XRP, TRX, and MATIC also fell to about $30 billion, $4.6 billion, and $6.7 billion, respectively. Over the past week, these altcoins noted significant losses, entering the bearish territory at the time of writing. However, they also continued to move within restricted [&#8230;] ... [| Skaityti daugiau](https://ambcrypto.com/xrp-tron-matic-price-analysis-02-july/) "
      ],
      "text/plain": [
       "<IPython.core.display.Markdown object>"
      ]
     },
     "execution_count": 6,
     "metadata": {},
     "output_type": "execute_result"
    }
   ],
   "source": [
    "#hide_input\n",
    "#md('##### {}'.format(titleBTC)) \n",
    "md(\"- {}{} {}{} [| Skaityti daugiau]({}) \".format(trx['title'],'. ', trx['body'], ' ...', trx['url']))"
   ]
  },
  {
   "cell_type": "code",
   "execution_count": 7,
   "id": "illegal-greece",
   "metadata": {
    "execution": {
     "iopub.execute_input": "2021-07-03T01:53:57.109101Z",
     "iopub.status.busy": "2021-07-03T01:53:57.108039Z",
     "iopub.status.idle": "2021-07-03T01:53:57.112105Z",
     "shell.execute_reply": "2021-07-03T01:53:57.111568Z"
    },
    "papermill": {
     "duration": 0.018305,
     "end_time": "2021-07-03T01:53:57.112224",
     "exception": false,
     "start_time": "2021-07-03T01:53:57.093919",
     "status": "completed"
    },
    "tags": []
   },
   "outputs": [
    {
     "data": {
      "text/markdown": [
       "- Ethereum Balance on Exchanges Plunges, Lowering ‘Risk of Future Major Sell-Off’.  The amount of Ethereum being held on major cryptocurrency trading platforms has dropped to its lowest level since November 2018, which according to cryptocurrency analytics firm Santiment lowers the “risk of a future major sell-off.” Cryptocurrency users often move funds off of cryptocurrency exchanges when they plan ot use it on the blockchain or store […] ... [| Skaityti daugiau](https://www.cryptoglobe.com/latest/2021/07/ethereum-balance-on-exchanges-plunges-lowering-risk-of-future-major-sell-off/) "
      ],
      "text/plain": [
       "<IPython.core.display.Markdown object>"
      ]
     },
     "execution_count": 7,
     "metadata": {},
     "output_type": "execute_result"
    }
   ],
   "source": [
    "#hide_input\n",
    "#md('##### {}'.format(titleBTC)) \n",
    "md(\"- {}{} {}{} [| Skaityti daugiau]({}) \".format(eth['title'],'. ', eth['body'], ' ...', eth['url']))"
   ]
  },
  {
   "cell_type": "code",
   "execution_count": 8,
   "id": "sublime-lounge",
   "metadata": {
    "execution": {
     "iopub.execute_input": "2021-07-03T01:53:57.137696Z",
     "iopub.status.busy": "2021-07-03T01:53:57.136881Z",
     "iopub.status.idle": "2021-07-03T01:53:57.143351Z",
     "shell.execute_reply": "2021-07-03T01:53:57.142944Z"
    },
    "papermill": {
     "duration": 0.019985,
     "end_time": "2021-07-03T01:53:57.143448",
     "exception": false,
     "start_time": "2021-07-03T01:53:57.123463",
     "status": "completed"
    },
    "tags": []
   },
   "outputs": [
    {
     "data": {
      "text/markdown": [
       "- What’s the best call in the Cardano market right now?.  Disclaimer: The findings of the following analysis are the sole opinions of the writer and should not be taken as investment advice Cardano&#8217;s trajectory reversed once gains were denied above $1.40 as sellers took control of the market. Now, heading towards the lower trendline of its ascending triangle, the market&#8217;s bulls need to stop losses above [&#8230;] ... [| Skaityti daugiau](https://ambcrypto.com/whats-the-best-call-in-the-cardano-market-right-now/) "
      ],
      "text/plain": [
       "<IPython.core.display.Markdown object>"
      ]
     },
     "execution_count": 8,
     "metadata": {},
     "output_type": "execute_result"
    }
   ],
   "source": [
    "#hide_input\n",
    "#md('##### {}'.format(titleBTC)) \n",
    "md(\"- {}{} {}{} [| Skaityti daugiau]({}) \".format(ada['title'],'. ', ada['body'], ' ...', ada['url']))"
   ]
  },
  {
   "cell_type": "code",
   "execution_count": 9,
   "id": "specified-ordering",
   "metadata": {
    "execution": {
     "iopub.execute_input": "2021-07-03T01:53:57.168821Z",
     "iopub.status.busy": "2021-07-03T01:53:57.168275Z",
     "iopub.status.idle": "2021-07-03T01:53:57.171383Z",
     "shell.execute_reply": "2021-07-03T01:53:57.170897Z"
    },
    "papermill": {
     "duration": 0.017327,
     "end_time": "2021-07-03T01:53:57.171485",
     "exception": false,
     "start_time": "2021-07-03T01:53:57.154158",
     "status": "completed"
    },
    "tags": []
   },
   "outputs": [
    {
     "data": {
      "text/markdown": [
       "- South Korean Crypto Exchange Execs Arrested Amid USD 2B Fraud Fears.  Police in South Korea said they fear that the crypto exchange V Global could be at the center of a fraud network that has sucked in some USD 2bn, as investigations into the platform intensify and police officers raided the exchange’s offices.Per Seoul Shinmun and Hankook Ilbo, police claim that some 52,000 customers may have been affected. They have been investigating the ... [| Skaityti daugiau](https://cryptonews.com/news/south-korean-crypto-exchange-execs-arrested-amid-usd-2b-frau-10910.htm) "
      ],
      "text/plain": [
       "<IPython.core.display.Markdown object>"
      ]
     },
     "execution_count": 9,
     "metadata": {},
     "output_type": "execute_result"
    }
   ],
   "source": [
    "#hide_input\n",
    "#md('##### {}'.format(titleBTC)) \n",
    "md(\"- {}{} {}{} [| Skaityti daugiau]({}) \".format(exchange['title'],'. ', exchange['body'], ' ...', exchange['url']))"
   ]
  },
  {
   "cell_type": "code",
   "execution_count": null,
   "id": "tender-livestock",
   "metadata": {
    "papermill": {
     "duration": 0.011308,
     "end_time": "2021-07-03T01:53:57.194278",
     "exception": false,
     "start_time": "2021-07-03T01:53:57.182970",
     "status": "completed"
    },
    "tags": []
   },
   "outputs": [],
   "source": []
  },
  {
   "cell_type": "code",
   "execution_count": null,
   "id": "appreciated-diamond",
   "metadata": {
    "papermill": {
     "duration": 0.011062,
     "end_time": "2021-07-03T01:53:57.216042",
     "exception": false,
     "start_time": "2021-07-03T01:53:57.204980",
     "status": "completed"
    },
    "tags": []
   },
   "outputs": [],
   "source": []
  },
  {
   "cell_type": "code",
   "execution_count": null,
   "id": "romance-sweden",
   "metadata": {
    "papermill": {
     "duration": 0.01142,
     "end_time": "2021-07-03T01:53:57.239709",
     "exception": false,
     "start_time": "2021-07-03T01:53:57.228289",
     "status": "completed"
    },
    "tags": []
   },
   "outputs": [],
   "source": []
  },
  {
   "cell_type": "code",
   "execution_count": null,
   "id": "dietary-statistics",
   "metadata": {
    "papermill": {
     "duration": 0.010783,
     "end_time": "2021-07-03T01:53:57.262055",
     "exception": false,
     "start_time": "2021-07-03T01:53:57.251272",
     "status": "completed"
    },
    "tags": []
   },
   "outputs": [],
   "source": []
  }
 ],
 "metadata": {
  "kernelspec": {
   "display_name": "Python 3",
   "language": "python",
   "name": "python3"
  },
  "language_info": {
   "codemirror_mode": {
    "name": "ipython",
    "version": 3
   },
   "file_extension": ".py",
   "mimetype": "text/x-python",
   "name": "python",
   "nbconvert_exporter": "python",
   "pygments_lexer": "ipython3",
   "version": "3.6.13"
  },
  "papermill": {
   "default_parameters": {},
   "duration": 10.818249,
   "end_time": "2021-07-03T01:53:57.682554",
   "environment_variables": {},
   "exception": null,
   "input_path": "Market-News.ipynb",
   "output_path": "Market-News.ipynb",
   "parameters": {},
   "start_time": "2021-07-03T01:53:46.864305",
   "version": "2.2.2"
  }
 },
 "nbformat": 4,
 "nbformat_minor": 5
}