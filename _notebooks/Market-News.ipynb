{
 "cells": [
  {
   "cell_type": "markdown",
   "id": "short-greensboro",
   "metadata": {
    "papermill": {
     "duration": 0.015479,
     "end_time": "2021-05-14T02:21:20.078559",
     "exception": false,
     "start_time": "2021-05-14T02:21:20.063080",
     "status": "completed"
    },
    "tags": []
   },
   "source": [
    "# Kriptovaliutų naujienos"
   ]
  },
  {
   "cell_type": "code",
   "execution_count": 1,
   "id": "functioning-knowing",
   "metadata": {
    "execution": {
     "iopub.execute_input": "2021-05-14T02:21:20.111699Z",
     "iopub.status.busy": "2021-05-14T02:21:20.111105Z",
     "iopub.status.idle": "2021-05-14T02:21:21.398903Z",
     "shell.execute_reply": "2021-05-14T02:21:21.398380Z"
    },
    "papermill": {
     "duration": 1.309462,
     "end_time": "2021-05-14T02:21:21.399056",
     "exception": false,
     "start_time": "2021-05-14T02:21:20.089594",
     "status": "completed"
    },
    "tags": []
   },
   "outputs": [],
   "source": [
    "#hide_input\n",
    "import warnings\n",
    "warnings.filterwarnings('ignore')\n",
    "from scripts.read_data import read_api\n",
    "from scripts.read_data import read_news\n",
    "from scripts.read_data import read_covid\n",
    "import matplotlib.pyplot as plt \n",
    "from IPython.display import Markdown as md"
   ]
  },
  {
   "cell_type": "code",
   "execution_count": 2,
   "id": "shared-acceptance",
   "metadata": {
    "execution": {
     "iopub.execute_input": "2021-05-14T02:21:21.427309Z",
     "iopub.status.busy": "2021-05-14T02:21:21.426730Z",
     "iopub.status.idle": "2021-05-14T02:21:30.905988Z",
     "shell.execute_reply": "2021-05-14T02:21:30.906464Z"
    },
    "papermill": {
     "duration": 9.497031,
     "end_time": "2021-05-14T02:21:30.906625",
     "exception": false,
     "start_time": "2021-05-14T02:21:21.409594",
     "status": "completed"
    },
    "tags": []
   },
   "outputs": [],
   "source": [
    "#hide_input\n",
    "blockchain = read_news('blockchain') \n",
    "btc = read_news('btc') \n",
    "xrp = read_news('xrp') \n",
    "trx = read_news('trx') \n",
    "eth = read_news('eth')  \n",
    "ada = read_news('ada')\n",
    "exchange = read_news('exchange') "
   ]
  },
  {
   "cell_type": "code",
   "execution_count": 3,
   "id": "synthetic-notion",
   "metadata": {
    "execution": {
     "iopub.execute_input": "2021-05-14T02:21:30.934534Z",
     "iopub.status.busy": "2021-05-14T02:21:30.933959Z",
     "iopub.status.idle": "2021-05-14T02:21:30.942044Z",
     "shell.execute_reply": "2021-05-14T02:21:30.941561Z"
    },
    "papermill": {
     "duration": 0.023052,
     "end_time": "2021-05-14T02:21:30.942181",
     "exception": false,
     "start_time": "2021-05-14T02:21:30.919129",
     "status": "completed"
    },
    "tags": []
   },
   "outputs": [
    {
     "data": {
      "text/markdown": [
       "- Sun Has Arrived: Tron’s Tether Has Issued 30 Billion USDT.  Tether, the largest stablecoin by market cap, has reached a milestone by issuing 30 billion USDT on top of the Tron blockchain. 30 Billion USDT Issued on Tron Tether, the largest stablecoin on the market, has released 30 billion USDT as TRC20 tokens on the Tron blockchain, which is the highest amount the stablecoin has [&#8230;] ... [| Skaityti daugiau](https://bitcoinist.com/sun-has-arrived-trons-tether-has-issued-30-billion-usdt/?utm_source=rss&utm_medium=rss&utm_campaign=sun-has-arrived-trons-tether-has-issued-30-billion-usdt) "
      ],
      "text/plain": [
       "<IPython.core.display.Markdown object>"
      ]
     },
     "execution_count": 3,
     "metadata": {},
     "output_type": "execute_result"
    }
   ],
   "source": [
    "#hide_input\n",
    "#md('##### {}'.format(titleBTC)) \n",
    "md(\"- {}{} {}{} [| Skaityti daugiau]({}) \".format(blockchain['title'],'. ', blockchain['body'], ' ...', blockchain['url']))"
   ]
  },
  {
   "cell_type": "code",
   "execution_count": 4,
   "id": "aging-caution",
   "metadata": {
    "execution": {
     "iopub.execute_input": "2021-05-14T02:21:30.968434Z",
     "iopub.status.busy": "2021-05-14T02:21:30.967813Z",
     "iopub.status.idle": "2021-05-14T02:21:30.970778Z",
     "shell.execute_reply": "2021-05-14T02:21:30.970321Z"
    },
    "papermill": {
     "duration": 0.017877,
     "end_time": "2021-05-14T02:21:30.970892",
     "exception": false,
     "start_time": "2021-05-14T02:21:30.953015",
     "status": "completed"
    },
    "tags": []
   },
   "outputs": [
    {
     "data": {
      "text/markdown": [
       "- Dogecoin (DOGE) Up 12% After Elon Musk’s Tweet of Working With DOGE Developers.  It seems Elon Musk has been moving the crypto market at his whims as of now. A day after Tesla announced that it is dropping Bitcoin (BTC) payments citing environmental concerns, Musk is now driving the attention of his followers to Dogecoin (DOGE). On late Thursday, May 13, Elon Musk tweeted that he (and probably The post Dogecoin (DOGE) Up 12% After Elon Musk&#8217;s Tweet of Working With DOGE Developers appeared first on Coingape. ... [| Skaityti daugiau](https://coingape.com/dogecoin-doge-12-elon-musks-tweet-working-doge-developers/) "
      ],
      "text/plain": [
       "<IPython.core.display.Markdown object>"
      ]
     },
     "execution_count": 4,
     "metadata": {},
     "output_type": "execute_result"
    }
   ],
   "source": [
    "#hide_input\n",
    "#md('##### {}'.format(titleBTC)) \n",
    "md(\"- {}{} {}{} [| Skaityti daugiau]({}) \".format(btc['title'],'. ', btc['body'], ' ...', btc['url']))"
   ]
  },
  {
   "cell_type": "code",
   "execution_count": 5,
   "id": "organic-actress",
   "metadata": {
    "execution": {
     "iopub.execute_input": "2021-05-14T02:21:30.998393Z",
     "iopub.status.busy": "2021-05-14T02:21:30.997825Z",
     "iopub.status.idle": "2021-05-14T02:21:31.000749Z",
     "shell.execute_reply": "2021-05-14T02:21:31.001235Z"
    },
    "papermill": {
     "duration": 0.019549,
     "end_time": "2021-05-14T02:21:31.001366",
     "exception": false,
     "start_time": "2021-05-14T02:21:30.981817",
     "status": "completed"
    },
    "tags": []
   },
   "outputs": [
    {
     "data": {
      "text/markdown": [
       "- XRP, Dogecoin, Cardano Price Analysis: 13 May.  With the exception of perhaps Ethereum, the rest of the altcoin market was already on a steady downtrend before Bitcoin fell on the back of Tesla suspending BTC payments. Following the same, the said downtrend became even steeper, with the likes of XRP and Dogecoin continuing to bleed losses. On the contrary, others such as [&#8230;] ... [| Skaityti daugiau](https://ambcrypto.com/xrp-dogecoin-cardano-price-analysis-13-may/) "
      ],
      "text/plain": [
       "<IPython.core.display.Markdown object>"
      ]
     },
     "execution_count": 5,
     "metadata": {},
     "output_type": "execute_result"
    }
   ],
   "source": [
    "#hide_input\n",
    "#md('##### {}'.format(titleBTC)) \n",
    "md(\"- {}{} {}{} [| Skaityti daugiau]({}) \".format(xrp['title'],'. ', xrp['body'], ' ...', xrp['url']))"
   ]
  },
  {
   "cell_type": "code",
   "execution_count": 6,
   "id": "prompt-farmer",
   "metadata": {
    "execution": {
     "iopub.execute_input": "2021-05-14T02:21:31.029508Z",
     "iopub.status.busy": "2021-05-14T02:21:31.028940Z",
     "iopub.status.idle": "2021-05-14T02:21:31.031865Z",
     "shell.execute_reply": "2021-05-14T02:21:31.032372Z"
    },
    "papermill": {
     "duration": 0.019894,
     "end_time": "2021-05-14T02:21:31.032507",
     "exception": false,
     "start_time": "2021-05-14T02:21:31.012613",
     "status": "completed"
    },
    "tags": []
   },
   "outputs": [
    {
     "data": {
      "text/markdown": [
       "- Tron, THETA, Solana Price Analysis: 13 May.  Bitcoin&#8217;s depreciation on the charts, one precipitated by Tesla&#8217;s U-Turn on BTC payments, had an expectedly corresponding effect on the rest of the market&#8217;s altcoins, with the likes of Tron, THETA, and Solana all losing value over the last few trading sessions. Tron [TRX] On observation of its 4-hour charts, it was found that most [&#8230;] ... [| Skaityti daugiau](https://ambcrypto.com/tron-theta-solana-price-analysis-13-may/) "
      ],
      "text/plain": [
       "<IPython.core.display.Markdown object>"
      ]
     },
     "execution_count": 6,
     "metadata": {},
     "output_type": "execute_result"
    }
   ],
   "source": [
    "#hide_input\n",
    "#md('##### {}'.format(titleBTC)) \n",
    "md(\"- {}{} {}{} [| Skaityti daugiau]({}) \".format(trx['title'],'. ', trx['body'], ' ...', trx['url']))"
   ]
  },
  {
   "cell_type": "code",
   "execution_count": 7,
   "id": "illegal-greece",
   "metadata": {
    "execution": {
     "iopub.execute_input": "2021-05-14T02:21:31.061413Z",
     "iopub.status.busy": "2021-05-14T02:21:31.060849Z",
     "iopub.status.idle": "2021-05-14T02:21:31.064419Z",
     "shell.execute_reply": "2021-05-14T02:21:31.063902Z"
    },
    "papermill": {
     "duration": 0.0202,
     "end_time": "2021-05-14T02:21:31.064536",
     "exception": false,
     "start_time": "2021-05-14T02:21:31.044336",
     "status": "completed"
    },
    "tags": []
   },
   "outputs": [
    {
     "data": {
      "text/markdown": [
       "- Traders lost $200 million trading Dogecoin and Shiba Inu (SHIB) yesterday.  Dogecoin (DOGE) and Shiba Inu (SHIB) traders lost over $200 million yesterday after Ethereum’s Vitalik Buterin dumped part of his stack, data from markets taken by Bybt shows. The post Traders lost $200 million trading Dogecoin and Shiba Inu (SHIB) yesterday appeared first on CryptoSlate. ... [| Skaityti daugiau](https://cryptoslate.com/traders-lost-200-million-trading-dogecoin-and-shiba-inu-shib-yesterday/) "
      ],
      "text/plain": [
       "<IPython.core.display.Markdown object>"
      ]
     },
     "execution_count": 7,
     "metadata": {},
     "output_type": "execute_result"
    }
   ],
   "source": [
    "#hide_input\n",
    "#md('##### {}'.format(titleBTC)) \n",
    "md(\"- {}{} {}{} [| Skaityti daugiau]({}) \".format(eth['title'],'. ', eth['body'], ' ...', eth['url']))"
   ]
  },
  {
   "cell_type": "code",
   "execution_count": 8,
   "id": "sublime-lounge",
   "metadata": {
    "execution": {
     "iopub.execute_input": "2021-05-14T02:21:31.093703Z",
     "iopub.status.busy": "2021-05-14T02:21:31.093138Z",
     "iopub.status.idle": "2021-05-14T02:21:31.096213Z",
     "shell.execute_reply": "2021-05-14T02:21:31.096745Z"
    },
    "papermill": {
     "duration": 0.020265,
     "end_time": "2021-05-14T02:21:31.096875",
     "exception": false,
     "start_time": "2021-05-14T02:21:31.076610",
     "status": "completed"
    },
    "tags": []
   },
   "outputs": [
    {
     "data": {
      "text/markdown": [
       "- Cardano’s (ADA) price surges as devs recommend it to Tesla.  The price of Cardano (ADA) has spiked to a new all-time of $1.96 today after the Cardano Foundation, the non-profit organization behind the cryptocurrency, asked Elon Musk to &#8220;get your people to talk to our people.&#8221; Cardano x Tesla: An obvious match? 🤔 A thread 🧵&#8230;#Cardano #CardanoCommunity #Blockchain pic.twitter dot com/zJAlDV3muw &#8212; Cardano Foundation (@CardanoStiftung) May 13, [&#8230;]The post Cardano’s (ADA) price surges as devs recommend it to Tesla appeared first on CryptoSlate. ... [| Skaityti daugiau](https://cryptoslate.com/cardanos-ada-price-surges-as-devs-recommend-it-for-tesla-purchases/) "
      ],
      "text/plain": [
       "<IPython.core.display.Markdown object>"
      ]
     },
     "execution_count": 8,
     "metadata": {},
     "output_type": "execute_result"
    }
   ],
   "source": [
    "#hide_input\n",
    "#md('##### {}'.format(titleBTC)) \n",
    "md(\"- {}{} {}{} [| Skaityti daugiau]({}) \".format(ada['title'],'. ', ada['body'], ' ...', ada['url']))"
   ]
  },
  {
   "cell_type": "code",
   "execution_count": 9,
   "id": "specified-ordering",
   "metadata": {
    "execution": {
     "iopub.execute_input": "2021-05-14T02:21:31.127369Z",
     "iopub.status.busy": "2021-05-14T02:21:31.126801Z",
     "iopub.status.idle": "2021-05-14T02:21:31.130001Z",
     "shell.execute_reply": "2021-05-14T02:21:31.130487Z"
    },
    "papermill": {
     "duration": 0.02139,
     "end_time": "2021-05-14T02:21:31.130618",
     "exception": false,
     "start_time": "2021-05-14T02:21:31.109228",
     "status": "completed"
    },
    "tags": []
   },
   "outputs": [
    {
     "data": {
      "text/markdown": [
       "- Coinbase Reports Record Revenue and Says It Will List Dogecoin in 6 Weeks.  Coinbase and Dogecoin are having a great year, and now the exchange is listing the meme coin after its skyrocketing success. ... [| Skaityti daugiau](https://cryptopotato.com/coinbase-reports-record-revenue-and-says-it-will-list-dogecoin-in-6-weeks/) "
      ],
      "text/plain": [
       "<IPython.core.display.Markdown object>"
      ]
     },
     "execution_count": 9,
     "metadata": {},
     "output_type": "execute_result"
    }
   ],
   "source": [
    "#hide_input\n",
    "#md('##### {}'.format(titleBTC)) \n",
    "md(\"- {}{} {}{} [| Skaityti daugiau]({}) \".format(exchange['title'],'. ', exchange['body'], ' ...', exchange['url']))"
   ]
  },
  {
   "cell_type": "code",
   "execution_count": null,
   "id": "tender-livestock",
   "metadata": {
    "papermill": {
     "duration": 0.012764,
     "end_time": "2021-05-14T02:21:31.156264",
     "exception": false,
     "start_time": "2021-05-14T02:21:31.143500",
     "status": "completed"
    },
    "tags": []
   },
   "outputs": [],
   "source": []
  },
  {
   "cell_type": "code",
   "execution_count": null,
   "id": "appreciated-diamond",
   "metadata": {
    "papermill": {
     "duration": 0.012628,
     "end_time": "2021-05-14T02:21:31.181818",
     "exception": false,
     "start_time": "2021-05-14T02:21:31.169190",
     "status": "completed"
    },
    "tags": []
   },
   "outputs": [],
   "source": []
  },
  {
   "cell_type": "code",
   "execution_count": null,
   "id": "romance-sweden",
   "metadata": {
    "papermill": {
     "duration": 0.012764,
     "end_time": "2021-05-14T02:21:31.207261",
     "exception": false,
     "start_time": "2021-05-14T02:21:31.194497",
     "status": "completed"
    },
    "tags": []
   },
   "outputs": [],
   "source": []
  },
  {
   "cell_type": "code",
   "execution_count": null,
   "id": "dietary-statistics",
   "metadata": {
    "papermill": {
     "duration": 0.012781,
     "end_time": "2021-05-14T02:21:31.232846",
     "exception": false,
     "start_time": "2021-05-14T02:21:31.220065",
     "status": "completed"
    },
    "tags": []
   },
   "outputs": [],
   "source": []
  }
 ],
 "metadata": {
  "kernelspec": {
   "display_name": "Python 3",
   "language": "python",
   "name": "python3"
  },
  "language_info": {
   "codemirror_mode": {
    "name": "ipython",
    "version": 3
   },
   "file_extension": ".py",
   "mimetype": "text/x-python",
   "name": "python",
   "nbconvert_exporter": "python",
   "pygments_lexer": "ipython3",
   "version": "3.6.13"
  },
  "papermill": {
   "default_parameters": {},
   "duration": 12.65257,
   "end_time": "2021-05-14T02:21:31.653314",
   "environment_variables": {},
   "exception": null,
   "input_path": "Market-News.ipynb",
   "output_path": "Market-News.ipynb",
   "parameters": {},
   "start_time": "2021-05-14T02:21:19.000744",
   "version": "2.2.2"
  }
 },
 "nbformat": 4,
 "nbformat_minor": 5
}