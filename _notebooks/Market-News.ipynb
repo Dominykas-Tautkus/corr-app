{
 "cells": [
  {
   "cell_type": "markdown",
   "id": "short-greensboro",
   "metadata": {
    "papermill": {
     "duration": 0.01491,
     "end_time": "2021-05-03T02:13:52.055211",
     "exception": false,
     "start_time": "2021-05-03T02:13:52.040301",
     "status": "completed"
    },
    "tags": []
   },
   "source": [
    "# Kriptovaliutų naujienos"
   ]
  },
  {
   "cell_type": "code",
   "execution_count": 1,
   "id": "functioning-knowing",
   "metadata": {
    "execution": {
     "iopub.execute_input": "2021-05-03T02:13:52.088897Z",
     "iopub.status.busy": "2021-05-03T02:13:52.088312Z",
     "iopub.status.idle": "2021-05-03T02:13:53.383602Z",
     "shell.execute_reply": "2021-05-03T02:13:53.382309Z"
    },
    "papermill": {
     "duration": 1.316869,
     "end_time": "2021-05-03T02:13:53.383773",
     "exception": false,
     "start_time": "2021-05-03T02:13:52.066904",
     "status": "completed"
    },
    "tags": []
   },
   "outputs": [],
   "source": [
    "#hide_input\n",
    "import warnings\n",
    "warnings.filterwarnings('ignore')\n",
    "from scripts.read_data import read_api\n",
    "from scripts.read_data import read_news\n",
    "from scripts.read_data import read_covid\n",
    "import matplotlib.pyplot as plt \n",
    "from IPython.display import Markdown as md"
   ]
  },
  {
   "cell_type": "code",
   "execution_count": 2,
   "id": "shared-acceptance",
   "metadata": {
    "execution": {
     "iopub.execute_input": "2021-05-03T02:13:53.410938Z",
     "iopub.status.busy": "2021-05-03T02:13:53.410343Z",
     "iopub.status.idle": "2021-05-03T02:14:02.492297Z",
     "shell.execute_reply": "2021-05-03T02:14:02.491438Z"
    },
    "papermill": {
     "duration": 9.097747,
     "end_time": "2021-05-03T02:14:02.492509",
     "exception": false,
     "start_time": "2021-05-03T02:13:53.394762",
     "status": "completed"
    },
    "tags": []
   },
   "outputs": [],
   "source": [
    "#hide_input\n",
    "blockchain = read_news('blockchain') \n",
    "btc = read_news('btc') \n",
    "xrp = read_news('xrp') \n",
    "trx = read_news('trx') \n",
    "eth = read_news('eth')  \n",
    "ada = read_news('ada')\n",
    "exchange = read_news('exchange') "
   ]
  },
  {
   "cell_type": "code",
   "execution_count": 3,
   "id": "synthetic-notion",
   "metadata": {
    "execution": {
     "iopub.execute_input": "2021-05-03T02:14:02.522146Z",
     "iopub.status.busy": "2021-05-03T02:14:02.521268Z",
     "iopub.status.idle": "2021-05-03T02:14:02.525659Z",
     "shell.execute_reply": "2021-05-03T02:14:02.526269Z"
    },
    "papermill": {
     "duration": 0.022188,
     "end_time": "2021-05-03T02:14:02.526398",
     "exception": false,
     "start_time": "2021-05-03T02:14:02.504210",
     "status": "completed"
    },
    "tags": []
   },
   "outputs": [
    {
     "data": {
      "text/markdown": [
       "- EtherLite – The First Crypto Ever To Be Featured on Burj Khalifa.  When EtherLite said, &#8220;To the moon,&#8221; they meant it quite literally. What EtherLite has set out to achieve is to move blockchain from the hands of the few by empowering the many, and for this to happen they are moving supersonically. Just as they wish to see the value of ETL rise to the moon, [&#8230;]The post EtherLite – The First Crypto Ever To Be Featured on Burj Khalifa appeared first on The Daily Hodl. ... [| Skaityti daugiau](https://dailyhodl.com/2021/05/02/etherlite-the-first-crypto-ever-to-be-featured-on-burj-khalifa/) "
      ],
      "text/plain": [
       "<IPython.core.display.Markdown object>"
      ]
     },
     "execution_count": 3,
     "metadata": {},
     "output_type": "execute_result"
    }
   ],
   "source": [
    "#hide_input\n",
    "#md('##### {}'.format(titleBTC)) \n",
    "md(\"- {}{} {}{} [| Skaityti daugiau]({}) \".format(blockchain['title'],'. ', blockchain['body'], ' ...', blockchain['url']))"
   ]
  },
  {
   "cell_type": "code",
   "execution_count": 4,
   "id": "aging-caution",
   "metadata": {
    "execution": {
     "iopub.execute_input": "2021-05-03T02:14:02.554210Z",
     "iopub.status.busy": "2021-05-03T02:14:02.553673Z",
     "iopub.status.idle": "2021-05-03T02:14:02.557612Z",
     "shell.execute_reply": "2021-05-03T02:14:02.557155Z"
    },
    "papermill": {
     "duration": 0.019203,
     "end_time": "2021-05-03T02:14:02.557721",
     "exception": false,
     "start_time": "2021-05-03T02:14:02.538518",
     "status": "completed"
    },
    "tags": []
   },
   "outputs": [
    {
     "data": {
      "text/markdown": [
       "- Bitcoin Is Number One Pick — Asset Manager Confident BTC Will Take Him ‘to the Top’ in Stock Draft Competition.  At CNBC&#8217;s Stock Draft, an annual stock-picking competition, bitcoin was the number one pick. Tim Seymour, the founder of Seymour Asset Management, believes that the government will come out with regulations that support bitcoin. He is confident that the cryptocurrency will take him &#8220;to the top&#8221; this year. Bitcoin Was Top Pick at Annual Stock [&#8230;] ... [| Skaityti daugiau](https://news.bitcoin.com/bitcoin-number-one-pick-asset-manager-btc-take-him-to-the-top-stock-draft-competition/) "
      ],
      "text/plain": [
       "<IPython.core.display.Markdown object>"
      ]
     },
     "execution_count": 4,
     "metadata": {},
     "output_type": "execute_result"
    }
   ],
   "source": [
    "#hide_input\n",
    "#md('##### {}'.format(titleBTC)) \n",
    "md(\"- {}{} {}{} [| Skaityti daugiau]({}) \".format(btc['title'],'. ', btc['body'], ' ...', btc['url']))"
   ]
  },
  {
   "cell_type": "code",
   "execution_count": 5,
   "id": "organic-actress",
   "metadata": {
    "execution": {
     "iopub.execute_input": "2021-05-03T02:14:02.584623Z",
     "iopub.status.busy": "2021-05-03T02:14:02.584054Z",
     "iopub.status.idle": "2021-05-03T02:14:02.587899Z",
     "shell.execute_reply": "2021-05-03T02:14:02.587444Z"
    },
    "papermill": {
     "duration": 0.019669,
     "end_time": "2021-05-03T02:14:02.588011",
     "exception": false,
     "start_time": "2021-05-03T02:14:02.568342",
     "status": "completed"
    },
    "tags": []
   },
   "outputs": [
    {
     "data": {
      "text/markdown": [
       "- XRP Price Analysis: 2 May.  After the drop during the 3rd week of April, XRP has rallied by 48% over the last week of the month, currently consolidating above the $1.50 mark. The recovery has been immediate and bullish momentum was still intact during the decline. At press time, XRP had a market cap of $72.5 billion, ranking 4th on [&#8230;] ... [| Skaityti daugiau](https://ambcrypto.com/xrp-price-analysis-2-may/) "
      ],
      "text/plain": [
       "<IPython.core.display.Markdown object>"
      ]
     },
     "execution_count": 5,
     "metadata": {},
     "output_type": "execute_result"
    }
   ],
   "source": [
    "#hide_input\n",
    "#md('##### {}'.format(titleBTC)) \n",
    "md(\"- {}{} {}{} [| Skaityti daugiau]({}) \".format(xrp['title'],'. ', xrp['body'], ' ...', xrp['url']))"
   ]
  },
  {
   "cell_type": "code",
   "execution_count": 6,
   "id": "prompt-farmer",
   "metadata": {
    "execution": {
     "iopub.execute_input": "2021-05-03T02:14:02.615576Z",
     "iopub.status.busy": "2021-05-03T02:14:02.613998Z",
     "iopub.status.idle": "2021-05-03T02:14:02.618372Z",
     "shell.execute_reply": "2021-05-03T02:14:02.617884Z"
    },
    "papermill": {
     "duration": 0.019389,
     "end_time": "2021-05-03T02:14:02.618480",
     "exception": false,
     "start_time": "2021-05-03T02:14:02.599091",
     "status": "completed"
    },
    "tags": []
   },
   "outputs": [
    {
     "data": {
      "text/markdown": [
       "- Tron Plans to Launch a Cross-Chain Scaling Solution Known as Apollo.  Justin Sun has announced plans to launch a cross-chain scaling solution known as Apollo Apollo will enable the transfer of data and assets across multiple chains Such a feature on Tron will be beneficial in enhancing DeFi across the crypto-verse Just Sun and the Tron Foundation are yet to release full details on Apollo The founder and CEO of Tron (TRX), Just Sun, has announced plans of launching a new cross-chain scaling solution known as Apollo. According to Justin Sun, [&#8230;] ... [| Skaityti daugiau](https://en.ethereumworldnews.com/tron-plans-to-launch-a-cross-chain-scaling-solution-known-as-apollo/) "
      ],
      "text/plain": [
       "<IPython.core.display.Markdown object>"
      ]
     },
     "execution_count": 6,
     "metadata": {},
     "output_type": "execute_result"
    }
   ],
   "source": [
    "#hide_input\n",
    "#md('##### {}'.format(titleBTC)) \n",
    "md(\"- {}{} {}{} [| Skaityti daugiau]({}) \".format(trx['title'],'. ', trx['body'], ' ...', trx['url']))"
   ]
  },
  {
   "cell_type": "code",
   "execution_count": 7,
   "id": "illegal-greece",
   "metadata": {
    "execution": {
     "iopub.execute_input": "2021-05-03T02:14:02.647399Z",
     "iopub.status.busy": "2021-05-03T02:14:02.646684Z",
     "iopub.status.idle": "2021-05-03T02:14:02.649317Z",
     "shell.execute_reply": "2021-05-03T02:14:02.649889Z"
    },
    "papermill": {
     "duration": 0.019914,
     "end_time": "2021-05-03T02:14:02.650012",
     "exception": false,
     "start_time": "2021-05-03T02:14:02.630098",
     "status": "completed"
    },
    "tags": []
   },
   "outputs": [
    {
     "data": {
      "text/markdown": [
       "- Ethereum (ETH) Tops $3,000 For the First Time In History.  Just a little over two months after breaking above $2K, ETH has added another grand to its value, resulting in taking down the $3K milestone. ... [| Skaityti daugiau](https://cryptopotato.com/ethereum-eth-tops-3000-for-the-first-time-in-history/) "
      ],
      "text/plain": [
       "<IPython.core.display.Markdown object>"
      ]
     },
     "execution_count": 7,
     "metadata": {},
     "output_type": "execute_result"
    }
   ],
   "source": [
    "#hide_input\n",
    "#md('##### {}'.format(titleBTC)) \n",
    "md(\"- {}{} {}{} [| Skaityti daugiau]({}) \".format(eth['title'],'. ', eth['body'], ' ...', eth['url']))"
   ]
  },
  {
   "cell_type": "code",
   "execution_count": 8,
   "id": "sublime-lounge",
   "metadata": {
    "execution": {
     "iopub.execute_input": "2021-05-03T02:14:02.678885Z",
     "iopub.status.busy": "2021-05-03T02:14:02.678302Z",
     "iopub.status.idle": "2021-05-03T02:14:02.681099Z",
     "shell.execute_reply": "2021-05-03T02:14:02.681616Z"
    },
    "papermill": {
     "duration": 0.019943,
     "end_time": "2021-05-03T02:14:02.681740",
     "exception": false,
     "start_time": "2021-05-03T02:14:02.661797",
     "status": "completed"
    },
    "tags": []
   },
   "outputs": [
    {
     "data": {
      "text/markdown": [
       "- XRP, Dogecoin, Cardano Price Analysis: 02 May.  After Bitcoin was rejected above $58,539-resistance, the price moved back below $57K and ramifications of this move were reflected among certain altcoins. XRP and ADA both posted minor losses, although the latter alt&#8217;s movement was within an ascending triangle. On the other hand, Dogecoin went against the broader market trend and traded in the green [&#8230;] ... [| Skaityti daugiau](https://ambcrypto.com/xrp-dogecoin-cardano-price-analysis-02-may/) "
      ],
      "text/plain": [
       "<IPython.core.display.Markdown object>"
      ]
     },
     "execution_count": 8,
     "metadata": {},
     "output_type": "execute_result"
    }
   ],
   "source": [
    "#hide_input\n",
    "#md('##### {}'.format(titleBTC)) \n",
    "md(\"- {}{} {}{} [| Skaityti daugiau]({}) \".format(ada['title'],'. ', ada['body'], ' ...', ada['url']))"
   ]
  },
  {
   "cell_type": "code",
   "execution_count": 9,
   "id": "specified-ordering",
   "metadata": {
    "execution": {
     "iopub.execute_input": "2021-05-03T02:14:02.711138Z",
     "iopub.status.busy": "2021-05-03T02:14:02.710572Z",
     "iopub.status.idle": "2021-05-03T02:14:02.713885Z",
     "shell.execute_reply": "2021-05-03T02:14:02.713374Z"
    },
    "papermill": {
     "duration": 0.020065,
     "end_time": "2021-05-03T02:14:02.713997",
     "exception": false,
     "start_time": "2021-05-03T02:14:02.693932",
     "status": "completed"
    },
    "tags": []
   },
   "outputs": [
    {
     "data": {
      "text/markdown": [
       "- WisdomTree Launches a Physically-Backed Ethereum ETP in Europe.  Two weeks after releasing a Bitcoin ETP, WisdomTree has launched an Ethereum ETP on Germany's Börse Xetra and the SIX Stock Exchange. ... [| Skaityti daugiau](https://cryptopotato.com/wisdomtree-launches-a-physically-backed-ethereum-etp-in-europe/) "
      ],
      "text/plain": [
       "<IPython.core.display.Markdown object>"
      ]
     },
     "execution_count": 9,
     "metadata": {},
     "output_type": "execute_result"
    }
   ],
   "source": [
    "#hide_input\n",
    "#md('##### {}'.format(titleBTC)) \n",
    "md(\"- {}{} {}{} [| Skaityti daugiau]({}) \".format(exchange['title'],'. ', exchange['body'], ' ...', exchange['url']))"
   ]
  },
  {
   "cell_type": "code",
   "execution_count": null,
   "id": "tender-livestock",
   "metadata": {
    "papermill": {
     "duration": 0.012545,
     "end_time": "2021-05-03T02:14:02.739185",
     "exception": false,
     "start_time": "2021-05-03T02:14:02.726640",
     "status": "completed"
    },
    "tags": []
   },
   "outputs": [],
   "source": []
  },
  {
   "cell_type": "code",
   "execution_count": null,
   "id": "appreciated-diamond",
   "metadata": {
    "papermill": {
     "duration": 0.012526,
     "end_time": "2021-05-03T02:14:02.764411",
     "exception": false,
     "start_time": "2021-05-03T02:14:02.751885",
     "status": "completed"
    },
    "tags": []
   },
   "outputs": [],
   "source": []
  },
  {
   "cell_type": "code",
   "execution_count": null,
   "id": "romance-sweden",
   "metadata": {
    "papermill": {
     "duration": 0.012555,
     "end_time": "2021-05-03T02:14:02.789583",
     "exception": false,
     "start_time": "2021-05-03T02:14:02.777028",
     "status": "completed"
    },
    "tags": []
   },
   "outputs": [],
   "source": []
  },
  {
   "cell_type": "code",
   "execution_count": null,
   "id": "dietary-statistics",
   "metadata": {
    "papermill": {
     "duration": 0.012463,
     "end_time": "2021-05-03T02:14:02.814583",
     "exception": false,
     "start_time": "2021-05-03T02:14:02.802120",
     "status": "completed"
    },
    "tags": []
   },
   "outputs": [],
   "source": []
  }
 ],
 "metadata": {
  "kernelspec": {
   "display_name": "Python 3",
   "language": "python",
   "name": "python3"
  },
  "language_info": {
   "codemirror_mode": {
    "name": "ipython",
    "version": 3
   },
   "file_extension": ".py",
   "mimetype": "text/x-python",
   "name": "python",
   "nbconvert_exporter": "python",
   "pygments_lexer": "ipython3",
   "version": "3.6.13"
  },
  "papermill": {
   "default_parameters": {},
   "duration": 12.264822,
   "end_time": "2021-05-03T02:14:03.236359",
   "environment_variables": {},
   "exception": null,
   "input_path": "Market-News.ipynb",
   "output_path": "Market-News.ipynb",
   "parameters": {},
   "start_time": "2021-05-03T02:13:50.971537",
   "version": "2.2.2"
  }
 },
 "nbformat": 4,
 "nbformat_minor": 5
}