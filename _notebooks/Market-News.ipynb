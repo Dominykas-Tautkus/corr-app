{
 "cells": [
  {
   "cell_type": "markdown",
   "id": "short-greensboro",
   "metadata": {
    "papermill": {
     "duration": 0.015309,
     "end_time": "2021-05-31T04:18:51.253248",
     "exception": false,
     "start_time": "2021-05-31T04:18:51.237939",
     "status": "completed"
    },
    "tags": []
   },
   "source": [
    "# Kriptovaliutų naujienos"
   ]
  },
  {
   "cell_type": "code",
   "execution_count": 1,
   "id": "functioning-knowing",
   "metadata": {
    "execution": {
     "iopub.execute_input": "2021-05-31T04:18:51.287252Z",
     "iopub.status.busy": "2021-05-31T04:18:51.281934Z",
     "iopub.status.idle": "2021-05-31T04:18:52.551361Z",
     "shell.execute_reply": "2021-05-31T04:18:52.550242Z"
    },
    "papermill": {
     "duration": 1.287624,
     "end_time": "2021-05-31T04:18:52.551543",
     "exception": false,
     "start_time": "2021-05-31T04:18:51.263919",
     "status": "completed"
    },
    "tags": []
   },
   "outputs": [],
   "source": [
    "#hide_input\n",
    "import warnings\n",
    "warnings.filterwarnings('ignore')\n",
    "from scripts.read_data import read_api\n",
    "from scripts.read_data import read_news\n",
    "from scripts.read_data import read_covid\n",
    "import matplotlib.pyplot as plt \n",
    "from IPython.display import Markdown as md"
   ]
  },
  {
   "cell_type": "code",
   "execution_count": 2,
   "id": "shared-acceptance",
   "metadata": {
    "execution": {
     "iopub.execute_input": "2021-05-31T04:18:52.578070Z",
     "iopub.status.busy": "2021-05-31T04:18:52.577105Z",
     "iopub.status.idle": "2021-05-31T04:19:00.421776Z",
     "shell.execute_reply": "2021-05-31T04:19:00.421199Z"
    },
    "papermill": {
     "duration": 7.860021,
     "end_time": "2021-05-31T04:19:00.421908",
     "exception": false,
     "start_time": "2021-05-31T04:18:52.561887",
     "status": "completed"
    },
    "tags": []
   },
   "outputs": [],
   "source": [
    "#hide_input\n",
    "blockchain = read_news('blockchain') \n",
    "btc = read_news('btc') \n",
    "xrp = read_news('xrp') \n",
    "trx = read_news('trx') \n",
    "eth = read_news('eth')  \n",
    "ada = read_news('ada')\n",
    "exchange = read_news('exchange') "
   ]
  },
  {
   "cell_type": "code",
   "execution_count": 3,
   "id": "synthetic-notion",
   "metadata": {
    "execution": {
     "iopub.execute_input": "2021-05-31T04:19:00.448558Z",
     "iopub.status.busy": "2021-05-31T04:19:00.447974Z",
     "iopub.status.idle": "2021-05-31T04:19:00.450246Z",
     "shell.execute_reply": "2021-05-31T04:19:00.450781Z"
    },
    "papermill": {
     "duration": 0.018784,
     "end_time": "2021-05-31T04:19:00.450915",
     "exception": false,
     "start_time": "2021-05-31T04:19:00.432131",
     "status": "completed"
    },
    "tags": []
   },
   "outputs": [
    {
     "data": {
      "text/markdown": [
       "- RenVM Integration Enables Fantom to Provide Superfast Bitcoin Transactions with Lowest Possible Fees.  RenVM&#8217;s latest upgrade includes support for Fantom&#8217;s blockchain, bringing popular crypto-assets BTC, BCH, DGB, DOGE, FIL, Zcash and LUNA to Fantom&#8217;s ultra-fast, low fee DeFi ecosystem. Fantom users enjoy significantly reduced transaction wait times and greatly decreased transaction fees. But unfortunately, users holding native assets on the other major blockchains don&#8217;t have that ability, until [&#8230;] ... [| Skaityti daugiau](https://www.newsbtc.com/news/company/renvm-integration-enables-fantom-to-provide-superfast-bitcoin-transactions-with-lowest-possible-fees/) "
      ],
      "text/plain": [
       "<IPython.core.display.Markdown object>"
      ]
     },
     "execution_count": 3,
     "metadata": {},
     "output_type": "execute_result"
    }
   ],
   "source": [
    "#hide_input\n",
    "#md('##### {}'.format(titleBTC)) \n",
    "md(\"- {}{} {}{} [| Skaityti daugiau]({}) \".format(blockchain['title'],'. ', blockchain['body'], ' ...', blockchain['url']))"
   ]
  },
  {
   "cell_type": "code",
   "execution_count": 4,
   "id": "aging-caution",
   "metadata": {
    "execution": {
     "iopub.execute_input": "2021-05-31T04:19:00.478164Z",
     "iopub.status.busy": "2021-05-31T04:19:00.477596Z",
     "iopub.status.idle": "2021-05-31T04:19:00.483406Z",
     "shell.execute_reply": "2021-05-31T04:19:00.482929Z"
    },
    "papermill": {
     "duration": 0.022458,
     "end_time": "2021-05-31T04:19:00.483547",
     "exception": false,
     "start_time": "2021-05-31T04:19:00.461089",
     "status": "completed"
    },
    "tags": []
   },
   "outputs": [
    {
     "data": {
      "text/markdown": [
       "- UK Police Raid Alleged Cannabis Farm, Finds Bitcoin Mining Facility Stealing Power.  Police from the UK executed a raid in an industrial unit in the West Midlands county expecting to find a cannabis farm, but instead found a big bitcoin mining facility, that was coincidentally bypassing the controls from the local power utility company to siphon energy from the main grid, stealing thousands of pounds in the [&#8230;] ... [| Skaityti daugiau](https://news.bitcoin.com/uk-police-raid-alleged-cannabis-farm-finds-bitcoin-mining-facility-stealing-power/) "
      ],
      "text/plain": [
       "<IPython.core.display.Markdown object>"
      ]
     },
     "execution_count": 4,
     "metadata": {},
     "output_type": "execute_result"
    }
   ],
   "source": [
    "#hide_input\n",
    "#md('##### {}'.format(titleBTC)) \n",
    "md(\"- {}{} {}{} [| Skaityti daugiau]({}) \".format(btc['title'],'. ', btc['body'], ' ...', btc['url']))"
   ]
  },
  {
   "cell_type": "code",
   "execution_count": 5,
   "id": "organic-actress",
   "metadata": {
    "execution": {
     "iopub.execute_input": "2021-05-31T04:19:00.510159Z",
     "iopub.status.busy": "2021-05-31T04:19:00.509331Z",
     "iopub.status.idle": "2021-05-31T04:19:00.512322Z",
     "shell.execute_reply": "2021-05-31T04:19:00.512998Z"
    },
    "papermill": {
     "duration": 0.01897,
     "end_time": "2021-05-31T04:19:00.513173",
     "exception": false,
     "start_time": "2021-05-31T04:19:00.494203",
     "status": "completed"
    },
    "tags": []
   },
   "outputs": [
    {
     "data": {
      "text/markdown": [
       "- XRP, Dogecoin, Cardano Price Analysis: 30 May.  XRP traded within a symmetrical triangle and a breakout was possible in either direction. Dogecoin highlighted a few additional support levels in case of a breakdown from $0.309. Finally, Cardano was tipped to break above its ascending triangle and $1.83 resistance over the coming weeks. XRP A symmetrical triangle was spotted on XRP&#8217;s 12-hour chart [&#8230;] ... [| Skaityti daugiau](https://ambcrypto.com/xrp-dogecoin-cardano-price-analysis-30-may/) "
      ],
      "text/plain": [
       "<IPython.core.display.Markdown object>"
      ]
     },
     "execution_count": 5,
     "metadata": {},
     "output_type": "execute_result"
    }
   ],
   "source": [
    "#hide_input\n",
    "#md('##### {}'.format(titleBTC)) \n",
    "md(\"- {}{} {}{} [| Skaityti daugiau]({}) \".format(xrp['title'],'. ', xrp['body'], ' ...', xrp['url']))"
   ]
  },
  {
   "cell_type": "code",
   "execution_count": 6,
   "id": "prompt-farmer",
   "metadata": {
    "execution": {
     "iopub.execute_input": "2021-05-31T04:19:00.540694Z",
     "iopub.status.busy": "2021-05-31T04:19:00.540164Z",
     "iopub.status.idle": "2021-05-31T04:19:00.543661Z",
     "shell.execute_reply": "2021-05-31T04:19:00.544212Z"
    },
    "papermill": {
     "duration": 0.020105,
     "end_time": "2021-05-31T04:19:00.544324",
     "exception": false,
     "start_time": "2021-05-31T04:19:00.524219",
     "status": "completed"
    },
    "tags": []
   },
   "outputs": [
    {
     "data": {
      "text/markdown": [
       "- Tron (TRX) Price Analysis: Bulls Facing Hurdles Near $0.092.  Tron price extended its decline below the $0.1000 and $0.0900 support levels against the US Dollar. TRX price is now trading well below $0.1000 and the 55 simple moving average (4-hours). There is a major bearish trend line forming with resistance near $0.0900 on the 4-hours chart (data feed via Bitfinex). The pair is likely...The post Tron (TRX) Price Analysis: Bulls Facing Hurdles Near $0.092 appeared first on Live Bitcoin News. ... [| Skaityti daugiau](https://www.livebitcoinnews.com/tron-trx-price-analysis-bulls-facing-hurdles-near-0-092/) "
      ],
      "text/plain": [
       "<IPython.core.display.Markdown object>"
      ]
     },
     "execution_count": 6,
     "metadata": {},
     "output_type": "execute_result"
    }
   ],
   "source": [
    "#hide_input\n",
    "#md('##### {}'.format(titleBTC)) \n",
    "md(\"- {}{} {}{} [| Skaityti daugiau]({}) \".format(trx['title'],'. ', trx['body'], ' ...', trx['url']))"
   ]
  },
  {
   "cell_type": "code",
   "execution_count": 7,
   "id": "illegal-greece",
   "metadata": {
    "execution": {
     "iopub.execute_input": "2021-05-31T04:19:00.571093Z",
     "iopub.status.busy": "2021-05-31T04:19:00.570515Z",
     "iopub.status.idle": "2021-05-31T04:19:00.574051Z",
     "shell.execute_reply": "2021-05-31T04:19:00.574596Z"
    },
    "papermill": {
     "duration": 0.019195,
     "end_time": "2021-05-31T04:19:00.574722",
     "exception": false,
     "start_time": "2021-05-31T04:19:00.555527",
     "status": "completed"
    },
    "tags": []
   },
   "outputs": [
    {
     "data": {
      "text/markdown": [
       "- Bitcoin, Ethereum, Binance Coin Price Analysis: 30 May.  Bitcoin witnessed some buying resurgence around $33,000 and eyed a comeback above certain resistance levels. This allowed for large-cap alts such as Ethereum and Binance Coin to bounce back from their support zones and register northbound movement. Bitcoin [BTC] Bitcoin&#8217;s trajectory has been interesting over the past few days. The king coin has been unable [&#8230;] ... [| Skaityti daugiau](https://ambcrypto.com/bitcoin-ethereum-binance-coin-price-analysis-30-may/) "
      ],
      "text/plain": [
       "<IPython.core.display.Markdown object>"
      ]
     },
     "execution_count": 7,
     "metadata": {},
     "output_type": "execute_result"
    }
   ],
   "source": [
    "#hide_input\n",
    "#md('##### {}'.format(titleBTC)) \n",
    "md(\"- {}{} {}{} [| Skaityti daugiau]({}) \".format(eth['title'],'. ', eth['body'], ' ...', eth['url']))"
   ]
  },
  {
   "cell_type": "code",
   "execution_count": 8,
   "id": "sublime-lounge",
   "metadata": {
    "execution": {
     "iopub.execute_input": "2021-05-31T04:19:00.602437Z",
     "iopub.status.busy": "2021-05-31T04:19:00.601743Z",
     "iopub.status.idle": "2021-05-31T04:19:00.605434Z",
     "shell.execute_reply": "2021-05-31T04:19:00.605007Z"
    },
    "papermill": {
     "duration": 0.019383,
     "end_time": "2021-05-31T04:19:00.605537",
     "exception": false,
     "start_time": "2021-05-31T04:19:00.586154",
     "status": "completed"
    },
    "tags": []
   },
   "outputs": [
    {
     "data": {
      "text/markdown": [
       "- XRP, Dogecoin, Cardano Price Analysis: 30 May.  XRP traded within a symmetrical triangle and a breakout was possible in either direction. Dogecoin highlighted a few additional support levels in case of a breakdown from $0.309. Finally, Cardano was tipped to break above its ascending triangle and $1.83 resistance over the coming weeks. XRP A symmetrical triangle was spotted on XRP&#8217;s 12-hour chart [&#8230;] ... [| Skaityti daugiau](https://ambcrypto.com/xrp-dogecoin-cardano-price-analysis-30-may/) "
      ],
      "text/plain": [
       "<IPython.core.display.Markdown object>"
      ]
     },
     "execution_count": 8,
     "metadata": {},
     "output_type": "execute_result"
    }
   ],
   "source": [
    "#hide_input\n",
    "#md('##### {}'.format(titleBTC)) \n",
    "md(\"- {}{} {}{} [| Skaityti daugiau]({}) \".format(ada['title'],'. ', ada['body'], ' ...', ada['url']))"
   ]
  },
  {
   "cell_type": "code",
   "execution_count": 9,
   "id": "specified-ordering",
   "metadata": {
    "execution": {
     "iopub.execute_input": "2021-05-31T04:19:00.633591Z",
     "iopub.status.busy": "2021-05-31T04:19:00.633018Z",
     "iopub.status.idle": "2021-05-31T04:19:00.636445Z",
     "shell.execute_reply": "2021-05-31T04:19:00.635991Z"
    },
    "papermill": {
     "duration": 0.019299,
     "end_time": "2021-05-31T04:19:00.636544",
     "exception": false,
     "start_time": "2021-05-31T04:19:00.617245",
     "status": "completed"
    },
    "tags": []
   },
   "outputs": [
    {
     "data": {
      "text/markdown": [
       "- Bitcoin, Ethereum, Binance Coin Price Analysis: 30 May.  Bitcoin witnessed some buying resurgence around $33,000 and eyed a comeback above certain resistance levels. This allowed for large-cap alts such as Ethereum and Binance Coin to bounce back from their support zones and register northbound movement. Bitcoin [BTC] Bitcoin&#8217;s trajectory has been interesting over the past few days. The king coin has been unable [&#8230;] ... [| Skaityti daugiau](https://ambcrypto.com/bitcoin-ethereum-binance-coin-price-analysis-30-may/) "
      ],
      "text/plain": [
       "<IPython.core.display.Markdown object>"
      ]
     },
     "execution_count": 9,
     "metadata": {},
     "output_type": "execute_result"
    }
   ],
   "source": [
    "#hide_input\n",
    "#md('##### {}'.format(titleBTC)) \n",
    "md(\"- {}{} {}{} [| Skaityti daugiau]({}) \".format(exchange['title'],'. ', exchange['body'], ' ...', exchange['url']))"
   ]
  },
  {
   "cell_type": "code",
   "execution_count": null,
   "id": "tender-livestock",
   "metadata": {
    "papermill": {
     "duration": 0.011958,
     "end_time": "2021-05-31T04:19:00.660612",
     "exception": false,
     "start_time": "2021-05-31T04:19:00.648654",
     "status": "completed"
    },
    "tags": []
   },
   "outputs": [],
   "source": []
  },
  {
   "cell_type": "code",
   "execution_count": null,
   "id": "appreciated-diamond",
   "metadata": {
    "papermill": {
     "duration": 0.012193,
     "end_time": "2021-05-31T04:19:00.684916",
     "exception": false,
     "start_time": "2021-05-31T04:19:00.672723",
     "status": "completed"
    },
    "tags": []
   },
   "outputs": [],
   "source": []
  },
  {
   "cell_type": "code",
   "execution_count": null,
   "id": "romance-sweden",
   "metadata": {
    "papermill": {
     "duration": 0.011929,
     "end_time": "2021-05-31T04:19:00.708988",
     "exception": false,
     "start_time": "2021-05-31T04:19:00.697059",
     "status": "completed"
    },
    "tags": []
   },
   "outputs": [],
   "source": []
  },
  {
   "cell_type": "code",
   "execution_count": null,
   "id": "dietary-statistics",
   "metadata": {
    "papermill": {
     "duration": 0.012024,
     "end_time": "2021-05-31T04:19:00.733275",
     "exception": false,
     "start_time": "2021-05-31T04:19:00.721251",
     "status": "completed"
    },
    "tags": []
   },
   "outputs": [],
   "source": []
  }
 ],
 "metadata": {
  "kernelspec": {
   "display_name": "Python 3",
   "language": "python",
   "name": "python3"
  },
  "language_info": {
   "codemirror_mode": {
    "name": "ipython",
    "version": 3
   },
   "file_extension": ".py",
   "mimetype": "text/x-python",
   "name": "python",
   "nbconvert_exporter": "python",
   "pygments_lexer": "ipython3",
   "version": "3.6.13"
  },
  "papermill": {
   "default_parameters": {},
   "duration": 10.979003,
   "end_time": "2021-05-31T04:19:01.153659",
   "environment_variables": {},
   "exception": null,
   "input_path": "Market-News.ipynb",
   "output_path": "Market-News.ipynb",
   "parameters": {},
   "start_time": "2021-05-31T04:18:50.174656",
   "version": "2.2.2"
  }
 },
 "nbformat": 4,
 "nbformat_minor": 5
}