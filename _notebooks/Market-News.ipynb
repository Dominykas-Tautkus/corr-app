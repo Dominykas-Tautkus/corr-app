{
 "cells": [
  {
   "cell_type": "markdown",
   "id": "short-greensboro",
   "metadata": {
    "papermill": {
     "duration": 0.01962,
     "end_time": "2021-07-02T02:01:58.569436",
     "exception": false,
     "start_time": "2021-07-02T02:01:58.549816",
     "status": "completed"
    },
    "tags": []
   },
   "source": [
    "# Kriptovaliutų naujienos"
   ]
  },
  {
   "cell_type": "code",
   "execution_count": 1,
   "id": "functioning-knowing",
   "metadata": {
    "execution": {
     "iopub.execute_input": "2021-07-02T02:01:58.605581Z",
     "iopub.status.busy": "2021-07-02T02:01:58.604987Z",
     "iopub.status.idle": "2021-07-02T02:01:59.947333Z",
     "shell.execute_reply": "2021-07-02T02:01:59.946355Z"
    },
    "papermill": {
     "duration": 1.366733,
     "end_time": "2021-07-02T02:01:59.947492",
     "exception": false,
     "start_time": "2021-07-02T02:01:58.580759",
     "status": "completed"
    },
    "tags": []
   },
   "outputs": [],
   "source": [
    "#hide_input\n",
    "import warnings\n",
    "warnings.filterwarnings('ignore')\n",
    "from scripts.read_data import read_api\n",
    "from scripts.read_data import read_news\n",
    "from scripts.read_data import read_covid\n",
    "import matplotlib.pyplot as plt \n",
    "from IPython.display import Markdown as md"
   ]
  },
  {
   "cell_type": "code",
   "execution_count": 2,
   "id": "shared-acceptance",
   "metadata": {
    "execution": {
     "iopub.execute_input": "2021-07-02T02:01:59.973971Z",
     "iopub.status.busy": "2021-07-02T02:01:59.972953Z",
     "iopub.status.idle": "2021-07-02T02:02:10.542567Z",
     "shell.execute_reply": "2021-07-02T02:02:10.541483Z"
    },
    "papermill": {
     "duration": 10.585525,
     "end_time": "2021-07-02T02:02:10.542705",
     "exception": false,
     "start_time": "2021-07-02T02:01:59.957180",
     "status": "completed"
    },
    "tags": []
   },
   "outputs": [],
   "source": [
    "#hide_input\n",
    "blockchain = read_news('blockchain') \n",
    "btc = read_news('btc') \n",
    "xrp = read_news('xrp') \n",
    "trx = read_news('trx') \n",
    "eth = read_news('eth')  \n",
    "ada = read_news('ada')\n",
    "exchange = read_news('exchange') "
   ]
  },
  {
   "cell_type": "code",
   "execution_count": 3,
   "id": "synthetic-notion",
   "metadata": {
    "execution": {
     "iopub.execute_input": "2021-07-02T02:02:10.571064Z",
     "iopub.status.busy": "2021-07-02T02:02:10.570484Z",
     "iopub.status.idle": "2021-07-02T02:02:10.572522Z",
     "shell.execute_reply": "2021-07-02T02:02:10.572975Z"
    },
    "papermill": {
     "duration": 0.019494,
     "end_time": "2021-07-02T02:02:10.573109",
     "exception": false,
     "start_time": "2021-07-02T02:02:10.553615",
     "status": "completed"
    },
    "tags": []
   },
   "outputs": [
    {
     "data": {
      "text/markdown": [
       "- The intrinsic value of crypto beyond the financial cycles.  Over the past three years of operation, my colleagues at ARPA and I have had the opportunity to reflect in-depth on the nature of blockchain technology and its applications. The post The intrinsic value of crypto beyond the financial cycles appeared first on CryptoSlate. ... [| Skaityti daugiau](https://cryptoslate.com/the-intrinsic-value-of-crypto-beyond-the-financial-cycles/) "
      ],
      "text/plain": [
       "<IPython.core.display.Markdown object>"
      ]
     },
     "execution_count": 3,
     "metadata": {},
     "output_type": "execute_result"
    }
   ],
   "source": [
    "#hide_input\n",
    "#md('##### {}'.format(titleBTC)) \n",
    "md(\"- {}{} {}{} [| Skaityti daugiau]({}) \".format(blockchain['title'],'. ', blockchain['body'], ' ...', blockchain['url']))"
   ]
  },
  {
   "cell_type": "code",
   "execution_count": 4,
   "id": "aging-caution",
   "metadata": {
    "execution": {
     "iopub.execute_input": "2021-07-02T02:02:10.599531Z",
     "iopub.status.busy": "2021-07-02T02:02:10.598957Z",
     "iopub.status.idle": "2021-07-02T02:02:10.602869Z",
     "shell.execute_reply": "2021-07-02T02:02:10.602381Z"
    },
    "papermill": {
     "duration": 0.01991,
     "end_time": "2021-07-02T02:02:10.602993",
     "exception": false,
     "start_time": "2021-07-02T02:02:10.583083",
     "status": "completed"
    },
    "tags": []
   },
   "outputs": [
    {
     "data": {
      "text/markdown": [
       "- Analyst on Bitcoin: Lots of bets being placed here.  Bitcoin&#8217;s price has been in a vulnerable zone for more than a month now. Notably, in the aforementioned time frame, the king coin&#8217;s price has hardly deviated from its cozy mid-$30k price band. To make things worse, Bitcoin&#8217;s returns have massively dropped over the past three months, thus making the April-June quarter a nightmare. After [&#8230;] ... [| Skaityti daugiau](https://ambcrypto.com/analyst-on-bitcoin-lots-of-bets-being-placed-here/) "
      ],
      "text/plain": [
       "<IPython.core.display.Markdown object>"
      ]
     },
     "execution_count": 4,
     "metadata": {},
     "output_type": "execute_result"
    }
   ],
   "source": [
    "#hide_input\n",
    "#md('##### {}'.format(titleBTC)) \n",
    "md(\"- {}{} {}{} [| Skaityti daugiau]({}) \".format(btc['title'],'. ', btc['body'], ' ...', btc['url']))"
   ]
  },
  {
   "cell_type": "code",
   "execution_count": 5,
   "id": "organic-actress",
   "metadata": {
    "execution": {
     "iopub.execute_input": "2021-07-02T02:02:10.630693Z",
     "iopub.status.busy": "2021-07-02T02:02:10.629118Z",
     "iopub.status.idle": "2021-07-02T02:02:10.634107Z",
     "shell.execute_reply": "2021-07-02T02:02:10.633655Z"
    },
    "papermill": {
     "duration": 0.020367,
     "end_time": "2021-07-02T02:02:10.634216",
     "exception": false,
     "start_time": "2021-07-02T02:02:10.613849",
     "status": "completed"
    },
    "tags": []
   },
   "outputs": [
    {
     "data": {
      "text/markdown": [
       "- XRP could surge to this price. Here’s why.  The altcoin market was seeing a period of recovery, although it had been briefly halted by small sell-offs. The XRP market was also witnessing the price rising with minor selling pressure and this recovery effort could lead the asset to a surge. At the time of press, XRP was trading at $0.6638 with a market [&#8230;] ... [| Skaityti daugiau](https://ambcrypto.com/xrp-could-surge-to-this-price-heres-why/) "
      ],
      "text/plain": [
       "<IPython.core.display.Markdown object>"
      ]
     },
     "execution_count": 5,
     "metadata": {},
     "output_type": "execute_result"
    }
   ],
   "source": [
    "#hide_input\n",
    "#md('##### {}'.format(titleBTC)) \n",
    "md(\"- {}{} {}{} [| Skaityti daugiau]({}) \".format(xrp['title'],'. ', xrp['body'], ' ...', xrp['url']))"
   ]
  },
  {
   "cell_type": "code",
   "execution_count": 6,
   "id": "prompt-farmer",
   "metadata": {
    "execution": {
     "iopub.execute_input": "2021-07-02T02:02:10.661095Z",
     "iopub.status.busy": "2021-07-02T02:02:10.659497Z",
     "iopub.status.idle": "2021-07-02T02:02:10.664010Z",
     "shell.execute_reply": "2021-07-02T02:02:10.663555Z"
    },
    "papermill": {
     "duration": 0.018891,
     "end_time": "2021-07-02T02:02:10.664114",
     "exception": false,
     "start_time": "2021-07-02T02:02:10.645223",
     "status": "completed"
    },
    "tags": []
   },
   "outputs": [
    {
     "data": {
      "text/markdown": [
       "- USD Coin (USDC) Issued on Tron (TRX) Exceeds $100 Million.  Over $100 million in USD Coin (USDC) has been issued on the Tron network According to Tronscan, USDC token supply on Tron currently stands at 108,308,353.05 USDC on Tron is now live across all Circle products including all accounts and APIs The amount of USD Coin (USDC) issued on the Tron (TRX) network has now exceeded $100 million. This milestone was identified and shared by Tron&#8217;s founder and CEO, Justin Sun, who expressed his optimism that USDC will become a [&#8230;] ... [| Skaityti daugiau](https://en.ethereumworldnews.com/usd-coin-usdc-issued-on-tron-trx-exceeds-100-million/) "
      ],
      "text/plain": [
       "<IPython.core.display.Markdown object>"
      ]
     },
     "execution_count": 6,
     "metadata": {},
     "output_type": "execute_result"
    }
   ],
   "source": [
    "#hide_input\n",
    "#md('##### {}'.format(titleBTC)) \n",
    "md(\"- {}{} {}{} [| Skaityti daugiau]({}) \".format(trx['title'],'. ', trx['body'], ' ...', trx['url']))"
   ]
  },
  {
   "cell_type": "code",
   "execution_count": 7,
   "id": "illegal-greece",
   "metadata": {
    "execution": {
     "iopub.execute_input": "2021-07-02T02:02:10.692391Z",
     "iopub.status.busy": "2021-07-02T02:02:10.691805Z",
     "iopub.status.idle": "2021-07-02T02:02:10.694128Z",
     "shell.execute_reply": "2021-07-02T02:02:10.694622Z"
    },
    "papermill": {
     "duration": 0.019128,
     "end_time": "2021-07-02T02:02:10.694757",
     "exception": false,
     "start_time": "2021-07-02T02:02:10.675629",
     "status": "completed"
    },
    "tags": []
   },
   "outputs": [
    {
     "data": {
      "text/markdown": [
       "- Ethereum bulls chase $2,200 ahead of Friday’s $230M ETH options expiry.  A $2,200 Ethereum price would give bulls a $28 million advantage in this week’s ETH options expiry, but traders are more focused on the impact of the London hard fork in mid-July.  ... [| Skaityti daugiau](https://cointelegraph.com/news/ethereum-bulls-chase-2-200-ahead-of-friday-s-230m-eth-options-expiry) "
      ],
      "text/plain": [
       "<IPython.core.display.Markdown object>"
      ]
     },
     "execution_count": 7,
     "metadata": {},
     "output_type": "execute_result"
    }
   ],
   "source": [
    "#hide_input\n",
    "#md('##### {}'.format(titleBTC)) \n",
    "md(\"- {}{} {}{} [| Skaityti daugiau]({}) \".format(eth['title'],'. ', eth['body'], ' ...', eth['url']))"
   ]
  },
  {
   "cell_type": "code",
   "execution_count": 8,
   "id": "sublime-lounge",
   "metadata": {
    "execution": {
     "iopub.execute_input": "2021-07-02T02:02:10.724583Z",
     "iopub.status.busy": "2021-07-02T02:02:10.724005Z",
     "iopub.status.idle": "2021-07-02T02:02:10.727141Z",
     "shell.execute_reply": "2021-07-02T02:02:10.726685Z"
    },
    "papermill": {
     "duration": 0.020096,
     "end_time": "2021-07-02T02:02:10.727270",
     "exception": false,
     "start_time": "2021-07-02T02:02:10.707174",
     "status": "completed"
    },
    "tags": []
   },
   "outputs": [
    {
     "data": {
      "text/markdown": [
       "- Ethereum, Solana, Cardano: Which of these alts would this analyst look at ‘purchasing’?.  The first rule of what traders can expect from the cryptocurrency market is volatility and the second? Well, that’s more volatility. In the last month, Bitcoin’s many dips were followed by altcoin price drops, and a larger drop in the total crypto market cap of 43% was observed at press time. While most of the [&#8230;] ... [| Skaityti daugiau](https://ambcrypto.com/ethereum-solana-cardano-which-of-these-alts-would-this-analyst-look-at-purchasing/) "
      ],
      "text/plain": [
       "<IPython.core.display.Markdown object>"
      ]
     },
     "execution_count": 8,
     "metadata": {},
     "output_type": "execute_result"
    }
   ],
   "source": [
    "#hide_input\n",
    "#md('##### {}'.format(titleBTC)) \n",
    "md(\"- {}{} {}{} [| Skaityti daugiau]({}) \".format(ada['title'],'. ', ada['body'], ' ...', ada['url']))"
   ]
  },
  {
   "cell_type": "code",
   "execution_count": 9,
   "id": "specified-ordering",
   "metadata": {
    "execution": {
     "iopub.execute_input": "2021-07-02T02:02:10.758445Z",
     "iopub.status.busy": "2021-07-02T02:02:10.757864Z",
     "iopub.status.idle": "2021-07-02T02:02:10.761515Z",
     "shell.execute_reply": "2021-07-02T02:02:10.762016Z"
    },
    "papermill": {
     "duration": 0.022469,
     "end_time": "2021-07-02T02:02:10.762152",
     "exception": false,
     "start_time": "2021-07-02T02:02:10.739683",
     "status": "completed"
    },
    "tags": []
   },
   "outputs": [
    {
     "data": {
      "text/markdown": [
       "- Amidst $70m fine debacle, Robinhood files for IPO.  TL;DR Breakdown Robinhood to debut in stock market Robinhood slammed $70M fine Popular crypto and stock trading platform Robinhood has applied with the US security and Exchange Commission to go public and raise funds through an initial public offering (IPO). This is according to a Form S-1 registration the firm filed before the SEC on [&#8230;] ... [| Skaityti daugiau](https://www.cryptopolitan.com/amidst-fine-debacle-robinhood-files-for-ipo/) "
      ],
      "text/plain": [
       "<IPython.core.display.Markdown object>"
      ]
     },
     "execution_count": 9,
     "metadata": {},
     "output_type": "execute_result"
    }
   ],
   "source": [
    "#hide_input\n",
    "#md('##### {}'.format(titleBTC)) \n",
    "md(\"- {}{} {}{} [| Skaityti daugiau]({}) \".format(exchange['title'],'. ', exchange['body'], ' ...', exchange['url']))"
   ]
  },
  {
   "cell_type": "code",
   "execution_count": null,
   "id": "tender-livestock",
   "metadata": {
    "papermill": {
     "duration": 0.011424,
     "end_time": "2021-07-02T02:02:10.785054",
     "exception": false,
     "start_time": "2021-07-02T02:02:10.773630",
     "status": "completed"
    },
    "tags": []
   },
   "outputs": [],
   "source": []
  },
  {
   "cell_type": "code",
   "execution_count": null,
   "id": "appreciated-diamond",
   "metadata": {
    "papermill": {
     "duration": 0.014093,
     "end_time": "2021-07-02T02:02:10.811204",
     "exception": false,
     "start_time": "2021-07-02T02:02:10.797111",
     "status": "completed"
    },
    "tags": []
   },
   "outputs": [],
   "source": []
  },
  {
   "cell_type": "code",
   "execution_count": null,
   "id": "romance-sweden",
   "metadata": {
    "papermill": {
     "duration": 0.012488,
     "end_time": "2021-07-02T02:02:10.837013",
     "exception": false,
     "start_time": "2021-07-02T02:02:10.824525",
     "status": "completed"
    },
    "tags": []
   },
   "outputs": [],
   "source": []
  },
  {
   "cell_type": "code",
   "execution_count": null,
   "id": "dietary-statistics",
   "metadata": {
    "papermill": {
     "duration": 0.012416,
     "end_time": "2021-07-02T02:02:10.862335",
     "exception": false,
     "start_time": "2021-07-02T02:02:10.849919",
     "status": "completed"
    },
    "tags": []
   },
   "outputs": [],
   "source": []
  }
 ],
 "metadata": {
  "kernelspec": {
   "display_name": "Python 3",
   "language": "python",
   "name": "python3"
  },
  "language_info": {
   "codemirror_mode": {
    "name": "ipython",
    "version": 3
   },
   "file_extension": ".py",
   "mimetype": "text/x-python",
   "name": "python",
   "nbconvert_exporter": "python",
   "pygments_lexer": "ipython3",
   "version": "3.6.13"
  },
  "papermill": {
   "default_parameters": {},
   "duration": 13.965461,
   "end_time": "2021-07-02T02:02:11.283965",
   "environment_variables": {},
   "exception": null,
   "input_path": "Market-News.ipynb",
   "output_path": "Market-News.ipynb",
   "parameters": {},
   "start_time": "2021-07-02T02:01:57.318504",
   "version": "2.2.2"
  }
 },
 "nbformat": 4,
 "nbformat_minor": 5
}