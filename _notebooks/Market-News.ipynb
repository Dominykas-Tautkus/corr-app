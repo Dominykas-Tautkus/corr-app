{
 "cells": [
  {
   "cell_type": "markdown",
   "id": "short-greensboro",
   "metadata": {
    "papermill": {
     "duration": 0.015598,
     "end_time": "2021-03-08T01:47:07.253809",
     "exception": false,
     "start_time": "2021-03-08T01:47:07.238211",
     "status": "completed"
    },
    "tags": []
   },
   "source": [
    "# Kriptovaliutų naujienos"
   ]
  },
  {
   "cell_type": "code",
   "execution_count": 1,
   "id": "functioning-knowing",
   "metadata": {
    "execution": {
     "iopub.execute_input": "2021-03-08T01:47:07.289528Z",
     "iopub.status.busy": "2021-03-08T01:47:07.288929Z",
     "iopub.status.idle": "2021-03-08T01:47:08.649398Z",
     "shell.execute_reply": "2021-03-08T01:47:08.648386Z"
    },
    "papermill": {
     "duration": 1.383525,
     "end_time": "2021-03-08T01:47:08.649546",
     "exception": false,
     "start_time": "2021-03-08T01:47:07.266021",
     "status": "completed"
    },
    "tags": []
   },
   "outputs": [],
   "source": [
    "#hide_input\n",
    "import warnings\n",
    "warnings.filterwarnings('ignore')\n",
    "from scripts.read_data import read_api\n",
    "from scripts.read_data import read_news\n",
    "from scripts.read_data import read_covid\n",
    "import matplotlib.pyplot as plt \n",
    "from IPython.display import Markdown as md"
   ]
  },
  {
   "cell_type": "code",
   "execution_count": 2,
   "id": "shared-acceptance",
   "metadata": {
    "execution": {
     "iopub.execute_input": "2021-03-08T01:47:08.677499Z",
     "iopub.status.busy": "2021-03-08T01:47:08.676390Z",
     "iopub.status.idle": "2021-03-08T01:47:16.264730Z",
     "shell.execute_reply": "2021-03-08T01:47:16.263661Z"
    },
    "papermill": {
     "duration": 7.604318,
     "end_time": "2021-03-08T01:47:16.264863",
     "exception": false,
     "start_time": "2021-03-08T01:47:08.660545",
     "status": "completed"
    },
    "tags": []
   },
   "outputs": [],
   "source": [
    "#hide_input\n",
    "blockchain = read_news('blockchain') \n",
    "btc = read_news('btc') \n",
    "xrp = read_news('xrp') \n",
    "trx = read_news('trx') \n",
    "eth = read_news('eth')  \n",
    "ada = read_news('ada')\n",
    "exchange = read_news('exchange') "
   ]
  },
  {
   "cell_type": "code",
   "execution_count": 3,
   "id": "synthetic-notion",
   "metadata": {
    "execution": {
     "iopub.execute_input": "2021-03-08T01:47:16.294924Z",
     "iopub.status.busy": "2021-03-08T01:47:16.294130Z",
     "iopub.status.idle": "2021-03-08T01:47:16.298277Z",
     "shell.execute_reply": "2021-03-08T01:47:16.297716Z"
    },
    "papermill": {
     "duration": 0.02312,
     "end_time": "2021-03-08T01:47:16.298406",
     "exception": false,
     "start_time": "2021-03-08T01:47:16.275286",
     "status": "completed"
    },
    "tags": []
   },
   "outputs": [
    {
     "data": {
      "text/markdown": [
       "- Leading DeFi Protocol EasyFi Expands to Binance Smart Chain.  The runaway success of Binance Smart Chain has helped propel the exchange&#8217;s utility token to the top of the crypto market top ten, and has attracted some of the industry&#8217;s top projects to the chain already. The latest project to expand to Binance Smart Chain is leading DeFi protocol EasyFi. Here&#8217;s how this latest move [&#8230;] ... [| Skaityti daugiau](https://www.newsbtc.com/news/company/leading-defi-protocol-easyfi-expands-to-binance-smart-chain/) "
      ],
      "text/plain": [
       "<IPython.core.display.Markdown object>"
      ]
     },
     "execution_count": 3,
     "metadata": {},
     "output_type": "execute_result"
    }
   ],
   "source": [
    "#hide_input\n",
    "#md('##### {}'.format(titleBTC)) \n",
    "md(\"- {}{} {}{} [| Skaityti daugiau]({}) \".format(blockchain['title'],'. ', blockchain['body'], ' ...', blockchain['url']))"
   ]
  },
  {
   "cell_type": "code",
   "execution_count": 4,
   "id": "aging-caution",
   "metadata": {
    "execution": {
     "iopub.execute_input": "2021-03-08T01:47:16.328164Z",
     "iopub.status.busy": "2021-03-08T01:47:16.327473Z",
     "iopub.status.idle": "2021-03-08T01:47:16.329615Z",
     "shell.execute_reply": "2021-03-08T01:47:16.330090Z"
    },
    "papermill": {
     "duration": 0.020392,
     "end_time": "2021-03-08T01:47:16.330290",
     "exception": false,
     "start_time": "2021-03-08T01:47:16.309898",
     "status": "completed"
    },
    "tags": []
   },
   "outputs": [
    {
     "data": {
      "text/markdown": [
       "- George Ball Says Crypto Is Effective Hedge Against Currency Debasement as US Passes $1.9 Trillion Stimulus Bill.  The chairman of investment firm Sanders Morris Harris, George Ball, says cryptocurrencies are an effective hedge against currency debasement. In addition, he says that cryptocurrencies are attractive as a small part of portfolios. George Ball Advocates for Crypto as Hedge Against Currency Debasement George Ball talked about bitcoin and other cryptocurrencies in an interview with [&#8230;] ... [| Skaityti daugiau](https://news.bitcoin.com/george-ball-crypto-hedge-against-currency-debasement-1-9-trillion-stimulus-bill/) "
      ],
      "text/plain": [
       "<IPython.core.display.Markdown object>"
      ]
     },
     "execution_count": 4,
     "metadata": {},
     "output_type": "execute_result"
    }
   ],
   "source": [
    "#hide_input\n",
    "#md('##### {}'.format(titleBTC)) \n",
    "md(\"- {}{} {}{} [| Skaityti daugiau]({}) \".format(btc['title'],'. ', btc['body'], ' ...', btc['url']))"
   ]
  },
  {
   "cell_type": "code",
   "execution_count": 5,
   "id": "organic-actress",
   "metadata": {
    "execution": {
     "iopub.execute_input": "2021-03-08T01:47:16.356905Z",
     "iopub.status.busy": "2021-03-08T01:47:16.356144Z",
     "iopub.status.idle": "2021-03-08T01:47:16.359682Z",
     "shell.execute_reply": "2021-03-08T01:47:16.360293Z"
    },
    "papermill": {
     "duration": 0.018433,
     "end_time": "2021-03-08T01:47:16.360420",
     "exception": false,
     "start_time": "2021-03-08T01:47:16.341987",
     "status": "completed"
    },
    "tags": []
   },
   "outputs": [
    {
     "data": {
      "text/markdown": [
       "- XRP, Cosmos, Elrond Price Analysis: 07 March.  XRP floated above its press time support but needed to retake additional resistance levels to overturn its bearish market. ATOM reflected a consolidated market as the price moved within a fixed channel while Elrond traded within an ascending channel after a bounce back from the $100-mark. Meanwhile, the world&#8217;s largest cryptocurrency Bitcoin was trading at [&#8230;] ... [| Skaityti daugiau](https://ambcrypto.com/xrp-cosmos-elrond-price-analysis-07-march/) "
      ],
      "text/plain": [
       "<IPython.core.display.Markdown object>"
      ]
     },
     "execution_count": 5,
     "metadata": {},
     "output_type": "execute_result"
    }
   ],
   "source": [
    "#hide_input\n",
    "#md('##### {}'.format(titleBTC)) \n",
    "md(\"- {}{} {}{} [| Skaityti daugiau]({}) \".format(xrp['title'],'. ', xrp['body'], ' ...', xrp['url']))"
   ]
  },
  {
   "cell_type": "code",
   "execution_count": 6,
   "id": "prompt-farmer",
   "metadata": {
    "execution": {
     "iopub.execute_input": "2021-03-08T01:47:16.387330Z",
     "iopub.status.busy": "2021-03-08T01:47:16.386770Z",
     "iopub.status.idle": "2021-03-08T01:47:16.390076Z",
     "shell.execute_reply": "2021-03-08T01:47:16.390526Z"
    },
    "papermill": {
     "duration": 0.0183,
     "end_time": "2021-03-08T01:47:16.390641",
     "exception": false,
     "start_time": "2021-03-08T01:47:16.372341",
     "status": "completed"
    },
    "tags": []
   },
   "outputs": [
    {
     "data": {
      "text/markdown": [
       "- TRON CEO Justin Sun bids $1,000,000 for the First Ever Tweet.  The TRON CEO is one of crypto’s flashiest spenders. ... [| Skaityti daugiau](https://decrypt.co/60437/tron-ceo-justin-sun-bids-1000000-for-the-first-ever-tweet) "
      ],
      "text/plain": [
       "<IPython.core.display.Markdown object>"
      ]
     },
     "execution_count": 6,
     "metadata": {},
     "output_type": "execute_result"
    }
   ],
   "source": [
    "#hide_input\n",
    "#md('##### {}'.format(titleBTC)) \n",
    "md(\"- {}{} {}{} [| Skaityti daugiau]({}) \".format(trx['title'],'. ', trx['body'], ' ...', trx['url']))"
   ]
  },
  {
   "cell_type": "code",
   "execution_count": 7,
   "id": "illegal-greece",
   "metadata": {
    "execution": {
     "iopub.execute_input": "2021-03-08T01:47:16.417253Z",
     "iopub.status.busy": "2021-03-08T01:47:16.416591Z",
     "iopub.status.idle": "2021-03-08T01:47:16.420036Z",
     "shell.execute_reply": "2021-03-08T01:47:16.420605Z"
    },
    "papermill": {
     "duration": 0.01857,
     "end_time": "2021-03-08T01:47:16.420723",
     "exception": false,
     "start_time": "2021-03-08T01:47:16.402153",
     "status": "completed"
    },
    "tags": []
   },
   "outputs": [
    {
     "data": {
      "text/markdown": [
       "- This Chinese public company just bought $22 million in Ethereum (ETH).  It purchased another $17 million in Bitcoin and became the first public company to put Ethereum on its treasury books. The post This Chinese public company just bought $22 million in Ethereum (ETH) appeared first on CryptoSlate. ... [| Skaityti daugiau](https://cryptoslate.com/this-chinese-public-company-just-bought-22-million-in-ethereum-eth/) "
      ],
      "text/plain": [
       "<IPython.core.display.Markdown object>"
      ]
     },
     "execution_count": 7,
     "metadata": {},
     "output_type": "execute_result"
    }
   ],
   "source": [
    "#hide_input\n",
    "#md('##### {}'.format(titleBTC)) \n",
    "md(\"- {}{} {}{} [| Skaityti daugiau]({}) \".format(eth['title'],'. ', eth['body'], ' ...', eth['url']))"
   ]
  },
  {
   "cell_type": "code",
   "execution_count": 8,
   "id": "sublime-lounge",
   "metadata": {
    "execution": {
     "iopub.execute_input": "2021-03-08T01:47:16.448959Z",
     "iopub.status.busy": "2021-03-08T01:47:16.448182Z",
     "iopub.status.idle": "2021-03-08T01:47:16.452055Z",
     "shell.execute_reply": "2021-03-08T01:47:16.452700Z"
    },
    "papermill": {
     "duration": 0.020192,
     "end_time": "2021-03-08T01:47:16.452830",
     "exception": false,
     "start_time": "2021-03-08T01:47:16.432638",
     "status": "completed"
    },
    "tags": []
   },
   "outputs": [
    {
     "data": {
      "text/markdown": [
       "- Cardano Price Analysis: 07 March.  The cryptocurrency market has been constantly forming crusts and troughs as it strives towards stability. Cardano&#8217;s market witnessed a similar trend wherein the price surged towards the end of February but has been correcting since. At the time of writing, Cardano was trading at $1.13 with a market capitalization of $35.68 billion. Cardano six-hour chart [&#8230;] ... [| Skaityti daugiau](https://ambcrypto.com/cardano-price-analysis-07-march/) "
      ],
      "text/plain": [
       "<IPython.core.display.Markdown object>"
      ]
     },
     "execution_count": 8,
     "metadata": {},
     "output_type": "execute_result"
    }
   ],
   "source": [
    "#hide_input\n",
    "#md('##### {}'.format(titleBTC)) \n",
    "md(\"- {}{} {}{} [| Skaityti daugiau]({}) \".format(ada['title'],'. ', ada['body'], ' ...', ada['url']))"
   ]
  },
  {
   "cell_type": "code",
   "execution_count": 9,
   "id": "specified-ordering",
   "metadata": {
    "execution": {
     "iopub.execute_input": "2021-03-08T01:47:16.485283Z",
     "iopub.status.busy": "2021-03-08T01:47:16.484562Z",
     "iopub.status.idle": "2021-03-08T01:47:16.488316Z",
     "shell.execute_reply": "2021-03-08T01:47:16.488916Z"
    },
    "papermill": {
     "duration": 0.022284,
     "end_time": "2021-03-08T01:47:16.489065",
     "exception": false,
     "start_time": "2021-03-08T01:47:16.466781",
     "status": "completed"
    },
    "tags": []
   },
   "outputs": [
    {
     "data": {
      "text/markdown": [
       "- Binance Coin, Monero, Algorand Price Analysis: 07 March.  Binance Coin targeted a rise above the $240 resistance on the back of bullish indicators. Monero battled to retake the 38.2% Fibonacci level from the bears. Finally, ALGO&#8217;s latest attempt to break above $1.19 resistance was boosted by healthy capital inflows. Binance Coin [BNB] The last 24 hours saw Binance Coin rise by 4% as [&#8230;] ... [| Skaityti daugiau](https://ambcrypto.com/binance-coin-monero-algorand-price-analysis-07-march/) "
      ],
      "text/plain": [
       "<IPython.core.display.Markdown object>"
      ]
     },
     "execution_count": 9,
     "metadata": {},
     "output_type": "execute_result"
    }
   ],
   "source": [
    "#hide_input\n",
    "#md('##### {}'.format(titleBTC)) \n",
    "md(\"- {}{} {}{} [| Skaityti daugiau]({}) \".format(exchange['title'],'. ', exchange['body'], ' ...', exchange['url']))"
   ]
  },
  {
   "cell_type": "code",
   "execution_count": null,
   "id": "tender-livestock",
   "metadata": {
    "papermill": {
     "duration": 0.014411,
     "end_time": "2021-03-08T01:47:16.519671",
     "exception": false,
     "start_time": "2021-03-08T01:47:16.505260",
     "status": "completed"
    },
    "tags": []
   },
   "outputs": [],
   "source": []
  },
  {
   "cell_type": "code",
   "execution_count": null,
   "id": "appreciated-diamond",
   "metadata": {
    "papermill": {
     "duration": 0.01571,
     "end_time": "2021-03-08T01:47:16.548582",
     "exception": false,
     "start_time": "2021-03-08T01:47:16.532872",
     "status": "completed"
    },
    "tags": []
   },
   "outputs": [],
   "source": []
  },
  {
   "cell_type": "code",
   "execution_count": null,
   "id": "romance-sweden",
   "metadata": {
    "papermill": {
     "duration": 0.01336,
     "end_time": "2021-03-08T01:47:16.579928",
     "exception": false,
     "start_time": "2021-03-08T01:47:16.566568",
     "status": "completed"
    },
    "tags": []
   },
   "outputs": [],
   "source": []
  },
  {
   "cell_type": "code",
   "execution_count": null,
   "id": "dietary-statistics",
   "metadata": {
    "papermill": {
     "duration": 0.013556,
     "end_time": "2021-03-08T01:47:16.608708",
     "exception": false,
     "start_time": "2021-03-08T01:47:16.595152",
     "status": "completed"
    },
    "tags": []
   },
   "outputs": [],
   "source": []
  }
 ],
 "metadata": {
  "kernelspec": {
   "display_name": "Python 3",
   "language": "python",
   "name": "python3"
  },
  "language_info": {
   "codemirror_mode": {
    "name": "ipython",
    "version": 3
   },
   "file_extension": ".py",
   "mimetype": "text/x-python",
   "name": "python",
   "nbconvert_exporter": "python",
   "pygments_lexer": "ipython3",
   "version": "3.6.13"
  },
  "papermill": {
   "default_parameters": {},
   "duration": 10.887938,
   "end_time": "2021-03-08T01:47:17.029962",
   "environment_variables": {},
   "exception": null,
   "input_path": "Market-News.ipynb",
   "output_path": "Market-News.ipynb",
   "parameters": {},
   "start_time": "2021-03-08T01:47:06.142024",
   "version": "2.2.2"
  }
 },
 "nbformat": 4,
 "nbformat_minor": 5
}