{
 "cells": [
  {
   "cell_type": "markdown",
   "id": "short-greensboro",
   "metadata": {
    "papermill": {
     "duration": 0.015988,
     "end_time": "2021-01-25T02:50:29.235674",
     "exception": false,
     "start_time": "2021-01-25T02:50:29.219686",
     "status": "completed"
    },
    "tags": []
   },
   "source": [
    "# Kriptovaliutų naujienos"
   ]
  },
  {
   "cell_type": "code",
   "execution_count": 1,
   "id": "functioning-knowing",
   "metadata": {
    "execution": {
     "iopub.execute_input": "2021-01-25T02:50:29.264863Z",
     "iopub.status.busy": "2021-01-25T02:50:29.264351Z",
     "iopub.status.idle": "2021-01-25T02:50:30.337619Z",
     "shell.execute_reply": "2021-01-25T02:50:30.336726Z"
    },
    "papermill": {
     "duration": 1.093326,
     "end_time": "2021-01-25T02:50:30.337869",
     "exception": false,
     "start_time": "2021-01-25T02:50:29.244543",
     "status": "completed"
    },
    "tags": []
   },
   "outputs": [],
   "source": [
    "#hide_input\n",
    "import warnings\n",
    "warnings.filterwarnings('ignore')\n",
    "from scripts.read_data import read_api\n",
    "from scripts.read_data import read_news\n",
    "from scripts.read_data import read_covid\n",
    "import matplotlib.pyplot as plt \n",
    "from IPython.display import Markdown as md"
   ]
  },
  {
   "cell_type": "code",
   "execution_count": 2,
   "id": "shared-acceptance",
   "metadata": {
    "execution": {
     "iopub.execute_input": "2021-01-25T02:50:30.365285Z",
     "iopub.status.busy": "2021-01-25T02:50:30.364702Z",
     "iopub.status.idle": "2021-01-25T02:50:37.550871Z",
     "shell.execute_reply": "2021-01-25T02:50:37.550097Z"
    },
    "papermill": {
     "duration": 7.201606,
     "end_time": "2021-01-25T02:50:37.550989",
     "exception": false,
     "start_time": "2021-01-25T02:50:30.349383",
     "status": "completed"
    },
    "tags": []
   },
   "outputs": [],
   "source": [
    "#hide_input\n",
    "blockchain = read_news('blockchain') \n",
    "btc = read_news('btc') \n",
    "xrp = read_news('xrp') \n",
    "trx = read_news('trx') \n",
    "eth = read_news('eth')  \n",
    "ada = read_news('ada')\n",
    "exchange = read_news('exchange') "
   ]
  },
  {
   "cell_type": "code",
   "execution_count": 3,
   "id": "synthetic-notion",
   "metadata": {
    "execution": {
     "iopub.execute_input": "2021-01-25T02:50:37.572502Z",
     "iopub.status.busy": "2021-01-25T02:50:37.570925Z",
     "iopub.status.idle": "2021-01-25T02:50:37.574876Z",
     "shell.execute_reply": "2021-01-25T02:50:37.575326Z"
    },
    "papermill": {
     "duration": 0.015679,
     "end_time": "2021-01-25T02:50:37.575425",
     "exception": false,
     "start_time": "2021-01-25T02:50:37.559746",
     "status": "completed"
    },
    "tags": []
   },
   "outputs": [
    {
     "data": {
      "text/markdown": [
       "- Ethereum’s Ether Cryptocurrency Sets New All-Time Price High Above $1,450.  The price of ether (ETH), the native cryptocurrency of the Ethereum blockchain network, soared to record levels on Sunday. ... [| Skaityti daugiau](https://www.coindesk.com/ethereums-ether-cryptocurrency-sets-new-all-time-price-high-above-1450) "
      ],
      "text/plain": [
       "<IPython.core.display.Markdown object>"
      ]
     },
     "execution_count": 3,
     "metadata": {},
     "output_type": "execute_result"
    }
   ],
   "source": [
    "#hide_input\n",
    "#md('##### {}'.format(titleBTC)) \n",
    "md(\"- {}{} {}{} [| Skaityti daugiau]({}) \".format(blockchain['title'],'. ', blockchain['body'], ' ...', blockchain['url']))"
   ]
  },
  {
   "cell_type": "code",
   "execution_count": 4,
   "id": "aging-caution",
   "metadata": {
    "execution": {
     "iopub.execute_input": "2021-01-25T02:50:37.596146Z",
     "iopub.status.busy": "2021-01-25T02:50:37.595739Z",
     "iopub.status.idle": "2021-01-25T02:50:37.598361Z",
     "shell.execute_reply": "2021-01-25T02:50:37.597932Z"
    },
    "papermill": {
     "duration": 0.014478,
     "end_time": "2021-01-25T02:50:37.598458",
     "exception": false,
     "start_time": "2021-01-25T02:50:37.583980",
     "status": "completed"
    },
    "tags": []
   },
   "outputs": [
    {
     "data": {
      "text/markdown": [
       "- Bitcoin This Week: Bitcoin Plummets Below USD 30000 Mid-Week But Medium And Long Term Targets Seem Intact.  Bitcoin (BTC), which was pretty much range-bound last week, saw a sudden bear attack as we moved towards the weekend. This sudden dip took bitcoin plummeting to USD 28,850 from a steady USD 35,600 in less than two days. While the bulls bought the near USD 29000 drop and the Bitcoin is back above USD The post Bitcoin This Week: Bitcoin Plummets Below USD 30000 Mid-Week But Medium And Long Term Targets Seem Intact appeared first on Coingape. ... [| Skaityti daugiau](https://coingape.com/bitcoin-this-week-bitcoin-plummets-below-usd-30000-mid-week-but-medium-and-long-term-targets-seem-intact/) "
      ],
      "text/plain": [
       "<IPython.core.display.Markdown object>"
      ]
     },
     "execution_count": 4,
     "metadata": {},
     "output_type": "execute_result"
    }
   ],
   "source": [
    "#hide_input\n",
    "#md('##### {}'.format(titleBTC)) \n",
    "md(\"- {}{} {}{} [| Skaityti daugiau]({}) \".format(btc['title'],'. ', btc['body'], ' ...', btc['url']))"
   ]
  },
  {
   "cell_type": "code",
   "execution_count": 5,
   "id": "organic-actress",
   "metadata": {
    "execution": {
     "iopub.execute_input": "2021-01-25T02:50:37.621035Z",
     "iopub.status.busy": "2021-01-25T02:50:37.620380Z",
     "iopub.status.idle": "2021-01-25T02:50:37.624571Z",
     "shell.execute_reply": "2021-01-25T02:50:37.624225Z"
    },
    "papermill": {
     "duration": 0.017761,
     "end_time": "2021-01-25T02:50:37.624654",
     "exception": false,
     "start_time": "2021-01-25T02:50:37.606893",
     "status": "completed"
    },
    "tags": []
   },
   "outputs": [
    {
     "data": {
      "text/markdown": [
       "- XRP, VeChain, Ethereum Classic Price Analysis: 24 January.  XRP formed a bullish reversal pattern in the short-term but did not confirm a move to the upside yet. VeChain failed to reclaim the channel it was trading in and a rejection at the upper level opened the door for a possible drop. Ethereum Classic showed short-term strength from sellers but defended a level of [&#8230;] ... [| Skaityti daugiau](https://ambcrypto.com/xrp-vechain-ethereum-classic-price-analysis-24-january/) "
      ],
      "text/plain": [
       "<IPython.core.display.Markdown object>"
      ]
     },
     "execution_count": 5,
     "metadata": {},
     "output_type": "execute_result"
    }
   ],
   "source": [
    "#hide_input\n",
    "#md('##### {}'.format(titleBTC)) \n",
    "md(\"- {}{} {}{} [| Skaityti daugiau]({}) \".format(xrp['title'],'. ', xrp['body'], ' ...', xrp['url']))"
   ]
  },
  {
   "cell_type": "code",
   "execution_count": 6,
   "id": "prompt-farmer",
   "metadata": {
    "execution": {
     "iopub.execute_input": "2021-01-25T02:50:37.646585Z",
     "iopub.status.busy": "2021-01-25T02:50:37.645529Z",
     "iopub.status.idle": "2021-01-25T02:50:37.649529Z",
     "shell.execute_reply": "2021-01-25T02:50:37.649070Z"
    },
    "papermill": {
     "duration": 0.0162,
     "end_time": "2021-01-25T02:50:37.649634",
     "exception": false,
     "start_time": "2021-01-25T02:50:37.633434",
     "status": "completed"
    },
    "tags": []
   },
   "outputs": [
    {
     "data": {
      "text/markdown": [
       "- Tron, Waves, Dogecoin Price Analysis: 23 January.  Tron showed that it was likely to rise to $0.03 within the next 24 hours to test it as resistance and possibly flip it to support. Waves was quite volatile in the market, but it looked keen to head towards the $7-level. Finally, Dogecoin witnessed some slight bearish pressure over the past couple of days. [&#8230;] ... [| Skaityti daugiau](https://ambcrypto.com/tron-waves-dogecoin-price-analysis-23-january/) "
      ],
      "text/plain": [
       "<IPython.core.display.Markdown object>"
      ]
     },
     "execution_count": 6,
     "metadata": {},
     "output_type": "execute_result"
    }
   ],
   "source": [
    "#hide_input\n",
    "#md('##### {}'.format(titleBTC)) \n",
    "md(\"- {}{} {}{} [| Skaityti daugiau]({}) \".format(trx['title'],'. ', trx['body'], ' ...', trx['url']))"
   ]
  },
  {
   "cell_type": "code",
   "execution_count": 7,
   "id": "illegal-greece",
   "metadata": {
    "execution": {
     "iopub.execute_input": "2021-01-25T02:50:37.671568Z",
     "iopub.status.busy": "2021-01-25T02:50:37.671102Z",
     "iopub.status.idle": "2021-01-25T02:50:37.673331Z",
     "shell.execute_reply": "2021-01-25T02:50:37.673680Z"
    },
    "papermill": {
     "duration": 0.015465,
     "end_time": "2021-01-25T02:50:37.673770",
     "exception": false,
     "start_time": "2021-01-25T02:50:37.658305",
     "status": "completed"
    },
    "tags": []
   },
   "outputs": [
    {
     "data": {
      "text/markdown": [
       "- Ethereum Price Uptrend Jumpstarted Swinging Past $1,400 While $2,000 Beckons.  Ethereum swings to new record highs, leading recovery among the top cryptocurrencies. Ether must close the day above $1,500 to validate the uptrend to $2,000 while on the downside support at $1,200 is crucial. Ethereum is among the best-performing cryptocurrencies in the market after a gruesome end of the week. The weekend session was characterized The post Ethereum Price Uptrend Jumpstarted Swinging Past $1,400 While $2,000 Beckons appeared first on Coingape. ... [| Skaityti daugiau](https://coingape.com/ethereum-price-uptrend-jumpstarted-swinging-past-1400-while-2000-beckons/) "
      ],
      "text/plain": [
       "<IPython.core.display.Markdown object>"
      ]
     },
     "execution_count": 7,
     "metadata": {},
     "output_type": "execute_result"
    }
   ],
   "source": [
    "#hide_input\n",
    "#md('##### {}'.format(titleBTC)) \n",
    "md(\"- {}{} {}{} [| Skaityti daugiau]({}) \".format(eth['title'],'. ', eth['body'], ' ...', eth['url']))"
   ]
  },
  {
   "cell_type": "code",
   "execution_count": 8,
   "id": "sublime-lounge",
   "metadata": {
    "execution": {
     "iopub.execute_input": "2021-01-25T02:50:37.696698Z",
     "iopub.status.busy": "2021-01-25T02:50:37.696236Z",
     "iopub.status.idle": "2021-01-25T02:50:37.698398Z",
     "shell.execute_reply": "2021-01-25T02:50:37.698800Z"
    },
    "papermill": {
     "duration": 0.015348,
     "end_time": "2021-01-25T02:50:37.698891",
     "exception": false,
     "start_time": "2021-01-25T02:50:37.683543",
     "status": "completed"
    },
    "tags": []
   },
   "outputs": [
    {
     "data": {
      "text/markdown": [
       "- Cardano price prediction: ADA to climb to $0.400 resistance.  TL;DR Breakdown Cardano price expected to observe sideways movement before bullish breakout The closest support level lies at $0.3500 ADA faces resistance in crossing above the $0.3750 mark Cardano price has risen to the $0.3500 mark but faces resistance in leaving the mark. As such, ADA has been trading close to the level with sharp […] ... [| Skaityti daugiau](https://www.cryptopolitan.com/cardano-price-expect-ada-to-rise-to-0-400/) "
      ],
      "text/plain": [
       "<IPython.core.display.Markdown object>"
      ]
     },
     "execution_count": 8,
     "metadata": {},
     "output_type": "execute_result"
    }
   ],
   "source": [
    "#hide_input\n",
    "#md('##### {}'.format(titleBTC)) \n",
    "md(\"- {}{} {}{} [| Skaityti daugiau]({}) \".format(ada['title'],'. ', ada['body'], ' ...', ada['url']))"
   ]
  },
  {
   "cell_type": "code",
   "execution_count": 9,
   "id": "specified-ordering",
   "metadata": {
    "execution": {
     "iopub.execute_input": "2021-01-25T02:50:37.721878Z",
     "iopub.status.busy": "2021-01-25T02:50:37.721402Z",
     "iopub.status.idle": "2021-01-25T02:50:37.724060Z",
     "shell.execute_reply": "2021-01-25T02:50:37.724506Z"
    },
    "papermill": {
     "duration": 0.016543,
     "end_time": "2021-01-25T02:50:37.724635",
     "exception": false,
     "start_time": "2021-01-25T02:50:37.708092",
     "status": "completed"
    },
    "tags": []
   },
   "outputs": [
    {
     "data": {
      "text/markdown": [
       "- Breach at Indian exchange BuyUCoin allegedly exposes 325K users’ personal data.  BuyUCoin initially denied the reports of a data breach, but added that all user funds are safe. ... [| Skaityti daugiau](https://cointelegraph.com/news/breach-at-indian-exchange-buyucoin-allegedly-exposes-325k-users-personal-data) "
      ],
      "text/plain": [
       "<IPython.core.display.Markdown object>"
      ]
     },
     "execution_count": 9,
     "metadata": {},
     "output_type": "execute_result"
    }
   ],
   "source": [
    "#hide_input\n",
    "#md('##### {}'.format(titleBTC)) \n",
    "md(\"- {}{} {}{} [| Skaityti daugiau]({}) \".format(exchange['title'],'. ', exchange['body'], ' ...', exchange['url']))"
   ]
  },
  {
   "cell_type": "code",
   "execution_count": null,
   "id": "tender-livestock",
   "metadata": {
    "papermill": {
     "duration": 0.010214,
     "end_time": "2021-01-25T02:50:37.744105",
     "exception": false,
     "start_time": "2021-01-25T02:50:37.733891",
     "status": "completed"
    },
    "tags": []
   },
   "outputs": [],
   "source": []
  },
  {
   "cell_type": "code",
   "execution_count": null,
   "id": "appreciated-diamond",
   "metadata": {
    "papermill": {
     "duration": 0.012046,
     "end_time": "2021-01-25T02:50:37.765752",
     "exception": false,
     "start_time": "2021-01-25T02:50:37.753706",
     "status": "completed"
    },
    "tags": []
   },
   "outputs": [],
   "source": []
  },
  {
   "cell_type": "code",
   "execution_count": null,
   "id": "romance-sweden",
   "metadata": {
    "papermill": {
     "duration": 0.009441,
     "end_time": "2021-01-25T02:50:37.785592",
     "exception": false,
     "start_time": "2021-01-25T02:50:37.776151",
     "status": "completed"
    },
    "tags": []
   },
   "outputs": [],
   "source": []
  },
  {
   "cell_type": "code",
   "execution_count": null,
   "id": "dietary-statistics",
   "metadata": {
    "papermill": {
     "duration": 0.01052,
     "end_time": "2021-01-25T02:50:37.806422",
     "exception": false,
     "start_time": "2021-01-25T02:50:37.795902",
     "status": "completed"
    },
    "tags": []
   },
   "outputs": [],
   "source": []
  }
 ],
 "metadata": {
  "kernelspec": {
   "display_name": "Python 3",
   "language": "python",
   "name": "python3"
  },
  "language_info": {
   "codemirror_mode": {
    "name": "ipython",
    "version": 3
   },
   "file_extension": ".py",
   "mimetype": "text/x-python",
   "name": "python",
   "nbconvert_exporter": "python",
   "pygments_lexer": "ipython3",
   "version": "3.6.12"
  },
  "papermill": {
   "default_parameters": {},
   "duration": 10.264832,
   "end_time": "2021-01-25T02:50:38.226098",
   "environment_variables": {},
   "exception": null,
   "input_path": "Market-News.ipynb",
   "output_path": "Market-News.ipynb",
   "parameters": {},
   "start_time": "2021-01-25T02:50:27.961266",
   "version": "2.2.2"
  }
 },
 "nbformat": 4,
 "nbformat_minor": 5
}