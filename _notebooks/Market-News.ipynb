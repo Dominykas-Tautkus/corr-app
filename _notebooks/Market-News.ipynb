{
 "cells": [
  {
   "cell_type": "markdown",
   "id": "short-greensboro",
   "metadata": {
    "papermill": {
     "duration": 0.015669,
     "end_time": "2021-02-15T01:39:56.258271",
     "exception": false,
     "start_time": "2021-02-15T01:39:56.242602",
     "status": "completed"
    },
    "tags": []
   },
   "source": [
    "# Kriptovaliutų naujienos"
   ]
  },
  {
   "cell_type": "code",
   "execution_count": 1,
   "id": "functioning-knowing",
   "metadata": {
    "execution": {
     "iopub.execute_input": "2021-02-15T01:39:56.294570Z",
     "iopub.status.busy": "2021-02-15T01:39:56.293888Z",
     "iopub.status.idle": "2021-02-15T01:39:57.498372Z",
     "shell.execute_reply": "2021-02-15T01:39:57.497591Z"
    },
    "papermill": {
     "duration": 1.226954,
     "end_time": "2021-02-15T01:39:57.498535",
     "exception": false,
     "start_time": "2021-02-15T01:39:56.271581",
     "status": "completed"
    },
    "tags": []
   },
   "outputs": [],
   "source": [
    "#hide_input\n",
    "import warnings\n",
    "warnings.filterwarnings('ignore')\n",
    "from scripts.read_data import read_api\n",
    "from scripts.read_data import read_news\n",
    "from scripts.read_data import read_covid\n",
    "import matplotlib.pyplot as plt \n",
    "from IPython.display import Markdown as md"
   ]
  },
  {
   "cell_type": "code",
   "execution_count": 2,
   "id": "shared-acceptance",
   "metadata": {
    "execution": {
     "iopub.execute_input": "2021-02-15T01:39:57.527385Z",
     "iopub.status.busy": "2021-02-15T01:39:57.526501Z",
     "iopub.status.idle": "2021-02-15T01:40:05.498682Z",
     "shell.execute_reply": "2021-02-15T01:40:05.498113Z"
    },
    "papermill": {
     "duration": 7.988371,
     "end_time": "2021-02-15T01:40:05.498809",
     "exception": false,
     "start_time": "2021-02-15T01:39:57.510438",
     "status": "completed"
    },
    "tags": []
   },
   "outputs": [],
   "source": [
    "#hide_input\n",
    "blockchain = read_news('blockchain') \n",
    "btc = read_news('btc') \n",
    "xrp = read_news('xrp') \n",
    "trx = read_news('trx') \n",
    "eth = read_news('eth')  \n",
    "ada = read_news('ada')\n",
    "exchange = read_news('exchange') "
   ]
  },
  {
   "cell_type": "code",
   "execution_count": 3,
   "id": "synthetic-notion",
   "metadata": {
    "execution": {
     "iopub.execute_input": "2021-02-15T01:40:05.519782Z",
     "iopub.status.busy": "2021-02-15T01:40:05.519246Z",
     "iopub.status.idle": "2021-02-15T01:40:05.526782Z",
     "shell.execute_reply": "2021-02-15T01:40:05.527185Z"
    },
    "papermill": {
     "duration": 0.019075,
     "end_time": "2021-02-15T01:40:05.527300",
     "exception": false,
     "start_time": "2021-02-15T01:40:05.508225",
     "status": "completed"
    },
    "tags": []
   },
   "outputs": [
    {
     "data": {
      "text/markdown": [
       "- Avalanche Brought Down by Bug Triggered by Unusually High Volume, Engineer Says.  The blockchain, which had been touted for its ability to handle a high volume of transactions, was brought down by an unusually high number of transactions. ... [| Skaityti daugiau](https://www.coindesk.com/avalanche-brought-down-by-bug-triggered-by-unusually-high-volume-engineer-says) "
      ],
      "text/plain": [
       "<IPython.core.display.Markdown object>"
      ]
     },
     "execution_count": 3,
     "metadata": {},
     "output_type": "execute_result"
    }
   ],
   "source": [
    "#hide_input\n",
    "#md('##### {}'.format(titleBTC)) \n",
    "md(\"- {}{} {}{} [| Skaityti daugiau]({}) \".format(blockchain['title'],'. ', blockchain['body'], ' ...', blockchain['url']))"
   ]
  },
  {
   "cell_type": "code",
   "execution_count": 4,
   "id": "aging-caution",
   "metadata": {
    "execution": {
     "iopub.execute_input": "2021-02-15T01:40:05.550745Z",
     "iopub.status.busy": "2021-02-15T01:40:05.550077Z",
     "iopub.status.idle": "2021-02-15T01:40:05.553178Z",
     "shell.execute_reply": "2021-02-15T01:40:05.552732Z"
    },
    "papermill": {
     "duration": 0.016572,
     "end_time": "2021-02-15T01:40:05.553277",
     "exception": false,
     "start_time": "2021-02-15T01:40:05.536705",
     "status": "completed"
    },
    "tags": []
   },
   "outputs": [
    {
     "data": {
      "text/markdown": [
       "- Why Ethereum is stagnating behind Bitcoin after its rally to new record-high.  The price of Ethereum is declining against both Bitcoin and the United States dollar. The post Why Ethereum is stagnating behind Bitcoin after its rally to new record-high appeared first on CryptoSlate. ... [| Skaityti daugiau](https://cryptoslate.com/why-ethereum-is-stagnating-behind-bitcoin-after-its-rally-to-new-record-high/) "
      ],
      "text/plain": [
       "<IPython.core.display.Markdown object>"
      ]
     },
     "execution_count": 4,
     "metadata": {},
     "output_type": "execute_result"
    }
   ],
   "source": [
    "#hide_input\n",
    "#md('##### {}'.format(titleBTC)) \n",
    "md(\"- {}{} {}{} [| Skaityti daugiau]({}) \".format(btc['title'],'. ', btc['body'], ' ...', btc['url']))"
   ]
  },
  {
   "cell_type": "code",
   "execution_count": 5,
   "id": "organic-actress",
   "metadata": {
    "execution": {
     "iopub.execute_input": "2021-02-15T01:40:05.577323Z",
     "iopub.status.busy": "2021-02-15T01:40:05.576783Z",
     "iopub.status.idle": "2021-02-15T01:40:05.580616Z",
     "shell.execute_reply": "2021-02-15T01:40:05.580052Z"
    },
    "papermill": {
     "duration": 0.016691,
     "end_time": "2021-02-15T01:40:05.580740",
     "exception": false,
     "start_time": "2021-02-15T01:40:05.564049",
     "status": "completed"
    },
    "tags": []
   },
   "outputs": [
    {
     "data": {
      "text/markdown": [
       "- Jed McCaleb Sells $22 Million Worth of XRP, Ripple Cofounder’s Stash Could Run Dry by May.  During the last few weeks, the former Ripple executive Jed McCaleb has reportedly been selling millions of XRP tokens and every sale has been monitored by the public. On Sunday, McCaleb dumped another 38 million XRP worth $22 million after selling 95 million XRP last week worth $56 million today. Ripple Cofounder Sells 38 million [&#8230;] ... [| Skaityti daugiau](https://news.bitcoin.com/jed-mccaleb-sells-22-million-worth-of-xrp-ripple-cofounders-stash-could-run-dry-by-may/) "
      ],
      "text/plain": [
       "<IPython.core.display.Markdown object>"
      ]
     },
     "execution_count": 5,
     "metadata": {},
     "output_type": "execute_result"
    }
   ],
   "source": [
    "#hide_input\n",
    "#md('##### {}'.format(titleBTC)) \n",
    "md(\"- {}{} {}{} [| Skaityti daugiau]({}) \".format(xrp['title'],'. ', xrp['body'], ' ...', xrp['url']))"
   ]
  },
  {
   "cell_type": "code",
   "execution_count": 6,
   "id": "prompt-farmer",
   "metadata": {
    "execution": {
     "iopub.execute_input": "2021-02-15T01:40:05.604412Z",
     "iopub.status.busy": "2021-02-15T01:40:05.603482Z",
     "iopub.status.idle": "2021-02-15T01:40:05.608111Z",
     "shell.execute_reply": "2021-02-15T01:40:05.608617Z"
    },
    "papermill": {
     "duration": 0.017989,
     "end_time": "2021-02-15T01:40:05.608750",
     "exception": false,
     "start_time": "2021-02-15T01:40:05.590761",
     "status": "completed"
    },
    "tags": []
   },
   "outputs": [
    {
     "data": {
      "text/markdown": [
       "- Tron, Augur, Zcash Price Analysis: 13 February.  Tron moved within an ascending triangle, but a northbound breakout did not seem likely over the next few trading sessions. Further down the crypto-ladder, even though Augur and Zcash traded around their local highs, bearish indicators meant that a correction loomed large for the altcoins moving forward. Tron [TRX] Tron touched a local high of [&#8230;] ... [| Skaityti daugiau](https://ambcrypto.com/tron-augur-zcash-price-analysis-13-february/) "
      ],
      "text/plain": [
       "<IPython.core.display.Markdown object>"
      ]
     },
     "execution_count": 6,
     "metadata": {},
     "output_type": "execute_result"
    }
   ],
   "source": [
    "#hide_input\n",
    "#md('##### {}'.format(titleBTC)) \n",
    "md(\"- {}{} {}{} [| Skaityti daugiau]({}) \".format(trx['title'],'. ', trx['body'], ' ...', trx['url']))"
   ]
  },
  {
   "cell_type": "code",
   "execution_count": 7,
   "id": "illegal-greece",
   "metadata": {
    "execution": {
     "iopub.execute_input": "2021-02-15T01:40:05.634210Z",
     "iopub.status.busy": "2021-02-15T01:40:05.633560Z",
     "iopub.status.idle": "2021-02-15T01:40:05.637569Z",
     "shell.execute_reply": "2021-02-15T01:40:05.638410Z"
    },
    "papermill": {
     "duration": 0.017859,
     "end_time": "2021-02-15T01:40:05.638561",
     "exception": false,
     "start_time": "2021-02-15T01:40:05.620702",
     "status": "completed"
    },
    "tags": []
   },
   "outputs": [
    {
     "data": {
      "text/markdown": [
       "- Why Ethereum is stagnating behind Bitcoin after its rally to new record-high.  The price of Ethereum is declining against both Bitcoin and the United States dollar. The post Why Ethereum is stagnating behind Bitcoin after its rally to new record-high appeared first on CryptoSlate. ... [| Skaityti daugiau](https://cryptoslate.com/why-ethereum-is-stagnating-behind-bitcoin-after-its-rally-to-new-record-high/) "
      ],
      "text/plain": [
       "<IPython.core.display.Markdown object>"
      ]
     },
     "execution_count": 7,
     "metadata": {},
     "output_type": "execute_result"
    }
   ],
   "source": [
    "#hide_input\n",
    "#md('##### {}'.format(titleBTC)) \n",
    "md(\"- {}{} {}{} [| Skaityti daugiau]({}) \".format(eth['title'],'. ', eth['body'], ' ...', eth['url']))"
   ]
  },
  {
   "cell_type": "code",
   "execution_count": 8,
   "id": "sublime-lounge",
   "metadata": {
    "execution": {
     "iopub.execute_input": "2021-02-15T01:40:05.665517Z",
     "iopub.status.busy": "2021-02-15T01:40:05.664986Z",
     "iopub.status.idle": "2021-02-15T01:40:05.668067Z",
     "shell.execute_reply": "2021-02-15T01:40:05.668506Z"
    },
    "papermill": {
     "duration": 0.018697,
     "end_time": "2021-02-15T01:40:05.668622",
     "exception": false,
     "start_time": "2021-02-15T01:40:05.649925",
     "status": "completed"
    },
    "tags": []
   },
   "outputs": [
    {
     "data": {
      "text/markdown": [
       "- Cardano (ADA) Outperforms Crypto Market Rising 400% Year-to-Date.  Caradano (ADA) has risen more than 100 percent over the past month due to new developments by IOHK and the release of the Goguen update. ... [| Skaityti daugiau](https://www.cryptoglobe.com/latest/2021/02/cardano-ada-outperforms-crypto-market-rising-400-year-to-date/) "
      ],
      "text/plain": [
       "<IPython.core.display.Markdown object>"
      ]
     },
     "execution_count": 8,
     "metadata": {},
     "output_type": "execute_result"
    }
   ],
   "source": [
    "#hide_input\n",
    "#md('##### {}'.format(titleBTC)) \n",
    "md(\"- {}{} {}{} [| Skaityti daugiau]({}) \".format(ada['title'],'. ', ada['body'], ' ...', ada['url']))"
   ]
  },
  {
   "cell_type": "code",
   "execution_count": 9,
   "id": "specified-ordering",
   "metadata": {
    "execution": {
     "iopub.execute_input": "2021-02-15T01:40:05.696429Z",
     "iopub.status.busy": "2021-02-15T01:40:05.695792Z",
     "iopub.status.idle": "2021-02-15T01:40:05.699144Z",
     "shell.execute_reply": "2021-02-15T01:40:05.699560Z"
    },
    "papermill": {
     "duration": 0.020224,
     "end_time": "2021-02-15T01:40:05.699691",
     "exception": false,
     "start_time": "2021-02-15T01:40:05.679467",
     "status": "completed"
    },
    "tags": []
   },
   "outputs": [
    {
     "data": {
      "text/markdown": [
       "- Binance Coin price prediction: BNB to climb to $150.00 resistance level.  TL;DR Breakdown Binance Coin price expected to break above the $140 mark to rise to $150 The closest support level lies at $130.00 BNB faces resistance in crossing the $137.50 mark. Binance Coin price has once again climbed above the $135.0 mark as BNB approaches the $140.00 mark. After failing to breach the price level […] ... [| Skaityti daugiau](https://www.cryptopolitan.com/binance-coin-price-to-climb-to-150-00-level/) "
      ],
      "text/plain": [
       "<IPython.core.display.Markdown object>"
      ]
     },
     "execution_count": 9,
     "metadata": {},
     "output_type": "execute_result"
    }
   ],
   "source": [
    "#hide_input\n",
    "#md('##### {}'.format(titleBTC)) \n",
    "md(\"- {}{} {}{} [| Skaityti daugiau]({}) \".format(exchange['title'],'. ', exchange['body'], ' ...', exchange['url']))"
   ]
  },
  {
   "cell_type": "code",
   "execution_count": null,
   "id": "tender-livestock",
   "metadata": {
    "papermill": {
     "duration": 0.011548,
     "end_time": "2021-02-15T01:40:05.722810",
     "exception": false,
     "start_time": "2021-02-15T01:40:05.711262",
     "status": "completed"
    },
    "tags": []
   },
   "outputs": [],
   "source": []
  },
  {
   "cell_type": "code",
   "execution_count": null,
   "id": "appreciated-diamond",
   "metadata": {
    "papermill": {
     "duration": 0.011178,
     "end_time": "2021-02-15T01:40:05.745240",
     "exception": false,
     "start_time": "2021-02-15T01:40:05.734062",
     "status": "completed"
    },
    "tags": []
   },
   "outputs": [],
   "source": []
  },
  {
   "cell_type": "code",
   "execution_count": null,
   "id": "romance-sweden",
   "metadata": {
    "papermill": {
     "duration": 0.015485,
     "end_time": "2021-02-15T01:40:05.771329",
     "exception": false,
     "start_time": "2021-02-15T01:40:05.755844",
     "status": "completed"
    },
    "tags": []
   },
   "outputs": [],
   "source": []
  },
  {
   "cell_type": "code",
   "execution_count": null,
   "id": "dietary-statistics",
   "metadata": {
    "papermill": {
     "duration": 0.013895,
     "end_time": "2021-02-15T01:40:05.800737",
     "exception": false,
     "start_time": "2021-02-15T01:40:05.786842",
     "status": "completed"
    },
    "tags": []
   },
   "outputs": [],
   "source": []
  }
 ],
 "metadata": {
  "kernelspec": {
   "display_name": "Python 3",
   "language": "python",
   "name": "python3"
  },
  "language_info": {
   "codemirror_mode": {
    "name": "ipython",
    "version": 3
   },
   "file_extension": ".py",
   "mimetype": "text/x-python",
   "name": "python",
   "nbconvert_exporter": "python",
   "pygments_lexer": "ipython3",
   "version": "3.6.12"
  },
  "papermill": {
   "default_parameters": {},
   "duration": 11.034679,
   "end_time": "2021-02-15T01:40:06.220157",
   "environment_variables": {},
   "exception": null,
   "input_path": "Market-News.ipynb",
   "output_path": "Market-News.ipynb",
   "parameters": {},
   "start_time": "2021-02-15T01:39:55.185478",
   "version": "2.2.2"
  }
 },
 "nbformat": 4,
 "nbformat_minor": 5
}