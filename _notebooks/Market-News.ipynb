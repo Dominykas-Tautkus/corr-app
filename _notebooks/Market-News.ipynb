{
 "cells": [
  {
   "cell_type": "markdown",
   "id": "short-greensboro",
   "metadata": {
    "papermill": {
     "duration": 0.014168,
     "end_time": "2021-03-31T02:03:34.676543",
     "exception": false,
     "start_time": "2021-03-31T02:03:34.662375",
     "status": "completed"
    },
    "tags": []
   },
   "source": [
    "# Kriptovaliutų naujienos"
   ]
  },
  {
   "cell_type": "code",
   "execution_count": 1,
   "id": "functioning-knowing",
   "metadata": {
    "execution": {
     "iopub.execute_input": "2021-03-31T02:03:34.705851Z",
     "iopub.status.busy": "2021-03-31T02:03:34.705228Z",
     "iopub.status.idle": "2021-03-31T02:03:35.974764Z",
     "shell.execute_reply": "2021-03-31T02:03:35.974192Z"
    },
    "papermill": {
     "duration": 1.288248,
     "end_time": "2021-03-31T02:03:35.974912",
     "exception": false,
     "start_time": "2021-03-31T02:03:34.686664",
     "status": "completed"
    },
    "tags": []
   },
   "outputs": [],
   "source": [
    "#hide_input\n",
    "import warnings\n",
    "warnings.filterwarnings('ignore')\n",
    "from scripts.read_data import read_api\n",
    "from scripts.read_data import read_news\n",
    "from scripts.read_data import read_covid\n",
    "import matplotlib.pyplot as plt \n",
    "from IPython.display import Markdown as md"
   ]
  },
  {
   "cell_type": "code",
   "execution_count": 2,
   "id": "shared-acceptance",
   "metadata": {
    "execution": {
     "iopub.execute_input": "2021-03-31T02:03:36.004768Z",
     "iopub.status.busy": "2021-03-31T02:03:36.003773Z",
     "iopub.status.idle": "2021-03-31T02:03:44.621712Z",
     "shell.execute_reply": "2021-03-31T02:03:44.621181Z"
    },
    "papermill": {
     "duration": 8.633779,
     "end_time": "2021-03-31T02:03:44.621836",
     "exception": false,
     "start_time": "2021-03-31T02:03:35.988057",
     "status": "completed"
    },
    "tags": []
   },
   "outputs": [],
   "source": [
    "#hide_input\n",
    "blockchain = read_news('blockchain') \n",
    "btc = read_news('btc') \n",
    "xrp = read_news('xrp') \n",
    "trx = read_news('trx') \n",
    "eth = read_news('eth')  \n",
    "ada = read_news('ada')\n",
    "exchange = read_news('exchange') "
   ]
  },
  {
   "cell_type": "code",
   "execution_count": 3,
   "id": "synthetic-notion",
   "metadata": {
    "execution": {
     "iopub.execute_input": "2021-03-31T02:03:44.648595Z",
     "iopub.status.busy": "2021-03-31T02:03:44.647920Z",
     "iopub.status.idle": "2021-03-31T02:03:44.651170Z",
     "shell.execute_reply": "2021-03-31T02:03:44.650680Z"
    },
    "papermill": {
     "duration": 0.019326,
     "end_time": "2021-03-31T02:03:44.651272",
     "exception": false,
     "start_time": "2021-03-31T02:03:44.631946",
     "status": "completed"
    },
    "tags": []
   },
   "outputs": [
    {
     "data": {
      "text/markdown": [
       "- 110-year-old Thai bank SCB taps into DeFi project Band Protocol.  SCB 10X, the holding company of Siam Commercial Bank, Thailand’s first commercial bank, said today it was joining decentralized finance (DeFi) project Band Protocol as a node validator, as per a tweet this morning. The post 110-year-old Thai bank SCB taps into DeFi project Band Protocol appeared first on CryptoSlate. ... [| Skaityti daugiau](https://cryptoslate.com/110-year-old-thai-bank-scb-taps-into-defi-project-band-protocol/) "
      ],
      "text/plain": [
       "<IPython.core.display.Markdown object>"
      ]
     },
     "execution_count": 3,
     "metadata": {},
     "output_type": "execute_result"
    }
   ],
   "source": [
    "#hide_input\n",
    "#md('##### {}'.format(titleBTC)) \n",
    "md(\"- {}{} {}{} [| Skaityti daugiau]({}) \".format(blockchain['title'],'. ', blockchain['body'], ' ...', blockchain['url']))"
   ]
  },
  {
   "cell_type": "code",
   "execution_count": 4,
   "id": "aging-caution",
   "metadata": {
    "execution": {
     "iopub.execute_input": "2021-03-31T02:03:44.675006Z",
     "iopub.status.busy": "2021-03-31T02:03:44.674427Z",
     "iopub.status.idle": "2021-03-31T02:03:44.677711Z",
     "shell.execute_reply": "2021-03-31T02:03:44.678247Z"
    },
    "papermill": {
     "duration": 0.017434,
     "end_time": "2021-03-31T02:03:44.678371",
     "exception": false,
     "start_time": "2021-03-31T02:03:44.660937",
     "status": "completed"
    },
    "tags": []
   },
   "outputs": [
    {
     "data": {
      "text/markdown": [
       "- Career Commodities Trader Warns Bitcoin Community Over Coinbase Concerns.  Peter Brandt is an iconic trader who in the past called the dramatic fall to the Bitcoin bear market bottom, nearly a year ahead of time. Could the commodities trader with decades of experience in all things markets &#8211; who has for sure seen a thing or two in his career &#8211; now be forewarning [&#8230;] ... [| Skaityti daugiau](https://www.newsbtc.com/news/bitcoin/peter-brandt-bitcoin-coinbase-ipo/) "
      ],
      "text/plain": [
       "<IPython.core.display.Markdown object>"
      ]
     },
     "execution_count": 4,
     "metadata": {},
     "output_type": "execute_result"
    }
   ],
   "source": [
    "#hide_input\n",
    "#md('##### {}'.format(titleBTC)) \n",
    "md(\"- {}{} {}{} [| Skaityti daugiau]({}) \".format(btc['title'],'. ', btc['body'], ' ...', btc['url']))"
   ]
  },
  {
   "cell_type": "code",
   "execution_count": 5,
   "id": "organic-actress",
   "metadata": {
    "execution": {
     "iopub.execute_input": "2021-03-31T02:03:44.709495Z",
     "iopub.status.busy": "2021-03-31T02:03:44.708418Z",
     "iopub.status.idle": "2021-03-31T02:03:44.712281Z",
     "shell.execute_reply": "2021-03-31T02:03:44.712682Z"
    },
    "papermill": {
     "duration": 0.023642,
     "end_time": "2021-03-31T02:03:44.712798",
     "exception": false,
     "start_time": "2021-03-31T02:03:44.689156",
     "status": "completed"
    },
    "tags": []
   },
   "outputs": [
    {
     "data": {
      "text/markdown": [
       "- Judge grants XRP holders’ request for motion to intervene in SEC v. Ripple case.  After being rejected initially, the group of XRP holders led by lawyer John Deaton has ultimately been allowed to file a motion to intervene in the ongoing legal battle between the Securities and Exchange Commission (SEC) and Ripple Labs, according to a court order published yesterday. The post Judge grants XRP holders’ request for motion to intervene in SEC v. Ripple case appeared first on CryptoSlate. ... [| Skaityti daugiau](https://cryptoslate.com/judge-grants-xrp-holders-request-for-motion-to-intervene-in-sec-v-ripple-case/) "
      ],
      "text/plain": [
       "<IPython.core.display.Markdown object>"
      ]
     },
     "execution_count": 5,
     "metadata": {},
     "output_type": "execute_result"
    }
   ],
   "source": [
    "#hide_input\n",
    "#md('##### {}'.format(titleBTC)) \n",
    "md(\"- {}{} {}{} [| Skaityti daugiau]({}) \".format(xrp['title'],'. ', xrp['body'], ' ...', xrp['url']))"
   ]
  },
  {
   "cell_type": "code",
   "execution_count": 6,
   "id": "prompt-farmer",
   "metadata": {
    "execution": {
     "iopub.execute_input": "2021-03-31T02:03:44.738819Z",
     "iopub.status.busy": "2021-03-31T02:03:44.738175Z",
     "iopub.status.idle": "2021-03-31T02:03:44.740782Z",
     "shell.execute_reply": "2021-03-31T02:03:44.741249Z"
    },
    "papermill": {
     "duration": 0.018295,
     "end_time": "2021-03-31T02:03:44.741504",
     "exception": false,
     "start_time": "2021-03-31T02:03:44.723209",
     "status": "completed"
    },
    "tags": []
   },
   "outputs": [
    {
     "data": {
      "text/markdown": [
       "- Tron Price Analysis: 29 March.  Tron has moved to the 23rd position on CoinMarketCap&#8217;s list of cryptocurrencies in terms of its market capitalization which was at $4.55 billion. Although the coin has been returning 135% to its investors, the altcoin has been seeing great volatility in the market. At the time of writing, TRX was trading at $0.0627, while being [&#8230;] ... [| Skaityti daugiau](https://ambcrypto.com/tron-price-analysis-29-march/) "
      ],
      "text/plain": [
       "<IPython.core.display.Markdown object>"
      ]
     },
     "execution_count": 6,
     "metadata": {},
     "output_type": "execute_result"
    }
   ],
   "source": [
    "#hide_input\n",
    "#md('##### {}'.format(titleBTC)) \n",
    "md(\"- {}{} {}{} [| Skaityti daugiau]({}) \".format(trx['title'],'. ', trx['body'], ' ...', trx['url']))"
   ]
  },
  {
   "cell_type": "code",
   "execution_count": 7,
   "id": "illegal-greece",
   "metadata": {
    "execution": {
     "iopub.execute_input": "2021-03-31T02:03:44.768783Z",
     "iopub.status.busy": "2021-03-31T02:03:44.768153Z",
     "iopub.status.idle": "2021-03-31T02:03:44.770831Z",
     "shell.execute_reply": "2021-03-31T02:03:44.771377Z"
    },
    "papermill": {
     "duration": 0.018461,
     "end_time": "2021-03-31T02:03:44.771506",
     "exception": false,
     "start_time": "2021-03-31T02:03:44.753045",
     "status": "completed"
    },
    "tags": []
   },
   "outputs": [
    {
     "data": {
      "text/markdown": [
       "- Dapper Labs, SuperRare, ConsenSys and Nifty Gateway Make NFT News.  Two big NFT companies, SuperRare and Dapper Labs, have raised more money from big investors, and the Ethereum software company ConsenSys introduced a new NFT platform and its first project, with British artist Damien Hirst.The post Dapper Labs, SuperRare, ConsenSys and Nifty Gateway Make NFT News appeared first on Blockworks. ... [| Skaityti daugiau](https://blockworks.co/dapper-labs-superrare-consensys-and-nifty-gateway-make-nft-news/) "
      ],
      "text/plain": [
       "<IPython.core.display.Markdown object>"
      ]
     },
     "execution_count": 7,
     "metadata": {},
     "output_type": "execute_result"
    }
   ],
   "source": [
    "#hide_input\n",
    "#md('##### {}'.format(titleBTC)) \n",
    "md(\"- {}{} {}{} [| Skaityti daugiau]({}) \".format(eth['title'],'. ', eth['body'], ' ...', eth['url']))"
   ]
  },
  {
   "cell_type": "code",
   "execution_count": 8,
   "id": "sublime-lounge",
   "metadata": {
    "execution": {
     "iopub.execute_input": "2021-03-31T02:03:44.799770Z",
     "iopub.status.busy": "2021-03-31T02:03:44.799197Z",
     "iopub.status.idle": "2021-03-31T02:03:44.802190Z",
     "shell.execute_reply": "2021-03-31T02:03:44.801716Z"
    },
    "papermill": {
     "duration": 0.018438,
     "end_time": "2021-03-31T02:03:44.802294",
     "exception": false,
     "start_time": "2021-03-31T02:03:44.783856",
     "status": "completed"
    },
    "tags": []
   },
   "outputs": [
    {
     "data": {
      "text/markdown": [
       "- Top Analyst Unveils Remarkably Bullish Target for Cardano.  The analyst who grew his following after nailing Bitcoin&#8217;s collapse in March 2020 says he&#8217;s eyeing an incredibly bullish long-term target for Cardano (ADA). In a new tweet, the pseudonymous trader known in the industry as Capo says that he believes Cardano could ignite a massive 25x parabolic move from its price of $1.18 en [&#8230;]The post Top Analyst Unveils Remarkably Bullish Target for Cardano appeared first on The Daily Hodl. ... [| Skaityti daugiau](https://dailyhodl.com/2021/03/30/top-analyst-unveils-remarkably-bullish-target-for-cardano/) "
      ],
      "text/plain": [
       "<IPython.core.display.Markdown object>"
      ]
     },
     "execution_count": 8,
     "metadata": {},
     "output_type": "execute_result"
    }
   ],
   "source": [
    "#hide_input\n",
    "#md('##### {}'.format(titleBTC)) \n",
    "md(\"- {}{} {}{} [| Skaityti daugiau]({}) \".format(ada['title'],'. ', ada['body'], ' ...', ada['url']))"
   ]
  },
  {
   "cell_type": "code",
   "execution_count": 9,
   "id": "specified-ordering",
   "metadata": {
    "execution": {
     "iopub.execute_input": "2021-03-31T02:03:44.835471Z",
     "iopub.status.busy": "2021-03-31T02:03:44.834621Z",
     "iopub.status.idle": "2021-03-31T02:03:44.837963Z",
     "shell.execute_reply": "2021-03-31T02:03:44.838560Z"
    },
    "papermill": {
     "duration": 0.0212,
     "end_time": "2021-03-31T02:03:44.838705",
     "exception": false,
     "start_time": "2021-03-31T02:03:44.817505",
     "status": "completed"
    },
    "tags": []
   },
   "outputs": [
    {
     "data": {
      "text/markdown": [
       "- Judge grants XRP holders’ request for motion to intervene in SEC v. Ripple case.  After being rejected initially, the group of XRP holders led by lawyer John Deaton has ultimately been allowed to file a motion to intervene in the ongoing legal battle between the Securities and Exchange Commission (SEC) and Ripple Labs, according to a court order published yesterday. The post Judge grants XRP holders’ request for motion to intervene in SEC v. Ripple case appeared first on CryptoSlate. ... [| Skaityti daugiau](https://cryptoslate.com/judge-grants-xrp-holders-request-for-motion-to-intervene-in-sec-v-ripple-case/) "
      ],
      "text/plain": [
       "<IPython.core.display.Markdown object>"
      ]
     },
     "execution_count": 9,
     "metadata": {},
     "output_type": "execute_result"
    }
   ],
   "source": [
    "#hide_input\n",
    "#md('##### {}'.format(titleBTC)) \n",
    "md(\"- {}{} {}{} [| Skaityti daugiau]({}) \".format(exchange['title'],'. ', exchange['body'], ' ...', exchange['url']))"
   ]
  },
  {
   "cell_type": "code",
   "execution_count": null,
   "id": "tender-livestock",
   "metadata": {
    "papermill": {
     "duration": 0.013095,
     "end_time": "2021-03-31T02:03:44.865963",
     "exception": false,
     "start_time": "2021-03-31T02:03:44.852868",
     "status": "completed"
    },
    "tags": []
   },
   "outputs": [],
   "source": []
  },
  {
   "cell_type": "code",
   "execution_count": null,
   "id": "appreciated-diamond",
   "metadata": {
    "papermill": {
     "duration": 0.012096,
     "end_time": "2021-03-31T02:03:44.890742",
     "exception": false,
     "start_time": "2021-03-31T02:03:44.878646",
     "status": "completed"
    },
    "tags": []
   },
   "outputs": [],
   "source": []
  },
  {
   "cell_type": "code",
   "execution_count": null,
   "id": "romance-sweden",
   "metadata": {
    "papermill": {
     "duration": 0.01361,
     "end_time": "2021-03-31T02:03:44.916568",
     "exception": false,
     "start_time": "2021-03-31T02:03:44.902958",
     "status": "completed"
    },
    "tags": []
   },
   "outputs": [],
   "source": []
  },
  {
   "cell_type": "code",
   "execution_count": null,
   "id": "dietary-statistics",
   "metadata": {
    "papermill": {
     "duration": 0.012091,
     "end_time": "2021-03-31T02:03:44.940729",
     "exception": false,
     "start_time": "2021-03-31T02:03:44.928638",
     "status": "completed"
    },
    "tags": []
   },
   "outputs": [],
   "source": []
  }
 ],
 "metadata": {
  "kernelspec": {
   "display_name": "Python 3",
   "language": "python",
   "name": "python3"
  },
  "language_info": {
   "codemirror_mode": {
    "name": "ipython",
    "version": 3
   },
   "file_extension": ".py",
   "mimetype": "text/x-python",
   "name": "python",
   "nbconvert_exporter": "python",
   "pygments_lexer": "ipython3",
   "version": "3.6.13"
  },
  "papermill": {
   "default_parameters": {},
   "duration": 11.782691,
   "end_time": "2021-03-31T02:03:45.360779",
   "environment_variables": {},
   "exception": null,
   "input_path": "Market-News.ipynb",
   "output_path": "Market-News.ipynb",
   "parameters": {},
   "start_time": "2021-03-31T02:03:33.578088",
   "version": "2.2.2"
  }
 },
 "nbformat": 4,
 "nbformat_minor": 5
}