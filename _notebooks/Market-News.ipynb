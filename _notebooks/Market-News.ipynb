{
 "cells": [
  {
   "cell_type": "markdown",
   "id": "short-greensboro",
   "metadata": {
    "papermill": {
     "duration": 0.015485,
     "end_time": "2021-03-27T02:05:40.107868",
     "exception": false,
     "start_time": "2021-03-27T02:05:40.092383",
     "status": "completed"
    },
    "tags": []
   },
   "source": [
    "# Kriptovaliutų naujienos"
   ]
  },
  {
   "cell_type": "code",
   "execution_count": 1,
   "id": "functioning-knowing",
   "metadata": {
    "execution": {
     "iopub.execute_input": "2021-03-27T02:05:40.145105Z",
     "iopub.status.busy": "2021-03-27T02:05:40.144483Z",
     "iopub.status.idle": "2021-03-27T02:05:41.570708Z",
     "shell.execute_reply": "2021-03-27T02:05:41.569645Z"
    },
    "papermill": {
     "duration": 1.451726,
     "end_time": "2021-03-27T02:05:41.570871",
     "exception": false,
     "start_time": "2021-03-27T02:05:40.119145",
     "status": "completed"
    },
    "tags": []
   },
   "outputs": [],
   "source": [
    "#hide_input\n",
    "import warnings\n",
    "warnings.filterwarnings('ignore')\n",
    "from scripts.read_data import read_api\n",
    "from scripts.read_data import read_news\n",
    "from scripts.read_data import read_covid\n",
    "import matplotlib.pyplot as plt \n",
    "from IPython.display import Markdown as md"
   ]
  },
  {
   "cell_type": "code",
   "execution_count": 2,
   "id": "shared-acceptance",
   "metadata": {
    "execution": {
     "iopub.execute_input": "2021-03-27T02:05:41.598290Z",
     "iopub.status.busy": "2021-03-27T02:05:41.597703Z",
     "iopub.status.idle": "2021-03-27T02:05:50.532872Z",
     "shell.execute_reply": "2021-03-27T02:05:50.532323Z"
    },
    "papermill": {
     "duration": 8.951556,
     "end_time": "2021-03-27T02:05:50.533003",
     "exception": false,
     "start_time": "2021-03-27T02:05:41.581447",
     "status": "completed"
    },
    "tags": []
   },
   "outputs": [],
   "source": [
    "#hide_input\n",
    "blockchain = read_news('blockchain') \n",
    "btc = read_news('btc') \n",
    "xrp = read_news('xrp') \n",
    "trx = read_news('trx') \n",
    "eth = read_news('eth')  \n",
    "ada = read_news('ada')\n",
    "exchange = read_news('exchange') "
   ]
  },
  {
   "cell_type": "code",
   "execution_count": 3,
   "id": "synthetic-notion",
   "metadata": {
    "execution": {
     "iopub.execute_input": "2021-03-27T02:05:50.562580Z",
     "iopub.status.busy": "2021-03-27T02:05:50.561615Z",
     "iopub.status.idle": "2021-03-27T02:05:50.565215Z",
     "shell.execute_reply": "2021-03-27T02:05:50.565677Z"
    },
    "papermill": {
     "duration": 0.021772,
     "end_time": "2021-03-27T02:05:50.565821",
     "exception": false,
     "start_time": "2021-03-27T02:05:50.544049",
     "status": "completed"
    },
    "tags": []
   },
   "outputs": [
    {
     "data": {
      "text/markdown": [
       "- Unido’s Partnership With Moonstake Connects Users to $800 Million in New Staking Assets.  Unido recently partnered with Moonstake to bring one of the world’s largest global validator staking pools to Unido users. Moonstake was founded to satisfy the growing demand for blockchain and cryptocurrency investment options in Asia and to provide business services and bring staking pool options to millions of regional and global users. The platform currently [&#8230;]The post Unido’s Partnership With Moonstake Connects Users to $800 Million in New Staking Assets appeared first on The Daily Hodl. ... [| Skaityti daugiau](https://dailyhodl.com/2021/03/26/unidos-partnership-with-moonstake-connects-users-to-800-million-in-new-staking-assets/) "
      ],
      "text/plain": [
       "<IPython.core.display.Markdown object>"
      ]
     },
     "execution_count": 3,
     "metadata": {},
     "output_type": "execute_result"
    }
   ],
   "source": [
    "#hide_input\n",
    "#md('##### {}'.format(titleBTC)) \n",
    "md(\"- {}{} {}{} [| Skaityti daugiau]({}) \".format(blockchain['title'],'. ', blockchain['body'], ' ...', blockchain['url']))"
   ]
  },
  {
   "cell_type": "code",
   "execution_count": 4,
   "id": "aging-caution",
   "metadata": {
    "execution": {
     "iopub.execute_input": "2021-03-27T02:05:50.593178Z",
     "iopub.status.busy": "2021-03-27T02:05:50.592594Z",
     "iopub.status.idle": "2021-03-27T02:05:50.596418Z",
     "shell.execute_reply": "2021-03-27T02:05:50.596867Z"
    },
    "papermill": {
     "duration": 0.020232,
     "end_time": "2021-03-27T02:05:50.597013",
     "exception": false,
     "start_time": "2021-03-27T02:05:50.576781",
     "status": "completed"
    },
    "tags": []
   },
   "outputs": [
    {
     "data": {
      "text/markdown": [
       "- Could Bitcoin Be One Day Outlawed by U.S. Government?.  Billionaire investor Ray Dalio, the founder of the largest hedge fund in the world Bridgewater Associates, with $150 billion in assets under management, has said there’s a “good probability” the U.S. government could outlaw Bitcoin, the same way it outlawed gold in the 1930s. Speaking to Yahoo Finance Editor-in-Chief Andy Serwer in an interview, Dalio […] ... [| Skaityti daugiau](https://www.cryptoglobe.com/latest/2021/03/bitcoin-could-be-outlawed-by-u-s-government-says-billionaire-ray-dalio/) "
      ],
      "text/plain": [
       "<IPython.core.display.Markdown object>"
      ]
     },
     "execution_count": 4,
     "metadata": {},
     "output_type": "execute_result"
    }
   ],
   "source": [
    "#hide_input\n",
    "#md('##### {}'.format(titleBTC)) \n",
    "md(\"- {}{} {}{} [| Skaityti daugiau]({}) \".format(btc['title'],'. ', btc['body'], ' ...', btc['url']))"
   ]
  },
  {
   "cell_type": "code",
   "execution_count": 5,
   "id": "organic-actress",
   "metadata": {
    "execution": {
     "iopub.execute_input": "2021-03-27T02:05:50.625456Z",
     "iopub.status.busy": "2021-03-27T02:05:50.624873Z",
     "iopub.status.idle": "2021-03-27T02:05:50.628675Z",
     "shell.execute_reply": "2021-03-27T02:05:50.628179Z"
    },
    "papermill": {
     "duration": 0.020402,
     "end_time": "2021-03-27T02:05:50.628794",
     "exception": false,
     "start_time": "2021-03-27T02:05:50.608392",
     "status": "completed"
    },
    "tags": []
   },
   "outputs": [
    {
     "data": {
      "text/markdown": [
       "- XRP Price Analysis: 26 March.  XRP whales were in accumulation mode, concluded experts upon analysis of XRP on-chain data. Data from Santiment highlighted that XRP has been a steady presence on their emerging trend page. With regard to the SEC lawsuit with Ripple, courts compelled SEC to produce documents with regard to Bitcoin and Ethereum concerning their status as non-securities. On [&#8230;] ... [| Skaityti daugiau](https://ambcrypto.com/xrp-price-analysis-26-march/) "
      ],
      "text/plain": [
       "<IPython.core.display.Markdown object>"
      ]
     },
     "execution_count": 5,
     "metadata": {},
     "output_type": "execute_result"
    }
   ],
   "source": [
    "#hide_input\n",
    "#md('##### {}'.format(titleBTC)) \n",
    "md(\"- {}{} {}{} [| Skaityti daugiau]({}) \".format(xrp['title'],'. ', xrp['body'], ' ...', xrp['url']))"
   ]
  },
  {
   "cell_type": "code",
   "execution_count": 6,
   "id": "prompt-farmer",
   "metadata": {
    "execution": {
     "iopub.execute_input": "2021-03-27T02:05:50.659278Z",
     "iopub.status.busy": "2021-03-27T02:05:50.658644Z",
     "iopub.status.idle": "2021-03-27T02:05:50.661229Z",
     "shell.execute_reply": "2021-03-27T02:05:50.661724Z"
    },
    "papermill": {
     "duration": 0.021135,
     "end_time": "2021-03-27T02:05:50.661864",
     "exception": false,
     "start_time": "2021-03-27T02:05:50.640729",
     "status": "completed"
    },
    "tags": []
   },
   "outputs": [
    {
     "data": {
      "text/markdown": [
       "- TRX Price Analysis: Price Gains Foothold at $0.05 To End the Week.  The post TRX Price Analysis: Price Gains Foothold at $0.05 To End the Week appeared first on Coinpedia - Fintech & Cryptocurreny News Media| Crypto GuideTRON (TRX) price has flipped bullish after printing bearish candles for 4 days in a row during a persistent downtrend from the start of the week.*TRX/USD is edging higher again after the rebound off the lows at $0.051*TRON is trading in a positive zone above $0.052 and $0.059*Justin Sun thinks NFTs and DeFi are the … ... [| Skaityti daugiau](https://coinpedia.org/price-analysis/trx-price-analysis-price-gains-foothold-at-0-05/) "
      ],
      "text/plain": [
       "<IPython.core.display.Markdown object>"
      ]
     },
     "execution_count": 6,
     "metadata": {},
     "output_type": "execute_result"
    }
   ],
   "source": [
    "#hide_input\n",
    "#md('##### {}'.format(titleBTC)) \n",
    "md(\"- {}{} {}{} [| Skaityti daugiau]({}) \".format(trx['title'],'. ', trx['body'], ' ...', trx['url']))"
   ]
  },
  {
   "cell_type": "code",
   "execution_count": 7,
   "id": "illegal-greece",
   "metadata": {
    "execution": {
     "iopub.execute_input": "2021-03-27T02:05:50.691155Z",
     "iopub.status.busy": "2021-03-27T02:05:50.690504Z",
     "iopub.status.idle": "2021-03-27T02:05:50.692876Z",
     "shell.execute_reply": "2021-03-27T02:05:50.693408Z"
    },
    "papermill": {
     "duration": 0.019693,
     "end_time": "2021-03-27T02:05:50.693551",
     "exception": false,
     "start_time": "2021-03-27T02:05:50.673858",
     "status": "completed"
    },
    "tags": []
   },
   "outputs": [
    {
     "data": {
      "text/markdown": [
       "- DragonFly Capital Launches $225 Million Crypto Fund.  Crypto fund DragonFly Capital announced the launch of a new $225 million fund to invest in projects across the crypto space. Following the success of the original $100 million fund kickstarted in late 2018, the Dragonfly Fund II will target four potential areas: decentralized finance (DeFi) protocols, non-fungible token projects, Ethereum Layer 2-based businesses, and centralized finance (CeFi) platforms. The San Francisco-based venture capital fund have been early backers of notable projects such as ByBit, [&#8230;] ... [| Skaityti daugiau](https://bitcoinist.com/dragonfly-capital-launches-225-million-crypto-fund/?utm_source=rss&utm_medium=rss&utm_campaign=dragonfly-capital-launches-225-million-crypto-fund) "
      ],
      "text/plain": [
       "<IPython.core.display.Markdown object>"
      ]
     },
     "execution_count": 7,
     "metadata": {},
     "output_type": "execute_result"
    }
   ],
   "source": [
    "#hide_input\n",
    "#md('##### {}'.format(titleBTC)) \n",
    "md(\"- {}{} {}{} [| Skaityti daugiau]({}) \".format(eth['title'],'. ', eth['body'], ' ...', eth['url']))"
   ]
  },
  {
   "cell_type": "code",
   "execution_count": 8,
   "id": "sublime-lounge",
   "metadata": {
    "execution": {
     "iopub.execute_input": "2021-03-27T02:05:50.725859Z",
     "iopub.status.busy": "2021-03-27T02:05:50.725276Z",
     "iopub.status.idle": "2021-03-27T02:05:50.728265Z",
     "shell.execute_reply": "2021-03-27T02:05:50.727773Z"
    },
    "papermill": {
     "duration": 0.021069,
     "end_time": "2021-03-27T02:05:50.728383",
     "exception": false,
     "start_time": "2021-03-27T02:05:50.707314",
     "status": "completed"
    },
    "tags": []
   },
   "outputs": [
    {
     "data": {
      "text/markdown": [
       "- Price analysis 3/26: BTC, ETH, BNB, ADA, DOT, XRP, UNI, THETA, LTC, LINK.  Bitcoin price bounced off the 50-day moving average but the real test is near $57,500 where the bears are likely to push back. ... [| Skaityti daugiau](https://cointelegraph.com/news/price-analysis-3-26-btc-eth-bnb-ada-dot-xrp-uni-theta-ltc-link) "
      ],
      "text/plain": [
       "<IPython.core.display.Markdown object>"
      ]
     },
     "execution_count": 8,
     "metadata": {},
     "output_type": "execute_result"
    }
   ],
   "source": [
    "#hide_input\n",
    "#md('##### {}'.format(titleBTC)) \n",
    "md(\"- {}{} {}{} [| Skaityti daugiau]({}) \".format(ada['title'],'. ', ada['body'], ' ...', ada['url']))"
   ]
  },
  {
   "cell_type": "code",
   "execution_count": 9,
   "id": "specified-ordering",
   "metadata": {
    "execution": {
     "iopub.execute_input": "2021-03-27T02:05:50.761437Z",
     "iopub.status.busy": "2021-03-27T02:05:50.760855Z",
     "iopub.status.idle": "2021-03-27T02:05:50.763962Z",
     "shell.execute_reply": "2021-03-27T02:05:50.764509Z"
    },
    "papermill": {
     "duration": 0.023612,
     "end_time": "2021-03-27T02:05:50.764649",
     "exception": false,
     "start_time": "2021-03-27T02:05:50.741037",
     "status": "completed"
    },
    "tags": []
   },
   "outputs": [
    {
     "data": {
      "text/markdown": [
       "- Pizza Day 2.0: Buying A Tesla With Bitcoin Could Be A Mistake.  Bitcoin price has seen some serious volatility ever since Elon Musk revealed on Twitter that his company Tesla would begin accepting Bitcoin as a form of payment. Almost immediately, the social media platform was filled with screenshots of those filling orders, but these eager buyers ready to exchange their coins could end up living with [&#8230;] ... [| Skaityti daugiau](https://www.newsbtc.com/news/bitcoin/pizza-day-tesla-buy-bitcoin-btc/) "
      ],
      "text/plain": [
       "<IPython.core.display.Markdown object>"
      ]
     },
     "execution_count": 9,
     "metadata": {},
     "output_type": "execute_result"
    }
   ],
   "source": [
    "#hide_input\n",
    "#md('##### {}'.format(titleBTC)) \n",
    "md(\"- {}{} {}{} [| Skaityti daugiau]({}) \".format(exchange['title'],'. ', exchange['body'], ' ...', exchange['url']))"
   ]
  },
  {
   "cell_type": "code",
   "execution_count": null,
   "id": "tender-livestock",
   "metadata": {
    "papermill": {
     "duration": 0.012631,
     "end_time": "2021-03-27T02:05:50.790569",
     "exception": false,
     "start_time": "2021-03-27T02:05:50.777938",
     "status": "completed"
    },
    "tags": []
   },
   "outputs": [],
   "source": []
  },
  {
   "cell_type": "code",
   "execution_count": null,
   "id": "appreciated-diamond",
   "metadata": {
    "papermill": {
     "duration": 0.014782,
     "end_time": "2021-03-27T02:05:50.818174",
     "exception": false,
     "start_time": "2021-03-27T02:05:50.803392",
     "status": "completed"
    },
    "tags": []
   },
   "outputs": [],
   "source": []
  },
  {
   "cell_type": "code",
   "execution_count": null,
   "id": "romance-sweden",
   "metadata": {
    "papermill": {
     "duration": 0.013104,
     "end_time": "2021-03-27T02:05:50.844247",
     "exception": false,
     "start_time": "2021-03-27T02:05:50.831143",
     "status": "completed"
    },
    "tags": []
   },
   "outputs": [],
   "source": []
  },
  {
   "cell_type": "code",
   "execution_count": null,
   "id": "dietary-statistics",
   "metadata": {
    "papermill": {
     "duration": 0.012862,
     "end_time": "2021-03-27T02:05:50.870690",
     "exception": false,
     "start_time": "2021-03-27T02:05:50.857828",
     "status": "completed"
    },
    "tags": []
   },
   "outputs": [],
   "source": []
  }
 ],
 "metadata": {
  "kernelspec": {
   "display_name": "Python 3",
   "language": "python",
   "name": "python3"
  },
  "language_info": {
   "codemirror_mode": {
    "name": "ipython",
    "version": 3
   },
   "file_extension": ".py",
   "mimetype": "text/x-python",
   "name": "python",
   "nbconvert_exporter": "python",
   "pygments_lexer": "ipython3",
   "version": "3.6.13"
  },
  "papermill": {
   "default_parameters": {},
   "duration": 13.357794,
   "end_time": "2021-03-27T02:05:52.336266",
   "environment_variables": {},
   "exception": null,
   "input_path": "Market-News.ipynb",
   "output_path": "Market-News.ipynb",
   "parameters": {},
   "start_time": "2021-03-27T02:05:38.978472",
   "version": "2.2.2"
  }
 },
 "nbformat": 4,
 "nbformat_minor": 5
}