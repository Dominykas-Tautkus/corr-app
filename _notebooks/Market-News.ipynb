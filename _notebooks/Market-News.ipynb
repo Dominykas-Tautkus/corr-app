{
 "cells": [
  {
   "cell_type": "markdown",
   "id": "short-greensboro",
   "metadata": {
    "papermill": {
     "duration": 0.014732,
     "end_time": "2021-03-24T01:52:57.302512",
     "exception": false,
     "start_time": "2021-03-24T01:52:57.287780",
     "status": "completed"
    },
    "tags": []
   },
   "source": [
    "# Kriptovaliutų naujienos"
   ]
  },
  {
   "cell_type": "code",
   "execution_count": 1,
   "id": "functioning-knowing",
   "metadata": {
    "execution": {
     "iopub.execute_input": "2021-03-24T01:52:57.336758Z",
     "iopub.status.busy": "2021-03-24T01:52:57.336091Z",
     "iopub.status.idle": "2021-03-24T01:52:58.719856Z",
     "shell.execute_reply": "2021-03-24T01:52:58.719332Z"
    },
    "papermill": {
     "duration": 1.405851,
     "end_time": "2021-03-24T01:52:58.720022",
     "exception": false,
     "start_time": "2021-03-24T01:52:57.314171",
     "status": "completed"
    },
    "tags": []
   },
   "outputs": [],
   "source": [
    "#hide_input\n",
    "import warnings\n",
    "warnings.filterwarnings('ignore')\n",
    "from scripts.read_data import read_api\n",
    "from scripts.read_data import read_news\n",
    "from scripts.read_data import read_covid\n",
    "import matplotlib.pyplot as plt \n",
    "from IPython.display import Markdown as md"
   ]
  },
  {
   "cell_type": "code",
   "execution_count": 2,
   "id": "shared-acceptance",
   "metadata": {
    "execution": {
     "iopub.execute_input": "2021-03-24T01:52:58.750228Z",
     "iopub.status.busy": "2021-03-24T01:52:58.749075Z",
     "iopub.status.idle": "2021-03-24T01:53:06.908458Z",
     "shell.execute_reply": "2021-03-24T01:53:06.907858Z"
    },
    "papermill": {
     "duration": 8.177006,
     "end_time": "2021-03-24T01:53:06.908621",
     "exception": false,
     "start_time": "2021-03-24T01:52:58.731615",
     "status": "completed"
    },
    "tags": []
   },
   "outputs": [],
   "source": [
    "#hide_input\n",
    "blockchain = read_news('blockchain') \n",
    "btc = read_news('btc') \n",
    "xrp = read_news('xrp') \n",
    "trx = read_news('trx') \n",
    "eth = read_news('eth')  \n",
    "ada = read_news('ada')\n",
    "exchange = read_news('exchange') "
   ]
  },
  {
   "cell_type": "code",
   "execution_count": 3,
   "id": "synthetic-notion",
   "metadata": {
    "execution": {
     "iopub.execute_input": "2021-03-24T01:53:06.935823Z",
     "iopub.status.busy": "2021-03-24T01:53:06.935068Z",
     "iopub.status.idle": "2021-03-24T01:53:06.943147Z",
     "shell.execute_reply": "2021-03-24T01:53:06.943671Z"
    },
    "papermill": {
     "duration": 0.023168,
     "end_time": "2021-03-24T01:53:06.943801",
     "exception": false,
     "start_time": "2021-03-24T01:53:06.920633",
     "status": "completed"
    },
    "tags": []
   },
   "outputs": [
    {
     "data": {
      "text/markdown": [
       "- Uniswap V3 to launch on Ethereum mainnet by May.  A surge in participation in decentralized finance and decentralized exchanges has increased competition among projects especially to improve liquidity offerings. Uniswap Labs released an overview of the upcoming Uniswap Protocol v3. According to a release shared with AMBCrypto, this new feature aims to “increase capital efficiency and trade execution quality.” The new protocol is scheduled [&#8230;] ... [| Skaityti daugiau](https://ambcrypto.com/uniswap-v3-to-launch-on-ethereum-mainnet-by-may/) "
      ],
      "text/plain": [
       "<IPython.core.display.Markdown object>"
      ]
     },
     "execution_count": 3,
     "metadata": {},
     "output_type": "execute_result"
    }
   ],
   "source": [
    "#hide_input\n",
    "#md('##### {}'.format(titleBTC)) \n",
    "md(\"- {}{} {}{} [| Skaityti daugiau]({}) \".format(blockchain['title'],'. ', blockchain['body'], ' ...', blockchain['url']))"
   ]
  },
  {
   "cell_type": "code",
   "execution_count": 4,
   "id": "aging-caution",
   "metadata": {
    "execution": {
     "iopub.execute_input": "2021-03-24T01:53:06.973855Z",
     "iopub.status.busy": "2021-03-24T01:53:06.973163Z",
     "iopub.status.idle": "2021-03-24T01:53:06.975715Z",
     "shell.execute_reply": "2021-03-24T01:53:06.976176Z"
    },
    "papermill": {
     "duration": 0.020262,
     "end_time": "2021-03-24T01:53:06.976310",
     "exception": false,
     "start_time": "2021-03-24T01:53:06.956048",
     "status": "completed"
    },
    "tags": []
   },
   "outputs": [
    {
     "data": {
      "text/markdown": [
       "- Analysts still 'bullish on April’ despite Bitcoin price drop to $54K.  Pro traders and analysts view Bitcoin’s dip below $54,000 as another bullish buy-the-dip opportunity. ... [| Skaityti daugiau](https://cointelegraph.com/news/analysts-still-bullish-on-april-despite-bitcoin-price-drop-to-54k) "
      ],
      "text/plain": [
       "<IPython.core.display.Markdown object>"
      ]
     },
     "execution_count": 4,
     "metadata": {},
     "output_type": "execute_result"
    }
   ],
   "source": [
    "#hide_input\n",
    "#md('##### {}'.format(titleBTC)) \n",
    "md(\"- {}{} {}{} [| Skaityti daugiau]({}) \".format(btc['title'],'. ', btc['body'], ' ...', btc['url']))"
   ]
  },
  {
   "cell_type": "code",
   "execution_count": 5,
   "id": "organic-actress",
   "metadata": {
    "execution": {
     "iopub.execute_input": "2021-03-24T01:53:07.007272Z",
     "iopub.status.busy": "2021-03-24T01:53:07.006694Z",
     "iopub.status.idle": "2021-03-24T01:53:07.010114Z",
     "shell.execute_reply": "2021-03-24T01:53:07.009626Z"
    },
    "papermill": {
     "duration": 0.02197,
     "end_time": "2021-03-24T01:53:07.010215",
     "exception": false,
     "start_time": "2021-03-24T01:53:06.988245",
     "status": "completed"
    },
    "tags": []
   },
   "outputs": [
    {
     "data": {
      "text/markdown": [
       "- Ripple Price Analysis: XRP Eyes $0.60 Following a 30% Weekly Surge.  While the overall market tumbles, XRP is up by a solid 5.5% today as the coin reached $0.578. Against Bitcoin, XRP is also performing well. ... [| Skaityti daugiau](https://cryptopotato.com/ripple-price-analysis-xrp-eyes-0-60-following-a-30-weekly-surge/) "
      ],
      "text/plain": [
       "<IPython.core.display.Markdown object>"
      ]
     },
     "execution_count": 5,
     "metadata": {},
     "output_type": "execute_result"
    }
   ],
   "source": [
    "#hide_input\n",
    "#md('##### {}'.format(titleBTC)) \n",
    "md(\"- {}{} {}{} [| Skaityti daugiau]({}) \".format(xrp['title'],'. ', xrp['body'], ' ...', xrp['url']))"
   ]
  },
  {
   "cell_type": "code",
   "execution_count": 6,
   "id": "prompt-farmer",
   "metadata": {
    "execution": {
     "iopub.execute_input": "2021-03-24T01:53:07.038775Z",
     "iopub.status.busy": "2021-03-24T01:53:07.038062Z",
     "iopub.status.idle": "2021-03-24T01:53:07.040784Z",
     "shell.execute_reply": "2021-03-24T01:53:07.041309Z"
    },
    "papermill": {
     "duration": 0.019493,
     "end_time": "2021-03-24T01:53:07.041466",
     "exception": false,
     "start_time": "2021-03-24T01:53:07.021973",
     "status": "completed"
    },
    "tags": []
   },
   "outputs": [
    {
     "data": {
      "text/markdown": [
       "- Tron, Synthetix, STEEM, FTX Token Price Analysis: 23 March.  As market leaders Bitcoin and Ethereum moved deeper into the bearish zone, other altcoins registered losses and scrambled to find support at various levels. Tron hovered just above the $0.058-support, while FTT moved towards the $35-level. SNX continued its descent within a down channel, while STEEM cooled 0ff from its local high. Tron [TRX] An [&#8230;] ... [| Skaityti daugiau](https://ambcrypto.com/tron-synthetix-steem-ftx-token-price-analysis-23-march/) "
      ],
      "text/plain": [
       "<IPython.core.display.Markdown object>"
      ]
     },
     "execution_count": 6,
     "metadata": {},
     "output_type": "execute_result"
    }
   ],
   "source": [
    "#hide_input\n",
    "#md('##### {}'.format(titleBTC)) \n",
    "md(\"- {}{} {}{} [| Skaityti daugiau]({}) \".format(trx['title'],'. ', trx['body'], ' ...', trx['url']))"
   ]
  },
  {
   "cell_type": "code",
   "execution_count": 7,
   "id": "illegal-greece",
   "metadata": {
    "execution": {
     "iopub.execute_input": "2021-03-24T01:53:07.072705Z",
     "iopub.status.busy": "2021-03-24T01:53:07.072015Z",
     "iopub.status.idle": "2021-03-24T01:53:07.074587Z",
     "shell.execute_reply": "2021-03-24T01:53:07.075110Z"
    },
    "papermill": {
     "duration": 0.022313,
     "end_time": "2021-03-24T01:53:07.077049",
     "exception": false,
     "start_time": "2021-03-24T01:53:07.054736",
     "status": "completed"
    },
    "tags": []
   },
   "outputs": [
    {
     "data": {
      "text/markdown": [
       "- Five Signs Litecoin Has Bottomed, Next In Line For New ATH.  Litecoin during the last cycle was as popular and hyped as other top cryptocurrencies Bitcoin and Ethereum. This time around, however, the coin called digital silver isn&#8217;t performing anywhere nearly as well as its digital gold counterpart or even other altcoins. Whatever has been causing the lag behind the rest of the market, there are [&#8230;] ... [| Skaityti daugiau](https://www.newsbtc.com/analysis/ltc/five-litecoin-bottomed-next-new-ath/) "
      ],
      "text/plain": [
       "<IPython.core.display.Markdown object>"
      ]
     },
     "execution_count": 7,
     "metadata": {},
     "output_type": "execute_result"
    }
   ],
   "source": [
    "#hide_input\n",
    "#md('##### {}'.format(titleBTC)) \n",
    "md(\"- {}{} {}{} [| Skaityti daugiau]({}) \".format(eth['title'],'. ', eth['body'], ' ...', eth['url']))"
   ]
  },
  {
   "cell_type": "code",
   "execution_count": 8,
   "id": "sublime-lounge",
   "metadata": {
    "execution": {
     "iopub.execute_input": "2021-03-24T01:53:07.108825Z",
     "iopub.status.busy": "2021-03-24T01:53:07.108081Z",
     "iopub.status.idle": "2021-03-24T01:53:07.113211Z",
     "shell.execute_reply": "2021-03-24T01:53:07.113800Z"
    },
    "papermill": {
     "duration": 0.023838,
     "end_time": "2021-03-24T01:53:07.113931",
     "exception": false,
     "start_time": "2021-03-24T01:53:07.090093",
     "status": "completed"
    },
    "tags": []
   },
   "outputs": [
    {
     "data": {
      "text/markdown": [
       "- Charles Hoskinson Blasts Cardano FUD, Says DeFi Projects May Move to ADA.  Cardano creator Charles Hoskinson is addressing the fear, uncertainty, and doubt (FUD) surrounding the fifth-largest cryptocurrency by market cap amid its meteoric rise. In a new Periscope stream, Hoskinson blasts naysayers for spreading rumors that Cardano is a ghost chain or a platform without a use case. &#8220;Despite the fact that we don’t have full [&#8230;]The post Charles Hoskinson Blasts Cardano FUD, Says DeFi Projects May Move to ADA appeared first on The Daily Hodl. ... [| Skaityti daugiau](https://dailyhodl.com/2021/03/23/charles-hoskinson-blasts-cardano-fud-says-defi-projects-may-move-to-ada/) "
      ],
      "text/plain": [
       "<IPython.core.display.Markdown object>"
      ]
     },
     "execution_count": 8,
     "metadata": {},
     "output_type": "execute_result"
    }
   ],
   "source": [
    "#hide_input\n",
    "#md('##### {}'.format(titleBTC)) \n",
    "md(\"- {}{} {}{} [| Skaityti daugiau]({}) \".format(ada['title'],'. ', ada['body'], ' ...', ada['url']))"
   ]
  },
  {
   "cell_type": "code",
   "execution_count": 9,
   "id": "specified-ordering",
   "metadata": {
    "execution": {
     "iopub.execute_input": "2021-03-24T01:53:07.145792Z",
     "iopub.status.busy": "2021-03-24T01:53:07.145056Z",
     "iopub.status.idle": "2021-03-24T01:53:07.149428Z",
     "shell.execute_reply": "2021-03-24T01:53:07.148896Z"
    },
    "papermill": {
     "duration": 0.022032,
     "end_time": "2021-03-24T01:53:07.149543",
     "exception": false,
     "start_time": "2021-03-24T01:53:07.127511",
     "status": "completed"
    },
    "tags": []
   },
   "outputs": [
    {
     "data": {
      "text/markdown": [
       "- FTX set to secure naming rights to Miami NBA stadium until 2040.  Cryptocurrency exchange FTX is on the brink of securing naming rights to Miami Heat’s stadium until 2040.  ... [| Skaityti daugiau](https://cointelegraph.com/news/ftx-set-to-secure-naming-rights-to-miami-nba-stadium-until-2040) "
      ],
      "text/plain": [
       "<IPython.core.display.Markdown object>"
      ]
     },
     "execution_count": 9,
     "metadata": {},
     "output_type": "execute_result"
    }
   ],
   "source": [
    "#hide_input\n",
    "#md('##### {}'.format(titleBTC)) \n",
    "md(\"- {}{} {}{} [| Skaityti daugiau]({}) \".format(exchange['title'],'. ', exchange['body'], ' ...', exchange['url']))"
   ]
  },
  {
   "cell_type": "code",
   "execution_count": null,
   "id": "tender-livestock",
   "metadata": {
    "papermill": {
     "duration": 0.013809,
     "end_time": "2021-03-24T01:53:07.177335",
     "exception": false,
     "start_time": "2021-03-24T01:53:07.163526",
     "status": "completed"
    },
    "tags": []
   },
   "outputs": [],
   "source": []
  },
  {
   "cell_type": "code",
   "execution_count": null,
   "id": "appreciated-diamond",
   "metadata": {
    "papermill": {
     "duration": 0.01603,
     "end_time": "2021-03-24T01:53:07.208491",
     "exception": false,
     "start_time": "2021-03-24T01:53:07.192461",
     "status": "completed"
    },
    "tags": []
   },
   "outputs": [],
   "source": []
  },
  {
   "cell_type": "code",
   "execution_count": null,
   "id": "romance-sweden",
   "metadata": {
    "papermill": {
     "duration": 0.013828,
     "end_time": "2021-03-24T01:53:07.236712",
     "exception": false,
     "start_time": "2021-03-24T01:53:07.222884",
     "status": "completed"
    },
    "tags": []
   },
   "outputs": [],
   "source": []
  },
  {
   "cell_type": "code",
   "execution_count": null,
   "id": "dietary-statistics",
   "metadata": {
    "papermill": {
     "duration": 0.013946,
     "end_time": "2021-03-24T01:53:07.265366",
     "exception": false,
     "start_time": "2021-03-24T01:53:07.251420",
     "status": "completed"
    },
    "tags": []
   },
   "outputs": [],
   "source": []
  }
 ],
 "metadata": {
  "kernelspec": {
   "display_name": "Python 3",
   "language": "python",
   "name": "python3"
  },
  "language_info": {
   "codemirror_mode": {
    "name": "ipython",
    "version": 3
   },
   "file_extension": ".py",
   "mimetype": "text/x-python",
   "name": "python",
   "nbconvert_exporter": "python",
   "pygments_lexer": "ipython3",
   "version": "3.6.13"
  },
  "papermill": {
   "default_parameters": {},
   "duration": 11.699297,
   "end_time": "2021-03-24T01:53:07.687359",
   "environment_variables": {},
   "exception": null,
   "input_path": "Market-News.ipynb",
   "output_path": "Market-News.ipynb",
   "parameters": {},
   "start_time": "2021-03-24T01:52:55.988062",
   "version": "2.2.2"
  }
 },
 "nbformat": 4,
 "nbformat_minor": 5
}