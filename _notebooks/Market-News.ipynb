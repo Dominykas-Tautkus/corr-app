{
 "cells": [
  {
   "cell_type": "markdown",
   "id": "short-greensboro",
   "metadata": {
    "papermill": {
     "duration": 0.01447,
     "end_time": "2021-03-25T02:29:17.193384",
     "exception": false,
     "start_time": "2021-03-25T02:29:17.178914",
     "status": "completed"
    },
    "tags": []
   },
   "source": [
    "# Kriptovaliutų naujienos"
   ]
  },
  {
   "cell_type": "code",
   "execution_count": 1,
   "id": "functioning-knowing",
   "metadata": {
    "execution": {
     "iopub.execute_input": "2021-03-25T02:29:17.226748Z",
     "iopub.status.busy": "2021-03-25T02:29:17.226033Z",
     "iopub.status.idle": "2021-03-25T02:29:18.543665Z",
     "shell.execute_reply": "2021-03-25T02:29:18.543001Z"
    },
    "papermill": {
     "duration": 1.33947,
     "end_time": "2021-03-25T02:29:18.543837",
     "exception": false,
     "start_time": "2021-03-25T02:29:17.204367",
     "status": "completed"
    },
    "tags": []
   },
   "outputs": [],
   "source": [
    "#hide_input\n",
    "import warnings\n",
    "warnings.filterwarnings('ignore')\n",
    "from scripts.read_data import read_api\n",
    "from scripts.read_data import read_news\n",
    "from scripts.read_data import read_covid\n",
    "import matplotlib.pyplot as plt \n",
    "from IPython.display import Markdown as md"
   ]
  },
  {
   "cell_type": "code",
   "execution_count": 2,
   "id": "shared-acceptance",
   "metadata": {
    "execution": {
     "iopub.execute_input": "2021-03-25T02:29:18.573154Z",
     "iopub.status.busy": "2021-03-25T02:29:18.572226Z",
     "iopub.status.idle": "2021-03-25T02:29:27.774676Z",
     "shell.execute_reply": "2021-03-25T02:29:27.775520Z"
    },
    "papermill": {
     "duration": 9.219886,
     "end_time": "2021-03-25T02:29:27.775679",
     "exception": false,
     "start_time": "2021-03-25T02:29:18.555793",
     "status": "completed"
    },
    "tags": []
   },
   "outputs": [],
   "source": [
    "#hide_input\n",
    "blockchain = read_news('blockchain') \n",
    "btc = read_news('btc') \n",
    "xrp = read_news('xrp') \n",
    "trx = read_news('trx') \n",
    "eth = read_news('eth')  \n",
    "ada = read_news('ada')\n",
    "exchange = read_news('exchange') "
   ]
  },
  {
   "cell_type": "code",
   "execution_count": 3,
   "id": "synthetic-notion",
   "metadata": {
    "execution": {
     "iopub.execute_input": "2021-03-25T02:29:27.802863Z",
     "iopub.status.busy": "2021-03-25T02:29:27.802298Z",
     "iopub.status.idle": "2021-03-25T02:29:27.804688Z",
     "shell.execute_reply": "2021-03-25T02:29:27.805238Z"
    },
    "papermill": {
     "duration": 0.019057,
     "end_time": "2021-03-25T02:29:27.805372",
     "exception": false,
     "start_time": "2021-03-25T02:29:27.786315",
     "status": "completed"
    },
    "tags": []
   },
   "outputs": [
    {
     "data": {
      "text/markdown": [
       "- Starkware Raises $75 Million for Scaling Products.   ... [| Skaityti daugiau](https://cryptobriefing.com/starkware-raises-75-million-for-scaling-products/) "
      ],
      "text/plain": [
       "<IPython.core.display.Markdown object>"
      ]
     },
     "execution_count": 3,
     "metadata": {},
     "output_type": "execute_result"
    }
   ],
   "source": [
    "#hide_input\n",
    "#md('##### {}'.format(titleBTC)) \n",
    "md(\"- {}{} {}{} [| Skaityti daugiau]({}) \".format(blockchain['title'],'. ', blockchain['body'], ' ...', blockchain['url']))"
   ]
  },
  {
   "cell_type": "code",
   "execution_count": 4,
   "id": "aging-caution",
   "metadata": {
    "execution": {
     "iopub.execute_input": "2021-03-25T02:29:27.831505Z",
     "iopub.status.busy": "2021-03-25T02:29:27.830787Z",
     "iopub.status.idle": "2021-03-25T02:29:27.833253Z",
     "shell.execute_reply": "2021-03-25T02:29:27.833789Z"
    },
    "papermill": {
     "duration": 0.017802,
     "end_time": "2021-03-25T02:29:27.833933",
     "exception": false,
     "start_time": "2021-03-25T02:29:27.816131",
     "status": "completed"
    },
    "tags": []
   },
   "outputs": [
    {
     "data": {
      "text/markdown": [
       "- Fidelity Files for Bitcoin ETF as Institutional Demand Dries Up.  In a filing with the U.S. Securities and Exchange Commission (SEC), asset management firm Fidelity indicated their intention to create a Bitcoin exchange-traded fund (ETF). The Wise Origin Bitcoin ETF is the latest addition to the growing number of ETFs looking to launch crypto-based financial products in the United States. If approved, the ETF will utilise Fidelity’s in-house BTC price index alongside the firm’s Digital Assets arm. Fidelity stated that its “objective is to seek [&#8230;] ... [| Skaityti daugiau](https://bitcoinist.com/fidelity-files-for-bitcoin-etf-as-institutional-demand-dries-up/?utm_source=rss&utm_medium=rss&utm_campaign=fidelity-files-for-bitcoin-etf-as-institutional-demand-dries-up) "
      ],
      "text/plain": [
       "<IPython.core.display.Markdown object>"
      ]
     },
     "execution_count": 4,
     "metadata": {},
     "output_type": "execute_result"
    }
   ],
   "source": [
    "#hide_input\n",
    "#md('##### {}'.format(titleBTC)) \n",
    "md(\"- {}{} {}{} [| Skaityti daugiau]({}) \".format(btc['title'],'. ', btc['body'], ' ...', btc['url']))"
   ]
  },
  {
   "cell_type": "code",
   "execution_count": 5,
   "id": "organic-actress",
   "metadata": {
    "execution": {
     "iopub.execute_input": "2021-03-25T02:29:27.859785Z",
     "iopub.status.busy": "2021-03-25T02:29:27.859252Z",
     "iopub.status.idle": "2021-03-25T02:29:27.864372Z",
     "shell.execute_reply": "2021-03-25T02:29:27.864755Z"
    },
    "papermill": {
     "duration": 0.020144,
     "end_time": "2021-03-25T02:29:27.864861",
     "exception": false,
     "start_time": "2021-03-25T02:29:27.844717",
     "status": "completed"
    },
    "tags": []
   },
   "outputs": [
    {
     "data": {
      "text/markdown": [
       "- XRP Army Wants Crypto Exchanges to Relist the Digital Asset.  It appears Ripple is geared towards more vigorous days. XRP holders and enthusiasts continue to champion the network despite the ongoing lawsuit and court battle with the Securities and Exchange Commission (SEC). #RelistXRP The fandom, popular known as the &#8220;XRP Army,&#8221; has recently launched a series of online movements. This move aims to seek the [&#8230;] ... [| Skaityti daugiau](https://zycrypto.com/xrp-army-wants-crypto-exchanges-to-relist-the-digital-asset/) "
      ],
      "text/plain": [
       "<IPython.core.display.Markdown object>"
      ]
     },
     "execution_count": 5,
     "metadata": {},
     "output_type": "execute_result"
    }
   ],
   "source": [
    "#hide_input\n",
    "#md('##### {}'.format(titleBTC)) \n",
    "md(\"- {}{} {}{} [| Skaityti daugiau]({}) \".format(xrp['title'],'. ', xrp['body'], ' ...', xrp['url']))"
   ]
  },
  {
   "cell_type": "code",
   "execution_count": 6,
   "id": "prompt-farmer",
   "metadata": {
    "execution": {
     "iopub.execute_input": "2021-03-25T02:29:27.890514Z",
     "iopub.status.busy": "2021-03-25T02:29:27.889655Z",
     "iopub.status.idle": "2021-03-25T02:29:27.893813Z",
     "shell.execute_reply": "2021-03-25T02:29:27.893316Z"
    },
    "papermill": {
     "duration": 0.018142,
     "end_time": "2021-03-25T02:29:27.893923",
     "exception": false,
     "start_time": "2021-03-25T02:29:27.875781",
     "status": "completed"
    },
    "tags": []
   },
   "outputs": [
    {
     "data": {
      "text/markdown": [
       "- Tron (TRX) Price Analysis: Key Support Intact Near $0.055.  Tron price rallied towards the $0.0680 zone before correcting lower against the US Dollar. TRX price is now trading above the $0.0575 support and the 55 simple moving average (4-hours). There is a major contracting triangle forming with support near $0.0580 on the 4-hours chart (data feed via Bitfinex). The pair could start a fresh...The post Tron (TRX) Price Analysis: Key Support Intact Near $0.055 appeared first on Live Bitcoin News. ... [| Skaityti daugiau](https://www.livebitcoinnews.com/tron-trx-price-analysis-key-support-intact-near-0-055/) "
      ],
      "text/plain": [
       "<IPython.core.display.Markdown object>"
      ]
     },
     "execution_count": 6,
     "metadata": {},
     "output_type": "execute_result"
    }
   ],
   "source": [
    "#hide_input\n",
    "#md('##### {}'.format(titleBTC)) \n",
    "md(\"- {}{} {}{} [| Skaityti daugiau]({}) \".format(trx['title'],'. ', trx['body'], ' ...', trx['url']))"
   ]
  },
  {
   "cell_type": "code",
   "execution_count": 7,
   "id": "illegal-greece",
   "metadata": {
    "execution": {
     "iopub.execute_input": "2021-03-25T02:29:27.920705Z",
     "iopub.status.busy": "2021-03-25T02:29:27.920164Z",
     "iopub.status.idle": "2021-03-25T02:29:27.922274Z",
     "shell.execute_reply": "2021-03-25T02:29:27.922721Z"
    },
    "papermill": {
     "duration": 0.017823,
     "end_time": "2021-03-25T02:29:27.922834",
     "exception": false,
     "start_time": "2021-03-25T02:29:27.905011",
     "status": "completed"
    },
    "tags": []
   },
   "outputs": [
    {
     "data": {
      "text/markdown": [
       "- Welcome to the Juungle: A Bitcoin Cash NFT Market That Allows Anyone Buy and Sell Unique SLP Collectibles.  Non-fungible token (NFT) collectibles have been seeing relentless demand and publicity these days. While the Ethereum network has been the dominant force in this space, a great number of alternative blockchains have been introducing NFT support. In recent weeks, Bitcoin Cash proponents have been leveraging an NFT marketplace called juungle.net. The marketplace has a myriad [&#8230;] ... [| Skaityti daugiau](https://news.bitcoin.com/welcome-to-the-juungle-a-bitcoin-cash-nft-market-that-allows-anyone-buy-and-sell-unique-slp-collectibles/) "
      ],
      "text/plain": [
       "<IPython.core.display.Markdown object>"
      ]
     },
     "execution_count": 7,
     "metadata": {},
     "output_type": "execute_result"
    }
   ],
   "source": [
    "#hide_input\n",
    "#md('##### {}'.format(titleBTC)) \n",
    "md(\"- {}{} {}{} [| Skaityti daugiau]({}) \".format(eth['title'],'. ', eth['body'], ' ...', eth['url']))"
   ]
  },
  {
   "cell_type": "code",
   "execution_count": 8,
   "id": "sublime-lounge",
   "metadata": {
    "execution": {
     "iopub.execute_input": "2021-03-25T02:29:27.949255Z",
     "iopub.status.busy": "2021-03-25T02:29:27.948406Z",
     "iopub.status.idle": "2021-03-25T02:29:27.952492Z",
     "shell.execute_reply": "2021-03-25T02:29:27.952032Z"
    },
    "papermill": {
     "duration": 0.018789,
     "end_time": "2021-03-25T02:29:27.952593",
     "exception": false,
     "start_time": "2021-03-25T02:29:27.933804",
     "status": "completed"
    },
    "tags": []
   },
   "outputs": [
    {
     "data": {
      "text/markdown": [
       "- Price analysis 3/24: BTC, ETH, BNB, ADA, DOT, XRP, UNI, THETA, LTC, LINK.  Bitcoin price is still meeting strong sell pressure near a key trendline, indicating the possibility of further downside for BTC and altcoins in the coming days.  ... [| Skaityti daugiau](https://cointelegraph.com/news/price-analysis-3-24-btc-eth-bnb-ada-dot-xrp-uni-theta-ltc-link) "
      ],
      "text/plain": [
       "<IPython.core.display.Markdown object>"
      ]
     },
     "execution_count": 8,
     "metadata": {},
     "output_type": "execute_result"
    }
   ],
   "source": [
    "#hide_input\n",
    "#md('##### {}'.format(titleBTC)) \n",
    "md(\"- {}{} {}{} [| Skaityti daugiau]({}) \".format(ada['title'],'. ', ada['body'], ' ...', ada['url']))"
   ]
  },
  {
   "cell_type": "code",
   "execution_count": 9,
   "id": "specified-ordering",
   "metadata": {
    "execution": {
     "iopub.execute_input": "2021-03-25T02:29:27.980096Z",
     "iopub.status.busy": "2021-03-25T02:29:27.979422Z",
     "iopub.status.idle": "2021-03-25T02:29:27.982974Z",
     "shell.execute_reply": "2021-03-25T02:29:27.982439Z"
    },
    "papermill": {
     "duration": 0.018398,
     "end_time": "2021-03-25T02:29:27.983105",
     "exception": false,
     "start_time": "2021-03-25T02:29:27.964707",
     "status": "completed"
    },
    "tags": []
   },
   "outputs": [
    {
     "data": {
      "text/markdown": [
       "- Fidelity Files for Bitcoin ETF as Institutional Demand Dries Up.  In a filing with the U.S. Securities and Exchange Commission (SEC), asset management firm Fidelity indicated their intention to create a Bitcoin exchange-traded fund (ETF). The Wise Origin Bitcoin ETF is the latest addition to the growing number of ETFs looking to launch crypto-based financial products in the United States. If approved, the ETF will utilise Fidelity’s in-house BTC price index alongside the firm’s Digital Assets arm. Fidelity stated that its “objective is to seek [&#8230;] ... [| Skaityti daugiau](https://bitcoinist.com/fidelity-files-for-bitcoin-etf-as-institutional-demand-dries-up/?utm_source=rss&utm_medium=rss&utm_campaign=fidelity-files-for-bitcoin-etf-as-institutional-demand-dries-up) "
      ],
      "text/plain": [
       "<IPython.core.display.Markdown object>"
      ]
     },
     "execution_count": 9,
     "metadata": {},
     "output_type": "execute_result"
    }
   ],
   "source": [
    "#hide_input\n",
    "#md('##### {}'.format(titleBTC)) \n",
    "md(\"- {}{} {}{} [| Skaityti daugiau]({}) \".format(exchange['title'],'. ', exchange['body'], ' ...', exchange['url']))"
   ]
  },
  {
   "cell_type": "code",
   "execution_count": null,
   "id": "tender-livestock",
   "metadata": {
    "papermill": {
     "duration": 0.014498,
     "end_time": "2021-03-25T02:29:28.011958",
     "exception": false,
     "start_time": "2021-03-25T02:29:27.997460",
     "status": "completed"
    },
    "tags": []
   },
   "outputs": [],
   "source": []
  },
  {
   "cell_type": "code",
   "execution_count": null,
   "id": "appreciated-diamond",
   "metadata": {
    "papermill": {
     "duration": 0.013299,
     "end_time": "2021-03-25T02:29:28.039873",
     "exception": false,
     "start_time": "2021-03-25T02:29:28.026574",
     "status": "completed"
    },
    "tags": []
   },
   "outputs": [],
   "source": []
  },
  {
   "cell_type": "code",
   "execution_count": null,
   "id": "romance-sweden",
   "metadata": {
    "papermill": {
     "duration": 0.012829,
     "end_time": "2021-03-25T02:29:28.064938",
     "exception": false,
     "start_time": "2021-03-25T02:29:28.052109",
     "status": "completed"
    },
    "tags": []
   },
   "outputs": [],
   "source": []
  },
  {
   "cell_type": "code",
   "execution_count": null,
   "id": "dietary-statistics",
   "metadata": {
    "papermill": {
     "duration": 0.01274,
     "end_time": "2021-03-25T02:29:28.090648",
     "exception": false,
     "start_time": "2021-03-25T02:29:28.077908",
     "status": "completed"
    },
    "tags": []
   },
   "outputs": [],
   "source": []
  }
 ],
 "metadata": {
  "kernelspec": {
   "display_name": "Python 3",
   "language": "python",
   "name": "python3"
  },
  "language_info": {
   "codemirror_mode": {
    "name": "ipython",
    "version": 3
   },
   "file_extension": ".py",
   "mimetype": "text/x-python",
   "name": "python",
   "nbconvert_exporter": "python",
   "pygments_lexer": "ipython3",
   "version": "3.6.13"
  },
  "papermill": {
   "default_parameters": {},
   "duration": 13.324883,
   "end_time": "2021-03-25T02:29:29.422480",
   "environment_variables": {},
   "exception": null,
   "input_path": "Market-News.ipynb",
   "output_path": "Market-News.ipynb",
   "parameters": {},
   "start_time": "2021-03-25T02:29:16.097597",
   "version": "2.2.2"
  }
 },
 "nbformat": 4,
 "nbformat_minor": 5
}