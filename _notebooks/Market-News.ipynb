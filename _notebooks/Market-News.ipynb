{
 "cells": [
  {
   "cell_type": "markdown",
   "id": "short-greensboro",
   "metadata": {
    "papermill": {
     "duration": 0.01235,
     "end_time": "2021-02-26T01:42:25.748120",
     "exception": false,
     "start_time": "2021-02-26T01:42:25.735770",
     "status": "completed"
    },
    "tags": []
   },
   "source": [
    "# Kriptovaliutų naujienos"
   ]
  },
  {
   "cell_type": "code",
   "execution_count": 1,
   "id": "functioning-knowing",
   "metadata": {
    "execution": {
     "iopub.execute_input": "2021-02-26T01:42:25.778275Z",
     "iopub.status.busy": "2021-02-26T01:42:25.777724Z",
     "iopub.status.idle": "2021-02-26T01:42:26.927140Z",
     "shell.execute_reply": "2021-02-26T01:42:26.927570Z"
    },
    "papermill": {
     "duration": 1.169814,
     "end_time": "2021-02-26T01:42:26.927732",
     "exception": false,
     "start_time": "2021-02-26T01:42:25.757918",
     "status": "completed"
    },
    "tags": []
   },
   "outputs": [],
   "source": [
    "#hide_input\n",
    "import warnings\n",
    "warnings.filterwarnings('ignore')\n",
    "from scripts.read_data import read_api\n",
    "from scripts.read_data import read_news\n",
    "from scripts.read_data import read_covid\n",
    "import matplotlib.pyplot as plt \n",
    "from IPython.display import Markdown as md"
   ]
  },
  {
   "cell_type": "code",
   "execution_count": 2,
   "id": "shared-acceptance",
   "metadata": {
    "execution": {
     "iopub.execute_input": "2021-02-26T01:42:26.952768Z",
     "iopub.status.busy": "2021-02-26T01:42:26.951898Z",
     "iopub.status.idle": "2021-02-26T01:42:34.483357Z",
     "shell.execute_reply": "2021-02-26T01:42:34.482466Z"
    },
    "papermill": {
     "duration": 7.546364,
     "end_time": "2021-02-26T01:42:34.483488",
     "exception": false,
     "start_time": "2021-02-26T01:42:26.937124",
     "status": "completed"
    },
    "tags": []
   },
   "outputs": [],
   "source": [
    "#hide_input\n",
    "blockchain = read_news('blockchain') \n",
    "btc = read_news('btc') \n",
    "xrp = read_news('xrp') \n",
    "trx = read_news('trx') \n",
    "eth = read_news('eth')  \n",
    "ada = read_news('ada')\n",
    "exchange = read_news('exchange') "
   ]
  },
  {
   "cell_type": "code",
   "execution_count": 3,
   "id": "synthetic-notion",
   "metadata": {
    "execution": {
     "iopub.execute_input": "2021-02-26T01:42:34.506711Z",
     "iopub.status.busy": "2021-02-26T01:42:34.506208Z",
     "iopub.status.idle": "2021-02-26T01:42:34.510826Z",
     "shell.execute_reply": "2021-02-26T01:42:34.510399Z"
    },
    "papermill": {
     "duration": 0.018232,
     "end_time": "2021-02-26T01:42:34.510940",
     "exception": false,
     "start_time": "2021-02-26T01:42:34.492708",
     "status": "completed"
    },
    "tags": []
   },
   "outputs": [
    {
     "data": {
      "text/markdown": [
       "- SOS Limited Brings Strong U.S.-China Management Into The Cryptocurrency Space.  The explosive, global growth in the cryptocurrency space seems to be launching an increasing number of new and existing companies to \"next-level status.\"Well-known companies such as Square, PayPal, Tesla, MicroStrategy, Overstock, Galaxy, Riot Blockchain, and Marathon Patent are just a few of the successful names currently in the crypto landscape.Some of the recent success stories in crypto are publicly-traded companies that pivoted their business models into the crypto space. SOS Limited plans on being the next major success.SOS Limited is a recent entrant into the cryptocurrency space. The company's chances for success are bolstered by highly accomplished Wall Street veterans combined with top Chinese talent.SOS plans to mine both Bitcoin and Ethereum. SOS also may be the first company to offer crypto insurance, crypto loans, and other crypto-related financial services in the months ahead. ... [| Skaityti daugiau](https://seekingalpha.com/article/4409174-sos-limited-brings-strong-u-s-china-management-cryptocurrency-space?utm_source=cryptocompare.com&utm_medium=referral) "
      ],
      "text/plain": [
       "<IPython.core.display.Markdown object>"
      ]
     },
     "execution_count": 3,
     "metadata": {},
     "output_type": "execute_result"
    }
   ],
   "source": [
    "#hide_input\n",
    "#md('##### {}'.format(titleBTC)) \n",
    "md(\"- {}{} {}{} [| Skaityti daugiau]({}) \".format(blockchain['title'],'. ', blockchain['body'], ' ...', blockchain['url']))"
   ]
  },
  {
   "cell_type": "code",
   "execution_count": 4,
   "id": "aging-caution",
   "metadata": {
    "execution": {
     "iopub.execute_input": "2021-02-26T01:42:34.533417Z",
     "iopub.status.busy": "2021-02-26T01:42:34.532929Z",
     "iopub.status.idle": "2021-02-26T01:42:34.535866Z",
     "shell.execute_reply": "2021-02-26T01:42:34.535442Z"
    },
    "papermill": {
     "duration": 0.015721,
     "end_time": "2021-02-26T01:42:34.535968",
     "exception": false,
     "start_time": "2021-02-26T01:42:34.520247",
     "status": "completed"
    },
    "tags": []
   },
   "outputs": [
    {
     "data": {
      "text/markdown": [
       "- Craig Wright demands that ‘Bitcoin developers’ return him $5 billion in BTC.  Litigation law firm Ontier LLP has initiated legal action on behalf of self-proclaimed Bitcoin (BTC) creator Craig Wright to recover £3.5 billion (roughly $4.95 billion) worth of BTC, according to a document published yesterday. The post Craig Wright demands that ‘Bitcoin developers’ return him $5 billion in BTC appeared first on CryptoSlate. ... [| Skaityti daugiau](https://cryptoslate.com/craig-wright-demands-that-bitcoin-developers-return-him-5-billion-in-btc/) "
      ],
      "text/plain": [
       "<IPython.core.display.Markdown object>"
      ]
     },
     "execution_count": 4,
     "metadata": {},
     "output_type": "execute_result"
    }
   ],
   "source": [
    "#hide_input\n",
    "#md('##### {}'.format(titleBTC)) \n",
    "md(\"- {}{} {}{} [| Skaityti daugiau]({}) \".format(btc['title'],'. ', btc['body'], ' ...', btc['url']))"
   ]
  },
  {
   "cell_type": "code",
   "execution_count": 5,
   "id": "organic-actress",
   "metadata": {
    "execution": {
     "iopub.execute_input": "2021-02-26T01:42:34.559154Z",
     "iopub.status.busy": "2021-02-26T01:42:34.558622Z",
     "iopub.status.idle": "2021-02-26T01:42:34.561656Z",
     "shell.execute_reply": "2021-02-26T01:42:34.561259Z"
    },
    "papermill": {
     "duration": 0.016298,
     "end_time": "2021-02-26T01:42:34.561764",
     "exception": false,
     "start_time": "2021-02-26T01:42:34.545466",
     "status": "completed"
    },
    "tags": []
   },
   "outputs": [
    {
     "data": {
      "text/markdown": [
       "- XRP Price Analysis: 25 February.  XRP formed a bullish pattern on the charts but was quite negatively impacted by Bitcoin&#8217;s tumble of the past few days. News surrounding the SEC lawsuit has not been positive lately either- Moneygram, the US-based money transfer company, recently suspended its partnership with Ripple Labs, citing the ongoing litigation with the SEC. XRP 12-hour chart [&#8230;] ... [| Skaityti daugiau](https://ambcrypto.com/xrp-price-analysis-25-february/) "
      ],
      "text/plain": [
       "<IPython.core.display.Markdown object>"
      ]
     },
     "execution_count": 5,
     "metadata": {},
     "output_type": "execute_result"
    }
   ],
   "source": [
    "#hide_input\n",
    "#md('##### {}'.format(titleBTC)) \n",
    "md(\"- {}{} {}{} [| Skaityti daugiau]({}) \".format(xrp['title'],'. ', xrp['body'], ' ...', xrp['url']))"
   ]
  },
  {
   "cell_type": "code",
   "execution_count": 6,
   "id": "prompt-farmer",
   "metadata": {
    "execution": {
     "iopub.execute_input": "2021-02-26T01:42:34.586219Z",
     "iopub.status.busy": "2021-02-26T01:42:34.585718Z",
     "iopub.status.idle": "2021-02-26T01:42:34.587989Z",
     "shell.execute_reply": "2021-02-26T01:42:34.588412Z"
    },
    "papermill": {
     "duration": 0.016847,
     "end_time": "2021-02-26T01:42:34.588529",
     "exception": false,
     "start_time": "2021-02-26T01:42:34.571682",
     "status": "completed"
    },
    "tags": []
   },
   "outputs": [
    {
     "data": {
      "text/markdown": [
       "- Tron, Synthetix, Crypto.com Coin Price Analysis: 25 February.  While Bitcoin, the world&#8217;s largest cryptocurrency, does have an overwhelming influence on the performance of the market&#8217;s alts, the said influence isn&#8217;t uniform or consistent in any way. This was evidenced by the price movements of alts such as Tron, Synthetix, and Crypto.com Coin over the last 7 days. Tron [TRX] Tron [TRX], the cryptocurrency [&#8230;] ... [| Skaityti daugiau](https://ambcrypto.com/tron-synthetix-crypto-com-coin-price-analysis-25-february/) "
      ],
      "text/plain": [
       "<IPython.core.display.Markdown object>"
      ]
     },
     "execution_count": 6,
     "metadata": {},
     "output_type": "execute_result"
    }
   ],
   "source": [
    "#hide_input\n",
    "#md('##### {}'.format(titleBTC)) \n",
    "md(\"- {}{} {}{} [| Skaityti daugiau]({}) \".format(trx['title'],'. ', trx['body'], ' ...', trx['url']))"
   ]
  },
  {
   "cell_type": "code",
   "execution_count": 7,
   "id": "illegal-greece",
   "metadata": {
    "execution": {
     "iopub.execute_input": "2021-02-26T01:42:34.613127Z",
     "iopub.status.busy": "2021-02-26T01:42:34.612636Z",
     "iopub.status.idle": "2021-02-26T01:42:34.615642Z",
     "shell.execute_reply": "2021-02-26T01:42:34.615241Z"
    },
    "papermill": {
     "duration": 0.016778,
     "end_time": "2021-02-26T01:42:34.615745",
     "exception": false,
     "start_time": "2021-02-26T01:42:34.598967",
     "status": "completed"
    },
    "tags": []
   },
   "outputs": [
    {
     "data": {
      "text/markdown": [
       "- SOS Limited Brings Strong U.S.-China Management Into The Cryptocurrency Space.  The explosive, global growth in the cryptocurrency space seems to be launching an increasing number of new and existing companies to \"next-level status.\"Well-known companies such as Square, PayPal, Tesla, MicroStrategy, Overstock, Galaxy, Riot Blockchain, and Marathon Patent are just a few of the successful names currently in the crypto landscape.Some of the recent success stories in crypto are publicly-traded companies that pivoted their business models into the crypto space. SOS Limited plans on being the next major success.SOS Limited is a recent entrant into the cryptocurrency space. The company's chances for success are bolstered by highly accomplished Wall Street veterans combined with top Chinese talent.SOS plans to mine both Bitcoin and Ethereum. SOS also may be the first company to offer crypto insurance, crypto loans, and other crypto-related financial services in the months ahead. ... [| Skaityti daugiau](https://seekingalpha.com/article/4409174-sos-limited-brings-strong-u-s-china-management-cryptocurrency-space?utm_source=cryptocompare.com&utm_medium=referral) "
      ],
      "text/plain": [
       "<IPython.core.display.Markdown object>"
      ]
     },
     "execution_count": 7,
     "metadata": {},
     "output_type": "execute_result"
    }
   ],
   "source": [
    "#hide_input\n",
    "#md('##### {}'.format(titleBTC)) \n",
    "md(\"- {}{} {}{} [| Skaityti daugiau]({}) \".format(eth['title'],'. ', eth['body'], ' ...', eth['url']))"
   ]
  },
  {
   "cell_type": "code",
   "execution_count": 8,
   "id": "sublime-lounge",
   "metadata": {
    "execution": {
     "iopub.execute_input": "2021-02-26T01:42:34.641025Z",
     "iopub.status.busy": "2021-02-26T01:42:34.640536Z",
     "iopub.status.idle": "2021-02-26T01:42:34.643717Z",
     "shell.execute_reply": "2021-02-26T01:42:34.643296Z"
    },
    "papermill": {
     "duration": 0.017639,
     "end_time": "2021-02-26T01:42:34.643818",
     "exception": false,
     "start_time": "2021-02-26T01:42:34.626179",
     "status": "completed"
    },
    "tags": []
   },
   "outputs": [
    {
     "data": {
      "text/markdown": [
       "- Cardano price prediction: ADA to challenge $1.20 resistance again.  TL;DR Breakdown Cardano price expected to rise to $1.250 ADA faces resistance at the $1.50 THe closest support level lies at 1.00 and further below at $1.00 Cardano price has made a complete recovery after a strong rejection at the $1.20 level earlier this week. ETH has recovered to the $1.150 price and is building [&#8230;] ... [| Skaityti daugiau](https://www.cryptopolitan.com/cardano-price-to-challenge-1-20-resistance/) "
      ],
      "text/plain": [
       "<IPython.core.display.Markdown object>"
      ]
     },
     "execution_count": 8,
     "metadata": {},
     "output_type": "execute_result"
    }
   ],
   "source": [
    "#hide_input\n",
    "#md('##### {}'.format(titleBTC)) \n",
    "md(\"- {}{} {}{} [| Skaityti daugiau]({}) \".format(ada['title'],'. ', ada['body'], ' ...', ada['url']))"
   ]
  },
  {
   "cell_type": "code",
   "execution_count": 9,
   "id": "specified-ordering",
   "metadata": {
    "execution": {
     "iopub.execute_input": "2021-02-26T01:42:34.670787Z",
     "iopub.status.busy": "2021-02-26T01:42:34.670273Z",
     "iopub.status.idle": "2021-02-26T01:42:34.673449Z",
     "shell.execute_reply": "2021-02-26T01:42:34.673027Z"
    },
    "papermill": {
     "duration": 0.018955,
     "end_time": "2021-02-26T01:42:34.673550",
     "exception": false,
     "start_time": "2021-02-26T01:42:34.654595",
     "status": "completed"
    },
    "tags": []
   },
   "outputs": [
    {
     "data": {
      "text/markdown": [
       "- 1inch Exchange Goes Live on Binance Smart Chain.   ... [| Skaityti daugiau](https://cryptobriefing.com/1inch-exchange-goes-live-on-binance-smart-chain/) "
      ],
      "text/plain": [
       "<IPython.core.display.Markdown object>"
      ]
     },
     "execution_count": 9,
     "metadata": {},
     "output_type": "execute_result"
    }
   ],
   "source": [
    "#hide_input\n",
    "#md('##### {}'.format(titleBTC)) \n",
    "md(\"- {}{} {}{} [| Skaityti daugiau]({}) \".format(exchange['title'],'. ', exchange['body'], ' ...', exchange['url']))"
   ]
  },
  {
   "cell_type": "code",
   "execution_count": null,
   "id": "tender-livestock",
   "metadata": {
    "papermill": {
     "duration": 0.011107,
     "end_time": "2021-02-26T01:42:34.695723",
     "exception": false,
     "start_time": "2021-02-26T01:42:34.684616",
     "status": "completed"
    },
    "tags": []
   },
   "outputs": [],
   "source": []
  },
  {
   "cell_type": "code",
   "execution_count": null,
   "id": "appreciated-diamond",
   "metadata": {
    "papermill": {
     "duration": 0.011068,
     "end_time": "2021-02-26T01:42:34.718078",
     "exception": false,
     "start_time": "2021-02-26T01:42:34.707010",
     "status": "completed"
    },
    "tags": []
   },
   "outputs": [],
   "source": []
  },
  {
   "cell_type": "code",
   "execution_count": null,
   "id": "romance-sweden",
   "metadata": {
    "papermill": {
     "duration": 0.011008,
     "end_time": "2021-02-26T01:42:34.740260",
     "exception": false,
     "start_time": "2021-02-26T01:42:34.729252",
     "status": "completed"
    },
    "tags": []
   },
   "outputs": [],
   "source": []
  },
  {
   "cell_type": "code",
   "execution_count": null,
   "id": "dietary-statistics",
   "metadata": {
    "papermill": {
     "duration": 0.011059,
     "end_time": "2021-02-26T01:42:34.762425",
     "exception": false,
     "start_time": "2021-02-26T01:42:34.751366",
     "status": "completed"
    },
    "tags": []
   },
   "outputs": [],
   "source": []
  }
 ],
 "metadata": {
  "kernelspec": {
   "display_name": "Python 3",
   "language": "python",
   "name": "python3"
  },
  "language_info": {
   "codemirror_mode": {
    "name": "ipython",
    "version": 3
   },
   "file_extension": ".py",
   "mimetype": "text/x-python",
   "name": "python",
   "nbconvert_exporter": "python",
   "pygments_lexer": "ipython3",
   "version": "3.6.13"
  },
  "papermill": {
   "default_parameters": {},
   "duration": 10.687268,
   "end_time": "2021-02-26T01:42:35.181000",
   "environment_variables": {},
   "exception": null,
   "input_path": "Market-News.ipynb",
   "output_path": "Market-News.ipynb",
   "parameters": {},
   "start_time": "2021-02-26T01:42:24.493732",
   "version": "2.2.2"
  }
 },
 "nbformat": 4,
 "nbformat_minor": 5
}