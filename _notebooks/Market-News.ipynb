{
 "cells": [
  {
   "cell_type": "markdown",
   "id": "short-greensboro",
   "metadata": {
    "papermill": {
     "duration": 0.014542,
     "end_time": "2021-02-24T01:42:50.162509",
     "exception": false,
     "start_time": "2021-02-24T01:42:50.147967",
     "status": "completed"
    },
    "tags": []
   },
   "source": [
    "# Kriptovaliutų naujienos"
   ]
  },
  {
   "cell_type": "code",
   "execution_count": 1,
   "id": "functioning-knowing",
   "metadata": {
    "execution": {
     "iopub.execute_input": "2021-02-24T01:42:50.193384Z",
     "iopub.status.busy": "2021-02-24T01:42:50.192765Z",
     "iopub.status.idle": "2021-02-24T01:42:51.294620Z",
     "shell.execute_reply": "2021-02-24T01:42:51.293818Z"
    },
    "papermill": {
     "duration": 1.123855,
     "end_time": "2021-02-24T01:42:51.294834",
     "exception": false,
     "start_time": "2021-02-24T01:42:50.170979",
     "status": "completed"
    },
    "tags": []
   },
   "outputs": [],
   "source": [
    "#hide_input\n",
    "import warnings\n",
    "warnings.filterwarnings('ignore')\n",
    "from scripts.read_data import read_api\n",
    "from scripts.read_data import read_news\n",
    "from scripts.read_data import read_covid\n",
    "import matplotlib.pyplot as plt \n",
    "from IPython.display import Markdown as md"
   ]
  },
  {
   "cell_type": "code",
   "execution_count": 2,
   "id": "shared-acceptance",
   "metadata": {
    "execution": {
     "iopub.execute_input": "2021-02-24T01:42:51.321306Z",
     "iopub.status.busy": "2021-02-24T01:42:51.320821Z",
     "iopub.status.idle": "2021-02-24T01:42:58.463156Z",
     "shell.execute_reply": "2021-02-24T01:42:58.462280Z"
    },
    "papermill": {
     "duration": 7.156573,
     "end_time": "2021-02-24T01:42:58.463373",
     "exception": false,
     "start_time": "2021-02-24T01:42:51.306800",
     "status": "completed"
    },
    "tags": []
   },
   "outputs": [],
   "source": [
    "#hide_input\n",
    "blockchain = read_news('blockchain') \n",
    "btc = read_news('btc') \n",
    "xrp = read_news('xrp') \n",
    "trx = read_news('trx') \n",
    "eth = read_news('eth')  \n",
    "ada = read_news('ada')\n",
    "exchange = read_news('exchange') "
   ]
  },
  {
   "cell_type": "code",
   "execution_count": 3,
   "id": "synthetic-notion",
   "metadata": {
    "execution": {
     "iopub.execute_input": "2021-02-24T01:42:58.483890Z",
     "iopub.status.busy": "2021-02-24T01:42:58.483385Z",
     "iopub.status.idle": "2021-02-24T01:42:58.488590Z",
     "shell.execute_reply": "2021-02-24T01:42:58.489030Z"
    },
    "papermill": {
     "duration": 0.017163,
     "end_time": "2021-02-24T01:42:58.489139",
     "exception": false,
     "start_time": "2021-02-24T01:42:58.471976",
     "status": "completed"
    },
    "tags": []
   },
   "outputs": [
    {
     "data": {
      "text/markdown": [
       "- Jigstack DAO Acquires Icorating.com Platform to Strengthen Its Token Launch Pad Lemonade.  A decentralized finance (defi) protocol announced that it officially acquired an initial coin offering (ICO) listing platform. Jigstack, who bought icorating.com, will migrate all the platform&#8217;s assets to its Lemonade&#8217;s solution. Jigstack&#8217; Direct Email Database on Icorating.com According to the announcement, the defi protocol, which acts as a decentralized autonomous organization (DAO), bought the website [&#8230;] ... [| Skaityti daugiau](https://news.bitcoin.com/jigstack-dao-acquires-icorating-com-platform-to-strengthen-its-token-launch-pad-lemonade/) "
      ],
      "text/plain": [
       "<IPython.core.display.Markdown object>"
      ]
     },
     "execution_count": 3,
     "metadata": {},
     "output_type": "execute_result"
    }
   ],
   "source": [
    "#hide_input\n",
    "#md('##### {}'.format(titleBTC)) \n",
    "md(\"- {}{} {}{} [| Skaityti daugiau]({}) \".format(blockchain['title'],'. ', blockchain['body'], ' ...', blockchain['url']))"
   ]
  },
  {
   "cell_type": "code",
   "execution_count": 4,
   "id": "aging-caution",
   "metadata": {
    "execution": {
     "iopub.execute_input": "2021-02-24T01:42:58.509788Z",
     "iopub.status.busy": "2021-02-24T01:42:58.509322Z",
     "iopub.status.idle": "2021-02-24T01:42:58.512677Z",
     "shell.execute_reply": "2021-02-24T01:42:58.512229Z"
    },
    "papermill": {
     "duration": 0.015269,
     "end_time": "2021-02-24T01:42:58.512769",
     "exception": false,
     "start_time": "2021-02-24T01:42:58.497500",
     "status": "completed"
    },
    "tags": []
   },
   "outputs": [
    {
     "data": {
      "text/markdown": [
       "- Bizarre Bitcoin On-Chain Correlation With Fear And Greed Index Discovered.  Fear and greed are just two key emotions that drive the price action behind all markets, including Bitcoin and other cryptocurrencies. A bizarre correlation has been discovered in on-chain Bitcoin network data that directly matches up with the cryptocurrency market &#8220;fear and greed&#8221; index. Here&#8217;s why this find is so striking and and what information [&#8230;] ... [| Skaityti daugiau](https://www.newsbtc.com/news/bitcoin/bizarre-bitcoin-fear-and-greed-index/) "
      ],
      "text/plain": [
       "<IPython.core.display.Markdown object>"
      ]
     },
     "execution_count": 4,
     "metadata": {},
     "output_type": "execute_result"
    }
   ],
   "source": [
    "#hide_input\n",
    "#md('##### {}'.format(titleBTC)) \n",
    "md(\"- {}{} {}{} [| Skaityti daugiau]({}) \".format(btc['title'],'. ', btc['body'], ' ...', btc['url']))"
   ]
  },
  {
   "cell_type": "code",
   "execution_count": 5,
   "id": "organic-actress",
   "metadata": {
    "execution": {
     "iopub.execute_input": "2021-02-24T01:42:58.532788Z",
     "iopub.status.busy": "2021-02-24T01:42:58.532249Z",
     "iopub.status.idle": "2021-02-24T01:42:58.534718Z",
     "shell.execute_reply": "2021-02-24T01:42:58.535096Z"
    },
    "papermill": {
     "duration": 0.014793,
     "end_time": "2021-02-24T01:42:58.535197",
     "exception": false,
     "start_time": "2021-02-24T01:42:58.520404",
     "status": "completed"
    },
    "tags": []
   },
   "outputs": [
    {
     "data": {
      "text/markdown": [
       "- Ripple loses another partner as MoneyGram pulls out of deal amid SEC lawsuit.  MoneyGram has suspended its engagement with Ripple. No out-of-court settlement for the SEC case. XRP price takes a hit. Ripple continues to waddle in increasing woes caused by its current face-off with the United States SEC. The lawsuit has caused some of the entities that have been in business with the company to shy away [&#8230;] ... [| Skaityti daugiau](https://www.cryptopolitan.com/ripples-losses-moneygram-amid-sec-lawsuit/) "
      ],
      "text/plain": [
       "<IPython.core.display.Markdown object>"
      ]
     },
     "execution_count": 5,
     "metadata": {},
     "output_type": "execute_result"
    }
   ],
   "source": [
    "#hide_input\n",
    "#md('##### {}'.format(titleBTC)) \n",
    "md(\"- {}{} {}{} [| Skaityti daugiau]({}) \".format(xrp['title'],'. ', xrp['body'], ' ...', xrp['url']))"
   ]
  },
  {
   "cell_type": "code",
   "execution_count": 6,
   "id": "prompt-farmer",
   "metadata": {
    "execution": {
     "iopub.execute_input": "2021-02-24T01:42:58.558004Z",
     "iopub.status.busy": "2021-02-24T01:42:58.557469Z",
     "iopub.status.idle": "2021-02-24T01:42:58.560776Z",
     "shell.execute_reply": "2021-02-24T01:42:58.560338Z"
    },
    "papermill": {
     "duration": 0.016675,
     "end_time": "2021-02-24T01:42:58.560868",
     "exception": false,
     "start_time": "2021-02-24T01:42:58.544193",
     "status": "completed"
    },
    "tags": []
   },
   "outputs": [
    {
     "data": {
      "text/markdown": [
       "- Polkadot, Tron, Ethereum Classic Price Analysis: 22 February.  Polkadot showed signs of bearishness in the short-term and could dip beneath the $38 level once more. Tron showed that its previous bullish momentum had weakened, and Ethereum Classic was in a phase of consolidation over the past few days. Polkadot [DOT] The trading volume was steadily trending lower on the charts over the past [&#8230;] ... [| Skaityti daugiau](https://ambcrypto.com/polkadot-tron-ethereum-classic-price-analysis-22-february/) "
      ],
      "text/plain": [
       "<IPython.core.display.Markdown object>"
      ]
     },
     "execution_count": 6,
     "metadata": {},
     "output_type": "execute_result"
    }
   ],
   "source": [
    "#hide_input\n",
    "#md('##### {}'.format(titleBTC)) \n",
    "md(\"- {}{} {}{} [| Skaityti daugiau]({}) \".format(trx['title'],'. ', trx['body'], ' ...', trx['url']))"
   ]
  },
  {
   "cell_type": "code",
   "execution_count": 7,
   "id": "illegal-greece",
   "metadata": {
    "execution": {
     "iopub.execute_input": "2021-02-24T01:42:58.584754Z",
     "iopub.status.busy": "2021-02-24T01:42:58.583702Z",
     "iopub.status.idle": "2021-02-24T01:42:58.587710Z",
     "shell.execute_reply": "2021-02-24T01:42:58.587238Z"
    },
    "papermill": {
     "duration": 0.016778,
     "end_time": "2021-02-24T01:42:58.587815",
     "exception": false,
     "start_time": "2021-02-24T01:42:58.571037",
     "status": "completed"
    },
    "tags": []
   },
   "outputs": [
    {
     "data": {
      "text/markdown": [
       "- Here’s the right time to switch into ‘buy the bitcoin dip mode’.  CEO and Co-Founder of Real Vision Group, Raoul Pal welcomed Bitcoin’s recent price dip. The crypto influencer who once admitted to dividing his portfolio between BTC and ETH said that he is relieved when Bitcoin sell-offs arrive. According to Pal, this market trend presents an opportunity for traders to switch into “buy the dip mode.” It [&#8230;] ... [| Skaityti daugiau](https://ambcrypto.com/heres-the-right-time-to-switch-into-buy-the-bitcoin-dip-mode/) "
      ],
      "text/plain": [
       "<IPython.core.display.Markdown object>"
      ]
     },
     "execution_count": 7,
     "metadata": {},
     "output_type": "execute_result"
    }
   ],
   "source": [
    "#hide_input\n",
    "#md('##### {}'.format(titleBTC)) \n",
    "md(\"- {}{} {}{} [| Skaityti daugiau]({}) \".format(eth['title'],'. ', eth['body'], ' ...', eth['url']))"
   ]
  },
  {
   "cell_type": "code",
   "execution_count": 8,
   "id": "sublime-lounge",
   "metadata": {
    "execution": {
     "iopub.execute_input": "2021-02-24T01:42:58.612430Z",
     "iopub.status.busy": "2021-02-24T01:42:58.611890Z",
     "iopub.status.idle": "2021-02-24T01:42:58.614486Z",
     "shell.execute_reply": "2021-02-24T01:42:58.614969Z"
    },
    "papermill": {
     "duration": 0.017023,
     "end_time": "2021-02-24T01:42:58.615083",
     "exception": false,
     "start_time": "2021-02-24T01:42:58.598060",
     "status": "completed"
    },
    "tags": []
   },
   "outputs": [
    {
     "data": {
      "text/markdown": [
       "- Charles Hoskinson Reveals Significant Updates for Cardano (ADA) as Price Attempts Recovery.  While ADA's price aims at recovery following its sharp drop, Cardano's founder hinted of upcoming products and vital network upgrades. ... [| Skaityti daugiau](https://cryptopotato.com/charles-hoskinson-reveals-significant-updates-for-cardano-ada-as-price-attempts-recovery/) "
      ],
      "text/plain": [
       "<IPython.core.display.Markdown object>"
      ]
     },
     "execution_count": 8,
     "metadata": {},
     "output_type": "execute_result"
    }
   ],
   "source": [
    "#hide_input\n",
    "#md('##### {}'.format(titleBTC)) \n",
    "md(\"- {}{} {}{} [| Skaityti daugiau]({}) \".format(ada['title'],'. ', ada['body'], ' ...', ada['url']))"
   ]
  },
  {
   "cell_type": "code",
   "execution_count": 9,
   "id": "specified-ordering",
   "metadata": {
    "execution": {
     "iopub.execute_input": "2021-02-24T01:42:58.640540Z",
     "iopub.status.busy": "2021-02-24T01:42:58.639783Z",
     "iopub.status.idle": "2021-02-24T01:42:58.643488Z",
     "shell.execute_reply": "2021-02-24T01:42:58.644033Z"
    },
    "papermill": {
     "duration": 0.018423,
     "end_time": "2021-02-24T01:42:58.644150",
     "exception": false,
     "start_time": "2021-02-24T01:42:58.625727",
     "status": "completed"
    },
    "tags": []
   },
   "outputs": [
    {
     "data": {
      "text/markdown": [
       "- CoinEx Burns All 1.08 Billion Locked CET Allocated to the Team.  PRESS RELEASE. Hong Kong, February 23, 2021 &#8211; CoinEx, a global and professional cryptocurrency exchange service provider, announced on last Saturday that it has finished a historic burn of 1.08 billion locked CoinEx Token (CET) allocated to the CoinEx team for team building and market development at one time. This CET token burn is the [&#8230;] ... [| Skaityti daugiau](https://news.bitcoin.com/coinex-burns-all-1-08-billion-locked-cet-allocated-to-the-team/) "
      ],
      "text/plain": [
       "<IPython.core.display.Markdown object>"
      ]
     },
     "execution_count": 9,
     "metadata": {},
     "output_type": "execute_result"
    }
   ],
   "source": [
    "#hide_input\n",
    "#md('##### {}'.format(titleBTC)) \n",
    "md(\"- {}{} {}{} [| Skaityti daugiau]({}) \".format(exchange['title'],'. ', exchange['body'], ' ...', exchange['url']))"
   ]
  },
  {
   "cell_type": "code",
   "execution_count": null,
   "id": "tender-livestock",
   "metadata": {
    "papermill": {
     "duration": 0.010787,
     "end_time": "2021-02-24T01:42:58.667298",
     "exception": false,
     "start_time": "2021-02-24T01:42:58.656511",
     "status": "completed"
    },
    "tags": []
   },
   "outputs": [],
   "source": []
  },
  {
   "cell_type": "code",
   "execution_count": null,
   "id": "appreciated-diamond",
   "metadata": {
    "papermill": {
     "duration": 0.010905,
     "end_time": "2021-02-24T01:42:58.688746",
     "exception": false,
     "start_time": "2021-02-24T01:42:58.677841",
     "status": "completed"
    },
    "tags": []
   },
   "outputs": [],
   "source": []
  },
  {
   "cell_type": "code",
   "execution_count": null,
   "id": "romance-sweden",
   "metadata": {
    "papermill": {
     "duration": 0.010544,
     "end_time": "2021-02-24T01:42:58.710041",
     "exception": false,
     "start_time": "2021-02-24T01:42:58.699497",
     "status": "completed"
    },
    "tags": []
   },
   "outputs": [],
   "source": []
  },
  {
   "cell_type": "code",
   "execution_count": null,
   "id": "dietary-statistics",
   "metadata": {
    "papermill": {
     "duration": 0.011707,
     "end_time": "2021-02-24T01:42:58.732449",
     "exception": false,
     "start_time": "2021-02-24T01:42:58.720742",
     "status": "completed"
    },
    "tags": []
   },
   "outputs": [],
   "source": []
  }
 ],
 "metadata": {
  "kernelspec": {
   "display_name": "Python 3",
   "language": "python",
   "name": "python3"
  },
  "language_info": {
   "codemirror_mode": {
    "name": "ipython",
    "version": 3
   },
   "file_extension": ".py",
   "mimetype": "text/x-python",
   "name": "python",
   "nbconvert_exporter": "python",
   "pygments_lexer": "ipython3",
   "version": "3.6.12"
  },
  "papermill": {
   "default_parameters": {},
   "duration": 10.243798,
   "end_time": "2021-02-24T01:42:59.152784",
   "environment_variables": {},
   "exception": null,
   "input_path": "Market-News.ipynb",
   "output_path": "Market-News.ipynb",
   "parameters": {},
   "start_time": "2021-02-24T01:42:48.908986",
   "version": "2.2.2"
  }
 },
 "nbformat": 4,
 "nbformat_minor": 5
}