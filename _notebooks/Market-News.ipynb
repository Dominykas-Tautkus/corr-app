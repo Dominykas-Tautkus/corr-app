{
 "cells": [
  {
   "cell_type": "markdown",
   "id": "short-greensboro",
   "metadata": {
    "papermill": {
     "duration": 0.017571,
     "end_time": "2021-05-07T02:07:49.110621",
     "exception": false,
     "start_time": "2021-05-07T02:07:49.093050",
     "status": "completed"
    },
    "tags": []
   },
   "source": [
    "# Kriptovaliutų naujienos"
   ]
  },
  {
   "cell_type": "code",
   "execution_count": 1,
   "id": "functioning-knowing",
   "metadata": {
    "execution": {
     "iopub.execute_input": "2021-05-07T02:07:49.151052Z",
     "iopub.status.busy": "2021-05-07T02:07:49.150465Z",
     "iopub.status.idle": "2021-05-07T02:07:50.461239Z",
     "shell.execute_reply": "2021-05-07T02:07:50.460308Z"
    },
    "papermill": {
     "duration": 1.336917,
     "end_time": "2021-05-07T02:07:50.461489",
     "exception": false,
     "start_time": "2021-05-07T02:07:49.124572",
     "status": "completed"
    },
    "tags": []
   },
   "outputs": [],
   "source": [
    "#hide_input\n",
    "import warnings\n",
    "warnings.filterwarnings('ignore')\n",
    "from scripts.read_data import read_api\n",
    "from scripts.read_data import read_news\n",
    "from scripts.read_data import read_covid\n",
    "import matplotlib.pyplot as plt \n",
    "from IPython.display import Markdown as md"
   ]
  },
  {
   "cell_type": "code",
   "execution_count": 2,
   "id": "shared-acceptance",
   "metadata": {
    "execution": {
     "iopub.execute_input": "2021-05-07T02:07:50.488563Z",
     "iopub.status.busy": "2021-05-07T02:07:50.488012Z",
     "iopub.status.idle": "2021-05-07T02:07:58.508437Z",
     "shell.execute_reply": "2021-05-07T02:07:58.507326Z"
    },
    "papermill": {
     "duration": 8.037003,
     "end_time": "2021-05-07T02:07:58.508583",
     "exception": false,
     "start_time": "2021-05-07T02:07:50.471580",
     "status": "completed"
    },
    "tags": []
   },
   "outputs": [],
   "source": [
    "#hide_input\n",
    "blockchain = read_news('blockchain') \n",
    "btc = read_news('btc') \n",
    "xrp = read_news('xrp') \n",
    "trx = read_news('trx') \n",
    "eth = read_news('eth')  \n",
    "ada = read_news('ada')\n",
    "exchange = read_news('exchange') "
   ]
  },
  {
   "cell_type": "code",
   "execution_count": 3,
   "id": "synthetic-notion",
   "metadata": {
    "execution": {
     "iopub.execute_input": "2021-05-07T02:07:58.536980Z",
     "iopub.status.busy": "2021-05-07T02:07:58.536403Z",
     "iopub.status.idle": "2021-05-07T02:07:58.539929Z",
     "shell.execute_reply": "2021-05-07T02:07:58.540399Z"
    },
    "papermill": {
     "duration": 0.019794,
     "end_time": "2021-05-07T02:07:58.540538",
     "exception": false,
     "start_time": "2021-05-07T02:07:58.520744",
     "status": "completed"
    },
    "tags": []
   },
   "outputs": [
    {
     "data": {
      "text/markdown": [
       "- Shanghai Man: VeChain on TV, DOGE flips BTC, Hotbit hack, blockchain engineer$ ....  DOGE leading in volume and search hits, VeChain’s blockchain solution on state run CGTN, and HOO launches a smart chain of its own  ... [| Skaityti daugiau](https://cointelegraph.com/news/shanghai-man-vechain-on-tv-doge-flips-btc-hotbit-hack-blockchain-engineers-make) "
      ],
      "text/plain": [
       "<IPython.core.display.Markdown object>"
      ]
     },
     "execution_count": 3,
     "metadata": {},
     "output_type": "execute_result"
    }
   ],
   "source": [
    "#hide_input\n",
    "#md('##### {}'.format(titleBTC)) \n",
    "md(\"- {}{} {}{} [| Skaityti daugiau]({}) \".format(blockchain['title'],'. ', blockchain['body'], ' ...', blockchain['url']))"
   ]
  },
  {
   "cell_type": "code",
   "execution_count": 4,
   "id": "aging-caution",
   "metadata": {
    "execution": {
     "iopub.execute_input": "2021-05-07T02:07:58.569085Z",
     "iopub.status.busy": "2021-05-07T02:07:58.567897Z",
     "iopub.status.idle": "2021-05-07T02:07:58.572596Z",
     "shell.execute_reply": "2021-05-07T02:07:58.571786Z"
    },
    "papermill": {
     "duration": 0.021582,
     "end_time": "2021-05-07T02:07:58.572766",
     "exception": false,
     "start_time": "2021-05-07T02:07:58.551184",
     "status": "completed"
    },
    "tags": []
   },
   "outputs": [
    {
     "data": {
      "text/markdown": [
       "- FBI Puts Warning Signs on Bitcoin ATMs in This US County Following a Scam.  The Federal Bureau of Investigation (FBI) is putting up warning signs on bitcoin ATMs in Cuyahoga County of the U.S. state of Ohio to warn residents not to fall for scams asking victims to send money to scammers via bitcoin ATMs. FBI Putting Warning Signs on Bitcoin ATMs The Cuyahoga County Scam Squad in Cleveland [&#8230;] ... [| Skaityti daugiau](https://news.bitcoin.com/fbi-warning-signs-bitcoin-atms-scam/) "
      ],
      "text/plain": [
       "<IPython.core.display.Markdown object>"
      ]
     },
     "execution_count": 4,
     "metadata": {},
     "output_type": "execute_result"
    }
   ],
   "source": [
    "#hide_input\n",
    "#md('##### {}'.format(titleBTC)) \n",
    "md(\"- {}{} {}{} [| Skaityti daugiau]({}) \".format(btc['title'],'. ', btc['body'], ' ...', btc['url']))"
   ]
  },
  {
   "cell_type": "code",
   "execution_count": 5,
   "id": "organic-actress",
   "metadata": {
    "execution": {
     "iopub.execute_input": "2021-05-07T02:07:58.600171Z",
     "iopub.status.busy": "2021-05-07T02:07:58.599209Z",
     "iopub.status.idle": "2021-05-07T02:07:58.602298Z",
     "shell.execute_reply": "2021-05-07T02:07:58.602950Z"
    },
    "papermill": {
     "duration": 0.019796,
     "end_time": "2021-05-07T02:07:58.603123",
     "exception": false,
     "start_time": "2021-05-07T02:07:58.583327",
     "status": "completed"
    },
    "tags": []
   },
   "outputs": [
    {
     "data": {
      "text/markdown": [
       "- XRP, Dogecoin, Cardano Price Analysis: 06 May.  With Bitcoin&#8217;s market dominance falling once again and the altseason gaining steam, the likes of XRP, Dogecoin, and Cardano have all appreciated significantly on the price charts over the past week or so. XRP XRP&#8217;s recovery since falling to close to $0.20 on the back of the SEC filing a lawsuit against Ripple Labs has [&#8230;] ... [| Skaityti daugiau](https://ambcrypto.com/xrp-dogecoin-cardano-price-analysis-06-may/) "
      ],
      "text/plain": [
       "<IPython.core.display.Markdown object>"
      ]
     },
     "execution_count": 5,
     "metadata": {},
     "output_type": "execute_result"
    }
   ],
   "source": [
    "#hide_input\n",
    "#md('##### {}'.format(titleBTC)) \n",
    "md(\"- {}{} {}{} [| Skaityti daugiau]({}) \".format(xrp['title'],'. ', xrp['body'], ' ...', xrp['url']))"
   ]
  },
  {
   "cell_type": "code",
   "execution_count": 6,
   "id": "prompt-farmer",
   "metadata": {
    "execution": {
     "iopub.execute_input": "2021-05-07T02:07:58.628265Z",
     "iopub.status.busy": "2021-05-07T02:07:58.627451Z",
     "iopub.status.idle": "2021-05-07T02:07:58.638755Z",
     "shell.execute_reply": "2021-05-07T02:07:58.638222Z"
    },
    "papermill": {
     "duration": 0.024862,
     "end_time": "2021-05-07T02:07:58.638865",
     "exception": false,
     "start_time": "2021-05-07T02:07:58.614003",
     "status": "completed"
    },
    "tags": []
   },
   "outputs": [
    {
     "data": {
      "text/markdown": [
       "- Tron (TRX) Price Analysis: Signs of A Fresh Decline Below $0.11.  Tron price struggled to clear the $0.1365 resistance and corrected lower against the US Dollar. TRX price is now trading below the $0.1260 support and the 55 simple moving average (4-hours). There was a break below a key bullish trend line with support near $0.1250 on the 4-hours chart (data feed via Bitfinex). The pair...The post Tron (TRX) Price Analysis: Signs of A Fresh Decline Below $0.11 appeared first on Live Bitcoin News. ... [| Skaityti daugiau](https://www.livebitcoinnews.com/tron-trx-price-analysis-signs-of-a-fresh-decline-below-0-11/) "
      ],
      "text/plain": [
       "<IPython.core.display.Markdown object>"
      ]
     },
     "execution_count": 6,
     "metadata": {},
     "output_type": "execute_result"
    }
   ],
   "source": [
    "#hide_input\n",
    "#md('##### {}'.format(titleBTC)) \n",
    "md(\"- {}{} {}{} [| Skaityti daugiau]({}) \".format(trx['title'],'. ', trx['body'], ' ...', trx['url']))"
   ]
  },
  {
   "cell_type": "code",
   "execution_count": 7,
   "id": "illegal-greece",
   "metadata": {
    "execution": {
     "iopub.execute_input": "2021-05-07T02:07:58.666599Z",
     "iopub.status.busy": "2021-05-07T02:07:58.666018Z",
     "iopub.status.idle": "2021-05-07T02:07:58.670673Z",
     "shell.execute_reply": "2021-05-07T02:07:58.670159Z"
    },
    "papermill": {
     "duration": 0.020313,
     "end_time": "2021-05-07T02:07:58.670787",
     "exception": false,
     "start_time": "2021-05-07T02:07:58.650474",
     "status": "completed"
    },
    "tags": []
   },
   "outputs": [
    {
     "data": {
      "text/markdown": [
       "- Ethereum Is The Horse I'm Riding Right Now.  ETH is seeing faster active wallet growth and more on-chain usage than BTC.Bitcoin's short-term bullishness looks exhausted while ETH looks strong.We have a breakout in the ETH/BTC ratio. ... [| Skaityti daugiau](https://seekingalpha.com/article/4425327-eth-is-horse-riding-right-now?utm_source=cryptocompare.com&utm_medium=referral) "
      ],
      "text/plain": [
       "<IPython.core.display.Markdown object>"
      ]
     },
     "execution_count": 7,
     "metadata": {},
     "output_type": "execute_result"
    }
   ],
   "source": [
    "#hide_input\n",
    "#md('##### {}'.format(titleBTC)) \n",
    "md(\"- {}{} {}{} [| Skaityti daugiau]({}) \".format(eth['title'],'. ', eth['body'], ' ...', eth['url']))"
   ]
  },
  {
   "cell_type": "code",
   "execution_count": 8,
   "id": "sublime-lounge",
   "metadata": {
    "execution": {
     "iopub.execute_input": "2021-05-07T02:07:58.702417Z",
     "iopub.status.busy": "2021-05-07T02:07:58.701695Z",
     "iopub.status.idle": "2021-05-07T02:07:58.704271Z",
     "shell.execute_reply": "2021-05-07T02:07:58.704891Z"
    },
    "papermill": {
     "duration": 0.022599,
     "end_time": "2021-05-07T02:07:58.705032",
     "exception": false,
     "start_time": "2021-05-07T02:07:58.682433",
     "status": "completed"
    },
    "tags": []
   },
   "outputs": [
    {
     "data": {
      "text/markdown": [
       "- Here’s two important reasons why Cardano (ADA) hit an all-time high today.  Cardano (ADA) posted a new all-time high today of $1.68. The post Here&#8217;s two important reasons why Cardano (ADA) hit an all-time high today appeared first on CryptoSlate. ... [| Skaityti daugiau](https://cryptoslate.com/heres-two-important-reasons-why-cardano-ada-hit-an-all-time-high-today/) "
      ],
      "text/plain": [
       "<IPython.core.display.Markdown object>"
      ]
     },
     "execution_count": 8,
     "metadata": {},
     "output_type": "execute_result"
    }
   ],
   "source": [
    "#hide_input\n",
    "#md('##### {}'.format(titleBTC)) \n",
    "md(\"- {}{} {}{} [| Skaityti daugiau]({}) \".format(ada['title'],'. ', ada['body'], ' ...', ada['url']))"
   ]
  },
  {
   "cell_type": "code",
   "execution_count": 9,
   "id": "specified-ordering",
   "metadata": {
    "execution": {
     "iopub.execute_input": "2021-05-07T02:07:58.733406Z",
     "iopub.status.busy": "2021-05-07T02:07:58.732686Z",
     "iopub.status.idle": "2021-05-07T02:07:58.735854Z",
     "shell.execute_reply": "2021-05-07T02:07:58.736267Z"
    },
    "papermill": {
     "duration": 0.019728,
     "end_time": "2021-05-07T02:07:58.736389",
     "exception": false,
     "start_time": "2021-05-07T02:07:58.716661",
     "status": "completed"
    },
    "tags": []
   },
   "outputs": [
    {
     "data": {
      "text/markdown": [
       "- US mulls regulating crypto exchanges.  TL;DR Breakdown Garry Gensler proposes regulating crypto exchange in the US Why regulators &#8216;may&#8217; want to regulate crypto firms The newly appointed chairman of US Security and Exchange Commission (SEC), Gary Gensler, has told the congress (House Financial Services Committee) to consider regulating crypto exchanges in the US. Gensler explains the move is to protect [&#8230;] ... [| Skaityti daugiau](https://www.cryptopolitan.com/us-mulls-regulating-crypto-exchanges/) "
      ],
      "text/plain": [
       "<IPython.core.display.Markdown object>"
      ]
     },
     "execution_count": 9,
     "metadata": {},
     "output_type": "execute_result"
    }
   ],
   "source": [
    "#hide_input\n",
    "#md('##### {}'.format(titleBTC)) \n",
    "md(\"- {}{} {}{} [| Skaityti daugiau]({}) \".format(exchange['title'],'. ', exchange['body'], ' ...', exchange['url']))"
   ]
  },
  {
   "cell_type": "code",
   "execution_count": null,
   "id": "tender-livestock",
   "metadata": {
    "papermill": {
     "duration": 0.012179,
     "end_time": "2021-05-07T02:07:58.760472",
     "exception": false,
     "start_time": "2021-05-07T02:07:58.748293",
     "status": "completed"
    },
    "tags": []
   },
   "outputs": [],
   "source": []
  },
  {
   "cell_type": "code",
   "execution_count": null,
   "id": "appreciated-diamond",
   "metadata": {
    "papermill": {
     "duration": 0.01236,
     "end_time": "2021-05-07T02:07:58.785277",
     "exception": false,
     "start_time": "2021-05-07T02:07:58.772917",
     "status": "completed"
    },
    "tags": []
   },
   "outputs": [],
   "source": []
  },
  {
   "cell_type": "code",
   "execution_count": null,
   "id": "romance-sweden",
   "metadata": {
    "papermill": {
     "duration": 0.012085,
     "end_time": "2021-05-07T02:07:58.809554",
     "exception": false,
     "start_time": "2021-05-07T02:07:58.797469",
     "status": "completed"
    },
    "tags": []
   },
   "outputs": [],
   "source": []
  },
  {
   "cell_type": "code",
   "execution_count": null,
   "id": "dietary-statistics",
   "metadata": {
    "papermill": {
     "duration": 0.013327,
     "end_time": "2021-05-07T02:07:58.834979",
     "exception": false,
     "start_time": "2021-05-07T02:07:58.821652",
     "status": "completed"
    },
    "tags": []
   },
   "outputs": [],
   "source": []
  }
 ],
 "metadata": {
  "kernelspec": {
   "display_name": "Python 3",
   "language": "python",
   "name": "python3"
  },
  "language_info": {
   "codemirror_mode": {
    "name": "ipython",
    "version": 3
   },
   "file_extension": ".py",
   "mimetype": "text/x-python",
   "name": "python",
   "nbconvert_exporter": "python",
   "pygments_lexer": "ipython3",
   "version": "3.6.13"
  },
  "papermill": {
   "default_parameters": {},
   "duration": 11.226413,
   "end_time": "2021-05-07T02:07:59.254645",
   "environment_variables": {},
   "exception": null,
   "input_path": "Market-News.ipynb",
   "output_path": "Market-News.ipynb",
   "parameters": {},
   "start_time": "2021-05-07T02:07:48.028232",
   "version": "2.2.2"
  }
 },
 "nbformat": 4,
 "nbformat_minor": 5
}