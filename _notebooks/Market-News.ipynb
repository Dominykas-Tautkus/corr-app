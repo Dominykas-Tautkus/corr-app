{
 "cells": [
  {
   "cell_type": "markdown",
   "id": "short-greensboro",
   "metadata": {
    "papermill": {
     "duration": 0.017032,
     "end_time": "2021-06-21T02:10:52.550492",
     "exception": false,
     "start_time": "2021-06-21T02:10:52.533460",
     "status": "completed"
    },
    "tags": []
   },
   "source": [
    "# Kriptovaliutų naujienos"
   ]
  },
  {
   "cell_type": "code",
   "execution_count": 1,
   "id": "functioning-knowing",
   "metadata": {
    "execution": {
     "iopub.execute_input": "2021-06-21T02:10:52.585728Z",
     "iopub.status.busy": "2021-06-21T02:10:52.585024Z",
     "iopub.status.idle": "2021-06-21T02:10:53.999563Z",
     "shell.execute_reply": "2021-06-21T02:10:53.998958Z"
    },
    "papermill": {
     "duration": 1.436279,
     "end_time": "2021-06-21T02:10:53.999728",
     "exception": false,
     "start_time": "2021-06-21T02:10:52.563449",
     "status": "completed"
    },
    "tags": []
   },
   "outputs": [],
   "source": [
    "#hide_input\n",
    "import warnings\n",
    "warnings.filterwarnings('ignore')\n",
    "from scripts.read_data import read_api\n",
    "from scripts.read_data import read_news\n",
    "from scripts.read_data import read_covid\n",
    "import matplotlib.pyplot as plt \n",
    "from IPython.display import Markdown as md"
   ]
  },
  {
   "cell_type": "code",
   "execution_count": 2,
   "id": "shared-acceptance",
   "metadata": {
    "execution": {
     "iopub.execute_input": "2021-06-21T02:10:54.030745Z",
     "iopub.status.busy": "2021-06-21T02:10:54.029698Z",
     "iopub.status.idle": "2021-06-21T02:11:04.633696Z",
     "shell.execute_reply": "2021-06-21T02:11:04.633141Z"
    },
    "papermill": {
     "duration": 10.621446,
     "end_time": "2021-06-21T02:11:04.633838",
     "exception": false,
     "start_time": "2021-06-21T02:10:54.012392",
     "status": "completed"
    },
    "tags": []
   },
   "outputs": [],
   "source": [
    "#hide_input\n",
    "blockchain = read_news('blockchain') \n",
    "btc = read_news('btc') \n",
    "xrp = read_news('xrp') \n",
    "trx = read_news('trx') \n",
    "eth = read_news('eth')  \n",
    "ada = read_news('ada')\n",
    "exchange = read_news('exchange') "
   ]
  },
  {
   "cell_type": "code",
   "execution_count": 3,
   "id": "synthetic-notion",
   "metadata": {
    "execution": {
     "iopub.execute_input": "2021-06-21T02:11:04.664432Z",
     "iopub.status.busy": "2021-06-21T02:11:04.663782Z",
     "iopub.status.idle": "2021-06-21T02:11:04.667402Z",
     "shell.execute_reply": "2021-06-21T02:11:04.666791Z"
    },
    "papermill": {
     "duration": 0.021951,
     "end_time": "2021-06-21T02:11:04.667531",
     "exception": false,
     "start_time": "2021-06-21T02:11:04.645580",
     "status": "completed"
    },
    "tags": []
   },
   "outputs": [
    {
     "data": {
      "text/markdown": [
       "- NFTs In A Nutshell: A Weekly Review.  Another week of NFTs hitting the headlines in a variety of ways. Porsche is putting some wheels to the rubber on an NFT project, CNN and Fox are putting major media on the non-fungible token map, and the World Wide Web&#8217;s source code is going to be listed as an NFT. It was another action-packed [&#8230;] ... [| Skaityti daugiau](https://bitcoinist.com/nfts-in-a-nutshell-a-weekly-review-8/?utm_source=rss&utm_medium=rss&utm_campaign=nfts-in-a-nutshell-a-weekly-review-8) "
      ],
      "text/plain": [
       "<IPython.core.display.Markdown object>"
      ]
     },
     "execution_count": 3,
     "metadata": {},
     "output_type": "execute_result"
    }
   ],
   "source": [
    "#hide_input\n",
    "#md('##### {}'.format(titleBTC)) \n",
    "md(\"- {}{} {}{} [| Skaityti daugiau]({}) \".format(blockchain['title'],'. ', blockchain['body'], ' ...', blockchain['url']))"
   ]
  },
  {
   "cell_type": "code",
   "execution_count": 4,
   "id": "aging-caution",
   "metadata": {
    "execution": {
     "iopub.execute_input": "2021-06-21T02:11:04.695462Z",
     "iopub.status.busy": "2021-06-21T02:11:04.694792Z",
     "iopub.status.idle": "2021-06-21T02:11:04.701803Z",
     "shell.execute_reply": "2021-06-21T02:11:04.702299Z"
    },
    "papermill": {
     "duration": 0.023267,
     "end_time": "2021-06-21T02:11:04.702437",
     "exception": false,
     "start_time": "2021-06-21T02:11:04.679170",
     "status": "completed"
    },
    "tags": []
   },
   "outputs": [
    {
     "data": {
      "text/markdown": [
       "- This will be another nudge for Bitcoin miners to use green energy.  The American House of Representatives recently passed legislation requiring publicly listed companies to disclose Environmental, Social and Governance (ESG) metrics. The bill was passed by a narrow vote of 215 to 214 and has now advanced to the Senate for consideration. What is sustainable finance? The bill defines “sustainable finance” as the ‘provision of finance with [&#8230;] ... [| Skaityti daugiau](https://ambcrypto.com/this-will-be-another-nudge-for-bitcoin-miners-to-use-green-energy/) "
      ],
      "text/plain": [
       "<IPython.core.display.Markdown object>"
      ]
     },
     "execution_count": 4,
     "metadata": {},
     "output_type": "execute_result"
    }
   ],
   "source": [
    "#hide_input\n",
    "#md('##### {}'.format(titleBTC)) \n",
    "md(\"- {}{} {}{} [| Skaityti daugiau]({}) \".format(btc['title'],'. ', btc['body'], ' ...', btc['url']))"
   ]
  },
  {
   "cell_type": "code",
   "execution_count": 5,
   "id": "organic-actress",
   "metadata": {
    "execution": {
     "iopub.execute_input": "2021-06-21T02:11:04.733311Z",
     "iopub.status.busy": "2021-06-21T02:11:04.732646Z",
     "iopub.status.idle": "2021-06-21T02:11:04.734910Z",
     "shell.execute_reply": "2021-06-21T02:11:04.735443Z"
    },
    "papermill": {
     "duration": 0.020442,
     "end_time": "2021-06-21T02:11:04.735580",
     "exception": false,
     "start_time": "2021-06-21T02:11:04.715138",
     "status": "completed"
    },
    "tags": []
   },
   "outputs": [
    {
     "data": {
      "text/markdown": [
       "- XRP, Cardano, Shiba Inu Price Analysis: 20 June.  While Bitcoin did not make much recovery post the Jun 18 dip, some other altcoins struggled to do the same. XRP lost about 5.2% of its price as well as 5.3% of its market capitalization in the last 24 hours. SHIB made some major gains on June 16 thanks to the news of its Coinbase [&#8230;] ... [| Skaityti daugiau](https://ambcrypto.com/xrp-cardano-shiba-inu-price-analysis-20-june/) "
      ],
      "text/plain": [
       "<IPython.core.display.Markdown object>"
      ]
     },
     "execution_count": 5,
     "metadata": {},
     "output_type": "execute_result"
    }
   ],
   "source": [
    "#hide_input\n",
    "#md('##### {}'.format(titleBTC)) \n",
    "md(\"- {}{} {}{} [| Skaityti daugiau]({}) \".format(xrp['title'],'. ', xrp['body'], ' ...', xrp['url']))"
   ]
  },
  {
   "cell_type": "code",
   "execution_count": 6,
   "id": "prompt-farmer",
   "metadata": {
    "execution": {
     "iopub.execute_input": "2021-06-21T02:11:04.766963Z",
     "iopub.status.busy": "2021-06-21T02:11:04.766327Z",
     "iopub.status.idle": "2021-06-21T02:11:04.769360Z",
     "shell.execute_reply": "2021-06-21T02:11:04.769870Z"
    },
    "papermill": {
     "duration": 0.021919,
     "end_time": "2021-06-21T02:11:04.770003",
     "exception": false,
     "start_time": "2021-06-21T02:11:04.748084",
     "status": "completed"
    },
    "tags": []
   },
   "outputs": [
    {
     "data": {
      "text/markdown": [
       "- Tron (TRX) Ranks 1st in Transactions Per Second, Eclipsing ADA and XRP.  According to Coinmetrics, Tron is the fastest blockchain in terms of transactions per second Tron&#8217;s throughput exceeds that of Bitcoin, Ethereum, Cardano and XRP Tron&#8217;s users continue to grow with the network exceeding 40 million unique accounts However, TRX is currently trading above the 200-day moving average with a potential death cross, only weeks away The Tron (TRX) network ranks first in terms of handling the highest number of transactions per second. This milestone was observed by Tron community member [&#8230;] ... [| Skaityti daugiau](https://en.ethereumworldnews.com/tron-trx-ranks-1st-in-transactions-per-second-eclipsing-ada-and-xrp/) "
      ],
      "text/plain": [
       "<IPython.core.display.Markdown object>"
      ]
     },
     "execution_count": 6,
     "metadata": {},
     "output_type": "execute_result"
    }
   ],
   "source": [
    "#hide_input\n",
    "#md('##### {}'.format(titleBTC)) \n",
    "md(\"- {}{} {}{} [| Skaityti daugiau]({}) \".format(trx['title'],'. ', trx['body'], ' ...', trx['url']))"
   ]
  },
  {
   "cell_type": "code",
   "execution_count": 7,
   "id": "illegal-greece",
   "metadata": {
    "execution": {
     "iopub.execute_input": "2021-06-21T02:11:04.801716Z",
     "iopub.status.busy": "2021-06-21T02:11:04.801084Z",
     "iopub.status.idle": "2021-06-21T02:11:04.804046Z",
     "shell.execute_reply": "2021-06-21T02:11:04.804558Z"
    },
    "papermill": {
     "duration": 0.021617,
     "end_time": "2021-06-21T02:11:04.804691",
     "exception": false,
     "start_time": "2021-06-21T02:11:04.783074",
     "status": "completed"
    },
    "tags": []
   },
   "outputs": [
    {
     "data": {
      "text/markdown": [
       "- Cardano, Polkadot: Why these ‘Ethereum killers’ are ranked higher than ETH in this regard?.  Lately, the market has been bullish on tech developments as altcoins are racing to make their ecosystems more technically developed. A veteran financial rating agency came up with a list of ratings for cryptocurrency projects in terms of technology and Ethereum was given the sixth spot. According to the latest update from the website, the [&#8230;] ... [| Skaityti daugiau](https://ambcrypto.com/cardano-polkadot-why-these-ethereum-killers-are-ranked-higher-than-eth-in-this-regard/) "
      ],
      "text/plain": [
       "<IPython.core.display.Markdown object>"
      ]
     },
     "execution_count": 7,
     "metadata": {},
     "output_type": "execute_result"
    }
   ],
   "source": [
    "#hide_input\n",
    "#md('##### {}'.format(titleBTC)) \n",
    "md(\"- {}{} {}{} [| Skaityti daugiau]({}) \".format(eth['title'],'. ', eth['body'], ' ...', eth['url']))"
   ]
  },
  {
   "cell_type": "code",
   "execution_count": 8,
   "id": "sublime-lounge",
   "metadata": {
    "execution": {
     "iopub.execute_input": "2021-06-21T02:11:04.843161Z",
     "iopub.status.busy": "2021-06-21T02:11:04.842285Z",
     "iopub.status.idle": "2021-06-21T02:11:04.845324Z",
     "shell.execute_reply": "2021-06-21T02:11:04.845838Z"
    },
    "papermill": {
     "duration": 0.02774,
     "end_time": "2021-06-21T02:11:04.845982",
     "exception": false,
     "start_time": "2021-06-21T02:11:04.818242",
     "status": "completed"
    },
    "tags": []
   },
   "outputs": [
    {
     "data": {
      "text/markdown": [
       "- XRP, Cardano, Shiba Inu Price Analysis: 20 June.  While Bitcoin did not make much recovery post the Jun 18 dip, some other altcoins struggled to do the same. XRP lost about 5.2% of its price as well as 5.3% of its market capitalization in the last 24 hours. SHIB made some major gains on June 16 thanks to the news of its Coinbase [&#8230;] ... [| Skaityti daugiau](https://ambcrypto.com/xrp-cardano-shiba-inu-price-analysis-20-june/) "
      ],
      "text/plain": [
       "<IPython.core.display.Markdown object>"
      ]
     },
     "execution_count": 8,
     "metadata": {},
     "output_type": "execute_result"
    }
   ],
   "source": [
    "#hide_input\n",
    "#md('##### {}'.format(titleBTC)) \n",
    "md(\"- {}{} {}{} [| Skaityti daugiau]({}) \".format(ada['title'],'. ', ada['body'], ' ...', ada['url']))"
   ]
  },
  {
   "cell_type": "code",
   "execution_count": 9,
   "id": "specified-ordering",
   "metadata": {
    "execution": {
     "iopub.execute_input": "2021-06-21T02:11:04.880922Z",
     "iopub.status.busy": "2021-06-21T02:11:04.879427Z",
     "iopub.status.idle": "2021-06-21T02:11:04.884962Z",
     "shell.execute_reply": "2021-06-21T02:11:04.882679Z"
    },
    "papermill": {
     "duration": 0.024825,
     "end_time": "2021-06-21T02:11:04.885150",
     "exception": false,
     "start_time": "2021-06-21T02:11:04.860325",
     "status": "completed"
    },
    "tags": []
   },
   "outputs": [
    {
     "data": {
      "text/markdown": [
       "- Dogecoin Asset of the Year, Says Crypto Exchange CEO – Here’s Why.  The 29-year-old billionaire CEO of crypto derivatives exchange FTX considers the meme cryptocurrency Dogecoin (DOGE) the asset of the year. In a new interview on The Jax Jones and Martin Warner Show, Sam Bankman-Fried explains how economic conditions in the past year have pushed retail investors to bet on the Shiba Inu-themed crypto asset. “If [&#8230;]The post Dogecoin Asset of the Year, Says Crypto Exchange CEO – Here’s Why appeared first on The Daily Hodl. ... [| Skaityti daugiau](https://dailyhodl.com/2021/06/20/dogecoin-asset-of-the-year-says-crypto-exchange-ceo-heres-why/) "
      ],
      "text/plain": [
       "<IPython.core.display.Markdown object>"
      ]
     },
     "execution_count": 9,
     "metadata": {},
     "output_type": "execute_result"
    }
   ],
   "source": [
    "#hide_input\n",
    "#md('##### {}'.format(titleBTC)) \n",
    "md(\"- {}{} {}{} [| Skaityti daugiau]({}) \".format(exchange['title'],'. ', exchange['body'], ' ...', exchange['url']))"
   ]
  },
  {
   "cell_type": "code",
   "execution_count": null,
   "id": "tender-livestock",
   "metadata": {
    "papermill": {
     "duration": 0.015424,
     "end_time": "2021-06-21T02:11:04.914600",
     "exception": false,
     "start_time": "2021-06-21T02:11:04.899176",
     "status": "completed"
    },
    "tags": []
   },
   "outputs": [],
   "source": []
  },
  {
   "cell_type": "code",
   "execution_count": null,
   "id": "appreciated-diamond",
   "metadata": {
    "papermill": {
     "duration": 0.014813,
     "end_time": "2021-06-21T02:11:04.943138",
     "exception": false,
     "start_time": "2021-06-21T02:11:04.928325",
     "status": "completed"
    },
    "tags": []
   },
   "outputs": [],
   "source": []
  },
  {
   "cell_type": "code",
   "execution_count": null,
   "id": "romance-sweden",
   "metadata": {
    "papermill": {
     "duration": 0.015379,
     "end_time": "2021-06-21T02:11:04.972318",
     "exception": false,
     "start_time": "2021-06-21T02:11:04.956939",
     "status": "completed"
    },
    "tags": []
   },
   "outputs": [],
   "source": []
  },
  {
   "cell_type": "code",
   "execution_count": null,
   "id": "dietary-statistics",
   "metadata": {
    "papermill": {
     "duration": 0.013828,
     "end_time": "2021-06-21T02:11:05.001263",
     "exception": false,
     "start_time": "2021-06-21T02:11:04.987435",
     "status": "completed"
    },
    "tags": []
   },
   "outputs": [],
   "source": []
  }
 ],
 "metadata": {
  "kernelspec": {
   "display_name": "Python 3",
   "language": "python",
   "name": "python3"
  },
  "language_info": {
   "codemirror_mode": {
    "name": "ipython",
    "version": 3
   },
   "file_extension": ".py",
   "mimetype": "text/x-python",
   "name": "python",
   "nbconvert_exporter": "python",
   "pygments_lexer": "ipython3",
   "version": "3.6.13"
  },
  "papermill": {
   "default_parameters": {},
   "duration": 13.982462,
   "end_time": "2021-06-21T02:11:05.430457",
   "environment_variables": {},
   "exception": null,
   "input_path": "Market-News.ipynb",
   "output_path": "Market-News.ipynb",
   "parameters": {},
   "start_time": "2021-06-21T02:10:51.447995",
   "version": "2.2.2"
  }
 },
 "nbformat": 4,
 "nbformat_minor": 5
}