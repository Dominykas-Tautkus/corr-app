{
 "cells": [
  {
   "cell_type": "markdown",
   "id": "short-greensboro",
   "metadata": {
    "papermill": {
     "duration": 0.015804,
     "end_time": "2021-05-12T02:11:49.481054",
     "exception": false,
     "start_time": "2021-05-12T02:11:49.465250",
     "status": "completed"
    },
    "tags": []
   },
   "source": [
    "# Kriptovaliutų naujienos"
   ]
  },
  {
   "cell_type": "code",
   "execution_count": 1,
   "id": "functioning-knowing",
   "metadata": {
    "execution": {
     "iopub.execute_input": "2021-05-12T02:11:49.517356Z",
     "iopub.status.busy": "2021-05-12T02:11:49.516700Z",
     "iopub.status.idle": "2021-05-12T02:11:50.937572Z",
     "shell.execute_reply": "2021-05-12T02:11:50.936661Z"
    },
    "papermill": {
     "duration": 1.443708,
     "end_time": "2021-05-12T02:11:50.937728",
     "exception": false,
     "start_time": "2021-05-12T02:11:49.494020",
     "status": "completed"
    },
    "tags": []
   },
   "outputs": [],
   "source": [
    "#hide_input\n",
    "import warnings\n",
    "warnings.filterwarnings('ignore')\n",
    "from scripts.read_data import read_api\n",
    "from scripts.read_data import read_news\n",
    "from scripts.read_data import read_covid\n",
    "import matplotlib.pyplot as plt \n",
    "from IPython.display import Markdown as md"
   ]
  },
  {
   "cell_type": "code",
   "execution_count": 2,
   "id": "shared-acceptance",
   "metadata": {
    "execution": {
     "iopub.execute_input": "2021-05-12T02:11:50.968128Z",
     "iopub.status.busy": "2021-05-12T02:11:50.967442Z",
     "iopub.status.idle": "2021-05-12T02:11:59.704359Z",
     "shell.execute_reply": "2021-05-12T02:11:59.703119Z"
    },
    "papermill": {
     "duration": 8.755168,
     "end_time": "2021-05-12T02:11:59.704535",
     "exception": false,
     "start_time": "2021-05-12T02:11:50.949367",
     "status": "completed"
    },
    "tags": []
   },
   "outputs": [],
   "source": [
    "#hide_input\n",
    "blockchain = read_news('blockchain') \n",
    "btc = read_news('btc') \n",
    "xrp = read_news('xrp') \n",
    "trx = read_news('trx') \n",
    "eth = read_news('eth')  \n",
    "ada = read_news('ada')\n",
    "exchange = read_news('exchange') "
   ]
  },
  {
   "cell_type": "code",
   "execution_count": 3,
   "id": "synthetic-notion",
   "metadata": {
    "execution": {
     "iopub.execute_input": "2021-05-12T02:11:59.734536Z",
     "iopub.status.busy": "2021-05-12T02:11:59.733850Z",
     "iopub.status.idle": "2021-05-12T02:11:59.739153Z",
     "shell.execute_reply": "2021-05-12T02:11:59.739720Z"
    },
    "papermill": {
     "duration": 0.022977,
     "end_time": "2021-05-12T02:11:59.739868",
     "exception": false,
     "start_time": "2021-05-12T02:11:59.716891",
     "status": "completed"
    },
    "tags": []
   },
   "outputs": [
    {
     "data": {
      "text/markdown": [
       "- The challenges with designing a CBDC, explained.  Central bank digital currencies face a tricky trilemma when it comes to ensuring they are well designed. What’s the answer? ... [| Skaityti daugiau](https://cointelegraph.com/explained/the-challenges-with-designing-a-cbdc-explained) "
      ],
      "text/plain": [
       "<IPython.core.display.Markdown object>"
      ]
     },
     "execution_count": 3,
     "metadata": {},
     "output_type": "execute_result"
    }
   ],
   "source": [
    "#hide_input\n",
    "#md('##### {}'.format(titleBTC)) \n",
    "md(\"- {}{} {}{} [| Skaityti daugiau]({}) \".format(blockchain['title'],'. ', blockchain['body'], ' ...', blockchain['url']))"
   ]
  },
  {
   "cell_type": "code",
   "execution_count": 4,
   "id": "aging-caution",
   "metadata": {
    "execution": {
     "iopub.execute_input": "2021-05-12T02:11:59.769482Z",
     "iopub.status.busy": "2021-05-12T02:11:59.768713Z",
     "iopub.status.idle": "2021-05-12T02:11:59.772405Z",
     "shell.execute_reply": "2021-05-12T02:11:59.771715Z"
    },
    "papermill": {
     "duration": 0.020813,
     "end_time": "2021-05-12T02:11:59.772532",
     "exception": false,
     "start_time": "2021-05-12T02:11:59.751719",
     "status": "completed"
    },
    "tags": []
   },
   "outputs": [
    {
     "data": {
      "text/markdown": [
       "- Sentiment Flippening: Why This Bitcoin Expert Doesn’t Own Ethereum.  We at Bitcoinist covered the lack of decentralization of the Binance Smart Chain. And, at the moment, the BSC is Ethereum’s main competition. That sparks a question, inquiring minds want to know: how decentralized is Ethereum? Not enough, according to author, investor, YouTube star, and Bitcoin expert Preston Pysh. In a recent Twitter thread explaining [&#8230;] ... [| Skaityti daugiau](https://bitcoinist.com/sentiment-flippening-why-this-bitcoin-expert-doesnt-own-ethereum/?utm_source=rss&utm_medium=rss&utm_campaign=sentiment-flippening-why-this-bitcoin-expert-doesnt-own-ethereum) "
      ],
      "text/plain": [
       "<IPython.core.display.Markdown object>"
      ]
     },
     "execution_count": 4,
     "metadata": {},
     "output_type": "execute_result"
    }
   ],
   "source": [
    "#hide_input\n",
    "#md('##### {}'.format(titleBTC)) \n",
    "md(\"- {}{} {}{} [| Skaityti daugiau]({}) \".format(btc['title'],'. ', btc['body'], ' ...', btc['url']))"
   ]
  },
  {
   "cell_type": "code",
   "execution_count": 5,
   "id": "organic-actress",
   "metadata": {
    "execution": {
     "iopub.execute_input": "2021-05-12T02:11:59.802600Z",
     "iopub.status.busy": "2021-05-12T02:11:59.801965Z",
     "iopub.status.idle": "2021-05-12T02:11:59.804877Z",
     "shell.execute_reply": "2021-05-12T02:11:59.805426Z"
    },
    "papermill": {
     "duration": 0.020673,
     "end_time": "2021-05-12T02:11:59.805568",
     "exception": false,
     "start_time": "2021-05-12T02:11:59.784895",
     "status": "completed"
    },
    "tags": []
   },
   "outputs": [
    {
     "data": {
      "text/markdown": [
       "- Internet Computer (ICP) Drops From Nowhere To Storm The Top Ten.  Internet Computer (ICP) enters the top ten on CoinMarketCap following its exchange debut. ICP was sitting as high as the fourth spot, but following heavy sell pressure, it&#8217;s since dropped to the seventh position, just ahead of XRP, at writing. The CoinMarketCap rankings have seen a flurry of changes during this bull run. But it&#8217;s [&#8230;] ... [| Skaityti daugiau](https://www.newsbtc.com/news/internet-computer-icp-drops-from-nowhere-to-storm-the-top-ten/) "
      ],
      "text/plain": [
       "<IPython.core.display.Markdown object>"
      ]
     },
     "execution_count": 5,
     "metadata": {},
     "output_type": "execute_result"
    }
   ],
   "source": [
    "#hide_input\n",
    "#md('##### {}'.format(titleBTC)) \n",
    "md(\"- {}{} {}{} [| Skaityti daugiau]({}) \".format(xrp['title'],'. ', xrp['body'], ' ...', xrp['url']))"
   ]
  },
  {
   "cell_type": "code",
   "execution_count": 6,
   "id": "prompt-farmer",
   "metadata": {
    "execution": {
     "iopub.execute_input": "2021-05-12T02:11:59.836139Z",
     "iopub.status.busy": "2021-05-12T02:11:59.835462Z",
     "iopub.status.idle": "2021-05-12T02:11:59.838133Z",
     "shell.execute_reply": "2021-05-12T02:11:59.838793Z"
    },
    "papermill": {
     "duration": 0.020469,
     "end_time": "2021-05-12T02:11:59.838934",
     "exception": false,
     "start_time": "2021-05-12T02:11:59.818465",
     "status": "completed"
    },
    "tags": []
   },
   "outputs": [
    {
     "data": {
      "text/markdown": [
       "- Justin Sun Offers $50M Dogecoin For TRX And BTT SpaceX Satellite Launch.  Justin Sun has enquired with SpaceX to launch Tron and BitTorrent satellites on his behalf. He added that he&#8217;s willing to pay $50 million in Dogecoin to make it happen. In conjunction with Geometric Energy Corporation, SpaceX wishes to make DOGE the &#8220;unit of account for lunar business in the space sector.&#8221; By supporting this [&#8230;] ... [| Skaityti daugiau](https://www.newsbtc.com/news/justin-sun-offers-50m-dogecoin-for-trx-and-btt-spacex-satellite-launch/) "
      ],
      "text/plain": [
       "<IPython.core.display.Markdown object>"
      ]
     },
     "execution_count": 6,
     "metadata": {},
     "output_type": "execute_result"
    }
   ],
   "source": [
    "#hide_input\n",
    "#md('##### {}'.format(titleBTC)) \n",
    "md(\"- {}{} {}{} [| Skaityti daugiau]({}) \".format(trx['title'],'. ', trx['body'], ' ...', trx['url']))"
   ]
  },
  {
   "cell_type": "code",
   "execution_count": 7,
   "id": "illegal-greece",
   "metadata": {
    "execution": {
     "iopub.execute_input": "2021-05-12T02:11:59.870919Z",
     "iopub.status.busy": "2021-05-12T02:11:59.870210Z",
     "iopub.status.idle": "2021-05-12T02:11:59.873128Z",
     "shell.execute_reply": "2021-05-12T02:11:59.873648Z"
    },
    "papermill": {
     "duration": 0.021173,
     "end_time": "2021-05-12T02:11:59.873797",
     "exception": false,
     "start_time": "2021-05-12T02:11:59.852624",
     "status": "completed"
    },
    "tags": []
   },
   "outputs": [
    {
     "data": {
      "text/markdown": [
       "- Ethereum Price to Hit $19,842 by 2025 According to 35 Experts.  Thirty-five experts have come together to predict the price of ethereum. On average, they expect the price of ether to hit $19,842 by 2025. The majority of panelists say now is the time to buy ethereum while 28% say to hodl. Experts See Price of Ether Reaching Almost $20K by 2025 The &#8220;Finder Cryptocurrency Predictions [&#8230;] ... [| Skaityti daugiau](https://news.bitcoin.com/ethereum-price-19842-2025-35-experts/) "
      ],
      "text/plain": [
       "<IPython.core.display.Markdown object>"
      ]
     },
     "execution_count": 7,
     "metadata": {},
     "output_type": "execute_result"
    }
   ],
   "source": [
    "#hide_input\n",
    "#md('##### {}'.format(titleBTC)) \n",
    "md(\"- {}{} {}{} [| Skaityti daugiau]({}) \".format(eth['title'],'. ', eth['body'], ' ...', eth['url']))"
   ]
  },
  {
   "cell_type": "code",
   "execution_count": 8,
   "id": "sublime-lounge",
   "metadata": {
    "execution": {
     "iopub.execute_input": "2021-05-12T02:11:59.906685Z",
     "iopub.status.busy": "2021-05-12T02:11:59.906067Z",
     "iopub.status.idle": "2021-05-12T02:11:59.909528Z",
     "shell.execute_reply": "2021-05-12T02:11:59.908905Z"
    },
    "papermill": {
     "duration": 0.021339,
     "end_time": "2021-05-12T02:11:59.909643",
     "exception": false,
     "start_time": "2021-05-12T02:11:59.888304",
     "status": "completed"
    },
    "tags": []
   },
   "outputs": [
    {
     "data": {
      "text/markdown": [
       "- Binance Coin, Cardano, Litecoin Price Analysis: 11 May.  Binance Coin&#8217;s breakout was halted post a broader market dip. Cardano could see a downtrend towards $1.01 in an extended bearish scenario. Finally, Litecoin needed to defend $330-300 to avoid a breakdown towards its 200-SMA. Binance Coin [BNB] Although Binance Coin did seem to break north from a cup and handle pattern, targets mentioned in [&#8230;] ... [| Skaityti daugiau](https://ambcrypto.com/binance-coin-cardano-litecoin-price-analysis-11-may/) "
      ],
      "text/plain": [
       "<IPython.core.display.Markdown object>"
      ]
     },
     "execution_count": 8,
     "metadata": {},
     "output_type": "execute_result"
    }
   ],
   "source": [
    "#hide_input\n",
    "#md('##### {}'.format(titleBTC)) \n",
    "md(\"- {}{} {}{} [| Skaityti daugiau]({}) \".format(ada['title'],'. ', ada['body'], ' ...', ada['url']))"
   ]
  },
  {
   "cell_type": "code",
   "execution_count": 9,
   "id": "specified-ordering",
   "metadata": {
    "execution": {
     "iopub.execute_input": "2021-05-12T02:11:59.942201Z",
     "iopub.status.busy": "2021-05-12T02:11:59.941564Z",
     "iopub.status.idle": "2021-05-12T02:11:59.945162Z",
     "shell.execute_reply": "2021-05-12T02:11:59.944622Z"
    },
    "papermill": {
     "duration": 0.022059,
     "end_time": "2021-05-12T02:11:59.945284",
     "exception": false,
     "start_time": "2021-05-12T02:11:59.923225",
     "status": "completed"
    },
    "tags": []
   },
   "outputs": [
    {
     "data": {
      "text/markdown": [
       "- Sentiment Flippening: Why This Bitcoin Expert Doesn’t Own Ethereum.  We at Bitcoinist covered the lack of decentralization of the Binance Smart Chain. And, at the moment, the BSC is Ethereum’s main competition. That sparks a question, inquiring minds want to know: how decentralized is Ethereum? Not enough, according to author, investor, YouTube star, and Bitcoin expert Preston Pysh. In a recent Twitter thread explaining [&#8230;] ... [| Skaityti daugiau](https://bitcoinist.com/sentiment-flippening-why-this-bitcoin-expert-doesnt-own-ethereum/?utm_source=rss&utm_medium=rss&utm_campaign=sentiment-flippening-why-this-bitcoin-expert-doesnt-own-ethereum) "
      ],
      "text/plain": [
       "<IPython.core.display.Markdown object>"
      ]
     },
     "execution_count": 9,
     "metadata": {},
     "output_type": "execute_result"
    }
   ],
   "source": [
    "#hide_input\n",
    "#md('##### {}'.format(titleBTC)) \n",
    "md(\"- {}{} {}{} [| Skaityti daugiau]({}) \".format(exchange['title'],'. ', exchange['body'], ' ...', exchange['url']))"
   ]
  },
  {
   "cell_type": "code",
   "execution_count": null,
   "id": "tender-livestock",
   "metadata": {
    "papermill": {
     "duration": 0.014026,
     "end_time": "2021-05-12T02:11:59.973609",
     "exception": false,
     "start_time": "2021-05-12T02:11:59.959583",
     "status": "completed"
    },
    "tags": []
   },
   "outputs": [],
   "source": []
  },
  {
   "cell_type": "code",
   "execution_count": null,
   "id": "appreciated-diamond",
   "metadata": {
    "papermill": {
     "duration": 0.01429,
     "end_time": "2021-05-12T02:12:00.002401",
     "exception": false,
     "start_time": "2021-05-12T02:11:59.988111",
     "status": "completed"
    },
    "tags": []
   },
   "outputs": [],
   "source": []
  },
  {
   "cell_type": "code",
   "execution_count": null,
   "id": "romance-sweden",
   "metadata": {
    "papermill": {
     "duration": 0.015109,
     "end_time": "2021-05-12T02:12:00.031982",
     "exception": false,
     "start_time": "2021-05-12T02:12:00.016873",
     "status": "completed"
    },
    "tags": []
   },
   "outputs": [],
   "source": []
  },
  {
   "cell_type": "code",
   "execution_count": null,
   "id": "dietary-statistics",
   "metadata": {
    "papermill": {
     "duration": 0.014191,
     "end_time": "2021-05-12T02:12:00.060453",
     "exception": false,
     "start_time": "2021-05-12T02:12:00.046262",
     "status": "completed"
    },
    "tags": []
   },
   "outputs": [],
   "source": []
  }
 ],
 "metadata": {
  "kernelspec": {
   "display_name": "Python 3",
   "language": "python",
   "name": "python3"
  },
  "language_info": {
   "codemirror_mode": {
    "name": "ipython",
    "version": 3
   },
   "file_extension": ".py",
   "mimetype": "text/x-python",
   "name": "python",
   "nbconvert_exporter": "python",
   "pygments_lexer": "ipython3",
   "version": "3.6.13"
  },
  "papermill": {
   "default_parameters": {},
   "duration": 12.107648,
   "end_time": "2021-05-12T02:12:00.481583",
   "environment_variables": {},
   "exception": null,
   "input_path": "Market-News.ipynb",
   "output_path": "Market-News.ipynb",
   "parameters": {},
   "start_time": "2021-05-12T02:11:48.373935",
   "version": "2.2.2"
  }
 },
 "nbformat": 4,
 "nbformat_minor": 5
}