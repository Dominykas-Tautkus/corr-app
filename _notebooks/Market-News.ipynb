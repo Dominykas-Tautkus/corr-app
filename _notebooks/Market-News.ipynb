{
 "cells": [
  {
   "cell_type": "markdown",
   "id": "short-greensboro",
   "metadata": {
    "papermill": {
     "duration": 0.015817,
     "end_time": "2021-06-09T02:23:26.003436",
     "exception": false,
     "start_time": "2021-06-09T02:23:25.987619",
     "status": "completed"
    },
    "tags": []
   },
   "source": [
    "# Kriptovaliutų naujienos"
   ]
  },
  {
   "cell_type": "code",
   "execution_count": 1,
   "id": "functioning-knowing",
   "metadata": {
    "execution": {
     "iopub.execute_input": "2021-06-09T02:23:26.037813Z",
     "iopub.status.busy": "2021-06-09T02:23:26.037177Z",
     "iopub.status.idle": "2021-06-09T02:23:27.401024Z",
     "shell.execute_reply": "2021-06-09T02:23:27.400443Z"
    },
    "papermill": {
     "duration": 1.386055,
     "end_time": "2021-06-09T02:23:27.401179",
     "exception": false,
     "start_time": "2021-06-09T02:23:26.015124",
     "status": "completed"
    },
    "tags": []
   },
   "outputs": [],
   "source": [
    "#hide_input\n",
    "import warnings\n",
    "warnings.filterwarnings('ignore')\n",
    "from scripts.read_data import read_api\n",
    "from scripts.read_data import read_news\n",
    "from scripts.read_data import read_covid\n",
    "import matplotlib.pyplot as plt \n",
    "from IPython.display import Markdown as md"
   ]
  },
  {
   "cell_type": "code",
   "execution_count": 2,
   "id": "shared-acceptance",
   "metadata": {
    "execution": {
     "iopub.execute_input": "2021-06-09T02:23:27.433945Z",
     "iopub.status.busy": "2021-06-09T02:23:27.432828Z",
     "iopub.status.idle": "2021-06-09T02:23:35.875898Z",
     "shell.execute_reply": "2021-06-09T02:23:35.875254Z"
    },
    "papermill": {
     "duration": 8.463435,
     "end_time": "2021-06-09T02:23:35.876071",
     "exception": false,
     "start_time": "2021-06-09T02:23:27.412636",
     "status": "completed"
    },
    "tags": []
   },
   "outputs": [],
   "source": [
    "#hide_input\n",
    "blockchain = read_news('blockchain') \n",
    "btc = read_news('btc') \n",
    "xrp = read_news('xrp') \n",
    "trx = read_news('trx') \n",
    "eth = read_news('eth')  \n",
    "ada = read_news('ada')\n",
    "exchange = read_news('exchange') "
   ]
  },
  {
   "cell_type": "code",
   "execution_count": 3,
   "id": "synthetic-notion",
   "metadata": {
    "execution": {
     "iopub.execute_input": "2021-06-09T02:23:35.910173Z",
     "iopub.status.busy": "2021-06-09T02:23:35.908981Z",
     "iopub.status.idle": "2021-06-09T02:23:35.912149Z",
     "shell.execute_reply": "2021-06-09T02:23:35.912686Z"
    },
    "papermill": {
     "duration": 0.02486,
     "end_time": "2021-06-09T02:23:35.912825",
     "exception": false,
     "start_time": "2021-06-09T02:23:35.887965",
     "status": "completed"
    },
    "tags": []
   },
   "outputs": [
    {
     "data": {
      "text/markdown": [
       "- Goldman Sachs backs $28M funding round for Blockdaemon.  Goldman Sachs has backed a Series A $28 million funding round for Blockdaemon, and invested $5 million in the blockchain infrastructure firm.  ... [| Skaityti daugiau](https://cointelegraph.com/news/goldman-sachs-backs-28m-funding-round-for-blockdaemon) "
      ],
      "text/plain": [
       "<IPython.core.display.Markdown object>"
      ]
     },
     "execution_count": 3,
     "metadata": {},
     "output_type": "execute_result"
    }
   ],
   "source": [
    "#hide_input\n",
    "#md('##### {}'.format(titleBTC)) \n",
    "md(\"- {}{} {}{} [| Skaityti daugiau]({}) \".format(blockchain['title'],'. ', blockchain['body'], ' ...', blockchain['url']))"
   ]
  },
  {
   "cell_type": "code",
   "execution_count": 4,
   "id": "aging-caution",
   "metadata": {
    "execution": {
     "iopub.execute_input": "2021-06-09T02:23:35.944211Z",
     "iopub.status.busy": "2021-06-09T02:23:35.942735Z",
     "iopub.status.idle": "2021-06-09T02:23:35.946714Z",
     "shell.execute_reply": "2021-06-09T02:23:35.946162Z"
    },
    "papermill": {
     "duration": 0.02213,
     "end_time": "2021-06-09T02:23:35.946843",
     "exception": false,
     "start_time": "2021-06-09T02:23:35.924713",
     "status": "completed"
    },
    "tags": []
   },
   "outputs": [
    {
     "data": {
      "text/markdown": [
       "- Bitcoin Whales Accumulated Over $2 Billion Since BTC Dipped Below $40,000.  Bitcoin whales have been buying bitcoin ever since its price dropped below the $40,000 mark last month and have so far accumulated nearly $2 billion. In total, bitcoin whales added around 50,000 BTC to their wallets. According to cryptocurrency analytics firm Santiment, large bitcoin holders with between 100 and 10,00 BTC in their wallets – […] ... [| Skaityti daugiau](https://www.cryptoglobe.com/latest/2021/06/bitcoin-whales-accumulated-over-2-billion-since-btc-dipped-below-40000/) "
      ],
      "text/plain": [
       "<IPython.core.display.Markdown object>"
      ]
     },
     "execution_count": 4,
     "metadata": {},
     "output_type": "execute_result"
    }
   ],
   "source": [
    "#hide_input\n",
    "#md('##### {}'.format(titleBTC)) \n",
    "md(\"- {}{} {}{} [| Skaityti daugiau]({}) \".format(btc['title'],'. ', btc['body'], ' ...', btc['url']))"
   ]
  },
  {
   "cell_type": "code",
   "execution_count": 5,
   "id": "organic-actress",
   "metadata": {
    "execution": {
     "iopub.execute_input": "2021-06-09T02:23:35.978767Z",
     "iopub.status.busy": "2021-06-09T02:23:35.977707Z",
     "iopub.status.idle": "2021-06-09T02:23:35.980773Z",
     "shell.execute_reply": "2021-06-09T02:23:35.981261Z"
    },
    "papermill": {
     "duration": 0.022084,
     "end_time": "2021-06-09T02:23:35.981390",
     "exception": false,
     "start_time": "2021-06-09T02:23:35.959306",
     "status": "completed"
    },
    "tags": []
   },
   "outputs": [
    {
     "data": {
      "text/markdown": [
       "- XRP, Litecoin, Cardano Price Analysis: 08 June.  XRP faced an uphill task to recover from recent lows considering the dearth of buying pressure. Litecoin broke south from a descending triangle and eyed further losses towards $134-116. Finally, Cardano bulls needed to defend $1.47 from a sharper retracement. XRP Buying volume has been weak in the XRP market- something highlighted by OBV&#8217;s recent [&#8230;] ... [| Skaityti daugiau](https://ambcrypto.com/xrp-litecoin-cardano-price-analysis-08-june/) "
      ],
      "text/plain": [
       "<IPython.core.display.Markdown object>"
      ]
     },
     "execution_count": 5,
     "metadata": {},
     "output_type": "execute_result"
    }
   ],
   "source": [
    "#hide_input\n",
    "#md('##### {}'.format(titleBTC)) \n",
    "md(\"- {}{} {}{} [| Skaityti daugiau]({}) \".format(xrp['title'],'. ', xrp['body'], ' ...', xrp['url']))"
   ]
  },
  {
   "cell_type": "code",
   "execution_count": 6,
   "id": "prompt-farmer",
   "metadata": {
    "execution": {
     "iopub.execute_input": "2021-06-09T02:23:36.013286Z",
     "iopub.status.busy": "2021-06-09T02:23:36.012619Z",
     "iopub.status.idle": "2021-06-09T02:23:36.021368Z",
     "shell.execute_reply": "2021-06-09T02:23:36.020752Z"
    },
    "papermill": {
     "duration": 0.028034,
     "end_time": "2021-06-09T02:23:36.021507",
     "exception": false,
     "start_time": "2021-06-09T02:23:35.993473",
     "status": "completed"
    },
    "tags": []
   },
   "outputs": [
    {
     "data": {
      "text/markdown": [
       "- Binance Coin, Dogecoin, Tron Price Analysis: 08 June.  Binance Coin&#8217;s ascending triangle was negated once the price breached past the bottom trendline of the pattern. Dogecoin&#8217;s movement was hardly a surprise as the formation of a descending triangle inclined towards a bearish outcome. Finally, a rise in volatility could heighten losses for Tron over the coming sessions. Binance Coin [BNB] Binance Coin&#8217;s ascending [&#8230;] ... [| Skaityti daugiau](https://ambcrypto.com/binance-coin-dogecoin-tron-price-analysis-08-june/) "
      ],
      "text/plain": [
       "<IPython.core.display.Markdown object>"
      ]
     },
     "execution_count": 6,
     "metadata": {},
     "output_type": "execute_result"
    }
   ],
   "source": [
    "#hide_input\n",
    "#md('##### {}'.format(titleBTC)) \n",
    "md(\"- {}{} {}{} [| Skaityti daugiau]({}) \".format(trx['title'],'. ', trx['body'], ' ...', trx['url']))"
   ]
  },
  {
   "cell_type": "code",
   "execution_count": 7,
   "id": "illegal-greece",
   "metadata": {
    "execution": {
     "iopub.execute_input": "2021-06-09T02:23:36.057146Z",
     "iopub.status.busy": "2021-06-09T02:23:36.056467Z",
     "iopub.status.idle": "2021-06-09T02:23:36.062182Z",
     "shell.execute_reply": "2021-06-09T02:23:36.061557Z"
    },
    "papermill": {
     "duration": 0.024803,
     "end_time": "2021-06-09T02:23:36.062314",
     "exception": false,
     "start_time": "2021-06-09T02:23:36.037511",
     "status": "completed"
    },
    "tags": []
   },
   "outputs": [
    {
     "data": {
      "text/markdown": [
       "- Elon Musk Agrees With Vitalik Buterin on Dogecoin and Ethereum Collaboration.  Tesla CEO Elon Musk said he &#8220;pretty much&#8221; agrees with Ethereum co-founder Vitalik Buterin about a collaboration between Dogecoin and Ethereum. Buterin said: &#8220;if we can have a secure Doge-to-Ethereum bridge. That would be amazing.&#8221; Vitalik Buterin Talks About Dogecoin and Ethereum Bridge, Elon Musk Agrees Ethereum co-founder Vitalik Buterin talked about a potential collaboration [&#8230;] ... [| Skaityti daugiau](https://news.bitcoin.com/elon-musk-vitalik-buterin-dogecoin-ethereum-collaboration/) "
      ],
      "text/plain": [
       "<IPython.core.display.Markdown object>"
      ]
     },
     "execution_count": 7,
     "metadata": {},
     "output_type": "execute_result"
    }
   ],
   "source": [
    "#hide_input\n",
    "#md('##### {}'.format(titleBTC)) \n",
    "md(\"- {}{} {}{} [| Skaityti daugiau]({}) \".format(eth['title'],'. ', eth['body'], ' ...', eth['url']))"
   ]
  },
  {
   "cell_type": "code",
   "execution_count": 8,
   "id": "sublime-lounge",
   "metadata": {
    "execution": {
     "iopub.execute_input": "2021-06-09T02:23:36.097952Z",
     "iopub.status.busy": "2021-06-09T02:23:36.097304Z",
     "iopub.status.idle": "2021-06-09T02:23:36.103183Z",
     "shell.execute_reply": "2021-06-09T02:23:36.102711Z"
    },
    "papermill": {
     "duration": 0.026666,
     "end_time": "2021-06-09T02:23:36.103301",
     "exception": false,
     "start_time": "2021-06-09T02:23:36.076635",
     "status": "completed"
    },
    "tags": []
   },
   "outputs": [
    {
     "data": {
      "text/markdown": [
       "- Cardano (ADA) logs the most GitHub ‘commits’ ahead of “Fund4”.  Most of the top 100 tokens are red today. The post Cardano (ADA) logs the most GitHub &#8216;commits&#8217; ahead of &#8220;Fund4&#8221; appeared first on CryptoSlate. ... [| Skaityti daugiau](https://cryptoslate.com/cardano-ada-logs-the-most-github-commits-ahead-of-fund4/) "
      ],
      "text/plain": [
       "<IPython.core.display.Markdown object>"
      ]
     },
     "execution_count": 8,
     "metadata": {},
     "output_type": "execute_result"
    }
   ],
   "source": [
    "#hide_input\n",
    "#md('##### {}'.format(titleBTC)) \n",
    "md(\"- {}{} {}{} [| Skaityti daugiau]({}) \".format(ada['title'],'. ', ada['body'], ' ...', ada['url']))"
   ]
  },
  {
   "cell_type": "code",
   "execution_count": 9,
   "id": "specified-ordering",
   "metadata": {
    "execution": {
     "iopub.execute_input": "2021-06-09T02:23:36.136297Z",
     "iopub.status.busy": "2021-06-09T02:23:36.135441Z",
     "iopub.status.idle": "2021-06-09T02:23:36.138377Z",
     "shell.execute_reply": "2021-06-09T02:23:36.138893Z"
    },
    "papermill": {
     "duration": 0.022639,
     "end_time": "2021-06-09T02:23:36.139056",
     "exception": false,
     "start_time": "2021-06-09T02:23:36.116417",
     "status": "completed"
    },
    "tags": []
   },
   "outputs": [
    {
     "data": {
      "text/markdown": [
       "- Coinbase Says Interest From Pension Funds and Hedge Funds Has Skyrocketed, Institutional Holdings Soar 170%.  The Nasdaq-listed cryptocurrency exchange Coinbase has revealed record growth in its institutional business. &#8220;This year, interest from pension funds and hedge funds has skyrocketed, supported by the roll-out of crypto-ETPs as well as an increased understanding of the crypto economy,&#8221; said Coinbase. Coinbase Sees Interest From Institutional Investors Skyrocketing Cryptocurrency exchange Coinbase (Nasdaq: COIN) reportedly [&#8230;] ... [| Skaityti daugiau](https://news.bitcoin.com/coinbase-interest-pension-funds-hedge-funds-skyrocketed-institutional-holdings-soar-170/) "
      ],
      "text/plain": [
       "<IPython.core.display.Markdown object>"
      ]
     },
     "execution_count": 9,
     "metadata": {},
     "output_type": "execute_result"
    }
   ],
   "source": [
    "#hide_input\n",
    "#md('##### {}'.format(titleBTC)) \n",
    "md(\"- {}{} {}{} [| Skaityti daugiau]({}) \".format(exchange['title'],'. ', exchange['body'], ' ...', exchange['url']))"
   ]
  },
  {
   "cell_type": "code",
   "execution_count": null,
   "id": "tender-livestock",
   "metadata": {
    "papermill": {
     "duration": 0.014628,
     "end_time": "2021-06-09T02:23:36.168203",
     "exception": false,
     "start_time": "2021-06-09T02:23:36.153575",
     "status": "completed"
    },
    "tags": []
   },
   "outputs": [],
   "source": []
  },
  {
   "cell_type": "code",
   "execution_count": null,
   "id": "appreciated-diamond",
   "metadata": {
    "papermill": {
     "duration": 0.01405,
     "end_time": "2021-06-09T02:23:36.196084",
     "exception": false,
     "start_time": "2021-06-09T02:23:36.182034",
     "status": "completed"
    },
    "tags": []
   },
   "outputs": [],
   "source": []
  },
  {
   "cell_type": "code",
   "execution_count": null,
   "id": "romance-sweden",
   "metadata": {
    "papermill": {
     "duration": 0.016071,
     "end_time": "2021-06-09T02:23:36.227109",
     "exception": false,
     "start_time": "2021-06-09T02:23:36.211038",
     "status": "completed"
    },
    "tags": []
   },
   "outputs": [],
   "source": []
  },
  {
   "cell_type": "code",
   "execution_count": null,
   "id": "dietary-statistics",
   "metadata": {
    "papermill": {
     "duration": 0.014226,
     "end_time": "2021-06-09T02:23:36.255750",
     "exception": false,
     "start_time": "2021-06-09T02:23:36.241524",
     "status": "completed"
    },
    "tags": []
   },
   "outputs": [],
   "source": []
  }
 ],
 "metadata": {
  "kernelspec": {
   "display_name": "Python 3",
   "language": "python",
   "name": "python3"
  },
  "language_info": {
   "codemirror_mode": {
    "name": "ipython",
    "version": 3
   },
   "file_extension": ".py",
   "mimetype": "text/x-python",
   "name": "python",
   "nbconvert_exporter": "python",
   "pygments_lexer": "ipython3",
   "version": "3.6.13"
  },
  "papermill": {
   "default_parameters": {},
   "duration": 11.920314,
   "end_time": "2021-06-09T02:23:36.778130",
   "environment_variables": {},
   "exception": null,
   "input_path": "Market-News.ipynb",
   "output_path": "Market-News.ipynb",
   "parameters": {},
   "start_time": "2021-06-09T02:23:24.857816",
   "version": "2.2.2"
  }
 },
 "nbformat": 4,
 "nbformat_minor": 5
}