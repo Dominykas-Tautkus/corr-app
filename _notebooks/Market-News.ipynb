{
 "cells": [
  {
   "cell_type": "markdown",
   "id": "short-greensboro",
   "metadata": {
    "papermill": {
     "duration": 0.017712,
     "end_time": "2021-04-18T02:11:21.014719",
     "exception": false,
     "start_time": "2021-04-18T02:11:20.997007",
     "status": "completed"
    },
    "tags": []
   },
   "source": [
    "# Kriptovaliutų naujienos"
   ]
  },
  {
   "cell_type": "code",
   "execution_count": 1,
   "id": "functioning-knowing",
   "metadata": {
    "execution": {
     "iopub.execute_input": "2021-04-18T02:11:21.056281Z",
     "iopub.status.busy": "2021-04-18T02:11:21.055417Z",
     "iopub.status.idle": "2021-04-18T02:11:22.480647Z",
     "shell.execute_reply": "2021-04-18T02:11:22.479647Z"
    },
    "papermill": {
     "duration": 1.45115,
     "end_time": "2021-04-18T02:11:22.480811",
     "exception": false,
     "start_time": "2021-04-18T02:11:21.029661",
     "status": "completed"
    },
    "tags": []
   },
   "outputs": [],
   "source": [
    "#hide_input\n",
    "import warnings\n",
    "warnings.filterwarnings('ignore')\n",
    "from scripts.read_data import read_api\n",
    "from scripts.read_data import read_news\n",
    "from scripts.read_data import read_covid\n",
    "import matplotlib.pyplot as plt \n",
    "from IPython.display import Markdown as md"
   ]
  },
  {
   "cell_type": "code",
   "execution_count": 2,
   "id": "shared-acceptance",
   "metadata": {
    "execution": {
     "iopub.execute_input": "2021-04-18T02:11:22.512875Z",
     "iopub.status.busy": "2021-04-18T02:11:22.512118Z",
     "iopub.status.idle": "2021-04-18T02:11:33.301630Z",
     "shell.execute_reply": "2021-04-18T02:11:33.301060Z"
    },
    "papermill": {
     "duration": 10.80769,
     "end_time": "2021-04-18T02:11:33.301772",
     "exception": false,
     "start_time": "2021-04-18T02:11:22.494082",
     "status": "completed"
    },
    "tags": []
   },
   "outputs": [],
   "source": [
    "#hide_input\n",
    "blockchain = read_news('blockchain') \n",
    "btc = read_news('btc') \n",
    "xrp = read_news('xrp') \n",
    "trx = read_news('trx') \n",
    "eth = read_news('eth')  \n",
    "ada = read_news('ada')\n",
    "exchange = read_news('exchange') "
   ]
  },
  {
   "cell_type": "code",
   "execution_count": 3,
   "id": "synthetic-notion",
   "metadata": {
    "execution": {
     "iopub.execute_input": "2021-04-18T02:11:33.331598Z",
     "iopub.status.busy": "2021-04-18T02:11:33.330950Z",
     "iopub.status.idle": "2021-04-18T02:11:33.336984Z",
     "shell.execute_reply": "2021-04-18T02:11:33.337501Z"
    },
    "papermill": {
     "duration": 0.024154,
     "end_time": "2021-04-18T02:11:33.337649",
     "exception": false,
     "start_time": "2021-04-18T02:11:33.313495",
     "status": "completed"
    },
    "tags": []
   },
   "outputs": [
    {
     "data": {
      "text/markdown": [
       "- It's still time to dive into the cryptocurrency market.  the cryptocurrency market has can still provide the potential to multiply the funds of users Observing the potential of digital currencies, Alexander Althausen expects the crypto market to give more than 1000 folds profit With the growing blockchain and crypto industry, the price of Bitcoin will also continue to surge higher Cryptocurrency market has been [&#8230;] ... [| Skaityti daugiau](https://www.thecoinrepublic.com/2021/04/17/cryptocurrency-market-can-still-give-better-gains-to-investors/) "
      ],
      "text/plain": [
       "<IPython.core.display.Markdown object>"
      ]
     },
     "execution_count": 3,
     "metadata": {},
     "output_type": "execute_result"
    }
   ],
   "source": [
    "#hide_input\n",
    "#md('##### {}'.format(titleBTC)) \n",
    "md(\"- {}{} {}{} [| Skaityti daugiau]({}) \".format(blockchain['title'],'. ', blockchain['body'], ' ...', blockchain['url']))"
   ]
  },
  {
   "cell_type": "code",
   "execution_count": 4,
   "id": "aging-caution",
   "metadata": {
    "execution": {
     "iopub.execute_input": "2021-04-18T02:11:33.366973Z",
     "iopub.status.busy": "2021-04-18T02:11:33.366336Z",
     "iopub.status.idle": "2021-04-18T02:11:33.369805Z",
     "shell.execute_reply": "2021-04-18T02:11:33.369262Z"
    },
    "papermill": {
     "duration": 0.020707,
     "end_time": "2021-04-18T02:11:33.369933",
     "exception": false,
     "start_time": "2021-04-18T02:11:33.349226",
     "status": "completed"
    },
    "tags": []
   },
   "outputs": [
    {
     "data": {
      "text/markdown": [
       "- It's still time to dive into the cryptocurrency market.  the cryptocurrency market has can still provide the potential to multiply the funds of users Observing the potential of digital currencies, Alexander Althausen expects the crypto market to give more than 1000 folds profit With the growing blockchain and crypto industry, the price of Bitcoin will also continue to surge higher Cryptocurrency market has been [&#8230;] ... [| Skaityti daugiau](https://www.thecoinrepublic.com/2021/04/17/cryptocurrency-market-can-still-give-better-gains-to-investors/) "
      ],
      "text/plain": [
       "<IPython.core.display.Markdown object>"
      ]
     },
     "execution_count": 4,
     "metadata": {},
     "output_type": "execute_result"
    }
   ],
   "source": [
    "#hide_input\n",
    "#md('##### {}'.format(titleBTC)) \n",
    "md(\"- {}{} {}{} [| Skaityti daugiau]({}) \".format(btc['title'],'. ', btc['body'], ' ...', btc['url']))"
   ]
  },
  {
   "cell_type": "code",
   "execution_count": 5,
   "id": "organic-actress",
   "metadata": {
    "execution": {
     "iopub.execute_input": "2021-04-18T02:11:33.403064Z",
     "iopub.status.busy": "2021-04-18T02:11:33.402417Z",
     "iopub.status.idle": "2021-04-18T02:11:33.405146Z",
     "shell.execute_reply": "2021-04-18T02:11:33.405632Z"
    },
    "papermill": {
     "duration": 0.023999,
     "end_time": "2021-04-18T02:11:33.405790",
     "exception": false,
     "start_time": "2021-04-18T02:11:33.381791",
     "status": "completed"
    },
    "tags": []
   },
   "outputs": [
    {
     "data": {
      "text/markdown": [
       "- XRP Price Analysis: 17 April.  XRP was in the news recently when Europe&#8217;s largest digital asset investment firm, Coinshares, announced the launch of an Exchange Traded Product (ETP) going by the name &#8220;Coinshares Physical XRP&#8221;, with XRPL as its ticker. Each unit of XRPL will be backed by 40 XRP at launch and is intended to provide yield exposure to [&#8230;] ... [| Skaityti daugiau](https://ambcrypto.com/xrp-price-analysis-17-april/) "
      ],
      "text/plain": [
       "<IPython.core.display.Markdown object>"
      ]
     },
     "execution_count": 5,
     "metadata": {},
     "output_type": "execute_result"
    }
   ],
   "source": [
    "#hide_input\n",
    "#md('##### {}'.format(titleBTC)) \n",
    "md(\"- {}{} {}{} [| Skaityti daugiau]({}) \".format(xrp['title'],'. ', xrp['body'], ' ...', xrp['url']))"
   ]
  },
  {
   "cell_type": "code",
   "execution_count": 6,
   "id": "prompt-farmer",
   "metadata": {
    "execution": {
     "iopub.execute_input": "2021-04-18T02:11:33.437241Z",
     "iopub.status.busy": "2021-04-18T02:11:33.436606Z",
     "iopub.status.idle": "2021-04-18T02:11:33.439967Z",
     "shell.execute_reply": "2021-04-18T02:11:33.439395Z"
    },
    "papermill": {
     "duration": 0.020232,
     "end_time": "2021-04-18T02:11:33.440099",
     "exception": false,
     "start_time": "2021-04-18T02:11:33.419867",
     "status": "completed"
    },
    "tags": []
   },
   "outputs": [
    {
     "data": {
      "text/markdown": [
       "- Tron, Huobi Token, Enjin Price Analysis: 16 April.  Tron saw a breakout past $0.121 to test the $0.166-level as resistance. Huobi Token also attempted to break a short-term downtrend to push it towards the $22-level but was halted by a wave of selling across the market. Finally, Enjin looked likely to descend below $3 once again. Tron [TRX] The previous week, TRX faced [&#8230;] ... [| Skaityti daugiau](https://ambcrypto.com/tron-huobi-token-enjin-price-analysis-16-april/) "
      ],
      "text/plain": [
       "<IPython.core.display.Markdown object>"
      ]
     },
     "execution_count": 6,
     "metadata": {},
     "output_type": "execute_result"
    }
   ],
   "source": [
    "#hide_input\n",
    "#md('##### {}'.format(titleBTC)) \n",
    "md(\"- {}{} {}{} [| Skaityti daugiau]({}) \".format(trx['title'],'. ', trx['body'], ' ...', trx['url']))"
   ]
  },
  {
   "cell_type": "code",
   "execution_count": 7,
   "id": "illegal-greece",
   "metadata": {
    "execution": {
     "iopub.execute_input": "2021-04-18T02:11:33.471857Z",
     "iopub.status.busy": "2021-04-18T02:11:33.471193Z",
     "iopub.status.idle": "2021-04-18T02:11:33.474674Z",
     "shell.execute_reply": "2021-04-18T02:11:33.474135Z"
    },
    "papermill": {
     "duration": 0.021524,
     "end_time": "2021-04-18T02:11:33.474802",
     "exception": false,
     "start_time": "2021-04-18T02:11:33.453278",
     "status": "completed"
    },
    "tags": []
   },
   "outputs": [
    {
     "data": {
      "text/markdown": [
       "- VeChain Mentioned in 2021 Forbes Blockchain 50, Parabolic Move In Sight?.  Up 150.3% over the past 14 days, VeChain (VET) trades at $0,23 with 15.6% and 84.4% profits in the daily and weekly chart, respectively. In addition to the rally, the company celebrated a major milestone that could give a new impulse to its corporate adoption. Via its Twitter handle, the VeChain Foundation announced VeChain was [&#8230;] ... [| Skaityti daugiau](https://www.newsbtc.com/news/vechain-mentioned-at-2021-forbes-blockchain-50-parabolic-move-in-sight/) "
      ],
      "text/plain": [
       "<IPython.core.display.Markdown object>"
      ]
     },
     "execution_count": 7,
     "metadata": {},
     "output_type": "execute_result"
    }
   ],
   "source": [
    "#hide_input\n",
    "#md('##### {}'.format(titleBTC)) \n",
    "md(\"- {}{} {}{} [| Skaityti daugiau]({}) \".format(eth['title'],'. ', eth['body'], ' ...', eth['url']))"
   ]
  },
  {
   "cell_type": "code",
   "execution_count": 8,
   "id": "sublime-lounge",
   "metadata": {
    "execution": {
     "iopub.execute_input": "2021-04-18T02:11:33.508580Z",
     "iopub.status.busy": "2021-04-18T02:11:33.507935Z",
     "iopub.status.idle": "2021-04-18T02:11:33.512596Z",
     "shell.execute_reply": "2021-04-18T02:11:33.512047Z"
    },
    "papermill": {
     "duration": 0.025054,
     "end_time": "2021-04-18T02:11:33.512730",
     "exception": false,
     "start_time": "2021-04-18T02:11:33.487676",
     "status": "completed"
    },
    "tags": []
   },
   "outputs": [
    {
     "data": {
      "text/markdown": [
       "- ADA Still Remains Sideways No Major Pullback.  ADA price surge from $1.21 to $1.42 on Saturday&#8217;s trading session The 24-hour volume in ADA is at $4,904,343,056 with a 9.60% decrease The ADA/BTC pair was trading at 0.00002298 BTC with a loss of 0.31% The 4-hour technical chart of ADA price forecasts a positive trend. According to pivot points, ADA&#8217;s critical support level [&#8230;] ... [| Skaityti daugiau](https://www.thecoinrepublic.com/2021/04/17/cardano-price-analysis-ada-price-forecasts-a-positive-trend/) "
      ],
      "text/plain": [
       "<IPython.core.display.Markdown object>"
      ]
     },
     "execution_count": 8,
     "metadata": {},
     "output_type": "execute_result"
    }
   ],
   "source": [
    "#hide_input\n",
    "#md('##### {}'.format(titleBTC)) \n",
    "md(\"- {}{} {}{} [| Skaityti daugiau]({}) \".format(ada['title'],'. ', ada['body'], ' ...', ada['url']))"
   ]
  },
  {
   "cell_type": "code",
   "execution_count": 9,
   "id": "specified-ordering",
   "metadata": {
    "execution": {
     "iopub.execute_input": "2021-04-18T02:11:33.544688Z",
     "iopub.status.busy": "2021-04-18T02:11:33.544068Z",
     "iopub.status.idle": "2021-04-18T02:11:33.549155Z",
     "shell.execute_reply": "2021-04-18T02:11:33.548621Z"
    },
    "papermill": {
     "duration": 0.022679,
     "end_time": "2021-04-18T02:11:33.549278",
     "exception": false,
     "start_time": "2021-04-18T02:11:33.526599",
     "status": "completed"
    },
    "tags": []
   },
   "outputs": [
    {
     "data": {
      "text/markdown": [
       "- Crypto Asset Manager Kryptoin Re-Files for a Bitcoin ETF.  Earlier last week, Delaware-based investment advisory firm Kryptoin refiled for a Bitcoin exchange-traded fund (ETF) with the U.S. Securities Exchange Commission. The asset management firm filed its first ETF application back in 2019 without much success. However, as institutional interest continues to ramp up and other nations greenlight crypto-based financial products, the likelihood of approval [&#8230;] ... [| Skaityti daugiau](https://bitcoinist.com/crypto-asset-manager-kryptoin-re-files-for-a-bitcoin-etf/?utm_source=rss&utm_medium=rss&utm_campaign=crypto-asset-manager-kryptoin-re-files-for-a-bitcoin-etf) "
      ],
      "text/plain": [
       "<IPython.core.display.Markdown object>"
      ]
     },
     "execution_count": 9,
     "metadata": {},
     "output_type": "execute_result"
    }
   ],
   "source": [
    "#hide_input\n",
    "#md('##### {}'.format(titleBTC)) \n",
    "md(\"- {}{} {}{} [| Skaityti daugiau]({}) \".format(exchange['title'],'. ', exchange['body'], ' ...', exchange['url']))"
   ]
  },
  {
   "cell_type": "code",
   "execution_count": null,
   "id": "tender-livestock",
   "metadata": {
    "papermill": {
     "duration": 0.013602,
     "end_time": "2021-04-18T02:11:33.576495",
     "exception": false,
     "start_time": "2021-04-18T02:11:33.562893",
     "status": "completed"
    },
    "tags": []
   },
   "outputs": [],
   "source": []
  },
  {
   "cell_type": "code",
   "execution_count": null,
   "id": "appreciated-diamond",
   "metadata": {
    "papermill": {
     "duration": 0.013719,
     "end_time": "2021-04-18T02:11:33.603843",
     "exception": false,
     "start_time": "2021-04-18T02:11:33.590124",
     "status": "completed"
    },
    "tags": []
   },
   "outputs": [],
   "source": []
  },
  {
   "cell_type": "code",
   "execution_count": null,
   "id": "romance-sweden",
   "metadata": {
    "papermill": {
     "duration": 0.01381,
     "end_time": "2021-04-18T02:11:33.633304",
     "exception": false,
     "start_time": "2021-04-18T02:11:33.619494",
     "status": "completed"
    },
    "tags": []
   },
   "outputs": [],
   "source": []
  },
  {
   "cell_type": "code",
   "execution_count": null,
   "id": "dietary-statistics",
   "metadata": {
    "papermill": {
     "duration": 0.013534,
     "end_time": "2021-04-18T02:11:33.660700",
     "exception": false,
     "start_time": "2021-04-18T02:11:33.647166",
     "status": "completed"
    },
    "tags": []
   },
   "outputs": [],
   "source": []
  }
 ],
 "metadata": {
  "kernelspec": {
   "display_name": "Python 3",
   "language": "python",
   "name": "python3"
  },
  "language_info": {
   "codemirror_mode": {
    "name": "ipython",
    "version": 3
   },
   "file_extension": ".py",
   "mimetype": "text/x-python",
   "name": "python",
   "nbconvert_exporter": "python",
   "pygments_lexer": "ipython3",
   "version": "3.6.13"
  },
  "papermill": {
   "default_parameters": {},
   "duration": 15.337282,
   "end_time": "2021-04-18T02:11:35.046455",
   "environment_variables": {},
   "exception": null,
   "input_path": "Market-News.ipynb",
   "output_path": "Market-News.ipynb",
   "parameters": {},
   "start_time": "2021-04-18T02:11:19.709173",
   "version": "2.2.2"
  }
 },
 "nbformat": 4,
 "nbformat_minor": 5
}