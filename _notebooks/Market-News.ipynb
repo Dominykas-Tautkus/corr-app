{
 "cells": [
  {
   "cell_type": "markdown",
   "id": "short-greensboro",
   "metadata": {
    "papermill": {
     "duration": 0.017084,
     "end_time": "2021-07-04T01:58:15.095853",
     "exception": false,
     "start_time": "2021-07-04T01:58:15.078769",
     "status": "completed"
    },
    "tags": []
   },
   "source": [
    "# Kriptovaliutų naujienos"
   ]
  },
  {
   "cell_type": "code",
   "execution_count": 1,
   "id": "functioning-knowing",
   "metadata": {
    "execution": {
     "iopub.execute_input": "2021-07-04T01:58:15.138827Z",
     "iopub.status.busy": "2021-07-04T01:58:15.138110Z",
     "iopub.status.idle": "2021-07-04T01:58:16.706567Z",
     "shell.execute_reply": "2021-07-04T01:58:16.705942Z"
    },
    "papermill": {
     "duration": 1.598103,
     "end_time": "2021-07-04T01:58:16.706864",
     "exception": false,
     "start_time": "2021-07-04T01:58:15.108761",
     "status": "completed"
    },
    "tags": []
   },
   "outputs": [],
   "source": [
    "#hide_input\n",
    "import warnings\n",
    "warnings.filterwarnings('ignore')\n",
    "from scripts.read_data import read_api\n",
    "from scripts.read_data import read_news\n",
    "from scripts.read_data import read_covid\n",
    "import matplotlib.pyplot as plt \n",
    "from IPython.display import Markdown as md"
   ]
  },
  {
   "cell_type": "code",
   "execution_count": 2,
   "id": "shared-acceptance",
   "metadata": {
    "execution": {
     "iopub.execute_input": "2021-07-04T01:58:16.739065Z",
     "iopub.status.busy": "2021-07-04T01:58:16.738171Z",
     "iopub.status.idle": "2021-07-04T01:58:26.593201Z",
     "shell.execute_reply": "2021-07-04T01:58:26.592681Z"
    },
    "papermill": {
     "duration": 9.874248,
     "end_time": "2021-07-04T01:58:26.593339",
     "exception": false,
     "start_time": "2021-07-04T01:58:16.719091",
     "status": "completed"
    },
    "tags": []
   },
   "outputs": [],
   "source": [
    "#hide_input\n",
    "blockchain = read_news('blockchain') \n",
    "btc = read_news('btc') \n",
    "xrp = read_news('xrp') \n",
    "trx = read_news('trx') \n",
    "eth = read_news('eth')  \n",
    "ada = read_news('ada')\n",
    "exchange = read_news('exchange') "
   ]
  },
  {
   "cell_type": "code",
   "execution_count": 3,
   "id": "synthetic-notion",
   "metadata": {
    "execution": {
     "iopub.execute_input": "2021-07-04T01:58:26.624784Z",
     "iopub.status.busy": "2021-07-04T01:58:26.623823Z",
     "iopub.status.idle": "2021-07-04T01:58:26.627746Z",
     "shell.execute_reply": "2021-07-04T01:58:26.627225Z"
    },
    "papermill": {
     "duration": 0.022677,
     "end_time": "2021-07-04T01:58:26.627863",
     "exception": false,
     "start_time": "2021-07-04T01:58:26.605186",
     "status": "completed"
    },
    "tags": []
   },
   "outputs": [
    {
     "data": {
      "text/markdown": [
       "- Polygon Opens Vault On MakerDAO, Commits $50 Million Worth Of Matic Tokens.  Polygon has announced the integration of yield optimization vaults on the Maker Network. The blockchain-enabled protocol, formerly referred to as the Matic Chain, tweeted on Wednesday that it &#8220;will be opening a vault on Maker&#8221; and investing $50M of MATIC tokens as agreed liquidity from the treasury. https://twitter.com/sourcex44/status/1410289455181668354 With the recent integration, it means the [&#8230;] ... [| Skaityti daugiau](https://www.newsbtc.com/news/polygon-vault-makerdao-50-million-matic-tokens/) "
      ],
      "text/plain": [
       "<IPython.core.display.Markdown object>"
      ]
     },
     "execution_count": 3,
     "metadata": {},
     "output_type": "execute_result"
    }
   ],
   "source": [
    "#hide_input\n",
    "#md('##### {}'.format(titleBTC)) \n",
    "md(\"- {}{} {}{} [| Skaityti daugiau]({}) \".format(blockchain['title'],'. ', blockchain['body'], ' ...', blockchain['url']))"
   ]
  },
  {
   "cell_type": "code",
   "execution_count": 4,
   "id": "aging-caution",
   "metadata": {
    "execution": {
     "iopub.execute_input": "2021-07-04T01:58:26.660348Z",
     "iopub.status.busy": "2021-07-04T01:58:26.659733Z",
     "iopub.status.idle": "2021-07-04T01:58:26.663334Z",
     "shell.execute_reply": "2021-07-04T01:58:26.662701Z"
    },
    "papermill": {
     "duration": 0.023462,
     "end_time": "2021-07-04T01:58:26.663452",
     "exception": false,
     "start_time": "2021-07-04T01:58:26.639990",
     "status": "completed"
    },
    "tags": []
   },
   "outputs": [
    {
     "data": {
      "text/markdown": [
       "- Bitcoin’s latest ‘use case’ on the darknet raises old concerns.  If arms, bio-weapons, pornography, and illicit drugs were not enough, market places on the darknet have started listing stolen Covid-19 vaccines and fraudulent vaccine certificates on their catalogs. Customers opting for these illegal vaccination methods are also falling prey to scams, found a recent investigative report by Coinform. According to the same, vendors are selling [&#8230;] ... [| Skaityti daugiau](https://ambcrypto.com/bitcoins-latest-use-case-on-the-darknet-raises-old-concerns/) "
      ],
      "text/plain": [
       "<IPython.core.display.Markdown object>"
      ]
     },
     "execution_count": 4,
     "metadata": {},
     "output_type": "execute_result"
    }
   ],
   "source": [
    "#hide_input\n",
    "#md('##### {}'.format(titleBTC)) \n",
    "md(\"- {}{} {}{} [| Skaityti daugiau]({}) \".format(btc['title'],'. ', btc['body'], ' ...', btc['url']))"
   ]
  },
  {
   "cell_type": "code",
   "execution_count": 5,
   "id": "organic-actress",
   "metadata": {
    "execution": {
     "iopub.execute_input": "2021-07-04T01:58:26.693912Z",
     "iopub.status.busy": "2021-07-04T01:58:26.692588Z",
     "iopub.status.idle": "2021-07-04T01:58:26.697583Z",
     "shell.execute_reply": "2021-07-04T01:58:26.697062Z"
    },
    "papermill": {
     "duration": 0.021621,
     "end_time": "2021-07-04T01:58:26.697700",
     "exception": false,
     "start_time": "2021-07-04T01:58:26.676079",
     "status": "completed"
    },
    "tags": []
   },
   "outputs": [
    {
     "data": {
      "text/markdown": [
       "- XRP hitting $1 – What are the chances?.  Disclaimer: The findings of the following analysis are the sole opinions of the writer and should not be taken as investment advice The last week and a half been quite bullish for XRP. The cryptocurrency managed to hike from a low of $0.50 to a high of $0.71 &#8211; A price action representing gains of 42%. [&#8230;] ... [| Skaityti daugiau](https://ambcrypto.com/xrp-to-hit-1-what-are-the-chances/) "
      ],
      "text/plain": [
       "<IPython.core.display.Markdown object>"
      ]
     },
     "execution_count": 5,
     "metadata": {},
     "output_type": "execute_result"
    }
   ],
   "source": [
    "#hide_input\n",
    "#md('##### {}'.format(titleBTC)) \n",
    "md(\"- {}{} {}{} [| Skaityti daugiau]({}) \".format(xrp['title'],'. ', xrp['body'], ' ...', xrp['url']))"
   ]
  },
  {
   "cell_type": "code",
   "execution_count": 6,
   "id": "prompt-farmer",
   "metadata": {
    "execution": {
     "iopub.execute_input": "2021-07-04T01:58:26.727657Z",
     "iopub.status.busy": "2021-07-04T01:58:26.725011Z",
     "iopub.status.idle": "2021-07-04T01:58:26.732181Z",
     "shell.execute_reply": "2021-07-04T01:58:26.732776Z"
    },
    "papermill": {
     "duration": 0.023104,
     "end_time": "2021-07-04T01:58:26.732933",
     "exception": false,
     "start_time": "2021-07-04T01:58:26.709829",
     "status": "completed"
    },
    "tags": []
   },
   "outputs": [
    {
     "data": {
      "text/markdown": [
       "- XRP, Tron, MATIC Price Analysis: 02 July.  With the crypto-market&#8217;s cumulative capitalization falling, the market caps of altcoins such as XRP, TRX, and MATIC also fell to about $30 billion, $4.6 billion, and $6.7 billion, respectively. Over the past week, these altcoins noted significant losses, entering the bearish territory at the time of writing. However, they also continued to move within restricted [&#8230;] ... [| Skaityti daugiau](https://ambcrypto.com/xrp-tron-matic-price-analysis-02-july/) "
      ],
      "text/plain": [
       "<IPython.core.display.Markdown object>"
      ]
     },
     "execution_count": 6,
     "metadata": {},
     "output_type": "execute_result"
    }
   ],
   "source": [
    "#hide_input\n",
    "#md('##### {}'.format(titleBTC)) \n",
    "md(\"- {}{} {}{} [| Skaityti daugiau]({}) \".format(trx['title'],'. ', trx['body'], ' ...', trx['url']))"
   ]
  },
  {
   "cell_type": "code",
   "execution_count": 7,
   "id": "illegal-greece",
   "metadata": {
    "execution": {
     "iopub.execute_input": "2021-07-04T01:58:26.764498Z",
     "iopub.status.busy": "2021-07-04T01:58:26.763224Z",
     "iopub.status.idle": "2021-07-04T01:58:26.767983Z",
     "shell.execute_reply": "2021-07-04T01:58:26.768665Z"
    },
    "papermill": {
     "duration": 0.022263,
     "end_time": "2021-07-04T01:58:26.768803",
     "exception": false,
     "start_time": "2021-07-04T01:58:26.746540",
     "status": "completed"
    },
    "tags": []
   },
   "outputs": [
    {
     "data": {
      "text/markdown": [
       "- Polygon Opens Vault On MakerDAO, Commits $50 Million Worth Of Matic Tokens.  Polygon has announced the integration of yield optimization vaults on the Maker Network. The blockchain-enabled protocol, formerly referred to as the Matic Chain, tweeted on Wednesday that it &#8220;will be opening a vault on Maker&#8221; and investing $50M of MATIC tokens as agreed liquidity from the treasury. https://twitter.com/sourcex44/status/1410289455181668354 With the recent integration, it means the [&#8230;] ... [| Skaityti daugiau](https://www.newsbtc.com/news/polygon-vault-makerdao-50-million-matic-tokens/) "
      ],
      "text/plain": [
       "<IPython.core.display.Markdown object>"
      ]
     },
     "execution_count": 7,
     "metadata": {},
     "output_type": "execute_result"
    }
   ],
   "source": [
    "#hide_input\n",
    "#md('##### {}'.format(titleBTC)) \n",
    "md(\"- {}{} {}{} [| Skaityti daugiau]({}) \".format(eth['title'],'. ', eth['body'], ' ...', eth['url']))"
   ]
  },
  {
   "cell_type": "code",
   "execution_count": 8,
   "id": "sublime-lounge",
   "metadata": {
    "execution": {
     "iopub.execute_input": "2021-07-04T01:58:26.805454Z",
     "iopub.status.busy": "2021-07-04T01:58:26.804821Z",
     "iopub.status.idle": "2021-07-04T01:58:26.814881Z",
     "shell.execute_reply": "2021-07-04T01:58:26.814310Z"
    },
    "papermill": {
     "duration": 0.033046,
     "end_time": "2021-07-04T01:58:26.815008",
     "exception": false,
     "start_time": "2021-07-04T01:58:26.781962",
     "status": "completed"
    },
    "tags": []
   },
   "outputs": [
    {
     "data": {
      "text/markdown": [
       "- Cardano Joins Grayscale Digital Large Cap Fund as Third Biggest Component.  Cardano has been added to Grayscale Investments&#8217; large-cap cryptocurrency fund. It is now the third-largest component of the fund after bitcoin and ether. Grayscale Investments, the world&#8217;s largest digital currency asset manager, announced Friday the addition of cardano to its Digital Large Cap Fund (OTCQX: GDLC). Grayscale described this fund as &#8220;a passive, rules-based strategy [&#8230;] ... [| Skaityti daugiau](https://news.bitcoin.com/cardano-grayscale-digital-large-cap-fund-third-biggest-component/) "
      ],
      "text/plain": [
       "<IPython.core.display.Markdown object>"
      ]
     },
     "execution_count": 8,
     "metadata": {},
     "output_type": "execute_result"
    }
   ],
   "source": [
    "#hide_input\n",
    "#md('##### {}'.format(titleBTC)) \n",
    "md(\"- {}{} {}{} [| Skaityti daugiau]({}) \".format(ada['title'],'. ', ada['body'], ' ...', ada['url']))"
   ]
  },
  {
   "cell_type": "code",
   "execution_count": 9,
   "id": "specified-ordering",
   "metadata": {
    "execution": {
     "iopub.execute_input": "2021-07-04T01:58:26.852919Z",
     "iopub.status.busy": "2021-07-04T01:58:26.852241Z",
     "iopub.status.idle": "2021-07-04T01:58:26.856017Z",
     "shell.execute_reply": "2021-07-04T01:58:26.856631Z"
    },
    "papermill": {
     "duration": 0.027826,
     "end_time": "2021-07-04T01:58:26.856818",
     "exception": false,
     "start_time": "2021-07-04T01:58:26.828992",
     "status": "completed"
    },
    "tags": []
   },
   "outputs": [
    {
     "data": {
      "text/markdown": [
       "- Doctor Bitcoin may bag jail sentence.  TL;DR Breakdown Hopkins who operates illegal crypto scheme to get jail time Crypto King also nabbed in India Mark Alexander Hopkins, popularly called Doctor Bitcoin, has been found guilty and sentenced to jail for operating an illegal cash-to-crypto scheme. Doctor Bitcoin confessed that he allowed criminals to exchange fiat to Bitcoin illegally. Prerak Shah, the [&#8230;] ... [| Skaityti daugiau](https://www.cryptopolitan.com/doctor-bitcoin-bags-jail-sentence/) "
      ],
      "text/plain": [
       "<IPython.core.display.Markdown object>"
      ]
     },
     "execution_count": 9,
     "metadata": {},
     "output_type": "execute_result"
    }
   ],
   "source": [
    "#hide_input\n",
    "#md('##### {}'.format(titleBTC)) \n",
    "md(\"- {}{} {}{} [| Skaityti daugiau]({}) \".format(exchange['title'],'. ', exchange['body'], ' ...', exchange['url']))"
   ]
  },
  {
   "cell_type": "code",
   "execution_count": null,
   "id": "tender-livestock",
   "metadata": {
    "papermill": {
     "duration": 0.015349,
     "end_time": "2021-07-04T01:58:26.889213",
     "exception": false,
     "start_time": "2021-07-04T01:58:26.873864",
     "status": "completed"
    },
    "tags": []
   },
   "outputs": [],
   "source": []
  },
  {
   "cell_type": "code",
   "execution_count": null,
   "id": "appreciated-diamond",
   "metadata": {
    "papermill": {
     "duration": 0.018573,
     "end_time": "2021-07-04T01:58:26.922930",
     "exception": false,
     "start_time": "2021-07-04T01:58:26.904357",
     "status": "completed"
    },
    "tags": []
   },
   "outputs": [],
   "source": []
  },
  {
   "cell_type": "code",
   "execution_count": null,
   "id": "romance-sweden",
   "metadata": {
    "papermill": {
     "duration": 0.014297,
     "end_time": "2021-07-04T01:58:26.953330",
     "exception": false,
     "start_time": "2021-07-04T01:58:26.939033",
     "status": "completed"
    },
    "tags": []
   },
   "outputs": [],
   "source": []
  },
  {
   "cell_type": "code",
   "execution_count": null,
   "id": "dietary-statistics",
   "metadata": {
    "papermill": {
     "duration": 0.014677,
     "end_time": "2021-07-04T01:58:26.984484",
     "exception": false,
     "start_time": "2021-07-04T01:58:26.969807",
     "status": "completed"
    },
    "tags": []
   },
   "outputs": [],
   "source": []
  }
 ],
 "metadata": {
  "kernelspec": {
   "display_name": "Python 3",
   "language": "python",
   "name": "python3"
  },
  "language_info": {
   "codemirror_mode": {
    "name": "ipython",
    "version": 3
   },
   "file_extension": ".py",
   "mimetype": "text/x-python",
   "name": "python",
   "nbconvert_exporter": "python",
   "pygments_lexer": "ipython3",
   "version": "3.6.13"
  },
  "papermill": {
   "default_parameters": {},
   "duration": 14.373819,
   "end_time": "2021-07-04T01:58:28.271218",
   "environment_variables": {},
   "exception": null,
   "input_path": "Market-News.ipynb",
   "output_path": "Market-News.ipynb",
   "parameters": {},
   "start_time": "2021-07-04T01:58:13.897399",
   "version": "2.2.2"
  }
 },
 "nbformat": 4,
 "nbformat_minor": 5
}