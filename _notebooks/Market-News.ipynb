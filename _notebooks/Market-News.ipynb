{
 "cells": [
  {
   "cell_type": "markdown",
   "id": "short-greensboro",
   "metadata": {
    "papermill": {
     "duration": 0.017595,
     "end_time": "2021-03-13T01:46:17.525434",
     "exception": false,
     "start_time": "2021-03-13T01:46:17.507839",
     "status": "completed"
    },
    "tags": []
   },
   "source": [
    "# Kriptovaliutų naujienos"
   ]
  },
  {
   "cell_type": "code",
   "execution_count": 1,
   "id": "functioning-knowing",
   "metadata": {
    "execution": {
     "iopub.execute_input": "2021-03-13T01:46:17.556076Z",
     "iopub.status.busy": "2021-03-13T01:46:17.555436Z",
     "iopub.status.idle": "2021-03-13T01:46:18.704705Z",
     "shell.execute_reply": "2021-03-13T01:46:18.704070Z"
    },
    "papermill": {
     "duration": 1.169727,
     "end_time": "2021-03-13T01:46:18.704870",
     "exception": false,
     "start_time": "2021-03-13T01:46:17.535143",
     "status": "completed"
    },
    "tags": []
   },
   "outputs": [],
   "source": [
    "#hide_input\n",
    "import warnings\n",
    "warnings.filterwarnings('ignore')\n",
    "from scripts.read_data import read_api\n",
    "from scripts.read_data import read_news\n",
    "from scripts.read_data import read_covid\n",
    "import matplotlib.pyplot as plt \n",
    "from IPython.display import Markdown as md"
   ]
  },
  {
   "cell_type": "code",
   "execution_count": 2,
   "id": "shared-acceptance",
   "metadata": {
    "execution": {
     "iopub.execute_input": "2021-03-13T01:46:18.736167Z",
     "iopub.status.busy": "2021-03-13T01:46:18.735299Z",
     "iopub.status.idle": "2021-03-13T01:46:27.421728Z",
     "shell.execute_reply": "2021-03-13T01:46:27.421267Z"
    },
    "papermill": {
     "duration": 8.705553,
     "end_time": "2021-03-13T01:46:27.421842",
     "exception": false,
     "start_time": "2021-03-13T01:46:18.716289",
     "status": "completed"
    },
    "tags": []
   },
   "outputs": [],
   "source": [
    "#hide_input\n",
    "blockchain = read_news('blockchain') \n",
    "btc = read_news('btc') \n",
    "xrp = read_news('xrp') \n",
    "trx = read_news('trx') \n",
    "eth = read_news('eth')  \n",
    "ada = read_news('ada')\n",
    "exchange = read_news('exchange') "
   ]
  },
  {
   "cell_type": "code",
   "execution_count": 3,
   "id": "synthetic-notion",
   "metadata": {
    "execution": {
     "iopub.execute_input": "2021-03-13T01:46:27.445344Z",
     "iopub.status.busy": "2021-03-13T01:46:27.444876Z",
     "iopub.status.idle": "2021-03-13T01:46:27.447180Z",
     "shell.execute_reply": "2021-03-13T01:46:27.447654Z"
    },
    "papermill": {
     "duration": 0.016806,
     "end_time": "2021-03-13T01:46:27.447775",
     "exception": false,
     "start_time": "2021-03-13T01:46:27.430969",
     "status": "completed"
    },
    "tags": []
   },
   "outputs": [
    {
     "data": {
      "text/markdown": [
       "- Buterin helping to strategize against Ethereum 51% attack possibility.  Ethereum co-founder Vitalik Buterin is working to proactively solve a blockchain vulnerability.  ... [| Skaityti daugiau](https://cointelegraph.com/news/buterin-helping-to-strategize-against-ethereum-51-attack-possibility) "
      ],
      "text/plain": [
       "<IPython.core.display.Markdown object>"
      ]
     },
     "execution_count": 3,
     "metadata": {},
     "output_type": "execute_result"
    }
   ],
   "source": [
    "#hide_input\n",
    "#md('##### {}'.format(titleBTC)) \n",
    "md(\"- {}{} {}{} [| Skaityti daugiau]({}) \".format(blockchain['title'],'. ', blockchain['body'], ' ...', blockchain['url']))"
   ]
  },
  {
   "cell_type": "code",
   "execution_count": 4,
   "id": "aging-caution",
   "metadata": {
    "execution": {
     "iopub.execute_input": "2021-03-13T01:46:27.471471Z",
     "iopub.status.busy": "2021-03-13T01:46:27.470760Z",
     "iopub.status.idle": "2021-03-13T01:46:27.473126Z",
     "shell.execute_reply": "2021-03-13T01:46:27.473570Z"
    },
    "papermill": {
     "duration": 0.016698,
     "end_time": "2021-03-13T01:46:27.473685",
     "exception": false,
     "start_time": "2021-03-13T01:46:27.456987",
     "status": "completed"
    },
    "tags": []
   },
   "outputs": [
    {
     "data": {
      "text/markdown": [
       "- Retail Investors Are More Bullish on Cardano’s ADA Than BTC, Survey Shows.  Retail investors in the United States are now more bullish on Cardano’s ADA than they are on the flagship cryptocurrency Bitcoin (BTC), according to a recent survey by crypto broker Voyager Digital. The firm’s Digital Asset Investor Sentiment Survey, first reported on by Decrypt, reveals that 31.9% of polled investors are the “most bullish” on […] ... [| Skaityti daugiau](https://www.cryptoglobe.com/latest/2021/03/retail-investors-are-more-bullish-on-cardanos-ada-than-btc-survey-shows/) "
      ],
      "text/plain": [
       "<IPython.core.display.Markdown object>"
      ]
     },
     "execution_count": 4,
     "metadata": {},
     "output_type": "execute_result"
    }
   ],
   "source": [
    "#hide_input\n",
    "#md('##### {}'.format(titleBTC)) \n",
    "md(\"- {}{} {}{} [| Skaityti daugiau]({}) \".format(btc['title'],'. ', btc['body'], ' ...', btc['url']))"
   ]
  },
  {
   "cell_type": "code",
   "execution_count": 5,
   "id": "organic-actress",
   "metadata": {
    "execution": {
     "iopub.execute_input": "2021-03-13T01:46:27.497738Z",
     "iopub.status.busy": "2021-03-13T01:46:27.497125Z",
     "iopub.status.idle": "2021-03-13T01:46:27.499343Z",
     "shell.execute_reply": "2021-03-13T01:46:27.499954Z"
    },
    "papermill": {
     "duration": 0.016744,
     "end_time": "2021-03-13T01:46:27.500090",
     "exception": false,
     "start_time": "2021-03-13T01:46:27.483346",
     "status": "completed"
    },
    "tags": []
   },
   "outputs": [
    {
     "data": {
      "text/markdown": [
       "- Price analysis 3/12: BTC, ETH, BNB, ADA, DOT, XRP, UNI, LTC, LINK, BCH.  Bitcoin bulls are attempting to push BTC price back toward $58,000 but data shows altcoins may be losing their bullish momentum. ... [| Skaityti daugiau](https://cointelegraph.com/news/price-analysis-3-12-btc-eth-bnb-ada-dot-xrp-uni-ltc-link-bch) "
      ],
      "text/plain": [
       "<IPython.core.display.Markdown object>"
      ]
     },
     "execution_count": 5,
     "metadata": {},
     "output_type": "execute_result"
    }
   ],
   "source": [
    "#hide_input\n",
    "#md('##### {}'.format(titleBTC)) \n",
    "md(\"- {}{} {}{} [| Skaityti daugiau]({}) \".format(xrp['title'],'. ', xrp['body'], ' ...', xrp['url']))"
   ]
  },
  {
   "cell_type": "code",
   "execution_count": 6,
   "id": "prompt-farmer",
   "metadata": {
    "execution": {
     "iopub.execute_input": "2021-03-13T01:46:27.523569Z",
     "iopub.status.busy": "2021-03-13T01:46:27.523026Z",
     "iopub.status.idle": "2021-03-13T01:46:27.527516Z",
     "shell.execute_reply": "2021-03-13T01:46:27.527899Z"
    },
    "papermill": {
     "duration": 0.017954,
     "end_time": "2021-03-13T01:46:27.528009",
     "exception": false,
     "start_time": "2021-03-13T01:46:27.510055",
     "status": "completed"
    },
    "tags": []
   },
   "outputs": [
    {
     "data": {
      "text/markdown": [
       "- Justin Sun: Christie’s Tech Glitch Stopped Me Paying USD 70M for Beeple NFT.  Justin Sun. Source: a video screenshot, Youtube, Tron FoundationThe Tron (TRX) chief Justin Sun has spoken out after it was confirmed he was thwarted in the finals seconds during his attempt to buy the first piece of digital-only art to go under the hammer at the auction house Christie’s.Initially, it was reported that Sun had been successful with a USD 69m bid for the work, entitled ... [| Skaityti daugiau](https://cryptonews.com/news/justin-sun-christie-s-tech-glitch-stopped-me-paying-usd-70m-9517.htm) "
      ],
      "text/plain": [
       "<IPython.core.display.Markdown object>"
      ]
     },
     "execution_count": 6,
     "metadata": {},
     "output_type": "execute_result"
    }
   ],
   "source": [
    "#hide_input\n",
    "#md('##### {}'.format(titleBTC)) \n",
    "md(\"- {}{} {}{} [| Skaityti daugiau]({}) \".format(trx['title'],'. ', trx['body'], ' ...', trx['url']))"
   ]
  },
  {
   "cell_type": "code",
   "execution_count": 7,
   "id": "illegal-greece",
   "metadata": {
    "execution": {
     "iopub.execute_input": "2021-03-13T01:46:27.552671Z",
     "iopub.status.busy": "2021-03-13T01:46:27.552135Z",
     "iopub.status.idle": "2021-03-13T01:46:27.554840Z",
     "shell.execute_reply": "2021-03-13T01:46:27.554334Z"
    },
    "papermill": {
     "duration": 0.016738,
     "end_time": "2021-03-13T01:46:27.554931",
     "exception": false,
     "start_time": "2021-03-13T01:46:27.538193",
     "status": "completed"
    },
    "tags": []
   },
   "outputs": [
    {
     "data": {
      "text/markdown": [
       "- Buterin helping to strategize against Ethereum 51% attack possibility.  Ethereum co-founder Vitalik Buterin is working to proactively solve a blockchain vulnerability.  ... [| Skaityti daugiau](https://cointelegraph.com/news/buterin-helping-to-strategize-against-ethereum-51-attack-possibility) "
      ],
      "text/plain": [
       "<IPython.core.display.Markdown object>"
      ]
     },
     "execution_count": 7,
     "metadata": {},
     "output_type": "execute_result"
    }
   ],
   "source": [
    "#hide_input\n",
    "#md('##### {}'.format(titleBTC)) \n",
    "md(\"- {}{} {}{} [| Skaityti daugiau]({}) \".format(eth['title'],'. ', eth['body'], ' ...', eth['url']))"
   ]
  },
  {
   "cell_type": "code",
   "execution_count": 8,
   "id": "sublime-lounge",
   "metadata": {
    "execution": {
     "iopub.execute_input": "2021-03-13T01:46:27.581319Z",
     "iopub.status.busy": "2021-03-13T01:46:27.580603Z",
     "iopub.status.idle": "2021-03-13T01:46:27.583247Z",
     "shell.execute_reply": "2021-03-13T01:46:27.583775Z"
    },
    "papermill": {
     "duration": 0.018817,
     "end_time": "2021-03-13T01:46:27.583892",
     "exception": false,
     "start_time": "2021-03-13T01:46:27.565075",
     "status": "completed"
    },
    "tags": []
   },
   "outputs": [
    {
     "data": {
      "text/markdown": [
       "- Retail Investors Are More Bullish on Cardano’s ADA Than BTC, Survey Shows.  Retail investors in the United States are now more bullish on Cardano’s ADA than they are on the flagship cryptocurrency Bitcoin (BTC), according to a recent survey by crypto broker Voyager Digital. The firm’s Digital Asset Investor Sentiment Survey, first reported on by Decrypt, reveals that 31.9% of polled investors are the “most bullish” on […] ... [| Skaityti daugiau](https://www.cryptoglobe.com/latest/2021/03/retail-investors-are-more-bullish-on-cardanos-ada-than-btc-survey-shows/) "
      ],
      "text/plain": [
       "<IPython.core.display.Markdown object>"
      ]
     },
     "execution_count": 8,
     "metadata": {},
     "output_type": "execute_result"
    }
   ],
   "source": [
    "#hide_input\n",
    "#md('##### {}'.format(titleBTC)) \n",
    "md(\"- {}{} {}{} [| Skaityti daugiau]({}) \".format(ada['title'],'. ', ada['body'], ' ...', ada['url']))"
   ]
  },
  {
   "cell_type": "code",
   "execution_count": 9,
   "id": "specified-ordering",
   "metadata": {
    "execution": {
     "iopub.execute_input": "2021-03-13T01:46:27.609065Z",
     "iopub.status.busy": "2021-03-13T01:46:27.608540Z",
     "iopub.status.idle": "2021-03-13T01:46:27.611874Z",
     "shell.execute_reply": "2021-03-13T01:46:27.611458Z"
    },
    "papermill": {
     "duration": 0.017817,
     "end_time": "2021-03-13T01:46:27.611967",
     "exception": false,
     "start_time": "2021-03-13T01:46:27.594150",
     "status": "completed"
    },
    "tags": []
   },
   "outputs": [
    {
     "data": {
      "text/markdown": [
       "- Ndau Wallet Does Away With Staking Middlemen.  Staking has become a popular concept within the blockchain and cryptocurrency space, especially in blockchain networks that implement proof-of-stake consensus algorithms. The idea is that holders can earn passive income by locking their digital assets for a certain period of time in exchange for rewards distributed by the network. However, many of these programs require [&#8230;]The post Ndau Wallet Does Away With Staking Middlemen appeared first on The Daily Hodl. ... [| Skaityti daugiau](https://dailyhodl.com/2021/03/12/ndau-wallet-does-away-with-staking-middlemen/) "
      ],
      "text/plain": [
       "<IPython.core.display.Markdown object>"
      ]
     },
     "execution_count": 9,
     "metadata": {},
     "output_type": "execute_result"
    }
   ],
   "source": [
    "#hide_input\n",
    "#md('##### {}'.format(titleBTC)) \n",
    "md(\"- {}{} {}{} [| Skaityti daugiau]({}) \".format(exchange['title'],'. ', exchange['body'], ' ...', exchange['url']))"
   ]
  },
  {
   "cell_type": "code",
   "execution_count": null,
   "id": "tender-livestock",
   "metadata": {
    "papermill": {
     "duration": 0.010994,
     "end_time": "2021-03-13T01:46:27.634413",
     "exception": false,
     "start_time": "2021-03-13T01:46:27.623419",
     "status": "completed"
    },
    "tags": []
   },
   "outputs": [],
   "source": []
  },
  {
   "cell_type": "code",
   "execution_count": null,
   "id": "appreciated-diamond",
   "metadata": {
    "papermill": {
     "duration": 0.011951,
     "end_time": "2021-03-13T01:46:27.657613",
     "exception": false,
     "start_time": "2021-03-13T01:46:27.645662",
     "status": "completed"
    },
    "tags": []
   },
   "outputs": [],
   "source": []
  },
  {
   "cell_type": "code",
   "execution_count": null,
   "id": "romance-sweden",
   "metadata": {
    "papermill": {
     "duration": 0.011842,
     "end_time": "2021-03-13T01:46:27.680750",
     "exception": false,
     "start_time": "2021-03-13T01:46:27.668908",
     "status": "completed"
    },
    "tags": []
   },
   "outputs": [],
   "source": []
  },
  {
   "cell_type": "code",
   "execution_count": null,
   "id": "dietary-statistics",
   "metadata": {
    "papermill": {
     "duration": 0.01167,
     "end_time": "2021-03-13T01:46:27.703055",
     "exception": false,
     "start_time": "2021-03-13T01:46:27.691385",
     "status": "completed"
    },
    "tags": []
   },
   "outputs": [],
   "source": []
  }
 ],
 "metadata": {
  "kernelspec": {
   "display_name": "Python 3",
   "language": "python",
   "name": "python3"
  },
  "language_info": {
   "codemirror_mode": {
    "name": "ipython",
    "version": 3
   },
   "file_extension": ".py",
   "mimetype": "text/x-python",
   "name": "python",
   "nbconvert_exporter": "python",
   "pygments_lexer": "ipython3",
   "version": "3.6.13"
  },
  "papermill": {
   "default_parameters": {},
   "duration": 11.663587,
   "end_time": "2021-03-13T01:46:28.124094",
   "environment_variables": {},
   "exception": null,
   "input_path": "Market-News.ipynb",
   "output_path": "Market-News.ipynb",
   "parameters": {},
   "start_time": "2021-03-13T01:46:16.460507",
   "version": "2.2.2"
  }
 },
 "nbformat": 4,
 "nbformat_minor": 5
}