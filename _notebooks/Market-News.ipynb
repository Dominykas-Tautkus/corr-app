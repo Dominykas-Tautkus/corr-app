{
 "cells": [
  {
   "cell_type": "markdown",
   "id": "short-greensboro",
   "metadata": {
    "papermill": {
     "duration": 0.016055,
     "end_time": "2021-02-11T01:43:07.704015",
     "exception": false,
     "start_time": "2021-02-11T01:43:07.687960",
     "status": "completed"
    },
    "tags": []
   },
   "source": [
    "# Kriptovaliutų naujienos"
   ]
  },
  {
   "cell_type": "code",
   "execution_count": 1,
   "id": "functioning-knowing",
   "metadata": {
    "execution": {
     "iopub.execute_input": "2021-02-11T01:43:07.733706Z",
     "iopub.status.busy": "2021-02-11T01:43:07.733158Z",
     "iopub.status.idle": "2021-02-11T01:43:08.888696Z",
     "shell.execute_reply": "2021-02-11T01:43:08.887526Z"
    },
    "papermill": {
     "duration": 1.175929,
     "end_time": "2021-02-11T01:43:08.888851",
     "exception": false,
     "start_time": "2021-02-11T01:43:07.712922",
     "status": "completed"
    },
    "tags": []
   },
   "outputs": [],
   "source": [
    "#hide_input\n",
    "import warnings\n",
    "warnings.filterwarnings('ignore')\n",
    "from scripts.read_data import read_api\n",
    "from scripts.read_data import read_news\n",
    "from scripts.read_data import read_covid\n",
    "import matplotlib.pyplot as plt \n",
    "from IPython.display import Markdown as md"
   ]
  },
  {
   "cell_type": "code",
   "execution_count": 2,
   "id": "shared-acceptance",
   "metadata": {
    "execution": {
     "iopub.execute_input": "2021-02-11T01:43:08.913640Z",
     "iopub.status.busy": "2021-02-11T01:43:08.913119Z",
     "iopub.status.idle": "2021-02-11T01:43:16.626113Z",
     "shell.execute_reply": "2021-02-11T01:43:16.625643Z"
    },
    "papermill": {
     "duration": 7.727446,
     "end_time": "2021-02-11T01:43:16.626222",
     "exception": false,
     "start_time": "2021-02-11T01:43:08.898776",
     "status": "completed"
    },
    "tags": []
   },
   "outputs": [],
   "source": [
    "#hide_input\n",
    "blockchain = read_news('blockchain') \n",
    "btc = read_news('btc') \n",
    "xrp = read_news('xrp') \n",
    "trx = read_news('trx') \n",
    "eth = read_news('eth')  \n",
    "ada = read_news('ada')\n",
    "exchange = read_news('exchange') "
   ]
  },
  {
   "cell_type": "code",
   "execution_count": 3,
   "id": "synthetic-notion",
   "metadata": {
    "execution": {
     "iopub.execute_input": "2021-02-11T01:43:16.649764Z",
     "iopub.status.busy": "2021-02-11T01:43:16.649220Z",
     "iopub.status.idle": "2021-02-11T01:43:16.652019Z",
     "shell.execute_reply": "2021-02-11T01:43:16.651611Z"
    },
    "papermill": {
     "duration": 0.016932,
     "end_time": "2021-02-11T01:43:16.652112",
     "exception": false,
     "start_time": "2021-02-11T01:43:16.635180",
     "status": "completed"
    },
    "tags": []
   },
   "outputs": [
    {
     "data": {
      "text/markdown": [
       "- The Many Facts Pointing to Chainlink’s Sergey Nazarov Being Satoshi Nakamoto.  During the last few years, smart contracts and blockchain oracles have transformed the crypto industry, and one specific project called Chainlink is the most widely used oracle network to-date. Another interesting thing about Chainlink is the project&#8217;s creator, Sergey Nazarov has been a Satoshi Nakamoto suspect in recent times. Last year, a number of reports [&#8230;] ... [| Skaityti daugiau](https://news.bitcoin.com/the-many-facts-pointing-to-chainlinks-sergey-nazarov-being-satoshi-nakamoto/) "
      ],
      "text/plain": [
       "<IPython.core.display.Markdown object>"
      ]
     },
     "execution_count": 3,
     "metadata": {},
     "output_type": "execute_result"
    }
   ],
   "source": [
    "#hide_input\n",
    "#md('##### {}'.format(titleBTC)) \n",
    "md(\"- {}{} {}{} [| Skaityti daugiau]({}) \".format(blockchain['title'],'. ', blockchain['body'], ' ...', blockchain['url']))"
   ]
  },
  {
   "cell_type": "code",
   "execution_count": 4,
   "id": "aging-caution",
   "metadata": {
    "execution": {
     "iopub.execute_input": "2021-02-11T01:43:16.674887Z",
     "iopub.status.busy": "2021-02-11T01:43:16.674262Z",
     "iopub.status.idle": "2021-02-11T01:43:16.676495Z",
     "shell.execute_reply": "2021-02-11T01:43:16.677020Z"
    },
    "papermill": {
     "duration": 0.016186,
     "end_time": "2021-02-11T01:43:16.677152",
     "exception": false,
     "start_time": "2021-02-11T01:43:16.660966",
     "status": "completed"
    },
    "tags": []
   },
   "outputs": [
    {
     "data": {
      "text/markdown": [
       "- Bitcoin Price Could Move to $400,000 As Adoption Grows, Analysts Suggest.  Multiple analysts have suggested that the price of bitcoin could move to $400,000 in the future ad adoption for the flagship cryptocurrency keeps on growing and its circulating supply drops as adopters take coins out of the market. Speaking to Yahoo Finance Cathie Wood, founder of asset management firm Ark Invest, which has argued that […] ... [| Skaityti daugiau](https://www.cryptoglobe.com/latest/2021/02/bitcoin-price-could-move-to-400000-as-adoption-grows-analysts-suggest/) "
      ],
      "text/plain": [
       "<IPython.core.display.Markdown object>"
      ]
     },
     "execution_count": 4,
     "metadata": {},
     "output_type": "execute_result"
    }
   ],
   "source": [
    "#hide_input\n",
    "#md('##### {}'.format(titleBTC)) \n",
    "md(\"- {}{} {}{} [| Skaityti daugiau]({}) \".format(btc['title'],'. ', btc['body'], ' ...', btc['url']))"
   ]
  },
  {
   "cell_type": "code",
   "execution_count": 5,
   "id": "organic-actress",
   "metadata": {
    "execution": {
     "iopub.execute_input": "2021-02-11T01:43:16.701561Z",
     "iopub.status.busy": "2021-02-11T01:43:16.700984Z",
     "iopub.status.idle": "2021-02-11T01:43:16.704219Z",
     "shell.execute_reply": "2021-02-11T01:43:16.703759Z"
    },
    "papermill": {
     "duration": 0.017339,
     "end_time": "2021-02-11T01:43:16.704323",
     "exception": false,
     "start_time": "2021-02-11T01:43:16.686984",
     "status": "completed"
    },
    "tags": []
   },
   "outputs": [
    {
     "data": {
      "text/markdown": [
       "- Price analysis 2/10: BTC, ETH, ADA, XRP, DOT, BNB, LTC, LINK, DOGE, BCH.  Bitcoin and select altcoins are witnessing profit-booking at higher levels, a signal that a short phase of consolidation could occur over the next few days.  ... [| Skaityti daugiau](https://cointelegraph.com/news/price-analysis-2-10-btc-eth-ada-xrp-dot-bnb-ltc-link-doge-bch) "
      ],
      "text/plain": [
       "<IPython.core.display.Markdown object>"
      ]
     },
     "execution_count": 5,
     "metadata": {},
     "output_type": "execute_result"
    }
   ],
   "source": [
    "#hide_input\n",
    "#md('##### {}'.format(titleBTC)) \n",
    "md(\"- {}{} {}{} [| Skaityti daugiau]({}) \".format(xrp['title'],'. ', xrp['body'], ' ...', xrp['url']))"
   ]
  },
  {
   "cell_type": "code",
   "execution_count": 6,
   "id": "prompt-farmer",
   "metadata": {
    "execution": {
     "iopub.execute_input": "2021-02-11T01:43:16.729118Z",
     "iopub.status.busy": "2021-02-11T01:43:16.728585Z",
     "iopub.status.idle": "2021-02-11T01:43:16.733002Z",
     "shell.execute_reply": "2021-02-11T01:43:16.733465Z"
    },
    "papermill": {
     "duration": 0.018666,
     "end_time": "2021-02-11T01:43:16.733588",
     "exception": false,
     "start_time": "2021-02-11T01:43:16.714922",
     "status": "completed"
    },
    "tags": []
   },
   "outputs": [
    {
     "data": {
      "text/markdown": [
       "- Tron (TRX) Price Analysis: More Gains Likely Above $0.05.  Tron price is showing positive signs above the $0.0450 and $0.0420 support levels against the US Dollar. TRX price is now facing hurdles near $0.0480, but it is well above the 55 simple moving average (4-hours). There is a key contracting triangle forming with resistance near $0.0480 on the 4-hours chart (data feed via Bitfinex)....The post Tron (TRX) Price Analysis: More Gains Likely Above $0.05 appeared first on Live Bitcoin News. ... [| Skaityti daugiau](https://www.livebitcoinnews.com/tron-trx-price-analysis-more-gains-likely-above-0-05/) "
      ],
      "text/plain": [
       "<IPython.core.display.Markdown object>"
      ]
     },
     "execution_count": 6,
     "metadata": {},
     "output_type": "execute_result"
    }
   ],
   "source": [
    "#hide_input\n",
    "#md('##### {}'.format(titleBTC)) \n",
    "md(\"- {}{} {}{} [| Skaityti daugiau]({}) \".format(trx['title'],'. ', trx['body'], ' ...', trx['url']))"
   ]
  },
  {
   "cell_type": "code",
   "execution_count": 7,
   "id": "illegal-greece",
   "metadata": {
    "execution": {
     "iopub.execute_input": "2021-02-11T01:43:16.758320Z",
     "iopub.status.busy": "2021-02-11T01:43:16.757836Z",
     "iopub.status.idle": "2021-02-11T01:43:16.760395Z",
     "shell.execute_reply": "2021-02-11T01:43:16.760052Z"
    },
    "papermill": {
     "duration": 0.01647,
     "end_time": "2021-02-11T01:43:16.760473",
     "exception": false,
     "start_time": "2021-02-11T01:43:16.744003",
     "status": "completed"
    },
    "tags": []
   },
   "outputs": [
    {
     "data": {
      "text/markdown": [
       "- Avalanche (AVAX), Matic and Celo rally while Bitcoin price pulls back.  Ethereum network competitors like Avalanche, Matic and Celo are seeing substantial gains as high gas fees push users to search for cheaper alternatives. ... [| Skaityti daugiau](https://cointelegraph.com/news/avalanche-avax-matic-and-celo-rally-while-bitcoin-price-pulls-back) "
      ],
      "text/plain": [
       "<IPython.core.display.Markdown object>"
      ]
     },
     "execution_count": 7,
     "metadata": {},
     "output_type": "execute_result"
    }
   ],
   "source": [
    "#hide_input\n",
    "#md('##### {}'.format(titleBTC)) \n",
    "md(\"- {}{} {}{} [| Skaityti daugiau]({}) \".format(eth['title'],'. ', eth['body'], ' ...', eth['url']))"
   ]
  },
  {
   "cell_type": "code",
   "execution_count": 8,
   "id": "sublime-lounge",
   "metadata": {
    "execution": {
     "iopub.execute_input": "2021-02-11T01:43:16.784963Z",
     "iopub.status.busy": "2021-02-11T01:43:16.784483Z",
     "iopub.status.idle": "2021-02-11T01:43:16.787937Z",
     "shell.execute_reply": "2021-02-11T01:43:16.787446Z"
    },
    "papermill": {
     "duration": 0.017641,
     "end_time": "2021-02-11T01:43:16.788041",
     "exception": false,
     "start_time": "2021-02-11T01:43:16.770400",
     "status": "completed"
    },
    "tags": []
   },
   "outputs": [
    {
     "data": {
      "text/markdown": [
       "- Price analysis 2/10: BTC, ETH, ADA, XRP, DOT, BNB, LTC, LINK, DOGE, BCH.  Bitcoin and select altcoins are witnessing profit-booking at higher levels, a signal that a short phase of consolidation could occur over the next few days.  ... [| Skaityti daugiau](https://cointelegraph.com/news/price-analysis-2-10-btc-eth-ada-xrp-dot-bnb-ltc-link-doge-bch) "
      ],
      "text/plain": [
       "<IPython.core.display.Markdown object>"
      ]
     },
     "execution_count": 8,
     "metadata": {},
     "output_type": "execute_result"
    }
   ],
   "source": [
    "#hide_input\n",
    "#md('##### {}'.format(titleBTC)) \n",
    "md(\"- {}{} {}{} [| Skaityti daugiau]({}) \".format(ada['title'],'. ', ada['body'], ' ...', ada['url']))"
   ]
  },
  {
   "cell_type": "code",
   "execution_count": 9,
   "id": "specified-ordering",
   "metadata": {
    "execution": {
     "iopub.execute_input": "2021-02-11T01:43:16.813999Z",
     "iopub.status.busy": "2021-02-11T01:43:16.813468Z",
     "iopub.status.idle": "2021-02-11T01:43:16.816651Z",
     "shell.execute_reply": "2021-02-11T01:43:16.817164Z"
    },
    "papermill": {
     "duration": 0.019105,
     "end_time": "2021-02-11T01:43:16.817278",
     "exception": false,
     "start_time": "2021-02-11T01:43:16.798173",
     "status": "completed"
    },
    "tags": []
   },
   "outputs": [
    {
     "data": {
      "text/markdown": [
       "- DeFi thrives on Binance Smart Chain as users flee exorbitant ETH fees.  The prices and market capitalization of tokens in the Binance Smart Chain (BSC) ecosystem are booming as the whole sector is up 135% over the past week, according to CryptoSlate’s data. The post DeFi thrives on Binance Smart Chain as users flee exorbitant ETH fees appeared first on CryptoSlate. ... [| Skaityti daugiau](https://cryptoslate.com/defi-thrives-on-binance-smart-chain-as-users-flee-exorbitant-eth-fees/) "
      ],
      "text/plain": [
       "<IPython.core.display.Markdown object>"
      ]
     },
     "execution_count": 9,
     "metadata": {},
     "output_type": "execute_result"
    }
   ],
   "source": [
    "#hide_input\n",
    "#md('##### {}'.format(titleBTC)) \n",
    "md(\"- {}{} {}{} [| Skaityti daugiau]({}) \".format(exchange['title'],'. ', exchange['body'], ' ...', exchange['url']))"
   ]
  },
  {
   "cell_type": "code",
   "execution_count": null,
   "id": "tender-livestock",
   "metadata": {
    "papermill": {
     "duration": 0.010102,
     "end_time": "2021-02-11T01:43:16.838240",
     "exception": false,
     "start_time": "2021-02-11T01:43:16.828138",
     "status": "completed"
    },
    "tags": []
   },
   "outputs": [],
   "source": []
  },
  {
   "cell_type": "code",
   "execution_count": null,
   "id": "appreciated-diamond",
   "metadata": {
    "papermill": {
     "duration": 0.012097,
     "end_time": "2021-02-11T01:43:16.861731",
     "exception": false,
     "start_time": "2021-02-11T01:43:16.849634",
     "status": "completed"
    },
    "tags": []
   },
   "outputs": [],
   "source": []
  },
  {
   "cell_type": "code",
   "execution_count": null,
   "id": "romance-sweden",
   "metadata": {
    "papermill": {
     "duration": 0.010943,
     "end_time": "2021-02-11T01:43:16.883991",
     "exception": false,
     "start_time": "2021-02-11T01:43:16.873048",
     "status": "completed"
    },
    "tags": []
   },
   "outputs": [],
   "source": []
  },
  {
   "cell_type": "code",
   "execution_count": null,
   "id": "dietary-statistics",
   "metadata": {
    "papermill": {
     "duration": 0.01079,
     "end_time": "2021-02-11T01:43:16.905043",
     "exception": false,
     "start_time": "2021-02-11T01:43:16.894253",
     "status": "completed"
    },
    "tags": []
   },
   "outputs": [],
   "source": []
  }
 ],
 "metadata": {
  "kernelspec": {
   "display_name": "Python 3",
   "language": "python",
   "name": "python3"
  },
  "language_info": {
   "codemirror_mode": {
    "name": "ipython",
    "version": 3
   },
   "file_extension": ".py",
   "mimetype": "text/x-python",
   "name": "python",
   "nbconvert_exporter": "python",
   "pygments_lexer": "ipython3",
   "version": "3.6.12"
  },
  "papermill": {
   "default_parameters": {},
   "duration": 10.692663,
   "end_time": "2021-02-11T01:43:17.324989",
   "environment_variables": {},
   "exception": null,
   "input_path": "Market-News.ipynb",
   "output_path": "Market-News.ipynb",
   "parameters": {},
   "start_time": "2021-02-11T01:43:06.632326",
   "version": "2.2.2"
  }
 },
 "nbformat": 4,
 "nbformat_minor": 5
}