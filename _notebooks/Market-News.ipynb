{
 "cells": [
  {
   "cell_type": "markdown",
   "id": "short-greensboro",
   "metadata": {
    "papermill": {
     "duration": 0.014688,
     "end_time": "2021-04-29T02:08:56.121713",
     "exception": false,
     "start_time": "2021-04-29T02:08:56.107025",
     "status": "completed"
    },
    "tags": []
   },
   "source": [
    "# Kriptovaliutų naujienos"
   ]
  },
  {
   "cell_type": "code",
   "execution_count": 1,
   "id": "functioning-knowing",
   "metadata": {
    "execution": {
     "iopub.execute_input": "2021-04-29T02:08:56.157080Z",
     "iopub.status.busy": "2021-04-29T02:08:56.156417Z",
     "iopub.status.idle": "2021-04-29T02:08:57.561464Z",
     "shell.execute_reply": "2021-04-29T02:08:57.560520Z"
    },
    "papermill": {
     "duration": 1.427216,
     "end_time": "2021-04-29T02:08:57.561620",
     "exception": false,
     "start_time": "2021-04-29T02:08:56.134404",
     "status": "completed"
    },
    "tags": []
   },
   "outputs": [],
   "source": [
    "#hide_input\n",
    "import warnings\n",
    "warnings.filterwarnings('ignore')\n",
    "from scripts.read_data import read_api\n",
    "from scripts.read_data import read_news\n",
    "from scripts.read_data import read_covid\n",
    "import matplotlib.pyplot as plt \n",
    "from IPython.display import Markdown as md"
   ]
  },
  {
   "cell_type": "code",
   "execution_count": 2,
   "id": "shared-acceptance",
   "metadata": {
    "execution": {
     "iopub.execute_input": "2021-04-29T02:08:57.589036Z",
     "iopub.status.busy": "2021-04-29T02:08:57.587836Z",
     "iopub.status.idle": "2021-04-29T02:09:07.633758Z",
     "shell.execute_reply": "2021-04-29T02:09:07.633085Z"
    },
    "papermill": {
     "duration": 10.061789,
     "end_time": "2021-04-29T02:09:07.633917",
     "exception": false,
     "start_time": "2021-04-29T02:08:57.572128",
     "status": "completed"
    },
    "tags": []
   },
   "outputs": [],
   "source": [
    "#hide_input\n",
    "blockchain = read_news('blockchain') \n",
    "btc = read_news('btc') \n",
    "xrp = read_news('xrp') \n",
    "trx = read_news('trx') \n",
    "eth = read_news('eth')  \n",
    "ada = read_news('ada')\n",
    "exchange = read_news('exchange') "
   ]
  },
  {
   "cell_type": "code",
   "execution_count": 3,
   "id": "synthetic-notion",
   "metadata": {
    "execution": {
     "iopub.execute_input": "2021-04-29T02:09:07.664877Z",
     "iopub.status.busy": "2021-04-29T02:09:07.664224Z",
     "iopub.status.idle": "2021-04-29T02:09:07.667734Z",
     "shell.execute_reply": "2021-04-29T02:09:07.667147Z"
    },
    "papermill": {
     "duration": 0.02185,
     "end_time": "2021-04-29T02:09:07.667864",
     "exception": false,
     "start_time": "2021-04-29T02:09:07.646014",
     "status": "completed"
    },
    "tags": []
   },
   "outputs": [
    {
     "data": {
      "text/markdown": [
       "- Smoothy Listing on AscendEX.  PRESS RELEASE. AscendEX, formerly BitMax, an industry-leading digital asset trading platform built by Wall Street quant trading veterans, has announced the listing of the Smoothy Token (SMTY) under the pair USDT/SMTY on Mar 29 at 1:00 p.m. UTC. Smoothy is a novel single pool liquidity protocol specializing in same-backed assets with low-cost zero-slippage swapping and [&#8230;] ... [| Skaityti daugiau](https://news.bitcoin.com/smoothy-listing-on-ascendex/) "
      ],
      "text/plain": [
       "<IPython.core.display.Markdown object>"
      ]
     },
     "execution_count": 3,
     "metadata": {},
     "output_type": "execute_result"
    }
   ],
   "source": [
    "#hide_input\n",
    "#md('##### {}'.format(titleBTC)) \n",
    "md(\"- {}{} {}{} [| Skaityti daugiau]({}) \".format(blockchain['title'],'. ', blockchain['body'], ' ...', blockchain['url']))"
   ]
  },
  {
   "cell_type": "code",
   "execution_count": 4,
   "id": "aging-caution",
   "metadata": {
    "execution": {
     "iopub.execute_input": "2021-04-29T02:09:07.698095Z",
     "iopub.status.busy": "2021-04-29T02:09:07.697438Z",
     "iopub.status.idle": "2021-04-29T02:09:07.701497Z",
     "shell.execute_reply": "2021-04-29T02:09:07.700974Z"
    },
    "papermill": {
     "duration": 0.021492,
     "end_time": "2021-04-29T02:09:07.701612",
     "exception": false,
     "start_time": "2021-04-29T02:09:07.680120",
     "status": "completed"
    },
    "tags": []
   },
   "outputs": [
    {
     "data": {
      "text/markdown": [
       "- DOJ Ransomware Panel to Propose 'Aggressive' Bitcoin Regulations: Report.  A group of government and industry experts reportedly sees regulating Bitcoin as a way of combating ransomware. ... [| Skaityti daugiau](https://decrypt.co/69410/doj-ransomware-panel-propose-aggressive-bitcoin-regulation-report) "
      ],
      "text/plain": [
       "<IPython.core.display.Markdown object>"
      ]
     },
     "execution_count": 4,
     "metadata": {},
     "output_type": "execute_result"
    }
   ],
   "source": [
    "#hide_input\n",
    "#md('##### {}'.format(titleBTC)) \n",
    "md(\"- {}{} {}{} [| Skaityti daugiau]({}) \".format(btc['title'],'. ', btc['body'], ' ...', btc['url']))"
   ]
  },
  {
   "cell_type": "code",
   "execution_count": 5,
   "id": "organic-actress",
   "metadata": {
    "execution": {
     "iopub.execute_input": "2021-04-29T02:09:07.730752Z",
     "iopub.status.busy": "2021-04-29T02:09:07.728801Z",
     "iopub.status.idle": "2021-04-29T02:09:07.733685Z",
     "shell.execute_reply": "2021-04-29T02:09:07.733175Z"
    },
    "papermill": {
     "duration": 0.020471,
     "end_time": "2021-04-29T02:09:07.733803",
     "exception": false,
     "start_time": "2021-04-29T02:09:07.713332",
     "status": "completed"
    },
    "tags": []
   },
   "outputs": [
    {
     "data": {
      "text/markdown": [
       "- XRP, Dogecoin, Uniswap, THETA Price Analysis: 28 April.  After a brief period that saw the market&#8217;s alts tank on the back of Bitcoin&#8217;s price action, the likes of XRP, THETA, UNI, and Dogecoin were all hiking on the price charts once again at press time. XRP XRP&#8217;s price fell to as low as $0.20 after the SEC charged Ripple Labs and its executives [&#8230;] ... [| Skaityti daugiau](https://ambcrypto.com/xrp-dogecoin-uniswap-theta-price-analysis-28-april/) "
      ],
      "text/plain": [
       "<IPython.core.display.Markdown object>"
      ]
     },
     "execution_count": 5,
     "metadata": {},
     "output_type": "execute_result"
    }
   ],
   "source": [
    "#hide_input\n",
    "#md('##### {}'.format(titleBTC)) \n",
    "md(\"- {}{} {}{} [| Skaityti daugiau]({}) \".format(xrp['title'],'. ', xrp['body'], ' ...', xrp['url']))"
   ]
  },
  {
   "cell_type": "code",
   "execution_count": 6,
   "id": "prompt-farmer",
   "metadata": {
    "execution": {
     "iopub.execute_input": "2021-04-29T02:09:07.762897Z",
     "iopub.status.busy": "2021-04-29T02:09:07.762293Z",
     "iopub.status.idle": "2021-04-29T02:09:07.766489Z",
     "shell.execute_reply": "2021-04-29T02:09:07.765920Z"
    },
    "papermill": {
     "duration": 0.02189,
     "end_time": "2021-04-29T02:09:07.766598",
     "exception": false,
     "start_time": "2021-04-29T02:09:07.744708",
     "status": "completed"
    },
    "tags": []
   },
   "outputs": [
    {
     "data": {
      "text/markdown": [
       "- Tron (TRX) Price Analysis: Bulls Aim Fresh Increase Above $0.135.  Tron price started a fresh increase from the $0.092 support zone against the US Dollar. TRX price is now trading above the $0.1100 support and the 55 simple moving average (4-hours). There was a break above a key bearish trend line with resistance near $0.1100 on the 4-hours chart (data feed via Bitfinex). The pair...The post Tron (TRX) Price Analysis: Bulls Aim Fresh Increase Above $0.135 appeared first on Live Bitcoin News. ... [| Skaityti daugiau](https://www.livebitcoinnews.com/tron-trx-price-analysis-bulls-aim-fresh-increase-above-0-135/) "
      ],
      "text/plain": [
       "<IPython.core.display.Markdown object>"
      ]
     },
     "execution_count": 6,
     "metadata": {},
     "output_type": "execute_result"
    }
   ],
   "source": [
    "#hide_input\n",
    "#md('##### {}'.format(titleBTC)) \n",
    "md(\"- {}{} {}{} [| Skaityti daugiau]({}) \".format(trx['title'],'. ', trx['body'], ' ...', trx['url']))"
   ]
  },
  {
   "cell_type": "code",
   "execution_count": 7,
   "id": "illegal-greece",
   "metadata": {
    "execution": {
     "iopub.execute_input": "2021-04-29T02:09:07.795567Z",
     "iopub.status.busy": "2021-04-29T02:09:07.794847Z",
     "iopub.status.idle": "2021-04-29T02:09:07.797772Z",
     "shell.execute_reply": "2021-04-29T02:09:07.798497Z"
    },
    "papermill": {
     "duration": 0.020487,
     "end_time": "2021-04-29T02:09:07.798632",
     "exception": false,
     "start_time": "2021-04-29T02:09:07.778145",
     "status": "completed"
    },
    "tags": []
   },
   "outputs": [
    {
     "data": {
      "text/markdown": [
       "- DeFi, NFT Booms Send MetaMask Past 5 Million Active Users.  MetaMask is reporting 500% user growth over the last six months. ... [| Skaityti daugiau](https://decrypt.co/69409/defi-nft-booms-send-metamask-past-5-million-active-users) "
      ],
      "text/plain": [
       "<IPython.core.display.Markdown object>"
      ]
     },
     "execution_count": 7,
     "metadata": {},
     "output_type": "execute_result"
    }
   ],
   "source": [
    "#hide_input\n",
    "#md('##### {}'.format(titleBTC)) \n",
    "md(\"- {}{} {}{} [| Skaityti daugiau]({}) \".format(eth['title'],'. ', eth['body'], ' ...', eth['url']))"
   ]
  },
  {
   "cell_type": "code",
   "execution_count": 8,
   "id": "sublime-lounge",
   "metadata": {
    "execution": {
     "iopub.execute_input": "2021-04-29T02:09:07.829794Z",
     "iopub.status.busy": "2021-04-29T02:09:07.829156Z",
     "iopub.status.idle": "2021-04-29T02:09:07.833399Z",
     "shell.execute_reply": "2021-04-29T02:09:07.833871Z"
    },
    "papermill": {
     "duration": 0.021497,
     "end_time": "2021-04-29T02:09:07.834004",
     "exception": false,
     "start_time": "2021-04-29T02:09:07.812507",
     "status": "completed"
    },
    "tags": []
   },
   "outputs": [
    {
     "data": {
      "text/markdown": [
       "- Here Are Key Bullish Levels for Cardano, Dogecoin, and Litecoin, According to Trader Scott Melker.  Crypto analyst and trader Scott Melker is mapping out price levels for Cardano and two red-hot altcoins that are key in keeping their bullish momentum alive. In a new strategy session, Melker tells his 36,500 YouTube subscribers that Cardano (ADA) is currently trading in a wide range between $1.50 and $0.98, but it now has [&#8230;]The post Here Are Key Bullish Levels for Cardano, Dogecoin, and Litecoin, According to Trader Scott Melker appeared first on The Daily Hodl. ... [| Skaityti daugiau](https://dailyhodl.com/2021/04/28/here-are-key-bullish-levels-for-cardano-dogecoin-and-litecoin-according-to-trader-scott-melker/) "
      ],
      "text/plain": [
       "<IPython.core.display.Markdown object>"
      ]
     },
     "execution_count": 8,
     "metadata": {},
     "output_type": "execute_result"
    }
   ],
   "source": [
    "#hide_input\n",
    "#md('##### {}'.format(titleBTC)) \n",
    "md(\"- {}{} {}{} [| Skaityti daugiau]({}) \".format(ada['title'],'. ', ada['body'], ' ...', ada['url']))"
   ]
  },
  {
   "cell_type": "code",
   "execution_count": 9,
   "id": "specified-ordering",
   "metadata": {
    "execution": {
     "iopub.execute_input": "2021-04-29T02:09:07.864648Z",
     "iopub.status.busy": "2021-04-29T02:09:07.864009Z",
     "iopub.status.idle": "2021-04-29T02:09:07.866852Z",
     "shell.execute_reply": "2021-04-29T02:09:07.867295Z"
    },
    "papermill": {
     "duration": 0.020603,
     "end_time": "2021-04-29T02:09:07.867417",
     "exception": false,
     "start_time": "2021-04-29T02:09:07.846814",
     "status": "completed"
    },
    "tags": []
   },
   "outputs": [
    {
     "data": {
      "text/markdown": [
       "- Binance Stock Tokens Could Violate Securities Laws, German Regulator Says.  The Binance Stock Tokens are a success, but this product could be missing a few legal checkboxes es according to German regulators. ... [| Skaityti daugiau](https://cryptopotato.com/binance-stock-tokens-could-violate-securities-laws-german-regulator-says/) "
      ],
      "text/plain": [
       "<IPython.core.display.Markdown object>"
      ]
     },
     "execution_count": 9,
     "metadata": {},
     "output_type": "execute_result"
    }
   ],
   "source": [
    "#hide_input\n",
    "#md('##### {}'.format(titleBTC)) \n",
    "md(\"- {}{} {}{} [| Skaityti daugiau]({}) \".format(exchange['title'],'. ', exchange['body'], ' ...', exchange['url']))"
   ]
  },
  {
   "cell_type": "code",
   "execution_count": null,
   "id": "tender-livestock",
   "metadata": {
    "papermill": {
     "duration": 0.013451,
     "end_time": "2021-04-29T02:09:07.894002",
     "exception": false,
     "start_time": "2021-04-29T02:09:07.880551",
     "status": "completed"
    },
    "tags": []
   },
   "outputs": [],
   "source": []
  },
  {
   "cell_type": "code",
   "execution_count": null,
   "id": "appreciated-diamond",
   "metadata": {
    "papermill": {
     "duration": 0.013105,
     "end_time": "2021-04-29T02:09:07.919825",
     "exception": false,
     "start_time": "2021-04-29T02:09:07.906720",
     "status": "completed"
    },
    "tags": []
   },
   "outputs": [],
   "source": []
  },
  {
   "cell_type": "code",
   "execution_count": null,
   "id": "romance-sweden",
   "metadata": {
    "papermill": {
     "duration": 0.012452,
     "end_time": "2021-04-29T02:09:07.946407",
     "exception": false,
     "start_time": "2021-04-29T02:09:07.933955",
     "status": "completed"
    },
    "tags": []
   },
   "outputs": [],
   "source": []
  },
  {
   "cell_type": "code",
   "execution_count": null,
   "id": "dietary-statistics",
   "metadata": {
    "papermill": {
     "duration": 0.012581,
     "end_time": "2021-04-29T02:09:07.971571",
     "exception": false,
     "start_time": "2021-04-29T02:09:07.958990",
     "status": "completed"
    },
    "tags": []
   },
   "outputs": [],
   "source": []
  }
 ],
 "metadata": {
  "kernelspec": {
   "display_name": "Python 3",
   "language": "python",
   "name": "python3"
  },
  "language_info": {
   "codemirror_mode": {
    "name": "ipython",
    "version": 3
   },
   "file_extension": ".py",
   "mimetype": "text/x-python",
   "name": "python",
   "nbconvert_exporter": "python",
   "pygments_lexer": "ipython3",
   "version": "3.6.13"
  },
  "papermill": {
   "default_parameters": {},
   "duration": 14.3398,
   "end_time": "2021-04-29T02:09:09.299202",
   "environment_variables": {},
   "exception": null,
   "input_path": "Market-News.ipynb",
   "output_path": "Market-News.ipynb",
   "parameters": {},
   "start_time": "2021-04-29T02:08:54.959402",
   "version": "2.2.2"
  }
 },
 "nbformat": 4,
 "nbformat_minor": 5
}