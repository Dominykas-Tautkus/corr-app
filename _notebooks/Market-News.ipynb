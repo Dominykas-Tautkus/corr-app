{
 "cells": [
  {
   "cell_type": "markdown",
   "id": "short-greensboro",
   "metadata": {
    "papermill": {
     "duration": 0.017941,
     "end_time": "2021-06-28T02:00:26.546123",
     "exception": false,
     "start_time": "2021-06-28T02:00:26.528182",
     "status": "completed"
    },
    "tags": []
   },
   "source": [
    "# Kriptovaliutų naujienos"
   ]
  },
  {
   "cell_type": "code",
   "execution_count": 1,
   "id": "functioning-knowing",
   "metadata": {
    "execution": {
     "iopub.execute_input": "2021-06-28T02:00:26.578710Z",
     "iopub.status.busy": "2021-06-28T02:00:26.578097Z",
     "iopub.status.idle": "2021-06-28T02:00:27.882473Z",
     "shell.execute_reply": "2021-06-28T02:00:27.881843Z"
    },
    "papermill": {
     "duration": 1.32542,
     "end_time": "2021-06-28T02:00:27.882640",
     "exception": false,
     "start_time": "2021-06-28T02:00:26.557220",
     "status": "completed"
    },
    "tags": []
   },
   "outputs": [],
   "source": [
    "#hide_input\n",
    "import warnings\n",
    "warnings.filterwarnings('ignore')\n",
    "from scripts.read_data import read_api\n",
    "from scripts.read_data import read_news\n",
    "from scripts.read_data import read_covid\n",
    "import matplotlib.pyplot as plt \n",
    "from IPython.display import Markdown as md"
   ]
  },
  {
   "cell_type": "code",
   "execution_count": 2,
   "id": "shared-acceptance",
   "metadata": {
    "execution": {
     "iopub.execute_input": "2021-06-28T02:00:27.912739Z",
     "iopub.status.busy": "2021-06-28T02:00:27.911678Z",
     "iopub.status.idle": "2021-06-28T02:00:35.932654Z",
     "shell.execute_reply": "2021-06-28T02:00:35.932105Z"
    },
    "papermill": {
     "duration": 8.038328,
     "end_time": "2021-06-28T02:00:35.932778",
     "exception": false,
     "start_time": "2021-06-28T02:00:27.894450",
     "status": "completed"
    },
    "tags": []
   },
   "outputs": [],
   "source": [
    "#hide_input\n",
    "blockchain = read_news('blockchain') \n",
    "btc = read_news('btc') \n",
    "xrp = read_news('xrp') \n",
    "trx = read_news('trx') \n",
    "eth = read_news('eth')  \n",
    "ada = read_news('ada')\n",
    "exchange = read_news('exchange') "
   ]
  },
  {
   "cell_type": "code",
   "execution_count": 3,
   "id": "synthetic-notion",
   "metadata": {
    "execution": {
     "iopub.execute_input": "2021-06-28T02:00:35.961530Z",
     "iopub.status.busy": "2021-06-28T02:00:35.960937Z",
     "iopub.status.idle": "2021-06-28T02:00:35.964446Z",
     "shell.execute_reply": "2021-06-28T02:00:35.963953Z"
    },
    "papermill": {
     "duration": 0.021103,
     "end_time": "2021-06-28T02:00:35.964555",
     "exception": false,
     "start_time": "2021-06-28T02:00:35.943452",
     "status": "completed"
    },
    "tags": []
   },
   "outputs": [
    {
     "data": {
      "text/markdown": [
       "- Why this is the ‘biggest and best thing that could have happened to Bitcoin’.  Many financial advisors are of the belief that DeFi is a much more pitchable investment to Wall-Streeters, as opposed to Bitcoin. DeFi capital assets can be equated to equities, liabilities, high liquidity, and short-term yields: something that venture capitalists can wrap their heads around when compared to the intricacies of blockchain technology, mining, and staking [&#8230;] ... [| Skaityti daugiau](https://ambcrypto.com/why-this-is-the-biggest-and-best-thing-that-could-have-happened-to-bitcoin/) "
      ],
      "text/plain": [
       "<IPython.core.display.Markdown object>"
      ]
     },
     "execution_count": 3,
     "metadata": {},
     "output_type": "execute_result"
    }
   ],
   "source": [
    "#hide_input\n",
    "#md('##### {}'.format(titleBTC)) \n",
    "md(\"- {}{} {}{} [| Skaityti daugiau]({}) \".format(blockchain['title'],'. ', blockchain['body'], ' ...', blockchain['url']))"
   ]
  },
  {
   "cell_type": "code",
   "execution_count": 4,
   "id": "aging-caution",
   "metadata": {
    "execution": {
     "iopub.execute_input": "2021-06-28T02:00:35.990883Z",
     "iopub.status.busy": "2021-06-28T02:00:35.990305Z",
     "iopub.status.idle": "2021-06-28T02:00:35.993449Z",
     "shell.execute_reply": "2021-06-28T02:00:35.993946Z"
    },
    "papermill": {
     "duration": 0.019232,
     "end_time": "2021-06-28T02:00:35.994068",
     "exception": false,
     "start_time": "2021-06-28T02:00:35.974836",
     "status": "completed"
    },
    "tags": []
   },
   "outputs": [
    {
     "data": {
      "text/markdown": [
       "- John McAfee’s Hideout Was a Secret Bitcoin Mining Farm.  John McAfee was reportedly hiding out in a Spanish &#8220;ghost hotel&#8221; with a bitcoin mining farm in the basement prior to his arrest. Clues from images and messages the antivirus tycoon posted on social media point to a semi-abandoned hotel owned by a Russian. &#8216;Ghost Hotel&#8217; With Bitcoin Mining Farm After John McAfee was reportedly [&#8230;] ... [| Skaityti daugiau](https://news.bitcoin.com/john-mcafees-hideout-secret-bitcoin-mining-farm/) "
      ],
      "text/plain": [
       "<IPython.core.display.Markdown object>"
      ]
     },
     "execution_count": 4,
     "metadata": {},
     "output_type": "execute_result"
    }
   ],
   "source": [
    "#hide_input\n",
    "#md('##### {}'.format(titleBTC)) \n",
    "md(\"- {}{} {}{} [| Skaityti daugiau]({}) \".format(btc['title'],'. ', btc['body'], ' ...', btc['url']))"
   ]
  },
  {
   "cell_type": "code",
   "execution_count": 5,
   "id": "organic-actress",
   "metadata": {
    "execution": {
     "iopub.execute_input": "2021-06-28T02:00:36.021382Z",
     "iopub.status.busy": "2021-06-28T02:00:36.020806Z",
     "iopub.status.idle": "2021-06-28T02:00:36.024486Z",
     "shell.execute_reply": "2021-06-28T02:00:36.023993Z"
    },
    "papermill": {
     "duration": 0.019843,
     "end_time": "2021-06-28T02:00:36.024593",
     "exception": false,
     "start_time": "2021-06-28T02:00:36.004750",
     "status": "completed"
    },
    "tags": []
   },
   "outputs": [
    {
     "data": {
      "text/markdown": [
       "- Ripple price analysis: XRP headed towards $0.60 again.  TL;DR Breakdown Ripple price analysis turns neutral as price oscillates near key resistance XRP price drops to $0.6028 and remains under selling pressure Ripple price continues to trade in a narrow range as false recovery faulters Ripple price is following the trajectory of most common altcoins, i.e., stagnation. The XRP/USD pair is undergoing a sideways [&#8230;] ... [| Skaityti daugiau](https://www.cryptopolitan.com/ripple-price-analysis-2021-06-27/) "
      ],
      "text/plain": [
       "<IPython.core.display.Markdown object>"
      ]
     },
     "execution_count": 5,
     "metadata": {},
     "output_type": "execute_result"
    }
   ],
   "source": [
    "#hide_input\n",
    "#md('##### {}'.format(titleBTC)) \n",
    "md(\"- {}{} {}{} [| Skaityti daugiau]({}) \".format(xrp['title'],'. ', xrp['body'], ' ...', xrp['url']))"
   ]
  },
  {
   "cell_type": "code",
   "execution_count": 6,
   "id": "prompt-farmer",
   "metadata": {
    "execution": {
     "iopub.execute_input": "2021-06-28T02:00:36.052772Z",
     "iopub.status.busy": "2021-06-28T02:00:36.052198Z",
     "iopub.status.idle": "2021-06-28T02:00:36.055615Z",
     "shell.execute_reply": "2021-06-28T02:00:36.055104Z"
    },
    "papermill": {
     "duration": 0.019934,
     "end_time": "2021-06-28T02:00:36.055728",
     "exception": false,
     "start_time": "2021-06-28T02:00:36.035794",
     "status": "completed"
    },
    "tags": []
   },
   "outputs": [
    {
     "data": {
      "text/markdown": [
       "- Binance Coin, Tron, UNI Price Analysis: 25 June.  Major cryptos gained back some ground after facing some major losses on Tuesday. After dropping below $30,000 for the first time since January, Bitcoin was back to $34,213 at the time of writing, hiking by 3.1% over the past 24 hours. Major altcoins like Binance Coin, Tron, and UNI also profited off the back of [&#8230;] ... [| Skaityti daugiau](https://ambcrypto.com/binance-coin-tron-uni-price-analysis-25-june/) "
      ],
      "text/plain": [
       "<IPython.core.display.Markdown object>"
      ]
     },
     "execution_count": 6,
     "metadata": {},
     "output_type": "execute_result"
    }
   ],
   "source": [
    "#hide_input\n",
    "#md('##### {}'.format(titleBTC)) \n",
    "md(\"- {}{} {}{} [| Skaityti daugiau]({}) \".format(trx['title'],'. ', trx['body'], ' ...', trx['url']))"
   ]
  },
  {
   "cell_type": "code",
   "execution_count": 7,
   "id": "illegal-greece",
   "metadata": {
    "execution": {
     "iopub.execute_input": "2021-06-28T02:00:36.084188Z",
     "iopub.status.busy": "2021-06-28T02:00:36.083566Z",
     "iopub.status.idle": "2021-06-28T02:00:36.086820Z",
     "shell.execute_reply": "2021-06-28T02:00:36.086251Z"
    },
    "papermill": {
     "duration": 0.019347,
     "end_time": "2021-06-28T02:00:36.086931",
     "exception": false,
     "start_time": "2021-06-28T02:00:36.067584",
     "status": "completed"
    },
    "tags": []
   },
   "outputs": [
    {
     "data": {
      "text/markdown": [
       "- 4 reasons why Ethereum is criminally ‘undervalued’.  The Ethereum network since its launch has equally captured investor and developer interest due to its secure and superior functions and perceived growth potential. The network’s native currency, Ether is the second-largest in terms of market capitalization, second only to the king coin. It was valued at $1,862 at the time of writing, less than [&#8230;] ... [| Skaityti daugiau](https://ambcrypto.com/4-reasons-why-ethereum-is-criminally-undervalued/) "
      ],
      "text/plain": [
       "<IPython.core.display.Markdown object>"
      ]
     },
     "execution_count": 7,
     "metadata": {},
     "output_type": "execute_result"
    }
   ],
   "source": [
    "#hide_input\n",
    "#md('##### {}'.format(titleBTC)) \n",
    "md(\"- {}{} {}{} [| Skaityti daugiau]({}) \".format(eth['title'],'. ', eth['body'], ' ...', eth['url']))"
   ]
  },
  {
   "cell_type": "code",
   "execution_count": 8,
   "id": "sublime-lounge",
   "metadata": {
    "execution": {
     "iopub.execute_input": "2021-06-28T02:00:36.116478Z",
     "iopub.status.busy": "2021-06-28T02:00:36.115902Z",
     "iopub.status.idle": "2021-06-28T02:00:36.118722Z",
     "shell.execute_reply": "2021-06-28T02:00:36.119217Z"
    },
    "papermill": {
     "duration": 0.020428,
     "end_time": "2021-06-28T02:00:36.119339",
     "exception": false,
     "start_time": "2021-06-28T02:00:36.098911",
     "status": "completed"
    },
    "tags": []
   },
   "outputs": [
    {
     "data": {
      "text/markdown": [
       "- What’s Cardano’s game-plan when it comes to NFTs?.  Post the surge in interest cryptocurrency space witnessed during Bitcoin&#8217;s high, NFTs too are considered by some as a way to get rich fast. In the last couple of months, NFTs have hit the news couple of times now with their sheer valuations in the marketplace. Cardano and NFT As covered previously, Charles Hoskinson in [&#8230;] ... [| Skaityti daugiau](https://ambcrypto.com/whats-cardanos-game-plan-when-it-comes-to-nfts/) "
      ],
      "text/plain": [
       "<IPython.core.display.Markdown object>"
      ]
     },
     "execution_count": 8,
     "metadata": {},
     "output_type": "execute_result"
    }
   ],
   "source": [
    "#hide_input\n",
    "#md('##### {}'.format(titleBTC)) \n",
    "md(\"- {}{} {}{} [| Skaityti daugiau]({}) \".format(ada['title'],'. ', ada['body'], ' ...', ada['url']))"
   ]
  },
  {
   "cell_type": "code",
   "execution_count": 9,
   "id": "specified-ordering",
   "metadata": {
    "execution": {
     "iopub.execute_input": "2021-06-28T02:00:36.149276Z",
     "iopub.status.busy": "2021-06-28T02:00:36.147879Z",
     "iopub.status.idle": "2021-06-28T02:00:36.152847Z",
     "shell.execute_reply": "2021-06-28T02:00:36.152359Z"
    },
    "papermill": {
     "duration": 0.021173,
     "end_time": "2021-06-28T02:00:36.152954",
     "exception": false,
     "start_time": "2021-06-28T02:00:36.131781",
     "status": "completed"
    },
    "tags": []
   },
   "outputs": [
    {
     "data": {
      "text/markdown": [
       "- UK Financial Watchdog Clamps Down On World’s Largest Crypto Exchange, Binance.  UK financial watchdog, the Financial Conduct Authority, has halted cryptocurrency exchange Binance from operating in the UK. In a statement titled &#8220;Consumer warning on Binance Markets Limited and the Binance Group&#8221; published on the organization&#8217;s official website on Saturday, the FCA stated that Binance Markets Limited &#8220;is not permitted to undertake any regulated activity in [&#8230;] ... [| Skaityti daugiau](https://zycrypto.com/uk-financial-watchdog-clamps-down-on-worlds-largest-crypto-exchange-binance/) "
      ],
      "text/plain": [
       "<IPython.core.display.Markdown object>"
      ]
     },
     "execution_count": 9,
     "metadata": {},
     "output_type": "execute_result"
    }
   ],
   "source": [
    "#hide_input\n",
    "#md('##### {}'.format(titleBTC)) \n",
    "md(\"- {}{} {}{} [| Skaityti daugiau]({}) \".format(exchange['title'],'. ', exchange['body'], ' ...', exchange['url']))"
   ]
  },
  {
   "cell_type": "code",
   "execution_count": null,
   "id": "tender-livestock",
   "metadata": {
    "papermill": {
     "duration": 0.012716,
     "end_time": "2021-06-28T02:00:36.178406",
     "exception": false,
     "start_time": "2021-06-28T02:00:36.165690",
     "status": "completed"
    },
    "tags": []
   },
   "outputs": [],
   "source": []
  },
  {
   "cell_type": "code",
   "execution_count": null,
   "id": "appreciated-diamond",
   "metadata": {
    "papermill": {
     "duration": 0.012616,
     "end_time": "2021-06-28T02:00:36.203943",
     "exception": false,
     "start_time": "2021-06-28T02:00:36.191327",
     "status": "completed"
    },
    "tags": []
   },
   "outputs": [],
   "source": []
  },
  {
   "cell_type": "code",
   "execution_count": null,
   "id": "romance-sweden",
   "metadata": {
    "papermill": {
     "duration": 0.012667,
     "end_time": "2021-06-28T02:00:36.229441",
     "exception": false,
     "start_time": "2021-06-28T02:00:36.216774",
     "status": "completed"
    },
    "tags": []
   },
   "outputs": [],
   "source": []
  },
  {
   "cell_type": "code",
   "execution_count": null,
   "id": "dietary-statistics",
   "metadata": {
    "papermill": {
     "duration": 0.012731,
     "end_time": "2021-06-28T02:00:36.254883",
     "exception": false,
     "start_time": "2021-06-28T02:00:36.242152",
     "status": "completed"
    },
    "tags": []
   },
   "outputs": [],
   "source": []
  }
 ],
 "metadata": {
  "kernelspec": {
   "display_name": "Python 3",
   "language": "python",
   "name": "python3"
  },
  "language_info": {
   "codemirror_mode": {
    "name": "ipython",
    "version": 3
   },
   "file_extension": ".py",
   "mimetype": "text/x-python",
   "name": "python",
   "nbconvert_exporter": "python",
   "pygments_lexer": "ipython3",
   "version": "3.6.13"
  },
  "papermill": {
   "default_parameters": {},
   "duration": 11.218846,
   "end_time": "2021-06-28T02:00:36.676405",
   "environment_variables": {},
   "exception": null,
   "input_path": "Market-News.ipynb",
   "output_path": "Market-News.ipynb",
   "parameters": {},
   "start_time": "2021-06-28T02:00:25.457559",
   "version": "2.2.2"
  }
 },
 "nbformat": 4,
 "nbformat_minor": 5
}