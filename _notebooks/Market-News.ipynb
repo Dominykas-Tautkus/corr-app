{
 "cells": [
  {
   "cell_type": "markdown",
   "id": "short-greensboro",
   "metadata": {
    "papermill": {
     "duration": 0.017542,
     "end_time": "2021-05-22T02:18:49.596554",
     "exception": false,
     "start_time": "2021-05-22T02:18:49.579012",
     "status": "completed"
    },
    "tags": []
   },
   "source": [
    "# Kriptovaliutų naujienos"
   ]
  },
  {
   "cell_type": "code",
   "execution_count": 1,
   "id": "functioning-knowing",
   "metadata": {
    "execution": {
     "iopub.execute_input": "2021-05-22T02:18:49.632776Z",
     "iopub.status.busy": "2021-05-22T02:18:49.631397Z",
     "iopub.status.idle": "2021-05-22T02:18:50.890769Z",
     "shell.execute_reply": "2021-05-22T02:18:50.889680Z"
    },
    "papermill": {
     "duration": 1.282396,
     "end_time": "2021-05-22T02:18:50.890919",
     "exception": false,
     "start_time": "2021-05-22T02:18:49.608523",
     "status": "completed"
    },
    "tags": []
   },
   "outputs": [],
   "source": [
    "#hide_input\n",
    "import warnings\n",
    "warnings.filterwarnings('ignore')\n",
    "from scripts.read_data import read_api\n",
    "from scripts.read_data import read_news\n",
    "from scripts.read_data import read_covid\n",
    "import matplotlib.pyplot as plt \n",
    "from IPython.display import Markdown as md"
   ]
  },
  {
   "cell_type": "code",
   "execution_count": 2,
   "id": "shared-acceptance",
   "metadata": {
    "execution": {
     "iopub.execute_input": "2021-05-22T02:18:50.917318Z",
     "iopub.status.busy": "2021-05-22T02:18:50.916042Z",
     "iopub.status.idle": "2021-05-22T02:19:01.255684Z",
     "shell.execute_reply": "2021-05-22T02:19:01.255116Z"
    },
    "papermill": {
     "duration": 10.354941,
     "end_time": "2021-05-22T02:19:01.255821",
     "exception": false,
     "start_time": "2021-05-22T02:18:50.900880",
     "status": "completed"
    },
    "tags": []
   },
   "outputs": [],
   "source": [
    "#hide_input\n",
    "blockchain = read_news('blockchain') \n",
    "btc = read_news('btc') \n",
    "xrp = read_news('xrp') \n",
    "trx = read_news('trx') \n",
    "eth = read_news('eth')  \n",
    "ada = read_news('ada')\n",
    "exchange = read_news('exchange') "
   ]
  },
  {
   "cell_type": "code",
   "execution_count": 3,
   "id": "synthetic-notion",
   "metadata": {
    "execution": {
     "iopub.execute_input": "2021-05-22T02:19:01.284003Z",
     "iopub.status.busy": "2021-05-22T02:19:01.283349Z",
     "iopub.status.idle": "2021-05-22T02:19:01.285815Z",
     "shell.execute_reply": "2021-05-22T02:19:01.286393Z"
    },
    "papermill": {
     "duration": 0.019973,
     "end_time": "2021-05-22T02:19:01.286534",
     "exception": false,
     "start_time": "2021-05-22T02:19:01.266561",
     "status": "completed"
    },
    "tags": []
   },
   "outputs": [
    {
     "data": {
      "text/markdown": [
       "- Depends on Who You Ask: Report Shows NFT Sales ‘Cool Off,’ Another Study Says ‘Market Set to Double by October’.  In 2021, the non-fungible token (NFT) ecosystem has grown massively and data shows during the last month, there have been 98,832 NFT sales across over 32,000 active wallets. Monthly statistics show $272 million in recorded NFT sales have taken place but a recent report shows the NFT market is starting to &#8220;cool off&#8221; as NFT [&#8230;] ... [| Skaityti daugiau](https://news.bitcoin.com/depends-on-who-you-ask-report-shows-nft-sales-cool-off-another-study-says-market-set-to-double-by-october/) "
      ],
      "text/plain": [
       "<IPython.core.display.Markdown object>"
      ]
     },
     "execution_count": 3,
     "metadata": {},
     "output_type": "execute_result"
    }
   ],
   "source": [
    "#hide_input\n",
    "#md('##### {}'.format(titleBTC)) \n",
    "md(\"- {}{} {}{} [| Skaityti daugiau]({}) \".format(blockchain['title'],'. ', blockchain['body'], ' ...', blockchain['url']))"
   ]
  },
  {
   "cell_type": "code",
   "execution_count": 4,
   "id": "aging-caution",
   "metadata": {
    "execution": {
     "iopub.execute_input": "2021-05-22T02:19:01.312805Z",
     "iopub.status.busy": "2021-05-22T02:19:01.312172Z",
     "iopub.status.idle": "2021-05-22T02:19:01.319960Z",
     "shell.execute_reply": "2021-05-22T02:19:01.319452Z"
    },
    "papermill": {
     "duration": 0.02244,
     "end_time": "2021-05-22T02:19:01.320089",
     "exception": false,
     "start_time": "2021-05-22T02:19:01.297649",
     "status": "completed"
    },
    "tags": []
   },
   "outputs": [
    {
     "data": {
      "text/markdown": [
       "- How Another Chinese Power Outage May Have Led to Bitcoin’s Flash Crash This Week.  Earlier in April, an accident at a Chinese coal mine in Xinjiang sent Bitcoin network’s hash rate plummeting 30% in a span of a day, which crippled the major cryptocurrency’s rally. Now, Bitcoin’s hash rate is suffering a similar loss as miners based in Sichuan, China face limitations on power usage. The State Grid in [&#8230;] ... [| Skaityti daugiau](https://bitcoinist.com/how-another-chinese-power-outage-may-have-led-to-bitcoins-flash-crash-this-week/?utm_source=rss&utm_medium=rss&utm_campaign=how-another-chinese-power-outage-may-have-led-to-bitcoins-flash-crash-this-week) "
      ],
      "text/plain": [
       "<IPython.core.display.Markdown object>"
      ]
     },
     "execution_count": 4,
     "metadata": {},
     "output_type": "execute_result"
    }
   ],
   "source": [
    "#hide_input\n",
    "#md('##### {}'.format(titleBTC)) \n",
    "md(\"- {}{} {}{} [| Skaityti daugiau]({}) \".format(btc['title'],'. ', btc['body'], ' ...', btc['url']))"
   ]
  },
  {
   "cell_type": "code",
   "execution_count": 5,
   "id": "organic-actress",
   "metadata": {
    "execution": {
     "iopub.execute_input": "2021-05-22T02:19:01.347243Z",
     "iopub.status.busy": "2021-05-22T02:19:01.346008Z",
     "iopub.status.idle": "2021-05-22T02:19:01.349812Z",
     "shell.execute_reply": "2021-05-22T02:19:01.350369Z"
    },
    "papermill": {
     "duration": 0.018878,
     "end_time": "2021-05-22T02:19:01.350504",
     "exception": false,
     "start_time": "2021-05-22T02:19:01.331626",
     "status": "completed"
    },
    "tags": []
   },
   "outputs": [
    {
     "data": {
      "text/markdown": [
       "- Ripple Co-Founder Jed McCaled Cashed Out 265 Million XRP So Far This Month.  Jed McCaleb, one of the co-founders of fintech firm Ripple, has sold an estimated 265 million XRP so far this month, and still has around 389 million XRP tokens on his ‘~tacostand’ account, according to XRPScan. McCaleb is said to have started working on Ripple back in 2011, and was part of its founding team […] ... [| Skaityti daugiau](https://www.cryptoglobe.com/latest/2021/05/ripple-co-founder-jed-mccaled-cashed-out-265-million-xrp-so-far-this-month/) "
      ],
      "text/plain": [
       "<IPython.core.display.Markdown object>"
      ]
     },
     "execution_count": 5,
     "metadata": {},
     "output_type": "execute_result"
    }
   ],
   "source": [
    "#hide_input\n",
    "#md('##### {}'.format(titleBTC)) \n",
    "md(\"- {}{} {}{} [| Skaityti daugiau]({}) \".format(xrp['title'],'. ', xrp['body'], ' ...', xrp['url']))"
   ]
  },
  {
   "cell_type": "code",
   "execution_count": 6,
   "id": "prompt-farmer",
   "metadata": {
    "execution": {
     "iopub.execute_input": "2021-05-22T02:19:01.377991Z",
     "iopub.status.busy": "2021-05-22T02:19:01.377405Z",
     "iopub.status.idle": "2021-05-22T02:19:01.380328Z",
     "shell.execute_reply": "2021-05-22T02:19:01.380804Z"
    },
    "papermill": {
     "duration": 0.019419,
     "end_time": "2021-05-22T02:19:01.380947",
     "exception": false,
     "start_time": "2021-05-22T02:19:01.361528",
     "status": "completed"
    },
    "tags": []
   },
   "outputs": [
    {
     "data": {
      "text/markdown": [
       "- Cardano, MATIC, Tron Price Analysis: 20 May.  The short-term market has experienced wild periods of volatility while the long-term market seem to be picturing an effort towards stabilizing the price. Altcoins like Cardano [ADA], Polygon [MATIC], and Tron [TRX] did suffer a blow in value, but at the time of writing, the market was trying to recover. Cardano [ADA] After a day [&#8230;] ... [| Skaityti daugiau](https://ambcrypto.com/cardano-matic-tron-price-analysis-20-may/) "
      ],
      "text/plain": [
       "<IPython.core.display.Markdown object>"
      ]
     },
     "execution_count": 6,
     "metadata": {},
     "output_type": "execute_result"
    }
   ],
   "source": [
    "#hide_input\n",
    "#md('##### {}'.format(titleBTC)) \n",
    "md(\"- {}{} {}{} [| Skaityti daugiau]({}) \".format(trx['title'],'. ', trx['body'], ' ...', trx['url']))"
   ]
  },
  {
   "cell_type": "code",
   "execution_count": 7,
   "id": "illegal-greece",
   "metadata": {
    "execution": {
     "iopub.execute_input": "2021-05-22T02:19:01.409291Z",
     "iopub.status.busy": "2021-05-22T02:19:01.408130Z",
     "iopub.status.idle": "2021-05-22T02:19:01.412509Z",
     "shell.execute_reply": "2021-05-22T02:19:01.412039Z"
    },
    "papermill": {
     "duration": 0.019859,
     "end_time": "2021-05-22T02:19:01.412655",
     "exception": false,
     "start_time": "2021-05-22T02:19:01.392796",
     "status": "completed"
    },
    "tags": []
   },
   "outputs": [
    {
     "data": {
      "text/markdown": [
       "- Depends on Who You Ask: Report Shows NFT Sales ‘Cool Off,’ Another Study Says ‘Market Set to Double by October’.  In 2021, the non-fungible token (NFT) ecosystem has grown massively and data shows during the last month, there have been 98,832 NFT sales across over 32,000 active wallets. Monthly statistics show $272 million in recorded NFT sales have taken place but a recent report shows the NFT market is starting to &#8220;cool off&#8221; as NFT [&#8230;] ... [| Skaityti daugiau](https://news.bitcoin.com/depends-on-who-you-ask-report-shows-nft-sales-cool-off-another-study-says-market-set-to-double-by-october/) "
      ],
      "text/plain": [
       "<IPython.core.display.Markdown object>"
      ]
     },
     "execution_count": 7,
     "metadata": {},
     "output_type": "execute_result"
    }
   ],
   "source": [
    "#hide_input\n",
    "#md('##### {}'.format(titleBTC)) \n",
    "md(\"- {}{} {}{} [| Skaityti daugiau]({}) \".format(eth['title'],'. ', eth['body'], ' ...', eth['url']))"
   ]
  },
  {
   "cell_type": "code",
   "execution_count": 8,
   "id": "sublime-lounge",
   "metadata": {
    "execution": {
     "iopub.execute_input": "2021-05-22T02:19:01.442042Z",
     "iopub.status.busy": "2021-05-22T02:19:01.441452Z",
     "iopub.status.idle": "2021-05-22T02:19:01.444491Z",
     "shell.execute_reply": "2021-05-22T02:19:01.443991Z"
    },
    "papermill": {
     "duration": 0.019785,
     "end_time": "2021-05-22T02:19:01.444710",
     "exception": false,
     "start_time": "2021-05-22T02:19:01.424925",
     "status": "completed"
    },
    "tags": []
   },
   "outputs": [
    {
     "data": {
      "text/markdown": [
       "- Cardano Price Analysis: 21 May.  Disclaimer: The findings of the following article are the sole opinions of the writer and should not be taken as investment advice Bitcoin&#8216;s price has remained under extreme bearish pressure of late and this trend has been mirrored by the market&#8217;s altcoins. Cardano [ADA] is one such major altcoin that has been impacted significantly over the [&#8230;] ... [| Skaityti daugiau](https://ambcrypto.com/cardano-price-analysis-21-may/) "
      ],
      "text/plain": [
       "<IPython.core.display.Markdown object>"
      ]
     },
     "execution_count": 8,
     "metadata": {},
     "output_type": "execute_result"
    }
   ],
   "source": [
    "#hide_input\n",
    "#md('##### {}'.format(titleBTC)) \n",
    "md(\"- {}{} {}{} [| Skaityti daugiau]({}) \".format(ada['title'],'. ', ada['body'], ' ...', ada['url']))"
   ]
  },
  {
   "cell_type": "code",
   "execution_count": 9,
   "id": "specified-ordering",
   "metadata": {
    "execution": {
     "iopub.execute_input": "2021-05-22T02:19:01.476642Z",
     "iopub.status.busy": "2021-05-22T02:19:01.475581Z",
     "iopub.status.idle": "2021-05-22T02:19:01.484240Z",
     "shell.execute_reply": "2021-05-22T02:19:01.483768Z"
    },
    "papermill": {
     "duration": 0.027103,
     "end_time": "2021-05-22T02:19:01.484358",
     "exception": false,
     "start_time": "2021-05-22T02:19:01.457255",
     "status": "completed"
    },
    "tags": []
   },
   "outputs": [
    {
     "data": {
      "text/markdown": [
       "- Orion Protocol Becomes First Partner to Integrate Binance Bridge into its Trading Terminal.  Orion Protocol has made history as the first to project integrate Binance Bridge as a step towards interoperability. The integration brings Binance Bridge into Orion Protocol’s trading terminal via Orion Bridge. This will allow users to trade on Ethereum and access ERC-20 assets without paying Ethereum fees. Orion Protocol is serving as a chain-agnostic liquidity [&#8230;] ... [| Skaityti daugiau](https://zycrypto.com/orion-protocol-becomes-first-partner-to-integrate-binance-bridge-into-its-trading-terminal/) "
      ],
      "text/plain": [
       "<IPython.core.display.Markdown object>"
      ]
     },
     "execution_count": 9,
     "metadata": {},
     "output_type": "execute_result"
    }
   ],
   "source": [
    "#hide_input\n",
    "#md('##### {}'.format(titleBTC)) \n",
    "md(\"- {}{} {}{} [| Skaityti daugiau]({}) \".format(exchange['title'],'. ', exchange['body'], ' ...', exchange['url']))"
   ]
  },
  {
   "cell_type": "code",
   "execution_count": null,
   "id": "tender-livestock",
   "metadata": {
    "papermill": {
     "duration": 0.014512,
     "end_time": "2021-05-22T02:19:01.512654",
     "exception": false,
     "start_time": "2021-05-22T02:19:01.498142",
     "status": "completed"
    },
    "tags": []
   },
   "outputs": [],
   "source": []
  },
  {
   "cell_type": "code",
   "execution_count": null,
   "id": "appreciated-diamond",
   "metadata": {
    "papermill": {
     "duration": 0.012936,
     "end_time": "2021-05-22T02:19:01.538429",
     "exception": false,
     "start_time": "2021-05-22T02:19:01.525493",
     "status": "completed"
    },
    "tags": []
   },
   "outputs": [],
   "source": []
  },
  {
   "cell_type": "code",
   "execution_count": null,
   "id": "romance-sweden",
   "metadata": {
    "papermill": {
     "duration": 0.012753,
     "end_time": "2021-05-22T02:19:01.563994",
     "exception": false,
     "start_time": "2021-05-22T02:19:01.551241",
     "status": "completed"
    },
    "tags": []
   },
   "outputs": [],
   "source": []
  },
  {
   "cell_type": "code",
   "execution_count": null,
   "id": "dietary-statistics",
   "metadata": {
    "papermill": {
     "duration": 0.012776,
     "end_time": "2021-05-22T02:19:01.589808",
     "exception": false,
     "start_time": "2021-05-22T02:19:01.577032",
     "status": "completed"
    },
    "tags": []
   },
   "outputs": [],
   "source": []
  }
 ],
 "metadata": {
  "kernelspec": {
   "display_name": "Python 3",
   "language": "python",
   "name": "python3"
  },
  "language_info": {
   "codemirror_mode": {
    "name": "ipython",
    "version": 3
   },
   "file_extension": ".py",
   "mimetype": "text/x-python",
   "name": "python",
   "nbconvert_exporter": "python",
   "pygments_lexer": "ipython3",
   "version": "3.6.13"
  },
  "papermill": {
   "default_parameters": {},
   "duration": 14.300891,
   "end_time": "2021-05-22T02:19:02.822985",
   "environment_variables": {},
   "exception": null,
   "input_path": "Market-News.ipynb",
   "output_path": "Market-News.ipynb",
   "parameters": {},
   "start_time": "2021-05-22T02:18:48.522094",
   "version": "2.2.2"
  }
 },
 "nbformat": 4,
 "nbformat_minor": 5
}