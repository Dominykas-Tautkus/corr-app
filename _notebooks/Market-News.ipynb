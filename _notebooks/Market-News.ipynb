{
 "cells": [
  {
   "cell_type": "markdown",
   "id": "short-greensboro",
   "metadata": {
    "papermill": {
     "duration": 0.016172,
     "end_time": "2021-01-23T02:48:54.718787",
     "exception": false,
     "start_time": "2021-01-23T02:48:54.702615",
     "status": "completed"
    },
    "tags": []
   },
   "source": [
    "# Kriptovaliutų naujienos"
   ]
  },
  {
   "cell_type": "code",
   "execution_count": 1,
   "id": "functioning-knowing",
   "metadata": {
    "execution": {
     "iopub.execute_input": "2021-01-23T02:48:54.754851Z",
     "iopub.status.busy": "2021-01-23T02:48:54.754221Z",
     "iopub.status.idle": "2021-01-23T02:48:56.074396Z",
     "shell.execute_reply": "2021-01-23T02:48:56.073235Z"
    },
    "papermill": {
     "duration": 1.344391,
     "end_time": "2021-01-23T02:48:56.074573",
     "exception": false,
     "start_time": "2021-01-23T02:48:54.730182",
     "status": "completed"
    },
    "tags": []
   },
   "outputs": [],
   "source": [
    "#hide_input\n",
    "import warnings\n",
    "warnings.filterwarnings('ignore')\n",
    "from scripts.read_data import read_api\n",
    "from scripts.read_data import read_news\n",
    "from scripts.read_data import read_covid\n",
    "import matplotlib.pyplot as plt \n",
    "from IPython.display import Markdown as md"
   ]
  },
  {
   "cell_type": "code",
   "execution_count": 2,
   "id": "shared-acceptance",
   "metadata": {
    "execution": {
     "iopub.execute_input": "2021-01-23T02:48:56.103067Z",
     "iopub.status.busy": "2021-01-23T02:48:56.101722Z",
     "iopub.status.idle": "2021-01-23T02:49:04.907520Z",
     "shell.execute_reply": "2021-01-23T02:49:04.906504Z"
    },
    "papermill": {
     "duration": 8.822343,
     "end_time": "2021-01-23T02:49:04.907678",
     "exception": false,
     "start_time": "2021-01-23T02:48:56.085335",
     "status": "completed"
    },
    "tags": []
   },
   "outputs": [],
   "source": [
    "#hide_input\n",
    "blockchain = read_news('blockchain') \n",
    "btc = read_news('btc') \n",
    "xrp = read_news('xrp') \n",
    "trx = read_news('trx') \n",
    "eth = read_news('eth')  \n",
    "ada = read_news('ada')\n",
    "exchange = read_news('exchange') "
   ]
  },
  {
   "cell_type": "code",
   "execution_count": 3,
   "id": "synthetic-notion",
   "metadata": {
    "execution": {
     "iopub.execute_input": "2021-01-23T02:49:04.934315Z",
     "iopub.status.busy": "2021-01-23T02:49:04.933585Z",
     "iopub.status.idle": "2021-01-23T02:49:04.939537Z",
     "shell.execute_reply": "2021-01-23T02:49:04.940026Z"
    },
    "papermill": {
     "duration": 0.021652,
     "end_time": "2021-01-23T02:49:04.940175",
     "exception": false,
     "start_time": "2021-01-23T02:49:04.918523",
     "status": "completed"
    },
    "tags": []
   },
   "outputs": [
    {
     "data": {
      "text/markdown": [
       "- Privacy-Centric Cryptocurrency Firo Suffers 51% Attack on Its Network.  The proof-of-work (PoW) cryptocurrency Firo announced that its protocol came under a 51% attack, notifying its holders to stop transactions. Formerly known as Zcoin, the privacy coin was reportedly subject of a blockchain reorganization attack. Firo Team Clarified the Attack Cannot Be Attributed to a &#8216;Coding Error&#8217; According to a series of tweets published by [&#8230;] ... [| Skaityti daugiau](https://news.bitcoin.com/privacy-centric-cryptocurrency-firo-suffers-51-attack-on-its-network/) "
      ],
      "text/plain": [
       "<IPython.core.display.Markdown object>"
      ]
     },
     "execution_count": 3,
     "metadata": {},
     "output_type": "execute_result"
    }
   ],
   "source": [
    "#hide_input\n",
    "#md('##### {}'.format(titleBTC)) \n",
    "md(\"- {}{} {}{} [| Skaityti daugiau]({}) \".format(blockchain['title'],'. ', blockchain['body'], ' ...', blockchain['url']))"
   ]
  },
  {
   "cell_type": "code",
   "execution_count": 4,
   "id": "aging-caution",
   "metadata": {
    "execution": {
     "iopub.execute_input": "2021-01-23T02:49:04.967669Z",
     "iopub.status.busy": "2021-01-23T02:49:04.967016Z",
     "iopub.status.idle": "2021-01-23T02:49:04.972602Z",
     "shell.execute_reply": "2021-01-23T02:49:04.973064Z"
    },
    "papermill": {
     "duration": 0.022033,
     "end_time": "2021-01-23T02:49:04.973208",
     "exception": false,
     "start_time": "2021-01-23T02:49:04.951175",
     "status": "completed"
    },
    "tags": []
   },
   "outputs": [
    {
     "data": {
      "text/markdown": [
       "- Altcoins rally while Bitcoin bulls are thwarted by resistance at $34K.  A handful of altcoins posted double-digit gains while Bitcoin’s relief rally was halted by resistance at $34,000. ... [| Skaityti daugiau](https://cointelegraph.com/news/altcoins-rally-while-bitcoin-bulls-are-thwarted-by-resistance-at-34k) "
      ],
      "text/plain": [
       "<IPython.core.display.Markdown object>"
      ]
     },
     "execution_count": 4,
     "metadata": {},
     "output_type": "execute_result"
    }
   ],
   "source": [
    "#hide_input\n",
    "#md('##### {}'.format(titleBTC)) \n",
    "md(\"- {}{} {}{} [| Skaityti daugiau]({}) \".format(btc['title'],'. ', btc['body'], ' ...', btc['url']))"
   ]
  },
  {
   "cell_type": "code",
   "execution_count": 5,
   "id": "organic-actress",
   "metadata": {
    "execution": {
     "iopub.execute_input": "2021-01-23T02:49:05.001435Z",
     "iopub.status.busy": "2021-01-23T02:49:05.000787Z",
     "iopub.status.idle": "2021-01-23T02:49:05.003003Z",
     "shell.execute_reply": "2021-01-23T02:49:05.003486Z"
    },
    "papermill": {
     "duration": 0.019336,
     "end_time": "2021-01-23T02:49:05.003627",
     "exception": false,
     "start_time": "2021-01-23T02:49:04.984291",
     "status": "completed"
    },
    "tags": []
   },
   "outputs": [
    {
     "data": {
      "text/markdown": [
       "- Market Wrap: Bitcoin Back Above $33K While Ether Up 65% in 2021.  There appears to be strong support around $30,000, according to traders. ... [| Skaityti daugiau](https://www.coindesk.com/market-wrap-bitcoin-above-33k-ether-up-2021) "
      ],
      "text/plain": [
       "<IPython.core.display.Markdown object>"
      ]
     },
     "execution_count": 5,
     "metadata": {},
     "output_type": "execute_result"
    }
   ],
   "source": [
    "#hide_input\n",
    "#md('##### {}'.format(titleBTC)) \n",
    "md(\"- {}{} {}{} [| Skaityti daugiau]({}) \".format(xrp['title'],'. ', xrp['body'], ' ...', xrp['url']))"
   ]
  },
  {
   "cell_type": "code",
   "execution_count": 6,
   "id": "prompt-farmer",
   "metadata": {
    "execution": {
     "iopub.execute_input": "2021-01-23T02:49:05.029646Z",
     "iopub.status.busy": "2021-01-23T02:49:05.029039Z",
     "iopub.status.idle": "2021-01-23T02:49:05.036515Z",
     "shell.execute_reply": "2021-01-23T02:49:05.036004Z"
    },
    "papermill": {
     "duration": 0.021559,
     "end_time": "2021-01-23T02:49:05.036639",
     "exception": false,
     "start_time": "2021-01-23T02:49:05.015080",
     "status": "completed"
    },
    "tags": []
   },
   "outputs": [
    {
     "data": {
      "text/markdown": [
       "- Tether Users Flee to TRON From Ethereum Amid High Fees.  Transactions using Tether dollar-pegged stablecoins on the TRON blockchain are outpacing those on Ethereum. ... [| Skaityti daugiau](https://decrypt.co/55082/tether-users-flee-to-tron-from-ethereum-amid-high-fees) "
      ],
      "text/plain": [
       "<IPython.core.display.Markdown object>"
      ]
     },
     "execution_count": 6,
     "metadata": {},
     "output_type": "execute_result"
    }
   ],
   "source": [
    "#hide_input\n",
    "#md('##### {}'.format(titleBTC)) \n",
    "md(\"- {}{} {}{} [| Skaityti daugiau]({}) \".format(trx['title'],'. ', trx['body'], ' ...', trx['url']))"
   ]
  },
  {
   "cell_type": "code",
   "execution_count": 7,
   "id": "illegal-greece",
   "metadata": {
    "execution": {
     "iopub.execute_input": "2021-01-23T02:49:05.065149Z",
     "iopub.status.busy": "2021-01-23T02:49:05.064538Z",
     "iopub.status.idle": "2021-01-23T02:49:05.067895Z",
     "shell.execute_reply": "2021-01-23T02:49:05.067303Z"
    },
    "papermill": {
     "duration": 0.019423,
     "end_time": "2021-01-23T02:49:05.068020",
     "exception": false,
     "start_time": "2021-01-23T02:49:05.048597",
     "status": "completed"
    },
    "tags": []
   },
   "outputs": [
    {
     "data": {
      "text/markdown": [
       "- Popular analyst prefers altcoins LINK, UNI, others during Bitcoin & Eth’s correction phase.  After reaching all-time highs, both Bitcoin and Ether have faced a wave of correction; while the former seems to be stagnated, the latter slid further. Experts believe the current dip in prices is a temporary setback and even a healthy pullback before Bitcoin and Ether reach higher ranges. However, a popular trader and crypto analyst [&#8230;] ... [| Skaityti daugiau](https://ambcrypto.com/popular-analyst-prefers-altcoins-link-uni-others-during-bitcoin-eths-correction-phase/) "
      ],
      "text/plain": [
       "<IPython.core.display.Markdown object>"
      ]
     },
     "execution_count": 7,
     "metadata": {},
     "output_type": "execute_result"
    }
   ],
   "source": [
    "#hide_input\n",
    "#md('##### {}'.format(titleBTC)) \n",
    "md(\"- {}{} {}{} [| Skaityti daugiau]({}) \".format(eth['title'],'. ', eth['body'], ' ...', eth['url']))"
   ]
  },
  {
   "cell_type": "code",
   "execution_count": 8,
   "id": "sublime-lounge",
   "metadata": {
    "execution": {
     "iopub.execute_input": "2021-01-23T02:49:05.097615Z",
     "iopub.status.busy": "2021-01-23T02:49:05.096540Z",
     "iopub.status.idle": "2021-01-23T02:49:05.101049Z",
     "shell.execute_reply": "2021-01-23T02:49:05.100532Z"
    },
    "papermill": {
     "duration": 0.020945,
     "end_time": "2021-01-23T02:49:05.101175",
     "exception": false,
     "start_time": "2021-01-23T02:49:05.080230",
     "status": "completed"
    },
    "tags": []
   },
   "outputs": [
    {
     "data": {
      "text/markdown": [
       "- The value of Cardano’s treasury reaches $100 million.  As the price of ADA reached $0.38, the value of the tokens locked in Cardano’s treasury briefly surpassed $100 million. The post The value of Cardano’s treasury reaches $100 million appeared first on CryptoSlate. ... [| Skaityti daugiau](https://cryptoslate.com/the-value-of-cardanos-treasury-reaches-100-million/) "
      ],
      "text/plain": [
       "<IPython.core.display.Markdown object>"
      ]
     },
     "execution_count": 8,
     "metadata": {},
     "output_type": "execute_result"
    }
   ],
   "source": [
    "#hide_input\n",
    "#md('##### {}'.format(titleBTC)) \n",
    "md(\"- {}{} {}{} [| Skaityti daugiau]({}) \".format(ada['title'],'. ', ada['body'], ' ...', ada['url']))"
   ]
  },
  {
   "cell_type": "code",
   "execution_count": 9,
   "id": "specified-ordering",
   "metadata": {
    "execution": {
     "iopub.execute_input": "2021-01-23T02:49:05.132220Z",
     "iopub.status.busy": "2021-01-23T02:49:05.131609Z",
     "iopub.status.idle": "2021-01-23T02:49:05.135642Z",
     "shell.execute_reply": "2021-01-23T02:49:05.135129Z"
    },
    "papermill": {
     "duration": 0.021964,
     "end_time": "2021-01-23T02:49:05.135765",
     "exception": false,
     "start_time": "2021-01-23T02:49:05.113801",
     "status": "completed"
    },
    "tags": []
   },
   "outputs": [
    {
     "data": {
      "text/markdown": [
       "- Wise Bitcoin Is a New Kind of Digital Exchange.  The cryptocurrency space continues to grow like there’s no tomorrow. As a result, we’re witnessing an influx of traders jumping in without thought or reason to their actions, and many companies – including Wise Bitcoin – are seeking to ensure these individuals have the knowledge and education they need to make smart investing decisions and...The post Wise Bitcoin Is a New Kind of Digital Exchange appeared first on Live Bitcoin News. ... [| Skaityti daugiau](https://www.livebitcoinnews.com/wise-bitcoin-is-a-new-kind-of-cryptocurrency-exchange/) "
      ],
      "text/plain": [
       "<IPython.core.display.Markdown object>"
      ]
     },
     "execution_count": 9,
     "metadata": {},
     "output_type": "execute_result"
    }
   ],
   "source": [
    "#hide_input\n",
    "#md('##### {}'.format(titleBTC)) \n",
    "md(\"- {}{} {}{} [| Skaityti daugiau]({}) \".format(exchange['title'],'. ', exchange['body'], ' ...', exchange['url']))"
   ]
  },
  {
   "cell_type": "code",
   "execution_count": null,
   "id": "tender-livestock",
   "metadata": {
    "papermill": {
     "duration": 0.012901,
     "end_time": "2021-01-23T02:49:05.161718",
     "exception": false,
     "start_time": "2021-01-23T02:49:05.148817",
     "status": "completed"
    },
    "tags": []
   },
   "outputs": [],
   "source": []
  },
  {
   "cell_type": "code",
   "execution_count": null,
   "id": "appreciated-diamond",
   "metadata": {
    "papermill": {
     "duration": 0.013818,
     "end_time": "2021-01-23T02:49:05.188448",
     "exception": false,
     "start_time": "2021-01-23T02:49:05.174630",
     "status": "completed"
    },
    "tags": []
   },
   "outputs": [],
   "source": []
  },
  {
   "cell_type": "code",
   "execution_count": null,
   "id": "romance-sweden",
   "metadata": {
    "papermill": {
     "duration": 0.012806,
     "end_time": "2021-01-23T02:49:05.214113",
     "exception": false,
     "start_time": "2021-01-23T02:49:05.201307",
     "status": "completed"
    },
    "tags": []
   },
   "outputs": [],
   "source": []
  },
  {
   "cell_type": "code",
   "execution_count": null,
   "id": "dietary-statistics",
   "metadata": {
    "papermill": {
     "duration": 0.012881,
     "end_time": "2021-01-23T02:49:05.239849",
     "exception": false,
     "start_time": "2021-01-23T02:49:05.226968",
     "status": "completed"
    },
    "tags": []
   },
   "outputs": [],
   "source": []
  }
 ],
 "metadata": {
  "kernelspec": {
   "display_name": "Python 3",
   "language": "python",
   "name": "python3"
  },
  "language_info": {
   "codemirror_mode": {
    "name": "ipython",
    "version": 3
   },
   "file_extension": ".py",
   "mimetype": "text/x-python",
   "name": "python",
   "nbconvert_exporter": "python",
   "pygments_lexer": "ipython3",
   "version": "3.6.12"
  },
  "papermill": {
   "default_parameters": {},
   "duration": 12.248952,
   "end_time": "2021-01-23T02:49:05.662956",
   "environment_variables": {},
   "exception": null,
   "input_path": "Market-News.ipynb",
   "output_path": "Market-News.ipynb",
   "parameters": {},
   "start_time": "2021-01-23T02:48:53.414004",
   "version": "2.2.2"
  }
 },
 "nbformat": 4,
 "nbformat_minor": 5
}