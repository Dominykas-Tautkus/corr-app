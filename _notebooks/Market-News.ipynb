{
 "cells": [
  {
   "cell_type": "markdown",
   "id": "short-greensboro",
   "metadata": {
    "papermill": {
     "duration": 0.014416,
     "end_time": "2021-02-18T01:39:55.569540",
     "exception": false,
     "start_time": "2021-02-18T01:39:55.555124",
     "status": "completed"
    },
    "tags": []
   },
   "source": [
    "# Kriptovaliutų naujienos"
   ]
  },
  {
   "cell_type": "code",
   "execution_count": 1,
   "id": "functioning-knowing",
   "metadata": {
    "execution": {
     "iopub.execute_input": "2021-02-18T01:39:55.603457Z",
     "iopub.status.busy": "2021-02-18T01:39:55.602865Z",
     "iopub.status.idle": "2021-02-18T01:39:56.857279Z",
     "shell.execute_reply": "2021-02-18T01:39:56.856810Z"
    },
    "papermill": {
     "duration": 1.275498,
     "end_time": "2021-02-18T01:39:56.857415",
     "exception": false,
     "start_time": "2021-02-18T01:39:55.581917",
     "status": "completed"
    },
    "tags": []
   },
   "outputs": [],
   "source": [
    "#hide_input\n",
    "import warnings\n",
    "warnings.filterwarnings('ignore')\n",
    "from scripts.read_data import read_api\n",
    "from scripts.read_data import read_news\n",
    "from scripts.read_data import read_covid\n",
    "import matplotlib.pyplot as plt \n",
    "from IPython.display import Markdown as md"
   ]
  },
  {
   "cell_type": "code",
   "execution_count": 2,
   "id": "shared-acceptance",
   "metadata": {
    "execution": {
     "iopub.execute_input": "2021-02-18T01:39:56.884035Z",
     "iopub.status.busy": "2021-02-18T01:39:56.881874Z",
     "iopub.status.idle": "2021-02-18T01:40:06.644675Z",
     "shell.execute_reply": "2021-02-18T01:40:06.645167Z"
    },
    "papermill": {
     "duration": 9.77787,
     "end_time": "2021-02-18T01:40:06.645313",
     "exception": false,
     "start_time": "2021-02-18T01:39:56.867443",
     "status": "completed"
    },
    "tags": []
   },
   "outputs": [],
   "source": [
    "#hide_input\n",
    "blockchain = read_news('blockchain') \n",
    "btc = read_news('btc') \n",
    "xrp = read_news('xrp') \n",
    "trx = read_news('trx') \n",
    "eth = read_news('eth')  \n",
    "ada = read_news('ada')\n",
    "exchange = read_news('exchange') "
   ]
  },
  {
   "cell_type": "code",
   "execution_count": 3,
   "id": "synthetic-notion",
   "metadata": {
    "execution": {
     "iopub.execute_input": "2021-02-18T01:40:06.674359Z",
     "iopub.status.busy": "2021-02-18T01:40:06.673715Z",
     "iopub.status.idle": "2021-02-18T01:40:06.678082Z",
     "shell.execute_reply": "2021-02-18T01:40:06.677534Z"
    },
    "papermill": {
     "duration": 0.021881,
     "end_time": "2021-02-18T01:40:06.678193",
     "exception": false,
     "start_time": "2021-02-18T01:40:06.656312",
     "status": "completed"
    },
    "tags": []
   },
   "outputs": [
    {
     "data": {
      "text/markdown": [
       "- Blockchain Needs People Who May Not Look Like You: Lavinia Osbourne.  The Women in Blockchain Talks host and founder appeared on The Decrypt Daily podcast to discuss the event series and its inclusionary aims. ... [| Skaityti daugiau](https://decrypt.co/58030/blockchain-needs-people-who-may-not-look-like-you-lavinia-osbourne) "
      ],
      "text/plain": [
       "<IPython.core.display.Markdown object>"
      ]
     },
     "execution_count": 3,
     "metadata": {},
     "output_type": "execute_result"
    }
   ],
   "source": [
    "#hide_input\n",
    "#md('##### {}'.format(titleBTC)) \n",
    "md(\"- {}{} {}{} [| Skaityti daugiau]({}) \".format(blockchain['title'],'. ', blockchain['body'], ' ...', blockchain['url']))"
   ]
  },
  {
   "cell_type": "code",
   "execution_count": 4,
   "id": "aging-caution",
   "metadata": {
    "execution": {
     "iopub.execute_input": "2021-02-18T01:40:06.706121Z",
     "iopub.status.busy": "2021-02-18T01:40:06.705464Z",
     "iopub.status.idle": "2021-02-18T01:40:06.711285Z",
     "shell.execute_reply": "2021-02-18T01:40:06.711777Z"
    },
    "papermill": {
     "duration": 0.022159,
     "end_time": "2021-02-18T01:40:06.711912",
     "exception": false,
     "start_time": "2021-02-18T01:40:06.689753",
     "status": "completed"
    },
    "tags": []
   },
   "outputs": [
    {
     "data": {
      "text/markdown": [
       "- Analyst Says Keep These 5 ‘Top Altcoins’ in Your Radar During February and March.  Michaël van de Poppe gave his top altcoin picks for February, noting crypto-assets that were beginning to look favorable against BTC trading pairs. ... [| Skaityti daugiau](https://www.cryptoglobe.com/latest/2021/02/analyst-says-keep-these-5-top-altcoins-in-your-radar-during-february-and-march/) "
      ],
      "text/plain": [
       "<IPython.core.display.Markdown object>"
      ]
     },
     "execution_count": 4,
     "metadata": {},
     "output_type": "execute_result"
    }
   ],
   "source": [
    "#hide_input\n",
    "#md('##### {}'.format(titleBTC)) \n",
    "md(\"- {}{} {}{} [| Skaityti daugiau]({}) \".format(btc['title'],'. ', btc['body'], ' ...', btc['url']))"
   ]
  },
  {
   "cell_type": "code",
   "execution_count": 5,
   "id": "organic-actress",
   "metadata": {
    "execution": {
     "iopub.execute_input": "2021-02-18T01:40:06.741019Z",
     "iopub.status.busy": "2021-02-18T01:40:06.740344Z",
     "iopub.status.idle": "2021-02-18T01:40:06.743228Z",
     "shell.execute_reply": "2021-02-18T01:40:06.743784Z"
    },
    "papermill": {
     "duration": 0.020338,
     "end_time": "2021-02-18T01:40:06.743915",
     "exception": false,
     "start_time": "2021-02-18T01:40:06.723577",
     "status": "completed"
    },
    "tags": []
   },
   "outputs": [
    {
     "data": {
      "text/markdown": [
       "- Price analysis 2/17: BTC, ETH, DOT, ADA, XRP, BNB, LTC, BCH, LINK, XLM.  Bitcoin price has posted all-time high today and that may pull select altcoins higher.  ... [| Skaityti daugiau](https://cointelegraph.com/news/price-analysis-2-17-btc-eth-dot-ada-xrp-bnb-ltc-bch-link-xlm) "
      ],
      "text/plain": [
       "<IPython.core.display.Markdown object>"
      ]
     },
     "execution_count": 5,
     "metadata": {},
     "output_type": "execute_result"
    }
   ],
   "source": [
    "#hide_input\n",
    "#md('##### {}'.format(titleBTC)) \n",
    "md(\"- {}{} {}{} [| Skaityti daugiau]({}) \".format(xrp['title'],'. ', xrp['body'], ' ...', xrp['url']))"
   ]
  },
  {
   "cell_type": "code",
   "execution_count": 6,
   "id": "prompt-farmer",
   "metadata": {
    "execution": {
     "iopub.execute_input": "2021-02-18T01:40:06.772783Z",
     "iopub.status.busy": "2021-02-18T01:40:06.772181Z",
     "iopub.status.idle": "2021-02-18T01:40:06.778277Z",
     "shell.execute_reply": "2021-02-18T01:40:06.777804Z"
    },
    "papermill": {
     "duration": 0.022305,
     "end_time": "2021-02-18T01:40:06.778408",
     "exception": false,
     "start_time": "2021-02-18T01:40:06.756103",
     "status": "completed"
    },
    "tags": []
   },
   "outputs": [
    {
     "data": {
      "text/markdown": [
       "- Justin Sun reacts after allegations of Tron (TRX) paying celebrities for tweets.  Tron has been marred with controversy ever since its launch in 2017. The post Justin Sun reacts after allegations of Tron (TRX) paying celebrities for tweets appeared first on CryptoSlate. ... [| Skaityti daugiau](https://cryptoslate.com/justin-sun-reacts-after-allegations-of-tron-trx-paying-celebrities-for-tweets/) "
      ],
      "text/plain": [
       "<IPython.core.display.Markdown object>"
      ]
     },
     "execution_count": 6,
     "metadata": {},
     "output_type": "execute_result"
    }
   ],
   "source": [
    "#hide_input\n",
    "#md('##### {}'.format(titleBTC)) \n",
    "md(\"- {}{} {}{} [| Skaityti daugiau]({}) \".format(trx['title'],'. ', trx['body'], ' ...', trx['url']))"
   ]
  },
  {
   "cell_type": "code",
   "execution_count": 7,
   "id": "illegal-greece",
   "metadata": {
    "execution": {
     "iopub.execute_input": "2021-02-18T01:40:06.808111Z",
     "iopub.status.busy": "2021-02-18T01:40:06.806982Z",
     "iopub.status.idle": "2021-02-18T01:40:06.812941Z",
     "shell.execute_reply": "2021-02-18T01:40:06.813418Z"
    },
    "papermill": {
     "duration": 0.023054,
     "end_time": "2021-02-18T01:40:06.813542",
     "exception": false,
     "start_time": "2021-02-18T01:40:06.790488",
     "status": "completed"
    },
    "tags": []
   },
   "outputs": [
    {
     "data": {
      "text/markdown": [
       "- CME’s first week of Ether futures trading sees $34 million in daily volumes.  CME has completed its first week of ETH futures trading, nearly sustaining the volume of its opening day.The post CME&#8217;s first week of Ether futures trading sees $34 million in daily volumes appeared first on The Block. ... [| Skaityti daugiau](https://www.theblockcrypto.com/linked/95217/cme-first-week-eth-futures-trading?utm_source=cryptocompare&utm_medium=rss) "
      ],
      "text/plain": [
       "<IPython.core.display.Markdown object>"
      ]
     },
     "execution_count": 7,
     "metadata": {},
     "output_type": "execute_result"
    }
   ],
   "source": [
    "#hide_input\n",
    "#md('##### {}'.format(titleBTC)) \n",
    "md(\"- {}{} {}{} [| Skaityti daugiau]({}) \".format(eth['title'],'. ', eth['body'], ' ...', eth['url']))"
   ]
  },
  {
   "cell_type": "code",
   "execution_count": 8,
   "id": "sublime-lounge",
   "metadata": {
    "execution": {
     "iopub.execute_input": "2021-02-18T01:40:06.844100Z",
     "iopub.status.busy": "2021-02-18T01:40:06.843404Z",
     "iopub.status.idle": "2021-02-18T01:40:06.848840Z",
     "shell.execute_reply": "2021-02-18T01:40:06.848298Z"
    },
    "papermill": {
     "duration": 0.023093,
     "end_time": "2021-02-18T01:40:06.848962",
     "exception": false,
     "start_time": "2021-02-18T01:40:06.825869",
     "status": "completed"
    },
    "tags": []
   },
   "outputs": [
    {
     "data": {
      "text/markdown": [
       "- Price analysis 2/17: BTC, ETH, DOT, ADA, XRP, BNB, LTC, BCH, LINK, XLM.  Bitcoin price has posted all-time high today and that may pull select altcoins higher.  ... [| Skaityti daugiau](https://cointelegraph.com/news/price-analysis-2-17-btc-eth-dot-ada-xrp-bnb-ltc-bch-link-xlm) "
      ],
      "text/plain": [
       "<IPython.core.display.Markdown object>"
      ]
     },
     "execution_count": 8,
     "metadata": {},
     "output_type": "execute_result"
    }
   ],
   "source": [
    "#hide_input\n",
    "#md('##### {}'.format(titleBTC)) \n",
    "md(\"- {}{} {}{} [| Skaityti daugiau]({}) \".format(ada['title'],'. ', ada['body'], ' ...', ada['url']))"
   ]
  },
  {
   "cell_type": "code",
   "execution_count": 9,
   "id": "specified-ordering",
   "metadata": {
    "execution": {
     "iopub.execute_input": "2021-02-18T01:40:06.883182Z",
     "iopub.status.busy": "2021-02-18T01:40:06.881753Z",
     "iopub.status.idle": "2021-02-18T01:40:06.885764Z",
     "shell.execute_reply": "2021-02-18T01:40:06.886415Z"
    },
    "papermill": {
     "duration": 0.023645,
     "end_time": "2021-02-18T01:40:06.886546",
     "exception": false,
     "start_time": "2021-02-18T01:40:06.862901",
     "status": "completed"
    },
    "tags": []
   },
   "outputs": [
    {
     "data": {
      "text/markdown": [
       "- German Cannabis Firm Hedges Bitcoin to Protect from Massive Currency Devaluation.  On Tuesday, the cannabis firm Synbiotic SE, a publicly-traded company in Germany that&#8217;s listed on the Frankfurt Stock Exchange and Xetra, has announced it is leveraging bitcoin to hedge against the euro. Synbiotic&#8217;s chief executive officer, Lars M&#252;ller explained that the company decided to hedge with the leading crypto asset in order to protect the [&#8230;] ... [| Skaityti daugiau](https://news.bitcoin.com/german-cannabis-bitcoin-massive-currency-devaluation/) "
      ],
      "text/plain": [
       "<IPython.core.display.Markdown object>"
      ]
     },
     "execution_count": 9,
     "metadata": {},
     "output_type": "execute_result"
    }
   ],
   "source": [
    "#hide_input\n",
    "#md('##### {}'.format(titleBTC)) \n",
    "md(\"- {}{} {}{} [| Skaityti daugiau]({}) \".format(exchange['title'],'. ', exchange['body'], ' ...', exchange['url']))"
   ]
  },
  {
   "cell_type": "code",
   "execution_count": null,
   "id": "tender-livestock",
   "metadata": {
    "papermill": {
     "duration": 0.013767,
     "end_time": "2021-02-18T01:40:06.914923",
     "exception": false,
     "start_time": "2021-02-18T01:40:06.901156",
     "status": "completed"
    },
    "tags": []
   },
   "outputs": [],
   "source": []
  },
  {
   "cell_type": "code",
   "execution_count": null,
   "id": "appreciated-diamond",
   "metadata": {
    "papermill": {
     "duration": 0.014538,
     "end_time": "2021-02-18T01:40:06.942655",
     "exception": false,
     "start_time": "2021-02-18T01:40:06.928117",
     "status": "completed"
    },
    "tags": []
   },
   "outputs": [],
   "source": []
  },
  {
   "cell_type": "code",
   "execution_count": null,
   "id": "romance-sweden",
   "metadata": {
    "papermill": {
     "duration": 0.014345,
     "end_time": "2021-02-18T01:40:06.970968",
     "exception": false,
     "start_time": "2021-02-18T01:40:06.956623",
     "status": "completed"
    },
    "tags": []
   },
   "outputs": [],
   "source": []
  },
  {
   "cell_type": "code",
   "execution_count": null,
   "id": "dietary-statistics",
   "metadata": {
    "papermill": {
     "duration": 0.013718,
     "end_time": "2021-02-18T01:40:06.998528",
     "exception": false,
     "start_time": "2021-02-18T01:40:06.984810",
     "status": "completed"
    },
    "tags": []
   },
   "outputs": [],
   "source": []
  }
 ],
 "metadata": {
  "kernelspec": {
   "display_name": "Python 3",
   "language": "python",
   "name": "python3"
  },
  "language_info": {
   "codemirror_mode": {
    "name": "ipython",
    "version": 3
   },
   "file_extension": ".py",
   "mimetype": "text/x-python",
   "name": "python",
   "nbconvert_exporter": "python",
   "pygments_lexer": "ipython3",
   "version": "3.6.12"
  },
  "papermill": {
   "default_parameters": {},
   "duration": 12.91801,
   "end_time": "2021-02-18T01:40:07.418691",
   "environment_variables": {},
   "exception": null,
   "input_path": "Market-News.ipynb",
   "output_path": "Market-News.ipynb",
   "parameters": {},
   "start_time": "2021-02-18T01:39:54.500681",
   "version": "2.2.2"
  }
 },
 "nbformat": 4,
 "nbformat_minor": 5
}