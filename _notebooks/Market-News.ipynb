{
 "cells": [
  {
   "cell_type": "markdown",
   "id": "short-greensboro",
   "metadata": {
    "papermill": {
     "duration": 0.015769,
     "end_time": "2021-01-30T01:57:13.363989",
     "exception": false,
     "start_time": "2021-01-30T01:57:13.348220",
     "status": "completed"
    },
    "tags": []
   },
   "source": [
    "# Kriptovaliutų naujienos"
   ]
  },
  {
   "cell_type": "code",
   "execution_count": 1,
   "id": "functioning-knowing",
   "metadata": {
    "execution": {
     "iopub.execute_input": "2021-01-30T01:57:13.395478Z",
     "iopub.status.busy": "2021-01-30T01:57:13.394836Z",
     "iopub.status.idle": "2021-01-30T01:57:14.679222Z",
     "shell.execute_reply": "2021-01-30T01:57:14.679980Z"
    },
    "papermill": {
     "duration": 1.305822,
     "end_time": "2021-01-30T01:57:14.680258",
     "exception": false,
     "start_time": "2021-01-30T01:57:13.374436",
     "status": "completed"
    },
    "tags": []
   },
   "outputs": [],
   "source": [
    "#hide_input\n",
    "import warnings\n",
    "warnings.filterwarnings('ignore')\n",
    "from scripts.read_data import read_api\n",
    "from scripts.read_data import read_news\n",
    "from scripts.read_data import read_covid\n",
    "import matplotlib.pyplot as plt \n",
    "from IPython.display import Markdown as md"
   ]
  },
  {
   "cell_type": "code",
   "execution_count": 2,
   "id": "shared-acceptance",
   "metadata": {
    "execution": {
     "iopub.execute_input": "2021-01-30T01:57:14.709597Z",
     "iopub.status.busy": "2021-01-30T01:57:14.708994Z",
     "iopub.status.idle": "2021-01-30T01:57:22.608528Z",
     "shell.execute_reply": "2021-01-30T01:57:22.607758Z"
    },
    "papermill": {
     "duration": 7.916638,
     "end_time": "2021-01-30T01:57:22.608733",
     "exception": false,
     "start_time": "2021-01-30T01:57:14.692095",
     "status": "completed"
    },
    "tags": []
   },
   "outputs": [],
   "source": [
    "#hide_input\n",
    "blockchain = read_news('blockchain') \n",
    "btc = read_news('btc') \n",
    "xrp = read_news('xrp') \n",
    "trx = read_news('trx') \n",
    "eth = read_news('eth')  \n",
    "ada = read_news('ada')\n",
    "exchange = read_news('exchange') "
   ]
  },
  {
   "cell_type": "code",
   "execution_count": 3,
   "id": "synthetic-notion",
   "metadata": {
    "execution": {
     "iopub.execute_input": "2021-01-30T01:57:22.637158Z",
     "iopub.status.busy": "2021-01-30T01:57:22.636538Z",
     "iopub.status.idle": "2021-01-30T01:57:22.642756Z",
     "shell.execute_reply": "2021-01-30T01:57:22.642252Z"
    },
    "papermill": {
     "duration": 0.021656,
     "end_time": "2021-01-30T01:57:22.642886",
     "exception": false,
     "start_time": "2021-01-30T01:57:22.621230",
     "status": "completed"
    },
    "tags": []
   },
   "outputs": [
    {
     "data": {
      "text/markdown": [
       "- Crypto Exchange Operator Affiliate to Launch Blockchain Genome Platform.  An affiliate of the Japanese crypto player and securities giant Monex Group is set to make use of a new blockchain technology-based platform as part of an ambitious genome research project.Per a press release, Genex, a Tokyo-based startup founded last year that is 40% owned by Monex, is looking to build a comprehensive health platform using blockchain technology. The ... [| Skaityti daugiau](https://cryptonews.com/news/crypto-exchange-operator-affiliate-to-launch-blockchain-geno-9062.htm) "
      ],
      "text/plain": [
       "<IPython.core.display.Markdown object>"
      ]
     },
     "execution_count": 3,
     "metadata": {},
     "output_type": "execute_result"
    }
   ],
   "source": [
    "#hide_input\n",
    "#md('##### {}'.format(titleBTC)) \n",
    "md(\"- {}{} {}{} [| Skaityti daugiau]({}) \".format(blockchain['title'],'. ', blockchain['body'], ' ...', blockchain['url']))"
   ]
  },
  {
   "cell_type": "code",
   "execution_count": 4,
   "id": "aging-caution",
   "metadata": {
    "execution": {
     "iopub.execute_input": "2021-01-30T01:57:22.669445Z",
     "iopub.status.busy": "2021-01-30T01:57:22.668854Z",
     "iopub.status.idle": "2021-01-30T01:57:22.672192Z",
     "shell.execute_reply": "2021-01-30T01:57:22.671686Z"
    },
    "papermill": {
     "duration": 0.018912,
     "end_time": "2021-01-30T01:57:22.672316",
     "exception": false,
     "start_time": "2021-01-30T01:57:22.653404",
     "status": "completed"
    },
    "tags": []
   },
   "outputs": [
    {
     "data": {
      "text/markdown": [
       "- Analyst says Bitcoin price sell-off may occur as Chinese New Year approaches.  Bitcoin is struggling to retake the $35,000 level as one analyst predicts miners will continue selling BTC ahead of the Chinese New Year holiday. ... [| Skaityti daugiau](https://cointelegraph.com/news/analyst-says-bitcoin-price-sell-off-may-occur-as-chinese-new-year-approaches) "
      ],
      "text/plain": [
       "<IPython.core.display.Markdown object>"
      ]
     },
     "execution_count": 4,
     "metadata": {},
     "output_type": "execute_result"
    }
   ],
   "source": [
    "#hide_input\n",
    "#md('##### {}'.format(titleBTC)) \n",
    "md(\"- {}{} {}{} [| Skaityti daugiau]({}) \".format(btc['title'],'. ', btc['body'], ' ...', btc['url']))"
   ]
  },
  {
   "cell_type": "code",
   "execution_count": 5,
   "id": "organic-actress",
   "metadata": {
    "execution": {
     "iopub.execute_input": "2021-01-30T01:57:22.697632Z",
     "iopub.status.busy": "2021-01-30T01:57:22.697049Z",
     "iopub.status.idle": "2021-01-30T01:57:22.700360Z",
     "shell.execute_reply": "2021-01-30T01:57:22.699865Z"
    },
    "papermill": {
     "duration": 0.01757,
     "end_time": "2021-01-30T01:57:22.700482",
     "exception": false,
     "start_time": "2021-01-30T01:57:22.682912",
     "status": "completed"
    },
    "tags": []
   },
   "outputs": [
    {
     "data": {
      "text/markdown": [
       "- Market Wrap: Bitcoin Bumps to $38.6K While DeFi Exchanges Hit $50B.  Crypto spot volumes rose to the second-highest level in over a month. ... [| Skaityti daugiau](https://www.coindesk.com/market-wrap-bitcoin-up-defi-exchanges) "
      ],
      "text/plain": [
       "<IPython.core.display.Markdown object>"
      ]
     },
     "execution_count": 5,
     "metadata": {},
     "output_type": "execute_result"
    }
   ],
   "source": [
    "#hide_input\n",
    "#md('##### {}'.format(titleBTC)) \n",
    "md(\"- {}{} {}{} [| Skaityti daugiau]({}) \".format(xrp['title'],'. ', xrp['body'], ' ...', xrp['url']))"
   ]
  },
  {
   "cell_type": "code",
   "execution_count": 6,
   "id": "prompt-farmer",
   "metadata": {
    "execution": {
     "iopub.execute_input": "2021-01-30T01:57:22.727629Z",
     "iopub.status.busy": "2021-01-30T01:57:22.727022Z",
     "iopub.status.idle": "2021-01-30T01:57:22.730071Z",
     "shell.execute_reply": "2021-01-30T01:57:22.729575Z"
    },
    "papermill": {
     "duration": 0.018689,
     "end_time": "2021-01-30T01:57:22.730193",
     "exception": false,
     "start_time": "2021-01-30T01:57:22.711504",
     "status": "completed"
    },
    "tags": []
   },
   "outputs": [
    {
     "data": {
      "text/markdown": [
       "- Tron’s Justin Sun Joins r/WallStreetBets, Pledges to Buy $10M in GME.  Summary: Justin Sun is officially part of the WallStreetBets community He has pledged $10 million towards buying Gamestop (GME) Mr. Sun had initially pledged $1 Million worth of Gamestop (GME) The WallStreetBets community is now very much interested in Tron (TRX) The Founder of Tron (TRX), Justin Sun, has just pledged to buy $10 million worth of Gamestop (GME) stock tonight to assist the WallStreetBets community in &#8216;squeezing out those greedy hedge funds&#8217;. Mr. Sun made the announcement via Twitter [&#8230;] ... [| Skaityti daugiau](https://en.ethereumworldnews.com/trons-justin-sun-joins-r-wallstreetbets-pledges-to-buy-10m-in-gme/) "
      ],
      "text/plain": [
       "<IPython.core.display.Markdown object>"
      ]
     },
     "execution_count": 6,
     "metadata": {},
     "output_type": "execute_result"
    }
   ],
   "source": [
    "#hide_input\n",
    "#md('##### {}'.format(titleBTC)) \n",
    "md(\"- {}{} {}{} [| Skaityti daugiau]({}) \".format(trx['title'],'. ', trx['body'], ' ...', trx['url']))"
   ]
  },
  {
   "cell_type": "code",
   "execution_count": 7,
   "id": "illegal-greece",
   "metadata": {
    "execution": {
     "iopub.execute_input": "2021-01-30T01:57:22.758483Z",
     "iopub.status.busy": "2021-01-30T01:57:22.757898Z",
     "iopub.status.idle": "2021-01-30T01:57:22.760268Z",
     "shell.execute_reply": "2021-01-30T01:57:22.760808Z"
    },
    "papermill": {
     "duration": 0.019411,
     "end_time": "2021-01-30T01:57:22.760953",
     "exception": false,
     "start_time": "2021-01-30T01:57:22.741542",
     "status": "completed"
    },
    "tags": []
   },
   "outputs": [
    {
     "data": {
      "text/markdown": [
       "- Soulja Boy Mints First NFT “Crank That,” Listed at 5 Ethereum.   ... [| Skaityti daugiau](https://cryptobriefing.com/soulja-boy-mints-first-nft-crank-that-listed-5-ethereum/) "
      ],
      "text/plain": [
       "<IPython.core.display.Markdown object>"
      ]
     },
     "execution_count": 7,
     "metadata": {},
     "output_type": "execute_result"
    }
   ],
   "source": [
    "#hide_input\n",
    "#md('##### {}'.format(titleBTC)) \n",
    "md(\"- {}{} {}{} [| Skaityti daugiau]({}) \".format(eth['title'],'. ', eth['body'], ' ...', eth['url']))"
   ]
  },
  {
   "cell_type": "code",
   "execution_count": 8,
   "id": "sublime-lounge",
   "metadata": {
    "execution": {
     "iopub.execute_input": "2021-01-30T01:57:22.789896Z",
     "iopub.status.busy": "2021-01-30T01:57:22.789292Z",
     "iopub.status.idle": "2021-01-30T01:57:22.792155Z",
     "shell.execute_reply": "2021-01-30T01:57:22.792614Z"
    },
    "papermill": {
     "duration": 0.019971,
     "end_time": "2021-01-30T01:57:22.792754",
     "exception": false,
     "start_time": "2021-01-30T01:57:22.772783",
     "status": "completed"
    },
    "tags": []
   },
   "outputs": [
    {
     "data": {
      "text/markdown": [
       "- The total number of ADA wallets increased by almost 40% in 2021.  The Cardano blockchain has seen significant growth since the launch of its staking era last July, a feat that has been most evident in the number of new users joining the network. The post The total number of ADA wallets increased by almost 40% in 2021 appeared first on CryptoSlate. ... [| Skaityti daugiau](https://cryptoslate.com/the-total-number-of-ada-wallets-increased-by-almost-40-in-2021/) "
      ],
      "text/plain": [
       "<IPython.core.display.Markdown object>"
      ]
     },
     "execution_count": 8,
     "metadata": {},
     "output_type": "execute_result"
    }
   ],
   "source": [
    "#hide_input\n",
    "#md('##### {}'.format(titleBTC)) \n",
    "md(\"- {}{} {}{} [| Skaityti daugiau]({}) \".format(ada['title'],'. ', ada['body'], ' ...', ada['url']))"
   ]
  },
  {
   "cell_type": "code",
   "execution_count": 9,
   "id": "specified-ordering",
   "metadata": {
    "execution": {
     "iopub.execute_input": "2021-01-30T01:57:22.821726Z",
     "iopub.status.busy": "2021-01-30T01:57:22.821141Z",
     "iopub.status.idle": "2021-01-30T01:57:22.824127Z",
     "shell.execute_reply": "2021-01-30T01:57:22.823554Z"
    },
    "papermill": {
     "duration": 0.019743,
     "end_time": "2021-01-30T01:57:22.824251",
     "exception": false,
     "start_time": "2021-01-30T01:57:22.804508",
     "status": "completed"
    },
    "tags": []
   },
   "outputs": [
    {
     "data": {
      "text/markdown": [
       "- Crypto Exchange Operator Affiliate to Launch Blockchain Genome Platform.  An affiliate of the Japanese crypto player and securities giant Monex Group is set to make use of a new blockchain technology-based platform as part of an ambitious genome research project.Per a press release, Genex, a Tokyo-based startup founded last year that is 40% owned by Monex, is looking to build a comprehensive health platform using blockchain technology. The ... [| Skaityti daugiau](https://cryptonews.com/news/crypto-exchange-operator-affiliate-to-launch-blockchain-geno-9062.htm) "
      ],
      "text/plain": [
       "<IPython.core.display.Markdown object>"
      ]
     },
     "execution_count": 9,
     "metadata": {},
     "output_type": "execute_result"
    }
   ],
   "source": [
    "#hide_input\n",
    "#md('##### {}'.format(titleBTC)) \n",
    "md(\"- {}{} {}{} [| Skaityti daugiau]({}) \".format(exchange['title'],'. ', exchange['body'], ' ...', exchange['url']))"
   ]
  },
  {
   "cell_type": "code",
   "execution_count": null,
   "id": "tender-livestock",
   "metadata": {
    "papermill": {
     "duration": 0.012395,
     "end_time": "2021-01-30T01:57:22.848945",
     "exception": false,
     "start_time": "2021-01-30T01:57:22.836550",
     "status": "completed"
    },
    "tags": []
   },
   "outputs": [],
   "source": []
  },
  {
   "cell_type": "code",
   "execution_count": null,
   "id": "appreciated-diamond",
   "metadata": {
    "papermill": {
     "duration": 0.013237,
     "end_time": "2021-01-30T01:57:22.874459",
     "exception": false,
     "start_time": "2021-01-30T01:57:22.861222",
     "status": "completed"
    },
    "tags": []
   },
   "outputs": [],
   "source": []
  },
  {
   "cell_type": "code",
   "execution_count": null,
   "id": "romance-sweden",
   "metadata": {
    "papermill": {
     "duration": 0.012169,
     "end_time": "2021-01-30T01:57:22.898866",
     "exception": false,
     "start_time": "2021-01-30T01:57:22.886697",
     "status": "completed"
    },
    "tags": []
   },
   "outputs": [],
   "source": []
  },
  {
   "cell_type": "code",
   "execution_count": null,
   "id": "dietary-statistics",
   "metadata": {
    "papermill": {
     "duration": 0.012196,
     "end_time": "2021-01-30T01:57:22.922397",
     "exception": false,
     "start_time": "2021-01-30T01:57:22.910201",
     "status": "completed"
    },
    "tags": []
   },
   "outputs": [],
   "source": []
  }
 ],
 "metadata": {
  "kernelspec": {
   "display_name": "Python 3",
   "language": "python",
   "name": "python3"
  },
  "language_info": {
   "codemirror_mode": {
    "name": "ipython",
    "version": 3
   },
   "file_extension": ".py",
   "mimetype": "text/x-python",
   "name": "python",
   "nbconvert_exporter": "python",
   "pygments_lexer": "ipython3",
   "version": "3.6.12"
  },
  "papermill": {
   "default_parameters": {},
   "duration": 11.076124,
   "end_time": "2021-01-30T01:57:23.343765",
   "environment_variables": {},
   "exception": null,
   "input_path": "Market-News.ipynb",
   "output_path": "Market-News.ipynb",
   "parameters": {},
   "start_time": "2021-01-30T01:57:12.267641",
   "version": "2.2.2"
  }
 },
 "nbformat": 4,
 "nbformat_minor": 5
}