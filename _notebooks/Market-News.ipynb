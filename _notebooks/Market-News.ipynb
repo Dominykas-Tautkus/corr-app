{
 "cells": [
  {
   "cell_type": "markdown",
   "id": "short-greensboro",
   "metadata": {
    "papermill": {
     "duration": 0.013224,
     "end_time": "2021-05-04T02:07:55.171416",
     "exception": false,
     "start_time": "2021-05-04T02:07:55.158192",
     "status": "completed"
    },
    "tags": []
   },
   "source": [
    "# Kriptovaliutų naujienos"
   ]
  },
  {
   "cell_type": "code",
   "execution_count": 1,
   "id": "functioning-knowing",
   "metadata": {
    "execution": {
     "iopub.execute_input": "2021-05-04T02:07:55.199704Z",
     "iopub.status.busy": "2021-05-04T02:07:55.199185Z",
     "iopub.status.idle": "2021-05-04T02:07:56.292675Z",
     "shell.execute_reply": "2021-05-04T02:07:56.291807Z"
    },
    "papermill": {
     "duration": 1.111812,
     "end_time": "2021-05-04T02:07:56.292819",
     "exception": false,
     "start_time": "2021-05-04T02:07:55.181007",
     "status": "completed"
    },
    "tags": []
   },
   "outputs": [],
   "source": [
    "#hide_input\n",
    "import warnings\n",
    "warnings.filterwarnings('ignore')\n",
    "from scripts.read_data import read_api\n",
    "from scripts.read_data import read_news\n",
    "from scripts.read_data import read_covid\n",
    "import matplotlib.pyplot as plt \n",
    "from IPython.display import Markdown as md"
   ]
  },
  {
   "cell_type": "code",
   "execution_count": 2,
   "id": "shared-acceptance",
   "metadata": {
    "execution": {
     "iopub.execute_input": "2021-05-04T02:07:56.316262Z",
     "iopub.status.busy": "2021-05-04T02:07:56.315757Z",
     "iopub.status.idle": "2021-05-04T02:08:05.833390Z",
     "shell.execute_reply": "2021-05-04T02:08:05.832869Z"
    },
    "papermill": {
     "duration": 9.531389,
     "end_time": "2021-05-04T02:08:05.833529",
     "exception": false,
     "start_time": "2021-05-04T02:07:56.302140",
     "status": "completed"
    },
    "tags": []
   },
   "outputs": [],
   "source": [
    "#hide_input\n",
    "blockchain = read_news('blockchain') \n",
    "btc = read_news('btc') \n",
    "xrp = read_news('xrp') \n",
    "trx = read_news('trx') \n",
    "eth = read_news('eth')  \n",
    "ada = read_news('ada')\n",
    "exchange = read_news('exchange') "
   ]
  },
  {
   "cell_type": "code",
   "execution_count": 3,
   "id": "synthetic-notion",
   "metadata": {
    "execution": {
     "iopub.execute_input": "2021-05-04T02:08:05.859364Z",
     "iopub.status.busy": "2021-05-04T02:08:05.858862Z",
     "iopub.status.idle": "2021-05-04T02:08:05.861193Z",
     "shell.execute_reply": "2021-05-04T02:08:05.861588Z"
    },
    "papermill": {
     "duration": 0.016967,
     "end_time": "2021-05-04T02:08:05.861712",
     "exception": false,
     "start_time": "2021-05-04T02:08:05.844745",
     "status": "completed"
    },
    "tags": []
   },
   "outputs": [
    {
     "data": {
      "text/markdown": [
       "- VeChain’s New Patent Could Help Offset Carbon Emission.  VeChain Global Technology has petitioned for a patent with the U.S. federal agency Patent and Trademark Office (USPTO). Filed on April 22nd, 2021, the application seeks to register methods, devices, blockchain nodes, and a system for carbon recording and trading, per the document published by the agency. The patent has been attributed to Jianliang Gu, [&#8230;] ... [| Skaityti daugiau](https://www.newsbtc.com/news/vechains-patent-help-offset-carbon-emission/) "
      ],
      "text/plain": [
       "<IPython.core.display.Markdown object>"
      ]
     },
     "execution_count": 3,
     "metadata": {},
     "output_type": "execute_result"
    }
   ],
   "source": [
    "#hide_input\n",
    "#md('##### {}'.format(titleBTC)) \n",
    "md(\"- {}{} {}{} [| Skaityti daugiau]({}) \".format(blockchain['title'],'. ', blockchain['body'], ' ...', blockchain['url']))"
   ]
  },
  {
   "cell_type": "code",
   "execution_count": 4,
   "id": "aging-caution",
   "metadata": {
    "execution": {
     "iopub.execute_input": "2021-05-04T02:08:05.884745Z",
     "iopub.status.busy": "2021-05-04T02:08:05.884255Z",
     "iopub.status.idle": "2021-05-04T02:08:05.886955Z",
     "shell.execute_reply": "2021-05-04T02:08:05.887427Z"
    },
    "papermill": {
     "duration": 0.016599,
     "end_time": "2021-05-04T02:08:05.887541",
     "exception": false,
     "start_time": "2021-05-04T02:08:05.870942",
     "status": "completed"
    },
    "tags": []
   },
   "outputs": [
    {
     "data": {
      "text/markdown": [
       "- Why this on-chain analyst targets a $300,000 Bitcoin in 2021.  A popular on-chain analyst said in a recent podcast appearance that Bitcoin would reach the $300,000 mark later this year as institutional buying continues to grow in recent times. The post Why this on-chain analyst targets a $300,000 Bitcoin in 2021 appeared first on CryptoSlate. ... [| Skaityti daugiau](https://cryptoslate.com/why-this-on-chain-analyst-targets-a-300000-bitcoin-in-2021/) "
      ],
      "text/plain": [
       "<IPython.core.display.Markdown object>"
      ]
     },
     "execution_count": 4,
     "metadata": {},
     "output_type": "execute_result"
    }
   ],
   "source": [
    "#hide_input\n",
    "#md('##### {}'.format(titleBTC)) \n",
    "md(\"- {}{} {}{} [| Skaityti daugiau]({}) \".format(btc['title'],'. ', btc['body'], ' ...', btc['url']))"
   ]
  },
  {
   "cell_type": "code",
   "execution_count": 5,
   "id": "organic-actress",
   "metadata": {
    "execution": {
     "iopub.execute_input": "2021-05-04T02:08:05.910969Z",
     "iopub.status.busy": "2021-05-04T02:08:05.910465Z",
     "iopub.status.idle": "2021-05-04T02:08:05.913607Z",
     "shell.execute_reply": "2021-05-04T02:08:05.914084Z"
    },
    "papermill": {
     "duration": 0.017103,
     "end_time": "2021-05-04T02:08:05.914200",
     "exception": false,
     "start_time": "2021-05-04T02:08:05.897097",
     "status": "completed"
    },
    "tags": []
   },
   "outputs": [
    {
     "data": {
      "text/markdown": [
       "- Ripple’s return on investment: The XRP analysis.  TL;DR Breakdown • XRP maintains its uptrend amid a recovering market.• XRP&#8217;s fame focuses on its relatively short-term ROI. Ripple has been involved in a lot of speculation so far this year, with rumors of going public. This news coincides with the SEC lawsuit that has ravaged the company and its coin. Ripple has then [&#8230;] ... [| Skaityti daugiau](https://www.cryptopolitan.com/ripples-return-on-investment-the-xrp-analysis/) "
      ],
      "text/plain": [
       "<IPython.core.display.Markdown object>"
      ]
     },
     "execution_count": 5,
     "metadata": {},
     "output_type": "execute_result"
    }
   ],
   "source": [
    "#hide_input\n",
    "#md('##### {}'.format(titleBTC)) \n",
    "md(\"- {}{} {}{} [| Skaityti daugiau]({}) \".format(xrp['title'],'. ', xrp['body'], ' ...', xrp['url']))"
   ]
  },
  {
   "cell_type": "code",
   "execution_count": 6,
   "id": "prompt-farmer",
   "metadata": {
    "execution": {
     "iopub.execute_input": "2021-05-04T02:08:05.938345Z",
     "iopub.status.busy": "2021-05-04T02:08:05.937240Z",
     "iopub.status.idle": "2021-05-04T02:08:05.940891Z",
     "shell.execute_reply": "2021-05-04T02:08:05.941261Z"
    },
    "papermill": {
     "duration": 0.01727,
     "end_time": "2021-05-04T02:08:05.941397",
     "exception": false,
     "start_time": "2021-05-04T02:08:05.924127",
     "status": "completed"
    },
    "tags": []
   },
   "outputs": [
    {
     "data": {
      "text/markdown": [
       "- Tron, BitTorrent, Ethereum Classic Price Analysis: 03 May.  Tron presented a target at $0.18 in case of a breakout above $1.35. BitTorrent resumed its consolidation between $0.0077 and $0.0066, while Ethereum Classic highlighted a pullback at $48 or even $42 before its next leg upwards. Tron [TRX] Although the first couple of weeks in April were extremely bullish for Tron, a broader market [&#8230;] ... [| Skaityti daugiau](https://ambcrypto.com/tron-bittorrent-ethereum-classic-price-analysis-03-may/) "
      ],
      "text/plain": [
       "<IPython.core.display.Markdown object>"
      ]
     },
     "execution_count": 6,
     "metadata": {},
     "output_type": "execute_result"
    }
   ],
   "source": [
    "#hide_input\n",
    "#md('##### {}'.format(titleBTC)) \n",
    "md(\"- {}{} {}{} [| Skaityti daugiau]({}) \".format(trx['title'],'. ', trx['body'], ' ...', trx['url']))"
   ]
  },
  {
   "cell_type": "code",
   "execution_count": 7,
   "id": "illegal-greece",
   "metadata": {
    "execution": {
     "iopub.execute_input": "2021-05-04T02:08:05.966998Z",
     "iopub.status.busy": "2021-05-04T02:08:05.966510Z",
     "iopub.status.idle": "2021-05-04T02:08:05.970714Z",
     "shell.execute_reply": "2021-05-04T02:08:05.971086Z"
    },
    "papermill": {
     "duration": 0.019503,
     "end_time": "2021-05-04T02:08:05.971197",
     "exception": false,
     "start_time": "2021-05-04T02:08:05.951694",
     "status": "completed"
    },
    "tags": []
   },
   "outputs": [
    {
     "data": {
      "text/markdown": [
       "- CryptoPunks Creators Just Launched Meebits, NFT Resales Already Top $3 Million.  With Meebits, Larva Labs looks to replicate past success in the NFT market. ... [| Skaityti daugiau](https://decrypt.co/69829/larva-labs-meebits) "
      ],
      "text/plain": [
       "<IPython.core.display.Markdown object>"
      ]
     },
     "execution_count": 7,
     "metadata": {},
     "output_type": "execute_result"
    }
   ],
   "source": [
    "#hide_input\n",
    "#md('##### {}'.format(titleBTC)) \n",
    "md(\"- {}{} {}{} [| Skaityti daugiau]({}) \".format(eth['title'],'. ', eth['body'], ' ...', eth['url']))"
   ]
  },
  {
   "cell_type": "code",
   "execution_count": 8,
   "id": "sublime-lounge",
   "metadata": {
    "execution": {
     "iopub.execute_input": "2021-05-04T02:08:05.996336Z",
     "iopub.status.busy": "2021-05-04T02:08:05.995755Z",
     "iopub.status.idle": "2021-05-04T02:08:05.998284Z",
     "shell.execute_reply": "2021-05-04T02:08:05.997819Z"
    },
    "papermill": {
     "duration": 0.016669,
     "end_time": "2021-05-04T02:08:05.998392",
     "exception": false,
     "start_time": "2021-05-04T02:08:05.981723",
     "status": "completed"
    },
    "tags": []
   },
   "outputs": [
    {
     "data": {
      "text/markdown": [
       "- Litecoin, Polkadot, Cardano Price Analysis: 03 May.  Litecoin inched closer toward the upper ceiling at $280, but this area was likely to be defended by the bears. Polkadot recaptured the 50% Fibonacci level at $37 and some buying was expected moving forward. Lastly, Cardano needed to make some more ground before a breakout above $1.47. Litecoin [LTC] Litecoin attempted to recapture the [&#8230;] ... [| Skaityti daugiau](https://ambcrypto.com/litecoin-polkadot-cardano-price-analysis-03-may/) "
      ],
      "text/plain": [
       "<IPython.core.display.Markdown object>"
      ]
     },
     "execution_count": 8,
     "metadata": {},
     "output_type": "execute_result"
    }
   ],
   "source": [
    "#hide_input\n",
    "#md('##### {}'.format(titleBTC)) \n",
    "md(\"- {}{} {}{} [| Skaityti daugiau]({}) \".format(ada['title'],'. ', ada['body'], ' ...', ada['url']))"
   ]
  },
  {
   "cell_type": "code",
   "execution_count": 9,
   "id": "specified-ordering",
   "metadata": {
    "execution": {
     "iopub.execute_input": "2021-05-04T02:08:06.023872Z",
     "iopub.status.busy": "2021-05-04T02:08:06.023318Z",
     "iopub.status.idle": "2021-05-04T02:08:06.027468Z",
     "shell.execute_reply": "2021-05-04T02:08:06.027896Z"
    },
    "papermill": {
     "duration": 0.018425,
     "end_time": "2021-05-04T02:08:06.028019",
     "exception": false,
     "start_time": "2021-05-04T02:08:06.009594",
     "status": "completed"
    },
    "tags": []
   },
   "outputs": [
    {
     "data": {
      "text/markdown": [
       "- Yearn Finance Launches New Vault, While YFI Retakes Bullish Momemtum.  Popular DeFi protocol Yearn Finance has launched a new product, a yield generator called yvBOOST. Part of its suite of vaults, this product will complement the &#8220;Backscratcher&#8221; vault and will allow users to earn and boost rewards in the Curve-based token 3CRV. &#8220;Backscratcher&#8221; offers rewards in Curve&#8217;s, an Ethereum exchange liquidity pool, native token CRV. [&#8230;] ... [| Skaityti daugiau](https://www.newsbtc.com/news/yearnfinance/yearn-finance-launches-new-vault-while-yfi-retakes-bullish-momemtum/) "
      ],
      "text/plain": [
       "<IPython.core.display.Markdown object>"
      ]
     },
     "execution_count": 9,
     "metadata": {},
     "output_type": "execute_result"
    }
   ],
   "source": [
    "#hide_input\n",
    "#md('##### {}'.format(titleBTC)) \n",
    "md(\"- {}{} {}{} [| Skaityti daugiau]({}) \".format(exchange['title'],'. ', exchange['body'], ' ...', exchange['url']))"
   ]
  },
  {
   "cell_type": "code",
   "execution_count": null,
   "id": "tender-livestock",
   "metadata": {
    "papermill": {
     "duration": 0.011061,
     "end_time": "2021-05-04T02:08:06.050551",
     "exception": false,
     "start_time": "2021-05-04T02:08:06.039490",
     "status": "completed"
    },
    "tags": []
   },
   "outputs": [],
   "source": []
  },
  {
   "cell_type": "code",
   "execution_count": null,
   "id": "appreciated-diamond",
   "metadata": {
    "papermill": {
     "duration": 0.011069,
     "end_time": "2021-05-04T02:08:06.072831",
     "exception": false,
     "start_time": "2021-05-04T02:08:06.061762",
     "status": "completed"
    },
    "tags": []
   },
   "outputs": [],
   "source": []
  },
  {
   "cell_type": "code",
   "execution_count": null,
   "id": "romance-sweden",
   "metadata": {
    "papermill": {
     "duration": 0.011013,
     "end_time": "2021-05-04T02:08:06.094967",
     "exception": false,
     "start_time": "2021-05-04T02:08:06.083954",
     "status": "completed"
    },
    "tags": []
   },
   "outputs": [],
   "source": []
  },
  {
   "cell_type": "code",
   "execution_count": null,
   "id": "dietary-statistics",
   "metadata": {
    "papermill": {
     "duration": 0.011039,
     "end_time": "2021-05-04T02:08:06.117133",
     "exception": false,
     "start_time": "2021-05-04T02:08:06.106094",
     "status": "completed"
    },
    "tags": []
   },
   "outputs": [],
   "source": []
  }
 ],
 "metadata": {
  "kernelspec": {
   "display_name": "Python 3",
   "language": "python",
   "name": "python3"
  },
  "language_info": {
   "codemirror_mode": {
    "name": "ipython",
    "version": 3
   },
   "file_extension": ".py",
   "mimetype": "text/x-python",
   "name": "python",
   "nbconvert_exporter": "python",
   "pygments_lexer": "ipython3",
   "version": "3.6.13"
  },
  "papermill": {
   "default_parameters": {},
   "duration": 13.263264,
   "end_time": "2021-05-04T02:08:07.402024",
   "environment_variables": {},
   "exception": null,
   "input_path": "Market-News.ipynb",
   "output_path": "Market-News.ipynb",
   "parameters": {},
   "start_time": "2021-05-04T02:07:54.138760",
   "version": "2.2.2"
  }
 },
 "nbformat": 4,
 "nbformat_minor": 5
}