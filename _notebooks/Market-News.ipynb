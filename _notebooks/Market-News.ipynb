{
 "cells": [
  {
   "cell_type": "markdown",
   "metadata": {
    "papermill": {
     "duration": 0.012076,
     "end_time": "2020-12-31T15:21:47.636710",
     "exception": false,
     "start_time": "2020-12-31T15:21:47.624634",
     "status": "completed"
    },
    "tags": []
   },
   "source": [
    "# Kriptovaliutų naujienos"
   ]
  },
  {
   "cell_type": "code",
   "execution_count": 1,
   "metadata": {
    "execution": {
     "iopub.execute_input": "2020-12-31T15:21:47.666437Z",
     "iopub.status.busy": "2020-12-31T15:21:47.665548Z",
     "iopub.status.idle": "2020-12-31T15:21:49.062432Z",
     "shell.execute_reply": "2020-12-31T15:21:49.061880Z"
    },
    "papermill": {
     "duration": 1.416742,
     "end_time": "2020-12-31T15:21:49.062588",
     "exception": false,
     "start_time": "2020-12-31T15:21:47.645846",
     "status": "completed"
    },
    "tags": []
   },
   "outputs": [],
   "source": [
    "#hide_input\n",
    "import warnings\n",
    "warnings.filterwarnings('ignore')\n",
    "from scripts.read_data import read_api\n",
    "from scripts.read_data import read_news\n",
    "from scripts.read_data import read_covid\n",
    "import matplotlib.pyplot as plt \n",
    "from IPython.display import Markdown as md"
   ]
  },
  {
   "cell_type": "code",
   "execution_count": 2,
   "metadata": {
    "execution": {
     "iopub.execute_input": "2020-12-31T15:21:49.087814Z",
     "iopub.status.busy": "2020-12-31T15:21:49.087182Z",
     "iopub.status.idle": "2020-12-31T15:21:58.967360Z",
     "shell.execute_reply": "2020-12-31T15:21:58.966778Z"
    },
    "papermill": {
     "duration": 9.89532,
     "end_time": "2020-12-31T15:21:58.967505",
     "exception": false,
     "start_time": "2020-12-31T15:21:49.072185",
     "status": "completed"
    },
    "tags": []
   },
   "outputs": [],
   "source": [
    "#hide_input\n",
    "blockchain = read_news('blockchain') \n",
    "btc = read_news('btc') \n",
    "xrp = read_news('xrp') \n",
    "trx = read_news('trx') \n",
    "eth = read_news('eth')  \n",
    "ada = read_news('ada')\n",
    "exchange = read_news('exchange') "
   ]
  },
  {
   "cell_type": "code",
   "execution_count": 3,
   "metadata": {
    "execution": {
     "iopub.execute_input": "2020-12-31T15:21:58.991353Z",
     "iopub.status.busy": "2020-12-31T15:21:58.990738Z",
     "iopub.status.idle": "2020-12-31T15:21:58.994873Z",
     "shell.execute_reply": "2020-12-31T15:21:58.995332Z"
    },
    "papermill": {
     "duration": 0.019065,
     "end_time": "2020-12-31T15:21:58.995490",
     "exception": false,
     "start_time": "2020-12-31T15:21:58.976425",
     "status": "completed"
    },
    "tags": []
   },
   "outputs": [
    {
     "data": {
      "text/markdown": [
       "- COVER Hack: Cover Protocol and Binance Announce Compensation Plan for Hack Victims.  Cover Protocol, a Defi insurance protocol was recently exploited by a white hat hacker minting an infinite amount of the COVER protocol token owing to an infinite minting bug. The hacker later sold a portion of the Cover protocol token for 4350 ETH worth $3 million and burnt the rest of the tokens, he also The post COVER Hack: Cover Protocol and Binance Announce Compensation Plan for Hack Victims appeared first on Coingape. ... [| Skaityti daugiau](https://coingape.com/cover-hack-cover-protocol-binance-compensation-plan-hack-victim/) "
      ],
      "text/plain": [
       "<IPython.core.display.Markdown object>"
      ]
     },
     "execution_count": 3,
     "metadata": {},
     "output_type": "execute_result"
    }
   ],
   "source": [
    "#hide_input\n",
    "#md('##### {}'.format(titleBTC)) \n",
    "md(\"- {}{} {}{} [| Skaityti daugiau]({}) \".format(blockchain['title'],'. ', blockchain['body'], ' ...', blockchain['url']))"
   ]
  },
  {
   "cell_type": "code",
   "execution_count": 4,
   "metadata": {
    "execution": {
     "iopub.execute_input": "2020-12-31T15:21:59.017971Z",
     "iopub.status.busy": "2020-12-31T15:21:59.017161Z",
     "iopub.status.idle": "2020-12-31T15:21:59.021387Z",
     "shell.execute_reply": "2020-12-31T15:21:59.020629Z"
    },
    "papermill": {
     "duration": 0.016657,
     "end_time": "2020-12-31T15:21:59.021512",
     "exception": false,
     "start_time": "2020-12-31T15:21:59.004855",
     "status": "completed"
    },
    "tags": []
   },
   "outputs": [
    {
     "data": {
      "text/markdown": [
       "- Total Tokenization, Taproot, Bitcoin ETF + More News.  Source: iStock/Photographer, Filmmaker, DesignerGet your daily, bite-sized digest of cryptoasset and blockchain-related news – investigating the stories flying under the radar of today’s crypto news.Adoption newsThe vice president of the Russian metals giant Norilsk Nickel has spoken out about his company’s ambitious tokenization plans, saying new platforms now make it possible to ... [| Skaityti daugiau](https://cryptonews.com/news/norilsk-nickel-exec-everything-can-be-tokenized-more-news-8780.htm) "
      ],
      "text/plain": [
       "<IPython.core.display.Markdown object>"
      ]
     },
     "execution_count": 4,
     "metadata": {},
     "output_type": "execute_result"
    }
   ],
   "source": [
    "#hide_input\n",
    "#md('##### {}'.format(titleBTC)) \n",
    "md(\"- {}{} {}{} [| Skaityti daugiau]({}) \".format(btc['title'],'. ', btc['body'], ' ...', btc['url']))"
   ]
  },
  {
   "cell_type": "code",
   "execution_count": 5,
   "metadata": {
    "execution": {
     "iopub.execute_input": "2020-12-31T15:21:59.044795Z",
     "iopub.status.busy": "2020-12-31T15:21:59.044221Z",
     "iopub.status.idle": "2020-12-31T15:21:59.047234Z",
     "shell.execute_reply": "2020-12-31T15:21:59.046728Z"
    },
    "papermill": {
     "duration": 0.017202,
     "end_time": "2020-12-31T15:21:59.047356",
     "exception": false,
     "start_time": "2020-12-31T15:21:59.030154",
     "status": "completed"
    },
    "tags": []
   },
   "outputs": [
    {
     "data": {
      "text/markdown": [
       "- eToro is suspending XRP trading in the US.  Crypto-friendly brokerage firm eToro USA is suspending XRP trading on January 3.The post eToro is suspending XRP trading in the US appeared first on The Block. ... [| Skaityti daugiau](https://www.theblockcrypto.com/linked/89759/etoro-suspending-xrp-trading-usa-ripple?utm_source=cryptocompare&utm_medium=rss) "
      ],
      "text/plain": [
       "<IPython.core.display.Markdown object>"
      ]
     },
     "execution_count": 5,
     "metadata": {},
     "output_type": "execute_result"
    }
   ],
   "source": [
    "#hide_input\n",
    "#md('##### {}'.format(titleBTC)) \n",
    "md(\"- {}{} {}{} [| Skaityti daugiau]({}) \".format(xrp['title'],'. ', xrp['body'], ' ...', xrp['url']))"
   ]
  },
  {
   "cell_type": "code",
   "execution_count": 6,
   "metadata": {
    "execution": {
     "iopub.execute_input": "2020-12-31T15:21:59.077573Z",
     "iopub.status.busy": "2020-12-31T15:21:59.076341Z",
     "iopub.status.idle": "2020-12-31T15:21:59.079377Z",
     "shell.execute_reply": "2020-12-31T15:21:59.079864Z"
    },
    "papermill": {
     "duration": 0.019499,
     "end_time": "2020-12-31T15:21:59.079997",
     "exception": false,
     "start_time": "2020-12-31T15:21:59.060498",
     "status": "completed"
    },
    "tags": []
   },
   "outputs": [
    {
     "data": {
      "text/markdown": [
       "- Tron, Synthetix, DigiByte Price Analysis: 31 December.  After a few weeks of substantial price movement on the charts, many of the market’s altcoins are now seeing their values stabilize. In the past 24-hours, altcoins like Tron and Synthetix saw their prices settle down, while Digibyte fell by over 8 percent. Tron [TRX] Tron, at the time of writing, occupied the 17th spot [&#8230;] ... [| Skaityti daugiau](https://ambcrypto.com/tron-synthetix-digibyte-price-analysis-31-december/) "
      ],
      "text/plain": [
       "<IPython.core.display.Markdown object>"
      ]
     },
     "execution_count": 6,
     "metadata": {},
     "output_type": "execute_result"
    }
   ],
   "source": [
    "#hide_input\n",
    "#md('##### {}'.format(titleBTC)) \n",
    "md(\"- {}{} {}{} [| Skaityti daugiau]({}) \".format(trx['title'],'. ', trx['body'], ' ...', trx['url']))"
   ]
  },
  {
   "cell_type": "code",
   "execution_count": 7,
   "metadata": {
    "execution": {
     "iopub.execute_input": "2020-12-31T15:21:59.103418Z",
     "iopub.status.busy": "2020-12-31T15:21:59.102817Z",
     "iopub.status.idle": "2020-12-31T15:21:59.108958Z",
     "shell.execute_reply": "2020-12-31T15:21:59.108455Z"
    },
    "papermill": {
     "duration": 0.018903,
     "end_time": "2020-12-31T15:21:59.109080",
     "exception": false,
     "start_time": "2020-12-31T15:21:59.090177",
     "status": "completed"
    },
    "tags": []
   },
   "outputs": [
    {
     "data": {
      "text/markdown": [
       "- COVER Hack: Cover Protocol and Binance Announce Compensation Plan for Hack Victims.  Cover Protocol, a Defi insurance protocol was recently exploited by a white hat hacker minting an infinite amount of the COVER protocol token owing to an infinite minting bug. The hacker later sold a portion of the Cover protocol token for 4350 ETH worth $3 million and burnt the rest of the tokens, he also The post COVER Hack: Cover Protocol and Binance Announce Compensation Plan for Hack Victims appeared first on Coingape. ... [| Skaityti daugiau](https://coingape.com/cover-hack-cover-protocol-binance-compensation-plan-hack-victim/) "
      ],
      "text/plain": [
       "<IPython.core.display.Markdown object>"
      ]
     },
     "execution_count": 7,
     "metadata": {},
     "output_type": "execute_result"
    }
   ],
   "source": [
    "#hide_input\n",
    "#md('##### {}'.format(titleBTC)) \n",
    "md(\"- {}{} {}{} [| Skaityti daugiau]({}) \".format(eth['title'],'. ', eth['body'], ' ...', eth['url']))"
   ]
  },
  {
   "cell_type": "code",
   "execution_count": 8,
   "metadata": {
    "execution": {
     "iopub.execute_input": "2020-12-31T15:21:59.134421Z",
     "iopub.status.busy": "2020-12-31T15:21:59.133854Z",
     "iopub.status.idle": "2020-12-31T15:21:59.137211Z",
     "shell.execute_reply": "2020-12-31T15:21:59.137760Z"
    },
    "papermill": {
     "duration": 0.018809,
     "end_time": "2020-12-31T15:21:59.137893",
     "exception": false,
     "start_time": "2020-12-31T15:21:59.119084",
     "status": "completed"
    },
    "tags": []
   },
   "outputs": [
    {
     "data": {
      "text/markdown": [
       "- ‘I do not consider Ethereum Classic my child,’ says Cardano’s Hoskinson.  &#8220;I do not consider ETC my child and I have no expectations from the project,&#8221; IOHK&#8217;s Charles Hoskinson said during a recent AMA, remarks that were greeted with surprise by some since he was one of the co-founders of Ethereum back in 2013. While conducting a special New Year&#8217;s Eve AMA, the Cardano Founder went [&#8230;] ... [| Skaityti daugiau](https://ambcrypto.com/i-do-not-consider-ethereum-classic-my-child-says-cardanos-hoskinson/) "
      ],
      "text/plain": [
       "<IPython.core.display.Markdown object>"
      ]
     },
     "execution_count": 8,
     "metadata": {},
     "output_type": "execute_result"
    }
   ],
   "source": [
    "#hide_input\n",
    "#md('##### {}'.format(titleBTC)) \n",
    "md(\"- {}{} {}{} [| Skaityti daugiau]({}) \".format(ada['title'],'. ', ada['body'], ' ...', ada['url']))"
   ]
  },
  {
   "cell_type": "code",
   "execution_count": 9,
   "metadata": {
    "execution": {
     "iopub.execute_input": "2020-12-31T15:21:59.162668Z",
     "iopub.status.busy": "2020-12-31T15:21:59.162096Z",
     "iopub.status.idle": "2020-12-31T15:21:59.165414Z",
     "shell.execute_reply": "2020-12-31T15:21:59.164953Z"
    },
    "papermill": {
     "duration": 0.017322,
     "end_time": "2020-12-31T15:21:59.165535",
     "exception": false,
     "start_time": "2020-12-31T15:21:59.148213",
     "status": "completed"
    },
    "tags": []
   },
   "outputs": [
    {
     "data": {
      "text/markdown": [
       "- COVER Hack: Cover Protocol and Binance Announce Compensation Plan for Hack Victims.  Cover Protocol, a Defi insurance protocol was recently exploited by a white hat hacker minting an infinite amount of the COVER protocol token owing to an infinite minting bug. The hacker later sold a portion of the Cover protocol token for 4350 ETH worth $3 million and burnt the rest of the tokens, he also The post COVER Hack: Cover Protocol and Binance Announce Compensation Plan for Hack Victims appeared first on Coingape. ... [| Skaityti daugiau](https://coingape.com/cover-hack-cover-protocol-binance-compensation-plan-hack-victim/) "
      ],
      "text/plain": [
       "<IPython.core.display.Markdown object>"
      ]
     },
     "execution_count": 9,
     "metadata": {},
     "output_type": "execute_result"
    }
   ],
   "source": [
    "#hide_input\n",
    "#md('##### {}'.format(titleBTC)) \n",
    "md(\"- {}{} {}{} [| Skaityti daugiau]({}) \".format(exchange['title'],'. ', exchange['body'], ' ...', exchange['url']))"
   ]
  },
  {
   "cell_type": "code",
   "execution_count": null,
   "metadata": {
    "papermill": {
     "duration": 0.010466,
     "end_time": "2020-12-31T15:21:59.186787",
     "exception": false,
     "start_time": "2020-12-31T15:21:59.176321",
     "status": "completed"
    },
    "tags": []
   },
   "outputs": [],
   "source": []
  },
  {
   "cell_type": "code",
   "execution_count": null,
   "metadata": {
    "papermill": {
     "duration": 0.011624,
     "end_time": "2020-12-31T15:21:59.209198",
     "exception": false,
     "start_time": "2020-12-31T15:21:59.197574",
     "status": "completed"
    },
    "tags": []
   },
   "outputs": [],
   "source": []
  }
 ],
 "metadata": {
  "kernelspec": {
   "display_name": "Python 3",
   "language": "python",
   "name": "python3"
  },
  "language_info": {
   "codemirror_mode": {
    "name": "ipython",
    "version": 3
   },
   "file_extension": ".py",
   "mimetype": "text/x-python",
   "name": "python",
   "nbconvert_exporter": "python",
   "pygments_lexer": "ipython3",
   "version": "3.6.12"
  },
  "papermill": {
   "default_parameters": {},
   "duration": 13.111072,
   "end_time": "2020-12-31T15:21:59.627176",
   "environment_variables": {},
   "exception": null,
   "input_path": "Market-News.ipynb",
   "output_path": "Market-News.ipynb",
   "parameters": {},
   "start_time": "2020-12-31T15:21:46.516104",
   "version": "2.2.2"
  }
 },
 "nbformat": 4,
 "nbformat_minor": 4
}