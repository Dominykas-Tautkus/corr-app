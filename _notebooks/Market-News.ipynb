{
 "cells": [
  {
   "cell_type": "markdown",
   "id": "short-greensboro",
   "metadata": {
    "papermill": {
     "duration": 0.016797,
     "end_time": "2021-03-29T02:08:25.151777",
     "exception": false,
     "start_time": "2021-03-29T02:08:25.134980",
     "status": "completed"
    },
    "tags": []
   },
   "source": [
    "# Kriptovaliutų naujienos"
   ]
  },
  {
   "cell_type": "code",
   "execution_count": 1,
   "id": "functioning-knowing",
   "metadata": {
    "execution": {
     "iopub.execute_input": "2021-03-29T02:08:25.184470Z",
     "iopub.status.busy": "2021-03-29T02:08:25.183366Z",
     "iopub.status.idle": "2021-03-29T02:08:26.426827Z",
     "shell.execute_reply": "2021-03-29T02:08:26.427363Z"
    },
    "papermill": {
     "duration": 1.266781,
     "end_time": "2021-03-29T02:08:26.427538",
     "exception": false,
     "start_time": "2021-03-29T02:08:25.160757",
     "status": "completed"
    },
    "tags": []
   },
   "outputs": [],
   "source": [
    "#hide_input\n",
    "import warnings\n",
    "warnings.filterwarnings('ignore')\n",
    "from scripts.read_data import read_api\n",
    "from scripts.read_data import read_news\n",
    "from scripts.read_data import read_covid\n",
    "import matplotlib.pyplot as plt \n",
    "from IPython.display import Markdown as md"
   ]
  },
  {
   "cell_type": "code",
   "execution_count": 2,
   "id": "shared-acceptance",
   "metadata": {
    "execution": {
     "iopub.execute_input": "2021-03-29T02:08:26.457109Z",
     "iopub.status.busy": "2021-03-29T02:08:26.456632Z",
     "iopub.status.idle": "2021-03-29T02:08:36.284979Z",
     "shell.execute_reply": "2021-03-29T02:08:36.283646Z"
    },
    "papermill": {
     "duration": 9.84748,
     "end_time": "2021-03-29T02:08:36.285188",
     "exception": false,
     "start_time": "2021-03-29T02:08:26.437708",
     "status": "completed"
    },
    "tags": []
   },
   "outputs": [],
   "source": [
    "#hide_input\n",
    "blockchain = read_news('blockchain') \n",
    "btc = read_news('btc') \n",
    "xrp = read_news('xrp') \n",
    "trx = read_news('trx') \n",
    "eth = read_news('eth')  \n",
    "ada = read_news('ada')\n",
    "exchange = read_news('exchange') "
   ]
  },
  {
   "cell_type": "code",
   "execution_count": 3,
   "id": "synthetic-notion",
   "metadata": {
    "execution": {
     "iopub.execute_input": "2021-03-29T02:08:36.312544Z",
     "iopub.status.busy": "2021-03-29T02:08:36.311943Z",
     "iopub.status.idle": "2021-03-29T02:08:36.318373Z",
     "shell.execute_reply": "2021-03-29T02:08:36.317850Z"
    },
    "papermill": {
     "duration": 0.021069,
     "end_time": "2021-03-29T02:08:36.318487",
     "exception": false,
     "start_time": "2021-03-29T02:08:36.297418",
     "status": "completed"
    },
    "tags": []
   },
   "outputs": [
    {
     "data": {
      "text/markdown": [
       "- KeyFi Becomes Latest Defi Protocol to Launch its Native Token on BSC.  KeyFi, a Defi management platform has launched its native token on Binance Smart Chain (BSC). The Defi management protocol would also avail staking rewards and listing the asset on the BSC-based decentralized exchange PancakeSwap while continuing its association with Uniswap for liquidity mining on Ethereum. The latest announcement follows KeyFi’s decision to allocate one million The post KeyFi Becomes Latest Defi Protocol to Launch its Native Token on BSC appeared first on Coingape. ... [| Skaityti daugiau](https://coingape.com/keyfi-becomes-latest-defi-protocol-to-launch-its-native-token-on-bsc/) "
      ],
      "text/plain": [
       "<IPython.core.display.Markdown object>"
      ]
     },
     "execution_count": 3,
     "metadata": {},
     "output_type": "execute_result"
    }
   ],
   "source": [
    "#hide_input\n",
    "#md('##### {}'.format(titleBTC)) \n",
    "md(\"- {}{} {}{} [| Skaityti daugiau]({}) \".format(blockchain['title'],'. ', blockchain['body'], ' ...', blockchain['url']))"
   ]
  },
  {
   "cell_type": "code",
   "execution_count": 4,
   "id": "aging-caution",
   "metadata": {
    "execution": {
     "iopub.execute_input": "2021-03-29T02:08:36.343339Z",
     "iopub.status.busy": "2021-03-29T02:08:36.342560Z",
     "iopub.status.idle": "2021-03-29T02:08:36.346513Z",
     "shell.execute_reply": "2021-03-29T02:08:36.346039Z"
    },
    "papermill": {
     "duration": 0.01798,
     "end_time": "2021-03-29T02:08:36.346643",
     "exception": false,
     "start_time": "2021-03-29T02:08:36.328663",
     "status": "completed"
    },
    "tags": []
   },
   "outputs": [
    {
     "data": {
      "text/markdown": [
       "- Boomers Next to Adopt Crypto, a Trillion Dollars Could Flow Into Bitcoin Over the Next Year, Says Novogratz.  Galaxy Digital CEO Mike Novogratz has predicted that as much as a trillion dollars could flow into bitcoin over the next year as wealthy baby boomers get into cryptocurrency. With the example of Morgan Stanley, he says that more banks will start offering bitcoin exposure to their customers. $1 Trillion Could Flow Into Bitcoin Michael [&#8230;] ... [| Skaityti daugiau](https://news.bitcoin.com/boomers-adopt-cryptocurrency-trillion-dollars-bitcoin-novogratz/) "
      ],
      "text/plain": [
       "<IPython.core.display.Markdown object>"
      ]
     },
     "execution_count": 4,
     "metadata": {},
     "output_type": "execute_result"
    }
   ],
   "source": [
    "#hide_input\n",
    "#md('##### {}'.format(titleBTC)) \n",
    "md(\"- {}{} {}{} [| Skaityti daugiau]({}) \".format(btc['title'],'. ', btc['body'], ' ...', btc['url']))"
   ]
  },
  {
   "cell_type": "code",
   "execution_count": 5,
   "id": "organic-actress",
   "metadata": {
    "execution": {
     "iopub.execute_input": "2021-03-29T02:08:36.371367Z",
     "iopub.status.busy": "2021-03-29T02:08:36.370808Z",
     "iopub.status.idle": "2021-03-29T02:08:36.373973Z",
     "shell.execute_reply": "2021-03-29T02:08:36.373583Z"
    },
    "papermill": {
     "duration": 0.016703,
     "end_time": "2021-03-29T02:08:36.374067",
     "exception": false,
     "start_time": "2021-03-29T02:08:36.357364",
     "status": "completed"
    },
    "tags": []
   },
   "outputs": [
    {
     "data": {
      "text/markdown": [
       "- XRP Price Analysis: 28 March.  XPR’s price has been rising on the charts for the past two weeks and the trend seems to have sustained despite a recent price correction. The long-term price action has been largely rangebound, however, if the bullish momentum prevails the coin may be able to breach a longstanding resistance level. At the time of writing, [&#8230;] ... [| Skaityti daugiau](https://ambcrypto.com/xrp-price-analysis-28-march/) "
      ],
      "text/plain": [
       "<IPython.core.display.Markdown object>"
      ]
     },
     "execution_count": 5,
     "metadata": {},
     "output_type": "execute_result"
    }
   ],
   "source": [
    "#hide_input\n",
    "#md('##### {}'.format(titleBTC)) \n",
    "md(\"- {}{} {}{} [| Skaityti daugiau]({}) \".format(xrp['title'],'. ', xrp['body'], ' ...', xrp['url']))"
   ]
  },
  {
   "cell_type": "code",
   "execution_count": 6,
   "id": "prompt-farmer",
   "metadata": {
    "execution": {
     "iopub.execute_input": "2021-03-29T02:08:36.398440Z",
     "iopub.status.busy": "2021-03-29T02:08:36.397913Z",
     "iopub.status.idle": "2021-03-29T02:08:36.401483Z",
     "shell.execute_reply": "2021-03-29T02:08:36.401933Z"
    },
    "papermill": {
     "duration": 0.018297,
     "end_time": "2021-03-29T02:08:36.402046",
     "exception": false,
     "start_time": "2021-03-29T02:08:36.383749",
     "status": "completed"
    },
    "tags": []
   },
   "outputs": [
    {
     "data": {
      "text/markdown": [
       "- Crypto.com coin, Tron, Kusama Price Analysis: 28 March.  Crypto.com coin could move deeper into red territory if it fails to hold on to $0.2 support. Tron witnessed an upward breakout from a down channel, while Kusama maintained a strong uptrend since the start of 2021. Crypto.com Coin [CRO] Bollinger Bands on Crypto.com Coin converged and showed low volatility in the market as the [&#8230;] ... [| Skaityti daugiau](https://ambcrypto.com/crypto-com-coin-tron-kusama-price-analysis-28-march/) "
      ],
      "text/plain": [
       "<IPython.core.display.Markdown object>"
      ]
     },
     "execution_count": 6,
     "metadata": {},
     "output_type": "execute_result"
    }
   ],
   "source": [
    "#hide_input\n",
    "#md('##### {}'.format(titleBTC)) \n",
    "md(\"- {}{} {}{} [| Skaityti daugiau]({}) \".format(trx['title'],'. ', trx['body'], ' ...', trx['url']))"
   ]
  },
  {
   "cell_type": "code",
   "execution_count": 7,
   "id": "illegal-greece",
   "metadata": {
    "execution": {
     "iopub.execute_input": "2021-03-29T02:08:36.428861Z",
     "iopub.status.busy": "2021-03-29T02:08:36.428330Z",
     "iopub.status.idle": "2021-03-29T02:08:36.432302Z",
     "shell.execute_reply": "2021-03-29T02:08:36.431818Z"
    },
    "papermill": {
     "duration": 0.020428,
     "end_time": "2021-03-29T02:08:36.432438",
     "exception": false,
     "start_time": "2021-03-29T02:08:36.412010",
     "status": "completed"
    },
    "tags": []
   },
   "outputs": [
    {
     "data": {
      "text/markdown": [
       "- Crypto Whale Says He’s Loading Up on 9 Altcoins, Predicts New Bitcoin All-Time High Imminent.  Bitcoin will hit a new all-time high in April, according to the popular pseudonymous trader and analyst Flood. In a series of tweets, Flood reveals his bullish BTC prediction to his 115,000 followers along with his top altcoin holdings. The analyst who has been accumulating both Bitcoin and Ethereum (ETH) since 2015 when the assets [&#8230;]The post Crypto Whale Says He&#8217;s Loading Up on 9 Altcoins, Predicts New Bitcoin All-Time High Imminent appeared first on The Daily Hodl. ... [| Skaityti daugiau](https://dailyhodl.com/2021/03/28/crypto-whale-says-hes-loading-up-on-9-altcoins-predicts-new-bitcoin-all-time-high-imminent/) "
      ],
      "text/plain": [
       "<IPython.core.display.Markdown object>"
      ]
     },
     "execution_count": 7,
     "metadata": {},
     "output_type": "execute_result"
    }
   ],
   "source": [
    "#hide_input\n",
    "#md('##### {}'.format(titleBTC)) \n",
    "md(\"- {}{} {}{} [| Skaityti daugiau]({}) \".format(eth['title'],'. ', eth['body'], ' ...', eth['url']))"
   ]
  },
  {
   "cell_type": "code",
   "execution_count": 8,
   "id": "sublime-lounge",
   "metadata": {
    "execution": {
     "iopub.execute_input": "2021-03-29T02:08:36.459409Z",
     "iopub.status.busy": "2021-03-29T02:08:36.458850Z",
     "iopub.status.idle": "2021-03-29T02:08:36.461926Z",
     "shell.execute_reply": "2021-03-29T02:08:36.462532Z"
    },
    "papermill": {
     "duration": 0.019689,
     "end_time": "2021-03-29T02:08:36.462656",
     "exception": false,
     "start_time": "2021-03-29T02:08:36.442967",
     "status": "completed"
    },
    "tags": []
   },
   "outputs": [
    {
     "data": {
      "text/markdown": [
       "- Cardano Price Analysis: 28 March.  Cardano’s price saw a substantial hike a few days back; however, the coin was unable to sustain the position and was quick to endure a price correction. Since then, the price has been on a recovery run and at the moment the bullish momentum seems to be building up in ADA’s market. At press time, [&#8230;] ... [| Skaityti daugiau](https://ambcrypto.com/cardano-price-analysis-28-march/) "
      ],
      "text/plain": [
       "<IPython.core.display.Markdown object>"
      ]
     },
     "execution_count": 8,
     "metadata": {},
     "output_type": "execute_result"
    }
   ],
   "source": [
    "#hide_input\n",
    "#md('##### {}'.format(titleBTC)) \n",
    "md(\"- {}{} {}{} [| Skaityti daugiau]({}) \".format(ada['title'],'. ', ada['body'], ' ...', ada['url']))"
   ]
  },
  {
   "cell_type": "code",
   "execution_count": 9,
   "id": "specified-ordering",
   "metadata": {
    "execution": {
     "iopub.execute_input": "2021-03-29T02:08:36.492213Z",
     "iopub.status.busy": "2021-03-29T02:08:36.491454Z",
     "iopub.status.idle": "2021-03-29T02:08:36.493964Z",
     "shell.execute_reply": "2021-03-29T02:08:36.494418Z"
    },
    "papermill": {
     "duration": 0.01914,
     "end_time": "2021-03-29T02:08:36.494541",
     "exception": false,
     "start_time": "2021-03-29T02:08:36.475401",
     "status": "completed"
    },
    "tags": []
   },
   "outputs": [
    {
     "data": {
      "text/markdown": [
       "- PancakeSwap (CAKE) aims to take a slice out of Uniswap’s DeFi dominance.  PancakeSwap has emerged as one of the top DeFi platforms and its Binance Smart Chain integration makes it a liquidity magnet against competitors like Uniswap and SushiSwap. ... [| Skaityti daugiau](https://cointelegraph.com/news/pancakeswap-cake-aims-to-take-a-slice-out-of-uniswap-s-defi-dominance) "
      ],
      "text/plain": [
       "<IPython.core.display.Markdown object>"
      ]
     },
     "execution_count": 9,
     "metadata": {},
     "output_type": "execute_result"
    }
   ],
   "source": [
    "#hide_input\n",
    "#md('##### {}'.format(titleBTC)) \n",
    "md(\"- {}{} {}{} [| Skaityti daugiau]({}) \".format(exchange['title'],'. ', exchange['body'], ' ...', exchange['url']))"
   ]
  },
  {
   "cell_type": "code",
   "execution_count": null,
   "id": "tender-livestock",
   "metadata": {
    "papermill": {
     "duration": 0.011951,
     "end_time": "2021-03-29T02:08:36.518755",
     "exception": false,
     "start_time": "2021-03-29T02:08:36.506804",
     "status": "completed"
    },
    "tags": []
   },
   "outputs": [],
   "source": []
  },
  {
   "cell_type": "code",
   "execution_count": null,
   "id": "appreciated-diamond",
   "metadata": {
    "papermill": {
     "duration": 0.011957,
     "end_time": "2021-03-29T02:08:36.542918",
     "exception": false,
     "start_time": "2021-03-29T02:08:36.530961",
     "status": "completed"
    },
    "tags": []
   },
   "outputs": [],
   "source": []
  },
  {
   "cell_type": "code",
   "execution_count": null,
   "id": "romance-sweden",
   "metadata": {
    "papermill": {
     "duration": 0.012355,
     "end_time": "2021-03-29T02:08:36.567099",
     "exception": false,
     "start_time": "2021-03-29T02:08:36.554744",
     "status": "completed"
    },
    "tags": []
   },
   "outputs": [],
   "source": []
  },
  {
   "cell_type": "code",
   "execution_count": null,
   "id": "dietary-statistics",
   "metadata": {
    "papermill": {
     "duration": 0.011322,
     "end_time": "2021-03-29T02:08:36.590877",
     "exception": false,
     "start_time": "2021-03-29T02:08:36.579555",
     "status": "completed"
    },
    "tags": []
   },
   "outputs": [],
   "source": []
  }
 ],
 "metadata": {
  "kernelspec": {
   "display_name": "Python 3",
   "language": "python",
   "name": "python3"
  },
  "language_info": {
   "codemirror_mode": {
    "name": "ipython",
    "version": 3
   },
   "file_extension": ".py",
   "mimetype": "text/x-python",
   "name": "python",
   "nbconvert_exporter": "python",
   "pygments_lexer": "ipython3",
   "version": "3.6.13"
  },
  "papermill": {
   "default_parameters": {},
   "duration": 12.948701,
   "end_time": "2021-03-29T02:08:37.011559",
   "environment_variables": {},
   "exception": null,
   "input_path": "Market-News.ipynb",
   "output_path": "Market-News.ipynb",
   "parameters": {},
   "start_time": "2021-03-29T02:08:24.062858",
   "version": "2.2.2"
  }
 },
 "nbformat": 4,
 "nbformat_minor": 5
}