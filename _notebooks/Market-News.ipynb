{
 "cells": [
  {
   "cell_type": "markdown",
   "id": "short-greensboro",
   "metadata": {
    "papermill": {
     "duration": 0.01645,
     "end_time": "2021-02-12T01:39:35.546007",
     "exception": false,
     "start_time": "2021-02-12T01:39:35.529557",
     "status": "completed"
    },
    "tags": []
   },
   "source": [
    "# Kriptovaliutų naujienos"
   ]
  },
  {
   "cell_type": "code",
   "execution_count": 1,
   "id": "functioning-knowing",
   "metadata": {
    "execution": {
     "iopub.execute_input": "2021-02-12T01:39:35.579032Z",
     "iopub.status.busy": "2021-02-12T01:39:35.576719Z",
     "iopub.status.idle": "2021-02-12T01:39:36.822552Z",
     "shell.execute_reply": "2021-02-12T01:39:36.821679Z"
    },
    "papermill": {
     "duration": 1.265994,
     "end_time": "2021-02-12T01:39:36.822682",
     "exception": false,
     "start_time": "2021-02-12T01:39:35.556688",
     "status": "completed"
    },
    "tags": []
   },
   "outputs": [],
   "source": [
    "#hide_input\n",
    "import warnings\n",
    "warnings.filterwarnings('ignore')\n",
    "from scripts.read_data import read_api\n",
    "from scripts.read_data import read_news\n",
    "from scripts.read_data import read_covid\n",
    "import matplotlib.pyplot as plt \n",
    "from IPython.display import Markdown as md"
   ]
  },
  {
   "cell_type": "code",
   "execution_count": 2,
   "id": "shared-acceptance",
   "metadata": {
    "execution": {
     "iopub.execute_input": "2021-02-12T01:39:36.846018Z",
     "iopub.status.busy": "2021-02-12T01:39:36.845463Z",
     "iopub.status.idle": "2021-02-12T01:39:45.895962Z",
     "shell.execute_reply": "2021-02-12T01:39:45.896824Z"
    },
    "papermill": {
     "duration": 9.065565,
     "end_time": "2021-02-12T01:39:45.897091",
     "exception": false,
     "start_time": "2021-02-12T01:39:36.831526",
     "status": "completed"
    },
    "tags": []
   },
   "outputs": [],
   "source": [
    "#hide_input\n",
    "blockchain = read_news('blockchain') \n",
    "btc = read_news('btc') \n",
    "xrp = read_news('xrp') \n",
    "trx = read_news('trx') \n",
    "eth = read_news('eth')  \n",
    "ada = read_news('ada')\n",
    "exchange = read_news('exchange') "
   ]
  },
  {
   "cell_type": "code",
   "execution_count": 3,
   "id": "synthetic-notion",
   "metadata": {
    "execution": {
     "iopub.execute_input": "2021-02-12T01:39:45.921902Z",
     "iopub.status.busy": "2021-02-12T01:39:45.921228Z",
     "iopub.status.idle": "2021-02-12T01:39:45.929393Z",
     "shell.execute_reply": "2021-02-12T01:39:45.928895Z"
    },
    "papermill": {
     "duration": 0.021442,
     "end_time": "2021-02-12T01:39:45.929497",
     "exception": false,
     "start_time": "2021-02-12T01:39:45.908055",
     "status": "completed"
    },
    "tags": []
   },
   "outputs": [
    {
     "data": {
      "text/markdown": [
       "- Blockchain remittance platform Valiu raises $5.25 million in seed funding.  Valiu, a blockchain-based international remittance firm located in Colombia, announced Thursday that it raised $5.25 million in seed funding.The post Blockchain remittance platform Valiu raises $5.25 million in seed funding appeared first on The Block. ... [| Skaityti daugiau](https://www.theblockcrypto.com/linked/94612/valiu-seed-funding-blockchain-remittances?utm_source=cryptocompare&utm_medium=rss) "
      ],
      "text/plain": [
       "<IPython.core.display.Markdown object>"
      ]
     },
     "execution_count": 3,
     "metadata": {},
     "output_type": "execute_result"
    }
   ],
   "source": [
    "#hide_input\n",
    "#md('##### {}'.format(titleBTC)) \n",
    "md(\"- {}{} {}{} [| Skaityti daugiau]({}) \".format(blockchain['title'],'. ', blockchain['body'], ' ...', blockchain['url']))"
   ]
  },
  {
   "cell_type": "code",
   "execution_count": 4,
   "id": "aging-caution",
   "metadata": {
    "execution": {
     "iopub.execute_input": "2021-02-12T01:39:45.956334Z",
     "iopub.status.busy": "2021-02-12T01:39:45.955792Z",
     "iopub.status.idle": "2021-02-12T01:39:45.958942Z",
     "shell.execute_reply": "2021-02-12T01:39:45.958223Z"
    },
    "papermill": {
     "duration": 0.019862,
     "end_time": "2021-02-12T01:39:45.959074",
     "exception": false,
     "start_time": "2021-02-12T01:39:45.939212",
     "status": "completed"
    },
    "tags": []
   },
   "outputs": [
    {
     "data": {
      "text/markdown": [
       "- Bitcoin ETF receives green-light from Ontario securities regulator.  The Ontario Securities Commission has approved a bitcoin exchange-traded fund, according to public records published Thursday. A final decision document, dated February 11, was issued Thursday afternoon, per records from SEDAR, for the Purpose Bitcoin ETF, which is managed by Purpose Investments Inc. As the document notes: &#8220;The prospectus has been filed under Multilateral Instrument [&#8230;]The post Bitcoin ETF receives green-light from Ontario securities regulator appeared first on The Block. ... [| Skaityti daugiau](https://www.theblockcrypto.com/linked/94724/bitcoin-etf-ontario-securities-regulator-approval?utm_source=cryptocompare&utm_medium=rss) "
      ],
      "text/plain": [
       "<IPython.core.display.Markdown object>"
      ]
     },
     "execution_count": 4,
     "metadata": {},
     "output_type": "execute_result"
    }
   ],
   "source": [
    "#hide_input\n",
    "#md('##### {}'.format(titleBTC)) \n",
    "md(\"- {}{} {}{} [| Skaityti daugiau]({}) \".format(btc['title'],'. ', btc['body'], ' ...', btc['url']))"
   ]
  },
  {
   "cell_type": "code",
   "execution_count": 5,
   "id": "organic-actress",
   "metadata": {
    "execution": {
     "iopub.execute_input": "2021-02-12T01:39:45.986885Z",
     "iopub.status.busy": "2021-02-12T01:39:45.986186Z",
     "iopub.status.idle": "2021-02-12T01:39:45.991978Z",
     "shell.execute_reply": "2021-02-12T01:39:45.991472Z"
    },
    "papermill": {
     "duration": 0.022013,
     "end_time": "2021-02-12T01:39:45.992090",
     "exception": false,
     "start_time": "2021-02-12T01:39:45.970077",
     "status": "completed"
    },
    "tags": []
   },
   "outputs": [
    {
     "data": {
      "text/markdown": [
       "- Ripple: Jed McCaleb dumps 40 million XRP.  According to data from XRPscan, in the past two days, co-founder of Ripple, Jed McCaleb moved roughly 40 million XRP from his &#8220;tacostand&#8221; wallet, which was named and activated when McCaleb was still working with Ripple. The former tech chief is very active when it comes to selling his XRP; a fact earlier noted by [&#8230;] ... [| Skaityti daugiau](https://ambcrypto.com/ripple-jed-mccaleb-dumps-40-million-xrp/) "
      ],
      "text/plain": [
       "<IPython.core.display.Markdown object>"
      ]
     },
     "execution_count": 5,
     "metadata": {},
     "output_type": "execute_result"
    }
   ],
   "source": [
    "#hide_input\n",
    "#md('##### {}'.format(titleBTC)) \n",
    "md(\"- {}{} {}{} [| Skaityti daugiau]({}) \".format(xrp['title'],'. ', xrp['body'], ' ...', xrp['url']))"
   ]
  },
  {
   "cell_type": "code",
   "execution_count": 6,
   "id": "prompt-farmer",
   "metadata": {
    "execution": {
     "iopub.execute_input": "2021-02-12T01:39:46.019603Z",
     "iopub.status.busy": "2021-02-12T01:39:46.018879Z",
     "iopub.status.idle": "2021-02-12T01:39:46.024352Z",
     "shell.execute_reply": "2021-02-12T01:39:46.023876Z"
    },
    "papermill": {
     "duration": 0.021548,
     "end_time": "2021-02-12T01:39:46.024462",
     "exception": false,
     "start_time": "2021-02-12T01:39:46.002914",
     "status": "completed"
    },
    "tags": []
   },
   "outputs": [
    {
     "data": {
      "text/markdown": [
       "- Lindsey Lohan’s Affair With Bitcoin Is Over. It’s Tron’s Turn Now.  Lindsay Lohan has been diving into DeFi over the last 24 hours. No, not with Ethereum—with Tron. ... [| Skaityti daugiau](https://decrypt.co/57509/lindsey-lohans-affair-with-bitcoin-is-over-its-trons-turn-now) "
      ],
      "text/plain": [
       "<IPython.core.display.Markdown object>"
      ]
     },
     "execution_count": 6,
     "metadata": {},
     "output_type": "execute_result"
    }
   ],
   "source": [
    "#hide_input\n",
    "#md('##### {}'.format(titleBTC)) \n",
    "md(\"- {}{} {}{} [| Skaityti daugiau]({}) \".format(trx['title'],'. ', trx['body'], ' ...', trx['url']))"
   ]
  },
  {
   "cell_type": "code",
   "execution_count": 7,
   "id": "illegal-greece",
   "metadata": {
    "execution": {
     "iopub.execute_input": "2021-02-12T01:39:46.050347Z",
     "iopub.status.busy": "2021-02-12T01:39:46.049757Z",
     "iopub.status.idle": "2021-02-12T01:39:46.061106Z",
     "shell.execute_reply": "2021-02-12T01:39:46.061865Z"
    },
    "papermill": {
     "duration": 0.026878,
     "end_time": "2021-02-12T01:39:46.062064",
     "exception": false,
     "start_time": "2021-02-12T01:39:46.035186",
     "status": "completed"
    },
    "tags": []
   },
   "outputs": [
    {
     "data": {
      "text/markdown": [
       "- Ethereum devs grumble as Harvest Finance and Value Defi eye Binance Smart Chain.  Two Ethereum-native DeFi protocols are headed to Binance Smart Chain, but critics doubt the layer-1 has staying power ... [| Skaityti daugiau](https://cointelegraph.com/news/ethereum-devs-grumble-as-harvest-finance-and-value-defi-eye-binance-smart-chain) "
      ],
      "text/plain": [
       "<IPython.core.display.Markdown object>"
      ]
     },
     "execution_count": 7,
     "metadata": {},
     "output_type": "execute_result"
    }
   ],
   "source": [
    "#hide_input\n",
    "#md('##### {}'.format(titleBTC)) \n",
    "md(\"- {}{} {}{} [| Skaityti daugiau]({}) \".format(eth['title'],'. ', eth['body'], ' ...', eth['url']))"
   ]
  },
  {
   "cell_type": "code",
   "execution_count": 8,
   "id": "sublime-lounge",
   "metadata": {
    "execution": {
     "iopub.execute_input": "2021-02-12T01:39:46.095469Z",
     "iopub.status.busy": "2021-02-12T01:39:46.094908Z",
     "iopub.status.idle": "2021-02-12T01:39:46.097021Z",
     "shell.execute_reply": "2021-02-12T01:39:46.097545Z"
    },
    "papermill": {
     "duration": 0.023073,
     "end_time": "2021-02-12T01:39:46.097679",
     "exception": false,
     "start_time": "2021-02-12T01:39:46.074606",
     "status": "completed"
    },
    "tags": []
   },
   "outputs": [
    {
     "data": {
      "text/markdown": [
       "- Ben Goertzel’s SingularityNET begins second phase of migration from Ethereum to Cardano.  SingularityNET, an artificial intelligence (AI) solution built on Ethereum, has begun the second phase of its migration to Cardano. The post Ben Goertzel’s SingularityNET begins second phase of migration from Ethereum to Cardano appeared first on CryptoSlate. ... [| Skaityti daugiau](https://cryptoslate.com/ben-goertzels-singularitynet-begins-second-phase-of-migration-from-ethereum-to-cardano/) "
      ],
      "text/plain": [
       "<IPython.core.display.Markdown object>"
      ]
     },
     "execution_count": 8,
     "metadata": {},
     "output_type": "execute_result"
    }
   ],
   "source": [
    "#hide_input\n",
    "#md('##### {}'.format(titleBTC)) \n",
    "md(\"- {}{} {}{} [| Skaityti daugiau]({}) \".format(ada['title'],'. ', ada['body'], ' ...', ada['url']))"
   ]
  },
  {
   "cell_type": "code",
   "execution_count": 9,
   "id": "specified-ordering",
   "metadata": {
    "execution": {
     "iopub.execute_input": "2021-02-12T01:39:46.133590Z",
     "iopub.status.busy": "2021-02-12T01:39:46.132752Z",
     "iopub.status.idle": "2021-02-12T01:39:46.135355Z",
     "shell.execute_reply": "2021-02-12T01:39:46.135795Z"
    },
    "papermill": {
     "duration": 0.02329,
     "end_time": "2021-02-12T01:39:46.135925",
     "exception": false,
     "start_time": "2021-02-12T01:39:46.112635",
     "status": "completed"
    },
    "tags": []
   },
   "outputs": [
    {
     "data": {
      "text/markdown": [
       "- Ethereum devs grumble as Harvest Finance and Value Defi eye Binance Smart Chain.  Two Ethereum-native DeFi protocols are headed to Binance Smart Chain, but critics doubt the layer-1 has staying power ... [| Skaityti daugiau](https://cointelegraph.com/news/ethereum-devs-grumble-as-harvest-finance-and-value-defi-eye-binance-smart-chain) "
      ],
      "text/plain": [
       "<IPython.core.display.Markdown object>"
      ]
     },
     "execution_count": 9,
     "metadata": {},
     "output_type": "execute_result"
    }
   ],
   "source": [
    "#hide_input\n",
    "#md('##### {}'.format(titleBTC)) \n",
    "md(\"- {}{} {}{} [| Skaityti daugiau]({}) \".format(exchange['title'],'. ', exchange['body'], ' ...', exchange['url']))"
   ]
  },
  {
   "cell_type": "code",
   "execution_count": null,
   "id": "tender-livestock",
   "metadata": {
    "papermill": {
     "duration": 0.011158,
     "end_time": "2021-02-12T01:39:46.158583",
     "exception": false,
     "start_time": "2021-02-12T01:39:46.147425",
     "status": "completed"
    },
    "tags": []
   },
   "outputs": [],
   "source": []
  },
  {
   "cell_type": "code",
   "execution_count": null,
   "id": "appreciated-diamond",
   "metadata": {
    "papermill": {
     "duration": 0.012325,
     "end_time": "2021-02-12T01:39:46.183946",
     "exception": false,
     "start_time": "2021-02-12T01:39:46.171621",
     "status": "completed"
    },
    "tags": []
   },
   "outputs": [],
   "source": []
  },
  {
   "cell_type": "code",
   "execution_count": null,
   "id": "romance-sweden",
   "metadata": {
    "papermill": {
     "duration": 0.012372,
     "end_time": "2021-02-12T01:39:46.208286",
     "exception": false,
     "start_time": "2021-02-12T01:39:46.195914",
     "status": "completed"
    },
    "tags": []
   },
   "outputs": [],
   "source": []
  },
  {
   "cell_type": "code",
   "execution_count": null,
   "id": "dietary-statistics",
   "metadata": {
    "papermill": {
     "duration": 0.013235,
     "end_time": "2021-02-12T01:39:46.233840",
     "exception": false,
     "start_time": "2021-02-12T01:39:46.220605",
     "status": "completed"
    },
    "tags": []
   },
   "outputs": [],
   "source": []
  }
 ],
 "metadata": {
  "kernelspec": {
   "display_name": "Python 3",
   "language": "python",
   "name": "python3"
  },
  "language_info": {
   "codemirror_mode": {
    "name": "ipython",
    "version": 3
   },
   "file_extension": ".py",
   "mimetype": "text/x-python",
   "name": "python",
   "nbconvert_exporter": "python",
   "pygments_lexer": "ipython3",
   "version": "3.6.12"
  },
  "papermill": {
   "default_parameters": {},
   "duration": 12.189742,
   "end_time": "2021-02-12T01:39:46.654976",
   "environment_variables": {},
   "exception": null,
   "input_path": "Market-News.ipynb",
   "output_path": "Market-News.ipynb",
   "parameters": {},
   "start_time": "2021-02-12T01:39:34.465234",
   "version": "2.2.2"
  }
 },
 "nbformat": 4,
 "nbformat_minor": 5
}