{
 "cells": [
  {
   "cell_type": "markdown",
   "id": "short-greensboro",
   "metadata": {
    "papermill": {
     "duration": 0.015306,
     "end_time": "2021-04-25T02:16:59.836948",
     "exception": false,
     "start_time": "2021-04-25T02:16:59.821642",
     "status": "completed"
    },
    "tags": []
   },
   "source": [
    "# Kriptovaliutų naujienos"
   ]
  },
  {
   "cell_type": "code",
   "execution_count": 1,
   "id": "functioning-knowing",
   "metadata": {
    "execution": {
     "iopub.execute_input": "2021-04-25T02:16:59.871738Z",
     "iopub.status.busy": "2021-04-25T02:16:59.871050Z",
     "iopub.status.idle": "2021-04-25T02:17:01.263807Z",
     "shell.execute_reply": "2021-04-25T02:17:01.263229Z"
    },
    "papermill": {
     "duration": 1.415041,
     "end_time": "2021-04-25T02:17:01.263991",
     "exception": false,
     "start_time": "2021-04-25T02:16:59.848950",
     "status": "completed"
    },
    "tags": []
   },
   "outputs": [],
   "source": [
    "#hide_input\n",
    "import warnings\n",
    "warnings.filterwarnings('ignore')\n",
    "from scripts.read_data import read_api\n",
    "from scripts.read_data import read_news\n",
    "from scripts.read_data import read_covid\n",
    "import matplotlib.pyplot as plt \n",
    "from IPython.display import Markdown as md"
   ]
  },
  {
   "cell_type": "code",
   "execution_count": 2,
   "id": "shared-acceptance",
   "metadata": {
    "execution": {
     "iopub.execute_input": "2021-04-25T02:17:01.297753Z",
     "iopub.status.busy": "2021-04-25T02:17:01.296532Z",
     "iopub.status.idle": "2021-04-25T02:17:12.414284Z",
     "shell.execute_reply": "2021-04-25T02:17:12.414818Z"
    },
    "papermill": {
     "duration": 11.139326,
     "end_time": "2021-04-25T02:17:12.415043",
     "exception": false,
     "start_time": "2021-04-25T02:17:01.275717",
     "status": "completed"
    },
    "tags": []
   },
   "outputs": [],
   "source": [
    "#hide_input\n",
    "blockchain = read_news('blockchain') \n",
    "btc = read_news('btc') \n",
    "xrp = read_news('xrp') \n",
    "trx = read_news('trx') \n",
    "eth = read_news('eth')  \n",
    "ada = read_news('ada')\n",
    "exchange = read_news('exchange') "
   ]
  },
  {
   "cell_type": "code",
   "execution_count": 3,
   "id": "synthetic-notion",
   "metadata": {
    "execution": {
     "iopub.execute_input": "2021-04-25T02:17:12.444152Z",
     "iopub.status.busy": "2021-04-25T02:17:12.443005Z",
     "iopub.status.idle": "2021-04-25T02:17:12.448614Z",
     "shell.execute_reply": "2021-04-25T02:17:12.449141Z"
    },
    "papermill": {
     "duration": 0.022263,
     "end_time": "2021-04-25T02:17:12.449280",
     "exception": false,
     "start_time": "2021-04-25T02:17:12.427017",
     "status": "completed"
    },
    "tags": []
   },
   "outputs": [
    {
     "data": {
      "text/markdown": [
       "- From Startup to Success Story — Morpheus.Network Is Transforming Global Trade With Blockchain.  PRESS RELEASE. Blockchain-powered supply chain management platform, Morpheus.Network, has launched an updated platform, forged an Agribusiness agreement with the Argentinian government, and was a winner in the 2021 &#8220;Future of Ports&#8221; competition. Burlington, ON &#8212; Morpheus.Network is one of the world&#8217;s leading supply chain ecosystems and is changing the face of the global trade industry [&#8230;] ... [| Skaityti daugiau](https://news.bitcoin.com/from-startup-to-success-story-morpheus-network-is-transforming-global-trade-with-blockchain/) "
      ],
      "text/plain": [
       "<IPython.core.display.Markdown object>"
      ]
     },
     "execution_count": 3,
     "metadata": {},
     "output_type": "execute_result"
    }
   ],
   "source": [
    "#hide_input\n",
    "#md('##### {}'.format(titleBTC)) \n",
    "md(\"- {}{} {}{} [| Skaityti daugiau]({}) \".format(blockchain['title'],'. ', blockchain['body'], ' ...', blockchain['url']))"
   ]
  },
  {
   "cell_type": "code",
   "execution_count": 4,
   "id": "aging-caution",
   "metadata": {
    "execution": {
     "iopub.execute_input": "2021-04-25T02:17:12.476620Z",
     "iopub.status.busy": "2021-04-25T02:17:12.475953Z",
     "iopub.status.idle": "2021-04-25T02:17:12.479208Z",
     "shell.execute_reply": "2021-04-25T02:17:12.479852Z"
    },
    "papermill": {
     "duration": 0.019417,
     "end_time": "2021-04-25T02:17:12.479976",
     "exception": false,
     "start_time": "2021-04-25T02:17:12.460559",
     "status": "completed"
    },
    "tags": []
   },
   "outputs": [
    {
     "data": {
      "text/markdown": [
       "- SEC Commissioner on Banning Bitcoin: ‘It’s Very Difficult to Ban Peer-to-Peer Technology’.  SEC Commissioner Hester Peirce believes that the U.S. government cannot ban bitcoin, stating that &#8220;it&#8217;s very difficult to ban something that&#8217;s essentially a peer-to-peer technology.&#8221; The commissioner is hopeful that with the new chairman who has deep knowledge of bitcoin and cryptocurrencies, the SEC can take a fresh look at some of the reasons used [&#8230;] ... [| Skaityti daugiau](https://news.bitcoin.com/sec-commissioner-banning-bitcoin-very-difficult-ban-peer-to-peer-technology/) "
      ],
      "text/plain": [
       "<IPython.core.display.Markdown object>"
      ]
     },
     "execution_count": 4,
     "metadata": {},
     "output_type": "execute_result"
    }
   ],
   "source": [
    "#hide_input\n",
    "#md('##### {}'.format(titleBTC)) \n",
    "md(\"- {}{} {}{} [| Skaityti daugiau]({}) \".format(btc['title'],'. ', btc['body'], ' ...', btc['url']))"
   ]
  },
  {
   "cell_type": "code",
   "execution_count": 5,
   "id": "organic-actress",
   "metadata": {
    "execution": {
     "iopub.execute_input": "2021-04-25T02:17:12.507910Z",
     "iopub.status.busy": "2021-04-25T02:17:12.507218Z",
     "iopub.status.idle": "2021-04-25T02:17:12.510751Z",
     "shell.execute_reply": "2021-04-25T02:17:12.510190Z"
    },
    "papermill": {
     "duration": 0.019626,
     "end_time": "2021-04-25T02:17:12.510897",
     "exception": false,
     "start_time": "2021-04-25T02:17:12.491271",
     "status": "completed"
    },
    "tags": []
   },
   "outputs": [
    {
     "data": {
      "text/markdown": [
       "- What Bitcoin Must Do To Remain The Crypto Top Dog, According to Ripple Chairman.  Historically speaking, one key objection to bitcoin has been its perceived massive energy consumption. Some people have suggested that the flagship cryptocurrency is causing an environmental disaster due to its proof-of-work consensus algorithm. The ecological concerns about bitcoin have driven developers to create alternative algorithms like Federated Consensus and Proof-of-Stake — which will be adopted [&#8230;] ... [| Skaityti daugiau](https://zycrypto.com/what-bitcoin-must-do-to-remain-the-crypto-top-dog-according-to-ripple-chairman/) "
      ],
      "text/plain": [
       "<IPython.core.display.Markdown object>"
      ]
     },
     "execution_count": 5,
     "metadata": {},
     "output_type": "execute_result"
    }
   ],
   "source": [
    "#hide_input\n",
    "#md('##### {}'.format(titleBTC)) \n",
    "md(\"- {}{} {}{} [| Skaityti daugiau]({}) \".format(xrp['title'],'. ', xrp['body'], ' ...', xrp['url']))"
   ]
  },
  {
   "cell_type": "code",
   "execution_count": 6,
   "id": "prompt-farmer",
   "metadata": {
    "execution": {
     "iopub.execute_input": "2021-04-25T02:17:12.541811Z",
     "iopub.status.busy": "2021-04-25T02:17:12.541227Z",
     "iopub.status.idle": "2021-04-25T02:17:12.543960Z",
     "shell.execute_reply": "2021-04-25T02:17:12.544533Z"
    },
    "papermill": {
     "duration": 0.021632,
     "end_time": "2021-04-25T02:17:12.544695",
     "exception": false,
     "start_time": "2021-04-25T02:17:12.523063",
     "status": "completed"
    },
    "tags": []
   },
   "outputs": [
    {
     "data": {
      "text/markdown": [
       "- Tron, BitTorrent, VeChain Price Analysis: 24 April.  After withstanding a volatile market, Tron [TRX], along with other altcoins like BitTorrent [BTT] and VeChain [VET], was trying to build back its value. However, the ongoing bearishness across the crypto-market was making it difficult for the altcoin to gain back its lost value. Tron [TRX] Tron&#8217;s market noted a visible surge in price as [&#8230;] ... [| Skaityti daugiau](https://ambcrypto.com/tron-bittorrent-vechain-price-analysis-24-april/) "
      ],
      "text/plain": [
       "<IPython.core.display.Markdown object>"
      ]
     },
     "execution_count": 6,
     "metadata": {},
     "output_type": "execute_result"
    }
   ],
   "source": [
    "#hide_input\n",
    "#md('##### {}'.format(titleBTC)) \n",
    "md(\"- {}{} {}{} [| Skaityti daugiau]({}) \".format(trx['title'],'. ', trx['body'], ' ...', trx['url']))"
   ]
  },
  {
   "cell_type": "code",
   "execution_count": 7,
   "id": "illegal-greece",
   "metadata": {
    "execution": {
     "iopub.execute_input": "2021-04-25T02:17:12.574671Z",
     "iopub.status.busy": "2021-04-25T02:17:12.573889Z",
     "iopub.status.idle": "2021-04-25T02:17:12.577222Z",
     "shell.execute_reply": "2021-04-25T02:17:12.577836Z"
    },
    "papermill": {
     "duration": 0.020562,
     "end_time": "2021-04-25T02:17:12.578008",
     "exception": false,
     "start_time": "2021-04-25T02:17:12.557446",
     "status": "completed"
    },
    "tags": []
   },
   "outputs": [
    {
     "data": {
      "text/markdown": [
       "- Ethereum Price Analysis: 24 April.  Disclaimer: The findings of the following analysis are the sole opinions of the writer and should not be taken as investment advice Ethereum&#8217;s price has seen solid recovery over the past two days after having lost a significant bit of its trading price during the early hours of 23 April. However, the bullish momentum that helped [&#8230;] ... [| Skaityti daugiau](https://ambcrypto.com/ethereum-price-analysis-24-april/) "
      ],
      "text/plain": [
       "<IPython.core.display.Markdown object>"
      ]
     },
     "execution_count": 7,
     "metadata": {},
     "output_type": "execute_result"
    }
   ],
   "source": [
    "#hide_input\n",
    "#md('##### {}'.format(titleBTC)) \n",
    "md(\"- {}{} {}{} [| Skaityti daugiau]({}) \".format(eth['title'],'. ', eth['body'], ' ...', eth['url']))"
   ]
  },
  {
   "cell_type": "code",
   "execution_count": 8,
   "id": "sublime-lounge",
   "metadata": {
    "execution": {
     "iopub.execute_input": "2021-04-25T02:17:12.610563Z",
     "iopub.status.busy": "2021-04-25T02:17:12.609904Z",
     "iopub.status.idle": "2021-04-25T02:17:12.613449Z",
     "shell.execute_reply": "2021-04-25T02:17:12.612778Z"
    },
    "papermill": {
     "duration": 0.0229,
     "end_time": "2021-04-25T02:17:12.613577",
     "exception": false,
     "start_time": "2021-04-25T02:17:12.590677",
     "status": "completed"
    },
    "tags": []
   },
   "outputs": [
    {
     "data": {
      "text/markdown": [
       "- Cardano Creator Says Biden Tax Plan Could Be Seriously Bearish for Crypto Markets.  Cardano creator Charles Hoskinson is warning that the Biden administration&#8217;s plans to hike the tax rate on capital gains may not bode well for the cryptocurrency markets. In a surprise Ask Me Anything (AMA) session, Hoskinson points out that the cryptocurrency markets could cave in if the current administration decides to levy additional taxes on [&#8230;]The post Cardano Creator Says Biden Tax Plan Could Be Seriously Bearish for Crypto Markets appeared first on The Daily Hodl. ... [| Skaityti daugiau](https://dailyhodl.com/2021/04/24/cardano-creator-says-biden-tax-plan-could-be-seriously-bearish-for-crypto-markets/) "
      ],
      "text/plain": [
       "<IPython.core.display.Markdown object>"
      ]
     },
     "execution_count": 8,
     "metadata": {},
     "output_type": "execute_result"
    }
   ],
   "source": [
    "#hide_input\n",
    "#md('##### {}'.format(titleBTC)) \n",
    "md(\"- {}{} {}{} [| Skaityti daugiau]({}) \".format(ada['title'],'. ', ada['body'], ' ...', ada['url']))"
   ]
  },
  {
   "cell_type": "code",
   "execution_count": 9,
   "id": "specified-ordering",
   "metadata": {
    "execution": {
     "iopub.execute_input": "2021-04-25T02:17:12.643312Z",
     "iopub.status.busy": "2021-04-25T02:17:12.642686Z",
     "iopub.status.idle": "2021-04-25T02:17:12.648674Z",
     "shell.execute_reply": "2021-04-25T02:17:12.648126Z"
    },
    "papermill": {
     "duration": 0.021497,
     "end_time": "2021-04-25T02:17:12.648787",
     "exception": false,
     "start_time": "2021-04-25T02:17:12.627290",
     "status": "completed"
    },
    "tags": []
   },
   "outputs": [
    {
     "data": {
      "text/markdown": [
       "- Korean tax officers seize $22M in crypto directly from exchange accounts.  South Korea’s Seoul metropolitan government has seized 25 billion won ($22 million) worth of crypto from tax evaders—directly out of their exchange accounts, local news outlet Yonhap reported yesterday. The post Korean tax officers seize $22M in crypto directly from exchange accounts appeared first on CryptoSlate. ... [| Skaityti daugiau](https://cryptoslate.com/korean-tax-officers-seize-22m-in-crypto-directly-from-exchange-accounts/) "
      ],
      "text/plain": [
       "<IPython.core.display.Markdown object>"
      ]
     },
     "execution_count": 9,
     "metadata": {},
     "output_type": "execute_result"
    }
   ],
   "source": [
    "#hide_input\n",
    "#md('##### {}'.format(titleBTC)) \n",
    "md(\"- {}{} {}{} [| Skaityti daugiau]({}) \".format(exchange['title'],'. ', exchange['body'], ' ...', exchange['url']))"
   ]
  },
  {
   "cell_type": "code",
   "execution_count": null,
   "id": "tender-livestock",
   "metadata": {
    "papermill": {
     "duration": 0.013383,
     "end_time": "2021-04-25T02:17:12.675622",
     "exception": false,
     "start_time": "2021-04-25T02:17:12.662239",
     "status": "completed"
    },
    "tags": []
   },
   "outputs": [],
   "source": []
  },
  {
   "cell_type": "code",
   "execution_count": null,
   "id": "appreciated-diamond",
   "metadata": {
    "papermill": {
     "duration": 0.013605,
     "end_time": "2021-04-25T02:17:12.702455",
     "exception": false,
     "start_time": "2021-04-25T02:17:12.688850",
     "status": "completed"
    },
    "tags": []
   },
   "outputs": [],
   "source": []
  },
  {
   "cell_type": "code",
   "execution_count": null,
   "id": "romance-sweden",
   "metadata": {
    "papermill": {
     "duration": 0.014031,
     "end_time": "2021-04-25T02:17:12.731214",
     "exception": false,
     "start_time": "2021-04-25T02:17:12.717183",
     "status": "completed"
    },
    "tags": []
   },
   "outputs": [],
   "source": []
  },
  {
   "cell_type": "code",
   "execution_count": null,
   "id": "dietary-statistics",
   "metadata": {
    "papermill": {
     "duration": 0.013337,
     "end_time": "2021-04-25T02:17:12.758349",
     "exception": false,
     "start_time": "2021-04-25T02:17:12.745012",
     "status": "completed"
    },
    "tags": []
   },
   "outputs": [],
   "source": []
  }
 ],
 "metadata": {
  "kernelspec": {
   "display_name": "Python 3",
   "language": "python",
   "name": "python3"
  },
  "language_info": {
   "codemirror_mode": {
    "name": "ipython",
    "version": 3
   },
   "file_extension": ".py",
   "mimetype": "text/x-python",
   "name": "python",
   "nbconvert_exporter": "python",
   "pygments_lexer": "ipython3",
   "version": "3.6.13"
  },
  "papermill": {
   "default_parameters": {},
   "duration": 14.727226,
   "end_time": "2021-04-25T02:17:13.280513",
   "environment_variables": {},
   "exception": null,
   "input_path": "Market-News.ipynb",
   "output_path": "Market-News.ipynb",
   "parameters": {},
   "start_time": "2021-04-25T02:16:58.553287",
   "version": "2.2.2"
  }
 },
 "nbformat": 4,
 "nbformat_minor": 5
}