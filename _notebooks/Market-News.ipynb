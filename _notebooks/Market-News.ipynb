{
 "cells": [
  {
   "cell_type": "markdown",
   "id": "short-greensboro",
   "metadata": {
    "papermill": {
     "duration": 0.015125,
     "end_time": "2021-04-15T02:07:30.616504",
     "exception": false,
     "start_time": "2021-04-15T02:07:30.601379",
     "status": "completed"
    },
    "tags": []
   },
   "source": [
    "# Kriptovaliutų naujienos"
   ]
  },
  {
   "cell_type": "code",
   "execution_count": 1,
   "id": "functioning-knowing",
   "metadata": {
    "execution": {
     "iopub.execute_input": "2021-04-15T02:07:30.651506Z",
     "iopub.status.busy": "2021-04-15T02:07:30.650660Z",
     "iopub.status.idle": "2021-04-15T02:07:32.097260Z",
     "shell.execute_reply": "2021-04-15T02:07:32.096686Z"
    },
    "papermill": {
     "duration": 1.469642,
     "end_time": "2021-04-15T02:07:32.097420",
     "exception": false,
     "start_time": "2021-04-15T02:07:30.627778",
     "status": "completed"
    },
    "tags": []
   },
   "outputs": [],
   "source": [
    "#hide_input\n",
    "import warnings\n",
    "warnings.filterwarnings('ignore')\n",
    "from scripts.read_data import read_api\n",
    "from scripts.read_data import read_news\n",
    "from scripts.read_data import read_covid\n",
    "import matplotlib.pyplot as plt \n",
    "from IPython.display import Markdown as md"
   ]
  },
  {
   "cell_type": "code",
   "execution_count": 2,
   "id": "shared-acceptance",
   "metadata": {
    "execution": {
     "iopub.execute_input": "2021-04-15T02:07:32.131465Z",
     "iopub.status.busy": "2021-04-15T02:07:32.130606Z",
     "iopub.status.idle": "2021-04-15T02:07:45.615415Z",
     "shell.execute_reply": "2021-04-15T02:07:45.616002Z"
    },
    "papermill": {
     "duration": 13.505555,
     "end_time": "2021-04-15T02:07:45.616171",
     "exception": false,
     "start_time": "2021-04-15T02:07:32.110616",
     "status": "completed"
    },
    "tags": []
   },
   "outputs": [],
   "source": [
    "#hide_input\n",
    "blockchain = read_news('blockchain') \n",
    "btc = read_news('btc') \n",
    "xrp = read_news('xrp') \n",
    "trx = read_news('trx') \n",
    "eth = read_news('eth')  \n",
    "ada = read_news('ada')\n",
    "exchange = read_news('exchange') "
   ]
  },
  {
   "cell_type": "code",
   "execution_count": 3,
   "id": "synthetic-notion",
   "metadata": {
    "execution": {
     "iopub.execute_input": "2021-04-15T02:07:45.645400Z",
     "iopub.status.busy": "2021-04-15T02:07:45.644735Z",
     "iopub.status.idle": "2021-04-15T02:07:45.648605Z",
     "shell.execute_reply": "2021-04-15T02:07:45.649123Z"
    },
    "papermill": {
     "duration": 0.021639,
     "end_time": "2021-04-15T02:07:45.649256",
     "exception": false,
     "start_time": "2021-04-15T02:07:45.627617",
     "status": "completed"
    },
    "tags": []
   },
   "outputs": [
    {
     "data": {
      "text/markdown": [
       "- The U.S. Postal Service wants to issue NFTs—but not in the way you’d think.  The United States Postal Service (USPS) has certified blockchain services company CaseMail as the official producer of ePostage labels in the form of non-fungible tokens (NFTs), as per a release Tuesday. The post The U.S. Postal Service wants to issue NFTs—but not in the way you&#8217;d think appeared first on CryptoSlate. ... [| Skaityti daugiau](https://cryptoslate.com/the-us-postal-service-wants-to-issue-nfts-but-not-in-the-way-youd-think/) "
      ],
      "text/plain": [
       "<IPython.core.display.Markdown object>"
      ]
     },
     "execution_count": 3,
     "metadata": {},
     "output_type": "execute_result"
    }
   ],
   "source": [
    "#hide_input\n",
    "#md('##### {}'.format(titleBTC)) \n",
    "md(\"- {}{} {}{} [| Skaityti daugiau]({}) \".format(blockchain['title'],'. ', blockchain['body'], ' ...', blockchain['url']))"
   ]
  },
  {
   "cell_type": "code",
   "execution_count": 4,
   "id": "aging-caution",
   "metadata": {
    "execution": {
     "iopub.execute_input": "2021-04-15T02:07:45.677027Z",
     "iopub.status.busy": "2021-04-15T02:07:45.676228Z",
     "iopub.status.idle": "2021-04-15T02:07:45.679839Z",
     "shell.execute_reply": "2021-04-15T02:07:45.679222Z"
    },
    "papermill": {
     "duration": 0.019444,
     "end_time": "2021-04-15T02:07:45.679958",
     "exception": false,
     "start_time": "2021-04-15T02:07:45.660514",
     "status": "completed"
    },
    "tags": []
   },
   "outputs": [
    {
     "data": {
      "text/markdown": [
       "- Coinbase COIN Debuts To A Bloody Bitcoin, But Bullish Structure Remains.  Whether it was capital being moved from Bitcoin into COIN during its stock market debut or if it was a classic sell the news event, the top cryptocurrency is red on the day. Bulls were expected to steal the show today but instead, there&#8217;s been a 5% intraday drop from today&#8217;s new all-time high. A [&#8230;] ... [| Skaityti daugiau](https://www.newsbtc.com/news/bitcoin/bitcoin-coinbase-coin-nasdaq/) "
      ],
      "text/plain": [
       "<IPython.core.display.Markdown object>"
      ]
     },
     "execution_count": 4,
     "metadata": {},
     "output_type": "execute_result"
    }
   ],
   "source": [
    "#hide_input\n",
    "#md('##### {}'.format(titleBTC)) \n",
    "md(\"- {}{} {}{} [| Skaityti daugiau]({}) \".format(btc['title'],'. ', btc['body'], ' ...', btc['url']))"
   ]
  },
  {
   "cell_type": "code",
   "execution_count": 5,
   "id": "organic-actress",
   "metadata": {
    "execution": {
     "iopub.execute_input": "2021-04-15T02:07:45.710756Z",
     "iopub.status.busy": "2021-04-15T02:07:45.710046Z",
     "iopub.status.idle": "2021-04-15T02:07:45.714243Z",
     "shell.execute_reply": "2021-04-15T02:07:45.714964Z"
    },
    "papermill": {
     "duration": 0.023133,
     "end_time": "2021-04-15T02:07:45.715112",
     "exception": false,
     "start_time": "2021-04-15T02:07:45.691979",
     "status": "completed"
    },
    "tags": []
   },
   "outputs": [
    {
     "data": {
      "text/markdown": [
       "- $420M in leveraged long traders liquidated after XRP rallies to $1.96.  XRP price dropped by 20% shortly after making a 2021 high at $1.96, but have the altcoin’s bullish fundamentals changed? ... [| Skaityti daugiau](https://cointelegraph.com/news/420m-in-leveraged-long-traders-liquidated-after-xrp-rallies-to-1-96) "
      ],
      "text/plain": [
       "<IPython.core.display.Markdown object>"
      ]
     },
     "execution_count": 5,
     "metadata": {},
     "output_type": "execute_result"
    }
   ],
   "source": [
    "#hide_input\n",
    "#md('##### {}'.format(titleBTC)) \n",
    "md(\"- {}{} {}{} [| Skaityti daugiau]({}) \".format(xrp['title'],'. ', xrp['body'], ' ...', xrp['url']))"
   ]
  },
  {
   "cell_type": "code",
   "execution_count": 6,
   "id": "prompt-farmer",
   "metadata": {
    "execution": {
     "iopub.execute_input": "2021-04-15T02:07:45.753456Z",
     "iopub.status.busy": "2021-04-15T02:07:45.752826Z",
     "iopub.status.idle": "2021-04-15T02:07:45.757539Z",
     "shell.execute_reply": "2021-04-15T02:07:45.756975Z"
    },
    "papermill": {
     "duration": 0.025138,
     "end_time": "2021-04-15T02:07:45.757657",
     "exception": false,
     "start_time": "2021-04-15T02:07:45.732519",
     "status": "completed"
    },
    "tags": []
   },
   "outputs": [
    {
     "data": {
      "text/markdown": [
       "- Tron, Neo, IOST Price Analysis: 14 April.  With Bitcoin trading north of $64K and Ethereum above $2,300, the broader altcoin market rallied along with the market leaders and posted gains over the last 24 hours. Tron, Neo, and IOST all saw breakouts from their symmetrical triangles and projected even higher levels, before individual pullbacks. Tron [TRX] Since a bounce back from the [&#8230;] ... [| Skaityti daugiau](https://ambcrypto.com/tron-neo-iost-price-analysis-14-april/) "
      ],
      "text/plain": [
       "<IPython.core.display.Markdown object>"
      ]
     },
     "execution_count": 6,
     "metadata": {},
     "output_type": "execute_result"
    }
   ],
   "source": [
    "#hide_input\n",
    "#md('##### {}'.format(titleBTC)) \n",
    "md(\"- {}{} {}{} [| Skaityti daugiau]({}) \".format(trx['title'],'. ', trx['body'], ' ...', trx['url']))"
   ]
  },
  {
   "cell_type": "code",
   "execution_count": 7,
   "id": "illegal-greece",
   "metadata": {
    "execution": {
     "iopub.execute_input": "2021-04-15T02:07:45.791466Z",
     "iopub.status.busy": "2021-04-15T02:07:45.790674Z",
     "iopub.status.idle": "2021-04-15T02:07:45.793699Z",
     "shell.execute_reply": "2021-04-15T02:07:45.794208Z"
    },
    "papermill": {
     "duration": 0.023258,
     "end_time": "2021-04-15T02:07:45.794354",
     "exception": false,
     "start_time": "2021-04-15T02:07:45.771096",
     "status": "completed"
    },
    "tags": []
   },
   "outputs": [
    {
     "data": {
      "text/markdown": [
       "- WallStreetBets Reddit Group Opens Up to Bitcoin, Ethereum, Dogecoin.  WallStreetBets (WSB), the Reddit forum that helped boost GameStop's stock price, will start allowing discussion about Bitcoin, Ethereum, and Dogecoin. ... [| Skaityti daugiau](https://decrypt.co/66567/wallstreetbets-reddit-group-opens-bitcoin-ethereum-dogecoin) "
      ],
      "text/plain": [
       "<IPython.core.display.Markdown object>"
      ]
     },
     "execution_count": 7,
     "metadata": {},
     "output_type": "execute_result"
    }
   ],
   "source": [
    "#hide_input\n",
    "#md('##### {}'.format(titleBTC)) \n",
    "md(\"- {}{} {}{} [| Skaityti daugiau]({}) \".format(eth['title'],'. ', eth['body'], ' ...', eth['url']))"
   ]
  },
  {
   "cell_type": "code",
   "execution_count": 8,
   "id": "sublime-lounge",
   "metadata": {
    "execution": {
     "iopub.execute_input": "2021-04-15T02:07:45.826784Z",
     "iopub.status.busy": "2021-04-15T02:07:45.826134Z",
     "iopub.status.idle": "2021-04-15T02:07:45.828854Z",
     "shell.execute_reply": "2021-04-15T02:07:45.829410Z"
    },
    "papermill": {
     "duration": 0.021051,
     "end_time": "2021-04-15T02:07:45.829542",
     "exception": false,
     "start_time": "2021-04-15T02:07:45.808491",
     "status": "completed"
    },
    "tags": []
   },
   "outputs": [
    {
     "data": {
      "text/markdown": [
       "- Price analysis 4/14: BTC, ETH, BNB, XRP, ADA, DOT, UNI, LTC, DOGE, LINK.  Today's Coinbase (COIN) listing is likely to remain a focal point that will dictate the short-term price action in Bitcoin and altcoins. ... [| Skaityti daugiau](https://cointelegraph.com/news/price-analysis-4-14-btc-eth-bnb-xrp-ada-dot-uni-ltc-doge-link) "
      ],
      "text/plain": [
       "<IPython.core.display.Markdown object>"
      ]
     },
     "execution_count": 8,
     "metadata": {},
     "output_type": "execute_result"
    }
   ],
   "source": [
    "#hide_input\n",
    "#md('##### {}'.format(titleBTC)) \n",
    "md(\"- {}{} {}{} [| Skaityti daugiau]({}) \".format(ada['title'],'. ', ada['body'], ' ...', ada['url']))"
   ]
  },
  {
   "cell_type": "code",
   "execution_count": 9,
   "id": "specified-ordering",
   "metadata": {
    "execution": {
     "iopub.execute_input": "2021-04-15T02:07:45.861565Z",
     "iopub.status.busy": "2021-04-15T02:07:45.860949Z",
     "iopub.status.idle": "2021-04-15T02:07:45.865671Z",
     "shell.execute_reply": "2021-04-15T02:07:45.866237Z"
    },
    "papermill": {
     "duration": 0.023335,
     "end_time": "2021-04-15T02:07:45.866362",
     "exception": false,
     "start_time": "2021-04-15T02:07:45.843027",
     "status": "completed"
    },
    "tags": []
   },
   "outputs": [
    {
     "data": {
      "text/markdown": [
       "- Here’s Why Binance Coin Is Skyrocketing, According to Crypto Analyst Nicolas Merten.  Popular analyst and trader Nicholas Merten is unveiling the key reason that&#8217;s powering Binance Coin&#8217;s current parabolic ascent en route to becoming the third-largest crypto asset. In a new video, Merten tells his 428,000 subscribers that the recent delay in the deployment of Optimism, an update for Ethereum to make it faster and more cost-efficient, [&#8230;]The post Here’s Why Binance Coin Is Skyrocketing, According to Crypto Analyst Nicolas Merten appeared first on The Daily Hodl. ... [| Skaityti daugiau](https://dailyhodl.com/2021/04/14/heres-why-binance-coin-is-skyrocketing-according-to-crypto-analyst-nicolas-merten/) "
      ],
      "text/plain": [
       "<IPython.core.display.Markdown object>"
      ]
     },
     "execution_count": 9,
     "metadata": {},
     "output_type": "execute_result"
    }
   ],
   "source": [
    "#hide_input\n",
    "#md('##### {}'.format(titleBTC)) \n",
    "md(\"- {}{} {}{} [| Skaityti daugiau]({}) \".format(exchange['title'],'. ', exchange['body'], ' ...', exchange['url']))"
   ]
  },
  {
   "cell_type": "code",
   "execution_count": null,
   "id": "tender-livestock",
   "metadata": {
    "papermill": {
     "duration": 0.013458,
     "end_time": "2021-04-15T02:07:45.893548",
     "exception": false,
     "start_time": "2021-04-15T02:07:45.880090",
     "status": "completed"
    },
    "tags": []
   },
   "outputs": [],
   "source": []
  },
  {
   "cell_type": "code",
   "execution_count": null,
   "id": "appreciated-diamond",
   "metadata": {
    "papermill": {
     "duration": 0.014567,
     "end_time": "2021-04-15T02:07:45.922390",
     "exception": false,
     "start_time": "2021-04-15T02:07:45.907823",
     "status": "completed"
    },
    "tags": []
   },
   "outputs": [],
   "source": []
  },
  {
   "cell_type": "code",
   "execution_count": null,
   "id": "romance-sweden",
   "metadata": {
    "papermill": {
     "duration": 0.01401,
     "end_time": "2021-04-15T02:07:45.950374",
     "exception": false,
     "start_time": "2021-04-15T02:07:45.936364",
     "status": "completed"
    },
    "tags": []
   },
   "outputs": [],
   "source": []
  },
  {
   "cell_type": "code",
   "execution_count": null,
   "id": "dietary-statistics",
   "metadata": {
    "papermill": {
     "duration": 0.014113,
     "end_time": "2021-04-15T02:07:45.978605",
     "exception": false,
     "start_time": "2021-04-15T02:07:45.964492",
     "status": "completed"
    },
    "tags": []
   },
   "outputs": [],
   "source": []
  }
 ],
 "metadata": {
  "kernelspec": {
   "display_name": "Python 3",
   "language": "python",
   "name": "python3"
  },
  "language_info": {
   "codemirror_mode": {
    "name": "ipython",
    "version": 3
   },
   "file_extension": ".py",
   "mimetype": "text/x-python",
   "name": "python",
   "nbconvert_exporter": "python",
   "pygments_lexer": "ipython3",
   "version": "3.6.13"
  },
  "papermill": {
   "default_parameters": {},
   "duration": 16.977114,
   "end_time": "2021-04-15T02:07:46.499760",
   "environment_variables": {},
   "exception": null,
   "input_path": "Market-News.ipynb",
   "output_path": "Market-News.ipynb",
   "parameters": {},
   "start_time": "2021-04-15T02:07:29.522646",
   "version": "2.2.2"
  }
 },
 "nbformat": 4,
 "nbformat_minor": 5
}