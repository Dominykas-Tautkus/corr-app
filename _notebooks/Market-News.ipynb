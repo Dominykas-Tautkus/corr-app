{
 "cells": [
  {
   "cell_type": "markdown",
   "id": "short-greensboro",
   "metadata": {
    "papermill": {
     "duration": 0.01327,
     "end_time": "2021-06-10T02:20:03.158036",
     "exception": false,
     "start_time": "2021-06-10T02:20:03.144766",
     "status": "completed"
    },
    "tags": []
   },
   "source": [
    "# Kriptovaliutų naujienos"
   ]
  },
  {
   "cell_type": "code",
   "execution_count": 1,
   "id": "functioning-knowing",
   "metadata": {
    "execution": {
     "iopub.execute_input": "2021-06-10T02:20:03.192019Z",
     "iopub.status.busy": "2021-06-10T02:20:03.191448Z",
     "iopub.status.idle": "2021-06-10T02:20:04.358204Z",
     "shell.execute_reply": "2021-06-10T02:20:04.357509Z"
    },
    "papermill": {
     "duration": 1.18648,
     "end_time": "2021-06-10T02:20:04.358436",
     "exception": false,
     "start_time": "2021-06-10T02:20:03.171956",
     "status": "completed"
    },
    "tags": []
   },
   "outputs": [],
   "source": [
    "#hide_input\n",
    "import warnings\n",
    "warnings.filterwarnings('ignore')\n",
    "from scripts.read_data import read_api\n",
    "from scripts.read_data import read_news\n",
    "from scripts.read_data import read_covid\n",
    "import matplotlib.pyplot as plt \n",
    "from IPython.display import Markdown as md"
   ]
  },
  {
   "cell_type": "code",
   "execution_count": 2,
   "id": "shared-acceptance",
   "metadata": {
    "execution": {
     "iopub.execute_input": "2021-06-10T02:20:04.384711Z",
     "iopub.status.busy": "2021-06-10T02:20:04.383783Z",
     "iopub.status.idle": "2021-06-10T02:20:13.338490Z",
     "shell.execute_reply": "2021-06-10T02:20:13.338034Z"
    },
    "papermill": {
     "duration": 8.970073,
     "end_time": "2021-06-10T02:20:13.338614",
     "exception": false,
     "start_time": "2021-06-10T02:20:04.368541",
     "status": "completed"
    },
    "tags": []
   },
   "outputs": [],
   "source": [
    "#hide_input\n",
    "blockchain = read_news('blockchain') \n",
    "btc = read_news('btc') \n",
    "xrp = read_news('xrp') \n",
    "trx = read_news('trx') \n",
    "eth = read_news('eth')  \n",
    "ada = read_news('ada')\n",
    "exchange = read_news('exchange') "
   ]
  },
  {
   "cell_type": "code",
   "execution_count": 3,
   "id": "synthetic-notion",
   "metadata": {
    "execution": {
     "iopub.execute_input": "2021-06-10T02:20:13.364320Z",
     "iopub.status.busy": "2021-06-10T02:20:13.363806Z",
     "iopub.status.idle": "2021-06-10T02:20:13.366737Z",
     "shell.execute_reply": "2021-06-10T02:20:13.366229Z"
    },
    "papermill": {
     "duration": 0.018399,
     "end_time": "2021-06-10T02:20:13.366838",
     "exception": false,
     "start_time": "2021-06-10T02:20:13.348439",
     "status": "completed"
    },
    "tags": []
   },
   "outputs": [
    {
     "data": {
      "text/markdown": [
       "- Sunshine and low taxes: why crypto companies are moving to Miami.  Quick TakeCrypto firms are flocking to Miami, setting up new offices in the Floridian city.An alluring tax environment and a business-friendly mayor have played a role.The push by some firms to set up shop in Miami was on full display during a recent industry event. ... [| Skaityti daugiau](https://www.theblockcrypto.com/daily/107430/sunshine-and-low-taxes-why-crypto-companies-are-moving-to-miami?utm_source=cryptocompare&utm_medium=rss) "
      ],
      "text/plain": [
       "<IPython.core.display.Markdown object>"
      ]
     },
     "execution_count": 3,
     "metadata": {},
     "output_type": "execute_result"
    }
   ],
   "source": [
    "#hide_input\n",
    "#md('##### {}'.format(titleBTC)) \n",
    "md(\"- {}{} {}{} [| Skaityti daugiau]({}) \".format(blockchain['title'],'. ', blockchain['body'], ' ...', blockchain['url']))"
   ]
  },
  {
   "cell_type": "code",
   "execution_count": 4,
   "id": "aging-caution",
   "metadata": {
    "execution": {
     "iopub.execute_input": "2021-06-10T02:20:13.389847Z",
     "iopub.status.busy": "2021-06-10T02:20:13.389304Z",
     "iopub.status.idle": "2021-06-10T02:20:13.392002Z",
     "shell.execute_reply": "2021-06-10T02:20:13.392478Z"
    },
    "papermill": {
     "duration": 0.016565,
     "end_time": "2021-06-10T02:20:13.392589",
     "exception": false,
     "start_time": "2021-06-10T02:20:13.376024",
     "status": "completed"
    },
    "tags": []
   },
   "outputs": [
    {
     "data": {
      "text/markdown": [
       "- Proposed New York Bitcoin mining ban watered down to allow green projects.  New York senators have amended a proposal to ban all crypto mining for three years, and are now seeking to only stop mining firms backed by carbon-based fuel sources.  ... [| Skaityti daugiau](https://cointelegraph.com/news/proposed-new-york-mining-ban-watered-down-to-allow-green-projects) "
      ],
      "text/plain": [
       "<IPython.core.display.Markdown object>"
      ]
     },
     "execution_count": 4,
     "metadata": {},
     "output_type": "execute_result"
    }
   ],
   "source": [
    "#hide_input\n",
    "#md('##### {}'.format(titleBTC)) \n",
    "md(\"- {}{} {}{} [| Skaityti daugiau]({}) \".format(btc['title'],'. ', btc['body'], ' ...', btc['url']))"
   ]
  },
  {
   "cell_type": "code",
   "execution_count": 5,
   "id": "organic-actress",
   "metadata": {
    "execution": {
     "iopub.execute_input": "2021-06-10T02:20:13.415368Z",
     "iopub.status.busy": "2021-06-10T02:20:13.414674Z",
     "iopub.status.idle": "2021-06-10T02:20:13.418306Z",
     "shell.execute_reply": "2021-06-10T02:20:13.417868Z"
    },
    "papermill": {
     "duration": 0.015932,
     "end_time": "2021-06-10T02:20:13.418403",
     "exception": false,
     "start_time": "2021-06-10T02:20:13.402471",
     "status": "completed"
    },
    "tags": []
   },
   "outputs": [
    {
     "data": {
      "text/markdown": [
       "- Ripple Proposes Federated Sidechains to ‘Unlock DeFi Capabilities’.  Ripple’s Chief Technology Officer David Schwartz has proposed the introduction of federation sidechains to allow developers to implement smart contracts and decentralized finance (DeFi) capabilities adjacent to the XRP Ledger. In a blog post, Schwartz noted that Ripple has been resisting adding smart contracts capabilities to the XRP Ledger because of the risk of compromising […] ... [| Skaityti daugiau](https://www.cryptoglobe.com/latest/2021/06/ripple-proposes-federated-sidechains-to-unlock-defi-capabilities-on-xrp-ledger/) "
      ],
      "text/plain": [
       "<IPython.core.display.Markdown object>"
      ]
     },
     "execution_count": 5,
     "metadata": {},
     "output_type": "execute_result"
    }
   ],
   "source": [
    "#hide_input\n",
    "#md('##### {}'.format(titleBTC)) \n",
    "md(\"- {}{} {}{} [| Skaityti daugiau]({}) \".format(xrp['title'],'. ', xrp['body'], ' ...', xrp['url']))"
   ]
  },
  {
   "cell_type": "code",
   "execution_count": 6,
   "id": "prompt-farmer",
   "metadata": {
    "execution": {
     "iopub.execute_input": "2021-06-10T02:20:13.443723Z",
     "iopub.status.busy": "2021-06-10T02:20:13.443195Z",
     "iopub.status.idle": "2021-06-10T02:20:13.446475Z",
     "shell.execute_reply": "2021-06-10T02:20:13.446890Z"
    },
    "papermill": {
     "duration": 0.018644,
     "end_time": "2021-06-10T02:20:13.447053",
     "exception": false,
     "start_time": "2021-06-10T02:20:13.428409",
     "status": "completed"
    },
    "tags": []
   },
   "outputs": [
    {
     "data": {
      "text/markdown": [
       "- Tron (TRX) Price Analysis: Risk of More Downsides Below $0.062.  Tron price is trading in a bearish zone below the main $0.0800 resistance against the US Dollar. TRX price is now trading below $0.0750 and the 55 simple moving average (4-hours). There was a break below a key bullish trend line with support near $0.0780 on the 4-hours chart (data feed via Bitfinex). The pair...The post Tron (TRX) Price Analysis: Risk of More Downsides Below $0.062 appeared first on Live Bitcoin News. ... [| Skaityti daugiau](https://www.livebitcoinnews.com/tron-trx-price-analysis-risk-of-more-downsides-below-0-062/) "
      ],
      "text/plain": [
       "<IPython.core.display.Markdown object>"
      ]
     },
     "execution_count": 6,
     "metadata": {},
     "output_type": "execute_result"
    }
   ],
   "source": [
    "#hide_input\n",
    "#md('##### {}'.format(titleBTC)) \n",
    "md(\"- {}{} {}{} [| Skaityti daugiau]({}) \".format(trx['title'],'. ', trx['body'], ' ...', trx['url']))"
   ]
  },
  {
   "cell_type": "code",
   "execution_count": 7,
   "id": "illegal-greece",
   "metadata": {
    "execution": {
     "iopub.execute_input": "2021-06-10T02:20:13.471869Z",
     "iopub.status.busy": "2021-06-10T02:20:13.470966Z",
     "iopub.status.idle": "2021-06-10T02:20:13.474483Z",
     "shell.execute_reply": "2021-06-10T02:20:13.474969Z"
    },
    "papermill": {
     "duration": 0.017454,
     "end_time": "2021-06-10T02:20:13.475079",
     "exception": false,
     "start_time": "2021-06-10T02:20:13.457625",
     "status": "completed"
    },
    "tags": []
   },
   "outputs": [
    {
     "data": {
      "text/markdown": [
       "- Employee Found Mining Ethereum Beneath Seoul’s Premier Opera House.  Seoul Arts Center, An employee at South Korea’s most prestigious arts center and opera house – the Seoul Arts Center, in the affluent south-central part of the capital – has been found secretly mining Ethereum (ETH) in a basement room, using the center’s electricity.Per Hangook Ilbo and YTN, the unnamed member of the center’s staff, presumably a ... [| Skaityti daugiau](https://cryptonews.com/news/employee-found-mining-ethereum-beneath-seoul-s-premier-opera-10630.htm) "
      ],
      "text/plain": [
       "<IPython.core.display.Markdown object>"
      ]
     },
     "execution_count": 7,
     "metadata": {},
     "output_type": "execute_result"
    }
   ],
   "source": [
    "#hide_input\n",
    "#md('##### {}'.format(titleBTC)) \n",
    "md(\"- {}{} {}{} [| Skaityti daugiau]({}) \".format(eth['title'],'. ', eth['body'], ' ...', eth['url']))"
   ]
  },
  {
   "cell_type": "code",
   "execution_count": 8,
   "id": "sublime-lounge",
   "metadata": {
    "execution": {
     "iopub.execute_input": "2021-06-10T02:20:13.502289Z",
     "iopub.status.busy": "2021-06-10T02:20:13.501508Z",
     "iopub.status.idle": "2021-06-10T02:20:13.504808Z",
     "shell.execute_reply": "2021-06-10T02:20:13.504308Z"
    },
    "papermill": {
     "duration": 0.018276,
     "end_time": "2021-06-10T02:20:13.504937",
     "exception": false,
     "start_time": "2021-06-10T02:20:13.486661",
     "status": "completed"
    },
    "tags": []
   },
   "outputs": [
    {
     "data": {
      "text/markdown": [
       "- Ethereum and Cardano Waiting for This Signal To Launch Huge Breakouts, Says Top Trader.  Closely-followed crypto trader and analyst Michaël van de Poppe says that Ethereum (ETH) and Cardano (ADA) are waiting for one signal before launching huge breakouts. In a series of tweets, Van de Poppe tells his 335,000 followers that despite the less-than-ideal look of the crypto markets, altcoins are still just in a consolidation phase against [&#8230;]The post Ethereum and Cardano Waiting for This Signal To Launch Huge Breakouts, Says Top Trader appeared first on The Daily Hodl. ... [| Skaityti daugiau](https://dailyhodl.com/2021/06/09/ethereum-and-cardano-waiting-for-this-signal-to-launch-huge-breakouts-says-top-trader/) "
      ],
      "text/plain": [
       "<IPython.core.display.Markdown object>"
      ]
     },
     "execution_count": 8,
     "metadata": {},
     "output_type": "execute_result"
    }
   ],
   "source": [
    "#hide_input\n",
    "#md('##### {}'.format(titleBTC)) \n",
    "md(\"- {}{} {}{} [| Skaityti daugiau]({}) \".format(ada['title'],'. ', ada['body'], ' ...', ada['url']))"
   ]
  },
  {
   "cell_type": "code",
   "execution_count": 9,
   "id": "specified-ordering",
   "metadata": {
    "execution": {
     "iopub.execute_input": "2021-06-10T02:20:13.533232Z",
     "iopub.status.busy": "2021-06-10T02:20:13.532604Z",
     "iopub.status.idle": "2021-06-10T02:20:13.535441Z",
     "shell.execute_reply": "2021-06-10T02:20:13.534890Z"
    },
    "papermill": {
     "duration": 0.018864,
     "end_time": "2021-06-10T02:20:13.535542",
     "exception": false,
     "start_time": "2021-06-10T02:20:13.516678",
     "status": "completed"
    },
    "tags": []
   },
   "outputs": [
    {
     "data": {
      "text/markdown": [
       "- Dogecoin, XRP, Binance Coin Price Analysis: 09 June.  Dogecoin&#8217;s price has fallen further down and was trading at $0.3280. The asset was witnessing a consolidation phase as it tried to recover from a period of bearish volatility. The spot market was indicating an ongoing tussle between the buyers and sellers, keeping the price in its current restricted range. Dogecoin The 4-hour chart noted [&#8230;] ... [| Skaityti daugiau](https://ambcrypto.com/dogecoin-xrp-binance-coin-price-analysis-09-june/) "
      ],
      "text/plain": [
       "<IPython.core.display.Markdown object>"
      ]
     },
     "execution_count": 9,
     "metadata": {},
     "output_type": "execute_result"
    }
   ],
   "source": [
    "#hide_input\n",
    "#md('##### {}'.format(titleBTC)) \n",
    "md(\"- {}{} {}{} [| Skaityti daugiau]({}) \".format(exchange['title'],'. ', exchange['body'], ' ...', exchange['url']))"
   ]
  },
  {
   "cell_type": "code",
   "execution_count": null,
   "id": "tender-livestock",
   "metadata": {
    "papermill": {
     "duration": 0.012557,
     "end_time": "2021-06-10T02:20:13.565113",
     "exception": false,
     "start_time": "2021-06-10T02:20:13.552556",
     "status": "completed"
    },
    "tags": []
   },
   "outputs": [],
   "source": []
  },
  {
   "cell_type": "code",
   "execution_count": null,
   "id": "appreciated-diamond",
   "metadata": {
    "papermill": {
     "duration": 0.012294,
     "end_time": "2021-06-10T02:20:13.589820",
     "exception": false,
     "start_time": "2021-06-10T02:20:13.577526",
     "status": "completed"
    },
    "tags": []
   },
   "outputs": [],
   "source": []
  },
  {
   "cell_type": "code",
   "execution_count": null,
   "id": "romance-sweden",
   "metadata": {
    "papermill": {
     "duration": 0.013042,
     "end_time": "2021-06-10T02:20:13.616023",
     "exception": false,
     "start_time": "2021-06-10T02:20:13.602981",
     "status": "completed"
    },
    "tags": []
   },
   "outputs": [],
   "source": []
  },
  {
   "cell_type": "code",
   "execution_count": null,
   "id": "dietary-statistics",
   "metadata": {
    "papermill": {
     "duration": 0.012794,
     "end_time": "2021-06-10T02:20:13.641632",
     "exception": false,
     "start_time": "2021-06-10T02:20:13.628838",
     "status": "completed"
    },
    "tags": []
   },
   "outputs": [],
   "source": []
  }
 ],
 "metadata": {
  "kernelspec": {
   "display_name": "Python 3",
   "language": "python",
   "name": "python3"
  },
  "language_info": {
   "codemirror_mode": {
    "name": "ipython",
    "version": 3
   },
   "file_extension": ".py",
   "mimetype": "text/x-python",
   "name": "python",
   "nbconvert_exporter": "python",
   "pygments_lexer": "ipython3",
   "version": "3.6.13"
  },
  "papermill": {
   "default_parameters": {},
   "duration": 11.955678,
   "end_time": "2021-06-10T02:20:14.062113",
   "environment_variables": {},
   "exception": null,
   "input_path": "Market-News.ipynb",
   "output_path": "Market-News.ipynb",
   "parameters": {},
   "start_time": "2021-06-10T02:20:02.106435",
   "version": "2.2.2"
  }
 },
 "nbformat": 4,
 "nbformat_minor": 5
}