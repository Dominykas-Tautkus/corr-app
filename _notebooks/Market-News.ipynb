{
 "cells": [
  {
   "cell_type": "markdown",
   "id": "short-greensboro",
   "metadata": {
    "papermill": {
     "duration": 0.013985,
     "end_time": "2021-03-17T01:48:38.642284",
     "exception": false,
     "start_time": "2021-03-17T01:48:38.628299",
     "status": "completed"
    },
    "tags": []
   },
   "source": [
    "# Kriptovaliutų naujienos"
   ]
  },
  {
   "cell_type": "code",
   "execution_count": 1,
   "id": "functioning-knowing",
   "metadata": {
    "execution": {
     "iopub.execute_input": "2021-03-17T01:48:38.674950Z",
     "iopub.status.busy": "2021-03-17T01:48:38.674407Z",
     "iopub.status.idle": "2021-03-17T01:48:39.722413Z",
     "shell.execute_reply": "2021-03-17T01:48:39.721520Z"
    },
    "papermill": {
     "duration": 1.071484,
     "end_time": "2021-03-17T01:48:39.722645",
     "exception": false,
     "start_time": "2021-03-17T01:48:38.651161",
     "status": "completed"
    },
    "tags": []
   },
   "outputs": [],
   "source": [
    "#hide_input\n",
    "import warnings\n",
    "warnings.filterwarnings('ignore')\n",
    "from scripts.read_data import read_api\n",
    "from scripts.read_data import read_news\n",
    "from scripts.read_data import read_covid\n",
    "import matplotlib.pyplot as plt \n",
    "from IPython.display import Markdown as md"
   ]
  },
  {
   "cell_type": "code",
   "execution_count": 2,
   "id": "shared-acceptance",
   "metadata": {
    "execution": {
     "iopub.execute_input": "2021-03-17T01:48:39.745814Z",
     "iopub.status.busy": "2021-03-17T01:48:39.744784Z",
     "iopub.status.idle": "2021-03-17T01:48:48.339482Z",
     "shell.execute_reply": "2021-03-17T01:48:48.338224Z"
    },
    "papermill": {
     "duration": 8.608515,
     "end_time": "2021-03-17T01:48:48.339623",
     "exception": false,
     "start_time": "2021-03-17T01:48:39.731108",
     "status": "completed"
    },
    "tags": []
   },
   "outputs": [],
   "source": [
    "#hide_input\n",
    "blockchain = read_news('blockchain') \n",
    "btc = read_news('btc') \n",
    "xrp = read_news('xrp') \n",
    "trx = read_news('trx') \n",
    "eth = read_news('eth')  \n",
    "ada = read_news('ada')\n",
    "exchange = read_news('exchange') "
   ]
  },
  {
   "cell_type": "code",
   "execution_count": 3,
   "id": "synthetic-notion",
   "metadata": {
    "execution": {
     "iopub.execute_input": "2021-03-17T01:48:48.362383Z",
     "iopub.status.busy": "2021-03-17T01:48:48.361763Z",
     "iopub.status.idle": "2021-03-17T01:48:48.368275Z",
     "shell.execute_reply": "2021-03-17T01:48:48.367752Z"
    },
    "papermill": {
     "duration": 0.019046,
     "end_time": "2021-03-17T01:48:48.368390",
     "exception": false,
     "start_time": "2021-03-17T01:48:48.349344",
     "status": "completed"
    },
    "tags": []
   },
   "outputs": [
    {
     "data": {
      "text/markdown": [
       "- Reno’s Link Marine Mayor Is Minting Burning Man NFTs, Sponsoring Hackathons.  Reno Mayor Hillary Schieve is looking to a Chainlink hackathon for ideas on improving government. She recently announced her plans for a Reno DAO on the Tezos blockchain. ... [| Skaityti daugiau](https://decrypt.co/61660/renos-link-marine-mayor-is-minting-burning-man-nfts-sponsoring-hackathons) "
      ],
      "text/plain": [
       "<IPython.core.display.Markdown object>"
      ]
     },
     "execution_count": 3,
     "metadata": {},
     "output_type": "execute_result"
    }
   ],
   "source": [
    "#hide_input\n",
    "#md('##### {}'.format(titleBTC)) \n",
    "md(\"- {}{} {}{} [| Skaityti daugiau]({}) \".format(blockchain['title'],'. ', blockchain['body'], ' ...', blockchain['url']))"
   ]
  },
  {
   "cell_type": "code",
   "execution_count": 4,
   "id": "aging-caution",
   "metadata": {
    "execution": {
     "iopub.execute_input": "2021-03-17T01:48:48.390802Z",
     "iopub.status.busy": "2021-03-17T01:48:48.390288Z",
     "iopub.status.idle": "2021-03-17T01:48:48.393149Z",
     "shell.execute_reply": "2021-03-17T01:48:48.392719Z"
    },
    "papermill": {
     "duration": 0.015572,
     "end_time": "2021-03-17T01:48:48.393248",
     "exception": false,
     "start_time": "2021-03-17T01:48:48.377676",
     "status": "completed"
    },
    "tags": []
   },
   "outputs": [
    {
     "data": {
      "text/markdown": [
       "- Inflation Concerns Supersede Covid-19: 220 Investors Managing $650B Say Economy’s Biggest Risk Is Inflation.  As mainstream media pundits like the Bloomberg economics editor Peter Coy tell Americans to &#8220;tune out the hyperinflation hype,&#8221; fund managers from a recent Bank of America survey who collectively manage $630 billion, believe inflation is the biggest risk to markets right now. Instead of the former concern over Covid-19, the current number one risk [&#8230;] ... [| Skaityti daugiau](https://news.bitcoin.com/inflation-concerns-supersede-covid-19-220-investors-managing-650b-say-economys-biggest-risk-is-inflation/) "
      ],
      "text/plain": [
       "<IPython.core.display.Markdown object>"
      ]
     },
     "execution_count": 4,
     "metadata": {},
     "output_type": "execute_result"
    }
   ],
   "source": [
    "#hide_input\n",
    "#md('##### {}'.format(titleBTC)) \n",
    "md(\"- {}{} {}{} [| Skaityti daugiau]({}) \".format(btc['title'],'. ', btc['body'], ' ...', btc['url']))"
   ]
  },
  {
   "cell_type": "code",
   "execution_count": 5,
   "id": "organic-actress",
   "metadata": {
    "execution": {
     "iopub.execute_input": "2021-03-17T01:48:48.418857Z",
     "iopub.status.busy": "2021-03-17T01:48:48.417638Z",
     "iopub.status.idle": "2021-03-17T01:48:48.421935Z",
     "shell.execute_reply": "2021-03-17T01:48:48.421442Z"
    },
    "papermill": {
     "duration": 0.019585,
     "end_time": "2021-03-17T01:48:48.422036",
     "exception": false,
     "start_time": "2021-03-17T01:48:48.402451",
     "status": "completed"
    },
    "tags": []
   },
   "outputs": [
    {
     "data": {
      "text/markdown": [
       "- Judge denies XRP Army a seat at the table in SEC v. Ripple case.  Lawyers representing XRP investors may still have an opportunity to refile in the future, however. ... [| Skaityti daugiau](https://cointelegraph.com/news/judge-denies-xrp-army-a-seat-at-the-table-in-sec-v-ripple-case) "
      ],
      "text/plain": [
       "<IPython.core.display.Markdown object>"
      ]
     },
     "execution_count": 5,
     "metadata": {},
     "output_type": "execute_result"
    }
   ],
   "source": [
    "#hide_input\n",
    "#md('##### {}'.format(titleBTC)) \n",
    "md(\"- {}{} {}{} [| Skaityti daugiau]({}) \".format(xrp['title'],'. ', xrp['body'], ' ...', xrp['url']))"
   ]
  },
  {
   "cell_type": "code",
   "execution_count": 6,
   "id": "prompt-farmer",
   "metadata": {
    "execution": {
     "iopub.execute_input": "2021-03-17T01:48:48.445531Z",
     "iopub.status.busy": "2021-03-17T01:48:48.444780Z",
     "iopub.status.idle": "2021-03-17T01:48:48.447495Z",
     "shell.execute_reply": "2021-03-17T01:48:48.448060Z"
    },
    "papermill": {
     "duration": 0.017485,
     "end_time": "2021-03-17T01:48:48.448211",
     "exception": false,
     "start_time": "2021-03-17T01:48:48.430726",
     "status": "completed"
    },
    "tags": []
   },
   "outputs": [
    {
     "data": {
      "text/markdown": [
       "- Tron Releases Details of New NFT Standard.  Developers behind the TRON blockchain have published technical details of TRC-721, the project's own standard for NFTs. ... [| Skaityti daugiau](https://decrypt.co/61631/tron-releases-details-of-new-nft-standard) "
      ],
      "text/plain": [
       "<IPython.core.display.Markdown object>"
      ]
     },
     "execution_count": 6,
     "metadata": {},
     "output_type": "execute_result"
    }
   ],
   "source": [
    "#hide_input\n",
    "#md('##### {}'.format(titleBTC)) \n",
    "md(\"- {}{} {}{} [| Skaityti daugiau]({}) \".format(trx['title'],'. ', trx['body'], ' ...', trx['url']))"
   ]
  },
  {
   "cell_type": "code",
   "execution_count": 7,
   "id": "illegal-greece",
   "metadata": {
    "execution": {
     "iopub.execute_input": "2021-03-17T01:48:48.472208Z",
     "iopub.status.busy": "2021-03-17T01:48:48.471741Z",
     "iopub.status.idle": "2021-03-17T01:48:48.474253Z",
     "shell.execute_reply": "2021-03-17T01:48:48.474655Z"
    },
    "papermill": {
     "duration": 0.016249,
     "end_time": "2021-03-17T01:48:48.474758",
     "exception": false,
     "start_time": "2021-03-17T01:48:48.458509",
     "status": "completed"
    },
    "tags": []
   },
   "outputs": [
    {
     "data": {
      "text/markdown": [
       "- Online tire and wheel retailer accepts Dogecoin, Bitcoin, and Ethereum as payment.  It seems like all companies these days want to accept “alternative” payments. But Bitcoin is not the only option out there, at least some firms think DOGE makes for a good alternative currency. Earlier today, retailer Pay Later Tires announced that it will accept payments in Dogecoin, Bitcoin, and Ethereum to purchase tires and wheels [&#8230;] ... [| Skaityti daugiau](https://ambcrypto.com/online-tire-and-wheel-retailer-accepts-dogecoin-bitcoin-and-ethereum-as-payment/) "
      ],
      "text/plain": [
       "<IPython.core.display.Markdown object>"
      ]
     },
     "execution_count": 7,
     "metadata": {},
     "output_type": "execute_result"
    }
   ],
   "source": [
    "#hide_input\n",
    "#md('##### {}'.format(titleBTC)) \n",
    "md(\"- {}{} {}{} [| Skaityti daugiau]({}) \".format(eth['title'],'. ', eth['body'], ' ...', eth['url']))"
   ]
  },
  {
   "cell_type": "code",
   "execution_count": 8,
   "id": "sublime-lounge",
   "metadata": {
    "execution": {
     "iopub.execute_input": "2021-03-17T01:48:48.499114Z",
     "iopub.status.busy": "2021-03-17T01:48:48.498161Z",
     "iopub.status.idle": "2021-03-17T01:48:48.501935Z",
     "shell.execute_reply": "2021-03-17T01:48:48.501509Z"
    },
    "papermill": {
     "duration": 0.016185,
     "end_time": "2021-03-17T01:48:48.502039",
     "exception": false,
     "start_time": "2021-03-17T01:48:48.485854",
     "status": "completed"
    },
    "tags": []
   },
   "outputs": [
    {
     "data": {
      "text/markdown": [
       "- Cardano price prediction: ADA breaks above $1.20 what’s next?.  TL;DR Breakdown Cardano price expected to rise to $1.50 ADA faces resistances in crossing above the $1.20 mark The closest support level lies at $1.10 and further below at $1.00 Cardano price action was breaking down until the ADA found support at the $1.00 mark. The price level enabled ADA to find strong bullish support, [&#8230;] ... [| Skaityti daugiau](https://www.cryptopolitan.com/cardano-price-prediction-2021-03-17/) "
      ],
      "text/plain": [
       "<IPython.core.display.Markdown object>"
      ]
     },
     "execution_count": 8,
     "metadata": {},
     "output_type": "execute_result"
    }
   ],
   "source": [
    "#hide_input\n",
    "#md('##### {}'.format(titleBTC)) \n",
    "md(\"- {}{} {}{} [| Skaityti daugiau]({}) \".format(ada['title'],'. ', ada['body'], ' ...', ada['url']))"
   ]
  },
  {
   "cell_type": "code",
   "execution_count": 9,
   "id": "specified-ordering",
   "metadata": {
    "execution": {
     "iopub.execute_input": "2021-03-17T01:48:48.527024Z",
     "iopub.status.busy": "2021-03-17T01:48:48.525918Z",
     "iopub.status.idle": "2021-03-17T01:48:48.529665Z",
     "shell.execute_reply": "2021-03-17T01:48:48.530171Z"
    },
    "papermill": {
     "duration": 0.017972,
     "end_time": "2021-03-17T01:48:48.530290",
     "exception": false,
     "start_time": "2021-03-17T01:48:48.512318",
     "status": "completed"
    },
    "tags": []
   },
   "outputs": [
    {
     "data": {
      "text/markdown": [
       "- Diginex CEO Predicts Bitcoin Reaching $175K By End of 2021.  The CEO of Nasdaq-listed crypto exchange Diginex says his company’s model predicts bitcoin reaching $175k by the end of the year. ... [| Skaityti daugiau](https://www.cryptoglobe.com/latest/2021/03/bitcoin-price-could-reach-175000-by-end-of-2021-diginex-ceo-predicts/) "
      ],
      "text/plain": [
       "<IPython.core.display.Markdown object>"
      ]
     },
     "execution_count": 9,
     "metadata": {},
     "output_type": "execute_result"
    }
   ],
   "source": [
    "#hide_input\n",
    "#md('##### {}'.format(titleBTC)) \n",
    "md(\"- {}{} {}{} [| Skaityti daugiau]({}) \".format(exchange['title'],'. ', exchange['body'], ' ...', exchange['url']))"
   ]
  },
  {
   "cell_type": "code",
   "execution_count": null,
   "id": "tender-livestock",
   "metadata": {
    "papermill": {
     "duration": 0.010216,
     "end_time": "2021-03-17T01:48:48.550037",
     "exception": false,
     "start_time": "2021-03-17T01:48:48.539821",
     "status": "completed"
    },
    "tags": []
   },
   "outputs": [],
   "source": []
  },
  {
   "cell_type": "code",
   "execution_count": null,
   "id": "appreciated-diamond",
   "metadata": {
    "papermill": {
     "duration": 0.01033,
     "end_time": "2021-03-17T01:48:48.570843",
     "exception": false,
     "start_time": "2021-03-17T01:48:48.560513",
     "status": "completed"
    },
    "tags": []
   },
   "outputs": [],
   "source": []
  },
  {
   "cell_type": "code",
   "execution_count": null,
   "id": "romance-sweden",
   "metadata": {
    "papermill": {
     "duration": 0.010341,
     "end_time": "2021-03-17T01:48:48.591323",
     "exception": false,
     "start_time": "2021-03-17T01:48:48.580982",
     "status": "completed"
    },
    "tags": []
   },
   "outputs": [],
   "source": []
  },
  {
   "cell_type": "code",
   "execution_count": null,
   "id": "dietary-statistics",
   "metadata": {
    "papermill": {
     "duration": 0.01101,
     "end_time": "2021-03-17T01:48:48.613637",
     "exception": false,
     "start_time": "2021-03-17T01:48:48.602627",
     "status": "completed"
    },
    "tags": []
   },
   "outputs": [],
   "source": []
  }
 ],
 "metadata": {
  "kernelspec": {
   "display_name": "Python 3",
   "language": "python",
   "name": "python3"
  },
  "language_info": {
   "codemirror_mode": {
    "name": "ipython",
    "version": 3
   },
   "file_extension": ".py",
   "mimetype": "text/x-python",
   "name": "python",
   "nbconvert_exporter": "python",
   "pygments_lexer": "ipython3",
   "version": "3.6.13"
  },
  "papermill": {
   "default_parameters": {},
   "duration": 12.262244,
   "end_time": "2021-03-17T01:48:49.869145",
   "environment_variables": {},
   "exception": null,
   "input_path": "Market-News.ipynb",
   "output_path": "Market-News.ipynb",
   "parameters": {},
   "start_time": "2021-03-17T01:48:37.606901",
   "version": "2.2.2"
  }
 },
 "nbformat": 4,
 "nbformat_minor": 5
}