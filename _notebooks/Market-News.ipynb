{
 "cells": [
  {
   "cell_type": "markdown",
   "id": "short-greensboro",
   "metadata": {
    "papermill": {
     "duration": 0.016076,
     "end_time": "2021-03-15T01:48:01.497801",
     "exception": false,
     "start_time": "2021-03-15T01:48:01.481725",
     "status": "completed"
    },
    "tags": []
   },
   "source": [
    "# Kriptovaliutų naujienos"
   ]
  },
  {
   "cell_type": "code",
   "execution_count": 1,
   "id": "functioning-knowing",
   "metadata": {
    "execution": {
     "iopub.execute_input": "2021-03-15T01:48:01.531359Z",
     "iopub.status.busy": "2021-03-15T01:48:01.530708Z",
     "iopub.status.idle": "2021-03-15T01:48:02.863153Z",
     "shell.execute_reply": "2021-03-15T01:48:02.862407Z"
    },
    "papermill": {
     "duration": 1.354321,
     "end_time": "2021-03-15T01:48:02.863354",
     "exception": false,
     "start_time": "2021-03-15T01:48:01.509033",
     "status": "completed"
    },
    "tags": []
   },
   "outputs": [],
   "source": [
    "#hide_input\n",
    "import warnings\n",
    "warnings.filterwarnings('ignore')\n",
    "from scripts.read_data import read_api\n",
    "from scripts.read_data import read_news\n",
    "from scripts.read_data import read_covid\n",
    "import matplotlib.pyplot as plt \n",
    "from IPython.display import Markdown as md"
   ]
  },
  {
   "cell_type": "code",
   "execution_count": 2,
   "id": "shared-acceptance",
   "metadata": {
    "execution": {
     "iopub.execute_input": "2021-03-15T01:48:02.894631Z",
     "iopub.status.busy": "2021-03-15T01:48:02.893831Z",
     "iopub.status.idle": "2021-03-15T01:48:14.436096Z",
     "shell.execute_reply": "2021-03-15T01:48:14.435228Z"
    },
    "papermill": {
     "duration": 11.559653,
     "end_time": "2021-03-15T01:48:14.436313",
     "exception": false,
     "start_time": "2021-03-15T01:48:02.876660",
     "status": "completed"
    },
    "tags": []
   },
   "outputs": [],
   "source": [
    "#hide_input\n",
    "blockchain = read_news('blockchain') \n",
    "btc = read_news('btc') \n",
    "xrp = read_news('xrp') \n",
    "trx = read_news('trx') \n",
    "eth = read_news('eth')  \n",
    "ada = read_news('ada')\n",
    "exchange = read_news('exchange') "
   ]
  },
  {
   "cell_type": "code",
   "execution_count": 3,
   "id": "synthetic-notion",
   "metadata": {
    "execution": {
     "iopub.execute_input": "2021-03-15T01:48:14.464706Z",
     "iopub.status.busy": "2021-03-15T01:48:14.464106Z",
     "iopub.status.idle": "2021-03-15T01:48:14.467013Z",
     "shell.execute_reply": "2021-03-15T01:48:14.466557Z"
    },
    "papermill": {
     "duration": 0.018129,
     "end_time": "2021-03-15T01:48:14.467119",
     "exception": false,
     "start_time": "2021-03-15T01:48:14.448990",
     "status": "completed"
    },
    "tags": []
   },
   "outputs": [
    {
     "data": {
      "text/markdown": [
       "- Supply chain tokens see triple-digit gains as the global economy recovers.  Supply chain projects like OriginTrail, Waltonchain and Wabi have rallied in excess of 250% as blockchain interoperability comes into focus. ... [| Skaityti daugiau](https://cointelegraph.com/news/supply-chain-tokens-see-triple-digit-gains-as-the-global-economy-recovers) "
      ],
      "text/plain": [
       "<IPython.core.display.Markdown object>"
      ]
     },
     "execution_count": 3,
     "metadata": {},
     "output_type": "execute_result"
    }
   ],
   "source": [
    "#hide_input\n",
    "#md('##### {}'.format(titleBTC)) \n",
    "md(\"- {}{} {}{} [| Skaityti daugiau]({}) \".format(blockchain['title'],'. ', blockchain['body'], ' ...', blockchain['url']))"
   ]
  },
  {
   "cell_type": "code",
   "execution_count": 4,
   "id": "aging-caution",
   "metadata": {
    "execution": {
     "iopub.execute_input": "2021-03-15T01:48:14.493695Z",
     "iopub.status.busy": "2021-03-15T01:48:14.493119Z",
     "iopub.status.idle": "2021-03-15T01:48:14.496070Z",
     "shell.execute_reply": "2021-03-15T01:48:14.495571Z"
    },
    "papermill": {
     "duration": 0.017302,
     "end_time": "2021-03-15T01:48:14.496172",
     "exception": false,
     "start_time": "2021-03-15T01:48:14.478870",
     "status": "completed"
    },
    "tags": []
   },
   "outputs": [
    {
     "data": {
      "text/markdown": [
       "- Fund Manager Warns Bitcoin Is Pointless and ‘a Particularly Vile Asset Class’.  Tim Bond, a portfolio manager at Odey Asset Management, has warned that bitcoin is pointless, calling the cryptocurrency &#8220;a particularly vile asset class.&#8221; He claims that bitcoin has no real social utility other than as a tool for speculation and a means to launder the proceeds of crime. Fund Manager Sees Bitcoin as a Vile [&#8230;] ... [| Skaityti daugiau](https://news.bitcoin.com/fund-manager-bitcoin-pointless-vile-asset-class/) "
      ],
      "text/plain": [
       "<IPython.core.display.Markdown object>"
      ]
     },
     "execution_count": 4,
     "metadata": {},
     "output_type": "execute_result"
    }
   ],
   "source": [
    "#hide_input\n",
    "#md('##### {}'.format(titleBTC)) \n",
    "md(\"- {}{} {}{} [| Skaityti daugiau]({}) \".format(btc['title'],'. ', btc['body'], ' ...', btc['url']))"
   ]
  },
  {
   "cell_type": "code",
   "execution_count": 5,
   "id": "organic-actress",
   "metadata": {
    "execution": {
     "iopub.execute_input": "2021-03-15T01:48:14.521752Z",
     "iopub.status.busy": "2021-03-15T01:48:14.521173Z",
     "iopub.status.idle": "2021-03-15T01:48:14.524591Z",
     "shell.execute_reply": "2021-03-15T01:48:14.524080Z"
    },
    "papermill": {
     "duration": 0.018419,
     "end_time": "2021-03-15T01:48:14.524704",
     "exception": false,
     "start_time": "2021-03-15T01:48:14.506285",
     "status": "completed"
    },
    "tags": []
   },
   "outputs": [
    {
     "data": {
      "text/markdown": [
       "- Ripple Executives Call Investigation Into Personal Finances an ‘Overreach’.  The legal team for Ripple co-founders Brad Garlinghouse and Chris Larsen have argued investigations into personal finances are irrelevant to the SEC’s ongoing lawsuit. ... [| Skaityti daugiau](https://www.cryptoglobe.com/latest/2021/03/ripple-executives-call-investigation-into-personal-finances-an-overreach/) "
      ],
      "text/plain": [
       "<IPython.core.display.Markdown object>"
      ]
     },
     "execution_count": 5,
     "metadata": {},
     "output_type": "execute_result"
    }
   ],
   "source": [
    "#hide_input\n",
    "#md('##### {}'.format(titleBTC)) \n",
    "md(\"- {}{} {}{} [| Skaityti daugiau]({}) \".format(xrp['title'],'. ', xrp['body'], ' ...', xrp['url']))"
   ]
  },
  {
   "cell_type": "code",
   "execution_count": 6,
   "id": "prompt-farmer",
   "metadata": {
    "execution": {
     "iopub.execute_input": "2021-03-15T01:48:14.551062Z",
     "iopub.status.busy": "2021-03-15T01:48:14.550500Z",
     "iopub.status.idle": "2021-03-15T01:48:14.554019Z",
     "shell.execute_reply": "2021-03-15T01:48:14.553561Z"
    },
    "papermill": {
     "duration": 0.018692,
     "end_time": "2021-03-15T01:48:14.554131",
     "exception": false,
     "start_time": "2021-03-15T01:48:14.535439",
     "status": "completed"
    },
    "tags": []
   },
   "outputs": [
    {
     "data": {
      "text/markdown": [
       "- Tron Price Analysis: 14 March.  Tron has had a strong performance in the markets over the past 6 weeks. At the time of writing, the price appeared to be consolidating in the $0.048 to $0.053 area. The upward trend of TRX remains intact at the time of writing, and some levels of note are highlighted as buying opportunities. Tron 12-hour [&#8230;] ... [| Skaityti daugiau](https://ambcrypto.com/tron-price-analysis-14-march/) "
      ],
      "text/plain": [
       "<IPython.core.display.Markdown object>"
      ]
     },
     "execution_count": 6,
     "metadata": {},
     "output_type": "execute_result"
    }
   ],
   "source": [
    "#hide_input\n",
    "#md('##### {}'.format(titleBTC)) \n",
    "md(\"- {}{} {}{} [| Skaityti daugiau]({}) \".format(trx['title'],'. ', trx['body'], ' ...', trx['url']))"
   ]
  },
  {
   "cell_type": "code",
   "execution_count": 7,
   "id": "illegal-greece",
   "metadata": {
    "execution": {
     "iopub.execute_input": "2021-03-15T01:48:14.581206Z",
     "iopub.status.busy": "2021-03-15T01:48:14.580621Z",
     "iopub.status.idle": "2021-03-15T01:48:14.584291Z",
     "shell.execute_reply": "2021-03-15T01:48:14.583831Z"
    },
    "papermill": {
     "duration": 0.019006,
     "end_time": "2021-03-15T01:48:14.584406",
     "exception": false,
     "start_time": "2021-03-15T01:48:14.565400",
     "status": "completed"
    },
    "tags": []
   },
   "outputs": [
    {
     "data": {
      "text/markdown": [
       "- Gronk Super Bowl NFTs Score $1.6 Million in Ethereum at Auction.  Five Rob Gronkowski-themed NFTs were auctioned off on OpenSea Drops. ... [| Skaityti daugiau](https://decrypt.co/61271/gronk-nfl-nfts-sell-for-millions-in-ethereum) "
      ],
      "text/plain": [
       "<IPython.core.display.Markdown object>"
      ]
     },
     "execution_count": 7,
     "metadata": {},
     "output_type": "execute_result"
    }
   ],
   "source": [
    "#hide_input\n",
    "#md('##### {}'.format(titleBTC)) \n",
    "md(\"- {}{} {}{} [| Skaityti daugiau]({}) \".format(eth['title'],'. ', eth['body'], ' ...', eth['url']))"
   ]
  },
  {
   "cell_type": "code",
   "execution_count": 8,
   "id": "sublime-lounge",
   "metadata": {
    "execution": {
     "iopub.execute_input": "2021-03-15T01:48:14.612781Z",
     "iopub.status.busy": "2021-03-15T01:48:14.612185Z",
     "iopub.status.idle": "2021-03-15T01:48:14.615929Z",
     "shell.execute_reply": "2021-03-15T01:48:14.616396Z"
    },
    "papermill": {
     "duration": 0.020341,
     "end_time": "2021-03-15T01:48:14.616540",
     "exception": false,
     "start_time": "2021-03-15T01:48:14.596199",
     "status": "completed"
    },
    "tags": []
   },
   "outputs": [
    {
     "data": {
      "text/markdown": [
       "- Cardano Price Analysis: 14 March.  The past 24-hours saw increased bullish momentum in the overall crypto market as Bitcoin went past its ATH and surged past $60k. Since then BTC&#8217;s price has managed to move slightly upward. Despite the altcoin market having had a traditionally high correlation with Bitcoin, the bullishness hasn&#8217;t been uniform. Cardano&#8217;s sideways movement continues as the [&#8230;] ... [| Skaityti daugiau](https://ambcrypto.com/cardano-price-analysis-14-march/) "
      ],
      "text/plain": [
       "<IPython.core.display.Markdown object>"
      ]
     },
     "execution_count": 8,
     "metadata": {},
     "output_type": "execute_result"
    }
   ],
   "source": [
    "#hide_input\n",
    "#md('##### {}'.format(titleBTC)) \n",
    "md(\"- {}{} {}{} [| Skaityti daugiau]({}) \".format(ada['title'],'. ', ada['body'], ' ...', ada['url']))"
   ]
  },
  {
   "cell_type": "code",
   "execution_count": 9,
   "id": "specified-ordering",
   "metadata": {
    "execution": {
     "iopub.execute_input": "2021-03-15T01:48:14.645314Z",
     "iopub.status.busy": "2021-03-15T01:48:14.644751Z",
     "iopub.status.idle": "2021-03-15T01:48:14.648104Z",
     "shell.execute_reply": "2021-03-15T01:48:14.647615Z"
    },
    "papermill": {
     "duration": 0.019635,
     "end_time": "2021-03-15T01:48:14.648212",
     "exception": false,
     "start_time": "2021-03-15T01:48:14.628577",
     "status": "completed"
    },
    "tags": []
   },
   "outputs": [
    {
     "data": {
      "text/markdown": [
       "- Elon Musk Wants Coinbase to List Dogecoin as the Cryptocurrency’s Adoption Grows.  Spacex and Tesla CEO Elon Musk has once again tweeted in support of dogecoin. He wants the crypto exchange Coinbase to list the cryptocurrency and says he will get a Shiba Inu, the dog breed featured as the face of dogecoin. Meanwhile, the coin&#8217;s adoption is growing, advocated by celebrities like Mark Cuban. Elon Musk [&#8230;] ... [| Skaityti daugiau](https://news.bitcoin.com/elon-musk-coinbase-dogecoin-cryptocurrency-adoption-grows/) "
      ],
      "text/plain": [
       "<IPython.core.display.Markdown object>"
      ]
     },
     "execution_count": 9,
     "metadata": {},
     "output_type": "execute_result"
    }
   ],
   "source": [
    "#hide_input\n",
    "#md('##### {}'.format(titleBTC)) \n",
    "md(\"- {}{} {}{} [| Skaityti daugiau]({}) \".format(exchange['title'],'. ', exchange['body'], ' ...', exchange['url']))"
   ]
  },
  {
   "cell_type": "code",
   "execution_count": null,
   "id": "tender-livestock",
   "metadata": {
    "papermill": {
     "duration": 0.011984,
     "end_time": "2021-03-15T01:48:14.672290",
     "exception": false,
     "start_time": "2021-03-15T01:48:14.660306",
     "status": "completed"
    },
    "tags": []
   },
   "outputs": [],
   "source": []
  },
  {
   "cell_type": "code",
   "execution_count": null,
   "id": "appreciated-diamond",
   "metadata": {
    "papermill": {
     "duration": 0.012988,
     "end_time": "2021-03-15T01:48:14.697460",
     "exception": false,
     "start_time": "2021-03-15T01:48:14.684472",
     "status": "completed"
    },
    "tags": []
   },
   "outputs": [],
   "source": []
  },
  {
   "cell_type": "code",
   "execution_count": null,
   "id": "romance-sweden",
   "metadata": {
    "papermill": {
     "duration": 0.012088,
     "end_time": "2021-03-15T01:48:14.721444",
     "exception": false,
     "start_time": "2021-03-15T01:48:14.709356",
     "status": "completed"
    },
    "tags": []
   },
   "outputs": [],
   "source": []
  },
  {
   "cell_type": "code",
   "execution_count": null,
   "id": "dietary-statistics",
   "metadata": {
    "papermill": {
     "duration": 0.01196,
     "end_time": "2021-03-15T01:48:14.745640",
     "exception": false,
     "start_time": "2021-03-15T01:48:14.733680",
     "status": "completed"
    },
    "tags": []
   },
   "outputs": [],
   "source": []
  }
 ],
 "metadata": {
  "kernelspec": {
   "display_name": "Python 3",
   "language": "python",
   "name": "python3"
  },
  "language_info": {
   "codemirror_mode": {
    "name": "ipython",
    "version": 3
   },
   "file_extension": ".py",
   "mimetype": "text/x-python",
   "name": "python",
   "nbconvert_exporter": "python",
   "pygments_lexer": "ipython3",
   "version": "3.6.13"
  },
  "papermill": {
   "default_parameters": {},
   "duration": 14.766755,
   "end_time": "2021-03-15T01:48:15.167294",
   "environment_variables": {},
   "exception": null,
   "input_path": "Market-News.ipynb",
   "output_path": "Market-News.ipynb",
   "parameters": {},
   "start_time": "2021-03-15T01:48:00.400539",
   "version": "2.2.2"
  }
 },
 "nbformat": 4,
 "nbformat_minor": 5
}