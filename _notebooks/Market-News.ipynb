{
 "cells": [
  {
   "cell_type": "markdown",
   "metadata": {
    "papermill": {
     "duration": 0.015316,
     "end_time": "2021-01-09T05:34:52.620166",
     "exception": false,
     "start_time": "2021-01-09T05:34:52.604850",
     "status": "completed"
    },
    "tags": []
   },
   "source": [
    "# Kriptovaliutų naujienos"
   ]
  },
  {
   "cell_type": "code",
   "execution_count": 1,
   "metadata": {
    "execution": {
     "iopub.execute_input": "2021-01-09T05:34:52.650817Z",
     "iopub.status.busy": "2021-01-09T05:34:52.649707Z",
     "iopub.status.idle": "2021-01-09T05:34:53.820806Z",
     "shell.execute_reply": "2021-01-09T05:34:53.820058Z"
    },
    "papermill": {
     "duration": 1.193385,
     "end_time": "2021-01-09T05:34:53.821046",
     "exception": false,
     "start_time": "2021-01-09T05:34:52.627661",
     "status": "completed"
    },
    "tags": []
   },
   "outputs": [],
   "source": [
    "#hide_input\n",
    "import warnings\n",
    "warnings.filterwarnings('ignore')\n",
    "from scripts.read_data import read_api\n",
    "from scripts.read_data import read_news\n",
    "from scripts.read_data import read_covid\n",
    "import matplotlib.pyplot as plt \n",
    "from IPython.display import Markdown as md"
   ]
  },
  {
   "cell_type": "code",
   "execution_count": 2,
   "metadata": {
    "execution": {
     "iopub.execute_input": "2021-01-09T05:34:53.843502Z",
     "iopub.status.busy": "2021-01-09T05:34:53.843001Z",
     "iopub.status.idle": "2021-01-09T05:35:02.552438Z",
     "shell.execute_reply": "2021-01-09T05:35:02.552966Z"
    },
    "papermill": {
     "duration": 8.723581,
     "end_time": "2021-01-09T05:35:02.553143",
     "exception": false,
     "start_time": "2021-01-09T05:34:53.829562",
     "status": "completed"
    },
    "tags": []
   },
   "outputs": [],
   "source": [
    "#hide_input\n",
    "blockchain = read_news('blockchain') \n",
    "btc = read_news('btc') \n",
    "xrp = read_news('xrp') \n",
    "trx = read_news('trx') \n",
    "eth = read_news('eth')  \n",
    "ada = read_news('ada')\n",
    "exchange = read_news('exchange') "
   ]
  },
  {
   "cell_type": "code",
   "execution_count": 3,
   "metadata": {
    "execution": {
     "iopub.execute_input": "2021-01-09T05:35:02.575862Z",
     "iopub.status.busy": "2021-01-09T05:35:02.575405Z",
     "iopub.status.idle": "2021-01-09T05:35:02.578508Z",
     "shell.execute_reply": "2021-01-09T05:35:02.578912Z"
    },
    "papermill": {
     "duration": 0.015396,
     "end_time": "2021-01-09T05:35:02.579058",
     "exception": false,
     "start_time": "2021-01-09T05:35:02.563662",
     "status": "completed"
    },
    "tags": []
   },
   "outputs": [
    {
     "data": {
      "text/markdown": [
       "- Warp Finance to use Chainlink price feeds to resist flash loan attacks.  Warp Finance was in the news last month after it took to Twitter to expand on a &#8220;complex flash loan attack&#8221; it was a victim of. In the said incident, bad actors managed to borrow more than the collateral value, while also resulting in the loss of $7.7 million worth of stablecoins from the protocol. [&#8230;] ... [| Skaityti daugiau](https://ambcrypto.com/warp-finance-to-use-chainlink-price-feeds-to-resist-flash-loan-attacks/) "
      ],
      "text/plain": [
       "<IPython.core.display.Markdown object>"
      ]
     },
     "execution_count": 3,
     "metadata": {},
     "output_type": "execute_result"
    }
   ],
   "source": [
    "#hide_input\n",
    "#md('##### {}'.format(titleBTC)) \n",
    "md(\"- {}{} {}{} [| Skaityti daugiau]({}) \".format(blockchain['title'],'. ', blockchain['body'], ' ...', blockchain['url']))"
   ]
  },
  {
   "cell_type": "code",
   "execution_count": 4,
   "metadata": {
    "execution": {
     "iopub.execute_input": "2021-01-09T05:35:02.598701Z",
     "iopub.status.busy": "2021-01-09T05:35:02.598256Z",
     "iopub.status.idle": "2021-01-09T05:35:02.600396Z",
     "shell.execute_reply": "2021-01-09T05:35:02.600832Z"
    },
    "papermill": {
     "duration": 0.014207,
     "end_time": "2021-01-09T05:35:02.600940",
     "exception": false,
     "start_time": "2021-01-09T05:35:02.586733",
     "status": "completed"
    },
    "tags": []
   },
   "outputs": [
    {
     "data": {
      "text/markdown": [
       "- Morgan Stanley Boosts Over 10% Stake In Bitcoin (BTC)-backer MicroSrategy.  Almost every big financial institution in the world has started believing in the Bitcoin (BTC) story. Even the strong Bitcoin critics aka banking institutions are considering exposure to the world&#8217;s third-largest asset class in one or the other way. As per the latest Bloomberg report, American banking multinational Morgan Stanley increased its stake to more The post Morgan Stanley Boosts Over 10% Stake In Bitcoin (BTC)-backer MicroSrategy appeared first on Coingape. ... [| Skaityti daugiau](https://coingape.com/morgan-stanley-boosts-over-10-stake-in-bitcoin-btc-backer-microsrategy/) "
      ],
      "text/plain": [
       "<IPython.core.display.Markdown object>"
      ]
     },
     "execution_count": 4,
     "metadata": {},
     "output_type": "execute_result"
    }
   ],
   "source": [
    "#hide_input\n",
    "#md('##### {}'.format(titleBTC)) \n",
    "md(\"- {}{} {}{} [| Skaityti daugiau]({}) \".format(btc['title'],'. ', btc['body'], ' ...', btc['url']))"
   ]
  },
  {
   "cell_type": "code",
   "execution_count": 5,
   "metadata": {
    "execution": {
     "iopub.execute_input": "2021-01-09T05:35:02.622607Z",
     "iopub.status.busy": "2021-01-09T05:35:02.621542Z",
     "iopub.status.idle": "2021-01-09T05:35:02.624915Z",
     "shell.execute_reply": "2021-01-09T05:35:02.625340Z"
    },
    "papermill": {
     "duration": 0.017691,
     "end_time": "2021-01-09T05:35:02.625446",
     "exception": false,
     "start_time": "2021-01-09T05:35:02.607755",
     "status": "completed"
    },
    "tags": []
   },
   "outputs": [
    {
     "data": {
      "text/markdown": [
       "- SEC Acknowledges XRP’s Use As Fuel for Cross-Border Payments, Says Ripple General Counsel.  Stuart Alderoty, Ripple&#8217;s general counsel, says the U.S. Securities and Exchange Commission (SEC) has acknowledged XRP&#8217;s use as fuel for cross-border payments. The SEC&#8217;s acknowledgement of XRP&#8217;s utility in Ripple&#8217;s cross-border payment product, On-Demand Liquidity (ODL), can be found in the government agency&#8217;s recent lawsuit against the San Francisco-based company. The section of the lawsuit [&#8230;]The post SEC Acknowledges XRP&#8217;s Use As Fuel for Cross-Border Payments, Says Ripple General Counsel appeared first on The Daily Hodl. ... [| Skaityti daugiau](https://dailyhodl.com/2021/01/08/ripple-general-counsel-says-sec-acknowledges-xrps-use-as-fuel-for-cross-border-payments/) "
      ],
      "text/plain": [
       "<IPython.core.display.Markdown object>"
      ]
     },
     "execution_count": 5,
     "metadata": {},
     "output_type": "execute_result"
    }
   ],
   "source": [
    "#hide_input\n",
    "#md('##### {}'.format(titleBTC)) \n",
    "md(\"- {}{} {}{} [| Skaityti daugiau]({}) \".format(xrp['title'],'. ', xrp['body'], ' ...', xrp['url']))"
   ]
  },
  {
   "cell_type": "code",
   "execution_count": 6,
   "metadata": {
    "execution": {
     "iopub.execute_input": "2021-01-09T05:35:02.645285Z",
     "iopub.status.busy": "2021-01-09T05:35:02.644758Z",
     "iopub.status.idle": "2021-01-09T05:35:02.650242Z",
     "shell.execute_reply": "2021-01-09T05:35:02.649639Z"
    },
    "papermill": {
     "duration": 0.016831,
     "end_time": "2021-01-09T05:35:02.650360",
     "exception": false,
     "start_time": "2021-01-09T05:35:02.633529",
     "status": "completed"
    },
    "tags": []
   },
   "outputs": [
    {
     "data": {
      "text/markdown": [
       "- Ethereum, Tron, BAT Price Analysis: 08 January.  Ethereum showed a bearish divergence and was forced to pull back to $1150 on its attempt to climb past $1300, but further gains can be expected for Ether. Tron saw steady demand from buyers that will likely help in further driving the rally, while Basic Attention Token also looked poised for a break out above [&#8230;] ... [| Skaityti daugiau](https://ambcrypto.com/ethereum-tron-bat-price-analysis-08-january/) "
      ],
      "text/plain": [
       "<IPython.core.display.Markdown object>"
      ]
     },
     "execution_count": 6,
     "metadata": {},
     "output_type": "execute_result"
    }
   ],
   "source": [
    "#hide_input\n",
    "#md('##### {}'.format(titleBTC)) \n",
    "md(\"- {}{} {}{} [| Skaityti daugiau]({}) \".format(trx['title'],'. ', trx['body'], ' ...', trx['url']))"
   ]
  },
  {
   "cell_type": "code",
   "execution_count": 7,
   "metadata": {
    "execution": {
     "iopub.execute_input": "2021-01-09T05:35:02.675263Z",
     "iopub.status.busy": "2021-01-09T05:35:02.674675Z",
     "iopub.status.idle": "2021-01-09T05:35:02.680131Z",
     "shell.execute_reply": "2021-01-09T05:35:02.679626Z"
    },
    "papermill": {
     "duration": 0.021577,
     "end_time": "2021-01-09T05:35:02.680237",
     "exception": false,
     "start_time": "2021-01-09T05:35:02.658660",
     "status": "completed"
    },
    "tags": []
   },
   "outputs": [
    {
     "data": {
      "text/markdown": [
       "- Why SushiSwap (SUSHI) Is Surging 10% Higher Today.  SushiSwap&#8216;s native SUSHI token has surged higher over the past few days and weeks. As of this article&#8217;s writing, the cryptocurrency is up 10% in the past 24 hours, pushing to $4.50. SUSHI&#8217;s rally comes as Ethereum has been relatively flat on a day that Bitcoin pushed to $42,000. The Ethereum-based altcoin appears to be [&#8230;] ... [| Skaityti daugiau](https://www.newsbtc.com/analysis/why-sushiswap-sushi-is-surging-10-higher-today/) "
      ],
      "text/plain": [
       "<IPython.core.display.Markdown object>"
      ]
     },
     "execution_count": 7,
     "metadata": {},
     "output_type": "execute_result"
    }
   ],
   "source": [
    "#hide_input\n",
    "#md('##### {}'.format(titleBTC)) \n",
    "md(\"- {}{} {}{} [| Skaityti daugiau]({}) \".format(eth['title'],'. ', eth['body'], ' ...', eth['url']))"
   ]
  },
  {
   "cell_type": "code",
   "execution_count": 8,
   "metadata": {
    "execution": {
     "iopub.execute_input": "2021-01-09T05:35:02.704075Z",
     "iopub.status.busy": "2021-01-09T05:35:02.703022Z",
     "iopub.status.idle": "2021-01-09T05:35:02.705790Z",
     "shell.execute_reply": "2021-01-09T05:35:02.706245Z"
    },
    "papermill": {
     "duration": 0.017899,
     "end_time": "2021-01-09T05:35:02.706371",
     "exception": false,
     "start_time": "2021-01-09T05:35:02.688472",
     "status": "completed"
    },
    "tags": []
   },
   "outputs": [
    {
     "data": {
      "text/markdown": [
       "- Price analysis 1/8: BTC, ETH, XRP, LTC, ADA, DOT, BCH, XLM, LINK, BNB.  Traders are buying every dip and pushing Bitcoin price to new highs on a daily basis, triggering many altcoins to follow suit. ... [| Skaityti daugiau](https://cointelegraph.com/news/price-analysis-1-8-btc-eth-xrp-ltc-ada-dot-bch-xlm-link-bnb) "
      ],
      "text/plain": [
       "<IPython.core.display.Markdown object>"
      ]
     },
     "execution_count": 8,
     "metadata": {},
     "output_type": "execute_result"
    }
   ],
   "source": [
    "#hide_input\n",
    "#md('##### {}'.format(titleBTC)) \n",
    "md(\"- {}{} {}{} [| Skaityti daugiau]({}) \".format(ada['title'],'. ', ada['body'], ' ...', ada['url']))"
   ]
  },
  {
   "cell_type": "code",
   "execution_count": 9,
   "metadata": {
    "execution": {
     "iopub.execute_input": "2021-01-09T05:35:02.731616Z",
     "iopub.status.busy": "2021-01-09T05:35:02.730982Z",
     "iopub.status.idle": "2021-01-09T05:35:02.736157Z",
     "shell.execute_reply": "2021-01-09T05:35:02.736575Z"
    },
    "papermill": {
     "duration": 0.021951,
     "end_time": "2021-01-09T05:35:02.736697",
     "exception": false,
     "start_time": "2021-01-09T05:35:02.714746",
     "status": "completed"
    },
    "tags": []
   },
   "outputs": [
    {
     "data": {
      "text/markdown": [
       "- SEC Acknowledges XRP’s Use As Fuel for Cross-Border Payments, Says Ripple General Counsel.  Stuart Alderoty, Ripple&#8217;s general counsel, says the U.S. Securities and Exchange Commission (SEC) has acknowledged XRP&#8217;s use as fuel for cross-border payments. The SEC&#8217;s acknowledgement of XRP&#8217;s utility in Ripple&#8217;s cross-border payment product, On-Demand Liquidity (ODL), can be found in the government agency&#8217;s recent lawsuit against the San Francisco-based company. The section of the lawsuit [&#8230;]The post SEC Acknowledges XRP&#8217;s Use As Fuel for Cross-Border Payments, Says Ripple General Counsel appeared first on The Daily Hodl. ... [| Skaityti daugiau](https://dailyhodl.com/2021/01/08/ripple-general-counsel-says-sec-acknowledges-xrps-use-as-fuel-for-cross-border-payments/) "
      ],
      "text/plain": [
       "<IPython.core.display.Markdown object>"
      ]
     },
     "execution_count": 9,
     "metadata": {},
     "output_type": "execute_result"
    }
   ],
   "source": [
    "#hide_input\n",
    "#md('##### {}'.format(titleBTC)) \n",
    "md(\"- {}{} {}{} [| Skaityti daugiau]({}) \".format(exchange['title'],'. ', exchange['body'], ' ...', exchange['url']))"
   ]
  },
  {
   "cell_type": "code",
   "execution_count": null,
   "metadata": {
    "papermill": {
     "duration": 0.009624,
     "end_time": "2021-01-09T05:35:02.756227",
     "exception": false,
     "start_time": "2021-01-09T05:35:02.746603",
     "status": "completed"
    },
    "tags": []
   },
   "outputs": [],
   "source": []
  },
  {
   "cell_type": "code",
   "execution_count": null,
   "metadata": {
    "papermill": {
     "duration": 0.010086,
     "end_time": "2021-01-09T05:35:02.777035",
     "exception": false,
     "start_time": "2021-01-09T05:35:02.766949",
     "status": "completed"
    },
    "tags": []
   },
   "outputs": [],
   "source": []
  }
 ],
 "metadata": {
  "kernelspec": {
   "display_name": "Python 3",
   "language": "python",
   "name": "python3"
  },
  "language_info": {
   "codemirror_mode": {
    "name": "ipython",
    "version": 3
   },
   "file_extension": ".py",
   "mimetype": "text/x-python",
   "name": "python",
   "nbconvert_exporter": "python",
   "pygments_lexer": "ipython3",
   "version": "3.6.12"
  },
  "papermill": {
   "default_parameters": {},
   "duration": 11.635695,
   "end_time": "2021-01-09T05:35:03.195769",
   "environment_variables": {},
   "exception": null,
   "input_path": "Market-News.ipynb",
   "output_path": "Market-News.ipynb",
   "parameters": {},
   "start_time": "2021-01-09T05:34:51.560074",
   "version": "2.2.2"
  }
 },
 "nbformat": 4,
 "nbformat_minor": 4
}