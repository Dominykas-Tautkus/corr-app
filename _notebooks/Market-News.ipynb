{
 "cells": [
  {
   "cell_type": "markdown",
   "id": "short-greensboro",
   "metadata": {
    "papermill": {
     "duration": 0.016747,
     "end_time": "2021-02-22T01:41:48.698981",
     "exception": false,
     "start_time": "2021-02-22T01:41:48.682234",
     "status": "completed"
    },
    "tags": []
   },
   "source": [
    "# Kriptovaliutų naujienos"
   ]
  },
  {
   "cell_type": "code",
   "execution_count": 1,
   "id": "functioning-knowing",
   "metadata": {
    "execution": {
     "iopub.execute_input": "2021-02-22T01:41:48.731329Z",
     "iopub.status.busy": "2021-02-22T01:41:48.730727Z",
     "iopub.status.idle": "2021-02-22T01:41:50.003599Z",
     "shell.execute_reply": "2021-02-22T01:41:50.002823Z"
    },
    "papermill": {
     "duration": 1.293819,
     "end_time": "2021-02-22T01:41:50.003775",
     "exception": false,
     "start_time": "2021-02-22T01:41:48.709956",
     "status": "completed"
    },
    "tags": []
   },
   "outputs": [],
   "source": [
    "#hide_input\n",
    "import warnings\n",
    "warnings.filterwarnings('ignore')\n",
    "from scripts.read_data import read_api\n",
    "from scripts.read_data import read_news\n",
    "from scripts.read_data import read_covid\n",
    "import matplotlib.pyplot as plt \n",
    "from IPython.display import Markdown as md"
   ]
  },
  {
   "cell_type": "code",
   "execution_count": 2,
   "id": "shared-acceptance",
   "metadata": {
    "execution": {
     "iopub.execute_input": "2021-02-22T01:41:50.041477Z",
     "iopub.status.busy": "2021-02-22T01:41:50.040578Z",
     "iopub.status.idle": "2021-02-22T01:41:57.661050Z",
     "shell.execute_reply": "2021-02-22T01:41:57.660163Z"
    },
    "papermill": {
     "duration": 7.639464,
     "end_time": "2021-02-22T01:41:57.661266",
     "exception": false,
     "start_time": "2021-02-22T01:41:50.021802",
     "status": "completed"
    },
    "tags": []
   },
   "outputs": [],
   "source": [
    "#hide_input\n",
    "blockchain = read_news('blockchain') \n",
    "btc = read_news('btc') \n",
    "xrp = read_news('xrp') \n",
    "trx = read_news('trx') \n",
    "eth = read_news('eth')  \n",
    "ada = read_news('ada')\n",
    "exchange = read_news('exchange') "
   ]
  },
  {
   "cell_type": "code",
   "execution_count": 3,
   "id": "synthetic-notion",
   "metadata": {
    "execution": {
     "iopub.execute_input": "2021-02-22T01:41:57.688671Z",
     "iopub.status.busy": "2021-02-22T01:41:57.688087Z",
     "iopub.status.idle": "2021-02-22T01:41:57.690445Z",
     "shell.execute_reply": "2021-02-22T01:41:57.690946Z"
    },
    "papermill": {
     "duration": 0.018237,
     "end_time": "2021-02-22T01:41:57.691068",
     "exception": false,
     "start_time": "2021-02-22T01:41:57.672831",
     "status": "completed"
    },
    "tags": []
   },
   "outputs": [
    {
     "data": {
      "text/markdown": [
       "- The Bitcoin Lightning Network Grows Even If You’ve Forgotten About It.  Source: Adobe/Евгений ВершининYou may be forgiven for forgetting about the Lightning Network (LN). The layer-two scaling solution that aims to help Bitcoin (BTC) manage a much higher workload, has been seemingly consigned to the sidelines by the ascent of bitcoin as a store of value and alternative asset.Given its status on the peripheries, you may also be forgiven for thinking ... [| Skaityti daugiau](https://cryptonews.com/exclusives/the-bitcoin-lightning-network-grows-even-if-you-ve-forgotten-9292.htm) "
      ],
      "text/plain": [
       "<IPython.core.display.Markdown object>"
      ]
     },
     "execution_count": 3,
     "metadata": {},
     "output_type": "execute_result"
    }
   ],
   "source": [
    "#hide_input\n",
    "#md('##### {}'.format(titleBTC)) \n",
    "md(\"- {}{} {}{} [| Skaityti daugiau]({}) \".format(blockchain['title'],'. ', blockchain['body'], ' ...', blockchain['url']))"
   ]
  },
  {
   "cell_type": "code",
   "execution_count": 4,
   "id": "aging-caution",
   "metadata": {
    "execution": {
     "iopub.execute_input": "2021-02-22T01:41:57.716036Z",
     "iopub.status.busy": "2021-02-22T01:41:57.715424Z",
     "iopub.status.idle": "2021-02-22T01:41:57.718304Z",
     "shell.execute_reply": "2021-02-22T01:41:57.718847Z"
    },
    "papermill": {
     "duration": 0.017684,
     "end_time": "2021-02-22T01:41:57.718968",
     "exception": false,
     "start_time": "2021-02-22T01:41:57.701284",
     "status": "completed"
    },
    "tags": []
   },
   "outputs": [
    {
     "data": {
      "text/markdown": [
       "- Is Bitcoin’s volatility making its importance felt again?.  Volatility has been an important aspect of Bitcoin over the years. While many would invest in the digital asset due to the allure of volatility, many would use it as a sole reason to maintain distance. Over the course of 2020, volatility has been on a relative decline after March 2020. However, the scenario has [&#8230;] ... [| Skaityti daugiau](https://ambcrypto.com/is-bitcoin-volatility-making-its-importance-felt-again/) "
      ],
      "text/plain": [
       "<IPython.core.display.Markdown object>"
      ]
     },
     "execution_count": 4,
     "metadata": {},
     "output_type": "execute_result"
    }
   ],
   "source": [
    "#hide_input\n",
    "#md('##### {}'.format(titleBTC)) \n",
    "md(\"- {}{} {}{} [| Skaityti daugiau]({}) \".format(btc['title'],'. ', btc['body'], ' ...', btc['url']))"
   ]
  },
  {
   "cell_type": "code",
   "execution_count": 5,
   "id": "organic-actress",
   "metadata": {
    "execution": {
     "iopub.execute_input": "2021-02-22T01:41:57.744001Z",
     "iopub.status.busy": "2021-02-22T01:41:57.743229Z",
     "iopub.status.idle": "2021-02-22T01:41:57.746648Z",
     "shell.execute_reply": "2021-02-22T01:41:57.747123Z"
    },
    "papermill": {
     "duration": 0.017734,
     "end_time": "2021-02-22T01:41:57.747256",
     "exception": false,
     "start_time": "2021-02-22T01:41:57.729522",
     "status": "completed"
    },
    "tags": []
   },
   "outputs": [
    {
     "data": {
      "text/markdown": [
       "- XRP, Algorand, Zcash Price Analysis: 21 February.  XRP formed a triangle pattern that could see a breakout to the upside provided the bulls in the market hold strong at the $0.5 region. Algorand failed to move past $1.42 and was headed lower on the charts, while Zcash showed a drop to $150 is likely. XRP XRP formed a descending triangle pattern and [&#8230;] ... [| Skaityti daugiau](https://ambcrypto.com/xrp-algorand-zcash-price-analysis-21-february/) "
      ],
      "text/plain": [
       "<IPython.core.display.Markdown object>"
      ]
     },
     "execution_count": 5,
     "metadata": {},
     "output_type": "execute_result"
    }
   ],
   "source": [
    "#hide_input\n",
    "#md('##### {}'.format(titleBTC)) \n",
    "md(\"- {}{} {}{} [| Skaityti daugiau]({}) \".format(xrp['title'],'. ', xrp['body'], ' ...', xrp['url']))"
   ]
  },
  {
   "cell_type": "code",
   "execution_count": 6,
   "id": "prompt-farmer",
   "metadata": {
    "execution": {
     "iopub.execute_input": "2021-02-22T01:41:57.774278Z",
     "iopub.status.busy": "2021-02-22T01:41:57.773692Z",
     "iopub.status.idle": "2021-02-22T01:41:57.776757Z",
     "shell.execute_reply": "2021-02-22T01:41:57.777230Z"
    },
    "papermill": {
     "duration": 0.01897,
     "end_time": "2021-02-22T01:41:57.777355",
     "exception": false,
     "start_time": "2021-02-22T01:41:57.758385",
     "status": "completed"
    },
    "tags": []
   },
   "outputs": [
    {
     "data": {
      "text/markdown": [
       "- Tron's Emoji Gets Into Awkward Situation While Justin Sun Goes \"All In\" On DeFi.  Justin Sun's Tron (TRX) has attracted more unwanted media attention this week after French politician Georges Tron was convicted of rape and sexual abuse of staff, flooding France’s social media with the #tron hashtag and the protocol’s logo. On French social media, in many instances, the hashtag #tron, which automatically adds Tron's logo, was accompanied by ... [| Skaityti daugiau](https://cryptonews.com/news/tron-s-emoji-gets-into-awkward-situation-while-justin-sun-go-9281.htm) "
      ],
      "text/plain": [
       "<IPython.core.display.Markdown object>"
      ]
     },
     "execution_count": 6,
     "metadata": {},
     "output_type": "execute_result"
    }
   ],
   "source": [
    "#hide_input\n",
    "#md('##### {}'.format(titleBTC)) \n",
    "md(\"- {}{} {}{} [| Skaityti daugiau]({}) \".format(trx['title'],'. ', trx['body'], ' ...', trx['url']))"
   ]
  },
  {
   "cell_type": "code",
   "execution_count": 7,
   "id": "illegal-greece",
   "metadata": {
    "execution": {
     "iopub.execute_input": "2021-02-22T01:41:57.804469Z",
     "iopub.status.busy": "2021-02-22T01:41:57.803882Z",
     "iopub.status.idle": "2021-02-22T01:41:57.806886Z",
     "shell.execute_reply": "2021-02-22T01:41:57.807335Z"
    },
    "papermill": {
     "duration": 0.018746,
     "end_time": "2021-02-22T01:41:57.807459",
     "exception": false,
     "start_time": "2021-02-22T01:41:57.788713",
     "status": "completed"
    },
    "tags": []
   },
   "outputs": [
    {
     "data": {
      "text/markdown": [
       "- Ethereum price prediction: ETH to break above $2,000 resitance and climb to $2,200.  TL;DR Breakdown Ethereum price expected to rise to $2,200 ETH faces resistance in crossing above the $2,000 mark The closest support level lies at $1,900 and further below at $1,850 Ethereum price rose to challenge the $2,000 psychological price level yesterday. However, the queen of the cryptocurrency market failed to breach the level and was [&#8230;] ... [| Skaityti daugiau](https://www.cryptopolitan.com/ethereum-price-break-above-2000-climb-2200/) "
      ],
      "text/plain": [
       "<IPython.core.display.Markdown object>"
      ]
     },
     "execution_count": 7,
     "metadata": {},
     "output_type": "execute_result"
    }
   ],
   "source": [
    "#hide_input\n",
    "#md('##### {}'.format(titleBTC)) \n",
    "md(\"- {}{} {}{} [| Skaityti daugiau]({}) \".format(eth['title'],'. ', eth['body'], ' ...', eth['url']))"
   ]
  },
  {
   "cell_type": "code",
   "execution_count": 8,
   "id": "sublime-lounge",
   "metadata": {
    "execution": {
     "iopub.execute_input": "2021-02-22T01:41:57.836351Z",
     "iopub.status.busy": "2021-02-22T01:41:57.835770Z",
     "iopub.status.idle": "2021-02-22T01:41:57.838845Z",
     "shell.execute_reply": "2021-02-22T01:41:57.839313Z"
    },
    "papermill": {
     "duration": 0.020234,
     "end_time": "2021-02-22T01:41:57.839427",
     "exception": false,
     "start_time": "2021-02-22T01:41:57.819193",
     "status": "completed"
    },
    "tags": []
   },
   "outputs": [
    {
     "data": {
      "text/markdown": [
       "- Cardano, Crypto.com Coin, Synthetix Price Analysis: 21 February.  Cardano broke out past the $1 level and retested it as support, and eyed $1.34 as a target. Crypto.com Coin ended a long period of accumulation and broke out strongly over the past few days. Synthetix could post some losses in the coming hours. Cardano [ADA] ADA rose above the $1 mark and retested it [&#8230;] ... [| Skaityti daugiau](https://ambcrypto.com/cardano-crypto-com-coin-synthetix-price-analysis-21-february/) "
      ],
      "text/plain": [
       "<IPython.core.display.Markdown object>"
      ]
     },
     "execution_count": 8,
     "metadata": {},
     "output_type": "execute_result"
    }
   ],
   "source": [
    "#hide_input\n",
    "#md('##### {}'.format(titleBTC)) \n",
    "md(\"- {}{} {}{} [| Skaityti daugiau]({}) \".format(ada['title'],'. ', ada['body'], ' ...', ada['url']))"
   ]
  },
  {
   "cell_type": "code",
   "execution_count": 9,
   "id": "specified-ordering",
   "metadata": {
    "execution": {
     "iopub.execute_input": "2021-02-22T01:41:57.869552Z",
     "iopub.status.busy": "2021-02-22T01:41:57.868998Z",
     "iopub.status.idle": "2021-02-22T01:41:57.871913Z",
     "shell.execute_reply": "2021-02-22T01:41:57.871351Z"
    },
    "papermill": {
     "duration": 0.020844,
     "end_time": "2021-02-22T01:41:57.872015",
     "exception": false,
     "start_time": "2021-02-22T01:41:57.851171",
     "status": "completed"
    },
    "tags": []
   },
   "outputs": [
    {
     "data": {
      "text/markdown": [
       "- Ripple Responds to New Complaint From SEC on Alleged Manipulation of XRP.  Ripple&#8217;s top lawyer is responding to the release of an amended court complaint filed by the U.S. Securities and Exchange Commission (SEC). The SEC, which asserts XRP is a security and alleges Ripple illegally sold the digital asset without proper clearance, filed the amended complaint on Thursday. The document adds more details on the role [&#8230;]The post Ripple Responds to New Complaint From SEC on Alleged Manipulation of XRP appeared first on The Daily Hodl. ... [| Skaityti daugiau](https://dailyhodl.com/2021/02/21/ripple-responds-to-new-complaint-from-sec-on-alleged-manipulation-of-xrp/) "
      ],
      "text/plain": [
       "<IPython.core.display.Markdown object>"
      ]
     },
     "execution_count": 9,
     "metadata": {},
     "output_type": "execute_result"
    }
   ],
   "source": [
    "#hide_input\n",
    "#md('##### {}'.format(titleBTC)) \n",
    "md(\"- {}{} {}{} [| Skaityti daugiau]({}) \".format(exchange['title'],'. ', exchange['body'], ' ...', exchange['url']))"
   ]
  },
  {
   "cell_type": "code",
   "execution_count": null,
   "id": "tender-livestock",
   "metadata": {
    "papermill": {
     "duration": 0.012089,
     "end_time": "2021-02-22T01:41:57.897022",
     "exception": false,
     "start_time": "2021-02-22T01:41:57.884933",
     "status": "completed"
    },
    "tags": []
   },
   "outputs": [],
   "source": []
  },
  {
   "cell_type": "code",
   "execution_count": null,
   "id": "appreciated-diamond",
   "metadata": {
    "papermill": {
     "duration": 0.012365,
     "end_time": "2021-02-22T01:41:57.921130",
     "exception": false,
     "start_time": "2021-02-22T01:41:57.908765",
     "status": "completed"
    },
    "tags": []
   },
   "outputs": [],
   "source": []
  },
  {
   "cell_type": "code",
   "execution_count": null,
   "id": "romance-sweden",
   "metadata": {
    "papermill": {
     "duration": 0.011798,
     "end_time": "2021-02-22T01:41:57.945061",
     "exception": false,
     "start_time": "2021-02-22T01:41:57.933263",
     "status": "completed"
    },
    "tags": []
   },
   "outputs": [],
   "source": []
  },
  {
   "cell_type": "code",
   "execution_count": null,
   "id": "dietary-statistics",
   "metadata": {
    "papermill": {
     "duration": 0.012263,
     "end_time": "2021-02-22T01:41:57.969337",
     "exception": false,
     "start_time": "2021-02-22T01:41:57.957074",
     "status": "completed"
    },
    "tags": []
   },
   "outputs": [],
   "source": []
  }
 ],
 "metadata": {
  "kernelspec": {
   "display_name": "Python 3",
   "language": "python",
   "name": "python3"
  },
  "language_info": {
   "codemirror_mode": {
    "name": "ipython",
    "version": 3
   },
   "file_extension": ".py",
   "mimetype": "text/x-python",
   "name": "python",
   "nbconvert_exporter": "python",
   "pygments_lexer": "ipython3",
   "version": "3.6.12"
  },
  "papermill": {
   "default_parameters": {},
   "duration": 10.956264,
   "end_time": "2021-02-22T01:41:58.390181",
   "environment_variables": {},
   "exception": null,
   "input_path": "Market-News.ipynb",
   "output_path": "Market-News.ipynb",
   "parameters": {},
   "start_time": "2021-02-22T01:41:47.433917",
   "version": "2.2.2"
  }
 },
 "nbformat": 4,
 "nbformat_minor": 5
}