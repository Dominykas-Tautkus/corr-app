{
 "cells": [
  {
   "cell_type": "markdown",
   "id": "short-greensboro",
   "metadata": {
    "papermill": {
     "duration": 0.015765,
     "end_time": "2021-06-14T02:03:36.067852",
     "exception": false,
     "start_time": "2021-06-14T02:03:36.052087",
     "status": "completed"
    },
    "tags": []
   },
   "source": [
    "# Kriptovaliutų naujienos"
   ]
  },
  {
   "cell_type": "code",
   "execution_count": 1,
   "id": "functioning-knowing",
   "metadata": {
    "execution": {
     "iopub.execute_input": "2021-06-14T02:03:36.101517Z",
     "iopub.status.busy": "2021-06-14T02:03:36.100916Z",
     "iopub.status.idle": "2021-06-14T02:03:37.462729Z",
     "shell.execute_reply": "2021-06-14T02:03:37.461796Z"
    },
    "papermill": {
     "duration": 1.384072,
     "end_time": "2021-06-14T02:03:37.462979",
     "exception": false,
     "start_time": "2021-06-14T02:03:36.078907",
     "status": "completed"
    },
    "tags": []
   },
   "outputs": [],
   "source": [
    "#hide_input\n",
    "import warnings\n",
    "warnings.filterwarnings('ignore')\n",
    "from scripts.read_data import read_api\n",
    "from scripts.read_data import read_news\n",
    "from scripts.read_data import read_covid\n",
    "import matplotlib.pyplot as plt \n",
    "from IPython.display import Markdown as md"
   ]
  },
  {
   "cell_type": "code",
   "execution_count": 2,
   "id": "shared-acceptance",
   "metadata": {
    "execution": {
     "iopub.execute_input": "2021-06-14T02:03:37.491349Z",
     "iopub.status.busy": "2021-06-14T02:03:37.490762Z",
     "iopub.status.idle": "2021-06-14T02:03:46.081247Z",
     "shell.execute_reply": "2021-06-14T02:03:46.080657Z"
    },
    "papermill": {
     "duration": 8.606843,
     "end_time": "2021-06-14T02:03:46.081386",
     "exception": false,
     "start_time": "2021-06-14T02:03:37.474543",
     "status": "completed"
    },
    "tags": []
   },
   "outputs": [],
   "source": [
    "#hide_input\n",
    "blockchain = read_news('blockchain') \n",
    "btc = read_news('btc') \n",
    "xrp = read_news('xrp') \n",
    "trx = read_news('trx') \n",
    "eth = read_news('eth')  \n",
    "ada = read_news('ada')\n",
    "exchange = read_news('exchange') "
   ]
  },
  {
   "cell_type": "code",
   "execution_count": 3,
   "id": "synthetic-notion",
   "metadata": {
    "execution": {
     "iopub.execute_input": "2021-06-14T02:03:46.110180Z",
     "iopub.status.busy": "2021-06-14T02:03:46.109490Z",
     "iopub.status.idle": "2021-06-14T02:03:46.114263Z",
     "shell.execute_reply": "2021-06-14T02:03:46.113743Z"
    },
    "papermill": {
     "duration": 0.021684,
     "end_time": "2021-06-14T02:03:46.114389",
     "exception": false,
     "start_time": "2021-06-14T02:03:46.092705",
     "status": "completed"
    },
    "tags": []
   },
   "outputs": [
    {
     "data": {
      "text/markdown": [
       "- This Emerging Altcoin Is More Exciting Long-Term Bet Than Ethereum, Says Prominent Crypto Trader.  A high-profile pseudonymous crypto trader says that one emerging smart contract platform may pose a more enticing long-term investment than top blockchain network, Ethereum. The analyst and trader known in the industry as The Crypto Dog, is spotlighting scalable layer 1 blockchain project Solana (SOL) amid the crypto market breakdown. The Crypto Dog believes that [&#8230;]The post This Emerging Altcoin Is More Exciting Long-Term Bet Than Ethereum, Says Prominent Crypto Trader appeared first on The Daily Hodl. ... [| Skaityti daugiau](https://dailyhodl.com/2021/06/13/this-emerging-altcoin-is-more-exciting-long-term-bet-than-ethereum-says-prominent-crypto-trader/) "
      ],
      "text/plain": [
       "<IPython.core.display.Markdown object>"
      ]
     },
     "execution_count": 3,
     "metadata": {},
     "output_type": "execute_result"
    }
   ],
   "source": [
    "#hide_input\n",
    "#md('##### {}'.format(titleBTC)) \n",
    "md(\"- {}{} {}{} [| Skaityti daugiau]({}) \".format(blockchain['title'],'. ', blockchain['body'], ' ...', blockchain['url']))"
   ]
  },
  {
   "cell_type": "code",
   "execution_count": 4,
   "id": "aging-caution",
   "metadata": {
    "execution": {
     "iopub.execute_input": "2021-06-14T02:03:46.141324Z",
     "iopub.status.busy": "2021-06-14T02:03:46.140729Z",
     "iopub.status.idle": "2021-06-14T02:03:46.143635Z",
     "shell.execute_reply": "2021-06-14T02:03:46.143069Z"
    },
    "papermill": {
     "duration": 0.018742,
     "end_time": "2021-06-14T02:03:46.143750",
     "exception": false,
     "start_time": "2021-06-14T02:03:46.125008",
     "status": "completed"
    },
    "tags": []
   },
   "outputs": [
    {
     "data": {
      "text/markdown": [
       "- Bitcoin price moves toward $40K as on-chain and technical analysis favor bulls.  Bitcoin price is still 38% away from its all-time high but a handful of technical indicators suggest bulls are gathering strength. ... [| Skaityti daugiau](https://cointelegraph.com/news/bitcoin-price-moves-toward-40k-as-on-chain-and-technical-analysis-favor-bulls) "
      ],
      "text/plain": [
       "<IPython.core.display.Markdown object>"
      ]
     },
     "execution_count": 4,
     "metadata": {},
     "output_type": "execute_result"
    }
   ],
   "source": [
    "#hide_input\n",
    "#md('##### {}'.format(titleBTC)) \n",
    "md(\"- {}{} {}{} [| Skaityti daugiau]({}) \".format(btc['title'],'. ', btc['body'], ' ...', btc['url']))"
   ]
  },
  {
   "cell_type": "code",
   "execution_count": 5,
   "id": "organic-actress",
   "metadata": {
    "execution": {
     "iopub.execute_input": "2021-06-14T02:03:46.172671Z",
     "iopub.status.busy": "2021-06-14T02:03:46.172071Z",
     "iopub.status.idle": "2021-06-14T02:03:46.174629Z",
     "shell.execute_reply": "2021-06-14T02:03:46.175169Z"
    },
    "papermill": {
     "duration": 0.019997,
     "end_time": "2021-06-14T02:03:46.175298",
     "exception": false,
     "start_time": "2021-06-14T02:03:46.155301",
     "status": "completed"
    },
    "tags": []
   },
   "outputs": [
    {
     "data": {
      "text/markdown": [
       "- XRP, Dogecoin, Cardano Price Analysis: 13 June.  XRP&#8217;s short-term movement projected sideways movement $0.921 and $0.790 with chances of a breakout. Dogecoin remained exposed to a 26% decline in case of a move below $0.29. Finally, ADA eyed additional losses over the coming sessions. XRP While XRP&#8217;s long-term trajectory remained bullish and a rise towards the $1-mark seemed likely, its short-term prediction [&#8230;] ... [| Skaityti daugiau](https://ambcrypto.com/xrp-dogecoin-cardano-price-analysis-13-june/) "
      ],
      "text/plain": [
       "<IPython.core.display.Markdown object>"
      ]
     },
     "execution_count": 5,
     "metadata": {},
     "output_type": "execute_result"
    }
   ],
   "source": [
    "#hide_input\n",
    "#md('##### {}'.format(titleBTC)) \n",
    "md(\"- {}{} {}{} [| Skaityti daugiau]({}) \".format(xrp['title'],'. ', xrp['body'], ' ...', xrp['url']))"
   ]
  },
  {
   "cell_type": "code",
   "execution_count": 6,
   "id": "prompt-farmer",
   "metadata": {
    "execution": {
     "iopub.execute_input": "2021-06-14T02:03:46.203273Z",
     "iopub.status.busy": "2021-06-14T02:03:46.202697Z",
     "iopub.status.idle": "2021-06-14T02:03:46.206011Z",
     "shell.execute_reply": "2021-06-14T02:03:46.205525Z"
    },
    "papermill": {
     "duration": 0.019662,
     "end_time": "2021-06-14T02:03:46.206154",
     "exception": false,
     "start_time": "2021-06-14T02:03:46.186492",
     "status": "completed"
    },
    "tags": []
   },
   "outputs": [
    {
     "data": {
      "text/markdown": [
       "- Binance Coin, Filecoin, Tron Price Analysis: 13 June.  The recent market fall has led to traders rushing toward sell-offs, even as Bitcoin’s price started to consolidate. The king coin’s downtrend on June 12, which led to an over 6% fall in valuation, was followed by several alts such as Binance Coin, Filecoin, and Tron’s TRX. Breaking through important support levels, these coins also [&#8230;] ... [| Skaityti daugiau](https://ambcrypto.com/binance-coin-filecoin-tron-price-analysis-13-june/) "
      ],
      "text/plain": [
       "<IPython.core.display.Markdown object>"
      ]
     },
     "execution_count": 6,
     "metadata": {},
     "output_type": "execute_result"
    }
   ],
   "source": [
    "#hide_input\n",
    "#md('##### {}'.format(titleBTC)) \n",
    "md(\"- {}{} {}{} [| Skaityti daugiau]({}) \".format(trx['title'],'. ', trx['body'], ' ...', trx['url']))"
   ]
  },
  {
   "cell_type": "code",
   "execution_count": 7,
   "id": "illegal-greece",
   "metadata": {
    "execution": {
     "iopub.execute_input": "2021-06-14T02:03:46.234509Z",
     "iopub.status.busy": "2021-06-14T02:03:46.233907Z",
     "iopub.status.idle": "2021-06-14T02:03:46.236910Z",
     "shell.execute_reply": "2021-06-14T02:03:46.236426Z"
    },
    "papermill": {
     "duration": 0.019109,
     "end_time": "2021-06-14T02:03:46.237023",
     "exception": false,
     "start_time": "2021-06-14T02:03:46.217914",
     "status": "completed"
    },
    "tags": []
   },
   "outputs": [
    {
     "data": {
      "text/markdown": [
       "- Analyst on Bitcoin and Ethereum: should resume the bull run by….  The price of ETH has been shuffling and tumbling like a pack of tarot cards over the past few weeks, but overall, Ethereuem has witnessed an impressive run this year. In the past six months alone, ETH has risen by more than 300% while BTC has only risen by 85% in the same timeframe. According [&#8230;] ... [| Skaityti daugiau](https://ambcrypto.com/analyst-on-bitcoin-and-ethereum-should-resume-the-bull-run-by/) "
      ],
      "text/plain": [
       "<IPython.core.display.Markdown object>"
      ]
     },
     "execution_count": 7,
     "metadata": {},
     "output_type": "execute_result"
    }
   ],
   "source": [
    "#hide_input\n",
    "#md('##### {}'.format(titleBTC)) \n",
    "md(\"- {}{} {}{} [| Skaityti daugiau]({}) \".format(eth['title'],'. ', eth['body'], ' ...', eth['url']))"
   ]
  },
  {
   "cell_type": "code",
   "execution_count": 8,
   "id": "sublime-lounge",
   "metadata": {
    "execution": {
     "iopub.execute_input": "2021-06-14T02:03:46.266561Z",
     "iopub.status.busy": "2021-06-14T02:03:46.265957Z",
     "iopub.status.idle": "2021-06-14T02:03:46.269380Z",
     "shell.execute_reply": "2021-06-14T02:03:46.269931Z"
    },
    "papermill": {
     "duration": 0.021096,
     "end_time": "2021-06-14T02:03:46.270056",
     "exception": false,
     "start_time": "2021-06-14T02:03:46.248960",
     "status": "completed"
    },
    "tags": []
   },
   "outputs": [
    {
     "data": {
      "text/markdown": [
       "- XRP, Dogecoin, Cardano Price Analysis: 13 June.  XRP&#8217;s short-term movement projected sideways movement $0.921 and $0.790 with chances of a breakout. Dogecoin remained exposed to a 26% decline in case of a move below $0.29. Finally, ADA eyed additional losses over the coming sessions. XRP While XRP&#8217;s long-term trajectory remained bullish and a rise towards the $1-mark seemed likely, its short-term prediction [&#8230;] ... [| Skaityti daugiau](https://ambcrypto.com/xrp-dogecoin-cardano-price-analysis-13-june/) "
      ],
      "text/plain": [
       "<IPython.core.display.Markdown object>"
      ]
     },
     "execution_count": 8,
     "metadata": {},
     "output_type": "execute_result"
    }
   ],
   "source": [
    "#hide_input\n",
    "#md('##### {}'.format(titleBTC)) \n",
    "md(\"- {}{} {}{} [| Skaityti daugiau]({}) \".format(ada['title'],'. ', ada['body'], ' ...', ada['url']))"
   ]
  },
  {
   "cell_type": "code",
   "execution_count": 9,
   "id": "specified-ordering",
   "metadata": {
    "execution": {
     "iopub.execute_input": "2021-06-14T02:03:46.299694Z",
     "iopub.status.busy": "2021-06-14T02:03:46.299122Z",
     "iopub.status.idle": "2021-06-14T02:03:46.303543Z",
     "shell.execute_reply": "2021-06-14T02:03:46.303054Z"
    },
    "papermill": {
     "duration": 0.021279,
     "end_time": "2021-06-14T02:03:46.303655",
     "exception": false,
     "start_time": "2021-06-14T02:03:46.282376",
     "status": "completed"
    },
    "tags": []
   },
   "outputs": [
    {
     "data": {
      "text/markdown": [
       "- Elon Musk says Tesla will accept bitcoin payment once clean energy usage confirmed.  Tesla (TSLA) will once again allow customers to pay in bitcoin (BTC-USD) once there's confirmation of \"reasonable (~50%) clean energy usage by miners with positive future trend,\" CEO Elon Musk said via Twitter.Bitcoin rises 8.7% over the last 24 hours to ~$39.1K; the world's biggest cryptocurrency by market cap hasn't breached $40K since May 27.In May, the electric-vehicle maker suspended vehicle purchases using bitcoin due to concern over bitcoin miners' use of fossil fuels, especially coal.Musk was responding to a report in which Sygnia CEO Magda Wierzycka alleged the Tesla founder with manipulating the bitcoin market then selling a \"big part of his exposure at the peak.\"In response, Musk said Tesla only sold ~10% of its holdings \"to confirm BTC could be liquidated easily without moving market.\"Other cryptos also rise. Ethereum (ETH-USD) +4.7% to $2,518, Binance Coin (BNB-USD) +5.4% to $364.68, Cardano (ADA-USD) +6.4% to $1.57, and dogecoin (DOGE-USD) +4.5% to 33 cents. ... [| Skaityti daugiau](https://seekingalpha.com/news/3705845-elon-musk-says-tesla-will-accept-bitcoin-payment-once-clean-energy-usage-confirmed?utm_source=cryptocompare.com&utm_medium=referral) "
      ],
      "text/plain": [
       "<IPython.core.display.Markdown object>"
      ]
     },
     "execution_count": 9,
     "metadata": {},
     "output_type": "execute_result"
    }
   ],
   "source": [
    "#hide_input\n",
    "#md('##### {}'.format(titleBTC)) \n",
    "md(\"- {}{} {}{} [| Skaityti daugiau]({}) \".format(exchange['title'],'. ', exchange['body'], ' ...', exchange['url']))"
   ]
  },
  {
   "cell_type": "code",
   "execution_count": null,
   "id": "tender-livestock",
   "metadata": {
    "papermill": {
     "duration": 0.012633,
     "end_time": "2021-06-14T02:03:46.329004",
     "exception": false,
     "start_time": "2021-06-14T02:03:46.316371",
     "status": "completed"
    },
    "tags": []
   },
   "outputs": [],
   "source": []
  },
  {
   "cell_type": "code",
   "execution_count": null,
   "id": "appreciated-diamond",
   "metadata": {
    "papermill": {
     "duration": 0.012568,
     "end_time": "2021-06-14T02:03:46.354312",
     "exception": false,
     "start_time": "2021-06-14T02:03:46.341744",
     "status": "completed"
    },
    "tags": []
   },
   "outputs": [],
   "source": []
  },
  {
   "cell_type": "code",
   "execution_count": null,
   "id": "romance-sweden",
   "metadata": {
    "papermill": {
     "duration": 0.012571,
     "end_time": "2021-06-14T02:03:46.379605",
     "exception": false,
     "start_time": "2021-06-14T02:03:46.367034",
     "status": "completed"
    },
    "tags": []
   },
   "outputs": [],
   "source": []
  },
  {
   "cell_type": "code",
   "execution_count": null,
   "id": "dietary-statistics",
   "metadata": {
    "papermill": {
     "duration": 0.012671,
     "end_time": "2021-06-14T02:03:46.404951",
     "exception": false,
     "start_time": "2021-06-14T02:03:46.392280",
     "status": "completed"
    },
    "tags": []
   },
   "outputs": [],
   "source": []
  }
 ],
 "metadata": {
  "kernelspec": {
   "display_name": "Python 3",
   "language": "python",
   "name": "python3"
  },
  "language_info": {
   "codemirror_mode": {
    "name": "ipython",
    "version": 3
   },
   "file_extension": ".py",
   "mimetype": "text/x-python",
   "name": "python",
   "nbconvert_exporter": "python",
   "pygments_lexer": "ipython3",
   "version": "3.6.13"
  },
  "papermill": {
   "default_parameters": {},
   "duration": 11.974439,
   "end_time": "2021-06-14T02:03:46.824980",
   "environment_variables": {},
   "exception": null,
   "input_path": "Market-News.ipynb",
   "output_path": "Market-News.ipynb",
   "parameters": {},
   "start_time": "2021-06-14T02:03:34.850541",
   "version": "2.2.2"
  }
 },
 "nbformat": 4,
 "nbformat_minor": 5
}