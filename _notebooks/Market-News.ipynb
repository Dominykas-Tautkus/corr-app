{
 "cells": [
  {
   "cell_type": "markdown",
   "id": "short-greensboro",
   "metadata": {
    "papermill": {
     "duration": 0.01653,
     "end_time": "2021-06-05T03:09:51.850117",
     "exception": false,
     "start_time": "2021-06-05T03:09:51.833587",
     "status": "completed"
    },
    "tags": []
   },
   "source": [
    "# Kriptovaliutų naujienos"
   ]
  },
  {
   "cell_type": "code",
   "execution_count": 1,
   "id": "functioning-knowing",
   "metadata": {
    "execution": {
     "iopub.execute_input": "2021-06-05T03:09:51.883999Z",
     "iopub.status.busy": "2021-06-05T03:09:51.883333Z",
     "iopub.status.idle": "2021-06-05T03:09:53.128958Z",
     "shell.execute_reply": "2021-06-05T03:09:53.129599Z"
    },
    "papermill": {
     "duration": 1.268296,
     "end_time": "2021-06-05T03:09:53.129780",
     "exception": false,
     "start_time": "2021-06-05T03:09:51.861484",
     "status": "completed"
    },
    "tags": []
   },
   "outputs": [],
   "source": [
    "#hide_input\n",
    "import warnings\n",
    "warnings.filterwarnings('ignore')\n",
    "from scripts.read_data import read_api\n",
    "from scripts.read_data import read_news\n",
    "from scripts.read_data import read_covid\n",
    "import matplotlib.pyplot as plt \n",
    "from IPython.display import Markdown as md"
   ]
  },
  {
   "cell_type": "code",
   "execution_count": 2,
   "id": "shared-acceptance",
   "metadata": {
    "execution": {
     "iopub.execute_input": "2021-06-05T03:09:53.157737Z",
     "iopub.status.busy": "2021-06-05T03:09:53.156745Z",
     "iopub.status.idle": "2021-06-05T03:10:02.246328Z",
     "shell.execute_reply": "2021-06-05T03:10:02.245278Z"
    },
    "papermill": {
     "duration": 9.105723,
     "end_time": "2021-06-05T03:10:02.246454",
     "exception": false,
     "start_time": "2021-06-05T03:09:53.140731",
     "status": "completed"
    },
    "tags": []
   },
   "outputs": [],
   "source": [
    "#hide_input\n",
    "blockchain = read_news('blockchain') \n",
    "btc = read_news('btc') \n",
    "xrp = read_news('xrp') \n",
    "trx = read_news('trx') \n",
    "eth = read_news('eth')  \n",
    "ada = read_news('ada')\n",
    "exchange = read_news('exchange') "
   ]
  },
  {
   "cell_type": "code",
   "execution_count": 3,
   "id": "synthetic-notion",
   "metadata": {
    "execution": {
     "iopub.execute_input": "2021-06-05T03:10:02.270895Z",
     "iopub.status.busy": "2021-06-05T03:10:02.268566Z",
     "iopub.status.idle": "2021-06-05T03:10:02.273358Z",
     "shell.execute_reply": "2021-06-05T03:10:02.273817Z"
    },
    "papermill": {
     "duration": 0.018216,
     "end_time": "2021-06-05T03:10:02.273926",
     "exception": false,
     "start_time": "2021-06-05T03:10:02.255710",
     "status": "completed"
    },
    "tags": []
   },
   "outputs": [
    {
     "data": {
      "text/markdown": [
       "- 453 million XRP: Ripple Co-Founder Jed McCaleb Kept Cashing Out in May.  Ripple co-founder Jed McCaleb cashed out an estimated 453 million XRP in the month of May, and still has a total of 617.3 million tokens on his “~tacostand” wallet, according to XRP blockchain data provider XRPSCan. McCaleb is said to have started working on Ripple back in 2011, and was part of its founding team […] ... [| Skaityti daugiau](https://www.cryptoglobe.com/latest/2021/06/453-million-xrp-ripple-co-founder-jed-mccaleb-kept-cashing-out-in-may/) "
      ],
      "text/plain": [
       "<IPython.core.display.Markdown object>"
      ]
     },
     "execution_count": 3,
     "metadata": {},
     "output_type": "execute_result"
    }
   ],
   "source": [
    "#hide_input\n",
    "#md('##### {}'.format(titleBTC)) \n",
    "md(\"- {}{} {}{} [| Skaityti daugiau]({}) \".format(blockchain['title'],'. ', blockchain['body'], ' ...', blockchain['url']))"
   ]
  },
  {
   "cell_type": "code",
   "execution_count": 4,
   "id": "aging-caution",
   "metadata": {
    "execution": {
     "iopub.execute_input": "2021-06-05T03:10:02.296646Z",
     "iopub.status.busy": "2021-06-05T03:10:02.296105Z",
     "iopub.status.idle": "2021-06-05T03:10:02.299054Z",
     "shell.execute_reply": "2021-06-05T03:10:02.298586Z"
    },
    "papermill": {
     "duration": 0.015872,
     "end_time": "2021-06-05T03:10:02.299159",
     "exception": false,
     "start_time": "2021-06-05T03:10:02.283287",
     "status": "completed"
    },
    "tags": []
   },
   "outputs": [
    {
     "data": {
      "text/markdown": [
       "- GTA 6 rumoured to have in-game Bitcoin rewards.  Popular YouTuber and gaming leaker Tom Henderson shared that Rockstar’s upcoming Grand Theft Auto release (GTA 6) will reward players with an in-game cryptocurrency. The post GTA 6 rumoured to have in-game Bitcoin rewards appeared first on CryptoSlate. ... [| Skaityti daugiau](https://cryptoslate.com/gta-6-rumoured-to-have-in-game-bitcoin-rewards/) "
      ],
      "text/plain": [
       "<IPython.core.display.Markdown object>"
      ]
     },
     "execution_count": 4,
     "metadata": {},
     "output_type": "execute_result"
    }
   ],
   "source": [
    "#hide_input\n",
    "#md('##### {}'.format(titleBTC)) \n",
    "md(\"- {}{} {}{} [| Skaityti daugiau]({}) \".format(btc['title'],'. ', btc['body'], ' ...', btc['url']))"
   ]
  },
  {
   "cell_type": "code",
   "execution_count": 5,
   "id": "organic-actress",
   "metadata": {
    "execution": {
     "iopub.execute_input": "2021-06-05T03:10:02.322580Z",
     "iopub.status.busy": "2021-06-05T03:10:02.321969Z",
     "iopub.status.idle": "2021-06-05T03:10:02.324051Z",
     "shell.execute_reply": "2021-06-05T03:10:02.324602Z"
    },
    "papermill": {
     "duration": 0.016611,
     "end_time": "2021-06-05T03:10:02.324704",
     "exception": false,
     "start_time": "2021-06-05T03:10:02.308093",
     "status": "completed"
    },
    "tags": []
   },
   "outputs": [
    {
     "data": {
      "text/markdown": [
       "- 453 million XRP: Ripple Co-Founder Jed McCaleb Kept Cashing Out in May.  Ripple co-founder Jed McCaleb cashed out an estimated 453 million XRP in the month of May, and still has a total of 617.3 million tokens on his “~tacostand” wallet, according to XRP blockchain data provider XRPSCan. McCaleb is said to have started working on Ripple back in 2011, and was part of its founding team […] ... [| Skaityti daugiau](https://www.cryptoglobe.com/latest/2021/06/453-million-xrp-ripple-co-founder-jed-mccaleb-kept-cashing-out-in-may/) "
      ],
      "text/plain": [
       "<IPython.core.display.Markdown object>"
      ]
     },
     "execution_count": 5,
     "metadata": {},
     "output_type": "execute_result"
    }
   ],
   "source": [
    "#hide_input\n",
    "#md('##### {}'.format(titleBTC)) \n",
    "md(\"- {}{} {}{} [| Skaityti daugiau]({}) \".format(xrp['title'],'. ', xrp['body'], ' ...', xrp['url']))"
   ]
  },
  {
   "cell_type": "code",
   "execution_count": 6,
   "id": "prompt-farmer",
   "metadata": {
    "execution": {
     "iopub.execute_input": "2021-06-05T03:10:02.350129Z",
     "iopub.status.busy": "2021-06-05T03:10:02.349605Z",
     "iopub.status.idle": "2021-06-05T03:10:02.353258Z",
     "shell.execute_reply": "2021-06-05T03:10:02.352831Z"
    },
    "papermill": {
     "duration": 0.018916,
     "end_time": "2021-06-05T03:10:02.353362",
     "exception": false,
     "start_time": "2021-06-05T03:10:02.334446",
     "status": "completed"
    },
    "tags": []
   },
   "outputs": [
    {
     "data": {
      "text/markdown": [
       "- Tesla Could Empty Its $1.5 Billion Bitcoin Bag In No Time … And Tron’s Justin Sun Wants It All.  Tron’s Justin Sun has remained bullish on Bitcoin, despite Elon Musk’s bearish tweets. The founder of the Tron network has been consistent with his bullish feedback on the state of the market. Sun has also been quick to make bullish requests and pledges in support of Tron’s native token (TRX). However, Sun seems to be [&#8230;] ... [| Skaityti daugiau](https://zycrypto.com/tesla-could-empty-its-1-5-billion-bitcoin-bag-in-no-time-and-trons-justin-sun-wants-it-all/) "
      ],
      "text/plain": [
       "<IPython.core.display.Markdown object>"
      ]
     },
     "execution_count": 6,
     "metadata": {},
     "output_type": "execute_result"
    }
   ],
   "source": [
    "#hide_input\n",
    "#md('##### {}'.format(titleBTC)) \n",
    "md(\"- {}{} {}{} [| Skaityti daugiau]({}) \".format(trx['title'],'. ', trx['body'], ' ...', trx['url']))"
   ]
  },
  {
   "cell_type": "code",
   "execution_count": 7,
   "id": "illegal-greece",
   "metadata": {
    "execution": {
     "iopub.execute_input": "2021-06-05T03:10:02.377268Z",
     "iopub.status.busy": "2021-06-05T03:10:02.376730Z",
     "iopub.status.idle": "2021-06-05T03:10:02.379873Z",
     "shell.execute_reply": "2021-06-05T03:10:02.379349Z"
    },
    "papermill": {
     "duration": 0.016624,
     "end_time": "2021-06-05T03:10:02.379978",
     "exception": false,
     "start_time": "2021-06-05T03:10:02.363354",
     "status": "completed"
    },
    "tags": []
   },
   "outputs": [
    {
     "data": {
      "text/markdown": [
       "- Ethereum Co-Founder Has His Doubts Over Cardano’s “Scientific Method”.  Much has been said about the rivalry between Ethereum and Cardano. The issue is compounded by Cardano Founder Charles Hoskinson having had a hand in Ethereum&#8217;s early days. Some say Cardano&#8217;s design and philosophy are based upon improving the weaknesses Hoskinson identified during his time there. In particular, the slow and steady ethos, as well [&#8230;] ... [| Skaityti daugiau](https://bitcoinist.com/ethereum-co-founder-has-his-doubts-over-cardanos-scientific-method/?utm_source=rss&utm_medium=rss&utm_campaign=ethereum-co-founder-has-his-doubts-over-cardanos-scientific-method) "
      ],
      "text/plain": [
       "<IPython.core.display.Markdown object>"
      ]
     },
     "execution_count": 7,
     "metadata": {},
     "output_type": "execute_result"
    }
   ],
   "source": [
    "#hide_input\n",
    "#md('##### {}'.format(titleBTC)) \n",
    "md(\"- {}{} {}{} [| Skaityti daugiau]({}) \".format(eth['title'],'. ', eth['body'], ' ...', eth['url']))"
   ]
  },
  {
   "cell_type": "code",
   "execution_count": 8,
   "id": "sublime-lounge",
   "metadata": {
    "execution": {
     "iopub.execute_input": "2021-06-05T03:10:02.403945Z",
     "iopub.status.busy": "2021-06-05T03:10:02.403514Z",
     "iopub.status.idle": "2021-06-05T03:10:02.406751Z",
     "shell.execute_reply": "2021-06-05T03:10:02.406357Z"
    },
    "papermill": {
     "duration": 0.017237,
     "end_time": "2021-06-05T03:10:02.406840",
     "exception": false,
     "start_time": "2021-06-05T03:10:02.389603",
     "status": "completed"
    },
    "tags": []
   },
   "outputs": [
    {
     "data": {
      "text/markdown": [
       "- Ethereum Co-Founder Has His Doubts Over Cardano’s “Scientific Method”.  Much has been said about the rivalry between Ethereum and Cardano. The issue is compounded by Cardano Founder Charles Hoskinson having had a hand in Ethereum&#8217;s early days. Some say Cardano&#8217;s design and philosophy are based upon improving the weaknesses Hoskinson identified during his time there. In particular, the slow and steady ethos, as well [&#8230;] ... [| Skaityti daugiau](https://bitcoinist.com/ethereum-co-founder-has-his-doubts-over-cardanos-scientific-method/?utm_source=rss&utm_medium=rss&utm_campaign=ethereum-co-founder-has-his-doubts-over-cardanos-scientific-method) "
      ],
      "text/plain": [
       "<IPython.core.display.Markdown object>"
      ]
     },
     "execution_count": 8,
     "metadata": {},
     "output_type": "execute_result"
    }
   ],
   "source": [
    "#hide_input\n",
    "#md('##### {}'.format(titleBTC)) \n",
    "md(\"- {}{} {}{} [| Skaityti daugiau]({}) \".format(ada['title'],'. ', ada['body'], ' ...', ada['url']))"
   ]
  },
  {
   "cell_type": "code",
   "execution_count": 9,
   "id": "specified-ordering",
   "metadata": {
    "execution": {
     "iopub.execute_input": "2021-06-05T03:10:02.430891Z",
     "iopub.status.busy": "2021-06-05T03:10:02.430350Z",
     "iopub.status.idle": "2021-06-05T03:10:02.433471Z",
     "shell.execute_reply": "2021-06-05T03:10:02.433026Z"
    },
    "papermill": {
     "duration": 0.016864,
     "end_time": "2021-06-05T03:10:02.433571",
     "exception": false,
     "start_time": "2021-06-05T03:10:02.416707",
     "status": "completed"
    },
    "tags": []
   },
   "outputs": [
    {
     "data": {
      "text/markdown": [
       "- Localbitcoins Adds Bitcoin Cash and Other Cryptocurrencies as Payment Methods.  Localbitcoins, one of the biggest P2P exchanges in the world, has added Bitcoin Cash and other cryptocurrencies as payment methods to acquire Bitcoin on its platform. This marks a clear departure from the earlier position of the company, which hadn&#8217;t added new payment methods and had remained Bitcoin-only for some time. Localbitcoins Adds Bitcoin Cash [&#8230;] ... [| Skaityti daugiau](https://news.bitcoin.com/localbitcoins-adds-bitcoin-cash-other-cryptocurrencies-payment-methods/) "
      ],
      "text/plain": [
       "<IPython.core.display.Markdown object>"
      ]
     },
     "execution_count": 9,
     "metadata": {},
     "output_type": "execute_result"
    }
   ],
   "source": [
    "#hide_input\n",
    "#md('##### {}'.format(titleBTC)) \n",
    "md(\"- {}{} {}{} [| Skaityti daugiau]({}) \".format(exchange['title'],'. ', exchange['body'], ' ...', exchange['url']))"
   ]
  },
  {
   "cell_type": "code",
   "execution_count": null,
   "id": "tender-livestock",
   "metadata": {
    "papermill": {
     "duration": 0.011309,
     "end_time": "2021-06-05T03:10:02.455668",
     "exception": false,
     "start_time": "2021-06-05T03:10:02.444359",
     "status": "completed"
    },
    "tags": []
   },
   "outputs": [],
   "source": []
  },
  {
   "cell_type": "code",
   "execution_count": null,
   "id": "appreciated-diamond",
   "metadata": {
    "papermill": {
     "duration": 0.011572,
     "end_time": "2021-06-05T03:10:02.477695",
     "exception": false,
     "start_time": "2021-06-05T03:10:02.466123",
     "status": "completed"
    },
    "tags": []
   },
   "outputs": [],
   "source": []
  },
  {
   "cell_type": "code",
   "execution_count": null,
   "id": "romance-sweden",
   "metadata": {
    "papermill": {
     "duration": 0.010201,
     "end_time": "2021-06-05T03:10:02.499027",
     "exception": false,
     "start_time": "2021-06-05T03:10:02.488826",
     "status": "completed"
    },
    "tags": []
   },
   "outputs": [],
   "source": []
  },
  {
   "cell_type": "code",
   "execution_count": null,
   "id": "dietary-statistics",
   "metadata": {
    "papermill": {
     "duration": 0.011376,
     "end_time": "2021-06-05T03:10:02.521242",
     "exception": false,
     "start_time": "2021-06-05T03:10:02.509866",
     "status": "completed"
    },
    "tags": []
   },
   "outputs": [],
   "source": []
  }
 ],
 "metadata": {
  "kernelspec": {
   "display_name": "Python 3",
   "language": "python",
   "name": "python3"
  },
  "language_info": {
   "codemirror_mode": {
    "name": "ipython",
    "version": 3
   },
   "file_extension": ".py",
   "mimetype": "text/x-python",
   "name": "python",
   "nbconvert_exporter": "python",
   "pygments_lexer": "ipython3",
   "version": "3.6.13"
  },
  "papermill": {
   "default_parameters": {},
   "duration": 13.313124,
   "end_time": "2021-06-05T03:10:03.876848",
   "environment_variables": {},
   "exception": null,
   "input_path": "Market-News.ipynb",
   "output_path": "Market-News.ipynb",
   "parameters": {},
   "start_time": "2021-06-05T03:09:50.563724",
   "version": "2.2.2"
  }
 },
 "nbformat": 4,
 "nbformat_minor": 5
}