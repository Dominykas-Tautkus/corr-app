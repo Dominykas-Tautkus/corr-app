{
 "cells": [
  {
   "cell_type": "markdown",
   "id": "short-greensboro",
   "metadata": {
    "papermill": {
     "duration": 0.015383,
     "end_time": "2021-02-27T01:42:19.658361",
     "exception": false,
     "start_time": "2021-02-27T01:42:19.642978",
     "status": "completed"
    },
    "tags": []
   },
   "source": [
    "# Kriptovaliutų naujienos"
   ]
  },
  {
   "cell_type": "code",
   "execution_count": 1,
   "id": "functioning-knowing",
   "metadata": {
    "execution": {
     "iopub.execute_input": "2021-02-27T01:42:19.699144Z",
     "iopub.status.busy": "2021-02-27T01:42:19.698452Z",
     "iopub.status.idle": "2021-02-27T01:42:21.124058Z",
     "shell.execute_reply": "2021-02-27T01:42:21.124874Z"
    },
    "papermill": {
     "duration": 1.454114,
     "end_time": "2021-02-27T01:42:21.125142",
     "exception": false,
     "start_time": "2021-02-27T01:42:19.671028",
     "status": "completed"
    },
    "tags": []
   },
   "outputs": [],
   "source": [
    "#hide_input\n",
    "import warnings\n",
    "warnings.filterwarnings('ignore')\n",
    "from scripts.read_data import read_api\n",
    "from scripts.read_data import read_news\n",
    "from scripts.read_data import read_covid\n",
    "import matplotlib.pyplot as plt \n",
    "from IPython.display import Markdown as md"
   ]
  },
  {
   "cell_type": "code",
   "execution_count": 2,
   "id": "shared-acceptance",
   "metadata": {
    "execution": {
     "iopub.execute_input": "2021-02-27T01:42:21.154843Z",
     "iopub.status.busy": "2021-02-27T01:42:21.153891Z",
     "iopub.status.idle": "2021-02-27T01:42:28.596123Z",
     "shell.execute_reply": "2021-02-27T01:42:28.596568Z"
    },
    "papermill": {
     "duration": 7.459139,
     "end_time": "2021-02-27T01:42:28.596722",
     "exception": false,
     "start_time": "2021-02-27T01:42:21.137583",
     "status": "completed"
    },
    "tags": []
   },
   "outputs": [],
   "source": [
    "#hide_input\n",
    "blockchain = read_news('blockchain') \n",
    "btc = read_news('btc') \n",
    "xrp = read_news('xrp') \n",
    "trx = read_news('trx') \n",
    "eth = read_news('eth')  \n",
    "ada = read_news('ada')\n",
    "exchange = read_news('exchange') "
   ]
  },
  {
   "cell_type": "code",
   "execution_count": 3,
   "id": "synthetic-notion",
   "metadata": {
    "execution": {
     "iopub.execute_input": "2021-02-27T01:42:28.626790Z",
     "iopub.status.busy": "2021-02-27T01:42:28.626201Z",
     "iopub.status.idle": "2021-02-27T01:42:28.628398Z",
     "shell.execute_reply": "2021-02-27T01:42:28.628939Z"
    },
    "papermill": {
     "duration": 0.021597,
     "end_time": "2021-02-27T01:42:28.629067",
     "exception": false,
     "start_time": "2021-02-27T01:42:28.607470",
     "status": "completed"
    },
    "tags": []
   },
   "outputs": [
    {
     "data": {
      "text/markdown": [
       "- Blockchain and crypto will challenge current finance, Nigeria VP says.  Yemi Osinbajo sees potential for crypto and blockchain. ... [| Skaityti daugiau](https://cointelegraph.com/news/blockchain-and-crypto-will-challenge-current-finance-nigeria-vp-says) "
      ],
      "text/plain": [
       "<IPython.core.display.Markdown object>"
      ]
     },
     "execution_count": 3,
     "metadata": {},
     "output_type": "execute_result"
    }
   ],
   "source": [
    "#hide_input\n",
    "#md('##### {}'.format(titleBTC)) \n",
    "md(\"- {}{} {}{} [| Skaityti daugiau]({}) \".format(blockchain['title'],'. ', blockchain['body'], ' ...', blockchain['url']))"
   ]
  },
  {
   "cell_type": "code",
   "execution_count": 4,
   "id": "aging-caution",
   "metadata": {
    "execution": {
     "iopub.execute_input": "2021-02-27T01:42:28.656796Z",
     "iopub.status.busy": "2021-02-27T01:42:28.656172Z",
     "iopub.status.idle": "2021-02-27T01:42:28.659020Z",
     "shell.execute_reply": "2021-02-27T01:42:28.659454Z"
    },
    "papermill": {
     "duration": 0.01909,
     "end_time": "2021-02-27T01:42:28.659570",
     "exception": false,
     "start_time": "2021-02-27T01:42:28.640480",
     "status": "completed"
    },
    "tags": []
   },
   "outputs": [
    {
     "data": {
      "text/markdown": [
       "- Bid Side In Bitcoin Disappears Amidst Jittering “Macro Environment”.  Bitcoin is trading more than $10,000 per coin less than the current high, after according to one crypto analyst, the &#8220;bid&#8221; side of market has disappeared, exposing the cryptocurrency&#8217;s current weakness. The lack of buying currently could be due to what another analyst calls a jittering macro environment, referencing the stock and bond markets that [&#8230;] ... [| Skaityti daugiau](https://www.newsbtc.com/analysis/btc/bid-bitcoin-macro-environment/) "
      ],
      "text/plain": [
       "<IPython.core.display.Markdown object>"
      ]
     },
     "execution_count": 4,
     "metadata": {},
     "output_type": "execute_result"
    }
   ],
   "source": [
    "#hide_input\n",
    "#md('##### {}'.format(titleBTC)) \n",
    "md(\"- {}{} {}{} [| Skaityti daugiau]({}) \".format(btc['title'],'. ', btc['body'], ' ...', btc['url']))"
   ]
  },
  {
   "cell_type": "code",
   "execution_count": 5,
   "id": "organic-actress",
   "metadata": {
    "execution": {
     "iopub.execute_input": "2021-02-27T01:42:28.689098Z",
     "iopub.status.busy": "2021-02-27T01:42:28.688498Z",
     "iopub.status.idle": "2021-02-27T01:42:28.691374Z",
     "shell.execute_reply": "2021-02-27T01:42:28.691834Z"
    },
    "papermill": {
     "duration": 0.021071,
     "end_time": "2021-02-27T01:42:28.691964",
     "exception": false,
     "start_time": "2021-02-27T01:42:28.670893",
     "status": "completed"
    },
    "tags": []
   },
   "outputs": [
    {
     "data": {
      "text/markdown": [
       "- Flare Brings Ethereum-Based Smart Contracts To Stellar.   ... [| Skaityti daugiau](https://cryptobriefing.com/flare-brings-ethereum-based-smart-contracts-to-stellar/) "
      ],
      "text/plain": [
       "<IPython.core.display.Markdown object>"
      ]
     },
     "execution_count": 5,
     "metadata": {},
     "output_type": "execute_result"
    }
   ],
   "source": [
    "#hide_input\n",
    "#md('##### {}'.format(titleBTC)) \n",
    "md(\"- {}{} {}{} [| Skaityti daugiau]({}) \".format(xrp['title'],'. ', xrp['body'], ' ...', xrp['url']))"
   ]
  },
  {
   "cell_type": "code",
   "execution_count": 6,
   "id": "prompt-farmer",
   "metadata": {
    "execution": {
     "iopub.execute_input": "2021-02-27T01:42:28.723247Z",
     "iopub.status.busy": "2021-02-27T01:42:28.722270Z",
     "iopub.status.idle": "2021-02-27T01:42:28.726724Z",
     "shell.execute_reply": "2021-02-27T01:42:28.727525Z"
    },
    "papermill": {
     "duration": 0.024377,
     "end_time": "2021-02-27T01:42:28.727728",
     "exception": false,
     "start_time": "2021-02-27T01:42:28.703351",
     "status": "completed"
    },
    "tags": []
   },
   "outputs": [
    {
     "data": {
      "text/markdown": [
       "- Tron, Waves, Dash Price Analysis: 26 February.  Tron tested the $0.043-level of support and Waves was forced lower as well due to a strong wave of bearish sentiment following Bitcoin&#8217;s drop under $50,000 over the last twelve hours. Finally, Dash&#8216;s market bulls sought to defend the psychological $200-level of support. Tron [TRX] TRX formed a range on the hourly chart over the [&#8230;] ... [| Skaityti daugiau](https://ambcrypto.com/tron-waves-dash-price-analysis-26-february/) "
      ],
      "text/plain": [
       "<IPython.core.display.Markdown object>"
      ]
     },
     "execution_count": 6,
     "metadata": {},
     "output_type": "execute_result"
    }
   ],
   "source": [
    "#hide_input\n",
    "#md('##### {}'.format(titleBTC)) \n",
    "md(\"- {}{} {}{} [| Skaityti daugiau]({}) \".format(trx['title'],'. ', trx['body'], ' ...', trx['url']))"
   ]
  },
  {
   "cell_type": "code",
   "execution_count": 7,
   "id": "illegal-greece",
   "metadata": {
    "execution": {
     "iopub.execute_input": "2021-02-27T01:42:28.755109Z",
     "iopub.status.busy": "2021-02-27T01:42:28.754513Z",
     "iopub.status.idle": "2021-02-27T01:42:28.761037Z",
     "shell.execute_reply": "2021-02-27T01:42:28.760576Z"
    },
    "papermill": {
     "duration": 0.021908,
     "end_time": "2021-02-27T01:42:28.761160",
     "exception": false,
     "start_time": "2021-02-27T01:42:28.739252",
     "status": "completed"
    },
    "tags": []
   },
   "outputs": [
    {
     "data": {
      "text/markdown": [
       "- Now Grayscale Ethereum Trust Is Trading at a Discount, Too.  Shares in Grayscale Bitcoin Trust and now Grayscale Ethereum Trust are both trading below the value of the actual crypto assets. ... [| Skaityti daugiau](https://decrypt.co/59675/now-grayscale-ethereum-trust-is-trading-at-a-discount-too) "
      ],
      "text/plain": [
       "<IPython.core.display.Markdown object>"
      ]
     },
     "execution_count": 7,
     "metadata": {},
     "output_type": "execute_result"
    }
   ],
   "source": [
    "#hide_input\n",
    "#md('##### {}'.format(titleBTC)) \n",
    "md(\"- {}{} {}{} [| Skaityti daugiau]({}) \".format(eth['title'],'. ', eth['body'], ' ...', eth['url']))"
   ]
  },
  {
   "cell_type": "code",
   "execution_count": 8,
   "id": "sublime-lounge",
   "metadata": {
    "execution": {
     "iopub.execute_input": "2021-02-27T01:42:28.797542Z",
     "iopub.status.busy": "2021-02-27T01:42:28.796662Z",
     "iopub.status.idle": "2021-02-27T01:42:28.799683Z",
     "shell.execute_reply": "2021-02-27T01:42:28.800145Z"
    },
    "papermill": {
     "duration": 0.026336,
     "end_time": "2021-02-27T01:42:28.800267",
     "exception": false,
     "start_time": "2021-02-27T01:42:28.773931",
     "status": "completed"
    },
    "tags": []
   },
   "outputs": [
    {
     "data": {
      "text/markdown": [
       "- Increasing stock market volatility drags Bitcoin and altcoin prices lower.  Growing concerns over rising U.S. Treasury yields are putting pressure on global financial markets and possibly dragging cryptocurrency prices lower. ... [| Skaityti daugiau](https://cointelegraph.com/news/increasing-stock-market-volatility-drags-bitcoin-and-altcoin-prices-lower) "
      ],
      "text/plain": [
       "<IPython.core.display.Markdown object>"
      ]
     },
     "execution_count": 8,
     "metadata": {},
     "output_type": "execute_result"
    }
   ],
   "source": [
    "#hide_input\n",
    "#md('##### {}'.format(titleBTC)) \n",
    "md(\"- {}{} {}{} [| Skaityti daugiau]({}) \".format(ada['title'],'. ', ada['body'], ' ...', ada['url']))"
   ]
  },
  {
   "cell_type": "code",
   "execution_count": 9,
   "id": "specified-ordering",
   "metadata": {
    "execution": {
     "iopub.execute_input": "2021-02-27T01:42:28.838136Z",
     "iopub.status.busy": "2021-02-27T01:42:28.837542Z",
     "iopub.status.idle": "2021-02-27T01:42:28.843740Z",
     "shell.execute_reply": "2021-02-27T01:42:28.844205Z"
    },
    "papermill": {
     "duration": 0.028986,
     "end_time": "2021-02-27T01:42:28.844340",
     "exception": false,
     "start_time": "2021-02-27T01:42:28.815354",
     "status": "completed"
    },
    "tags": []
   },
   "outputs": [
    {
     "data": {
      "text/markdown": [
       "- Spanish Bittrex Customer Says Exchange ‘Allowed’ Theft of His Bitcoin.  A Spanish court has given the Tenerife police permission to look into the case of an alleged Bittrex customer who claims the crypto exchange is at fault in the case of the “theft” of around USD 62,000 worth of bitcoin (BTC).The Tenerife branch of the national police cybercrimes unit is now investigating the claim, after the user stated unauthorized access had been ... [| Skaityti daugiau](https://cryptonews.com/news/spanish-bittrex-customer-says-exchange-allowed-theft-of-his-9364.htm) "
      ],
      "text/plain": [
       "<IPython.core.display.Markdown object>"
      ]
     },
     "execution_count": 9,
     "metadata": {},
     "output_type": "execute_result"
    }
   ],
   "source": [
    "#hide_input\n",
    "#md('##### {}'.format(titleBTC)) \n",
    "md(\"- {}{} {}{} [| Skaityti daugiau]({}) \".format(exchange['title'],'. ', exchange['body'], ' ...', exchange['url']))"
   ]
  },
  {
   "cell_type": "code",
   "execution_count": null,
   "id": "tender-livestock",
   "metadata": {
    "papermill": {
     "duration": 0.012485,
     "end_time": "2021-02-27T01:42:28.869510",
     "exception": false,
     "start_time": "2021-02-27T01:42:28.857025",
     "status": "completed"
    },
    "tags": []
   },
   "outputs": [],
   "source": []
  },
  {
   "cell_type": "code",
   "execution_count": null,
   "id": "appreciated-diamond",
   "metadata": {
    "papermill": {
     "duration": 0.012386,
     "end_time": "2021-02-27T01:42:28.894855",
     "exception": false,
     "start_time": "2021-02-27T01:42:28.882469",
     "status": "completed"
    },
    "tags": []
   },
   "outputs": [],
   "source": []
  },
  {
   "cell_type": "code",
   "execution_count": null,
   "id": "romance-sweden",
   "metadata": {
    "papermill": {
     "duration": 0.012498,
     "end_time": "2021-02-27T01:42:28.919948",
     "exception": false,
     "start_time": "2021-02-27T01:42:28.907450",
     "status": "completed"
    },
    "tags": []
   },
   "outputs": [],
   "source": []
  },
  {
   "cell_type": "code",
   "execution_count": null,
   "id": "dietary-statistics",
   "metadata": {
    "papermill": {
     "duration": 0.012531,
     "end_time": "2021-02-27T01:42:28.944917",
     "exception": false,
     "start_time": "2021-02-27T01:42:28.932386",
     "status": "completed"
    },
    "tags": []
   },
   "outputs": [],
   "source": []
  }
 ],
 "metadata": {
  "kernelspec": {
   "display_name": "Python 3",
   "language": "python",
   "name": "python3"
  },
  "language_info": {
   "codemirror_mode": {
    "name": "ipython",
    "version": 3
   },
   "file_extension": ".py",
   "mimetype": "text/x-python",
   "name": "python",
   "nbconvert_exporter": "python",
   "pygments_lexer": "ipython3",
   "version": "3.6.13"
  },
  "papermill": {
   "default_parameters": {},
   "duration": 10.828335,
   "end_time": "2021-02-27T01:42:29.366297",
   "environment_variables": {},
   "exception": null,
   "input_path": "Market-News.ipynb",
   "output_path": "Market-News.ipynb",
   "parameters": {},
   "start_time": "2021-02-27T01:42:18.537962",
   "version": "2.2.2"
  }
 },
 "nbformat": 4,
 "nbformat_minor": 5
}