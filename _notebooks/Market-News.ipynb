{
 "cells": [
  {
   "cell_type": "markdown",
   "id": "short-greensboro",
   "metadata": {
    "papermill": {
     "duration": 0.015746,
     "end_time": "2021-04-17T02:05:53.349011",
     "exception": false,
     "start_time": "2021-04-17T02:05:53.333265",
     "status": "completed"
    },
    "tags": []
   },
   "source": [
    "# Kriptovaliutų naujienos"
   ]
  },
  {
   "cell_type": "code",
   "execution_count": 1,
   "id": "functioning-knowing",
   "metadata": {
    "execution": {
     "iopub.execute_input": "2021-04-17T02:05:53.383214Z",
     "iopub.status.busy": "2021-04-17T02:05:53.382353Z",
     "iopub.status.idle": "2021-04-17T02:05:54.725044Z",
     "shell.execute_reply": "2021-04-17T02:05:54.724497Z"
    },
    "papermill": {
     "duration": 1.364246,
     "end_time": "2021-04-17T02:05:54.725199",
     "exception": false,
     "start_time": "2021-04-17T02:05:53.360953",
     "status": "completed"
    },
    "tags": []
   },
   "outputs": [],
   "source": [
    "#hide_input\n",
    "import warnings\n",
    "warnings.filterwarnings('ignore')\n",
    "from scripts.read_data import read_api\n",
    "from scripts.read_data import read_news\n",
    "from scripts.read_data import read_covid\n",
    "import matplotlib.pyplot as plt \n",
    "from IPython.display import Markdown as md"
   ]
  },
  {
   "cell_type": "code",
   "execution_count": 2,
   "id": "shared-acceptance",
   "metadata": {
    "execution": {
     "iopub.execute_input": "2021-04-17T02:05:54.754965Z",
     "iopub.status.busy": "2021-04-17T02:05:54.753834Z",
     "iopub.status.idle": "2021-04-17T02:06:04.883166Z",
     "shell.execute_reply": "2021-04-17T02:06:04.882185Z"
    },
    "papermill": {
     "duration": 10.147313,
     "end_time": "2021-04-17T02:06:04.883313",
     "exception": false,
     "start_time": "2021-04-17T02:05:54.736000",
     "status": "completed"
    },
    "tags": []
   },
   "outputs": [],
   "source": [
    "#hide_input\n",
    "blockchain = read_news('blockchain') \n",
    "btc = read_news('btc') \n",
    "xrp = read_news('xrp') \n",
    "trx = read_news('trx') \n",
    "eth = read_news('eth')  \n",
    "ada = read_news('ada')\n",
    "exchange = read_news('exchange') "
   ]
  },
  {
   "cell_type": "code",
   "execution_count": 3,
   "id": "synthetic-notion",
   "metadata": {
    "execution": {
     "iopub.execute_input": "2021-04-17T02:06:04.910209Z",
     "iopub.status.busy": "2021-04-17T02:06:04.909584Z",
     "iopub.status.idle": "2021-04-17T02:06:04.917710Z",
     "shell.execute_reply": "2021-04-17T02:06:04.918164Z"
    },
    "papermill": {
     "duration": 0.024193,
     "end_time": "2021-04-17T02:06:04.918306",
     "exception": false,
     "start_time": "2021-04-17T02:06:04.894113",
     "status": "completed"
    },
    "tags": []
   },
   "outputs": [
    {
     "data": {
      "text/markdown": [
       "- Protocol upgrades and Google Cloud integration lift EOS price 245% in 2021.  EOS price hit its highest level since 2018 after protocol upgrades and big-name collaborations attract institutional investors. ... [| Skaityti daugiau](https://cointelegraph.com/news/protocol-upgrades-and-google-cloud-integration-lift-eos-price-245-in-2021) "
      ],
      "text/plain": [
       "<IPython.core.display.Markdown object>"
      ]
     },
     "execution_count": 3,
     "metadata": {},
     "output_type": "execute_result"
    }
   ],
   "source": [
    "#hide_input\n",
    "#md('##### {}'.format(titleBTC)) \n",
    "md(\"- {}{} {}{} [| Skaityti daugiau]({}) \".format(blockchain['title'],'. ', blockchain['body'], ' ...', blockchain['url']))"
   ]
  },
  {
   "cell_type": "code",
   "execution_count": 4,
   "id": "aging-caution",
   "metadata": {
    "execution": {
     "iopub.execute_input": "2021-04-17T02:06:04.947793Z",
     "iopub.status.busy": "2021-04-17T02:06:04.946111Z",
     "iopub.status.idle": "2021-04-17T02:06:04.950247Z",
     "shell.execute_reply": "2021-04-17T02:06:04.949618Z"
    },
    "papermill": {
     "duration": 0.021211,
     "end_time": "2021-04-17T02:06:04.950393",
     "exception": false,
     "start_time": "2021-04-17T02:06:04.929182",
     "status": "completed"
    },
    "tags": []
   },
   "outputs": [
    {
     "data": {
      "text/markdown": [
       "- Bitcoin At $100,000: Estimating The Chance Of Six Figure BTC In 2021.  Bitcoin price (BTC) reached a new all-time high this week, soaring to almost $65,000 on Wednesday the 14th of April. With Bitcoin&#8217;s price now in &#8220;blue sky territory&#8221; and its market cap sitting comfortably around the $1.17 trillion level, the big question is &#8211; just how high will the current bull market push the BTC [&#8230;] ... [| Skaityti daugiau](https://www.newsbtc.com/news/bitcoin/bitcoin-price-predictions-100000/) "
      ],
      "text/plain": [
       "<IPython.core.display.Markdown object>"
      ]
     },
     "execution_count": 4,
     "metadata": {},
     "output_type": "execute_result"
    }
   ],
   "source": [
    "#hide_input\n",
    "#md('##### {}'.format(titleBTC)) \n",
    "md(\"- {}{} {}{} [| Skaityti daugiau]({}) \".format(btc['title'],'. ', btc['body'], ' ...', btc['url']))"
   ]
  },
  {
   "cell_type": "code",
   "execution_count": 5,
   "id": "organic-actress",
   "metadata": {
    "execution": {
     "iopub.execute_input": "2021-04-17T02:06:04.979826Z",
     "iopub.status.busy": "2021-04-17T02:06:04.979091Z",
     "iopub.status.idle": "2021-04-17T02:06:04.984086Z",
     "shell.execute_reply": "2021-04-17T02:06:04.984532Z"
    },
    "papermill": {
     "duration": 0.022952,
     "end_time": "2021-04-17T02:06:04.984693",
     "exception": false,
     "start_time": "2021-04-17T02:06:04.961741",
     "status": "completed"
    },
    "tags": []
   },
   "outputs": [
    {
     "data": {
      "text/markdown": [
       "- Former SEC Director who led Ripple action lands new role at Ethereum law firm.  According to news outlet Bloomberg, Marc Berger, who stepped down from his role at the US Securities and Exchange Commission (SEC) in January, will join New York-based Simpson Thacher in June. The post Former SEC Director who led Ripple action lands new role at Ethereum law firm appeared first on CryptoSlate. ... [| Skaityti daugiau](https://cryptoslate.com/former-sec-director-who-led-ripple-action-lands-new-role-at-ethereum-law-firm/) "
      ],
      "text/plain": [
       "<IPython.core.display.Markdown object>"
      ]
     },
     "execution_count": 5,
     "metadata": {},
     "output_type": "execute_result"
    }
   ],
   "source": [
    "#hide_input\n",
    "#md('##### {}'.format(titleBTC)) \n",
    "md(\"- {}{} {}{} [| Skaityti daugiau]({}) \".format(xrp['title'],'. ', xrp['body'], ' ...', xrp['url']))"
   ]
  },
  {
   "cell_type": "code",
   "execution_count": 6,
   "id": "prompt-farmer",
   "metadata": {
    "execution": {
     "iopub.execute_input": "2021-04-17T02:06:05.016941Z",
     "iopub.status.busy": "2021-04-17T02:06:05.016087Z",
     "iopub.status.idle": "2021-04-17T02:06:05.019166Z",
     "shell.execute_reply": "2021-04-17T02:06:05.019633Z"
    },
    "papermill": {
     "duration": 0.02162,
     "end_time": "2021-04-17T02:06:05.019780",
     "exception": false,
     "start_time": "2021-04-17T02:06:04.998160",
     "status": "completed"
    },
    "tags": []
   },
   "outputs": [
    {
     "data": {
      "text/markdown": [
       "- Tron, Huobi Token, Enjin Price Analysis: 16 April.  Tron saw a breakout past $0.121 to test the $0.166-level as resistance. Huobi Token also attempted to break a short-term downtrend to push it towards the $22-level but was halted by a wave of selling across the market. Finally, Enjin looked likely to descend below $3 once again. Tron [TRX] The previous week, TRX faced [&#8230;] ... [| Skaityti daugiau](https://ambcrypto.com/tron-huobi-token-enjin-price-analysis-16-april/) "
      ],
      "text/plain": [
       "<IPython.core.display.Markdown object>"
      ]
     },
     "execution_count": 6,
     "metadata": {},
     "output_type": "execute_result"
    }
   ],
   "source": [
    "#hide_input\n",
    "#md('##### {}'.format(titleBTC)) \n",
    "md(\"- {}{} {}{} [| Skaityti daugiau]({}) \".format(trx['title'],'. ', trx['body'], ' ...', trx['url']))"
   ]
  },
  {
   "cell_type": "code",
   "execution_count": 7,
   "id": "illegal-greece",
   "metadata": {
    "execution": {
     "iopub.execute_input": "2021-04-17T02:06:05.050659Z",
     "iopub.status.busy": "2021-04-17T02:06:05.049930Z",
     "iopub.status.idle": "2021-04-17T02:06:05.053583Z",
     "shell.execute_reply": "2021-04-17T02:06:05.053010Z"
    },
    "papermill": {
     "duration": 0.022007,
     "end_time": "2021-04-17T02:06:05.053732",
     "exception": false,
     "start_time": "2021-04-17T02:06:05.031725",
     "status": "completed"
    },
    "tags": []
   },
   "outputs": [
    {
     "data": {
      "text/markdown": [
       "- Former SEC Director who led Ripple action lands new role at Ethereum law firm.  According to news outlet Bloomberg, Marc Berger, who stepped down from his role at the US Securities and Exchange Commission (SEC) in January, will join New York-based Simpson Thacher in June. The post Former SEC Director who led Ripple action lands new role at Ethereum law firm appeared first on CryptoSlate. ... [| Skaityti daugiau](https://cryptoslate.com/former-sec-director-who-led-ripple-action-lands-new-role-at-ethereum-law-firm/) "
      ],
      "text/plain": [
       "<IPython.core.display.Markdown object>"
      ]
     },
     "execution_count": 7,
     "metadata": {},
     "output_type": "execute_result"
    }
   ],
   "source": [
    "#hide_input\n",
    "#md('##### {}'.format(titleBTC)) \n",
    "md(\"- {}{} {}{} [| Skaityti daugiau]({}) \".format(eth['title'],'. ', eth['body'], ' ...', eth['url']))"
   ]
  },
  {
   "cell_type": "code",
   "execution_count": 8,
   "id": "sublime-lounge",
   "metadata": {
    "execution": {
     "iopub.execute_input": "2021-04-17T02:06:05.086002Z",
     "iopub.status.busy": "2021-04-17T02:06:05.085333Z",
     "iopub.status.idle": "2021-04-17T02:06:05.089705Z",
     "shell.execute_reply": "2021-04-17T02:06:05.089151Z"
    },
    "papermill": {
     "duration": 0.023748,
     "end_time": "2021-04-17T02:06:05.089839",
     "exception": false,
     "start_time": "2021-04-17T02:06:05.066091",
     "status": "completed"
    },
    "tags": []
   },
   "outputs": [
    {
     "data": {
      "text/markdown": [
       "- Cardano’s Hoskinson Slams Dogecoin for Lacking Utility – Says Price Is Being Manipulated by Whales.  While a majority of retail investors have celebrated Dogecoin rallying to all-time highs, Cardano founder Charles Hoskinson has warned that a massive amount of retail money will be lost very quickly. Elon Musk&#8217;s favorite altcoin has skyrocketed in the last couple of days. In the last week, the asset has gained roughly 500%. Of this, [&#8230;] ... [| Skaityti daugiau](https://zycrypto.com/cardanos-hoskinson-slams-dogecoin-for-lacking-utility-says-price-is-being-manipulated-by-whales/) "
      ],
      "text/plain": [
       "<IPython.core.display.Markdown object>"
      ]
     },
     "execution_count": 8,
     "metadata": {},
     "output_type": "execute_result"
    }
   ],
   "source": [
    "#hide_input\n",
    "#md('##### {}'.format(titleBTC)) \n",
    "md(\"- {}{} {}{} [| Skaityti daugiau]({}) \".format(ada['title'],'. ', ada['body'], ' ...', ada['url']))"
   ]
  },
  {
   "cell_type": "code",
   "execution_count": 9,
   "id": "specified-ordering",
   "metadata": {
    "execution": {
     "iopub.execute_input": "2021-04-17T02:06:05.122639Z",
     "iopub.status.busy": "2021-04-17T02:06:05.121797Z",
     "iopub.status.idle": "2021-04-17T02:06:05.126439Z",
     "shell.execute_reply": "2021-04-17T02:06:05.125950Z"
    },
    "papermill": {
     "duration": 0.023387,
     "end_time": "2021-04-17T02:06:05.126573",
     "exception": false,
     "start_time": "2021-04-17T02:06:05.103186",
     "status": "completed"
    },
    "tags": []
   },
   "outputs": [
    {
     "data": {
      "text/markdown": [
       "- Nigeria’s SEC in Talks With Central Bank of Nigeria Over Crypto Regulation— 2020 Crypto Guidelines Still Suspended.  Nigeria&#8217;s Securities and Exchange Commission (SEC) has revealed that talks with the Central Bank of Nigeria (CBN) regarding the regulation of cryptocurrencies are ongoing. The securities regulator also reiterated that due to a CBN directive that was issued on February 7, 2021, the crypto guidelines it issued in September 2020 remain suspended. Crypto Guidelines Set [&#8230;] ... [| Skaityti daugiau](https://news.bitcoin.com/nigerias-sec-in-talks-with-central-bank-of-nigeria-over-crypto-regulation-2020-crypto-guidelines-still-suspended/) "
      ],
      "text/plain": [
       "<IPython.core.display.Markdown object>"
      ]
     },
     "execution_count": 9,
     "metadata": {},
     "output_type": "execute_result"
    }
   ],
   "source": [
    "#hide_input\n",
    "#md('##### {}'.format(titleBTC)) \n",
    "md(\"- {}{} {}{} [| Skaityti daugiau]({}) \".format(exchange['title'],'. ', exchange['body'], ' ...', exchange['url']))"
   ]
  },
  {
   "cell_type": "code",
   "execution_count": null,
   "id": "tender-livestock",
   "metadata": {
    "papermill": {
     "duration": 0.013011,
     "end_time": "2021-04-17T02:06:05.152931",
     "exception": false,
     "start_time": "2021-04-17T02:06:05.139920",
     "status": "completed"
    },
    "tags": []
   },
   "outputs": [],
   "source": []
  },
  {
   "cell_type": "code",
   "execution_count": null,
   "id": "appreciated-diamond",
   "metadata": {
    "papermill": {
     "duration": 0.013008,
     "end_time": "2021-04-17T02:06:05.178958",
     "exception": false,
     "start_time": "2021-04-17T02:06:05.165950",
     "status": "completed"
    },
    "tags": []
   },
   "outputs": [],
   "source": []
  },
  {
   "cell_type": "code",
   "execution_count": null,
   "id": "romance-sweden",
   "metadata": {
    "papermill": {
     "duration": 0.013261,
     "end_time": "2021-04-17T02:06:05.206572",
     "exception": false,
     "start_time": "2021-04-17T02:06:05.193311",
     "status": "completed"
    },
    "tags": []
   },
   "outputs": [],
   "source": []
  },
  {
   "cell_type": "code",
   "execution_count": null,
   "id": "dietary-statistics",
   "metadata": {
    "papermill": {
     "duration": 0.013026,
     "end_time": "2021-04-17T02:06:05.232680",
     "exception": false,
     "start_time": "2021-04-17T02:06:05.219654",
     "status": "completed"
    },
    "tags": []
   },
   "outputs": [],
   "source": []
  }
 ],
 "metadata": {
  "kernelspec": {
   "display_name": "Python 3",
   "language": "python",
   "name": "python3"
  },
  "language_info": {
   "codemirror_mode": {
    "name": "ipython",
    "version": 3
   },
   "file_extension": ".py",
   "mimetype": "text/x-python",
   "name": "python",
   "nbconvert_exporter": "python",
   "pygments_lexer": "ipython3",
   "version": "3.6.13"
  },
  "papermill": {
   "default_parameters": {},
   "duration": 14.325215,
   "end_time": "2021-04-17T02:06:06.557081",
   "environment_variables": {},
   "exception": null,
   "input_path": "Market-News.ipynb",
   "output_path": "Market-News.ipynb",
   "parameters": {},
   "start_time": "2021-04-17T02:05:52.231866",
   "version": "2.2.2"
  }
 },
 "nbformat": 4,
 "nbformat_minor": 5
}