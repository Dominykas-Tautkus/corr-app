{
 "cells": [
  {
   "cell_type": "markdown",
   "id": "short-greensboro",
   "metadata": {
    "papermill": {
     "duration": 0.017717,
     "end_time": "2021-05-23T02:29:35.211053",
     "exception": false,
     "start_time": "2021-05-23T02:29:35.193336",
     "status": "completed"
    },
    "tags": []
   },
   "source": [
    "# Kriptovaliutų naujienos"
   ]
  },
  {
   "cell_type": "code",
   "execution_count": 1,
   "id": "functioning-knowing",
   "metadata": {
    "execution": {
     "iopub.execute_input": "2021-05-23T02:29:35.244624Z",
     "iopub.status.busy": "2021-05-23T02:29:35.243999Z",
     "iopub.status.idle": "2021-05-23T02:29:36.549982Z",
     "shell.execute_reply": "2021-05-23T02:29:36.549451Z"
    },
    "papermill": {
     "duration": 1.32778,
     "end_time": "2021-05-23T02:29:36.550126",
     "exception": false,
     "start_time": "2021-05-23T02:29:35.222346",
     "status": "completed"
    },
    "tags": []
   },
   "outputs": [],
   "source": [
    "#hide_input\n",
    "import warnings\n",
    "warnings.filterwarnings('ignore')\n",
    "from scripts.read_data import read_api\n",
    "from scripts.read_data import read_news\n",
    "from scripts.read_data import read_covid\n",
    "import matplotlib.pyplot as plt \n",
    "from IPython.display import Markdown as md"
   ]
  },
  {
   "cell_type": "code",
   "execution_count": 2,
   "id": "shared-acceptance",
   "metadata": {
    "execution": {
     "iopub.execute_input": "2021-05-23T02:29:36.579493Z",
     "iopub.status.busy": "2021-05-23T02:29:36.578309Z",
     "iopub.status.idle": "2021-05-23T02:29:45.335557Z",
     "shell.execute_reply": "2021-05-23T02:29:45.334403Z"
    },
    "papermill": {
     "duration": 8.774482,
     "end_time": "2021-05-23T02:29:45.335719",
     "exception": false,
     "start_time": "2021-05-23T02:29:36.561237",
     "status": "completed"
    },
    "tags": []
   },
   "outputs": [],
   "source": [
    "#hide_input\n",
    "blockchain = read_news('blockchain') \n",
    "btc = read_news('btc') \n",
    "xrp = read_news('xrp') \n",
    "trx = read_news('trx') \n",
    "eth = read_news('eth')  \n",
    "ada = read_news('ada')\n",
    "exchange = read_news('exchange') "
   ]
  },
  {
   "cell_type": "code",
   "execution_count": 3,
   "id": "synthetic-notion",
   "metadata": {
    "execution": {
     "iopub.execute_input": "2021-05-23T02:29:45.363459Z",
     "iopub.status.busy": "2021-05-23T02:29:45.362879Z",
     "iopub.status.idle": "2021-05-23T02:29:45.365915Z",
     "shell.execute_reply": "2021-05-23T02:29:45.365463Z"
    },
    "papermill": {
     "duration": 0.019655,
     "end_time": "2021-05-23T02:29:45.366047",
     "exception": false,
     "start_time": "2021-05-23T02:29:45.346392",
     "status": "completed"
    },
    "tags": []
   },
   "outputs": [
    {
     "data": {
      "text/markdown": [
       "- Bitcoin And The Planet - Has Anything Changed?.  As a proof-of-work blockchain, Bitcoin consumes energy; however, energy consumption does not necessarily equal polluting emissions.Bitcoin mining, by its nature, is well-suited to consume renewable and sustainable energy.A portion of Bitcoin mining is certainly powered by the burning of coal and other polluting energy sources in China and elsewhere. ... [| Skaityti daugiau](https://seekingalpha.com/article/4430662-bitcoin-and-planet-anything-changed?utm_source=cryptocompare.com&utm_medium=referral) "
      ],
      "text/plain": [
       "<IPython.core.display.Markdown object>"
      ]
     },
     "execution_count": 3,
     "metadata": {},
     "output_type": "execute_result"
    }
   ],
   "source": [
    "#hide_input\n",
    "#md('##### {}'.format(titleBTC)) \n",
    "md(\"- {}{} {}{} [| Skaityti daugiau]({}) \".format(blockchain['title'],'. ', blockchain['body'], ' ...', blockchain['url']))"
   ]
  },
  {
   "cell_type": "code",
   "execution_count": 4,
   "id": "aging-caution",
   "metadata": {
    "execution": {
     "iopub.execute_input": "2021-05-23T02:29:45.392160Z",
     "iopub.status.busy": "2021-05-23T02:29:45.391551Z",
     "iopub.status.idle": "2021-05-23T02:29:45.395316Z",
     "shell.execute_reply": "2021-05-23T02:29:45.395893Z"
    },
    "papermill": {
     "duration": 0.019576,
     "end_time": "2021-05-23T02:29:45.396033",
     "exception": false,
     "start_time": "2021-05-23T02:29:45.376457",
     "status": "completed"
    },
    "tags": []
   },
   "outputs": [
    {
     "data": {
      "text/markdown": [
       "- Goldman Sachs Explores Crypto as an Asset Class, Reconsidering Old Stances.  Last year, Goldman Sachs said cryptocurrencies were a bad investment. Today a new report suggest things may have changed. ... [| Skaityti daugiau](https://cryptopotato.com/goldman-sachs-crypto-new-asset-class/) "
      ],
      "text/plain": [
       "<IPython.core.display.Markdown object>"
      ]
     },
     "execution_count": 4,
     "metadata": {},
     "output_type": "execute_result"
    }
   ],
   "source": [
    "#hide_input\n",
    "#md('##### {}'.format(titleBTC)) \n",
    "md(\"- {}{} {}{} [| Skaityti daugiau]({}) \".format(btc['title'],'. ', btc['body'], ' ...', btc['url']))"
   ]
  },
  {
   "cell_type": "code",
   "execution_count": 5,
   "id": "organic-actress",
   "metadata": {
    "execution": {
     "iopub.execute_input": "2021-05-23T02:29:45.423339Z",
     "iopub.status.busy": "2021-05-23T02:29:45.422758Z",
     "iopub.status.idle": "2021-05-23T02:29:45.425472Z",
     "shell.execute_reply": "2021-05-23T02:29:45.425953Z"
    },
    "papermill": {
     "duration": 0.019315,
     "end_time": "2021-05-23T02:29:45.426084",
     "exception": false,
     "start_time": "2021-05-23T02:29:45.406769",
     "status": "completed"
    },
    "tags": []
   },
   "outputs": [
    {
     "data": {
      "text/markdown": [
       "- Binance Coin Price Analysis: 22 May.  Over the past 4 days, Binance Coin has consistently tested a support range between $275 and $285 on the daily chart. While other major assets have indicated a higher wick on each day going forward (besides XRP), the correction levels for BNB have been similar. While it may solidify the bottom, it could also lead [&#8230;] ... [| Skaityti daugiau](https://ambcrypto.com/binance-coin-price-analysis-22-may/) "
      ],
      "text/plain": [
       "<IPython.core.display.Markdown object>"
      ]
     },
     "execution_count": 5,
     "metadata": {},
     "output_type": "execute_result"
    }
   ],
   "source": [
    "#hide_input\n",
    "#md('##### {}'.format(titleBTC)) \n",
    "md(\"- {}{} {}{} [| Skaityti daugiau]({}) \".format(xrp['title'],'. ', xrp['body'], ' ...', xrp['url']))"
   ]
  },
  {
   "cell_type": "code",
   "execution_count": 6,
   "id": "prompt-farmer",
   "metadata": {
    "execution": {
     "iopub.execute_input": "2021-05-23T02:29:45.453888Z",
     "iopub.status.busy": "2021-05-23T02:29:45.453311Z",
     "iopub.status.idle": "2021-05-23T02:29:45.456232Z",
     "shell.execute_reply": "2021-05-23T02:29:45.455779Z"
    },
    "papermill": {
     "duration": 0.018735,
     "end_time": "2021-05-23T02:29:45.456339",
     "exception": false,
     "start_time": "2021-05-23T02:29:45.437604",
     "status": "completed"
    },
    "tags": []
   },
   "outputs": [
    {
     "data": {
      "text/markdown": [
       "- Cardano, MATIC, Tron Price Analysis: 20 May.  The short-term market has experienced wild periods of volatility while the long-term market seem to be picturing an effort towards stabilizing the price. Altcoins like Cardano [ADA], Polygon [MATIC], and Tron [TRX] did suffer a blow in value, but at the time of writing, the market was trying to recover. Cardano [ADA] After a day [&#8230;] ... [| Skaityti daugiau](https://ambcrypto.com/cardano-matic-tron-price-analysis-20-may/) "
      ],
      "text/plain": [
       "<IPython.core.display.Markdown object>"
      ]
     },
     "execution_count": 6,
     "metadata": {},
     "output_type": "execute_result"
    }
   ],
   "source": [
    "#hide_input\n",
    "#md('##### {}'.format(titleBTC)) \n",
    "md(\"- {}{} {}{} [| Skaityti daugiau]({}) \".format(trx['title'],'. ', trx['body'], ' ...', trx['url']))"
   ]
  },
  {
   "cell_type": "code",
   "execution_count": 7,
   "id": "illegal-greece",
   "metadata": {
    "execution": {
     "iopub.execute_input": "2021-05-23T02:29:45.486800Z",
     "iopub.status.busy": "2021-05-23T02:29:45.486002Z",
     "iopub.status.idle": "2021-05-23T02:29:45.488875Z",
     "shell.execute_reply": "2021-05-23T02:29:45.489502Z"
    },
    "papermill": {
     "duration": 0.021349,
     "end_time": "2021-05-23T02:29:45.489681",
     "exception": false,
     "start_time": "2021-05-23T02:29:45.468332",
     "status": "completed"
    },
    "tags": []
   },
   "outputs": [
    {
     "data": {
      "text/markdown": [
       "- Ethereum, Monero, Filecoin Price Analysis: 22 May.  Bitcoin&#8217;s dip back towards $35,000 over the last 24 hours had a domino effect on the rest of the broader market. However, some buying was observed once the king coin clawed back the region above $37,000. Similarly, Ethereum, Monero and Filecoin dropped to various lows but attempted a comeback on their respective charts. Ethereum [ETH] [&#8230;] ... [| Skaityti daugiau](https://ambcrypto.com/ethereum-monero-filecoin-price-analysis-22-may/) "
      ],
      "text/plain": [
       "<IPython.core.display.Markdown object>"
      ]
     },
     "execution_count": 7,
     "metadata": {},
     "output_type": "execute_result"
    }
   ],
   "source": [
    "#hide_input\n",
    "#md('##### {}'.format(titleBTC)) \n",
    "md(\"- {}{} {}{} [| Skaityti daugiau]({}) \".format(eth['title'],'. ', eth['body'], ' ...', eth['url']))"
   ]
  },
  {
   "cell_type": "code",
   "execution_count": 8,
   "id": "sublime-lounge",
   "metadata": {
    "execution": {
     "iopub.execute_input": "2021-05-23T02:29:45.519790Z",
     "iopub.status.busy": "2021-05-23T02:29:45.519184Z",
     "iopub.status.idle": "2021-05-23T02:29:45.524818Z",
     "shell.execute_reply": "2021-05-23T02:29:45.525261Z"
    },
    "papermill": {
     "duration": 0.022976,
     "end_time": "2021-05-23T02:29:45.525408",
     "exception": false,
     "start_time": "2021-05-23T02:29:45.502432",
     "status": "completed"
    },
    "tags": []
   },
   "outputs": [
    {
     "data": {
      "text/markdown": [
       "- Cardano (ADA) Creator: ‘You Guys Can’t Get 900% Gains Without Expecting Some Pullbacks’.  Cardano (ADA) creator Charles Hoskinson has revealed in an ask me anything (AMA) session that he is now a cryptocurrency billionaire, even after the cryptocurrency market crash that saw the prices of some cryptoassets drop by as much as 40% and commented on the drop. In the AMA session, first reported by Daily Hodl, Hoskinson […] ... [| Skaityti daugiau](https://www.cryptoglobe.com/latest/2021/05/cardano-ada-creator-you-guys-cant-get-900-gains-without-expecting-some-pullbacks/) "
      ],
      "text/plain": [
       "<IPython.core.display.Markdown object>"
      ]
     },
     "execution_count": 8,
     "metadata": {},
     "output_type": "execute_result"
    }
   ],
   "source": [
    "#hide_input\n",
    "#md('##### {}'.format(titleBTC)) \n",
    "md(\"- {}{} {}{} [| Skaityti daugiau]({}) \".format(ada['title'],'. ', ada['body'], ' ...', ada['url']))"
   ]
  },
  {
   "cell_type": "code",
   "execution_count": 9,
   "id": "specified-ordering",
   "metadata": {
    "execution": {
     "iopub.execute_input": "2021-05-23T02:29:45.557956Z",
     "iopub.status.busy": "2021-05-23T02:29:45.557375Z",
     "iopub.status.idle": "2021-05-23T02:29:45.562563Z",
     "shell.execute_reply": "2021-05-23T02:29:45.562071Z"
    },
    "papermill": {
     "duration": 0.024685,
     "end_time": "2021-05-23T02:29:45.562682",
     "exception": false,
     "start_time": "2021-05-23T02:29:45.537997",
     "status": "completed"
    },
    "tags": []
   },
   "outputs": [
    {
     "data": {
      "text/markdown": [
       "- Binance Coin Price Analysis: 22 May.  Over the past 4 days, Binance Coin has consistently tested a support range between $275 and $285 on the daily chart. While other major assets have indicated a higher wick on each day going forward (besides XRP), the correction levels for BNB have been similar. While it may solidify the bottom, it could also lead [&#8230;] ... [| Skaityti daugiau](https://ambcrypto.com/binance-coin-price-analysis-22-may/) "
      ],
      "text/plain": [
       "<IPython.core.display.Markdown object>"
      ]
     },
     "execution_count": 9,
     "metadata": {},
     "output_type": "execute_result"
    }
   ],
   "source": [
    "#hide_input\n",
    "#md('##### {}'.format(titleBTC)) \n",
    "md(\"- {}{} {}{} [| Skaityti daugiau]({}) \".format(exchange['title'],'. ', exchange['body'], ' ...', exchange['url']))"
   ]
  },
  {
   "cell_type": "code",
   "execution_count": null,
   "id": "tender-livestock",
   "metadata": {
    "papermill": {
     "duration": 0.012949,
     "end_time": "2021-05-23T02:29:45.588768",
     "exception": false,
     "start_time": "2021-05-23T02:29:45.575819",
     "status": "completed"
    },
    "tags": []
   },
   "outputs": [],
   "source": []
  },
  {
   "cell_type": "code",
   "execution_count": null,
   "id": "appreciated-diamond",
   "metadata": {
    "papermill": {
     "duration": 0.012497,
     "end_time": "2021-05-23T02:29:45.614284",
     "exception": false,
     "start_time": "2021-05-23T02:29:45.601787",
     "status": "completed"
    },
    "tags": []
   },
   "outputs": [],
   "source": []
  },
  {
   "cell_type": "code",
   "execution_count": null,
   "id": "romance-sweden",
   "metadata": {
    "papermill": {
     "duration": 0.012642,
     "end_time": "2021-05-23T02:29:45.639764",
     "exception": false,
     "start_time": "2021-05-23T02:29:45.627122",
     "status": "completed"
    },
    "tags": []
   },
   "outputs": [],
   "source": []
  },
  {
   "cell_type": "code",
   "execution_count": null,
   "id": "dietary-statistics",
   "metadata": {
    "papermill": {
     "duration": 0.012502,
     "end_time": "2021-05-23T02:29:45.665236",
     "exception": false,
     "start_time": "2021-05-23T02:29:45.652734",
     "status": "completed"
    },
    "tags": []
   },
   "outputs": [],
   "source": []
  }
 ],
 "metadata": {
  "kernelspec": {
   "display_name": "Python 3",
   "language": "python",
   "name": "python3"
  },
  "language_info": {
   "codemirror_mode": {
    "name": "ipython",
    "version": 3
   },
   "file_extension": ".py",
   "mimetype": "text/x-python",
   "name": "python",
   "nbconvert_exporter": "python",
   "pygments_lexer": "ipython3",
   "version": "3.6.13"
  },
  "papermill": {
   "default_parameters": {},
   "duration": 12.072291,
   "end_time": "2021-05-23T02:29:46.187308",
   "environment_variables": {},
   "exception": null,
   "input_path": "Market-News.ipynb",
   "output_path": "Market-News.ipynb",
   "parameters": {},
   "start_time": "2021-05-23T02:29:34.115017",
   "version": "2.2.2"
  }
 },
 "nbformat": 4,
 "nbformat_minor": 5
}