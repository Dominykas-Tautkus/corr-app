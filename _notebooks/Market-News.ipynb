{
 "cells": [
  {
   "cell_type": "markdown",
   "id": "short-greensboro",
   "metadata": {
    "papermill": {
     "duration": 0.013327,
     "end_time": "2021-02-25T01:42:29.044572",
     "exception": false,
     "start_time": "2021-02-25T01:42:29.031245",
     "status": "completed"
    },
    "tags": []
   },
   "source": [
    "# Kriptovaliutų naujienos"
   ]
  },
  {
   "cell_type": "code",
   "execution_count": 1,
   "id": "functioning-knowing",
   "metadata": {
    "execution": {
     "iopub.execute_input": "2021-02-25T01:42:29.082476Z",
     "iopub.status.busy": "2021-02-25T01:42:29.081685Z",
     "iopub.status.idle": "2021-02-25T01:42:30.422101Z",
     "shell.execute_reply": "2021-02-25T01:42:30.421304Z"
    },
    "papermill": {
     "duration": 1.36676,
     "end_time": "2021-02-25T01:42:30.422245",
     "exception": false,
     "start_time": "2021-02-25T01:42:29.055485",
     "status": "completed"
    },
    "tags": []
   },
   "outputs": [],
   "source": [
    "#hide_input\n",
    "import warnings\n",
    "warnings.filterwarnings('ignore')\n",
    "from scripts.read_data import read_api\n",
    "from scripts.read_data import read_news\n",
    "from scripts.read_data import read_covid\n",
    "import matplotlib.pyplot as plt \n",
    "from IPython.display import Markdown as md"
   ]
  },
  {
   "cell_type": "code",
   "execution_count": 2,
   "id": "shared-acceptance",
   "metadata": {
    "execution": {
     "iopub.execute_input": "2021-02-25T01:42:30.449433Z",
     "iopub.status.busy": "2021-02-25T01:42:30.448760Z",
     "iopub.status.idle": "2021-02-25T01:42:40.196415Z",
     "shell.execute_reply": "2021-02-25T01:42:40.197016Z"
    },
    "papermill": {
     "duration": 9.764685,
     "end_time": "2021-02-25T01:42:40.197184",
     "exception": false,
     "start_time": "2021-02-25T01:42:30.432499",
     "status": "completed"
    },
    "tags": []
   },
   "outputs": [],
   "source": [
    "#hide_input\n",
    "blockchain = read_news('blockchain') \n",
    "btc = read_news('btc') \n",
    "xrp = read_news('xrp') \n",
    "trx = read_news('trx') \n",
    "eth = read_news('eth')  \n",
    "ada = read_news('ada')\n",
    "exchange = read_news('exchange') "
   ]
  },
  {
   "cell_type": "code",
   "execution_count": 3,
   "id": "synthetic-notion",
   "metadata": {
    "execution": {
     "iopub.execute_input": "2021-02-25T01:42:40.224801Z",
     "iopub.status.busy": "2021-02-25T01:42:40.224045Z",
     "iopub.status.idle": "2021-02-25T01:42:40.229514Z",
     "shell.execute_reply": "2021-02-25T01:42:40.230178Z"
    },
    "papermill": {
     "duration": 0.022814,
     "end_time": "2021-02-25T01:42:40.230374",
     "exception": false,
     "start_time": "2021-02-25T01:42:40.207560",
     "status": "completed"
    },
    "tags": []
   },
   "outputs": [
    {
     "data": {
      "text/markdown": [
       "- Amazon, IBM, JP Morgan, Microsoft, and R3 Corda: The State of Enterprise Blockchain.  What is the state of Enterprise Blockchain? Are we advancing? Are we stalled? Why? This article examines the state of the industry; this is not intended to be a comprehensive review, rather, the goal is to focus on the primary market participants. The post Amazon, IBM, JP Morgan, Microsoft, and R3 Corda: The State of Enterprise Blockchain appeared first on CryptoSlate. ... [| Skaityti daugiau](https://cryptoslate.com/amazon-ibm-jp-morgan-microsoft-and-r3-corda-the-state-of-enterprise-blockchain/) "
      ],
      "text/plain": [
       "<IPython.core.display.Markdown object>"
      ]
     },
     "execution_count": 3,
     "metadata": {},
     "output_type": "execute_result"
    }
   ],
   "source": [
    "#hide_input\n",
    "#md('##### {}'.format(titleBTC)) \n",
    "md(\"- {}{} {}{} [| Skaityti daugiau]({}) \".format(blockchain['title'],'. ', blockchain['body'], ' ...', blockchain['url']))"
   ]
  },
  {
   "cell_type": "code",
   "execution_count": 4,
   "id": "aging-caution",
   "metadata": {
    "execution": {
     "iopub.execute_input": "2021-02-25T01:42:40.257866Z",
     "iopub.status.busy": "2021-02-25T01:42:40.257308Z",
     "iopub.status.idle": "2021-02-25T01:42:40.262940Z",
     "shell.execute_reply": "2021-02-25T01:42:40.263432Z"
    },
    "papermill": {
     "duration": 0.022478,
     "end_time": "2021-02-25T01:42:40.263623",
     "exception": false,
     "start_time": "2021-02-25T01:42:40.241145",
     "status": "completed"
    },
    "tags": []
   },
   "outputs": [
    {
     "data": {
      "text/markdown": [
       "- Summing Up The Case For Bitcoin As The Future Of Collateral.  Today, a report was released by Arcane Research in partnership with Bitcoin trading platform Bitstamp outlining the case for BTC as the future of collateral in the finance world. The nearly 70-page report deep dives into the various reasons as to why this is, and how they see it coming to be. Here&#8217;s a summarized [&#8230;] ... [| Skaityti daugiau](https://www.newsbtc.com/news/bitcoin/the-case-bitcoin-future-of-collateral/) "
      ],
      "text/plain": [
       "<IPython.core.display.Markdown object>"
      ]
     },
     "execution_count": 4,
     "metadata": {},
     "output_type": "execute_result"
    }
   ],
   "source": [
    "#hide_input\n",
    "#md('##### {}'.format(titleBTC)) \n",
    "md(\"- {}{} {}{} [| Skaityti daugiau]({}) \".format(btc['title'],'. ', btc['body'], ' ...', btc['url']))"
   ]
  },
  {
   "cell_type": "code",
   "execution_count": 5,
   "id": "organic-actress",
   "metadata": {
    "execution": {
     "iopub.execute_input": "2021-02-25T01:42:40.292487Z",
     "iopub.status.busy": "2021-02-25T01:42:40.291896Z",
     "iopub.status.idle": "2021-02-25T01:42:40.295281Z",
     "shell.execute_reply": "2021-02-25T01:42:40.295758Z"
    },
    "papermill": {
     "duration": 0.021433,
     "end_time": "2021-02-25T01:42:40.295879",
     "exception": false,
     "start_time": "2021-02-25T01:42:40.274446",
     "status": "completed"
    },
    "tags": []
   },
   "outputs": [
    {
     "data": {
      "text/markdown": [
       "- XRP Could Overcome FUD, Rise Above $1.00 Mark.   ... [| Skaityti daugiau](https://cryptobriefing.com/xrp-could-overcome-fud-rise-above-1-00-mark/) "
      ],
      "text/plain": [
       "<IPython.core.display.Markdown object>"
      ]
     },
     "execution_count": 5,
     "metadata": {},
     "output_type": "execute_result"
    }
   ],
   "source": [
    "#hide_input\n",
    "#md('##### {}'.format(titleBTC)) \n",
    "md(\"- {}{} {}{} [| Skaityti daugiau]({}) \".format(xrp['title'],'. ', xrp['body'], ' ...', xrp['url']))"
   ]
  },
  {
   "cell_type": "code",
   "execution_count": 6,
   "id": "prompt-farmer",
   "metadata": {
    "execution": {
     "iopub.execute_input": "2021-02-25T01:42:40.324884Z",
     "iopub.status.busy": "2021-02-25T01:42:40.323513Z",
     "iopub.status.idle": "2021-02-25T01:42:40.327387Z",
     "shell.execute_reply": "2021-02-25T01:42:40.327863Z"
    },
    "papermill": {
     "duration": 0.0215,
     "end_time": "2021-02-25T01:42:40.327996",
     "exception": false,
     "start_time": "2021-02-25T01:42:40.306496",
     "status": "completed"
    },
    "tags": []
   },
   "outputs": [
    {
     "data": {
      "text/markdown": [
       "- US Judge Dismisses Motion Against Bancor After Finding Allegations Inadequate to Give It Jurisdiction.  A Manhattan federal judge has dismissed a securities fraud class action against Bancor after ruling that the plaintiff&#8217;s allegations were not enough to give the court jurisdiction. According to a report, the dismissal of the case against represents the first such ruling &#8220;in a suite of similar cases filed by crypto investors represented by Selendy [&#8230;] ... [| Skaityti daugiau](https://news.bitcoin.com/us-judge-dismisses-motion-against-bancor-after-finding-allegations-inadequate-to-give-it-jurisdiction/) "
      ],
      "text/plain": [
       "<IPython.core.display.Markdown object>"
      ]
     },
     "execution_count": 6,
     "metadata": {},
     "output_type": "execute_result"
    }
   ],
   "source": [
    "#hide_input\n",
    "#md('##### {}'.format(titleBTC)) \n",
    "md(\"- {}{} {}{} [| Skaityti daugiau]({}) \".format(trx['title'],'. ', trx['body'], ' ...', trx['url']))"
   ]
  },
  {
   "cell_type": "code",
   "execution_count": 7,
   "id": "illegal-greece",
   "metadata": {
    "execution": {
     "iopub.execute_input": "2021-02-25T01:42:40.358289Z",
     "iopub.status.busy": "2021-02-25T01:42:40.357693Z",
     "iopub.status.idle": "2021-02-25T01:42:40.361367Z",
     "shell.execute_reply": "2021-02-25T01:42:40.361861Z"
    },
    "papermill": {
     "duration": 0.02235,
     "end_time": "2021-02-25T01:42:40.361997",
     "exception": false,
     "start_time": "2021-02-25T01:42:40.339647",
     "status": "completed"
    },
    "tags": []
   },
   "outputs": [
    {
     "data": {
      "text/markdown": [
       "- Bank of Korea Head Says Cryptocurrencies Have No Intrinsic Value.  BOK's chief executive claimed that Bitcoin and other cryptocurrencies have no intrinsic value while predicting that the high price fluctuations will remain. ... [| Skaityti daugiau](https://cryptopotato.com/bank-of-korea-head-says-cryptocurrencies-have-no-intrinsic-value/) "
      ],
      "text/plain": [
       "<IPython.core.display.Markdown object>"
      ]
     },
     "execution_count": 7,
     "metadata": {},
     "output_type": "execute_result"
    }
   ],
   "source": [
    "#hide_input\n",
    "#md('##### {}'.format(titleBTC)) \n",
    "md(\"- {}{} {}{} [| Skaityti daugiau]({}) \".format(eth['title'],'. ', eth['body'], ' ...', eth['url']))"
   ]
  },
  {
   "cell_type": "code",
   "execution_count": 8,
   "id": "sublime-lounge",
   "metadata": {
    "execution": {
     "iopub.execute_input": "2021-02-25T01:42:40.392377Z",
     "iopub.status.busy": "2021-02-25T01:42:40.391781Z",
     "iopub.status.idle": "2021-02-25T01:42:40.395087Z",
     "shell.execute_reply": "2021-02-25T01:42:40.394517Z"
    },
    "papermill": {
     "duration": 0.020574,
     "end_time": "2021-02-25T01:42:40.395230",
     "exception": false,
     "start_time": "2021-02-25T01:42:40.374656",
     "status": "completed"
    },
    "tags": []
   },
   "outputs": [
    {
     "data": {
      "text/markdown": [
       "- Cross-chain bridges and DeFi integration are pushing these 3 altcoins higher.  Cross-chain interoperability and lucrative DeFi yield opportunities appear to be supporting the price recovery in Cardano, Matic and Stacks. ... [| Skaityti daugiau](https://cointelegraph.com/news/cross-chain-bridges-and-defi-integration-are-pushing-these-3-altcoins-higher) "
      ],
      "text/plain": [
       "<IPython.core.display.Markdown object>"
      ]
     },
     "execution_count": 8,
     "metadata": {},
     "output_type": "execute_result"
    }
   ],
   "source": [
    "#hide_input\n",
    "#md('##### {}'.format(titleBTC)) \n",
    "md(\"- {}{} {}{} [| Skaityti daugiau]({}) \".format(ada['title'],'. ', ada['body'], ' ...', ada['url']))"
   ]
  },
  {
   "cell_type": "code",
   "execution_count": 9,
   "id": "specified-ordering",
   "metadata": {
    "execution": {
     "iopub.execute_input": "2021-02-25T01:42:40.426755Z",
     "iopub.status.busy": "2021-02-25T01:42:40.426178Z",
     "iopub.status.idle": "2021-02-25T01:42:40.428431Z",
     "shell.execute_reply": "2021-02-25T01:42:40.428970Z"
    },
    "papermill": {
     "duration": 0.021374,
     "end_time": "2021-02-25T01:42:40.429138",
     "exception": false,
     "start_time": "2021-02-25T01:42:40.407764",
     "status": "completed"
    },
    "tags": []
   },
   "outputs": [
    {
     "data": {
      "text/markdown": [
       "- Global crypto population surpasses 100 million; Boomers and Gen X now ‘keen on Bitcoin’.  A survey from digital asset exchange Crypto.com estimated a 15.7% increase in the global crypto population, in January alone. Overall, there are 106 million global crypto users as of January 2021. According to researcher Kevin Wang, at Crypto.com, strong growth in Bitcoin adoption happened to be the main driver for the peak. Major events last [&#8230;] ... [| Skaityti daugiau](https://ambcrypto.com/global-crypto-population-surpasses-100-million-boomers-and-gen-x-now-keen-on-bitcoin/) "
      ],
      "text/plain": [
       "<IPython.core.display.Markdown object>"
      ]
     },
     "execution_count": 9,
     "metadata": {},
     "output_type": "execute_result"
    }
   ],
   "source": [
    "#hide_input\n",
    "#md('##### {}'.format(titleBTC)) \n",
    "md(\"- {}{} {}{} [| Skaityti daugiau]({}) \".format(exchange['title'],'. ', exchange['body'], ' ...', exchange['url']))"
   ]
  },
  {
   "cell_type": "code",
   "execution_count": null,
   "id": "tender-livestock",
   "metadata": {
    "papermill": {
     "duration": 0.013531,
     "end_time": "2021-02-25T01:42:40.456489",
     "exception": false,
     "start_time": "2021-02-25T01:42:40.442958",
     "status": "completed"
    },
    "tags": []
   },
   "outputs": [],
   "source": []
  },
  {
   "cell_type": "code",
   "execution_count": null,
   "id": "appreciated-diamond",
   "metadata": {
    "papermill": {
     "duration": 0.013101,
     "end_time": "2021-02-25T01:42:40.482798",
     "exception": false,
     "start_time": "2021-02-25T01:42:40.469697",
     "status": "completed"
    },
    "tags": []
   },
   "outputs": [],
   "source": []
  },
  {
   "cell_type": "code",
   "execution_count": null,
   "id": "romance-sweden",
   "metadata": {
    "papermill": {
     "duration": 0.016301,
     "end_time": "2021-02-25T01:42:40.511721",
     "exception": false,
     "start_time": "2021-02-25T01:42:40.495420",
     "status": "completed"
    },
    "tags": []
   },
   "outputs": [],
   "source": []
  },
  {
   "cell_type": "code",
   "execution_count": null,
   "id": "dietary-statistics",
   "metadata": {
    "papermill": {
     "duration": 0.014351,
     "end_time": "2021-02-25T01:42:40.538896",
     "exception": false,
     "start_time": "2021-02-25T01:42:40.524545",
     "status": "completed"
    },
    "tags": []
   },
   "outputs": [],
   "source": []
  }
 ],
 "metadata": {
  "kernelspec": {
   "display_name": "Python 3",
   "language": "python",
   "name": "python3"
  },
  "language_info": {
   "codemirror_mode": {
    "name": "ipython",
    "version": 3
   },
   "file_extension": ".py",
   "mimetype": "text/x-python",
   "name": "python",
   "nbconvert_exporter": "python",
   "pygments_lexer": "ipython3",
   "version": "3.6.13"
  },
  "papermill": {
   "default_parameters": {},
   "duration": 13.015836,
   "end_time": "2021-02-25T01:42:40.961330",
   "environment_variables": {},
   "exception": null,
   "input_path": "Market-News.ipynb",
   "output_path": "Market-News.ipynb",
   "parameters": {},
   "start_time": "2021-02-25T01:42:27.945494",
   "version": "2.2.2"
  }
 },
 "nbformat": 4,
 "nbformat_minor": 5
}