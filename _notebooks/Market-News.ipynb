{
 "cells": [
  {
   "cell_type": "markdown",
   "id": "short-greensboro",
   "metadata": {
    "papermill": {
     "duration": 0.015553,
     "end_time": "2021-04-26T02:16:59.021308",
     "exception": false,
     "start_time": "2021-04-26T02:16:59.005755",
     "status": "completed"
    },
    "tags": []
   },
   "source": [
    "# Kriptovaliutų naujienos"
   ]
  },
  {
   "cell_type": "code",
   "execution_count": 1,
   "id": "functioning-knowing",
   "metadata": {
    "execution": {
     "iopub.execute_input": "2021-04-26T02:16:59.057446Z",
     "iopub.status.busy": "2021-04-26T02:16:59.056732Z",
     "iopub.status.idle": "2021-04-26T02:17:00.445539Z",
     "shell.execute_reply": "2021-04-26T02:17:00.444950Z"
    },
    "papermill": {
     "duration": 1.412031,
     "end_time": "2021-04-26T02:17:00.445699",
     "exception": false,
     "start_time": "2021-04-26T02:16:59.033668",
     "status": "completed"
    },
    "tags": []
   },
   "outputs": [],
   "source": [
    "#hide_input\n",
    "import warnings\n",
    "warnings.filterwarnings('ignore')\n",
    "from scripts.read_data import read_api\n",
    "from scripts.read_data import read_news\n",
    "from scripts.read_data import read_covid\n",
    "import matplotlib.pyplot as plt \n",
    "from IPython.display import Markdown as md"
   ]
  },
  {
   "cell_type": "code",
   "execution_count": 2,
   "id": "shared-acceptance",
   "metadata": {
    "execution": {
     "iopub.execute_input": "2021-04-26T02:17:00.477076Z",
     "iopub.status.busy": "2021-04-26T02:17:00.476384Z",
     "iopub.status.idle": "2021-04-26T02:17:09.892521Z",
     "shell.execute_reply": "2021-04-26T02:17:09.893115Z"
    },
    "papermill": {
     "duration": 9.43552,
     "end_time": "2021-04-26T02:17:09.893284",
     "exception": false,
     "start_time": "2021-04-26T02:17:00.457764",
     "status": "completed"
    },
    "tags": []
   },
   "outputs": [],
   "source": [
    "#hide_input\n",
    "blockchain = read_news('blockchain') \n",
    "btc = read_news('btc') \n",
    "xrp = read_news('xrp') \n",
    "trx = read_news('trx') \n",
    "eth = read_news('eth')  \n",
    "ada = read_news('ada')\n",
    "exchange = read_news('exchange') "
   ]
  },
  {
   "cell_type": "code",
   "execution_count": 3,
   "id": "synthetic-notion",
   "metadata": {
    "execution": {
     "iopub.execute_input": "2021-04-26T02:17:09.924215Z",
     "iopub.status.busy": "2021-04-26T02:17:09.923562Z",
     "iopub.status.idle": "2021-04-26T02:17:09.926933Z",
     "shell.execute_reply": "2021-04-26T02:17:09.926409Z"
    },
    "papermill": {
     "duration": 0.021434,
     "end_time": "2021-04-26T02:17:09.927056",
     "exception": false,
     "start_time": "2021-04-26T02:17:09.905622",
     "status": "completed"
    },
    "tags": []
   },
   "outputs": [
    {
     "data": {
      "text/markdown": [
       "- Are we ignoring this about Bitcoin mining.  Bitcoin mining&#8217;s energy consumption has been a major concern given how climate change and pollution are key challenges of our times. With mining companies worldwide drifting towards environmental-friendly ways of mining, Peter Wall, CEO of Argo Blockchain, a UK-based global crypto mining company said, “We are miners. We are the backbone of the whole thing. [&#8230;] ... [| Skaityti daugiau](https://ambcrypto.com/are-we-ignoring-this-about-bitcoin-mining/) "
      ],
      "text/plain": [
       "<IPython.core.display.Markdown object>"
      ]
     },
     "execution_count": 3,
     "metadata": {},
     "output_type": "execute_result"
    }
   ],
   "source": [
    "#hide_input\n",
    "#md('##### {}'.format(titleBTC)) \n",
    "md(\"- {}{} {}{} [| Skaityti daugiau]({}) \".format(blockchain['title'],'. ', blockchain['body'], ' ...', blockchain['url']))"
   ]
  },
  {
   "cell_type": "code",
   "execution_count": 4,
   "id": "aging-caution",
   "metadata": {
    "execution": {
     "iopub.execute_input": "2021-04-26T02:17:09.955635Z",
     "iopub.status.busy": "2021-04-26T02:17:09.954978Z",
     "iopub.status.idle": "2021-04-26T02:17:09.961377Z",
     "shell.execute_reply": "2021-04-26T02:17:09.960825Z"
    },
    "papermill": {
     "duration": 0.021765,
     "end_time": "2021-04-26T02:17:09.961503",
     "exception": false,
     "start_time": "2021-04-26T02:17:09.939738",
     "status": "completed"
    },
    "tags": []
   },
   "outputs": [
    {
     "data": {
      "text/markdown": [
       "- Quantum Fund Cofounder Jim Rogers Insists Governments Could Ban Cryptocurrencies.  Veteran investor Jim Rogers, who co-founded the Quantum Fund with billionaire investor George Soros, is still worried about governments outlawing bitcoin and other cryptocurrencies. &#8220;If cryptocurrencies become successful, most governments will outlaw them, because they don&#8217;t want to lose their monopoly,&#8221; he said. Jim Rogers Still Worried About Government Banning Bitcoin Renowned investor and George [&#8230;] ... [| Skaityti daugiau](https://news.bitcoin.com/quantum-fund-cofounder-jim-rogers-governments-ban-cryptocurrencies/) "
      ],
      "text/plain": [
       "<IPython.core.display.Markdown object>"
      ]
     },
     "execution_count": 4,
     "metadata": {},
     "output_type": "execute_result"
    }
   ],
   "source": [
    "#hide_input\n",
    "#md('##### {}'.format(titleBTC)) \n",
    "md(\"- {}{} {}{} [| Skaityti daugiau]({}) \".format(btc['title'],'. ', btc['body'], ' ...', btc['url']))"
   ]
  },
  {
   "cell_type": "code",
   "execution_count": 5,
   "id": "organic-actress",
   "metadata": {
    "execution": {
     "iopub.execute_input": "2021-04-26T02:17:09.992265Z",
     "iopub.status.busy": "2021-04-26T02:17:09.991603Z",
     "iopub.status.idle": "2021-04-26T02:17:09.994163Z",
     "shell.execute_reply": "2021-04-26T02:17:09.994691Z"
    },
    "papermill": {
     "duration": 0.021026,
     "end_time": "2021-04-26T02:17:09.994831",
     "exception": false,
     "start_time": "2021-04-26T02:17:09.973805",
     "status": "completed"
    },
    "tags": []
   },
   "outputs": [
    {
     "data": {
      "text/markdown": [
       "- XRP Price Analysis: 25 April.  April has been an interesting month for the crypto industry as a rapid market rally was followed by a significant correction over the past week. XRP registered a position above $1 and went on to reach $1.96 but since then, the asset has declined in the charts. While the market sentiment remains somewhat bullish, the [&#8230;] ... [| Skaityti daugiau](https://ambcrypto.com/xrp-price-analysis-25-april/) "
      ],
      "text/plain": [
       "<IPython.core.display.Markdown object>"
      ]
     },
     "execution_count": 5,
     "metadata": {},
     "output_type": "execute_result"
    }
   ],
   "source": [
    "#hide_input\n",
    "#md('##### {}'.format(titleBTC)) \n",
    "md(\"- {}{} {}{} [| Skaityti daugiau]({}) \".format(xrp['title'],'. ', xrp['body'], ' ...', xrp['url']))"
   ]
  },
  {
   "cell_type": "code",
   "execution_count": 6,
   "id": "prompt-farmer",
   "metadata": {
    "execution": {
     "iopub.execute_input": "2021-04-26T02:17:10.027913Z",
     "iopub.status.busy": "2021-04-26T02:17:10.027253Z",
     "iopub.status.idle": "2021-04-26T02:17:10.029867Z",
     "shell.execute_reply": "2021-04-26T02:17:10.030407Z"
    },
    "papermill": {
     "duration": 0.02168,
     "end_time": "2021-04-26T02:17:10.030543",
     "exception": false,
     "start_time": "2021-04-26T02:17:10.008863",
     "status": "completed"
    },
    "tags": []
   },
   "outputs": [
    {
     "data": {
      "text/markdown": [
       "- Tron, BitTorrent, VeChain Price Analysis: 24 April.  After withstanding a volatile market, Tron [TRX], along with other altcoins like BitTorrent [BTT] and VeChain [VET], was trying to build back its value. However, the ongoing bearishness across the crypto-market was making it difficult for the altcoin to gain back its lost value. Tron [TRX] Tron&#8217;s market noted a visible surge in price as [&#8230;] ... [| Skaityti daugiau](https://ambcrypto.com/tron-bittorrent-vechain-price-analysis-24-april/) "
      ],
      "text/plain": [
       "<IPython.core.display.Markdown object>"
      ]
     },
     "execution_count": 6,
     "metadata": {},
     "output_type": "execute_result"
    }
   ],
   "source": [
    "#hide_input\n",
    "#md('##### {}'.format(titleBTC)) \n",
    "md(\"- {}{} {}{} [| Skaityti daugiau]({}) \".format(trx['title'],'. ', trx['body'], ' ...', trx['url']))"
   ]
  },
  {
   "cell_type": "code",
   "execution_count": 7,
   "id": "illegal-greece",
   "metadata": {
    "execution": {
     "iopub.execute_input": "2021-04-26T02:17:10.065509Z",
     "iopub.status.busy": "2021-04-26T02:17:10.064663Z",
     "iopub.status.idle": "2021-04-26T02:17:10.067266Z",
     "shell.execute_reply": "2021-04-26T02:17:10.067953Z"
    },
    "papermill": {
     "duration": 0.021834,
     "end_time": "2021-04-26T02:17:10.068087",
     "exception": false,
     "start_time": "2021-04-26T02:17:10.046253",
     "status": "completed"
    },
    "tags": []
   },
   "outputs": [
    {
     "data": {
      "text/markdown": [
       "- Top 5 cryptocurrencies to watch this week: BTC, ETH, BNB, XMR, CAKE.  Bitcoin price remains pinned below $50,000 but the drop in BTC dominance could propel ETH, BNB, XMR and CAKE higher over the short term.  ... [| Skaityti daugiau](https://cointelegraph.com/news/top-5-cryptocurrencies-to-watch-this-week-btc-eth-bnb-xmr-cake) "
      ],
      "text/plain": [
       "<IPython.core.display.Markdown object>"
      ]
     },
     "execution_count": 7,
     "metadata": {},
     "output_type": "execute_result"
    }
   ],
   "source": [
    "#hide_input\n",
    "#md('##### {}'.format(titleBTC)) \n",
    "md(\"- {}{} {}{} [| Skaityti daugiau]({}) \".format(eth['title'],'. ', eth['body'], ' ...', eth['url']))"
   ]
  },
  {
   "cell_type": "code",
   "execution_count": 8,
   "id": "sublime-lounge",
   "metadata": {
    "execution": {
     "iopub.execute_input": "2021-04-26T02:17:10.102263Z",
     "iopub.status.busy": "2021-04-26T02:17:10.101531Z",
     "iopub.status.idle": "2021-04-26T02:17:10.104873Z",
     "shell.execute_reply": "2021-04-26T02:17:10.104218Z"
    },
    "papermill": {
     "duration": 0.021925,
     "end_time": "2021-04-26T02:17:10.104998",
     "exception": false,
     "start_time": "2021-04-26T02:17:10.083073",
     "status": "completed"
    },
    "tags": []
   },
   "outputs": [
    {
     "data": {
      "text/markdown": [
       "- Cardano, Monero, Crypto.com Coin Price Analysis: 25 April.  While some altcoins were trying to find stable ground, a few had already recovered from the volatile market. As Cardano&#8217;s [ADA] price moves cautiously, Monero [XMR] and Crypto.com [CRO] had witnessed growth. Meanwhile, Bitcoin continued to trade around $49,834 and has seen a 24-hour price change of +0.97 percent. Cardano [ADA] The above chart of [&#8230;] ... [| Skaityti daugiau](https://ambcrypto.com/cardano-monero-crypto-com-coin-price-analysis-25-april/) "
      ],
      "text/plain": [
       "<IPython.core.display.Markdown object>"
      ]
     },
     "execution_count": 8,
     "metadata": {},
     "output_type": "execute_result"
    }
   ],
   "source": [
    "#hide_input\n",
    "#md('##### {}'.format(titleBTC)) \n",
    "md(\"- {}{} {}{} [| Skaityti daugiau]({}) \".format(ada['title'],'. ', ada['body'], ' ...', ada['url']))"
   ]
  },
  {
   "cell_type": "code",
   "execution_count": 9,
   "id": "specified-ordering",
   "metadata": {
    "execution": {
     "iopub.execute_input": "2021-04-26T02:17:10.137765Z",
     "iopub.status.busy": "2021-04-26T02:17:10.137113Z",
     "iopub.status.idle": "2021-04-26T02:17:10.140316Z",
     "shell.execute_reply": "2021-04-26T02:17:10.139761Z"
    },
    "papermill": {
     "duration": 0.021394,
     "end_time": "2021-04-26T02:17:10.140435",
     "exception": false,
     "start_time": "2021-04-26T02:17:10.119041",
     "status": "completed"
    },
    "tags": []
   },
   "outputs": [
    {
     "data": {
      "text/markdown": [
       "- 2 Turkish Crypto Exchanges Investigated for Fraud After Central Bank Bans Cryptocurrency Use for Payments.  Two Turkish cryptocurrency exchanges are being investigated by the authorities in Turkey after they abruptly halted trading. The authorities have blocked access to the bank accounts of the second exchange and detained four people so far. Sixty-two people have been detained in connection with the first exchange whose CEO has fled the country. Second Turkish [&#8230;] ... [| Skaityti daugiau](https://news.bitcoin.com/2-turkish-crypto-exchanges-investigated-fraud-central-bank-bans-cryptocurrency-use-payments/) "
      ],
      "text/plain": [
       "<IPython.core.display.Markdown object>"
      ]
     },
     "execution_count": 9,
     "metadata": {},
     "output_type": "execute_result"
    }
   ],
   "source": [
    "#hide_input\n",
    "#md('##### {}'.format(titleBTC)) \n",
    "md(\"- {}{} {}{} [| Skaityti daugiau]({}) \".format(exchange['title'],'. ', exchange['body'], ' ...', exchange['url']))"
   ]
  },
  {
   "cell_type": "code",
   "execution_count": null,
   "id": "tender-livestock",
   "metadata": {
    "papermill": {
     "duration": 0.014479,
     "end_time": "2021-04-26T02:17:10.169080",
     "exception": false,
     "start_time": "2021-04-26T02:17:10.154601",
     "status": "completed"
    },
    "tags": []
   },
   "outputs": [],
   "source": []
  },
  {
   "cell_type": "code",
   "execution_count": null,
   "id": "appreciated-diamond",
   "metadata": {
    "papermill": {
     "duration": 0.014245,
     "end_time": "2021-04-26T02:17:10.198457",
     "exception": false,
     "start_time": "2021-04-26T02:17:10.184212",
     "status": "completed"
    },
    "tags": []
   },
   "outputs": [],
   "source": []
  },
  {
   "cell_type": "code",
   "execution_count": null,
   "id": "romance-sweden",
   "metadata": {
    "papermill": {
     "duration": 0.014233,
     "end_time": "2021-04-26T02:17:10.226860",
     "exception": false,
     "start_time": "2021-04-26T02:17:10.212627",
     "status": "completed"
    },
    "tags": []
   },
   "outputs": [],
   "source": []
  },
  {
   "cell_type": "code",
   "execution_count": null,
   "id": "dietary-statistics",
   "metadata": {
    "papermill": {
     "duration": 0.014809,
     "end_time": "2021-04-26T02:17:10.256001",
     "exception": false,
     "start_time": "2021-04-26T02:17:10.241192",
     "status": "completed"
    },
    "tags": []
   },
   "outputs": [],
   "source": []
  }
 ],
 "metadata": {
  "kernelspec": {
   "display_name": "Python 3",
   "language": "python",
   "name": "python3"
  },
  "language_info": {
   "codemirror_mode": {
    "name": "ipython",
    "version": 3
   },
   "file_extension": ".py",
   "mimetype": "text/x-python",
   "name": "python",
   "nbconvert_exporter": "python",
   "pygments_lexer": "ipython3",
   "version": "3.6.13"
  },
  "papermill": {
   "default_parameters": {},
   "duration": 12.749822,
   "end_time": "2021-04-26T02:17:10.677798",
   "environment_variables": {},
   "exception": null,
   "input_path": "Market-News.ipynb",
   "output_path": "Market-News.ipynb",
   "parameters": {},
   "start_time": "2021-04-26T02:16:57.927976",
   "version": "2.2.2"
  }
 },
 "nbformat": 4,
 "nbformat_minor": 5
}