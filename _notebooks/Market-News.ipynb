{
 "cells": [
  {
   "cell_type": "markdown",
   "id": "short-greensboro",
   "metadata": {
    "papermill": {
     "duration": 0.018457,
     "end_time": "2021-04-13T02:11:08.976043",
     "exception": false,
     "start_time": "2021-04-13T02:11:08.957586",
     "status": "completed"
    },
    "tags": []
   },
   "source": [
    "# Kriptovaliutų naujienos"
   ]
  },
  {
   "cell_type": "code",
   "execution_count": 1,
   "id": "functioning-knowing",
   "metadata": {
    "execution": {
     "iopub.execute_input": "2021-04-13T02:11:09.008345Z",
     "iopub.status.busy": "2021-04-13T02:11:09.007802Z",
     "iopub.status.idle": "2021-04-13T02:11:10.185914Z",
     "shell.execute_reply": "2021-04-13T02:11:10.185304Z"
    },
    "papermill": {
     "duration": 1.198997,
     "end_time": "2021-04-13T02:11:10.186083",
     "exception": false,
     "start_time": "2021-04-13T02:11:08.987086",
     "status": "completed"
    },
    "tags": []
   },
   "outputs": [],
   "source": [
    "#hide_input\n",
    "import warnings\n",
    "warnings.filterwarnings('ignore')\n",
    "from scripts.read_data import read_api\n",
    "from scripts.read_data import read_news\n",
    "from scripts.read_data import read_covid\n",
    "import matplotlib.pyplot as plt \n",
    "from IPython.display import Markdown as md"
   ]
  },
  {
   "cell_type": "code",
   "execution_count": 2,
   "id": "shared-acceptance",
   "metadata": {
    "execution": {
     "iopub.execute_input": "2021-04-13T02:11:10.213996Z",
     "iopub.status.busy": "2021-04-13T02:11:10.213054Z",
     "iopub.status.idle": "2021-04-13T02:11:18.419831Z",
     "shell.execute_reply": "2021-04-13T02:11:18.419283Z"
    },
    "papermill": {
     "duration": 8.222426,
     "end_time": "2021-04-13T02:11:18.419972",
     "exception": false,
     "start_time": "2021-04-13T02:11:10.197546",
     "status": "completed"
    },
    "tags": []
   },
   "outputs": [],
   "source": [
    "#hide_input\n",
    "blockchain = read_news('blockchain') \n",
    "btc = read_news('btc') \n",
    "xrp = read_news('xrp') \n",
    "trx = read_news('trx') \n",
    "eth = read_news('eth')  \n",
    "ada = read_news('ada')\n",
    "exchange = read_news('exchange') "
   ]
  },
  {
   "cell_type": "code",
   "execution_count": 3,
   "id": "synthetic-notion",
   "metadata": {
    "execution": {
     "iopub.execute_input": "2021-04-13T02:11:18.446973Z",
     "iopub.status.busy": "2021-04-13T02:11:18.446440Z",
     "iopub.status.idle": "2021-04-13T02:11:18.452002Z",
     "shell.execute_reply": "2021-04-13T02:11:18.452407Z"
    },
    "papermill": {
     "duration": 0.022322,
     "end_time": "2021-04-13T02:11:18.452559",
     "exception": false,
     "start_time": "2021-04-13T02:11:18.430237",
     "status": "completed"
    },
    "tags": []
   },
   "outputs": [
    {
     "data": {
      "text/markdown": [
       "- Poker Prospers in Blockchain’s Promising Landscape.  Gambling may be no stranger to the blockchain, but poker&#8217;s appeal amongst players has only expanded further as poker sites embrace bitcoin and Covid-19 moves gameplay increasingly online. Famed Game Puts Spotlight on Varied Blockchain Use Cases Although online betting and gaming were already widely popular before the emergence of blockchain, as the technology has [&#8230;] ... [| Skaityti daugiau](https://news.bitcoin.com/poker-prospers-in-blockchains-promising-landscape/) "
      ],
      "text/plain": [
       "<IPython.core.display.Markdown object>"
      ]
     },
     "execution_count": 3,
     "metadata": {},
     "output_type": "execute_result"
    }
   ],
   "source": [
    "#hide_input\n",
    "#md('##### {}'.format(titleBTC)) \n",
    "md(\"- {}{} {}{} [| Skaityti daugiau]({}) \".format(blockchain['title'],'. ', blockchain['body'], ' ...', blockchain['url']))"
   ]
  },
  {
   "cell_type": "code",
   "execution_count": 4,
   "id": "aging-caution",
   "metadata": {
    "execution": {
     "iopub.execute_input": "2021-04-13T02:11:18.478089Z",
     "iopub.status.busy": "2021-04-13T02:11:18.477380Z",
     "iopub.status.idle": "2021-04-13T02:11:18.480828Z",
     "shell.execute_reply": "2021-04-13T02:11:18.481287Z"
    },
    "papermill": {
     "duration": 0.018969,
     "end_time": "2021-04-13T02:11:18.481414",
     "exception": false,
     "start_time": "2021-04-13T02:11:18.462445",
     "status": "completed"
    },
    "tags": []
   },
   "outputs": [
    {
     "data": {
      "text/markdown": [
       "- By The Numbers: The Rate Bitcoin Must Climb To Reach $100K By July.  Bitcoin is a numbers game through and through. There are only 21 million BTC. The code and its consensus algorithm are both made up of complex math. The total coins are slashed in half every four years, and so on and so fourth. Most important of all, here&#8217;s the growth rate Bitcoin price must hit [&#8230;] ... [| Skaityti daugiau](https://www.newsbtc.com/analysis/btc/rate-bitcoin-100k-by-july/) "
      ],
      "text/plain": [
       "<IPython.core.display.Markdown object>"
      ]
     },
     "execution_count": 4,
     "metadata": {},
     "output_type": "execute_result"
    }
   ],
   "source": [
    "#hide_input\n",
    "#md('##### {}'.format(titleBTC)) \n",
    "md(\"- {}{} {}{} [| Skaityti daugiau]({}) \".format(btc['title'],'. ', btc['body'], ' ...', btc['url']))"
   ]
  },
  {
   "cell_type": "code",
   "execution_count": 5,
   "id": "organic-actress",
   "metadata": {
    "execution": {
     "iopub.execute_input": "2021-04-13T02:11:18.508405Z",
     "iopub.status.busy": "2021-04-13T02:11:18.507838Z",
     "iopub.status.idle": "2021-04-13T02:11:18.511060Z",
     "shell.execute_reply": "2021-04-13T02:11:18.510562Z"
    },
    "papermill": {
     "duration": 0.018996,
     "end_time": "2021-04-13T02:11:18.511176",
     "exception": false,
     "start_time": "2021-04-13T02:11:18.492180",
     "status": "completed"
    },
    "tags": []
   },
   "outputs": [
    {
     "data": {
      "text/markdown": [
       "- Prominent Analyst Reveals Mega Bullish Targets for XRP, Litecoin, and Binance Coin.  A high-profile crypto trader is offering up some short-term bullish price predictions for XRP, Litecoin (LTC) and Binance Coin (BNB). The pseudonymous analyst Kaleo shared with his 161,000 followers that he believes XRP is going to surmount the $2 dollar mark within the next week. “XRP. ARE YOU NOT ENTERTAINED??? SEND IT HIGHER” The fourth-largest [&#8230;]The post Prominent Analyst Reveals Mega Bullish Targets for XRP, Litecoin, and Binance Coin appeared first on The Daily Hodl. ... [| Skaityti daugiau](https://dailyhodl.com/2021/04/12/prominent-analyst-reveals-mega-bullish-targets-for-xrp-litecoin-and-binance-coin/) "
      ],
      "text/plain": [
       "<IPython.core.display.Markdown object>"
      ]
     },
     "execution_count": 5,
     "metadata": {},
     "output_type": "execute_result"
    }
   ],
   "source": [
    "#hide_input\n",
    "#md('##### {}'.format(titleBTC)) \n",
    "md(\"- {}{} {}{} [| Skaityti daugiau]({}) \".format(xrp['title'],'. ', xrp['body'], ' ...', xrp['url']))"
   ]
  },
  {
   "cell_type": "code",
   "execution_count": 6,
   "id": "prompt-farmer",
   "metadata": {
    "execution": {
     "iopub.execute_input": "2021-04-13T02:11:18.539361Z",
     "iopub.status.busy": "2021-04-13T02:11:18.538837Z",
     "iopub.status.idle": "2021-04-13T02:11:18.542384Z",
     "shell.execute_reply": "2021-04-13T02:11:18.541929Z"
    },
    "papermill": {
     "duration": 0.019053,
     "end_time": "2021-04-13T02:11:18.542488",
     "exception": false,
     "start_time": "2021-04-13T02:11:18.523435",
     "status": "completed"
    },
    "tags": []
   },
   "outputs": [
    {
     "data": {
      "text/markdown": [
       "- Tron, Tezos, Synthetix Price Analysis: 12 April.  Tron was expected to move lower from its ascending channel but only after the price touched $0.139. Tezos could break down from a descending triangle, while Synthetix did not seem likely to regain the $22-mark over the coming sessions. Tron [TRX] After Tron was unable to flip $0.132 to a region of support, the price [&#8230;] ... [| Skaityti daugiau](https://ambcrypto.com/tron-tezos-synthetix-price-analysis-12-april/) "
      ],
      "text/plain": [
       "<IPython.core.display.Markdown object>"
      ]
     },
     "execution_count": 6,
     "metadata": {},
     "output_type": "execute_result"
    }
   ],
   "source": [
    "#hide_input\n",
    "#md('##### {}'.format(titleBTC)) \n",
    "md(\"- {}{} {}{} [| Skaityti daugiau]({}) \".format(trx['title'],'. ', trx['body'], ' ...', trx['url']))"
   ]
  },
  {
   "cell_type": "code",
   "execution_count": 7,
   "id": "illegal-greece",
   "metadata": {
    "execution": {
     "iopub.execute_input": "2021-04-13T02:11:18.569585Z",
     "iopub.status.busy": "2021-04-13T02:11:18.569025Z",
     "iopub.status.idle": "2021-04-13T02:11:18.572183Z",
     "shell.execute_reply": "2021-04-13T02:11:18.571739Z"
    },
    "papermill": {
     "duration": 0.01829,
     "end_time": "2021-04-13T02:11:18.572288",
     "exception": false,
     "start_time": "2021-04-13T02:11:18.553998",
     "status": "completed"
    },
    "tags": []
   },
   "outputs": [
    {
     "data": {
      "text/markdown": [
       "- Nvidia estimates $150 million in revenue from new crypto mining product in Q1 of 2022 fiscal year.  Computing hardware maker Nvidia is projecting as much as $150 million in revenue for its crypto mining-specific product line during the first quarter of the firm&#8217;s 2022 fiscal year. The $150 million revenue estimate was included in an April 12 release, which came months after the firm confirmed that it would produce and sell so-called [&#8230;]The post Nvidia estimates $150 million in revenue from new crypto mining product in Q1 of 2022 fiscal year appeared first on The Block. ... [| Skaityti daugiau](https://www.theblockcrypto.com/linked/101418/nvidia-estimates-new-crypto-mining-product-hardware?utm_source=cryptocompare&utm_medium=rss) "
      ],
      "text/plain": [
       "<IPython.core.display.Markdown object>"
      ]
     },
     "execution_count": 7,
     "metadata": {},
     "output_type": "execute_result"
    }
   ],
   "source": [
    "#hide_input\n",
    "#md('##### {}'.format(titleBTC)) \n",
    "md(\"- {}{} {}{} [| Skaityti daugiau]({}) \".format(eth['title'],'. ', eth['body'], ' ...', eth['url']))"
   ]
  },
  {
   "cell_type": "code",
   "execution_count": 8,
   "id": "sublime-lounge",
   "metadata": {
    "execution": {
     "iopub.execute_input": "2021-04-13T02:11:18.598827Z",
     "iopub.status.busy": "2021-04-13T02:11:18.598267Z",
     "iopub.status.idle": "2021-04-13T02:11:18.601890Z",
     "shell.execute_reply": "2021-04-13T02:11:18.601470Z"
    },
    "papermill": {
     "duration": 0.018864,
     "end_time": "2021-04-13T02:11:18.601995",
     "exception": false,
     "start_time": "2021-04-13T02:11:18.583131",
     "status": "completed"
    },
    "tags": []
   },
   "outputs": [
    {
     "data": {
      "text/markdown": [
       "- Cardano ($ADA) Stake Pool Operator Launches Super Easy Way to Create Your Own NFTs.  Patrick Tobler (@Padierfind on Twitter), the computer science from Stuttgart, Germany, who is the operator behind Cardano stake pool “Pool of Babel“, has launched a super easy tool for creating your own non-fungible tokens (NFTs) on Cardano. Here is how Tobler announced the news on Twitter last Friday (April 9): The following animated GIF shows […] ... [| Skaityti daugiau](https://www.cryptoglobe.com/latest/2021/04/cardano-ada-stake-pool-operator-launches-super-easy-way-to-create-your-own-nfts/) "
      ],
      "text/plain": [
       "<IPython.core.display.Markdown object>"
      ]
     },
     "execution_count": 8,
     "metadata": {},
     "output_type": "execute_result"
    }
   ],
   "source": [
    "#hide_input\n",
    "#md('##### {}'.format(titleBTC)) \n",
    "md(\"- {}{} {}{} [| Skaityti daugiau]({}) \".format(ada['title'],'. ', ada['body'], ' ...', ada['url']))"
   ]
  },
  {
   "cell_type": "code",
   "execution_count": 9,
   "id": "specified-ordering",
   "metadata": {
    "execution": {
     "iopub.execute_input": "2021-04-13T02:11:18.629038Z",
     "iopub.status.busy": "2021-04-13T02:11:18.628476Z",
     "iopub.status.idle": "2021-04-13T02:11:18.631371Z",
     "shell.execute_reply": "2021-04-13T02:11:18.630924Z"
    },
    "papermill": {
     "duration": 0.018233,
     "end_time": "2021-04-13T02:11:18.631472",
     "exception": false,
     "start_time": "2021-04-13T02:11:18.613239",
     "status": "completed"
    },
    "tags": []
   },
   "outputs": [
    {
     "data": {
      "text/markdown": [
       "- Chat App Giant Kakao ‘Owns 23% of Crypto Exchange Operator’.  The South Korean internet giant Kakao reportedly owns “around” 23% of Dunamu, the operator of the nation’s market-leading crypto exchange Upbit, per South Korean media outlets.Two of the country’s biggest financial newspapers – Maeil Kyungjae and Money Today – made mention of the company’s minority ownership of Kakao in recent reports about Kakao’s financial ... [| Skaityti daugiau](https://cryptonews.com/news/chat-app-giant-kakao-owns-23-of-crypto-exchange-operator-9882.htm) "
      ],
      "text/plain": [
       "<IPython.core.display.Markdown object>"
      ]
     },
     "execution_count": 9,
     "metadata": {},
     "output_type": "execute_result"
    }
   ],
   "source": [
    "#hide_input\n",
    "#md('##### {}'.format(titleBTC)) \n",
    "md(\"- {}{} {}{} [| Skaityti daugiau]({}) \".format(exchange['title'],'. ', exchange['body'], ' ...', exchange['url']))"
   ]
  },
  {
   "cell_type": "code",
   "execution_count": null,
   "id": "tender-livestock",
   "metadata": {
    "papermill": {
     "duration": 0.012183,
     "end_time": "2021-04-13T02:11:18.655062",
     "exception": false,
     "start_time": "2021-04-13T02:11:18.642879",
     "status": "completed"
    },
    "tags": []
   },
   "outputs": [],
   "source": []
  },
  {
   "cell_type": "code",
   "execution_count": null,
   "id": "appreciated-diamond",
   "metadata": {
    "papermill": {
     "duration": 0.01283,
     "end_time": "2021-04-13T02:11:18.680684",
     "exception": false,
     "start_time": "2021-04-13T02:11:18.667854",
     "status": "completed"
    },
    "tags": []
   },
   "outputs": [],
   "source": []
  },
  {
   "cell_type": "code",
   "execution_count": null,
   "id": "romance-sweden",
   "metadata": {
    "papermill": {
     "duration": 0.012411,
     "end_time": "2021-04-13T02:11:18.705806",
     "exception": false,
     "start_time": "2021-04-13T02:11:18.693395",
     "status": "completed"
    },
    "tags": []
   },
   "outputs": [],
   "source": []
  },
  {
   "cell_type": "code",
   "execution_count": null,
   "id": "dietary-statistics",
   "metadata": {
    "papermill": {
     "duration": 0.01241,
     "end_time": "2021-04-13T02:11:18.730664",
     "exception": false,
     "start_time": "2021-04-13T02:11:18.718254",
     "status": "completed"
    },
    "tags": []
   },
   "outputs": [],
   "source": []
  }
 ],
 "metadata": {
  "kernelspec": {
   "display_name": "Python 3",
   "language": "python",
   "name": "python3"
  },
  "language_info": {
   "codemirror_mode": {
    "name": "ipython",
    "version": 3
   },
   "file_extension": ".py",
   "mimetype": "text/x-python",
   "name": "python",
   "nbconvert_exporter": "python",
   "pygments_lexer": "ipython3",
   "version": "3.6.13"
  },
  "papermill": {
   "default_parameters": {},
   "duration": 11.234382,
   "end_time": "2021-04-13T02:11:19.152143",
   "environment_variables": {},
   "exception": null,
   "input_path": "Market-News.ipynb",
   "output_path": "Market-News.ipynb",
   "parameters": {},
   "start_time": "2021-04-13T02:11:07.917761",
   "version": "2.2.2"
  }
 },
 "nbformat": 4,
 "nbformat_minor": 5
}