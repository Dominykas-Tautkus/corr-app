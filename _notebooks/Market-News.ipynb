{
 "cells": [
  {
   "cell_type": "markdown",
   "id": "short-greensboro",
   "metadata": {
    "papermill": {
     "duration": 0.012035,
     "end_time": "2021-03-06T01:44:02.479251",
     "exception": false,
     "start_time": "2021-03-06T01:44:02.467216",
     "status": "completed"
    },
    "tags": []
   },
   "source": [
    "# Kriptovaliutų naujienos"
   ]
  },
  {
   "cell_type": "code",
   "execution_count": 1,
   "id": "functioning-knowing",
   "metadata": {
    "execution": {
     "iopub.execute_input": "2021-03-06T01:44:02.507717Z",
     "iopub.status.busy": "2021-03-06T01:44:02.507069Z",
     "iopub.status.idle": "2021-03-06T01:44:03.645764Z",
     "shell.execute_reply": "2021-03-06T01:44:03.645243Z"
    },
    "papermill": {
     "duration": 1.157148,
     "end_time": "2021-03-06T01:44:03.645899",
     "exception": false,
     "start_time": "2021-03-06T01:44:02.488751",
     "status": "completed"
    },
    "tags": []
   },
   "outputs": [],
   "source": [
    "#hide_input\n",
    "import warnings\n",
    "warnings.filterwarnings('ignore')\n",
    "from scripts.read_data import read_api\n",
    "from scripts.read_data import read_news\n",
    "from scripts.read_data import read_covid\n",
    "import matplotlib.pyplot as plt \n",
    "from IPython.display import Markdown as md"
   ]
  },
  {
   "cell_type": "code",
   "execution_count": 2,
   "id": "shared-acceptance",
   "metadata": {
    "execution": {
     "iopub.execute_input": "2021-03-06T01:44:03.673584Z",
     "iopub.status.busy": "2021-03-06T01:44:03.672684Z",
     "iopub.status.idle": "2021-03-06T01:44:11.513275Z",
     "shell.execute_reply": "2021-03-06T01:44:11.512838Z"
    },
    "papermill": {
     "duration": 7.856837,
     "end_time": "2021-03-06T01:44:11.513425",
     "exception": false,
     "start_time": "2021-03-06T01:44:03.656588",
     "status": "completed"
    },
    "tags": []
   },
   "outputs": [],
   "source": [
    "#hide_input\n",
    "blockchain = read_news('blockchain') \n",
    "btc = read_news('btc') \n",
    "xrp = read_news('xrp') \n",
    "trx = read_news('trx') \n",
    "eth = read_news('eth')  \n",
    "ada = read_news('ada')\n",
    "exchange = read_news('exchange') "
   ]
  },
  {
   "cell_type": "code",
   "execution_count": 3,
   "id": "synthetic-notion",
   "metadata": {
    "execution": {
     "iopub.execute_input": "2021-03-06T01:44:11.536913Z",
     "iopub.status.busy": "2021-03-06T01:44:11.536385Z",
     "iopub.status.idle": "2021-03-06T01:44:11.539350Z",
     "shell.execute_reply": "2021-03-06T01:44:11.538831Z"
    },
    "papermill": {
     "duration": 0.017077,
     "end_time": "2021-03-06T01:44:11.539446",
     "exception": false,
     "start_time": "2021-03-06T01:44:11.522369",
     "status": "completed"
    },
    "tags": []
   },
   "outputs": [
    {
     "data": {
      "text/markdown": [
       "- Five Crypto Projects Are Going Mainstream This Month, Says Altcoin Daily’s Austin Arnold.  Altcoin Daily founder and trader Austin Arnold says five crypto projects are going mainstream in March thanks to new business developments. First up on Arnold&#8217;s list is Ethereum (ETH). The trader cites the announcement that Amazon Web Services (AWS) has made Ethereum available on the Amazon Managed Blockchain. Amazon says the move will make it [&#8230;]The post Five Crypto Projects Are Going Mainstream This Month, Says Altcoin Daily&#8217;s Austin Arnold appeared first on The Daily Hodl. ... [| Skaityti daugiau](https://dailyhodl.com/2021/03/05/five-crypto-projects-are-going-mainstream-this-month-says-altcoin-dailys-austin-arnold/) "
      ],
      "text/plain": [
       "<IPython.core.display.Markdown object>"
      ]
     },
     "execution_count": 3,
     "metadata": {},
     "output_type": "execute_result"
    }
   ],
   "source": [
    "#hide_input\n",
    "#md('##### {}'.format(titleBTC)) \n",
    "md(\"- {}{} {}{} [| Skaityti daugiau]({}) \".format(blockchain['title'],'. ', blockchain['body'], ' ...', blockchain['url']))"
   ]
  },
  {
   "cell_type": "code",
   "execution_count": 4,
   "id": "aging-caution",
   "metadata": {
    "execution": {
     "iopub.execute_input": "2021-03-06T01:44:11.560298Z",
     "iopub.status.busy": "2021-03-06T01:44:11.559772Z",
     "iopub.status.idle": "2021-03-06T01:44:11.566011Z",
     "shell.execute_reply": "2021-03-06T01:44:11.566460Z"
    },
    "papermill": {
     "duration": 0.018008,
     "end_time": "2021-03-06T01:44:11.566598",
     "exception": false,
     "start_time": "2021-03-06T01:44:11.548590",
     "status": "completed"
    },
    "tags": []
   },
   "outputs": [
    {
     "data": {
      "text/markdown": [
       "- John McAfee Indicted by DOJ Over Alleged Cryptocurrency Fraud Charges.  Tech entrepreneur and former anti-virus tycoon John McAfee has been indicted by the U.S. Department of Justice (DoJ) on money laundering and fraud charges. The United States Attorney for the Southern District of New York and the FBI unsealed the indictment charging McAfee and his associate Jimmy Watson with securities fraud. John McAfee Indicted by [&#8230;] ... [| Skaityti daugiau](https://news.bitcoin.com/us-indicts-john-mcafee-alleged-cryptocurrency-fraud-money-laundering/) "
      ],
      "text/plain": [
       "<IPython.core.display.Markdown object>"
      ]
     },
     "execution_count": 4,
     "metadata": {},
     "output_type": "execute_result"
    }
   ],
   "source": [
    "#hide_input\n",
    "#md('##### {}'.format(titleBTC)) \n",
    "md(\"- {}{} {}{} [| Skaityti daugiau]({}) \".format(btc['title'],'. ', btc['body'], ' ...', btc['url']))"
   ]
  },
  {
   "cell_type": "code",
   "execution_count": 5,
   "id": "organic-actress",
   "metadata": {
    "execution": {
     "iopub.execute_input": "2021-03-06T01:44:11.596805Z",
     "iopub.status.busy": "2021-03-06T01:44:11.596257Z",
     "iopub.status.idle": "2021-03-06T01:44:11.598995Z",
     "shell.execute_reply": "2021-03-06T01:44:11.599444Z"
    },
    "papermill": {
     "duration": 0.01803,
     "end_time": "2021-03-06T01:44:11.599560",
     "exception": false,
     "start_time": "2021-03-06T01:44:11.581530",
     "status": "completed"
    },
    "tags": []
   },
   "outputs": [
    {
     "data": {
      "text/markdown": [
       "- Price analysis 3/5: BTC, ETH, ADA, BNB, DOT, XRP, UNI, LTC, LINK, BCH.  Selling pressure from global equities markets continues to weigh on Bitcoin price as traders endeavor to flip the $50,000 level back to support.  ... [| Skaityti daugiau](https://cointelegraph.com/news/price-analysis-3-5-btc-eth-ada-bnb-dot-xrp-uni-ltc-link-bch) "
      ],
      "text/plain": [
       "<IPython.core.display.Markdown object>"
      ]
     },
     "execution_count": 5,
     "metadata": {},
     "output_type": "execute_result"
    }
   ],
   "source": [
    "#hide_input\n",
    "#md('##### {}'.format(titleBTC)) \n",
    "md(\"- {}{} {}{} [| Skaityti daugiau]({}) \".format(xrp['title'],'. ', xrp['body'], ' ...', xrp['url']))"
   ]
  },
  {
   "cell_type": "code",
   "execution_count": 6,
   "id": "prompt-farmer",
   "metadata": {
    "execution": {
     "iopub.execute_input": "2021-03-06T01:44:11.624388Z",
     "iopub.status.busy": "2021-03-06T01:44:11.623847Z",
     "iopub.status.idle": "2021-03-06T01:44:11.626425Z",
     "shell.execute_reply": "2021-03-06T01:44:11.626961Z"
    },
    "papermill": {
     "duration": 0.01714,
     "end_time": "2021-03-06T01:44:11.627072",
     "exception": false,
     "start_time": "2021-03-06T01:44:11.609932",
     "status": "completed"
    },
    "tags": []
   },
   "outputs": [
    {
     "data": {
      "text/markdown": [
       "- Bitcoin Cash, Tron, Elrond Price Analysis: 04 March.  Bitcoin Cash was trading just above a level of support at $507 as bearish momentum took sway. Tron and Elrond appeared to regain some bullish momentum though as while Tron climbed past $0.05, EGLD broke out of its descending channel pattern over the past few days. Bitcoin Cash [BCH] BCH noted a bearish divergence on [&#8230;] ... [| Skaityti daugiau](https://ambcrypto.com/bitcoin-cash-tron-elrond-price-analysis-04-march/) "
      ],
      "text/plain": [
       "<IPython.core.display.Markdown object>"
      ]
     },
     "execution_count": 6,
     "metadata": {},
     "output_type": "execute_result"
    }
   ],
   "source": [
    "#hide_input\n",
    "#md('##### {}'.format(titleBTC)) \n",
    "md(\"- {}{} {}{} [| Skaityti daugiau]({}) \".format(trx['title'],'. ', trx['body'], ' ...', trx['url']))"
   ]
  },
  {
   "cell_type": "code",
   "execution_count": 7,
   "id": "illegal-greece",
   "metadata": {
    "execution": {
     "iopub.execute_input": "2021-03-06T01:44:11.653141Z",
     "iopub.status.busy": "2021-03-06T01:44:11.652596Z",
     "iopub.status.idle": "2021-03-06T01:44:11.655547Z",
     "shell.execute_reply": "2021-03-06T01:44:11.655108Z"
    },
    "papermill": {
     "duration": 0.017369,
     "end_time": "2021-03-06T01:44:11.655640",
     "exception": false,
     "start_time": "2021-03-06T01:44:11.638271",
     "status": "completed"
    },
    "tags": []
   },
   "outputs": [
    {
     "data": {
      "text/markdown": [
       "- Economist: Ethereum and Bitcoin Look “Bullish” After Withstanding “Macro Beating”.  Bitcoin and Ethereum are down from their recent 2021 highs, but compared to their traditional market counterparts, have shown more resilience during the recent &#8220;royal macro beating.&#8221; Here&#8217;s why one top economist and investor says this is incredibly bullish for the two titan cryptocurrency assets. Royal Macro Beating Can&#8217;t Take Down Bullish Bitcoin And Ethereum [&#8230;] ... [| Skaityti daugiau](https://www.newsbtc.com/news/bitcoin/ethereum-bitcoin-macro-beating-gold/) "
      ],
      "text/plain": [
       "<IPython.core.display.Markdown object>"
      ]
     },
     "execution_count": 7,
     "metadata": {},
     "output_type": "execute_result"
    }
   ],
   "source": [
    "#hide_input\n",
    "#md('##### {}'.format(titleBTC)) \n",
    "md(\"- {}{} {}{} [| Skaityti daugiau]({}) \".format(eth['title'],'. ', eth['body'], ' ...', eth['url']))"
   ]
  },
  {
   "cell_type": "code",
   "execution_count": 8,
   "id": "sublime-lounge",
   "metadata": {
    "execution": {
     "iopub.execute_input": "2021-03-06T01:44:11.680126Z",
     "iopub.status.busy": "2021-03-06T01:44:11.679570Z",
     "iopub.status.idle": "2021-03-06T01:44:11.682536Z",
     "shell.execute_reply": "2021-03-06T01:44:11.682022Z"
    },
    "papermill": {
     "duration": 0.017336,
     "end_time": "2021-03-06T01:44:11.682977",
     "exception": false,
     "start_time": "2021-03-06T01:44:11.665641",
     "status": "completed"
    },
    "tags": []
   },
   "outputs": [
    {
     "data": {
      "text/markdown": [
       "- Cardano price prediction: ADA to fall to $0.800.  TL;DR Breakdown Cardano price expected to fall to $1.00 before crashing to $0.800 ADA faces resistance in climbing above a $1.20 The closest support level lies at $1.10 and further below at $1.030 Cardano price finally found support at the $1.030 mark after falling from the 1.250 price level. The buyers tried to initiate a [&#8230;] ... [| Skaityti daugiau](https://www.cryptopolitan.com/cardano-price-prediction-ada-to-fall-to-0-80/) "
      ],
      "text/plain": [
       "<IPython.core.display.Markdown object>"
      ]
     },
     "execution_count": 8,
     "metadata": {},
     "output_type": "execute_result"
    }
   ],
   "source": [
    "#hide_input\n",
    "#md('##### {}'.format(titleBTC)) \n",
    "md(\"- {}{} {}{} [| Skaityti daugiau]({}) \".format(ada['title'],'. ', ada['body'], ' ...', ada['url']))"
   ]
  },
  {
   "cell_type": "code",
   "execution_count": 9,
   "id": "specified-ordering",
   "metadata": {
    "execution": {
     "iopub.execute_input": "2021-03-06T01:44:11.712409Z",
     "iopub.status.busy": "2021-03-06T01:44:11.711828Z",
     "iopub.status.idle": "2021-03-06T01:44:11.715607Z",
     "shell.execute_reply": "2021-03-06T01:44:11.716065Z"
    },
    "papermill": {
     "duration": 0.020812,
     "end_time": "2021-03-06T01:44:11.716179",
     "exception": false,
     "start_time": "2021-03-06T01:44:11.695367",
     "status": "completed"
    },
    "tags": []
   },
   "outputs": [
    {
     "data": {
      "text/markdown": [
       "- 99% gone in 60 seconds: How a Polkadot trader may have crashed DOT futures.  Polkadot (DOT) futures at Binance flash-crashed by 99.5%, potentially generating an $8.3 million profit for the 'trader’ if they used this clever strategy. ... [| Skaityti daugiau](https://cointelegraph.com/news/99-gone-in-60-seconds-how-a-polkadot-trader-may-have-crashed-dot-futures) "
      ],
      "text/plain": [
       "<IPython.core.display.Markdown object>"
      ]
     },
     "execution_count": 9,
     "metadata": {},
     "output_type": "execute_result"
    }
   ],
   "source": [
    "#hide_input\n",
    "#md('##### {}'.format(titleBTC)) \n",
    "md(\"- {}{} {}{} [| Skaityti daugiau]({}) \".format(exchange['title'],'. ', exchange['body'], ' ...', exchange['url']))"
   ]
  },
  {
   "cell_type": "code",
   "execution_count": null,
   "id": "tender-livestock",
   "metadata": {
    "papermill": {
     "duration": 0.012731,
     "end_time": "2021-03-06T01:44:11.741155",
     "exception": false,
     "start_time": "2021-03-06T01:44:11.728424",
     "status": "completed"
    },
    "tags": []
   },
   "outputs": [],
   "source": []
  },
  {
   "cell_type": "code",
   "execution_count": null,
   "id": "appreciated-diamond",
   "metadata": {
    "papermill": {
     "duration": 0.01305,
     "end_time": "2021-03-06T01:44:11.766361",
     "exception": false,
     "start_time": "2021-03-06T01:44:11.753311",
     "status": "completed"
    },
    "tags": []
   },
   "outputs": [],
   "source": []
  },
  {
   "cell_type": "code",
   "execution_count": null,
   "id": "romance-sweden",
   "metadata": {
    "papermill": {
     "duration": 0.010884,
     "end_time": "2021-03-06T01:44:11.788154",
     "exception": false,
     "start_time": "2021-03-06T01:44:11.777270",
     "status": "completed"
    },
    "tags": []
   },
   "outputs": [],
   "source": []
  },
  {
   "cell_type": "code",
   "execution_count": null,
   "id": "dietary-statistics",
   "metadata": {
    "papermill": {
     "duration": 0.011157,
     "end_time": "2021-03-06T01:44:11.813222",
     "exception": false,
     "start_time": "2021-03-06T01:44:11.802065",
     "status": "completed"
    },
    "tags": []
   },
   "outputs": [],
   "source": []
  }
 ],
 "metadata": {
  "kernelspec": {
   "display_name": "Python 3",
   "language": "python",
   "name": "python3"
  },
  "language_info": {
   "codemirror_mode": {
    "name": "ipython",
    "version": 3
   },
   "file_extension": ".py",
   "mimetype": "text/x-python",
   "name": "python",
   "nbconvert_exporter": "python",
   "pygments_lexer": "ipython3",
   "version": "3.6.13"
  },
  "papermill": {
   "default_parameters": {},
   "duration": 10.891821,
   "end_time": "2021-03-06T01:44:12.130688",
   "environment_variables": {},
   "exception": null,
   "input_path": "Market-News.ipynb",
   "output_path": "Market-News.ipynb",
   "parameters": {},
   "start_time": "2021-03-06T01:44:01.238867",
   "version": "2.2.2"
  }
 },
 "nbformat": 4,
 "nbformat_minor": 5
}