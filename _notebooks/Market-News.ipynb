{
 "cells": [
  {
   "cell_type": "markdown",
   "id": "short-greensboro",
   "metadata": {
    "papermill": {
     "duration": 0.012877,
     "end_time": "2021-06-25T02:03:01.945081",
     "exception": false,
     "start_time": "2021-06-25T02:03:01.932204",
     "status": "completed"
    },
    "tags": []
   },
   "source": [
    "# Kriptovaliutų naujienos"
   ]
  },
  {
   "cell_type": "code",
   "execution_count": 1,
   "id": "functioning-knowing",
   "metadata": {
    "execution": {
     "iopub.execute_input": "2021-06-25T02:03:01.975004Z",
     "iopub.status.busy": "2021-06-25T02:03:01.974446Z",
     "iopub.status.idle": "2021-06-25T02:03:03.137675Z",
     "shell.execute_reply": "2021-06-25T02:03:03.137131Z"
    },
    "papermill": {
     "duration": 1.182967,
     "end_time": "2021-06-25T02:03:03.137830",
     "exception": false,
     "start_time": "2021-06-25T02:03:01.954863",
     "status": "completed"
    },
    "tags": []
   },
   "outputs": [],
   "source": [
    "#hide_input\n",
    "import warnings\n",
    "warnings.filterwarnings('ignore')\n",
    "from scripts.read_data import read_api\n",
    "from scripts.read_data import read_news\n",
    "from scripts.read_data import read_covid\n",
    "import matplotlib.pyplot as plt \n",
    "from IPython.display import Markdown as md"
   ]
  },
  {
   "cell_type": "code",
   "execution_count": 2,
   "id": "shared-acceptance",
   "metadata": {
    "execution": {
     "iopub.execute_input": "2021-06-25T02:03:03.162557Z",
     "iopub.status.busy": "2021-06-25T02:03:03.162056Z",
     "iopub.status.idle": "2021-06-25T02:03:10.365905Z",
     "shell.execute_reply": "2021-06-25T02:03:10.365081Z"
    },
    "papermill": {
     "duration": 7.218374,
     "end_time": "2021-06-25T02:03:10.366041",
     "exception": false,
     "start_time": "2021-06-25T02:03:03.147667",
     "status": "completed"
    },
    "tags": []
   },
   "outputs": [],
   "source": [
    "#hide_input\n",
    "blockchain = read_news('blockchain') \n",
    "btc = read_news('btc') \n",
    "xrp = read_news('xrp') \n",
    "trx = read_news('trx') \n",
    "eth = read_news('eth')  \n",
    "ada = read_news('ada')\n",
    "exchange = read_news('exchange') "
   ]
  },
  {
   "cell_type": "code",
   "execution_count": 3,
   "id": "synthetic-notion",
   "metadata": {
    "execution": {
     "iopub.execute_input": "2021-06-25T02:03:10.390635Z",
     "iopub.status.busy": "2021-06-25T02:03:10.390135Z",
     "iopub.status.idle": "2021-06-25T02:03:10.392483Z",
     "shell.execute_reply": "2021-06-25T02:03:10.392937Z"
    },
    "papermill": {
     "duration": 0.017311,
     "end_time": "2021-06-25T02:03:10.393075",
     "exception": false,
     "start_time": "2021-06-25T02:03:10.375764",
     "status": "completed"
    },
    "tags": []
   },
   "outputs": [
    {
     "data": {
      "text/markdown": [
       "- Sushi to Launch Full Product Suite on Harmony.  Since deploying natively on Harmony&#8217;s blockchain in May, Sushi is now deepening its collaboration with Harmony after revealing plans to bring its full decentralized finance (defi) product stack onto the blockchain with accompanying incentives designed to drive greater participation. Meanwhile, decentralized exchange (dex) competition continues to swell. Partnership Expansion Accompanies $4 Million in Incentive Campaigns [&#8230;] ... [| Skaityti daugiau](https://news.bitcoin.com/sushi-to-launch-full-product-suite-on-harmony/) "
      ],
      "text/plain": [
       "<IPython.core.display.Markdown object>"
      ]
     },
     "execution_count": 3,
     "metadata": {},
     "output_type": "execute_result"
    }
   ],
   "source": [
    "#hide_input\n",
    "#md('##### {}'.format(titleBTC)) \n",
    "md(\"- {}{} {}{} [| Skaityti daugiau]({}) \".format(blockchain['title'],'. ', blockchain['body'], ' ...', blockchain['url']))"
   ]
  },
  {
   "cell_type": "code",
   "execution_count": 4,
   "id": "aging-caution",
   "metadata": {
    "execution": {
     "iopub.execute_input": "2021-06-25T02:03:10.416710Z",
     "iopub.status.busy": "2021-06-25T02:03:10.416133Z",
     "iopub.status.idle": "2021-06-25T02:03:10.420005Z",
     "shell.execute_reply": "2021-06-25T02:03:10.420378Z"
    },
    "papermill": {
     "duration": 0.018065,
     "end_time": "2021-06-25T02:03:10.420495",
     "exception": false,
     "start_time": "2021-06-25T02:03:10.402430",
     "status": "completed"
    },
    "tags": []
   },
   "outputs": [
    {
     "data": {
      "text/markdown": [
       "- ‘It might get ugly with’ Bitcoin…BUT.  Prices are a reflection of investor sentiment, they say. In a span of a little over two months, Bitcoin’s price has promptly halved, and now, after China’s recent crackdown on mining, a section of the market participants believe that BCT is a less attractive prospect. Talking on similar lines in a recent Kitco News interview, [&#8230;] ... [| Skaityti daugiau](https://ambcrypto.com/it-might-get-ugly-with-bitcoin-but/) "
      ],
      "text/plain": [
       "<IPython.core.display.Markdown object>"
      ]
     },
     "execution_count": 4,
     "metadata": {},
     "output_type": "execute_result"
    }
   ],
   "source": [
    "#hide_input\n",
    "#md('##### {}'.format(titleBTC)) \n",
    "md(\"- {}{} {}{} [| Skaityti daugiau]({}) \".format(btc['title'],'. ', btc['body'], ' ...', btc['url']))"
   ]
  },
  {
   "cell_type": "code",
   "execution_count": 5,
   "id": "organic-actress",
   "metadata": {
    "execution": {
     "iopub.execute_input": "2021-06-25T02:03:10.445174Z",
     "iopub.status.busy": "2021-06-25T02:03:10.444563Z",
     "iopub.status.idle": "2021-06-25T02:03:10.446705Z",
     "shell.execute_reply": "2021-06-25T02:03:10.447241Z"
    },
    "papermill": {
     "duration": 0.017164,
     "end_time": "2021-06-25T02:03:10.447374",
     "exception": false,
     "start_time": "2021-06-25T02:03:10.430210",
     "status": "completed"
    },
    "tags": []
   },
   "outputs": [
    {
     "data": {
      "text/markdown": [
       "- Ripple catches another break as court allows access to SEC’s internal trading policies on XRP.  Ripple Labs’ request to access the US Securities and Exchange Commission’s (SEC) non-public policies regarding agency employees buying and selling XRP and other cryptocurrencies was granted by the appointed judge, according to XRP holders’ legal representative. The post Ripple catches another break as court allows access to SEC’s internal trading policies on XRP appeared first on CryptoSlate. ... [| Skaityti daugiau](https://cryptoslate.com/ripple-catches-another-break-as-court-allows-access-to-secs-internal-trading-policies-on-xrp/) "
      ],
      "text/plain": [
       "<IPython.core.display.Markdown object>"
      ]
     },
     "execution_count": 5,
     "metadata": {},
     "output_type": "execute_result"
    }
   ],
   "source": [
    "#hide_input\n",
    "#md('##### {}'.format(titleBTC)) \n",
    "md(\"- {}{} {}{} [| Skaityti daugiau]({}) \".format(xrp['title'],'. ', xrp['body'], ' ...', xrp['url']))"
   ]
  },
  {
   "cell_type": "code",
   "execution_count": 6,
   "id": "prompt-farmer",
   "metadata": {
    "execution": {
     "iopub.execute_input": "2021-06-25T02:03:10.472617Z",
     "iopub.status.busy": "2021-06-25T02:03:10.472120Z",
     "iopub.status.idle": "2021-06-25T02:03:10.474599Z",
     "shell.execute_reply": "2021-06-25T02:03:10.475020Z"
    },
    "papermill": {
     "duration": 0.017399,
     "end_time": "2021-06-25T02:03:10.475139",
     "exception": false,
     "start_time": "2021-06-25T02:03:10.457740",
     "status": "completed"
    },
    "tags": []
   },
   "outputs": [
    {
     "data": {
      "text/markdown": [
       "- Bitcoin and Ethereum Start Range Trading, TRX, DOGE Accelerate.  Bitcoin price corrected lower after it failed to test the USD 35,000 resistance. BTC declined below USD 33,500, but it remained well bid above USD 32,200. It is currently (12:29 PM UTC) trading in a range and it could climb back above USD 34,000.Similarly, most major altcoins are trading above key supports. ETH trimmed gains, but the bulls are protecting USD 1,850. XRP/USD bulls must clear USD ... [| Skaityti daugiau](https://cryptonews.com/news/bitcoin-and-ethereum-start-range-trading-trx-doge-accelerate-10818.htm) "
      ],
      "text/plain": [
       "<IPython.core.display.Markdown object>"
      ]
     },
     "execution_count": 6,
     "metadata": {},
     "output_type": "execute_result"
    }
   ],
   "source": [
    "#hide_input\n",
    "#md('##### {}'.format(titleBTC)) \n",
    "md(\"- {}{} {}{} [| Skaityti daugiau]({}) \".format(trx['title'],'. ', trx['body'], ' ...', trx['url']))"
   ]
  },
  {
   "cell_type": "code",
   "execution_count": 7,
   "id": "illegal-greece",
   "metadata": {
    "execution": {
     "iopub.execute_input": "2021-06-25T02:03:10.501280Z",
     "iopub.status.busy": "2021-06-25T02:03:10.500762Z",
     "iopub.status.idle": "2021-06-25T02:03:10.503285Z",
     "shell.execute_reply": "2021-06-25T02:03:10.503680Z"
    },
    "papermill": {
     "duration": 0.018094,
     "end_time": "2021-06-25T02:03:10.503795",
     "exception": false,
     "start_time": "2021-06-25T02:03:10.485701",
     "status": "completed"
    },
    "tags": []
   },
   "outputs": [
    {
     "data": {
      "text/markdown": [
       "- Ethereum 2.0 Contract Reaches 100,000 ETH Milestone.  A recent post on CryptoQuant by TemptingBeef has confirmed that the number of staked Ethereum on the ETH 2.0 deposit contract has now exceeded 100,000. This means that the number of staked ETH is now more than 5% of the amount of Ethereum that is currently in circulation. Chart showing the amount of staked ETH [&#8230;] ... [| Skaityti daugiau](https://www.newsbtc.com/news/ethereum/ethereum-2-0-100k-eth/) "
      ],
      "text/plain": [
       "<IPython.core.display.Markdown object>"
      ]
     },
     "execution_count": 7,
     "metadata": {},
     "output_type": "execute_result"
    }
   ],
   "source": [
    "#hide_input\n",
    "#md('##### {}'.format(titleBTC)) \n",
    "md(\"- {}{} {}{} [| Skaityti daugiau]({}) \".format(eth['title'],'. ', eth['body'], ' ...', eth['url']))"
   ]
  },
  {
   "cell_type": "code",
   "execution_count": 8,
   "id": "sublime-lounge",
   "metadata": {
    "execution": {
     "iopub.execute_input": "2021-06-25T02:03:10.529848Z",
     "iopub.status.busy": "2021-06-25T02:03:10.528699Z",
     "iopub.status.idle": "2021-06-25T02:03:10.532877Z",
     "shell.execute_reply": "2021-06-25T02:03:10.532459Z"
    },
    "papermill": {
     "duration": 0.01845,
     "end_time": "2021-06-25T02:03:10.532979",
     "exception": false,
     "start_time": "2021-06-25T02:03:10.514529",
     "status": "completed"
    },
    "tags": []
   },
   "outputs": [
    {
     "data": {
      "text/markdown": [
       "- Bitcoin Retests $35,000 as Dogecoin, XRP Prices Jump 10%.  Bitcoin had a good day, again hovering around $35K. But Cardano, Dogecoin and XRP had a better one, with gains of over 10% in 24 hours. ... [| Skaityti daugiau](https://decrypt.co/74470/bitcoin-35000-dogecoin-xrp-price-jump) "
      ],
      "text/plain": [
       "<IPython.core.display.Markdown object>"
      ]
     },
     "execution_count": 8,
     "metadata": {},
     "output_type": "execute_result"
    }
   ],
   "source": [
    "#hide_input\n",
    "#md('##### {}'.format(titleBTC)) \n",
    "md(\"- {}{} {}{} [| Skaityti daugiau]({}) \".format(ada['title'],'. ', ada['body'], ' ...', ada['url']))"
   ]
  },
  {
   "cell_type": "code",
   "execution_count": 9,
   "id": "specified-ordering",
   "metadata": {
    "execution": {
     "iopub.execute_input": "2021-06-25T02:03:10.559590Z",
     "iopub.status.busy": "2021-06-25T02:03:10.559104Z",
     "iopub.status.idle": "2021-06-25T02:03:10.562325Z",
     "shell.execute_reply": "2021-06-25T02:03:10.561910Z"
    },
    "papermill": {
     "duration": 0.018428,
     "end_time": "2021-06-25T02:03:10.562426",
     "exception": false,
     "start_time": "2021-06-25T02:03:10.543998",
     "status": "completed"
    },
    "tags": []
   },
   "outputs": [
    {
     "data": {
      "text/markdown": [
       "- Sushi to Launch Full Product Suite on Harmony.  Since deploying natively on Harmony&#8217;s blockchain in May, Sushi is now deepening its collaboration with Harmony after revealing plans to bring its full decentralized finance (defi) product stack onto the blockchain with accompanying incentives designed to drive greater participation. Meanwhile, decentralized exchange (dex) competition continues to swell. Partnership Expansion Accompanies $4 Million in Incentive Campaigns [&#8230;] ... [| Skaityti daugiau](https://news.bitcoin.com/sushi-to-launch-full-product-suite-on-harmony/) "
      ],
      "text/plain": [
       "<IPython.core.display.Markdown object>"
      ]
     },
     "execution_count": 9,
     "metadata": {},
     "output_type": "execute_result"
    }
   ],
   "source": [
    "#hide_input\n",
    "#md('##### {}'.format(titleBTC)) \n",
    "md(\"- {}{} {}{} [| Skaityti daugiau]({}) \".format(exchange['title'],'. ', exchange['body'], ' ...', exchange['url']))"
   ]
  },
  {
   "cell_type": "code",
   "execution_count": null,
   "id": "tender-livestock",
   "metadata": {
    "papermill": {
     "duration": 0.011248,
     "end_time": "2021-06-25T02:03:10.584936",
     "exception": false,
     "start_time": "2021-06-25T02:03:10.573688",
     "status": "completed"
    },
    "tags": []
   },
   "outputs": [],
   "source": []
  },
  {
   "cell_type": "code",
   "execution_count": null,
   "id": "appreciated-diamond",
   "metadata": {
    "papermill": {
     "duration": 0.011593,
     "end_time": "2021-06-25T02:03:10.607989",
     "exception": false,
     "start_time": "2021-06-25T02:03:10.596396",
     "status": "completed"
    },
    "tags": []
   },
   "outputs": [],
   "source": []
  },
  {
   "cell_type": "code",
   "execution_count": null,
   "id": "romance-sweden",
   "metadata": {
    "papermill": {
     "duration": 0.011219,
     "end_time": "2021-06-25T02:03:10.630501",
     "exception": false,
     "start_time": "2021-06-25T02:03:10.619282",
     "status": "completed"
    },
    "tags": []
   },
   "outputs": [],
   "source": []
  },
  {
   "cell_type": "code",
   "execution_count": null,
   "id": "dietary-statistics",
   "metadata": {
    "papermill": {
     "duration": 0.011284,
     "end_time": "2021-06-25T02:03:10.653117",
     "exception": false,
     "start_time": "2021-06-25T02:03:10.641833",
     "status": "completed"
    },
    "tags": []
   },
   "outputs": [],
   "source": []
  }
 ],
 "metadata": {
  "kernelspec": {
   "display_name": "Python 3",
   "language": "python",
   "name": "python3"
  },
  "language_info": {
   "codemirror_mode": {
    "name": "ipython",
    "version": 3
   },
   "file_extension": ".py",
   "mimetype": "text/x-python",
   "name": "python",
   "nbconvert_exporter": "python",
   "pygments_lexer": "ipython3",
   "version": "3.6.13"
  },
  "papermill": {
   "default_parameters": {},
   "duration": 11.26952,
   "end_time": "2021-06-25T02:03:12.173265",
   "environment_variables": {},
   "exception": null,
   "input_path": "Market-News.ipynb",
   "output_path": "Market-News.ipynb",
   "parameters": {},
   "start_time": "2021-06-25T02:03:00.903745",
   "version": "2.2.2"
  }
 },
 "nbformat": 4,
 "nbformat_minor": 5
}