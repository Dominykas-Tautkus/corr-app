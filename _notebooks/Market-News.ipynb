{
 "cells": [
  {
   "cell_type": "markdown",
   "id": "short-greensboro",
   "metadata": {
    "papermill": {
     "duration": 0.013986,
     "end_time": "2021-07-05T01:58:21.641208",
     "exception": false,
     "start_time": "2021-07-05T01:58:21.627222",
     "status": "completed"
    },
    "tags": []
   },
   "source": [
    "# Kriptovaliutų naujienos"
   ]
  },
  {
   "cell_type": "code",
   "execution_count": 1,
   "id": "functioning-knowing",
   "metadata": {
    "execution": {
     "iopub.execute_input": "2021-07-05T01:58:21.670712Z",
     "iopub.status.busy": "2021-07-05T01:58:21.670165Z",
     "iopub.status.idle": "2021-07-05T01:58:22.839162Z",
     "shell.execute_reply": "2021-07-05T01:58:22.838604Z"
    },
    "papermill": {
     "duration": 1.18826,
     "end_time": "2021-07-05T01:58:22.839323",
     "exception": false,
     "start_time": "2021-07-05T01:58:21.651063",
     "status": "completed"
    },
    "tags": []
   },
   "outputs": [],
   "source": [
    "#hide_input\n",
    "import warnings\n",
    "warnings.filterwarnings('ignore')\n",
    "from scripts.read_data import read_api\n",
    "from scripts.read_data import read_news\n",
    "from scripts.read_data import read_covid\n",
    "import matplotlib.pyplot as plt \n",
    "from IPython.display import Markdown as md"
   ]
  },
  {
   "cell_type": "code",
   "execution_count": 2,
   "id": "shared-acceptance",
   "metadata": {
    "execution": {
     "iopub.execute_input": "2021-07-05T01:58:22.865723Z",
     "iopub.status.busy": "2021-07-05T01:58:22.864527Z",
     "iopub.status.idle": "2021-07-05T01:58:32.462270Z",
     "shell.execute_reply": "2021-07-05T01:58:32.461775Z"
    },
    "papermill": {
     "duration": 9.612765,
     "end_time": "2021-07-05T01:58:32.462417",
     "exception": false,
     "start_time": "2021-07-05T01:58:22.849652",
     "status": "completed"
    },
    "tags": []
   },
   "outputs": [],
   "source": [
    "#hide_input\n",
    "blockchain = read_news('blockchain') \n",
    "btc = read_news('btc') \n",
    "xrp = read_news('xrp') \n",
    "trx = read_news('trx') \n",
    "eth = read_news('eth')  \n",
    "ada = read_news('ada')\n",
    "exchange = read_news('exchange') "
   ]
  },
  {
   "cell_type": "code",
   "execution_count": 3,
   "id": "synthetic-notion",
   "metadata": {
    "execution": {
     "iopub.execute_input": "2021-07-05T01:58:32.487240Z",
     "iopub.status.busy": "2021-07-05T01:58:32.486731Z",
     "iopub.status.idle": "2021-07-05T01:58:32.489026Z",
     "shell.execute_reply": "2021-07-05T01:58:32.489423Z"
    },
    "papermill": {
     "duration": 0.017622,
     "end_time": "2021-07-05T01:58:32.489550",
     "exception": false,
     "start_time": "2021-07-05T01:58:32.471928",
     "status": "completed"
    },
    "tags": []
   },
   "outputs": [
    {
     "data": {
      "text/markdown": [
       "- RSA Conference suggests that Blockchain replace Internet TCP/IP, comes under fire.  TL;DR Breakdown RSA Conference proposes that Blockchain replace internet TCP/IP. After coming under fire, RSA admits the need to do better. As we have it, the internet is plagued by fundamental flaws &#8211; the (TCP/IP). Can blockchain save the day? RSA Conference seeks that Blockchain replace Internet TCP/IP, the controversy The RSA Conference, a symposium [&#8230;] ... [| Skaityti daugiau](https://www.cryptopolitan.com/blockchain-replace-internet-tcp-ip-rsa/) "
      ],
      "text/plain": [
       "<IPython.core.display.Markdown object>"
      ]
     },
     "execution_count": 3,
     "metadata": {},
     "output_type": "execute_result"
    }
   ],
   "source": [
    "#hide_input\n",
    "#md('##### {}'.format(titleBTC)) \n",
    "md(\"- {}{} {}{} [| Skaityti daugiau]({}) \".format(blockchain['title'],'. ', blockchain['body'], ' ...', blockchain['url']))"
   ]
  },
  {
   "cell_type": "code",
   "execution_count": 4,
   "id": "aging-caution",
   "metadata": {
    "execution": {
     "iopub.execute_input": "2021-07-05T01:58:32.513969Z",
     "iopub.status.busy": "2021-07-05T01:58:32.513377Z",
     "iopub.status.idle": "2021-07-05T01:58:32.515504Z",
     "shell.execute_reply": "2021-07-05T01:58:32.516043Z"
    },
    "papermill": {
     "duration": 0.017118,
     "end_time": "2021-07-05T01:58:32.516184",
     "exception": false,
     "start_time": "2021-07-05T01:58:32.499066",
     "status": "completed"
    },
    "tags": []
   },
   "outputs": [
    {
     "data": {
      "text/markdown": [
       "- It’s time to HODL Bitcoin because this is the ‘guarantee’ you’re getting now.  Bitcoin&#8217;s price has been moving sideways for more than month now. Nonetheless, the all-pervasive volatility has been making its presence felt in the otherwise monotonous market. Bitcoin, at the time of writing, was trading in the $35k price bracket after recording a mere 2.32% surge over the past day. Bitcoin&#8217;s dampening state has notably become [&#8230;] ... [| Skaityti daugiau](https://ambcrypto.com/its-time-to-hodl-bitcoin-because-this-is-the-guarantee-youre-getting-now/) "
      ],
      "text/plain": [
       "<IPython.core.display.Markdown object>"
      ]
     },
     "execution_count": 4,
     "metadata": {},
     "output_type": "execute_result"
    }
   ],
   "source": [
    "#hide_input\n",
    "#md('##### {}'.format(titleBTC)) \n",
    "md(\"- {}{} {}{} [| Skaityti daugiau]({}) \".format(btc['title'],'. ', btc['body'], ' ...', btc['url']))"
   ]
  },
  {
   "cell_type": "code",
   "execution_count": 5,
   "id": "organic-actress",
   "metadata": {
    "execution": {
     "iopub.execute_input": "2021-07-05T01:58:32.540983Z",
     "iopub.status.busy": "2021-07-05T01:58:32.540481Z",
     "iopub.status.idle": "2021-07-05T01:58:32.543456Z",
     "shell.execute_reply": "2021-07-05T01:58:32.543034Z"
    },
    "papermill": {
     "duration": 0.017398,
     "end_time": "2021-07-05T01:58:32.543566",
     "exception": false,
     "start_time": "2021-07-05T01:58:32.526168",
     "status": "completed"
    },
    "tags": []
   },
   "outputs": [
    {
     "data": {
      "text/markdown": [
       "- ‘Owners of XRP and Ethereum are the most educated’.  Trend cycles never remain constant. They keep evolving and get refined with time. As far as the crypto market is concerned, several narratives like “buy the dip” and “HODL” have translated themselves into cyclic trends and have garnered mass traction of late. A recent Bank of International Settlements (BIS) paper identified several emerging trends exhibited [&#8230;] ... [| Skaityti daugiau](https://ambcrypto.com/owners-of-xrp-and-ethereum-are-the-most-educated/) "
      ],
      "text/plain": [
       "<IPython.core.display.Markdown object>"
      ]
     },
     "execution_count": 5,
     "metadata": {},
     "output_type": "execute_result"
    }
   ],
   "source": [
    "#hide_input\n",
    "#md('##### {}'.format(titleBTC)) \n",
    "md(\"- {}{} {}{} [| Skaityti daugiau]({}) \".format(xrp['title'],'. ', xrp['body'], ' ...', xrp['url']))"
   ]
  },
  {
   "cell_type": "code",
   "execution_count": 6,
   "id": "prompt-farmer",
   "metadata": {
    "execution": {
     "iopub.execute_input": "2021-07-05T01:58:32.568714Z",
     "iopub.status.busy": "2021-07-05T01:58:32.568225Z",
     "iopub.status.idle": "2021-07-05T01:58:32.571245Z",
     "shell.execute_reply": "2021-07-05T01:58:32.570843Z"
    },
    "papermill": {
     "duration": 0.017623,
     "end_time": "2021-07-05T01:58:32.571365",
     "exception": false,
     "start_time": "2021-07-05T01:58:32.553742",
     "status": "completed"
    },
    "tags": []
   },
   "outputs": [
    {
     "data": {
      "text/markdown": [
       "- Tron’s (TRX) Total Value Locked in DeFi Exceeds $8B.  Total value locked on Tron&#8217;s DeFi ecosystem has exceeded $8 Billion Tronscan.org has launched a new feature that tracks the total value locked in the network&#8217;s DeFi ecosystem The Tron network continues to focus on increasing its stablecoin offerings as demand grows The Tron (TRX) network has reached a new milestone in the form of total value locked on its DeFi ecosystem. According to Tronscan.org, the total value locked on the Tron network now stands at $8.096 Billion as seen [&#8230;] ... [| Skaityti daugiau](https://en.ethereumworldnews.com/trons-trx-total-value-locked-in-defi-exceeds-8b/) "
      ],
      "text/plain": [
       "<IPython.core.display.Markdown object>"
      ]
     },
     "execution_count": 6,
     "metadata": {},
     "output_type": "execute_result"
    }
   ],
   "source": [
    "#hide_input\n",
    "#md('##### {}'.format(titleBTC)) \n",
    "md(\"- {}{} {}{} [| Skaityti daugiau]({}) \".format(trx['title'],'. ', trx['body'], ' ...', trx['url']))"
   ]
  },
  {
   "cell_type": "code",
   "execution_count": 7,
   "id": "illegal-greece",
   "metadata": {
    "execution": {
     "iopub.execute_input": "2021-07-05T01:58:32.597441Z",
     "iopub.status.busy": "2021-07-05T01:58:32.596943Z",
     "iopub.status.idle": "2021-07-05T01:58:32.599579Z",
     "shell.execute_reply": "2021-07-05T01:58:32.599088Z"
    },
    "papermill": {
     "duration": 0.017651,
     "end_time": "2021-07-05T01:58:32.599687",
     "exception": false,
     "start_time": "2021-07-05T01:58:32.582036",
     "status": "completed"
    },
    "tags": []
   },
   "outputs": [
    {
     "data": {
      "text/markdown": [
       "- Grayscale Investments Adds Cardano to Flagship Digital Large Cap Fund.  Earlier this week, cryptocurrency asset manager Grayscale Investments announced that it had added Cardano (ADA) to its digital large cap fund (GDLC) &#8212; marking the crypto project as the fund’s third largest component. Cardano is a decentralized proof-of-stake smart contract platform headed by Charles Hoskinson, one of the co-founders of Ethereum. Despite having no working [&#8230;] ... [| Skaityti daugiau](https://bitcoinist.com/grayscale-investments-adds-cardano-to-flagship-digital-large-cap-fund/?utm_source=rss&utm_medium=rss&utm_campaign=grayscale-investments-adds-cardano-to-flagship-digital-large-cap-fund) "
      ],
      "text/plain": [
       "<IPython.core.display.Markdown object>"
      ]
     },
     "execution_count": 7,
     "metadata": {},
     "output_type": "execute_result"
    }
   ],
   "source": [
    "#hide_input\n",
    "#md('##### {}'.format(titleBTC)) \n",
    "md(\"- {}{} {}{} [| Skaityti daugiau]({}) \".format(eth['title'],'. ', eth['body'], ' ...', eth['url']))"
   ]
  },
  {
   "cell_type": "code",
   "execution_count": 8,
   "id": "sublime-lounge",
   "metadata": {
    "execution": {
     "iopub.execute_input": "2021-07-05T01:58:32.626614Z",
     "iopub.status.busy": "2021-07-05T01:58:32.626085Z",
     "iopub.status.idle": "2021-07-05T01:58:32.628660Z",
     "shell.execute_reply": "2021-07-05T01:58:32.629038Z"
    },
    "papermill": {
     "duration": 0.01867,
     "end_time": "2021-07-05T01:58:32.629171",
     "exception": false,
     "start_time": "2021-07-05T01:58:32.610501",
     "status": "completed"
    },
    "tags": []
   },
   "outputs": [
    {
     "data": {
      "text/markdown": [
       "- Grayscale Investments Adds Cardano to Flagship Digital Large Cap Fund.  Earlier this week, cryptocurrency asset manager Grayscale Investments announced that it had added Cardano (ADA) to its digital large cap fund (GDLC) &#8212; marking the crypto project as the fund’s third largest component. Cardano is a decentralized proof-of-stake smart contract platform headed by Charles Hoskinson, one of the co-founders of Ethereum. Despite having no working [&#8230;] ... [| Skaityti daugiau](https://bitcoinist.com/grayscale-investments-adds-cardano-to-flagship-digital-large-cap-fund/?utm_source=rss&utm_medium=rss&utm_campaign=grayscale-investments-adds-cardano-to-flagship-digital-large-cap-fund) "
      ],
      "text/plain": [
       "<IPython.core.display.Markdown object>"
      ]
     },
     "execution_count": 8,
     "metadata": {},
     "output_type": "execute_result"
    }
   ],
   "source": [
    "#hide_input\n",
    "#md('##### {}'.format(titleBTC)) \n",
    "md(\"- {}{} {}{} [| Skaityti daugiau]({}) \".format(ada['title'],'. ', ada['body'], ' ...', ada['url']))"
   ]
  },
  {
   "cell_type": "code",
   "execution_count": 9,
   "id": "specified-ordering",
   "metadata": {
    "execution": {
     "iopub.execute_input": "2021-07-05T01:58:32.656598Z",
     "iopub.status.busy": "2021-07-05T01:58:32.656099Z",
     "iopub.status.idle": "2021-07-05T01:58:32.659389Z",
     "shell.execute_reply": "2021-07-05T01:58:32.658983Z"
    },
    "papermill": {
     "duration": 0.019201,
     "end_time": "2021-07-05T01:58:32.659503",
     "exception": false,
     "start_time": "2021-07-05T01:58:32.640302",
     "status": "completed"
    },
    "tags": []
   },
   "outputs": [
    {
     "data": {
      "text/markdown": [
       "- Crypto Exchange Co-Founder Buying Bitcoin, Ethereum, Solana Plus ‘No Brainer’ Altcoin Amid Market Recalibration.  The co-founder of the crypto derivatives exchange Hxro says he&#8217;s accumulating several crypto assets during the market downturn. In a new episode of Delta-Fi, Rob Levy says he&#8217;s not concerned about nailing the exact bottom of the crypto correction. As the markets search for direction, Levy says he&#8217;s accumulating Bitcoin, Ethereum, the relatively new smart [&#8230;]The post Crypto Exchange Co-Founder Buying Bitcoin, Ethereum, Solana Plus &#8216;No Brainer&#8217; Altcoin Amid Market Recalibration appeared first on The Daily Hodl. ... [| Skaityti daugiau](https://dailyhodl.com/2021/07/04/hxro-co-founder-buying-bitcoin-ethereum-solana-and-one-no-brainer-altcoin-amid-crypto-market-recalibration/) "
      ],
      "text/plain": [
       "<IPython.core.display.Markdown object>"
      ]
     },
     "execution_count": 9,
     "metadata": {},
     "output_type": "execute_result"
    }
   ],
   "source": [
    "#hide_input\n",
    "#md('##### {}'.format(titleBTC)) \n",
    "md(\"- {}{} {}{} [| Skaityti daugiau]({}) \".format(exchange['title'],'. ', exchange['body'], ' ...', exchange['url']))"
   ]
  },
  {
   "cell_type": "code",
   "execution_count": null,
   "id": "tender-livestock",
   "metadata": {
    "papermill": {
     "duration": 0.011438,
     "end_time": "2021-07-05T01:58:32.682393",
     "exception": false,
     "start_time": "2021-07-05T01:58:32.670955",
     "status": "completed"
    },
    "tags": []
   },
   "outputs": [],
   "source": []
  },
  {
   "cell_type": "code",
   "execution_count": null,
   "id": "appreciated-diamond",
   "metadata": {
    "papermill": {
     "duration": 0.011352,
     "end_time": "2021-07-05T01:58:32.705389",
     "exception": false,
     "start_time": "2021-07-05T01:58:32.694037",
     "status": "completed"
    },
    "tags": []
   },
   "outputs": [],
   "source": []
  },
  {
   "cell_type": "code",
   "execution_count": null,
   "id": "romance-sweden",
   "metadata": {
    "papermill": {
     "duration": 0.011405,
     "end_time": "2021-07-05T01:58:32.728253",
     "exception": false,
     "start_time": "2021-07-05T01:58:32.716848",
     "status": "completed"
    },
    "tags": []
   },
   "outputs": [],
   "source": []
  },
  {
   "cell_type": "code",
   "execution_count": null,
   "id": "dietary-statistics",
   "metadata": {
    "papermill": {
     "duration": 0.011446,
     "end_time": "2021-07-05T01:58:32.751264",
     "exception": false,
     "start_time": "2021-07-05T01:58:32.739818",
     "status": "completed"
    },
    "tags": []
   },
   "outputs": [],
   "source": []
  }
 ],
 "metadata": {
  "kernelspec": {
   "display_name": "Python 3",
   "language": "python",
   "name": "python3"
  },
  "language_info": {
   "codemirror_mode": {
    "name": "ipython",
    "version": 3
   },
   "file_extension": ".py",
   "mimetype": "text/x-python",
   "name": "python",
   "nbconvert_exporter": "python",
   "pygments_lexer": "ipython3",
   "version": "3.6.13"
  },
  "papermill": {
   "default_parameters": {},
   "duration": 12.668069,
   "end_time": "2021-07-05T01:58:33.270564",
   "environment_variables": {},
   "exception": null,
   "input_path": "Market-News.ipynb",
   "output_path": "Market-News.ipynb",
   "parameters": {},
   "start_time": "2021-07-05T01:58:20.602495",
   "version": "2.2.2"
  }
 },
 "nbformat": 4,
 "nbformat_minor": 5
}