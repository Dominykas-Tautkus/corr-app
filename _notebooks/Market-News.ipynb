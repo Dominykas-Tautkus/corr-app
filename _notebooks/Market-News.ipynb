{
 "cells": [
  {
   "cell_type": "markdown",
   "id": "short-greensboro",
   "metadata": {
    "papermill": {
     "duration": 0.014935,
     "end_time": "2021-04-20T02:08:49.433925",
     "exception": false,
     "start_time": "2021-04-20T02:08:49.418990",
     "status": "completed"
    },
    "tags": []
   },
   "source": [
    "# Kriptovaliutų naujienos"
   ]
  },
  {
   "cell_type": "code",
   "execution_count": 1,
   "id": "functioning-knowing",
   "metadata": {
    "execution": {
     "iopub.execute_input": "2021-04-20T02:08:49.468804Z",
     "iopub.status.busy": "2021-04-20T02:08:49.468178Z",
     "iopub.status.idle": "2021-04-20T02:08:50.787561Z",
     "shell.execute_reply": "2021-04-20T02:08:50.786968Z"
    },
    "papermill": {
     "duration": 1.342685,
     "end_time": "2021-04-20T02:08:50.787707",
     "exception": false,
     "start_time": "2021-04-20T02:08:49.445022",
     "status": "completed"
    },
    "tags": []
   },
   "outputs": [],
   "source": [
    "#hide_input\n",
    "import warnings\n",
    "warnings.filterwarnings('ignore')\n",
    "from scripts.read_data import read_api\n",
    "from scripts.read_data import read_news\n",
    "from scripts.read_data import read_covid\n",
    "import matplotlib.pyplot as plt \n",
    "from IPython.display import Markdown as md"
   ]
  },
  {
   "cell_type": "code",
   "execution_count": 2,
   "id": "shared-acceptance",
   "metadata": {
    "execution": {
     "iopub.execute_input": "2021-04-20T02:08:50.817029Z",
     "iopub.status.busy": "2021-04-20T02:08:50.816418Z",
     "iopub.status.idle": "2021-04-20T02:08:58.335972Z",
     "shell.execute_reply": "2021-04-20T02:08:58.335461Z"
    },
    "papermill": {
     "duration": 7.537873,
     "end_time": "2021-04-20T02:08:58.336107",
     "exception": false,
     "start_time": "2021-04-20T02:08:50.798234",
     "status": "completed"
    },
    "tags": []
   },
   "outputs": [],
   "source": [
    "#hide_input\n",
    "blockchain = read_news('blockchain') \n",
    "btc = read_news('btc') \n",
    "xrp = read_news('xrp') \n",
    "trx = read_news('trx') \n",
    "eth = read_news('eth')  \n",
    "ada = read_news('ada')\n",
    "exchange = read_news('exchange') "
   ]
  },
  {
   "cell_type": "code",
   "execution_count": 3,
   "id": "synthetic-notion",
   "metadata": {
    "execution": {
     "iopub.execute_input": "2021-04-20T02:08:58.363782Z",
     "iopub.status.busy": "2021-04-20T02:08:58.363199Z",
     "iopub.status.idle": "2021-04-20T02:08:58.365560Z",
     "shell.execute_reply": "2021-04-20T02:08:58.366105Z"
    },
    "papermill": {
     "duration": 0.019477,
     "end_time": "2021-04-20T02:08:58.366243",
     "exception": false,
     "start_time": "2021-04-20T02:08:58.346766",
     "status": "completed"
    },
    "tags": []
   },
   "outputs": [
    {
     "data": {
      "text/markdown": [
       "- Chia Miners Are Already Causing an SSD Shortage Crisis Even Though It’s Not Available for Trading.  Chia Network is not even out and future miners are already causing a shortage crisis of SSDs all around Asia and a spike in prices. ... [| Skaityti daugiau](https://cryptopotato.com/chia-miners-causing-ssd-shortage-crisis/) "
      ],
      "text/plain": [
       "<IPython.core.display.Markdown object>"
      ]
     },
     "execution_count": 3,
     "metadata": {},
     "output_type": "execute_result"
    }
   ],
   "source": [
    "#hide_input\n",
    "#md('##### {}'.format(titleBTC)) \n",
    "md(\"- {}{} {}{} [| Skaityti daugiau]({}) \".format(blockchain['title'],'. ', blockchain['body'], ' ...', blockchain['url']))"
   ]
  },
  {
   "cell_type": "code",
   "execution_count": 4,
   "id": "aging-caution",
   "metadata": {
    "execution": {
     "iopub.execute_input": "2021-04-20T02:08:58.394318Z",
     "iopub.status.busy": "2021-04-20T02:08:58.393502Z",
     "iopub.status.idle": "2021-04-20T02:08:58.396093Z",
     "shell.execute_reply": "2021-04-20T02:08:58.396551Z"
    },
    "papermill": {
     "duration": 0.019746,
     "end_time": "2021-04-20T02:08:58.396690",
     "exception": false,
     "start_time": "2021-04-20T02:08:58.376944",
     "status": "completed"
    },
    "tags": []
   },
   "outputs": [
    {
     "data": {
      "text/markdown": [
       "- Mark Mobius considers to keep 10-15% of assets in physical gold.  Bitcoin has been considered as not a good asset class by Mark Mobius Mark prefers average investors to invest in potential metals instead of Bitcoin He also considers that the four key metals are gold, silver, platinum, and palladium which can surge higher Bitcoin is performing tremendously, still it&#8217;s far from surpassing the total market [&#8230;] ... [| Skaityti daugiau](https://www.thecoinrepublic.com/2021/04/19/should-we-avoid-bitcoin-and-invest-in-physical-gold/) "
      ],
      "text/plain": [
       "<IPython.core.display.Markdown object>"
      ]
     },
     "execution_count": 4,
     "metadata": {},
     "output_type": "execute_result"
    }
   ],
   "source": [
    "#hide_input\n",
    "#md('##### {}'.format(titleBTC)) \n",
    "md(\"- {}{} {}{} [| Skaityti daugiau]({}) \".format(btc['title'],'. ', btc['body'], ' ...', btc['url']))"
   ]
  },
  {
   "cell_type": "code",
   "execution_count": 5,
   "id": "organic-actress",
   "metadata": {
    "execution": {
     "iopub.execute_input": "2021-04-20T02:08:58.424601Z",
     "iopub.status.busy": "2021-04-20T02:08:58.424030Z",
     "iopub.status.idle": "2021-04-20T02:08:58.427213Z",
     "shell.execute_reply": "2021-04-20T02:08:58.427674Z"
    },
    "papermill": {
     "duration": 0.020286,
     "end_time": "2021-04-20T02:08:58.427810",
     "exception": false,
     "start_time": "2021-04-20T02:08:58.407524",
     "status": "completed"
    },
    "tags": []
   },
   "outputs": [
    {
     "data": {
      "text/markdown": [
       "- XRP Price Analysis: 19 April.  XRP’s price has been surging right from the start of April. While short-term bearish pressure, as evidenced yesterday, did pose as minor speed bumps for the price, the overall bullish momentum prevails. After having traded mostly sideways throughout February and March, XRP’s uptrend in April continues to remain uninterrupted. At press time, XRP was trading [&#8230;] ... [| Skaityti daugiau](https://ambcrypto.com/xrp-price-analysis-19-april/) "
      ],
      "text/plain": [
       "<IPython.core.display.Markdown object>"
      ]
     },
     "execution_count": 5,
     "metadata": {},
     "output_type": "execute_result"
    }
   ],
   "source": [
    "#hide_input\n",
    "#md('##### {}'.format(titleBTC)) \n",
    "md(\"- {}{} {}{} [| Skaityti daugiau]({}) \".format(xrp['title'],'. ', xrp['body'], ' ...', xrp['url']))"
   ]
  },
  {
   "cell_type": "code",
   "execution_count": 6,
   "id": "prompt-farmer",
   "metadata": {
    "execution": {
     "iopub.execute_input": "2021-04-20T02:08:58.458162Z",
     "iopub.status.busy": "2021-04-20T02:08:58.457576Z",
     "iopub.status.idle": "2021-04-20T02:08:58.460465Z",
     "shell.execute_reply": "2021-04-20T02:08:58.460958Z"
    },
    "papermill": {
     "duration": 0.022106,
     "end_time": "2021-04-20T02:08:58.461098",
     "exception": false,
     "start_time": "2021-04-20T02:08:58.438992",
     "status": "completed"
    },
    "tags": []
   },
   "outputs": [
    {
     "data": {
      "text/markdown": [
       "- Tron Price Analysis: 18 April.  The short-term outlook for most cryptocurrencies was ugly, and for Tron, even the longer timeframes showed that the bullish momentum behind recent gains had been neutralized. Recovery is possible in the coming weeks, but a Bitcoin surge could see capital rush into BTC and out of alts. Tron 12-hour chart On the charts, a pullback [&#8230;] ... [| Skaityti daugiau](https://ambcrypto.com/tron-price-analysis-18-april/) "
      ],
      "text/plain": [
       "<IPython.core.display.Markdown object>"
      ]
     },
     "execution_count": 6,
     "metadata": {},
     "output_type": "execute_result"
    }
   ],
   "source": [
    "#hide_input\n",
    "#md('##### {}'.format(titleBTC)) \n",
    "md(\"- {}{} {}{} [| Skaityti daugiau]({}) \".format(trx['title'],'. ', trx['body'], ' ...', trx['url']))"
   ]
  },
  {
   "cell_type": "code",
   "execution_count": 7,
   "id": "illegal-greece",
   "metadata": {
    "execution": {
     "iopub.execute_input": "2021-04-20T02:08:58.489118Z",
     "iopub.status.busy": "2021-04-20T02:08:58.487974Z",
     "iopub.status.idle": "2021-04-20T02:08:58.492236Z",
     "shell.execute_reply": "2021-04-20T02:08:58.491780Z"
    },
    "papermill": {
     "duration": 0.019518,
     "end_time": "2021-04-20T02:08:58.492358",
     "exception": false,
     "start_time": "2021-04-20T02:08:58.472840",
     "status": "completed"
    },
    "tags": []
   },
   "outputs": [
    {
     "data": {
      "text/markdown": [
       "- One of the biggest Bitcoin miners says Ethereum will soon cross $5,000.  The owner of one of the world’s biggest mining pools says Ethereum (ETH) could reach the $5,000 to $6,000 range this bull run, as per Chinese news outlet Wu Blockchain. The post One of the biggest Bitcoin miners says Ethereum will soon cross $5,000 appeared first on CryptoSlate. ... [| Skaityti daugiau](https://cryptoslate.com/one-of-the-biggest-bitcoin-miners-says-ethereum-will-soon-cross-5000/) "
      ],
      "text/plain": [
       "<IPython.core.display.Markdown object>"
      ]
     },
     "execution_count": 7,
     "metadata": {},
     "output_type": "execute_result"
    }
   ],
   "source": [
    "#hide_input\n",
    "#md('##### {}'.format(titleBTC)) \n",
    "md(\"- {}{} {}{} [| Skaityti daugiau]({}) \".format(eth['title'],'. ', eth['body'], ' ...', eth['url']))"
   ]
  },
  {
   "cell_type": "code",
   "execution_count": 8,
   "id": "sublime-lounge",
   "metadata": {
    "execution": {
     "iopub.execute_input": "2021-04-20T02:08:58.523004Z",
     "iopub.status.busy": "2021-04-20T02:08:58.522159Z",
     "iopub.status.idle": "2021-04-20T02:08:58.526234Z",
     "shell.execute_reply": "2021-04-20T02:08:58.525743Z"
    },
    "papermill": {
     "duration": 0.02206,
     "end_time": "2021-04-20T02:08:58.526350",
     "exception": false,
     "start_time": "2021-04-20T02:08:58.504290",
     "status": "completed"
    },
    "tags": []
   },
   "outputs": [
    {
     "data": {
      "text/markdown": [
       "- This is Why Cardano Has Seen a “Huge” Spike in Developer Interest.  Tim Harrison, Marketing and Communications Director at Input Output Global (IOG), Cardano&#8217;s developer company, published a job advertisement for a Data Engineer, Consulting Lead, Java Consultant, Solutions Architect, and other positions at this company. The applicants will have the opportunity to, according to Harrison, become part of a new &#8220;dedicated team&#8221;. Their objective will be [&#8230;] ... [| Skaityti daugiau](https://www.newsbtc.com/news/this-is-why-cardano-has-seen-a-huge-spike-in-developer-interest/) "
      ],
      "text/plain": [
       "<IPython.core.display.Markdown object>"
      ]
     },
     "execution_count": 8,
     "metadata": {},
     "output_type": "execute_result"
    }
   ],
   "source": [
    "#hide_input\n",
    "#md('##### {}'.format(titleBTC)) \n",
    "md(\"- {}{} {}{} [| Skaityti daugiau]({}) \".format(ada['title'],'. ', ada['body'], ' ...', ada['url']))"
   ]
  },
  {
   "cell_type": "code",
   "execution_count": 9,
   "id": "specified-ordering",
   "metadata": {
    "execution": {
     "iopub.execute_input": "2021-04-20T02:08:58.557032Z",
     "iopub.status.busy": "2021-04-20T02:08:58.556460Z",
     "iopub.status.idle": "2021-04-20T02:08:58.560361Z",
     "shell.execute_reply": "2021-04-20T02:08:58.559877Z"
    },
    "papermill": {
     "duration": 0.021872,
     "end_time": "2021-04-20T02:08:58.560479",
     "exception": false,
     "start_time": "2021-04-20T02:08:58.538607",
     "status": "completed"
    },
    "tags": []
   },
   "outputs": [
    {
     "data": {
      "text/markdown": [
       "- Binance Coin Price Analysis: 19 April.  Binance coin&#8217;s upward movement was obstructed as the coin saw a correction set in the market. The value of BNB collapsed by 23% in five days. The market has been recovering; at press time, and BNB was being traded at $514.73. Binance Coin 6-hour chart The above chart of Binance Coin indicated that the price [&#8230;] ... [| Skaityti daugiau](https://ambcrypto.com/binance-coin-price-analysis-19-april/) "
      ],
      "text/plain": [
       "<IPython.core.display.Markdown object>"
      ]
     },
     "execution_count": 9,
     "metadata": {},
     "output_type": "execute_result"
    }
   ],
   "source": [
    "#hide_input\n",
    "#md('##### {}'.format(titleBTC)) \n",
    "md(\"- {}{} {}{} [| Skaityti daugiau]({}) \".format(exchange['title'],'. ', exchange['body'], ' ...', exchange['url']))"
   ]
  },
  {
   "cell_type": "code",
   "execution_count": null,
   "id": "tender-livestock",
   "metadata": {
    "papermill": {
     "duration": 0.012498,
     "end_time": "2021-04-20T02:08:58.585593",
     "exception": false,
     "start_time": "2021-04-20T02:08:58.573095",
     "status": "completed"
    },
    "tags": []
   },
   "outputs": [],
   "source": []
  },
  {
   "cell_type": "code",
   "execution_count": null,
   "id": "appreciated-diamond",
   "metadata": {
    "papermill": {
     "duration": 0.012566,
     "end_time": "2021-04-20T02:08:58.610751",
     "exception": false,
     "start_time": "2021-04-20T02:08:58.598185",
     "status": "completed"
    },
    "tags": []
   },
   "outputs": [],
   "source": []
  },
  {
   "cell_type": "code",
   "execution_count": null,
   "id": "romance-sweden",
   "metadata": {
    "papermill": {
     "duration": 0.012503,
     "end_time": "2021-04-20T02:08:58.635902",
     "exception": false,
     "start_time": "2021-04-20T02:08:58.623399",
     "status": "completed"
    },
    "tags": []
   },
   "outputs": [],
   "source": []
  },
  {
   "cell_type": "code",
   "execution_count": null,
   "id": "dietary-statistics",
   "metadata": {
    "papermill": {
     "duration": 0.012706,
     "end_time": "2021-04-20T02:08:58.661195",
     "exception": false,
     "start_time": "2021-04-20T02:08:58.648489",
     "status": "completed"
    },
    "tags": []
   },
   "outputs": [],
   "source": []
  }
 ],
 "metadata": {
  "kernelspec": {
   "display_name": "Python 3",
   "language": "python",
   "name": "python3"
  },
  "language_info": {
   "codemirror_mode": {
    "name": "ipython",
    "version": 3
   },
   "file_extension": ".py",
   "mimetype": "text/x-python",
   "name": "python",
   "nbconvert_exporter": "python",
   "pygments_lexer": "ipython3",
   "version": "3.6.13"
  },
  "papermill": {
   "default_parameters": {},
   "duration": 10.842026,
   "end_time": "2021-04-20T02:08:59.182736",
   "environment_variables": {},
   "exception": null,
   "input_path": "Market-News.ipynb",
   "output_path": "Market-News.ipynb",
   "parameters": {},
   "start_time": "2021-04-20T02:08:48.340710",
   "version": "2.2.2"
  }
 },
 "nbformat": 4,
 "nbformat_minor": 5
}