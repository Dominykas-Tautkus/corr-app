{
 "cells": [
  {
   "cell_type": "markdown",
   "id": "short-greensboro",
   "metadata": {
    "papermill": {
     "duration": 0.017705,
     "end_time": "2021-04-08T02:14:55.127392",
     "exception": false,
     "start_time": "2021-04-08T02:14:55.109687",
     "status": "completed"
    },
    "tags": []
   },
   "source": [
    "# Kriptovaliutų naujienos"
   ]
  },
  {
   "cell_type": "code",
   "execution_count": 1,
   "id": "functioning-knowing",
   "metadata": {
    "execution": {
     "iopub.execute_input": "2021-04-08T02:14:55.169426Z",
     "iopub.status.busy": "2021-04-08T02:14:55.168544Z",
     "iopub.status.idle": "2021-04-08T02:14:56.658485Z",
     "shell.execute_reply": "2021-04-08T02:14:56.657445Z"
    },
    "papermill": {
     "duration": 1.517047,
     "end_time": "2021-04-08T02:14:56.658654",
     "exception": false,
     "start_time": "2021-04-08T02:14:55.141607",
     "status": "completed"
    },
    "tags": []
   },
   "outputs": [],
   "source": [
    "#hide_input\n",
    "import warnings\n",
    "warnings.filterwarnings('ignore')\n",
    "from scripts.read_data import read_api\n",
    "from scripts.read_data import read_news\n",
    "from scripts.read_data import read_covid\n",
    "import matplotlib.pyplot as plt \n",
    "from IPython.display import Markdown as md"
   ]
  },
  {
   "cell_type": "code",
   "execution_count": 2,
   "id": "shared-acceptance",
   "metadata": {
    "execution": {
     "iopub.execute_input": "2021-04-08T02:14:56.690743Z",
     "iopub.status.busy": "2021-04-08T02:14:56.689976Z",
     "iopub.status.idle": "2021-04-08T02:15:05.611509Z",
     "shell.execute_reply": "2021-04-08T02:15:05.610879Z"
    },
    "papermill": {
     "duration": 8.940567,
     "end_time": "2021-04-08T02:15:05.611650",
     "exception": false,
     "start_time": "2021-04-08T02:14:56.671083",
     "status": "completed"
    },
    "tags": []
   },
   "outputs": [],
   "source": [
    "#hide_input\n",
    "blockchain = read_news('blockchain') \n",
    "btc = read_news('btc') \n",
    "xrp = read_news('xrp') \n",
    "trx = read_news('trx') \n",
    "eth = read_news('eth')  \n",
    "ada = read_news('ada')\n",
    "exchange = read_news('exchange') "
   ]
  },
  {
   "cell_type": "code",
   "execution_count": 3,
   "id": "synthetic-notion",
   "metadata": {
    "execution": {
     "iopub.execute_input": "2021-04-08T02:15:05.643299Z",
     "iopub.status.busy": "2021-04-08T02:15:05.642588Z",
     "iopub.status.idle": "2021-04-08T02:15:05.649084Z",
     "shell.execute_reply": "2021-04-08T02:15:05.648546Z"
    },
    "papermill": {
     "duration": 0.025226,
     "end_time": "2021-04-08T02:15:05.649209",
     "exception": false,
     "start_time": "2021-04-08T02:15:05.623983",
     "status": "completed"
    },
    "tags": []
   },
   "outputs": [
    {
     "data": {
      "text/markdown": [
       "- XELS Launches Eco-Conscious Blockchain Platform for Carbon Offset Credits.  PRESS RELEASE. Blockchain-based carbon offset platform XELS provides global access to the decentralized carbon market and its ERC20 token will launch on Bittrex Global on April 8th, 2021. 7th April 2021, Date Tokyo, Japan &#8212; XELS is one of the leading startups tackling climate change by increasing participation and transparency in carbon markets, listed its [&#8230;] ... [| Skaityti daugiau](https://news.bitcoin.com/xels-launches-eco-conscious-blockchain-platform-for-carbon-offset-credits/) "
      ],
      "text/plain": [
       "<IPython.core.display.Markdown object>"
      ]
     },
     "execution_count": 3,
     "metadata": {},
     "output_type": "execute_result"
    }
   ],
   "source": [
    "#hide_input\n",
    "#md('##### {}'.format(titleBTC)) \n",
    "md(\"- {}{} {}{} [| Skaityti daugiau]({}) \".format(blockchain['title'],'. ', blockchain['body'], ' ...', blockchain['url']))"
   ]
  },
  {
   "cell_type": "code",
   "execution_count": 4,
   "id": "aging-caution",
   "metadata": {
    "execution": {
     "iopub.execute_input": "2021-04-08T02:15:05.679112Z",
     "iopub.status.busy": "2021-04-08T02:15:05.678432Z",
     "iopub.status.idle": "2021-04-08T02:15:05.680958Z",
     "shell.execute_reply": "2021-04-08T02:15:05.681454Z"
    },
    "papermill": {
     "duration": 0.020195,
     "end_time": "2021-04-08T02:15:05.681583",
     "exception": false,
     "start_time": "2021-04-08T02:15:05.661388",
     "status": "completed"
    },
    "tags": []
   },
   "outputs": [
    {
     "data": {
      "text/markdown": [
       "- Bitcoin bulls return after BTC bounces at a key support level.  Bitcoin price appears to be gaining bullish momentum after BTC bounced off the lower Bollinger Band. ... [| Skaityti daugiau](https://cointelegraph.com/news/bitcoin-bulls-return-after-btc-bounces-at-a-key-support-level) "
      ],
      "text/plain": [
       "<IPython.core.display.Markdown object>"
      ]
     },
     "execution_count": 4,
     "metadata": {},
     "output_type": "execute_result"
    }
   ],
   "source": [
    "#hide_input\n",
    "#md('##### {}'.format(titleBTC)) \n",
    "md(\"- {}{} {}{} [| Skaityti daugiau]({}) \".format(btc['title'],'. ', btc['body'], ' ...', btc['url']))"
   ]
  },
  {
   "cell_type": "code",
   "execution_count": 5,
   "id": "organic-actress",
   "metadata": {
    "execution": {
     "iopub.execute_input": "2021-04-08T02:15:05.713576Z",
     "iopub.status.busy": "2021-04-08T02:15:05.712881Z",
     "iopub.status.idle": "2021-04-08T02:15:05.716835Z",
     "shell.execute_reply": "2021-04-08T02:15:05.715942Z"
    },
    "papermill": {
     "duration": 0.02245,
     "end_time": "2021-04-08T02:15:05.716972",
     "exception": false,
     "start_time": "2021-04-08T02:15:05.694522",
     "status": "completed"
    },
    "tags": []
   },
   "outputs": [
    {
     "data": {
      "text/markdown": [
       "- Access to SEC Documents Will Aid Ripple’s Defense.   ... [| Skaityti daugiau](https://cryptobriefing.com/access-to-sec-documents-will-aid-ripples-defense/) "
      ],
      "text/plain": [
       "<IPython.core.display.Markdown object>"
      ]
     },
     "execution_count": 5,
     "metadata": {},
     "output_type": "execute_result"
    }
   ],
   "source": [
    "#hide_input\n",
    "#md('##### {}'.format(titleBTC)) \n",
    "md(\"- {}{} {}{} [| Skaityti daugiau]({}) \".format(xrp['title'],'. ', xrp['body'], ' ...', xrp['url']))"
   ]
  },
  {
   "cell_type": "code",
   "execution_count": 6,
   "id": "prompt-farmer",
   "metadata": {
    "execution": {
     "iopub.execute_input": "2021-04-08T02:15:05.756217Z",
     "iopub.status.busy": "2021-04-08T02:15:05.755215Z",
     "iopub.status.idle": "2021-04-08T02:15:05.759677Z",
     "shell.execute_reply": "2021-04-08T02:15:05.760225Z"
    },
    "papermill": {
     "duration": 0.027502,
     "end_time": "2021-04-08T02:15:05.760396",
     "exception": false,
     "start_time": "2021-04-08T02:15:05.732894",
     "status": "completed"
    },
    "tags": []
   },
   "outputs": [
    {
     "data": {
      "text/markdown": [
       "- Tron (TRX) Price Analysis: Rally Stable Above $0.10.  Tron price started a fresh rally from the $0.0800 support zone against the US Dollar. TRX price is now trading above the $0.1000 support and the 55 simple moving average (4-hours). There is a key bullish trend line forming with support near $0.1050 on the 4-hours chart (data feed via Bitfinex). The pair is likely...The post Tron (TRX) Price Analysis: Rally Stable Above $0.10 appeared first on Live Bitcoin News. ... [| Skaityti daugiau](https://www.livebitcoinnews.com/tron-trx-price-analysis-rally-stable-above-0-10/) "
      ],
      "text/plain": [
       "<IPython.core.display.Markdown object>"
      ]
     },
     "execution_count": 6,
     "metadata": {},
     "output_type": "execute_result"
    }
   ],
   "source": [
    "#hide_input\n",
    "#md('##### {}'.format(titleBTC)) \n",
    "md(\"- {}{} {}{} [| Skaityti daugiau]({}) \".format(trx['title'],'. ', trx['body'], ' ...', trx['url']))"
   ]
  },
  {
   "cell_type": "code",
   "execution_count": 7,
   "id": "illegal-greece",
   "metadata": {
    "execution": {
     "iopub.execute_input": "2021-04-08T02:15:05.803267Z",
     "iopub.status.busy": "2021-04-08T02:15:05.802636Z",
     "iopub.status.idle": "2021-04-08T02:15:05.805845Z",
     "shell.execute_reply": "2021-04-08T02:15:05.806328Z"
    },
    "papermill": {
     "duration": 0.026216,
     "end_time": "2021-04-08T02:15:05.806483",
     "exception": false,
     "start_time": "2021-04-08T02:15:05.780267",
     "status": "completed"
    },
    "tags": []
   },
   "outputs": [
    {
     "data": {
      "text/markdown": [
       "- How Bitcoin Dominance Bullish Engulfing Could Signal An End To Altcoin Season.  Bitcoin price is diving currently, shaking up the crypto market as a whole. In addition to the correction in the top cryptocurrency by market cap, altcoins have taken an even more severe beating. With top alts like Ethereum and Litecoin are seeing an even further drop on BTC trading pairs, Bitcoin dominance has formed a [&#8230;] ... [| Skaityti daugiau](https://www.newsbtc.com/analysis/btc/bitcoin-dominance-btc-altcoin-season/) "
      ],
      "text/plain": [
       "<IPython.core.display.Markdown object>"
      ]
     },
     "execution_count": 7,
     "metadata": {},
     "output_type": "execute_result"
    }
   ],
   "source": [
    "#hide_input\n",
    "#md('##### {}'.format(titleBTC)) \n",
    "md(\"- {}{} {}{} [| Skaityti daugiau]({}) \".format(eth['title'],'. ', eth['body'], ' ...', eth['url']))"
   ]
  },
  {
   "cell_type": "code",
   "execution_count": 8,
   "id": "sublime-lounge",
   "metadata": {
    "execution": {
     "iopub.execute_input": "2021-04-08T02:15:05.843498Z",
     "iopub.status.busy": "2021-04-08T02:15:05.842649Z",
     "iopub.status.idle": "2021-04-08T02:15:05.845902Z",
     "shell.execute_reply": "2021-04-08T02:15:05.845231Z"
    },
    "papermill": {
     "duration": 0.023268,
     "end_time": "2021-04-08T02:15:05.846026",
     "exception": false,
     "start_time": "2021-04-08T02:15:05.822758",
     "status": "completed"
    },
    "tags": []
   },
   "outputs": [
    {
     "data": {
      "text/markdown": [
       "- Price analysis 4/7: BTC, ETH, BNB, XRP, ADA, DOT, UNI, LTC, LINK, THETA.  Altcoins retraced to key lower support levels after Bitcoin price dropped below $56,000, but will traders view the dip as a buying opportunity? ... [| Skaityti daugiau](https://cointelegraph.com/news/price-analysis-4-7-btc-eth-bnb-xrp-ada-dot-uni-ltc-link-theta) "
      ],
      "text/plain": [
       "<IPython.core.display.Markdown object>"
      ]
     },
     "execution_count": 8,
     "metadata": {},
     "output_type": "execute_result"
    }
   ],
   "source": [
    "#hide_input\n",
    "#md('##### {}'.format(titleBTC)) \n",
    "md(\"- {}{} {}{} [| Skaityti daugiau]({}) \".format(ada['title'],'. ', ada['body'], ' ...', ada['url']))"
   ]
  },
  {
   "cell_type": "code",
   "execution_count": 9,
   "id": "specified-ordering",
   "metadata": {
    "execution": {
     "iopub.execute_input": "2021-04-08T02:15:05.880542Z",
     "iopub.status.busy": "2021-04-08T02:15:05.879826Z",
     "iopub.status.idle": "2021-04-08T02:15:05.882952Z",
     "shell.execute_reply": "2021-04-08T02:15:05.882279Z"
    },
    "papermill": {
     "duration": 0.022073,
     "end_time": "2021-04-08T02:15:05.883070",
     "exception": false,
     "start_time": "2021-04-08T02:15:05.860997",
     "status": "completed"
    },
    "tags": []
   },
   "outputs": [
    {
     "data": {
      "text/markdown": [
       "- Why did South Korea just say ‘no’ to a Bitcoin ETF listing on its stock exchange?.  A Korean crypto company had ambitious plans to launch a Bitcoin exchange-traded fund (ETF) in the crypto-frenzied market last week. The post Why did South Korea just say &#8216;no&#8217; to a Bitcoin ETF listing on its stock exchange? appeared first on CryptoSlate. ... [| Skaityti daugiau](https://cryptoslate.com/south-korea-says-no-to-a-bitcoin-etf/) "
      ],
      "text/plain": [
       "<IPython.core.display.Markdown object>"
      ]
     },
     "execution_count": 9,
     "metadata": {},
     "output_type": "execute_result"
    }
   ],
   "source": [
    "#hide_input\n",
    "#md('##### {}'.format(titleBTC)) \n",
    "md(\"- {}{} {}{} [| Skaityti daugiau]({}) \".format(exchange['title'],'. ', exchange['body'], ' ...', exchange['url']))"
   ]
  },
  {
   "cell_type": "code",
   "execution_count": null,
   "id": "tender-livestock",
   "metadata": {
    "papermill": {
     "duration": 0.014731,
     "end_time": "2021-04-08T02:15:05.913114",
     "exception": false,
     "start_time": "2021-04-08T02:15:05.898383",
     "status": "completed"
    },
    "tags": []
   },
   "outputs": [],
   "source": []
  },
  {
   "cell_type": "code",
   "execution_count": null,
   "id": "appreciated-diamond",
   "metadata": {
    "papermill": {
     "duration": 0.015042,
     "end_time": "2021-04-08T02:15:05.943724",
     "exception": false,
     "start_time": "2021-04-08T02:15:05.928682",
     "status": "completed"
    },
    "tags": []
   },
   "outputs": [],
   "source": []
  },
  {
   "cell_type": "code",
   "execution_count": null,
   "id": "romance-sweden",
   "metadata": {
    "papermill": {
     "duration": 0.014434,
     "end_time": "2021-04-08T02:15:05.973447",
     "exception": false,
     "start_time": "2021-04-08T02:15:05.959013",
     "status": "completed"
    },
    "tags": []
   },
   "outputs": [],
   "source": []
  },
  {
   "cell_type": "code",
   "execution_count": null,
   "id": "dietary-statistics",
   "metadata": {
    "papermill": {
     "duration": 0.014886,
     "end_time": "2021-04-08T02:15:06.002844",
     "exception": false,
     "start_time": "2021-04-08T02:15:05.987958",
     "status": "completed"
    },
    "tags": []
   },
   "outputs": [],
   "source": []
  }
 ],
 "metadata": {
  "kernelspec": {
   "display_name": "Python 3",
   "language": "python",
   "name": "python3"
  },
  "language_info": {
   "codemirror_mode": {
    "name": "ipython",
    "version": 3
   },
   "file_extension": ".py",
   "mimetype": "text/x-python",
   "name": "python",
   "nbconvert_exporter": "python",
   "pygments_lexer": "ipython3",
   "version": "3.6.13"
  },
  "papermill": {
   "default_parameters": {},
   "duration": 13.362601,
   "end_time": "2021-04-08T02:15:07.322798",
   "environment_variables": {},
   "exception": null,
   "input_path": "Market-News.ipynb",
   "output_path": "Market-News.ipynb",
   "parameters": {},
   "start_time": "2021-04-08T02:14:53.960197",
   "version": "2.2.2"
  }
 },
 "nbformat": 4,
 "nbformat_minor": 5
}