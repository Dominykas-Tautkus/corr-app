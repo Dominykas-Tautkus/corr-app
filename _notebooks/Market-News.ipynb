{
 "cells": [
  {
   "cell_type": "markdown",
   "id": "short-greensboro",
   "metadata": {
    "papermill": {
     "duration": 0.015788,
     "end_time": "2021-04-12T02:12:51.462099",
     "exception": false,
     "start_time": "2021-04-12T02:12:51.446311",
     "status": "completed"
    },
    "tags": []
   },
   "source": [
    "# Kriptovaliutų naujienos"
   ]
  },
  {
   "cell_type": "code",
   "execution_count": 1,
   "id": "functioning-knowing",
   "metadata": {
    "execution": {
     "iopub.execute_input": "2021-04-12T02:12:51.499709Z",
     "iopub.status.busy": "2021-04-12T02:12:51.499008Z",
     "iopub.status.idle": "2021-04-12T02:12:53.028328Z",
     "shell.execute_reply": "2021-04-12T02:12:53.027736Z"
    },
    "papermill": {
     "duration": 1.552913,
     "end_time": "2021-04-12T02:12:53.028522",
     "exception": false,
     "start_time": "2021-04-12T02:12:51.475609",
     "status": "completed"
    },
    "tags": []
   },
   "outputs": [],
   "source": [
    "#hide_input\n",
    "import warnings\n",
    "warnings.filterwarnings('ignore')\n",
    "from scripts.read_data import read_api\n",
    "from scripts.read_data import read_news\n",
    "from scripts.read_data import read_covid\n",
    "import matplotlib.pyplot as plt \n",
    "from IPython.display import Markdown as md"
   ]
  },
  {
   "cell_type": "code",
   "execution_count": 2,
   "id": "shared-acceptance",
   "metadata": {
    "execution": {
     "iopub.execute_input": "2021-04-12T02:12:53.070810Z",
     "iopub.status.busy": "2021-04-12T02:12:53.070037Z",
     "iopub.status.idle": "2021-04-12T02:13:03.958052Z",
     "shell.execute_reply": "2021-04-12T02:13:03.957081Z"
    },
    "papermill": {
     "duration": 10.909047,
     "end_time": "2021-04-12T02:13:03.958220",
     "exception": false,
     "start_time": "2021-04-12T02:12:53.049173",
     "status": "completed"
    },
    "tags": []
   },
   "outputs": [],
   "source": [
    "#hide_input\n",
    "blockchain = read_news('blockchain') \n",
    "btc = read_news('btc') \n",
    "xrp = read_news('xrp') \n",
    "trx = read_news('trx') \n",
    "eth = read_news('eth')  \n",
    "ada = read_news('ada')\n",
    "exchange = read_news('exchange') "
   ]
  },
  {
   "cell_type": "code",
   "execution_count": 3,
   "id": "synthetic-notion",
   "metadata": {
    "execution": {
     "iopub.execute_input": "2021-04-12T02:13:03.988429Z",
     "iopub.status.busy": "2021-04-12T02:13:03.987748Z",
     "iopub.status.idle": "2021-04-12T02:13:03.993509Z",
     "shell.execute_reply": "2021-04-12T02:13:03.994009Z"
    },
    "papermill": {
     "duration": 0.024466,
     "end_time": "2021-04-12T02:13:03.994162",
     "exception": false,
     "start_time": "2021-04-12T02:13:03.969696",
     "status": "completed"
    },
    "tags": []
   },
   "outputs": [
    {
     "data": {
      "text/markdown": [
       "- Verto.exchange founder explains why he built the first DEX on “permaweb” protocol Arweave.  CryptoSlate recently had the opportunity to chat with Tate Berenbaum, the founder of Verto.exchange, a decentralized trading protocol built on top of Arweave. The post Verto.exchange founder explains why he built the first DEX on &#8220;permaweb&#8221; protocol Arweave appeared first on CryptoSlate. ... [| Skaityti daugiau](https://cryptoslate.com/verto-exchange-founder-explains-why-he-built-the-first-dex-on-permaweb-protocol-arweave/) "
      ],
      "text/plain": [
       "<IPython.core.display.Markdown object>"
      ]
     },
     "execution_count": 3,
     "metadata": {},
     "output_type": "execute_result"
    }
   ],
   "source": [
    "#hide_input\n",
    "#md('##### {}'.format(titleBTC)) \n",
    "md(\"- {}{} {}{} [| Skaityti daugiau]({}) \".format(blockchain['title'],'. ', blockchain['body'], ' ...', blockchain['url']))"
   ]
  },
  {
   "cell_type": "code",
   "execution_count": 4,
   "id": "aging-caution",
   "metadata": {
    "execution": {
     "iopub.execute_input": "2021-04-12T02:13:04.027150Z",
     "iopub.status.busy": "2021-04-12T02:13:04.026526Z",
     "iopub.status.idle": "2021-04-12T02:13:04.031811Z",
     "shell.execute_reply": "2021-04-12T02:13:04.032395Z"
    },
    "papermill": {
     "duration": 0.025779,
     "end_time": "2021-04-12T02:13:04.032555",
     "exception": false,
     "start_time": "2021-04-12T02:13:04.006776",
     "status": "completed"
    },
    "tags": []
   },
   "outputs": [
    {
     "data": {
      "text/markdown": [
       "- Rich Dad Poor Dad Author Robert Kiyosaki Predicts Bitcoin Price Will Be $1.2 Million in 5 Years.  Robert Kiyosaki, the best-selling author of &#8220;Rich Dad Poor Dad,&#8221; has predicted that the price of bitcoin will increase to $1.2 million within five years. Kiyosaki revealed that he bought bitcoin at $9,000, adding that he may buy the cryptocurrency again &#8220;today or tomorrow just because I&#8217;m more bullish on it.&#8221; Robert Kiyosaki Expects Bitcoin&#8217;s [&#8230;] ... [| Skaityti daugiau](https://news.bitcoin.com/rich-dad-poor-dad-robert-kiyosaki-bitcoin-price-1-2-million-5-years/) "
      ],
      "text/plain": [
       "<IPython.core.display.Markdown object>"
      ]
     },
     "execution_count": 4,
     "metadata": {},
     "output_type": "execute_result"
    }
   ],
   "source": [
    "#hide_input\n",
    "#md('##### {}'.format(titleBTC)) \n",
    "md(\"- {}{} {}{} [| Skaityti daugiau]({}) \".format(btc['title'],'. ', btc['body'], ' ...', btc['url']))"
   ]
  },
  {
   "cell_type": "code",
   "execution_count": 5,
   "id": "organic-actress",
   "metadata": {
    "execution": {
     "iopub.execute_input": "2021-04-12T02:13:04.068820Z",
     "iopub.status.busy": "2021-04-12T02:13:04.067897Z",
     "iopub.status.idle": "2021-04-12T02:13:04.074806Z",
     "shell.execute_reply": "2021-04-12T02:13:04.076008Z"
    },
    "papermill": {
     "duration": 0.031269,
     "end_time": "2021-04-12T02:13:04.076187",
     "exception": false,
     "start_time": "2021-04-12T02:13:04.044918",
     "status": "completed"
    },
    "tags": []
   },
   "outputs": [
    {
     "data": {
      "text/markdown": [
       "- Crypto Trader Ben Armstrong Is Buying XRP – Here’s Why.  Cryptocurrency analyst and influencer Ben Armstrong reveals that he&#8217;s finally jumping on the XRP bandwagon. In a new video, Armstrong tells his 780,000 YouTube subscribers that he believes XRP is becoming a beacon that retail traders could use to rally against the establishment. &#8220;If we look back at what happened with Wall Street Bets and [&#8230;]The post Crypto Trader Ben Armstrong Is Buying XRP – Here&#8217;s Why appeared first on The Daily Hodl. ... [| Skaityti daugiau](https://dailyhodl.com/2021/04/11/crypto-trader-ben-armstrong-is-buying-xrp-heres-why/) "
      ],
      "text/plain": [
       "<IPython.core.display.Markdown object>"
      ]
     },
     "execution_count": 5,
     "metadata": {},
     "output_type": "execute_result"
    }
   ],
   "source": [
    "#hide_input\n",
    "#md('##### {}'.format(titleBTC)) \n",
    "md(\"- {}{} {}{} [| Skaityti daugiau]({}) \".format(xrp['title'],'. ', xrp['body'], ' ...', xrp['url']))"
   ]
  },
  {
   "cell_type": "code",
   "execution_count": 6,
   "id": "prompt-farmer",
   "metadata": {
    "execution": {
     "iopub.execute_input": "2021-04-12T02:13:04.110360Z",
     "iopub.status.busy": "2021-04-12T02:13:04.109710Z",
     "iopub.status.idle": "2021-04-12T02:13:04.114932Z",
     "shell.execute_reply": "2021-04-12T02:13:04.114374Z"
    },
    "papermill": {
     "duration": 0.022528,
     "end_time": "2021-04-12T02:13:04.115070",
     "exception": false,
     "start_time": "2021-04-12T02:13:04.092542",
     "status": "completed"
    },
    "tags": []
   },
   "outputs": [
    {
     "data": {
      "text/markdown": [
       "- Binance Coin, Decred, Tron Price Analysis: 11 April.  Binance Coin chewed up all the technical targets presented to it recently as it posted a high at $487 before receding slightly. Decred looked to be forming a rising wedge pattern, and Tron signaled it could be ready for its move past $0.12 once more. Binance Coin [BNB] Binance Coin had formed bearish twin peaks [&#8230;] ... [| Skaityti daugiau](https://ambcrypto.com/binance-coin-decred-tron-price-analysis-11-april/) "
      ],
      "text/plain": [
       "<IPython.core.display.Markdown object>"
      ]
     },
     "execution_count": 6,
     "metadata": {},
     "output_type": "execute_result"
    }
   ],
   "source": [
    "#hide_input\n",
    "#md('##### {}'.format(titleBTC)) \n",
    "md(\"- {}{} {}{} [| Skaityti daugiau]({}) \".format(trx['title'],'. ', trx['body'], ' ...', trx['url']))"
   ]
  },
  {
   "cell_type": "code",
   "execution_count": 7,
   "id": "illegal-greece",
   "metadata": {
    "execution": {
     "iopub.execute_input": "2021-04-12T02:13:04.149776Z",
     "iopub.status.busy": "2021-04-12T02:13:04.149114Z",
     "iopub.status.idle": "2021-04-12T02:13:04.154802Z",
     "shell.execute_reply": "2021-04-12T02:13:04.155793Z"
    },
    "papermill": {
     "duration": 0.026713,
     "end_time": "2021-04-12T02:13:04.155943",
     "exception": false,
     "start_time": "2021-04-12T02:13:04.129230",
     "status": "completed"
    },
    "tags": []
   },
   "outputs": [
    {
     "data": {
      "text/markdown": [
       "- Solana (SOL) price rises as airdrops attract new users to the network.  Solana price has rallied more than 50% this month as new projects conduct airdrops on SOL blockchain and high Ethereum fees push investors to seek cheaper alternatives. ... [| Skaityti daugiau](https://cointelegraph.com/news/solana-sol-price-rises-as-airdrops-attract-new-users-to-the-network) "
      ],
      "text/plain": [
       "<IPython.core.display.Markdown object>"
      ]
     },
     "execution_count": 7,
     "metadata": {},
     "output_type": "execute_result"
    }
   ],
   "source": [
    "#hide_input\n",
    "#md('##### {}'.format(titleBTC)) \n",
    "md(\"- {}{} {}{} [| Skaityti daugiau]({}) \".format(eth['title'],'. ', eth['body'], ' ...', eth['url']))"
   ]
  },
  {
   "cell_type": "code",
   "execution_count": 8,
   "id": "sublime-lounge",
   "metadata": {
    "execution": {
     "iopub.execute_input": "2021-04-12T02:13:04.190527Z",
     "iopub.status.busy": "2021-04-12T02:13:04.189219Z",
     "iopub.status.idle": "2021-04-12T02:13:04.192612Z",
     "shell.execute_reply": "2021-04-12T02:13:04.193172Z"
    },
    "papermill": {
     "duration": 0.023713,
     "end_time": "2021-04-12T02:13:04.193319",
     "exception": false,
     "start_time": "2021-04-12T02:13:04.169606",
     "status": "completed"
    },
    "tags": []
   },
   "outputs": [
    {
     "data": {
      "text/markdown": [
       "- And The Best-Performing Cryptocurrency Of The Past Year Is… Cardano(ADA), With Incredible 3,290% Returns.  Cardano (ADA) has enjoyed a meteoric rise over the last year. The cryptocurrency is up by over 3,200% and is outshining every other crypto-asset, including the flagship cryptocurrency, bitcoin.&#160; Despite the massive upsurge that Cardano has registered over the last couple of months, analysts believe there’s more growth ahead. Amazing! ADA Outpaces All Other Cryptocurrencies [&#8230;] ... [| Skaityti daugiau](https://zycrypto.com/and-the-best-performing-cryptocurrency-of-the-past-year-is-cardanoada-with-incredible-3290-returns/) "
      ],
      "text/plain": [
       "<IPython.core.display.Markdown object>"
      ]
     },
     "execution_count": 8,
     "metadata": {},
     "output_type": "execute_result"
    }
   ],
   "source": [
    "#hide_input\n",
    "#md('##### {}'.format(titleBTC)) \n",
    "md(\"- {}{} {}{} [| Skaityti daugiau]({}) \".format(ada['title'],'. ', ada['body'], ' ...', ada['url']))"
   ]
  },
  {
   "cell_type": "code",
   "execution_count": 9,
   "id": "specified-ordering",
   "metadata": {
    "execution": {
     "iopub.execute_input": "2021-04-12T02:13:04.230468Z",
     "iopub.status.busy": "2021-04-12T02:13:04.229687Z",
     "iopub.status.idle": "2021-04-12T02:13:04.234538Z",
     "shell.execute_reply": "2021-04-12T02:13:04.235132Z"
    },
    "papermill": {
     "duration": 0.026256,
     "end_time": "2021-04-12T02:13:04.235286",
     "exception": false,
     "start_time": "2021-04-12T02:13:04.209030",
     "status": "completed"
    },
    "tags": []
   },
   "outputs": [
    {
     "data": {
      "text/markdown": [
       "- Coinbase Could Add These 4 Crypto Assets Soon, Says Tyler Swope.  US-based crypto exchange Coinbase could be adding four new crypto assets to its growing list of supported coins soon, according to influencer and trader Tyler Swope. In a new video, Swope tells his 222,000 YouTube subscribers that the red-hot decentralized video delivery network, Theta Network (THETA), has been on Coinbase&#8217;s radar since July 2020. The [&#8230;]The post Coinbase Could Add These 4 Crypto Assets Soon, Says Tyler Swope appeared first on The Daily Hodl. ... [| Skaityti daugiau](https://dailyhodl.com/2021/04/11/coinbase-could-add-these-four-crypto-assets-soon-says-tyler-swope/) "
      ],
      "text/plain": [
       "<IPython.core.display.Markdown object>"
      ]
     },
     "execution_count": 9,
     "metadata": {},
     "output_type": "execute_result"
    }
   ],
   "source": [
    "#hide_input\n",
    "#md('##### {}'.format(titleBTC)) \n",
    "md(\"- {}{} {}{} [| Skaityti daugiau]({}) \".format(exchange['title'],'. ', exchange['body'], ' ...', exchange['url']))"
   ]
  },
  {
   "cell_type": "code",
   "execution_count": null,
   "id": "tender-livestock",
   "metadata": {
    "papermill": {
     "duration": 0.013897,
     "end_time": "2021-04-12T02:13:04.263690",
     "exception": false,
     "start_time": "2021-04-12T02:13:04.249793",
     "status": "completed"
    },
    "tags": []
   },
   "outputs": [],
   "source": []
  },
  {
   "cell_type": "code",
   "execution_count": null,
   "id": "appreciated-diamond",
   "metadata": {
    "papermill": {
     "duration": 0.014269,
     "end_time": "2021-04-12T02:13:04.292374",
     "exception": false,
     "start_time": "2021-04-12T02:13:04.278105",
     "status": "completed"
    },
    "tags": []
   },
   "outputs": [],
   "source": []
  },
  {
   "cell_type": "code",
   "execution_count": null,
   "id": "romance-sweden",
   "metadata": {
    "papermill": {
     "duration": 0.014288,
     "end_time": "2021-04-12T02:13:04.321372",
     "exception": false,
     "start_time": "2021-04-12T02:13:04.307084",
     "status": "completed"
    },
    "tags": []
   },
   "outputs": [],
   "source": []
  },
  {
   "cell_type": "code",
   "execution_count": null,
   "id": "dietary-statistics",
   "metadata": {
    "papermill": {
     "duration": 0.016177,
     "end_time": "2021-04-12T02:13:04.352416",
     "exception": false,
     "start_time": "2021-04-12T02:13:04.336239",
     "status": "completed"
    },
    "tags": []
   },
   "outputs": [],
   "source": []
  }
 ],
 "metadata": {
  "kernelspec": {
   "display_name": "Python 3",
   "language": "python",
   "name": "python3"
  },
  "language_info": {
   "codemirror_mode": {
    "name": "ipython",
    "version": 3
   },
   "file_extension": ".py",
   "mimetype": "text/x-python",
   "name": "python",
   "nbconvert_exporter": "python",
   "pygments_lexer": "ipython3",
   "version": "3.6.13"
  },
  "papermill": {
   "default_parameters": {},
   "duration": 15.342062,
   "end_time": "2021-04-12T02:13:05.651325",
   "environment_variables": {},
   "exception": null,
   "input_path": "Market-News.ipynb",
   "output_path": "Market-News.ipynb",
   "parameters": {},
   "start_time": "2021-04-12T02:12:50.309263",
   "version": "2.2.2"
  }
 },
 "nbformat": 4,
 "nbformat_minor": 5
}