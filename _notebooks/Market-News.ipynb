{
 "cells": [
  {
   "cell_type": "markdown",
   "id": "short-greensboro",
   "metadata": {
    "papermill": {
     "duration": 0.017786,
     "end_time": "2021-03-26T03:08:39.593017",
     "exception": false,
     "start_time": "2021-03-26T03:08:39.575231",
     "status": "completed"
    },
    "tags": []
   },
   "source": [
    "# Kriptovaliutų naujienos"
   ]
  },
  {
   "cell_type": "code",
   "execution_count": 1,
   "id": "functioning-knowing",
   "metadata": {
    "execution": {
     "iopub.execute_input": "2021-03-26T03:08:39.626581Z",
     "iopub.status.busy": "2021-03-26T03:08:39.622056Z",
     "iopub.status.idle": "2021-03-26T03:08:40.910639Z",
     "shell.execute_reply": "2021-03-26T03:08:40.909944Z"
    },
    "papermill": {
     "duration": 1.306795,
     "end_time": "2021-03-26T03:08:40.910829",
     "exception": false,
     "start_time": "2021-03-26T03:08:39.604034",
     "status": "completed"
    },
    "tags": []
   },
   "outputs": [],
   "source": [
    "#hide_input\n",
    "import warnings\n",
    "warnings.filterwarnings('ignore')\n",
    "from scripts.read_data import read_api\n",
    "from scripts.read_data import read_news\n",
    "from scripts.read_data import read_covid\n",
    "import matplotlib.pyplot as plt \n",
    "from IPython.display import Markdown as md"
   ]
  },
  {
   "cell_type": "code",
   "execution_count": 2,
   "id": "shared-acceptance",
   "metadata": {
    "execution": {
     "iopub.execute_input": "2021-03-26T03:08:40.939696Z",
     "iopub.status.busy": "2021-03-26T03:08:40.939085Z",
     "iopub.status.idle": "2021-03-26T03:08:49.277680Z",
     "shell.execute_reply": "2021-03-26T03:08:49.276725Z"
    },
    "papermill": {
     "duration": 8.355748,
     "end_time": "2021-03-26T03:08:49.277825",
     "exception": false,
     "start_time": "2021-03-26T03:08:40.922077",
     "status": "completed"
    },
    "tags": []
   },
   "outputs": [],
   "source": [
    "#hide_input\n",
    "blockchain = read_news('blockchain') \n",
    "btc = read_news('btc') \n",
    "xrp = read_news('xrp') \n",
    "trx = read_news('trx') \n",
    "eth = read_news('eth')  \n",
    "ada = read_news('ada')\n",
    "exchange = read_news('exchange') "
   ]
  },
  {
   "cell_type": "code",
   "execution_count": 3,
   "id": "synthetic-notion",
   "metadata": {
    "execution": {
     "iopub.execute_input": "2021-03-26T03:08:49.306112Z",
     "iopub.status.busy": "2021-03-26T03:08:49.305483Z",
     "iopub.status.idle": "2021-03-26T03:08:49.307652Z",
     "shell.execute_reply": "2021-03-26T03:08:49.308203Z"
    },
    "papermill": {
     "duration": 0.019669,
     "end_time": "2021-03-26T03:08:49.308343",
     "exception": false,
     "start_time": "2021-03-26T03:08:49.288674",
     "status": "completed"
    },
    "tags": []
   },
   "outputs": [
    {
     "data": {
      "text/markdown": [
       "- Zeitgeist Brings a Prediction Markets Ecosystem to Polkadot’s Kusama.  To capitalize on the growing popularity of blockchain trends like decentralized finance (defi), Zeitgeist will be rolling out a new native prediction platform for Polkadot to expand the scope of opportunities available for retail crypto investors. New Network to Build on Substrate and Launch Exclusively on Kusama Long before Satoshi Nakamoto unveiled the Bitcoin whitepaper [&#8230;] ... [| Skaityti daugiau](https://news.bitcoin.com/zeitgeist-brings-a-prediction-markets-ecosystem-to-polkadots-kusama/) "
      ],
      "text/plain": [
       "<IPython.core.display.Markdown object>"
      ]
     },
     "execution_count": 3,
     "metadata": {},
     "output_type": "execute_result"
    }
   ],
   "source": [
    "#hide_input\n",
    "#md('##### {}'.format(titleBTC)) \n",
    "md(\"- {}{} {}{} [| Skaityti daugiau]({}) \".format(blockchain['title'],'. ', blockchain['body'], ' ...', blockchain['url']))"
   ]
  },
  {
   "cell_type": "code",
   "execution_count": 4,
   "id": "aging-caution",
   "metadata": {
    "execution": {
     "iopub.execute_input": "2021-03-26T03:08:49.335175Z",
     "iopub.status.busy": "2021-03-26T03:08:49.334585Z",
     "iopub.status.idle": "2021-03-26T03:08:49.338188Z",
     "shell.execute_reply": "2021-03-26T03:08:49.338660Z"
    },
    "papermill": {
     "duration": 0.01953,
     "end_time": "2021-03-26T03:08:49.338798",
     "exception": false,
     "start_time": "2021-03-26T03:08:49.319268",
     "status": "completed"
    },
    "tags": []
   },
   "outputs": [
    {
     "data": {
      "text/markdown": [
       "- Bitcoin Flashing ‘Screaming Signal’ To Buy, Price Could Hit $5 Million: MicroStrategy CEO.  The CEO of Nasdaq-listed business intelligence firm MicroStrategy, Michael Saylor, has revealed he believes the price of bitcoin could surge to $5 million per coin in the future and he sees it as a “screaming buy.” Saylor’s words came during an interview with FamilyOffice, first spotted by Daily Hodl, where Saylor said the cryptocurrency could […] ... [| Skaityti daugiau](https://www.cryptoglobe.com/latest/2021/03/bitcoin-flashing-screaming-signal-to-buy-price-could-hit-5-million-microstrategy-ceo/) "
      ],
      "text/plain": [
       "<IPython.core.display.Markdown object>"
      ]
     },
     "execution_count": 4,
     "metadata": {},
     "output_type": "execute_result"
    }
   ],
   "source": [
    "#hide_input\n",
    "#md('##### {}'.format(titleBTC)) \n",
    "md(\"- {}{} {}{} [| Skaityti daugiau]({}) \".format(btc['title'],'. ', btc['body'], ' ...', btc['url']))"
   ]
  },
  {
   "cell_type": "code",
   "execution_count": 5,
   "id": "organic-actress",
   "metadata": {
    "execution": {
     "iopub.execute_input": "2021-03-26T03:08:49.365474Z",
     "iopub.status.busy": "2021-03-26T03:08:49.364895Z",
     "iopub.status.idle": "2021-03-26T03:08:49.375259Z",
     "shell.execute_reply": "2021-03-26T03:08:49.374787Z"
    },
    "papermill": {
     "duration": 0.025649,
     "end_time": "2021-03-26T03:08:49.375384",
     "exception": false,
     "start_time": "2021-03-26T03:08:49.349735",
     "status": "completed"
    },
    "tags": []
   },
   "outputs": [
    {
     "data": {
      "text/markdown": [
       "- Is this a clear buy signal for XRP?.  With fresh developments in the Ripple-SEC lawsuit, analysts are now keeping an eye out for the company’s native crypto, XRP. Technical and on-chain analyst, Ali Martinez assessed the XRP market and published an interesting finding earlier today. According to him, XRP could provide “an opportunity for investors to profit.” Martinez used the Market Value to [&#8230;] ... [| Skaityti daugiau](https://ambcrypto.com/is-this-a-clear-buy-signal-for-xrp/) "
      ],
      "text/plain": [
       "<IPython.core.display.Markdown object>"
      ]
     },
     "execution_count": 5,
     "metadata": {},
     "output_type": "execute_result"
    }
   ],
   "source": [
    "#hide_input\n",
    "#md('##### {}'.format(titleBTC)) \n",
    "md(\"- {}{} {}{} [| Skaityti daugiau]({}) \".format(xrp['title'],'. ', xrp['body'], ' ...', xrp['url']))"
   ]
  },
  {
   "cell_type": "code",
   "execution_count": 6,
   "id": "prompt-farmer",
   "metadata": {
    "execution": {
     "iopub.execute_input": "2021-03-26T03:08:49.403323Z",
     "iopub.status.busy": "2021-03-26T03:08:49.402721Z",
     "iopub.status.idle": "2021-03-26T03:08:49.408752Z",
     "shell.execute_reply": "2021-03-26T03:08:49.408270Z"
    },
    "papermill": {
     "duration": 0.022074,
     "end_time": "2021-03-26T03:08:49.408881",
     "exception": false,
     "start_time": "2021-03-26T03:08:49.386807",
     "status": "completed"
    },
    "tags": []
   },
   "outputs": [
    {
     "data": {
      "text/markdown": [
       "- Tron (TRX) Price Analysis: Key Support Intact Near $0.055.  Tron price rallied towards the $0.0680 zone before correcting lower against the US Dollar. TRX price is now trading above the $0.0575 support and the 55 simple moving average (4-hours). There is a major contracting triangle forming with support near $0.0580 on the 4-hours chart (data feed via Bitfinex). The pair could start a fresh...The post Tron (TRX) Price Analysis: Key Support Intact Near $0.055 appeared first on Live Bitcoin News. ... [| Skaityti daugiau](https://www.livebitcoinnews.com/tron-trx-price-analysis-key-support-intact-near-0-055/) "
      ],
      "text/plain": [
       "<IPython.core.display.Markdown object>"
      ]
     },
     "execution_count": 6,
     "metadata": {},
     "output_type": "execute_result"
    }
   ],
   "source": [
    "#hide_input\n",
    "#md('##### {}'.format(titleBTC)) \n",
    "md(\"- {}{} {}{} [| Skaityti daugiau]({}) \".format(trx['title'],'. ', trx['body'], ' ...', trx['url']))"
   ]
  },
  {
   "cell_type": "code",
   "execution_count": 7,
   "id": "illegal-greece",
   "metadata": {
    "execution": {
     "iopub.execute_input": "2021-03-26T03:08:49.439760Z",
     "iopub.status.busy": "2021-03-26T03:08:49.439123Z",
     "iopub.status.idle": "2021-03-26T03:08:49.443122Z",
     "shell.execute_reply": "2021-03-26T03:08:49.442638Z"
    },
    "papermill": {
     "duration": 0.022018,
     "end_time": "2021-03-26T03:08:49.443251",
     "exception": false,
     "start_time": "2021-03-26T03:08:49.421233",
     "status": "completed"
    },
    "tags": []
   },
   "outputs": [
    {
     "data": {
      "text/markdown": [
       "- Domestic and Foreign Buyers Acquired a ‘Tokenized’ Apartment in a Spanish City by Paying With Ethereum.  National and foreign buyers acquired a &#8220;tokenized&#8221; apartment in Spain with ethereum, which involved a domestic crypto exchange and a real estate investment firm. The city of Sevilla was the scenario for the crypto deal between the parties. Transaction Was Worth Over $64,000 According to El Correo Web, the Spanish crypto exchange Criptan and the [&#8230;] ... [| Skaityti daugiau](https://news.bitcoin.com/domestic-and-foreign-buyers-acquired-a-tokenized-apartment-in-a-spanish-city-by-paying-with-ethereum/) "
      ],
      "text/plain": [
       "<IPython.core.display.Markdown object>"
      ]
     },
     "execution_count": 7,
     "metadata": {},
     "output_type": "execute_result"
    }
   ],
   "source": [
    "#hide_input\n",
    "#md('##### {}'.format(titleBTC)) \n",
    "md(\"- {}{} {}{} [| Skaityti daugiau]({}) \".format(eth['title'],'. ', eth['body'], ' ...', eth['url']))"
   ]
  },
  {
   "cell_type": "code",
   "execution_count": 8,
   "id": "sublime-lounge",
   "metadata": {
    "execution": {
     "iopub.execute_input": "2021-03-26T03:08:49.474505Z",
     "iopub.status.busy": "2021-03-26T03:08:49.473896Z",
     "iopub.status.idle": "2021-03-26T03:08:49.480959Z",
     "shell.execute_reply": "2021-03-26T03:08:49.481932Z"
    },
    "papermill": {
     "duration": 0.026144,
     "end_time": "2021-03-26T03:08:49.482095",
     "exception": false,
     "start_time": "2021-03-26T03:08:49.455951",
     "status": "completed"
    },
    "tags": []
   },
   "outputs": [
    {
     "data": {
      "text/markdown": [
       "- Cardano team’s negotiating with top-10 NFT marketplaces; will they move to Cardano?.  While the Founder of IOHK has been busy with the upcoming Alonzo hard fork and NFT &#8216;tweet sales&#8217;, he recently hinted at another development for the Cardano network in a livestream on Periscope. Charles Hoskinson said that Cardano was planning to give importance to the NFT marketplace. Alongside preparing for Alonzo, an upgrade that will [&#8230;] ... [| Skaityti daugiau](https://ambcrypto.com/cardano-teams-negotiating-with-top-10-nft-marketplaces-will-they-move-to-cardano/) "
      ],
      "text/plain": [
       "<IPython.core.display.Markdown object>"
      ]
     },
     "execution_count": 8,
     "metadata": {},
     "output_type": "execute_result"
    }
   ],
   "source": [
    "#hide_input\n",
    "#md('##### {}'.format(titleBTC)) \n",
    "md(\"- {}{} {}{} [| Skaityti daugiau]({}) \".format(ada['title'],'. ', ada['body'], ' ...', ada['url']))"
   ]
  },
  {
   "cell_type": "code",
   "execution_count": 9,
   "id": "specified-ordering",
   "metadata": {
    "execution": {
     "iopub.execute_input": "2021-03-26T03:08:49.513092Z",
     "iopub.status.busy": "2021-03-26T03:08:49.512500Z",
     "iopub.status.idle": "2021-03-26T03:08:49.515572Z",
     "shell.execute_reply": "2021-03-26T03:08:49.515084Z"
    },
    "papermill": {
     "duration": 0.020839,
     "end_time": "2021-03-26T03:08:49.515726",
     "exception": false,
     "start_time": "2021-03-26T03:08:49.494887",
     "status": "completed"
    },
    "tags": []
   },
   "outputs": [
    {
     "data": {
      "text/markdown": [
       "- Avanti Financial raises $37 million to launch institutional crypto bank.  The digital asset bank will be aimed at institutional investors only, and there is no exchange planned.  ... [| Skaityti daugiau](https://cointelegraph.com/news/avanti-financial-raises-37-million-to-launch-institutional-crypto-bank) "
      ],
      "text/plain": [
       "<IPython.core.display.Markdown object>"
      ]
     },
     "execution_count": 9,
     "metadata": {},
     "output_type": "execute_result"
    }
   ],
   "source": [
    "#hide_input\n",
    "#md('##### {}'.format(titleBTC)) \n",
    "md(\"- {}{} {}{} [| Skaityti daugiau]({}) \".format(exchange['title'],'. ', exchange['body'], ' ...', exchange['url']))"
   ]
  },
  {
   "cell_type": "code",
   "execution_count": null,
   "id": "tender-livestock",
   "metadata": {
    "papermill": {
     "duration": 0.013041,
     "end_time": "2021-03-26T03:08:49.541971",
     "exception": false,
     "start_time": "2021-03-26T03:08:49.528930",
     "status": "completed"
    },
    "tags": []
   },
   "outputs": [],
   "source": []
  },
  {
   "cell_type": "code",
   "execution_count": null,
   "id": "appreciated-diamond",
   "metadata": {
    "papermill": {
     "duration": 0.013754,
     "end_time": "2021-03-26T03:08:49.568653",
     "exception": false,
     "start_time": "2021-03-26T03:08:49.554899",
     "status": "completed"
    },
    "tags": []
   },
   "outputs": [],
   "source": []
  },
  {
   "cell_type": "code",
   "execution_count": null,
   "id": "romance-sweden",
   "metadata": {
    "papermill": {
     "duration": 0.01623,
     "end_time": "2021-03-26T03:08:49.597725",
     "exception": false,
     "start_time": "2021-03-26T03:08:49.581495",
     "status": "completed"
    },
    "tags": []
   },
   "outputs": [],
   "source": []
  },
  {
   "cell_type": "code",
   "execution_count": null,
   "id": "dietary-statistics",
   "metadata": {
    "papermill": {
     "duration": 0.013814,
     "end_time": "2021-03-26T03:08:49.624451",
     "exception": false,
     "start_time": "2021-03-26T03:08:49.610637",
     "status": "completed"
    },
    "tags": []
   },
   "outputs": [],
   "source": []
  }
 ],
 "metadata": {
  "kernelspec": {
   "display_name": "Python 3",
   "language": "python",
   "name": "python3"
  },
  "language_info": {
   "codemirror_mode": {
    "name": "ipython",
    "version": 3
   },
   "file_extension": ".py",
   "mimetype": "text/x-python",
   "name": "python",
   "nbconvert_exporter": "python",
   "pygments_lexer": "ipython3",
   "version": "3.6.13"
  },
  "papermill": {
   "default_parameters": {},
   "duration": 11.853109,
   "end_time": "2021-03-26T03:08:50.147083",
   "environment_variables": {},
   "exception": null,
   "input_path": "Market-News.ipynb",
   "output_path": "Market-News.ipynb",
   "parameters": {},
   "start_time": "2021-03-26T03:08:38.293974",
   "version": "2.2.2"
  }
 },
 "nbformat": 4,
 "nbformat_minor": 5
}