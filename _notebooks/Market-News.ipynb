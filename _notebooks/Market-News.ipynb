{
 "cells": [
  {
   "cell_type": "markdown",
   "id": "short-greensboro",
   "metadata": {
    "papermill": {
     "duration": 0.01806,
     "end_time": "2021-06-15T02:10:57.713939",
     "exception": false,
     "start_time": "2021-06-15T02:10:57.695879",
     "status": "completed"
    },
    "tags": []
   },
   "source": [
    "# Kriptovaliutų naujienos"
   ]
  },
  {
   "cell_type": "code",
   "execution_count": 1,
   "id": "functioning-knowing",
   "metadata": {
    "execution": {
     "iopub.execute_input": "2021-06-15T02:10:57.750280Z",
     "iopub.status.busy": "2021-06-15T02:10:57.749529Z",
     "iopub.status.idle": "2021-06-15T02:10:59.155302Z",
     "shell.execute_reply": "2021-06-15T02:10:59.154749Z"
    },
    "papermill": {
     "duration": 1.430147,
     "end_time": "2021-06-15T02:10:59.155455",
     "exception": false,
     "start_time": "2021-06-15T02:10:57.725308",
     "status": "completed"
    },
    "tags": []
   },
   "outputs": [],
   "source": [
    "#hide_input\n",
    "import warnings\n",
    "warnings.filterwarnings('ignore')\n",
    "from scripts.read_data import read_api\n",
    "from scripts.read_data import read_news\n",
    "from scripts.read_data import read_covid\n",
    "import matplotlib.pyplot as plt \n",
    "from IPython.display import Markdown as md"
   ]
  },
  {
   "cell_type": "code",
   "execution_count": 2,
   "id": "shared-acceptance",
   "metadata": {
    "execution": {
     "iopub.execute_input": "2021-06-15T02:10:59.184929Z",
     "iopub.status.busy": "2021-06-15T02:10:59.183853Z",
     "iopub.status.idle": "2021-06-15T02:11:07.409345Z",
     "shell.execute_reply": "2021-06-15T02:11:07.408466Z"
    },
    "papermill": {
     "duration": 8.243003,
     "end_time": "2021-06-15T02:11:07.409562",
     "exception": false,
     "start_time": "2021-06-15T02:10:59.166559",
     "status": "completed"
    },
    "tags": []
   },
   "outputs": [],
   "source": [
    "#hide_input\n",
    "blockchain = read_news('blockchain') \n",
    "btc = read_news('btc') \n",
    "xrp = read_news('xrp') \n",
    "trx = read_news('trx') \n",
    "eth = read_news('eth')  \n",
    "ada = read_news('ada')\n",
    "exchange = read_news('exchange') "
   ]
  },
  {
   "cell_type": "code",
   "execution_count": 3,
   "id": "synthetic-notion",
   "metadata": {
    "execution": {
     "iopub.execute_input": "2021-06-15T02:11:07.438933Z",
     "iopub.status.busy": "2021-06-15T02:11:07.438320Z",
     "iopub.status.idle": "2021-06-15T02:11:07.441592Z",
     "shell.execute_reply": "2021-06-15T02:11:07.441076Z"
    },
    "papermill": {
     "duration": 0.021063,
     "end_time": "2021-06-15T02:11:07.441714",
     "exception": false,
     "start_time": "2021-06-15T02:11:07.420651",
     "status": "completed"
    },
    "tags": []
   },
   "outputs": [
    {
     "data": {
      "text/markdown": [
       "- The World Economic Forum’s Cryptocurrency Guide Lists Its Choice Of “Winning” Projects.  The World Economic Forum (WEF) has published its community paper on cryptocurrency. It contains information on getting started, exploring the blockchain, and so on. It also lists several cryptocurrencies that meet its scalability stamp of approval. As an influential body, some have taken this to mean the WEF has selected its choice of winning cryptocurrency [&#8230;] ... [| Skaityti daugiau](https://bitcoinist.com/the-world-economic-forums-cryptocurrency-guide-lists-its-choice-of-winning-projects/?utm_source=rss&utm_medium=rss&utm_campaign=the-world-economic-forums-cryptocurrency-guide-lists-its-choice-of-winning-projects) "
      ],
      "text/plain": [
       "<IPython.core.display.Markdown object>"
      ]
     },
     "execution_count": 3,
     "metadata": {},
     "output_type": "execute_result"
    }
   ],
   "source": [
    "#hide_input\n",
    "#md('##### {}'.format(titleBTC)) \n",
    "md(\"- {}{} {}{} [| Skaityti daugiau]({}) \".format(blockchain['title'],'. ', blockchain['body'], ' ...', blockchain['url']))"
   ]
  },
  {
   "cell_type": "code",
   "execution_count": 4,
   "id": "aging-caution",
   "metadata": {
    "execution": {
     "iopub.execute_input": "2021-06-15T02:11:07.470745Z",
     "iopub.status.busy": "2021-06-15T02:11:07.470136Z",
     "iopub.status.idle": "2021-06-15T02:11:07.473297Z",
     "shell.execute_reply": "2021-06-15T02:11:07.472793Z"
    },
    "papermill": {
     "duration": 0.020157,
     "end_time": "2021-06-15T02:11:07.473416",
     "exception": false,
     "start_time": "2021-06-15T02:11:07.453259",
     "status": "completed"
    },
    "tags": []
   },
   "outputs": [
    {
     "data": {
      "text/markdown": [
       "- Billionaire Paul Tudor Jones Says ‘I Like Bitcoin’ — Will Go All in on Inflation Trades if Fed Says ‘Things Are Good’.  Billionaire hedge fund manager Paul Tudor Jones says he likes bitcoin. Noting that he can trust math, the famed hedge fund manager said, &#8220;bitcoin has appealed to me because it&#8217;s a way for me to invest in certainty.&#8221; Jones also shared his investment strategies in response to the Fed&#8217;s policy. Paul Tudor Jones on Bitcoin, [&#8230;] ... [| Skaityti daugiau](https://news.bitcoin.com/paul-tudor-jones-like-bitcoin-go-all-in-on-inflation-trades-fed-things-are-good/) "
      ],
      "text/plain": [
       "<IPython.core.display.Markdown object>"
      ]
     },
     "execution_count": 4,
     "metadata": {},
     "output_type": "execute_result"
    }
   ],
   "source": [
    "#hide_input\n",
    "#md('##### {}'.format(titleBTC)) \n",
    "md(\"- {}{} {}{} [| Skaityti daugiau]({}) \".format(btc['title'],'. ', btc['body'], ' ...', btc['url']))"
   ]
  },
  {
   "cell_type": "code",
   "execution_count": 5,
   "id": "organic-actress",
   "metadata": {
    "execution": {
     "iopub.execute_input": "2021-06-15T02:11:07.501365Z",
     "iopub.status.busy": "2021-06-15T02:11:07.500740Z",
     "iopub.status.idle": "2021-06-15T02:11:07.503109Z",
     "shell.execute_reply": "2021-06-15T02:11:07.503709Z"
    },
    "papermill": {
     "duration": 0.019218,
     "end_time": "2021-06-15T02:11:07.503870",
     "exception": false,
     "start_time": "2021-06-15T02:11:07.484652",
     "status": "completed"
    },
    "tags": []
   },
   "outputs": [
    {
     "data": {
      "text/markdown": [
       "- XRP, Cardano, AAVE Price Analysis: 14 June.  The last 12 hours have been favorable for all coins in the market. Even the total market capitalization was up by 8% at press time. Cardano was also boosted by the news of smart contracts now running on Alonzo. While Ripple continues its fight against the SEC, XRP posted gains. AAVE did not have much [&#8230;] ... [| Skaityti daugiau](https://ambcrypto.com/xrp-cardano-aave-price-analysis-14-june/) "
      ],
      "text/plain": [
       "<IPython.core.display.Markdown object>"
      ]
     },
     "execution_count": 5,
     "metadata": {},
     "output_type": "execute_result"
    }
   ],
   "source": [
    "#hide_input\n",
    "#md('##### {}'.format(titleBTC)) \n",
    "md(\"- {}{} {}{} [| Skaityti daugiau]({}) \".format(xrp['title'],'. ', xrp['body'], ' ...', xrp['url']))"
   ]
  },
  {
   "cell_type": "code",
   "execution_count": 6,
   "id": "prompt-farmer",
   "metadata": {
    "execution": {
     "iopub.execute_input": "2021-06-15T02:11:07.534685Z",
     "iopub.status.busy": "2021-06-15T02:11:07.534088Z",
     "iopub.status.idle": "2021-06-15T02:11:07.537452Z",
     "shell.execute_reply": "2021-06-15T02:11:07.536864Z"
    },
    "papermill": {
     "duration": 0.020805,
     "end_time": "2021-06-15T02:11:07.537574",
     "exception": false,
     "start_time": "2021-06-15T02:11:07.516769",
     "status": "completed"
    },
    "tags": []
   },
   "outputs": [
    {
     "data": {
      "text/markdown": [
       "- Binance Coin, Filecoin, Tron Price Analysis: 13 June.  The recent market fall has led to traders rushing toward sell-offs, even as Bitcoin’s price started to consolidate. The king coin’s downtrend on June 12, which led to an over 6% fall in valuation, was followed by several alts such as Binance Coin, Filecoin, and Tron’s TRX. Breaking through important support levels, these coins also [&#8230;] ... [| Skaityti daugiau](https://ambcrypto.com/binance-coin-filecoin-tron-price-analysis-13-june/) "
      ],
      "text/plain": [
       "<IPython.core.display.Markdown object>"
      ]
     },
     "execution_count": 6,
     "metadata": {},
     "output_type": "execute_result"
    }
   ],
   "source": [
    "#hide_input\n",
    "#md('##### {}'.format(titleBTC)) \n",
    "md(\"- {}{} {}{} [| Skaityti daugiau]({}) \".format(trx['title'],'. ', trx['body'], ' ...', trx['url']))"
   ]
  },
  {
   "cell_type": "code",
   "execution_count": 7,
   "id": "illegal-greece",
   "metadata": {
    "execution": {
     "iopub.execute_input": "2021-06-15T02:11:07.567813Z",
     "iopub.status.busy": "2021-06-15T02:11:07.567193Z",
     "iopub.status.idle": "2021-06-15T02:11:07.569580Z",
     "shell.execute_reply": "2021-06-15T02:11:07.570090Z"
    },
    "papermill": {
     "duration": 0.020175,
     "end_time": "2021-06-15T02:11:07.570224",
     "exception": false,
     "start_time": "2021-06-15T02:11:07.550049",
     "status": "completed"
    },
    "tags": []
   },
   "outputs": [
    {
     "data": {
      "text/markdown": [
       "- Ethereum, Stellar Lumens, VeChain Price Analysis: 14 June.  Even though Bitcoin climbed back above $39,000 after a jump of 8% in a single day, not all coins witnessed a surge in value. Alts such as Ethereum, Stellar Lumens and VeChain saw limited gains within their down-channel and awaited further cues for a breakout. Ethereum [ETH] A look at Ethereum&#8217;s 12-chart showed the formation [&#8230;] ... [| Skaityti daugiau](https://ambcrypto.com/ethereum-stellar-lumens-vechain-price-analysis-14-june/) "
      ],
      "text/plain": [
       "<IPython.core.display.Markdown object>"
      ]
     },
     "execution_count": 7,
     "metadata": {},
     "output_type": "execute_result"
    }
   ],
   "source": [
    "#hide_input\n",
    "#md('##### {}'.format(titleBTC)) \n",
    "md(\"- {}{} {}{} [| Skaityti daugiau]({}) \".format(eth['title'],'. ', eth['body'], ' ...', eth['url']))"
   ]
  },
  {
   "cell_type": "code",
   "execution_count": 8,
   "id": "sublime-lounge",
   "metadata": {
    "execution": {
     "iopub.execute_input": "2021-06-15T02:11:07.601683Z",
     "iopub.status.busy": "2021-06-15T02:11:07.601085Z",
     "iopub.status.idle": "2021-06-15T02:11:07.604412Z",
     "shell.execute_reply": "2021-06-15T02:11:07.604869Z"
    },
    "papermill": {
     "duration": 0.021983,
     "end_time": "2021-06-15T02:11:07.605007",
     "exception": false,
     "start_time": "2021-06-15T02:11:07.583024",
     "status": "completed"
    },
    "tags": []
   },
   "outputs": [
    {
     "data": {
      "text/markdown": [
       "- Popular Analyst Points to Key Levels Cardano (ADA) Must Hold to Maintain Bullish Trend.  Popular cryptocurrency analyst Michaël van de Poppe has published a new video in which he looks at key levels Cardano (ADA) must hold in order to maintain its bullish trend and keep making higher highs. In the video published to his over 100,000 subscribers on YouTube, first spotted by Daily Hodl, van de Poppe looks […] ... [| Skaityti daugiau](https://www.cryptoglobe.com/latest/2021/06/popular-analyst-points-to-key-levels-cardano-ada-must-hold-to-maintain-bullish-trend/) "
      ],
      "text/plain": [
       "<IPython.core.display.Markdown object>"
      ]
     },
     "execution_count": 8,
     "metadata": {},
     "output_type": "execute_result"
    }
   ],
   "source": [
    "#hide_input\n",
    "#md('##### {}'.format(titleBTC)) \n",
    "md(\"- {}{} {}{} [| Skaityti daugiau]({}) \".format(ada['title'],'. ', ada['body'], ' ...', ada['url']))"
   ]
  },
  {
   "cell_type": "code",
   "execution_count": 9,
   "id": "specified-ordering",
   "metadata": {
    "execution": {
     "iopub.execute_input": "2021-06-15T02:11:07.639038Z",
     "iopub.status.busy": "2021-06-15T02:11:07.638434Z",
     "iopub.status.idle": "2021-06-15T02:11:07.642827Z",
     "shell.execute_reply": "2021-06-15T02:11:07.642304Z"
    },
    "papermill": {
     "duration": 0.02428,
     "end_time": "2021-06-15T02:11:07.642953",
     "exception": false,
     "start_time": "2021-06-15T02:11:07.618673",
     "status": "completed"
    },
    "tags": []
   },
   "outputs": [
    {
     "data": {
      "text/markdown": [
       "- Coinbase to set up office in New York.  TL;DR Breakdown Coinbase set to move to New York Firm says it has no headquarters like Binance Number one American crypto exchange firm, Coinbase is quietly setting up an office in New York. The firm has subleased 30,000 square feet from Steven Cohen’s investment firm Point72 at Related Companies’ 55 Hudson Yards in New York, [&#8230;] ... [| Skaityti daugiau](https://www.cryptopolitan.com/coinbase-to-set-up-office-in-new-york/) "
      ],
      "text/plain": [
       "<IPython.core.display.Markdown object>"
      ]
     },
     "execution_count": 9,
     "metadata": {},
     "output_type": "execute_result"
    }
   ],
   "source": [
    "#hide_input\n",
    "#md('##### {}'.format(titleBTC)) \n",
    "md(\"- {}{} {}{} [| Skaityti daugiau]({}) \".format(exchange['title'],'. ', exchange['body'], ' ...', exchange['url']))"
   ]
  },
  {
   "cell_type": "code",
   "execution_count": null,
   "id": "tender-livestock",
   "metadata": {
    "papermill": {
     "duration": 0.013272,
     "end_time": "2021-06-15T02:11:07.673507",
     "exception": false,
     "start_time": "2021-06-15T02:11:07.660235",
     "status": "completed"
    },
    "tags": []
   },
   "outputs": [],
   "source": []
  },
  {
   "cell_type": "code",
   "execution_count": null,
   "id": "appreciated-diamond",
   "metadata": {
    "papermill": {
     "duration": 0.013345,
     "end_time": "2021-06-15T02:11:07.700269",
     "exception": false,
     "start_time": "2021-06-15T02:11:07.686924",
     "status": "completed"
    },
    "tags": []
   },
   "outputs": [],
   "source": []
  },
  {
   "cell_type": "code",
   "execution_count": null,
   "id": "romance-sweden",
   "metadata": {
    "papermill": {
     "duration": 0.01402,
     "end_time": "2021-06-15T02:11:07.727537",
     "exception": false,
     "start_time": "2021-06-15T02:11:07.713517",
     "status": "completed"
    },
    "tags": []
   },
   "outputs": [],
   "source": []
  },
  {
   "cell_type": "code",
   "execution_count": null,
   "id": "dietary-statistics",
   "metadata": {
    "papermill": {
     "duration": 0.01322,
     "end_time": "2021-06-15T02:11:07.754206",
     "exception": false,
     "start_time": "2021-06-15T02:11:07.740986",
     "status": "completed"
    },
    "tags": []
   },
   "outputs": [],
   "source": []
  }
 ],
 "metadata": {
  "kernelspec": {
   "display_name": "Python 3",
   "language": "python",
   "name": "python3"
  },
  "language_info": {
   "codemirror_mode": {
    "name": "ipython",
    "version": 3
   },
   "file_extension": ".py",
   "mimetype": "text/x-python",
   "name": "python",
   "nbconvert_exporter": "python",
   "pygments_lexer": "ipython3",
   "version": "3.6.13"
  },
  "papermill": {
   "default_parameters": {},
   "duration": 11.561546,
   "end_time": "2021-06-15T02:11:08.176965",
   "environment_variables": {},
   "exception": null,
   "input_path": "Market-News.ipynb",
   "output_path": "Market-News.ipynb",
   "parameters": {},
   "start_time": "2021-06-15T02:10:56.615419",
   "version": "2.2.2"
  }
 },
 "nbformat": 4,
 "nbformat_minor": 5
}