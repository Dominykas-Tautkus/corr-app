{
 "cells": [
  {
   "cell_type": "markdown",
   "id": "short-greensboro",
   "metadata": {
    "papermill": {
     "duration": 0.012075,
     "end_time": "2021-05-28T03:35:28.522063",
     "exception": false,
     "start_time": "2021-05-28T03:35:28.509988",
     "status": "completed"
    },
    "tags": []
   },
   "source": [
    "# Kriptovaliutų naujienos"
   ]
  },
  {
   "cell_type": "code",
   "execution_count": 1,
   "id": "functioning-knowing",
   "metadata": {
    "execution": {
     "iopub.execute_input": "2021-05-28T03:35:28.548536Z",
     "iopub.status.busy": "2021-05-28T03:35:28.548081Z",
     "iopub.status.idle": "2021-05-28T03:35:29.556444Z",
     "shell.execute_reply": "2021-05-28T03:35:29.555921Z"
    },
    "papermill": {
     "duration": 1.02593,
     "end_time": "2021-05-28T03:35:29.556589",
     "exception": false,
     "start_time": "2021-05-28T03:35:28.530659",
     "status": "completed"
    },
    "tags": []
   },
   "outputs": [],
   "source": [
    "#hide_input\n",
    "import warnings\n",
    "warnings.filterwarnings('ignore')\n",
    "from scripts.read_data import read_api\n",
    "from scripts.read_data import read_news\n",
    "from scripts.read_data import read_covid\n",
    "import matplotlib.pyplot as plt \n",
    "from IPython.display import Markdown as md"
   ]
  },
  {
   "cell_type": "code",
   "execution_count": 2,
   "id": "shared-acceptance",
   "metadata": {
    "execution": {
     "iopub.execute_input": "2021-05-28T03:35:29.580687Z",
     "iopub.status.busy": "2021-05-28T03:35:29.579863Z",
     "iopub.status.idle": "2021-05-28T03:35:38.578706Z",
     "shell.execute_reply": "2021-05-28T03:35:38.577905Z"
    },
    "papermill": {
     "duration": 9.012551,
     "end_time": "2021-05-28T03:35:38.578825",
     "exception": false,
     "start_time": "2021-05-28T03:35:29.566274",
     "status": "completed"
    },
    "tags": []
   },
   "outputs": [],
   "source": [
    "#hide_input\n",
    "blockchain = read_news('blockchain') \n",
    "btc = read_news('btc') \n",
    "xrp = read_news('xrp') \n",
    "trx = read_news('trx') \n",
    "eth = read_news('eth')  \n",
    "ada = read_news('ada')\n",
    "exchange = read_news('exchange') "
   ]
  },
  {
   "cell_type": "code",
   "execution_count": 3,
   "id": "synthetic-notion",
   "metadata": {
    "execution": {
     "iopub.execute_input": "2021-05-28T03:35:38.600911Z",
     "iopub.status.busy": "2021-05-28T03:35:38.600407Z",
     "iopub.status.idle": "2021-05-28T03:35:38.602377Z",
     "shell.execute_reply": "2021-05-28T03:35:38.602800Z"
    },
    "papermill": {
     "duration": 0.015763,
     "end_time": "2021-05-28T03:35:38.602918",
     "exception": false,
     "start_time": "2021-05-28T03:35:38.587155",
     "status": "completed"
    },
    "tags": []
   },
   "outputs": [
    {
     "data": {
      "text/markdown": [
       "- CipherTrace expands to cover Binance Smart Chain amid wave of exploits.  Binance beefs up blockchain analytics amid a surge in DeFi exploits.  ... [| Skaityti daugiau](https://cointelegraph.com/news/ciphertrace-expands-to-cover-binance-smart-chain-amid-wave-of-exploits) "
      ],
      "text/plain": [
       "<IPython.core.display.Markdown object>"
      ]
     },
     "execution_count": 3,
     "metadata": {},
     "output_type": "execute_result"
    }
   ],
   "source": [
    "#hide_input\n",
    "#md('##### {}'.format(titleBTC)) \n",
    "md(\"- {}{} {}{} [| Skaityti daugiau]({}) \".format(blockchain['title'],'. ', blockchain['body'], ' ...', blockchain['url']))"
   ]
  },
  {
   "cell_type": "code",
   "execution_count": 4,
   "id": "aging-caution",
   "metadata": {
    "execution": {
     "iopub.execute_input": "2021-05-28T03:35:38.626759Z",
     "iopub.status.busy": "2021-05-28T03:35:38.626195Z",
     "iopub.status.idle": "2021-05-28T03:35:38.629764Z",
     "shell.execute_reply": "2021-05-28T03:35:38.630099Z"
    },
    "papermill": {
     "duration": 0.018087,
     "end_time": "2021-05-28T03:35:38.630203",
     "exception": false,
     "start_time": "2021-05-28T03:35:38.612116",
     "status": "completed"
    },
    "tags": []
   },
   "outputs": [
    {
     "data": {
      "text/markdown": [
       "- Ark Invest’s Cathie Wood Fires Shots At Elon Musk for Bitcoin (BTC) Price Crash and ESG Movement.  Blazing all guns, Ark Investments Cathie Wood has fired shots on Tesla chief Elon Musk and the ESG for the recent Bitcoin (BTC) price crash. Tesla pulling the plugs of accepting Bitcoin payments triggered the BTC price correction two weeks back. Speaking at the 2021 CoinDesk Consensus Conference, Wood said that institutional buying of Bitcoin The post Ark Invest&#8217;s Cathie Wood Fires Shots At Elon Musk for Bitcoin (BTC) Price Crash and ESG Movement appeared first on Coingape. ... [| Skaityti daugiau](https://coingape.com/ark-invests-cathie-wood-fires-shots-at-elon-musk-for-bitcoin-btc-price-crash-and-esg-movement/) "
      ],
      "text/plain": [
       "<IPython.core.display.Markdown object>"
      ]
     },
     "execution_count": 4,
     "metadata": {},
     "output_type": "execute_result"
    }
   ],
   "source": [
    "#hide_input\n",
    "#md('##### {}'.format(titleBTC)) \n",
    "md(\"- {}{} {}{} [| Skaityti daugiau]({}) \".format(btc['title'],'. ', btc['body'], ' ...', btc['url']))"
   ]
  },
  {
   "cell_type": "code",
   "execution_count": 5,
   "id": "organic-actress",
   "metadata": {
    "execution": {
     "iopub.execute_input": "2021-05-28T03:35:38.650964Z",
     "iopub.status.busy": "2021-05-28T03:35:38.649976Z",
     "iopub.status.idle": "2021-05-28T03:35:38.653255Z",
     "shell.execute_reply": "2021-05-28T03:35:38.653663Z"
    },
    "papermill": {
     "duration": 0.015163,
     "end_time": "2021-05-28T03:35:38.653765",
     "exception": false,
     "start_time": "2021-05-28T03:35:38.638602",
     "status": "completed"
    },
    "tags": []
   },
   "outputs": [
    {
     "data": {
      "text/markdown": [
       "- XRP, Ethereum, Dogecoin Price Analysis: 27 May.  The XRP market has been responding to the updates in the &#8216;Ripple v SEC&#8217; lawsuit. Although the proceedings seem like a never-ending game, XRP&#8217;s value has been striving to breach the $1 price level. Ethereum [ETH] was witnessing a period of low activity. Meanwhile, Dogecoin [DOGE] has kept the traders on their toes as it [&#8230;] ... [| Skaityti daugiau](https://ambcrypto.com/xrp-ethereum-dogecoin-price-analysis-27-may/) "
      ],
      "text/plain": [
       "<IPython.core.display.Markdown object>"
      ]
     },
     "execution_count": 5,
     "metadata": {},
     "output_type": "execute_result"
    }
   ],
   "source": [
    "#hide_input\n",
    "#md('##### {}'.format(titleBTC)) \n",
    "md(\"- {}{} {}{} [| Skaityti daugiau]({}) \".format(xrp['title'],'. ', xrp['body'], ' ...', xrp['url']))"
   ]
  },
  {
   "cell_type": "code",
   "execution_count": 6,
   "id": "prompt-farmer",
   "metadata": {
    "execution": {
     "iopub.execute_input": "2021-05-28T03:35:38.676515Z",
     "iopub.status.busy": "2021-05-28T03:35:38.675932Z",
     "iopub.status.idle": "2021-05-28T03:35:38.678078Z",
     "shell.execute_reply": "2021-05-28T03:35:38.678528Z"
    },
    "papermill": {
     "duration": 0.016032,
     "end_time": "2021-05-28T03:35:38.678659",
     "exception": false,
     "start_time": "2021-05-28T03:35:38.662627",
     "status": "completed"
    },
    "tags": []
   },
   "outputs": [
    {
     "data": {
      "text/markdown": [
       "- Tron (TRX) Price Analysis: Bulls Facing Hurdles Near $0.092.  Tron price extended its decline below the $0.1000 and $0.0900 support levels against the US Dollar. TRX price is now trading well below $0.1000 and the 55 simple moving average (4-hours). There is a major bearish trend line forming with resistance near $0.0900 on the 4-hours chart (data feed via Bitfinex). The pair is likely...The post Tron (TRX) Price Analysis: Bulls Facing Hurdles Near $0.092 appeared first on Live Bitcoin News. ... [| Skaityti daugiau](https://www.livebitcoinnews.com/tron-trx-price-analysis-bulls-facing-hurdles-near-0-092/) "
      ],
      "text/plain": [
       "<IPython.core.display.Markdown object>"
      ]
     },
     "execution_count": 6,
     "metadata": {},
     "output_type": "execute_result"
    }
   ],
   "source": [
    "#hide_input\n",
    "#md('##### {}'.format(titleBTC)) \n",
    "md(\"- {}{} {}{} [| Skaityti daugiau]({}) \".format(trx['title'],'. ', trx['body'], ' ...', trx['url']))"
   ]
  },
  {
   "cell_type": "code",
   "execution_count": 7,
   "id": "illegal-greece",
   "metadata": {
    "execution": {
     "iopub.execute_input": "2021-05-28T03:35:38.703811Z",
     "iopub.status.busy": "2021-05-28T03:35:38.703303Z",
     "iopub.status.idle": "2021-05-28T03:35:38.705982Z",
     "shell.execute_reply": "2021-05-28T03:35:38.705559Z"
    },
    "papermill": {
     "duration": 0.016836,
     "end_time": "2021-05-28T03:35:38.706086",
     "exception": false,
     "start_time": "2021-05-28T03:35:38.689250",
     "status": "completed"
    },
    "tags": []
   },
   "outputs": [
    {
     "data": {
      "text/markdown": [
       "- NBA Legend Paul Pierce and Poker Hall of Famer Phil Ivey to Join Joe Lubin of Consensys for a Virtue Poker Charity Tournament.  Virtue Poker revealed plans to organize a high-stakes 12-player celebrity poker tournament on its platform, live-streamed on Twitch, with the winner donating the event&#8217;s proceeds to their preferred charitable organization. Celebrity Charity Tournament Features NFTs &#038; Giveaways Virtue Poker, one of the first decentralized casinos to use Ethereum and peer-to-peer networking, will soon host a [&#8230;] ... [| Skaityti daugiau](https://news.bitcoin.com/nba-legend-paul-pierce-and-poker-hall-of-famer-phil-ivey-to-join-joe-lubin-of-consensys-for-a-virtue-poker-charity-tournament/) "
      ],
      "text/plain": [
       "<IPython.core.display.Markdown object>"
      ]
     },
     "execution_count": 7,
     "metadata": {},
     "output_type": "execute_result"
    }
   ],
   "source": [
    "#hide_input\n",
    "#md('##### {}'.format(titleBTC)) \n",
    "md(\"- {}{} {}{} [| Skaityti daugiau]({}) \".format(eth['title'],'. ', eth['body'], ' ...', eth['url']))"
   ]
  },
  {
   "cell_type": "code",
   "execution_count": 8,
   "id": "sublime-lounge",
   "metadata": {
    "execution": {
     "iopub.execute_input": "2021-05-28T03:35:38.732256Z",
     "iopub.status.busy": "2021-05-28T03:35:38.731782Z",
     "iopub.status.idle": "2021-05-28T03:35:38.734474Z",
     "shell.execute_reply": "2021-05-28T03:35:38.734043Z"
    },
    "papermill": {
     "duration": 0.017868,
     "end_time": "2021-05-28T03:35:38.734577",
     "exception": false,
     "start_time": "2021-05-28T03:35:38.716709",
     "status": "completed"
    },
    "tags": []
   },
   "outputs": [
    {
     "data": {
      "text/markdown": [
       "- Cardano Boss Puts Into Words Why ETH 2.0 Will Fall Flat.  Input Output Global (IOG) CEO Charles Hoskinson believes Cardano has the edge over Ethereum 2.0 regarding governance. This, he sees as the decisive factor in Ethereum falling flat in the long term. Governance Is Lacking On ETH 2.0 On-chain governance refers to a method of managing and implementing changes to cryptocurrency blockchains. It involves setting [&#8230;] ... [| Skaityti daugiau](https://bitcoinist.com/cardano-boss-puts-into-words-why-eth-2-0-will-fall-flat/?utm_source=rss&utm_medium=rss&utm_campaign=cardano-boss-puts-into-words-why-eth-2-0-will-fall-flat) "
      ],
      "text/plain": [
       "<IPython.core.display.Markdown object>"
      ]
     },
     "execution_count": 8,
     "metadata": {},
     "output_type": "execute_result"
    }
   ],
   "source": [
    "#hide_input\n",
    "#md('##### {}'.format(titleBTC)) \n",
    "md(\"- {}{} {}{} [| Skaityti daugiau]({}) \".format(ada['title'],'. ', ada['body'], ' ...', ada['url']))"
   ]
  },
  {
   "cell_type": "code",
   "execution_count": 9,
   "id": "specified-ordering",
   "metadata": {
    "execution": {
     "iopub.execute_input": "2021-05-28T03:35:38.761771Z",
     "iopub.status.busy": "2021-05-28T03:35:38.761261Z",
     "iopub.status.idle": "2021-05-28T03:35:38.764327Z",
     "shell.execute_reply": "2021-05-28T03:35:38.763905Z"
    },
    "papermill": {
     "duration": 0.018899,
     "end_time": "2021-05-28T03:35:38.764434",
     "exception": false,
     "start_time": "2021-05-28T03:35:38.745535",
     "status": "completed"
    },
    "tags": []
   },
   "outputs": [
    {
     "data": {
      "text/markdown": [
       "- CipherTrace expands to cover Binance Smart Chain amid wave of exploits.  Binance beefs up blockchain analytics amid a surge in DeFi exploits.  ... [| Skaityti daugiau](https://cointelegraph.com/news/ciphertrace-expands-to-cover-binance-smart-chain-amid-wave-of-exploits) "
      ],
      "text/plain": [
       "<IPython.core.display.Markdown object>"
      ]
     },
     "execution_count": 9,
     "metadata": {},
     "output_type": "execute_result"
    }
   ],
   "source": [
    "#hide_input\n",
    "#md('##### {}'.format(titleBTC)) \n",
    "md(\"- {}{} {}{} [| Skaityti daugiau]({}) \".format(exchange['title'],'. ', exchange['body'], ' ...', exchange['url']))"
   ]
  },
  {
   "cell_type": "code",
   "execution_count": null,
   "id": "tender-livestock",
   "metadata": {
    "papermill": {
     "duration": 0.011168,
     "end_time": "2021-05-28T03:35:38.786776",
     "exception": false,
     "start_time": "2021-05-28T03:35:38.775608",
     "status": "completed"
    },
    "tags": []
   },
   "outputs": [],
   "source": []
  },
  {
   "cell_type": "code",
   "execution_count": null,
   "id": "appreciated-diamond",
   "metadata": {
    "papermill": {
     "duration": 0.011066,
     "end_time": "2021-05-28T03:35:38.809153",
     "exception": false,
     "start_time": "2021-05-28T03:35:38.798087",
     "status": "completed"
    },
    "tags": []
   },
   "outputs": [],
   "source": []
  },
  {
   "cell_type": "code",
   "execution_count": null,
   "id": "romance-sweden",
   "metadata": {
    "papermill": {
     "duration": 0.011002,
     "end_time": "2021-05-28T03:35:38.831246",
     "exception": false,
     "start_time": "2021-05-28T03:35:38.820244",
     "status": "completed"
    },
    "tags": []
   },
   "outputs": [],
   "source": []
  },
  {
   "cell_type": "code",
   "execution_count": null,
   "id": "dietary-statistics",
   "metadata": {
    "papermill": {
     "duration": 0.011052,
     "end_time": "2021-05-28T03:35:38.853339",
     "exception": false,
     "start_time": "2021-05-28T03:35:38.842287",
     "status": "completed"
    },
    "tags": []
   },
   "outputs": [],
   "source": []
  }
 ],
 "metadata": {
  "kernelspec": {
   "display_name": "Python 3",
   "language": "python",
   "name": "python3"
  },
  "language_info": {
   "codemirror_mode": {
    "name": "ipython",
    "version": 3
   },
   "file_extension": ".py",
   "mimetype": "text/x-python",
   "name": "python",
   "nbconvert_exporter": "python",
   "pygments_lexer": "ipython3",
   "version": "3.6.13"
  },
  "papermill": {
   "default_parameters": {},
   "duration": 11.76568,
   "end_time": "2021-05-28T03:35:39.271343",
   "environment_variables": {},
   "exception": null,
   "input_path": "Market-News.ipynb",
   "output_path": "Market-News.ipynb",
   "parameters": {},
   "start_time": "2021-05-28T03:35:27.505663",
   "version": "2.2.2"
  }
 },
 "nbformat": 4,
 "nbformat_minor": 5
}