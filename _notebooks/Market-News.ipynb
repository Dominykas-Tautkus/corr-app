{
 "cells": [
  {
   "cell_type": "markdown",
   "id": "short-greensboro",
   "metadata": {
    "papermill": {
     "duration": 0.014153,
     "end_time": "2021-02-06T01:37:46.396252",
     "exception": false,
     "start_time": "2021-02-06T01:37:46.382099",
     "status": "completed"
    },
    "tags": []
   },
   "source": [
    "# Kriptovaliutų naujienos"
   ]
  },
  {
   "cell_type": "code",
   "execution_count": 1,
   "id": "functioning-knowing",
   "metadata": {
    "execution": {
     "iopub.execute_input": "2021-02-06T01:37:46.429452Z",
     "iopub.status.busy": "2021-02-06T01:37:46.428814Z",
     "iopub.status.idle": "2021-02-06T01:37:47.727365Z",
     "shell.execute_reply": "2021-02-06T01:37:47.726786Z"
    },
    "papermill": {
     "duration": 1.320368,
     "end_time": "2021-02-06T01:37:47.727517",
     "exception": false,
     "start_time": "2021-02-06T01:37:46.407149",
     "status": "completed"
    },
    "tags": []
   },
   "outputs": [],
   "source": [
    "#hide_input\n",
    "import warnings\n",
    "warnings.filterwarnings('ignore')\n",
    "from scripts.read_data import read_api\n",
    "from scripts.read_data import read_news\n",
    "from scripts.read_data import read_covid\n",
    "import matplotlib.pyplot as plt \n",
    "from IPython.display import Markdown as md"
   ]
  },
  {
   "cell_type": "code",
   "execution_count": 2,
   "id": "shared-acceptance",
   "metadata": {
    "execution": {
     "iopub.execute_input": "2021-02-06T01:37:47.755056Z",
     "iopub.status.busy": "2021-02-06T01:37:47.754464Z",
     "iopub.status.idle": "2021-02-06T01:37:59.119515Z",
     "shell.execute_reply": "2021-02-06T01:37:59.118948Z"
    },
    "papermill": {
     "duration": 11.381802,
     "end_time": "2021-02-06T01:37:59.119681",
     "exception": false,
     "start_time": "2021-02-06T01:37:47.737879",
     "status": "completed"
    },
    "tags": []
   },
   "outputs": [],
   "source": [
    "#hide_input\n",
    "blockchain = read_news('blockchain') \n",
    "btc = read_news('btc') \n",
    "xrp = read_news('xrp') \n",
    "trx = read_news('trx') \n",
    "eth = read_news('eth')  \n",
    "ada = read_news('ada')\n",
    "exchange = read_news('exchange') "
   ]
  },
  {
   "cell_type": "code",
   "execution_count": 3,
   "id": "synthetic-notion",
   "metadata": {
    "execution": {
     "iopub.execute_input": "2021-02-06T01:37:59.148799Z",
     "iopub.status.busy": "2021-02-06T01:37:59.148210Z",
     "iopub.status.idle": "2021-02-06T01:37:59.152549Z",
     "shell.execute_reply": "2021-02-06T01:37:59.152044Z"
    },
    "papermill": {
     "duration": 0.021087,
     "end_time": "2021-02-06T01:37:59.152680",
     "exception": false,
     "start_time": "2021-02-06T01:37:59.131593",
     "status": "completed"
    },
    "tags": []
   },
   "outputs": [
    {
     "data": {
      "text/markdown": [
       "- Blockchain Innovation Done the Polkadot Way According to Gavin Wood.  In a recent Realvision interview, the developer Gavin Wood explains how Polkadot reimagines the innovation ecosystem from the ground up. Wood also discusses how the Polkadot protocol is both similar but also different than Ethereum, the second-largest crypto asset by market valuation. Polkadot: A Bet Against Maximalism Innovation involves the pioneering and actualization of a [&#8230;] ... [| Skaityti daugiau](https://news.bitcoin.com/blockchain-innovation-done-the-polkadot-way-according-to-gavin-wood/) "
      ],
      "text/plain": [
       "<IPython.core.display.Markdown object>"
      ]
     },
     "execution_count": 3,
     "metadata": {},
     "output_type": "execute_result"
    }
   ],
   "source": [
    "#hide_input\n",
    "#md('##### {}'.format(titleBTC)) \n",
    "md(\"- {}{} {}{} [| Skaityti daugiau]({}) \".format(blockchain['title'],'. ', blockchain['body'], ' ...', blockchain['url']))"
   ]
  },
  {
   "cell_type": "code",
   "execution_count": 4,
   "id": "aging-caution",
   "metadata": {
    "execution": {
     "iopub.execute_input": "2021-02-06T01:37:59.182234Z",
     "iopub.status.busy": "2021-02-06T01:37:59.181607Z",
     "iopub.status.idle": "2021-02-06T01:37:59.185611Z",
     "shell.execute_reply": "2021-02-06T01:37:59.186246Z"
    },
    "papermill": {
     "duration": 0.019953,
     "end_time": "2021-02-06T01:37:59.186406",
     "exception": false,
     "start_time": "2021-02-06T01:37:59.166453",
     "status": "completed"
    },
    "tags": []
   },
   "outputs": [
    {
     "data": {
      "text/markdown": [
       "- Altcoin Market Cap On The Verge Of Life-Changing Breakout.  The top ranked altcoin, Ethereum, has broken its all-time high and like Bitcoin&#8217;s big breakout, it has attracted more and more participants to the cryptocurrency market. Valuations are rising everywhere, and the total altcoin market cap is on the verge of a life-changing breakout, if history repeats. And given the current momentum and FOMO across [&#8230;] ... [| Skaityti daugiau](https://www.newsbtc.com/crypto/altcoin-market-cap-on-the-verge-of-life-changing-breakout/) "
      ],
      "text/plain": [
       "<IPython.core.display.Markdown object>"
      ]
     },
     "execution_count": 4,
     "metadata": {},
     "output_type": "execute_result"
    }
   ],
   "source": [
    "#hide_input\n",
    "#md('##### {}'.format(titleBTC)) \n",
    "md(\"- {}{} {}{} [| Skaityti daugiau]({}) \".format(btc['title'],'. ', btc['body'], ' ...', btc['url']))"
   ]
  },
  {
   "cell_type": "code",
   "execution_count": 5,
   "id": "organic-actress",
   "metadata": {
    "execution": {
     "iopub.execute_input": "2021-02-06T01:37:59.216446Z",
     "iopub.status.busy": "2021-02-06T01:37:59.215751Z",
     "iopub.status.idle": "2021-02-06T01:37:59.218606Z",
     "shell.execute_reply": "2021-02-06T01:37:59.219121Z"
    },
    "papermill": {
     "duration": 0.021369,
     "end_time": "2021-02-06T01:37:59.219281",
     "exception": false,
     "start_time": "2021-02-06T01:37:59.197912",
     "status": "completed"
    },
    "tags": []
   },
   "outputs": [
    {
     "data": {
      "text/markdown": [
       "- Price analysis 2/5: BTC, ETH, XRP, DOT, ADA, LINK, LTC, BNB, BCH, XLM.  Altcoins are reaching multi-year highs while Bitcoin price builds momentum for the next run at the $40,000 level. ... [| Skaityti daugiau](https://cointelegraph.com/news/price-analysis-2-5-btc-eth-xrp-dot-ada-link-ltc-bnb-bch-xlm) "
      ],
      "text/plain": [
       "<IPython.core.display.Markdown object>"
      ]
     },
     "execution_count": 5,
     "metadata": {},
     "output_type": "execute_result"
    }
   ],
   "source": [
    "#hide_input\n",
    "#md('##### {}'.format(titleBTC)) \n",
    "md(\"- {}{} {}{} [| Skaityti daugiau]({}) \".format(xrp['title'],'. ', xrp['body'], ' ...', xrp['url']))"
   ]
  },
  {
   "cell_type": "code",
   "execution_count": 6,
   "id": "prompt-farmer",
   "metadata": {
    "execution": {
     "iopub.execute_input": "2021-02-06T01:37:59.248577Z",
     "iopub.status.busy": "2021-02-06T01:37:59.247964Z",
     "iopub.status.idle": "2021-02-06T01:37:59.250069Z",
     "shell.execute_reply": "2021-02-06T01:37:59.250551Z"
    },
    "papermill": {
     "duration": 0.019631,
     "end_time": "2021-02-06T01:37:59.250697",
     "exception": false,
     "start_time": "2021-02-06T01:37:59.231066",
     "status": "completed"
    },
    "tags": []
   },
   "outputs": [
    {
     "data": {
      "text/markdown": [
       "- Cardano, Tron, FTX Token Price Analysis: 04 February.  Cardano broke out to the upside of $0.366 and was trading at $0.43 at the time of writing. Tron was consolidating underneath a level of resistance, and FTX Token had bullish momentum behind it that could propel the prices to $15.5. Cardano [ADA] Cardano was trading at $0.305 last week, a level of support that [&#8230;] ... [| Skaityti daugiau](https://ambcrypto.com/cardano-tron-ftx-token-price-analysis-04-february/) "
      ],
      "text/plain": [
       "<IPython.core.display.Markdown object>"
      ]
     },
     "execution_count": 6,
     "metadata": {},
     "output_type": "execute_result"
    }
   ],
   "source": [
    "#hide_input\n",
    "#md('##### {}'.format(titleBTC)) \n",
    "md(\"- {}{} {}{} [| Skaityti daugiau]({}) \".format(trx['title'],'. ', trx['body'], ' ...', trx['url']))"
   ]
  },
  {
   "cell_type": "code",
   "execution_count": 7,
   "id": "illegal-greece",
   "metadata": {
    "execution": {
     "iopub.execute_input": "2021-02-06T01:37:59.279946Z",
     "iopub.status.busy": "2021-02-06T01:37:59.279159Z",
     "iopub.status.idle": "2021-02-06T01:37:59.283267Z",
     "shell.execute_reply": "2021-02-06T01:37:59.283797Z"
    },
    "papermill": {
     "duration": 0.021447,
     "end_time": "2021-02-06T01:37:59.283946",
     "exception": false,
     "start_time": "2021-02-06T01:37:59.262499",
     "status": "completed"
    },
    "tags": []
   },
   "outputs": [
    {
     "data": {
      "text/markdown": [
       "- Record $6.5B futures open interest signals traders are bullish on Ethereum.  The open interest on Ethereum futures hit a record $6.5 billion as ETH rallied to $1,750 and traders increased their leverage. ... [| Skaityti daugiau](https://cointelegraph.com/news/record-6-5b-futures-open-interest-signals-traders-are-bullish-on-ethereum) "
      ],
      "text/plain": [
       "<IPython.core.display.Markdown object>"
      ]
     },
     "execution_count": 7,
     "metadata": {},
     "output_type": "execute_result"
    }
   ],
   "source": [
    "#hide_input\n",
    "#md('##### {}'.format(titleBTC)) \n",
    "md(\"- {}{} {}{} [| Skaityti daugiau]({}) \".format(eth['title'],'. ', eth['body'], ' ...', eth['url']))"
   ]
  },
  {
   "cell_type": "code",
   "execution_count": 8,
   "id": "sublime-lounge",
   "metadata": {
    "execution": {
     "iopub.execute_input": "2021-02-06T01:37:59.313942Z",
     "iopub.status.busy": "2021-02-06T01:37:59.313355Z",
     "iopub.status.idle": "2021-02-06T01:37:59.325181Z",
     "shell.execute_reply": "2021-02-06T01:37:59.324697Z"
    },
    "papermill": {
     "duration": 0.029521,
     "end_time": "2021-02-06T01:37:59.325400",
     "exception": false,
     "start_time": "2021-02-06T01:37:59.295879",
     "status": "completed"
    },
    "tags": []
   },
   "outputs": [
    {
     "data": {
      "text/markdown": [
       "- Is there a solution to Bitcoin’s high energy consumption?.  Bitcoin energy consumption has increased to more than 75 TWh, making it the highest level since late 2020. Every year, the world’s largest crypto network consumes close to 77.8 TWh according to Digiconomist’s Bitcoin Energy Consumption Index. The latest data estimated that the total energy consumption of the Bitcoin network is how much Chile consumes [&#8230;] ... [| Skaityti daugiau](https://ambcrypto.com/is-there-a-solution-to-bitcoins-high-energy-consumption/) "
      ],
      "text/plain": [
       "<IPython.core.display.Markdown object>"
      ]
     },
     "execution_count": 8,
     "metadata": {},
     "output_type": "execute_result"
    }
   ],
   "source": [
    "#hide_input\n",
    "#md('##### {}'.format(titleBTC)) \n",
    "md(\"- {}{} {}{} [| Skaityti daugiau]({}) \".format(ada['title'],'. ', ada['body'], ' ...', ada['url']))"
   ]
  },
  {
   "cell_type": "code",
   "execution_count": 9,
   "id": "specified-ordering",
   "metadata": {
    "execution": {
     "iopub.execute_input": "2021-02-06T01:37:59.358609Z",
     "iopub.status.busy": "2021-02-06T01:37:59.357944Z",
     "iopub.status.idle": "2021-02-06T01:37:59.361374Z",
     "shell.execute_reply": "2021-02-06T01:37:59.360803Z"
    },
    "papermill": {
     "duration": 0.022802,
     "end_time": "2021-02-06T01:37:59.361508",
     "exception": false,
     "start_time": "2021-02-06T01:37:59.338706",
     "status": "completed"
    },
    "tags": []
   },
   "outputs": [
    {
     "data": {
      "text/markdown": [
       "- Nigeria’s central bank tells the country’s financial institutions to close accounts tied to crypto exchanges.  The Central Bank of Nigeria (CBN) has issued a letter urging regulated financial institutions in the country to \"immediately\" close accounts connected to cryptocurrency-related activities. The post Nigeria&#8217;s central bank tells the country&#8217;s financial institutions to close accounts tied to crypto exchanges appeared first on The Block. ... [| Skaityti daugiau](https://www.theblockcrypto.com/post/93975/nigeria-central-bank-crypto-exchanges-warning?utm_source=cryptocompare&utm_medium=rss) "
      ],
      "text/plain": [
       "<IPython.core.display.Markdown object>"
      ]
     },
     "execution_count": 9,
     "metadata": {},
     "output_type": "execute_result"
    }
   ],
   "source": [
    "#hide_input\n",
    "#md('##### {}'.format(titleBTC)) \n",
    "md(\"- {}{} {}{} [| Skaityti daugiau]({}) \".format(exchange['title'],'. ', exchange['body'], ' ...', exchange['url']))"
   ]
  },
  {
   "cell_type": "code",
   "execution_count": null,
   "id": "tender-livestock",
   "metadata": {
    "papermill": {
     "duration": 0.013946,
     "end_time": "2021-02-06T01:37:59.388984",
     "exception": false,
     "start_time": "2021-02-06T01:37:59.375038",
     "status": "completed"
    },
    "tags": []
   },
   "outputs": [],
   "source": []
  },
  {
   "cell_type": "code",
   "execution_count": null,
   "id": "appreciated-diamond",
   "metadata": {
    "papermill": {
     "duration": 0.014498,
     "end_time": "2021-02-06T01:37:59.418672",
     "exception": false,
     "start_time": "2021-02-06T01:37:59.404174",
     "status": "completed"
    },
    "tags": []
   },
   "outputs": [],
   "source": []
  },
  {
   "cell_type": "code",
   "execution_count": null,
   "id": "romance-sweden",
   "metadata": {
    "papermill": {
     "duration": 0.012802,
     "end_time": "2021-02-06T01:37:59.445451",
     "exception": false,
     "start_time": "2021-02-06T01:37:59.432649",
     "status": "completed"
    },
    "tags": []
   },
   "outputs": [],
   "source": []
  },
  {
   "cell_type": "code",
   "execution_count": null,
   "id": "dietary-statistics",
   "metadata": {
    "papermill": {
     "duration": 0.012843,
     "end_time": "2021-02-06T01:37:59.471156",
     "exception": false,
     "start_time": "2021-02-06T01:37:59.458313",
     "status": "completed"
    },
    "tags": []
   },
   "outputs": [],
   "source": []
  }
 ],
 "metadata": {
  "kernelspec": {
   "display_name": "Python 3",
   "language": "python",
   "name": "python3"
  },
  "language_info": {
   "codemirror_mode": {
    "name": "ipython",
    "version": 3
   },
   "file_extension": ".py",
   "mimetype": "text/x-python",
   "name": "python",
   "nbconvert_exporter": "python",
   "pygments_lexer": "ipython3",
   "version": "3.6.12"
  },
  "papermill": {
   "default_parameters": {},
   "duration": 14.891517,
   "end_time": "2021-02-06T01:37:59.993997",
   "environment_variables": {},
   "exception": null,
   "input_path": "Market-News.ipynb",
   "output_path": "Market-News.ipynb",
   "parameters": {},
   "start_time": "2021-02-06T01:37:45.102480",
   "version": "2.2.2"
  }
 },
 "nbformat": 4,
 "nbformat_minor": 5
}