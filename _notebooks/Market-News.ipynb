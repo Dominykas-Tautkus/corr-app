{
 "cells": [
  {
   "cell_type": "markdown",
   "id": "short-greensboro",
   "metadata": {
    "papermill": {
     "duration": 0.018509,
     "end_time": "2021-06-30T02:03:48.763393",
     "exception": false,
     "start_time": "2021-06-30T02:03:48.744884",
     "status": "completed"
    },
    "tags": []
   },
   "source": [
    "# Kriptovaliutų naujienos"
   ]
  },
  {
   "cell_type": "code",
   "execution_count": 1,
   "id": "functioning-knowing",
   "metadata": {
    "execution": {
     "iopub.execute_input": "2021-06-30T02:03:48.798219Z",
     "iopub.status.busy": "2021-06-30T02:03:48.797569Z",
     "iopub.status.idle": "2021-06-30T02:03:50.249729Z",
     "shell.execute_reply": "2021-06-30T02:03:50.248379Z"
    },
    "papermill": {
     "duration": 1.475234,
     "end_time": "2021-06-30T02:03:50.249896",
     "exception": false,
     "start_time": "2021-06-30T02:03:48.774662",
     "status": "completed"
    },
    "tags": []
   },
   "outputs": [],
   "source": [
    "#hide_input\n",
    "import warnings\n",
    "warnings.filterwarnings('ignore')\n",
    "from scripts.read_data import read_api\n",
    "from scripts.read_data import read_news\n",
    "from scripts.read_data import read_covid\n",
    "import matplotlib.pyplot as plt \n",
    "from IPython.display import Markdown as md"
   ]
  },
  {
   "cell_type": "code",
   "execution_count": 2,
   "id": "shared-acceptance",
   "metadata": {
    "execution": {
     "iopub.execute_input": "2021-06-30T02:03:50.280164Z",
     "iopub.status.busy": "2021-06-30T02:03:50.279346Z",
     "iopub.status.idle": "2021-06-30T02:03:58.463377Z",
     "shell.execute_reply": "2021-06-30T02:03:58.463900Z"
    },
    "papermill": {
     "duration": 8.201924,
     "end_time": "2021-06-30T02:03:58.464056",
     "exception": false,
     "start_time": "2021-06-30T02:03:50.262132",
     "status": "completed"
    },
    "tags": []
   },
   "outputs": [],
   "source": [
    "#hide_input\n",
    "blockchain = read_news('blockchain') \n",
    "btc = read_news('btc') \n",
    "xrp = read_news('xrp') \n",
    "trx = read_news('trx') \n",
    "eth = read_news('eth')  \n",
    "ada = read_news('ada')\n",
    "exchange = read_news('exchange') "
   ]
  },
  {
   "cell_type": "code",
   "execution_count": 3,
   "id": "synthetic-notion",
   "metadata": {
    "execution": {
     "iopub.execute_input": "2021-06-30T02:03:58.492217Z",
     "iopub.status.busy": "2021-06-30T02:03:58.491625Z",
     "iopub.status.idle": "2021-06-30T02:03:58.494925Z",
     "shell.execute_reply": "2021-06-30T02:03:58.494405Z"
    },
    "papermill": {
     "duration": 0.020374,
     "end_time": "2021-06-30T02:03:58.495048",
     "exception": false,
     "start_time": "2021-06-30T02:03:58.474674",
     "status": "completed"
    },
    "tags": []
   },
   "outputs": [
    {
     "data": {
      "text/markdown": [
       "- Driving ‘purists beserk’: Co-chair of blockchain caucus wants to 'reverse' crypto transactions.  Democratic Representative Bill Foster has called for legal power to identify wallet holders and reverse crypto transactions in instances of criminal behavior such as ransomware attacks.  ... [| Skaityti daugiau](https://cointelegraph.com/news/driving-purists-beserk-co-chair-of-blockchain-caucus-wants-to-reverse-crypto-transactions) "
      ],
      "text/plain": [
       "<IPython.core.display.Markdown object>"
      ]
     },
     "execution_count": 3,
     "metadata": {},
     "output_type": "execute_result"
    }
   ],
   "source": [
    "#hide_input\n",
    "#md('##### {}'.format(titleBTC)) \n",
    "md(\"- {}{} {}{} [| Skaityti daugiau]({}) \".format(blockchain['title'],'. ', blockchain['body'], ' ...', blockchain['url']))"
   ]
  },
  {
   "cell_type": "code",
   "execution_count": 4,
   "id": "aging-caution",
   "metadata": {
    "execution": {
     "iopub.execute_input": "2021-06-30T02:03:58.522741Z",
     "iopub.status.busy": "2021-06-30T02:03:58.521955Z",
     "iopub.status.idle": "2021-06-30T02:03:58.524512Z",
     "shell.execute_reply": "2021-06-30T02:03:58.525107Z"
    },
    "papermill": {
     "duration": 0.019644,
     "end_time": "2021-06-30T02:03:58.525255",
     "exception": false,
     "start_time": "2021-06-30T02:03:58.505611",
     "status": "completed"
    },
    "tags": []
   },
   "outputs": [
    {
     "data": {
      "text/markdown": [
       "- It’s important for this section to understand that Bitcoin and other cryptos are ‘here to stay’.  We have the eyes of the regulators on the crypto sector but their perception of cryptocurrencies has not been friendly. But all of that may change soon? Many countries have been taking note of the growth of cryptocurrencies and the amount institutions and traders are investing in the field. While some support the technology, others [&#8230;] ... [| Skaityti daugiau](https://ambcrypto.com/its-important-for-this-section-to-understand-that-bitcoin-and-other-cryptos-are-here-to-stay/) "
      ],
      "text/plain": [
       "<IPython.core.display.Markdown object>"
      ]
     },
     "execution_count": 4,
     "metadata": {},
     "output_type": "execute_result"
    }
   ],
   "source": [
    "#hide_input\n",
    "#md('##### {}'.format(titleBTC)) \n",
    "md(\"- {}{} {}{} [| Skaityti daugiau]({}) \".format(btc['title'],'. ', btc['body'], ' ...', btc['url']))"
   ]
  },
  {
   "cell_type": "code",
   "execution_count": 5,
   "id": "organic-actress",
   "metadata": {
    "execution": {
     "iopub.execute_input": "2021-06-30T02:03:58.555183Z",
     "iopub.status.busy": "2021-06-30T02:03:58.554184Z",
     "iopub.status.idle": "2021-06-30T02:03:58.557233Z",
     "shell.execute_reply": "2021-06-30T02:03:58.557870Z"
    },
    "papermill": {
     "duration": 0.021123,
     "end_time": "2021-06-30T02:03:58.558047",
     "exception": false,
     "start_time": "2021-06-30T02:03:58.536924",
     "status": "completed"
    },
    "tags": []
   },
   "outputs": [
    {
     "data": {
      "text/markdown": [
       "- XRP to reclaim $1? Here’s how it’s possible.  XRP was quick to react to a wider recovery in the global cryptocurrency market as prices pushed north and back towards its 24 June high of $0.69. Its weekly rise of over 15% was a relief to market observers and may have been heightened by the latest ongoings in the Ripple VS U.S. SEC lawsuit. [&#8230;] ... [| Skaityti daugiau](https://ambcrypto.com/xrp-to-reclaim-1-heres-how-its-possible/) "
      ],
      "text/plain": [
       "<IPython.core.display.Markdown object>"
      ]
     },
     "execution_count": 5,
     "metadata": {},
     "output_type": "execute_result"
    }
   ],
   "source": [
    "#hide_input\n",
    "#md('##### {}'.format(titleBTC)) \n",
    "md(\"- {}{} {}{} [| Skaityti daugiau]({}) \".format(xrp['title'],'. ', xrp['body'], ' ...', xrp['url']))"
   ]
  },
  {
   "cell_type": "code",
   "execution_count": 6,
   "id": "prompt-farmer",
   "metadata": {
    "execution": {
     "iopub.execute_input": "2021-06-30T02:03:58.586840Z",
     "iopub.status.busy": "2021-06-30T02:03:58.586232Z",
     "iopub.status.idle": "2021-06-30T02:03:58.589245Z",
     "shell.execute_reply": "2021-06-30T02:03:58.588758Z"
    },
    "papermill": {
     "duration": 0.019976,
     "end_time": "2021-06-30T02:03:58.589361",
     "exception": false,
     "start_time": "2021-06-30T02:03:58.569385",
     "status": "completed"
    },
    "tags": []
   },
   "outputs": [
    {
     "data": {
      "text/markdown": [
       "- Binance Coin, Tron, UNI Price Analysis: 25 June.  Major cryptos gained back some ground after facing some major losses on Tuesday. After dropping below $30,000 for the first time since January, Bitcoin was back to $34,213 at the time of writing, hiking by 3.1% over the past 24 hours. Major altcoins like Binance Coin, Tron, and UNI also profited off the back of [&#8230;] ... [| Skaityti daugiau](https://ambcrypto.com/binance-coin-tron-uni-price-analysis-25-june/) "
      ],
      "text/plain": [
       "<IPython.core.display.Markdown object>"
      ]
     },
     "execution_count": 6,
     "metadata": {},
     "output_type": "execute_result"
    }
   ],
   "source": [
    "#hide_input\n",
    "#md('##### {}'.format(titleBTC)) \n",
    "md(\"- {}{} {}{} [| Skaityti daugiau]({}) \".format(trx['title'],'. ', trx['body'], ' ...', trx['url']))"
   ]
  },
  {
   "cell_type": "code",
   "execution_count": 7,
   "id": "illegal-greece",
   "metadata": {
    "execution": {
     "iopub.execute_input": "2021-06-30T02:03:58.619233Z",
     "iopub.status.busy": "2021-06-30T02:03:58.618614Z",
     "iopub.status.idle": "2021-06-30T02:03:58.621614Z",
     "shell.execute_reply": "2021-06-30T02:03:58.621124Z"
    },
    "papermill": {
     "duration": 0.020398,
     "end_time": "2021-06-30T02:03:58.621734",
     "exception": false,
     "start_time": "2021-06-30T02:03:58.601336",
     "status": "completed"
    },
    "tags": []
   },
   "outputs": [
    {
     "data": {
      "text/markdown": [
       "- Popular Crypto Analyst Drops All His Ethereum in Favor of Cardano ($ADA).  A pseudonymous cryptocurrency analyst has revealed he is selling the remainder of his Ethereum holdings in order to buy more of Cardano’s ADA, as he believes the latter will outperform the second-largest cryptocurrency by market capitalization. In a series of tweets the trader, known as Capo, told his over 135,000 followers that looking at the […] ... [| Skaityti daugiau](https://www.cryptoglobe.com/latest/2021/06/popular-crypto-analyst-drops-all-his-ethereum-in-favor-of-cardano-ada/) "
      ],
      "text/plain": [
       "<IPython.core.display.Markdown object>"
      ]
     },
     "execution_count": 7,
     "metadata": {},
     "output_type": "execute_result"
    }
   ],
   "source": [
    "#hide_input\n",
    "#md('##### {}'.format(titleBTC)) \n",
    "md(\"- {}{} {}{} [| Skaityti daugiau]({}) \".format(eth['title'],'. ', eth['body'], ' ...', eth['url']))"
   ]
  },
  {
   "cell_type": "code",
   "execution_count": 8,
   "id": "sublime-lounge",
   "metadata": {
    "execution": {
     "iopub.execute_input": "2021-06-30T02:03:58.652397Z",
     "iopub.status.busy": "2021-06-30T02:03:58.651816Z",
     "iopub.status.idle": "2021-06-30T02:03:58.655228Z",
     "shell.execute_reply": "2021-06-30T02:03:58.654726Z"
    },
    "papermill": {
     "duration": 0.021672,
     "end_time": "2021-06-30T02:03:58.655472",
     "exception": false,
     "start_time": "2021-06-30T02:03:58.633800",
     "status": "completed"
    },
    "tags": []
   },
   "outputs": [
    {
     "data": {
      "text/markdown": [
       "- Popular Crypto Analyst Drops All His Ethereum in Favor of Cardano ($ADA).  A pseudonymous cryptocurrency analyst has revealed he is selling the remainder of his Ethereum holdings in order to buy more of Cardano’s ADA, as he believes the latter will outperform the second-largest cryptocurrency by market capitalization. In a series of tweets the trader, known as Capo, told his over 135,000 followers that looking at the […] ... [| Skaityti daugiau](https://www.cryptoglobe.com/latest/2021/06/popular-crypto-analyst-drops-all-his-ethereum-in-favor-of-cardano-ada/) "
      ],
      "text/plain": [
       "<IPython.core.display.Markdown object>"
      ]
     },
     "execution_count": 8,
     "metadata": {},
     "output_type": "execute_result"
    }
   ],
   "source": [
    "#hide_input\n",
    "#md('##### {}'.format(titleBTC)) \n",
    "md(\"- {}{} {}{} [| Skaityti daugiau]({}) \".format(ada['title'],'. ', ada['body'], ' ...', ada['url']))"
   ]
  },
  {
   "cell_type": "code",
   "execution_count": 9,
   "id": "specified-ordering",
   "metadata": {
    "execution": {
     "iopub.execute_input": "2021-06-30T02:03:58.688115Z",
     "iopub.status.busy": "2021-06-30T02:03:58.687523Z",
     "iopub.status.idle": "2021-06-30T02:03:58.691591Z",
     "shell.execute_reply": "2021-06-30T02:03:58.691094Z"
    },
    "papermill": {
     "duration": 0.023848,
     "end_time": "2021-06-30T02:03:58.691710",
     "exception": false,
     "start_time": "2021-06-30T02:03:58.667862",
     "status": "completed"
    },
    "tags": []
   },
   "outputs": [
    {
     "data": {
      "text/markdown": [
       "- Tom Brady & Gisele Bündchen Land Equity Deal With FTX.  FTX continues it&#8217;s run of sports partnerships. Last week, the exchange broke ground as Major League Baseball&#8217;s first &#8216;Official Crypto Partner&#8216;. Earlier this month, FTX teamed up with leading esports organization TSM in a historic naming rights deal. Today, the firm continued their partnerships streak by way of a deal with one of the most [&#8230;] ... [| Skaityti daugiau](https://bitcoinist.com/tom-brady-gisele-bundchen-land-equity-deal-with-ftx/?utm_source=rss&utm_medium=rss&utm_campaign=tom-brady-gisele-bundchen-land-equity-deal-with-ftx) "
      ],
      "text/plain": [
       "<IPython.core.display.Markdown object>"
      ]
     },
     "execution_count": 9,
     "metadata": {},
     "output_type": "execute_result"
    }
   ],
   "source": [
    "#hide_input\n",
    "#md('##### {}'.format(titleBTC)) \n",
    "md(\"- {}{} {}{} [| Skaityti daugiau]({}) \".format(exchange['title'],'. ', exchange['body'], ' ...', exchange['url']))"
   ]
  },
  {
   "cell_type": "code",
   "execution_count": null,
   "id": "tender-livestock",
   "metadata": {
    "papermill": {
     "duration": 0.012771,
     "end_time": "2021-06-30T02:03:58.717739",
     "exception": false,
     "start_time": "2021-06-30T02:03:58.704968",
     "status": "completed"
    },
    "tags": []
   },
   "outputs": [],
   "source": []
  },
  {
   "cell_type": "code",
   "execution_count": null,
   "id": "appreciated-diamond",
   "metadata": {
    "papermill": {
     "duration": 0.012643,
     "end_time": "2021-06-30T02:03:58.743161",
     "exception": false,
     "start_time": "2021-06-30T02:03:58.730518",
     "status": "completed"
    },
    "tags": []
   },
   "outputs": [],
   "source": []
  },
  {
   "cell_type": "code",
   "execution_count": null,
   "id": "romance-sweden",
   "metadata": {
    "papermill": {
     "duration": 0.012923,
     "end_time": "2021-06-30T02:03:58.768804",
     "exception": false,
     "start_time": "2021-06-30T02:03:58.755881",
     "status": "completed"
    },
    "tags": []
   },
   "outputs": [],
   "source": []
  },
  {
   "cell_type": "code",
   "execution_count": null,
   "id": "dietary-statistics",
   "metadata": {
    "papermill": {
     "duration": 0.012791,
     "end_time": "2021-06-30T02:03:58.794404",
     "exception": false,
     "start_time": "2021-06-30T02:03:58.781613",
     "status": "completed"
    },
    "tags": []
   },
   "outputs": [],
   "source": []
  }
 ],
 "metadata": {
  "kernelspec": {
   "display_name": "Python 3",
   "language": "python",
   "name": "python3"
  },
  "language_info": {
   "codemirror_mode": {
    "name": "ipython",
    "version": 3
   },
   "file_extension": ".py",
   "mimetype": "text/x-python",
   "name": "python",
   "nbconvert_exporter": "python",
   "pygments_lexer": "ipython3",
   "version": "3.6.13"
  },
  "papermill": {
   "default_parameters": {},
   "duration": 11.740853,
   "end_time": "2021-06-30T02:03:59.318865",
   "environment_variables": {},
   "exception": null,
   "input_path": "Market-News.ipynb",
   "output_path": "Market-News.ipynb",
   "parameters": {},
   "start_time": "2021-06-30T02:03:47.578012",
   "version": "2.2.2"
  }
 },
 "nbformat": 4,
 "nbformat_minor": 5
}