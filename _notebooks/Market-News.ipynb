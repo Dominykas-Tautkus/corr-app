{
 "cells": [
  {
   "cell_type": "markdown",
   "id": "short-greensboro",
   "metadata": {
    "papermill": {
     "duration": 0.014809,
     "end_time": "2021-04-06T02:11:06.427304",
     "exception": false,
     "start_time": "2021-04-06T02:11:06.412495",
     "status": "completed"
    },
    "tags": []
   },
   "source": [
    "# Kriptovaliutų naujienos"
   ]
  },
  {
   "cell_type": "code",
   "execution_count": 1,
   "id": "functioning-knowing",
   "metadata": {
    "execution": {
     "iopub.execute_input": "2021-04-06T02:11:06.461006Z",
     "iopub.status.busy": "2021-04-06T02:11:06.460388Z",
     "iopub.status.idle": "2021-04-06T02:11:07.765098Z",
     "shell.execute_reply": "2021-04-06T02:11:07.764393Z"
    },
    "papermill": {
     "duration": 1.324424,
     "end_time": "2021-04-06T02:11:07.765290",
     "exception": false,
     "start_time": "2021-04-06T02:11:06.440866",
     "status": "completed"
    },
    "tags": []
   },
   "outputs": [],
   "source": [
    "#hide_input\n",
    "import warnings\n",
    "warnings.filterwarnings('ignore')\n",
    "from scripts.read_data import read_api\n",
    "from scripts.read_data import read_news\n",
    "from scripts.read_data import read_covid\n",
    "import matplotlib.pyplot as plt \n",
    "from IPython.display import Markdown as md"
   ]
  },
  {
   "cell_type": "code",
   "execution_count": 2,
   "id": "shared-acceptance",
   "metadata": {
    "execution": {
     "iopub.execute_input": "2021-04-06T02:11:07.794990Z",
     "iopub.status.busy": "2021-04-06T02:11:07.794327Z",
     "iopub.status.idle": "2021-04-06T02:11:15.964573Z",
     "shell.execute_reply": "2021-04-06T02:11:15.964007Z"
    },
    "papermill": {
     "duration": 8.187963,
     "end_time": "2021-04-06T02:11:15.964716",
     "exception": false,
     "start_time": "2021-04-06T02:11:07.776753",
     "status": "completed"
    },
    "tags": []
   },
   "outputs": [],
   "source": [
    "#hide_input\n",
    "blockchain = read_news('blockchain') \n",
    "btc = read_news('btc') \n",
    "xrp = read_news('xrp') \n",
    "trx = read_news('trx') \n",
    "eth = read_news('eth')  \n",
    "ada = read_news('ada')\n",
    "exchange = read_news('exchange') "
   ]
  },
  {
   "cell_type": "code",
   "execution_count": 3,
   "id": "synthetic-notion",
   "metadata": {
    "execution": {
     "iopub.execute_input": "2021-04-06T02:11:16.004980Z",
     "iopub.status.busy": "2021-04-06T02:11:16.004359Z",
     "iopub.status.idle": "2021-04-06T02:11:16.006573Z",
     "shell.execute_reply": "2021-04-06T02:11:16.007040Z"
    },
    "papermill": {
     "duration": 0.02574,
     "end_time": "2021-04-06T02:11:16.007181",
     "exception": false,
     "start_time": "2021-04-06T02:11:15.981441",
     "status": "completed"
    },
    "tags": []
   },
   "outputs": [
    {
     "data": {
      "text/markdown": [
       "- South Korean Newspaper to Give its Subscribers Kakao's Klay Token.  In an unprecedented move, the mainstream South Korean newspaper Hanguk Kyungjae has announced that it will begin giving out crypto tokens to subscribers of its print and online editions.The newspaper (English name: “Korea Economic Daily”) is one of the nation’s leading financial dailies. It has partnered with Ground X, the blockchain arm of the internet giant Kakao, ... [| Skaityti daugiau](https://cryptonews.com/news/south-korean-newspaper-to-give-its-subscribers-kakao-s-klay-9795.htm) "
      ],
      "text/plain": [
       "<IPython.core.display.Markdown object>"
      ]
     },
     "execution_count": 3,
     "metadata": {},
     "output_type": "execute_result"
    }
   ],
   "source": [
    "#hide_input\n",
    "#md('##### {}'.format(titleBTC)) \n",
    "md(\"- {}{} {}{} [| Skaityti daugiau]({}) \".format(blockchain['title'],'. ', blockchain['body'], ' ...', blockchain['url']))"
   ]
  },
  {
   "cell_type": "code",
   "execution_count": 4,
   "id": "aging-caution",
   "metadata": {
    "execution": {
     "iopub.execute_input": "2021-04-06T02:11:16.033407Z",
     "iopub.status.busy": "2021-04-06T02:11:16.032831Z",
     "iopub.status.idle": "2021-04-06T02:11:16.040567Z",
     "shell.execute_reply": "2021-04-06T02:11:16.040043Z"
    },
    "papermill": {
     "duration": 0.022653,
     "end_time": "2021-04-06T02:11:16.040689",
     "exception": false,
     "start_time": "2021-04-06T02:11:16.018036",
     "status": "completed"
    },
    "tags": []
   },
   "outputs": [
    {
     "data": {
      "text/markdown": [
       "- BTG Pactual’s new Bitcoin fund teams up with Gemini for custody.  Gemini is providing custody services to the first Bitcoin fund issued by a Brazilian investment bank. ... [| Skaityti daugiau](https://cointelegraph.com/news/btg-pactual-s-new-bitcoin-fund-teams-up-with-gemini-for-custody) "
      ],
      "text/plain": [
       "<IPython.core.display.Markdown object>"
      ]
     },
     "execution_count": 4,
     "metadata": {},
     "output_type": "execute_result"
    }
   ],
   "source": [
    "#hide_input\n",
    "#md('##### {}'.format(titleBTC)) \n",
    "md(\"- {}{} {}{} [| Skaityti daugiau]({}) \".format(btc['title'],'. ', btc['body'], ' ...', btc['url']))"
   ]
  },
  {
   "cell_type": "code",
   "execution_count": 5,
   "id": "organic-actress",
   "metadata": {
    "execution": {
     "iopub.execute_input": "2021-04-06T02:11:16.067788Z",
     "iopub.status.busy": "2021-04-06T02:11:16.067214Z",
     "iopub.status.idle": "2021-04-06T02:11:16.071188Z",
     "shell.execute_reply": "2021-04-06T02:11:16.070725Z"
    },
    "papermill": {
     "duration": 0.019618,
     "end_time": "2021-04-06T02:11:16.071309",
     "exception": false,
     "start_time": "2021-04-06T02:11:16.051691",
     "status": "completed"
    },
    "tags": []
   },
   "outputs": [
    {
     "data": {
      "text/markdown": [
       "- Why BTT and XRP are surging now.  Two altcoins, in particular, have been on the move today with market sentiments reflecting increasingly bullish patterns. In the past 24 hours, utility token BitTorrent (BTT) which is based on the Tron blockchain and Ripple’s native crypto XRP, has surged by 22.8% and 38.1%, respectively. At press time, BTT was trading at $0.01235 and reached [&#8230;] ... [| Skaityti daugiau](https://ambcrypto.com/why-btt-and-xrp-are-surging-now/) "
      ],
      "text/plain": [
       "<IPython.core.display.Markdown object>"
      ]
     },
     "execution_count": 5,
     "metadata": {},
     "output_type": "execute_result"
    }
   ],
   "source": [
    "#hide_input\n",
    "#md('##### {}'.format(titleBTC)) \n",
    "md(\"- {}{} {}{} [| Skaityti daugiau]({}) \".format(xrp['title'],'. ', xrp['body'], ' ...', xrp['url']))"
   ]
  },
  {
   "cell_type": "code",
   "execution_count": 6,
   "id": "prompt-farmer",
   "metadata": {
    "execution": {
     "iopub.execute_input": "2021-04-06T02:11:16.100259Z",
     "iopub.status.busy": "2021-04-06T02:11:16.099684Z",
     "iopub.status.idle": "2021-04-06T02:11:16.103141Z",
     "shell.execute_reply": "2021-04-06T02:11:16.102618Z"
    },
    "papermill": {
     "duration": 0.019223,
     "end_time": "2021-04-06T02:11:16.103262",
     "exception": false,
     "start_time": "2021-04-06T02:11:16.084039",
     "status": "completed"
    },
    "tags": []
   },
   "outputs": [
    {
     "data": {
      "text/markdown": [
       "- Why BTT and XRP are surging now.  Two altcoins, in particular, have been on the move today with market sentiments reflecting increasingly bullish patterns. In the past 24 hours, utility token BitTorrent (BTT) which is based on the Tron blockchain and Ripple’s native crypto XRP, has surged by 22.8% and 38.1%, respectively. At press time, BTT was trading at $0.01235 and reached [&#8230;] ... [| Skaityti daugiau](https://ambcrypto.com/why-btt-and-xrp-are-surging-now/) "
      ],
      "text/plain": [
       "<IPython.core.display.Markdown object>"
      ]
     },
     "execution_count": 6,
     "metadata": {},
     "output_type": "execute_result"
    }
   ],
   "source": [
    "#hide_input\n",
    "#md('##### {}'.format(titleBTC)) \n",
    "md(\"- {}{} {}{} [| Skaityti daugiau]({}) \".format(trx['title'],'. ', trx['body'], ' ...', trx['url']))"
   ]
  },
  {
   "cell_type": "code",
   "execution_count": 7,
   "id": "illegal-greece",
   "metadata": {
    "execution": {
     "iopub.execute_input": "2021-04-06T02:11:16.131211Z",
     "iopub.status.busy": "2021-04-06T02:11:16.130645Z",
     "iopub.status.idle": "2021-04-06T02:11:16.134279Z",
     "shell.execute_reply": "2021-04-06T02:11:16.133765Z"
    },
    "papermill": {
     "duration": 0.019335,
     "end_time": "2021-04-06T02:11:16.134398",
     "exception": false,
     "start_time": "2021-04-06T02:11:16.115063",
     "status": "completed"
    },
    "tags": []
   },
   "outputs": [
    {
     "data": {
      "text/markdown": [
       "- DeFi Reaches Milestone $50B Total Value Locked.  The initial growth of the DeFi industry helped to lay the foundation of the current bull market. Innovation in the decentralized finance sector helped fuel Ethereum&#8217;s growth, and once Bitcoin got going, the rising tide lifted all other boats. Doing away with any fears of the tide rolling back out just as quickly as it [&#8230;] ... [| Skaityti daugiau](https://www.newsbtc.com/news/defi/defi-reaches-milestone-50b-total-value-locked/) "
      ],
      "text/plain": [
       "<IPython.core.display.Markdown object>"
      ]
     },
     "execution_count": 7,
     "metadata": {},
     "output_type": "execute_result"
    }
   ],
   "source": [
    "#hide_input\n",
    "#md('##### {}'.format(titleBTC)) \n",
    "md(\"- {}{} {}{} [| Skaityti daugiau]({}) \".format(eth['title'],'. ', eth['body'], ' ...', eth['url']))"
   ]
  },
  {
   "cell_type": "code",
   "execution_count": 8,
   "id": "sublime-lounge",
   "metadata": {
    "execution": {
     "iopub.execute_input": "2021-04-06T02:11:16.162868Z",
     "iopub.status.busy": "2021-04-06T02:11:16.162287Z",
     "iopub.status.idle": "2021-04-06T02:11:16.165981Z",
     "shell.execute_reply": "2021-04-06T02:11:16.165520Z"
    },
    "papermill": {
     "duration": 0.019917,
     "end_time": "2021-04-06T02:11:16.166099",
     "exception": false,
     "start_time": "2021-04-06T02:11:16.146182",
     "status": "completed"
    },
    "tags": []
   },
   "outputs": [
    {
     "data": {
      "text/markdown": [
       "- Price analysis 4/5: BTC, ETH, BNB, DOT, ADA, XRP, UNI, LTC, LINK, THETA.  Bitcoin and most major altcoins have bounced off their immediate support levels, indicating an increase in bullish sentiment.  ... [| Skaityti daugiau](https://cointelegraph.com/news/price-analysis-4-5-btc-eth-bnb-dot-ada-xrp-uni-ltc-link-theta) "
      ],
      "text/plain": [
       "<IPython.core.display.Markdown object>"
      ]
     },
     "execution_count": 8,
     "metadata": {},
     "output_type": "execute_result"
    }
   ],
   "source": [
    "#hide_input\n",
    "#md('##### {}'.format(titleBTC)) \n",
    "md(\"- {}{} {}{} [| Skaityti daugiau]({}) \".format(ada['title'],'. ', ada['body'], ' ...', ada['url']))"
   ]
  },
  {
   "cell_type": "code",
   "execution_count": 9,
   "id": "specified-ordering",
   "metadata": {
    "execution": {
     "iopub.execute_input": "2021-04-06T02:11:16.195152Z",
     "iopub.status.busy": "2021-04-06T02:11:16.194582Z",
     "iopub.status.idle": "2021-04-06T02:11:16.198109Z",
     "shell.execute_reply": "2021-04-06T02:11:16.198681Z"
    },
    "papermill": {
     "duration": 0.020476,
     "end_time": "2021-04-06T02:11:16.198813",
     "exception": false,
     "start_time": "2021-04-06T02:11:16.178337",
     "status": "completed"
    },
    "tags": []
   },
   "outputs": [
    {
     "data": {
      "text/markdown": [
       "- $XRP Price Hits $0.874, Its Highest Level Since 6 May 2018.  At 16:35 UTC on Monday (April 5), on crypto exchange Bitstamp, the XRP price reached an intraday high of $0.87400. This is the highest price XRP has seen in 1,065 days. According to data by TradingView, currently (as of 19:00 UTC on April 5), XRP is trading around $0.0.82452, which means that in the past […] ... [| Skaityti daugiau](https://www.cryptoglobe.com/latest/2021/04/xrp-price-hits-0-874-its-highest-level-since-6-may-2018/) "
      ],
      "text/plain": [
       "<IPython.core.display.Markdown object>"
      ]
     },
     "execution_count": 9,
     "metadata": {},
     "output_type": "execute_result"
    }
   ],
   "source": [
    "#hide_input\n",
    "#md('##### {}'.format(titleBTC)) \n",
    "md(\"- {}{} {}{} [| Skaityti daugiau]({}) \".format(exchange['title'],'. ', exchange['body'], ' ...', exchange['url']))"
   ]
  },
  {
   "cell_type": "code",
   "execution_count": null,
   "id": "tender-livestock",
   "metadata": {
    "papermill": {
     "duration": 0.01355,
     "end_time": "2021-04-06T02:11:16.224941",
     "exception": false,
     "start_time": "2021-04-06T02:11:16.211391",
     "status": "completed"
    },
    "tags": []
   },
   "outputs": [],
   "source": []
  },
  {
   "cell_type": "code",
   "execution_count": null,
   "id": "appreciated-diamond",
   "metadata": {
    "papermill": {
     "duration": 0.012334,
     "end_time": "2021-04-06T02:11:16.249678",
     "exception": false,
     "start_time": "2021-04-06T02:11:16.237344",
     "status": "completed"
    },
    "tags": []
   },
   "outputs": [],
   "source": []
  },
  {
   "cell_type": "code",
   "execution_count": null,
   "id": "romance-sweden",
   "metadata": {
    "papermill": {
     "duration": 0.012565,
     "end_time": "2021-04-06T02:11:16.274741",
     "exception": false,
     "start_time": "2021-04-06T02:11:16.262176",
     "status": "completed"
    },
    "tags": []
   },
   "outputs": [],
   "source": []
  },
  {
   "cell_type": "code",
   "execution_count": null,
   "id": "dietary-statistics",
   "metadata": {
    "papermill": {
     "duration": 0.012401,
     "end_time": "2021-04-06T02:11:16.299666",
     "exception": false,
     "start_time": "2021-04-06T02:11:16.287265",
     "status": "completed"
    },
    "tags": []
   },
   "outputs": [],
   "source": []
  }
 ],
 "metadata": {
  "kernelspec": {
   "display_name": "Python 3",
   "language": "python",
   "name": "python3"
  },
  "language_info": {
   "codemirror_mode": {
    "name": "ipython",
    "version": 3
   },
   "file_extension": ".py",
   "mimetype": "text/x-python",
   "name": "python",
   "nbconvert_exporter": "python",
   "pygments_lexer": "ipython3",
   "version": "3.6.13"
  },
  "papermill": {
   "default_parameters": {},
   "duration": 11.598783,
   "end_time": "2021-04-06T02:11:16.722147",
   "environment_variables": {},
   "exception": null,
   "input_path": "Market-News.ipynb",
   "output_path": "Market-News.ipynb",
   "parameters": {},
   "start_time": "2021-04-06T02:11:05.123364",
   "version": "2.2.2"
  }
 },
 "nbformat": 4,
 "nbformat_minor": 5
}