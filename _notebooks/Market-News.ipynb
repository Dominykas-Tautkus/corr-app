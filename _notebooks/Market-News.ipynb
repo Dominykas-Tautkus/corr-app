{
 "cells": [
  {
   "cell_type": "markdown",
   "id": "short-greensboro",
   "metadata": {
    "papermill": {
     "duration": 0.017008,
     "end_time": "2021-03-20T01:48:19.700563",
     "exception": false,
     "start_time": "2021-03-20T01:48:19.683555",
     "status": "completed"
    },
    "tags": []
   },
   "source": [
    "# Kriptovaliutų naujienos"
   ]
  },
  {
   "cell_type": "code",
   "execution_count": 1,
   "id": "functioning-knowing",
   "metadata": {
    "execution": {
     "iopub.execute_input": "2021-03-20T01:48:19.733407Z",
     "iopub.status.busy": "2021-03-20T01:48:19.732386Z",
     "iopub.status.idle": "2021-03-20T01:48:20.975984Z",
     "shell.execute_reply": "2021-03-20T01:48:20.975069Z"
    },
    "papermill": {
     "duration": 1.264915,
     "end_time": "2021-03-20T01:48:20.976213",
     "exception": false,
     "start_time": "2021-03-20T01:48:19.711298",
     "status": "completed"
    },
    "tags": []
   },
   "outputs": [],
   "source": [
    "#hide_input\n",
    "import warnings\n",
    "warnings.filterwarnings('ignore')\n",
    "from scripts.read_data import read_api\n",
    "from scripts.read_data import read_news\n",
    "from scripts.read_data import read_covid\n",
    "import matplotlib.pyplot as plt \n",
    "from IPython.display import Markdown as md"
   ]
  },
  {
   "cell_type": "code",
   "execution_count": 2,
   "id": "shared-acceptance",
   "metadata": {
    "execution": {
     "iopub.execute_input": "2021-03-20T01:48:21.005131Z",
     "iopub.status.busy": "2021-03-20T01:48:21.004130Z",
     "iopub.status.idle": "2021-03-20T01:48:31.264065Z",
     "shell.execute_reply": "2021-03-20T01:48:31.263545Z"
    },
    "papermill": {
     "duration": 10.276109,
     "end_time": "2021-03-20T01:48:31.264182",
     "exception": false,
     "start_time": "2021-03-20T01:48:20.988073",
     "status": "completed"
    },
    "tags": []
   },
   "outputs": [],
   "source": [
    "#hide_input\n",
    "blockchain = read_news('blockchain') \n",
    "btc = read_news('btc') \n",
    "xrp = read_news('xrp') \n",
    "trx = read_news('trx') \n",
    "eth = read_news('eth')  \n",
    "ada = read_news('ada')\n",
    "exchange = read_news('exchange') "
   ]
  },
  {
   "cell_type": "code",
   "execution_count": 3,
   "id": "synthetic-notion",
   "metadata": {
    "execution": {
     "iopub.execute_input": "2021-03-20T01:48:31.291933Z",
     "iopub.status.busy": "2021-03-20T01:48:31.291138Z",
     "iopub.status.idle": "2021-03-20T01:48:31.293369Z",
     "shell.execute_reply": "2021-03-20T01:48:31.293740Z"
    },
    "papermill": {
     "duration": 0.019589,
     "end_time": "2021-03-20T01:48:31.293846",
     "exception": false,
     "start_time": "2021-03-20T01:48:31.274257",
     "status": "completed"
    },
    "tags": []
   },
   "outputs": [
    {
     "data": {
      "text/markdown": [
       "- Brazilian Stock Exchange approves two new crypto ETFs in Latin America.  The Brazilian Stock Exchange (B3) approved the first crypto ETFs in Latin America and leading to a new milestone for the market. ... [| Skaityti daugiau](https://cointelegraph.com/news/brazilian-stock-exchange-approves-two-new-crypto-etfs-in-latin-america) "
      ],
      "text/plain": [
       "<IPython.core.display.Markdown object>"
      ]
     },
     "execution_count": 3,
     "metadata": {},
     "output_type": "execute_result"
    }
   ],
   "source": [
    "#hide_input\n",
    "#md('##### {}'.format(titleBTC)) \n",
    "md(\"- {}{} {}{} [| Skaityti daugiau]({}) \".format(blockchain['title'],'. ', blockchain['body'], ' ...', blockchain['url']))"
   ]
  },
  {
   "cell_type": "code",
   "execution_count": 4,
   "id": "aging-caution",
   "metadata": {
    "execution": {
     "iopub.execute_input": "2021-03-20T01:48:31.317192Z",
     "iopub.status.busy": "2021-03-20T01:48:31.316622Z",
     "iopub.status.idle": "2021-03-20T01:48:31.323341Z",
     "shell.execute_reply": "2021-03-20T01:48:31.322827Z"
    },
    "papermill": {
     "duration": 0.019731,
     "end_time": "2021-03-20T01:48:31.323454",
     "exception": false,
     "start_time": "2021-03-20T01:48:31.303723",
     "status": "completed"
    },
    "tags": []
   },
   "outputs": [
    {
     "data": {
      "text/markdown": [
       "- Bitcoin Whale Addresses Drop Amid Profit Taking.  Bitcoin’s “rich list” has shrunk over the past month amidst the ongoing rally, as more and more investors seek to take profits on their gains. According to a report by CoinDesk, the number of bitcoin wallets holding at least 1,000 BTC has fallen by 8% since the beginning of February. The report cites data compiled […] ... [| Skaityti daugiau](https://www.cryptoglobe.com/latest/2021/03/bitcoin-whale-addresses-drop-amid-profit-taking/) "
      ],
      "text/plain": [
       "<IPython.core.display.Markdown object>"
      ]
     },
     "execution_count": 4,
     "metadata": {},
     "output_type": "execute_result"
    }
   ],
   "source": [
    "#hide_input\n",
    "#md('##### {}'.format(titleBTC)) \n",
    "md(\"- {}{} {}{} [| Skaityti daugiau]({}) \".format(btc['title'],'. ', btc['body'], ' ...', btc['url']))"
   ]
  },
  {
   "cell_type": "code",
   "execution_count": 5,
   "id": "organic-actress",
   "metadata": {
    "execution": {
     "iopub.execute_input": "2021-03-20T01:48:31.350146Z",
     "iopub.status.busy": "2021-03-20T01:48:31.349589Z",
     "iopub.status.idle": "2021-03-20T01:48:31.353088Z",
     "shell.execute_reply": "2021-03-20T01:48:31.352637Z"
    },
    "papermill": {
     "duration": 0.019098,
     "end_time": "2021-03-20T01:48:31.353188",
     "exception": false,
     "start_time": "2021-03-20T01:48:31.334090",
     "status": "completed"
    },
    "tags": []
   },
   "outputs": [
    {
     "data": {
      "text/markdown": [
       "- Price analysis 3/19: BTC, ETH, BNB, ADA, DOT, XRP, UNI, LTC, LINK, BCH.  Several altcoins are moving to new all-time highs as bulls struggle to lift Bitcoin price above $60,000. ... [| Skaityti daugiau](https://cointelegraph.com/news/price-analysis-3-19-btc-eth-bnb-ada-dot-xrp-uni-ltc-link-bch) "
      ],
      "text/plain": [
       "<IPython.core.display.Markdown object>"
      ]
     },
     "execution_count": 5,
     "metadata": {},
     "output_type": "execute_result"
    }
   ],
   "source": [
    "#hide_input\n",
    "#md('##### {}'.format(titleBTC)) \n",
    "md(\"- {}{} {}{} [| Skaityti daugiau]({}) \".format(xrp['title'],'. ', xrp['body'], ' ...', xrp['url']))"
   ]
  },
  {
   "cell_type": "code",
   "execution_count": 6,
   "id": "prompt-farmer",
   "metadata": {
    "execution": {
     "iopub.execute_input": "2021-03-20T01:48:31.379664Z",
     "iopub.status.busy": "2021-03-20T01:48:31.379008Z",
     "iopub.status.idle": "2021-03-20T01:48:31.382585Z",
     "shell.execute_reply": "2021-03-20T01:48:31.383129Z"
    },
    "papermill": {
     "duration": 0.019513,
     "end_time": "2021-03-20T01:48:31.383270",
     "exception": false,
     "start_time": "2021-03-20T01:48:31.363757",
     "status": "completed"
    },
    "tags": []
   },
   "outputs": [
    {
     "data": {
      "text/markdown": [
       "- Lindsay Lohan Partnering With TRON ($TRX), Paris Hilton Also Wants to Launch her NFTs on TRON.  Exactly five weeks after complimenting Justin Sun on how well the TRON platform works, American actress Lindsay Lohan announced that she will soon be launching a new non-fungible token (NFT) on an upcoming TRON-powered marketplace. The first time that we saw Lohan talk about TRON on Twitter was on February 11: Lolan had first talked […] ... [| Skaityti daugiau](https://www.cryptoglobe.com/latest/2021/03/lindsay-lohan-partnering-with-tron-trx-paris-hilton-also-wants-to-launch-her-nfts-on-tron/) "
      ],
      "text/plain": [
       "<IPython.core.display.Markdown object>"
      ]
     },
     "execution_count": 6,
     "metadata": {},
     "output_type": "execute_result"
    }
   ],
   "source": [
    "#hide_input\n",
    "#md('##### {}'.format(titleBTC)) \n",
    "md(\"- {}{} {}{} [| Skaityti daugiau]({}) \".format(trx['title'],'. ', trx['body'], ' ...', trx['url']))"
   ]
  },
  {
   "cell_type": "code",
   "execution_count": 7,
   "id": "illegal-greece",
   "metadata": {
    "execution": {
     "iopub.execute_input": "2021-03-20T01:48:31.408393Z",
     "iopub.status.busy": "2021-03-20T01:48:31.407826Z",
     "iopub.status.idle": "2021-03-20T01:48:31.410978Z",
     "shell.execute_reply": "2021-03-20T01:48:31.411470Z"
    },
    "papermill": {
     "duration": 0.017101,
     "end_time": "2021-03-20T01:48:31.411599",
     "exception": false,
     "start_time": "2021-03-20T01:48:31.394498",
     "status": "completed"
    },
    "tags": []
   },
   "outputs": [
    {
     "data": {
      "text/markdown": [
       "- Coinbase fined $6.5 Million over trading irregularities.  The $6.5 million settlement with the CFTC related to Coinbase's trading software. The announcement did not discuss other investigations related to Ethereum and Bitcoin Cash that may be ongoing. ... [| Skaityti daugiau](https://decrypt.co/62155/coinbase-fined-6-5-million-over-trading-irregularities) "
      ],
      "text/plain": [
       "<IPython.core.display.Markdown object>"
      ]
     },
     "execution_count": 7,
     "metadata": {},
     "output_type": "execute_result"
    }
   ],
   "source": [
    "#hide_input\n",
    "#md('##### {}'.format(titleBTC)) \n",
    "md(\"- {}{} {}{} [| Skaityti daugiau]({}) \".format(eth['title'],'. ', eth['body'], ' ...', eth['url']))"
   ]
  },
  {
   "cell_type": "code",
   "execution_count": 8,
   "id": "sublime-lounge",
   "metadata": {
    "execution": {
     "iopub.execute_input": "2021-03-20T01:48:31.439316Z",
     "iopub.status.busy": "2021-03-20T01:48:31.438727Z",
     "iopub.status.idle": "2021-03-20T01:48:31.441927Z",
     "shell.execute_reply": "2021-03-20T01:48:31.442449Z"
    },
    "papermill": {
     "duration": 0.019464,
     "end_time": "2021-03-20T01:48:31.442560",
     "exception": false,
     "start_time": "2021-03-20T01:48:31.423096",
     "status": "completed"
    },
    "tags": []
   },
   "outputs": [
    {
     "data": {
      "text/markdown": [
       "- Price analysis 3/19: BTC, ETH, BNB, ADA, DOT, XRP, UNI, LTC, LINK, BCH.  Several altcoins are moving to new all-time highs as bulls struggle to lift Bitcoin price above $60,000. ... [| Skaityti daugiau](https://cointelegraph.com/news/price-analysis-3-19-btc-eth-bnb-ada-dot-xrp-uni-ltc-link-bch) "
      ],
      "text/plain": [
       "<IPython.core.display.Markdown object>"
      ]
     },
     "execution_count": 8,
     "metadata": {},
     "output_type": "execute_result"
    }
   ],
   "source": [
    "#hide_input\n",
    "#md('##### {}'.format(titleBTC)) \n",
    "md(\"- {}{} {}{} [| Skaityti daugiau]({}) \".format(ada['title'],'. ', ada['body'], ' ...', ada['url']))"
   ]
  },
  {
   "cell_type": "code",
   "execution_count": 9,
   "id": "specified-ordering",
   "metadata": {
    "execution": {
     "iopub.execute_input": "2021-03-20T01:48:31.469621Z",
     "iopub.status.busy": "2021-03-20T01:48:31.469048Z",
     "iopub.status.idle": "2021-03-20T01:48:31.472190Z",
     "shell.execute_reply": "2021-03-20T01:48:31.471707Z"
    },
    "papermill": {
     "duration": 0.019245,
     "end_time": "2021-03-20T01:48:31.472289",
     "exception": false,
     "start_time": "2021-03-20T01:48:31.453044",
     "status": "completed"
    },
    "tags": []
   },
   "outputs": [
    {
     "data": {
      "text/markdown": [
       "- Binance Says $4.6M Filecoin ‘Double Deposit’ an API Mistake.  The “incorrect use” of an API allowed for the same Filecoin tokens to be deposited twice. ... [| Skaityti daugiau](https://decrypt.co/62156/binance-says-million-filecoin-double-deposit-api-mistake) "
      ],
      "text/plain": [
       "<IPython.core.display.Markdown object>"
      ]
     },
     "execution_count": 9,
     "metadata": {},
     "output_type": "execute_result"
    }
   ],
   "source": [
    "#hide_input\n",
    "#md('##### {}'.format(titleBTC)) \n",
    "md(\"- {}{} {}{} [| Skaityti daugiau]({}) \".format(exchange['title'],'. ', exchange['body'], ' ...', exchange['url']))"
   ]
  },
  {
   "cell_type": "code",
   "execution_count": null,
   "id": "tender-livestock",
   "metadata": {
    "papermill": {
     "duration": 0.011606,
     "end_time": "2021-03-20T01:48:31.495486",
     "exception": false,
     "start_time": "2021-03-20T01:48:31.483880",
     "status": "completed"
    },
    "tags": []
   },
   "outputs": [],
   "source": []
  },
  {
   "cell_type": "code",
   "execution_count": null,
   "id": "appreciated-diamond",
   "metadata": {
    "papermill": {
     "duration": 0.013634,
     "end_time": "2021-03-20T01:48:31.521534",
     "exception": false,
     "start_time": "2021-03-20T01:48:31.507900",
     "status": "completed"
    },
    "tags": []
   },
   "outputs": [],
   "source": []
  },
  {
   "cell_type": "code",
   "execution_count": null,
   "id": "romance-sweden",
   "metadata": {
    "papermill": {
     "duration": 0.011314,
     "end_time": "2021-03-20T01:48:31.544596",
     "exception": false,
     "start_time": "2021-03-20T01:48:31.533282",
     "status": "completed"
    },
    "tags": []
   },
   "outputs": [],
   "source": []
  },
  {
   "cell_type": "code",
   "execution_count": null,
   "id": "dietary-statistics",
   "metadata": {
    "papermill": {
     "duration": 0.01218,
     "end_time": "2021-03-20T01:48:31.568488",
     "exception": false,
     "start_time": "2021-03-20T01:48:31.556308",
     "status": "completed"
    },
    "tags": []
   },
   "outputs": [],
   "source": []
  }
 ],
 "metadata": {
  "kernelspec": {
   "display_name": "Python 3",
   "language": "python",
   "name": "python3"
  },
  "language_info": {
   "codemirror_mode": {
    "name": "ipython",
    "version": 3
   },
   "file_extension": ".py",
   "mimetype": "text/x-python",
   "name": "python",
   "nbconvert_exporter": "python",
   "pygments_lexer": "ipython3",
   "version": "3.6.13"
  },
  "papermill": {
   "default_parameters": {},
   "duration": 14.309749,
   "end_time": "2021-03-20T01:48:32.927641",
   "environment_variables": {},
   "exception": null,
   "input_path": "Market-News.ipynb",
   "output_path": "Market-News.ipynb",
   "parameters": {},
   "start_time": "2021-03-20T01:48:18.617892",
   "version": "2.2.2"
  }
 },
 "nbformat": 4,
 "nbformat_minor": 5
}