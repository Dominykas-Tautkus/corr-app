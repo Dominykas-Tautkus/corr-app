{
 "cells": [
  {
   "cell_type": "markdown",
   "id": "short-greensboro",
   "metadata": {
    "papermill": {
     "duration": 0.016928,
     "end_time": "2021-02-04T01:38:26.077354",
     "exception": false,
     "start_time": "2021-02-04T01:38:26.060426",
     "status": "completed"
    },
    "tags": []
   },
   "source": [
    "# Kriptovaliutų naujienos"
   ]
  },
  {
   "cell_type": "code",
   "execution_count": 1,
   "id": "functioning-knowing",
   "metadata": {
    "execution": {
     "iopub.execute_input": "2021-02-04T01:38:26.108743Z",
     "iopub.status.busy": "2021-02-04T01:38:26.108146Z",
     "iopub.status.idle": "2021-02-04T01:38:27.322063Z",
     "shell.execute_reply": "2021-02-04T01:38:27.322893Z"
    },
    "papermill": {
     "duration": 1.235466,
     "end_time": "2021-02-04T01:38:27.323181",
     "exception": false,
     "start_time": "2021-02-04T01:38:26.087715",
     "status": "completed"
    },
    "tags": []
   },
   "outputs": [],
   "source": [
    "#hide_input\n",
    "import warnings\n",
    "warnings.filterwarnings('ignore')\n",
    "from scripts.read_data import read_api\n",
    "from scripts.read_data import read_news\n",
    "from scripts.read_data import read_covid\n",
    "import matplotlib.pyplot as plt \n",
    "from IPython.display import Markdown as md"
   ]
  },
  {
   "cell_type": "code",
   "execution_count": 2,
   "id": "shared-acceptance",
   "metadata": {
    "execution": {
     "iopub.execute_input": "2021-02-04T01:38:27.352204Z",
     "iopub.status.busy": "2021-02-04T01:38:27.351611Z",
     "iopub.status.idle": "2021-02-04T01:38:35.342417Z",
     "shell.execute_reply": "2021-02-04T01:38:35.341879Z"
    },
    "papermill": {
     "duration": 8.008421,
     "end_time": "2021-02-04T01:38:35.342563",
     "exception": false,
     "start_time": "2021-02-04T01:38:27.334142",
     "status": "completed"
    },
    "tags": []
   },
   "outputs": [],
   "source": [
    "#hide_input\n",
    "blockchain = read_news('blockchain') \n",
    "btc = read_news('btc') \n",
    "xrp = read_news('xrp') \n",
    "trx = read_news('trx') \n",
    "eth = read_news('eth')  \n",
    "ada = read_news('ada')\n",
    "exchange = read_news('exchange') "
   ]
  },
  {
   "cell_type": "code",
   "execution_count": 3,
   "id": "synthetic-notion",
   "metadata": {
    "execution": {
     "iopub.execute_input": "2021-02-04T01:38:35.368364Z",
     "iopub.status.busy": "2021-02-04T01:38:35.367820Z",
     "iopub.status.idle": "2021-02-04T01:38:35.370627Z",
     "shell.execute_reply": "2021-02-04T01:38:35.370080Z"
    },
    "papermill": {
     "duration": 0.017669,
     "end_time": "2021-02-04T01:38:35.370744",
     "exception": false,
     "start_time": "2021-02-04T01:38:35.353075",
     "status": "completed"
    },
    "tags": []
   },
   "outputs": [
    {
     "data": {
      "text/markdown": [
       "- Forbes Publishes Its Top 50 Blockchain Firms of 2021.   ... [| Skaityti daugiau](https://cryptobriefing.com/forbes-publishes-its-top-50-blockchain-firms-of-2021/) "
      ],
      "text/plain": [
       "<IPython.core.display.Markdown object>"
      ]
     },
     "execution_count": 3,
     "metadata": {},
     "output_type": "execute_result"
    }
   ],
   "source": [
    "#hide_input\n",
    "#md('##### {}'.format(titleBTC)) \n",
    "md(\"- {}{} {}{} [| Skaityti daugiau]({}) \".format(blockchain['title'],'. ', blockchain['body'], ' ...', blockchain['url']))"
   ]
  },
  {
   "cell_type": "code",
   "execution_count": 4,
   "id": "aging-caution",
   "metadata": {
    "execution": {
     "iopub.execute_input": "2021-02-04T01:38:35.394945Z",
     "iopub.status.busy": "2021-02-04T01:38:35.394357Z",
     "iopub.status.idle": "2021-02-04T01:38:35.396570Z",
     "shell.execute_reply": "2021-02-04T01:38:35.397111Z"
    },
    "papermill": {
     "duration": 0.016808,
     "end_time": "2021-02-04T01:38:35.397244",
     "exception": false,
     "start_time": "2021-02-04T01:38:35.380436",
     "status": "completed"
    },
    "tags": []
   },
   "outputs": [
    {
     "data": {
      "text/markdown": [
       "- Bitcoin users to reach over a Billion? When?.  Regardless of its volatility, and the criticism from prominent regulators, Bitcoin has garnered attention from the likes of Elon Musk and other mainstream influencers in the past few weeks. In the words of Marshall Hayner, CEO of Metal Pay, Bitcoin is on its “fourth wave” of adoption. The chief exec believed that the asset reached [&#8230;] ... [| Skaityti daugiau](https://ambcrypto.com/bitcoin-users-to-reach-a-billion-when/) "
      ],
      "text/plain": [
       "<IPython.core.display.Markdown object>"
      ]
     },
     "execution_count": 4,
     "metadata": {},
     "output_type": "execute_result"
    }
   ],
   "source": [
    "#hide_input\n",
    "#md('##### {}'.format(titleBTC)) \n",
    "md(\"- {}{} {}{} [| Skaityti daugiau]({}) \".format(btc['title'],'. ', btc['body'], ' ...', btc['url']))"
   ]
  },
  {
   "cell_type": "code",
   "execution_count": 5,
   "id": "organic-actress",
   "metadata": {
    "execution": {
     "iopub.execute_input": "2021-02-04T01:38:35.422887Z",
     "iopub.status.busy": "2021-02-04T01:38:35.422281Z",
     "iopub.status.idle": "2021-02-04T01:38:35.425291Z",
     "shell.execute_reply": "2021-02-04T01:38:35.424804Z"
    },
    "papermill": {
     "duration": 0.017786,
     "end_time": "2021-02-04T01:38:35.425406",
     "exception": false,
     "start_time": "2021-02-04T01:38:35.407620",
     "status": "completed"
    },
    "tags": []
   },
   "outputs": [
    {
     "data": {
      "text/markdown": [
       "- Price analysis 2/3: BTC, ETH, XRP, DOT, ADA, LINK, LTC, BCH, BNB, XLM.  Ethereum's rally to a new all-time high boosted investor sentiment in Bitcoin and several altcoins are now surging toward new highs. ... [| Skaityti daugiau](https://cointelegraph.com/news/price-analysis-2-3-btc-eth-xrp-dot-ada-link-ltc-bch-bnb-xlm) "
      ],
      "text/plain": [
       "<IPython.core.display.Markdown object>"
      ]
     },
     "execution_count": 5,
     "metadata": {},
     "output_type": "execute_result"
    }
   ],
   "source": [
    "#hide_input\n",
    "#md('##### {}'.format(titleBTC)) \n",
    "md(\"- {}{} {}{} [| Skaityti daugiau]({}) \".format(xrp['title'],'. ', xrp['body'], ' ...', xrp['url']))"
   ]
  },
  {
   "cell_type": "code",
   "execution_count": 6,
   "id": "prompt-farmer",
   "metadata": {
    "execution": {
     "iopub.execute_input": "2021-02-04T01:38:35.451446Z",
     "iopub.status.busy": "2021-02-04T01:38:35.450838Z",
     "iopub.status.idle": "2021-02-04T01:38:35.454011Z",
     "shell.execute_reply": "2021-02-04T01:38:35.453556Z"
    },
    "papermill": {
     "duration": 0.018225,
     "end_time": "2021-02-04T01:38:35.454118",
     "exception": false,
     "start_time": "2021-02-04T01:38:35.435893",
     "status": "completed"
    },
    "tags": []
   },
   "outputs": [
    {
     "data": {
      "text/markdown": [
       "- Devs More Interested in DeFi Than ‘Ethereum Killers’ of Old: Report.  Blockchain developers are devoting less time to once-popular protocols like Tron and EOS in favor of newer multi-chain solutions like Polkadot, says Outlier. ... [| Skaityti daugiau](https://decrypt.co/56488/devs-defi-ethereum-killers-eos-tron) "
      ],
      "text/plain": [
       "<IPython.core.display.Markdown object>"
      ]
     },
     "execution_count": 6,
     "metadata": {},
     "output_type": "execute_result"
    }
   ],
   "source": [
    "#hide_input\n",
    "#md('##### {}'.format(titleBTC)) \n",
    "md(\"- {}{} {}{} [| Skaityti daugiau]({}) \".format(trx['title'],'. ', trx['body'], ' ...', trx['url']))"
   ]
  },
  {
   "cell_type": "code",
   "execution_count": 7,
   "id": "illegal-greece",
   "metadata": {
    "execution": {
     "iopub.execute_input": "2021-02-04T01:38:35.481071Z",
     "iopub.status.busy": "2021-02-04T01:38:35.480481Z",
     "iopub.status.idle": "2021-02-04T01:38:35.482730Z",
     "shell.execute_reply": "2021-02-04T01:38:35.483224Z"
    },
    "papermill": {
     "duration": 0.018214,
     "end_time": "2021-02-04T01:38:35.483377",
     "exception": false,
     "start_time": "2021-02-04T01:38:35.465163",
     "status": "completed"
    },
    "tags": []
   },
   "outputs": [
    {
     "data": {
      "text/markdown": [
       "- Patrick Hughes, NYC Bar Owner, Looks to Retire with Bitcoin’s Help.  One man in New York has become such a crypto fan that he’s looking to sell his businesses and retire with digital currency’s help. Patrick Hughes, 56 years old and living in New York, has two bars side by side within the state’s Hell’s Kitchen area. One is known as Hellcat Annie’s, while the other...The post Patrick Hughes, NYC Bar Owner, Looks to Retire with Bitcoin&#8217;s Help appeared first on Live Bitcoin News. ... [| Skaityti daugiau](https://www.livebitcoinnews.com/bars-for-btc-patrick-hughes-nyc-bar-owner-looks-to-retire-with-bitcoins-help/) "
      ],
      "text/plain": [
       "<IPython.core.display.Markdown object>"
      ]
     },
     "execution_count": 7,
     "metadata": {},
     "output_type": "execute_result"
    }
   ],
   "source": [
    "#hide_input\n",
    "#md('##### {}'.format(titleBTC)) \n",
    "md(\"- {}{} {}{} [| Skaityti daugiau]({}) \".format(eth['title'],'. ', eth['body'], ' ...', eth['url']))"
   ]
  },
  {
   "cell_type": "code",
   "execution_count": 8,
   "id": "sublime-lounge",
   "metadata": {
    "execution": {
     "iopub.execute_input": "2021-02-04T01:38:35.511041Z",
     "iopub.status.busy": "2021-02-04T01:38:35.510505Z",
     "iopub.status.idle": "2021-02-04T01:38:35.513877Z",
     "shell.execute_reply": "2021-02-04T01:38:35.514393Z"
    },
    "papermill": {
     "duration": 0.019834,
     "end_time": "2021-02-04T01:38:35.514515",
     "exception": false,
     "start_time": "2021-02-04T01:38:35.494681",
     "status": "completed"
    },
    "tags": []
   },
   "outputs": [
    {
     "data": {
      "text/markdown": [
       "- Price analysis 2/3: BTC, ETH, XRP, DOT, ADA, LINK, LTC, BCH, BNB, XLM.  Ethereum's rally to a new all-time high boosted investor sentiment in Bitcoin and several altcoins are now surging toward new highs. ... [| Skaityti daugiau](https://cointelegraph.com/news/price-analysis-2-3-btc-eth-xrp-dot-ada-link-ltc-bch-bnb-xlm) "
      ],
      "text/plain": [
       "<IPython.core.display.Markdown object>"
      ]
     },
     "execution_count": 8,
     "metadata": {},
     "output_type": "execute_result"
    }
   ],
   "source": [
    "#hide_input\n",
    "#md('##### {}'.format(titleBTC)) \n",
    "md(\"- {}{} {}{} [| Skaityti daugiau]({}) \".format(ada['title'],'. ', ada['body'], ' ...', ada['url']))"
   ]
  },
  {
   "cell_type": "code",
   "execution_count": 9,
   "id": "specified-ordering",
   "metadata": {
    "execution": {
     "iopub.execute_input": "2021-02-04T01:38:35.542716Z",
     "iopub.status.busy": "2021-02-04T01:38:35.542140Z",
     "iopub.status.idle": "2021-02-04T01:38:35.545563Z",
     "shell.execute_reply": "2021-02-04T01:38:35.545979Z"
    },
    "papermill": {
     "duration": 0.020481,
     "end_time": "2021-02-04T01:38:35.546124",
     "exception": false,
     "start_time": "2021-02-04T01:38:35.525643",
     "status": "completed"
    },
    "tags": []
   },
   "outputs": [
    {
     "data": {
      "text/markdown": [
       "- Bityard Launched ‘Grayscale Zone’ to Let Users Trade Coins Related to Grayscale Investment Trusts.  PRESS RELEASE. As an exchange that offers professional crypto trading services, Bityard has been focusing on the fast-changing market as well as the increasing needs of global investors. In 2020, Bityard, with Binance as the liquidity supplier, started offering crypto spot trading services with more than 30 types of trading pairs. Moreover, Bityard also launched [&#8230;] ... [| Skaityti daugiau](https://news.bitcoin.com/bityard-launched-grayscale-zone-to-let-users-trade-coins-related-to-grayscale-investment-trusts/) "
      ],
      "text/plain": [
       "<IPython.core.display.Markdown object>"
      ]
     },
     "execution_count": 9,
     "metadata": {},
     "output_type": "execute_result"
    }
   ],
   "source": [
    "#hide_input\n",
    "#md('##### {}'.format(titleBTC)) \n",
    "md(\"- {}{} {}{} [| Skaityti daugiau]({}) \".format(exchange['title'],'. ', exchange['body'], ' ...', exchange['url']))"
   ]
  },
  {
   "cell_type": "code",
   "execution_count": null,
   "id": "tender-livestock",
   "metadata": {
    "papermill": {
     "duration": 0.012137,
     "end_time": "2021-02-04T01:38:35.570205",
     "exception": false,
     "start_time": "2021-02-04T01:38:35.558068",
     "status": "completed"
    },
    "tags": []
   },
   "outputs": [],
   "source": []
  },
  {
   "cell_type": "code",
   "execution_count": null,
   "id": "appreciated-diamond",
   "metadata": {
    "papermill": {
     "duration": 0.012593,
     "end_time": "2021-02-04T01:38:35.594672",
     "exception": false,
     "start_time": "2021-02-04T01:38:35.582079",
     "status": "completed"
    },
    "tags": []
   },
   "outputs": [],
   "source": []
  },
  {
   "cell_type": "code",
   "execution_count": null,
   "id": "romance-sweden",
   "metadata": {
    "papermill": {
     "duration": 0.01134,
     "end_time": "2021-02-04T01:38:35.616979",
     "exception": false,
     "start_time": "2021-02-04T01:38:35.605639",
     "status": "completed"
    },
    "tags": []
   },
   "outputs": [],
   "source": []
  },
  {
   "cell_type": "code",
   "execution_count": null,
   "id": "dietary-statistics",
   "metadata": {
    "papermill": {
     "duration": 0.011364,
     "end_time": "2021-02-04T01:38:35.639625",
     "exception": false,
     "start_time": "2021-02-04T01:38:35.628261",
     "status": "completed"
    },
    "tags": []
   },
   "outputs": [],
   "source": []
  }
 ],
 "metadata": {
  "kernelspec": {
   "display_name": "Python 3",
   "language": "python",
   "name": "python3"
  },
  "language_info": {
   "codemirror_mode": {
    "name": "ipython",
    "version": 3
   },
   "file_extension": ".py",
   "mimetype": "text/x-python",
   "name": "python",
   "nbconvert_exporter": "python",
   "pygments_lexer": "ipython3",
   "version": "3.6.12"
  },
  "papermill": {
   "default_parameters": {},
   "duration": 11.067576,
   "end_time": "2021-02-04T01:38:36.059437",
   "environment_variables": {},
   "exception": null,
   "input_path": "Market-News.ipynb",
   "output_path": "Market-News.ipynb",
   "parameters": {},
   "start_time": "2021-02-04T01:38:24.991861",
   "version": "2.2.2"
  }
 },
 "nbformat": 4,
 "nbformat_minor": 5
}