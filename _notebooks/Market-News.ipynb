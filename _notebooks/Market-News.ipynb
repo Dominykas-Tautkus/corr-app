{
 "cells": [
  {
   "cell_type": "markdown",
   "id": "short-greensboro",
   "metadata": {
    "papermill": {
     "duration": 0.016242,
     "end_time": "2021-01-24T02:51:17.539319",
     "exception": false,
     "start_time": "2021-01-24T02:51:17.523077",
     "status": "completed"
    },
    "tags": []
   },
   "source": [
    "# Kriptovaliutų naujienos"
   ]
  },
  {
   "cell_type": "code",
   "execution_count": 1,
   "id": "functioning-knowing",
   "metadata": {
    "execution": {
     "iopub.execute_input": "2021-01-24T02:51:17.575194Z",
     "iopub.status.busy": "2021-01-24T02:51:17.574494Z",
     "iopub.status.idle": "2021-01-24T02:51:18.973550Z",
     "shell.execute_reply": "2021-01-24T02:51:18.972523Z"
    },
    "papermill": {
     "duration": 1.423208,
     "end_time": "2021-01-24T02:51:18.973833",
     "exception": false,
     "start_time": "2021-01-24T02:51:17.550625",
     "status": "completed"
    },
    "tags": []
   },
   "outputs": [],
   "source": [
    "#hide_input\n",
    "import warnings\n",
    "warnings.filterwarnings('ignore')\n",
    "from scripts.read_data import read_api\n",
    "from scripts.read_data import read_news\n",
    "from scripts.read_data import read_covid\n",
    "import matplotlib.pyplot as plt \n",
    "from IPython.display import Markdown as md"
   ]
  },
  {
   "cell_type": "code",
   "execution_count": 2,
   "id": "shared-acceptance",
   "metadata": {
    "execution": {
     "iopub.execute_input": "2021-01-24T02:51:19.006418Z",
     "iopub.status.busy": "2021-01-24T02:51:19.005743Z",
     "iopub.status.idle": "2021-01-24T02:51:26.867207Z",
     "shell.execute_reply": "2021-01-24T02:51:26.866593Z"
    },
    "papermill": {
     "duration": 7.880691,
     "end_time": "2021-01-24T02:51:26.867361",
     "exception": false,
     "start_time": "2021-01-24T02:51:18.986670",
     "status": "completed"
    },
    "tags": []
   },
   "outputs": [],
   "source": [
    "#hide_input\n",
    "blockchain = read_news('blockchain') \n",
    "btc = read_news('btc') \n",
    "xrp = read_news('xrp') \n",
    "trx = read_news('trx') \n",
    "eth = read_news('eth')  \n",
    "ada = read_news('ada')\n",
    "exchange = read_news('exchange') "
   ]
  },
  {
   "cell_type": "code",
   "execution_count": 3,
   "id": "synthetic-notion",
   "metadata": {
    "execution": {
     "iopub.execute_input": "2021-01-24T02:51:26.896324Z",
     "iopub.status.busy": "2021-01-24T02:51:26.895703Z",
     "iopub.status.idle": "2021-01-24T02:51:26.898258Z",
     "shell.execute_reply": "2021-01-24T02:51:26.898721Z"
    },
    "papermill": {
     "duration": 0.02068,
     "end_time": "2021-01-24T02:51:26.898886",
     "exception": false,
     "start_time": "2021-01-24T02:51:26.878206",
     "status": "completed"
    },
    "tags": []
   },
   "outputs": [
    {
     "data": {
      "text/markdown": [
       "- The Supreme People's Court Has Detailed the Effectiveness of Blockchain Evidence.  The Supreme People's Court of China issued a draft regulation on online handling of cases by people's courts. ... [| Skaityti daugiau](http://www.chaindd.com/3485362.html?lang=en&wxshare=1) "
      ],
      "text/plain": [
       "<IPython.core.display.Markdown object>"
      ]
     },
     "execution_count": 3,
     "metadata": {},
     "output_type": "execute_result"
    }
   ],
   "source": [
    "#hide_input\n",
    "#md('##### {}'.format(titleBTC)) \n",
    "md(\"- {}{} {}{} [| Skaityti daugiau]({}) \".format(blockchain['title'],'. ', blockchain['body'], ' ...', blockchain['url']))"
   ]
  },
  {
   "cell_type": "code",
   "execution_count": 4,
   "id": "aging-caution",
   "metadata": {
    "execution": {
     "iopub.execute_input": "2021-01-24T02:51:26.925139Z",
     "iopub.status.busy": "2021-01-24T02:51:26.924521Z",
     "iopub.status.idle": "2021-01-24T02:51:26.927991Z",
     "shell.execute_reply": "2021-01-24T02:51:26.927478Z"
    },
    "papermill": {
     "duration": 0.018535,
     "end_time": "2021-01-24T02:51:26.928125",
     "exception": false,
     "start_time": "2021-01-24T02:51:26.909590",
     "status": "completed"
    },
    "tags": []
   },
   "outputs": [
    {
     "data": {
      "text/markdown": [
       "- Aave and Chainlink hit new highs as Bitcoin price fights to hold $32K.  Chainlink and Aave soared to a new all-time high as Bitcoin bulls struggle to hold BTC price above $32,000. ... [| Skaityti daugiau](https://cointelegraph.com/news/aave-and-chainlink-hit-new-highs-as-bitcoin-price-fights-to-hold-32k) "
      ],
      "text/plain": [
       "<IPython.core.display.Markdown object>"
      ]
     },
     "execution_count": 4,
     "metadata": {},
     "output_type": "execute_result"
    }
   ],
   "source": [
    "#hide_input\n",
    "#md('##### {}'.format(titleBTC)) \n",
    "md(\"- {}{} {}{} [| Skaityti daugiau]({}) \".format(btc['title'],'. ', btc['body'], ' ...', btc['url']))"
   ]
  },
  {
   "cell_type": "code",
   "execution_count": 5,
   "id": "organic-actress",
   "metadata": {
    "execution": {
     "iopub.execute_input": "2021-01-24T02:51:26.956643Z",
     "iopub.status.busy": "2021-01-24T02:51:26.955911Z",
     "iopub.status.idle": "2021-01-24T02:51:26.960174Z",
     "shell.execute_reply": "2021-01-24T02:51:26.959685Z"
    },
    "papermill": {
     "duration": 0.021463,
     "end_time": "2021-01-24T02:51:26.960309",
     "exception": false,
     "start_time": "2021-01-24T02:51:26.938846",
     "status": "completed"
    },
    "tags": []
   },
   "outputs": [
    {
     "data": {
      "text/markdown": [
       "- Ripple price prediction – XRP/USD faces headwinds as price approaches $0.3 resistance.  TL;DR Ripple price prediction turns positively biased as upper resistance comes into the picture XRP/USD trades confidently above two-week lows Buy momentum building up as price challenges upper Bollinger Band XRP bulls are now challenging the 200-day moving average Ripple price prediction is building up to be slightly better than the broader crypto market. The […] ... [| Skaityti daugiau](https://www.cryptopolitan.com/ripple-price-prediction-price-3/) "
      ],
      "text/plain": [
       "<IPython.core.display.Markdown object>"
      ]
     },
     "execution_count": 5,
     "metadata": {},
     "output_type": "execute_result"
    }
   ],
   "source": [
    "#hide_input\n",
    "#md('##### {}'.format(titleBTC)) \n",
    "md(\"- {}{} {}{} [| Skaityti daugiau]({}) \".format(xrp['title'],'. ', xrp['body'], ' ...', xrp['url']))"
   ]
  },
  {
   "cell_type": "code",
   "execution_count": 6,
   "id": "prompt-farmer",
   "metadata": {
    "execution": {
     "iopub.execute_input": "2021-01-24T02:51:26.989507Z",
     "iopub.status.busy": "2021-01-24T02:51:26.988867Z",
     "iopub.status.idle": "2021-01-24T02:51:26.991680Z",
     "shell.execute_reply": "2021-01-24T02:51:26.992144Z"
    },
    "papermill": {
     "duration": 0.020825,
     "end_time": "2021-01-24T02:51:26.992300",
     "exception": false,
     "start_time": "2021-01-24T02:51:26.971475",
     "status": "completed"
    },
    "tags": []
   },
   "outputs": [
    {
     "data": {
      "text/markdown": [
       "- Tron, Waves, Dogecoin Price Analysis: 23 January.  Tron showed that it was likely to rise to $0.03 within the next 24 hours to test it as resistance and possibly flip it to support. Waves was quite volatile in the market, but it looked keen to head towards the $7-level. Finally, Dogecoin witnessed some slight bearish pressure over the past couple of days. [&#8230;] ... [| Skaityti daugiau](https://ambcrypto.com/tron-waves-dogecoin-price-analysis-23-january/) "
      ],
      "text/plain": [
       "<IPython.core.display.Markdown object>"
      ]
     },
     "execution_count": 6,
     "metadata": {},
     "output_type": "execute_result"
    }
   ],
   "source": [
    "#hide_input\n",
    "#md('##### {}'.format(titleBTC)) \n",
    "md(\"- {}{} {}{} [| Skaityti daugiau]({}) \".format(trx['title'],'. ', trx['body'], ' ...', trx['url']))"
   ]
  },
  {
   "cell_type": "code",
   "execution_count": 7,
   "id": "illegal-greece",
   "metadata": {
    "execution": {
     "iopub.execute_input": "2021-01-24T02:51:27.020624Z",
     "iopub.status.busy": "2021-01-24T02:51:27.020024Z",
     "iopub.status.idle": "2021-01-24T02:51:27.023678Z",
     "shell.execute_reply": "2021-01-24T02:51:27.023190Z"
    },
    "papermill": {
     "duration": 0.0198,
     "end_time": "2021-01-24T02:51:27.023813",
     "exception": false,
     "start_time": "2021-01-24T02:51:27.004013",
     "status": "completed"
    },
    "tags": []
   },
   "outputs": [
    {
     "data": {
      "text/markdown": [
       "- Early CryptoPunk Digital Collectible Sells for $762K in Ether.  Flamingo, a DAO for NFT investments, bought the ultra-rare “Alien” in a Saturday auction. ... [| Skaityti daugiau](https://www.coindesk.com/early-cryptopunk-digital-collectible-sells-for-762k-in-ether) "
      ],
      "text/plain": [
       "<IPython.core.display.Markdown object>"
      ]
     },
     "execution_count": 7,
     "metadata": {},
     "output_type": "execute_result"
    }
   ],
   "source": [
    "#hide_input\n",
    "#md('##### {}'.format(titleBTC)) \n",
    "md(\"- {}{} {}{} [| Skaityti daugiau]({}) \".format(eth['title'],'. ', eth['body'], ' ...', eth['url']))"
   ]
  },
  {
   "cell_type": "code",
   "execution_count": 8,
   "id": "sublime-lounge",
   "metadata": {
    "execution": {
     "iopub.execute_input": "2021-01-24T02:51:27.057639Z",
     "iopub.status.busy": "2021-01-24T02:51:27.056978Z",
     "iopub.status.idle": "2021-01-24T02:51:27.063213Z",
     "shell.execute_reply": "2021-01-24T02:51:27.063743Z"
    },
    "papermill": {
     "duration": 0.028217,
     "end_time": "2021-01-24T02:51:27.063910",
     "exception": false,
     "start_time": "2021-01-24T02:51:27.035693",
     "status": "completed"
    },
    "tags": []
   },
   "outputs": [
    {
     "data": {
      "text/markdown": [
       "- Bitcoin’s Price Steadies Following Huge Correction.  After a harrowing week rife with speculation about a blockchain double spending glitch, Bitcoin’s price stabilised….barely. ... [| Skaityti daugiau](https://decrypt.co/55126/bitcoins-price-steadies-following-huge-correction) "
      ],
      "text/plain": [
       "<IPython.core.display.Markdown object>"
      ]
     },
     "execution_count": 8,
     "metadata": {},
     "output_type": "execute_result"
    }
   ],
   "source": [
    "#hide_input\n",
    "#md('##### {}'.format(titleBTC)) \n",
    "md(\"- {}{} {}{} [| Skaityti daugiau]({}) \".format(ada['title'],'. ', ada['body'], ' ...', ada['url']))"
   ]
  },
  {
   "cell_type": "code",
   "execution_count": 9,
   "id": "specified-ordering",
   "metadata": {
    "execution": {
     "iopub.execute_input": "2021-01-24T02:51:27.098469Z",
     "iopub.status.busy": "2021-01-24T02:51:27.097621Z",
     "iopub.status.idle": "2021-01-24T02:51:27.099993Z",
     "shell.execute_reply": "2021-01-24T02:51:27.100435Z"
    },
    "papermill": {
     "duration": 0.023142,
     "end_time": "2021-01-24T02:51:27.100577",
     "exception": false,
     "start_time": "2021-01-24T02:51:27.077435",
     "status": "completed"
    },
    "tags": []
   },
   "outputs": [
    {
     "data": {
      "text/markdown": [
       "- Binance Coin, Augur, Compound Price Analysis: 23 January.  Binance Coin cut its losses at $38.46, with the market&#8217;s bulls looking to target a break above $41.78. REP moved between $21.73 and $20.6, but a shift in momentum towards the bearish side could see the price test its press time support level. Finally, COMP rose above its 50-SMA but it was unlikely to maintain [&#8230;] ... [| Skaityti daugiau](https://ambcrypto.com/binance-coin-augur-compound-price-analysis-23-january/) "
      ],
      "text/plain": [
       "<IPython.core.display.Markdown object>"
      ]
     },
     "execution_count": 9,
     "metadata": {},
     "output_type": "execute_result"
    }
   ],
   "source": [
    "#hide_input\n",
    "#md('##### {}'.format(titleBTC)) \n",
    "md(\"- {}{} {}{} [| Skaityti daugiau]({}) \".format(exchange['title'],'. ', exchange['body'], ' ...', exchange['url']))"
   ]
  },
  {
   "cell_type": "code",
   "execution_count": null,
   "id": "tender-livestock",
   "metadata": {
    "papermill": {
     "duration": 0.01267,
     "end_time": "2021-01-24T02:51:27.125744",
     "exception": false,
     "start_time": "2021-01-24T02:51:27.113074",
     "status": "completed"
    },
    "tags": []
   },
   "outputs": [],
   "source": []
  },
  {
   "cell_type": "code",
   "execution_count": null,
   "id": "appreciated-diamond",
   "metadata": {
    "papermill": {
     "duration": 0.013444,
     "end_time": "2021-01-24T02:51:27.151691",
     "exception": false,
     "start_time": "2021-01-24T02:51:27.138247",
     "status": "completed"
    },
    "tags": []
   },
   "outputs": [],
   "source": []
  },
  {
   "cell_type": "code",
   "execution_count": null,
   "id": "romance-sweden",
   "metadata": {
    "papermill": {
     "duration": 0.012239,
     "end_time": "2021-01-24T02:51:27.176353",
     "exception": false,
     "start_time": "2021-01-24T02:51:27.164114",
     "status": "completed"
    },
    "tags": []
   },
   "outputs": [],
   "source": []
  },
  {
   "cell_type": "code",
   "execution_count": null,
   "id": "dietary-statistics",
   "metadata": {
    "papermill": {
     "duration": 0.012448,
     "end_time": "2021-01-24T02:51:27.201263",
     "exception": false,
     "start_time": "2021-01-24T02:51:27.188815",
     "status": "completed"
    },
    "tags": []
   },
   "outputs": [],
   "source": []
  }
 ],
 "metadata": {
  "kernelspec": {
   "display_name": "Python 3",
   "language": "python",
   "name": "python3"
  },
  "language_info": {
   "codemirror_mode": {
    "name": "ipython",
    "version": 3
   },
   "file_extension": ".py",
   "mimetype": "text/x-python",
   "name": "python",
   "nbconvert_exporter": "python",
   "pygments_lexer": "ipython3",
   "version": "3.6.12"
  },
  "papermill": {
   "default_parameters": {},
   "duration": 12.350214,
   "end_time": "2021-01-24T02:51:28.567583",
   "environment_variables": {},
   "exception": null,
   "input_path": "Market-News.ipynb",
   "output_path": "Market-News.ipynb",
   "parameters": {},
   "start_time": "2021-01-24T02:51:16.217369",
   "version": "2.2.2"
  }
 },
 "nbformat": 4,
 "nbformat_minor": 5
}