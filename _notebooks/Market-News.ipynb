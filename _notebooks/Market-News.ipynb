{
 "cells": [
  {
   "cell_type": "markdown",
   "id": "short-greensboro",
   "metadata": {
    "papermill": {
     "duration": 0.022454,
     "end_time": "2021-05-16T02:25:14.182512",
     "exception": false,
     "start_time": "2021-05-16T02:25:14.160058",
     "status": "completed"
    },
    "tags": []
   },
   "source": [
    "# Kriptovaliutų naujienos"
   ]
  },
  {
   "cell_type": "code",
   "execution_count": 1,
   "id": "functioning-knowing",
   "metadata": {
    "execution": {
     "iopub.execute_input": "2021-05-16T02:25:14.220108Z",
     "iopub.status.busy": "2021-05-16T02:25:14.219450Z",
     "iopub.status.idle": "2021-05-16T02:25:15.423693Z",
     "shell.execute_reply": "2021-05-16T02:25:15.422728Z"
    },
    "papermill": {
     "duration": 1.22633,
     "end_time": "2021-05-16T02:25:15.423936",
     "exception": false,
     "start_time": "2021-05-16T02:25:14.197606",
     "status": "completed"
    },
    "tags": []
   },
   "outputs": [],
   "source": [
    "#hide_input\n",
    "import warnings\n",
    "warnings.filterwarnings('ignore')\n",
    "from scripts.read_data import read_api\n",
    "from scripts.read_data import read_news\n",
    "from scripts.read_data import read_covid\n",
    "import matplotlib.pyplot as plt \n",
    "from IPython.display import Markdown as md"
   ]
  },
  {
   "cell_type": "code",
   "execution_count": 2,
   "id": "shared-acceptance",
   "metadata": {
    "execution": {
     "iopub.execute_input": "2021-05-16T02:25:15.451902Z",
     "iopub.status.busy": "2021-05-16T02:25:15.451410Z",
     "iopub.status.idle": "2021-05-16T02:25:23.861226Z",
     "shell.execute_reply": "2021-05-16T02:25:23.861729Z"
    },
    "papermill": {
     "duration": 8.426255,
     "end_time": "2021-05-16T02:25:23.861899",
     "exception": false,
     "start_time": "2021-05-16T02:25:15.435644",
     "status": "completed"
    },
    "tags": []
   },
   "outputs": [],
   "source": [
    "#hide_input\n",
    "blockchain = read_news('blockchain') \n",
    "btc = read_news('btc') \n",
    "xrp = read_news('xrp') \n",
    "trx = read_news('trx') \n",
    "eth = read_news('eth')  \n",
    "ada = read_news('ada')\n",
    "exchange = read_news('exchange') "
   ]
  },
  {
   "cell_type": "code",
   "execution_count": 3,
   "id": "synthetic-notion",
   "metadata": {
    "execution": {
     "iopub.execute_input": "2021-05-16T02:25:23.888282Z",
     "iopub.status.busy": "2021-05-16T02:25:23.887774Z",
     "iopub.status.idle": "2021-05-16T02:25:23.893929Z",
     "shell.execute_reply": "2021-05-16T02:25:23.894289Z"
    },
    "papermill": {
     "duration": 0.022461,
     "end_time": "2021-05-16T02:25:23.894409",
     "exception": false,
     "start_time": "2021-05-16T02:25:23.871948",
     "status": "completed"
    },
    "tags": []
   },
   "outputs": [
    {
     "data": {
      "text/markdown": [
       "- Increasing Popularity of Crypto Pressures Samsung to Add Hardware Wallet Support to Its Galaxy Smartphones.  South Korean tech giant Samsung has added support for third-party cryptocurrency hardware wallets to its Galaxy smartphones. These wallets including the Ledger Nano S and Nano X. According to an announcement the company published, its smartphones supporting the Samsung Blockchain Wallet – which is available on the Samsung Galaxy store – can now be linked […] ... [| Skaityti daugiau](https://www.cryptoglobe.com/latest/2021/05/increasing-popularity-of-crypto-pressures-samsung-to-add-hardware-wallet-support-to-its-galaxy-smartphones/) "
      ],
      "text/plain": [
       "<IPython.core.display.Markdown object>"
      ]
     },
     "execution_count": 3,
     "metadata": {},
     "output_type": "execute_result"
    }
   ],
   "source": [
    "#hide_input\n",
    "#md('##### {}'.format(titleBTC)) \n",
    "md(\"- {}{} {}{} [| Skaityti daugiau]({}) \".format(blockchain['title'],'. ', blockchain['body'], ' ...', blockchain['url']))"
   ]
  },
  {
   "cell_type": "code",
   "execution_count": 4,
   "id": "aging-caution",
   "metadata": {
    "execution": {
     "iopub.execute_input": "2021-05-16T02:25:23.915948Z",
     "iopub.status.busy": "2021-05-16T02:25:23.915414Z",
     "iopub.status.idle": "2021-05-16T02:25:23.921815Z",
     "shell.execute_reply": "2021-05-16T02:25:23.922178Z"
    },
    "papermill": {
     "duration": 0.018018,
     "end_time": "2021-05-16T02:25:23.922316",
     "exception": false,
     "start_time": "2021-05-16T02:25:23.904298",
     "status": "completed"
    },
    "tags": []
   },
   "outputs": [
    {
     "data": {
      "text/markdown": [
       "- Square CEO Says ‘Bitcoin Changes Everything for the Better’.  The CEO of Square Inc. says that &#8220;bitcoin changes everything for the better.&#8221; His comment followed one from Square&#8217;s CFO reaffirming the company&#8217;s corporate bitcoin strategy. The CEO also made a commitment to &#8220;forever work to make bitcoin better.&#8221; Meanwhile, Square and Ark Invest have published a report arguing &#8220;for bitcoin as a key driver [&#8230;] ... [| Skaityti daugiau](https://news.bitcoin.com/square-ceo-bitcoin-changes-everything-for-the-better/) "
      ],
      "text/plain": [
       "<IPython.core.display.Markdown object>"
      ]
     },
     "execution_count": 4,
     "metadata": {},
     "output_type": "execute_result"
    }
   ],
   "source": [
    "#hide_input\n",
    "#md('##### {}'.format(titleBTC)) \n",
    "md(\"- {}{} {}{} [| Skaityti daugiau]({}) \".format(btc['title'],'. ', btc['body'], ' ...', btc['url']))"
   ]
  },
  {
   "cell_type": "code",
   "execution_count": 5,
   "id": "organic-actress",
   "metadata": {
    "execution": {
     "iopub.execute_input": "2021-05-16T02:25:23.945538Z",
     "iopub.status.busy": "2021-05-16T02:25:23.945070Z",
     "iopub.status.idle": "2021-05-16T02:25:23.947939Z",
     "shell.execute_reply": "2021-05-16T02:25:23.948379Z"
    },
    "papermill": {
     "duration": 0.016134,
     "end_time": "2021-05-16T02:25:23.948509",
     "exception": false,
     "start_time": "2021-05-16T02:25:23.932375",
     "status": "completed"
    },
    "tags": []
   },
   "outputs": [
    {
     "data": {
      "text/markdown": [
       "- XRP, MATIC, Dogecoin Price Analysis: 15 May.  XRP threatened to fall back towards the $1-mark in case of a breakdown from the $1.22-support. The Fibonacci Extension tool presented a few targets around $2 for MATIC. Finally, Dogecoin was unable to break above the $0.569-resistance and selling pressure returned to its market. XRP Weekly losses amounted to 11% in the XRP market, at [&#8230;] ... [| Skaityti daugiau](https://ambcrypto.com/xrp-matic-dogecoin-price-analysis-15-may/) "
      ],
      "text/plain": [
       "<IPython.core.display.Markdown object>"
      ]
     },
     "execution_count": 5,
     "metadata": {},
     "output_type": "execute_result"
    }
   ],
   "source": [
    "#hide_input\n",
    "#md('##### {}'.format(titleBTC)) \n",
    "md(\"- {}{} {}{} [| Skaityti daugiau]({}) \".format(xrp['title'],'. ', xrp['body'], ' ...', xrp['url']))"
   ]
  },
  {
   "cell_type": "code",
   "execution_count": 6,
   "id": "prompt-farmer",
   "metadata": {
    "execution": {
     "iopub.execute_input": "2021-05-16T02:25:23.970821Z",
     "iopub.status.busy": "2021-05-16T02:25:23.970392Z",
     "iopub.status.idle": "2021-05-16T02:25:23.973265Z",
     "shell.execute_reply": "2021-05-16T02:25:23.972835Z"
    },
    "papermill": {
     "duration": 0.015861,
     "end_time": "2021-05-16T02:25:23.973370",
     "exception": false,
     "start_time": "2021-05-16T02:25:23.957509",
     "status": "completed"
    },
    "tags": []
   },
   "outputs": [
    {
     "data": {
      "text/markdown": [
       "- Tron, Monero, BitTorrent Price Analysis: 15 May.  With Bitcoin trading at around $48,000 and Ethereum trading between $3,900-3950, bearish sentiment was driving most alts at press time. Similarly, selling pressure was evident on the charts for the likes of Tron, BitTorrent. and Monero, with each alt projecting dips at various support levels. Tron [TRX] While some alts were in recovery mode after [&#8230;] ... [| Skaityti daugiau](https://ambcrypto.com/tron-monero-bittorrent-price-analysis-15-may/) "
      ],
      "text/plain": [
       "<IPython.core.display.Markdown object>"
      ]
     },
     "execution_count": 6,
     "metadata": {},
     "output_type": "execute_result"
    }
   ],
   "source": [
    "#hide_input\n",
    "#md('##### {}'.format(titleBTC)) \n",
    "md(\"- {}{} {}{} [| Skaityti daugiau]({}) \".format(trx['title'],'. ', trx['body'], ' ...', trx['url']))"
   ]
  },
  {
   "cell_type": "code",
   "execution_count": 7,
   "id": "illegal-greece",
   "metadata": {
    "execution": {
     "iopub.execute_input": "2021-05-16T02:25:23.997463Z",
     "iopub.status.busy": "2021-05-16T02:25:23.996991Z",
     "iopub.status.idle": "2021-05-16T02:25:23.999704Z",
     "shell.execute_reply": "2021-05-16T02:25:24.000196Z"
    },
    "papermill": {
     "duration": 0.016496,
     "end_time": "2021-05-16T02:25:24.000321",
     "exception": false,
     "start_time": "2021-05-16T02:25:23.983825",
     "status": "completed"
    },
    "tags": []
   },
   "outputs": [
    {
     "data": {
      "text/markdown": [
       "- Ethereum is ‘getting there,’ but how so?.  Ethereum&#8217;s (ETH) surge in the first quarter of 2021 has been the hot topic of discussion since the commencement of this year. In fact, this year&#8217;s first-quarter earnings alone were more than that of its previous years combined. What&#8217;s more, understandably, Ethereum co-founder Vitalik Buterin became the world&#8217;s youngest crypto billionaire post the surge in [&#8230;] ... [| Skaityti daugiau](https://ambcrypto.com/ethereum-is-getting-there-but-how-so/) "
      ],
      "text/plain": [
       "<IPython.core.display.Markdown object>"
      ]
     },
     "execution_count": 7,
     "metadata": {},
     "output_type": "execute_result"
    }
   ],
   "source": [
    "#hide_input\n",
    "#md('##### {}'.format(titleBTC)) \n",
    "md(\"- {}{} {}{} [| Skaityti daugiau]({}) \".format(eth['title'],'. ', eth['body'], ' ...', eth['url']))"
   ]
  },
  {
   "cell_type": "code",
   "execution_count": 8,
   "id": "sublime-lounge",
   "metadata": {
    "execution": {
     "iopub.execute_input": "2021-05-16T02:25:24.026305Z",
     "iopub.status.busy": "2021-05-16T02:25:24.024733Z",
     "iopub.status.idle": "2021-05-16T02:25:24.028412Z",
     "shell.execute_reply": "2021-05-16T02:25:24.029045Z"
    },
    "papermill": {
     "duration": 0.018387,
     "end_time": "2021-05-16T02:25:24.029213",
     "exception": false,
     "start_time": "2021-05-16T02:25:24.010826",
     "status": "completed"
    },
    "tags": []
   },
   "outputs": [
    {
     "data": {
      "text/markdown": [
       "- Cardano To Double in Value Amid Huge Breakout, Predicts High-Profile Analyst.  A widely-followed crypto strategist and trader is predicting a 100% rise in Cardano&#8217;s (ADA) price following the smart contract platform&#8217;s ascent to a new all-time high. In a new tweet, the analyst known as Kaleo tells his 292,700 followers that he believes (ADA) is gearing up for a massive rally after topping its 2018 bull [&#8230;]The post Cardano To Double in Value Amid Huge Breakout, Predicts High-Profile Analyst appeared first on The Daily Hodl. ... [| Skaityti daugiau](https://dailyhodl.com/2021/05/15/cardano-to-double-in-value-amid-huge-breakout-predicts-high-profile-analyst/) "
      ],
      "text/plain": [
       "<IPython.core.display.Markdown object>"
      ]
     },
     "execution_count": 8,
     "metadata": {},
     "output_type": "execute_result"
    }
   ],
   "source": [
    "#hide_input\n",
    "#md('##### {}'.format(titleBTC)) \n",
    "md(\"- {}{} {}{} [| Skaityti daugiau]({}) \".format(ada['title'],'. ', ada['body'], ' ...', ada['url']))"
   ]
  },
  {
   "cell_type": "code",
   "execution_count": 9,
   "id": "specified-ordering",
   "metadata": {
    "execution": {
     "iopub.execute_input": "2021-05-16T02:25:24.058053Z",
     "iopub.status.busy": "2021-05-16T02:25:24.057255Z",
     "iopub.status.idle": "2021-05-16T02:25:24.061994Z",
     "shell.execute_reply": "2021-05-16T02:25:24.061352Z"
    },
    "papermill": {
     "duration": 0.021595,
     "end_time": "2021-05-16T02:25:24.062149",
     "exception": false,
     "start_time": "2021-05-16T02:25:24.040554",
     "status": "completed"
    },
    "tags": []
   },
   "outputs": [
    {
     "data": {
      "text/markdown": [
       "- DeFi growth helps push crypto’s share of the global money supply above 2%.  The cryptocurrency market now accounts for 2% of the global money supply as DeFi and stablecoin growth point to steady increases in adoption. ... [| Skaityti daugiau](https://cointelegraph.com/news/defi-growth-helps-push-crypto-s-share-of-the-global-money-supply-above-2) "
      ],
      "text/plain": [
       "<IPython.core.display.Markdown object>"
      ]
     },
     "execution_count": 9,
     "metadata": {},
     "output_type": "execute_result"
    }
   ],
   "source": [
    "#hide_input\n",
    "#md('##### {}'.format(titleBTC)) \n",
    "md(\"- {}{} {}{} [| Skaityti daugiau]({}) \".format(exchange['title'],'. ', exchange['body'], ' ...', exchange['url']))"
   ]
  },
  {
   "cell_type": "code",
   "execution_count": null,
   "id": "tender-livestock",
   "metadata": {
    "papermill": {
     "duration": 0.012607,
     "end_time": "2021-05-16T02:25:24.087521",
     "exception": false,
     "start_time": "2021-05-16T02:25:24.074914",
     "status": "completed"
    },
    "tags": []
   },
   "outputs": [],
   "source": []
  },
  {
   "cell_type": "code",
   "execution_count": null,
   "id": "appreciated-diamond",
   "metadata": {
    "papermill": {
     "duration": 0.012602,
     "end_time": "2021-05-16T02:25:24.112954",
     "exception": false,
     "start_time": "2021-05-16T02:25:24.100352",
     "status": "completed"
    },
    "tags": []
   },
   "outputs": [],
   "source": []
  },
  {
   "cell_type": "code",
   "execution_count": null,
   "id": "romance-sweden",
   "metadata": {
    "papermill": {
     "duration": 0.012641,
     "end_time": "2021-05-16T02:25:24.138250",
     "exception": false,
     "start_time": "2021-05-16T02:25:24.125609",
     "status": "completed"
    },
    "tags": []
   },
   "outputs": [],
   "source": []
  },
  {
   "cell_type": "code",
   "execution_count": null,
   "id": "dietary-statistics",
   "metadata": {
    "papermill": {
     "duration": 0.012711,
     "end_time": "2021-05-16T02:25:24.163462",
     "exception": false,
     "start_time": "2021-05-16T02:25:24.150751",
     "status": "completed"
    },
    "tags": []
   },
   "outputs": [],
   "source": []
  }
 ],
 "metadata": {
  "kernelspec": {
   "display_name": "Python 3",
   "language": "python",
   "name": "python3"
  },
  "language_info": {
   "codemirror_mode": {
    "name": "ipython",
    "version": 3
   },
   "file_extension": ".py",
   "mimetype": "text/x-python",
   "name": "python",
   "nbconvert_exporter": "python",
   "pygments_lexer": "ipython3",
   "version": "3.6.13"
  },
  "papermill": {
   "default_parameters": {},
   "duration": 12.311016,
   "end_time": "2021-05-16T02:25:25.402570",
   "environment_variables": {},
   "exception": null,
   "input_path": "Market-News.ipynb",
   "output_path": "Market-News.ipynb",
   "parameters": {},
   "start_time": "2021-05-16T02:25:13.091554",
   "version": "2.2.2"
  }
 },
 "nbformat": 4,
 "nbformat_minor": 5
}