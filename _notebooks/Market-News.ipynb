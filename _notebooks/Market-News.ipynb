{
 "cells": [
  {
   "cell_type": "markdown",
   "metadata": {
    "papermill": {
     "duration": 0.012751,
     "end_time": "2021-01-07T13:27:15.924413",
     "exception": false,
     "start_time": "2021-01-07T13:27:15.911662",
     "status": "completed"
    },
    "tags": []
   },
   "source": [
    "# Kriptovaliutų naujienos"
   ]
  },
  {
   "cell_type": "code",
   "execution_count": 1,
   "metadata": {
    "execution": {
     "iopub.execute_input": "2021-01-07T13:27:15.957776Z",
     "iopub.status.busy": "2021-01-07T13:27:15.957061Z",
     "iopub.status.idle": "2021-01-07T13:27:17.456170Z",
     "shell.execute_reply": "2021-01-07T13:27:17.455504Z"
    },
    "papermill": {
     "duration": 1.519884,
     "end_time": "2021-01-07T13:27:17.456404",
     "exception": false,
     "start_time": "2021-01-07T13:27:15.936520",
     "status": "completed"
    },
    "tags": []
   },
   "outputs": [],
   "source": [
    "#hide_input\n",
    "import warnings\n",
    "warnings.filterwarnings('ignore')\n",
    "from scripts.read_data import read_api\n",
    "from scripts.read_data import read_news\n",
    "from scripts.read_data import read_covid\n",
    "import matplotlib.pyplot as plt \n",
    "from IPython.display import Markdown as md"
   ]
  },
  {
   "cell_type": "code",
   "execution_count": 2,
   "metadata": {
    "execution": {
     "iopub.execute_input": "2021-01-07T13:27:17.484038Z",
     "iopub.status.busy": "2021-01-07T13:27:17.482858Z",
     "iopub.status.idle": "2021-01-07T13:27:25.877304Z",
     "shell.execute_reply": "2021-01-07T13:27:25.876224Z"
    },
    "papermill": {
     "duration": 8.410896,
     "end_time": "2021-01-07T13:27:25.877460",
     "exception": false,
     "start_time": "2021-01-07T13:27:17.466564",
     "status": "completed"
    },
    "tags": []
   },
   "outputs": [],
   "source": [
    "#hide_input\n",
    "blockchain = read_news('blockchain') \n",
    "btc = read_news('btc') \n",
    "xrp = read_news('xrp') \n",
    "trx = read_news('trx') \n",
    "eth = read_news('eth')  \n",
    "ada = read_news('ada')\n",
    "exchange = read_news('exchange') "
   ]
  },
  {
   "cell_type": "code",
   "execution_count": 3,
   "metadata": {
    "execution": {
     "iopub.execute_input": "2021-01-07T13:27:25.903243Z",
     "iopub.status.busy": "2021-01-07T13:27:25.902525Z",
     "iopub.status.idle": "2021-01-07T13:27:25.907227Z",
     "shell.execute_reply": "2021-01-07T13:27:25.907881Z"
    },
    "papermill": {
     "duration": 0.020497,
     "end_time": "2021-01-07T13:27:25.908043",
     "exception": false,
     "start_time": "2021-01-07T13:27:25.887546",
     "status": "completed"
    },
    "tags": []
   },
   "outputs": [
    {
     "data": {
      "text/markdown": [
       "- Here’s What Ripple Can Do To Save XRP, According to Crypto Lawyer Steven Palley.  Ripple&#8217;s best path forward does not involve a lengthy courtroom battle with the U.S. Securities and Exchange Commission (SEC), according to a prominent crypto lawyer. Stephen Palley, a blockchain and digital currency lawyer at Anderson Kill, says the notion that the San Francisco payments firm could succeed in court and create a new legal test [&#8230;]The post Here&#8217;s What Ripple Can Do To Save XRP, According to Crypto Lawyer Steven Palley appeared first on The Daily Hodl. ... [| Skaityti daugiau](https://dailyhodl.com/2021/01/07/heres-what-ripple-can-do-to-save-xrp-according-to-crypto-lawyer-steven-palley/) "
      ],
      "text/plain": [
       "<IPython.core.display.Markdown object>"
      ]
     },
     "execution_count": 3,
     "metadata": {},
     "output_type": "execute_result"
    }
   ],
   "source": [
    "#hide_input\n",
    "#md('##### {}'.format(titleBTC)) \n",
    "md(\"- {}{} {}{} [| Skaityti daugiau]({}) \".format(blockchain['title'],'. ', blockchain['body'], ' ...', blockchain['url']))"
   ]
  },
  {
   "cell_type": "code",
   "execution_count": 4,
   "metadata": {
    "execution": {
     "iopub.execute_input": "2021-01-07T13:27:25.933466Z",
     "iopub.status.busy": "2021-01-07T13:27:25.932691Z",
     "iopub.status.idle": "2021-01-07T13:27:25.935429Z",
     "shell.execute_reply": "2021-01-07T13:27:25.936071Z"
    },
    "papermill": {
     "duration": 0.018273,
     "end_time": "2021-01-07T13:27:25.936257",
     "exception": false,
     "start_time": "2021-01-07T13:27:25.917984",
     "status": "completed"
    },
    "tags": []
   },
   "outputs": [
    {
     "data": {
      "text/markdown": [
       "- Crypto roundup: Market cap tops $1T, PayPal invests in startup, CME Group business gains.  Bitcoin (BTC-USD) has hit another record high, currently sitting at $38.4K. One week ago, it had never been above $30K. A number of altcoins have had even bigger rallies, led by Ether (ETH-USD), whose price has doubled since Christmas (but still hasn't surpassed its record of three years ago).The total value of all cryptocurrencies has now topped $1T vs. $760B at the previous market top in late 2017. Bitcoin accounts for the majority of this with a current market cap just north of $700B, and Ethereum's market cap is $138B.Sitting in high cotton is CME Group (CME), whose open interest in bitcoin futures of $2.1B is tops among exchanges. Total global open interest is $11B vs $3B one year ago.PayPal (PYPL) is adding to its crypto bet with an investment in Utah-based Taxbit - a company helping crypto users figure out taxes on their holdings. Other investors in Taxbit include ... [| Skaityti daugiau](https://seekingalpha.com/news/3649571-crypto-roundup-market-cap-tops-1t-paypal-invests-in-startup-cme-group-business-gains?utm_source=cryptocompare.com&utm_medium=referral) "
      ],
      "text/plain": [
       "<IPython.core.display.Markdown object>"
      ]
     },
     "execution_count": 4,
     "metadata": {},
     "output_type": "execute_result"
    }
   ],
   "source": [
    "#hide_input\n",
    "#md('##### {}'.format(titleBTC)) \n",
    "md(\"- {}{} {}{} [| Skaityti daugiau]({}) \".format(btc['title'],'. ', btc['body'], ' ...', btc['url']))"
   ]
  },
  {
   "cell_type": "code",
   "execution_count": 5,
   "metadata": {
    "execution": {
     "iopub.execute_input": "2021-01-07T13:27:25.962170Z",
     "iopub.status.busy": "2021-01-07T13:27:25.961458Z",
     "iopub.status.idle": "2021-01-07T13:27:25.964470Z",
     "shell.execute_reply": "2021-01-07T13:27:25.965033Z"
    },
    "papermill": {
     "duration": 0.018709,
     "end_time": "2021-01-07T13:27:25.965181",
     "exception": false,
     "start_time": "2021-01-07T13:27:25.946472",
     "status": "completed"
    },
    "tags": []
   },
   "outputs": [
    {
     "data": {
      "text/markdown": [
       "- XRP Price Jumps Over 50% as Community Signs Petition, Airdropped FLR Token Starts Trading.  The price of XRP has jumped by more than 50% in the last 24 hours as the cryptocurrency’s community has rallied to support the token through a petition, and the Spark (FLR) token airdropped to holders has started trading on exchanges. The price of XRP dropped after the U.S. Securities and Exchange commission’s (SEC) announced, […] ... [| Skaityti daugiau](https://www.cryptoglobe.com/latest/2021/01/xrp-price-jumps-over-50-as-community-signs-petition-airdropped-flr-token-starts-trading/) "
      ],
      "text/plain": [
       "<IPython.core.display.Markdown object>"
      ]
     },
     "execution_count": 5,
     "metadata": {},
     "output_type": "execute_result"
    }
   ],
   "source": [
    "#hide_input\n",
    "#md('##### {}'.format(titleBTC)) \n",
    "md(\"- {}{} {}{} [| Skaityti daugiau]({}) \".format(xrp['title'],'. ', xrp['body'], ' ...', xrp['url']))"
   ]
  },
  {
   "cell_type": "code",
   "execution_count": 6,
   "metadata": {
    "execution": {
     "iopub.execute_input": "2021-01-07T13:27:25.991515Z",
     "iopub.status.busy": "2021-01-07T13:27:25.990678Z",
     "iopub.status.idle": "2021-01-07T13:27:25.996706Z",
     "shell.execute_reply": "2021-01-07T13:27:25.997238Z"
    },
    "papermill": {
     "duration": 0.021432,
     "end_time": "2021-01-07T13:27:25.997385",
     "exception": false,
     "start_time": "2021-01-07T13:27:25.975953",
     "status": "completed"
    },
    "tags": []
   },
   "outputs": [
    {
     "data": {
      "text/markdown": [
       "- XRP, Tron, Zcash Price Analysis: 07 January.  XRP appeared to have reversed its month-long downtrend, but since many exchanges are set on delisting the cryptocurrency over the next few weeks, some selling pressure may be incoming. Tron registered a sharp move to the upside and tested the resistance at $0.03, while Zcash noted consistent selling and was unlikely to rise past $71. [&#8230;] ... [| Skaityti daugiau](https://ambcrypto.com/xrp-tron-zcash-price-analysis-07-january/) "
      ],
      "text/plain": [
       "<IPython.core.display.Markdown object>"
      ]
     },
     "execution_count": 6,
     "metadata": {},
     "output_type": "execute_result"
    }
   ],
   "source": [
    "#hide_input\n",
    "#md('##### {}'.format(titleBTC)) \n",
    "md(\"- {}{} {}{} [| Skaityti daugiau]({}) \".format(trx['title'],'. ', trx['body'], ' ...', trx['url']))"
   ]
  },
  {
   "cell_type": "code",
   "execution_count": 7,
   "metadata": {
    "execution": {
     "iopub.execute_input": "2021-01-07T13:27:26.025372Z",
     "iopub.status.busy": "2021-01-07T13:27:26.024267Z",
     "iopub.status.idle": "2021-01-07T13:27:26.028009Z",
     "shell.execute_reply": "2021-01-07T13:27:26.028605Z"
    },
    "papermill": {
     "duration": 0.020219,
     "end_time": "2021-01-07T13:27:26.028749",
     "exception": false,
     "start_time": "2021-01-07T13:27:26.008530",
     "status": "completed"
    },
    "tags": []
   },
   "outputs": [
    {
     "data": {
      "text/markdown": [
       "- How to Play Sorare: Beginner’s Guide to Ethereum’s Fantasy Soccer League.   ... [| Skaityti daugiau](https://cryptobriefing.com/play-sorare-beginners-guide-ethereum-fantasy-soccer/) "
      ],
      "text/plain": [
       "<IPython.core.display.Markdown object>"
      ]
     },
     "execution_count": 7,
     "metadata": {},
     "output_type": "execute_result"
    }
   ],
   "source": [
    "#hide_input\n",
    "#md('##### {}'.format(titleBTC)) \n",
    "md(\"- {}{} {}{} [| Skaityti daugiau]({}) \".format(eth['title'],'. ', eth['body'], ' ...', eth['url']))"
   ]
  },
  {
   "cell_type": "code",
   "execution_count": 8,
   "metadata": {
    "execution": {
     "iopub.execute_input": "2021-01-07T13:27:26.056366Z",
     "iopub.status.busy": "2021-01-07T13:27:26.055679Z",
     "iopub.status.idle": "2021-01-07T13:27:26.062453Z",
     "shell.execute_reply": "2021-01-07T13:27:26.061851Z"
    },
    "papermill": {
     "duration": 0.022193,
     "end_time": "2021-01-07T13:27:26.062580",
     "exception": false,
     "start_time": "2021-01-07T13:27:26.040387",
     "status": "completed"
    },
    "tags": []
   },
   "outputs": [
    {
     "data": {
      "text/markdown": [
       "- Cardano (ADA) Price Shoots up Another 30%, Is the New All-Time High Incoming!.  The post Cardano (ADA) Price Shoots up Another 30%, Is the New All-Time High Incoming! appeared first on Coinpedia - Fintech & Cryptocurreny News Media| Crypto GuideWill ADA price Hit $1? As Coinpedia reported earlier the ADA price is strongly heading towards $0.35, the price is expected to hit the target anytime from now. The massive bull rally of nearly 30 percent yet again for the second consecutive day has geared up the anticipation of forming a new all-time high very … ... [| Skaityti daugiau](https://coinpedia.org/news/cardano-ada-price-shoots-up-all-time-high/) "
      ],
      "text/plain": [
       "<IPython.core.display.Markdown object>"
      ]
     },
     "execution_count": 8,
     "metadata": {},
     "output_type": "execute_result"
    }
   ],
   "source": [
    "#hide_input\n",
    "#md('##### {}'.format(titleBTC)) \n",
    "md(\"- {}{} {}{} [| Skaityti daugiau]({}) \".format(ada['title'],'. ', ada['body'], ' ...', ada['url']))"
   ]
  },
  {
   "cell_type": "code",
   "execution_count": 9,
   "metadata": {
    "execution": {
     "iopub.execute_input": "2021-01-07T13:27:26.090053Z",
     "iopub.status.busy": "2021-01-07T13:27:26.089299Z",
     "iopub.status.idle": "2021-01-07T13:27:26.093180Z",
     "shell.execute_reply": "2021-01-07T13:27:26.093822Z"
    },
    "papermill": {
     "duration": 0.019847,
     "end_time": "2021-01-07T13:27:26.094033",
     "exception": false,
     "start_time": "2021-01-07T13:27:26.074186",
     "status": "completed"
    },
    "tags": []
   },
   "outputs": [
    {
     "data": {
      "text/markdown": [
       "- XRP Price Jumps Over 50% as Community Signs Petition, Airdropped FLR Token Starts Trading.  The price of XRP has jumped by more than 50% in the last 24 hours as the cryptocurrency’s community has rallied to support the token through a petition, and the Spark (FLR) token airdropped to holders has started trading on exchanges. The price of XRP dropped after the U.S. Securities and Exchange commission’s (SEC) announced, […] ... [| Skaityti daugiau](https://www.cryptoglobe.com/latest/2021/01/xrp-price-jumps-over-50-as-community-signs-petition-airdropped-flr-token-starts-trading/) "
      ],
      "text/plain": [
       "<IPython.core.display.Markdown object>"
      ]
     },
     "execution_count": 9,
     "metadata": {},
     "output_type": "execute_result"
    }
   ],
   "source": [
    "#hide_input\n",
    "#md('##### {}'.format(titleBTC)) \n",
    "md(\"- {}{} {}{} [| Skaityti daugiau]({}) \".format(exchange['title'],'. ', exchange['body'], ' ...', exchange['url']))"
   ]
  },
  {
   "cell_type": "code",
   "execution_count": null,
   "metadata": {
    "papermill": {
     "duration": 0.0123,
     "end_time": "2021-01-07T13:27:26.118732",
     "exception": false,
     "start_time": "2021-01-07T13:27:26.106432",
     "status": "completed"
    },
    "tags": []
   },
   "outputs": [],
   "source": []
  },
  {
   "cell_type": "code",
   "execution_count": null,
   "metadata": {
    "papermill": {
     "duration": 0.012416,
     "end_time": "2021-01-07T13:27:26.143459",
     "exception": false,
     "start_time": "2021-01-07T13:27:26.131043",
     "status": "completed"
    },
    "tags": []
   },
   "outputs": [],
   "source": []
  }
 ],
 "metadata": {
  "kernelspec": {
   "display_name": "Python 3",
   "language": "python",
   "name": "python3"
  },
  "language_info": {
   "codemirror_mode": {
    "name": "ipython",
    "version": 3
   },
   "file_extension": ".py",
   "mimetype": "text/x-python",
   "name": "python",
   "nbconvert_exporter": "python",
   "pygments_lexer": "ipython3",
   "version": "3.6.12"
  },
  "papermill": {
   "default_parameters": {},
   "duration": 11.798979,
   "end_time": "2021-01-07T13:27:26.562994",
   "environment_variables": {},
   "exception": null,
   "input_path": "Market-News.ipynb",
   "output_path": "Market-News.ipynb",
   "parameters": {},
   "start_time": "2021-01-07T13:27:14.764015",
   "version": "2.2.2"
  }
 },
 "nbformat": 4,
 "nbformat_minor": 4
}