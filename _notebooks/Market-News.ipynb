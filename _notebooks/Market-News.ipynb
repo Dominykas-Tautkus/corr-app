{
 "cells": [
  {
   "cell_type": "markdown",
   "id": "short-greensboro",
   "metadata": {
    "papermill": {
     "duration": 0.01807,
     "end_time": "2021-06-12T01:57:01.446407",
     "exception": false,
     "start_time": "2021-06-12T01:57:01.428337",
     "status": "completed"
    },
    "tags": []
   },
   "source": [
    "# Kriptovaliutų naujienos"
   ]
  },
  {
   "cell_type": "code",
   "execution_count": 1,
   "id": "functioning-knowing",
   "metadata": {
    "execution": {
     "iopub.execute_input": "2021-06-12T01:57:01.482866Z",
     "iopub.status.busy": "2021-06-12T01:57:01.482235Z",
     "iopub.status.idle": "2021-06-12T01:57:02.820279Z",
     "shell.execute_reply": "2021-06-12T01:57:02.819267Z"
    },
    "papermill": {
     "duration": 1.362788,
     "end_time": "2021-06-12T01:57:02.820428",
     "exception": false,
     "start_time": "2021-06-12T01:57:01.457640",
     "status": "completed"
    },
    "tags": []
   },
   "outputs": [],
   "source": [
    "#hide_input\n",
    "import warnings\n",
    "warnings.filterwarnings('ignore')\n",
    "from scripts.read_data import read_api\n",
    "from scripts.read_data import read_news\n",
    "from scripts.read_data import read_covid\n",
    "import matplotlib.pyplot as plt \n",
    "from IPython.display import Markdown as md"
   ]
  },
  {
   "cell_type": "code",
   "execution_count": 2,
   "id": "shared-acceptance",
   "metadata": {
    "execution": {
     "iopub.execute_input": "2021-06-12T01:57:02.847443Z",
     "iopub.status.busy": "2021-06-12T01:57:02.846393Z",
     "iopub.status.idle": "2021-06-12T01:57:09.385797Z",
     "shell.execute_reply": "2021-06-12T01:57:09.384782Z"
    },
    "papermill": {
     "duration": 6.55537,
     "end_time": "2021-06-12T01:57:09.385938",
     "exception": false,
     "start_time": "2021-06-12T01:57:02.830568",
     "status": "completed"
    },
    "tags": []
   },
   "outputs": [],
   "source": [
    "#hide_input\n",
    "blockchain = read_news('blockchain') \n",
    "btc = read_news('btc') \n",
    "xrp = read_news('xrp') \n",
    "trx = read_news('trx') \n",
    "eth = read_news('eth')  \n",
    "ada = read_news('ada')\n",
    "exchange = read_news('exchange') "
   ]
  },
  {
   "cell_type": "code",
   "execution_count": 3,
   "id": "synthetic-notion",
   "metadata": {
    "execution": {
     "iopub.execute_input": "2021-06-12T01:57:09.412437Z",
     "iopub.status.busy": "2021-06-12T01:57:09.410075Z",
     "iopub.status.idle": "2021-06-12T01:57:09.415485Z",
     "shell.execute_reply": "2021-06-12T01:57:09.414981Z"
    },
    "papermill": {
     "duration": 0.01924,
     "end_time": "2021-06-12T01:57:09.415602",
     "exception": false,
     "start_time": "2021-06-12T01:57:09.396362",
     "status": "completed"
    },
    "tags": []
   },
   "outputs": [
    {
     "data": {
      "text/markdown": [
       "- Ethereum Co-Founder Says He’s Investing in Polkadot and Cardano – Here’s Why.  Ethereum co-founder Anthony Di Iorio says he&#8217;s betting on the future of both Cardano and Polkadot. Di Iorio joined the Ethereum development team soon after meeting Ethereum Founder Vitalik Buterin at an organized Bitcoin conference in 2012. Following his time at Ethereum, De Iorio left to start Decentral, a Toronto-based blockchain company. In a new [&#8230;]The post Ethereum Co-Founder Says He&#8217;s Investing in Polkadot and Cardano – Here&#8217;s Why appeared first on The Daily Hodl. ... [| Skaityti daugiau](https://dailyhodl.com/2021/06/11/ethereum-co-founder-says-hes-investing-in-polkadot-and-cardano-heres-why/) "
      ],
      "text/plain": [
       "<IPython.core.display.Markdown object>"
      ]
     },
     "execution_count": 3,
     "metadata": {},
     "output_type": "execute_result"
    }
   ],
   "source": [
    "#hide_input\n",
    "#md('##### {}'.format(titleBTC)) \n",
    "md(\"- {}{} {}{} [| Skaityti daugiau]({}) \".format(blockchain['title'],'. ', blockchain['body'], ' ...', blockchain['url']))"
   ]
  },
  {
   "cell_type": "code",
   "execution_count": 4,
   "id": "aging-caution",
   "metadata": {
    "execution": {
     "iopub.execute_input": "2021-06-12T01:57:09.441550Z",
     "iopub.status.busy": "2021-06-12T01:57:09.440909Z",
     "iopub.status.idle": "2021-06-12T01:57:09.445047Z",
     "shell.execute_reply": "2021-06-12T01:57:09.445593Z"
    },
    "papermill": {
     "duration": 0.019799,
     "end_time": "2021-06-12T01:57:09.445717",
     "exception": false,
     "start_time": "2021-06-12T01:57:09.425918",
     "status": "completed"
    },
    "tags": []
   },
   "outputs": [
    {
     "data": {
      "text/markdown": [
       "- Despite the fear, this on-chain proponent expects EOY Bitcoin price of $300,000.  It&#8217;s coming up to two months since Bitcoin peaked at $65,000. The post Despite the fear, this on-chain proponent expects EOY Bitcoin price of $300,000 appeared first on CryptoSlate. ... [| Skaityti daugiau](https://cryptoslate.com/despite-the-fear-this-on-chain-proponent-expects-eoy-bitcoin-price-of-300000/) "
      ],
      "text/plain": [
       "<IPython.core.display.Markdown object>"
      ]
     },
     "execution_count": 4,
     "metadata": {},
     "output_type": "execute_result"
    }
   ],
   "source": [
    "#hide_input\n",
    "#md('##### {}'.format(titleBTC)) \n",
    "md(\"- {}{} {}{} [| Skaityti daugiau]({}) \".format(btc['title'],'. ', btc['body'], ' ...', btc['url']))"
   ]
  },
  {
   "cell_type": "code",
   "execution_count": 5,
   "id": "organic-actress",
   "metadata": {
    "execution": {
     "iopub.execute_input": "2021-06-12T01:57:09.473288Z",
     "iopub.status.busy": "2021-06-12T01:57:09.472669Z",
     "iopub.status.idle": "2021-06-12T01:57:09.478435Z",
     "shell.execute_reply": "2021-06-12T01:57:09.477738Z"
    },
    "papermill": {
     "duration": 0.022066,
     "end_time": "2021-06-12T01:57:09.478560",
     "exception": false,
     "start_time": "2021-06-12T01:57:09.456494",
     "status": "completed"
    },
    "tags": []
   },
   "outputs": [
    {
     "data": {
      "text/markdown": [
       "- The XRP Lawsuit Seems Long Drawn, Should XRP Settle?.  It&#8217;s been 171 days since the US Securities and Exchange Commission (SEC) challenged XRP and Ripple Labs directly by filing a lawsuit against them. There have been a slew of motions and memorandums exchanged so far, but no clear winner has emerged. Every court judgement has had and will continue to have far-reaching repercussions in [&#8230;] ... [| Skaityti daugiau](https://bitcoinist.com/the-xrp-lawsuit-seems-long-drawn-should-xrp-settle/?utm_source=rss&utm_medium=rss&utm_campaign=the-xrp-lawsuit-seems-long-drawn-should-xrp-settle) "
      ],
      "text/plain": [
       "<IPython.core.display.Markdown object>"
      ]
     },
     "execution_count": 5,
     "metadata": {},
     "output_type": "execute_result"
    }
   ],
   "source": [
    "#hide_input\n",
    "#md('##### {}'.format(titleBTC)) \n",
    "md(\"- {}{} {}{} [| Skaityti daugiau]({}) \".format(xrp['title'],'. ', xrp['body'], ' ...', xrp['url']))"
   ]
  },
  {
   "cell_type": "code",
   "execution_count": 6,
   "id": "prompt-farmer",
   "metadata": {
    "execution": {
     "iopub.execute_input": "2021-06-12T01:57:09.506346Z",
     "iopub.status.busy": "2021-06-12T01:57:09.505778Z",
     "iopub.status.idle": "2021-06-12T01:57:09.509633Z",
     "shell.execute_reply": "2021-06-12T01:57:09.509170Z"
    },
    "papermill": {
     "duration": 0.020218,
     "end_time": "2021-06-12T01:57:09.509742",
     "exception": false,
     "start_time": "2021-06-12T01:57:09.489524",
     "status": "completed"
    },
    "tags": []
   },
   "outputs": [
    {
     "data": {
      "text/markdown": [
       "- Polkadot, Tron, VeChain Price Analysis: 11 June.  Polkadot was projected to maintain its movement between $19.6 and $25 over the coming days. Tron was in danger of a breakdown towards $0.056 once volatility picked up. Finally, VeChain moved within a down channel and awaited a 28% hike in case of a break above $0.1188. Polkadot [DOT] Polkadot&#8217;s previous targets were realized once [&#8230;] ... [| Skaityti daugiau](https://ambcrypto.com/polkadot-tron-vechain-price-analysis-11-june/) "
      ],
      "text/plain": [
       "<IPython.core.display.Markdown object>"
      ]
     },
     "execution_count": 6,
     "metadata": {},
     "output_type": "execute_result"
    }
   ],
   "source": [
    "#hide_input\n",
    "#md('##### {}'.format(titleBTC)) \n",
    "md(\"- {}{} {}{} [| Skaityti daugiau]({}) \".format(trx['title'],'. ', trx['body'], ' ...', trx['url']))"
   ]
  },
  {
   "cell_type": "code",
   "execution_count": 7,
   "id": "illegal-greece",
   "metadata": {
    "execution": {
     "iopub.execute_input": "2021-06-12T01:57:09.537758Z",
     "iopub.status.busy": "2021-06-12T01:57:09.537207Z",
     "iopub.status.idle": "2021-06-12T01:57:09.539879Z",
     "shell.execute_reply": "2021-06-12T01:57:09.540378Z"
    },
    "papermill": {
     "duration": 0.018774,
     "end_time": "2021-06-12T01:57:09.540506",
     "exception": false,
     "start_time": "2021-06-12T01:57:09.521732",
     "status": "completed"
    },
    "tags": []
   },
   "outputs": [
    {
     "data": {
      "text/markdown": [
       "- Ethereum Co-Founder Says He’s Investing in Polkadot and Cardano – Here’s Why.  Ethereum co-founder Anthony Di Iorio says he&#8217;s betting on the future of both Cardano and Polkadot. Di Iorio joined the Ethereum development team soon after meeting Ethereum Founder Vitalik Buterin at an organized Bitcoin conference in 2012. Following his time at Ethereum, De Iorio left to start Decentral, a Toronto-based blockchain company. In a new [&#8230;]The post Ethereum Co-Founder Says He&#8217;s Investing in Polkadot and Cardano – Here&#8217;s Why appeared first on The Daily Hodl. ... [| Skaityti daugiau](https://dailyhodl.com/2021/06/11/ethereum-co-founder-says-hes-investing-in-polkadot-and-cardano-heres-why/) "
      ],
      "text/plain": [
       "<IPython.core.display.Markdown object>"
      ]
     },
     "execution_count": 7,
     "metadata": {},
     "output_type": "execute_result"
    }
   ],
   "source": [
    "#hide_input\n",
    "#md('##### {}'.format(titleBTC)) \n",
    "md(\"- {}{} {}{} [| Skaityti daugiau]({}) \".format(eth['title'],'. ', eth['body'], ' ...', eth['url']))"
   ]
  },
  {
   "cell_type": "code",
   "execution_count": 8,
   "id": "sublime-lounge",
   "metadata": {
    "execution": {
     "iopub.execute_input": "2021-06-12T01:57:09.569961Z",
     "iopub.status.busy": "2021-06-12T01:57:09.569366Z",
     "iopub.status.idle": "2021-06-12T01:57:09.573347Z",
     "shell.execute_reply": "2021-06-12T01:57:09.572830Z"
    },
    "papermill": {
     "duration": 0.020988,
     "end_time": "2021-06-12T01:57:09.573463",
     "exception": false,
     "start_time": "2021-06-12T01:57:09.552475",
     "status": "completed"
    },
    "tags": []
   },
   "outputs": [
    {
     "data": {
      "text/markdown": [
       "- Ethereum Co-Founder Says He’s Investing in Polkadot and Cardano – Here’s Why.  Ethereum co-founder Anthony Di Iorio says he&#8217;s betting on the future of both Cardano and Polkadot. Di Iorio joined the Ethereum development team soon after meeting Ethereum Founder Vitalik Buterin at an organized Bitcoin conference in 2012. Following his time at Ethereum, De Iorio left to start Decentral, a Toronto-based blockchain company. In a new [&#8230;]The post Ethereum Co-Founder Says He&#8217;s Investing in Polkadot and Cardano – Here&#8217;s Why appeared first on The Daily Hodl. ... [| Skaityti daugiau](https://dailyhodl.com/2021/06/11/ethereum-co-founder-says-hes-investing-in-polkadot-and-cardano-heres-why/) "
      ],
      "text/plain": [
       "<IPython.core.display.Markdown object>"
      ]
     },
     "execution_count": 8,
     "metadata": {},
     "output_type": "execute_result"
    }
   ],
   "source": [
    "#hide_input\n",
    "#md('##### {}'.format(titleBTC)) \n",
    "md(\"- {}{} {}{} [| Skaityti daugiau]({}) \".format(ada['title'],'. ', ada['body'], ' ...', ada['url']))"
   ]
  },
  {
   "cell_type": "code",
   "execution_count": 9,
   "id": "specified-ordering",
   "metadata": {
    "execution": {
     "iopub.execute_input": "2021-06-12T01:57:09.602645Z",
     "iopub.status.busy": "2021-06-12T01:57:09.602077Z",
     "iopub.status.idle": "2021-06-12T01:57:09.604850Z",
     "shell.execute_reply": "2021-06-12T01:57:09.604393Z"
    },
    "papermill": {
     "duration": 0.019353,
     "end_time": "2021-06-12T01:57:09.604952",
     "exception": false,
     "start_time": "2021-06-12T01:57:09.585599",
     "status": "completed"
    },
    "tags": []
   },
   "outputs": [
    {
     "data": {
      "text/markdown": [
       "- What lesson is Kraken taking from Coinbase’s direct listing?.  Is the mixed response to Coinbase&#8217;s direct listing forcing other crypto-exchanges to take a step back before going public? A recent development would suggest so. Kraken, at the time of writing, was the 3rd largest exchange when ranked by volume. However, its plans to go public via a direct listing might be on hold. At least for the [&#8230;] ... [| Skaityti daugiau](https://ambcrypto.com/what-lesson-is-kraken-taking-from-coinbases-direct-listing/) "
      ],
      "text/plain": [
       "<IPython.core.display.Markdown object>"
      ]
     },
     "execution_count": 9,
     "metadata": {},
     "output_type": "execute_result"
    }
   ],
   "source": [
    "#hide_input\n",
    "#md('##### {}'.format(titleBTC)) \n",
    "md(\"- {}{} {}{} [| Skaityti daugiau]({}) \".format(exchange['title'],'. ', exchange['body'], ' ...', exchange['url']))"
   ]
  },
  {
   "cell_type": "code",
   "execution_count": null,
   "id": "tender-livestock",
   "metadata": {
    "papermill": {
     "duration": 0.012351,
     "end_time": "2021-06-12T01:57:09.629356",
     "exception": false,
     "start_time": "2021-06-12T01:57:09.617005",
     "status": "completed"
    },
    "tags": []
   },
   "outputs": [],
   "source": []
  },
  {
   "cell_type": "code",
   "execution_count": null,
   "id": "appreciated-diamond",
   "metadata": {
    "papermill": {
     "duration": 0.01251,
     "end_time": "2021-06-12T01:57:09.654142",
     "exception": false,
     "start_time": "2021-06-12T01:57:09.641632",
     "status": "completed"
    },
    "tags": []
   },
   "outputs": [],
   "source": []
  },
  {
   "cell_type": "code",
   "execution_count": null,
   "id": "romance-sweden",
   "metadata": {
    "papermill": {
     "duration": 0.012433,
     "end_time": "2021-06-12T01:57:09.679194",
     "exception": false,
     "start_time": "2021-06-12T01:57:09.666761",
     "status": "completed"
    },
    "tags": []
   },
   "outputs": [],
   "source": []
  },
  {
   "cell_type": "code",
   "execution_count": null,
   "id": "dietary-statistics",
   "metadata": {
    "papermill": {
     "duration": 0.012225,
     "end_time": "2021-06-12T01:57:09.704030",
     "exception": false,
     "start_time": "2021-06-12T01:57:09.691805",
     "status": "completed"
    },
    "tags": []
   },
   "outputs": [],
   "source": []
  }
 ],
 "metadata": {
  "kernelspec": {
   "display_name": "Python 3",
   "language": "python",
   "name": "python3"
  },
  "language_info": {
   "codemirror_mode": {
    "name": "ipython",
    "version": 3
   },
   "file_extension": ".py",
   "mimetype": "text/x-python",
   "name": "python",
   "nbconvert_exporter": "python",
   "pygments_lexer": "ipython3",
   "version": "3.6.13"
  },
  "papermill": {
   "default_parameters": {},
   "duration": 9.923688,
   "end_time": "2021-06-12T01:57:10.125348",
   "environment_variables": {},
   "exception": null,
   "input_path": "Market-News.ipynb",
   "output_path": "Market-News.ipynb",
   "parameters": {},
   "start_time": "2021-06-12T01:57:00.201660",
   "version": "2.2.2"
  }
 },
 "nbformat": 4,
 "nbformat_minor": 5
}