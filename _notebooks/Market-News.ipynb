{
 "cells": [
  {
   "cell_type": "markdown",
   "metadata": {
    "papermill": {
     "duration": 0.015316,
     "end_time": "2021-01-09T05:34:52.620166",
     "exception": false,
     "start_time": "2021-01-09T05:34:52.604850",
     "status": "completed"
    },
    "tags": []
   },
   "source": [
    "# Kriptovaliutų naujienos"
   ]
  },
  {
   "cell_type": "code",
   "execution_count": 1,
   "metadata": {
    "papermill": {
     "duration": 1.193385,
     "end_time": "2021-01-09T05:34:53.821046",
     "exception": false,
     "start_time": "2021-01-09T05:34:52.627661",
     "status": "completed"
    },
    "tags": []
   },
   "outputs": [],
   "source": [
    "#hide_input\n",
    "import warnings\n",
    "warnings.filterwarnings('ignore')\n",
    "from scripts.read_data import read_api\n",
    "from scripts.read_data import read_news\n",
    "from scripts.read_data import read_covid\n",
    "import matplotlib.pyplot as plt \n",
    "from IPython.display import Markdown as md"
   ]
  },
  {
   "cell_type": "code",
   "execution_count": 2,
   "metadata": {
    "papermill": {
     "duration": 8.723581,
     "end_time": "2021-01-09T05:35:02.553143",
     "exception": false,
     "start_time": "2021-01-09T05:34:53.829562",
     "status": "completed"
    },
    "tags": []
   },
   "outputs": [],
   "source": [
    "#hide_input\n",
    "blockchain = read_news('blockchain') \n",
    "btc = read_news('btc') \n",
    "xrp = read_news('xrp') \n",
    "trx = read_news('trx') \n",
    "eth = read_news('eth')  \n",
    "ada = read_news('ada')\n",
    "exchange = read_news('exchange') "
   ]
  },
  {
   "cell_type": "code",
   "execution_count": 3,
   "metadata": {
    "papermill": {
     "duration": 0.015396,
     "end_time": "2021-01-09T05:35:02.579058",
     "exception": false,
     "start_time": "2021-01-09T05:35:02.563662",
     "status": "completed"
    },
    "tags": []
   },
   "outputs": [
    {
     "data": {
      "text/markdown": [
       "- Crypto Whale Moves $1.1 Billion of Ethereum-Based Asset SNX, Pays Just $7.45 in Fees.  A crypto whale is flexing its muscles after transferring over a billion dollars worth of an Ethereum-based asset between two addresses in a single transaction. According to Ethereum blockchain explorer Etherscan, the lone whale moved 74.6 million Synthetix Network Tokens (SNX) worth $1.1 billion for a fee of 0.0061254 Ether – which amounts to just [&#8230;]The post Crypto Whale Moves $1.1 Billion of Ethereum-Based Asset SNX, Pays Just $7.45 in Fees appeared first on The Daily Hodl. ... [| Skaityti daugiau](https://dailyhodl.com/2021/01/16/crypto-whale-moves-1-1-billion-of-ethereum-based-asset-snx-pays-just-7-45-in-fees/) "
      ],
      "text/plain": [
       "<IPython.core.display.Markdown object>"
      ]
     },
     "execution_count": 3,
     "metadata": {},
     "output_type": "execute_result"
    }
   ],
   "source": [
    "#hide_input\n",
    "#md('##### {}'.format(titleBTC)) \n",
    "md(\"- {}{} {}{} [| Skaityti daugiau]({}) \".format(blockchain['title'],'. ', blockchain['body'], ' ...', blockchain['url']))"
   ]
  },
  {
   "cell_type": "code",
   "execution_count": 4,
   "metadata": {
    "papermill": {
     "duration": 0.014207,
     "end_time": "2021-01-09T05:35:02.600940",
     "exception": false,
     "start_time": "2021-01-09T05:35:02.586733",
     "status": "completed"
    },
    "tags": []
   },
   "outputs": [
    {
     "data": {
      "text/markdown": [
       "- Market Watch: Polkadot (DOT) Replaced Ripple on The Top 4, Chainlink (LINK) New All-Time High.  Polkadot and Chainlink have stolen the crypto show with new all-time highs above $15 and $22.5, respectively. BTC dipped to $34.5K but quickly recovered. ... [| Skaityti daugiau](https://cryptopotato.com/market-watch-polkadot-dot-replaced-ripple-on-the-top-4-chainlink-link-new-all-time-high/) "
      ],
      "text/plain": [
       "<IPython.core.display.Markdown object>"
      ]
     },
     "execution_count": 4,
     "metadata": {},
     "output_type": "execute_result"
    }
   ],
   "source": [
    "#hide_input\n",
    "#md('##### {}'.format(titleBTC)) \n",
    "md(\"- {}{} {}{} [| Skaityti daugiau]({}) \".format(btc['title'],'. ', btc['body'], ' ...', btc['url']))"
   ]
  },
  {
   "cell_type": "code",
   "execution_count": 5,
   "metadata": {
    "papermill": {
     "duration": 0.017691,
     "end_time": "2021-01-09T05:35:02.625446",
     "exception": false,
     "start_time": "2021-01-09T05:35:02.607755",
     "status": "completed"
    },
    "tags": []
   },
   "outputs": [
    {
     "data": {
      "text/markdown": [
       "- Market Watch: Polkadot (DOT) Replaced Ripple on The Top 4, Chainlink (LINK) New All-Time High.  Polkadot and Chainlink have stolen the crypto show with new all-time highs above $15 and $22.5, respectively. BTC dipped to $34.5K but quickly recovered. ... [| Skaityti daugiau](https://cryptopotato.com/market-watch-polkadot-dot-replaced-ripple-on-the-top-4-chainlink-link-new-all-time-high/) "
      ],
      "text/plain": [
       "<IPython.core.display.Markdown object>"
      ]
     },
     "execution_count": 5,
     "metadata": {},
     "output_type": "execute_result"
    }
   ],
   "source": [
    "#hide_input\n",
    "#md('##### {}'.format(titleBTC)) \n",
    "md(\"- {}{} {}{} [| Skaityti daugiau]({}) \".format(xrp['title'],'. ', xrp['body'], ' ...', xrp['url']))"
   ]
  },
  {
   "cell_type": "code",
   "execution_count": 6,
   "metadata": {
    "papermill": {
     "duration": 0.016831,
     "end_time": "2021-01-09T05:35:02.650360",
     "exception": false,
     "start_time": "2021-01-09T05:35:02.633529",
     "status": "completed"
    },
    "tags": []
   },
   "outputs": [
    {
     "data": {
      "text/markdown": [
       "- Tron, Ethereum Classic, IOST Price Analysis: 15 January.  Tron faced resistance from a horizontal level, as well as from a Gann fan line, and was likely to see a rejection at the level of resistance. Ethereum Classic dipped towards $7.5, but can defend it and register a northbound move while IOST was poised to surge past a level of resistance following strong bullish [&#8230;] ... [| Skaityti daugiau](https://ambcrypto.com/tron-ethereum-classic-iost-price-analysis-15-january/) "
      ],
      "text/plain": [
       "<IPython.core.display.Markdown object>"
      ]
     },
     "execution_count": 6,
     "metadata": {},
     "output_type": "execute_result"
    }
   ],
   "source": [
    "#hide_input\n",
    "#md('##### {}'.format(titleBTC)) \n",
    "md(\"- {}{} {}{} [| Skaityti daugiau]({}) \".format(trx['title'],'. ', trx['body'], ' ...', trx['url']))"
   ]
  },
  {
   "cell_type": "code",
   "execution_count": 7,
   "metadata": {
    "papermill": {
     "duration": 0.021577,
     "end_time": "2021-01-09T05:35:02.680237",
     "exception": false,
     "start_time": "2021-01-09T05:35:02.658660",
     "status": "completed"
    },
    "tags": []
   },
   "outputs": [
    {
     "data": {
      "text/markdown": [
       "- Crypto Whale Moves $1.1 Billion of Ethereum-Based Asset SNX, Pays Just $7.45 in Fees.  A crypto whale is flexing its muscles after transferring over a billion dollars worth of an Ethereum-based asset between two addresses in a single transaction. According to Ethereum blockchain explorer Etherscan, the lone whale moved 74.6 million Synthetix Network Tokens (SNX) worth $1.1 billion for a fee of 0.0061254 Ether – which amounts to just [&#8230;]The post Crypto Whale Moves $1.1 Billion of Ethereum-Based Asset SNX, Pays Just $7.45 in Fees appeared first on The Daily Hodl. ... [| Skaityti daugiau](https://dailyhodl.com/2021/01/16/crypto-whale-moves-1-1-billion-of-ethereum-based-asset-snx-pays-just-7-45-in-fees/) "
      ],
      "text/plain": [
       "<IPython.core.display.Markdown object>"
      ]
     },
     "execution_count": 7,
     "metadata": {},
     "output_type": "execute_result"
    }
   ],
   "source": [
    "#hide_input\n",
    "#md('##### {}'.format(titleBTC)) \n",
    "md(\"- {}{} {}{} [| Skaityti daugiau]({}) \".format(eth['title'],'. ', eth['body'], ' ...', eth['url']))"
   ]
  },
  {
   "cell_type": "code",
   "execution_count": 8,
   "metadata": {
    "papermill": {
     "duration": 0.017899,
     "end_time": "2021-01-09T05:35:02.706371",
     "exception": false,
     "start_time": "2021-01-09T05:35:02.688472",
     "status": "completed"
    },
    "tags": []
   },
   "outputs": [
    {
     "data": {
      "text/markdown": [
       "- Cardano Wants to Help Twitter Decentralize Social Media.   ... [| Skaityti daugiau](https://cryptobriefing.com/cardano-twitter-decentralized-social-media/) "
      ],
      "text/plain": [
       "<IPython.core.display.Markdown object>"
      ]
     },
     "execution_count": 8,
     "metadata": {},
     "output_type": "execute_result"
    }
   ],
   "source": [
    "#hide_input\n",
    "#md('##### {}'.format(titleBTC)) \n",
    "md(\"- {}{} {}{} [| Skaityti daugiau]({}) \".format(ada['title'],'. ', ada['body'], ' ...', ada['url']))"
   ]
  },
  {
   "cell_type": "code",
   "execution_count": 9,
   "metadata": {
    "papermill": {
     "duration": 0.021951,
     "end_time": "2021-01-09T05:35:02.736697",
     "exception": false,
     "start_time": "2021-01-09T05:35:02.714746",
     "status": "completed"
    },
    "tags": []
   },
   "outputs": [
    {
     "data": {
      "text/markdown": [
       "- Chainlink (LINK) Futures Open Interest Hits ATH of $287 Million.  Quick take: The open interest on Chainlink futures contracts has hit an all-time high of $287 Million Chainlink has just hit an all-time high of $22.67 &#8211; Binance rate Chainlink has also had the highest day of active addresses in 5 months LINK has the potential to keep moving up but its bullishness is hinged on Bitcoin&#8217;s stability The aggregated open interest on Chainlink (LINK) futures contracts across major crypto exchanges, has just hit a new all-time high of $287 [&#8230;] ... [| Skaityti daugiau](https://en.ethereumworldnews.com/chainlink-link-futures-open-interest-hits-ath-of-287-million/) "
      ],
      "text/plain": [
       "<IPython.core.display.Markdown object>"
      ]
     },
     "execution_count": 9,
     "metadata": {},
     "output_type": "execute_result"
    }
   ],
   "source": [
    "#hide_input\n",
    "#md('##### {}'.format(titleBTC)) \n",
    "md(\"- {}{} {}{} [| Skaityti daugiau]({}) \".format(exchange['title'],'. ', exchange['body'], ' ...', exchange['url']))"
   ]
  },
  {
   "cell_type": "code",
   "execution_count": null,
   "metadata": {
    "papermill": {
     "duration": 0.009624,
     "end_time": "2021-01-09T05:35:02.756227",
     "exception": false,
     "start_time": "2021-01-09T05:35:02.746603",
     "status": "completed"
    },
    "tags": []
   },
   "outputs": [],
   "source": []
  },
  {
   "cell_type": "code",
   "execution_count": null,
   "metadata": {
    "papermill": {
     "duration": 0.010086,
     "end_time": "2021-01-09T05:35:02.777035",
     "exception": false,
     "start_time": "2021-01-09T05:35:02.766949",
     "status": "completed"
    },
    "tags": []
   },
   "outputs": [],
   "source": []
  },
  {
   "cell_type": "code",
   "execution_count": null,
   "metadata": {},
   "outputs": [],
   "source": []
  }
 ],
 "metadata": {
  "kernelspec": {
   "display_name": "Python 3",
   "language": "python",
   "name": "python3"
  },
  "language_info": {
   "codemirror_mode": {
    "name": "ipython",
    "version": 3
   },
   "file_extension": ".py",
   "mimetype": "text/x-python",
   "name": "python",
   "nbconvert_exporter": "python",
   "pygments_lexer": "ipython3",
   "version": "3.8.5"
  },
  "papermill": {
   "default_parameters": {},
   "duration": 11.635695,
   "end_time": "2021-01-09T05:35:03.195769",
   "environment_variables": {},
   "exception": null,
   "input_path": "Market-News.ipynb",
   "output_path": "Market-News.ipynb",
   "parameters": {},
   "start_time": "2021-01-09T05:34:51.560074",
   "version": "2.2.2"
  }
 },
 "nbformat": 4,
 "nbformat_minor": 4
}
