{
 "cells": [
  {
   "cell_type": "markdown",
   "id": "short-greensboro",
   "metadata": {
    "papermill": {
     "duration": 0.012774,
     "end_time": "2021-06-01T04:40:23.846004",
     "exception": false,
     "start_time": "2021-06-01T04:40:23.833230",
     "status": "completed"
    },
    "tags": []
   },
   "source": [
    "# Kriptovaliutų naujienos"
   ]
  },
  {
   "cell_type": "code",
   "execution_count": 1,
   "id": "functioning-knowing",
   "metadata": {
    "execution": {
     "iopub.execute_input": "2021-06-01T04:40:23.875578Z",
     "iopub.status.busy": "2021-06-01T04:40:23.874993Z",
     "iopub.status.idle": "2021-06-01T04:40:24.992842Z",
     "shell.execute_reply": "2021-06-01T04:40:24.992371Z"
    },
    "papermill": {
     "duration": 1.137211,
     "end_time": "2021-06-01T04:40:24.992978",
     "exception": false,
     "start_time": "2021-06-01T04:40:23.855767",
     "status": "completed"
    },
    "tags": []
   },
   "outputs": [],
   "source": [
    "#hide_input\n",
    "import warnings\n",
    "warnings.filterwarnings('ignore')\n",
    "from scripts.read_data import read_api\n",
    "from scripts.read_data import read_news\n",
    "from scripts.read_data import read_covid\n",
    "import matplotlib.pyplot as plt \n",
    "from IPython.display import Markdown as md"
   ]
  },
  {
   "cell_type": "code",
   "execution_count": 2,
   "id": "shared-acceptance",
   "metadata": {
    "execution": {
     "iopub.execute_input": "2021-06-01T04:40:25.017622Z",
     "iopub.status.busy": "2021-06-01T04:40:25.017123Z",
     "iopub.status.idle": "2021-06-01T04:40:33.000779Z",
     "shell.execute_reply": "2021-06-01T04:40:33.001203Z"
    },
    "papermill": {
     "duration": 7.999051,
     "end_time": "2021-06-01T04:40:33.001357",
     "exception": false,
     "start_time": "2021-06-01T04:40:25.002306",
     "status": "completed"
    },
    "tags": []
   },
   "outputs": [],
   "source": [
    "#hide_input\n",
    "blockchain = read_news('blockchain') \n",
    "btc = read_news('btc') \n",
    "xrp = read_news('xrp') \n",
    "trx = read_news('trx') \n",
    "eth = read_news('eth')  \n",
    "ada = read_news('ada')\n",
    "exchange = read_news('exchange') "
   ]
  },
  {
   "cell_type": "code",
   "execution_count": 3,
   "id": "synthetic-notion",
   "metadata": {
    "execution": {
     "iopub.execute_input": "2021-06-01T04:40:33.025230Z",
     "iopub.status.busy": "2021-06-01T04:40:33.024735Z",
     "iopub.status.idle": "2021-06-01T04:40:33.029531Z",
     "shell.execute_reply": "2021-06-01T04:40:33.029130Z"
    },
    "papermill": {
     "duration": 0.018604,
     "end_time": "2021-06-01T04:40:33.029634",
     "exception": false,
     "start_time": "2021-06-01T04:40:33.011030",
     "status": "completed"
    },
    "tags": []
   },
   "outputs": [
    {
     "data": {
      "text/markdown": [
       "- BitMEX and Human Rights Foundation provide $150K grant to Bitcoin scaling researcher.  BitMEX has collaborated with a non-profit Human Rights Foundation to provide a $150,000 grant to Korean-based Bitcoin scaling researcher, Calvin Kim.  ... [| Skaityti daugiau](https://cointelegraph.com/news/bitmex-and-human-rights-foundation-provide-150k-grant-to-bitcoin-scaling-researcher) "
      ],
      "text/plain": [
       "<IPython.core.display.Markdown object>"
      ]
     },
     "execution_count": 3,
     "metadata": {},
     "output_type": "execute_result"
    }
   ],
   "source": [
    "#hide_input\n",
    "#md('##### {}'.format(titleBTC)) \n",
    "md(\"- {}{} {}{} [| Skaityti daugiau]({}) \".format(blockchain['title'],'. ', blockchain['body'], ' ...', blockchain['url']))"
   ]
  },
  {
   "cell_type": "code",
   "execution_count": 4,
   "id": "aging-caution",
   "metadata": {
    "execution": {
     "iopub.execute_input": "2021-06-01T04:40:33.052496Z",
     "iopub.status.busy": "2021-06-01T04:40:33.052000Z",
     "iopub.status.idle": "2021-06-01T04:40:33.054597Z",
     "shell.execute_reply": "2021-06-01T04:40:33.054179Z"
    },
    "papermill": {
     "duration": 0.015842,
     "end_time": "2021-06-01T04:40:33.054693",
     "exception": false,
     "start_time": "2021-06-01T04:40:33.038851",
     "status": "completed"
    },
    "tags": []
   },
   "outputs": [
    {
     "data": {
      "text/markdown": [
       "- Bitcoin Price Prediction: BTC imminent drop to $24,000 could soon gain traction.  Bitcoin recently tested support at $33,500 following another rejection from $40,000. The largest cryptocurrency by market capitalization has lost more than half of its value from the all-time high of $65,000 in May. As the new month begins, investors hope that BTC will turn a new leaf and gain a significant amount of the lost The post Bitcoin Price Prediction: BTC imminent drop to $24,000 could soon gain traction appeared first on Coingape. ... [| Skaityti daugiau](https://coingape.com/bitcoin-price-prediction-btc-imminent-drop-to-24000-could-soon-gain-traction/) "
      ],
      "text/plain": [
       "<IPython.core.display.Markdown object>"
      ]
     },
     "execution_count": 4,
     "metadata": {},
     "output_type": "execute_result"
    }
   ],
   "source": [
    "#hide_input\n",
    "#md('##### {}'.format(titleBTC)) \n",
    "md(\"- {}{} {}{} [| Skaityti daugiau]({}) \".format(btc['title'],'. ', btc['body'], ' ...', btc['url']))"
   ]
  },
  {
   "cell_type": "code",
   "execution_count": 5,
   "id": "organic-actress",
   "metadata": {
    "execution": {
     "iopub.execute_input": "2021-06-01T04:40:33.078134Z",
     "iopub.status.busy": "2021-06-01T04:40:33.077616Z",
     "iopub.status.idle": "2021-06-01T04:40:33.080352Z",
     "shell.execute_reply": "2021-06-01T04:40:33.080824Z"
    },
    "papermill": {
     "duration": 0.016617,
     "end_time": "2021-06-01T04:40:33.080930",
     "exception": false,
     "start_time": "2021-06-01T04:40:33.064313",
     "status": "completed"
    },
    "tags": []
   },
   "outputs": [
    {
     "data": {
      "text/markdown": [
       "- U.S. courts deny SEC from viewing Ripple’s legal documents pertaining to XRP.  The US Security and Exchange Commission´s (SEC) motion to access Ripple Labs´ legal communications regarding XRP&#8216;s regulatory status was denied, a new filing shows. The post U.S. courts deny SEC from viewing Ripple&#8217;s legal documents pertaining to XRP appeared first on CryptoSlate. ... [| Skaityti daugiau](https://cryptoslate.com/u-s-courts-deny-sec-from-viewing-ripples-legal-documents-pertaining-to-xrp/) "
      ],
      "text/plain": [
       "<IPython.core.display.Markdown object>"
      ]
     },
     "execution_count": 5,
     "metadata": {},
     "output_type": "execute_result"
    }
   ],
   "source": [
    "#hide_input\n",
    "#md('##### {}'.format(titleBTC)) \n",
    "md(\"- {}{} {}{} [| Skaityti daugiau]({}) \".format(xrp['title'],'. ', xrp['body'], ' ...', xrp['url']))"
   ]
  },
  {
   "cell_type": "code",
   "execution_count": 6,
   "id": "prompt-farmer",
   "metadata": {
    "execution": {
     "iopub.execute_input": "2021-06-01T04:40:33.105276Z",
     "iopub.status.busy": "2021-06-01T04:40:33.104700Z",
     "iopub.status.idle": "2021-06-01T04:40:33.106903Z",
     "shell.execute_reply": "2021-06-01T04:40:33.107352Z"
    },
    "papermill": {
     "duration": 0.016649,
     "end_time": "2021-06-01T04:40:33.107471",
     "exception": false,
     "start_time": "2021-06-01T04:40:33.090822",
     "status": "completed"
    },
    "tags": []
   },
   "outputs": [
    {
     "data": {
      "text/markdown": [
       "- Litecoin, Tron, Monero Price Analysis: 31 May.  Litecoin&#8217;s symmetrical triangle highlighted the possibility of a jump towards $240. Tron&#8217;s technicals suggested that bearish momentum was gradually reducing as it prepared for an upswing. Finally, Monero needed to flip a key resistance mark at $340 to enable a swifter recovery. Litecoin [LTC] A weakening ADX highlighted the lack of a strong trend for [&#8230;] ... [| Skaityti daugiau](https://ambcrypto.com/litecoin-tron-monero-price-analysis-31-may/) "
      ],
      "text/plain": [
       "<IPython.core.display.Markdown object>"
      ]
     },
     "execution_count": 6,
     "metadata": {},
     "output_type": "execute_result"
    }
   ],
   "source": [
    "#hide_input\n",
    "#md('##### {}'.format(titleBTC)) \n",
    "md(\"- {}{} {}{} [| Skaityti daugiau]({}) \".format(trx['title'],'. ', trx['body'], ' ...', trx['url']))"
   ]
  },
  {
   "cell_type": "code",
   "execution_count": 7,
   "id": "illegal-greece",
   "metadata": {
    "execution": {
     "iopub.execute_input": "2021-06-01T04:40:33.132459Z",
     "iopub.status.busy": "2021-06-01T04:40:33.131975Z",
     "iopub.status.idle": "2021-06-01T04:40:33.134500Z",
     "shell.execute_reply": "2021-06-01T04:40:33.134897Z"
    },
    "papermill": {
     "duration": 0.016637,
     "end_time": "2021-06-01T04:40:33.135002",
     "exception": false,
     "start_time": "2021-06-01T04:40:33.118365",
     "status": "completed"
    },
    "tags": []
   },
   "outputs": [
    {
     "data": {
      "text/markdown": [
       "- Ethereum price draws closer to the ultimate launch aiming for $4,000.  Ethereum dipped twice under $2,000 in May amid the bears’ showdown. The declines extended from an all-time high of $4,400 while bulls failed to secure higher support, culminating in the downswing to $1,750. In the wake of the bearish price action, Ethereum lifted above $2,000 and closed the gap toward $3,000. However, seller congestion at The post Ethereum price draws closer to the ultimate launch aiming for $4,000 appeared first on Coingape. ... [| Skaityti daugiau](https://coingape.com/86270-2/) "
      ],
      "text/plain": [
       "<IPython.core.display.Markdown object>"
      ]
     },
     "execution_count": 7,
     "metadata": {},
     "output_type": "execute_result"
    }
   ],
   "source": [
    "#hide_input\n",
    "#md('##### {}'.format(titleBTC)) \n",
    "md(\"- {}{} {}{} [| Skaityti daugiau]({}) \".format(eth['title'],'. ', eth['body'], ' ...', eth['url']))"
   ]
  },
  {
   "cell_type": "code",
   "execution_count": 8,
   "id": "sublime-lounge",
   "metadata": {
    "execution": {
     "iopub.execute_input": "2021-06-01T04:40:33.160116Z",
     "iopub.status.busy": "2021-06-01T04:40:33.159631Z",
     "iopub.status.idle": "2021-06-01T04:40:33.162760Z",
     "shell.execute_reply": "2021-06-01T04:40:33.162364Z"
    },
    "papermill": {
     "duration": 0.017339,
     "end_time": "2021-06-01T04:40:33.162856",
     "exception": false,
     "start_time": "2021-06-01T04:40:33.145517",
     "status": "completed"
    },
    "tags": []
   },
   "outputs": [
    {
     "data": {
      "text/markdown": [
       "- Ethereum, Cardano, Binance Coin Price Analysis: 31 May.  While Bitcoin mostly trading between $34,000 and $37,000 over the past few days, major altcoins such as Ethereum, Cardano and Binance Coin found themselves restricted between certain channels. However, an upward price swing for BTC could enable these alts to break out their channels and target levels seen prior to the recent crypto sell-off. Ethereum [&#8230;] ... [| Skaityti daugiau](https://ambcrypto.com/ethereum-cardano-binance-coin-price-analysis-31-may/) "
      ],
      "text/plain": [
       "<IPython.core.display.Markdown object>"
      ]
     },
     "execution_count": 8,
     "metadata": {},
     "output_type": "execute_result"
    }
   ],
   "source": [
    "#hide_input\n",
    "#md('##### {}'.format(titleBTC)) \n",
    "md(\"- {}{} {}{} [| Skaityti daugiau]({}) \".format(ada['title'],'. ', ada['body'], ' ...', ada['url']))"
   ]
  },
  {
   "cell_type": "code",
   "execution_count": 9,
   "id": "specified-ordering",
   "metadata": {
    "execution": {
     "iopub.execute_input": "2021-06-01T04:40:33.188641Z",
     "iopub.status.busy": "2021-06-01T04:40:33.188157Z",
     "iopub.status.idle": "2021-06-01T04:40:33.190865Z",
     "shell.execute_reply": "2021-06-01T04:40:33.191284Z"
    },
    "papermill": {
     "duration": 0.017711,
     "end_time": "2021-06-01T04:40:33.191388",
     "exception": false,
     "start_time": "2021-06-01T04:40:33.173677",
     "status": "completed"
    },
    "tags": []
   },
   "outputs": [
    {
     "data": {
      "text/markdown": [
       "- Binance Smart Chain Announces Flash Loan Hacks, Calls For Actions.  The controversial Binance Smart Chain is back on the news. Apparently, the Dapps it hosts have been the target of eight flash loan hacks in the last few days. Unofficially, it’s rumored that the amount lost is close to a whopping one billion dollars. Binance thinks “well organized hackers are targeting BSC now.” Twitter is [&#8230;] ... [| Skaityti daugiau](https://bitcoinist.com/binance-smart-chain-announces-flash-loan-hacks-calls-for-actions/?utm_source=rss&utm_medium=rss&utm_campaign=binance-smart-chain-announces-flash-loan-hacks-calls-for-actions) "
      ],
      "text/plain": [
       "<IPython.core.display.Markdown object>"
      ]
     },
     "execution_count": 9,
     "metadata": {},
     "output_type": "execute_result"
    }
   ],
   "source": [
    "#hide_input\n",
    "#md('##### {}'.format(titleBTC)) \n",
    "md(\"- {}{} {}{} [| Skaityti daugiau]({}) \".format(exchange['title'],'. ', exchange['body'], ' ...', exchange['url']))"
   ]
  },
  {
   "cell_type": "code",
   "execution_count": null,
   "id": "tender-livestock",
   "metadata": {
    "papermill": {
     "duration": 0.01104,
     "end_time": "2021-06-01T04:40:33.213529",
     "exception": false,
     "start_time": "2021-06-01T04:40:33.202489",
     "status": "completed"
    },
    "tags": []
   },
   "outputs": [],
   "source": []
  },
  {
   "cell_type": "code",
   "execution_count": null,
   "id": "appreciated-diamond",
   "metadata": {
    "papermill": {
     "duration": 0.011188,
     "end_time": "2021-06-01T04:40:33.235943",
     "exception": false,
     "start_time": "2021-06-01T04:40:33.224755",
     "status": "completed"
    },
    "tags": []
   },
   "outputs": [],
   "source": []
  },
  {
   "cell_type": "code",
   "execution_count": null,
   "id": "romance-sweden",
   "metadata": {
    "papermill": {
     "duration": 0.011033,
     "end_time": "2021-06-01T04:40:33.258112",
     "exception": false,
     "start_time": "2021-06-01T04:40:33.247079",
     "status": "completed"
    },
    "tags": []
   },
   "outputs": [],
   "source": []
  },
  {
   "cell_type": "code",
   "execution_count": null,
   "id": "dietary-statistics",
   "metadata": {
    "papermill": {
     "duration": 0.011039,
     "end_time": "2021-06-01T04:40:33.280236",
     "exception": false,
     "start_time": "2021-06-01T04:40:33.269197",
     "status": "completed"
    },
    "tags": []
   },
   "outputs": [],
   "source": []
  }
 ],
 "metadata": {
  "kernelspec": {
   "display_name": "Python 3",
   "language": "python",
   "name": "python3"
  },
  "language_info": {
   "codemirror_mode": {
    "name": "ipython",
    "version": 3
   },
   "file_extension": ".py",
   "mimetype": "text/x-python",
   "name": "python",
   "nbconvert_exporter": "python",
   "pygments_lexer": "ipython3",
   "version": "3.6.13"
  },
  "papermill": {
   "default_parameters": {},
   "duration": 11.089356,
   "end_time": "2021-06-01T04:40:33.698461",
   "environment_variables": {},
   "exception": null,
   "input_path": "Market-News.ipynb",
   "output_path": "Market-News.ipynb",
   "parameters": {},
   "start_time": "2021-06-01T04:40:22.609105",
   "version": "2.2.2"
  }
 },
 "nbformat": 4,
 "nbformat_minor": 5
}