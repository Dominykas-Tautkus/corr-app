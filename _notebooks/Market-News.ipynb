{
 "cells": [
  {
   "cell_type": "markdown",
   "id": "short-greensboro",
   "metadata": {
    "papermill": {
     "duration": 0.015508,
     "end_time": "2021-03-19T01:50:11.200481",
     "exception": false,
     "start_time": "2021-03-19T01:50:11.184973",
     "status": "completed"
    },
    "tags": []
   },
   "source": [
    "# Kriptovaliutų naujienos"
   ]
  },
  {
   "cell_type": "code",
   "execution_count": 1,
   "id": "functioning-knowing",
   "metadata": {
    "execution": {
     "iopub.execute_input": "2021-03-19T01:50:11.230962Z",
     "iopub.status.busy": "2021-03-19T01:50:11.230325Z",
     "iopub.status.idle": "2021-03-19T01:50:12.477997Z",
     "shell.execute_reply": "2021-03-19T01:50:12.477412Z"
    },
    "papermill": {
     "duration": 1.267627,
     "end_time": "2021-03-19T01:50:12.478133",
     "exception": false,
     "start_time": "2021-03-19T01:50:11.210506",
     "status": "completed"
    },
    "tags": []
   },
   "outputs": [],
   "source": [
    "#hide_input\n",
    "import warnings\n",
    "warnings.filterwarnings('ignore')\n",
    "from scripts.read_data import read_api\n",
    "from scripts.read_data import read_news\n",
    "from scripts.read_data import read_covid\n",
    "import matplotlib.pyplot as plt \n",
    "from IPython.display import Markdown as md"
   ]
  },
  {
   "cell_type": "code",
   "execution_count": 2,
   "id": "shared-acceptance",
   "metadata": {
    "execution": {
     "iopub.execute_input": "2021-03-19T01:50:12.504735Z",
     "iopub.status.busy": "2021-03-19T01:50:12.503632Z",
     "iopub.status.idle": "2021-03-19T01:50:22.584079Z",
     "shell.execute_reply": "2021-03-19T01:50:22.583535Z"
    },
    "papermill": {
     "duration": 10.095692,
     "end_time": "2021-03-19T01:50:22.584210",
     "exception": false,
     "start_time": "2021-03-19T01:50:12.488518",
     "status": "completed"
    },
    "tags": []
   },
   "outputs": [],
   "source": [
    "#hide_input\n",
    "blockchain = read_news('blockchain') \n",
    "btc = read_news('btc') \n",
    "xrp = read_news('xrp') \n",
    "trx = read_news('trx') \n",
    "eth = read_news('eth')  \n",
    "ada = read_news('ada')\n",
    "exchange = read_news('exchange') "
   ]
  },
  {
   "cell_type": "code",
   "execution_count": 3,
   "id": "synthetic-notion",
   "metadata": {
    "execution": {
     "iopub.execute_input": "2021-03-19T01:50:22.612135Z",
     "iopub.status.busy": "2021-03-19T01:50:22.611562Z",
     "iopub.status.idle": "2021-03-19T01:50:22.614316Z",
     "shell.execute_reply": "2021-03-19T01:50:22.614950Z"
    },
    "papermill": {
     "duration": 0.019188,
     "end_time": "2021-03-19T01:50:22.615133",
     "exception": false,
     "start_time": "2021-03-19T01:50:22.595945",
     "status": "completed"
    },
    "tags": []
   },
   "outputs": [
    {
     "data": {
      "text/markdown": [
       "- Wyoming’s ‘DAO law’ passes State Senate in a 28-2 vote.  The upper chamber of Wyoming's legislature has passed a bill that, if approved, would clear the way for decentralized autonomous organizations, or DAOs, to become incorporated under state law.The post Wyoming&#8217;s &#8216;DAO law&#8217; passes State Senate in a 28-2 vote appeared first on The Block. ... [| Skaityti daugiau](https://www.theblockcrypto.com/linked/98776/wyomings-dao-law-passes-state-senate-in-a-28-2-vote?utm_source=cryptocompare&utm_medium=rss) "
      ],
      "text/plain": [
       "<IPython.core.display.Markdown object>"
      ]
     },
     "execution_count": 3,
     "metadata": {},
     "output_type": "execute_result"
    }
   ],
   "source": [
    "#hide_input\n",
    "#md('##### {}'.format(titleBTC)) \n",
    "md(\"- {}{} {}{} [| Skaityti daugiau]({}) \".format(blockchain['title'],'. ', blockchain['body'], ' ...', blockchain['url']))"
   ]
  },
  {
   "cell_type": "code",
   "execution_count": 4,
   "id": "aging-caution",
   "metadata": {
    "execution": {
     "iopub.execute_input": "2021-03-19T01:50:22.642810Z",
     "iopub.status.busy": "2021-03-19T01:50:22.642087Z",
     "iopub.status.idle": "2021-03-19T01:50:22.645523Z",
     "shell.execute_reply": "2021-03-19T01:50:22.645996Z"
    },
    "papermill": {
     "duration": 0.020167,
     "end_time": "2021-03-19T01:50:22.646119",
     "exception": false,
     "start_time": "2021-03-19T01:50:22.625952",
     "status": "completed"
    },
    "tags": []
   },
   "outputs": [
    {
     "data": {
      "text/markdown": [
       "- Why the bitcoin mining business is a different play.  While Bitcoin has been growing in popularity among retailers and institutions alike, CEO of Cipher Mining, Tyler Page, stressed the importance of the mining sector. In a recent interview, Page said that the mining business is in fact “vital to the success for the network overall.” He added: That’s our business, helping that infrastructure survive [&#8230;] ... [| Skaityti daugiau](https://ambcrypto.com/why-bitcoin-mining-is-a-different-business-play/) "
      ],
      "text/plain": [
       "<IPython.core.display.Markdown object>"
      ]
     },
     "execution_count": 4,
     "metadata": {},
     "output_type": "execute_result"
    }
   ],
   "source": [
    "#hide_input\n",
    "#md('##### {}'.format(titleBTC)) \n",
    "md(\"- {}{} {}{} [| Skaityti daugiau]({}) \".format(btc['title'],'. ', btc['body'], ' ...', btc['url']))"
   ]
  },
  {
   "cell_type": "code",
   "execution_count": 5,
   "id": "organic-actress",
   "metadata": {
    "execution": {
     "iopub.execute_input": "2021-03-19T01:50:22.674150Z",
     "iopub.status.busy": "2021-03-19T01:50:22.673589Z",
     "iopub.status.idle": "2021-03-19T01:50:22.676616Z",
     "shell.execute_reply": "2021-03-19T01:50:22.676099Z"
    },
    "papermill": {
     "duration": 0.019341,
     "end_time": "2021-03-19T01:50:22.676761",
     "exception": false,
     "start_time": "2021-03-19T01:50:22.657420",
     "status": "completed"
    },
    "tags": []
   },
   "outputs": [
    {
     "data": {
      "text/markdown": [
       "- SEC pushes back against Ripple execs in ongoing fight over personal financial information subpoenas.  The Securities and Exchange Commission pushed back Thursday after two executives of distributed ledger company Ripple asked a federal court to stop the U.S. regulator from subpoenaing personal financial records.The post SEC pushes back against Ripple execs in ongoing fight over personal financial information subpoenas appeared first on The Block. ... [| Skaityti daugiau](https://www.theblockcrypto.com/linked/98771/sec-ripple-court-subpoenas-financial-records?utm_source=cryptocompare&utm_medium=rss) "
      ],
      "text/plain": [
       "<IPython.core.display.Markdown object>"
      ]
     },
     "execution_count": 5,
     "metadata": {},
     "output_type": "execute_result"
    }
   ],
   "source": [
    "#hide_input\n",
    "#md('##### {}'.format(titleBTC)) \n",
    "md(\"- {}{} {}{} [| Skaityti daugiau]({}) \".format(xrp['title'],'. ', xrp['body'], ' ...', xrp['url']))"
   ]
  },
  {
   "cell_type": "code",
   "execution_count": 6,
   "id": "prompt-farmer",
   "metadata": {
    "execution": {
     "iopub.execute_input": "2021-03-19T01:50:22.706096Z",
     "iopub.status.busy": "2021-03-19T01:50:22.705433Z",
     "iopub.status.idle": "2021-03-19T01:50:22.708147Z",
     "shell.execute_reply": "2021-03-19T01:50:22.708704Z"
    },
    "papermill": {
     "duration": 0.02061,
     "end_time": "2021-03-19T01:50:22.708829",
     "exception": false,
     "start_time": "2021-03-19T01:50:22.688219",
     "status": "completed"
    },
    "tags": []
   },
   "outputs": [
    {
     "data": {
      "text/markdown": [
       "- Tron, BAT, VeChain Price Analysis: 18 March.  Tron recorded some significant volatility over the past week, with a choppy Bitcoin market being a major contributing factor. On the other hand, BAT soared past $1 and touched a high of $1.41, while VeChain marched steadily higher. Tron [TRX] The $0.0535-level and the $0.0487-level represented a 9% move down and a near 10% move [&#8230;] ... [| Skaityti daugiau](https://ambcrypto.com/tron-bat-vechain-price-analysis-18-march/) "
      ],
      "text/plain": [
       "<IPython.core.display.Markdown object>"
      ]
     },
     "execution_count": 6,
     "metadata": {},
     "output_type": "execute_result"
    }
   ],
   "source": [
    "#hide_input\n",
    "#md('##### {}'.format(titleBTC)) \n",
    "md(\"- {}{} {}{} [| Skaityti daugiau]({}) \".format(trx['title'],'. ', trx['body'], ' ...', trx['url']))"
   ]
  },
  {
   "cell_type": "code",
   "execution_count": 7,
   "id": "illegal-greece",
   "metadata": {
    "execution": {
     "iopub.execute_input": "2021-03-19T01:50:22.738867Z",
     "iopub.status.busy": "2021-03-19T01:50:22.738166Z",
     "iopub.status.idle": "2021-03-19T01:50:22.742041Z",
     "shell.execute_reply": "2021-03-19T01:50:22.742701Z"
    },
    "papermill": {
     "duration": 0.02118,
     "end_time": "2021-03-19T01:50:22.742828",
     "exception": false,
     "start_time": "2021-03-19T01:50:22.721648",
     "status": "completed"
    },
    "tags": []
   },
   "outputs": [
    {
     "data": {
      "text/markdown": [
       "- Ethereum Could Reduce Fees With Batch Transactions.   ... [| Skaityti daugiau](https://cryptobriefing.com/ethereum-could-reduce-fees-with-batch-transactions/) "
      ],
      "text/plain": [
       "<IPython.core.display.Markdown object>"
      ]
     },
     "execution_count": 7,
     "metadata": {},
     "output_type": "execute_result"
    }
   ],
   "source": [
    "#hide_input\n",
    "#md('##### {}'.format(titleBTC)) \n",
    "md(\"- {}{} {}{} [| Skaityti daugiau]({}) \".format(eth['title'],'. ', eth['body'], ' ...', eth['url']))"
   ]
  },
  {
   "cell_type": "code",
   "execution_count": 8,
   "id": "sublime-lounge",
   "metadata": {
    "execution": {
     "iopub.execute_input": "2021-03-19T01:50:22.774172Z",
     "iopub.status.busy": "2021-03-19T01:50:22.773621Z",
     "iopub.status.idle": "2021-03-19T01:50:22.777639Z",
     "shell.execute_reply": "2021-03-19T01:50:22.778249Z"
    },
    "papermill": {
     "duration": 0.022204,
     "end_time": "2021-03-19T01:50:22.778417",
     "exception": false,
     "start_time": "2021-03-19T01:50:22.756213",
     "status": "completed"
    },
    "tags": []
   },
   "outputs": [
    {
     "data": {
      "text/markdown": [
       "- Cardano Price Analysis: 18 March.  Disclaimer: The findings of the following analysis are the sole opinions of the writer and should not be taken as investment advice While Cardano’s price was trading sideways for over a week, the last 48 hours saw the cryptocurrency hike in what was an exhibition of bullish momentum. The said hike enabled ADA to head towards [&#8230;] ... [| Skaityti daugiau](https://ambcrypto.com/cardano-price-analysis-18-march/) "
      ],
      "text/plain": [
       "<IPython.core.display.Markdown object>"
      ]
     },
     "execution_count": 8,
     "metadata": {},
     "output_type": "execute_result"
    }
   ],
   "source": [
    "#hide_input\n",
    "#md('##### {}'.format(titleBTC)) \n",
    "md(\"- {}{} {}{} [| Skaityti daugiau]({}) \".format(ada['title'],'. ', ada['body'], ' ...', ada['url']))"
   ]
  },
  {
   "cell_type": "code",
   "execution_count": 9,
   "id": "specified-ordering",
   "metadata": {
    "execution": {
     "iopub.execute_input": "2021-03-19T01:50:22.811105Z",
     "iopub.status.busy": "2021-03-19T01:50:22.810540Z",
     "iopub.status.idle": "2021-03-19T01:50:22.815550Z",
     "shell.execute_reply": "2021-03-19T01:50:22.816083Z"
    },
    "papermill": {
     "duration": 0.024874,
     "end_time": "2021-03-19T01:50:22.816222",
     "exception": false,
     "start_time": "2021-03-19T01:50:22.791348",
     "status": "completed"
    },
    "tags": []
   },
   "outputs": [
    {
     "data": {
      "text/markdown": [
       "- Chinese Public Company Meitu Buys More Bitcoin — Treasury Now Holds $90 Million in Cryptocurrencies.  One of China&#8217;s top internet app makers, Meitu Inc., has purchased more bitcoin for its treasury. The company now holds about $90 million in cryptocurrencies. Meitu is listed on the Hong Kong stock exchange and its flagship app has more than 1 billion users worldwide. Chinese Publicly Traded Company Increases Bitcoin Holdings in Its Treasury [&#8230;] ... [| Skaityti daugiau](https://news.bitcoin.com/chinese-public-company-meitu-buys-bitcoin-treasury-90-million-cryptocurrencies/) "
      ],
      "text/plain": [
       "<IPython.core.display.Markdown object>"
      ]
     },
     "execution_count": 9,
     "metadata": {},
     "output_type": "execute_result"
    }
   ],
   "source": [
    "#hide_input\n",
    "#md('##### {}'.format(titleBTC)) \n",
    "md(\"- {}{} {}{} [| Skaityti daugiau]({}) \".format(exchange['title'],'. ', exchange['body'], ' ...', exchange['url']))"
   ]
  },
  {
   "cell_type": "code",
   "execution_count": null,
   "id": "tender-livestock",
   "metadata": {
    "papermill": {
     "duration": 0.013581,
     "end_time": "2021-03-19T01:50:22.843811",
     "exception": false,
     "start_time": "2021-03-19T01:50:22.830230",
     "status": "completed"
    },
    "tags": []
   },
   "outputs": [],
   "source": []
  },
  {
   "cell_type": "code",
   "execution_count": null,
   "id": "appreciated-diamond",
   "metadata": {
    "papermill": {
     "duration": 0.014484,
     "end_time": "2021-03-19T01:50:22.871712",
     "exception": false,
     "start_time": "2021-03-19T01:50:22.857228",
     "status": "completed"
    },
    "tags": []
   },
   "outputs": [],
   "source": []
  },
  {
   "cell_type": "code",
   "execution_count": null,
   "id": "romance-sweden",
   "metadata": {
    "papermill": {
     "duration": 0.015428,
     "end_time": "2021-03-19T01:50:22.906684",
     "exception": false,
     "start_time": "2021-03-19T01:50:22.891256",
     "status": "completed"
    },
    "tags": []
   },
   "outputs": [],
   "source": []
  },
  {
   "cell_type": "code",
   "execution_count": null,
   "id": "dietary-statistics",
   "metadata": {
    "papermill": {
     "duration": 0.015844,
     "end_time": "2021-03-19T01:50:22.937951",
     "exception": false,
     "start_time": "2021-03-19T01:50:22.922107",
     "status": "completed"
    },
    "tags": []
   },
   "outputs": [],
   "source": []
  }
 ],
 "metadata": {
  "kernelspec": {
   "display_name": "Python 3",
   "language": "python",
   "name": "python3"
  },
  "language_info": {
   "codemirror_mode": {
    "name": "ipython",
    "version": 3
   },
   "file_extension": ".py",
   "mimetype": "text/x-python",
   "name": "python",
   "nbconvert_exporter": "python",
   "pygments_lexer": "ipython3",
   "version": "3.6.13"
  },
  "papermill": {
   "default_parameters": {},
   "duration": 13.266028,
   "end_time": "2021-03-19T01:50:23.361160",
   "environment_variables": {},
   "exception": null,
   "input_path": "Market-News.ipynb",
   "output_path": "Market-News.ipynb",
   "parameters": {},
   "start_time": "2021-03-19T01:50:10.095132",
   "version": "2.2.2"
  }
 },
 "nbformat": 4,
 "nbformat_minor": 5
}