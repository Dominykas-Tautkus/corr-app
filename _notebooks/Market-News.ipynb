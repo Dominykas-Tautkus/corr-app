{
 "cells": [
  {
   "cell_type": "markdown",
   "id": "short-greensboro",
   "metadata": {
    "papermill": {
     "duration": 0.015145,
     "end_time": "2021-02-14T01:40:53.207266",
     "exception": false,
     "start_time": "2021-02-14T01:40:53.192121",
     "status": "completed"
    },
    "tags": []
   },
   "source": [
    "# Kriptovaliutų naujienos"
   ]
  },
  {
   "cell_type": "code",
   "execution_count": 1,
   "id": "functioning-knowing",
   "metadata": {
    "execution": {
     "iopub.execute_input": "2021-02-14T01:40:53.242127Z",
     "iopub.status.busy": "2021-02-14T01:40:53.241468Z",
     "iopub.status.idle": "2021-02-14T01:40:54.694820Z",
     "shell.execute_reply": "2021-02-14T01:40:54.694207Z"
    },
    "papermill": {
     "duration": 1.476359,
     "end_time": "2021-02-14T01:40:54.694978",
     "exception": false,
     "start_time": "2021-02-14T01:40:53.218619",
     "status": "completed"
    },
    "tags": []
   },
   "outputs": [],
   "source": [
    "#hide_input\n",
    "import warnings\n",
    "warnings.filterwarnings('ignore')\n",
    "from scripts.read_data import read_api\n",
    "from scripts.read_data import read_news\n",
    "from scripts.read_data import read_covid\n",
    "import matplotlib.pyplot as plt \n",
    "from IPython.display import Markdown as md"
   ]
  },
  {
   "cell_type": "code",
   "execution_count": 2,
   "id": "shared-acceptance",
   "metadata": {
    "execution": {
     "iopub.execute_input": "2021-02-14T01:40:54.726963Z",
     "iopub.status.busy": "2021-02-14T01:40:54.725986Z",
     "iopub.status.idle": "2021-02-14T01:41:02.278749Z",
     "shell.execute_reply": "2021-02-14T01:41:02.278089Z"
    },
    "papermill": {
     "duration": 7.571234,
     "end_time": "2021-02-14T01:41:02.278900",
     "exception": false,
     "start_time": "2021-02-14T01:40:54.707666",
     "status": "completed"
    },
    "tags": []
   },
   "outputs": [],
   "source": [
    "#hide_input\n",
    "blockchain = read_news('blockchain') \n",
    "btc = read_news('btc') \n",
    "xrp = read_news('xrp') \n",
    "trx = read_news('trx') \n",
    "eth = read_news('eth')  \n",
    "ada = read_news('ada')\n",
    "exchange = read_news('exchange') "
   ]
  },
  {
   "cell_type": "code",
   "execution_count": 3,
   "id": "synthetic-notion",
   "metadata": {
    "execution": {
     "iopub.execute_input": "2021-02-14T01:41:02.309680Z",
     "iopub.status.busy": "2021-02-14T01:41:02.308969Z",
     "iopub.status.idle": "2021-02-14T01:41:02.317081Z",
     "shell.execute_reply": "2021-02-14T01:41:02.316416Z"
    },
    "papermill": {
     "duration": 0.025963,
     "end_time": "2021-02-14T01:41:02.317243",
     "exception": false,
     "start_time": "2021-02-14T01:41:02.291280",
     "status": "completed"
    },
    "tags": []
   },
   "outputs": [
    {
     "data": {
      "text/markdown": [
       "- Blockchain Veteran Sangwook Lee Joins Wisebitcoin Exchange as Senior Advisor.  Veteran blockchain executive Sangwook Lee has joined Wisebitcoin crypto exchange as senior advisor to help boost the company’s rapid development. Lee’s resume includes top management positions at Bluehelix Korea (CEO) and Huobi Korea (CFO). Lee will utilize his knowledge to help broaden Wisebitcoin’s services, which focuses on savvy professional crypto investors. With a proven record [&#8230;]The post Blockchain Veteran Sangwook Lee Joins Wisebitcoin Exchange as Senior Advisor appeared first on The Daily Hodl. ... [| Skaityti daugiau](https://dailyhodl.com/2021/02/13/blockchain-veteran-sangwook-lee-joins-wisebitcoin-exchange-as-senior-advisor/) "
      ],
      "text/plain": [
       "<IPython.core.display.Markdown object>"
      ]
     },
     "execution_count": 3,
     "metadata": {},
     "output_type": "execute_result"
    }
   ],
   "source": [
    "#hide_input\n",
    "#md('##### {}'.format(titleBTC)) \n",
    "md(\"- {}{} {}{} [| Skaityti daugiau]({}) \".format(blockchain['title'],'. ', blockchain['body'], ' ...', blockchain['url']))"
   ]
  },
  {
   "cell_type": "code",
   "execution_count": 4,
   "id": "aging-caution",
   "metadata": {
    "execution": {
     "iopub.execute_input": "2021-02-14T01:41:02.347491Z",
     "iopub.status.busy": "2021-02-14T01:41:02.346756Z",
     "iopub.status.idle": "2021-02-14T01:41:02.350279Z",
     "shell.execute_reply": "2021-02-14T01:41:02.349604Z"
    },
    "papermill": {
     "duration": 0.020695,
     "end_time": "2021-02-14T01:41:02.350402",
     "exception": false,
     "start_time": "2021-02-14T01:41:02.329707",
     "status": "completed"
    },
    "tags": []
   },
   "outputs": [
    {
     "data": {
      "text/markdown": [
       "- Gold Firm CEO Says Bullion May Act As a Hedge Against Cryptocurrency.  Newcrest Mining Ltd. CEO Sandeep Biswas told Bloomberg the rising tides of crypto-assets would drive more investor interest to gold due to its price stability. ... [| Skaityti daugiau](https://www.cryptoglobe.com/latest/2021/02/gold-firm-ceo-says-bullion-may-act-as-a-hedge-against-cryptocurrency/) "
      ],
      "text/plain": [
       "<IPython.core.display.Markdown object>"
      ]
     },
     "execution_count": 4,
     "metadata": {},
     "output_type": "execute_result"
    }
   ],
   "source": [
    "#hide_input\n",
    "#md('##### {}'.format(titleBTC)) \n",
    "md(\"- {}{} {}{} [| Skaityti daugiau]({}) \".format(btc['title'],'. ', btc['body'], ' ...', btc['url']))"
   ]
  },
  {
   "cell_type": "code",
   "execution_count": 5,
   "id": "organic-actress",
   "metadata": {
    "execution": {
     "iopub.execute_input": "2021-02-14T01:41:02.379027Z",
     "iopub.status.busy": "2021-02-14T01:41:02.378345Z",
     "iopub.status.idle": "2021-02-14T01:41:02.381879Z",
     "shell.execute_reply": "2021-02-14T01:41:02.381344Z"
    },
    "papermill": {
     "duration": 0.020179,
     "end_time": "2021-02-14T01:41:02.381997",
     "exception": false,
     "start_time": "2021-02-14T01:41:02.361818",
     "status": "completed"
    },
    "tags": []
   },
   "outputs": [
    {
     "data": {
      "text/markdown": [
       "- XRP Price Analysis: 13 February.  Disclaimer: The findings of the following analysis are the sole opinions of the writer and should not be considered investment advice XRP has been strongly bullish since its surge past the $0.3-mark on the price charts. Over the past few days, however, XRP&#8217;s hike to $0.75 ran into a roadblock as a healthy retracement followed, with [&#8230;] ... [| Skaityti daugiau](https://ambcrypto.com/xrp-price-analysis-13-february/) "
      ],
      "text/plain": [
       "<IPython.core.display.Markdown object>"
      ]
     },
     "execution_count": 5,
     "metadata": {},
     "output_type": "execute_result"
    }
   ],
   "source": [
    "#hide_input\n",
    "#md('##### {}'.format(titleBTC)) \n",
    "md(\"- {}{} {}{} [| Skaityti daugiau]({}) \".format(xrp['title'],'. ', xrp['body'], ' ...', xrp['url']))"
   ]
  },
  {
   "cell_type": "code",
   "execution_count": 6,
   "id": "prompt-farmer",
   "metadata": {
    "execution": {
     "iopub.execute_input": "2021-02-14T01:41:02.409642Z",
     "iopub.status.busy": "2021-02-14T01:41:02.408938Z",
     "iopub.status.idle": "2021-02-14T01:41:02.413026Z",
     "shell.execute_reply": "2021-02-14T01:41:02.413522Z"
    },
    "papermill": {
     "duration": 0.020362,
     "end_time": "2021-02-14T01:41:02.413641",
     "exception": false,
     "start_time": "2021-02-14T01:41:02.393279",
     "status": "completed"
    },
    "tags": []
   },
   "outputs": [
    {
     "data": {
      "text/markdown": [
       "- Tron, Augur, Zcash Price Analysis: 13 February.  Tron moved within an ascending triangle, but a northbound breakout did not seem likely over the next few trading sessions. Further down the crypto-ladder, even though Augur and Zcash traded around their local highs, bearish indicators meant that a correction loomed large for the altcoins moving forward. Tron [TRX] Tron touched a local high of [&#8230;] ... [| Skaityti daugiau](https://ambcrypto.com/tron-augur-zcash-price-analysis-13-february/) "
      ],
      "text/plain": [
       "<IPython.core.display.Markdown object>"
      ]
     },
     "execution_count": 6,
     "metadata": {},
     "output_type": "execute_result"
    }
   ],
   "source": [
    "#hide_input\n",
    "#md('##### {}'.format(titleBTC)) \n",
    "md(\"- {}{} {}{} [| Skaityti daugiau]({}) \".format(trx['title'],'. ', trx['body'], ' ...', trx['url']))"
   ]
  },
  {
   "cell_type": "code",
   "execution_count": 7,
   "id": "illegal-greece",
   "metadata": {
    "execution": {
     "iopub.execute_input": "2021-02-14T01:41:02.445983Z",
     "iopub.status.busy": "2021-02-14T01:41:02.445190Z",
     "iopub.status.idle": "2021-02-14T01:41:02.449213Z",
     "shell.execute_reply": "2021-02-14T01:41:02.449942Z"
    },
    "papermill": {
     "duration": 0.025057,
     "end_time": "2021-02-14T01:41:02.450161",
     "exception": false,
     "start_time": "2021-02-14T01:41:02.425104",
     "status": "completed"
    },
    "tags": []
   },
   "outputs": [
    {
     "data": {
      "text/markdown": [
       "- Here’s how Eth2, DeFi and Bitcoin price will impact Ethereum’s CME futures.  Investors are nervous that this week’s CME ETH futures launch will be a repeat of Bitcoin’s 2017 CME launch but data suggests otherwise. ... [| Skaityti daugiau](https://cointelegraph.com/news/here-s-how-eth2-defi-and-bitcoin-price-will-impact-ethereum-s-cme-futures) "
      ],
      "text/plain": [
       "<IPython.core.display.Markdown object>"
      ]
     },
     "execution_count": 7,
     "metadata": {},
     "output_type": "execute_result"
    }
   ],
   "source": [
    "#hide_input\n",
    "#md('##### {}'.format(titleBTC)) \n",
    "md(\"- {}{} {}{} [| Skaityti daugiau]({}) \".format(eth['title'],'. ', eth['body'], ' ...', eth['url']))"
   ]
  },
  {
   "cell_type": "code",
   "execution_count": 8,
   "id": "sublime-lounge",
   "metadata": {
    "execution": {
     "iopub.execute_input": "2021-02-14T01:41:02.482580Z",
     "iopub.status.busy": "2021-02-14T01:41:02.481835Z",
     "iopub.status.idle": "2021-02-14T01:41:02.486169Z",
     "shell.execute_reply": "2021-02-14T01:41:02.486761Z"
    },
    "papermill": {
     "duration": 0.022486,
     "end_time": "2021-02-14T01:41:02.486930",
     "exception": false,
     "start_time": "2021-02-14T01:41:02.464444",
     "status": "completed"
    },
    "tags": []
   },
   "outputs": [
    {
     "data": {
      "text/markdown": [
       "- Cardano is soaring, but can ADA gain another 380% to break its record high vs. Bitcoin?.  The price of ADA has surged by 170% in February to new all-time highs in U.S. dollars.  ... [| Skaityti daugiau](https://cointelegraph.com/news/cardano-is-soaring-but-can-ada-gain-another-380-to-break-its-record-high-vs-bitcoin) "
      ],
      "text/plain": [
       "<IPython.core.display.Markdown object>"
      ]
     },
     "execution_count": 8,
     "metadata": {},
     "output_type": "execute_result"
    }
   ],
   "source": [
    "#hide_input\n",
    "#md('##### {}'.format(titleBTC)) \n",
    "md(\"- {}{} {}{} [| Skaityti daugiau]({}) \".format(ada['title'],'. ', ada['body'], ' ...', ada['url']))"
   ]
  },
  {
   "cell_type": "code",
   "execution_count": 9,
   "id": "specified-ordering",
   "metadata": {
    "execution": {
     "iopub.execute_input": "2021-02-14T01:41:02.521073Z",
     "iopub.status.busy": "2021-02-14T01:41:02.520493Z",
     "iopub.status.idle": "2021-02-14T01:41:02.523248Z",
     "shell.execute_reply": "2021-02-14T01:41:02.523782Z"
    },
    "papermill": {
     "duration": 0.022307,
     "end_time": "2021-02-14T01:41:02.523991",
     "exception": false,
     "start_time": "2021-02-14T01:41:02.501684",
     "status": "completed"
    },
    "tags": []
   },
   "outputs": [
    {
     "data": {
      "text/markdown": [
       "- Apple Should Consider Entering Cryptocurrency Space, Says RBC Analyst.  RBC Capital Markets analyst Mitch Steves told CNBC that Apple should consider creating its own crypto exchange, which could provide billions in return equity. ... [| Skaityti daugiau](https://www.cryptoglobe.com/latest/2021/02/apple-should-consider-entering-cryptocurrency-space-says-rbc-analyst/) "
      ],
      "text/plain": [
       "<IPython.core.display.Markdown object>"
      ]
     },
     "execution_count": 9,
     "metadata": {},
     "output_type": "execute_result"
    }
   ],
   "source": [
    "#hide_input\n",
    "#md('##### {}'.format(titleBTC)) \n",
    "md(\"- {}{} {}{} [| Skaityti daugiau]({}) \".format(exchange['title'],'. ', exchange['body'], ' ...', exchange['url']))"
   ]
  },
  {
   "cell_type": "code",
   "execution_count": null,
   "id": "tender-livestock",
   "metadata": {
    "papermill": {
     "duration": 0.014062,
     "end_time": "2021-02-14T01:41:02.551859",
     "exception": false,
     "start_time": "2021-02-14T01:41:02.537797",
     "status": "completed"
    },
    "tags": []
   },
   "outputs": [],
   "source": []
  },
  {
   "cell_type": "code",
   "execution_count": null,
   "id": "appreciated-diamond",
   "metadata": {
    "papermill": {
     "duration": 0.013802,
     "end_time": "2021-02-14T01:41:02.579354",
     "exception": false,
     "start_time": "2021-02-14T01:41:02.565552",
     "status": "completed"
    },
    "tags": []
   },
   "outputs": [],
   "source": []
  },
  {
   "cell_type": "code",
   "execution_count": null,
   "id": "romance-sweden",
   "metadata": {
    "papermill": {
     "duration": 0.01436,
     "end_time": "2021-02-14T01:41:02.609429",
     "exception": false,
     "start_time": "2021-02-14T01:41:02.595069",
     "status": "completed"
    },
    "tags": []
   },
   "outputs": [],
   "source": []
  },
  {
   "cell_type": "code",
   "execution_count": null,
   "id": "dietary-statistics",
   "metadata": {
    "papermill": {
     "duration": 0.013465,
     "end_time": "2021-02-14T01:41:02.636058",
     "exception": false,
     "start_time": "2021-02-14T01:41:02.622593",
     "status": "completed"
    },
    "tags": []
   },
   "outputs": [],
   "source": []
  }
 ],
 "metadata": {
  "kernelspec": {
   "display_name": "Python 3",
   "language": "python",
   "name": "python3"
  },
  "language_info": {
   "codemirror_mode": {
    "name": "ipython",
    "version": 3
   },
   "file_extension": ".py",
   "mimetype": "text/x-python",
   "name": "python",
   "nbconvert_exporter": "python",
   "pygments_lexer": "ipython3",
   "version": "3.6.12"
  },
  "papermill": {
   "default_parameters": {},
   "duration": 10.973717,
   "end_time": "2021-02-14T01:41:03.055475",
   "environment_variables": {},
   "exception": null,
   "input_path": "Market-News.ipynb",
   "output_path": "Market-News.ipynb",
   "parameters": {},
   "start_time": "2021-02-14T01:40:52.081758",
   "version": "2.2.2"
  }
 },
 "nbformat": 4,
 "nbformat_minor": 5
}