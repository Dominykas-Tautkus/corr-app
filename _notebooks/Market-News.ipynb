{
 "cells": [
  {
   "cell_type": "markdown",
   "id": "short-greensboro",
   "metadata": {
    "papermill": {
     "duration": 0.017266,
     "end_time": "2021-04-28T02:09:33.609875",
     "exception": false,
     "start_time": "2021-04-28T02:09:33.592609",
     "status": "completed"
    },
    "tags": []
   },
   "source": [
    "# Kriptovaliutų naujienos"
   ]
  },
  {
   "cell_type": "code",
   "execution_count": 1,
   "id": "functioning-knowing",
   "metadata": {
    "execution": {
     "iopub.execute_input": "2021-04-28T02:09:33.642842Z",
     "iopub.status.busy": "2021-04-28T02:09:33.642254Z",
     "iopub.status.idle": "2021-04-28T02:09:34.761985Z",
     "shell.execute_reply": "2021-04-28T02:09:34.760988Z"
    },
    "papermill": {
     "duration": 1.142115,
     "end_time": "2021-04-28T02:09:34.762129",
     "exception": false,
     "start_time": "2021-04-28T02:09:33.620014",
     "status": "completed"
    },
    "tags": []
   },
   "outputs": [],
   "source": [
    "#hide_input\n",
    "import warnings\n",
    "warnings.filterwarnings('ignore')\n",
    "from scripts.read_data import read_api\n",
    "from scripts.read_data import read_news\n",
    "from scripts.read_data import read_covid\n",
    "import matplotlib.pyplot as plt \n",
    "from IPython.display import Markdown as md"
   ]
  },
  {
   "cell_type": "code",
   "execution_count": 2,
   "id": "shared-acceptance",
   "metadata": {
    "execution": {
     "iopub.execute_input": "2021-04-28T02:09:34.786815Z",
     "iopub.status.busy": "2021-04-28T02:09:34.785734Z",
     "iopub.status.idle": "2021-04-28T02:09:44.455940Z",
     "shell.execute_reply": "2021-04-28T02:09:44.455320Z"
    },
    "papermill": {
     "duration": 9.684526,
     "end_time": "2021-04-28T02:09:44.456068",
     "exception": false,
     "start_time": "2021-04-28T02:09:34.771542",
     "status": "completed"
    },
    "tags": []
   },
   "outputs": [],
   "source": [
    "#hide_input\n",
    "blockchain = read_news('blockchain') \n",
    "btc = read_news('btc') \n",
    "xrp = read_news('xrp') \n",
    "trx = read_news('trx') \n",
    "eth = read_news('eth')  \n",
    "ada = read_news('ada')\n",
    "exchange = read_news('exchange') "
   ]
  },
  {
   "cell_type": "code",
   "execution_count": 3,
   "id": "synthetic-notion",
   "metadata": {
    "execution": {
     "iopub.execute_input": "2021-04-28T02:09:44.485665Z",
     "iopub.status.busy": "2021-04-28T02:09:44.485094Z",
     "iopub.status.idle": "2021-04-28T02:09:44.488124Z",
     "shell.execute_reply": "2021-04-28T02:09:44.487552Z"
    },
    "papermill": {
     "duration": 0.018145,
     "end_time": "2021-04-28T02:09:44.488241",
     "exception": false,
     "start_time": "2021-04-28T02:09:44.470096",
     "status": "completed"
    },
    "tags": []
   },
   "outputs": [
    {
     "data": {
      "text/markdown": [
       "- Visa CEO says payments giant is moving into crypto in a ‘very big way’.  Visa CEO Al Kelly discussed the payments giant's crypto ambitions during an earnings call on Tuesday, describing the firm as \"extremely well-positioned\" to do so. The post Visa CEO says payments giant is moving into crypto in a &#8216;very big way&#8217; appeared first on The Block. ... [| Skaityti daugiau](https://www.theblockcrypto.com/linked/103048/visa-ceo-crypto-earnings-call-comments?utm_source=cryptocompare&utm_medium=rss) "
      ],
      "text/plain": [
       "<IPython.core.display.Markdown object>"
      ]
     },
     "execution_count": 3,
     "metadata": {},
     "output_type": "execute_result"
    }
   ],
   "source": [
    "#hide_input\n",
    "#md('##### {}'.format(titleBTC)) \n",
    "md(\"- {}{} {}{} [| Skaityti daugiau]({}) \".format(blockchain['title'],'. ', blockchain['body'], ' ...', blockchain['url']))"
   ]
  },
  {
   "cell_type": "code",
   "execution_count": 4,
   "id": "aging-caution",
   "metadata": {
    "execution": {
     "iopub.execute_input": "2021-04-28T02:09:44.512732Z",
     "iopub.status.busy": "2021-04-28T02:09:44.512195Z",
     "iopub.status.idle": "2021-04-28T02:09:44.515423Z",
     "shell.execute_reply": "2021-04-28T02:09:44.515989Z"
    },
    "papermill": {
     "duration": 0.018506,
     "end_time": "2021-04-28T02:09:44.516094",
     "exception": false,
     "start_time": "2021-04-28T02:09:44.497588",
     "status": "completed"
    },
    "tags": []
   },
   "outputs": [
    {
     "data": {
      "text/markdown": [
       "- Publicly listed game maker Nexon buys $100 million worth-of bitcoin.  Tokyo-based video game maker Nexon becomes the latest publicly listed technology firm that is allocating parts of its cash into bitcoin.The post Publicly listed game maker Nexon buys $100 million worth-of bitcoin appeared first on The Block. ... [| Skaityti daugiau](https://www.theblockcrypto.com/linked/103058/game-maker-nexon-100-million-bitcoin?utm_source=cryptocompare&utm_medium=rss) "
      ],
      "text/plain": [
       "<IPython.core.display.Markdown object>"
      ]
     },
     "execution_count": 4,
     "metadata": {},
     "output_type": "execute_result"
    }
   ],
   "source": [
    "#hide_input\n",
    "#md('##### {}'.format(titleBTC)) \n",
    "md(\"- {}{} {}{} [| Skaityti daugiau]({}) \".format(btc['title'],'. ', btc['body'], ' ...', btc['url']))"
   ]
  },
  {
   "cell_type": "code",
   "execution_count": 5,
   "id": "organic-actress",
   "metadata": {
    "execution": {
     "iopub.execute_input": "2021-04-28T02:09:44.538486Z",
     "iopub.status.busy": "2021-04-28T02:09:44.537923Z",
     "iopub.status.idle": "2021-04-28T02:09:44.540679Z",
     "shell.execute_reply": "2021-04-28T02:09:44.540230Z"
    },
    "papermill": {
     "duration": 0.016232,
     "end_time": "2021-04-28T02:09:44.540781",
     "exception": false,
     "start_time": "2021-04-28T02:09:44.524549",
     "status": "completed"
    },
    "tags": []
   },
   "outputs": [
    {
     "data": {
      "text/markdown": [
       "- XRP Price Analysis: 27 April.  The past 10-days of correction for XRP was indicating that the damage to the rally could be more than expected. Consolidation under $1.24 was assumed on both the mid and long-term analysis but XRP proved to be bullish yet again. Surging by more than 20% over the past day, XRP was valued at $1.39 with [&#8230;] ... [| Skaityti daugiau](https://ambcrypto.com/xrp-price-analysis-27th-april/) "
      ],
      "text/plain": [
       "<IPython.core.display.Markdown object>"
      ]
     },
     "execution_count": 5,
     "metadata": {},
     "output_type": "execute_result"
    }
   ],
   "source": [
    "#hide_input\n",
    "#md('##### {}'.format(titleBTC)) \n",
    "md(\"- {}{} {}{} [| Skaityti daugiau]({}) \".format(xrp['title'],'. ', xrp['body'], ' ...', xrp['url']))"
   ]
  },
  {
   "cell_type": "code",
   "execution_count": 6,
   "id": "prompt-farmer",
   "metadata": {
    "execution": {
     "iopub.execute_input": "2021-04-28T02:09:44.569707Z",
     "iopub.status.busy": "2021-04-28T02:09:44.569163Z",
     "iopub.status.idle": "2021-04-28T02:09:44.573171Z",
     "shell.execute_reply": "2021-04-28T02:09:44.572631Z"
    },
    "papermill": {
     "duration": 0.021744,
     "end_time": "2021-04-28T02:09:44.573277",
     "exception": false,
     "start_time": "2021-04-28T02:09:44.551533",
     "status": "completed"
    },
    "tags": []
   },
   "outputs": [
    {
     "data": {
      "text/markdown": [
       "- Why There Is Now More Tether on Tron Than Ethereum.  More of the stablecoin is on the Tron blockchain than ever before. Here's what's happening and why it matters. ... [| Skaityti daugiau](https://decrypt.co/69265/tether-transactions-tron-ethereum-why) "
      ],
      "text/plain": [
       "<IPython.core.display.Markdown object>"
      ]
     },
     "execution_count": 6,
     "metadata": {},
     "output_type": "execute_result"
    }
   ],
   "source": [
    "#hide_input\n",
    "#md('##### {}'.format(titleBTC)) \n",
    "md(\"- {}{} {}{} [| Skaityti daugiau]({}) \".format(trx['title'],'. ', trx['body'], ' ...', trx['url']))"
   ]
  },
  {
   "cell_type": "code",
   "execution_count": 7,
   "id": "illegal-greece",
   "metadata": {
    "execution": {
     "iopub.execute_input": "2021-04-28T02:09:44.599890Z",
     "iopub.status.busy": "2021-04-28T02:09:44.599423Z",
     "iopub.status.idle": "2021-04-28T02:09:44.602344Z",
     "shell.execute_reply": "2021-04-28T02:09:44.601941Z"
    },
    "papermill": {
     "duration": 0.017788,
     "end_time": "2021-04-28T02:09:44.602445",
     "exception": false,
     "start_time": "2021-04-28T02:09:44.584657",
     "status": "completed"
    },
    "tags": []
   },
   "outputs": [
    {
     "data": {
      "text/markdown": [
       "- Bitcoin Market Dominance Falls As $55k Resistance Pushes Alt-season.  The crypto market saw high gains for the second day after the weekend sell-off that caused the market to look like a bloodbath. Data from TradingView showed that Bitcoin rose above $54,000 in the early trading hours of Tuesday. As of writing, the pioneer cryptocurrency is trading at $55,152, a gain of 4.08% in the [&#8230;] ... [| Skaityti daugiau](https://www.newsbtc.com/news/bitcoin-market-dominance-falls-as-55k-resistance-pushes-alt-season/) "
      ],
      "text/plain": [
       "<IPython.core.display.Markdown object>"
      ]
     },
     "execution_count": 7,
     "metadata": {},
     "output_type": "execute_result"
    }
   ],
   "source": [
    "#hide_input\n",
    "#md('##### {}'.format(titleBTC)) \n",
    "md(\"- {}{} {}{} [| Skaityti daugiau]({}) \".format(eth['title'],'. ', eth['body'], ' ...', eth['url']))"
   ]
  },
  {
   "cell_type": "code",
   "execution_count": 8,
   "id": "sublime-lounge",
   "metadata": {
    "execution": {
     "iopub.execute_input": "2021-04-28T02:09:44.628694Z",
     "iopub.status.busy": "2021-04-28T02:09:44.628101Z",
     "iopub.status.idle": "2021-04-28T02:09:44.630198Z",
     "shell.execute_reply": "2021-04-28T02:09:44.630641Z"
    },
    "papermill": {
     "duration": 0.017654,
     "end_time": "2021-04-28T02:09:44.630746",
     "exception": false,
     "start_time": "2021-04-28T02:09:44.613092",
     "status": "completed"
    },
    "tags": []
   },
   "outputs": [
    {
     "data": {
      "text/markdown": [
       "- Cardano founder Charles Hoskinson predicts crypto interoperability converging to a “Wi-Fi” moment.  IOHK CEO and Cardano founder Charles Hoskinson recently spoke with Forbes to give a rundown of progression in the crypto space. The post Cardano founder Charles Hoskinson predicts crypto interoperability converging to a &#8220;Wi-Fi&#8221; moment appeared first on CryptoSlate. ... [| Skaityti daugiau](https://cryptoslate.com/cardano-founder-charles-hoskinson-predicts-crypto-interoperability-converging-to-a-wi-fi-moment/) "
      ],
      "text/plain": [
       "<IPython.core.display.Markdown object>"
      ]
     },
     "execution_count": 8,
     "metadata": {},
     "output_type": "execute_result"
    }
   ],
   "source": [
    "#hide_input\n",
    "#md('##### {}'.format(titleBTC)) \n",
    "md(\"- {}{} {}{} [| Skaityti daugiau]({}) \".format(ada['title'],'. ', ada['body'], ' ...', ada['url']))"
   ]
  },
  {
   "cell_type": "code",
   "execution_count": 9,
   "id": "specified-ordering",
   "metadata": {
    "execution": {
     "iopub.execute_input": "2021-04-28T02:09:44.655840Z",
     "iopub.status.busy": "2021-04-28T02:09:44.655097Z",
     "iopub.status.idle": "2021-04-28T02:09:44.659995Z",
     "shell.execute_reply": "2021-04-28T02:09:44.660428Z"
    },
    "papermill": {
     "duration": 0.019371,
     "end_time": "2021-04-28T02:09:44.660544",
     "exception": false,
     "start_time": "2021-04-28T02:09:44.641173",
     "status": "completed"
    },
    "tags": []
   },
   "outputs": [
    {
     "data": {
      "text/markdown": [
       "- Closely-Followed Trader Maps Out Mega Bullish Price Targets for Ethereum, Binance Coin, and One Overlooked Crypto Asset.  Popular pseudonymous crypto trader known as The Crypto Dog is outlining bullish price targets for Ethereum (ETH), Binance Coin (BNB), and another under-the-radar altcoin that he says is primed for rallying. In a new tweet, the trader tells his 409,700 followers that an ascending broadening wedge is forming on ETH with a potential to print [&#8230;]The post Closely-Followed Trader Maps Out Mega Bullish Price Targets for Ethereum, Binance Coin, and One Overlooked Crypto Asset appeared first on The Daily Hodl. ... [| Skaityti daugiau](https://dailyhodl.com/2021/04/27/closely-followed-trader-maps-out-mega-bullish-price-targets-for-ethereum-binance-coin-and-one-overlooked-crypto-asset/) "
      ],
      "text/plain": [
       "<IPython.core.display.Markdown object>"
      ]
     },
     "execution_count": 9,
     "metadata": {},
     "output_type": "execute_result"
    }
   ],
   "source": [
    "#hide_input\n",
    "#md('##### {}'.format(titleBTC)) \n",
    "md(\"- {}{} {}{} [| Skaityti daugiau]({}) \".format(exchange['title'],'. ', exchange['body'], ' ...', exchange['url']))"
   ]
  },
  {
   "cell_type": "code",
   "execution_count": null,
   "id": "tender-livestock",
   "metadata": {
    "papermill": {
     "duration": 0.011441,
     "end_time": "2021-04-28T02:09:44.683649",
     "exception": false,
     "start_time": "2021-04-28T02:09:44.672208",
     "status": "completed"
    },
    "tags": []
   },
   "outputs": [],
   "source": []
  },
  {
   "cell_type": "code",
   "execution_count": null,
   "id": "appreciated-diamond",
   "metadata": {
    "papermill": {
     "duration": 0.01061,
     "end_time": "2021-04-28T02:09:44.705524",
     "exception": false,
     "start_time": "2021-04-28T02:09:44.694914",
     "status": "completed"
    },
    "tags": []
   },
   "outputs": [],
   "source": []
  },
  {
   "cell_type": "code",
   "execution_count": null,
   "id": "romance-sweden",
   "metadata": {
    "papermill": {
     "duration": 0.010824,
     "end_time": "2021-04-28T02:09:44.726775",
     "exception": false,
     "start_time": "2021-04-28T02:09:44.715951",
     "status": "completed"
    },
    "tags": []
   },
   "outputs": [],
   "source": []
  },
  {
   "cell_type": "code",
   "execution_count": null,
   "id": "dietary-statistics",
   "metadata": {
    "papermill": {
     "duration": 0.010542,
     "end_time": "2021-04-28T02:09:44.747339",
     "exception": false,
     "start_time": "2021-04-28T02:09:44.736797",
     "status": "completed"
    },
    "tags": []
   },
   "outputs": [],
   "source": []
  }
 ],
 "metadata": {
  "kernelspec": {
   "display_name": "Python 3",
   "language": "python",
   "name": "python3"
  },
  "language_info": {
   "codemirror_mode": {
    "name": "ipython",
    "version": 3
   },
   "file_extension": ".py",
   "mimetype": "text/x-python",
   "name": "python",
   "nbconvert_exporter": "python",
   "pygments_lexer": "ipython3",
   "version": "3.6.13"
  },
  "papermill": {
   "default_parameters": {},
   "duration": 12.613891,
   "end_time": "2021-04-28T02:09:45.167918",
   "environment_variables": {},
   "exception": null,
   "input_path": "Market-News.ipynb",
   "output_path": "Market-News.ipynb",
   "parameters": {},
   "start_time": "2021-04-28T02:09:32.554027",
   "version": "2.2.2"
  }
 },
 "nbformat": 4,
 "nbformat_minor": 5
}