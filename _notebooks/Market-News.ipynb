{
 "cells": [
  {
   "cell_type": "markdown",
   "id": "short-greensboro",
   "metadata": {
    "papermill": {
     "duration": 0.014981,
     "end_time": "2021-02-21T01:41:39.589511",
     "exception": false,
     "start_time": "2021-02-21T01:41:39.574530",
     "status": "completed"
    },
    "tags": []
   },
   "source": [
    "# Kriptovaliutų naujienos"
   ]
  },
  {
   "cell_type": "code",
   "execution_count": 1,
   "id": "functioning-knowing",
   "metadata": {
    "execution": {
     "iopub.execute_input": "2021-02-21T01:41:39.620956Z",
     "iopub.status.busy": "2021-02-21T01:41:39.619618Z",
     "iopub.status.idle": "2021-02-21T01:41:40.857647Z",
     "shell.execute_reply": "2021-02-21T01:41:40.857102Z"
    },
    "papermill": {
     "duration": 1.258003,
     "end_time": "2021-02-21T01:41:40.857795",
     "exception": false,
     "start_time": "2021-02-21T01:41:39.599792",
     "status": "completed"
    },
    "tags": []
   },
   "outputs": [],
   "source": [
    "#hide_input\n",
    "import warnings\n",
    "warnings.filterwarnings('ignore')\n",
    "from scripts.read_data import read_api\n",
    "from scripts.read_data import read_news\n",
    "from scripts.read_data import read_covid\n",
    "import matplotlib.pyplot as plt \n",
    "from IPython.display import Markdown as md"
   ]
  },
  {
   "cell_type": "code",
   "execution_count": 2,
   "id": "shared-acceptance",
   "metadata": {
    "execution": {
     "iopub.execute_input": "2021-02-21T01:41:40.885242Z",
     "iopub.status.busy": "2021-02-21T01:41:40.884577Z",
     "iopub.status.idle": "2021-02-21T01:41:48.414378Z",
     "shell.execute_reply": "2021-02-21T01:41:48.413692Z"
    },
    "papermill": {
     "duration": 7.546161,
     "end_time": "2021-02-21T01:41:48.414551",
     "exception": false,
     "start_time": "2021-02-21T01:41:40.868390",
     "status": "completed"
    },
    "tags": []
   },
   "outputs": [],
   "source": [
    "#hide_input\n",
    "blockchain = read_news('blockchain') \n",
    "btc = read_news('btc') \n",
    "xrp = read_news('xrp') \n",
    "trx = read_news('trx') \n",
    "eth = read_news('eth')  \n",
    "ada = read_news('ada')\n",
    "exchange = read_news('exchange') "
   ]
  },
  {
   "cell_type": "code",
   "execution_count": 3,
   "id": "synthetic-notion",
   "metadata": {
    "execution": {
     "iopub.execute_input": "2021-02-21T01:41:48.445486Z",
     "iopub.status.busy": "2021-02-21T01:41:48.444770Z",
     "iopub.status.idle": "2021-02-21T01:41:48.450578Z",
     "shell.execute_reply": "2021-02-21T01:41:48.449918Z"
    },
    "papermill": {
     "duration": 0.023129,
     "end_time": "2021-02-21T01:41:48.450703",
     "exception": false,
     "start_time": "2021-02-21T01:41:48.427574",
     "status": "completed"
    },
    "tags": []
   },
   "outputs": [
    {
     "data": {
      "text/markdown": [
       "- Tesla racks up $1B profit on Bitcoin and counting.  Electric vehicle automaker Tesla (TSLA) has made roughly $1B of digital profit on Bitcoin (BTC-USD) over the last month, estimates Wedbush Securities. Dan Ives puts that windfall in perspective by noting that Tesla is on a trajectory to make more from its Bitcoin investments than profits from selling its EV cars in all of 2020. Ives and team think other public companies will follow Tesla's lead on the speculative diversification play.\"We still expect less than 5% of public companies will head down this route until more regulatory goal posts are put in place around the crypto market, which is clearly starting to gain more mainstream adoption in 2021 and we believe will have a seismic impact for blockchain, payments, banks, and semis in the years to come. Bitcoin trades at $56,002.21. The cryptocurrency hit a $1T market cap yesterday. ... [| Skaityti daugiau](https://seekingalpha.com/news/3664171-tesla-racks-up-1b-profit-on-bitcoin-and-counting?utm_source=cryptocompare.com&utm_medium=referral) "
      ],
      "text/plain": [
       "<IPython.core.display.Markdown object>"
      ]
     },
     "execution_count": 3,
     "metadata": {},
     "output_type": "execute_result"
    }
   ],
   "source": [
    "#hide_input\n",
    "#md('##### {}'.format(titleBTC)) \n",
    "md(\"- {}{} {}{} [| Skaityti daugiau]({}) \".format(blockchain['title'],'. ', blockchain['body'], ' ...', blockchain['url']))"
   ]
  },
  {
   "cell_type": "code",
   "execution_count": 4,
   "id": "aging-caution",
   "metadata": {
    "execution": {
     "iopub.execute_input": "2021-02-21T01:41:48.477302Z",
     "iopub.status.busy": "2021-02-21T01:41:48.476604Z",
     "iopub.status.idle": "2021-02-21T01:41:48.480232Z",
     "shell.execute_reply": "2021-02-21T01:41:48.479569Z"
    },
    "papermill": {
     "duration": 0.019011,
     "end_time": "2021-02-21T01:41:48.480381",
     "exception": false,
     "start_time": "2021-02-21T01:41:48.461370",
     "status": "completed"
    },
    "tags": []
   },
   "outputs": [
    {
     "data": {
      "text/markdown": [
       "- Bill Gates ‘Neutral’ On Bitcoin, Supports Digital Currencies.  Microsoft co-founder Bill Gates said he had a neutral view on bitcoin but was overall supportive of the digitalization of money as a way to reduce costs and increase transparency. ... [| Skaityti daugiau](https://www.cryptoglobe.com/latest/2021/02/bill-gates-neutral-on-bitcoin-supports-digital-currencies/) "
      ],
      "text/plain": [
       "<IPython.core.display.Markdown object>"
      ]
     },
     "execution_count": 4,
     "metadata": {},
     "output_type": "execute_result"
    }
   ],
   "source": [
    "#hide_input\n",
    "#md('##### {}'.format(titleBTC)) \n",
    "md(\"- {}{} {}{} [| Skaityti daugiau]({}) \".format(btc['title'],'. ', btc['body'], ' ...', btc['url']))"
   ]
  },
  {
   "cell_type": "code",
   "execution_count": 5,
   "id": "organic-actress",
   "metadata": {
    "execution": {
     "iopub.execute_input": "2021-02-21T01:41:48.506738Z",
     "iopub.status.busy": "2021-02-21T01:41:48.506038Z",
     "iopub.status.idle": "2021-02-21T01:41:48.510231Z",
     "shell.execute_reply": "2021-02-21T01:41:48.509713Z"
    },
    "papermill": {
     "duration": 0.018229,
     "end_time": "2021-02-21T01:41:48.510344",
     "exception": false,
     "start_time": "2021-02-21T01:41:48.492115",
     "status": "completed"
    },
    "tags": []
   },
   "outputs": [
    {
     "data": {
      "text/markdown": [
       "- Former SEC Chair Bats For Ripple in the Lawsuit, Calls SEC’s Conduct “dead wrong”.  Former SEC chair Mary Jo White has come out in support of Ripple against the regulatory body calling the conducts of the SEC, &#8220;dead wrong.&#8221; SEC filed a formal lawsuit against Ripple Labs and two of its executives towards the end of December. The lawsuit accused Ripple labs of the unregistered sale of a security, The post Former SEC Chair Bats For Ripple in the Lawsuit, Calls SEC&#8217;s Conduct &#8220;dead wrong&#8221; appeared first on Coingape. ... [| Skaityti daugiau](https://coingape.com/former-sec-chair-bats-for-ripple-in-the-lawsuit-calls-secs-conduct-dead-wrong/) "
      ],
      "text/plain": [
       "<IPython.core.display.Markdown object>"
      ]
     },
     "execution_count": 5,
     "metadata": {},
     "output_type": "execute_result"
    }
   ],
   "source": [
    "#hide_input\n",
    "#md('##### {}'.format(titleBTC)) \n",
    "md(\"- {}{} {}{} [| Skaityti daugiau]({}) \".format(xrp['title'],'. ', xrp['body'], ' ...', xrp['url']))"
   ]
  },
  {
   "cell_type": "code",
   "execution_count": 6,
   "id": "prompt-farmer",
   "metadata": {
    "execution": {
     "iopub.execute_input": "2021-02-21T01:41:48.536583Z",
     "iopub.status.busy": "2021-02-21T01:41:48.535944Z",
     "iopub.status.idle": "2021-02-21T01:41:48.539361Z",
     "shell.execute_reply": "2021-02-21T01:41:48.539923Z"
    },
    "papermill": {
     "duration": 0.018081,
     "end_time": "2021-02-21T01:41:48.540044",
     "exception": false,
     "start_time": "2021-02-21T01:41:48.521963",
     "status": "completed"
    },
    "tags": []
   },
   "outputs": [
    {
     "data": {
      "text/markdown": [
       "- Tron's Emoji Gets Into Awkward Situation While Justin Sun Goes \"All In\" On DeFi.  Justin Sun's Tron (TRX) has attracted more unwanted media attention this week after French politician Georges Tron was convicted of rape and sexual abuse of staff, flooding France’s social media with the #tron hashtag and the protocol’s logo. On French social media, in many instances, the hashtag #tron, which automatically adds Tron's logo, was accompanied by ... [| Skaityti daugiau](https://cryptonews.com/news/tron-s-emoji-gets-into-awkward-situation-while-justin-sun-go-9281.htm) "
      ],
      "text/plain": [
       "<IPython.core.display.Markdown object>"
      ]
     },
     "execution_count": 6,
     "metadata": {},
     "output_type": "execute_result"
    }
   ],
   "source": [
    "#hide_input\n",
    "#md('##### {}'.format(titleBTC)) \n",
    "md(\"- {}{} {}{} [| Skaityti daugiau]({}) \".format(trx['title'],'. ', trx['body'], ' ...', trx['url']))"
   ]
  },
  {
   "cell_type": "code",
   "execution_count": 7,
   "id": "illegal-greece",
   "metadata": {
    "execution": {
     "iopub.execute_input": "2021-02-21T01:41:48.566728Z",
     "iopub.status.busy": "2021-02-21T01:41:48.566135Z",
     "iopub.status.idle": "2021-02-21T01:41:48.569346Z",
     "shell.execute_reply": "2021-02-21T01:41:48.568815Z"
    },
    "papermill": {
     "duration": 0.018182,
     "end_time": "2021-02-21T01:41:48.569453",
     "exception": false,
     "start_time": "2021-02-21T01:41:48.551271",
     "status": "completed"
    },
    "tags": []
   },
   "outputs": [
    {
     "data": {
      "text/markdown": [
       "- Top Trader Expects Ethereum and Binance Coin To Outperform Bitcoin, Names Four Crypto Assets Poised for Explosive Runs.  A prominent trader who built his following after accurately nailing Bitcoin&#8217;s collapse to $4,000 in March 2020 says that Ethereum (ETH) and Binance Coin (BNB) are primed to outshine Bitcoin in the coming months. In a new tweet, the analyst known in the industry as Capo says that while BTC is grabbing headlines, his money [&#8230;]The post Top Trader Expects Ethereum and Binance Coin To Outperform Bitcoin, Names Four Crypto Assets Poised for Explosive Runs appeared first on The Daily Hodl. ... [| Skaityti daugiau](https://dailyhodl.com/2021/02/20/top-trader-expects-ethereum-and-binance-coin-to-outperform-bitcoin-names-4-crypto-assets-poised-for-explosive-runs/) "
      ],
      "text/plain": [
       "<IPython.core.display.Markdown object>"
      ]
     },
     "execution_count": 7,
     "metadata": {},
     "output_type": "execute_result"
    }
   ],
   "source": [
    "#hide_input\n",
    "#md('##### {}'.format(titleBTC)) \n",
    "md(\"- {}{} {}{} [| Skaityti daugiau]({}) \".format(eth['title'],'. ', eth['body'], ' ...', eth['url']))"
   ]
  },
  {
   "cell_type": "code",
   "execution_count": 8,
   "id": "sublime-lounge",
   "metadata": {
    "execution": {
     "iopub.execute_input": "2021-02-21T01:41:48.596844Z",
     "iopub.status.busy": "2021-02-21T01:41:48.596255Z",
     "iopub.status.idle": "2021-02-21T01:41:48.599067Z",
     "shell.execute_reply": "2021-02-21T01:41:48.598489Z"
    },
    "papermill": {
     "duration": 0.01769,
     "end_time": "2021-02-21T01:41:48.599177",
     "exception": false,
     "start_time": "2021-02-21T01:41:48.581487",
     "status": "completed"
    },
    "tags": []
   },
   "outputs": [
    {
     "data": {
      "text/markdown": [
       "- Rockstar Gene Simmons Betting on Crypto Asset Cardano – Here’s Why.  Kiss bassist Gene Simmons is making a large bet on the sixth largest crypto by market cap. In a new tweet, the famed musician tells his 940,500 followers that he purchased hundreds of thousands of dollars worth of Cardano (ADA). &#8220;I just bought $300,000 of Cardano (ADA). I’m not a financial analyst and I’m not [&#8230;]The post Rockstar Gene Simmons Betting on Crypto Asset Cardano &#8211; Here&#8217;s Why appeared first on The Daily Hodl. ... [| Skaityti daugiau](https://dailyhodl.com/2021/02/20/rockstar-gene-simmons-betting-on-crypto-asset-cardano-heres-why/) "
      ],
      "text/plain": [
       "<IPython.core.display.Markdown object>"
      ]
     },
     "execution_count": 8,
     "metadata": {},
     "output_type": "execute_result"
    }
   ],
   "source": [
    "#hide_input\n",
    "#md('##### {}'.format(titleBTC)) \n",
    "md(\"- {}{} {}{} [| Skaityti daugiau]({}) \".format(ada['title'],'. ', ada['body'], ' ...', ada['url']))"
   ]
  },
  {
   "cell_type": "code",
   "execution_count": 9,
   "id": "specified-ordering",
   "metadata": {
    "execution": {
     "iopub.execute_input": "2021-02-21T01:41:48.628727Z",
     "iopub.status.busy": "2021-02-21T01:41:48.628155Z",
     "iopub.status.idle": "2021-02-21T01:41:48.631153Z",
     "shell.execute_reply": "2021-02-21T01:41:48.630585Z"
    },
    "papermill": {
     "duration": 0.02025,
     "end_time": "2021-02-21T01:41:48.631259",
     "exception": false,
     "start_time": "2021-02-21T01:41:48.611009",
     "status": "completed"
    },
    "tags": []
   },
   "outputs": [
    {
     "data": {
      "text/markdown": [
       "- Exchange tokens benefit as centralized exchanges battle with DeFi platforms.  Exchange tokens catch a boost as governance and high yields attract fresh inflows and CeFi begins to merge with DeFi. ... [| Skaityti daugiau](https://cointelegraph.com/news/exchange-tokens-benefit-as-centralized-exchanges-battle-with-defi-platforms) "
      ],
      "text/plain": [
       "<IPython.core.display.Markdown object>"
      ]
     },
     "execution_count": 9,
     "metadata": {},
     "output_type": "execute_result"
    }
   ],
   "source": [
    "#hide_input\n",
    "#md('##### {}'.format(titleBTC)) \n",
    "md(\"- {}{} {}{} [| Skaityti daugiau]({}) \".format(exchange['title'],'. ', exchange['body'], ' ...', exchange['url']))"
   ]
  },
  {
   "cell_type": "code",
   "execution_count": null,
   "id": "tender-livestock",
   "metadata": {
    "papermill": {
     "duration": 0.011924,
     "end_time": "2021-02-21T01:41:48.655459",
     "exception": false,
     "start_time": "2021-02-21T01:41:48.643535",
     "status": "completed"
    },
    "tags": []
   },
   "outputs": [],
   "source": []
  },
  {
   "cell_type": "code",
   "execution_count": null,
   "id": "appreciated-diamond",
   "metadata": {
    "papermill": {
     "duration": 0.011828,
     "end_time": "2021-02-21T01:41:48.680000",
     "exception": false,
     "start_time": "2021-02-21T01:41:48.668172",
     "status": "completed"
    },
    "tags": []
   },
   "outputs": [],
   "source": []
  },
  {
   "cell_type": "code",
   "execution_count": null,
   "id": "romance-sweden",
   "metadata": {
    "papermill": {
     "duration": 0.014453,
     "end_time": "2021-02-21T01:41:48.706687",
     "exception": false,
     "start_time": "2021-02-21T01:41:48.692234",
     "status": "completed"
    },
    "tags": []
   },
   "outputs": [],
   "source": []
  },
  {
   "cell_type": "code",
   "execution_count": null,
   "id": "dietary-statistics",
   "metadata": {
    "papermill": {
     "duration": 0.012238,
     "end_time": "2021-02-21T01:41:48.731630",
     "exception": false,
     "start_time": "2021-02-21T01:41:48.719392",
     "status": "completed"
    },
    "tags": []
   },
   "outputs": [],
   "source": []
  }
 ],
 "metadata": {
  "kernelspec": {
   "display_name": "Python 3",
   "language": "python",
   "name": "python3"
  },
  "language_info": {
   "codemirror_mode": {
    "name": "ipython",
    "version": 3
   },
   "file_extension": ".py",
   "mimetype": "text/x-python",
   "name": "python",
   "nbconvert_exporter": "python",
   "pygments_lexer": "ipython3",
   "version": "3.6.12"
  },
  "papermill": {
   "default_parameters": {},
   "duration": 10.631234,
   "end_time": "2021-02-21T01:41:49.151193",
   "environment_variables": {},
   "exception": null,
   "input_path": "Market-News.ipynb",
   "output_path": "Market-News.ipynb",
   "parameters": {},
   "start_time": "2021-02-21T01:41:38.519959",
   "version": "2.2.2"
  }
 },
 "nbformat": 4,
 "nbformat_minor": 5
}