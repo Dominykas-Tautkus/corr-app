{
 "cells": [
  {
   "cell_type": "markdown",
   "id": "short-greensboro",
   "metadata": {
    "papermill": {
     "duration": 0.013927,
     "end_time": "2021-05-02T02:17:58.639257",
     "exception": false,
     "start_time": "2021-05-02T02:17:58.625330",
     "status": "completed"
    },
    "tags": []
   },
   "source": [
    "# Kriptovaliutų naujienos"
   ]
  },
  {
   "cell_type": "code",
   "execution_count": 1,
   "id": "functioning-knowing",
   "metadata": {
    "execution": {
     "iopub.execute_input": "2021-05-02T02:17:58.674389Z",
     "iopub.status.busy": "2021-05-02T02:17:58.673658Z",
     "iopub.status.idle": "2021-05-02T02:18:00.042922Z",
     "shell.execute_reply": "2021-05-02T02:18:00.042390Z"
    },
    "papermill": {
     "duration": 1.392637,
     "end_time": "2021-05-02T02:18:00.043067",
     "exception": false,
     "start_time": "2021-05-02T02:17:58.650430",
     "status": "completed"
    },
    "tags": []
   },
   "outputs": [],
   "source": [
    "#hide_input\n",
    "import warnings\n",
    "warnings.filterwarnings('ignore')\n",
    "from scripts.read_data import read_api\n",
    "from scripts.read_data import read_news\n",
    "from scripts.read_data import read_covid\n",
    "import matplotlib.pyplot as plt \n",
    "from IPython.display import Markdown as md"
   ]
  },
  {
   "cell_type": "code",
   "execution_count": 2,
   "id": "shared-acceptance",
   "metadata": {
    "execution": {
     "iopub.execute_input": "2021-05-02T02:18:00.076025Z",
     "iopub.status.busy": "2021-05-02T02:18:00.075400Z",
     "iopub.status.idle": "2021-05-02T02:18:09.700191Z",
     "shell.execute_reply": "2021-05-02T02:18:09.699536Z"
    },
    "papermill": {
     "duration": 9.642966,
     "end_time": "2021-05-02T02:18:09.700334",
     "exception": false,
     "start_time": "2021-05-02T02:18:00.057368",
     "status": "completed"
    },
    "tags": []
   },
   "outputs": [],
   "source": [
    "#hide_input\n",
    "blockchain = read_news('blockchain') \n",
    "btc = read_news('btc') \n",
    "xrp = read_news('xrp') \n",
    "trx = read_news('trx') \n",
    "eth = read_news('eth')  \n",
    "ada = read_news('ada')\n",
    "exchange = read_news('exchange') "
   ]
  },
  {
   "cell_type": "code",
   "execution_count": 3,
   "id": "synthetic-notion",
   "metadata": {
    "execution": {
     "iopub.execute_input": "2021-05-02T02:18:09.727377Z",
     "iopub.status.busy": "2021-05-02T02:18:09.726748Z",
     "iopub.status.idle": "2021-05-02T02:18:09.735266Z",
     "shell.execute_reply": "2021-05-02T02:18:09.735755Z"
    },
    "papermill": {
     "duration": 0.023795,
     "end_time": "2021-05-02T02:18:09.735870",
     "exception": false,
     "start_time": "2021-05-02T02:18:09.712075",
     "status": "completed"
    },
    "tags": []
   },
   "outputs": [
    {
     "data": {
      "text/markdown": [
       "- Ethereum, MATIC, and Graph Token – How the three assets’ surges are linked.  The fundamental functionality of Ethereum will play a vital role in the future of blockchain. The success of Decentralized Finance, NFTs, and possibly a scalable network in the future, is bringing more development to ETH&#8217;s ecosystem. A series of new crypto-projects have risen from building on Ethereum, while some projects are currently solving some of [&#8230;] ... [| Skaityti daugiau](https://ambcrypto.com/ethereum-matic-and-graph-token-how-the-three-assets-surges-are-linked/) "
      ],
      "text/plain": [
       "<IPython.core.display.Markdown object>"
      ]
     },
     "execution_count": 3,
     "metadata": {},
     "output_type": "execute_result"
    }
   ],
   "source": [
    "#hide_input\n",
    "#md('##### {}'.format(titleBTC)) \n",
    "md(\"- {}{} {}{} [| Skaityti daugiau]({}) \".format(blockchain['title'],'. ', blockchain['body'], ' ...', blockchain['url']))"
   ]
  },
  {
   "cell_type": "code",
   "execution_count": 4,
   "id": "aging-caution",
   "metadata": {
    "execution": {
     "iopub.execute_input": "2021-05-02T02:18:09.762868Z",
     "iopub.status.busy": "2021-05-02T02:18:09.761798Z",
     "iopub.status.idle": "2021-05-02T02:18:09.765833Z",
     "shell.execute_reply": "2021-05-02T02:18:09.766457Z"
    },
    "papermill": {
     "duration": 0.018575,
     "end_time": "2021-05-02T02:18:09.766574",
     "exception": false,
     "start_time": "2021-05-02T02:18:09.747999",
     "status": "completed"
    },
    "tags": []
   },
   "outputs": [
    {
     "data": {
      "text/markdown": [
       "- Federal Reserve’s Stance on Monetary Policy Remains Unchanged: What This Means for Crypto.  Since the start of 2021, the crypto markets have been on an absolute tear. Bitcoin and Ethereum &#8212; two of the largest cryptocurrencies by market capitalization &#8212; are up 97% and 303% year-to-date, respectively. A big proponent of the fledgling crypto industry’s recent success has been a clear paradigm shift; institutional investors no longer view [&#8230;] ... [| Skaityti daugiau](https://bitcoinist.com/federal-reserves-stance-on-monetary-policy-remains-unchanged-what-this-means-for-crypto-markets/?utm_source=rss&utm_medium=rss&utm_campaign=federal-reserves-stance-on-monetary-policy-remains-unchanged-what-this-means-for-crypto-markets) "
      ],
      "text/plain": [
       "<IPython.core.display.Markdown object>"
      ]
     },
     "execution_count": 4,
     "metadata": {},
     "output_type": "execute_result"
    }
   ],
   "source": [
    "#hide_input\n",
    "#md('##### {}'.format(titleBTC)) \n",
    "md(\"- {}{} {}{} [| Skaityti daugiau]({}) \".format(btc['title'],'. ', btc['body'], ' ...', btc['url']))"
   ]
  },
  {
   "cell_type": "code",
   "execution_count": 5,
   "id": "organic-actress",
   "metadata": {
    "execution": {
     "iopub.execute_input": "2021-05-02T02:18:09.794672Z",
     "iopub.status.busy": "2021-05-02T02:18:09.793075Z",
     "iopub.status.idle": "2021-05-02T02:18:09.798692Z",
     "shell.execute_reply": "2021-05-02T02:18:09.799211Z"
    },
    "papermill": {
     "duration": 0.021166,
     "end_time": "2021-05-02T02:18:09.799358",
     "exception": false,
     "start_time": "2021-05-02T02:18:09.778192",
     "status": "completed"
    },
    "tags": []
   },
   "outputs": [
    {
     "data": {
      "text/markdown": [
       "- Phemex Lists 8 New Coins, Reintroduces Ripple.  Phemex, one of the fastest crypto exchanges and futures trading platforms in the industry, has further bolstered its offering by announcing the inclusion of 8 new cryptocurrencies available in both their crypto spot market and derivatives market. The latest bunch of coins to make it to the list includes BAT, CHZ, MANA, ENJ, SUSHI, SNX, [&#8230;] ... [| Skaityti daugiau](https://www.newsbtc.com/news/company/phemex-lists-8-new-coins-reintroduces-ripple/) "
      ],
      "text/plain": [
       "<IPython.core.display.Markdown object>"
      ]
     },
     "execution_count": 5,
     "metadata": {},
     "output_type": "execute_result"
    }
   ],
   "source": [
    "#hide_input\n",
    "#md('##### {}'.format(titleBTC)) \n",
    "md(\"- {}{} {}{} [| Skaityti daugiau]({}) \".format(xrp['title'],'. ', xrp['body'], ' ...', xrp['url']))"
   ]
  },
  {
   "cell_type": "code",
   "execution_count": 6,
   "id": "prompt-farmer",
   "metadata": {
    "execution": {
     "iopub.execute_input": "2021-05-02T02:18:09.828940Z",
     "iopub.status.busy": "2021-05-02T02:18:09.827797Z",
     "iopub.status.idle": "2021-05-02T02:18:09.831652Z",
     "shell.execute_reply": "2021-05-02T02:18:09.832248Z"
    },
    "papermill": {
     "duration": 0.021062,
     "end_time": "2021-05-02T02:18:09.832367",
     "exception": false,
     "start_time": "2021-05-02T02:18:09.811305",
     "status": "completed"
    },
    "tags": []
   },
   "outputs": [
    {
     "data": {
      "text/markdown": [
       "- Tron Plans to Launch a Cross-Chain Scaling Solution Known as Apollo.  Justin Sun has announced plans to launch a cross-chain scaling solution known as Apollo Apollo will enable the transfer of data and assets across multiple chains Such a feature on Tron will be beneficial in enhancing DeFi across the crypto-verse Just Sun and the Tron Foundation are yet to release full details on Apollo The founder and CEO of Tron (TRX), Just Sun, has announced plans of launching a new cross-chain scaling solution known as Apollo. According to Justin Sun, [&#8230;] ... [| Skaityti daugiau](https://en.ethereumworldnews.com/tron-plans-to-launch-a-cross-chain-scaling-solution-known-as-apollo/) "
      ],
      "text/plain": [
       "<IPython.core.display.Markdown object>"
      ]
     },
     "execution_count": 6,
     "metadata": {},
     "output_type": "execute_result"
    }
   ],
   "source": [
    "#hide_input\n",
    "#md('##### {}'.format(titleBTC)) \n",
    "md(\"- {}{} {}{} [| Skaityti daugiau]({}) \".format(trx['title'],'. ', trx['body'], ' ...', trx['url']))"
   ]
  },
  {
   "cell_type": "code",
   "execution_count": 7,
   "id": "illegal-greece",
   "metadata": {
    "execution": {
     "iopub.execute_input": "2021-05-02T02:18:09.862345Z",
     "iopub.status.busy": "2021-05-02T02:18:09.861773Z",
     "iopub.status.idle": "2021-05-02T02:18:09.864839Z",
     "shell.execute_reply": "2021-05-02T02:18:09.864172Z"
    },
    "papermill": {
     "duration": 0.019939,
     "end_time": "2021-05-02T02:18:09.864974",
     "exception": false,
     "start_time": "2021-05-02T02:18:09.845035",
     "status": "completed"
    },
    "tags": []
   },
   "outputs": [
    {
     "data": {
      "text/markdown": [
       "- Federal Reserve’s Stance on Monetary Policy Remains Unchanged: What This Means for Crypto.  Since the start of 2021, the crypto markets have been on an absolute tear. Bitcoin and Ethereum &#8212; two of the largest cryptocurrencies by market capitalization &#8212; are up 97% and 303% year-to-date, respectively. A big proponent of the fledgling crypto industry’s recent success has been a clear paradigm shift; institutional investors no longer view [&#8230;] ... [| Skaityti daugiau](https://bitcoinist.com/federal-reserves-stance-on-monetary-policy-remains-unchanged-what-this-means-for-crypto-markets/?utm_source=rss&utm_medium=rss&utm_campaign=federal-reserves-stance-on-monetary-policy-remains-unchanged-what-this-means-for-crypto-markets) "
      ],
      "text/plain": [
       "<IPython.core.display.Markdown object>"
      ]
     },
     "execution_count": 7,
     "metadata": {},
     "output_type": "execute_result"
    }
   ],
   "source": [
    "#hide_input\n",
    "#md('##### {}'.format(titleBTC)) \n",
    "md(\"- {}{} {}{} [| Skaityti daugiau]({}) \".format(eth['title'],'. ', eth['body'], ' ...', eth['url']))"
   ]
  },
  {
   "cell_type": "code",
   "execution_count": 8,
   "id": "sublime-lounge",
   "metadata": {
    "execution": {
     "iopub.execute_input": "2021-05-02T02:18:09.895094Z",
     "iopub.status.busy": "2021-05-02T02:18:09.894336Z",
     "iopub.status.idle": "2021-05-02T02:18:09.896926Z",
     "shell.execute_reply": "2021-05-02T02:18:09.897498Z"
    },
    "papermill": {
     "duration": 0.020356,
     "end_time": "2021-05-02T02:18:09.897615",
     "exception": false,
     "start_time": "2021-05-02T02:18:09.877259",
     "status": "completed"
    },
    "tags": []
   },
   "outputs": [
    {
     "data": {
      "text/markdown": [
       "- Cardano, Litecoin, and One Forgotten Altcoin Primed To Erupt, Says Crypto Trader Michaël van de Poppe.  High-profile crypto strategist and trader Michaël van de Poppe is predicting that Cardano (ADA), Litecoin (LTC), and Zilliqa (ZIL) are almost ready to ignite the next phase of their bull cycles. In a new video, the crypto analyst tells his 76,700 YouTube subscribers that Cardano is ripe to end its multi-month consolidation against Bitcoin (ADA/BTC). [&#8230;]The post Cardano, Litecoin, and One Forgotten Altcoin Primed To Erupt, Says Crypto Trader Michaël van de Poppe appeared first on The Daily Hodl. ... [| Skaityti daugiau](https://dailyhodl.com/2021/05/01/cardano-litecoin-and-one-forgotten-altcoin-primed-to-erupt-says-crypto-trader-michael-van-de-poppe/) "
      ],
      "text/plain": [
       "<IPython.core.display.Markdown object>"
      ]
     },
     "execution_count": 8,
     "metadata": {},
     "output_type": "execute_result"
    }
   ],
   "source": [
    "#hide_input\n",
    "#md('##### {}'.format(titleBTC)) \n",
    "md(\"- {}{} {}{} [| Skaityti daugiau]({}) \".format(ada['title'],'. ', ada['body'], ' ...', ada['url']))"
   ]
  },
  {
   "cell_type": "code",
   "execution_count": 9,
   "id": "specified-ordering",
   "metadata": {
    "execution": {
     "iopub.execute_input": "2021-05-02T02:18:09.938150Z",
     "iopub.status.busy": "2021-05-02T02:18:09.937431Z",
     "iopub.status.idle": "2021-05-02T02:18:09.940261Z",
     "shell.execute_reply": "2021-05-02T02:18:09.940765Z"
    },
    "papermill": {
     "duration": 0.029809,
     "end_time": "2021-05-02T02:18:09.940892",
     "exception": false,
     "start_time": "2021-05-02T02:18:09.911083",
     "status": "completed"
    },
    "tags": []
   },
   "outputs": [
    {
     "data": {
      "text/markdown": [
       "- DeFi adoption on the Binance Smart Chain reaches new highs.  Decentralized finance protocols on the Binance Smart Chain saw their token prices and total value locked rise toward new highs after a series of protocol upgrades and cross-chain integrations. ... [| Skaityti daugiau](https://cointelegraph.com/news/defi-adoption-on-the-binance-smart-chain-reaches-new-highs) "
      ],
      "text/plain": [
       "<IPython.core.display.Markdown object>"
      ]
     },
     "execution_count": 9,
     "metadata": {},
     "output_type": "execute_result"
    }
   ],
   "source": [
    "#hide_input\n",
    "#md('##### {}'.format(titleBTC)) \n",
    "md(\"- {}{} {}{} [| Skaityti daugiau]({}) \".format(exchange['title'],'. ', exchange['body'], ' ...', exchange['url']))"
   ]
  },
  {
   "cell_type": "code",
   "execution_count": null,
   "id": "tender-livestock",
   "metadata": {
    "papermill": {
     "duration": 0.013057,
     "end_time": "2021-05-02T02:18:09.966969",
     "exception": false,
     "start_time": "2021-05-02T02:18:09.953912",
     "status": "completed"
    },
    "tags": []
   },
   "outputs": [],
   "source": []
  },
  {
   "cell_type": "code",
   "execution_count": null,
   "id": "appreciated-diamond",
   "metadata": {
    "papermill": {
     "duration": 0.012459,
     "end_time": "2021-05-02T02:18:09.993213",
     "exception": false,
     "start_time": "2021-05-02T02:18:09.980754",
     "status": "completed"
    },
    "tags": []
   },
   "outputs": [],
   "source": []
  },
  {
   "cell_type": "code",
   "execution_count": null,
   "id": "romance-sweden",
   "metadata": {
    "papermill": {
     "duration": 0.013268,
     "end_time": "2021-05-02T02:18:10.019433",
     "exception": false,
     "start_time": "2021-05-02T02:18:10.006165",
     "status": "completed"
    },
    "tags": []
   },
   "outputs": [],
   "source": []
  },
  {
   "cell_type": "code",
   "execution_count": null,
   "id": "dietary-statistics",
   "metadata": {
    "papermill": {
     "duration": 0.014391,
     "end_time": "2021-05-02T02:18:10.047448",
     "exception": false,
     "start_time": "2021-05-02T02:18:10.033057",
     "status": "completed"
    },
    "tags": []
   },
   "outputs": [],
   "source": []
  }
 ],
 "metadata": {
  "kernelspec": {
   "display_name": "Python 3",
   "language": "python",
   "name": "python3"
  },
  "language_info": {
   "codemirror_mode": {
    "name": "ipython",
    "version": 3
   },
   "file_extension": ".py",
   "mimetype": "text/x-python",
   "name": "python",
   "nbconvert_exporter": "python",
   "pygments_lexer": "ipython3",
   "version": "3.6.13"
  },
  "papermill": {
   "default_parameters": {},
   "duration": 13.149908,
   "end_time": "2021-05-02T02:18:10.484801",
   "environment_variables": {},
   "exception": null,
   "input_path": "Market-News.ipynb",
   "output_path": "Market-News.ipynb",
   "parameters": {},
   "start_time": "2021-05-02T02:17:57.334893",
   "version": "2.2.2"
  }
 },
 "nbformat": 4,
 "nbformat_minor": 5
}