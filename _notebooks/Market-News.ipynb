{
 "cells": [
  {
   "cell_type": "markdown",
   "id": "short-greensboro",
   "metadata": {
    "papermill": {
     "duration": 0.012985,
     "end_time": "2021-07-09T02:01:29.547108",
     "exception": false,
     "start_time": "2021-07-09T02:01:29.534123",
     "status": "completed"
    },
    "tags": []
   },
   "source": [
    "# Kriptovaliutų naujienos"
   ]
  },
  {
   "cell_type": "code",
   "execution_count": 1,
   "id": "functioning-knowing",
   "metadata": {
    "execution": {
     "iopub.execute_input": "2021-07-09T02:01:29.575675Z",
     "iopub.status.busy": "2021-07-09T02:01:29.575154Z",
     "iopub.status.idle": "2021-07-09T02:01:30.740903Z",
     "shell.execute_reply": "2021-07-09T02:01:30.740353Z"
    },
    "papermill": {
     "duration": 1.184313,
     "end_time": "2021-07-09T02:01:30.741055",
     "exception": false,
     "start_time": "2021-07-09T02:01:29.556742",
     "status": "completed"
    },
    "tags": []
   },
   "outputs": [],
   "source": [
    "#hide_input\n",
    "import warnings\n",
    "warnings.filterwarnings('ignore')\n",
    "from scripts.read_data import read_api\n",
    "from scripts.read_data import read_news\n",
    "from scripts.read_data import read_covid\n",
    "import matplotlib.pyplot as plt \n",
    "from IPython.display import Markdown as md"
   ]
  },
  {
   "cell_type": "code",
   "execution_count": 2,
   "id": "shared-acceptance",
   "metadata": {
    "execution": {
     "iopub.execute_input": "2021-07-09T02:01:30.766388Z",
     "iopub.status.busy": "2021-07-09T02:01:30.765881Z",
     "iopub.status.idle": "2021-07-09T02:01:40.448158Z",
     "shell.execute_reply": "2021-07-09T02:01:40.447635Z"
    },
    "papermill": {
     "duration": 9.69716,
     "end_time": "2021-07-09T02:01:40.448296",
     "exception": false,
     "start_time": "2021-07-09T02:01:30.751136",
     "status": "completed"
    },
    "tags": []
   },
   "outputs": [],
   "source": [
    "#hide_input\n",
    "blockchain = read_news('blockchain') \n",
    "btc = read_news('btc') \n",
    "xrp = read_news('xrp') \n",
    "trx = read_news('trx') \n",
    "eth = read_news('eth')  \n",
    "ada = read_news('ada')\n",
    "exchange = read_news('exchange') "
   ]
  },
  {
   "cell_type": "code",
   "execution_count": 3,
   "id": "synthetic-notion",
   "metadata": {
    "execution": {
     "iopub.execute_input": "2021-07-09T02:01:40.473101Z",
     "iopub.status.busy": "2021-07-09T02:01:40.472588Z",
     "iopub.status.idle": "2021-07-09T02:01:40.475317Z",
     "shell.execute_reply": "2021-07-09T02:01:40.474895Z"
    },
    "papermill": {
     "duration": 0.017223,
     "end_time": "2021-07-09T02:01:40.475415",
     "exception": false,
     "start_time": "2021-07-09T02:01:40.458192",
     "status": "completed"
    },
    "tags": []
   },
   "outputs": [
    {
     "data": {
      "text/markdown": [
       "- Goldman Sachs Says Ethereum May Become The New Store of Value.  While writing on Tuesday to its clients, Goldman Sachs mentioned Ethereum as the blockchain having the highest recorded real use cases. The firm also suggested that Ethereum may dominate the digital store soon. Goldman Sachs observed that most people now prefer using Ethereum&#8217;s smart contracts due to ETH&#8217;s increasing popularity. This situation may lead to [&#8230;] ... [| Skaityti daugiau](https://bitcoinist.com/goldman-sachs-says-ethereum-may-become-the-new-store-of-value/?utm_source=rss&utm_medium=rss&utm_campaign=goldman-sachs-says-ethereum-may-become-the-new-store-of-value) "
      ],
      "text/plain": [
       "<IPython.core.display.Markdown object>"
      ]
     },
     "execution_count": 3,
     "metadata": {},
     "output_type": "execute_result"
    }
   ],
   "source": [
    "#hide_input\n",
    "#md('##### {}'.format(titleBTC)) \n",
    "md(\"- {}{} {}{} [| Skaityti daugiau]({}) \".format(blockchain['title'],'. ', blockchain['body'], ' ...', blockchain['url']))"
   ]
  },
  {
   "cell_type": "code",
   "execution_count": 4,
   "id": "aging-caution",
   "metadata": {
    "execution": {
     "iopub.execute_input": "2021-07-09T02:01:40.497525Z",
     "iopub.status.busy": "2021-07-09T02:01:40.496531Z",
     "iopub.status.idle": "2021-07-09T02:01:40.499854Z",
     "shell.execute_reply": "2021-07-09T02:01:40.500251Z"
    },
    "papermill": {
     "duration": 0.015755,
     "end_time": "2021-07-09T02:01:40.500358",
     "exception": false,
     "start_time": "2021-07-09T02:01:40.484603",
     "status": "completed"
    },
    "tags": []
   },
   "outputs": [
    {
     "data": {
      "text/markdown": [
       "- Goldman Sachs Says Ethereum May Become The New Store of Value.  While writing on Tuesday to its clients, Goldman Sachs mentioned Ethereum as the blockchain having the highest recorded real use cases. The firm also suggested that Ethereum may dominate the digital store soon. Goldman Sachs observed that most people now prefer using Ethereum&#8217;s smart contracts due to ETH&#8217;s increasing popularity. This situation may lead to [&#8230;] ... [| Skaityti daugiau](https://bitcoinist.com/goldman-sachs-says-ethereum-may-become-the-new-store-of-value/?utm_source=rss&utm_medium=rss&utm_campaign=goldman-sachs-says-ethereum-may-become-the-new-store-of-value) "
      ],
      "text/plain": [
       "<IPython.core.display.Markdown object>"
      ]
     },
     "execution_count": 4,
     "metadata": {},
     "output_type": "execute_result"
    }
   ],
   "source": [
    "#hide_input\n",
    "#md('##### {}'.format(titleBTC)) \n",
    "md(\"- {}{} {}{} [| Skaityti daugiau]({}) \".format(btc['title'],'. ', btc['body'], ' ...', btc['url']))"
   ]
  },
  {
   "cell_type": "code",
   "execution_count": 5,
   "id": "organic-actress",
   "metadata": {
    "execution": {
     "iopub.execute_input": "2021-07-09T02:01:40.523872Z",
     "iopub.status.busy": "2021-07-09T02:01:40.523375Z",
     "iopub.status.idle": "2021-07-09T02:01:40.526412Z",
     "shell.execute_reply": "2021-07-09T02:01:40.526000Z"
    },
    "papermill": {
     "duration": 0.016618,
     "end_time": "2021-07-09T02:01:40.526514",
     "exception": false,
     "start_time": "2021-07-09T02:01:40.509896",
     "status": "completed"
    },
    "tags": []
   },
   "outputs": [
    {
     "data": {
      "text/markdown": [
       "- XRP, MATIC, SUSHI Price Analysis: 08 July.  The market is hit and once again, recovery has been lost along the way for most crypto-assets in the market. As Bitcoin took a u-turn from its $35,000 resistance, altcoins were forced down this price trajectory too. Some altcoins were preparing for a northbound surge but fell instead. XRP was one such altcoin, with the [&#8230;] ... [| Skaityti daugiau](https://ambcrypto.com/xrp-matic-sushi-price-analysis-08-july/) "
      ],
      "text/plain": [
       "<IPython.core.display.Markdown object>"
      ]
     },
     "execution_count": 5,
     "metadata": {},
     "output_type": "execute_result"
    }
   ],
   "source": [
    "#hide_input\n",
    "#md('##### {}'.format(titleBTC)) \n",
    "md(\"- {}{} {}{} [| Skaityti daugiau]({}) \".format(xrp['title'],'. ', xrp['body'], ' ...', xrp['url']))"
   ]
  },
  {
   "cell_type": "code",
   "execution_count": 6,
   "id": "prompt-farmer",
   "metadata": {
    "execution": {
     "iopub.execute_input": "2021-07-09T02:01:40.550494Z",
     "iopub.status.busy": "2021-07-09T02:01:40.549999Z",
     "iopub.status.idle": "2021-07-09T02:01:40.552723Z",
     "shell.execute_reply": "2021-07-09T02:01:40.553148Z"
    },
    "papermill": {
     "duration": 0.016843,
     "end_time": "2021-07-09T02:01:40.553254",
     "exception": false,
     "start_time": "2021-07-09T02:01:40.536411",
     "status": "completed"
    },
    "tags": []
   },
   "outputs": [
    {
     "data": {
      "text/markdown": [
       "- Tron’s (TRX) Daily Transaction Count Has Grown by 522% in One Year.  The daily transaction count on the Tron network has grown by 522% in the last year Tron recently hit an all-time high in daily transactions at 9.278 million The growth of unique accounts on Tron continues to grow in a parabolic manner with the network hosting 45.160 million total accounts However, TRX/USDT is about to experience a death cross that should usher in a bearish time period for Tron Yesterday, the Tron (TRX) network hit a new all-time high in [&#8230;] ... [| Skaityti daugiau](https://en.ethereumworldnews.com/trons-trx-daily-transaction-count-has-grown-by-522-in-one-year/) "
      ],
      "text/plain": [
       "<IPython.core.display.Markdown object>"
      ]
     },
     "execution_count": 6,
     "metadata": {},
     "output_type": "execute_result"
    }
   ],
   "source": [
    "#hide_input\n",
    "#md('##### {}'.format(titleBTC)) \n",
    "md(\"- {}{} {}{} [| Skaityti daugiau]({}) \".format(trx['title'],'. ', trx['body'], ' ...', trx['url']))"
   ]
  },
  {
   "cell_type": "code",
   "execution_count": 7,
   "id": "illegal-greece",
   "metadata": {
    "execution": {
     "iopub.execute_input": "2021-07-09T02:01:40.578159Z",
     "iopub.status.busy": "2021-07-09T02:01:40.577639Z",
     "iopub.status.idle": "2021-07-09T02:01:40.580759Z",
     "shell.execute_reply": "2021-07-09T02:01:40.580333Z"
    },
    "papermill": {
     "duration": 0.017248,
     "end_time": "2021-07-09T02:01:40.580855",
     "exception": false,
     "start_time": "2021-07-09T02:01:40.563607",
     "status": "completed"
    },
    "tags": []
   },
   "outputs": [
    {
     "data": {
      "text/markdown": [
       "- Goldman Sachs Says Ethereum May Become The New Store of Value.  While writing on Tuesday to its clients, Goldman Sachs mentioned Ethereum as the blockchain having the highest recorded real use cases. The firm also suggested that Ethereum may dominate the digital store soon. Goldman Sachs observed that most people now prefer using Ethereum&#8217;s smart contracts due to ETH&#8217;s increasing popularity. This situation may lead to [&#8230;] ... [| Skaityti daugiau](https://bitcoinist.com/goldman-sachs-says-ethereum-may-become-the-new-store-of-value/?utm_source=rss&utm_medium=rss&utm_campaign=goldman-sachs-says-ethereum-may-become-the-new-store-of-value) "
      ],
      "text/plain": [
       "<IPython.core.display.Markdown object>"
      ]
     },
     "execution_count": 7,
     "metadata": {},
     "output_type": "execute_result"
    }
   ],
   "source": [
    "#hide_input\n",
    "#md('##### {}'.format(titleBTC)) \n",
    "md(\"- {}{} {}{} [| Skaityti daugiau]({}) \".format(eth['title'],'. ', eth['body'], ' ...', eth['url']))"
   ]
  },
  {
   "cell_type": "code",
   "execution_count": 8,
   "id": "sublime-lounge",
   "metadata": {
    "execution": {
     "iopub.execute_input": "2021-07-09T02:01:40.606216Z",
     "iopub.status.busy": "2021-07-09T02:01:40.605692Z",
     "iopub.status.idle": "2021-07-09T02:01:40.608296Z",
     "shell.execute_reply": "2021-07-09T02:01:40.608722Z"
    },
    "papermill": {
     "duration": 0.017415,
     "end_time": "2021-07-09T02:01:40.608830",
     "exception": false,
     "start_time": "2021-07-09T02:01:40.591415",
     "status": "completed"
    },
    "tags": []
   },
   "outputs": [
    {
     "data": {
      "text/markdown": [
       "- Cardano CEO: progress is exactly where it needs to be, Alonzo is coming.  In a recent video, Cardano founder Charles Hoskinson gave an update on how Alonzo is progressing, and it looks as though things are right on track. The post Cardano CEO: progress is exactly where it needs to be, Alonzo is coming appeared first on CryptoSlate. ... [| Skaityti daugiau](https://cryptoslate.com/cardano-ceo-progress-is-exactly-where-it-needs-to-be-alonzo-is-coming/) "
      ],
      "text/plain": [
       "<IPython.core.display.Markdown object>"
      ]
     },
     "execution_count": 8,
     "metadata": {},
     "output_type": "execute_result"
    }
   ],
   "source": [
    "#hide_input\n",
    "#md('##### {}'.format(titleBTC)) \n",
    "md(\"- {}{} {}{} [| Skaityti daugiau]({}) \".format(ada['title'],'. ', ada['body'], ' ...', ada['url']))"
   ]
  },
  {
   "cell_type": "code",
   "execution_count": 9,
   "id": "specified-ordering",
   "metadata": {
    "execution": {
     "iopub.execute_input": "2021-07-09T02:01:40.634963Z",
     "iopub.status.busy": "2021-07-09T02:01:40.634473Z",
     "iopub.status.idle": "2021-07-09T02:01:40.637575Z",
     "shell.execute_reply": "2021-07-09T02:01:40.637152Z"
    },
    "papermill": {
     "duration": 0.017946,
     "end_time": "2021-07-09T02:01:40.637671",
     "exception": false,
     "start_time": "2021-07-09T02:01:40.619725",
     "status": "completed"
    },
    "tags": []
   },
   "outputs": [
    {
     "data": {
      "text/markdown": [
       "- Circle’s SPAC filing details losses and gains from sales of Poloniex, OTC desk.  Included in Circle's public filing were financial details from some of Circle's headline-driving business unit sales from the past two years. The post Circle&#8217;s SPAC filing details losses and gains from sales of Poloniex, OTC desk appeared first on The Block. ... [| Skaityti daugiau](https://www.theblockcrypto.com/post/110901/circles-spac-filing-details-losses-and-gains-from-sales-of-poloniex-otc-desk?utm_source=cryptocompare&utm_medium=rss) "
      ],
      "text/plain": [
       "<IPython.core.display.Markdown object>"
      ]
     },
     "execution_count": 9,
     "metadata": {},
     "output_type": "execute_result"
    }
   ],
   "source": [
    "#hide_input\n",
    "#md('##### {}'.format(titleBTC)) \n",
    "md(\"- {}{} {}{} [| Skaityti daugiau]({}) \".format(exchange['title'],'. ', exchange['body'], ' ...', exchange['url']))"
   ]
  },
  {
   "cell_type": "code",
   "execution_count": null,
   "id": "tender-livestock",
   "metadata": {
    "papermill": {
     "duration": 0.011084,
     "end_time": "2021-07-09T02:01:40.659881",
     "exception": false,
     "start_time": "2021-07-09T02:01:40.648797",
     "status": "completed"
    },
    "tags": []
   },
   "outputs": [],
   "source": []
  },
  {
   "cell_type": "code",
   "execution_count": null,
   "id": "appreciated-diamond",
   "metadata": {
    "papermill": {
     "duration": 0.011113,
     "end_time": "2021-07-09T02:01:40.682345",
     "exception": false,
     "start_time": "2021-07-09T02:01:40.671232",
     "status": "completed"
    },
    "tags": []
   },
   "outputs": [],
   "source": []
  },
  {
   "cell_type": "code",
   "execution_count": null,
   "id": "romance-sweden",
   "metadata": {
    "papermill": {
     "duration": 0.011348,
     "end_time": "2021-07-09T02:01:40.704797",
     "exception": false,
     "start_time": "2021-07-09T02:01:40.693449",
     "status": "completed"
    },
    "tags": []
   },
   "outputs": [],
   "source": []
  },
  {
   "cell_type": "code",
   "execution_count": null,
   "id": "dietary-statistics",
   "metadata": {
    "papermill": {
     "duration": 0.011089,
     "end_time": "2021-07-09T02:01:40.727040",
     "exception": false,
     "start_time": "2021-07-09T02:01:40.715951",
     "status": "completed"
    },
    "tags": []
   },
   "outputs": [],
   "source": []
  }
 ],
 "metadata": {
  "kernelspec": {
   "display_name": "Python 3",
   "language": "python",
   "name": "python3"
  },
  "language_info": {
   "codemirror_mode": {
    "name": "ipython",
    "version": 3
   },
   "file_extension": ".py",
   "mimetype": "text/x-python",
   "name": "python",
   "nbconvert_exporter": "python",
   "pygments_lexer": "ipython3",
   "version": "3.6.13"
  },
  "papermill": {
   "default_parameters": {},
   "duration": 12.743178,
   "end_time": "2021-07-09T02:01:41.245838",
   "environment_variables": {},
   "exception": null,
   "input_path": "Market-News.ipynb",
   "output_path": "Market-News.ipynb",
   "parameters": {},
   "start_time": "2021-07-09T02:01:28.502660",
   "version": "2.2.2"
  }
 },
 "nbformat": 4,
 "nbformat_minor": 5
}