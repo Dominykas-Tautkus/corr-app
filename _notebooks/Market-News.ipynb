{
 "cells": [
  {
   "cell_type": "markdown",
   "id": "short-greensboro",
   "metadata": {
    "papermill": {
     "duration": 0.016431,
     "end_time": "2021-04-21T02:09:08.590378",
     "exception": false,
     "start_time": "2021-04-21T02:09:08.573947",
     "status": "completed"
    },
    "tags": []
   },
   "source": [
    "# Kriptovaliutų naujienos"
   ]
  },
  {
   "cell_type": "code",
   "execution_count": 1,
   "id": "functioning-knowing",
   "metadata": {
    "execution": {
     "iopub.execute_input": "2021-04-21T02:09:08.627746Z",
     "iopub.status.busy": "2021-04-21T02:09:08.623239Z",
     "iopub.status.idle": "2021-04-21T02:09:10.157938Z",
     "shell.execute_reply": "2021-04-21T02:09:10.156890Z"
    },
    "papermill": {
     "duration": 1.554762,
     "end_time": "2021-04-21T02:09:10.158149",
     "exception": false,
     "start_time": "2021-04-21T02:09:08.603387",
     "status": "completed"
    },
    "tags": []
   },
   "outputs": [],
   "source": [
    "#hide_input\n",
    "import warnings\n",
    "warnings.filterwarnings('ignore')\n",
    "from scripts.read_data import read_api\n",
    "from scripts.read_data import read_news\n",
    "from scripts.read_data import read_covid\n",
    "import matplotlib.pyplot as plt \n",
    "from IPython.display import Markdown as md"
   ]
  },
  {
   "cell_type": "code",
   "execution_count": 2,
   "id": "shared-acceptance",
   "metadata": {
    "execution": {
     "iopub.execute_input": "2021-04-21T02:09:10.190248Z",
     "iopub.status.busy": "2021-04-21T02:09:10.189439Z",
     "iopub.status.idle": "2021-04-21T02:09:19.666414Z",
     "shell.execute_reply": "2021-04-21T02:09:19.665735Z"
    },
    "papermill": {
     "duration": 9.496029,
     "end_time": "2021-04-21T02:09:19.666570",
     "exception": false,
     "start_time": "2021-04-21T02:09:10.170541",
     "status": "completed"
    },
    "tags": []
   },
   "outputs": [],
   "source": [
    "#hide_input\n",
    "blockchain = read_news('blockchain') \n",
    "btc = read_news('btc') \n",
    "xrp = read_news('xrp') \n",
    "trx = read_news('trx') \n",
    "eth = read_news('eth')  \n",
    "ada = read_news('ada')\n",
    "exchange = read_news('exchange') "
   ]
  },
  {
   "cell_type": "code",
   "execution_count": 3,
   "id": "synthetic-notion",
   "metadata": {
    "execution": {
     "iopub.execute_input": "2021-04-21T02:09:19.698697Z",
     "iopub.status.busy": "2021-04-21T02:09:19.697632Z",
     "iopub.status.idle": "2021-04-21T02:09:19.705695Z",
     "shell.execute_reply": "2021-04-21T02:09:19.705066Z"
    },
    "papermill": {
     "duration": 0.026812,
     "end_time": "2021-04-21T02:09:19.705843",
     "exception": false,
     "start_time": "2021-04-21T02:09:19.679031",
     "status": "completed"
    },
    "tags": []
   },
   "outputs": [
    {
     "data": {
      "text/markdown": [
       "- Deutsche Telekom invests in the mobile-focused public blockchain Celo.  German telecommunications company Deutsche Telekom has invested in the public blockchain network Celo, the firm announced Tuesday. The post Deutsche Telekom invests in the mobile-focused public blockchain Celo appeared first on The Block. ... [| Skaityti daugiau](https://www.theblockcrypto.com/linked/102375/deutsche-telekom-invests-in-the-mobile-focused-public-blockchain-celo?utm_source=cryptocompare&utm_medium=rss) "
      ],
      "text/plain": [
       "<IPython.core.display.Markdown object>"
      ]
     },
     "execution_count": 3,
     "metadata": {},
     "output_type": "execute_result"
    }
   ],
   "source": [
    "#hide_input\n",
    "#md('##### {}'.format(titleBTC)) \n",
    "md(\"- {}{} {}{} [| Skaityti daugiau]({}) \".format(blockchain['title'],'. ', blockchain['body'], ' ...', blockchain['url']))"
   ]
  },
  {
   "cell_type": "code",
   "execution_count": 4,
   "id": "aging-caution",
   "metadata": {
    "execution": {
     "iopub.execute_input": "2021-04-21T02:09:19.737514Z",
     "iopub.status.busy": "2021-04-21T02:09:19.736771Z",
     "iopub.status.idle": "2021-04-21T02:09:19.740303Z",
     "shell.execute_reply": "2021-04-21T02:09:19.739637Z"
    },
    "papermill": {
     "duration": 0.021688,
     "end_time": "2021-04-21T02:09:19.740479",
     "exception": false,
     "start_time": "2021-04-21T02:09:19.718791",
     "status": "completed"
    },
    "tags": []
   },
   "outputs": [
    {
     "data": {
      "text/markdown": [
       "- 2 Cents per Kilowatt Hour: Bitfarms to Launch a 210 MW Bitcoin Mining Operation in Argentina.  The Canadian publicly traded bitcoin mining company Bitfarms has announced a deal that will see the company developing a 210 megawatt (MW) mining farm in Argentina. Bitfarms says that the company was able to secure a low electricity rate at $0.02 per kWh during the contractual period. Argentine-Based Bitcoin Mining Facility Aims to Acquire 210 [&#8230;] ... [| Skaityti daugiau](https://news.bitcoin.com/2-cents-per-kilowatt-hour-bitfarms-to-launch-a-210-mw-bitcoin-mining-operation-in-argentina/) "
      ],
      "text/plain": [
       "<IPython.core.display.Markdown object>"
      ]
     },
     "execution_count": 4,
     "metadata": {},
     "output_type": "execute_result"
    }
   ],
   "source": [
    "#hide_input\n",
    "#md('##### {}'.format(titleBTC)) \n",
    "md(\"- {}{} {}{} [| Skaityti daugiau]({}) \".format(btc['title'],'. ', btc['body'], ' ...', btc['url']))"
   ]
  },
  {
   "cell_type": "code",
   "execution_count": 5,
   "id": "organic-actress",
   "metadata": {
    "execution": {
     "iopub.execute_input": "2021-04-21T02:09:19.773604Z",
     "iopub.status.busy": "2021-04-21T02:09:19.772821Z",
     "iopub.status.idle": "2021-04-21T02:09:19.777774Z",
     "shell.execute_reply": "2021-04-21T02:09:19.777177Z"
    },
    "papermill": {
     "duration": 0.024611,
     "end_time": "2021-04-21T02:09:19.777965",
     "exception": false,
     "start_time": "2021-04-21T02:09:19.753354",
     "status": "completed"
    },
    "tags": []
   },
   "outputs": [
    {
     "data": {
      "text/markdown": [
       "- Institutional XRP inflows surge as AUM nearly doubles.  Institutional investors have rallied around XRP and other altcoins this past week, with nearly $33 million being injected in XRP investment products. ... [| Skaityti daugiau](https://cointelegraph.com/news/institutional-xrp-inflows-surge-as-aum-nearly-doubles) "
      ],
      "text/plain": [
       "<IPython.core.display.Markdown object>"
      ]
     },
     "execution_count": 5,
     "metadata": {},
     "output_type": "execute_result"
    }
   ],
   "source": [
    "#hide_input\n",
    "#md('##### {}'.format(titleBTC)) \n",
    "md(\"- {}{} {}{} [| Skaityti daugiau]({}) \".format(xrp['title'],'. ', xrp['body'], ' ...', xrp['url']))"
   ]
  },
  {
   "cell_type": "code",
   "execution_count": 6,
   "id": "prompt-farmer",
   "metadata": {
    "execution": {
     "iopub.execute_input": "2021-04-21T02:09:19.811994Z",
     "iopub.status.busy": "2021-04-21T02:09:19.811345Z",
     "iopub.status.idle": "2021-04-21T02:09:19.815169Z",
     "shell.execute_reply": "2021-04-21T02:09:19.814580Z"
    },
    "papermill": {
     "duration": 0.023563,
     "end_time": "2021-04-21T02:09:19.815306",
     "exception": false,
     "start_time": "2021-04-21T02:09:19.791743",
     "status": "completed"
    },
    "tags": []
   },
   "outputs": [
    {
     "data": {
      "text/markdown": [
       "- Tron Price Analysis: 18 April.  The short-term outlook for most cryptocurrencies was ugly, and for Tron, even the longer timeframes showed that the bullish momentum behind recent gains had been neutralized. Recovery is possible in the coming weeks, but a Bitcoin surge could see capital rush into BTC and out of alts. Tron 12-hour chart On the charts, a pullback [&#8230;] ... [| Skaityti daugiau](https://ambcrypto.com/tron-price-analysis-18-april/) "
      ],
      "text/plain": [
       "<IPython.core.display.Markdown object>"
      ]
     },
     "execution_count": 6,
     "metadata": {},
     "output_type": "execute_result"
    }
   ],
   "source": [
    "#hide_input\n",
    "#md('##### {}'.format(titleBTC)) \n",
    "md(\"- {}{} {}{} [| Skaityti daugiau]({}) \".format(trx['title'],'. ', trx['body'], ' ...', trx['url']))"
   ]
  },
  {
   "cell_type": "code",
   "execution_count": 7,
   "id": "illegal-greece",
   "metadata": {
    "execution": {
     "iopub.execute_input": "2021-04-21T02:09:19.848637Z",
     "iopub.status.busy": "2021-04-21T02:09:19.847961Z",
     "iopub.status.idle": "2021-04-21T02:09:19.850988Z",
     "shell.execute_reply": "2021-04-21T02:09:19.851576Z"
    },
    "papermill": {
     "duration": 0.022707,
     "end_time": "2021-04-21T02:09:19.851724",
     "exception": false,
     "start_time": "2021-04-21T02:09:19.829017",
     "status": "completed"
    },
    "tags": []
   },
   "outputs": [
    {
     "data": {
      "text/markdown": [
       "- Here’s why ‘virtual land’ NFTs are selling for millions of dollars on Ethereum.  Japanese videogame maker Atari says it plans to launch its own non-fungible token (NFT)-based virtual world, as per a report on news outlet Reuters today. The post Here’s why ‘virtual land’ NFTs are selling for millions of dollars on Ethereum appeared first on CryptoSlate. ... [| Skaityti daugiau](https://cryptoslate.com/heres-why-virtual-land-nfts-are-selling-for-millions-of-dollars-on-ethereum/) "
      ],
      "text/plain": [
       "<IPython.core.display.Markdown object>"
      ]
     },
     "execution_count": 7,
     "metadata": {},
     "output_type": "execute_result"
    }
   ],
   "source": [
    "#hide_input\n",
    "#md('##### {}'.format(titleBTC)) \n",
    "md(\"- {}{} {}{} [| Skaityti daugiau]({}) \".format(eth['title'],'. ', eth['body'], ' ...', eth['url']))"
   ]
  },
  {
   "cell_type": "code",
   "execution_count": 8,
   "id": "sublime-lounge",
   "metadata": {
    "execution": {
     "iopub.execute_input": "2021-04-21T02:09:19.885569Z",
     "iopub.status.busy": "2021-04-21T02:09:19.884801Z",
     "iopub.status.idle": "2021-04-21T02:09:19.888311Z",
     "shell.execute_reply": "2021-04-21T02:09:19.889015Z"
    },
    "papermill": {
     "duration": 0.023637,
     "end_time": "2021-04-21T02:09:19.889168",
     "exception": false,
     "start_time": "2021-04-21T02:09:19.865531",
     "status": "completed"
    },
    "tags": []
   },
   "outputs": [
    {
     "data": {
      "text/markdown": [
       "- Cardano vs. Polkadot vs. Ethereum, Which Project Will Emerge The Winner?.  2021 will prove a pivotal year for Cardano, Polkadot, and Ethereum. While each has its merits, competition between the trio starts to heat up as we head into mid-year. Alonzo is on track for an August release, bringing smart contracts to Cardano. Polkadot is racing to finish parachain rollouts to enable on-chain governance. At the [&#8230;] ... [| Skaityti daugiau](https://www.newsbtc.com/news/ethereum/cardano-vs-polkadot-vs-ethereum-which-project-will-emerge-the-winner/) "
      ],
      "text/plain": [
       "<IPython.core.display.Markdown object>"
      ]
     },
     "execution_count": 8,
     "metadata": {},
     "output_type": "execute_result"
    }
   ],
   "source": [
    "#hide_input\n",
    "#md('##### {}'.format(titleBTC)) \n",
    "md(\"- {}{} {}{} [| Skaityti daugiau]({}) \".format(ada['title'],'. ', ada['body'], ' ...', ada['url']))"
   ]
  },
  {
   "cell_type": "code",
   "execution_count": 9,
   "id": "specified-ordering",
   "metadata": {
    "execution": {
     "iopub.execute_input": "2021-04-21T02:09:19.924185Z",
     "iopub.status.busy": "2021-04-21T02:09:19.923521Z",
     "iopub.status.idle": "2021-04-21T02:09:19.927333Z",
     "shell.execute_reply": "2021-04-21T02:09:19.926627Z"
    },
    "papermill": {
     "duration": 0.023739,
     "end_time": "2021-04-21T02:09:19.927494",
     "exception": false,
     "start_time": "2021-04-21T02:09:19.903755",
     "status": "completed"
    },
    "tags": []
   },
   "outputs": [
    {
     "data": {
      "text/markdown": [
       "- Former Comptroller of the Currency Brian Brooks to Lead Binance’s US Trading Platform.  A former top regulator and acting head of the U.S. Comptroller of the Currency, Brian Brooks has been appointed the CEO of crypto exchange Binance.us. Brooks will lead the exchange on May 1st and replace the company&#8217;s current lead, Catherine Coley. Binance has hired an individual with ties to Washington, as the company&#8217;s American trading [&#8230;] ... [| Skaityti daugiau](https://news.bitcoin.com/former-comptroller-of-the-currency-brian-brooks-to-lead-binances-us-trading-platform/) "
      ],
      "text/plain": [
       "<IPython.core.display.Markdown object>"
      ]
     },
     "execution_count": 9,
     "metadata": {},
     "output_type": "execute_result"
    }
   ],
   "source": [
    "#hide_input\n",
    "#md('##### {}'.format(titleBTC)) \n",
    "md(\"- {}{} {}{} [| Skaityti daugiau]({}) \".format(exchange['title'],'. ', exchange['body'], ' ...', exchange['url']))"
   ]
  },
  {
   "cell_type": "code",
   "execution_count": null,
   "id": "tender-livestock",
   "metadata": {
    "papermill": {
     "duration": 0.014693,
     "end_time": "2021-04-21T02:09:19.957062",
     "exception": false,
     "start_time": "2021-04-21T02:09:19.942369",
     "status": "completed"
    },
    "tags": []
   },
   "outputs": [],
   "source": []
  },
  {
   "cell_type": "code",
   "execution_count": null,
   "id": "appreciated-diamond",
   "metadata": {
    "papermill": {
     "duration": 0.015373,
     "end_time": "2021-04-21T02:09:19.987157",
     "exception": false,
     "start_time": "2021-04-21T02:09:19.971784",
     "status": "completed"
    },
    "tags": []
   },
   "outputs": [],
   "source": []
  },
  {
   "cell_type": "code",
   "execution_count": null,
   "id": "romance-sweden",
   "metadata": {
    "papermill": {
     "duration": 0.014921,
     "end_time": "2021-04-21T02:09:20.016938",
     "exception": false,
     "start_time": "2021-04-21T02:09:20.002017",
     "status": "completed"
    },
    "tags": []
   },
   "outputs": [],
   "source": []
  },
  {
   "cell_type": "code",
   "execution_count": null,
   "id": "dietary-statistics",
   "metadata": {
    "papermill": {
     "duration": 0.015182,
     "end_time": "2021-04-21T02:09:20.047293",
     "exception": false,
     "start_time": "2021-04-21T02:09:20.032111",
     "status": "completed"
    },
    "tags": []
   },
   "outputs": [],
   "source": []
  }
 ],
 "metadata": {
  "kernelspec": {
   "display_name": "Python 3",
   "language": "python",
   "name": "python3"
  },
  "language_info": {
   "codemirror_mode": {
    "name": "ipython",
    "version": 3
   },
   "file_extension": ".py",
   "mimetype": "text/x-python",
   "name": "python",
   "nbconvert_exporter": "python",
   "pygments_lexer": "ipython3",
   "version": "3.6.13"
  },
  "papermill": {
   "default_parameters": {},
   "duration": 13.142613,
   "end_time": "2021-04-21T02:09:20.570802",
   "environment_variables": {},
   "exception": null,
   "input_path": "Market-News.ipynb",
   "output_path": "Market-News.ipynb",
   "parameters": {},
   "start_time": "2021-04-21T02:09:07.428189",
   "version": "2.2.2"
  }
 },
 "nbformat": 4,
 "nbformat_minor": 5
}