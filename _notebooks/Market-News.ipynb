{
 "cells": [
  {
   "cell_type": "markdown",
   "id": "short-greensboro",
   "metadata": {
    "papermill": {
     "duration": 0.015547,
     "end_time": "2021-02-28T01:45:10.611471",
     "exception": false,
     "start_time": "2021-02-28T01:45:10.595924",
     "status": "completed"
    },
    "tags": []
   },
   "source": [
    "# Kriptovaliutų naujienos"
   ]
  },
  {
   "cell_type": "code",
   "execution_count": 1,
   "id": "functioning-knowing",
   "metadata": {
    "execution": {
     "iopub.execute_input": "2021-02-28T01:45:10.649537Z",
     "iopub.status.busy": "2021-02-28T01:45:10.648729Z",
     "iopub.status.idle": "2021-02-28T01:45:11.907622Z",
     "shell.execute_reply": "2021-02-28T01:45:11.907069Z"
    },
    "papermill": {
     "duration": 1.280998,
     "end_time": "2021-02-28T01:45:11.907771",
     "exception": false,
     "start_time": "2021-02-28T01:45:10.626773",
     "status": "completed"
    },
    "tags": []
   },
   "outputs": [],
   "source": [
    "#hide_input\n",
    "import warnings\n",
    "warnings.filterwarnings('ignore')\n",
    "from scripts.read_data import read_api\n",
    "from scripts.read_data import read_news\n",
    "from scripts.read_data import read_covid\n",
    "import matplotlib.pyplot as plt \n",
    "from IPython.display import Markdown as md"
   ]
  },
  {
   "cell_type": "code",
   "execution_count": 2,
   "id": "shared-acceptance",
   "metadata": {
    "execution": {
     "iopub.execute_input": "2021-02-28T01:45:11.938656Z",
     "iopub.status.busy": "2021-02-28T01:45:11.937467Z",
     "iopub.status.idle": "2021-02-28T01:45:22.361877Z",
     "shell.execute_reply": "2021-02-28T01:45:22.364271Z"
    },
    "papermill": {
     "duration": 10.443768,
     "end_time": "2021-02-28T01:45:22.364423",
     "exception": false,
     "start_time": "2021-02-28T01:45:11.920655",
     "status": "completed"
    },
    "tags": []
   },
   "outputs": [],
   "source": [
    "#hide_input\n",
    "blockchain = read_news('blockchain') \n",
    "btc = read_news('btc') \n",
    "xrp = read_news('xrp') \n",
    "trx = read_news('trx') \n",
    "eth = read_news('eth')  \n",
    "ada = read_news('ada')\n",
    "exchange = read_news('exchange') "
   ]
  },
  {
   "cell_type": "code",
   "execution_count": 3,
   "id": "synthetic-notion",
   "metadata": {
    "execution": {
     "iopub.execute_input": "2021-02-28T01:45:22.399223Z",
     "iopub.status.busy": "2021-02-28T01:45:22.398650Z",
     "iopub.status.idle": "2021-02-28T01:45:22.401663Z",
     "shell.execute_reply": "2021-02-28T01:45:22.402462Z"
    },
    "papermill": {
     "duration": 0.022279,
     "end_time": "2021-02-28T01:45:22.402605",
     "exception": false,
     "start_time": "2021-02-28T01:45:22.380326",
     "status": "completed"
    },
    "tags": []
   },
   "outputs": [
    {
     "data": {
      "text/markdown": [
       "- Inverse Finance seizes tokens, ships code: Launches stablecoin lending protocol.  One of DeFi's strangest experiments continues to push the envelope in both governance and architecture. ... [| Skaityti daugiau](https://cointelegraph.com/news/inverse-finance-seizes-tokens-ships-code-launches-stablecoin-lending-protocol) "
      ],
      "text/plain": [
       "<IPython.core.display.Markdown object>"
      ]
     },
     "execution_count": 3,
     "metadata": {},
     "output_type": "execute_result"
    }
   ],
   "source": [
    "#hide_input\n",
    "#md('##### {}'.format(titleBTC)) \n",
    "md(\"- {}{} {}{} [| Skaityti daugiau]({}) \".format(blockchain['title'],'. ', blockchain['body'], ' ...', blockchain['url']))"
   ]
  },
  {
   "cell_type": "code",
   "execution_count": 4,
   "id": "aging-caution",
   "metadata": {
    "execution": {
     "iopub.execute_input": "2021-02-28T01:45:22.428675Z",
     "iopub.status.busy": "2021-02-28T01:45:22.427887Z",
     "iopub.status.idle": "2021-02-28T01:45:22.433178Z",
     "shell.execute_reply": "2021-02-28T01:45:22.433724Z"
    },
    "papermill": {
     "duration": 0.021546,
     "end_time": "2021-02-28T01:45:22.433843",
     "exception": false,
     "start_time": "2021-02-28T01:45:22.412297",
     "status": "completed"
    },
    "tags": []
   },
   "outputs": [
    {
     "data": {
      "text/markdown": [
       "- Square CFO: 1 Million Cash App Users Purchased BTC for the First Time.  Square, Inc.’s CFO Amrita Ahuja says the company’s CashApp product recorded more than one million users purchasing bitcoin for the first time in January. ... [| Skaityti daugiau](https://www.cryptoglobe.com/latest/2021/02/square-cfo-1-million-cash-app-users-purchased-btc-for-the-first-time/) "
      ],
      "text/plain": [
       "<IPython.core.display.Markdown object>"
      ]
     },
     "execution_count": 4,
     "metadata": {},
     "output_type": "execute_result"
    }
   ],
   "source": [
    "#hide_input\n",
    "#md('##### {}'.format(titleBTC)) \n",
    "md(\"- {}{} {}{} [| Skaityti daugiau]({}) \".format(btc['title'],'. ', btc['body'], ' ...', btc['url']))"
   ]
  },
  {
   "cell_type": "code",
   "execution_count": 5,
   "id": "organic-actress",
   "metadata": {
    "execution": {
     "iopub.execute_input": "2021-02-28T01:45:22.462961Z",
     "iopub.status.busy": "2021-02-28T01:45:22.462305Z",
     "iopub.status.idle": "2021-02-28T01:45:22.466114Z",
     "shell.execute_reply": "2021-02-28T01:45:22.466916Z"
    },
    "papermill": {
     "duration": 0.021127,
     "end_time": "2021-02-28T01:45:22.467101",
     "exception": false,
     "start_time": "2021-02-28T01:45:22.445974",
     "status": "completed"
    },
    "tags": []
   },
   "outputs": [
    {
     "data": {
      "text/markdown": [
       "- XRP, STEEM, Enjin Price Analysis: 27 February.  XRP maintained a cautious market as momentum was weak on either side. STEEM could be due for a minor pullback before continuing its upwards trajectory. Finally, Enjin would present an upside of over 30% if the price breaks above the ascending triangle pattern. XRP On the hourly charts, XRP slipped below yet another support level [&#8230;] ... [| Skaityti daugiau](https://ambcrypto.com/xrp-steem-enjin-price-analysis-27-february/) "
      ],
      "text/plain": [
       "<IPython.core.display.Markdown object>"
      ]
     },
     "execution_count": 5,
     "metadata": {},
     "output_type": "execute_result"
    }
   ],
   "source": [
    "#hide_input\n",
    "#md('##### {}'.format(titleBTC)) \n",
    "md(\"- {}{} {}{} [| Skaityti daugiau]({}) \".format(xrp['title'],'. ', xrp['body'], ' ...', xrp['url']))"
   ]
  },
  {
   "cell_type": "code",
   "execution_count": 6,
   "id": "prompt-farmer",
   "metadata": {
    "execution": {
     "iopub.execute_input": "2021-02-28T01:45:22.494590Z",
     "iopub.status.busy": "2021-02-28T01:45:22.493853Z",
     "iopub.status.idle": "2021-02-28T01:45:22.498411Z",
     "shell.execute_reply": "2021-02-28T01:45:22.498992Z"
    },
    "papermill": {
     "duration": 0.019534,
     "end_time": "2021-02-28T01:45:22.499112",
     "exception": false,
     "start_time": "2021-02-28T01:45:22.479578",
     "status": "completed"
    },
    "tags": []
   },
   "outputs": [
    {
     "data": {
      "text/markdown": [
       "- Tron, Waves, Dash Price Analysis: 26 February.  Tron tested the $0.043-level of support and Waves was forced lower as well due to a strong wave of bearish sentiment following Bitcoin&#8217;s drop under $50,000 over the last twelve hours. Finally, Dash&#8216;s market bulls sought to defend the psychological $200-level of support. Tron [TRX] TRX formed a range on the hourly chart over the [&#8230;] ... [| Skaityti daugiau](https://ambcrypto.com/tron-waves-dash-price-analysis-26-february/) "
      ],
      "text/plain": [
       "<IPython.core.display.Markdown object>"
      ]
     },
     "execution_count": 6,
     "metadata": {},
     "output_type": "execute_result"
    }
   ],
   "source": [
    "#hide_input\n",
    "#md('##### {}'.format(titleBTC)) \n",
    "md(\"- {}{} {}{} [| Skaityti daugiau]({}) \".format(trx['title'],'. ', trx['body'], ' ...', trx['url']))"
   ]
  },
  {
   "cell_type": "code",
   "execution_count": 7,
   "id": "illegal-greece",
   "metadata": {
    "execution": {
     "iopub.execute_input": "2021-02-28T01:45:22.527117Z",
     "iopub.status.busy": "2021-02-28T01:45:22.526245Z",
     "iopub.status.idle": "2021-02-28T01:45:22.531315Z",
     "shell.execute_reply": "2021-02-28T01:45:22.530746Z"
    },
    "papermill": {
     "duration": 0.020272,
     "end_time": "2021-02-28T01:45:22.531438",
     "exception": false,
     "start_time": "2021-02-28T01:45:22.511166",
     "status": "completed"
    },
    "tags": []
   },
   "outputs": [
    {
     "data": {
      "text/markdown": [
       "- Bitcoin plunges, Ethereum suffers, Musk loses billions: Hodler’s Digest, Feb. 21–27.   ... [| Skaityti daugiau](https://cointelegraph.com/magazine/2021/02/27/bitcoin-plunge-ethereum-suffer-musk-billions-022127) "
      ],
      "text/plain": [
       "<IPython.core.display.Markdown object>"
      ]
     },
     "execution_count": 7,
     "metadata": {},
     "output_type": "execute_result"
    }
   ],
   "source": [
    "#hide_input\n",
    "#md('##### {}'.format(titleBTC)) \n",
    "md(\"- {}{} {}{} [| Skaityti daugiau]({}) \".format(eth['title'],'. ', eth['body'], ' ...', eth['url']))"
   ]
  },
  {
   "cell_type": "code",
   "execution_count": 8,
   "id": "sublime-lounge",
   "metadata": {
    "execution": {
     "iopub.execute_input": "2021-02-28T01:45:22.561070Z",
     "iopub.status.busy": "2021-02-28T01:45:22.560495Z",
     "iopub.status.idle": "2021-02-28T01:45:22.566232Z",
     "shell.execute_reply": "2021-02-28T01:45:22.566742Z"
    },
    "papermill": {
     "duration": 0.022852,
     "end_time": "2021-02-28T01:45:22.566883",
     "exception": false,
     "start_time": "2021-02-28T01:45:22.544031",
     "status": "completed"
    },
    "tags": []
   },
   "outputs": [
    {
     "data": {
      "text/markdown": [
       "- Analyst Predicts Top Altcoins Set for a Major Push in 2021.  The post Analyst Predicts Top Altcoins Set for a Major Push in 2021 appeared first on Coinpedia - Fintech & Cryptocurreny News Media| Crypto GuideYoutuber Austin Arnold on the channel ‘Altcoin Daily’ has made some predictions on which altcoins he thinks traders and investors should look out for and keep on the radar for the year 2021. According to analyst Cardano (ADA) is primed to be one of the top picks in March. As the project seems to have … ... [| Skaityti daugiau](https://coinpedia.org/news/top-altcoins-set-for-a-major-push/) "
      ],
      "text/plain": [
       "<IPython.core.display.Markdown object>"
      ]
     },
     "execution_count": 8,
     "metadata": {},
     "output_type": "execute_result"
    }
   ],
   "source": [
    "#hide_input\n",
    "#md('##### {}'.format(titleBTC)) \n",
    "md(\"- {}{} {}{} [| Skaityti daugiau]({}) \".format(ada['title'],'. ', ada['body'], ' ...', ada['url']))"
   ]
  },
  {
   "cell_type": "code",
   "execution_count": 9,
   "id": "specified-ordering",
   "metadata": {
    "execution": {
     "iopub.execute_input": "2021-02-28T01:45:22.598015Z",
     "iopub.status.busy": "2021-02-28T01:45:22.597420Z",
     "iopub.status.idle": "2021-02-28T01:45:22.600881Z",
     "shell.execute_reply": "2021-02-28T01:45:22.600170Z"
    },
    "papermill": {
     "duration": 0.020537,
     "end_time": "2021-02-28T01:45:22.600991",
     "exception": false,
     "start_time": "2021-02-28T01:45:22.580454",
     "status": "completed"
    },
    "tags": []
   },
   "outputs": [
    {
     "data": {
      "text/markdown": [
       "- Binance Coin price prediction: BNB to fall further as $220 support withers.  TL;DR Breakdown Binance Coin price expected to fall to $150 The closest support level lies at $220 and further below at $200 BNB faces resistance in crossing above the $250 mark. Binance Coin price finds itself struggling to recover to $250 as the price sticks to the $225.0 mark. After the dip below the $200 [&#8230;] ... [| Skaityti daugiau](https://www.cryptopolitan.com/binance-coin-price-to-fall-as-support-wither/) "
      ],
      "text/plain": [
       "<IPython.core.display.Markdown object>"
      ]
     },
     "execution_count": 9,
     "metadata": {},
     "output_type": "execute_result"
    }
   ],
   "source": [
    "#hide_input\n",
    "#md('##### {}'.format(titleBTC)) \n",
    "md(\"- {}{} {}{} [| Skaityti daugiau]({}) \".format(exchange['title'],'. ', exchange['body'], ' ...', exchange['url']))"
   ]
  },
  {
   "cell_type": "code",
   "execution_count": null,
   "id": "tender-livestock",
   "metadata": {
    "papermill": {
     "duration": 0.012925,
     "end_time": "2021-02-28T01:45:22.626590",
     "exception": false,
     "start_time": "2021-02-28T01:45:22.613665",
     "status": "completed"
    },
    "tags": []
   },
   "outputs": [],
   "source": []
  },
  {
   "cell_type": "code",
   "execution_count": null,
   "id": "appreciated-diamond",
   "metadata": {
    "papermill": {
     "duration": 0.013804,
     "end_time": "2021-02-28T01:45:22.654370",
     "exception": false,
     "start_time": "2021-02-28T01:45:22.640566",
     "status": "completed"
    },
    "tags": []
   },
   "outputs": [],
   "source": []
  },
  {
   "cell_type": "code",
   "execution_count": null,
   "id": "romance-sweden",
   "metadata": {
    "papermill": {
     "duration": 0.012944,
     "end_time": "2021-02-28T01:45:22.679667",
     "exception": false,
     "start_time": "2021-02-28T01:45:22.666723",
     "status": "completed"
    },
    "tags": []
   },
   "outputs": [],
   "source": []
  },
  {
   "cell_type": "code",
   "execution_count": null,
   "id": "dietary-statistics",
   "metadata": {
    "papermill": {
     "duration": 0.013414,
     "end_time": "2021-02-28T01:45:22.705401",
     "exception": false,
     "start_time": "2021-02-28T01:45:22.691987",
     "status": "completed"
    },
    "tags": []
   },
   "outputs": [],
   "source": []
  }
 ],
 "metadata": {
  "kernelspec": {
   "display_name": "Python 3",
   "language": "python",
   "name": "python3"
  },
  "language_info": {
   "codemirror_mode": {
    "name": "ipython",
    "version": 3
   },
   "file_extension": ".py",
   "mimetype": "text/x-python",
   "name": "python",
   "nbconvert_exporter": "python",
   "pygments_lexer": "ipython3",
   "version": "3.6.13"
  },
  "papermill": {
   "default_parameters": {},
   "duration": 13.769978,
   "end_time": "2021-02-28T01:45:23.126009",
   "environment_variables": {},
   "exception": null,
   "input_path": "Market-News.ipynb",
   "output_path": "Market-News.ipynb",
   "parameters": {},
   "start_time": "2021-02-28T01:45:09.356031",
   "version": "2.2.2"
  }
 },
 "nbformat": 4,
 "nbformat_minor": 5
}