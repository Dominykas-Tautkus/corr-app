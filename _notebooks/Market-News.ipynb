{
 "cells": [
  {
   "cell_type": "markdown",
   "id": "short-greensboro",
   "metadata": {
    "papermill": {
     "duration": 0.015507,
     "end_time": "2021-03-02T01:29:56.094626",
     "exception": false,
     "start_time": "2021-03-02T01:29:56.079119",
     "status": "completed"
    },
    "tags": []
   },
   "source": [
    "# Kriptovaliutų naujienos"
   ]
  },
  {
   "cell_type": "code",
   "execution_count": 1,
   "id": "functioning-knowing",
   "metadata": {
    "execution": {
     "iopub.execute_input": "2021-03-02T01:29:56.131587Z",
     "iopub.status.busy": "2021-03-02T01:29:56.130876Z",
     "iopub.status.idle": "2021-03-02T01:29:57.483753Z",
     "shell.execute_reply": "2021-03-02T01:29:57.482783Z"
    },
    "papermill": {
     "duration": 1.376911,
     "end_time": "2021-03-02T01:29:57.483980",
     "exception": false,
     "start_time": "2021-03-02T01:29:56.107069",
     "status": "completed"
    },
    "tags": []
   },
   "outputs": [],
   "source": [
    "#hide_input\n",
    "import warnings\n",
    "warnings.filterwarnings('ignore')\n",
    "from scripts.read_data import read_api\n",
    "from scripts.read_data import read_news\n",
    "from scripts.read_data import read_covid\n",
    "import matplotlib.pyplot as plt \n",
    "from IPython.display import Markdown as md"
   ]
  },
  {
   "cell_type": "code",
   "execution_count": 2,
   "id": "shared-acceptance",
   "metadata": {
    "execution": {
     "iopub.execute_input": "2021-03-02T01:29:57.513671Z",
     "iopub.status.busy": "2021-03-02T01:29:57.512439Z",
     "iopub.status.idle": "2021-03-02T01:30:06.007041Z",
     "shell.execute_reply": "2021-03-02T01:30:06.006434Z"
    },
    "papermill": {
     "duration": 8.511353,
     "end_time": "2021-03-02T01:30:06.007183",
     "exception": false,
     "start_time": "2021-03-02T01:29:57.495830",
     "status": "completed"
    },
    "tags": []
   },
   "outputs": [],
   "source": [
    "#hide_input\n",
    "blockchain = read_news('blockchain') \n",
    "btc = read_news('btc') \n",
    "xrp = read_news('xrp') \n",
    "trx = read_news('trx') \n",
    "eth = read_news('eth')  \n",
    "ada = read_news('ada')\n",
    "exchange = read_news('exchange') "
   ]
  },
  {
   "cell_type": "code",
   "execution_count": 3,
   "id": "synthetic-notion",
   "metadata": {
    "execution": {
     "iopub.execute_input": "2021-03-02T01:30:06.038052Z",
     "iopub.status.busy": "2021-03-02T01:30:06.037214Z",
     "iopub.status.idle": "2021-03-02T01:30:06.041149Z",
     "shell.execute_reply": "2021-03-02T01:30:06.040486Z"
    },
    "papermill": {
     "duration": 0.021187,
     "end_time": "2021-03-02T01:30:06.041310",
     "exception": false,
     "start_time": "2021-03-02T01:30:06.020123",
     "status": "completed"
    },
    "tags": []
   },
   "outputs": [
    {
     "data": {
      "text/markdown": [
       "- Bitcoin Whale Moves Massive $4.5 Billion Fortune in BTC for a $21 Fee.  A bitcoin whale has moved a massive $4.5 billion in bitcoin during the flagship cryptocurrency’s sell-off this weekend, which saw the price of bitcoin drop from $55,000 to a $43,000 low before recovering. According to blockchain data, the bitcoin whale moved 103,510 BTC, worth over $4.5 billion, for a fee of around $21 at the […] ... [| Skaityti daugiau](https://www.cryptoglobe.com/latest/2021/03/bitcoin-whale-moves-massive-4-5-billion-fortune-in-btc-for-a-21-fee/) "
      ],
      "text/plain": [
       "<IPython.core.display.Markdown object>"
      ]
     },
     "execution_count": 3,
     "metadata": {},
     "output_type": "execute_result"
    }
   ],
   "source": [
    "#hide_input\n",
    "#md('##### {}'.format(titleBTC)) \n",
    "md(\"- {}{} {}{} [| Skaityti daugiau]({}) \".format(blockchain['title'],'. ', blockchain['body'], ' ...', blockchain['url']))"
   ]
  },
  {
   "cell_type": "code",
   "execution_count": 4,
   "id": "aging-caution",
   "metadata": {
    "execution": {
     "iopub.execute_input": "2021-03-02T01:30:06.070389Z",
     "iopub.status.busy": "2021-03-02T01:30:06.069786Z",
     "iopub.status.idle": "2021-03-02T01:30:06.072926Z",
     "shell.execute_reply": "2021-03-02T01:30:06.073450Z"
    },
    "papermill": {
     "duration": 0.019431,
     "end_time": "2021-03-02T01:30:06.073574",
     "exception": false,
     "start_time": "2021-03-02T01:30:06.054143",
     "status": "completed"
    },
    "tags": []
   },
   "outputs": [
    {
     "data": {
      "text/markdown": [
       "- Bitcoin price hits $50K after bullish outlook from Citigroup and Goldman Sachs.  Bullish maneuvers from MicroStrategy, Goldman Sachs and Citigroup are just a few of the factors backing Bitcoin's rally back to $50,000. ... [| Skaityti daugiau](https://cointelegraph.com/news/bitcoin-price-hits-50k-after-bullish-outlook-from-citigroup-and-goldman-sachs) "
      ],
      "text/plain": [
       "<IPython.core.display.Markdown object>"
      ]
     },
     "execution_count": 4,
     "metadata": {},
     "output_type": "execute_result"
    }
   ],
   "source": [
    "#hide_input\n",
    "#md('##### {}'.format(titleBTC)) \n",
    "md(\"- {}{} {}{} [| Skaityti daugiau]({}) \".format(btc['title'],'. ', btc['body'], ' ...', btc['url']))"
   ]
  },
  {
   "cell_type": "code",
   "execution_count": 5,
   "id": "organic-actress",
   "metadata": {
    "execution": {
     "iopub.execute_input": "2021-03-02T01:30:06.105054Z",
     "iopub.status.busy": "2021-03-02T01:30:06.104377Z",
     "iopub.status.idle": "2021-03-02T01:30:06.108676Z",
     "shell.execute_reply": "2021-03-02T01:30:06.108027Z"
    },
    "papermill": {
     "duration": 0.022222,
     "end_time": "2021-03-02T01:30:06.108805",
     "exception": false,
     "start_time": "2021-03-02T01:30:06.086583",
     "status": "completed"
    },
    "tags": []
   },
   "outputs": [
    {
     "data": {
      "text/markdown": [
       "- Ripple Co-Founder Jed McCaleb Cashes out Another 135 Million XRP.  Jed McCaleb, one of the co-founder of Ripple, has sold an estimated 135 million XRP tokens over the last few weeks, and has around 30.5 million tokens left in his “tacostand” account, according to data from XRPScan. McCaleb is said to have started working on Ripple back in 2011, and was part of its founding […] ... [| Skaityti daugiau](https://www.cryptoglobe.com/latest/2021/03/ripple-co-founder-jed-mccaleb-cashes-out-another-135-million-xrp/) "
      ],
      "text/plain": [
       "<IPython.core.display.Markdown object>"
      ]
     },
     "execution_count": 5,
     "metadata": {},
     "output_type": "execute_result"
    }
   ],
   "source": [
    "#hide_input\n",
    "#md('##### {}'.format(titleBTC)) \n",
    "md(\"- {}{} {}{} [| Skaityti daugiau]({}) \".format(xrp['title'],'. ', xrp['body'], ' ...', xrp['url']))"
   ]
  },
  {
   "cell_type": "code",
   "execution_count": 6,
   "id": "prompt-farmer",
   "metadata": {
    "execution": {
     "iopub.execute_input": "2021-03-02T01:30:06.140835Z",
     "iopub.status.busy": "2021-03-02T01:30:06.140120Z",
     "iopub.status.idle": "2021-03-02T01:30:06.143282Z",
     "shell.execute_reply": "2021-03-02T01:30:06.143917Z"
    },
    "papermill": {
     "duration": 0.021994,
     "end_time": "2021-03-02T01:30:06.144052",
     "exception": false,
     "start_time": "2021-03-02T01:30:06.122058",
     "status": "completed"
    },
    "tags": []
   },
   "outputs": [
    {
     "data": {
      "text/markdown": [
       "- XRP, Tron, Synthetix Price Analysis: 28 February.  After Bitcoin lost out on the $45,000 mark, the broader market witnessed another sell-off and most altcoins registered losses in the last 24 hours. Such was the case with XRP, Tron, and Synthetix, which traded close to their respective support levels at the time of writing. XRP Bulls were unable to recover XRP above the [&#8230;] ... [| Skaityti daugiau](https://ambcrypto.com/xrp-tron-synthetix-price-analysis-28-february/) "
      ],
      "text/plain": [
       "<IPython.core.display.Markdown object>"
      ]
     },
     "execution_count": 6,
     "metadata": {},
     "output_type": "execute_result"
    }
   ],
   "source": [
    "#hide_input\n",
    "#md('##### {}'.format(titleBTC)) \n",
    "md(\"- {}{} {}{} [| Skaityti daugiau]({}) \".format(trx['title'],'. ', trx['body'], ' ...', trx['url']))"
   ]
  },
  {
   "cell_type": "code",
   "execution_count": 7,
   "id": "illegal-greece",
   "metadata": {
    "execution": {
     "iopub.execute_input": "2021-03-02T01:30:06.174532Z",
     "iopub.status.busy": "2021-03-02T01:30:06.173860Z",
     "iopub.status.idle": "2021-03-02T01:30:06.177525Z",
     "shell.execute_reply": "2021-03-02T01:30:06.176890Z"
    },
    "papermill": {
     "duration": 0.020649,
     "end_time": "2021-03-02T01:30:06.177640",
     "exception": false,
     "start_time": "2021-03-02T01:30:06.156991",
     "status": "completed"
    },
    "tags": []
   },
   "outputs": [
    {
     "data": {
      "text/markdown": [
       "- Crypto Markets Regain Billions, Bitcoin Price Bounces Back 15%, Analyst Says ‘Resurgent Mood In the Air’.  The price of bitcoin and a number of digital assets saw significant gains on Monday, as the entire market capitalization of the crypto economy has gained 2.4% in the last 24 hours. Bitcoin&#8217;s value passed the psychological $50k zone after hitting a low of $43,021 the day prior on Sunday. Bitcoin (BTC) touched a high [&#8230;] ... [| Skaityti daugiau](https://news.bitcoin.com/crypto-markets-regain-billions-bitcoin-price-bounces-back-15-analyst-says-resurgent-mood-in-the-air/) "
      ],
      "text/plain": [
       "<IPython.core.display.Markdown object>"
      ]
     },
     "execution_count": 7,
     "metadata": {},
     "output_type": "execute_result"
    }
   ],
   "source": [
    "#hide_input\n",
    "#md('##### {}'.format(titleBTC)) \n",
    "md(\"- {}{} {}{} [| Skaityti daugiau]({}) \".format(eth['title'],'. ', eth['body'], ' ...', eth['url']))"
   ]
  },
  {
   "cell_type": "code",
   "execution_count": 8,
   "id": "sublime-lounge",
   "metadata": {
    "execution": {
     "iopub.execute_input": "2021-03-02T01:30:06.208947Z",
     "iopub.status.busy": "2021-03-02T01:30:06.208299Z",
     "iopub.status.idle": "2021-03-02T01:30:06.211333Z",
     "shell.execute_reply": "2021-03-02T01:30:06.210725Z"
    },
    "papermill": {
     "duration": 0.019909,
     "end_time": "2021-03-02T01:30:06.211443",
     "exception": false,
     "start_time": "2021-03-02T01:30:06.191534",
     "status": "completed"
    },
    "tags": []
   },
   "outputs": [
    {
     "data": {
      "text/markdown": [
       "- Crypto Markets Regain Billions, Bitcoin Price Bounces Back 15%, Analyst Says ‘Resurgent Mood In the Air’.  The price of bitcoin and a number of digital assets saw significant gains on Monday, as the entire market capitalization of the crypto economy has gained 2.4% in the last 24 hours. Bitcoin&#8217;s value passed the psychological $50k zone after hitting a low of $43,021 the day prior on Sunday. Bitcoin (BTC) touched a high [&#8230;] ... [| Skaityti daugiau](https://news.bitcoin.com/crypto-markets-regain-billions-bitcoin-price-bounces-back-15-analyst-says-resurgent-mood-in-the-air/) "
      ],
      "text/plain": [
       "<IPython.core.display.Markdown object>"
      ]
     },
     "execution_count": 8,
     "metadata": {},
     "output_type": "execute_result"
    }
   ],
   "source": [
    "#hide_input\n",
    "#md('##### {}'.format(titleBTC)) \n",
    "md(\"- {}{} {}{} [| Skaityti daugiau]({}) \".format(ada['title'],'. ', ada['body'], ' ...', ada['url']))"
   ]
  },
  {
   "cell_type": "code",
   "execution_count": 9,
   "id": "specified-ordering",
   "metadata": {
    "execution": {
     "iopub.execute_input": "2021-03-02T01:30:06.245104Z",
     "iopub.status.busy": "2021-03-02T01:30:06.244503Z",
     "iopub.status.idle": "2021-03-02T01:30:06.247919Z",
     "shell.execute_reply": "2021-03-02T01:30:06.247155Z"
    },
    "papermill": {
     "duration": 0.022421,
     "end_time": "2021-03-02T01:30:06.248028",
     "exception": false,
     "start_time": "2021-03-02T01:30:06.225607",
     "status": "completed"
    },
    "tags": []
   },
   "outputs": [
    {
     "data": {
      "text/markdown": [
       "- Citi Analysts: Bitcoin could either face “speculative implosion” or become a top currency for international trade.  Bitcoin as both a medium of exchange and a currency is at a unique position in its existence. It reached a new all-time price high of almost $60,000 in February 2021 and saw its largest-ever wave of institutional support in late 2020. As such, both bitcoin investors and general crypto enthusiasts are closely watching the [&#8230;] ... [| Skaityti daugiau](https://zycrypto.com/citi-analysts-bitcoin-could-either-face-speculative-implosion-or-become-a-top-currency-for-international-trade/) "
      ],
      "text/plain": [
       "<IPython.core.display.Markdown object>"
      ]
     },
     "execution_count": 9,
     "metadata": {},
     "output_type": "execute_result"
    }
   ],
   "source": [
    "#hide_input\n",
    "#md('##### {}'.format(titleBTC)) \n",
    "md(\"- {}{} {}{} [| Skaityti daugiau]({}) \".format(exchange['title'],'. ', exchange['body'], ' ...', exchange['url']))"
   ]
  },
  {
   "cell_type": "code",
   "execution_count": null,
   "id": "tender-livestock",
   "metadata": {
    "papermill": {
     "duration": 0.013137,
     "end_time": "2021-03-02T01:30:06.274903",
     "exception": false,
     "start_time": "2021-03-02T01:30:06.261766",
     "status": "completed"
    },
    "tags": []
   },
   "outputs": [],
   "source": []
  },
  {
   "cell_type": "code",
   "execution_count": null,
   "id": "appreciated-diamond",
   "metadata": {
    "papermill": {
     "duration": 0.012996,
     "end_time": "2021-03-02T01:30:06.302423",
     "exception": false,
     "start_time": "2021-03-02T01:30:06.289427",
     "status": "completed"
    },
    "tags": []
   },
   "outputs": [],
   "source": []
  },
  {
   "cell_type": "code",
   "execution_count": null,
   "id": "romance-sweden",
   "metadata": {
    "papermill": {
     "duration": 0.013894,
     "end_time": "2021-03-02T01:30:06.329911",
     "exception": false,
     "start_time": "2021-03-02T01:30:06.316017",
     "status": "completed"
    },
    "tags": []
   },
   "outputs": [],
   "source": []
  },
  {
   "cell_type": "code",
   "execution_count": null,
   "id": "dietary-statistics",
   "metadata": {
    "papermill": {
     "duration": 0.014481,
     "end_time": "2021-03-02T01:30:06.358242",
     "exception": false,
     "start_time": "2021-03-02T01:30:06.343761",
     "status": "completed"
    },
    "tags": []
   },
   "outputs": [],
   "source": []
  }
 ],
 "metadata": {
  "kernelspec": {
   "display_name": "Python 3",
   "language": "python",
   "name": "python3"
  },
  "language_info": {
   "codemirror_mode": {
    "name": "ipython",
    "version": 3
   },
   "file_extension": ".py",
   "mimetype": "text/x-python",
   "name": "python",
   "nbconvert_exporter": "python",
   "pygments_lexer": "ipython3",
   "version": "3.6.13"
  },
  "papermill": {
   "default_parameters": {},
   "duration": 12.004302,
   "end_time": "2021-03-02T01:30:06.778923",
   "environment_variables": {},
   "exception": null,
   "input_path": "Market-News.ipynb",
   "output_path": "Market-News.ipynb",
   "parameters": {},
   "start_time": "2021-03-02T01:29:54.774621",
   "version": "2.2.2"
  }
 },
 "nbformat": 4,
 "nbformat_minor": 5
}