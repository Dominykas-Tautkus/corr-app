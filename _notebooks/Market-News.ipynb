{
 "cells": [
  {
   "cell_type": "markdown",
   "id": "short-greensboro",
   "metadata": {
    "papermill": {
     "duration": 0.015056,
     "end_time": "2021-03-10T01:46:22.241338",
     "exception": false,
     "start_time": "2021-03-10T01:46:22.226282",
     "status": "completed"
    },
    "tags": []
   },
   "source": [
    "# Kriptovaliutų naujienos"
   ]
  },
  {
   "cell_type": "code",
   "execution_count": 1,
   "id": "functioning-knowing",
   "metadata": {
    "execution": {
     "iopub.execute_input": "2021-03-10T01:46:22.277552Z",
     "iopub.status.busy": "2021-03-10T01:46:22.276882Z",
     "iopub.status.idle": "2021-03-10T01:46:23.668464Z",
     "shell.execute_reply": "2021-03-10T01:46:23.668985Z"
    },
    "papermill": {
     "duration": 1.415467,
     "end_time": "2021-03-10T01:46:23.669167",
     "exception": false,
     "start_time": "2021-03-10T01:46:22.253700",
     "status": "completed"
    },
    "tags": []
   },
   "outputs": [],
   "source": [
    "#hide_input\n",
    "import warnings\n",
    "warnings.filterwarnings('ignore')\n",
    "from scripts.read_data import read_api\n",
    "from scripts.read_data import read_news\n",
    "from scripts.read_data import read_covid\n",
    "import matplotlib.pyplot as plt \n",
    "from IPython.display import Markdown as md"
   ]
  },
  {
   "cell_type": "code",
   "execution_count": 2,
   "id": "shared-acceptance",
   "metadata": {
    "execution": {
     "iopub.execute_input": "2021-03-10T01:46:23.699399Z",
     "iopub.status.busy": "2021-03-10T01:46:23.697989Z",
     "iopub.status.idle": "2021-03-10T01:46:31.414128Z",
     "shell.execute_reply": "2021-03-10T01:46:31.413536Z"
    },
    "papermill": {
     "duration": 7.733557,
     "end_time": "2021-03-10T01:46:31.414307",
     "exception": false,
     "start_time": "2021-03-10T01:46:23.680750",
     "status": "completed"
    },
    "tags": []
   },
   "outputs": [],
   "source": [
    "#hide_input\n",
    "blockchain = read_news('blockchain') \n",
    "btc = read_news('btc') \n",
    "xrp = read_news('xrp') \n",
    "trx = read_news('trx') \n",
    "eth = read_news('eth')  \n",
    "ada = read_news('ada')\n",
    "exchange = read_news('exchange') "
   ]
  },
  {
   "cell_type": "code",
   "execution_count": 3,
   "id": "synthetic-notion",
   "metadata": {
    "execution": {
     "iopub.execute_input": "2021-03-10T01:46:31.444263Z",
     "iopub.status.busy": "2021-03-10T01:46:31.443594Z",
     "iopub.status.idle": "2021-03-10T01:46:31.450168Z",
     "shell.execute_reply": "2021-03-10T01:46:31.451229Z"
    },
    "papermill": {
     "duration": 0.025308,
     "end_time": "2021-03-10T01:46:31.451393",
     "exception": false,
     "start_time": "2021-03-10T01:46:31.426085",
     "status": "completed"
    },
    "tags": []
   },
   "outputs": [
    {
     "data": {
      "text/markdown": [
       "- Polygon integrates with interoperable token launchpad from DxSale Network, DxLaunch.  DxSale Network, a cross-chain DAO token management platform, is integrating its DxLaunch token launchpad with the Polygon (ex-Matic Network) network becoming the first launchpad with three blockchain integrations &#8211; Ethereum, Binance Smart Chain and Polygon. The post Polygon integrates with interoperable token launchpad from DxSale Network, DxLaunch appeared first on CryptoSlate. ... [| Skaityti daugiau](https://cryptoslate.com/polygon-integrates-with-interoperable-token-launchpad-from-dxsale-network-dxlaunch/) "
      ],
      "text/plain": [
       "<IPython.core.display.Markdown object>"
      ]
     },
     "execution_count": 3,
     "metadata": {},
     "output_type": "execute_result"
    }
   ],
   "source": [
    "#hide_input\n",
    "#md('##### {}'.format(titleBTC)) \n",
    "md(\"- {}{} {}{} [| Skaityti daugiau]({}) \".format(blockchain['title'],'. ', blockchain['body'], ' ...', blockchain['url']))"
   ]
  },
  {
   "cell_type": "code",
   "execution_count": 4,
   "id": "aging-caution",
   "metadata": {
    "execution": {
     "iopub.execute_input": "2021-03-10T01:46:31.481172Z",
     "iopub.status.busy": "2021-03-10T01:46:31.480519Z",
     "iopub.status.idle": "2021-03-10T01:46:31.487574Z",
     "shell.execute_reply": "2021-03-10T01:46:31.488072Z"
    },
    "papermill": {
     "duration": 0.024542,
     "end_time": "2021-03-10T01:46:31.488212",
     "exception": false,
     "start_time": "2021-03-10T01:46:31.463670",
     "status": "completed"
    },
    "tags": []
   },
   "outputs": [
    {
     "data": {
      "text/markdown": [
       "- Bitcoin Hype May Have “Passed,” But Is “Healthy” Before Pushing To New Highs.  Bitcoin price is well above $50,000, but there&#8217;s no denying that some of the momentum that the asset had to start the year has been lost. Volatility lowering also could suggest that the &#8220;hype run&#8221; might have &#8220;passed&#8221; for the time being. But rather than see a sizable correction, Bitcoin price action could instead trade [&#8230;] ... [| Skaityti daugiau](https://www.newsbtc.com/news/bitcoin/bitcoin-hype-passed-btc-healthy/) "
      ],
      "text/plain": [
       "<IPython.core.display.Markdown object>"
      ]
     },
     "execution_count": 4,
     "metadata": {},
     "output_type": "execute_result"
    }
   ],
   "source": [
    "#hide_input\n",
    "#md('##### {}'.format(titleBTC)) \n",
    "md(\"- {}{} {}{} [| Skaityti daugiau]({}) \".format(btc['title'],'. ', btc['body'], ' ...', btc['url']))"
   ]
  },
  {
   "cell_type": "code",
   "execution_count": 5,
   "id": "organic-actress",
   "metadata": {
    "execution": {
     "iopub.execute_input": "2021-03-10T01:46:31.518818Z",
     "iopub.status.busy": "2021-03-10T01:46:31.518210Z",
     "iopub.status.idle": "2021-03-10T01:46:31.520992Z",
     "shell.execute_reply": "2021-03-10T01:46:31.520450Z"
    },
    "papermill": {
     "duration": 0.020696,
     "end_time": "2021-03-10T01:46:31.521105",
     "exception": false,
     "start_time": "2021-03-10T01:46:31.500409",
     "status": "completed"
    },
    "tags": []
   },
   "outputs": [
    {
     "data": {
      "text/markdown": [
       "- YouTube and Ripple Settle Lawsuit, Will Fund Cybercrime Non-Profit.  Ripple's case against YouTube over crypto scammers impersonating CEO Brad Garlinghouse settled quietly, and will involve charitable donations by both. ... [| Skaityti daugiau](https://decrypt.co/60810/youtube-and-ripple-settle-lawsuit-will-fund-cybercrime-non-profit) "
      ],
      "text/plain": [
       "<IPython.core.display.Markdown object>"
      ]
     },
     "execution_count": 5,
     "metadata": {},
     "output_type": "execute_result"
    }
   ],
   "source": [
    "#hide_input\n",
    "#md('##### {}'.format(titleBTC)) \n",
    "md(\"- {}{} {}{} [| Skaityti daugiau]({}) \".format(xrp['title'],'. ', xrp['body'], ' ...', xrp['url']))"
   ]
  },
  {
   "cell_type": "code",
   "execution_count": 6,
   "id": "prompt-farmer",
   "metadata": {
    "execution": {
     "iopub.execute_input": "2021-03-10T01:46:31.549753Z",
     "iopub.status.busy": "2021-03-10T01:46:31.549076Z",
     "iopub.status.idle": "2021-03-10T01:46:31.552799Z",
     "shell.execute_reply": "2021-03-10T01:46:31.553331Z"
    },
    "papermill": {
     "duration": 0.020249,
     "end_time": "2021-03-10T01:46:31.553467",
     "exception": false,
     "start_time": "2021-03-10T01:46:31.533218",
     "status": "completed"
    },
    "tags": []
   },
   "outputs": [
    {
     "data": {
      "text/markdown": [
       "- Tron, BAT, Dogecoin Price Analysis: 09 March.  Tron captured the 50% Fibonacci retracement level thanks to renewed buying interest and an impetus noted by the broader market. BAT projected upside above its local high of $0.84, if the price breaks north of its symmetrical triangle. Finally, Dogecoin flipped the $0.05-resistance, at press time, and eyed the next ceiling at $0.07. Tron [TRX] [&#8230;] ... [| Skaityti daugiau](https://ambcrypto.com/tron-bat-dogecoin-price-analysis-09-march/) "
      ],
      "text/plain": [
       "<IPython.core.display.Markdown object>"
      ]
     },
     "execution_count": 6,
     "metadata": {},
     "output_type": "execute_result"
    }
   ],
   "source": [
    "#hide_input\n",
    "#md('##### {}'.format(titleBTC)) \n",
    "md(\"- {}{} {}{} [| Skaityti daugiau]({}) \".format(trx['title'],'. ', trx['body'], ' ...', trx['url']))"
   ]
  },
  {
   "cell_type": "code",
   "execution_count": 7,
   "id": "illegal-greece",
   "metadata": {
    "execution": {
     "iopub.execute_input": "2021-03-10T01:46:31.584446Z",
     "iopub.status.busy": "2021-03-10T01:46:31.583792Z",
     "iopub.status.idle": "2021-03-10T01:46:31.588854Z",
     "shell.execute_reply": "2021-03-10T01:46:31.589540Z"
    },
    "papermill": {
     "duration": 0.023106,
     "end_time": "2021-03-10T01:46:31.589688",
     "exception": false,
     "start_time": "2021-03-10T01:46:31.566582",
     "status": "completed"
    },
    "tags": []
   },
   "outputs": [
    {
     "data": {
      "text/markdown": [
       "- Polygon integrates with interoperable token launchpad from DxSale Network, DxLaunch.  DxSale Network, a cross-chain DAO token management platform, is integrating its DxLaunch token launchpad with the Polygon (ex-Matic Network) network becoming the first launchpad with three blockchain integrations &#8211; Ethereum, Binance Smart Chain and Polygon. The post Polygon integrates with interoperable token launchpad from DxSale Network, DxLaunch appeared first on CryptoSlate. ... [| Skaityti daugiau](https://cryptoslate.com/polygon-integrates-with-interoperable-token-launchpad-from-dxsale-network-dxlaunch/) "
      ],
      "text/plain": [
       "<IPython.core.display.Markdown object>"
      ]
     },
     "execution_count": 7,
     "metadata": {},
     "output_type": "execute_result"
    }
   ],
   "source": [
    "#hide_input\n",
    "#md('##### {}'.format(titleBTC)) \n",
    "md(\"- {}{} {}{} [| Skaityti daugiau]({}) \".format(eth['title'],'. ', eth['body'], ' ...', eth['url']))"
   ]
  },
  {
   "cell_type": "code",
   "execution_count": 8,
   "id": "sublime-lounge",
   "metadata": {
    "execution": {
     "iopub.execute_input": "2021-03-10T01:46:31.620546Z",
     "iopub.status.busy": "2021-03-10T01:46:31.619793Z",
     "iopub.status.idle": "2021-03-10T01:46:31.625735Z",
     "shell.execute_reply": "2021-03-10T01:46:31.626289Z"
    },
    "papermill": {
     "duration": 0.023782,
     "end_time": "2021-03-10T01:46:31.626460",
     "exception": false,
     "start_time": "2021-03-10T01:46:31.602678",
     "status": "completed"
    },
    "tags": []
   },
   "outputs": [
    {
     "data": {
      "text/markdown": [
       "- Why this Bitcoin bull is interested in Cardano?.  When it comes to defending Bitcoin, Galaxy Digital founder Mike Novogratz is on par with the likes of Michael Saylor, Anthony Pompliano, and other Bitcoin bulls. In his recent tweet, the chief exec did not hold back his curiosity about an increasingly popular altcoin &#8211; ADA. On 9 March Novogratz wrote: Last question before I [&#8230;] ... [| Skaityti daugiau](https://ambcrypto.com/why-this-bitcoin-bull-is-interested-in-cardano/) "
      ],
      "text/plain": [
       "<IPython.core.display.Markdown object>"
      ]
     },
     "execution_count": 8,
     "metadata": {},
     "output_type": "execute_result"
    }
   ],
   "source": [
    "#hide_input\n",
    "#md('##### {}'.format(titleBTC)) \n",
    "md(\"- {}{} {}{} [| Skaityti daugiau]({}) \".format(ada['title'],'. ', ada['body'], ' ...', ada['url']))"
   ]
  },
  {
   "cell_type": "code",
   "execution_count": 9,
   "id": "specified-ordering",
   "metadata": {
    "execution": {
     "iopub.execute_input": "2021-03-10T01:46:31.659606Z",
     "iopub.status.busy": "2021-03-10T01:46:31.658140Z",
     "iopub.status.idle": "2021-03-10T01:46:31.661975Z",
     "shell.execute_reply": "2021-03-10T01:46:31.662570Z"
    },
    "papermill": {
     "duration": 0.021952,
     "end_time": "2021-03-10T01:46:31.662710",
     "exception": false,
     "start_time": "2021-03-10T01:46:31.640758",
     "status": "completed"
    },
    "tags": []
   },
   "outputs": [
    {
     "data": {
      "text/markdown": [
       "- Polygon integrates with interoperable token launchpad from DxSale Network, DxLaunch.  DxSale Network, a cross-chain DAO token management platform, is integrating its DxLaunch token launchpad with the Polygon (ex-Matic Network) network becoming the first launchpad with three blockchain integrations &#8211; Ethereum, Binance Smart Chain and Polygon. The post Polygon integrates with interoperable token launchpad from DxSale Network, DxLaunch appeared first on CryptoSlate. ... [| Skaityti daugiau](https://cryptoslate.com/polygon-integrates-with-interoperable-token-launchpad-from-dxsale-network-dxlaunch/) "
      ],
      "text/plain": [
       "<IPython.core.display.Markdown object>"
      ]
     },
     "execution_count": 9,
     "metadata": {},
     "output_type": "execute_result"
    }
   ],
   "source": [
    "#hide_input\n",
    "#md('##### {}'.format(titleBTC)) \n",
    "md(\"- {}{} {}{} [| Skaityti daugiau]({}) \".format(exchange['title'],'. ', exchange['body'], ' ...', exchange['url']))"
   ]
  },
  {
   "cell_type": "code",
   "execution_count": null,
   "id": "tender-livestock",
   "metadata": {
    "papermill": {
     "duration": 0.0139,
     "end_time": "2021-03-10T01:46:31.690176",
     "exception": false,
     "start_time": "2021-03-10T01:46:31.676276",
     "status": "completed"
    },
    "tags": []
   },
   "outputs": [],
   "source": []
  },
  {
   "cell_type": "code",
   "execution_count": null,
   "id": "appreciated-diamond",
   "metadata": {
    "papermill": {
     "duration": 0.014841,
     "end_time": "2021-03-10T01:46:31.719079",
     "exception": false,
     "start_time": "2021-03-10T01:46:31.704238",
     "status": "completed"
    },
    "tags": []
   },
   "outputs": [],
   "source": []
  },
  {
   "cell_type": "code",
   "execution_count": null,
   "id": "romance-sweden",
   "metadata": {
    "papermill": {
     "duration": 0.013896,
     "end_time": "2021-03-10T01:46:31.746795",
     "exception": false,
     "start_time": "2021-03-10T01:46:31.732899",
     "status": "completed"
    },
    "tags": []
   },
   "outputs": [],
   "source": []
  },
  {
   "cell_type": "code",
   "execution_count": null,
   "id": "dietary-statistics",
   "metadata": {
    "papermill": {
     "duration": 0.014256,
     "end_time": "2021-03-10T01:46:31.774516",
     "exception": false,
     "start_time": "2021-03-10T01:46:31.760260",
     "status": "completed"
    },
    "tags": []
   },
   "outputs": [],
   "source": []
  }
 ],
 "metadata": {
  "kernelspec": {
   "display_name": "Python 3",
   "language": "python",
   "name": "python3"
  },
  "language_info": {
   "codemirror_mode": {
    "name": "ipython",
    "version": 3
   },
   "file_extension": ".py",
   "mimetype": "text/x-python",
   "name": "python",
   "nbconvert_exporter": "python",
   "pygments_lexer": "ipython3",
   "version": "3.6.13"
  },
  "papermill": {
   "default_parameters": {},
   "duration": 11.060339,
   "end_time": "2021-03-10T01:46:32.196773",
   "environment_variables": {},
   "exception": null,
   "input_path": "Market-News.ipynb",
   "output_path": "Market-News.ipynb",
   "parameters": {},
   "start_time": "2021-03-10T01:46:21.136434",
   "version": "2.2.2"
  }
 },
 "nbformat": 4,
 "nbformat_minor": 5
}