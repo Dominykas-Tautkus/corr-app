{
 "cells": [
  {
   "cell_type": "markdown",
   "id": "short-greensboro",
   "metadata": {
    "papermill": {
     "duration": 0.014952,
     "end_time": "2021-05-13T02:20:19.965044",
     "exception": false,
     "start_time": "2021-05-13T02:20:19.950092",
     "status": "completed"
    },
    "tags": []
   },
   "source": [
    "# Kriptovaliutų naujienos"
   ]
  },
  {
   "cell_type": "code",
   "execution_count": 1,
   "id": "functioning-knowing",
   "metadata": {
    "execution": {
     "iopub.execute_input": "2021-05-13T02:20:20.001931Z",
     "iopub.status.busy": "2021-05-13T02:20:20.000878Z",
     "iopub.status.idle": "2021-05-13T02:20:21.321050Z",
     "shell.execute_reply": "2021-05-13T02:20:21.321859Z"
    },
    "papermill": {
     "duration": 1.345829,
     "end_time": "2021-05-13T02:20:21.322139",
     "exception": false,
     "start_time": "2021-05-13T02:20:19.976310",
     "status": "completed"
    },
    "tags": []
   },
   "outputs": [],
   "source": [
    "#hide_input\n",
    "import warnings\n",
    "warnings.filterwarnings('ignore')\n",
    "from scripts.read_data import read_api\n",
    "from scripts.read_data import read_news\n",
    "from scripts.read_data import read_covid\n",
    "import matplotlib.pyplot as plt \n",
    "from IPython.display import Markdown as md"
   ]
  },
  {
   "cell_type": "code",
   "execution_count": 2,
   "id": "shared-acceptance",
   "metadata": {
    "execution": {
     "iopub.execute_input": "2021-05-13T02:20:21.350402Z",
     "iopub.status.busy": "2021-05-13T02:20:21.349821Z",
     "iopub.status.idle": "2021-05-13T02:20:29.784009Z",
     "shell.execute_reply": "2021-05-13T02:20:29.783124Z"
    },
    "papermill": {
     "duration": 8.450443,
     "end_time": "2021-05-13T02:20:29.784224",
     "exception": false,
     "start_time": "2021-05-13T02:20:21.333781",
     "status": "completed"
    },
    "tags": []
   },
   "outputs": [],
   "source": [
    "#hide_input\n",
    "blockchain = read_news('blockchain') \n",
    "btc = read_news('btc') \n",
    "xrp = read_news('xrp') \n",
    "trx = read_news('trx') \n",
    "eth = read_news('eth')  \n",
    "ada = read_news('ada')\n",
    "exchange = read_news('exchange') "
   ]
  },
  {
   "cell_type": "code",
   "execution_count": 3,
   "id": "synthetic-notion",
   "metadata": {
    "execution": {
     "iopub.execute_input": "2021-05-13T02:20:29.816292Z",
     "iopub.status.busy": "2021-05-13T02:20:29.815697Z",
     "iopub.status.idle": "2021-05-13T02:20:29.818414Z",
     "shell.execute_reply": "2021-05-13T02:20:29.818877Z"
    },
    "papermill": {
     "duration": 0.020088,
     "end_time": "2021-05-13T02:20:29.819023",
     "exception": false,
     "start_time": "2021-05-13T02:20:29.798935",
     "status": "completed"
    },
    "tags": []
   },
   "outputs": [
    {
     "data": {
      "text/markdown": [
       "- China’s Blockchain Investment Growth Is Slowing Down.  Beijing. The growth of China’s blockchain business expansion appears to be slowing, per a new report – a sign that the blockchain explosion of the past two years appears to be quelling.In October 2019, Chinese President Xi Jinping gave a speech where he called blockchain technology “an important breakthrough,” vowing that China would “seize the ... [| Skaityti daugiau](https://cryptonews.com/news/china-s-blockchain-investment-growth-is-slowing-down-10272.htm) "
      ],
      "text/plain": [
       "<IPython.core.display.Markdown object>"
      ]
     },
     "execution_count": 3,
     "metadata": {},
     "output_type": "execute_result"
    }
   ],
   "source": [
    "#hide_input\n",
    "#md('##### {}'.format(titleBTC)) \n",
    "md(\"- {}{} {}{} [| Skaityti daugiau]({}) \".format(blockchain['title'],'. ', blockchain['body'], ' ...', blockchain['url']))"
   ]
  },
  {
   "cell_type": "code",
   "execution_count": 4,
   "id": "aging-caution",
   "metadata": {
    "execution": {
     "iopub.execute_input": "2021-05-13T02:20:29.848019Z",
     "iopub.status.busy": "2021-05-13T02:20:29.847381Z",
     "iopub.status.idle": "2021-05-13T02:20:29.850217Z",
     "shell.execute_reply": "2021-05-13T02:20:29.850705Z"
    },
    "papermill": {
     "duration": 0.021071,
     "end_time": "2021-05-13T02:20:29.850852",
     "exception": false,
     "start_time": "2021-05-13T02:20:29.829781",
     "status": "completed"
    },
    "tags": []
   },
   "outputs": [
    {
     "data": {
      "text/markdown": [
       "- Bitcoin’s mining difficulty is set to reach a new high with the biggest increase since 2018.  The expected adjustment comes after a speedy recovery of the network hashrate from the recent incident in China's Xinjiang province.The post Bitcoin&#8217;s mining difficulty is set to reach a new high with the biggest increase since 2018 appeared first on The Block. ... [| Skaityti daugiau](https://www.theblockcrypto.com/linked/104549/bitcoin-mining-difficulty-new-high-hash-rate-recover?utm_source=cryptocompare&utm_medium=rss) "
      ],
      "text/plain": [
       "<IPython.core.display.Markdown object>"
      ]
     },
     "execution_count": 4,
     "metadata": {},
     "output_type": "execute_result"
    }
   ],
   "source": [
    "#hide_input\n",
    "#md('##### {}'.format(titleBTC)) \n",
    "md(\"- {}{} {}{} [| Skaityti daugiau]({}) \".format(btc['title'],'. ', btc['body'], ' ...', btc['url']))"
   ]
  },
  {
   "cell_type": "code",
   "execution_count": 5,
   "id": "organic-actress",
   "metadata": {
    "execution": {
     "iopub.execute_input": "2021-05-13T02:20:29.878627Z",
     "iopub.status.busy": "2021-05-13T02:20:29.878020Z",
     "iopub.status.idle": "2021-05-13T02:20:29.882535Z",
     "shell.execute_reply": "2021-05-13T02:20:29.882038Z"
    },
    "papermill": {
     "duration": 0.020595,
     "end_time": "2021-05-13T02:20:29.882673",
     "exception": false,
     "start_time": "2021-05-13T02:20:29.862078",
     "status": "completed"
    },
    "tags": []
   },
   "outputs": [
    {
     "data": {
      "text/markdown": [
       "- Former Ripple Partner MoneyGram to Allow Bitcoin Buying at Retail Locations.  MoneyGram has revealed it will let its customers buy and sell bitcoin at its 12,000 retail locations throughout the U.S. thanks to a new partnership with cryptocurrency exchange and ATM operator Coinme. According to CNBC, new and existing Coinme users will soon be able to buy crypto with cash and withdraw it at MoneyGram’s brick-and-mortar […] ... [| Skaityti daugiau](https://www.cryptoglobe.com/latest/2021/05/former-ripple-partner-moneygram-to-allow-bitcoin-buying-at-retail-locations/) "
      ],
      "text/plain": [
       "<IPython.core.display.Markdown object>"
      ]
     },
     "execution_count": 5,
     "metadata": {},
     "output_type": "execute_result"
    }
   ],
   "source": [
    "#hide_input\n",
    "#md('##### {}'.format(titleBTC)) \n",
    "md(\"- {}{} {}{} [| Skaityti daugiau]({}) \".format(xrp['title'],'. ', xrp['body'], ' ...', xrp['url']))"
   ]
  },
  {
   "cell_type": "code",
   "execution_count": 6,
   "id": "prompt-farmer",
   "metadata": {
    "execution": {
     "iopub.execute_input": "2021-05-13T02:20:29.911738Z",
     "iopub.status.busy": "2021-05-13T02:20:29.911159Z",
     "iopub.status.idle": "2021-05-13T02:20:29.915692Z",
     "shell.execute_reply": "2021-05-13T02:20:29.915203Z"
    },
    "papermill": {
     "duration": 0.021702,
     "end_time": "2021-05-13T02:20:29.915808",
     "exception": false,
     "start_time": "2021-05-13T02:20:29.894106",
     "status": "completed"
    },
    "tags": []
   },
   "outputs": [
    {
     "data": {
      "text/markdown": [
       "- As Elon Musk’s SpaceX Literally Sends Dogecoin To The Moon, Justin Sun Craves For Tron to Tag Along.  Justin Sun, the CEO of Tron is offering Elon Musk a million-dollar deal, to help launch a satellite for BitTorrent and Tron. The CEO of the leading network has been clamoring for the adoption of the Tron network and its native token TRX. As seen on Twitter, Sun is quoted saying &#8220;I want to pay [&#8230;] ... [| Skaityti daugiau](https://zycrypto.com/as-elon-musks-spacex-literally-sends-dogecoin-to-the-moon-justin-sun-craves-for-tron-to-tag-along/) "
      ],
      "text/plain": [
       "<IPython.core.display.Markdown object>"
      ]
     },
     "execution_count": 6,
     "metadata": {},
     "output_type": "execute_result"
    }
   ],
   "source": [
    "#hide_input\n",
    "#md('##### {}'.format(titleBTC)) \n",
    "md(\"- {}{} {}{} [| Skaityti daugiau]({}) \".format(trx['title'],'. ', trx['body'], ' ...', trx['url']))"
   ]
  },
  {
   "cell_type": "code",
   "execution_count": 7,
   "id": "illegal-greece",
   "metadata": {
    "execution": {
     "iopub.execute_input": "2021-05-13T02:20:29.945619Z",
     "iopub.status.busy": "2021-05-13T02:20:29.945022Z",
     "iopub.status.idle": "2021-05-13T02:20:29.947934Z",
     "shell.execute_reply": "2021-05-13T02:20:29.948392Z"
    },
    "papermill": {
     "duration": 0.020781,
     "end_time": "2021-05-13T02:20:29.948524",
     "exception": false,
     "start_time": "2021-05-13T02:20:29.927743",
     "status": "completed"
    },
    "tags": []
   },
   "outputs": [
    {
     "data": {
      "text/markdown": [
       "- Vitalik Buterin Donates $1B Worth of Shiba Inu Tokens to India’s Crypto Covid Relief Fund.  On Wednesday, Ethereum&#8217;s Vitalik Buterin took control of his stack of Shiba Inu, a dogecoin ERC20 token, and donated more than 1 billion dollars worth of the currency to India&#8217;s Crypto Covid Relief Fund. The fund is an initiative that seeks to help people suffering from the covid-19 outbreak that India is experiencing right now. [&#8230;] ... [| Skaityti daugiau](https://news.bitcoin.com/vitalik-buterin-donates-1b-worth-of-shiba-inu-tokens-to-indias-crypto-covid-relief-fund/) "
      ],
      "text/plain": [
       "<IPython.core.display.Markdown object>"
      ]
     },
     "execution_count": 7,
     "metadata": {},
     "output_type": "execute_result"
    }
   ],
   "source": [
    "#hide_input\n",
    "#md('##### {}'.format(titleBTC)) \n",
    "md(\"- {}{} {}{} [| Skaityti daugiau]({}) \".format(eth['title'],'. ', eth['body'], ' ...', eth['url']))"
   ]
  },
  {
   "cell_type": "code",
   "execution_count": 8,
   "id": "sublime-lounge",
   "metadata": {
    "execution": {
     "iopub.execute_input": "2021-05-13T02:20:29.978800Z",
     "iopub.status.busy": "2021-05-13T02:20:29.976687Z",
     "iopub.status.idle": "2021-05-13T02:20:29.983552Z",
     "shell.execute_reply": "2021-05-13T02:20:29.982965Z"
    },
    "papermill": {
     "duration": 0.022922,
     "end_time": "2021-05-13T02:20:29.983668",
     "exception": false,
     "start_time": "2021-05-13T02:20:29.960746",
     "status": "completed"
    },
    "tags": []
   },
   "outputs": [
    {
     "data": {
      "text/markdown": [
       "- XRP, Dogecoin, Cardano Price Analysis: 12 May.  With Bitcoin, the world&#8217;s largest cryptocurrency, still holding a position below $60k and ETH surging past the $4,300-mark at press time, the rest of the market&#8217;s altcoins had two directions to choose from for their own price actions. While the likes of XRP and Dogecoin seemed to be losing steam, others like Cardano noted some [&#8230;] ... [| Skaityti daugiau](https://ambcrypto.com/xrp-dogecoin-cardano-price-analysis-12-may/) "
      ],
      "text/plain": [
       "<IPython.core.display.Markdown object>"
      ]
     },
     "execution_count": 8,
     "metadata": {},
     "output_type": "execute_result"
    }
   ],
   "source": [
    "#hide_input\n",
    "#md('##### {}'.format(titleBTC)) \n",
    "md(\"- {}{} {}{} [| Skaityti daugiau]({}) \".format(ada['title'],'. ', ada['body'], ' ...', ada['url']))"
   ]
  },
  {
   "cell_type": "code",
   "execution_count": 9,
   "id": "specified-ordering",
   "metadata": {
    "execution": {
     "iopub.execute_input": "2021-05-13T02:20:30.014981Z",
     "iopub.status.busy": "2021-05-13T02:20:30.014344Z",
     "iopub.status.idle": "2021-05-13T02:20:30.017134Z",
     "shell.execute_reply": "2021-05-13T02:20:30.017603Z"
    },
    "papermill": {
     "duration": 0.021559,
     "end_time": "2021-05-13T02:20:30.017737",
     "exception": false,
     "start_time": "2021-05-13T02:20:29.996178",
     "status": "completed"
    },
    "tags": []
   },
   "outputs": [
    {
     "data": {
      "text/markdown": [
       "- Former Ripple Partner MoneyGram to Allow Bitcoin Buying at Retail Locations.  MoneyGram has revealed it will let its customers buy and sell bitcoin at its 12,000 retail locations throughout the U.S. thanks to a new partnership with cryptocurrency exchange and ATM operator Coinme. According to CNBC, new and existing Coinme users will soon be able to buy crypto with cash and withdraw it at MoneyGram’s brick-and-mortar […] ... [| Skaityti daugiau](https://www.cryptoglobe.com/latest/2021/05/former-ripple-partner-moneygram-to-allow-bitcoin-buying-at-retail-locations/) "
      ],
      "text/plain": [
       "<IPython.core.display.Markdown object>"
      ]
     },
     "execution_count": 9,
     "metadata": {},
     "output_type": "execute_result"
    }
   ],
   "source": [
    "#hide_input\n",
    "#md('##### {}'.format(titleBTC)) \n",
    "md(\"- {}{} {}{} [| Skaityti daugiau]({}) \".format(exchange['title'],'. ', exchange['body'], ' ...', exchange['url']))"
   ]
  },
  {
   "cell_type": "code",
   "execution_count": null,
   "id": "tender-livestock",
   "metadata": {
    "papermill": {
     "duration": 0.012995,
     "end_time": "2021-05-13T02:20:30.043933",
     "exception": false,
     "start_time": "2021-05-13T02:20:30.030938",
     "status": "completed"
    },
    "tags": []
   },
   "outputs": [],
   "source": []
  },
  {
   "cell_type": "code",
   "execution_count": null,
   "id": "appreciated-diamond",
   "metadata": {
    "papermill": {
     "duration": 0.01289,
     "end_time": "2021-05-13T02:20:30.069840",
     "exception": false,
     "start_time": "2021-05-13T02:20:30.056950",
     "status": "completed"
    },
    "tags": []
   },
   "outputs": [],
   "source": []
  },
  {
   "cell_type": "code",
   "execution_count": null,
   "id": "romance-sweden",
   "metadata": {
    "papermill": {
     "duration": 0.012867,
     "end_time": "2021-05-13T02:20:30.095700",
     "exception": false,
     "start_time": "2021-05-13T02:20:30.082833",
     "status": "completed"
    },
    "tags": []
   },
   "outputs": [],
   "source": []
  },
  {
   "cell_type": "code",
   "execution_count": null,
   "id": "dietary-statistics",
   "metadata": {
    "papermill": {
     "duration": 0.012867,
     "end_time": "2021-05-13T02:20:30.121560",
     "exception": false,
     "start_time": "2021-05-13T02:20:30.108693",
     "status": "completed"
    },
    "tags": []
   },
   "outputs": [],
   "source": []
  }
 ],
 "metadata": {
  "kernelspec": {
   "display_name": "Python 3",
   "language": "python",
   "name": "python3"
  },
  "language_info": {
   "codemirror_mode": {
    "name": "ipython",
    "version": 3
   },
   "file_extension": ".py",
   "mimetype": "text/x-python",
   "name": "python",
   "nbconvert_exporter": "python",
   "pygments_lexer": "ipython3",
   "version": "3.6.13"
  },
  "papermill": {
   "default_parameters": {},
   "duration": 11.760307,
   "end_time": "2021-05-13T02:20:30.643692",
   "environment_variables": {},
   "exception": null,
   "input_path": "Market-News.ipynb",
   "output_path": "Market-News.ipynb",
   "parameters": {},
   "start_time": "2021-05-13T02:20:18.883385",
   "version": "2.2.2"
  }
 },
 "nbformat": 4,
 "nbformat_minor": 5
}