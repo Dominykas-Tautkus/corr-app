{
 "cells": [
  {
   "cell_type": "markdown",
   "metadata": {
    "papermill": {
     "duration": 0.016674,
     "end_time": "2021-01-07T10:44:30.589629",
     "exception": false,
     "start_time": "2021-01-07T10:44:30.572955",
     "status": "completed"
    },
    "tags": []
   },
   "source": [
    "# Kriptovaliutų naujienos"
   ]
  },
  {
   "cell_type": "code",
   "execution_count": 1,
   "metadata": {
    "execution": {
     "iopub.execute_input": "2021-01-07T10:44:30.623369Z",
     "iopub.status.busy": "2021-01-07T10:44:30.622137Z",
     "iopub.status.idle": "2021-01-07T10:44:31.999209Z",
     "shell.execute_reply": "2021-01-07T10:44:31.998288Z"
    },
    "papermill": {
     "duration": 1.399902,
     "end_time": "2021-01-07T10:44:31.999454",
     "exception": false,
     "start_time": "2021-01-07T10:44:30.599552",
     "status": "completed"
    },
    "tags": []
   },
   "outputs": [],
   "source": [
    "#hide_input\n",
    "import warnings\n",
    "warnings.filterwarnings('ignore')\n",
    "from scripts.read_data import read_api\n",
    "from scripts.read_data import read_news\n",
    "from scripts.read_data import read_covid\n",
    "import matplotlib.pyplot as plt \n",
    "from IPython.display import Markdown as md"
   ]
  },
  {
   "cell_type": "code",
   "execution_count": 2,
   "metadata": {
    "execution": {
     "iopub.execute_input": "2021-01-07T10:44:32.024825Z",
     "iopub.status.busy": "2021-01-07T10:44:32.023842Z",
     "iopub.status.idle": "2021-01-07T10:44:40.733559Z",
     "shell.execute_reply": "2021-01-07T10:44:40.732979Z"
    },
    "papermill": {
     "duration": 8.724792,
     "end_time": "2021-01-07T10:44:40.733715",
     "exception": false,
     "start_time": "2021-01-07T10:44:32.008923",
     "status": "completed"
    },
    "tags": []
   },
   "outputs": [],
   "source": [
    "#hide_input\n",
    "blockchain = read_news('blockchain') \n",
    "btc = read_news('btc') \n",
    "xrp = read_news('xrp') \n",
    "trx = read_news('trx') \n",
    "eth = read_news('eth')  \n",
    "ada = read_news('ada')\n",
    "exchange = read_news('exchange') "
   ]
  },
  {
   "cell_type": "code",
   "execution_count": 3,
   "metadata": {
    "execution": {
     "iopub.execute_input": "2021-01-07T10:44:40.756101Z",
     "iopub.status.busy": "2021-01-07T10:44:40.755516Z",
     "iopub.status.idle": "2021-01-07T10:44:40.760704Z",
     "shell.execute_reply": "2021-01-07T10:44:40.760201Z"
    },
    "papermill": {
     "duration": 0.018153,
     "end_time": "2021-01-07T10:44:40.760827",
     "exception": false,
     "start_time": "2021-01-07T10:44:40.742674",
     "status": "completed"
    },
    "tags": []
   },
   "outputs": [
    {
     "data": {
      "text/markdown": [
       "- Coronavirus Vaccines Certified With VeChain’s Blockchain Tech in Cyprus.  The medical certification app was developed by VeChain and I-Dante last May. ... [| Skaityti daugiau](https://www.coindesk.com/coronavirus-vaccines-certified-with-vechains-blockchain-tech-in-cyprus) "
      ],
      "text/plain": [
       "<IPython.core.display.Markdown object>"
      ]
     },
     "execution_count": 3,
     "metadata": {},
     "output_type": "execute_result"
    }
   ],
   "source": [
    "#hide_input\n",
    "#md('##### {}'.format(titleBTC)) \n",
    "md(\"- {}{} {}{} [| Skaityti daugiau]({}) \".format(blockchain['title'],'. ', blockchain['body'], ' ...', blockchain['url']))"
   ]
  },
  {
   "cell_type": "code",
   "execution_count": 4,
   "metadata": {
    "execution": {
     "iopub.execute_input": "2021-01-07T10:44:40.784604Z",
     "iopub.status.busy": "2021-01-07T10:44:40.783463Z",
     "iopub.status.idle": "2021-01-07T10:44:40.786845Z",
     "shell.execute_reply": "2021-01-07T10:44:40.787360Z"
    },
    "papermill": {
     "duration": 0.018291,
     "end_time": "2021-01-07T10:44:40.787519",
     "exception": false,
     "start_time": "2021-01-07T10:44:40.769228",
     "status": "completed"
    },
    "tags": []
   },
   "outputs": [
    {
     "data": {
      "text/markdown": [
       "- IRS Updates Tax Requirements for Cryptocurrency Owners.  The U.S. Internal Revenue Service (IRS) has updated its instructions for disclosing crypto activities. The update provides clarification on who must answer &#8220;yes&#8221; to the IRS&#8217; crypto question and when it is appropriate to select &#8220;no&#8221; as the answer. IRS Publishes New Crypto Tax Filing Instructions The IRS published updated instructions for Form 1040 on [&#8230;]The post IRS Updates Tax Requirements for Cryptocurrency Owners appeared first on Bitcoin News. ... [| Skaityti daugiau](https://news.bitcoin.com/irs-updates-tax-requirements-cryptocurrency-owners/) "
      ],
      "text/plain": [
       "<IPython.core.display.Markdown object>"
      ]
     },
     "execution_count": 4,
     "metadata": {},
     "output_type": "execute_result"
    }
   ],
   "source": [
    "#hide_input\n",
    "#md('##### {}'.format(titleBTC)) \n",
    "md(\"- {}{} {}{} [| Skaityti daugiau]({}) \".format(btc['title'],'. ', btc['body'], ' ...', btc['url']))"
   ]
  },
  {
   "cell_type": "code",
   "execution_count": 5,
   "metadata": {
    "execution": {
     "iopub.execute_input": "2021-01-07T10:44:40.813395Z",
     "iopub.status.busy": "2021-01-07T10:44:40.812811Z",
     "iopub.status.idle": "2021-01-07T10:44:40.816822Z",
     "shell.execute_reply": "2021-01-07T10:44:40.817716Z"
    },
    "papermill": {
     "duration": 0.020931,
     "end_time": "2021-01-07T10:44:40.817875",
     "exception": false,
     "start_time": "2021-01-07T10:44:40.796944",
     "status": "completed"
    },
    "tags": []
   },
   "outputs": [
    {
     "data": {
      "text/markdown": [
       "- Stellar (XLM) Leapfrogs into the top 10 on CMC, Edging out Chainlink.  Quick take: Stellar (XLM) is now ranked 9th on Coinmarketcap with Chainlink in the 10th position Stellar (XLM) initially fell to $0.11 after news broke of the SEC suing Ripple The digital asset has since set a two-year high of $0.418 due to news of Ukraine using the Stellar network to issue its own digital currency Altcoins have been in the green this week with Stellar (XLM) leading the pack into what has resulted in the digital asset making an [&#8230;] ... [| Skaityti daugiau](https://en.ethereumworldnews.com/stellar-xlm-leapfrogs-into-the-top-10-on-cmc-edging-out-chainlink/) "
      ],
      "text/plain": [
       "<IPython.core.display.Markdown object>"
      ]
     },
     "execution_count": 5,
     "metadata": {},
     "output_type": "execute_result"
    }
   ],
   "source": [
    "#hide_input\n",
    "#md('##### {}'.format(titleBTC)) \n",
    "md(\"- {}{} {}{} [| Skaityti daugiau]({}) \".format(xrp['title'],'. ', xrp['body'], ' ...', xrp['url']))"
   ]
  },
  {
   "cell_type": "code",
   "execution_count": 6,
   "metadata": {
    "execution": {
     "iopub.execute_input": "2021-01-07T10:44:40.845098Z",
     "iopub.status.busy": "2021-01-07T10:44:40.844027Z",
     "iopub.status.idle": "2021-01-07T10:44:40.846631Z",
     "shell.execute_reply": "2021-01-07T10:44:40.847189Z"
    },
    "papermill": {
     "duration": 0.019772,
     "end_time": "2021-01-07T10:44:40.847333",
     "exception": false,
     "start_time": "2021-01-07T10:44:40.827561",
     "status": "completed"
    },
    "tags": []
   },
   "outputs": [
    {
     "data": {
      "text/markdown": [
       "- Bitcoin and Altcoins Bulls Keep Pushing, XLM Surges 100%.  After trading to a new all-time high of over USD 36,000, bitcoin price started a downside correction. It declined over USD 1,500, but the bulls remain in action. The price is currently (13:00 UTC) trading above USD 34,000 and it could attempt another surge towards USD 36,000.Most major altcoins are gaining bullish momentum, including ethereum, EOS, XLM, LINK, BNB, OMG, NEO, TRX, bitcoin cash, ... [| Skaityti daugiau](https://cryptonews.com/news/bitcoin-and-altcoins-bulls-keep-pushing-xlm-surges-100-8822.htm) "
      ],
      "text/plain": [
       "<IPython.core.display.Markdown object>"
      ]
     },
     "execution_count": 6,
     "metadata": {},
     "output_type": "execute_result"
    }
   ],
   "source": [
    "#hide_input\n",
    "#md('##### {}'.format(titleBTC)) \n",
    "md(\"- {}{} {}{} [| Skaityti daugiau]({}) \".format(trx['title'],'. ', trx['body'], ' ...', trx['url']))"
   ]
  },
  {
   "cell_type": "code",
   "execution_count": 7,
   "metadata": {
    "execution": {
     "iopub.execute_input": "2021-01-07T10:44:40.872303Z",
     "iopub.status.busy": "2021-01-07T10:44:40.871556Z",
     "iopub.status.idle": "2021-01-07T10:44:40.875085Z",
     "shell.execute_reply": "2021-01-07T10:44:40.875542Z"
    },
    "papermill": {
     "duration": 0.018018,
     "end_time": "2021-01-07T10:44:40.875695",
     "exception": false,
     "start_time": "2021-01-07T10:44:40.857677",
     "status": "completed"
    },
    "tags": []
   },
   "outputs": [
    {
     "data": {
      "text/markdown": [
       "- 3 Ethereum Alternatives That Banks Should Be Monitoring.  The wave of decentralized finance applications that launched in 2020 owed a great debt to the smart contract platform Ethereum, where traders busily pushed DeFi volumes into the billions. Ethereum-based decentralized applications (dApps) were the biggest success story of the year, at least if you discount Bitcoin’s stratospheric push towards $30k. Open finance protocols such as those related to lending, staking, and saving reiterated the raison d&#8217;être for cryptocurrencies, providing users with a trustless means [&#8230;] ... [| Skaityti daugiau](https://bitcoinist.com/3-ethereum-alternatives-that-banks-should-be-monitoring/?utm_source=rss&utm_medium=rss&utm_campaign=3-ethereum-alternatives-that-banks-should-be-monitoring) "
      ],
      "text/plain": [
       "<IPython.core.display.Markdown object>"
      ]
     },
     "execution_count": 7,
     "metadata": {},
     "output_type": "execute_result"
    }
   ],
   "source": [
    "#hide_input\n",
    "#md('##### {}'.format(titleBTC)) \n",
    "md(\"- {}{} {}{} [| Skaityti daugiau]({}) \".format(eth['title'],'. ', eth['body'], ' ...', eth['url']))"
   ]
  },
  {
   "cell_type": "code",
   "execution_count": 8,
   "metadata": {
    "execution": {
     "iopub.execute_input": "2021-01-07T10:44:40.901795Z",
     "iopub.status.busy": "2021-01-07T10:44:40.901185Z",
     "iopub.status.idle": "2021-01-07T10:44:40.904948Z",
     "shell.execute_reply": "2021-01-07T10:44:40.904477Z"
    },
    "papermill": {
     "duration": 0.019269,
     "end_time": "2021-01-07T10:44:40.905073",
     "exception": false,
     "start_time": "2021-01-07T10:44:40.885804",
     "status": "completed"
    },
    "tags": []
   },
   "outputs": [
    {
     "data": {
      "text/markdown": [
       "- Cardano’s market cap flips Bitcoin Cash (BCH) after ADA rallies by 100%.  In the past week, Cardano price surged by more than 100% and overtook Bitcoin Cash to become the sixth-largest cryptocurrency. ... [| Skaityti daugiau](https://cointelegraph.com/news/cardano-s-market-cap-flips-bitcoin-cash-bch-after-ada-rallies-by-100) "
      ],
      "text/plain": [
       "<IPython.core.display.Markdown object>"
      ]
     },
     "execution_count": 8,
     "metadata": {},
     "output_type": "execute_result"
    }
   ],
   "source": [
    "#hide_input\n",
    "#md('##### {}'.format(titleBTC)) \n",
    "md(\"- {}{} {}{} [| Skaityti daugiau]({}) \".format(ada['title'],'. ', ada['body'], ' ...', ada['url']))"
   ]
  },
  {
   "cell_type": "code",
   "execution_count": 9,
   "metadata": {
    "execution": {
     "iopub.execute_input": "2021-01-07T10:44:40.932334Z",
     "iopub.status.busy": "2021-01-07T10:44:40.931729Z",
     "iopub.status.idle": "2021-01-07T10:44:40.934140Z",
     "shell.execute_reply": "2021-01-07T10:44:40.934663Z"
    },
    "papermill": {
     "duration": 0.018753,
     "end_time": "2021-01-07T10:44:40.934810",
     "exception": false,
     "start_time": "2021-01-07T10:44:40.916057",
     "status": "completed"
    },
    "tags": []
   },
   "outputs": [
    {
     "data": {
      "text/markdown": [
       "- Bitstamp, Korbit Owner Set to Take Control of Bithumb Crypto Exchange.  The owner of Nexon, the South Korean gaming giant and the owner of the Bitstamp and Korbit crypto exchanges has reportedly agreed a deal worth USD 458 million to buy a controlling stake in Bithumb, the nation’s market-leading trading platform.Bithumb has been looking for a sale for several months after a failed takeover and accusations of fraud against two key executives. ... [| Skaityti daugiau](https://cryptonews.com/news/bitstamp-korbit-owner-set-to-take-control-of-bithumb-crypto-8831.htm) "
      ],
      "text/plain": [
       "<IPython.core.display.Markdown object>"
      ]
     },
     "execution_count": 9,
     "metadata": {},
     "output_type": "execute_result"
    }
   ],
   "source": [
    "#hide_input\n",
    "#md('##### {}'.format(titleBTC)) \n",
    "md(\"- {}{} {}{} [| Skaityti daugiau]({}) \".format(exchange['title'],'. ', exchange['body'], ' ...', exchange['url']))"
   ]
  },
  {
   "cell_type": "code",
   "execution_count": null,
   "metadata": {
    "papermill": {
     "duration": 0.01038,
     "end_time": "2021-01-07T10:44:40.955663",
     "exception": false,
     "start_time": "2021-01-07T10:44:40.945283",
     "status": "completed"
    },
    "tags": []
   },
   "outputs": [],
   "source": []
  },
  {
   "cell_type": "code",
   "execution_count": null,
   "metadata": {
    "papermill": {
     "duration": 0.010643,
     "end_time": "2021-01-07T10:44:40.976927",
     "exception": false,
     "start_time": "2021-01-07T10:44:40.966284",
     "status": "completed"
    },
    "tags": []
   },
   "outputs": [],
   "source": []
  }
 ],
 "metadata": {
  "kernelspec": {
   "display_name": "Python 3",
   "language": "python",
   "name": "python3"
  },
  "language_info": {
   "codemirror_mode": {
    "name": "ipython",
    "version": 3
   },
   "file_extension": ".py",
   "mimetype": "text/x-python",
   "name": "python",
   "nbconvert_exporter": "python",
   "pygments_lexer": "ipython3",
   "version": "3.6.12"
  },
  "papermill": {
   "default_parameters": {},
   "duration": 12.024762,
   "end_time": "2021-01-07T10:44:41.502177",
   "environment_variables": {},
   "exception": null,
   "input_path": "Market-News.ipynb",
   "output_path": "Market-News.ipynb",
   "parameters": {},
   "start_time": "2021-01-07T10:44:29.477415",
   "version": "2.2.2"
  }
 },
 "nbformat": 4,
 "nbformat_minor": 4
}