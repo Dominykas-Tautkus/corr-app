{
 "cells": [
  {
   "cell_type": "markdown",
   "id": "short-greensboro",
   "metadata": {
    "papermill": {
     "duration": 0.013481,
     "end_time": "2021-03-16T01:47:45.967049",
     "exception": false,
     "start_time": "2021-03-16T01:47:45.953568",
     "status": "completed"
    },
    "tags": []
   },
   "source": [
    "# Kriptovaliutų naujienos"
   ]
  },
  {
   "cell_type": "code",
   "execution_count": 1,
   "id": "functioning-knowing",
   "metadata": {
    "execution": {
     "iopub.execute_input": "2021-03-16T01:47:46.001790Z",
     "iopub.status.busy": "2021-03-16T01:47:46.001262Z",
     "iopub.status.idle": "2021-03-16T01:47:47.206543Z",
     "shell.execute_reply": "2021-03-16T01:47:47.205911Z"
    },
    "papermill": {
     "duration": 1.229627,
     "end_time": "2021-03-16T01:47:47.206720",
     "exception": false,
     "start_time": "2021-03-16T01:47:45.977093",
     "status": "completed"
    },
    "tags": []
   },
   "outputs": [],
   "source": [
    "#hide_input\n",
    "import warnings\n",
    "warnings.filterwarnings('ignore')\n",
    "from scripts.read_data import read_api\n",
    "from scripts.read_data import read_news\n",
    "from scripts.read_data import read_covid\n",
    "import matplotlib.pyplot as plt \n",
    "from IPython.display import Markdown as md"
   ]
  },
  {
   "cell_type": "code",
   "execution_count": 2,
   "id": "shared-acceptance",
   "metadata": {
    "execution": {
     "iopub.execute_input": "2021-03-16T01:47:47.235316Z",
     "iopub.status.busy": "2021-03-16T01:47:47.234298Z",
     "iopub.status.idle": "2021-03-16T01:47:55.695877Z",
     "shell.execute_reply": "2021-03-16T01:47:55.695125Z"
    },
    "papermill": {
     "duration": 8.477481,
     "end_time": "2021-03-16T01:47:55.696060",
     "exception": false,
     "start_time": "2021-03-16T01:47:47.218579",
     "status": "completed"
    },
    "tags": []
   },
   "outputs": [],
   "source": [
    "#hide_input\n",
    "blockchain = read_news('blockchain') \n",
    "btc = read_news('btc') \n",
    "xrp = read_news('xrp') \n",
    "trx = read_news('trx') \n",
    "eth = read_news('eth')  \n",
    "ada = read_news('ada')\n",
    "exchange = read_news('exchange') "
   ]
  },
  {
   "cell_type": "code",
   "execution_count": 3,
   "id": "synthetic-notion",
   "metadata": {
    "execution": {
     "iopub.execute_input": "2021-03-16T01:47:55.725674Z",
     "iopub.status.busy": "2021-03-16T01:47:55.725106Z",
     "iopub.status.idle": "2021-03-16T01:47:55.727868Z",
     "shell.execute_reply": "2021-03-16T01:47:55.728338Z"
    },
    "papermill": {
     "duration": 0.019591,
     "end_time": "2021-03-16T01:47:55.728474",
     "exception": false,
     "start_time": "2021-03-16T01:47:55.708883",
     "status": "completed"
    },
    "tags": []
   },
   "outputs": [
    {
     "data": {
      "text/markdown": [
       "- Hackers steal 3000 ETH from Roll, causing massive price dumps of nearly -100%.  This Monday, hackers have stolen at least 3000 ETH ($5.7 million) after breaching the security of Roll, a blockchain ecosystem for the issuance of social tokens and NFTs (non-fungible tokens). The post Hackers steal 3000 ETH from Roll, causing massive price dumps of nearly -100% appeared first on CryptoSlate. ... [| Skaityti daugiau](https://cryptoslate.com/hackers-steal-3000-eth-from-roll-causing-massive-price-dumps-of-nearly-100/) "
      ],
      "text/plain": [
       "<IPython.core.display.Markdown object>"
      ]
     },
     "execution_count": 3,
     "metadata": {},
     "output_type": "execute_result"
    }
   ],
   "source": [
    "#hide_input\n",
    "#md('##### {}'.format(titleBTC)) \n",
    "md(\"- {}{} {}{} [| Skaityti daugiau]({}) \".format(blockchain['title'],'. ', blockchain['body'], ' ...', blockchain['url']))"
   ]
  },
  {
   "cell_type": "code",
   "execution_count": 4,
   "id": "aging-caution",
   "metadata": {
    "execution": {
     "iopub.execute_input": "2021-03-16T01:47:55.755456Z",
     "iopub.status.busy": "2021-03-16T01:47:55.754395Z",
     "iopub.status.idle": "2021-03-16T01:47:55.758487Z",
     "shell.execute_reply": "2021-03-16T01:47:55.758004Z"
    },
    "papermill": {
     "duration": 0.019034,
     "end_time": "2021-03-16T01:47:55.758600",
     "exception": false,
     "start_time": "2021-03-16T01:47:55.739566",
     "status": "completed"
    },
    "tags": []
   },
   "outputs": [
    {
     "data": {
      "text/markdown": [
       "- Mizuho Bank Survey Says $24 Billion in US Stimulus Checks May Be Used to Buy Bitcoin.  On March 15, 2021, Mizuho Securities Co., a firm wholly-owned subsidiary of Mizuho Financial Group, revealed the findings of a new survey that says a great deal of stimulus money will find its way into stock markets and the cryptocurrency economy. Participants in Mizuho&#8217;s survey made less than $150k per year and estimates suspect 10% [&#8230;] ... [| Skaityti daugiau](https://news.bitcoin.com/mizuho-bank-survey-says-24-billion-in-us-stimulus-checks-may-be-used-to-buy-bitcoin/) "
      ],
      "text/plain": [
       "<IPython.core.display.Markdown object>"
      ]
     },
     "execution_count": 4,
     "metadata": {},
     "output_type": "execute_result"
    }
   ],
   "source": [
    "#hide_input\n",
    "#md('##### {}'.format(titleBTC)) \n",
    "md(\"- {}{} {}{} [| Skaityti daugiau]({}) \".format(btc['title'],'. ', btc['body'], ' ...', btc['url']))"
   ]
  },
  {
   "cell_type": "code",
   "execution_count": 5,
   "id": "organic-actress",
   "metadata": {
    "execution": {
     "iopub.execute_input": "2021-03-16T01:47:55.787487Z",
     "iopub.status.busy": "2021-03-16T01:47:55.786884Z",
     "iopub.status.idle": "2021-03-16T01:47:55.789097Z",
     "shell.execute_reply": "2021-03-16T01:47:55.789619Z"
    },
    "papermill": {
     "duration": 0.020356,
     "end_time": "2021-03-16T01:47:55.789746",
     "exception": false,
     "start_time": "2021-03-16T01:47:55.769390",
     "status": "completed"
    },
    "tags": []
   },
   "outputs": [
    {
     "data": {
      "text/markdown": [
       "- Price analysis 3/15: BTC, ETH, BNB, ADA, DOT, XRP, UNI, LTC, LINK, BCH.  Bitcoin’s rejection at its all-time high and a negative divergence on the RSI suggest that BTC's bullish momentum could be weakening and altcoins may see profit-booking as a result. ... [| Skaityti daugiau](https://cointelegraph.com/news/price-analysis-3-15-btc-eth-bnb-ada-dot-xrp-uni-ltc-link-bch) "
      ],
      "text/plain": [
       "<IPython.core.display.Markdown object>"
      ]
     },
     "execution_count": 5,
     "metadata": {},
     "output_type": "execute_result"
    }
   ],
   "source": [
    "#hide_input\n",
    "#md('##### {}'.format(titleBTC)) \n",
    "md(\"- {}{} {}{} [| Skaityti daugiau]({}) \".format(xrp['title'],'. ', xrp['body'], ' ...', xrp['url']))"
   ]
  },
  {
   "cell_type": "code",
   "execution_count": 6,
   "id": "prompt-farmer",
   "metadata": {
    "execution": {
     "iopub.execute_input": "2021-03-16T01:47:55.817035Z",
     "iopub.status.busy": "2021-03-16T01:47:55.816515Z",
     "iopub.status.idle": "2021-03-16T01:47:55.819520Z",
     "shell.execute_reply": "2021-03-16T01:47:55.819103Z"
    },
    "papermill": {
     "duration": 0.019025,
     "end_time": "2021-03-16T01:47:55.819642",
     "exception": false,
     "start_time": "2021-03-16T01:47:55.800617",
     "status": "completed"
    },
    "tags": []
   },
   "outputs": [
    {
     "data": {
      "text/markdown": [
       "- Tron Price Analysis: 14 March.  Tron has had a strong performance in the markets over the past 6 weeks. At the time of writing, the price appeared to be consolidating in the $0.048 to $0.053 area. The upward trend of TRX remains intact at the time of writing, and some levels of note are highlighted as buying opportunities. Tron 12-hour [&#8230;] ... [| Skaityti daugiau](https://ambcrypto.com/tron-price-analysis-14-march/) "
      ],
      "text/plain": [
       "<IPython.core.display.Markdown object>"
      ]
     },
     "execution_count": 6,
     "metadata": {},
     "output_type": "execute_result"
    }
   ],
   "source": [
    "#hide_input\n",
    "#md('##### {}'.format(titleBTC)) \n",
    "md(\"- {}{} {}{} [| Skaityti daugiau]({}) \".format(trx['title'],'. ', trx['body'], ' ...', trx['url']))"
   ]
  },
  {
   "cell_type": "code",
   "execution_count": 7,
   "id": "illegal-greece",
   "metadata": {
    "execution": {
     "iopub.execute_input": "2021-03-16T01:47:55.845056Z",
     "iopub.status.busy": "2021-03-16T01:47:55.844531Z",
     "iopub.status.idle": "2021-03-16T01:47:55.849487Z",
     "shell.execute_reply": "2021-03-16T01:47:55.849005Z"
    },
    "papermill": {
     "duration": 0.019052,
     "end_time": "2021-03-16T01:47:55.849597",
     "exception": false,
     "start_time": "2021-03-16T01:47:55.830545",
     "status": "completed"
    },
    "tags": []
   },
   "outputs": [
    {
     "data": {
      "text/markdown": [
       "- Gas tokens gain 300% as the quest for Ethereum network alternatives expands.  Gas tokens quietly move higher as the cost of transacting on the Ethereum network highlights the benefits of dual-token models with stable fees. ... [| Skaityti daugiau](https://cointelegraph.com/news/gas-tokens-gain-300-as-the-quest-for-ethereum-network-alternatives-expands) "
      ],
      "text/plain": [
       "<IPython.core.display.Markdown object>"
      ]
     },
     "execution_count": 7,
     "metadata": {},
     "output_type": "execute_result"
    }
   ],
   "source": [
    "#hide_input\n",
    "#md('##### {}'.format(titleBTC)) \n",
    "md(\"- {}{} {}{} [| Skaityti daugiau]({}) \".format(eth['title'],'. ', eth['body'], ' ...', eth['url']))"
   ]
  },
  {
   "cell_type": "code",
   "execution_count": 8,
   "id": "sublime-lounge",
   "metadata": {
    "execution": {
     "iopub.execute_input": "2021-03-16T01:47:55.876116Z",
     "iopub.status.busy": "2021-03-16T01:47:55.875648Z",
     "iopub.status.idle": "2021-03-16T01:47:55.878616Z",
     "shell.execute_reply": "2021-03-16T01:47:55.878174Z"
    },
    "papermill": {
     "duration": 0.018062,
     "end_time": "2021-03-16T01:47:55.878715",
     "exception": false,
     "start_time": "2021-03-16T01:47:55.860653",
     "status": "completed"
    },
    "tags": []
   },
   "outputs": [
    {
     "data": {
      "text/markdown": [
       "- Price analysis 3/15: BTC, ETH, BNB, ADA, DOT, XRP, UNI, LTC, LINK, BCH.  Bitcoin’s rejection at its all-time high and a negative divergence on the RSI suggest that BTC's bullish momentum could be weakening and altcoins may see profit-booking as a result. ... [| Skaityti daugiau](https://cointelegraph.com/news/price-analysis-3-15-btc-eth-bnb-ada-dot-xrp-uni-ltc-link-bch) "
      ],
      "text/plain": [
       "<IPython.core.display.Markdown object>"
      ]
     },
     "execution_count": 8,
     "metadata": {},
     "output_type": "execute_result"
    }
   ],
   "source": [
    "#hide_input\n",
    "#md('##### {}'.format(titleBTC)) \n",
    "md(\"- {}{} {}{} [| Skaityti daugiau]({}) \".format(ada['title'],'. ', ada['body'], ' ...', ada['url']))"
   ]
  },
  {
   "cell_type": "code",
   "execution_count": 9,
   "id": "specified-ordering",
   "metadata": {
    "execution": {
     "iopub.execute_input": "2021-03-16T01:47:55.907960Z",
     "iopub.status.busy": "2021-03-16T01:47:55.907376Z",
     "iopub.status.idle": "2021-03-16T01:47:55.909603Z",
     "shell.execute_reply": "2021-03-16T01:47:55.910085Z"
    },
    "papermill": {
     "duration": 0.019442,
     "end_time": "2021-03-16T01:47:55.910214",
     "exception": false,
     "start_time": "2021-03-16T01:47:55.890772",
     "status": "completed"
    },
    "tags": []
   },
   "outputs": [
    {
     "data": {
      "text/markdown": [
       "- Elon Musk Becomes ‘Technoking of Tesla’ While ‘Master of Coin’ Title Goes to CFO Zach Kirkhorn.  Tesla has informed the U.S. Securities and Exchange Commission (SEC) that Elon Musk has officially changed his title to &#8220;Technoking of Tesla&#8221; and CFO Zach Kirkhorn has changed his title to &#8220;Master of Coin.&#8221; Musk is not stepping down as the CEO of Tesla, as the filing confirms that he will maintain his current position. [&#8230;] ... [| Skaityti daugiau](https://news.bitcoin.com/elon-musk-technoking-of-tesla-master-of-coin-cfo-zach-kirkhorn/) "
      ],
      "text/plain": [
       "<IPython.core.display.Markdown object>"
      ]
     },
     "execution_count": 9,
     "metadata": {},
     "output_type": "execute_result"
    }
   ],
   "source": [
    "#hide_input\n",
    "#md('##### {}'.format(titleBTC)) \n",
    "md(\"- {}{} {}{} [| Skaityti daugiau]({}) \".format(exchange['title'],'. ', exchange['body'], ' ...', exchange['url']))"
   ]
  },
  {
   "cell_type": "code",
   "execution_count": null,
   "id": "tender-livestock",
   "metadata": {
    "papermill": {
     "duration": 0.011501,
     "end_time": "2021-03-16T01:47:55.934144",
     "exception": false,
     "start_time": "2021-03-16T01:47:55.922643",
     "status": "completed"
    },
    "tags": []
   },
   "outputs": [],
   "source": []
  },
  {
   "cell_type": "code",
   "execution_count": null,
   "id": "appreciated-diamond",
   "metadata": {
    "papermill": {
     "duration": 0.012084,
     "end_time": "2021-03-16T01:47:55.958143",
     "exception": false,
     "start_time": "2021-03-16T01:47:55.946059",
     "status": "completed"
    },
    "tags": []
   },
   "outputs": [],
   "source": []
  },
  {
   "cell_type": "code",
   "execution_count": null,
   "id": "romance-sweden",
   "metadata": {
    "papermill": {
     "duration": 0.012436,
     "end_time": "2021-03-16T01:47:55.982306",
     "exception": false,
     "start_time": "2021-03-16T01:47:55.969870",
     "status": "completed"
    },
    "tags": []
   },
   "outputs": [],
   "source": []
  },
  {
   "cell_type": "code",
   "execution_count": null,
   "id": "dietary-statistics",
   "metadata": {
    "papermill": {
     "duration": 0.011883,
     "end_time": "2021-03-16T01:47:56.006660",
     "exception": false,
     "start_time": "2021-03-16T01:47:55.994777",
     "status": "completed"
    },
    "tags": []
   },
   "outputs": [],
   "source": []
  }
 ],
 "metadata": {
  "kernelspec": {
   "display_name": "Python 3",
   "language": "python",
   "name": "python3"
  },
  "language_info": {
   "codemirror_mode": {
    "name": "ipython",
    "version": 3
   },
   "file_extension": ".py",
   "mimetype": "text/x-python",
   "name": "python",
   "nbconvert_exporter": "python",
   "pygments_lexer": "ipython3",
   "version": "3.6.13"
  },
  "papermill": {
   "default_parameters": {},
   "duration": 12.326544,
   "end_time": "2021-03-16T01:47:57.195571",
   "environment_variables": {},
   "exception": null,
   "input_path": "Market-News.ipynb",
   "output_path": "Market-News.ipynb",
   "parameters": {},
   "start_time": "2021-03-16T01:47:44.869027",
   "version": "2.2.2"
  }
 },
 "nbformat": 4,
 "nbformat_minor": 5
}