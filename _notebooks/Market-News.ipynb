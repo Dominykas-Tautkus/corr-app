{
 "cells": [
  {
   "cell_type": "markdown",
   "id": "short-greensboro",
   "metadata": {
    "papermill": {
     "duration": 0.017912,
     "end_time": "2021-01-28T01:58:27.266421",
     "exception": false,
     "start_time": "2021-01-28T01:58:27.248509",
     "status": "completed"
    },
    "tags": []
   },
   "source": [
    "# Kriptovaliutų naujienos"
   ]
  },
  {
   "cell_type": "code",
   "execution_count": 1,
   "id": "functioning-knowing",
   "metadata": {
    "execution": {
     "iopub.execute_input": "2021-01-28T01:58:27.296755Z",
     "iopub.status.busy": "2021-01-28T01:58:27.295812Z",
     "iopub.status.idle": "2021-01-28T01:58:28.510504Z",
     "shell.execute_reply": "2021-01-28T01:58:28.509968Z"
    },
    "papermill": {
     "duration": 1.234545,
     "end_time": "2021-01-28T01:58:28.510659",
     "exception": false,
     "start_time": "2021-01-28T01:58:27.276114",
     "status": "completed"
    },
    "tags": []
   },
   "outputs": [],
   "source": [
    "#hide_input\n",
    "import warnings\n",
    "warnings.filterwarnings('ignore')\n",
    "from scripts.read_data import read_api\n",
    "from scripts.read_data import read_news\n",
    "from scripts.read_data import read_covid\n",
    "import matplotlib.pyplot as plt \n",
    "from IPython.display import Markdown as md"
   ]
  },
  {
   "cell_type": "code",
   "execution_count": 2,
   "id": "shared-acceptance",
   "metadata": {
    "execution": {
     "iopub.execute_input": "2021-01-28T01:58:28.537392Z",
     "iopub.status.busy": "2021-01-28T01:58:28.536827Z",
     "iopub.status.idle": "2021-01-28T01:58:36.587473Z",
     "shell.execute_reply": "2021-01-28T01:58:36.587940Z"
    },
    "papermill": {
     "duration": 8.067127,
     "end_time": "2021-01-28T01:58:36.588100",
     "exception": false,
     "start_time": "2021-01-28T01:58:28.520973",
     "status": "completed"
    },
    "tags": []
   },
   "outputs": [],
   "source": [
    "#hide_input\n",
    "blockchain = read_news('blockchain') \n",
    "btc = read_news('btc') \n",
    "xrp = read_news('xrp') \n",
    "trx = read_news('trx') \n",
    "eth = read_news('eth')  \n",
    "ada = read_news('ada')\n",
    "exchange = read_news('exchange') "
   ]
  },
  {
   "cell_type": "code",
   "execution_count": 3,
   "id": "synthetic-notion",
   "metadata": {
    "execution": {
     "iopub.execute_input": "2021-01-28T01:58:36.614292Z",
     "iopub.status.busy": "2021-01-28T01:58:36.612502Z",
     "iopub.status.idle": "2021-01-28T01:58:36.617269Z",
     "shell.execute_reply": "2021-01-28T01:58:36.616811Z"
    },
    "papermill": {
     "duration": 0.018835,
     "end_time": "2021-01-28T01:58:36.617386",
     "exception": false,
     "start_time": "2021-01-28T01:58:36.598551",
     "status": "completed"
    },
    "tags": []
   },
   "outputs": [
    {
     "data": {
      "text/markdown": [
       "- Australia's eSafety Commissioner touts blockchain as a solution to trolls.  Australia’s eSafety Commissioner has suggested blockchain-based digital IDs as a potential solution to fight online abuse and trolling. ... [| Skaityti daugiau](https://cointelegraph.com/news/australia-s-esafety-commissioner-touts-blockchain-as-a-solution-to-trolls) "
      ],
      "text/plain": [
       "<IPython.core.display.Markdown object>"
      ]
     },
     "execution_count": 3,
     "metadata": {},
     "output_type": "execute_result"
    }
   ],
   "source": [
    "#hide_input\n",
    "#md('##### {}'.format(titleBTC)) \n",
    "md(\"- {}{} {}{} [| Skaityti daugiau]({}) \".format(blockchain['title'],'. ', blockchain['body'], ' ...', blockchain['url']))"
   ]
  },
  {
   "cell_type": "code",
   "execution_count": 4,
   "id": "aging-caution",
   "metadata": {
    "execution": {
     "iopub.execute_input": "2021-01-28T01:58:36.642200Z",
     "iopub.status.busy": "2021-01-28T01:58:36.641665Z",
     "iopub.status.idle": "2021-01-28T01:58:36.645478Z",
     "shell.execute_reply": "2021-01-28T01:58:36.644988Z"
    },
    "papermill": {
     "duration": 0.018563,
     "end_time": "2021-01-28T01:58:36.645598",
     "exception": false,
     "start_time": "2021-01-28T01:58:36.627035",
     "status": "completed"
    },
    "tags": []
   },
   "outputs": [
    {
     "data": {
      "text/markdown": [
       "- Stably CEO Kory Hoang explains how first-timers should buy Bitcoin (and where stablecoins are headed).  2020 was the year of decentralized finance. The post Stably CEO Kory Hoang explains how first-timers should buy Bitcoin (and where stablecoins are headed) appeared first on CryptoSlate. ... [| Skaityti daugiau](https://cryptoslate.com/videos/stably-ceo-kory-hoang-explains-how-first-timers-should-buy-bitcoin-and-where-stablecoins-are-headed/) "
      ],
      "text/plain": [
       "<IPython.core.display.Markdown object>"
      ]
     },
     "execution_count": 4,
     "metadata": {},
     "output_type": "execute_result"
    }
   ],
   "source": [
    "#hide_input\n",
    "#md('##### {}'.format(titleBTC)) \n",
    "md(\"- {}{} {}{} [| Skaityti daugiau]({}) \".format(btc['title'],'. ', btc['body'], ' ...', btc['url']))"
   ]
  },
  {
   "cell_type": "code",
   "execution_count": 5,
   "id": "organic-actress",
   "metadata": {
    "execution": {
     "iopub.execute_input": "2021-01-28T01:58:36.670763Z",
     "iopub.status.busy": "2021-01-28T01:58:36.670233Z",
     "iopub.status.idle": "2021-01-28T01:58:36.673041Z",
     "shell.execute_reply": "2021-01-28T01:58:36.672592Z"
    },
    "papermill": {
     "duration": 0.017356,
     "end_time": "2021-01-28T01:58:36.673150",
     "exception": false,
     "start_time": "2021-01-28T01:58:36.655794",
     "status": "completed"
    },
    "tags": []
   },
   "outputs": [
    {
     "data": {
      "text/markdown": [
       "- Ripple price prepares for a 62% move in the wake of another class-action case.  Ripple is set to fight another class-action lawsuit filed by a Florida resident for losing nearly half of investment in XRP. XRP is on verge of a breakout to $0.45 if the impact of a symmetrical triangle comes to fruition. A resident of Florida has opened a class action case against Ripple Labs Inc. for The post Ripple price prepares for a 62% move in the wake of another class-action case appeared first on Coingape. ... [| Skaityti daugiau](https://coingape.com/80523-2/) "
      ],
      "text/plain": [
       "<IPython.core.display.Markdown object>"
      ]
     },
     "execution_count": 5,
     "metadata": {},
     "output_type": "execute_result"
    }
   ],
   "source": [
    "#hide_input\n",
    "#md('##### {}'.format(titleBTC)) \n",
    "md(\"- {}{} {}{} [| Skaityti daugiau]({}) \".format(xrp['title'],'. ', xrp['body'], ' ...', xrp['url']))"
   ]
  },
  {
   "cell_type": "code",
   "execution_count": 6,
   "id": "prompt-farmer",
   "metadata": {
    "execution": {
     "iopub.execute_input": "2021-01-28T01:58:36.706069Z",
     "iopub.status.busy": "2021-01-28T01:58:36.704748Z",
     "iopub.status.idle": "2021-01-28T01:58:36.709194Z",
     "shell.execute_reply": "2021-01-28T01:58:36.708742Z"
    },
    "papermill": {
     "duration": 0.020192,
     "end_time": "2021-01-28T01:58:36.709304",
     "exception": false,
     "start_time": "2021-01-28T01:58:36.689112",
     "status": "completed"
    },
    "tags": []
   },
   "outputs": [
    {
     "data": {
      "text/markdown": [
       "- Tron (TRX) Price Analysis: Range Moves Below Key $0.033.  Tron price is still facing a strong resistance near the $0.0325 and $0.0330 levels against the US Dollar. TRX price is now trading well below $0.0300 and the 55 simple moving average (4-hours). There was a break below a connecting bullish trend line with support near $0.0302 on the 4-hours chart (data feed via Bitfinex)....The post Tron (TRX) Price Analysis: Range Moves Below Key $0.033 appeared first on Live Bitcoin News. ... [| Skaityti daugiau](https://www.livebitcoinnews.com/tron-trx-price-analysis-range-moves-below-key-0-033/) "
      ],
      "text/plain": [
       "<IPython.core.display.Markdown object>"
      ]
     },
     "execution_count": 6,
     "metadata": {},
     "output_type": "execute_result"
    }
   ],
   "source": [
    "#hide_input\n",
    "#md('##### {}'.format(titleBTC)) \n",
    "md(\"- {}{} {}{} [| Skaityti daugiau]({}) \".format(trx['title'],'. ', trx['body'], ' ...', trx['url']))"
   ]
  },
  {
   "cell_type": "code",
   "execution_count": 7,
   "id": "illegal-greece",
   "metadata": {
    "execution": {
     "iopub.execute_input": "2021-01-28T01:58:36.734016Z",
     "iopub.status.busy": "2021-01-28T01:58:36.733484Z",
     "iopub.status.idle": "2021-01-28T01:58:36.736507Z",
     "shell.execute_reply": "2021-01-28T01:58:36.736050Z"
    },
    "papermill": {
     "duration": 0.017342,
     "end_time": "2021-01-28T01:58:36.736640",
     "exception": false,
     "start_time": "2021-01-28T01:58:36.719298",
     "status": "completed"
    },
    "tags": []
   },
   "outputs": [
    {
     "data": {
      "text/markdown": [
       "- Tranching Helped Fuel 2008 Financial Crisis. Now It’s Coming to DeFi.  In a newly released report, ConsenSys Codefi pointed to a coming DeFi innovation that demonstrates the benefits and risks of building financial instruments with money legos. ... [| Skaityti daugiau](https://decrypt.co/55774/tranching-helped-fuel-2008-financial-crisis-now-coming-defi) "
      ],
      "text/plain": [
       "<IPython.core.display.Markdown object>"
      ]
     },
     "execution_count": 7,
     "metadata": {},
     "output_type": "execute_result"
    }
   ],
   "source": [
    "#hide_input\n",
    "#md('##### {}'.format(titleBTC)) \n",
    "md(\"- {}{} {}{} [| Skaityti daugiau]({}) \".format(eth['title'],'. ', eth['body'], ' ...', eth['url']))"
   ]
  },
  {
   "cell_type": "code",
   "execution_count": 8,
   "id": "sublime-lounge",
   "metadata": {
    "execution": {
     "iopub.execute_input": "2021-01-28T01:58:36.764044Z",
     "iopub.status.busy": "2021-01-28T01:58:36.763443Z",
     "iopub.status.idle": "2021-01-28T01:58:36.766882Z",
     "shell.execute_reply": "2021-01-28T01:58:36.767409Z"
    },
    "papermill": {
     "duration": 0.020011,
     "end_time": "2021-01-28T01:58:36.767537",
     "exception": false,
     "start_time": "2021-01-28T01:58:36.747526",
     "status": "completed"
    },
    "tags": []
   },
   "outputs": [
    {
     "data": {
      "text/markdown": [
       "- Price analysis 1/27: BTC, ETH, DOT, XRP, ADA, LINK, LTC, BCH, BNB, XLM.  Bitcoin's dip below $30,000 triggered a sell-off in altcoins and dip-buying traders might not have enough momentum to cause a relief rally.  ... [| Skaityti daugiau](https://cointelegraph.com/news/price-analysis-1-27-btc-eth-dot-xrp-ada-link-ltc-bch-bnb-xlm) "
      ],
      "text/plain": [
       "<IPython.core.display.Markdown object>"
      ]
     },
     "execution_count": 8,
     "metadata": {},
     "output_type": "execute_result"
    }
   ],
   "source": [
    "#hide_input\n",
    "#md('##### {}'.format(titleBTC)) \n",
    "md(\"- {}{} {}{} [| Skaityti daugiau]({}) \".format(ada['title'],'. ', ada['body'], ' ...', ada['url']))"
   ]
  },
  {
   "cell_type": "code",
   "execution_count": 9,
   "id": "specified-ordering",
   "metadata": {
    "execution": {
     "iopub.execute_input": "2021-01-28T01:58:36.795415Z",
     "iopub.status.busy": "2021-01-28T01:58:36.794950Z",
     "iopub.status.idle": "2021-01-28T01:58:36.798118Z",
     "shell.execute_reply": "2021-01-28T01:58:36.797666Z"
    },
    "papermill": {
     "duration": 0.018884,
     "end_time": "2021-01-28T01:58:36.798225",
     "exception": false,
     "start_time": "2021-01-28T01:58:36.779341",
     "status": "completed"
    },
    "tags": []
   },
   "outputs": [
    {
     "data": {
      "text/markdown": [
       "- Buy U Coin Was the Victim of a Potential Data Breach.  Crypto hacks are pretty darn prominent in the digital space, but sometimes, it’s not always the money itself that’s compromised. Sometimes, attackers go after customers’ personal data, as Buy U Coin is learning this week. Buy U Coin Customers Have Lost Control of Their Data The India-based cryptocurrency exchange was allegedly the victim of a...The post Buy U Coin Was the Victim of a Potential Data Breach appeared first on Live Bitcoin News. ... [| Skaityti daugiau](https://www.livebitcoinnews.com/buy-u-coin-was-the-victim-of-a-potential-data-breach/) "
      ],
      "text/plain": [
       "<IPython.core.display.Markdown object>"
      ]
     },
     "execution_count": 9,
     "metadata": {},
     "output_type": "execute_result"
    }
   ],
   "source": [
    "#hide_input\n",
    "#md('##### {}'.format(titleBTC)) \n",
    "md(\"- {}{} {}{} [| Skaityti daugiau]({}) \".format(exchange['title'],'. ', exchange['body'], ' ...', exchange['url']))"
   ]
  },
  {
   "cell_type": "code",
   "execution_count": null,
   "id": "tender-livestock",
   "metadata": {
    "papermill": {
     "duration": 0.01229,
     "end_time": "2021-01-28T01:58:36.822817",
     "exception": false,
     "start_time": "2021-01-28T01:58:36.810527",
     "status": "completed"
    },
    "tags": []
   },
   "outputs": [],
   "source": []
  },
  {
   "cell_type": "code",
   "execution_count": null,
   "id": "appreciated-diamond",
   "metadata": {
    "papermill": {
     "duration": 0.013179,
     "end_time": "2021-01-28T01:58:36.848257",
     "exception": false,
     "start_time": "2021-01-28T01:58:36.835078",
     "status": "completed"
    },
    "tags": []
   },
   "outputs": [],
   "source": []
  },
  {
   "cell_type": "code",
   "execution_count": null,
   "id": "romance-sweden",
   "metadata": {
    "papermill": {
     "duration": 0.014815,
     "end_time": "2021-01-28T01:58:36.874650",
     "exception": false,
     "start_time": "2021-01-28T01:58:36.859835",
     "status": "completed"
    },
    "tags": []
   },
   "outputs": [],
   "source": []
  },
  {
   "cell_type": "code",
   "execution_count": null,
   "id": "dietary-statistics",
   "metadata": {
    "papermill": {
     "duration": 0.013656,
     "end_time": "2021-01-28T01:58:36.901525",
     "exception": false,
     "start_time": "2021-01-28T01:58:36.887869",
     "status": "completed"
    },
    "tags": []
   },
   "outputs": [],
   "source": []
  }
 ],
 "metadata": {
  "kernelspec": {
   "display_name": "Python 3",
   "language": "python",
   "name": "python3"
  },
  "language_info": {
   "codemirror_mode": {
    "name": "ipython",
    "version": 3
   },
   "file_extension": ".py",
   "mimetype": "text/x-python",
   "name": "python",
   "nbconvert_exporter": "python",
   "pygments_lexer": "ipython3",
   "version": "3.6.12"
  },
  "papermill": {
   "default_parameters": {},
   "duration": 11.13711,
   "end_time": "2021-01-28T01:58:37.323311",
   "environment_variables": {},
   "exception": null,
   "input_path": "Market-News.ipynb",
   "output_path": "Market-News.ipynb",
   "parameters": {},
   "start_time": "2021-01-28T01:58:26.186201",
   "version": "2.2.2"
  }
 },
 "nbformat": 4,
 "nbformat_minor": 5
}