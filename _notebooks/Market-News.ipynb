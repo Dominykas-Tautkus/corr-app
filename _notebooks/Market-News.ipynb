{
 "cells": [
  {
   "cell_type": "markdown",
   "id": "short-greensboro",
   "metadata": {
    "papermill": {
     "duration": 0.014767,
     "end_time": "2021-05-26T02:56:38.712222",
     "exception": false,
     "start_time": "2021-05-26T02:56:38.697455",
     "status": "completed"
    },
    "tags": []
   },
   "source": [
    "# Kriptovaliutų naujienos"
   ]
  },
  {
   "cell_type": "code",
   "execution_count": 1,
   "id": "functioning-knowing",
   "metadata": {
    "execution": {
     "iopub.execute_input": "2021-05-26T02:56:38.742626Z",
     "iopub.status.busy": "2021-05-26T02:56:38.742079Z",
     "iopub.status.idle": "2021-05-26T02:56:40.015059Z",
     "shell.execute_reply": "2021-05-26T02:56:40.014443Z"
    },
    "papermill": {
     "duration": 1.29279,
     "end_time": "2021-05-26T02:56:40.015223",
     "exception": false,
     "start_time": "2021-05-26T02:56:38.722433",
     "status": "completed"
    },
    "tags": []
   },
   "outputs": [],
   "source": [
    "#hide_input\n",
    "import warnings\n",
    "warnings.filterwarnings('ignore')\n",
    "from scripts.read_data import read_api\n",
    "from scripts.read_data import read_news\n",
    "from scripts.read_data import read_covid\n",
    "import matplotlib.pyplot as plt \n",
    "from IPython.display import Markdown as md"
   ]
  },
  {
   "cell_type": "code",
   "execution_count": 2,
   "id": "shared-acceptance",
   "metadata": {
    "execution": {
     "iopub.execute_input": "2021-05-26T02:56:40.043495Z",
     "iopub.status.busy": "2021-05-26T02:56:40.042516Z",
     "iopub.status.idle": "2021-05-26T02:56:47.982068Z",
     "shell.execute_reply": "2021-05-26T02:56:47.982629Z"
    },
    "papermill": {
     "duration": 7.956554,
     "end_time": "2021-05-26T02:56:47.982809",
     "exception": false,
     "start_time": "2021-05-26T02:56:40.026255",
     "status": "completed"
    },
    "tags": []
   },
   "outputs": [],
   "source": [
    "#hide_input\n",
    "blockchain = read_news('blockchain') \n",
    "btc = read_news('btc') \n",
    "xrp = read_news('xrp') \n",
    "trx = read_news('trx') \n",
    "eth = read_news('eth')  \n",
    "ada = read_news('ada')\n",
    "exchange = read_news('exchange') "
   ]
  },
  {
   "cell_type": "code",
   "execution_count": 3,
   "id": "synthetic-notion",
   "metadata": {
    "execution": {
     "iopub.execute_input": "2021-05-26T02:56:48.011983Z",
     "iopub.status.busy": "2021-05-26T02:56:48.011376Z",
     "iopub.status.idle": "2021-05-26T02:56:48.016686Z",
     "shell.execute_reply": "2021-05-26T02:56:48.016221Z"
    },
    "papermill": {
     "duration": 0.023174,
     "end_time": "2021-05-26T02:56:48.016798",
     "exception": false,
     "start_time": "2021-05-26T02:56:47.993624",
     "status": "completed"
    },
    "tags": []
   },
   "outputs": [
    {
     "data": {
      "text/markdown": [
       "- Music NFT Platform OneOf Raises $63M.  Music-centric NFT platform OneOf has announced that $63M in funds have been raised, with a large bulk of the funds going towards artist rights. Additionally, funding will supply team expansion, building the platform&#8217;s existing technology, and supporting independent artists. OneOf is preparing to launch the environmentally-focused NFT platform on the Tezos platform. The OneOf Launch [&#8230;] ... [| Skaityti daugiau](https://bitcoinist.com/music-nft-platform-oneof-raises-63m/?utm_source=rss&utm_medium=rss&utm_campaign=music-nft-platform-oneof-raises-63m) "
      ],
      "text/plain": [
       "<IPython.core.display.Markdown object>"
      ]
     },
     "execution_count": 3,
     "metadata": {},
     "output_type": "execute_result"
    }
   ],
   "source": [
    "#hide_input\n",
    "#md('##### {}'.format(titleBTC)) \n",
    "md(\"- {}{} {}{} [| Skaityti daugiau]({}) \".format(blockchain['title'],'. ', blockchain['body'], ' ...', blockchain['url']))"
   ]
  },
  {
   "cell_type": "code",
   "execution_count": 4,
   "id": "aging-caution",
   "metadata": {
    "execution": {
     "iopub.execute_input": "2021-05-26T02:56:48.042725Z",
     "iopub.status.busy": "2021-05-26T02:56:48.042045Z",
     "iopub.status.idle": "2021-05-26T02:56:48.047343Z",
     "shell.execute_reply": "2021-05-26T02:56:48.047752Z"
    },
    "papermill": {
     "duration": 0.021112,
     "end_time": "2021-05-26T02:56:48.047879",
     "exception": false,
     "start_time": "2021-05-26T02:56:48.026767",
     "status": "completed"
    },
    "tags": []
   },
   "outputs": [
    {
     "data": {
      "text/markdown": [
       "- Uniswap v3 flips v2 on volume — and both versions flip Bitcoin on fee revenue.  Both iterations of the world’s most popular DEX now generate more fee revenue than Bitcoin. ... [| Skaityti daugiau](https://cointelegraph.com/news/uniswap-v3-flips-v2-on-volume-and-both-versions-flip-bitcoin-on-fee-revenue) "
      ],
      "text/plain": [
       "<IPython.core.display.Markdown object>"
      ]
     },
     "execution_count": 4,
     "metadata": {},
     "output_type": "execute_result"
    }
   ],
   "source": [
    "#hide_input\n",
    "#md('##### {}'.format(titleBTC)) \n",
    "md(\"- {}{} {}{} [| Skaityti daugiau]({}) \".format(btc['title'],'. ', btc['body'], ' ...', btc['url']))"
   ]
  },
  {
   "cell_type": "code",
   "execution_count": 5,
   "id": "organic-actress",
   "metadata": {
    "execution": {
     "iopub.execute_input": "2021-05-26T02:56:48.075188Z",
     "iopub.status.busy": "2021-05-26T02:56:48.074508Z",
     "iopub.status.idle": "2021-05-26T02:56:48.078549Z",
     "shell.execute_reply": "2021-05-26T02:56:48.078978Z"
    },
    "papermill": {
     "duration": 0.020581,
     "end_time": "2021-05-26T02:56:48.079103",
     "exception": false,
     "start_time": "2021-05-26T02:56:48.058522",
     "status": "completed"
    },
    "tags": []
   },
   "outputs": [
    {
     "data": {
      "text/markdown": [
       "- XRP, Dogecoin, Cardano Price Analysis: 25 May.  With Bitcoin closing in on the $40,000-mark, bullish sentiment continued to push the global cryptocurrency market back to its feat. Although some altcoins rose slower than others, the likes of XRP, Dogecoin and Cardano eyed a breakout above certain levels hasten their recovery process. XRP The Fibonacci tool was used to highlight potential target levels [&#8230;] ... [| Skaityti daugiau](https://ambcrypto.com/xrp-dogecoin-cardano-price-analysis-25-may/) "
      ],
      "text/plain": [
       "<IPython.core.display.Markdown object>"
      ]
     },
     "execution_count": 5,
     "metadata": {},
     "output_type": "execute_result"
    }
   ],
   "source": [
    "#hide_input\n",
    "#md('##### {}'.format(titleBTC)) \n",
    "md(\"- {}{} {}{} [| Skaityti daugiau]({}) \".format(xrp['title'],'. ', xrp['body'], ' ...', xrp['url']))"
   ]
  },
  {
   "cell_type": "code",
   "execution_count": 6,
   "id": "prompt-farmer",
   "metadata": {
    "execution": {
     "iopub.execute_input": "2021-05-26T02:56:48.106968Z",
     "iopub.status.busy": "2021-05-26T02:56:48.106361Z",
     "iopub.status.idle": "2021-05-26T02:56:48.109064Z",
     "shell.execute_reply": "2021-05-26T02:56:48.109559Z"
    },
    "papermill": {
     "duration": 0.019883,
     "end_time": "2021-05-26T02:56:48.109688",
     "exception": false,
     "start_time": "2021-05-26T02:56:48.089805",
     "status": "completed"
    },
    "tags": []
   },
   "outputs": [
    {
     "data": {
      "text/markdown": [
       "- VeChain, THETA, Tron Price Analysis: 23 May.  VeChain&#8217;s technicals presented some additional losses for the crypto-asset moving forward. THETA needed to reclaim the area above $7.34 to enable a quick recovery. Finally, Tron could stabilize at $0.0622 support. VeChain [VET] VeChain was unable to bounce back from $0.096-support and suffered yet another breakdown on its 4-hour chart. There was some defense around [&#8230;] ... [| Skaityti daugiau](https://ambcrypto.com/vechain-theta-tron-price-analysis-23-may/) "
      ],
      "text/plain": [
       "<IPython.core.display.Markdown object>"
      ]
     },
     "execution_count": 6,
     "metadata": {},
     "output_type": "execute_result"
    }
   ],
   "source": [
    "#hide_input\n",
    "#md('##### {}'.format(titleBTC)) \n",
    "md(\"- {}{} {}{} [| Skaityti daugiau]({}) \".format(trx['title'],'. ', trx['body'], ' ...', trx['url']))"
   ]
  },
  {
   "cell_type": "code",
   "execution_count": 7,
   "id": "illegal-greece",
   "metadata": {
    "execution": {
     "iopub.execute_input": "2021-05-26T02:56:48.137859Z",
     "iopub.status.busy": "2021-05-26T02:56:48.137279Z",
     "iopub.status.idle": "2021-05-26T02:56:48.139963Z",
     "shell.execute_reply": "2021-05-26T02:56:48.140453Z"
    },
    "papermill": {
     "duration": 0.019625,
     "end_time": "2021-05-26T02:56:48.140584",
     "exception": false,
     "start_time": "2021-05-26T02:56:48.120959",
     "status": "completed"
    },
    "tags": []
   },
   "outputs": [
    {
     "data": {
      "text/markdown": [
       "- Ethereum Price Analysis: 25 May.  After hitting a peak at $4,646 Ethereum has been on a downward trend. The leader of altcoins has experienced a ~62% loss in its value as it dropped to $1,720 on 23 May. However, its value has retraced to $2,549, at press time but continued to witness consistent selling pressure. Ethereum daily chart The daily [&#8230;] ... [| Skaityti daugiau](https://ambcrypto.com/ethereum-price-analysis-25-may/) "
      ],
      "text/plain": [
       "<IPython.core.display.Markdown object>"
      ]
     },
     "execution_count": 7,
     "metadata": {},
     "output_type": "execute_result"
    }
   ],
   "source": [
    "#hide_input\n",
    "#md('##### {}'.format(titleBTC)) \n",
    "md(\"- {}{} {}{} [| Skaityti daugiau]({}) \".format(eth['title'],'. ', eth['body'], ' ...', eth['url']))"
   ]
  },
  {
   "cell_type": "code",
   "execution_count": 8,
   "id": "sublime-lounge",
   "metadata": {
    "execution": {
     "iopub.execute_input": "2021-05-26T02:56:48.169862Z",
     "iopub.status.busy": "2021-05-26T02:56:48.169265Z",
     "iopub.status.idle": "2021-05-26T02:56:48.172042Z",
     "shell.execute_reply": "2021-05-26T02:56:48.172508Z"
    },
    "papermill": {
     "duration": 0.020694,
     "end_time": "2021-05-26T02:56:48.172635",
     "exception": false,
     "start_time": "2021-05-26T02:56:48.151941",
     "status": "completed"
    },
    "tags": []
   },
   "outputs": [
    {
     "data": {
      "text/markdown": [
       "- Cardano (ADA) Hits 1 Million Wallet Milestone Ahead of Smart Contract Implementation.  The Cardano (ADA) network has hit a new milestone, as one million wallets have now been created on it. The milestone was reached at a time in which thousands of new wallets are being created every day as presumably more users join the network. The update was shared by the Cardano Community Twitter account, which […] ... [| Skaityti daugiau](https://www.cryptoglobe.com/latest/2021/05/cardano-ada-hits-1-million-wallet-milestone-ahead-of-smart-contract-implementation/) "
      ],
      "text/plain": [
       "<IPython.core.display.Markdown object>"
      ]
     },
     "execution_count": 8,
     "metadata": {},
     "output_type": "execute_result"
    }
   ],
   "source": [
    "#hide_input\n",
    "#md('##### {}'.format(titleBTC)) \n",
    "md(\"- {}{} {}{} [| Skaityti daugiau]({}) \".format(ada['title'],'. ', ada['body'], ' ...', ada['url']))"
   ]
  },
  {
   "cell_type": "code",
   "execution_count": 9,
   "id": "specified-ordering",
   "metadata": {
    "execution": {
     "iopub.execute_input": "2021-05-26T02:56:48.201278Z",
     "iopub.status.busy": "2021-05-26T02:56:48.199511Z",
     "iopub.status.idle": "2021-05-26T02:56:48.203411Z",
     "shell.execute_reply": "2021-05-26T02:56:48.203854Z"
    },
    "papermill": {
     "duration": 0.019729,
     "end_time": "2021-05-26T02:56:48.203973",
     "exception": false,
     "start_time": "2021-05-26T02:56:48.184244",
     "status": "completed"
    },
    "tags": []
   },
   "outputs": [
    {
     "data": {
      "text/markdown": [
       "- Ethereum, Binance Coin, Bitcoin Cash Price Analysis: 25 May.  After massive hikes were noted across the global altcoin market just yesterday, gains dipped slightly over the last 24 hours due to a cooldown. If this trend continued over the coming days, altcoins such as Ethereum, Binance Coin and Bitcoin Cash may remain restricted below key resistance areas before their next rally. Ethereum [ETH] Ethereum&#8217;s [&#8230;] ... [| Skaityti daugiau](https://ambcrypto.com/ethereum-binance-coin-bitcoin-cash-price-analysis-25-may/) "
      ],
      "text/plain": [
       "<IPython.core.display.Markdown object>"
      ]
     },
     "execution_count": 9,
     "metadata": {},
     "output_type": "execute_result"
    }
   ],
   "source": [
    "#hide_input\n",
    "#md('##### {}'.format(titleBTC)) \n",
    "md(\"- {}{} {}{} [| Skaityti daugiau]({}) \".format(exchange['title'],'. ', exchange['body'], ' ...', exchange['url']))"
   ]
  },
  {
   "cell_type": "code",
   "execution_count": null,
   "id": "tender-livestock",
   "metadata": {
    "papermill": {
     "duration": 0.011943,
     "end_time": "2021-05-26T02:56:48.228025",
     "exception": false,
     "start_time": "2021-05-26T02:56:48.216082",
     "status": "completed"
    },
    "tags": []
   },
   "outputs": [],
   "source": []
  },
  {
   "cell_type": "code",
   "execution_count": null,
   "id": "appreciated-diamond",
   "metadata": {
    "papermill": {
     "duration": 0.012192,
     "end_time": "2021-05-26T02:56:48.252518",
     "exception": false,
     "start_time": "2021-05-26T02:56:48.240326",
     "status": "completed"
    },
    "tags": []
   },
   "outputs": [],
   "source": []
  },
  {
   "cell_type": "code",
   "execution_count": null,
   "id": "romance-sweden",
   "metadata": {
    "papermill": {
     "duration": 0.012098,
     "end_time": "2021-05-26T02:56:48.276654",
     "exception": false,
     "start_time": "2021-05-26T02:56:48.264556",
     "status": "completed"
    },
    "tags": []
   },
   "outputs": [],
   "source": []
  },
  {
   "cell_type": "code",
   "execution_count": null,
   "id": "dietary-statistics",
   "metadata": {
    "papermill": {
     "duration": 0.011747,
     "end_time": "2021-05-26T02:56:48.300054",
     "exception": false,
     "start_time": "2021-05-26T02:56:48.288307",
     "status": "completed"
    },
    "tags": []
   },
   "outputs": [],
   "source": []
  }
 ],
 "metadata": {
  "kernelspec": {
   "display_name": "Python 3",
   "language": "python",
   "name": "python3"
  },
  "language_info": {
   "codemirror_mode": {
    "name": "ipython",
    "version": 3
   },
   "file_extension": ".py",
   "mimetype": "text/x-python",
   "name": "python",
   "nbconvert_exporter": "python",
   "pygments_lexer": "ipython3",
   "version": "3.6.13"
  },
  "papermill": {
   "default_parameters": {},
   "duration": 11.076156,
   "end_time": "2021-05-26T02:56:48.719632",
   "environment_variables": {},
   "exception": null,
   "input_path": "Market-News.ipynb",
   "output_path": "Market-News.ipynb",
   "parameters": {},
   "start_time": "2021-05-26T02:56:37.643476",
   "version": "2.2.2"
  }
 },
 "nbformat": 4,
 "nbformat_minor": 5
}