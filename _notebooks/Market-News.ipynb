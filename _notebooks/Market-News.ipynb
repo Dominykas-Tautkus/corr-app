{
 "cells": [
  {
   "cell_type": "markdown",
   "id": "short-greensboro",
   "metadata": {
    "papermill": {
     "duration": 0.015777,
     "end_time": "2021-04-01T02:12:34.403958",
     "exception": false,
     "start_time": "2021-04-01T02:12:34.388181",
     "status": "completed"
    },
    "tags": []
   },
   "source": [
    "# Kriptovaliutų naujienos"
   ]
  },
  {
   "cell_type": "code",
   "execution_count": 1,
   "id": "functioning-knowing",
   "metadata": {
    "execution": {
     "iopub.execute_input": "2021-04-01T02:12:34.440715Z",
     "iopub.status.busy": "2021-04-01T02:12:34.440049Z",
     "iopub.status.idle": "2021-04-01T02:12:35.771746Z",
     "shell.execute_reply": "2021-04-01T02:12:35.771128Z"
    },
    "papermill": {
     "duration": 1.356264,
     "end_time": "2021-04-01T02:12:35.771912",
     "exception": false,
     "start_time": "2021-04-01T02:12:34.415648",
     "status": "completed"
    },
    "tags": []
   },
   "outputs": [],
   "source": [
    "#hide_input\n",
    "import warnings\n",
    "warnings.filterwarnings('ignore')\n",
    "from scripts.read_data import read_api\n",
    "from scripts.read_data import read_news\n",
    "from scripts.read_data import read_covid\n",
    "import matplotlib.pyplot as plt \n",
    "from IPython.display import Markdown as md"
   ]
  },
  {
   "cell_type": "code",
   "execution_count": 2,
   "id": "shared-acceptance",
   "metadata": {
    "execution": {
     "iopub.execute_input": "2021-04-01T02:12:35.803646Z",
     "iopub.status.busy": "2021-04-01T02:12:35.803032Z",
     "iopub.status.idle": "2021-04-01T02:12:44.939442Z",
     "shell.execute_reply": "2021-04-01T02:12:44.940018Z"
    },
    "papermill": {
     "duration": 9.155493,
     "end_time": "2021-04-01T02:12:44.940185",
     "exception": false,
     "start_time": "2021-04-01T02:12:35.784692",
     "status": "completed"
    },
    "tags": []
   },
   "outputs": [],
   "source": [
    "#hide_input\n",
    "blockchain = read_news('blockchain') \n",
    "btc = read_news('btc') \n",
    "xrp = read_news('xrp') \n",
    "trx = read_news('trx') \n",
    "eth = read_news('eth')  \n",
    "ada = read_news('ada')\n",
    "exchange = read_news('exchange') "
   ]
  },
  {
   "cell_type": "code",
   "execution_count": 3,
   "id": "synthetic-notion",
   "metadata": {
    "execution": {
     "iopub.execute_input": "2021-04-01T02:12:44.967177Z",
     "iopub.status.busy": "2021-04-01T02:12:44.965364Z",
     "iopub.status.idle": "2021-04-01T02:12:44.972948Z",
     "shell.execute_reply": "2021-04-01T02:12:44.972396Z"
    },
    "papermill": {
     "duration": 0.02207,
     "end_time": "2021-04-01T02:12:44.973067",
     "exception": false,
     "start_time": "2021-04-01T02:12:44.950997",
     "status": "completed"
    },
    "tags": []
   },
   "outputs": [
    {
     "data": {
      "text/markdown": [
       "- NFT marketplace OpenSea plans to integrate Layer 2 protocol Immutable X.  Integrating Immutable X will give OpenSea users a \"gas-free trading experience without sacrificing the security of the Ethereum network.\"The post NFT marketplace OpenSea plans to integrate Layer 2 protocol Immutable X appeared first on The Block. ... [| Skaityti daugiau](https://www.theblockcrypto.com/linked/100084/opensea-nft-marketplace-layer-2?utm_source=cryptocompare&utm_medium=rss) "
      ],
      "text/plain": [
       "<IPython.core.display.Markdown object>"
      ]
     },
     "execution_count": 3,
     "metadata": {},
     "output_type": "execute_result"
    }
   ],
   "source": [
    "#hide_input\n",
    "#md('##### {}'.format(titleBTC)) \n",
    "md(\"- {}{} {}{} [| Skaityti daugiau]({}) \".format(blockchain['title'],'. ', blockchain['body'], ' ...', blockchain['url']))"
   ]
  },
  {
   "cell_type": "code",
   "execution_count": 4,
   "id": "aging-caution",
   "metadata": {
    "execution": {
     "iopub.execute_input": "2021-04-01T02:12:44.999957Z",
     "iopub.status.busy": "2021-04-01T02:12:44.999352Z",
     "iopub.status.idle": "2021-04-01T02:12:45.004608Z",
     "shell.execute_reply": "2021-04-01T02:12:45.005022Z"
    },
    "papermill": {
     "duration": 0.020705,
     "end_time": "2021-04-01T02:12:45.005140",
     "exception": false,
     "start_time": "2021-04-01T02:12:44.984435",
     "status": "completed"
    },
    "tags": []
   },
   "outputs": [
    {
     "data": {
      "text/markdown": [
       "- Go Phish: How This Bitcoin Investor Lost 17 BTC To An iPhone App.  Bitcoin is once again making headlines everywhere, mostly for all the right reasons this time around. However, where there&#8217;s money to be made, there&#8217;s also scammers waiting in the shadows to steal funds whenever they can. The latest situation involves a highly sophisticated replica of a popular Apple iPhone app, a malicious application from Apple&#8217;s [&#8230;] ... [| Skaityti daugiau](https://www.newsbtc.com/news/bitcoin/phishing-bitcoin-btc-iphone-apple-app-store/) "
      ],
      "text/plain": [
       "<IPython.core.display.Markdown object>"
      ]
     },
     "execution_count": 4,
     "metadata": {},
     "output_type": "execute_result"
    }
   ],
   "source": [
    "#hide_input\n",
    "#md('##### {}'.format(titleBTC)) \n",
    "md(\"- {}{} {}{} [| Skaityti daugiau]({}) \".format(btc['title'],'. ', btc['body'], ' ...', btc['url']))"
   ]
  },
  {
   "cell_type": "code",
   "execution_count": 5,
   "id": "organic-actress",
   "metadata": {
    "execution": {
     "iopub.execute_input": "2021-04-01T02:12:45.035412Z",
     "iopub.status.busy": "2021-04-01T02:12:45.034647Z",
     "iopub.status.idle": "2021-04-01T02:12:45.037191Z",
     "shell.execute_reply": "2021-04-01T02:12:45.037645Z"
    },
    "papermill": {
     "duration": 0.020772,
     "end_time": "2021-04-01T02:12:45.037764",
     "exception": false,
     "start_time": "2021-04-01T02:12:45.016992",
     "status": "completed"
    },
    "tags": []
   },
   "outputs": [
    {
     "data": {
      "text/markdown": [
       "- Price analysis 3/31: BTC, ETH, BNB, ADA, DOT, XRP, UNI, THETA, LTC, LINK.  Bitcoin’s recovery from its recent lows and the stellar performance from altcoins signal that bulls are confident BTC will retest its all-time high. ... [| Skaityti daugiau](https://cointelegraph.com/news/price-analysis-3-31-btc-eth-bnb-ada-dot-xrp-uni-theta-ltc-link) "
      ],
      "text/plain": [
       "<IPython.core.display.Markdown object>"
      ]
     },
     "execution_count": 5,
     "metadata": {},
     "output_type": "execute_result"
    }
   ],
   "source": [
    "#hide_input\n",
    "#md('##### {}'.format(titleBTC)) \n",
    "md(\"- {}{} {}{} [| Skaityti daugiau]({}) \".format(xrp['title'],'. ', xrp['body'], ' ...', xrp['url']))"
   ]
  },
  {
   "cell_type": "code",
   "execution_count": 6,
   "id": "prompt-farmer",
   "metadata": {
    "execution": {
     "iopub.execute_input": "2021-04-01T02:12:45.066777Z",
     "iopub.status.busy": "2021-04-01T02:12:45.066206Z",
     "iopub.status.idle": "2021-04-01T02:12:45.072091Z",
     "shell.execute_reply": "2021-04-01T02:12:45.071542Z"
    },
    "papermill": {
     "duration": 0.022557,
     "end_time": "2021-04-01T02:12:45.072241",
     "exception": false,
     "start_time": "2021-04-01T02:12:45.049684",
     "status": "completed"
    },
    "tags": []
   },
   "outputs": [
    {
     "data": {
      "text/markdown": [
       "- TRX Price Analysis: Uptrend Continues With Bullish Breakout to $0.10.  The post TRX Price Analysis: Uptrend Continues With Bullish Breakout to $0.10 appeared first on Coinpedia - Fintech & Cryptocurreny News Media| Crypto GuideTron (TRX) is edging higher after a brief consolidation. Tron made a strong bullish breakout to $0.1, flipping the $0.070 resistance level.*Tron Price action remains in bullish territory *Uptrend continues on TRX/USD with bullish breakout to intraday highs of $0.10 *Justin Sun announces Launch of NFT FundTRX Price action remains in the bullish territory despite … ... [| Skaityti daugiau](https://coinpedia.org/price-analysis/trx-price-analysis-uptrend-continues-with-bullish-breakout/) "
      ],
      "text/plain": [
       "<IPython.core.display.Markdown object>"
      ]
     },
     "execution_count": 6,
     "metadata": {},
     "output_type": "execute_result"
    }
   ],
   "source": [
    "#hide_input\n",
    "#md('##### {}'.format(titleBTC)) \n",
    "md(\"- {}{} {}{} [| Skaityti daugiau]({}) \".format(trx['title'],'. ', trx['body'], ' ...', trx['url']))"
   ]
  },
  {
   "cell_type": "code",
   "execution_count": 7,
   "id": "illegal-greece",
   "metadata": {
    "execution": {
     "iopub.execute_input": "2021-04-01T02:12:45.103391Z",
     "iopub.status.busy": "2021-04-01T02:12:45.102679Z",
     "iopub.status.idle": "2021-04-01T02:12:45.111516Z",
     "shell.execute_reply": "2021-04-01T02:12:45.112023Z"
    },
    "papermill": {
     "duration": 0.027506,
     "end_time": "2021-04-01T02:12:45.112188",
     "exception": false,
     "start_time": "2021-04-01T02:12:45.084682",
     "status": "completed"
    },
    "tags": []
   },
   "outputs": [
    {
     "data": {
      "text/markdown": [
       "- NFT marketplace OpenSea plans to integrate Layer 2 protocol Immutable X.  Integrating Immutable X will give OpenSea users a \"gas-free trading experience without sacrificing the security of the Ethereum network.\"The post NFT marketplace OpenSea plans to integrate Layer 2 protocol Immutable X appeared first on The Block. ... [| Skaityti daugiau](https://www.theblockcrypto.com/linked/100084/opensea-nft-marketplace-layer-2?utm_source=cryptocompare&utm_medium=rss) "
      ],
      "text/plain": [
       "<IPython.core.display.Markdown object>"
      ]
     },
     "execution_count": 7,
     "metadata": {},
     "output_type": "execute_result"
    }
   ],
   "source": [
    "#hide_input\n",
    "#md('##### {}'.format(titleBTC)) \n",
    "md(\"- {}{} {}{} [| Skaityti daugiau]({}) \".format(eth['title'],'. ', eth['body'], ' ...', eth['url']))"
   ]
  },
  {
   "cell_type": "code",
   "execution_count": 8,
   "id": "sublime-lounge",
   "metadata": {
    "execution": {
     "iopub.execute_input": "2021-04-01T02:12:45.144561Z",
     "iopub.status.busy": "2021-04-01T02:12:45.143938Z",
     "iopub.status.idle": "2021-04-01T02:12:45.147190Z",
     "shell.execute_reply": "2021-04-01T02:12:45.146394Z"
    },
    "papermill": {
     "duration": 0.021743,
     "end_time": "2021-04-01T02:12:45.147376",
     "exception": false,
     "start_time": "2021-04-01T02:12:45.125633",
     "status": "completed"
    },
    "tags": []
   },
   "outputs": [
    {
     "data": {
      "text/markdown": [
       "- $500 B in ADA delegated for this purpose, Community takes over Cardano.  Driven by a community initiative, US$500,000,000 has been raised in ADA to be given to charity through so-called &#8220;mission-driven stake pools&#8221;. Via a post on the Cardano forum written by Elliot Hill, part of the Cardano Foundation team, platform users were informed of the following: The rewards from these pools, generated by the collective power [&#8230;] ... [| Skaityti daugiau](https://www.newsbtc.com/news/500-b-in-ada-delegated-for-this-purpose-community-takes-over-cardano/) "
      ],
      "text/plain": [
       "<IPython.core.display.Markdown object>"
      ]
     },
     "execution_count": 8,
     "metadata": {},
     "output_type": "execute_result"
    }
   ],
   "source": [
    "#hide_input\n",
    "#md('##### {}'.format(titleBTC)) \n",
    "md(\"- {}{} {}{} [| Skaityti daugiau]({}) \".format(ada['title'],'. ', ada['body'], ' ...', ada['url']))"
   ]
  },
  {
   "cell_type": "code",
   "execution_count": 9,
   "id": "specified-ordering",
   "metadata": {
    "execution": {
     "iopub.execute_input": "2021-04-01T02:12:45.182341Z",
     "iopub.status.busy": "2021-04-01T02:12:45.181092Z",
     "iopub.status.idle": "2021-04-01T02:12:45.184697Z",
     "shell.execute_reply": "2021-04-01T02:12:45.185185Z"
    },
    "papermill": {
     "duration": 0.021784,
     "end_time": "2021-04-01T02:12:45.185316",
     "exception": false,
     "start_time": "2021-04-01T02:12:45.163532",
     "status": "completed"
    },
    "tags": []
   },
   "outputs": [
    {
     "data": {
      "text/markdown": [
       "- Man Loses Life Savings to Phony Bitcoin iOS App- Over a Million Dollars in BTC Drained.  Just recently, an individual lost all of his life savings in a matter of no time after he downloaded a malicious and phony Trezor application onto his iOS smartphone from Apple&#8217;s App Store. Phillipe Christodoulou lost 17.1 bitcoin or over a million dollars worth of the cryptocurrency using today&#8217;s exchange rates. Christodoulou detailed that he&#8217;s [&#8230;] ... [| Skaityti daugiau](https://news.bitcoin.com/man-loses-life-savings-to-phony-bitcoin-ios-app-over-a-million-dollars-in-btc-drained/) "
      ],
      "text/plain": [
       "<IPython.core.display.Markdown object>"
      ]
     },
     "execution_count": 9,
     "metadata": {},
     "output_type": "execute_result"
    }
   ],
   "source": [
    "#hide_input\n",
    "#md('##### {}'.format(titleBTC)) \n",
    "md(\"- {}{} {}{} [| Skaityti daugiau]({}) \".format(exchange['title'],'. ', exchange['body'], ' ...', exchange['url']))"
   ]
  },
  {
   "cell_type": "code",
   "execution_count": null,
   "id": "tender-livestock",
   "metadata": {
    "papermill": {
     "duration": 0.012665,
     "end_time": "2021-04-01T02:12:45.211432",
     "exception": false,
     "start_time": "2021-04-01T02:12:45.198767",
     "status": "completed"
    },
    "tags": []
   },
   "outputs": [],
   "source": []
  },
  {
   "cell_type": "code",
   "execution_count": null,
   "id": "appreciated-diamond",
   "metadata": {
    "papermill": {
     "duration": 0.013574,
     "end_time": "2021-04-01T02:12:45.239253",
     "exception": false,
     "start_time": "2021-04-01T02:12:45.225679",
     "status": "completed"
    },
    "tags": []
   },
   "outputs": [],
   "source": []
  },
  {
   "cell_type": "code",
   "execution_count": null,
   "id": "romance-sweden",
   "metadata": {
    "papermill": {
     "duration": 0.014408,
     "end_time": "2021-04-01T02:12:45.268551",
     "exception": false,
     "start_time": "2021-04-01T02:12:45.254143",
     "status": "completed"
    },
    "tags": []
   },
   "outputs": [],
   "source": []
  },
  {
   "cell_type": "code",
   "execution_count": null,
   "id": "dietary-statistics",
   "metadata": {
    "papermill": {
     "duration": 0.013905,
     "end_time": "2021-04-01T02:12:45.296032",
     "exception": false,
     "start_time": "2021-04-01T02:12:45.282127",
     "status": "completed"
    },
    "tags": []
   },
   "outputs": [],
   "source": []
  }
 ],
 "metadata": {
  "kernelspec": {
   "display_name": "Python 3",
   "language": "python",
   "name": "python3"
  },
  "language_info": {
   "codemirror_mode": {
    "name": "ipython",
    "version": 3
   },
   "file_extension": ".py",
   "mimetype": "text/x-python",
   "name": "python",
   "nbconvert_exporter": "python",
   "pygments_lexer": "ipython3",
   "version": "3.6.13"
  },
  "papermill": {
   "default_parameters": {},
   "duration": 13.336238,
   "end_time": "2021-04-01T02:12:46.629391",
   "environment_variables": {},
   "exception": null,
   "input_path": "Market-News.ipynb",
   "output_path": "Market-News.ipynb",
   "parameters": {},
   "start_time": "2021-04-01T02:12:33.293153",
   "version": "2.2.2"
  }
 },
 "nbformat": 4,
 "nbformat_minor": 5
}