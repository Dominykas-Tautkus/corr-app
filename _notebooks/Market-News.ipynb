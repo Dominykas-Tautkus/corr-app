{
 "cells": [
  {
   "cell_type": "markdown",
   "id": "short-greensboro",
   "metadata": {
    "papermill": {
     "duration": 0.017183,
     "end_time": "2021-03-14T01:50:15.688276",
     "exception": false,
     "start_time": "2021-03-14T01:50:15.671093",
     "status": "completed"
    },
    "tags": []
   },
   "source": [
    "# Kriptovaliutų naujienos"
   ]
  },
  {
   "cell_type": "code",
   "execution_count": 1,
   "id": "functioning-knowing",
   "metadata": {
    "execution": {
     "iopub.execute_input": "2021-03-14T01:50:15.719674Z",
     "iopub.status.busy": "2021-03-14T01:50:15.719120Z",
     "iopub.status.idle": "2021-03-14T01:50:16.918887Z",
     "shell.execute_reply": "2021-03-14T01:50:16.918205Z"
    },
    "papermill": {
     "duration": 1.219992,
     "end_time": "2021-03-14T01:50:16.919043",
     "exception": false,
     "start_time": "2021-03-14T01:50:15.699051",
     "status": "completed"
    },
    "tags": []
   },
   "outputs": [],
   "source": [
    "#hide_input\n",
    "import warnings\n",
    "warnings.filterwarnings('ignore')\n",
    "from scripts.read_data import read_api\n",
    "from scripts.read_data import read_news\n",
    "from scripts.read_data import read_covid\n",
    "import matplotlib.pyplot as plt \n",
    "from IPython.display import Markdown as md"
   ]
  },
  {
   "cell_type": "code",
   "execution_count": 2,
   "id": "shared-acceptance",
   "metadata": {
    "execution": {
     "iopub.execute_input": "2021-03-14T01:50:16.946443Z",
     "iopub.status.busy": "2021-03-14T01:50:16.945848Z",
     "iopub.status.idle": "2021-03-14T01:50:26.465564Z",
     "shell.execute_reply": "2021-03-14T01:50:26.464395Z"
    },
    "papermill": {
     "duration": 9.537025,
     "end_time": "2021-03-14T01:50:26.465706",
     "exception": false,
     "start_time": "2021-03-14T01:50:16.928681",
     "status": "completed"
    },
    "tags": []
   },
   "outputs": [],
   "source": [
    "#hide_input\n",
    "blockchain = read_news('blockchain') \n",
    "btc = read_news('btc') \n",
    "xrp = read_news('xrp') \n",
    "trx = read_news('trx') \n",
    "eth = read_news('eth')  \n",
    "ada = read_news('ada')\n",
    "exchange = read_news('exchange') "
   ]
  },
  {
   "cell_type": "code",
   "execution_count": 3,
   "id": "synthetic-notion",
   "metadata": {
    "execution": {
     "iopub.execute_input": "2021-03-14T01:50:26.491677Z",
     "iopub.status.busy": "2021-03-14T01:50:26.489574Z",
     "iopub.status.idle": "2021-03-14T01:50:26.496660Z",
     "shell.execute_reply": "2021-03-14T01:50:26.496207Z"
    },
    "papermill": {
     "duration": 0.02068,
     "end_time": "2021-03-14T01:50:26.496772",
     "exception": false,
     "start_time": "2021-03-14T01:50:26.476092",
     "status": "completed"
    },
    "tags": []
   },
   "outputs": [
    {
     "data": {
      "text/markdown": [
       "- OKEx Adds PERP and Three More Tokens to Further Expand its DeFi Offering.  The leading crypto derivatives exchange and trading platform, OKEx has further expanded its DeFi offering by adding few more tokens to its list of supported cryptocurrencies. The latest inclusion to the list is PERP &#8211; a native token of the Perpetual Protocol. Perpetual Protocol is a DeFi platform that allows users to create perpetual contracts [&#8230;] ... [| Skaityti daugiau](https://www.newsbtc.com/news/company/okex-adds-perp-and-three-more-tokens-to-further-expand-its-defi-offering/) "
      ],
      "text/plain": [
       "<IPython.core.display.Markdown object>"
      ]
     },
     "execution_count": 3,
     "metadata": {},
     "output_type": "execute_result"
    }
   ],
   "source": [
    "#hide_input\n",
    "#md('##### {}'.format(titleBTC)) \n",
    "md(\"- {}{} {}{} [| Skaityti daugiau]({}) \".format(blockchain['title'],'. ', blockchain['body'], ' ...', blockchain['url']))"
   ]
  },
  {
   "cell_type": "code",
   "execution_count": 4,
   "id": "aging-caution",
   "metadata": {
    "execution": {
     "iopub.execute_input": "2021-03-14T01:50:26.520070Z",
     "iopub.status.busy": "2021-03-14T01:50:26.519458Z",
     "iopub.status.idle": "2021-03-14T01:50:26.522349Z",
     "shell.execute_reply": "2021-03-14T01:50:26.521744Z"
    },
    "papermill": {
     "duration": 0.016319,
     "end_time": "2021-03-14T01:50:26.522459",
     "exception": false,
     "start_time": "2021-03-14T01:50:26.506140",
     "status": "completed"
    },
    "tags": []
   },
   "outputs": [
    {
     "data": {
      "text/markdown": [
       "- Over $34 Million Worth of Bitcoin Soon Be up for Auction.  Over $34 million worth of bitcoin will soon be up for auction, as both the U.S. and the French governments are going to be auctioning off BTC from March 15 to March 17. The U.S. government did not reveal where the BTC came from, while the French government will auction funds seized from hackers. According […] ... [| Skaityti daugiau](https://www.cryptoglobe.com/latest/2021/03/over-34-million-worth-of-bitcoin-soon-be-up-for-auction/) "
      ],
      "text/plain": [
       "<IPython.core.display.Markdown object>"
      ]
     },
     "execution_count": 4,
     "metadata": {},
     "output_type": "execute_result"
    }
   ],
   "source": [
    "#hide_input\n",
    "#md('##### {}'.format(titleBTC)) \n",
    "md(\"- {}{} {}{} [| Skaityti daugiau]({}) \".format(btc['title'],'. ', btc['body'], ' ...', btc['url']))"
   ]
  },
  {
   "cell_type": "code",
   "execution_count": 5,
   "id": "organic-actress",
   "metadata": {
    "execution": {
     "iopub.execute_input": "2021-03-14T01:50:26.546534Z",
     "iopub.status.busy": "2021-03-14T01:50:26.545708Z",
     "iopub.status.idle": "2021-03-14T01:50:26.548556Z",
     "shell.execute_reply": "2021-03-14T01:50:26.549192Z"
    },
    "papermill": {
     "duration": 0.017853,
     "end_time": "2021-03-14T01:50:26.549362",
     "exception": false,
     "start_time": "2021-03-14T01:50:26.531509",
     "status": "completed"
    },
    "tags": []
   },
   "outputs": [
    {
     "data": {
      "text/markdown": [
       "- XRP Price Surges More Than 5%, Now Up 110% in 2021.  According to data by TradingView, on Saturday (March 13), around 14:57 UTC, on crypto exchange Bitstamp, the XRP price reached its intraday high of $0.46653. Currently (as of 22:20 UTC on March 13), XRP-USD is trading around $0.46124, which means that XRP-USD is up 5.32% in the past 24-hour period and up 110% in 2021. […] ... [| Skaityti daugiau](https://www.cryptoglobe.com/latest/2021/03/xrp-price-surges-more-than-5-now-up-110-in-2021/) "
      ],
      "text/plain": [
       "<IPython.core.display.Markdown object>"
      ]
     },
     "execution_count": 5,
     "metadata": {},
     "output_type": "execute_result"
    }
   ],
   "source": [
    "#hide_input\n",
    "#md('##### {}'.format(titleBTC)) \n",
    "md(\"- {}{} {}{} [| Skaityti daugiau]({}) \".format(xrp['title'],'. ', xrp['body'], ' ...', xrp['url']))"
   ]
  },
  {
   "cell_type": "code",
   "execution_count": 6,
   "id": "prompt-farmer",
   "metadata": {
    "execution": {
     "iopub.execute_input": "2021-03-14T01:50:26.576997Z",
     "iopub.status.busy": "2021-03-14T01:50:26.576449Z",
     "iopub.status.idle": "2021-03-14T01:50:26.579917Z",
     "shell.execute_reply": "2021-03-14T01:50:26.580364Z"
    },
    "papermill": {
     "duration": 0.019599,
     "end_time": "2021-03-14T01:50:26.580469",
     "exception": false,
     "start_time": "2021-03-14T01:50:26.560870",
     "status": "completed"
    },
    "tags": []
   },
   "outputs": [
    {
     "data": {
      "text/markdown": [
       "- Tron, Ethereum Classic, Zcash Price Analysis: 13 March.  A few days after Bitcoin&#8217;s hike on the charts spurred the rest of the altcoin market, the latter&#8217;s momentum seemed to have exhausted itself at press time. The likes of Tron, Ethereum Classic, and Zcash were prime examples, with each of these alts recording corrections after appreciating for a while. Tron [TRX] For Tron [TRX], [&#8230;] ... [| Skaityti daugiau](https://ambcrypto.com/tron-ethereum-classic-zcash-price-analysis-13-march/) "
      ],
      "text/plain": [
       "<IPython.core.display.Markdown object>"
      ]
     },
     "execution_count": 6,
     "metadata": {},
     "output_type": "execute_result"
    }
   ],
   "source": [
    "#hide_input\n",
    "#md('##### {}'.format(titleBTC)) \n",
    "md(\"- {}{} {}{} [| Skaityti daugiau]({}) \".format(trx['title'],'. ', trx['body'], ' ...', trx['url']))"
   ]
  },
  {
   "cell_type": "code",
   "execution_count": 7,
   "id": "illegal-greece",
   "metadata": {
    "execution": {
     "iopub.execute_input": "2021-03-14T01:50:26.608277Z",
     "iopub.status.busy": "2021-03-14T01:50:26.607197Z",
     "iopub.status.idle": "2021-03-14T01:50:26.611613Z",
     "shell.execute_reply": "2021-03-14T01:50:26.612121Z"
    },
    "papermill": {
     "duration": 0.020353,
     "end_time": "2021-03-14T01:50:26.612247",
     "exception": false,
     "start_time": "2021-03-14T01:50:26.591894",
     "status": "completed"
    },
    "tags": []
   },
   "outputs": [
    {
     "data": {
      "text/markdown": [
       "- Ethereum ($ETH) Price ‘Will Go to 2500 Next Week’, Says Managing Partner of Moonrock Capital.  On Saturday (March 13), the Ethereum price went above the $1940 level for the first since February 21. Today’s surge prompted at least two crypto analysts to forecast that ETH would reach $2500 in the short term. According to data by TradingView, around 21:16 UTC, on crypto exchange Bitstamp, the Ethereum price went reached its […] ... [| Skaityti daugiau](https://www.cryptoglobe.com/latest/2021/03/ethereum-eth-price-will-go-to-2500-next-week-says-managing-partner-of-moonrock-capital/) "
      ],
      "text/plain": [
       "<IPython.core.display.Markdown object>"
      ]
     },
     "execution_count": 7,
     "metadata": {},
     "output_type": "execute_result"
    }
   ],
   "source": [
    "#hide_input\n",
    "#md('##### {}'.format(titleBTC)) \n",
    "md(\"- {}{} {}{} [| Skaityti daugiau]({}) \".format(eth['title'],'. ', eth['body'], ' ...', eth['url']))"
   ]
  },
  {
   "cell_type": "code",
   "execution_count": 8,
   "id": "sublime-lounge",
   "metadata": {
    "execution": {
     "iopub.execute_input": "2021-03-14T01:50:26.639681Z",
     "iopub.status.busy": "2021-03-14T01:50:26.638045Z",
     "iopub.status.idle": "2021-03-14T01:50:26.642450Z",
     "shell.execute_reply": "2021-03-14T01:50:26.641964Z"
    },
    "papermill": {
     "duration": 0.019135,
     "end_time": "2021-03-14T01:50:26.642558",
     "exception": false,
     "start_time": "2021-03-14T01:50:26.623423",
     "status": "completed"
    },
    "tags": []
   },
   "outputs": [
    {
     "data": {
      "text/markdown": [
       "- Ethereum Developers On Why They Don’t See Cardano & Binance Chain As Rivals.  Source: a video screenshot, Youtube/Max HollowayIt has been an interesting few weeks for Ethereum (ETH). Having hit an all-time high of USD 2,043 on February 20, it has been outshone by a couple of rival platforms and cryptoassets, Binance Smart Chain (and BNB) and Cardano (and ADA).While neither BNB nor ADA currently enjoy a market capitalization in excess of 20% of ETH’s, they’ve both ... [| Skaityti daugiau](https://cryptonews.com/exclusives/ethereum-developers-on-why-they-don-t-see-cardano-binance-ch-9529.htm) "
      ],
      "text/plain": [
       "<IPython.core.display.Markdown object>"
      ]
     },
     "execution_count": 8,
     "metadata": {},
     "output_type": "execute_result"
    }
   ],
   "source": [
    "#hide_input\n",
    "#md('##### {}'.format(titleBTC)) \n",
    "md(\"- {}{} {}{} [| Skaityti daugiau]({}) \".format(ada['title'],'. ', ada['body'], ' ...', ada['url']))"
   ]
  },
  {
   "cell_type": "code",
   "execution_count": 9,
   "id": "specified-ordering",
   "metadata": {
    "execution": {
     "iopub.execute_input": "2021-03-14T01:50:26.670539Z",
     "iopub.status.busy": "2021-03-14T01:50:26.669163Z",
     "iopub.status.idle": "2021-03-14T01:50:26.673370Z",
     "shell.execute_reply": "2021-03-14T01:50:26.673927Z"
    },
    "papermill": {
     "duration": 0.019766,
     "end_time": "2021-03-14T01:50:26.674058",
     "exception": false,
     "start_time": "2021-03-14T01:50:26.654292",
     "status": "completed"
    },
    "tags": []
   },
   "outputs": [
    {
     "data": {
      "text/markdown": [
       "- XRP Price Surges More Than 5%, Now Up 110% in 2021.  According to data by TradingView, on Saturday (March 13), around 14:57 UTC, on crypto exchange Bitstamp, the XRP price reached its intraday high of $0.46653. Currently (as of 22:20 UTC on March 13), XRP-USD is trading around $0.46124, which means that XRP-USD is up 5.32% in the past 24-hour period and up 110% in 2021. […] ... [| Skaityti daugiau](https://www.cryptoglobe.com/latest/2021/03/xrp-price-surges-more-than-5-now-up-110-in-2021/) "
      ],
      "text/plain": [
       "<IPython.core.display.Markdown object>"
      ]
     },
     "execution_count": 9,
     "metadata": {},
     "output_type": "execute_result"
    }
   ],
   "source": [
    "#hide_input\n",
    "#md('##### {}'.format(titleBTC)) \n",
    "md(\"- {}{} {}{} [| Skaityti daugiau]({}) \".format(exchange['title'],'. ', exchange['body'], ' ...', exchange['url']))"
   ]
  },
  {
   "cell_type": "code",
   "execution_count": null,
   "id": "tender-livestock",
   "metadata": {
    "papermill": {
     "duration": 0.011284,
     "end_time": "2021-03-14T01:50:26.697287",
     "exception": false,
     "start_time": "2021-03-14T01:50:26.686003",
     "status": "completed"
    },
    "tags": []
   },
   "outputs": [],
   "source": []
  },
  {
   "cell_type": "code",
   "execution_count": null,
   "id": "appreciated-diamond",
   "metadata": {
    "papermill": {
     "duration": 0.013788,
     "end_time": "2021-03-14T01:50:26.723501",
     "exception": false,
     "start_time": "2021-03-14T01:50:26.709713",
     "status": "completed"
    },
    "tags": []
   },
   "outputs": [],
   "source": []
  },
  {
   "cell_type": "code",
   "execution_count": null,
   "id": "romance-sweden",
   "metadata": {
    "papermill": {
     "duration": 0.011313,
     "end_time": "2021-03-14T01:50:26.746193",
     "exception": false,
     "start_time": "2021-03-14T01:50:26.734880",
     "status": "completed"
    },
    "tags": []
   },
   "outputs": [],
   "source": []
  },
  {
   "cell_type": "code",
   "execution_count": null,
   "id": "dietary-statistics",
   "metadata": {
    "papermill": {
     "duration": 0.010918,
     "end_time": "2021-03-14T01:50:26.767802",
     "exception": false,
     "start_time": "2021-03-14T01:50:26.756884",
     "status": "completed"
    },
    "tags": []
   },
   "outputs": [],
   "source": []
  }
 ],
 "metadata": {
  "kernelspec": {
   "display_name": "Python 3",
   "language": "python",
   "name": "python3"
  },
  "language_info": {
   "codemirror_mode": {
    "name": "ipython",
    "version": 3
   },
   "file_extension": ".py",
   "mimetype": "text/x-python",
   "name": "python",
   "nbconvert_exporter": "python",
   "pygments_lexer": "ipython3",
   "version": "3.6.13"
  },
  "papermill": {
   "default_parameters": {},
   "duration": 12.586769,
   "end_time": "2021-03-14T01:50:27.186854",
   "environment_variables": {},
   "exception": null,
   "input_path": "Market-News.ipynb",
   "output_path": "Market-News.ipynb",
   "parameters": {},
   "start_time": "2021-03-14T01:50:14.600085",
   "version": "2.2.2"
  }
 },
 "nbformat": 4,
 "nbformat_minor": 5
}