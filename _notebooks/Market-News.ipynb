{
 "cells": [
  {
   "cell_type": "markdown",
   "id": "short-greensboro",
   "metadata": {
    "papermill": {
     "duration": 0.015548,
     "end_time": "2021-06-18T02:08:50.442269",
     "exception": false,
     "start_time": "2021-06-18T02:08:50.426721",
     "status": "completed"
    },
    "tags": []
   },
   "source": [
    "# Kriptovaliutų naujienos"
   ]
  },
  {
   "cell_type": "code",
   "execution_count": 1,
   "id": "functioning-knowing",
   "metadata": {
    "execution": {
     "iopub.execute_input": "2021-06-18T02:08:50.472791Z",
     "iopub.status.busy": "2021-06-18T02:08:50.472212Z",
     "iopub.status.idle": "2021-06-18T02:08:51.622629Z",
     "shell.execute_reply": "2021-06-18T02:08:51.622120Z"
    },
    "papermill": {
     "duration": 1.170608,
     "end_time": "2021-06-18T02:08:51.622772",
     "exception": false,
     "start_time": "2021-06-18T02:08:50.452164",
     "status": "completed"
    },
    "tags": []
   },
   "outputs": [],
   "source": [
    "#hide_input\n",
    "import warnings\n",
    "warnings.filterwarnings('ignore')\n",
    "from scripts.read_data import read_api\n",
    "from scripts.read_data import read_news\n",
    "from scripts.read_data import read_covid\n",
    "import matplotlib.pyplot as plt \n",
    "from IPython.display import Markdown as md"
   ]
  },
  {
   "cell_type": "code",
   "execution_count": 2,
   "id": "shared-acceptance",
   "metadata": {
    "execution": {
     "iopub.execute_input": "2021-06-18T02:08:51.648486Z",
     "iopub.status.busy": "2021-06-18T02:08:51.647969Z",
     "iopub.status.idle": "2021-06-18T02:08:59.383507Z",
     "shell.execute_reply": "2021-06-18T02:08:59.382554Z"
    },
    "papermill": {
     "duration": 7.751262,
     "end_time": "2021-06-18T02:08:59.383645",
     "exception": false,
     "start_time": "2021-06-18T02:08:51.632383",
     "status": "completed"
    },
    "tags": []
   },
   "outputs": [],
   "source": [
    "#hide_input\n",
    "blockchain = read_news('blockchain') \n",
    "btc = read_news('btc') \n",
    "xrp = read_news('xrp') \n",
    "trx = read_news('trx') \n",
    "eth = read_news('eth')  \n",
    "ada = read_news('ada')\n",
    "exchange = read_news('exchange') "
   ]
  },
  {
   "cell_type": "code",
   "execution_count": 3,
   "id": "synthetic-notion",
   "metadata": {
    "execution": {
     "iopub.execute_input": "2021-06-18T02:08:59.407432Z",
     "iopub.status.busy": "2021-06-18T02:08:59.406945Z",
     "iopub.status.idle": "2021-06-18T02:08:59.409595Z",
     "shell.execute_reply": "2021-06-18T02:08:59.409141Z"
    },
    "papermill": {
     "duration": 0.017301,
     "end_time": "2021-06-18T02:08:59.409710",
     "exception": false,
     "start_time": "2021-06-18T02:08:59.392409",
     "status": "completed"
    },
    "tags": []
   },
   "outputs": [
    {
     "data": {
      "text/markdown": [
       "- Rick and Morty creator joins Fox’s new $100 million NFT and blockchain effort.  Dan Harmon, the man behind the world-famous mad scientist show Rick and Morty, has been signed on by Fox to create a new animated series that will be distributed using blockchain technology and advertise via nonfungible tokens (NFTs), entertainment site Hollywood Reporter said today. The post Rick and Morty creator joins Fox&#8217;s new $100 million NFT and blockchain effort appeared first on CryptoSlate. ... [| Skaityti daugiau](https://cryptoslate.com/rick-and-morty-creator-joins-foxs-new-100-million-nft-and-blockchain-effort/) "
      ],
      "text/plain": [
       "<IPython.core.display.Markdown object>"
      ]
     },
     "execution_count": 3,
     "metadata": {},
     "output_type": "execute_result"
    }
   ],
   "source": [
    "#hide_input\n",
    "#md('##### {}'.format(titleBTC)) \n",
    "md(\"- {}{} {}{} [| Skaityti daugiau]({}) \".format(blockchain['title'],'. ', blockchain['body'], ' ...', blockchain['url']))"
   ]
  },
  {
   "cell_type": "code",
   "execution_count": 4,
   "id": "aging-caution",
   "metadata": {
    "execution": {
     "iopub.execute_input": "2021-06-18T02:08:59.432565Z",
     "iopub.status.busy": "2021-06-18T02:08:59.432097Z",
     "iopub.status.idle": "2021-06-18T02:08:59.435104Z",
     "shell.execute_reply": "2021-06-18T02:08:59.435503Z"
    },
    "papermill": {
     "duration": 0.016906,
     "end_time": "2021-06-18T02:08:59.435609",
     "exception": false,
     "start_time": "2021-06-18T02:08:59.418703",
     "status": "completed"
    },
    "tags": []
   },
   "outputs": [
    {
     "data": {
      "text/markdown": [
       "- Traders search for bearish signals after Bitcoin futures enter backwardation.  Analysts search for bearish signals after the June BTC futures trade below spot exchange pricing.  ... [| Skaityti daugiau](https://cointelegraph.com/news/traders-search-for-bearish-signals-after-bitcoin-futures-enter-backwardation) "
      ],
      "text/plain": [
       "<IPython.core.display.Markdown object>"
      ]
     },
     "execution_count": 4,
     "metadata": {},
     "output_type": "execute_result"
    }
   ],
   "source": [
    "#hide_input\n",
    "#md('##### {}'.format(titleBTC)) \n",
    "md(\"- {}{} {}{} [| Skaityti daugiau]({}) \".format(btc['title'],'. ', btc['body'], ' ...', btc['url']))"
   ]
  },
  {
   "cell_type": "code",
   "execution_count": 5,
   "id": "organic-actress",
   "metadata": {
    "execution": {
     "iopub.execute_input": "2021-06-18T02:08:59.457950Z",
     "iopub.status.busy": "2021-06-18T02:08:59.457402Z",
     "iopub.status.idle": "2021-06-18T02:08:59.460328Z",
     "shell.execute_reply": "2021-06-18T02:08:59.459905Z"
    },
    "papermill": {
     "duration": 0.01635,
     "end_time": "2021-06-18T02:08:59.460431",
     "exception": false,
     "start_time": "2021-06-18T02:08:59.444081",
     "status": "completed"
    },
    "tags": []
   },
   "outputs": [
    {
     "data": {
      "text/markdown": [
       "- XRP, Cardano, Dogecoin Price Analysis: 17 June.  As the larger altcoin market remained relatively volatile, major alts like ADA, XRP, and Dogecoin oscillated between restricted price ranges. In the ongoing legal battle between Ripple Labs, its execs, and the SEC, the court has provided back-to-back rulings over the past 24 hours. On the other hand, the Cardano team recently released AlonzoBlue 2.0 [&#8230;] ... [| Skaityti daugiau](https://ambcrypto.com/xrp-cardano-dogecoin-price-analysis-17-june/) "
      ],
      "text/plain": [
       "<IPython.core.display.Markdown object>"
      ]
     },
     "execution_count": 5,
     "metadata": {},
     "output_type": "execute_result"
    }
   ],
   "source": [
    "#hide_input\n",
    "#md('##### {}'.format(titleBTC)) \n",
    "md(\"- {}{} {}{} [| Skaityti daugiau]({}) \".format(xrp['title'],'. ', xrp['body'], ' ...', xrp['url']))"
   ]
  },
  {
   "cell_type": "code",
   "execution_count": 6,
   "id": "prompt-farmer",
   "metadata": {
    "execution": {
     "iopub.execute_input": "2021-06-18T02:08:59.485030Z",
     "iopub.status.busy": "2021-06-18T02:08:59.484505Z",
     "iopub.status.idle": "2021-06-18T02:08:59.487407Z",
     "shell.execute_reply": "2021-06-18T02:08:59.487836Z"
    },
    "papermill": {
     "duration": 0.01746,
     "end_time": "2021-06-18T02:08:59.487938",
     "exception": false,
     "start_time": "2021-06-18T02:08:59.470478",
     "status": "completed"
    },
    "tags": []
   },
   "outputs": [
    {
     "data": {
      "text/markdown": [
       "- Tron (TRX) Ranks 1st in Transactions Per Second, Eclipsing ADA and XRP.  According to Coinmetrics, Tron is the fastest blockchain in terms of transactions per second Tron&#8217;s throughput exceeds that of Bitcoin, Ethereum, Cardano and XRP Tron&#8217;s users continue to grow with the network exceeding 40 million unique accounts However, TRX is currently trading above the 200-day moving average with a potential death cross, only weeks away The Tron (TRX) network ranks first in terms of handling the highest number of transactions per second. This milestone was observed by Tron community member [&#8230;] ... [| Skaityti daugiau](https://en.ethereumworldnews.com/tron-trx-ranks-1st-in-transactions-per-second-eclipsing-ada-and-xrp/) "
      ],
      "text/plain": [
       "<IPython.core.display.Markdown object>"
      ]
     },
     "execution_count": 6,
     "metadata": {},
     "output_type": "execute_result"
    }
   ],
   "source": [
    "#hide_input\n",
    "#md('##### {}'.format(titleBTC)) \n",
    "md(\"- {}{} {}{} [| Skaityti daugiau]({}) \".format(trx['title'],'. ', trx['body'], ' ...', trx['url']))"
   ]
  },
  {
   "cell_type": "code",
   "execution_count": 7,
   "id": "illegal-greece",
   "metadata": {
    "execution": {
     "iopub.execute_input": "2021-06-18T02:08:59.512609Z",
     "iopub.status.busy": "2021-06-18T02:08:59.511576Z",
     "iopub.status.idle": "2021-06-18T02:08:59.515152Z",
     "shell.execute_reply": "2021-06-18T02:08:59.515558Z"
    },
    "papermill": {
     "duration": 0.017142,
     "end_time": "2021-06-18T02:08:59.515677",
     "exception": false,
     "start_time": "2021-06-18T02:08:59.498535",
     "status": "completed"
    },
    "tags": []
   },
   "outputs": [
    {
     "data": {
      "text/markdown": [
       "- FTX’s Sam Bankman-Fried: Institutions are ‘desperate’ for crypto.  Is SBF going to lobby the government on behalf of crypto? How badly do institutions want in on the blockchain game? When's a moat an impediment to growth, and not a protective shield? ... [| Skaityti daugiau](https://cointelegraph.com/news/ftx-s-sam-bankman-fried-institutions-are-desperate-for-crypto) "
      ],
      "text/plain": [
       "<IPython.core.display.Markdown object>"
      ]
     },
     "execution_count": 7,
     "metadata": {},
     "output_type": "execute_result"
    }
   ],
   "source": [
    "#hide_input\n",
    "#md('##### {}'.format(titleBTC)) \n",
    "md(\"- {}{} {}{} [| Skaityti daugiau]({}) \".format(eth['title'],'. ', eth['body'], ' ...', eth['url']))"
   ]
  },
  {
   "cell_type": "code",
   "execution_count": 8,
   "id": "sublime-lounge",
   "metadata": {
    "execution": {
     "iopub.execute_input": "2021-06-18T02:08:59.541519Z",
     "iopub.status.busy": "2021-06-18T02:08:59.540996Z",
     "iopub.status.idle": "2021-06-18T02:08:59.544245Z",
     "shell.execute_reply": "2021-06-18T02:08:59.543788Z"
    },
    "papermill": {
     "duration": 0.018785,
     "end_time": "2021-06-18T02:08:59.544354",
     "exception": false,
     "start_time": "2021-06-18T02:08:59.525569",
     "status": "completed"
    },
    "tags": []
   },
   "outputs": [
    {
     "data": {
      "text/markdown": [
       "- XRP, Cardano, Dogecoin Price Analysis: 17 June.  As the larger altcoin market remained relatively volatile, major alts like ADA, XRP, and Dogecoin oscillated between restricted price ranges. In the ongoing legal battle between Ripple Labs, its execs, and the SEC, the court has provided back-to-back rulings over the past 24 hours. On the other hand, the Cardano team recently released AlonzoBlue 2.0 [&#8230;] ... [| Skaityti daugiau](https://ambcrypto.com/xrp-cardano-dogecoin-price-analysis-17-june/) "
      ],
      "text/plain": [
       "<IPython.core.display.Markdown object>"
      ]
     },
     "execution_count": 8,
     "metadata": {},
     "output_type": "execute_result"
    }
   ],
   "source": [
    "#hide_input\n",
    "#md('##### {}'.format(titleBTC)) \n",
    "md(\"- {}{} {}{} [| Skaityti daugiau]({}) \".format(ada['title'],'. ', ada['body'], ' ...', ada['url']))"
   ]
  },
  {
   "cell_type": "code",
   "execution_count": 9,
   "id": "specified-ordering",
   "metadata": {
    "execution": {
     "iopub.execute_input": "2021-06-18T02:08:59.570670Z",
     "iopub.status.busy": "2021-06-18T02:08:59.570202Z",
     "iopub.status.idle": "2021-06-18T02:08:59.572922Z",
     "shell.execute_reply": "2021-06-18T02:08:59.572489Z"
    },
    "papermill": {
     "duration": 0.017684,
     "end_time": "2021-06-18T02:08:59.573024",
     "exception": false,
     "start_time": "2021-06-18T02:08:59.555340",
     "status": "completed"
    },
    "tags": []
   },
   "outputs": [
    {
     "data": {
      "text/markdown": [
       "- Traders search for bearish signals after Bitcoin futures enter backwardation.  Analysts search for bearish signals after the June BTC futures trade below spot exchange pricing.  ... [| Skaityti daugiau](https://cointelegraph.com/news/traders-search-for-bearish-signals-after-bitcoin-futures-enter-backwardation) "
      ],
      "text/plain": [
       "<IPython.core.display.Markdown object>"
      ]
     },
     "execution_count": 9,
     "metadata": {},
     "output_type": "execute_result"
    }
   ],
   "source": [
    "#hide_input\n",
    "#md('##### {}'.format(titleBTC)) \n",
    "md(\"- {}{} {}{} [| Skaityti daugiau]({}) \".format(exchange['title'],'. ', exchange['body'], ' ...', exchange['url']))"
   ]
  },
  {
   "cell_type": "code",
   "execution_count": null,
   "id": "tender-livestock",
   "metadata": {
    "papermill": {
     "duration": 0.010879,
     "end_time": "2021-06-18T02:08:59.595043",
     "exception": false,
     "start_time": "2021-06-18T02:08:59.584164",
     "status": "completed"
    },
    "tags": []
   },
   "outputs": [],
   "source": []
  },
  {
   "cell_type": "code",
   "execution_count": null,
   "id": "appreciated-diamond",
   "metadata": {
    "papermill": {
     "duration": 0.01091,
     "end_time": "2021-06-18T02:08:59.617413",
     "exception": false,
     "start_time": "2021-06-18T02:08:59.606503",
     "status": "completed"
    },
    "tags": []
   },
   "outputs": [],
   "source": []
  },
  {
   "cell_type": "code",
   "execution_count": null,
   "id": "romance-sweden",
   "metadata": {
    "papermill": {
     "duration": 0.011053,
     "end_time": "2021-06-18T02:08:59.639387",
     "exception": false,
     "start_time": "2021-06-18T02:08:59.628334",
     "status": "completed"
    },
    "tags": []
   },
   "outputs": [],
   "source": []
  },
  {
   "cell_type": "code",
   "execution_count": null,
   "id": "dietary-statistics",
   "metadata": {
    "papermill": {
     "duration": 0.010799,
     "end_time": "2021-06-18T02:08:59.660872",
     "exception": false,
     "start_time": "2021-06-18T02:08:59.650073",
     "status": "completed"
    },
    "tags": []
   },
   "outputs": [],
   "source": []
  }
 ],
 "metadata": {
  "kernelspec": {
   "display_name": "Python 3",
   "language": "python",
   "name": "python3"
  },
  "language_info": {
   "codemirror_mode": {
    "name": "ipython",
    "version": 3
   },
   "file_extension": ".py",
   "mimetype": "text/x-python",
   "name": "python",
   "nbconvert_exporter": "python",
   "pygments_lexer": "ipython3",
   "version": "3.6.13"
  },
  "papermill": {
   "default_parameters": {},
   "duration": 10.834262,
   "end_time": "2021-06-18T02:09:00.078831",
   "environment_variables": {},
   "exception": null,
   "input_path": "Market-News.ipynb",
   "output_path": "Market-News.ipynb",
   "parameters": {},
   "start_time": "2021-06-18T02:08:49.244569",
   "version": "2.2.2"
  }
 },
 "nbformat": 4,
 "nbformat_minor": 5
}