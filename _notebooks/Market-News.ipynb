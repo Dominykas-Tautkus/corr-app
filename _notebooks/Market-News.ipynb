{
 "cells": [
  {
   "cell_type": "markdown",
   "id": "short-greensboro",
   "metadata": {
    "papermill": {
     "duration": 0.014209,
     "end_time": "2021-03-05T01:45:52.867403",
     "exception": false,
     "start_time": "2021-03-05T01:45:52.853194",
     "status": "completed"
    },
    "tags": []
   },
   "source": [
    "# Kriptovaliutų naujienos"
   ]
  },
  {
   "cell_type": "code",
   "execution_count": 1,
   "id": "functioning-knowing",
   "metadata": {
    "execution": {
     "iopub.execute_input": "2021-03-05T01:45:52.899106Z",
     "iopub.status.busy": "2021-03-05T01:45:52.898441Z",
     "iopub.status.idle": "2021-03-05T01:45:54.208776Z",
     "shell.execute_reply": "2021-03-05T01:45:54.208154Z"
    },
    "papermill": {
     "duration": 1.330982,
     "end_time": "2021-03-05T01:45:54.208930",
     "exception": false,
     "start_time": "2021-03-05T01:45:52.877948",
     "status": "completed"
    },
    "tags": []
   },
   "outputs": [],
   "source": [
    "#hide_input\n",
    "import warnings\n",
    "warnings.filterwarnings('ignore')\n",
    "from scripts.read_data import read_api\n",
    "from scripts.read_data import read_news\n",
    "from scripts.read_data import read_covid\n",
    "import matplotlib.pyplot as plt \n",
    "from IPython.display import Markdown as md"
   ]
  },
  {
   "cell_type": "code",
   "execution_count": 2,
   "id": "shared-acceptance",
   "metadata": {
    "execution": {
     "iopub.execute_input": "2021-03-05T01:45:54.236226Z",
     "iopub.status.busy": "2021-03-05T01:45:54.235494Z",
     "iopub.status.idle": "2021-03-05T01:46:02.634280Z",
     "shell.execute_reply": "2021-03-05T01:46:02.633766Z"
    },
    "papermill": {
     "duration": 8.414729,
     "end_time": "2021-03-05T01:46:02.634410",
     "exception": false,
     "start_time": "2021-03-05T01:45:54.219681",
     "status": "completed"
    },
    "tags": []
   },
   "outputs": [],
   "source": [
    "#hide_input\n",
    "blockchain = read_news('blockchain') \n",
    "btc = read_news('btc') \n",
    "xrp = read_news('xrp') \n",
    "trx = read_news('trx') \n",
    "eth = read_news('eth')  \n",
    "ada = read_news('ada')\n",
    "exchange = read_news('exchange') "
   ]
  },
  {
   "cell_type": "code",
   "execution_count": 3,
   "id": "synthetic-notion",
   "metadata": {
    "execution": {
     "iopub.execute_input": "2021-03-05T01:46:02.661028Z",
     "iopub.status.busy": "2021-03-05T01:46:02.660438Z",
     "iopub.status.idle": "2021-03-05T01:46:02.663689Z",
     "shell.execute_reply": "2021-03-05T01:46:02.662905Z"
    },
    "papermill": {
     "duration": 0.019217,
     "end_time": "2021-03-05T01:46:02.663843",
     "exception": false,
     "start_time": "2021-03-05T01:46:02.644626",
     "status": "completed"
    },
    "tags": []
   },
   "outputs": [
    {
     "data": {
      "text/markdown": [
       "- Spike in digital land and NFT sales push Axie Infinity (AXS) price to new highs.  Axie Infinity price rallied 125% to a new all-time high as investor interest in blockchain gaming, digital land and NFT collectibles increases.  ... [| Skaityti daugiau](https://cointelegraph.com/news/spike-in-digital-land-and-nft-sales-push-axie-infinity-axs-price-to-new-highs) "
      ],
      "text/plain": [
       "<IPython.core.display.Markdown object>"
      ]
     },
     "execution_count": 3,
     "metadata": {},
     "output_type": "execute_result"
    }
   ],
   "source": [
    "#hide_input\n",
    "#md('##### {}'.format(titleBTC)) \n",
    "md(\"- {}{} {}{} [| Skaityti daugiau]({}) \".format(blockchain['title'],'. ', blockchain['body'], ' ...', blockchain['url']))"
   ]
  },
  {
   "cell_type": "code",
   "execution_count": 4,
   "id": "aging-caution",
   "metadata": {
    "execution": {
     "iopub.execute_input": "2021-03-05T01:46:02.691136Z",
     "iopub.status.busy": "2021-03-05T01:46:02.690512Z",
     "iopub.status.idle": "2021-03-05T01:46:02.693584Z",
     "shell.execute_reply": "2021-03-05T01:46:02.694072Z"
    },
    "papermill": {
     "duration": 0.018963,
     "end_time": "2021-03-05T01:46:02.694182",
     "exception": false,
     "start_time": "2021-03-05T01:46:02.675219",
     "status": "completed"
    },
    "tags": []
   },
   "outputs": [
    {
     "data": {
      "text/markdown": [
       "- Bitcoin “Cheat Sheet” Calls For Next Leg Up To $77K.  Bitcoin price is taking its time consolidating around $50,000 but could be preparing for the next major leg up to around $77,000 per coin, according to what one trader calls a &#8220;cheat sheet&#8221; to the current crypto market bull run. The &#8220;cheat sheet&#8221; is a fractal from the past that is playing out once again [&#8230;] ... [| Skaityti daugiau](https://www.newsbtc.com/analysis/btc/bitcoin-cheat-sheet-next-leg-up-77k/) "
      ],
      "text/plain": [
       "<IPython.core.display.Markdown object>"
      ]
     },
     "execution_count": 4,
     "metadata": {},
     "output_type": "execute_result"
    }
   ],
   "source": [
    "#hide_input\n",
    "#md('##### {}'.format(titleBTC)) \n",
    "md(\"- {}{} {}{} [| Skaityti daugiau]({}) \".format(btc['title'],'. ', btc['body'], ' ...', btc['url']))"
   ]
  },
  {
   "cell_type": "code",
   "execution_count": 5,
   "id": "organic-actress",
   "metadata": {
    "execution": {
     "iopub.execute_input": "2021-03-05T01:46:02.722624Z",
     "iopub.status.busy": "2021-03-05T01:46:02.721962Z",
     "iopub.status.idle": "2021-03-05T01:46:02.724752Z",
     "shell.execute_reply": "2021-03-05T01:46:02.725202Z"
    },
    "papermill": {
     "duration": 0.018663,
     "end_time": "2021-03-05T01:46:02.725311",
     "exception": false,
     "start_time": "2021-03-05T01:46:02.706648",
     "status": "completed"
    },
    "tags": []
   },
   "outputs": [
    {
     "data": {
      "text/markdown": [
       "- Ripple Execs Move to Dismiss SEC Lawsuit Over XRP Sales.  Ripple’s executive chairman Charis Larsen and its CEO Brad Garlinghouse have asked U.S. courts to dismiss the U.S. Securities and Exchange Commission’s (SEC) lawsuit alleging securities violations associated with the sale of the XRP token against them. A legal letter informing Judge Analisa Torres at the U.S. District Court for the Southern District of New […] ... [| Skaityti daugiau](https://www.cryptoglobe.com/latest/2021/03/ripple-execs-move-to-dismiss-sec-lawsuit-over-xrp-sales/) "
      ],
      "text/plain": [
       "<IPython.core.display.Markdown object>"
      ]
     },
     "execution_count": 5,
     "metadata": {},
     "output_type": "execute_result"
    }
   ],
   "source": [
    "#hide_input\n",
    "#md('##### {}'.format(titleBTC)) \n",
    "md(\"- {}{} {}{} [| Skaityti daugiau]({}) \".format(xrp['title'],'. ', xrp['body'], ' ...', xrp['url']))"
   ]
  },
  {
   "cell_type": "code",
   "execution_count": 6,
   "id": "prompt-farmer",
   "metadata": {
    "execution": {
     "iopub.execute_input": "2021-03-05T01:46:02.754464Z",
     "iopub.status.busy": "2021-03-05T01:46:02.753816Z",
     "iopub.status.idle": "2021-03-05T01:46:02.757667Z",
     "shell.execute_reply": "2021-03-05T01:46:02.758308Z"
    },
    "papermill": {
     "duration": 0.019713,
     "end_time": "2021-03-05T01:46:02.758419",
     "exception": false,
     "start_time": "2021-03-05T01:46:02.738706",
     "status": "completed"
    },
    "tags": []
   },
   "outputs": [
    {
     "data": {
      "text/markdown": [
       "- Bitcoin Cash, Tron, Elrond Price Analysis: 04 March.  Bitcoin Cash was trading just above a level of support at $507 as bearish momentum took sway. Tron and Elrond appeared to regain some bullish momentum though as while Tron climbed past $0.05, EGLD broke out of its descending channel pattern over the past few days. Bitcoin Cash [BCH] BCH noted a bearish divergence on [&#8230;] ... [| Skaityti daugiau](https://ambcrypto.com/bitcoin-cash-tron-elrond-price-analysis-04-march/) "
      ],
      "text/plain": [
       "<IPython.core.display.Markdown object>"
      ]
     },
     "execution_count": 6,
     "metadata": {},
     "output_type": "execute_result"
    }
   ],
   "source": [
    "#hide_input\n",
    "#md('##### {}'.format(titleBTC)) \n",
    "md(\"- {}{} {}{} [| Skaityti daugiau]({}) \".format(trx['title'],'. ', trx['body'], ' ...', trx['url']))"
   ]
  },
  {
   "cell_type": "code",
   "execution_count": 7,
   "id": "illegal-greece",
   "metadata": {
    "execution": {
     "iopub.execute_input": "2021-03-05T01:46:02.785035Z",
     "iopub.status.busy": "2021-03-05T01:46:02.784345Z",
     "iopub.status.idle": "2021-03-05T01:46:02.787988Z",
     "shell.execute_reply": "2021-03-05T01:46:02.788724Z"
    },
    "papermill": {
     "duration": 0.018814,
     "end_time": "2021-03-05T01:46:02.788859",
     "exception": false,
     "start_time": "2021-03-05T01:46:02.770045",
     "status": "completed"
    },
    "tags": []
   },
   "outputs": [
    {
     "data": {
      "text/markdown": [
       "- Ethereum gas fees drop as daily DEX and DeFi volumes decline.  Ethereum fees have pulled back from their recent highs alongside a decline in DeFi transaction volumes but the rise of NFTs could push transaction costs back to new highs. ... [| Skaityti daugiau](https://cointelegraph.com/news/ethereum-gas-fees-drop-as-daily-dex-and-defi-volumes-decline) "
      ],
      "text/plain": [
       "<IPython.core.display.Markdown object>"
      ]
     },
     "execution_count": 7,
     "metadata": {},
     "output_type": "execute_result"
    }
   ],
   "source": [
    "#hide_input\n",
    "#md('##### {}'.format(titleBTC)) \n",
    "md(\"- {}{} {}{} [| Skaityti daugiau]({}) \".format(eth['title'],'. ', eth['body'], ' ...', eth['url']))"
   ]
  },
  {
   "cell_type": "code",
   "execution_count": 8,
   "id": "sublime-lounge",
   "metadata": {
    "execution": {
     "iopub.execute_input": "2021-03-05T01:46:02.816637Z",
     "iopub.status.busy": "2021-03-05T01:46:02.815933Z",
     "iopub.status.idle": "2021-03-05T01:46:02.819443Z",
     "shell.execute_reply": "2021-03-05T01:46:02.820135Z"
    },
    "papermill": {
     "duration": 0.020061,
     "end_time": "2021-03-05T01:46:02.820282",
     "exception": false,
     "start_time": "2021-03-05T01:46:02.800221",
     "status": "completed"
    },
    "tags": []
   },
   "outputs": [
    {
     "data": {
      "text/markdown": [
       "- Cardano Price Analysis: Cooldown? ADA Overtaken By BNB Following 9% Daily Plunge.  ADA is down by a total of 9% over the past 24 hours. This resulted in it losing the 3rd spot among the major cryptocurrencies by market cap. ... [| Skaityti daugiau](https://cryptopotato.com/cardano-price-analysis-cooldown-ada-overtaken-by-bnb-following-9-daily-plunge/) "
      ],
      "text/plain": [
       "<IPython.core.display.Markdown object>"
      ]
     },
     "execution_count": 8,
     "metadata": {},
     "output_type": "execute_result"
    }
   ],
   "source": [
    "#hide_input\n",
    "#md('##### {}'.format(titleBTC)) \n",
    "md(\"- {}{} {}{} [| Skaityti daugiau]({}) \".format(ada['title'],'. ', ada['body'], ' ...', ada['url']))"
   ]
  },
  {
   "cell_type": "code",
   "execution_count": 9,
   "id": "specified-ordering",
   "metadata": {
    "execution": {
     "iopub.execute_input": "2021-03-05T01:46:02.847843Z",
     "iopub.status.busy": "2021-03-05T01:46:02.847171Z",
     "iopub.status.idle": "2021-03-05T01:46:02.850666Z",
     "shell.execute_reply": "2021-03-05T01:46:02.851398Z"
    },
    "papermill": {
     "duration": 0.019567,
     "end_time": "2021-03-05T01:46:02.851524",
     "exception": false,
     "start_time": "2021-03-05T01:46:02.831957",
     "status": "completed"
    },
    "tags": []
   },
   "outputs": [
    {
     "data": {
      "text/markdown": [
       "- Ripple Execs Move to Dismiss SEC Lawsuit Over XRP Sales.  Ripple’s executive chairman Charis Larsen and its CEO Brad Garlinghouse have asked U.S. courts to dismiss the U.S. Securities and Exchange Commission’s (SEC) lawsuit alleging securities violations associated with the sale of the XRP token against them. A legal letter informing Judge Analisa Torres at the U.S. District Court for the Southern District of New […] ... [| Skaityti daugiau](https://www.cryptoglobe.com/latest/2021/03/ripple-execs-move-to-dismiss-sec-lawsuit-over-xrp-sales/) "
      ],
      "text/plain": [
       "<IPython.core.display.Markdown object>"
      ]
     },
     "execution_count": 9,
     "metadata": {},
     "output_type": "execute_result"
    }
   ],
   "source": [
    "#hide_input\n",
    "#md('##### {}'.format(titleBTC)) \n",
    "md(\"- {}{} {}{} [| Skaityti daugiau]({}) \".format(exchange['title'],'. ', exchange['body'], ' ...', exchange['url']))"
   ]
  },
  {
   "cell_type": "code",
   "execution_count": null,
   "id": "tender-livestock",
   "metadata": {
    "papermill": {
     "duration": 0.013135,
     "end_time": "2021-03-05T01:46:02.876581",
     "exception": false,
     "start_time": "2021-03-05T01:46:02.863446",
     "status": "completed"
    },
    "tags": []
   },
   "outputs": [],
   "source": []
  },
  {
   "cell_type": "code",
   "execution_count": null,
   "id": "appreciated-diamond",
   "metadata": {
    "papermill": {
     "duration": 0.013381,
     "end_time": "2021-03-05T01:46:02.903580",
     "exception": false,
     "start_time": "2021-03-05T01:46:02.890199",
     "status": "completed"
    },
    "tags": []
   },
   "outputs": [],
   "source": []
  },
  {
   "cell_type": "code",
   "execution_count": null,
   "id": "romance-sweden",
   "metadata": {
    "papermill": {
     "duration": 0.01244,
     "end_time": "2021-03-05T01:46:02.930013",
     "exception": false,
     "start_time": "2021-03-05T01:46:02.917573",
     "status": "completed"
    },
    "tags": []
   },
   "outputs": [],
   "source": []
  },
  {
   "cell_type": "code",
   "execution_count": null,
   "id": "dietary-statistics",
   "metadata": {
    "papermill": {
     "duration": 0.01354,
     "end_time": "2021-03-05T01:46:02.956680",
     "exception": false,
     "start_time": "2021-03-05T01:46:02.943140",
     "status": "completed"
    },
    "tags": []
   },
   "outputs": [],
   "source": []
  }
 ],
 "metadata": {
  "kernelspec": {
   "display_name": "Python 3",
   "language": "python",
   "name": "python3"
  },
  "language_info": {
   "codemirror_mode": {
    "name": "ipython",
    "version": 3
   },
   "file_extension": ".py",
   "mimetype": "text/x-python",
   "name": "python",
   "nbconvert_exporter": "python",
   "pygments_lexer": "ipython3",
   "version": "3.6.13"
  },
  "papermill": {
   "default_parameters": {},
   "duration": 11.594209,
   "end_time": "2021-03-05T01:46:03.376624",
   "environment_variables": {},
   "exception": null,
   "input_path": "Market-News.ipynb",
   "output_path": "Market-News.ipynb",
   "parameters": {},
   "start_time": "2021-03-05T01:45:51.782415",
   "version": "2.2.2"
  }
 },
 "nbformat": 4,
 "nbformat_minor": 5
}