{
 "cells": [
  {
   "cell_type": "markdown",
   "id": "short-greensboro",
   "metadata": {
    "papermill": {
     "duration": 0.012925,
     "end_time": "2021-07-12T01:57:57.361154",
     "exception": false,
     "start_time": "2021-07-12T01:57:57.348229",
     "status": "completed"
    },
    "tags": []
   },
   "source": [
    "# Kriptovaliutų naujienos"
   ]
  },
  {
   "cell_type": "code",
   "execution_count": 1,
   "id": "functioning-knowing",
   "metadata": {
    "execution": {
     "iopub.execute_input": "2021-07-12T01:57:57.389342Z",
     "iopub.status.busy": "2021-07-12T01:57:57.388832Z",
     "iopub.status.idle": "2021-07-12T01:57:58.510322Z",
     "shell.execute_reply": "2021-07-12T01:57:58.509791Z"
    },
    "papermill": {
     "duration": 1.139615,
     "end_time": "2021-07-12T01:57:58.510465",
     "exception": false,
     "start_time": "2021-07-12T01:57:57.370850",
     "status": "completed"
    },
    "tags": []
   },
   "outputs": [],
   "source": [
    "#hide_input\n",
    "import warnings\n",
    "warnings.filterwarnings('ignore')\n",
    "from scripts.read_data import read_api\n",
    "from scripts.read_data import read_news\n",
    "from scripts.read_data import read_covid\n",
    "import matplotlib.pyplot as plt \n",
    "from IPython.display import Markdown as md"
   ]
  },
  {
   "cell_type": "code",
   "execution_count": 2,
   "id": "shared-acceptance",
   "metadata": {
    "execution": {
     "iopub.execute_input": "2021-07-12T01:57:58.534915Z",
     "iopub.status.busy": "2021-07-12T01:57:58.534416Z",
     "iopub.status.idle": "2021-07-12T01:58:06.752110Z",
     "shell.execute_reply": "2021-07-12T01:58:06.751267Z"
    },
    "papermill": {
     "duration": 8.231901,
     "end_time": "2021-07-12T01:58:06.752233",
     "exception": false,
     "start_time": "2021-07-12T01:57:58.520332",
     "status": "completed"
    },
    "tags": []
   },
   "outputs": [],
   "source": [
    "#hide_input\n",
    "blockchain = read_news('blockchain') \n",
    "btc = read_news('btc') \n",
    "xrp = read_news('xrp') \n",
    "trx = read_news('trx') \n",
    "eth = read_news('eth')  \n",
    "ada = read_news('ada')\n",
    "exchange = read_news('exchange') "
   ]
  },
  {
   "cell_type": "code",
   "execution_count": 3,
   "id": "synthetic-notion",
   "metadata": {
    "execution": {
     "iopub.execute_input": "2021-07-12T01:58:06.776559Z",
     "iopub.status.busy": "2021-07-12T01:58:06.776005Z",
     "iopub.status.idle": "2021-07-12T01:58:06.778786Z",
     "shell.execute_reply": "2021-07-12T01:58:06.779244Z"
    },
    "papermill": {
     "duration": 0.017702,
     "end_time": "2021-07-12T01:58:06.779359",
     "exception": false,
     "start_time": "2021-07-12T01:58:06.761657",
     "status": "completed"
    },
    "tags": []
   },
   "outputs": [
    {
     "data": {
      "text/markdown": [
       "- Cardano’s Hoskinson joins Ethereum Classic Cooperative’s Board of Directors.  Ahead of Ethereum Classic’s Magneto hard fork mainnet launch, the co-operative behind the network’s development has made some important changes. The organization recently announced its decision to include Cardano founder Charles Hoskinson as a member of its Board of Directors. Hoskinson was a co-founder of the Ethereum blockchain and has been a strong supporter of [&#8230;] ... [| Skaityti daugiau](https://ambcrypto.com/cardanos-hoskinson-joins-ethereum-classic-cooperatives-board-of-directors/) "
      ],
      "text/plain": [
       "<IPython.core.display.Markdown object>"
      ]
     },
     "execution_count": 3,
     "metadata": {},
     "output_type": "execute_result"
    }
   ],
   "source": [
    "#hide_input\n",
    "#md('##### {}'.format(titleBTC)) \n",
    "md(\"- {}{} {}{} [| Skaityti daugiau]({}) \".format(blockchain['title'],'. ', blockchain['body'], ' ...', blockchain['url']))"
   ]
  },
  {
   "cell_type": "code",
   "execution_count": 4,
   "id": "aging-caution",
   "metadata": {
    "execution": {
     "iopub.execute_input": "2021-07-12T01:58:06.801950Z",
     "iopub.status.busy": "2021-07-12T01:58:06.801458Z",
     "iopub.status.idle": "2021-07-12T01:58:06.803895Z",
     "shell.execute_reply": "2021-07-12T01:58:06.804350Z"
    },
    "papermill": {
     "duration": 0.015785,
     "end_time": "2021-07-12T01:58:06.804473",
     "exception": false,
     "start_time": "2021-07-12T01:58:06.788688",
     "status": "completed"
    },
    "tags": []
   },
   "outputs": [
    {
     "data": {
      "text/markdown": [
       "- 15 Years Behind Bars for a Swedish Man Who Stole Over $16 Million in Bitcoin.  Roger Nils-Jonas Karlsson will spend the next 180 months in federal prison for stealing $16 million in digital assets. ... [| Skaityti daugiau](https://cryptopotato.com/15-years-behind-bars-for-a-swedish-man-who-stole-over-16-million-in-bitcoin/) "
      ],
      "text/plain": [
       "<IPython.core.display.Markdown object>"
      ]
     },
     "execution_count": 4,
     "metadata": {},
     "output_type": "execute_result"
    }
   ],
   "source": [
    "#hide_input\n",
    "#md('##### {}'.format(titleBTC)) \n",
    "md(\"- {}{} {}{} [| Skaityti daugiau]({}) \".format(btc['title'],'. ', btc['body'], ' ...', btc['url']))"
   ]
  },
  {
   "cell_type": "code",
   "execution_count": 5,
   "id": "organic-actress",
   "metadata": {
    "execution": {
     "iopub.execute_input": "2021-07-12T01:58:06.827819Z",
     "iopub.status.busy": "2021-07-12T01:58:06.827330Z",
     "iopub.status.idle": "2021-07-12T01:58:06.830017Z",
     "shell.execute_reply": "2021-07-12T01:58:06.830471Z"
    },
    "papermill": {
     "duration": 0.016499,
     "end_time": "2021-07-12T01:58:06.830574",
     "exception": false,
     "start_time": "2021-07-12T01:58:06.814075",
     "status": "completed"
    },
    "tags": []
   },
   "outputs": [
    {
     "data": {
      "text/markdown": [
       "- Prominent Attorney Reveals Danger Levels Of Cardano, Dogecoin, Polkadot, XRP, And Uniswap In The SEC’s Book.  As we’ve seen time and time again, a handful of cryptocurrencies have fallen into the bad books of the Securities and Exchange Commission (SEC). The results have usually been ruinous for the digital asset, its founders, and investors. With the long-standing battle between Ripple and the SEC causing the asset to lose traction, understanding the [&#8230;] ... [| Skaityti daugiau](https://zycrypto.com/prominent-attorney-reveals-danger-levels-of-cardano-dogecoin-polkadot-xrp-and-uniswap-in-the-secs-book/) "
      ],
      "text/plain": [
       "<IPython.core.display.Markdown object>"
      ]
     },
     "execution_count": 5,
     "metadata": {},
     "output_type": "execute_result"
    }
   ],
   "source": [
    "#hide_input\n",
    "#md('##### {}'.format(titleBTC)) \n",
    "md(\"- {}{} {}{} [| Skaityti daugiau]({}) \".format(xrp['title'],'. ', xrp['body'], ' ...', xrp['url']))"
   ]
  },
  {
   "cell_type": "code",
   "execution_count": 6,
   "id": "prompt-farmer",
   "metadata": {
    "execution": {
     "iopub.execute_input": "2021-07-12T01:58:06.854478Z",
     "iopub.status.busy": "2021-07-12T01:58:06.853995Z",
     "iopub.status.idle": "2021-07-12T01:58:06.856947Z",
     "shell.execute_reply": "2021-07-12T01:58:06.856530Z"
    },
    "papermill": {
     "duration": 0.016491,
     "end_time": "2021-07-12T01:58:06.857039",
     "exception": false,
     "start_time": "2021-07-12T01:58:06.840548",
     "status": "completed"
    },
    "tags": []
   },
   "outputs": [
    {
     "data": {
      "text/markdown": [
       "- Tron’s (TRX) Daily Transaction Count Has Grown by 522% in One Year.  The daily transaction count on the Tron network has grown by 522% in the last year Tron recently hit an all-time high in daily transactions at 9.278 million The growth of unique accounts on Tron continues to grow in a parabolic manner with the network hosting 45.160 million total accounts However, TRX/USDT is about to experience a death cross that should usher in a bearish time period for Tron Yesterday, the Tron (TRX) network hit a new all-time high in [&#8230;] ... [| Skaityti daugiau](https://en.ethereumworldnews.com/trons-trx-daily-transaction-count-has-grown-by-522-in-one-year/) "
      ],
      "text/plain": [
       "<IPython.core.display.Markdown object>"
      ]
     },
     "execution_count": 6,
     "metadata": {},
     "output_type": "execute_result"
    }
   ],
   "source": [
    "#hide_input\n",
    "#md('##### {}'.format(titleBTC)) \n",
    "md(\"- {}{} {}{} [| Skaityti daugiau]({}) \".format(trx['title'],'. ', trx['body'], ' ...', trx['url']))"
   ]
  },
  {
   "cell_type": "code",
   "execution_count": 7,
   "id": "illegal-greece",
   "metadata": {
    "execution": {
     "iopub.execute_input": "2021-07-12T01:58:06.881681Z",
     "iopub.status.busy": "2021-07-12T01:58:06.881191Z",
     "iopub.status.idle": "2021-07-12T01:58:06.883769Z",
     "shell.execute_reply": "2021-07-12T01:58:06.883355Z"
    },
    "papermill": {
     "duration": 0.016427,
     "end_time": "2021-07-12T01:58:06.883861",
     "exception": false,
     "start_time": "2021-07-12T01:58:06.867434",
     "status": "completed"
    },
    "tags": []
   },
   "outputs": [
    {
     "data": {
      "text/markdown": [
       "- Crypto Analyst Michaël van de Poppe Outlines Bullish Path for Ethereum, Litecoin and Two Additional Altcoins.  Popular crypto analyst and trader Michaël van de Poppe is mapping out bullish scenarios for Ethereum, Litecoin and two additional altcoins as Bitcoin continues to trade in a narrow range. Van de Poppe tells his 351,900 followers in a new tweet that he&#8217;s keeping a close watch on Ethereum against Bitcoin (ETH/BTC). According to the [&#8230;]The post Crypto Analyst Michaël van de Poppe Outlines Bullish Path for Ethereum, Litecoin and Two Additional Altcoins appeared first on The Daily Hodl. ... [| Skaityti daugiau](https://dailyhodl.com/2021/07/11/crypto-analyst-michael-van-de-poppe-outlines-bullish-path-for-ethereum-litecoin-and-two-additional-altcoins/) "
      ],
      "text/plain": [
       "<IPython.core.display.Markdown object>"
      ]
     },
     "execution_count": 7,
     "metadata": {},
     "output_type": "execute_result"
    }
   ],
   "source": [
    "#hide_input\n",
    "#md('##### {}'.format(titleBTC)) \n",
    "md(\"- {}{} {}{} [| Skaityti daugiau]({}) \".format(eth['title'],'. ', eth['body'], ' ...', eth['url']))"
   ]
  },
  {
   "cell_type": "code",
   "execution_count": 8,
   "id": "sublime-lounge",
   "metadata": {
    "execution": {
     "iopub.execute_input": "2021-07-12T01:58:06.909213Z",
     "iopub.status.busy": "2021-07-12T01:58:06.908722Z",
     "iopub.status.idle": "2021-07-12T01:58:06.911350Z",
     "shell.execute_reply": "2021-07-12T01:58:06.911816Z"
    },
    "papermill": {
     "duration": 0.01745,
     "end_time": "2021-07-12T01:58:06.911918",
     "exception": false,
     "start_time": "2021-07-12T01:58:06.894468",
     "status": "completed"
    },
    "tags": []
   },
   "outputs": [
    {
     "data": {
      "text/markdown": [
       "- Cardano: Here are the chances of a ‘slight’ retracement.  Disclaimer: The findings of the following article are the sole opinions of the writer and should not be taken as investment advice Cardano&#8217;s market has fallen into a stalemate over the past few days as buyers and sellers tangled for market control. Over this period, ADA has remained just below its 38.2% Fibonacci Extension of $1.35 [&#8230;] ... [| Skaityti daugiau](https://ambcrypto.com/cardano-here-are-the-chances-of-a-slight-retracement/) "
      ],
      "text/plain": [
       "<IPython.core.display.Markdown object>"
      ]
     },
     "execution_count": 8,
     "metadata": {},
     "output_type": "execute_result"
    }
   ],
   "source": [
    "#hide_input\n",
    "#md('##### {}'.format(titleBTC)) \n",
    "md(\"- {}{} {}{} [| Skaityti daugiau]({}) \".format(ada['title'],'. ', ada['body'], ' ...', ada['url']))"
   ]
  },
  {
   "cell_type": "code",
   "execution_count": 9,
   "id": "specified-ordering",
   "metadata": {
    "execution": {
     "iopub.execute_input": "2021-07-12T01:58:06.937929Z",
     "iopub.status.busy": "2021-07-12T01:58:06.937444Z",
     "iopub.status.idle": "2021-07-12T01:58:06.940562Z",
     "shell.execute_reply": "2021-07-12T01:58:06.940149Z"
    },
    "papermill": {
     "duration": 0.017766,
     "end_time": "2021-07-12T01:58:06.940658",
     "exception": false,
     "start_time": "2021-07-12T01:58:06.922892",
     "status": "completed"
    },
    "tags": []
   },
   "outputs": [
    {
     "data": {
      "text/markdown": [
       "- England’s Advertising Standards Authority targets Luno exchange.  TL;DR Breakdown • The Luno platform makes a deceptive advertising campaign, according to ASA.• The advertising campaign motivated people to buy Bitcoin before it is regulated. British Advertising Standards Authority, ASA, formally accused Luno&#8217;s platform. The lawsuit is based on the crypto platform running fake promotions in the city. However, the allegations are also linked [&#8230;] ... [| Skaityti daugiau](https://www.cryptopolitan.com/asa-targeted-luno-exchange/) "
      ],
      "text/plain": [
       "<IPython.core.display.Markdown object>"
      ]
     },
     "execution_count": 9,
     "metadata": {},
     "output_type": "execute_result"
    }
   ],
   "source": [
    "#hide_input\n",
    "#md('##### {}'.format(titleBTC)) \n",
    "md(\"- {}{} {}{} [| Skaityti daugiau]({}) \".format(exchange['title'],'. ', exchange['body'], ' ...', exchange['url']))"
   ]
  },
  {
   "cell_type": "code",
   "execution_count": null,
   "id": "tender-livestock",
   "metadata": {
    "papermill": {
     "duration": 0.011194,
     "end_time": "2021-07-12T01:58:06.963072",
     "exception": false,
     "start_time": "2021-07-12T01:58:06.951878",
     "status": "completed"
    },
    "tags": []
   },
   "outputs": [],
   "source": []
  },
  {
   "cell_type": "code",
   "execution_count": null,
   "id": "appreciated-diamond",
   "metadata": {
    "papermill": {
     "duration": 0.01121,
     "end_time": "2021-07-12T01:58:06.985686",
     "exception": false,
     "start_time": "2021-07-12T01:58:06.974476",
     "status": "completed"
    },
    "tags": []
   },
   "outputs": [],
   "source": []
  },
  {
   "cell_type": "code",
   "execution_count": null,
   "id": "romance-sweden",
   "metadata": {
    "papermill": {
     "duration": 0.011106,
     "end_time": "2021-07-12T01:58:07.008010",
     "exception": false,
     "start_time": "2021-07-12T01:58:06.996904",
     "status": "completed"
    },
    "tags": []
   },
   "outputs": [],
   "source": []
  },
  {
   "cell_type": "code",
   "execution_count": null,
   "id": "dietary-statistics",
   "metadata": {
    "papermill": {
     "duration": 0.011125,
     "end_time": "2021-07-12T01:58:07.030294",
     "exception": false,
     "start_time": "2021-07-12T01:58:07.019169",
     "status": "completed"
    },
    "tags": []
   },
   "outputs": [],
   "source": []
  }
 ],
 "metadata": {
  "kernelspec": {
   "display_name": "Python 3",
   "language": "python",
   "name": "python3"
  },
  "language_info": {
   "codemirror_mode": {
    "name": "ipython",
    "version": 3
   },
   "file_extension": ".py",
   "mimetype": "text/x-python",
   "name": "python",
   "nbconvert_exporter": "python",
   "pygments_lexer": "ipython3",
   "version": "3.6.13"
  },
  "papermill": {
   "default_parameters": {},
   "duration": 11.117954,
   "end_time": "2021-07-12T01:58:07.448061",
   "environment_variables": {},
   "exception": null,
   "input_path": "Market-News.ipynb",
   "output_path": "Market-News.ipynb",
   "parameters": {},
   "start_time": "2021-07-12T01:57:56.330107",
   "version": "2.2.2"
  }
 },
 "nbformat": 4,
 "nbformat_minor": 5
}