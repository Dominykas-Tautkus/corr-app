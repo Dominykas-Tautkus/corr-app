{
 "cells": [
  {
   "cell_type": "markdown",
   "id": "short-greensboro",
   "metadata": {
    "papermill": {
     "duration": 0.015354,
     "end_time": "2021-06-27T02:05:07.660337",
     "exception": false,
     "start_time": "2021-06-27T02:05:07.644983",
     "status": "completed"
    },
    "tags": []
   },
   "source": [
    "# Kriptovaliutų naujienos"
   ]
  },
  {
   "cell_type": "code",
   "execution_count": 1,
   "id": "functioning-knowing",
   "metadata": {
    "execution": {
     "iopub.execute_input": "2021-06-27T02:05:07.694248Z",
     "iopub.status.busy": "2021-06-27T02:05:07.693468Z",
     "iopub.status.idle": "2021-06-27T02:05:09.045879Z",
     "shell.execute_reply": "2021-06-27T02:05:09.045300Z"
    },
    "papermill": {
     "duration": 1.374189,
     "end_time": "2021-06-27T02:05:09.046065",
     "exception": false,
     "start_time": "2021-06-27T02:05:07.671876",
     "status": "completed"
    },
    "tags": []
   },
   "outputs": [],
   "source": [
    "#hide_input\n",
    "import warnings\n",
    "warnings.filterwarnings('ignore')\n",
    "from scripts.read_data import read_api\n",
    "from scripts.read_data import read_news\n",
    "from scripts.read_data import read_covid\n",
    "import matplotlib.pyplot as plt \n",
    "from IPython.display import Markdown as md"
   ]
  },
  {
   "cell_type": "code",
   "execution_count": 2,
   "id": "shared-acceptance",
   "metadata": {
    "execution": {
     "iopub.execute_input": "2021-06-27T02:05:09.076760Z",
     "iopub.status.busy": "2021-06-27T02:05:09.075671Z",
     "iopub.status.idle": "2021-06-27T02:05:16.998348Z",
     "shell.execute_reply": "2021-06-27T02:05:16.997145Z"
    },
    "papermill": {
     "duration": 7.940266,
     "end_time": "2021-06-27T02:05:16.998476",
     "exception": false,
     "start_time": "2021-06-27T02:05:09.058210",
     "status": "completed"
    },
    "tags": []
   },
   "outputs": [],
   "source": [
    "#hide_input\n",
    "blockchain = read_news('blockchain') \n",
    "btc = read_news('btc') \n",
    "xrp = read_news('xrp') \n",
    "trx = read_news('trx') \n",
    "eth = read_news('eth')  \n",
    "ada = read_news('ada')\n",
    "exchange = read_news('exchange') "
   ]
  },
  {
   "cell_type": "code",
   "execution_count": 3,
   "id": "synthetic-notion",
   "metadata": {
    "execution": {
     "iopub.execute_input": "2021-06-27T02:05:17.028642Z",
     "iopub.status.busy": "2021-06-27T02:05:17.027830Z",
     "iopub.status.idle": "2021-06-27T02:05:17.031027Z",
     "shell.execute_reply": "2021-06-27T02:05:17.031512Z"
    },
    "papermill": {
     "duration": 0.020415,
     "end_time": "2021-06-27T02:05:17.031632",
     "exception": false,
     "start_time": "2021-06-27T02:05:17.011217",
     "status": "completed"
    },
    "tags": []
   },
   "outputs": [
    {
     "data": {
      "text/markdown": [
       "- Two Altcoins Could Unseat Ethereum, Cardano, Polkadot and Binance Smart Chain, Says Trader Ben Armstrong.  Cryptocurrency trader and analyst Ben Armstrong believes that the battle for dominance among smart contract blockchains is well underway. In a video, Armstrong says Solana (SOL) and Elrond (EGLD) are the newest blockchain platforms that could &#8220;possibly unseat the big boys&#8221; such as Ethereum (ETH), Cardano (ADA), Polkadot (DOT) and Binance Smart Chain. The cryptocurrency [&#8230;]The post Two Altcoins Could Unseat Ethereum, Cardano, Polkadot and Binance Smart Chain, Says Trader Ben Armstrong appeared first on The Daily Hodl. ... [| Skaityti daugiau](https://dailyhodl.com/2021/06/26/two-altcoins-could-unseat-ethereum-cardano-polkadot-and-binance-smart-chain-says-trader-ben-armstrong/) "
      ],
      "text/plain": [
       "<IPython.core.display.Markdown object>"
      ]
     },
     "execution_count": 3,
     "metadata": {},
     "output_type": "execute_result"
    }
   ],
   "source": [
    "#hide_input\n",
    "#md('##### {}'.format(titleBTC)) \n",
    "md(\"- {}{} {}{} [| Skaityti daugiau]({}) \".format(blockchain['title'],'. ', blockchain['body'], ' ...', blockchain['url']))"
   ]
  },
  {
   "cell_type": "code",
   "execution_count": 4,
   "id": "aging-caution",
   "metadata": {
    "execution": {
     "iopub.execute_input": "2021-06-27T02:05:17.059836Z",
     "iopub.status.busy": "2021-06-27T02:05:17.059047Z",
     "iopub.status.idle": "2021-06-27T02:05:17.062609Z",
     "shell.execute_reply": "2021-06-27T02:05:17.062091Z"
    },
    "papermill": {
     "duration": 0.020009,
     "end_time": "2021-06-27T02:05:17.062719",
     "exception": false,
     "start_time": "2021-06-27T02:05:17.042710",
     "status": "completed"
    },
    "tags": []
   },
   "outputs": [
    {
     "data": {
      "text/markdown": [
       "- Tesla’s Elon Musk and Twitter’s Jack Dorsey Agree to Have ‘the Talk’ at Bitcoin Event ‘B Word’.  Tesla CEO Elon Musk and Twitter CEO Jack Dorsey have agreed to have &#8220;the talk&#8221; at the bitcoin event called &#8220;The B Word,&#8221; which aims to show institutional investors how they can embrace bitcoin. Elon Musk vs. Jack Dorsey at Bitcoin Event Tesla and Spacex CEO Elon Musk and Twitter and Square CEO Jack Dorsey [&#8230;] ... [| Skaityti daugiau](https://news.bitcoin.com/teslas-elon-musk-twitters-jack-dorsey-talk-bitcoin-event-b-word/) "
      ],
      "text/plain": [
       "<IPython.core.display.Markdown object>"
      ]
     },
     "execution_count": 4,
     "metadata": {},
     "output_type": "execute_result"
    }
   ],
   "source": [
    "#hide_input\n",
    "#md('##### {}'.format(titleBTC)) \n",
    "md(\"- {}{} {}{} [| Skaityti daugiau]({}) \".format(btc['title'],'. ', btc['body'], ' ...', btc['url']))"
   ]
  },
  {
   "cell_type": "code",
   "execution_count": 5,
   "id": "organic-actress",
   "metadata": {
    "execution": {
     "iopub.execute_input": "2021-06-27T02:05:17.091227Z",
     "iopub.status.busy": "2021-06-27T02:05:17.090556Z",
     "iopub.status.idle": "2021-06-27T02:05:17.095198Z",
     "shell.execute_reply": "2021-06-27T02:05:17.095719Z"
    },
    "papermill": {
     "duration": 0.021608,
     "end_time": "2021-06-27T02:05:17.095969",
     "exception": false,
     "start_time": "2021-06-27T02:05:17.074361",
     "status": "completed"
    },
    "tags": []
   },
   "outputs": [
    {
     "data": {
      "text/markdown": [
       "- XRP to the moon no more? Here’s what’s next for XRP.  Disclaimer: The findings of the following analysis are the sole opinions of the writer and should not be taken as investment advice The latest round of developments in the ongoing Ripple v. SEC lawsuit saw the defendants request a deposition of a former SEC official &#8211; William Hinman. What followed soon after, however, was a motion [&#8230;] ... [| Skaityti daugiau](https://ambcrypto.com/xrp-to-the-moon-no-more-heres-whats-next-for-xrp/) "
      ],
      "text/plain": [
       "<IPython.core.display.Markdown object>"
      ]
     },
     "execution_count": 5,
     "metadata": {},
     "output_type": "execute_result"
    }
   ],
   "source": [
    "#hide_input\n",
    "#md('##### {}'.format(titleBTC)) \n",
    "md(\"- {}{} {}{} [| Skaityti daugiau]({}) \".format(xrp['title'],'. ', xrp['body'], ' ...', xrp['url']))"
   ]
  },
  {
   "cell_type": "code",
   "execution_count": 6,
   "id": "prompt-farmer",
   "metadata": {
    "execution": {
     "iopub.execute_input": "2021-06-27T02:05:17.126142Z",
     "iopub.status.busy": "2021-06-27T02:05:17.125433Z",
     "iopub.status.idle": "2021-06-27T02:05:17.128805Z",
     "shell.execute_reply": "2021-06-27T02:05:17.128318Z"
    },
    "papermill": {
     "duration": 0.020561,
     "end_time": "2021-06-27T02:05:17.128912",
     "exception": false,
     "start_time": "2021-06-27T02:05:17.108351",
     "status": "completed"
    },
    "tags": []
   },
   "outputs": [
    {
     "data": {
      "text/markdown": [
       "- Binance Coin, Tron, UNI Price Analysis: 25 June.  Major cryptos gained back some ground after facing some major losses on Tuesday. After dropping below $30,000 for the first time since January, Bitcoin was back to $34,213 at the time of writing, hiking by 3.1% over the past 24 hours. Major altcoins like Binance Coin, Tron, and UNI also profited off the back of [&#8230;] ... [| Skaityti daugiau](https://ambcrypto.com/binance-coin-tron-uni-price-analysis-25-june/) "
      ],
      "text/plain": [
       "<IPython.core.display.Markdown object>"
      ]
     },
     "execution_count": 6,
     "metadata": {},
     "output_type": "execute_result"
    }
   ],
   "source": [
    "#hide_input\n",
    "#md('##### {}'.format(titleBTC)) \n",
    "md(\"- {}{} {}{} [| Skaityti daugiau]({}) \".format(trx['title'],'. ', trx['body'], ' ...', trx['url']))"
   ]
  },
  {
   "cell_type": "code",
   "execution_count": 7,
   "id": "illegal-greece",
   "metadata": {
    "execution": {
     "iopub.execute_input": "2021-06-27T02:05:17.159864Z",
     "iopub.status.busy": "2021-06-27T02:05:17.159123Z",
     "iopub.status.idle": "2021-06-27T02:05:17.162557Z",
     "shell.execute_reply": "2021-06-27T02:05:17.163115Z"
    },
    "papermill": {
     "duration": 0.021043,
     "end_time": "2021-06-27T02:05:17.163235",
     "exception": false,
     "start_time": "2021-06-27T02:05:17.142192",
     "status": "completed"
    },
    "tags": []
   },
   "outputs": [
    {
     "data": {
      "text/markdown": [
       "- Two Altcoins Could Unseat Ethereum, Cardano, Polkadot and Binance Smart Chain, Says Trader Ben Armstrong.  Cryptocurrency trader and analyst Ben Armstrong believes that the battle for dominance among smart contract blockchains is well underway. In a video, Armstrong says Solana (SOL) and Elrond (EGLD) are the newest blockchain platforms that could &#8220;possibly unseat the big boys&#8221; such as Ethereum (ETH), Cardano (ADA), Polkadot (DOT) and Binance Smart Chain. The cryptocurrency [&#8230;]The post Two Altcoins Could Unseat Ethereum, Cardano, Polkadot and Binance Smart Chain, Says Trader Ben Armstrong appeared first on The Daily Hodl. ... [| Skaityti daugiau](https://dailyhodl.com/2021/06/26/two-altcoins-could-unseat-ethereum-cardano-polkadot-and-binance-smart-chain-says-trader-ben-armstrong/) "
      ],
      "text/plain": [
       "<IPython.core.display.Markdown object>"
      ]
     },
     "execution_count": 7,
     "metadata": {},
     "output_type": "execute_result"
    }
   ],
   "source": [
    "#hide_input\n",
    "#md('##### {}'.format(titleBTC)) \n",
    "md(\"- {}{} {}{} [| Skaityti daugiau]({}) \".format(eth['title'],'. ', eth['body'], ' ...', eth['url']))"
   ]
  },
  {
   "cell_type": "code",
   "execution_count": 8,
   "id": "sublime-lounge",
   "metadata": {
    "execution": {
     "iopub.execute_input": "2021-06-27T02:05:17.194304Z",
     "iopub.status.busy": "2021-06-27T02:05:17.193721Z",
     "iopub.status.idle": "2021-06-27T02:05:17.196449Z",
     "shell.execute_reply": "2021-06-27T02:05:17.197044Z"
    },
    "papermill": {
     "duration": 0.021024,
     "end_time": "2021-06-27T02:05:17.197160",
     "exception": false,
     "start_time": "2021-06-27T02:05:17.176136",
     "status": "completed"
    },
    "tags": []
   },
   "outputs": [
    {
     "data": {
      "text/markdown": [
       "- Cardano: Alonzo White can soon go live on testnet BUT these are the problems….  2021 has been a crucial year for Cardano and its executives. In fact, after a period of consolidation, Cardano, the fifth-largest coin in the market, made headlines after it successfully released the first-ever Plutus smart contract on its Alonzo testnet. Latest development Now, during recent live discussions on IOHK&#8216;s YouTube page, Tim Harrison, IOHK’s Marketing [&#8230;] ... [| Skaityti daugiau](https://ambcrypto.com/cardano-alonzo-white-can-soon-go-live-on-testnet-but-these-are-the-problems/) "
      ],
      "text/plain": [
       "<IPython.core.display.Markdown object>"
      ]
     },
     "execution_count": 8,
     "metadata": {},
     "output_type": "execute_result"
    }
   ],
   "source": [
    "#hide_input\n",
    "#md('##### {}'.format(titleBTC)) \n",
    "md(\"- {}{} {}{} [| Skaityti daugiau]({}) \".format(ada['title'],'. ', ada['body'], ' ...', ada['url']))"
   ]
  },
  {
   "cell_type": "code",
   "execution_count": 9,
   "id": "specified-ordering",
   "metadata": {
    "execution": {
     "iopub.execute_input": "2021-06-27T02:05:17.229655Z",
     "iopub.status.busy": "2021-06-27T02:05:17.228598Z",
     "iopub.status.idle": "2021-06-27T02:05:17.233353Z",
     "shell.execute_reply": "2021-06-27T02:05:17.232859Z"
    },
    "papermill": {
     "duration": 0.022671,
     "end_time": "2021-06-27T02:05:17.233461",
     "exception": false,
     "start_time": "2021-06-27T02:05:17.210790",
     "status": "completed"
    },
    "tags": []
   },
   "outputs": [
    {
     "data": {
      "text/markdown": [
       "- Binance to cease operations in Ontario following regulatory crackdown.  Ontario's crypto exchange crackdown continues as Binance plans to end operations Dec. 31, 20201.  ... [| Skaityti daugiau](https://cointelegraph.com/news/binance-to-cease-operations-in-ontario-following-regulatory-crackdown) "
      ],
      "text/plain": [
       "<IPython.core.display.Markdown object>"
      ]
     },
     "execution_count": 9,
     "metadata": {},
     "output_type": "execute_result"
    }
   ],
   "source": [
    "#hide_input\n",
    "#md('##### {}'.format(titleBTC)) \n",
    "md(\"- {}{} {}{} [| Skaityti daugiau]({}) \".format(exchange['title'],'. ', exchange['body'], ' ...', exchange['url']))"
   ]
  },
  {
   "cell_type": "code",
   "execution_count": null,
   "id": "tender-livestock",
   "metadata": {
    "papermill": {
     "duration": 0.013839,
     "end_time": "2021-06-27T02:05:17.261339",
     "exception": false,
     "start_time": "2021-06-27T02:05:17.247500",
     "status": "completed"
    },
    "tags": []
   },
   "outputs": [],
   "source": []
  },
  {
   "cell_type": "code",
   "execution_count": null,
   "id": "appreciated-diamond",
   "metadata": {
    "papermill": {
     "duration": 0.013453,
     "end_time": "2021-06-27T02:05:17.288632",
     "exception": false,
     "start_time": "2021-06-27T02:05:17.275179",
     "status": "completed"
    },
    "tags": []
   },
   "outputs": [],
   "source": []
  },
  {
   "cell_type": "code",
   "execution_count": null,
   "id": "romance-sweden",
   "metadata": {
    "papermill": {
     "duration": 0.015206,
     "end_time": "2021-06-27T02:05:17.317257",
     "exception": false,
     "start_time": "2021-06-27T02:05:17.302051",
     "status": "completed"
    },
    "tags": []
   },
   "outputs": [],
   "source": []
  },
  {
   "cell_type": "code",
   "execution_count": null,
   "id": "dietary-statistics",
   "metadata": {
    "papermill": {
     "duration": 0.013152,
     "end_time": "2021-06-27T02:05:17.343790",
     "exception": false,
     "start_time": "2021-06-27T02:05:17.330638",
     "status": "completed"
    },
    "tags": []
   },
   "outputs": [],
   "source": []
  }
 ],
 "metadata": {
  "kernelspec": {
   "display_name": "Python 3",
   "language": "python",
   "name": "python3"
  },
  "language_info": {
   "codemirror_mode": {
    "name": "ipython",
    "version": 3
   },
   "file_extension": ".py",
   "mimetype": "text/x-python",
   "name": "python",
   "nbconvert_exporter": "python",
   "pygments_lexer": "ipython3",
   "version": "3.6.13"
  },
  "papermill": {
   "default_parameters": {},
   "duration": 11.194534,
   "end_time": "2021-06-27T02:05:17.766541",
   "environment_variables": {},
   "exception": null,
   "input_path": "Market-News.ipynb",
   "output_path": "Market-News.ipynb",
   "parameters": {},
   "start_time": "2021-06-27T02:05:06.572007",
   "version": "2.2.2"
  }
 },
 "nbformat": 4,
 "nbformat_minor": 5
}