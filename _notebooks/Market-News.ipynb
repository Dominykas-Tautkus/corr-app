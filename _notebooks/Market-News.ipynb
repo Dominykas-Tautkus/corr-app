{
 "cells": [
  {
   "cell_type": "markdown",
   "id": "short-greensboro",
   "metadata": {
    "papermill": {
     "duration": 0.014234,
     "end_time": "2021-06-03T04:16:25.129250",
     "exception": false,
     "start_time": "2021-06-03T04:16:25.115016",
     "status": "completed"
    },
    "tags": []
   },
   "source": [
    "# Kriptovaliutų naujienos"
   ]
  },
  {
   "cell_type": "code",
   "execution_count": 1,
   "id": "functioning-knowing",
   "metadata": {
    "execution": {
     "iopub.execute_input": "2021-06-03T04:16:25.161500Z",
     "iopub.status.busy": "2021-06-03T04:16:25.160888Z",
     "iopub.status.idle": "2021-06-03T04:16:26.424277Z",
     "shell.execute_reply": "2021-06-03T04:16:26.423088Z"
    },
    "papermill": {
     "duration": 1.284436,
     "end_time": "2021-06-03T04:16:26.424451",
     "exception": false,
     "start_time": "2021-06-03T04:16:25.140015",
     "status": "completed"
    },
    "tags": []
   },
   "outputs": [],
   "source": [
    "#hide_input\n",
    "import warnings\n",
    "warnings.filterwarnings('ignore')\n",
    "from scripts.read_data import read_api\n",
    "from scripts.read_data import read_news\n",
    "from scripts.read_data import read_covid\n",
    "import matplotlib.pyplot as plt \n",
    "from IPython.display import Markdown as md"
   ]
  },
  {
   "cell_type": "code",
   "execution_count": 2,
   "id": "shared-acceptance",
   "metadata": {
    "execution": {
     "iopub.execute_input": "2021-06-03T04:16:26.451099Z",
     "iopub.status.busy": "2021-06-03T04:16:26.450046Z",
     "iopub.status.idle": "2021-06-03T04:16:34.920837Z",
     "shell.execute_reply": "2021-06-03T04:16:34.920294Z"
    },
    "papermill": {
     "duration": 8.485965,
     "end_time": "2021-06-03T04:16:34.920967",
     "exception": false,
     "start_time": "2021-06-03T04:16:26.435002",
     "status": "completed"
    },
    "tags": []
   },
   "outputs": [],
   "source": [
    "#hide_input\n",
    "blockchain = read_news('blockchain') \n",
    "btc = read_news('btc') \n",
    "xrp = read_news('xrp') \n",
    "trx = read_news('trx') \n",
    "eth = read_news('eth')  \n",
    "ada = read_news('ada')\n",
    "exchange = read_news('exchange') "
   ]
  },
  {
   "cell_type": "code",
   "execution_count": 3,
   "id": "synthetic-notion",
   "metadata": {
    "execution": {
     "iopub.execute_input": "2021-06-03T04:16:34.949065Z",
     "iopub.status.busy": "2021-06-03T04:16:34.948506Z",
     "iopub.status.idle": "2021-06-03T04:16:34.951226Z",
     "shell.execute_reply": "2021-06-03T04:16:34.951662Z"
    },
    "papermill": {
     "duration": 0.019651,
     "end_time": "2021-06-03T04:16:34.951797",
     "exception": false,
     "start_time": "2021-06-03T04:16:34.932146",
     "status": "completed"
    },
    "tags": []
   },
   "outputs": [
    {
     "data": {
      "text/markdown": [
       "- UMA Protocol: synthetic asset issuance with optimistic oracle.  Quick TakeUMA protocol enables permissionless issuance of any synthetic assetsThe majority of synths issued over the last 12 months were niche and were unable to attract any significant adoptionThe protocol has a unique oracle solution that requires human intervention, it is designed with game theory such that rational players are incentivized to act honestlyThe team has launched a new “optimistic oracle” framework that hopefully captures the oracle market by supporting arbitrary off-chain data relay beyond price feeds ... [| Skaityti daugiau](https://www.theblockcrypto.com/research/105439/uma-protocol-synthetic-asset-issuance-with-optimistic-oracle?utm_source=cryptocompare&utm_medium=rss) "
      ],
      "text/plain": [
       "<IPython.core.display.Markdown object>"
      ]
     },
     "execution_count": 3,
     "metadata": {},
     "output_type": "execute_result"
    }
   ],
   "source": [
    "#hide_input\n",
    "#md('##### {}'.format(titleBTC)) \n",
    "md(\"- {}{} {}{} [| Skaityti daugiau]({}) \".format(blockchain['title'],'. ', blockchain['body'], ' ...', blockchain['url']))"
   ]
  },
  {
   "cell_type": "code",
   "execution_count": 4,
   "id": "aging-caution",
   "metadata": {
    "execution": {
     "iopub.execute_input": "2021-06-03T04:16:34.980635Z",
     "iopub.status.busy": "2021-06-03T04:16:34.979553Z",
     "iopub.status.idle": "2021-06-03T04:16:34.983025Z",
     "shell.execute_reply": "2021-06-03T04:16:34.983689Z"
    },
    "papermill": {
     "duration": 0.021424,
     "end_time": "2021-06-03T04:16:34.983826",
     "exception": false,
     "start_time": "2021-06-03T04:16:34.962402",
     "status": "completed"
    },
    "tags": []
   },
   "outputs": [
    {
     "data": {
      "text/markdown": [
       "- Ron Paul: Legalize and tax Bitcoin like money.  Former congressman Ron Paul believes Bitcoin should be regulated and taxed the same as money.  ... [| Skaityti daugiau](https://cointelegraph.com/news/ron-paul-legalize-and-tax-bitcoin-like-money) "
      ],
      "text/plain": [
       "<IPython.core.display.Markdown object>"
      ]
     },
     "execution_count": 4,
     "metadata": {},
     "output_type": "execute_result"
    }
   ],
   "source": [
    "#hide_input\n",
    "#md('##### {}'.format(titleBTC)) \n",
    "md(\"- {}{} {}{} [| Skaityti daugiau]({}) \".format(btc['title'],'. ', btc['body'], ' ...', btc['url']))"
   ]
  },
  {
   "cell_type": "code",
   "execution_count": 5,
   "id": "organic-actress",
   "metadata": {
    "execution": {
     "iopub.execute_input": "2021-06-03T04:16:35.010830Z",
     "iopub.status.busy": "2021-06-03T04:16:35.009880Z",
     "iopub.status.idle": "2021-06-03T04:16:35.016863Z",
     "shell.execute_reply": "2021-06-03T04:16:35.016372Z"
    },
    "papermill": {
     "duration": 0.022229,
     "end_time": "2021-06-03T04:16:35.016990",
     "exception": false,
     "start_time": "2021-06-03T04:16:34.994761",
     "status": "completed"
    },
    "tags": []
   },
   "outputs": [
    {
     "data": {
      "text/markdown": [
       "- Ripple seeks docs from 15 offshore exchanges it says could be ‘fatal’ to the SEC’s charges.  Ripple believes records held by offshore exchanges will prove its executives did not violate Section 5 of the Securities Act by offloading XRP on the U.S. public. ... [| Skaityti daugiau](https://cointelegraph.com/news/ripple-seeks-docs-from-15-offshore-exchanges-it-says-could-be-fatal-to-the-sec-s-charges) "
      ],
      "text/plain": [
       "<IPython.core.display.Markdown object>"
      ]
     },
     "execution_count": 5,
     "metadata": {},
     "output_type": "execute_result"
    }
   ],
   "source": [
    "#hide_input\n",
    "#md('##### {}'.format(titleBTC)) \n",
    "md(\"- {}{} {}{} [| Skaityti daugiau]({}) \".format(xrp['title'],'. ', xrp['body'], ' ...', xrp['url']))"
   ]
  },
  {
   "cell_type": "code",
   "execution_count": 6,
   "id": "prompt-farmer",
   "metadata": {
    "execution": {
     "iopub.execute_input": "2021-06-03T04:16:35.046835Z",
     "iopub.status.busy": "2021-06-03T04:16:35.046239Z",
     "iopub.status.idle": "2021-06-03T04:16:35.049334Z",
     "shell.execute_reply": "2021-06-03T04:16:35.048830Z"
    },
    "papermill": {
     "duration": 0.021002,
     "end_time": "2021-06-03T04:16:35.049457",
     "exception": false,
     "start_time": "2021-06-03T04:16:35.028455",
     "status": "completed"
    },
    "tags": []
   },
   "outputs": [
    {
     "data": {
      "text/markdown": [
       "- Crypto Bull Market Isn’t Over, Says TRON Founder Justin Sun.  TRON (TRX) founder Justin Sun has revealed he believes the cryptocurrency bull market isn’t over and that a new rally is due in the next few months, although in June the market may keep dropping before a potential rally. In an interview with Bloomberg, first spotted by Daily Hodl, Sun revealed he believes we’re going […] ... [| Skaityti daugiau](https://www.cryptoglobe.com/latest/2021/06/crypto-bull-market-isnt-over-says-tron-founder-justin-sun/) "
      ],
      "text/plain": [
       "<IPython.core.display.Markdown object>"
      ]
     },
     "execution_count": 6,
     "metadata": {},
     "output_type": "execute_result"
    }
   ],
   "source": [
    "#hide_input\n",
    "#md('##### {}'.format(titleBTC)) \n",
    "md(\"- {}{} {}{} [| Skaityti daugiau]({}) \".format(trx['title'],'. ', trx['body'], ' ...', trx['url']))"
   ]
  },
  {
   "cell_type": "code",
   "execution_count": 7,
   "id": "illegal-greece",
   "metadata": {
    "execution": {
     "iopub.execute_input": "2021-06-03T04:16:35.080417Z",
     "iopub.status.busy": "2021-06-03T04:16:35.079691Z",
     "iopub.status.idle": "2021-06-03T04:16:35.082476Z",
     "shell.execute_reply": "2021-06-03T04:16:35.083077Z"
    },
    "papermill": {
     "duration": 0.02175,
     "end_time": "2021-06-03T04:16:35.083242",
     "exception": false,
     "start_time": "2021-06-03T04:16:35.061492",
     "status": "completed"
    },
    "tags": []
   },
   "outputs": [
    {
     "data": {
      "text/markdown": [
       "- Ethereum’s Price Could Hit $40,000 in Long Run, Winklevoss Twins Say.  The Winklevoss twins, who co-founded the Gemini digital asset exchange as well as family office Winklevoss Capital Management, have predicted the price of Ethereum could reach $40,000 in the long run, with a price target between $5,000 and $10,000 for the end of this year. During an interview with SumZero, the Winklevoss twins noted that […] ... [| Skaityti daugiau](https://www.cryptoglobe.com/latest/2021/06/ethereums-price-could-hit-40000-in-long-run-winklevoss-twins-say/) "
      ],
      "text/plain": [
       "<IPython.core.display.Markdown object>"
      ]
     },
     "execution_count": 7,
     "metadata": {},
     "output_type": "execute_result"
    }
   ],
   "source": [
    "#hide_input\n",
    "#md('##### {}'.format(titleBTC)) \n",
    "md(\"- {}{} {}{} [| Skaityti daugiau]({}) \".format(eth['title'],'. ', eth['body'], ' ...', eth['url']))"
   ]
  },
  {
   "cell_type": "code",
   "execution_count": 8,
   "id": "sublime-lounge",
   "metadata": {
    "execution": {
     "iopub.execute_input": "2021-06-03T04:16:35.116047Z",
     "iopub.status.busy": "2021-06-03T04:16:35.115087Z",
     "iopub.status.idle": "2021-06-03T04:16:35.117815Z",
     "shell.execute_reply": "2021-06-03T04:16:35.118326Z"
    },
    "papermill": {
     "duration": 0.022845,
     "end_time": "2021-06-03T04:16:35.118468",
     "exception": false,
     "start_time": "2021-06-03T04:16:35.095623",
     "status": "completed"
    },
    "tags": []
   },
   "outputs": [
    {
     "data": {
      "text/markdown": [
       "- New electric car ‘Spiritus’ will mine Dogecoin and Cardano while parked.  Daymak, a Toronto-based manufacturer of personal light electric vehicles announced yesterday the first car built to mine cryptocurrencies like Bitcoin, Dogecoin, and others while parked. The post New electric car &#8216;Spiritus&#8217; will mine Dogecoin and Cardano while parked appeared first on CryptoSlate. ... [| Skaityti daugiau](https://cryptoslate.com/new-electric-car-spiritus-will-mine-dogecoin-and-cardano-while-parked/) "
      ],
      "text/plain": [
       "<IPython.core.display.Markdown object>"
      ]
     },
     "execution_count": 8,
     "metadata": {},
     "output_type": "execute_result"
    }
   ],
   "source": [
    "#hide_input\n",
    "#md('##### {}'.format(titleBTC)) \n",
    "md(\"- {}{} {}{} [| Skaityti daugiau]({}) \".format(ada['title'],'. ', ada['body'], ' ...', ada['url']))"
   ]
  },
  {
   "cell_type": "code",
   "execution_count": 9,
   "id": "specified-ordering",
   "metadata": {
    "execution": {
     "iopub.execute_input": "2021-06-03T04:16:35.152440Z",
     "iopub.status.busy": "2021-06-03T04:16:35.151866Z",
     "iopub.status.idle": "2021-06-03T04:16:35.157665Z",
     "shell.execute_reply": "2021-06-03T04:16:35.157163Z"
    },
    "papermill": {
     "duration": 0.025269,
     "end_time": "2021-06-03T04:16:35.157788",
     "exception": false,
     "start_time": "2021-06-03T04:16:35.132519",
     "status": "completed"
    },
    "tags": []
   },
   "outputs": [
    {
     "data": {
      "text/markdown": [
       "- Guggenheim Registers Fund That Allows Bitcoin Exposure After CIO Calls Crypto Tulipmania, Predicts BTC Crash.  Guggenheim has registered a new fund with the U.S. Securities and Exchange Commission (SEC) that could have exposure to cryptocurrencies, particularly bitcoin. The filing came as the asset management firm&#8217;s chief investment officer repeatedly made bearish bitcoin predictions, calling cryptocurrency Tulipmania. Guggenheim Launching Fund Which Could Have Exposure to Bitcoin Guggenheim Funds Investment Advisors LLC [&#8230;] ... [| Skaityti daugiau](https://news.bitcoin.com/guggenheim-fund-bitcoin-exposure-crypto-tulipmania-predicts-btc-crash/) "
      ],
      "text/plain": [
       "<IPython.core.display.Markdown object>"
      ]
     },
     "execution_count": 9,
     "metadata": {},
     "output_type": "execute_result"
    }
   ],
   "source": [
    "#hide_input\n",
    "#md('##### {}'.format(titleBTC)) \n",
    "md(\"- {}{} {}{} [| Skaityti daugiau]({}) \".format(exchange['title'],'. ', exchange['body'], ' ...', exchange['url']))"
   ]
  },
  {
   "cell_type": "code",
   "execution_count": null,
   "id": "tender-livestock",
   "metadata": {
    "papermill": {
     "duration": 0.012528,
     "end_time": "2021-06-03T04:16:35.182889",
     "exception": false,
     "start_time": "2021-06-03T04:16:35.170361",
     "status": "completed"
    },
    "tags": []
   },
   "outputs": [],
   "source": []
  },
  {
   "cell_type": "code",
   "execution_count": null,
   "id": "appreciated-diamond",
   "metadata": {
    "papermill": {
     "duration": 0.01203,
     "end_time": "2021-06-03T04:16:35.207415",
     "exception": false,
     "start_time": "2021-06-03T04:16:35.195385",
     "status": "completed"
    },
    "tags": []
   },
   "outputs": [],
   "source": []
  },
  {
   "cell_type": "code",
   "execution_count": null,
   "id": "romance-sweden",
   "metadata": {
    "papermill": {
     "duration": 0.012202,
     "end_time": "2021-06-03T04:16:35.231560",
     "exception": false,
     "start_time": "2021-06-03T04:16:35.219358",
     "status": "completed"
    },
    "tags": []
   },
   "outputs": [],
   "source": []
  },
  {
   "cell_type": "code",
   "execution_count": null,
   "id": "dietary-statistics",
   "metadata": {
    "papermill": {
     "duration": 0.012719,
     "end_time": "2021-06-03T04:16:35.256788",
     "exception": false,
     "start_time": "2021-06-03T04:16:35.244069",
     "status": "completed"
    },
    "tags": []
   },
   "outputs": [],
   "source": []
  }
 ],
 "metadata": {
  "kernelspec": {
   "display_name": "Python 3",
   "language": "python",
   "name": "python3"
  },
  "language_info": {
   "codemirror_mode": {
    "name": "ipython",
    "version": 3
   },
   "file_extension": ".py",
   "mimetype": "text/x-python",
   "name": "python",
   "nbconvert_exporter": "python",
   "pygments_lexer": "ipython3",
   "version": "3.6.13"
  },
  "papermill": {
   "default_parameters": {},
   "duration": 11.836652,
   "end_time": "2021-06-03T04:16:35.678392",
   "environment_variables": {},
   "exception": null,
   "input_path": "Market-News.ipynb",
   "output_path": "Market-News.ipynb",
   "parameters": {},
   "start_time": "2021-06-03T04:16:23.841740",
   "version": "2.2.2"
  }
 },
 "nbformat": 4,
 "nbformat_minor": 5
}