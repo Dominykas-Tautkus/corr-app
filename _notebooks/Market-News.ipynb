{
 "cells": [
  {
   "cell_type": "markdown",
   "id": "short-greensboro",
   "metadata": {
    "papermill": {
     "duration": 0.013116,
     "end_time": "2021-07-10T01:55:25.428432",
     "exception": false,
     "start_time": "2021-07-10T01:55:25.415316",
     "status": "completed"
    },
    "tags": []
   },
   "source": [
    "# Kriptovaliutų naujienos"
   ]
  },
  {
   "cell_type": "code",
   "execution_count": 1,
   "id": "functioning-knowing",
   "metadata": {
    "execution": {
     "iopub.execute_input": "2021-07-10T01:55:25.458045Z",
     "iopub.status.busy": "2021-07-10T01:55:25.457516Z",
     "iopub.status.idle": "2021-07-10T01:55:26.648397Z",
     "shell.execute_reply": "2021-07-10T01:55:26.647864Z"
    },
    "papermill": {
     "duration": 1.20989,
     "end_time": "2021-07-10T01:55:26.648543",
     "exception": false,
     "start_time": "2021-07-10T01:55:25.438653",
     "status": "completed"
    },
    "tags": []
   },
   "outputs": [],
   "source": [
    "#hide_input\n",
    "import warnings\n",
    "warnings.filterwarnings('ignore')\n",
    "from scripts.read_data import read_api\n",
    "from scripts.read_data import read_news\n",
    "from scripts.read_data import read_covid\n",
    "import matplotlib.pyplot as plt \n",
    "from IPython.display import Markdown as md"
   ]
  },
  {
   "cell_type": "code",
   "execution_count": 2,
   "id": "shared-acceptance",
   "metadata": {
    "execution": {
     "iopub.execute_input": "2021-07-10T01:55:26.673937Z",
     "iopub.status.busy": "2021-07-10T01:55:26.672980Z",
     "iopub.status.idle": "2021-07-10T01:55:35.983127Z",
     "shell.execute_reply": "2021-07-10T01:55:35.983609Z"
    },
    "papermill": {
     "duration": 9.32577,
     "end_time": "2021-07-10T01:55:35.983774",
     "exception": false,
     "start_time": "2021-07-10T01:55:26.658004",
     "status": "completed"
    },
    "tags": []
   },
   "outputs": [],
   "source": [
    "#hide_input\n",
    "blockchain = read_news('blockchain') \n",
    "btc = read_news('btc') \n",
    "xrp = read_news('xrp') \n",
    "trx = read_news('trx') \n",
    "eth = read_news('eth')  \n",
    "ada = read_news('ada')\n",
    "exchange = read_news('exchange') "
   ]
  },
  {
   "cell_type": "code",
   "execution_count": 3,
   "id": "synthetic-notion",
   "metadata": {
    "execution": {
     "iopub.execute_input": "2021-07-10T01:55:36.009527Z",
     "iopub.status.busy": "2021-07-10T01:55:36.009013Z",
     "iopub.status.idle": "2021-07-10T01:55:36.014290Z",
     "shell.execute_reply": "2021-07-10T01:55:36.013885Z"
    },
    "papermill": {
     "duration": 0.020687,
     "end_time": "2021-07-10T01:55:36.014441",
     "exception": false,
     "start_time": "2021-07-10T01:55:35.993754",
     "status": "completed"
    },
    "tags": []
   },
   "outputs": [
    {
     "data": {
      "text/markdown": [
       "- Someone proposed a tool to reorg Ethereum blocks. But its “too dangerous” and “shouldn’t exist”.  The Ethereum network faces a potential crisis through plans to increase the power of miners to re-organize the blockchain. The post Someone proposed a tool to reorg Ethereum blocks. But its &#8220;too dangerous&#8221; and &#8220;shouldn&#8217;t exist&#8221; appeared first on CryptoSlate. ... [| Skaityti daugiau](https://cryptoslate.com/killing-eth-someone-wants-to-reorg-ethereum-blocks-and-the-community-is-furious/) "
      ],
      "text/plain": [
       "<IPython.core.display.Markdown object>"
      ]
     },
     "execution_count": 3,
     "metadata": {},
     "output_type": "execute_result"
    }
   ],
   "source": [
    "#hide_input\n",
    "#md('##### {}'.format(titleBTC)) \n",
    "md(\"- {}{} {}{} [| Skaityti daugiau]({}) \".format(blockchain['title'],'. ', blockchain['body'], ' ...', blockchain['url']))"
   ]
  },
  {
   "cell_type": "code",
   "execution_count": 4,
   "id": "aging-caution",
   "metadata": {
    "execution": {
     "iopub.execute_input": "2021-07-10T01:55:36.037930Z",
     "iopub.status.busy": "2021-07-10T01:55:36.037424Z",
     "iopub.status.idle": "2021-07-10T01:55:36.040151Z",
     "shell.execute_reply": "2021-07-10T01:55:36.040554Z"
    },
    "papermill": {
     "duration": 0.016859,
     "end_time": "2021-07-10T01:55:36.040677",
     "exception": false,
     "start_time": "2021-07-10T01:55:36.023818",
     "status": "completed"
    },
    "tags": []
   },
   "outputs": [
    {
     "data": {
      "text/markdown": [
       "- TikTok Is Banning Influencers From Promoting Cryptocurrencies.  TikTok has updated their policy on branded content this week, and the social media giant is putting a halt to crypto influencers. The policy could have implications for creators whose content relies on the crypto and broader financial landscapes. The Policy Change While the policy change does have some exemptions, the newly prohibited bucket of [&#8230;] ... [| Skaityti daugiau](https://bitcoinist.com/tiktok-is-banning-influencers-from-promoting-cryptocurrencies/?utm_source=rss&utm_medium=rss&utm_campaign=tiktok-is-banning-influencers-from-promoting-cryptocurrencies) "
      ],
      "text/plain": [
       "<IPython.core.display.Markdown object>"
      ]
     },
     "execution_count": 4,
     "metadata": {},
     "output_type": "execute_result"
    }
   ],
   "source": [
    "#hide_input\n",
    "#md('##### {}'.format(titleBTC)) \n",
    "md(\"- {}{} {}{} [| Skaityti daugiau]({}) \".format(btc['title'],'. ', btc['body'], ' ...', btc['url']))"
   ]
  },
  {
   "cell_type": "code",
   "execution_count": 5,
   "id": "organic-actress",
   "metadata": {
    "execution": {
     "iopub.execute_input": "2021-07-10T01:55:36.064430Z",
     "iopub.status.busy": "2021-07-10T01:55:36.063926Z",
     "iopub.status.idle": "2021-07-10T01:55:36.067491Z",
     "shell.execute_reply": "2021-07-10T01:55:36.067869Z"
    },
    "papermill": {
     "duration": 0.017556,
     "end_time": "2021-07-10T01:55:36.067997",
     "exception": false,
     "start_time": "2021-07-10T01:55:36.050441",
     "status": "completed"
    },
    "tags": []
   },
   "outputs": [
    {
     "data": {
      "text/markdown": [
       "- Price analysis 7/9: BTC, ETH, BNB, ADA, DOGE, XRP, DOT, UNI, BCH, SOL.  Technical indicators and Bitcoin’s tightening price range suggest that a sharp, trend-changing breakout in BTC and altcoins is brewing. ... [| Skaityti daugiau](https://cointelegraph.com/news/price-analysis-7-9-btc-eth-bnb-ada-doge-xrp-dot-uni-bch-sol) "
      ],
      "text/plain": [
       "<IPython.core.display.Markdown object>"
      ]
     },
     "execution_count": 5,
     "metadata": {},
     "output_type": "execute_result"
    }
   ],
   "source": [
    "#hide_input\n",
    "#md('##### {}'.format(titleBTC)) \n",
    "md(\"- {}{} {}{} [| Skaityti daugiau]({}) \".format(xrp['title'],'. ', xrp['body'], ' ...', xrp['url']))"
   ]
  },
  {
   "cell_type": "code",
   "execution_count": 6,
   "id": "prompt-farmer",
   "metadata": {
    "execution": {
     "iopub.execute_input": "2021-07-10T01:55:36.092818Z",
     "iopub.status.busy": "2021-07-10T01:55:36.092327Z",
     "iopub.status.idle": "2021-07-10T01:55:36.095375Z",
     "shell.execute_reply": "2021-07-10T01:55:36.094949Z"
    },
    "papermill": {
     "duration": 0.017467,
     "end_time": "2021-07-10T01:55:36.095482",
     "exception": false,
     "start_time": "2021-07-10T01:55:36.078015",
     "status": "completed"
    },
    "tags": []
   },
   "outputs": [
    {
     "data": {
      "text/markdown": [
       "- Tron’s (TRX) Daily Transaction Count Has Grown by 522% in One Year.  The daily transaction count on the Tron network has grown by 522% in the last year Tron recently hit an all-time high in daily transactions at 9.278 million The growth of unique accounts on Tron continues to grow in a parabolic manner with the network hosting 45.160 million total accounts However, TRX/USDT is about to experience a death cross that should usher in a bearish time period for Tron Yesterday, the Tron (TRX) network hit a new all-time high in [&#8230;] ... [| Skaityti daugiau](https://en.ethereumworldnews.com/trons-trx-daily-transaction-count-has-grown-by-522-in-one-year/) "
      ],
      "text/plain": [
       "<IPython.core.display.Markdown object>"
      ]
     },
     "execution_count": 6,
     "metadata": {},
     "output_type": "execute_result"
    }
   ],
   "source": [
    "#hide_input\n",
    "#md('##### {}'.format(titleBTC)) \n",
    "md(\"- {}{} {}{} [| Skaityti daugiau]({}) \".format(trx['title'],'. ', trx['body'], ' ...', trx['url']))"
   ]
  },
  {
   "cell_type": "code",
   "execution_count": 7,
   "id": "illegal-greece",
   "metadata": {
    "execution": {
     "iopub.execute_input": "2021-07-10T01:55:36.121057Z",
     "iopub.status.busy": "2021-07-10T01:55:36.120558Z",
     "iopub.status.idle": "2021-07-10T01:55:36.122828Z",
     "shell.execute_reply": "2021-07-10T01:55:36.123229Z"
    },
    "papermill": {
     "duration": 0.017405,
     "end_time": "2021-07-10T01:55:36.123350",
     "exception": false,
     "start_time": "2021-07-10T01:55:36.105945",
     "status": "completed"
    },
    "tags": []
   },
   "outputs": [
    {
     "data": {
      "text/markdown": [
       "- Someone proposed a tool to reorg Ethereum blocks. But its “too dangerous” and “shouldn’t exist”.  The Ethereum network faces a potential crisis through plans to increase the power of miners to re-organize the blockchain. The post Someone proposed a tool to reorg Ethereum blocks. But its &#8220;too dangerous&#8221; and &#8220;shouldn&#8217;t exist&#8221; appeared first on CryptoSlate. ... [| Skaityti daugiau](https://cryptoslate.com/killing-eth-someone-wants-to-reorg-ethereum-blocks-and-the-community-is-furious/) "
      ],
      "text/plain": [
       "<IPython.core.display.Markdown object>"
      ]
     },
     "execution_count": 7,
     "metadata": {},
     "output_type": "execute_result"
    }
   ],
   "source": [
    "#hide_input\n",
    "#md('##### {}'.format(titleBTC)) \n",
    "md(\"- {}{} {}{} [| Skaityti daugiau]({}) \".format(eth['title'],'. ', eth['body'], ' ...', eth['url']))"
   ]
  },
  {
   "cell_type": "code",
   "execution_count": 8,
   "id": "sublime-lounge",
   "metadata": {
    "execution": {
     "iopub.execute_input": "2021-07-10T01:55:36.149959Z",
     "iopub.status.busy": "2021-07-10T01:55:36.149463Z",
     "iopub.status.idle": "2021-07-10T01:55:36.152411Z",
     "shell.execute_reply": "2021-07-10T01:55:36.151981Z"
    },
    "papermill": {
     "duration": 0.018476,
     "end_time": "2021-07-10T01:55:36.152519",
     "exception": false,
     "start_time": "2021-07-10T01:55:36.134043",
     "status": "completed"
    },
    "tags": []
   },
   "outputs": [
    {
     "data": {
      "text/markdown": [
       "- Cardano’s traders should expect this if the market falls again.  Disclaimer: The findings of the following analysis are the sole opinions of the writer and should not be taken as investment advice While Cardano&#8217;s market was building up towards an ascending triangle breakout last week, its market structure took a bearish turn soon after. Losses over the last three days piled up to 10% as ADA [&#8230;] ... [| Skaityti daugiau](https://ambcrypto.com/cardanos-traders-should-expect-this-if-the-market-falls-again/) "
      ],
      "text/plain": [
       "<IPython.core.display.Markdown object>"
      ]
     },
     "execution_count": 8,
     "metadata": {},
     "output_type": "execute_result"
    }
   ],
   "source": [
    "#hide_input\n",
    "#md('##### {}'.format(titleBTC)) \n",
    "md(\"- {}{} {}{} [| Skaityti daugiau]({}) \".format(ada['title'],'. ', ada['body'], ' ...', ada['url']))"
   ]
  },
  {
   "cell_type": "code",
   "execution_count": 9,
   "id": "specified-ordering",
   "metadata": {
    "execution": {
     "iopub.execute_input": "2021-07-10T01:55:36.177425Z",
     "iopub.status.busy": "2021-07-10T01:55:36.176924Z",
     "iopub.status.idle": "2021-07-10T01:55:36.182530Z",
     "shell.execute_reply": "2021-07-10T01:55:36.182069Z"
    },
    "papermill": {
     "duration": 0.018957,
     "end_time": "2021-07-10T01:55:36.182643",
     "exception": false,
     "start_time": "2021-07-10T01:55:36.163686",
     "status": "completed"
    },
    "tags": []
   },
   "outputs": [
    {
     "data": {
      "text/markdown": [
       "- Opinion: Binance Won’t Be Harmed by U.K. Banks.   ... [| Skaityti daugiau](https://cryptobriefing.com/opinion-uk-bank-restrictions-wont-harm-binance/) "
      ],
      "text/plain": [
       "<IPython.core.display.Markdown object>"
      ]
     },
     "execution_count": 9,
     "metadata": {},
     "output_type": "execute_result"
    }
   ],
   "source": [
    "#hide_input\n",
    "#md('##### {}'.format(titleBTC)) \n",
    "md(\"- {}{} {}{} [| Skaityti daugiau]({}) \".format(exchange['title'],'. ', exchange['body'], ' ...', exchange['url']))"
   ]
  },
  {
   "cell_type": "code",
   "execution_count": null,
   "id": "tender-livestock",
   "metadata": {
    "papermill": {
     "duration": 0.011322,
     "end_time": "2021-07-10T01:55:36.205363",
     "exception": false,
     "start_time": "2021-07-10T01:55:36.194041",
     "status": "completed"
    },
    "tags": []
   },
   "outputs": [],
   "source": []
  },
  {
   "cell_type": "code",
   "execution_count": null,
   "id": "appreciated-diamond",
   "metadata": {
    "papermill": {
     "duration": 0.011301,
     "end_time": "2021-07-10T01:55:36.228206",
     "exception": false,
     "start_time": "2021-07-10T01:55:36.216905",
     "status": "completed"
    },
    "tags": []
   },
   "outputs": [],
   "source": []
  },
  {
   "cell_type": "code",
   "execution_count": null,
   "id": "romance-sweden",
   "metadata": {
    "papermill": {
     "duration": 0.011421,
     "end_time": "2021-07-10T01:55:36.250936",
     "exception": false,
     "start_time": "2021-07-10T01:55:36.239515",
     "status": "completed"
    },
    "tags": []
   },
   "outputs": [],
   "source": []
  },
  {
   "cell_type": "code",
   "execution_count": null,
   "id": "dietary-statistics",
   "metadata": {
    "papermill": {
     "duration": 0.011192,
     "end_time": "2021-07-10T01:55:36.273316",
     "exception": false,
     "start_time": "2021-07-10T01:55:36.262124",
     "status": "completed"
    },
    "tags": []
   },
   "outputs": [],
   "source": []
  }
 ],
 "metadata": {
  "kernelspec": {
   "display_name": "Python 3",
   "language": "python",
   "name": "python3"
  },
  "language_info": {
   "codemirror_mode": {
    "name": "ipython",
    "version": 3
   },
   "file_extension": ".py",
   "mimetype": "text/x-python",
   "name": "python",
   "nbconvert_exporter": "python",
   "pygments_lexer": "ipython3",
   "version": "3.6.13"
  },
  "papermill": {
   "default_parameters": {},
   "duration": 13.279482,
   "end_time": "2021-07-10T01:55:37.724112",
   "environment_variables": {},
   "exception": null,
   "input_path": "Market-News.ipynb",
   "output_path": "Market-News.ipynb",
   "parameters": {},
   "start_time": "2021-07-10T01:55:24.444630",
   "version": "2.2.2"
  }
 },
 "nbformat": 4,
 "nbformat_minor": 5
}