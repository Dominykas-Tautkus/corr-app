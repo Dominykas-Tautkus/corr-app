{
 "cells": [
  {
   "cell_type": "markdown",
   "id": "short-greensboro",
   "metadata": {
    "papermill": {
     "duration": 0.015553,
     "end_time": "2021-04-22T02:09:37.658045",
     "exception": false,
     "start_time": "2021-04-22T02:09:37.642492",
     "status": "completed"
    },
    "tags": []
   },
   "source": [
    "# Kriptovaliutų naujienos"
   ]
  },
  {
   "cell_type": "code",
   "execution_count": 1,
   "id": "functioning-knowing",
   "metadata": {
    "execution": {
     "iopub.execute_input": "2021-04-22T02:09:37.693601Z",
     "iopub.status.busy": "2021-04-22T02:09:37.692972Z",
     "iopub.status.idle": "2021-04-22T02:09:39.005365Z",
     "shell.execute_reply": "2021-04-22T02:09:39.004829Z"
    },
    "papermill": {
     "duration": 1.335225,
     "end_time": "2021-04-22T02:09:39.005527",
     "exception": false,
     "start_time": "2021-04-22T02:09:37.670302",
     "status": "completed"
    },
    "tags": []
   },
   "outputs": [],
   "source": [
    "#hide_input\n",
    "import warnings\n",
    "warnings.filterwarnings('ignore')\n",
    "from scripts.read_data import read_api\n",
    "from scripts.read_data import read_news\n",
    "from scripts.read_data import read_covid\n",
    "import matplotlib.pyplot as plt \n",
    "from IPython.display import Markdown as md"
   ]
  },
  {
   "cell_type": "code",
   "execution_count": 2,
   "id": "shared-acceptance",
   "metadata": {
    "execution": {
     "iopub.execute_input": "2021-04-22T02:09:39.033758Z",
     "iopub.status.busy": "2021-04-22T02:09:39.033060Z",
     "iopub.status.idle": "2021-04-22T02:09:47.248955Z",
     "shell.execute_reply": "2021-04-22T02:09:47.248376Z"
    },
    "papermill": {
     "duration": 8.232871,
     "end_time": "2021-04-22T02:09:47.249100",
     "exception": false,
     "start_time": "2021-04-22T02:09:39.016229",
     "status": "completed"
    },
    "tags": []
   },
   "outputs": [],
   "source": [
    "#hide_input\n",
    "blockchain = read_news('blockchain') \n",
    "btc = read_news('btc') \n",
    "xrp = read_news('xrp') \n",
    "trx = read_news('trx') \n",
    "eth = read_news('eth')  \n",
    "ada = read_news('ada')\n",
    "exchange = read_news('exchange') "
   ]
  },
  {
   "cell_type": "code",
   "execution_count": 3,
   "id": "synthetic-notion",
   "metadata": {
    "execution": {
     "iopub.execute_input": "2021-04-22T02:09:47.277187Z",
     "iopub.status.busy": "2021-04-22T02:09:47.276577Z",
     "iopub.status.idle": "2021-04-22T02:09:47.284117Z",
     "shell.execute_reply": "2021-04-22T02:09:47.283570Z"
    },
    "papermill": {
     "duration": 0.023926,
     "end_time": "2021-04-22T02:09:47.284246",
     "exception": false,
     "start_time": "2021-04-22T02:09:47.260320",
     "status": "completed"
    },
    "tags": []
   },
   "outputs": [
    {
     "data": {
      "text/markdown": [
       "- Wave of Bitcoin Buyers Appear to Have No Interest in Selling: On-Chain Analyst.  On-chain analyst William Clemente III is revealing that the quantity of Bitcoin being held for relatively longer-term periods is increasing. In a new tweet, Clemente tells his 26,800 followers that the surge in the number of non-moving BTC is likely is due to institutional investors&#8217; unwillingness to sell. &#8220;The amount of non-moving Bitcoin supply, (in [&#8230;]The post Wave of Bitcoin Buyers Appear to Have No Interest in Selling: On-Chain Analyst appeared first on The Daily Hodl. ... [| Skaityti daugiau](https://dailyhodl.com/2021/04/21/wave-of-bitcoin-buyers-appear-to-have-no-interest-in-selling-on-chain-analyst/) "
      ],
      "text/plain": [
       "<IPython.core.display.Markdown object>"
      ]
     },
     "execution_count": 3,
     "metadata": {},
     "output_type": "execute_result"
    }
   ],
   "source": [
    "#hide_input\n",
    "#md('##### {}'.format(titleBTC)) \n",
    "md(\"- {}{} {}{} [| Skaityti daugiau]({}) \".format(blockchain['title'],'. ', blockchain['body'], ' ...', blockchain['url']))"
   ]
  },
  {
   "cell_type": "code",
   "execution_count": 4,
   "id": "aging-caution",
   "metadata": {
    "execution": {
     "iopub.execute_input": "2021-04-22T02:09:47.318978Z",
     "iopub.status.busy": "2021-04-22T02:09:47.318360Z",
     "iopub.status.idle": "2021-04-22T02:09:47.321886Z",
     "shell.execute_reply": "2021-04-22T02:09:47.321379Z"
    },
    "papermill": {
     "duration": 0.025305,
     "end_time": "2021-04-22T02:09:47.322014",
     "exception": false,
     "start_time": "2021-04-22T02:09:47.296709",
     "status": "completed"
    },
    "tags": []
   },
   "outputs": [
    {
     "data": {
      "text/markdown": [
       "- BitMEX lays out ambitions to expand business into spot, custody, and education services.  Once the poster child for the Wild West of bitcoin derivatives trading, BitMEX announced Wednesday night its intensions to gate-crash a wide range of new businesses under a regulatory compliant mission. In a blog post shared with The Block, the Hong Kong-based futures trading venue said it would expand beyond its bread and butter derivatives [&#8230;]The post BitMEX lays out ambitions to expand business into spot, custody, and education services appeared first on The Block. ... [| Skaityti daugiau](https://www.theblockcrypto.com/post/102543/bitmex-lays-out-ambitions-to-expand-business-into-spot-custody-and-education-services?utm_source=cryptocompare&utm_medium=rss) "
      ],
      "text/plain": [
       "<IPython.core.display.Markdown object>"
      ]
     },
     "execution_count": 4,
     "metadata": {},
     "output_type": "execute_result"
    }
   ],
   "source": [
    "#hide_input\n",
    "#md('##### {}'.format(titleBTC)) \n",
    "md(\"- {}{} {}{} [| Skaityti daugiau]({}) \".format(btc['title'],'. ', btc['body'], ' ...', btc['url']))"
   ]
  },
  {
   "cell_type": "code",
   "execution_count": 5,
   "id": "organic-actress",
   "metadata": {
    "execution": {
     "iopub.execute_input": "2021-04-22T02:09:47.349803Z",
     "iopub.status.busy": "2021-04-22T02:09:47.349188Z",
     "iopub.status.idle": "2021-04-22T02:09:47.352973Z",
     "shell.execute_reply": "2021-04-22T02:09:47.352446Z"
    },
    "papermill": {
     "duration": 0.019539,
     "end_time": "2021-04-22T02:09:47.353090",
     "exception": false,
     "start_time": "2021-04-22T02:09:47.333551",
     "status": "completed"
    },
    "tags": []
   },
   "outputs": [
    {
     "data": {
      "text/markdown": [
       "- Why XRP Holders Could Be Key In Lawsuit Against Ripple Labs.  Former federal prosecutor James K. Filan has been involved with the lawsuit filed by the Securities and Exchanges Commission (SEC) versus Ripple Labs and two of its executives. Accused of the alleged illegal sale of an unregistered security, the token XRP, Filan has shared his opinion on the case, presented crucial documents, and discussing with [&#8230;] ... [| Skaityti daugiau](https://www.newsbtc.com/news/why-xrp-holders-could-be-key-in-lawsuit-against-ripple-labs/) "
      ],
      "text/plain": [
       "<IPython.core.display.Markdown object>"
      ]
     },
     "execution_count": 5,
     "metadata": {},
     "output_type": "execute_result"
    }
   ],
   "source": [
    "#hide_input\n",
    "#md('##### {}'.format(titleBTC)) \n",
    "md(\"- {}{} {}{} [| Skaityti daugiau]({}) \".format(xrp['title'],'. ', xrp['body'], ' ...', xrp['url']))"
   ]
  },
  {
   "cell_type": "code",
   "execution_count": 6,
   "id": "prompt-farmer",
   "metadata": {
    "execution": {
     "iopub.execute_input": "2021-04-22T02:09:47.384121Z",
     "iopub.status.busy": "2021-04-22T02:09:47.383455Z",
     "iopub.status.idle": "2021-04-22T02:09:47.386969Z",
     "shell.execute_reply": "2021-04-22T02:09:47.386379Z"
    },
    "papermill": {
     "duration": 0.022579,
     "end_time": "2021-04-22T02:09:47.387140",
     "exception": false,
     "start_time": "2021-04-22T02:09:47.364561",
     "status": "completed"
    },
    "tags": []
   },
   "outputs": [
    {
     "data": {
      "text/markdown": [
       "- TRX Price Analysis: TRX Uptrend Begins To Collapse After Smashing an Yearly High.  TRX is currently facing strong hindrances inside the $0.30 and $0.38 range. TRX seems to be forming a head and shoulder pattern on the daily chart. The token has recently broken out of a 3-year resistance. Looking upon the daily chart of TRX, it is perceived that this token is in the midst of forming [&#8230;] ... [| Skaityti daugiau](https://www.thecoinrepublic.com/2021/04/21/trx-price-analysis-trx-uptrend-begins-to-collapse-after-smashing-an-yearly-high/) "
      ],
      "text/plain": [
       "<IPython.core.display.Markdown object>"
      ]
     },
     "execution_count": 6,
     "metadata": {},
     "output_type": "execute_result"
    }
   ],
   "source": [
    "#hide_input\n",
    "#md('##### {}'.format(titleBTC)) \n",
    "md(\"- {}{} {}{} [| Skaityti daugiau]({}) \".format(trx['title'],'. ', trx['body'], ' ...', trx['url']))"
   ]
  },
  {
   "cell_type": "code",
   "execution_count": 7,
   "id": "illegal-greece",
   "metadata": {
    "execution": {
     "iopub.execute_input": "2021-04-22T02:09:47.418677Z",
     "iopub.status.busy": "2021-04-22T02:09:47.418026Z",
     "iopub.status.idle": "2021-04-22T02:09:47.421738Z",
     "shell.execute_reply": "2021-04-22T02:09:47.421199Z"
    },
    "papermill": {
     "duration": 0.021799,
     "end_time": "2021-04-22T02:09:47.421883",
     "exception": false,
     "start_time": "2021-04-22T02:09:47.400084",
     "status": "completed"
    },
    "tags": []
   },
   "outputs": [
    {
     "data": {
      "text/markdown": [
       "- Weiss Crypto Ratings: There Won’t Be An Ethereum Killer Anytime Soon.  Ethereum is impractical to use right now, and traders are looking for alternatives. But Weiss Crypto Rating says there won't be an Ethereum Killer soon. ... [| Skaityti daugiau](https://cryptopotato.com/weiss-crypto-ratings-there-wont-be-an-ethereum-killer-anytime-soon/) "
      ],
      "text/plain": [
       "<IPython.core.display.Markdown object>"
      ]
     },
     "execution_count": 7,
     "metadata": {},
     "output_type": "execute_result"
    }
   ],
   "source": [
    "#hide_input\n",
    "#md('##### {}'.format(titleBTC)) \n",
    "md(\"- {}{} {}{} [| Skaityti daugiau]({}) \".format(eth['title'],'. ', eth['body'], ' ...', eth['url']))"
   ]
  },
  {
   "cell_type": "code",
   "execution_count": 8,
   "id": "sublime-lounge",
   "metadata": {
    "execution": {
     "iopub.execute_input": "2021-04-22T02:09:47.454615Z",
     "iopub.status.busy": "2021-04-22T02:09:47.453952Z",
     "iopub.status.idle": "2021-04-22T02:09:47.457293Z",
     "shell.execute_reply": "2021-04-22T02:09:47.457932Z"
    },
    "papermill": {
     "duration": 0.022445,
     "end_time": "2021-04-22T02:09:47.458080",
     "exception": false,
     "start_time": "2021-04-22T02:09:47.435635",
     "status": "completed"
    },
    "tags": []
   },
   "outputs": [
    {
     "data": {
      "text/markdown": [
       "- XRP, Dogecoin, Cardano, Ethereum Price Analysis: 21 April.  Thanks to Bitcoin&#8217;s inability to climb out of its price range under $60,000 and the altcoin market losing its early-April momentum, the likes of XRP, Dogecoin, Cardano, and Ethereum were all flashing bearish signals at press time. This, despite the fact that each of them registered crucial price landmarks over the past week. XRP XRP, [&#8230;] ... [| Skaityti daugiau](https://ambcrypto.com/xrp-dogecoin-cardano-ethereum-price-analysis-21-april/) "
      ],
      "text/plain": [
       "<IPython.core.display.Markdown object>"
      ]
     },
     "execution_count": 8,
     "metadata": {},
     "output_type": "execute_result"
    }
   ],
   "source": [
    "#hide_input\n",
    "#md('##### {}'.format(titleBTC)) \n",
    "md(\"- {}{} {}{} [| Skaityti daugiau]({}) \".format(ada['title'],'. ', ada['body'], ' ...', ada['url']))"
   ]
  },
  {
   "cell_type": "code",
   "execution_count": 9,
   "id": "specified-ordering",
   "metadata": {
    "execution": {
     "iopub.execute_input": "2021-04-22T02:09:47.492265Z",
     "iopub.status.busy": "2021-04-22T02:09:47.491003Z",
     "iopub.status.idle": "2021-04-22T02:09:47.495610Z",
     "shell.execute_reply": "2021-04-22T02:09:47.496251Z"
    },
    "papermill": {
     "duration": 0.024414,
     "end_time": "2021-04-22T02:09:47.496416",
     "exception": false,
     "start_time": "2021-04-22T02:09:47.472002",
     "status": "completed"
    },
    "tags": []
   },
   "outputs": [
    {
     "data": {
      "text/markdown": [
       "- Multi-billion dollar investment trust backs Kraken ahead of possible listing.  A London-based trust with ties to the Rothschild banking family, acquired a stake in crypto exchange Kraken last month.  ... [| Skaityti daugiau](https://cointelegraph.com/news/multi-billion-dollar-investment-trust-backs-kraken-ahead-of-possible-listing) "
      ],
      "text/plain": [
       "<IPython.core.display.Markdown object>"
      ]
     },
     "execution_count": 9,
     "metadata": {},
     "output_type": "execute_result"
    }
   ],
   "source": [
    "#hide_input\n",
    "#md('##### {}'.format(titleBTC)) \n",
    "md(\"- {}{} {}{} [| Skaityti daugiau]({}) \".format(exchange['title'],'. ', exchange['body'], ' ...', exchange['url']))"
   ]
  },
  {
   "cell_type": "code",
   "execution_count": null,
   "id": "tender-livestock",
   "metadata": {
    "papermill": {
     "duration": 0.014858,
     "end_time": "2021-04-22T02:09:47.525659",
     "exception": false,
     "start_time": "2021-04-22T02:09:47.510801",
     "status": "completed"
    },
    "tags": []
   },
   "outputs": [],
   "source": []
  },
  {
   "cell_type": "code",
   "execution_count": null,
   "id": "appreciated-diamond",
   "metadata": {
    "papermill": {
     "duration": 0.014239,
     "end_time": "2021-04-22T02:09:47.554466",
     "exception": false,
     "start_time": "2021-04-22T02:09:47.540227",
     "status": "completed"
    },
    "tags": []
   },
   "outputs": [],
   "source": []
  },
  {
   "cell_type": "code",
   "execution_count": null,
   "id": "romance-sweden",
   "metadata": {
    "papermill": {
     "duration": 0.013339,
     "end_time": "2021-04-22T02:09:47.581522",
     "exception": false,
     "start_time": "2021-04-22T02:09:47.568183",
     "status": "completed"
    },
    "tags": []
   },
   "outputs": [],
   "source": []
  },
  {
   "cell_type": "code",
   "execution_count": null,
   "id": "dietary-statistics",
   "metadata": {
    "papermill": {
     "duration": 0.013528,
     "end_time": "2021-04-22T02:09:47.608974",
     "exception": false,
     "start_time": "2021-04-22T02:09:47.595446",
     "status": "completed"
    },
    "tags": []
   },
   "outputs": [],
   "source": []
  }
 ],
 "metadata": {
  "kernelspec": {
   "display_name": "Python 3",
   "language": "python",
   "name": "python3"
  },
  "language_info": {
   "codemirror_mode": {
    "name": "ipython",
    "version": 3
   },
   "file_extension": ".py",
   "mimetype": "text/x-python",
   "name": "python",
   "nbconvert_exporter": "python",
   "pygments_lexer": "ipython3",
   "version": "3.6.13"
  },
  "papermill": {
   "default_parameters": {},
   "duration": 11.657172,
   "end_time": "2021-04-22T02:09:48.030118",
   "environment_variables": {},
   "exception": null,
   "input_path": "Market-News.ipynb",
   "output_path": "Market-News.ipynb",
   "parameters": {},
   "start_time": "2021-04-22T02:09:36.372946",
   "version": "2.2.2"
  }
 },
 "nbformat": 4,
 "nbformat_minor": 5
}