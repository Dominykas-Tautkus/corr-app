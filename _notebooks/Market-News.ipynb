{
 "cells": [
  {
   "cell_type": "markdown",
   "id": "short-greensboro",
   "metadata": {
    "papermill": {
     "duration": 0.01679,
     "end_time": "2021-05-30T04:11:39.572616",
     "exception": false,
     "start_time": "2021-05-30T04:11:39.555826",
     "status": "completed"
    },
    "tags": []
   },
   "source": [
    "# Kriptovaliutų naujienos"
   ]
  },
  {
   "cell_type": "code",
   "execution_count": 1,
   "id": "functioning-knowing",
   "metadata": {
    "execution": {
     "iopub.execute_input": "2021-05-30T04:11:39.609482Z",
     "iopub.status.busy": "2021-05-30T04:11:39.608744Z",
     "iopub.status.idle": "2021-05-30T04:11:40.966567Z",
     "shell.execute_reply": "2021-05-30T04:11:40.965988Z"
    },
    "papermill": {
     "duration": 1.381121,
     "end_time": "2021-05-30T04:11:40.966730",
     "exception": false,
     "start_time": "2021-05-30T04:11:39.585609",
     "status": "completed"
    },
    "tags": []
   },
   "outputs": [],
   "source": [
    "#hide_input\n",
    "import warnings\n",
    "warnings.filterwarnings('ignore')\n",
    "from scripts.read_data import read_api\n",
    "from scripts.read_data import read_news\n",
    "from scripts.read_data import read_covid\n",
    "import matplotlib.pyplot as plt \n",
    "from IPython.display import Markdown as md"
   ]
  },
  {
   "cell_type": "code",
   "execution_count": 2,
   "id": "shared-acceptance",
   "metadata": {
    "execution": {
     "iopub.execute_input": "2021-05-30T04:11:40.995899Z",
     "iopub.status.busy": "2021-05-30T04:11:40.991963Z",
     "iopub.status.idle": "2021-05-30T04:11:48.234955Z",
     "shell.execute_reply": "2021-05-30T04:11:48.234395Z"
    },
    "papermill": {
     "duration": 7.25636,
     "end_time": "2021-05-30T04:11:48.235101",
     "exception": false,
     "start_time": "2021-05-30T04:11:40.978741",
     "status": "completed"
    },
    "tags": []
   },
   "outputs": [],
   "source": [
    "#hide_input\n",
    "blockchain = read_news('blockchain') \n",
    "btc = read_news('btc') \n",
    "xrp = read_news('xrp') \n",
    "trx = read_news('trx') \n",
    "eth = read_news('eth')  \n",
    "ada = read_news('ada')\n",
    "exchange = read_news('exchange') "
   ]
  },
  {
   "cell_type": "code",
   "execution_count": 3,
   "id": "synthetic-notion",
   "metadata": {
    "execution": {
     "iopub.execute_input": "2021-05-30T04:11:48.264665Z",
     "iopub.status.busy": "2021-05-30T04:11:48.264005Z",
     "iopub.status.idle": "2021-05-30T04:11:48.267345Z",
     "shell.execute_reply": "2021-05-30T04:11:48.266791Z"
    },
    "papermill": {
     "duration": 0.02093,
     "end_time": "2021-05-30T04:11:48.267480",
     "exception": false,
     "start_time": "2021-05-30T04:11:48.246550",
     "status": "completed"
    },
    "tags": []
   },
   "outputs": [
    {
     "data": {
      "text/markdown": [
       "- Ethereum’s EIP-1559 ‘does NOT deliver’.  Ethereum Improvement Proposal (EIP) 1559 has been a subject that has garnered opposing points of view from different people from the community ever since it was proposed. The aforementioned protocol is set to be incorporated in the hard fork after Berlin in July. While many in the community firmly believe that the update would change [&#8230;] ... [| Skaityti daugiau](https://ambcrypto.com/ethereums-eip-1559-does-not-deliver/) "
      ],
      "text/plain": [
       "<IPython.core.display.Markdown object>"
      ]
     },
     "execution_count": 3,
     "metadata": {},
     "output_type": "execute_result"
    }
   ],
   "source": [
    "#hide_input\n",
    "#md('##### {}'.format(titleBTC)) \n",
    "md(\"- {}{} {}{} [| Skaityti daugiau]({}) \".format(blockchain['title'],'. ', blockchain['body'], ' ...', blockchain['url']))"
   ]
  },
  {
   "cell_type": "code",
   "execution_count": 4,
   "id": "aging-caution",
   "metadata": {
    "execution": {
     "iopub.execute_input": "2021-05-30T04:11:48.303139Z",
     "iopub.status.busy": "2021-05-30T04:11:48.302501Z",
     "iopub.status.idle": "2021-05-30T04:11:48.306134Z",
     "shell.execute_reply": "2021-05-30T04:11:48.305592Z"
    },
    "papermill": {
     "duration": 0.027221,
     "end_time": "2021-05-30T04:11:48.306263",
     "exception": false,
     "start_time": "2021-05-30T04:11:48.279042",
     "status": "completed"
    },
    "tags": []
   },
   "outputs": [
    {
     "data": {
      "text/markdown": [
       "- Bitcoinist Book Club: “The Bitcoin Standard” (Chapter 3, Part 1: Why Gold?).  Welcome back, Bitcoin lovers! For those who’re just tunning in, we’re currently exploring “The Bitcoin Standard” by Saifedean Ammous. When we finish with the third chapter, you’ll know exactly why humanity picked gold as the most precious of metals and its form of money of choice. The reasons are unarguable. Humanity was extremely clever to [&#8230;] ... [| Skaityti daugiau](https://bitcoinist.com/bitcoinist-book-club-the-bitcoin-standard-chapter-3-part-1-why-gold/?utm_source=rss&utm_medium=rss&utm_campaign=bitcoinist-book-club-the-bitcoin-standard-chapter-3-part-1-why-gold) "
      ],
      "text/plain": [
       "<IPython.core.display.Markdown object>"
      ]
     },
     "execution_count": 4,
     "metadata": {},
     "output_type": "execute_result"
    }
   ],
   "source": [
    "#hide_input\n",
    "#md('##### {}'.format(titleBTC)) \n",
    "md(\"- {}{} {}{} [| Skaityti daugiau]({}) \".format(btc['title'],'. ', btc['body'], ' ...', btc['url']))"
   ]
  },
  {
   "cell_type": "code",
   "execution_count": 5,
   "id": "organic-actress",
   "metadata": {
    "execution": {
     "iopub.execute_input": "2021-05-30T04:11:48.335511Z",
     "iopub.status.busy": "2021-05-30T04:11:48.334856Z",
     "iopub.status.idle": "2021-05-30T04:11:48.338369Z",
     "shell.execute_reply": "2021-05-30T04:11:48.337818Z"
    },
    "papermill": {
     "duration": 0.020477,
     "end_time": "2021-05-30T04:11:48.338499",
     "exception": false,
     "start_time": "2021-05-30T04:11:48.318022",
     "status": "completed"
    },
    "tags": []
   },
   "outputs": [
    {
     "data": {
      "text/markdown": [
       "- Ripple Reiterates Its Intention To Be Carbon-Neutral by 2030.  Ripple has reiterated its commitment to become carbon net-zero by 2030 as part of an effort to avert worst-case climate change scenarios in a move similar to one made by most countries throughout the world, which have committed to the same goal but by 2050. On Thursday (May 27), Ripple tweeted: Ripple’s tweet linked to […] ... [| Skaityti daugiau](https://www.cryptoglobe.com/latest/2021/05/ripple-explains-how-it-aims-to-be-carbon-neutral-by-2030/) "
      ],
      "text/plain": [
       "<IPython.core.display.Markdown object>"
      ]
     },
     "execution_count": 5,
     "metadata": {},
     "output_type": "execute_result"
    }
   ],
   "source": [
    "#hide_input\n",
    "#md('##### {}'.format(titleBTC)) \n",
    "md(\"- {}{} {}{} [| Skaityti daugiau]({}) \".format(xrp['title'],'. ', xrp['body'], ' ...', xrp['url']))"
   ]
  },
  {
   "cell_type": "code",
   "execution_count": 6,
   "id": "prompt-farmer",
   "metadata": {
    "execution": {
     "iopub.execute_input": "2021-05-30T04:11:48.371643Z",
     "iopub.status.busy": "2021-05-30T04:11:48.370702Z",
     "iopub.status.idle": "2021-05-30T04:11:48.374330Z",
     "shell.execute_reply": "2021-05-30T04:11:48.374855Z"
    },
    "papermill": {
     "duration": 0.023188,
     "end_time": "2021-05-30T04:11:48.375004",
     "exception": false,
     "start_time": "2021-05-30T04:11:48.351816",
     "status": "completed"
    },
    "tags": []
   },
   "outputs": [
    {
     "data": {
      "text/markdown": [
       "- Tron (TRX) Price Analysis: Bulls Facing Hurdles Near $0.092.  Tron price extended its decline below the $0.1000 and $0.0900 support levels against the US Dollar. TRX price is now trading well below $0.1000 and the 55 simple moving average (4-hours). There is a major bearish trend line forming with resistance near $0.0900 on the 4-hours chart (data feed via Bitfinex). The pair is likely...The post Tron (TRX) Price Analysis: Bulls Facing Hurdles Near $0.092 appeared first on Live Bitcoin News. ... [| Skaityti daugiau](https://www.livebitcoinnews.com/tron-trx-price-analysis-bulls-facing-hurdles-near-0-092/) "
      ],
      "text/plain": [
       "<IPython.core.display.Markdown object>"
      ]
     },
     "execution_count": 6,
     "metadata": {},
     "output_type": "execute_result"
    }
   ],
   "source": [
    "#hide_input\n",
    "#md('##### {}'.format(titleBTC)) \n",
    "md(\"- {}{} {}{} [| Skaityti daugiau]({}) \".format(trx['title'],'. ', trx['body'], ' ...', trx['url']))"
   ]
  },
  {
   "cell_type": "code",
   "execution_count": 7,
   "id": "illegal-greece",
   "metadata": {
    "execution": {
     "iopub.execute_input": "2021-05-30T04:11:48.406903Z",
     "iopub.status.busy": "2021-05-30T04:11:48.406267Z",
     "iopub.status.idle": "2021-05-30T04:11:48.409277Z",
     "shell.execute_reply": "2021-05-30T04:11:48.409883Z"
    },
    "papermill": {
     "duration": 0.021883,
     "end_time": "2021-05-30T04:11:48.410026",
     "exception": false,
     "start_time": "2021-05-30T04:11:48.388143",
     "status": "completed"
    },
    "tags": []
   },
   "outputs": [
    {
     "data": {
      "text/markdown": [
       "- Billionaire Stan Druckenmiller on Dogecoin, Ethereum: Won’t Long or Short DOGE, Skeptical of ETH.  Renowned investor Stanley Druckenmiller has shared his views on dogecoin and ethereum. He said he wouldn&#8217;t long or short dogecoin and laughs when the meme cryptocurrency rises in value. As for ether, he is skeptical whether it can hold its position. Stan Druckenmiller on Dogecoin and Ether In an interview with The Hustle last week, [&#8230;] ... [| Skaityti daugiau](https://news.bitcoin.com/stan-druckenmiller-dogecoin-ethereum-wont-long-short-doge-skeptical-eth/) "
      ],
      "text/plain": [
       "<IPython.core.display.Markdown object>"
      ]
     },
     "execution_count": 7,
     "metadata": {},
     "output_type": "execute_result"
    }
   ],
   "source": [
    "#hide_input\n",
    "#md('##### {}'.format(titleBTC)) \n",
    "md(\"- {}{} {}{} [| Skaityti daugiau]({}) \".format(eth['title'],'. ', eth['body'], ' ...', eth['url']))"
   ]
  },
  {
   "cell_type": "code",
   "execution_count": 8,
   "id": "sublime-lounge",
   "metadata": {
    "execution": {
     "iopub.execute_input": "2021-05-30T04:11:48.443015Z",
     "iopub.status.busy": "2021-05-30T04:11:48.442301Z",
     "iopub.status.idle": "2021-05-30T04:11:48.445647Z",
     "shell.execute_reply": "2021-05-30T04:11:48.445016Z"
    },
    "papermill": {
     "duration": 0.021208,
     "end_time": "2021-05-30T04:11:48.445777",
     "exception": false,
     "start_time": "2021-05-30T04:11:48.424569",
     "status": "completed"
    },
    "tags": []
   },
   "outputs": [
    {
     "data": {
      "text/markdown": [
       "- Cardano, ICP, Dogecoin Price Analysis: 29 May.  Cardano was in jeopardy of a 20% fall in case of a descending triangle breakdown. ICP could move to the demand zone of $111-$85 over the coming sessions. Finally, the lack of buying pressure could see DOGE concede $0.291 to the sellers. Cardano [ADA] Several warning signs lay ahead for Cardano&#8217;s short-term trajectory. The first [&#8230;] ... [| Skaityti daugiau](https://ambcrypto.com/cardano-icp-dogecoin-price-analysis-29-may/) "
      ],
      "text/plain": [
       "<IPython.core.display.Markdown object>"
      ]
     },
     "execution_count": 8,
     "metadata": {},
     "output_type": "execute_result"
    }
   ],
   "source": [
    "#hide_input\n",
    "#md('##### {}'.format(titleBTC)) \n",
    "md(\"- {}{} {}{} [| Skaityti daugiau]({}) \".format(ada['title'],'. ', ada['body'], ' ...', ada['url']))"
   ]
  },
  {
   "cell_type": "code",
   "execution_count": 9,
   "id": "specified-ordering",
   "metadata": {
    "execution": {
     "iopub.execute_input": "2021-05-30T04:11:48.478000Z",
     "iopub.status.busy": "2021-05-30T04:11:48.477365Z",
     "iopub.status.idle": "2021-05-30T04:11:48.481038Z",
     "shell.execute_reply": "2021-05-30T04:11:48.480496Z"
    },
    "papermill": {
     "duration": 0.021624,
     "end_time": "2021-05-30T04:11:48.481163",
     "exception": false,
     "start_time": "2021-05-30T04:11:48.459539",
     "status": "completed"
    },
    "tags": []
   },
   "outputs": [
    {
     "data": {
      "text/markdown": [
       "- Down 10% In One Day, Ethereum Exchange Inflows Skyrocket.  Ethereum has followed Bitcoin&#8216;s trajectory and has registered a new 10% correction in the daily chart. The top cryptocurrencies have suffered for the past week. Fear and uncertainty seem to be driving market participants. At the time of writing, ETH trades at $2,270 with red across all charts. The cryptocurrency was rejected after it briefly [&#8230;] ... [| Skaityti daugiau](https://www.newsbtc.com/news/ethereum/ethereum-exchange-inflows-skyrocket/) "
      ],
      "text/plain": [
       "<IPython.core.display.Markdown object>"
      ]
     },
     "execution_count": 9,
     "metadata": {},
     "output_type": "execute_result"
    }
   ],
   "source": [
    "#hide_input\n",
    "#md('##### {}'.format(titleBTC)) \n",
    "md(\"- {}{} {}{} [| Skaityti daugiau]({}) \".format(exchange['title'],'. ', exchange['body'], ' ...', exchange['url']))"
   ]
  },
  {
   "cell_type": "code",
   "execution_count": null,
   "id": "tender-livestock",
   "metadata": {
    "papermill": {
     "duration": 0.014033,
     "end_time": "2021-05-30T04:11:48.510148",
     "exception": false,
     "start_time": "2021-05-30T04:11:48.496115",
     "status": "completed"
    },
    "tags": []
   },
   "outputs": [],
   "source": []
  },
  {
   "cell_type": "code",
   "execution_count": null,
   "id": "appreciated-diamond",
   "metadata": {
    "papermill": {
     "duration": 0.014033,
     "end_time": "2021-05-30T04:11:48.538223",
     "exception": false,
     "start_time": "2021-05-30T04:11:48.524190",
     "status": "completed"
    },
    "tags": []
   },
   "outputs": [],
   "source": []
  },
  {
   "cell_type": "code",
   "execution_count": null,
   "id": "romance-sweden",
   "metadata": {
    "papermill": {
     "duration": 0.014589,
     "end_time": "2021-05-30T04:11:48.567057",
     "exception": false,
     "start_time": "2021-05-30T04:11:48.552468",
     "status": "completed"
    },
    "tags": []
   },
   "outputs": [],
   "source": []
  },
  {
   "cell_type": "code",
   "execution_count": null,
   "id": "dietary-statistics",
   "metadata": {
    "papermill": {
     "duration": 0.014088,
     "end_time": "2021-05-30T04:11:48.595334",
     "exception": false,
     "start_time": "2021-05-30T04:11:48.581246",
     "status": "completed"
    },
    "tags": []
   },
   "outputs": [],
   "source": []
  }
 ],
 "metadata": {
  "kernelspec": {
   "display_name": "Python 3",
   "language": "python",
   "name": "python3"
  },
  "language_info": {
   "codemirror_mode": {
    "name": "ipython",
    "version": 3
   },
   "file_extension": ".py",
   "mimetype": "text/x-python",
   "name": "python",
   "nbconvert_exporter": "python",
   "pygments_lexer": "ipython3",
   "version": "3.6.13"
  },
  "papermill": {
   "default_parameters": {},
   "duration": 11.308738,
   "end_time": "2021-05-30T04:11:49.796776",
   "environment_variables": {},
   "exception": null,
   "input_path": "Market-News.ipynb",
   "output_path": "Market-News.ipynb",
   "parameters": {},
   "start_time": "2021-05-30T04:11:38.488038",
   "version": "2.2.2"
  }
 },
 "nbformat": 4,
 "nbformat_minor": 5
}