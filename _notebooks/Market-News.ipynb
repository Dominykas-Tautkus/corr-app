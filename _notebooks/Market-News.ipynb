{
 "cells": [
  {
   "cell_type": "markdown",
   "id": "short-greensboro",
   "metadata": {
    "papermill": {
     "duration": 0.018116,
     "end_time": "2021-06-11T02:07:55.873101",
     "exception": false,
     "start_time": "2021-06-11T02:07:55.854985",
     "status": "completed"
    },
    "tags": []
   },
   "source": [
    "# Kriptovaliutų naujienos"
   ]
  },
  {
   "cell_type": "code",
   "execution_count": 1,
   "id": "functioning-knowing",
   "metadata": {
    "execution": {
     "iopub.execute_input": "2021-06-11T02:07:55.904779Z",
     "iopub.status.busy": "2021-06-11T02:07:55.904261Z",
     "iopub.status.idle": "2021-06-11T02:07:57.111109Z",
     "shell.execute_reply": "2021-06-11T02:07:57.110019Z"
    },
    "papermill": {
     "duration": 1.227522,
     "end_time": "2021-06-11T02:07:57.111296",
     "exception": false,
     "start_time": "2021-06-11T02:07:55.883774",
     "status": "completed"
    },
    "tags": []
   },
   "outputs": [],
   "source": [
    "#hide_input\n",
    "import warnings\n",
    "warnings.filterwarnings('ignore')\n",
    "from scripts.read_data import read_api\n",
    "from scripts.read_data import read_news\n",
    "from scripts.read_data import read_covid\n",
    "import matplotlib.pyplot as plt \n",
    "from IPython.display import Markdown as md"
   ]
  },
  {
   "cell_type": "code",
   "execution_count": 2,
   "id": "shared-acceptance",
   "metadata": {
    "execution": {
     "iopub.execute_input": "2021-06-11T02:07:57.136377Z",
     "iopub.status.busy": "2021-06-11T02:07:57.135874Z",
     "iopub.status.idle": "2021-06-11T02:08:07.438637Z",
     "shell.execute_reply": "2021-06-11T02:08:07.438101Z"
    },
    "papermill": {
     "duration": 10.317575,
     "end_time": "2021-06-11T02:08:07.438781",
     "exception": false,
     "start_time": "2021-06-11T02:07:57.121206",
     "status": "completed"
    },
    "tags": []
   },
   "outputs": [],
   "source": [
    "#hide_input\n",
    "blockchain = read_news('blockchain') \n",
    "btc = read_news('btc') \n",
    "xrp = read_news('xrp') \n",
    "trx = read_news('trx') \n",
    "eth = read_news('eth')  \n",
    "ada = read_news('ada')\n",
    "exchange = read_news('exchange') "
   ]
  },
  {
   "cell_type": "code",
   "execution_count": 3,
   "id": "synthetic-notion",
   "metadata": {
    "execution": {
     "iopub.execute_input": "2021-06-11T02:08:07.466069Z",
     "iopub.status.busy": "2021-06-11T02:08:07.465506Z",
     "iopub.status.idle": "2021-06-11T02:08:07.469674Z",
     "shell.execute_reply": "2021-06-11T02:08:07.470095Z"
    },
    "papermill": {
     "duration": 0.020596,
     "end_time": "2021-06-11T02:08:07.470225",
     "exception": false,
     "start_time": "2021-06-11T02:08:07.449629",
     "status": "completed"
    },
    "tags": []
   },
   "outputs": [
    {
     "data": {
      "text/markdown": [
       "- ‘Green mining’ crypto Chia Network causes HDD revenues to skyrocket by 240%.  Growing demand for hard and disk drives has been recorded ever since the appearance of the “green” cryptocurrency Chia (XCH), which utilizes spare storage space for verifying blockchain transactions. The post &#8216;Green mining&#8217; crypto Chia Network causes HDD revenues to skyrocket by 240% appeared first on CryptoSlate. ... [| Skaityti daugiau](https://cryptoslate.com/green-mining-crypto-chia-network-causes-hdd-revenues-to-skyrocket-by-240/) "
      ],
      "text/plain": [
       "<IPython.core.display.Markdown object>"
      ]
     },
     "execution_count": 3,
     "metadata": {},
     "output_type": "execute_result"
    }
   ],
   "source": [
    "#hide_input\n",
    "#md('##### {}'.format(titleBTC)) \n",
    "md(\"- {}{} {}{} [| Skaityti daugiau]({}) \".format(blockchain['title'],'. ', blockchain['body'], ' ...', blockchain['url']))"
   ]
  },
  {
   "cell_type": "code",
   "execution_count": 4,
   "id": "aging-caution",
   "metadata": {
    "execution": {
     "iopub.execute_input": "2021-06-11T02:08:07.496042Z",
     "iopub.status.busy": "2021-06-11T02:08:07.495482Z",
     "iopub.status.idle": "2021-06-11T02:08:07.498518Z",
     "shell.execute_reply": "2021-06-11T02:08:07.498949Z"
    },
    "papermill": {
     "duration": 0.018896,
     "end_time": "2021-06-11T02:08:07.499071",
     "exception": false,
     "start_time": "2021-06-11T02:08:07.480175",
     "status": "completed"
    },
    "tags": []
   },
   "outputs": [
    {
     "data": {
      "text/markdown": [
       "- Bitcoin Mining Firm Hut 8 Approved to List on Nasdaq.  Major North American bitcoin mining firm Hut 8 Mining has been approved for listing on Nasdaq under the ticker symbol HUT. The company is also listed on the Toronto Stock Exchange (TSX). Hut 8 Mining Corp. announced Thursday that its common shares have been approved to list on the Nasdaq Global Select Market (Nasdaq) under [&#8230;] ... [| Skaityti daugiau](https://news.bitcoin.com/bitcoin-mining-firm-hut-8-approved-to-list-on-nasdaq/) "
      ],
      "text/plain": [
       "<IPython.core.display.Markdown object>"
      ]
     },
     "execution_count": 4,
     "metadata": {},
     "output_type": "execute_result"
    }
   ],
   "source": [
    "#hide_input\n",
    "#md('##### {}'.format(titleBTC)) \n",
    "md(\"- {}{} {}{} [| Skaityti daugiau]({}) \".format(btc['title'],'. ', btc['body'], ' ...', btc['url']))"
   ]
  },
  {
   "cell_type": "code",
   "execution_count": 5,
   "id": "organic-actress",
   "metadata": {
    "execution": {
     "iopub.execute_input": "2021-06-11T02:08:07.525020Z",
     "iopub.status.busy": "2021-06-11T02:08:07.524430Z",
     "iopub.status.idle": "2021-06-11T02:08:07.527584Z",
     "shell.execute_reply": "2021-06-11T02:08:07.527072Z"
    },
    "papermill": {
     "duration": 0.018302,
     "end_time": "2021-06-11T02:08:07.527700",
     "exception": false,
     "start_time": "2021-06-11T02:08:07.509398",
     "status": "completed"
    },
    "tags": []
   },
   "outputs": [
    {
     "data": {
      "text/markdown": [
       "- XRP, Cardano, Uniswap Price Analysis: 10 June.  The Bitcoin price has marched 21% within a day. The recovery has pushed the value of the largest digital asset to $36k, however, the altcoins have not seen a bullish shift in price. XRP, Cardano [ADA], and Uniswap [UNI] either continued to consolidate or plunge due to the bearishness in the market. However, going forward, [&#8230;] ... [| Skaityti daugiau](https://ambcrypto.com/xrp-cardano-uniswap-price-analysis-10-june/) "
      ],
      "text/plain": [
       "<IPython.core.display.Markdown object>"
      ]
     },
     "execution_count": 5,
     "metadata": {},
     "output_type": "execute_result"
    }
   ],
   "source": [
    "#hide_input\n",
    "#md('##### {}'.format(titleBTC)) \n",
    "md(\"- {}{} {}{} [| Skaityti daugiau]({}) \".format(xrp['title'],'. ', xrp['body'], ' ...', xrp['url']))"
   ]
  },
  {
   "cell_type": "code",
   "execution_count": 6,
   "id": "prompt-farmer",
   "metadata": {
    "execution": {
     "iopub.execute_input": "2021-06-11T02:08:07.554765Z",
     "iopub.status.busy": "2021-06-11T02:08:07.554181Z",
     "iopub.status.idle": "2021-06-11T02:08:07.557236Z",
     "shell.execute_reply": "2021-06-11T02:08:07.556714Z"
    },
    "papermill": {
     "duration": 0.018669,
     "end_time": "2021-06-11T02:08:07.557340",
     "exception": false,
     "start_time": "2021-06-11T02:08:07.538671",
     "status": "completed"
    },
    "tags": []
   },
   "outputs": [
    {
     "data": {
      "text/markdown": [
       "- Tron (TRX) Price Analysis: Risk of More Downsides Below $0.062.  Tron price is trading in a bearish zone below the main $0.0800 resistance against the US Dollar. TRX price is now trading below $0.0750 and the 55 simple moving average (4-hours). There was a break below a key bullish trend line with support near $0.0780 on the 4-hours chart (data feed via Bitfinex). The pair...The post Tron (TRX) Price Analysis: Risk of More Downsides Below $0.062 appeared first on Live Bitcoin News. ... [| Skaityti daugiau](https://www.livebitcoinnews.com/tron-trx-price-analysis-risk-of-more-downsides-below-0-062/) "
      ],
      "text/plain": [
       "<IPython.core.display.Markdown object>"
      ]
     },
     "execution_count": 6,
     "metadata": {},
     "output_type": "execute_result"
    }
   ],
   "source": [
    "#hide_input\n",
    "#md('##### {}'.format(titleBTC)) \n",
    "md(\"- {}{} {}{} [| Skaityti daugiau]({}) \".format(trx['title'],'. ', trx['body'], ' ...', trx['url']))"
   ]
  },
  {
   "cell_type": "code",
   "execution_count": 7,
   "id": "illegal-greece",
   "metadata": {
    "execution": {
     "iopub.execute_input": "2021-06-11T02:08:07.585552Z",
     "iopub.status.busy": "2021-06-11T02:08:07.584976Z",
     "iopub.status.idle": "2021-06-11T02:08:07.587437Z",
     "shell.execute_reply": "2021-06-11T02:08:07.587980Z"
    },
    "papermill": {
     "duration": 0.018871,
     "end_time": "2021-06-11T02:08:07.588119",
     "exception": false,
     "start_time": "2021-06-11T02:08:07.569248",
     "status": "completed"
    },
    "tags": []
   },
   "outputs": [
    {
     "data": {
      "text/markdown": [
       "- Reddit Cofounder Alexis Ohanian Says He Has ‘A Lot’ Of Ethereum.  Alexis Ohanian has \"a lot\" of Ethereum. Nobody knows how much that is, but it is easy to know why he loves ETH so much ... [| Skaityti daugiau](https://cryptopotato.com/reddit-cofounder-alexis-ohanian-says-he-has-a-lot-of-ethereum/) "
      ],
      "text/plain": [
       "<IPython.core.display.Markdown object>"
      ]
     },
     "execution_count": 7,
     "metadata": {},
     "output_type": "execute_result"
    }
   ],
   "source": [
    "#hide_input\n",
    "#md('##### {}'.format(titleBTC)) \n",
    "md(\"- {}{} {}{} [| Skaityti daugiau]({}) \".format(eth['title'],'. ', eth['body'], ' ...', eth['url']))"
   ]
  },
  {
   "cell_type": "code",
   "execution_count": 8,
   "id": "sublime-lounge",
   "metadata": {
    "execution": {
     "iopub.execute_input": "2021-06-11T02:08:07.616506Z",
     "iopub.status.busy": "2021-06-11T02:08:07.615973Z",
     "iopub.status.idle": "2021-06-11T02:08:07.618658Z",
     "shell.execute_reply": "2021-06-11T02:08:07.618182Z"
    },
    "papermill": {
     "duration": 0.01872,
     "end_time": "2021-06-11T02:08:07.618770",
     "exception": false,
     "start_time": "2021-06-11T02:08:07.600050",
     "status": "completed"
    },
    "tags": []
   },
   "outputs": [
    {
     "data": {
      "text/markdown": [
       "- XRP, Cardano, Uniswap Price Analysis: 10 June.  The Bitcoin price has marched 21% within a day. The recovery has pushed the value of the largest digital asset to $36k, however, the altcoins have not seen a bullish shift in price. XRP, Cardano [ADA], and Uniswap [UNI] either continued to consolidate or plunge due to the bearishness in the market. However, going forward, [&#8230;] ... [| Skaityti daugiau](https://ambcrypto.com/xrp-cardano-uniswap-price-analysis-10-june/) "
      ],
      "text/plain": [
       "<IPython.core.display.Markdown object>"
      ]
     },
     "execution_count": 8,
     "metadata": {},
     "output_type": "execute_result"
    }
   ],
   "source": [
    "#hide_input\n",
    "#md('##### {}'.format(titleBTC)) \n",
    "md(\"- {}{} {}{} [| Skaityti daugiau]({}) \".format(ada['title'],'. ', ada['body'], ' ...', ada['url']))"
   ]
  },
  {
   "cell_type": "code",
   "execution_count": 9,
   "id": "specified-ordering",
   "metadata": {
    "execution": {
     "iopub.execute_input": "2021-06-11T02:08:07.647485Z",
     "iopub.status.busy": "2021-06-11T02:08:07.646912Z",
     "iopub.status.idle": "2021-06-11T02:08:07.649545Z",
     "shell.execute_reply": "2021-06-11T02:08:07.650053Z"
    },
    "papermill": {
     "duration": 0.019288,
     "end_time": "2021-06-11T02:08:07.650177",
     "exception": false,
     "start_time": "2021-06-11T02:08:07.630889",
     "status": "completed"
    },
    "tags": []
   },
   "outputs": [
    {
     "data": {
      "text/markdown": [
       "- Bitcoin Mining Firm Hut 8 Approved to List on Nasdaq.  Major North American bitcoin mining firm Hut 8 Mining has been approved for listing on Nasdaq under the ticker symbol HUT. The company is also listed on the Toronto Stock Exchange (TSX). Hut 8 Mining Corp. announced Thursday that its common shares have been approved to list on the Nasdaq Global Select Market (Nasdaq) under [&#8230;] ... [| Skaityti daugiau](https://news.bitcoin.com/bitcoin-mining-firm-hut-8-approved-to-list-on-nasdaq/) "
      ],
      "text/plain": [
       "<IPython.core.display.Markdown object>"
      ]
     },
     "execution_count": 9,
     "metadata": {},
     "output_type": "execute_result"
    }
   ],
   "source": [
    "#hide_input\n",
    "#md('##### {}'.format(titleBTC)) \n",
    "md(\"- {}{} {}{} [| Skaityti daugiau]({}) \".format(exchange['title'],'. ', exchange['body'], ' ...', exchange['url']))"
   ]
  },
  {
   "cell_type": "code",
   "execution_count": null,
   "id": "tender-livestock",
   "metadata": {
    "papermill": {
     "duration": 0.0125,
     "end_time": "2021-06-11T02:08:07.674619",
     "exception": false,
     "start_time": "2021-06-11T02:08:07.662119",
     "status": "completed"
    },
    "tags": []
   },
   "outputs": [],
   "source": []
  },
  {
   "cell_type": "code",
   "execution_count": null,
   "id": "appreciated-diamond",
   "metadata": {
    "papermill": {
     "duration": 0.012538,
     "end_time": "2021-06-11T02:08:07.699986",
     "exception": false,
     "start_time": "2021-06-11T02:08:07.687448",
     "status": "completed"
    },
    "tags": []
   },
   "outputs": [],
   "source": []
  },
  {
   "cell_type": "code",
   "execution_count": null,
   "id": "romance-sweden",
   "metadata": {
    "papermill": {
     "duration": 0.012638,
     "end_time": "2021-06-11T02:08:07.725049",
     "exception": false,
     "start_time": "2021-06-11T02:08:07.712411",
     "status": "completed"
    },
    "tags": []
   },
   "outputs": [],
   "source": []
  },
  {
   "cell_type": "code",
   "execution_count": null,
   "id": "dietary-statistics",
   "metadata": {
    "papermill": {
     "duration": 0.011845,
     "end_time": "2021-06-11T02:08:07.749490",
     "exception": false,
     "start_time": "2021-06-11T02:08:07.737645",
     "status": "completed"
    },
    "tags": []
   },
   "outputs": [],
   "source": []
  }
 ],
 "metadata": {
  "kernelspec": {
   "display_name": "Python 3",
   "language": "python",
   "name": "python3"
  },
  "language_info": {
   "codemirror_mode": {
    "name": "ipython",
    "version": 3
   },
   "file_extension": ".py",
   "mimetype": "text/x-python",
   "name": "python",
   "nbconvert_exporter": "python",
   "pygments_lexer": "ipython3",
   "version": "3.6.13"
  },
  "papermill": {
   "default_parameters": {},
   "duration": 14.30161,
   "end_time": "2021-06-11T02:08:09.097879",
   "environment_variables": {},
   "exception": null,
   "input_path": "Market-News.ipynb",
   "output_path": "Market-News.ipynb",
   "parameters": {},
   "start_time": "2021-06-11T02:07:54.796269",
   "version": "2.2.2"
  }
 },
 "nbformat": 4,
 "nbformat_minor": 5
}