{
 "cells": [
  {
   "cell_type": "markdown",
   "id": "short-greensboro",
   "metadata": {
    "papermill": {
     "duration": 0.017063,
     "end_time": "2021-02-16T01:39:58.246084",
     "exception": false,
     "start_time": "2021-02-16T01:39:58.229021",
     "status": "completed"
    },
    "tags": []
   },
   "source": [
    "# Kriptovaliutų naujienos"
   ]
  },
  {
   "cell_type": "code",
   "execution_count": 1,
   "id": "functioning-knowing",
   "metadata": {
    "execution": {
     "iopub.execute_input": "2021-02-16T01:39:58.280202Z",
     "iopub.status.busy": "2021-02-16T01:39:58.279570Z",
     "iopub.status.idle": "2021-02-16T01:39:59.665260Z",
     "shell.execute_reply": "2021-02-16T01:39:59.664351Z"
    },
    "papermill": {
     "duration": 1.408174,
     "end_time": "2021-02-16T01:39:59.665492",
     "exception": false,
     "start_time": "2021-02-16T01:39:58.257318",
     "status": "completed"
    },
    "tags": []
   },
   "outputs": [],
   "source": [
    "#hide_input\n",
    "import warnings\n",
    "warnings.filterwarnings('ignore')\n",
    "from scripts.read_data import read_api\n",
    "from scripts.read_data import read_news\n",
    "from scripts.read_data import read_covid\n",
    "import matplotlib.pyplot as plt \n",
    "from IPython.display import Markdown as md"
   ]
  },
  {
   "cell_type": "code",
   "execution_count": 2,
   "id": "shared-acceptance",
   "metadata": {
    "execution": {
     "iopub.execute_input": "2021-02-16T01:39:59.696247Z",
     "iopub.status.busy": "2021-02-16T01:39:59.695625Z",
     "iopub.status.idle": "2021-02-16T01:40:07.796157Z",
     "shell.execute_reply": "2021-02-16T01:40:07.795152Z"
    },
    "papermill": {
     "duration": 8.117742,
     "end_time": "2021-02-16T01:40:07.796310",
     "exception": false,
     "start_time": "2021-02-16T01:39:59.678568",
     "status": "completed"
    },
    "tags": []
   },
   "outputs": [],
   "source": [
    "#hide_input\n",
    "blockchain = read_news('blockchain') \n",
    "btc = read_news('btc') \n",
    "xrp = read_news('xrp') \n",
    "trx = read_news('trx') \n",
    "eth = read_news('eth')  \n",
    "ada = read_news('ada')\n",
    "exchange = read_news('exchange') "
   ]
  },
  {
   "cell_type": "code",
   "execution_count": 3,
   "id": "synthetic-notion",
   "metadata": {
    "execution": {
     "iopub.execute_input": "2021-02-16T01:40:07.825385Z",
     "iopub.status.busy": "2021-02-16T01:40:07.824743Z",
     "iopub.status.idle": "2021-02-16T01:40:07.827062Z",
     "shell.execute_reply": "2021-02-16T01:40:07.827896Z"
    },
    "papermill": {
     "duration": 0.020707,
     "end_time": "2021-02-16T01:40:07.828047",
     "exception": false,
     "start_time": "2021-02-16T01:40:07.807340",
     "status": "completed"
    },
    "tags": []
   },
   "outputs": [
    {
     "data": {
      "text/markdown": [
       "- Pornhub Payment Option Verge Suffers Massive Blockchain Reorganization.  Verge has been hit by a massive 560,000-block reorganization. ... [| Skaityti daugiau](https://www.coindesk.com/pornhub-payment-verge-blockchain-reorganization-attack) "
      ],
      "text/plain": [
       "<IPython.core.display.Markdown object>"
      ]
     },
     "execution_count": 3,
     "metadata": {},
     "output_type": "execute_result"
    }
   ],
   "source": [
    "#hide_input\n",
    "#md('##### {}'.format(titleBTC)) \n",
    "md(\"- {}{} {}{} [| Skaityti daugiau]({}) \".format(blockchain['title'],'. ', blockchain['body'], ' ...', blockchain['url']))"
   ]
  },
  {
   "cell_type": "code",
   "execution_count": 4,
   "id": "aging-caution",
   "metadata": {
    "execution": {
     "iopub.execute_input": "2021-02-16T01:40:07.855808Z",
     "iopub.status.busy": "2021-02-16T01:40:07.855154Z",
     "iopub.status.idle": "2021-02-16T01:40:07.858824Z",
     "shell.execute_reply": "2021-02-16T01:40:07.857993Z"
    },
    "papermill": {
     "duration": 0.019934,
     "end_time": "2021-02-16T01:40:07.858962",
     "exception": false,
     "start_time": "2021-02-16T01:40:07.839028",
     "status": "completed"
    },
    "tags": []
   },
   "outputs": [
    {
     "data": {
      "text/markdown": [
       "- Bitcoin’s Dominance Will Go Up, Warns Analyst Who Predicted 2018 Bear Market Bottom.  A pseudonymous cryptocurrency analyst and trader who correctly called bitcoin’s 2018 bear market bottom slightly above the $3,000 mark has warned that the flagship cryptocurrency’s share of the crypto market is set to soon rise. In a tweet, first spotted by Daily Hodl, the trader Smart Contractor told his 94,000 followers that he is selling […] ... [| Skaityti daugiau](https://www.cryptoglobe.com/latest/2021/02/bitcoins-dominance-will-go-up-warns-analyst-who-predicted-2018-bear-market-bottom/) "
      ],
      "text/plain": [
       "<IPython.core.display.Markdown object>"
      ]
     },
     "execution_count": 4,
     "metadata": {},
     "output_type": "execute_result"
    }
   ],
   "source": [
    "#hide_input\n",
    "#md('##### {}'.format(titleBTC)) \n",
    "md(\"- {}{} {}{} [| Skaityti daugiau]({}) \".format(btc['title'],'. ', btc['body'], ' ...', btc['url']))"
   ]
  },
  {
   "cell_type": "code",
   "execution_count": 5,
   "id": "organic-actress",
   "metadata": {
    "execution": {
     "iopub.execute_input": "2021-02-16T01:40:07.886363Z",
     "iopub.status.busy": "2021-02-16T01:40:07.885582Z",
     "iopub.status.idle": "2021-02-16T01:40:07.889256Z",
     "shell.execute_reply": "2021-02-16T01:40:07.889888Z"
    },
    "papermill": {
     "duration": 0.019858,
     "end_time": "2021-02-16T01:40:07.890050",
     "exception": false,
     "start_time": "2021-02-16T01:40:07.870192",
     "status": "completed"
    },
    "tags": []
   },
   "outputs": [
    {
     "data": {
      "text/markdown": [
       "- Ripple: Here’s how much XRP Jed McCaleb dumped over the weekend.  Former Ripple CTO Jed McCaleb has moved another significant amount of XRP according to data from XRPscan. Between 12 and 15 February, Ripple cofounder transferred more than 114 million XRP from his ‘tacostand’ wallet, which now has 365,628,235.465371 XRP remaining as the total balance. Over the weekend alone, McCaleb moved more than 76 million XRP, [&#8230;] ... [| Skaityti daugiau](https://ambcrypto.com/ripple-heres-how-much-xrp-jed-mccaleb-dumped-over-the-weekend/) "
      ],
      "text/plain": [
       "<IPython.core.display.Markdown object>"
      ]
     },
     "execution_count": 5,
     "metadata": {},
     "output_type": "execute_result"
    }
   ],
   "source": [
    "#hide_input\n",
    "#md('##### {}'.format(titleBTC)) \n",
    "md(\"- {}{} {}{} [| Skaityti daugiau]({}) \".format(xrp['title'],'. ', xrp['body'], ' ...', xrp['url']))"
   ]
  },
  {
   "cell_type": "code",
   "execution_count": 6,
   "id": "prompt-farmer",
   "metadata": {
    "execution": {
     "iopub.execute_input": "2021-02-16T01:40:07.919584Z",
     "iopub.status.busy": "2021-02-16T01:40:07.918946Z",
     "iopub.status.idle": "2021-02-16T01:40:07.923691Z",
     "shell.execute_reply": "2021-02-16T01:40:07.923169Z"
    },
    "papermill": {
     "duration": 0.022079,
     "end_time": "2021-02-16T01:40:07.923822",
     "exception": false,
     "start_time": "2021-02-16T01:40:07.901743",
     "status": "completed"
    },
    "tags": []
   },
   "outputs": [
    {
     "data": {
      "text/markdown": [
       "- Litecoin, Tron, Elrond Price Analysis: 15 February.  The altcoin market saw a sharp plunge but recovered a few hours later. Litecoin found some support at $192, while Tron struggled to stay atop the $0.05 level. Elrond saw a pullback and could be set to retrace further. Litecoin [LTC] Litecoin was forced to touch the $192 mark once more, but its short-term outlook [&#8230;] ... [| Skaityti daugiau](https://ambcrypto.com/litecoin-tron-elrond-price-analysis-15-february/) "
      ],
      "text/plain": [
       "<IPython.core.display.Markdown object>"
      ]
     },
     "execution_count": 6,
     "metadata": {},
     "output_type": "execute_result"
    }
   ],
   "source": [
    "#hide_input\n",
    "#md('##### {}'.format(titleBTC)) \n",
    "md(\"- {}{} {}{} [| Skaityti daugiau]({}) \".format(trx['title'],'. ', trx['body'], ' ...', trx['url']))"
   ]
  },
  {
   "cell_type": "code",
   "execution_count": 7,
   "id": "illegal-greece",
   "metadata": {
    "execution": {
     "iopub.execute_input": "2021-02-16T01:40:07.953915Z",
     "iopub.status.busy": "2021-02-16T01:40:07.953290Z",
     "iopub.status.idle": "2021-02-16T01:40:07.956524Z",
     "shell.execute_reply": "2021-02-16T01:40:07.956009Z"
    },
    "papermill": {
     "duration": 0.020614,
     "end_time": "2021-02-16T01:40:07.956649",
     "exception": false,
     "start_time": "2021-02-16T01:40:07.936035",
     "status": "completed"
    },
    "tags": []
   },
   "outputs": [
    {
     "data": {
      "text/markdown": [
       "- Tackling Crypto Mass Adoption: Jax.Network’s Mission.  PRESS RELEASE. Even though Bitcoin and Ethereum are called &#8216;cryptocurrencies&#8217; people still treat them like assets instead of currencies. People are not spending cryptocurrencies on a large scale, nor are merchants accepting them on a similar scale. Generally speaking, you still cannot pay for a cup of coffee at your local caf&#233; with your bitcoin. [&#8230;] ... [| Skaityti daugiau](https://news.bitcoin.com/tackling-crypto-mass-adoption-jax-networks-mission/) "
      ],
      "text/plain": [
       "<IPython.core.display.Markdown object>"
      ]
     },
     "execution_count": 7,
     "metadata": {},
     "output_type": "execute_result"
    }
   ],
   "source": [
    "#hide_input\n",
    "#md('##### {}'.format(titleBTC)) \n",
    "md(\"- {}{} {}{} [| Skaityti daugiau]({}) \".format(eth['title'],'. ', eth['body'], ' ...', eth['url']))"
   ]
  },
  {
   "cell_type": "code",
   "execution_count": 8,
   "id": "sublime-lounge",
   "metadata": {
    "execution": {
     "iopub.execute_input": "2021-02-16T01:40:07.987484Z",
     "iopub.status.busy": "2021-02-16T01:40:07.986842Z",
     "iopub.status.idle": "2021-02-16T01:40:07.989201Z",
     "shell.execute_reply": "2021-02-16T01:40:07.989720Z"
    },
    "papermill": {
     "duration": 0.020837,
     "end_time": "2021-02-16T01:40:07.989864",
     "exception": false,
     "start_time": "2021-02-16T01:40:07.969027",
     "status": "completed"
    },
    "tags": []
   },
   "outputs": [
    {
     "data": {
      "text/markdown": [
       "- Cardano, Bitcoin SV, Algorand Price Analysis: 15 February.  Cardano held on to $0.80 support after the price cooled off from its local high. In fact, ADA could trade close to its local high once again if the bulls maintain the price above the aforementioned support. Even though BSV flashed bearish signals, a move below the support was an unlikely scenario. Much down the [&#8230;] ... [| Skaityti daugiau](https://ambcrypto.com/cardano-bitcoin-sv-algorand-price-analysis-15-february/) "
      ],
      "text/plain": [
       "<IPython.core.display.Markdown object>"
      ]
     },
     "execution_count": 8,
     "metadata": {},
     "output_type": "execute_result"
    }
   ],
   "source": [
    "#hide_input\n",
    "#md('##### {}'.format(titleBTC)) \n",
    "md(\"- {}{} {}{} [| Skaityti daugiau]({}) \".format(ada['title'],'. ', ada['body'], ' ...', ada['url']))"
   ]
  },
  {
   "cell_type": "code",
   "execution_count": 9,
   "id": "specified-ordering",
   "metadata": {
    "execution": {
     "iopub.execute_input": "2021-02-16T01:40:08.022552Z",
     "iopub.status.busy": "2021-02-16T01:40:08.021929Z",
     "iopub.status.idle": "2021-02-16T01:40:08.026006Z",
     "shell.execute_reply": "2021-02-16T01:40:08.026530Z"
    },
    "papermill": {
     "duration": 0.024,
     "end_time": "2021-02-16T01:40:08.026683",
     "exception": false,
     "start_time": "2021-02-16T01:40:08.002683",
     "status": "completed"
    },
    "tags": []
   },
   "outputs": [
    {
     "data": {
      "text/markdown": [
       "- EXMO crypto exchange suffers second attack in two months.  The total volume on the crypto exchange has fallen 4.9% in the last 24 hours. ... [| Skaityti daugiau](https://cointelegraph.com/news/exmo-crypto-exchange-suffers-second-attack-in-two-months) "
      ],
      "text/plain": [
       "<IPython.core.display.Markdown object>"
      ]
     },
     "execution_count": 9,
     "metadata": {},
     "output_type": "execute_result"
    }
   ],
   "source": [
    "#hide_input\n",
    "#md('##### {}'.format(titleBTC)) \n",
    "md(\"- {}{} {}{} [| Skaityti daugiau]({}) \".format(exchange['title'],'. ', exchange['body'], ' ...', exchange['url']))"
   ]
  },
  {
   "cell_type": "code",
   "execution_count": null,
   "id": "tender-livestock",
   "metadata": {
    "papermill": {
     "duration": 0.013096,
     "end_time": "2021-02-16T01:40:08.054487",
     "exception": false,
     "start_time": "2021-02-16T01:40:08.041391",
     "status": "completed"
    },
    "tags": []
   },
   "outputs": [],
   "source": []
  },
  {
   "cell_type": "code",
   "execution_count": null,
   "id": "appreciated-diamond",
   "metadata": {
    "papermill": {
     "duration": 0.013033,
     "end_time": "2021-02-16T01:40:08.080691",
     "exception": false,
     "start_time": "2021-02-16T01:40:08.067658",
     "status": "completed"
    },
    "tags": []
   },
   "outputs": [],
   "source": []
  },
  {
   "cell_type": "code",
   "execution_count": null,
   "id": "romance-sweden",
   "metadata": {
    "papermill": {
     "duration": 0.013102,
     "end_time": "2021-02-16T01:40:08.106906",
     "exception": false,
     "start_time": "2021-02-16T01:40:08.093804",
     "status": "completed"
    },
    "tags": []
   },
   "outputs": [],
   "source": []
  },
  {
   "cell_type": "code",
   "execution_count": null,
   "id": "dietary-statistics",
   "metadata": {
    "papermill": {
     "duration": 0.013028,
     "end_time": "2021-02-16T01:40:08.133535",
     "exception": false,
     "start_time": "2021-02-16T01:40:08.120507",
     "status": "completed"
    },
    "tags": []
   },
   "outputs": [],
   "source": []
  }
 ],
 "metadata": {
  "kernelspec": {
   "display_name": "Python 3",
   "language": "python",
   "name": "python3"
  },
  "language_info": {
   "codemirror_mode": {
    "name": "ipython",
    "version": 3
   },
   "file_extension": ".py",
   "mimetype": "text/x-python",
   "name": "python",
   "nbconvert_exporter": "python",
   "pygments_lexer": "ipython3",
   "version": "3.6.12"
  },
  "papermill": {
   "default_parameters": {},
   "duration": 11.71972,
   "end_time": "2021-02-16T01:40:08.657013",
   "environment_variables": {},
   "exception": null,
   "input_path": "Market-News.ipynb",
   "output_path": "Market-News.ipynb",
   "parameters": {},
   "start_time": "2021-02-16T01:39:56.937293",
   "version": "2.2.2"
  }
 },
 "nbformat": 4,
 "nbformat_minor": 5
}