{
 "cells": [
  {
   "cell_type": "markdown",
   "id": "short-greensboro",
   "metadata": {
    "papermill": {
     "duration": 0.013732,
     "end_time": "2021-01-31T02:00:13.063363",
     "exception": false,
     "start_time": "2021-01-31T02:00:13.049631",
     "status": "completed"
    },
    "tags": []
   },
   "source": [
    "# Kriptovaliutų naujienos"
   ]
  },
  {
   "cell_type": "code",
   "execution_count": 1,
   "id": "functioning-knowing",
   "metadata": {
    "execution": {
     "iopub.execute_input": "2021-01-31T02:00:13.096805Z",
     "iopub.status.busy": "2021-01-31T02:00:13.096219Z",
     "iopub.status.idle": "2021-01-31T02:00:14.377174Z",
     "shell.execute_reply": "2021-01-31T02:00:14.376270Z"
    },
    "papermill": {
     "duration": 1.303165,
     "end_time": "2021-01-31T02:00:14.377420",
     "exception": false,
     "start_time": "2021-01-31T02:00:13.074255",
     "status": "completed"
    },
    "tags": []
   },
   "outputs": [],
   "source": [
    "#hide_input\n",
    "import warnings\n",
    "warnings.filterwarnings('ignore')\n",
    "from scripts.read_data import read_api\n",
    "from scripts.read_data import read_news\n",
    "from scripts.read_data import read_covid\n",
    "import matplotlib.pyplot as plt \n",
    "from IPython.display import Markdown as md"
   ]
  },
  {
   "cell_type": "code",
   "execution_count": 2,
   "id": "shared-acceptance",
   "metadata": {
    "execution": {
     "iopub.execute_input": "2021-01-31T02:00:14.406125Z",
     "iopub.status.busy": "2021-01-31T02:00:14.405233Z",
     "iopub.status.idle": "2021-01-31T02:00:23.406319Z",
     "shell.execute_reply": "2021-01-31T02:00:23.406835Z"
    },
    "papermill": {
     "duration": 9.017707,
     "end_time": "2021-01-31T02:00:23.407001",
     "exception": false,
     "start_time": "2021-01-31T02:00:14.389294",
     "status": "completed"
    },
    "tags": []
   },
   "outputs": [],
   "source": [
    "#hide_input\n",
    "blockchain = read_news('blockchain') \n",
    "btc = read_news('btc') \n",
    "xrp = read_news('xrp') \n",
    "trx = read_news('trx') \n",
    "eth = read_news('eth')  \n",
    "ada = read_news('ada')\n",
    "exchange = read_news('exchange') "
   ]
  },
  {
   "cell_type": "code",
   "execution_count": 3,
   "id": "synthetic-notion",
   "metadata": {
    "execution": {
     "iopub.execute_input": "2021-01-31T02:00:23.429081Z",
     "iopub.status.busy": "2021-01-31T02:00:23.428573Z",
     "iopub.status.idle": "2021-01-31T02:00:23.433531Z",
     "shell.execute_reply": "2021-01-31T02:00:23.433148Z"
    },
    "papermill": {
     "duration": 0.018095,
     "end_time": "2021-01-31T02:00:23.433637",
     "exception": false,
     "start_time": "2021-01-31T02:00:23.415542",
     "status": "completed"
    },
    "tags": []
   },
   "outputs": [
    {
     "data": {
      "text/markdown": [
       "- Visa CEO Unveils Payment Giant’s Crypto Strategy in Earnings Call.  The chairman and CEO of financial services firm Visa, Alfred Kelly, is revealing the company&#8217;s crypto game plan going forward. In an earnings call, Kelly addresses what he sees as a growing interest in digital assets and outlines the company&#8217;s outlook on the sector and how it plans to participate in the growing trend. Kelly [&#8230;]The post Visa CEO Unveils Payment Giant&#8217;s Crypto Strategy in Earnings Call appeared first on The Daily Hodl. ... [| Skaityti daugiau](https://dailyhodl.com/2021/01/30/visa-ceo-unveils-payment-giants-crypto-strategy-in-earnings-call/) "
      ],
      "text/plain": [
       "<IPython.core.display.Markdown object>"
      ]
     },
     "execution_count": 3,
     "metadata": {},
     "output_type": "execute_result"
    }
   ],
   "source": [
    "#hide_input\n",
    "#md('##### {}'.format(titleBTC)) \n",
    "md(\"- {}{} {}{} [| Skaityti daugiau]({}) \".format(blockchain['title'],'. ', blockchain['body'], ' ...', blockchain['url']))"
   ]
  },
  {
   "cell_type": "code",
   "execution_count": 4,
   "id": "aging-caution",
   "metadata": {
    "execution": {
     "iopub.execute_input": "2021-01-31T02:00:23.455012Z",
     "iopub.status.busy": "2021-01-31T02:00:23.454379Z",
     "iopub.status.idle": "2021-01-31T02:00:23.456642Z",
     "shell.execute_reply": "2021-01-31T02:00:23.457146Z"
    },
    "papermill": {
     "duration": 0.015068,
     "end_time": "2021-01-31T02:00:23.457288",
     "exception": false,
     "start_time": "2021-01-31T02:00:23.442220",
     "status": "completed"
    },
    "tags": []
   },
   "outputs": [
    {
     "data": {
      "text/markdown": [
       "- Fidelity Optimistic About Bitcoin Regulation Under Biden Administration — Sees Strong Institutional Demand.  Fidelity Digital Assets President Tom Jessop has shared his view on the future of bitcoin and cryptocurrency regulation under the Biden administration. He confirms that Fidelity is seeing strong demand for bitcoin from institutional buyers. Fidelity Digital Assets&#8217; Head Optimistic About the Future of Bitcoin Jessop explained what he expects in terms of cryptocurrency regulation [&#8230;] ... [| Skaityti daugiau](https://news.bitcoin.com/fidelity-optimistic-bitcoin-regulation-biden-administration-strong-institutional-demand/) "
      ],
      "text/plain": [
       "<IPython.core.display.Markdown object>"
      ]
     },
     "execution_count": 4,
     "metadata": {},
     "output_type": "execute_result"
    }
   ],
   "source": [
    "#hide_input\n",
    "#md('##### {}'.format(titleBTC)) \n",
    "md(\"- {}{} {}{} [| Skaityti daugiau]({}) \".format(btc['title'],'. ', btc['body'], ' ...', btc['url']))"
   ]
  },
  {
   "cell_type": "code",
   "execution_count": 5,
   "id": "organic-actress",
   "metadata": {
    "execution": {
     "iopub.execute_input": "2021-01-31T02:00:23.479897Z",
     "iopub.status.busy": "2021-01-31T02:00:23.479406Z",
     "iopub.status.idle": "2021-01-31T02:00:23.482106Z",
     "shell.execute_reply": "2021-01-31T02:00:23.482661Z"
    },
    "papermill": {
     "duration": 0.016712,
     "end_time": "2021-01-31T02:00:23.482792",
     "exception": false,
     "start_time": "2021-01-31T02:00:23.466080",
     "status": "completed"
    },
    "tags": []
   },
   "outputs": [
    {
     "data": {
      "text/markdown": [
       "- XRP Rebounds With 80% Surge As Ripple Defends Currency.  XRP today jumped 80% after weeks of weak performance. The cryptocurrency has been trading just above $0.2 prior to the surge that coincided with Ripple’s defense against the SEC lawsuit referring to XRP as a security. In defense of the virtual currency, Ripple wrote: “In 2015 and again in 2020, the US Department of Justice [&#8230;] ... [| Skaityti daugiau](https://zycrypto.com/xrp-rebounds-with-80-surge-as-ripple-defends-currency/) "
      ],
      "text/plain": [
       "<IPython.core.display.Markdown object>"
      ]
     },
     "execution_count": 5,
     "metadata": {},
     "output_type": "execute_result"
    }
   ],
   "source": [
    "#hide_input\n",
    "#md('##### {}'.format(titleBTC)) \n",
    "md(\"- {}{} {}{} [| Skaityti daugiau]({}) \".format(xrp['title'],'. ', xrp['body'], ' ...', xrp['url']))"
   ]
  },
  {
   "cell_type": "code",
   "execution_count": 6,
   "id": "prompt-farmer",
   "metadata": {
    "execution": {
     "iopub.execute_input": "2021-01-31T02:00:23.507888Z",
     "iopub.status.busy": "2021-01-31T02:00:23.507411Z",
     "iopub.status.idle": "2021-01-31T02:00:23.510914Z",
     "shell.execute_reply": "2021-01-31T02:00:23.510422Z"
    },
    "papermill": {
     "duration": 0.018604,
     "end_time": "2021-01-31T02:00:23.511031",
     "exception": false,
     "start_time": "2021-01-31T02:00:23.492427",
     "status": "completed"
    },
    "tags": []
   },
   "outputs": [
    {
     "data": {
      "text/markdown": [
       "- Litecoin, Tron, Elrond Price Analysis: 30 January.  Litecoin failed to rise above its 200-SMA and traded close to its support at $130. Tron seemed to be under a correction as prices cooled off after touching a local high. Elrond snapped yet another all-time high, but the indicators pointed towards a bearish pullback. Litecoin [LTC] Litecoin was unable to break above its 200-SMA [&#8230;] ... [| Skaityti daugiau](https://ambcrypto.com/litecoin-tron-elrond-price-analysis-30-january/) "
      ],
      "text/plain": [
       "<IPython.core.display.Markdown object>"
      ]
     },
     "execution_count": 6,
     "metadata": {},
     "output_type": "execute_result"
    }
   ],
   "source": [
    "#hide_input\n",
    "#md('##### {}'.format(titleBTC)) \n",
    "md(\"- {}{} {}{} [| Skaityti daugiau]({}) \".format(trx['title'],'. ', trx['body'], ' ...', trx['url']))"
   ]
  },
  {
   "cell_type": "code",
   "execution_count": 7,
   "id": "illegal-greece",
   "metadata": {
    "execution": {
     "iopub.execute_input": "2021-01-31T02:00:23.535555Z",
     "iopub.status.busy": "2021-01-31T02:00:23.535018Z",
     "iopub.status.idle": "2021-01-31T02:00:23.537743Z",
     "shell.execute_reply": "2021-01-31T02:00:23.538258Z"
    },
    "papermill": {
     "duration": 0.016304,
     "end_time": "2021-01-31T02:00:23.538377",
     "exception": false,
     "start_time": "2021-01-31T02:00:23.522073",
     "status": "completed"
    },
    "tags": []
   },
   "outputs": [
    {
     "data": {
      "text/markdown": [
       "- Judge Rejects Virgil Griffith’s Motion to Dismiss Charges of Aiding North Korea.  U.S. Judge Kevin Castel also denied the ethereum developer’s request for more details about what he’s being charged with. ... [| Skaityti daugiau](https://www.coindesk.com/judge-rejects-virgil-griffiths-motion-to-dismiss-charges-of-aiding-north-korea) "
      ],
      "text/plain": [
       "<IPython.core.display.Markdown object>"
      ]
     },
     "execution_count": 7,
     "metadata": {},
     "output_type": "execute_result"
    }
   ],
   "source": [
    "#hide_input\n",
    "#md('##### {}'.format(titleBTC)) \n",
    "md(\"- {}{} {}{} [| Skaityti daugiau]({}) \".format(eth['title'],'. ', eth['body'], ' ...', eth['url']))"
   ]
  },
  {
   "cell_type": "code",
   "execution_count": 8,
   "id": "sublime-lounge",
   "metadata": {
    "execution": {
     "iopub.execute_input": "2021-01-31T02:00:23.561804Z",
     "iopub.status.busy": "2021-01-31T02:00:23.561185Z",
     "iopub.status.idle": "2021-01-31T02:00:23.563504Z",
     "shell.execute_reply": "2021-01-31T02:00:23.564002Z"
    },
    "papermill": {
     "duration": 0.016176,
     "end_time": "2021-01-31T02:00:23.564127",
     "exception": false,
     "start_time": "2021-01-31T02:00:23.547951",
     "status": "completed"
    },
    "tags": []
   },
   "outputs": [
    {
     "data": {
      "text/markdown": [
       "- Grayscale Wants to Launch Trusts For Aave, EOS, Uniswap and Other Altcoins.  The world’s biggest crypto asset management firm has filed new trusts in Delaware's corporate registry. ... [| Skaityti daugiau](https://decrypt.co/56112/grayscale-wants-to-launch-trusts-for-aave-eos-uniswap-and-other-altcoins) "
      ],
      "text/plain": [
       "<IPython.core.display.Markdown object>"
      ]
     },
     "execution_count": 8,
     "metadata": {},
     "output_type": "execute_result"
    }
   ],
   "source": [
    "#hide_input\n",
    "#md('##### {}'.format(titleBTC)) \n",
    "md(\"- {}{} {}{} [| Skaityti daugiau]({}) \".format(ada['title'],'. ', ada['body'], ' ...', ada['url']))"
   ]
  },
  {
   "cell_type": "code",
   "execution_count": 9,
   "id": "specified-ordering",
   "metadata": {
    "execution": {
     "iopub.execute_input": "2021-01-31T02:00:23.590327Z",
     "iopub.status.busy": "2021-01-31T02:00:23.589774Z",
     "iopub.status.idle": "2021-01-31T02:00:23.593094Z",
     "shell.execute_reply": "2021-01-31T02:00:23.592603Z"
    },
    "papermill": {
     "duration": 0.019231,
     "end_time": "2021-01-31T02:00:23.593209",
     "exception": false,
     "start_time": "2021-01-31T02:00:23.573978",
     "status": "completed"
    },
    "tags": []
   },
   "outputs": [
    {
     "data": {
      "text/markdown": [
       "- FTX Token (FTT) rallies 105% as interest in derivatives trading grows.  In the last 30 days, FTX Token rallied 105% as its exchange surpassed BitMEX and Deribit's open interest, but is there room for further upside?  ... [| Skaityti daugiau](https://cointelegraph.com/news/ftx-token-ftt-rallies-105-as-interest-in-derivatives-trading-grows) "
      ],
      "text/plain": [
       "<IPython.core.display.Markdown object>"
      ]
     },
     "execution_count": 9,
     "metadata": {},
     "output_type": "execute_result"
    }
   ],
   "source": [
    "#hide_input\n",
    "#md('##### {}'.format(titleBTC)) \n",
    "md(\"- {}{} {}{} [| Skaityti daugiau]({}) \".format(exchange['title'],'. ', exchange['body'], ' ...', exchange['url']))"
   ]
  },
  {
   "cell_type": "code",
   "execution_count": null,
   "id": "tender-livestock",
   "metadata": {
    "papermill": {
     "duration": 0.012239,
     "end_time": "2021-01-31T02:00:23.617307",
     "exception": false,
     "start_time": "2021-01-31T02:00:23.605068",
     "status": "completed"
    },
    "tags": []
   },
   "outputs": [],
   "source": []
  },
  {
   "cell_type": "code",
   "execution_count": null,
   "id": "appreciated-diamond",
   "metadata": {
    "papermill": {
     "duration": 0.012597,
     "end_time": "2021-01-31T02:00:23.642220",
     "exception": false,
     "start_time": "2021-01-31T02:00:23.629623",
     "status": "completed"
    },
    "tags": []
   },
   "outputs": [],
   "source": []
  },
  {
   "cell_type": "code",
   "execution_count": null,
   "id": "romance-sweden",
   "metadata": {
    "papermill": {
     "duration": 0.012198,
     "end_time": "2021-01-31T02:00:23.665403",
     "exception": false,
     "start_time": "2021-01-31T02:00:23.653205",
     "status": "completed"
    },
    "tags": []
   },
   "outputs": [],
   "source": []
  },
  {
   "cell_type": "code",
   "execution_count": null,
   "id": "dietary-statistics",
   "metadata": {
    "papermill": {
     "duration": 0.012233,
     "end_time": "2021-01-31T02:00:23.689656",
     "exception": false,
     "start_time": "2021-01-31T02:00:23.677423",
     "status": "completed"
    },
    "tags": []
   },
   "outputs": [],
   "source": []
  }
 ],
 "metadata": {
  "kernelspec": {
   "display_name": "Python 3",
   "language": "python",
   "name": "python3"
  },
  "language_info": {
   "codemirror_mode": {
    "name": "ipython",
    "version": 3
   },
   "file_extension": ".py",
   "mimetype": "text/x-python",
   "name": "python",
   "nbconvert_exporter": "python",
   "pygments_lexer": "ipython3",
   "version": "3.6.12"
  },
  "papermill": {
   "default_parameters": {},
   "duration": 12.124153,
   "end_time": "2021-01-31T02:00:24.111126",
   "environment_variables": {},
   "exception": null,
   "input_path": "Market-News.ipynb",
   "output_path": "Market-News.ipynb",
   "parameters": {},
   "start_time": "2021-01-31T02:00:11.986973",
   "version": "2.2.2"
  }
 },
 "nbformat": 4,
 "nbformat_minor": 5
}