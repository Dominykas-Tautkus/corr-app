{
 "cells": [
  {
   "cell_type": "markdown",
   "id": "short-greensboro",
   "metadata": {
    "papermill": {
     "duration": 0.013816,
     "end_time": "2021-05-09T02:09:03.900268",
     "exception": false,
     "start_time": "2021-05-09T02:09:03.886452",
     "status": "completed"
    },
    "tags": []
   },
   "source": [
    "# Kriptovaliutų naujienos"
   ]
  },
  {
   "cell_type": "code",
   "execution_count": 1,
   "id": "functioning-knowing",
   "metadata": {
    "execution": {
     "iopub.execute_input": "2021-05-09T02:09:03.932656Z",
     "iopub.status.busy": "2021-05-09T02:09:03.932036Z",
     "iopub.status.idle": "2021-05-09T02:09:05.190111Z",
     "shell.execute_reply": "2021-05-09T02:09:05.189277Z"
    },
    "papermill": {
     "duration": 1.27905,
     "end_time": "2021-05-09T02:09:05.190257",
     "exception": false,
     "start_time": "2021-05-09T02:09:03.911207",
     "status": "completed"
    },
    "tags": []
   },
   "outputs": [],
   "source": [
    "#hide_input\n",
    "import warnings\n",
    "warnings.filterwarnings('ignore')\n",
    "from scripts.read_data import read_api\n",
    "from scripts.read_data import read_news\n",
    "from scripts.read_data import read_covid\n",
    "import matplotlib.pyplot as plt \n",
    "from IPython.display import Markdown as md"
   ]
  },
  {
   "cell_type": "code",
   "execution_count": 2,
   "id": "shared-acceptance",
   "metadata": {
    "execution": {
     "iopub.execute_input": "2021-05-09T02:09:05.216334Z",
     "iopub.status.busy": "2021-05-09T02:09:05.215379Z",
     "iopub.status.idle": "2021-05-09T02:09:13.322068Z",
     "shell.execute_reply": "2021-05-09T02:09:13.322700Z"
    },
    "papermill": {
     "duration": 8.122357,
     "end_time": "2021-05-09T02:09:13.322917",
     "exception": false,
     "start_time": "2021-05-09T02:09:05.200560",
     "status": "completed"
    },
    "tags": []
   },
   "outputs": [],
   "source": [
    "#hide_input\n",
    "blockchain = read_news('blockchain') \n",
    "btc = read_news('btc') \n",
    "xrp = read_news('xrp') \n",
    "trx = read_news('trx') \n",
    "eth = read_news('eth')  \n",
    "ada = read_news('ada')\n",
    "exchange = read_news('exchange') "
   ]
  },
  {
   "cell_type": "code",
   "execution_count": 3,
   "id": "synthetic-notion",
   "metadata": {
    "execution": {
     "iopub.execute_input": "2021-05-09T02:09:13.355864Z",
     "iopub.status.busy": "2021-05-09T02:09:13.355076Z",
     "iopub.status.idle": "2021-05-09T02:09:13.359136Z",
     "shell.execute_reply": "2021-05-09T02:09:13.358612Z"
    },
    "papermill": {
     "duration": 0.022564,
     "end_time": "2021-05-09T02:09:13.359265",
     "exception": false,
     "start_time": "2021-05-09T02:09:13.336701",
     "status": "completed"
    },
    "tags": []
   },
   "outputs": [
    {
     "data": {
      "text/markdown": [
       "- Why Andre Cronje Believes DOGE Is Good For Crypto.  Dogecoin reached a new all-time high and was 98% of becoming the third&#8217;s largest cryptocurrency by market cap, overthrowing Binance&#8217;s native token BNB. DOGE&#8217;s 25,518% 1-year rally has started a debate in the crypto space about its implications for the whole sector. Ethereum-based protocol Yearn Finance creator, Andre Cronje, weighed in on the discussion. Unlike [&#8230;] ... [| Skaityti daugiau](https://www.newsbtc.com/news/andre-cronje-believes-doge-is-good-for-crypto/) "
      ],
      "text/plain": [
       "<IPython.core.display.Markdown object>"
      ]
     },
     "execution_count": 3,
     "metadata": {},
     "output_type": "execute_result"
    }
   ],
   "source": [
    "#hide_input\n",
    "#md('##### {}'.format(titleBTC)) \n",
    "md(\"- {}{} {}{} [| Skaityti daugiau]({}) \".format(blockchain['title'],'. ', blockchain['body'], ' ...', blockchain['url']))"
   ]
  },
  {
   "cell_type": "code",
   "execution_count": 4,
   "id": "aging-caution",
   "metadata": {
    "execution": {
     "iopub.execute_input": "2021-05-09T02:09:13.386648Z",
     "iopub.status.busy": "2021-05-09T02:09:13.386030Z",
     "iopub.status.idle": "2021-05-09T02:09:13.389912Z",
     "shell.execute_reply": "2021-05-09T02:09:13.390397Z"
    },
    "papermill": {
     "duration": 0.020177,
     "end_time": "2021-05-09T02:09:13.390543",
     "exception": false,
     "start_time": "2021-05-09T02:09:13.370366",
     "status": "completed"
    },
    "tags": []
   },
   "outputs": [
    {
     "data": {
      "text/markdown": [
       "- Citi Sees ‘Very Rapid’ Accumulation of Interest in Bitcoin — Contemplates Launching Crypto Services.  Citigroup is reportedly seeing a &#8220;very rapid&#8221; accumulation of interest in bitcoin across a broad spectrum of clients, including large asset managers. The bank is now considering launching its own crypto services as a growing number of banks are offering bitcoin-related services to their clients, including Goldman Sachs and Morgan Stanley. Citigroup is reported considering [&#8230;] ... [| Skaityti daugiau](https://news.bitcoin.com/citi-very-rapid-accumulation-of-interest-bitcoin-contemplates-launching-crypto-services/) "
      ],
      "text/plain": [
       "<IPython.core.display.Markdown object>"
      ]
     },
     "execution_count": 4,
     "metadata": {},
     "output_type": "execute_result"
    }
   ],
   "source": [
    "#hide_input\n",
    "#md('##### {}'.format(titleBTC)) \n",
    "md(\"- {}{} {}{} [| Skaityti daugiau]({}) \".format(btc['title'],'. ', btc['body'], ' ...', btc['url']))"
   ]
  },
  {
   "cell_type": "code",
   "execution_count": 5,
   "id": "organic-actress",
   "metadata": {
    "execution": {
     "iopub.execute_input": "2021-05-09T02:09:13.417271Z",
     "iopub.status.busy": "2021-05-09T02:09:13.416673Z",
     "iopub.status.idle": "2021-05-09T02:09:13.419962Z",
     "shell.execute_reply": "2021-05-09T02:09:13.419458Z"
    },
    "papermill": {
     "duration": 0.018193,
     "end_time": "2021-05-09T02:09:13.420076",
     "exception": false,
     "start_time": "2021-05-09T02:09:13.401883",
     "status": "completed"
    },
    "tags": []
   },
   "outputs": [
    {
     "data": {
      "text/markdown": [
       "- XRP, Dogecoin, Cardano Price analysis: 08 May.  Volatility was shrinking in the XRP market and some rangebound movement was predicted moving forward. Buying resumed for Dogecoin as the price overturned $0.69 from resistance to support. Lastly, Cardano presented a few targets above $2 which could be toppled in the coming weeks. XRP At the time of writing, the world&#8217;s fifth-largest cryptocurrency &#8211; [&#8230;] ... [| Skaityti daugiau](https://ambcrypto.com/xrp-dogecoin-cardano-price-analysis-08-may/) "
      ],
      "text/plain": [
       "<IPython.core.display.Markdown object>"
      ]
     },
     "execution_count": 5,
     "metadata": {},
     "output_type": "execute_result"
    }
   ],
   "source": [
    "#hide_input\n",
    "#md('##### {}'.format(titleBTC)) \n",
    "md(\"- {}{} {}{} [| Skaityti daugiau]({}) \".format(xrp['title'],'. ', xrp['body'], ' ...', xrp['url']))"
   ]
  },
  {
   "cell_type": "code",
   "execution_count": 6,
   "id": "prompt-farmer",
   "metadata": {
    "execution": {
     "iopub.execute_input": "2021-05-09T02:09:13.448810Z",
     "iopub.status.busy": "2021-05-09T02:09:13.448205Z",
     "iopub.status.idle": "2021-05-09T02:09:13.451569Z",
     "shell.execute_reply": "2021-05-09T02:09:13.451077Z"
    },
    "papermill": {
     "duration": 0.020468,
     "end_time": "2021-05-09T02:09:13.451680",
     "exception": false,
     "start_time": "2021-05-09T02:09:13.431212",
     "status": "completed"
    },
    "tags": []
   },
   "outputs": [
    {
     "data": {
      "text/markdown": [
       "- Theta, EOS, Tron Price Analysis: 08 May.  Theta projected dips at $12 and $11 and a fall below the latter level could lead to further losses in the market. EOS&#8217; correction could see it drop all the way towards the 23.6% Fibonacci level at $6.4. Lastly, Tron&#8217;s breakout was restricted at $0.165 and $0.148 needed to be defended from some selling pressure. [&#8230;] ... [| Skaityti daugiau](https://ambcrypto.com/theta-eos-tron-price-analysis-08-may/) "
      ],
      "text/plain": [
       "<IPython.core.display.Markdown object>"
      ]
     },
     "execution_count": 6,
     "metadata": {},
     "output_type": "execute_result"
    }
   ],
   "source": [
    "#hide_input\n",
    "#md('##### {}'.format(titleBTC)) \n",
    "md(\"- {}{} {}{} [| Skaityti daugiau]({}) \".format(trx['title'],'. ', trx['body'], ' ...', trx['url']))"
   ]
  },
  {
   "cell_type": "code",
   "execution_count": 7,
   "id": "illegal-greece",
   "metadata": {
    "execution": {
     "iopub.execute_input": "2021-05-09T02:09:13.480859Z",
     "iopub.status.busy": "2021-05-09T02:09:13.480235Z",
     "iopub.status.idle": "2021-05-09T02:09:13.482968Z",
     "shell.execute_reply": "2021-05-09T02:09:13.483408Z"
    },
    "papermill": {
     "duration": 0.019403,
     "end_time": "2021-05-09T02:09:13.483531",
     "exception": false,
     "start_time": "2021-05-09T02:09:13.464128",
     "status": "completed"
    },
    "tags": []
   },
   "outputs": [
    {
     "data": {
      "text/markdown": [
       "- What Edward Snowden Thinks “Dragon Level” Wealth Will Do To Bitcoin.  Former Central Intelligence Agency (CIA) computer consultant Edward Snowden talked in the Ethereal Virtual Summit 2021. The main subject, Privacy Coins, NFTs, decentralization and its relationship with freedom. A clip of the Summit was shared by Alex Gladstein, Chief Strategy Officer (CSO) for the Human Rights Foundation and Oslo Freedom Forum, via his Twitter account. [&#8230;] ... [| Skaityti daugiau](https://www.newsbtc.com/news/bitcoin/snowden-thinks-wealth-will-do-bitcoin/) "
      ],
      "text/plain": [
       "<IPython.core.display.Markdown object>"
      ]
     },
     "execution_count": 7,
     "metadata": {},
     "output_type": "execute_result"
    }
   ],
   "source": [
    "#hide_input\n",
    "#md('##### {}'.format(titleBTC)) \n",
    "md(\"- {}{} {}{} [| Skaityti daugiau]({}) \".format(eth['title'],'. ', eth['body'], ' ...', eth['url']))"
   ]
  },
  {
   "cell_type": "code",
   "execution_count": 8,
   "id": "sublime-lounge",
   "metadata": {
    "execution": {
     "iopub.execute_input": "2021-05-09T02:09:13.511330Z",
     "iopub.status.busy": "2021-05-09T02:09:13.510770Z",
     "iopub.status.idle": "2021-05-09T02:09:13.513785Z",
     "shell.execute_reply": "2021-05-09T02:09:13.513310Z"
    },
    "papermill": {
     "duration": 0.018539,
     "end_time": "2021-05-09T02:09:13.513893",
     "exception": false,
     "start_time": "2021-05-09T02:09:13.495354",
     "status": "completed"
    },
    "tags": []
   },
   "outputs": [
    {
     "data": {
      "text/markdown": [
       "- XRP, Dogecoin, Cardano Price analysis: 08 May.  Volatility was shrinking in the XRP market and some rangebound movement was predicted moving forward. Buying resumed for Dogecoin as the price overturned $0.69 from resistance to support. Lastly, Cardano presented a few targets above $2 which could be toppled in the coming weeks. XRP At the time of writing, the world&#8217;s fifth-largest cryptocurrency &#8211; [&#8230;] ... [| Skaityti daugiau](https://ambcrypto.com/xrp-dogecoin-cardano-price-analysis-08-may/) "
      ],
      "text/plain": [
       "<IPython.core.display.Markdown object>"
      ]
     },
     "execution_count": 8,
     "metadata": {},
     "output_type": "execute_result"
    }
   ],
   "source": [
    "#hide_input\n",
    "#md('##### {}'.format(titleBTC)) \n",
    "md(\"- {}{} {}{} [| Skaityti daugiau]({}) \".format(ada['title'],'. ', ada['body'], ' ...', ada['url']))"
   ]
  },
  {
   "cell_type": "code",
   "execution_count": 9,
   "id": "specified-ordering",
   "metadata": {
    "execution": {
     "iopub.execute_input": "2021-05-09T02:09:13.543654Z",
     "iopub.status.busy": "2021-05-09T02:09:13.543092Z",
     "iopub.status.idle": "2021-05-09T02:09:13.546171Z",
     "shell.execute_reply": "2021-05-09T02:09:13.545693Z"
    },
    "papermill": {
     "duration": 0.019165,
     "end_time": "2021-05-09T02:09:13.546278",
     "exception": false,
     "start_time": "2021-05-09T02:09:13.527113",
     "status": "completed"
    },
    "tags": []
   },
   "outputs": [
    {
     "data": {
      "text/markdown": [
       "- American crypto exchange on verge of extinction.  TL;DR Breakdown American crypto exchange firm, Coinseed being threatened by NYAG SEC also after Coinseed The New York Attorney General&#8217;s Office is currently at the heels of the crypto investment app Coinseed. The NYAG wants to see the end of the American crypto exchange firm over certain allegations against the exchange in the past. Coinseed, [&#8230;] ... [| Skaityti daugiau](https://www.cryptopolitan.com/american-crypto-exchange-to-be-extint/) "
      ],
      "text/plain": [
       "<IPython.core.display.Markdown object>"
      ]
     },
     "execution_count": 9,
     "metadata": {},
     "output_type": "execute_result"
    }
   ],
   "source": [
    "#hide_input\n",
    "#md('##### {}'.format(titleBTC)) \n",
    "md(\"- {}{} {}{} [| Skaityti daugiau]({}) \".format(exchange['title'],'. ', exchange['body'], ' ...', exchange['url']))"
   ]
  },
  {
   "cell_type": "code",
   "execution_count": null,
   "id": "tender-livestock",
   "metadata": {
    "papermill": {
     "duration": 0.012174,
     "end_time": "2021-05-09T02:09:13.571446",
     "exception": false,
     "start_time": "2021-05-09T02:09:13.559272",
     "status": "completed"
    },
    "tags": []
   },
   "outputs": [],
   "source": []
  },
  {
   "cell_type": "code",
   "execution_count": null,
   "id": "appreciated-diamond",
   "metadata": {
    "papermill": {
     "duration": 0.01287,
     "end_time": "2021-05-09T02:09:13.596789",
     "exception": false,
     "start_time": "2021-05-09T02:09:13.583919",
     "status": "completed"
    },
    "tags": []
   },
   "outputs": [],
   "source": []
  },
  {
   "cell_type": "code",
   "execution_count": null,
   "id": "romance-sweden",
   "metadata": {
    "papermill": {
     "duration": 0.012771,
     "end_time": "2021-05-09T02:09:13.622932",
     "exception": false,
     "start_time": "2021-05-09T02:09:13.610161",
     "status": "completed"
    },
    "tags": []
   },
   "outputs": [],
   "source": []
  },
  {
   "cell_type": "code",
   "execution_count": null,
   "id": "dietary-statistics",
   "metadata": {
    "papermill": {
     "duration": 0.012439,
     "end_time": "2021-05-09T02:09:13.647469",
     "exception": false,
     "start_time": "2021-05-09T02:09:13.635030",
     "status": "completed"
    },
    "tags": []
   },
   "outputs": [],
   "source": []
  }
 ],
 "metadata": {
  "kernelspec": {
   "display_name": "Python 3",
   "language": "python",
   "name": "python3"
  },
  "language_info": {
   "codemirror_mode": {
    "name": "ipython",
    "version": 3
   },
   "file_extension": ".py",
   "mimetype": "text/x-python",
   "name": "python",
   "nbconvert_exporter": "python",
   "pygments_lexer": "ipython3",
   "version": "3.6.13"
  },
  "papermill": {
   "default_parameters": {},
   "duration": 12.324469,
   "end_time": "2021-05-09T02:09:14.926495",
   "environment_variables": {},
   "exception": null,
   "input_path": "Market-News.ipynb",
   "output_path": "Market-News.ipynb",
   "parameters": {},
   "start_time": "2021-05-09T02:09:02.602026",
   "version": "2.2.2"
  }
 },
 "nbformat": 4,
 "nbformat_minor": 5
}