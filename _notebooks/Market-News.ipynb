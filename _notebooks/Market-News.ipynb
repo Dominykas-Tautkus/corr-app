{
 "cells": [
  {
   "cell_type": "markdown",
   "id": "short-greensboro",
   "metadata": {
    "papermill": {
     "duration": 0.01572,
     "end_time": "2021-05-27T03:16:00.145950",
     "exception": false,
     "start_time": "2021-05-27T03:16:00.130230",
     "status": "completed"
    },
    "tags": []
   },
   "source": [
    "# Kriptovaliutų naujienos"
   ]
  },
  {
   "cell_type": "code",
   "execution_count": 1,
   "id": "functioning-knowing",
   "metadata": {
    "execution": {
     "iopub.execute_input": "2021-05-27T03:16:00.179665Z",
     "iopub.status.busy": "2021-05-27T03:16:00.178163Z",
     "iopub.status.idle": "2021-05-27T03:16:01.507007Z",
     "shell.execute_reply": "2021-05-27T03:16:01.505445Z"
    },
    "papermill": {
     "duration": 1.350224,
     "end_time": "2021-05-27T03:16:01.507183",
     "exception": false,
     "start_time": "2021-05-27T03:16:00.156959",
     "status": "completed"
    },
    "tags": []
   },
   "outputs": [],
   "source": [
    "#hide_input\n",
    "import warnings\n",
    "warnings.filterwarnings('ignore')\n",
    "from scripts.read_data import read_api\n",
    "from scripts.read_data import read_news\n",
    "from scripts.read_data import read_covid\n",
    "import matplotlib.pyplot as plt \n",
    "from IPython.display import Markdown as md"
   ]
  },
  {
   "cell_type": "code",
   "execution_count": 2,
   "id": "shared-acceptance",
   "metadata": {
    "execution": {
     "iopub.execute_input": "2021-05-27T03:16:01.535559Z",
     "iopub.status.busy": "2021-05-27T03:16:01.534769Z",
     "iopub.status.idle": "2021-05-27T03:16:10.338168Z",
     "shell.execute_reply": "2021-05-27T03:16:10.337597Z"
    },
    "papermill": {
     "duration": 8.820678,
     "end_time": "2021-05-27T03:16:10.338396",
     "exception": false,
     "start_time": "2021-05-27T03:16:01.517718",
     "status": "completed"
    },
    "tags": []
   },
   "outputs": [],
   "source": [
    "#hide_input\n",
    "blockchain = read_news('blockchain') \n",
    "btc = read_news('btc') \n",
    "xrp = read_news('xrp') \n",
    "trx = read_news('trx') \n",
    "eth = read_news('eth')  \n",
    "ada = read_news('ada')\n",
    "exchange = read_news('exchange') "
   ]
  },
  {
   "cell_type": "code",
   "execution_count": 3,
   "id": "synthetic-notion",
   "metadata": {
    "execution": {
     "iopub.execute_input": "2021-05-27T03:16:10.369375Z",
     "iopub.status.busy": "2021-05-27T03:16:10.368770Z",
     "iopub.status.idle": "2021-05-27T03:16:10.371500Z",
     "shell.execute_reply": "2021-05-27T03:16:10.371942Z"
    },
    "papermill": {
     "duration": 0.021904,
     "end_time": "2021-05-27T03:16:10.372088",
     "exception": false,
     "start_time": "2021-05-27T03:16:10.350184",
     "status": "completed"
    },
    "tags": []
   },
   "outputs": [
    {
     "data": {
      "text/markdown": [
       "- People in Hong Kong Use The Blockchain To Fight Against Media Censorship.  The decentralized nature of the blockchain is helping people in Hong Kong fight a recent wave of censorship from a major media outlet. ... [| Skaityti daugiau](https://cryptopotato.com/people-hong-kong-use-blockchain-fight-media-censorship/) "
      ],
      "text/plain": [
       "<IPython.core.display.Markdown object>"
      ]
     },
     "execution_count": 3,
     "metadata": {},
     "output_type": "execute_result"
    }
   ],
   "source": [
    "#hide_input\n",
    "#md('##### {}'.format(titleBTC)) \n",
    "md(\"- {}{} {}{} [| Skaityti daugiau]({}) \".format(blockchain['title'],'. ', blockchain['body'], ' ...', blockchain['url']))"
   ]
  },
  {
   "cell_type": "code",
   "execution_count": 4,
   "id": "aging-caution",
   "metadata": {
    "execution": {
     "iopub.execute_input": "2021-05-27T03:16:10.399587Z",
     "iopub.status.busy": "2021-05-27T03:16:10.398801Z",
     "iopub.status.idle": "2021-05-27T03:16:10.401261Z",
     "shell.execute_reply": "2021-05-27T03:16:10.401899Z"
    },
    "papermill": {
     "duration": 0.019359,
     "end_time": "2021-05-27T03:16:10.402048",
     "exception": false,
     "start_time": "2021-05-27T03:16:10.382689",
     "status": "completed"
    },
    "tags": []
   },
   "outputs": [
    {
     "data": {
      "text/markdown": [
       "- Bitcoin TA: Here’s Why BTC Remains At A Risk of Fresh Drop.  Bitcoin price failed to clear the key $40,000 resistance zone against the US Dollar. BTC is correcting gains and it remains at a risk of more losses towards $36,000 or $34,000. Bitcoin is struggling to clear the $40,000 and $40,500 resistance levels. The price is currently holding the $37,000 support and the 100 hourly simple [&#8230;] ... [| Skaityti daugiau](https://www.newsbtc.com/analysis/btc/bitcoin-btc-remains-at-a-risk-35k/) "
      ],
      "text/plain": [
       "<IPython.core.display.Markdown object>"
      ]
     },
     "execution_count": 4,
     "metadata": {},
     "output_type": "execute_result"
    }
   ],
   "source": [
    "#hide_input\n",
    "#md('##### {}'.format(titleBTC)) \n",
    "md(\"- {}{} {}{} [| Skaityti daugiau]({}) \".format(btc['title'],'. ', btc['body'], ' ...', btc['url']))"
   ]
  },
  {
   "cell_type": "code",
   "execution_count": 5,
   "id": "organic-actress",
   "metadata": {
    "execution": {
     "iopub.execute_input": "2021-05-27T03:16:10.430838Z",
     "iopub.status.busy": "2021-05-27T03:16:10.429642Z",
     "iopub.status.idle": "2021-05-27T03:16:10.434023Z",
     "shell.execute_reply": "2021-05-27T03:16:10.433504Z"
    },
    "papermill": {
     "duration": 0.020108,
     "end_time": "2021-05-27T03:16:10.434143",
     "exception": false,
     "start_time": "2021-05-27T03:16:10.414035",
     "status": "completed"
    },
    "tags": []
   },
   "outputs": [
    {
     "data": {
      "text/markdown": [
       "- XRP, Binance Coin, Cardano Price Analysis: 26 May.  As Bitcoin recovered to $40k, the remaining altcoin market too geared up for an upward trend. The strong correlation between Bitcoin and altcoins has managed to push major alts like XRP, Binance Coin [BNB], and Cardano [ADA] to a strong bullish territory price rises. XRP The hourly chart above of XRP noted the price hit [&#8230;] ... [| Skaityti daugiau](https://ambcrypto.com/xrp-binance-coin-cardano-price-analysis-26-may/) "
      ],
      "text/plain": [
       "<IPython.core.display.Markdown object>"
      ]
     },
     "execution_count": 5,
     "metadata": {},
     "output_type": "execute_result"
    }
   ],
   "source": [
    "#hide_input\n",
    "#md('##### {}'.format(titleBTC)) \n",
    "md(\"- {}{} {}{} [| Skaityti daugiau]({}) \".format(xrp['title'],'. ', xrp['body'], ' ...', xrp['url']))"
   ]
  },
  {
   "cell_type": "code",
   "execution_count": 6,
   "id": "prompt-farmer",
   "metadata": {
    "execution": {
     "iopub.execute_input": "2021-05-27T03:16:10.462782Z",
     "iopub.status.busy": "2021-05-27T03:16:10.462205Z",
     "iopub.status.idle": "2021-05-27T03:16:10.467261Z",
     "shell.execute_reply": "2021-05-27T03:16:10.466737Z"
    },
    "papermill": {
     "duration": 0.021926,
     "end_time": "2021-05-27T03:16:10.467380",
     "exception": false,
     "start_time": "2021-05-27T03:16:10.445454",
     "status": "completed"
    },
    "tags": []
   },
   "outputs": [
    {
     "data": {
      "text/markdown": [
       "- Tron (TRX) Price Analysis: Bulls Facing Hurdles Near $0.092.  Tron price extended its decline below the $0.1000 and $0.0900 support levels against the US Dollar. TRX price is now trading well below $0.1000 and the 55 simple moving average (4-hours). There is a major bearish trend line forming with resistance near $0.0900 on the 4-hours chart (data feed via Bitfinex). The pair is likely...The post Tron (TRX) Price Analysis: Bulls Facing Hurdles Near $0.092 appeared first on Live Bitcoin News. ... [| Skaityti daugiau](https://www.livebitcoinnews.com/tron-trx-price-analysis-bulls-facing-hurdles-near-0-092/) "
      ],
      "text/plain": [
       "<IPython.core.display.Markdown object>"
      ]
     },
     "execution_count": 6,
     "metadata": {},
     "output_type": "execute_result"
    }
   ],
   "source": [
    "#hide_input\n",
    "#md('##### {}'.format(titleBTC)) \n",
    "md(\"- {}{} {}{} [| Skaityti daugiau]({}) \".format(trx['title'],'. ', trx['body'], ' ...', trx['url']))"
   ]
  },
  {
   "cell_type": "code",
   "execution_count": 7,
   "id": "illegal-greece",
   "metadata": {
    "execution": {
     "iopub.execute_input": "2021-05-27T03:16:10.497038Z",
     "iopub.status.busy": "2021-05-27T03:16:10.496453Z",
     "iopub.status.idle": "2021-05-27T03:16:10.499832Z",
     "shell.execute_reply": "2021-05-27T03:16:10.500390Z"
    },
    "papermill": {
     "duration": 0.021348,
     "end_time": "2021-05-27T03:16:10.500531",
     "exception": false,
     "start_time": "2021-05-27T03:16:10.479183",
     "status": "completed"
    },
    "tags": []
   },
   "outputs": [
    {
     "data": {
      "text/markdown": [
       "- Billionaire Carl Icahn says he may drop up to $1.5B into crypto.  Billionaire Carl Icahn may invest up to $1.5 billion into crypto while noting that “much of the cryptocurrency issued today will not survive.”  ... [| Skaityti daugiau](https://cointelegraph.com/news/billionaire-carl-icahn-says-he-may-drop-up-to-1-5b-into-crypto) "
      ],
      "text/plain": [
       "<IPython.core.display.Markdown object>"
      ]
     },
     "execution_count": 7,
     "metadata": {},
     "output_type": "execute_result"
    }
   ],
   "source": [
    "#hide_input\n",
    "#md('##### {}'.format(titleBTC)) \n",
    "md(\"- {}{} {}{} [| Skaityti daugiau]({}) \".format(eth['title'],'. ', eth['body'], ' ...', eth['url']))"
   ]
  },
  {
   "cell_type": "code",
   "execution_count": 8,
   "id": "sublime-lounge",
   "metadata": {
    "execution": {
     "iopub.execute_input": "2021-05-27T03:16:10.530235Z",
     "iopub.status.busy": "2021-05-27T03:16:10.529568Z",
     "iopub.status.idle": "2021-05-27T03:16:10.532322Z",
     "shell.execute_reply": "2021-05-27T03:16:10.532981Z"
    },
    "papermill": {
     "duration": 0.020489,
     "end_time": "2021-05-27T03:16:10.533162",
     "exception": false,
     "start_time": "2021-05-27T03:16:10.512673",
     "status": "completed"
    },
    "tags": []
   },
   "outputs": [
    {
     "data": {
      "text/markdown": [
       "- XRP, Binance Coin, Cardano Price Analysis: 26 May.  As Bitcoin recovered to $40k, the remaining altcoin market too geared up for an upward trend. The strong correlation between Bitcoin and altcoins has managed to push major alts like XRP, Binance Coin [BNB], and Cardano [ADA] to a strong bullish territory price rises. XRP The hourly chart above of XRP noted the price hit [&#8230;] ... [| Skaityti daugiau](https://ambcrypto.com/xrp-binance-coin-cardano-price-analysis-26-may/) "
      ],
      "text/plain": [
       "<IPython.core.display.Markdown object>"
      ]
     },
     "execution_count": 8,
     "metadata": {},
     "output_type": "execute_result"
    }
   ],
   "source": [
    "#hide_input\n",
    "#md('##### {}'.format(titleBTC)) \n",
    "md(\"- {}{} {}{} [| Skaityti daugiau]({}) \".format(ada['title'],'. ', ada['body'], ' ...', ada['url']))"
   ]
  },
  {
   "cell_type": "code",
   "execution_count": 9,
   "id": "specified-ordering",
   "metadata": {
    "execution": {
     "iopub.execute_input": "2021-05-27T03:16:10.565784Z",
     "iopub.status.busy": "2021-05-27T03:16:10.564937Z",
     "iopub.status.idle": "2021-05-27T03:16:10.569400Z",
     "shell.execute_reply": "2021-05-27T03:16:10.569892Z"
    },
    "papermill": {
     "duration": 0.022302,
     "end_time": "2021-05-27T03:16:10.570035",
     "exception": false,
     "start_time": "2021-05-27T03:16:10.547733",
     "status": "completed"
    },
    "tags": []
   },
   "outputs": [
    {
     "data": {
      "text/markdown": [
       "- SEC’s Gensler seeks bigger budget amid SPACs, crypto and ‘once-in-a-generation’ IPO boom.  New U.S. Securities and Exchange Commission Chairman Gary Gensler asked Congress on Wednesday for increased funding so his agency can handle the rise of SPACs, cryptocurrencies and today’s “once-in-a-generation” level of traditional IPOs.“The SEC oversees the nearly $100-trillion capital markets, [but] as our capital markets have grown … the SEC has not grown to meet the needs of the 2020s,” Gensler said in prepared remarks to a House Appropriations subcommittee.The SEC chief said that even as SPACs, cryptos, IPOs and other financial instruments have expanded, his agency’s headcount has dropped some 4% in four years. Gensler said the SEC’s enforcement division’s staff has decreased by 6%, while its corporate-finance unit has lost 20% of headcount in the past five years.He said the agency’s staffing has shrunk even as new investment avenues have exploded.For example, Gensler said that 700 special purpose acquisition companies have filed for IPOs so far this year, ... [| Skaityti daugiau](https://seekingalpha.com/news/3700594-secs-gensler-seeks-bigger-budget-amid-boom-in-spacs-crypto-and-ipos?utm_source=cryptocompare.com&utm_medium=referral) "
      ],
      "text/plain": [
       "<IPython.core.display.Markdown object>"
      ]
     },
     "execution_count": 9,
     "metadata": {},
     "output_type": "execute_result"
    }
   ],
   "source": [
    "#hide_input\n",
    "#md('##### {}'.format(titleBTC)) \n",
    "md(\"- {}{} {}{} [| Skaityti daugiau]({}) \".format(exchange['title'],'. ', exchange['body'], ' ...', exchange['url']))"
   ]
  },
  {
   "cell_type": "code",
   "execution_count": null,
   "id": "tender-livestock",
   "metadata": {
    "papermill": {
     "duration": 0.012692,
     "end_time": "2021-05-27T03:16:10.595640",
     "exception": false,
     "start_time": "2021-05-27T03:16:10.582948",
     "status": "completed"
    },
    "tags": []
   },
   "outputs": [],
   "source": []
  },
  {
   "cell_type": "code",
   "execution_count": null,
   "id": "appreciated-diamond",
   "metadata": {
    "papermill": {
     "duration": 0.012598,
     "end_time": "2021-05-27T03:16:10.620877",
     "exception": false,
     "start_time": "2021-05-27T03:16:10.608279",
     "status": "completed"
    },
    "tags": []
   },
   "outputs": [],
   "source": []
  },
  {
   "cell_type": "code",
   "execution_count": null,
   "id": "romance-sweden",
   "metadata": {
    "papermill": {
     "duration": 0.012543,
     "end_time": "2021-05-27T03:16:10.646057",
     "exception": false,
     "start_time": "2021-05-27T03:16:10.633514",
     "status": "completed"
    },
    "tags": []
   },
   "outputs": [],
   "source": []
  },
  {
   "cell_type": "code",
   "execution_count": null,
   "id": "dietary-statistics",
   "metadata": {
    "papermill": {
     "duration": 0.012534,
     "end_time": "2021-05-27T03:16:10.671206",
     "exception": false,
     "start_time": "2021-05-27T03:16:10.658672",
     "status": "completed"
    },
    "tags": []
   },
   "outputs": [],
   "source": []
  }
 ],
 "metadata": {
  "kernelspec": {
   "display_name": "Python 3",
   "language": "python",
   "name": "python3"
  },
  "language_info": {
   "codemirror_mode": {
    "name": "ipython",
    "version": 3
   },
   "file_extension": ".py",
   "mimetype": "text/x-python",
   "name": "python",
   "nbconvert_exporter": "python",
   "pygments_lexer": "ipython3",
   "version": "3.6.13"
  },
  "papermill": {
   "default_parameters": {},
   "duration": 13.3277,
   "end_time": "2021-05-27T03:16:12.172225",
   "environment_variables": {},
   "exception": null,
   "input_path": "Market-News.ipynb",
   "output_path": "Market-News.ipynb",
   "parameters": {},
   "start_time": "2021-05-27T03:15:58.844525",
   "version": "2.2.2"
  }
 },
 "nbformat": 4,
 "nbformat_minor": 5
}