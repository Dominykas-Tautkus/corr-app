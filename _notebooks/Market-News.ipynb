{
 "cells": [
  {
   "cell_type": "markdown",
   "id": "short-greensboro",
   "metadata": {
    "papermill": {
     "duration": 0.017351,
     "end_time": "2021-07-08T02:01:19.540663",
     "exception": false,
     "start_time": "2021-07-08T02:01:19.523312",
     "status": "completed"
    },
    "tags": []
   },
   "source": [
    "# Kriptovaliutų naujienos"
   ]
  },
  {
   "cell_type": "code",
   "execution_count": 1,
   "id": "functioning-knowing",
   "metadata": {
    "execution": {
     "iopub.execute_input": "2021-07-08T02:01:19.576669Z",
     "iopub.status.busy": "2021-07-08T02:01:19.576038Z",
     "iopub.status.idle": "2021-07-08T02:01:21.020157Z",
     "shell.execute_reply": "2021-07-08T02:01:21.019206Z"
    },
    "papermill": {
     "duration": 1.467006,
     "end_time": "2021-07-08T02:01:21.020342",
     "exception": false,
     "start_time": "2021-07-08T02:01:19.553336",
     "status": "completed"
    },
    "tags": []
   },
   "outputs": [],
   "source": [
    "#hide_input\n",
    "import warnings\n",
    "warnings.filterwarnings('ignore')\n",
    "from scripts.read_data import read_api\n",
    "from scripts.read_data import read_news\n",
    "from scripts.read_data import read_covid\n",
    "import matplotlib.pyplot as plt \n",
    "from IPython.display import Markdown as md"
   ]
  },
  {
   "cell_type": "code",
   "execution_count": 2,
   "id": "shared-acceptance",
   "metadata": {
    "execution": {
     "iopub.execute_input": "2021-07-08T02:01:21.050921Z",
     "iopub.status.busy": "2021-07-08T02:01:21.050299Z",
     "iopub.status.idle": "2021-07-08T02:01:30.755448Z",
     "shell.execute_reply": "2021-07-08T02:01:30.755920Z"
    },
    "papermill": {
     "duration": 9.722928,
     "end_time": "2021-07-08T02:01:30.756095",
     "exception": false,
     "start_time": "2021-07-08T02:01:21.033167",
     "status": "completed"
    },
    "tags": []
   },
   "outputs": [],
   "source": [
    "#hide_input\n",
    "blockchain = read_news('blockchain') \n",
    "btc = read_news('btc') \n",
    "xrp = read_news('xrp') \n",
    "trx = read_news('trx') \n",
    "eth = read_news('eth')  \n",
    "ada = read_news('ada')\n",
    "exchange = read_news('exchange') "
   ]
  },
  {
   "cell_type": "code",
   "execution_count": 3,
   "id": "synthetic-notion",
   "metadata": {
    "execution": {
     "iopub.execute_input": "2021-07-08T02:01:30.787683Z",
     "iopub.status.busy": "2021-07-08T02:01:30.787040Z",
     "iopub.status.idle": "2021-07-08T02:01:30.793133Z",
     "shell.execute_reply": "2021-07-08T02:01:30.793623Z"
    },
    "papermill": {
     "duration": 0.024798,
     "end_time": "2021-07-08T02:01:30.793800",
     "exception": false,
     "start_time": "2021-07-08T02:01:30.769002",
     "status": "completed"
    },
    "tags": []
   },
   "outputs": [
    {
     "data": {
      "text/markdown": [
       "- The Boston Celtics Announce Partnership With Blockchain Company Socios.com.  The crypto industry keeps entering into mainstream venues via professional sports leagues, athletes, and teams this year. On Wednesday, the Boston Celtics revealed a partnership with the blockchain provider Socios.com. Socios.com to Serve as the Presenting Partner of the NBA&#8217;s Boston Celtics On July 7, Socios.com, the blockchain firm that offers fans a chance to [&#8230;] ... [| Skaityti daugiau](https://news.bitcoin.com/the-boston-celtics-announce-partnership-with-blockchain-company-socios-com/) "
      ],
      "text/plain": [
       "<IPython.core.display.Markdown object>"
      ]
     },
     "execution_count": 3,
     "metadata": {},
     "output_type": "execute_result"
    }
   ],
   "source": [
    "#hide_input\n",
    "#md('##### {}'.format(titleBTC)) \n",
    "md(\"- {}{} {}{} [| Skaityti daugiau]({}) \".format(blockchain['title'],'. ', blockchain['body'], ' ...', blockchain['url']))"
   ]
  },
  {
   "cell_type": "code",
   "execution_count": 4,
   "id": "aging-caution",
   "metadata": {
    "execution": {
     "iopub.execute_input": "2021-07-08T02:01:30.826162Z",
     "iopub.status.busy": "2021-07-08T02:01:30.825082Z",
     "iopub.status.idle": "2021-07-08T02:01:30.828001Z",
     "shell.execute_reply": "2021-07-08T02:01:30.828658Z"
    },
    "papermill": {
     "duration": 0.022917,
     "end_time": "2021-07-08T02:01:30.828804",
     "exception": false,
     "start_time": "2021-07-08T02:01:30.805887",
     "status": "completed"
    },
    "tags": []
   },
   "outputs": [
    {
     "data": {
      "text/markdown": [
       "- Goldman Sachs Sees More Potential in Ether Than Bitcoin.  Global investment bank Goldman Sachs says ether is the cryptocurrency with the highest real use potential and it could overtake bitcoin as the dominant digital store of value. Ether Could Overtake Bitcoin as Dominant Store of Value, Says Goldman Sachs Goldman Sachs shared its view on the future outlook for bitcoin and ether in a [&#8230;] ... [| Skaityti daugiau](https://news.bitcoin.com/goldman-sachs-potential-ether-bitcoin/) "
      ],
      "text/plain": [
       "<IPython.core.display.Markdown object>"
      ]
     },
     "execution_count": 4,
     "metadata": {},
     "output_type": "execute_result"
    }
   ],
   "source": [
    "#hide_input\n",
    "#md('##### {}'.format(titleBTC)) \n",
    "md(\"- {}{} {}{} [| Skaityti daugiau]({}) \".format(btc['title'],'. ', btc['body'], ' ...', btc['url']))"
   ]
  },
  {
   "cell_type": "code",
   "execution_count": 5,
   "id": "organic-actress",
   "metadata": {
    "execution": {
     "iopub.execute_input": "2021-07-08T02:01:30.859566Z",
     "iopub.status.busy": "2021-07-08T02:01:30.858950Z",
     "iopub.status.idle": "2021-07-08T02:01:30.865268Z",
     "shell.execute_reply": "2021-07-08T02:01:30.865752Z"
    },
    "papermill": {
     "duration": 0.023987,
     "end_time": "2021-07-08T02:01:30.865887",
     "exception": false,
     "start_time": "2021-07-08T02:01:30.841900",
     "status": "completed"
    },
    "tags": []
   },
   "outputs": [
    {
     "data": {
      "text/markdown": [
       "- XRP Has Same Use Cases As Bitcoin, Ripple Director Asserts.  Ripple’s native cryptocurrency, XRP, often gets a bad rep for having no real use cases, with some regulators going as far as to call it a security. In a series of tweets recently, the Director of Developer Relations at Ripple, Matt Hamilton, has attempted to set the record straight on the XRP cryptocurrency. XRP’s Use [&#8230;] ... [| Skaityti daugiau](https://zycrypto.com/xrp-has-same-use-cases-as-bitcoin-ripple-director-asserts/) "
      ],
      "text/plain": [
       "<IPython.core.display.Markdown object>"
      ]
     },
     "execution_count": 5,
     "metadata": {},
     "output_type": "execute_result"
    }
   ],
   "source": [
    "#hide_input\n",
    "#md('##### {}'.format(titleBTC)) \n",
    "md(\"- {}{} {}{} [| Skaityti daugiau]({}) \".format(xrp['title'],'. ', xrp['body'], ' ...', xrp['url']))"
   ]
  },
  {
   "cell_type": "code",
   "execution_count": 6,
   "id": "prompt-farmer",
   "metadata": {
    "execution": {
     "iopub.execute_input": "2021-07-08T02:01:30.896905Z",
     "iopub.status.busy": "2021-07-08T02:01:30.894645Z",
     "iopub.status.idle": "2021-07-08T02:01:30.899199Z",
     "shell.execute_reply": "2021-07-08T02:01:30.899693Z"
    },
    "papermill": {
     "duration": 0.021102,
     "end_time": "2021-07-08T02:01:30.899816",
     "exception": false,
     "start_time": "2021-07-08T02:01:30.878714",
     "status": "completed"
    },
    "tags": []
   },
   "outputs": [
    {
     "data": {
      "text/markdown": [
       "- Tron (TRX) Price Analysis: Fresh Increase Likely Above $0.07.  Tron price started a decent increase above the $0.0600 zone against the US Dollar. TRX price is now trading well above $0.0620, but it is below the 55 simple moving average (4-hours). There is a major bearish trend line forming with resistance near $0.0670 on the 4-hours chart (data feed via Bitfinex). The pair is...The post Tron (TRX) Price Analysis: Fresh Increase Likely Above $0.07 appeared first on Live Bitcoin News. ... [| Skaityti daugiau](https://www.livebitcoinnews.com/tron-trx-price-analysis-fresh-increase-likely-above-0-07/) "
      ],
      "text/plain": [
       "<IPython.core.display.Markdown object>"
      ]
     },
     "execution_count": 6,
     "metadata": {},
     "output_type": "execute_result"
    }
   ],
   "source": [
    "#hide_input\n",
    "#md('##### {}'.format(titleBTC)) \n",
    "md(\"- {}{} {}{} [| Skaityti daugiau]({}) \".format(trx['title'],'. ', trx['body'], ' ...', trx['url']))"
   ]
  },
  {
   "cell_type": "code",
   "execution_count": 7,
   "id": "illegal-greece",
   "metadata": {
    "execution": {
     "iopub.execute_input": "2021-07-08T02:01:30.934588Z",
     "iopub.status.busy": "2021-07-08T02:01:30.933443Z",
     "iopub.status.idle": "2021-07-08T02:01:30.936471Z",
     "shell.execute_reply": "2021-07-08T02:01:30.937159Z"
    },
    "papermill": {
     "duration": 0.024194,
     "end_time": "2021-07-08T02:01:30.937341",
     "exception": false,
     "start_time": "2021-07-08T02:01:30.913147",
     "status": "completed"
    },
    "tags": []
   },
   "outputs": [
    {
     "data": {
      "text/markdown": [
       "- Dogecoin ‘rival’ token Floki rugpulls…twice.  Tesla’s owner and crypto’s most notorious influencer Elon Musk tweeted on the 25th of June his new Shiba Inu will be named Floki, which promptly led to a frantic launch of a myriad of meme tokens exploiting the name. As expected, scams popped up among these purposeless and ad hoc created coins but nonetheless, some [&#8230;]The post Dogecoin &#8216;rival&#8217; token Floki rugpulls&#8230;twice appeared first on CryptoSlate. ... [| Skaityti daugiau](https://cryptoslate.com/dogecoin-rival-token-floki-rugpulls-twice/) "
      ],
      "text/plain": [
       "<IPython.core.display.Markdown object>"
      ]
     },
     "execution_count": 7,
     "metadata": {},
     "output_type": "execute_result"
    }
   ],
   "source": [
    "#hide_input\n",
    "#md('##### {}'.format(titleBTC)) \n",
    "md(\"- {}{} {}{} [| Skaityti daugiau]({}) \".format(eth['title'],'. ', eth['body'], ' ...', eth['url']))"
   ]
  },
  {
   "cell_type": "code",
   "execution_count": 8,
   "id": "sublime-lounge",
   "metadata": {
    "execution": {
     "iopub.execute_input": "2021-07-08T02:01:30.972551Z",
     "iopub.status.busy": "2021-07-08T02:01:30.971261Z",
     "iopub.status.idle": "2021-07-08T02:01:30.974628Z",
     "shell.execute_reply": "2021-07-08T02:01:30.975101Z"
    },
    "papermill": {
     "duration": 0.023744,
     "end_time": "2021-07-08T02:01:30.975234",
     "exception": false,
     "start_time": "2021-07-08T02:01:30.951490",
     "status": "completed"
    },
    "tags": []
   },
   "outputs": [
    {
     "data": {
      "text/markdown": [
       "- Cardano ($ADA) Overtakes Bitcoin as the Most-Held Cryptocurrency on eToro: Report.  Cardano (ADA) has overtaken the flagship cryptocurrency Bitcoin as the most-held cryptocurrency on the popular eToro trading platform during the second quarter of the year after seeing a 51% rise compared to the previous quarter. Bitcoin, meanwhile, saw demand for it move up 42% during the same period according to CityAM. Simon Peters, a crypto […] ... [| Skaityti daugiau](https://www.cryptoglobe.com/latest/2021/07/cardano-ada-overtakes-bitcoin-as-the-most-held-cryptocurrency-on-etoro-report/) "
      ],
      "text/plain": [
       "<IPython.core.display.Markdown object>"
      ]
     },
     "execution_count": 8,
     "metadata": {},
     "output_type": "execute_result"
    }
   ],
   "source": [
    "#hide_input\n",
    "#md('##### {}'.format(titleBTC)) \n",
    "md(\"- {}{} {}{} [| Skaityti daugiau]({}) \".format(ada['title'],'. ', ada['body'], ' ...', ada['url']))"
   ]
  },
  {
   "cell_type": "code",
   "execution_count": 9,
   "id": "specified-ordering",
   "metadata": {
    "execution": {
     "iopub.execute_input": "2021-07-08T02:01:31.010469Z",
     "iopub.status.busy": "2021-07-08T02:01:31.008494Z",
     "iopub.status.idle": "2021-07-08T02:01:31.013275Z",
     "shell.execute_reply": "2021-07-08T02:01:31.013918Z"
    },
    "papermill": {
     "duration": 0.022566,
     "end_time": "2021-07-08T02:01:31.014044",
     "exception": false,
     "start_time": "2021-07-08T02:01:30.991478",
     "status": "completed"
    },
    "tags": []
   },
   "outputs": [
    {
     "data": {
      "text/markdown": [
       "- Coinbase Is Experiencing Some Solid Competition from BTC Payment Firm Strike.  Coinbase is arguably one of the largest and most popular cryptocurrency exchanges in the western hemisphere. The company has become the first and only crypto exchange as of late to be listed publicly, and it is estimated that the firm has a valuation of approximately $70 billion or more. However, it looks like the company...The post Coinbase Is Experiencing Some Solid Competition from BTC Payment Firm Strike appeared first on Live Bitcoin News. ... [| Skaityti daugiau](https://www.livebitcoinnews.com/coinbase-is-experiencing-some-solid-competition-from-btc-payment-firm-strike/) "
      ],
      "text/plain": [
       "<IPython.core.display.Markdown object>"
      ]
     },
     "execution_count": 9,
     "metadata": {},
     "output_type": "execute_result"
    }
   ],
   "source": [
    "#hide_input\n",
    "#md('##### {}'.format(titleBTC)) \n",
    "md(\"- {}{} {}{} [| Skaityti daugiau]({}) \".format(exchange['title'],'. ', exchange['body'], ' ...', exchange['url']))"
   ]
  },
  {
   "cell_type": "code",
   "execution_count": null,
   "id": "tender-livestock",
   "metadata": {
    "papermill": {
     "duration": 0.014018,
     "end_time": "2021-07-08T02:01:31.042400",
     "exception": false,
     "start_time": "2021-07-08T02:01:31.028382",
     "status": "completed"
    },
    "tags": []
   },
   "outputs": [],
   "source": []
  },
  {
   "cell_type": "code",
   "execution_count": null,
   "id": "appreciated-diamond",
   "metadata": {
    "papermill": {
     "duration": 0.015037,
     "end_time": "2021-07-08T02:01:31.074906",
     "exception": false,
     "start_time": "2021-07-08T02:01:31.059869",
     "status": "completed"
    },
    "tags": []
   },
   "outputs": [],
   "source": []
  },
  {
   "cell_type": "code",
   "execution_count": null,
   "id": "romance-sweden",
   "metadata": {
    "papermill": {
     "duration": 0.017523,
     "end_time": "2021-07-08T02:01:31.109266",
     "exception": false,
     "start_time": "2021-07-08T02:01:31.091743",
     "status": "completed"
    },
    "tags": []
   },
   "outputs": [],
   "source": []
  },
  {
   "cell_type": "code",
   "execution_count": null,
   "id": "dietary-statistics",
   "metadata": {
    "papermill": {
     "duration": 0.013669,
     "end_time": "2021-07-08T02:01:31.138464",
     "exception": false,
     "start_time": "2021-07-08T02:01:31.124795",
     "status": "completed"
    },
    "tags": []
   },
   "outputs": [],
   "source": []
  }
 ],
 "metadata": {
  "kernelspec": {
   "display_name": "Python 3",
   "language": "python",
   "name": "python3"
  },
  "language_info": {
   "codemirror_mode": {
    "name": "ipython",
    "version": 3
   },
   "file_extension": ".py",
   "mimetype": "text/x-python",
   "name": "python",
   "nbconvert_exporter": "python",
   "pygments_lexer": "ipython3",
   "version": "3.6.13"
  },
  "papermill": {
   "default_parameters": {},
   "duration": 13.145291,
   "end_time": "2021-07-08T02:01:31.560734",
   "environment_variables": {},
   "exception": null,
   "input_path": "Market-News.ipynb",
   "output_path": "Market-News.ipynb",
   "parameters": {},
   "start_time": "2021-07-08T02:01:18.415443",
   "version": "2.2.2"
  }
 },
 "nbformat": 4,
 "nbformat_minor": 5
}