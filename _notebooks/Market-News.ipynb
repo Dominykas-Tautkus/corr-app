{
 "cells": [
  {
   "cell_type": "markdown",
   "id": "short-greensboro",
   "metadata": {
    "papermill": {
     "duration": 0.015353,
     "end_time": "2021-05-11T02:11:08.409897",
     "exception": false,
     "start_time": "2021-05-11T02:11:08.394544",
     "status": "completed"
    },
    "tags": []
   },
   "source": [
    "# Kriptovaliutų naujienos"
   ]
  },
  {
   "cell_type": "code",
   "execution_count": 1,
   "id": "functioning-knowing",
   "metadata": {
    "execution": {
     "iopub.execute_input": "2021-05-11T02:11:08.441537Z",
     "iopub.status.busy": "2021-05-11T02:11:08.440894Z",
     "iopub.status.idle": "2021-05-11T02:11:09.776849Z",
     "shell.execute_reply": "2021-05-11T02:11:09.776295Z"
    },
    "papermill": {
     "duration": 1.355227,
     "end_time": "2021-05-11T02:11:09.776996",
     "exception": false,
     "start_time": "2021-05-11T02:11:08.421769",
     "status": "completed"
    },
    "tags": []
   },
   "outputs": [],
   "source": [
    "#hide_input\n",
    "import warnings\n",
    "warnings.filterwarnings('ignore')\n",
    "from scripts.read_data import read_api\n",
    "from scripts.read_data import read_news\n",
    "from scripts.read_data import read_covid\n",
    "import matplotlib.pyplot as plt \n",
    "from IPython.display import Markdown as md"
   ]
  },
  {
   "cell_type": "code",
   "execution_count": 2,
   "id": "shared-acceptance",
   "metadata": {
    "execution": {
     "iopub.execute_input": "2021-05-11T02:11:09.806702Z",
     "iopub.status.busy": "2021-05-11T02:11:09.805586Z",
     "iopub.status.idle": "2021-05-11T02:11:18.684855Z",
     "shell.execute_reply": "2021-05-11T02:11:18.683991Z"
    },
    "papermill": {
     "duration": 8.897085,
     "end_time": "2021-05-11T02:11:18.684987",
     "exception": false,
     "start_time": "2021-05-11T02:11:09.787902",
     "status": "completed"
    },
    "tags": []
   },
   "outputs": [],
   "source": [
    "#hide_input\n",
    "blockchain = read_news('blockchain') \n",
    "btc = read_news('btc') \n",
    "xrp = read_news('xrp') \n",
    "trx = read_news('trx') \n",
    "eth = read_news('eth')  \n",
    "ada = read_news('ada')\n",
    "exchange = read_news('exchange') "
   ]
  },
  {
   "cell_type": "code",
   "execution_count": 3,
   "id": "synthetic-notion",
   "metadata": {
    "execution": {
     "iopub.execute_input": "2021-05-11T02:11:18.714560Z",
     "iopub.status.busy": "2021-05-11T02:11:18.713937Z",
     "iopub.status.idle": "2021-05-11T02:11:18.716669Z",
     "shell.execute_reply": "2021-05-11T02:11:18.717124Z"
    },
    "papermill": {
     "duration": 0.019884,
     "end_time": "2021-05-11T02:11:18.717243",
     "exception": false,
     "start_time": "2021-05-11T02:11:18.697359",
     "status": "completed"
    },
    "tags": []
   },
   "outputs": [
    {
     "data": {
      "text/markdown": [
       "- Why Galaxy Digital bought BitGo.  Quick TakeMike Novogratz, CEO of Galaxy Digital, sees custody as crucial to the &#8220;full stack&#8221; of crypto financial services.Acquiring BitGo also gives Galaxy the technical talent it needs to build its own blockchain applications, he says. ... [| Skaityti daugiau](https://www.theblockcrypto.com/daily/104215/why-galaxy-digital-bought-bitgo?utm_source=cryptocompare&utm_medium=rss) "
      ],
      "text/plain": [
       "<IPython.core.display.Markdown object>"
      ]
     },
     "execution_count": 3,
     "metadata": {},
     "output_type": "execute_result"
    }
   ],
   "source": [
    "#hide_input\n",
    "#md('##### {}'.format(titleBTC)) \n",
    "md(\"- {}{} {}{} [| Skaityti daugiau]({}) \".format(blockchain['title'],'. ', blockchain['body'], ' ...', blockchain['url']))"
   ]
  },
  {
   "cell_type": "code",
   "execution_count": 4,
   "id": "aging-caution",
   "metadata": {
    "execution": {
     "iopub.execute_input": "2021-05-11T02:11:18.743370Z",
     "iopub.status.busy": "2021-05-11T02:11:18.742624Z",
     "iopub.status.idle": "2021-05-11T02:11:18.745856Z",
     "shell.execute_reply": "2021-05-11T02:11:18.745334Z"
    },
    "papermill": {
     "duration": 0.018502,
     "end_time": "2021-05-11T02:11:18.746001",
     "exception": false,
     "start_time": "2021-05-11T02:11:18.727499",
     "status": "completed"
    },
    "tags": []
   },
   "outputs": [
    {
     "data": {
      "text/markdown": [
       "- Crypto Analyst: Buying Litecoin Now Is Like “2020 Ethereum”.  Litecoin is in scintillating form of late, having posted a new all-time high of $410 in the early hours. After months of stuttering, LTC finally joined the likes of BTC and ETH in reaching that milestone moment during this bull run. With that, the bull case is building. Some suggest this is just the beginning, [&#8230;] ... [| Skaityti daugiau](https://www.newsbtc.com/news/litecoin/crypto-analyst-buying-litecoin-now-is-like-2020-ethereum/) "
      ],
      "text/plain": [
       "<IPython.core.display.Markdown object>"
      ]
     },
     "execution_count": 4,
     "metadata": {},
     "output_type": "execute_result"
    }
   ],
   "source": [
    "#hide_input\n",
    "#md('##### {}'.format(titleBTC)) \n",
    "md(\"- {}{} {}{} [| Skaityti daugiau]({}) \".format(btc['title'],'. ', btc['body'], ' ...', btc['url']))"
   ]
  },
  {
   "cell_type": "code",
   "execution_count": 5,
   "id": "organic-actress",
   "metadata": {
    "execution": {
     "iopub.execute_input": "2021-05-11T02:11:18.771972Z",
     "iopub.status.busy": "2021-05-11T02:11:18.771398Z",
     "iopub.status.idle": "2021-05-11T02:11:18.774850Z",
     "shell.execute_reply": "2021-05-11T02:11:18.774380Z"
    },
    "papermill": {
     "duration": 0.018341,
     "end_time": "2021-05-11T02:11:18.774953",
     "exception": false,
     "start_time": "2021-05-11T02:11:18.756612",
     "status": "completed"
    },
    "tags": []
   },
   "outputs": [
    {
     "data": {
      "text/markdown": [
       "- Binance Coin, XRP, Dogecoin Price Analysis: 10 May.  Binance Coin presented a few targets at $778 and $872 after a breakout from cup and handle pattern. XRP traded within a symmetrical triangle and a break was projected to the upside. Lastly, if Dogecoin cushions losses at $0.518, a rise above $0.73 was a possibility in the coming days. Binance Coin [BNB] At the [&#8230;] ... [| Skaityti daugiau](https://ambcrypto.com/binance-coin-xrp-dogecoin-price-analysis-10-may/) "
      ],
      "text/plain": [
       "<IPython.core.display.Markdown object>"
      ]
     },
     "execution_count": 5,
     "metadata": {},
     "output_type": "execute_result"
    }
   ],
   "source": [
    "#hide_input\n",
    "#md('##### {}'.format(titleBTC)) \n",
    "md(\"- {}{} {}{} [| Skaityti daugiau]({}) \".format(xrp['title'],'. ', xrp['body'], ' ...', xrp['url']))"
   ]
  },
  {
   "cell_type": "code",
   "execution_count": 6,
   "id": "prompt-farmer",
   "metadata": {
    "execution": {
     "iopub.execute_input": "2021-05-11T02:11:18.803733Z",
     "iopub.status.busy": "2021-05-11T02:11:18.803132Z",
     "iopub.status.idle": "2021-05-11T02:11:18.806133Z",
     "shell.execute_reply": "2021-05-11T02:11:18.806617Z"
    },
    "papermill": {
     "duration": 0.019238,
     "end_time": "2021-05-11T02:11:18.806753",
     "exception": false,
     "start_time": "2021-05-11T02:11:18.787515",
     "status": "completed"
    },
    "tags": []
   },
   "outputs": [
    {
     "data": {
      "text/markdown": [
       "- Tron, Bitcoin Cash, Monero Price Analysis: 10 May.  Tron was predicted to remain below $0.18 resistance over the coming days. Bitcoin Cash showed some weakness after closing in on $1,460 resistance. Lastly, Monero could see pullbacks at $381.3 or $340.8 in a bearish outcome. Tron [TRX] A downtrend in the OBV showed weakening buying pressure and suggested a pullback for Tron before the [&#8230;] ... [| Skaityti daugiau](https://ambcrypto.com/tron-bitcoin-cash-monero-price-analysis-10-may/) "
      ],
      "text/plain": [
       "<IPython.core.display.Markdown object>"
      ]
     },
     "execution_count": 6,
     "metadata": {},
     "output_type": "execute_result"
    }
   ],
   "source": [
    "#hide_input\n",
    "#md('##### {}'.format(titleBTC)) \n",
    "md(\"- {}{} {}{} [| Skaityti daugiau]({}) \".format(trx['title'],'. ', trx['body'], ' ...', trx['url']))"
   ]
  },
  {
   "cell_type": "code",
   "execution_count": 7,
   "id": "illegal-greece",
   "metadata": {
    "execution": {
     "iopub.execute_input": "2021-05-11T02:11:18.833444Z",
     "iopub.status.busy": "2021-05-11T02:11:18.832874Z",
     "iopub.status.idle": "2021-05-11T02:11:18.835424Z",
     "shell.execute_reply": "2021-05-11T02:11:18.835885Z"
    },
    "papermill": {
     "duration": 0.018247,
     "end_time": "2021-05-11T02:11:18.836017",
     "exception": false,
     "start_time": "2021-05-11T02:11:18.817770",
     "status": "completed"
    },
    "tags": []
   },
   "outputs": [
    {
     "data": {
      "text/markdown": [
       "- Crypto Analyst: Buying Litecoin Now Is Like “2020 Ethereum”.  Litecoin is in scintillating form of late, having posted a new all-time high of $410 in the early hours. After months of stuttering, LTC finally joined the likes of BTC and ETH in reaching that milestone moment during this bull run. With that, the bull case is building. Some suggest this is just the beginning, [&#8230;] ... [| Skaityti daugiau](https://www.newsbtc.com/news/litecoin/crypto-analyst-buying-litecoin-now-is-like-2020-ethereum/) "
      ],
      "text/plain": [
       "<IPython.core.display.Markdown object>"
      ]
     },
     "execution_count": 7,
     "metadata": {},
     "output_type": "execute_result"
    }
   ],
   "source": [
    "#hide_input\n",
    "#md('##### {}'.format(titleBTC)) \n",
    "md(\"- {}{} {}{} [| Skaityti daugiau]({}) \".format(eth['title'],'. ', eth['body'], ' ...', eth['url']))"
   ]
  },
  {
   "cell_type": "code",
   "execution_count": 8,
   "id": "sublime-lounge",
   "metadata": {
    "execution": {
     "iopub.execute_input": "2021-05-11T02:11:18.866482Z",
     "iopub.status.busy": "2021-05-11T02:11:18.865861Z",
     "iopub.status.idle": "2021-05-11T02:11:18.869115Z",
     "shell.execute_reply": "2021-05-11T02:11:18.868665Z"
    },
    "papermill": {
     "duration": 0.020542,
     "end_time": "2021-05-11T02:11:18.869220",
     "exception": false,
     "start_time": "2021-05-11T02:11:18.848678",
     "status": "completed"
    },
    "tags": []
   },
   "outputs": [
    {
     "data": {
      "text/markdown": [
       "- Cardano, Ethereum, Polkadot Price Analysis: 10 May.  Cardano maintained a bullish trajectory after a breakout above $1.48. Ethereum&#8217;s rise above $4,000 was hardly a surprise considering strong buying pressure prevalent in its market. Finally, Polkadot presented a sell signal at the current price but this would change if bulls flipped $42.2-$46.5 to support from resistance. Cardano [ADA] Squeeze Momentum Indicator showed bullish [&#8230;] ... [| Skaityti daugiau](https://ambcrypto.com/cardano-ethereum-polkadot-price-analysis-10-may/) "
      ],
      "text/plain": [
       "<IPython.core.display.Markdown object>"
      ]
     },
     "execution_count": 8,
     "metadata": {},
     "output_type": "execute_result"
    }
   ],
   "source": [
    "#hide_input\n",
    "#md('##### {}'.format(titleBTC)) \n",
    "md(\"- {}{} {}{} [| Skaityti daugiau]({}) \".format(ada['title'],'. ', ada['body'], ' ...', ada['url']))"
   ]
  },
  {
   "cell_type": "code",
   "execution_count": 9,
   "id": "specified-ordering",
   "metadata": {
    "execution": {
     "iopub.execute_input": "2021-05-11T02:11:18.900655Z",
     "iopub.status.busy": "2021-05-11T02:11:18.899899Z",
     "iopub.status.idle": "2021-05-11T02:11:18.903145Z",
     "shell.execute_reply": "2021-05-11T02:11:18.902662Z"
    },
    "papermill": {
     "duration": 0.020258,
     "end_time": "2021-05-11T02:11:18.903298",
     "exception": false,
     "start_time": "2021-05-11T02:11:18.883040",
     "status": "completed"
    },
    "tags": []
   },
   "outputs": [
    {
     "data": {
      "text/markdown": [
       "- ‘Elderly’ South Korean Crypto Fans Brave 30-min Waits at Customer Centers.  South Korean Crypto Fever 2.0 shows no sign of abating – with customers weathering waiting time of 30 minutes or more as queues of wannabe investors wait to get face-to-face service from the crypto exchange Bithumb’s reopened offline center in Seoul’s affluent Gangnam District.As previously reported, Bithumb has reopened its service center to deal with in-person ... [| Skaityti daugiau](https://cryptonews.com/news/elderly-south-korean-crypto-fans-brave-30-min-waits-at-cust-10248.htm) "
      ],
      "text/plain": [
       "<IPython.core.display.Markdown object>"
      ]
     },
     "execution_count": 9,
     "metadata": {},
     "output_type": "execute_result"
    }
   ],
   "source": [
    "#hide_input\n",
    "#md('##### {}'.format(titleBTC)) \n",
    "md(\"- {}{} {}{} [| Skaityti daugiau]({}) \".format(exchange['title'],'. ', exchange['body'], ' ...', exchange['url']))"
   ]
  },
  {
   "cell_type": "code",
   "execution_count": null,
   "id": "tender-livestock",
   "metadata": {
    "papermill": {
     "duration": 0.01295,
     "end_time": "2021-05-11T02:11:18.929117",
     "exception": false,
     "start_time": "2021-05-11T02:11:18.916167",
     "status": "completed"
    },
    "tags": []
   },
   "outputs": [],
   "source": []
  },
  {
   "cell_type": "code",
   "execution_count": null,
   "id": "appreciated-diamond",
   "metadata": {
    "papermill": {
     "duration": 0.012733,
     "end_time": "2021-05-11T02:11:18.954856",
     "exception": false,
     "start_time": "2021-05-11T02:11:18.942123",
     "status": "completed"
    },
    "tags": []
   },
   "outputs": [],
   "source": []
  },
  {
   "cell_type": "code",
   "execution_count": null,
   "id": "romance-sweden",
   "metadata": {
    "papermill": {
     "duration": 0.013182,
     "end_time": "2021-05-11T02:11:18.981306",
     "exception": false,
     "start_time": "2021-05-11T02:11:18.968124",
     "status": "completed"
    },
    "tags": []
   },
   "outputs": [],
   "source": []
  },
  {
   "cell_type": "code",
   "execution_count": null,
   "id": "dietary-statistics",
   "metadata": {
    "papermill": {
     "duration": 0.012646,
     "end_time": "2021-05-11T02:11:19.007056",
     "exception": false,
     "start_time": "2021-05-11T02:11:18.994410",
     "status": "completed"
    },
    "tags": []
   },
   "outputs": [],
   "source": []
  }
 ],
 "metadata": {
  "kernelspec": {
   "display_name": "Python 3",
   "language": "python",
   "name": "python3"
  },
  "language_info": {
   "codemirror_mode": {
    "name": "ipython",
    "version": 3
   },
   "file_extension": ".py",
   "mimetype": "text/x-python",
   "name": "python",
   "nbconvert_exporter": "python",
   "pygments_lexer": "ipython3",
   "version": "3.6.13"
  },
  "papermill": {
   "default_parameters": {},
   "duration": 12.09703,
   "end_time": "2021-05-11T02:11:19.427395",
   "environment_variables": {},
   "exception": null,
   "input_path": "Market-News.ipynb",
   "output_path": "Market-News.ipynb",
   "parameters": {},
   "start_time": "2021-05-11T02:11:07.330365",
   "version": "2.2.2"
  }
 },
 "nbformat": 4,
 "nbformat_minor": 5
}