{
 "cells": [
  {
   "cell_type": "markdown",
   "id": "short-greensboro",
   "metadata": {
    "papermill": {
     "duration": 0.015921,
     "end_time": "2021-05-05T02:03:48.591155",
     "exception": false,
     "start_time": "2021-05-05T02:03:48.575234",
     "status": "completed"
    },
    "tags": []
   },
   "source": [
    "# Kriptovaliutų naujienos"
   ]
  },
  {
   "cell_type": "code",
   "execution_count": 1,
   "id": "functioning-knowing",
   "metadata": {
    "execution": {
     "iopub.execute_input": "2021-05-05T02:03:48.628630Z",
     "iopub.status.busy": "2021-05-05T02:03:48.627964Z",
     "iopub.status.idle": "2021-05-05T02:03:49.842928Z",
     "shell.execute_reply": "2021-05-05T02:03:49.842138Z"
    },
    "papermill": {
     "duration": 1.241775,
     "end_time": "2021-05-05T02:03:49.843138",
     "exception": false,
     "start_time": "2021-05-05T02:03:48.601363",
     "status": "completed"
    },
    "tags": []
   },
   "outputs": [],
   "source": [
    "#hide_input\n",
    "import warnings\n",
    "warnings.filterwarnings('ignore')\n",
    "from scripts.read_data import read_api\n",
    "from scripts.read_data import read_news\n",
    "from scripts.read_data import read_covid\n",
    "import matplotlib.pyplot as plt \n",
    "from IPython.display import Markdown as md"
   ]
  },
  {
   "cell_type": "code",
   "execution_count": 2,
   "id": "shared-acceptance",
   "metadata": {
    "execution": {
     "iopub.execute_input": "2021-05-05T02:03:49.872416Z",
     "iopub.status.busy": "2021-05-05T02:03:49.871808Z",
     "iopub.status.idle": "2021-05-05T02:03:56.430970Z",
     "shell.execute_reply": "2021-05-05T02:03:56.430006Z"
    },
    "papermill": {
     "duration": 6.575444,
     "end_time": "2021-05-05T02:03:56.431120",
     "exception": false,
     "start_time": "2021-05-05T02:03:49.855676",
     "status": "completed"
    },
    "tags": []
   },
   "outputs": [],
   "source": [
    "#hide_input\n",
    "blockchain = read_news('blockchain') \n",
    "btc = read_news('btc') \n",
    "xrp = read_news('xrp') \n",
    "trx = read_news('trx') \n",
    "eth = read_news('eth')  \n",
    "ada = read_news('ada')\n",
    "exchange = read_news('exchange') "
   ]
  },
  {
   "cell_type": "code",
   "execution_count": 3,
   "id": "synthetic-notion",
   "metadata": {
    "execution": {
     "iopub.execute_input": "2021-05-05T02:03:56.457712Z",
     "iopub.status.busy": "2021-05-05T02:03:56.457160Z",
     "iopub.status.idle": "2021-05-05T02:03:56.462866Z",
     "shell.execute_reply": "2021-05-05T02:03:56.462384Z"
    },
    "papermill": {
     "duration": 0.020232,
     "end_time": "2021-05-05T02:03:56.462972",
     "exception": false,
     "start_time": "2021-05-05T02:03:56.442740",
     "status": "completed"
    },
    "tags": []
   },
   "outputs": [
    {
     "data": {
      "text/markdown": [
       "- Southeast Asia’s Largest Bank DBS Says Trading Volumes on Its Cryptocurrency Exchange Have Increased 10 Times.  DBS, Southeast Asia&#8217;s largest bank, says that cryptocurrency trading volumes on its exchange have grown 10 times to around $30 million to $40 million. The bank is also collaborating with JPMorgan on a blockchain settlement platform and plans to launch its first security token offering in the second quarter, its CEO has revealed. DBS&#8217; Crypto [&#8230;] ... [| Skaityti daugiau](https://news.bitcoin.com/southeast-asias-largest-bank-dbs-trading-volumes-cryptocurrency-exchange/) "
      ],
      "text/plain": [
       "<IPython.core.display.Markdown object>"
      ]
     },
     "execution_count": 3,
     "metadata": {},
     "output_type": "execute_result"
    }
   ],
   "source": [
    "#hide_input\n",
    "#md('##### {}'.format(titleBTC)) \n",
    "md(\"- {}{} {}{} [| Skaityti daugiau]({}) \".format(blockchain['title'],'. ', blockchain['body'], ' ...', blockchain['url']))"
   ]
  },
  {
   "cell_type": "code",
   "execution_count": 4,
   "id": "aging-caution",
   "metadata": {
    "execution": {
     "iopub.execute_input": "2021-05-05T02:03:56.488970Z",
     "iopub.status.busy": "2021-05-05T02:03:56.488245Z",
     "iopub.status.idle": "2021-05-05T02:03:56.490804Z",
     "shell.execute_reply": "2021-05-05T02:03:56.491253Z"
    },
    "papermill": {
     "duration": 0.018337,
     "end_time": "2021-05-05T02:03:56.491375",
     "exception": false,
     "start_time": "2021-05-05T02:03:56.473038",
     "status": "completed"
    },
    "tags": []
   },
   "outputs": [
    {
     "data": {
      "text/markdown": [
       "- PayPal Reportedly Discussing Its Own Stablecoin.  Online payment operator PayPal is hitting the newswire today, reportedly discussing the creation of their own fiat-backed stablecoin. Adoption of broader mainstream crypto within major companies continues to grow, exemplified by this and other recent company discussions, such as eBay CEO Jamie Lannone discussing new potential payment options and potential utilization of NFTs in recent [&#8230;] ... [| Skaityti daugiau](https://bitcoinist.com/paypal-reportedly-discussing-its-own-stablecoin/?utm_source=rss&utm_medium=rss&utm_campaign=paypal-reportedly-discussing-its-own-stablecoin) "
      ],
      "text/plain": [
       "<IPython.core.display.Markdown object>"
      ]
     },
     "execution_count": 4,
     "metadata": {},
     "output_type": "execute_result"
    }
   ],
   "source": [
    "#hide_input\n",
    "#md('##### {}'.format(titleBTC)) \n",
    "md(\"- {}{} {}{} [| Skaityti daugiau]({}) \".format(btc['title'],'. ', btc['body'], ' ...', btc['url']))"
   ]
  },
  {
   "cell_type": "code",
   "execution_count": 5,
   "id": "organic-actress",
   "metadata": {
    "execution": {
     "iopub.execute_input": "2021-05-05T02:03:56.517547Z",
     "iopub.status.busy": "2021-05-05T02:03:56.516834Z",
     "iopub.status.idle": "2021-05-05T02:03:56.520899Z",
     "shell.execute_reply": "2021-05-05T02:03:56.521340Z"
    },
    "papermill": {
     "duration": 0.019692,
     "end_time": "2021-05-05T02:03:56.521466",
     "exception": false,
     "start_time": "2021-05-05T02:03:56.501774",
     "status": "completed"
    },
    "tags": []
   },
   "outputs": [
    {
     "data": {
      "text/markdown": [
       "- XRP, Cardano, Polkadot Price Analysis.  XRP highlighted bearish conditions in the market and a fall could take place all the way towards $1.30 before buyers step in. Cardano remained below $1.41-resistance and the volumes were not there yet to support a breakout. Lastly, Polkadot was predicted to rise north from an ascending triangle and head towards $40 or even $42. [&#8230;] ... [| Skaityti daugiau](https://ambcrypto.com/xrp-cardano-polkadot-price-analysis/) "
      ],
      "text/plain": [
       "<IPython.core.display.Markdown object>"
      ]
     },
     "execution_count": 5,
     "metadata": {},
     "output_type": "execute_result"
    }
   ],
   "source": [
    "#hide_input\n",
    "#md('##### {}'.format(titleBTC)) \n",
    "md(\"- {}{} {}{} [| Skaityti daugiau]({}) \".format(xrp['title'],'. ', xrp['body'], ' ...', xrp['url']))"
   ]
  },
  {
   "cell_type": "code",
   "execution_count": 6,
   "id": "prompt-farmer",
   "metadata": {
    "execution": {
     "iopub.execute_input": "2021-05-05T02:03:56.546048Z",
     "iopub.status.busy": "2021-05-05T02:03:56.545420Z",
     "iopub.status.idle": "2021-05-05T02:03:56.547756Z",
     "shell.execute_reply": "2021-05-05T02:03:56.548277Z"
    },
    "papermill": {
     "duration": 0.016462,
     "end_time": "2021-05-05T02:03:56.548411",
     "exception": false,
     "start_time": "2021-05-05T02:03:56.531949",
     "status": "completed"
    },
    "tags": []
   },
   "outputs": [
    {
     "data": {
      "text/markdown": [
       "- THETA, PancakeSwap, Tron Price Analysis: 04 May.  THETA traded below all three moving averages and the bulls needed to combat bearish sentiment before a rise above $12. PancakeSwap found support at its 50-SMA and a further dip could be cushioned at $34. Lastly, Tron could see some sideways movement before rising above $0.136. THETA Losses in the THETA market were kept at [&#8230;] ... [| Skaityti daugiau](https://ambcrypto.com/theta-pancakeswap-tron-price-analysis-04-may/) "
      ],
      "text/plain": [
       "<IPython.core.display.Markdown object>"
      ]
     },
     "execution_count": 6,
     "metadata": {},
     "output_type": "execute_result"
    }
   ],
   "source": [
    "#hide_input\n",
    "#md('##### {}'.format(titleBTC)) \n",
    "md(\"- {}{} {}{} [| Skaityti daugiau]({}) \".format(trx['title'],'. ', trx['body'], ' ...', trx['url']))"
   ]
  },
  {
   "cell_type": "code",
   "execution_count": 7,
   "id": "illegal-greece",
   "metadata": {
    "execution": {
     "iopub.execute_input": "2021-05-05T02:03:56.577727Z",
     "iopub.status.busy": "2021-05-05T02:03:56.576804Z",
     "iopub.status.idle": "2021-05-05T02:03:56.580148Z",
     "shell.execute_reply": "2021-05-05T02:03:56.580833Z"
    },
    "papermill": {
     "duration": 0.021194,
     "end_time": "2021-05-05T02:03:56.580943",
     "exception": false,
     "start_time": "2021-05-05T02:03:56.559749",
     "status": "completed"
    },
    "tags": []
   },
   "outputs": [
    {
     "data": {
      "text/markdown": [
       "- Fund manager says these 10 metrics show Ethereum (ETH) can reach $10,000.  Ethereum (ETH), the world’s most-used blockchain and second-largest by market cap, set fresh all-time highs yesterday amidst a stronger fundamental narrative. The post Fund manager says these 10 metrics show Ethereum (ETH) can reach $10,000 appeared first on CryptoSlate. ... [| Skaityti daugiau](https://cryptoslate.com/fund-manager-says-these-10-metrics-show-ethereum-eth-can-reach-10000/) "
      ],
      "text/plain": [
       "<IPython.core.display.Markdown object>"
      ]
     },
     "execution_count": 7,
     "metadata": {},
     "output_type": "execute_result"
    }
   ],
   "source": [
    "#hide_input\n",
    "#md('##### {}'.format(titleBTC)) \n",
    "md(\"- {}{} {}{} [| Skaityti daugiau]({}) \".format(eth['title'],'. ', eth['body'], ' ...', eth['url']))"
   ]
  },
  {
   "cell_type": "code",
   "execution_count": 8,
   "id": "sublime-lounge",
   "metadata": {
    "execution": {
     "iopub.execute_input": "2021-05-05T02:03:56.607308Z",
     "iopub.status.busy": "2021-05-05T02:03:56.606745Z",
     "iopub.status.idle": "2021-05-05T02:03:56.610786Z",
     "shell.execute_reply": "2021-05-05T02:03:56.611288Z"
    },
    "papermill": {
     "duration": 0.019381,
     "end_time": "2021-05-05T02:03:56.611399",
     "exception": false,
     "start_time": "2021-05-05T02:03:56.592018",
     "status": "completed"
    },
    "tags": []
   },
   "outputs": [
    {
     "data": {
      "text/markdown": [
       "- XRP, Cardano, Polkadot Price Analysis.  XRP highlighted bearish conditions in the market and a fall could take place all the way towards $1.30 before buyers step in. Cardano remained below $1.41-resistance and the volumes were not there yet to support a breakout. Lastly, Polkadot was predicted to rise north from an ascending triangle and head towards $40 or even $42. [&#8230;] ... [| Skaityti daugiau](https://ambcrypto.com/xrp-cardano-polkadot-price-analysis/) "
      ],
      "text/plain": [
       "<IPython.core.display.Markdown object>"
      ]
     },
     "execution_count": 8,
     "metadata": {},
     "output_type": "execute_result"
    }
   ],
   "source": [
    "#hide_input\n",
    "#md('##### {}'.format(titleBTC)) \n",
    "md(\"- {}{} {}{} [| Skaityti daugiau]({}) \".format(ada['title'],'. ', ada['body'], ' ...', ada['url']))"
   ]
  },
  {
   "cell_type": "code",
   "execution_count": 9,
   "id": "specified-ordering",
   "metadata": {
    "execution": {
     "iopub.execute_input": "2021-05-05T02:03:56.637755Z",
     "iopub.status.busy": "2021-05-05T02:03:56.637161Z",
     "iopub.status.idle": "2021-05-05T02:03:56.641582Z",
     "shell.execute_reply": "2021-05-05T02:03:56.641077Z"
    },
    "papermill": {
     "duration": 0.019709,
     "end_time": "2021-05-05T02:03:56.641696",
     "exception": false,
     "start_time": "2021-05-05T02:03:56.621987",
     "status": "completed"
    },
    "tags": []
   },
   "outputs": [
    {
     "data": {
      "text/markdown": [
       "- Southeast Asia’s Largest Bank DBS Says Trading Volumes on Its Cryptocurrency Exchange Have Increased 10 Times.  DBS, Southeast Asia&#8217;s largest bank, says that cryptocurrency trading volumes on its exchange have grown 10 times to around $30 million to $40 million. The bank is also collaborating with JPMorgan on a blockchain settlement platform and plans to launch its first security token offering in the second quarter, its CEO has revealed. DBS&#8217; Crypto [&#8230;] ... [| Skaityti daugiau](https://news.bitcoin.com/southeast-asias-largest-bank-dbs-trading-volumes-cryptocurrency-exchange/) "
      ],
      "text/plain": [
       "<IPython.core.display.Markdown object>"
      ]
     },
     "execution_count": 9,
     "metadata": {},
     "output_type": "execute_result"
    }
   ],
   "source": [
    "#hide_input\n",
    "#md('##### {}'.format(titleBTC)) \n",
    "md(\"- {}{} {}{} [| Skaityti daugiau]({}) \".format(exchange['title'],'. ', exchange['body'], ' ...', exchange['url']))"
   ]
  },
  {
   "cell_type": "code",
   "execution_count": null,
   "id": "tender-livestock",
   "metadata": {
    "papermill": {
     "duration": 0.012131,
     "end_time": "2021-05-05T02:03:56.665887",
     "exception": false,
     "start_time": "2021-05-05T02:03:56.653756",
     "status": "completed"
    },
    "tags": []
   },
   "outputs": [],
   "source": []
  },
  {
   "cell_type": "code",
   "execution_count": null,
   "id": "appreciated-diamond",
   "metadata": {
    "papermill": {
     "duration": 0.011925,
     "end_time": "2021-05-05T02:03:56.689912",
     "exception": false,
     "start_time": "2021-05-05T02:03:56.677987",
     "status": "completed"
    },
    "tags": []
   },
   "outputs": [],
   "source": []
  },
  {
   "cell_type": "code",
   "execution_count": null,
   "id": "romance-sweden",
   "metadata": {
    "papermill": {
     "duration": 0.011346,
     "end_time": "2021-05-05T02:03:56.712758",
     "exception": false,
     "start_time": "2021-05-05T02:03:56.701412",
     "status": "completed"
    },
    "tags": []
   },
   "outputs": [],
   "source": []
  },
  {
   "cell_type": "code",
   "execution_count": null,
   "id": "dietary-statistics",
   "metadata": {
    "papermill": {
     "duration": 0.010875,
     "end_time": "2021-05-05T02:03:56.735383",
     "exception": false,
     "start_time": "2021-05-05T02:03:56.724508",
     "status": "completed"
    },
    "tags": []
   },
   "outputs": [],
   "source": []
  }
 ],
 "metadata": {
  "kernelspec": {
   "display_name": "Python 3",
   "language": "python",
   "name": "python3"
  },
  "language_info": {
   "codemirror_mode": {
    "name": "ipython",
    "version": 3
   },
   "file_extension": ".py",
   "mimetype": "text/x-python",
   "name": "python",
   "nbconvert_exporter": "python",
   "pygments_lexer": "ipython3",
   "version": "3.6.13"
  },
  "papermill": {
   "default_parameters": {},
   "duration": 9.843414,
   "end_time": "2021-05-05T02:03:57.155731",
   "environment_variables": {},
   "exception": null,
   "input_path": "Market-News.ipynb",
   "output_path": "Market-News.ipynb",
   "parameters": {},
   "start_time": "2021-05-05T02:03:47.312317",
   "version": "2.2.2"
  }
 },
 "nbformat": 4,
 "nbformat_minor": 5
}