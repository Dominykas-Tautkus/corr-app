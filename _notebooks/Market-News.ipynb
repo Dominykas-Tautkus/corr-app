{
 "cells": [
  {
   "cell_type": "markdown",
   "id": "short-greensboro",
   "metadata": {
    "papermill": {
     "duration": 0.01361,
     "end_time": "2021-06-13T02:05:24.408569",
     "exception": false,
     "start_time": "2021-06-13T02:05:24.394959",
     "status": "completed"
    },
    "tags": []
   },
   "source": [
    "# Kriptovaliutų naujienos"
   ]
  },
  {
   "cell_type": "code",
   "execution_count": 1,
   "id": "functioning-knowing",
   "metadata": {
    "execution": {
     "iopub.execute_input": "2021-06-13T02:05:24.439262Z",
     "iopub.status.busy": "2021-06-13T02:05:24.438682Z",
     "iopub.status.idle": "2021-06-13T02:05:25.661855Z",
     "shell.execute_reply": "2021-06-13T02:05:25.661018Z"
    },
    "papermill": {
     "duration": 1.242943,
     "end_time": "2021-06-13T02:05:25.661995",
     "exception": false,
     "start_time": "2021-06-13T02:05:24.419052",
     "status": "completed"
    },
    "tags": []
   },
   "outputs": [],
   "source": [
    "#hide_input\n",
    "import warnings\n",
    "warnings.filterwarnings('ignore')\n",
    "from scripts.read_data import read_api\n",
    "from scripts.read_data import read_news\n",
    "from scripts.read_data import read_covid\n",
    "import matplotlib.pyplot as plt \n",
    "from IPython.display import Markdown as md"
   ]
  },
  {
   "cell_type": "code",
   "execution_count": 2,
   "id": "shared-acceptance",
   "metadata": {
    "execution": {
     "iopub.execute_input": "2021-06-13T02:05:25.688151Z",
     "iopub.status.busy": "2021-06-13T02:05:25.687202Z",
     "iopub.status.idle": "2021-06-13T02:05:34.810966Z",
     "shell.execute_reply": "2021-06-13T02:05:34.810110Z"
    },
    "papermill": {
     "duration": 9.138622,
     "end_time": "2021-06-13T02:05:34.811092",
     "exception": false,
     "start_time": "2021-06-13T02:05:25.672470",
     "status": "completed"
    },
    "tags": []
   },
   "outputs": [],
   "source": [
    "#hide_input\n",
    "blockchain = read_news('blockchain') \n",
    "btc = read_news('btc') \n",
    "xrp = read_news('xrp') \n",
    "trx = read_news('trx') \n",
    "eth = read_news('eth')  \n",
    "ada = read_news('ada')\n",
    "exchange = read_news('exchange') "
   ]
  },
  {
   "cell_type": "code",
   "execution_count": 3,
   "id": "synthetic-notion",
   "metadata": {
    "execution": {
     "iopub.execute_input": "2021-06-13T02:05:34.837303Z",
     "iopub.status.busy": "2021-06-13T02:05:34.836749Z",
     "iopub.status.idle": "2021-06-13T02:05:34.839718Z",
     "shell.execute_reply": "2021-06-13T02:05:34.840348Z"
    },
    "papermill": {
     "duration": 0.01883,
     "end_time": "2021-06-13T02:05:34.840486",
     "exception": false,
     "start_time": "2021-06-13T02:05:34.821656",
     "status": "completed"
    },
    "tags": []
   },
   "outputs": [
    {
     "data": {
      "text/markdown": [
       "- Nvidia CEO: We’re “on the cusp of” a blockchain and NFT-enabled metaverse.  Nvidia's new Voyager campus is serving as a test ground for what it will look like when then Metaverse meets the physical world. ... [| Skaityti daugiau](https://cointelegraph.com/news/nvidia-ceo-we-re-on-the-cusp-of-a-blockchain-and-nft-enabled-metaverse) "
      ],
      "text/plain": [
       "<IPython.core.display.Markdown object>"
      ]
     },
     "execution_count": 3,
     "metadata": {},
     "output_type": "execute_result"
    }
   ],
   "source": [
    "#hide_input\n",
    "#md('##### {}'.format(titleBTC)) \n",
    "md(\"- {}{} {}{} [| Skaityti daugiau]({}) \".format(blockchain['title'],'. ', blockchain['body'], ' ...', blockchain['url']))"
   ]
  },
  {
   "cell_type": "code",
   "execution_count": 4,
   "id": "aging-caution",
   "metadata": {
    "execution": {
     "iopub.execute_input": "2021-06-13T02:05:34.869230Z",
     "iopub.status.busy": "2021-06-13T02:05:34.868595Z",
     "iopub.status.idle": "2021-06-13T02:05:34.871366Z",
     "shell.execute_reply": "2021-06-13T02:05:34.871969Z"
    },
    "papermill": {
     "duration": 0.020766,
     "end_time": "2021-06-13T02:05:34.872131",
     "exception": false,
     "start_time": "2021-06-13T02:05:34.851365",
     "status": "completed"
    },
    "tags": []
   },
   "outputs": [
    {
     "data": {
      "text/markdown": [
       "- Bitcoinization: JPMorgan Notes ‘Similarly Situated’ Countries Could Make Bitcoin Legal Tender Like El Salvador.  JPMorgan struggles to &#8220;see any tangible economic benefits associated with adopting bitcoin as a second form of legal tender.&#8221; Commenting on El Salvador&#8217;s bitcoinization, JPMorgan did not rule out that the country&#8217;s move to make the cryptocurrency legal tender may be &#8220;the beginning of a broader trend among similarly situated, smaller nations.&#8221; JPMorgan&#8217;s Opinion on [&#8230;] ... [| Skaityti daugiau](https://news.bitcoin.com/bitcoinization-jpmorgan-similarly-situated-countries-may-make-bitcoin-legal-tender-like-el-salvador/) "
      ],
      "text/plain": [
       "<IPython.core.display.Markdown object>"
      ]
     },
     "execution_count": 4,
     "metadata": {},
     "output_type": "execute_result"
    }
   ],
   "source": [
    "#hide_input\n",
    "#md('##### {}'.format(titleBTC)) \n",
    "md(\"- {}{} {}{} [| Skaityti daugiau]({}) \".format(btc['title'],'. ', btc['body'], ' ...', btc['url']))"
   ]
  },
  {
   "cell_type": "code",
   "execution_count": 5,
   "id": "organic-actress",
   "metadata": {
    "execution": {
     "iopub.execute_input": "2021-06-13T02:05:34.898073Z",
     "iopub.status.busy": "2021-06-13T02:05:34.896970Z",
     "iopub.status.idle": "2021-06-13T02:05:34.900827Z",
     "shell.execute_reply": "2021-06-13T02:05:34.901385Z"
    },
    "papermill": {
     "duration": 0.018698,
     "end_time": "2021-06-13T02:05:34.901502",
     "exception": false,
     "start_time": "2021-06-13T02:05:34.882804",
     "status": "completed"
    },
    "tags": []
   },
   "outputs": [
    {
     "data": {
      "text/markdown": [
       "- XRP Lawsuit: On Ex-SEC Chair Jay Clayton’s Sudden U-Turn After Suing Ripple.  Ripple’s Boss, Brad Garlinghouse, on Monday, left a few remarks via his Twitter handle on a Wall Street Journal’s post co-written by former US-SEC, chairperson, Jay Clayton. The post which was co-written by Brent MacIntosh, the former Undersecretary of the US Treasuries for International Affairs, sought to preach the all-to-familiar stance of most crypto companies: [&#8230;] ... [| Skaityti daugiau](https://zycrypto.com/xrp-lawsuit-on-ex-sec-chair-jay-claytons-sudden-u-turn-after-suing-ripple/) "
      ],
      "text/plain": [
       "<IPython.core.display.Markdown object>"
      ]
     },
     "execution_count": 5,
     "metadata": {},
     "output_type": "execute_result"
    }
   ],
   "source": [
    "#hide_input\n",
    "#md('##### {}'.format(titleBTC)) \n",
    "md(\"- {}{} {}{} [| Skaityti daugiau]({}) \".format(xrp['title'],'. ', xrp['body'], ' ...', xrp['url']))"
   ]
  },
  {
   "cell_type": "code",
   "execution_count": 6,
   "id": "prompt-farmer",
   "metadata": {
    "execution": {
     "iopub.execute_input": "2021-06-13T02:05:34.928593Z",
     "iopub.status.busy": "2021-06-13T02:05:34.927521Z",
     "iopub.status.idle": "2021-06-13T02:05:34.931286Z",
     "shell.execute_reply": "2021-06-13T02:05:34.931826Z"
    },
    "papermill": {
     "duration": 0.018945,
     "end_time": "2021-06-13T02:05:34.931940",
     "exception": false,
     "start_time": "2021-06-13T02:05:34.912995",
     "status": "completed"
    },
    "tags": []
   },
   "outputs": [
    {
     "data": {
      "text/markdown": [
       "- Tron (TRX) Hits a New Milestone of 5.26M Daily Active Users.  Tron&#8217;s daily active users have hit a new all-time high of 5.26 million At the same time, Tron&#8217;s total daily transaction count has also hit a new all-time high of 6.22 million Unique addresses on Tron have also reached an all-time high of 38.58 million The 200-day moving average is currently providing TRX with adequate support at the $0.065 price area and its last line of defense before bear territory The blockchain network of Tron (TRX) has hit all-time highs [&#8230;] ... [| Skaityti daugiau](https://en.ethereumworldnews.com/tron-trx-hits-a-new-milestone-of-5-26m-daily-active-users/) "
      ],
      "text/plain": [
       "<IPython.core.display.Markdown object>"
      ]
     },
     "execution_count": 6,
     "metadata": {},
     "output_type": "execute_result"
    }
   ],
   "source": [
    "#hide_input\n",
    "#md('##### {}'.format(titleBTC)) \n",
    "md(\"- {}{} {}{} [| Skaityti daugiau]({}) \".format(trx['title'],'. ', trx['body'], ' ...', trx['url']))"
   ]
  },
  {
   "cell_type": "code",
   "execution_count": 7,
   "id": "illegal-greece",
   "metadata": {
    "execution": {
     "iopub.execute_input": "2021-06-13T02:05:34.960684Z",
     "iopub.status.busy": "2021-06-13T02:05:34.960074Z",
     "iopub.status.idle": "2021-06-13T02:05:34.962786Z",
     "shell.execute_reply": "2021-06-13T02:05:34.963266Z"
    },
    "papermill": {
     "duration": 0.019938,
     "end_time": "2021-06-13T02:05:34.963383",
     "exception": false,
     "start_time": "2021-06-13T02:05:34.943445",
     "status": "completed"
    },
    "tags": []
   },
   "outputs": [
    {
     "data": {
      "text/markdown": [
       "- Nvidia CEO Huang: “Ethereum Is Going To Be Quite Valuable”.  If you weren&#8217;t sure the stance for Nvidia CEO Jensen Huang when it comes to Ethereum&#8217;s upcoming shift to proof-of-stake, no need to question it further. Huang is clearly optimistic about Ethereum&#8217;s future. In an online-only Computex event, he fielded a variety of questions ranging anywhere from his thoughts on the metaverse to global semiconductor [&#8230;] ... [| Skaityti daugiau](https://www.newsbtc.com/news/nvidia-ceo-eth-is-going-to-be-quite-valuable/) "
      ],
      "text/plain": [
       "<IPython.core.display.Markdown object>"
      ]
     },
     "execution_count": 7,
     "metadata": {},
     "output_type": "execute_result"
    }
   ],
   "source": [
    "#hide_input\n",
    "#md('##### {}'.format(titleBTC)) \n",
    "md(\"- {}{} {}{} [| Skaityti daugiau]({}) \".format(eth['title'],'. ', eth['body'], ' ...', eth['url']))"
   ]
  },
  {
   "cell_type": "code",
   "execution_count": 8,
   "id": "sublime-lounge",
   "metadata": {
    "execution": {
     "iopub.execute_input": "2021-06-13T02:05:34.994089Z",
     "iopub.status.busy": "2021-06-13T02:05:34.993501Z",
     "iopub.status.idle": "2021-06-13T02:05:34.996643Z",
     "shell.execute_reply": "2021-06-13T02:05:34.996077Z"
    },
    "papermill": {
     "duration": 0.021074,
     "end_time": "2021-06-13T02:05:34.996762",
     "exception": false,
     "start_time": "2021-06-13T02:05:34.975688",
     "status": "completed"
    },
    "tags": []
   },
   "outputs": [
    {
     "data": {
      "text/markdown": [
       "- Institutions Pumping Millions Into Ethereum and Other Altcoins: CoinShares.  Digital assets manager CoinShares says investors are pouring millions of dollars into Ethereum (ETH), XRP, Cardano (ADA) and other crypto assets. In a weekly report from June 7th, CoinShares breaks down where investor money is flowing, showing that Ethereum (ETH) is the altcoin of choice for buyers, capturing inflows of $33 million. “Digital asset investment [&#8230;]The post Institutions Pumping Millions Into Ethereum and Other Altcoins: CoinShares appeared first on The Daily Hodl. ... [| Skaityti daugiau](https://dailyhodl.com/2021/06/12/institutions-pumping-millions-into-ethereum-and-other-altcoins-coinshares/) "
      ],
      "text/plain": [
       "<IPython.core.display.Markdown object>"
      ]
     },
     "execution_count": 8,
     "metadata": {},
     "output_type": "execute_result"
    }
   ],
   "source": [
    "#hide_input\n",
    "#md('##### {}'.format(titleBTC)) \n",
    "md(\"- {}{} {}{} [| Skaityti daugiau]({}) \".format(ada['title'],'. ', ada['body'], ' ...', ada['url']))"
   ]
  },
  {
   "cell_type": "code",
   "execution_count": 9,
   "id": "specified-ordering",
   "metadata": {
    "execution": {
     "iopub.execute_input": "2021-06-13T02:05:35.025299Z",
     "iopub.status.busy": "2021-06-13T02:05:35.024264Z",
     "iopub.status.idle": "2021-06-13T02:05:35.027925Z",
     "shell.execute_reply": "2021-06-13T02:05:35.028537Z"
    },
    "papermill": {
     "duration": 0.019786,
     "end_time": "2021-06-13T02:05:35.028652",
     "exception": false,
     "start_time": "2021-06-13T02:05:35.008866",
     "status": "completed"
    },
    "tags": []
   },
   "outputs": [
    {
     "data": {
      "text/markdown": [
       "- SEC and CFTC Caution Investors About Funds Trading in Bitcoin Futures.  The U.S. Securities and Exchange Commission (SEC) and the Commodity Futures Trading Commission (CFTC) have warned investors of the risks of investing in funds with exposure to bitcoin futures. The SEC published an investor alert on funds trading in bitcoin futures Thursday. The alert comes from the SEC&#8217;s Office of Investor Education and Advocacy (OIEA) [&#8230;] ... [| Skaityti daugiau](https://news.bitcoin.com/sec-cftc-funds-trading-bitcoin-futures/) "
      ],
      "text/plain": [
       "<IPython.core.display.Markdown object>"
      ]
     },
     "execution_count": 9,
     "metadata": {},
     "output_type": "execute_result"
    }
   ],
   "source": [
    "#hide_input\n",
    "#md('##### {}'.format(titleBTC)) \n",
    "md(\"- {}{} {}{} [| Skaityti daugiau]({}) \".format(exchange['title'],'. ', exchange['body'], ' ...', exchange['url']))"
   ]
  },
  {
   "cell_type": "code",
   "execution_count": null,
   "id": "tender-livestock",
   "metadata": {
    "papermill": {
     "duration": 0.012277,
     "end_time": "2021-06-13T02:05:35.053587",
     "exception": false,
     "start_time": "2021-06-13T02:05:35.041310",
     "status": "completed"
    },
    "tags": []
   },
   "outputs": [],
   "source": []
  },
  {
   "cell_type": "code",
   "execution_count": null,
   "id": "appreciated-diamond",
   "metadata": {
    "papermill": {
     "duration": 0.013137,
     "end_time": "2021-06-13T02:05:35.081793",
     "exception": false,
     "start_time": "2021-06-13T02:05:35.068656",
     "status": "completed"
    },
    "tags": []
   },
   "outputs": [],
   "source": []
  },
  {
   "cell_type": "code",
   "execution_count": null,
   "id": "romance-sweden",
   "metadata": {
    "papermill": {
     "duration": 0.011936,
     "end_time": "2021-06-13T02:05:35.106204",
     "exception": false,
     "start_time": "2021-06-13T02:05:35.094268",
     "status": "completed"
    },
    "tags": []
   },
   "outputs": [],
   "source": []
  },
  {
   "cell_type": "code",
   "execution_count": null,
   "id": "dietary-statistics",
   "metadata": {
    "papermill": {
     "duration": 0.01196,
     "end_time": "2021-06-13T02:05:35.130408",
     "exception": false,
     "start_time": "2021-06-13T02:05:35.118448",
     "status": "completed"
    },
    "tags": []
   },
   "outputs": [],
   "source": []
  }
 ],
 "metadata": {
  "kernelspec": {
   "display_name": "Python 3",
   "language": "python",
   "name": "python3"
  },
  "language_info": {
   "codemirror_mode": {
    "name": "ipython",
    "version": 3
   },
   "file_extension": ".py",
   "mimetype": "text/x-python",
   "name": "python",
   "nbconvert_exporter": "python",
   "pygments_lexer": "ipython3",
   "version": "3.6.13"
  },
  "papermill": {
   "default_parameters": {},
   "duration": 12.195641,
   "end_time": "2021-06-13T02:05:35.549276",
   "environment_variables": {},
   "exception": null,
   "input_path": "Market-News.ipynb",
   "output_path": "Market-News.ipynb",
   "parameters": {},
   "start_time": "2021-06-13T02:05:23.353635",
   "version": "2.2.2"
  }
 },
 "nbformat": 4,
 "nbformat_minor": 5
}