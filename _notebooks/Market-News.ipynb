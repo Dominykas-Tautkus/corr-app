{
 "cells": [
  {
   "cell_type": "markdown",
   "id": "short-greensboro",
   "metadata": {
    "papermill": {
     "duration": 0.014408,
     "end_time": "2021-01-26T01:58:05.074017",
     "exception": false,
     "start_time": "2021-01-26T01:58:05.059609",
     "status": "completed"
    },
    "tags": []
   },
   "source": [
    "# Kriptovaliutų naujienos"
   ]
  },
  {
   "cell_type": "code",
   "execution_count": 1,
   "id": "functioning-knowing",
   "metadata": {
    "execution": {
     "iopub.execute_input": "2021-01-26T01:58:05.106182Z",
     "iopub.status.busy": "2021-01-26T01:58:05.105580Z",
     "iopub.status.idle": "2021-01-26T01:58:06.447426Z",
     "shell.execute_reply": "2021-01-26T01:58:06.446876Z"
    },
    "papermill": {
     "duration": 1.362543,
     "end_time": "2021-01-26T01:58:06.447589",
     "exception": false,
     "start_time": "2021-01-26T01:58:05.085046",
     "status": "completed"
    },
    "tags": []
   },
   "outputs": [],
   "source": [
    "#hide_input\n",
    "import warnings\n",
    "warnings.filterwarnings('ignore')\n",
    "from scripts.read_data import read_api\n",
    "from scripts.read_data import read_news\n",
    "from scripts.read_data import read_covid\n",
    "import matplotlib.pyplot as plt \n",
    "from IPython.display import Markdown as md"
   ]
  },
  {
   "cell_type": "code",
   "execution_count": 2,
   "id": "shared-acceptance",
   "metadata": {
    "execution": {
     "iopub.execute_input": "2021-01-26T01:58:06.481550Z",
     "iopub.status.busy": "2021-01-26T01:58:06.480951Z",
     "iopub.status.idle": "2021-01-26T01:58:14.042619Z",
     "shell.execute_reply": "2021-01-26T01:58:14.043479Z"
    },
    "papermill": {
     "duration": 7.580147,
     "end_time": "2021-01-26T01:58:14.043665",
     "exception": false,
     "start_time": "2021-01-26T01:58:06.463518",
     "status": "completed"
    },
    "tags": []
   },
   "outputs": [],
   "source": [
    "#hide_input\n",
    "blockchain = read_news('blockchain') \n",
    "btc = read_news('btc') \n",
    "xrp = read_news('xrp') \n",
    "trx = read_news('trx') \n",
    "eth = read_news('eth')  \n",
    "ada = read_news('ada')\n",
    "exchange = read_news('exchange') "
   ]
  },
  {
   "cell_type": "code",
   "execution_count": 3,
   "id": "synthetic-notion",
   "metadata": {
    "execution": {
     "iopub.execute_input": "2021-01-26T01:58:14.071414Z",
     "iopub.status.busy": "2021-01-26T01:58:14.070752Z",
     "iopub.status.idle": "2021-01-26T01:58:14.078338Z",
     "shell.execute_reply": "2021-01-26T01:58:14.077861Z"
    },
    "papermill": {
     "duration": 0.023468,
     "end_time": "2021-01-26T01:58:14.078476",
     "exception": false,
     "start_time": "2021-01-26T01:58:14.055008",
     "status": "completed"
    },
    "tags": []
   },
   "outputs": [
    {
     "data": {
      "text/markdown": [
       "- Harvard, Yale, Brown Endowments Have Been Buying Bitcoin for at Least a Year: Sources.  University endowments that backed blockchain VCs in 2018 have started buying crypto directly from Coinbase. ... [| Skaityti daugiau](https://www.coindesk.com/harvard-yale-brown-endowments-have-been-buying-bitcoin-for-at-least-a-year-sources) "
      ],
      "text/plain": [
       "<IPython.core.display.Markdown object>"
      ]
     },
     "execution_count": 3,
     "metadata": {},
     "output_type": "execute_result"
    }
   ],
   "source": [
    "#hide_input\n",
    "#md('##### {}'.format(titleBTC)) \n",
    "md(\"- {}{} {}{} [| Skaityti daugiau]({}) \".format(blockchain['title'],'. ', blockchain['body'], ' ...', blockchain['url']))"
   ]
  },
  {
   "cell_type": "code",
   "execution_count": 4,
   "id": "aging-caution",
   "metadata": {
    "execution": {
     "iopub.execute_input": "2021-01-26T01:58:14.105654Z",
     "iopub.status.busy": "2021-01-26T01:58:14.105055Z",
     "iopub.status.idle": "2021-01-26T01:58:14.107410Z",
     "shell.execute_reply": "2021-01-26T01:58:14.107968Z"
    },
    "papermill": {
     "duration": 0.018772,
     "end_time": "2021-01-26T01:58:14.108117",
     "exception": false,
     "start_time": "2021-01-26T01:58:14.089345",
     "status": "completed"
    },
    "tags": []
   },
   "outputs": [
    {
     "data": {
      "text/markdown": [
       "- Senate Confirms Janet Yellen as Treasury Secretary.  Janet Yellen is \"not a fan\" of Bitcoin, but she has vowed to implement a regulatory framework for digital assets. ... [| Skaityti daugiau](https://decrypt.co/55395/senate-confirms-janet-yellen-as-treasury-secretary) "
      ],
      "text/plain": [
       "<IPython.core.display.Markdown object>"
      ]
     },
     "execution_count": 4,
     "metadata": {},
     "output_type": "execute_result"
    }
   ],
   "source": [
    "#hide_input\n",
    "#md('##### {}'.format(titleBTC)) \n",
    "md(\"- {}{} {}{} [| Skaityti daugiau]({}) \".format(btc['title'],'. ', btc['body'], ' ...', btc['url']))"
   ]
  },
  {
   "cell_type": "code",
   "execution_count": 5,
   "id": "organic-actress",
   "metadata": {
    "execution": {
     "iopub.execute_input": "2021-01-26T01:58:14.140144Z",
     "iopub.status.busy": "2021-01-26T01:58:14.139532Z",
     "iopub.status.idle": "2021-01-26T01:58:14.142614Z",
     "shell.execute_reply": "2021-01-26T01:58:14.142119Z"
    },
    "papermill": {
     "duration": 0.020751,
     "end_time": "2021-01-26T01:58:14.142745",
     "exception": false,
     "start_time": "2021-01-26T01:58:14.121994",
     "status": "completed"
    },
    "tags": []
   },
   "outputs": [
    {
     "data": {
      "text/markdown": [
       "- XRP, Tron, Synthetix Price Analysis: 25 January.  XRP formed a bullish reversal pattern and was set to test the $0.3 level of resistance over the next few days. Tron showed bullish momentum as the recent spate of selling appeared to have ended. Synthetix surged to $17.7 from $14 and could reach $20 in the coming days. XRP XRP formed a descending broadening [&#8230;] ... [| Skaityti daugiau](https://ambcrypto.com/xrp-tron-synthetix-price-analysis-25-january/) "
      ],
      "text/plain": [
       "<IPython.core.display.Markdown object>"
      ]
     },
     "execution_count": 5,
     "metadata": {},
     "output_type": "execute_result"
    }
   ],
   "source": [
    "#hide_input\n",
    "#md('##### {}'.format(titleBTC)) \n",
    "md(\"- {}{} {}{} [| Skaityti daugiau]({}) \".format(xrp['title'],'. ', xrp['body'], ' ...', xrp['url']))"
   ]
  },
  {
   "cell_type": "code",
   "execution_count": 6,
   "id": "prompt-farmer",
   "metadata": {
    "execution": {
     "iopub.execute_input": "2021-01-26T01:58:14.181915Z",
     "iopub.status.busy": "2021-01-26T01:58:14.181154Z",
     "iopub.status.idle": "2021-01-26T01:58:14.185047Z",
     "shell.execute_reply": "2021-01-26T01:58:14.185517Z"
    },
    "papermill": {
     "duration": 0.022958,
     "end_time": "2021-01-26T01:58:14.185667",
     "exception": false,
     "start_time": "2021-01-26T01:58:14.162709",
     "status": "completed"
    },
    "tags": []
   },
   "outputs": [
    {
     "data": {
      "text/markdown": [
       "- XRP, Tron, Synthetix Price Analysis: 25 January.  XRP formed a bullish reversal pattern and was set to test the $0.3 level of resistance over the next few days. Tron showed bullish momentum as the recent spate of selling appeared to have ended. Synthetix surged to $17.7 from $14 and could reach $20 in the coming days. XRP XRP formed a descending broadening [&#8230;] ... [| Skaityti daugiau](https://ambcrypto.com/xrp-tron-synthetix-price-analysis-25-january/) "
      ],
      "text/plain": [
       "<IPython.core.display.Markdown object>"
      ]
     },
     "execution_count": 6,
     "metadata": {},
     "output_type": "execute_result"
    }
   ],
   "source": [
    "#hide_input\n",
    "#md('##### {}'.format(titleBTC)) \n",
    "md(\"- {}{} {}{} [| Skaityti daugiau]({}) \".format(trx['title'],'. ', trx['body'], ' ...', trx['url']))"
   ]
  },
  {
   "cell_type": "code",
   "execution_count": 7,
   "id": "illegal-greece",
   "metadata": {
    "execution": {
     "iopub.execute_input": "2021-01-26T01:58:14.214067Z",
     "iopub.status.busy": "2021-01-26T01:58:14.213457Z",
     "iopub.status.idle": "2021-01-26T01:58:14.216657Z",
     "shell.execute_reply": "2021-01-26T01:58:14.216071Z"
    },
    "papermill": {
     "duration": 0.019574,
     "end_time": "2021-01-26T01:58:14.216788",
     "exception": false,
     "start_time": "2021-01-26T01:58:14.197214",
     "status": "completed"
    },
    "tags": []
   },
   "outputs": [
    {
     "data": {
      "text/markdown": [
       "- 3 reasons why Ethereum price is still on track to top $2,000.  Substantial spot volume, a favorable futures premium, and top traders buying the dip are all signals that Ethereum price should see continuation. ... [| Skaityti daugiau](https://cointelegraph.com/news/3-reasons-why-ethereum-price-is-still-on-track-to-top-2-000) "
      ],
      "text/plain": [
       "<IPython.core.display.Markdown object>"
      ]
     },
     "execution_count": 7,
     "metadata": {},
     "output_type": "execute_result"
    }
   ],
   "source": [
    "#hide_input\n",
    "#md('##### {}'.format(titleBTC)) \n",
    "md(\"- {}{} {}{} [| Skaityti daugiau]({}) \".format(eth['title'],'. ', eth['body'], ' ...', eth['url']))"
   ]
  },
  {
   "cell_type": "code",
   "execution_count": 8,
   "id": "sublime-lounge",
   "metadata": {
    "execution": {
     "iopub.execute_input": "2021-01-26T01:58:14.245369Z",
     "iopub.status.busy": "2021-01-26T01:58:14.244655Z",
     "iopub.status.idle": "2021-01-26T01:58:14.249331Z",
     "shell.execute_reply": "2021-01-26T01:58:14.248857Z"
    },
    "papermill": {
     "duration": 0.020736,
     "end_time": "2021-01-26T01:58:14.249465",
     "exception": false,
     "start_time": "2021-01-26T01:58:14.228729",
     "status": "completed"
    },
    "tags": []
   },
   "outputs": [
    {
     "data": {
      "text/markdown": [
       "- Cardano Price Analysis: 25 January.  From a lowly $0.17 on 1st January, Cardano has taken an authoritative charge in the market, rallying by more than 100% over the course of the past 3 weeks. Currently valued at $0.360 on the charts, Cardano had a market cap of $11.18 billion sitting tightly at 6th in the market. Cardano 6-hour chart Although [&#8230;] ... [| Skaityti daugiau](https://ambcrypto.com/cardano-price-analysis-25th-january/) "
      ],
      "text/plain": [
       "<IPython.core.display.Markdown object>"
      ]
     },
     "execution_count": 8,
     "metadata": {},
     "output_type": "execute_result"
    }
   ],
   "source": [
    "#hide_input\n",
    "#md('##### {}'.format(titleBTC)) \n",
    "md(\"- {}{} {}{} [| Skaityti daugiau]({}) \".format(ada['title'],'. ', ada['body'], ' ...', ada['url']))"
   ]
  },
  {
   "cell_type": "code",
   "execution_count": 9,
   "id": "specified-ordering",
   "metadata": {
    "execution": {
     "iopub.execute_input": "2021-01-26T01:58:14.280919Z",
     "iopub.status.busy": "2021-01-26T01:58:14.280322Z",
     "iopub.status.idle": "2021-01-26T01:58:14.285312Z",
     "shell.execute_reply": "2021-01-26T01:58:14.284811Z"
    },
    "papermill": {
     "duration": 0.023629,
     "end_time": "2021-01-26T01:58:14.285451",
     "exception": false,
     "start_time": "2021-01-26T01:58:14.261822",
     "status": "completed"
    },
    "tags": []
   },
   "outputs": [
    {
     "data": {
      "text/markdown": [
       "- 3 reasons why Ethereum price is still on track to top $2,000.  Substantial spot volume, a favorable futures premium, and top traders buying the dip are all signals that Ethereum price should see continuation. ... [| Skaityti daugiau](https://cointelegraph.com/news/3-reasons-why-ethereum-price-is-still-on-track-to-top-2-000) "
      ],
      "text/plain": [
       "<IPython.core.display.Markdown object>"
      ]
     },
     "execution_count": 9,
     "metadata": {},
     "output_type": "execute_result"
    }
   ],
   "source": [
    "#hide_input\n",
    "#md('##### {}'.format(titleBTC)) \n",
    "md(\"- {}{} {}{} [| Skaityti daugiau]({}) \".format(exchange['title'],'. ', exchange['body'], ' ...', exchange['url']))"
   ]
  },
  {
   "cell_type": "code",
   "execution_count": null,
   "id": "tender-livestock",
   "metadata": {
    "papermill": {
     "duration": 0.015863,
     "end_time": "2021-01-26T01:58:14.315323",
     "exception": false,
     "start_time": "2021-01-26T01:58:14.299460",
     "status": "completed"
    },
    "tags": []
   },
   "outputs": [],
   "source": []
  },
  {
   "cell_type": "code",
   "execution_count": null,
   "id": "appreciated-diamond",
   "metadata": {
    "papermill": {
     "duration": 0.014958,
     "end_time": "2021-01-26T01:58:14.346508",
     "exception": false,
     "start_time": "2021-01-26T01:58:14.331550",
     "status": "completed"
    },
    "tags": []
   },
   "outputs": [],
   "source": []
  },
  {
   "cell_type": "code",
   "execution_count": null,
   "id": "romance-sweden",
   "metadata": {
    "papermill": {
     "duration": 0.012828,
     "end_time": "2021-01-26T01:58:14.372397",
     "exception": false,
     "start_time": "2021-01-26T01:58:14.359569",
     "status": "completed"
    },
    "tags": []
   },
   "outputs": [],
   "source": []
  },
  {
   "cell_type": "code",
   "execution_count": null,
   "id": "dietary-statistics",
   "metadata": {
    "papermill": {
     "duration": 0.015726,
     "end_time": "2021-01-26T01:58:14.401348",
     "exception": false,
     "start_time": "2021-01-26T01:58:14.385622",
     "status": "completed"
    },
    "tags": []
   },
   "outputs": [],
   "source": []
  }
 ],
 "metadata": {
  "kernelspec": {
   "display_name": "Python 3",
   "language": "python",
   "name": "python3"
  },
  "language_info": {
   "codemirror_mode": {
    "name": "ipython",
    "version": 3
   },
   "file_extension": ".py",
   "mimetype": "text/x-python",
   "name": "python",
   "nbconvert_exporter": "python",
   "pygments_lexer": "ipython3",
   "version": "3.6.12"
  },
  "papermill": {
   "default_parameters": {},
   "duration": 11.15881,
   "end_time": "2021-01-26T01:58:14.922887",
   "environment_variables": {},
   "exception": null,
   "input_path": "Market-News.ipynb",
   "output_path": "Market-News.ipynb",
   "parameters": {},
   "start_time": "2021-01-26T01:58:03.764077",
   "version": "2.2.2"
  }
 },
 "nbformat": 4,
 "nbformat_minor": 5
}