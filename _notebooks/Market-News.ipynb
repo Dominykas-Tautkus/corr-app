{
 "cells": [
  {
   "cell_type": "markdown",
   "id": "short-greensboro",
   "metadata": {
    "papermill": {
     "duration": 0.016354,
     "end_time": "2021-03-12T01:47:50.430267",
     "exception": false,
     "start_time": "2021-03-12T01:47:50.413913",
     "status": "completed"
    },
    "tags": []
   },
   "source": [
    "# Kriptovaliutų naujienos"
   ]
  },
  {
   "cell_type": "code",
   "execution_count": 1,
   "id": "functioning-knowing",
   "metadata": {
    "execution": {
     "iopub.execute_input": "2021-03-12T01:47:50.456249Z",
     "iopub.status.busy": "2021-03-12T01:47:50.455515Z",
     "iopub.status.idle": "2021-03-12T01:47:51.860419Z",
     "shell.execute_reply": "2021-03-12T01:47:51.859794Z"
    },
    "papermill": {
     "duration": 1.418236,
     "end_time": "2021-03-12T01:47:51.860581",
     "exception": false,
     "start_time": "2021-03-12T01:47:50.442345",
     "status": "completed"
    },
    "tags": []
   },
   "outputs": [],
   "source": [
    "#hide_input\n",
    "import warnings\n",
    "warnings.filterwarnings('ignore')\n",
    "from scripts.read_data import read_api\n",
    "from scripts.read_data import read_news\n",
    "from scripts.read_data import read_covid\n",
    "import matplotlib.pyplot as plt \n",
    "from IPython.display import Markdown as md"
   ]
  },
  {
   "cell_type": "code",
   "execution_count": 2,
   "id": "shared-acceptance",
   "metadata": {
    "execution": {
     "iopub.execute_input": "2021-03-12T01:47:51.890960Z",
     "iopub.status.busy": "2021-03-12T01:47:51.889838Z",
     "iopub.status.idle": "2021-03-12T01:47:59.489982Z",
     "shell.execute_reply": "2021-03-12T01:47:59.489322Z"
    },
    "papermill": {
     "duration": 7.617476,
     "end_time": "2021-03-12T01:47:59.490119",
     "exception": false,
     "start_time": "2021-03-12T01:47:51.872643",
     "status": "completed"
    },
    "tags": []
   },
   "outputs": [],
   "source": [
    "#hide_input\n",
    "blockchain = read_news('blockchain') \n",
    "btc = read_news('btc') \n",
    "xrp = read_news('xrp') \n",
    "trx = read_news('trx') \n",
    "eth = read_news('eth')  \n",
    "ada = read_news('ada')\n",
    "exchange = read_news('exchange') "
   ]
  },
  {
   "cell_type": "code",
   "execution_count": 3,
   "id": "synthetic-notion",
   "metadata": {
    "execution": {
     "iopub.execute_input": "2021-03-12T01:47:59.519511Z",
     "iopub.status.busy": "2021-03-12T01:47:59.517081Z",
     "iopub.status.idle": "2021-03-12T01:47:59.523176Z",
     "shell.execute_reply": "2021-03-12T01:47:59.522553Z"
    },
    "papermill": {
     "duration": 0.021845,
     "end_time": "2021-03-12T01:47:59.523292",
     "exception": false,
     "start_time": "2021-03-12T01:47:59.501447",
     "status": "completed"
    },
    "tags": []
   },
   "outputs": [
    {
     "data": {
      "text/markdown": [
       "- Solana Price Pumps on Tether Stablecoin Addition.  Stablecoin USDT is now on Solana, which could attract users and builders to the blockchain network. ... [| Skaityti daugiau](https://decrypt.co/61089/solana-price-pumps-tether-stablecoin-addition) "
      ],
      "text/plain": [
       "<IPython.core.display.Markdown object>"
      ]
     },
     "execution_count": 3,
     "metadata": {},
     "output_type": "execute_result"
    }
   ],
   "source": [
    "#hide_input\n",
    "#md('##### {}'.format(titleBTC)) \n",
    "md(\"- {}{} {}{} [| Skaityti daugiau]({}) \".format(blockchain['title'],'. ', blockchain['body'], ' ...', blockchain['url']))"
   ]
  },
  {
   "cell_type": "code",
   "execution_count": 4,
   "id": "aging-caution",
   "metadata": {
    "execution": {
     "iopub.execute_input": "2021-03-12T01:47:59.551163Z",
     "iopub.status.busy": "2021-03-12T01:47:59.550522Z",
     "iopub.status.idle": "2021-03-12T01:47:59.553597Z",
     "shell.execute_reply": "2021-03-12T01:47:59.554146Z"
    },
    "papermill": {
     "duration": 0.019821,
     "end_time": "2021-03-12T01:47:59.554269",
     "exception": false,
     "start_time": "2021-03-12T01:47:59.534448",
     "status": "completed"
    },
    "tags": []
   },
   "outputs": [
    {
     "data": {
      "text/markdown": [
       "- Long-Term Bitcoin HODLers Keep Accumulating as Newcomers Take Profits, Data Shows.  Data shows that long-term bitcoin HODLers do not appear to be selling their holdings, even as the price of bitcoin tops $55,000 – more than double its previous all-time high near $19,000. Newcomers, on the other hand, have been taking profits. As reported by Cointelegraph, Unchained Capital’s “Hodlwaves” chart – which visually illustrates BTC wallets […] ... [| Skaityti daugiau](https://www.cryptoglobe.com/latest/2021/03/long-term-bitcoin-hodlers-keep-accumulating-as-newcomers-take-profits-data-shows/) "
      ],
      "text/plain": [
       "<IPython.core.display.Markdown object>"
      ]
     },
     "execution_count": 4,
     "metadata": {},
     "output_type": "execute_result"
    }
   ],
   "source": [
    "#hide_input\n",
    "#md('##### {}'.format(titleBTC)) \n",
    "md(\"- {}{} {}{} [| Skaityti daugiau]({}) \".format(btc['title'],'. ', btc['body'], ' ...', btc['url']))"
   ]
  },
  {
   "cell_type": "code",
   "execution_count": 5,
   "id": "organic-actress",
   "metadata": {
    "execution": {
     "iopub.execute_input": "2021-03-12T01:47:59.583102Z",
     "iopub.status.busy": "2021-03-12T01:47:59.582509Z",
     "iopub.status.idle": "2021-03-12T01:47:59.585516Z",
     "shell.execute_reply": "2021-03-12T01:47:59.586162Z"
    },
    "papermill": {
     "duration": 0.02052,
     "end_time": "2021-03-12T01:47:59.586286",
     "exception": false,
     "start_time": "2021-03-12T01:47:59.565766",
     "status": "completed"
    },
    "tags": []
   },
   "outputs": [
    {
     "data": {
      "text/markdown": [
       "- Ripple Settles Legal Dispute With Youtube Over XRP Giveaway Scams.  Ripple and Youtube had ended a legal battle initiated in April last year amid allegations related to crypto-related scams. The U.S. blockchain company sued the video platform for negligence in acting against crypto scams that impersonated Ripple. Terms of the Resolution Are Confidential During a Twitter thread, Ripple&#8217;s CEO Brad Garlinghouse announced both parties have [&#8230;] ... [| Skaityti daugiau](https://news.bitcoin.com/ripple-settles-legal-dispute-with-youtube-over-xrp-giveaway-scams/) "
      ],
      "text/plain": [
       "<IPython.core.display.Markdown object>"
      ]
     },
     "execution_count": 5,
     "metadata": {},
     "output_type": "execute_result"
    }
   ],
   "source": [
    "#hide_input\n",
    "#md('##### {}'.format(titleBTC)) \n",
    "md(\"- {}{} {}{} [| Skaityti daugiau]({}) \".format(xrp['title'],'. ', xrp['body'], ' ...', xrp['url']))"
   ]
  },
  {
   "cell_type": "code",
   "execution_count": 6,
   "id": "prompt-farmer",
   "metadata": {
    "execution": {
     "iopub.execute_input": "2021-03-12T01:47:59.616544Z",
     "iopub.status.busy": "2021-03-12T01:47:59.614853Z",
     "iopub.status.idle": "2021-03-12T01:47:59.619446Z",
     "shell.execute_reply": "2021-03-12T01:47:59.619935Z"
    },
    "papermill": {
     "duration": 0.022364,
     "end_time": "2021-03-12T01:47:59.620063",
     "exception": false,
     "start_time": "2021-03-12T01:47:59.597699",
     "status": "completed"
    },
    "tags": []
   },
   "outputs": [
    {
     "data": {
      "text/markdown": [
       "- Tron, Augur, Decred Price Analysis: 11 March.  Tron climbed past the $0.05-level once more but saw some selling pressure over the past couple of days. Decred recovered with strength and was trading within a region of supply at $170, while Augur flipped the $33.3-level from resistance to support. Tron [TRX] Using the Fibonacci retracement tool for TRX&#8217;s descent from $0.064 to $0.038, [&#8230;] ... [| Skaityti daugiau](https://ambcrypto.com/tron-augur-decred-price-analysis-11-march/) "
      ],
      "text/plain": [
       "<IPython.core.display.Markdown object>"
      ]
     },
     "execution_count": 6,
     "metadata": {},
     "output_type": "execute_result"
    }
   ],
   "source": [
    "#hide_input\n",
    "#md('##### {}'.format(titleBTC)) \n",
    "md(\"- {}{} {}{} [| Skaityti daugiau]({}) \".format(trx['title'],'. ', trx['body'], ' ...', trx['url']))"
   ]
  },
  {
   "cell_type": "code",
   "execution_count": 7,
   "id": "illegal-greece",
   "metadata": {
    "execution": {
     "iopub.execute_input": "2021-03-12T01:47:59.650619Z",
     "iopub.status.busy": "2021-03-12T01:47:59.649964Z",
     "iopub.status.idle": "2021-03-12T01:47:59.653846Z",
     "shell.execute_reply": "2021-03-12T01:47:59.654345Z"
    },
    "papermill": {
     "duration": 0.021283,
     "end_time": "2021-03-12T01:47:59.654467",
     "exception": false,
     "start_time": "2021-03-12T01:47:59.633184",
     "status": "completed"
    },
    "tags": []
   },
   "outputs": [
    {
     "data": {
      "text/markdown": [
       "- Ethereum Just Edged Closer to Proof of Stake Via Beacon Chain.  With the world buzzing about NFTs and DeFi taking off, Ethereum 2.0 developers want to get the proof-of-stake network up and running soon. ... [| Skaityti daugiau](https://decrypt.co/61093/ethereum-just-edged-closer-to-proof-of-stake-via-beacon-chain) "
      ],
      "text/plain": [
       "<IPython.core.display.Markdown object>"
      ]
     },
     "execution_count": 7,
     "metadata": {},
     "output_type": "execute_result"
    }
   ],
   "source": [
    "#hide_input\n",
    "#md('##### {}'.format(titleBTC)) \n",
    "md(\"- {}{} {}{} [| Skaityti daugiau]({}) \".format(eth['title'],'. ', eth['body'], ' ...', eth['url']))"
   ]
  },
  {
   "cell_type": "code",
   "execution_count": 8,
   "id": "sublime-lounge",
   "metadata": {
    "execution": {
     "iopub.execute_input": "2021-03-12T01:47:59.685897Z",
     "iopub.status.busy": "2021-03-12T01:47:59.685278Z",
     "iopub.status.idle": "2021-03-12T01:47:59.689115Z",
     "shell.execute_reply": "2021-03-12T01:47:59.689742Z"
    },
    "papermill": {
     "duration": 0.020961,
     "end_time": "2021-03-12T01:47:59.689879",
     "exception": false,
     "start_time": "2021-03-12T01:47:59.668918",
     "status": "completed"
    },
    "tags": []
   },
   "outputs": [
    {
     "data": {
      "text/markdown": [
       "- Why Bitcoin Dominance Is No Longer Relevant To Crypto.  Bitcoin dominance is a metric weighing the top cryptocurrency&#8217;s market share against the rest of the crypto space, including Ethereum, Polkadot, Cardano, and other altcoins. For years, analysts used it as a tool to predict divergences between altcoins and Bitcoin. However, recently, the metric has lost just about all meaning, and could explain why it [&#8230;] ... [| Skaityti daugiau](https://www.newsbtc.com/news/bitcoin/bitcoin-btc-dominance-crypto/) "
      ],
      "text/plain": [
       "<IPython.core.display.Markdown object>"
      ]
     },
     "execution_count": 8,
     "metadata": {},
     "output_type": "execute_result"
    }
   ],
   "source": [
    "#hide_input\n",
    "#md('##### {}'.format(titleBTC)) \n",
    "md(\"- {}{} {}{} [| Skaityti daugiau]({}) \".format(ada['title'],'. ', ada['body'], ' ...', ada['url']))"
   ]
  },
  {
   "cell_type": "code",
   "execution_count": 9,
   "id": "specified-ordering",
   "metadata": {
    "execution": {
     "iopub.execute_input": "2021-03-12T01:47:59.718982Z",
     "iopub.status.busy": "2021-03-12T01:47:59.718302Z",
     "iopub.status.idle": "2021-03-12T01:47:59.727080Z",
     "shell.execute_reply": "2021-03-12T01:47:59.726471Z"
    },
    "papermill": {
     "duration": 0.023774,
     "end_time": "2021-03-12T01:47:59.727194",
     "exception": false,
     "start_time": "2021-03-12T01:47:59.703420",
     "status": "completed"
    },
    "tags": []
   },
   "outputs": [
    {
     "data": {
      "text/markdown": [
       "- WisdomTree files prospectus with SEC for bitcoin trust.  WisdomTree just filed paperwork on a preliminary prospectus with the U.S. Securities Exchange Commission to launch the WisdomTree Bitcoin Trust. The WisdomTree Bitcoin Trust is an exchange-traded fund that will issue common shares listed on the Cboe BZX Exchange, Inc. and trade under the ticker symbol “BTCW.”Per the prospectus of the WisdomTree Bitcoin Trust, its objective is to gain exposure to the price of bitcoin, less expenses, and liabilities of the trust’s operations.Additionally, the prospectus goes on to state: “Barring a liquidation or extraordinary circumstances, the trust does not currently intend to purchase or sell bitcoin directly.”The news comes out as bitcoin (BTC-USD) is trading at $57,621.51, up 1.22% and challenging its all-time high.This move by WisdomTree to create a bitcoin trust joins the likes of VanEck, Valkyrie, and New York Digital Group who each filed for a bitcoin ETF. ... [| Skaityti daugiau](https://seekingalpha.com/news/3672037-wisdomtree-files-prospectus-with-sec-for-bitcoin-trust?utm_source=cryptocompare.com&utm_medium=referral) "
      ],
      "text/plain": [
       "<IPython.core.display.Markdown object>"
      ]
     },
     "execution_count": 9,
     "metadata": {},
     "output_type": "execute_result"
    }
   ],
   "source": [
    "#hide_input\n",
    "#md('##### {}'.format(titleBTC)) \n",
    "md(\"- {}{} {}{} [| Skaityti daugiau]({}) \".format(exchange['title'],'. ', exchange['body'], ' ...', exchange['url']))"
   ]
  },
  {
   "cell_type": "code",
   "execution_count": null,
   "id": "tender-livestock",
   "metadata": {
    "papermill": {
     "duration": 0.013494,
     "end_time": "2021-03-12T01:47:59.754221",
     "exception": false,
     "start_time": "2021-03-12T01:47:59.740727",
     "status": "completed"
    },
    "tags": []
   },
   "outputs": [],
   "source": []
  },
  {
   "cell_type": "code",
   "execution_count": null,
   "id": "appreciated-diamond",
   "metadata": {
    "papermill": {
     "duration": 0.014271,
     "end_time": "2021-03-12T01:47:59.782141",
     "exception": false,
     "start_time": "2021-03-12T01:47:59.767870",
     "status": "completed"
    },
    "tags": []
   },
   "outputs": [],
   "source": []
  },
  {
   "cell_type": "code",
   "execution_count": null,
   "id": "romance-sweden",
   "metadata": {
    "papermill": {
     "duration": 0.017504,
     "end_time": "2021-03-12T01:47:59.815109",
     "exception": false,
     "start_time": "2021-03-12T01:47:59.797605",
     "status": "completed"
    },
    "tags": []
   },
   "outputs": [],
   "source": []
  },
  {
   "cell_type": "code",
   "execution_count": null,
   "id": "dietary-statistics",
   "metadata": {
    "papermill": {
     "duration": 0.01482,
     "end_time": "2021-03-12T01:47:59.844995",
     "exception": false,
     "start_time": "2021-03-12T01:47:59.830175",
     "status": "completed"
    },
    "tags": []
   },
   "outputs": [],
   "source": []
  }
 ],
 "metadata": {
  "kernelspec": {
   "display_name": "Python 3",
   "language": "python",
   "name": "python3"
  },
  "language_info": {
   "codemirror_mode": {
    "name": "ipython",
    "version": 3
   },
   "file_extension": ".py",
   "mimetype": "text/x-python",
   "name": "python",
   "nbconvert_exporter": "python",
   "pygments_lexer": "ipython3",
   "version": "3.6.13"
  },
  "papermill": {
   "default_parameters": {},
   "duration": 11.01007,
   "end_time": "2021-03-12T01:48:00.269207",
   "environment_variables": {},
   "exception": null,
   "input_path": "Market-News.ipynb",
   "output_path": "Market-News.ipynb",
   "parameters": {},
   "start_time": "2021-03-12T01:47:49.259137",
   "version": "2.2.2"
  }
 },
 "nbformat": 4,
 "nbformat_minor": 5
}