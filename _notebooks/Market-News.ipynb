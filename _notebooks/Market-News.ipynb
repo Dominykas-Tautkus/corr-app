{
 "cells": [
  {
   "cell_type": "markdown",
   "id": "short-greensboro",
   "metadata": {
    "papermill": {
     "duration": 0.015693,
     "end_time": "2021-04-10T02:07:23.619311",
     "exception": false,
     "start_time": "2021-04-10T02:07:23.603618",
     "status": "completed"
    },
    "tags": []
   },
   "source": [
    "# Kriptovaliutų naujienos"
   ]
  },
  {
   "cell_type": "code",
   "execution_count": 1,
   "id": "functioning-knowing",
   "metadata": {
    "execution": {
     "iopub.execute_input": "2021-04-10T02:07:23.651785Z",
     "iopub.status.busy": "2021-04-10T02:07:23.651163Z",
     "iopub.status.idle": "2021-04-10T02:07:24.952702Z",
     "shell.execute_reply": "2021-04-10T02:07:24.953529Z"
    },
    "papermill": {
     "duration": 1.323711,
     "end_time": "2021-04-10T02:07:24.953805",
     "exception": false,
     "start_time": "2021-04-10T02:07:23.630094",
     "status": "completed"
    },
    "tags": []
   },
   "outputs": [],
   "source": [
    "#hide_input\n",
    "import warnings\n",
    "warnings.filterwarnings('ignore')\n",
    "from scripts.read_data import read_api\n",
    "from scripts.read_data import read_news\n",
    "from scripts.read_data import read_covid\n",
    "import matplotlib.pyplot as plt \n",
    "from IPython.display import Markdown as md"
   ]
  },
  {
   "cell_type": "code",
   "execution_count": 2,
   "id": "shared-acceptance",
   "metadata": {
    "execution": {
     "iopub.execute_input": "2021-04-10T02:07:24.981868Z",
     "iopub.status.busy": "2021-04-10T02:07:24.981282Z",
     "iopub.status.idle": "2021-04-10T02:07:32.464246Z",
     "shell.execute_reply": "2021-04-10T02:07:32.463697Z"
    },
    "papermill": {
     "duration": 7.499955,
     "end_time": "2021-04-10T02:07:32.464376",
     "exception": false,
     "start_time": "2021-04-10T02:07:24.964421",
     "status": "completed"
    },
    "tags": []
   },
   "outputs": [],
   "source": [
    "#hide_input\n",
    "blockchain = read_news('blockchain') \n",
    "btc = read_news('btc') \n",
    "xrp = read_news('xrp') \n",
    "trx = read_news('trx') \n",
    "eth = read_news('eth')  \n",
    "ada = read_news('ada')\n",
    "exchange = read_news('exchange') "
   ]
  },
  {
   "cell_type": "code",
   "execution_count": 3,
   "id": "synthetic-notion",
   "metadata": {
    "execution": {
     "iopub.execute_input": "2021-04-10T02:07:32.491658Z",
     "iopub.status.busy": "2021-04-10T02:07:32.491056Z",
     "iopub.status.idle": "2021-04-10T02:07:32.494116Z",
     "shell.execute_reply": "2021-04-10T02:07:32.493627Z"
    },
    "papermill": {
     "duration": 0.019196,
     "end_time": "2021-04-10T02:07:32.494231",
     "exception": false,
     "start_time": "2021-04-10T02:07:32.475035",
     "status": "completed"
    },
    "tags": []
   },
   "outputs": [
    {
     "data": {
      "text/markdown": [
       "- Texas Bitcoin Mining Swells- Riot Purchases Mining Site for $650M, Blockcap Establishes HQ in Austin.  The Lone Star State of Texas is solidifying its role as a bitcoin mining and blockchain hub. This week two major bitcoin mining companies established operations in Texas. The company Riot Blockchain purchased a mining site in Rockdale and the bitcoin mining firm Blockcap announced establishing headquarters in Austin. Blockcap Sets Up Headquarters in Austin, [&#8230;] ... [| Skaityti daugiau](https://news.bitcoin.com/texas-bitcoin-mining-swells-riot-purchases-mining-site-for-650m-blockcap-establishes-hq-in-austin/) "
      ],
      "text/plain": [
       "<IPython.core.display.Markdown object>"
      ]
     },
     "execution_count": 3,
     "metadata": {},
     "output_type": "execute_result"
    }
   ],
   "source": [
    "#hide_input\n",
    "#md('##### {}'.format(titleBTC)) \n",
    "md(\"- {}{} {}{} [| Skaityti daugiau]({}) \".format(blockchain['title'],'. ', blockchain['body'], ' ...', blockchain['url']))"
   ]
  },
  {
   "cell_type": "code",
   "execution_count": 4,
   "id": "aging-caution",
   "metadata": {
    "execution": {
     "iopub.execute_input": "2021-04-10T02:07:32.520599Z",
     "iopub.status.busy": "2021-04-10T02:07:32.520019Z",
     "iopub.status.idle": "2021-04-10T02:07:32.523298Z",
     "shell.execute_reply": "2021-04-10T02:07:32.522780Z"
    },
    "papermill": {
     "duration": 0.018695,
     "end_time": "2021-04-10T02:07:32.523411",
     "exception": false,
     "start_time": "2021-04-10T02:07:32.504716",
     "status": "completed"
    },
    "tags": []
   },
   "outputs": [
    {
     "data": {
      "text/markdown": [
       "- Online Game Operator The9 Plans to Purchase 2,000 Bitcoin Miners for Over $6 Million.  The Shanghai-based online game operator The9 Limited, has revealed the company is planning to acquire 2,000 Canaan Avalonminers for over $6 million in a stock deal. The9 binding memorandum of understanding (MOU) explains that the new units will give the company 0.1 exahash of bitcoin hashpower. On April 9, the publicly-listed gaming and internet company [&#8230;] ... [| Skaityti daugiau](https://news.bitcoin.com/online-game-operator-the9-plans-to-purchase-2000-bitcoin-miners-for-over-6-million/) "
      ],
      "text/plain": [
       "<IPython.core.display.Markdown object>"
      ]
     },
     "execution_count": 4,
     "metadata": {},
     "output_type": "execute_result"
    }
   ],
   "source": [
    "#hide_input\n",
    "#md('##### {}'.format(titleBTC)) \n",
    "md(\"- {}{} {}{} [| Skaityti daugiau]({}) \".format(btc['title'],'. ', btc['body'], ' ...', btc['url']))"
   ]
  },
  {
   "cell_type": "code",
   "execution_count": 5,
   "id": "organic-actress",
   "metadata": {
    "execution": {
     "iopub.execute_input": "2021-04-10T02:07:32.549860Z",
     "iopub.status.busy": "2021-04-10T02:07:32.548701Z",
     "iopub.status.idle": "2021-04-10T02:07:32.553193Z",
     "shell.execute_reply": "2021-04-10T02:07:32.552731Z"
    },
    "papermill": {
     "duration": 0.019009,
     "end_time": "2021-04-10T02:07:32.553304",
     "exception": false,
     "start_time": "2021-04-10T02:07:32.534295",
     "status": "completed"
    },
    "tags": []
   },
   "outputs": [
    {
     "data": {
      "text/markdown": [
       "- Will Ethereum, XRP and Litecoin Surge Beyond the Stratosphere? Analyst Michaël van de Poppe Updates Crypto Outlook.  High profile analyst Michaël van de Poppe is reviewing two large-cap crypto assets as the overall market cap flirts with $2 trillion. In a new video, Van de Poppe tells his 58,000 subscribers that XRP may finally be ready to start outperforming Bitcoin, as the asset along with Litecoin (LTC) and Ethereum (EHT) appear to [&#8230;]The post Will Ethereum, XRP and Litecoin Surge Beyond the Stratosphere? Analyst Michaël van de Poppe Updates Crypto Outlook appeared first on The Daily Hodl. ... [| Skaityti daugiau](https://dailyhodl.com/2021/04/09/will-ethereum-xrp-and-litecoin-surge-beyond-the-stratosphere-analyst-michael-van-de-poppe-updates-crypto-outlook/) "
      ],
      "text/plain": [
       "<IPython.core.display.Markdown object>"
      ]
     },
     "execution_count": 5,
     "metadata": {},
     "output_type": "execute_result"
    }
   ],
   "source": [
    "#hide_input\n",
    "#md('##### {}'.format(titleBTC)) \n",
    "md(\"- {}{} {}{} [| Skaityti daugiau]({}) \".format(xrp['title'],'. ', xrp['body'], ' ...', xrp['url']))"
   ]
  },
  {
   "cell_type": "code",
   "execution_count": 6,
   "id": "prompt-farmer",
   "metadata": {
    "execution": {
     "iopub.execute_input": "2021-04-10T02:07:32.582467Z",
     "iopub.status.busy": "2021-04-10T02:07:32.581893Z",
     "iopub.status.idle": "2021-04-10T02:07:32.585078Z",
     "shell.execute_reply": "2021-04-10T02:07:32.584593Z"
    },
    "papermill": {
     "duration": 0.019298,
     "end_time": "2021-04-10T02:07:32.585190",
     "exception": false,
     "start_time": "2021-04-10T02:07:32.565892",
     "status": "completed"
    },
    "tags": []
   },
   "outputs": [
    {
     "data": {
      "text/markdown": [
       "- Tron, BAT, VeChain Price Analysis: 08 April.  Bitcoin was trading near the $57k mark, but a drop back towards $55k was not yet out of the question. As such, the short-term bullish momentum for many of the market&#8217;s altcoins could be a bounce before another slide. Tron, Basic Attention Token, and VeChain all saw northbound moves in recent hours and could continue [&#8230;] ... [| Skaityti daugiau](https://ambcrypto.com/tron-bat-vechain-price-analysis-08-april/) "
      ],
      "text/plain": [
       "<IPython.core.display.Markdown object>"
      ]
     },
     "execution_count": 6,
     "metadata": {},
     "output_type": "execute_result"
    }
   ],
   "source": [
    "#hide_input\n",
    "#md('##### {}'.format(titleBTC)) \n",
    "md(\"- {}{} {}{} [| Skaityti daugiau]({}) \".format(trx['title'],'. ', trx['body'], ' ...', trx['url']))"
   ]
  },
  {
   "cell_type": "code",
   "execution_count": 7,
   "id": "illegal-greece",
   "metadata": {
    "execution": {
     "iopub.execute_input": "2021-04-10T02:07:32.615181Z",
     "iopub.status.busy": "2021-04-10T02:07:32.614553Z",
     "iopub.status.idle": "2021-04-10T02:07:32.618763Z",
     "shell.execute_reply": "2021-04-10T02:07:32.619257Z"
    },
    "papermill": {
     "duration": 0.022509,
     "end_time": "2021-04-10T02:07:32.619386",
     "exception": false,
     "start_time": "2021-04-10T02:07:32.596877",
     "status": "completed"
    },
    "tags": []
   },
   "outputs": [
    {
     "data": {
      "text/markdown": [
       "- The Top Performing DeFi Coins in Q1 Were Not on Ethereum.  Most DeFi products are built on Ethereum, but the best performing DeFi assets in Q1 may not be what you think. ... [| Skaityti daugiau](https://decrypt.co/66038/top-performing-defi-coins-q1-not-ethereum) "
      ],
      "text/plain": [
       "<IPython.core.display.Markdown object>"
      ]
     },
     "execution_count": 7,
     "metadata": {},
     "output_type": "execute_result"
    }
   ],
   "source": [
    "#hide_input\n",
    "#md('##### {}'.format(titleBTC)) \n",
    "md(\"- {}{} {}{} [| Skaityti daugiau]({}) \".format(eth['title'],'. ', eth['body'], ' ...', eth['url']))"
   ]
  },
  {
   "cell_type": "code",
   "execution_count": 8,
   "id": "sublime-lounge",
   "metadata": {
    "execution": {
     "iopub.execute_input": "2021-04-10T02:07:32.648131Z",
     "iopub.status.busy": "2021-04-10T02:07:32.647549Z",
     "iopub.status.idle": "2021-04-10T02:07:32.650301Z",
     "shell.execute_reply": "2021-04-10T02:07:32.650763Z"
    },
    "papermill": {
     "duration": 0.019675,
     "end_time": "2021-04-10T02:07:32.650884",
     "exception": false,
     "start_time": "2021-04-10T02:07:32.631209",
     "status": "completed"
    },
    "tags": []
   },
   "outputs": [
    {
     "data": {
      "text/markdown": [
       "- Up 700% in Q1, BNB’s next rally could be one for the “history books”.  Crypto research firm Messari released this Q1 Performance Recap, the undisputed winner on the top assets was Binance Coin (BNB) with an astonishing 709% in profits. Followed by ADA (557%) and UNI, BNB seems ready to continue its rally. Conducted by researcher Roberto Talamas, he concludes Binance Coin&#8217;s rally was fuel by the emergence of [&#8230;] ... [| Skaityti daugiau](https://www.newsbtc.com/news/up-700-in-q1-bnbs-next-rally-could-go-to-the-history-books/) "
      ],
      "text/plain": [
       "<IPython.core.display.Markdown object>"
      ]
     },
     "execution_count": 8,
     "metadata": {},
     "output_type": "execute_result"
    }
   ],
   "source": [
    "#hide_input\n",
    "#md('##### {}'.format(titleBTC)) \n",
    "md(\"- {}{} {}{} [| Skaityti daugiau]({}) \".format(ada['title'],'. ', ada['body'], ' ...', ada['url']))"
   ]
  },
  {
   "cell_type": "code",
   "execution_count": 9,
   "id": "specified-ordering",
   "metadata": {
    "execution": {
     "iopub.execute_input": "2021-04-10T02:07:32.680847Z",
     "iopub.status.busy": "2021-04-10T02:07:32.680277Z",
     "iopub.status.idle": "2021-04-10T02:07:32.683687Z",
     "shell.execute_reply": "2021-04-10T02:07:32.684148Z"
    },
    "papermill": {
     "duration": 0.02115,
     "end_time": "2021-04-10T02:07:32.684271",
     "exception": false,
     "start_time": "2021-04-10T02:07:32.663121",
     "status": "completed"
    },
    "tags": []
   },
   "outputs": [
    {
     "data": {
      "text/markdown": [
       "- LA Real Estate Mogul Buys Bitcoin, Accepts BTC For Rent.  A massive LA-based luxury real estate firm has begun accepting Bitcoin for rent payments. In addition to loading up on BTC for its corporate reserves, the company has also tapped popular exchange Gemini to help build a crypto centric ecosystem for its retail, residential, and resort customers. Rick Caruso and Caruso Real Estate Tap Gemini [&#8230;] ... [| Skaityti daugiau](https://www.newsbtc.com/news/bitcoin/real-estate-buy-bitcoin-accept-btc/) "
      ],
      "text/plain": [
       "<IPython.core.display.Markdown object>"
      ]
     },
     "execution_count": 9,
     "metadata": {},
     "output_type": "execute_result"
    }
   ],
   "source": [
    "#hide_input\n",
    "#md('##### {}'.format(titleBTC)) \n",
    "md(\"- {}{} {}{} [| Skaityti daugiau]({}) \".format(exchange['title'],'. ', exchange['body'], ' ...', exchange['url']))"
   ]
  },
  {
   "cell_type": "code",
   "execution_count": null,
   "id": "tender-livestock",
   "metadata": {
    "papermill": {
     "duration": 0.012738,
     "end_time": "2021-04-10T02:07:32.709721",
     "exception": false,
     "start_time": "2021-04-10T02:07:32.696983",
     "status": "completed"
    },
    "tags": []
   },
   "outputs": [],
   "source": []
  },
  {
   "cell_type": "code",
   "execution_count": null,
   "id": "appreciated-diamond",
   "metadata": {
    "papermill": {
     "duration": 0.012622,
     "end_time": "2021-04-10T02:07:32.734899",
     "exception": false,
     "start_time": "2021-04-10T02:07:32.722277",
     "status": "completed"
    },
    "tags": []
   },
   "outputs": [],
   "source": []
  },
  {
   "cell_type": "code",
   "execution_count": null,
   "id": "romance-sweden",
   "metadata": {
    "papermill": {
     "duration": 0.012531,
     "end_time": "2021-04-10T02:07:32.760074",
     "exception": false,
     "start_time": "2021-04-10T02:07:32.747543",
     "status": "completed"
    },
    "tags": []
   },
   "outputs": [],
   "source": []
  },
  {
   "cell_type": "code",
   "execution_count": null,
   "id": "dietary-statistics",
   "metadata": {
    "papermill": {
     "duration": 0.012561,
     "end_time": "2021-04-10T02:07:32.785168",
     "exception": false,
     "start_time": "2021-04-10T02:07:32.772607",
     "status": "completed"
    },
    "tags": []
   },
   "outputs": [],
   "source": []
  }
 ],
 "metadata": {
  "kernelspec": {
   "display_name": "Python 3",
   "language": "python",
   "name": "python3"
  },
  "language_info": {
   "codemirror_mode": {
    "name": "ipython",
    "version": 3
   },
   "file_extension": ".py",
   "mimetype": "text/x-python",
   "name": "python",
   "nbconvert_exporter": "python",
   "pygments_lexer": "ipython3",
   "version": "3.6.13"
  },
  "papermill": {
   "default_parameters": {},
   "duration": 10.875881,
   "end_time": "2021-04-10T02:07:33.206045",
   "environment_variables": {},
   "exception": null,
   "input_path": "Market-News.ipynb",
   "output_path": "Market-News.ipynb",
   "parameters": {},
   "start_time": "2021-04-10T02:07:22.330164",
   "version": "2.2.2"
  }
 },
 "nbformat": 4,
 "nbformat_minor": 5
}