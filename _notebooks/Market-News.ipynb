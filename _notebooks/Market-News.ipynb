{
 "cells": [
  {
   "cell_type": "markdown",
   "id": "short-greensboro",
   "metadata": {
    "papermill": {
     "duration": 0.015264,
     "end_time": "2021-02-23T01:42:00.235787",
     "exception": false,
     "start_time": "2021-02-23T01:42:00.220523",
     "status": "completed"
    },
    "tags": []
   },
   "source": [
    "# Kriptovaliutų naujienos"
   ]
  },
  {
   "cell_type": "code",
   "execution_count": 1,
   "id": "functioning-knowing",
   "metadata": {
    "execution": {
     "iopub.execute_input": "2021-02-23T01:42:00.274598Z",
     "iopub.status.busy": "2021-02-23T01:42:00.273722Z",
     "iopub.status.idle": "2021-02-23T01:42:01.686646Z",
     "shell.execute_reply": "2021-02-23T01:42:01.687187Z"
    },
    "papermill": {
     "duration": 1.437409,
     "end_time": "2021-02-23T01:42:01.687379",
     "exception": false,
     "start_time": "2021-02-23T01:42:00.249970",
     "status": "completed"
    },
    "tags": []
   },
   "outputs": [],
   "source": [
    "#hide_input\n",
    "import warnings\n",
    "warnings.filterwarnings('ignore')\n",
    "from scripts.read_data import read_api\n",
    "from scripts.read_data import read_news\n",
    "from scripts.read_data import read_covid\n",
    "import matplotlib.pyplot as plt \n",
    "from IPython.display import Markdown as md"
   ]
  },
  {
   "cell_type": "code",
   "execution_count": 2,
   "id": "shared-acceptance",
   "metadata": {
    "execution": {
     "iopub.execute_input": "2021-02-23T01:42:01.718331Z",
     "iopub.status.busy": "2021-02-23T01:42:01.717673Z",
     "iopub.status.idle": "2021-02-23T01:42:09.442968Z",
     "shell.execute_reply": "2021-02-23T01:42:09.443548Z"
    },
    "papermill": {
     "duration": 7.745106,
     "end_time": "2021-02-23T01:42:09.443747",
     "exception": false,
     "start_time": "2021-02-23T01:42:01.698641",
     "status": "completed"
    },
    "tags": []
   },
   "outputs": [],
   "source": [
    "#hide_input\n",
    "blockchain = read_news('blockchain') \n",
    "btc = read_news('btc') \n",
    "xrp = read_news('xrp') \n",
    "trx = read_news('trx') \n",
    "eth = read_news('eth')  \n",
    "ada = read_news('ada')\n",
    "exchange = read_news('exchange') "
   ]
  },
  {
   "cell_type": "code",
   "execution_count": 3,
   "id": "synthetic-notion",
   "metadata": {
    "execution": {
     "iopub.execute_input": "2021-02-23T01:42:09.483639Z",
     "iopub.status.busy": "2021-02-23T01:42:09.482952Z",
     "iopub.status.idle": "2021-02-23T01:42:09.489965Z",
     "shell.execute_reply": "2021-02-23T01:42:09.490530Z"
    },
    "papermill": {
     "duration": 0.029166,
     "end_time": "2021-02-23T01:42:09.490705",
     "exception": false,
     "start_time": "2021-02-23T01:42:09.461539",
     "status": "completed"
    },
    "tags": []
   },
   "outputs": [
    {
     "data": {
      "text/markdown": [
       "- NFT Marketplace ‘NBA Top Shot’ Volume Has Exploded Over the Past Month.  NBA Top Shot, a blockchain-based platform allowing fans to buy and sell collective highlights called “Moments,” has seen a surge in volume over the past month amidst the general surge in interest for crypto-assets. According to a report by Forbes published on February 20, Top Shot generated $53.9 million in sales last week, giving an […] ... [| Skaityti daugiau](https://www.cryptoglobe.com/latest/2021/02/nft-marketplace-nba-top-shot-volume-has-exploded-over-the-past-month/) "
      ],
      "text/plain": [
       "<IPython.core.display.Markdown object>"
      ]
     },
     "execution_count": 3,
     "metadata": {},
     "output_type": "execute_result"
    }
   ],
   "source": [
    "#hide_input\n",
    "#md('##### {}'.format(titleBTC)) \n",
    "md(\"- {}{} {}{} [| Skaityti daugiau]({}) \".format(blockchain['title'],'. ', blockchain['body'], ' ...', blockchain['url']))"
   ]
  },
  {
   "cell_type": "code",
   "execution_count": 4,
   "id": "aging-caution",
   "metadata": {
    "execution": {
     "iopub.execute_input": "2021-02-23T01:42:09.520250Z",
     "iopub.status.busy": "2021-02-23T01:42:09.519566Z",
     "iopub.status.idle": "2021-02-23T01:42:09.522982Z",
     "shell.execute_reply": "2021-02-23T01:42:09.522301Z"
    },
    "papermill": {
     "duration": 0.020684,
     "end_time": "2021-02-23T01:42:09.523120",
     "exception": false,
     "start_time": "2021-02-23T01:42:09.502436",
     "status": "completed"
    },
    "tags": []
   },
   "outputs": [
    {
     "data": {
      "text/markdown": [
       "- Altcoins and DeFi sell-off after Bitcoin’s 17.6% correction below $50K.  DeFi tokens and altcoins bore the brunt of today's carnage as Bitcoin price dipped below $48,000.  ... [| Skaityti daugiau](https://cointelegraph.com/news/altcoins-and-defi-sell-off-after-bitcoin-s-17-6-correction-below-50k) "
      ],
      "text/plain": [
       "<IPython.core.display.Markdown object>"
      ]
     },
     "execution_count": 4,
     "metadata": {},
     "output_type": "execute_result"
    }
   ],
   "source": [
    "#hide_input\n",
    "#md('##### {}'.format(titleBTC)) \n",
    "md(\"- {}{} {}{} [| Skaityti daugiau]({}) \".format(btc['title'],'. ', btc['body'], ' ...', btc['url']))"
   ]
  },
  {
   "cell_type": "code",
   "execution_count": 5,
   "id": "organic-actress",
   "metadata": {
    "execution": {
     "iopub.execute_input": "2021-02-23T01:42:09.550512Z",
     "iopub.status.busy": "2021-02-23T01:42:09.549735Z",
     "iopub.status.idle": "2021-02-23T01:42:09.554204Z",
     "shell.execute_reply": "2021-02-23T01:42:09.553640Z"
    },
    "papermill": {
     "duration": 0.019605,
     "end_time": "2021-02-23T01:42:09.554334",
     "exception": false,
     "start_time": "2021-02-23T01:42:09.534729",
     "status": "completed"
    },
    "tags": []
   },
   "outputs": [
    {
     "data": {
      "text/markdown": [
       "- Price analysis 2/22: BTC, ETH, BNB, DOT, ADA, XRP, LTC, LINK, BCH, XLM.  Bitcoin and altcoins both saw a strong bounce off their intraday lows, which signals that traders still view dips as buying opportunities. ... [| Skaityti daugiau](https://cointelegraph.com/news/price-analysis-2-22-btc-eth-bnb-dot-ada-xrp-ltc-link-bch-xlm) "
      ],
      "text/plain": [
       "<IPython.core.display.Markdown object>"
      ]
     },
     "execution_count": 5,
     "metadata": {},
     "output_type": "execute_result"
    }
   ],
   "source": [
    "#hide_input\n",
    "#md('##### {}'.format(titleBTC)) \n",
    "md(\"- {}{} {}{} [| Skaityti daugiau]({}) \".format(xrp['title'],'. ', xrp['body'], ' ...', xrp['url']))"
   ]
  },
  {
   "cell_type": "code",
   "execution_count": 6,
   "id": "prompt-farmer",
   "metadata": {
    "execution": {
     "iopub.execute_input": "2021-02-23T01:42:09.583487Z",
     "iopub.status.busy": "2021-02-23T01:42:09.582824Z",
     "iopub.status.idle": "2021-02-23T01:42:09.586207Z",
     "shell.execute_reply": "2021-02-23T01:42:09.585648Z"
    },
    "papermill": {
     "duration": 0.01976,
     "end_time": "2021-02-23T01:42:09.586336",
     "exception": false,
     "start_time": "2021-02-23T01:42:09.566576",
     "status": "completed"
    },
    "tags": []
   },
   "outputs": [
    {
     "data": {
      "text/markdown": [
       "- Polkadot, Tron, Ethereum Classic Price Analysis: 22 February.  Polkadot showed signs of bearishness in the short-term and could dip beneath the $38 level once more. Tron showed that its previous bullish momentum had weakened, and Ethereum Classic was in a phase of consolidation over the past few days. Polkadot [DOT] The trading volume was steadily trending lower on the charts over the past [&#8230;] ... [| Skaityti daugiau](https://ambcrypto.com/polkadot-tron-ethereum-classic-price-analysis-22-february/) "
      ],
      "text/plain": [
       "<IPython.core.display.Markdown object>"
      ]
     },
     "execution_count": 6,
     "metadata": {},
     "output_type": "execute_result"
    }
   ],
   "source": [
    "#hide_input\n",
    "#md('##### {}'.format(titleBTC)) \n",
    "md(\"- {}{} {}{} [| Skaityti daugiau]({}) \".format(trx['title'],'. ', trx['body'], ' ...', trx['url']))"
   ]
  },
  {
   "cell_type": "code",
   "execution_count": 7,
   "id": "illegal-greece",
   "metadata": {
    "execution": {
     "iopub.execute_input": "2021-02-23T01:42:09.616321Z",
     "iopub.status.busy": "2021-02-23T01:42:09.615672Z",
     "iopub.status.idle": "2021-02-23T01:42:09.620674Z",
     "shell.execute_reply": "2021-02-23T01:42:09.621251Z"
    },
    "papermill": {
     "duration": 0.022755,
     "end_time": "2021-02-23T01:42:09.621395",
     "exception": false,
     "start_time": "2021-02-23T01:42:09.598640",
     "status": "completed"
    },
    "tags": []
   },
   "outputs": [
    {
     "data": {
      "text/markdown": [
       "- Binance Suspends Ethereum and ERC-20 Token Withdrawals Before Quickly Reversing Course.  The rollercoaster-ride in cryptocurrency prices on Monday was accompanied by Binance&#8217;s fresh restrictions for ethereum and ERC-20 tokens. Ethereum Network Congestion Fingered as the Culprit for the Temporary Halt Through the official Binance Twitter account, one of the world&#8217;s largest cryptocurrency exchanges by volume, announced that it had &#8220;temporarily suspended withdrawals of $ETH and ethereum-based [&#8230;] ... [| Skaityti daugiau](https://news.bitcoin.com/binance-suspends-ethereum-and-erc-20-token-withdrawals-before-quickly-reversing-course/) "
      ],
      "text/plain": [
       "<IPython.core.display.Markdown object>"
      ]
     },
     "execution_count": 7,
     "metadata": {},
     "output_type": "execute_result"
    }
   ],
   "source": [
    "#hide_input\n",
    "#md('##### {}'.format(titleBTC)) \n",
    "md(\"- {}{} {}{} [| Skaityti daugiau]({}) \".format(eth['title'],'. ', eth['body'], ' ...', eth['url']))"
   ]
  },
  {
   "cell_type": "code",
   "execution_count": 8,
   "id": "sublime-lounge",
   "metadata": {
    "execution": {
     "iopub.execute_input": "2021-02-23T01:42:09.652578Z",
     "iopub.status.busy": "2021-02-23T01:42:09.651913Z",
     "iopub.status.idle": "2021-02-23T01:42:09.654661Z",
     "shell.execute_reply": "2021-02-23T01:42:09.655236Z"
    },
    "papermill": {
     "duration": 0.021584,
     "end_time": "2021-02-23T01:42:09.655381",
     "exception": false,
     "start_time": "2021-02-23T01:42:09.633797",
     "status": "completed"
    },
    "tags": []
   },
   "outputs": [
    {
     "data": {
      "text/markdown": [
       "- Price analysis 2/22: BTC, ETH, BNB, DOT, ADA, XRP, LTC, LINK, BCH, XLM.  Bitcoin and altcoins both saw a strong bounce off their intraday lows, which signals that traders still view dips as buying opportunities. ... [| Skaityti daugiau](https://cointelegraph.com/news/price-analysis-2-22-btc-eth-bnb-dot-ada-xrp-ltc-link-bch-xlm) "
      ],
      "text/plain": [
       "<IPython.core.display.Markdown object>"
      ]
     },
     "execution_count": 8,
     "metadata": {},
     "output_type": "execute_result"
    }
   ],
   "source": [
    "#hide_input\n",
    "#md('##### {}'.format(titleBTC)) \n",
    "md(\"- {}{} {}{} [| Skaityti daugiau]({}) \".format(ada['title'],'. ', ada['body'], ' ...', ada['url']))"
   ]
  },
  {
   "cell_type": "code",
   "execution_count": 9,
   "id": "specified-ordering",
   "metadata": {
    "execution": {
     "iopub.execute_input": "2021-02-23T01:42:09.688294Z",
     "iopub.status.busy": "2021-02-23T01:42:09.687629Z",
     "iopub.status.idle": "2021-02-23T01:42:09.691312Z",
     "shell.execute_reply": "2021-02-23T01:42:09.690735Z"
    },
    "papermill": {
     "duration": 0.022192,
     "end_time": "2021-02-23T01:42:09.691444",
     "exception": false,
     "start_time": "2021-02-23T01:42:09.669252",
     "status": "completed"
    },
    "tags": []
   },
   "outputs": [
    {
     "data": {
      "text/markdown": [
       "- Binance Suspends Ethereum and ERC-20 Token Withdrawals Before Quickly Reversing Course.  The rollercoaster-ride in cryptocurrency prices on Monday was accompanied by Binance&#8217;s fresh restrictions for ethereum and ERC-20 tokens. Ethereum Network Congestion Fingered as the Culprit for the Temporary Halt Through the official Binance Twitter account, one of the world&#8217;s largest cryptocurrency exchanges by volume, announced that it had &#8220;temporarily suspended withdrawals of $ETH and ethereum-based [&#8230;] ... [| Skaityti daugiau](https://news.bitcoin.com/binance-suspends-ethereum-and-erc-20-token-withdrawals-before-quickly-reversing-course/) "
      ],
      "text/plain": [
       "<IPython.core.display.Markdown object>"
      ]
     },
     "execution_count": 9,
     "metadata": {},
     "output_type": "execute_result"
    }
   ],
   "source": [
    "#hide_input\n",
    "#md('##### {}'.format(titleBTC)) \n",
    "md(\"- {}{} {}{} [| Skaityti daugiau]({}) \".format(exchange['title'],'. ', exchange['body'], ' ...', exchange['url']))"
   ]
  },
  {
   "cell_type": "code",
   "execution_count": null,
   "id": "tender-livestock",
   "metadata": {
    "papermill": {
     "duration": 0.013889,
     "end_time": "2021-02-23T01:42:09.718792",
     "exception": false,
     "start_time": "2021-02-23T01:42:09.704903",
     "status": "completed"
    },
    "tags": []
   },
   "outputs": [],
   "source": []
  },
  {
   "cell_type": "code",
   "execution_count": null,
   "id": "appreciated-diamond",
   "metadata": {
    "papermill": {
     "duration": 0.013939,
     "end_time": "2021-02-23T01:42:09.747054",
     "exception": false,
     "start_time": "2021-02-23T01:42:09.733115",
     "status": "completed"
    },
    "tags": []
   },
   "outputs": [],
   "source": []
  },
  {
   "cell_type": "code",
   "execution_count": null,
   "id": "romance-sweden",
   "metadata": {
    "papermill": {
     "duration": 0.013917,
     "end_time": "2021-02-23T01:42:09.774274",
     "exception": false,
     "start_time": "2021-02-23T01:42:09.760357",
     "status": "completed"
    },
    "tags": []
   },
   "outputs": [],
   "source": []
  },
  {
   "cell_type": "code",
   "execution_count": null,
   "id": "dietary-statistics",
   "metadata": {
    "papermill": {
     "duration": 0.013287,
     "end_time": "2021-02-23T01:42:09.801121",
     "exception": false,
     "start_time": "2021-02-23T01:42:09.787834",
     "status": "completed"
    },
    "tags": []
   },
   "outputs": [],
   "source": []
  }
 ],
 "metadata": {
  "kernelspec": {
   "display_name": "Python 3",
   "language": "python",
   "name": "python3"
  },
  "language_info": {
   "codemirror_mode": {
    "name": "ipython",
    "version": 3
   },
   "file_extension": ".py",
   "mimetype": "text/x-python",
   "name": "python",
   "nbconvert_exporter": "python",
   "pygments_lexer": "ipython3",
   "version": "3.6.12"
  },
  "papermill": {
   "default_parameters": {},
   "duration": 11.097535,
   "end_time": "2021-02-23T01:42:10.221047",
   "environment_variables": {},
   "exception": null,
   "input_path": "Market-News.ipynb",
   "output_path": "Market-News.ipynb",
   "parameters": {},
   "start_time": "2021-02-23T01:41:59.123512",
   "version": "2.2.2"
  }
 },
 "nbformat": 4,
 "nbformat_minor": 5
}