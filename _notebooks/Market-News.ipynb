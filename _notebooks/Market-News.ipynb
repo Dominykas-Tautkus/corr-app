{
 "cells": [
  {
   "cell_type": "markdown",
   "id": "short-greensboro",
   "metadata": {
    "papermill": {
     "duration": 0.013241,
     "end_time": "2021-05-21T02:18:40.191434",
     "exception": false,
     "start_time": "2021-05-21T02:18:40.178193",
     "status": "completed"
    },
    "tags": []
   },
   "source": [
    "# Kriptovaliutų naujienos"
   ]
  },
  {
   "cell_type": "code",
   "execution_count": 1,
   "id": "functioning-knowing",
   "metadata": {
    "execution": {
     "iopub.execute_input": "2021-05-21T02:18:40.220436Z",
     "iopub.status.busy": "2021-05-21T02:18:40.219924Z",
     "iopub.status.idle": "2021-05-21T02:18:41.352810Z",
     "shell.execute_reply": "2021-05-21T02:18:41.352277Z"
    },
    "papermill": {
     "duration": 1.151715,
     "end_time": "2021-05-21T02:18:41.352956",
     "exception": false,
     "start_time": "2021-05-21T02:18:40.201241",
     "status": "completed"
    },
    "tags": []
   },
   "outputs": [],
   "source": [
    "#hide_input\n",
    "import warnings\n",
    "warnings.filterwarnings('ignore')\n",
    "from scripts.read_data import read_api\n",
    "from scripts.read_data import read_news\n",
    "from scripts.read_data import read_covid\n",
    "import matplotlib.pyplot as plt \n",
    "from IPython.display import Markdown as md"
   ]
  },
  {
   "cell_type": "code",
   "execution_count": 2,
   "id": "shared-acceptance",
   "metadata": {
    "execution": {
     "iopub.execute_input": "2021-05-21T02:18:41.378140Z",
     "iopub.status.busy": "2021-05-21T02:18:41.377264Z",
     "iopub.status.idle": "2021-05-21T02:18:49.179581Z",
     "shell.execute_reply": "2021-05-21T02:18:49.179109Z"
    },
    "papermill": {
     "duration": 7.816829,
     "end_time": "2021-05-21T02:18:49.179698",
     "exception": false,
     "start_time": "2021-05-21T02:18:41.362869",
     "status": "completed"
    },
    "tags": []
   },
   "outputs": [],
   "source": [
    "#hide_input\n",
    "blockchain = read_news('blockchain') \n",
    "btc = read_news('btc') \n",
    "xrp = read_news('xrp') \n",
    "trx = read_news('trx') \n",
    "eth = read_news('eth')  \n",
    "ada = read_news('ada')\n",
    "exchange = read_news('exchange') "
   ]
  },
  {
   "cell_type": "code",
   "execution_count": 3,
   "id": "synthetic-notion",
   "metadata": {
    "execution": {
     "iopub.execute_input": "2021-05-21T02:18:49.202335Z",
     "iopub.status.busy": "2021-05-21T02:18:49.201762Z",
     "iopub.status.idle": "2021-05-21T02:18:49.209594Z",
     "shell.execute_reply": "2021-05-21T02:18:49.210028Z"
    },
    "papermill": {
     "duration": 0.020806,
     "end_time": "2021-05-21T02:18:49.210168",
     "exception": false,
     "start_time": "2021-05-21T02:18:49.189362",
     "status": "completed"
    },
    "tags": []
   },
   "outputs": [
    {
     "data": {
      "text/markdown": [
       "- These Six Crypto Assets Could Rise 10x This Year, Says Trader Lark Davis.  Despite the rough crypto markets, trader Lark Davis says six digital assets have the potential to appreciate by ten times or more by the end of the year. Davis kicks off the list with layer-2 decentralized exchange protocol Injective Protocol (INJ) which he argues is currently discounted as its team prepares for launch. &#8220;I&#8217;m bringing [&#8230;]The post These Six Crypto Assets Could Rise 10x This Year, Says Trader Lark Davis appeared first on The Daily Hodl. ... [| Skaityti daugiau](https://dailyhodl.com/2021/05/20/these-six-crypto-assets-could-rise-10x-this-year-says-trader-lark-davis/) "
      ],
      "text/plain": [
       "<IPython.core.display.Markdown object>"
      ]
     },
     "execution_count": 3,
     "metadata": {},
     "output_type": "execute_result"
    }
   ],
   "source": [
    "#hide_input\n",
    "#md('##### {}'.format(titleBTC)) \n",
    "md(\"- {}{} {}{} [| Skaityti daugiau]({}) \".format(blockchain['title'],'. ', blockchain['body'], ' ...', blockchain['url']))"
   ]
  },
  {
   "cell_type": "code",
   "execution_count": 4,
   "id": "aging-caution",
   "metadata": {
    "execution": {
     "iopub.execute_input": "2021-05-21T02:18:49.233712Z",
     "iopub.status.busy": "2021-05-21T02:18:49.233142Z",
     "iopub.status.idle": "2021-05-21T02:18:49.235503Z",
     "shell.execute_reply": "2021-05-21T02:18:49.235959Z"
    },
    "papermill": {
     "duration": 0.016231,
     "end_time": "2021-05-21T02:18:49.236086",
     "exception": false,
     "start_time": "2021-05-21T02:18:49.219855",
     "status": "completed"
    },
    "tags": []
   },
   "outputs": [
    {
     "data": {
      "text/markdown": [
       "- Forget Bitcoin - 5 Reasons To Buy Coinbase Instead.  While BTC has tremendous upside potential if bullish projections play out, we invest for the best risk-reward profile, not simply the best reward potential.We believe that COIN offers investors the best risk-reward in today's crypto market.We share 5 reasons why. ... [| Skaityti daugiau](https://seekingalpha.com/article/4430338-coinbase-forget-bitcoin-5-reasons-to-buy-coinbase-instead?utm_source=cryptocompare.com&utm_medium=referral) "
      ],
      "text/plain": [
       "<IPython.core.display.Markdown object>"
      ]
     },
     "execution_count": 4,
     "metadata": {},
     "output_type": "execute_result"
    }
   ],
   "source": [
    "#hide_input\n",
    "#md('##### {}'.format(titleBTC)) \n",
    "md(\"- {}{} {}{} [| Skaityti daugiau]({}) \".format(btc['title'],'. ', btc['body'], ' ...', btc['url']))"
   ]
  },
  {
   "cell_type": "code",
   "execution_count": 5,
   "id": "organic-actress",
   "metadata": {
    "execution": {
     "iopub.execute_input": "2021-05-21T02:18:49.260730Z",
     "iopub.status.busy": "2021-05-21T02:18:49.260243Z",
     "iopub.status.idle": "2021-05-21T02:18:49.262930Z",
     "shell.execute_reply": "2021-05-21T02:18:49.263387Z"
    },
    "papermill": {
     "duration": 0.016913,
     "end_time": "2021-05-21T02:18:49.263502",
     "exception": false,
     "start_time": "2021-05-21T02:18:49.246589",
     "status": "completed"
    },
    "tags": []
   },
   "outputs": [
    {
     "data": {
      "text/markdown": [
       "- SEC blocks overseas partners from commenting on Ripple (XRP) lawsuit.  Judge Netburn denied Ripple&#8217;s motion to stop the discovery of foreign requests for assistance by the U.S Securities and Exchange Commission (SEC), as per a filing yesterday. The post SEC blocks overseas partners from commenting on Ripple (XRP) lawsuit appeared first on CryptoSlate. ... [| Skaityti daugiau](https://cryptoslate.com/sec-blocks-overseas-partners-from-commenting-on-ripple-xrp-lawsuit/) "
      ],
      "text/plain": [
       "<IPython.core.display.Markdown object>"
      ]
     },
     "execution_count": 5,
     "metadata": {},
     "output_type": "execute_result"
    }
   ],
   "source": [
    "#hide_input\n",
    "#md('##### {}'.format(titleBTC)) \n",
    "md(\"- {}{} {}{} [| Skaityti daugiau]({}) \".format(xrp['title'],'. ', xrp['body'], ' ...', xrp['url']))"
   ]
  },
  {
   "cell_type": "code",
   "execution_count": 6,
   "id": "prompt-farmer",
   "metadata": {
    "execution": {
     "iopub.execute_input": "2021-05-21T02:18:49.288371Z",
     "iopub.status.busy": "2021-05-21T02:18:49.287880Z",
     "iopub.status.idle": "2021-05-21T02:18:49.291093Z",
     "shell.execute_reply": "2021-05-21T02:18:49.290700Z"
    },
    "papermill": {
     "duration": 0.017605,
     "end_time": "2021-05-21T02:18:49.291196",
     "exception": false,
     "start_time": "2021-05-21T02:18:49.273591",
     "status": "completed"
    },
    "tags": []
   },
   "outputs": [
    {
     "data": {
      "text/markdown": [
       "- Cardano, MATIC, Tron Price Analysis: 20 May.  The short-term market has experienced wild periods of volatility while the long-term market seem to be picturing an effort towards stabilizing the price. Altcoins like Cardano [ADA], Polygon [MATIC], and Tron [TRX] did suffer a blow in value, but at the time of writing, the market was trying to recover. Cardano [ADA] After a day [&#8230;] ... [| Skaityti daugiau](https://ambcrypto.com/cardano-matic-tron-price-analysis-20-may/) "
      ],
      "text/plain": [
       "<IPython.core.display.Markdown object>"
      ]
     },
     "execution_count": 6,
     "metadata": {},
     "output_type": "execute_result"
    }
   ],
   "source": [
    "#hide_input\n",
    "#md('##### {}'.format(titleBTC)) \n",
    "md(\"- {}{} {}{} [| Skaityti daugiau]({}) \".format(trx['title'],'. ', trx['body'], ' ...', trx['url']))"
   ]
  },
  {
   "cell_type": "code",
   "execution_count": 7,
   "id": "illegal-greece",
   "metadata": {
    "execution": {
     "iopub.execute_input": "2021-05-21T02:18:49.316415Z",
     "iopub.status.busy": "2021-05-21T02:18:49.315927Z",
     "iopub.status.idle": "2021-05-21T02:18:49.318459Z",
     "shell.execute_reply": "2021-05-21T02:18:49.318912Z"
    },
    "papermill": {
     "duration": 0.017341,
     "end_time": "2021-05-21T02:18:49.319028",
     "exception": false,
     "start_time": "2021-05-21T02:18:49.301687",
     "status": "completed"
    },
    "tags": []
   },
   "outputs": [
    {
     "data": {
      "text/markdown": [
       "- Ethereum Price Analysis: 20 May.  Disclaimer: The findings of the following analysis are the sole opinions of the writer and should not be taken as investment advice Ethereum has been dropping its correlation with the Bitcoin market lately. However, the existing connection between the two largest cryptocurrencies has resulted in Ethereum mirroring the drop seen yesterday. In fact, ETH lost 50% [&#8230;] ... [| Skaityti daugiau](https://ambcrypto.com/ethereum-price-analysis-20-may/) "
      ],
      "text/plain": [
       "<IPython.core.display.Markdown object>"
      ]
     },
     "execution_count": 7,
     "metadata": {},
     "output_type": "execute_result"
    }
   ],
   "source": [
    "#hide_input\n",
    "#md('##### {}'.format(titleBTC)) \n",
    "md(\"- {}{} {}{} [| Skaityti daugiau]({}) \".format(eth['title'],'. ', eth['body'], ' ...', eth['url']))"
   ]
  },
  {
   "cell_type": "code",
   "execution_count": 8,
   "id": "sublime-lounge",
   "metadata": {
    "execution": {
     "iopub.execute_input": "2021-05-21T02:18:49.344993Z",
     "iopub.status.busy": "2021-05-21T02:18:49.344487Z",
     "iopub.status.idle": "2021-05-21T02:18:49.347070Z",
     "shell.execute_reply": "2021-05-21T02:18:49.347490Z"
    },
    "papermill": {
     "duration": 0.017909,
     "end_time": "2021-05-21T02:18:49.347603",
     "exception": false,
     "start_time": "2021-05-21T02:18:49.329694",
     "status": "completed"
    },
    "tags": []
   },
   "outputs": [
    {
     "data": {
      "text/markdown": [
       "- Publicly traded Canadian company launches Cardano (ADA) staking service.  Canadian publicly-traded company iMining will now include Cardano (ADA) in the list of supported assets for its staking services, it said in a release today. The post Publicly traded Canadian company launches Cardano (ADA) staking service appeared first on CryptoSlate. ... [| Skaityti daugiau](https://cryptoslate.com/publicly-traded-canadian-company-launches-cardano-ada-staking-service/) "
      ],
      "text/plain": [
       "<IPython.core.display.Markdown object>"
      ]
     },
     "execution_count": 8,
     "metadata": {},
     "output_type": "execute_result"
    }
   ],
   "source": [
    "#hide_input\n",
    "#md('##### {}'.format(titleBTC)) \n",
    "md(\"- {}{} {}{} [| Skaityti daugiau]({}) \".format(ada['title'],'. ', ada['body'], ' ...', ada['url']))"
   ]
  },
  {
   "cell_type": "code",
   "execution_count": 9,
   "id": "specified-ordering",
   "metadata": {
    "execution": {
     "iopub.execute_input": "2021-05-21T02:18:49.373884Z",
     "iopub.status.busy": "2021-05-21T02:18:49.372771Z",
     "iopub.status.idle": "2021-05-21T02:18:49.376769Z",
     "shell.execute_reply": "2021-05-21T02:18:49.376378Z"
    },
    "papermill": {
     "duration": 0.018309,
     "end_time": "2021-05-21T02:18:49.376872",
     "exception": false,
     "start_time": "2021-05-21T02:18:49.358563",
     "status": "completed"
    },
    "tags": []
   },
   "outputs": [
    {
     "data": {
      "text/markdown": [
       "- These Six Crypto Assets Could Rise 10x This Year, Says Trader Lark Davis.  Despite the rough crypto markets, trader Lark Davis says six digital assets have the potential to appreciate by ten times or more by the end of the year. Davis kicks off the list with layer-2 decentralized exchange protocol Injective Protocol (INJ) which he argues is currently discounted as its team prepares for launch. &#8220;I&#8217;m bringing [&#8230;]The post These Six Crypto Assets Could Rise 10x This Year, Says Trader Lark Davis appeared first on The Daily Hodl. ... [| Skaityti daugiau](https://dailyhodl.com/2021/05/20/these-six-crypto-assets-could-rise-10x-this-year-says-trader-lark-davis/) "
      ],
      "text/plain": [
       "<IPython.core.display.Markdown object>"
      ]
     },
     "execution_count": 9,
     "metadata": {},
     "output_type": "execute_result"
    }
   ],
   "source": [
    "#hide_input\n",
    "#md('##### {}'.format(titleBTC)) \n",
    "md(\"- {}{} {}{} [| Skaityti daugiau]({}) \".format(exchange['title'],'. ', exchange['body'], ' ...', exchange['url']))"
   ]
  },
  {
   "cell_type": "code",
   "execution_count": null,
   "id": "tender-livestock",
   "metadata": {
    "papermill": {
     "duration": 0.011238,
     "end_time": "2021-05-21T02:18:49.399431",
     "exception": false,
     "start_time": "2021-05-21T02:18:49.388193",
     "status": "completed"
    },
    "tags": []
   },
   "outputs": [],
   "source": []
  },
  {
   "cell_type": "code",
   "execution_count": null,
   "id": "appreciated-diamond",
   "metadata": {
    "papermill": {
     "duration": 0.011256,
     "end_time": "2021-05-21T02:18:49.422088",
     "exception": false,
     "start_time": "2021-05-21T02:18:49.410832",
     "status": "completed"
    },
    "tags": []
   },
   "outputs": [],
   "source": []
  },
  {
   "cell_type": "code",
   "execution_count": null,
   "id": "romance-sweden",
   "metadata": {
    "papermill": {
     "duration": 0.011128,
     "end_time": "2021-05-21T02:18:49.444442",
     "exception": false,
     "start_time": "2021-05-21T02:18:49.433314",
     "status": "completed"
    },
    "tags": []
   },
   "outputs": [],
   "source": []
  },
  {
   "cell_type": "code",
   "execution_count": null,
   "id": "dietary-statistics",
   "metadata": {
    "papermill": {
     "duration": 0.011176,
     "end_time": "2021-05-21T02:18:49.466841",
     "exception": false,
     "start_time": "2021-05-21T02:18:49.455665",
     "status": "completed"
    },
    "tags": []
   },
   "outputs": [],
   "source": []
  }
 ],
 "metadata": {
  "kernelspec": {
   "display_name": "Python 3",
   "language": "python",
   "name": "python3"
  },
  "language_info": {
   "codemirror_mode": {
    "name": "ipython",
    "version": 3
   },
   "file_extension": ".py",
   "mimetype": "text/x-python",
   "name": "python",
   "nbconvert_exporter": "python",
   "pygments_lexer": "ipython3",
   "version": "3.6.13"
  },
  "papermill": {
   "default_parameters": {},
   "duration": 10.939053,
   "end_time": "2021-05-21T02:18:49.884706",
   "environment_variables": {},
   "exception": null,
   "input_path": "Market-News.ipynb",
   "output_path": "Market-News.ipynb",
   "parameters": {},
   "start_time": "2021-05-21T02:18:38.945653",
   "version": "2.2.2"
  }
 },
 "nbformat": 4,
 "nbformat_minor": 5
}