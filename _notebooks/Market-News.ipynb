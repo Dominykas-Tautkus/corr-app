{
 "cells": [
  {
   "cell_type": "markdown",
   "id": "short-greensboro",
   "metadata": {
    "papermill": {
     "duration": 0.019593,
     "end_time": "2021-02-20T01:39:20.872829",
     "exception": false,
     "start_time": "2021-02-20T01:39:20.853236",
     "status": "completed"
    },
    "tags": []
   },
   "source": [
    "# Kriptovaliutų naujienos"
   ]
  },
  {
   "cell_type": "code",
   "execution_count": 1,
   "id": "functioning-knowing",
   "metadata": {
    "execution": {
     "iopub.execute_input": "2021-02-20T01:39:20.904415Z",
     "iopub.status.busy": "2021-02-20T01:39:20.903811Z",
     "iopub.status.idle": "2021-02-20T01:39:22.182000Z",
     "shell.execute_reply": "2021-02-20T01:39:22.182723Z"
    },
    "papermill": {
     "duration": 1.299385,
     "end_time": "2021-02-20T01:39:22.182968",
     "exception": false,
     "start_time": "2021-02-20T01:39:20.883583",
     "status": "completed"
    },
    "tags": []
   },
   "outputs": [],
   "source": [
    "#hide_input\n",
    "import warnings\n",
    "warnings.filterwarnings('ignore')\n",
    "from scripts.read_data import read_api\n",
    "from scripts.read_data import read_news\n",
    "from scripts.read_data import read_covid\n",
    "import matplotlib.pyplot as plt \n",
    "from IPython.display import Markdown as md"
   ]
  },
  {
   "cell_type": "code",
   "execution_count": 2,
   "id": "shared-acceptance",
   "metadata": {
    "execution": {
     "iopub.execute_input": "2021-02-20T01:39:22.213071Z",
     "iopub.status.busy": "2021-02-20T01:39:22.211743Z",
     "iopub.status.idle": "2021-02-20T01:39:30.037239Z",
     "shell.execute_reply": "2021-02-20T01:39:30.036678Z"
    },
    "papermill": {
     "duration": 7.842919,
     "end_time": "2021-02-20T01:39:30.037370",
     "exception": false,
     "start_time": "2021-02-20T01:39:22.194451",
     "status": "completed"
    },
    "tags": []
   },
   "outputs": [],
   "source": [
    "#hide_input\n",
    "blockchain = read_news('blockchain') \n",
    "btc = read_news('btc') \n",
    "xrp = read_news('xrp') \n",
    "trx = read_news('trx') \n",
    "eth = read_news('eth')  \n",
    "ada = read_news('ada')\n",
    "exchange = read_news('exchange') "
   ]
  },
  {
   "cell_type": "code",
   "execution_count": 3,
   "id": "synthetic-notion",
   "metadata": {
    "execution": {
     "iopub.execute_input": "2021-02-20T01:39:30.069137Z",
     "iopub.status.busy": "2021-02-20T01:39:30.068548Z",
     "iopub.status.idle": "2021-02-20T01:39:30.076952Z",
     "shell.execute_reply": "2021-02-20T01:39:30.076335Z"
    },
    "papermill": {
     "duration": 0.029297,
     "end_time": "2021-02-20T01:39:30.077083",
     "exception": false,
     "start_time": "2021-02-20T01:39:30.047786",
     "status": "completed"
    },
    "tags": []
   },
   "outputs": [
    {
     "data": {
      "text/markdown": [
       "- dYdX founder unpacks Ethereum scaling and DeFi derivatives.  The Scoop podcast's latest guest is Antonio Juliano, founder of decentralized derivatives exchange dYdX.The post dYdX founder unpacks Ethereum scaling and DeFi derivatives appeared first on The Block. ... [| Skaityti daugiau](https://www.theblockcrypto.com/post/95435/dydx-founder-unpacks-ethereum-scaling-defi-derivatives?utm_source=cryptocompare&utm_medium=rss) "
      ],
      "text/plain": [
       "<IPython.core.display.Markdown object>"
      ]
     },
     "execution_count": 3,
     "metadata": {},
     "output_type": "execute_result"
    }
   ],
   "source": [
    "#hide_input\n",
    "#md('##### {}'.format(titleBTC)) \n",
    "md(\"- {}{} {}{} [| Skaityti daugiau]({}) \".format(blockchain['title'],'. ', blockchain['body'], ' ...', blockchain['url']))"
   ]
  },
  {
   "cell_type": "code",
   "execution_count": 4,
   "id": "aging-caution",
   "metadata": {
    "execution": {
     "iopub.execute_input": "2021-02-20T01:39:30.105530Z",
     "iopub.status.busy": "2021-02-20T01:39:30.104935Z",
     "iopub.status.idle": "2021-02-20T01:39:30.108230Z",
     "shell.execute_reply": "2021-02-20T01:39:30.108665Z"
    },
    "papermill": {
     "duration": 0.021308,
     "end_time": "2021-02-20T01:39:30.108787",
     "exception": false,
     "start_time": "2021-02-20T01:39:30.087479",
     "status": "completed"
    },
    "tags": []
   },
   "outputs": [
    {
     "data": {
      "text/markdown": [
       "- Elon Musk says only a “fool” wouldn’t look into Bitcoin.  The Tesla CEO made the comment on Twitter today, weeks after his company purchased over $1.5 billion worth of Bitcoin. The post Elon Musk says only a &#8220;fool&#8221; wouldn&#8217;t look into Bitcoin appeared first on CryptoSlate. ... [| Skaityti daugiau](https://cryptoslate.com/elon-musk-says-only-a-fool-wouldnt-look-into-bitcoin/) "
      ],
      "text/plain": [
       "<IPython.core.display.Markdown object>"
      ]
     },
     "execution_count": 4,
     "metadata": {},
     "output_type": "execute_result"
    }
   ],
   "source": [
    "#hide_input\n",
    "#md('##### {}'.format(titleBTC)) \n",
    "md(\"- {}{} {}{} [| Skaityti daugiau]({}) \".format(btc['title'],'. ', btc['body'], ' ...', btc['url']))"
   ]
  },
  {
   "cell_type": "code",
   "execution_count": 5,
   "id": "organic-actress",
   "metadata": {
    "execution": {
     "iopub.execute_input": "2021-02-20T01:39:30.134522Z",
     "iopub.status.busy": "2021-02-20T01:39:30.133983Z",
     "iopub.status.idle": "2021-02-20T01:39:30.136949Z",
     "shell.execute_reply": "2021-02-20T01:39:30.137550Z"
    },
    "papermill": {
     "duration": 0.018983,
     "end_time": "2021-02-20T01:39:30.137842",
     "exception": false,
     "start_time": "2021-02-20T01:39:30.118859",
     "status": "completed"
    },
    "tags": []
   },
   "outputs": [
    {
     "data": {
      "text/markdown": [
       "- Whale Abruptly Moves 220,000,000 XRP – Here’s Where the Crypto Is Going.  A multi million-dollar stash of XRP is on the move. The blockchain tracker Whale Alert has spotted more than 220 million XRP worth about $122 million heading from Coinbase to an unknown wallet. The fee for the huge transfer was just 20 XRP worth about $1.05. The transaction comes nearly a month after trading of the [&#8230;]The post Whale Abruptly Moves 220,000,000 XRP – Here&#8217;s Where the Crypto Is Going appeared first on The Daily Hodl. ... [| Skaityti daugiau](https://dailyhodl.com/2021/02/19/whale-abruptly-moves-220000000-xrp-heres-where-the-crypto-is-going/) "
      ],
      "text/plain": [
       "<IPython.core.display.Markdown object>"
      ]
     },
     "execution_count": 5,
     "metadata": {},
     "output_type": "execute_result"
    }
   ],
   "source": [
    "#hide_input\n",
    "#md('##### {}'.format(titleBTC)) \n",
    "md(\"- {}{} {}{} [| Skaityti daugiau]({}) \".format(xrp['title'],'. ', xrp['body'], ' ...', xrp['url']))"
   ]
  },
  {
   "cell_type": "code",
   "execution_count": 6,
   "id": "prompt-farmer",
   "metadata": {
    "execution": {
     "iopub.execute_input": "2021-02-20T01:39:30.168437Z",
     "iopub.status.busy": "2021-02-20T01:39:30.167826Z",
     "iopub.status.idle": "2021-02-20T01:39:30.169916Z",
     "shell.execute_reply": "2021-02-20T01:39:30.170471Z"
    },
    "papermill": {
     "duration": 0.018574,
     "end_time": "2021-02-20T01:39:30.170591",
     "exception": false,
     "start_time": "2021-02-20T01:39:30.152017",
     "status": "completed"
    },
    "tags": []
   },
   "outputs": [
    {
     "data": {
      "text/markdown": [
       "- Tron's Emoji Gets Into Awkward Situation While Justin Sun Goes \"All In\" On DeFi.  Justin Sun's Tron (TRX) has attracted more unwanted media attention this week after French politician Georges Tron was convicted of rape and sexual abuse of staff, flooding France’s social media with the #tron hashtag and the protocol’s logo. On French social media, in many instances, the hashtag #tron, which automatically adds Tron's logo, was accompanied by ... [| Skaityti daugiau](https://cryptonews.com/news/tron-s-emoji-gets-into-awkward-situation-while-justin-sun-go-9281.htm) "
      ],
      "text/plain": [
       "<IPython.core.display.Markdown object>"
      ]
     },
     "execution_count": 6,
     "metadata": {},
     "output_type": "execute_result"
    }
   ],
   "source": [
    "#hide_input\n",
    "#md('##### {}'.format(titleBTC)) \n",
    "md(\"- {}{} {}{} [| Skaityti daugiau]({}) \".format(trx['title'],'. ', trx['body'], ' ...', trx['url']))"
   ]
  },
  {
   "cell_type": "code",
   "execution_count": 7,
   "id": "illegal-greece",
   "metadata": {
    "execution": {
     "iopub.execute_input": "2021-02-20T01:39:30.202579Z",
     "iopub.status.busy": "2021-02-20T01:39:30.202038Z",
     "iopub.status.idle": "2021-02-20T01:39:30.205637Z",
     "shell.execute_reply": "2021-02-20T01:39:30.204934Z"
    },
    "papermill": {
     "duration": 0.022728,
     "end_time": "2021-02-20T01:39:30.205781",
     "exception": false,
     "start_time": "2021-02-20T01:39:30.183053",
     "status": "completed"
    },
    "tags": []
   },
   "outputs": [
    {
     "data": {
      "text/markdown": [
       "- dYdX founder unpacks Ethereum scaling and DeFi derivatives.  The Scoop podcast's latest guest is Antonio Juliano, founder of decentralized derivatives exchange dYdX.The post dYdX founder unpacks Ethereum scaling and DeFi derivatives appeared first on The Block. ... [| Skaityti daugiau](https://www.theblockcrypto.com/post/95435/dydx-founder-unpacks-ethereum-scaling-defi-derivatives?utm_source=cryptocompare&utm_medium=rss) "
      ],
      "text/plain": [
       "<IPython.core.display.Markdown object>"
      ]
     },
     "execution_count": 7,
     "metadata": {},
     "output_type": "execute_result"
    }
   ],
   "source": [
    "#hide_input\n",
    "#md('##### {}'.format(titleBTC)) \n",
    "md(\"- {}{} {}{} [| Skaityti daugiau]({}) \".format(eth['title'],'. ', eth['body'], ' ...', eth['url']))"
   ]
  },
  {
   "cell_type": "code",
   "execution_count": 8,
   "id": "sublime-lounge",
   "metadata": {
    "execution": {
     "iopub.execute_input": "2021-02-20T01:39:30.237115Z",
     "iopub.status.busy": "2021-02-20T01:39:30.236530Z",
     "iopub.status.idle": "2021-02-20T01:39:30.239980Z",
     "shell.execute_reply": "2021-02-20T01:39:30.240536Z"
    },
    "papermill": {
     "duration": 0.022093,
     "end_time": "2021-02-20T01:39:30.240666",
     "exception": false,
     "start_time": "2021-02-20T01:39:30.218573",
     "status": "completed"
    },
    "tags": []
   },
   "outputs": [
    {
     "data": {
      "text/markdown": [
       "- Gene Simmons buys $300,000 worth of Cardano, cause ‘it’s cheaper than bitcoin’.  With ADA trading under a dollar and gradually making its way to new highs, the token has received some much-needed celebrity endorsement. Gene Simmons, lead singer of rock band Kiss recently purchased $300,000 worth of ADA. Whether the tweet could nudge Cardano’s native token’s price to over a dollar, remains uncertain for now. However, at [&#8230;] ... [| Skaityti daugiau](https://ambcrypto.com/gene-simmons-buys-300000-worth-of-cardano-cause-its-cheaper-than-bitcoin/) "
      ],
      "text/plain": [
       "<IPython.core.display.Markdown object>"
      ]
     },
     "execution_count": 8,
     "metadata": {},
     "output_type": "execute_result"
    }
   ],
   "source": [
    "#hide_input\n",
    "#md('##### {}'.format(titleBTC)) \n",
    "md(\"- {}{} {}{} [| Skaityti daugiau]({}) \".format(ada['title'],'. ', ada['body'], ' ...', ada['url']))"
   ]
  },
  {
   "cell_type": "code",
   "execution_count": 9,
   "id": "specified-ordering",
   "metadata": {
    "execution": {
     "iopub.execute_input": "2021-02-20T01:39:30.271692Z",
     "iopub.status.busy": "2021-02-20T01:39:30.270847Z",
     "iopub.status.idle": "2021-02-20T01:39:30.273428Z",
     "shell.execute_reply": "2021-02-20T01:39:30.273888Z"
    },
    "papermill": {
     "duration": 0.020895,
     "end_time": "2021-02-20T01:39:30.274016",
     "exception": false,
     "start_time": "2021-02-20T01:39:30.253121",
     "status": "completed"
    },
    "tags": []
   },
   "outputs": [
    {
     "data": {
      "text/markdown": [
       "- dYdX founder unpacks Ethereum scaling and DeFi derivatives.  The Scoop podcast's latest guest is Antonio Juliano, founder of decentralized derivatives exchange dYdX.The post dYdX founder unpacks Ethereum scaling and DeFi derivatives appeared first on The Block. ... [| Skaityti daugiau](https://www.theblockcrypto.com/post/95435/dydx-founder-unpacks-ethereum-scaling-defi-derivatives?utm_source=cryptocompare&utm_medium=rss) "
      ],
      "text/plain": [
       "<IPython.core.display.Markdown object>"
      ]
     },
     "execution_count": 9,
     "metadata": {},
     "output_type": "execute_result"
    }
   ],
   "source": [
    "#hide_input\n",
    "#md('##### {}'.format(titleBTC)) \n",
    "md(\"- {}{} {}{} [| Skaityti daugiau]({}) \".format(exchange['title'],'. ', exchange['body'], ' ...', exchange['url']))"
   ]
  },
  {
   "cell_type": "code",
   "execution_count": null,
   "id": "tender-livestock",
   "metadata": {
    "papermill": {
     "duration": 0.012672,
     "end_time": "2021-02-20T01:39:30.300847",
     "exception": false,
     "start_time": "2021-02-20T01:39:30.288175",
     "status": "completed"
    },
    "tags": []
   },
   "outputs": [],
   "source": []
  },
  {
   "cell_type": "code",
   "execution_count": null,
   "id": "appreciated-diamond",
   "metadata": {
    "papermill": {
     "duration": 0.013464,
     "end_time": "2021-02-20T01:39:30.327292",
     "exception": false,
     "start_time": "2021-02-20T01:39:30.313828",
     "status": "completed"
    },
    "tags": []
   },
   "outputs": [],
   "source": []
  },
  {
   "cell_type": "code",
   "execution_count": null,
   "id": "romance-sweden",
   "metadata": {
    "papermill": {
     "duration": 0.013245,
     "end_time": "2021-02-20T01:39:30.353898",
     "exception": false,
     "start_time": "2021-02-20T01:39:30.340653",
     "status": "completed"
    },
    "tags": []
   },
   "outputs": [],
   "source": []
  },
  {
   "cell_type": "code",
   "execution_count": null,
   "id": "dietary-statistics",
   "metadata": {
    "papermill": {
     "duration": 0.012705,
     "end_time": "2021-02-20T01:39:30.379336",
     "exception": false,
     "start_time": "2021-02-20T01:39:30.366631",
     "status": "completed"
    },
    "tags": []
   },
   "outputs": [],
   "source": []
  }
 ],
 "metadata": {
  "kernelspec": {
   "display_name": "Python 3",
   "language": "python",
   "name": "python3"
  },
  "language_info": {
   "codemirror_mode": {
    "name": "ipython",
    "version": 3
   },
   "file_extension": ".py",
   "mimetype": "text/x-python",
   "name": "python",
   "nbconvert_exporter": "python",
   "pygments_lexer": "ipython3",
   "version": "3.6.12"
  },
  "papermill": {
   "default_parameters": {},
   "duration": 11.233181,
   "end_time": "2021-02-20T01:39:30.799274",
   "environment_variables": {},
   "exception": null,
   "input_path": "Market-News.ipynb",
   "output_path": "Market-News.ipynb",
   "parameters": {},
   "start_time": "2021-02-20T01:39:19.566093",
   "version": "2.2.2"
  }
 },
 "nbformat": 4,
 "nbformat_minor": 5
}