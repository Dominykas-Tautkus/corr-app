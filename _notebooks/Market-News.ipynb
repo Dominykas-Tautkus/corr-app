{
 "cells": [
  {
   "cell_type": "markdown",
   "metadata": {
    "papermill": {
     "duration": 0.012368,
     "end_time": "2020-12-31T14:43:46.955704",
     "exception": false,
     "start_time": "2020-12-31T14:43:46.943336",
     "status": "completed"
    },
    "tags": []
   },
   "source": [
    "# Kriptovaliutų naujienos"
   ]
  },
  {
   "cell_type": "code",
   "execution_count": 1,
   "metadata": {
    "execution": {
     "iopub.execute_input": "2020-12-31T14:43:46.984905Z",
     "iopub.status.busy": "2020-12-31T14:43:46.984337Z",
     "iopub.status.idle": "2020-12-31T14:43:48.058445Z",
     "shell.execute_reply": "2020-12-31T14:43:48.057283Z"
    },
    "papermill": {
     "duration": 1.095709,
     "end_time": "2020-12-31T14:43:48.058611",
     "exception": false,
     "start_time": "2020-12-31T14:43:46.962902",
     "status": "completed"
    },
    "tags": []
   },
   "outputs": [],
   "source": [
    "#hide_input\n",
    "import warnings\n",
    "warnings.filterwarnings('ignore')\n",
    "from scripts.read_data import read_api\n",
    "from scripts.read_data import read_news\n",
    "from scripts.read_data import read_covid\n",
    "import matplotlib.pyplot as plt \n",
    "from IPython.display import Markdown as md"
   ]
  },
  {
   "cell_type": "code",
   "execution_count": 2,
   "metadata": {
    "execution": {
     "iopub.execute_input": "2020-12-31T14:43:48.077493Z",
     "iopub.status.busy": "2020-12-31T14:43:48.077010Z",
     "iopub.status.idle": "2020-12-31T14:43:55.619661Z",
     "shell.execute_reply": "2020-12-31T14:43:55.618475Z"
    },
    "papermill": {
     "duration": 7.553738,
     "end_time": "2020-12-31T14:43:55.619784",
     "exception": false,
     "start_time": "2020-12-31T14:43:48.066046",
     "status": "completed"
    },
    "tags": []
   },
   "outputs": [],
   "source": [
    "#hide_input\n",
    "blockchain = read_news('blockchain') \n",
    "btc = read_news('btc') \n",
    "xrp = read_news('xrp') \n",
    "trx = read_news('trx') \n",
    "eth = read_news('eth')  \n",
    "ada = read_news('ada')\n",
    "exchange = read_news('exchange') "
   ]
  },
  {
   "cell_type": "code",
   "execution_count": 3,
   "metadata": {
    "execution": {
     "iopub.execute_input": "2020-12-31T14:43:55.639118Z",
     "iopub.status.busy": "2020-12-31T14:43:55.638577Z",
     "iopub.status.idle": "2020-12-31T14:43:55.644808Z",
     "shell.execute_reply": "2020-12-31T14:43:55.644352Z"
    },
    "papermill": {
     "duration": 0.017508,
     "end_time": "2020-12-31T14:43:55.644919",
     "exception": false,
     "start_time": "2020-12-31T14:43:55.627411",
     "status": "completed"
    },
    "tags": []
   },
   "outputs": [
    {
     "data": {
      "text/markdown": [
       "- Cover Protocol announces compensation plan following mining contract attack.  Cover Protocol will distribute new \"coins\" to token holders as Binance announces compensation for affected traders. ... [| Skaityti daugiau](https://cointelegraph.com/news/cover-protocol-announces-compensation-plan-following-mining-contract-attack) "
      ],
      "text/plain": [
       "<IPython.core.display.Markdown object>"
      ]
     },
     "execution_count": 3,
     "metadata": {},
     "output_type": "execute_result"
    }
   ],
   "source": [
    "#hide_input\n",
    "#md('##### {}'.format(titleBTC)) \n",
    "md(\"- {}{} {}{} [| Skaityti daugiau]({}) \".format(blockchain['title'],'. ', blockchain['body'], ' ...', blockchain['url']))"
   ]
  },
  {
   "cell_type": "code",
   "execution_count": 4,
   "metadata": {
    "execution": {
     "iopub.execute_input": "2020-12-31T14:43:55.663945Z",
     "iopub.status.busy": "2020-12-31T14:43:55.663396Z",
     "iopub.status.idle": "2020-12-31T14:43:55.668875Z",
     "shell.execute_reply": "2020-12-31T14:43:55.668372Z"
    },
    "papermill": {
     "duration": 0.017284,
     "end_time": "2020-12-31T14:43:55.668986",
     "exception": false,
     "start_time": "2020-12-31T14:43:55.651702",
     "status": "completed"
    },
    "tags": []
   },
   "outputs": [
    {
     "data": {
      "text/markdown": [
       "- Bitfinex CTO: Tether Is Registered and Regulated Under FinCEN- USDT Not Next Target of the US SEC.  The CTO at Bitfinex Paolo Ardoino has pushed back against rumours that the company&#8217;s Tether stablecoin may be the next target of the U.S. Securities and Exchange Commission (SEC). The Bitfinex executive insists that the Tether stablecoin, whose market capitalization has now surpassed $20 billion, is a properly registered and regulated crypto. The Alleged Misinformation [&#8230;]The post Bitfinex CTO: Tether Is Registered and Regulated Under FinCEN- USDT Not Next Target of the US SEC appeared first on Bitcoin News. ... [| Skaityti daugiau](https://news.bitcoin.com/bitfinex-cto-tether-is-registered-and-regulated-under-fincen-usdt-not-next-target-of-the-us-sec/) "
      ],
      "text/plain": [
       "<IPython.core.display.Markdown object>"
      ]
     },
     "execution_count": 4,
     "metadata": {},
     "output_type": "execute_result"
    }
   ],
   "source": [
    "#hide_input\n",
    "#md('##### {}'.format(titleBTC)) \n",
    "md(\"- {}{} {}{} [| Skaityti daugiau]({}) \".format(btc['title'],'. ', btc['body'], ' ...', btc['url']))"
   ]
  },
  {
   "cell_type": "code",
   "execution_count": 5,
   "metadata": {
    "execution": {
     "iopub.execute_input": "2020-12-31T14:43:55.689806Z",
     "iopub.status.busy": "2020-12-31T14:43:55.689290Z",
     "iopub.status.idle": "2020-12-31T14:43:55.691698Z",
     "shell.execute_reply": "2020-12-31T14:43:55.692105Z"
    },
    "papermill": {
     "duration": 0.015372,
     "end_time": "2020-12-31T14:43:55.692234",
     "exception": false,
     "start_time": "2020-12-31T14:43:55.676862",
     "status": "completed"
    },
    "tags": []
   },
   "outputs": [
    {
     "data": {
      "text/markdown": [
       "- Bitfinex CTO: Tether Is Registered and Regulated Under FinCEN- USDT Not Next Target of the US SEC.  The CTO at Bitfinex Paolo Ardoino has pushed back against rumours that the company&#8217;s Tether stablecoin may be the next target of the U.S. Securities and Exchange Commission (SEC). The Bitfinex executive insists that the Tether stablecoin, whose market capitalization has now surpassed $20 billion, is a properly registered and regulated crypto. The Alleged Misinformation [&#8230;]The post Bitfinex CTO: Tether Is Registered and Regulated Under FinCEN- USDT Not Next Target of the US SEC appeared first on Bitcoin News. ... [| Skaityti daugiau](https://news.bitcoin.com/bitfinex-cto-tether-is-registered-and-regulated-under-fincen-usdt-not-next-target-of-the-us-sec/) "
      ],
      "text/plain": [
       "<IPython.core.display.Markdown object>"
      ]
     },
     "execution_count": 5,
     "metadata": {},
     "output_type": "execute_result"
    }
   ],
   "source": [
    "#hide_input\n",
    "#md('##### {}'.format(titleBTC)) \n",
    "md(\"- {}{} {}{} [| Skaityti daugiau]({}) \".format(xrp['title'],'. ', xrp['body'], ' ...', xrp['url']))"
   ]
  },
  {
   "cell_type": "code",
   "execution_count": 6,
   "metadata": {
    "execution": {
     "iopub.execute_input": "2020-12-31T14:43:55.713006Z",
     "iopub.status.busy": "2020-12-31T14:43:55.712459Z",
     "iopub.status.idle": "2020-12-31T14:43:55.715070Z",
     "shell.execute_reply": "2020-12-31T14:43:55.715527Z"
    },
    "papermill": {
     "duration": 0.015323,
     "end_time": "2020-12-31T14:43:55.715663",
     "exception": false,
     "start_time": "2020-12-31T14:43:55.700340",
     "status": "completed"
    },
    "tags": []
   },
   "outputs": [
    {
     "data": {
      "text/markdown": [
       "- Tron, Synthetix, DigiByte Price Analysis: 31 December.  After a few weeks of substantial price movement on the charts, many of the market’s altcoins are now seeing their values stabilize. In the past 24-hours, altcoins like Tron and Synthetix saw their prices settle down, while Digibyte fell by over 8 percent. Tron [TRX] Tron, at the time of writing, occupied the 17th spot [&#8230;] ... [| Skaityti daugiau](https://ambcrypto.com/tron-synthetix-digibyte-price-analysis-31-december/) "
      ],
      "text/plain": [
       "<IPython.core.display.Markdown object>"
      ]
     },
     "execution_count": 6,
     "metadata": {},
     "output_type": "execute_result"
    }
   ],
   "source": [
    "#hide_input\n",
    "#md('##### {}'.format(titleBTC)) \n",
    "md(\"- {}{} {}{} [| Skaityti daugiau]({}) \".format(trx['title'],'. ', trx['body'], ' ...', trx['url']))"
   ]
  },
  {
   "cell_type": "code",
   "execution_count": 7,
   "metadata": {
    "execution": {
     "iopub.execute_input": "2020-12-31T14:43:55.738613Z",
     "iopub.status.busy": "2020-12-31T14:43:55.738045Z",
     "iopub.status.idle": "2020-12-31T14:43:55.740616Z",
     "shell.execute_reply": "2020-12-31T14:43:55.741043Z"
    },
    "papermill": {
     "duration": 0.017083,
     "end_time": "2020-12-31T14:43:55.741162",
     "exception": false,
     "start_time": "2020-12-31T14:43:55.724079",
     "status": "completed"
    },
    "tags": []
   },
   "outputs": [
    {
     "data": {
      "text/markdown": [
       "- Ethereum Posts 450% Gain in 2020, Beats Bitcoin.  ETH price jumped from $129 in January 2020 to nearly $750 in December. ... [| Skaityti daugiau](https://www.financemagnates.com/cryptocurrency/news/ethereum-posts-450-gain-in-2020-beats-bitcoin/) "
      ],
      "text/plain": [
       "<IPython.core.display.Markdown object>"
      ]
     },
     "execution_count": 7,
     "metadata": {},
     "output_type": "execute_result"
    }
   ],
   "source": [
    "#hide_input\n",
    "#md('##### {}'.format(titleBTC)) \n",
    "md(\"- {}{} {}{} [| Skaityti daugiau]({}) \".format(eth['title'],'. ', eth['body'], ' ...', eth['url']))"
   ]
  },
  {
   "cell_type": "code",
   "execution_count": 8,
   "metadata": {
    "execution": {
     "iopub.execute_input": "2020-12-31T14:43:55.763608Z",
     "iopub.status.busy": "2020-12-31T14:43:55.763087Z",
     "iopub.status.idle": "2020-12-31T14:43:55.765508Z",
     "shell.execute_reply": "2020-12-31T14:43:55.765903Z"
    },
    "papermill": {
     "duration": 0.015601,
     "end_time": "2020-12-31T14:43:55.766008",
     "exception": false,
     "start_time": "2020-12-31T14:43:55.750407",
     "status": "completed"
    },
    "tags": []
   },
   "outputs": [
    {
     "data": {
      "text/markdown": [
       "- ‘I do not consider Ethereum Classic my child,’ says Cardano’s Hoskinson.  &#8220;I do not consider ETC my child and I have no expectations from the project,&#8221; IOHK&#8217;s Charles Hoskinson said during a recent AMA, remarks that were greeted with surprise by some since he was one of the co-founders of Ethereum back in 2013. While conducting a special New Year&#8217;s Eve AMA, the Cardano Founder went [&#8230;] ... [| Skaityti daugiau](https://ambcrypto.com/i-do-not-consider-ethereum-classic-my-child-says-cardanos-hoskinson/) "
      ],
      "text/plain": [
       "<IPython.core.display.Markdown object>"
      ]
     },
     "execution_count": 8,
     "metadata": {},
     "output_type": "execute_result"
    }
   ],
   "source": [
    "#hide_input\n",
    "#md('##### {}'.format(titleBTC)) \n",
    "md(\"- {}{} {}{} [| Skaityti daugiau]({}) \".format(ada['title'],'. ', ada['body'], ' ...', ada['url']))"
   ]
  },
  {
   "cell_type": "code",
   "execution_count": 9,
   "metadata": {
    "execution": {
     "iopub.execute_input": "2020-12-31T14:43:55.787776Z",
     "iopub.status.busy": "2020-12-31T14:43:55.787246Z",
     "iopub.status.idle": "2020-12-31T14:43:55.789739Z",
     "shell.execute_reply": "2020-12-31T14:43:55.790172Z"
    },
    "papermill": {
     "duration": 0.016396,
     "end_time": "2020-12-31T14:43:55.790290",
     "exception": false,
     "start_time": "2020-12-31T14:43:55.773894",
     "status": "completed"
    },
    "tags": []
   },
   "outputs": [
    {
     "data": {
      "text/markdown": [
       "- Bitfinex CTO: Tether Is Registered and Regulated Under FinCEN- USDT Not Next Target of the US SEC.  The CTO at Bitfinex Paolo Ardoino has pushed back against rumours that the company&#8217;s Tether stablecoin may be the next target of the U.S. Securities and Exchange Commission (SEC). The Bitfinex executive insists that the Tether stablecoin, whose market capitalization has now surpassed $20 billion, is a properly registered and regulated crypto. The Alleged Misinformation [&#8230;]The post Bitfinex CTO: Tether Is Registered and Regulated Under FinCEN- USDT Not Next Target of the US SEC appeared first on Bitcoin News. ... [| Skaityti daugiau](https://news.bitcoin.com/bitfinex-cto-tether-is-registered-and-regulated-under-fincen-usdt-not-next-target-of-the-us-sec/) "
      ],
      "text/plain": [
       "<IPython.core.display.Markdown object>"
      ]
     },
     "execution_count": 9,
     "metadata": {},
     "output_type": "execute_result"
    }
   ],
   "source": [
    "#hide_input\n",
    "#md('##### {}'.format(titleBTC)) \n",
    "md(\"- {}{} {}{} [| Skaityti daugiau]({}) \".format(exchange['title'],'. ', exchange['body'], ' ...', exchange['url']))"
   ]
  },
  {
   "cell_type": "code",
   "execution_count": null,
   "metadata": {
    "papermill": {
     "duration": 0.009258,
     "end_time": "2020-12-31T14:43:55.809056",
     "exception": false,
     "start_time": "2020-12-31T14:43:55.799798",
     "status": "completed"
    },
    "tags": []
   },
   "outputs": [],
   "source": []
  },
  {
   "cell_type": "code",
   "execution_count": null,
   "metadata": {
    "papermill": {
     "duration": 0.008961,
     "end_time": "2020-12-31T14:43:55.826792",
     "exception": false,
     "start_time": "2020-12-31T14:43:55.817831",
     "status": "completed"
    },
    "tags": []
   },
   "outputs": [],
   "source": []
  }
 ],
 "metadata": {
  "kernelspec": {
   "display_name": "Python 3",
   "language": "python",
   "name": "python3"
  },
  "language_info": {
   "codemirror_mode": {
    "name": "ipython",
    "version": 3
   },
   "file_extension": ".py",
   "mimetype": "text/x-python",
   "name": "python",
   "nbconvert_exporter": "python",
   "pygments_lexer": "ipython3",
   "version": "3.6.12"
  },
  "papermill": {
   "default_parameters": {},
   "duration": 11.274466,
   "end_time": "2020-12-31T14:43:57.183193",
   "environment_variables": {},
   "exception": null,
   "input_path": "Market-News.ipynb",
   "output_path": "Market-News.ipynb",
   "parameters": {},
   "start_time": "2020-12-31T14:43:45.908727",
   "version": "2.2.2"
  }
 },
 "nbformat": 4,
 "nbformat_minor": 4
}