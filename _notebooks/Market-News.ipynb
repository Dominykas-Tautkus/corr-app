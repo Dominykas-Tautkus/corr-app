{
 "cells": [
  {
   "cell_type": "markdown",
   "id": "short-greensboro",
   "metadata": {
    "papermill": {
     "duration": 0.014907,
     "end_time": "2021-03-22T01:52:39.443692",
     "exception": false,
     "start_time": "2021-03-22T01:52:39.428785",
     "status": "completed"
    },
    "tags": []
   },
   "source": [
    "# Kriptovaliutų naujienos"
   ]
  },
  {
   "cell_type": "code",
   "execution_count": 1,
   "id": "functioning-knowing",
   "metadata": {
    "execution": {
     "iopub.execute_input": "2021-03-22T01:52:39.478029Z",
     "iopub.status.busy": "2021-03-22T01:52:39.477429Z",
     "iopub.status.idle": "2021-03-22T01:52:40.781147Z",
     "shell.execute_reply": "2021-03-22T01:52:40.780464Z"
    },
    "papermill": {
     "duration": 1.326584,
     "end_time": "2021-03-22T01:52:40.781333",
     "exception": false,
     "start_time": "2021-03-22T01:52:39.454749",
     "status": "completed"
    },
    "tags": []
   },
   "outputs": [],
   "source": [
    "#hide_input\n",
    "import warnings\n",
    "warnings.filterwarnings('ignore')\n",
    "from scripts.read_data import read_api\n",
    "from scripts.read_data import read_news\n",
    "from scripts.read_data import read_covid\n",
    "import matplotlib.pyplot as plt \n",
    "from IPython.display import Markdown as md"
   ]
  },
  {
   "cell_type": "code",
   "execution_count": 2,
   "id": "shared-acceptance",
   "metadata": {
    "execution": {
     "iopub.execute_input": "2021-03-22T01:52:40.810111Z",
     "iopub.status.busy": "2021-03-22T01:52:40.809504Z",
     "iopub.status.idle": "2021-03-22T01:52:48.747100Z",
     "shell.execute_reply": "2021-03-22T01:52:48.746076Z"
    },
    "papermill": {
     "duration": 7.953605,
     "end_time": "2021-03-22T01:52:48.747235",
     "exception": false,
     "start_time": "2021-03-22T01:52:40.793630",
     "status": "completed"
    },
    "tags": []
   },
   "outputs": [],
   "source": [
    "#hide_input\n",
    "blockchain = read_news('blockchain') \n",
    "btc = read_news('btc') \n",
    "xrp = read_news('xrp') \n",
    "trx = read_news('trx') \n",
    "eth = read_news('eth')  \n",
    "ada = read_news('ada')\n",
    "exchange = read_news('exchange') "
   ]
  },
  {
   "cell_type": "code",
   "execution_count": 3,
   "id": "synthetic-notion",
   "metadata": {
    "execution": {
     "iopub.execute_input": "2021-03-22T01:52:48.773608Z",
     "iopub.status.busy": "2021-03-22T01:52:48.772998Z",
     "iopub.status.idle": "2021-03-22T01:52:48.775161Z",
     "shell.execute_reply": "2021-03-22T01:52:48.775731Z"
    },
    "papermill": {
     "duration": 0.018684,
     "end_time": "2021-03-22T01:52:48.775874",
     "exception": false,
     "start_time": "2021-03-22T01:52:48.757190",
     "status": "completed"
    },
    "tags": []
   },
   "outputs": [
    {
     "data": {
      "text/markdown": [
       "- LUNA Price Analysis: Terra Stays on a Bullish Track for a Robust Break.  The post LUNA Price Analysis: Terra Stays on a Bullish Track for a Robust Break appeared first on Coinpedia - Fintech & Cryptocurreny News Media| Crypto GuideAs the Altcoin market press onward in its profit-taking amid market concerns, Terra (LUNA) chased after new all-time highs at $23.71 while outperforming the market with no correction in sight.*Terra (LUNA) bounced off the $16.81 low *Terra (LUNA) stays on a bullish track for a robust break towards $25*Terra price accelerates on Anchor Protocol launchTerra … ... [| Skaityti daugiau](https://coinpedia.org/price-analysis/luna-price-analysis-terra-stays-on-a-bullish-track/) "
      ],
      "text/plain": [
       "<IPython.core.display.Markdown object>"
      ]
     },
     "execution_count": 3,
     "metadata": {},
     "output_type": "execute_result"
    }
   ],
   "source": [
    "#hide_input\n",
    "#md('##### {}'.format(titleBTC)) \n",
    "md(\"- {}{} {}{} [| Skaityti daugiau]({}) \".format(blockchain['title'],'. ', blockchain['body'], ' ...', blockchain['url']))"
   ]
  },
  {
   "cell_type": "code",
   "execution_count": 4,
   "id": "aging-caution",
   "metadata": {
    "execution": {
     "iopub.execute_input": "2021-03-22T01:52:48.802638Z",
     "iopub.status.busy": "2021-03-22T01:52:48.801849Z",
     "iopub.status.idle": "2021-03-22T01:52:48.804714Z",
     "shell.execute_reply": "2021-03-22T01:52:48.805353Z"
    },
    "papermill": {
     "duration": 0.019248,
     "end_time": "2021-03-22T01:52:48.805535",
     "exception": false,
     "start_time": "2021-03-22T01:52:48.786287",
     "status": "completed"
    },
    "tags": []
   },
   "outputs": [
    {
     "data": {
      "text/markdown": [
       "- Cryptocurrency’s arrival on Wall Street: How the Coinbase IPO could impact the crypto ecosystem.  Bitcoin has been much of the market to new all-time highs as institutional investors pile into digital finance, but it could be the arrival of Coinbase, a leading crypto exchange, on Wall Street that may make a significant impact. The post Cryptocurrency’s arrival on Wall Street: How the Coinbase IPO could impact the crypto ecosystem appeared first on CryptoSlate. ... [| Skaityti daugiau](https://cryptoslate.com/cryptocurrencys-arrival-on-wall-street-how-the-coinbase-ipo-could-impact-the-crypto-ecosystem/) "
      ],
      "text/plain": [
       "<IPython.core.display.Markdown object>"
      ]
     },
     "execution_count": 4,
     "metadata": {},
     "output_type": "execute_result"
    }
   ],
   "source": [
    "#hide_input\n",
    "#md('##### {}'.format(titleBTC)) \n",
    "md(\"- {}{} {}{} [| Skaityti daugiau]({}) \".format(btc['title'],'. ', btc['body'], ' ...', btc['url']))"
   ]
  },
  {
   "cell_type": "code",
   "execution_count": 5,
   "id": "organic-actress",
   "metadata": {
    "execution": {
     "iopub.execute_input": "2021-03-22T01:52:48.833093Z",
     "iopub.status.busy": "2021-03-22T01:52:48.832507Z",
     "iopub.status.idle": "2021-03-22T01:52:48.838439Z",
     "shell.execute_reply": "2021-03-22T01:52:48.837947Z"
    },
    "papermill": {
     "duration": 0.022052,
     "end_time": "2021-03-22T01:52:48.838557",
     "exception": false,
     "start_time": "2021-03-22T01:52:48.816505",
     "status": "completed"
    },
    "tags": []
   },
   "outputs": [
    {
     "data": {
      "text/markdown": [
       "- Ripple CTO David Schwartz on NFTs.  In a recent interview, Ripple CTO David Scwhartz explained what he finds interesting about non-fungible tokens (NFTs). His comments came during an interview that was released on YouTube channel “Thinking Crypto” on March 16. According to a report on this interview published by The Daily HODL on March 18, Schwartz finds two ideas related to […] ... [| Skaityti daugiau](https://www.cryptoglobe.com/latest/2021/03/ripple-cto-david-schwartz-on-nfts/) "
      ],
      "text/plain": [
       "<IPython.core.display.Markdown object>"
      ]
     },
     "execution_count": 5,
     "metadata": {},
     "output_type": "execute_result"
    }
   ],
   "source": [
    "#hide_input\n",
    "#md('##### {}'.format(titleBTC)) \n",
    "md(\"- {}{} {}{} [| Skaityti daugiau]({}) \".format(xrp['title'],'. ', xrp['body'], ' ...', xrp['url']))"
   ]
  },
  {
   "cell_type": "code",
   "execution_count": 6,
   "id": "prompt-farmer",
   "metadata": {
    "execution": {
     "iopub.execute_input": "2021-03-22T01:52:48.866139Z",
     "iopub.status.busy": "2021-03-22T01:52:48.865619Z",
     "iopub.status.idle": "2021-03-22T01:52:48.869342Z",
     "shell.execute_reply": "2021-03-22T01:52:48.868880Z"
    },
    "papermill": {
     "duration": 0.019779,
     "end_time": "2021-03-22T01:52:48.869461",
     "exception": false,
     "start_time": "2021-03-22T01:52:48.849682",
     "status": "completed"
    },
    "tags": []
   },
   "outputs": [
    {
     "data": {
      "text/markdown": [
       "- Ethereum, Tron, Algorand Price Analysis: 21 March.  Ethereum met with rejection above $1,841.9 and projected consolidation within its present channel. Tron could move below $0.06-support and stabilize at lower levels. Lastly, a retest of the $1.24 level could see ALGO test $1.35 resistance once again. Ethereum [ETH] Ethereum was rejected above the $1,841.9 mark and the price moved back within a range [&#8230;] ... [| Skaityti daugiau](https://ambcrypto.com/ethereum-tron-algorand-price-analysis-21-march/) "
      ],
      "text/plain": [
       "<IPython.core.display.Markdown object>"
      ]
     },
     "execution_count": 6,
     "metadata": {},
     "output_type": "execute_result"
    }
   ],
   "source": [
    "#hide_input\n",
    "#md('##### {}'.format(titleBTC)) \n",
    "md(\"- {}{} {}{} [| Skaityti daugiau]({}) \".format(trx['title'],'. ', trx['body'], ' ...', trx['url']))"
   ]
  },
  {
   "cell_type": "code",
   "execution_count": 7,
   "id": "illegal-greece",
   "metadata": {
    "execution": {
     "iopub.execute_input": "2021-03-22T01:52:48.896332Z",
     "iopub.status.busy": "2021-03-22T01:52:48.895767Z",
     "iopub.status.idle": "2021-03-22T01:52:48.898964Z",
     "shell.execute_reply": "2021-03-22T01:52:48.898499Z"
    },
    "papermill": {
     "duration": 0.018372,
     "end_time": "2021-03-22T01:52:48.899082",
     "exception": false,
     "start_time": "2021-03-22T01:52:48.880710",
     "status": "completed"
    },
    "tags": []
   },
   "outputs": [
    {
     "data": {
      "text/markdown": [
       "- How Ethereum low supply on exchanges could drive up ETH price.  Research firm Santiment has determined that Ethereum&#8217;s supply radius on exchange platforms is at a 28-month low. With 20.1% of ETH in its reserves, the last time the metric was at similar levels was in November 2018. Above is a look at the relationship between the increase in Ethereum supply on the exchanges and fluctuations [&#8230;] ... [| Skaityti daugiau](https://www.newsbtc.com/news/how-ethereum-low-supply-on-exchanges-could-drive-up-eth-price/) "
      ],
      "text/plain": [
       "<IPython.core.display.Markdown object>"
      ]
     },
     "execution_count": 7,
     "metadata": {},
     "output_type": "execute_result"
    }
   ],
   "source": [
    "#hide_input\n",
    "#md('##### {}'.format(titleBTC)) \n",
    "md(\"- {}{} {}{} [| Skaityti daugiau]({}) \".format(eth['title'],'. ', eth['body'], ' ...', eth['url']))"
   ]
  },
  {
   "cell_type": "code",
   "execution_count": 8,
   "id": "sublime-lounge",
   "metadata": {
    "execution": {
     "iopub.execute_input": "2021-03-22T01:52:48.927959Z",
     "iopub.status.busy": "2021-03-22T01:52:48.927390Z",
     "iopub.status.idle": "2021-03-22T01:52:48.930951Z",
     "shell.execute_reply": "2021-03-22T01:52:48.930456Z"
    },
    "papermill": {
     "duration": 0.020469,
     "end_time": "2021-03-22T01:52:48.931067",
     "exception": false,
     "start_time": "2021-03-22T01:52:48.910598",
     "status": "completed"
    },
    "tags": []
   },
   "outputs": [
    {
     "data": {
      "text/markdown": [
       "- Millions of Africans to benefit from Cardano’s expanding ecosystem.  Cardano is making more headlines as it scores points in getting allies in Africa. So far, Africa has been largely untouched by most blockchain-based tech companies, but Cardano seems to have identified quite an opportunity in the continent. The news was broken by IOHK CEO, Charles Hoskinson, in a short YouTube video. According to Hoskinson, [&#8230;] ... [| Skaityti daugiau](https://zycrypto.com/millions-of-africans-to-benefit-from-cardanos-expanding-ecosystem/) "
      ],
      "text/plain": [
       "<IPython.core.display.Markdown object>"
      ]
     },
     "execution_count": 8,
     "metadata": {},
     "output_type": "execute_result"
    }
   ],
   "source": [
    "#hide_input\n",
    "#md('##### {}'.format(titleBTC)) \n",
    "md(\"- {}{} {}{} [| Skaityti daugiau]({}) \".format(ada['title'],'. ', ada['body'], ' ...', ada['url']))"
   ]
  },
  {
   "cell_type": "code",
   "execution_count": 9,
   "id": "specified-ordering",
   "metadata": {
    "execution": {
     "iopub.execute_input": "2021-03-22T01:52:48.960581Z",
     "iopub.status.busy": "2021-03-22T01:52:48.959813Z",
     "iopub.status.idle": "2021-03-22T01:52:48.963319Z",
     "shell.execute_reply": "2021-03-22T01:52:48.963721Z"
    },
    "papermill": {
     "duration": 0.020485,
     "end_time": "2021-03-22T01:52:48.963849",
     "exception": false,
     "start_time": "2021-03-22T01:52:48.943364",
     "status": "completed"
    },
    "tags": []
   },
   "outputs": [
    {
     "data": {
      "text/markdown": [
       "- Cryptocurrency’s arrival on Wall Street: How the Coinbase IPO could impact the crypto ecosystem.  Bitcoin has been much of the market to new all-time highs as institutional investors pile into digital finance, but it could be the arrival of Coinbase, a leading crypto exchange, on Wall Street that may make a significant impact. The post Cryptocurrency’s arrival on Wall Street: How the Coinbase IPO could impact the crypto ecosystem appeared first on CryptoSlate. ... [| Skaityti daugiau](https://cryptoslate.com/cryptocurrencys-arrival-on-wall-street-how-the-coinbase-ipo-could-impact-the-crypto-ecosystem/) "
      ],
      "text/plain": [
       "<IPython.core.display.Markdown object>"
      ]
     },
     "execution_count": 9,
     "metadata": {},
     "output_type": "execute_result"
    }
   ],
   "source": [
    "#hide_input\n",
    "#md('##### {}'.format(titleBTC)) \n",
    "md(\"- {}{} {}{} [| Skaityti daugiau]({}) \".format(exchange['title'],'. ', exchange['body'], ' ...', exchange['url']))"
   ]
  },
  {
   "cell_type": "code",
   "execution_count": null,
   "id": "tender-livestock",
   "metadata": {
    "papermill": {
     "duration": 0.012341,
     "end_time": "2021-03-22T01:52:48.988447",
     "exception": false,
     "start_time": "2021-03-22T01:52:48.976106",
     "status": "completed"
    },
    "tags": []
   },
   "outputs": [],
   "source": []
  },
  {
   "cell_type": "code",
   "execution_count": null,
   "id": "appreciated-diamond",
   "metadata": {
    "papermill": {
     "duration": 0.013571,
     "end_time": "2021-03-22T01:52:49.014424",
     "exception": false,
     "start_time": "2021-03-22T01:52:49.000853",
     "status": "completed"
    },
    "tags": []
   },
   "outputs": [],
   "source": []
  },
  {
   "cell_type": "code",
   "execution_count": null,
   "id": "romance-sweden",
   "metadata": {
    "papermill": {
     "duration": 0.012429,
     "end_time": "2021-03-22T01:52:49.039542",
     "exception": false,
     "start_time": "2021-03-22T01:52:49.027113",
     "status": "completed"
    },
    "tags": []
   },
   "outputs": [],
   "source": []
  },
  {
   "cell_type": "code",
   "execution_count": null,
   "id": "dietary-statistics",
   "metadata": {
    "papermill": {
     "duration": 0.01197,
     "end_time": "2021-03-22T01:52:49.063790",
     "exception": false,
     "start_time": "2021-03-22T01:52:49.051820",
     "status": "completed"
    },
    "tags": []
   },
   "outputs": [],
   "source": []
  }
 ],
 "metadata": {
  "kernelspec": {
   "display_name": "Python 3",
   "language": "python",
   "name": "python3"
  },
  "language_info": {
   "codemirror_mode": {
    "name": "ipython",
    "version": 3
   },
   "file_extension": ".py",
   "mimetype": "text/x-python",
   "name": "python",
   "nbconvert_exporter": "python",
   "pygments_lexer": "ipython3",
   "version": "3.6.13"
  },
  "papermill": {
   "default_parameters": {},
   "duration": 11.127434,
   "end_time": "2021-03-22T01:52:49.485064",
   "environment_variables": {},
   "exception": null,
   "input_path": "Market-News.ipynb",
   "output_path": "Market-News.ipynb",
   "parameters": {},
   "start_time": "2021-03-22T01:52:38.357630",
   "version": "2.2.2"
  }
 },
 "nbformat": 4,
 "nbformat_minor": 5
}