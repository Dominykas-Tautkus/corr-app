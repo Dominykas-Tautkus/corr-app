{
 "cells": [
  {
   "cell_type": "markdown",
   "id": "short-greensboro",
   "metadata": {
    "papermill": {
     "duration": 0.013942,
     "end_time": "2021-01-29T01:56:57.893491",
     "exception": false,
     "start_time": "2021-01-29T01:56:57.879549",
     "status": "completed"
    },
    "tags": []
   },
   "source": [
    "# Kriptovaliutų naujienos"
   ]
  },
  {
   "cell_type": "code",
   "execution_count": 1,
   "id": "functioning-knowing",
   "metadata": {
    "execution": {
     "iopub.execute_input": "2021-01-29T01:56:57.927329Z",
     "iopub.status.busy": "2021-01-29T01:56:57.926721Z",
     "iopub.status.idle": "2021-01-29T01:56:59.236107Z",
     "shell.execute_reply": "2021-01-29T01:56:59.235118Z"
    },
    "papermill": {
     "duration": 1.33179,
     "end_time": "2021-01-29T01:56:59.236301",
     "exception": false,
     "start_time": "2021-01-29T01:56:57.904511",
     "status": "completed"
    },
    "tags": []
   },
   "outputs": [],
   "source": [
    "#hide_input\n",
    "import warnings\n",
    "warnings.filterwarnings('ignore')\n",
    "from scripts.read_data import read_api\n",
    "from scripts.read_data import read_news\n",
    "from scripts.read_data import read_covid\n",
    "import matplotlib.pyplot as plt \n",
    "from IPython.display import Markdown as md"
   ]
  },
  {
   "cell_type": "code",
   "execution_count": 2,
   "id": "shared-acceptance",
   "metadata": {
    "execution": {
     "iopub.execute_input": "2021-01-29T01:56:59.262028Z",
     "iopub.status.busy": "2021-01-29T01:56:59.261438Z",
     "iopub.status.idle": "2021-01-29T01:57:11.609906Z",
     "shell.execute_reply": "2021-01-29T01:57:11.608937Z"
    },
    "papermill": {
     "duration": 12.363662,
     "end_time": "2021-01-29T01:57:11.610057",
     "exception": false,
     "start_time": "2021-01-29T01:56:59.246395",
     "status": "completed"
    },
    "tags": []
   },
   "outputs": [],
   "source": [
    "#hide_input\n",
    "blockchain = read_news('blockchain') \n",
    "btc = read_news('btc') \n",
    "xrp = read_news('xrp') \n",
    "trx = read_news('trx') \n",
    "eth = read_news('eth')  \n",
    "ada = read_news('ada')\n",
    "exchange = read_news('exchange') "
   ]
  },
  {
   "cell_type": "code",
   "execution_count": 3,
   "id": "synthetic-notion",
   "metadata": {
    "execution": {
     "iopub.execute_input": "2021-01-29T01:57:11.636891Z",
     "iopub.status.busy": "2021-01-29T01:57:11.636287Z",
     "iopub.status.idle": "2021-01-29T01:57:11.638664Z",
     "shell.execute_reply": "2021-01-29T01:57:11.639207Z"
    },
    "papermill": {
     "duration": 0.018974,
     "end_time": "2021-01-29T01:57:11.639348",
     "exception": false,
     "start_time": "2021-01-29T01:57:11.620374",
     "status": "completed"
    },
    "tags": []
   },
   "outputs": [
    {
     "data": {
      "text/markdown": [
       "- IOHK launches the new Plutus Playground for Cardano (ADA) developers.  IOHK, the company behind the Cardano blockchain, has announced the launch of the new Plutus Playground. The post IOHK launches the new Plutus Playground for Cardano (ADA) developers appeared first on CryptoSlate. ... [| Skaityti daugiau](https://cryptoslate.com/iohk-launches-the-new-plutus-playground-for-cardano-ada-developers/) "
      ],
      "text/plain": [
       "<IPython.core.display.Markdown object>"
      ]
     },
     "execution_count": 3,
     "metadata": {},
     "output_type": "execute_result"
    }
   ],
   "source": [
    "#hide_input\n",
    "#md('##### {}'.format(titleBTC)) \n",
    "md(\"- {}{} {}{} [| Skaityti daugiau]({}) \".format(blockchain['title'],'. ', blockchain['body'], ' ...', blockchain['url']))"
   ]
  },
  {
   "cell_type": "code",
   "execution_count": 4,
   "id": "aging-caution",
   "metadata": {
    "execution": {
     "iopub.execute_input": "2021-01-29T01:57:11.670159Z",
     "iopub.status.busy": "2021-01-29T01:57:11.668569Z",
     "iopub.status.idle": "2021-01-29T01:57:11.673738Z",
     "shell.execute_reply": "2021-01-29T01:57:11.674282Z"
    },
    "papermill": {
     "duration": 0.024811,
     "end_time": "2021-01-29T01:57:11.674425",
     "exception": false,
     "start_time": "2021-01-29T01:57:11.649614",
     "status": "completed"
    },
    "tags": []
   },
   "outputs": [
    {
     "data": {
      "text/markdown": [
       "- Thanks, Robinhood. Crypto Will (Maybe) Take It From Here.  The GameStop debacle is crypto’s big chance to attract a massive swathe of new users. It’s probably not ready. ... [| Skaityti daugiau](https://decrypt.co/55905/thanks-robinhood-crypto-will-maybe-take-it-from-here) "
      ],
      "text/plain": [
       "<IPython.core.display.Markdown object>"
      ]
     },
     "execution_count": 4,
     "metadata": {},
     "output_type": "execute_result"
    }
   ],
   "source": [
    "#hide_input\n",
    "#md('##### {}'.format(titleBTC)) \n",
    "md(\"- {}{} {}{} [| Skaityti daugiau]({}) \".format(btc['title'],'. ', btc['body'], ' ...', btc['url']))"
   ]
  },
  {
   "cell_type": "code",
   "execution_count": 5,
   "id": "organic-actress",
   "metadata": {
    "execution": {
     "iopub.execute_input": "2021-01-29T01:57:11.701694Z",
     "iopub.status.busy": "2021-01-29T01:57:11.701112Z",
     "iopub.status.idle": "2021-01-29T01:57:11.704748Z",
     "shell.execute_reply": "2021-01-29T01:57:11.705305Z"
    },
    "papermill": {
     "duration": 0.020387,
     "end_time": "2021-01-29T01:57:11.705441",
     "exception": false,
     "start_time": "2021-01-29T01:57:11.685054",
     "status": "completed"
    },
    "tags": []
   },
   "outputs": [
    {
     "data": {
      "text/markdown": [
       "- Ripple Partners Lulu Exchange to Facilitate UAE to India Cross-Border Remittance.  Despite the lawsuit against Ripple, the fintech firm seems not moved. The recent announcement records another partnership deal between itself, Ripple, Lulu Exchange, a UAE-based exchange, and the Federal Bank, a leading Indian private bank. According to the announcement, the new partnership will enhance the real-time payments from UAE to India. The Latest Ripple Partnership [&#8230;] ... [| Skaityti daugiau](https://zycrypto.com/ripple-partners-lulu-exchange-to-facilitate-uae-to-india-cross-border-remittance/) "
      ],
      "text/plain": [
       "<IPython.core.display.Markdown object>"
      ]
     },
     "execution_count": 5,
     "metadata": {},
     "output_type": "execute_result"
    }
   ],
   "source": [
    "#hide_input\n",
    "#md('##### {}'.format(titleBTC)) \n",
    "md(\"- {}{} {}{} [| Skaityti daugiau]({}) \".format(xrp['title'],'. ', xrp['body'], ' ...', xrp['url']))"
   ]
  },
  {
   "cell_type": "code",
   "execution_count": 6,
   "id": "prompt-farmer",
   "metadata": {
    "execution": {
     "iopub.execute_input": "2021-01-29T01:57:11.732035Z",
     "iopub.status.busy": "2021-01-29T01:57:11.731167Z",
     "iopub.status.idle": "2021-01-29T01:57:11.734800Z",
     "shell.execute_reply": "2021-01-29T01:57:11.735249Z"
    },
    "papermill": {
     "duration": 0.018912,
     "end_time": "2021-01-29T01:57:11.735390",
     "exception": false,
     "start_time": "2021-01-29T01:57:11.716478",
     "status": "completed"
    },
    "tags": []
   },
   "outputs": [
    {
     "data": {
      "text/markdown": [
       "- Tron (TRX) founder Justin Sun to buy $1 million of GameStop stock.  The outspoken, media-loving crypto entrepreneur claimed he would support the cause in a tweet this morning. The post Tron (TRX) founder Justin Sun to buy $1 million of GameStop stock appeared first on CryptoSlate. ... [| Skaityti daugiau](https://cryptoslate.com/tron-trx-founder-justin-sun-to-buy-1-million-of-gamestop-stock/) "
      ],
      "text/plain": [
       "<IPython.core.display.Markdown object>"
      ]
     },
     "execution_count": 6,
     "metadata": {},
     "output_type": "execute_result"
    }
   ],
   "source": [
    "#hide_input\n",
    "#md('##### {}'.format(titleBTC)) \n",
    "md(\"- {}{} {}{} [| Skaityti daugiau]({}) \".format(trx['title'],'. ', trx['body'], ' ...', trx['url']))"
   ]
  },
  {
   "cell_type": "code",
   "execution_count": 7,
   "id": "illegal-greece",
   "metadata": {
    "execution": {
     "iopub.execute_input": "2021-01-29T01:57:11.763345Z",
     "iopub.status.busy": "2021-01-29T01:57:11.762640Z",
     "iopub.status.idle": "2021-01-29T01:57:11.765689Z",
     "shell.execute_reply": "2021-01-29T01:57:11.765153Z"
    },
    "papermill": {
     "duration": 0.019008,
     "end_time": "2021-01-29T01:57:11.765808",
     "exception": false,
     "start_time": "2021-01-29T01:57:11.746800",
     "status": "completed"
    },
    "tags": []
   },
   "outputs": [
    {
     "data": {
      "text/markdown": [
       "- Ethereum dev must face jury for allegedly helping North Korea evade sanctions.  Virgil Griffith, a crypto developer accused of helping North Korea evade sanctions through speaking at a Pyongyang crypto conference in 2019, must now face a jury. ... [| Skaityti daugiau](https://cointelegraph.com/news/ethereum-dev-must-face-jury-for-allegedly-helping-north-korea-evade-sanctions) "
      ],
      "text/plain": [
       "<IPython.core.display.Markdown object>"
      ]
     },
     "execution_count": 7,
     "metadata": {},
     "output_type": "execute_result"
    }
   ],
   "source": [
    "#hide_input\n",
    "#md('##### {}'.format(titleBTC)) \n",
    "md(\"- {}{} {}{} [| Skaityti daugiau]({}) \".format(eth['title'],'. ', eth['body'], ' ...', eth['url']))"
   ]
  },
  {
   "cell_type": "code",
   "execution_count": 8,
   "id": "sublime-lounge",
   "metadata": {
    "execution": {
     "iopub.execute_input": "2021-01-29T01:57:11.794637Z",
     "iopub.status.busy": "2021-01-29T01:57:11.793950Z",
     "iopub.status.idle": "2021-01-29T01:57:11.797829Z",
     "shell.execute_reply": "2021-01-29T01:57:11.797339Z"
    },
    "papermill": {
     "duration": 0.019402,
     "end_time": "2021-01-29T01:57:11.797950",
     "exception": false,
     "start_time": "2021-01-29T01:57:11.778548",
     "status": "completed"
    },
    "tags": []
   },
   "outputs": [
    {
     "data": {
      "text/markdown": [
       "- IOHK launches the new Plutus Playground for Cardano (ADA) developers.  IOHK, the company behind the Cardano blockchain, has announced the launch of the new Plutus Playground. The post IOHK launches the new Plutus Playground for Cardano (ADA) developers appeared first on CryptoSlate. ... [| Skaityti daugiau](https://cryptoslate.com/iohk-launches-the-new-plutus-playground-for-cardano-ada-developers/) "
      ],
      "text/plain": [
       "<IPython.core.display.Markdown object>"
      ]
     },
     "execution_count": 8,
     "metadata": {},
     "output_type": "execute_result"
    }
   ],
   "source": [
    "#hide_input\n",
    "#md('##### {}'.format(titleBTC)) \n",
    "md(\"- {}{} {}{} [| Skaityti daugiau]({}) \".format(ada['title'],'. ', ada['body'], ' ...', ada['url']))"
   ]
  },
  {
   "cell_type": "code",
   "execution_count": 9,
   "id": "specified-ordering",
   "metadata": {
    "execution": {
     "iopub.execute_input": "2021-01-29T01:57:11.826960Z",
     "iopub.status.busy": "2021-01-29T01:57:11.826382Z",
     "iopub.status.idle": "2021-01-29T01:57:11.829289Z",
     "shell.execute_reply": "2021-01-29T01:57:11.828719Z"
    },
    "papermill": {
     "duration": 0.019358,
     "end_time": "2021-01-29T01:57:11.829406",
     "exception": false,
     "start_time": "2021-01-29T01:57:11.810048",
     "status": "completed"
    },
    "tags": []
   },
   "outputs": [
    {
     "data": {
      "text/markdown": [
       "- South Korean Bank Shinhan Seals Crypto Custody Deal with BitGo.  The South Korean banking giant Shinhan is looking to take its fast-expanding crypto operations global – after striking a deal with American major crypto custody player BitGo.Per EDaily, the deal pertains to crypto custody – a deal that also involves the South Korean crypto firm the Korea Digital Asset Trust (KDAC), which is backed by the crypto exchange Korbit. ... [| Skaityti daugiau](https://cryptonews.com/news/south-korean-bank-shinhan-seals-crypto-custody-deal-with-bit-9046.htm) "
      ],
      "text/plain": [
       "<IPython.core.display.Markdown object>"
      ]
     },
     "execution_count": 9,
     "metadata": {},
     "output_type": "execute_result"
    }
   ],
   "source": [
    "#hide_input\n",
    "#md('##### {}'.format(titleBTC)) \n",
    "md(\"- {}{} {}{} [| Skaityti daugiau]({}) \".format(exchange['title'],'. ', exchange['body'], ' ...', exchange['url']))"
   ]
  },
  {
   "cell_type": "code",
   "execution_count": null,
   "id": "tender-livestock",
   "metadata": {
    "papermill": {
     "duration": 0.012186,
     "end_time": "2021-01-29T01:57:11.854027",
     "exception": false,
     "start_time": "2021-01-29T01:57:11.841841",
     "status": "completed"
    },
    "tags": []
   },
   "outputs": [],
   "source": []
  },
  {
   "cell_type": "code",
   "execution_count": null,
   "id": "appreciated-diamond",
   "metadata": {
    "papermill": {
     "duration": 0.013276,
     "end_time": "2021-01-29T01:57:11.879743",
     "exception": false,
     "start_time": "2021-01-29T01:57:11.866467",
     "status": "completed"
    },
    "tags": []
   },
   "outputs": [],
   "source": []
  },
  {
   "cell_type": "code",
   "execution_count": null,
   "id": "romance-sweden",
   "metadata": {
    "papermill": {
     "duration": 0.01227,
     "end_time": "2021-01-29T01:57:11.907030",
     "exception": false,
     "start_time": "2021-01-29T01:57:11.894760",
     "status": "completed"
    },
    "tags": []
   },
   "outputs": [],
   "source": []
  },
  {
   "cell_type": "code",
   "execution_count": null,
   "id": "dietary-statistics",
   "metadata": {
    "papermill": {
     "duration": 0.012173,
     "end_time": "2021-01-29T01:57:11.931567",
     "exception": false,
     "start_time": "2021-01-29T01:57:11.919394",
     "status": "completed"
    },
    "tags": []
   },
   "outputs": [],
   "source": []
  }
 ],
 "metadata": {
  "kernelspec": {
   "display_name": "Python 3",
   "language": "python",
   "name": "python3"
  },
  "language_info": {
   "codemirror_mode": {
    "name": "ipython",
    "version": 3
   },
   "file_extension": ".py",
   "mimetype": "text/x-python",
   "name": "python",
   "nbconvert_exporter": "python",
   "pygments_lexer": "ipython3",
   "version": "3.6.12"
  },
  "papermill": {
   "default_parameters": {},
   "duration": 16.326427,
   "end_time": "2021-01-29T01:57:13.126124",
   "environment_variables": {},
   "exception": null,
   "input_path": "Market-News.ipynb",
   "output_path": "Market-News.ipynb",
   "parameters": {},
   "start_time": "2021-01-29T01:56:56.799697",
   "version": "2.2.2"
  }
 },
 "nbformat": 4,
 "nbformat_minor": 5
}