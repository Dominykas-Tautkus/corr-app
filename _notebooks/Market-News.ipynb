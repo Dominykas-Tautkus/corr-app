{
 "cells": [
  {
   "cell_type": "markdown",
   "id": "short-greensboro",
   "metadata": {
    "papermill": {
     "duration": 0.012763,
     "end_time": "2021-06-16T02:05:22.361587",
     "exception": false,
     "start_time": "2021-06-16T02:05:22.348824",
     "status": "completed"
    },
    "tags": []
   },
   "source": [
    "# Kriptovaliutų naujienos"
   ]
  },
  {
   "cell_type": "code",
   "execution_count": 1,
   "id": "functioning-knowing",
   "metadata": {
    "execution": {
     "iopub.execute_input": "2021-06-16T02:05:22.389494Z",
     "iopub.status.busy": "2021-06-16T02:05:22.388988Z",
     "iopub.status.idle": "2021-06-16T02:05:23.498447Z",
     "shell.execute_reply": "2021-06-16T02:05:23.497926Z"
    },
    "papermill": {
     "duration": 1.127383,
     "end_time": "2021-06-16T02:05:23.498594",
     "exception": false,
     "start_time": "2021-06-16T02:05:22.371211",
     "status": "completed"
    },
    "tags": []
   },
   "outputs": [],
   "source": [
    "#hide_input\n",
    "import warnings\n",
    "warnings.filterwarnings('ignore')\n",
    "from scripts.read_data import read_api\n",
    "from scripts.read_data import read_news\n",
    "from scripts.read_data import read_covid\n",
    "import matplotlib.pyplot as plt \n",
    "from IPython.display import Markdown as md"
   ]
  },
  {
   "cell_type": "code",
   "execution_count": 2,
   "id": "shared-acceptance",
   "metadata": {
    "execution": {
     "iopub.execute_input": "2021-06-16T02:05:23.523248Z",
     "iopub.status.busy": "2021-06-16T02:05:23.522757Z",
     "iopub.status.idle": "2021-06-16T02:05:31.448365Z",
     "shell.execute_reply": "2021-06-16T02:05:31.447853Z"
    },
    "papermill": {
     "duration": 7.939948,
     "end_time": "2021-06-16T02:05:31.448498",
     "exception": false,
     "start_time": "2021-06-16T02:05:23.508550",
     "status": "completed"
    },
    "tags": []
   },
   "outputs": [],
   "source": [
    "#hide_input\n",
    "blockchain = read_news('blockchain') \n",
    "btc = read_news('btc') \n",
    "xrp = read_news('xrp') \n",
    "trx = read_news('trx') \n",
    "eth = read_news('eth')  \n",
    "ada = read_news('ada')\n",
    "exchange = read_news('exchange') "
   ]
  },
  {
   "cell_type": "code",
   "execution_count": 3,
   "id": "synthetic-notion",
   "metadata": {
    "execution": {
     "iopub.execute_input": "2021-06-16T02:05:31.473561Z",
     "iopub.status.busy": "2021-06-16T02:05:31.473067Z",
     "iopub.status.idle": "2021-06-16T02:05:31.477051Z",
     "shell.execute_reply": "2021-06-16T02:05:31.476638Z"
    },
    "papermill": {
     "duration": 0.018481,
     "end_time": "2021-06-16T02:05:31.477147",
     "exception": false,
     "start_time": "2021-06-16T02:05:31.458666",
     "status": "completed"
    },
    "tags": []
   },
   "outputs": [
    {
     "data": {
      "text/markdown": [
       "- Fox launches $100M creative fund for NFT content creation.  Fox has announced a $100 million fund under its NFT firm Blockchain Creative Labs, and is set to launch a range of NFT content, digital goods, and assets.  ... [| Skaityti daugiau](https://cointelegraph.com/news/fox-launches-100m-creative-fund-for-nft-content-creation) "
      ],
      "text/plain": [
       "<IPython.core.display.Markdown object>"
      ]
     },
     "execution_count": 3,
     "metadata": {},
     "output_type": "execute_result"
    }
   ],
   "source": [
    "#hide_input\n",
    "#md('##### {}'.format(titleBTC)) \n",
    "md(\"- {}{} {}{} [| Skaityti daugiau]({}) \".format(blockchain['title'],'. ', blockchain['body'], ' ...', blockchain['url']))"
   ]
  },
  {
   "cell_type": "code",
   "execution_count": 4,
   "id": "aging-caution",
   "metadata": {
    "execution": {
     "iopub.execute_input": "2021-06-16T02:05:31.499899Z",
     "iopub.status.busy": "2021-06-16T02:05:31.499394Z",
     "iopub.status.idle": "2021-06-16T02:05:31.502208Z",
     "shell.execute_reply": "2021-06-16T02:05:31.501804Z"
    },
    "papermill": {
     "duration": 0.015998,
     "end_time": "2021-06-16T02:05:31.502299",
     "exception": false,
     "start_time": "2021-06-16T02:05:31.486301",
     "status": "completed"
    },
    "tags": []
   },
   "outputs": [
    {
     "data": {
      "text/markdown": [
       "- NFT Craze Cools As Sales Reportedly Plunge 95% Since May.  New data shows the non-fungible token (NFT) craze has hit a brick wall, with a dramatic drop in sales volume underway. NFTs took the cryptoverse by storm early this year, bringing in $1.5 billion in revenue during Q1, according to the Dapp Industry Report. Digital asset tracking website Nonfungible.com reports that NFT sales for the [&#8230;]The post NFT Craze Cools As Sales Reportedly Plunge 95% Since May appeared first on The Daily Hodl. ... [| Skaityti daugiau](https://dailyhodl.com/2021/06/15/nft-craze-cools-as-sales-reportedly-plunge-95-since-may/) "
      ],
      "text/plain": [
       "<IPython.core.display.Markdown object>"
      ]
     },
     "execution_count": 4,
     "metadata": {},
     "output_type": "execute_result"
    }
   ],
   "source": [
    "#hide_input\n",
    "#md('##### {}'.format(titleBTC)) \n",
    "md(\"- {}{} {}{} [| Skaityti daugiau]({}) \".format(btc['title'],'. ', btc['body'], ' ...', btc['url']))"
   ]
  },
  {
   "cell_type": "code",
   "execution_count": 5,
   "id": "organic-actress",
   "metadata": {
    "execution": {
     "iopub.execute_input": "2021-06-16T02:05:31.525335Z",
     "iopub.status.busy": "2021-06-16T02:05:31.524852Z",
     "iopub.status.idle": "2021-06-16T02:05:31.527802Z",
     "shell.execute_reply": "2021-06-16T02:05:31.527408Z"
    },
    "papermill": {
     "duration": 0.016162,
     "end_time": "2021-06-16T02:05:31.527897",
     "exception": false,
     "start_time": "2021-06-16T02:05:31.511735",
     "status": "completed"
    },
    "tags": []
   },
   "outputs": [
    {
     "data": {
      "text/markdown": [
       "- Another Legal Victory! Court Denies SEC Access To Ripple’s XRP Lobbying Efforts.  Stop me if you think you’ve heard this one before. San Francisco-based blockchain firm Ripple has scored yet another win in its ongoing high-stakes legal tussle with the United States Securities and Exchange Commission as the court has denied the SEC access to Ripple’s lobbying efforts. New Development In Case Against Ripple Magistrate Judge Sarah [&#8230;] ... [| Skaityti daugiau](https://zycrypto.com/another-legal-victory-court-denies-sec-access-to-ripples-xrp-lobbying-efforts/) "
      ],
      "text/plain": [
       "<IPython.core.display.Markdown object>"
      ]
     },
     "execution_count": 5,
     "metadata": {},
     "output_type": "execute_result"
    }
   ],
   "source": [
    "#hide_input\n",
    "#md('##### {}'.format(titleBTC)) \n",
    "md(\"- {}{} {}{} [| Skaityti daugiau]({}) \".format(xrp['title'],'. ', xrp['body'], ' ...', xrp['url']))"
   ]
  },
  {
   "cell_type": "code",
   "execution_count": 6,
   "id": "prompt-farmer",
   "metadata": {
    "execution": {
     "iopub.execute_input": "2021-06-16T02:05:31.551666Z",
     "iopub.status.busy": "2021-06-16T02:05:31.551164Z",
     "iopub.status.idle": "2021-06-16T02:05:31.554203Z",
     "shell.execute_reply": "2021-06-16T02:05:31.553796Z"
    },
    "papermill": {
     "duration": 0.01654,
     "end_time": "2021-06-16T02:05:31.554292",
     "exception": false,
     "start_time": "2021-06-16T02:05:31.537752",
     "status": "completed"
    },
    "tags": []
   },
   "outputs": [
    {
     "data": {
      "text/markdown": [
       "- Dogecoin, Filecoin, Tron Price Analysis: 15 June.  While Bitcoin’s 16.4% rise rally helped a majority of altcoins to boost their prices, Dogecoin, Filecoin, and Tron did not enjoy a similar experience. Regardless, Filecoin increased its market capitalization to $715 million, Dogecoin’s 24-hour trading volume rose to $ 1.71 billion and Tron achieved 2 billion total transactions milestone on June 14. Dogecoin [DOGE]:- [&#8230;] ... [| Skaityti daugiau](https://ambcrypto.com/dogecoin-filecoin-tron-price-analysis-15-june/) "
      ],
      "text/plain": [
       "<IPython.core.display.Markdown object>"
      ]
     },
     "execution_count": 6,
     "metadata": {},
     "output_type": "execute_result"
    }
   ],
   "source": [
    "#hide_input\n",
    "#md('##### {}'.format(titleBTC)) \n",
    "md(\"- {}{} {}{} [| Skaityti daugiau]({}) \".format(trx['title'],'. ', trx['body'], ' ...', trx['url']))"
   ]
  },
  {
   "cell_type": "code",
   "execution_count": 7,
   "id": "illegal-greece",
   "metadata": {
    "execution": {
     "iopub.execute_input": "2021-06-16T02:05:31.577898Z",
     "iopub.status.busy": "2021-06-16T02:05:31.577422Z",
     "iopub.status.idle": "2021-06-16T02:05:31.582578Z",
     "shell.execute_reply": "2021-06-16T02:05:31.583226Z"
    },
    "papermill": {
     "duration": 0.018772,
     "end_time": "2021-06-16T02:05:31.583330",
     "exception": false,
     "start_time": "2021-06-16T02:05:31.564558",
     "status": "completed"
    },
    "tags": []
   },
   "outputs": [
    {
     "data": {
      "text/markdown": [
       "- Ethereum price bounce to $2.6K fails to excite neutral-to-bearish pro traders.  Ethereum derivatives data highlights the lack of short-term strength as ETH price lags Bitcoin’s recovery to the $40,000 range. ... [| Skaityti daugiau](https://cointelegraph.com/news/ethereum-price-bounce-to-2-6k-fails-to-excite-neutral-to-bearish-pro-traders) "
      ],
      "text/plain": [
       "<IPython.core.display.Markdown object>"
      ]
     },
     "execution_count": 7,
     "metadata": {},
     "output_type": "execute_result"
    }
   ],
   "source": [
    "#hide_input\n",
    "#md('##### {}'.format(titleBTC)) \n",
    "md(\"- {}{} {}{} [| Skaityti daugiau]({}) \".format(eth['title'],'. ', eth['body'], ' ...', eth['url']))"
   ]
  },
  {
   "cell_type": "code",
   "execution_count": 8,
   "id": "sublime-lounge",
   "metadata": {
    "execution": {
     "iopub.execute_input": "2021-06-16T02:05:31.607907Z",
     "iopub.status.busy": "2021-06-16T02:05:31.607420Z",
     "iopub.status.idle": "2021-06-16T02:05:31.609857Z",
     "shell.execute_reply": "2021-06-16T02:05:31.610273Z"
    },
    "papermill": {
     "duration": 0.016592,
     "end_time": "2021-06-16T02:05:31.610374",
     "exception": false,
     "start_time": "2021-06-16T02:05:31.593782",
     "status": "completed"
    },
    "tags": []
   },
   "outputs": [
    {
     "data": {
      "text/markdown": [
       "- XRP, Cardano, Bitcoin Cash Price Analysis: 15 June.  The last two days have been favorable for the altcoin market. The total market cap of alts saw an almost 10% rise as major altcoins gained momentum. Cardano’s price was boosted by the news of its Plutus smart contract running smoothly on the Alonzo testnet. As Ripple’s fight against the SEC continued, XRP posted minor [&#8230;] ... [| Skaityti daugiau](https://ambcrypto.com/xrp-cardano-bitcoin-cash-price-analysis-15-june/) "
      ],
      "text/plain": [
       "<IPython.core.display.Markdown object>"
      ]
     },
     "execution_count": 8,
     "metadata": {},
     "output_type": "execute_result"
    }
   ],
   "source": [
    "#hide_input\n",
    "#md('##### {}'.format(titleBTC)) \n",
    "md(\"- {}{} {}{} [| Skaityti daugiau]({}) \".format(ada['title'],'. ', ada['body'], ' ...', ada['url']))"
   ]
  },
  {
   "cell_type": "code",
   "execution_count": 9,
   "id": "specified-ordering",
   "metadata": {
    "execution": {
     "iopub.execute_input": "2021-06-16T02:05:31.636009Z",
     "iopub.status.busy": "2021-06-16T02:05:31.635528Z",
     "iopub.status.idle": "2021-06-16T02:05:31.638528Z",
     "shell.execute_reply": "2021-06-16T02:05:31.638135Z"
    },
    "papermill": {
     "duration": 0.017437,
     "end_time": "2021-06-16T02:05:31.638622",
     "exception": false,
     "start_time": "2021-06-16T02:05:31.621185",
     "status": "completed"
    },
    "tags": []
   },
   "outputs": [
    {
     "data": {
      "text/markdown": [
       "- Another Legal Victory! Court Denies SEC Access To Ripple’s XRP Lobbying Efforts.  Stop me if you think you’ve heard this one before. San Francisco-based blockchain firm Ripple has scored yet another win in its ongoing high-stakes legal tussle with the United States Securities and Exchange Commission as the court has denied the SEC access to Ripple’s lobbying efforts. New Development In Case Against Ripple Magistrate Judge Sarah [&#8230;] ... [| Skaityti daugiau](https://zycrypto.com/another-legal-victory-court-denies-sec-access-to-ripples-xrp-lobbying-efforts/) "
      ],
      "text/plain": [
       "<IPython.core.display.Markdown object>"
      ]
     },
     "execution_count": 9,
     "metadata": {},
     "output_type": "execute_result"
    }
   ],
   "source": [
    "#hide_input\n",
    "#md('##### {}'.format(titleBTC)) \n",
    "md(\"- {}{} {}{} [| Skaityti daugiau]({}) \".format(exchange['title'],'. ', exchange['body'], ' ...', exchange['url']))"
   ]
  },
  {
   "cell_type": "code",
   "execution_count": null,
   "id": "tender-livestock",
   "metadata": {
    "papermill": {
     "duration": 0.011329,
     "end_time": "2021-06-16T02:05:31.661070",
     "exception": false,
     "start_time": "2021-06-16T02:05:31.649741",
     "status": "completed"
    },
    "tags": []
   },
   "outputs": [],
   "source": []
  },
  {
   "cell_type": "code",
   "execution_count": null,
   "id": "appreciated-diamond",
   "metadata": {
    "papermill": {
     "duration": 0.011112,
     "end_time": "2021-06-16T02:05:31.683397",
     "exception": false,
     "start_time": "2021-06-16T02:05:31.672285",
     "status": "completed"
    },
    "tags": []
   },
   "outputs": [],
   "source": []
  },
  {
   "cell_type": "code",
   "execution_count": null,
   "id": "romance-sweden",
   "metadata": {
    "papermill": {
     "duration": 0.010979,
     "end_time": "2021-06-16T02:05:31.705438",
     "exception": false,
     "start_time": "2021-06-16T02:05:31.694459",
     "status": "completed"
    },
    "tags": []
   },
   "outputs": [],
   "source": []
  },
  {
   "cell_type": "code",
   "execution_count": null,
   "id": "dietary-statistics",
   "metadata": {
    "papermill": {
     "duration": 0.011882,
     "end_time": "2021-06-16T02:05:31.728384",
     "exception": false,
     "start_time": "2021-06-16T02:05:31.716502",
     "status": "completed"
    },
    "tags": []
   },
   "outputs": [],
   "source": []
  }
 ],
 "metadata": {
  "kernelspec": {
   "display_name": "Python 3",
   "language": "python",
   "name": "python3"
  },
  "language_info": {
   "codemirror_mode": {
    "name": "ipython",
    "version": 3
   },
   "file_extension": ".py",
   "mimetype": "text/x-python",
   "name": "python",
   "nbconvert_exporter": "python",
   "pygments_lexer": "ipython3",
   "version": "3.6.13"
  },
  "papermill": {
   "default_parameters": {},
   "duration": 10.752541,
   "end_time": "2021-06-16T02:05:32.145343",
   "environment_variables": {},
   "exception": null,
   "input_path": "Market-News.ipynb",
   "output_path": "Market-News.ipynb",
   "parameters": {},
   "start_time": "2021-06-16T02:05:21.392802",
   "version": "2.2.2"
  }
 },
 "nbformat": 4,
 "nbformat_minor": 5
}