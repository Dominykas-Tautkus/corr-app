{
 "cells": [
  {
   "cell_type": "markdown",
   "id": "short-greensboro",
   "metadata": {
    "papermill": {
     "duration": 0.016111,
     "end_time": "2021-02-01T02:01:46.032377",
     "exception": false,
     "start_time": "2021-02-01T02:01:46.016266",
     "status": "completed"
    },
    "tags": []
   },
   "source": [
    "# Kriptovaliutų naujienos"
   ]
  },
  {
   "cell_type": "code",
   "execution_count": 1,
   "id": "functioning-knowing",
   "metadata": {
    "execution": {
     "iopub.execute_input": "2021-02-01T02:01:46.070201Z",
     "iopub.status.busy": "2021-02-01T02:01:46.069482Z",
     "iopub.status.idle": "2021-02-01T02:01:47.526954Z",
     "shell.execute_reply": "2021-02-01T02:01:47.526381Z"
    },
    "papermill": {
     "duration": 1.481044,
     "end_time": "2021-02-01T02:01:47.527144",
     "exception": false,
     "start_time": "2021-02-01T02:01:46.046100",
     "status": "completed"
    },
    "tags": []
   },
   "outputs": [],
   "source": [
    "#hide_input\n",
    "import warnings\n",
    "warnings.filterwarnings('ignore')\n",
    "from scripts.read_data import read_api\n",
    "from scripts.read_data import read_news\n",
    "from scripts.read_data import read_covid\n",
    "import matplotlib.pyplot as plt \n",
    "from IPython.display import Markdown as md"
   ]
  },
  {
   "cell_type": "code",
   "execution_count": 2,
   "id": "shared-acceptance",
   "metadata": {
    "execution": {
     "iopub.execute_input": "2021-02-01T02:01:47.557090Z",
     "iopub.status.busy": "2021-02-01T02:01:47.556035Z",
     "iopub.status.idle": "2021-02-01T02:01:57.667822Z",
     "shell.execute_reply": "2021-02-01T02:01:57.667200Z"
    },
    "papermill": {
     "duration": 10.129406,
     "end_time": "2021-02-01T02:01:57.667989",
     "exception": false,
     "start_time": "2021-02-01T02:01:47.538583",
     "status": "completed"
    },
    "tags": []
   },
   "outputs": [],
   "source": [
    "#hide_input\n",
    "blockchain = read_news('blockchain') \n",
    "btc = read_news('btc') \n",
    "xrp = read_news('xrp') \n",
    "trx = read_news('trx') \n",
    "eth = read_news('eth')  \n",
    "ada = read_news('ada')\n",
    "exchange = read_news('exchange') "
   ]
  },
  {
   "cell_type": "code",
   "execution_count": 3,
   "id": "synthetic-notion",
   "metadata": {
    "execution": {
     "iopub.execute_input": "2021-02-01T02:01:57.698936Z",
     "iopub.status.busy": "2021-02-01T02:01:57.698279Z",
     "iopub.status.idle": "2021-02-01T02:01:57.703667Z",
     "shell.execute_reply": "2021-02-01T02:01:57.702637Z"
    },
    "papermill": {
     "duration": 0.023521,
     "end_time": "2021-02-01T02:01:57.703893",
     "exception": false,
     "start_time": "2021-02-01T02:01:57.680372",
     "status": "completed"
    },
    "tags": []
   },
   "outputs": [
    {
     "data": {
      "text/markdown": [
       "- ProBit Exchange Retains Its Grip on the IEO Space with Nearly USD 2 Million Raised.  The text below is an advertorial article that was not written by Cryptonews.com journalists. ProBit Exchange has once established itself as the pacesetter in the IEO space following several successful IEO including a massive USD 1.5 million raise for blockchain of things project SmartKey and another USD 100,000 for decentralized vehicle marketplace Carnomaly, proving that IEO remains a staple of ... [| Skaityti daugiau](https://cryptonews.com/news/probit-exchange-retains-its-grip-on-the-ieo-space-with-nearl-9076.htm) "
      ],
      "text/plain": [
       "<IPython.core.display.Markdown object>"
      ]
     },
     "execution_count": 3,
     "metadata": {},
     "output_type": "execute_result"
    }
   ],
   "source": [
    "#hide_input\n",
    "#md('##### {}'.format(titleBTC)) \n",
    "md(\"- {}{} {}{} [| Skaityti daugiau]({}) \".format(blockchain['title'],'. ', blockchain['body'], ' ...', blockchain['url']))"
   ]
  },
  {
   "cell_type": "code",
   "execution_count": 4,
   "id": "aging-caution",
   "metadata": {
    "execution": {
     "iopub.execute_input": "2021-02-01T02:01:57.732886Z",
     "iopub.status.busy": "2021-02-01T02:01:57.732175Z",
     "iopub.status.idle": "2021-02-01T02:01:57.736121Z",
     "shell.execute_reply": "2021-02-01T02:01:57.736658Z"
    },
    "papermill": {
     "duration": 0.020821,
     "end_time": "2021-02-01T02:01:57.736831",
     "exception": false,
     "start_time": "2021-02-01T02:01:57.716010",
     "status": "completed"
    },
    "tags": []
   },
   "outputs": [
    {
     "data": {
      "text/markdown": [
       "- Mr. Beast Tweets About Bitcoin to His 10 Million Twitter Followers.  Bitcoin has done extremely well over the past few months in terms of its price action. The cryptocurrency shot to all-time highs above $40,000 earlier this month. The cryptocurrency now trades for $32,500 after some consolidation following the strong rally. This price action has drawn the cryptocurrency some attention from prominent investors and celebrities. One of the latest prominent names in media to take note of Bitcoin is Mr. Beast, the Youtuber. Mr. Beast recently [&#8230;] ... [| Skaityti daugiau](https://bitcoinist.com/mr-beast-tweets-about-bitcoin-to-his-10-million-twitter-followers/?utm_source=rss&utm_medium=rss&utm_campaign=mr-beast-tweets-about-bitcoin-to-his-10-million-twitter-followers) "
      ],
      "text/plain": [
       "<IPython.core.display.Markdown object>"
      ]
     },
     "execution_count": 4,
     "metadata": {},
     "output_type": "execute_result"
    }
   ],
   "source": [
    "#hide_input\n",
    "#md('##### {}'.format(titleBTC)) \n",
    "md(\"- {}{} {}{} [| Skaityti daugiau]({}) \".format(btc['title'],'. ', btc['body'], ' ...', btc['url']))"
   ]
  },
  {
   "cell_type": "code",
   "execution_count": 5,
   "id": "organic-actress",
   "metadata": {
    "execution": {
     "iopub.execute_input": "2021-02-01T02:01:57.767732Z",
     "iopub.status.busy": "2021-02-01T02:01:57.764940Z",
     "iopub.status.idle": "2021-02-01T02:01:57.770123Z",
     "shell.execute_reply": "2021-02-01T02:01:57.769536Z"
    },
    "papermill": {
     "duration": 0.0217,
     "end_time": "2021-02-01T02:01:57.770255",
     "exception": false,
     "start_time": "2021-02-01T02:01:57.748555",
     "status": "completed"
    },
    "tags": []
   },
   "outputs": [
    {
     "data": {
      "text/markdown": [
       "- Strategist Who Called Massive XRP Rally Forecasts What’s Next for Fourth-Largest Crypto Asset.  A closely-followed crypto strategist and trader is updating his short-term forecast for XRP. In a new tweet, the pseudonymous analyst, known in the industry as Credible Crypto tells his 102,600 followers that XRP is not done moving higher following its ascent to a 30-day high of $0.48. &#8220;So I suspect we get our monthly close above [&#8230;]The post Strategist Who Called Massive XRP Rally Forecasts What&#8217;s Next for Fourth-Largest Crypto Asset appeared first on The Daily Hodl. ... [| Skaityti daugiau](https://dailyhodl.com/2021/01/31/strategist-who-called-massive-xrp-rally-forecasts-whats-next-for-fourth-largest-crypto-asset/) "
      ],
      "text/plain": [
       "<IPython.core.display.Markdown object>"
      ]
     },
     "execution_count": 5,
     "metadata": {},
     "output_type": "execute_result"
    }
   ],
   "source": [
    "#hide_input\n",
    "#md('##### {}'.format(titleBTC)) \n",
    "md(\"- {}{} {}{} [| Skaityti daugiau]({}) \".format(xrp['title'],'. ', xrp['body'], ' ...', xrp['url']))"
   ]
  },
  {
   "cell_type": "code",
   "execution_count": 6,
   "id": "prompt-farmer",
   "metadata": {
    "execution": {
     "iopub.execute_input": "2021-02-01T02:01:57.801646Z",
     "iopub.status.busy": "2021-02-01T02:01:57.800942Z",
     "iopub.status.idle": "2021-02-01T02:01:57.804502Z",
     "shell.execute_reply": "2021-02-01T02:01:57.803924Z"
    },
    "papermill": {
     "duration": 0.021562,
     "end_time": "2021-02-01T02:01:57.804653",
     "exception": false,
     "start_time": "2021-02-01T02:01:57.783091",
     "status": "completed"
    },
    "tags": []
   },
   "outputs": [
    {
     "data": {
      "text/markdown": [
       "- Ethereum, Tron, SushiSwap Price Analysis: 31 January.  Even though Bitcoin moved closer to the $34,000 level and saw some positive movement on the charts, some altcoins remained cautious and awaited stronger cues for a more definitive move. Such was the case with ETH and TRX, both of which were moving sideways at the time of writing. On the other hand, SUSHI showed [&#8230;] ... [| Skaityti daugiau](https://ambcrypto.com/ethereum-tron-sushiswap-price-analysis-31-january/) "
      ],
      "text/plain": [
       "<IPython.core.display.Markdown object>"
      ]
     },
     "execution_count": 6,
     "metadata": {},
     "output_type": "execute_result"
    }
   ],
   "source": [
    "#hide_input\n",
    "#md('##### {}'.format(titleBTC)) \n",
    "md(\"- {}{} {}{} [| Skaityti daugiau]({}) \".format(trx['title'],'. ', trx['body'], ' ...', trx['url']))"
   ]
  },
  {
   "cell_type": "code",
   "execution_count": 7,
   "id": "illegal-greece",
   "metadata": {
    "execution": {
     "iopub.execute_input": "2021-02-01T02:01:57.835497Z",
     "iopub.status.busy": "2021-02-01T02:01:57.834832Z",
     "iopub.status.idle": "2021-02-01T02:01:57.838077Z",
     "shell.execute_reply": "2021-02-01T02:01:57.838645Z"
    },
    "papermill": {
     "duration": 0.020998,
     "end_time": "2021-02-01T02:01:57.838786",
     "exception": false,
     "start_time": "2021-02-01T02:01:57.817788",
     "status": "completed"
    },
    "tags": []
   },
   "outputs": [
    {
     "data": {
      "text/markdown": [
       "- Top 5 cryptocurrencies to watch this week: BTC, ETH, UNI, ATOM, COMP.  Bitcoin price fell back into the descending triangle but this dip may attract buyers to altcoins and DeFi tokens in the short term. ... [| Skaityti daugiau](https://cointelegraph.com/news/top-5-cryptocurrencies-to-watch-this-week-btc-eth-uni-atom-comp) "
      ],
      "text/plain": [
       "<IPython.core.display.Markdown object>"
      ]
     },
     "execution_count": 7,
     "metadata": {},
     "output_type": "execute_result"
    }
   ],
   "source": [
    "#hide_input\n",
    "#md('##### {}'.format(titleBTC)) \n",
    "md(\"- {}{} {}{} [| Skaityti daugiau]({}) \".format(eth['title'],'. ', eth['body'], ' ...', eth['url']))"
   ]
  },
  {
   "cell_type": "code",
   "execution_count": 8,
   "id": "sublime-lounge",
   "metadata": {
    "execution": {
     "iopub.execute_input": "2021-02-01T02:01:57.870166Z",
     "iopub.status.busy": "2021-02-01T02:01:57.869458Z",
     "iopub.status.idle": "2021-02-01T02:01:57.872975Z",
     "shell.execute_reply": "2021-02-01T02:01:57.872230Z"
    },
    "papermill": {
     "duration": 0.021184,
     "end_time": "2021-02-01T02:01:57.873097",
     "exception": false,
     "start_time": "2021-02-01T02:01:57.851913",
     "status": "completed"
    },
    "tags": []
   },
   "outputs": [
    {
     "data": {
      "text/markdown": [
       "- Cardano, Cosmos, Dogecoin Price Analysis: 31 January.  Cardano was unable to break above $0.367 but the overall trend was still bullish as the candlesticks remained above their 20-SMA and 50-SMA. Cosmos traded close to its immediate resistance and indicated the likelihood of an upward breakout as the indicators flashed bullish signals. Dogecoin cut its losses at $0.024 and was projected to move [&#8230;] ... [| Skaityti daugiau](https://ambcrypto.com/cardano-cosmos-dogecoin-price-analysis-31-january/) "
      ],
      "text/plain": [
       "<IPython.core.display.Markdown object>"
      ]
     },
     "execution_count": 8,
     "metadata": {},
     "output_type": "execute_result"
    }
   ],
   "source": [
    "#hide_input\n",
    "#md('##### {}'.format(titleBTC)) \n",
    "md(\"- {}{} {}{} [| Skaityti daugiau]({}) \".format(ada['title'],'. ', ada['body'], ' ...', ada['url']))"
   ]
  },
  {
   "cell_type": "code",
   "execution_count": 9,
   "id": "specified-ordering",
   "metadata": {
    "execution": {
     "iopub.execute_input": "2021-02-01T02:01:57.917998Z",
     "iopub.status.busy": "2021-02-01T02:01:57.917242Z",
     "iopub.status.idle": "2021-02-01T02:01:57.920022Z",
     "shell.execute_reply": "2021-02-01T02:01:57.920804Z"
    },
    "papermill": {
     "duration": 0.032819,
     "end_time": "2021-02-01T02:01:57.920952",
     "exception": false,
     "start_time": "2021-02-01T02:01:57.888133",
     "status": "completed"
    },
    "tags": []
   },
   "outputs": [
    {
     "data": {
      "text/markdown": [
       "- ProBit Exchange Retains Its Grip on the IEO Space with Nearly USD 2 Million Raised.  The text below is an advertorial article that was not written by Cryptonews.com journalists. ProBit Exchange has once established itself as the pacesetter in the IEO space following several successful IEO including a massive USD 1.5 million raise for blockchain of things project SmartKey and another USD 100,000 for decentralized vehicle marketplace Carnomaly, proving that IEO remains a staple of ... [| Skaityti daugiau](https://cryptonews.com/news/probit-exchange-retains-its-grip-on-the-ieo-space-with-nearl-9076.htm) "
      ],
      "text/plain": [
       "<IPython.core.display.Markdown object>"
      ]
     },
     "execution_count": 9,
     "metadata": {},
     "output_type": "execute_result"
    }
   ],
   "source": [
    "#hide_input\n",
    "#md('##### {}'.format(titleBTC)) \n",
    "md(\"- {}{} {}{} [| Skaityti daugiau]({}) \".format(exchange['title'],'. ', exchange['body'], ' ...', exchange['url']))"
   ]
  },
  {
   "cell_type": "code",
   "execution_count": null,
   "id": "tender-livestock",
   "metadata": {
    "papermill": {
     "duration": 0.014608,
     "end_time": "2021-02-01T02:01:57.950238",
     "exception": false,
     "start_time": "2021-02-01T02:01:57.935630",
     "status": "completed"
    },
    "tags": []
   },
   "outputs": [],
   "source": []
  },
  {
   "cell_type": "code",
   "execution_count": null,
   "id": "appreciated-diamond",
   "metadata": {
    "papermill": {
     "duration": 0.016022,
     "end_time": "2021-02-01T02:01:57.980985",
     "exception": false,
     "start_time": "2021-02-01T02:01:57.964963",
     "status": "completed"
    },
    "tags": []
   },
   "outputs": [],
   "source": []
  },
  {
   "cell_type": "code",
   "execution_count": null,
   "id": "romance-sweden",
   "metadata": {
    "papermill": {
     "duration": 0.014428,
     "end_time": "2021-02-01T02:01:58.010389",
     "exception": false,
     "start_time": "2021-02-01T02:01:57.995961",
     "status": "completed"
    },
    "tags": []
   },
   "outputs": [],
   "source": []
  },
  {
   "cell_type": "code",
   "execution_count": null,
   "id": "dietary-statistics",
   "metadata": {
    "papermill": {
     "duration": 0.013813,
     "end_time": "2021-02-01T02:01:58.038922",
     "exception": false,
     "start_time": "2021-02-01T02:01:58.025109",
     "status": "completed"
    },
    "tags": []
   },
   "outputs": [],
   "source": []
  }
 ],
 "metadata": {
  "kernelspec": {
   "display_name": "Python 3",
   "language": "python",
   "name": "python3"
  },
  "language_info": {
   "codemirror_mode": {
    "name": "ipython",
    "version": 3
   },
   "file_extension": ".py",
   "mimetype": "text/x-python",
   "name": "python",
   "nbconvert_exporter": "python",
   "pygments_lexer": "ipython3",
   "version": "3.6.12"
  },
  "papermill": {
   "default_parameters": {},
   "duration": 14.370095,
   "end_time": "2021-02-01T02:01:59.232318",
   "environment_variables": {},
   "exception": null,
   "input_path": "Market-News.ipynb",
   "output_path": "Market-News.ipynb",
   "parameters": {},
   "start_time": "2021-02-01T02:01:44.862223",
   "version": "2.2.2"
  }
 },
 "nbformat": 4,
 "nbformat_minor": 5
}