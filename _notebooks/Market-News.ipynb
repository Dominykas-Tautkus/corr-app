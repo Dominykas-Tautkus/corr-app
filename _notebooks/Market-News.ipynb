{
 "cells": [
  {
   "cell_type": "markdown",
   "id": "short-greensboro",
   "metadata": {
    "papermill": {
     "duration": 0.016137,
     "end_time": "2021-06-20T02:11:03.963761",
     "exception": false,
     "start_time": "2021-06-20T02:11:03.947624",
     "status": "completed"
    },
    "tags": []
   },
   "source": [
    "# Kriptovaliutų naujienos"
   ]
  },
  {
   "cell_type": "code",
   "execution_count": 1,
   "id": "functioning-knowing",
   "metadata": {
    "execution": {
     "iopub.execute_input": "2021-06-20T02:11:04.000073Z",
     "iopub.status.busy": "2021-06-20T02:11:03.999378Z",
     "iopub.status.idle": "2021-06-20T02:11:05.394295Z",
     "shell.execute_reply": "2021-06-20T02:11:05.393367Z"
    },
    "papermill": {
     "duration": 1.418019,
     "end_time": "2021-06-20T02:11:05.394456",
     "exception": false,
     "start_time": "2021-06-20T02:11:03.976437",
     "status": "completed"
    },
    "tags": []
   },
   "outputs": [],
   "source": [
    "#hide_input\n",
    "import warnings\n",
    "warnings.filterwarnings('ignore')\n",
    "from scripts.read_data import read_api\n",
    "from scripts.read_data import read_news\n",
    "from scripts.read_data import read_covid\n",
    "import matplotlib.pyplot as plt \n",
    "from IPython.display import Markdown as md"
   ]
  },
  {
   "cell_type": "code",
   "execution_count": 2,
   "id": "shared-acceptance",
   "metadata": {
    "execution": {
     "iopub.execute_input": "2021-06-20T02:11:05.425208Z",
     "iopub.status.busy": "2021-06-20T02:11:05.424385Z",
     "iopub.status.idle": "2021-06-20T02:11:14.703336Z",
     "shell.execute_reply": "2021-06-20T02:11:14.703906Z"
    },
    "papermill": {
     "duration": 9.29825,
     "end_time": "2021-06-20T02:11:14.704680",
     "exception": false,
     "start_time": "2021-06-20T02:11:05.406430",
     "status": "completed"
    },
    "tags": []
   },
   "outputs": [],
   "source": [
    "#hide_input\n",
    "blockchain = read_news('blockchain') \n",
    "btc = read_news('btc') \n",
    "xrp = read_news('xrp') \n",
    "trx = read_news('trx') \n",
    "eth = read_news('eth')  \n",
    "ada = read_news('ada')\n",
    "exchange = read_news('exchange') "
   ]
  },
  {
   "cell_type": "code",
   "execution_count": 3,
   "id": "synthetic-notion",
   "metadata": {
    "execution": {
     "iopub.execute_input": "2021-06-20T02:11:14.734954Z",
     "iopub.status.busy": "2021-06-20T02:11:14.734145Z",
     "iopub.status.idle": "2021-06-20T02:11:14.737642Z",
     "shell.execute_reply": "2021-06-20T02:11:14.737102Z"
    },
    "papermill": {
     "duration": 0.021279,
     "end_time": "2021-06-20T02:11:14.737768",
     "exception": false,
     "start_time": "2021-06-20T02:11:14.716489",
     "status": "completed"
    },
    "tags": []
   },
   "outputs": [
    {
     "data": {
      "text/markdown": [
       "- US Congress Creates New Crypto Working Group to Tackle Blockchain Regulation, CBDCs, and More.  Earlier this week, Congresswoman Maxine Waters announced that Congress had formed a new working group that would focus on cryptocurrency and fintech policy. Called the Blockchain Caucus or Fintech Task Force, the House Democrat group will feature 12 members of the House Financial Services Committee. I applaud Chairwoman Waters&#39; decision to elevate the attention given [&#8230;] ... [| Skaityti daugiau](https://bitcoinist.com/us-congress-creates-new-crypto-working-group-to-tackle-blockchain-regulation-cbdcs-and-more/?utm_source=rss&utm_medium=rss&utm_campaign=us-congress-creates-new-crypto-working-group-to-tackle-blockchain-regulation-cbdcs-and-more) "
      ],
      "text/plain": [
       "<IPython.core.display.Markdown object>"
      ]
     },
     "execution_count": 3,
     "metadata": {},
     "output_type": "execute_result"
    }
   ],
   "source": [
    "#hide_input\n",
    "#md('##### {}'.format(titleBTC)) \n",
    "md(\"- {}{} {}{} [| Skaityti daugiau]({}) \".format(blockchain['title'],'. ', blockchain['body'], ' ...', blockchain['url']))"
   ]
  },
  {
   "cell_type": "code",
   "execution_count": 4,
   "id": "aging-caution",
   "metadata": {
    "execution": {
     "iopub.execute_input": "2021-06-20T02:11:14.766867Z",
     "iopub.status.busy": "2021-06-20T02:11:14.766233Z",
     "iopub.status.idle": "2021-06-20T02:11:14.769168Z",
     "shell.execute_reply": "2021-06-20T02:11:14.769784Z"
    },
    "papermill": {
     "duration": 0.020499,
     "end_time": "2021-06-20T02:11:14.769941",
     "exception": false,
     "start_time": "2021-06-20T02:11:14.749442",
     "status": "completed"
    },
    "tags": []
   },
   "outputs": [
    {
     "data": {
      "text/markdown": [
       "- Rich Dad Poor Dad’s Robert Kiyosaki Warns of ‘Biggest Crash in World History’ — Expects $24K Bitcoin Price.  Robert Kiyosaki, the best-selling author of &#8220;Rich Dad Poor Dad,&#8221; has predicted the &#8220;biggest crash&#8221; in world history. He also expects the price of bitcoin to fall to the $24K level. Robert Kiyosaki Foresees Biggest Crash in History Coming Famous author and investor Robert Kiyosaki has predicted that the biggest crash in the history of [&#8230;] ... [| Skaityti daugiau](https://news.bitcoin.com/rich-dad-poor-dads-robert-kiyosaki-biggest-crash-in-world-history-24k-bitcoin-price/) "
      ],
      "text/plain": [
       "<IPython.core.display.Markdown object>"
      ]
     },
     "execution_count": 4,
     "metadata": {},
     "output_type": "execute_result"
    }
   ],
   "source": [
    "#hide_input\n",
    "#md('##### {}'.format(titleBTC)) \n",
    "md(\"- {}{} {}{} [| Skaityti daugiau]({}) \".format(btc['title'],'. ', btc['body'], ' ...', btc['url']))"
   ]
  },
  {
   "cell_type": "code",
   "execution_count": 5,
   "id": "organic-actress",
   "metadata": {
    "execution": {
     "iopub.execute_input": "2021-06-20T02:11:14.799984Z",
     "iopub.status.busy": "2021-06-20T02:11:14.799334Z",
     "iopub.status.idle": "2021-06-20T02:11:14.802684Z",
     "shell.execute_reply": "2021-06-20T02:11:14.802032Z"
    },
    "papermill": {
     "duration": 0.020773,
     "end_time": "2021-06-20T02:11:14.802809",
     "exception": false,
     "start_time": "2021-06-20T02:11:14.782036",
     "status": "completed"
    },
    "tags": []
   },
   "outputs": [
    {
     "data": {
      "text/markdown": [
       "- XRP lawsuit: Here’s what the SEC has that Ripple doesn’t.  The SEC v. Ripple lawsuit has been going on since December last year and both the plaintiffs and defendants have been trying to convince the court of their side of the story. Every ruling that has been passed since has had a lot of impact on not just the parties involved, but the fate of [&#8230;] ... [| Skaityti daugiau](https://ambcrypto.com/xrp-lawsuit-heres-what-the-sec-has-that-ripple-doesnt/) "
      ],
      "text/plain": [
       "<IPython.core.display.Markdown object>"
      ]
     },
     "execution_count": 5,
     "metadata": {},
     "output_type": "execute_result"
    }
   ],
   "source": [
    "#hide_input\n",
    "#md('##### {}'.format(titleBTC)) \n",
    "md(\"- {}{} {}{} [| Skaityti daugiau]({}) \".format(xrp['title'],'. ', xrp['body'], ' ...', xrp['url']))"
   ]
  },
  {
   "cell_type": "code",
   "execution_count": 6,
   "id": "prompt-farmer",
   "metadata": {
    "execution": {
     "iopub.execute_input": "2021-06-20T02:11:14.833794Z",
     "iopub.status.busy": "2021-06-20T02:11:14.832591Z",
     "iopub.status.idle": "2021-06-20T02:11:14.837497Z",
     "shell.execute_reply": "2021-06-20T02:11:14.836951Z"
    },
    "papermill": {
     "duration": 0.021397,
     "end_time": "2021-06-20T02:11:14.837623",
     "exception": false,
     "start_time": "2021-06-20T02:11:14.816226",
     "status": "completed"
    },
    "tags": []
   },
   "outputs": [
    {
     "data": {
      "text/markdown": [
       "- Tron (TRX) Ranks 1st in Transactions Per Second, Eclipsing ADA and XRP.  According to Coinmetrics, Tron is the fastest blockchain in terms of transactions per second Tron&#8217;s throughput exceeds that of Bitcoin, Ethereum, Cardano and XRP Tron&#8217;s users continue to grow with the network exceeding 40 million unique accounts However, TRX is currently trading above the 200-day moving average with a potential death cross, only weeks away The Tron (TRX) network ranks first in terms of handling the highest number of transactions per second. This milestone was observed by Tron community member [&#8230;] ... [| Skaityti daugiau](https://en.ethereumworldnews.com/tron-trx-ranks-1st-in-transactions-per-second-eclipsing-ada-and-xrp/) "
      ],
      "text/plain": [
       "<IPython.core.display.Markdown object>"
      ]
     },
     "execution_count": 6,
     "metadata": {},
     "output_type": "execute_result"
    }
   ],
   "source": [
    "#hide_input\n",
    "#md('##### {}'.format(titleBTC)) \n",
    "md(\"- {}{} {}{} [| Skaityti daugiau]({}) \".format(trx['title'],'. ', trx['body'], ' ...', trx['url']))"
   ]
  },
  {
   "cell_type": "code",
   "execution_count": 7,
   "id": "illegal-greece",
   "metadata": {
    "execution": {
     "iopub.execute_input": "2021-06-20T02:11:14.871028Z",
     "iopub.status.busy": "2021-06-20T02:11:14.870341Z",
     "iopub.status.idle": "2021-06-20T02:11:14.873583Z",
     "shell.execute_reply": "2021-06-20T02:11:14.874159Z"
    },
    "papermill": {
     "duration": 0.023231,
     "end_time": "2021-06-20T02:11:14.874300",
     "exception": false,
     "start_time": "2021-06-20T02:11:14.851069",
     "status": "completed"
    },
    "tags": []
   },
   "outputs": [
    {
     "data": {
      "text/markdown": [
       "- What you should know about the impact of Ethereum’s scalability.  On the back of a brief market crash on 18 June, Ethereum&#8217;s price was attempting to recover somewhat after trading around the $2200-level. This is the second time Ethereum has recovered from a significant drop in this range and it is important for the altcoin to remain steady above the psychologically important price level of [&#8230;] ... [| Skaityti daugiau](https://ambcrypto.com/what-you-should-know-about-the-impact-of-ethereums-scalability/) "
      ],
      "text/plain": [
       "<IPython.core.display.Markdown object>"
      ]
     },
     "execution_count": 7,
     "metadata": {},
     "output_type": "execute_result"
    }
   ],
   "source": [
    "#hide_input\n",
    "#md('##### {}'.format(titleBTC)) \n",
    "md(\"- {}{} {}{} [| Skaityti daugiau]({}) \".format(eth['title'],'. ', eth['body'], ' ...', eth['url']))"
   ]
  },
  {
   "cell_type": "code",
   "execution_count": 8,
   "id": "sublime-lounge",
   "metadata": {
    "execution": {
     "iopub.execute_input": "2021-06-20T02:11:14.908267Z",
     "iopub.status.busy": "2021-06-20T02:11:14.907617Z",
     "iopub.status.idle": "2021-06-20T02:11:14.910196Z",
     "shell.execute_reply": "2021-06-20T02:11:14.910752Z"
    },
    "papermill": {
     "duration": 0.022744,
     "end_time": "2021-06-20T02:11:14.910885",
     "exception": false,
     "start_time": "2021-06-20T02:11:14.888141",
     "status": "completed"
    },
    "tags": []
   },
   "outputs": [
    {
     "data": {
      "text/markdown": [
       "- Charles Hoskinson Finds Fault With Bitcoin Maxis, Looks Forward to Tesla, Square Adopting Cardano.  It is illogical for Tesla to truly care about alternative energy, sustainability, carbon reduction, and neutrality and still be so closely associated with Bitcoin, whose system doesn’t have a built-in mechanism to constraint energy consumption. This is according to Cardano’s founder and Ethereum’s co-founder Charles Hoskinson. Speaking on a podcast hosted by AI research scientist [&#8230;] ... [| Skaityti daugiau](https://zycrypto.com/charles-hoskinson-finds-fault-with-bitcoin-maxis-looks-forward-to-tesla-square-adopting-cardano/) "
      ],
      "text/plain": [
       "<IPython.core.display.Markdown object>"
      ]
     },
     "execution_count": 8,
     "metadata": {},
     "output_type": "execute_result"
    }
   ],
   "source": [
    "#hide_input\n",
    "#md('##### {}'.format(titleBTC)) \n",
    "md(\"- {}{} {}{} [| Skaityti daugiau]({}) \".format(ada['title'],'. ', ada['body'], ' ...', ada['url']))"
   ]
  },
  {
   "cell_type": "code",
   "execution_count": 9,
   "id": "specified-ordering",
   "metadata": {
    "execution": {
     "iopub.execute_input": "2021-06-20T02:11:14.944581Z",
     "iopub.status.busy": "2021-06-20T02:11:14.943949Z",
     "iopub.status.idle": "2021-06-20T02:11:14.947705Z",
     "shell.execute_reply": "2021-06-20T02:11:14.947227Z"
    },
    "papermill": {
     "duration": 0.022708,
     "end_time": "2021-06-20T02:11:14.947854",
     "exception": false,
     "start_time": "2021-06-20T02:11:14.925146",
     "status": "completed"
    },
    "tags": []
   },
   "outputs": [
    {
     "data": {
      "text/markdown": [
       "- Fantom enters the Gemini and BitFinex platform.  TL;DR Breakdown • Fantom attracts the best cryptocurrency platforms after its rise.• FTM technology promises to be innovative in the Ethereum ecosystem. The Gemini and BitFinex cryptocurrency platforms include the Fantom token for safe trading. Both websites announced in the last hours that they now support the DeFi FTM token for investors to buy. The [&#8230;] ... [| Skaityti daugiau](https://www.cryptopolitan.com/fantom-enters-the-gemini-and-bitfinex/) "
      ],
      "text/plain": [
       "<IPython.core.display.Markdown object>"
      ]
     },
     "execution_count": 9,
     "metadata": {},
     "output_type": "execute_result"
    }
   ],
   "source": [
    "#hide_input\n",
    "#md('##### {}'.format(titleBTC)) \n",
    "md(\"- {}{} {}{} [| Skaityti daugiau]({}) \".format(exchange['title'],'. ', exchange['body'], ' ...', exchange['url']))"
   ]
  },
  {
   "cell_type": "code",
   "execution_count": null,
   "id": "tender-livestock",
   "metadata": {
    "papermill": {
     "duration": 0.01692,
     "end_time": "2021-06-20T02:11:14.980085",
     "exception": false,
     "start_time": "2021-06-20T02:11:14.963165",
     "status": "completed"
    },
    "tags": []
   },
   "outputs": [],
   "source": []
  },
  {
   "cell_type": "code",
   "execution_count": null,
   "id": "appreciated-diamond",
   "metadata": {
    "papermill": {
     "duration": 0.014519,
     "end_time": "2021-06-20T02:11:15.008562",
     "exception": false,
     "start_time": "2021-06-20T02:11:14.994043",
     "status": "completed"
    },
    "tags": []
   },
   "outputs": [],
   "source": []
  },
  {
   "cell_type": "code",
   "execution_count": null,
   "id": "romance-sweden",
   "metadata": {
    "papermill": {
     "duration": 0.014106,
     "end_time": "2021-06-20T02:11:15.036576",
     "exception": false,
     "start_time": "2021-06-20T02:11:15.022470",
     "status": "completed"
    },
    "tags": []
   },
   "outputs": [],
   "source": []
  },
  {
   "cell_type": "code",
   "execution_count": null,
   "id": "dietary-statistics",
   "metadata": {
    "papermill": {
     "duration": 0.016696,
     "end_time": "2021-06-20T02:11:15.067752",
     "exception": false,
     "start_time": "2021-06-20T02:11:15.051056",
     "status": "completed"
    },
    "tags": []
   },
   "outputs": [],
   "source": []
  }
 ],
 "metadata": {
  "kernelspec": {
   "display_name": "Python 3",
   "language": "python",
   "name": "python3"
  },
  "language_info": {
   "codemirror_mode": {
    "name": "ipython",
    "version": 3
   },
   "file_extension": ".py",
   "mimetype": "text/x-python",
   "name": "python",
   "nbconvert_exporter": "python",
   "pygments_lexer": "ipython3",
   "version": "3.6.13"
  },
  "papermill": {
   "default_parameters": {},
   "duration": 12.790161,
   "end_time": "2021-06-20T02:11:15.591328",
   "environment_variables": {},
   "exception": null,
   "input_path": "Market-News.ipynb",
   "output_path": "Market-News.ipynb",
   "parameters": {},
   "start_time": "2021-06-20T02:11:02.801167",
   "version": "2.2.2"
  }
 },
 "nbformat": 4,
 "nbformat_minor": 5
}