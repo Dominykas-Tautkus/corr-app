{
 "cells": [
  {
   "cell_type": "markdown",
   "id": "short-greensboro",
   "metadata": {
    "papermill": {
     "duration": 0.014541,
     "end_time": "2021-03-07T01:48:10.411557",
     "exception": false,
     "start_time": "2021-03-07T01:48:10.397016",
     "status": "completed"
    },
    "tags": []
   },
   "source": [
    "# Kriptovaliutų naujienos"
   ]
  },
  {
   "cell_type": "code",
   "execution_count": 1,
   "id": "functioning-knowing",
   "metadata": {
    "execution": {
     "iopub.execute_input": "2021-03-07T01:48:10.447816Z",
     "iopub.status.busy": "2021-03-07T01:48:10.447088Z",
     "iopub.status.idle": "2021-03-07T01:48:11.877682Z",
     "shell.execute_reply": "2021-03-07T01:48:11.877124Z"
    },
    "papermill": {
     "duration": 1.454386,
     "end_time": "2021-03-07T01:48:11.877876",
     "exception": false,
     "start_time": "2021-03-07T01:48:10.423490",
     "status": "completed"
    },
    "tags": []
   },
   "outputs": [],
   "source": [
    "#hide_input\n",
    "import warnings\n",
    "warnings.filterwarnings('ignore')\n",
    "from scripts.read_data import read_api\n",
    "from scripts.read_data import read_news\n",
    "from scripts.read_data import read_covid\n",
    "import matplotlib.pyplot as plt \n",
    "from IPython.display import Markdown as md"
   ]
  },
  {
   "cell_type": "code",
   "execution_count": 2,
   "id": "shared-acceptance",
   "metadata": {
    "execution": {
     "iopub.execute_input": "2021-03-07T01:48:11.910412Z",
     "iopub.status.busy": "2021-03-07T01:48:11.909789Z",
     "iopub.status.idle": "2021-03-07T01:48:18.996298Z",
     "shell.execute_reply": "2021-03-07T01:48:18.995718Z"
    },
    "papermill": {
     "duration": 7.104664,
     "end_time": "2021-03-07T01:48:18.996474",
     "exception": false,
     "start_time": "2021-03-07T01:48:11.891810",
     "status": "completed"
    },
    "tags": []
   },
   "outputs": [],
   "source": [
    "#hide_input\n",
    "blockchain = read_news('blockchain') \n",
    "btc = read_news('btc') \n",
    "xrp = read_news('xrp') \n",
    "trx = read_news('trx') \n",
    "eth = read_news('eth')  \n",
    "ada = read_news('ada')\n",
    "exchange = read_news('exchange') "
   ]
  },
  {
   "cell_type": "code",
   "execution_count": 3,
   "id": "synthetic-notion",
   "metadata": {
    "execution": {
     "iopub.execute_input": "2021-03-07T01:48:19.031340Z",
     "iopub.status.busy": "2021-03-07T01:48:19.030592Z",
     "iopub.status.idle": "2021-03-07T01:48:19.033192Z",
     "shell.execute_reply": "2021-03-07T01:48:19.033676Z"
    },
    "papermill": {
     "duration": 0.025633,
     "end_time": "2021-03-07T01:48:19.033843",
     "exception": false,
     "start_time": "2021-03-07T01:48:19.008210",
     "status": "completed"
    },
    "tags": []
   },
   "outputs": [
    {
     "data": {
      "text/markdown": [
       "- Analyst Weighs In On The Myth of Bitcoin’s ‘Bubble’.  A Forbes contributing analyst has published his take on the “Bitcoin bubble myth,” saying proponents of the cryptoasset have been anticipating the price rally for years. In an article published last week, Forbes crypto and blockchain contributor Pete Rizzo debated the myth of Bitcoin’s market bubble, saying the meteoric price rise over the last several […] ... [| Skaityti daugiau](https://www.cryptoglobe.com/latest/2021/03/analyst-weighs-in-on-the-myth-of-bitcoins-bubble/) "
      ],
      "text/plain": [
       "<IPython.core.display.Markdown object>"
      ]
     },
     "execution_count": 3,
     "metadata": {},
     "output_type": "execute_result"
    }
   ],
   "source": [
    "#hide_input\n",
    "#md('##### {}'.format(titleBTC)) \n",
    "md(\"- {}{} {}{} [| Skaityti daugiau]({}) \".format(blockchain['title'],'. ', blockchain['body'], ' ...', blockchain['url']))"
   ]
  },
  {
   "cell_type": "code",
   "execution_count": 4,
   "id": "aging-caution",
   "metadata": {
    "execution": {
     "iopub.execute_input": "2021-03-07T01:48:19.063234Z",
     "iopub.status.busy": "2021-03-07T01:48:19.062511Z",
     "iopub.status.idle": "2021-03-07T01:48:19.070428Z",
     "shell.execute_reply": "2021-03-07T01:48:19.070902Z"
    },
    "papermill": {
     "duration": 0.025156,
     "end_time": "2021-03-07T01:48:19.071094",
     "exception": false,
     "start_time": "2021-03-07T01:48:19.045938",
     "status": "completed"
    },
    "tags": []
   },
   "outputs": [
    {
     "data": {
      "text/markdown": [
       "- Personal Finance Expert Suze Orman Says ‘I Love Bitcoin’ — Advises How to Buy BTC, Praises Paypal.  American financial advisor Suze Orman says she loves bitcoin. She has provided some advice on how to invest in the cryptocurrency a month, noting that she prefers to buy bitcoin through Paypal&#8217;s crypto service because the payments giant has made it easy to do so. Suze Orman Loves Bitcoin Suze Orman said she loves bitcoin [&#8230;] ... [| Skaityti daugiau](https://news.bitcoin.com/suze-orman-i-love-bitcoin-advises-how-to-buy-btc-paypal/) "
      ],
      "text/plain": [
       "<IPython.core.display.Markdown object>"
      ]
     },
     "execution_count": 4,
     "metadata": {},
     "output_type": "execute_result"
    }
   ],
   "source": [
    "#hide_input\n",
    "#md('##### {}'.format(titleBTC)) \n",
    "md(\"- {}{} {}{} [| Skaityti daugiau]({}) \".format(btc['title'],'. ', btc['body'], ' ...', btc['url']))"
   ]
  },
  {
   "cell_type": "code",
   "execution_count": 5,
   "id": "organic-actress",
   "metadata": {
    "execution": {
     "iopub.execute_input": "2021-03-07T01:48:19.100256Z",
     "iopub.status.busy": "2021-03-07T01:48:19.099543Z",
     "iopub.status.idle": "2021-03-07T01:48:19.102987Z",
     "shell.execute_reply": "2021-03-07T01:48:19.102429Z"
    },
    "papermill": {
     "duration": 0.020177,
     "end_time": "2021-03-07T01:48:19.103115",
     "exception": false,
     "start_time": "2021-03-07T01:48:19.082938",
     "status": "completed"
    },
    "tags": []
   },
   "outputs": [
    {
     "data": {
      "text/markdown": [
       "- XRP, Waves, Dash Price Analysis: 06 March.  XRP&#8217;s market bulls needed to retake the $0.49-level from the bears to overturn its bearish market. Waves seemed to be on track to climb above the $11-mark on the back of healthy buying activity. Finally, Dash faced a laborious battle to overturn the 50% fib retracement level. XRP An ADX reading of under 20 highlighted [&#8230;] ... [| Skaityti daugiau](https://ambcrypto.com/xrp-waves-dash-price-analysis-06-march/) "
      ],
      "text/plain": [
       "<IPython.core.display.Markdown object>"
      ]
     },
     "execution_count": 5,
     "metadata": {},
     "output_type": "execute_result"
    }
   ],
   "source": [
    "#hide_input\n",
    "#md('##### {}'.format(titleBTC)) \n",
    "md(\"- {}{} {}{} [| Skaityti daugiau]({}) \".format(xrp['title'],'. ', xrp['body'], ' ...', xrp['url']))"
   ]
  },
  {
   "cell_type": "code",
   "execution_count": 6,
   "id": "prompt-farmer",
   "metadata": {
    "execution": {
     "iopub.execute_input": "2021-03-07T01:48:19.132603Z",
     "iopub.status.busy": "2021-03-07T01:48:19.131967Z",
     "iopub.status.idle": "2021-03-07T01:48:19.134754Z",
     "shell.execute_reply": "2021-03-07T01:48:19.135375Z"
    },
    "papermill": {
     "duration": 0.019551,
     "end_time": "2021-03-07T01:48:19.135498",
     "exception": false,
     "start_time": "2021-03-07T01:48:19.115947",
     "status": "completed"
    },
    "tags": []
   },
   "outputs": [
    {
     "data": {
      "text/markdown": [
       "- TRON CEO Justin Sun bids $1,000,000 for the First Ever Tweet.  The TRON CEO is one of crypto’s flashiest spenders. ... [| Skaityti daugiau](https://decrypt.co/60437/tron-ceo-justin-sun-bids-1000000-for-the-first-ever-tweet) "
      ],
      "text/plain": [
       "<IPython.core.display.Markdown object>"
      ]
     },
     "execution_count": 6,
     "metadata": {},
     "output_type": "execute_result"
    }
   ],
   "source": [
    "#hide_input\n",
    "#md('##### {}'.format(titleBTC)) \n",
    "md(\"- {}{} {}{} [| Skaityti daugiau]({}) \".format(trx['title'],'. ', trx['body'], ' ...', trx['url']))"
   ]
  },
  {
   "cell_type": "code",
   "execution_count": 7,
   "id": "illegal-greece",
   "metadata": {
    "execution": {
     "iopub.execute_input": "2021-03-07T01:48:19.168858Z",
     "iopub.status.busy": "2021-03-07T01:48:19.167941Z",
     "iopub.status.idle": "2021-03-07T01:48:19.171046Z",
     "shell.execute_reply": "2021-03-07T01:48:19.171629Z"
    },
    "papermill": {
     "duration": 0.021214,
     "end_time": "2021-03-07T01:48:19.171772",
     "exception": false,
     "start_time": "2021-03-07T01:48:19.150558",
     "status": "completed"
    },
    "tags": []
   },
   "outputs": [
    {
     "data": {
      "text/markdown": [
       "- What Ethereum killer? On-chain data shows competitor networks are still behind.  Critics say Ethereum’s soaring gas fees will cause the project to fall victim to its competitor blockchains but on-chain data suggests otherwise. ... [| Skaityti daugiau](https://cointelegraph.com/news/what-ethereum-killer-on-chain-data-shows-competitor-networks-are-still-behind) "
      ],
      "text/plain": [
       "<IPython.core.display.Markdown object>"
      ]
     },
     "execution_count": 7,
     "metadata": {},
     "output_type": "execute_result"
    }
   ],
   "source": [
    "#hide_input\n",
    "#md('##### {}'.format(titleBTC)) \n",
    "md(\"- {}{} {}{} [| Skaityti daugiau]({}) \".format(eth['title'],'. ', eth['body'], ' ...', eth['url']))"
   ]
  },
  {
   "cell_type": "code",
   "execution_count": 8,
   "id": "sublime-lounge",
   "metadata": {
    "execution": {
     "iopub.execute_input": "2021-03-07T01:48:19.203257Z",
     "iopub.status.busy": "2021-03-07T01:48:19.202606Z",
     "iopub.status.idle": "2021-03-07T01:48:19.205496Z",
     "shell.execute_reply": "2021-03-07T01:48:19.206008Z"
    },
    "papermill": {
     "duration": 0.020635,
     "end_time": "2021-03-07T01:48:19.206165",
     "exception": false,
     "start_time": "2021-03-07T01:48:19.185530",
     "status": "completed"
    },
    "tags": []
   },
   "outputs": [
    {
     "data": {
      "text/markdown": [
       "- What Ethereum killer? On-chain data shows competitor networks are still behind.  Critics say Ethereum’s soaring gas fees will cause the project to fall victim to its competitor blockchains but on-chain data suggests otherwise. ... [| Skaityti daugiau](https://cointelegraph.com/news/what-ethereum-killer-on-chain-data-shows-competitor-networks-are-still-behind) "
      ],
      "text/plain": [
       "<IPython.core.display.Markdown object>"
      ]
     },
     "execution_count": 8,
     "metadata": {},
     "output_type": "execute_result"
    }
   ],
   "source": [
    "#hide_input\n",
    "#md('##### {}'.format(titleBTC)) \n",
    "md(\"- {}{} {}{} [| Skaityti daugiau]({}) \".format(ada['title'],'. ', ada['body'], ' ...', ada['url']))"
   ]
  },
  {
   "cell_type": "code",
   "execution_count": 9,
   "id": "specified-ordering",
   "metadata": {
    "execution": {
     "iopub.execute_input": "2021-03-07T01:48:19.239406Z",
     "iopub.status.busy": "2021-03-07T01:48:19.238721Z",
     "iopub.status.idle": "2021-03-07T01:48:19.242064Z",
     "shell.execute_reply": "2021-03-07T01:48:19.241496Z"
    },
    "papermill": {
     "duration": 0.02126,
     "end_time": "2021-03-07T01:48:19.242180",
     "exception": false,
     "start_time": "2021-03-07T01:48:19.220920",
     "status": "completed"
    },
    "tags": []
   },
   "outputs": [
    {
     "data": {
      "text/markdown": [
       "- Bitcoin’s Next Price Top Between $75K and $306K, says Kraken Research.  Research from cryptocurrency exchange Kraken suggests the next price top for bitcoin falls between $75k and $306k, with a bottom likely established at $30,000. ... [| Skaityti daugiau](https://www.cryptoglobe.com/latest/2021/03/bitcoins-next-price-top-between-75k-and-306k-says-kraken-research/) "
      ],
      "text/plain": [
       "<IPython.core.display.Markdown object>"
      ]
     },
     "execution_count": 9,
     "metadata": {},
     "output_type": "execute_result"
    }
   ],
   "source": [
    "#hide_input\n",
    "#md('##### {}'.format(titleBTC)) \n",
    "md(\"- {}{} {}{} [| Skaityti daugiau]({}) \".format(exchange['title'],'. ', exchange['body'], ' ...', exchange['url']))"
   ]
  },
  {
   "cell_type": "code",
   "execution_count": null,
   "id": "tender-livestock",
   "metadata": {
    "papermill": {
     "duration": 0.01496,
     "end_time": "2021-03-07T01:48:19.279992",
     "exception": false,
     "start_time": "2021-03-07T01:48:19.265032",
     "status": "completed"
    },
    "tags": []
   },
   "outputs": [],
   "source": []
  },
  {
   "cell_type": "code",
   "execution_count": null,
   "id": "appreciated-diamond",
   "metadata": {
    "papermill": {
     "duration": 0.015287,
     "end_time": "2021-03-07T01:48:19.309012",
     "exception": false,
     "start_time": "2021-03-07T01:48:19.293725",
     "status": "completed"
    },
    "tags": []
   },
   "outputs": [],
   "source": []
  },
  {
   "cell_type": "code",
   "execution_count": null,
   "id": "romance-sweden",
   "metadata": {
    "papermill": {
     "duration": 0.014947,
     "end_time": "2021-03-07T01:48:19.339600",
     "exception": false,
     "start_time": "2021-03-07T01:48:19.324653",
     "status": "completed"
    },
    "tags": []
   },
   "outputs": [],
   "source": []
  },
  {
   "cell_type": "code",
   "execution_count": null,
   "id": "dietary-statistics",
   "metadata": {
    "papermill": {
     "duration": 0.016144,
     "end_time": "2021-03-07T01:48:19.369366",
     "exception": false,
     "start_time": "2021-03-07T01:48:19.353222",
     "status": "completed"
    },
    "tags": []
   },
   "outputs": [],
   "source": []
  }
 ],
 "metadata": {
  "kernelspec": {
   "display_name": "Python 3",
   "language": "python",
   "name": "python3"
  },
  "language_info": {
   "codemirror_mode": {
    "name": "ipython",
    "version": 3
   },
   "file_extension": ".py",
   "mimetype": "text/x-python",
   "name": "python",
   "nbconvert_exporter": "python",
   "pygments_lexer": "ipython3",
   "version": "3.6.13"
  },
  "papermill": {
   "default_parameters": {},
   "duration": 11.34403,
   "end_time": "2021-03-07T01:48:20.628295",
   "environment_variables": {},
   "exception": null,
   "input_path": "Market-News.ipynb",
   "output_path": "Market-News.ipynb",
   "parameters": {},
   "start_time": "2021-03-07T01:48:09.284265",
   "version": "2.2.2"
  }
 },
 "nbformat": 4,
 "nbformat_minor": 5
}