{
 "cells": [
  {
   "cell_type": "markdown",
   "id": "short-greensboro",
   "metadata": {
    "papermill": {
     "duration": 0.014967,
     "end_time": "2021-03-30T02:04:42.631911",
     "exception": false,
     "start_time": "2021-03-30T02:04:42.616944",
     "status": "completed"
    },
    "tags": []
   },
   "source": [
    "# Kriptovaliutų naujienos"
   ]
  },
  {
   "cell_type": "code",
   "execution_count": 1,
   "id": "functioning-knowing",
   "metadata": {
    "execution": {
     "iopub.execute_input": "2021-03-30T02:04:42.666964Z",
     "iopub.status.busy": "2021-03-30T02:04:42.666307Z",
     "iopub.status.idle": "2021-03-30T02:04:43.968631Z",
     "shell.execute_reply": "2021-03-30T02:04:43.969203Z"
    },
    "papermill": {
     "duration": 1.325196,
     "end_time": "2021-03-30T02:04:43.969369",
     "exception": false,
     "start_time": "2021-03-30T02:04:42.644173",
     "status": "completed"
    },
    "tags": []
   },
   "outputs": [],
   "source": [
    "#hide_input\n",
    "import warnings\n",
    "warnings.filterwarnings('ignore')\n",
    "from scripts.read_data import read_api\n",
    "from scripts.read_data import read_news\n",
    "from scripts.read_data import read_covid\n",
    "import matplotlib.pyplot as plt \n",
    "from IPython.display import Markdown as md"
   ]
  },
  {
   "cell_type": "code",
   "execution_count": 2,
   "id": "shared-acceptance",
   "metadata": {
    "execution": {
     "iopub.execute_input": "2021-03-30T02:04:43.998657Z",
     "iopub.status.busy": "2021-03-30T02:04:43.997610Z",
     "iopub.status.idle": "2021-03-30T02:04:51.521192Z",
     "shell.execute_reply": "2021-03-30T02:04:51.520604Z"
    },
    "papermill": {
     "duration": 7.540517,
     "end_time": "2021-03-30T02:04:51.521353",
     "exception": false,
     "start_time": "2021-03-30T02:04:43.980836",
     "status": "completed"
    },
    "tags": []
   },
   "outputs": [],
   "source": [
    "#hide_input\n",
    "blockchain = read_news('blockchain') \n",
    "btc = read_news('btc') \n",
    "xrp = read_news('xrp') \n",
    "trx = read_news('trx') \n",
    "eth = read_news('eth')  \n",
    "ada = read_news('ada')\n",
    "exchange = read_news('exchange') "
   ]
  },
  {
   "cell_type": "code",
   "execution_count": 3,
   "id": "synthetic-notion",
   "metadata": {
    "execution": {
     "iopub.execute_input": "2021-03-30T02:04:51.549821Z",
     "iopub.status.busy": "2021-03-30T02:04:51.549175Z",
     "iopub.status.idle": "2021-03-30T02:04:51.552617Z",
     "shell.execute_reply": "2021-03-30T02:04:51.552081Z"
    },
    "papermill": {
     "duration": 0.020162,
     "end_time": "2021-03-30T02:04:51.552733",
     "exception": false,
     "start_time": "2021-03-30T02:04:51.532571",
     "status": "completed"
    },
    "tags": []
   },
   "outputs": [
    {
     "data": {
      "text/markdown": [
       "- Tron’s Justin Sun Unveils NFT Fund Aimed at Art Acquisition.  Hot on the heels of a recent winning auction bid for Beeple&#8217;s &#8220;Ocean Front&#8221; NFT, Justin Sun is making another splash in the NFT market following his decision to seed an investment fund that collects high-profile works of art. Fund Just One Leg of Sun&#8217;s Ambitions in The NFT Ecosystem Ongoing efforts to digitize art [&#8230;] ... [| Skaityti daugiau](https://news.bitcoin.com/trons-justin-sun-unveils-nft-fund-aimed-at-art-acquisition/) "
      ],
      "text/plain": [
       "<IPython.core.display.Markdown object>"
      ]
     },
     "execution_count": 3,
     "metadata": {},
     "output_type": "execute_result"
    }
   ],
   "source": [
    "#hide_input\n",
    "#md('##### {}'.format(titleBTC)) \n",
    "md(\"- {}{} {}{} [| Skaityti daugiau]({}) \".format(blockchain['title'],'. ', blockchain['body'], ' ...', blockchain['url']))"
   ]
  },
  {
   "cell_type": "code",
   "execution_count": 4,
   "id": "aging-caution",
   "metadata": {
    "execution": {
     "iopub.execute_input": "2021-03-30T02:04:51.579536Z",
     "iopub.status.busy": "2021-03-30T02:04:51.578910Z",
     "iopub.status.idle": "2021-03-30T02:04:51.582209Z",
     "shell.execute_reply": "2021-03-30T02:04:51.581617Z"
    },
    "papermill": {
     "duration": 0.018027,
     "end_time": "2021-03-30T02:04:51.582340",
     "exception": false,
     "start_time": "2021-03-30T02:04:51.564313",
     "status": "completed"
    },
    "tags": []
   },
   "outputs": [
    {
     "data": {
      "text/markdown": [
       "- BNY Mellon Weighs Controversial Bitcoin Valuation Model.  The Bitcoin stock-to-flow model is bullish on the cryptocurrency’s future price. ... [| Skaityti daugiau](https://decrypt.co/63311/bny-mellon-weighs-controversial-bitcoin-valuation-model) "
      ],
      "text/plain": [
       "<IPython.core.display.Markdown object>"
      ]
     },
     "execution_count": 4,
     "metadata": {},
     "output_type": "execute_result"
    }
   ],
   "source": [
    "#hide_input\n",
    "#md('##### {}'.format(titleBTC)) \n",
    "md(\"- {}{} {}{} [| Skaityti daugiau]({}) \".format(btc['title'],'. ', btc['body'], ' ...', btc['url']))"
   ]
  },
  {
   "cell_type": "code",
   "execution_count": 5,
   "id": "organic-actress",
   "metadata": {
    "execution": {
     "iopub.execute_input": "2021-03-30T02:04:51.611010Z",
     "iopub.status.busy": "2021-03-30T02:04:51.610396Z",
     "iopub.status.idle": "2021-03-30T02:04:51.614429Z",
     "shell.execute_reply": "2021-03-30T02:04:51.613958Z"
    },
    "papermill": {
     "duration": 0.020422,
     "end_time": "2021-03-30T02:04:51.614552",
     "exception": false,
     "start_time": "2021-03-30T02:04:51.594130",
     "status": "completed"
    },
    "tags": []
   },
   "outputs": [
    {
     "data": {
      "text/markdown": [
       "- What Happens When Walmart Buys $1 Billion Of Bitcoin?.  Though no purchase has been announced, Walmart’s inevitable allocation to bitcoin will jump start a ripple of hyperbitcoinization. ... [| Skaityti daugiau](https://bitcoinmagazine.com/business/what-happens-when-walmart-buys-1-billion-of-bitcoin) "
      ],
      "text/plain": [
       "<IPython.core.display.Markdown object>"
      ]
     },
     "execution_count": 5,
     "metadata": {},
     "output_type": "execute_result"
    }
   ],
   "source": [
    "#hide_input\n",
    "#md('##### {}'.format(titleBTC)) \n",
    "md(\"- {}{} {}{} [| Skaityti daugiau]({}) \".format(xrp['title'],'. ', xrp['body'], ' ...', xrp['url']))"
   ]
  },
  {
   "cell_type": "code",
   "execution_count": 6,
   "id": "prompt-farmer",
   "metadata": {
    "execution": {
     "iopub.execute_input": "2021-03-30T02:04:51.642245Z",
     "iopub.status.busy": "2021-03-30T02:04:51.641601Z",
     "iopub.status.idle": "2021-03-30T02:04:51.644864Z",
     "shell.execute_reply": "2021-03-30T02:04:51.644318Z"
    },
    "papermill": {
     "duration": 0.018606,
     "end_time": "2021-03-30T02:04:51.644986",
     "exception": false,
     "start_time": "2021-03-30T02:04:51.626380",
     "status": "completed"
    },
    "tags": []
   },
   "outputs": [
    {
     "data": {
      "text/markdown": [
       "- Tron Price Analysis: 29 March.  Tron has moved to the 23rd position on CoinMarketCap&#8217;s list of cryptocurrencies in terms of its market capitalization which was at $4.55 billion. Although the coin has been returning 135% to its investors, the altcoin has been seeing great volatility in the market. At the time of writing, TRX was trading at $0.0627, while being [&#8230;] ... [| Skaityti daugiau](https://ambcrypto.com/tron-price-analysis-29-march/) "
      ],
      "text/plain": [
       "<IPython.core.display.Markdown object>"
      ]
     },
     "execution_count": 6,
     "metadata": {},
     "output_type": "execute_result"
    }
   ],
   "source": [
    "#hide_input\n",
    "#md('##### {}'.format(titleBTC)) \n",
    "md(\"- {}{} {}{} [| Skaityti daugiau]({}) \".format(trx['title'],'. ', trx['body'], ' ...', trx['url']))"
   ]
  },
  {
   "cell_type": "code",
   "execution_count": 7,
   "id": "illegal-greece",
   "metadata": {
    "execution": {
     "iopub.execute_input": "2021-03-30T02:04:51.674344Z",
     "iopub.status.busy": "2021-03-30T02:04:51.673706Z",
     "iopub.status.idle": "2021-03-30T02:04:51.679123Z",
     "shell.execute_reply": "2021-03-30T02:04:51.678587Z"
    },
    "papermill": {
     "duration": 0.021316,
     "end_time": "2021-03-30T02:04:51.679233",
     "exception": false,
     "start_time": "2021-03-30T02:04:51.657917",
     "status": "completed"
    },
    "tags": []
   },
   "outputs": [
    {
     "data": {
      "text/markdown": [
       "- Immutable X Is Making NFTs Carbon Neutral on Ethereum.  Lately, critics have raised concerns that creating and trading NFTs on the Ethereum blockchain will lead to a disproportionate increase in carbon footprint. This issue is tricky, and there’s a lot of misinformation out there. There are three key concepts pertinent to understanding this overheated debate fully, and one solution Immutable is proposing today. NFTs [&#8230;]The post Immutable X Is Making NFTs Carbon Neutral on Ethereum appeared first on The Daily Hodl. ... [| Skaityti daugiau](https://dailyhodl.com/2021/03/29/immutable-x-is-making-nfts-carbon-neutral-on-ethereum/) "
      ],
      "text/plain": [
       "<IPython.core.display.Markdown object>"
      ]
     },
     "execution_count": 7,
     "metadata": {},
     "output_type": "execute_result"
    }
   ],
   "source": [
    "#hide_input\n",
    "#md('##### {}'.format(titleBTC)) \n",
    "md(\"- {}{} {}{} [| Skaityti daugiau]({}) \".format(eth['title'],'. ', eth['body'], ' ...', eth['url']))"
   ]
  },
  {
   "cell_type": "code",
   "execution_count": 8,
   "id": "sublime-lounge",
   "metadata": {
    "execution": {
     "iopub.execute_input": "2021-03-30T02:04:51.709464Z",
     "iopub.status.busy": "2021-03-30T02:04:51.708757Z",
     "iopub.status.idle": "2021-03-30T02:04:51.712203Z",
     "shell.execute_reply": "2021-03-30T02:04:51.711693Z"
    },
    "papermill": {
     "duration": 0.019957,
     "end_time": "2021-03-30T02:04:51.712311",
     "exception": false,
     "start_time": "2021-03-30T02:04:51.692354",
     "status": "completed"
    },
    "tags": []
   },
   "outputs": [
    {
     "data": {
      "text/markdown": [
       "- Charles Hoskinson Lays Out the Roadmap for Cardano ($ADA) Smart Contracts.  Recently, Charles Hoskinson, Founder of Cardano (ADA), as well as Co-Founder and CEO of IOHK, talked about the development roadmap for smart contracts on the Cardano network. Last Thursday (March 25), Hoskinson talked about the rollout plan for Cardano smart contract support during the “Cardano360” virtual conference: “And now we are heading toward what’s called the […] ... [| Skaityti daugiau](https://www.cryptoglobe.com/latest/2021/03/charles-hoskinson-lays-out-the-roadmap-for-cardano-ada-smart-contracts/) "
      ],
      "text/plain": [
       "<IPython.core.display.Markdown object>"
      ]
     },
     "execution_count": 8,
     "metadata": {},
     "output_type": "execute_result"
    }
   ],
   "source": [
    "#hide_input\n",
    "#md('##### {}'.format(titleBTC)) \n",
    "md(\"- {}{} {}{} [| Skaityti daugiau]({}) \".format(ada['title'],'. ', ada['body'], ' ...', ada['url']))"
   ]
  },
  {
   "cell_type": "code",
   "execution_count": 9,
   "id": "specified-ordering",
   "metadata": {
    "execution": {
     "iopub.execute_input": "2021-03-30T02:04:51.743202Z",
     "iopub.status.busy": "2021-03-30T02:04:51.742527Z",
     "iopub.status.idle": "2021-03-30T02:04:51.745771Z",
     "shell.execute_reply": "2021-03-30T02:04:51.745168Z"
    },
    "papermill": {
     "duration": 0.019574,
     "end_time": "2021-03-30T02:04:51.745892",
     "exception": false,
     "start_time": "2021-03-30T02:04:51.726318",
     "status": "completed"
    },
    "tags": []
   },
   "outputs": [
    {
     "data": {
      "text/markdown": [
       "- Duke University’s Endowment Fund Is Set to Make a Huge Profit From Its Investment in Coinbase.  The endowment fund of Duke University made an early investment in popular cryptocurrency exchange Coinbase which has “probably increased 100x,” according to a report by CoinDesk citing two sources familiar with the matter. According to the report, the $3.9 billion Duke Endowment was included in Coinbase’s early fundraising rounds because one of the firm’s co-founders, […] ... [| Skaityti daugiau](https://www.cryptoglobe.com/latest/2021/03/duke-universitys-endowment-fund-is-set-to-make-a-huge-profit-from-its-investment-in-coinbase/) "
      ],
      "text/plain": [
       "<IPython.core.display.Markdown object>"
      ]
     },
     "execution_count": 9,
     "metadata": {},
     "output_type": "execute_result"
    }
   ],
   "source": [
    "#hide_input\n",
    "#md('##### {}'.format(titleBTC)) \n",
    "md(\"- {}{} {}{} [| Skaityti daugiau]({}) \".format(exchange['title'],'. ', exchange['body'], ' ...', exchange['url']))"
   ]
  },
  {
   "cell_type": "code",
   "execution_count": null,
   "id": "tender-livestock",
   "metadata": {
    "papermill": {
     "duration": 0.013694,
     "end_time": "2021-03-30T02:04:51.773160",
     "exception": false,
     "start_time": "2021-03-30T02:04:51.759466",
     "status": "completed"
    },
    "tags": []
   },
   "outputs": [],
   "source": []
  },
  {
   "cell_type": "code",
   "execution_count": null,
   "id": "appreciated-diamond",
   "metadata": {
    "papermill": {
     "duration": 0.015856,
     "end_time": "2021-03-30T02:04:51.802447",
     "exception": false,
     "start_time": "2021-03-30T02:04:51.786591",
     "status": "completed"
    },
    "tags": []
   },
   "outputs": [],
   "source": []
  },
  {
   "cell_type": "code",
   "execution_count": null,
   "id": "romance-sweden",
   "metadata": {
    "papermill": {
     "duration": 0.014865,
     "end_time": "2021-03-30T02:04:51.831581",
     "exception": false,
     "start_time": "2021-03-30T02:04:51.816716",
     "status": "completed"
    },
    "tags": []
   },
   "outputs": [],
   "source": []
  },
  {
   "cell_type": "code",
   "execution_count": null,
   "id": "dietary-statistics",
   "metadata": {
    "papermill": {
     "duration": 0.015419,
     "end_time": "2021-03-30T02:04:51.861601",
     "exception": false,
     "start_time": "2021-03-30T02:04:51.846182",
     "status": "completed"
    },
    "tags": []
   },
   "outputs": [],
   "source": []
  }
 ],
 "metadata": {
  "kernelspec": {
   "display_name": "Python 3",
   "language": "python",
   "name": "python3"
  },
  "language_info": {
   "codemirror_mode": {
    "name": "ipython",
    "version": 3
   },
   "file_extension": ".py",
   "mimetype": "text/x-python",
   "name": "python",
   "nbconvert_exporter": "python",
   "pygments_lexer": "ipython3",
   "version": "3.6.13"
  },
  "papermill": {
   "default_parameters": {},
   "duration": 10.743193,
   "end_time": "2021-03-30T02:04:52.282951",
   "environment_variables": {},
   "exception": null,
   "input_path": "Market-News.ipynb",
   "output_path": "Market-News.ipynb",
   "parameters": {},
   "start_time": "2021-03-30T02:04:41.539758",
   "version": "2.2.2"
  }
 },
 "nbformat": 4,
 "nbformat_minor": 5
}