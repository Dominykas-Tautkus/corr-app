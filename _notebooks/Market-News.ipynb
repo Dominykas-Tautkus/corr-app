{
 "cells": [
  {
   "cell_type": "markdown",
   "id": "short-greensboro",
   "metadata": {
    "papermill": {
     "duration": 0.013021,
     "end_time": "2021-01-27T01:55:49.497126",
     "exception": false,
     "start_time": "2021-01-27T01:55:49.484105",
     "status": "completed"
    },
    "tags": []
   },
   "source": [
    "# Kriptovaliutų naujienos"
   ]
  },
  {
   "cell_type": "code",
   "execution_count": 1,
   "id": "functioning-knowing",
   "metadata": {
    "execution": {
     "iopub.execute_input": "2021-01-27T01:55:49.526164Z",
     "iopub.status.busy": "2021-01-27T01:55:49.525592Z",
     "iopub.status.idle": "2021-01-27T01:55:50.661731Z",
     "shell.execute_reply": "2021-01-27T01:55:50.660621Z"
    },
    "papermill": {
     "duration": 1.155242,
     "end_time": "2021-01-27T01:55:50.661891",
     "exception": false,
     "start_time": "2021-01-27T01:55:49.506649",
     "status": "completed"
    },
    "tags": []
   },
   "outputs": [],
   "source": [
    "#hide_input\n",
    "import warnings\n",
    "warnings.filterwarnings('ignore')\n",
    "from scripts.read_data import read_api\n",
    "from scripts.read_data import read_news\n",
    "from scripts.read_data import read_covid\n",
    "import matplotlib.pyplot as plt \n",
    "from IPython.display import Markdown as md"
   ]
  },
  {
   "cell_type": "code",
   "execution_count": 2,
   "id": "shared-acceptance",
   "metadata": {
    "execution": {
     "iopub.execute_input": "2021-01-27T01:55:50.685635Z",
     "iopub.status.busy": "2021-01-27T01:55:50.684625Z",
     "iopub.status.idle": "2021-01-27T01:55:59.307982Z",
     "shell.execute_reply": "2021-01-27T01:55:59.307450Z"
    },
    "papermill": {
     "duration": 8.637024,
     "end_time": "2021-01-27T01:55:59.308126",
     "exception": false,
     "start_time": "2021-01-27T01:55:50.671102",
     "status": "completed"
    },
    "tags": []
   },
   "outputs": [],
   "source": [
    "#hide_input\n",
    "blockchain = read_news('blockchain') \n",
    "btc = read_news('btc') \n",
    "xrp = read_news('xrp') \n",
    "trx = read_news('trx') \n",
    "eth = read_news('eth')  \n",
    "ada = read_news('ada')\n",
    "exchange = read_news('exchange') "
   ]
  },
  {
   "cell_type": "code",
   "execution_count": 3,
   "id": "synthetic-notion",
   "metadata": {
    "execution": {
     "iopub.execute_input": "2021-01-27T01:55:59.332770Z",
     "iopub.status.busy": "2021-01-27T01:55:59.332177Z",
     "iopub.status.idle": "2021-01-27T01:55:59.334520Z",
     "shell.execute_reply": "2021-01-27T01:55:59.334994Z"
    },
    "papermill": {
     "duration": 0.01777,
     "end_time": "2021-01-27T01:55:59.335126",
     "exception": false,
     "start_time": "2021-01-27T01:55:59.317356",
     "status": "completed"
    },
    "tags": []
   },
   "outputs": [
    {
     "data": {
      "text/markdown": [
       "- SEC’s XRP-Related Lawsuit Did Not Stop Ripple Form Signing Up 15 New Customers.  Blockchain payments firm Ripple has kept on adding new clients, even after the U.S. Securities and Exchange Commission (SEC) announced a lawsuit against the firm and two of its executives alleging they raised “raised over $1.3 billion through an unregistered, ongoing digital asset securities offering” referring to XRP. Ripple CEO Brad Garlinghouse revealed on social […] ... [| Skaityti daugiau](https://www.cryptoglobe.com/latest/2021/01/secs-xrp-related-lawsuit-did-not-stop-ripple-form-signing-up-15-new-customers/) "
      ],
      "text/plain": [
       "<IPython.core.display.Markdown object>"
      ]
     },
     "execution_count": 3,
     "metadata": {},
     "output_type": "execute_result"
    }
   ],
   "source": [
    "#hide_input\n",
    "#md('##### {}'.format(titleBTC)) \n",
    "md(\"- {}{} {}{} [| Skaityti daugiau]({}) \".format(blockchain['title'],'. ', blockchain['body'], ' ...', blockchain['url']))"
   ]
  },
  {
   "cell_type": "code",
   "execution_count": 4,
   "id": "aging-caution",
   "metadata": {
    "execution": {
     "iopub.execute_input": "2021-01-27T01:55:59.360239Z",
     "iopub.status.busy": "2021-01-27T01:55:59.359654Z",
     "iopub.status.idle": "2021-01-27T01:55:59.362571Z",
     "shell.execute_reply": "2021-01-27T01:55:59.362078Z"
    },
    "papermill": {
     "duration": 0.017492,
     "end_time": "2021-01-27T01:55:59.362689",
     "exception": false,
     "start_time": "2021-01-27T01:55:59.345197",
     "status": "completed"
    },
    "tags": []
   },
   "outputs": [
    {
     "data": {
      "text/markdown": [
       "- University Endowments Have Been Quietly Buying Bitcoin for a Year: Report.  Some of the largest university endowment funds in the U.S. have reportedly been quietly buying bitcoin for the past year through accounts at Coinbase and other cryptocurrency exchanges. According to a report published by CoinDesk, citing two people familiar with the matter, Harvard, Yale, Brown, and the University of Michigan as well as several other […] ... [| Skaityti daugiau](https://www.cryptoglobe.com/latest/2021/01/university-endowments-have-been-quietly-buying-bitcoin-for-a-year-report/) "
      ],
      "text/plain": [
       "<IPython.core.display.Markdown object>"
      ]
     },
     "execution_count": 4,
     "metadata": {},
     "output_type": "execute_result"
    }
   ],
   "source": [
    "#hide_input\n",
    "#md('##### {}'.format(titleBTC)) \n",
    "md(\"- {}{} {}{} [| Skaityti daugiau]({}) \".format(btc['title'],'. ', btc['body'], ' ...', btc['url']))"
   ]
  },
  {
   "cell_type": "code",
   "execution_count": 5,
   "id": "organic-actress",
   "metadata": {
    "execution": {
     "iopub.execute_input": "2021-01-27T01:55:59.386438Z",
     "iopub.status.busy": "2021-01-27T01:55:59.385874Z",
     "iopub.status.idle": "2021-01-27T01:55:59.389136Z",
     "shell.execute_reply": "2021-01-27T01:55:59.388623Z"
    },
    "papermill": {
     "duration": 0.016713,
     "end_time": "2021-01-27T01:55:59.389254",
     "exception": false,
     "start_time": "2021-01-27T01:55:59.372541",
     "status": "completed"
    },
    "tags": []
   },
   "outputs": [
    {
     "data": {
      "text/markdown": [
       "- SEC’s XRP-Related Lawsuit Did Not Stop Ripple Form Signing Up 15 New Customers.  Blockchain payments firm Ripple has kept on adding new clients, even after the U.S. Securities and Exchange Commission (SEC) announced a lawsuit against the firm and two of its executives alleging they raised “raised over $1.3 billion through an unregistered, ongoing digital asset securities offering” referring to XRP. Ripple CEO Brad Garlinghouse revealed on social […] ... [| Skaityti daugiau](https://www.cryptoglobe.com/latest/2021/01/secs-xrp-related-lawsuit-did-not-stop-ripple-form-signing-up-15-new-customers/) "
      ],
      "text/plain": [
       "<IPython.core.display.Markdown object>"
      ]
     },
     "execution_count": 5,
     "metadata": {},
     "output_type": "execute_result"
    }
   ],
   "source": [
    "#hide_input\n",
    "#md('##### {}'.format(titleBTC)) \n",
    "md(\"- {}{} {}{} [| Skaityti daugiau]({}) \".format(xrp['title'],'. ', xrp['body'], ' ...', xrp['url']))"
   ]
  },
  {
   "cell_type": "code",
   "execution_count": 6,
   "id": "prompt-farmer",
   "metadata": {
    "execution": {
     "iopub.execute_input": "2021-01-27T01:55:59.415299Z",
     "iopub.status.busy": "2021-01-27T01:55:59.414654Z",
     "iopub.status.idle": "2021-01-27T01:55:59.418389Z",
     "shell.execute_reply": "2021-01-27T01:55:59.417929Z"
    },
    "papermill": {
     "duration": 0.018718,
     "end_time": "2021-01-27T01:55:59.418507",
     "exception": false,
     "start_time": "2021-01-27T01:55:59.399789",
     "status": "completed"
    },
    "tags": []
   },
   "outputs": [
    {
     "data": {
      "text/markdown": [
       "- Tron, Verge, Dogecoin Price Analysis: 26 January.  Tron hovered above its support level, but the market&#8217;s bulls could struggle to keep the price afloat in the short-term. Verge moved within a confined channel as momentum sided with neither the bulls nor the bears. Finally, Dogecoin fell below the $0.0085-resistance, but the indicators projected a bullish bounceback. Tron [TRX] Tron&#8217;s price fell towards [&#8230;] ... [| Skaityti daugiau](https://ambcrypto.com/tron-verge-dogecoin-price-analysis-26-january/) "
      ],
      "text/plain": [
       "<IPython.core.display.Markdown object>"
      ]
     },
     "execution_count": 6,
     "metadata": {},
     "output_type": "execute_result"
    }
   ],
   "source": [
    "#hide_input\n",
    "#md('##### {}'.format(titleBTC)) \n",
    "md(\"- {}{} {}{} [| Skaityti daugiau]({}) \".format(trx['title'],'. ', trx['body'], ' ...', trx['url']))"
   ]
  },
  {
   "cell_type": "code",
   "execution_count": 7,
   "id": "illegal-greece",
   "metadata": {
    "execution": {
     "iopub.execute_input": "2021-01-27T01:55:59.444062Z",
     "iopub.status.busy": "2021-01-27T01:55:59.443376Z",
     "iopub.status.idle": "2021-01-27T01:55:59.446752Z",
     "shell.execute_reply": "2021-01-27T01:55:59.446290Z"
    },
    "papermill": {
     "duration": 0.017338,
     "end_time": "2021-01-27T01:55:59.446847",
     "exception": false,
     "start_time": "2021-01-27T01:55:59.429509",
     "status": "completed"
    },
    "tags": []
   },
   "outputs": [
    {
     "data": {
      "text/markdown": [
       "- Breaking down the DeFi airdrops that netted Ethereum users an average of $20,000 in 2020.  I&#8217;m not too sure about you guys but one of the most fascinating things I&#8217;ve seen in DeFi is airdrops. The post Breaking down the DeFi airdrops that netted Ethereum users an average of $20,000 in 2020 appeared first on CryptoSlate. ... [| Skaityti daugiau](https://cryptoslate.com/breaking-down-the-defi-airdrops-that-netted-ethereum-users-an-average-of-20000-in-2020/) "
      ],
      "text/plain": [
       "<IPython.core.display.Markdown object>"
      ]
     },
     "execution_count": 7,
     "metadata": {},
     "output_type": "execute_result"
    }
   ],
   "source": [
    "#hide_input\n",
    "#md('##### {}'.format(titleBTC)) \n",
    "md(\"- {}{} {}{} [| Skaityti daugiau]({}) \".format(eth['title'],'. ', eth['body'], ' ...', eth['url']))"
   ]
  },
  {
   "cell_type": "code",
   "execution_count": 8,
   "id": "sublime-lounge",
   "metadata": {
    "execution": {
     "iopub.execute_input": "2021-01-27T01:55:59.473816Z",
     "iopub.status.busy": "2021-01-27T01:55:59.473057Z",
     "iopub.status.idle": "2021-01-27T01:55:59.475702Z",
     "shell.execute_reply": "2021-01-27T01:55:59.476301Z"
    },
    "papermill": {
     "duration": 0.018746,
     "end_time": "2021-01-27T01:55:59.476463",
     "exception": false,
     "start_time": "2021-01-27T01:55:59.457717",
     "status": "completed"
    },
    "tags": []
   },
   "outputs": [
    {
     "data": {
      "text/markdown": [
       "- EMURGO, Ergo, and IOHK announce AgeUSD, the first stablecoin that will come to Cardano.  The Ergo Foundation, EMURGO, and IOHK have announced AgeUSD, a stablecoin protocol based on the Ergo blockchain. The post EMURGO, Ergo, and IOHK announce AgeUSD, the first stablecoin that will come to Cardano appeared first on CryptoSlate. ... [| Skaityti daugiau](https://cryptoslate.com/emurgo-ergo-and-iohk-announce-ageusd-the-first-stablecoin-that-will-come-to-cardano/) "
      ],
      "text/plain": [
       "<IPython.core.display.Markdown object>"
      ]
     },
     "execution_count": 8,
     "metadata": {},
     "output_type": "execute_result"
    }
   ],
   "source": [
    "#hide_input\n",
    "#md('##### {}'.format(titleBTC)) \n",
    "md(\"- {}{} {}{} [| Skaityti daugiau]({}) \".format(ada['title'],'. ', ada['body'], ' ...', ada['url']))"
   ]
  },
  {
   "cell_type": "code",
   "execution_count": 9,
   "id": "specified-ordering",
   "metadata": {
    "execution": {
     "iopub.execute_input": "2021-01-27T01:55:59.504013Z",
     "iopub.status.busy": "2021-01-27T01:55:59.503479Z",
     "iopub.status.idle": "2021-01-27T01:55:59.505520Z",
     "shell.execute_reply": "2021-01-27T01:55:59.505922Z"
    },
    "papermill": {
     "duration": 0.017198,
     "end_time": "2021-01-27T01:55:59.506027",
     "exception": false,
     "start_time": "2021-01-27T01:55:59.488829",
     "status": "completed"
    },
    "tags": []
   },
   "outputs": [
    {
     "data": {
      "text/markdown": [
       "- SEC’s XRP-Related Lawsuit Did Not Stop Ripple Form Signing Up 15 New Customers.  Blockchain payments firm Ripple has kept on adding new clients, even after the U.S. Securities and Exchange Commission (SEC) announced a lawsuit against the firm and two of its executives alleging they raised “raised over $1.3 billion through an unregistered, ongoing digital asset securities offering” referring to XRP. Ripple CEO Brad Garlinghouse revealed on social […] ... [| Skaityti daugiau](https://www.cryptoglobe.com/latest/2021/01/secs-xrp-related-lawsuit-did-not-stop-ripple-form-signing-up-15-new-customers/) "
      ],
      "text/plain": [
       "<IPython.core.display.Markdown object>"
      ]
     },
     "execution_count": 9,
     "metadata": {},
     "output_type": "execute_result"
    }
   ],
   "source": [
    "#hide_input\n",
    "#md('##### {}'.format(titleBTC)) \n",
    "md(\"- {}{} {}{} [| Skaityti daugiau]({}) \".format(exchange['title'],'. ', exchange['body'], ' ...', exchange['url']))"
   ]
  },
  {
   "cell_type": "code",
   "execution_count": null,
   "id": "tender-livestock",
   "metadata": {
    "papermill": {
     "duration": 0.010249,
     "end_time": "2021-01-27T01:55:59.527381",
     "exception": false,
     "start_time": "2021-01-27T01:55:59.517132",
     "status": "completed"
    },
    "tags": []
   },
   "outputs": [],
   "source": []
  },
  {
   "cell_type": "code",
   "execution_count": null,
   "id": "appreciated-diamond",
   "metadata": {
    "papermill": {
     "duration": 0.011388,
     "end_time": "2021-01-27T01:55:59.549298",
     "exception": false,
     "start_time": "2021-01-27T01:55:59.537910",
     "status": "completed"
    },
    "tags": []
   },
   "outputs": [],
   "source": []
  },
  {
   "cell_type": "code",
   "execution_count": null,
   "id": "romance-sweden",
   "metadata": {
    "papermill": {
     "duration": 0.010154,
     "end_time": "2021-01-27T01:55:59.569763",
     "exception": false,
     "start_time": "2021-01-27T01:55:59.559609",
     "status": "completed"
    },
    "tags": []
   },
   "outputs": [],
   "source": []
  },
  {
   "cell_type": "code",
   "execution_count": null,
   "id": "dietary-statistics",
   "metadata": {
    "papermill": {
     "duration": 0.010055,
     "end_time": "2021-01-27T01:55:59.590245",
     "exception": false,
     "start_time": "2021-01-27T01:55:59.580190",
     "status": "completed"
    },
    "tags": []
   },
   "outputs": [],
   "source": []
  }
 ],
 "metadata": {
  "kernelspec": {
   "display_name": "Python 3",
   "language": "python",
   "name": "python3"
  },
  "language_info": {
   "codemirror_mode": {
    "name": "ipython",
    "version": 3
   },
   "file_extension": ".py",
   "mimetype": "text/x-python",
   "name": "python",
   "nbconvert_exporter": "python",
   "pygments_lexer": "ipython3",
   "version": "3.6.12"
  },
  "papermill": {
   "default_parameters": {},
   "duration": 11.564538,
   "end_time": "2021-01-27T01:56:00.009342",
   "environment_variables": {},
   "exception": null,
   "input_path": "Market-News.ipynb",
   "output_path": "Market-News.ipynb",
   "parameters": {},
   "start_time": "2021-01-27T01:55:48.444804",
   "version": "2.2.2"
  }
 },
 "nbformat": 4,
 "nbformat_minor": 5
}