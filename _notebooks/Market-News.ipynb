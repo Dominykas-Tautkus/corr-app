{
 "cells": [
  {
   "cell_type": "markdown",
   "id": "short-greensboro",
   "metadata": {
    "papermill": {
     "duration": 0.013414,
     "end_time": "2021-06-06T03:02:48.594592",
     "exception": false,
     "start_time": "2021-06-06T03:02:48.581178",
     "status": "completed"
    },
    "tags": []
   },
   "source": [
    "# Kriptovaliutų naujienos"
   ]
  },
  {
   "cell_type": "code",
   "execution_count": 1,
   "id": "functioning-knowing",
   "metadata": {
    "execution": {
     "iopub.execute_input": "2021-06-06T03:02:48.623928Z",
     "iopub.status.busy": "2021-06-06T03:02:48.623397Z",
     "iopub.status.idle": "2021-06-06T03:02:49.778196Z",
     "shell.execute_reply": "2021-06-06T03:02:49.777673Z"
    },
    "papermill": {
     "duration": 1.173833,
     "end_time": "2021-06-06T03:02:49.778337",
     "exception": false,
     "start_time": "2021-06-06T03:02:48.604504",
     "status": "completed"
    },
    "tags": []
   },
   "outputs": [],
   "source": [
    "#hide_input\n",
    "import warnings\n",
    "warnings.filterwarnings('ignore')\n",
    "from scripts.read_data import read_api\n",
    "from scripts.read_data import read_news\n",
    "from scripts.read_data import read_covid\n",
    "import matplotlib.pyplot as plt \n",
    "from IPython.display import Markdown as md"
   ]
  },
  {
   "cell_type": "code",
   "execution_count": 2,
   "id": "shared-acceptance",
   "metadata": {
    "execution": {
     "iopub.execute_input": "2021-06-06T03:02:49.805214Z",
     "iopub.status.busy": "2021-06-06T03:02:49.804703Z",
     "iopub.status.idle": "2021-06-06T03:02:58.287312Z",
     "shell.execute_reply": "2021-06-06T03:02:58.286448Z"
    },
    "papermill": {
     "duration": 8.498934,
     "end_time": "2021-06-06T03:02:58.287448",
     "exception": false,
     "start_time": "2021-06-06T03:02:49.788514",
     "status": "completed"
    },
    "tags": []
   },
   "outputs": [],
   "source": [
    "#hide_input\n",
    "blockchain = read_news('blockchain') \n",
    "btc = read_news('btc') \n",
    "xrp = read_news('xrp') \n",
    "trx = read_news('trx') \n",
    "eth = read_news('eth')  \n",
    "ada = read_news('ada')\n",
    "exchange = read_news('exchange') "
   ]
  },
  {
   "cell_type": "code",
   "execution_count": 3,
   "id": "synthetic-notion",
   "metadata": {
    "execution": {
     "iopub.execute_input": "2021-06-06T03:02:58.312839Z",
     "iopub.status.busy": "2021-06-06T03:02:58.312297Z",
     "iopub.status.idle": "2021-06-06T03:02:58.316682Z",
     "shell.execute_reply": "2021-06-06T03:02:58.316266Z"
    },
    "papermill": {
     "duration": 0.019981,
     "end_time": "2021-06-06T03:02:58.316807",
     "exception": false,
     "start_time": "2021-06-06T03:02:58.296826",
     "status": "completed"
    },
    "tags": []
   },
   "outputs": [
    {
     "data": {
      "text/markdown": [
       "- El Salvador Set to Accept Bitcoin as Legal Tender: A Crypto Bull Case?.  El Salvador is set to become the first nation to accept Bitcoin as legal tender. In an announcement at the Bitcoin 2021 conference earlier today, El Saldavor’s President Nayib Bukele said that the bill to legitimize the major cryptocurrency as legal tender was well under way. “Next week I will send to congress a bill [&#8230;] ... [| Skaityti daugiau](https://bitcoinist.com/el-salvador-set-to-accept-bitcoin-as-legal-tender-a-crypto-bull-case/?utm_source=rss&utm_medium=rss&utm_campaign=el-salvador-set-to-accept-bitcoin-as-legal-tender-a-crypto-bull-case) "
      ],
      "text/plain": [
       "<IPython.core.display.Markdown object>"
      ]
     },
     "execution_count": 3,
     "metadata": {},
     "output_type": "execute_result"
    }
   ],
   "source": [
    "#hide_input\n",
    "#md('##### {}'.format(titleBTC)) \n",
    "md(\"- {}{} {}{} [| Skaityti daugiau]({}) \".format(blockchain['title'],'. ', blockchain['body'], ' ...', blockchain['url']))"
   ]
  },
  {
   "cell_type": "code",
   "execution_count": 4,
   "id": "aging-caution",
   "metadata": {
    "execution": {
     "iopub.execute_input": "2021-06-06T03:02:58.340139Z",
     "iopub.status.busy": "2021-06-06T03:02:58.339621Z",
     "iopub.status.idle": "2021-06-06T03:02:58.342371Z",
     "shell.execute_reply": "2021-06-06T03:02:58.341941Z"
    },
    "papermill": {
     "duration": 0.016314,
     "end_time": "2021-06-06T03:02:58.342475",
     "exception": false,
     "start_time": "2021-06-06T03:02:58.326161",
     "status": "completed"
    },
    "tags": []
   },
   "outputs": [
    {
     "data": {
      "text/markdown": [
       "- Anonymous Targets Elon Musk for Destroying Crypto Holders’ Lives, Trying to Control Bitcoin.  The decentralized group Anonymous has published a message for Elon Musk in a video where they called the Tesla CEO &#8220;nothing more than another narcissistic rich dude who is desperate for attention.&#8221; They shed light on many things people may not know about Musk, including how he treats his employees, harms the environment, where his [&#8230;] ... [| Skaityti daugiau](https://news.bitcoin.com/anonymous-targets-elon-musk-destroying-crypto-holders-lives-control-bitcoin/) "
      ],
      "text/plain": [
       "<IPython.core.display.Markdown object>"
      ]
     },
     "execution_count": 4,
     "metadata": {},
     "output_type": "execute_result"
    }
   ],
   "source": [
    "#hide_input\n",
    "#md('##### {}'.format(titleBTC)) \n",
    "md(\"- {}{} {}{} [| Skaityti daugiau]({}) \".format(btc['title'],'. ', btc['body'], ' ...', btc['url']))"
   ]
  },
  {
   "cell_type": "code",
   "execution_count": 5,
   "id": "organic-actress",
   "metadata": {
    "execution": {
     "iopub.execute_input": "2021-06-06T03:02:58.366823Z",
     "iopub.status.busy": "2021-06-06T03:02:58.366325Z",
     "iopub.status.idle": "2021-06-06T03:02:58.369073Z",
     "shell.execute_reply": "2021-06-06T03:02:58.369447Z"
    },
    "papermill": {
     "duration": 0.01732,
     "end_time": "2021-06-06T03:02:58.369570",
     "exception": false,
     "start_time": "2021-06-06T03:02:58.352250",
     "status": "completed"
    },
    "tags": []
   },
   "outputs": [
    {
     "data": {
      "text/markdown": [
       "- XRP, AAVE, Dogecoin Price Analysis: 05 June.  XRP, at press time, was required to flip the $1.063-$1.180 range to initiate a strong rally, but its technicals pointed at weaknesses in the market. Meanwhile, Aave and DOGE were projected to trade sideways within their major support and resistance zones. XRP Although the region between $1.063 and $1.180 was not a major resistance zone [&#8230;] ... [| Skaityti daugiau](https://ambcrypto.com/xrp-aave-dogecoin-price-analysis-05-june/) "
      ],
      "text/plain": [
       "<IPython.core.display.Markdown object>"
      ]
     },
     "execution_count": 5,
     "metadata": {},
     "output_type": "execute_result"
    }
   ],
   "source": [
    "#hide_input\n",
    "#md('##### {}'.format(titleBTC)) \n",
    "md(\"- {}{} {}{} [| Skaityti daugiau]({}) \".format(xrp['title'],'. ', xrp['body'], ' ...', xrp['url']))"
   ]
  },
  {
   "cell_type": "code",
   "execution_count": 6,
   "id": "prompt-farmer",
   "metadata": {
    "execution": {
     "iopub.execute_input": "2021-06-06T03:02:58.394663Z",
     "iopub.status.busy": "2021-06-06T03:02:58.394091Z",
     "iopub.status.idle": "2021-06-06T03:02:58.396154Z",
     "shell.execute_reply": "2021-06-06T03:02:58.396692Z"
    },
    "papermill": {
     "duration": 0.017306,
     "end_time": "2021-06-06T03:02:58.396825",
     "exception": false,
     "start_time": "2021-06-06T03:02:58.379519",
     "status": "completed"
    },
    "tags": []
   },
   "outputs": [
    {
     "data": {
      "text/markdown": [
       "- Tron, Ethereum Classic, VeChain Price Analysis: 05 June.  Even though the king coin rose by 2.8% and targeted the $38k price level, alts such as Tron and Ethereum Classic registered only minor bullish movements and lay in anticipation of a larger price swing. Slightly up the crypto-ladder, VeChain&#8217;s chances of an ascending triangle breakout seemed to be dwindling. Tron [TRX] Since the 19 [&#8230;] ... [| Skaityti daugiau](https://ambcrypto.com/tron-ethereum-classic-vechain-price-analysis-05-june/) "
      ],
      "text/plain": [
       "<IPython.core.display.Markdown object>"
      ]
     },
     "execution_count": 6,
     "metadata": {},
     "output_type": "execute_result"
    }
   ],
   "source": [
    "#hide_input\n",
    "#md('##### {}'.format(titleBTC)) \n",
    "md(\"- {}{} {}{} [| Skaityti daugiau]({}) \".format(trx['title'],'. ', trx['body'], ' ...', trx['url']))"
   ]
  },
  {
   "cell_type": "code",
   "execution_count": 7,
   "id": "illegal-greece",
   "metadata": {
    "execution": {
     "iopub.execute_input": "2021-06-06T03:02:58.423560Z",
     "iopub.status.busy": "2021-06-06T03:02:58.422978Z",
     "iopub.status.idle": "2021-06-06T03:02:58.425008Z",
     "shell.execute_reply": "2021-06-06T03:02:58.425543Z"
    },
    "papermill": {
     "duration": 0.018165,
     "end_time": "2021-06-06T03:02:58.425679",
     "exception": false,
     "start_time": "2021-06-06T03:02:58.407514",
     "status": "completed"
    },
    "tags": []
   },
   "outputs": [
    {
     "data": {
      "text/markdown": [
       "- Why Bitcoin's next breakout may not be an altcoin season signal.  Many investors rely on bullish breakouts from Bitcoin as a sign of the next altcoin season but data suggests this strategy is flawed. ... [| Skaityti daugiau](https://cointelegraph.com/news/why-bitcoin-s-next-breakout-may-not-be-an-altcoin-season-signal) "
      ],
      "text/plain": [
       "<IPython.core.display.Markdown object>"
      ]
     },
     "execution_count": 7,
     "metadata": {},
     "output_type": "execute_result"
    }
   ],
   "source": [
    "#hide_input\n",
    "#md('##### {}'.format(titleBTC)) \n",
    "md(\"- {}{} {}{} [| Skaityti daugiau]({}) \".format(eth['title'],'. ', eth['body'], ' ...', eth['url']))"
   ]
  },
  {
   "cell_type": "code",
   "execution_count": 8,
   "id": "sublime-lounge",
   "metadata": {
    "execution": {
     "iopub.execute_input": "2021-06-06T03:02:58.452369Z",
     "iopub.status.busy": "2021-06-06T03:02:58.451773Z",
     "iopub.status.idle": "2021-06-06T03:02:58.454187Z",
     "shell.execute_reply": "2021-06-06T03:02:58.454582Z"
    },
    "papermill": {
     "duration": 0.017912,
     "end_time": "2021-06-06T03:02:58.454699",
     "exception": false,
     "start_time": "2021-06-06T03:02:58.436787",
     "status": "completed"
    },
    "tags": []
   },
   "outputs": [
    {
     "data": {
      "text/markdown": [
       "- How is Cardano taking ‘a different approach than Ethereum?’.  Blockchains, in their earlier days, drew upon crypto-anarchist principles to formulate their respective networks. The ‘blockchain trilemma’ had persuasively made first-generation networks choose only two factors among scalability, decentralization, and security. However, innovations never stop and with time, the ecosystem has come up with a diverse range of Layer-1 and Layer-2 solutions that are overcoming [&#8230;] ... [| Skaityti daugiau](https://ambcrypto.com/how-is-cardano-taking-a-different-approach-than-ethereum/) "
      ],
      "text/plain": [
       "<IPython.core.display.Markdown object>"
      ]
     },
     "execution_count": 8,
     "metadata": {},
     "output_type": "execute_result"
    }
   ],
   "source": [
    "#hide_input\n",
    "#md('##### {}'.format(titleBTC)) \n",
    "md(\"- {}{} {}{} [| Skaityti daugiau]({}) \".format(ada['title'],'. ', ada['body'], ' ...', ada['url']))"
   ]
  },
  {
   "cell_type": "code",
   "execution_count": 9,
   "id": "specified-ordering",
   "metadata": {
    "execution": {
     "iopub.execute_input": "2021-06-06T03:02:58.481253Z",
     "iopub.status.busy": "2021-06-06T03:02:58.480758Z",
     "iopub.status.idle": "2021-06-06T03:02:58.483316Z",
     "shell.execute_reply": "2021-06-06T03:02:58.483744Z"
    },
    "papermill": {
     "duration": 0.018317,
     "end_time": "2021-06-06T03:02:58.483862",
     "exception": false,
     "start_time": "2021-06-06T03:02:58.465545",
     "status": "completed"
    },
    "tags": []
   },
   "outputs": [
    {
     "data": {
      "text/markdown": [
       "- Dormant Bitcoin Whale Moves Its BTC After Its Price Rose 270,000%.  A cryptocurrency whale that hasn’t moved its bitcoin from a specific wallet since 2013 has recently moved the funds, according to large crypto transaction monitoring tool Whale Alert. The bitcoin whale’s wallet first received 900 BTC back in 2012, from a rather active address at the time that could have belonged to a cryptocurrency exchange. […] ... [| Skaityti daugiau](https://www.cryptoglobe.com/latest/2021/06/dormant-bitcoin-whale-moves-its-btc-after-its-price-rose-270000/) "
      ],
      "text/plain": [
       "<IPython.core.display.Markdown object>"
      ]
     },
     "execution_count": 9,
     "metadata": {},
     "output_type": "execute_result"
    }
   ],
   "source": [
    "#hide_input\n",
    "#md('##### {}'.format(titleBTC)) \n",
    "md(\"- {}{} {}{} [| Skaityti daugiau]({}) \".format(exchange['title'],'. ', exchange['body'], ' ...', exchange['url']))"
   ]
  },
  {
   "cell_type": "code",
   "execution_count": null,
   "id": "tender-livestock",
   "metadata": {
    "papermill": {
     "duration": 0.011121,
     "end_time": "2021-06-06T03:02:58.506212",
     "exception": false,
     "start_time": "2021-06-06T03:02:58.495091",
     "status": "completed"
    },
    "tags": []
   },
   "outputs": [],
   "source": []
  },
  {
   "cell_type": "code",
   "execution_count": null,
   "id": "appreciated-diamond",
   "metadata": {
    "papermill": {
     "duration": 0.011166,
     "end_time": "2021-06-06T03:02:58.528780",
     "exception": false,
     "start_time": "2021-06-06T03:02:58.517614",
     "status": "completed"
    },
    "tags": []
   },
   "outputs": [],
   "source": []
  },
  {
   "cell_type": "code",
   "execution_count": null,
   "id": "romance-sweden",
   "metadata": {
    "papermill": {
     "duration": 0.011107,
     "end_time": "2021-06-06T03:02:58.551067",
     "exception": false,
     "start_time": "2021-06-06T03:02:58.539960",
     "status": "completed"
    },
    "tags": []
   },
   "outputs": [],
   "source": []
  },
  {
   "cell_type": "code",
   "execution_count": null,
   "id": "dietary-statistics",
   "metadata": {
    "papermill": {
     "duration": 0.011169,
     "end_time": "2021-06-06T03:02:58.573450",
     "exception": false,
     "start_time": "2021-06-06T03:02:58.562281",
     "status": "completed"
    },
    "tags": []
   },
   "outputs": [],
   "source": []
  }
 ],
 "metadata": {
  "kernelspec": {
   "display_name": "Python 3",
   "language": "python",
   "name": "python3"
  },
  "language_info": {
   "codemirror_mode": {
    "name": "ipython",
    "version": 3
   },
   "file_extension": ".py",
   "mimetype": "text/x-python",
   "name": "python",
   "nbconvert_exporter": "python",
   "pygments_lexer": "ipython3",
   "version": "3.6.13"
  },
  "papermill": {
   "default_parameters": {},
   "duration": 12.279031,
   "end_time": "2021-06-06T03:02:59.823983",
   "environment_variables": {},
   "exception": null,
   "input_path": "Market-News.ipynb",
   "output_path": "Market-News.ipynb",
   "parameters": {},
   "start_time": "2021-06-06T03:02:47.544952",
   "version": "2.2.2"
  }
 },
 "nbformat": 4,
 "nbformat_minor": 5
}