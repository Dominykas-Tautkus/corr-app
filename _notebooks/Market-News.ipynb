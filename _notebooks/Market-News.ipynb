{
 "cells": [
  {
   "cell_type": "markdown",
   "id": "short-greensboro",
   "metadata": {
    "papermill": {
     "duration": 0.016581,
     "end_time": "2021-06-02T04:36:30.663481",
     "exception": false,
     "start_time": "2021-06-02T04:36:30.646900",
     "status": "completed"
    },
    "tags": []
   },
   "source": [
    "# Kriptovaliutų naujienos"
   ]
  },
  {
   "cell_type": "code",
   "execution_count": 1,
   "id": "functioning-knowing",
   "metadata": {
    "execution": {
     "iopub.execute_input": "2021-06-02T04:36:30.700682Z",
     "iopub.status.busy": "2021-06-02T04:36:30.700018Z",
     "iopub.status.idle": "2021-06-02T04:36:32.145280Z",
     "shell.execute_reply": "2021-06-02T04:36:32.145815Z"
    },
    "papermill": {
     "duration": 1.469344,
     "end_time": "2021-06-02T04:36:32.146012",
     "exception": false,
     "start_time": "2021-06-02T04:36:30.676668",
     "status": "completed"
    },
    "tags": []
   },
   "outputs": [],
   "source": [
    "#hide_input\n",
    "import warnings\n",
    "warnings.filterwarnings('ignore')\n",
    "from scripts.read_data import read_api\n",
    "from scripts.read_data import read_news\n",
    "from scripts.read_data import read_covid\n",
    "import matplotlib.pyplot as plt \n",
    "from IPython.display import Markdown as md"
   ]
  },
  {
   "cell_type": "code",
   "execution_count": 2,
   "id": "shared-acceptance",
   "metadata": {
    "execution": {
     "iopub.execute_input": "2021-06-02T04:36:32.180477Z",
     "iopub.status.busy": "2021-06-02T04:36:32.179376Z",
     "iopub.status.idle": "2021-06-02T04:36:53.507854Z",
     "shell.execute_reply": "2021-06-02T04:36:53.507209Z"
    },
    "papermill": {
     "duration": 21.348803,
     "end_time": "2021-06-02T04:36:53.508029",
     "exception": false,
     "start_time": "2021-06-02T04:36:32.159226",
     "status": "completed"
    },
    "tags": []
   },
   "outputs": [],
   "source": [
    "#hide_input\n",
    "blockchain = read_news('blockchain') \n",
    "btc = read_news('btc') \n",
    "xrp = read_news('xrp') \n",
    "trx = read_news('trx') \n",
    "eth = read_news('eth')  \n",
    "ada = read_news('ada')\n",
    "exchange = read_news('exchange') "
   ]
  },
  {
   "cell_type": "code",
   "execution_count": 3,
   "id": "synthetic-notion",
   "metadata": {
    "execution": {
     "iopub.execute_input": "2021-06-02T04:36:53.539014Z",
     "iopub.status.busy": "2021-06-02T04:36:53.538361Z",
     "iopub.status.idle": "2021-06-02T04:36:53.542018Z",
     "shell.execute_reply": "2021-06-02T04:36:53.541412Z"
    },
    "papermill": {
     "duration": 0.021344,
     "end_time": "2021-06-02T04:36:53.542157",
     "exception": false,
     "start_time": "2021-06-02T04:36:53.520813",
     "status": "completed"
    },
    "tags": []
   },
   "outputs": [
    {
     "data": {
      "text/markdown": [
       "- “I’m A Big Believer In Crypto,” Tom Brady Says In Recent Interview.  Tom Brady, a seven-time Super Bowl champion, said he&#8217;s a &#8220;strong believer&#8221; in cryptocurrencies and confirmed that he&#8217;s bought them. Tom Brady In It For A Long Time Despite the recent status of the crypto space, the star quarterback, formerly of the New England Patriots, stated in a recent interview that he was looking at [&#8230;] ... [| Skaityti daugiau](https://bitcoinist.com/im-a-big-believer-in-crypto-tom-brady-says-in-recent-interview/?utm_source=rss&utm_medium=rss&utm_campaign=im-a-big-believer-in-crypto-tom-brady-says-in-recent-interview) "
      ],
      "text/plain": [
       "<IPython.core.display.Markdown object>"
      ]
     },
     "execution_count": 3,
     "metadata": {},
     "output_type": "execute_result"
    }
   ],
   "source": [
    "#hide_input\n",
    "#md('##### {}'.format(titleBTC)) \n",
    "md(\"- {}{} {}{} [| Skaityti daugiau]({}) \".format(blockchain['title'],'. ', blockchain['body'], ' ...', blockchain['url']))"
   ]
  },
  {
   "cell_type": "code",
   "execution_count": 4,
   "id": "aging-caution",
   "metadata": {
    "execution": {
     "iopub.execute_input": "2021-06-02T04:36:53.570899Z",
     "iopub.status.busy": "2021-06-02T04:36:53.570233Z",
     "iopub.status.idle": "2021-06-02T04:36:53.573638Z",
     "shell.execute_reply": "2021-06-02T04:36:53.573055Z"
    },
    "papermill": {
     "duration": 0.019531,
     "end_time": "2021-06-02T04:36:53.573767",
     "exception": false,
     "start_time": "2021-06-02T04:36:53.554236",
     "status": "completed"
    },
    "tags": []
   },
   "outputs": [
    {
     "data": {
      "text/markdown": [
       "- Publicly-listed Chinese brokerages eye Bitcoin offerings, but there’s a catch.  Chinese online brokerages Tiger Brokers and Futu plan to bolster crypto trading services, taking on global players Robinhood and eToro, as per a report in the South China Morning Post today. The post Publicly-listed Chinese brokerages eye Bitcoin offerings, but there&#8217;s a catch appeared first on CryptoSlate. ... [| Skaityti daugiau](https://cryptoslate.com/publicly-listed-chinese-brokerages-eye-bitcoin-offerings-but-theres-a-catch/) "
      ],
      "text/plain": [
       "<IPython.core.display.Markdown object>"
      ]
     },
     "execution_count": 4,
     "metadata": {},
     "output_type": "execute_result"
    }
   ],
   "source": [
    "#hide_input\n",
    "#md('##### {}'.format(titleBTC)) \n",
    "md(\"- {}{} {}{} [| Skaityti daugiau]({}) \".format(btc['title'],'. ', btc['body'], ' ...', btc['url']))"
   ]
  },
  {
   "cell_type": "code",
   "execution_count": 5,
   "id": "organic-actress",
   "metadata": {
    "execution": {
     "iopub.execute_input": "2021-06-02T04:36:53.604080Z",
     "iopub.status.busy": "2021-06-02T04:36:53.603411Z",
     "iopub.status.idle": "2021-06-02T04:36:53.607414Z",
     "shell.execute_reply": "2021-06-02T04:36:53.606742Z"
    },
    "papermill": {
     "duration": 0.021426,
     "end_time": "2021-06-02T04:36:53.607549",
     "exception": false,
     "start_time": "2021-06-02T04:36:53.586123",
     "status": "completed"
    },
    "tags": []
   },
   "outputs": [
    {
     "data": {
      "text/markdown": [
       "- Federal Judge Sides With Ripple, Denies SEC Access to Legal Communications.  A federal judge has denied the U.S. Securities and Exchange Commission (SEC) access to Ripple&#8217;s communication with lawyers. The SEC wanted the San Francisco-based company to produce any legal advice it received on whether its offers/sales of XRP violated any securities laws. The SEC argues that Ripple is &#8220;artfully&#8221; pleading a &#8220;good faith defense,&#8221; which [&#8230;]The post Federal Judge Sides With Ripple, Denies SEC Access to Legal Communications appeared first on The Daily Hodl. ... [| Skaityti daugiau](https://dailyhodl.com/2021/06/01/federal-judge-sides-with-ripple-denies-sec-access-to-legal-communications/) "
      ],
      "text/plain": [
       "<IPython.core.display.Markdown object>"
      ]
     },
     "execution_count": 5,
     "metadata": {},
     "output_type": "execute_result"
    }
   ],
   "source": [
    "#hide_input\n",
    "#md('##### {}'.format(titleBTC)) \n",
    "md(\"- {}{} {}{} [| Skaityti daugiau]({}) \".format(xrp['title'],'. ', xrp['body'], ' ...', xrp['url']))"
   ]
  },
  {
   "cell_type": "code",
   "execution_count": 6,
   "id": "prompt-farmer",
   "metadata": {
    "execution": {
     "iopub.execute_input": "2021-06-02T04:36:53.642044Z",
     "iopub.status.busy": "2021-06-02T04:36:53.641016Z",
     "iopub.status.idle": "2021-06-02T04:36:53.645423Z",
     "shell.execute_reply": "2021-06-02T04:36:53.645962Z"
    },
    "papermill": {
     "duration": 0.023883,
     "end_time": "2021-06-02T04:36:53.646123",
     "exception": false,
     "start_time": "2021-06-02T04:36:53.622240",
     "status": "completed"
    },
    "tags": []
   },
   "outputs": [
    {
     "data": {
      "text/markdown": [
       "- Tron Founder Justin Sun Says Crypto Bull Market Gearing Up for Next Rally – Here’s When.  Justin Sun, founder of Tron (TRX), believes that the crypto bull market is still intact and that a new rally is just around the corner. In an interview with Bloomberg, Sun predicts that there will be a &#8220;price adjustment&#8221; in June before a rally is experienced in the two months thereafter. &#8220;I believe June is [&#8230;]The post Tron Founder Justin Sun Says Crypto Bull Market Gearing Up for Next Rally – Here’s When appeared first on The Daily Hodl. ... [| Skaityti daugiau](https://dailyhodl.com/2021/06/01/tron-founder-justin-sun-says-crypto-bull-market-gearing-up-for-next-rally-heres-when/) "
      ],
      "text/plain": [
       "<IPython.core.display.Markdown object>"
      ]
     },
     "execution_count": 6,
     "metadata": {},
     "output_type": "execute_result"
    }
   ],
   "source": [
    "#hide_input\n",
    "#md('##### {}'.format(titleBTC)) \n",
    "md(\"- {}{} {}{} [| Skaityti daugiau]({}) \".format(trx['title'],'. ', trx['body'], ' ...', trx['url']))"
   ]
  },
  {
   "cell_type": "code",
   "execution_count": 7,
   "id": "illegal-greece",
   "metadata": {
    "execution": {
     "iopub.execute_input": "2021-06-02T04:36:53.678447Z",
     "iopub.status.busy": "2021-06-02T04:36:53.677799Z",
     "iopub.status.idle": "2021-06-02T04:36:53.680443Z",
     "shell.execute_reply": "2021-06-02T04:36:53.681043Z"
    },
    "papermill": {
     "duration": 0.02152,
     "end_time": "2021-06-02T04:36:53.681196",
     "exception": false,
     "start_time": "2021-06-02T04:36:53.659676",
     "status": "completed"
    },
    "tags": []
   },
   "outputs": [
    {
     "data": {
      "text/markdown": [
       "- Institutional investors load up ETH, with its share of AUM hitting a new record.  Institutional investors continue to exit BTC in favor of ETH, with Ether investment products now representing more than one-quarter of institutional crypto AUM. ... [| Skaityti daugiau](https://cointelegraph.com/news/institutional-investors-load-up-eth-with-its-share-of-aum-hitting-a-new-record) "
      ],
      "text/plain": [
       "<IPython.core.display.Markdown object>"
      ]
     },
     "execution_count": 7,
     "metadata": {},
     "output_type": "execute_result"
    }
   ],
   "source": [
    "#hide_input\n",
    "#md('##### {}'.format(titleBTC)) \n",
    "md(\"- {}{} {}{} [| Skaityti daugiau]({}) \".format(eth['title'],'. ', eth['body'], ' ...', eth['url']))"
   ]
  },
  {
   "cell_type": "code",
   "execution_count": 8,
   "id": "sublime-lounge",
   "metadata": {
    "execution": {
     "iopub.execute_input": "2021-06-02T04:36:53.715435Z",
     "iopub.status.busy": "2021-06-02T04:36:53.714673Z",
     "iopub.status.idle": "2021-06-02T04:36:53.717621Z",
     "shell.execute_reply": "2021-06-02T04:36:53.718197Z"
    },
    "papermill": {
     "duration": 0.023337,
     "end_time": "2021-06-02T04:36:53.718328",
     "exception": false,
     "start_time": "2021-06-02T04:36:53.694991",
     "status": "completed"
    },
    "tags": []
   },
   "outputs": [
    {
     "data": {
      "text/markdown": [
       "- Cardano Price Prediction: ADA on the brink of explosive move to $2.4.  Cardano has been nurturing an uptrend since the initial downswing to $1 in May. The first recovery attempt almost brushed shoulders with $2, but another correction ensued almost immediately. The cat and mouse game continued between the bears and the bulls, with the resistance at $1.8 capping movement. On the downside, bulls have kept growing The post Cardano Price Prediction: ADA on the brink of explosive move to $2.4 appeared first on Coingape. ... [| Skaityti daugiau](https://coingape.com/cardano-price-prediction-ada-on-the-brink-of-explosive-move-to-2-4/) "
      ],
      "text/plain": [
       "<IPython.core.display.Markdown object>"
      ]
     },
     "execution_count": 8,
     "metadata": {},
     "output_type": "execute_result"
    }
   ],
   "source": [
    "#hide_input\n",
    "#md('##### {}'.format(titleBTC)) \n",
    "md(\"- {}{} {}{} [| Skaityti daugiau]({}) \".format(ada['title'],'. ', ada['body'], ' ...', ada['url']))"
   ]
  },
  {
   "cell_type": "code",
   "execution_count": 9,
   "id": "specified-ordering",
   "metadata": {
    "execution": {
     "iopub.execute_input": "2021-06-02T04:36:53.752311Z",
     "iopub.status.busy": "2021-06-02T04:36:53.751622Z",
     "iopub.status.idle": "2021-06-02T04:36:53.754292Z",
     "shell.execute_reply": "2021-06-02T04:36:53.754938Z"
    },
    "papermill": {
     "duration": 0.022518,
     "end_time": "2021-06-02T04:36:53.755076",
     "exception": false,
     "start_time": "2021-06-02T04:36:53.732558",
     "status": "completed"
    },
    "tags": []
   },
   "outputs": [
    {
     "data": {
      "text/markdown": [
       "- Federal Judge Sides With Ripple, Denies SEC Access to Legal Communications.  A federal judge has denied the U.S. Securities and Exchange Commission (SEC) access to Ripple&#8217;s communication with lawyers. The SEC wanted the San Francisco-based company to produce any legal advice it received on whether its offers/sales of XRP violated any securities laws. The SEC argues that Ripple is &#8220;artfully&#8221; pleading a &#8220;good faith defense,&#8221; which [&#8230;]The post Federal Judge Sides With Ripple, Denies SEC Access to Legal Communications appeared first on The Daily Hodl. ... [| Skaityti daugiau](https://dailyhodl.com/2021/06/01/federal-judge-sides-with-ripple-denies-sec-access-to-legal-communications/) "
      ],
      "text/plain": [
       "<IPython.core.display.Markdown object>"
      ]
     },
     "execution_count": 9,
     "metadata": {},
     "output_type": "execute_result"
    }
   ],
   "source": [
    "#hide_input\n",
    "#md('##### {}'.format(titleBTC)) \n",
    "md(\"- {}{} {}{} [| Skaityti daugiau]({}) \".format(exchange['title'],'. ', exchange['body'], ' ...', exchange['url']))"
   ]
  },
  {
   "cell_type": "code",
   "execution_count": null,
   "id": "tender-livestock",
   "metadata": {
    "papermill": {
     "duration": 0.014156,
     "end_time": "2021-06-02T04:36:53.784197",
     "exception": false,
     "start_time": "2021-06-02T04:36:53.770041",
     "status": "completed"
    },
    "tags": []
   },
   "outputs": [],
   "source": []
  },
  {
   "cell_type": "code",
   "execution_count": null,
   "id": "appreciated-diamond",
   "metadata": {
    "papermill": {
     "duration": 0.015292,
     "end_time": "2021-06-02T04:36:53.814705",
     "exception": false,
     "start_time": "2021-06-02T04:36:53.799413",
     "status": "completed"
    },
    "tags": []
   },
   "outputs": [],
   "source": []
  },
  {
   "cell_type": "code",
   "execution_count": null,
   "id": "romance-sweden",
   "metadata": {
    "papermill": {
     "duration": 0.014247,
     "end_time": "2021-06-02T04:36:53.843838",
     "exception": false,
     "start_time": "2021-06-02T04:36:53.829591",
     "status": "completed"
    },
    "tags": []
   },
   "outputs": [],
   "source": []
  },
  {
   "cell_type": "code",
   "execution_count": null,
   "id": "dietary-statistics",
   "metadata": {
    "papermill": {
     "duration": 0.014462,
     "end_time": "2021-06-02T04:36:53.873935",
     "exception": false,
     "start_time": "2021-06-02T04:36:53.859473",
     "status": "completed"
    },
    "tags": []
   },
   "outputs": [],
   "source": []
  }
 ],
 "metadata": {
  "kernelspec": {
   "display_name": "Python 3",
   "language": "python",
   "name": "python3"
  },
  "language_info": {
   "codemirror_mode": {
    "name": "ipython",
    "version": 3
   },
   "file_extension": ".py",
   "mimetype": "text/x-python",
   "name": "python",
   "nbconvert_exporter": "python",
   "pygments_lexer": "ipython3",
   "version": "3.6.13"
  },
  "papermill": {
   "default_parameters": {},
   "duration": 24.842619,
   "end_time": "2021-06-02T04:36:54.396296",
   "environment_variables": {},
   "exception": null,
   "input_path": "Market-News.ipynb",
   "output_path": "Market-News.ipynb",
   "parameters": {},
   "start_time": "2021-06-02T04:36:29.553677",
   "version": "2.2.2"
  }
 },
 "nbformat": 4,
 "nbformat_minor": 5
}