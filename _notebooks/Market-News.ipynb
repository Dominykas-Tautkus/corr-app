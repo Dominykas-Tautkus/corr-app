{
 "cells": [
  {
   "cell_type": "markdown",
   "id": "short-greensboro",
   "metadata": {
    "papermill": {
     "duration": 0.013701,
     "end_time": "2021-07-14T01:56:07.190063",
     "exception": false,
     "start_time": "2021-07-14T01:56:07.176362",
     "status": "completed"
    },
    "tags": []
   },
   "source": [
    "# Kriptovaliutų naujienos"
   ]
  },
  {
   "cell_type": "code",
   "execution_count": 1,
   "id": "functioning-knowing",
   "metadata": {
    "execution": {
     "iopub.execute_input": "2021-07-14T01:56:07.219683Z",
     "iopub.status.busy": "2021-07-14T01:56:07.219096Z",
     "iopub.status.idle": "2021-07-14T01:56:08.436273Z",
     "shell.execute_reply": "2021-07-14T01:56:08.435321Z"
    },
    "papermill": {
     "duration": 1.236567,
     "end_time": "2021-07-14T01:56:08.436427",
     "exception": false,
     "start_time": "2021-07-14T01:56:07.199860",
     "status": "completed"
    },
    "tags": []
   },
   "outputs": [],
   "source": [
    "#hide_input\n",
    "import warnings\n",
    "warnings.filterwarnings('ignore')\n",
    "from scripts.read_data import read_api\n",
    "from scripts.read_data import read_news\n",
    "from scripts.read_data import read_covid\n",
    "import matplotlib.pyplot as plt \n",
    "from IPython.display import Markdown as md"
   ]
  },
  {
   "cell_type": "code",
   "execution_count": 2,
   "id": "shared-acceptance",
   "metadata": {
    "execution": {
     "iopub.execute_input": "2021-07-14T01:56:08.460580Z",
     "iopub.status.busy": "2021-07-14T01:56:08.460058Z",
     "iopub.status.idle": "2021-07-14T01:56:16.884586Z",
     "shell.execute_reply": "2021-07-14T01:56:16.884115Z"
    },
    "papermill": {
     "duration": 8.438934,
     "end_time": "2021-07-14T01:56:16.884707",
     "exception": false,
     "start_time": "2021-07-14T01:56:08.445773",
     "status": "completed"
    },
    "tags": []
   },
   "outputs": [],
   "source": [
    "#hide_input\n",
    "blockchain = read_news('blockchain') \n",
    "btc = read_news('btc') \n",
    "xrp = read_news('xrp') \n",
    "trx = read_news('trx') \n",
    "eth = read_news('eth')  \n",
    "ada = read_news('ada')\n",
    "exchange = read_news('exchange') "
   ]
  },
  {
   "cell_type": "code",
   "execution_count": 3,
   "id": "synthetic-notion",
   "metadata": {
    "execution": {
     "iopub.execute_input": "2021-07-14T01:56:16.910084Z",
     "iopub.status.busy": "2021-07-14T01:56:16.909569Z",
     "iopub.status.idle": "2021-07-14T01:56:16.912112Z",
     "shell.execute_reply": "2021-07-14T01:56:16.912507Z"
    },
    "papermill": {
     "duration": 0.017946,
     "end_time": "2021-07-14T01:56:16.912623",
     "exception": false,
     "start_time": "2021-07-14T01:56:16.894677",
     "status": "completed"
    },
    "tags": []
   },
   "outputs": [
    {
     "data": {
      "text/markdown": [
       "- Bitcoin Whale Moves $BTC After It Appreciated Over 630,000% in 9 Years.  A total of 791 bitcoin that had been dormant for over nine years has moved. The coins came from an address that was relatively active back in 2012, when the price of bitcoin was trading between $5 and $15. Data from the blockchain shows the address was most active in mid-2012, when BTC was trading […] ... [| Skaityti daugiau](https://www.cryptoglobe.com/latest/2021/07/bitcoin-whale-moves-btc-after-it-appreciated-over-630000-in-9-years/) "
      ],
      "text/plain": [
       "<IPython.core.display.Markdown object>"
      ]
     },
     "execution_count": 3,
     "metadata": {},
     "output_type": "execute_result"
    }
   ],
   "source": [
    "#hide_input\n",
    "#md('##### {}'.format(titleBTC)) \n",
    "md(\"- {}{} {}{} [| Skaityti daugiau]({}) \".format(blockchain['title'],'. ', blockchain['body'], ' ...', blockchain['url']))"
   ]
  },
  {
   "cell_type": "code",
   "execution_count": 4,
   "id": "aging-caution",
   "metadata": {
    "execution": {
     "iopub.execute_input": "2021-07-14T01:56:16.935365Z",
     "iopub.status.busy": "2021-07-14T01:56:16.934867Z",
     "iopub.status.idle": "2021-07-14T01:56:16.937493Z",
     "shell.execute_reply": "2021-07-14T01:56:16.937868Z"
    },
    "papermill": {
     "duration": 0.016111,
     "end_time": "2021-07-14T01:56:16.937986",
     "exception": false,
     "start_time": "2021-07-14T01:56:16.921875",
     "status": "completed"
    },
    "tags": []
   },
   "outputs": [
    {
     "data": {
      "text/markdown": [
       "- Speculations Indicate Bitcoin To Face Intensified Government Conspired Opposition.  Emerging &#8216;conspiracy theories&#8217; on possible stiffer conspired hostility on Bitcoin are beginning to be volleyed by crypto experts into their online channels. The alarms raise caution and discomfort over Bitcoin and the ecosystem&#8217;s future. As suggested by the Chief Strategy Officer of CoinShares, Meltem Demirors, the attacks are as imminent as a few months from now. [&#8230;] ... [| Skaityti daugiau](https://bitcoinist.com/speculations-indicate-bitcoin-to-face-intensified-government-conspired-opposition/?utm_source=rss&utm_medium=rss&utm_campaign=speculations-indicate-bitcoin-to-face-intensified-government-conspired-opposition) "
      ],
      "text/plain": [
       "<IPython.core.display.Markdown object>"
      ]
     },
     "execution_count": 4,
     "metadata": {},
     "output_type": "execute_result"
    }
   ],
   "source": [
    "#hide_input\n",
    "#md('##### {}'.format(titleBTC)) \n",
    "md(\"- {}{} {}{} [| Skaityti daugiau]({}) \".format(btc['title'],'. ', btc['body'], ' ...', btc['url']))"
   ]
  },
  {
   "cell_type": "code",
   "execution_count": 5,
   "id": "organic-actress",
   "metadata": {
    "execution": {
     "iopub.execute_input": "2021-07-14T01:56:16.961837Z",
     "iopub.status.busy": "2021-07-14T01:56:16.961344Z",
     "iopub.status.idle": "2021-07-14T01:56:16.964552Z",
     "shell.execute_reply": "2021-07-14T01:56:16.964132Z"
    },
    "papermill": {
     "duration": 0.017013,
     "end_time": "2021-07-14T01:56:16.964655",
     "exception": false,
     "start_time": "2021-07-14T01:56:16.947642",
     "status": "completed"
    },
    "tags": []
   },
   "outputs": [
    {
     "data": {
      "text/markdown": [
       "- Is there a pattern to the former Ripple exec’s XRP dumping.  If you&#8217;re an XRP enthusiast, you may be familiar with the monthly XRP release from escrow. XRP escrow was designed to provide predictability to the XRP supply and a part of which also is pocketed by the former Ripple executive, Jed McCaleb. McCaleb has not been shy about selling his XRP and data suggested, he [&#8230;] ... [| Skaityti daugiau](https://ambcrypto.com/is-there-a-pattern-to-the-former-ripple-execs-xrp-dumping/) "
      ],
      "text/plain": [
       "<IPython.core.display.Markdown object>"
      ]
     },
     "execution_count": 5,
     "metadata": {},
     "output_type": "execute_result"
    }
   ],
   "source": [
    "#hide_input\n",
    "#md('##### {}'.format(titleBTC)) \n",
    "md(\"- {}{} {}{} [| Skaityti daugiau]({}) \".format(xrp['title'],'. ', xrp['body'], ' ...', xrp['url']))"
   ]
  },
  {
   "cell_type": "code",
   "execution_count": 6,
   "id": "prompt-farmer",
   "metadata": {
    "execution": {
     "iopub.execute_input": "2021-07-14T01:56:16.989229Z",
     "iopub.status.busy": "2021-07-14T01:56:16.988741Z",
     "iopub.status.idle": "2021-07-14T01:56:16.991422Z",
     "shell.execute_reply": "2021-07-14T01:56:16.991932Z"
    },
    "papermill": {
     "duration": 0.017417,
     "end_time": "2021-07-14T01:56:16.992052",
     "exception": false,
     "start_time": "2021-07-14T01:56:16.974635",
     "status": "completed"
    },
    "tags": []
   },
   "outputs": [
    {
     "data": {
      "text/markdown": [
       "- Tron’s (TRX) Daily Transaction Count Has Grown by 522% in One Year.  The daily transaction count on the Tron network has grown by 522% in the last year Tron recently hit an all-time high in daily transactions at 9.278 million The growth of unique accounts on Tron continues to grow in a parabolic manner with the network hosting 45.160 million total accounts However, TRX/USDT is about to experience a death cross that should usher in a bearish time period for Tron Yesterday, the Tron (TRX) network hit a new all-time high in [&#8230;] ... [| Skaityti daugiau](https://en.ethereumworldnews.com/trons-trx-daily-transaction-count-has-grown-by-522-in-one-year/) "
      ],
      "text/plain": [
       "<IPython.core.display.Markdown object>"
      ]
     },
     "execution_count": 6,
     "metadata": {},
     "output_type": "execute_result"
    }
   ],
   "source": [
    "#hide_input\n",
    "#md('##### {}'.format(titleBTC)) \n",
    "md(\"- {}{} {}{} [| Skaityti daugiau]({}) \".format(trx['title'],'. ', trx['body'], ' ...', trx['url']))"
   ]
  },
  {
   "cell_type": "code",
   "execution_count": 7,
   "id": "illegal-greece",
   "metadata": {
    "execution": {
     "iopub.execute_input": "2021-07-14T01:56:17.016876Z",
     "iopub.status.busy": "2021-07-14T01:56:17.016375Z",
     "iopub.status.idle": "2021-07-14T01:56:17.020292Z",
     "shell.execute_reply": "2021-07-14T01:56:17.019865Z"
    },
    "papermill": {
     "duration": 0.018007,
     "end_time": "2021-07-14T01:56:17.020396",
     "exception": false,
     "start_time": "2021-07-14T01:56:17.002389",
     "status": "completed"
    },
    "tags": []
   },
   "outputs": [
    {
     "data": {
      "text/markdown": [
       "- DeFi Crash Hit Binance Smart Chain More Than Ethereum: Messari.  Binance Smart Chain hasn’t done well in Q2, according to crypto data firm Messari. Polygon, however, is on the upswing. ... [| Skaityti daugiau](https://decrypt.co/75884/defi-crash-hit-binance-smart-more-ethereum-messari) "
      ],
      "text/plain": [
       "<IPython.core.display.Markdown object>"
      ]
     },
     "execution_count": 7,
     "metadata": {},
     "output_type": "execute_result"
    }
   ],
   "source": [
    "#hide_input\n",
    "#md('##### {}'.format(titleBTC)) \n",
    "md(\"- {}{} {}{} [| Skaityti daugiau]({}) \".format(eth['title'],'. ', eth['body'], ' ...', eth['url']))"
   ]
  },
  {
   "cell_type": "code",
   "execution_count": 8,
   "id": "sublime-lounge",
   "metadata": {
    "execution": {
     "iopub.execute_input": "2021-07-14T01:56:17.046920Z",
     "iopub.status.busy": "2021-07-14T01:56:17.046397Z",
     "iopub.status.idle": "2021-07-14T01:56:17.049264Z",
     "shell.execute_reply": "2021-07-14T01:56:17.049651Z"
    },
    "papermill": {
     "duration": 0.018803,
     "end_time": "2021-07-14T01:56:17.049786",
     "exception": false,
     "start_time": "2021-07-14T01:56:17.030983",
     "status": "completed"
    },
    "tags": []
   },
   "outputs": [
    {
     "data": {
      "text/markdown": [
       "- Cardano (ADA) Demand Rises Amongst Retail And Institutional Investors, Why This Is Happening.  Recently, both institutional and retail investors have shown an increasing interest in Cardano. It is fast becoming the coin of choice for investors who are in crypto for the long term. Good news trots behind the coin as Cardano released a roadmap for the Alonzo hard fork that is scheduled to take place in the [&#8230;] ... [| Skaityti daugiau](https://www.newsbtc.com/news/cardano/cardano-demand-rises-amongst-investors/) "
      ],
      "text/plain": [
       "<IPython.core.display.Markdown object>"
      ]
     },
     "execution_count": 8,
     "metadata": {},
     "output_type": "execute_result"
    }
   ],
   "source": [
    "#hide_input\n",
    "#md('##### {}'.format(titleBTC)) \n",
    "md(\"- {}{} {}{} [| Skaityti daugiau]({}) \".format(ada['title'],'. ', ada['body'], ' ...', ada['url']))"
   ]
  },
  {
   "cell_type": "code",
   "execution_count": 9,
   "id": "specified-ordering",
   "metadata": {
    "execution": {
     "iopub.execute_input": "2021-07-14T01:56:17.077722Z",
     "iopub.status.busy": "2021-07-14T01:56:17.077194Z",
     "iopub.status.idle": "2021-07-14T01:56:17.079810Z",
     "shell.execute_reply": "2021-07-14T01:56:17.080200Z"
    },
    "papermill": {
     "duration": 0.019324,
     "end_time": "2021-07-14T01:56:17.080339",
     "exception": false,
     "start_time": "2021-07-14T01:56:17.061015",
     "status": "completed"
    },
    "tags": []
   },
   "outputs": [
    {
     "data": {
      "text/markdown": [
       "- Poland Regulators Spread Warning Against Cryptocurrency Exchange Binance.  Poland Authorities have come up with their aggression against the most known cryptocurrency exchange Binance. The country&#8217;s watchdog for financial activities has issued a warning to the public against dealing with the cryptocurrency exchange. According to regulators, the exchange is facing lots of regulatory issues globally, and as a result, consumers should be wary of [&#8230;] ... [| Skaityti daugiau](https://www.newsbtc.com/news/poland-regulators-cryptocurrency-exchange/) "
      ],
      "text/plain": [
       "<IPython.core.display.Markdown object>"
      ]
     },
     "execution_count": 9,
     "metadata": {},
     "output_type": "execute_result"
    }
   ],
   "source": [
    "#hide_input\n",
    "#md('##### {}'.format(titleBTC)) \n",
    "md(\"- {}{} {}{} [| Skaityti daugiau]({}) \".format(exchange['title'],'. ', exchange['body'], ' ...', exchange['url']))"
   ]
  },
  {
   "cell_type": "code",
   "execution_count": null,
   "id": "tender-livestock",
   "metadata": {
    "papermill": {
     "duration": 0.011362,
     "end_time": "2021-07-14T01:56:17.103199",
     "exception": false,
     "start_time": "2021-07-14T01:56:17.091837",
     "status": "completed"
    },
    "tags": []
   },
   "outputs": [],
   "source": []
  },
  {
   "cell_type": "code",
   "execution_count": null,
   "id": "appreciated-diamond",
   "metadata": {
    "papermill": {
     "duration": 0.011329,
     "end_time": "2021-07-14T01:56:17.126049",
     "exception": false,
     "start_time": "2021-07-14T01:56:17.114720",
     "status": "completed"
    },
    "tags": []
   },
   "outputs": [],
   "source": []
  },
  {
   "cell_type": "code",
   "execution_count": null,
   "id": "romance-sweden",
   "metadata": {
    "papermill": {
     "duration": 0.011284,
     "end_time": "2021-07-14T01:56:17.148663",
     "exception": false,
     "start_time": "2021-07-14T01:56:17.137379",
     "status": "completed"
    },
    "tags": []
   },
   "outputs": [],
   "source": []
  },
  {
   "cell_type": "code",
   "execution_count": null,
   "id": "dietary-statistics",
   "metadata": {
    "papermill": {
     "duration": 0.011166,
     "end_time": "2021-07-14T01:56:17.171090",
     "exception": false,
     "start_time": "2021-07-14T01:56:17.159924",
     "status": "completed"
    },
    "tags": []
   },
   "outputs": [],
   "source": []
  }
 ],
 "metadata": {
  "kernelspec": {
   "display_name": "Python 3",
   "language": "python",
   "name": "python3"
  },
  "language_info": {
   "codemirror_mode": {
    "name": "ipython",
    "version": 3
   },
   "file_extension": ".py",
   "mimetype": "text/x-python",
   "name": "python",
   "nbconvert_exporter": "python",
   "pygments_lexer": "ipython3",
   "version": "3.6.13"
  },
  "papermill": {
   "default_parameters": {},
   "duration": 12.276605,
   "end_time": "2021-07-14T01:56:18.418095",
   "environment_variables": {},
   "exception": null,
   "input_path": "Market-News.ipynb",
   "output_path": "Market-News.ipynb",
   "parameters": {},
   "start_time": "2021-07-14T01:56:06.141490",
   "version": "2.2.2"
  }
 },
 "nbformat": 4,
 "nbformat_minor": 5
}