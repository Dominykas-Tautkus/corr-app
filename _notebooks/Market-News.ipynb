{
 "cells": [
  {
   "cell_type": "markdown",
   "id": "short-greensboro",
   "metadata": {
    "papermill": {
     "duration": 0.013611,
     "end_time": "2021-07-15T02:00:22.219015",
     "exception": false,
     "start_time": "2021-07-15T02:00:22.205404",
     "status": "completed"
    },
    "tags": []
   },
   "source": [
    "# Kriptovaliutų naujienos"
   ]
  },
  {
   "cell_type": "code",
   "execution_count": 1,
   "id": "functioning-knowing",
   "metadata": {
    "execution": {
     "iopub.execute_input": "2021-07-15T02:00:22.248417Z",
     "iopub.status.busy": "2021-07-15T02:00:22.247837Z",
     "iopub.status.idle": "2021-07-15T02:00:23.432807Z",
     "shell.execute_reply": "2021-07-15T02:00:23.432259Z"
    },
    "papermill": {
     "duration": 1.204131,
     "end_time": "2021-07-15T02:00:23.432962",
     "exception": false,
     "start_time": "2021-07-15T02:00:22.228831",
     "status": "completed"
    },
    "tags": []
   },
   "outputs": [],
   "source": [
    "#hide_input\n",
    "import warnings\n",
    "warnings.filterwarnings('ignore')\n",
    "from scripts.read_data import read_api\n",
    "from scripts.read_data import read_news\n",
    "from scripts.read_data import read_covid\n",
    "import matplotlib.pyplot as plt \n",
    "from IPython.display import Markdown as md"
   ]
  },
  {
   "cell_type": "code",
   "execution_count": 2,
   "id": "shared-acceptance",
   "metadata": {
    "execution": {
     "iopub.execute_input": "2021-07-15T02:00:23.459228Z",
     "iopub.status.busy": "2021-07-15T02:00:23.458710Z",
     "iopub.status.idle": "2021-07-15T02:00:31.113281Z",
     "shell.execute_reply": "2021-07-15T02:00:31.112761Z"
    },
    "papermill": {
     "duration": 7.670058,
     "end_time": "2021-07-15T02:00:31.113415",
     "exception": false,
     "start_time": "2021-07-15T02:00:23.443357",
     "status": "completed"
    },
    "tags": []
   },
   "outputs": [],
   "source": [
    "#hide_input\n",
    "blockchain = read_news('blockchain') \n",
    "btc = read_news('btc') \n",
    "xrp = read_news('xrp') \n",
    "trx = read_news('trx') \n",
    "eth = read_news('eth')  \n",
    "ada = read_news('ada')\n",
    "exchange = read_news('exchange') "
   ]
  },
  {
   "cell_type": "code",
   "execution_count": 3,
   "id": "synthetic-notion",
   "metadata": {
    "execution": {
     "iopub.execute_input": "2021-07-15T02:00:31.139303Z",
     "iopub.status.busy": "2021-07-15T02:00:31.138781Z",
     "iopub.status.idle": "2021-07-15T02:00:31.141564Z",
     "shell.execute_reply": "2021-07-15T02:00:31.141139Z"
    },
    "papermill": {
     "duration": 0.017911,
     "end_time": "2021-07-15T02:00:31.141673",
     "exception": false,
     "start_time": "2021-07-15T02:00:31.123762",
     "status": "completed"
    },
    "tags": []
   },
   "outputs": [
    {
     "data": {
      "text/markdown": [
       "- Calm Before the Storm? Blockchain Analytics Firm Glassnode Weighs In on State of Bitcoin.  Popular blockchain analytics firm Glassnode says crypto investors may be looking at the &#8220;calm before the storm&#8221; for Bitcoin. In their new weekly report, Glassnode says the entire Bitcoin ecosystem has become quiet, potentially hinting that a big move is on the horizon. &#8220;It has been an impressively quiet week in the Bitcoin market as [&#8230;]The post Calm Before the Storm? Blockchain Analytics Firm Glassnode Weighs In on State of Bitcoin appeared first on The Daily Hodl. ... [| Skaityti daugiau](https://dailyhodl.com/2021/07/14/calm-before-the-storm-blockchain-analytics-firm-glassnode-weighs-in-on-state-of-bitcoin/) "
      ],
      "text/plain": [
       "<IPython.core.display.Markdown object>"
      ]
     },
     "execution_count": 3,
     "metadata": {},
     "output_type": "execute_result"
    }
   ],
   "source": [
    "#hide_input\n",
    "#md('##### {}'.format(titleBTC)) \n",
    "md(\"- {}{} {}{} [| Skaityti daugiau]({}) \".format(blockchain['title'],'. ', blockchain['body'], ' ...', blockchain['url']))"
   ]
  },
  {
   "cell_type": "code",
   "execution_count": 4,
   "id": "aging-caution",
   "metadata": {
    "execution": {
     "iopub.execute_input": "2021-07-15T02:00:31.166611Z",
     "iopub.status.busy": "2021-07-15T02:00:31.166007Z",
     "iopub.status.idle": "2021-07-15T02:00:31.168225Z",
     "shell.execute_reply": "2021-07-15T02:00:31.168777Z"
    },
    "papermill": {
     "duration": 0.017679,
     "end_time": "2021-07-15T02:00:31.168917",
     "exception": false,
     "start_time": "2021-07-15T02:00:31.151238",
     "status": "completed"
    },
    "tags": []
   },
   "outputs": [
    {
     "data": {
      "text/markdown": [
       "- Sotheby’s accepts anonymous $12.3 million crypto payment for rare 101 carat diamond.  TL;DR Breakdown • Sotheby&#8217;s completes the most significant crypto payment among diamond auctions.• Auction agencies accept Bitcoin as a means of payment and even hold events with NFT. A mystery diamond lover bought a rare 101 carat diamond valued at $12.3 million. This transaction was auctioned at a Sotheby&#8217;s sponsored event in Europe a few [&#8230;] ... [| Skaityti daugiau](https://www.cryptopolitan.com/sothebys-accepts-an-crypto-payment/) "
      ],
      "text/plain": [
       "<IPython.core.display.Markdown object>"
      ]
     },
     "execution_count": 4,
     "metadata": {},
     "output_type": "execute_result"
    }
   ],
   "source": [
    "#hide_input\n",
    "#md('##### {}'.format(titleBTC)) \n",
    "md(\"- {}{} {}{} [| Skaityti daugiau]({}) \".format(btc['title'],'. ', btc['body'], ' ...', btc['url']))"
   ]
  },
  {
   "cell_type": "code",
   "execution_count": 5,
   "id": "organic-actress",
   "metadata": {
    "execution": {
     "iopub.execute_input": "2021-07-15T02:00:31.194106Z",
     "iopub.status.busy": "2021-07-15T02:00:31.193574Z",
     "iopub.status.idle": "2021-07-15T02:00:31.195992Z",
     "shell.execute_reply": "2021-07-15T02:00:31.196378Z"
    },
    "papermill": {
     "duration": 0.017505,
     "end_time": "2021-07-15T02:00:31.196509",
     "exception": false,
     "start_time": "2021-07-15T02:00:31.179004",
     "status": "completed"
    },
    "tags": []
   },
   "outputs": [
    {
     "data": {
      "text/markdown": [
       "- Price analysis 7/14: BTC, ETH, BNB, ADA, XRP, DOGE, DOT, UNI, BCH, LTC.  Bitcoin and most major altcoins are bouncing off strong support levels, indicating possible accumulation by the bulls. ... [| Skaityti daugiau](https://cointelegraph.com/news/price-analysis-7-14-btc-eth-bnb-ada-xrp-doge-dot-uni-bch-ltc) "
      ],
      "text/plain": [
       "<IPython.core.display.Markdown object>"
      ]
     },
     "execution_count": 5,
     "metadata": {},
     "output_type": "execute_result"
    }
   ],
   "source": [
    "#hide_input\n",
    "#md('##### {}'.format(titleBTC)) \n",
    "md(\"- {}{} {}{} [| Skaityti daugiau]({}) \".format(xrp['title'],'. ', xrp['body'], ' ...', xrp['url']))"
   ]
  },
  {
   "cell_type": "code",
   "execution_count": 6,
   "id": "prompt-farmer",
   "metadata": {
    "execution": {
     "iopub.execute_input": "2021-07-15T02:00:31.222205Z",
     "iopub.status.busy": "2021-07-15T02:00:31.221690Z",
     "iopub.status.idle": "2021-07-15T02:00:31.224741Z",
     "shell.execute_reply": "2021-07-15T02:00:31.224304Z"
    },
    "papermill": {
     "duration": 0.018069,
     "end_time": "2021-07-15T02:00:31.224850",
     "exception": false,
     "start_time": "2021-07-15T02:00:31.206781",
     "status": "completed"
    },
    "tags": []
   },
   "outputs": [
    {
     "data": {
      "text/markdown": [
       "- Cardano, TRON, AAVE Price Analysis: 14 July.  As Bitcoin’s price tanked today, all major altcoins were trading in the red too. As observed with the altcoins, many of them trailed below their crucial support levels awaiting a retracement. ADA’s market cap declined by 4.03%, TRX registered an 8.9% decline in market price over the last week, and AAVE, despite a downtrend, observed [&#8230;] ... [| Skaityti daugiau](https://ambcrypto.com/cardano-tron-aave-price-analysis-14-july/) "
      ],
      "text/plain": [
       "<IPython.core.display.Markdown object>"
      ]
     },
     "execution_count": 6,
     "metadata": {},
     "output_type": "execute_result"
    }
   ],
   "source": [
    "#hide_input\n",
    "#md('##### {}'.format(titleBTC)) \n",
    "md(\"- {}{} {}{} [| Skaityti daugiau]({}) \".format(trx['title'],'. ', trx['body'], ' ...', trx['url']))"
   ]
  },
  {
   "cell_type": "code",
   "execution_count": 7,
   "id": "illegal-greece",
   "metadata": {
    "execution": {
     "iopub.execute_input": "2021-07-15T02:00:31.250865Z",
     "iopub.status.busy": "2021-07-15T02:00:31.250363Z",
     "iopub.status.idle": "2021-07-15T02:00:31.253331Z",
     "shell.execute_reply": "2021-07-15T02:00:31.252927Z"
    },
    "papermill": {
     "duration": 0.017789,
     "end_time": "2021-07-15T02:00:31.253436",
     "exception": false,
     "start_time": "2021-07-15T02:00:31.235647",
     "status": "completed"
    },
    "tags": []
   },
   "outputs": [
    {
     "data": {
      "text/markdown": [
       "- Ethereum Whales Go On Buying Spree, Top 10 Addresses Now Own 20% Of All ETH.  Ethereum price of Ethereum has recently fallen below the $2,000 mark in recent days. While some people may see this as something to be worried about, others see it as an opportunity to buy as many coins as possible. More specifically, whales see this as a big buying opportunity for them and they&#8217;re using this [&#8230;] ... [| Skaityti daugiau](https://www.newsbtc.com/news/ethereum/ethereum-whales-go-on-buying-spree/) "
      ],
      "text/plain": [
       "<IPython.core.display.Markdown object>"
      ]
     },
     "execution_count": 7,
     "metadata": {},
     "output_type": "execute_result"
    }
   ],
   "source": [
    "#hide_input\n",
    "#md('##### {}'.format(titleBTC)) \n",
    "md(\"- {}{} {}{} [| Skaityti daugiau]({}) \".format(eth['title'],'. ', eth['body'], ' ...', eth['url']))"
   ]
  },
  {
   "cell_type": "code",
   "execution_count": 8,
   "id": "sublime-lounge",
   "metadata": {
    "execution": {
     "iopub.execute_input": "2021-07-15T02:00:31.280146Z",
     "iopub.status.busy": "2021-07-15T02:00:31.279619Z",
     "iopub.status.idle": "2021-07-15T02:00:31.282441Z",
     "shell.execute_reply": "2021-07-15T02:00:31.282864Z"
    },
    "papermill": {
     "duration": 0.018753,
     "end_time": "2021-07-15T02:00:31.282983",
     "exception": false,
     "start_time": "2021-07-15T02:00:31.264230",
     "status": "completed"
    },
    "tags": []
   },
   "outputs": [
    {
     "data": {
      "text/markdown": [
       "- Cardano (ADA) retains its spot as the most ‘staked’ crypto.  Data from proof-of-stake research platform Staking Rewards shows Cardano is the most staked chain, by value, in the cryptocurrency space. The post Cardano (ADA) retains its spot as the most &#8216;staked&#8217; crypto appeared first on CryptoSlate. ... [| Skaityti daugiau](https://cryptoslate.com/cardano-ada-retains-its-spot-as-the-most-staked-crypto/) "
      ],
      "text/plain": [
       "<IPython.core.display.Markdown object>"
      ]
     },
     "execution_count": 8,
     "metadata": {},
     "output_type": "execute_result"
    }
   ],
   "source": [
    "#hide_input\n",
    "#md('##### {}'.format(titleBTC)) \n",
    "md(\"- {}{} {}{} [| Skaityti daugiau]({}) \".format(ada['title'],'. ', ada['body'], ' ...', ada['url']))"
   ]
  },
  {
   "cell_type": "code",
   "execution_count": 9,
   "id": "specified-ordering",
   "metadata": {
    "execution": {
     "iopub.execute_input": "2021-07-15T02:00:31.310436Z",
     "iopub.status.busy": "2021-07-15T02:00:31.309932Z",
     "iopub.status.idle": "2021-07-15T02:00:31.313182Z",
     "shell.execute_reply": "2021-07-15T02:00:31.312752Z"
    },
    "papermill": {
     "duration": 0.019198,
     "end_time": "2021-07-15T02:00:31.313288",
     "exception": false,
     "start_time": "2021-07-15T02:00:31.294090",
     "status": "completed"
    },
    "tags": []
   },
   "outputs": [
    {
     "data": {
      "text/markdown": [
       "- Mixed Messages As Bank of England Deputy Governor Says Crypto Not A Threat.  The Bank of England (BoE) Deputy Governor Jon Cunliffe dismissed the notion that crypto poses a threat to macro-financial stability. Meanwhile, recent weeks have seen global regulators come down hard on the crypto sector, with Binance feeling the brunt of the force. Not forgetting the actions of Chinese authorities, which have drastically altered the landscape [&#8230;] ... [| Skaityti daugiau](https://bitcoinist.com/mixed-messages-as-bank-of-england-deputy-governor-says-crypto-not-a-threat/?utm_source=rss&utm_medium=rss&utm_campaign=mixed-messages-as-bank-of-england-deputy-governor-says-crypto-not-a-threat) "
      ],
      "text/plain": [
       "<IPython.core.display.Markdown object>"
      ]
     },
     "execution_count": 9,
     "metadata": {},
     "output_type": "execute_result"
    }
   ],
   "source": [
    "#hide_input\n",
    "#md('##### {}'.format(titleBTC)) \n",
    "md(\"- {}{} {}{} [| Skaityti daugiau]({}) \".format(exchange['title'],'. ', exchange['body'], ' ...', exchange['url']))"
   ]
  },
  {
   "cell_type": "code",
   "execution_count": null,
   "id": "tender-livestock",
   "metadata": {
    "papermill": {
     "duration": 0.011353,
     "end_time": "2021-07-15T02:00:31.336031",
     "exception": false,
     "start_time": "2021-07-15T02:00:31.324678",
     "status": "completed"
    },
    "tags": []
   },
   "outputs": [],
   "source": []
  },
  {
   "cell_type": "code",
   "execution_count": null,
   "id": "appreciated-diamond",
   "metadata": {
    "papermill": {
     "duration": 0.011272,
     "end_time": "2021-07-15T02:00:31.358827",
     "exception": false,
     "start_time": "2021-07-15T02:00:31.347555",
     "status": "completed"
    },
    "tags": []
   },
   "outputs": [],
   "source": []
  },
  {
   "cell_type": "code",
   "execution_count": null,
   "id": "romance-sweden",
   "metadata": {
    "papermill": {
     "duration": 0.011365,
     "end_time": "2021-07-15T02:00:31.381537",
     "exception": false,
     "start_time": "2021-07-15T02:00:31.370172",
     "status": "completed"
    },
    "tags": []
   },
   "outputs": [],
   "source": []
  },
  {
   "cell_type": "code",
   "execution_count": null,
   "id": "dietary-statistics",
   "metadata": {
    "papermill": {
     "duration": 0.011344,
     "end_time": "2021-07-15T02:00:31.404290",
     "exception": false,
     "start_time": "2021-07-15T02:00:31.392946",
     "status": "completed"
    },
    "tags": []
   },
   "outputs": [],
   "source": []
  }
 ],
 "metadata": {
  "kernelspec": {
   "display_name": "Python 3",
   "language": "python",
   "name": "python3"
  },
  "language_info": {
   "codemirror_mode": {
    "name": "ipython",
    "version": 3
   },
   "file_extension": ".py",
   "mimetype": "text/x-python",
   "name": "python",
   "nbconvert_exporter": "python",
   "pygments_lexer": "ipython3",
   "version": "3.6.13"
  },
  "papermill": {
   "default_parameters": {},
   "duration": 10.691096,
   "end_time": "2021-07-15T02:00:31.923147",
   "environment_variables": {},
   "exception": null,
   "input_path": "Market-News.ipynb",
   "output_path": "Market-News.ipynb",
   "parameters": {},
   "start_time": "2021-07-15T02:00:21.232051",
   "version": "2.2.2"
  }
 },
 "nbformat": 4,
 "nbformat_minor": 5
}