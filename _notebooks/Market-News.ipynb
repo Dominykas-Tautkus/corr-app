{
 "cells": [
  {
   "cell_type": "markdown",
   "id": "short-greensboro",
   "metadata": {
    "papermill": {
     "duration": 0.016614,
     "end_time": "2021-03-04T01:44:34.527575",
     "exception": false,
     "start_time": "2021-03-04T01:44:34.510961",
     "status": "completed"
    },
    "tags": []
   },
   "source": [
    "# Kriptovaliutų naujienos"
   ]
  },
  {
   "cell_type": "code",
   "execution_count": 1,
   "id": "functioning-knowing",
   "metadata": {
    "execution": {
     "iopub.execute_input": "2021-03-04T01:44:34.560061Z",
     "iopub.status.busy": "2021-03-04T01:44:34.559454Z",
     "iopub.status.idle": "2021-03-04T01:44:35.794060Z",
     "shell.execute_reply": "2021-03-04T01:44:35.792993Z"
    },
    "papermill": {
     "duration": 1.256609,
     "end_time": "2021-03-04T01:44:35.794213",
     "exception": false,
     "start_time": "2021-03-04T01:44:34.537604",
     "status": "completed"
    },
    "tags": []
   },
   "outputs": [],
   "source": [
    "#hide_input\n",
    "import warnings\n",
    "warnings.filterwarnings('ignore')\n",
    "from scripts.read_data import read_api\n",
    "from scripts.read_data import read_news\n",
    "from scripts.read_data import read_covid\n",
    "import matplotlib.pyplot as plt \n",
    "from IPython.display import Markdown as md"
   ]
  },
  {
   "cell_type": "code",
   "execution_count": 2,
   "id": "shared-acceptance",
   "metadata": {
    "execution": {
     "iopub.execute_input": "2021-03-04T01:44:35.819715Z",
     "iopub.status.busy": "2021-03-04T01:44:35.818455Z",
     "iopub.status.idle": "2021-03-04T01:44:43.128310Z",
     "shell.execute_reply": "2021-03-04T01:44:43.127400Z"
    },
    "papermill": {
     "duration": 7.324584,
     "end_time": "2021-03-04T01:44:43.128521",
     "exception": false,
     "start_time": "2021-03-04T01:44:35.803937",
     "status": "completed"
    },
    "tags": []
   },
   "outputs": [],
   "source": [
    "#hide_input\n",
    "blockchain = read_news('blockchain') \n",
    "btc = read_news('btc') \n",
    "xrp = read_news('xrp') \n",
    "trx = read_news('trx') \n",
    "eth = read_news('eth')  \n",
    "ada = read_news('ada')\n",
    "exchange = read_news('exchange') "
   ]
  },
  {
   "cell_type": "code",
   "execution_count": 3,
   "id": "synthetic-notion",
   "metadata": {
    "execution": {
     "iopub.execute_input": "2021-03-04T01:44:43.153476Z",
     "iopub.status.busy": "2021-03-04T01:44:43.152905Z",
     "iopub.status.idle": "2021-03-04T01:44:43.160950Z",
     "shell.execute_reply": "2021-03-04T01:44:43.160493Z"
    },
    "papermill": {
     "duration": 0.022422,
     "end_time": "2021-03-04T01:44:43.161058",
     "exception": false,
     "start_time": "2021-03-04T01:44:43.138636",
     "status": "completed"
    },
    "tags": []
   },
   "outputs": [
    {
     "data": {
      "text/markdown": [
       "- HIVE Blockchain Technologies And The Crypto Wild West.  Why HIVE Blockchain Technologies will continue its volatile, but upward climb.While primarily a pure play on ethereum, its bitcoin operations doubled in the last quarter.A couple ways to play the miner - whether you're trading or holding.Over time, the numbers for HIVE should continue to improve, taking into account some quarters will be weak because of price volatility.Rising crypto prices, an increase in capacity, and wider margins point to a potentially strong performance going forward. ... [| Skaityti daugiau](https://seekingalpha.com/article/4411228-hive-blockchain-technologies-and-crypto-wild-west?utm_source=cryptocompare.com&utm_medium=referral) "
      ],
      "text/plain": [
       "<IPython.core.display.Markdown object>"
      ]
     },
     "execution_count": 3,
     "metadata": {},
     "output_type": "execute_result"
    }
   ],
   "source": [
    "#hide_input\n",
    "#md('##### {}'.format(titleBTC)) \n",
    "md(\"- {}{} {}{} [| Skaityti daugiau]({}) \".format(blockchain['title'],'. ', blockchain['body'], ' ...', blockchain['url']))"
   ]
  },
  {
   "cell_type": "code",
   "execution_count": 4,
   "id": "aging-caution",
   "metadata": {
    "execution": {
     "iopub.execute_input": "2021-03-04T01:44:43.188127Z",
     "iopub.status.busy": "2021-03-04T01:44:43.187289Z",
     "iopub.status.idle": "2021-03-04T01:44:43.190263Z",
     "shell.execute_reply": "2021-03-04T01:44:43.190687Z"
    },
    "papermill": {
     "duration": 0.019076,
     "end_time": "2021-03-04T01:44:43.190807",
     "exception": false,
     "start_time": "2021-03-04T01:44:43.171731",
     "status": "completed"
    },
    "tags": []
   },
   "outputs": [
    {
     "data": {
      "text/markdown": [
       "- Bull flag breakout sets a $55,000 target for Bitcoin price.  Bitcoin bulls are looking to eliminate a key overhead resistance level in order to create a path to $55,000.  ... [| Skaityti daugiau](https://cointelegraph.com/news/bull-flag-breakout-sets-a-55-000-target-for-bitcoin-price) "
      ],
      "text/plain": [
       "<IPython.core.display.Markdown object>"
      ]
     },
     "execution_count": 4,
     "metadata": {},
     "output_type": "execute_result"
    }
   ],
   "source": [
    "#hide_input\n",
    "#md('##### {}'.format(titleBTC)) \n",
    "md(\"- {}{} {}{} [| Skaityti daugiau]({}) \".format(btc['title'],'. ', btc['body'], ' ...', btc['url']))"
   ]
  },
  {
   "cell_type": "code",
   "execution_count": 5,
   "id": "organic-actress",
   "metadata": {
    "execution": {
     "iopub.execute_input": "2021-03-04T01:44:43.216548Z",
     "iopub.status.busy": "2021-03-04T01:44:43.216015Z",
     "iopub.status.idle": "2021-03-04T01:44:43.219643Z",
     "shell.execute_reply": "2021-03-04T01:44:43.219192Z"
    },
    "papermill": {
     "duration": 0.018725,
     "end_time": "2021-03-04T01:44:43.219783",
     "exception": false,
     "start_time": "2021-03-04T01:44:43.201058",
     "status": "completed"
    },
    "tags": []
   },
   "outputs": [
    {
     "data": {
      "text/markdown": [
       "- MoneyGram Facing Class-Action Lawsuit Over Relationship With Ripple and XRP.  MoneyGram is facing a new lawsuit over its ties to the blockchain tech company Ripple. A newly filed class-action lawsuit claims the money transfer firm misled, lied or hid from investors pertinent information regarding Ripple and the cryptocurrency XRP. The suit comes months after the U.S. Securities and Exchange Commission (SEC) accused Ripple of selling [&#8230;]The post MoneyGram Facing Class-Action Lawsuit Over Relationship With Ripple and XRP appeared first on The Daily Hodl. ... [| Skaityti daugiau](https://dailyhodl.com/2021/03/03/moneygram-facing-class-action-lawsuit-over-relationship-with-ripple-and-xrp/) "
      ],
      "text/plain": [
       "<IPython.core.display.Markdown object>"
      ]
     },
     "execution_count": 5,
     "metadata": {},
     "output_type": "execute_result"
    }
   ],
   "source": [
    "#hide_input\n",
    "#md('##### {}'.format(titleBTC)) \n",
    "md(\"- {}{} {}{} [| Skaityti daugiau]({}) \".format(xrp['title'],'. ', xrp['body'], ' ...', xrp['url']))"
   ]
  },
  {
   "cell_type": "code",
   "execution_count": 6,
   "id": "prompt-farmer",
   "metadata": {
    "execution": {
     "iopub.execute_input": "2021-03-04T01:44:43.247550Z",
     "iopub.status.busy": "2021-03-04T01:44:43.247029Z",
     "iopub.status.idle": "2021-03-04T01:44:43.250510Z",
     "shell.execute_reply": "2021-03-04T01:44:43.250968Z"
    },
    "papermill": {
     "duration": 0.020253,
     "end_time": "2021-03-04T01:44:43.251092",
     "exception": false,
     "start_time": "2021-03-04T01:44:43.230839",
     "status": "completed"
    },
    "tags": []
   },
   "outputs": [
    {
     "data": {
      "text/markdown": [
       "- Tron, Waves, Maker Price Analysis: 03 March.  At press time, Tron needed to flip an important level at $0.048 to target a bullish reversal on the 4-hour timeframe. WAVES eyed a northbound move towards the $11-mark, but not before overcoming some bearish presence in the market. Finally, Maker was on its way to recovery after bouncing back from the $1,945-support level. Tron [&#8230;] ... [| Skaityti daugiau](https://ambcrypto.com/tron-waves-maker-price-analysis-03-march/) "
      ],
      "text/plain": [
       "<IPython.core.display.Markdown object>"
      ]
     },
     "execution_count": 6,
     "metadata": {},
     "output_type": "execute_result"
    }
   ],
   "source": [
    "#hide_input\n",
    "#md('##### {}'.format(titleBTC)) \n",
    "md(\"- {}{} {}{} [| Skaityti daugiau]({}) \".format(trx['title'],'. ', trx['body'], ' ...', trx['url']))"
   ]
  },
  {
   "cell_type": "code",
   "execution_count": 7,
   "id": "illegal-greece",
   "metadata": {
    "execution": {
     "iopub.execute_input": "2021-03-04T01:44:43.278176Z",
     "iopub.status.busy": "2021-03-04T01:44:43.277456Z",
     "iopub.status.idle": "2021-03-04T01:44:43.281340Z",
     "shell.execute_reply": "2021-03-04T01:44:43.280855Z"
    },
    "papermill": {
     "duration": 0.018829,
     "end_time": "2021-03-04T01:44:43.281450",
     "exception": false,
     "start_time": "2021-03-04T01:44:43.262621",
     "status": "completed"
    },
    "tags": []
   },
   "outputs": [
    {
     "data": {
      "text/markdown": [
       "- Mark Cuban Slams Peter Schiff: Gold is Dead, Bitcoin and Ethereum Are Today.  Mark Cuban hasn&#8217;t always been the biggest fan of Bitcoin, Ethereum, and other cryptocurrencies, but he&#8217;s recently come around as other Shark Tank investors have. Surprisingly, though, Cuban has come to the defense of the emerging technology, telling gold bug and vehement digital asset naysayer Peter Schiff that his precious metal is now dying as [&#8230;] ... [| Skaityti daugiau](https://www.newsbtc.com/news/bitcoin/mark-cuban-gold-bitcoin-ethereum/) "
      ],
      "text/plain": [
       "<IPython.core.display.Markdown object>"
      ]
     },
     "execution_count": 7,
     "metadata": {},
     "output_type": "execute_result"
    }
   ],
   "source": [
    "#hide_input\n",
    "#md('##### {}'.format(titleBTC)) \n",
    "md(\"- {}{} {}{} [| Skaityti daugiau]({}) \".format(eth['title'],'. ', eth['body'], ' ...', eth['url']))"
   ]
  },
  {
   "cell_type": "code",
   "execution_count": 8,
   "id": "sublime-lounge",
   "metadata": {
    "execution": {
     "iopub.execute_input": "2021-03-04T01:44:43.310507Z",
     "iopub.status.busy": "2021-03-04T01:44:43.309999Z",
     "iopub.status.idle": "2021-03-04T01:44:43.313774Z",
     "shell.execute_reply": "2021-03-04T01:44:43.313294Z"
    },
    "papermill": {
     "duration": 0.02092,
     "end_time": "2021-03-04T01:44:43.313878",
     "exception": false,
     "start_time": "2021-03-04T01:44:43.292958",
     "status": "completed"
    },
    "tags": []
   },
   "outputs": [
    {
     "data": {
      "text/markdown": [
       "- Price analysis 3/3: BTC, ETH, ADA, BNB, DOT, XRP, LTC, LINK, BCH, XLM.  Now that Bitcoin price has flipped $50,000 back to support, small and large-cap altcoins are gearing up for a move higher.  ... [| Skaityti daugiau](https://cointelegraph.com/news/price-analysis-3-3-btc-eth-ada-bnb-dot-xrp-ltc-link-bch-xlm) "
      ],
      "text/plain": [
       "<IPython.core.display.Markdown object>"
      ]
     },
     "execution_count": 8,
     "metadata": {},
     "output_type": "execute_result"
    }
   ],
   "source": [
    "#hide_input\n",
    "#md('##### {}'.format(titleBTC)) \n",
    "md(\"- {}{} {}{} [| Skaityti daugiau]({}) \".format(ada['title'],'. ', ada['body'], ' ...', ada['url']))"
   ]
  },
  {
   "cell_type": "code",
   "execution_count": 9,
   "id": "specified-ordering",
   "metadata": {
    "execution": {
     "iopub.execute_input": "2021-03-04T01:44:43.341583Z",
     "iopub.status.busy": "2021-03-04T01:44:43.341044Z",
     "iopub.status.idle": "2021-03-04T01:44:43.344543Z",
     "shell.execute_reply": "2021-03-04T01:44:43.344097Z"
    },
    "papermill": {
     "duration": 0.019344,
     "end_time": "2021-03-04T01:44:43.344640",
     "exception": false,
     "start_time": "2021-03-04T01:44:43.325296",
     "status": "completed"
    },
    "tags": []
   },
   "outputs": [
    {
     "data": {
      "text/markdown": [
       "- MoneyGram Facing Class-Action Lawsuit Over Relationship With Ripple and XRP.  MoneyGram is facing a new lawsuit over its ties to the blockchain tech company Ripple. A newly filed class-action lawsuit claims the money transfer firm misled, lied or hid from investors pertinent information regarding Ripple and the cryptocurrency XRP. The suit comes months after the U.S. Securities and Exchange Commission (SEC) accused Ripple of selling [&#8230;]The post MoneyGram Facing Class-Action Lawsuit Over Relationship With Ripple and XRP appeared first on The Daily Hodl. ... [| Skaityti daugiau](https://dailyhodl.com/2021/03/03/moneygram-facing-class-action-lawsuit-over-relationship-with-ripple-and-xrp/) "
      ],
      "text/plain": [
       "<IPython.core.display.Markdown object>"
      ]
     },
     "execution_count": 9,
     "metadata": {},
     "output_type": "execute_result"
    }
   ],
   "source": [
    "#hide_input\n",
    "#md('##### {}'.format(titleBTC)) \n",
    "md(\"- {}{} {}{} [| Skaityti daugiau]({}) \".format(exchange['title'],'. ', exchange['body'], ' ...', exchange['url']))"
   ]
  },
  {
   "cell_type": "code",
   "execution_count": null,
   "id": "tender-livestock",
   "metadata": {
    "papermill": {
     "duration": 0.011809,
     "end_time": "2021-03-04T01:44:43.368266",
     "exception": false,
     "start_time": "2021-03-04T01:44:43.356457",
     "status": "completed"
    },
    "tags": []
   },
   "outputs": [],
   "source": []
  },
  {
   "cell_type": "code",
   "execution_count": null,
   "id": "appreciated-diamond",
   "metadata": {
    "papermill": {
     "duration": 0.012962,
     "end_time": "2021-03-04T01:44:43.393211",
     "exception": false,
     "start_time": "2021-03-04T01:44:43.380249",
     "status": "completed"
    },
    "tags": []
   },
   "outputs": [],
   "source": []
  },
  {
   "cell_type": "code",
   "execution_count": null,
   "id": "romance-sweden",
   "metadata": {
    "papermill": {
     "duration": 0.011778,
     "end_time": "2021-03-04T01:44:43.417178",
     "exception": false,
     "start_time": "2021-03-04T01:44:43.405400",
     "status": "completed"
    },
    "tags": []
   },
   "outputs": [],
   "source": []
  },
  {
   "cell_type": "code",
   "execution_count": null,
   "id": "dietary-statistics",
   "metadata": {
    "papermill": {
     "duration": 0.0115,
     "end_time": "2021-03-04T01:44:43.440243",
     "exception": false,
     "start_time": "2021-03-04T01:44:43.428743",
     "status": "completed"
    },
    "tags": []
   },
   "outputs": [],
   "source": []
  }
 ],
 "metadata": {
  "kernelspec": {
   "display_name": "Python 3",
   "language": "python",
   "name": "python3"
  },
  "language_info": {
   "codemirror_mode": {
    "name": "ipython",
    "version": 3
   },
   "file_extension": ".py",
   "mimetype": "text/x-python",
   "name": "python",
   "nbconvert_exporter": "python",
   "pygments_lexer": "ipython3",
   "version": "3.6.13"
  },
  "papermill": {
   "default_parameters": {},
   "duration": 11.291175,
   "end_time": "2021-03-04T01:44:44.753324",
   "environment_variables": {},
   "exception": null,
   "input_path": "Market-News.ipynb",
   "output_path": "Market-News.ipynb",
   "parameters": {},
   "start_time": "2021-03-04T01:44:33.462149",
   "version": "2.2.2"
  }
 },
 "nbformat": 4,
 "nbformat_minor": 5
}