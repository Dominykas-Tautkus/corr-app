{
 "cells": [
  {
   "cell_type": "markdown",
   "id": "short-greensboro",
   "metadata": {
    "papermill": {
     "duration": 0.013834,
     "end_time": "2021-03-09T01:45:45.702696",
     "exception": false,
     "start_time": "2021-03-09T01:45:45.688862",
     "status": "completed"
    },
    "tags": []
   },
   "source": [
    "# Kriptovaliutų naujienos"
   ]
  },
  {
   "cell_type": "code",
   "execution_count": 1,
   "id": "functioning-knowing",
   "metadata": {
    "execution": {
     "iopub.execute_input": "2021-03-09T01:45:45.735948Z",
     "iopub.status.busy": "2021-03-09T01:45:45.735375Z",
     "iopub.status.idle": "2021-03-09T01:45:47.027428Z",
     "shell.execute_reply": "2021-03-09T01:45:47.026935Z"
    },
    "papermill": {
     "duration": 1.313685,
     "end_time": "2021-03-09T01:45:47.027582",
     "exception": false,
     "start_time": "2021-03-09T01:45:45.713897",
     "status": "completed"
    },
    "tags": []
   },
   "outputs": [],
   "source": [
    "#hide_input\n",
    "import warnings\n",
    "warnings.filterwarnings('ignore')\n",
    "from scripts.read_data import read_api\n",
    "from scripts.read_data import read_news\n",
    "from scripts.read_data import read_covid\n",
    "import matplotlib.pyplot as plt \n",
    "from IPython.display import Markdown as md"
   ]
  },
  {
   "cell_type": "code",
   "execution_count": 2,
   "id": "shared-acceptance",
   "metadata": {
    "execution": {
     "iopub.execute_input": "2021-03-09T01:45:47.055967Z",
     "iopub.status.busy": "2021-03-09T01:45:47.055000Z",
     "iopub.status.idle": "2021-03-09T01:45:54.838843Z",
     "shell.execute_reply": "2021-03-09T01:45:54.838291Z"
    },
    "papermill": {
     "duration": 7.800331,
     "end_time": "2021-03-09T01:45:54.838969",
     "exception": false,
     "start_time": "2021-03-09T01:45:47.038638",
     "status": "completed"
    },
    "tags": []
   },
   "outputs": [],
   "source": [
    "#hide_input\n",
    "blockchain = read_news('blockchain') \n",
    "btc = read_news('btc') \n",
    "xrp = read_news('xrp') \n",
    "trx = read_news('trx') \n",
    "eth = read_news('eth')  \n",
    "ada = read_news('ada')\n",
    "exchange = read_news('exchange') "
   ]
  },
  {
   "cell_type": "code",
   "execution_count": 3,
   "id": "synthetic-notion",
   "metadata": {
    "execution": {
     "iopub.execute_input": "2021-03-09T01:45:54.865535Z",
     "iopub.status.busy": "2021-03-09T01:45:54.864904Z",
     "iopub.status.idle": "2021-03-09T01:45:54.871485Z",
     "shell.execute_reply": "2021-03-09T01:45:54.871955Z"
    },
    "papermill": {
     "duration": 0.022709,
     "end_time": "2021-03-09T01:45:54.872091",
     "exception": false,
     "start_time": "2021-03-09T01:45:54.849382",
     "status": "completed"
    },
    "tags": []
   },
   "outputs": [
    {
     "data": {
      "text/markdown": [
       "- Keep Network, NuCypher teams pitch protocol merger on the Ethereum blockchain.  Development teams for Keep Protocol and NuCypher are proposing an on-chain merger that would see them working on a shared, privacy-focused protocol. The post Keep Network, NuCypher teams pitch protocol merger on the Ethereum blockchain appeared first on The Block. ... [| Skaityti daugiau](https://www.theblockcrypto.com/post/97634/keep-protocol-nucypher-ethereum-merger?utm_source=cryptocompare&utm_medium=rss) "
      ],
      "text/plain": [
       "<IPython.core.display.Markdown object>"
      ]
     },
     "execution_count": 3,
     "metadata": {},
     "output_type": "execute_result"
    }
   ],
   "source": [
    "#hide_input\n",
    "#md('##### {}'.format(titleBTC)) \n",
    "md(\"- {}{} {}{} [| Skaityti daugiau]({}) \".format(blockchain['title'],'. ', blockchain['body'], ' ...', blockchain['url']))"
   ]
  },
  {
   "cell_type": "code",
   "execution_count": 4,
   "id": "aging-caution",
   "metadata": {
    "execution": {
     "iopub.execute_input": "2021-03-09T01:45:54.897877Z",
     "iopub.status.busy": "2021-03-09T01:45:54.897310Z",
     "iopub.status.idle": "2021-03-09T01:45:54.900547Z",
     "shell.execute_reply": "2021-03-09T01:45:54.900088Z"
    },
    "papermill": {
     "duration": 0.017867,
     "end_time": "2021-03-09T01:45:54.900640",
     "exception": false,
     "start_time": "2021-03-09T01:45:54.882773",
     "status": "completed"
    },
    "tags": []
   },
   "outputs": [
    {
     "data": {
      "text/markdown": [
       "- There Are ‘New Highs Ahead’ for Bitcoin, Says Trader Who Predicted Btc’s 2018 Bear Market.  Peter Brandt, a widely followed cryptocurrency analyst well-known for accurately calling bitcoin’s 84% decline in 2018, has predicted there are “new highs ahead” for the flagship cryptocurrency. Brandt’s prediction is based on technical analysis and fundamental drivers fueling the crypto’s rise. In a tweet sent to his over 435,000 followers, Brandt pointed to an inverse […] ... [| Skaityti daugiau](https://www.cryptoglobe.com/latest/2021/03/there-are-new-highs-ahead-for-bitcoin-says-trader-who-predicted-btcs-2018-bear-market/) "
      ],
      "text/plain": [
       "<IPython.core.display.Markdown object>"
      ]
     },
     "execution_count": 4,
     "metadata": {},
     "output_type": "execute_result"
    }
   ],
   "source": [
    "#hide_input\n",
    "#md('##### {}'.format(titleBTC)) \n",
    "md(\"- {}{} {}{} [| Skaityti daugiau]({}) \".format(btc['title'],'. ', btc['body'], ' ...', btc['url']))"
   ]
  },
  {
   "cell_type": "code",
   "execution_count": 5,
   "id": "organic-actress",
   "metadata": {
    "execution": {
     "iopub.execute_input": "2021-03-09T01:45:54.931504Z",
     "iopub.status.busy": "2021-03-09T01:45:54.930901Z",
     "iopub.status.idle": "2021-03-09T01:45:54.934144Z",
     "shell.execute_reply": "2021-03-09T01:45:54.933605Z"
    },
    "papermill": {
     "duration": 0.020809,
     "end_time": "2021-03-09T01:45:54.934256",
     "exception": false,
     "start_time": "2021-03-09T01:45:54.913447",
     "status": "completed"
    },
    "tags": []
   },
   "outputs": [
    {
     "data": {
      "text/markdown": [
       "- Ripple price analysis: XRP/USD grinds towards $0.50 resistance.  TL;DR Ripple price analysis uncertain as price oscillates within the range XRP bounces between extremes of Bollinger Bands Bullish start ends in conflicting price signals as bulls and bears look indecisive Ripple price oscillates between the upper and lower Bollinger Bands in a tight range between $0.4722 to $.4410. The higher resistance at $0.5900 is [&#8230;] ... [| Skaityti daugiau](https://www.cryptopolitan.com/ripple-price-analysis-xrp-usd-to-0-50/) "
      ],
      "text/plain": [
       "<IPython.core.display.Markdown object>"
      ]
     },
     "execution_count": 5,
     "metadata": {},
     "output_type": "execute_result"
    }
   ],
   "source": [
    "#hide_input\n",
    "#md('##### {}'.format(titleBTC)) \n",
    "md(\"- {}{} {}{} [| Skaityti daugiau]({}) \".format(xrp['title'],'. ', xrp['body'], ' ...', xrp['url']))"
   ]
  },
  {
   "cell_type": "code",
   "execution_count": 6,
   "id": "prompt-farmer",
   "metadata": {
    "execution": {
     "iopub.execute_input": "2021-03-09T01:45:54.962140Z",
     "iopub.status.busy": "2021-03-09T01:45:54.961525Z",
     "iopub.status.idle": "2021-03-09T01:45:54.964710Z",
     "shell.execute_reply": "2021-03-09T01:45:54.964131Z"
    },
    "papermill": {
     "duration": 0.018732,
     "end_time": "2021-03-09T01:45:54.964812",
     "exception": false,
     "start_time": "2021-03-09T01:45:54.946080",
     "status": "completed"
    },
    "tags": []
   },
   "outputs": [
    {
     "data": {
      "text/markdown": [
       "- TRON CEO Justin Sun bids $1,000,000 for the First Ever Tweet.  The TRON CEO is one of crypto’s flashiest spenders. ... [| Skaityti daugiau](https://decrypt.co/60437/tron-ceo-justin-sun-bids-1000000-for-the-first-ever-tweet) "
      ],
      "text/plain": [
       "<IPython.core.display.Markdown object>"
      ]
     },
     "execution_count": 6,
     "metadata": {},
     "output_type": "execute_result"
    }
   ],
   "source": [
    "#hide_input\n",
    "#md('##### {}'.format(titleBTC)) \n",
    "md(\"- {}{} {}{} [| Skaityti daugiau]({}) \".format(trx['title'],'. ', trx['body'], ' ...', trx['url']))"
   ]
  },
  {
   "cell_type": "code",
   "execution_count": 7,
   "id": "illegal-greece",
   "metadata": {
    "execution": {
     "iopub.execute_input": "2021-03-09T01:45:54.993262Z",
     "iopub.status.busy": "2021-03-09T01:45:54.992614Z",
     "iopub.status.idle": "2021-03-09T01:45:54.995722Z",
     "shell.execute_reply": "2021-03-09T01:45:54.995248Z"
    },
    "papermill": {
     "duration": 0.018957,
     "end_time": "2021-03-09T01:45:54.995820",
     "exception": false,
     "start_time": "2021-03-09T01:45:54.976863",
     "status": "completed"
    },
    "tags": []
   },
   "outputs": [
    {
     "data": {
      "text/markdown": [
       "- Publicly Listed Maker of Billion-User Chinese App Meitu Buys $40 Million of Bitcoin and Ether for Its Treasury.  One of China&#8217;s top internet app makers, Meitu Inc., is adding up to $100 million worth of cryptocurrencies to its treasury, joining a growing list of companies worldwide to do so. The company has already purchased $40 million worth of bitcoin and ether for its balance sheet. Chinese Public Company Adds Bitcoin and Ethereum to [&#8230;] ... [| Skaityti daugiau](https://news.bitcoin.com/publicly-listed-maker-billion-user-chinese-app-meitu-40-million-bitcoin-ether-treasury/) "
      ],
      "text/plain": [
       "<IPython.core.display.Markdown object>"
      ]
     },
     "execution_count": 7,
     "metadata": {},
     "output_type": "execute_result"
    }
   ],
   "source": [
    "#hide_input\n",
    "#md('##### {}'.format(titleBTC)) \n",
    "md(\"- {}{} {}{} [| Skaityti daugiau]({}) \".format(eth['title'],'. ', eth['body'], ' ...', eth['url']))"
   ]
  },
  {
   "cell_type": "code",
   "execution_count": 8,
   "id": "sublime-lounge",
   "metadata": {
    "execution": {
     "iopub.execute_input": "2021-03-09T01:45:55.024627Z",
     "iopub.status.busy": "2021-03-09T01:45:55.024015Z",
     "iopub.status.idle": "2021-03-09T01:45:55.027095Z",
     "shell.execute_reply": "2021-03-09T01:45:55.026636Z"
    },
    "papermill": {
     "duration": 0.019534,
     "end_time": "2021-03-09T01:45:55.027217",
     "exception": false,
     "start_time": "2021-03-09T01:45:55.007683",
     "status": "completed"
    },
    "tags": []
   },
   "outputs": [
    {
     "data": {
      "text/markdown": [
       "- Price analysis 3/8: BTC, ETH, BNB, ADA, DOT, XRP, UNI, LINK, LTC, BCH.  Bitcoin and altcoins are picking up momentum as bulls attempt to secure a daily close above the $52,000 level. ... [| Skaityti daugiau](https://cointelegraph.com/news/price-analysis-3-8-btc-eth-bnb-ada-dot-xrp-uni-link-ltc-bch) "
      ],
      "text/plain": [
       "<IPython.core.display.Markdown object>"
      ]
     },
     "execution_count": 8,
     "metadata": {},
     "output_type": "execute_result"
    }
   ],
   "source": [
    "#hide_input\n",
    "#md('##### {}'.format(titleBTC)) \n",
    "md(\"- {}{} {}{} [| Skaityti daugiau]({}) \".format(ada['title'],'. ', ada['body'], ' ...', ada['url']))"
   ]
  },
  {
   "cell_type": "code",
   "execution_count": 9,
   "id": "specified-ordering",
   "metadata": {
    "execution": {
     "iopub.execute_input": "2021-03-09T01:45:55.057554Z",
     "iopub.status.busy": "2021-03-09T01:45:55.056885Z",
     "iopub.status.idle": "2021-03-09T01:45:55.060251Z",
     "shell.execute_reply": "2021-03-09T01:45:55.059666Z"
    },
    "papermill": {
     "duration": 0.020569,
     "end_time": "2021-03-09T01:45:55.060367",
     "exception": false,
     "start_time": "2021-03-09T01:45:55.039798",
     "status": "completed"
    },
    "tags": []
   },
   "outputs": [
    {
     "data": {
      "text/markdown": [
       "- Regulators in Canada approve CI Financial’s bitcoin ETF, setting stage for TSX debut.  The CI Galaxy Bitcoin ETF (BTCX) will begin trading on the Toronto Stock Exchange tomorrow pending the exchange's approval.The post Regulators in Canada approve CI Financial&#8217;s bitcoin ETF, setting stage for TSX debut appeared first on The Block. ... [| Skaityti daugiau](https://www.theblockcrypto.com/linked/97648/canada-galaxy-digital-ci-financial-bitcoin-etf?utm_source=cryptocompare&utm_medium=rss) "
      ],
      "text/plain": [
       "<IPython.core.display.Markdown object>"
      ]
     },
     "execution_count": 9,
     "metadata": {},
     "output_type": "execute_result"
    }
   ],
   "source": [
    "#hide_input\n",
    "#md('##### {}'.format(titleBTC)) \n",
    "md(\"- {}{} {}{} [| Skaityti daugiau]({}) \".format(exchange['title'],'. ', exchange['body'], ' ...', exchange['url']))"
   ]
  },
  {
   "cell_type": "code",
   "execution_count": null,
   "id": "tender-livestock",
   "metadata": {
    "papermill": {
     "duration": 0.013022,
     "end_time": "2021-03-09T01:45:55.086533",
     "exception": false,
     "start_time": "2021-03-09T01:45:55.073511",
     "status": "completed"
    },
    "tags": []
   },
   "outputs": [],
   "source": []
  },
  {
   "cell_type": "code",
   "execution_count": null,
   "id": "appreciated-diamond",
   "metadata": {
    "papermill": {
     "duration": 0.014182,
     "end_time": "2021-03-09T01:45:55.114309",
     "exception": false,
     "start_time": "2021-03-09T01:45:55.100127",
     "status": "completed"
    },
    "tags": []
   },
   "outputs": [],
   "source": []
  },
  {
   "cell_type": "code",
   "execution_count": null,
   "id": "romance-sweden",
   "metadata": {
    "papermill": {
     "duration": 0.012432,
     "end_time": "2021-03-09T01:45:55.139216",
     "exception": false,
     "start_time": "2021-03-09T01:45:55.126784",
     "status": "completed"
    },
    "tags": []
   },
   "outputs": [],
   "source": []
  },
  {
   "cell_type": "code",
   "execution_count": null,
   "id": "dietary-statistics",
   "metadata": {
    "papermill": {
     "duration": 0.012565,
     "end_time": "2021-03-09T01:45:55.169018",
     "exception": false,
     "start_time": "2021-03-09T01:45:55.156453",
     "status": "completed"
    },
    "tags": []
   },
   "outputs": [],
   "source": []
  }
 ],
 "metadata": {
  "kernelspec": {
   "display_name": "Python 3",
   "language": "python",
   "name": "python3"
  },
  "language_info": {
   "codemirror_mode": {
    "name": "ipython",
    "version": 3
   },
   "file_extension": ".py",
   "mimetype": "text/x-python",
   "name": "python",
   "nbconvert_exporter": "python",
   "pygments_lexer": "ipython3",
   "version": "3.6.13"
  },
  "papermill": {
   "default_parameters": {},
   "duration": 11.17609,
   "end_time": "2021-03-09T01:45:55.589210",
   "environment_variables": {},
   "exception": null,
   "input_path": "Market-News.ipynb",
   "output_path": "Market-News.ipynb",
   "parameters": {},
   "start_time": "2021-03-09T01:45:44.413120",
   "version": "2.2.2"
  }
 },
 "nbformat": 4,
 "nbformat_minor": 5
}