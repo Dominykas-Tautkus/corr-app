{
 "cells": [
  {
   "cell_type": "markdown",
   "id": "short-greensboro",
   "metadata": {
    "papermill": {
     "duration": 0.014239,
     "end_time": "2021-04-11T02:13:02.197437",
     "exception": false,
     "start_time": "2021-04-11T02:13:02.183198",
     "status": "completed"
    },
    "tags": []
   },
   "source": [
    "# Kriptovaliutų naujienos"
   ]
  },
  {
   "cell_type": "code",
   "execution_count": 1,
   "id": "functioning-knowing",
   "metadata": {
    "execution": {
     "iopub.execute_input": "2021-04-11T02:13:02.232188Z",
     "iopub.status.busy": "2021-04-11T02:13:02.231479Z",
     "iopub.status.idle": "2021-04-11T02:13:03.455670Z",
     "shell.execute_reply": "2021-04-11T02:13:03.455054Z"
    },
    "papermill": {
     "duration": 1.247674,
     "end_time": "2021-04-11T02:13:03.455833",
     "exception": false,
     "start_time": "2021-04-11T02:13:02.208159",
     "status": "completed"
    },
    "tags": []
   },
   "outputs": [],
   "source": [
    "#hide_input\n",
    "import warnings\n",
    "warnings.filterwarnings('ignore')\n",
    "from scripts.read_data import read_api\n",
    "from scripts.read_data import read_news\n",
    "from scripts.read_data import read_covid\n",
    "import matplotlib.pyplot as plt \n",
    "from IPython.display import Markdown as md"
   ]
  },
  {
   "cell_type": "code",
   "execution_count": 2,
   "id": "shared-acceptance",
   "metadata": {
    "execution": {
     "iopub.execute_input": "2021-04-11T02:13:03.483566Z",
     "iopub.status.busy": "2021-04-11T02:13:03.483005Z",
     "iopub.status.idle": "2021-04-11T02:13:13.769638Z",
     "shell.execute_reply": "2021-04-11T02:13:13.770112Z"
    },
    "papermill": {
     "duration": 10.303465,
     "end_time": "2021-04-11T02:13:13.770269",
     "exception": false,
     "start_time": "2021-04-11T02:13:03.466804",
     "status": "completed"
    },
    "tags": []
   },
   "outputs": [],
   "source": [
    "#hide_input\n",
    "blockchain = read_news('blockchain') \n",
    "btc = read_news('btc') \n",
    "xrp = read_news('xrp') \n",
    "trx = read_news('trx') \n",
    "eth = read_news('eth')  \n",
    "ada = read_news('ada')\n",
    "exchange = read_news('exchange') "
   ]
  },
  {
   "cell_type": "code",
   "execution_count": 3,
   "id": "synthetic-notion",
   "metadata": {
    "execution": {
     "iopub.execute_input": "2021-04-11T02:13:13.797605Z",
     "iopub.status.busy": "2021-04-11T02:13:13.797066Z",
     "iopub.status.idle": "2021-04-11T02:13:13.802715Z",
     "shell.execute_reply": "2021-04-11T02:13:13.802211Z"
    },
    "papermill": {
     "duration": 0.022231,
     "end_time": "2021-04-11T02:13:13.802836",
     "exception": false,
     "start_time": "2021-04-11T02:13:13.780605",
     "status": "completed"
    },
    "tags": []
   },
   "outputs": [
    {
     "data": {
      "text/markdown": [
       "- Cardano Launching Smart Contracts in August, Targeting DeFi Boom and Corporate Use Cases.  The development team behind the Cardano blockchain is unveiling new details surrounding its smart contract release. In the wake of its Mary protocol release this March, Charles Hoskinson’s Cardano is revealing that its Alonzo upgrade will launch this coming August. IOHK (Input Output Hong Kong), Cardano’s development company, announced this week that the Alonzo upgrade [&#8230;]The post Cardano Launching Smart Contracts in August, Targeting DeFi Boom and Corporate Use Cases appeared first on The Daily Hodl. ... [| Skaityti daugiau](https://dailyhodl.com/2021/04/10/cardano-launching-smart-contracts-in-august-targeting-defi-boom-and-corporate-use-cases/) "
      ],
      "text/plain": [
       "<IPython.core.display.Markdown object>"
      ]
     },
     "execution_count": 3,
     "metadata": {},
     "output_type": "execute_result"
    }
   ],
   "source": [
    "#hide_input\n",
    "#md('##### {}'.format(titleBTC)) \n",
    "md(\"- {}{} {}{} [| Skaityti daugiau]({}) \".format(blockchain['title'],'. ', blockchain['body'], ' ...', blockchain['url']))"
   ]
  },
  {
   "cell_type": "code",
   "execution_count": 4,
   "id": "aging-caution",
   "metadata": {
    "execution": {
     "iopub.execute_input": "2021-04-11T02:13:13.827471Z",
     "iopub.status.busy": "2021-04-11T02:13:13.826877Z",
     "iopub.status.idle": "2021-04-11T02:13:13.832115Z",
     "shell.execute_reply": "2021-04-11T02:13:13.832567Z"
    },
    "papermill": {
     "duration": 0.019625,
     "end_time": "2021-04-11T02:13:13.832699",
     "exception": false,
     "start_time": "2021-04-11T02:13:13.813074",
     "status": "completed"
    },
    "tags": []
   },
   "outputs": [
    {
     "data": {
      "text/markdown": [
       "- Off to the Races: Kryptoin Re-files Bitcoin ETF Opting to List on Cboe Over Nasdaq.  On April 9, 2021, the Delaware-based company and sponsor of the &#8220;Kryptoin Bitcoin ETF Trust&#8221; filed an S1 amendment for a bitcoin exchange-traded fund (ETF) with the U.S. Securities and Exchange Commission (SEC). The asset manager re-filed its 2019 ETF application and instead of leveraging NYSE, the company plans to use Cboe BZX. Kryptoin Joins [&#8230;] ... [| Skaityti daugiau](https://news.bitcoin.com/off-to-the-races-kryptoin-re-files-bitcoin-etf-opting-to-list-on-cboe-over-nasdaq/) "
      ],
      "text/plain": [
       "<IPython.core.display.Markdown object>"
      ]
     },
     "execution_count": 4,
     "metadata": {},
     "output_type": "execute_result"
    }
   ],
   "source": [
    "#hide_input\n",
    "#md('##### {}'.format(titleBTC)) \n",
    "md(\"- {}{} {}{} [| Skaityti daugiau]({}) \".format(btc['title'],'. ', btc['body'], ' ...', btc['url']))"
   ]
  },
  {
   "cell_type": "code",
   "execution_count": 5,
   "id": "organic-actress",
   "metadata": {
    "execution": {
     "iopub.execute_input": "2021-04-11T02:13:13.858748Z",
     "iopub.status.busy": "2021-04-11T02:13:13.858198Z",
     "iopub.status.idle": "2021-04-11T02:13:13.861158Z",
     "shell.execute_reply": "2021-04-11T02:13:13.860699Z"
    },
    "papermill": {
     "duration": 0.017767,
     "end_time": "2021-04-11T02:13:13.861258",
     "exception": false,
     "start_time": "2021-04-11T02:13:13.843491",
     "status": "completed"
    },
    "tags": []
   },
   "outputs": [
    {
     "data": {
      "text/markdown": [
       "- SEC v. Ripple takes new turn, setting XRP up for potential future growth.  Ripple has engaged in a fierce legal battle against the United States Securities and Exchange Commission (SEC). The post SEC v. Ripple takes new turn, setting XRP up for potential future growth appeared first on CryptoSlate. ... [| Skaityti daugiau](https://cryptoslate.com/sec-v-ripple-takes-new-turn-setting-xrp-up-for-potential-future-growth/) "
      ],
      "text/plain": [
       "<IPython.core.display.Markdown object>"
      ]
     },
     "execution_count": 5,
     "metadata": {},
     "output_type": "execute_result"
    }
   ],
   "source": [
    "#hide_input\n",
    "#md('##### {}'.format(titleBTC)) \n",
    "md(\"- {}{} {}{} [| Skaityti daugiau]({}) \".format(xrp['title'],'. ', xrp['body'], ' ...', xrp['url']))"
   ]
  },
  {
   "cell_type": "code",
   "execution_count": 6,
   "id": "prompt-farmer",
   "metadata": {
    "execution": {
     "iopub.execute_input": "2021-04-11T02:13:13.889008Z",
     "iopub.status.busy": "2021-04-11T02:13:13.888487Z",
     "iopub.status.idle": "2021-04-11T02:13:13.891274Z",
     "shell.execute_reply": "2021-04-11T02:13:13.890829Z"
    },
    "papermill": {
     "duration": 0.01809,
     "end_time": "2021-04-11T02:13:13.891373",
     "exception": false,
     "start_time": "2021-04-11T02:13:13.873283",
     "status": "completed"
    },
    "tags": []
   },
   "outputs": [
    {
     "data": {
      "text/markdown": [
       "- Tron, Algorand, Hedera Hashgraph Price Analysis: 10 April.  Tron&#8217;s breakout from an ascending triangle was limited at the $0.12 resistance. Algorand&#8217;s bearish technicals were tipped to outweigh bullish cues from the broader market, while Hedera Hashgraph was projected to trade sideways over the coming sessions. Meanwhile, Bitcoin was trading at $60,309 with a market capitalization of $1.1 trillion. Tron [TRX] On the 4-hour [&#8230;] ... [| Skaityti daugiau](https://ambcrypto.com/tron-algorand-hedera-hashgraph-price-analysis-10-april/) "
      ],
      "text/plain": [
       "<IPython.core.display.Markdown object>"
      ]
     },
     "execution_count": 6,
     "metadata": {},
     "output_type": "execute_result"
    }
   ],
   "source": [
    "#hide_input\n",
    "#md('##### {}'.format(titleBTC)) \n",
    "md(\"- {}{} {}{} [| Skaityti daugiau]({}) \".format(trx['title'],'. ', trx['body'], ' ...', trx['url']))"
   ]
  },
  {
   "cell_type": "code",
   "execution_count": 7,
   "id": "illegal-greece",
   "metadata": {
    "execution": {
     "iopub.execute_input": "2021-04-11T02:13:13.917783Z",
     "iopub.status.busy": "2021-04-11T02:13:13.917233Z",
     "iopub.status.idle": "2021-04-11T02:13:13.920094Z",
     "shell.execute_reply": "2021-04-11T02:13:13.919618Z"
    },
    "papermill": {
     "duration": 0.017872,
     "end_time": "2021-04-11T02:13:13.920201",
     "exception": false,
     "start_time": "2021-04-11T02:13:13.902329",
     "status": "completed"
    },
    "tags": []
   },
   "outputs": [
    {
     "data": {
      "text/markdown": [
       "- Why this OlympusDAO’s product could be amongst DeFi most lucrative.  Taking the market by storm, OlympusDAO&#8217;s native OHM is up 95.8% this week alone and 31.1% in the past two weeks. At the time of writing, OHM is trading at $812,76 with 7.3% profits in the 24-hour chart. With a market cap of just $68 million, OlympusDAO might have gone unnoticed by many investors. However, [&#8230;] ... [| Skaityti daugiau](https://www.newsbtc.com/news/why-this-olympusdaos-product-could-be-amongst-defi-most-lucrative/) "
      ],
      "text/plain": [
       "<IPython.core.display.Markdown object>"
      ]
     },
     "execution_count": 7,
     "metadata": {},
     "output_type": "execute_result"
    }
   ],
   "source": [
    "#hide_input\n",
    "#md('##### {}'.format(titleBTC)) \n",
    "md(\"- {}{} {}{} [| Skaityti daugiau]({}) \".format(eth['title'],'. ', eth['body'], ' ...', eth['url']))"
   ]
  },
  {
   "cell_type": "code",
   "execution_count": 8,
   "id": "sublime-lounge",
   "metadata": {
    "execution": {
     "iopub.execute_input": "2021-04-11T02:13:13.947471Z",
     "iopub.status.busy": "2021-04-11T02:13:13.946941Z",
     "iopub.status.idle": "2021-04-11T02:13:13.950219Z",
     "shell.execute_reply": "2021-04-11T02:13:13.949780Z"
    },
    "papermill": {
     "duration": 0.01876,
     "end_time": "2021-04-11T02:13:13.950317",
     "exception": false,
     "start_time": "2021-04-11T02:13:13.931557",
     "status": "completed"
    },
    "tags": []
   },
   "outputs": [
    {
     "data": {
      "text/markdown": [
       "- Cardano Launching Smart Contracts in August, Targeting DeFi Boom and Corporate Use Cases.  The development team behind the Cardano blockchain is unveiling new details surrounding its smart contract release. In the wake of its Mary protocol release this March, Charles Hoskinson’s Cardano is revealing that its Alonzo upgrade will launch this coming August. IOHK (Input Output Hong Kong), Cardano’s development company, announced this week that the Alonzo upgrade [&#8230;]The post Cardano Launching Smart Contracts in August, Targeting DeFi Boom and Corporate Use Cases appeared first on The Daily Hodl. ... [| Skaityti daugiau](https://dailyhodl.com/2021/04/10/cardano-launching-smart-contracts-in-august-targeting-defi-boom-and-corporate-use-cases/) "
      ],
      "text/plain": [
       "<IPython.core.display.Markdown object>"
      ]
     },
     "execution_count": 8,
     "metadata": {},
     "output_type": "execute_result"
    }
   ],
   "source": [
    "#hide_input\n",
    "#md('##### {}'.format(titleBTC)) \n",
    "md(\"- {}{} {}{} [| Skaityti daugiau]({}) \".format(ada['title'],'. ', ada['body'], ' ...', ada['url']))"
   ]
  },
  {
   "cell_type": "code",
   "execution_count": 9,
   "id": "specified-ordering",
   "metadata": {
    "execution": {
     "iopub.execute_input": "2021-04-11T02:13:13.979072Z",
     "iopub.status.busy": "2021-04-11T02:13:13.978504Z",
     "iopub.status.idle": "2021-04-11T02:13:13.981445Z",
     "shell.execute_reply": "2021-04-11T02:13:13.981867Z"
    },
    "papermill": {
     "duration": 0.020169,
     "end_time": "2021-04-11T02:13:13.981977",
     "exception": false,
     "start_time": "2021-04-11T02:13:13.961808",
     "status": "completed"
    },
    "tags": []
   },
   "outputs": [
    {
     "data": {
      "text/markdown": [
       "- Off to the Races: Kryptoin Re-files Bitcoin ETF Opting to List on Cboe Over Nasdaq.  On April 9, 2021, the Delaware-based company and sponsor of the &#8220;Kryptoin Bitcoin ETF Trust&#8221; filed an S1 amendment for a bitcoin exchange-traded fund (ETF) with the U.S. Securities and Exchange Commission (SEC). The asset manager re-filed its 2019 ETF application and instead of leveraging NYSE, the company plans to use Cboe BZX. Kryptoin Joins [&#8230;] ... [| Skaityti daugiau](https://news.bitcoin.com/off-to-the-races-kryptoin-re-files-bitcoin-etf-opting-to-list-on-cboe-over-nasdaq/) "
      ],
      "text/plain": [
       "<IPython.core.display.Markdown object>"
      ]
     },
     "execution_count": 9,
     "metadata": {},
     "output_type": "execute_result"
    }
   ],
   "source": [
    "#hide_input\n",
    "#md('##### {}'.format(titleBTC)) \n",
    "md(\"- {}{} {}{} [| Skaityti daugiau]({}) \".format(exchange['title'],'. ', exchange['body'], ' ...', exchange['url']))"
   ]
  },
  {
   "cell_type": "code",
   "execution_count": null,
   "id": "tender-livestock",
   "metadata": {
    "papermill": {
     "duration": 0.01193,
     "end_time": "2021-04-11T02:13:14.005917",
     "exception": false,
     "start_time": "2021-04-11T02:13:13.993987",
     "status": "completed"
    },
    "tags": []
   },
   "outputs": [],
   "source": []
  },
  {
   "cell_type": "code",
   "execution_count": null,
   "id": "appreciated-diamond",
   "metadata": {
    "papermill": {
     "duration": 0.012058,
     "end_time": "2021-04-11T02:13:14.030346",
     "exception": false,
     "start_time": "2021-04-11T02:13:14.018288",
     "status": "completed"
    },
    "tags": []
   },
   "outputs": [],
   "source": []
  },
  {
   "cell_type": "code",
   "execution_count": null,
   "id": "romance-sweden",
   "metadata": {
    "papermill": {
     "duration": 0.01198,
     "end_time": "2021-04-11T02:13:14.054230",
     "exception": false,
     "start_time": "2021-04-11T02:13:14.042250",
     "status": "completed"
    },
    "tags": []
   },
   "outputs": [],
   "source": []
  },
  {
   "cell_type": "code",
   "execution_count": null,
   "id": "dietary-statistics",
   "metadata": {
    "papermill": {
     "duration": 0.011895,
     "end_time": "2021-04-11T02:13:14.077923",
     "exception": false,
     "start_time": "2021-04-11T02:13:14.066028",
     "status": "completed"
    },
    "tags": []
   },
   "outputs": [],
   "source": []
  }
 ],
 "metadata": {
  "kernelspec": {
   "display_name": "Python 3",
   "language": "python",
   "name": "python3"
  },
  "language_info": {
   "codemirror_mode": {
    "name": "ipython",
    "version": 3
   },
   "file_extension": ".py",
   "mimetype": "text/x-python",
   "name": "python",
   "nbconvert_exporter": "python",
   "pygments_lexer": "ipython3",
   "version": "3.6.13"
  },
  "papermill": {
   "default_parameters": {},
   "duration": 13.569077,
   "end_time": "2021-04-11T02:13:14.498958",
   "environment_variables": {},
   "exception": null,
   "input_path": "Market-News.ipynb",
   "output_path": "Market-News.ipynb",
   "parameters": {},
   "start_time": "2021-04-11T02:13:00.929881",
   "version": "2.2.2"
  }
 },
 "nbformat": 4,
 "nbformat_minor": 5
}