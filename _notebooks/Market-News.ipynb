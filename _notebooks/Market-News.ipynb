{
 "cells": [
  {
   "cell_type": "markdown",
   "id": "short-greensboro",
   "metadata": {
    "papermill": {
     "duration": 0.017149,
     "end_time": "2021-03-11T01:47:14.863690",
     "exception": false,
     "start_time": "2021-03-11T01:47:14.846541",
     "status": "completed"
    },
    "tags": []
   },
   "source": [
    "# Kriptovaliutų naujienos"
   ]
  },
  {
   "cell_type": "code",
   "execution_count": 1,
   "id": "functioning-knowing",
   "metadata": {
    "execution": {
     "iopub.execute_input": "2021-03-11T01:47:14.899093Z",
     "iopub.status.busy": "2021-03-11T01:47:14.898501Z",
     "iopub.status.idle": "2021-03-11T01:47:16.142988Z",
     "shell.execute_reply": "2021-03-11T01:47:16.142009Z"
    },
    "papermill": {
     "duration": 1.268515,
     "end_time": "2021-03-11T01:47:16.143134",
     "exception": false,
     "start_time": "2021-03-11T01:47:14.874619",
     "status": "completed"
    },
    "tags": []
   },
   "outputs": [],
   "source": [
    "#hide_input\n",
    "import warnings\n",
    "warnings.filterwarnings('ignore')\n",
    "from scripts.read_data import read_api\n",
    "from scripts.read_data import read_news\n",
    "from scripts.read_data import read_covid\n",
    "import matplotlib.pyplot as plt \n",
    "from IPython.display import Markdown as md"
   ]
  },
  {
   "cell_type": "code",
   "execution_count": 2,
   "id": "shared-acceptance",
   "metadata": {
    "execution": {
     "iopub.execute_input": "2021-03-11T01:47:16.169141Z",
     "iopub.status.busy": "2021-03-11T01:47:16.168127Z",
     "iopub.status.idle": "2021-03-11T01:47:24.362160Z",
     "shell.execute_reply": "2021-03-11T01:47:24.361651Z"
    },
    "papermill": {
     "duration": 8.209176,
     "end_time": "2021-03-11T01:47:24.362283",
     "exception": false,
     "start_time": "2021-03-11T01:47:16.153107",
     "status": "completed"
    },
    "tags": []
   },
   "outputs": [],
   "source": [
    "#hide_input\n",
    "blockchain = read_news('blockchain') \n",
    "btc = read_news('btc') \n",
    "xrp = read_news('xrp') \n",
    "trx = read_news('trx') \n",
    "eth = read_news('eth')  \n",
    "ada = read_news('ada')\n",
    "exchange = read_news('exchange') "
   ]
  },
  {
   "cell_type": "code",
   "execution_count": 3,
   "id": "synthetic-notion",
   "metadata": {
    "execution": {
     "iopub.execute_input": "2021-03-11T01:47:24.388089Z",
     "iopub.status.busy": "2021-03-11T01:47:24.387472Z",
     "iopub.status.idle": "2021-03-11T01:47:24.394243Z",
     "shell.execute_reply": "2021-03-11T01:47:24.393744Z"
    },
    "papermill": {
     "duration": 0.022065,
     "end_time": "2021-03-11T01:47:24.394353",
     "exception": false,
     "start_time": "2021-03-11T01:47:24.372288",
     "status": "completed"
    },
    "tags": []
   },
   "outputs": [
    {
     "data": {
      "text/markdown": [
       "- Ripple’s “Fair Notice” Defenses Are “Improper”, Says SEC to Judge for XRP Lawsuit.  The SEC says Ripple has acted “legally improper” in its fair notice defense against its pending lawsuit, while arguing against the blockchain company’s motion to dismiss the case. ... [| Skaityti daugiau](https://www.cryptoglobe.com/latest/2021/03/ripples-fair-notice-defenses-are-improper-says-sec-to-judge-for-xrp-lawsuit/) "
      ],
      "text/plain": [
       "<IPython.core.display.Markdown object>"
      ]
     },
     "execution_count": 3,
     "metadata": {},
     "output_type": "execute_result"
    }
   ],
   "source": [
    "#hide_input\n",
    "#md('##### {}'.format(titleBTC)) \n",
    "md(\"- {}{} {}{} [| Skaityti daugiau]({}) \".format(blockchain['title'],'. ', blockchain['body'], ' ...', blockchain['url']))"
   ]
  },
  {
   "cell_type": "code",
   "execution_count": 4,
   "id": "aging-caution",
   "metadata": {
    "execution": {
     "iopub.execute_input": "2021-03-11T01:47:24.421626Z",
     "iopub.status.busy": "2021-03-11T01:47:24.421031Z",
     "iopub.status.idle": "2021-03-11T01:47:24.424507Z",
     "shell.execute_reply": "2021-03-11T01:47:24.424016Z"
    },
    "papermill": {
     "duration": 0.018946,
     "end_time": "2021-03-11T01:47:24.424613",
     "exception": false,
     "start_time": "2021-03-11T01:47:24.405667",
     "status": "completed"
    },
    "tags": []
   },
   "outputs": [
    {
     "data": {
      "text/markdown": [
       "- Expert Take: Bitcoin Has Become A Monetary “Manipulation Gauge”.  Bitcoin price is once again soaring, retesting resistance near the current all-time high. According to a top expert on the leading cryptocurrency, the asset&#8217;s price chart has become a sort of &#8220;manipulation gauge&#8221; that measures ongoing economic growth &#8220;engineering&#8221; by governments. If that&#8217;s the case, resistance won&#8217;t be able to hold Bitcoin back much longer, [&#8230;] ... [| Skaityti daugiau](https://www.newsbtc.com/news/bitcoin/expert-take-bitcoin-has-become-a-monetary-manipulation-gauge/) "
      ],
      "text/plain": [
       "<IPython.core.display.Markdown object>"
      ]
     },
     "execution_count": 4,
     "metadata": {},
     "output_type": "execute_result"
    }
   ],
   "source": [
    "#hide_input\n",
    "#md('##### {}'.format(titleBTC)) \n",
    "md(\"- {}{} {}{} [| Skaityti daugiau]({}) \".format(btc['title'],'. ', btc['body'], ' ...', btc['url']))"
   ]
  },
  {
   "cell_type": "code",
   "execution_count": 5,
   "id": "organic-actress",
   "metadata": {
    "execution": {
     "iopub.execute_input": "2021-03-11T01:47:24.449917Z",
     "iopub.status.busy": "2021-03-11T01:47:24.449308Z",
     "iopub.status.idle": "2021-03-11T01:47:24.453530Z",
     "shell.execute_reply": "2021-03-11T01:47:24.453049Z"
    },
    "papermill": {
     "duration": 0.018282,
     "end_time": "2021-03-11T01:47:24.453643",
     "exception": false,
     "start_time": "2021-03-11T01:47:24.435361",
     "status": "completed"
    },
    "tags": []
   },
   "outputs": [
    {
     "data": {
      "text/markdown": [
       "- Ripple’s “Fair Notice” Defenses Are “Improper”, Says SEC to Judge for XRP Lawsuit.  The SEC says Ripple has acted “legally improper” in its fair notice defense against its pending lawsuit, while arguing against the blockchain company’s motion to dismiss the case. ... [| Skaityti daugiau](https://www.cryptoglobe.com/latest/2021/03/ripples-fair-notice-defenses-are-improper-says-sec-to-judge-for-xrp-lawsuit/) "
      ],
      "text/plain": [
       "<IPython.core.display.Markdown object>"
      ]
     },
     "execution_count": 5,
     "metadata": {},
     "output_type": "execute_result"
    }
   ],
   "source": [
    "#hide_input\n",
    "#md('##### {}'.format(titleBTC)) \n",
    "md(\"- {}{} {}{} [| Skaityti daugiau]({}) \".format(xrp['title'],'. ', xrp['body'], ' ...', xrp['url']))"
   ]
  },
  {
   "cell_type": "code",
   "execution_count": 6,
   "id": "prompt-farmer",
   "metadata": {
    "execution": {
     "iopub.execute_input": "2021-03-11T01:47:24.482131Z",
     "iopub.status.busy": "2021-03-11T01:47:24.481551Z",
     "iopub.status.idle": "2021-03-11T01:47:24.484476Z",
     "shell.execute_reply": "2021-03-11T01:47:24.483978Z"
    },
    "papermill": {
     "duration": 0.02001,
     "end_time": "2021-03-11T01:47:24.484578",
     "exception": false,
     "start_time": "2021-03-11T01:47:24.464568",
     "status": "completed"
    },
    "tags": []
   },
   "outputs": [
    {
     "data": {
      "text/markdown": [
       "- Tron (TRX) Price Analysis: Upside Break Above $0.055 Likely.  Tron price is slowly moving higher towards the $0.0550 resistance against the US Dollar. TRX price is now trading above the $0.0500 support and the 55 simple moving average (4-hours). There is a key rising channel forming with support near $0.0485 on the 4-hours chart (data feed via Bitfinex). The pair could start a fresh...The post Tron (TRX) Price Analysis: Upside Break Above $0.055 Likely appeared first on Live Bitcoin News. ... [| Skaityti daugiau](https://www.livebitcoinnews.com/tron-trx-price-analysis-upside-break-above-0-055-likely/) "
      ],
      "text/plain": [
       "<IPython.core.display.Markdown object>"
      ]
     },
     "execution_count": 6,
     "metadata": {},
     "output_type": "execute_result"
    }
   ],
   "source": [
    "#hide_input\n",
    "#md('##### {}'.format(titleBTC)) \n",
    "md(\"- {}{} {}{} [| Skaityti daugiau]({}) \".format(trx['title'],'. ', trx['body'], ' ...', trx['url']))"
   ]
  },
  {
   "cell_type": "code",
   "execution_count": 7,
   "id": "illegal-greece",
   "metadata": {
    "execution": {
     "iopub.execute_input": "2021-03-11T01:47:24.512766Z",
     "iopub.status.busy": "2021-03-11T01:47:24.512184Z",
     "iopub.status.idle": "2021-03-11T01:47:24.515338Z",
     "shell.execute_reply": "2021-03-11T01:47:24.514891Z"
    },
    "papermill": {
     "duration": 0.019357,
     "end_time": "2021-03-11T01:47:24.515439",
     "exception": false,
     "start_time": "2021-03-11T01:47:24.496082",
     "status": "completed"
    },
    "tags": []
   },
   "outputs": [
    {
     "data": {
      "text/markdown": [
       "- Multi-Platinum Recording Artist Lil Pump to Drop ‘Digital Jewelry’ NFTs.  On March 10, the hip-hop artist Lil Pump announced the multi-platinum-selling artist has partnered with the non-fungible token (NFT) platform Sweet. The American rapper will drop three unique NFT collectibles in total and he&#8217;s also releasing a one-of-a-kind &#8220;digital jewelry collectible NFT&#8221; collection. Lil Pump Launches Non-Fungible Token Assets via Sweet The multi-platinum-selling hip-hop recording [&#8230;] ... [| Skaityti daugiau](https://news.bitcoin.com/multi-platinum-recording-artist-lil-pump-to-drop-digital-jewelry-nfts/) "
      ],
      "text/plain": [
       "<IPython.core.display.Markdown object>"
      ]
     },
     "execution_count": 7,
     "metadata": {},
     "output_type": "execute_result"
    }
   ],
   "source": [
    "#hide_input\n",
    "#md('##### {}'.format(titleBTC)) \n",
    "md(\"- {}{} {}{} [| Skaityti daugiau]({}) \".format(eth['title'],'. ', eth['body'], ' ...', eth['url']))"
   ]
  },
  {
   "cell_type": "code",
   "execution_count": 8,
   "id": "sublime-lounge",
   "metadata": {
    "execution": {
     "iopub.execute_input": "2021-03-11T01:47:24.542495Z",
     "iopub.status.busy": "2021-03-11T01:47:24.541917Z",
     "iopub.status.idle": "2021-03-11T01:47:24.544356Z",
     "shell.execute_reply": "2021-03-11T01:47:24.544848Z"
    },
    "papermill": {
     "duration": 0.017955,
     "end_time": "2021-03-11T01:47:24.544968",
     "exception": false,
     "start_time": "2021-03-11T01:47:24.527013",
     "status": "completed"
    },
    "tags": []
   },
   "outputs": [
    {
     "data": {
      "text/markdown": [
       "- Price analysis 3/10: BTC, ETH, BNB, ADA, DOT, XRP, UNI, LTC, LINK, BCH.  Select altcoins could rally to new all-time highs if Bitcoin bulls successfully hold BTC above the $57,000 level.  ... [| Skaityti daugiau](https://cointelegraph.com/news/price-analysis-3-10-btc-eth-bnb-ada-dot-xrp-uni-ltc-link-bch) "
      ],
      "text/plain": [
       "<IPython.core.display.Markdown object>"
      ]
     },
     "execution_count": 8,
     "metadata": {},
     "output_type": "execute_result"
    }
   ],
   "source": [
    "#hide_input\n",
    "#md('##### {}'.format(titleBTC)) \n",
    "md(\"- {}{} {}{} [| Skaityti daugiau]({}) \".format(ada['title'],'. ', ada['body'], ' ...', ada['url']))"
   ]
  },
  {
   "cell_type": "code",
   "execution_count": 9,
   "id": "specified-ordering",
   "metadata": {
    "execution": {
     "iopub.execute_input": "2021-03-11T01:47:24.573498Z",
     "iopub.status.busy": "2021-03-11T01:47:24.572928Z",
     "iopub.status.idle": "2021-03-11T01:47:24.575083Z",
     "shell.execute_reply": "2021-03-11T01:47:24.575569Z"
    },
    "papermill": {
     "duration": 0.018922,
     "end_time": "2021-03-11T01:47:24.575681",
     "exception": false,
     "start_time": "2021-03-11T01:47:24.556759",
     "status": "completed"
    },
    "tags": []
   },
   "outputs": [
    {
     "data": {
      "text/markdown": [
       "- Rep. Warren Davidson reintroduces the Token Taxonomy Act.  The Token Taxonomy Act aims to amend the Securities Exchange Act of 1934 to distinguish digital tokens from other types of assets. The post Rep. Warren Davidson reintroduces the Token Taxonomy Act appeared first on The Block. ... [| Skaityti daugiau](https://www.theblockcrypto.com/linked/97962/rep-davidson-reintroduces-token-taxonomy-act?utm_source=cryptocompare&utm_medium=rss) "
      ],
      "text/plain": [
       "<IPython.core.display.Markdown object>"
      ]
     },
     "execution_count": 9,
     "metadata": {},
     "output_type": "execute_result"
    }
   ],
   "source": [
    "#hide_input\n",
    "#md('##### {}'.format(titleBTC)) \n",
    "md(\"- {}{} {}{} [| Skaityti daugiau]({}) \".format(exchange['title'],'. ', exchange['body'], ' ...', exchange['url']))"
   ]
  },
  {
   "cell_type": "code",
   "execution_count": null,
   "id": "tender-livestock",
   "metadata": {
    "papermill": {
     "duration": 0.012165,
     "end_time": "2021-03-11T01:47:24.599696",
     "exception": false,
     "start_time": "2021-03-11T01:47:24.587531",
     "status": "completed"
    },
    "tags": []
   },
   "outputs": [],
   "source": []
  },
  {
   "cell_type": "code",
   "execution_count": null,
   "id": "appreciated-diamond",
   "metadata": {
    "papermill": {
     "duration": 0.013214,
     "end_time": "2021-03-11T01:47:24.625327",
     "exception": false,
     "start_time": "2021-03-11T01:47:24.612113",
     "status": "completed"
    },
    "tags": []
   },
   "outputs": [],
   "source": []
  },
  {
   "cell_type": "code",
   "execution_count": null,
   "id": "romance-sweden",
   "metadata": {
    "papermill": {
     "duration": 0.012006,
     "end_time": "2021-03-11T01:47:24.649348",
     "exception": false,
     "start_time": "2021-03-11T01:47:24.637342",
     "status": "completed"
    },
    "tags": []
   },
   "outputs": [],
   "source": []
  },
  {
   "cell_type": "code",
   "execution_count": null,
   "id": "dietary-statistics",
   "metadata": {
    "papermill": {
     "duration": 0.0121,
     "end_time": "2021-03-11T01:47:24.673791",
     "exception": false,
     "start_time": "2021-03-11T01:47:24.661691",
     "status": "completed"
    },
    "tags": []
   },
   "outputs": [],
   "source": []
  }
 ],
 "metadata": {
  "kernelspec": {
   "display_name": "Python 3",
   "language": "python",
   "name": "python3"
  },
  "language_info": {
   "codemirror_mode": {
    "name": "ipython",
    "version": 3
   },
   "file_extension": ".py",
   "mimetype": "text/x-python",
   "name": "python",
   "nbconvert_exporter": "python",
   "pygments_lexer": "ipython3",
   "version": "3.6.13"
  },
  "papermill": {
   "default_parameters": {},
   "duration": 12.310372,
   "end_time": "2021-03-11T01:47:25.889894",
   "environment_variables": {},
   "exception": null,
   "input_path": "Market-News.ipynb",
   "output_path": "Market-News.ipynb",
   "parameters": {},
   "start_time": "2021-03-11T01:47:13.579522",
   "version": "2.2.2"
  }
 },
 "nbformat": 4,
 "nbformat_minor": 5
}