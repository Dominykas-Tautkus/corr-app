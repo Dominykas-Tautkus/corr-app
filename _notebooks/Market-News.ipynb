{
 "cells": [
  {
   "cell_type": "markdown",
   "id": "short-greensboro",
   "metadata": {
    "papermill": {
     "duration": 0.015776,
     "end_time": "2021-05-20T02:15:42.581478",
     "exception": false,
     "start_time": "2021-05-20T02:15:42.565702",
     "status": "completed"
    },
    "tags": []
   },
   "source": [
    "# Kriptovaliutų naujienos"
   ]
  },
  {
   "cell_type": "code",
   "execution_count": 1,
   "id": "functioning-knowing",
   "metadata": {
    "execution": {
     "iopub.execute_input": "2021-05-20T02:15:42.616350Z",
     "iopub.status.busy": "2021-05-20T02:15:42.615654Z",
     "iopub.status.idle": "2021-05-20T02:15:44.020963Z",
     "shell.execute_reply": "2021-05-20T02:15:44.020331Z"
    },
    "papermill": {
     "duration": 1.427698,
     "end_time": "2021-05-20T02:15:44.021110",
     "exception": false,
     "start_time": "2021-05-20T02:15:42.593412",
     "status": "completed"
    },
    "tags": []
   },
   "outputs": [],
   "source": [
    "#hide_input\n",
    "import warnings\n",
    "warnings.filterwarnings('ignore')\n",
    "from scripts.read_data import read_api\n",
    "from scripts.read_data import read_news\n",
    "from scripts.read_data import read_covid\n",
    "import matplotlib.pyplot as plt \n",
    "from IPython.display import Markdown as md"
   ]
  },
  {
   "cell_type": "code",
   "execution_count": 2,
   "id": "shared-acceptance",
   "metadata": {
    "execution": {
     "iopub.execute_input": "2021-05-20T02:15:44.051170Z",
     "iopub.status.busy": "2021-05-20T02:15:44.050066Z",
     "iopub.status.idle": "2021-05-20T02:15:51.256665Z",
     "shell.execute_reply": "2021-05-20T02:15:51.257207Z"
    },
    "papermill": {
     "duration": 7.22476,
     "end_time": "2021-05-20T02:15:51.257385",
     "exception": false,
     "start_time": "2021-05-20T02:15:44.032625",
     "status": "completed"
    },
    "tags": []
   },
   "outputs": [],
   "source": [
    "#hide_input\n",
    "blockchain = read_news('blockchain') \n",
    "btc = read_news('btc') \n",
    "xrp = read_news('xrp') \n",
    "trx = read_news('trx') \n",
    "eth = read_news('eth')  \n",
    "ada = read_news('ada')\n",
    "exchange = read_news('exchange') "
   ]
  },
  {
   "cell_type": "code",
   "execution_count": 3,
   "id": "synthetic-notion",
   "metadata": {
    "execution": {
     "iopub.execute_input": "2021-05-20T02:15:51.286082Z",
     "iopub.status.busy": "2021-05-20T02:15:51.285423Z",
     "iopub.status.idle": "2021-05-20T02:15:51.288413Z",
     "shell.execute_reply": "2021-05-20T02:15:51.289160Z"
    },
    "papermill": {
     "duration": 0.020607,
     "end_time": "2021-05-20T02:15:51.289283",
     "exception": false,
     "start_time": "2021-05-20T02:15:51.268676",
     "status": "completed"
    },
    "tags": []
   },
   "outputs": [
    {
     "data": {
      "text/markdown": [
       "- Nvidia to Lower Crypto Mining Hashrates on GPUs to Address Current Mining Frenzy.  In an effort to address the ongoing silicon supply shortage and bloated GPU prices, hardware manufacturer Nvidia is set to reduce the hashrates on its latest GeForce graphics cards to disincentivize miners. In an announcement yesterday, the California-based company said that its latest graphics cards, which are set to begin shipping in late May, will [&#8230;] ... [| Skaityti daugiau](https://bitcoinist.com/nvidia-to-lower-crypto-mining-hashrates-on-gpus-to-address-current-mining-frenzy/?utm_source=rss&utm_medium=rss&utm_campaign=nvidia-to-lower-crypto-mining-hashrates-on-gpus-to-address-current-mining-frenzy) "
      ],
      "text/plain": [
       "<IPython.core.display.Markdown object>"
      ]
     },
     "execution_count": 3,
     "metadata": {},
     "output_type": "execute_result"
    }
   ],
   "source": [
    "#hide_input\n",
    "#md('##### {}'.format(titleBTC)) \n",
    "md(\"- {}{} {}{} [| Skaityti daugiau]({}) \".format(blockchain['title'],'. ', blockchain['body'], ' ...', blockchain['url']))"
   ]
  },
  {
   "cell_type": "code",
   "execution_count": 4,
   "id": "aging-caution",
   "metadata": {
    "execution": {
     "iopub.execute_input": "2021-05-20T02:15:51.318173Z",
     "iopub.status.busy": "2021-05-20T02:15:51.317500Z",
     "iopub.status.idle": "2021-05-20T02:15:51.321389Z",
     "shell.execute_reply": "2021-05-20T02:15:51.320814Z"
    },
    "papermill": {
     "duration": 0.020284,
     "end_time": "2021-05-20T02:15:51.321500",
     "exception": false,
     "start_time": "2021-05-20T02:15:51.301216",
     "status": "completed"
    },
    "tags": []
   },
   "outputs": [
    {
     "data": {
      "text/markdown": [
       "- Bitcoin Plummets 30% as “Extreme Fear” Sets on Crypto Markets.  The Crypto Fear and Greed Index, a metric that’s known to measure current market sentiment, fell to its lowest point of 2021. The index, which has continued to fall alongside Bitcoin prices, hit “extreme fear” levels, which have not been observed since April 2020 during the global financial market crash. The metric has continued to [&#8230;] ... [| Skaityti daugiau](https://bitcoinist.com/bitcoin-plummets-30-as-extreme-fear-sets-on-crypto-markets/?utm_source=rss&utm_medium=rss&utm_campaign=bitcoin-plummets-30-as-extreme-fear-sets-on-crypto-markets) "
      ],
      "text/plain": [
       "<IPython.core.display.Markdown object>"
      ]
     },
     "execution_count": 4,
     "metadata": {},
     "output_type": "execute_result"
    }
   ],
   "source": [
    "#hide_input\n",
    "#md('##### {}'.format(titleBTC)) \n",
    "md(\"- {}{} {}{} [| Skaityti daugiau]({}) \".format(btc['title'],'. ', btc['body'], ' ...', btc['url']))"
   ]
  },
  {
   "cell_type": "code",
   "execution_count": 5,
   "id": "organic-actress",
   "metadata": {
    "execution": {
     "iopub.execute_input": "2021-05-20T02:15:51.351939Z",
     "iopub.status.busy": "2021-05-20T02:15:51.351308Z",
     "iopub.status.idle": "2021-05-20T02:15:51.353813Z",
     "shell.execute_reply": "2021-05-20T02:15:51.354349Z"
    },
    "papermill": {
     "duration": 0.021018,
     "end_time": "2021-05-20T02:15:51.354490",
     "exception": false,
     "start_time": "2021-05-20T02:15:51.333472",
     "status": "completed"
    },
    "tags": []
   },
   "outputs": [
    {
     "data": {
      "text/markdown": [
       "- Ripple Partners With Egypt’s Largest Bank to Process Cross-Border Transactions.  Ripple has announced a new partnership with the largest bank of Egypt, the National Bank of Egypt (NBE) for the financial institution to use the firm’s RippleNet to connect with the UAE-based financial services provider LuLu Exchange. According to an announcement published by the firm, the partnership’s goal is to help NBE process cross-border transactions […] ... [| Skaityti daugiau](https://www.cryptoglobe.com/latest/2021/05/ripple-partners-with-egypts-largest-bank-to-process-cross-border-transactions/) "
      ],
      "text/plain": [
       "<IPython.core.display.Markdown object>"
      ]
     },
     "execution_count": 5,
     "metadata": {},
     "output_type": "execute_result"
    }
   ],
   "source": [
    "#hide_input\n",
    "#md('##### {}'.format(titleBTC)) \n",
    "md(\"- {}{} {}{} [| Skaityti daugiau]({}) \".format(xrp['title'],'. ', xrp['body'], ' ...', xrp['url']))"
   ]
  },
  {
   "cell_type": "code",
   "execution_count": 6,
   "id": "prompt-farmer",
   "metadata": {
    "execution": {
     "iopub.execute_input": "2021-05-20T02:15:51.383987Z",
     "iopub.status.busy": "2021-05-20T02:15:51.383362Z",
     "iopub.status.idle": "2021-05-20T02:15:51.386085Z",
     "shell.execute_reply": "2021-05-20T02:15:51.386571Z"
    },
    "papermill": {
     "duration": 0.020028,
     "end_time": "2021-05-20T02:15:51.386685",
     "exception": false,
     "start_time": "2021-05-20T02:15:51.366657",
     "status": "completed"
    },
    "tags": []
   },
   "outputs": [
    {
     "data": {
      "text/markdown": [
       "- Polkadot, THETA, Tron Price Analysis: 18 May.  Polkadot trimmed losses at $38.5 support and needed to maintain this to avoid a sharp sell-off. THETA traded within a descending triangle and a breakdown could result in a 20% retracement. Finally, a rise above $0.126-resistance could see a shift of market control over to the bullish side for Tron. Polkadot [DOT] Polkadot traded close [&#8230;] ... [| Skaityti daugiau](https://ambcrypto.com/polkadot-theta-tron-price-analysis-18-may/) "
      ],
      "text/plain": [
       "<IPython.core.display.Markdown object>"
      ]
     },
     "execution_count": 6,
     "metadata": {},
     "output_type": "execute_result"
    }
   ],
   "source": [
    "#hide_input\n",
    "#md('##### {}'.format(titleBTC)) \n",
    "md(\"- {}{} {}{} [| Skaityti daugiau]({}) \".format(trx['title'],'. ', trx['body'], ' ...', trx['url']))"
   ]
  },
  {
   "cell_type": "code",
   "execution_count": 7,
   "id": "illegal-greece",
   "metadata": {
    "execution": {
     "iopub.execute_input": "2021-05-20T02:15:51.418187Z",
     "iopub.status.busy": "2021-05-20T02:15:51.417583Z",
     "iopub.status.idle": "2021-05-20T02:15:51.420438Z",
     "shell.execute_reply": "2021-05-20T02:15:51.420996Z"
    },
    "papermill": {
     "duration": 0.021657,
     "end_time": "2021-05-20T02:15:51.421131",
     "exception": false,
     "start_time": "2021-05-20T02:15:51.399474",
     "status": "completed"
    },
    "tags": []
   },
   "outputs": [
    {
     "data": {
      "text/markdown": [
       "- Bitcoin Plummets 30% as “Extreme Fear” Sets on Crypto Markets.  The Crypto Fear and Greed Index, a metric that’s known to measure current market sentiment, fell to its lowest point of 2021. The index, which has continued to fall alongside Bitcoin prices, hit “extreme fear” levels, which have not been observed since April 2020 during the global financial market crash. The metric has continued to [&#8230;] ... [| Skaityti daugiau](https://bitcoinist.com/bitcoin-plummets-30-as-extreme-fear-sets-on-crypto-markets/?utm_source=rss&utm_medium=rss&utm_campaign=bitcoin-plummets-30-as-extreme-fear-sets-on-crypto-markets) "
      ],
      "text/plain": [
       "<IPython.core.display.Markdown object>"
      ]
     },
     "execution_count": 7,
     "metadata": {},
     "output_type": "execute_result"
    }
   ],
   "source": [
    "#hide_input\n",
    "#md('##### {}'.format(titleBTC)) \n",
    "md(\"- {}{} {}{} [| Skaityti daugiau]({}) \".format(eth['title'],'. ', eth['body'], ' ...', eth['url']))"
   ]
  },
  {
   "cell_type": "code",
   "execution_count": 8,
   "id": "sublime-lounge",
   "metadata": {
    "execution": {
     "iopub.execute_input": "2021-05-20T02:15:51.454235Z",
     "iopub.status.busy": "2021-05-20T02:15:51.453575Z",
     "iopub.status.idle": "2021-05-20T02:15:51.457870Z",
     "shell.execute_reply": "2021-05-20T02:15:51.456295Z"
    },
    "papermill": {
     "duration": 0.02386,
     "end_time": "2021-05-20T02:15:51.458002",
     "exception": false,
     "start_time": "2021-05-20T02:15:51.434142",
     "status": "completed"
    },
    "tags": []
   },
   "outputs": [
    {
     "data": {
      "text/markdown": [
       "- Cardano trader loses $45 million after ADA plunges 22%.  A single Cardano (ADA) trade worth over $45 million was liquidated today as the token fell along with the rest of the crypto market, data from markets tool Bybt shows. The post Cardano trader loses $45 million after ADA plunges 22% appeared first on CryptoSlate. ... [| Skaityti daugiau](https://cryptoslate.com/cardano-trader-loses-45-million-after-ada-plunges-22/) "
      ],
      "text/plain": [
       "<IPython.core.display.Markdown object>"
      ]
     },
     "execution_count": 8,
     "metadata": {},
     "output_type": "execute_result"
    }
   ],
   "source": [
    "#hide_input\n",
    "#md('##### {}'.format(titleBTC)) \n",
    "md(\"- {}{} {}{} [| Skaityti daugiau]({}) \".format(ada['title'],'. ', ada['body'], ' ...', ada['url']))"
   ]
  },
  {
   "cell_type": "code",
   "execution_count": 9,
   "id": "specified-ordering",
   "metadata": {
    "execution": {
     "iopub.execute_input": "2021-05-20T02:15:51.490581Z",
     "iopub.status.busy": "2021-05-20T02:15:51.489376Z",
     "iopub.status.idle": "2021-05-20T02:15:51.493730Z",
     "shell.execute_reply": "2021-05-20T02:15:51.494408Z"
    },
    "papermill": {
     "duration": 0.022794,
     "end_time": "2021-05-20T02:15:51.494560",
     "exception": false,
     "start_time": "2021-05-20T02:15:51.471766",
     "status": "completed"
    },
    "tags": []
   },
   "outputs": [
    {
     "data": {
      "text/markdown": [
       "- Defi Economy Lost $20 Billion This Week, Decentralized Exchange Volumes Still Sky High.  While crypto markets, in general, have been dropping significantly in value, the decentralized finance (defi) economy has shaved more than $21 billion during the last week. Statistics show that the total-value locked (TVL) in defi touched $87 billion on May 11, and since then the aggregate total has slid to $66 billion in value. Weekly [&#8230;] ... [| Skaityti daugiau](https://news.bitcoin.com/defi-economy-lost-20-billion-this-week-decentralized-exchange-volumes-still-sky-high/) "
      ],
      "text/plain": [
       "<IPython.core.display.Markdown object>"
      ]
     },
     "execution_count": 9,
     "metadata": {},
     "output_type": "execute_result"
    }
   ],
   "source": [
    "#hide_input\n",
    "#md('##### {}'.format(titleBTC)) \n",
    "md(\"- {}{} {}{} [| Skaityti daugiau]({}) \".format(exchange['title'],'. ', exchange['body'], ' ...', exchange['url']))"
   ]
  },
  {
   "cell_type": "code",
   "execution_count": null,
   "id": "tender-livestock",
   "metadata": {
    "papermill": {
     "duration": 0.014646,
     "end_time": "2021-05-20T02:15:51.524387",
     "exception": false,
     "start_time": "2021-05-20T02:15:51.509741",
     "status": "completed"
    },
    "tags": []
   },
   "outputs": [],
   "source": []
  },
  {
   "cell_type": "code",
   "execution_count": null,
   "id": "appreciated-diamond",
   "metadata": {
    "papermill": {
     "duration": 0.015322,
     "end_time": "2021-05-20T02:15:51.553773",
     "exception": false,
     "start_time": "2021-05-20T02:15:51.538451",
     "status": "completed"
    },
    "tags": []
   },
   "outputs": [],
   "source": []
  },
  {
   "cell_type": "code",
   "execution_count": null,
   "id": "romance-sweden",
   "metadata": {
    "papermill": {
     "duration": 0.013612,
     "end_time": "2021-05-20T02:15:51.581731",
     "exception": false,
     "start_time": "2021-05-20T02:15:51.568119",
     "status": "completed"
    },
    "tags": []
   },
   "outputs": [],
   "source": []
  },
  {
   "cell_type": "code",
   "execution_count": null,
   "id": "dietary-statistics",
   "metadata": {
    "papermill": {
     "duration": 0.014419,
     "end_time": "2021-05-20T02:15:51.609778",
     "exception": false,
     "start_time": "2021-05-20T02:15:51.595359",
     "status": "completed"
    },
    "tags": []
   },
   "outputs": [],
   "source": []
  }
 ],
 "metadata": {
  "kernelspec": {
   "display_name": "Python 3",
   "language": "python",
   "name": "python3"
  },
  "language_info": {
   "codemirror_mode": {
    "name": "ipython",
    "version": 3
   },
   "file_extension": ".py",
   "mimetype": "text/x-python",
   "name": "python",
   "nbconvert_exporter": "python",
   "pygments_lexer": "ipython3",
   "version": "3.6.13"
  },
  "papermill": {
   "default_parameters": {},
   "duration": 10.66181,
   "end_time": "2021-05-20T02:15:52.136672",
   "environment_variables": {},
   "exception": null,
   "input_path": "Market-News.ipynb",
   "output_path": "Market-News.ipynb",
   "parameters": {},
   "start_time": "2021-05-20T02:15:41.474862",
   "version": "2.2.2"
  }
 },
 "nbformat": 4,
 "nbformat_minor": 5
}