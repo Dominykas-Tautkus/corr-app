{
 "cells": [
  {
   "cell_type": "markdown",
   "id": "short-greensboro",
   "metadata": {
    "papermill": {
     "duration": 0.013405,
     "end_time": "2021-04-19T02:09:11.235669",
     "exception": false,
     "start_time": "2021-04-19T02:09:11.222264",
     "status": "completed"
    },
    "tags": []
   },
   "source": [
    "# Kriptovaliutų naujienos"
   ]
  },
  {
   "cell_type": "code",
   "execution_count": 1,
   "id": "functioning-knowing",
   "metadata": {
    "execution": {
     "iopub.execute_input": "2021-04-19T02:09:11.268332Z",
     "iopub.status.busy": "2021-04-19T02:09:11.267564Z",
     "iopub.status.idle": "2021-04-19T02:09:12.439041Z",
     "shell.execute_reply": "2021-04-19T02:09:12.438543Z"
    },
    "papermill": {
     "duration": 1.193358,
     "end_time": "2021-04-19T02:09:12.439176",
     "exception": false,
     "start_time": "2021-04-19T02:09:11.245818",
     "status": "completed"
    },
    "tags": []
   },
   "outputs": [],
   "source": [
    "#hide_input\n",
    "import warnings\n",
    "warnings.filterwarnings('ignore')\n",
    "from scripts.read_data import read_api\n",
    "from scripts.read_data import read_news\n",
    "from scripts.read_data import read_covid\n",
    "import matplotlib.pyplot as plt \n",
    "from IPython.display import Markdown as md"
   ]
  },
  {
   "cell_type": "code",
   "execution_count": 2,
   "id": "shared-acceptance",
   "metadata": {
    "execution": {
     "iopub.execute_input": "2021-04-19T02:09:12.464987Z",
     "iopub.status.busy": "2021-04-19T02:09:12.464416Z",
     "iopub.status.idle": "2021-04-19T02:09:20.162616Z",
     "shell.execute_reply": "2021-04-19T02:09:20.162093Z"
    },
    "papermill": {
     "duration": 7.713182,
     "end_time": "2021-04-19T02:09:20.162767",
     "exception": false,
     "start_time": "2021-04-19T02:09:12.449585",
     "status": "completed"
    },
    "tags": []
   },
   "outputs": [],
   "source": [
    "#hide_input\n",
    "blockchain = read_news('blockchain') \n",
    "btc = read_news('btc') \n",
    "xrp = read_news('xrp') \n",
    "trx = read_news('trx') \n",
    "eth = read_news('eth')  \n",
    "ada = read_news('ada')\n",
    "exchange = read_news('exchange') "
   ]
  },
  {
   "cell_type": "code",
   "execution_count": 3,
   "id": "synthetic-notion",
   "metadata": {
    "execution": {
     "iopub.execute_input": "2021-04-19T02:09:20.188068Z",
     "iopub.status.busy": "2021-04-19T02:09:20.187553Z",
     "iopub.status.idle": "2021-04-19T02:09:20.190523Z",
     "shell.execute_reply": "2021-04-19T02:09:20.189959Z"
    },
    "papermill": {
     "duration": 0.0184,
     "end_time": "2021-04-19T02:09:20.190674",
     "exception": false,
     "start_time": "2021-04-19T02:09:20.172274",
     "status": "completed"
    },
    "tags": []
   },
   "outputs": [
    {
     "data": {
      "text/markdown": [
       "- Soon every traditional financial instrument will be recognized as DeFi landscape.  DeFi platforms will soon help the sector merge with the real world Many platforms in the industry are seeking to bridge the gap with the real world Following the current scenario, it seems like soon, the traditional financial instruments will be recognized through the decentralized finance sector DeFi or the decentralized finance sector is widely [&#8230;] ... [| Skaityti daugiau](https://www.thecoinrepublic.com/2021/04/18/defi-sector-and-the-real-world-will-soon-merge/) "
      ],
      "text/plain": [
       "<IPython.core.display.Markdown object>"
      ]
     },
     "execution_count": 3,
     "metadata": {},
     "output_type": "execute_result"
    }
   ],
   "source": [
    "#hide_input\n",
    "#md('##### {}'.format(titleBTC)) \n",
    "md(\"- {}{} {}{} [| Skaityti daugiau]({}) \".format(blockchain['title'],'. ', blockchain['body'], ' ...', blockchain['url']))"
   ]
  },
  {
   "cell_type": "code",
   "execution_count": 4,
   "id": "aging-caution",
   "metadata": {
    "execution": {
     "iopub.execute_input": "2021-04-19T02:09:20.216796Z",
     "iopub.status.busy": "2021-04-19T02:09:20.216201Z",
     "iopub.status.idle": "2021-04-19T02:09:20.219125Z",
     "shell.execute_reply": "2021-04-19T02:09:20.218688Z"
    },
    "papermill": {
     "duration": 0.018607,
     "end_time": "2021-04-19T02:09:20.219226",
     "exception": false,
     "start_time": "2021-04-19T02:09:20.200619",
     "status": "completed"
    },
    "tags": []
   },
   "outputs": [
    {
     "data": {
      "text/markdown": [
       "- US FED president sees Bitcoin as the means of preserving the value.  US Federal Reserve Bank president has considered Bitcoin as a means of storing value The bank is concerned regarding the inflation in the country, which is ultimately diverting the investors and firms towards Bitcoin Although the US officials are not in favor of Bitcoin, but they are in favor of CBDC US Federal Reserve Bank [&#8230;] ... [| Skaityti daugiau](https://www.thecoinrepublic.com/2021/04/18/how-does-the-us-federal-reserve-bank-see-bitcoin/) "
      ],
      "text/plain": [
       "<IPython.core.display.Markdown object>"
      ]
     },
     "execution_count": 4,
     "metadata": {},
     "output_type": "execute_result"
    }
   ],
   "source": [
    "#hide_input\n",
    "#md('##### {}'.format(titleBTC)) \n",
    "md(\"- {}{} {}{} [| Skaityti daugiau]({}) \".format(btc['title'],'. ', btc['body'], ' ...', btc['url']))"
   ]
  },
  {
   "cell_type": "code",
   "execution_count": 5,
   "id": "organic-actress",
   "metadata": {
    "execution": {
     "iopub.execute_input": "2021-04-19T02:09:20.244365Z",
     "iopub.status.busy": "2021-04-19T02:09:20.243849Z",
     "iopub.status.idle": "2021-04-19T02:09:20.246702Z",
     "shell.execute_reply": "2021-04-19T02:09:20.247190Z"
    },
    "papermill": {
     "duration": 0.017148,
     "end_time": "2021-04-19T02:09:20.247301",
     "exception": false,
     "start_time": "2021-04-19T02:09:20.230153",
     "status": "completed"
    },
    "tags": []
   },
   "outputs": [
    {
     "data": {
      "text/markdown": [
       "- Why XRP is surging despite the SEC-Ripple lawsuit.  &#8220;XRP is doomed to fall to $0&#8221; &#8220;Looks like a mass dump is incoming&#8221; &#8220;Ripple and XRP have been found out. They will never recover.&#8221; These were just a few of the reactions that came in when the United States Securities and Exchange Commission filed charges against Ripple Labs and two of its execs citing [&#8230;] ... [| Skaityti daugiau](https://ambcrypto.com/heres-why-xrp-has-the-sec-to-thank-for-its-price-performance/) "
      ],
      "text/plain": [
       "<IPython.core.display.Markdown object>"
      ]
     },
     "execution_count": 5,
     "metadata": {},
     "output_type": "execute_result"
    }
   ],
   "source": [
    "#hide_input\n",
    "#md('##### {}'.format(titleBTC)) \n",
    "md(\"- {}{} {}{} [| Skaityti daugiau]({}) \".format(xrp['title'],'. ', xrp['body'], ' ...', xrp['url']))"
   ]
  },
  {
   "cell_type": "code",
   "execution_count": 6,
   "id": "prompt-farmer",
   "metadata": {
    "execution": {
     "iopub.execute_input": "2021-04-19T02:09:20.272360Z",
     "iopub.status.busy": "2021-04-19T02:09:20.271437Z",
     "iopub.status.idle": "2021-04-19T02:09:20.274941Z",
     "shell.execute_reply": "2021-04-19T02:09:20.275429Z"
    },
    "papermill": {
     "duration": 0.018329,
     "end_time": "2021-04-19T02:09:20.275540",
     "exception": false,
     "start_time": "2021-04-19T02:09:20.257211",
     "status": "completed"
    },
    "tags": []
   },
   "outputs": [
    {
     "data": {
      "text/markdown": [
       "- Tron Price Analysis: 18 April.  The short-term outlook for most cryptocurrencies was ugly, and for Tron, even the longer timeframes showed that the bullish momentum behind recent gains had been neutralized. Recovery is possible in the coming weeks, but a Bitcoin surge could see capital rush into BTC and out of alts. Tron 12-hour chart On the charts, a pullback [&#8230;] ... [| Skaityti daugiau](https://ambcrypto.com/tron-price-analysis-18-april/) "
      ],
      "text/plain": [
       "<IPython.core.display.Markdown object>"
      ]
     },
     "execution_count": 6,
     "metadata": {},
     "output_type": "execute_result"
    }
   ],
   "source": [
    "#hide_input\n",
    "#md('##### {}'.format(titleBTC)) \n",
    "md(\"- {}{} {}{} [| Skaityti daugiau]({}) \".format(trx['title'],'. ', trx['body'], ' ...', trx['url']))"
   ]
  },
  {
   "cell_type": "code",
   "execution_count": 7,
   "id": "illegal-greece",
   "metadata": {
    "execution": {
     "iopub.execute_input": "2021-04-19T02:09:20.301746Z",
     "iopub.status.busy": "2021-04-19T02:09:20.301007Z",
     "iopub.status.idle": "2021-04-19T02:09:20.305228Z",
     "shell.execute_reply": "2021-04-19T02:09:20.304315Z"
    },
    "papermill": {
     "duration": 0.01914,
     "end_time": "2021-04-19T02:09:20.305351",
     "exception": false,
     "start_time": "2021-04-19T02:09:20.286211",
     "status": "completed"
    },
    "tags": []
   },
   "outputs": [
    {
     "data": {
      "text/markdown": [
       "- Here Are Ethereum’s 5 Biggest Competitors According to Crypto Analyst Lark Davis.  In a recent video for his very popular YouTube channel, popular New Zealand-based crypto analyst and influencer Lark Davis (@TheCryptoLark on Twitter) talked about five major blockchains that could take market share from Ethereum. Davis made his comments in a video he released on April 14. Davis prefaced the video by calling himself a “massive” Ethereum supporter but noted the […] ... [| Skaityti daugiau](https://www.cryptoglobe.com/latest/2021/04/here-are-ethereums-5-biggest-competitors-according-to-crypto-analyst-lark-davis/) "
      ],
      "text/plain": [
       "<IPython.core.display.Markdown object>"
      ]
     },
     "execution_count": 7,
     "metadata": {},
     "output_type": "execute_result"
    }
   ],
   "source": [
    "#hide_input\n",
    "#md('##### {}'.format(titleBTC)) \n",
    "md(\"- {}{} {}{} [| Skaityti daugiau]({}) \".format(eth['title'],'. ', eth['body'], ' ...', eth['url']))"
   ]
  },
  {
   "cell_type": "code",
   "execution_count": 8,
   "id": "sublime-lounge",
   "metadata": {
    "execution": {
     "iopub.execute_input": "2021-04-19T02:09:20.331510Z",
     "iopub.status.busy": "2021-04-19T02:09:20.330776Z",
     "iopub.status.idle": "2021-04-19T02:09:20.333560Z",
     "shell.execute_reply": "2021-04-19T02:09:20.333045Z"
    },
    "papermill": {
     "duration": 0.017514,
     "end_time": "2021-04-19T02:09:20.333664",
     "exception": false,
     "start_time": "2021-04-19T02:09:20.316150",
     "status": "completed"
    },
    "tags": []
   },
   "outputs": [
    {
     "data": {
      "text/markdown": [
       "- Cardano Founder Charles Hoskinson Predicts Dogecoin’s Massive Collapse.  Last week, Charles Hoskinson, Co-Founder and CEO of IOHK, the company responsible for building Cardano, talked about the dangers of the current Dogecoin frenzy. In a video titled “Doge Bubble Edition” that was released on his YouTube channel on April 16, Hoskinson said: “DOGE has always been, for our industry, kind of an inside joke, […] ... [| Skaityti daugiau](https://www.cryptoglobe.com/latest/2021/04/cardano-founder-charles-hoskinson-predicts-dogecoins-massive-collapse/) "
      ],
      "text/plain": [
       "<IPython.core.display.Markdown object>"
      ]
     },
     "execution_count": 8,
     "metadata": {},
     "output_type": "execute_result"
    }
   ],
   "source": [
    "#hide_input\n",
    "#md('##### {}'.format(titleBTC)) \n",
    "md(\"- {}{} {}{} [| Skaityti daugiau]({}) \".format(ada['title'],'. ', ada['body'], ' ...', ada['url']))"
   ]
  },
  {
   "cell_type": "code",
   "execution_count": 9,
   "id": "specified-ordering",
   "metadata": {
    "execution": {
     "iopub.execute_input": "2021-04-19T02:09:20.361477Z",
     "iopub.status.busy": "2021-04-19T02:09:20.360962Z",
     "iopub.status.idle": "2021-04-19T02:09:20.363656Z",
     "shell.execute_reply": "2021-04-19T02:09:20.363143Z"
    },
    "papermill": {
     "duration": 0.018354,
     "end_time": "2021-04-19T02:09:20.363755",
     "exception": false,
     "start_time": "2021-04-19T02:09:20.345401",
     "status": "completed"
    },
    "tags": []
   },
   "outputs": [
    {
     "data": {
      "text/markdown": [
       "- LATOKEN exchange for offering users staking options leading to unprecedented returns.  LATOKEN is one of the fastest-growing exchanges with 1.3 million accounts in just three years The firm aims to introduce a new feature that enables users to stake their tokens for higher rewards Only a few tokens have initially been deployed for staking trials Almost all crypto exchanges have some big news to share, which [&#8230;] ... [| Skaityti daugiau](https://www.thecoinrepublic.com/2021/04/18/latoken-exchange-for-offering-users-staking-options-leading-to-unprecedented-returns/) "
      ],
      "text/plain": [
       "<IPython.core.display.Markdown object>"
      ]
     },
     "execution_count": 9,
     "metadata": {},
     "output_type": "execute_result"
    }
   ],
   "source": [
    "#hide_input\n",
    "#md('##### {}'.format(titleBTC)) \n",
    "md(\"- {}{} {}{} [| Skaityti daugiau]({}) \".format(exchange['title'],'. ', exchange['body'], ' ...', exchange['url']))"
   ]
  },
  {
   "cell_type": "code",
   "execution_count": null,
   "id": "tender-livestock",
   "metadata": {
    "papermill": {
     "duration": 0.011914,
     "end_time": "2021-04-19T02:09:20.387319",
     "exception": false,
     "start_time": "2021-04-19T02:09:20.375405",
     "status": "completed"
    },
    "tags": []
   },
   "outputs": [],
   "source": []
  },
  {
   "cell_type": "code",
   "execution_count": null,
   "id": "appreciated-diamond",
   "metadata": {
    "papermill": {
     "duration": 0.011665,
     "end_time": "2021-04-19T02:09:20.410822",
     "exception": false,
     "start_time": "2021-04-19T02:09:20.399157",
     "status": "completed"
    },
    "tags": []
   },
   "outputs": [],
   "source": []
  },
  {
   "cell_type": "code",
   "execution_count": null,
   "id": "romance-sweden",
   "metadata": {
    "papermill": {
     "duration": 0.011817,
     "end_time": "2021-04-19T02:09:20.434676",
     "exception": false,
     "start_time": "2021-04-19T02:09:20.422859",
     "status": "completed"
    },
    "tags": []
   },
   "outputs": [],
   "source": []
  },
  {
   "cell_type": "code",
   "execution_count": null,
   "id": "dietary-statistics",
   "metadata": {
    "papermill": {
     "duration": 0.011732,
     "end_time": "2021-04-19T02:09:20.458483",
     "exception": false,
     "start_time": "2021-04-19T02:09:20.446751",
     "status": "completed"
    },
    "tags": []
   },
   "outputs": [],
   "source": []
  }
 ],
 "metadata": {
  "kernelspec": {
   "display_name": "Python 3",
   "language": "python",
   "name": "python3"
  },
  "language_info": {
   "codemirror_mode": {
    "name": "ipython",
    "version": 3
   },
   "file_extension": ".py",
   "mimetype": "text/x-python",
   "name": "python",
   "nbconvert_exporter": "python",
   "pygments_lexer": "ipython3",
   "version": "3.6.13"
  },
  "papermill": {
   "default_parameters": {},
   "duration": 10.803777,
   "end_time": "2021-04-19T02:09:20.775813",
   "environment_variables": {},
   "exception": null,
   "input_path": "Market-News.ipynb",
   "output_path": "Market-News.ipynb",
   "parameters": {},
   "start_time": "2021-04-19T02:09:09.972036",
   "version": "2.2.2"
  }
 },
 "nbformat": 4,
 "nbformat_minor": 5
}