{
 "cells": [
  {
   "cell_type": "markdown",
   "id": "short-greensboro",
   "metadata": {
    "papermill": {
     "duration": 0.014758,
     "end_time": "2021-07-06T02:01:25.510861",
     "exception": false,
     "start_time": "2021-07-06T02:01:25.496103",
     "status": "completed"
    },
    "tags": []
   },
   "source": [
    "# Kriptovaliutų naujienos"
   ]
  },
  {
   "cell_type": "code",
   "execution_count": 1,
   "id": "functioning-knowing",
   "metadata": {
    "execution": {
     "iopub.execute_input": "2021-07-06T02:01:25.544181Z",
     "iopub.status.busy": "2021-07-06T02:01:25.543436Z",
     "iopub.status.idle": "2021-07-06T02:01:26.899113Z",
     "shell.execute_reply": "2021-07-06T02:01:26.899583Z"
    },
    "papermill": {
     "duration": 1.377642,
     "end_time": "2021-07-06T02:01:26.899760",
     "exception": false,
     "start_time": "2021-07-06T02:01:25.522118",
     "status": "completed"
    },
    "tags": []
   },
   "outputs": [],
   "source": [
    "#hide_input\n",
    "import warnings\n",
    "warnings.filterwarnings('ignore')\n",
    "from scripts.read_data import read_api\n",
    "from scripts.read_data import read_news\n",
    "from scripts.read_data import read_covid\n",
    "import matplotlib.pyplot as plt \n",
    "from IPython.display import Markdown as md"
   ]
  },
  {
   "cell_type": "code",
   "execution_count": 2,
   "id": "shared-acceptance",
   "metadata": {
    "execution": {
     "iopub.execute_input": "2021-07-06T02:01:26.930393Z",
     "iopub.status.busy": "2021-07-06T02:01:26.929475Z",
     "iopub.status.idle": "2021-07-06T02:01:36.224330Z",
     "shell.execute_reply": "2021-07-06T02:01:36.224778Z"
    },
    "papermill": {
     "duration": 9.313308,
     "end_time": "2021-07-06T02:01:36.224950",
     "exception": false,
     "start_time": "2021-07-06T02:01:26.911642",
     "status": "completed"
    },
    "tags": []
   },
   "outputs": [],
   "source": [
    "#hide_input\n",
    "blockchain = read_news('blockchain') \n",
    "btc = read_news('btc') \n",
    "xrp = read_news('xrp') \n",
    "trx = read_news('trx') \n",
    "eth = read_news('eth')  \n",
    "ada = read_news('ada')\n",
    "exchange = read_news('exchange') "
   ]
  },
  {
   "cell_type": "code",
   "execution_count": 3,
   "id": "synthetic-notion",
   "metadata": {
    "execution": {
     "iopub.execute_input": "2021-07-06T02:01:36.250261Z",
     "iopub.status.busy": "2021-07-06T02:01:36.249559Z",
     "iopub.status.idle": "2021-07-06T02:01:36.255407Z",
     "shell.execute_reply": "2021-07-06T02:01:36.256086Z"
    },
    "papermill": {
     "duration": 0.020335,
     "end_time": "2021-07-06T02:01:36.256248",
     "exception": false,
     "start_time": "2021-07-06T02:01:36.235913",
     "status": "completed"
    },
    "tags": []
   },
   "outputs": [
    {
     "data": {
      "text/markdown": [
       "- This new protocol is pushing the boundaries of what an NFT can do [INTERVIEW].  CryptoSlate recently had the opportunity to chat with Ben Lakoff, the co-founder of Charged Particles, a blockchain-agnostic NFT protocol that allows users to deposit any ERC tokens into any Non-Fungible Token (NFT).The post This new protocol is pushing the boundaries of what an NFT can do [INTERVIEW] appeared first on CryptoSlate. ... [| Skaityti daugiau](https://cryptoslate.com/this-new-protocol-is-pushing-the-boundaries-of-what-an-nft-can-do-interview/) "
      ],
      "text/plain": [
       "<IPython.core.display.Markdown object>"
      ]
     },
     "execution_count": 3,
     "metadata": {},
     "output_type": "execute_result"
    }
   ],
   "source": [
    "#hide_input\n",
    "#md('##### {}'.format(titleBTC)) \n",
    "md(\"- {}{} {}{} [| Skaityti daugiau]({}) \".format(blockchain['title'],'. ', blockchain['body'], ' ...', blockchain['url']))"
   ]
  },
  {
   "cell_type": "code",
   "execution_count": 4,
   "id": "aging-caution",
   "metadata": {
    "execution": {
     "iopub.execute_input": "2021-07-06T02:01:36.285461Z",
     "iopub.status.busy": "2021-07-06T02:01:36.283383Z",
     "iopub.status.idle": "2021-07-06T02:01:36.287989Z",
     "shell.execute_reply": "2021-07-06T02:01:36.288478Z"
    },
    "papermill": {
     "duration": 0.020971,
     "end_time": "2021-07-06T02:01:36.288605",
     "exception": false,
     "start_time": "2021-07-06T02:01:36.267634",
     "status": "completed"
    },
    "tags": []
   },
   "outputs": [
    {
     "data": {
      "text/markdown": [
       "- Bitcoin Network’s User Growth ‘Near All-Time High’ Says on-Chain Analyst Willy Woo.  Popular on-chain analyst and market commentator Willy Woo has revealed that he has seen signals suggesting that the Bitcoin network’s user growth is now “near an all-time high,” at a time in which the price of bitcoin has been ranging between $40,000 and $30,000. The analyst’s words came during an interview on the What Bitcoin […] ... [| Skaityti daugiau](https://www.cryptoglobe.com/latest/2021/07/bitcoin-networks-user-growth-near-all-time-high-says-on-chain-analyst-willy-woo/) "
      ],
      "text/plain": [
       "<IPython.core.display.Markdown object>"
      ]
     },
     "execution_count": 4,
     "metadata": {},
     "output_type": "execute_result"
    }
   ],
   "source": [
    "#hide_input\n",
    "#md('##### {}'.format(titleBTC)) \n",
    "md(\"- {}{} {}{} [| Skaityti daugiau]({}) \".format(btc['title'],'. ', btc['body'], ' ...', btc['url']))"
   ]
  },
  {
   "cell_type": "code",
   "execution_count": 5,
   "id": "organic-actress",
   "metadata": {
    "execution": {
     "iopub.execute_input": "2021-07-06T02:01:36.318272Z",
     "iopub.status.busy": "2021-07-06T02:01:36.317653Z",
     "iopub.status.idle": "2021-07-06T02:01:36.321397Z",
     "shell.execute_reply": "2021-07-06T02:01:36.321853Z"
    },
    "papermill": {
     "duration": 0.021545,
     "end_time": "2021-07-06T02:01:36.322084",
     "exception": false,
     "start_time": "2021-07-06T02:01:36.300539",
     "status": "completed"
    },
    "tags": []
   },
   "outputs": [
    {
     "data": {
      "text/markdown": [
       "- XRP, Cardano, Binance Coin Price Analysis: 05 July.  After Bitcoin rejected the price level close to $36,000 and crumbled, the altcoins followed suit. The spot market appeared to be driven by high bearish volatility, however, trends may change in the long-term . XRP, Cardano [ADA], and Binance Coin [BNB] markets were also volatile which could be a result of a breakout or an [&#8230;] ... [| Skaityti daugiau](https://ambcrypto.com/xrp-cardano-binance-coin-price-analysis-05-july/) "
      ],
      "text/plain": [
       "<IPython.core.display.Markdown object>"
      ]
     },
     "execution_count": 5,
     "metadata": {},
     "output_type": "execute_result"
    }
   ],
   "source": [
    "#hide_input\n",
    "#md('##### {}'.format(titleBTC)) \n",
    "md(\"- {}{} {}{} [| Skaityti daugiau]({}) \".format(xrp['title'],'. ', xrp['body'], ' ...', xrp['url']))"
   ]
  },
  {
   "cell_type": "code",
   "execution_count": 6,
   "id": "prompt-farmer",
   "metadata": {
    "execution": {
     "iopub.execute_input": "2021-07-06T02:01:36.352183Z",
     "iopub.status.busy": "2021-07-06T02:01:36.351584Z",
     "iopub.status.idle": "2021-07-06T02:01:36.354731Z",
     "shell.execute_reply": "2021-07-06T02:01:36.355372Z"
    },
    "papermill": {
     "duration": 0.021773,
     "end_time": "2021-07-06T02:01:36.355575",
     "exception": false,
     "start_time": "2021-07-06T02:01:36.333802",
     "status": "completed"
    },
    "tags": []
   },
   "outputs": [
    {
     "data": {
      "text/markdown": [
       "- Tron’s (TRX) Total Value Locked in DeFi Exceeds $8B.  Total value locked on Tron&#8217;s DeFi ecosystem has exceeded $8 Billion Tronscan.org has launched a new feature that tracks the total value locked in the network&#8217;s DeFi ecosystem The Tron network continues to focus on increasing its stablecoin offerings as demand grows The Tron (TRX) network has reached a new milestone in the form of total value locked on its DeFi ecosystem. According to Tronscan.org, the total value locked on the Tron network now stands at $8.096 Billion as seen [&#8230;] ... [| Skaityti daugiau](https://en.ethereumworldnews.com/trons-trx-total-value-locked-in-defi-exceeds-8b/) "
      ],
      "text/plain": [
       "<IPython.core.display.Markdown object>"
      ]
     },
     "execution_count": 6,
     "metadata": {},
     "output_type": "execute_result"
    }
   ],
   "source": [
    "#hide_input\n",
    "#md('##### {}'.format(titleBTC)) \n",
    "md(\"- {}{} {}{} [| Skaityti daugiau]({}) \".format(trx['title'],'. ', trx['body'], ' ...', trx['url']))"
   ]
  },
  {
   "cell_type": "code",
   "execution_count": 7,
   "id": "illegal-greece",
   "metadata": {
    "execution": {
     "iopub.execute_input": "2021-07-06T02:01:36.387267Z",
     "iopub.status.busy": "2021-07-06T02:01:36.386592Z",
     "iopub.status.idle": "2021-07-06T02:01:36.389413Z",
     "shell.execute_reply": "2021-07-06T02:01:36.389863Z"
    },
    "papermill": {
     "duration": 0.021582,
     "end_time": "2021-07-06T02:01:36.390072",
     "exception": false,
     "start_time": "2021-07-06T02:01:36.368490",
     "status": "completed"
    },
    "tags": []
   },
   "outputs": [
    {
     "data": {
      "text/markdown": [
       "- Ethereum Exchange Reserves Plummet To More Than Two-Year Low.  Ethereum exchange reserves have now hit a new low for the first time in over two years. According to CryptoQuant, this number has plummeted from 26 million from June last year to less than 21 million by July 2021. This seems to be in tandem with the increase in the price of Ethereum. Over the [&#8230;] ... [| Skaityti daugiau](https://bitcoinist.com/ethereum-exchange-reserves-plummet-to-more-than-two-year-low/?utm_source=rss&utm_medium=rss&utm_campaign=ethereum-exchange-reserves-plummet-to-more-than-two-year-low) "
      ],
      "text/plain": [
       "<IPython.core.display.Markdown object>"
      ]
     },
     "execution_count": 7,
     "metadata": {},
     "output_type": "execute_result"
    }
   ],
   "source": [
    "#hide_input\n",
    "#md('##### {}'.format(titleBTC)) \n",
    "md(\"- {}{} {}{} [| Skaityti daugiau]({}) \".format(eth['title'],'. ', eth['body'], ' ...', eth['url']))"
   ]
  },
  {
   "cell_type": "code",
   "execution_count": 8,
   "id": "sublime-lounge",
   "metadata": {
    "execution": {
     "iopub.execute_input": "2021-07-06T02:01:36.422323Z",
     "iopub.status.busy": "2021-07-06T02:01:36.421553Z",
     "iopub.status.idle": "2021-07-06T02:01:36.424714Z",
     "shell.execute_reply": "2021-07-06T02:01:36.425257Z"
    },
    "papermill": {
     "duration": 0.023021,
     "end_time": "2021-07-06T02:01:36.425551",
     "exception": false,
     "start_time": "2021-07-06T02:01:36.402530",
     "status": "completed"
    },
    "tags": []
   },
   "outputs": [
    {
     "data": {
      "text/markdown": [
       "- Tensions mount as soft deadline for Cardano smart contracts approaches.  Almost a year ago, Alex Saunders of Nugget&#8217;s News said Cardano would not have smart contracts ready by this time next year. The post Tensions mount as soft deadline for Cardano smart contracts approaches appeared first on CryptoSlate. ... [| Skaityti daugiau](https://cryptoslate.com/tensions-mount-as-soft-deadline-for-cardano-smart-contracts-approaches/) "
      ],
      "text/plain": [
       "<IPython.core.display.Markdown object>"
      ]
     },
     "execution_count": 8,
     "metadata": {},
     "output_type": "execute_result"
    }
   ],
   "source": [
    "#hide_input\n",
    "#md('##### {}'.format(titleBTC)) \n",
    "md(\"- {}{} {}{} [| Skaityti daugiau]({}) \".format(ada['title'],'. ', ada['body'], ' ...', ada['url']))"
   ]
  },
  {
   "cell_type": "code",
   "execution_count": 9,
   "id": "specified-ordering",
   "metadata": {
    "execution": {
     "iopub.execute_input": "2021-07-06T02:01:36.457004Z",
     "iopub.status.busy": "2021-07-06T02:01:36.456405Z",
     "iopub.status.idle": "2021-07-06T02:01:36.459144Z",
     "shell.execute_reply": "2021-07-06T02:01:36.459600Z"
    },
    "papermill": {
     "duration": 0.020982,
     "end_time": "2021-07-06T02:01:36.459721",
     "exception": false,
     "start_time": "2021-07-06T02:01:36.438739",
     "status": "completed"
    },
    "tags": []
   },
   "outputs": [
    {
     "data": {
      "text/markdown": [
       "- XRP, Cardano, Binance Coin Price Analysis: 05 July.  After Bitcoin rejected the price level close to $36,000 and crumbled, the altcoins followed suit. The spot market appeared to be driven by high bearish volatility, however, trends may change in the long-term . XRP, Cardano [ADA], and Binance Coin [BNB] markets were also volatile which could be a result of a breakout or an [&#8230;] ... [| Skaityti daugiau](https://ambcrypto.com/xrp-cardano-binance-coin-price-analysis-05-july/) "
      ],
      "text/plain": [
       "<IPython.core.display.Markdown object>"
      ]
     },
     "execution_count": 9,
     "metadata": {},
     "output_type": "execute_result"
    }
   ],
   "source": [
    "#hide_input\n",
    "#md('##### {}'.format(titleBTC)) \n",
    "md(\"- {}{} {}{} [| Skaityti daugiau]({}) \".format(exchange['title'],'. ', exchange['body'], ' ...', exchange['url']))"
   ]
  },
  {
   "cell_type": "code",
   "execution_count": null,
   "id": "tender-livestock",
   "metadata": {
    "papermill": {
     "duration": 0.012842,
     "end_time": "2021-07-06T02:01:36.485699",
     "exception": false,
     "start_time": "2021-07-06T02:01:36.472857",
     "status": "completed"
    },
    "tags": []
   },
   "outputs": [],
   "source": []
  },
  {
   "cell_type": "code",
   "execution_count": null,
   "id": "appreciated-diamond",
   "metadata": {
    "papermill": {
     "duration": 0.012437,
     "end_time": "2021-07-06T02:01:36.510843",
     "exception": false,
     "start_time": "2021-07-06T02:01:36.498406",
     "status": "completed"
    },
    "tags": []
   },
   "outputs": [],
   "source": []
  },
  {
   "cell_type": "code",
   "execution_count": null,
   "id": "romance-sweden",
   "metadata": {
    "papermill": {
     "duration": 0.012583,
     "end_time": "2021-07-06T02:01:36.536179",
     "exception": false,
     "start_time": "2021-07-06T02:01:36.523596",
     "status": "completed"
    },
    "tags": []
   },
   "outputs": [],
   "source": []
  },
  {
   "cell_type": "code",
   "execution_count": null,
   "id": "dietary-statistics",
   "metadata": {
    "papermill": {
     "duration": 0.012652,
     "end_time": "2021-07-06T02:01:36.562204",
     "exception": false,
     "start_time": "2021-07-06T02:01:36.549552",
     "status": "completed"
    },
    "tags": []
   },
   "outputs": [],
   "source": []
  }
 ],
 "metadata": {
  "kernelspec": {
   "display_name": "Python 3",
   "language": "python",
   "name": "python3"
  },
  "language_info": {
   "codemirror_mode": {
    "name": "ipython",
    "version": 3
   },
   "file_extension": ".py",
   "mimetype": "text/x-python",
   "name": "python",
   "nbconvert_exporter": "python",
   "pygments_lexer": "ipython3",
   "version": "3.6.13"
  },
  "papermill": {
   "default_parameters": {},
   "duration": 12.530948,
   "end_time": "2021-07-06T02:01:36.982404",
   "environment_variables": {},
   "exception": null,
   "input_path": "Market-News.ipynb",
   "output_path": "Market-News.ipynb",
   "parameters": {},
   "start_time": "2021-07-06T02:01:24.451456",
   "version": "2.2.2"
  }
 },
 "nbformat": 4,
 "nbformat_minor": 5
}