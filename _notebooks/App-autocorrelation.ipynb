{
 "cells": [
  {
   "cell_type": "markdown",
   "id": "c49c73d6",
   "metadata": {
    "tags": [
     "papermill-error-cell-tag"
    ]
   },
   "source": [
    "<span style=\"color:red; font-family:Helvetica Neue, Helvetica, Arial, sans-serif; font-size:2em;\">An Exception was encountered at '<a href=\"#papermill-error-cell\">In [2]</a>'.</span>"
   ]
  },
  {
   "cell_type": "markdown",
   "id": "tight-humanity",
   "metadata": {
    "papermill": {
     "duration": 0.014207,
     "end_time": "2021-04-14T02:06:02.982280",
     "exception": false,
     "start_time": "2021-04-14T02:06:02.968073",
     "status": "completed"
    },
    "tags": []
   },
   "source": [
    "# Autokoreliacija\n",
    "> Kriptovaliutu ir ICO autokoreliacija\n",
    "\n",
    "- toc: true \n",
    "- badges: true\n",
    "- comments: false\n",
    "- categories: [Dominykas Tautkus]\n",
    "- image: images/autocorrelation.png"
   ]
  },
  {
   "cell_type": "code",
   "execution_count": null,
   "id": "analyzed-roommate",
   "metadata": {
    "papermill": {
     "duration": 0.010214,
     "end_time": "2021-04-14T02:06:03.004919",
     "exception": false,
     "start_time": "2021-04-14T02:06:02.994705",
     "status": "completed"
    },
    "tags": []
   },
   "outputs": [],
   "source": []
  },
  {
   "cell_type": "code",
   "execution_count": 1,
   "id": "innocent-spice",
   "metadata": {
    "execution": {
     "iopub.execute_input": "2021-04-14T02:06:03.042456Z",
     "iopub.status.busy": "2021-04-14T02:06:03.040856Z",
     "iopub.status.idle": "2021-04-14T02:06:04.712375Z",
     "shell.execute_reply": "2021-04-14T02:06:04.711367Z"
    },
    "papermill": {
     "duration": 1.696609,
     "end_time": "2021-04-14T02:06:04.712555",
     "exception": false,
     "start_time": "2021-04-14T02:06:03.015946",
     "status": "completed"
    },
    "tags": []
   },
   "outputs": [],
   "source": [
    "#hide\n",
    "%load_ext autoreload\n",
    "%autoreload 2\n",
    "import plotly.graph_objects as go\n",
    "import pandas as pd\n",
    "import matplotlib.pyplot as plt\n",
    "import plotly.express as px\n",
    "from scripts.read_data import read_api\n",
    "import seaborn as sns\n",
    "sns.set() \n"
   ]
  },
  {
   "cell_type": "markdown",
   "id": "7c83ca32",
   "metadata": {
    "tags": [
     "papermill-error-cell-tag"
    ]
   },
   "source": [
    "<span id=\"papermill-error-cell\" style=\"color:red; font-family:Helvetica Neue, Helvetica, Arial, sans-serif; font-size:2em;\">Execution using papermill encountered an exception here and stopped:</span>"
   ]
  },
  {
   "cell_type": "code",
   "execution_count": 2,
   "id": "dressed-police",
   "metadata": {
    "execution": {
     "iopub.execute_input": "2021-04-14T02:06:04.741444Z",
     "iopub.status.busy": "2021-04-14T02:06:04.740616Z",
     "iopub.status.idle": "2021-04-14T02:07:02.001402Z",
     "shell.execute_reply": "2021-04-14T02:07:02.002038Z"
    },
    "papermill": {
     "duration": 57.278473,
     "end_time": "2021-04-14T02:07:02.002273",
     "exception": true,
     "start_time": "2021-04-14T02:06:04.723800",
     "status": "failed"
    },
    "tags": []
   },
   "outputs": [
    {
     "name": "stderr",
     "output_type": "stream",
     "text": [
      "/home/runner/work/corr-app/corr-app/_notebooks/scripts/read_data.py:187: SettingWithCopyWarning:\n",
      "\n",
      "\n",
      "A value is trying to be set on a copy of a slice from a DataFrame.\n",
      "Try using .loc[row_indexer,col_indexer] = value instead\n",
      "\n",
      "See the caveats in the documentation: https://pandas.pydata.org/pandas-docs/stable/user_guide/indexing.html#returning-a-view-versus-a-copy\n",
      "\n"
     ]
    },
    {
     "ename": "KeyError",
     "evalue": "'Data'",
     "output_type": "error",
     "traceback": [
      "\u001b[0;31m---------------------------------------------------------------------------\u001b[0m",
      "\u001b[0;31mKeyError\u001b[0m                                  Traceback (most recent call last)",
      "\u001b[0;32m<ipython-input-2-c4ff9149db4f>\u001b[0m in \u001b[0;36m<module>\u001b[0;34m\u001b[0m\n\u001b[1;32m      1\u001b[0m \u001b[0;31m#hide\u001b[0m\u001b[0;34m\u001b[0m\u001b[0;34m\u001b[0m\u001b[0;34m\u001b[0m\u001b[0m\n\u001b[0;32m----> 2\u001b[0;31m \u001b[0mdf_all\u001b[0m \u001b[0;34m=\u001b[0m \u001b[0mread_api\u001b[0m\u001b[0;34m(\u001b[0m\u001b[0;34m)\u001b[0m\u001b[0;34m\u001b[0m\u001b[0;34m\u001b[0m\u001b[0m\n\u001b[0m",
      "\u001b[0;32m~/work/corr-app/corr-app/_notebooks/scripts/read_data.py\u001b[0m in \u001b[0;36mread_api\u001b[0;34m(short_frm)\u001b[0m\n\u001b[1;32m    137\u001b[0m     \u001b[0mXRP\u001b[0m \u001b[0;34m=\u001b[0m \u001b[0mformat_response\u001b[0m\u001b[0;34m(\u001b[0m\u001b[0mXRPhistory_url\u001b[0m\u001b[0;34m,\u001b[0m \u001b[0;34m'XRP'\u001b[0m\u001b[0;34m)\u001b[0m\u001b[0;34m\u001b[0m\u001b[0;34m\u001b[0m\u001b[0m\n\u001b[1;32m    138\u001b[0m     \u001b[0mNEO\u001b[0m \u001b[0;34m=\u001b[0m \u001b[0mformat_response\u001b[0m\u001b[0;34m(\u001b[0m\u001b[0mNEOhistory_url\u001b[0m\u001b[0;34m,\u001b[0m \u001b[0;34m'NEO'\u001b[0m\u001b[0;34m)\u001b[0m\u001b[0;34m\u001b[0m\u001b[0;34m\u001b[0m\u001b[0m\n\u001b[0;32m--> 139\u001b[0;31m     \u001b[0mTRX\u001b[0m \u001b[0;34m=\u001b[0m \u001b[0mformat_response\u001b[0m\u001b[0;34m(\u001b[0m\u001b[0mTRXhistory_url\u001b[0m\u001b[0;34m,\u001b[0m \u001b[0;34m'TRX'\u001b[0m\u001b[0;34m)\u001b[0m\u001b[0;34m\u001b[0m\u001b[0;34m\u001b[0m\u001b[0m\n\u001b[0m\u001b[1;32m    140\u001b[0m     \u001b[0;31m#SP500 = format_response(SP500history_url, 'SP500')\u001b[0m\u001b[0;34m\u001b[0m\u001b[0;34m\u001b[0m\u001b[0;34m\u001b[0m\u001b[0m\n\u001b[1;32m    141\u001b[0m \u001b[0;34m\u001b[0m\u001b[0m\n",
      "\u001b[0;32m~/work/corr-app/corr-app/_notebooks/scripts/read_data.py\u001b[0m in \u001b[0;36mformat_response\u001b[0;34m(url, fsym)\u001b[0m\n\u001b[1;32m    181\u001b[0m \u001b[0;34m\u001b[0m\u001b[0m\n\u001b[1;32m    182\u001b[0m \u001b[0;32mdef\u001b[0m \u001b[0mformat_response\u001b[0m\u001b[0;34m(\u001b[0m\u001b[0murl\u001b[0m\u001b[0;34m,\u001b[0m \u001b[0mfsym\u001b[0m\u001b[0;34m)\u001b[0m\u001b[0;34m:\u001b[0m\u001b[0;34m\u001b[0m\u001b[0;34m\u001b[0m\u001b[0m\n\u001b[0;32m--> 183\u001b[0;31m     \u001b[0mpd_resp\u001b[0m \u001b[0;34m=\u001b[0m \u001b[0mpd\u001b[0m\u001b[0;34m.\u001b[0m\u001b[0mread_json\u001b[0m\u001b[0;34m(\u001b[0m\u001b[0murl\u001b[0m\u001b[0;34m,\u001b[0m \u001b[0mtyp\u001b[0m\u001b[0;34m=\u001b[0m\u001b[0;34m'series'\u001b[0m\u001b[0;34m)\u001b[0m\u001b[0;34m[\u001b[0m\u001b[0;34m'Data'\u001b[0m\u001b[0;34m]\u001b[0m\u001b[0;34m[\u001b[0m\u001b[0;34m'Data'\u001b[0m\u001b[0;34m]\u001b[0m\u001b[0;34m\u001b[0m\u001b[0;34m\u001b[0m\u001b[0m\n\u001b[0m\u001b[1;32m    184\u001b[0m     \u001b[0mdf_resp\u001b[0m \u001b[0;34m=\u001b[0m \u001b[0mpd\u001b[0m\u001b[0;34m.\u001b[0m\u001b[0mDataFrame\u001b[0m\u001b[0;34m(\u001b[0m\u001b[0mpd_resp\u001b[0m\u001b[0;34m)\u001b[0m\u001b[0;34m\u001b[0m\u001b[0;34m\u001b[0m\u001b[0m\n\u001b[1;32m    185\u001b[0m     \u001b[0mdf_resp\u001b[0m\u001b[0;34m[\u001b[0m\u001b[0;34m'date'\u001b[0m\u001b[0;34m]\u001b[0m \u001b[0;34m=\u001b[0m \u001b[0mpd\u001b[0m\u001b[0;34m.\u001b[0m\u001b[0mto_datetime\u001b[0m\u001b[0;34m(\u001b[0m\u001b[0mdf_resp\u001b[0m\u001b[0;34m.\u001b[0m\u001b[0mtime\u001b[0m\u001b[0;34m,\u001b[0m \u001b[0munit\u001b[0m\u001b[0;34m=\u001b[0m\u001b[0;34m's'\u001b[0m\u001b[0;34m)\u001b[0m\u001b[0;34m\u001b[0m\u001b[0;34m\u001b[0m\u001b[0m\n",
      "\u001b[0;31mKeyError\u001b[0m: 'Data'"
     ]
    }
   ],
   "source": [
    "#hide\n",
    "df_all = read_api()"
   ]
  },
  {
   "cell_type": "code",
   "execution_count": null,
   "id": "built-necklace",
   "metadata": {
    "execution": {
     "iopub.execute_input": "2021-04-13T02:10:28.907623Z",
     "iopub.status.busy": "2021-04-13T02:10:28.898598Z",
     "iopub.status.idle": "2021-04-13T02:10:28.933970Z",
     "shell.execute_reply": "2021-04-13T02:10:28.933026Z"
    },
    "papermill": {
     "duration": null,
     "end_time": null,
     "exception": null,
     "start_time": null,
     "status": "pending"
    },
    "tags": []
   },
   "outputs": [],
   "source": [
    "#hide\n",
    "from IPython.display import HTML"
   ]
  },
  {
   "cell_type": "markdown",
   "id": "miniature-heading",
   "metadata": {
    "papermill": {
     "duration": null,
     "end_time": null,
     "exception": null,
     "start_time": null,
     "status": "pending"
    },
    "tags": []
   },
   "source": [
    "### ETH autokoreliacija"
   ]
  },
  {
   "cell_type": "code",
   "execution_count": null,
   "id": "otherwise-newfoundland",
   "metadata": {
    "execution": {
     "iopub.execute_input": "2021-04-13T02:10:28.988163Z",
     "iopub.status.busy": "2021-04-13T02:10:28.986313Z",
     "iopub.status.idle": "2021-04-13T02:10:29.257788Z",
     "shell.execute_reply": "2021-04-13T02:10:29.257341Z"
    },
    "papermill": {
     "duration": null,
     "end_time": null,
     "exception": null,
     "start_time": null,
     "status": "pending"
    },
    "tags": []
   },
   "outputs": [],
   "source": [
    "#hide_input\n",
    "plt.figure(figsize=(13,11))\n",
    "pd.plotting.autocorrelation_plot(df_all['ETH']);\n",
    "plt.xlabel('');\n",
    "plt.ylabel('Autokoreliacija');"
   ]
  },
  {
   "cell_type": "markdown",
   "id": "guided-breakfast",
   "metadata": {
    "papermill": {
     "duration": null,
     "end_time": null,
     "exception": null,
     "start_time": null,
     "status": "pending"
    },
    "tags": []
   },
   "source": [
    "### BTC autokoreliacija"
   ]
  },
  {
   "cell_type": "code",
   "execution_count": null,
   "id": "disturbed-breed",
   "metadata": {
    "execution": {
     "iopub.execute_input": "2021-04-13T02:10:29.313147Z",
     "iopub.status.busy": "2021-04-13T02:10:29.312556Z",
     "iopub.status.idle": "2021-04-13T02:10:29.558473Z",
     "shell.execute_reply": "2021-04-13T02:10:29.558925Z"
    },
    "papermill": {
     "duration": null,
     "end_time": null,
     "exception": null,
     "start_time": null,
     "status": "pending"
    },
    "tags": []
   },
   "outputs": [],
   "source": [
    "#hide_input\n",
    "plt.figure(figsize=(13,11))\n",
    "pd.plotting.autocorrelation_plot(df_all['BTC']);\n",
    "plt.xlabel('');\n",
    "plt.ylabel('Autokoreliacija');"
   ]
  },
  {
   "cell_type": "markdown",
   "id": "indoor-snapshot",
   "metadata": {
    "papermill": {
     "duration": null,
     "end_time": null,
     "exception": null,
     "start_time": null,
     "status": "pending"
    },
    "tags": []
   },
   "source": [
    "### TRX autokoreliacija"
   ]
  },
  {
   "cell_type": "code",
   "execution_count": null,
   "id": "infinite-philippines",
   "metadata": {
    "execution": {
     "iopub.execute_input": "2021-04-13T02:10:29.617424Z",
     "iopub.status.busy": "2021-04-13T02:10:29.616829Z",
     "iopub.status.idle": "2021-04-13T02:10:29.865331Z",
     "shell.execute_reply": "2021-04-13T02:10:29.864813Z"
    },
    "papermill": {
     "duration": null,
     "end_time": null,
     "exception": null,
     "start_time": null,
     "status": "pending"
    },
    "tags": []
   },
   "outputs": [],
   "source": [
    "#hide_input\n",
    "plt.figure(figsize=(13,11))\n",
    "pd.plotting.autocorrelation_plot(df_all['TRX']);\n",
    "plt.xlabel('');\n",
    "plt.ylabel('Autokoreliacija');"
   ]
  },
  {
   "cell_type": "markdown",
   "id": "assured-psychology",
   "metadata": {
    "papermill": {
     "duration": null,
     "end_time": null,
     "exception": null,
     "start_time": null,
     "status": "pending"
    },
    "tags": []
   },
   "source": [
    "### EOS autokoreliacija"
   ]
  },
  {
   "cell_type": "code",
   "execution_count": null,
   "id": "worst-vietnam",
   "metadata": {
    "execution": {
     "iopub.execute_input": "2021-04-13T02:10:29.932294Z",
     "iopub.status.busy": "2021-04-13T02:10:29.931712Z",
     "iopub.status.idle": "2021-04-13T02:10:30.187194Z",
     "shell.execute_reply": "2021-04-13T02:10:30.187698Z"
    },
    "papermill": {
     "duration": null,
     "end_time": null,
     "exception": null,
     "start_time": null,
     "status": "pending"
    },
    "tags": []
   },
   "outputs": [],
   "source": [
    "#hide_input\n",
    "plt.figure(figsize=(13,11))\n",
    "pd.plotting.autocorrelation_plot(df_all['EOS']);\n",
    "plt.xlabel('');\n",
    "plt.ylabel('Autokoreliacija');"
   ]
  },
  {
   "cell_type": "code",
   "execution_count": null,
   "id": "variable-easter",
   "metadata": {
    "papermill": {
     "duration": null,
     "end_time": null,
     "exception": null,
     "start_time": null,
     "status": "pending"
    },
    "tags": []
   },
   "outputs": [],
   "source": []
  },
  {
   "cell_type": "code",
   "execution_count": null,
   "id": "generous-confusion",
   "metadata": {
    "papermill": {
     "duration": null,
     "end_time": null,
     "exception": null,
     "start_time": null,
     "status": "pending"
    },
    "tags": []
   },
   "outputs": [],
   "source": []
  },
  {
   "cell_type": "code",
   "execution_count": null,
   "id": "remarkable-prophet",
   "metadata": {
    "papermill": {
     "duration": null,
     "end_time": null,
     "exception": null,
     "start_time": null,
     "status": "pending"
    },
    "tags": []
   },
   "outputs": [],
   "source": []
  }
 ],
 "metadata": {
  "kernelspec": {
   "display_name": "Python 3",
   "language": "python",
   "name": "python3"
  },
  "language_info": {
   "codemirror_mode": {
    "name": "ipython",
    "version": 3
   },
   "file_extension": ".py",
   "mimetype": "text/x-python",
   "name": "python",
   "nbconvert_exporter": "python",
   "pygments_lexer": "ipython3",
   "version": "3.6.13"
  },
  "papermill": {
   "default_parameters": {},
   "duration": 61.325312,
   "end_time": "2021-04-14T02:07:03.227494",
   "environment_variables": {},
   "exception": true,
   "input_path": "App-autocorrelation.ipynb",
   "output_path": "App-autocorrelation.ipynb",
   "parameters": {},
   "start_time": "2021-04-14T02:06:01.902182",
   "version": "2.2.2"
  }
 },
 "nbformat": 4,
 "nbformat_minor": 5
}