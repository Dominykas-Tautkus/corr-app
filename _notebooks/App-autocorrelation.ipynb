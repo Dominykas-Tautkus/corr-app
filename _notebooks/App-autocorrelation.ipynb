{
 "cells": [
  {
   "cell_type": "markdown",
   "metadata": {},
   "source": [
    "# Autokoreliacija\n",
    "> Kriptovaliutu ir ICO autokoreliacija\n",
    "\n",
    "- toc: true \n",
    "- badges: true\n",
    "- comments: false\n",
    "- categories: [jupyter]\n",
    "- image: images/screenshot4.png"
   ]
  },
  {
   "cell_type": "code",
   "execution_count": 2,
   "metadata": {},
   "outputs": [
    {
     "name": "stdout",
     "output_type": "stream",
     "text": [
      "The autoreload extension is already loaded. To reload it, use:\n",
      "  %reload_ext autoreload\n"
     ]
    }
   ],
   "source": [
    "#hide\n",
    "%load_ext autoreload\n",
    "%autoreload 2\n",
    "import plotly.graph_objects as go\n",
    "import pandas as pd\n",
    "import matplotlib.pyplot as plt\n",
    "import plotly.express as px\n",
    "from scripts.read_data import read_api\n",
    "import seaborn as sns\n",
    "sns.set() \n"
   ]
  },
  {
   "cell_type": "code",
   "execution_count": 3,
   "metadata": {},
   "outputs": [
    {
     "name": "stderr",
     "output_type": "stream",
     "text": [
      "/Users/Dom/Documents/Bachelor/corr-app/_notebooks/scripts/read_data.py:153: SettingWithCopyWarning: \n",
      "A value is trying to be set on a copy of a slice from a DataFrame.\n",
      "Try using .loc[row_indexer,col_indexer] = value instead\n",
      "\n",
      "See the caveats in the documentation: https://pandas.pydata.org/pandas-docs/stable/user_guide/indexing.html#returning-a-view-versus-a-copy\n",
      "  df_final['currency'] = df_final.apply(lambda row: fsym, axis=1)\n"
     ]
    },
    {
     "data": {
      "text/html": [
       "<div>\n",
       "<style scoped>\n",
       "    .dataframe tbody tr th:only-of-type {\n",
       "        vertical-align: middle;\n",
       "    }\n",
       "\n",
       "    .dataframe tbody tr th {\n",
       "        vertical-align: top;\n",
       "    }\n",
       "\n",
       "    .dataframe thead th {\n",
       "        text-align: right;\n",
       "    }\n",
       "</style>\n",
       "<table border=\"1\" class=\"dataframe\">\n",
       "  <thead>\n",
       "    <tr style=\"text-align: right;\">\n",
       "      <th>currency</th>\n",
       "      <th>ADA</th>\n",
       "      <th>BTC</th>\n",
       "      <th>EOS</th>\n",
       "      <th>ETH</th>\n",
       "      <th>LSK</th>\n",
       "      <th>NEO</th>\n",
       "      <th>SP500</th>\n",
       "      <th>TRX</th>\n",
       "      <th>XAU</th>\n",
       "      <th>XRP</th>\n",
       "    </tr>\n",
       "    <tr>\n",
       "      <th>date</th>\n",
       "      <th></th>\n",
       "      <th></th>\n",
       "      <th></th>\n",
       "      <th></th>\n",
       "      <th></th>\n",
       "      <th></th>\n",
       "      <th></th>\n",
       "      <th></th>\n",
       "      <th></th>\n",
       "      <th></th>\n",
       "    </tr>\n",
       "  </thead>\n",
       "  <tbody>\n",
       "    <tr>\n",
       "      <th>2015-06-05</th>\n",
       "      <td>0.0000</td>\n",
       "      <td>225.29</td>\n",
       "      <td>0.000</td>\n",
       "      <td>0.00</td>\n",
       "      <td>0.000</td>\n",
       "      <td>0.00</td>\n",
       "      <td>0.0</td>\n",
       "      <td>0.00000</td>\n",
       "      <td>152.00</td>\n",
       "      <td>0.007860</td>\n",
       "    </tr>\n",
       "    <tr>\n",
       "      <th>2015-06-06</th>\n",
       "      <td>0.0000</td>\n",
       "      <td>224.74</td>\n",
       "      <td>0.000</td>\n",
       "      <td>0.00</td>\n",
       "      <td>0.000</td>\n",
       "      <td>0.00</td>\n",
       "      <td>0.0</td>\n",
       "      <td>0.00000</td>\n",
       "      <td>152.00</td>\n",
       "      <td>0.007843</td>\n",
       "    </tr>\n",
       "    <tr>\n",
       "      <th>2015-06-07</th>\n",
       "      <td>0.0000</td>\n",
       "      <td>223.47</td>\n",
       "      <td>0.000</td>\n",
       "      <td>0.00</td>\n",
       "      <td>0.000</td>\n",
       "      <td>0.00</td>\n",
       "      <td>0.0</td>\n",
       "      <td>0.00000</td>\n",
       "      <td>152.00</td>\n",
       "      <td>0.007882</td>\n",
       "    </tr>\n",
       "    <tr>\n",
       "      <th>2015-06-08</th>\n",
       "      <td>0.0000</td>\n",
       "      <td>228.57</td>\n",
       "      <td>0.000</td>\n",
       "      <td>0.00</td>\n",
       "      <td>0.000</td>\n",
       "      <td>0.00</td>\n",
       "      <td>0.0</td>\n",
       "      <td>0.00000</td>\n",
       "      <td>152.00</td>\n",
       "      <td>0.007968</td>\n",
       "    </tr>\n",
       "    <tr>\n",
       "      <th>2015-06-09</th>\n",
       "      <td>0.0000</td>\n",
       "      <td>229.56</td>\n",
       "      <td>0.000</td>\n",
       "      <td>0.00</td>\n",
       "      <td>0.000</td>\n",
       "      <td>0.00</td>\n",
       "      <td>0.0</td>\n",
       "      <td>0.00000</td>\n",
       "      <td>152.00</td>\n",
       "      <td>0.008023</td>\n",
       "    </tr>\n",
       "    <tr>\n",
       "      <th>...</th>\n",
       "      <td>...</td>\n",
       "      <td>...</td>\n",
       "      <td>...</td>\n",
       "      <td>...</td>\n",
       "      <td>...</td>\n",
       "      <td>...</td>\n",
       "      <td>...</td>\n",
       "      <td>...</td>\n",
       "      <td>...</td>\n",
       "      <td>...</td>\n",
       "    </tr>\n",
       "    <tr>\n",
       "      <th>2020-11-21</th>\n",
       "      <td>0.1338</td>\n",
       "      <td>18704.06</td>\n",
       "      <td>3.228</td>\n",
       "      <td>552.26</td>\n",
       "      <td>1.292</td>\n",
       "      <td>18.33</td>\n",
       "      <td>3615.7</td>\n",
       "      <td>0.03062</td>\n",
       "      <td>1879.75</td>\n",
       "      <td>0.463100</td>\n",
       "    </tr>\n",
       "    <tr>\n",
       "      <th>2020-11-22</th>\n",
       "      <td>0.1460</td>\n",
       "      <td>18430.59</td>\n",
       "      <td>3.063</td>\n",
       "      <td>560.01</td>\n",
       "      <td>1.228</td>\n",
       "      <td>17.18</td>\n",
       "      <td>3615.7</td>\n",
       "      <td>0.02881</td>\n",
       "      <td>1879.75</td>\n",
       "      <td>0.446100</td>\n",
       "    </tr>\n",
       "    <tr>\n",
       "      <th>2020-11-23</th>\n",
       "      <td>0.1544</td>\n",
       "      <td>18385.74</td>\n",
       "      <td>3.379</td>\n",
       "      <td>609.13</td>\n",
       "      <td>1.329</td>\n",
       "      <td>19.12</td>\n",
       "      <td>3615.7</td>\n",
       "      <td>0.03167</td>\n",
       "      <td>1879.75</td>\n",
       "      <td>0.617500</td>\n",
       "    </tr>\n",
       "    <tr>\n",
       "      <th>2020-11-24</th>\n",
       "      <td>0.1673</td>\n",
       "      <td>19157.16</td>\n",
       "      <td>3.594</td>\n",
       "      <td>604.98</td>\n",
       "      <td>1.524</td>\n",
       "      <td>20.50</td>\n",
       "      <td>3615.7</td>\n",
       "      <td>0.03511</td>\n",
       "      <td>1879.75</td>\n",
       "      <td>0.694000</td>\n",
       "    </tr>\n",
       "    <tr>\n",
       "      <th>2020-11-25</th>\n",
       "      <td>0.1709</td>\n",
       "      <td>19290.20</td>\n",
       "      <td>3.550</td>\n",
       "      <td>602.91</td>\n",
       "      <td>1.543</td>\n",
       "      <td>20.42</td>\n",
       "      <td>3615.7</td>\n",
       "      <td>0.03595</td>\n",
       "      <td>1879.75</td>\n",
       "      <td>0.681800</td>\n",
       "    </tr>\n",
       "  </tbody>\n",
       "</table>\n",
       "<p>2001 rows × 10 columns</p>\n",
       "</div>"
      ],
      "text/plain": [
       "currency       ADA       BTC    EOS     ETH    LSK    NEO   SP500      TRX  \\\n",
       "date                                                                         \n",
       "2015-06-05  0.0000    225.29  0.000    0.00  0.000   0.00     0.0  0.00000   \n",
       "2015-06-06  0.0000    224.74  0.000    0.00  0.000   0.00     0.0  0.00000   \n",
       "2015-06-07  0.0000    223.47  0.000    0.00  0.000   0.00     0.0  0.00000   \n",
       "2015-06-08  0.0000    228.57  0.000    0.00  0.000   0.00     0.0  0.00000   \n",
       "2015-06-09  0.0000    229.56  0.000    0.00  0.000   0.00     0.0  0.00000   \n",
       "...            ...       ...    ...     ...    ...    ...     ...      ...   \n",
       "2020-11-21  0.1338  18704.06  3.228  552.26  1.292  18.33  3615.7  0.03062   \n",
       "2020-11-22  0.1460  18430.59  3.063  560.01  1.228  17.18  3615.7  0.02881   \n",
       "2020-11-23  0.1544  18385.74  3.379  609.13  1.329  19.12  3615.7  0.03167   \n",
       "2020-11-24  0.1673  19157.16  3.594  604.98  1.524  20.50  3615.7  0.03511   \n",
       "2020-11-25  0.1709  19290.20  3.550  602.91  1.543  20.42  3615.7  0.03595   \n",
       "\n",
       "currency        XAU       XRP  \n",
       "date                           \n",
       "2015-06-05   152.00  0.007860  \n",
       "2015-06-06   152.00  0.007843  \n",
       "2015-06-07   152.00  0.007882  \n",
       "2015-06-08   152.00  0.007968  \n",
       "2015-06-09   152.00  0.008023  \n",
       "...             ...       ...  \n",
       "2020-11-21  1879.75  0.463100  \n",
       "2020-11-22  1879.75  0.446100  \n",
       "2020-11-23  1879.75  0.617500  \n",
       "2020-11-24  1879.75  0.694000  \n",
       "2020-11-25  1879.75  0.681800  \n",
       "\n",
       "[2001 rows x 10 columns]"
      ]
     },
     "execution_count": 3,
     "metadata": {},
     "output_type": "execute_result"
    }
   ],
   "source": [
    "#hide\n",
    "df_all = read_api()\n",
    "df_all"
   ]
  },
  {
   "cell_type": "code",
   "execution_count": 5,
   "metadata": {},
   "outputs": [],
   "source": [
    "#hide\n",
    "from IPython.display import HTML"
   ]
  },
  {
   "cell_type": "markdown",
   "metadata": {},
   "source": [
    "### ETH autokoreliacija"
   ]
  },
  {
   "cell_type": "code",
   "execution_count": 6,
   "metadata": {},
   "outputs": [
    {
     "data": {
      "image/png": "[encoded data removed]",
      "text/plain": [
       "<Figure size 432x288 with 1 Axes>"
      ]
     },
     "metadata": {},
     "output_type": "display_data"
    }
   ],
   "source": [
    "#hide_input\n",
    "pd.plotting.autocorrelation_plot(df_all['ETH']);\n",
    "plt.xlabel('Lagas');\n",
    "plt.ylabel('Autokoreliacija');"
   ]
  },
  {
   "cell_type": "markdown",
   "metadata": {},
   "source": [
    "### BTC autokoreliacija"
   ]
  },
  {
   "cell_type": "code",
   "execution_count": 8,
   "metadata": {},
   "outputs": [
    {
     "data": {
      "image/png": "[encoded data removed]",
      "text/plain": [
       "<Figure size 432x288 with 1 Axes>"
      ]
     },
     "metadata": {},
     "output_type": "display_data"
    }
   ],
   "source": [
    "#hide_input\n",
    "pd.plotting.autocorrelation_plot(df_all['BTC']);\n",
    "plt.xlabel('Lagas');\n",
    "plt.ylabel('Autokoreliacija');"
   ]
  },
  {
   "cell_type": "markdown",
   "metadata": {},
   "source": [
    "### TRX autokoreliacija"
   ]
  },
  {
   "cell_type": "code",
   "execution_count": 9,
   "metadata": {},
   "outputs": [
    {
     "data": {
      "image/png": "[encoded data removed]",
      "text/plain": [
       "<Figure size 432x288 with 1 Axes>"
      ]
     },
     "metadata": {},
     "output_type": "display_data"
    }
   ],
   "source": [
    "#hide_input\n",
    "pd.plotting.autocorrelation_plot(df_all['TRX']);\n",
    "plt.xlabel('Lagas');\n",
    "plt.ylabel('Autokoreliacija');"
   ]
  },
  {
   "cell_type": "markdown",
   "metadata": {},
   "source": [
    "### EOS autokoreliacija"
   ]
  },
  {
   "cell_type": "code",
   "execution_count": 10,
   "metadata": {},
   "outputs": [
    {
     "data": {
      "image/png": "[encoded data removed]",
      "text/plain": [
       "<Figure size 432x288 with 1 Axes>"
      ]
     },
     "metadata": {},
     "output_type": "display_data"
    }
   ],
   "source": [
    "#hide_input\n",
    "pd.plotting.autocorrelation_plot(df_all['EOS']);\n",
    "plt.xlabel('Lagas');\n",
    "plt.ylabel('Autokoreliacija');"
   ]
  },
  {
   "cell_type": "code",
   "execution_count": null,
   "metadata": {},
   "outputs": [],
   "source": []
  },
  {
   "cell_type": "code",
   "execution_count": null,
   "metadata": {},
   "outputs": [],
   "source": []
  },
  {
   "cell_type": "code",
   "execution_count": null,
   "metadata": {},
   "outputs": [],
   "source": []
  },
  {
   "cell_type": "code",
   "execution_count": null,
   "metadata": {},
   "outputs": [],
   "source": []
  },
  {
   "cell_type": "code",
   "execution_count": null,
   "metadata": {},
   "outputs": [],
   "source": []
  },
  {
   "cell_type": "code",
   "execution_count": null,
   "metadata": {},
   "outputs": [],
   "source": []
  },
  {
   "cell_type": "code",
   "execution_count": null,
   "metadata": {},
   "outputs": [],
   "source": []
  },
  {
   "cell_type": "code",
   "execution_count": null,
   "metadata": {},
   "outputs": [],
   "source": []
  }
 ],
 "metadata": {
  "kernelspec": {
   "display_name": "Python 3",
   "language": "python",
   "name": "python3"
  },
  "language_info": {
   "codemirror_mode": {
    "name": "ipython",
    "version": 3
   },
   "file_extension": ".py",
   "mimetype": "text/x-python",
   "name": "python",
   "nbconvert_exporter": "python",
   "pygments_lexer": "ipython3",
   "version": "3.8.5"
  }
 },
 "nbformat": 4,
 "nbformat_minor": 4
}
